{
 "cells": [
  {
   "cell_type": "markdown",
   "metadata": {},
   "source": [
    "# Laptop Lab"
   ]
  },
  {
   "cell_type": "markdown",
   "metadata": {},
   "source": [
    "---"
   ]
  },
  {
   "cell_type": "markdown",
   "metadata": {},
   "source": [
    "```{tableofcontents}\n",
    "```"
   ]
  },
  {
   "cell_type": "markdown",
   "metadata": {},
   "source": [
    "---"
   ]
  },
  {
   "cell_type": "markdown",
   "metadata": {},
   "source": [
    "Thank you for inspiring me.\n",
    "* [ [h](http://davidagler.com) ][ w ] David Agler\n",
    "* [ [h](https://science.psu.edu/math/people/ccb102) ][ w ] Christopher Byrne\n",
    "* [ h ][ [w](https://en.wikipedia.org/wiki/Emily_Grosholz) ] Emily Grosholz\n",
    "* [ [h](https://sites.psu.edu/moore/) ][ w ] Christopher Moore\n",
    "* [ [h](https://personal.science.psu.edu/dps7/) ][ w ] Donald Schneider"
   ]
  },
  {
   "cell_type": "markdown",
   "metadata": {},
   "source": [
    "---"
   ]
  }
 ],
 "metadata": {
  "language_info": {
   "name": "python"
  }
 },
 "nbformat": 4,
 "nbformat_minor": 2
}
