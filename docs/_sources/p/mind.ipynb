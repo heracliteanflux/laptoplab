{
 "cells": [
  {
   "attachments": {},
   "cell_type": "markdown",
   "metadata": {},
   "source": [
    "# Philosophy of Mind & Consciousness"
   ]
  },
  {
   "attachments": {},
   "cell_type": "markdown",
   "metadata": {},
   "source": [
    "---"
   ]
  },
  {
   "attachments": {},
   "cell_type": "markdown",
   "metadata": {},
   "source": [
    "## Figures"
   ]
  },
  {
   "attachments": {},
   "cell_type": "markdown",
   "metadata": {},
   "source": [
    "* [[W](https://en.wikipedia.org/wiki/David_Chalmers)] Chalmers, David (1966-)\n",
    "* [W] Hoffman, Donald\n",
    "  * https://www.youtube.com/watch?v=reYdQYZ9Rj4"
   ]
  },
  {
   "attachments": {},
   "cell_type": "markdown",
   "metadata": {},
   "source": [
    "---"
   ]
  },
  {
   "attachments": {},
   "cell_type": "markdown",
   "metadata": {},
   "source": [
    "## Terms"
   ]
  },
  {
   "attachments": {},
   "cell_type": "markdown",
   "metadata": {},
   "source": [
    "* [[W](https://en.wikipedia.org/wiki/Conation)] Conation\n",
    "* [W][[S](https://plato.stanford.edu/entries/consciousness/)] Consciousness\n",
    "* [W][[S](https://plato.stanford.edu/entries/leibniz-mind/)] Leibniz' Philosophy of Mind\n",
    "* [W] Mind\n",
    "* [W][[S](https://plato.stanford.edu/entries/perception-contents/)] Perception, Contents\n",
    "* [W][[S](https://plato.stanford.edu/entries/perception-problem/)] Perception, Problem\n",
    "* [W] Philosophy of Mind\n",
    "* [W][[S](https://plato.stanford.edu/entries/neuroscience/)] Philosophy of Neuroscience\n",
    "* [W][[S](https://plato.stanford.edu/entries/qualia/)] Qualia\n",
    "* [W][[S](https://plato.stanford.edu/entries/qualia-inverted/)] Qualia, Inverted\n",
    "* [W][[S](https://plato.stanford.edu/entries/consciousness-unity/)] Unity of Consciousness"
   ]
  },
  {
   "attachments": {},
   "cell_type": "markdown",
   "metadata": {},
   "source": [
    "---"
   ]
  }
 ],
 "metadata": {
  "language_info": {
   "name": "python"
  },
  "orig_nbformat": 4
 },
 "nbformat": 4,
 "nbformat_minor": 2
}
