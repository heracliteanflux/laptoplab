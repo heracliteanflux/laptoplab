{
 "cells": [
  {
   "attachments": {},
   "cell_type": "markdown",
   "metadata": {},
   "source": [
    "# Metaphysics & Ontology"
   ]
  },
  {
   "attachments": {},
   "cell_type": "markdown",
   "metadata": {},
   "source": [
    "---"
   ]
  },
  {
   "attachments": {},
   "cell_type": "markdown",
   "metadata": {},
   "source": [
    "```{admonition} Revised\n",
    "14 Jul 2023\n",
    "```\n",
    "```{contents}\n",
    "```"
   ]
  },
  {
   "attachments": {},
   "cell_type": "markdown",
   "metadata": {},
   "source": [
    "---"
   ]
  },
  {
   "cell_type": "markdown",
   "metadata": {},
   "source": [
    "## Aristotle and Ontology"
   ]
  },
  {
   "cell_type": "markdown",
   "metadata": {},
   "source": [
    "Metaphysics: comes with or after (meta) the study of nature (phusis).\n",
    "\n",
    "Ontology is the account (logos) of being (on).\n",
    "\n",
    "* What is change? How does it contribute to ontology?\n",
    "* What is being? the principles of being\n",
    "* What sort of being does change have? the being of change\n",
    "* What does change tell us about being?\n",
    "\n",
    "Certain things must be true of being for change to exist. For change to exist, what must being be like?\n",
    "* Change has a different sort of being than objects do: being is diverse in kind\n",
    "* The being of change is the same as everything else: being cannot be defined as something unchanging\n",
    "\n",
    "concepts\n",
    "* material\n",
    "* form\n",
    "* potency\n",
    "* activity\n",
    "* fulfillment\n",
    "* source"
   ]
  },
  {
   "cell_type": "markdown",
   "metadata": {},
   "source": [
    "Ontology of change\n",
    "1. being is many in aspect\n",
    "2. being a source of change (potency) vs the accomplishment (telos) toward which that thing is oriented (activity)\n",
    "\n",
    "I Physics I\n",
    "* sources are ontologically multiple\n",
    "* analysis of coming-to-be (genesis)\n",
    "* Monists: change is the coming-to-be of something that was not, but since nothing can come from non being, and what already is in being cannot come to be what it already is, change must be impossible; it mixes being and non being\n",
    "* the monists generalized all difference by conflating it with non being: all that is must be the same\n",
    "* three elements of change: form, material, privation\n",
    "* a particular form comes-to-be out of what is, and its predecessor only happens not to be that form\n",
    "* categorical being is multiple\n",
    "\n",
    "II Physics III.1-2\n",
    "* Aristotle's definition of, and argument for, change\n",
    "\n",
    "[1] To define change, a distinction between categorical being and energetic being\n",
    "\n",
    "[2] potent being (to dunamei on) is an independent being that remains itself even when it is actively at work\n",
    "\n",
    "[3] The definition of change doubles as a demonstration of its existence"
   ]
  },
  {
   "cell_type": "markdown",
   "metadata": {},
   "source": [
    "---"
   ]
  },
  {
   "attachments": {},
   "cell_type": "markdown",
   "metadata": {},
   "source": [
    "## Figures"
   ]
  },
  {
   "cell_type": "markdown",
   "metadata": {},
   "source": [
    "* [[W](https://en.wikipedia.org/wiki/David_Malet_Armstrong)] Armstrong, David (1926-2014)\n",
    "* [[W](https://en.wikipedia.org/wiki/Franz_Brentano)] Brentano, Franz (1838-1970)\n",
    "* [[W](https://en.wikipedia.org/wiki/H%C3%A9ctor-Neri_Casta%C3%B1eda)] Castañeda, Héctor-Neri (1924-1991)\n",
    "* [[W](https://en.wikipedia.org/wiki/Michael_Dummett)] Dummett, Michael (1925-2011)\n",
    "* [[W](https://en.wikipedia.org/wiki/Branden_Fitelson)] Fitelson, Branden (1969-)\n",
    "* [[W](https://en.wikipedia.org/wiki/Nicolai_Hartmann)] Hartmann, Nicolai (1882-1950)\n",
    "* [[W](https://en.wikipedia.org/wiki/David_Hume)] Hume, David (1711-1776)\n",
    "* [[W](https://en.wikipedia.org/wiki/Immanuel_Kant)] Kant, Immanuel (1724-1804)\n",
    "* [[W](https://en.wikipedia.org/wiki/Martin_Heidegger)] Heidegger, Martin (1889-1976)\n",
    "  * [[W](https://en.wikipedia.org/wiki/Being_and_Time)] (1927) _Being and Time_\n",
    "* [[W](https://en.wikipedia.org/wiki/Alexius_Meinong)] Meinong, Alexius (1853-1920)\n",
    "* [[W](https://en.wikipedia.org/wiki/Edward_N._Zalta)] Zalta, Edward (1952-)"
   ]
  },
  {
   "attachments": {},
   "cell_type": "markdown",
   "metadata": {},
   "source": [
    "---"
   ]
  },
  {
   "attachments": {},
   "cell_type": "markdown",
   "metadata": {},
   "source": [
    "## Terms"
   ]
  },
  {
   "attachments": {},
   "cell_type": "markdown",
   "metadata": {},
   "source": [
    "* [[W](https://en.wikipedia.org/wiki/Abstract_and_concrete)] Abstract\n",
    "* [[W](https://en.wikipedia.org/wiki/Abstract_object_theory)] Abstract Object Theory\n",
    "* [[W](https://en.wikipedia.org/wiki/Accident_(philosophy))] Accident\n",
    "* [[W](https://en.wikipedia.org/wiki/Actualism)] Actualism\n",
    "* [[W](https://en.wikipedia.org/wiki/Potentiality_and_actuality)] Actuality\n",
    "* [[W](https://en.wikipedia.org/wiki/Alethic_modality)] Alethic Modality\n",
    "* [[W](https://en.wikipedia.org/wiki/Anti-realism)] Anti Realism\n",
    "* [[W](https://en.wikipedia.org/wiki/Antireductionism)] Anti Reductionism\n",
    "* [[W](https://en.wikipedia.org/wiki/Bundle_theory)] Bundle Theory\n",
    "* [[W](https://en.wikipedia.org/wiki/Causality)] Causality\n",
    "* [[W](https://en.wikipedia.org/wiki/Class_(knowledge_representation))] Class, knowledge representation\n",
    "* [[W](https://en.wikipedia.org/wiki/Composition_(objects))] Compositional Object\n",
    "* [[W](https://en.wikipedia.org/wiki/Abstract_and_concrete)] Concrete\n",
    "* [[W](https://en.wikipedia.org/wiki/Dasein)] Dasein\n",
    "* [[W](https://en.wikipedia.org/wiki/Domain_of_discourse)] Domain of Discourse\n",
    "* [[W](https://en.wikipedia.org/wiki/Emergence)] Emergence\n",
    "* [[W](https://en.wikipedia.org/wiki/Endurantism)] Endurantism\n",
    "* [[W](https://en.wikipedia.org/wiki/Energy)] Energy\n",
    "* [[W](https://en.wikipedia.org/wiki/Essence)] Essence\n",
    "* [[W](https://en.wikipedia.org/wiki/Eternalism_(philosophy_of_time))] Eternalism\n",
    "* [[W](https://en.wikipedia.org/wiki/Event_(philosophy))] Event\n",
    "* [[W](https://en.wikipedia.org/wiki/Existence)] Existence\n",
    "* [[W](https://en.wikipedia.org/wiki/Fact)] Fact\n",
    "* [[W](https://en.wikipedia.org/wiki/Force)] Force\n",
    "* [[W](https://en.wikipedia.org/wiki/Formal_ontology)] Formal Ontology\n",
    "* [[W](https://en.wikipedia.org/wiki/Four-dimensionalism)] Four-Dimensionalism\n",
    "* [[W](https://en.wikipedia.org/wiki/Fundamental_ontology)] Fundamental Ontology\n",
    "* [[W](https://en.wikipedia.org/wiki/Genus)] Genus\n",
    "* [[W](https://en.wikipedia.org/wiki/Grounding_(metaphysics))] Grounding\n",
    "* [[W](https://en.wikipedia.org/wiki/Gunk_(mereology))] Gunk\n",
    "* [[W](https://en.wikipedia.org/wiki/Idealism)] Idealism\n",
    "* [[W](https://en.wikipedia.org/wiki/Identity_(philosophy))] Identity\n",
    "* [[W](https://en.wikipedia.org/wiki/Integrative_level)] Integrative Level\n",
    "* [[W](https://en.wikipedia.org/wiki/Matter)] Matter\n",
    "* [[W](https://en.wikipedia.org/wiki/Meontology)] Meontology [μη \"non\"]\n",
    "* [[W](https://en.wikipedia.org/wiki/Mereological_essentialism)] Mereological Essentialism\n",
    "* [[W](https://en.wikipedia.org/wiki/Mereological_nihilism)] Mereological Nihilism\n",
    "* [[W](https://en.wikipedia.org/wiki/Mereology)][[S](https://plato.stanford.edu/entries/mereology/)] Mereology [μερος \"part\"]\n",
    "* [[W](https://en.wikipedia.org/wiki/Mereotopology)] Mereotopology\n",
    "* [[W](https://en.wikipedia.org/wiki/Meronomy)] Meron\n",
    "* [[W](https://en.wikipedia.org/wiki/Meronomy)] Meronomy\n",
    "* [[W](https://en.wikipedia.org/wiki/Meronymy_and_holonymy)] Meronymy [μερος \"part\" ονυμα \"name\"]\n",
    "* [[W](https://en.wikipedia.org/wiki/Meta-ontology)] Metaontology\n",
    "* [[W](https://en.wikipedia.org/wiki/Metaphysics)] Metaphysics\n",
    "* [[W](https://en.wikipedia.org/wiki/Modal_realism)] Modal Realism\n",
    "* [[W](https://en.wikipedia.org/wiki/Modality_(linguistics))] Modality\n",
    "* [[W](https://en.wikipedia.org/wiki/Monad_(philosophy))] Monad\n",
    "* [[W](https://en.wikipedia.org/wiki/Monism)] Monism\n",
    "* [[W](https://en.wikipedia.org/wiki/Motion)] Motion\n",
    "* [[W](https://en.wikipedia.org/wiki/Nominalism)] Nominalism\n",
    "* [[W](https://en.wikipedia.org/wiki/Noneism)] Noneism\n",
    "* [[W](https://en.wikipedia.org/wiki/Nonexistent_objects)] Nonexistent Object\n",
    "* [[W](https://en.wikipedia.org/wiki/Noumenon)] Noumenon [νοουμενον]\n",
    "* [[W](https://en.wikipedia.org/wiki/Object_(philosophy))] Object\n",
    "* [[W](https://en.wikipedia.org/wiki/Object_of_the_mind)] Object of the Mind\n",
    "* [[W](https://en.wikipedia.org/wiki/Ontic)] Ontic [οντος \"of that which is\"]\n",
    "* [[W](https://en.wikipedia.org/wiki/Ontological_commitment)] Ontological Commitment\n",
    "* [[W](https://en.wikipedia.org/wiki/Ontologism)] Ontologism\n",
    "* [[W](https://en.wikipedia.org/wiki/Ontology)] Ontology\n",
    "* [[W](https://en.wikipedia.org/wiki/Ontology_components)] Ontology, components\n",
    "* [[W](https://en.wikipedia.org/wiki/Ontology_(information_science))] Ontology, information science\n",
    "* [[W](https://en.wikipedia.org/wiki/Ontology_language)] Ontology, language\n",
    "* [[W](https://en.wikipedia.org/wiki/Ousia)] Ousia [ουσια]\n",
    "* [[W](https://en.wikipedia.org/wiki/Meronomy)] Partonomy\n",
    "* [[W](https://en.wikipedia.org/wiki/Perdurantism)] Perdurantism\n",
    "* [[W](https://en.wikipedia.org/wiki/Phenomenon)] Phenomenon\n",
    "* [[W](https://en.wikipedia.org/wiki/Philosophical_presentism)] Philosophical Presentism\n",
    "* [[W](https://en.wikipedia.org/wiki/Philosophy_of_space_and_time)] Philosophy of Time\n",
    "* [[W](https://en.wikipedia.org/wiki/Physicalism)] Physicalism\n",
    "* [[W](https://en.wikipedia.org/wiki/Pluralism_(philosophy))] Pluralism\n",
    "* [[W](https://en.wikipedia.org/wiki/Actualism)] Possibilism\n",
    "* [[W](https://en.wikipedia.org/wiki/Potentiality_and_actuality)] Potentiality\n",
    "* [[W](https://en.wikipedia.org/wiki/Problem_of_universals)] Problem of Universals\n",
    "* [[W](https://en.wikipedia.org/wiki/Process_ontology)] Process Ontology\n",
    "* [[W](https://en.wikipedia.org/wiki/Process_philosophy)] Process Philosophy\n",
    "* [[W](https://en.wikipedia.org/wiki/Property_(philosophy))] Property\n",
    "* [[W](https://en.wikipedia.org/wiki/Possible_world)] Possible World\n",
    "* [[W](https://en.wikipedia.org/wiki/Quality_(philosophy))] Quality\n",
    "* [[W](https://en.wikipedia.org/wiki/Quantity)] Quantity\n",
    "* [W] Realism\n",
    "* [[W](https://en.wikipedia.org/wiki/Reality)] Reality\n",
    "* [W] Reductionism\n",
    "* [[W](https://en.wikipedia.org/wiki/Reism)] Reism\n",
    "* [[W](https://en.wikipedia.org/wiki/Relations_(philosophy))] Relation\n",
    "* [[W](https://en.wikipedia.org/wiki/Simple_(philosophy))] Simple\n",
    "* [[W](https://en.wikipedia.org/wiki/Space)] Space\n",
    "* [[W](https://en.wikipedia.org/wiki/Species)] Species\n",
    "* [[W](https://en.wikipedia.org/wiki/State_of_affairs_(philosophy))] State\n",
    "* [[W](https://en.wikipedia.org/wiki/Subject_(philosophy))] Subject\n",
    "* [[W](https://en.wikipedia.org/wiki/Substance_theory)] Susbtance\n",
    "* [[W](https://en.wikipedia.org/wiki/Substance_theory)] Substance Theory\n",
    "* [[W](https://en.wikipedia.org/wiki/Temporal_parts)] Temporal Parts\n",
    "* [[W](https://en.wikipedia.org/wiki/Theory_of_categories)] Theory of Categories\n",
    "* [[W](https://en.wikipedia.org/wiki/Thing-in-itself)] Thing-in-itself\n",
    "* [[W](https://en.wikipedia.org/wiki/Time)] Time\n",
    "* [[W](https://en.wikipedia.org/wiki/Trope_(philosophy))] Trope [τροπος \"turn\"]\n",
    "* [[W](https://en.wikipedia.org/wiki/Upper_ontology)] Upper Ontology"
   ]
  },
  {
   "attachments": {},
   "cell_type": "markdown",
   "metadata": {},
   "source": [
    "---"
   ]
  }
 ],
 "metadata": {
  "language_info": {
   "name": "python"
  },
  "orig_nbformat": 4
 },
 "nbformat": 4,
 "nbformat_minor": 2
}
