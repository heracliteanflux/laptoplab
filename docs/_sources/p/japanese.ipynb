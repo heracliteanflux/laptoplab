{
 "cells": [
  {
   "cell_type": "markdown",
   "metadata": {},
   "source": [
    "# Japanese Philosophy"
   ]
  },
  {
   "cell_type": "markdown",
   "metadata": {},
   "source": [
    "---"
   ]
  },
  {
   "cell_type": "markdown",
   "metadata": {},
   "source": [
    "## Figures"
   ]
  },
  {
   "cell_type": "markdown",
   "metadata": {},
   "source": [
    "* [[W](https://en.wikipedia.org/wiki/Murasaki_Shikibu)] Shikibu, Murasaki\n",
    "  * [[W](https://en.wikipedia.org/wiki/Hikaru_Genji)] Hikaru Genji\n",
    "  * [[W](https://en.wikipedia.org/wiki/The_Diary_of_Lady_Murasaki)] _The Diary of Lady Murasaki_\n",
    "  * [[W](https://en.wikipedia.org/wiki/The_Tale_of_Genji)] _The Tale of Genji_"
   ]
  },
  {
   "cell_type": "markdown",
   "metadata": {},
   "source": [
    "---"
   ]
  },
  {
   "cell_type": "markdown",
   "metadata": {},
   "source": [
    "## Terms"
   ]
  },
  {
   "cell_type": "markdown",
   "metadata": {},
   "source": [
    "* [[W](https://en.wikipedia.org/wiki/Hikaru_Genji)] Japanese Poetry\n",
    "* [[W](https://en.wikipedia.org/wiki/Kyoto_School)] Kyoto School"
   ]
  },
  {
   "cell_type": "markdown",
   "metadata": {},
   "source": [
    "* [[W](https://en.wikipedia.org/wiki/Nurarihyon)] Nurarihyon\n",
    "* [[W](https://en.wikipedia.org/wiki/Y%C5%8Dkai)] Yokai"
   ]
  },
  {
   "cell_type": "markdown",
   "metadata": {},
   "source": [
    "---"
   ]
  }
 ],
 "metadata": {
  "language_info": {
   "name": "python"
  },
  "orig_nbformat": 4
 },
 "nbformat": 4,
 "nbformat_minor": 2
}
