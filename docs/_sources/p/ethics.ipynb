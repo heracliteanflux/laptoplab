{
 "cells": [
  {
   "attachments": {},
   "cell_type": "markdown",
   "metadata": {},
   "source": [
    "# Ethics"
   ]
  },
  {
   "attachments": {},
   "cell_type": "markdown",
   "metadata": {},
   "source": [
    "---"
   ]
  },
  {
   "attachments": {},
   "cell_type": "markdown",
   "metadata": {},
   "source": [
    "## Terms"
   ]
  },
  {
   "attachments": {},
   "cell_type": "markdown",
   "metadata": {},
   "source": [
    "* [[W](https://en.wikipedia.org/wiki/Applied_ethics)] Applied Ethics\n",
    "* [[W](https://en.wikipedia.org/wiki/Casuistry)] Casuistry\n",
    "* [[W](https://en.wikipedia.org/wiki/Descriptive_ethics)] Comparative Ethics\n",
    "* [[W](https://en.wikipedia.org/wiki/Consequentialism)] Consequentialism\n",
    "* [[W](https://en.wikipedia.org/wiki/Deontology)] Deontology\n",
    "* [[W](https://en.wikipedia.org/wiki/Descriptive_ethics)] Descriptive Ethics\n",
    "* [[W](https://en.wikipedia.org/wiki/Kantian_ethics)] Kantian Ethics\n",
    "* [[W](https://en.wikipedia.org/wiki/Metaethics)] Metaethics\n",
    "* [[W](https://en.wikipedia.org/wiki/Normative_ethics)] Normative Ethics\n",
    "* [[W](https://en.wikipedia.org/wiki/Pragmatic_ethics)] Pragmatic Ethics\n",
    "* [[W](https://en.wikipedia.org/wiki/Situational_ethics)] Situational Ethics\n",
    "* [[W](https://en.wikipedia.org/wiki/Virtue_ethics)] Virtue Ethics"
   ]
  },
  {
   "attachments": {},
   "cell_type": "markdown",
   "metadata": {},
   "source": [
    "---"
   ]
  }
 ],
 "metadata": {
  "language_info": {
   "name": "python"
  },
  "orig_nbformat": 4
 },
 "nbformat": 4,
 "nbformat_minor": 2
}
