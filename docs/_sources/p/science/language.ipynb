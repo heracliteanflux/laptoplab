{
 "cells": [
  {
   "attachments": {},
   "cell_type": "markdown",
   "metadata": {},
   "source": [
    "# History & Philosophy of Language & Linguistics"
   ]
  },
  {
   "attachments": {},
   "cell_type": "markdown",
   "metadata": {},
   "source": [
    "---"
   ]
  },
  {
   "attachments": {},
   "cell_type": "markdown",
   "metadata": {},
   "source": [
    "## Texts"
   ]
  },
  {
   "attachments": {},
   "cell_type": "markdown",
   "metadata": {},
   "source": [
    "* Chomsky, Noam. (1988). _Language and Problems of Knowledge: The Managua Lectures_. MIT Press.\n",
    "* Chomsky, Noam. (1975). _The Logical Structure of Linguistic Theory_.\n",
    "* Chomsky, Noam. (1957). _Syntactic Structures_.\n",
    "* Chomsky, Noam. _Language and Mind, 3rd Ed_.\n",
    "* Gamut, L. T. F. (1991). _Logic, Language, and Meaning, Vol. I: Introduction to Logic_. University of Chicago Press.\n",
    "* Gamut, L. T. F. (1991). _Logic, Language, and Meaning, Vol. II: Intensional Logic and Logical Grammar_. University of Chicago Press.\n",
    "* Harris, Randy Allen. (1993). _The Linguistics Wars_. Oxford University Press.\n",
    "* Pinker, Steven. (2013). _Language, Cognition, and Human Nature_. Oxford University Press.\n",
    "* Soames, Scott. (2010). _Philosophy of Language_. Princeton University Press Foundations of Contemporary Philosophy."
   ]
  },
  {
   "attachments": {},
   "cell_type": "markdown",
   "metadata": {},
   "source": [
    "---"
   ]
  },
  {
   "attachments": {},
   "cell_type": "markdown",
   "metadata": {},
   "source": [
    "## Figures"
   ]
  },
  {
   "attachments": {},
   "cell_type": "markdown",
   "metadata": {},
   "source": [
    "* [S][[W](https://en.wikipedia.org/wiki/J._L._Austin)] Austin, J. L.\n",
    "* [S][[W](https://en.wikipedia.org/wiki/Leonard_Bloomfield)] Bloomfield, Leonard\n",
    "* [S][[W](https://en.wikipedia.org/wiki/Noam_Chomsky)] Chomsky, Noam\n",
    "* [S][[W](https://en.wikipedia.org/wiki/Louis_Couturat)] Couturat, Louis\n",
    "* [S][[W](https://en.wikipedia.org/wiki/Ferdinand_de_Saussure)] De Saussure, Ferdinand (1857-1913)\n",
    "* [S][W] Frege, Gottlob\n",
    "* [[S](https://plato.stanford.edu/entries/grice/)][[W](https://en.wikipedia.org/wiki/Paul_Grice)] Grice, Paul\n",
    "* [S][[W](https://en.wikipedia.org/wiki/William_Labov)] Labov William\n",
    "* [[S](https://plato.stanford.edu/entries/leibniz/)][[W](https://en.wikipedia.org/wiki/Gottfried_Wilhelm_Leibniz)] Leibniz, Gottfried Wilhelm\n",
    "* [S][[W](https://en.wikipedia.org/wiki/John_Locke)] Locke, John\n",
    "* [S][[W](https://en.wikipedia.org/wiki/Richard_Montague)] Montague, Richard (1930-1971)\n",
    "* [S][[W](https://en.wikipedia.org/wiki/Charles_Sanders_Peirce)] Peirce, Charles Sanders (1839-1914)\n",
    "* [S][W] Quine, Willard Van Orman\n",
    "* [S][[W](https://en.wikipedia.org/wiki/Edward_Sapir)] Sapir, Edward\n",
    "* [S][[W](https://en.wikipedia.org/wiki/John_Searle)] Searle, John\n",
    "* [S][[W](https://en.wikipedia.org/wiki/J._R._R._Tolkien)] Tolkien, J. R. R.\n",
    "* [S][[W](https://en.wikipedia.org/wiki/Benjamin_Lee_Whorf)] Whorf, Benjamin Lee"
   ]
  },
  {
   "attachments": {},
   "cell_type": "markdown",
   "metadata": {},
   "source": [
    "---"
   ]
  },
  {
   "attachments": {},
   "cell_type": "markdown",
   "metadata": {},
   "source": [
    "## Terms"
   ]
  },
  {
   "attachments": {},
   "cell_type": "markdown",
   "metadata": {},
   "source": [
    "* [[W](https://en.wikipedia.org/wiki/Extensional_context)] Extensional Context\n",
    "* [[W](https://en.wikipedia.org/wiki/Extensionalism)] Extensionalism\n",
    "* [[W](https://en.wikipedia.org/wiki/Formal_semantics_(natural_language))] Formal Semantics\n",
    "* [[W](https://en.wikipedia.org/wiki/History_of_linguistics)] History of Linguistics\n",
    "* [[W](https://en.wikipedia.org/wiki/Intension)] Intensional\n",
    "* [[W](https://en.wikipedia.org/wiki/Language_and_thought)] Language and Thought\n",
    "* [[W](https://en.wikipedia.org/wiki/Language_of_thought_hypothesis)] Language of Thought Hypothesis\n",
    "* [[W](https://en.wikipedia.org/wiki/Linguistic_determinism)] Linguistic Determinism\n",
    "* [[W](https://en.wikipedia.org/wiki/Linguistic_relativity)] Linguistic Relativity (Sapir-Whorf Hypothesis)\n",
    "* [[W](https://en.wikipedia.org/wiki/Linguistic_turn)] Linguistic Turn\n",
    "* [[W](https://en.wikipedia.org/wiki/Philology)] Philology\n",
    "* [[W](https://en.wikipedia.org/wiki/Philosophical_language)] Philosophical Language\n",
    "* [[W](https://en.wikipedia.org/wiki/Philosophy_of_language)] Philosophy of Language\n",
    "* [[W](https://en.wikipedia.org/wiki/Linguistic_relativity)] Sapir-Whorf Hypothesis (Linguistic Relativity)\n",
    "* [[W](https://en.wikipedia.org/wiki/Theory_of_descriptions)] Theory of Descriptions\n",
    "* [[W](https://en.wikipedia.org/wiki/Universal_language)] Universal Language"
   ]
  },
  {
   "attachments": {},
   "cell_type": "markdown",
   "metadata": {},
   "source": [
    "---"
   ]
  }
 ],
 "metadata": {
  "language_info": {
   "name": "python"
  },
  "orig_nbformat": 4
 },
 "nbformat": 4,
 "nbformat_minor": 2
}
