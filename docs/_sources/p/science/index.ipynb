{
 "cells": [
  {
   "cell_type": "markdown",
   "metadata": {},
   "source": [
    "# History and Philosophy of Science"
   ]
  },
  {
   "cell_type": "markdown",
   "metadata": {},
   "source": [
    "---"
   ]
  },
  {
   "cell_type": "markdown",
   "metadata": {},
   "source": [
    "## Resources"
   ]
  },
  {
   "cell_type": "markdown",
   "metadata": {},
   "source": [
    "[[H](https://www.hps.pitt.edu/)] UPitt's Department of History and Philosophy of Science"
   ]
  },
  {
   "cell_type": "markdown",
   "metadata": {},
   "source": [
    "---"
   ]
  },
  {
   "cell_type": "markdown",
   "metadata": {},
   "source": [
    "## Texts"
   ]
  },
  {
   "cell_type": "markdown",
   "metadata": {},
   "source": [
    "Bloor, David. (1997). \"Remember the Strong Program?\".\n",
    "\n",
    "[[W](https://en.wikipedia.org/wiki/What_Is_This_Thing_Called_Science%3F)] Chalmers, Alan. (1976). _What Is This Thing Called Science?_. University of Queensland Press.\n",
    "\n",
    "Duhem, Pierre. (1906/1991b). _The Aim and Structure of Physical Theory_. Princeton University Press.\n",
    "\n",
    "Duhem, Pierre. (1969). _To Save the Phenomena, an Essay on the Idea of Physical Theory from Plato to Galileo_. University of Chicago Press.\n",
    "\n",
    "Feyerabend, Paul. (1975). \"How to Defend Society Against Science\".\n",
    "\n",
    "Godfrey-Smith, Peter. (2003). _Theory and Reality: An Introduction to the Philosophy of Science_. [University of Chicago Press](https://press.uchicago.edu/ucp/books/book/chicago/T/bo37447570.html).\n",
    "\n",
    "Hempel, Carl. (1973). \"Rudolf Carnap, Logical Empiricist\". Synthese. [JSTOR](https://www.jstor.org/stable/20114864).\n",
    "\n",
    "[[W](https://en.wikipedia.org/wiki/The_Structure_of_Scientific_Revolutions)] Kuhn, Thomas. (1962/1970a). _The Structure of Scientific Revolutions_. 2nd Ed. Chicago: [University of Chicago Press](https://press.uchicago.edu/ucp/books/book/chicago/S/bo13179781.html) (1970, 2nd edition, with postscript).\n",
    "\n",
    "[[W](https://en.wikipedia.org/wiki/Proofs_and_Refutations)] Lakatos, Imre. (1976). _Proofs and Refutations: The Logic of Mathematical Discovery_. Cambridge University Press.\n",
    "\n",
    "Lakatos, Imre. (1970b). editor with A. Musgrave: _Criticism and the Growth of Knowledge_. Cambridge: Cambridge University Press.\n",
    "\n",
    "[[W](https://en.wikipedia.org/wiki/Science_in_Action_(book))] Latour, Bruno. (1987). _Science in Action_. Harvard University Press.\n",
    "\n",
    "Popper, Karl. (1963). _Conjectures and Refutations: The Growth of Scientific Knowledge_. London: Routledge.\n",
    "\n",
    "[[W](https://en.wikipedia.org/wiki/The_Logic_of_Scientific_Discovery)] Popper, Karl. (1959) [2002]. _The Logic of Scientific Discovery_. translation by the author of Logik der Forschung (1935). London: Hutchinson. Republished 2002, London & New York: Routledge Classics."
   ]
  },
  {
   "cell_type": "markdown",
   "metadata": {},
   "source": [
    "---"
   ]
  },
  {
   "cell_type": "markdown",
   "metadata": {},
   "source": [
    "## Figures"
   ]
  },
  {
   "cell_type": "markdown",
   "metadata": {},
   "source": [
    "* [S][[W](https://en.wikipedia.org/wiki/A._J._Ayer)] Ayer, A. J. (1910-1989)\n",
    "* [S][[W](https://en.wikipedia.org/wiki/Francis_Bacon)] Bacon, Francis (1561-1626)\n",
    "* [S][[W](https://en.wikipedia.org/wiki/David_Bloor)] Bloor, David (1942-)\n",
    "* [[S](https://plato.stanford.edu/entries/carnap/)][[W](https://en.wikipedia.org/wiki/Rudolf_Carnap)] Carnap, Rudolf (1891-1970)\n",
    "* [S][[W](https://en.wikipedia.org/wiki/Ernst_Cassirer)] Cassirer, Ernst (1874-1945)\n",
    "* [S][[W](https://en.wikipedia.org/wiki/Alan_Chalmers)] Chalmers, Alan (1939-)\n",
    "* [S][[W](https://en.wikipedia.org/wiki/Auguste_Comte)] Comte, Auguste (1798-1857)\n",
    "* [S][[W](https://en.wikipedia.org/wiki/Pierre_Duhem)] Duhem, Pierre (1861-1916)\n",
    "* [S][[W](https://en.wikipedia.org/wiki/Albert_Einstein)] Einstein, Albert (1879-1955)\n",
    "* [[S](https://plato.stanford.edu/entries/feyerabend/)][[W](https://en.wikipedia.org/wiki/Paul_Feyerabend)] Feyerabend, Paul (1924-1994)\n",
    "* [S][[W](https://en.wikipedia.org/wiki/Richard_Feynman)] Feynman, Richard (1918-1988)\n",
    "* [S][[W](https://en.wikipedia.org/wiki/Peter_Godfrey-Smith)] Godfrey-Smith, Peter (1965-)\n",
    "* [S][[W](https://en.wikipedia.org/wiki/Ian_Hacking)] Hacking, Ian\n",
    "* [[S](https://plato.stanford.edu/entries/hempel/)][[W](https://en.wikipedia.org/wiki/Carl_Gustav_Hempel)] Hempel, Carl (1905-1997)\n",
    "* [S][[W](https://en.wikipedia.org/wiki/Philip_Kitcher)] Kitcher, Philip\n",
    "* [[S](https://plato.stanford.edu/entries/thomas-kuhn/)][[W](https://en.wikipedia.org/wiki/Thomas_Kuhn)] Kuhn, Thomas (1922-1996)\n",
    "* [[S](https://plato.stanford.edu/entries/lakatos/)][[W](https://en.wikipedia.org/wiki/Imre_Lakatos)] Lakatos, Imre (1922-1974)\n",
    "* [S][[W](https://en.wikipedia.org/wiki/Bruno_Latour)] Latour, Bruno (1947-2022)\n",
    "* [S][[W](https://en.wikipedia.org/wiki/Ernst_Mach)] Mach, Ernst (1838-1916)\n",
    "* [S][[W](https://en.wikipedia.org/wiki/Henri_Poincar%C3%A9)] Poincaré, Henri (1854-1912)\n",
    "* [[S](https://plato.stanford.edu/entries/popper/)][[W](https://en.wikipedia.org/wiki/Karl_Popper)] Popper, Karl (1902-1994)\n",
    "* [S][[W](https://en.wikipedia.org/wiki/Hilary_Putnam)] Putnam, Hilary (1926-2016)\n",
    "* [S][[W](https://en.wikipedia.org/wiki/Willard_Van_Orman_Quine)] Quine, Willard Van Orman (1908-2000)\n",
    "* [[S](https://plato.stanford.edu/entries/reichenbach/)][[W](https://en.wikipedia.org/wiki/Hans_Reichenbach)] Reichenbach, Hans (1891-1953)\n",
    "* [S][[W](https://en.wikipedia.org/wiki/Moritz_Schlick)] Schlick, Moritz (1882-1936)\n",
    "* [S][[W](https://en.wikipedia.org/wiki/Bas_van_Fraassen)] Van Fraassen, Bas"
   ]
  },
  {
   "cell_type": "markdown",
   "metadata": {},
   "source": [
    "---"
   ]
  },
  {
   "cell_type": "markdown",
   "metadata": {},
   "source": [
    "## Terms"
   ]
  },
  {
   "cell_type": "markdown",
   "metadata": {},
   "source": [
    "* [[W](https://en.wikipedia.org/wiki/Abductive_reasoning)] Abduction\n",
    "* [[W](https://en.wikipedia.org/wiki/Baconian_method)] Baconian Method\n",
    "* [[W](https://en.wikipedia.org/wiki/Berlin_Circle)] Berlin Circle\n",
    "* [[W](https://en.wikipedia.org/wiki/Commensurability_(philosophy_of_science))] Commensurability\n",
    "* [W][[S](https://plato.stanford.edu/entries/confirmation/)] Confirmation\n",
    "* [[W](https://en.wikipedia.org/wiki/Deductive-nomological_model)] Deductive-Nomological Model\n",
    "* [[W](https://en.wikipedia.org/wiki/Demarcation_problem)] Demarcation Problem\n",
    "* [[W](https://en.wikipedia.org/wiki/Duhem%E2%80%93Quine_thesis)] Duhem-Quine Thesis\n",
    "* [[W](https://en.wikipedia.org/wiki/Experiment)] Experiment\n",
    "* [[W](https://en.wikipedia.org/wiki/Falsifiability)] Falsifiability\n",
    "* [[W](https://en.wikipedia.org/wiki/History_and_philosophy_of_science)] History and Philosophy of Science\n",
    "* [[W](https://en.wikipedia.org/wiki/History_of_science)] History of Science\n",
    "* [[W](https://en.wikipedia.org/wiki/History_of_science_and_technology)] History of Science and Technology\n",
    "* [[W](https://en.wikipedia.org/wiki/Hypothesis)] Hypothesis\n",
    "* [[W](https://en.wikipedia.org/wiki/Inductivism)] Inductivism\n",
    "* [W][[S](https://plato.stanford.edu/entries/laws-of-nature/)] Laws of Nature\n",
    "* [[W](https://en.wikipedia.org/wiki/Logical_positivism)] Logical Empiricism\n",
    "* [[W](https://en.wikipedia.org/wiki/Logical_positivism)] Logical Positivism\n",
    "* [[W](https://en.wikipedia.org/wiki/Normal_science)] Normal Science\n",
    "* [[W](https://en.wikipedia.org/wiki/Paradigm)] Paradigm\n",
    "* [[W](https://en.wikipedia.org/wiki/Paradigm_shift)] Paradigm Shift\n",
    "* [[W](https://en.wikipedia.org/wiki/Philosophy_of_science#Philosophers_of_science)] Philosophy of Science\n",
    "* [[W](https://en.wikipedia.org/wiki/Positivism)] Positivism\n",
    "* [[W](https://en.wikipedia.org/wiki/Problem_of_induction)] Problem of Induction\n",
    "* [[W](https://en.wikipedia.org/wiki/Reductionism)] Reductionism\n",
    "* [[W](https://en.wikipedia.org/wiki/Science)] Science\n",
    "* [[W](https://en.wikipedia.org/wiki/Scientific_community)] Scientific Community\n",
    "* [[W](https://en.wikipedia.org/wiki/Explanation)][[S](https://plato.stanford.edu/entries/scientific-explanation/)] Scientific Explanation\n",
    "* [[W](https://en.wikipedia.org/wiki/Scientific_method)][[S](https://plato.stanford.edu/entries/scientific-method/)] Scientific Method\n",
    "* [[W](https://en.wikipedia.org/wiki/History_of_scientific_method)] Scientific Method, history\n",
    "* [W][[S](https://plato.stanford.edu/entries/science-theory-observation/)] Scientific Observation\n",
    "* [W][[S](https://plato.stanford.edu/entries/scientific-progress/)] Scientific Progress\n",
    "* [W][[S](https://plato.stanford.edu/entries/scientific-realism/)] Scientific Realism\n",
    "* [[W](https://en.wikipedia.org/wiki/Scientific_Revolution)] Scientific Revolution\n",
    "* [[W](https://en.wikipedia.org/wiki/Scientific_theory)][[S](https://plato.stanford.edu/entries/science-theory-observation/)] Scientific Theory\n",
    "* [[W](https://en.wikipedia.org/wiki/Testability)] Testability\n",
    "* [[W](https://en.wikipedia.org/wiki/Theory_of_everything)] Theory of Everything\n",
    "* [[W](https://en.wikipedia.org/wiki/Tree_of_knowledge_system)] Tree of Knowledge\n",
    "* [[W](https://en.wikipedia.org/wiki/Unity_of_science)] Unity of Science\n",
    "* [[W](https://en.wikipedia.org/wiki/Verificationism)] Verificationism\n",
    "* [[W](https://en.wikipedia.org/wiki/Vienna_Circle)][[S](https://plato.stanford.edu/entries/vienna-circle/)] Vienna Circle"
   ]
  },
  {
   "cell_type": "markdown",
   "metadata": {},
   "source": [
    "---"
   ]
  },
  {
   "cell_type": "markdown",
   "metadata": {},
   "source": [
    "## PHIL 410"
   ]
  },
  {
   "cell_type": "markdown",
   "metadata": {},
   "source": [
    "* PGS 1-18 Introduction\n",
    "\n",
    "Logical Empiricism\n",
    "* PGS 19-38 \"Logic Plus Empiricism\"\n",
    "* Hempel, Carl. (1973). \"Rudolf Carnap, Logical Empiricist\". Synthese. [JSTOR](https://www.jstor.org/stable/20114864).\n",
    "\n",
    "Popper and Falsificationism\n",
    "* PGS 57-74 \"Popper: Conjecture and Refutation\"\n",
    "* Popper, \"Conjectures and Refutations\"\n",
    "\n",
    "Kuhn and Paradigms\n",
    "* PGS 75-86 \"Kuhn and Normal Science\"\n",
    "* Kuhn Ch.9-10 pp.92-135\n",
    "\n",
    "Lakatos and Research Programs\n",
    "* Chalmers Ch.9 pp.130-141 \"Research Programs\"\n",
    "* Lakatos \"Falsification and the Methodology of Scientific Research Programs\"\n",
    "\n",
    "Feyerabend and Anarchism\n",
    "* Chalmers Ch.10 pp.149-157 \"Feyerabend\"\n",
    "* PGS Ch.7 pp.110-117 \"Anything Goes\"\n",
    "* Feyerabend \"How to Defend Society Against Science\"\n",
    "\n",
    "Sociology of Science\n",
    "* PGS pp.122-135 \"The Challenge from Sociology of Science\"\n",
    "* Bloor \"Remember the Strong Program?\"\n",
    "\n",
    "Feminism and Epistemology\n",
    "* Harding \"The Method Question\"\n",
    "* Harding \"Rethinking Standpoint Epistemology\"\n",
    "\n",
    "Feminist Science Studies\n",
    "* Haraway pp.489-515 \"Primatology is Politics by Other Means\"\n",
    "\n",
    "Alternative Perspectives on Knowledge; Knowledge and Evolution\n",
    "* Allen pp.94-120 \"Dionysian Epistemology\"\n",
    "* Allen pp.122-145 \"Stuck in the Order of Discourse\"\n",
    "* Allen pp.171-203 \"Evolving Knowledge\"\n",
    "* Allen pp.203-215 \"The Chimpanzee's Tool\"\n",
    "\n",
    "Constructing Facts; Scientific Strategies; Laboratories and Machines\n",
    "* Latour pp.1-17 \"Intro\", \"When Enough is Never Enough\"\n",
    "* Latour pp.21-38 \"Literature\", \"Part B: When Controversies Flare Up\"\n",
    "* Latour pp.38-50 \"(3) Being Referred to By Other Texts\", \"Part C: Writing Texts\"\n",
    "* Latour pp. 50-62 \"(2) Positioning Tactics\", \"(3) The Second Rule of Method\"\n",
    "* Latour pp.63-70,79-90 \"Laboratories\", \"Building Up Counter-Laboratories\"\n",
    "* Latour pp.91-100,103-108 \"Laboratories Against Laboratories\", \"Machines\"\n",
    "* Latour pp.108-121 \"Translating Interests\""
   ]
  },
  {
   "cell_type": "markdown",
   "metadata": {},
   "source": [
    "* SP1, SP2, SP3 (<=250w,<=1p)\n",
    "* MT (5sa)\n",
    "* CR (<=1000w)\n",
    "* FP (<=1750w)\n",
    "* P"
   ]
  },
  {
   "cell_type": "markdown",
   "metadata": {},
   "source": [
    "---"
   ]
  }
 ],
 "metadata": {
  "language_info": {
   "name": "python"
  },
  "orig_nbformat": 4
 },
 "nbformat": 4,
 "nbformat_minor": 2
}
