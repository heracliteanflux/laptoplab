{
 "cells": [
  {
   "cell_type": "markdown",
   "metadata": {},
   "source": [
    "# History and Philosophy of Chemistry"
   ]
  },
  {
   "cell_type": "markdown",
   "metadata": {},
   "source": [
    "---"
   ]
  },
  {
   "cell_type": "markdown",
   "metadata": {},
   "source": [
    "## Figures"
   ]
  },
  {
   "cell_type": "markdown",
   "metadata": {},
   "source": [
    "---"
   ]
  },
  {
   "cell_type": "markdown",
   "metadata": {},
   "source": [
    "## Terms"
   ]
  },
  {
   "cell_type": "markdown",
   "metadata": {},
   "source": [
    "* [[W](https://en.wikipedia.org/wiki/Alchemy)] Alchemy\n",
    "* [[W](https://en.wikipedia.org/wiki/The_central_science)] Central Science\n",
    "* [[W](https://en.wikipedia.org/wiki/Chemistry)] Chemistry\n",
    "* [[W](https://en.wikipedia.org/wiki/History_of_chemistry)] History of Chemistry\n",
    "* [[W](https://en.wikipedia.org/wiki/Philosopher%27s_stone)] Philosopher's Stone\n",
    "* [[W](https://en.wikipedia.org/wiki/Philosophy_of_chemistry)] Philosophy of Chemistry"
   ]
  },
  {
   "cell_type": "markdown",
   "metadata": {},
   "source": [
    "---"
   ]
  }
 ],
 "metadata": {
  "language_info": {
   "name": "python"
  },
  "orig_nbformat": 4
 },
 "nbformat": 4,
 "nbformat_minor": 2
}
