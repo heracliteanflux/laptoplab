{
 "cells": [
  {
   "attachments": {},
   "cell_type": "markdown",
   "metadata": {},
   "source": [
    "# Philosophy of Biology"
   ]
  },
  {
   "attachments": {},
   "cell_type": "markdown",
   "metadata": {},
   "source": [
    "---"
   ]
  },
  {
   "cell_type": "markdown",
   "metadata": {},
   "source": [
    "## Resources"
   ]
  },
  {
   "cell_type": "markdown",
   "metadata": {},
   "source": [
    "* MIT Open Courseware's Systems Biology [Fall 2014](https://ocw.mit.edu/courses/physics/8-591j-systems-biology-fall-2014/)\n",
    "* \"The math of Living Things\" [article](https://nautil.us/issue/102/hidden-truths/the-math-of-living-things)\n",
    "\n",
    "Programmable Artificial Life.\n",
    "* [ [y](https://www.youtube.com/watch?v=OZggz3EMjaY) ] `07-10-2023`. \"Isotropic Neural Cellular Automata\".\n",
    "* [ [y](https://www.youtube.com/watch?v=AP3zeHyWakw) ] `12-23-2022`. \"Particle Lenia\".\n",
    "\n",
    "Tom Mohr\n",
    "* [ [y](https://www.youtube.com/watch?v=scvuli-zcRc) ] `04-16-2023`. \"The code behind Particle Life\".\n",
    "* [ [y](https://www.youtube.com/watch?v=p4YirERTVF0) ] `12-08-2022`. \"How Particle Life emerges from simplicity\".\n",
    "\n",
    "[ [y](https://www.youtube.com/watch?v=6kiBYjvyojQ) ] `05-28-2023`. Birdbrain. \"Lenia - Artificial Life from Algorithms\"."
   ]
  },
  {
   "cell_type": "markdown",
   "metadata": {},
   "source": [
    "---"
   ]
  },
  {
   "attachments": {},
   "cell_type": "markdown",
   "metadata": {},
   "source": [
    "## Texts"
   ]
  },
  {
   "attachments": {},
   "cell_type": "markdown",
   "metadata": {},
   "source": [
    "* Alon, Uri. (2019). [_An Introduction to Systems Biology: Design Principles of Biological Circuits, 2nd Ed_](https://www.weizmann.ac.il/mcb/UriAlon/introduction-systems-biology-design-principles-biological-circuits). CRC Press.\n",
    "* Duchesneau, François. (1997). _Philosophie de la biologie_. Presses universitaires de France.\n",
    "* Glaser, Roland. (2012). _Biophysics: An Introduction_. Springer.\n",
    "* Keller, Evelyn Fox. (2002). _Making Sense of Life: Explaining Biological Development with Models, Metaphors, and Machines_. Harvard Universtiy Press.\n",
    "* Keller, Evelyn Fox. (2000). _The Century of the Gene_. Harvard University Press.\n",
    "* Kuldell, Natalie et al. (2015). _BioBuilder: Synthetic Biology in the Lab_. O'Reilly. [Home](https://biobuilder.org).\n",
    "* Nelson, Philip. (2020). [_Biological Physics: Energy, Information, Life_](https://www.physics.upenn.edu/biophys/BPse/index.html).\n",
    "* Nelson, Philip. (2017). [_From Photon to Neuron: Light, Imaging, Vision_](https://www.physics.upenn.edu/biophys/PtN/index.html). Princeton University Press.\n",
    "* Nelson, Philip. (2014). [_Physical Models of Living Systems_](https://www.physics.upenn.edu/biophys/PMLS/index.html).\n",
    "* Parke, William C. _Biophysics: A Student's Guide to the Physics of the Life Sciences and Medicine_. Springer.\n",
    "* Turing, Alan. (1952). [\"The Chemical Basis of Morphogenesis\"](https://www.dna.caltech.edu/courses/cs191/paperscs191/turing.pdf)."
   ]
  },
  {
   "attachments": {},
   "cell_type": "markdown",
   "metadata": {},
   "source": [
    "---"
   ]
  },
  {
   "attachments": {},
   "cell_type": "markdown",
   "metadata": {},
   "source": [
    "## Figures"
   ]
  },
  {
   "attachments": {},
   "cell_type": "markdown",
   "metadata": {},
   "source": [
    "* [[W](https://en.wikipedia.org/wiki/Charles_Darwin)] Darwin, Charles (1809-1882)\n",
    "* [[W](https://en.wikipedia.org/wiki/Richard_Dawkins)] Dawkins, Richard (1941-)\n",
    "* [[W](https://en.wikipedia.org/wiki/Peter_Godfrey-Smith)] Godfrey-Smith, Peter (1965-)\n",
    "* [[W](https://en.wikipedia.org/wiki/Stephen_Jay_Gould)] Gould, Stephen Jay (1941-2002)\n",
    "* [[W](https://en.wikipedia.org/wiki/Emily_Grosholz)] Grosholz, Emily (1950-)\n",
    "* [[W](https://en.wikipedia.org/wiki/David_Hull_(philosopher))] Hull, David (1935-2010)\n",
    "* [[W](https://en.wikipedia.org/wiki/Julian_Huxley)] Huxley, Julian (1887-1975)\n",
    "* [[W](https://en.wikipedia.org/wiki/Evelyn_Fox_Keller)] Keller, Evelyn Fox (1936-)\n",
    "* [[W](https://en.wikipedia.org/wiki/Alan_Turing)] Turing, Alan (1912-1952)\n",
    "* [[W](https://en.wikipedia.org/wiki/E._O._Wilson)] Wilson, Edward (1929-2021)"
   ]
  },
  {
   "attachments": {},
   "cell_type": "markdown",
   "metadata": {},
   "source": [
    "---"
   ]
  },
  {
   "attachments": {},
   "cell_type": "markdown",
   "metadata": {},
   "source": [
    "## Terms"
   ]
  },
  {
   "attachments": {},
   "cell_type": "markdown",
   "metadata": {},
   "source": [
    "* [[W](https://en.wikipedia.org/wiki/Abiogenesis)] Abiogenesis\n",
    "* [[W](https://en.wikipedia.org/wiki/Allopoiesis)] Allopoiesis\n",
    "* [[W](https://en.wikipedia.org/wiki/Artificial_life)] Artificial Life\n",
    "* [[W](https://en.wikipedia.org/wiki/Autopoiesis)] Autopoiesis\n",
    "* [[W](https://en.wikipedia.org/wiki/Biochemistry)] Biochemsitry\n",
    "* [[W](https://en.wikipedia.org/wiki/Biocybernetics)] Biocybernetics\n",
    "* [[W](https://en.wikipedia.org/wiki/Bioinformatics)] Bioinformatics\n",
    "* [[W](https://en.wikipedia.org/wiki/Biological_organisation)] Biological Organization\n",
    "* [[W](https://en.wikipedia.org/wiki/Structuralism_(biology))] Biological Structuralism\n",
    "* [[W](https://en.wikipedia.org/wiki/Biomimetics)] Biomimetics\n",
    "* [[W](https://en.wikipedia.org/wiki/Bionics)] Bionics\n",
    "* [[W](https://en.wikipedia.org/wiki/Biosemiotics)] Biosemiotics\n",
    "* [[W](https://en.wikipedia.org/wiki/Biosphere)] Biosphere\n",
    "* [[W](https://en.wikipedia.org/wiki/Biotechnology)] Biotechnology\n",
    "* [[W](https://en.wikipedia.org/wiki/Cellular_senescence)] Cellular Senescence\n",
    "* [[W](https://en.wikipedia.org/wiki/Chemoton)] Chemoton\n",
    "* [[W](https://en.wikipedia.org/wiki/Collective_intelligence)] Collective Intelligence\n",
    "* [[W](https://en.wikipedia.org/wiki/Complex_system)] Complex System\n",
    "* [[W](https://en.wikipedia.org/wiki/DNA_computing)] DNA Computing\n",
    "* [[W](https://en.wikipedia.org/wiki/%C3%89lan_vital)] Élan Vital\n",
    "* [[W](https://en.wikipedia.org/wiki/Emergence)] Emergence\n",
    "* [[W](https://en.wikipedia.org/wiki/Feedback)] Feedback\n",
    "* [[W](https://en.wikipedia.org/wiki/Gaia_hypothesis)] Gaia Hypothesis\n",
    "* [[W](https://en.wikipedia.org/wiki/Gene_Ontology)] Gene Ontology\n",
    "* [[W](https://en.wikipedia.org/wiki/Holobiont)] Holobiont\n",
    "* [[W](https://en.wikipedia.org/wiki/Hologenome_theory_of_evolution)] Hologenome Theory of Evolution\n",
    "* [[W](https://en.wikipedia.org/wiki/Homeostasis)] Homeostasis\n",
    "* [[W](https://en.wikipedia.org/wiki/Lotka%E2%80%93Volterra_equations)] Lotka-Volterra Equations\n",
    "* [[W](https://en.wikipedia.org/wiki/Mathematical_and_theoretical_biology)] Mathematical Biology\n",
    "* [[W](https://en.wikipedia.org/wiki/Molecular_biology)] Molecular Biology\n",
    "* [[W](https://en.wikipedia.org/wiki/Morphogenesis)] Morphogenesis\n",
    "* [[W](https://en.wikipedia.org/wiki/Negligible_senescence)] Negligible Senescence\n",
    "* [[W](https://en.wikipedia.org/wiki/Organismic_computing)] Organismic Computing\n",
    "* [[W](https://en.wikipedia.org/wiki/Patterns_in_nature)] Patterns in Nature\n",
    "* [[W](https://en.wikipedia.org/wiki/Philosophy_of_biology)][[S](https://plato.stanford.edu/entries/biology-philosophy/)] Philosophy of Biology\n",
    "* [[W](https://en.wikipedia.org/wiki/Quorum_sensing)] Quorum Sensing\n",
    "* [[W](https://en.wikipedia.org/wiki/Reaction–diffusion_system)] Reaction-Diffusion\n",
    "* [[W](https://en.wikipedia.org/wiki/Senescence)] Senescence\n",
    "* [[W](https://en.wikipedia.org/wiki/Stigmergy)] Stigmergy\n",
    "* [[W](https://en.wikipedia.org/wiki/Superorganism)] Superorganism\n",
    "* [[W](https://en.wikipedia.org/wiki/Symmetry_in_biology)] Symmetry in Biology\n",
    "* [[W](https://en.wikipedia.org/wiki/Synergy)] Synergy\n",
    "* [[W](https://en.wikipedia.org/wiki/Systems_biology)] Systems Biology\n",
    "* [[W](https://en.wikipedia.org/wiki/Systems_theory)] Systems Theory\n",
    "* [[W](https://en.wikipedia.org/wiki/Swarm_intelligence)] Swarm Intelligence\n",
    "* [[W](https://en.wikipedia.org/wiki/Tensegrity)] Tensegrity\n",
    "* [[W](https://en.wikipedia.org/wiki/Turing_pattern)] Turing Pattern\n",
    "* [[W](https://en.wikipedia.org/wiki/Vitalism)] Vitalism"
   ]
  },
  {
   "attachments": {},
   "cell_type": "markdown",
   "metadata": {},
   "source": [
    "---"
   ]
  }
 ],
 "metadata": {
  "kernelspec": {
   "display_name": "jb",
   "language": "python",
   "name": "python3"
  },
  "language_info": {
   "name": "python",
   "version": "3.10.8"
  },
  "orig_nbformat": 4,
  "vscode": {
   "interpreter": {
    "hash": "9870a5056b4d87f5c6a8037fc24f3e027e3065e80a23b81edb72ad19078aa02f"
   }
  }
 },
 "nbformat": 4,
 "nbformat_minor": 2
}
