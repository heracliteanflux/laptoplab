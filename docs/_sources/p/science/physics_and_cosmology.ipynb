{
 "cells": [
  {
   "attachments": {},
   "cell_type": "markdown",
   "metadata": {},
   "source": [
    "# History & Philosophy of Physics & Cosmology"
   ]
  },
  {
   "attachments": {},
   "cell_type": "markdown",
   "metadata": {},
   "source": [
    "---"
   ]
  },
  {
   "attachments": {},
   "cell_type": "markdown",
   "metadata": {},
   "source": [
    "## Resources"
   ]
  },
  {
   "attachments": {},
   "cell_type": "markdown",
   "metadata": {},
   "source": [
    "Oxford University, Philosophy of Cosmology\n",
    "* [Home](http://philosophy-of-cosmology.ox.ac.uk/)\n",
    "* [YouTube](https://www.youtube.com/@PhilosophyCosmology)\n",
    "\n",
    "[Fleming's Forays](http://www.personal.psu.edu/gnf1/blogs/flemin/)"
   ]
  },
  {
   "attachments": {},
   "cell_type": "markdown",
   "metadata": {},
   "source": [
    "---"
   ]
  },
  {
   "cell_type": "markdown",
   "metadata": {},
   "source": [
    "## Medieval"
   ]
  },
  {
   "cell_type": "markdown",
   "metadata": {},
   "source": [
    "* [[W](https://en.wikipedia.org/wiki/Jean_Buridan)] Buridan, Jean (1301-1359)\n",
    "* [[W](https://en.wikipedia.org/wiki/John_Philoponus)] Philoponus, John (490-570)"
   ]
  },
  {
   "cell_type": "markdown",
   "metadata": {},
   "source": [
    "* [[W](https://en.wikipedia.org/wiki/Theory_of_impetus)] Impetus\n",
    "* [[W](https://en.wikipedia.org/wiki/Projectile_motion)] Projectile Motion"
   ]
  },
  {
   "cell_type": "markdown",
   "metadata": {},
   "source": [
    "---"
   ]
  },
  {
   "cell_type": "markdown",
   "metadata": {},
   "source": [
    "## Figures"
   ]
  },
  {
   "cell_type": "markdown",
   "metadata": {},
   "source": [
    "* [[W](https://en.wikipedia.org/wiki/Emily_Grosholz)] Grosholz, Emily (1950-)\n",
    "* [[W](https://en.wikipedia.org/wiki/Max_Tegmark)] Tegmark, Max (1967-)"
   ]
  },
  {
   "cell_type": "markdown",
   "metadata": {},
   "source": [
    "---"
   ]
  },
  {
   "attachments": {},
   "cell_type": "markdown",
   "metadata": {},
   "source": [
    "## Terms"
   ]
  },
  {
   "attachments": {},
   "cell_type": "markdown",
   "metadata": {},
   "source": [
    "* [[W](https://en.wikipedia.org/wiki/Centrifugal_force)] Centrifugal Force\n",
    "* [[W](https://en.wikipedia.org/wiki/Cosmology)] Cosmology\n",
    "* [[W](https://en.wikipedia.org/wiki/Dynamics_(mechanics))] Dynamics\n",
    "* [[W](https://en.wikipedia.org/wiki/Kinematics)] Kinematics\n",
    "* [[W](https://en.wikipedia.org/wiki/Kinetics_(physics))] Kinetics\n",
    "* [[W](https://en.wikipedia.org/wiki/Mass)] Mass\n",
    "* [[W](https://en.wikipedia.org/wiki/Matter)] Matter\n",
    "* [[W](https://en.wikipedia.org/wiki/Momentum)] Momentum\n",
    "* [W][[S](https://plato.stanford.edu/entries/cosmology/)] Philosophy of Cosmology\n",
    "* [[W](https://en.wikipedia.org/wiki/Philosophy_of_physics)] Philosophy of Physics\n",
    "* [[W](https://en.wikipedia.org/wiki/Philosophy_of_space_and_time)] Philosophy of Space and Time\n",
    "* [[W](https://en.wikipedia.org/wiki/Horror_vacui_(physics))] Plenism (Horror Vacui)\n",
    "* [[W](https://en.wikipedia.org/wiki/Statics)] Statics\n",
    "* [[W](https://en.wikipedia.org/wiki/Tachyon)] Tachyon\n",
    "* [[W](https://en.wikipedia.org/wiki/Vacuum)] Vacuum"
   ]
  },
  {
   "attachments": {},
   "cell_type": "markdown",
   "metadata": {},
   "source": [
    "---"
   ]
  }
 ],
 "metadata": {
  "language_info": {
   "name": "python"
  },
  "orig_nbformat": 4
 },
 "nbformat": 4,
 "nbformat_minor": 2
}
