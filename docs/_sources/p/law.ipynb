{
 "cells": [
  {
   "attachments": {},
   "cell_type": "markdown",
   "metadata": {},
   "source": [
    "# Philosophy of Law"
   ]
  },
  {
   "attachments": {},
   "cell_type": "markdown",
   "metadata": {},
   "source": [
    "---"
   ]
  },
  {
   "attachments": {},
   "cell_type": "markdown",
   "metadata": {},
   "source": [
    "## Resources"
   ]
  },
  {
   "attachments": {},
   "cell_type": "markdown",
   "metadata": {},
   "source": [
    "[[Y](https://www.youtube.com/watch?v=KaaqEikZSd0)] Carneades.org. (25 Jun 2023). \"What is a Deodand? (Philosophy of Law)\"."
   ]
  },
  {
   "attachments": {},
   "cell_type": "markdown",
   "metadata": {},
   "source": [
    "---"
   ]
  },
  {
   "cell_type": "markdown",
   "metadata": {},
   "source": [
    "## Figures"
   ]
  },
  {
   "cell_type": "markdown",
   "metadata": {},
   "source": [
    "* [ [w](https://en.wikipedia.org/wiki/Ronald_Dworkin) ] Dworkin, Ronald (1931-2013)\n",
    "* [ [w](https://en.wikipedia.org/wiki/Thomas_Nagel) ] Nagel, Thomas (1937-)\n",
    "* [ [w](https://en.wikipedia.org/wiki/John_Rawls) ] Rawls, John (1921-2002)"
   ]
  },
  {
   "cell_type": "markdown",
   "metadata": {},
   "source": [
    "---"
   ]
  },
  {
   "attachments": {},
   "cell_type": "markdown",
   "metadata": {},
   "source": [
    "## Terms"
   ]
  },
  {
   "cell_type": "markdown",
   "metadata": {},
   "source": [
    "* [[W](https://en.wikipedia.org/wiki/Deodand)] Deodand\n",
    "* [[W](https://en.wikipedia.org/wiki/Jurisprudence)] Jurisprudence\n",
    "* [[W](https://en.wikipedia.org/wiki/Philosophy_of_law)] Philosophy of Law"
   ]
  },
  {
   "attachments": {},
   "cell_type": "markdown",
   "metadata": {},
   "source": [
    "---"
   ]
  }
 ],
 "metadata": {
  "language_info": {
   "name": "python"
  },
  "orig_nbformat": 4
 },
 "nbformat": 4,
 "nbformat_minor": 2
}
