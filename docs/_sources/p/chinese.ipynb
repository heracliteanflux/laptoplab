{
 "cells": [
  {
   "cell_type": "markdown",
   "metadata": {},
   "source": [
    "# Chinese Philosophy"
   ]
  },
  {
   "cell_type": "markdown",
   "metadata": {},
   "source": [
    "---"
   ]
  },
  {
   "cell_type": "markdown",
   "metadata": {},
   "source": [
    "## Figures"
   ]
  },
  {
   "cell_type": "markdown",
   "metadata": {},
   "source": [
    "* [[W](https://en.wikipedia.org/wiki/Arthur_Waley)] Waley, Arthur (1889-1966)\n",
    "  * [[W](https://en.wikipedia.org/wiki/Monkey_(novel))] _Monkey_"
   ]
  },
  {
   "cell_type": "markdown",
   "metadata": {},
   "source": [
    "---"
   ]
  },
  {
   "cell_type": "markdown",
   "metadata": {},
   "source": [
    "## Terms"
   ]
  },
  {
   "cell_type": "markdown",
   "metadata": {},
   "source": [
    "```\n",
    "本体论　　  Běntǐ lùn          ontology\n",
    "存在　　　  Cúnzài             being\n",
    "道　　　　  dao                way; guide\n",
    "认识论　　  Rènshílùn          epistemology\n",
    "陽　　　　  yang\n",
    "陰　　　　  yin\n",
    "宇宙演化论  Yǔzhòu yǎnhuà lùn  cosmogony\n",
    "宇宙学　　  Yǔzhòu xué         cosmology\n",
    "形而上学　  Xíng'érshàngxué    metaphysics\n",
    "```"
   ]
  },
  {
   "cell_type": "markdown",
   "metadata": {},
   "source": [
    "* [[W](https://en.wikipedia.org/wiki/Bull_Demon_King)] Bull Demon King\n",
    "* [W][[S](https://plato.stanford.edu/entries/buddhism-chan/)] Chan Buddhism\n",
    "* [W][[S](https://plato.stanford.edu/entries/ethics-chinese/)] Chinese Ethics\n",
    "* [[W](https://en.wikipedia.org/wiki/Chinese_folk_religion)] Chinese Folk Religion\n",
    "* [[W](https://en.wikipedia.org/wiki/Chinese_mythology)] Chinese Mythology\n",
    "* [W][[S](https://plato.stanford.edu/entries/chinese-change/)] Chinese Philosophy of Change (Yijing)\n",
    "* [[W](https://en.wikipedia.org/wiki/Chinese_poetry)] Chinese Poetry\n",
    "* [W][[S](https://plato.stanford.edu/entries/comparphil-chiwes/)] Comparative Philosophy: Chinese and Western\n",
    "* [[W](https://en.wikipedia.org/wiki/Confucianism)] Confucianism\n",
    "* [W][[S](https://plato.stanford.edu/entries/confucius/)] Confucius\n",
    "* [[W](https://en.wikipedia.org/wiki/Taoism)][[S](https://plato.stanford.edu/entries/daoism/)] Daoism\n",
    "* [[W](https://en.wikipedia.org/wiki/Diyu)] Diyu\n",
    "* [[W](https://en.wikipedia.org/wiki/Eight_Immortals)] Eight Immortals\n",
    "* [W][[S](https://plato.stanford.edu/entries/chinese-epistemology/)] Epistemology in Chinese Philosophy\n",
    "* [[W](https://en.wikipedia.org/wiki/Five_Elders)] Five Elders\n",
    "* [[W](https://en.wikipedia.org/wiki/Ox-Head_and_Horse-Face)] Horse-Face\n",
    "* [[W](https://en.wikipedia.org/wiki/Journey_to_the_West)] _Journey to the West_\n",
    "* [[W](https://en.wikipedia.org/wiki/King_Yan)] King Yan\n",
    "* [W][[S](https://plato.stanford.edu/entries/laozi/)] Laozi\n",
    "* [[W](https://en.wikipedia.org/wiki/Legend_of_the_White_Snake)] Legend of the White Snake\n",
    "* [W][[S](https://plato.stanford.edu/entries/mencius/)] Mencius\n",
    "* [W][[S](https://plato.stanford.edu/entries/chinese-metaphysics/)] Metaphysics in Chinese Philosophy\n",
    "* [W][[S](https://plato.stanford.edu/entries/mohism/)] Mohism\n",
    "* [W][[S](https://plato.stanford.edu/entries/mohist-canons/)] Mohist Canons\n",
    "* [[W](https://en.wikipedia.org/wiki/Ox-Head_and_Horse-Face)] Ox-Head\n",
    "* [[W](https://en.wikipedia.org/wiki/Bak_Mei)] Pai Mei\n",
    "* [W][[S](https://plato.stanford.edu/entries/school-names/)] School of Names\n",
    "* [W][[S](https://plato.stanford.edu/entries/chinese-phil-science/)] Science and Chinese Philosophy\n",
    "* [W][[S](https://plato.stanford.edu/entries/buddhism-tiantai/)] Tiantai Buddhism\n",
    "* [W][[S](https://plato.stanford.edu/entries/chinese-translate-interpret/)] Translating and Interpreting Chinese Philosophy\n",
    "* [W][[S](https://plato.stanford.edu/entries/wang-yangming/)] Wang Yangming\n",
    "* [[W](https://en.wikipedia.org/wiki/Wuxia)] Wuxia\n",
    "* [[W](https://en.wikipedia.org/wiki/Yaoguai)] Yaoguai\n",
    "* [[W](https://en.wikipedia.org/wiki/Zen)] Zen\n",
    "* [W][[S](https://plato.stanford.edu/entries/zhu-xi/)] Zhu Xi\n",
    "* [W][[S](https://plato.stanford.edu/entries/zhuangzi/)] Zhuangzi"
   ]
  },
  {
   "cell_type": "markdown",
   "metadata": {},
   "source": [
    "* [[W](https://en.wikipedia.org/wiki/Confucius_(2010_film))] Confucious\n",
    "  * https://www.youtube.com/watch?v=LnH_On7dJTM\n",
    "* [[W](https://en.wikipedia.org/wiki/Curse_of_the_Golden_Flower)] Curse of the Golden Flower\n",
    "* [[W](https://en.wikipedia.org/wiki/Green_Snake_(2021_film))] Green Snake\n",
    "* [[W](https://en.wikipedia.org/wiki/Hero_(2002_film))] Hero\n",
    "* [[W](https://en.wikipedia.org/wiki/Legend_of_the_Demon_Cat)] Legend of the Demon Cat\n",
    "* [[W](https://en.wikipedia.org/wiki/New_Gods:_Nezha_Reborn)] New Gods: Nezha Reborn\n",
    "* [[W](https://en.wikipedia.org/wiki/New_Gods:_Yang_Jian)] New Gods: Yang Jian\n",
    "* [[W](https://en.wikipedia.org/wiki/White_Snake_(film))] White Snake"
   ]
  },
  {
   "cell_type": "markdown",
   "metadata": {},
   "source": [
    "---"
   ]
  },
  {
   "cell_type": "markdown",
   "metadata": {},
   "source": [
    "## Poetry"
   ]
  },
  {
   "cell_type": "markdown",
   "metadata": {},
   "source": [
    "* [[W](https://en.wikipedia.org/wiki/Song_poetry)] Song Poetry\n",
    "* [[W](https://en.wikipedia.org/wiki/Tang_poetry)] Tang Poetry"
   ]
  },
  {
   "cell_type": "markdown",
   "metadata": {},
   "source": [
    "* [[W](https://en.wikipedia.org/wiki/Du_Fu)] Du Fu (712-770)\n",
    "* [[W](https://en.wikipedia.org/wiki/Li_Bai)] Li Bai (701-762)\n",
    "* [[W](https://en.wikipedia.org/wiki/Su_Shi)] Su Shi (1037-1101)\n",
    "* [W] Wenru Tang\n",
    "* [[W](https://en.wikipedia.org/wiki/Zhang_Ruoxu)] Zhang Rouxu (660-720)\n",
    "  * \"Spring River in the Flower Moon Night\""
   ]
  },
  {
   "cell_type": "markdown",
   "metadata": {},
   "source": [
    "---"
   ]
  }
 ],
 "metadata": {
  "language_info": {
   "name": "python"
  },
  "orig_nbformat": 4
 },
 "nbformat": 4,
 "nbformat_minor": 2
}
