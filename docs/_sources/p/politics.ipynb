{
 "cells": [
  {
   "cell_type": "markdown",
   "metadata": {},
   "source": [
    "# Political Philosophy and its history"
   ]
  },
  {
   "cell_type": "markdown",
   "metadata": {},
   "source": [
    "---"
   ]
  },
  {
   "cell_type": "markdown",
   "metadata": {},
   "source": [
    "## Figures"
   ]
  },
  {
   "cell_type": "markdown",
   "metadata": {},
   "source": [
    "* [[W](https://en.wikipedia.org/wiki/Hannah_Arendt)] Arendt, Hannah (1906-1975)\n",
    "* [[W](https://en.wikipedia.org/wiki/Leo_Strauss)] Strauss, Leo (1899-1973)"
   ]
  },
  {
   "cell_type": "markdown",
   "metadata": {},
   "source": [
    "---"
   ]
  },
  {
   "cell_type": "markdown",
   "metadata": {},
   "source": [
    "## Terms"
   ]
  },
  {
   "cell_type": "markdown",
   "metadata": {},
   "source": [
    "* [[W](https://en.wikipedia.org/wiki/Political_philosophy)] Political Philosophy"
   ]
  },
  {
   "cell_type": "markdown",
   "metadata": {},
   "source": [
    "---"
   ]
  },
  {
   "cell_type": "markdown",
   "metadata": {},
   "source": [
    "## Law, Politics, and Government\n",
    "\n",
    "## Resources\n",
    "* Arendt, Hannah. (1964). _Eichmann in Jerusalem: A Report on the Banality of Evil_.\n",
    "* Arendt, Hannah. (1958). _The Human Condition_. University of Chicago Press.\n",
    "* Delbanco, Andrew (ed.). (2009). _The Portable Abraham Lincoln_. Penguin Classics.\n",
    "* Dworkin, Ronald. (2006). _Justice in Robes_. Harvard University Press.\n",
    "* Dworkin, Ronald (ed.) (1977). _The Philosophy of Law_. Oxford Readings in Philosophy.\n",
    "* Garver, Eugene. (2004). _For the Sake of Argument: Practical Reasoning, Character, and the Ethics of Belief_. University of Chicago Press.\n",
    "* Greenhouse, Linda. (2012). _The U.S. Supreme Court: A Very Short Introduction_.\n",
    "* Hart, H. L. A. (1963). _Law, Liberty, and Morality_. Stanford University Press.\n",
    "* Kohn, Jeremy (ed.). (2003). Hannah Arendt. _Responsibility and Judgment_.\n",
    "* Marmor, Andrei. (2011). _Philosophy of Law_. Princeton Foundations of Contemporary Philosophy.\n",
    "* Nussbaum, Martha. (2010). _From Disgust to Humanity: Sexual Orientation and Constitutional Law_. Oxford University Press.\n",
    "* Riley, Patrick (ed.). (1988). _Leibniz: Political Writings_. Cambridge Texts in the History of Political Thought.\n",
    "* Sacks, Kenneth (ed.). (2008). _Emerson: Political Writings_. Cambridge Texts in the History of Political Thought.\n",
    "* Shaprio, Ian (ed.). (2003). John Locke. _Two Treatises of Government and a Letter Concerning Toleration_. Yale University Press.\n",
    "* Strauss, Leo & Joseph Cropsey (eds.). (1987). _History of Political Philosophy, 3rd Ed_. University of Chicago Press.\n",
    "* Wacks, Raymond. (2014). _Philosophy of Law: A Very Short Introduction_. Oxford University Press.\n",
    "\n",
    "## Figures\n",
    "* Austin, John (1790-1859) [Wiki](https://en.wikipedia.org/wiki/John_Austin_(legal_philosopher))\n",
    "* Bentham, Jeremy (1748-1832) [Wiki](https://en.wikipedia.org/wiki/Jeremy_Bentham)\n",
    "* Dworkin, Ronald (1931-2013) [Wiki](https://en.wikipedia.org/wiki/Ronald_Dworkin)\n",
    "* Hart, H. L. A. (1907-1992) [Wiki](https://en.wikipedia.org/wiki/H._L._A._Hart)\n",
    "* Nussbaum, Martha [Wiki](https://en.wikipedia.org/wiki/Martha_Nussbaum)\n",
    "* Rawls, John (1921-2002) [Wiki](https://en.wikipedia.org/wiki/John_Rawls)\n",
    "\n",
    "## Terms\n",
    "* Actus reus [Wiki](https://en.wikipedia.org/wiki/Actus_reus)\n",
    "* Analytical Jurisprudence [Wiki](https://en.wikipedia.org/wiki/Analytical_jurisprudence)\n",
    "* Breach of Contract [Wiki](https://en.wikipedia.org/wiki/Breach_of_contract)\n",
    "* Burden of Proof [Wiki](https://en.wikipedia.org/wiki/Burden_of_proof_(law))\n",
    "* Case Law [Wiki](https://en.wikipedia.org/wiki/Case_law)\n",
    "* Cause of Action [Wiki](https://en.wikipedia.org/wiki/Cause_of_action)\n",
    "* Civil Law [Wiki](https://en.wikipedia.org/wiki/Civil_law_(common_law))\n",
    "* Code of Law [Wiki](https://en.wikipedia.org/wiki/Code_of_law)\n",
    "* Codification [Wiki](https://en.wikipedia.org/wiki/Codification_(law))\n",
    "* Complaint [Wiki](https://en.wikipedia.org/wiki/Complaint)\n",
    "* Constitutional Law [Wiki](https://en.wikipedia.org/wiki/Constitutional_law)\n",
    "* Constitutionalism [Wiki](https://en.wikipedia.org/wiki/Constitutionalism)\n",
    "* Court [Wiki](https://en.wikipedia.org/wiki/Court)\n",
    "* Criminal Law [Wiki](https://en.wikipedia.org/wiki/Criminal_law)\n",
    "* Culpability [Wiki](https://en.wikipedia.org/wiki/Culpability)\n",
    "* De facto [Wiki](https://en.wikipedia.org/wiki/De_facto)\n",
    "* De jure [Wiki](https://en.wikipedia.org/wiki/De_jure)\n",
    "* Equity [Wiki](https://en.wikipedia.org/wiki/Equity_(law))\n",
    "* Element [Wiki](https://en.wikipedia.org/wiki/Element_(criminal_law))\n",
    "* English Law [Wiki](https://en.wikipedia.org/wiki/English_law)\n",
    "* Faithless Servant [Wiki](https://en.wikipedia.org/wiki/Faithless_servant)\n",
    "* Force majeure [Wiki](https://en.wikipedia.org/wiki/Force_majeure)\n",
    "* Free Will [Wiki](https://en.wikipedia.org/wiki/Free_will)\n",
    "* HOHW Hell or High Water Clause [Wiki](https://en.wikipedia.org/wiki/Hell_or_high_water_clause)\n",
    "* Interpretivism [Wiki](https://en.wikipedia.org/wiki/Interpretivism_(legal))\n",
    "* Jurisprudence [Wiki](https://en.wikipedia.org/wiki/Jurisprudence)\n",
    "* Jurisprudence, Analytical [Wiki](https://en.wikipedia.org/wiki/Analytical_jurisprudence)\n",
    "* Laches [Wiki](https://en.wikipedia.org/wiki/Laches_(equity))\n",
    "* Law [Wiki](https://en.wikipedia.org/wiki/Law)\n",
    "* Lawsuit [Wiki](https://en.wikipedia.org/wiki/Lawsuit)\n",
    "* Legal Formalism [Wiki](https://en.wikipedia.org/wiki/Legal_formalism)\n",
    "* Legal Doctrine [Wiki](https://en.wikipedia.org/wiki/Legal_doctrine)\n",
    "* Legal Maxim [Wiki](https://en.wikipedia.org/wiki/Legal_maxim)\n",
    "* Legal Positivism [Wiki](https://en.wikipedia.org/wiki/Legal_positivism)\n",
    "* Legal Realism [Wiki](https://en.wikipedia.org/wiki/Legal_realism)\n",
    "* Legislative History [Wiki](https://en.wikipedia.org/wiki/Legislative_history)\n",
    "* Liber [Wiki](https://en.wikipedia.org/wiki/Liber)\n",
    "* Libertarianism [Wiki](https://en.wikipedia.org/wiki/Libertarian_theories_of_law)\n",
    "* Liberty [Wiki](https://en.wikipedia.org/wiki/Liberty)\n",
    "* Mens rea [Wiki](https://en.wikipedia.org/wiki/Mens_rea)\n",
    "* Moral Agency [Wiki](https://en.wikipedia.org/wiki/Moral_agency)\n",
    "* Natural Law [Wiki](https://en.wikipedia.org/wiki/Natural_law)\n",
    "* Original Intent [Wiki](https://en.wikipedia.org/wiki/Original_intent)\n",
    "* Originalism [Wiki](https://en.wikipedia.org/wiki/Originalism)\n",
    "* Philosophy of Law [Wiki](https://en.wikipedia.org/wiki/Philosophy_of_law)\n",
    "* Plaintiff [Wiki](https://en.wikipedia.org/wiki/Plaintiff)\n",
    "* Polis [Wiki](https://en.wikipedia.org/wiki/Polis)\n",
    "* Political Economy [Wiki](https://en.wikipedia.org/wiki/Political_economy)\n",
    "* Precedent [Wiki](https://en.wikipedia.org/wiki/Precedent)\n",
    "* Presumption of Innocence [Wiki](https://en.wikipedia.org/wiki/Presumption_of_innocence)\n",
    "* Prima facie [Wiki](https://en.wikipedia.org/wiki/Prima_facie)\n",
    "* Rule of Law [Wiki](https://en.wikipedia.org/wiki/Rule_of_law)\n",
    "* Res ipsa loquitur [Wiki](https://en.wikipedia.org/wiki/Res_ipsa_loquitur)\n",
    "* Source of Law [Wiki](https://en.wikipedia.org/wiki/Sources_of_law)\n",
    "* Stare decisis [Wiki](https://en.wikipedia.org/wiki/Precedent)\n",
    "* Statutory Law [Wiki](https://en.wikipedia.org/wiki/Statutory_law)\n",
    "* Strict Constructionism [Wiki](https://en.wikipedia.org/wiki/Strict_constructionism)\n",
    "* Textualism [Wiki](https://en.wikipedia.org/wiki/Textualism)"
   ]
  }
 ],
 "metadata": {
  "language_info": {
   "name": "python"
  },
  "orig_nbformat": 4
 },
 "nbformat": 4,
 "nbformat_minor": 2
}
