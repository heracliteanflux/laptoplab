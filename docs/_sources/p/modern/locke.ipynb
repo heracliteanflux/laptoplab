{
 "cells": [
  {
   "attachments": {},
   "cell_type": "markdown",
   "metadata": {},
   "source": [
    "# Locke"
   ]
  },
  {
   "attachments": {},
   "cell_type": "markdown",
   "metadata": {},
   "source": [
    "---"
   ]
  },
  {
   "attachments": {},
   "cell_type": "markdown",
   "metadata": {},
   "source": [
    "## Close Reading of Locke's _An Essay Concerning Human Understanding_\n",
    "Ariew, Roger & Eric Watkins (eds). (2019). _Modern Philosophy: An Anthology of Primary Sources_. 3rd Ed. Hackett."
   ]
  },
  {
   "attachments": {},
   "cell_type": "markdown",
   "metadata": {},
   "source": [
    "---"
   ]
  },
  {
   "attachments": {},
   "cell_type": "markdown",
   "metadata": {},
   "source": [
    "### BOOK I Of Innate Notions"
   ]
  },
  {
   "attachments": {},
   "cell_type": "markdown",
   "metadata": {},
   "source": [
    "---"
   ]
  },
  {
   "attachments": {},
   "cell_type": "markdown",
   "metadata": {},
   "source": [
    "#### Ch I Introduction"
   ]
  },
  {
   "attachments": {},
   "cell_type": "markdown",
   "metadata": {},
   "source": [
    "##### 1. _An inquiry into the understanding, pleasant and useful._"
   ]
  },
  {
   "attachments": {},
   "cell_type": "markdown",
   "metadata": {},
   "source": [
    "Since it is the understanding that sets man above the rest of sensible beings and gives him all the advantage and dominion he has over them, it is certainly a subject, even for its nobleness, worth our labor to inquire into.\n",
    "\n",
    "The understanding, like the eye, while it makes us see and perceive all other things, takes no notice of itself, and it requires art and pains to set it at a distance and make it its own object.\n",
    "\n",
    "But, whatever are the difficulties that lie in the way of this inquiry, whatever it is that keeps us so much in the dark to ourselves, I am sure that all the light we can let in upon our minds, all the acquaintance we can make with our own understandings, will not only be very pleasant, but bring us great advantage in directing our thoughts in the search of other things."
   ]
  },
  {
   "attachments": {},
   "cell_type": "markdown",
   "metadata": {},
   "source": [
    "##### 2. _Design._"
   ]
  },
  {
   "attachments": {},
   "cell_type": "markdown",
   "metadata": {},
   "source": [
    "This, therefore, being my purpose--to inquire into the origin, certainty, and extent of human knowledge, together with the grounds and degrees of belief, opinion, and assent--I shall not at present meddle with the physical considerations of the mind, or trouble myself to examine in what its essence consists, or by what motions of our spirits or alterations of our bodies we come to have any sensation by our organs, or any ideas in our understandings, and whether those ideas do in their formation, any or all of them, depend on matter or not.\n",
    "\n",
    "These are speculations which, however curious and entertaining, I shall decline, as lying out of my way in the design I am now upon.\n",
    "\n",
    "It shall suffice to my present purpose to consider the discerning faculties of a man as they are employed about the objects which they have to do with.\n",
    "\n",
    "And I shall imagine I have not wholly misemployed myself in the thoughts I shall have on this occasion, if in this historical, plain method, I can give any account of the ways by which our understandings come to attain those notions of things we have, and can set down any measures of the certainty of our knowledge, or the grounds of those persuasions which are to be found among men--so various, different, and wholly contradictory--and yet asserted somewhere or other with such assurance and confidence that he who shall take a view of the opinions of mankind, observe their opposition, and at the same time consider the fondness and devotion with which they are embraced, the resolution and eagerness with which they are maintained, may perhaps have reason to suspect that either there is no such thing as truth at all, or that mankind has no sifficient means to attain a certain knowledge of it."
   ]
  },
  {
   "attachments": {},
   "cell_type": "markdown",
   "metadata": {},
   "source": [
    "    KNOWLEDGE\n",
    "      What is the origin/source of knowledge?\n",
    "      How certain is knowledge?\n",
    "      What are the limits to knowledge?\n",
    "    How is the mind related to ideas?"
   ]
  },
  {
   "attachments": {},
   "cell_type": "markdown",
   "metadata": {},
   "source": [
    "##### _3. Method_"
   ]
  },
  {
   "attachments": {},
   "cell_type": "markdown",
   "metadata": {},
   "source": [
    "It is therefore worthwhile to search out the bounds between opinion and knowledge and examine by what measures, in things of which we have no certain knowledge, we ought to regulate our assent and moderate our persuasions.\n",
    "\n",
    "Toward that end I shall pursue this following method:\n",
    "\n",
    "First, I shall inquire into the origins of those ideas, notions, or whatever else you please to call them, which a man observes and is conscious to himself he has in mind, and the ways by which the understanding comes to be furnished with them.\n",
    "\n",
    "Secondly, I shall endeavor to show what knowledge the understanding has by those ideas, and the certainty, evidence, and extent of it.\n",
    "\n",
    "Thirdly, I shall make some inquiry into the nature and grounds of faith or opinion, by which I mean that assent which we give to any proposition as true, of whose truth yet we have no certain knowledge; and here we shall have occasion to examine the reasons and degrees of assent."
   ]
  },
  {
   "attachments": {},
   "cell_type": "markdown",
   "metadata": {},
   "source": [
    "    What is the origin of ideas?\n",
    "    How does the understanding come to be furnished with ideas?\n",
    "    What knowledge does the understanding have when it is furnished with ideas?\n",
    "    How certain is it?\n",
    "    What is the evidence for it?\n",
    "    What is its extent?"
   ]
  },
  {
   "attachments": {},
   "cell_type": "markdown",
   "metadata": {},
   "source": [
    "##### 4. _Useful to know the extent of our comprehension._"
   ]
  },
  {
   "attachments": {},
   "cell_type": "markdown",
   "metadata": {},
   "source": [
    "If by this inquiry into the nature of the understanding, I can discover the powers thereof, how far they reach, to what things they are in any degree proportionate, and where they fail us, I suppose it may be of use to prevail with th ebusy mind of man to be more cautious in meddling with things exceeding its comprehension, to stop when it is at the utmost extent of its thether, and to sit down in a quiet ignorance of those things which, upon examination, are found to be beyond the reach of our capacities.\n",
    "\n",
    "We should not then perhaps be so eager, out of an affectation of a universal knowledge, to raise questions and perplex ourselves and others with disputes about things to which our understandings are not suited, and of which we cannot frame in our minds any clear or distinct perceptions, or about which (as it has perhaps too often happened) we do not have any notions at all.\n",
    "\n",
    "If we can find out how far the understanding can extend its view, how far it has faculties to attain certainty, and in what cases it can only judge and guess, we may learn to content ourselves with that is attainable by us in this state."
   ]
  },
  {
   "attachments": {},
   "cell_type": "markdown",
   "metadata": {},
   "source": [
    "##### 5."
   ]
  },
  {
   "attachments": {},
   "cell_type": "markdown",
   "metadata": {},
   "source": [
    "For, though the comprehension of our understandings comes exceedingly short of the vast extent of things, yet we shall have cause enough to magnify the bountiful author of our being for that proportion and degree of knowledge he has bestowed on us, so far above all the rest of the inhabitants of this our mansion.\n",
    "\n",
    "Men have reason to be well satisfied with what God has thought fit for them, since he has given them (as St. Peter says) panta pros zoen kai eusebian, whatsoever is necessary for the convenniences of life and information of virtue, and has put within the reach of their discovery the comfortable provision for this life and the way that leads to a better.\n",
    "\n",
    "However short their knowledge may come of a universal or perfect comprehension of whatever is, it yet secures their great concerns that they have light enough to lead them to the knowledge of their maker and the sight of their own duties.\n",
    "\n",
    "Men may find matter sufficient to busy their heads and employ their hands with variety, delight, and satisfaction, if they will not boldly quarrel with their own constitution and throw away the blessings their hands are filled with, because they are not big enough to grasp everything.\n",
    "\n",
    "We shall not have much reason to complain of the narrowness of our minds, if we will only employ them about what may be of use to us; for of that they are very capable.\n",
    "\n",
    "And it will be an unpardonable, as well as childish peevishness, if we undervalue the advantages of our knowledge and neglect to improve it to the ends for which it was given us, because there are some things that are set out of the reach of it.\n",
    "\n",
    "It will be no excuse to an idle and untoward servant who would not attend his business by candlelight to plead that he does not have broad sunshine.\n",
    "\n",
    "The candle that is set up in us shines bright enough for all our purposes.\n",
    "\n",
    "The discoveries we can make with this ought to satisfy us, and we shall then use our understandings right, when we entertain all objects in that way and proportion that they are suited to our faculties, and upon those grounds they are capable of being proposed to us, and not peremptorily, or intemperately require demonstration, and demand certainty, where probability only is to be had, and which is sufficient to govern all our concerns.\n",
    "\n",
    "If we will disbelieve everything because we cannot certainly know all things, we shall do quite as wisely as he who would not use his legs, but sit still and perish, because he had no wings to fly."
   ]
  },
  {
   "attachments": {},
   "cell_type": "markdown",
   "metadata": {},
   "source": [
    "##### 6. _Knowing the extent of our capacities will hinder us from useless curiosity, skepticism, and idleness._"
   ]
  },
  {
   "attachments": {},
   "cell_type": "markdown",
   "metadata": {},
   "source": [
    "##### 7. _Occasion of this essay._"
   ]
  },
  {
   "attachments": {},
   "cell_type": "markdown",
   "metadata": {},
   "source": [
    "##### 8. _What idea stands for._"
   ]
  },
  {
   "attachments": {},
   "cell_type": "markdown",
   "metadata": {},
   "source": [
    "This much I thought necessary to say concerning the occasion of this inquiry into human understanding.\n",
    "\n",
    "But, before I proceed on to what I have thought on this subject, I must here in the entrance beg pardon of my reader for the frequent use of the word idea, which he will find in the following treatise.\n",
    "\n",
    "It being that term, which, I think, serves best to stand for whatever is the object of the understanding when a man thinks, I have used it to express whatever is meant by phantasm, notion, species, or whatever it is which the mind can be employed about in thinking; and I could not avoid frequently using it.\n",
    "\n",
    "I presume it will be easily granted me that there are such ideas in men's minds; everyone is conscious of them in himself, and men's words and actions will satisfy him that they are in others.\n",
    "\n",
    "Our first inquiry then shall be how they come into the mind."
   ]
  },
  {
   "attachments": {},
   "cell_type": "markdown",
   "metadata": {},
   "source": [
    "---"
   ]
  },
  {
   "attachments": {},
   "cell_type": "markdown",
   "metadata": {},
   "source": [
    "#### Ch II No innate principles in the mind, and particularly no innate speculative principles"
   ]
  },
  {
   "attachments": {},
   "cell_type": "markdown",
   "metadata": {},
   "source": [
    "##### 1. _The way shown how we come by any knowledge, sufficient to prove it not innate._"
   ]
  },
  {
   "attachments": {},
   "cell_type": "markdown",
   "metadata": {},
   "source": [
    "_The way shown how we come by any knowledge, sufficient to prove it not innate._\n",
    "\n",
    "It is an established opinion among some men that there are in the understanding certain innate principles; some primary notions [koinai ennoiai], characters, as it were, stamped upon the mind of man, which the soul receives in its very first being and brings into the world with it.\n",
    "\n",
    "<p style=\"color: blue;\">\n",
    "SYNONYMS: character; general idea/impression; maxim; original/primary notion; first/original principle; truth\n",
    "<br><br>\n",
    "S, the set of innate ideas with the Leibnizian principles as paradigm:\n",
    "<br>\n",
    "<br><br>\n",
    "DEFINITION OF INNATE: a constant impression or stamping on the mind/soul; received in the mind/soul in its first being; brought into the world by the mind/soul\n",
    "</p>\n",
    "\n",
    "It would be sufficient to convince unprejudiced readers of the falseness of this supposition, if I should only show (as I hope I shall in the following parts of this discourse) how men, barely by the use of their natural faculties, may attain to all the knowledge they have, without the help of any innate impressions, and may arrive at certainty without any such original notions or principles.\n",
    "\n",
    "<p style=\"color: blue;\">\n",
    "LOCKE'S OBJECTIVE: certain human knowledge is attained via the natural faculties alone; not via any such innate\n",
    "</p>\n",
    "\n",
    "For I imagine anyone will easily grant that it would be impertinent to suppose the ideas of colors innate in a creature to whom God has given sight and a power to receive them by the eyes from external objects; and no less unreasonable would it be to attribute several truths to the impressions of nature and innate characters, when we may observe in ourselves faculties fit to attain as easy and certain knowledge of them as if they were originally imprinted on the mind.\n",
    "\n",
    "<p style=\"color: blue;\">\n",
    "Does it make sense to say that the idea of color is innate in a mind that has the sensitive faculty and its power to receive color from external objects?\n",
    "<br><br>\n",
    "If the idea of color were innate, then we would expect to lack such a faculty for it is redundant.\n",
    "</p>\n",
    "\n",
    "But because a man is not permitted without censure to follow his own thoughts in the search of truth when they lead him ever so little out of the common road, I shall set down the reasons that made me doubt of the truth of that opinion, as an excuse for my mistake, if I am in one, which I leave to be considered by those who, with me, dispose themselves to embrace truth wherever they find it."
   ]
  },
  {
   "attachments": {},
   "cell_type": "markdown",
   "metadata": {},
   "source": [
    "##### 2. _General assent the great argument._"
   ]
  },
  {
   "attachments": {},
   "cell_type": "markdown",
   "metadata": {},
   "source": [
    "_General assent the great argument._\n",
    "\n",
    "There is nothing more commonly taken for granted than that there are certain principles, both speculative and practical (for they speak of both), universally agreed upon by all mankind, which, therefore, they argue, must necessarily be the constant impressions which the souls of men receive in their first beings, and which they bring into the world with them, as necessarily and really as they do any of their inherent faculties.\n",
    "\n",
    "<p style=\"color: blue;\">\n",
    "RATIONALIST CLAIM\n",
    "<br>\n",
    "S is innate.\n",
    "<br><br>\n",
    "RATIONALIST ARGUMENT\n",
    "<br>\n",
    "If S is universally assented to, then S is innate. [NECESSARY RELATION]\n",
    "<br>\n",
    "In fact, it is evidenced/observed that S is universally assented to.\n",
    "<br>\n",
    "Therefore, S is innate.\n",
    "</p>"
   ]
  },
  {
   "attachments": {},
   "cell_type": "markdown",
   "metadata": {},
   "source": [
    "##### 3. _Universal consent proves nothing innate._"
   ]
  },
  {
   "attachments": {},
   "cell_type": "markdown",
   "metadata": {},
   "source": [
    "_Universal consent proves nothing innate._\n",
    "\n",
    "This argument, drawn from universal consent, has this misfortune in it that, if it were true in matter of fact that there were certain truths in which all mankind agreed, it would not prove them innate, if there can be any other way shown how men may come to that universal agreement in the things they do consent in, which I presume may be done.\n",
    "\n",
    "<p style=\"color: blue;\">\n",
    "Let's call the rationalist argument the ARGUMENT FROM UNIVERSAL CONSENT (UC).\n",
    "<br><br>\n",
    "LOCKE\n",
    "<br>\n",
    "Even if the second premise is true, UC does not hold if there is some other reason for the observed fact of general assent.\n",
    "<br>\n",
    "In other words, Locke is challenging the necessity of the first premise.\n",
    "</p>"
   ]
  },
  {
   "attachments": {},
   "cell_type": "markdown",
   "metadata": {},
   "source": [
    "##### 4. _What is, is, and, it is impossible for the same thing to be, and not to be, not universally assented to._"
   ]
  },
  {
   "attachments": {},
   "cell_type": "markdown",
   "metadata": {},
   "source": [
    "_What is, is, and, it is impossible for the same thing to be, and not to be, not universally assented to._\n",
    "\n",
    "But, which is worse, this argument of universal consent, which is made use of to prove innate principles, seems to me a demonstration that there are none such, because there are none to which all mankind give a universal assent.\n",
    "\n",
    "<p style=\"color: blue;\">\n",
    "LOCKE\n",
    "<br>\n",
    "BUT the second premise isn't true.\n",
    "</p>\n",
    "\n",
    "I shall begin with the speculative, and instance in those magnified principles of demonstration, \"Whatever is, is,\" and \"It is impossible for the same thing to be and not to be,\" which, of all others, I think have the most allowed title to innate.\n",
    "\n",
    "These have so settled a reputation of maxims universally received that it will no doubt be thought strange if any one should seem to question it.\n",
    "\n",
    "But yet I take liberty to say that these propositions are so far from having a universal assent that there is a great part of mankind to whom they are not so much as known.\n",
    "\n",
    "<p style=\"color: blue;\">\n",
    "LOCKE\n",
    "<br>\n",
    "Let the Leibnizian principles serve as representatives of the whole class of those ideas that claim to be innate.\n",
    "<br>\n",
    "Thus, if we can show that the Leibnizian principles do hold up to the criteria for innateness, then we can conclude that no others hold up either.\n",
    "</p>"
   ]
  },
  {
   "attachments": {},
   "cell_type": "markdown",
   "metadata": {},
   "source": [
    "##### 5. _Not on the mind naturally imprinted, because not known to children, idiots, etc._"
   ]
  },
  {
   "attachments": {},
   "cell_type": "markdown",
   "metadata": {},
   "source": [
    "_Not on the mind naturally imprinted, because not known to children, idiots, etc._\n",
    "\n",
    "For, first, it is evident that all children and idiots do not have the least apprehension or thought of them.\n",
    "\n",
    "<p style=\"color: blue;\">\n",
    "LOCKE\n",
    "<br><br>\n",
    "Let's observe that there are certain classes of people who do not apprehend/know/perceive/think/understand.\n",
    "<br>\n",
    "This is enough to show that UC doesn't actually hold up in the real world.\n",
    "</p>\n",
    "\n",
    "And the lack of that is enough to destroy that universal assent which must be the necessary concomitant of all innate truths, it seeming to me near a contradiction to say that there are truths imprinted on the soul which it does not perceive or understand--imprinting, if it signifies anything, being nothing else but the making certain truths to be perceived.\n",
    "\n",
    "<p style=\"color: blue;\">\n",
    "LOCKE'S DEFINITION OF \"IMPRINT\"\n",
    "<br>\n",
    "To imprint is to make to be apprehended/perceived.\n",
    "<br><br>\n",
    "To be innate is to be imprinted on the mind.\n",
    "<br>\n",
    "Therefore, to be innate is to be apprehended/perceived.\n",
    "<br><br>\n",
    "And so this class of people cannot be said to have such innate ideas.\n",
    "</p>\n",
    "\n",
    "For to imprint anything on the mind without the mind's perceiving it seems to me hardly intelligible.\n",
    "\n",
    "If therefore children and idiots have souls, have minds, with those impressions upon them, they must unavoidably perceive them, and necessarily know and assent to these truths.\n",
    "\n",
    "Since they do not, it is evident that there are no such impressions.\n",
    "\n",
    "<p style=\"color: blue;\">\n",
    "Innatism predicts that this class of people ought to apprehend such ideas, but they don't.\n",
    "</p>\n",
    "\n",
    "For if they are not notions naturally imprinted, how can they be innate?\n",
    "\n",
    "And if they are notions imprinted, how can they be unknown?\n",
    "\n",
    "<p style=\"color: blue;\">\n",
    "Here, Locke reinforces the necessary connection between being innate, being imprinted, and being apprehended.\n",
    "<br>\n",
    "Whether or not this connection really is necessary or not is open.\n",
    "</p>\n",
    "\n",
    "To say a notion is imprinted on the mind, and yet at the same time to say that the mind is ignorant of it and never yet took notice of it, is to make this impression nothing.\n",
    "\n",
    "<p style=\"color: blue;\">\n",
    "For Locke, it's necessary that an idea imprinted on the mind is apprehended by the mind.\n",
    "<br>\n",
    "We could go so far as to say that it is an oxymoron to say that the mind has an unknown idea imprinted on it.\n",
    "</p>\n",
    "\n",
    "No proposition can be said to be in the mind which it never yet knew, which it was never yet conscious of.\n",
    "\n",
    "For if any one may, then, by the same reason, all propositions that are true, and the mind is capable ever of assenting to, may be said to be in the mind and to be imprinted; since, if any one can be said to be in the mind, which it never yet knew, it must be only because it is capable of knowing it; and so the mind is [capable] of all truths it ever shall know.\n",
    "\n",
    "<p style=\"color: blue;\">\n",
    "To say that an idea that is not known by the mind is nevertheless innate to the mind is just to say that all ideas are innate to the mind regardless of when they come to be known by the mind, if ever. That is, all ideas are innate to the mind. Another way of saying this is that to be capable of being known is to be innate, and innateness is just the capability of being known.\n",
    "</p>\n",
    "\n",
    "No, thus truths may be imprinted on the mind which it never did, nor ever shall know; for a man may live long, and die at last in ignorance of many truths which his mind was capable of knowing, and that with certainty.\n",
    "\n",
    "So that if the capacity of knowing is the natural impression contended for, all the truths a man ever comes to know will, by this account, be every one of them innate; and this great point will amount to no more, but only to a very improper way of speaking, which, while it pretends to assert the contrary, says nothing different from those who deny innate principles.\n",
    "\n",
    "For nobody, I think, ever denied that the mind was capable of knowing several truths.\n",
    "\n",
    "The capacity, they say, is innate, the knowledge acquired.\n",
    "\n",
    "But then to what end such contest for certain innate maxims?\n",
    "\n",
    "If truths can be imprinted on the understanding without being perceived, I can see no difference there can be between any truths the mind is capable of knowing in respect of their original.\n",
    "\n",
    "They must all be innate or all adventitious; in vain shall a man go about to distinguish them.\n",
    "\n",
    "He therefore who talks of innate notions in the understanding cannot (if he intends by this any distinct sort of truths) mean such truths to be in the understanding, as it never perceived, and is yet wholly ignorant of.\n",
    "\n",
    "For it these words (to be in the understanding) have any propriety, they signify to be understood, so that to be in the understanding and not to be understood, to be in the mind and never to be perceived, is all one, as to say anything is and is not in the mind or understanding.\n",
    "\n",
    "If therefore these two propositions, \"Whatever is, is\", and \"It is impossible for the same thing to be and not to be,\" are by nature imprinted, children cannot be ignorant of them; infants, and all that have souls, must necessarily have them in their understandings, know the truth of them, and assent to it."
   ]
  },
  {
   "attachments": {},
   "cell_type": "markdown",
   "metadata": {},
   "source": [
    "##### 6. _That men know them when they come to the use of reason answered._"
   ]
  },
  {
   "attachments": {},
   "cell_type": "markdown",
   "metadata": {},
   "source": [
    "_That men know them when they come to the use of reason answered._\n",
    "\n",
    "To avoid this, it is usually answered that all men know and assent to them, when they come to the use of reason, and this is enough to prove them innate.\n",
    "\n",
    "<p style=\"color: blue;\">\n",
    "RATIONALIST REJOINDER\n",
    "<br><br>\n",
    "We don't see universal assent in practice because innate ideas are only assented to when they come to the use of reason.\n",
    "</p>"
   ]
  },
  {
   "attachments": {},
   "cell_type": "markdown",
   "metadata": {},
   "source": [
    "##### 7."
   ]
  },
  {
   "attachments": {},
   "cell_type": "markdown",
   "metadata": {},
   "source": [
    "Doubtful expressions, that have scarcely any signification, go for clear reasons to those who, being prepossessed, do not take the pains to examine even what they themselves say.\n",
    "\n",
    "<p style=\"color: blue;\">\n",
    "LOCKE\n",
    "<br><br>\n",
    "Why should the use of reason be crucial here? The use of reason does not guarantee truth.\n",
    "</p>\n",
    "\n",
    "For to apply this answer with any tolerable sense to our present purpose, it must signify one of these two things: either that as soon as men come to the use of reason these supposed native inscriptions come to be known and observed by them; or else, that the use and exercise of men's reason assists them in the discovery of these principles, and certainly makes them known to them.\n",
    "\n",
    "<p style=\"color: blue;\">\n",
    "LOCKE\n",
    "<br><br>\n",
    "There are two plausible readings of this claim.\n",
    "<br>\n",
    "1. The use of reason and the assenting to innate ideas are coincident in time.\n",
    "<br>\n",
    "2. The use of reason is a tool in the discovery of innate ideas.\n",
    "</p>"
   ]
  },
  {
   "attachments": {},
   "cell_type": "markdown",
   "metadata": {},
   "source": [
    "##### 8. _If reason discovered them, that would not prove them innate._"
   ]
  },
  {
   "attachments": {},
   "cell_type": "markdown",
   "metadata": {},
   "source": [
    "_If reason discovered them, that would not prove them innate._\n",
    "\n",
    "If they mean that by the use of reason men may discover these principles, and that this is sufficient to prove them innate, their way of arguing will stand thus, namely that, whatever truths reason can certainly discover to us and make us firmly assent to, those are all naturally imprinted on the mind; since that universal assent, which is made the mark of them, amounts to no more but this--that by the use of reason we are capable to come to a certain knowledge of and assent to them, and, by this means, there will be no difference between the maxims of the mathematicians and theorems they deduce from them--all must be equally allowed innate, they being all discoveries made by the use of reason and truths that a rational creature may certainly come to know, if he applies his thoughts rightly that way.\n",
    "\n",
    "<p style=\"color: blue;\">\n",
    "FIRST READING\n",
    "<br><br>\n",
    "The use of reason is an active process in which innate ideas are discovered/uncovered.\n",
    "<br>\n",
    "The process of discovery of an innate idea may be necessary in knowing and assenting to it.\n",
    "<br><br>\n",
    "LOCKE\n",
    "<br><br>\n",
    "On this reading, all truths discovered in this way, both the mathematical axioms and the most derivative of theorems, count as innate.\n",
    "<br>\n",
    "But we wouldn't call all such truths innate.\n",
    "<br>\n",
    "Therefore, this can't be correct.\n",
    "</p>"
   ]
  },
  {
   "attachments": {},
   "cell_type": "markdown",
   "metadata": {},
   "source": [
    "##### 9. _It is false that reason discovers them._"
   ]
  },
  {
   "attachments": {},
   "cell_type": "markdown",
   "metadata": {},
   "source": [
    "_It is false that reason discovers them._\n",
    "\n",
    "But how can these men think the use of reason necessary to discover principles that are supposed innate, when reason (if we may believe them) is nothing else but the faculty of deducing unknown truths from principles or propositions that are already known?\n",
    "\n",
    "That certainly can never be thought innate which we have need of reason to discover, unless, as I have said, we will have all the certain truths that reason ever teaches us to be innate.\n",
    "\n",
    "<p style=\"color: blue;\">\n",
    "LOCKE\n",
    "<br><br>\n",
    "It doesn't really make sense to say that reason discovers. Rather, reason deduces.\n",
    "<br><br>\n",
    "DEFINITION OF REASONING\n",
    "<br>\n",
    "Reason is the deduction of unknown truths from known truths.\n",
    "<br><br>\n",
    "And the idea that discovery is necessary to know and assent to innate ideas doesn't really make sense either.\n",
    "</p>"
   ]
  },
  {
   "attachments": {},
   "cell_type": "markdown",
   "metadata": {},
   "source": [
    "##### 12. _The coming to the use of reason not the time we come to know these maxims._"
   ]
  },
  {
   "attachments": {},
   "cell_type": "markdown",
   "metadata": {},
   "source": [
    "_The coming to the use of reason not the time we come to know these maxims._\n",
    "\n",
    "If by knowing and assenting to them, _when we come to the use of reason_, is meant that this is the time when they come to be taken notice of by the mind, and that, as soon as children come to the use of reason they come also to know and assent to these maxims, this also is false and frivolous.\n",
    "\n",
    "<p style=\"color: blue;\">\n",
    "SECOND READING\n",
    "<br><br>\n",
    "There comes a time in the life of an individual when they come to the use of reason; and it is just this time when the innate ideas are known and assented to. In other words, coming to the use of reason and knowing and assenting to the innate ideas are coincident.\n",
    "</p>\n",
    "\n",
    "_First_, it is false, because it is evident these maxims are not in the mind so early as the use of reason, and therefore the coming to the use of reason is falsely assigned as the time of their discovery.\n",
    "\n",
    "How many instances of the use of reason may we observe in children a long time before they have any knowledge of this maxim, \"That it is impossible for the same thing to be and not to be\"?\n",
    "\n",
    "<p style=\"color: blue;\">\n",
    "As a matter of evidence/fact/observation, the use of reason (in children) predates knowing+assenting to S.\n",
    "</p>\n",
    "\n",
    "And a great part of illiterate people and savages pass many years, even of their rational age, without ever thinking on this and the like general propositions.\n",
    "\n",
    "<p style=\"color: blue;\">\n",
    "As a matter of evidence/fact/observation, many people who employ the use of reason never encounter S.\n",
    "</p>\n",
    "\n",
    "I grant, men do not come to the knowledge of these general and more abstract truths, which are thought innate, until they come to the use of reason; and I add, nor then neither.\n",
    "\n",
    "This is so because, until after they come to the use of reason, those general abstract _ideas_ are not framed in the mind, about which those maxims are, which are mistaken for innate principles, but are indeed discoveries made and verities introduced and brought into the mind by the same way, and discovered by the same steps, as several other propositions, which nobody was ever so extravagant as to suppose innate.\n",
    "\n",
    "<p style=\"color: blue;\">\n",
    "S is not known+assented to even at the time of coming to the use of reason; sometimes not until long after; sometimes never at all.\n",
    "<br>\n",
    "S is derived/discovered.\n",
    "</p>"
   ]
  },
  {
   "attachments": {},
   "cell_type": "markdown",
   "metadata": {},
   "source": [
    "##### 14. _If coming to the use of reason were the time of their discovery, it would not prove them innate._"
   ]
  },
  {
   "attachments": {},
   "cell_type": "markdown",
   "metadata": {},
   "source": [
    "_If coming to the use of reason were the time of their discovery, it would not prove them innate._\n",
    "\n",
    "But, _secondly_, were it true that the precise time of their being known and assented to were when men come to the use of reason, neither would that prove them innate.\n",
    "\n",
    "This way of arguing is as frivolous as the supposition itself is false.\n",
    "\n",
    "For, by what kind of logic will it appear that any notion is originally by nature imprinted in the mind in its first constitution, because it comes first to be observed and assented to when a faculty of the mind, which has quite a distinct province, begins to exert itself?\n",
    "\n",
    "<p style=\"color: blue;\">\n",
    "If such a coincidence were true, this fact itself would not serve as a proof about innateness.\n",
    "</p>"
   ]
  },
  {
   "attachments": {},
   "cell_type": "markdown",
   "metadata": {},
   "source": [
    "##### 15. _The steps by which the mind attains several truths._"
   ]
  },
  {
   "attachments": {},
   "cell_type": "markdown",
   "metadata": {},
   "source": [
    "_The steps by which the mind attains several truths._\n",
    "\n",
    "The senses at first let in particular _ideas_, and furnish the yet empty cabinet, and the mind be degrees growing familiar with some of them, they are lodged in the memory, and names got to them.\n",
    "\n",
    "<p style=\"color: blue;\">\n",
    "The mind begins empty.\n",
    "<br>\n",
    "The senses let particular ideas into the mind.\n",
    "<br>\n",
    "The mind gets to know some of these particular ideas; they are stored in memory; they are named.\n",
    "<br>\n",
    "But how exactly is this supposed to happen? Which step comes first, and which are consequences?\n",
    "</p>\n",
    "\n",
    "Afterwards the mind proceeding further abstracts them, and by degrees learns the use of general names.\n",
    "\n",
    "In this manner the mind comes to be furnished with _ideas_ and language, the materials about which to exercise its discursive faculty.\n",
    "\n",
    "And the use of reason becomes daily more visible, as these materials that give it employment increase.\n",
    "\n",
    "<p style=\"color: blue;\">\n",
    "The use of reason appears as the abundance of abstracted, general ideas in the mind increases.\n",
    "</p>\n",
    "\n",
    "But though the having of general _ideas_ and the use of general words and reason usually grow together, yet I do not see how this any way proves them innate.\n",
    "\n",
    "The knowledge of some truths, I confess, is very early in the mind, but in a way that shows them not to be innate.\n",
    "\n",
    "For, if we will observe, we shall find it still to be about _ideas_, not innate, but acquired--it being about those first which are imprinted by external things, with which infants have earliest to do, which make the most frequent impressions on their senses.\n",
    "\n",
    "In _ideas_ thus got, the mind discovers that some agree and others differ, probably as soon as it has any use of memory, as soon as it is able to retain and perceive distinct _ideas_.\n",
    "\n",
    "But whether it is then, or not, this is certain, it does so long before it has the use of words, or comes to that which we commonly call \"the use of reason.\"\n",
    "\n",
    "For a child knows as certainly before it can speak the difference between the _ideas_ of sweet and bitter (i.e., that sweet is not bitter), as it knows afterwards (when it comes to speak) that wormwood and sugarplums are not the same thing."
   ]
  },
  {
   "attachments": {},
   "cell_type": "markdown",
   "metadata": {},
   "source": [
    "##### 17. _Assenting as soon as proposed and understood does not prove them innate._"
   ]
  },
  {
   "attachments": {},
   "cell_type": "markdown",
   "metadata": {},
   "source": [
    "_Assenting as soon as proposed and understood does not prove them innate._\n",
    "\n",
    "This evasion therefore of general assent when men come to the use of reason, failing as it does, and leaving no difference between those supposed innate and other truths that are afterwards acquired and learned, men have endeavored to secure a universal assent to those they call maxims, by saying they are _generally assented to as soon as proposed_, and the terms they are proposed in understood; seeing all men, even children, as soon as they hear and understand the terms, assent to these propositions, they think it is sufficient to prove them innate.\n",
    "\n",
    "For, since men never fail, after they have once understood the words, to acknowledge them for undoubted truths, they would infer that certainly these propositions were first lodged in the understanding, which, without any teaching, the mind at the very first proposal immediately closes with and assents to, and after that never doubts again.\n",
    "\n",
    "<p style=\"color: blue;\">\n",
    "The modified rationalist claim goes:\n",
    "<br>\n",
    "It's not that S is known and assented to just when we come to the use of reason. Rather, the use of reason is a necessary condition for knowing and assenting to S. But it is only when S is heard and understood that it is known and assented to, universally.\n",
    "<br>\n",
    "And it is just this kind of universal assent that proves S innate.\n",
    "</p>"
   ]
  },
  {
   "attachments": {},
   "cell_type": "markdown",
   "metadata": {},
   "source": [
    "##### 18. _If such an assent is a mark of innate, then that one and two are equal to three, that sweetness is not bitterness, and a thousand the like, must be innate._"
   ]
  },
  {
   "attachments": {},
   "cell_type": "markdown",
   "metadata": {},
   "source": [
    "_If such an assent is a mark of innate, then that one and two are equal to three, that sweetness is not bitterness, and a thousand the like, must be innate._\n",
    "\n",
    "In answer to this I demand \"whether ready assent given to a proposition, _upon first hearing_ and understanding the terms, is a certain mark of an innate principle?\"\n",
    "\n",
    "If it is not, such a general assent is in vain urged as a proof of them; if it is said that it is a mark of innate, they must then allow all such propositions to be innate which are generally assented to as soon as heard, by which they will find themselves plentifully stored with innate principles.\n",
    "\n",
    "For, upon the same ground, namely, of assent at first hearing and understanding the terms, that men would have those maxims pass for innate, they must also admit several propositions about numbers to be innate; and thus, _that one and two are equal to three, that two and two areequal to four,_ and a multitude of other like propositions in numbers that every body assents to at first hearing and understanding the terms, must have a place among these innate axioms.\n",
    "\n",
    "Nor is this the prerogative of numbers alone and propositions made about several of them, but even natural philosophy and all the other sciences afford propositions which are sure to meet with assent as soon as they are understood.\n",
    "\n",
    "_That two bodies cannot be in the same place_ is a truth that nobody any more sticks at than at these maxims, that \"it is impossible for the same thing to be and not to be,\" that \"white is not black,\" that \"a square is not a circle,\" that \"bitterness is not sweetness.\"\n",
    "\n",
    "But since no proposition can be innate unless the _ideas_ about which it is are innate, this will be to suppose all our _ideas_ of colors, sounds, tastes, figure, etc. innate, than which there cannot be anything more opposite to reason and experience.\n",
    "\n",
    "Universal and ready assent upon hearing and understanding the terms is (I grant) a mark of self-evidence; but self-evidence, depending not on innate impressions, but on something else (as we shall show afterward), belongs to several propositions which nobody was yet so extravagant as to pretend to be innate.\n",
    "\n",
    "<p style=\"color: blue;\">\n",
    "LOCKE\n",
    "<br><br>\n",
    "All and even the most derivative of truths are thus considered innate, so long as they meet the criterion that they are assented to when understood.\n",
    "<br>\n",
    "This is the mark of SELF-EVIDENCE, not INNATENESS.\n",
    "</p>"
   ]
  },
  {
   "attachments": {},
   "cell_type": "markdown",
   "metadata": {},
   "source": [
    "##### 19. _Such less general propositions known before these universal maxims._"
   ]
  },
  {
   "attachments": {},
   "cell_type": "markdown",
   "metadata": {},
   "source": [
    "_Such less general propositions known before these universal maxims._\n",
    "\n",
    "Nor let it be said that those more particular self-evident propositions which are assented to at first hearing as _that one and two are equal to three, that green is not red,_ etc., are received as the consequences of those more universal propositions which are looked on as innate principles, since anyone, who will but take the pains to observe what passes in the understanding will certainly find that these, and the like less general propositions, are certainly known and firmly assented to by those who are utterly ignorant of those more general maxims; and so, being earlier in the mind than those (as they are called) first principles, cannot owe to them the assent with which they are received at first hearing.\n",
    "\n",
    "<p style=\"color: blue;\">\n",
    "LOCKE\n",
    "<br><br>\n",
    "It is evident that PARTICULARS PRECEDE UNIVERSALS, not that particulars follow from or are derived from universals.\n",
    "</p>"
   ]
  },
  {
   "attachments": {},
   "cell_type": "markdown",
   "metadata": {},
   "source": [
    "##### 21. _These maxims not being known sometimes until proposed does not prove them innate._"
   ]
  },
  {
   "attachments": {},
   "cell_type": "markdown",
   "metadata": {},
   "source": [
    "_These maxims not being known sometimes until proposed does not prove them innate._\n",
    "\n",
    "But we have not yet done with _assenting to propositions at first hearing and understanding their terms._\n",
    "\n",
    "It is fit we first take notice that this, instead of being a mark that they are innate, is a proof of the contrary, since it supposes that several who understand and know other things are ignorant of these principles until they are proposed to them, and that one may be unacquainted with these truths, until he hears them from others.\n",
    "\n",
    "For, if they were innate, what need they be proposed in order to gaining assent, when by being in the understanding by a natural and original impression (if there were any such) they could not but be known before?\n",
    "\n",
    "<p style=\"color: blue;\">\n",
    "LOCKE\n",
    "<br><br>\n",
    "The fact that we don't know and assent to S until such time that we hear and understand it supports the claim that S is not innate.\n",
    "</p>"
   ]
  },
  {
   "attachments": {},
   "cell_type": "markdown",
   "metadata": {},
   "source": [
    "##### 22. _Implicitly known before proposing signifies that the mind is capable of understanding them, or else signifies nothing._"
   ]
  },
  {
   "attachments": {},
   "cell_type": "markdown",
   "metadata": {},
   "source": [
    "_Implicitly known before proposing signifies that the mind is capable of understanding them, or else signifies nothing._\n",
    "\n",
    "If it is said, \"the understanding has an _implicit knowledge_ of these principles, but not an _explicit_, before this first hearing,\" (as they must who will say, \"that they are in the understanding before they are known\") it will be hard to conceive what is meant by a principle imprinted on the understanding implicitly, unless it is this, that the mind is capable of understanding and assenting firmly to such propositions.\n",
    "\n",
    "And thus all mathematical demonstrations as well as first principles must be received as native impressions on the mind.\n",
    "\n",
    "<p style=\"color: blue;\">\n",
    "RATIONALISTS:\n",
    "<br><br>\n",
    "S is implicitly known before being heard+understood, and explicitly known afterward.\n",
    "<br><br>\n",
    "LOCKE\n",
    "<br><br>\n",
    "To say that those truths that are known and assented to upon hearing and understanding them were always implicit in the mind could only mean this, that they were always capable of being known to the mind.\n",
    "<br>\n",
    "If this criterion--implicit knowing as innate--were the mark of innateness, then as before all truths would be called innate, and innateness just reduces to the capability/possibility to know S.\n",
    "</p>"
   ]
  },
  {
   "attachments": {},
   "cell_type": "markdown",
   "metadata": {},
   "source": [
    "---"
   ]
  },
  {
   "attachments": {},
   "cell_type": "markdown",
   "metadata": {},
   "source": [
    "### BOOK II Of Ideas"
   ]
  },
  {
   "attachments": {},
   "cell_type": "markdown",
   "metadata": {},
   "source": [
    "#### Ch I Of Ideas in General, and Their Origin"
   ]
  },
  {
   "attachments": {},
   "cell_type": "markdown",
   "metadata": {},
   "source": [
    "---"
   ]
  },
  {
   "attachments": {},
   "cell_type": "markdown",
   "metadata": {},
   "source": [
    "## Notes"
   ]
  },
  {
   "attachments": {},
   "cell_type": "markdown",
   "metadata": {},
   "source": [
    "An Essay Concerning Human Understanding (pp 346-367; 389-397)\n",
    "* Book I, chs i-ii\n",
    "* Book II, chs i-viii; xxiii\n",
    "\n",
    "Questions\n",
    "* Why does Locke think that there is no innate principle in the mind?\n",
    "* What is the origin of ideas, according to Locke?\n",
    "* What are the primary and secondary qualities of objects?\n",
    "* What is the distinction between these two types of qualities?\n",
    "* What is substance, for Locke?\n",
    "* How is a substance related to its primary and secondary qualities?"
   ]
  },
  {
   "attachments": {},
   "cell_type": "markdown",
   "metadata": {},
   "source": [
    "INNATISM vs TABULA RASA\n",
    "\n",
    "Innatism 1: UNIVERSAL CONSENT\n",
    "* the rationalists contend that there are certain universal logical principles ascented/consented to by everyone\n",
    "* if a principle is innate, then it is universal (IF P THEN Q)\n",
    "* however, there is no evidence that certain classes of people such as infants and idiots consent to such principles (NOT Q)\n",
    "* therefore, these principles cannot be innate (NOT P)\n",
    "\n",
    "Innatism 2: DISPOSITION\n",
    "* innate principles are dispositions which are only expressed in a recognizable form under certain conditions; until then, the propositions remain unperceived by the mind\n",
    "* if this is true, then what is our criterion for separating innate ideas from ideas that we come to discover?\n",
    "* if we make the assumption that our ideas are innate and dispositional, then all true propositions are such and we know everything\n",
    "* but we won't allow this; therefore, ideas are not innate\n",
    "\n",
    "TABULA RASA\n",
    "* the human mind begins tabula rasa wrt content/ideas (though the mind already has the faculties to receive sense data; the abilities to process/work with sense data); there are no innate principles or mental rules for processing the sense data\n",
    "* Experience (sensation, reflexion) furnishes the mind with sense data, simple ideas.\n",
    "\n",
    "SOURCE OF IDEAS: EXPERIENCE\n",
    "* SENSATION: the direct sense-perception of the sensible qualities of external objects\n",
    "* REFLEXION: the perception of one's own mental operations and states (\"internal sensation\")\n",
    "\n",
    "the qualities of external objects are the cause of our ideas of external objects\n",
    "* PRIMARY QUALITIES: these are objective; the qualities that make up the essence of body (solidity, extension, figure, motion)\n",
    "* SECONDARY QUALITIES: not in the external objects, but arise as sensations in us as a power of the primary qualities\n",
    "\n",
    "SUBSTANCE, two complex ideas\n",
    "* SUBSTANCE-IN-GENERAL: the idea of substance in general: that which grounds the qualities that cannot exist on their own\n",
    "  * such an ultimate basis is not itself a quality, so we can have no experience or idea of it: substance-in-general is a something we know not what\n",
    "* SUBSTANCE-IN-PARTICULAR: collections of qualities that we observe go together"
   ]
  },
  {
   "attachments": {},
   "cell_type": "markdown",
   "metadata": {},
   "source": [
    "Complex Ideas\n",
    "* Ideas of Substance\n",
    "* Ideas of Modes\n",
    "\n",
    "Substance\n",
    "* independent existences: e.g., God, angels, humans, animals, plants, and a variety of constructed things\n",
    "\n",
    "Mode\n",
    "* dependent existences: e.g., mathematical and moral ideas; all the conventional language of religion, politics, culture\n",
    "\n",
    "Three kinds of Mental Actions in the processing of simple ideas\n",
    "* Combination of simple ideas into complex ideas\n",
    "* Comparison/RELATION of ideas: the bringing of two ideas simple or complex by one another so as to take a view of them at once, without uniting them\n",
    "* the production of GENERAL ideas via ABSTRACTION from particulars (leaving out the particulars of time and place)\n",
    "\n",
    "Mental Faculties\n",
    "* Memory, the storage of ideas\n",
    "\n",
    "Particular Ideas\n",
    "* Identity\n",
    "* Moral Relation\n",
    "* Number\n",
    "* Power (free will, voluntary action)\n",
    "* Solidity\n",
    "* Space\n",
    "* Time\n",
    "\n",
    "For all we know, God could as easily add the powers of perception and thought to matter organized in the right way as he could add those powers to an immaterial substance which would then be joined to matter organized in the right way"
   ]
  },
  {
   "attachments": {},
   "cell_type": "markdown",
   "metadata": {},
   "source": [
    "refutation of the claim of universal assent\n",
    "* no way of knowing it exists\n",
    "\n",
    "dispositional account\n",
    "* the innate ideas\n",
    "\n",
    "sources of ideas\n",
    "* sensation: direct sense-perception os sensible qualities (direct,original)\n",
    "* reflection: internal operations on sensations (indirect,derivative)\n",
    "\n",
    "kinds of ideas\n",
    "* simple: neither generatable nor destructible by the mind\n",
    "* complex\n",
    "\n",
    "Locke's representationalism\n",
    "* see Berkeley's exploitation of this\n",
    "* the immediate/direct object of perception is the idea of an object, but not the object itself\n",
    "\n",
    "veil of representation\n",
    "\n",
    "Primary Qualities, what remains no matter how much you divide objects, down into insensible atoms\n",
    "* solidity, extension, figure, mobility\n",
    "* objective qualities of insensible particles\n",
    "* resemblance\n",
    "\n",
    "Secondary Qualities\n",
    "* effects of insensible particles on the mind, no resemblance\n",
    "\n"
   ]
  },
  {
   "attachments": {},
   "cell_type": "markdown",
   "metadata": {},
   "source": [
    "Rationalism vs Empiricism\n",
    "\n",
    "Rationalism (mind, reason, innate ideas, a priori)\n",
    "* Descartes\n",
    "* Spinoza\n",
    "* Leibniz\n",
    "\n",
    "Empiricism (body, sense experience, a posteriori)\n",
    "* Locke\n",
    "* Berkeley\n",
    "* Hume\n",
    "\n",
    "p346\n",
    "\n",
    "locke denies the first premise\n",
    "* rational account\n",
    "* mental capacity to learn them\n",
    "\n",
    "disposition argument\n",
    "\n"
   ]
  },
  {
   "attachments": {},
   "cell_type": "markdown",
   "metadata": {},
   "source": [
    "---"
   ]
  },
  {
   "attachments": {},
   "cell_type": "markdown",
   "metadata": {},
   "source": [
    "## How does Locke argue that the human mind is a tabula rasa at birth? Do you think Locke's argument is convincing? Why or why not?"
   ]
  },
  {
   "attachments": {},
   "cell_type": "markdown",
   "metadata": {},
   "source": [
    "### PROLEGOMENA"
   ]
  },
  {
   "attachments": {},
   "cell_type": "markdown",
   "metadata": {},
   "source": [
    "MIND\n",
    "\n",
    "Locke describes innatism as a constant impression upon mind/soul which mind/soul receives in its first being and which mind/soul brings with it into the world.\n",
    "\n",
    "IMPRINT\n",
    "\n",
    "to make certain truths to be perceived\n",
    "\n",
    "MODUS PONENS\n",
    "\n",
    "If P then Q.<br>\n",
    "P.<br>\n",
    "Therefore, Q.\n",
    "\n",
    "MODUS TOLLENS\n",
    "\n",
    "If P then Q.<br>\n",
    "Not Q.<br>\n",
    "Therefore, Not P.\n",
    "\n",
    "FAITH/OPINION [BOOK I CHAPTER I 3]\n",
    "\n",
    "the assent we give to a proposition as true, of whose truth yet we have no certain knowledge\n",
    "\n",
    "IDEA [BOOK I CHAPTER I 8]\n",
    "\n",
    "that which is the object of the understanding when a man thinks; whatever is meant by phantasm, notion, species, or whatever it is which the mind can be employed about in thinking"
   ]
  },
  {
   "attachments": {},
   "cell_type": "markdown",
   "metadata": {},
   "source": [
    "[2]\n",
    "\n",
    "INNATE\n",
    "\n",
    "the constant impressions which the souls of men receive in their first beings and which they bring into the world with them\n",
    "\n",
    "the set S of Leibnizian/logical ideas/maxims/principles/propositions\n",
    "* Principle of Contradiction\n",
    "* Identity of Indiscernibles: \n",
    "\n",
    "UNIVERSAL CONSENT according to Locke\n",
    "\n",
    "$\n",
    "\\text{Proposition P: S is assented to by all mankind}\n",
    "\\\\\n",
    "\\text{Proposition Q: S is innate}\n",
    "$\n",
    "\n",
    "$\n",
    "\\text{P}\\to\\text{Q}\n",
    "\\\\\n",
    "\\text{P}\n",
    "\\\\\n",
    "\\therefore\\text{Q}\n",
    "$\n",
    "\n",
    "becomes\n",
    "\n",
    "$\n",
    "\\text{S is assented to by all mankind}\\to\\text{S is innate}\n",
    "\\\\\n",
    "\\text{S is assented to by all mankind}\n",
    "\\\\\n",
    "\\therefore\\text{S is innate}\n",
    "$\n",
    "\n",
    "[3]\n",
    "\n",
    "If there were such truths to which all mankind assented, UC would not prove them innate.\n",
    "\n",
    "Even if\n",
    "* the second premise held\n",
    "* $\\text{P}$ were evidenced/observed/true\n",
    "\n",
    "the conclusion would not follow of necessity if there were any other way in which general assent was reached."
   ]
  },
  {
   "attachments": {},
   "cell_type": "markdown",
   "metadata": {},
   "source": [
    "### ESSAY"
   ]
  },
  {
   "attachments": {},
   "cell_type": "markdown",
   "metadata": {},
   "source": [
    "RATIONALIST DEFENSE OF INNATISM\n",
    "\n",
    "The rationalists muster the argument from universal consent (UC) in defense of the assertion that since the set of logical principles (S) are universally assented to by all mankind they are therefore innate.\n",
    "\n",
    "\n",
    "\n",
    "In B1C2-3, Locke challenges the necessity or proof of UC by conjecturing its coincidentality: the argument from UC would hold if it could be proved that innatism was the one and only reason for UC; on the other hand, UC will fail to hold if it could be shown that there was some alternative to innatism which could be shown to be the reason for any observed UC.\n",
    "\n",
    "At this point, Locke suggests that there is such an alternative but moves on to the simpler refutation of UC, which lay in the falsity of the second premise, or in the evidence or observation that in fact S is not assented to by all of mankind.\n",
    "\n",
    "Locke takes the two Leibnizian principles of identity and contradiction as paradigm and representative of all propositions which could be said to be innate so that no such proposition holds up as innate if these two do not.\n",
    "\n",
    "THE FALSITY OF P, EVIDENCE FOR NO UC\n",
    "\n",
    "In B1C2-5 [pp 349], Locke sets out to argue that there is a portion of mankind that does not assent to S, that portion designated by Locke's children and idiots. For Locke, it's clear that children and idiots do not apprehend nor think. It's not clear that this so obvious now, but we could assume that by children and idiots are meant newborns and individuals who have become mentally incapacitated for one reason or another.\n",
    "\n",
    "Locke via Modus Tollens\n",
    "If S is imprinted on the mind/soul, then S is apprehended/perceived/thought/understood by the mind/soul<br>\n",
    "S is not apprehended/perceived/thought/understood by the mind/soul of M<br>\n",
    "Therefore, S is not imprinted on the mind/soul of M<br>\n",
    "\n",
    "LOCKE: \"If therefore children and idiots have souls, have minds, with those impressions upon them, they must unavoidably perceive them, and necessarily know and assent to these truths. Since they do not, it is evident that there are no such impressions.\"\n",
    "\n",
    "Locke further solidifies the necessary relation between the notion of innatism to that of his definition of imprinting in terms of being apprehended/perceived/understood:\n",
    "\n",
    "LOCKE: \"For if they are not notions naturally imprinted, how can they be innate? And if they are notions imprinted, how can they be unknown?\"\n",
    "\n",
    "No proposition can be both [imprinted] in the mind/soul while being unknown to the mind/soul. If some proposition can be both [imprinted] in the mind/soul (i.e., innate) while being unknown to the mind/soul, then the proposition is capable of being known to the mind/soul; and the mind/soul is capable of assenting to all truths it will ever know. Therefore, all such truths can be said to be innate.\n",
    "\n",
    "LOCKE: \"No proposition can be said to be in the mind which it never yet knew...For if any one may, then, by the same reason, all propositions that are true, and the mind is capable ever of assenting to, may be said to be in the mind and to be imprinted; since, if any one can be said to be in the mind, which it never yet knew, it must be only because it is capable of knowing it; and so the mind is capable of all truths it ever shall know.\"\n",
    "\n",
    "If the innate ideas are those ideas we are capable of knowing, then there are innate ideas that we will never know.\n",
    "\n",
    "Thus we would say that all the ideas we ever come to know, and even those ideas we never come to know but were capable of knowing, are innate.\n",
    "\n",
    "Meaninglessness of innatism, every possible idea is innate\n",
    "\n",
    "DISPOSITIONAL ARGUMENT\n",
    "\n",
    "\"that men know [and assent to] [ideas] when they come to the use of reason [and this is enough to prove ideas innate]\"\n",
    "\n",
    "According to Locke the dispositional thesis goes as follows: to know and assent to S when S comes to the use of reason is sufficient to prove S innate.\n",
    "\n",
    "Locke briefly attacks the blanket argument that if the mind comes to the use of reason then the ideas known to the mind are innate with the observation that irrational minds often employ the use of reason in their justification of unreasonable conclusions.\n",
    "\n",
    "LOCKE: \"Doubtful expressions, that have scarcely any signification, go for clear reasons to those who, being prepossessed, do not take the pains to examine even what they themselves say.\"\n",
    "\n",
    "Locke narrows the dispositional thesis down to two reasonable interpretations:\n",
    "\n",
    "1: S come to be known and assented to just when the mind comes to \"the use of reason\"\n",
    "\n",
    "LOCKE: \"...that as soon as men come to the use of reason these supposed native inscriptions come to be known and observed by them.\"\n",
    "\n",
    "2: \"the use and exercise of reason\" assists the mind in the discovery of S [and knowledge and assent follow discovery]\n",
    "\n",
    "LOCKE: \"...the use and exercise of men's reason assists them in the discovery of these principles, and certainly makes them known to them.\"\n",
    "\n",
    "LOCKE ON [2]\n",
    "\n",
    "[2] implies that any such idea/principle/truth is innate. [any idea/principle/truth which is discovered by the use of reason and thenceforth known and assented to]; for instance, innatism applies equally to the axioms as well as their most derivative theorems.\n",
    "\n",
    "Since we wouldn't say that even the most derivative of the theorems are innate rather than discovered, the use of reason in the discovery of ideas isn't sufficient to prove them innate.\n",
    "\n",
    "Locke continues in [S9]\n",
    "\n",
    "the rationalists claim that\n",
    "* the use of reason is necessary to discover the innate S\n",
    "* reason is just the faculty of deduction, of unknown S from known S\n",
    "* but the unknown S are not innate"
   ]
  },
  {
   "attachments": {},
   "cell_type": "markdown",
   "metadata": {},
   "source": [
    "---"
   ]
  },
  {
   "attachments": {},
   "cell_type": "markdown",
   "metadata": {},
   "source": [
    "## Terms"
   ]
  },
  {
   "attachments": {},
   "cell_type": "markdown",
   "metadata": {},
   "source": [
    "* [[S](https://plato.stanford.edu/entries/locke/)][[W](https://en.wikipedia.org/wiki/John_Locke)] Locke, John (1632-1704)\n",
    "  * [[S](https://plato.stanford.edu/entries/locke-freedom/)] Locke on Freedom\n",
    "  * [[S](https://plato.stanford.edu/entries/locke-personal-identity/)] Locke on Personal Identity\n",
    "  * [[S](https://plato.stanford.edu/entries/real-essence/)] Lock on Real Essence\n",
    "  * [[S](https://plato.stanford.edu/entries/locke-moral/)] Locke's Moral Philosophy\n",
    "  * [[S](https://plato.stanford.edu/entries/locke-philosophy-science/)] Locke's Philosophy of Science\n",
    "  * [[S](https://plato.stanford.edu/entries/locke-political/)] Locke's Political Philosophy\n",
    "  * [[S](https://plato.stanford.edu/entries/locke/supplement.html)] Some issues in Locke's Philosophy of Mind\n",
    "* [S][[W](https://en.wikipedia.org/wiki/An_Essay_Concerning_Human_Understanding)] _An Essay Concerning Human Understanding_. (1689).\n",
    "* [[S](https://plato.stanford.edu/entries/dispositions/)][W] Dispositions\n",
    "* [S][[W](https://en.wikipedia.org/wiki/Tabula_rasa)] Tabula Rasa"
   ]
  },
  {
   "attachments": {},
   "cell_type": "markdown",
   "metadata": {},
   "source": [
    "---"
   ]
  },
  {
   "attachments": {},
   "cell_type": "markdown",
   "metadata": {},
   "source": [
    "## Bibliography"
   ]
  },
  {
   "attachments": {},
   "cell_type": "markdown",
   "metadata": {},
   "source": [
    "Ariew, Roger & Eric Watkins (eds). (2019). _Modern Philosophy: An Anthology of Primary Sources_. 3rd Ed. Hackett. "
   ]
  },
  {
   "attachments": {},
   "cell_type": "markdown",
   "metadata": {},
   "source": [
    "---"
   ]
  }
 ],
 "metadata": {
  "kernelspec": {
   "display_name": "main",
   "language": "python",
   "name": "python3"
  },
  "language_info": {
   "codemirror_mode": {
    "name": "ipython",
    "version": 3
   },
   "file_extension": ".py",
   "mimetype": "text/x-python",
   "name": "python",
   "nbconvert_exporter": "python",
   "pygments_lexer": "ipython3",
   "version": "3.10.8"
  },
  "orig_nbformat": 4
 },
 "nbformat": 4,
 "nbformat_minor": 2
}
