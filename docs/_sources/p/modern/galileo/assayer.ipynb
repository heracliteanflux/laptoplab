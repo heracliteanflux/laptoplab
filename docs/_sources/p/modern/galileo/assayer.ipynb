{
 "cells": [
  {
   "attachments": {},
   "cell_type": "markdown",
   "metadata": {},
   "source": [
    "# _The Assayer_ (1623)\n",
    "\n",
    "Ariew, Roger & Eric Watkins (eds). (2019). _Modern Philosophy: An Anthology of Primary Sources_. 3rd Ed. Hackett."
   ]
  },
  {
   "attachments": {},
   "cell_type": "markdown",
   "metadata": {},
   "source": [
    "---"
   ]
  },
  {
   "attachments": {},
   "cell_type": "markdown",
   "metadata": {},
   "source": [
    "## Corpuscularianism"
   ]
  },
  {
   "attachments": {},
   "cell_type": "markdown",
   "metadata": {},
   "source": [
    "[P]\n",
    "\n",
    "In accordance with the promise which I made to Your Excellency, I shall certainly state my ideas concerning the proposition \"Motion is the cause of heat\", explaining in what way it appears to me to be true.\n",
    "\n",
    "But first it will be necessary for me to say a few words concerning that which we call \"heat\", for I strongly suspect that the commonly held conception of the matter is very far from the truth, inasmuch as heat is generally believed to be to a true accident, affection, or quality which actually resides in the material which we feel to be heated.\n",
    "\n",
    "<p style=\"color: #6699CC; font-family: 'Courier New'; font-size: 18px;\">\n",
    "heat, a true accident; affection; quality which actually is in the material\n",
    "</p>"
   ]
  },
  {
   "attachments": {},
   "cell_type": "markdown",
   "metadata": {},
   "source": [
    "[P]\n",
    "\n",
    "Now, whenever I conceive of any material or corporeal substance, I am necessarily constrained to conceive of that substance as bounded and as possessing this or that shape, as large or small in relationship to some other body, as in this or that place during this or that time, as in motion or at rest, as in contact or not in contact with some other body, as being one, many, or few--and by no stretch of imagination can I conceive of any corporeal body apart from these conditions.\n",
    "\n",
    "<p style=\"color: #6699CC; font-family: 'Courier New'; font-size: 18px;\">\n",
    "body, bounded; shape; size; place; time; motion; contact; number\n",
    "</p>\n",
    "\n",
    "But I do not at all feel myself compelled to conceive of bodies as necessarily conjoined with such further conditions as being red or white, bitter or sweet, having sound or being mute, or possessing a pleasant or unpleasant fragrance.\n",
    "\n",
    "<p style=\"color: #6699CC; font-family: 'Courier New'; font-size: 18px;\">\n",
    "color; taste; sound; smell\n",
    "</p>\n",
    "\n",
    "On the contrary, were they not escorted by our physical senses, perhaps neither reason nor understanding would ever, by themselves, arrive at such notions.\n",
    "\n",
    "<p style=\"color: #6699CC; font-family: 'Courier New'; font-size: 18px;\">\n",
    "no secondary qualities in reason/understanding\n",
    "</p>\n",
    "\n",
    "I think, therefore, that these tastes, odors, colors, etc., so far as their objective existence is concerned, are nothing but mere names for something which resides exclusively in our sensitive body (corpo sensitivo), so that if the perceiving creatures were removed, all of these qualities would be annihilated and abolished from existence.\n",
    "\n",
    "<p style=\"color: #6699CC; font-family: 'Courier New'; font-size: 18px;\">\n",
    "the secondary qualities are just the side-effects of our sensation, but have no independent existence outside us\n",
    "</p>\n",
    "\n",
    "But just because we have given special names to these qualities, different from the names we have given to the primary and real properties, we are tempted into believing that the former really and truly exist as well as the latter.\n",
    "\n",
    "<p style=\"color: #6699CC; font-family: 'Courier New'; font-size: 18px;\">\n",
    "the act of naming obscures this distinction\n",
    "</p>"
   ]
  },
  {
   "attachments": {},
   "cell_type": "markdown",
   "metadata": {},
   "source": [
    "[P]\n",
    "\n",
    "An example, I believe, will clearly explain my concept.\n",
    "\n",
    "Suppose I pass my hand, first over a marble statue, then over a living man.\n",
    "\n",
    "So far as the hand, considered in itself, is concerned, it will act in an identical way upon each of these objects; that is, the primary qualities of motion and contact will similarly affect the two objects, and we would use identical language to describe this in each case.\n",
    "\n",
    "But the living body, which I subject to this experiment, will feel itself affected in various ways, depending upon the part of the body I happen to touch; for example, should it be touched on the sole of the foot or the kneecap, or under the armpit, it will feel, in addition to simple contact, a further affection to which we have given a special name: we call it \"tickling\".\n",
    "\n",
    "This latter affection is altogether our own, and is not at all a property of the hand itself.\n",
    "\n",
    "And it seems to me that he would be gravely in error who would assert that the hand, in addition to movement and contact, intrinsically possesses another and different faculty which we might call the \"tickling faculty\", as though tickling were a resident property of the hand _per se_.\n",
    "\n",
    "Again, a piece of paper or a feather, when gently rubbed over any part of our body whatsoever, will in itself act everywhere in an identical way; it will, namely, move and contact.\n",
    "\n",
    "But we, should we be touched between the eyes, on the tip of the nose, or under the nostrils, will feel an almost intolerable titillation--while if touched in other places, we will scarcely feel anything at all.\n",
    "\n",
    "Now this titillation is completely ours and not the feather's, so that if the living, sensing body were removed, nothing would remain of the titillation but an empty name.\n",
    "\n",
    "And I believe that many other qualities, such as taste, odor, color, and so on, often predicated of natural bodies, have a similar and no greater existence than this."
   ]
  },
  {
   "attachments": {},
   "cell_type": "markdown",
   "metadata": {},
   "source": [
    "[P]\n",
    "\n",
    "A solid body and, so to speak, one that is sufficiently heavy, when moved and applied against any part of my body whatsoever, will produce in me the sensation which we call \"touch\".\n",
    "\n",
    "Although this sense is to be found in every part of the body, it appears principally to reside in the palm of the hand, and even more so in the fingertips, with which we can feel the most minute differences in roughness, texture, and softness and hardness--differences which the other parts of the body are less capable of distinguishing.\n",
    "\n",
    "Some among these tactile sensations are more pleasing than others, depending upon the differences of configuration of tangible bodies; that is to say, in accordance with whether they are smooth or irregular, sharp or dull, flexible or rigid.\n",
    "\n",
    "And the sense of touch, being more material than the other senses and being produced by the mass of the material itself, seems to correspond to the element of earth."
   ]
  },
  {
   "attachments": {},
   "cell_type": "markdown",
   "metadata": {},
   "source": [
    "[P]\n",
    "\n",
    "Since certain material bodies are continually resolving themselves into tiny particles, some of the particles, because they are heavier than air, will descend; and some of them, because they are lighter than air, will ascend.\n",
    "\n",
    "From this, perhaps, two further senses are born, for certain of the particles penetrate two parts of our body which are effectively more sensitive than the skin, which is incapable of feeling the incursion of materials which are too fine, subtle, or flexible.\n",
    "\n",
    "The descending particles are received by the upper surface of the tongue, and penetrating, they blend with its substance and moisture.\n",
    "\n",
    "Thus our tastes are caused, pleasant or harsh in accordance with variations in the contact of diversely shaped particles, and depending upon whether they are few or many, and whether they have high or low velocity.\n",
    "\n",
    "Other particles ascend, and entering the nostrils they penetrate the various nodes (mammilule) which are the instruments of smell; and these particles, in like manner through contact and motion, produce savoriness or unsavoriness--again depending upon whether the particles have this or that shape, high or low velocity, and whether they are many or few.\n",
    "\n",
    "It is remarkable how providently the tongue and nasal passages are situated and disposed, the former stretched beneath to receive the ingression of descending particles, and the latter so arranged as to receive those which ascend.\n",
    "\n",
    "The arrangement whereby the sense of taste is excited in us is perhaps analogous to the way in which fluids descend through the air, and the stimulation of the sense of smell may be compared to the manner in which flames ascend in it."
   ]
  },
  {
   "attachments": {},
   "cell_type": "markdown",
   "metadata": {},
   "source": [
    "[P]\n",
    "\n",
    "There remains the element of air, which corresponds to the sense of sound. Sounds come to us indiscriminately, from above and below and from either side, since we are so constituted as to be equally disposed to every direction of the air's movement; and the ear is so situated as to accomodate itself in the highest possible degree to any position in space.\n",
    "\n",
    "Sounds, then, are produced in us and felt when (without any special quality of harmoniousness or dissonance) there is a rapid vibration of air, forming minutely small waves, which move certain cartilages of a certain drum which is in our ear.\n",
    "\n",
    "The various external ways in which this wave-motion of the air is produced are manifold, but can in large part be reduced to the vibrating od bodies which strike the air and form the waves which spread out with great velocity.\n",
    "\n",
    "High frequencies give rise to high tones; low frequencies give rise to low tones, but I cannot believe that there exists in external bodies anything, other than their size, shape, or motion (slow or rapid), which could excite in us our tastes, sounds, and odors.\n",
    "\n",
    "And indeed I should judge that, if ears, tongues, and noses be taken away, the number, shape, and motion of bodies would remain, but not their tastes, sounds, and odors.\n",
    "\n",
    "The latter, external to the living creature, I believe to be nothing but mere names, just as (a few lines back) I asserted tickling and titillation to be, if the armpit or the sensitive skin inside the nose were removed.\n",
    "\n",
    "As to the comparison between the four senses which we have mentioned and the four elements, I believe that the sense of sight, most excellent and noble of all the senses, is like light itself.\n",
    "\n",
    "It stands to the others in the same measure of comparative excellence as the finite stands to the infinite, the gradual to the instantaneous, the divisible to the indivisible, the darkness to the light.\n",
    "\n",
    "Of this sense, and all that pertains to it, I can pretend to understand but little; yet a great deal of time would not suffice for me to set forth even this little bit that I know, or (to put it more exactly) for me to sketch it out on paper.\n",
    "\n",
    "Therefore I shall ponder it in silence."
   ]
  },
  {
   "attachments": {},
   "cell_type": "markdown",
   "metadata": {},
   "source": [
    "[P]\n",
    "\n",
    "I return to my first proposition, having now shown how some affections, often reputed to be indwelling properties of some external body, have really no existence save in us, and apart from us are mere names.\n",
    "\n",
    "I confess myself to be very much inclined to believe that heat, too, is of this sort, and that those materials which produce and make felt in us the sense of heat and to which we give the general name \"fire\" consist of a multitude of tiny particles of such and such a shape, and having such and such a velocity.\n",
    "\n",
    "These, when they encounter our body, penetrate it by means of their extreme subtlety; and it is their contact, felt by us in their passage through our substance, which is the affection we call \"heat\".\n",
    "\n",
    "It will be pleasantly warm or unpleasantly hot depending upon the number and the velocity (greater or lesser) of these pricking, penetrating particles--pleasant if by their penetration our necessary perspiring is facilitated, unpleasant if their penetrating effects too great a division and dissolution of our substance.\n",
    "\n",
    "In sum, the operation of fire, considered in itself, is nothing but movement, or the penetration of bodies by its extreme subtlety, quickly or slowly, depending upon the number and velocity of tiny corpuscles of flame (ignicoli) and upon the greater or lesser density of the bodies concerned.\n",
    "\n",
    "Many bodies dissolve in such a manner that the major part of them becomes transformed into further corpuscles of flame; and this dissolution continues as further dissolvable material is encountered.\n",
    "\n",
    "But that there exists in fire, apart from shape, number, movement, penetration, and contact, some further quality which we call \"heat\", I cannot believe.\n",
    "\n",
    "And I again judge that heat is altogether subjective, so that if the living, sensitive body is removed, what we call \"heat\" would be nothing but a simple word.\n",
    "\n",
    "Since it is the case that this affection is produced in us by passage of tiny corpuscles of flame through our substance and their contact with it, it is obvious that once this motion ceases, their operation upon us will be null.\n",
    "\n",
    "It is thus that we perceive that a quantity of fire, retained in the pores and pits of a piece of calcified stone, does not heat--even if we hold it in the palm of our hand--because the flame remains stationary in the stone.\n",
    "\n",
    "But should we swish the stone in water where, because of its weight, it has greater propensity for movement and where the pits of the stone open somewhat, the corpuscles of flame will escape and, encountering our hand, will penetrate it, so that we will feel heat.\n",
    "\n",
    "Since, in order for heat to be stimulated in us, the mere presence of corpuscles of flame is not by itself sufficient, and since movement is required in addition, it is with considerable reason that I declare motion to be the cause of heat."
   ]
  },
  {
   "attachments": {},
   "cell_type": "markdown",
   "metadata": {},
   "source": [
    "[P]\n",
    "\n",
    "This or that movement by which a scantling or other piece of wood is burned up or by which lead and other metals are melted will continue so long as the corpuscles of flame, moved either by their own velocity or (if this be insufficient) aided by a strong blast from a bellows, continue to penetrate the body in question; the former will resolve itself into further corpuscles of flame or into ash; the latter will liquefy and be rendered fluid like water.\n",
    "\n",
    "From a commonsense point of view, to assert that that which moves a stone, piece of iron, or a stick, is what _heats_ it, seems like an extreme vanity.\n",
    "\n",
    "But the friction produced when two hard bodies are rubbed together, which either reduces them to fine flying particles or permits the corpuscles of flame contained in them to escape, can finally be analyzed as motion.\n",
    "\n",
    "And the particles, when they encounter our body and penetrate and tear through it, are felt, in their motion and contact, by the living creature, who thus feels those pleasant or unpleasant affections which we call \"heat\", \"burning\", or \"scorching\"."
   ]
  },
  {
   "attachments": {},
   "cell_type": "markdown",
   "metadata": {},
   "source": [
    "[P]\n",
    "\n",
    "Perhaps while this pulverizing and attrition continue, and remain confined to the particles themselves, their motion will be temporary and their operation will be merely that of heating.\n",
    "\n",
    "But once we arrive at the point of ultimate and maximum dissolution into truly indivisible atoms, light itself may be created, with an instantaneous motion or (I should rather say) an instantaneous diffusion and expansion, capable--I do not know if by the atoms' subtlety, rarity, immateriality, or by different and as yet unspecified conditions--capable, I say, of filling vast spaces."
   ]
  },
  {
   "attachments": {},
   "cell_type": "markdown",
   "metadata": {},
   "source": [
    "[P]\n",
    "\n",
    "But I should not like, Your Excellency, inadvertently to engulf myself in an infinite ocean without the means to find my way back to port.\n",
    "\n",
    "Nor should I like, while removing one doubt, to give birth to a hundred more, as I fear might in part be the case even in this timid venture from shore.\n",
    "\n",
    "Therefore, I shall await a more opportune moment to re-embark."
   ]
  },
  {
   "attachments": {},
   "cell_type": "markdown",
   "metadata": {},
   "source": [
    "---"
   ]
  }
 ],
 "metadata": {
  "language_info": {
   "name": "python"
  },
  "orig_nbformat": 4
 },
 "nbformat": 4,
 "nbformat_minor": 2
}
