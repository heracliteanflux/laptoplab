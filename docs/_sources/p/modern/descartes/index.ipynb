{
 "cells": [
  {
   "attachments": {},
   "cell_type": "markdown",
   "metadata": {},
   "source": [
    "# Descartes"
   ]
  },
  {
   "attachments": {},
   "cell_type": "markdown",
   "metadata": {},
   "source": [
    "---"
   ]
  },
  {
   "attachments": {},
   "cell_type": "markdown",
   "metadata": {},
   "source": [
    "## Sections"
   ]
  },
  {
   "attachments": {},
   "cell_type": "markdown",
   "metadata": {},
   "source": [
    "```{tableofcontents}\n",
    "```"
   ]
  },
  {
   "attachments": {},
   "cell_type": "markdown",
   "metadata": {},
   "source": [
    "---"
   ]
  },
  {
   "attachments": {},
   "cell_type": "markdown",
   "metadata": {},
   "source": [
    "## Notes"
   ]
  },
  {
   "attachments": {},
   "cell_type": "markdown",
   "metadata": {},
   "source": [
    "    IDEA\n",
    "      a representational mode of thought\n",
    "    OBJECTIVE BEING/REALITY of the idea\n",
    "        the being/reality of the representational content of the idea\n",
    "        the being/reality a thing has in virtue of being represented by an idea\n",
    "    FORMAL BEING/REALITY of the idea\n",
    "        the being/reality a thing has in virtue of its existence (ideas exist, objects exist)\n",
    "\n",
    "    God has objective being"
   ]
  },
  {
   "attachments": {},
   "cell_type": "markdown",
   "metadata": {},
   "source": [
    "formal reality vs objective reality\n",
    "* objective reality only applies to ideas\n",
    "\n",
    "* my cat (formal) finite substance; no objective reality\n",
    "* my mind (formal) finite substance; no objctive reality\n",
    "* blue - mode of a finite substance; no objective reality\n",
    "* idea of a dragon - idea is a mode; (objective reality) finite substance\n",
    "* idea of god - the idea is a mode; (objective reality) infinite substance\n",
    "\n",
    "intellect offers up propositions, the will ascents to it, rejects it, or withholds judgment\n",
    "\n",
    "C&D principle should apply to both intellect and will\n",
    "\n",
    "Dualism: mind and body are two distinct substances, not reducible to each other, exist independently of each other, but are in causal interaction with each other, mind can cause effects in the body and vice versa\n",
    "\n",
    "Objection to Dualism: there is no physical contact\n",
    "\n",
    "the problem of other minds (solipsism) -> plausible inference\n",
    "\n",
    "Third Set of Objections (76,77)\n",
    "* Hobbes, materialist\n",
    "* the proof of the existence of the self is okay\n",
    "* the proof of thinking thing is infinite regress\n",
    "\n",
    "Descartes: if there's an act, then there's a subject; the act of thinking must belong to a subject\n",
    "\n",
    "Hobbes: you defined mind in terms of the act of thinking; if mind is an act, then you need another subject\n",
    "\n",
    "the subjects of all acts are material, all acts must be done by material subjects\n",
    "\n",
    "Fourth Set of Objections, the Circularity Charge (petitio percicii?)\n",
    "* a circular argument is called question-begging\n",
    "\n",
    "God exists, therefore C&D holds; C&D proves God's existence\n",
    "\n",
    "actual or current C&D perceptions (self-evident, don't need God) vs past C&D perceptions (recollections)\n",
    "\n",
    "awareness (clear cognition) vs scientific knowledge (scientia)\n",
    "* awareness is immediate\n",
    "* scientific knowledge requires god"
   ]
  },
  {
   "attachments": {},
   "cell_type": "markdown",
   "metadata": {},
   "source": [
    "the mind, there are ideas in the mind: this proves that the mind exists\n",
    "\n",
    "from the idea of God, we prove the existence of God\n",
    "\n",
    "what about the external, material world?\n",
    "\n",
    "we cannot be sure that ideas correspond to real objects\n",
    "\n",
    "how to we get out of the mind and assert the existnece of bodily things\n",
    "\n",
    "we have clear and distinct perceptions and the idea of God\n",
    "\n",
    "Med6, the existence of extended beings\n",
    "\n",
    "common-sense realism, since Aristotle: there are external/physical things\n",
    "\n",
    "we have representations/ideas of these things\n",
    "\n",
    "the common sense assumption is that our representations/ideas resemble the objects themselves\n",
    "\n",
    "Med3 proof of God's existence\n",
    "* starting point: the idea of God\n",
    "* the question of the causal source: what is the source of the idea? the idea can only come from God\n",
    "* what can be the source of an idea? my own mind, maybe the idea is fictitious (voluntary)\n",
    "* other option: the idea comes from outside myself, from other objects, maybe the idea is advantageous (involuntary)\n",
    "* third option: its native/innate, located by God\n",
    "\n",
    "the same kind of logic is operative in the proof of the external world\n",
    "\n",
    "I am a mind; thinking substance\n",
    "\n",
    "the mind has modes of thinking\n",
    "* imagination\n",
    "* sensation\n",
    "\n",
    "first premise: the imagination and sense are my modes of thinking\n",
    "\n",
    "that is to say, they don't exist on their own but only in relation to me\n",
    "\n",
    "modes of motion cannot exist without extended things\n",
    "\n",
    "second premise: motion and all related properties seem to be modes of physical/material substances (extended)\n",
    "\n",
    "I proved that I am a thinking being, my mind exists, so premise 1 is done\n",
    "\n",
    "premise 2 is still hypothetical\n",
    "\n",
    "third premise: I have ideas of extended substances (my body, other bodies)\n",
    "\n",
    "what is the source of these ideas?\n",
    "* is it me? no bc they come to me against my will\n",
    "* it comes from outside, passively\n",
    "  * extended substances themselves\n",
    "  * other possibility, God is making me think these ideas\n",
    "\n",
    "infinite substance could produce all ideas, but he doesn't bc he's not a desire\n",
    "\n",
    "Med2\n",
    "conditional completed in Med6\n",
    "\n",
    "process of elimination\n",
    "God+ClearandDistinctIdeas\n",
    "\n",
    "Princess, Gassendi\n",
    "\n",
    "mind (thinking substance, not in space), body (extended substance, in space)\n",
    "\n",
    "the two substances causally interact\n",
    "\n",
    "causal interaction seems to require physical contact in space\n",
    "\n",
    "if something's not composed of parts it cannot die by decomposition\n",
    "\n",
    "pineal gland\n",
    "\n",
    "circularity charge"
   ]
  },
  {
   "attachments": {},
   "cell_type": "markdown",
   "metadata": {},
   "source": [
    "modus tollens\n",
    "\n",
    "if (I know that) p, then q (I'm not a brain in a vat)\n",
    "not q (I don't know that I'm not a brain in a vat)\n",
    "therefore not (I know that) p\n",
    "\n",
    "deception -> something to be deceived (mental state) -> cosciousness/mind/subject of thought\n",
    "\n",
    "action requires actor/subject, thought requires thinker\n",
    "\n",
    "deceptions, doubts may all be false, but require a mind\n",
    "\n",
    "Descartes' Ontology\n",
    "* substance (thing)\n",
    "* attribute (necessary feature): thinking\n",
    "* mode (contingent feature): doubt, imagination, etc. all mental activities\n",
    "\n",
    "foundations\n",
    "* do I exist?: I (can) think, therefore (I know that) I exist\n",
    "* what kind of a thing am I?: I am a mind, a thinking thing (res cogitans)\n",
    "* if bodies existed, they would be extended (res extensa)\n",
    "\n",
    "Galileo's primary vs secondary"
   ]
  },
  {
   "attachments": {},
   "cell_type": "markdown",
   "metadata": {},
   "source": [
    "---"
   ]
  },
  {
   "attachments": {},
   "cell_type": "markdown",
   "metadata": {},
   "source": [
    "## Texts"
   ]
  },
  {
   "attachments": {},
   "cell_type": "markdown",
   "metadata": {},
   "source": [
    "* Cottingham, John. _The Philosophical Writings of Descartes_.\n",
    "* Frankfurt, Harry. _Demons, Dreamers, and Madmen: The Defense of Reason in Descartes' Meditations_.\n",
    "* Grosholz, Emily. _Cartesian Method and the Problem of Reduction_. OUP."
   ]
  },
  {
   "attachments": {},
   "cell_type": "markdown",
   "metadata": {},
   "source": [
    "---"
   ]
  },
  {
   "attachments": {},
   "cell_type": "markdown",
   "metadata": {},
   "source": [
    "## Terms"
   ]
  },
  {
   "attachments": {},
   "cell_type": "markdown",
   "metadata": {},
   "source": [
    "* [[S](https://plato.stanford.edu/entries/descartes/)][W] Descartes, Rene (1596-1650)\n",
    "  * [[S](https://plato.stanford.edu/entries/descartes-epistemology/)] Descartes' Epistemology\n",
    "  * [[S](https://plato.stanford.edu/entries/descartes-mathematics/)] Descartes' Mathematics\n",
    "  * [[S](https://plato.stanford.edu/entries/descartes-modal/)] Descartes' Modal Metaphysics\n",
    "  * [[S](https://plato.stanford.edu/entries/descartes-ontological/)] Descartes' Ontology\n",
    "  * [[S](https://plato.stanford.edu/entries/descartes-physics/)] Descartes' Physics\n",
    "  * [[S](https://plato.stanford.edu/entries/descartes-ideas/)] Descartes' Theory of Ideas"
   ]
  },
  {
   "attachments": {},
   "cell_type": "markdown",
   "metadata": {},
   "source": [
    "* [S][[W](https://en.wikipedia.org/wiki/Cogito,_ergo_sum)] Cogito Ergo Sum\n",
    "* [S][[W](https://en.wikipedia.org/wiki/Dream_argument)] Dream Argument\n",
    "* [S][[W](https://en.wikipedia.org/wiki/Evil_demon)] Evil Demon\n",
    "* [S][[W](https://en.wikipedia.org/wiki/Cartesian_doubt)] Cartesian/Hyperbolic Doubt (Global Skepticism)\n",
    "* [S][W] Res cogitans [thought]\n",
    "* [S][[W](https://en.wikipedia.org/wiki/Extension_(metaphysics))] Res extensa [extension]\n",
    "* [S][W] Substance Dualism"
   ]
  },
  {
   "attachments": {},
   "cell_type": "markdown",
   "metadata": {},
   "source": [
    "Arnauld\n",
    "* [[S](https://plato.stanford.edu/entries/arnauld/)] Arnauld, Antoine\n",
    "\n",
    "Elizabeth\n",
    "* [[S](https://plato.stanford.edu/entries/elisabeth-bohemia/)] Elizbeth, Princess of Bohemia\n",
    "\n",
    "Gassendi\n",
    "* [[S](https://plato.stanford.edu/entries/gassendi/)] Gassendi, Pierre\n",
    "\n",
    "Malebranche\n",
    "* [[S](https://plato.stanford.edu/entries/malebranche/)] Malebranche, Nicolas\n",
    "* [[S](https://plato.stanford.edu/entries/malebranche-ideas/)] Malebranche's Theory of Ideas and Vision in God"
   ]
  },
  {
   "attachments": {},
   "cell_type": "markdown",
   "metadata": {},
   "source": [
    "---"
   ]
  }
 ],
 "metadata": {
  "language_info": {
   "name": "python"
  },
  "orig_nbformat": 4
 },
 "nbformat": 4,
 "nbformat_minor": 2
}
