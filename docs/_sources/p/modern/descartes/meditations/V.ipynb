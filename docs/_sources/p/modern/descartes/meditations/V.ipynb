{
 "cells": [
  {
   "attachments": {},
   "cell_type": "markdown",
   "metadata": {},
   "source": [
    "# Meditation V: Concerning the Essence of Material Things, and Again Concerning God, That He Exists\n",
    "\n",
    "_Meditations on First Philosophy in Which the Existence of God and the Distinction between the Soul and the Body Are Demonstrated_\n",
    "\n",
    "Ariew, Roger & Eric Watkins (eds). (2019). _Modern Philosophy: An Anthology of Primary Sources_. 3rd Ed. Hackett."
   ]
  },
  {
   "attachments": {},
   "cell_type": "markdown",
   "metadata": {},
   "source": [
    "---"
   ]
  },
  {
   "attachments": {},
   "cell_type": "markdown",
   "metadata": {},
   "source": [
    "<p style=\"color: #6699CC; font-family: 'Courier New'; font-size: 18px;\">\n",
    "\n",
    "</p>"
   ]
  },
  {
   "attachments": {},
   "cell_type": "markdown",
   "metadata": {},
   "source": [
    "[P]\n",
    "\n",
    "Several matters remain for me to examine concerning the attributes of God and myself, that is, concerning the nature of my mind.\n",
    "\n",
    "But perhaps I will take these up at some other time.\n",
    "\n",
    "For now, since I have noted what to avoid and what to do in order to attain the truth, nothing seems more pressing than that I try to free myself from the doubts into which I fell a few days ago, and that I see whether anything certain is to be had concerning material things."
   ]
  },
  {
   "attachments": {},
   "cell_type": "markdown",
   "metadata": {},
   "source": [
    "[P]\n",
    "\n",
    "Yet, before inquiring whether any such things exist outside me, I surely ought to consider the ideas of these things, insofar as they exist in my thought and see which ones are distinct and which ones are confused.\n",
    "\n",
    "<p style=\"color: #6699CC; font-family: 'Courier New'; font-size: 18px;\">\n",
    "Which ideas of material things are C&D?\n",
    "</p>"
   ]
  },
  {
   "attachments": {},
   "cell_type": "markdown",
   "metadata": {},
   "source": [
    "[P]\n",
    "\n",
    "I do indeed distinctly imagine the quantity that philosophers commonly call \"continuous,\" that is, the extension of this quantity, or rather of the thing quantified in length, breadth, and depth.\n",
    "\n",
    "I enumerate the various parts in it.\n",
    "\n",
    "I ascribe to these parts any sizes, shapes, positions, and local movements whatever; to these movements I ascribe and durations whatever.\n",
    "\n",
    "<p style=\"color: #6699CC; font-family: 'Courier New'; font-size: 18px;\">\n",
    "continuity; extension\n",
    "<br>\n",
    "the enumeration of parts\n",
    "<br>\n",
    "size\n",
    "<br>\n",
    "shape\n",
    "<br>\n",
    "position\n",
    "<br>\n",
    "local motion\n",
    "<br>\n",
    "duration\n",
    "</p>"
   ]
  },
  {
   "attachments": {},
   "cell_type": "markdown",
   "metadata": {},
   "source": [
    "[P]\n",
    "\n",
    "Not only are these things manifestly known and transparent to me, viewed thus in a general way, but also, when I focus my attention on them, I perceive countless particulars concerning shapes, number, movement, and the like.\n",
    "\n",
    "Their truth is so open and so much in accord with my nature that, when I first discover them, it seems I am not so much learning something new as recalling something I knew beforehand.\n",
    "\n",
    "In other words, it seems as though I am noticing things for the first time that were in fact in me for a long while, although I had not previously directed a mental gaze upon them.\n",
    "\n",
    "<p style=\"color: #6699CC; font-family: 'Courier New'; font-size: 18px;\">\n",
    "discovery is like recollection/remembrance\n",
    "<br>\n",
    "Are these ideas innate?\n",
    "</p>"
   ]
  },
  {
   "attachments": {},
   "cell_type": "markdown",
   "metadata": {},
   "source": [
    "[P]\n",
    "\n",
    "What I believe must be considered above all here is the fact that I find within me countless ideas of certain things, that, even if perhaps they do not exist anywhere outside me, still cannot be said to be nothing.\n",
    "\n",
    "And although, in a sense, I think them at will, nevertheless they are not something I have fabricated; rather they have their own true and immutable natures.\n",
    "\n",
    "For example, when I imagine a triangle, even if perhaps no such figure exists outside my thought anywhere in the world and never has, the triangle still has a certain determinate nature, essence, or form which is unchangeable and eternal, which I did not fabricate, and which does not depend on my mind.\n",
    "\n",
    "This is evident from the fact that various properties can be demonstrated regarding this triangle: namely, that its three angles are equal to two right angles, that its longest side is opposite its largest angle, and so on.\n",
    "\n",
    "These are properties I now clearly acknowledge, whether I want to or not, even if I previously had given them no thought whatever when I imagined the triangle.\n",
    "\n",
    "For this reason, then, they were not fabricated by me.\n",
    "\n",
    "<p style=\"color: #6699CC; font-family: 'Courier New'; font-size: 18px;\">\n",
    "ideas of material things are not nothing\n",
    "<br>\n",
    "ideas of material things can be thought of at will\n",
    "<br>\n",
    "the content/form of ideas of material things are determinate and do not depend on me\n",
    "<br>\n",
    "for example, the form of the triangle is necessary\n",
    "<br>\n",
    "I assent to its necessity whether I will it or no\n",
    "</p>"
   ]
  },
  {
   "attachments": {},
   "cell_type": "markdown",
   "metadata": {},
   "source": [
    "[P]\n",
    "\n",
    "It is irrelevant for me to say that perhaps the idea of a triangle came to me from external things through the sense organs because of course I have on occasion seen triangle-shaped bodies.\n",
    "\n",
    "For I can think of countless other figures, concerning which there can be no suspicion of their ever having entered me through the senses, and yet I can demonstrate various properties of these figures, no less than I can those of the triangle.\n",
    "\n",
    "All these properties are patently true because I know them clearly, and thus they are something and not merely nothing.\n",
    "\n",
    "For it is obvious that whatever is true is something, and I have already demonstrated at some length that all that I know clearly is true.\n",
    "\n",
    "And even if I had not demonstrated this, certainly the nature of my mind is such that nevertheless I cannot refrain from assenting to these things, at least while I perceive them clearly.\n",
    "\n",
    "And I recall that even before now, when I used to keep my attention glued to the objects of the senses, I always took the truths I clearly recognized regarding figures, numbers, or other things pertaining to arithmetic, geometry or, in general, to pure and abstract mathematics to be the most certain of all."
   ]
  },
  {
   "attachments": {},
   "cell_type": "markdown",
   "metadata": {},
   "source": [
    "[P]\n",
    "\n",
    "But if, from the mere fact that I can bring forth from my thought the idea of something, it follows that all that I clearly and distinctly perceive to belong to that thing really does belong to it, then cannot this too be a basis for an argument proving the existence of God?\n",
    "\n",
    "Clearly the idea of God, that is, the idea of a supremely perfect being, is one I discover to be no less within me than the idea of any figure or number.\n",
    "\n",
    "And that it belongs to God's nature that he always exists is something I understand no less clearly and distinctly than is the case when I demonstrate in regard to some figure or number that something also belongs to the nature of that figure or number.\n",
    "\n",
    "Thus, even if not everything that I have meditated upon during these last few days were true, still the existence of God ought to have for me at least the same degree of certainty that truths of mathematics had until now."
   ]
  },
  {
   "attachments": {},
   "cell_type": "markdown",
   "metadata": {},
   "source": [
    "[P]\n",
    "\n",
    "However, this point is not wholly obvious at first glance, but has a certain look of a sophism about it.\n",
    "\n",
    "Since in all other matters I have become accustomed to distinguishing existence from essence, I easily convince myself that it can even be separated from God's essence, and hence that God can be thought of as not existing.\n",
    "\n",
    "But nevertheless, it is obvious to anyone who pays close attention that existence can no more be separated from God's essence than its having three angles equal to two right angles can be separated from the essence of a triangle, or than the idea of a valley can be separated from the idea of a mountain.\n",
    "\n",
    "Thus it is no less contradictory to think of God (that is, a supremely perfect being) lacking existence (that is, lacking some perfection) than it is to think of a mountain without a valley."
   ]
  },
  {
   "attachments": {},
   "cell_type": "markdown",
   "metadata": {},
   "source": [
    "[P]\n",
    "\n",
    "But granted I can no more think of God as not existing than I can think of a mountain without a valley; nevertheless it surely does not follow from the fact that I think of a mountain with a valley that a mountain exists in the world.\n",
    "\n",
    "Likewise, from the fact that I think of God as existing, it does not seem to follow that God exists, for my thought imposes no necessity on things.\n",
    "\n",
    "And just as one may imagine a winged horse, without there being a horse that has wings, in the same way perhaps I can attach existence to God, even though no God exists."
   ]
  },
  {
   "attachments": {},
   "cell_type": "markdown",
   "metadata": {},
   "source": [
    "[P]\n",
    "\n",
    "But there is a sophism lurking here.\n",
    "\n",
    "From the fact that I am unable to think of a mountain without a valley, it does not follow that a mountain or a valley exists anywhere, but only that, whether they exist or not, a mountain and a valley are inseparable from one another.\n",
    "\n",
    "But from the fact that I cannot think of God except as existing, it follows that existence is inseperable from God, and that for this reason he really exists.\n",
    "\n",
    "Not that my thought brings this about or imposes any necessity on anything; but rather the necessity of the thing itself, namely of the existence of God, forces me to think this.\n",
    "\n",
    "For I am not free to think of God without existence, that is, a supremely perfect being without a supreme perfection, as I am to imagine a horse with or without wings."
   ]
  },
  {
   "attachments": {},
   "cell_type": "markdown",
   "metadata": {},
   "source": [
    "[P]\n",
    "\n",
    "Further, it should not be said here that even though I surely need to assent to the existence of God once I have asserted that God has all perfections and that existence is one of these perfections, nevertheless that earlier assertion need not have been made.\n",
    "\n",
    "Likewise, I need not believe that all four-sided figures can be inscribed in a circle; but given that I posit this, it would then be necessary for me to admit that a rhombus can be inscribed in a circle.\n",
    "\n",
    "Yet this is obviously false.\n",
    "\n",
    "For although it is not necessary that I should ever happen upon any thought of God, nevertheless whenever I am of a mind to think of a being that is first and supreme, and bring forth the idea of God as it were from the storehouse of my mind, I must of necessity ascribe all perfections to him, even if I do not at that time enumerate them all or take notice of each one individually.\n",
    "\n",
    "This necessity plainly suffices so that afterwards, when I realize that existence is a perfection, I rightly conclude that a first and supreme being exists.\n",
    "\n",
    "In the same way, there is no necessity for me ever to imagine a triangle, but whenever I do wish to consider a rectilinear figure having but three angles, I must ascribe to it those properties on the basis of which one rightfully infers that the three angles of this figure are no greater than two right angles, even though I do not take note of this at the time.\n",
    "\n",
    "But when I inquire as to the figures that may be inscribed in a circle, there is absolutely no need whatever for my thinking that all four-sided figures are of this sort; for that matter, I cannot even fabricate such a thing, so long as I am of a mind to admit only what I clearly and distinctly understand.\n",
    "\n",
    "Consequently, there is a great difference between false assumptions of this sort and the true ideas that are inborn in me, the first and chief of which is the idea of God.\n",
    "\n",
    "For there are a great many ways in which I understand that this idea is not an invention that is dependent upon my thought, but is an image of a true and immutable nature.\n",
    "\n",
    "First, I cannot think of anything aside from God alone to whose essense existence belongs.\n",
    "\n",
    "Next, I cannot understand how there could be two or more Gods of this kind.\n",
    "\n",
    "Again, once I have asserted that one God now exists, I plainly see that it is necessary that he has existed from eternity and will endure for eternity.\n",
    "\n",
    "Finally, I perceive many other features in God, none of which I can remove or change."
   ]
  },
  {
   "attachments": {},
   "cell_type": "markdown",
   "metadata": {},
   "source": [
    "[P]\n",
    "\n",
    "But, whatever type of argument I use, it always comes down to the fact that the only things that fully convince me are those that I clearly and distinctly perceive.\n",
    "\n",
    "And although some of these things I thus perceive are obvious to everyone, while others are discovered only by those who look more closely and inquire carefully, nevertheless, once they have been discovered, they are considered no less certain than the others.\n",
    "\n",
    "For example, in the case of a right triangle, although it is not so readily apparent that the square of the hypotenuse is equal to the sum of the squares of the other two sides as it is that the hypotenuse is opposite the largest angle, nevertheless, once the former has been ascertained, it is no less believed.\n",
    "\n",
    "However, as far as God is concerned, if I were not overwhelmed by prejudices and if the images of sensible things were not besieging my thought from all directions, I would certainly acknowledge nothing sooner or more easily than him.\n",
    "\n",
    "For what, in and of itself, is more manifest than that a supreme being exists, that is, that God, to whose essence alone existence belongs, exists?"
   ]
  },
  {
   "attachments": {},
   "cell_type": "markdown",
   "metadata": {},
   "source": [
    "[P]\n",
    "\n",
    "And although I needed to pay close attention in order to perceive this, nevertheless I now am just as certain about this as I am about everything else that seems most certain.\n",
    "\n",
    "Moreover, I observe also that certitude about other things is so dependent on this, that without it nothing can ever be perfectly known."
   ]
  },
  {
   "attachments": {},
   "cell_type": "markdown",
   "metadata": {},
   "source": [
    "[P]\n",
    "\n",
    "For I am indeed of such a nature that, while I perceive something very clearly and distinctly, I cannot help believing it to be true.\n",
    "\n",
    "Nevertheless, my nature is also such that I cannot focus my mental gaze always on the same thing, so as to perceive it clearly.\n",
    "\n",
    "Often the memory of a previously made judgment may return when I am no longer attending to the arguments on account of which I made such a judgment.\n",
    "\n",
    "Thus, other arguments can be brought forward that would easily make me change my opinion, were I ignorant of God.\n",
    "\n",
    "And thus I would never have true and certain knowledge about anything, but merely fickle and changeable opinions.\n",
    "\n",
    "Thus, for example, when I consider the nature of a triangle, it appears most evident to me, steeped as I am in the principles of geometry, that its three angles are equal to two right angles.\n",
    "\n",
    "And so long as I attend to its demonstration I cannot help believing this to be true.\n",
    "\n",
    "But no sooner do I turn the mind's eye away from the demonstration, than, however much I still recall that I had observed it most clearly, nevertheless, it can easily happen that I entertain doubts about whether it is true, were I ignorant of God.\n",
    "\n",
    "For I can convince myself that I have been so constituted by nature that I might occasionally be mistaken about those things I believe I perceive most evidently, especially when I recall that I have often taken many things to be true and certain, which other arguments have subsequently led me to judge to be false."
   ]
  },
  {
   "attachments": {},
   "cell_type": "markdown",
   "metadata": {},
   "source": [
    "[P]\n",
    "\n",
    "But once I perceived that there is a God, and also understood at the same time that everything else depends on him, and that he is not a deceiver, I then concluded that everything that I clearly and distinctly perceive is ncessarily true.\n",
    "\n",
    "Hence even if I no longer attend to the reasons leading me to judge this to be true, so long as I merely recall that I did clearly and distinctly observe it, no counterargument can be brought forward that might force me to doubt it.\n",
    "\n",
    "On the contrary, I have a true and certain knowledge ot it.\n",
    "\n",
    "And not just of this one fact, but of everything else that I recall once having demonstrated, as in geometry, and so on.\n",
    "\n",
    "For what objections can now be raised against me?\n",
    "\n",
    "That I have been made such that I am often mistaken?\n",
    "\n",
    "But I now know that I cannot be mistaken in matters I plainly understand.\n",
    "\n",
    "That I have taken many things to be true and certain which subsequently I recognized to be false?\n",
    "\n",
    "But none of these were things I clearly and distinctly perceived.\n",
    "\n",
    "But I was ignorant of this rule for determining the truth, and I believed these things perhaps for other reasons which I later discovered were less firm.\n",
    "\n",
    "What then remains to be said?\n",
    "\n",
    "That perhaps I am dreaming, as I recently objected against myself, in other words, that everything I am now thinking of is no truer than what occurs to someone who is asleep?\n",
    "\n",
    "Be that as it may, this changes nothing; for certainly, even if I were dreaming, if anything is evident to my intellect, then it is entirely true."
   ]
  },
  {
   "attachments": {},
   "cell_type": "markdown",
   "metadata": {},
   "source": [
    "[P]\n",
    "\n",
    "And thus I see plainly that the certainty and truth of every science depends exclusively upon the knowledge of the true God, to the extent that, prior to my becoming aware of him, I was incapable of achieving perfect knowledge about anything else.\n",
    "\n",
    "But now it is possible for me to achieve full and certain knowledge about countless things, both about God and other intellectual matters, as well as about the entirety of that corporeal nature which is the object of pure mathematics."
   ]
  },
  {
   "attachments": {},
   "cell_type": "markdown",
   "metadata": {},
   "source": [
    "---"
   ]
  }
 ],
 "metadata": {
  "language_info": {
   "name": "python"
  },
  "orig_nbformat": 4
 },
 "nbformat": 4,
 "nbformat_minor": 2
}
