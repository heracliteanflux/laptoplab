{
 "cells": [
  {
   "attachments": {},
   "cell_type": "markdown",
   "metadata": {},
   "source": [
    "# Elisabeth's Objection"
   ]
  },
  {
   "attachments": {},
   "cell_type": "markdown",
   "metadata": {},
   "source": [
    "---"
   ]
  },
  {
   "attachments": {},
   "cell_type": "markdown",
   "metadata": {},
   "source": [
    "## Close Reading of Elisabeth's Objection\n",
    "\n",
    "Bennett, Jonathan. (2017). _Correspondence between Descartes and Princess Elisabeth_. <https://www.earlymoderntexts.com/>."
   ]
  },
  {
   "attachments": {},
   "cell_type": "markdown",
   "metadata": {},
   "source": [
    "### Elisabeth writes on 6.v.1643"
   ]
  },
  {
   "attachments": {},
   "cell_type": "markdown",
   "metadata": {},
   "source": [
    "When I heard that you had planned to visit me a few days ago, I was elated by your kind willingness to share yourself with an ignorant and headstrong person, and saddened by the misfortune of missing such a profitable conversation.\n",
    "\n",
    "When M. Pollot [a friend of Descartes and of the Princess] took me through the solutions you had given him for some obscurities in Regius' physics, that increased my regret at missing you, because I'd have learned them better from you directly.\n",
    "\n",
    "And direct contact would have given me something else.\n",
    "\n",
    "<p style=\"color: #6699CC; font-family: 'Courier New'; font-size: 18px;\">\n",
    "An allusion to the crux of the problem, DIRECT CONTACT.\n",
    "</p>\n",
    "\n",
    "When Professor Regius was here in The Hague, I put to him a question that he said would be better answered by you.\n",
    "\n",
    "I am shy about my disorderly writing style, which is why I haven't before now written to you asking for this favour.\n",
    "\n",
    "[In her next sentence, the Princess relies on a theory about soul-on-body according to which the soul's thoughts are passed on to the 'spirits'--components of the body--which then cause overt bodily movements.]\n",
    "\n",
    "But today M. Pollot has given me such assurance of your good-will towards everyone and especially towards me that I have overcome my inhibitions and come right out with the question I put to the Professor, namely: Given that the soul of a human being is only a _thinking_ substance, how can it affect the bodily spirits, in order to bring about voluntary actions?\n",
    "\n",
    "<p style=\"color: #6699CC; font-family: 'Courier New'; font-size: 18px;\">\n",
    "How can non physical res cogitans interact with physical res extensa if there is no direct contact between them?\n",
    "</p>\n",
    "\n",
    "The question arises because it seems that how a thing moves depends solely on (i) how much it is pushed, (ii) the manner in which it is pushed, or (iii) the surface-texture and shape of the thing that pushed it.\n",
    "\n",
    "The first two of those require _contact_ between the two things, and the third requires that the causally active thing be extended.\n",
    "\n",
    "Your notion of the soul entirely excludes extension, and it appears to me that an immaterial thing can't possibly _touch_ anything else.\n",
    "\n",
    "So I ask you for a definition of the soul that homes in on its nature more thoroughly than does the one you give in your _Meditations_, i.e. I want one that characterizes what it is as distinct from what it does (namely to think).\n",
    "\n",
    "It looks as though human souls can exist without thinking--e.g. in an unborn child or in someone who has a great fainting spell--but even if that is not so, and the soul's intrinsic nature and its thinking are as inseparable as God's attributes are, we can still get a more perfect idea of both of them by considering them separately.\n",
    "\n",
    "<p style=\"color: #6699CC; font-family: 'Courier New'; font-size: 18px;\">\n",
    "What a mind is versus what a mind does\n",
    "<br>\n",
    "Can res cogitans in its nature be understood separately from its essential activity, thinking?\n",
    "</p>\n",
    "\n",
    "In writing to you like this I am freely exposing to you the weaknesses of my soul's speculations; but I know that you are the best physician for _my_ soul, and I hope that you will observe the Hippocratic oath and supply me with remedies without making them public.\n",
    "\n",
    "[She is referring to an oath traditionally associated with Hippocrates, a pioneer of medicine in the 4th century BCE, which includes this: 'All that may come to my knowledge in the exercise of my profession or in daily commerce with men, which ought not to be spread abroad, I will keep secret and never reveal.']\n",
    "\n",
    "[The French word for the bodily 'spirits' referred to in that paragraph is _esprit_.\n",
    "\n",
    "That word can also mean 'mind', and is thus translated wherever that is appropriate in this version, e.g. in Descartes' reference to the Princess' 'incomparable mind'.\n",
    "\n",
    "When he or the Princess is writing about the mind in a weightily theoretical way--e.g. discussing inter-action between mind and body--they use not _esprit_ but _âme_, usually translated by 'soul'.\n",
    "\n",
    "The link between _âme_ and 'soul' will be preserved throughout this version; but remember that these uses of 'soul' have little if any theological content and are, nearly always, merely high-flown ways of saying 'mind'.]"
   ]
  },
  {
   "attachments": {},
   "cell_type": "markdown",
   "metadata": {},
   "source": [
    "### Descartes writes on 21.v.1643"
   ]
  },
  {
   "attachments": {},
   "cell_type": "markdown",
   "metadata": {},
   "source": [
    "No doubt you have noticed [that when we have met...I have been so dazzled by your combination of intelligence and beauty that I couldn't converse well], and [you] have kindly wanted to help me with this by leaving me the traces of your thoughts on paper.\n",
    "\n",
    "I have now read them several times and become accustomed to thinking about them, with the result that I am indeed less dazzled, but am correspondingly more admiring when I see that these thoughts seem ingenious at a first reading and appear increasingly judicious and solid the more I examine them.\n",
    "\n",
    "In view of my published writings, the question that can most rightly be asked is the very one that you put to me.\n",
    "\n",
    "All the knowledge we can have of the human soul depend on two facts about it: (1) the fact that it thinks, and (2) the fact that being united to the body it can act and be acted on along with it.\n",
    "\n",
    "<p style=\"color: #6699CC; font-family: 'Courier New'; font-size: 18px;\">\n",
    "KNOWLEDGE OF THE MIND\n",
    "<br>\n",
    "Mind thinks.\n",
    "<br>\n",
    "Mind is united to body, and can act on and be acted on \"along with it\".\n",
    "</p>\n",
    "\n",
    "I have said almost nothing about (2), focusing entirely on making (1) better understood.\n",
    "\n",
    "That is because my principal aim was to show that the soul is distinct from the body, and (1) was helpful in showing this whereas (2) could have been harmful clouding the issue, distracting the reader.\n",
    "\n",
    "<p style=\"color: #6699CC; font-family: 'Courier New'; font-size: 18px;\">\n",
    "DESCARTES\n",
    "<br><br>\n",
    "mind is distinct from body\n",
    "</p>\n",
    "\n",
    "But I can't hide anything from eyesight as sharp as yours!\n",
    "\n",
    "So I'll try here to explain how I conceive of the soul's union with the body and how it has the power to move the body.\n",
    "\n",
    "<p style=\"color: #6699CC; font-family: 'Courier New'; font-size: 18px;\">\n",
    "What is the nature of the union of mind and body?\n",
    "<br>\n",
    "How does mind have the power to move body?\n",
    "</p>\n",
    "\n",
    "I start by focusing on the fact that we have certain _basic_ notions that are like templates on the pattern of which we form all our other knowledge.\n",
    "\n",
    "<p style=\"color: #6699CC; font-family: 'Courier New'; font-size: 18px;\">\n",
    "DESCARTES\n",
    "<br><br>\n",
    "BASIC NOTIONS are the starting point for all knowledge\n",
    "</p>\n",
    "\n",
    "There are very few of these.\n",
    "\n",
    "In addition to the most general ones--(1) the notions of being, number, duration, etc.--which apply to everything we can conceive, we have for the body in particular (2) only the notion of extension, from which follow the notions of shape and movement; and for the soul alone (3) only the notion of thought, which includes the notions of perceptions of the understanding and the inclinations of the will; and finally, for the soul and the body together (4) only the notion of their union, on which depends the notion of the soul's power to move the body and the body's power to act on the soul in causing its sensations and passions.\n",
    "\n",
    "I observe next that all secure, disciplined human knowledge consists only in keeping these notions well apart from one another, and applying each of them only to the things that it is right for.\n",
    "\n",
    "[Throughout this letter, phrases about a notion's being 'right for' x translate French uses of _appartenir à_, literally meaning that the notion belongs to x.]\n",
    "\n",
    "When we try to explain some difficulty by means of a notion that isn't right for it, we are bound to go wrong; just as we are when we try to explain or define one of these notions in terms of another, because each of them is _basic_ and thus can be understood only through itself.\n",
    "\n",
    "The use of the senses has made our notions of extension, shapes and movements much more familiar to us than our other notions, and just because of that the principal cause of our errors lies in our commonplace attempts to use these notions to explain things that they aren't right for.\n",
    "\n",
    "For example, when we try to use the imagination to conceive the nature of the soul, or when we try to conceive how the soul moves the body in terms of how a body moves a body.\n",
    "\n",
    "In the _Meditations_, which you were good enough to read, I tried to make conceivable (3) the notions that are right for the soul alone, distinguishing them from (2) the ones that are right for the body alone; so the first thing that I ought to explain now is how to conceive (4) the notions that are right for the union of the soul with the body, separately from (2) and (3).\n",
    "\n",
    "It seems to me that what I wrote at the end of my response to the Sixth Objections can help with that; for we can't look for these simple notions anywhere except in our soul, which naturally contains them all, though it doesn't always (i) distinguish them from one another or (ii) apply them to the objects to which they ought to be applied.\n",
    "\n",
    "Thus, I think we have until now (i) confused the notion of the soul's power to act on the body with the body's power to act on other bodies, and have (ii) applied them (not to the soul, for we haven't yet known the soul, but) to various qualities of bodies--weight, heat, and so on--which we have imagined to be real, i.e. to have an existence distinct from that of the body that has them, and thus to be substances though we have called them 'qualities'.\n",
    "\n",
    "[Descartes here uses 'real'--_réelles_, which comes from the Latin _res_='thing'--as a way of saying that we have imagined these qualities to be things.\n",
    "\n",
    "He is referring scornfully to a philosophical theory that implies things like this: When cold x is placed on red-hot y, some of y's heat passes over into x.\n",
    "\n",
    "It's not just that y cools by as much as x heats up, but the very same individual instance of heat that y has is acquired by x.\n",
    "\n",
    "This theory distinguishes three items: a concrete particular, the red-hot plate y; an abstract universal, heat; an abstract particular, the heat of y.\n",
    "\n",
    "Descartes always rejected this theory of 'real qualities', saying that in treating an individual package (so to speak) of heat as being possessed first by y and then by x you are treating it as a thing, a substance.]\n",
    "\n",
    "Trying to understand weight, heat and the rest, we have applied to them sometimes notions that we have for knowing body and sometimes ones that we have for knowing the soul, depending on whether we were attributing to them something material or something immaterial.\n",
    "\n",
    "Take for example what happens when we suppose that weight is a 'real quality' about which we know nothing except that it has the power to move the body that has it toward the centre of the earth.\n",
    "\n",
    "_How_ do we think that the weight of a rock moves the rock downwards?\n",
    "\n",
    "We don't think that this happens through a real contact of one surface against another as though the weight was a hand pushing the rock downwards!\n",
    "\n",
    "But we have no difficulty in conceiving how it moves the body, nor how the weight and the rock are connected, because we find from our own inner experience that we _already_ have a notion that provides just such a connection.\n",
    "\n",
    "But I believe we are misusing this notion when we apply it to weight--which, as I hope to show in my _Physics_, is not a _thing_ distinct from the body that has it.\n",
    "\n",
    "For I believe that this notion was given to us for conceiving how the soul moves the body.\n",
    "\n",
    "If I make this explanation any longer I'll be doing an injustice to your incomparable mind, whereas if I let myself think that what I have written so far will be entirely satisfactory to you I'll be guilty of egotism.\n",
    "\n",
    "I'll try to steer between these by saying just this: if I can write or say something that could please you, I will always take it as a great honour to take up a pen or to go to The Hague for that purpose.\n",
    "\n",
    "But I can't find here in your letter anything that brings into play the Hippocratic oath that you put to me, because everything in the letter deserves to be seen and admired by everyone.\n",
    "\n",
    "Still, I will conform to the oath!\n",
    "\n",
    "Your letter is infinitely precious to me, and I'll treat is in the way misers do their treasures: the more they value them the more they hide them, grudging the sight of them to rest of the world and placing their supreme happiness in looking at them."
   ]
  },
  {
   "attachments": {},
   "cell_type": "markdown",
   "metadata": {},
   "source": [
    "### Elisabeth writes on 10.vi.1643"
   ]
  },
  {
   "attachments": {},
   "cell_type": "markdown",
   "metadata": {},
   "source": [
    "Your goodness shows not only in your (of course) pointing out and correcting the faults in my reasoning but also in your using false praise...so as to make the faults less distressing to me.\n",
    "\n",
    "The false praise wasn't necessary: the life I live here...has made me so familiar with my faults that the thought of them doesn't make me _feel_ anything beyond the desire to remedy them.\n",
    "\n",
    "So I am not ashamed to admit that I have found in myself all the causes of error that you mention in your letter, and that I can't yet banish them entirely.\n",
    "\n",
    "That's because the life that I am constrained to lead doesn't let me free up enough time to acquire a habit of meditation in accordance with your rules.\n",
    "\n",
    "The interests of my house (which I must not neglect) and conversations and social obligations (which I can't avoid), inflict so much annoyance and boredom on this weak mind of mine that it is useless for anything else for a long time afterward.\n",
    "\n",
    "I hope that this will excuse my stupid inability to grasp what you want me to grasp.\n",
    "\n",
    "I don't see how (1) the idea that you used to have about weight can guide us to (2) the idea we need in order to judge how the (nonextended and immaterial) soul can move the body.\n",
    "\n",
    "To put some flesh on the bones of my difficulty: I don't see why we should be persuaded that (a) a body can be pushed by some immaterial thing by (b) the supposed power to carry the body toward the centre of the earth, the 'power' that you used wrongly to attribute to weight which you wrongly took to be a real quality; rather than being confirmed in the view that (c) a body cannot be pushed by some immaterial thing by the demonstration, which you promise in your physics, that (d) the way weight operates is nothing like (b).\n",
    "\n",
    "The old idea about _weight_ may be a fiction produced by ignorance of what really moves rocks toward the centre of the earth (it can't claim the special guaranteed truthfulness that the idea of God has!).\n",
    "\n",
    "And if we are going to try theorisiing about the cause of weight, the argument might go like this: No material cause of weight presents itself to the senses, so this power must be due to the contrary of what is material, i.e. to an immaterial cause.\n",
    "\n",
    "But I've never been able to conceive of 'what is immaterial' in any way except as the bare negative 'what is not material', and _that_ can't enter into causal relations with matter!\n",
    "\n",
    "I have to say that I would find it easier to concede matter and extension to the soul than to concede that an immaterial thing could move and be moved by a body.\n",
    "\n",
    "On the one side, if the soul moves the body through _information_, the spirits would have to think, and you say that nothing of..."
   ]
  },
  {
   "attachments": {},
   "cell_type": "markdown",
   "metadata": {},
   "source": [
    "---"
   ]
  },
  {
   "attachments": {},
   "cell_type": "markdown",
   "metadata": {},
   "source": [
    "## Prompt: What is Elisabeth's main complaint about Descartes' theory of the mind? How does Descartes respond to Elisabeth's criticism? Do you find this response satisfactory?"
   ]
  },
  {
   "attachments": {},
   "cell_type": "markdown",
   "metadata": {},
   "source": [
    "---"
   ]
  }
 ],
 "metadata": {
  "language_info": {
   "name": "python"
  },
  "orig_nbformat": 4
 },
 "nbformat": 4,
 "nbformat_minor": 2
}
