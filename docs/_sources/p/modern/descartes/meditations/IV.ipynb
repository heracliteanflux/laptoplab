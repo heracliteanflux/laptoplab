{
 "cells": [
  {
   "attachments": {},
   "cell_type": "markdown",
   "metadata": {},
   "source": [
    "# Meditation IV: Concerning the True and the False\n",
    "\n",
    "_Meditations on First Philosophy in Which the Existence of God and the Distinction between the Soul and the Body Are Demonstrated_\n",
    "\n",
    "Ariew, Roger & Eric Watkins (eds). (2019). _Modern Philosophy: An Anthology of Primary Sources_. 3rd Ed. Hackett."
   ]
  },
  {
   "attachments": {},
   "cell_type": "markdown",
   "metadata": {},
   "source": [
    "---"
   ]
  },
  {
   "attachments": {},
   "cell_type": "markdown",
   "metadata": {},
   "source": [
    "[P]\n",
    "\n",
    "Lately I have become accustomed to withdrawing my mind from the senses, and I have carefully taken note of the fact that very few things are truly perceived regarding corporeal things, although a great many more things are known regarding the human mind, and still many more things regarding God.\n",
    "\n",
    "The upshot is that I now have no difficulty directing my thought away from things that can be imagined to things that can be grasped only by the understanding and are wholly separate from matter.\n",
    "\n",
    "In fact the idea I clearly have of the human mind--insofar as it is a thinking thing, not extended in length, breadth, or depth, and having nothing else from the body--is far more distinct than the idea of any corporeal thing.\n",
    "\n",
    "And when I take note of the fact that I doubt, or that I am a thing that is incomplete and dependent, there comes to mind a clear and distinct idea of a being that is independent and complete, that is, an idea of God.\n",
    "\n",
    "And from the mere fact that such an idea is in me, or that I who have this idea exist, I draw the obvious conclusion that God also exists, and that my existence depends entirely upon him at each and every moment.\n",
    "\n",
    "This conclusion is so obvious that I am confident that the human mind can know nothing more evident or more certain.\n",
    "\n",
    "And now I seem to see a way by which I might progress from this contemplation of the true God, in whom, namely, are hidden all the treasures of the sciences and wisdom, to the knowledge of other things."
   ]
  },
  {
   "attachments": {},
   "cell_type": "markdown",
   "metadata": {},
   "source": [
    "[P]\n",
    "\n",
    "To begin with, I acknowledge that it is impossible for God ever to deceive me, for trickery or deception are always indicative of some imperfection.\n",
    "\n",
    "And although the ability to deceive seems to be an indication of cleverness or power, the will to deceive undoubtedly attests to maliciousness or weakness.\n",
    "\n",
    "Accordingly, deception is incompatible with God.\n",
    "\n",
    "<p style=\"color: #6699CC; font-family: 'Courier New'; font-size: 18px;\">\n",
    "it is impossible to be deceived by god\n",
    "<br>\n",
    "god is perfect and thus has the capability to deceive, since a perfect being has all capabilities\n",
    "<br>\n",
    "but the act of deception is a result of imperfection\n",
    "<br>\n",
    "and so god does not actually deceive\n",
    "</p>"
   ]
  },
  {
   "attachments": {},
   "cell_type": "markdown",
   "metadata": {},
   "source": [
    "[P]\n",
    "\n",
    "Next I experience that there is in me a certain faculty of judgment, which, like everything else that is in me, I undoubtedly received from God.\n",
    "\n",
    "And since he does not wish to deceive me, he assuredly has not given me the sort of faculty with which I could ever make a mistake, when I use it properly."
   ]
  },
  {
   "attachments": {},
   "cell_type": "markdown",
   "metadata": {},
   "source": [
    "[P]\n",
    "\n",
    "No doubt regarding this matter would remain, but for the fact that it seems to follow from this that I am never capable of making a mistake.\n",
    "\n",
    "For if everything that is in me I got from God, and he gave me no faculty for making mistakes, it seems I am incapable of ever erring.\n",
    "\n",
    "And thus, so long as I think exclusively about God and focus my attention exclusively on him, I discern no cause of error or falsity.\n",
    "\n",
    "But once I turn my attention back on myself, I nevertheless experience that I am subject to countless errors.\n",
    "\n",
    "As I seek a cause of these errors, I notice that passing before me is not only a real and positive idea of God (that is, of a supremely perfect being), but also, as it were, a certain negative idea of nothingness (that is, of what is at the greatest possible distance from any perfection), and that I have been so constituted as a kind of middle ground between God and nothingness, or between the supreme being and non-being.\n",
    "\n",
    "Thus insofar as I have been created by the supreme being, there is nothing in me by means of which I might be deceived or be led into error; but insofar as I participate in nothingness or non-being, that is, insofar as I am not the supreme being and lack a great many things, it is not surprising that I make mistakes.\n",
    "\n",
    "Thus I certainly understand that error as such is not something real that depends upon God, but rather is merely a defect.\n",
    "\n",
    "And thus there is no need to account for my errors by positing a faculty given to me by God for the purpose.\n",
    "\n",
    "Rather, it just so happens that I make mistakes because the faculty of judging the truth, which I got from God, is not, in my case, infinite.\n",
    "\n",
    "<p style=\"color: #6699CC; font-family: 'Courier New'; font-size: 18px;\">\n",
    "as a finite substance, I received my faculties, including the faculty of judgment, from god qua infinite substance\n",
    "<br>\n",
    "god qua perfect being has not injected the property of being deceived into my faculties\n",
    "<br>\n",
    "but then why do I err?\n",
    "<br>\n",
    "since I am a finite being, error is rather due to a lack in me; not due to any positive property of being deceived injected into my faculties by god\n",
    "</p>"
   ]
  },
  {
   "attachments": {},
   "cell_type": "markdown",
   "metadata": {},
   "source": [
    "[P]\n",
    "\n",
    "Still this is not yet altogether satisfactory; for error is not a pure negation, but rather a privation or a lack of some knowledge that somehow ought to be in me.\n",
    "\n",
    "And when I attend to the nature of God, it seems impossible that he would have placed in me a faculty that is not perfect in its kind or that is lacking some perfection it ought to have.\n",
    "\n",
    "For if it is true that the more expert the craftsman, the more perfect the works he produces, what can that supreme creator of all things make that is not perfect in all respects?\n",
    "\n",
    "No doubt God could have created me such that I never erred.\n",
    "\n",
    "No doubt, again, God always wills what is best.\n",
    "\n",
    "Is it not then better that I should be in error rather than not?"
   ]
  },
  {
   "attachments": {},
   "cell_type": "markdown",
   "metadata": {},
   "source": [
    "[P]\n",
    "\n",
    "As I mull these things over more carefully, it occurs to me first that there is no reason to marvel at the fact that God should bring about certain things the reasons for which I do not understand.\n",
    "\n",
    "Nor is his existence therefore to be doubted because I happen to experience other things of which I fail to grasp why and how he made them.\n",
    "\n",
    "For since I know now that my nature is very weak and limited, whereas the nature of God is immense, incomprehensible, and infinite, this is sufficient for me also to know that he can make innumerable things whose causes escape me.\n",
    "\n",
    "For this reason alone the entire class of causes which people customarily derive from a thing's \"end,\" I judge to be utterly useless in physics.\n",
    "\n",
    "It is not without rashness that I think myself capable of inquiring into the ends of God."
   ]
  },
  {
   "attachments": {},
   "cell_type": "markdown",
   "metadata": {},
   "source": [
    "[P]\n",
    "\n",
    "It also occurs to me that whenever we ask whether the works of God are perfect, we should keep in view not simply some one creature in isolation from the rest, but the universe as a whole.\n",
    "\n",
    "For perhaps something might rightfully appear very imperfect if it were all by itself; and yet be most perfect, to the extent that it has the status of a part in the universe.\n",
    "\n",
    "And although subsequent to having decided to doubt everything, I have come to know with certainty only that I and God exist, nevertheless, after having taken note of the immense power of God, I cannot deny that many other things have been made by him, or at least could have been made by him.\n",
    "\n",
    "Thus I may have the status of a part in the universal scheme of things."
   ]
  },
  {
   "attachments": {},
   "cell_type": "markdown",
   "metadata": {},
   "source": [
    "[P]\n",
    "\n",
    "Next, as I focus more closely on myself and inquire into the nature of my errors (the only things that are indicative of some imperfection in me), I note that these errors depend on the simultaneous concurrence of two causes: the faculty of knowing that is in me and the faculty of choosing, that is, the free choice of the will, in other words, simultaneously on the intellect and will.\n",
    "\n",
    "Through the intellect alone I merely perceive ideas, about which I can render a judgment.\n",
    "\n",
    "Strictly speaking, no error is to be found in the intellect when properly viewed in this manner.\n",
    "\n",
    "For although perhaps there may exist countless things about which I have no idea, nevertheless, it must not be said that, strictly speaking, I am deprived of these ideas but only that I lack them in a negative sense.\n",
    "\n",
    "This is because I cannot adduce an argument to prove that God ought to have given me a greater faculty of knowing than he did.\n",
    "\n",
    "No matter how expert a craftsman I understand him to be, still I do not for that reason believe he ought to have bestowed on each one of his works all the perfections that he can put into some.\n",
    "\n",
    "Nor, on the other hand, can I complain that the will or free choice I have received from God is insufficiently ample or perfect, since I experience that it is limited by no boundaries whatever.\n",
    "\n",
    "In fact, it seems to be especially worth noting that no other things in me are so perfect or so great but that I understand that they can be still more perfect or greater.\n",
    "\n",
    "If, for example, I consider the faculty of understanding, I immediately recognize that in my case it is very small and quite limited, and at the very same time I form an idea of another much greater faculty of understanding--in fact, an understanding which is consummately great and infinite; and from the fact that I can form an idea of this faculty, I perceive that it pertains to the nature of God.\n",
    "\n",
    "Similarly, were I to examine the faculties of memory or imagination, or any of the other faculties, I would understand that in my case each of these is without exception feeble and limited, whereas in the case of God I understand each faculty to be boundless.\n",
    "\n",
    "It is only the will or free choice that I experience to be so great in me that I cannot grasp the idea of any greater faculty.\n",
    "\n",
    "This is so much the case that the will is the chief basis for my understanding that I bear a certain image and likeness of God.\n",
    "\n",
    "For although the faculty of willing is incomparably greater in God than it is in me, both by virtue of the knowledge and power that are joined to it and that render it more resolute and efficacious and by virtue of its object inasmuch as the divine will stretches over a greater number of things, nevertheless, when viewed in itself formally and precisely, God's faculty of willing does not appear to be any greater.\n",
    "\n",
    "This is owing to the fact that willing is merely a matter of being able to do or not do the same thing, that is, of being able to affirm or deny, to pursue or to shun; or better still, the will consists solely in the fact that when something is proposed to us by our intellect either to affirm or deny, to pursue or to shun, we are moved in such a way that we sense that we are determined to it by no external force.\n",
    "\n",
    "In order to be free I need not be capable of being moved in each direction; on the contrary, the more I am inclined toward one direction--either because I clearly understand that there is in it an aspect of the good and the true, or because God has thus disposed the inner recesses of my thought--the more freely do I choose that direction.\n",
    "\n",
    "Nor indeed does divine grace or natural knowledge ever diminish one's freedom; rather, they increase and strengthen it.\n",
    "\n",
    "However, the indifference that I experience when there is no reason moving me more in one direction than in another is the lowest grade of freedom; it is indicative not of any perfection in freedom, but rather of a defect, that is, a certain negation in knowledge.\n",
    "\n",
    "Were I always to see clearly what is true and good, I would never deliberate about what is to be judged or chosen.\n",
    "\n",
    "In that event, although I would be entirely free, I could never be indifferent."
   ]
  },
  {
   "attachments": {},
   "cell_type": "markdown",
   "metadata": {},
   "source": [
    "[P]\n",
    "\n",
    "But from these considerations I perceive that the power of willing, which I got from God, is not, taken by itself, the cause of my errors, for it is most ample as well as perfect in its kind.\n",
    "\n",
    "Nor is my power of understanding the cause of my errors.\n",
    "\n",
    "For since I got my power of understanding from God, whatever I understand I doubtless understand rightly, and it is impossible for me to be deceived in this.\n",
    "\n",
    "What then is the source of my errors?\n",
    "\n",
    "They are owing simply to the fact that, since the will extends further than the intellect, I do not contain the will within the same boundaries; rather, I also extend it to things I do not understand.\n",
    "\n",
    "Because the will is indifferent in regard to such matters, it easily turns away from the true and the good; and in this way I am deceived and I sin.\n",
    "\n",
    "<p style=\"color: #6699CC; font-family: 'Courier New'; font-size: 18px;\">\n",
    "WILL alone, not the cause of error\n",
    "<br>\n",
    "UNDERSTANDING alone, not the cause of error\n",
    "<br>\n",
    "WILL extending beyond the bounds of UNDERSTANDING, the cause of error\n",
    "</p>"
   ]
  },
  {
   "attachments": {},
   "cell_type": "markdown",
   "metadata": {},
   "source": [
    "[P]\n",
    "\n",
    "For example, during these last few days I was examining whether anything in the world exists, and I noticed that, from the very fact that I was making this examination, it obviously followed that I exist.\n",
    "\n",
    "Nevertheless, I could not help judging that what I understood so clearly was true; not that I was coerced into making this judgment because of some external force, but because a great light in my intellect gave way to a great inclination in my will, and the less indifferent I was, the more spontaneously and freely did I believe it.\n",
    "\n",
    "But now, in addition to my knowing that I exist, insofar as I am a certain thinking thing, I also observe a certain idea of corporeal nature.\n",
    "\n",
    "It happens that I am in doubt as to whether the thinking nature which is in me, or rather which I am, is something different from this corporeal nature, or whether both natures are one and thus the same thing.\n",
    "\n",
    "And I assume that as yet no consideration has occurred to my intellect to convince me of the one alternative rather than the other.\n",
    "\n",
    "Certainly in virtue of this very fact I am indifferent about whether to affirm or to deny either alternative, or even whether to make no judgment at all in the matter."
   ]
  },
  {
   "attachments": {},
   "cell_type": "markdown",
   "metadata": {},
   "source": [
    "[P]\n",
    "\n",
    "Moreover, this indifference extends not merely to things about which the intellect knows absolutely nothing, but extends generally to everything of which the intellect does not have a clear enough knowledge at the very time when the will is deliberating on them.\n",
    "\n",
    "For although probable guesses may pull me in one direction, the mere knowledge that they are merely guesses and not certain and indubitable proofs is all it takes to push my assent in the opposite direction.\n",
    "\n",
    "These last few days have provided me with ample experiene on this point.\n",
    "\n",
    "For all the beliefs that I had once held to be most true I have supposed to be utterly false, and for the sole reason that I determined that I could somehow raise doubts about them."
   ]
  },
  {
   "attachments": {},
   "cell_type": "markdown",
   "metadata": {},
   "source": [
    "[P]\n",
    "\n",
    "But if I hold off from making a judgment when I do not perceive what is true with sufficient clarity and distinctness, it is clear that I am acting properly and am not committing an error.\n",
    "\n",
    "But if instead I were to make an assertion or a denial, then I am not using my freedom properly.\n",
    "\n",
    "Were I to select the alternative that is false, then obviously I will be in error.\n",
    "\n",
    "But were I to embrace the other alternative, it will be by sheer luck that I happen upon the truth; but I will still not be without fault, for it is manifest by the light of nature that a perception on the part of the intellect must always precede a determination on the part of the will.\n",
    "\n",
    "Inherent in this incorrect use of free will is the privation that constitutes the very essence of error: the privation, I say, present in this operation insofar as the operation proceeds from me, but not in the faculty given to me by God, nor even in its operation insofar as it depends upon him."
   ]
  },
  {
   "attachments": {},
   "cell_type": "markdown",
   "metadata": {},
   "source": [
    "[P]\n",
    "\n",
    "Indeed I have no cause for complaint on the grounds that God has not given me a greater power of understanding or a greater light of nature than he has, for it is of the essence of a finite intellect not to understand many things, and it is of the essence of a created intellect to be finite.\n",
    "\n",
    "Actually, instead of thinking that he has withheld from me or deprived me of those things that he has not given me, I ought to thank God, who never owed me anything, for what he has bestowed upon me."
   ]
  },
  {
   "attachments": {},
   "cell_type": "markdown",
   "metadata": {},
   "source": [
    "[P]\n",
    "\n",
    "Again, I have no cause for complaint on the grounds that God has given me a will that has a wider scope than my intellect.\n",
    "\n",
    "For since the will consists of merely one thing, something indivisible, as it were, it does not seem that its nature could withstand anything being removed from it.\n",
    "\n",
    "Indeed, the more ample the will is, the more I ought to thank the one who gave it to me."
   ]
  },
  {
   "attachments": {},
   "cell_type": "markdown",
   "metadata": {},
   "source": [
    "[P]\n",
    "\n",
    "Finally, I should not complain because God concurs with me in eliciting those acts of the will, that is those judgments, in which I am mistaken.\n",
    "\n",
    "For insofar as those acts depend on God, they are absolutely true and good; and in a certain sense, there is greater perfection in me in being able to elicit those acts than in not being able to do so.\n",
    "\n",
    "But privation, in which alone the defining characteristic of falsehood and wrongdoing is to be found, has no need whatever for God's concurrence, since a privation is not a thing, nor, when it is related to God as its cause, is it to be called a privation, but simply a negation.\n",
    "\n",
    "For it is surely no imperfection in God that he has given me the freedom to give or withhold my assent in those instances where he has not placed a clear and distinct perception in my intellect.\n",
    "\n",
    "But surely it is an imperfection in me that I do not use my freedom well and that I make judgments about things I do not properly understand.\n",
    "\n",
    "Nevertheless, I see that God could easily have brought it about that, while still being free and having finite knowledge, I should nonetheless never make a mistake.\n",
    "\n",
    "This result could have been achieved either by his endowing my intellect with a clear and distinct perception of everything about which I would ever deliberate, or by simply impressing the following rule so firmly upon my memory that I could never forget it: I should never judge anything that I do not clearly and distinctly understand.\n",
    "\n",
    "I readily understand that, considered as a totality, I would have been more perfect than I am now, had God made me that way.\n",
    "\n",
    "But I cannot therefore deny that it may somehow be a greater perfection in the universe as a whole that some of its parts are not immune to error, while others are, than of all of them were exactly alike.\n",
    "\n",
    "And I have no right to complain that the part God has wished me to play is not the principal and most perfect one of all."
   ]
  },
  {
   "attachments": {},
   "cell_type": "markdown",
   "metadata": {},
   "source": [
    "[P]\n",
    "\n",
    "Furthermore, even if I cannot abstain from errors in the first way mentioned above, which depends upon a clear perception of everything about which I must deliberate, nevertheless I can avoid error in the other way, which depends solely on my remembering to abstain from making judgments whenever the truth of a given matter is not apparent.\n",
    "\n",
    "For although I experience a certain infirmity in myself, namely that I am unable to keep my attention constantly focused on one and the same item of knowledge, nevertheless, by attentive and often repeated meditation, I can bring it about that I call this rule to mind whenever the situation calls for it, and thus I would acquire a certain habit of not erring."
   ]
  },
  {
   "attachments": {},
   "cell_type": "markdown",
   "metadata": {},
   "source": [
    "[P]\n",
    "\n",
    "Since herein lies the greatest and chief perfection of man, I think today's meditation, in which I investigated the cause of error and falsity, was quite profitable.\n",
    "\n",
    "Nor can this cause be anything other than the one I have described; for as often as I restrain my will when I make judgments, so that it extends only to those matters that the intellect clearly and distinctly discloses to it, it plainly cannot happen that I err.\n",
    "\n",
    "For every clear and distinct perception is surely something, and hence it cannot come from nothing.\n",
    "\n",
    "On the contrary, it must necessarily have God for its author: God, I say, that supremely perfect being to whom it is repugnant to be a deceiver.\n",
    "\n",
    "Therefore the perception is most assuredly true.\n",
    "\n",
    "Today I have learned not merely what I must avoid so as never to make a mistake, but at the same time what I must do to attain truth.\n",
    "\n",
    "For I will indeed attain it, if only I pay enough attention to all the things that I perfectly, and separate them off from the rest, which I apprehend more confusedly and more obscurely.\n",
    "\n",
    "I will be conscientious about this in the future."
   ]
  },
  {
   "attachments": {},
   "cell_type": "markdown",
   "metadata": {},
   "source": [
    "---"
   ]
  }
 ],
 "metadata": {
  "language_info": {
   "name": "python"
  },
  "orig_nbformat": 4
 },
 "nbformat": 4,
 "nbformat_minor": 2
}
