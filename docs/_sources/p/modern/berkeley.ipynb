{
 "cells": [
  {
   "attachments": {},
   "cell_type": "markdown",
   "metadata": {},
   "source": [
    "# Berkeley"
   ]
  },
  {
   "attachments": {},
   "cell_type": "markdown",
   "metadata": {},
   "source": [
    "---"
   ]
  },
  {
   "attachments": {},
   "cell_type": "markdown",
   "metadata": {},
   "source": [
    "Berkeley\n",
    "* we perceive ordinary objects\n",
    "* we perceive only ideas\n",
    "* therefore, external objects are ideas\n",
    "\n",
    "Counter\n",
    "* we mediately perceive ordinary objects\n",
    "* we immediately perceive ideas\n",
    "\n",
    "Counter to the Counter\n",
    "* likeness principle: an idea can only be like another idea\n",
    "\n",
    "external objects are causes, ideas are effects\n",
    "\n",
    "Med6\n",
    "* proof of material bodies\n",
    "* source of our ideas of material bodies?: myself; god; material bodies themselves\n",
    "* they come to me against my will, so i can't be the source of my ideas\n",
    "* god cannot be a deceiver, it's a negative quality\n",
    "\n",
    "source of ideas of ordinary objects\n",
    "* other ideas: NO no activity or power to be a source\n",
    "* myself: NO against my will\n",
    "* some other spirit (god)\n",
    "* material bodies: NO likeness principle\n",
    "\n",
    "god\n",
    "* source of ideas\n",
    "* source of order of ideas: god gives stability, order, regularity, coherence to system of ideas"
   ]
  },
  {
   "attachments": {},
   "cell_type": "markdown",
   "metadata": {},
   "source": [
    "---"
   ]
  },
  {
   "attachments": {},
   "cell_type": "markdown",
   "metadata": {},
   "source": [
    "## Terms"
   ]
  },
  {
   "attachments": {},
   "cell_type": "markdown",
   "metadata": {},
   "source": [
    "* [[S](https://plato.stanford.edu/entries/berkeley/)][W] Berkeley, George (1685-1753)"
   ]
  },
  {
   "attachments": {},
   "cell_type": "markdown",
   "metadata": {},
   "source": [
    "---"
   ]
  }
 ],
 "metadata": {
  "language_info": {
   "name": "python"
  },
  "orig_nbformat": 4
 },
 "nbformat": 4,
 "nbformat_minor": 2
}
