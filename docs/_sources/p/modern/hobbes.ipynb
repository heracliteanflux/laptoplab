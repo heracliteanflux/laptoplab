{
 "cells": [
  {
   "attachments": {},
   "cell_type": "markdown",
   "metadata": {},
   "source": [
    "# Hobbes"
   ]
  },
  {
   "attachments": {},
   "cell_type": "markdown",
   "metadata": {},
   "source": [
    "---"
   ]
  },
  {
   "attachments": {},
   "cell_type": "markdown",
   "metadata": {},
   "source": [
    "## Terms"
   ]
  },
  {
   "cell_type": "markdown",
   "metadata": {},
   "source": [
    "* [SEP][[W](https://en.wikipedia.org/wiki/Thomas_Hobbes)] Hobbes, Thomas (1588-1679)\n",
    "  * [SEP][[W](https://en.wikipedia.org/wiki/De_Corpore)] _De Corpore_. (1655).\n",
    "  * [SEP][[W](https://en.wikipedia.org/wiki/Leviathan_(Hobbes_book))] _Leviathon_. (1651)."
   ]
  },
  {
   "attachments": {},
   "cell_type": "markdown",
   "metadata": {},
   "source": [
    "---"
   ]
  }
 ],
 "metadata": {
  "language_info": {
   "name": "python"
  },
  "orig_nbformat": 4
 },
 "nbformat": 4,
 "nbformat_minor": 2
}
