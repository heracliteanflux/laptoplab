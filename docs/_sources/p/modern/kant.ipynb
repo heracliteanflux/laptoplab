{
 "cells": [
  {
   "attachments": {},
   "cell_type": "markdown",
   "metadata": {},
   "source": [
    "# Kant"
   ]
  },
  {
   "attachments": {},
   "cell_type": "markdown",
   "metadata": {},
   "source": [
    "---"
   ]
  },
  {
   "attachments": {},
   "cell_type": "markdown",
   "metadata": {},
   "source": [
    "## Terms"
   ]
  },
  {
   "attachments": {},
   "cell_type": "markdown",
   "metadata": {},
   "source": [
    "* [[S](https://plato.stanford.edu/entries/kant/)][[W](https://en.wikipedia.org/wiki/Immanuel_Kant)] Kant, Immanuel (1724-1804)\n",
    "  * [[S](https://plato.stanford.edu/entries/kant-hume-causality/)] Kant and Hume on Causality\n",
    "  * [[S](https://plato.stanford.edu/entries/kant-metaphysics/)] Kant's Critique of Metaphysics\n",
    "  * [[S](https://plato.stanford.edu/entries/kant-science/)] Kant's Philosophy of Science\n",
    "  * [[S](https://plato.stanford.edu/entries/kant-spacetime/)] Kant's Views on Space and Time\n",
    "* [S][[W](https://en.wikipedia.org/wiki/Critique_of_Pure_Reason)] _Critique of Pure Reason_. (1787)."
   ]
  },
  {
   "attachments": {},
   "cell_type": "markdown",
   "metadata": {},
   "source": [
    "* [[W](https://en.wikipedia.org/wiki/A_priori_and_a_posteriori)] A Posteriori\n",
    "* [[W](https://en.wikipedia.org/wiki/A_posteriori_necessity)] A Posteriori Necessity\n",
    "* [[W](https://en.wikipedia.org/wiki/A_priori_and_a_posteriori)] A Priori\n",
    "* [[W](https://en.wikipedia.org/wiki/Analytic%E2%80%93synthetic_distinction)] Analytic Synthetic Distinction"
   ]
  },
  {
   "attachments": {},
   "cell_type": "markdown",
   "metadata": {},
   "source": [
    "---"
   ]
  }
 ],
 "metadata": {
  "language_info": {
   "name": "python"
  },
  "orig_nbformat": 4
 },
 "nbformat": 4,
 "nbformat_minor": 2
}
