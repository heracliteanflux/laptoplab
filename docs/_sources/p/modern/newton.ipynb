{
 "cells": [
  {
   "attachments": {},
   "cell_type": "markdown",
   "metadata": {},
   "source": [
    "# Newton"
   ]
  },
  {
   "attachments": {},
   "cell_type": "markdown",
   "metadata": {},
   "source": [
    "---"
   ]
  },
  {
   "attachments": {},
   "cell_type": "markdown",
   "metadata": {},
   "source": [
    "## Terms"
   ]
  },
  {
   "attachments": {},
   "cell_type": "markdown",
   "metadata": {},
   "source": [
    "* [[S](https://plato.stanford.edu/entries/newton/)] Newton, Isaac (1642-1727)\n",
    "  * [[S](https://plato.stanford.edu/entries/spacetime-theories/)] Absolute and Relational SPace and Motion: Post-Newtonian Theories\n",
    "  * [[S](https://plato.stanford.edu/entries/newton-principia/)] Newton's Philosophiae Naturalis Principia Mathematica\n",
    "  * [[S](https://plato.stanford.edu/entries/newton-philosophy/)] Newton's Philosophy\n",
    "  * [[S](https://plato.stanford.edu/entries/newton-stm/)] Newton's Views on Space, Time, and Motion"
   ]
  },
  {
   "attachments": {},
   "cell_type": "markdown",
   "metadata": {},
   "source": [
    "---"
   ]
  }
 ],
 "metadata": {
  "language_info": {
   "name": "python"
  },
  "orig_nbformat": 4
 },
 "nbformat": 4,
 "nbformat_minor": 2
}
