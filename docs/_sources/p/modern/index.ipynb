{
 "cells": [
  {
   "attachments": {},
   "cell_type": "markdown",
   "metadata": {},
   "source": [
    "# Early Modern Philosophy"
   ]
  },
  {
   "attachments": {},
   "cell_type": "markdown",
   "metadata": {},
   "source": [
    "---"
   ]
  },
  {
   "attachments": {},
   "cell_type": "markdown",
   "metadata": {},
   "source": [
    "## Sections"
   ]
  },
  {
   "attachments": {},
   "cell_type": "markdown",
   "metadata": {},
   "source": [
    "```{tableofcontents}\n",
    "```"
   ]
  },
  {
   "attachments": {},
   "cell_type": "markdown",
   "metadata": {},
   "source": [
    "---"
   ]
  },
  {
   "attachments": {},
   "cell_type": "markdown",
   "metadata": {},
   "source": [
    "* Domenico Bertolini Meli\n",
    "* Edith Sylla\n",
    "* François Duchesneau"
   ]
  },
  {
   "attachments": {},
   "cell_type": "markdown",
   "metadata": {},
   "source": [
    "* [[SEP](https://plato.stanford.edu/entries/cosmology/)] Philosophy of Cosmology"
   ]
  },
  {
   "attachments": {},
   "cell_type": "markdown",
   "metadata": {},
   "source": [
    "---"
   ]
  },
  {
   "attachments": {},
   "cell_type": "markdown",
   "metadata": {},
   "source": [
    "## Resources"
   ]
  },
  {
   "attachments": {},
   "cell_type": "markdown",
   "metadata": {},
   "source": [
    "[Some Texts from Early Modern Philosophy](https://www.earlymoderntexts.com/)"
   ]
  },
  {
   "attachments": {},
   "cell_type": "markdown",
   "metadata": {},
   "source": [
    "---"
   ]
  },
  {
   "cell_type": "markdown",
   "metadata": {},
   "source": [
    "## Figures"
   ]
  },
  {
   "cell_type": "markdown",
   "metadata": {},
   "source": [
    "* [[S](https://plato.stanford.edu/entries/berkeley/)][[W](https://en.wikipedia.org/wiki/George_Berkeley)] Berkeley, George (1685-1753)\n",
    "* [S][[W](https://en.wikipedia.org/wiki/Robert_Boyle)] Boyle, Robert (1627-1691)\n",
    "* [S][W] Brahe, Tycho\n",
    "* [[S](https://plato.stanford.edu/entries/bruno/)][W] Bruno, Giordano (1548-1600)\n",
    "* [S][[W](https://en.wikipedia.org/wiki/Samuel_Clarke)] Clarke, Samuel (1675-1729)\n",
    "* [[S](https://plato.stanford.edu/entries/copernicus/)][W] Copernicus, Nicolaus (1473-1543)\n",
    "* [[S](https://plato.stanford.edu/entries/descartes/)][W] Descartes, Rene (1596-1650)\n",
    "* [[S](https://plato.stanford.edu/entries/galileo/)][[W](https://en.wikipedia.org/wiki/Galileo_Galilei)] Galileo Galilei (1564-1632)\n",
    "* [[S](https://plato.stanford.edu/entries/gassendi/)][[W](https://en.wikipedia.org/wiki/Pierre_Gassendi)] Gassendi, Pierre (1592-1655)\n",
    "* [S][[W](https://en.wikipedia.org/wiki/Thomas_Hobbes)] Hobbes, Thomas (1588-1679)\n",
    "* [S][[W](https://en.wikipedia.org/wiki/David_Hume)] Hume, David (1711-1776)\n",
    "* [S][[W](https://en.wikipedia.org/wiki/Christiaan_Huygens)] Huygens, Christiaan (1629-1695)\n",
    "* [S][[W](https://en.wikipedia.org/wiki/Immanuel_Kant)] Kant, Immanuel (1724-1804)\n",
    "* [[S](https://plato.stanford.edu/entries/kepler/)][W] Kepler, Johannes (1571-1630)\n",
    "* [S][[W](https://en.wikipedia.org/wiki/John_Locke)] Locke, John (1632-1704)\n",
    "* [S][W] Maimonides, Moses\n",
    "* [[S](https://plato.stanford.edu/entries/malebranche/)][[W](https://en.wikipedia.org/wiki/Nicolas_Malebranche)] Malebranche, Nicolas (1638-1715)\n",
    "* [S][[W](https://en.wikipedia.org/wiki/Marin_Mersenne)] Mersenne, Marin (1588-1648)\n",
    "* [[S](https://plato.stanford.edu/entries/newton/)][W] Newton, Isaac (1642-1727)\n",
    "* [S][W] Pascal\n",
    "* [[S](https://plato.stanford.edu/entries/spinoza/)][[W](https://en.wikipedia.org/wiki/Baruch_Spinoza)] Spinoza, Baruch (1632-1677)"
   ]
  },
  {
   "cell_type": "markdown",
   "metadata": {},
   "source": [
    "* [[W](https://en.wikipedia.org/wiki/Emily_Grosholz)] Grosholz, Emily (1950-)"
   ]
  },
  {
   "cell_type": "markdown",
   "metadata": {},
   "source": [
    "---"
   ]
  },
  {
   "attachments": {},
   "cell_type": "markdown",
   "metadata": {},
   "source": [
    "## Terms"
   ]
  },
  {
   "attachments": {},
   "cell_type": "markdown",
   "metadata": {},
   "source": [
    "* [S][[W](https://en.wikipedia.org/wiki/A_priori_and_a_posteriori)] A Posteriori\n",
    "* [S][[W](https://en.wikipedia.org/wiki/A_priori_and_a_posteriori)] A Priori\n",
    "* [S][[W](https://en.wikipedia.org/wiki/Ab_initio)] Ab initio [from the beginning]\n",
    "* [S][[W](https://en.wikipedia.org/wiki/Ad_infinitum)] Ad infinitum [to infinity]\n",
    "* [S][[W](https://en.wikipedia.org/wiki/Acceleration)] Acceleration\n",
    "* [S][[W](https://en.wikipedia.org/wiki/Accident_(philosophy))] Accident\n",
    "* [S][[W](https://en.wikipedia.org/wiki/Action_at_a_distance)] Action at a distance\n",
    "* [S][[W](https://en.wikipedia.org/wiki/Analytic%E2%80%93synthetic_distinction)] Analysis\n",
    "* [S][[W](https://en.wikipedia.org/wiki/Arrow_of_time)] Arrow of Time\n",
    "* [S][W] Atom\n",
    "* [S][[W](https://en.wikipedia.org/wiki/Atomism)] Atomism\n",
    "* [S][[W](https://en.wikipedia.org/wiki/Automaton)] Automaton\n",
    "* [S][[W](https://en.wikipedia.org/wiki/Category_(Kant))] Category, Kantian\n",
    "* [S][[W](https://en.wikipedia.org/wiki/Cauchy_problem)] Cauchy Problem\n",
    "* [S][W] Causa Sui\n",
    "* [S][[W](https://en.wikipedia.org/wiki/Causality)] Causality\n",
    "* [S][[W](https://en.wikipedia.org/wiki/Causality_(physics))] Cause, physics\n",
    "* [S][[W](https://en.wikipedia.org/wiki/Classical_mechanics)] Classical Mechanics\n",
    "* [S][[W](https://en.wikipedia.org/wiki/Classical_pantheism)] Classical Pantheism\n",
    "* [S][[W](https://en.wikipedia.org/wiki/Clockwork)] Clockwork\n",
    "* [S][[W](https://en.wikipedia.org/wiki/Clockwork_universe)] Clockwork Universe\n",
    "* [S][[W](https://en.wikipedia.org/wiki/Collision)] Collision\n",
    "* [S][[W](https://en.wikipedia.org/wiki/Cogito,_ergo_sum)] Cogito ergo sum\n",
    "* [S][[W](https://en.wikipedia.org/wiki/Common_sense)] Common Sense\n",
    "* [S][[W](https://en.wikipedia.org/wiki/Consciousness)] Consciousness\n",
    "* [S][[W](https://en.wikipedia.org/wiki/Cosmological_argument)] Cosmological Argument\n",
    "* [S][[W](https://en.wikipedia.org/wiki/Determinism)] Determinism\n",
    "* [S][[W](https://en.wikipedia.org/wiki/Dogma)] Dogma\n",
    "* [S][[W](https://en.wikipedia.org/wiki/Double-aspect_theory)] Dual Aspect Theory\n",
    "* [S][[W](https://en.wikipedia.org/wiki/Emergence)] Emergence\n",
    "* [S][[W](https://en.wikipedia.org/wiki/Emergentism)] Emergentism\n",
    "* [S][[W](https://en.wikipedia.org/wiki/Empiricism)] Empiricism\n",
    "* [S][W] Ens A Se\n",
    "* [S][[W](https://en.wikipedia.org/wiki/Essence)] Essence\n",
    "* [S][[W](https://en.wikipedia.org/wiki/Essentialism)] Essentialism\n",
    "* [S][[W](https://en.wikipedia.org/wiki/Eternalism_(philosophy_of_time))] Eternalism\n",
    "* [S][[W](https://en.wikipedia.org/wiki/Eternity)] Eternity\n",
    "* [[S]](https://plato.stanford.edu/entries/existence/)[[W](https://en.wikipedia.org/wiki/Existence)] Existence\n",
    "* [S][[W](https://en.wikipedia.org/wiki/Existence_of_God)] Existence of God\n",
    "* [S][[W](https://en.wikipedia.org/wiki/Extension_(metaphysics))] Extension\n",
    "* [S][[W](https://en.wikipedia.org/wiki/Fatalism)] Fatalism\n",
    "* [S][[W](https://en.wikipedia.org/wiki/Destiny)] Fate\n",
    "* [S][[W](https://en.wikipedia.org/wiki/First_principle)] First Principle\n",
    "* [S][[W](https://en.wikipedia.org/wiki/Force)] Force\n",
    "* [S][[W](https://en.wikipedia.org/wiki/Formal_distinction)] Formal Distinction\n",
    "* [S][[W](https://en.wikipedia.org/wiki/Free_will)] Free Will\n",
    "* [S][W] Geometric Method\n",
    "* [S][[W](https://en.wikipedia.org/wiki/History_of_gravitational_theory)] Gravitation, history\n",
    "* [S][[W](https://en.wikipedia.org/wiki/Growing_block_universe)] Growing Block Universe\n",
    "* [S][[W](https://en.wikipedia.org/wiki/Hamiltonian_mechanics)] Hamiltonian Mechanics\n",
    "* [S][[W](https://en.wikipedia.org/wiki/History_of_science)] History of Science\n",
    "* [S][[W](https://en.wikipedia.org/wiki/Hypotheses_non_fingo)] Hypotheses non fingo\n",
    "* [S][[W](https://en.wikipedia.org/wiki/Inertia)] Inertia\n",
    "* [S][[W](https://en.wikipedia.org/wiki/Ipso_facto)] Ipso Facto [by the fact itself]\n",
    "* [S][[W](https://en.wikipedia.org/wiki/Is%E2%80%93ought_problem)] Is-Ought Problem\n",
    "* [S][[W](https://en.wikipedia.org/wiki/Lagrangian_mechanics)] Lagrangian Mechanics\n",
    "* [S][[W](https://en.wikipedia.org/wiki/Laplace%27s_demon)] Laplace's Demon\n",
    "* [[S](https://plato.stanford.edu/entries/laws-of-nature/)][[W](https://en.wikipedia.org/wiki/Scientific_law)] Law of Nature\n",
    "* [S][[W](https://en.wikipedia.org/wiki/Newton%27s_laws_of_motion)] Laws of Motion, Newtonian\n",
    "* [S][[W](https://en.wikipedia.org/wiki/Materialism)] Materialism\n",
    "* [S][[W](https://en.wikipedia.org/wiki/Matter)] Matter\n",
    "* [S][[W](https://en.wikipedia.org/wiki/Cartesian_doubt)] Method of Doubt\n",
    "* [S][W] Mind\n",
    "* [S][[W](https://en.wikipedia.org/wiki/Mind%E2%80%93body_dualism)] Mind-Body Dualism\n",
    "* [S][[W](https://en.wikipedia.org/wiki/Momentum)] Momentum\n",
    "* [S][[W](https://en.wikipedia.org/wiki/Monism)] Monism\n",
    "* [S][[W](https://en.wikipedia.org/wiki/Motion)] Motion\n",
    "* [S][[W](https://en.wikipedia.org/wiki/Natural_order_(philosophy))] Natural Order\n",
    "* [S][[W](https://en.wikipedia.org/wiki/Necessitarianism)] Necessitarianism\n",
    "* [S][[W](https://en.wikipedia.org/wiki/Noether%27s_theorem)] Noether's Theorem\n",
    "* [S][[W](https://en.wikipedia.org/wiki/Nomology)] Nomology\n",
    "* [S][W] Noumenon\n",
    "* [[S](https://plato.stanford.edu/entries/occasionalism/)][[W](https://en.wikipedia.org/wiki/Occasionalism)] Occasionalism\n",
    "* [S][[W](https://en.wikipedia.org/wiki/Omniscience)] Omniscience\n",
    "* [S][[W](https://en.wikipedia.org/wiki/Ontic)] Ontic\n",
    "* [S][[W](https://en.wikipedia.org/wiki/Orrery)] Orrery\n",
    "* [S][W] Phenomenon\n",
    "* [S][W] Philosophy of Consciousness\n",
    "* [S][W] Philosophy of Meaning\n",
    "* [S][[W](https://en.wikipedia.org/wiki/Philosophy_of_physics)] Philosophy of Physics\n",
    "* [S][[W](https://en.wikipedia.org/wiki/Philosophy_of_space_and_time)] Philosophy of Space and Time\n",
    "* [S][[W](https://en.wikipedia.org/wiki/Philosophy_of_space_and_time)] Philosophy of Time\n",
    "* [S][[W](https://en.wikipedia.org/wiki/Positivism)] Positivism\n",
    "* [S][[W](https://en.wikipedia.org/wiki/Predeterminism)] Predeterminism\n",
    "* [S][[W](https://en.wikipedia.org/wiki/Philosophical_presentism)] Presentism\n",
    "* [S][[W](https://en.wikipedia.org/wiki/Problem_of_induction)] Problem of Induction\n",
    "* [[S](https://plato.stanford.edu/entries/process-philosophy/)][W] Process Philosophy\n",
    "* [S][W] Prolix\n",
    "* [[S](https://plato.stanford.edu/entries/qualities-prim-sec/)][[W](https://en.wikipedia.org/wiki/Primary%E2%80%93secondary_quality_distinction)] Primary Quality\n",
    "* [S][[W](https://en.wikipedia.org/wiki/Property_(philosophy))] Property\n",
    "* [[S](https://plato.stanford.edu/entries/essential-accidental/)][W] Properties, essential vs accidental\n",
    "* [S][W] Quality\n",
    "* [S][W] Quantity\n",
    "* [S][[W](https://en.wikipedia.org/wiki/Quidditism)] Quidditism\n",
    "* [S][[W](https://en.wikipedia.org/wiki/Rationalism)] Rationalism\n",
    "* [[S](https://plato.stanford.edu/entries/rationalism-empiricism/)][W] Rationalism vs Empiricism\n",
    "* [S][[W](https://en.wikipedia.org/wiki/Reason)] Reason\n",
    "* [S][[W](https://en.wikipedia.org/wiki/Reductionism)] Reductionism\n",
    "* [[S](https://plato.stanford.edu/entries/qualities-prim-sec/)][[W](https://en.wikipedia.org/wiki/Primary%E2%80%93secondary_quality_distinction)] Secondary Quality\n",
    "* [S][[W](https://en.wikipedia.org/wiki/Simulation_hypothesis)] Simulation Hypothesis\n",
    "* [S][[W](https://en.wikipedia.org/wiki/Simulated_reality)] Simulated Reality\n",
    "* [S][[W](https://en.wikipedia.org/wiki/Sine_qua_non)] Sine Qua Non\n",
    "* [S][[W](https://en.wikipedia.org/wiki/Philosophical_skepticism)] Skepticism\n",
    "* [S][[W](https://en.wikipedia.org/wiki/Spacetime)] Spacetime\n",
    "* [S][[W](https://en.wikipedia.org/wiki/Stationary-action_principle)] Stationary-Action Principle\n",
    "* [S][[W](https://en.wikipedia.org/wiki/Substance_theory)] Substance Theory\n",
    "* [S][[W](https://en.wikipedia.org/wiki/Substance_theory)] Substance-Attribute Theory\n",
    "* [S][W] Sui Generis\n",
    "* [S][[W](https://en.wikipedia.org/wiki/Superdeterminism)] Superdeterminism\n",
    "* [S][[W](https://en.wikipedia.org/wiki/Supervenience)] Supervenience\n",
    "* [S][[W](https://en.wikipedia.org/wiki/Analytic%E2%80%93synthetic_distinction)] Synthesis\n",
    "* [S][[W](https://en.wikipedia.org/wiki/Tabula_rasa)] Tabula Rasa\n",
    "* [S][[W](https://en.wikipedia.org/wiki/Theological_determinism)] Theological Determinism\n",
    "* [S][[W](https://en.wikipedia.org/wiki/Thing-in-itself)] Thing In Itself\n",
    "* [S][[W](https://en.wikipedia.org/wiki/Time)] Time\n",
    "* [S][[W](https://en.wikipedia.org/wiki/Transcendental_idealism)] Transcendental Idealism\n",
    "* [S][[W](https://en.wikipedia.org/wiki/Vacuum)] Vacuum"
   ]
  },
  {
   "attachments": {},
   "cell_type": "markdown",
   "metadata": {},
   "source": [
    "---"
   ]
  },
  {
   "attachments": {},
   "cell_type": "markdown",
   "metadata": {},
   "source": [
    "## Mechanical Philosophy"
   ]
  },
  {
   "attachments": {},
   "cell_type": "markdown",
   "metadata": {},
   "source": [
    "* [SEP][W] Atomsism\n",
    "  * [[SEP](https://plato.stanford.edu/entries/atomism-modern/)] Atomism from the 17th to the 20th Century\n",
    "* [SEP][[W](https://en.wikipedia.org/wiki/Corpuscularianism)] Corpusculareanism\n",
    "* [SEP][W] Corpuscle\n",
    "* [SEP][[W](https://en.wikipedia.org/wiki/Mechanical_philosophy)] Mechanical Philosophy\n",
    "* [SEP][[W](https://en.wikipedia.org/wiki/Mechanism_(philosophy))] Mechanism\n",
    "* [[SEP](https://plato.stanford.edu/entries/possibilism-actualism/)][W] The Possibilism-Actualism Debate\n",
    "* [[SEP](https://plato.stanford.edu/entries/qualities-prim-sec/)][W] Primary and Secondary Qualities in Early Modern Philosophy"
   ]
  },
  {
   "attachments": {},
   "cell_type": "markdown",
   "metadata": {},
   "source": [
    "---"
   ]
  }
 ],
 "metadata": {
  "kernelspec": {
   "display_name": "Python 3",
   "language": "python",
   "name": "python3"
  },
  "language_info": {
   "name": "python",
   "version": "3.10.10"
  },
  "orig_nbformat": 4,
  "vscode": {
   "interpreter": {
    "hash": "b0fa6594d8f4cbf19f97940f81e996739fb7646882a419484c72d19e05852a7e"
   }
  }
 },
 "nbformat": 4,
 "nbformat_minor": 2
}
