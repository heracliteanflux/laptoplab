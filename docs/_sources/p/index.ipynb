{
 "cells": [
  {
   "cell_type": "markdown",
   "metadata": {},
   "source": [
    "# Philosophy"
   ]
  },
  {
   "cell_type": "markdown",
   "metadata": {},
   "source": [
    "---"
   ]
  },
  {
   "cell_type": "markdown",
   "metadata": {},
   "source": [
    "## Sections\n",
    "```{tableofcontents}\n",
    "```"
   ]
  },
  {
   "cell_type": "markdown",
   "metadata": {},
   "source": [
    "---"
   ]
  },
  {
   "cell_type": "markdown",
   "metadata": {},
   "source": [
    "## Resources"
   ]
  },
  {
   "cell_type": "markdown",
   "metadata": {},
   "source": [
    "* [ [y](https://www.youtube.com/watch?v=4nHj3gL_JN0) ] `09-19-2023`. After Skool. \"The Profound Meaning of Plato's Allegory of the Cave\"."
   ]
  },
  {
   "cell_type": "markdown",
   "metadata": {},
   "source": [
    "---"
   ]
  },
  {
   "cell_type": "markdown",
   "metadata": {},
   "source": [
    "## Terms\n",
    "\n",
    "* [[W](https://en.wikipedia.org/wiki/Analytic_philosophy)] Analytic Philosophy\n",
    "* [[W](https://en.wikipedia.org/wiki/Ideal_language_philosophy)] Ideal Language Philosophy\n",
    "* [[W](https://en.wikipedia.org/wiki/Linguistic_philosophy)] Linguistic Philosophy\n",
    "* [[W](https://en.wikipedia.org/wiki/Logical_atomism)] Logical Atomism\n",
    "* [[W](https://en.wikipedia.org/wiki/Ordinary_language_philosophy)] Ordinary Language Philosophy\n",
    "* [[W](https://en.wikipedia.org/wiki/Outline_of_philosophy)] outline of philosophy\n",
    "* [[W](https://en.wikipedia.org/wiki/Philosophical_methodology)] Philosophical Methodology\n",
    "* [[W](https://en.wikipedia.org/wiki/Philosophical_razor)] Philosophical Razor\n",
    "* [[W](https://en.wikipedia.org/wiki/Philosophy)] Philosophy"
   ]
  },
  {
   "cell_type": "markdown",
   "metadata": {},
   "source": [
    "* A Posteriori [Wiki](https://en.wikipedia.org/wiki/A_priori_and_a_posteriori)\n",
    "* A Priori [Wiki](https://en.wikipedia.org/wiki/A_priori_and_a_posteriori)\n",
    "* Acadmic Skepticism [Wiki](https://en.wikipedia.org/wiki/Academic_skepticism)\n",
    "* Acatalepsy [Wiki](https://en.wikipedia.org/wiki/Acatalepsy)\n",
    "* Ad Infinitum [Wiki](https://en.wikipedia.org/wiki/Ad_infinitum)\n",
    "* Agrippan Trilemma [Wiki](https://en.wikipedia.org/wiki/Münchhausen_trilemma)\n",
    "* Ancient Greek Philosophy [Wiki](https://en.wikipedia.org/wiki/Ancient_Greek_philosophy)\n",
    "* Aporia [Wiki](https://en.wikipedia.org/wiki/Aporia)\n",
    "* Ataraxia [Wiki](https://en.wikipedia.org/wiki/Ataraxia)\n",
    "* Bootstrap [Wiki](https://en.wikipedia.org/wiki/Bootstrapping)\n",
    "* Cartesian Doubt [Wiki](https://en.wikipedia.org/wiki/Cartesian_doubt)\n",
    "* Circular Reasoning [Wiki](https://en.wikipedia.org/wiki/Circular_reasoning)\n",
    "* Cogito [Wiki](https://en.wikipedia.org/wiki/Cogito,_ergo_sum)\n",
    "* Coherence Theory of Truth [Wiki](https://en.wikipedia.org/wiki/Coherence_theory_of_truth)\n",
    "* Coherentism [Wiki](https://en.wikipedia.org/wiki/Coherentism)\n",
    "* Correspondence Theory of Truth [Wiki](https://en.wikipedia.org/wiki/Correspondence_theory_of_truth)\n",
    "* Criteria of Truth [Wiki](https://en.wikipedia.org/wiki/Criteria_of_truth)\n",
    "* Daimon [Wiki](https://en.wikipedia.org/wiki/Daimon)\n",
    "* Descriptive Knowledge [Wiki](https://en.wikipedia.org/wiki/Descriptive_knowledge)\n",
    "* Dogma [Wiki](https://en.wikipedia.org/wiki/Dogma)\n",
    "* Domain of Discourse [Wiki](https://en.wikipedia.org/wiki/Domain_of_discourse)\n",
    "* Doxa [Wiki](https://en.wikipedia.org/wiki/Doxa)\n",
    "* Episteme [Wiki](https://en.wikipedia.org/wiki/Episteme)\n",
    "* Epistemology [Wiki](https://en.wikipedia.org/wiki/Epistemology)\n",
    "* Epoche [Wiki](https://en.wikipedia.org/wiki/Epoché)\n",
    "* Eudaimonia [Wiki](https://en.wikipedia.org/wiki/Eudaimonia)\n",
    "* First Principle [Wiki](https://en.wikipedia.org/wiki/First_principle)\n",
    "* Foundationalism [Wiki](https://en.wikipedia.org/wiki/Foundationalism)\n",
    "* Gettier Problem [Wiki](https://en.wikipedia.org/wiki/Gettier_problem)\n",
    "* I Know That I Know Nothing [Wiki](https://en.wikipedia.org/wiki/I_know_that_I_know_nothing)\n",
    "* Infinite Regress [Wiki](https://en.wikipedia.org/wiki/Infinite_regress)\n",
    "* Katalepsis [Wiki](https://en.wikipedia.org/wiki/Katalepsis)\n",
    "* Knowledge, definitions [Wiki](https://en.wikipedia.org/wiki/Definitions_of_knowledge)\n",
    "* Metaphysics [Wiki](https://en.wikipedia.org/wiki/Metaphysics)\n",
    "* Noumenon [Wiki](https://en.wikipedia.org/wiki/Noumenon)\n",
    "* Nous [Wiki](https://en.wikipedia.org/wiki/Nous)\n",
    "* Phantasiai [Wiki](https://en.wikipedia.org/wiki/Phantasiai)\n",
    "* Phronesis [Wiki](https://en.wikipedia.org/wiki/Phronesis)\n",
    "* Problem of the Criterion [Wiki](https://en.wikipedia.org/wiki/Problem_of_the_criterion)\n",
    "* Pyrrhonism [Wiki](https://en.wikipedia.org/wiki/Pyrrhonism)\n",
    "* Recursion [Wiki](https://en.wikipedia.org/wiki/Recursion)\n",
    "* Regress Argument [Wiki](https://en.wikipedia.org/wiki/Regress_argument)\n",
    "* Self-Reference [Wiki](https://en.wikipedia.org/wiki/Self-reference)\n",
    "* Skepticism [Wiki](https://en.wikipedia.org/wiki/Philosophical_skepticism)\n",
    "* Stoicism [Wiki](https://en.wikipedia.org/wiki/Stoicism)\n",
    "* Suspension of Judgment [Wiki](https://en.wikipedia.org/wiki/Suspension_of_judgment)\n",
    "* Techne [Wiki](https://en.wikipedia.org/wiki/Techne)\n",
    "* Unmoved Mover [Wiki](https://en.wikipedia.org/wiki/Unmoved_mover)"
   ]
  },
  {
   "cell_type": "markdown",
   "metadata": {},
   "source": [
    "* [[W](https://en.wikipedia.org/wiki/Deus_absconditus_(Christian_theology))] Deus Absconditus\n",
    "* [[W](https://en.wikipedia.org/wiki/Deus_otiosus)] Deus Otiosus \"inactive god\"\n",
    "* [[W](https://en.wikipedia.org/wiki/Hypostasis_(philosophy_and_religion))] Hypostasis ὑπόστασις\n",
    "* [[W](https://en.wikipedia.org/wiki/Noumenon)] Noumenon νoούμενον\n",
    "* [[W](https://en.wikipedia.org/wiki/Practical_philosophy)] Practical Philosophy\n",
    "* [[W](https://en.wikipedia.org/wiki/Theoretical_philosophy)] Theoretical Philosophy"
   ]
  },
  {
   "cell_type": "markdown",
   "metadata": {},
   "source": [
    "---"
   ]
  }
 ],
 "metadata": {
  "language_info": {
   "name": "python"
  },
  "orig_nbformat": 4
 },
 "nbformat": 4,
 "nbformat_minor": 2
}
