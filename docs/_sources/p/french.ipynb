{
 "cells": [
  {
   "cell_type": "markdown",
   "metadata": {},
   "source": [
    "# French Philosophy"
   ]
  },
  {
   "cell_type": "markdown",
   "metadata": {},
   "source": [
    "---"
   ]
  },
  {
   "cell_type": "markdown",
   "metadata": {},
   "source": [
    "## Figures"
   ]
  },
  {
   "cell_type": "markdown",
   "metadata": {},
   "source": [
    "* [[W](https://en.wikipedia.org/wiki/Gaston_Bachelard)] Bachelard, Gaston (1884-1962)\n",
    "* [[W](https://en.wikipedia.org/wiki/Roland_Barthes)] Barthes, Roland (1915-1980)\n",
    "* [[W](https://en.wikipedia.org/wiki/Jean_Baudrillard)] Baudrillard, Jean (1929-2007)\n",
    "* [[W](https://en.wikipedia.org/wiki/Henri_Bergson)] Bergson, Henri-Louis (1859-1941)\n",
    "* [[W](https://en.wikipedia.org/wiki/Albert_Camus)] Camus, Albert (1913-1960)\n",
    "* [[W](https://en.wikipedia.org/wiki/Jean_Cavaill%C3%A8s)] Cavaillès, Jean (1903-1944)\n",
    "* [[W](https://en.wikipedia.org/wiki/Simone_de_Beauvoir)][[S](https://plato.stanford.edu/entries/beauvoir/)] De Beauvoir, Simone (1908-1986)\n",
    "* [[W](https://en.wikipedia.org/wiki/Gilles_Deleuze)] Deleuze, Gilles (1925-1995)\n",
    "* [[W](https://en.wikipedia.org/wiki/Jacques_Derrida)] Derrida, Jacques (1930-2004)\n",
    "* [[W](https://en.wikipedia.org/wiki/Pierre_Duhem)] Duhem, Pierre (1861-1916)\n",
    "* [[W](https://en.wikipedia.org/wiki/Michel_Foucault)] Foucault, Michel (1926-1984)\n",
    "* [[W](https://en.wikipedia.org/wiki/Luce_Irigaray)] Irigaray, Luce (1930-)\n",
    "* [[W](https://en.wikipedia.org/wiki/Alexandre_Koyr%C3%A9)] Koyré, Alexandre (1982-1964)\n",
    "* [[W](https://en.wikipedia.org/wiki/Jacques_Lacan)] Lacan, Jacques (1901-1981)\n",
    "* [[W](https://en.wikipedia.org/wiki/Bruno_Latour)] Latour, Bruno (1947-2022)\n",
    "* [[W](https://en.wikipedia.org/wiki/Claude_L%C3%A9vi-Strauss)] Lévi-Strauss, Claude (1908-2009)\n",
    "* [[W](https://en.wikipedia.org/wiki/Emmanuel_Levinas)][[S](https://plato.stanford.edu/entries/levinas/)] Levinas, Emmanuel (1906-1995)\n",
    "* [[W](https://en.wikipedia.org/wiki/Maurice_Merleau-Ponty)] Merleau-Ponty, Maurice (1908-1961)\n",
    "* [[W](https://en.wikipedia.org/wiki/Jean-Luc_Nancy)] Nancy, Jean-Luc (1940-2021)\n",
    "* [[W](https://en.wikipedia.org/wiki/Henri_Poincar%C3%A9)] Poincaré, Henri (1854-1912)\n",
    "* [[W](https://en.wikipedia.org/wiki/Paul_Ric%C5%93ur)] Ricœr, Paul (1913-2005)\n",
    "* [[W](https://en.wikipedia.org/wiki/Jean-Paul_Sartre)] Sartre, Jean-Paul (1905-1980)\n",
    "* [[W](https://en.wikipedia.org/wiki/Voltaire)] Voltaire (1694-1778)\n",
    "* [[W](https://en.wikipedia.org/wiki/Jules_Vuillemin)] Vuillemin, Jules (1920-2001)\n",
    "* [[W](https://en.wikipedia.org/wiki/Simone_Weil)] Weil, Simone (1909-1943)"
   ]
  },
  {
   "cell_type": "markdown",
   "metadata": {},
   "source": [
    "---"
   ]
  },
  {
   "cell_type": "markdown",
   "metadata": {},
   "source": [
    "## Terms"
   ]
  },
  {
   "cell_type": "markdown",
   "metadata": {},
   "source": [
    "* [[W](https://en.wikipedia.org/wiki/Continental_philosophy)] Continentalism\n",
    "* [[W](https://en.wikipedia.org/wiki/Critical_theory)] Critical Theory\n",
    "* [[W](https://en.wikipedia.org/wiki/Critical_race_theory)] Critical Race Theory\n",
    "* [[W](https://en.wikipedia.org/wiki/Deconstruction)] Deconstructionism\n",
    "* [[W](https://en.wikipedia.org/wiki/Feminism)] Feminism\n",
    "* [[W](https://en.wikipedia.org/wiki/Feminist_theory)] Feminist Theory\n",
    "* [[W](https://en.wikipedia.org/wiki/Feminism_in_France)] French Feminism\n",
    "* [[W](https://en.wikipedia.org/wiki/French_philosophy)] French Philosophy\n",
    "* [[W](https://en.wikipedia.org/wiki/Postcolonialism)] Post Colonialism\n",
    "* [[W](https://en.wikipedia.org/wiki/Postmodernism)] Post Modernism\n",
    "* [[W](https://en.wikipedia.org/wiki/Post-structuralism)] Post Structuralism\n",
    "* [[W](https://en.wikipedia.org/wiki/Queer_theory)] Queer Theory"
   ]
  },
  {
   "cell_type": "markdown",
   "metadata": {},
   "source": [
    "---"
   ]
  }
 ],
 "metadata": {
  "language_info": {
   "name": "python"
  },
  "orig_nbformat": 4
 },
 "nbformat": 4,
 "nbformat_minor": 2
}
