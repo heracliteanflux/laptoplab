{
 "cells": [
  {
   "cell_type": "markdown",
   "metadata": {},
   "source": [
    "# American Philosophy"
   ]
  },
  {
   "cell_type": "markdown",
   "metadata": {},
   "source": [
    "---"
   ]
  },
  {
   "cell_type": "markdown",
   "metadata": {},
   "source": [
    "## Texts"
   ]
  },
  {
   "cell_type": "markdown",
   "metadata": {},
   "source": [
    "* Bellucci, Franceso. (2019). _Peirce's Speculative Grammar: Logic as Semiotics_. Routledge Studies in American Philosophy."
   ]
  },
  {
   "cell_type": "markdown",
   "metadata": {},
   "source": [
    "---"
   ]
  },
  {
   "cell_type": "markdown",
   "metadata": {},
   "source": [
    "## Figures"
   ]
  },
  {
   "cell_type": "markdown",
   "metadata": {},
   "source": [
    "* [[W](https://en.wikipedia.org/wiki/Robert_Brandom)] Brandom, Robert (1950-)\n",
    "* [[W](https://en.wikipedia.org/wiki/Judith_Butler)] Butler, Judith (1956-)\n",
    "* [[W](https://en.wikipedia.org/wiki/Donald_Davidson_(philosopher))] Davidson, Donald (1917-2003)\n",
    "* [[W](https://en.wikipedia.org/wiki/Daniel_Dennett)] Dennett, Daniel (1942-)\n",
    "* [[W](https://en.wikipedia.org/wiki/John_Dewey)] Dewey, John (1859-1952)\n",
    "* [[W](https://en.wikipedia.org/wiki/W._E._B._Du_Bois)] Du Bois, W. E. B. (1868-1963)\n",
    "* [[W](https://en.wikipedia.org/wiki/Edward_Waldo_Emerson)] Emerson, Edward Waldo (1844-1930)\n",
    "* [[W](https://en.wikipedia.org/wiki/Ralph_Waldo_Emerson)] Emerson, Ralph Waldo (1803-1882)\n",
    "* [[W](https://en.wikipedia.org/wiki/Betty_Friedan)] Friedan, Betty (1921-2006)\n",
    "* [[W](https://en.wikipedia.org/wiki/Douglas_Hofstadter)] Hofstadter, Douglas (1945-)\n",
    "* [[W](https://en.wikipedia.org/wiki/William_James)] James, William (1842-1910)\n",
    "* [[W](https://en.wikipedia.org/wiki/Saul_Kripke)] Kripke, Saul (1940-2022)\n",
    "* [[W](https://en.wikipedia.org/wiki/David_Lewis_(philosopher))] Lewis, David (1941-2001)\n",
    "* [[W](https://en.wikipedia.org/wiki/Arthur_Oncken_Lovejoy)] Lovejoy, Arthur (1873-1962)\n",
    "* [[W](https://en.wikipedia.org/wiki/Alva_No%C3%AB)] Noë, Alva (1964-)\n",
    "* [[W](https://en.wikipedia.org/wiki/Martha_Nussbaum)] Nussbaum, Martha (1947-)\n",
    "* [[W](https://en.wikipedia.org/wiki/Benjamin_Peirce)][[S](https://plato.stanford.edu/entries/peirce-benjamin/)] Peirce, Benjamin (1809-1880)\n",
    "* [[W](https://en.wikipedia.org/wiki/Charles_Sanders_Peirce)][[S](https://plato.stanford.edu/entries/peirce/)] Peirce, Charles Sanders (1839-1914)\n",
    "* [[W](https://en.wikipedia.org/wiki/Hilary_Putnam)] Putnam, Hilary (1926-2016)\n",
    "* [[W](https://en.wikipedia.org/wiki/Ayn_Rand)] Rand, Ayn (1905-1982)\n",
    "* [[W](https://en.wikipedia.org/wiki/Richard_Rorty)] Rorty, Richard (1931-2007)\n",
    "* [[W](https://en.wikipedia.org/wiki/Josiah_Royce)][[S](https://plato.stanford.edu/entries/royce/)] Royce, Josiah (1855-1916)\n",
    "* [[W](https://en.wikipedia.org/wiki/George_Santayana)] Santayana, George (1863-1952)\n",
    "* [[W](https://en.wikipedia.org/wiki/John_Searle)] Searle, John (1932-)\n",
    "* [[W](https://en.wikipedia.org/wiki/Henry_David_Thoreau)] Thoreau, Henry David (1817-1862)\n",
    "* [[W](https://en.wikipedia.org/wiki/Cornel_West)] West, Cornel (1953-)"
   ]
  },
  {
   "cell_type": "markdown",
   "metadata": {},
   "source": [
    "---"
   ]
  },
  {
   "cell_type": "markdown",
   "metadata": {},
   "source": [
    "## Terms"
   ]
  },
  {
   "cell_type": "markdown",
   "metadata": {},
   "source": [
    "* [[W](https://en.wikipedia.org/wiki/American_philosophy)] American Philosophy\n",
    "* [[W](https://en.wikipedia.org/wiki/Founding_Fathers_of_the_United_States)] Founding Fathers\n",
    "* [[W](https://en.wikipedia.org/wiki/Pragmatism)] Pragmatism\n",
    "* [[W](https://en.wikipedia.org/wiki/Transcendentalism)] Transcendentalism"
   ]
  },
  {
   "cell_type": "markdown",
   "metadata": {},
   "source": [
    "---"
   ]
  }
 ],
 "metadata": {
  "language_info": {
   "name": "python"
  },
  "orig_nbformat": 4
 },
 "nbformat": 4,
 "nbformat_minor": 2
}
