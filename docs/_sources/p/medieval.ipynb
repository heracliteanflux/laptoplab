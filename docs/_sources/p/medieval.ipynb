{
 "cells": [
  {
   "attachments": {},
   "cell_type": "markdown",
   "metadata": {},
   "source": [
    "# Medieval Philosophy"
   ]
  },
  {
   "attachments": {},
   "cell_type": "markdown",
   "metadata": {},
   "source": [
    "---"
   ]
  },
  {
   "cell_type": "markdown",
   "metadata": {},
   "source": [
    "## Texts"
   ]
  },
  {
   "cell_type": "markdown",
   "metadata": {},
   "source": [
    "`1996` Schoedinger, Andrew B., ed. _Readings in Medieval Philosophy_. [OUP](https://global.oup.com/academic/product/readings-in-medieval-philosophy-9780195092936)."
   ]
  },
  {
   "cell_type": "markdown",
   "metadata": {},
   "source": [
    "---"
   ]
  },
  {
   "attachments": {},
   "cell_type": "markdown",
   "metadata": {},
   "source": [
    "## Terms"
   ]
  },
  {
   "attachments": {},
   "cell_type": "markdown",
   "metadata": {},
   "source": [
    "* [S][[W](https://en.wikipedia.org/wiki/Formal_distinction)] Formal Distinction\n",
    "* [S][[W](https://en.wikipedia.org/wiki/Haecceity)] Haecceity\n",
    "* [S][[W](https://en.wikipedia.org/wiki/Haecceitism)] Haecceitism\n",
    "* [[S](https://plato.stanford.edu/entries/insolubles/)][W] Insolubles\n",
    "* [[S](https://plato.stanford.edu/entries/medieval-philosophy/)][[W](https://en.wikipedia.org/wiki/Medieval_philosophy)] Medieval Philosophy\n",
    "* [[S](https://plato.stanford.edu/entries/modality-medieval/)][W] Medieval Theories of Modality\n",
    "* [S][[W](https://en.wikipedia.org/wiki/Occam%27s_razor)] Ockham's Razor\n",
    "* [S][[W](https://en.wikipedia.org/wiki/Quiddity)] Quiddity\n",
    "* [S][[W](https://en.wikipedia.org/wiki/Scholasticism)] Scholasticism\n",
    "* [S][[W](https://en.wikipedia.org/wiki/Scotism)] Scotism\n",
    "* [S][[W](https://en.wikipedia.org/wiki/Univocity_of_being)] Univocity of Being"
   ]
  },
  {
   "attachments": {},
   "cell_type": "markdown",
   "metadata": {},
   "source": [
    "---"
   ]
  },
  {
   "attachments": {},
   "cell_type": "markdown",
   "metadata": {},
   "source": [
    "## Figures"
   ]
  },
  {
   "attachments": {},
   "cell_type": "markdown",
   "metadata": {},
   "source": [
    "* [[S](https://plato.stanford.edu/entries/ibn-rushd/)][W] Averroes (Ibn Rushd) (1126-1198)\n",
    "* [[S](https://plato.stanford.edu/entries/ibn-gabirol/)][W] Avicebron (Solomon Ibn Gabirol) (1021-1058)\n",
    "* [[S](https://plato.stanford.edu/entries/ibn-sina/)][W] Avicenna (Ibn Sina) (970-1037)\n",
    "* [[S](https://plato.stanford.edu/entries/aquinas/)][[W](https://en.wikipedia.org/wiki/Thomas_Aquinas)] Aquinas, Thomas (1225-1274)\n",
    "* [[S](https://plato.stanford.edu/entries/buridan/)][[W](https://en.wikipedia.org/wiki/Jean_Buridan)] Buridan, Jean (1301-1362)\n",
    "* [[S](https://plato.stanford.edu/entries/cusanus/)][W] Cusanus, Nicolaus (1401-1464)\n",
    "* [[S](https://plato.stanford.edu/entries/ockham/)][[W](https://en.wikipedia.org/wiki/William_of_Ockham)] Ockham, William (1287-1347)\n",
    "* [S][[W](https://en.wikipedia.org/wiki/Johannes_de_Sacrobosco)] Sacrobosco, Johannes de (1195-1256)\n",
    "  * [S][[W](https://en.wikipedia.org/wiki/De_sphaera_mundi)] _De sphaera mundi_\n",
    "* [[S](https://plato.stanford.edu/entries/duns-scotus/)][[W](https://en.wikipedia.org/wiki/Duns_Scotus)] Scotus, John Duns (1265-1308)"
   ]
  },
  {
   "attachments": {},
   "cell_type": "markdown",
   "metadata": {},
   "source": [
    "---"
   ]
  }
 ],
 "metadata": {
  "kernelspec": {
   "display_name": "Python 3",
   "language": "python",
   "name": "python3"
  },
  "language_info": {
   "name": "python",
   "version": "3.10.10"
  },
  "orig_nbformat": 4,
  "vscode": {
   "interpreter": {
    "hash": "b0fa6594d8f4cbf19f97940f81e996739fb7646882a419484c72d19e05852a7e"
   }
  }
 },
 "nbformat": 4,
 "nbformat_minor": 2
}
