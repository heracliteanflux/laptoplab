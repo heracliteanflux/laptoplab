{
 "cells": [
  {
   "attachments": {},
   "cell_type": "markdown",
   "metadata": {},
   "source": [
    "# Epistemology"
   ]
  },
  {
   "attachments": {},
   "cell_type": "markdown",
   "metadata": {},
   "source": [
    "The theory of knowledge"
   ]
  },
  {
   "attachments": {},
   "cell_type": "markdown",
   "metadata": {},
   "source": [
    "---"
   ]
  },
  {
   "attachments": {},
   "cell_type": "markdown",
   "metadata": {},
   "source": [
    "## Figures"
   ]
  },
  {
   "cell_type": "markdown",
   "metadata": {},
   "source": [
    "* [[W](https://en.wikipedia.org/wiki/Edmund_Gettier)] Gettier, Edmund (1927-2021)"
   ]
  },
  {
   "attachments": {},
   "cell_type": "markdown",
   "metadata": {},
   "source": [
    "---"
   ]
  },
  {
   "attachments": {},
   "cell_type": "markdown",
   "metadata": {},
   "source": [
    "## Terms"
   ]
  },
  {
   "cell_type": "markdown",
   "metadata": {},
   "source": [
    "* [[W](https://en.wikipedia.org/wiki/M%C3%BCnchhausen_trilemma)] Agrippa's Trilemma\n",
    "* [[W](https://en.wikipedia.org/wiki/Android_epistemology)] Android Epistemology\n",
    "* [[W](https://en.wikipedia.org/wiki/Coherence_theory_of_truth)] Coherence Theory of Truth\n",
    "* [[W](https://en.wikipedia.org/wiki/Coherentism)] Coherentism\n",
    "* [W][[S](https://plato.stanford.edu/entries/justep-coherence/)] Coherentist Theories of Epistemic Justification\n",
    "* [[W](https://en.wikipedia.org/wiki/Computational_epistemology)] Computational Epistemology\n",
    "* [[W](https://en.wikipedia.org/wiki/Epistemology)] Epistemology\n",
    "* [[W](https://en.wikipedia.org/wiki/Formal_epistemology)] Formal Epistemology\n",
    "* [[W](https://en.wikipedia.org/wiki/Justification_(epistemology))] Justification\n",
    "* [[W](https://en.wikipedia.org/wiki/Philosophical_skepticism)] Skepticism"
   ]
  },
  {
   "attachments": {},
   "cell_type": "markdown",
   "metadata": {},
   "source": [
    "---"
   ]
  }
 ],
 "metadata": {
  "language_info": {
   "name": "python"
  },
  "orig_nbformat": 4
 },
 "nbformat": 4,
 "nbformat_minor": 2
}
