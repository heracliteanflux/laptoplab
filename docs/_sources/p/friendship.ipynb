{
 "cells": [
  {
   "cell_type": "markdown",
   "metadata": {},
   "source": [
    "# Friendship and Love"
   ]
  },
  {
   "cell_type": "markdown",
   "metadata": {},
   "source": [
    "---"
   ]
  },
  {
   "cell_type": "markdown",
   "metadata": {},
   "source": [
    "## Texts"
   ]
  },
  {
   "cell_type": "markdown",
   "metadata": {},
   "source": [
    "* Badhwar, Neera Kapur. (1993). _Friendship: A Philosophical Reader_. Cornell University Press.\n",
    "* Grayling, A. C. (2014). _Friendship_. Yale University Press.\n",
    "* Nehamas, Alexander. (2016). _On Friendship_.\n",
    "* Pakaluk, Micahel. (1991). _Other Selves: Philosophers on Friendship_. Hackett.\n",
    "* Pangle, Lorraine Smith. (2008). _Aristotle and the Philosophy of Friendship_. Cambridge University Press."
   ]
  },
  {
   "cell_type": "markdown",
   "metadata": {},
   "source": [
    "---"
   ]
  },
  {
   "cell_type": "markdown",
   "metadata": {},
   "source": [
    "## Figures"
   ]
  },
  {
   "cell_type": "markdown",
   "metadata": {},
   "source": [
    "* [[W](https://en.wikipedia.org/wiki/Kenneth_Dover)] Dover, Kenneth (1920-2010)\n",
    "  * [[W](https://en.wikipedia.org/wiki/Greek_Homosexuality_(book))] _Greek Homosexuality_\n",
    "    * [[W](https://en.wikipedia.org/wiki/Intercrural_sex)] coitus interfemoris\n",
    "* [[W](https://en.wikipedia.org/wiki/David_M._Halperin)] Halperin, David (1952-present)\n",
    "  * [[W](https://en.wikipedia.org/wiki/One_Hundred_Years_of_Homosexuality)] (1990). _One Hundred Years of Homosexuality: and other essays on Greek love_."
   ]
  },
  {
   "cell_type": "markdown",
   "metadata": {},
   "source": [
    "---"
   ]
  },
  {
   "cell_type": "markdown",
   "metadata": {},
   "source": [
    "## Terms"
   ]
  },
  {
   "cell_type": "markdown",
   "metadata": {},
   "source": [
    "* [[S](https://plato.stanford.edu/entries/personal-relationship-goods/)] Personal Relationship Goods\n",
    "* [[S](https://plato.stanford.edu/entries/plato-friendship/)] Plato on Friendship and Eros"
   ]
  },
  {
   "cell_type": "markdown",
   "metadata": {},
   "source": [
    "* [[W](https://en.wikipedia.org/wiki/Catamite)] Catamite\n",
    "* [W][[S](https://plato.stanford.edu/entries/desire/)] Desire\n",
    "* [[W](https://en.wikipedia.org/wiki/Eromenos)][[P](https://www.perseus.tufts.edu/hopper/morph?l=erasths&la=greek#lexicon)] Erastes ἐραστῆς\n",
    "* [[W](https://en.wikipedia.org/wiki/Eromenos)][[P](https://www.perseus.tufts.edu/hopper/morph?l=erwmenos&la=greek#lexicon)] Eromenos ἐρώμενος \"one who is desired\"\n",
    "* [[W](https://en.wikipedia.org/wiki/Eros)][[P](https://www.perseus.tufts.edu/hopper/morph?l=erws&la=greek#lexicon)] Eros ἔρως \"desire; love\"\n",
    "* [W][[S](https://plato.stanford.edu/entries/friendship/)] Friendship\n",
    "* [[W](https://en.wikipedia.org/wiki/Greek_love)] Greek Love\n",
    "* [W][[S](https://plato.stanford.edu/entries/happiness/)] Happiness\n",
    "* [[W](https://en.wikipedia.org/wiki/Love)][[S](https://plato.stanford.edu/entries/love/)] Love\n",
    "* [W][[S](https://plato.stanford.edu/entries/marriage/)] Marriage\n",
    "* [[W](https://en.wikipedia.org/wiki/Pederasty_in_ancient_Greece)][[P](https://www.perseus.tufts.edu/hopper/morph?l=%CF%80%CE%B1%CE%B9%CE%B4%CE%B5%CF%81%CE%B1%CF%83%CF%84%CE%AF%CE%B1&la=greek#lexicon)] Pederasty παιδεραστία\n",
    "* [[W](https://en.wikipedia.org/wiki/Romance_(love))] Romance"
   ]
  },
  {
   "cell_type": "markdown",
   "metadata": {},
   "source": [
    "* [[W](https://en.wikipedia.org/wiki/Homosexuality_in_ancient_Greece)] Ancient Greek Homosexuality\n",
    "* [[W](https://en.wikipedia.org/wiki/Homosexuality_in_the_militaries_of_ancient_Greece)] Ancient Greek Homosexuality, military\n",
    "* [[W](https://en.wikipedia.org/wiki/Homosexuality_in_ancient_Rome)] Ancient Roman Homosexuality\n",
    "* [[W](https://en.wikipedia.org/wiki/Sexuality_in_ancient_Rome)] Ancient Roman Sexuality\n",
    "* [W][[S](https://plato.stanford.edu/entries/homosexuality/)] Homosexuality\n",
    "* [[W](https://en.wikipedia.org/wiki/History_of_homosexuality)] Homosexuality, history\n",
    "* [[W](https://en.wikipedia.org/wiki/Homosexuality_in_China)] Homosexuality in China\n",
    "* [[W](https://en.wikipedia.org/wiki/Homosexuality_in_India)] Homosexuality in India\n",
    "* [[W](https://en.wikipedia.org/wiki/Homosexuality_in_Japan)] Homosexuality in Japan\n",
    "* [[W](https://en.wikipedia.org/wiki/Philosophy_of_sex)][S] Philosophy of Sex\n",
    "* [W][[S](https://plato.stanford.edu/entries/pleasure/)] Pleasure\n",
    "* [W][[S](https://plato.stanford.edu/entries/pornography-censorship/)] Pornography and Censorship\n",
    "* [W][[S](https://plato.stanford.edu/entries/sex-sexuality/)] Sex and Sexuality\n",
    "* [[W](https://en.wikipedia.org/wiki/Sexology)] Sexology\n",
    "* [[W](https://en.wikipedia.org/wiki/History_of_human_sexuality)] Sexuality, history"
   ]
  },
  {
   "cell_type": "markdown",
   "metadata": {},
   "source": [
    "---"
   ]
  }
 ],
 "metadata": {
  "language_info": {
   "name": "python"
  },
  "orig_nbformat": 4
 },
 "nbformat": 4,
 "nbformat_minor": 2
}
