{
 "cells": [
  {
   "attachments": {},
   "cell_type": "markdown",
   "metadata": {},
   "source": [
    "# Aristotle"
   ]
  },
  {
   "attachments": {},
   "cell_type": "markdown",
   "metadata": {},
   "source": [
    "---"
   ]
  },
  {
   "attachments": {},
   "cell_type": "markdown",
   "metadata": {},
   "source": [
    "```{admonition} Revised\n",
    "02 May 2023\n",
    "```\n",
    "```{contents}\n",
    "```"
   ]
  },
  {
   "attachments": {},
   "cell_type": "markdown",
   "metadata": {},
   "source": [
    "---"
   ]
  },
  {
   "attachments": {},
   "cell_type": "markdown",
   "metadata": {},
   "source": [
    "## Close Reading of _Posterior Analytics_\n",
    "Cohen, S. Marc; Patricia Curd; & C. D. C. Reeve (eds). (2016). _Readings in Ancient Greek Philosophy from Thales to Aristotle_. 5th Ed. Hackett."
   ]
  },
  {
   "attachments": {},
   "cell_type": "markdown",
   "metadata": {},
   "source": [
    "### Book II"
   ]
  },
  {
   "attachments": {},
   "cell_type": "markdown",
   "metadata": {},
   "source": [
    "#### II.19"
   ]
  },
  {
   "attachments": {},
   "cell_type": "markdown",
   "metadata": {},
   "source": [
    "[P]\n",
    "\n",
    "<p style=\"color: #6699CC; font-family: 'Courier New'; font-size: 18px;\">\n",
    "STARTING-POINTS\n",
    "<br>\n",
    "How do the starting-points come-to-be known?\n",
    "</p>\n",
    "\n",
    "As for deduction and demonstration it is evident what each of them is and how each comes about, as it is for demonstrative science too--for it is the same thing.\n",
    "\n",
    "But about the starting-points, how they come to be known and what state recognizes them will be clear from what follows, after we have first discussed some puzzles."
   ]
  },
  {
   "attachments": {},
   "cell_type": "markdown",
   "metadata": {},
   "source": [
    "[P]\n",
    "\n",
    "That it is not possible to know scientifically through demonstration if you do not know the primary starting-points--the immediate ones--has been said earlier.\n",
    "\n",
    "But we should discuss some puzzles about knowledge of the immediates and whether it is the same or not the same, and whether there is scientific knowledge of both, or scientific knowledge of the one and some other kind of knowledge of the other, and whether the states [of scientific knowledge] are not present in us [from birth] but come about in us, or are present but we are unaware of them.\n",
    "\n",
    "<p style=\"color: #6699CC; font-family: 'Courier New'; font-size: 18px;\">\n",
    "it is necessary to know the primary, immediate starting-points of a thing to know a thing scientifically\n",
    "<br><br>\n",
    "(i) Is it the same or not the same?\n",
    "<br>\n",
    "(ii) Is there a scientific knowledge of both?\n",
    "<br>\n",
    "(iii) Is there a scientific knowlegde of one and a non scientific knowledge of the other?\n",
    "<br>\n",
    "(iv) Are the states of scientific knowledge present in us from birth or not? (LOCKE!)\n",
    "</p>"
   ]
  },
  {
   "attachments": {},
   "cell_type": "markdown",
   "metadata": {},
   "source": [
    "[P]\n",
    "\n",
    "Now if we possess them it is absurd.\n",
    "\n",
    "For it follows that we have knowledge more precise than demonstration but are unaware of it.\n",
    "\n",
    "But if we acquire them without possessing them earlier, how can we come to know them and learn them if not from pre-existing knowledge?\n",
    "\n",
    "For this is impossible as we also said in connection with demonstration."
   ]
  },
  {
   "attachments": {},
   "cell_type": "markdown",
   "metadata": {},
   "source": [
    "[P]\n",
    "\n",
    "Now it is evident that we cannot possess them and that they cannot come to be in us if we are ignorant and possess no such state.\n",
    "\n",
    "Therefore we must possess some capacity, but not one that will be more valuable than these states in respect of precision.\n",
    "\n",
    "And this is evidently something that belongs to all animals, for they possess a congenital capacity of discerning which we call perception."
   ]
  },
  {
   "attachments": {},
   "cell_type": "markdown",
   "metadata": {},
   "source": [
    "[P]\n",
    "\n",
    "Granted that perception is present, in some animals there occurs a persistence of the percept and in others there does not.\n",
    "\n",
    "In animals where it does not occur (whether it does not occur at all or concerning the things for which it does not occur) there is no knowledge apart from perceiving.\n",
    "\n",
    "In other animals it is possible that after perceiving they preserve something in their soul.\n",
    "\n",
    "When many occurrences of this kind take place, a certain difference then occurs, with the result that for some from the persistence of such things there comes to be an account and for others there does not."
   ]
  },
  {
   "attachments": {},
   "cell_type": "markdown",
   "metadata": {},
   "source": [
    "[P]\n",
    "\n",
    "So from perception memory comes about, as we say, and from memory of the same thing occurring many times comes experience, for memories many in number constitute a single experience.\n",
    "\n",
    "From experience, or when the entire universal has come to be at rest in the soul--the one beside the many, whatever is one and the same in them all--the starting-point of art and science comes about: the starting-point of art if it is concerned with coming to be, but the starting-point of science if it is concerned with what is.\n",
    "\n",
    "So the states [of scientific knowledge] are not present in us as determinate states, nor do they arise from still other, higher cognitive states, but from perception--as in a battle after a rout has occurred when one man comes to a stand, another does too and then another--until it reaches a starting-point.\n",
    "\n",
    "And in fact the soul is such that it can be affected in this way."
   ]
  },
  {
   "attachments": {},
   "cell_type": "markdown",
   "metadata": {},
   "source": [
    "[P]\n",
    "\n",
    "But let us say again what was said just now but not clearly.\n",
    "\n",
    "When one of the undifferentiated things comes to a stand, the first universal in the soul--for in fact it perceives the particular, but the perception is of the universal (for example, of human being, not of Callias the human being)--once more it comes to a stand in these, until whenever the things that have no parts and are universals come to a stand (for example, such and such a kind of animal, and then animal, and then likewise in this).\n",
    "\n",
    "So it is clear that it is necessary for us to come to know the primary things by induction.\n",
    "\n",
    "For this is the way perception produces the universal in us."
   ]
  },
  {
   "attachments": {},
   "cell_type": "markdown",
   "metadata": {},
   "source": [
    "[P]\n",
    "\n",
    "Since some of the cognitive states by which we grasp truth are always true, but others admit falsehood (for example, opinion and reasoning), whereas scientific knowledge and _nous_ are always true, and no other kind than _nous_ is more accurate than scientific knowledge--and since the starting-points of demonstration are more intelligible [than what is demonstrated from them], and all scientific knowledge involves an account, there cannot be scientific knowledge of the starting-points; and since nothing can be truer than scientific knowledge except _nous_, there will be _nous_ of the starting-points--if we consider on the basis of these points and also consider that demonstration is not the starting-point of demonstration, so that neither is scientific knowledge the starting-point of scientific knowledge, then if we have no other kind of knowledge that is true aside from scientific knowledge, _nous_ will be the starting-point of scientific knowledge, and it will be the starting-point of the starting-point, and scientific knowledge as a whole will be similarly related to its entire object."
   ]
  },
  {
   "attachments": {},
   "cell_type": "markdown",
   "metadata": {},
   "source": [
    "---"
   ]
  },
  {
   "attachments": {},
   "cell_type": "markdown",
   "metadata": {},
   "source": [
    "## Close Reading of τα φυσικα [Physics]\n",
    "Cohen, S. Marc; Patricia Curd; & C. D. C. Reeve (eds). (2016). _Readings in Ancient Greek Philosophy from Thales to Aristotle_. 5th Ed. Hackett."
   ]
  },
  {
   "attachments": {},
   "cell_type": "markdown",
   "metadata": {},
   "source": [
    "### Book I"
   ]
  },
  {
   "attachments": {},
   "cell_type": "markdown",
   "metadata": {},
   "source": [
    "#### I.1"
   ]
  },
  {
   "attachments": {},
   "cell_type": "markdown",
   "metadata": {},
   "source": [
    "[P]\n",
    "\n",
    "Knowledge, i.e., scientific knowledge, in any methodological inquiry, results from a knowledge of its starting-points or causes or elements.\n",
    "\n",
    "For we think we know each thing when we know its primary causes and first principles (protai archai) all the way to its elements.\n",
    "\n",
    "It is clear, therefore, that in natural science, too, our first task must be to try to determine its principles."
   ]
  },
  {
   "attachments": {},
   "cell_type": "markdown",
   "metadata": {},
   "source": [
    "[P]\n",
    "\n",
    "The natural path to take is to begin with things that are less perspicuous by nature but more perspicuous to us, and proceed to things that are more perspicuous by nature and more knowable.\n",
    "\n",
    "For what is better known to us is not the same as what is better known without qualification (haplos).\n",
    "\n",
    "That is precisely why we must proceed in this way from what is more obscure by nature but clearer to us, until we reach what is clearer and better known by nature."
   ]
  },
  {
   "attachments": {},
   "cell_type": "markdown",
   "metadata": {},
   "source": [
    "[P]\n",
    "\n",
    "The things that are clear and plain to us at first are rather confused; but later their elements and principles will become better known when they have been extracted from those things.\n",
    "\n",
    "That is why one should proceed from the universal to the particular; for the whole is better known by perception, and the universal is a kind of whole, since the universal embraces many things as parts."
   ]
  },
  {
   "attachments": {},
   "cell_type": "markdown",
   "metadata": {},
   "source": [
    "[P]\n",
    "\n",
    "The same thing happens, in a way, with names in relation to their definitions (logoi).\n",
    "\n",
    "For a name, for example 'circle', signifies some whole in an undivided way, but its definition (horismos) divides it into its particular [elements].\n",
    "\n",
    "And children at first call all men 'father' and all women 'mother', and only later make distinctions among them."
   ]
  },
  {
   "attachments": {},
   "cell_type": "markdown",
   "metadata": {},
   "source": [
    "#### I.7"
   ]
  },
  {
   "attachments": {},
   "cell_type": "markdown",
   "metadata": {},
   "source": [
    "[P]\n",
    "\n",
    "Let us now give our own account.\n",
    "\n",
    "We'll first discuss coming-to-be in the broadest sense, since it is in accordance with nature to speak first of the common characteristics, and then get a theoretical grasp on the special features of each type of case.\n",
    "\n",
    "<p style=\"color: #6699CC; font-family: 'Courier New'; font-size: 18px;\">\n",
    "general coming-to-be\n",
    "</p>"
   ]
  },
  {
   "attachments": {},
   "cell_type": "markdown",
   "metadata": {},
   "source": [
    "[P]\n",
    "\n",
    "When we say that one thing comes-to-be from another, or that something comes-to-be from something different, we are talking about either simple things or compounds.\n",
    "\n",
    "Here is what I mean.\n",
    "\n",
    "A man may become musical, or something not-musical may become musical, or a not-musical man may become musical.\n",
    "\n",
    "By 'simple thing that becomes' I mean the man and the not-musical, and by 'simple thing that it becomes' I mean the musical.\n",
    "\n",
    "But when we say that the not-musical man becomes a musical man, both the thing that becomes and what it becomes are compounds.\n",
    "\n",
    "<p style=\"color: #6699CC; font-family: 'Courier New'; font-size: 18px;\">\n",
    "'x becomes y'\n",
    "<br>\n",
    "x is the thing that is there at the start and the thing that changes and is called the terminus a quo\n",
    "<br>\n",
    "y is the thing that is there at the end and the thing that is the result of the change and is called the terminus ad quem\n",
    "</p>"
   ]
  },
  {
   "attachments": {},
   "cell_type": "markdown",
   "metadata": {},
   "source": [
    "[P]\n",
    "\n",
    "In some of these cases we not only say 'becomes this' but also 'from this'--for example, 'from not-musical [it becomes] musical'--but we don't say this in all cases.\n",
    "\n",
    "We don't say 'from a man he became musical', but rather 'a man became musical'.\n",
    "\n",
    "Among what we are calling 'simple things that become', one [kind] remains after it becomes and one does not remain.\n",
    "\n",
    "The man remains and is still a man after having become musical, but the not-musical, i.e., the unmusical, does not remain, either simply or as a component."
   ]
  },
  {
   "attachments": {},
   "cell_type": "markdown",
   "metadata": {},
   "source": [
    "[P]\n",
    "\n",
    "Now that we have made these distinctions, if we look at all these cases of coming-to-be in the way we have described, we can derive from them the following: there must always be some underlying subject that is the thing that becomes, and even if it is one in number, it is not one in form.\n",
    "\n",
    "(By 'in form' I mean the same as 'in account'.)\n",
    "\n",
    "For the essence of man (to anthropoi einai) and the essence of unmusical are not the same.\n",
    "\n",
    "One remains, and the other does not; the one that is not opposed remains (for the man remains), while the not-musical, i.e., the unmusical, does not remain, nor does the compound of the two, for example, the unmusical man.\n",
    "\n",
    "<p style=\"color: #6699CC; font-family: 'Courier New'; font-size: 18px;\">\n",
    "the underlying subject is the thing that becomes\n",
    "<br>\n",
    "the underlying subject is not one in account/form\n",
    "</p>"
   ]
  },
  {
   "attachments": {},
   "cell_type": "markdown",
   "metadata": {},
   "source": [
    "[P]\n",
    "\n",
    "We speak of 'becoming something _from_ something', and not of '_this_ becoming something', more in the case of things that do not remain; for example, 'becoming musical from unmusical' and not '[becoming musical] from a man'.\n",
    "\n",
    "However, we sometimes speak in this way about things that do remain; for we say 'becomes a statue from bronze', not 'the bronze becomes a statue'.\n",
    "\n",
    "But from what is opposed and does not remain we do speak in both ways, and say both 'becomes this from that' and 'that becomes this'.\n",
    "\n",
    "For [we say both] 'becomes musical from unmusical' and 'the unmusical becomes musical'.\n",
    "\n",
    "And hence it is also the same with the compound; for we say 'becomes musical from an unmusical man' as well as 'an unmusical man becomes musical'."
   ]
  },
  {
   "attachments": {},
   "cell_type": "markdown",
   "metadata": {},
   "source": [
    "[P]\n",
    "\n",
    "'Comes-to-be' [or 'becomes'] is said in many ways, and some things are said, not to come-to-be [simply], but to become something, while only substances are said to come-to-be simply (haplos).\n",
    "\n",
    "<p style=\"color: #6699CC; font-family: 'Courier New'; font-size: 18px;\">\n",
    "substance comes-to-be simply\n",
    "<br>\n",
    "other things come-to-be something\n",
    "</p>\n",
    "\n",
    "In the other cases it is obvious that there must be some underlying subject that becomes (for when [something] becomes of some quantity or quality or in some relation or somewhere, there is an underlying subject, since only a substance is not said of any underlying subject, but other things are all said of substances)."
   ]
  },
  {
   "attachments": {},
   "cell_type": "markdown",
   "metadata": {},
   "source": [
    "[P]\n",
    "\n",
    "But that substances, i.e., the things that simply _are_, come-to-be from some underlying subject, will appear on examination.\n",
    "\n",
    "For we find in every case some underlying thing from which that which becomes proceeds; for example, animals and plants from seed.\n",
    "\n",
    "When things come-to-be simply, they come-to-be in different ways: by change of shape, as a statue; by addition, as things which grow; by taking away, as Hermes from the stone; by putting together, as a house; by alteration, as things which alter in respect of their matter.\n",
    "\n",
    "It is obvious that all things that come-to-be in this way come-to-be from some underlying subject.\n",
    "\n",
    "<p style=\"color: #6699CC; font-family: 'Courier New'; font-size: 18px;\">\n",
    "SUBSTANCE COMES-TO-BE FROM AN UNDERLYING SUBJECT\n",
    "</p>"
   ]
  },
  {
   "attachments": {},
   "cell_type": "markdown",
   "metadata": {},
   "source": [
    "[P]\n",
    "\n",
    "Thus, it is clear from what has been said that whatever comes-to-be is always compound.\n",
    "\n",
    "There is, on the one hand, something which comes-to-be and, on the other, the thing which comes to be that--the latter in two senses, either the underlying subject or the opposite.\n",
    "\n",
    "By the opposite I mean the unmusical, by the underlying subject, the man; and similarly I call the absence of shape or form or arrangement the opposite, and the bronze or stone or gold the underlying subject.\n",
    "\n",
    "<p style=\"color: #6699CC; font-family: 'Courier New'; font-size: 18px;\">\n",
    "that which comes-to-be is compound\n",
    "<br>\n",
    "that which is the result of coming-to-be (terminus ad quem): the underlying subject and the opposite\n",
    "</p>"
   ]
  },
  {
   "attachments": {},
   "cell_type": "markdown",
   "metadata": {},
   "source": [
    "[P]\n",
    "\n",
    "It is evident, then, that if natural things have causes and starting-points from which they primarily are and have come-to-be in a non-coincidental way, but each thing [has come-to-be] what it is called in accordance with its essence (ousia), then everything comes-to-be from an underlying subject and a form.\n",
    "\n",
    "For a musical man is in a way compounded out of man and musical--he will be analyzed into the accounts of those two.\n",
    "\n",
    "Thus it is clear that things that come-to-be would come-to-be from them.\n",
    "\n",
    "But the underlying subject, although one in number, is two in form.\n",
    "\n",
    "On the one hand, there is the man, and the gold, and in general the countable matter--which is more of a _this something_, and what comes-to-be from it comes-to-be not coincidentally.\n",
    "\n",
    "On the other hand, the privation or contrariety is a coincident.\n",
    "\n",
    "As for the form, it is one--for example, an arrangement, or musicality, or anything else that is predicated in that way.\n",
    "\n",
    "<p style=\"color: #6699CC; font-family: 'Courier New'; font-size: 18px;\">\n",
    "everything comes-to-be from an underlying subject and a form\n",
    "<br>\n",
    "\n",
    "</p>"
   ]
  },
  {
   "attachments": {},
   "cell_type": "markdown",
   "metadata": {},
   "source": [
    "[P]\n",
    "\n",
    "And this is why, from one perspective it should be said that there are two starting-points, and from another, that there are three--on the one hand, that they are the contraries, for example musical and unmusical, or hot and cold, or in tune and out of tune; on the other hand, that they are not [merely two], since contraries cannot be acted on by one another.\n",
    "\n",
    "But this, too, is solved by the fact that the underlying subject is another thing, since it is not a contrary.\n",
    "\n",
    "Therefore, in a way the starting-points are not more numerous than the contraries, but are, one might say, two in number; but since a different being belongs to them, they are not two in every way, but three.\n",
    "\n",
    "For being a man is different from being unmusical, and being shapeless from being bronze."
   ]
  },
  {
   "attachments": {},
   "cell_type": "markdown",
   "metadata": {},
   "source": [
    "[P]\n",
    "\n",
    "We have now said how many starting-points there are for the coming-to-be of natural things, and in what ways there are that many.\n",
    "\n",
    "And it is clear that there are two contraries and that something must be their underlying subject.\n",
    "\n",
    "But in another way this is not necessary.\n",
    "\n",
    "For one or the other of the contraries would, by its presence or absence, be sufficient to bring about a change."
   ]
  },
  {
   "attachments": {},
   "cell_type": "markdown",
   "metadata": {},
   "source": [
    "[P]\n",
    "\n",
    "The nature that is an underlying subject can be known by analogy.\n",
    "\n",
    "For as the bronze is in relation to the statue, the wood in relation to the bed, or the matter and the formless before receiving form in relation to any of the things that have form, so is this underlying nature in relation to a substance, i.e., a 'this something' or a being."
   ]
  },
  {
   "attachments": {},
   "cell_type": "markdown",
   "metadata": {},
   "source": [
    "[P]\n",
    "\n",
    "This starting-point is therefore one, although it is not one, or a being, in the way that a _this something_ is.\n",
    "\n",
    "Another [starting-point that is] one is what is given in an account, and also its contrary, the privation.\n",
    "\n",
    "In what way these things are two, and in what way more than two, we have stated above.\n",
    "\n",
    "The first theory was that only contraries were the starting-points; later, we said that something else had to be their underlying subject, and that there are three starting-points.\n",
    "\n",
    "And from what we have now said it is apparent what the difference between the contraries is, how they are related to one another, and what the underlying subject is.\n",
    "\n",
    "But whether the form or the underlying subject is substance is not at all clear.\n",
    "\n",
    "What is clear is that the starting-points are three, and how they are three, and what they are like.\n",
    "\n",
    "With this, then, we conclude our discussion of what the starting-points are, and how many there are."
   ]
  },
  {
   "attachments": {},
   "cell_type": "markdown",
   "metadata": {},
   "source": [
    "#### I.8"
   ]
  },
  {
   "attachments": {},
   "cell_type": "markdown",
   "metadata": {},
   "source": [
    "[P]\n",
    "\n",
    "The next thing we will do is to show that this is the only way to resolve the puzzle of the early theorists.\n",
    "\n",
    "For those who were the first to seek the truth and discover the nature of things philosophically went off the track, as it were, diverted by their own inexperience.\n",
    "\n",
    "They say that nothing at all either comes-to-be or ceases-to-be, because what comes-to-be would have to come-to-be either from what is or from what is not, and both of these are impossible.\n",
    "\n",
    "For what is does not come-to-be (since it already is), and nothing comes-to-be from nothing--there has got to be an underlying subject.\n",
    "\n",
    "This conclusion then kept getting inflated to the point where they say that there are not many things, but just being itself."
   ]
  },
  {
   "attachments": {},
   "cell_type": "markdown",
   "metadata": {},
   "source": [
    "[P]\n",
    "\n",
    "They accepted this doctrine for the reasons we have given.\n",
    "\n",
    "But we, on the other hand, say that for something to come-to-be from what is or from what is not, or for what is or what is not either to do something or have something done to it, or for something to come-to-be anything whatsoever, in a way is no different than for a doctor to do something or have something done to him, or to come-to-be something from this being a doctor.\n",
    "\n",
    "Therefore since this ['from being a doctor'] is said in two ways, it is clear that so, too, is 'from what is' and 'what is does something' or 'has something done to it'."
   ]
  },
  {
   "attachments": {},
   "cell_type": "markdown",
   "metadata": {},
   "source": [
    "[P]\n",
    "\n",
    "Now a doctor builds a house not qua doctor, but qua housebuilder, and becomes pale not qua doctor but qua dark.\n",
    "\n",
    "But he doctors or becomes a failure at doctoring qua doctor.\n",
    "\n",
    "Since we say that strictly speaking a doctor most of all does something or has something done to him or becomes something from [being] a doctor only if it is qua doctor that he does it or has it done to him or becomes this, it is clear that 'coming-to-be from what is not' also means qua what is not."
   ]
  },
  {
   "attachments": {},
   "cell_type": "markdown",
   "metadata": {},
   "source": [
    "[P]\n",
    "\n",
    "Having missed this distinction, the early theorists gave up, and because of their ignorance made the further mistake of thinking that nothing else either is or comes-to-be [other than what already is]; instead, they abolished coming-to-be altogether.\n",
    "\n",
    "Although we agree with them that nothing comes-to-be simply from what is not, we still think that in a way there is coming-to-be from what is not, for example, coincidentally.\n",
    "\n",
    "For a thing comes-to-be from a privation, which is intrinsically not [what it will become], and does not belong [to what eventually comes-to-be].\n",
    "\n",
    "But this is a source of wonder, and it seems impossible that anything comes-to-be in this way from what is not."
   ]
  },
  {
   "attachments": {},
   "cell_type": "markdown",
   "metadata": {},
   "source": [
    "[P]\n",
    "\n",
    "Similarly, neither does what is come-to-be from what is, except coincidentally.\n",
    "\n",
    "But in a way this, too, happens, just as an animal might come-to-be from an animal, or an animal of a particular [kind] from an animal of a particular [kind].\n",
    "\n",
    "For example, suppose a dog should come-to-be from a horse; the dog would come-to-be not only from a particular [kind of] animal, but from an animal--although not qua animal; since it was already that [before the becoming].\n",
    "\n",
    "But if a particular [kind of animal] is going to come-to-be non-coincidentally, it will not be from an animal, and if a particular [kind of] thing that is [is going to come-to-be], it will not be from what is, nor from what is not.\n",
    "\n",
    "For we have already explained what 'from what is not' means, namely, qua what is not.\n",
    "\n",
    "Furthermore, we have not violated [the principle] that everything either is or is not."
   ]
  },
  {
   "attachments": {},
   "cell_type": "markdown",
   "metadata": {},
   "source": [
    "[P]\n",
    "\n",
    "This is one way [to solve the puzzle]; another is [to point out] that the same things can be spoken of in terms of potentiality and actuality--but we have drawn this distinction with more precision elsewhere.\n",
    "\n",
    "Therefore, as we said, we have solved the puzzles that compel people to deny some of the claims we have made; for this is why our predecessors strayed from the path that would have led them to coming-to-be and ceasing-to-be and change in general.\n",
    "\n",
    "If they had gotten sight of this nature, that would have dispelled all their ignorance."
   ]
  },
  {
   "attachments": {},
   "cell_type": "markdown",
   "metadata": {},
   "source": [
    "#### I.9"
   ]
  },
  {
   "attachments": {},
   "cell_type": "markdown",
   "metadata": {},
   "source": [
    "[P]\n",
    "\n",
    "There are, to be sure, others who have touched on this nature, although not adequately.\n",
    "\n",
    "For at first they agree that a thing simply comes-to-be from what is not, and hold that to that extent Parmenides was right.\n",
    "\n",
    "Then it seems to them that if something is one in number, there is also only one thing that it is in potentiality.\n",
    "\n",
    "But that is a very different thing."
   ]
  },
  {
   "attachments": {},
   "cell_type": "markdown",
   "metadata": {},
   "source": [
    "[P]\n",
    "\n",
    "For we say that matter and privation are different, and that one of them--matter--is coincidentally what is not, while the privation is intrinsically what is not, and that while matter is very nearly (and in a way, _is_) substance, the privation is not substance in any way.\n",
    "\n",
    "But they, on the other hand, think that the great and the small alike, either both together or each separately, are what is not.\n",
    "\n",
    "So their kind of triad is completely different from ours.\n",
    "\n",
    "They reached the point of seeing that some nature must be the underlying subject, yet they make it one--even if one of them makes it a dyad, calling it the great and the small, nonetheless the effect is the same, since he overlooked the other [nature].\n",
    "\n",
    "For along with the form, the thing that persists is a contributing cause of what comes-to-be--a mother, you might say.\n",
    "\n",
    "But the other part of the contrariety often seems, to one who concentrates on its aspect as an agent of evil, not to exist at all.\n",
    "\n",
    "For when something is divine, good, and desirable, we say that there is not only something that is its contrary, but also a third thing which naturally desires and strives for the first in accordance with its own nature.\n",
    "\n",
    "But it is a consequence of their view that the contrary strives for its own extinction (phthora).\n",
    "\n",
    "And yet it is not possible for the form to desire itself, since it does not lack [itself]; nor can the contrary [desire the form], since contraries are destructive of one another.\n",
    "\n",
    "Rather, it is the matter that [desires the form], just as if the female [desires to be] male or the ugly [to be] beautiful--except that [the matter] is coincidentally, but not intrinsically, ugly or female."
   ]
  },
  {
   "attachments": {},
   "cell_type": "markdown",
   "metadata": {},
   "source": [
    "[P]\n",
    "\n",
    "In one way [the matter] comes-to-be and ceases-to-be, but in another way it does not. As that which contains [the privation], it does cease-to-be intrinsically (since the thing that ceases-to-be, the privation, is in it), but as that which is potentially [the formed thing], it does not [cease-to-be] intrinsically, but is necessarily incapable of ceasing-to-be or coming-to-be.\n",
    "\n",
    "For if it did come-to-be, it would have had to come from something primary that was already in existence as its underlying subject.\n",
    "\n",
    "But that is its own nature, and so [if it came-to-be] it would [already] be prior to coming-to-be.\n",
    "\n",
    "For my definition of matter is just this--the primary subject underlying each thing, from which it comes to be, and which persists non-coincidentally in the result.\n",
    "\n",
    "And if it ceased-to-be, it would come to an end in that [i.e., matter], and therefore will have ceased-to-be before it ceases-to-be."
   ]
  },
  {
   "attachments": {},
   "cell_type": "markdown",
   "metadata": {},
   "source": [
    "[P]\n",
    "\n",
    "As for the starting-point with respect to form, whether it is one or many and what sort (or sorts) of thing it is, a detailed examination is a task for first philosophy, and so we will reserve that for a later occasion.\n",
    "\n",
    "But concerning natural forms that are capable of ceasing-to-be, we will discuss those later in our exposition.\n",
    "\n",
    "But that there are starting-points, and what they are like, and how many there are, we have established.\n",
    "\n",
    "Let us now continue by making a fresh start."
   ]
  },
  {
   "attachments": {},
   "cell_type": "markdown",
   "metadata": {},
   "source": [
    "### Book II"
   ]
  },
  {
   "attachments": {},
   "cell_type": "markdown",
   "metadata": {},
   "source": [
    "#### II.3"
   ]
  },
  {
   "attachments": {},
   "cell_type": "markdown",
   "metadata": {},
   "source": [
    "[P]\n",
    "\n",
    "<p style=\"color: #6699CC; font-family: 'Courier New'; font-size: 18px;\">\n",
    "CAUSE\n",
    "</p>\n",
    "\n",
    "Now that we have drawn these distinctions, we must look into how many and what sorts of causes there are.\n",
    "\n",
    "Since the aim of our enterprise is knowledge, and we do not think we know a thing until we have grasped the why of it (which is to grasp its primary cause), it is clear that we too must do this with respect to coming-to-be and ceasing-to-be and every [kind of] natural change, in order that by having knowledge of their starting-points we might try to bring under them each of the things we are seeking.\n",
    "\n",
    "<p style=\"color: #6699CC; font-family: 'Courier New'; font-size: 18px;\">\n",
    "to know a thing is to grasp its primary cause\n",
    "<br>\n",
    "What is the primary cause of change or coming-to-be?\n",
    "</p>"
   ]
  },
  {
   "attachments": {},
   "cell_type": "markdown",
   "metadata": {},
   "source": [
    "[P]\n",
    "\n",
    "<p style=\"color: #6699CC; font-family: 'Courier New'; font-size: 18px;\">\n",
    "MATERIAL CAUSE, that-out-of-which\n",
    "</p>\n",
    "\n",
    "(1) In one way that out of which a thing comes-to-be and which persists is said to be a cause, for example, the bronze is a cause of a statue, the silver is a cause of a bowl, and the genera of these [is also a cause]."
   ]
  },
  {
   "attachments": {},
   "cell_type": "markdown",
   "metadata": {},
   "source": [
    "[P]\n",
    "\n",
    "<p style=\"color: #6699CC; font-family: 'Courier New'; font-size: 18px;\">\n",
    "FORMAL CAUSE, the whole and its parts\n",
    "</p>\n",
    "\n",
    "(2) In another way, it is the form or paradigm, and this is the formula of the essence, and its genera (for example, the ratio 2:1, and in general number, [is a cause] of the octave), and the parts that are in the formula."
   ]
  },
  {
   "attachments": {},
   "cell_type": "markdown",
   "metadata": {},
   "source": [
    "[P]\n",
    "\n",
    "<p style=\"color: #6699CC; font-family: 'Courier New'; font-size: 18px;\">\n",
    "ORIGIN OF MOTION (EFFICIENT CAUSE), that-from-which\n",
    "</p>\n",
    "\n",
    "(3) Next, the primary starting-point from which change or rest originates [is said to be a cause]; for example, someone who has given advice is a cause, the father is [a cause] of a child, and in general what does [is a cause] of what is done and what alters something [is a cause] of what is altered."
   ]
  },
  {
   "attachments": {},
   "cell_type": "markdown",
   "metadata": {},
   "source": [
    "[P]\n",
    "\n",
    "<p style=\"color: #6699CC; font-family: 'Courier New'; font-size: 18px;\">\n",
    "FINAL CAUSE, that-for-the-sake-of-which\n",
    "</p>\n",
    "\n",
    "(4) Finally, [something may be called a cause] in the sense of an end, namely, what something is for; for example, health [is a cause] of walking.\n",
    "\n",
    "(As evidence, [when we ask] 'Why is he walking?' we say: 'To be healthy', and in so saying we think that we have given the cause.)\n",
    "\n",
    "Likewise for anything that is intermediate between the initiation of the movement and the end--for example, slimming, purging, drugs, or [medical] instruments.\n",
    "\n",
    "All these things are for some end, although they differ from one another in that some are activities while others are instruments."
   ]
  },
  {
   "attachments": {},
   "cell_type": "markdown",
   "metadata": {},
   "source": [
    "[P]\n",
    "\n",
    "That is about how many ways there are in which we speak of causes.\n",
    "\n",
    "And since causes are spoken of in many ways, it follows that there are in fact several causes of the same thing, and not merely coincidentally.\n",
    "\n",
    "For example, both the art of scultping and the bronze are causes of a statue, not with respect to anything else [that the statue may be] but qua statue.\n",
    "\n",
    "But [they are] not [causes] in the same way.\n",
    "\n",
    "Rather, one [is a cause] in the sense of matter, the other in the sense of [the starting-point] from which the movement [originates]."
   ]
  },
  {
   "attachments": {},
   "cell_type": "markdown",
   "metadata": {},
   "source": [
    "[P]\n",
    "\n",
    "..."
   ]
  },
  {
   "attachments": {},
   "cell_type": "markdown",
   "metadata": {},
   "source": [
    "#### II.7"
   ]
  },
  {
   "attachments": {},
   "cell_type": "markdown",
   "metadata": {},
   "source": [
    "[P]\n",
    "\n",
    "It is clear that there are causes, and there are as many as we say there are; for that is the number of things that are included under [the heading of] the reason why.\n",
    "\n",
    "For the reason why ultimately comes either to the what-it-is, in the case of unmoved things (for example, in mathematics, where it comes ultimately to the definition of straight or commensurate or something else); or to what first initiated the movement (for example, why did they go to war?--becuase they were raided), or to what something is for (for example, so that they might rule); or, in the case of things that come-to-be, to the matter.\n",
    "\n",
    "<p style=\"color: #6699CC; font-family: 'Courier New'; font-size: 18px;\">\n",
    "formal, what-it-is (unmoved things)\n",
    "<br>\n",
    "origin of motion, that-from-which\n",
    "<br>\n",
    "final, that-for-the-sake-of-which\n",
    "<br>\n",
    "material, that-out-of-which (things that come-to-be)\n",
    "</p>"
   ]
  },
  {
   "attachments": {},
   "cell_type": "markdown",
   "metadata": {},
   "source": [
    "[P]\n",
    "\n",
    "It is evident, then, that these are the causes and that this is their number.\n",
    "\n",
    "Since there are four causes, the student of nature should know about all of them; and when he gives the reason why in the study of nature, he should refer to all the causes--the matter, the form, what initiated the movement, and what something is for.\n",
    "\n",
    "The last three often amount to one; for what-it-is and what it is _for_ are one, and what first initiates the movement is the same in species as these--for a human being generates a human being.\n",
    "\n",
    "And the same is true generally when the things that initiate movement are themselves movable."
   ]
  },
  {
   "attachments": {},
   "cell_type": "markdown",
   "metadata": {},
   "source": [
    "[P]\n",
    "\n",
    "Things that initiate movement but are not themselves movable are outside the scope of the study of nature.\n",
    "\n",
    "For they initiate movement without having within themselves either movement or the starting-point of movement; rather, they are unmoved.\n",
    "\n",
    "That is why there are three inquiries: one about what is unmoved, one about what is movable but eternal (aphtharton), and one about what can cease-to-be."
   ]
  },
  {
   "attachments": {},
   "cell_type": "markdown",
   "metadata": {},
   "source": [
    "[P]\n",
    "\n",
    "Thus the reason why is given by referring to the matter, and to the what-it-is, and to what first initiated the movement.\n",
    "\n",
    "Especially in the case of coming-to-be people look at causes in this way--what comes after what? and what first acted or was acted on?--always one thing after another."
   ]
  },
  {
   "attachments": {},
   "cell_type": "markdown",
   "metadata": {},
   "source": [
    "[P]\n",
    "\n",
    "There are two kinds of starting-points that initiate movement naturally.\n",
    "\n",
    "One of these is not itself natural, since it does not have a starting-point of movement within itself.\n",
    "\n",
    "A thing is of this kind if it initiates movement without itself being moved--for instance, what is entirely unmoved (i.e., the first of all [the things that initiate movement]) and also the what-it-is (i.e., the form), since this is the end and what something is for.\n",
    "\n",
    "Therefore, since nature is _for_ something, this [starting-point], too, must be known."
   ]
  },
  {
   "attachments": {},
   "cell_type": "markdown",
   "metadata": {},
   "source": [
    "[P]\n",
    "\n",
    "The reason why should be given in all these ways.\n",
    "\n",
    "For example, (1) that this necessarily comes from that (_from that_ either without exception or for the most part); (2) if this is going to be [it is from that] (as the conclusion from the premises); (3) that this is the essence; and (4) because it is better thus--not simply better, but better in relation to the substance of a given thing."
   ]
  },
  {
   "attachments": {},
   "cell_type": "markdown",
   "metadata": {},
   "source": [
    "#### II.8"
   ]
  },
  {
   "attachments": {},
   "cell_type": "markdown",
   "metadata": {},
   "source": [
    "[P]\n",
    "\n",
    "The first thing that must be accounted for is why nature is among the causes that are _for_ something, and then how things stand with respect to necessity in the case of natural things.\n",
    "\n",
    "For everyone brings things back to this cause, saying that since the hot is of such-and-such a nature, and so is the cold, and each one of the elements, certain other things are and come-to-be of necessity.\n",
    "\n",
    "For even if they mention any cause other than necessity, as one thinker does with love and strife, and another with mind, they just touch on it, and then kiss it goodbye.\n",
    "\n",
    "<p style=\"color: #6699CC; font-family: 'Courier New'; font-size: 18px;\">\n",
    "Why is nature a final cause, that-for-the-sake-of-which?\n",
    "<br>\n",
    "What does necessity have to do with it?\n",
    "<br>\n",
    "From a given nature, a thing necessarily is or comes-to-be.\n",
    "</p>"
   ]
  },
  {
   "attachments": {},
   "cell_type": "markdown",
   "metadata": {},
   "source": [
    "[P]\n",
    "\n",
    "A puzzle now arises: what keeps us from supposing that nature acts not _for_ something or because it is better, but of necessity, in the way that Zeus makes it rain--not in order to make the grain grow.\n",
    "\n",
    "For what has been drawn up must be cooled, and what has been cooled and turned into water must come down; it just so happens that when this occurs, the grain grows.\n",
    "\n",
    "Similarly, if the grain is spoiled on the threshing floor, it does not rain so that the grain will be spoiled; that is coincidental."
   ]
  },
  {
   "attachments": {},
   "cell_type": "markdown",
   "metadata": {},
   "source": [
    "[P]\n",
    "\n",
    "So why shouldn't we suppose that this is the way it is with the parts of natural organisms?\n",
    "\n",
    "For example, that the teeth grow as they do by necessity--the front ones sharp and well suited for biting, the back ones broad and useful for chewing food--not coming to be _for_ this, but coincidentally?\n",
    "\n",
    "And similarly for all the other parts that seem to be _for_ something.\n",
    "\n",
    "So whenever all the parts happened to come together just as if they had been _for_ something, those [animals] survived, since their constitution was, by chance, suitable [for survival].\n",
    "\n",
    "The ones that were not so constituted, on the other hand, were destroyed and are still being destroyed, as Empedocles says of the man-headed calves."
   ]
  },
  {
   "attachments": {},
   "cell_type": "markdown",
   "metadata": {},
   "source": [
    "[P]\n",
    "\n",
    "Now one might well be perpelexed by this argument, or another one of the same sort.\n",
    "\n",
    "But in fact it is impossible for things to happen in this way.\n",
    "\n",
    "For these [teeth and other parts] and all natural things come-to-be as they do either always or for the most part, whereas nothing that happens by luck or chance [comes-to-be in this way].\n",
    "\n",
    "(For it does not strike us as a matter of luck or coincidence when it rains frequently in the winter, but only in the summer; nor does a summer heat wave [so strike us], whereas one in the winter does.)\n",
    "\n",
    "So if these things seem to be either a result of coincidence or _for_ something, and they cannot be the result of coincidence or chance, then they are _for_ something.\n",
    "\n",
    "Surely all such things are natural, as even those who give these arguments would admit.\n",
    "\n",
    "Therefore, the _for something_ is found among things that come-to-be and are by nature."
   ]
  },
  {
   "attachments": {},
   "cell_type": "markdown",
   "metadata": {},
   "source": [
    "[P]\n",
    "\n",
    "Further, whenever there is an end, the successive steps that precede it are done for the sake of that end.\n",
    "\n",
    "Surely, then, as actions are done, so, too, do things occur in nature, and as things occur in nature, so, too, is each action done, unless something impedes it.\n",
    "\n",
    "But actions are done for the sake of something; therefore, things occur in nature, too, for the sake of something.\n",
    "\n",
    "For example, if a house were something that came to be naturally, it would come-to-be just as it actually does as a result of art, and if natural things came to be not only naturally but also through art, they would come-to-be just as they do in nature.\n",
    "\n",
    "One thing, then, is for the sake of the other.\n",
    "\n",
    "In general, art either completes the work that nature is unable to complete or imitates nature.\n",
    "\n",
    "If, then, the products of art are for something, clearly the products of nature are also for something; for later stages are related to earlier ones in the same way in the case of products of art as they are in the case of products of nature."
   ]
  },
  {
   "attachments": {},
   "cell_type": "markdown",
   "metadata": {},
   "source": [
    "[P]\n",
    "\n",
    "This is most evident in the case of the other animals, since they use neither art nor inquiry nor deliberation in producing things--indeed this is why some people are puzzled about whether spiders, ants, and other such things operate by intelligence or in some other way.\n",
    "\n",
    "To one who advances little by little along the same lines, it is evident that even in plants things come-to-be that promote the end--leaves, for instance, grow for the protection of the fruit.\n",
    "\n",
    "Therefore if it is both by nature and for some end that a swallow makes its nest and a spider makes its web, and if plants grow leaves for the sake of the fruit, and send roots down rather than up for the sake of nourishment, it is evident that this sort of cause exists among things that come-to-be and are by nature.\n",
    "\n",
    "And since nature is of two sorts, on the one hand as matter and on the other as form, and the form is the end, and since everything else is for the end, the [final] cause that things are for must be the form.\n",
    "\n",
    "<p style=\"color: #6699CC; font-family: 'Courier New'; font-size: 18px;\">\n",
    "nature is of matter and of form\n",
    "<br>\n",
    "form is the final cause of natural things\n",
    "</p>"
   ]
  },
  {
   "attachments": {},
   "cell_type": "markdown",
   "metadata": {},
   "source": [
    "[P]\n",
    "\n",
    "Now errors occur even in products of art.\n",
    "\n",
    "Grammarians, for example, have written things incorrectly, and doctors have given the wrong medicine.\n",
    "\n",
    "So errors are clearly possible in the products of nature, too.\n",
    "\n",
    "<p style=\"color: #6699CC; font-family: 'Courier New'; font-size: 18px;\">\n",
    "the possibility of error in nature and in art\n",
    "</p>"
   ]
  },
  {
   "attachments": {},
   "cell_type": "markdown",
   "metadata": {},
   "source": [
    "[P]\n",
    "\n",
    "If in some cases involving the products of art what is done correctly is _for_ something, and in cases of error an attempt is made for something but misses the mark, the same will also hold of natural products, and freaks will be errors that fail to achieve what they are for.\n",
    "\n",
    "Hence in the original constitution of things, the [man-headed] calves, if they were unable to reach a certain limit and end, would also have been brought into being by a defective starting-point--just as, in the actual state of things, [freaks are brought into being] by a [defective] seed.\n",
    "\n",
    "Further, the seed must come into being first, and not the animal straightaway; in fact the 'whole-natured first' was seed."
   ]
  },
  {
   "attachments": {},
   "cell_type": "markdown",
   "metadata": {},
   "source": [
    "[P]\n",
    "\n",
    "Further, in plants as well as in animals things happen for something, though in a less articulate way.\n",
    "\n",
    "Then does it also happen with plants that, for example, olive-headed vines keep coming into being, as he says [man-headed] calves did, or not?\n",
    "\n",
    "That is absurd--but surely it would have happened that way, if it did with animals."
   ]
  },
  {
   "attachments": {},
   "cell_type": "markdown",
   "metadata": {},
   "source": [
    "[P]\n",
    "\n",
    "Further, [on Empedocles' view] seeds, too, would have had to come-to-be as a matter of chance.\n",
    "\n",
    "But whoever says this does away entirely with nature and natural things.\n",
    "\n",
    "For things are natural when, having been moved continuously by some starting-point within themselves, they arrive at some end.\n",
    "\n",
    "From each starting-point comes, neither the same thing in each case, nor just any chance thing, but in every case it proceeds toward the same [end, and achieves it], if nothing impedes."
   ]
  },
  {
   "attachments": {},
   "cell_type": "markdown",
   "metadata": {},
   "source": [
    "[P]\n",
    "\n",
    "Now certainly both the end that a thing is for and the thing that is for this end might also result from luck.\n",
    "\n",
    "For example, we say that a friend came by luck, paid the ransom, and then went away, when he did the action as though he had come in order to do it, although it was not on that account that he came.\n",
    "\n",
    "This end is achieved coincidentally, since luck is one of the coincidental causes, as we said before.\n",
    "\n",
    "But whenever the end results always or for the most part, it is neither coincidental nor a result of luck.\n",
    "\n",
    "In the case of natural things it is always like that, unless something impedes."
   ]
  },
  {
   "attachments": {},
   "cell_type": "markdown",
   "metadata": {},
   "source": [
    "[P]\n",
    "\n",
    "Anyway, it is crazy to think an occurrence is not for the sake of something unless you see the initiator of the movement deliberating.\n",
    "\n",
    "Even art does not deliberate.\n",
    "\n",
    "Moreover, if the shipbuilding art were in the wood, it would still produce a ship in the same way, although by nature.\n",
    "\n",
    "And so if what something is _for_ is present in art, it is also present in nature.\n",
    "\n",
    "This is clearest when a doctor applies medical treatment to himself--nature is like that."
   ]
  },
  {
   "attachments": {},
   "cell_type": "markdown",
   "metadata": {},
   "source": [
    "[P]\n",
    "\n",
    "It is evident, then, that nature is a cause, indeed a cause in the sense of being _for_ something."
   ]
  },
  {
   "attachments": {},
   "cell_type": "markdown",
   "metadata": {},
   "source": [
    "#### II.9"
   ]
  },
  {
   "attachments": {},
   "cell_type": "markdown",
   "metadata": {},
   "source": [
    "### Book III"
   ]
  },
  {
   "attachments": {},
   "cell_type": "markdown",
   "metadata": {},
   "source": [
    "#### III.1"
   ]
  },
  {
   "attachments": {},
   "cell_type": "markdown",
   "metadata": {},
   "source": [
    "[P]\n",
    "\n",
    "Since nature is a starting-point of movement and change, and our inquiry concerns nature, we must not fail to consider the question of what movement is.\n",
    "\n",
    "For if we don't understand that, we can't possibly understand nature, either.\n",
    "\n",
    "Once we have defined movement, we will have to turn to the topics that come next in order and try to do the same thing there.\n",
    "\n",
    "<p style=\"color: #6699CC; font-family: 'Courier New'; font-size: 18px;\">\n",
    "What is movement?\n",
    "</p>"
   ]
  },
  {
   "attachments": {},
   "cell_type": "markdown",
   "metadata": {},
   "source": [
    "[P]\n",
    "\n",
    "Now movement seems to be one of the things that are continuous, and it is in the continuous that the infinite makes its first appearance.\n",
    "\n",
    "<p style=\"color: #6699CC; font-family: 'Courier New'; font-size: 18px;\">\n",
    "movement is a thing that is continuous\n",
    "<br>\n",
    "the infinite is in the continuous\n",
    "</p>\n",
    "\n",
    "That is why those who define the continuous often end up making use of the infinite in their accounts, in that what is continuous is infinitely divisible.\n",
    "\n",
    "<p style=\"color: #6699CC; font-family: 'Courier New'; font-size: 18px;\">\n",
    "the continuous is infinitely divisible\n",
    "</p>\n",
    "\n",
    "In addition to this, [they say], movement would be impossible without place, void, and time."
   ]
  },
  {
   "attachments": {},
   "cell_type": "markdown",
   "metadata": {},
   "source": [
    "[P]\n",
    "\n",
    "It is clear, then, for these reasons and because these [features] are universal and common to all things, that in our investigation we should look into each of them, since theoretical knowledge of general topics precedes that of special ones.\n",
    "\n",
    "And first, as we said, should be the topic of movement."
   ]
  },
  {
   "attachments": {},
   "cell_type": "markdown",
   "metadata": {},
   "source": [
    "[P]\n",
    "\n",
    "Some things are only in actuality, others both in potentiality and in actuality--such a thing is either a _this something_, or a quantity, or a quality, or any of the other categories of being.\n",
    "\n",
    "Relatives, on the other hand, are spoken of either with respect to excess and deficiency or with respect to acting and being acted on, and in general as capable of initiating movement and of being moved.\n",
    "\n",
    "For a mover moves what is moved, and what is moved is moved by a mover."
   ]
  },
  {
   "attachments": {},
   "cell_type": "markdown",
   "metadata": {},
   "source": [
    "[P]\n",
    "\n",
    "There is no movement over and above the things [that are moved].\n",
    "\n",
    "For what undergoes change always changes either in substance, or in quantity, or in quality, or in place, and it is our contention that there is nothing that applies in common to all of these, i.e., nothing that is neither a this nor a quantity nor a quality nor a predicate in any of the other categories.\n",
    "\n",
    "Therefore there will be neither movement nor change of anything over and above the things we have mentioned, since, of course, there _is_ nothing over and above the things we have mentioned."
   ]
  },
  {
   "attachments": {},
   "cell_type": "markdown",
   "metadata": {},
   "source": [
    "[P]\n",
    "\n",
    "There are two ways in which each of these belongs to anything: in the case of a this, one is its form, the other its privation; in the case of a quality, such things as pale and dark; in the case of quantity, complete and incomplete.\n",
    "\n",
    "Similarly, too, in the case of spatial movement, upwards and downwards, or [in other words] light and heavy.\n",
    "\n",
    "Therefore there are as many kinds of movement and change as there are of being."
   ]
  },
  {
   "attachments": {},
   "cell_type": "markdown",
   "metadata": {},
   "source": [
    "[P]\n",
    "\n",
    "With respect to each kind of thing we distinguish between those that are potentially and those that are actually.\n",
    "\n",
    "Movement is the actuality of that which potentially is, qua potentially.\n",
    "\n",
    "For example, alteration is the actuality of the alterable, qua alterable; growth or (its opposite) decay (for there is no name that applies to both in common) is the actuality of what is capable of growing or decaying, [qua such]; coming-to-be or ceasing-to-be [is the actuality] of what is generable or perishable [qua such]; and spatial movement [is the actuality] of what is capable of being moved locally [qua such]."
   ]
  },
  {
   "attachments": {},
   "cell_type": "markdown",
   "metadata": {},
   "source": [
    "[P]\n",
    "\n",
    "The following considerations make it clear that this is what movement is.\n",
    "\n",
    "Whenever what is buildable, insofar as we speak of it as such, actually exists, it is being built, and this is what building is.\n",
    "\n",
    "It is the same with learning, doctoring, rolling, leaping, ripening, and aging."
   ]
  },
  {
   "attachments": {},
   "cell_type": "markdown",
   "metadata": {},
   "source": [
    "[P]\n",
    "\n",
    "In some cases the same thing is both in potentiality and in actuality--not at the same time or in the same respect, but, for example, actually hot but potentially cold.\n",
    "\n",
    "Hence it is also the case that many things will both act on and be acted on by one another.\n",
    "\n",
    "For they will all be capable at the same time of both acting and being acted on.\n",
    "\n",
    "Therefore what naturally initiates movement is also capable of being moved, for in initiating movement everything of this sort is also moved itself.\n",
    "\n",
    "So it seems to some people that everything that initiates movement is moved, but this is not really so, as will be made clear from other considerations--for there is an unmoved mover."
   ]
  },
  {
   "attachments": {},
   "cell_type": "markdown",
   "metadata": {},
   "source": [
    "[P]\n",
    "\n",
    "But movement is the actuality of that which potentially is, the whole time it is actually being realized, not qua itself but qua movable.\n",
    "\n",
    "By 'qua' I mean this: bronze is potentially a statue, but nevertheless the actuality of the bronze, qua bronze, is not movement.\n",
    "\n",
    "For being bronze is not the same as being something potentially, since if they were simply the same, i.e., in definition (logos), movement would be the actuality of the bronze qua bronze.\n",
    "\n",
    "But they are not the same, as we have said.\n",
    "\n",
    "(This is clear in the case of contraries: for being potentially healthy is different from being potentially ill.\n",
    "\n",
    "If they were the same, then being ill and being healthy would be the same; rather, what is one and the same is the subject--whether it is moisture or blood--that is [at one time] healthy and [at another time] ill.)\n",
    "\n",
    "And since they are not the same, just as color and the visible are not the same, it is evident that movement is the actuality of what is potential qua potential."
   ]
  },
  {
   "attachments": {},
   "cell_type": "markdown",
   "metadata": {},
   "source": [
    "[P]\n",
    "\n",
    "It is clear, then, that this is what movement is, and that it occurs precisely when this actually exists, and not before or after it exists.\n",
    "\n",
    "For it is possible for something--for example, the buildable--to be actual at one time and not at another, and the actuality of the buildable, qua buildable, is housebuilding.\n",
    "\n",
    "For the actuality of the buildable is either housebuilding or a house.\n",
    "\n",
    "But when there is a house, the buildable no longer exists--rather the buildable is what is _being_ built.\n",
    "\n",
    "Therefore the actuality [of the buildable] must be the housebuilding.\n",
    "\n",
    "And housebuilding is a kind of movement.\n",
    "\n",
    "But now the same account will apply to other kinds of movement as well."
   ]
  },
  {
   "attachments": {},
   "cell_type": "markdown",
   "metadata": {},
   "source": [
    "---"
   ]
  },
  {
   "attachments": {},
   "cell_type": "markdown",
   "metadata": {},
   "source": [
    "## Close Reading of τα μετα τα φυσικα [Metaphysics]\n",
    "Sachs, Joe. (2002). _Aristotle's Metaphysics_. Green Lion Press."
   ]
  },
  {
   "attachments": {},
   "cell_type": "markdown",
   "metadata": {},
   "source": [
    "### Sach's Overview"
   ]
  },
  {
   "attachments": {},
   "cell_type": "markdown",
   "metadata": {},
   "source": [
    "BOOK I\n",
    "\n",
    "All those who have sought wisdom have tried to uncover the ultimate causes of things.\n",
    "\n",
    "Most have produced materialist accounts, which necessarily show themselves to be inadequate, but all attempts to describe a source of motion or a cause for the sake of which things are as they are have been rudimentary and explain nothing either."
   ]
  },
  {
   "attachments": {},
   "cell_type": "markdown",
   "metadata": {},
   "source": [
    "BOOK II\n",
    "\n",
    "Any sequence of causes that succeeds in explaining anything cannot be infinite, but must lead to the primary instance of whatever it explains."
   ]
  },
  {
   "attachments": {},
   "cell_type": "markdown",
   "metadata": {},
   "source": [
    "BOOK III\n",
    "\n",
    "A successful account of the causes of things must resolve a number of impasses.\n",
    "\n",
    "Principally, if a cause is to be knowable it must be a universal, and therefore cannot act in the way particulars do or have being in the way perceptible things do.\n",
    "\n",
    "<p style=\"color: #6699CC; font-family: 'Courier New'; font-size: 18px;\">\n",
    "cause is universal\n",
    "<br>\n",
    "the being of cause is not the being of perceptible things\n",
    "</p>"
   ]
  },
  {
   "attachments": {},
   "cell_type": "markdown",
   "metadata": {},
   "source": [
    "BOOK IV\n",
    "\n",
    "If there is a single knowledge that encompasses all things it must incorporate a knowledge of the first principles of knowledge itself, and especially of the law of contradiction.\n",
    "\n",
    "But that law governs speech and thought because it first of all governs beings.\n",
    "\n",
    "To be at all is to be something, to have a determinate nature and belong to a kind.\n",
    "\n",
    "<p style=\"color: #6699CC; font-family: 'Courier New'; font-size: 18px;\">\n",
    "The law of contradiction governs beings: to be is to be something determinate\n",
    "</p>"
   ]
  },
  {
   "attachments": {},
   "cell_type": "markdown",
   "metadata": {},
   "source": [
    "BOOK V\n",
    "\n",
    "Causal structures are reflected in the arrays of meanings that belong to words.\n",
    "\n",
    "When ambiguities are laid out, the complexities of causal relations may be discovered rather than imposed from some theoretical pattern."
   ]
  },
  {
   "attachments": {},
   "cell_type": "markdown",
   "metadata": {},
   "source": [
    "BOOK VI\n",
    "\n",
    "Being is meant in more than one way, but insofar as it refers to truth in thinking, or to anything that something is incidentally, its meaning is derivative from and dependent upon a more primary sense.\n",
    "\n",
    "But being in its own right still belongs to things in a number of distinct ways, with which the study of being as being must begin."
   ]
  },
  {
   "attachments": {},
   "cell_type": "markdown",
   "metadata": {},
   "source": [
    "BOOK VII\n",
    "\n",
    "Among the ways being is meant it its own right, thinghood is primary, since the other seven ways all signify being some attribute of an independent thing.\n",
    "\n",
    "Since the thing underlies its attributes, thinghood seems to be material, but material underlies form in a different way.\n",
    "\n",
    "The thinghood of a thing is disclosed not by subtracting its attributes, but by looking to the form that determines its wholeness as a separate being, standing on its own.\n",
    "\n",
    "The form is what it is for the thing to be, what it keeps on being in order to be at all, and as such belongs only to living things and to the cosmos as a whole.\n",
    "\n",
    "The articulation in speech of what it is for something to be defines it only as a universal, incapable of being separate or acting as a cause.\n",
    "\n",
    "As the cause of thinghood, form must be understood as having being prior to and independent of perceptible things.\n",
    "\n",
    "Being as being has been narrowed down to thinghood and then to the being of forms.\n",
    "\n",
    "<p style=\"color: #6699CC; font-family: 'Courier New'; font-size: 18px;\">\n",
    "being as being, as thinghood\n",
    "<br>\n",
    "form is the cause of being as being, as thinghood\n",
    "<br>\n",
    "form is prior to the perceptible\n",
    "</p>"
   ]
  },
  {
   "attachments": {},
   "cell_type": "markdown",
   "metadata": {},
   "source": [
    "BOOK VIII\n",
    "\n",
    "Form is not an arrangement of parts but a being-at-work within material, and the unity in the form itself results from a being-at-work within it.\n",
    "\n",
    "Being as being is being-at-work.\n",
    "\n",
    "<p style=\"color: #6699CC; font-family: 'Courier New'; font-size: 18px;\">\n",
    "the unity of the form is the being-at-work within the material\n",
    "</p>"
   ]
  },
  {
   "attachments": {},
   "cell_type": "markdown",
   "metadata": {},
   "source": [
    "BOOK IX\n",
    "\n",
    "The potencies in things are not mere possibilities, passive and externally related to something at work upon them, but inherent strivings that emerge into being-at-work in response to a cause in which that same being-at-work is already present.\n",
    "\n",
    "The perpetual renewal of being-at-work in living things and in the cosmos depends upon an everlasting and indestructible being, always at work.\n",
    "\n",
    "As the source of identity for whatever is, this everlasting being-at-work is the good of all things, and contact with it by the act of contemplation is the primary meaning of truth.\n",
    "\n",
    "<p style=\"color: #6699CC; font-family: 'Courier New'; font-size: 18px;\">\n",
    "being-at-work in living things and in the cosmos depends upon an everlasting being always at work\n",
    "<br>\n",
    "the source of identity\n",
    "<br>\n",
    "the good of all things\n",
    "<br>\n",
    "the meaning of truth\n",
    "</p>"
   ]
  },
  {
   "attachments": {},
   "cell_type": "markdown",
   "metadata": {},
   "source": [
    "BOOK X\n",
    "\n",
    "Wholeness in its most complete form belongs to that of which the thinking is one, and hence the cause of such wholeness rests ultimately upon an act of thinking.\n",
    "\n",
    "<p style=\"color: #6699CC; font-family: 'Courier New'; font-size: 18px;\">\n",
    "the cause of wholeness is the act of thinking\n",
    "</p>"
   ]
  },
  {
   "attachments": {},
   "cell_type": "markdown",
   "metadata": {},
   "source": [
    "BOOK XI\n",
    "\n",
    "There is much evidence of disorder among things.\n",
    "\n",
    "In the course of the _Metaphysics_ and _Physics_, all such apparent disorder has been traced back to some sort of order on which it depends.\n",
    "\n",
    "Hence that order in turn must have some source."
   ]
  },
  {
   "attachments": {},
   "cell_type": "markdown",
   "metadata": {},
   "source": [
    "BOOK XII\n",
    "\n",
    "All things depend upon a being that is without material and always at work.\n",
    "\n",
    "As an act of thinking that never goes out of itself, it is the motionless cause of the circular motion of the cosmos; as the self-thought content of thinking it comprises the forms of all the beings that inhabit the cosmos."
   ]
  },
  {
   "attachments": {},
   "cell_type": "markdown",
   "metadata": {},
   "source": [
    "BOOK XIII\n",
    "\n",
    "Mathematical things are not sources of anything, either separate from or within perceptible things, and the forms are not mathematical things or universals."
   ]
  },
  {
   "attachments": {},
   "cell_type": "markdown",
   "metadata": {},
   "source": [
    "BOOK XIV\n",
    "\n",
    "The forms cannot exert causality as elements, by any analogy to generation, or as numerical ratios."
   ]
  },
  {
   "attachments": {},
   "cell_type": "markdown",
   "metadata": {},
   "source": [
    "### Book I Wisdom"
   ]
  },
  {
   "attachments": {},
   "cell_type": "markdown",
   "metadata": {},
   "source": [
    "#### I.1"
   ]
  },
  {
   "attachments": {},
   "cell_type": "markdown",
   "metadata": {},
   "source": [
    "[P]\n",
    "\n",
    "All human beings by nature stretch themselves out toward knowing.\n",
    "\n",
    "A sign of this is our love of the senses; for even apart from their use, they are loved on their own account, and above all the rest, the one through the eyes.\n",
    "\n",
    "For not only in order that we might act, but even when we are not going to act at all, we prefer seeing, one might say, as against everything else.\n",
    "\n",
    "And the cause is that, among the senses, this one most of all makes us discover things, and makes evident many differences.\n",
    "\n",
    "By nature, then, the animals come into being having sense perception, though in some of them memory does not emerge out of this, while in others it does.\n",
    "\n",
    "And for this reason, these latter are more intelligent and more able to learn than those that are unable to remember, while as many of them as are not able to hear sounds are intelligent without learning (such as a bee, or any other kind of animal that might be of this sort), but as many do learn as have this sense in addition to memory.\n",
    "\n",
    "So the other animals live by images and memories, but have a small share of experience, but the human race lives also by art and reasoning.\n",
    "\n",
    "And for human beings, experience arises from memory, since many memories of the same thing bring to completion a capacity for one experience.\n",
    "\n",
    "<p style=\"color: #6699CC; font-family: 'Courier New'; font-size: 18px;\">\n",
    "humans strive to know, as evidenced by their love of sight in discovery and differentiation\n",
    "<br>\n",
    "animals have sense perception, some with memory\n",
    "<br>\n",
    "learning requires perception and memory\n",
    "<br>\n",
    "memory is the precursor to experience\n",
    "</p>"
   ]
  },
  {
   "attachments": {},
   "cell_type": "markdown",
   "metadata": {},
   "source": [
    "[P]\n",
    "\n",
    "Now experience seems to be almost the same thing as knowledge or art, but for human beings, knowledge and art results from experience, for experience makes art, as Polus says and says rightly, but inexperience makes chance.\n",
    "\n",
    "And art comes into being whenever, out of many conceptions from experience, one universal judgment arises about those that are similar.\n",
    "\n",
    "For to have a judgment that this thing was beneficial to Callias when he was sick with this disease, and to Socrates, and one by one in this way to many people, belongs to experience.\n",
    "\n",
    "But the judgment that it was beneficial to all such people, marked out as being of one kind, when they were sick with this disease, such as to sluggish or irritable people when they were feverish with heat, belongs to art.\n",
    "\n",
    "For the purpose of acting, experience doesn't seem to differ from art at all, and we even see people with experience being more successful than those who have a rational account without experience.\n",
    "\n",
    "(The cause of this is that experience is familiarity with things that are particular, but art with those that are universal, while actions and all becoming are concerned with what is particular.\n",
    "\n",
    "For the doctor does not cure a human being, except incidentally, but Callias or Socrates or any of the others called by such a name, who happens to be a human being.\n",
    "\n",
    "So if someone without experience has the reasoned account and is familiar with the universal, but is ignorant of what is particular within it, he will often go astray in his treatment, since what is treated is particular.)\n",
    "\n",
    "<p style=\"color: #6699CC; font-family: 'Courier New'; font-size: 18px;\">\n",
    "experience is prior to art/knowledge (experience is not the same thing as art/knowledge)\n",
    "<br>\n",
    "inexperience is prior to chance\n",
    "<br>\n",
    "one universal judgment comes-into-being from many similar experiences\n",
    "<br>\n",
    "experience, the particular\n",
    "<br>\n",
    "art, the universal\n",
    "</p>"
   ]
  },
  {
   "attachments": {},
   "cell_type": "markdown",
   "metadata": {},
   "source": [
    "[P]\n",
    "\n",
    "Nevertheless, we think that knowing and understanding are present in art more than is experience and we take the possessors of arts to be wiser than people with experience, as though in every instance wisdom is more something resulting from and following along with knowing; and this is because the ones know the cause while the others do not.\n",
    "\n",
    "For people with experience know the what, but do not know the why, but the others are acquainted with the why and the cause.\n",
    "\n",
    "For this reason we also think the master craftsmen in each kind of work are more honorable and know more than the manual laborers, and are also wiser, because they know the causes of the things they do, as though people are wiser not as a result of being skilled at action, but as a result of themselves having the reasoned account and knowing the causes.\n",
    "\n",
    "And in general, a sign of the one who knows and the one who does not is being able to teach, and for this reason we regard the art, more than the experience, to be knowledge, since the ones can, but the others cannot, teach.\n",
    "\n",
    "<p style=\"color: #6699CC; font-family: 'Courier New'; font-size: 18px;\">\n",
    "cause is known in art\n",
    "<br>\n",
    "to teach is to know, the reason why art is more knowing than is experience\n",
    "</p>"
   ]
  },
  {
   "attachments": {},
   "cell_type": "markdown",
   "metadata": {},
   "source": [
    "[P]\n",
    "\n",
    "Further, we consider none of the senses to be wisdom, even though they are the most authoritative ways of knowing particulars; but they do not pick out the why of anything, such as why fire is hot, bit only that it is hot.\n",
    "\n",
    "So it is likely that the one who first discovered any art whatever that was beyond the common perceptions was wondered at by people, not only on account of there being something useful in his discoveries, but as someone wise and distinguished from other people.\n",
    "\n",
    "But once more arts had been discovered, and some of them were directed toward necessities but others toward a way of living, it is likely that such people as were discoverers of the latter kind were always considered wiser, because their knowledge was not directed toward use.\n",
    "\n",
    "Hence when all such arts had been built up, those among the kinds of knowledge directed at neither pleasure nor necessity were discovered, and first in those places where there was leisure.\n",
    "\n",
    "It is for this reason that the mathematical arts were first constructed in the neighborhood of Egypt, for there the tribe of priests was allowed to live in leisure."
   ]
  },
  {
   "attachments": {},
   "cell_type": "markdown",
   "metadata": {},
   "source": [
    "[P]\n",
    "\n",
    "Now it has been said in the writings on ethics what the difference is among art, demonstrative knowledge, and the other things of a similar kind, but the purpose for which we are now making this argument is that all people assume that what is called wisdom is concerned with first causes and origins.\n",
    "\n",
    "Therefore, as was said above, the person with experience seems wiser than those who have any perception whatever, the artisan wiser than those with experience, the master craftsman wiser than the manual laborer, and the contemplative arts more so than the productive ones.\n",
    "\n",
    "It is apparent, then, that wisdom is a knowledge concerned with certain sources and causes."
   ]
  },
  {
   "attachments": {},
   "cell_type": "markdown",
   "metadata": {},
   "source": [
    "### Book V Things Meant in More than One Way"
   ]
  },
  {
   "attachments": {},
   "cell_type": "markdown",
   "metadata": {},
   "source": [
    "#### V.1 ΑΡΧΗ [SOURCE]\n",
    "\n",
    "(ruling) beginning; (first) principle; starting-point (of being; of intellect/reason)\n",
    "<br>\n",
    "usually refers to a being, rather than a rule"
   ]
  },
  {
   "attachments": {},
   "cell_type": "markdown",
   "metadata": {},
   "source": [
    "[P]\n",
    "\n",
    "_Source_ means that part of a thing from which one might first move, as of a line or a road there is a source in one direction, and another one in the opposite direction; and it means that from which each thing might best come into being, as in the case of learning, sometimes one ought to begin not from what is first and the source of the thing, but from which one might learn most easily; or it means that constituent from which something first comes into being, such as the keel of a ship or the foundation of a house, and in animals some say it is the heart, others the brain, and others whatever they happen to believe is of this sort; or it means that which is not a constituent, from which something first comes into being, and from which its motion and change naturally first begin, as a child from its father and mother, or a fight from insults; or it means that by whose choice what is moved is moved or what changes changes, in the sense in which the ruling offices of cities as well as oligarchies, monarchies, and tyrannies are called sources, as are the arts, and among these the master crafts most of all.\n",
    "\n",
    "Also, that from which a thing is first known is called the source of the thing, such as the hypotheses of demonstrations."
   ]
  },
  {
   "attachments": {},
   "cell_type": "markdown",
   "metadata": {},
   "source": [
    "[P]\n",
    "\n",
    "Causes are meant in just as many ways, since all causes are sources.\n",
    "\n",
    "And what is common to all sources is to be the first thing from which something is or comes to be or is known; of these, some are present within while others are outside.\n",
    "\n",
    "For this reason nature is a source, as are elements, thinking, choice, thinghood, and that for the sake of which; for the good and the beautiful are sources of both the knowledge and the motion of many things.\n",
    "\n",
    "<p style=\"color: #6699CC; font-family: 'Courier New'; font-size: 18px;\">\n",
    "all causes are sources\n",
    "<br>\n",
    "to be a source is to be the first thing from which something is or comes to be\n",
    "<br>\n",
    "sources: nature, elements, thinking, choice, thinghood, the good, the beautiful\n",
    "</p>"
   ]
  },
  {
   "attachments": {},
   "cell_type": "markdown",
   "metadata": {},
   "source": [
    "#### V.2 AΙΤΙΑ [CAUSE]\n",
    "\n",
    "the source of (responsibility for) a thing being what it is\n",
    "<br>\n",
    "to understand a thing is to know its four causes"
   ]
  },
  {
   "attachments": {},
   "cell_type": "markdown",
   "metadata": {},
   "source": [
    "[P]\n",
    "\n",
    "_Cause_ means, in one sense, that out of which something comes into being, still being present in it, as the bronze of a statue or the silver of a bowl, or the kinds of these.\n",
    "\n",
    "In another way it is the form or pattern, and this is the gathering in speech of what it is for something to be, or again the kinds of this (as of the octave, the two-to-one ratio, or generally number), and the parts that are in its articulation.\n",
    "\n",
    "In yet another it is that from which the first beginning of change or rest is, as the legislator is a cause, or the father of a child, or generally the maker of what is made, or whatever makes a changing thing change.\n",
    "\n",
    "And in still another way it is meant as the end.\n",
    "\n",
    "This is that for the sake of which, as health is of walking around.\n",
    "\n",
    "Why is he walking around?\n",
    "\n",
    "We say \"in order to be healthy\", and in so saying think we have completely given the cause.\n",
    "\n",
    "Causes also are as many things as come between the mover of something else and the end, as, of health, fasting or purging or drugs or instruments.\n",
    "\n",
    "For all these are for the sake of the end, but they differ from one another in that some are deeds and other tools.\n",
    "\n",
    "<p style=\"color: #6699CC; font-family: 'Courier New'; font-size: 18px;\">\n",
    "CAUSE\n",
    "<br>\n",
    "[1] MATERIAL: that out of which a thing comes-to-be (being present in the thing)\n",
    "<br>\n",
    "[2] FORMAL: the form (what-it-is-for-it-to-be) of a thing, and the parts of the form\n",
    "<br>\n",
    "[3] ORIGIN OF MOTION (EFFICIENT): that from which the first beginning of change or rest is\n",
    "<br>\n",
    "[4] FINAL: the end (that-for-the-sake-of-which)\n",
    "<br><br>\n",
    "that for the sake of which\n",
    "<br>\n",
    "the telos (completion) of a deliberate (series of) action is a purpose\n",
    "<br>\n",
    "in nature, the telos for the sake of which things occur is the wholeness of natural beings\n",
    "</p>"
   ]
  },
  {
   "attachments": {},
   "cell_type": "markdown",
   "metadata": {},
   "source": [
    "[P]\n",
    "\n",
    "The causes then are meant in just about this many ways, and it happens, since they are meant in more than one way, that the nonincidental causes of the same thing are also many (as of the statue both the art of sculpture and bronze, not as a consequence of anything else but just as a statue, though not in the same way, but the one as material and the other as that from which the motion was).\n",
    "\n",
    "And there are also causes of one another (as hard work of good condition and this in turn of hard work, though again not in the same way, but the one as end and the other as source of motion).\n",
    "\n",
    "Further, the same thing is a cause of opposite things, for the thing that is present is responsible for this result, and we sometimes blame this, when it is absent, for the opposite one, as the absence of the pilot for the ship's overturning, whose presence was the cause of its keeping safe, and both, the presence and its lack, are causes as movers.\n",
    "\n",
    "<p style=\"color: #6699CC; font-family: 'Courier New'; font-size: 18px;\">\n",
    "a thing has MULTIPLE CAUSES\n",
    "<br><br>\n",
    "things CAUSE EACH OTHER\n",
    "<br>\n",
    "hard work is the cause (as the source of motion) of good condition\n",
    "<br>\n",
    "good condition is the (final) cause of hard work\n",
    "<br><br>\n",
    "the same thing (present and absent) CAUSES CONTRARIES\n",
    "</p>"
   ]
  },
  {
   "attachments": {},
   "cell_type": "markdown",
   "metadata": {},
   "source": [
    "[P]\n",
    "\n",
    "But all the causes now being spoken of fall into four most evident ways.\n",
    "\n",
    "For the letters of syllables and the material of processed things and fire and earth and all such things, of bodies, and parts of a whole and hypotheses of a conclusion are causes as that out of which, and while the one member of each of these pairs is a cause as what underlies, such as parts, the other is so as the what-it-is-for-it-to-be, a whole or composite or form.\n",
    "\n",
    "But the semen and the doctor and the legislator, and generally the maker, are all causes as that from which the source of change or rest is, but other things as the end or the good of the remaining ones.\n",
    "\n",
    "For that-for-the-sake-of-which means to be the best thing and the end of the other things, and let it make no difference to say the good itself or the apparent good.\n",
    "\n",
    "<p style=\"color: #6699CC; font-family: 'Courier New'; font-size: 18px;\">\n",
    "MATERIAL: letters, material, elements, parts, hypotheses\n",
    "<br>\n",
    "FORMAL: syllable, material processed, body, whole, conclusion\n",
    "<br>\n",
    "EFFICIENT: semen, doctor, legislator, the maker\n",
    "</p>"
   ]
  },
  {
   "attachments": {},
   "cell_type": "markdown",
   "metadata": {},
   "source": [
    "[P]\n",
    "\n",
    "The causes then are these and so many in form, but the ways the causes work are many in number, though even these are fewer if they are brought under headings.\n",
    "\n",
    "For cause is meant in many ways, and of those of the same form, as preceding and following one another.\n",
    "\n",
    "For example, the cause of health is the doctor and also the skilled knower, and of the octave the double and also number, and always things comprehensive of whatever is among the particulars.\n",
    "\n",
    "Further, there is what is incidental, and the kinds of these, as of the statue, in one way Polycleitus and in another the sculptor, because it is incidental to the sculptor to be Polycleitus.\n",
    "\n",
    "And there are things comprehensive of the incidental cause, as that a human being is the cause of the statue, or generally an animal, because Polycleitus is a human being and a human being is an animal.\n",
    "\n",
    "And also among incidental things, some are more remote and others nearer, as if the pale man or the one with a refined education were said to be the cause of a statue.\n",
    "\n",
    "And all of them, both those meant properly and those incidentally, are meant some as potential and others as at-work, as of building a house, either the builder or the builder building.\n",
    "\n",
    "And similarly to the things that have been said, an account will be given for those things of which the causes are causes, as of this statue or a statue or in general an image, and of this bronze or of bronze or in general of material, and likewise with the incidental things.\n",
    "\n",
    "Further, things intertwining the former and the latter will be said, such as not Polycleitus nor a sculptor but the sculptor Polycleitus."
   ]
  },
  {
   "attachments": {},
   "cell_type": "markdown",
   "metadata": {},
   "source": [
    "[P]\n",
    "\n",
    "Nevertheless, all these are six in multitude, but spoken of in a twofold way: there is the particular or the kind, the incidental or the kind of incidental thing, and these intertwined or spoken of simply, and all as either at-work or in potency.\n",
    "\n",
    "And they differ to this extent, that what is at-work and particular is and is not present at the same time as that of which it is the cause, as this one healing with this one being cured or this one building with this thing being built, but not always so with what is potential.\n",
    "\n",
    "The house and the housebuilder are not finished off simultaneously."
   ]
  },
  {
   "attachments": {},
   "cell_type": "markdown",
   "metadata": {},
   "source": [
    "#### V.3 ΣΤΟΙΧΕΙΑ [ELEMENT]\n",
    "\n",
    "things in a row; the sounds of speech; the ultimate kinds of material constituents of things\n",
    "<br>\n",
    "for Aristotle, simple things cannot be elements because simple things can change into other simple things\n",
    "<br>\n",
    "an account of elements cannot explain the whole"
   ]
  },
  {
   "attachments": {},
   "cell_type": "markdown",
   "metadata": {},
   "source": [
    "[P]\n",
    "\n",
    "_Element_ means that out of which something is composed, as the first constituent not divisible in kind into a different kind, as the elements of speech are those things out of which speech is composed and into which it is last divided, while they are no longer divided into other utterances different in kind from them, but if they are divided, the parts are of the same kind, as a part of water is water, though a part of a syllable is not a syllable.\n",
    "\n",
    "Similarly, the elements of bodies are meant by those who say into what bodies are divided last, while those things are no longer divided into others differing in kind; and whether there is one such thing or more than one, they call them elements.\n",
    "\n",
    "And the elements of geometrical proofs are meant in much the same way, and so are the elements of demonstration in general, for the first demonstrations are also present in the rest of the demonstrations, and these are called elements of demonstration; and of this kind are the primary syllogisms, made of three terms and concluded through one middle term.\n",
    "\n",
    "<p style=\"color: #6699CC; font-family: 'Courier New'; font-size: 18px;\">\n",
    "ELEMENT, that out of which something is composed as the first constituent not divisible in kind into a different kind\n",
    "</p>"
   ]
  },
  {
   "attachments": {},
   "cell_type": "markdown",
   "metadata": {},
   "source": [
    "[P]\n",
    "\n",
    "Also, by altering the sense from this one, people call what is one and small, and useful for many things, an element, and so anything small, simple, and indivisible is called an element.\n",
    "\n",
    "Hence it comes about that the most universal things are elements, because each of them, being one and simple, is present in many things, either all or as many as possible, and that oneness and the point seem to some people to be sources of things.\n",
    "\n",
    "So since the so-called genera are universal and indivisible (since there is no articulation of them), some people call the genera elements, and more so than the specific difference because the genus is more universal; for that to which the specific difference belongs, the genus follows along with, while the specific difference does not belong to everything that the genus does.\n",
    "\n",
    "But common to all the meanings is that to be an element in each sense is to be a first constituent in each thing."
   ]
  },
  {
   "attachments": {},
   "cell_type": "markdown",
   "metadata": {},
   "source": [
    "#### V.4 ΦΥΣΙΣ [NATURE]\n",
    "\n",
    "the internal activity that makes a thing what it is"
   ]
  },
  {
   "attachments": {},
   "cell_type": "markdown",
   "metadata": {},
   "source": [
    "[P]\n",
    "\n",
    "<p style=\"color: #6699CC; font-family: 'Courier New'; font-size: 18px;\">\n",
    "NATURE\n",
    "</p>\n",
    "\n",
    "In one sense, _nature_ means the coming into being of things that are born, as if one had said \"nativity\", but in a sense it means the first thing present in a growing thing, from which it grows.\n",
    "\n",
    "<p style=\"color: #6699CC; font-family: 'Courier New'; font-size: 18px;\">\n",
    "[1] the coming-to-be of things that are born\n",
    "<br>\n",
    "[2] the first thing present in a growing thing\n",
    "<br>\n",
    "[2] the thing from which a growing thing grows\n",
    "</p>\n",
    "\n",
    "Again, it is that from which the primary motion in each of the beings that are by nature is present within itself insofar as it is itself.\n",
    "\n",
    "And those things are said to grow which have increase from something else by contact and either growing-into-one or, as with embryos, growing-upon, while growing-into-one differs from contact in that there nothing else besides the contact is necessary, but in things that grow into one there is some one thing that is the same in both which makes them grow together instead of touching, and be one by continuity and quantity, though not by what sort of thing each is.\n",
    "\n",
    "<p style=\"color: #6699CC; font-family: 'Courier New'; font-size: 18px;\">\n",
    "[3] nature is that-from-which the primary motion is present in a thing as that thing\n",
    "<br><br>\n",
    "a thing that grows is a thing that has increase from something else by contact and either growing-into-one or growing-upon\n",
    "<br><br>\n",
    "growing-into-one is different from contact\n",
    "<br>\n",
    "in contact the only thing that is necessary is contact\n",
    "<br>\n",
    "in growing-into-one there is some one thing that is the same in both which makes them grow together and be one\n",
    "</p>"
   ]
  },
  {
   "attachments": {},
   "cell_type": "markdown",
   "metadata": {},
   "source": [
    "[P]\n",
    "\n",
    "And further, nature means the primary thing from which any of the beings that are not by nature is or comes to be, which is unarranged and unable to be changed out of its own capacity, as bronze is said to be the nature of a statue or of bronze implements, or wood of wooden things, and similarly in other cases; for each of them is made out of these things because the primary material is preserved throughout.\n",
    "\n",
    "In this way too the elements of the things that are by nature are said to be nature, some people saying that it is fire, some earth, some air, some water, some some other such thing, others some of these, and still others all of them.\n",
    "\n",
    "And again, in another way nature means the thinghood of things that are by nature, as those people mean who say that nature is the primary combination of things, or as Empedocles says, \"No nature belongs to any of the things that are; There is only mixture and remixture of intermingled things, and Nature is given as a name by human beings.\"\n",
    "\n",
    "<p style=\"color: #6699CC; font-family: 'Courier New'; font-size: 18px;\">\n",
    "[4] nature is the primary thing from which non natural beings are or come to be\n",
    "<br>\n",
    "[5] nature is the thinghood of things that are by nature\n",
    "</p>"
   ]
  },
  {
   "attachments": {},
   "cell_type": "markdown",
   "metadata": {},
   "source": [
    "[P]\n",
    "\n",
    "For this reason, though all things that are or come to be by nature already have present that out of which they naturally come into being or are made, we say that they do not yet have their natures if they do not have their look and form.\n",
    "\n",
    "So that which consists of both of these is by nature, such as animals and their parts, and nature is both the first material (and this in two senses, either first in relation to the thing itself or first generally, as with works of bronze, the bronze is first in relation to them, but in general it is perhaps water, if all things that melt are water) and the form or thinghood, which is the completion of a thing's coming into being.\n",
    "\n",
    "And in an extended sense, every kind of thinghood in general is directly called a nature for this reason: because nature is a certain kind of thinghood.\n",
    "\n",
    "<p style=\"color: #6699CC; font-family: 'Courier New'; font-size: 18px;\">\n",
    "a thing that is or comes-to-be by nature already has-present that out-of-which it is or comes-to-be\n",
    "<br>\n",
    "but a thing does not yet have its nature if does not yet have its form\n",
    "<br>\n",
    "nature is both the first material and the form, where form is the completion of a thing's coming-to-be\n",
    "</p>"
   ]
  },
  {
   "attachments": {},
   "cell_type": "markdown",
   "metadata": {},
   "source": [
    "[P]\n",
    "\n",
    "So from what has been said, the primary and authoritative meaning of nature is the thinghood of things that have in themselves a source of motion in their own right; for the material is called nature by being receptive of this, and coming-into-being and growing are called nature by being motions proceeding out of this.\n",
    "\n",
    "And this is the source of motion of things that are by nature, being present in them all along in some way, either potentially or fully at work."
   ]
  },
  {
   "attachments": {},
   "cell_type": "markdown",
   "metadata": {},
   "source": [
    "#### V.5 [NECESSITY]"
   ]
  },
  {
   "attachments": {},
   "cell_type": "markdown",
   "metadata": {},
   "source": [
    "[P]\n",
    "\n",
    "<p style=\"color: #6699CC; font-family: 'Courier New'; font-size: 18px;\">\n",
    "NECESSITY\n",
    "</p>\n",
    "\n",
    "_Necessary_ means that without which, as a contributing cause, it is not possible to live, as breathing and food are necessary to an animal, since without them it is impossible for them to be, and it means those things without which the good either could not be or could not come about, or the bad be cast off or avoided, as, say, drinking medicine is necessary in order not to be sick, or sailing to Aegina in order to get money.\n",
    "\n",
    "Also, it refers to what is compelled, or to force, and this is what constrains or prevents, contrary to impulse and choice, for what is forced is called necessary, and for this reason necessity is also painful, as Evenus says, \"For every necessary thing is by nature annoying\", and force is a kind of necessity as Sophocles says, \"But force made it necessary for me to do this\"; and necessity seems to be something that cannot be changed by persuasion, and seems so rightly, for it is contrary to motion that results from choice and from reasoning.\n",
    "\n",
    "<p style=\"color: #6699CC; font-family: 'Courier New'; font-size: 18px;\">\n",
    "[1] necessity is that cause without which it is impossible to be/live\n",
    "<br>\n",
    "[2] necessity is that without which the good could not be or come-to-be\n",
    "<br>\n",
    "[3] necessity is that which is compelled/forced\n",
    "<br>\n",
    "[3a] necessity is a thing that constrains/prevents\n",
    "<br>\n",
    "[3b] necessity is a thing that is painful\n",
    "<br>\n",
    "[3c] necessity is a thing that cannot be changed by persuasion\n",
    "<br>\n",
    "[3d] necessity is a thing that is contrary to motion that results from choice/reason\n",
    "</p>"
   ]
  },
  {
   "attachments": {},
   "cell_type": "markdown",
   "metadata": {},
   "source": [
    "[P]\n",
    "\n",
    "Further, we say that which is incapable of being otherwise to be as it is necessarily, and it is as a result of _this_ necessity that all other necessities are in some way attributed; for what is forced means what is necessary to do or suffer whenever, on account of being forced, one is incapable of acting from impulse, as though this kind of necessity were one through which something could not be otherwise, and it is similar in the case of contributing causes of life or of the good.\n",
    "\n",
    "<p style=\"color: #6699CC; font-family: 'Courier New'; font-size: 18px;\">\n",
    "[4] necessity is that which is incapable of being otherwise\n",
    "</p>\n",
    "\n",
    "For whenever without something anything is incapable in one case of the good, or in the other case of life and being, these things are necessary and this cause is a kind of necessity.\n",
    "\n",
    "Also, demonstration is of necessary things, because it cannot be otherwise, if it has simply been demonstrated, and the causes of this are the first premises, if those from which the conclusion comes cannot possibly be otherwise.\n",
    "\n",
    "So of some things, something else is the cause of their being necessary, but of others, nothing else is, but rather it is through them that other things are necessary.\n",
    "\n",
    "Therefore the primary and authoritative sense of necessary belongs to what is simple, for this is not capable of being in more than one way, and so has no this way and otherwise, for then it would automatically have more than one way of being.\n",
    "\n",
    "So if there are some things that are everlasting and motionless, for them nothing is forced or contrary to nature."
   ]
  },
  {
   "attachments": {},
   "cell_type": "markdown",
   "metadata": {},
   "source": [
    "#### V.7 [BEING]"
   ]
  },
  {
   "attachments": {},
   "cell_type": "markdown",
   "metadata": {},
   "source": [
    "incidental κατα συμβεβηκος that which belongs to a thing not as a consequence of what it is"
   ]
  },
  {
   "attachments": {},
   "cell_type": "markdown",
   "metadata": {},
   "source": [
    "[P]\n",
    "\n",
    "<p style=\"color: #6699CC; font-family: 'Courier New'; font-size: 18px;\">\n",
    "BEING\n",
    "</p>\n",
    "\n",
    "_Being_ is meant in one sense incidentally [κατα συμβεβητος], in another sense in its own right; in the incidental sense, we say, for example, that the just person is educated, or the human being is educated, or the educated one is a human being, in much the same way as if we were to say that the educated one builds a house because it is incidental to the housebuilder to be educated, or to the educated one to be a housebuilder (for here this _is_ this means that this is incidental to this).\n",
    "\n",
    "<p style=\"color: #6699CC; font-family: 'Courier New'; font-size: 18px;\">\n",
    "[1] being incidentally\n",
    "<br>\n",
    "[2] being in its own right\n",
    "</p>\n",
    "\n",
    "And it is this way too in the case of the things mentioned; for whenever we say that the human being is educated or the educated one is a human being, or that the white thing is educated or this is white, we mean in some cases that both are incidental to the same thing, in others that something is incidental to a being, and in the case of the educated human being, that the educated is incidental to this person.\n",
    "\n",
    "(And in this sense even the not-white is said to \"be\" because that to which it is incidental _is_.)\n",
    "\n",
    "So things that are said to be incidental are said to be so either because both belong to the same being, or because one of them belongs to a being, or because the thing itself is, to which belongs that to which it is attributed.\n",
    "\n",
    "<p style=\"color: #6699CC; font-family: 'Courier New'; font-size: 18px;\">\n",
    "the human being is (incidental to) educated\n",
    "<br>\n",
    "the educated one is (incidental to) a human being\n",
    "<br>\n",
    "the white thing is (incidental to) educated\n",
    "<br>\n",
    "this is (incidental to) white\n",
    "<br><br>\n",
    "BEING INCIDENTALLY\n",
    "<br>\n",
    "(i) both (what?) are incidental to the same thing\n",
    "<br>\n",
    "(ii) one (of what?) is incidental to a being\n",
    "<br>\n",
    "(iii) the thing itself is\n",
    "</p>"
   ]
  },
  {
   "attachments": {},
   "cell_type": "markdown",
   "metadata": {},
   "source": [
    "[P]\n",
    "\n",
    "<p style=\"color: #6699CC; font-family: 'Courier New'; font-size: 18px;\">\n",
    "BEING IN ITS OWN RIGHT\n",
    "</p>\n",
    "\n",
    "But just as many things are said to be in their own right as are meant by the modes of predication; for in as many ways as these are said, in so many ways does _to be_ have meaning.\n",
    "\n",
    "Since, then, of things predicated, some signify what a thing is, others of what sort it is, others how much it is, others to what it is related, others what it is doing or having done to it, others where it is, and others when it is, being means the same thing as each one of these.\n",
    "\n",
    "For it makes no difference whether one says a person is healing or a person heals, or a person is walking or cutting rather than that a person walks or cuts, and similarly in other cases.\n",
    "\n",
    "<p style=\"color: #6699CC; font-family: 'Courier New'; font-size: 18px;\">\n",
    "the number of beings-in-its-own-right is just the number of modes of predication\n",
    "<br>\n",
    "what a thing is\n",
    "<br>\n",
    "what sort of a thing is\n",
    "<br>\n",
    "how much a thing is\n",
    "<br>\n",
    "to what a thing is related\n",
    "<br>\n",
    "what a thing is doing\n",
    "<br>\n",
    "what a thing is having done\n",
    "<br>\n",
    "where a thing is\n",
    "<br>\n",
    "when a thing is\n",
    "</p>"
   ]
  },
  {
   "attachments": {},
   "cell_type": "markdown",
   "metadata": {},
   "source": [
    "[P]\n",
    "\n",
    "<p style=\"color: #6699CC; font-family: 'Courier New'; font-size: 18px;\">\n",
    "BEING AS TRUTH\n",
    "</p>\n",
    "\n",
    "Also, _to be_ and _is_ signify that something is true, and not to be signifies that it is not true but false, alike in the cases of affirmation and denial; for instance, that Socrates _is_ educated indicates that that this is true, or that Socrates _is_ indicates that this is true, but that the diagonal is _not_ commensurable indicates that this is false."
   ]
  },
  {
   "attachments": {},
   "cell_type": "markdown",
   "metadata": {},
   "source": [
    "[P]\n",
    "\n",
    "Again, _being_ and _what is_ mean in one sense something that is definite as a potency, but in another sense what is fully at work, among these things that have been mentioned.\n",
    "\n",
    "For we say of both one who is capable of seeing and one who is fully at work seeing that he sees, and similarly of both one who is capable of using knowledge and one who is using it that he knows, and also both of that to which rest already belongs and that which is capable of being at rest that it rests.\n",
    "\n",
    "And it is similar in the case of independent things, for we say that Hermes is in the block of stone, and that the half belongs to a line, and that what is not yet ripe is grain.\n",
    "\n",
    "When something is potential and when it is not yet so must be distinguished in other places.\n",
    "\n",
    "<p style=\"color: #6699CC; font-family: 'Courier New'; font-size: 18px;\">\n",
    "being is that which is definite as a potency\n",
    "<br>\n",
    "being is that which is fully at work\n",
    "</p>"
   ]
  },
  {
   "attachments": {},
   "cell_type": "markdown",
   "metadata": {},
   "source": [
    "#### V.8 ΟΥΣΙΑ [THINGHOOD]"
   ]
  },
  {
   "attachments": {},
   "cell_type": "markdown",
   "metadata": {},
   "source": [
    "[P]\n",
    "\n",
    "_Thinghood_ is attributed to the simple bodies, such as earth, fire, water, and whatever is of this sort, and also to bodies in general and the things composed of them, both living things and heavenly bodies as well as their parts; and all these are called independent things because they are not attributed to anything underlying them, but other things are attributed to them.\n",
    "\n",
    "But in another way, thinghood means that which is responsible for the being of thing, and is a constituent in whatever things are of such a kind as not to be attributed to an underlying thing; an example is the soul of an animal.\n",
    "\n",
    "Further, thinghood refers to whatever parts are present in such things that mark them off and indicate a _this_, the removal of which does away woth the whole; as a body is annihilated by the removal of its surface, as some say, or a surface by the removal of its boundary line; and in general, number seems to some people to be this sort of thing (since nothing would be if it were removed, and it marks off all things).\n",
    "\n",
    "But it also means what it is for something to be, the articulation of which is a definition, and this is called the thinghood of each thing."
   ]
  },
  {
   "attachments": {},
   "cell_type": "markdown",
   "metadata": {},
   "source": [
    "[P]\n",
    "\n",
    "It turns out, then, that thinghood is meant in two ways, both as the ultimate underlying thing, which is no longer attributed to anything else, and also of whatever is a _this_ and separate, and of this sort is the form or \"look\" of each thing."
   ]
  },
  {
   "attachments": {},
   "cell_type": "markdown",
   "metadata": {},
   "source": [
    "---"
   ]
  },
  {
   "attachments": {},
   "cell_type": "markdown",
   "metadata": {},
   "source": [
    "## Notes"
   ]
  },
  {
   "attachments": {},
   "cell_type": "markdown",
   "metadata": {},
   "source": [
    "what is rational\n",
    "\n",
    "an element of the irrational?\n",
    "\n",
    "world soul\n",
    "\n",
    "close reading\n",
    "\n",
    "number in Plato, time\n",
    "\n",
    "relation to motion\n",
    "\n",
    "sallis on chorology\n",
    "\n",
    "macbeth realizing reason\n",
    "\n",
    "ratio, complexes become irrational"
   ]
  },
  {
   "attachments": {},
   "cell_type": "markdown",
   "metadata": {},
   "source": [
    "[R]"
   ]
  },
  {
   "attachments": {},
   "cell_type": "markdown",
   "metadata": {},
   "source": [
    "when it comes to change in place (and other changes), things are always moved by something else\n",
    "* distinguish between what is moved and what is not moved\n",
    "* change always comes from something else which is relatively unmoved\n",
    "* moved movers all the way down to the nmoved mover\n",
    "* the unmoved mover is the solution to the problem of how a finite world moves forever\n",
    "* motion had no beginning, the kosmos has always been changing\n",
    "\n",
    "prime mover: unmoved mover\n",
    "\n",
    "prime mobile: the first moved thing, the sphere of the fixed stars, has an eternal motion\n",
    "\n",
    "every linear motion is finite\n",
    "* you can't have infinite motion in straight motion, since kosmos is finite\n",
    "\n",
    "two causes requires oscillation, problem on the mechanical level for Aristotle\n",
    "* the motion isn't perfectly unified\n",
    "\n",
    "similar to Plato's, Aristotle's\n",
    "\n",
    "a cyclical motion coincides with itself, perfectly uniform? self-coincident with itself\n",
    "* always on the way from itself, always on the way to itself\n",
    "* circular motion is the only kind of motion that could be infinite, in a certain respect\n",
    "\n",
    "acceleration is the only phenomenon in Newtonian mechanics"
   ]
  },
  {
   "attachments": {},
   "cell_type": "markdown",
   "metadata": {},
   "source": [
    "if all motion were relative, it would be neutral with respect to its own motion (inertia)\n",
    "\n",
    "there is some kind of integrity to cyclical motion that Aristotle's interested in\n",
    "\n",
    "what is a prime mover; what is the role of the prime mover?\n",
    "\n",
    "the mathematical objects are studied in terms of their form\n",
    "\n",
    "the natural objects include both form and the material (hylomorphism); the unity of material and form\n",
    "* the material is the parts,letters of something (stoikeion, letter, syllable)\n",
    "* the form/eidos is the unity of the material\n",
    "* when you combine different letters you get something different than what it is on its own\n",
    "* the parts depend on the whole\n",
    "\n",
    "shape is intelligible/articulable/separate\n",
    "\n",
    "for Aristotle, it is only separate in speech\n",
    "\n",
    "for Plato, the forms are just separate, they have their own being\n",
    "\n",
    "in mathematics, we're dealing with mathematical objects in their form so we can separate them off in speech\n",
    "\n",
    "abstract, to take the thing away from what it belongs to\n",
    "\n",
    "Bk12.6-7"
   ]
  },
  {
   "attachments": {},
   "cell_type": "markdown",
   "metadata": {},
   "source": [
    "the prime mover is perfectly self-coincident (unified with itself), be a source of change (has to be something active)\n",
    "\n",
    "activity is the source of change\n",
    "\n",
    "the prime mover is activity\n",
    "\n",
    "the prime mover has a certain kind of power/potency/potential, but it is not the thing that makes the prime mover what it is (it is incidental to it)\n",
    "\n",
    "the prime mover cannot move by contact, because it would be moved by moving the fixed stars\n",
    "\n",
    "the objects of desire and thought (beauty,justice) move us but are not themselves moved/changed\n",
    "\n",
    "it's also the activity of thinking; it's perfectly self-coincident\n",
    "\n",
    "(the activity of) thinking thinking thinking\n",
    "\n",
    "dianoia\n",
    "\n",
    "it's not thinking through things, not discursive thinking\n",
    "\n",
    "thinking through something for Descartes\n",
    "\n",
    "converges with Parmenides"
   ]
  },
  {
   "attachments": {},
   "cell_type": "markdown",
   "metadata": {},
   "source": [
    "[T 04/25]"
   ]
  },
  {
   "attachments": {},
   "cell_type": "markdown",
   "metadata": {},
   "source": [
    "change is not an activity simpliciter\n",
    "\n",
    "change is the activity of a potent thing insofar as it is capable of doing something\n",
    "\n",
    "change is a special kind of activity\n",
    "\n",
    "the other kind of activity, activity simpliciter, is what something is\n",
    "\n",
    "motion and the source of motion of all things, the first mover via the distinction between potency and activity\n",
    "\n",
    "active capacity/potency, applied to something else\n",
    "\n",
    "supplementary/passive/receptive capacity, the capacity/potency of something to undergo some action/event\n",
    "\n",
    "change of place, comes from outside\n",
    "\n",
    "things don't move themselves, they are moved by something else\n",
    "\n",
    "all motion is composite, capable of being divided up into parts\n",
    "\n",
    "since everything must be moved by something else,...\n",
    "\n",
    "infinite motion in a finite cosmos?"
   ]
  },
  {
   "attachments": {},
   "cell_type": "markdown",
   "metadata": {},
   "source": [
    "ARISTOTLE\n",
    "\n",
    "causal action of the sun, interpreted as atmosphere separation and combination\n",
    "* the cause of continuous generation and corruption in nature is to be found in the eternal movement of the heavens\n",
    "* but since a uniform motion such as that of the outer cosmic sphere would produce a uniform effect, the alternative reign of birth and death must be due to the shifting movement of the sun in its oblique path\n",
    "* when the sun approaches the earth in spring and summer, it causes generation to occur; when it withdraws in fall and winter, corruption sets in\n",
    "\n",
    "Aristotle's Meteorology 346b25ff\n",
    "* The moisture around the earth is borne upwards as vapor by the sun's beams and the heat from above; but when the heat drawing it up fails--in part dispersed into the upper region, in part quenched by the height which it attains in the air above the earth--the vapor condenses again as it is cooled "
   ]
  },
  {
   "attachments": {},
   "cell_type": "markdown",
   "metadata": {},
   "source": [
    "Complete examplanation includes\n",
    "* material cause\n",
    "* efficient cause\n",
    "* formal cause\n",
    "* final cause"
   ]
  },
  {
   "attachments": {},
   "cell_type": "markdown",
   "metadata": {},
   "source": [
    "CHANGE,MOTION\n",
    "\n",
    "What is the cause,organization,origin of motion?\n",
    "\n",
    "Thales' water\n",
    "\n",
    "element as principle [stoicheion as arche]\n",
    "\n",
    "ELEMENT\n",
    "\n",
    "τὰ καλούμενα (λεγόμενα) στοιχεῖα\n",
    "* the so-called elements, the tetrad earth air fire water\n",
    "\n",
    "true element: the primary, simple ingredient of a composite thing\n",
    "\n",
    "the four chief physical opposites, hot cold dry wet"
   ]
  },
  {
   "attachments": {},
   "cell_type": "markdown",
   "metadata": {},
   "source": [
    "536: metaphysics\n",
    "* oreksis\n",
    "* all humans, all men desire to know\n",
    "* sensing things makes us aware of differences\n",
    "* for Aristotle, knowing things means separating them out from their surroundings, differentiation\n",
    "* identity and difference are sort of fused together\n",
    "* being is just that which makes us what we are, which is how we are differentiated\n",
    "* animals that have memory (informed by hearing, organized logically) are the ones that can distinguish things best\n",
    "* we don't start out knowing things; Heraclitus would say we don't have knowledge of things at all until we understand the structures\n",
    "* Aristotle: we don't understand the tree until we understand the principle that govern the tree, what its elements/parts are\n",
    "* part-whole relation\n",
    "* scientific knowledge\n",
    "\n",
    "through the particular experiences that you have\n",
    "* knowledge of principles\n",
    "* from less clear by nature, more clear to us\n",
    "* the standard for clarity is not in me; it is set by the things, by nature\n",
    "* experience makes knowledge possible, experiences come through our senses\n",
    "* principles, causes, elements of things set the standard\n",
    "\n",
    "posterior analytics\n",
    "* knowing things in two ways: we either possess knowledge of things a priori (or we derive knowledge from things we already know), or we learn things\n",
    "* Aristotle: we do not have prior knowledge\n",
    "* how do you know the premises\n",
    "* everything depends on me being able to learn\n",
    "* animals, humans perceive things and distinguish them; some remember\n",
    "* 99B36\n",
    "* knowledge is just perception for animals without memory\n",
    "* an account, a logos arises from knowledge as difference; memories clump together, differentiate themselves from others\n",
    "* memory of the same thing occurring many times yields experience; past experience is a part of my perception of things"
   ]
  },
  {
   "attachments": {},
   "cell_type": "markdown",
   "metadata": {},
   "source": [
    "[T 04/18]\n",
    "\n",
    "spontaneity, the automatic, is ongoing\n",
    "\n",
    "there are reasons why the tree fell\n",
    "\n",
    "by chance/fortune, an aspect of those automatic material processes\n",
    "\n",
    "discourse about material processes vs discourse about\n",
    "\n",
    "motivation,goal involved in chance, not involved in spontaneity\n",
    "\n",
    "chance, framing in terms of purposes\n",
    "\n",
    "is it possible to understand things without goals/purposes?\n",
    "\n",
    "teleological thinking, thinking about goals, part of biological thinking\n",
    "\n",
    "the four main ways of being\n",
    "* essential vs incidental\n",
    "  * ti esti [the what; what it is; essence] symbebekost [attribute; that which comes along with]\n",
    "* categorical, subject vs predicate\n",
    "  * categorein\n",
    "* activity and capacity\n",
    "  * energeia [in work; being at work; activity; actuality]\n",
    "  * dynamis [potential; potency; capacity; possibility]\n",
    "  * entelexeia [completion; perfection; actuality]\n",
    "* aletheia [truth]\n",
    "\n",
    "MOTION,CHANGE\n",
    "\n",
    "492\n",
    "\n",
    "Nature is a source of movement\n",
    "* what hinges on the definition of motion; what would it change about nature?\n",
    "\n",
    "god can just actually be\n",
    "\n",
    "entelexeia, aristotle can't mean actuality; he must mean actualization\n",
    "* the opposite of change: completed\n",
    "* change, but not motion?\n",
    "energeia\n",
    "\n",
    "kinesis\n",
    "* broader sense: change in general\n",
    "* narrower sense: motion in place\n",
    "\n",
    "change in all the other categories, including change in place: CHANGE IN GENERAL\n",
    "\n",
    "Ross\n",
    "\n",
    "Kosman\n",
    "\n",
    "entelexeia to dynamientos hei kinesis estin?\n",
    "\n",
    "entelexeia to dynamientos hei dynamis\n",
    "\n",
    "change is the completion of what is potent as potent\n",
    "\n",
    "1. the potency of something to be something: change is the completion of that thing's ability to that thing\n",
    "2. change is the completion of its ability to move\n",
    "\n",
    "what is it potent for? what is it capable of?"
   ]
  },
  {
   "attachments": {},
   "cell_type": "markdown",
   "metadata": {},
   "source": [
    "---"
   ]
  },
  {
   "attachments": {},
   "cell_type": "markdown",
   "metadata": {},
   "source": [
    "## Bibliography"
   ]
  },
  {
   "attachments": {},
   "cell_type": "markdown",
   "metadata": {},
   "source": [
    "Cohen, S. Marc; Patricia Curd; & C. D. C. Reeve (eds). (2016). _Readings in Ancient Greek Philosophy from Thales to Aristotle_. 5th Ed. Hackett.\n",
    "\n",
    "Sachs, Joe. (2002). _Aristotle's Metaphysics_. Green Lion Press."
   ]
  },
  {
   "attachments": {},
   "cell_type": "markdown",
   "metadata": {},
   "source": [
    "---"
   ]
  }
 ],
 "metadata": {
  "language_info": {
   "name": "python"
  },
  "orig_nbformat": 4
 },
 "nbformat": 4,
 "nbformat_minor": 2
}
