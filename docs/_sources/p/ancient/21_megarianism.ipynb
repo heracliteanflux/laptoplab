{
 "cells": [
  {
   "cell_type": "markdown",
   "metadata": {},
   "source": [
    "# The Megarians and Dialectic"
   ]
  },
  {
   "cell_type": "markdown",
   "metadata": {},
   "source": [
    "---"
   ]
  },
  {
   "cell_type": "markdown",
   "metadata": {},
   "source": [
    "```{admonition} Revised\n",
    "03 Aug 2023\n",
    "```\n",
    "```{contents}\n",
    "```"
   ]
  },
  {
   "cell_type": "markdown",
   "metadata": {},
   "source": [
    "---"
   ]
  },
  {
   "cell_type": "markdown",
   "metadata": {},
   "source": [
    "## Figures"
   ]
  },
  {
   "cell_type": "markdown",
   "metadata": {},
   "source": [
    "[[W](https://en.wikipedia.org/wiki/Euclid_of_Megara)] εὐκλείδης Euclid of Megara (435-365) < Socrates\n",
    "\n",
    "[[W](https://en.wikipedia.org/wiki/Ichthyas)] ἰχθύας Ichthyas (4th century)\n",
    "\n",
    "[[W](https://en.wikipedia.org/wiki/Stilpo)] στίλπων Stilpo (360-280)\n",
    "\n",
    "[[W](https://en.wikipedia.org/wiki/Clinomachus)] kλεινόμαχος Clinomachus (4th century)\n",
    "\n",
    "[[W](https://en.wikipedia.org/wiki/Eubulides)] εὑβουλίδης Eubilides of Miletus (4th century)\n",
    "\n",
    "[[W](https://en.wikipedia.org/wiki/Diodorus_Cronus)] διόδωρος κρόνος Diodorus Cronus (3rd century)\n",
    "\n",
    "[[W](https://en.wikipedia.org/wiki/Philo_the_Dialectician)] φίλων Philo (3rd century)"
   ]
  },
  {
   "cell_type": "markdown",
   "metadata": {},
   "source": [
    "---"
   ]
  },
  {
   "cell_type": "markdown",
   "metadata": {},
   "source": [
    "## Terms"
   ]
  },
  {
   "cell_type": "markdown",
   "metadata": {},
   "source": [
    "* [[W](https://en.wikipedia.org/wiki/Dialectic)] Dialectic διαλεκτική\n",
    "* [[W](https://en.wikipedia.org/wiki/Megarian_school)] Dialectics\n",
    "* [[W](https://en.wikipedia.org/wiki/Megarian_school)] Megarians\n",
    "* [[W](https://en.wikipedia.org/wiki/Sorites_paradox)] Sorites Paradox σωρείτης < σωρός \"heap\""
   ]
  },
  {
   "cell_type": "markdown",
   "metadata": {},
   "source": [
    "---"
   ]
  }
 ],
 "metadata": {
  "language_info": {
   "name": "python"
  },
  "orig_nbformat": 4
 },
 "nbformat": 4,
 "nbformat_minor": 2
}
