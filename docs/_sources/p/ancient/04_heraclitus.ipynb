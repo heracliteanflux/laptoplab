{
 "cells": [
  {
   "attachments": {},
   "cell_type": "markdown",
   "metadata": {},
   "source": [
    "# Heraclitus"
   ]
  },
  {
   "attachments": {},
   "cell_type": "markdown",
   "metadata": {},
   "source": [
    "---"
   ]
  },
  {
   "attachments": {},
   "cell_type": "markdown",
   "metadata": {},
   "source": [
    "```{admonition} Revised\n",
    "12 Jul 2023\n",
    "```\n",
    "```{contents}\n",
    "```"
   ]
  },
  {
   "attachments": {},
   "cell_type": "markdown",
   "metadata": {},
   "source": [
    "---"
   ]
  },
  {
   "cell_type": "markdown",
   "metadata": {},
   "source": [
    "## Fragments\n",
    "Kahn, Charles. (1979). _The Art and Thought of Heraclitus: A New Arrangement and Translation of the Fragments_. Cambridge: Cambridge University Press."
   ]
  },
  {
   "cell_type": "markdown",
   "metadata": {},
   "source": [
    "### The hidden or esoteric nature of real knowledge"
   ]
  },
  {
   "cell_type": "markdown",
   "metadata": {},
   "source": [
    "##### 1"
   ]
  },
  {
   "cell_type": "markdown",
   "metadata": {},
   "source": [
    "Although this account holds forever, men ever fail to comprehend, both before hearing it and once they have heard.\n",
    "\n",
    "Although all things come to pass in accordance with this account, men are like the untried when they try such words and works as I set forth, distinguishing each according to its nature and telling how it is.\n",
    "\n",
    "But other men are oblivious of what they do awake, just as they are forgetful of what they do asleep."
   ]
  },
  {
   "cell_type": "markdown",
   "metadata": {},
   "source": [
    "##### 2"
   ]
  },
  {
   "cell_type": "markdown",
   "metadata": {},
   "source": [
    "Not comprehending, they hear like the deaf.\n",
    "\n",
    "The saying is their witness: absent while present."
   ]
  },
  {
   "cell_type": "markdown",
   "metadata": {},
   "source": [
    "##### 3"
   ]
  },
  {
   "cell_type": "markdown",
   "metadata": {},
   "source": [
    "Although the account is shared, most men live as though their thinking were a private possession."
   ]
  },
  {
   "cell_type": "markdown",
   "metadata": {},
   "source": [
    "##### 4"
   ]
  },
  {
   "cell_type": "markdown",
   "metadata": {},
   "source": [
    "Most men do not think things in the way they encounter them, nor do they recognize what they experience, but believe their own opinions."
   ]
  },
  {
   "cell_type": "markdown",
   "metadata": {},
   "source": [
    "##### 5"
   ]
  },
  {
   "cell_type": "markdown",
   "metadata": {},
   "source": [
    "Men forget where the way leads...And they are at odds with that with which they most constantly associate.\n",
    "\n",
    "And what they meet with every day seems strange to them...We should not act and speak like men asleep."
   ]
  },
  {
   "cell_type": "markdown",
   "metadata": {},
   "source": [
    "##### 6"
   ]
  },
  {
   "cell_type": "markdown",
   "metadata": {},
   "source": [
    "The world of the waking is one and shared, but the sleeping turn aside each into his private world."
   ]
  },
  {
   "cell_type": "markdown",
   "metadata": {},
   "source": [
    "##### 7"
   ]
  },
  {
   "cell_type": "markdown",
   "metadata": {},
   "source": [
    "He who does not expect will not find out the unexpected, for it is trackless and unexplored."
   ]
  },
  {
   "cell_type": "markdown",
   "metadata": {},
   "source": [
    "##### 8"
   ]
  },
  {
   "cell_type": "markdown",
   "metadata": {},
   "source": [
    "Seekers of gold dig up much earth and find little."
   ]
  },
  {
   "cell_type": "markdown",
   "metadata": {},
   "source": [
    "##### 9"
   ]
  },
  {
   "cell_type": "markdown",
   "metadata": {},
   "source": [
    "Men who love wisdom must be good inquirers into many things indeed."
   ]
  },
  {
   "cell_type": "markdown",
   "metadata": {},
   "source": [
    "##### 10"
   ]
  },
  {
   "cell_type": "markdown",
   "metadata": {},
   "source": [
    "Nature loves to hide."
   ]
  },
  {
   "cell_type": "markdown",
   "metadata": {},
   "source": [
    "##### 11"
   ]
  },
  {
   "cell_type": "markdown",
   "metadata": {},
   "source": [
    "Let us not concur casually about the most important matters."
   ]
  },
  {
   "cell_type": "markdown",
   "metadata": {},
   "source": [
    "##### 12"
   ]
  },
  {
   "cell_type": "markdown",
   "metadata": {},
   "source": [
    "In taking the poets as testimony for things unknown, they are citing authorities that cannot be trusted."
   ]
  },
  {
   "cell_type": "markdown",
   "metadata": {},
   "source": [
    "##### 13"
   ]
  },
  {
   "cell_type": "markdown",
   "metadata": {},
   "source": [
    "We should not listen like children to their parents."
   ]
  },
  {
   "cell_type": "markdown",
   "metadata": {},
   "source": [
    "##### 14"
   ]
  },
  {
   "cell_type": "markdown",
   "metadata": {},
   "source": [
    "Whatever comes from sight, hearing, learning from experience: this I prefer."
   ]
  },
  {
   "cell_type": "markdown",
   "metadata": {},
   "source": [
    "##### 15"
   ]
  },
  {
   "cell_type": "markdown",
   "metadata": {},
   "source": [
    "Eyes are surer witnesses than ears."
   ]
  },
  {
   "cell_type": "markdown",
   "metadata": {},
   "source": [
    "##### 16"
   ]
  },
  {
   "cell_type": "markdown",
   "metadata": {},
   "source": [
    "Eyes and ears are poor witnesses for men if their souls do not understand the language."
   ]
  },
  {
   "cell_type": "markdown",
   "metadata": {},
   "source": [
    "##### 17"
   ]
  },
  {
   "cell_type": "markdown",
   "metadata": {},
   "source": [
    "Not knowing how to listen, neither can they speak."
   ]
  },
  {
   "cell_type": "markdown",
   "metadata": {},
   "source": [
    "##### 18"
   ]
  },
  {
   "cell_type": "markdown",
   "metadata": {},
   "source": [
    "Much learning does not teach understanding.\n",
    "\n",
    "For it would have taught Hesiod and Pythagoras, and also Xenophanes and Hecataeus."
   ]
  },
  {
   "cell_type": "markdown",
   "metadata": {},
   "source": [
    "##### 19"
   ]
  },
  {
   "cell_type": "markdown",
   "metadata": {},
   "source": [
    "The teacher of most is Hesiod.\n",
    "\n",
    "It is him they know as knowing most who did not recognize day and night: they are one."
   ]
  },
  {
   "cell_type": "markdown",
   "metadata": {},
   "source": [
    "##### 20"
   ]
  },
  {
   "cell_type": "markdown",
   "metadata": {},
   "source": [
    "Hesiod counted some days as good, others as bad, because he did not recognize that the nature of every day is one and the same."
   ]
  },
  {
   "cell_type": "markdown",
   "metadata": {},
   "source": [
    "##### 21"
   ]
  },
  {
   "cell_type": "markdown",
   "metadata": {},
   "source": [
    "Homer deserves to be expelled from the competition and beaten with a staff--and Archilochus too!"
   ]
  },
  {
   "cell_type": "markdown",
   "metadata": {},
   "source": [
    "##### 22"
   ]
  },
  {
   "cell_type": "markdown",
   "metadata": {},
   "source": [
    "Men are deceived in the recognition of what is obvious, like Homer who was wisest of all the Greeks.\n",
    "\n",
    "For he was deceived by boys killing lice, who said: what we see and catch we leave behind; what we neither see nor catch we carry away.\n",
    "\n",
    "<p style=\"color: #6699CC; font-family: 'Courier New'; font-size: 16px;\">\n",
    "This fragment by Heraclitus is often interpreted as a commentary on the nature of perception and human understanding.\n",
    "<br><br>\"Men are deceived in the recognition of what is obvious\": This suggests that people often fail to understand or grasp things that are apparent or evident. It implies that despite the presence of obvious truths or realities, humans may still be deceived or misguided in their perceptions.\n",
    "<br><br>\"Like Homer who was wisest of all the Greeks\": Heraclitus refers to the poet Homer, renowned for his epic works like the Iliad and the Odyssey, who was considered the wisest among the Greeks. However, even Homer, the epitome of wisdom, was subject to deception.\n",
    "<br><br>\"For he was deceived by boys killing lice, who said: what we see and catch we leave behind; what we neither see nor catch we carry away\": This particular example provided by Heraclitus involves boys killing lice. The boys claim that they leave behind what they see and catch (the lice), but they carry away what they neither see nor catch (the remaining lice). This statement reflects a paradoxical situation.\n",
    "<br><br>The interpretation of this fragment varies, but it generally suggests that people can be deceived by focusing on immediate and tangible aspects while overlooking more profound or hidden truths. It underscores the limitation of relying solely on sensory perception and encourages a deeper understanding of the world beyond what is immediately visible.\n",
    "<br><br>Heraclitus may be highlighting the need to look beyond the surface and consider the underlying principles and causes that govern reality. This fragment aligns with Heraclitus' overall philosophical outlook, which emphasized the constant flux and interconnectedness of the universe and the importance of understanding the underlying unity amidst apparent diversity.\n",
    "</p>"
   ]
  },
  {
   "cell_type": "markdown",
   "metadata": {},
   "source": [
    "##### 23"
   ]
  },
  {
   "cell_type": "markdown",
   "metadata": {},
   "source": [
    "Pythagoras son of Mnesarchus pursued inquiry further than all other men and, choosing what he like from these compositions, made a wisdom of his own: much learning, artful knavery.\n",
    "\n",
    "<p style=\"color: #6699CC; font-family: 'Courier New'; font-size: 16px;\">\n",
    "This fragment attributed to Heraclitus is a statement about Pythagoras, the ancient Greek philosopher and mathematician.\n",
    "<br><br>\"Pythagoras son of Mnesarchus pursued inquiry further than all other men\": This part acknowledges Pythagoras' exceptional dedication to intellectual inquiry and exploration. It suggests that Pythagoras went beyond the achievements of other individuals in his pursuit of knowledge.\n",
    "<br><br>\"Choosing what he liked from these compositions, made a wisdom of his own\": This phrase implies that Pythagoras drew from various sources and philosophical traditions, selecting and integrating elements that resonated with him. He formulated his own unique wisdom by synthesizing these diverse influences.\n",
    "<br><br>\"Much learning, artful knavery\": This concluding statement is open to interpretation and can be understood in different ways. One possible interpretation is that Pythagoras' wisdom was characterized by a combination of extensive knowledge (\"much learning\") and clever or cunning manipulation (\"artful knavery\"). This suggests that Pythagoras possessed not only intellectual depth but also strategic or manipulative skills in promoting his ideas.\n",
    "<br><br>Another interpretation is that \"artful knavery\" is used metaphorically to describe Pythagoras' ability to navigate the complexities of philosophical and intellectual pursuits. It suggests that he was skillful in presenting and defending his ideas, employing rhetoric and persuasion to further his philosophical goals.\n",
    "<br><br>Overall, this fragment highlights Pythagoras' exceptional intellectual pursuits, his ability to forge his own wisdom from diverse sources, and possibly acknowledges his resourcefulness or persuasive tactics. It offers insight into the complexity and depth of Pythagoras' philosophical approach. \n",
    "</p>"
   ]
  },
  {
   "cell_type": "markdown",
   "metadata": {},
   "source": [
    "##### 24"
   ]
  },
  {
   "cell_type": "markdown",
   "metadata": {},
   "source": [
    "Pythagoras was the prince of imposters."
   ]
  },
  {
   "cell_type": "markdown",
   "metadata": {},
   "source": [
    "##### 25"
   ]
  },
  {
   "cell_type": "markdown",
   "metadata": {},
   "source": [
    "Of all those whose accounts I have heard, none has gone so far as this: to recognize what is wise, set apart from all.\n",
    "\n",
    "<p style=\"color: #6699CC; font-family: 'Courier New'; font-size: 16px;\">\n",
    "This fragment from Heraclitus reflects his perspective on wisdom and the rarity of individuals who possess true wisdom.\n",
    "<br><br>\"Of all those whose accounts I have heard, none has gone so far as this\": This phrase indicates that Heraclitus has encountered various accounts or explanations from different individuals. It suggests that he has listened to the ideas and perspectives of others in his quest for understanding.\n",
    "<br><br>\"To recognize what is wise, set apart from all\": This statement emphasizes the exceptional nature of true wisdom. Heraclitus asserts that among all the accounts he has heard, none has reached the level of recognizing what is genuinely wise. This implies that he has encountered many opinions and philosophies but has not encountered a comprehensive understanding of true wisdom that sets it apart from all other perspectives.\n",
    "<br><br>This fragment can be interpreted as Heraclitus expressing his dissatisfaction with the prevailing accounts or explanations of wisdom that he has come across. It suggests that he believes true wisdom is a rare and elusive quality, not easily attained or comprehended by most individuals.\n",
    "<br><br>Heraclitus' philosophical approach often emphasized the importance of deep insight and understanding of the underlying principles governing the universe. It is likely that he sought a profound understanding of wisdom that transcended conventional knowledge and superficial explanations.\n",
    "<br><br>Overall, this fragment underscores Heraclitus' pursuit of true wisdom and his recognition that it is a rare quality that goes beyond conventional accounts or explanations. It highlights his commitment to seeking a deeper understanding of the fundamental nature of wisdom.\n",
    "</p>"
   ]
  },
  {
   "cell_type": "markdown",
   "metadata": {},
   "source": [
    "##### 26"
   ]
  },
  {
   "cell_type": "markdown",
   "metadata": {},
   "source": [
    "I went in search of myself."
   ]
  },
  {
   "cell_type": "markdown",
   "metadata": {},
   "source": [
    "##### 27"
   ]
  },
  {
   "cell_type": "markdown",
   "metadata": {},
   "source": [
    "It belongs to all men to know themselves and to think well."
   ]
  },
  {
   "cell_type": "markdown",
   "metadata": {},
   "source": [
    "##### 28"
   ]
  },
  {
   "cell_type": "markdown",
   "metadata": {},
   "source": [
    "Speaking with understanding they must hold fast to what is shared by all, as a city holds to its law, and even more firmly.\n",
    "\n",
    "For all human laws are nourished by a divine one.\n",
    "\n",
    "It prevails as it will and suffices for all and is more than enough."
   ]
  },
  {
   "cell_type": "markdown",
   "metadata": {},
   "source": [
    "##### 29"
   ]
  },
  {
   "cell_type": "markdown",
   "metadata": {},
   "source": [
    "Thinking is shared by all."
   ]
  },
  {
   "cell_type": "markdown",
   "metadata": {},
   "source": [
    "##### 30"
   ]
  },
  {
   "cell_type": "markdown",
   "metadata": {},
   "source": [
    "Thinking well is the greatest excellence and wisdom: to act and speak what is true, perceiving things according to their nature."
   ]
  },
  {
   "cell_type": "markdown",
   "metadata": {},
   "source": [
    "##### 31"
   ]
  },
  {
   "cell_type": "markdown",
   "metadata": {},
   "source": [
    "The lord whose oracle is in Delphi neither declares nor conceals, but gives a sign."
   ]
  },
  {
   "cell_type": "markdown",
   "metadata": {},
   "source": [
    "##### 32"
   ]
  },
  {
   "cell_type": "markdown",
   "metadata": {},
   "source": [
    "You will not find out the limits of the soul by going, even if you travel over every way, so deep is its report."
   ]
  },
  {
   "cell_type": "markdown",
   "metadata": {},
   "source": [
    "##### 33"
   ]
  },
  {
   "cell_type": "markdown",
   "metadata": {},
   "source": [
    "It is wise, listening not to me but to the report, to agree that all things are one."
   ]
  },
  {
   "cell_type": "markdown",
   "metadata": {},
   "source": [
    "### Natural philosophy; the general law of nature; fire; change"
   ]
  },
  {
   "cell_type": "markdown",
   "metadata": {},
   "source": [
    "##### 34"
   ]
  },
  {
   "cell_type": "markdown",
   "metadata": {},
   "source": [
    "The ordering, the same for all, no god nor man has made, but it ever was and is and will be: fire everliving, kindled in measures and in measures going out."
   ]
  },
  {
   "cell_type": "markdown",
   "metadata": {},
   "source": [
    "##### 35"
   ]
  },
  {
   "cell_type": "markdown",
   "metadata": {},
   "source": [
    "The reversals of fire: first sea; but of sea half is earth, half lightning storm."
   ]
  },
  {
   "cell_type": "markdown",
   "metadata": {},
   "source": [
    "##### 36"
   ]
  },
  {
   "cell_type": "markdown",
   "metadata": {},
   "source": [
    "Sea pours out < from earth >, and it measures up to the same amount it was before becoming earth."
   ]
  },
  {
   "cell_type": "markdown",
   "metadata": {},
   "source": [
    "##### 37"
   ]
  },
  {
   "cell_type": "markdown",
   "metadata": {},
   "source": [
    "All things are requital for fire, and fire for all things, as goods for gold and gold for goods."
   ]
  },
  {
   "cell_type": "markdown",
   "metadata": {},
   "source": [
    "##### 38"
   ]
  },
  {
   "cell_type": "markdown",
   "metadata": {},
   "source": [
    "The death of fire is birth for air, and the death of air is birth for water."
   ]
  },
  {
   "cell_type": "markdown",
   "metadata": {},
   "source": [
    "##### 39"
   ]
  },
  {
   "cell_type": "markdown",
   "metadata": {},
   "source": [
    "The sun is overseer and sentinel of cycles, for determining the changes and the seasons which bring all things to birth."
   ]
  },
  {
   "cell_type": "markdown",
   "metadata": {},
   "source": [
    "##### 40"
   ]
  },
  {
   "cell_type": "markdown",
   "metadata": {},
   "source": [
    "There is a certain order and fixed time for the change of the cosmos in accordance with some fated necessity."
   ]
  },
  {
   "cell_type": "markdown",
   "metadata": {},
   "source": [
    "##### 41"
   ]
  },
  {
   "cell_type": "markdown",
   "metadata": {},
   "source": [
    "The sun will not transgress his measures.\n",
    "\n",
    "If he does, the Furies, ministers of Justice, will find him out."
   ]
  },
  {
   "cell_type": "markdown",
   "metadata": {},
   "source": [
    "##### 42"
   ]
  },
  {
   "cell_type": "markdown",
   "metadata": {},
   "source": [
    "The limits of Dawn and Evening is the Bear; and, opposite the Bear, the Warder of luminous Zeus."
   ]
  },
  {
   "cell_type": "markdown",
   "metadata": {},
   "source": [
    "##### 43"
   ]
  },
  {
   "cell_type": "markdown",
   "metadata": {},
   "source": [
    "If there were no sun, it would be night."
   ]
  },
  {
   "cell_type": "markdown",
   "metadata": {},
   "source": [
    "##### 44"
   ]
  },
  {
   "cell_type": "markdown",
   "metadata": {},
   "source": [
    "The sun is the size of a human foot."
   ]
  },
  {
   "cell_type": "markdown",
   "metadata": {},
   "source": [
    "##### 45"
   ]
  },
  {
   "cell_type": "markdown",
   "metadata": {},
   "source": [
    "The sun is new every day."
   ]
  },
  {
   "cell_type": "markdown",
   "metadata": {},
   "source": [
    "##### 46"
   ]
  },
  {
   "cell_type": "markdown",
   "metadata": {},
   "source": [
    "Cold warms up, warm cools off, moist parches, dry dampens."
   ]
  },
  {
   "cell_type": "markdown",
   "metadata": {},
   "source": [
    "##### 47"
   ]
  },
  {
   "cell_type": "markdown",
   "metadata": {},
   "source": [
    "As they step into the same rivers, other and still other waters flow upon them."
   ]
  },
  {
   "cell_type": "markdown",
   "metadata": {},
   "source": [
    "##### 48"
   ]
  },
  {
   "cell_type": "markdown",
   "metadata": {},
   "source": [
    "One cannot step twice into the same river, nor can one grasp any mortal substance in a stable condition, but it scatters and again gathers; it forms and dissolves, and approaches and departs."
   ]
  },
  {
   "cell_type": "markdown",
   "metadata": {},
   "source": [
    "##### 49"
   ]
  },
  {
   "cell_type": "markdown",
   "metadata": {},
   "source": [
    "It rests by changing."
   ]
  },
  {
   "cell_type": "markdown",
   "metadata": {},
   "source": [
    "##### 50"
   ]
  },
  {
   "cell_type": "markdown",
   "metadata": {},
   "source": [
    "It is weariness to toil at the same tasks and be always beginning."
   ]
  },
  {
   "cell_type": "markdown",
   "metadata": {},
   "source": [
    "##### 51"
   ]
  },
  {
   "cell_type": "markdown",
   "metadata": {},
   "source": [
    "The wise is one, knowing the plan by which it steers all things through all."
   ]
  },
  {
   "cell_type": "markdown",
   "metadata": {},
   "source": [
    "##### 52"
   ]
  },
  {
   "cell_type": "markdown",
   "metadata": {},
   "source": [
    "Human nature has no set purpose, but the divine has."
   ]
  },
  {
   "cell_type": "markdown",
   "metadata": {},
   "source": [
    "### Other fragments"
   ]
  },
  {
   "cell_type": "markdown",
   "metadata": {},
   "source": [
    "##### 53"
   ]
  },
  {
   "cell_type": "markdown",
   "metadata": {},
   "source": [
    "The most beautiful of apes is ugly in comparison with the race of man; the wisest of men seems an ape in comparison to a god."
   ]
  },
  {
   "cell_type": "markdown",
   "metadata": {},
   "source": [
    "##### 54"
   ]
  },
  {
   "cell_type": "markdown",
   "metadata": {},
   "source": [
    "A man is found foolish by a god, as a child by a man."
   ]
  },
  {
   "cell_type": "markdown",
   "metadata": {},
   "source": [
    "##### 55"
   ]
  },
  {
   "cell_type": "markdown",
   "metadata": {},
   "source": [
    "Human opinions are toys for children."
   ]
  },
  {
   "cell_type": "markdown",
   "metadata": {},
   "source": [
    "##### 56"
   ]
  },
  {
   "cell_type": "markdown",
   "metadata": {},
   "source": [
    "What wit or understanding do they have?\n",
    "\n",
    "They believe the poets of the people and take the mob as their teacher, not knowing that 'the many are worthless', good men are few."
   ]
  },
  {
   "cell_type": "markdown",
   "metadata": {},
   "source": [
    "##### 57"
   ]
  },
  {
   "cell_type": "markdown",
   "metadata": {},
   "source": [
    "A fool loves to get excited on any account."
   ]
  },
  {
   "cell_type": "markdown",
   "metadata": {},
   "source": [
    "##### 58"
   ]
  },
  {
   "cell_type": "markdown",
   "metadata": {},
   "source": [
    "Dogs bark at those they do not recognize."
   ]
  },
  {
   "cell_type": "markdown",
   "metadata": {},
   "source": [
    "##### 59"
   ]
  },
  {
   "cell_type": "markdown",
   "metadata": {},
   "source": [
    "In Priene lived Bias son of Teutames, who is of more account than the rest."
   ]
  },
  {
   "cell_type": "markdown",
   "metadata": {},
   "source": [
    "##### 60"
   ]
  },
  {
   "cell_type": "markdown",
   "metadata": {},
   "source": [
    "What the Ephesians deserve is to be hanged to the last man, every one of them, and leave the city to the boys, since they drove out their best man, Hermodorus, saying 'Let no one be the best among us; if he is, let him be so elsewhere and among others'."
   ]
  },
  {
   "cell_type": "markdown",
   "metadata": {},
   "source": [
    "##### 61"
   ]
  },
  {
   "cell_type": "markdown",
   "metadata": {},
   "source": [
    "One man is ten thousand, if he is the best."
   ]
  },
  {
   "cell_type": "markdown",
   "metadata": {},
   "source": [
    "##### 62"
   ]
  },
  {
   "cell_type": "markdown",
   "metadata": {},
   "source": [
    "The people must fight for the law as for their city wall."
   ]
  },
  {
   "cell_type": "markdown",
   "metadata": {},
   "source": [
    "##### 63"
   ]
  },
  {
   "cell_type": "markdown",
   "metadata": {},
   "source": [
    "It is law also to obey the counsel of one."
   ]
  },
  {
   "cell_type": "markdown",
   "metadata": {},
   "source": [
    "##### 64"
   ]
  },
  {
   "cell_type": "markdown",
   "metadata": {},
   "source": [
    "It is not better for human beings to get all they want.\n",
    "\n",
    "It is disease that makes health sweet and good, hunger satiety, weariness rest."
   ]
  },
  {
   "cell_type": "markdown",
   "metadata": {},
   "source": [
    "##### 65"
   ]
  },
  {
   "cell_type": "markdown",
   "metadata": {},
   "source": [
    "For god all things are fair and good and just, but men have taken some things as unjust, others as just."
   ]
  },
  {
   "cell_type": "markdown",
   "metadata": {},
   "source": [
    "##### 66"
   ]
  },
  {
   "cell_type": "markdown",
   "metadata": {},
   "source": [
    "If it were not for these things, they would not have known the name of Justice."
   ]
  },
  {
   "cell_type": "markdown",
   "metadata": {},
   "source": [
    "##### 67"
   ]
  },
  {
   "cell_type": "markdown",
   "metadata": {},
   "source": [
    "The sea is the purest and foulest water: for fish drinkable and life-sustaining; for men undrinkable and deadly."
   ]
  },
  {
   "cell_type": "markdown",
   "metadata": {},
   "source": [
    "##### 68"
   ]
  },
  {
   "cell_type": "markdown",
   "metadata": {},
   "source": [
    "Asses prefer garbage to gold."
   ]
  },
  {
   "cell_type": "markdown",
   "metadata": {},
   "source": [
    "##### 69"
   ]
  },
  {
   "cell_type": "markdown",
   "metadata": {},
   "source": [
    "Swine delight in mire more than clean water; chickens bathe in dust."
   ]
  },
  {
   "cell_type": "markdown",
   "metadata": {},
   "source": [
    "##### 70"
   ]
  },
  {
   "cell_type": "markdown",
   "metadata": {},
   "source": [
    "Doctors who cut and burn and torture their patients in every way complain that they do not receive the reward they deserve."
   ]
  },
  {
   "cell_type": "markdown",
   "metadata": {},
   "source": [
    "##### 71"
   ]
  },
  {
   "cell_type": "markdown",
   "metadata": {},
   "source": [
    "The path of the carding wheels is straight and crooked."
   ]
  },
  {
   "cell_type": "markdown",
   "metadata": {},
   "source": [
    "##### 72 - conflict and attunement"
   ]
  },
  {
   "cell_type": "markdown",
   "metadata": {},
   "source": [
    "The counter-thrust brings together, and from tones at variance comes perfect attunement, and all things come to pass through conflict."
   ]
  },
  {
   "cell_type": "markdown",
   "metadata": {},
   "source": [
    "##### 73"
   ]
  },
  {
   "cell_type": "markdown",
   "metadata": {},
   "source": [
    "All beasts are driven by blows."
   ]
  },
  {
   "cell_type": "markdown",
   "metadata": {},
   "source": [
    "##### 74"
   ]
  },
  {
   "cell_type": "markdown",
   "metadata": {},
   "source": [
    "Even the potion separates unless it is stirred."
   ]
  },
  {
   "cell_type": "markdown",
   "metadata": {},
   "source": [
    "##### 75 - the bow and the lyre"
   ]
  },
  {
   "cell_type": "markdown",
   "metadata": {},
   "source": [
    "They do not comprehend how a thing agrees at variance with itself; it is an attunement turning back on itself, like that of the bow and the lyre."
   ]
  },
  {
   "cell_type": "markdown",
   "metadata": {},
   "source": [
    "##### 76 - life's work is death"
   ]
  },
  {
   "cell_type": "markdown",
   "metadata": {},
   "source": [
    "The name of the bow is life; its work is death."
   ]
  },
  {
   "cell_type": "markdown",
   "metadata": {},
   "source": [
    "##### 77"
   ]
  },
  {
   "cell_type": "markdown",
   "metadata": {},
   "source": [
    "The hidden attunement is better than the obvious one."
   ]
  },
  {
   "cell_type": "markdown",
   "metadata": {},
   "source": [
    "##### 78"
   ]
  },
  {
   "cell_type": "markdown",
   "metadata": {},
   "source": [
    "Homer was wrong when he said 'Would that Conflict might vanish from among gods and men!'\n",
    "\n",
    "For there would be no attunement without high and low notes nor any animals without male and female, both of which are opposites."
   ]
  },
  {
   "cell_type": "markdown",
   "metadata": {},
   "source": [
    "##### 79"
   ]
  },
  {
   "cell_type": "markdown",
   "metadata": {},
   "source": [
    "One must realize that war is shared and Conflict is Justice, and that all things come to pass (and are ordained?) in accordance with conflict."
   ]
  },
  {
   "cell_type": "markdown",
   "metadata": {},
   "source": [
    "##### 80"
   ]
  },
  {
   "cell_type": "markdown",
   "metadata": {},
   "source": [
    "War is father of all and king of all; and some he has shown as gods, others men; some he has made slaves, other free."
   ]
  },
  {
   "cell_type": "markdown",
   "metadata": {},
   "source": [
    "##### 81"
   ]
  },
  {
   "cell_type": "markdown",
   "metadata": {},
   "source": [
    "What awaits men at death they do not expect or even imagine."
   ]
  },
  {
   "cell_type": "markdown",
   "metadata": {},
   "source": [
    "##### 82"
   ]
  },
  {
   "cell_type": "markdown",
   "metadata": {},
   "source": [
    "The great man is eminent in imagining things, and on this he hangs his reputation for knowing it all."
   ]
  },
  {
   "cell_type": "markdown",
   "metadata": {},
   "source": [
    "##### 83"
   ]
  },
  {
   "cell_type": "markdown",
   "metadata": {},
   "source": [
    "Incredibility escapes recognition."
   ]
  },
  {
   "cell_type": "markdown",
   "metadata": {},
   "source": [
    "##### 84"
   ]
  },
  {
   "cell_type": "markdown",
   "metadata": {},
   "source": [
    "Justice will catch up with those who invent lies and those who swear to them."
   ]
  },
  {
   "cell_type": "markdown",
   "metadata": {},
   "source": [
    "##### 85"
   ]
  },
  {
   "cell_type": "markdown",
   "metadata": {},
   "source": [
    "Corpses should be thrown out quicker than dung."
   ]
  },
  {
   "cell_type": "markdown",
   "metadata": {},
   "source": [
    "##### 86"
   ]
  },
  {
   "cell_type": "markdown",
   "metadata": {},
   "source": [
    "Death is all things we see awake; all we see asleep is sleep."
   ]
  },
  {
   "cell_type": "markdown",
   "metadata": {},
   "source": [
    "##### 87"
   ]
  },
  {
   "cell_type": "markdown",
   "metadata": {},
   "source": [
    "A man strikes a light for himself in the night, when his sight is quenched.\n",
    "\n",
    "Living, he touches the dead in his sleep; waking, he touches the sleeper."
   ]
  },
  {
   "cell_type": "markdown",
   "metadata": {},
   "source": [
    "##### 88"
   ]
  },
  {
   "cell_type": "markdown",
   "metadata": {},
   "source": [
    "Men asleep are laborers and coworkers in what takes place in the world."
   ]
  },
  {
   "cell_type": "markdown",
   "metadata": {},
   "source": [
    "##### 89"
   ]
  },
  {
   "cell_type": "markdown",
   "metadata": {},
   "source": [
    "Immortals are mortal, mortals immortal, living the others' death, dead in the others' life."
   ]
  },
  {
   "cell_type": "markdown",
   "metadata": {},
   "source": [
    "##### 90"
   ]
  },
  {
   "cell_type": "markdown",
   "metadata": {},
   "source": [
    "The same...: living and dead, and the waking and the sleeping, and young and old.\n",
    "\n",
    "For these transposed are those, and those transposed again are these."
   ]
  },
  {
   "cell_type": "markdown",
   "metadata": {},
   "source": [
    "##### 91"
   ]
  },
  {
   "cell_type": "markdown",
   "metadata": {},
   "source": [
    "Lifetime is a child at play, moving pieces in a game.\n",
    "\n",
    "Kingship belongs to the child."
   ]
  },
  {
   "cell_type": "markdown",
   "metadata": {},
   "source": [
    "##### 92"
   ]
  },
  {
   "cell_type": "markdown",
   "metadata": {},
   "source": [
    "A generation is thirty years, in which time the progenitor has engendered one who generates.\n",
    "\n",
    "The cycle of life lies in this interval, when nature returns from human seed-time to seed-time."
   ]
  },
  {
   "cell_type": "markdown",
   "metadata": {},
   "source": [
    "##### 93"
   ]
  },
  {
   "cell_type": "markdown",
   "metadata": {},
   "source": [
    "Greater deaths are alloted greater destinies."
   ]
  },
  {
   "cell_type": "markdown",
   "metadata": {},
   "source": [
    "##### 94"
   ]
  },
  {
   "cell_type": "markdown",
   "metadata": {},
   "source": [
    "The best choose one thing in exchange for all, everflowing fame among mortals; but most men have sated themselves like cattle."
   ]
  },
  {
   "cell_type": "markdown",
   "metadata": {},
   "source": [
    "##### 95"
   ]
  },
  {
   "cell_type": "markdown",
   "metadata": {},
   "source": [
    "Once born they want to live and have their portions; and they leave children behind born to become their dooms."
   ]
  },
  {
   "cell_type": "markdown",
   "metadata": {},
   "source": [
    "##### 96"
   ]
  },
  {
   "cell_type": "markdown",
   "metadata": {},
   "source": [
    "The beginning and the end are shared in the circumference of a circle."
   ]
  },
  {
   "cell_type": "markdown",
   "metadata": {},
   "source": [
    "##### 97"
   ]
  },
  {
   "cell_type": "markdown",
   "metadata": {},
   "source": [
    "Gods and men honor those who fall in battle."
   ]
  },
  {
   "cell_type": "markdown",
   "metadata": {},
   "source": [
    "##### 98"
   ]
  },
  {
   "cell_type": "markdown",
   "metadata": {},
   "source": [
    "To the soul belongs a report that increases itself."
   ]
  },
  {
   "cell_type": "markdown",
   "metadata": {},
   "source": [
    "##### 99"
   ]
  },
  {
   "cell_type": "markdown",
   "metadata": {},
   "source": [
    "For souls it is death to become water, for water it is death to become earth; out of earth water arises, out of water soul."
   ]
  },
  {
   "cell_type": "markdown",
   "metadata": {},
   "source": [
    "##### 100"
   ]
  },
  {
   "cell_type": "markdown",
   "metadata": {},
   "source": [
    "The way up and down is one and the same."
   ]
  },
  {
   "cell_type": "markdown",
   "metadata": {},
   "source": [
    "##### 101"
   ]
  },
  {
   "cell_type": "markdown",
   "metadata": {},
   "source": [
    "One must quench violence quicker than a blazing fire."
   ]
  },
  {
   "cell_type": "markdown",
   "metadata": {},
   "source": [
    "##### 102"
   ]
  },
  {
   "cell_type": "markdown",
   "metadata": {},
   "source": [
    "It is hard to fight against passion; for whatever it wants it buys at the expense of the soul."
   ]
  },
  {
   "cell_type": "markdown",
   "metadata": {},
   "source": [
    "##### 103"
   ]
  },
  {
   "cell_type": "markdown",
   "metadata": {},
   "source": [
    "A man when drunk is led by a beardless boy, stumbling, not perceiving where he is going, having his soul moist."
   ]
  },
  {
   "cell_type": "markdown",
   "metadata": {},
   "source": [
    "##### 104"
   ]
  },
  {
   "cell_type": "markdown",
   "metadata": {},
   "source": [
    "It is better to hide one's folly; but that is difficult in one's cups and at ease."
   ]
  },
  {
   "cell_type": "markdown",
   "metadata": {},
   "source": [
    "##### 105"
   ]
  },
  {
   "cell_type": "markdown",
   "metadata": {},
   "source": [
    "It is delight, not death, for souls to become moist."
   ]
  },
  {
   "cell_type": "markdown",
   "metadata": {},
   "source": [
    "##### 106"
   ]
  },
  {
   "cell_type": "markdown",
   "metadata": {},
   "source": [
    "A gleam of light is the dry soul, wisest and best."
   ]
  },
  {
   "cell_type": "markdown",
   "metadata": {},
   "source": [
    "##### 107"
   ]
  },
  {
   "cell_type": "markdown",
   "metadata": {},
   "source": [
    "...to rise up and become wakeful watchers of living men and corpses."
   ]
  },
  {
   "cell_type": "markdown",
   "metadata": {},
   "source": [
    "##### 108"
   ]
  },
  {
   "cell_type": "markdown",
   "metadata": {},
   "source": [
    "Souls smell things in Hades."
   ]
  },
  {
   "cell_type": "markdown",
   "metadata": {},
   "source": [
    "##### 109"
   ]
  },
  {
   "cell_type": "markdown",
   "metadata": {},
   "source": [
    "If all things turned to smoke, the nostrils would sort them out."
   ]
  },
  {
   "cell_type": "markdown",
   "metadata": {},
   "source": [
    "##### 110"
   ]
  },
  {
   "cell_type": "markdown",
   "metadata": {},
   "source": [
    "The soul is an exhalation that perceives; it is different from the body, and always flowing."
   ]
  },
  {
   "cell_type": "markdown",
   "metadata": {},
   "source": [
    "##### 111"
   ]
  },
  {
   "cell_type": "markdown",
   "metadata": {},
   "source": [
    "Man's character is his fate."
   ]
  },
  {
   "cell_type": "markdown",
   "metadata": {},
   "source": [
    "##### 112"
   ]
  },
  {
   "cell_type": "markdown",
   "metadata": {},
   "source": [
    "The mysteries current among men initiate them into impiety."
   ]
  },
  {
   "cell_type": "markdown",
   "metadata": {},
   "source": [
    "##### 113"
   ]
  },
  {
   "cell_type": "markdown",
   "metadata": {},
   "source": [
    "If it were not Dionysus for whom they march in procession and chant the hymn to the phallus, their action would be most shameless.\n",
    "\n",
    "But Hades and Dionysus are the same, him for whom they rave and celebrate Lenaia."
   ]
  },
  {
   "cell_type": "markdown",
   "metadata": {},
   "source": [
    "##### 114"
   ]
  },
  {
   "cell_type": "markdown",
   "metadata": {},
   "source": [
    "They are purified in vain with blood, those polluted with blood, as if someone who stepped in mud should try to wash himself with mud.\n",
    "\n",
    "Anyone who noticed pray to these images as if they were chatting with houses, not recognizing what gods or even heroes are like."
   ]
  },
  {
   "cell_type": "markdown",
   "metadata": {},
   "source": [
    "##### 115"
   ]
  },
  {
   "cell_type": "markdown",
   "metadata": {},
   "source": [
    "The wise is one alone, unwilling and willing to be spoken of by the name of Zeus."
   ]
  },
  {
   "cell_type": "markdown",
   "metadata": {},
   "source": [
    "##### 116"
   ]
  },
  {
   "cell_type": "markdown",
   "metadata": {},
   "source": [
    "The thunderbold pilots all things."
   ]
  },
  {
   "cell_type": "markdown",
   "metadata": {},
   "source": [
    "##### 117"
   ]
  },
  {
   "cell_type": "markdown",
   "metadata": {},
   "source": [
    "Fire is need and satiety."
   ]
  },
  {
   "cell_type": "markdown",
   "metadata": {},
   "source": [
    "##### 118"
   ]
  },
  {
   "cell_type": "markdown",
   "metadata": {},
   "source": [
    "Fire coming on will discern and catch up with all things."
   ]
  },
  {
   "cell_type": "markdown",
   "metadata": {},
   "source": [
    "##### 119"
   ]
  },
  {
   "cell_type": "markdown",
   "metadata": {},
   "source": [
    "How will one hide from that which never sets?"
   ]
  },
  {
   "cell_type": "markdown",
   "metadata": {},
   "source": [
    "##### 120"
   ]
  },
  {
   "cell_type": "markdown",
   "metadata": {},
   "source": [
    "The god: day and night, winter and summer, war and peace, satiety and hunger.\n",
    "\n",
    "It alters, as when mingled with perfumes, it gets named according to the pleasure of each one."
   ]
  },
  {
   "cell_type": "markdown",
   "metadata": {},
   "source": [
    "##### 121"
   ]
  },
  {
   "cell_type": "markdown",
   "metadata": {},
   "source": [
    "Graspings: wholes and not wholes, convergent divergent, consonant dissonant, from all things one and from one thing all."
   ]
  },
  {
   "cell_type": "markdown",
   "metadata": {},
   "source": [
    "##### 122"
   ]
  },
  {
   "cell_type": "markdown",
   "metadata": {},
   "source": [
    "The fairest order in the world is a heap of random sweepings."
   ]
  },
  {
   "attachments": {},
   "cell_type": "markdown",
   "metadata": {},
   "source": [
    "---"
   ]
  },
  {
   "cell_type": "markdown",
   "metadata": {},
   "source": [
    "1. What does Heraclitus think people fail to comprehend?\n",
    "2. How are we asleep, even while awake, according to Heraclitus?\n",
    "3. What does Heraclitus mean by saying that 'the account is shared'? What does this have to do with being awake?\n",
    "4. 'Whatever comes from sight...this I prefer.' What does Heraclitus mean?\n",
    "5. 'Eyes and ears are poor witnesses for men if their souls do not understand the language.' Why does he think that this is true?\n",
    "6. What does Homer deserve, and why?\n",
    "7. What does Heraclitus say about thinking well? What argument might he give for saying that?\n",
    "8. He says that 'the ordering is the same for all'. What is this ordering in the universe, and why does he emphasize that it is the same for all persons?\n",
    "9. Why does Heraclitus claim 'the way up and down is one and the same'?\n",
    "10. What is the logos or principle underlying all change, according to Heraclitus?\n",
    "11. What does Heraclitus mean by asserting that one cannot step into the same river twice? What does he say immediately after this famous saying?\n",
    "12. Does Heraclitus believe that there are substances? What would it mean to deny that any substance exists?\n",
    "13. Quite apart from Heraclitus, what reasons are there for thinking that substances do not exist?\n",
    "14. Why does Heraclitus claim that the thunderbold steers or pilots all things?\n",
    "15. Why does Heraclitus claim that 'asses prefer garbage to gold'? What do swine prefer?\n",
    "16. What does Heraclitus say about attunement and the bow? What does the bow stand for?\n",
    "17. Why was Homer wrong to wish for the end of conflict?"
   ]
  },
  {
   "cell_type": "markdown",
   "metadata": {},
   "source": [
    "## Notes"
   ]
  },
  {
   "cell_type": "markdown",
   "metadata": {},
   "source": [
    "ANAXIMANDER'S APEIRON\n",
    "\n",
    "infinite eternal nature, the first principle of what is, from all things come: its eternality is linked to generation, destruction, change\n",
    "\n",
    "coins the word \"principle\" (ARCHE) for the source of all things\n",
    "* not the first to use element, cause\n",
    "\n",
    "ELEMENT: the pattern of change according to its principle\n",
    "\n",
    "STOIXEION: element as chemical (Plato's Timaeus)\n",
    "\n",
    "ARCHE AITIA beginning, originating cause\n",
    "\n",
    "things are a source, or they derive from a source\n",
    "\n",
    "the infinite has no source\n",
    "\n",
    "if a thing is a beginning or comes from a beginning, then the beginning is different from the thing that comes from the beginning: the difference means that there's a limit"
   ]
  },
  {
   "cell_type": "markdown",
   "metadata": {},
   "source": [
    "Proof\n",
    "* a way to get deeper into phenomena\n",
    "* isolate decisive factors, causes, implications\n",
    "* a way to generalize from particular phenomena to other phenomena\n",
    "* a proof comes along with necessity: one part of the world is related of necessity to another part of the world; one claim is related of necessity to another claim; then we have ontological and logical coherence\n",
    "* a discovery about the world\n",
    "* becomes the basis for criticism between philosophers\n",
    "* coherence, the criterion for the adequacy or goodness of a philosophical theory\n",
    "* brings about a worldview of homogeneity in contrast the prior heterogeneous one"
   ]
  },
  {
   "cell_type": "markdown",
   "metadata": {},
   "source": [
    "Heraclitus\n",
    "* pure flux?\n",
    "* using a format of discourse in which he is not writing a treatise, but aphoristic separate insights\n",
    "* Heraclitus, Artemis, the goddess of nature\n",
    "* we don't know the order of the fragments\n",
    "* incredibly systematic thinker\n",
    "* not sheer, unnable flux\n",
    "* precisely the philosopher of structure change, flux, patterns that can be discerned, sources that can be grasped\n",
    "* identify order and relationships of the fragments; which conceptual structures are we bringing into the text?\n",
    "* Heraclitus is not interested in making a set of claims that are all true\n",
    "* things that point beyond themselves, to understanding; not meant to literlly lay out plan"
   ]
  },
  {
   "cell_type": "markdown",
   "metadata": {},
   "source": [
    "Everything is in flux, even when the change is imperceptible.\n",
    "\n",
    "Doctrine of the unity of opposites\n",
    "* According to which everything is necessarily characterized by both of two opposing features.\n",
    "* The unity of opposites is a fundamental pattern of the universe.\n",
    "* It is in terms of the unity of opposites that we should understand the cosmos as a process.\n",
    "\n",
    "Monism\n",
    "* The underlying nature of the universe is fire.\n",
    "* If there are no permanent entities because everything is in flux, then it may be incorrect to think of fire as a permanent underlying substance out of which everything is composed.\n",
    "* The cosmos is a process of burning and quenching, heating and cooling, rather than a static substance.\n",
    "\n",
    "Heraclitus' natural philosophy\n",
    "* 1-33 stress the hidden/esoteric nature of real knowledge\n",
    "* 34-44 general law of natur;, fire\n",
    "* 38-51 change\n",
    "\n",
    "There is a divine intelligence, eternal law governing the universe\n",
    "\n",
    "A spark of this intelligence exists in human reason\n",
    "\n",
    "Fire is the divine aspect of the cosmos and man\n",
    "\n",
    "I\n",
    "\n",
    "Everything happens in accordance with a general law of nature (logos)\n",
    "\n",
    "Zoroastrianism, based on monotheism\n",
    "* there is dualism, but one god\n",
    "\n",
    "the idea that all things are grounded in one source\n",
    "* due in part to a reception of Zoroastrianism\n",
    "\n",
    "Heraclitus\n",
    "* approach to the logos and understanding phenomena\n",
    "\n",
    "uniformitarianism and Copernicus proposes the sun at the center of the sun\n",
    "\n",
    "connect the first fragment with the others to understand the first\n",
    "\n",
    "Heraclitus\n",
    "* one has to go beyond the words to understand the things\n",
    "\n",
    "attunement, harmonia\n",
    "\n",
    "hide, kryptosthai\n",
    "\n",
    "subjective variation to experience\n",
    "\n",
    "something not apparent about the things\n",
    "\n",
    "a thing diverging is also converging\n",
    "\n",
    "* a bow is constituted by the tension in both directions; when the string is cut (or hanging from one or the other end), the bow is gone\n",
    "* macro things' particles\n",
    "* phenomena are constituted in a tension, a balance, a pull \"in both directions\"\n",
    "\n",
    "hidden ratio, balance, attunement, harmony\n",
    "* the forces that pull apart and the forces that pull together\n",
    "\n",
    "stationary phenomena constituted by an underlying dynamic structure\n",
    "\n",
    "Heraclitus in a physical, force-like way\n",
    "\n",
    "nature loves to hide, the hidden nature\n",
    "* hiddenness is the dynamic structure\n",
    "\n",
    "the unity of the bow is a continual accomplishment\n",
    "\n",
    "sameness and difference are related to one another\n",
    "\n",
    "ousia is a theoretical object developed in Plato and Aristotle\n",
    "\n",
    "the identity of a thing is its multitude of differences"
   ]
  },
  {
   "cell_type": "markdown",
   "metadata": {},
   "source": [
    "Heraclitus' philosophy of nature\n",
    "* doctrine of perpetual flux: PANTA REI \"everything is in flux\"\n",
    "  * change is constant and perpetual\n",
    "  * even when the change is imperceptible\n",
    "  * Is the universe a process rather than an thing (object, substance)?\n",
    "* the doctrine of the unity of opposites: everything is necessarily characterized by both of two opposing features; the unity of opposites is a fundamental pattern of the universe; it is in these terms that the cosmos should be understood as a process\n",
    "  * \"The way up and down is one and the same\"\n",
    "* monism according to which the underlying nature of the universe is \"fire\": the cosmos is a process characterized by heating up and cooling down\n",
    "  * everything in flux -> there are no permanent things -> fire is not a permanent underlying thing (static substance) out of which everything is composed\n",
    "  * FIRE: warm vital force, or something more abstract\n",
    "  * change is fire?\n",
    "  * the δύναμις of fire is to cause motion [Loeb]\n",
    "  * living fire\n",
    "  * fire (the sun) becomes all things, and all things return to it\n",
    "  * twofold way in nature: to fire and from fire\n",
    "\n",
    "\n",
    "there is a divine, eternal intelligence or law of nature that governs the universe\n",
    "* a spark of the divine intelligence exists in human reason\n",
    "* fire is the divine aspect of the cosmos and man\n",
    "\n",
    "FIERY principle connects human to nature\n",
    "\n",
    "MOTION has its source in the unity of opposites\n",
    "\n",
    "παλίντονος ἁρμονίη\n",
    "\n",
    "Loeb\n",
    "* each opposite [tends] to turn into its opposite, and so...each is the same as the other\n",
    "* day and night, with all other opposites, are two sides of the same process, [inseparable] like concavity and convexity\n",
    "* an explanation of one opposite is also the explanation of the other"
   ]
  },
  {
   "cell_type": "markdown",
   "metadata": {},
   "source": [
    "---"
   ]
  },
  {
   "cell_type": "markdown",
   "metadata": {},
   "source": [
    "## Resources"
   ]
  },
  {
   "cell_type": "markdown",
   "metadata": {},
   "source": [
    "https://chs.harvard.edu/chapter/17-the-heraclitean-logos/"
   ]
  },
  {
   "cell_type": "markdown",
   "metadata": {},
   "source": [
    "---"
   ]
  },
  {
   "cell_type": "markdown",
   "metadata": {},
   "source": [
    "## Terms"
   ]
  },
  {
   "cell_type": "markdown",
   "metadata": {},
   "source": [
    "account ; logos ; order ; principle\n",
    "\n",
    "of opposites: conflict ; strife ; tension\n",
    "\n",
    "the common ; the shared"
   ]
  },
  {
   "cell_type": "markdown",
   "metadata": {},
   "source": [
    "---"
   ]
  }
 ],
 "metadata": {
  "language_info": {
   "name": "python"
  },
  "orig_nbformat": 4
 },
 "nbformat": 4,
 "nbformat_minor": 2
}
