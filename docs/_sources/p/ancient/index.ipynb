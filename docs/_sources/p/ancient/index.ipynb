{
 "cells": [
  {
   "attachments": {},
   "cell_type": "markdown",
   "metadata": {},
   "source": [
    "# Ancient Philosophy"
   ]
  },
  {
   "attachments": {},
   "cell_type": "markdown",
   "metadata": {},
   "source": [
    "---"
   ]
  },
  {
   "attachments": {},
   "cell_type": "markdown",
   "metadata": {},
   "source": [
    "## Sections"
   ]
  },
  {
   "attachments": {},
   "cell_type": "markdown",
   "metadata": {},
   "source": [
    "```{tableofcontents}\n",
    "```"
   ]
  },
  {
   "attachments": {},
   "cell_type": "markdown",
   "metadata": {},
   "source": [
    "---"
   ]
  },
  {
   "cell_type": "markdown",
   "metadata": {},
   "source": [
    "[[W](https://en.wikipedia.org/wiki/Pherecydes_of_Syros)] Pherecydes of Syros φερεκύδης ὁ σύριος (6th century bce)\n",
    "* [[W](https://en.wikipedia.org/wiki/Chthonic)] chthónie χθόνιε \"in, under, beneath the earth\"\n",
    "* zas \"life\"\n",
    "* chronos χρόνος time\n",
    "* [[W](https://en.wikipedia.org/wiki/Ophion)] ophion ὀφίων\n",
    "* oceanós/ogenós ὠκεανός/ὠγενός\n",
    "\n",
    "[[W](https://en.wikipedia.org/wiki/Xenophon)] Xenophon of Athens ξενοφῶν (430-355 bce)\n",
    "* [[W](https://en.wikipedia.org/wiki/Hiero_(Xenophon))] _Hiero_ ἱέρων\n",
    "* [[W](https://en.wikipedia.org/wiki/Memorabilia_(Xenophon))] _Memorabilia_ ἀπομνημονεύματα\n",
    "* [[W](https://en.wikipedia.org/wiki/Oeconomicus)] _Oeconomicus_ οἰκονομικός\n",
    "* [[W](https://en.wikipedia.org/wiki/Symposium_(Xenophon))] _Symposium_ συμπόσιον"
   ]
  },
  {
   "cell_type": "markdown",
   "metadata": {},
   "source": [
    "### Dramatists"
   ]
  },
  {
   "cell_type": "markdown",
   "metadata": {},
   "source": [
    "* [[W](https://en.wikipedia.org/wiki/Aeschylus)] Aeschylus αἰσχύλος (525-456 bce)\n",
    "* [[W](https://en.wikipedia.org/wiki/Aristophanes)] Aristophanes ἀριστοφάνης (446-386 bce)\n",
    "  * [[W](https://en.wikipedia.org/wiki/The_Clouds)] _The Clouds_\n",
    "* [[W](https://en.wikipedia.org/wiki/Euripides)] Euripides (480-406 bce)\n",
    "* [[W](https://en.wikipedia.org/wiki/Sophocles)] Sophocles (497-406 bce)"
   ]
  },
  {
   "cell_type": "markdown",
   "metadata": {},
   "source": [
    "* [[W](https://en.wikipedia.org/wiki/Ancient_Greek_comedy)] Ancient Greek Comedy\n",
    "* [[W](https://en.wikipedia.org/wiki/Old_Comedy)] Old Comedy"
   ]
  },
  {
   "cell_type": "markdown",
   "metadata": {},
   "source": [
    "### Poets"
   ]
  },
  {
   "cell_type": "markdown",
   "metadata": {},
   "source": [
    "* [[W](https://en.wikipedia.org/wiki/Archilochus)] Archilochus (c. 680-645 BCE)\n",
    "* [[W](https://en.wikipedia.org/wiki/Hesiod)] Hesiod (750-650 BCE)\n",
    "  * [[W](https://en.wikipedia.org/wiki/Theogony)] _Theogony_\n",
    "  * [[W](https://en.wikipedia.org/wiki/Works_and_Days)] _Works and Days_\n",
    "* [[W](https://en.wikipedia.org/wiki/Homer)] Homer (floruit 8th Century BCE)\n",
    "  * [[W](https://en.wikipedia.org/wiki/Iliad)] _Iliad_\n",
    "  * [[W](https://en.wikipedia.org/wiki/Odyssey)] _Odyssey_\n",
    "* [[W](https://en.wikipedia.org/wiki/Pindar)] Pindar (c. 518-438 BCE)\n",
    "* [[W](https://en.wikipedia.org/wiki/Sappho)] Sappho (c. 630-570 BCE)\n",
    "* [[W](https://en.wikipedia.org/wiki/Semonides_of_Amorgos)] Semonides of Amorgos (7th century bce)\n",
    "* [[W](https://en.wikipedia.org/wiki/Solon)] Solon (c. 630-560 BCE)\n",
    "* [[W](https://en.wikipedia.org/wiki/Thespis)] Thespis (floruit 6th Century BCE)"
   ]
  },
  {
   "cell_type": "markdown",
   "metadata": {},
   "source": [
    "* [[W](https://en.wikipedia.org/wiki/Dactylic_hexameter)] Dactylic Hexameter\n",
    "* [[W](https://en.wikipedia.org/wiki/Epic_Cycle)] Epic Cycle\n",
    "* [[W](https://en.wikipedia.org/wiki/Homeric_Hymns)] Homeric Hymns"
   ]
  },
  {
   "cell_type": "markdown",
   "metadata": {},
   "source": [
    "### Pre Socratic"
   ]
  },
  {
   "cell_type": "markdown",
   "metadata": {},
   "source": [
    "[[W](https://en.wikipedia.org/wiki/Pre-Socratic_philosophy)][[S](https://plato.stanford.edu/entries/presocratics/)] Pre Socratic\n",
    "* [[W](https://en.wikipedia.org/wiki/Ionian_School_(philosophy))] Ionian - \"material monism\", non supernatural explanation about natural phenomena\n",
    "  * Milesian\n",
    "    * [[W](https://en.wikipedia.org/wiki/Thales_of_Miletus)] Thales of Miletus ὁ μιλήσιος (625-545 bce) - WATERY origins\n",
    "      * concepts\n",
    "        * [[W](https://en.wikipedia.org/wiki/Intercept_theorem)] Intercept Theorem\n",
    "        * [[W](https://en.wikipedia.org/wiki/Know_thyself)] Know Thyself γωῶθι σαυτόν\n",
    "        * [[W](https://en.wikipedia.org/wiki/Seven_Sages_of_Greece)] Seven Sages\n",
    "        * [[W](https://en.wikipedia.org/wiki/Eclipse_of_Thales)] Thales' Eclipse\n",
    "        * [[W](https://en.wikipedia.org/wiki/Thales%27s_theorem)] Thales' Theorem\n",
    "    * [[W](https://en.wikipedia.org/wiki/Anaximander)] Anaximander of Miletus ἀναξίμανδρος ὁ μιλήσιος - APERION the unbounded indeterminate\n",
    "    * [[W](https://en.wikipedia.org/wiki/Anaximenes_of_Miletus)] Anaximenes of Miletus ἀναξιμένης ὁ μιλήσιος - AIRY breathy condensation and rarefaction\n",
    "  * [[W](https://en.wikipedia.org/wiki/Heraclitus)][[S](https://plato.stanford.edu/entries/heraclitus/)] Heraclitus of Ephesus (540-480 BCE) - FIERY FLUX heating and cooling\n",
    "  * [[W](https://en.wikipedia.org/wiki/Anaxagoras)][[S](https://plato.stanford.edu/entries/anaxagoras/)] Anaxagoras of Clazomenae (5th Century BCE)\n",
    "    * concepts\n",
    "      * [W] Nous\n",
    "      * [[W](https://en.wikipedia.org/wiki/Panspermia)] Panspermia\n",
    "  * [[W](https://en.wikipedia.org/wiki/Archelaus_(philosopher))] Archelaus\n",
    "* [[W](https://en.wikipedia.org/wiki/Italian_philosophy)] Italianism\n",
    "  * [[W](https://en.wikipedia.org/wiki/Alcmaeon_of_Croton)][[S](https://plato.stanford.edu/entries/alcmaeon/)] Alcmaeon of Croton (5th Century BCE)\n",
    "  * [[W](https://en.wikipedia.org/wiki/Xenophanes)][[S](https://plato.stanford.edu/entries/xenophanes/)] Xenophanes of Colophon (c. 570-478 BCE) - earth and water\n",
    "  * [[W](https://en.wikipedia.org/wiki/Empedocles)][[S](https://plato.stanford.edu/entries/empedocles/)] Empedocles of Acragas (5th Century BCE)\n",
    "  * [[W](https://en.wikipedia.org/wiki/Pythagoreanism)] Pythagoreanism\n",
    "    * [[W](https://en.wikipedia.org/wiki/Archytas)] Archytas ἀρχύτας (c. 435-360 BCE)\n",
    "    * [[W](https://en.wikipedia.org/wiki/Pythagoras)][[S](https://plato.stanford.edu/entries/pythagoras/)] Pythagoras of Samos (c. 570-495 BCE)\n",
    "    * [[W](https://en.wikipedia.org/wiki/Pythagorean_astronomical_system)] Pythagorean astronomical system\n",
    "    * [[W](https://en.wikipedia.org/wiki/Philolaus)] Philolaus of Croton (c. 470-385 BCE)\n",
    "      * [[W](https://en.wikipedia.org/wiki/Pythagorean_astronomical_system)] Central Fire\n",
    "      * [[W](https://en.wikipedia.org/wiki/Heliocentrism)] Heliocentrism\n",
    "  * [[W](https://en.wikipedia.org/wiki/Eleatics)] Eleatic\n",
    "    * [[W](https://en.wikipedia.org/wiki/Parmenides)][[S](https://plato.stanford.edu/entries/parmenides/)] Parmenides of Elea (c. 6th-5th Centuries BCE)\n",
    "    * [[W](https://en.wikipedia.org/wiki/Zeno_of_Elea)] Zeno of Elea ζήνων ὁ ἐλεάτης (c. 495-430 BCE)\n",
    "      * [W][[S](https://plato.stanford.edu/entries/paradox-zeno/)] Zeno, paradoxes\n",
    "    * [[W](https://en.wikipedia.org/wiki/Melissus_of_Samos)] Melissus of Samos\n",
    "  * [W][[S](https://plato.stanford.edu/entries/atomism-ancient/)] Atomism\n",
    "    * [[W](https://en.wikipedia.org/wiki/Leucippus)][[S](https://plato.stanford.edu/entries/leucippus/)] Leucippus\n",
    "    * [[W](https://en.wikipedia.org/wiki/Democritus)][[S](https://plato.stanford.edu/entries/democritus/)] Democritus\n",
    "    * [[W](https://en.wikipedia.org/wiki/Epicurus)][[S](https://plato.stanford.edu/entries/epicurus/)] Epicurus ἐπίκουρος (c. 341-270 BCE)\n",
    "    * [W][[S](https://plato.stanford.edu/entries/lucretius/)] Lucretius\n",
    "    * concepts\n",
    "      * [S][[W](https://en.wikipedia.org/wiki/Atom)] Atom\n",
    "      * [S][[W](https://en.wikipedia.org/wiki/Atomism)] Atomism\n",
    "      * [[S](https://plato.stanford.edu/entries/atomism-modern/)][W] Atomism, 17th-20th centuries\n",
    "      * [[S](https://plato.stanford.edu/entries/atomism-ancient/)][W] Atomism, Ancient\n"
   ]
  },
  {
   "cell_type": "markdown",
   "metadata": {},
   "source": [
    "### Plato"
   ]
  },
  {
   "cell_type": "markdown",
   "metadata": {},
   "source": [
    "* [[S](https://plato.stanford.edu/entries/plato/)][[W](https://en.wikipedia.org/wiki/Plato)] Plato\n",
    "  * [[S](https://plato.stanford.edu/entries/plato-ethics-politics/)] Plato's Ethics and Politics in the Republic\n",
    "  * [[S](https://plato.stanford.edu/entries/plato-metaphysics/)] Plato's Middle Period Metaphysics and Epistemology\n",
    "  * [[S](https://plato.stanford.edu/entries/plato-timaeus/)] Plato's Timaeus\n",
    "  * [[S](https://plato.stanford.edu/entries/ancient-soul/)] Ancient Theories of Soul"
   ]
  },
  {
   "cell_type": "markdown",
   "metadata": {},
   "source": [
    "* [[W](https://en.wikipedia.org/wiki/Apology_(Plato))] _Apology_\n",
    "* [[W](https://en.wikipedia.org/wiki/Charmides_(dialogue))] _Charmides_\n",
    "* [[W](https://en.wikipedia.org/wiki/Cratylus_(dialogue))] _Cratylus_\n",
    "* [[W](https://en.wikipedia.org/wiki/Critias_(dialogue))] _Critias_\n",
    "* [[W](https://en.wikipedia.org/wiki/Crito)] _Crito_\n",
    "* [[W](https://en.wikipedia.org/wiki/Euthydemus_(dialogue))] _Euthydemus_\n",
    "* [[W](https://en.wikipedia.org/wiki/Euthyphro)] _Euthyphro_\n",
    "* [[W](https://en.wikipedia.org/wiki/Gorgias_(dialogue))] _Gorgias_\n",
    "* [[W](https://en.wikipedia.org/wiki/Hippias_Major)] _Hippias Major_\n",
    "* [[W](https://en.wikipedia.org/wiki/Hippias_Minor)] _Hippias Minor_\n",
    "* [[W](https://en.wikipedia.org/wiki/Ion_(dialogue))] _Ion_\n",
    "* [[W](https://en.wikipedia.org/wiki/Laches_(dialogue))] _Laches_\n",
    "* [[W](https://en.wikipedia.org/wiki/Laws_(dialogue))] _Laws_\n",
    "* [[W](https://en.wikipedia.org/wiki/Lysis_(dialogue))] _Lysis_\n",
    "* [[W](https://en.wikipedia.org/wiki/Meno)] _Meno_\n",
    "* [[W](https://en.wikipedia.org/wiki/Parmenides_(dialogue))] _Parmenides_\n",
    "* [[W](https://en.wikipedia.org/wiki/Phaedo)] _Phaedo_\n",
    "* [[W](https://en.wikipedia.org/wiki/Phaedrus_(dialogue))] _Phaedrus_\n",
    "* [[W](https://en.wikipedia.org/wiki/Philebus)] _Philebus_\n",
    "* [[W](https://en.wikipedia.org/wiki/Protagoras_(dialogue))] _Protagoras_\n",
    "* [[W](https://en.wikipedia.org/wiki/Republic_(Plato))] _Republic_\n",
    "* [[W](https://en.wikipedia.org/wiki/Sophist_(dialogue))] _Sophist_\n",
    "* [[W](https://en.wikipedia.org/wiki/Statesman_(dialogue))] _Statesman_\n",
    "* [[W](https://en.wikipedia.org/wiki/Symposium_(Plato))] _Symposium_\n",
    "* [[W](https://en.wikipedia.org/wiki/Theaetetus_(dialogue))] _Theaetetus_\n",
    "* [[W](https://en.wikipedia.org/wiki/Timaeus_(dialogue))] _Timaeus_"
   ]
  },
  {
   "cell_type": "markdown",
   "metadata": {},
   "source": [
    "Terms\n",
    "* [[W](https://en.wikipedia.org/wiki/Platonic_Academy)] The Academy\n",
    "* [[W](https://en.wikipedia.org/wiki/Allegory_of_the_cave)] Allegory of the Cave\n",
    "* [[W](https://en.wikipedia.org/wiki/Analogy_of_the_divided_line)] Analogy of the Divided Line\n",
    "* [[W](https://en.wikipedia.org/wiki/Analogy_of_the_sun)] Analogy of the Sun\n",
    "* [[W](https://en.wikipedia.org/wiki/Atlantis)] Atlantis\n",
    "* [[W](https://en.wikipedia.org/wiki/Demiurge)] Demiurge [δημιουργος]\n",
    "* [[W](https://en.wikipedia.org/wiki/Evenor_(Atlantis))] Evenor Ευηνωρ\n",
    "* [[W](https://en.wikipedia.org/wiki/Form_of_the_Good)] Idea of the Good [η του αγαθου ιδεα]\n",
    "* [[W](https://en.wikipedia.org/wiki/Myth_of_Er)] Myth of Er\n",
    "* [[W](https://en.wikipedia.org/wiki/Philosopher_king)] Philosopher King\n",
    "* [[W](https://en.wikipedia.org/wiki/Platonism)] Platonism\n",
    "* [[W](https://en.wikipedia.org/wiki/Theory_of_forms)] Theory of Forms"
   ]
  },
  {
   "cell_type": "markdown",
   "metadata": {},
   "source": [
    "### Aristotle"
   ]
  },
  {
   "cell_type": "markdown",
   "metadata": {},
   "source": [
    "[[S](https://plato.stanford.edu/entries/aristotle/)][[W](https://en.wikipedia.org/wiki/Aristotle)] Aristotle\n",
    "* [[W](https://en.wikipedia.org/wiki/Aristotle%27s_biology)][S] Aristotle's Biology\n",
    "* [[W](https://en.wikipedia.org/wiki/Aristotelian_ethics)][S] Aristotle's Ethics\n",
    "* [W][[S](https://plato.stanford.edu/entries/aristotle-natphil/)] Aristotle's Philosophy of Nature\n",
    "* [[W](https://en.wikipedia.org/wiki/Aristotelian_physics)][S] Aristotle's Physics\n",
    "* [W][[S](https://plato.stanford.edu/entries/aristotle-psychology/)] Aristotle's Psychology\n",
    "* [ [s](https://plato.stanford.edu/entries/aristotle-psychology/suppl1.html) ] A Fundamental Problem about Hylomorphism"
   ]
  },
  {
   "cell_type": "markdown",
   "metadata": {},
   "source": [
    "[[W](https://en.wikipedia.org/wiki/Works_of_Aristotle)] Corpus Aristotelicum\n",
    "* [[W](https://en.wikipedia.org/wiki/Eudemian_Ethics)] _Eudemian Ethics_ ἠθικὰ εὐδήμεια (Ethica Eudemia)\n",
    "* [[W](https://en.wikipedia.org/wiki/History_of_Animals)] _History of Animals_ τῶν περὶ τὰ ζῷα ἱστοριῶν (Historia Animalium)\n",
    "* [[W](https://en.wikipedia.org/wiki/Metaphysics_(Aristotle))] _Metaphysics_ τὰ μετὰ τὰ φυσικά (Metaphysica)\n",
    "* [[W](https://en.wikipedia.org/wiki/Meteorology_(Aristotle))] _Meteorology_ μετεωρολογικά (Meteorologica)\n",
    "* [[W](https://en.wikipedia.org/wiki/Nicomachean_Ethics)] _Nichomachean Ethics_ ἠθικὰ νικομάχεια\n",
    "* [[W](https://en.wikipedia.org/wiki/On_Generation_and_Corruption)] _On Generation and Corruption_ περὶ γενέσεως καὶ φθορᾶς (De Generatione et Corruptione)\n",
    "* [[W](https://en.wikipedia.org/wiki/Generation_of_Animals)] _On the Generation of Animals_ περὶ ζῴων γενέσεως (De Generatione Animalium)\n",
    "* [[W](https://en.wikipedia.org/wiki/On_the_Heavens)] _On the Heavens_ περὶ οὐρανοῦ (De Caelo)\n",
    "* [[W](https://en.wikipedia.org/wiki/Movement_of_Animals)] _On the Motion of Animals_ περὶ ζῴων κινήσεως (De Motu Animalium)\n",
    "* [[W](https://en.wikipedia.org/wiki/Parts_of_Animals)] _On the Parts of Animals_ περὶ ζῴων μορίων (De Partibus Animalium)\n",
    "* [[W](https://en.wikipedia.org/wiki/On_the_Soul)] _On the Soul_ περὶ ψυχῆς (De Anima)\n",
    "* [[W](https://en.wikipedia.org/wiki/Poetics_(Aristotle))] _Poetics_ περὶ ποιητικῆς (De Poetica)\n",
    "* [[W](https://en.wikipedia.org/wiki/Politics_(Aristotle))] _Politics_ πολιτικά (Politics)\n",
    "* [[W](https://en.wikipedia.org/wiki/Physics_(Aristotle))] _Physics_ φυσικὴ ἀκρόασις (Physica)\n",
    "* [[W](https://en.wikipedia.org/wiki/Rhetoric_(Aristotle))] _Rhetoric_ ῥητορική (Ars Rhetorica)\n",
    "\n",
    "[[W](https://en.wikipedia.org/wiki/Organon)] Organon ὄργανον\n",
    "* [[W](https://en.wikipedia.org/wiki/Categories_(Aristotle))] _Categories_ κατηγορίαι (Categoriae)\n",
    "* [[W](https://en.wikipedia.org/wiki/On_Interpretation)] _On Interpretation_ περὶ ἑρμηνείας (De Interpretatione)\n",
    "* [[W](https://en.wikipedia.org/wiki/Posterior_Analytics)] _Posterior Analytics_ ἀναλυτικὰ ὕστερα (Analytica Posteriora)\n",
    "* [[W](https://en.wikipedia.org/wiki/Prior_Analytics)] _Prior Analytics_ ἀναλυτικὰ πρότερα (Analytica Priora)\n",
    "* [[W](https://en.wikipedia.org/wiki/Sophistical_Refutations)] _Sophistical Refutations_ σοφιστικοὶ ἔλεγχοι (De Sophisticis Elenchis)\n",
    "* [[W](https://en.wikipedia.org/wiki/Topics_(Aristotle))] _Topics_ τοπικά (Topica)\n",
    "\n",
    "Logic\n",
    "* [[W](https://en.wikipedia.org/wiki/Apodicticity)] Apodeictic ἀποδεικτικός \"capable of demonstration\"\n",
    "* [[W](https://en.wikipedia.org/wiki/Assertoric)] Assertoric\n",
    "* [[W](https://en.wikipedia.org/wiki/Categorical_proposition)] Categorical Proposition\n",
    "* [[W](https://en.wikipedia.org/wiki/Square_of_opposition)] Square of Opposition\n",
    "* [[W](https://en.wikipedia.org/wiki/Syllogism)] Syllogism συλλογισμός\n",
    "* [[W](https://en.wikipedia.org/wiki/Term_logic)] Term Logic"
   ]
  },
  {
   "cell_type": "markdown",
   "metadata": {},
   "source": [
    "Terms\n",
    "* [[W](https://en.wikipedia.org/wiki/Potentiality_and_actuality)] Actuality\n",
    "* [[W](https://en.wikipedia.org/wiki/Aether_(classical_element))] Aether [αιθηρ] pure air/sky, fresh air/sky\n",
    "* [[W](https://en.wikipedia.org/wiki/Celestial_spheres)] Celestial Spheres\n",
    "* [[W](https://en.wikipedia.org/wiki/Dynamics_of_the_celestial_spheres)] Celestial Spheres, dynamics\n",
    "* [[W](https://en.wikipedia.org/wiki/Commentaries_on_Aristotle)] Commentaries on Aristotle\n",
    "* [[W](https://en.wikipedia.org/wiki/Concentric_spheres)] Concentric Spheres\n",
    "* [[W](https://en.wikipedia.org/wiki/Firmament)] Firmament\n",
    "* [[W](https://en.wikipedia.org/wiki/Four_causes)] Four Causes\n",
    "* [[W](https://en.wikipedia.org/wiki/Great_chain_of_being)] Great Chain of Being\n",
    "* [[W](https://en.wikipedia.org/wiki/Hylomorphism)] Hylomorphism\n",
    "* [[W](https://en.wikipedia.org/wiki/Hylozoism)] Hylozoism\n",
    "* [[W](https://en.wikipedia.org/wiki/Lyceum_(classical))] Lyceum\n",
    "* [[W](https://en.wikipedia.org/wiki/Material_monism)] Material Monism\n",
    "* [[W](https://en.wikipedia.org/wiki/Minima_naturalia)] Minima Naturalia\n",
    "* [[W](https://en.wikipedia.org/wiki/Ousia)] Ousia\n",
    "* [[W](https://en.wikipedia.org/wiki/Peripatetic_school)] Peripatetic School\n",
    "* [[W](https://en.wikipedia.org/wiki/Peripatos_(Acropolis_of_Athens))] Peripatos\n",
    "* [[W](https://en.wikipedia.org/wiki/Potentiality_and_actuality)] Potentiality\n",
    "* [[W](https://en.wikipedia.org/wiki/Principle_of_individuation)] Principle of Individuation\n",
    "* [[W](https://en.wikipedia.org/wiki/Pseudo-Aristotle)] Pseudo Aristotle\n",
    "* [[W](https://en.wikipedia.org/wiki/Sphere_of_fire)] Sphere of Fire\n",
    "* [[W](https://en.wikipedia.org/wiki/Sublunary_sphere)] Sublunary Sphere\n",
    "* [[W](https://en.wikipedia.org/wiki/Substantial_form)] Substantial Form"
   ]
  },
  {
   "cell_type": "markdown",
   "metadata": {},
   "source": [
    "### Hellenistic"
   ]
  },
  {
   "cell_type": "markdown",
   "metadata": {},
   "source": [
    "[[W](https://en.wikipedia.org/wiki/Hellenistic_philosophy)] Hellenistic\n",
    "* [[W](https://en.wikipedia.org/wiki/Cynicism_(philosophy))] Cynicism\n",
    "* [[W](https://en.wikipedia.org/wiki/Cyrenaics)] Cyrenaics\n",
    "* [[W](https://en.wikipedia.org/wiki/Eretrian_school)] Elian-Eretrian\n",
    "  * [[W](https://en.wikipedia.org/wiki/Phaedo_of_Elis)] Phaedo of Elis φαίδων ὁ ἠλεῖος (floruit 4th Century BCE)\n",
    "  * [[W](https://en.wikipedia.org/wiki/Menedemus)] Menedemus of Eretria μενέδημος ὁ ἐρετριεύς (c. 345-261 BCE)\n",
    "* [[W](https://en.wikipedia.org/wiki/Epicureanism)] Epicureanism\n",
    "  * [[W](https://en.wikipedia.org/wiki/Hedonism)] Hedonism\n",
    "* [[W](https://en.wikipedia.org/wiki/Megarian_school)] Megarianism (Dialectic)\n",
    "  * [[W](https://en.wikipedia.org/wiki/Diodorus_Cronus)] Diodorus Cronus διόδωρος κρόνος (floruit 3rd Century BCE)\n",
    "  * [[W](https://en.wikipedia.org/wiki/Eubulides)] Eubilides of Miletus εὑβουλίδης (floruit 4th Century BCE)\n",
    "    * [[W](https://en.wikipedia.org/wiki/Sorites_paradox)] Sorites Paradox σωρείτης < σωρός \"heap\"\n",
    "  * [[W](https://en.wikipedia.org/wiki/Euclid_of_Megara)] Euclid of Megara εὐκλείδης (c. 435-365 BCE)\n",
    "  * [[W](https://en.wikipedia.org/wiki/Philo_the_Dialectician)] Philo φίλων (floruit 3rd Century BCE)\n",
    "  * [[W](https://en.wikipedia.org/wiki/Stilpo)] Stilpo στίλπων (c. 360-280 BCE)\n",
    "* [[W](https://en.wikipedia.org/wiki/Peripatetic_school)] Peripateticism περιπατητικός\n",
    "  * [[W](https://en.wikipedia.org/wiki/Andronicus_of_Rhodes)] Andronicus of Rhodes (floruit 60 BCE)\n",
    "  * [[W](https://en.wikipedia.org/wiki/Lyceum_(classical))] Lyceum λύκειον\n",
    "  * [[W](https://en.wikipedia.org/wiki/Strato_of_Lampsacus)] Strato of Lampsacus στράτων ὁ λαμψακηνός (c. 335-269 BCE)\n",
    "  * [[W](https://en.wikipedia.org/wiki/Theophrastus)] Theophrastus θεόφραστος (c. 371-287 BCE)\n",
    "* [[W](https://en.wikipedia.org/wiki/Pyrrhonism)] Pyrrhonism\n",
    "  * [[W](https://en.wikipedia.org/wiki/Aenesidemus)] Aenesidemus αἰνησίδημος\n",
    "  * [[W](https://en.wikipedia.org/wiki/Agrippa_the_Skeptic)] Agrippa ἀγρίππας (floruit 1st Century)\n",
    "    * [[W](https://en.wikipedia.org/wiki/M%C3%BCnchhausen_trilemma)] Agrippa's Trilemma\n",
    "  * [[W](https://en.wikipedia.org/wiki/Pyrrho)] Pyrrho of Elis\n",
    "  * [[W](https://en.wikipedia.org/wiki/Sextus_Empiricus)] Sextus Empiricus\n",
    "  * [[W](https://en.wikipedia.org/wiki/Suspension_of_judgment)] Suspension of Judgment\n",
    "* [W][[S](https://plato.stanford.edu/entries/skepticism-ancient/)] Skepticism\n",
    "  * [[W](https://en.wikipedia.org/wiki/Carneades)] Carneades καρνεάδης (c. 214-129 BCE)\n",
    "* Sophism\n",
    "  * [[W](https://en.wikipedia.org/wiki/Antiphon_(orator))] Antiphon of Rhamnus ἀντιφῶν ὁ ῥαμνούσιος (c. 480-411 BCE)\n",
    "  * [[W](https://en.wikipedia.org/wiki/Cratylus)] Cratylus κρατύλος (floruit 5th Century BCE)\n",
    "    * [[W](https://en.wikipedia.org/wiki/Cratylism)] Cratylism\n",
    "  * [[W](https://en.wikipedia.org/wiki/Hippias)] Hippias of Elis ἱππίας ὁ ἠλεῖος (floruit 5th Century BCE)\n",
    "  * [[W](https://en.wikipedia.org/wiki/Protagoras)] Protagoras πρωταγόρας (c. 490-420 BCE)\n",
    "  * [[W](https://en.wikipedia.org/wiki/Thrasymachus)] Thrasymachus θρασύμαχος (c. 459-400 BCE)\n",
    "* [[W](https://en.wikipedia.org/wiki/Stoicism)] Stoicism\n",
    "  * [[W](https://en.wikipedia.org/wiki/Chrysippus)] Chrysippus of Soli χρύσιππος ὁ σολεύς (c. 279-206 BCE)\n",
    "  * [[W](https://en.wikipedia.org/wiki/Cleanthes)] Cleanthes of Assos κλεάνθης (c. 330-230 BCE)\n",
    "  * [[W](https://en.wikipedia.org/wiki/Epictetus)] Epictetus ἐπίκτητος (c. 50-135)\n",
    "    * [[W](https://en.wikipedia.org/wiki/Discourses_of_Epictetus)] Discourses of Epictetus\n",
    "    * [[W](https://en.wikipedia.org/wiki/Enchiridion_of_Epictetus)] Enchiridion of Epictetus\n",
    "  * [[W](https://en.wikipedia.org/wiki/Zeno_of_Citium)] Zeno of Citium ζήνων ὁ κιτιεύς (c. 334-262 BCE)\n",
    "  * [[W](https://en.wikipedia.org/wiki/Stoic_logic)] Stoic Logic\n",
    "  * [[W](https://en.wikipedia.org/wiki/Stoic_physics)] Stoic Physics"
   ]
  },
  {
   "cell_type": "markdown",
   "metadata": {},
   "source": [
    "### Neoplatonism and Doxography"
   ]
  },
  {
   "cell_type": "markdown",
   "metadata": {},
   "source": [
    "[[W](https://en.wikipedia.org/wiki/Neoplatonism)] Neoplatonism\n",
    "* [[W](https://en.wikipedia.org/wiki/Clement_of_Alexandria)] Clement of Alexandria κλήμης ὁ ἀλεξανδρεύς (150-215)\n",
    "* [[W](https://en.wikipedia.org/wiki/Diogenes_Laertius)] Diogenes Laertius διογένης λαέρτιος (3rd century)\n",
    "* [[W](https://en.wikipedia.org/wiki/Hippolytus_of_Rome)] Hippolytus of Rome ἱππόλυτος (170-235)\n",
    "* [[W](https://en.wikipedia.org/wiki/Plotinus)] Plotinus πλωτῖνος (204-270)\n",
    "* [[W](https://en.wikipedia.org/wiki/Proclus)] Proclus πρόκλος ὁ διάδοχος (412-485)\n",
    "* [[W](https://en.wikipedia.org/wiki/Pseudo-Plutarch)] Pseudo-Plutarch\n",
    "* [[W](https://en.wikipedia.org/wiki/Simplicius_of_Cilicia)] Simplicius of Cilicia σιμπλίκιος ὁ κίλιξ (480-560)"
   ]
  },
  {
   "cell_type": "markdown",
   "metadata": {},
   "source": [
    "---"
   ]
  },
  {
   "cell_type": "markdown",
   "metadata": {},
   "source": [
    "## Resources"
   ]
  },
  {
   "cell_type": "markdown",
   "metadata": {},
   "source": [
    "[[H](https://opengreekandlatin.org/)] Open Greek & Latin\n",
    "\n",
    "[[H](https://www.loebclassics.com/)] Loeb Classical Library [HUP](https://www.hup.harvard.edu/collection.php?cpk=1031)\n",
    "\n",
    "[[H](https://www.perseus.tufts.edu/hopper/)] Perseus Digital Library 4.0\n",
    "\n",
    "[[H](https://scaife.perseus.org/)] Scaife Viewer (Perseus Digital Library 5.0)"
   ]
  },
  {
   "cell_type": "markdown",
   "metadata": {},
   "source": [
    "---"
   ]
  },
  {
   "cell_type": "markdown",
   "metadata": {},
   "source": [
    "## Texts"
   ]
  },
  {
   "cell_type": "markdown",
   "metadata": {},
   "source": [
    "Kahn, Charles. (2016). _Plato and the Post-Socratic Dialogue: The Return to the Philosophy of Nature_. Cambridge: Cambridge University Press.\n",
    "\n",
    "Kahn, Charles. (2009). _Essays on Being_. Oxford University Press.\n",
    "\n",
    "Kahn, Charles. (2001). _Pythagoras and the Pythagoreans: A Brief History_. Hackett.\n",
    "\n",
    "Kahn, Charles. (1996). _Plato and the Socratic Dialogue: The Philosophical Use of a Literary Form_. Cambridge University Press.\n",
    "\n",
    "Kahn, Charles. (1979). _The Art and Thought of Heraclitus: An Edition of the Fragments with Translation and Commentary_. Cambridge: Cambridge University Press.\n",
    "\n",
    "Kahn, Charles. (1960). _Anaximander and the Origins of Greek Cosmology_. Hackett.\n",
    "\n",
    "Klein, Jacob. (1968). _Greek Mathematical Thought and the Origin of Algebra_. MIT Press.\n",
    "\n",
    "Moore, Christopher. (2019). _Calling Philosophers Names: On the Origin of a Discipline_. Princeton University Press.\n",
    "\n",
    "Moore, Christopher. (2019). _Socrates and Self-Knowledge_. Cambridge University Press.\n",
    "\n",
    "Sallis, John. (2022). _Ethicality and Imagination: On Luminous Abodes_. Indiana University Press.\n",
    "\n",
    "Sallis, John. (2020). _Chorology: On Beginning in Plato's Timaeus_. Indiana University Press.\n",
    "\n",
    "Sallis, John. (2016). _The Figure of Nature: On Greek Origins_. Indiana University Press.\n",
    "\n",
    "Sallis, John. (1996). _Being and Logos: Reading the Platonic Dialogues_. Indiana University Press.\n",
    "\n",
    "Sentesy, Mark. (2022). \"Being, Identity, and Difference in Heraclitus and Parmenides\". Ancient Philosophy Today.\n",
    "\n",
    "Sentesy, Mark. (2020). _Aristotle's Ontology of Change_. Northwestern University Press.\n",
    "\n",
    "Sentesy, Mark. (2018). \"Are Potency and Actuality Compatible in Aristotle?\".\n",
    "\n",
    "Sentesy, Mark. (2017). \"The Now and the Relation between Motion and Time in Aristotle: A Systematic Reconstruction\". Apeiron.\n",
    "\n",
    "Sentesy, Mark. (2012). \"On the Many Senses of Potency According to Aristotle\".\n",
    "\n",
    "Vlastos, Gregory. (2005). _Plato's Universe_.\n",
    "\n",
    "Vlastos, Gregory. (1995). _Studies in Greek Philosophy Volume II: Socrates, Plato, and Their Tradition_. Princeton University Press.\n",
    "\n",
    "Vlastos, Gregory. (1995). _Studies in Greek Philosophy Volume I: the Presocratics_. Princeton University Press.\n",
    "\n",
    "Vlastos, Gregory. (1994). _Socratic Studies_. Cambridge University Press.\n",
    "\n",
    "Vlastos, Gregory. (1991). _Socrates, Ironist and Moral Philosopher_. Cornell University Press.\n",
    "\n",
    "Vlastos, Gregory. (1973). _Platonic Studies_. Princeton University Press.\n",
    "\n",
    "Vlastos, Gregory. (1971/1980). _The Philosophy of Socrates: a Collection of Critical Essays_. University of Notre Dame Press.\n",
    "\n",
    "Wilson, Malcolm. (2016). _Structure and Method in Aristotle's Meteorologica: A More Disorderly Nature_. Cambridge University Press.\n",
    "\n",
    "Wilson, Malcolm. (2000). _Aristotle's Theory of the Unity of Science_. University of Toronto Press.\n",
    "\n",
    "Hippocrates, Heracleitus. _Nature of Man. Regimen in Health. Humours. Aphorisms. Regimen 1-3. Dreams. Heracleitus: On the Universe_. Translated by W. H. S. Jones. [Loeb Classical Library 150. Cambridge, MA: Harvard University Press, 1931](https://www-loebclassics-com.ezaccess.libraries.psu.edu/view/LCL150/1931/volume.xml).\n",
    "\n",
    "Publishers\n",
    "* Focus Philosophical Library\n",
    "* Hackett\n",
    "* Loeb Classical Library\n",
    "* Phoenix Presocratic Series\n",
    "\n",
    "Parmenides\n",
    "* [Hackett](https://hackettpublishing.com/classics/ancient-philosophy/parmenides)\n",
    "* [Phoenix Presocratic Series](https://utorontopress.com/9780802069085/parmenides-of-elea/)\n",
    "* [SEP](https://plato.stanford.edu/entries/parmenides/)"
   ]
  },
  {
   "cell_type": "markdown",
   "metadata": {},
   "source": [
    "---"
   ]
  },
  {
   "cell_type": "markdown",
   "metadata": {},
   "source": [
    "## Figures"
   ]
  },
  {
   "cell_type": "markdown",
   "metadata": {},
   "source": [
    "* [H][[W](https://en.wikipedia.org/wiki/Paul_Friedl%C3%A4nder_(philologist))] Friedlander, Paul\n",
    "* [H][[W](https://en.wikipedia.org/wiki/Thorkild_Jacobsen)] Jacobsen, Thorkild (1904-1993)\n",
    "* [H][[W](https://en.wikipedia.org/wiki/Charles_H._Kahn)] Kahn, Charles\n",
    "* [H][[W](https://en.wikipedia.org/wiki/Jacob_Klein_(philosopher))] Klein, Jacob (1899-1978)\n",
    "* [H][W] Lebedev, Andrei https://crete.academia.edu/AndreiLebedev\n",
    "* [[H](https://sites.psu.edu/moore/)][W] Moore, Christopher\n",
    "* [H][[W](https://en.wikipedia.org/wiki/C._D._C._Reeve)] Reeve, C. D. C.\n",
    "* [H][[W](https://en.wikipedia.org/wiki/Dennis_J._Schmidt)] Schmidt, Dennis\n",
    "* [H][W] Sentesy, Mark\n",
    "* [H][[W](https://en.wikipedia.org/wiki/John_Sallis)] Sallis, John\n",
    "* [H][[W](https://en.wikipedia.org/wiki/Gregory_Vlastos)] Vlastos, Gregory (1907-1991)\n",
    "* [H][W] Wilson, Malcolm"
   ]
  },
  {
   "cell_type": "markdown",
   "metadata": {},
   "source": [
    "---"
   ]
  },
  {
   "cell_type": "markdown",
   "metadata": {},
   "source": [
    "## Terms"
   ]
  },
  {
   "attachments": {},
   "cell_type": "markdown",
   "metadata": {},
   "source": [
    "* [[W](https://en.wikipedia.org/wiki/Academic_skepticism)] Academic Skepticism\n",
    "* [[W](https://en.wikipedia.org/wiki/Agora)] Agora\n",
    "* [[W](https://en.wikipedia.org/wiki/Ancient_philosophy)] Ancient Philosophy\n",
    "* [[W](https://en.wikipedia.org/wiki/Ancient_Greek_philosophy)] Ancient Greek Philosophy\n",
    "* [[W](https://en.wikipedia.org/wiki/Ancient_Roman_philosophy)] Ancient Roman Philosophy\n",
    "* [[W](https://en.wikipedia.org/wiki/Dialectic)] Dialectic\n",
    "* [[W](https://en.wikipedia.org/wiki/Diels%E2%80%93Kranz_numbering)] Diels-Kranz Numbering\n",
    "* [[W](https://en.wikipedia.org/wiki/Diogenes_Laertius)] Diogenes Laertius\n",
    "* [W][[S](https://plato.stanford.edu/entries/doxography-ancient/)] Doxography of ancient philosophy\n",
    "* [[W](https://en.wikipedia.org/wiki/Classical_element)] Elements, Classical\n",
    "* [[W](https://en.wikipedia.org/wiki/Endurantism)] Endurantism\n",
    "* [[W](https://en.wikipedia.org/wiki/Hylomorphism)] Hylomorphism\n",
    "* [[W](https://en.wikipedia.org/wiki/Hylozoism)] Hylozoism\n",
    "* [[W](https://en.wikipedia.org/wiki/Hypostasis_(philosophy_and_religion))] Hypostasis\n",
    "* [[W](https://en.wikipedia.org/wiki/I_know_that_I_know_nothing)] I know that I know nothing\n",
    "* [[W](https://en.wikipedia.org/wiki/Ignoramus_et_ignorabimus)] Ignoramus et ignorabimus\n",
    "* [[W](https://en.wikipedia.org/wiki/Mereology)][[S](https://plato.stanford.edu/entries/mereology)] Mereology\n",
    "* [[W](https://en.wikipedia.org/wiki/Metaphysics)] Metaphysics\n",
    "* [[W](https://en.wikipedia.org/wiki/Monism)] Monism\n",
    "* [[W](https://en.wikipedia.org/wiki/Naturalism_(philosophy))] Naturalism\n",
    "* [[W](https://en.wikipedia.org/wiki/Nature)] Nature\n",
    "* [[W](https://en.wikipedia.org/wiki/Natural_philosophy)] Philosophy of Nature\n",
    "* [[W](https://en.wikipedia.org/wiki/Pseudepigrapha)] Pseudepigrapha\n",
    "* [[W](https://en.wikipedia.org/wiki/Ship_of_Theseus)] Ship of Theseus\n",
    "* [[W](https://en.wikipedia.org/wiki/Suspension_of_judgment)] Suspension of Judgment\n",
    "* [W] Testimonia"
   ]
  },
  {
   "cell_type": "markdown",
   "metadata": {},
   "source": [
    "* [W][[S](https://plato.stanford.edu/entries/ancient-soul/)] Ancient Theories of Soul\n",
    "* [[W](https://en.wikipedia.org/wiki/Atomism)] Atomism\n",
    "* [W] Dialectical Materialism\n",
    "* [W] Dialectical Monism\n",
    "* [W] Material Monism\n",
    "* [[W](https://en.wikipedia.org/wiki/Materialism)] Materialism\n",
    "* [W] Monism\n",
    "* [W][[S](https://plato.stanford.edu/entries/presocratics/)] Presocratic Philosophy"
   ]
  },
  {
   "cell_type": "markdown",
   "metadata": {},
   "source": [
    "* [[W](https://en.wikipedia.org/wiki/Aphorism)] Aphorism\n",
    "* [[W](https://en.wikipedia.org/wiki/Floruit)] Floruit\n",
    "* [[W](https://en.wikipedia.org/wiki/Tempore)] Tempore"
   ]
  },
  {
   "cell_type": "markdown",
   "metadata": {},
   "source": [
    "---"
   ]
  },
  {
   "cell_type": "markdown",
   "metadata": {},
   "source": [
    "## Notes"
   ]
  },
  {
   "cell_type": "markdown",
   "metadata": {},
   "source": [
    "Archaeologists and the Origins of Greek Philosophy [02/14]\n",
    "* Thales and Anaximander\n",
    "\n",
    "Logos and Dynamic Structure [02/16]\n",
    "* Heraclitus 1-50\n",
    "\n",
    "Dynamic Dualism, Mystic Monism [02/21]\n",
    "* Heraclitus 51-122\n",
    "* Parmenides 1-7\n",
    "\n",
    "Parmenides [02/23]\n",
    "* Parmenides 1-8\n",
    "\n",
    "Parmenides and Democritus [02/28]\n",
    "* Parmenides 9-19\n",
    "* Democritus\n",
    "\n",
    "Plato on Nature and the Good [03/02]\n",
    "* Protagoras 320d-323a\n",
    "* Republic II 368c-376d X 608d-end\n",
    "\n",
    "Plato on the Morality of Nature [03/14]\n",
    "* Republic X 608d-end\n",
    "* Timaeus   0-29d\n",
    "\n",
    "Intellectual Crafting of Nature [03/16]\n",
    "* Timaeus 27c-47e\n",
    "\n",
    "Matter as Blank\n",
    "* Timaeus 47e-53c\n",
    "\n",
    "Structure of Material\n",
    "* Friedlander's Plato as Physicist\n",
    "\n",
    "ARISTOTLE\n",
    "\n",
    "[03-30] the possibility of understanding nature\n",
    "- Physics I chs. 1-3,7-9 (the elements involved in the description of genesis)\n",
    "- Metaphysics I.1\n",
    "- Posterior Analytics II.19\n",
    "\n",
    "[04-04] elements and causes of nature\n",
    "- Metaphysics V.1-3 (source, cause, element)\n",
    "- Physics II.3,7-8 (four causes)\n",
    "- Heidegger, Question Concerning Technology (selection on four causes)\n",
    "- Gotthelf, Aristotle on Final Causality\n",
    "\n",
    "[04-06] nature as cause\n",
    "- Physics II.1-2\n",
    "- Metaphysics V.4\n",
    "- Heidegger, Aristotle's Physics\n",
    "\n",
    "[04-11] meanings of being and necessary vs contingent cause\n",
    "- Metaphysics V.5,7-8;VI.1-4\n",
    "\n",
    "[04-13] beyond materialism\n",
    "- Metaphysics IV.1-2 to 1003b18;VII.17 (the insufficiency of the elements);VIII.1-2,6 (the response to atomism)\n",
    "\n",
    "[04-13] the problem of mechanism and emergence\n",
    "- Physics II.4-6,9 (nature and the automatic)\n",
    "- Parts of Animals II.6 (Empedocles)\n",
    "\n",
    "[04-18] the definition of motion\n",
    "- Physics III.1-3\n",
    "- Brague's \"Aristotle's definition of motion and its ontological implications\"\n",
    "- Charles' \"Aristotle's processes\"\n",
    "- Sentesy's \"The Demonstration of Change in Physics III.1-2\"\n",
    "\n",
    "[04-25] the deduction of the first mover\n",
    "- Physics VIII.1-6,7-10\n",
    "\n",
    "[04-27] the first mover\n",
    "- Metaphysics XII.6-7\n",
    "\n",
    "SYLLABUS\n",
    "\n",
    "[03-21] matter; prime matter; artifice; nature\n",
    "- Physics I.7-9 (elements involved in the description of genesis)\n",
    "- Physics II.3 (four causes)\n",
    "- Metaphysics VII.7-9 (the preexistence of material and form)\n",
    "- Heidegger, Question Concerning Technology (selection on four causes)\n",
    "\n",
    "[03-23] the problem of mechanism and emergence\n",
    "- Physics II.4-9 (nature and the automatic)\n",
    "- Parts of Animals II.6 (Empedocles)\n",
    "- Lennox, On the Emergence of Material Complexity\n",
    "- Gotthelf, Aristotle on Final Causality\n",
    "\n",
    "[03-28] nature as an emergent source of motion\n",
    "- Physics II.1-2\n",
    "- Metaphysics V.4-5\n",
    "- Heidegger, Aristotle's Physics\n",
    "- Sentesy, Aristotle and Empedocles\n",
    "\n",
    "[03-30] beyond atomism to potency and activity\n",
    "- Metaphysics IV.1-2 to 1003b18\n",
    "- Metaphysics V.7-8 (being; substance)\n",
    "- Metaphysics VII.17 (insufficiency of elements)\n",
    "- Metaphysics VIII.1-2,6 (response to atomism)\n",
    "- Brague, Aristotle's Definition of Motion and Its Ontological Implications\n",
    "\n",
    "[04-04] the two problems of the soul\n",
    "- On the Soul I.1-5\n",
    "\n",
    "[04-06] life\n",
    "- On the Soul II.1-5\n",
    "- Metaphysics IX.7-8 (potency and activity)\n",
    "\n",
    "[04-11] perception and its media\n",
    "- On the Soul II.6-12\n",
    "\n",
    "[04-13] imagination; perception as the model for thought; active and passive intellect\n",
    "- On the Soul III.1-5\n",
    "\n",
    "[04-18] soul, as experience/thought and the source of movement; god\n",
    "- On the Soul III.6-13\n",
    "- Metaphysics XII"
   ]
  },
  {
   "cell_type": "markdown",
   "metadata": {},
   "source": [
    "---"
   ]
  }
 ],
 "metadata": {
  "kernelspec": {
   "display_name": "Python 3",
   "language": "python",
   "name": "python3"
  },
  "language_info": {
   "codemirror_mode": {
    "name": "ipython",
    "version": 3
   },
   "file_extension": ".py",
   "mimetype": "text/x-python",
   "name": "python",
   "nbconvert_exporter": "python",
   "pygments_lexer": "ipython3",
   "version": "3.11.4"
  },
  "orig_nbformat": 4,
  "vscode": {
   "interpreter": {
    "hash": "b0fa6594d8f4cbf19f97940f81e996739fb7646882a419484c72d19e05852a7e"
   }
  }
 },
 "nbformat": 4,
 "nbformat_minor": 2
}
