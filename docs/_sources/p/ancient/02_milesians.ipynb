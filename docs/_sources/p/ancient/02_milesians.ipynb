{
 "cells": [
  {
   "attachments": {},
   "cell_type": "markdown",
   "metadata": {},
   "source": [
    "# The Milesians"
   ]
  },
  {
   "attachments": {},
   "cell_type": "markdown",
   "metadata": {},
   "source": [
    "Thales, Anaximander, Anaximenes"
   ]
  },
  {
   "attachments": {},
   "cell_type": "markdown",
   "metadata": {},
   "source": [
    "---"
   ]
  },
  {
   "attachments": {},
   "cell_type": "markdown",
   "metadata": {},
   "source": [
    "MILESIAN COSMOLOGY\n",
    "\n",
    "mythic element\n",
    "\n",
    "tendency to conceive of cosmic life in concrete terms\n",
    "* the emergence of the heavens from something capable of generation [γονιμον] (from a fertile seed)\n",
    "\n",
    "the world is a geometrical organism suffused with life\n",
    "\n",
    "this is the stimulus to all modern endeavors to interpret the total process of nature in terms of organic life (e.g. Leibniz)\n",
    "\n",
    "* the sun is the source of the fiery principle\n",
    "* αηρ is the source and material of atmospheric events\n",
    "\n",
    "Anaximander,Anaximenes\n",
    "* an aery fluid charged with water vapor\n",
    "\n",
    "the science of nature\n",
    "* astronomy\n",
    "* meterology\n",
    "* biology\n",
    "\n",
    "interest in\n",
    "* solstices\n",
    "* equinoxes\n",
    "* the measurement of days and hours: the sun's annual progress among the stars marks out the stages of seasonal change in the earth's atmosphere"
   ]
  },
  {
   "cell_type": "markdown",
   "metadata": {},
   "source": [
    "Aristotle\n",
    "* the Pythagorean heaven which is composed of numbers first takes shape by breathing in spirit [πνευμα] and void out of the boundless [απειρον]\n",
    "\n",
    "cosmic breath/respiration\n",
    "* found in the Milesians\n",
    "* attacked by Xenophanes, Plato\n",
    "\n",
    "Anaximenes\n",
    "* compare the cosmic breath to our own breath-soul [ψυχη]\n",
    "\n",
    "Epicurus,Lucretius\n",
    "* the sudden darkening of the heavens in a storm and the entry of bodies into our world from the external void\n",
    "* such is their speed that it is no cause for wonder that tempest and darkness should quickly cover land and sea and the whole limits of the sky at every point, while the elemental bodies leave and return again as if by breathing pores round about the mighty world"
   ]
  },
  {
   "attachments": {},
   "cell_type": "markdown",
   "metadata": {},
   "source": [
    "---"
   ]
  },
  {
   "attachments": {},
   "cell_type": "markdown",
   "metadata": {},
   "source": [
    "## Thales"
   ]
  },
  {
   "cell_type": "markdown",
   "metadata": {},
   "source": [
    "### Fragments & Testimonia"
   ]
  },
  {
   "attachments": {},
   "cell_type": "markdown",
   "metadata": {},
   "source": [
    "Plato's Theaetetus 174a\n",
    "* They say that once when Thales was gazing upwards while doing astronomy, he fell into a well, and that a witty and charming Thracian serving-girl made fun of him for being eager to know the things in the heavens but failing to notice what was just behind him and right by his feet.\n",
    "\n",
    "Aristotle's Politics I.11 1259a9-18\n",
    "* The story goes that when they were reproaching him for his poverty, supposing that philosophy is useless, he learned from his astronomy that the olive crop would be large.\n",
    "* Then, while it was still winter, he obtained a little money and made deposits on all the olive presses both in Miletus and in Chios, and since no one bid against him, he rented them cheaply.\n",
    "* When the time came, suddenly many requested the presses all at once, and he rented them out on whatever terms he wished, and so he made a great deal of money.\n",
    "* In this way he proved that philosophers can easily be wealthy if they wish, but this is not what they are interested in.\n",
    "\n",
    "Aristotle's Metaphysics I.3 983b6-27\n",
    "* Of those who first pursued philosophy, the majority believed that the only principles of all things are principles in the form of matter.\n",
    "* For that of which all existing things are composed and that from which they originally come to be and that into which they finally perish--the substance persisting but changing in its attributes--this they state is the element and principle of the things that are...\n",
    "* For there must be one or more natures from which the rest come to be, while it is preserved.\n",
    "* However, they do not all agree about how many or what kinds of such principles there are, but Thales, the founder of this kind of philosophy, stated it to be water.\n",
    "* (This is why he declared that the earth rests on water.)\n",
    "* He may have gotten this idea from seeing that the nourishment of all things is moist, and that even the hot itself comes to be from this and lives on this (the principle of all things is that from which they come to be)--getting this idea from this consideration and also because the seeds of all things have a moist nature; and water is the principle of the nature of moist things.\n",
    "\n",
    "[LSH] Aristotle's Metaphysics 983b6-11,17-27\n",
    "* Most of the first philosophers thought that principles in the form of matter were the only principles of all things.\n",
    "* For they say that the element and first principle of the things that exist is that from which they all are and from which they first come into being and into which they are finally destroyed, its substance remaining and its properties changing...\n",
    "* There must be some nature--either one or more than one--from which the other things come into being, it being preserved.\n",
    "* But as to the number and form of this sort of principle, they do not all agree.\n",
    "* Thales, the founder of this kind of philosophy, says that it is water (that is why he declares that the earth rests on water).\n",
    "* He perhaps came to acquire this belief from seeing that the nourishment of everything is moist and that heat itself comes from this and lives by this (for that from which anything comes into being is its first principle)--he came to his belief both for this reason and because the seeds of everything have a moist nature, and water is the natural principle of moist things.\n",
    "\n",
    "Aristotle's On the Heavens II.13 294a28-34; tpc\n",
    "* Some say [the earth] rests on water.\n",
    "* This is the oldest account that we have inherited, and they say that Thales of Miletus said this.\n",
    "* It rests because it floats like wood or some other such thing (for nothing is by nature such as to rest on air, but on water).\n",
    "* He says this just as though the same argument did not apply to the water supporting the earth as to the earth itself!\n",
    "\n",
    "[LSH] Aristotle's On the Heavens 294a28-34\n",
    "* Some say that [the earth] rests on water.\n",
    "* This in fact is the oldest view that has been transmitted to us, and they say that it was advanced by Thales of Miletus who thought that the earth rests because it can float like a log or something else of that sort (for none of these things can rest on air, but they can rest on water)--as though the same must not hold of the water supporting the earth as holds of the earth itself.\n",
    "\n",
    "Aristotle's De Anima I.2 405a19-21; tpc\n",
    "* Some say the soul is mixed in with the whole universe, and perhaps this is why Thales supposed that all things are full of gods.\n",
    "* From what is related about him, it seems that Thales too held that the soul is something productive of motion, if indeed he said that the lodestone has soul, because it moves iron.\n",
    "\n",
    "[LSH] Aristotle's On the Soul 405a19-21,411a7-8\n",
    "* Thales, judging by what they report, seems to have believed that the soul was something which produces motion, inasmuch as he said that the magnet has a soul because it moves iron.\n",
    "* Some say that soul is mixed in the whole universe.\n",
    "* Perhaps that is why Thales thought that everything was full of gods.\n",
    "\n",
    "[LSH] Diogenes Laertius' Lives of the Philosophers I 22-28,33-40\n",
    "* He supposed that water was the first principle of all things, and that the world has a soul and is full of spirits.\n",
    "* They say he discovered the seasons of the year and divided it into three hundred and sixty-five days.\n",
    "* Aristotle and Hippias say that he ascribed souls to lifeless things too, taking the magnet and amber as his evidence.\n",
    "* The following aphorisms are ascribed to him.\n",
    "* Of existing things, god is the oldest--for he is ungenerated.\n",
    "* The world is the most beautiful--for it is god's creation.\n",
    "* Space is the greatest--for it includes everything.\n",
    "* Mind is the swiftest--for it runs through everything.\n",
    "* Necessity is the strongest--for it controls everything.\n",
    "* Time is the wisest--for it discovers everything.\n",
    "* He said that death is no different from life. \"Then why don't you die?\" someone asked him. \"Because it makes no difference\", he replied.\n",
    "* When someone asked him which came first, day or night, he answered, \"Night came first--by a day.\"\n",
    "* When someone asked him whether a man can escape the notice of the gods if he does wrong, he replied: \"Not even if he thinks of doing wrong.\"\n",
    "* An adulterer asked him if he should swear that he had not committed adultery: he replied, \"Perjury is no worse than adultery.\"\n",
    "* When asked what is difficult, he said, \"To know yourself\"; what is easy, \"To give advice to someone else\"; what most pleasant, \"Success\"; what divine, \"What has neither beginning nor end.\"\n",
    "* When asked what was the strangest thing he had seen, he said: \"An old tyrant.\"\n",
    "* How can we bear misfortune most easily?--If we see our enemies faring worse.\n",
    "* How can we live best and most justly?--If we do not ourselves do the things we blame others for doing.\n",
    "* Who is happy?--One who has a healthy body, a well-stocked soul, and an educable nature."
   ]
  },
  {
   "attachments": {},
   "cell_type": "markdown",
   "metadata": {},
   "source": [
    "### Reflections"
   ]
  },
  {
   "attachments": {},
   "cell_type": "markdown",
   "metadata": {},
   "source": [
    "Thales proved 6 theorems?\n",
    "* interest in astronomy,geometry,engineering,mathematics\n",
    "* interest in reason\n",
    "* interest in proof\n",
    "\n",
    "everything/nature is of water/wetness\n",
    "* everything comes from water as the originating source\n",
    "  * water is the source of change,motion; water is the nourishment of fire\n",
    "* material monism: everything really is water in one form or another\n",
    "* generalization from the phenomena of life to nature itself\n",
    "\n",
    "via Aristotle, interested in motion and biology\n",
    "* the earth floats/rests on water\n",
    "* the nourishment of all things is moist\n",
    "* even the hot itself comes to be this and lives on this (the principle of all things is that from which they come to be)\n",
    "* the seeds of all things have a moist nature\n",
    "* water is the principle of the nature of moist things\n",
    "* via living things to their moistness\n",
    "* soul produces motion; a magnetic lodestone has soul because it causes iron to move\n",
    "* gold is made of water due to its malleability\n",
    "\n",
    "WATER AS SOURCE OF MOTION\n",
    "* water characterizes the things that have motion\n",
    "* things that have motion have water\n",
    "* the things that move themselves are wet\n",
    "* motion has to originate in wet things\n",
    "* moisture is needed for smooth motion\n",
    "* we need to eat wet things to sustain ourselves\n",
    "* water is the facilitator, the thing that sets things in motion, the thing that makes things possible\n",
    "\n",
    "\"it is water\"\n",
    "* focus: the wateriness of phenomena,things\n",
    "* an ontological characterization of what the world is, an ontological claim about being, about what things are; not a physical characterization about individual entities\n",
    "* water is not some particular, individuated thing that is separable from other things\n",
    "* to say that all/it is water is to characterize things in terms of their wateriness and to relate all things to each other by means of their wateriness\n",
    "\n",
    "everything/nature is full of gods/souls/spirits\n",
    "* the soul is mixed with living things and non living things; therefore, all is full of gods\n",
    "* soul, a marker,source of change,motion\n",
    "\n",
    "there is change; change is\n",
    "* the change from being one thing into begin another thing, the transformation is the thing that Thales is drawing our attention to\n",
    "\n",
    "phenomena of life, life as an origin of change\n",
    "\n",
    "water is the thing that makes life possible and the thing that sets it in motion"
   ]
  },
  {
   "attachments": {},
   "cell_type": "markdown",
   "metadata": {},
   "source": [
    "Claim: everything is of water\n",
    "\n",
    "Evidence: water is essential to life\n",
    "\n",
    "Claim: all things have soul\n",
    "\n",
    "Evidence: magnets can move iron, and anything that is capable of initiating movement is animate/alive; anything that is animate/alive has soul"
   ]
  },
  {
   "attachments": {},
   "cell_type": "markdown",
   "metadata": {},
   "source": [
    "---"
   ]
  },
  {
   "attachments": {},
   "cell_type": "markdown",
   "metadata": {},
   "source": [
    "## Anaximander"
   ]
  },
  {
   "attachments": {},
   "cell_type": "markdown",
   "metadata": {},
   "source": [
    "### Fragments & Testimonia"
   ]
  },
  {
   "cell_type": "markdown",
   "metadata": {},
   "source": [
    "Simplicius' Commentary on Aristotle's Physics 24.13-21\n",
    "* Of those who declared that the arche is one, moving and apeiron, Anaximander...said that the apeiron was the arche and element of things that are, and he was the first to introduce this name for the arche [that is, he was the first to call the arche apeiron].\n",
    "* (In addition he said that motion is eternal, in which it occurs that the heavens come to be.)\n",
    "* He says that the arche is neither water nor any other of the things called elements, but some other nature which is apeiron, out of which come to be all the heavens and the worlds in them.\n",
    "* The things that are perish into the things from which they come to be, according to necessity, for they pay penalty and retribution to each other for their injustice in accordance with the ordering of time, as he says in rather poetical language.\n",
    "\n",
    "Hippolytus' Refutation of All Heresies 1.6.1-2\n",
    "* He says that the arche is neither water nor any of the other things called elements, but some nature which is apeiron, out of which come to be all the heavens and the worlds in them.\n",
    "* This is eternal and ageless and surrounds all the worlds...\n",
    "* In addition he said that motion is eternal, in which it occurs that the heavens come to be.\n",
    "\n",
    "Pseudo-Plutarch's Miscellanies 2\n",
    "* He declares that what arose from the eternal and is productive of [or, \"capable of giving birth to\"] hot and cold was separated off at the coming to be of this kosmos, and a kind of sphere of flame from this grew around the dark mist about the earth like bark about a tree.\n",
    "* When it was broken off and enclosed in certain circles, the sun, moon, and stars came to be.\n",
    "\n",
    "Aetius 2.21.1\n",
    "* Anaximander says that the sun is equal to the earth, and the circle where it has its vent and on which it is carried is twenty-seven times the size of the earth.\n",
    "\n",
    "Aetius 2.16\n",
    "* Anaximander says that the stars are borne by the circles and spheres on which each one is mounted.\n",
    "\n",
    "Hippolytus' Refutations of All Heresies 1.6.3-7\n",
    "* The earth is aloft and is not supported by anything.\n",
    "* It stays at rest because its distance from all things is equal.\n",
    "* The earth's shape is curved, round, like a stone column.\n",
    "* We walk on one of the surfaces and the other one is set opposite.\n",
    "* The stars come to be as a circle of fire separated off from the fire in the kosmos and enclosed by dark mist.\n",
    "* There are vents, certain tube-like passages at which the stars appear.\n",
    "* For this reason, eclipses occur when the vents are blocked.\n",
    "* The moon appears sometimes waxing, sometimes waning as the passages are blocked or opened.\n",
    "* The circle of the sun is twenty-seven times that of the earth and that of the moon eighteen times, and the sun is highest, and the circles of the fixed stars are lowest.\n",
    "* Winds occur when the finest vapors of dark mist are separated off and collect together and then are set in motion.\n",
    "* Rain results from the vapor arising from the earth under the influence of the sun.\n",
    "* Lightning occurs whenever wind escapes and splits the clouds apart.\n",
    "\n",
    "Aetius 3.3.1\n",
    "* Anaximander says that these [thunder, lightning, thunderbolts, waterspouts, and hurricanes] all result from wind.\n",
    "* For whenever it [wind] is enclosed in a thick cloud and forcibly escapes because it is so fine and light, then the bursting [of the cloud] creates the noise and the splitting creates the flash against the blackness of the cloud.\n",
    "\n",
    "Aristotle's On the Heavens II.13 295b11-16\n",
    "* Some, like Anaximander...declare that the earth stays at rest because of equality.\n",
    "* For it is no more fitting for what is situated at the center and is equally far from the extremes to move up rather than down or sideways.\n",
    "* And it is impossible for it to move in opposite directions at the same time.\n",
    "* Therefore, it stays at rest of necessity.\n",
    "\n",
    "Aetius 5.19.4\n",
    "* Anaximander says that the first animals were produced in moisture, enclosed in thorny barks.\n",
    "* When their age advanced they came out onto their drier part, their bark broke off, and they lived a different mode of life for a short time.\n",
    "\n",
    "Pseudo-Plutarch's Opinions 2\n",
    "* He also declares that in the beginning humans were born from animals of a different kind, since other animals quickly manage on their own, and humans alone require lengthy nursing.\n",
    "* For this reason they would not have survived if they had been like this at the beginning.\n",
    "\n",
    "Censorinus' On the Days of Birth 4.7\n",
    "* Anaximander...believed that there arose from heated water and earth either fish or animals very like fish.\n",
    "* In these, humans grew and were kept inside as embryos up to puberty.\n",
    "* Then finally they burst, and men and women came forth already able to nourish themselves."
   ]
  },
  {
   "attachments": {},
   "cell_type": "markdown",
   "metadata": {},
   "source": [
    "### Reflection"
   ]
  },
  {
   "cell_type": "markdown",
   "metadata": {},
   "source": [
    "APEIRON\n",
    "* indefinite\n",
    "* unbounded\n",
    "* later, infinite\n",
    "\n",
    "apeiron\n",
    "* moving\n",
    "* governing\n",
    "* eternal\n",
    "* divine\n",
    "* gives rise to something productive of hot and cold\n",
    "* the hot takes the form of fire, the origin of the sun and the other heavenly bodies\n",
    "* the cold is a dark mist that can be transformed into air and earth which are both originally moist but become drier as a result of fire\n",
    "* substantial opposites, the hot and the cold, act on one another and are in turn the generating stuffs for the sensible world\n",
    "* the reciprocal action of the opposites: changes in nature are not capricious, but ordered\n",
    "* there are lawlike forces guaranteeing the orderly proceses of change between opposites"
   ]
  },
  {
   "cell_type": "markdown",
   "metadata": {},
   "source": [
    "PRINCIPLE: the boundless, indefinite, infinite, limitless, unbounded, unlimited\n",
    "\n",
    "that which has no specific characteristics"
   ]
  },
  {
   "attachments": {},
   "cell_type": "markdown",
   "metadata": {},
   "source": [
    "* Indefiniteness\n",
    "* Infinitude\n",
    "* Infinity\n",
    "* Unboundedness\n",
    "* Unlimitedness\n",
    "\n",
    "Bound, limit suggests\n",
    "* differentiation: the four elements differ, oppose one another, become one another\n",
    "* dynamic\n",
    "* inside time and space\n",
    "* the \"form\" of time and space\n",
    "\n",
    "Unboundedness\n",
    "* monolithic\n",
    "* static\n",
    "* outside time and space; the \"matter\" of time and space\n",
    "\n",
    "cause, source, arche: Anaximander\n",
    "\n",
    "if the infinite is, then it must be the principle of all things\n",
    "\n",
    "limitedness accounts for the ability of one thing to transform into another"
   ]
  },
  {
   "cell_type": "markdown",
   "metadata": {},
   "source": [
    "ANAXIMANDER\n",
    "* there is no gap between atmospheric events and the study of the stars\n",
    "* there is no distinction between physical bodies and ideal mathematical constructions\n",
    "* the circles of the sun and moon exhale their flame from tubular pores [εκπνοαι]\n",
    "* primeval moisture which lay about the earth before the sea was formed\n",
    "* the first appearance of fire above the air around the earth\n",
    "* the action of celestial fire is to separate wind from water\n",
    "\n",
    "separating-off, the process by which are produced the following\n",
    "* Hot and Cold\n",
    "* the circles of the stars\n",
    "* the heavens\n",
    "\n",
    "lightning and thunder are produced in the following way\n",
    "* fine wind vapor is trapped within a thick dark cloud\n",
    "* under the influence of the heat of the sun, the wind rips out of the thick dark cloud and ignites\n",
    "\n",
    "the celestial fire is an indefinitely occurring instance of this atmospheric phenomenon\n",
    "\n",
    "meteorology\n",
    "* wind and water are produced via αποκρισις from air under the influence of the sun's heat\n",
    "\n",
    "* the finest vapors are separated from the grosser bulk of αηρ under the influence of the sun's heat; they are thus set in motion and constitute a wind when a sifficient quantity have been gathered together\n",
    "* what residue is left over in the αηρ is a thick cloud on its way to precipitation in raindrops or some similar form\n",
    "\n",
    "* at first the entire region about the earth was moist, but, as it was dried up by the sun, what was evaporated produced the winds [πνευματα]...while the remainder is the sea\n",
    "* the emergence of atmosphere and sea from primitive moisture is strictly comparable to the production of wind and rain cloud out of the air\n",
    "\n",
    "* winds are produced when the finest vapors of the air are separated off and move together in one mass\n",
    "* wind is a flow of air, when the finest parts in it are set in motion by the sun, and the wettest portions are melted (i.e., liquefied)\n",
    "* rainfall arises from the vapor emitted by the earth under the action of the sun\n",
    "* lightning occurs when a wind [ανεμος] leaping forth separates the clouds\n",
    "* concerning thunder, lightning, thunderbolt, fire-winds, whirlwinds: all these arise from wind [πνευμα]. for, when it is enclosed in a thick cloud and bursts out violently because of its lightness and the fineness of its parts, then the tearing of the cloud produces the noise, the dilation (or explosion) causes the flash, by contrast with the darkness of the cloud"
   ]
  },
  {
   "cell_type": "markdown",
   "metadata": {},
   "source": [
    "ORIGIN OF THE SEA\n",
    "\n",
    "the evaporation of the primeval moisture by the celestial fire is the reason for\n",
    "* water\n",
    "* dry land\n",
    "* winds\n",
    "* rain clouds\n",
    "\n",
    "the celestial fire is dependent upon the evaporating moisture\n",
    "* having grown out of and around the primeval moist air like bark around a tree, it must receive sustenance from the same source\n",
    "\n",
    "The sea is a remainder of the first moisture, of which the greatest part was dried up by fire, while the rest was changed (made salty?) by the process of heating.\n",
    "* the sea is a remnant of the first moisture\n",
    "* the region about the earth was moist\n",
    "* part of the moisture was evaporated by the sun\n",
    "* winds, solstices, and turnings of the moon arose in the process of the evaporation\n",
    "* the turnings of these bodies are due to such vapors and exhalations, and they turn about the places where there is an abundance of moisture for them\n",
    "* the part of the moisture which was left behind in the hollow regions of the earth is the sea\n",
    "* [the sea?] is continually diminished and dried up by the sun, and will someday finally dry"
   ]
  },
  {
   "cell_type": "markdown",
   "metadata": {},
   "source": [
    "* the sun evaporates αηρ"
   ]
  },
  {
   "attachments": {},
   "cell_type": "markdown",
   "metadata": {},
   "source": [
    "---"
   ]
  },
  {
   "attachments": {},
   "cell_type": "markdown",
   "metadata": {},
   "source": [
    "## Anaximenes"
   ]
  },
  {
   "attachments": {},
   "cell_type": "markdown",
   "metadata": {},
   "source": [
    "### Reflections"
   ]
  },
  {
   "attachments": {},
   "cell_type": "markdown",
   "metadata": {},
   "source": [
    "τὰς ἐπισημασίας τάς τε θερινὰς καὶ τὰς χειμερινὰς...γὶνεσθαι...διὰ τὸν ἥλιον μόνον.\n",
    "* all seasonal changes are attributed to the action of the sun alone\n",
    "\n",
    "ἀστραπὴν (γίνεσθαι) ὅταν τὰ νέφη διστῆται βίᾳ πνευμάτον τούτον γὰρ δισταμένων λαμπρὰν καὶ πυρώδη γίνεσθαι τὴν αὐγήν."
   ]
  },
  {
   "cell_type": "markdown",
   "metadata": {},
   "source": [
    "Anaximander's principle is too indefinite\n",
    "\n",
    "Thales' and Anaximander's theories provide no mechanism to account for the transformations of their basic stuff\n",
    "\n",
    "PRINCIPLE: air\n",
    "\n",
    "MECHANISM: condensation, rarefaction\n",
    "\n",
    "the condensation of air produces other stuff"
   ]
  },
  {
   "cell_type": "markdown",
   "metadata": {},
   "source": [
    "---"
   ]
  },
  {
   "cell_type": "markdown",
   "metadata": {},
   "source": [
    "## Notes"
   ]
  },
  {
   "cell_type": "markdown",
   "metadata": {},
   "source": [
    "Kahn 1994 - Hippolytus - ὑπὸ μηδενός κρατουμένην \"the earth remains aloft 'not dominated by anything'\"\n",
    "\n",
    "κρατεῖν\n",
    "\n"
   ]
  },
  {
   "cell_type": "markdown",
   "metadata": {},
   "source": [
    "---"
   ]
  },
  {
   "attachments": {},
   "cell_type": "markdown",
   "metadata": {},
   "source": [
    "## Bibliography"
   ]
  },
  {
   "attachments": {},
   "cell_type": "markdown",
   "metadata": {},
   "source": [
    "Cohen, S. Marc; Patricia Curd; & C. D. C. Reeve (eds.). (2016). _Readings in Ancient Greek Philosophy from Thales to Aristotle_. 5th Ed. Hackett.\n",
    "\n",
    "Kahn, Charles H. (1994). _Anaximander and the Origins of Greek Cosmology_. Hackett."
   ]
  },
  {
   "attachments": {},
   "cell_type": "markdown",
   "metadata": {},
   "source": [
    "---"
   ]
  }
 ],
 "metadata": {
  "language_info": {
   "name": "python"
  },
  "orig_nbformat": 4
 },
 "nbformat": 4,
 "nbformat_minor": 2
}
