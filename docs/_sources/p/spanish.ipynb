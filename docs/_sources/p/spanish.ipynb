{
 "cells": [
  {
   "cell_type": "markdown",
   "metadata": {},
   "source": [
    "# Spanish Philosophy"
   ]
  },
  {
   "cell_type": "markdown",
   "metadata": {},
   "source": [
    "---"
   ]
  },
  {
   "cell_type": "markdown",
   "metadata": {},
   "source": [
    "## Figures"
   ]
  },
  {
   "cell_type": "markdown",
   "metadata": {},
   "source": [
    "* [[W](https://en.wikipedia.org/wiki/Gustavo_Bueno)] Bueno, Gustavo (1924-2016)\n",
    "* [[W](https://en.wikipedia.org/wiki/Antonio_Escohotado)] Escohotado, Antonio (1941-2021)\n",
    "* [[W](https://en.wikipedia.org/wiki/Jos%C3%A9_Ortega_y_Gasset)] Ortega y Gasset, José (1883-1955)\n",
    "* [[W](https://en.wikipedia.org/wiki/Fernando_Savater)] Savater, Fernando (1947-)\n",
    "* [[W](https://en.wikipedia.org/wiki/School_of_Salamanca)] School of Salamanca\n",
    "* [[W](https://en.wikipedia.org/wiki/Francisco_Su%C3%A1rez)] Suárez, Francisco (1548-1617)\n",
    "* [[W](https://en.wikipedia.org/wiki/Xavier_Zubiri)] Zubiri, Xavier (1898-1983)"
   ]
  },
  {
   "cell_type": "markdown",
   "metadata": {},
   "source": [
    "---"
   ]
  },
  {
   "cell_type": "markdown",
   "metadata": {},
   "source": [
    "## Terms"
   ]
  },
  {
   "cell_type": "markdown",
   "metadata": {},
   "source": [
    "* [[W](https://en.wikipedia.org/wiki/Spanish_philosophy)] Spanish Philosophy"
   ]
  },
  {
   "cell_type": "markdown",
   "metadata": {},
   "source": [
    "---"
   ]
  }
 ],
 "metadata": {
  "language_info": {
   "name": "python"
  },
  "orig_nbformat": 4
 },
 "nbformat": 4,
 "nbformat_minor": 2
}
