{
 "cells": [
  {
   "attachments": {},
   "cell_type": "markdown",
   "metadata": {},
   "source": [
    "# Philosophy of Math"
   ]
  },
  {
   "attachments": {},
   "cell_type": "markdown",
   "metadata": {},
   "source": [
    "---"
   ]
  },
  {
   "cell_type": "markdown",
   "metadata": {},
   "source": [
    "## Texts"
   ]
  },
  {
   "cell_type": "markdown",
   "metadata": {},
   "source": [
    "* Nagel, Ernest & James R. Newman. (2015). _Gödel's Proof_. Routledge Classics.\n",
    "* Nagel, Ernest & James R. Newman. (2008). _Gödel's Proof_. Revised Ed. NYU Press.\n",
    "* [ [W](https://en.wikipedia.org/wiki/How_to_Solve_It) ] Pólya, George. (1945). _How to Solve It_. Princeton University Press."
   ]
  },
  {
   "cell_type": "markdown",
   "metadata": {},
   "source": [
    "---"
   ]
  },
  {
   "attachments": {},
   "cell_type": "markdown",
   "metadata": {},
   "source": [
    "## Figures"
   ]
  },
  {
   "attachments": {},
   "cell_type": "markdown",
   "metadata": {},
   "source": [
    "* [S][[W](https://en.wikipedia.org/wiki/Paul_Benacerraf)] Benacerraf, Paul\n",
    "* [[S](https://plato.stanford.edu/entries/brouwer/)][[W](https://en.wikipedia.org/wiki/L._E._J._Brouwer)] Brouwer, L. E. J.\n",
    "* [S][[W](https://en.wikipedia.org/wiki/Georg_Cantor)] Cantor, Georg (1845-1918)\n",
    "* [S][[W](https://en.wikipedia.org/wiki/Richard_Dedekind)] Dedekind, Richard (1831-1916)\n",
    "* [[S](https://plato.stanford.edu/entries/goedel/)][[W](https://en.wikipedia.org/wiki/Kurt_G%C3%B6del)] Gödel, Kurt (1906-1978)\n",
    "* [S][[W](https://en.wikipedia.org/wiki/David_Hilbert)] Hilbert, David (1862-1943)\n",
    "* [S][[W](https://en.wikipedia.org/wiki/Giuseppe_Peano)] Peano, Giuseppe (1858-1932)\n",
    "* [S][[W](https://en.wikipedia.org/wiki/George_P%C3%B3lya)] Pólya, George (1887-1985)\n",
    "* [S][[W](https://en.wikipedia.org/wiki/Max_Tegmark)] Tegmark, Max\n",
    "* [[S](https://plato.stanford.edu/entries/turing/)][W] Turing, Alan"
   ]
  },
  {
   "cell_type": "markdown",
   "metadata": {},
   "source": [
    "---"
   ]
  },
  {
   "attachments": {},
   "cell_type": "markdown",
   "metadata": {},
   "source": [
    "## Terms"
   ]
  },
  {
   "attachments": {},
   "cell_type": "markdown",
   "metadata": {},
   "source": [
    "* [[S](https://plato.stanford.edu/entries/axiom-choice/)][W] The Axiom of Choice\n",
    "* [[S](https://plato.stanford.edu/entries/church-turing/)][W] The Church-Turing Thesis\n",
    "* [[S](https://plato.stanford.edu/entries/mathematics-constructive/)][[W](https://en.wikipedia.org/wiki/Constructivism_(philosophy_of_mathematics))] Constructivism\n",
    "* [[S](https://plato.stanford.edu/entries/continuum-hypothesis/)][W] The Continuum Hypothesis\n",
    "* [[S](https://plato.stanford.edu/entries/fictionalism-mathematics/)][W] Fictionalism\n",
    "* [S][[W](https://en.wikipedia.org/wiki/Finitism)] Finitism\n",
    "* [[S](https://plato.stanford.edu/entries/formalism-mathematics/)][[W](https://en.wikipedia.org/wiki/Formalism_(philosophy_of_mathematics))] Formalism\n",
    "* [S][[W](https://en.wikipedia.org/wiki/Foundations_of_mathematics)] Foundations of Mathematics\n",
    "* [[S](https://plato.stanford.edu/entries/frege-theorem/)][W] Frege's Theorem and Foundations for Mathematics\n",
    "* [S][[W](https://en.wikipedia.org/wiki/G%C3%B6del%27s_completeness_theorem)] Gödel's Completeness Theorem\n",
    "* [S][[W](https://en.wikipedia.org/wiki/G%C3%B6del%27s_incompleteness_theorems)] Gödel's Incompleteness Theorems\n",
    "* [[S](https://plato.stanford.edu/entries/hilbert-program/)][W] Hilbert's Program\n",
    "* [[S](https://plato.stanford.edu/entries/independence-large-cardinals/)][W] Independence of Large Cardinals\n",
    "* [[S](https://plato.stanford.edu/entries/mathphil-indis/)][W] Indespensability Arguments in the Philosophy of Mathematics\n",
    "* [[S](https://plato.stanford.edu/entries/infinity/)][W] Infinity\n",
    "* [[S](https://plato.stanford.edu/entries/intuitionism/)][[W](https://en.wikipedia.org/wiki/Intuitionism)] Intuitionism\n",
    "* [[S](https://plato.stanford.edu/entries/kant-mathematics/)][W] Kant's Philosophy of Mathematics\n",
    "* [[S](https://plato.stanford.edu/entries/logicism/)][[W](https://en.wikipedia.org/wiki/Logicism)] Logicism\n",
    "* [[S](https://plato.stanford.edu/entries/mathematics-explanation/)][W] Mathematical Explanation\n",
    "* [S][[W](https://en.wikipedia.org/wiki/Mathematical_folklore)] Mathematical Folklore\n",
    "* [S][[W](https://en.wikipedia.org/wiki/Language_of_mathematics)] Mathematical Language\n",
    "* [S][[W](https://en.wikipedia.org/wiki/Mathematical_object)] Mathematical Object\n",
    "* [S][[W](https://en.wikipedia.org/wiki/Mathematical_practice)] Mathematical Practice\n",
    "* [[S](https://plato.stanford.edu/entries/mathematical-style/)][W] Mathematical Style\n",
    "* [S][[W](https://en.wikipedia.org/wiki/Mathematical_universe_hypothesis)] Mathematical Universe Hypothesis\n",
    "* [[S](https://plato.stanford.edu/entries/nominalism-mathematics/)][W] Nominalism\n",
    "* [S][[W](https://en.wikipedia.org/wiki/Peano_axioms)] Peano Axioms\n",
    "* [[S](https://plato.stanford.edu/entries/philosophy-mathematics/)][[W](https://en.wikipedia.org/wiki/Philosophy_of_mathematics)] Philosophy of Mathematics\n",
    "* [[S](https://plato.stanford.edu/entries/platonism-mathematics/)][W] Platonism\n",
    "* [S][[W](https://en.wikipedia.org/wiki/Quasi-empiricism_in_mathematics)] Quasi Empiricism in Math\n",
    "* [S][W] Realism\n",
    "* [[S](https://plato.stanford.edu/entries/set-theory/)][W] Set Theory\n",
    "* [[S](https://plato.stanford.edu/entries/structuralism-mathematics/)][W] Structuralism"
   ]
  },
  {
   "attachments": {},
   "cell_type": "markdown",
   "metadata": {},
   "source": [
    "---"
   ]
  }
 ],
 "metadata": {
  "kernelspec": {
   "display_name": "jb",
   "language": "python",
   "name": "python3"
  },
  "language_info": {
   "name": "python",
   "version": "3.10.8"
  },
  "orig_nbformat": 4,
  "vscode": {
   "interpreter": {
    "hash": "9870a5056b4d87f5c6a8037fc24f3e027e3065e80a23b81edb72ad19078aa02f"
   }
  }
 },
 "nbformat": 4,
 "nbformat_minor": 2
}
