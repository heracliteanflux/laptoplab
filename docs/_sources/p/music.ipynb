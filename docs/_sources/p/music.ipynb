{
 "cells": [
  {
   "cell_type": "markdown",
   "metadata": {},
   "source": [
    "# Music"
   ]
  },
  {
   "cell_type": "markdown",
   "metadata": {},
   "source": [
    "---"
   ]
  },
  {
   "cell_type": "markdown",
   "metadata": {},
   "source": [
    "## Eastern"
   ]
  },
  {
   "cell_type": "markdown",
   "metadata": {},
   "source": [
    "* [[W](https://en.wikipedia.org/wiki/Buddhist_chant)] Buddhist Chant\n",
    "* [[W](https://en.wikipedia.org/wiki/Chinese_traditional_music)] Chinese Traditional Music\n",
    "* [[W](https://en.wikipedia.org/wiki/Erhu)] Erhu\n",
    "* [[W](https://en.wikipedia.org/wiki/Guqin)] Guqin\n",
    "* [[W](https://en.wikipedia.org/wiki/Guzheng)] Guzheng\n",
    "* [[W](https://en.wikipedia.org/wiki/Liuqin)] Liuqin\n",
    "* [[W](https://en.wikipedia.org/wiki/Pipa)] Pipa\n",
    "* [[W](https://en.wikipedia.org/wiki/Ruan_(instrument))] Ruan\n",
    "* [[W](https://en.wikipedia.org/wiki/Suona)] Suona\n",
    "* [[W](https://en.wikipedia.org/wiki/Yueqin)] Yueqin"
   ]
  },
  {
   "cell_type": "markdown",
   "metadata": {},
   "source": [
    "---"
   ]
  },
  {
   "cell_type": "markdown",
   "metadata": {},
   "source": [
    "## Japanese"
   ]
  },
  {
   "cell_type": "markdown",
   "metadata": {},
   "source": [
    "* [[W](https://en.wikipedia.org/wiki/Rekuhkara)] Rekuhkara\n",
    "* [[W](https://en.wikipedia.org/wiki/Traditional_Japanese_musical_instruments)] traditional Japanese musical instruments"
   ]
  },
  {
   "cell_type": "markdown",
   "metadata": {},
   "source": [
    "---"
   ]
  },
  {
   "cell_type": "markdown",
   "metadata": {},
   "source": [
    "## South Eastern"
   ]
  },
  {
   "cell_type": "markdown",
   "metadata": {},
   "source": [
    "* [[W](https://en.wikipedia.org/wiki/Bansuri)] Bansuri\n",
    "* [[W](https://en.wikipedia.org/wiki/Carnatic_music)] Carnatic Music\n",
    "* [[W](https://en.wikipedia.org/wiki/Hindustani_classical_music)] Hindustani Classical Music\n",
    "* [[W](https://en.wikipedia.org/wiki/Indian_classical_music)] Indian Classical Music\n",
    "* [[W](https://en.wikipedia.org/wiki/Raga)] Raga\n",
    "* [[W](https://en.wikipedia.org/wiki/Shruti_(music))] Shruti\n",
    "* [[W](https://en.wikipedia.org/wiki/Sitar)] Sitar\n",
    "* [[W](https://en.wikipedia.org/wiki/Svara)] Svara\n",
    "* [[W](https://en.wikipedia.org/wiki/Tala_(music))] Tala\n",
    "* [[W](https://en.wikipedia.org/wiki/Veena)] Veena"
   ]
  },
  {
   "cell_type": "markdown",
   "metadata": {},
   "source": [
    "---"
   ]
  },
  {
   "cell_type": "markdown",
   "metadata": {},
   "source": [
    "## Middle Eastern"
   ]
  },
  {
   "cell_type": "markdown",
   "metadata": {},
   "source": [
    "* [[W](https://en.wikipedia.org/wiki/Oud)] Oud\n",
    "* [[W](https://en.wikipedia.org/wiki/Qanb%C5%ABs)] Qanbus\n",
    "* [[W](https://en.wikipedia.org/wiki/Rubab_(instrument))] Rubab\n",
    "* [[W](https://en.wikipedia.org/wiki/Setar)] Setar"
   ]
  },
  {
   "cell_type": "markdown",
   "metadata": {},
   "source": [
    "---"
   ]
  },
  {
   "cell_type": "markdown",
   "metadata": {},
   "source": [
    "## Western"
   ]
  },
  {
   "cell_type": "markdown",
   "metadata": {},
   "source": [
    "* [[W](https://en.wikipedia.org/wiki/Citole)] Citole\n",
    "* [[W](https://en.wikipedia.org/wiki/Gittern)] Gittern\n",
    "* [[W](https://en.wikipedia.org/wiki/Gregorian_chant)] Gregorian Chant\n",
    "* [[W](https://en.wikipedia.org/wiki/Guitar)] Guitar\n",
    "* [[W](https://en.wikipedia.org/wiki/Harpsichord)] Harpsichord\n",
    "* [[W](https://en.wikipedia.org/wiki/Hurdy-gurdy)] Hurdy-Gurdy\n",
    "* [[W](https://en.wikipedia.org/wiki/Lira_da_braccio)] Lira da braccio\n",
    "* [[W](https://en.wikipedia.org/wiki/Lute)] Lute\n",
    "* [[W](https://en.wikipedia.org/wiki/History_of_lute-family_instruments)] lute family\n",
    "* [[W](https://en.wikipedia.org/wiki/Mandore_(instrument))] Mandore\n",
    "* [[W](https://en.wikipedia.org/wiki/Organistrum)] Organistrum\n",
    "* [[W](https://en.wikipedia.org/wiki/Vielle)] Vielle\n",
    "* [[W](https://en.wikipedia.org/wiki/Viol)] Viol\n",
    "* [[W](https://en.wikipedia.org/wiki/Yodeling)] Yodel"
   ]
  },
  {
   "cell_type": "markdown",
   "metadata": {},
   "source": [
    "---"
   ]
  },
  {
   "cell_type": "markdown",
   "metadata": {},
   "source": [
    "## Terms"
   ]
  },
  {
   "cell_type": "markdown",
   "metadata": {},
   "source": [
    "* [[W](https://en.wikipedia.org/wiki/Aesthetics_of_music)] Aesthetics of Music\n",
    "* [W][[S](https://plato.stanford.edu/entries/perception-auditory/)] Auditory Perception\n",
    "* [[W](https://en.wikipedia.org/wiki/Cantu_a_tenore)] Cantu a tenore\n",
    "* [[W](https://en.wikipedia.org/wiki/String_instrument)] Chordophone\n",
    "* [[W](https://en.wikipedia.org/wiki/Diplophonia)] Diplophonia\n",
    "* [[W](https://en.wikipedia.org/wiki/Ethnomusicology)] Ethnomusicology\n",
    "* [[W](https://en.wikipedia.org/wiki/Musicology)] Musicology\n",
    "* [[W](https://en.wikipedia.org/wiki/Organum)] Organum\n",
    "* [[W](https://en.wikipedia.org/wiki/Overtone_singing)] Overtone Singing\n",
    "* [[W](https://en.wikipedia.org/wiki/Philosophy_of_music)][[S](https://plato.stanford.edu/entries/music/)] Philosophy of Music\n",
    "* [[W](https://en.wikipedia.org/wiki/Throat_singing)] Throat Singing\n",
    "* [[W](https://en.wikipedia.org/wiki/Symphonic_poem)] Tone Poem\n",
    "* [[W](https://en.wikipedia.org/wiki/Tuvan_throat_singing)] Tuvan Throat Singing\n",
    "* [[W](https://en.wikipedia.org/wiki/Undertone_singing)] Undertone Singing"
   ]
  },
  {
   "cell_type": "markdown",
   "metadata": {},
   "source": [
    "---"
   ]
  }
 ],
 "metadata": {
  "language_info": {
   "name": "python"
  },
  "orig_nbformat": 4
 },
 "nbformat": 4,
 "nbformat_minor": 2
}
