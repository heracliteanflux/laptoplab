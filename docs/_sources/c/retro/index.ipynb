{
 "cells": [
  {
   "cell_type": "markdown",
   "metadata": {},
   "source": [
    "# Retro Gaming"
   ]
  },
  {
   "cell_type": "markdown",
   "metadata": {},
   "source": [
    "---"
   ]
  },
  {
   "cell_type": "markdown",
   "metadata": {},
   "source": [
    "## Table of Contents\n",
    "```{contents}\n",
    "```"
   ]
  },
  {
   "cell_type": "markdown",
   "metadata": {},
   "source": [
    "---"
   ]
  },
  {
   "cell_type": "markdown",
   "metadata": {},
   "source": [
    "## Resources"
   ]
  },
  {
   "cell_type": "markdown",
   "metadata": {},
   "source": [
    "* [ [h](https://www.analogue.co/pocket) ] Analogue Pocket\n",
    "* [ [h](https://anbernic.com) ][ [w](https://en.wikipedia.org/wiki/Anbernic_RG351) ] Anbernic\n",
    "* [ [h](https://onionui.github.io/) ] Onion\n",
    "* [ [h](https://play.date/) ] Play Date\n",
    "* [ [h](https://retromini.com/) ] Retro Mini\n",
    "* [ [h](https://www.goretroid.com/) ] Retroid\n",
    "  * [ [w](https://en.wikipedia.org/wiki/Retroid_Pocket_2) ] Retroid Pocket 2"
   ]
  },
  {
   "cell_type": "markdown",
   "metadata": {},
   "source": [
    "* [ [h](https://dolphin-emu.org) ][ d ][ g ][ [w](https://en.wikipedia.org/wiki/Dolphin_(emulator)) ] Dolphin Emulator\n",
    "* [ [h](https://openemu.org) ][ d ][ [g](https://github.com/OpenEmu) ][ [w](https://en.wikipedia.org/wiki/OpenEmu) ] OpenEmu\n",
    "* [ [h](https://www.retroarch.com) ][ [d](https://docs.libretro.com) ][ g ][ [w](https://en.wikipedia.org/wiki/RetroArch) ] RetroArch\n",
    "* [ [h](https://retropie.org.uk) ][ d ][ [g](https://github.com/RetroPie) ][ w ] RetroPie"
   ]
  },
  {
   "cell_type": "markdown",
   "metadata": {},
   "source": [
    "* MiyooMini [ [reddit](https://www.reddit.com/r/MiyooMini/) ]\n",
    "  * [ [y](https://www.youtube.com/watch?v=tqERl9st2jU) ] `12-19-2023`. The Portly Gamer. \"Why Is EVERYONE Buying This Retro Handheld? - Miyoo Mini Plus\"."
   ]
  },
  {
   "cell_type": "markdown",
   "metadata": {},
   "source": [
    "https://www.gamerztek.com/product-p/8-bit-es1.htm\n",
    "\n",
    "https://powkiddy.com/collections/handheld-game-players\n",
    "\n",
    "https://retromini.com/collections/miyoo-mini/products/miyoo-mini-plus-retro-handheld-game-console-purple\n",
    "\n",
    "https://archive.org/details/tiny-best-set-go"
   ]
  },
  {
   "cell_type": "markdown",
   "metadata": {},
   "source": [
    "[ [h](https://whatskenmaking.com/) ] What's Ken Making\n",
    "* [ [y](https://www.youtube.com/watch?v=sMMiBEhnizE) ] `12-08-2023`. What's Ken Making. \"Software Emulators vs FPGAs\".\n",
    "\n",
    "Gaming Historian\n",
    "* [ [y](https://www.youtube.com/watch?v=s2bTQK6vbKI) ] `05-06-2022`. \"The Story of Super Mario World\".\n",
    "* [ [y](https://www.youtube.com/watch?v=MxT6IwUtLSU) ] `12-18-2019`. \"The Story of Super Mario Bros. 3\"\n",
    "* [ [y](https://www.youtube.com/watch?v=faV6qLqBAPc) ] `08-17-2018`. \"The Story of Spyro the Dragon\".\n",
    "\n",
    "Modern Vintage Gamer\n",
    "* [ [y](https://www.youtube.com/watch?v=wSN1L2XyyUY) ] `01-10-2024`. \"The Raspberry Pi 5 is a $80 Gaming Beast\".\n",
    "\n",
    "Retro Game Mechanics Explained\n",
    "* [ [y](https://www.youtube.com/watch?v=5HSjJU562e8) ] `12-19-2023`. \"Reverse Engineering Game Code from the Neutral Zone\".\n",
    "\n",
    "more\n",
    "* [ [y](https://www.youtube.com/watch?v=6CkJNKupU9A) ] `02-27-2024`. Retro Game Corps. \"Onion v4.3 is Here! Miyoo Mini (Plus) Showcase and Guide\"."
   ]
  },
  {
   "cell_type": "markdown",
   "metadata": {},
   "source": [
    "---"
   ]
  },
  {
   "cell_type": "markdown",
   "metadata": {},
   "source": [
    "## Terms"
   ]
  },
  {
   "cell_type": "markdown",
   "metadata": {},
   "source": [
    "* [ [w](https://en.wikipedia.org/wiki/Emulator) ] Emulator\n",
    "* [ [w](https://en.wikipedia.org/wiki/Fan_translation_of_video_games) ] Fan Translation\n",
    "* [ [w](https://en.wikipedia.org/wiki/Handheld_game_console) ] Handheld Game Console\n",
    "* [ [w](https://en.wikipedia.org/wiki/Retrogaming) ] Retrogaming\n",
    "* [ [w](https://en.wikipedia.org/wiki/ROM_cartridge) ] ROM Cartridge\n",
    "* [ [w](https://en.wikipedia.org/wiki/ROM_hacking) ] ROM Hacking\n",
    "* [ [w](https://en.wikipedia.org/wiki/ROM_image) ] ROM Image [ [reddit](https://www.reddit.com/r/Roms/) ]\n",
    "* [ [w](https://en.wikipedia.org/wiki/Unofficial_patch) ] Unofficial Patch\n",
    "* [ [w](https://en.wikipedia.org/wiki/Video_game_console_emulator) ] Video Game Console Emulator\n",
    "* [ [w](https://en.wikipedia.org/wiki/Video_game_modding) ] Video Game Modding"
   ]
  },
  {
   "cell_type": "markdown",
   "metadata": {},
   "source": [
    "---"
   ]
  }
 ],
 "metadata": {
  "language_info": {
   "name": "python"
  }
 },
 "nbformat": 4,
 "nbformat_minor": 2
}
