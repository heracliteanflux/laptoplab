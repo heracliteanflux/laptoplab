{
 "cells": [
  {
   "cell_type": "markdown",
   "metadata": {},
   "source": [
    "# PowerShell"
   ]
  },
  {
   "cell_type": "markdown",
   "metadata": {},
   "source": [
    "---"
   ]
  },
  {
   "cell_type": "markdown",
   "metadata": {},
   "source": [
    "## Table of Contents\n",
    "```{contents}\n",
    "```"
   ]
  },
  {
   "cell_type": "markdown",
   "metadata": {},
   "source": [
    "---"
   ]
  },
  {
   "cell_type": "markdown",
   "metadata": {},
   "source": [
    "## Resources"
   ]
  },
  {
   "cell_type": "markdown",
   "metadata": {},
   "source": [
    "Nerd's Lesson\n",
    "* [ [y](https://www.youtube.com/watch?v=UVUd9_k9C6A) ] `03-02-2021`. \"PowerShell For Beginners Full Course | PowerShell Beginner tutorial Full Course\"."
   ]
  },
  {
   "cell_type": "markdown",
   "metadata": {},
   "source": [
    "---"
   ]
  },
  {
   "cell_type": "markdown",
   "metadata": {},
   "source": [
    "## Texts"
   ]
  },
  {
   "cell_type": "markdown",
   "metadata": {},
   "source": [
    "* Bertram, Adam. (2020). _PowerShell for SysAdmins: Workflow Automation Made Easy_. [No Starch Press](https://nostarch.com/powershellsysadmins).\n",
    "* [ [h](https://www.powershellcookbook.com) ][ [g](https://github.com/LeeHolmes/PowerShellCookbook) ] Holmes, Lee. (2021). _PowerShell Cookbook: Your Complete Guide to Scripting the Ubiquitous Object-Based Shell_. O'Reilly.\n",
    "* Holmes, Lee. (2021). _PowerShell Pocket Reference: Portable Help for PowerShell Scripters_. 3rd Ed. O'Reilly."
   ]
  },
  {
   "cell_type": "markdown",
   "metadata": {},
   "source": [
    "---"
   ]
  },
  {
   "cell_type": "markdown",
   "metadata": {},
   "source": [
    "## Terms"
   ]
  },
  {
   "cell_type": "markdown",
   "metadata": {},
   "source": [
    "* [ [w](https://en.wikipedia.org/wiki/PowerShell) ] PowerShell"
   ]
  },
  {
   "cell_type": "markdown",
   "metadata": {},
   "source": [
    "---"
   ]
  }
 ],
 "metadata": {
  "language_info": {
   "name": "python"
  }
 },
 "nbformat": 4,
 "nbformat_minor": 2
}
