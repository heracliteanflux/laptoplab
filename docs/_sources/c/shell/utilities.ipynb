{
 "cells": [
  {
   "cell_type": "markdown",
   "metadata": {},
   "source": [
    "# Shell Utilities"
   ]
  },
  {
   "cell_type": "markdown",
   "metadata": {},
   "source": [
    "---"
   ]
  },
  {
   "cell_type": "markdown",
   "metadata": {},
   "source": [
    "## Table of Contents\n",
    "```{contents}\n",
    "```"
   ]
  },
  {
   "cell_type": "markdown",
   "metadata": {},
   "source": [
    "---"
   ]
  },
  {
   "cell_type": "markdown",
   "metadata": {},
   "source": [
    "## Utilities"
   ]
  },
  {
   "cell_type": "markdown",
   "metadata": {},
   "source": [
    "* [ h ][ [w](https://en.wikipedia.org/wiki/Ltrace) ] ltrace\n",
    "* [ [h](https://sqlmap.org/) ][ w ] sqlmap"
   ]
  },
  {
   "cell_type": "markdown",
   "metadata": {},
   "source": [
    "`arch` - print machine hardware name (same as uname -m)\n",
    "\n",
    "`base64` - base64 encode/decode data and print to standard output\n",
    "\n",
    "`getent` - get entries from Name Service Switch libraries\n",
    "\n",
    "`host` - DNS lookup utility\n",
    "\n",
    "`last`, `lastb` - show a listing of last logged in users\n",
    "\n",
    "`netstat` - Print  network connections, routing tables, interface statistics, masquerade connections, and multicast memberships\n",
    "\n",
    "`nl` - number lines of files\n",
    "\n",
    "`od` - dump files in octal and other formats\n",
    "\n",
    "`sum` - checksum and count the blocks in a file"
   ]
  },
  {
   "cell_type": "markdown",
   "metadata": {},
   "source": [
    "---"
   ]
  },
  {
   "cell_type": "markdown",
   "metadata": {},
   "source": [
    "### `ab`"
   ]
  },
  {
   "cell_type": "markdown",
   "metadata": {},
   "source": [
    "[ [d](http://httpd.apache.org/docs/2.4/programs/ab.html) ] **`ab`** - Apache HTTP server benchmarking tool"
   ]
  },
  {
   "cell_type": "markdown",
   "metadata": {},
   "source": [
    "---"
   ]
  },
  {
   "cell_type": "markdown",
   "metadata": {},
   "source": [
    "### `ack`"
   ]
  },
  {
   "cell_type": "markdown",
   "metadata": {},
   "source": [
    "[ [h](https://beyondgrep.com/) ] **`ack`**"
   ]
  },
  {
   "cell_type": "markdown",
   "metadata": {},
   "source": [
    "---"
   ]
  },
  {
   "cell_type": "markdown",
   "metadata": {},
   "source": [
    "### `ag`"
   ]
  },
  {
   "cell_type": "markdown",
   "metadata": {},
   "source": [
    "[ [g](https://github.com/ggreer/the_silver_searcher) ] **`ag`**"
   ]
  },
  {
   "cell_type": "markdown",
   "metadata": {},
   "source": [
    "---"
   ]
  },
  {
   "cell_type": "markdown",
   "metadata": {},
   "source": [
    "### `alias`"
   ]
  },
  {
   "cell_type": "markdown",
   "metadata": {},
   "source": [
    "[ [w](https://en.wikipedia.org/wiki/Alias_(command)) ] **`alias`**\n",
    "\n",
    "```zsh\n",
    "type alias\n",
    "```\n",
    "Output: `alias is a shell builtin`"
   ]
  },
  {
   "cell_type": "markdown",
   "metadata": {},
   "source": [
    "---"
   ]
  },
  {
   "cell_type": "markdown",
   "metadata": {},
   "source": [
    "### `ar`"
   ]
  },
  {
   "cell_type": "markdown",
   "metadata": {},
   "source": [
    "[ [w](https://en.wikipedia.org/wiki/Ar_(Unix)) ] **`ar`** \"archiver\""
   ]
  },
  {
   "cell_type": "markdown",
   "metadata": {},
   "source": [
    "---"
   ]
  },
  {
   "cell_type": "markdown",
   "metadata": {},
   "source": [
    "### `arch`"
   ]
  },
  {
   "cell_type": "markdown",
   "metadata": {},
   "source": [
    "**`arch`** \"architecture\" - print architecture type or run selected architecture of a universal binary"
   ]
  },
  {
   "cell_type": "markdown",
   "metadata": {},
   "source": [
    "---"
   ]
  },
  {
   "cell_type": "markdown",
   "metadata": {},
   "source": [
    "### `asciiquarium`"
   ]
  },
  {
   "cell_type": "markdown",
   "metadata": {},
   "source": [
    "[ [h](https://robobunny.com/projects/asciiquarium/html/) ] **`asciiquarium`**"
   ]
  },
  {
   "cell_type": "markdown",
   "metadata": {},
   "source": [
    "---"
   ]
  },
  {
   "cell_type": "markdown",
   "metadata": {},
   "source": [
    "### `at`"
   ]
  },
  {
   "cell_type": "markdown",
   "metadata": {},
   "source": [
    "[ [w](https://en.wikipedia.org/wiki/At_(command)) ] **`at`**"
   ]
  },
  {
   "cell_type": "markdown",
   "metadata": {},
   "source": [
    "---"
   ]
  },
  {
   "cell_type": "markdown",
   "metadata": {},
   "source": [
    "### `atuin`"
   ]
  },
  {
   "cell_type": "markdown",
   "metadata": {},
   "source": [
    "[ [h](https://atuin.sh/) ] `atuin`"
   ]
  },
  {
   "cell_type": "markdown",
   "metadata": {},
   "source": [
    "[ [y](https://www.youtube.com/watch?v=Em0TdAftXAA) ] `07-12-24` DevOps Toolbox. \"Atuin Has Forever Changed The Way I Use Command History\"."
   ]
  },
  {
   "cell_type": "markdown",
   "metadata": {},
   "source": [
    "---"
   ]
  },
  {
   "cell_type": "markdown",
   "metadata": {},
   "source": [
    "### `awk`"
   ]
  },
  {
   "cell_type": "markdown",
   "metadata": {},
   "source": [
    "[ [w](https://en.wikipedia.org/wiki/AWK) ] **`awk`** - pattern-directed scanning and processing language\n",
    "\n",
    "awk is a programming language designed for processing text. an awk program consists of patterns and the corresponding code to be executed when that pattern is matched.\n",
    "\n",
    "Options\n",
    "* `-f` read in the awk program from a specified file\n",
    "* `-F` specify a custom field delimiter (space, by default)"
   ]
  },
  {
   "cell_type": "markdown",
   "metadata": {},
   "source": [
    "[example]\n",
    "\n",
    "```\n",
    "# awkusers.txt\n",
    "Mike Jones\n",
    "John Smith\n",
    "Kathy Jones\n",
    "Jane Kennedy\n",
    "Tim Scott\n",
    "```\n",
    "\n",
    "awk iterates over each line of the input file and reads in each word separated by whitespace by default into a field. Field `$0` represents the line itself, `$1` the first word, `$2` the second word, etc.\n",
    "```bash\n",
    "awk '$2 == \"Jones\" {print $0}' awkusers.txt # print each line where the user's last name is Jones\n",
    "awk ' /Jones/ {print $0}' awkusers.txt      # print each line where the regex matches anywhere in the input line, not just the second word\n",
    "```"
   ]
  },
  {
   "cell_type": "markdown",
   "metadata": {},
   "source": [
    "[example]\n",
    "\n",
    "Check each user's password hash in `csvex.txt` against the dictionary file of known passwords `passwords.txt`.\n",
    "\n",
    "```\n",
    "# csvex.txt\n",
    "\"name\",\"username\",\"phone\",\"password hash\"\n",
    "\"John Smith\",\"jsmith\",\"555-555-1212\",5f4dcc3b5aa765d61d8327deb882cf99\n",
    "\"Jane Smith\",\"jnsmith\",\"555-555-1234\",e10adc3949ba59abbe56e057f20f883e\n",
    "\"Bill Jones\",\"bjones\",\"555-555-6789\",d8578edf8458ce06fbc5bb76a58c5ca4\n",
    "```\n",
    "```\n",
    "# passwords.txt\n",
    "password,md5hash\n",
    "123456,e10adc3949ba59abbe56e057f20f883e\n",
    "password,5f4dcc3b5aa765d61d8327deb882cf99\n",
    "welcome,40be4e59b9a2a2b5dffb918c0e86b3d7\n",
    "ninja,3899dcbab79f92af727c2190bbd8abc5\n",
    "abc123,e99a18c428cb38d5f260853678922e03\n",
    "123456789,25f9e794323b453885f5181f1b624d0b\n",
    "12345678,25d55ad283aa400af464c76d713c07ad\n",
    "sunshine,0571749e2ac330a7455809c6b0e7af90\n",
    "princess,8afa847f50a716e64932d995c8e7435a\n",
    "qwerty,d8578edf8458ce06fbc5bb76a58c5ca4\n",
    "```\n",
    "```bash\n",
    "awk -F \",\" '{print $4}' csvex.txt\n",
    "grep \"$(!!)\" passwords.txt\n",
    "```\n",
    "```\n",
    "123456,e10adc3949ba59abbe56e057f20f883e\n",
    "password,5f4dcc3b5aa765d61d8327deb882cf99\n",
    "qwerty,d8578edf8458ce06fbc5bb76a58c5ca4\n",
    "```"
   ]
  },
  {
   "cell_type": "markdown",
   "metadata": {},
   "source": [
    "---"
   ]
  },
  {
   "cell_type": "markdown",
   "metadata": {},
   "source": [
    "### `base32`"
   ]
  },
  {
   "cell_type": "markdown",
   "metadata": {},
   "source": [
    "**`base32`** - base32 encode/decode data and print to standard output"
   ]
  },
  {
   "cell_type": "markdown",
   "metadata": {},
   "source": [
    "---"
   ]
  },
  {
   "cell_type": "markdown",
   "metadata": {},
   "source": [
    "### `base64`"
   ]
  },
  {
   "cell_type": "markdown",
   "metadata": {},
   "source": [
    "`base64` is used to encode data using the Base64 format: https://datatracker.ietf.org/doc/html/rfc4648.\n",
    "\n",
    "options\n",
    "* `-d` decode Base64-encoded data\n",
    "\n",
    "```bash\n",
    "type -p base64 # /usr/bin/base64\n",
    "type -t base64 # file\n",
    "```\n",
    "\n",
    "[example]\n",
    "\n",
    "```bash\n",
    "echo 'Rapid Cybersecurity Ops' | base64\n",
    "```\n",
    "```\n",
    "UmFwaWQgQ3liZXJzZWN1cml0eSBPcHMK\n",
    "```\n",
    "```bash\n",
    "echo 'UmFwaWQgQ3liZXJzZWN1cml0eSBPcHMK' | base64 -d\n",
    "```\n",
    "```\n",
    "Rapid Cybersecurity Ops\n",
    "```"
   ]
  },
  {
   "cell_type": "markdown",
   "metadata": {},
   "source": [
    "---"
   ]
  },
  {
   "cell_type": "markdown",
   "metadata": {},
   "source": [
    "### `basename`"
   ]
  },
  {
   "cell_type": "markdown",
   "metadata": {},
   "source": [
    "[ [w](https://en.wikipedia.org/wiki/Basename) ] **`basename`**"
   ]
  },
  {
   "cell_type": "markdown",
   "metadata": {},
   "source": [
    "---"
   ]
  },
  {
   "cell_type": "markdown",
   "metadata": {},
   "source": [
    "### `basenc`"
   ]
  },
  {
   "cell_type": "markdown",
   "metadata": {},
   "source": [
    "**`basenc`** - encode/decode data and print to standard output"
   ]
  },
  {
   "cell_type": "markdown",
   "metadata": {},
   "source": [
    "---"
   ]
  },
  {
   "cell_type": "markdown",
   "metadata": {},
   "source": [
    "### `bat`"
   ]
  },
  {
   "cell_type": "markdown",
   "metadata": {},
   "source": [
    "[ [g](https://github.com/sharkdp/bat) ] **`bat`** - a cat(1) clone with syntax highlighting and Git integration"
   ]
  },
  {
   "cell_type": "markdown",
   "metadata": {},
   "source": [
    "---"
   ]
  },
  {
   "cell_type": "markdown",
   "metadata": {},
   "source": [
    "### `batch`"
   ]
  },
  {
   "cell_type": "markdown",
   "metadata": {},
   "source": [
    "[ [w](https://en.wikipedia.org/wiki/At_(command)) ] **`batch`**"
   ]
  },
  {
   "cell_type": "markdown",
   "metadata": {},
   "source": [
    "---"
   ]
  },
  {
   "cell_type": "markdown",
   "metadata": {},
   "source": [
    "### `bc`"
   ]
  },
  {
   "cell_type": "markdown",
   "metadata": {},
   "source": [
    "[ [d](https://www.gnu.org/software/bc/) ][ [w](https://en.wikipedia.org/wiki/Bc_(programming_language)) ] **`bc`** - arbitrary-precision decimal arithmetic language and calculator (Nelson 2006)"
   ]
  },
  {
   "cell_type": "markdown",
   "metadata": {},
   "source": [
    "---"
   ]
  },
  {
   "cell_type": "markdown",
   "metadata": {},
   "source": [
    "### `bg`"
   ]
  },
  {
   "cell_type": "markdown",
   "metadata": {},
   "source": [
    "[ [w](https://en.wikipedia.org/wiki/Job_control_(Unix)#Commands) ] **`bg`** \"background\"\n",
    "* `man bg` How do I use command `bg`?"
   ]
  },
  {
   "cell_type": "markdown",
   "metadata": {},
   "source": [
    "---"
   ]
  },
  {
   "cell_type": "markdown",
   "metadata": {},
   "source": [
    "### `bindkey`"
   ]
  },
  {
   "cell_type": "markdown",
   "metadata": {},
   "source": [
    "**`bindkey`**\n",
    "\n",
    "* `bindkey -e` emacs key bindings\n",
    "* `bindkey -v` vi key bindings\n",
    "\n",
    "```zsh\n",
    "type bindkey\n",
    "```\n",
    "Output: `bindkey is a shell builtin`"
   ]
  },
  {
   "cell_type": "markdown",
   "metadata": {},
   "source": [
    "---"
   ]
  },
  {
   "cell_type": "markdown",
   "metadata": {},
   "source": [
    "### `boxes`"
   ]
  },
  {
   "cell_type": "markdown",
   "metadata": {},
   "source": [
    "[ [h](https://boxes.thomasjensen.com) ][ [g](https://github.com/ascii-boxes/boxes/) ] **`boxes`**"
   ]
  },
  {
   "cell_type": "markdown",
   "metadata": {},
   "source": [
    "---"
   ]
  },
  {
   "cell_type": "markdown",
   "metadata": {},
   "source": [
    "### `btm`"
   ]
  },
  {
   "cell_type": "markdown",
   "metadata": {},
   "source": [
    "[ [h](https://clementtsang.github.io/bottom/) ] `btm`"
   ]
  },
  {
   "cell_type": "markdown",
   "metadata": {},
   "source": [
    "---"
   ]
  },
  {
   "cell_type": "markdown",
   "metadata": {},
   "source": [
    "### `btop`"
   ]
  },
  {
   "cell_type": "markdown",
   "metadata": {},
   "source": [
    "[ [g](https://github.com/aristocratos/btop) ] **`btop`**"
   ]
  },
  {
   "cell_type": "markdown",
   "metadata": {},
   "source": [
    "---"
   ]
  },
  {
   "cell_type": "markdown",
   "metadata": {},
   "source": [
    "### `bzip2`"
   ]
  },
  {
   "cell_type": "markdown",
   "metadata": {},
   "source": [
    "[ [w](https://en.wikipedia.org/wiki/Bzip2) ] **`bzip2`**"
   ]
  },
  {
   "cell_type": "markdown",
   "metadata": {},
   "source": [
    "---"
   ]
  },
  {
   "cell_type": "markdown",
   "metadata": {},
   "source": [
    "### `cal`"
   ]
  },
  {
   "cell_type": "markdown",
   "metadata": {},
   "source": [
    "[ [w](https://en.wikipedia.org/wiki/Cal_(command)) ] **`cal`**, **`ncal`** - displays a calendar"
   ]
  },
  {
   "cell_type": "markdown",
   "metadata": {},
   "source": [
    "---"
   ]
  },
  {
   "cell_type": "markdown",
   "metadata": {},
   "source": [
    "### `cat`"
   ]
  },
  {
   "cell_type": "markdown",
   "metadata": {},
   "source": [
    "[ [w](https://en.wikipedia.org/wiki/Cat_(Unix)) ] **`cat`** - concatenate and print files (Granlund & Stallman 2012)\n",
    "* `man cat` How do I use command `cat`?\n",
    "* `cat /usr/share/misc/birthtoken`\n",
    "* `cat /usr/share/misc/flowers`"
   ]
  },
  {
   "cell_type": "markdown",
   "metadata": {},
   "source": [
    "---"
   ]
  },
  {
   "cell_type": "markdown",
   "metadata": {},
   "source": [
    "### `cd`"
   ]
  },
  {
   "cell_type": "markdown",
   "metadata": {},
   "source": [
    "[ [w](https://en.wikipedia.org/wiki/Cd_(command)) ] **`cd`** \"change the working directory\"\n",
    "\n",
    "* `man cd` How do I use command `cd`?\n",
    "* `cd` Move to the home directory.\n",
    "* `cd ~` Move to the home directory.\n",
    "* `cd -` Move to the previous directory.\n",
    "* `cd ..` Move to the parent directory of the working directory.\n",
    "* `cd .` Stay right where we are!"
   ]
  },
  {
   "cell_type": "markdown",
   "metadata": {},
   "source": [
    "---"
   ]
  },
  {
   "cell_type": "markdown",
   "metadata": {},
   "source": [
    "### `cewl`"
   ]
  },
  {
   "cell_type": "markdown",
   "metadata": {},
   "source": [
    "[ [h](https://digi.ninja/projects/cewl.php) ][ [g](https://github.com/digininja/CeWL) ] `cewl` Custom Word List Generator\n",
    "\n",
    "options\n",
    "* `-a` handle form-based authentication\n",
    "* `-d, --depth n` set the crawl depth to spider `n` links deep\n",
    "* `-m, --min_word_length` set the minimum word length\n",
    "* `-o, --offsite` spider external sites\n",
    "* `-w, --write` write the output to a file\n",
    "* `-x, --max_word_length` set the maximum word length\n",
    "* `--extension` append custom extensions to each word\n",
    "* `--with-numbers` accept words with numers"
   ]
  },
  {
   "cell_type": "markdown",
   "metadata": {},
   "source": [
    "---"
   ]
  },
  {
   "cell_type": "markdown",
   "metadata": {},
   "source": [
    "### `cheat`"
   ]
  },
  {
   "cell_type": "markdown",
   "metadata": {},
   "source": [
    "* [ [g](https://github.com/cheat/cheat/blob/master/INSTALLING.md) ] `cheat`"
   ]
  },
  {
   "cell_type": "markdown",
   "metadata": {},
   "source": [
    "---"
   ]
  },
  {
   "cell_type": "markdown",
   "metadata": {},
   "source": [
    "### cheat.sh"
   ]
  },
  {
   "cell_type": "markdown",
   "metadata": {},
   "source": [
    "[ [g](https://github.com/chubin/cheat.sh) ] https://cheat.sh/ or https://cht.sh/\n",
    "* `curl https://cheat.sh/curl`"
   ]
  },
  {
   "cell_type": "markdown",
   "metadata": {},
   "source": [
    "---"
   ]
  },
  {
   "cell_type": "markdown",
   "metadata": {},
   "source": [
    "### `chgrp`"
   ]
  },
  {
   "cell_type": "markdown",
   "metadata": {},
   "source": [
    "[ [w](https://en.wikipedia.org/wiki/Chgrp) ] **`chgrp`**"
   ]
  },
  {
   "cell_type": "markdown",
   "metadata": {},
   "source": [
    "---"
   ]
  },
  {
   "cell_type": "markdown",
   "metadata": {},
   "source": [
    "### `chmod`"
   ]
  },
  {
   "cell_type": "markdown",
   "metadata": {},
   "source": [
    "[ [w](https://en.wikipedia.org/wiki/Chmod) ] `chmod` - modify file permissions\n",
    "* `-f` suppress error messages\n",
    "* `-R` recurse\n",
    "\n",
    "[examples]\n",
    "\n",
    "```bash\n",
    "chmod u+x file\n",
    "chmod 644 file\n",
    "```"
   ]
  },
  {
   "cell_type": "markdown",
   "metadata": {},
   "source": [
    "---"
   ]
  },
  {
   "cell_type": "markdown",
   "metadata": {},
   "source": [
    "### `chown`"
   ]
  },
  {
   "cell_type": "markdown",
   "metadata": {},
   "source": [
    "[ [w](https://en.wikipedia.org/wiki/Chown) ] `chown` - modify file owner and file group\n",
    "* `-f` suppress error messages\n",
    "* `-R` recurse"
   ]
  },
  {
   "cell_type": "markdown",
   "metadata": {},
   "source": [
    "---"
   ]
  },
  {
   "cell_type": "markdown",
   "metadata": {},
   "source": [
    "### `chpass`"
   ]
  },
  {
   "cell_type": "markdown",
   "metadata": {},
   "source": [
    "**`chpass`** \"change password\" - add or change user database information"
   ]
  },
  {
   "cell_type": "markdown",
   "metadata": {},
   "source": [
    "---"
   ]
  },
  {
   "cell_type": "markdown",
   "metadata": {},
   "source": [
    "### `chrootkit`"
   ]
  },
  {
   "cell_type": "markdown",
   "metadata": {},
   "source": [
    "[ [h](https://www.chkrootkit.org/) ][ [w](https://en.wikipedia.org/wiki/Chkrootkit) ] `chrootkit`"
   ]
  },
  {
   "cell_type": "markdown",
   "metadata": {},
   "source": [
    "---"
   ]
  },
  {
   "cell_type": "markdown",
   "metadata": {},
   "source": [
    "### `chsh`"
   ]
  },
  {
   "cell_type": "markdown",
   "metadata": {},
   "source": [
    "**`chsh`** \"change shell\"\n",
    "* `chsh -s /bin/zsh`\n",
    "* `chsh -s /bin/bash`"
   ]
  },
  {
   "cell_type": "markdown",
   "metadata": {},
   "source": [
    "---"
   ]
  },
  {
   "cell_type": "markdown",
   "metadata": {},
   "source": [
    "### `cksum`"
   ]
  },
  {
   "cell_type": "markdown",
   "metadata": {},
   "source": [
    "[ [w](https://en.wikipedia.org/wiki/Cksum) ] **`cksum`**, `sum` - display file checksums and block counts"
   ]
  },
  {
   "cell_type": "markdown",
   "metadata": {},
   "source": [
    "---"
   ]
  },
  {
   "cell_type": "markdown",
   "metadata": {},
   "source": [
    "### `cmatrix`"
   ]
  },
  {
   "cell_type": "markdown",
   "metadata": {},
   "source": [
    "[ [g](https://github.com/abishekvashok/cmatrix) ] **`cmatrix`**"
   ]
  },
  {
   "cell_type": "markdown",
   "metadata": {},
   "source": [
    "---"
   ]
  },
  {
   "cell_type": "markdown",
   "metadata": {},
   "source": [
    "### `cmp`"
   ]
  },
  {
   "cell_type": "markdown",
   "metadata": {},
   "source": [
    "[ [w](https://en.wikipedia.org/wiki/Cmp_(Unix)) ] **`cmp`** \"compare (byte-by-byte)\" - compare two files byte by byte\n",
    "* `man cmp` How do I use command `cmp`?"
   ]
  },
  {
   "cell_type": "markdown",
   "metadata": {},
   "source": [
    "---"
   ]
  },
  {
   "cell_type": "markdown",
   "metadata": {},
   "source": [
    "### `column`"
   ]
  },
  {
   "cell_type": "markdown",
   "metadata": {},
   "source": [
    "---"
   ]
  },
  {
   "cell_type": "markdown",
   "metadata": {},
   "source": [
    "### `comm`"
   ]
  },
  {
   "cell_type": "markdown",
   "metadata": {},
   "source": [
    "[ [w](https://en.wikipedia.org/wiki/Comm) ] **`comm`** \"common\" - select or reject lines common to two files\n",
    "* `man comm` How do I use command `comm`?"
   ]
  },
  {
   "cell_type": "markdown",
   "metadata": {},
   "source": [
    "---"
   ]
  },
  {
   "cell_type": "markdown",
   "metadata": {},
   "source": [
    "### `command`"
   ]
  },
  {
   "cell_type": "markdown",
   "metadata": {},
   "source": [
    "[ [w](https://en.wikipedia.org/wiki/Command_(Unix)) ] **`command`**"
   ]
  },
  {
   "cell_type": "markdown",
   "metadata": {},
   "source": [
    "---"
   ]
  },
  {
   "cell_type": "markdown",
   "metadata": {},
   "source": [
    "### `compress`"
   ]
  },
  {
   "cell_type": "markdown",
   "metadata": {},
   "source": [
    "[ [w](https://en.wikipedia.org/wiki/Compress_(software)) ] **`compress`**"
   ]
  },
  {
   "cell_type": "markdown",
   "metadata": {},
   "source": [
    "---"
   ]
  },
  {
   "cell_type": "markdown",
   "metadata": {},
   "source": [
    "### `cowsay`"
   ]
  },
  {
   "cell_type": "markdown",
   "metadata": {},
   "source": [
    "[ [w](https://en.wikipedia.org/wiki/Cowsay) ] **`cowsay`**"
   ]
  },
  {
   "cell_type": "markdown",
   "metadata": {},
   "source": [
    "---"
   ]
  },
  {
   "cell_type": "markdown",
   "metadata": {},
   "source": [
    "### `cp`"
   ]
  },
  {
   "cell_type": "markdown",
   "metadata": {},
   "source": [
    "[ [w](https://en.wikipedia.org/wiki/Cp_(Unix)) ] **`cp`** \"copy\" - copy files (Granlund, MacKenzie, & Meyering 2012)\n",
    "* `man cp` How do I use command `cp`?"
   ]
  },
  {
   "cell_type": "markdown",
   "metadata": {},
   "source": [
    "---"
   ]
  },
  {
   "cell_type": "markdown",
   "metadata": {},
   "source": [
    "### `crontab`"
   ]
  },
  {
   "cell_type": "markdown",
   "metadata": {},
   "source": [
    "[ [w](https://en.wikipedia.org/wiki/Cron) ] **`crontab`** \"cronos table\" - maintain crontab files for individual users (V3)\n",
    "\n",
    "Located at `/var/spool/cron`.\n",
    "\n",
    "options\n",
    "* `-e` edit the cron table\n",
    "* `-l` list the current cron table\n",
    "* `-r` remove the current cron table\n",
    "\n",
    "examples\n",
    "* `crontab -l` List the current user's table.\n",
    "* `crontab -e` Edit the current user's table."
   ]
  },
  {
   "cell_type": "markdown",
   "metadata": {},
   "source": [
    "* https://crontab.guru/"
   ]
  },
  {
   "cell_type": "markdown",
   "metadata": {},
   "source": [
    "---"
   ]
  },
  {
   "cell_type": "markdown",
   "metadata": {},
   "source": [
    "### `csplit`"
   ]
  },
  {
   "cell_type": "markdown",
   "metadata": {},
   "source": [
    "[ [w](https://en.wikipedia.org/wiki/Csplit) ] **`csplit`**"
   ]
  },
  {
   "cell_type": "markdown",
   "metadata": {},
   "source": [
    "---"
   ]
  },
  {
   "cell_type": "markdown",
   "metadata": {},
   "source": [
    "### csvkit"
   ]
  },
  {
   "cell_type": "markdown",
   "metadata": {},
   "source": [
    "[ [d](https://csvkit.readthedocs.io/en/latest/) ][ [g](https://github.com/wireservice/csvkit) ] csvkit\n",
    "* `csvgrep`\n",
    "* `csvlook`\n",
    "* `in2csv`\n",
    "* `sql2csv`"
   ]
  },
  {
   "cell_type": "markdown",
   "metadata": {},
   "source": [
    "---"
   ]
  },
  {
   "cell_type": "markdown",
   "metadata": {},
   "source": [
    "### `ctop`"
   ]
  },
  {
   "cell_type": "markdown",
   "metadata": {},
   "source": [
    "* [ [y](https://www.youtube.com/watch?v=AcFjopnczVY) ] `01-20-2024`. Techdox. \"Docker Monitoring Made Easy: Quick Start with ctop\"."
   ]
  },
  {
   "cell_type": "markdown",
   "metadata": {},
   "source": [
    "---"
   ]
  },
  {
   "cell_type": "markdown",
   "metadata": {},
   "source": [
    "### `curl`"
   ]
  },
  {
   "cell_type": "markdown",
   "metadata": {},
   "source": [
    "[ [d](https://everything.curl.dev) ][ [w](https://en.wikipedia.org/wiki/CURL) ] **`curl`** - transfer a URL\n",
    "\n",
    "`curl` is used to transfer data over a network between a client and a server and supports protocols like HTTP, HTTPS, FTP, SFTP, and TELNET.\n",
    "\n",
    "options\n",
    "* `-A` specify the HTTP user agent string to send to the server\n",
    "* `-d` data to send with an HTTP POST request\n",
    "* `-G` use an HTTP GET request to send data rather than a POST\n",
    "* `-I` fetch only the protocol (HTTP, FTP) header\n",
    "* `-L` follow redirects\n",
    "* `-s` do not show error messages or progress bar\n",
    "\n",
    "[example]\n",
    "\n",
    "```bash\n",
    "curl https://www.digadel.com                           # display the contents of the web page to STDOUT by default\n",
    "curl https://www.digadel.com > outfile                 # put the contents of the web page in `outfile`\n",
    "curl -ILs http://bitly.com/1k5eYPw | grep '^Location:' # expand a potentially-dangerous shortened URL\n",
    "```"
   ]
  },
  {
   "cell_type": "markdown",
   "metadata": {},
   "source": [
    "options\n",
    "* `-I` gather header information from the server (identify the web server version or operating system)\n",
    "* `-L` follow HTTP redirects if the page's location has changed\n",
    "* `-o` send output to a file instead of STDOUT\n",
    "* `-s` silent\n",
    "\n",
    "advanced usage\n",
    "* remote authentication\n",
    "* session cookies\n",
    "\n",
    "limitations\n",
    "* single web page\n",
    "\n",
    "[examples]\n",
    "\n",
    "```bash\n",
    "curl -Lo output.html https://www.oreilly.com\n",
    "curl -LI https://www.oreilly.com\n",
    "curl -LIs https://www.oreilly.com | grep '200 OK' # check whether a web site is available\n",
    "```"
   ]
  },
  {
   "cell_type": "markdown",
   "metadata": {},
   "source": [
    "### Resources"
   ]
  },
  {
   "cell_type": "markdown",
   "metadata": {},
   "source": [
    "[ [h](https://curl.se/) ][ [w](https://en.wikipedia.org/wiki/CURL) ] `curl`\n",
    "\n",
    "[ [h](https://everything.curl.dev/) ] Stenberg, Daniel. _Everything curl_."
   ]
  },
  {
   "cell_type": "markdown",
   "metadata": {},
   "source": [
    "* [ [y](https://www.youtube.com/watch?v=Q3_3saEQiSA) ] `01-23-2024`. Navek. \"curl: A Practical Guide\"."
   ]
  },
  {
   "cell_type": "markdown",
   "metadata": {},
   "source": [
    "---"
   ]
  },
  {
   "cell_type": "markdown",
   "metadata": {},
   "source": [
    "### `cut`"
   ]
  },
  {
   "cell_type": "markdown",
   "metadata": {},
   "source": [
    "[ [w](https://en.wikipedia.org/wiki/Cut_(Unix)) ] **`cut`** - cut out selected portions of each line of a file\n",
    "\n",
    "`cut` is used to extract select portions of a file. It reads a supplied input file line by line and parses the line based on a specified character. If no delimiter is specified, the tab character is used by default. The delimiter characters divide each line of a file into fields. The field number or the character position number can be used to extract parts of the file, and start at position 1.\n",
    "\n",
    "options\n",
    "* `-c` specify the character(s) to extract\n",
    "* `-d` specify the character used as a field delimiter (default, tab)\n",
    "* `-f` specify the field(s) to extract"
   ]
  },
  {
   "cell_type": "markdown",
   "metadata": {},
   "source": [
    "[example]\n",
    "\n",
    "Extract users' login names and shells from the system passwd(5) file as “name:shell” pairs.\n",
    "\n",
    "```bash\n",
    "cut -d : -f1,7 /etc/passwd\n",
    "```"
   ]
  },
  {
   "cell_type": "markdown",
   "metadata": {},
   "source": [
    "[example]\n",
    "\n",
    "Show the names and login times of the currently logged in users.\n",
    "\n",
    "```bash\n",
    "who | cut -c 1-16,26-38\n",
    "```"
   ]
  },
  {
   "cell_type": "markdown",
   "metadata": {},
   "source": [
    "[example]\n",
    "\n",
    "```log\n",
    "# cutfile.txt\n",
    "12/05/2017 192.168.10.14 test.html\n",
    "12/30/2017 192.168.10.185 login.html\n",
    "```\n",
    "```bash\n",
    "cut -d' ' -f2 cutfile.txt\n",
    "```\n",
    "```\n",
    "192.168.10.14\n",
    "192.168.10.185\n",
    "```"
   ]
  },
  {
   "cell_type": "markdown",
   "metadata": {},
   "source": [
    "[example]\n",
    "\n",
    "```\n",
    "# cutfile.txt - columns separated by a different number of spaces\n",
    "Pat····25␊\n",
    "Pete···12␊\n",
    "```\n",
    "```bash\n",
    "cut -d' ' -f4 cutfile.txt\n",
    "```\n",
    "```\n",
    "\n",
    "12\n",
    "```\n",
    "```bash\n",
    "cut -d' ' -f5 cutfile.txt\n",
    "```\n",
    "```\n",
    "25\n",
    "\n",
    "```\n",
    "```\n",
    "# cutfile.txt - columns separated by a single tab\n",
    "Pat↹25␊\n",
    "Pete├──┤12␊\n",
    "```\n",
    "```bash\n",
    "cut -f2 cutfile.txt\n",
    "```\n",
    "```\n",
    "25\n",
    "12\n",
    "```"
   ]
  },
  {
   "cell_type": "markdown",
   "metadata": {},
   "source": [
    "[example]\n",
    "\n",
    "```csv\n",
    "# csvex.txt\n",
    "\"name\",\"username\",\"phone\",\"password hash\"\n",
    "\"John Smith\",\"jsmith\",\"555-555-1212\",5f4dcc3b5aa765d61d8327deb882cf99\n",
    "\"Jane Smith\",\"jnsmith\",\"555-555-1234\",e10adc3949ba59abbe56e057f20f883e\n",
    "\"Bill Jones\",\"bjones\",\"555-555-6789\",d8578edf8458ce06fbc5bb76a58c5ca4\n",
    "```\n",
    "```bash\n",
    "cut -d',' -f1 csvex.txt\n",
    "```\n",
    "```\n",
    "\"name\"\n",
    "\"John Smith\"\n",
    "\"Jane Smith\"\n",
    "\"Bill Jones\"\n",
    "```\n",
    "```bash\n",
    "cut -d',' -f1 csvex.txt | tr -d '\"'\n",
    "```\n",
    "```\n",
    "name\n",
    "John Smith\n",
    "Jane Smith\n",
    "Bill Jones\n",
    "```\n",
    "```bash\n",
    "cut -d',' -f1 csvex.txt | tr -d '\"' | tail -n +2\n",
    "```\n",
    "```\n",
    "John Smith\n",
    "Jane Smith\n",
    "Bill Jones\n",
    "```\n",
    "```bash\n",
    "cut -d',' -f3 csvex.txt | cut -c2-13 | tail -n +2\n",
    "```\n",
    "```\n",
    "555-555-1212\n",
    "555-555-1234\n",
    "555-555-6789\n",
    "```"
   ]
  },
  {
   "cell_type": "markdown",
   "metadata": {},
   "source": [
    "---"
   ]
  },
  {
   "cell_type": "markdown",
   "metadata": {},
   "source": [
    "### `date`"
   ]
  },
  {
   "cell_type": "markdown",
   "metadata": {},
   "source": [
    "[ [w](https://en.wikipedia.org/wiki/Unix_time#Command_line) ] **`date`** - display or set date and time"
   ]
  },
  {
   "cell_type": "markdown",
   "metadata": {},
   "source": [
    "---"
   ]
  },
  {
   "cell_type": "markdown",
   "metadata": {},
   "source": [
    "### `dd`"
   ]
  },
  {
   "cell_type": "markdown",
   "metadata": {},
   "source": [
    "[ [w](https://en.wikipedia.org/wiki/Dd_(Unix)) ] **`dd`** - convert and copy a file\n",
    "* `dd if=/dev/ada0 of=/dev/null bs=1m` Check that a disk drive contains no bad blocks.\n",
    "* `dd if=/dev/ada0 of=/dev/ada0 bs=1m` Do a refresh of a disk drive, in order to prevent presently recoverable read errors from progressing into unrecoverable read errors.\n",
    "* `dd if=file conv=parnone of=file.txt` Remove parity bit from a file.\n",
    "* `dd if=file conv=pareven | cmp -x - file` Check for (even) parity errors on a file.\n",
    "* `dd if=/dev/cd0 of=filename.iso bs=2048` To create an image of a Mode-1 CD-ROM, which is a commonly used format for data CD-ROM disks, use a block size of 2048 bytes.\n",
    "* `dd if=memstick.img of=/dev/da0 bs=1m conv=noerror,sync` Write a filesystem image to a memory stick, padding the end with zeros, if necessary, to a 1MiB boundary."
   ]
  },
  {
   "cell_type": "markdown",
   "metadata": {},
   "source": [
    "---"
   ]
  },
  {
   "cell_type": "markdown",
   "metadata": {},
   "source": [
    "### `delta`"
   ]
  },
  {
   "cell_type": "markdown",
   "metadata": {},
   "source": [
    "[ [h](https://dandavison.github.io/delta/) ][ [g](https://github.com/dandavison/delta) ] **`delta`**\n",
    "* `brew install git-delta`"
   ]
  },
  {
   "cell_type": "markdown",
   "metadata": {},
   "source": [
    "---"
   ]
  },
  {
   "cell_type": "markdown",
   "metadata": {},
   "source": [
    "### `df`"
   ]
  },
  {
   "cell_type": "markdown",
   "metadata": {},
   "source": [
    "[ [w](https://en.wikipedia.org/wiki/Df_(Unix)) ] **`df`** - display free disk space\n",
    "* `man df` How do I use command `df`?\n",
    "* `df -h` base-2 human-readable format\n",
    "* `df -H` base-10 human-readable format\n",
    "* [ [y](https://www.youtube.com/watch?v=ZRs5zVv_1UU) ] Learn Linux TV. `06-23-2022`. \"Linux Crash Course - The df and du Commands."
   ]
  },
  {
   "cell_type": "markdown",
   "metadata": {},
   "source": [
    "---"
   ]
  },
  {
   "cell_type": "markdown",
   "metadata": {},
   "source": [
    "### `dialog`"
   ]
  },
  {
   "cell_type": "markdown",
   "metadata": {},
   "source": [
    "[ [h](https://invisible-island.net/dialog/) ][ [w](https://en.wikipedia.org/wiki/Dialog_(software)) ] **`dialog`**"
   ]
  },
  {
   "cell_type": "markdown",
   "metadata": {},
   "source": [
    "---"
   ]
  },
  {
   "cell_type": "markdown",
   "metadata": {},
   "source": [
    "### `diff`"
   ]
  },
  {
   "cell_type": "markdown",
   "metadata": {},
   "source": [
    "[ [w](https://en.wikipedia.org/wiki/Diff) ] **`diff`** \"difference\" - compare files line by line\n",
    "* [ [y](https://www.youtube.com/watch?v=qLRQspQxvFk) ] Learn Linux TV. `10-18-2022`. \"Linux Crash Course - The diff Command\"."
   ]
  },
  {
   "cell_type": "markdown",
   "metadata": {},
   "source": [
    "---"
   ]
  },
  {
   "cell_type": "markdown",
   "metadata": {},
   "source": [
    "### `dig`"
   ]
  },
  {
   "cell_type": "markdown",
   "metadata": {},
   "source": [
    "* https://developers.cloudflare.com/dns/dnssec/troubleshooting/\n",
    "* https://phoenixnap.com/kb/linux-dig-command-examples"
   ]
  },
  {
   "cell_type": "markdown",
   "metadata": {},
   "source": [
    "---"
   ]
  },
  {
   "cell_type": "markdown",
   "metadata": {},
   "source": [
    "### `dirname`"
   ]
  },
  {
   "cell_type": "markdown",
   "metadata": {},
   "source": [
    "[ [w](https://en.wikipedia.org/wiki/Dirname) ] **`dirname`**"
   ]
  },
  {
   "cell_type": "markdown",
   "metadata": {},
   "source": [
    "---"
   ]
  },
  {
   "cell_type": "markdown",
   "metadata": {},
   "source": [
    "### `diff3`"
   ]
  },
  {
   "cell_type": "markdown",
   "metadata": {},
   "source": [
    "[ [w](https://en.wikipedia.org/wiki/Diff3) ] **`diff3`** - compare three files line by line"
   ]
  },
  {
   "cell_type": "markdown",
   "metadata": {},
   "source": [
    "---"
   ]
  },
  {
   "cell_type": "markdown",
   "metadata": {},
   "source": [
    "### `dig`"
   ]
  },
  {
   "cell_type": "markdown",
   "metadata": {},
   "source": [
    "[ [w](https://en.wikipedia.org/wiki/Dig_(command)) ] **`dig`** - DNS lookup utility\n",
    "* `man dig` How do I use command `dig`?"
   ]
  },
  {
   "cell_type": "markdown",
   "metadata": {},
   "source": [
    "---"
   ]
  },
  {
   "cell_type": "markdown",
   "metadata": {},
   "source": [
    "### `dmesg`"
   ]
  },
  {
   "cell_type": "markdown",
   "metadata": {},
   "source": [
    "[ [w](https://en.wikipedia.org/wiki/Dmesg) ] **`dmesg`** \"diagnostic messages\" - display the system message buffer\n",
    "* `man dmesg` How do I use command `dmesg`?"
   ]
  },
  {
   "cell_type": "markdown",
   "metadata": {},
   "source": [
    "---"
   ]
  },
  {
   "cell_type": "markdown",
   "metadata": {},
   "source": [
    "### `dnstop`"
   ]
  },
  {
   "cell_type": "markdown",
   "metadata": {},
   "source": [
    "[ [g](https://github.com/measurement-factory/dnstop) ] **`dnstop`** - displays various tables of DNS traffic on your network"
   ]
  },
  {
   "cell_type": "markdown",
   "metadata": {},
   "source": [
    "---"
   ]
  },
  {
   "cell_type": "markdown",
   "metadata": {},
   "source": [
    "### `dsniff`"
   ]
  },
  {
   "cell_type": "markdown",
   "metadata": {},
   "source": [
    "[ [w](https://en.wikipedia.org/wiki/DSniff) ] **`dsniff`** (Song, Dug)"
   ]
  },
  {
   "cell_type": "markdown",
   "metadata": {},
   "source": [
    "---"
   ]
  },
  {
   "cell_type": "markdown",
   "metadata": {},
   "source": [
    "### `du`"
   ]
  },
  {
   "cell_type": "markdown",
   "metadata": {},
   "source": [
    "[ [w](https://en.wikipedia.org/wiki/Du_(Unix)) ] **`du`** \"disk utility\" - display disk usage statistics\n",
    "* `du -chs .* *`\n",
    "* [ [y](https://www.youtube.com/watch?v=ZRs5zVv_1UU) ] Learn Linux TV. `06-23-2022`. \"Linux Crash Course - The df and du Commands\"."
   ]
  },
  {
   "cell_type": "markdown",
   "metadata": {},
   "source": [
    "---"
   ]
  },
  {
   "cell_type": "markdown",
   "metadata": {},
   "source": [
    "### `echo`"
   ]
  },
  {
   "cell_type": "markdown",
   "metadata": {},
   "source": [
    "[ [w](https://en.wikipedia.org/wiki/Echo_(command)) ] **`echo`** - write arguments to the standard output\n",
    "* `echo -n` Do not print the trailing newline character.\n",
    "* `echo $PATH | tr : '\\n'`\n",
    "* [ [y](https://www.youtube.com/watch?v=Tj-9tahWvok) ] Linode. `06-22-2022`. \"The Echo Command | Linux Essential Commands\"."
   ]
  },
  {
   "cell_type": "markdown",
   "metadata": {},
   "source": [
    "---"
   ]
  },
  {
   "cell_type": "markdown",
   "metadata": {},
   "source": [
    "### `ed`"
   ]
  },
  {
   "cell_type": "markdown",
   "metadata": {},
   "source": [
    "[ [w](https://en.wikipedia.org/wiki/Ed_(text_editor)) ] **`ed`**, **`red`** - line-oriented text dditor\n",
    "* `man ed` How do I use command `ed`?"
   ]
  },
  {
   "cell_type": "markdown",
   "metadata": {},
   "source": [
    "---"
   ]
  },
  {
   "cell_type": "markdown",
   "metadata": {},
   "source": [
    "### `entr`"
   ]
  },
  {
   "cell_type": "markdown",
   "metadata": {},
   "source": [
    "[ [h](http://eradman.com/entrproject/) ][ [g](https://github.com/eradman/entr) ] **`entr`** - run arbitrary commands when files change\n",
    "* `find src/ | entr -s 'make | sed 20q'` Rebuild a project if source files change, limiting output to the first 20 lines.\n",
    "* `ls *.js | entr -r node app.js` Launch and auto-reload a node.js server.\n",
    "* `echo my.sql | entr -cp psql -f /_` Clear the screen and run a query after the SQL script is updated.\n",
    "* `while sleep 0.1; do ls src/*.rb | entr -d make; done` Rebuild project if a source file is modified or added to the src/ directory.\n",
    "* `ls * | entr -rz ./httpd` Auto-reload a web server, or terminate if the server exits."
   ]
  },
  {
   "cell_type": "markdown",
   "metadata": {},
   "source": [
    "---"
   ]
  },
  {
   "cell_type": "markdown",
   "metadata": {},
   "source": [
    "### `env`"
   ]
  },
  {
   "cell_type": "markdown",
   "metadata": {},
   "source": [
    "[ [w](https://en.wikipedia.org/wiki/Env) ] **`env`**"
   ]
  },
  {
   "cell_type": "markdown",
   "metadata": {},
   "source": [
    "---"
   ]
  },
  {
   "cell_type": "markdown",
   "metadata": {},
   "source": [
    "### `eval`"
   ]
  },
  {
   "cell_type": "markdown",
   "metadata": {},
   "source": [
    "`eval` is used to execute arbitrary command statements; `eval` executes the arguments in the context of the current shell.\n",
    "\n",
    "```bash\n",
    "type -p eval # ''\n",
    "type -t eval # builtin\n",
    "```\n",
    "\n",
    "[example]\n",
    "\n",
    "```bash\n",
    "commandOne='echo'\n",
    "commandArg='Hello World'\n",
    "eval \"$commandOne $commandArg\"\n",
    "```\n",
    "```\n",
    "Hello World\n",
    "```"
   ]
  },
  {
   "cell_type": "markdown",
   "metadata": {},
   "source": [
    "---"
   ]
  },
  {
   "cell_type": "markdown",
   "metadata": {},
   "source": [
    "### `ex`"
   ]
  },
  {
   "cell_type": "markdown",
   "metadata": {},
   "source": [
    "[ [w](https://en.wikipedia.org/wiki/Ex_(text_editor)) ] **`ex`**"
   ]
  },
  {
   "cell_type": "markdown",
   "metadata": {},
   "source": [
    "---"
   ]
  },
  {
   "cell_type": "markdown",
   "metadata": {},
   "source": [
    "### `exa`"
   ]
  },
  {
   "cell_type": "markdown",
   "metadata": {},
   "source": [
    "[ [h](https://the.exa.website) ][ [g](https://github.com/ogham/exa) ] **`exa`** - a modern replacement for ls"
   ]
  },
  {
   "cell_type": "markdown",
   "metadata": {},
   "source": [
    "---"
   ]
  },
  {
   "cell_type": "markdown",
   "metadata": {},
   "source": [
    "### `exit`"
   ]
  },
  {
   "cell_type": "markdown",
   "metadata": {},
   "source": [
    "[ [w](https://en.wikipedia.org/wiki/Exit_(command)) ] **`exit`**, **`bye`**"
   ]
  },
  {
   "cell_type": "markdown",
   "metadata": {},
   "source": [
    "---"
   ]
  },
  {
   "cell_type": "markdown",
   "metadata": {},
   "source": [
    "### `expand`"
   ]
  },
  {
   "cell_type": "markdown",
   "metadata": {},
   "source": [
    "[ [w](https://en.wikipedia.org/wiki/Expand_(Unix)) ] **`expand`**, **`unexpand`** - expand tabs to spaces, and vice versa\n",
    "* `man expand` How do I use command `expand`?"
   ]
  },
  {
   "cell_type": "markdown",
   "metadata": {},
   "source": [
    "---"
   ]
  },
  {
   "cell_type": "markdown",
   "metadata": {},
   "source": [
    "### `export`"
   ]
  },
  {
   "cell_type": "markdown",
   "metadata": {},
   "source": [
    "**`export`**"
   ]
  },
  {
   "cell_type": "markdown",
   "metadata": {},
   "source": [
    "---"
   ]
  },
  {
   "cell_type": "markdown",
   "metadata": {},
   "source": [
    "### `expr`"
   ]
  },
  {
   "cell_type": "markdown",
   "metadata": {},
   "source": [
    "[ [w](https://en.wikipedia.org/wiki/Expr) ] **`expr`**"
   ]
  },
  {
   "cell_type": "markdown",
   "metadata": {},
   "source": [
    "---"
   ]
  },
  {
   "cell_type": "markdown",
   "metadata": {},
   "source": [
    "### `factor`"
   ]
  },
  {
   "cell_type": "markdown",
   "metadata": {},
   "source": [
    "[ [w](https://en.wikipedia.org/wiki/Factor_(Unix)) ] **`factor`** - factor numbers"
   ]
  },
  {
   "cell_type": "markdown",
   "metadata": {},
   "source": [
    "---"
   ]
  },
  {
   "cell_type": "markdown",
   "metadata": {},
   "source": [
    "### `false`"
   ]
  },
  {
   "cell_type": "markdown",
   "metadata": {},
   "source": [
    "[ [w](https://en.wikipedia.org/wiki/True_and_false_(commands)) ] **`false`**"
   ]
  },
  {
   "cell_type": "markdown",
   "metadata": {},
   "source": [
    "---"
   ]
  },
  {
   "cell_type": "markdown",
   "metadata": {},
   "source": [
    "### `fc`"
   ]
  },
  {
   "cell_type": "markdown",
   "metadata": {},
   "source": [
    "[ [w](https://en.wikipedia.org/wiki/Fc_(Unix)) ] **`fc`**"
   ]
  },
  {
   "cell_type": "markdown",
   "metadata": {},
   "source": [
    "---"
   ]
  },
  {
   "cell_type": "markdown",
   "metadata": {},
   "source": [
    "### `fd`"
   ]
  },
  {
   "cell_type": "markdown",
   "metadata": {},
   "source": [
    "[ [g](https://github.com/sharkdp/fd) ] **`fd`** - find entries in the filesystem\n",
    "* `brew install fd`"
   ]
  },
  {
   "cell_type": "markdown",
   "metadata": {},
   "source": [
    "---"
   ]
  },
  {
   "cell_type": "markdown",
   "metadata": {},
   "source": [
    "### `ffmpeg`"
   ]
  },
  {
   "cell_type": "markdown",
   "metadata": {},
   "source": [
    "[ [h](https://ffmpeg.org/) ] **`ffmpeg`**\n",
    "\n",
    "```zsh\n",
    "mp32ogg () {\n",
    "  ffmpeg -i $1 $2\n",
    "}\n",
    "```"
   ]
  },
  {
   "cell_type": "markdown",
   "metadata": {},
   "source": [
    "---"
   ]
  },
  {
   "cell_type": "markdown",
   "metadata": {},
   "source": [
    "### `ffuf`"
   ]
  },
  {
   "cell_type": "markdown",
   "metadata": {},
   "source": [
    "[ [d](https://github.com/ffuf/ffuf/wiki) ][ [g](https://github.com/ffuf/ffuf) ] `ffuf` \"Fuzz Faster U Fool\" fast web fuzzer written in Go\n",
    "* https://codingo.io/tools/ffuf/bounty/2020/09/17/everything-you-need-to-know-about-ffuf.html"
   ]
  },
  {
   "cell_type": "markdown",
   "metadata": {},
   "source": [
    "Installation\n",
    "\n",
    "```bash\n",
    "brew install ffuf # macOS\n",
    "```"
   ]
  },
  {
   "cell_type": "markdown",
   "metadata": {},
   "source": [
    "---"
   ]
  },
  {
   "cell_type": "markdown",
   "metadata": {},
   "source": [
    "### `fg`"
   ]
  },
  {
   "cell_type": "markdown",
   "metadata": {},
   "source": [
    "[ [w](https://en.wikipedia.org/wiki/Job_control_(Unix)#Commands) ] **`fg`** \"foreground\"\n",
    "* `man fg` How do I use command `fg`?"
   ]
  },
  {
   "cell_type": "markdown",
   "metadata": {},
   "source": [
    "---"
   ]
  },
  {
   "cell_type": "markdown",
   "metadata": {},
   "source": [
    "### `figlet`"
   ]
  },
  {
   "cell_type": "markdown",
   "metadata": {},
   "source": [
    "[ [h](http://www.figlet.org) ] **`figlet`**"
   ]
  },
  {
   "cell_type": "markdown",
   "metadata": {},
   "source": [
    "---"
   ]
  },
  {
   "cell_type": "markdown",
   "metadata": {},
   "source": [
    "### `file`"
   ]
  },
  {
   "cell_type": "markdown",
   "metadata": {},
   "source": [
    "[ [w](https://en.wikipedia.org/wiki/File_(command)) ] **`file`** - determine file type\n",
    "\n",
    "`file` is used to help identify a given file's type and looks deeper than the file name by reading and analyzing the first block of data known as the magic number; even if you rename a .png image file to end with .jpg the `file` command is smart enough to figure out and tell you the correct file type.\n",
    "\n",
    "The `file` command-line utility compares the first few bytes of a file's content to signatures in the magic pattern file in directory `/usr/share/misc` called magic numbers to help identify the file type.\n",
    "\n",
    "options\n",
    "* `-f` read the list of files to analyze from a given file\n",
    "* `-k` do not stop on the first match; list all matches for the file type\n",
    "* `-z` look inside compressed files\n",
    "\n",
    "\"Be cautious if using the file command on an untrusted system. The file command uses the magic pattern file located at /usr/share/misc/. A malicious user could modify this file such that certain file types would not be identified. A better option is to mount the suspect drive to a known-good system and search from there.\" - _Cybersecurity Ops with bash_"
   ]
  },
  {
   "cell_type": "markdown",
   "metadata": {},
   "source": [
    "[example]\n",
    "\n",
    "```bash\n",
    "file unknownfile\n",
    "```\n",
    "```\n",
    "unknownfile: Microsoft Word 2007+\n",
    "```"
   ]
  },
  {
   "cell_type": "markdown",
   "metadata": {},
   "source": [
    "---"
   ]
  },
  {
   "cell_type": "markdown",
   "metadata": {},
   "source": [
    "### `find`"
   ]
  },
  {
   "cell_type": "markdown",
   "metadata": {},
   "source": [
    "[ [w](https://en.wikipedia.org/wiki/Find_(Unix)) ] **`find`** - walk a file hierarchy\n",
    "\n",
    "options\n",
    "* `-atime`\n",
    "* `-exec`\n",
    "* `-iname` case insensitive file name\n",
    "* `-maxdepth`\n",
    "* `-mindepth`\n",
    "* `-mtime`\n",
    "* `-name` case sensitive file name\n",
    "* `-print`\n",
    "* `-print0` print with a NUL terminator instead of a newline\n",
    "* `-regex`\n",
    "* `-type`\n",
    "\n",
    "resources\n",
    "* [ [y](https://www.youtube.com/watch?v=skTiK_6DdqU) ] LearnLinuxTV. `04-27-2021`. \"Linux Essentials - The find command\"."
   ]
  },
  {
   "cell_type": "markdown",
   "metadata": {},
   "source": [
    "```bash\n",
    "find /c/Users -name '*password*'                          # search the Windows `/c/Users` directory and subdirectories for file names containing the word `password`\n",
    "find /home -name '*password*' 2>/dev/null                 # search the Linux `/home` directory and subdirectories for file names containing the word `password` and suppress errors\n",
    "find /home -name '.*'                                     # search the Linux `/home` directory and subdirectories for hidden file name\n",
    "find /home -size +5G                                      # search for files greater than 5 GB in size in directory `/home` and subdirectories\n",
    "find / -type f -exec ls -s '{}' \\; | sort -n -r | head -5 # identify the five largest files on the system\n",
    "find / -type f -exec ls -s '{}' \\; | sort -n -r | tail -5 # identify the five smallest files on the system\n",
    "find /home -mmin -5                                       # search for files in directory `/home` and subdirectories modified less than 5 minutes ago\n",
    "find /home -mtime -1                                      # search for files in directory `/home` and subdirectories modified less than 24 hours ago\n",
    "find /home -mtime +2                                      # search for files in directory `/home` and subdirectories modified more than 48 hours ago\n",
    "find /home -atime -1                                      # search for files in directory `/home` and subdirectories accessed less than 24 hours ago\n",
    "find /home -type f -atime -1 -exec cp '{}' ./ \\;          # search for files in directory `/home` and subdirectories accessed less than 24 hours ago and copy them to the working directory (make sure the working directory is outside directory `/home`)\n",
    "find . -type d -name \"b*\"                                 # search for directories that begin with `b`.\n",
    "find . -regex '\\.\\/\\.bash.*'                              # search for patterns that begin with `./.bash`.\n",
    "find . -maxdepth 1 -iname \"*abc*\" ! -name \"*:*\" -print    #\n",
    "\n",
    "# `-o, -or` logical or\n",
    "# command `find` uses logical and `-a, -and` by default\n",
    "find . -name 'a.txt' -o  -name 'b.txt' # logical or\n",
    "find . -name 'a.txt' -or -name 'b.txt' # logical or\n",
    "\n",
    "find /data -type f -exec grep '{}' -e 'ProductionWebServer' \\; -exec cat '{}' >> ProductionWebServerAgg.txt \\;\n",
    "\n",
    "# users and permissions\n",
    "find . -type f -user jsmith                               # find files in the working directory that are owned by user `jsmith`...\n",
    "find . -type f -user jsmith -exec chown mwilson '{}' \\;   # ...and change their owner to user `mwilson`\n",
    "find . -type f -name '*secret*' -exec chmod 600 '{}' \\;   # find files in the working directory that contain the string `secret` in their name and make them accessible only to their owner\n",
    "```"
   ]
  },
  {
   "cell_type": "markdown",
   "metadata": {},
   "source": [
    "---"
   ]
  },
  {
   "cell_type": "markdown",
   "metadata": {},
   "source": [
    "### `finger`"
   ]
  },
  {
   "cell_type": "markdown",
   "metadata": {},
   "source": [
    "[ [w](https://en.wikipedia.org/wiki/Finger_(protocol)) ] **`finger`** - user information lookup program"
   ]
  },
  {
   "cell_type": "markdown",
   "metadata": {},
   "source": [
    "---"
   ]
  },
  {
   "cell_type": "markdown",
   "metadata": {},
   "source": [
    "### `fold`"
   ]
  },
  {
   "cell_type": "markdown",
   "metadata": {},
   "source": [
    "[ [w](https://en.wikipedia.org/wiki/Fold_(Unix)) ] **`fold`** - fold long lines for finite width output device"
   ]
  },
  {
   "cell_type": "markdown",
   "metadata": {},
   "source": [
    "---"
   ]
  },
  {
   "cell_type": "markdown",
   "metadata": {},
   "source": [
    "### `fortune`"
   ]
  },
  {
   "cell_type": "markdown",
   "metadata": {},
   "source": [
    "[ [w](https://en.wikipedia.org/wiki/Fortune_(Unix)) ] **`fortune`**"
   ]
  },
  {
   "cell_type": "markdown",
   "metadata": {},
   "source": [
    "---"
   ]
  },
  {
   "cell_type": "markdown",
   "metadata": {},
   "source": [
    "### `fsck`"
   ]
  },
  {
   "cell_type": "markdown",
   "metadata": {},
   "source": [
    "[ [w](https://en.wikipedia.org/wiki/Fsck) ] **`fsck`** - filesystem consistency check and interactive repair"
   ]
  },
  {
   "cell_type": "markdown",
   "metadata": {},
   "source": [
    "---"
   ]
  },
  {
   "cell_type": "markdown",
   "metadata": {},
   "source": [
    "### `ftp`"
   ]
  },
  {
   "cell_type": "markdown",
   "metadata": {},
   "source": [
    "File Transfer Protocol\n",
    "\n",
    "options\n",
    "* `-n` do not attempt to automatically log into the server\n",
    "\n",
    "interactive commands\n",
    "* `ls`\n",
    "* `cd`\n",
    "* `put` transfer files to the FTP server\n",
    "* `get` transfer files from the FTP server\n",
    "* `quit`\n",
    "\n",
    "[example]\n",
    "\n",
    "```bash\n",
    "ftp 192.168.0.125    # connect to an FTP server at 192.168.0.125 on port 21\n",
    "ftp -n 192.168.0.125 # connect to an FTP server at 192.168.0.125 on port 21 but do not automatically login\n",
    "ftp 192.168.0.125 50 # connect to an FTP server at 192.168.0.125 on port 50\n",
    "```"
   ]
  },
  {
   "cell_type": "markdown",
   "metadata": {},
   "source": [
    "---"
   ]
  },
  {
   "cell_type": "markdown",
   "metadata": {},
   "source": [
    "### `fuck`"
   ]
  },
  {
   "cell_type": "markdown",
   "metadata": {},
   "source": [
    "[ [g](https://github.com/nvbn/thefuck) ] **`fuck`**"
   ]
  },
  {
   "cell_type": "markdown",
   "metadata": {},
   "source": [
    "---"
   ]
  },
  {
   "cell_type": "markdown",
   "metadata": {},
   "source": [
    "### `fuser`"
   ]
  },
  {
   "cell_type": "markdown",
   "metadata": {},
   "source": [
    "[ [w](https://en.wikipedia.org/wiki/Fuser_(Unix)) ] **`fuser`**"
   ]
  },
  {
   "cell_type": "markdown",
   "metadata": {},
   "source": [
    "---"
   ]
  },
  {
   "cell_type": "markdown",
   "metadata": {},
   "source": [
    "### `fzf`"
   ]
  },
  {
   "cell_type": "markdown",
   "metadata": {},
   "source": [
    "[ [g](https://github.com/junegunn/fzf) ] **`fzf`** - a command-line fuzzy finder"
   ]
  },
  {
   "cell_type": "markdown",
   "metadata": {},
   "source": [
    "---"
   ]
  },
  {
   "cell_type": "markdown",
   "metadata": {},
   "source": [
    "### `getcat`"
   ]
  },
  {
   "cell_type": "markdown",
   "metadata": {},
   "source": [
    "**`gencat`** - NLS catalog compiler"
   ]
  },
  {
   "cell_type": "markdown",
   "metadata": {},
   "source": [
    "---"
   ]
  },
  {
   "cell_type": "markdown",
   "metadata": {},
   "source": [
    "### `getconf`"
   ]
  },
  {
   "cell_type": "markdown",
   "metadata": {},
   "source": [
    "**`getconf`** – retrieve standard configuration variables"
   ]
  },
  {
   "cell_type": "markdown",
   "metadata": {},
   "source": [
    "---"
   ]
  },
  {
   "cell_type": "markdown",
   "metadata": {},
   "source": [
    "### `getopts`"
   ]
  },
  {
   "cell_type": "markdown",
   "metadata": {},
   "source": [
    "[ [w](https://en.wikipedia.org/wiki/Getopts) ] **`getopts`**"
   ]
  },
  {
   "cell_type": "markdown",
   "metadata": {},
   "source": [
    "---"
   ]
  },
  {
   "cell_type": "markdown",
   "metadata": {},
   "source": [
    "### `git`"
   ]
  },
  {
   "cell_type": "markdown",
   "metadata": {},
   "source": [
    "**`git`** (Torvalds and Hamano 2014)"
   ]
  },
  {
   "cell_type": "markdown",
   "metadata": {},
   "source": [
    "---"
   ]
  },
  {
   "cell_type": "markdown",
   "metadata": {},
   "source": [
    "### `glances`"
   ]
  },
  {
   "cell_type": "markdown",
   "metadata": {},
   "source": [
    "[ [h](https://nicolargo.github.io/glances/) ] **`glances`** - an eye on your system"
   ]
  },
  {
   "cell_type": "markdown",
   "metadata": {},
   "source": [
    "---"
   ]
  },
  {
   "cell_type": "markdown",
   "metadata": {},
   "source": [
    "### `grep`"
   ]
  },
  {
   "cell_type": "markdown",
   "metadata": {},
   "source": [
    "[ [w](https://en.wikipedia.org/wiki/Grep) ] **`grep`**, `egrep`, `fgrep`, `rgrep`, `bzgrep`, `bzegrep`, `bzfgrep`, `zgrep`, `zegrep`, `zfgrep` - file pattern searcher (Meyering 2012a)\n",
    "\n",
    "The `grep` command searches the content of a file for a given pattern and prints any line where the pattern is matched.\n",
    "\n",
    "options\n",
    "* `-e` regex search pattern\n",
    "* `-i` case insensitive\n",
    "* `-n` line number\n",
    "* `-o` only the text that matches the regex pattern will be returned instead of the entire line\n",
    "* `-P` Perl-specific pattern-match modifier (not available on macOS)\n",
    "* `-r` recurses through subdirectories\n",
    "* `-w` match whole words only\n",
    "* `-z` treats newlines like any ordinary character in its search and adds a null value (ASCII 0) at the end of each string found"
   ]
  },
  {
   "cell_type": "markdown",
   "metadata": {},
   "source": [
    "[examples]\n",
    "\n",
    "```bash\n",
    "grep -i -r /home -e 'password'                                        # search for files in directory `/home` and subdirectories that contain the string `password`\n",
    "find /home -type f -exec grep 'password' '{}' \\; -exec cp '{}' . \\; & # search for files in directory `/home` and subdirectories that contain the string `password` and copy those files to the working directory in the background\n",
    "find / -type f -exec file '{}' \\; | egrep 'PNG' | cut -d' ' -f1       # search the system for png files\n",
    "```"
   ]
  },
  {
   "cell_type": "markdown",
   "metadata": {},
   "source": [
    "[example]\n",
    "\n",
    "```xml\n",
    "# book.xml\n",
    "<book title=\"Cybersecurity Ops with bash\" edition=\"1\">\n",
    "  <author>\n",
    "    <firstName>Paul</firstName>\n",
    "    <lastName>Troncone</lastName>\n",
    "  </author>\n",
    "  <author>\n",
    "    <firstName>Carl</firstName>\n",
    "    <lastName>Albing</lastName>\n",
    "  </author>\n",
    "</book>\n",
    "```\n",
    "```bash\n",
    "grep -o '<firstName>.*<\\/firstName>' book.xml\n",
    "```\n",
    "```\n",
    "<firstName>Paul</firstName>\n",
    "<firstName>Carl</firstName>\n",
    "```\n",
    "```bash\n",
    "grep -Pzo '(?s)<author>.*?</author>' book.xml # `(?s)` is a Perl-specific pattern-match modifier which modifies the `.` metacharacter to also match on the newline character\n",
    "```\n",
    "```\n",
    "<author>\n",
    "  <firstName>Paul</firstName>\n",
    "  <lastName>Troncone</lastName>\n",
    "</author>\n",
    "<author>\n",
    "  <firstName>Carl</firstName>\n",
    "  <lastName>Albing</lastName>\n",
    "</author>\n",
    "```\n",
    "```bash\n",
    "grep -Po '<firstName>.*?<\\/firstName>' book.xml | sed 's/<[^>]*>//g' # `[^>]*` means match any non-\">\" character zero or more times\n",
    "```\n",
    "```\n",
    "Paul\n",
    "Carl\n",
    "```"
   ]
  },
  {
   "cell_type": "markdown",
   "metadata": {},
   "source": [
    "[example]\n",
    "\n",
    "```json\n",
    "# book.json\n",
    "{\n",
    "  \"title\": \"Cybersecurity Ops with bash\",\n",
    "  \"edition\": 1,\n",
    "  \"authors\": [\n",
    "    {\n",
    "      \"firstName\": \"Paul\",\n",
    "      \"lastName\": \"Troncone\"\n",
    "    },\n",
    "    {\n",
    "      \"firstName\": \"Carl\",\n",
    "      \"lastName\": \"Albing\"\n",
    "    }\n",
    "  ]\n",
    "}\n",
    "```\n",
    "```bash\n",
    "grep -o '\"firstName\": \".*\"' book.json # extract firstName key-value pairs\n",
    "```\n",
    "```\n",
    "\"firstName\": \"Paul\"\n",
    "\"firstName\": \"Carl\"\n",
    "```\n",
    "```bash\n",
    "grep -o '\"firstName\": \".*\"' book.json | cut -d\" \" -f2 | tr -d '\\\"'\n",
    "```\n",
    "```\n",
    "Paul\n",
    "Carl\n",
    "```"
   ]
  },
  {
   "cell_type": "markdown",
   "metadata": {},
   "source": [
    "---"
   ]
  },
  {
   "cell_type": "markdown",
   "metadata": {},
   "source": [
    "### `groups`"
   ]
  },
  {
   "cell_type": "markdown",
   "metadata": {},
   "source": [
    "**`groups`** – show group memberships\n",
    "* `id -Gn` equivalent to `groups`"
   ]
  },
  {
   "cell_type": "markdown",
   "metadata": {},
   "source": [
    "---"
   ]
  },
  {
   "cell_type": "markdown",
   "metadata": {},
   "source": [
    "### `gzip`"
   ]
  },
  {
   "cell_type": "markdown",
   "metadata": {},
   "source": [
    "[ [w](https://en.wikipedia.org/wiki/Gzip) ] **`gzip`**, `gunzip`, `gzcat`, `zcat` - compression/decompression tool using Lempel-Ziv coding (LZ77)\n",
    "* `man gzip` How do I use command `gzip`?\n",
    "* `man gunzip` How do I use command `gunzip`?\n",
    "* `gzip archive.tar` Compress tarball `archive.tar`."
   ]
  },
  {
   "cell_type": "markdown",
   "metadata": {},
   "source": [
    "---"
   ]
  },
  {
   "cell_type": "markdown",
   "metadata": {},
   "source": [
    "### `hash`"
   ]
  },
  {
   "cell_type": "markdown",
   "metadata": {},
   "source": [
    "[ [w](https://en.wikipedia.org/wiki/Hash_(Unix)) ] **`hash`**"
   ]
  },
  {
   "cell_type": "markdown",
   "metadata": {},
   "source": [
    "---"
   ]
  },
  {
   "cell_type": "markdown",
   "metadata": {},
   "source": [
    "### `hashcat`"
   ]
  },
  {
   "cell_type": "markdown",
   "metadata": {},
   "source": [
    "* [ [h](https://hashcat.net/hashcat/) ][ [g](https://github.com/hashcat/hashcat) ][ [w](https://en.wikipedia.org/wiki/Hashcat) ] `hashcat`\n",
    "* [ [h](https://hashcat.net/wiki/doku.php?id=hashcat_utils) ][ [g](https://github.com/hashcat/hashcat-utils) ][ w ] hashcat-utils"
   ]
  },
  {
   "cell_type": "markdown",
   "metadata": {},
   "source": [
    "[example]\n",
    "\n",
    "```bash\n",
    "hashcat --help | grep -i macos\n",
    "```\n",
    "```\n",
    "    122 | macOS v10.4, macOS v10.5, macOS v10.6                      | Operating System\n",
    "   1722 | macOS v10.7                                                | Operating System\n",
    "   7100 | macOS v10.8+ (PBKDF2-SHA512)                               | Operating System\n",
    "```"
   ]
  },
  {
   "cell_type": "markdown",
   "metadata": {},
   "source": [
    "---"
   ]
  },
  {
   "cell_type": "markdown",
   "metadata": {},
   "source": [
    "### `head`"
   ]
  },
  {
   "cell_type": "markdown",
   "metadata": {},
   "source": [
    "[ [w](https://en.wikipedia.org/wiki/Head_(Unix)) ] **`head`** - display first lines of a file (MacKenzie & Meyering 2012)\n",
    "\n",
    "options\n",
    "* `-c` specify the number of bytes to output\n",
    "* `-n` specify the number of lines to output\n",
    "\n",
    "examples\n",
    "* `head -n20 example.txt`\n",
    "* `head -20 example.txt`\n",
    "* `head -c20 example.txt`"
   ]
  },
  {
   "cell_type": "markdown",
   "metadata": {},
   "source": [
    "---"
   ]
  },
  {
   "cell_type": "markdown",
   "metadata": {},
   "source": [
    "### `hexdump`"
   ]
  },
  {
   "cell_type": "markdown",
   "metadata": {},
   "source": [
    "[ [w](https://en.wikipedia.org/wiki/Hex_dump) ] **`hexdump`** - ASCII, decimal, hexadecimal, octal dump"
   ]
  },
  {
   "cell_type": "markdown",
   "metadata": {},
   "source": [
    "---"
   ]
  },
  {
   "cell_type": "markdown",
   "metadata": {},
   "source": [
    "### `history`"
   ]
  },
  {
   "cell_type": "markdown",
   "metadata": {},
   "source": [
    "[ [w](https://en.wikipedia.org/wiki/History_(command)) ] **`history`**\n",
    "* `man history` How do I use command `history`?"
   ]
  },
  {
   "cell_type": "markdown",
   "metadata": {},
   "source": [
    "---"
   ]
  },
  {
   "cell_type": "markdown",
   "metadata": {},
   "source": [
    "### hollywood"
   ]
  },
  {
   "cell_type": "markdown",
   "metadata": {},
   "source": [
    "[ [g](https://github.com/bcbcarl/docker-hollywood) ] hollywood"
   ]
  },
  {
   "cell_type": "markdown",
   "metadata": {},
   "source": [
    "---"
   ]
  },
  {
   "cell_type": "markdown",
   "metadata": {},
   "source": [
    "### `host`"
   ]
  },
  {
   "cell_type": "markdown",
   "metadata": {},
   "source": [
    "[ [w](https://en.wikipedia.org/wiki/Host_(Unix)) ] **`host`**"
   ]
  },
  {
   "cell_type": "markdown",
   "metadata": {},
   "source": [
    "---"
   ]
  },
  {
   "cell_type": "markdown",
   "metadata": {},
   "source": [
    "### `hostname`"
   ]
  },
  {
   "cell_type": "markdown",
   "metadata": {},
   "source": [
    "[ [w](https://en.wikipedia.org/wiki/Hostname) ] **`hostname`** - set or print name of current host system\n",
    "* `man hostname` How do I use command `hostname`?\n",
    "* `hostname -s` Print the host name.\n",
    "* `hostname -d` Print the host name's domain."
   ]
  },
  {
   "cell_type": "markdown",
   "metadata": {},
   "source": [
    "---"
   ]
  },
  {
   "cell_type": "markdown",
   "metadata": {},
   "source": [
    "### `htop`"
   ]
  },
  {
   "cell_type": "markdown",
   "metadata": {},
   "source": [
    "[ [h](https://htop.dev) ][ [g](https://github.com/htop-dev/htop) ][ [w](https://en.wikipedia.org/wiki/Htop) ] **`htop`** - interactive process viewer\n",
    "* `man htop` How do I use command `htop`?"
   ]
  },
  {
   "cell_type": "markdown",
   "metadata": {},
   "source": [
    "---"
   ]
  },
  {
   "cell_type": "markdown",
   "metadata": {},
   "source": [
    "### `hub`"
   ]
  },
  {
   "cell_type": "markdown",
   "metadata": {},
   "source": [
    "[ [g](https://github.com/mislav/hub) ] **`hub`**"
   ]
  },
  {
   "cell_type": "markdown",
   "metadata": {},
   "source": [
    "---"
   ]
  },
  {
   "cell_type": "markdown",
   "metadata": {},
   "source": [
    "### `hydra`"
   ]
  },
  {
   "cell_type": "markdown",
   "metadata": {},
   "source": [
    "[examples]\n",
    "\n",
    "```bash\n",
    "hydra -U http-post-form\n",
    "```"
   ]
  },
  {
   "cell_type": "markdown",
   "metadata": {},
   "source": [
    "---"
   ]
  },
  {
   "cell_type": "markdown",
   "metadata": {},
   "source": [
    "### `hyperfine`"
   ]
  },
  {
   "cell_type": "markdown",
   "metadata": {},
   "source": [
    "[ [g](https://github.com/sharkdp/hyperfine) ] `hyperfine`"
   ]
  },
  {
   "cell_type": "markdown",
   "metadata": {},
   "source": [
    "---"
   ]
  },
  {
   "cell_type": "markdown",
   "metadata": {},
   "source": [
    "### `iconv`"
   ]
  },
  {
   "cell_type": "markdown",
   "metadata": {},
   "source": [
    "[ [w](https://en.wikipedia.org/wiki/Iconv) ] **`iconv`**"
   ]
  },
  {
   "cell_type": "markdown",
   "metadata": {},
   "source": [
    "---"
   ]
  },
  {
   "cell_type": "markdown",
   "metadata": {},
   "source": [
    "### `ifconfig`"
   ]
  },
  {
   "cell_type": "markdown",
   "metadata": {},
   "source": [
    "[ [w](https://en.wikipedia.org/wiki/Ifconfig) ] **`ifconfig`** \"interface configuration\" - configure network interface parameters\n",
    "* `man ifconfig` How do I use command `ifconfig`?"
   ]
  },
  {
   "cell_type": "markdown",
   "metadata": {},
   "source": [
    "---"
   ]
  },
  {
   "cell_type": "markdown",
   "metadata": {},
   "source": [
    "### `iostat`"
   ]
  },
  {
   "cell_type": "markdown",
   "metadata": {},
   "source": [
    "[ [w](https://en.wikipedia.org/wiki/Iostat) ] **`iostat`** - report I/O statistics\n",
    "* `iostat -w 1 disk0 disk2` Display statistics for the first and third disk devices device every second ad infinitum.\n",
    "* `iostat -c 2` Display the statistics for the first four devices in the system twice, with a one second display interval.\n",
    "* `iostat -Iw 3` Display total statistics every three seconds ad infinitum.\n",
    "* `iostat -odICTw 2 -c 9` Display total statistics using the old-style output format 9 times, with a two second interval between each measurement/display.  The -d flag generally disables the TTY and CPU displays, but since the -T and -C flags are given, the TTY and CPU displays will be displayed."
   ]
  },
  {
   "cell_type": "markdown",
   "metadata": {},
   "source": [
    "---"
   ]
  },
  {
   "cell_type": "markdown",
   "metadata": {},
   "source": [
    "### `iotop`"
   ]
  },
  {
   "cell_type": "markdown",
   "metadata": {},
   "source": [
    "[ [w](https://en.wikipedia.org/wiki/Load_(computing)#Other_system_performance_commands) ] **`iotop`** - display top disk I/O events by process. uses DTrace."
   ]
  },
  {
   "cell_type": "markdown",
   "metadata": {},
   "source": [
    "---"
   ]
  },
  {
   "cell_type": "markdown",
   "metadata": {},
   "source": [
    "### `ip`"
   ]
  },
  {
   "cell_type": "markdown",
   "metadata": {},
   "source": [
    "**`ip`** - Internet Protocol\n",
    "* `man ip` How do I use command `ip`?"
   ]
  },
  {
   "cell_type": "markdown",
   "metadata": {},
   "source": [
    "```bash\n",
    "# an address (a) object represents the IPv4/IPv6 address(es) associated with a link\n",
    "ip     a                  # display                               all links\n",
    "ip -br a                  # display the state and IP addresses of all links\n",
    "ip     a show <interface> # display a particular link\n",
    "\n",
    "# a link (l) object represents a physical or logical network device\n",
    "ip       l                  # display all interfaces\n",
    "ip -s    l                  # display all interfaces - with statistics\n",
    "ip -s -s l\n",
    "ip -br   l\n",
    "ip       l show <interface> # display a particular interface\n",
    "ip       l show up\n",
    "\n",
    "ip -br      l show up | sort\n",
    "ip -s -s -h l show br0\n",
    "\n",
    "# an maddress (m) object represents the multicast address associated with a link\n",
    "ip maddress\n",
    "\n",
    "ip monitor\n",
    "\n",
    "# a neighbor (n) object represents information about a neighboring interface (cached ARP or IPv6 neighbor discovery (NDISC))\n",
    "ip neighbor\n",
    "\n",
    "# a rule (ru) object represents a policy rule for routing packets and controls the precedence of the routes in the routing database\n",
    "ip rule\n",
    "```\n",
    "\n",
    "```bash\n",
    "# a route (r) object represents an entry in the routing table\n",
    "ip route\n",
    "```\n",
    "```bash\n",
    " 10. 0.  0.0/24 dev br0       proto kernel scope link src 10.0.0.1\n",
    " 10. 0.  2.0/24 dev br2       proto kernel scope link src 10.0.2.1\n",
    " 10. 0.  4.0/24 dev br4       proto kernel scope link src 10.0.4.1\n",
    " 10. 0.  6.0/24 dev br6       proto kernel scope link src 10.0.6.1\n",
    " 10. 0.  8.0/24 dev wgsrv1    proto kernel scope link src 10.0.8.1\n",
    " 10. 0. 10.0/24 dev wgsrv2    proto kernel scope link src 10.0.10.1\n",
    "100.14. 54.0/24 dev eth8      proto kernel scope link src 100.14.54.175\n",
    "203. 0.113.0/24 dev dnsfilter proto kernel scope link src 203.0.113.1\n",
    "```"
   ]
  },
  {
   "cell_type": "markdown",
   "metadata": {},
   "source": [
    "---"
   ]
  },
  {
   "cell_type": "markdown",
   "metadata": {},
   "source": [
    "### `ipconfig`"
   ]
  },
  {
   "cell_type": "markdown",
   "metadata": {},
   "source": [
    "[ [w](https://en.wikipedia.org/wiki/Ipconfig) ] **`ipconfig`** – view and control IP configuration state"
   ]
  },
  {
   "cell_type": "markdown",
   "metadata": {},
   "source": [
    "---"
   ]
  },
  {
   "cell_type": "markdown",
   "metadata": {},
   "source": [
    "### `ipcrm`"
   ]
  },
  {
   "cell_type": "markdown",
   "metadata": {},
   "source": [
    "[ [w](https://en.wikipedia.org/wiki/Ipcrm) ] **`ipcrm`** – remove the specified message queues, semaphore sets, and shared segments"
   ]
  },
  {
   "cell_type": "markdown",
   "metadata": {},
   "source": [
    "---"
   ]
  },
  {
   "cell_type": "markdown",
   "metadata": {},
   "source": [
    "### `ipcs`"
   ]
  },
  {
   "cell_type": "markdown",
   "metadata": {},
   "source": [
    "[ [w](https://en.wikipedia.org/wiki/Ipcs) ] **`ipcs`**"
   ]
  },
  {
   "cell_type": "markdown",
   "metadata": {},
   "source": [
    "---"
   ]
  },
  {
   "cell_type": "markdown",
   "metadata": {},
   "source": [
    "### `iptables`"
   ]
  },
  {
   "cell_type": "markdown",
   "metadata": {},
   "source": [
    "[ w ] **`iptables`**"
   ]
  },
  {
   "cell_type": "markdown",
   "metadata": {},
   "source": [
    "---"
   ]
  },
  {
   "cell_type": "markdown",
   "metadata": {},
   "source": [
    "### `jobs`"
   ]
  },
  {
   "cell_type": "markdown",
   "metadata": {},
   "source": [
    "**`jobs`**\n",
    "* `man jobs` How do I use command `jobs`?"
   ]
  },
  {
   "cell_type": "markdown",
   "metadata": {},
   "source": [
    "---"
   ]
  },
  {
   "cell_type": "markdown",
   "metadata": {},
   "source": [
    "### `john`"
   ]
  },
  {
   "cell_type": "markdown",
   "metadata": {},
   "source": [
    "* [ [h](https://www.openwall.com/john/) ][ [g](https://github.com/openwall/john) ] `john` John the Ripper\n",
    "* [ [w](https://en.wikipedia.org/wiki/RockYou) ] RockYou\n",
    "\n",
    "```bash\n",
    "brew install john-jumbo # brew install john\n",
    "```\n",
    "```txt\n",
    "# `hashlist.txt` or `/etc/shadow`\n",
    "admin:e08e4506d2e3f370a5e8ab79647df309\n",
    "guest:a132mj06d2e3f370a5e8ab79647df309\n",
    "```\n",
    "```bash\n",
    "john hashlist.txt\n",
    "john hashlist.txt -wordlist=wordlist.txt\n",
    "john --show hashlist.txt\n",
    "```"
   ]
  },
  {
   "cell_type": "markdown",
   "metadata": {},
   "source": [
    "---"
   ]
  },
  {
   "cell_type": "markdown",
   "metadata": {},
   "source": [
    "### `join`"
   ]
  },
  {
   "cell_type": "markdown",
   "metadata": {},
   "source": [
    "[ [w](https://en.wikipedia.org/wiki/Join_(Unix)) ] **`join`**\n",
    "\n",
    "join combines the lines of two files that share a common field. In order for join to work properly the input files must be sorted.\n",
    "\n",
    "Options\n",
    "* `-j` join using the specified field number; fields start at 1\n",
    "* `-1 n -2 m` join the nth column of file 1 to the mth column of file 2 (defaults to `-1 1 -2 1`)\n",
    "* `-t` specify the character to use as the field separator; space is the default field separator\n",
    "* `--header` use the first line of each file as a header"
   ]
  },
  {
   "cell_type": "markdown",
   "metadata": {},
   "source": [
    "[example]\n",
    "\n",
    "```\n",
    "# usernames.txt\n",
    "1,jdoe\n",
    "2,puser\n",
    "3,jsmith\n",
    "```\n",
    "```\n",
    "# accesstime.txt\n",
    "0745,file1.txt,1\n",
    "0830,file4.txt,2\n",
    "0830,file5.txt,3\n",
    "```\n",
    "```bash\n",
    "join -1 3 -2 1 -t, accesstime.txt usernames.txt\n",
    "join -1 3 -t, accesstime.txt usernames.txt\n",
    "```\n",
    "```\n",
    "1,0745,file1.txt,jdoe\n",
    "2,0830,file4.txt,puser\n",
    "3,0830,file5.txt,jsmith\n",
    "```"
   ]
  },
  {
   "cell_type": "markdown",
   "metadata": {},
   "source": [
    "[example]\n",
    "\n",
    "```\n",
    "# ips.txt\n",
    "ip,OS\n",
    "10.0.4.2,Windows 8\n",
    "10.0.4.35,Ubuntu 16\n",
    "10.0.4.107,macOS\n",
    "10.0.4.145,macOS\n",
    "```\n",
    "```\n",
    "# users.txt\n",
    "user,ip\n",
    "jdoe,10.0.4.2\n",
    "jsmith,10.0.4.35\n",
    "msmith,10.0.4.107\n",
    "tjones,10.0.4.145\n",
    "```\n",
    "```bash\n",
    "# join the second column of the second file\n",
    "join -t, -1 1 -2 2 ips.txt users.txt\n",
    "join -t, -2 2 ips.txt users.txt\n",
    "```\n",
    "```\n",
    "ip,OS,user\n",
    "10.0.4.2,Windows 8,jdoe\n",
    "10.0.4.35,Ubuntu 16,jsmith\n",
    "10.0.4.107,macOS,msmith\n",
    "10.0.4.145,macOS,tjones\n",
    "```"
   ]
  },
  {
   "cell_type": "markdown",
   "metadata": {},
   "source": [
    "---"
   ]
  },
  {
   "cell_type": "markdown",
   "metadata": {},
   "source": [
    "### `jot`"
   ]
  },
  {
   "cell_type": "markdown",
   "metadata": {},
   "source": [
    "**`jot`** - print sequential or random data\n",
    "* `man jot` How do I use command `jot`?\n",
    "* `jot - 1 10` prints the integers from 1 to 10\n",
    "* `jot 21 -1 1.00` prints 21 evenly spaced numbers increasing from -1 to 1\n",
    "* `jot -c 128 0` generates the ASCII character set\n",
    "* `jot -w xa%c 26 a` generates the strings xaa through xaz\n",
    "* `jot -r -c 160 a z | rs -g 0 8` generates 20 random 8-letter strings\n",
    "* `jot -b yes 0` generates infinitely many yes's\n",
    "* `jot -w %ds/old/new/ 30 2 - 5` generates thirty ed(1) substitution commands applying to lines 2, 7, 12, etc.\n",
    "* `jot -w %d - 9.5 0 -.5` generates stuttering sequence 9, 9, 8, 8, 7, etc. by truncating the output precision and a suitable choice of step size\n",
    "* `jot -b x 512 > block` generates a file containing exactly 1024 bytes\n",
    "* `expand -``jot -s, - 10 132 4`` ` set tabs four spaces apart starting from column 10 and ending in column 132\n",
    "* `grep ``jot -s \"\" -b . 80`` ` print all lines 80 characters or longer"
   ]
  },
  {
   "cell_type": "markdown",
   "metadata": {},
   "source": [
    "---"
   ]
  },
  {
   "cell_type": "markdown",
   "metadata": {},
   "source": [
    "### `jq`"
   ]
  },
  {
   "cell_type": "markdown",
   "metadata": {},
   "source": [
    "[ [h](https://stedolan.github.io/jq/) ] **`jq`** - Command-line JSON processor (Dolan 2014)\n",
    "\n",
    "jq is a lightweight language and JSON parser."
   ]
  },
  {
   "cell_type": "markdown",
   "metadata": {},
   "source": [
    "[example]\n",
    "\n",
    "```json\n",
    "# book.json\n",
    "{\n",
    "  \"title\": \"Cybersecurity Ops with bash\",\n",
    "  \"edition\": 1,\n",
    "  \"authors\": [\n",
    "    {\n",
    "      \"firstName\": \"Paul\",\n",
    "      \"lastName\": \"Troncone\"\n",
    "    },\n",
    "    {\n",
    "      \"firstName\": \"Carl\",\n",
    "      \"lastName\": \"Albing\"\n",
    "    }\n",
    "  ]\n",
    "}\n",
    "```\n",
    "```bash\n",
    "jq '.title' book.json\n",
    "```\n",
    "```\n",
    "\"Cybersecurity Ops with bash\"\n",
    "```\n",
    "```bash\n",
    "jq '.authors[].firstName' book.json\n",
    "```\n",
    "```\n",
    "\"Paul\"\n",
    "\"Carl\"\n",
    "```\n",
    "```bash\n",
    "jq '.authors[0].firstName' book.json\n",
    "```\n",
    "```\n",
    "\"Paul\"\n",
    "```"
   ]
  },
  {
   "cell_type": "markdown",
   "metadata": {},
   "source": [
    "---"
   ]
  },
  {
   "cell_type": "markdown",
   "metadata": {},
   "source": [
    "### `kill`"
   ]
  },
  {
   "cell_type": "markdown",
   "metadata": {},
   "source": [
    "[ [w](https://en.wikipedia.org/wiki/Kill_(command)) ] **`kill`** - terminate or signal a process\n",
    "* `man kill` How do I use command `kill`?\n",
    "* `kill 142 157` Terminate the processes with PIDs 142 and 157.\n",
    "* `kill -s HUP 507` Send the hangup signal (SIGHUP) to the process with PID 507.\n",
    "* `kill -- -117` Terminate the process group with PGID 117."
   ]
  },
  {
   "cell_type": "markdown",
   "metadata": {},
   "source": [
    "---"
   ]
  },
  {
   "cell_type": "markdown",
   "metadata": {},
   "source": [
    "### `killall`"
   ]
  },
  {
   "cell_type": "markdown",
   "metadata": {},
   "source": [
    "[ [w](https://en.wikipedia.org/wiki/Killall) ] **`killall`** - kill processes by name\n",
    "* `man killall` How do I use command `killall`?\n",
    "* `killall firefox` Send SIGTERM to all firefox processes.\n",
    "* `killall -u ${USER} firefox` Send SIGTERM to firefox processes belonging to USER.\n",
    "* `killall -SIGSTOP firefox` Stop all firefox processes.\n",
    "* `killall -SIGCONT firefox` Resume firefox processes.\n",
    "* `killall -s firefox` Show what would be done to firefox processes, but do not actually signal them.\n",
    "* `killall -m 'vim*'` Send SIGTERM to all processes matching provided pattern (like vim and vimdiff)."
   ]
  },
  {
   "cell_type": "markdown",
   "metadata": {},
   "source": [
    "---"
   ]
  },
  {
   "cell_type": "markdown",
   "metadata": {},
   "source": [
    "### `less`"
   ]
  },
  {
   "cell_type": "markdown",
   "metadata": {},
   "source": [
    "[ [w](https://en.wikipedia.org/wiki/Less_(Unix)) ] **`less`** - opposite of more\n",
    "* `man less` How do I use command `less`?"
   ]
  },
  {
   "cell_type": "markdown",
   "metadata": {},
   "source": [
    "---"
   ]
  },
  {
   "cell_type": "markdown",
   "metadata": {},
   "source": [
    "### `lex`"
   ]
  },
  {
   "cell_type": "markdown",
   "metadata": {},
   "source": [
    "[ [w](https://en.wikipedia.org/wiki/Lex_(software)) ] **`lex`**"
   ]
  },
  {
   "cell_type": "markdown",
   "metadata": {},
   "source": [
    "---"
   ]
  },
  {
   "cell_type": "markdown",
   "metadata": {},
   "source": [
    "### `libpcap`"
   ]
  },
  {
   "cell_type": "markdown",
   "metadata": {},
   "source": [
    "[ [h](https://www.tcpdump.org/) ][ [g](https://github.com/the-tcpdump-group/libpcap) ][ [w](https://en.wikipedia.org/wiki/Pcap) ] `libpcap`\n",
    "\n",
    "resources\n",
    "* https://wiki.wireshark.org/libpcap\n",
    "* http://yuba.stanford.edu/~casado/pcap/section1.html"
   ]
  },
  {
   "cell_type": "markdown",
   "metadata": {},
   "source": [
    "---"
   ]
  },
  {
   "cell_type": "markdown",
   "metadata": {},
   "source": [
    "### `link`"
   ]
  },
  {
   "cell_type": "markdown",
   "metadata": {},
   "source": [
    "[ [w](https://en.wikipedia.org/wiki/Link_(Unix)) ] `link`\n",
    "\n",
    "```bash\n",
    "ln -s src lnk         # create symlink `lnk` to file `src`\n",
    "ln -s src_dir lnk_dir # create symlink `lnk_dir` to directory `src_dir`\n",
    "unlink lnk            # remove symlink `lnk`\n",
    "```"
   ]
  },
  {
   "cell_type": "markdown",
   "metadata": {},
   "source": [
    "---"
   ]
  },
  {
   "cell_type": "markdown",
   "metadata": {},
   "source": [
    "### `ln`"
   ]
  },
  {
   "cell_type": "markdown",
   "metadata": {},
   "source": [
    "[ [w](https://en.wikipedia.org/wiki/Ln_(Unix)) ] **`ln`**"
   ]
  },
  {
   "cell_type": "markdown",
   "metadata": {},
   "source": [
    "---"
   ]
  },
  {
   "cell_type": "markdown",
   "metadata": {},
   "source": [
    "### `lnav`"
   ]
  },
  {
   "cell_type": "markdown",
   "metadata": {},
   "source": [
    "[ [g](https://github.com/tstack/lnav) ] **`lnav`**"
   ]
  },
  {
   "cell_type": "markdown",
   "metadata": {},
   "source": [
    "---"
   ]
  },
  {
   "cell_type": "markdown",
   "metadata": {},
   "source": [
    "### `locale`"
   ]
  },
  {
   "cell_type": "markdown",
   "metadata": {},
   "source": [
    "**`locale`** – display locale settings"
   ]
  },
  {
   "cell_type": "markdown",
   "metadata": {},
   "source": [
    "---"
   ]
  },
  {
   "cell_type": "markdown",
   "metadata": {},
   "source": [
    "### `localedef`"
   ]
  },
  {
   "cell_type": "markdown",
   "metadata": {},
   "source": [
    "**`localedef`** – define locale environment"
   ]
  },
  {
   "cell_type": "markdown",
   "metadata": {},
   "source": [
    "---"
   ]
  },
  {
   "cell_type": "markdown",
   "metadata": {},
   "source": [
    "### `login`"
   ]
  },
  {
   "cell_type": "markdown",
   "metadata": {},
   "source": [
    "**`login`** – log into the computer"
   ]
  },
  {
   "cell_type": "markdown",
   "metadata": {},
   "source": [
    "---"
   ]
  },
  {
   "cell_type": "markdown",
   "metadata": {},
   "source": [
    "### `logout`"
   ]
  },
  {
   "cell_type": "markdown",
   "metadata": {},
   "source": [
    "**`logout`**"
   ]
  },
  {
   "cell_type": "markdown",
   "metadata": {},
   "source": [
    "---"
   ]
  },
  {
   "cell_type": "markdown",
   "metadata": {},
   "source": [
    "### `logname`"
   ]
  },
  {
   "cell_type": "markdown",
   "metadata": {},
   "source": [
    "[ [w](https://en.wikipedia.org/wiki/Logname) ] **`logname`**"
   ]
  },
  {
   "cell_type": "markdown",
   "metadata": {},
   "source": [
    "---"
   ]
  },
  {
   "cell_type": "markdown",
   "metadata": {},
   "source": [
    "### `lolcat`"
   ]
  },
  {
   "cell_type": "markdown",
   "metadata": {},
   "source": [
    "[ [g](https://github.com/busyloop/lolcat) ] **`lolcat`**"
   ]
  },
  {
   "cell_type": "markdown",
   "metadata": {},
   "source": [
    "---"
   ]
  },
  {
   "cell_type": "markdown",
   "metadata": {},
   "source": [
    "### `lp`"
   ]
  },
  {
   "cell_type": "markdown",
   "metadata": {},
   "source": [
    "[ [w](https://en.wikipedia.org/wiki/System_V_printing_system) ] **`lp`**"
   ]
  },
  {
   "cell_type": "markdown",
   "metadata": {},
   "source": [
    "---"
   ]
  },
  {
   "cell_type": "markdown",
   "metadata": {},
   "source": [
    "### `ls`"
   ]
  },
  {
   "cell_type": "markdown",
   "metadata": {},
   "source": [
    "[ [w](https://en.wikipedia.org/wiki/Ls) ] **`ls`** \"list the contents of the directory\" (Stallman & MacKenzie 2012)\n",
    "\n",
    "This command answers the question, \"What else is here in the working directory with me?\".\n",
    "\n",
    "options\n",
    "* `-a` view hidden files including `.` and `..`\n",
    "* `-A` view hidden files excluding `.` and `..`\n",
    "* `-F`\n",
    "* `-i`\n",
    "* `-l`\n",
    "* `-R` recurse through subdirectories\n",
    "* `-s` identify the size of a file in blocks, not bytes\n",
    "\n",
    "```bash\n",
    "ls -AilsF\n",
    "ls the/relative/path/to/some/directory/x # list the contents of directory x\n",
    "ls / -R -s | sort -n -r | head -5        # identify the five largest files on the system\n",
    "ls / -R -s | sort -n -r | tail -5        # identify the five largest files on the system\n",
    "```"
   ]
  },
  {
   "cell_type": "markdown",
   "metadata": {},
   "source": [
    "[\"bare-bones implementation\"] _Advanced Programming in the UNIX Environment_, 3e\n",
    "\n",
    "```c\n",
    "#include \"apue.h\"\n",
    "#include <dirent.h>\n",
    "\n",
    "/* myls.c\n",
    " *\n",
    " * print the name of every file in a directory\n",
    " */\n",
    "\n",
    "int main (int argc, char *argv[]) {\n",
    "  DIR           *dp;\n",
    "  struct dirent *dirp;\n",
    "\n",
    "  if (argc != 2)\n",
    "    err_quit(\"usage: ls directory_name\");\n",
    "\n",
    "  if ((dp = opendir(argv[1])) == NULL)\n",
    "    err_sys(\"can't open %s\", argv[1]);\n",
    "\n",
    "  while ((dirp = readdir(dp)) != NULL)\n",
    "    printf(\"%s\\n\", dirp->d_name);\n",
    "\n",
    "  closedir(dp);\n",
    "  exit(0);\n",
    "}\n",
    "```\n",
    "```bash\n",
    "cc myls.c  # the historical C compiler, usually linked to `gcc`\n",
    "# or\n",
    "gcc myls.c # the GNU C compilation system\n",
    "```\n",
    "```bash\n",
    "./a.out /dev\n",
    "```"
   ]
  },
  {
   "cell_type": "markdown",
   "metadata": {},
   "source": [
    "---"
   ]
  },
  {
   "cell_type": "markdown",
   "metadata": {},
   "source": [
    "### `lsd`"
   ]
  },
  {
   "cell_type": "markdown",
   "metadata": {},
   "source": [
    "[ [g](https://github.com/Peltoche/lsd) ] **`lsd`** - an ls command with a lot of pretty colors and some other stuff\n",
    "\n",
    "* `lsd --help` How do I use command `lsd`?"
   ]
  },
  {
   "cell_type": "markdown",
   "metadata": {},
   "source": [
    "---"
   ]
  },
  {
   "cell_type": "markdown",
   "metadata": {},
   "source": [
    "### `lsof`"
   ]
  },
  {
   "cell_type": "markdown",
   "metadata": {},
   "source": [
    "[ [w](https://en.wikipedia.org/wiki/Lsof) ] `lsof` \"list open files\"\n",
    "\n",
    "resources\n",
    "* [ [y](https://www.youtube.com/watch?v=CyC4_YPfxRc) ] `01-03-2024`. Kevan. \"lsof: A Quick Practical Guide\"."
   ]
  },
  {
   "cell_type": "markdown",
   "metadata": {},
   "source": [
    "---"
   ]
  },
  {
   "cell_type": "markdown",
   "metadata": {},
   "source": [
    "### `lsvfs`"
   ]
  },
  {
   "cell_type": "markdown",
   "metadata": {},
   "source": [
    "**`lsvfs`** - list installed virtual file systems"
   ]
  },
  {
   "cell_type": "markdown",
   "metadata": {},
   "source": [
    "---"
   ]
  },
  {
   "cell_type": "markdown",
   "metadata": {},
   "source": [
    "### `lynis`"
   ]
  },
  {
   "cell_type": "markdown",
   "metadata": {},
   "source": [
    "[ [h](https://cisofy.com/lynis/) ][ [w](https://en.wikipedia.org/wiki/Lynis) ] **`lynis`** - system and security auditing tool\n",
    "\n",
    "* `man lynis` How do I use command `lynis`?\n",
    "* `brew install lynis`\n",
    "* `sudo apt install lynis`\n",
    "* `sudo lynis show help`\n",
    "* `sudo lynis show groups`"
   ]
  },
  {
   "cell_type": "markdown",
   "metadata": {},
   "source": [
    "---"
   ]
  },
  {
   "cell_type": "markdown",
   "metadata": {},
   "source": [
    "### `m4`"
   ]
  },
  {
   "cell_type": "markdown",
   "metadata": {},
   "source": [
    "[ [w](https://en.wikipedia.org/wiki/M4_(computer_language)) ] **`m4`**"
   ]
  },
  {
   "cell_type": "markdown",
   "metadata": {},
   "source": [
    "---"
   ]
  },
  {
   "cell_type": "markdown",
   "metadata": {},
   "source": [
    "### `mail`"
   ]
  },
  {
   "cell_type": "markdown",
   "metadata": {},
   "source": [
    "[ [w](https://en.wikipedia.org/wiki/Mail_(Unix)) ] **`mail`**"
   ]
  },
  {
   "cell_type": "markdown",
   "metadata": {},
   "source": [
    "---"
   ]
  },
  {
   "cell_type": "markdown",
   "metadata": {},
   "source": [
    "### `mailx`"
   ]
  },
  {
   "cell_type": "markdown",
   "metadata": {},
   "source": [
    "[ [w](https://en.wikipedia.org/wiki/Mailx) ] **`mailx`**"
   ]
  },
  {
   "cell_type": "markdown",
   "metadata": {},
   "source": [
    "---"
   ]
  },
  {
   "cell_type": "markdown",
   "metadata": {},
   "source": [
    "### `make`"
   ]
  },
  {
   "cell_type": "markdown",
   "metadata": {},
   "source": [
    "[ [w](https://en.wikipedia.org/wiki/Make_(software)) ] **`make`**"
   ]
  },
  {
   "cell_type": "markdown",
   "metadata": {},
   "source": [
    "---"
   ]
  },
  {
   "cell_type": "markdown",
   "metadata": {},
   "source": [
    "### `man`"
   ]
  },
  {
   "cell_type": "markdown",
   "metadata": {},
   "source": [
    "[ [w](https://en.wikipedia.org/wiki/Man_page) ] **`man`** - display online manual documentation pages (Eaton & Watson 2014)\n",
    "* `man ascii` display ASCII table"
   ]
  },
  {
   "cell_type": "markdown",
   "metadata": {},
   "source": [
    "```bash\n",
    "man ls\n",
    "man 1 ls\n",
    "man -s1 ls\n",
    "```"
   ]
  },
  {
   "cell_type": "markdown",
   "metadata": {},
   "source": [
    "---"
   ]
  },
  {
   "cell_type": "markdown",
   "metadata": {},
   "source": [
    "### `mc`"
   ]
  },
  {
   "cell_type": "markdown",
   "metadata": {},
   "source": [
    "[ [h](https://midnight-commander.org) ][ [w](https://en.wikipedia.org/wiki/Midnight_Commander) ] **`mc`** \"midnight commander\" - visual shell for Unix-like systems"
   ]
  },
  {
   "cell_type": "markdown",
   "metadata": {},
   "source": [
    "---"
   ]
  },
  {
   "cell_type": "markdown",
   "metadata": {},
   "source": [
    "### `md5sum`"
   ]
  },
  {
   "cell_type": "markdown",
   "metadata": {},
   "source": [
    "[ [w](https://en.wikipedia.org/wiki/Md5sum) ] **`md5sum`** - compute and check MD5 message digest"
   ]
  },
  {
   "cell_type": "markdown",
   "metadata": {},
   "source": [
    "---"
   ]
  },
  {
   "cell_type": "markdown",
   "metadata": {},
   "source": [
    "### `mesg`"
   ]
  },
  {
   "cell_type": "markdown",
   "metadata": {},
   "source": [
    "[ [w](https://en.wikipedia.org/wiki/Mesg) ] **`mesg`**"
   ]
  },
  {
   "cell_type": "markdown",
   "metadata": {},
   "source": [
    "---"
   ]
  },
  {
   "cell_type": "markdown",
   "metadata": {},
   "source": [
    "### `mkdir`"
   ]
  },
  {
   "cell_type": "markdown",
   "metadata": {},
   "source": [
    "[ [w](https://en.wikipedia.org/wiki/Mkdir) ] **`mkdir`** \"make directory\" (MacKenzie 2012)\n",
    "* `man mkdir` How do I use command `mkdir`?\n",
    "* `mkdir -m 700 foobar` Create a directory named foobar and set its file mode to 700.\n",
    "* `mkdir -p cow/horse/monkey` Create a directory named cow/horse/monkey, creating any non-existent intermediate directories as necessary.\n",
    "* `mkdir -pv {a,b}/{c,d}/{e,f}/{g,h}`"
   ]
  },
  {
   "cell_type": "markdown",
   "metadata": {},
   "source": [
    "---"
   ]
  },
  {
   "cell_type": "markdown",
   "metadata": {},
   "source": [
    "### `mkfifo`"
   ]
  },
  {
   "cell_type": "markdown",
   "metadata": {},
   "source": [
    "[ [w](https://en.wikipedia.org/wiki/Named_pipe#In_Unix) ] **`mkfifo`**"
   ]
  },
  {
   "cell_type": "markdown",
   "metadata": {},
   "source": [
    "---"
   ]
  },
  {
   "cell_type": "markdown",
   "metadata": {},
   "source": [
    "### `molotov`"
   ]
  },
  {
   "cell_type": "markdown",
   "metadata": {},
   "source": [
    "[ [h](https://molotov.readthedocs.io/en/stable/) ] molotov"
   ]
  },
  {
   "cell_type": "markdown",
   "metadata": {},
   "source": [
    "---"
   ]
  },
  {
   "cell_type": "markdown",
   "metadata": {},
   "source": [
    "### `more`"
   ]
  },
  {
   "cell_type": "markdown",
   "metadata": {},
   "source": [
    "[ [w](https://en.wikipedia.org/wiki/More_(command)) ] **`more`**\n",
    "* `man more` How do I use command `more`?"
   ]
  },
  {
   "cell_type": "markdown",
   "metadata": {},
   "source": [
    "---"
   ]
  },
  {
   "cell_type": "markdown",
   "metadata": {},
   "source": [
    "### `mtr`"
   ]
  },
  {
   "cell_type": "markdown",
   "metadata": {},
   "source": [
    "[ [h](https://www.bitwizard.nl/mtr/) ][ [g](https://github.com/traviscross/mtr) ][ [w](https://en.wikipedia.org/wiki/MTR_(software)) ] `mtr`"
   ]
  },
  {
   "cell_type": "markdown",
   "metadata": {},
   "source": [
    "---"
   ]
  },
  {
   "cell_type": "markdown",
   "metadata": {},
   "source": [
    "### `mv`"
   ]
  },
  {
   "cell_type": "markdown",
   "metadata": {},
   "source": [
    "[ [w](https://en.wikipedia.org/wiki/Mv_(Unix)) ] **`mv`** \"move\" - move files (Parker, MacKenzie, & Meyering 2012)\n",
    "* `man mv` How do I use command `mv`?\n",
    "* `mv -i foo bar` check whether another file will be overwritten before renaming a file\n",
    "* `mv -f foo bar` force rename a file, potentially overwriting another file\n",
    "* `mv -v foo var` verbose"
   ]
  },
  {
   "cell_type": "markdown",
   "metadata": {},
   "source": [
    "---"
   ]
  },
  {
   "cell_type": "markdown",
   "metadata": {},
   "source": [
    "### `nano`"
   ]
  },
  {
   "cell_type": "markdown",
   "metadata": {},
   "source": [
    "[ [w](https://en.wikipedia.org/wiki/GNU_nano) ] **`nano`**, **`pico`** - simple text editor in the style of the Alpine Composer"
   ]
  },
  {
   "cell_type": "markdown",
   "metadata": {},
   "source": [
    "---"
   ]
  },
  {
   "cell_type": "markdown",
   "metadata": {},
   "source": [
    "### `nc`"
   ]
  },
  {
   "cell_type": "markdown",
   "metadata": {},
   "source": [
    "options\n",
    "* `-l` listen for incoming connections (act as a server)\n",
    "* `-n` do not perform a DNS lookup\n",
    "* `-p` the source port to connect from or listen on\n",
    "* `-v` verbose\n",
    "\n",
    "[example]\n",
    "\n",
    "```bash\n",
    "nc www.oreilly.com 80 # initialize a connection to oreilly.com on destination port 80\n",
    "nc -l -v -n -p 8080   # listen for incoming connections on port 8080\n",
    "```"
   ]
  },
  {
   "cell_type": "markdown",
   "metadata": {},
   "source": [
    "---"
   ]
  },
  {
   "cell_type": "markdown",
   "metadata": {},
   "source": [
    "### `ncdu`"
   ]
  },
  {
   "cell_type": "markdown",
   "metadata": {},
   "source": [
    "[ [h](https://dev.yorhel.nl/ncdu) ][ [w](https://en.wikipedia.org/wiki/Ncdu) ] **`ncdu`** - NCurses Disk Usage\n",
    "\n",
    "* `brew install ncdu`\n",
    "* `ncdu` scan and browse the directory you're currently in\n",
    "* `ncdu -x /` scan a full filesystem, your root filesystem, for example\n",
    "* ```ncdu -1xo- / | gzip >export.gz\n",
    "     # ...some time later:\n",
    "     zcat export.gz | ncdu -f-``` Since scanning a large directory may take a while, you can scan a directory and export the results for later viewing. To export from a cron job, make sure to replace \"-1\" with \"-0\" to suppress any unnecessary output.\n",
    "* `ncdu -o- | tee export.file | ./ncdu -f-` export a directory and browse it once scanning is done\n",
    "* `ncdu -o- | gzip | tee export.gz | gunzip | ./ncdu -f-` the same is possible with gzip compression, but is a bit kludgey\n",
    "* `ssh -C user@system ncdu -o- / | ./ncdu -f-` To scan a system remotely, but browse through the files locally. The \"-C\" option to ssh enables compression, which will be very useful over slow links. Remote scanning and local viewing has two major advantages when compared to running ncdu directly on the remote system: You can browse through the scanned directory on the local system without any network latency, and ncdu does not keep the entire directory structure in memory when exporting, so you won't consume much memory on the remote system."
   ]
  },
  {
   "cell_type": "markdown",
   "metadata": {},
   "source": [
    "---"
   ]
  },
  {
   "cell_type": "markdown",
   "metadata": {},
   "source": [
    "### `neofetch`"
   ]
  },
  {
   "cell_type": "markdown",
   "metadata": {},
   "source": [
    "[ [g](https://github.com/dylanaraps/neofetch) ] **`neofetch`** - a fast, highly customizable system info script"
   ]
  },
  {
   "cell_type": "markdown",
   "metadata": {},
   "source": [
    "---"
   ]
  },
  {
   "cell_type": "markdown",
   "metadata": {},
   "source": [
    "### `netstat`"
   ]
  },
  {
   "cell_type": "markdown",
   "metadata": {},
   "source": [
    "[ [w](https://en.wikipedia.org/wiki/Netstat) ] **`netstat`** - show network status\n",
    "* `man netstat` How do I use command `netstat`?"
   ]
  },
  {
   "cell_type": "markdown",
   "metadata": {},
   "source": [
    "---"
   ]
  },
  {
   "cell_type": "markdown",
   "metadata": {},
   "source": [
    "### `newgrp`"
   ]
  },
  {
   "cell_type": "markdown",
   "metadata": {},
   "source": [
    "**`newgrp`** – change to a new group"
   ]
  },
  {
   "cell_type": "markdown",
   "metadata": {},
   "source": [
    "---"
   ]
  },
  {
   "cell_type": "markdown",
   "metadata": {},
   "source": [
    "### `nfsstat`"
   ]
  },
  {
   "cell_type": "markdown",
   "metadata": {},
   "source": [
    "**`nfsstat`** - display NFS statistics"
   ]
  },
  {
   "cell_type": "markdown",
   "metadata": {},
   "source": [
    "---"
   ]
  },
  {
   "cell_type": "markdown",
   "metadata": {},
   "source": [
    "### `nice`"
   ]
  },
  {
   "cell_type": "markdown",
   "metadata": {},
   "source": [
    "[ [w](https://en.wikipedia.org/wiki/Nice_(Unix)) ] **`nice`** – execute a utility at an altered scheduling priority"
   ]
  },
  {
   "cell_type": "markdown",
   "metadata": {},
   "source": [
    "---"
   ]
  },
  {
   "cell_type": "markdown",
   "metadata": {},
   "source": [
    "### `nl`"
   ]
  },
  {
   "cell_type": "markdown",
   "metadata": {},
   "source": [
    "[ [w](https://en.wikipedia.org/wiki/Nl_(Unix)) ] **`nl`** - line numbering filter"
   ]
  },
  {
   "cell_type": "markdown",
   "metadata": {},
   "source": [
    "---"
   ]
  },
  {
   "cell_type": "markdown",
   "metadata": {},
   "source": [
    "### `nm`"
   ]
  },
  {
   "cell_type": "markdown",
   "metadata": {},
   "source": [
    "[ [w](https://en.wikipedia.org/wiki/Nm_(Unix)) ] **`nm`** - display name list (symbol table)"
   ]
  },
  {
   "cell_type": "markdown",
   "metadata": {},
   "source": [
    "---"
   ]
  },
  {
   "cell_type": "markdown",
   "metadata": {},
   "source": [
    "### `nmap`"
   ]
  },
  {
   "cell_type": "markdown",
   "metadata": {},
   "source": [
    "**`nmap`** - network exploration tool and security / port scanner"
   ]
  },
  {
   "cell_type": "markdown",
   "metadata": {},
   "source": [
    "---"
   ]
  },
  {
   "cell_type": "markdown",
   "metadata": {},
   "source": [
    "### `nohup`"
   ]
  },
  {
   "cell_type": "markdown",
   "metadata": {},
   "source": [
    "[ [w](https://en.wikipedia.org/wiki/Nohup) ] **`nohup`** – invoke a utility immune to hangups"
   ]
  },
  {
   "cell_type": "markdown",
   "metadata": {},
   "source": [
    "---"
   ]
  },
  {
   "cell_type": "markdown",
   "metadata": {},
   "source": [
    "### `nslookup`"
   ]
  },
  {
   "cell_type": "markdown",
   "metadata": {},
   "source": [
    "[ [w](https://en.wikipedia.org/wiki/Nslookup) ] **`nslookup`**"
   ]
  },
  {
   "cell_type": "markdown",
   "metadata": {},
   "source": [
    "---"
   ]
  },
  {
   "cell_type": "markdown",
   "metadata": {},
   "source": [
    "### `od`"
   ]
  },
  {
   "cell_type": "markdown",
   "metadata": {},
   "source": [
    "[ [w](https://en.wikipedia.org/wiki/Od_(Unix)) ] **`od`** - octal, decimal, hex, ASCII dump"
   ]
  },
  {
   "cell_type": "markdown",
   "metadata": {},
   "source": [
    "---"
   ]
  },
  {
   "cell_type": "markdown",
   "metadata": {},
   "source": [
    "### `openssl`"
   ]
  },
  {
   "cell_type": "markdown",
   "metadata": {},
   "source": [
    "arguments\n",
    "* `aes-256-cbc` specifies the 256-bit version of AES\n",
    "\n",
    "options\n",
    "* `-base64` specifies that the output be Base64-encoded\n",
    "* `-in` specifies the file to encrypt\n",
    "* `-out` specifies the file to which to output the ciphertext\n",
    "* `-pass` specifies the encryption key"
   ]
  },
  {
   "cell_type": "markdown",
   "metadata": {},
   "source": [
    "---"
   ]
  },
  {
   "cell_type": "markdown",
   "metadata": {},
   "source": [
    "### `osquery`"
   ]
  },
  {
   "cell_type": "markdown",
   "metadata": {},
   "source": [
    "[ [h](https://osquery.io) ][ [g](https://github.com/osquery/osquery) ] **`osquery`**"
   ]
  },
  {
   "cell_type": "markdown",
   "metadata": {},
   "source": [
    "---"
   ]
  },
  {
   "cell_type": "markdown",
   "metadata": {},
   "source": [
    "### `paste`"
   ]
  },
  {
   "cell_type": "markdown",
   "metadata": {},
   "source": [
    "[ [w](https://en.wikipedia.org/wiki/Paste_(Unix)) ] **`paste`** - merge corresponding or subsequent lines of files (Ihnat & MacKenzie 2012)\n",
    "* `ls | paste - - -` List the files in the current directory in three columns.\n",
    "* `paste -s -d '\\t\\n' myfile` Combine pairs of lines from a file into single lines.\n",
    "* `sed = myfile | paste - -` Number the lines in a file, similar to nl(1).\n",
    "* `find / -name bin -type d | paste -s -d : -` Create a colon-separated list of directories named bin, suitable for use in the PATH environment variable."
   ]
  },
  {
   "cell_type": "markdown",
   "metadata": {},
   "source": [
    "---"
   ]
  },
  {
   "cell_type": "markdown",
   "metadata": {},
   "source": [
    "### `patch`"
   ]
  },
  {
   "cell_type": "markdown",
   "metadata": {},
   "source": [
    "[ [w](https://en.wikipedia.org/wiki/Patch_(Unix)) ] **`patch`** - apply a diff file to an original"
   ]
  },
  {
   "cell_type": "markdown",
   "metadata": {},
   "source": [
    "---"
   ]
  },
  {
   "cell_type": "markdown",
   "metadata": {},
   "source": [
    "### `pathchk`"
   ]
  },
  {
   "cell_type": "markdown",
   "metadata": {},
   "source": [
    "**`pathchk`** – check pathnames"
   ]
  },
  {
   "cell_type": "markdown",
   "metadata": {},
   "source": [
    "---"
   ]
  },
  {
   "cell_type": "markdown",
   "metadata": {},
   "source": [
    "### `pax`"
   ]
  },
  {
   "cell_type": "markdown",
   "metadata": {},
   "source": [
    "[ [w](https://en.wikipedia.org/wiki/Pax_(command)) ] **`pax`** – read and write file archives and copy directory hierarchies"
   ]
  },
  {
   "cell_type": "markdown",
   "metadata": {},
   "source": [
    "---"
   ]
  },
  {
   "cell_type": "markdown",
   "metadata": {},
   "source": [
    "### `pfetch`"
   ]
  },
  {
   "cell_type": "markdown",
   "metadata": {},
   "source": [
    "[ [g](https://github.com/dylanaraps/pfetch/) ] **`pfetch`**"
   ]
  },
  {
   "cell_type": "markdown",
   "metadata": {},
   "source": [
    "---"
   ]
  },
  {
   "cell_type": "markdown",
   "metadata": {},
   "source": [
    "### `ping`"
   ]
  },
  {
   "cell_type": "markdown",
   "metadata": {},
   "source": [
    "[ [w](https://en.wikipedia.org/wiki/Ping_(networking_utility)) ] **`ping`** - send ICMP ECHO_REQUEST packets to network hosts\n",
    "\n",
    "options\n",
    "* `-c` the number of ping requests to send to the remote system (Linux)\n",
    "* `-n` the number of ping requests to send to the remote system (Windows)\n",
    "* `-w` time in milliseconds to wait for a reply (Windows)\n",
    "* `-W` time in seconds to wait for a reply (Linux)\n",
    "\n",
    "resources\n",
    "* [ [y](https://www.youtube.com/watch?v=DOVsoWJAxuM) ] Learn Linux TV. `05-31-2022`. \"Linux Crash Course - The ping Command\"."
   ]
  },
  {
   "cell_type": "markdown",
   "metadata": {},
   "source": [
    "[examples]\n",
    "\n",
    "```bash\n",
    "ping -n1 192.168.0.11\n",
    "```"
   ]
  },
  {
   "cell_type": "markdown",
   "metadata": {},
   "source": [
    "---"
   ]
  },
  {
   "cell_type": "markdown",
   "metadata": {},
   "source": [
    "### `pr`"
   ]
  },
  {
   "cell_type": "markdown",
   "metadata": {},
   "source": [
    "[ [w](https://en.wikipedia.org/wiki/Pr_(Unix)) ] **`pr`** – print files"
   ]
  },
  {
   "cell_type": "markdown",
   "metadata": {},
   "source": [
    "---"
   ]
  },
  {
   "cell_type": "markdown",
   "metadata": {},
   "source": [
    "### `print`"
   ]
  },
  {
   "cell_type": "markdown",
   "metadata": {},
   "source": [
    "[ [w](https://en.wikipedia.org/wiki/PRINT_(command)) ] **`print`**\n",
    "* `print -l` print each word on a new line"
   ]
  },
  {
   "cell_type": "markdown",
   "metadata": {},
   "source": [
    "---"
   ]
  },
  {
   "cell_type": "markdown",
   "metadata": {},
   "source": [
    "### `printf`"
   ]
  },
  {
   "cell_type": "markdown",
   "metadata": {},
   "source": [
    "[ [w](https://en.wikipedia.org/wiki/Printf_(Unix)) ] **`printf`** - formatted output\n",
    "\n",
    "options\n",
    "* `-v VAR` save to a variable `VAR` instead of printing\n",
    "\n",
    "examples\n",
    "* `printf \"%s\\n\" hello` Print the string \"hello\".\n",
    "* `printf %s\\n hello` Same as above, but notice that the format string is not quoted and hence we do not get the expected behavior.\n",
    "* `printf \"%+d\\n%d\\n%d\\n\" 1 -2 13` Print arguments forcing sign only for the first argument.\n",
    "* `printf \"%+d\\n\" 1 -2 13` Same as above, but the single format string will be applied to the three arguments.\n",
    "* `printf \"%.2f\\n\" 31.7456` Print number using only two digits after the decimal point."
   ]
  },
  {
   "cell_type": "markdown",
   "metadata": {},
   "source": [
    "---"
   ]
  },
  {
   "cell_type": "markdown",
   "metadata": {},
   "source": [
    "### `ps`"
   ]
  },
  {
   "cell_type": "markdown",
   "metadata": {},
   "source": [
    "[ [w](https://en.wikipedia.org/wiki/Ps_(Unix)) ] **`ps`** - process status\n",
    "\n",
    "```bash\n",
    "ps auwx\n",
    "```"
   ]
  },
  {
   "cell_type": "markdown",
   "metadata": {},
   "source": [
    "---"
   ]
  },
  {
   "cell_type": "markdown",
   "metadata": {},
   "source": [
    "### `pup`"
   ]
  },
  {
   "cell_type": "markdown",
   "metadata": {},
   "source": [
    "[ [w]([g](https://github.com/EricChiang/pup)) ] **`pup`** - a command line tool for processing HTML\n",
    "* `brew install pup`"
   ]
  },
  {
   "cell_type": "markdown",
   "metadata": {},
   "source": [
    "---"
   ]
  },
  {
   "cell_type": "markdown",
   "metadata": {},
   "source": [
    "### `pv`"
   ]
  },
  {
   "cell_type": "markdown",
   "metadata": {},
   "source": [
    "```bash\n",
    "pv file | grep pattern\n",
    "```"
   ]
  },
  {
   "cell_type": "markdown",
   "metadata": {},
   "source": [
    "[ [h](https://www.ivarch.com/programs/pv.shtml) ] `pv`\n",
    "\n",
    "[ [y](https://www.youtube.com/watch?v=Ld-VTj_ugws) ] `04-09-2021` \"Shell script Tutorials | How to show a progress bar in Linux shell scripts.\"."
   ]
  },
  {
   "cell_type": "markdown",
   "metadata": {},
   "source": [
    "---"
   ]
  },
  {
   "cell_type": "markdown",
   "metadata": {},
   "source": [
    "### `pwd`"
   ]
  },
  {
   "cell_type": "markdown",
   "metadata": {},
   "source": [
    "[ [w](https://en.wikipedia.org/wiki/Pwd) ] **`pwd`** \"print the working directory\" - return working directory name (Meyering 2012b)\n",
    "* `man pwd` How do I use command `pwd`?\n",
    "* `pwd` \"Where am I in the filesystem now?\"\n",
    "* `pwd -L` Display the logical current working directory. Same as `pwd`\n",
    "* `pwd -P` Display the physical current working directory (all symbolic links resolved)."
   ]
  },
  {
   "cell_type": "markdown",
   "metadata": {},
   "source": [
    "---"
   ]
  },
  {
   "cell_type": "markdown",
   "metadata": {},
   "source": [
    "### `rclone`"
   ]
  },
  {
   "cell_type": "markdown",
   "metadata": {},
   "source": [
    "[ [h](https://rclone.org) ][ [g](https://github.com/rclone/rclone) ] **`rclone`** - rclone syncs your files to cloud storage"
   ]
  },
  {
   "cell_type": "markdown",
   "metadata": {},
   "source": [
    "---"
   ]
  },
  {
   "cell_type": "markdown",
   "metadata": {},
   "source": [
    "### `read`"
   ]
  },
  {
   "cell_type": "markdown",
   "metadata": {},
   "source": [
    "[ [w](https://en.wikipedia.org/wiki/Read_(Unix)) ] **`read`**\n",
    "\n",
    "reads user input from stdin and stores it in a variable"
   ]
  },
  {
   "cell_type": "markdown",
   "metadata": {},
   "source": [
    "---"
   ]
  },
  {
   "cell_type": "markdown",
   "metadata": {},
   "source": [
    "### `realpath`"
   ]
  },
  {
   "cell_type": "markdown",
   "metadata": {},
   "source": [
    "**`realpath`** - print the resolved path"
   ]
  },
  {
   "cell_type": "markdown",
   "metadata": {},
   "source": [
    "---"
   ]
  },
  {
   "cell_type": "markdown",
   "metadata": {},
   "source": [
    "### `renice`"
   ]
  },
  {
   "cell_type": "markdown",
   "metadata": {},
   "source": [
    "[ [w](https://en.wikipedia.org/wiki/Nice_(Unix)) ] **`renice`** – alter priority of running processes"
   ]
  },
  {
   "cell_type": "markdown",
   "metadata": {},
   "source": [
    "---"
   ]
  },
  {
   "cell_type": "markdown",
   "metadata": {},
   "source": [
    "### `reset`"
   ]
  },
  {
   "cell_type": "markdown",
   "metadata": {},
   "source": [
    "[ [w](https://en.wikipedia.org/wiki/Tput) ] **`reset`**, `tput` - initialize a terminal or query terminfo database"
   ]
  },
  {
   "cell_type": "markdown",
   "metadata": {},
   "source": [
    "---"
   ]
  },
  {
   "cell_type": "markdown",
   "metadata": {},
   "source": [
    "### `rev`"
   ]
  },
  {
   "cell_type": "markdown",
   "metadata": {},
   "source": [
    "---"
   ]
  },
  {
   "cell_type": "markdown",
   "metadata": {},
   "source": [
    "### `rg`"
   ]
  },
  {
   "cell_type": "markdown",
   "metadata": {},
   "source": [
    "[ [g](https://github.com/BurntSushi/ripgrep) ] **`rg`** - recursively search the current directory for lines matching a pattern\n",
    "* `brew install ripgrep`"
   ]
  },
  {
   "cell_type": "markdown",
   "metadata": {},
   "source": [
    "---"
   ]
  },
  {
   "cell_type": "markdown",
   "metadata": {},
   "source": [
    "### `rm`"
   ]
  },
  {
   "cell_type": "markdown",
   "metadata": {},
   "source": [
    "[ [w](https://en.wikipedia.org/wiki/Rm_(Unix)) ] **`rm`** \"remove\" – remove directory entries (Rubin et al 2012)\n",
    "\n",
    "* `man rm` How do I use command `rm`?\n",
    "* `rm -- -filename` The rm command uses getopt(3) to parse its arguments, which allows it to accept the ‘--’ option which will cause it to stop processing flag options at that point.  This will allow the removal of file names that begin with a dash (‘-’).\n",
    "* `rm /home/user/-filename` or `rm ./-filename` The same behavior can be obtained by using an absolute or relative path reference.\n",
    "* `rm -rf` use with caution"
   ]
  },
  {
   "cell_type": "markdown",
   "metadata": {},
   "source": [
    "---"
   ]
  },
  {
   "cell_type": "markdown",
   "metadata": {},
   "source": [
    "### `rmdir`"
   ]
  },
  {
   "cell_type": "markdown",
   "metadata": {},
   "source": [
    "[ [w](https://en.wikipedia.org/wiki/Rmdir) ] **`rmdir`** \"remove directory\"\n",
    "\n",
    "* `man rmdir` How do I use command `rmdir`?\n",
    "* `rmdir -p` Each directory argument is treated as a pathname of which all components will be removed, if they are empty, starting with the last most component. (See rm(1) for fully non-discriminant recursive removal.)\n",
    "* `rmdir -v` verbose\n",
    "* `rmdir foobar` Remove the directory foobar, if it is empty.\n",
    "* `rmdir -p cow/horse/monkey` Remove all directories up to and including cow, stopping at the first non-empty directory (if any)."
   ]
  },
  {
   "cell_type": "markdown",
   "metadata": {},
   "source": [
    "---"
   ]
  },
  {
   "cell_type": "markdown",
   "metadata": {},
   "source": [
    "### `rmlint`"
   ]
  },
  {
   "cell_type": "markdown",
   "metadata": {},
   "source": [
    "[ [d](https://rmlint.readthedocs.io) ][ [g](https://github.com/sahib/rmlint) ] **`rmlint`** - find duplicate files and other space waste efficiently"
   ]
  },
  {
   "cell_type": "markdown",
   "metadata": {},
   "source": [
    "---"
   ]
  },
  {
   "cell_type": "markdown",
   "metadata": {},
   "source": [
    "### `rs`"
   ]
  },
  {
   "cell_type": "markdown",
   "metadata": {},
   "source": [
    "**`rs`** - reshape a data array\n",
    "* `man rs` How do I use command `rs`?"
   ]
  },
  {
   "cell_type": "markdown",
   "metadata": {},
   "source": [
    "---"
   ]
  },
  {
   "cell_type": "markdown",
   "metadata": {},
   "source": [
    "### `rsync`"
   ]
  },
  {
   "cell_type": "markdown",
   "metadata": {},
   "source": [
    "```bash\n",
    "rsync --progress\n",
    "```"
   ]
  },
  {
   "cell_type": "markdown",
   "metadata": {},
   "source": [
    "[ [h](https://rsync.samba.org) ][ [w](https://en.wikipedia.org/wiki/Rsync) ] **`rsync`** - faster, flexible replacement for rcp\n",
    "* `man rsync` How do I use command `rsync`?\n",
    "* [ [y](https://www.youtube.com/watch?v=2PnAohLS-Q4) ] Linode. `06-09-2021`. \"How to Use the rsync Command | Linux Essentials Tutorial\".\n",
    "\n",
    "[ [y](https://www.youtube.com/watch?v=Ld-VTj_ugws) ] `04-09-2021` \"Shell script Tutorials | How to show a progress bar in Linux shell scripts.\"."
   ]
  },
  {
   "cell_type": "markdown",
   "metadata": {},
   "source": [
    "---"
   ]
  },
  {
   "cell_type": "markdown",
   "metadata": {},
   "source": [
    "### `rsyslog`"
   ]
  },
  {
   "cell_type": "markdown",
   "metadata": {},
   "source": [
    "[ [w](https://en.wikipedia.org/wiki/Rsyslog) ] **`rsyslog`**"
   ]
  },
  {
   "cell_type": "markdown",
   "metadata": {},
   "source": [
    "---"
   ]
  },
  {
   "cell_type": "markdown",
   "metadata": {},
   "source": [
    "### `rush`"
   ]
  },
  {
   "cell_type": "markdown",
   "metadata": {},
   "source": [
    "[ [g](https://github.com/jeroenjanssens/rush) ] **`rush`**"
   ]
  },
  {
   "cell_type": "markdown",
   "metadata": {},
   "source": [
    "---"
   ]
  },
  {
   "cell_type": "markdown",
   "metadata": {},
   "source": [
    "### `sa`"
   ]
  },
  {
   "cell_type": "markdown",
   "metadata": {},
   "source": [
    "**`sa`** - print system accounting statistics"
   ]
  },
  {
   "cell_type": "markdown",
   "metadata": {},
   "source": [
    "---"
   ]
  },
  {
   "cell_type": "markdown",
   "metadata": {},
   "source": [
    "### `sample-stream`"
   ]
  },
  {
   "cell_type": "markdown",
   "metadata": {},
   "source": [
    "[ [g](https://github.com/jeroenjanssens/sample-stream) ] **`sample-stream`**"
   ]
  },
  {
   "cell_type": "markdown",
   "metadata": {},
   "source": [
    "---"
   ]
  },
  {
   "cell_type": "markdown",
   "metadata": {},
   "source": [
    "### `scp`"
   ]
  },
  {
   "cell_type": "markdown",
   "metadata": {},
   "source": [
    "**`scp`** \"secure copy\" - OpenSSH secure file copy\n",
    "* `man scp` How do I use command `scp`?"
   ]
  },
  {
   "cell_type": "markdown",
   "metadata": {},
   "source": [
    "https://www.hostinger.com/tutorials/using-scp-command-to-transfer-files/#Can_I_Pass_Password_in_SCP_Command"
   ]
  },
  {
   "cell_type": "markdown",
   "metadata": {},
   "source": [
    "---"
   ]
  },
  {
   "cell_type": "markdown",
   "metadata": {},
   "source": [
    "### `screen`"
   ]
  },
  {
   "cell_type": "markdown",
   "metadata": {},
   "source": [
    "**`screen`** - screen manager with VT100/ANSI terminal emulation\n",
    "* `man screen` How do I use command `screen`?"
   ]
  },
  {
   "cell_type": "markdown",
   "metadata": {},
   "source": [
    "---"
   ]
  },
  {
   "cell_type": "markdown",
   "metadata": {},
   "source": [
    "### `sdiff`"
   ]
  },
  {
   "cell_type": "markdown",
   "metadata": {},
   "source": [
    "[ w ] **`sdiff`** - compares two files side by side and outputs and differences\n",
    "\n",
    "options\n",
    "* `-a` treat files as text files\n",
    "* `-i` ignore case\n",
    "* `-s` suppress lines common between the two files\n",
    "* `-w` maximum number of characters to output per line\n",
    "\n",
    "[example]\n",
    "\n",
    "```bash\n",
    "sdiff -s file1.txt file2.txt # compare two files and output only lines that differ\n",
    "```"
   ]
  },
  {
   "cell_type": "markdown",
   "metadata": {},
   "source": [
    "---"
   ]
  },
  {
   "cell_type": "markdown",
   "metadata": {},
   "source": [
    "### `sed`"
   ]
  },
  {
   "cell_type": "markdown",
   "metadata": {},
   "source": [
    "[ [w](https://en.wikipedia.org/wiki/Sed) ] **`sed`** \"stream editor\"\n",
    "\n",
    "sed allows you to perform edits (such as replacing characters) on a stream of data\n",
    "\n",
    "Options\n",
    "* `-i` edit the specified file and overwrite it in place"
   ]
  },
  {
   "cell_type": "markdown",
   "metadata": {},
   "source": [
    "[example]\n",
    "\n",
    "```\n",
    "# ips.txt\n",
    "ip,OS\n",
    "10.0.4.2,Windows 8\n",
    "10.0.4.35,Ubuntu 16\n",
    "10.0.4.107,macOS\n",
    "10.0.4.145,macOS\n",
    "```\n",
    "```bash\n",
    "sed 's/10\\.0\\.4\\.35/10.0.4.27/g' ips.txt # replace all instances of 10.0.4.35 with 10.0.4.27\n",
    "```"
   ]
  },
  {
   "cell_type": "markdown",
   "metadata": {},
   "source": [
    "Resources\n",
    "* [ [d](https://www.gnu.org/software/sed) ] GNU sed\n",
    "* https://stackoverflow.com/questions/6111679/insert-linefeed-in-sed-mac-os-x\n",
    "* https://www.pement.org/sed/sedfaq.html\n",
    "* [ [a](https://stackoverflow.com/questions/24275070/sed-not-giving-me-correct-substitute-operation-for-newline-with-mac-difference/24276470#24276470) ] POSIX vs BSD vs GNU sed\n",
    "* https://www.redhat.com/sysadmin/manipulating-text-sed\n",
    "* https://stackoverflow.com/questions/1187354/excluding-first-and-last-lines-from-sed-start-end"
   ]
  },
  {
   "cell_type": "markdown",
   "metadata": {},
   "source": [
    "---"
   ]
  },
  {
   "cell_type": "markdown",
   "metadata": {},
   "source": [
    "### `seq`"
   ]
  },
  {
   "cell_type": "markdown",
   "metadata": {},
   "source": [
    "[ [w](https://en.wikipedia.org/wiki/Seq_(Unix)) ] **`seq`** \"sequence\" - print sequences of numbers (Drepper 2012)\n",
    "\n",
    "* `man seq` How do I use command `seq`?"
   ]
  },
  {
   "cell_type": "markdown",
   "metadata": {},
   "source": [
    "---"
   ]
  },
  {
   "cell_type": "markdown",
   "metadata": {},
   "source": [
    "### `set`"
   ]
  },
  {
   "cell_type": "markdown",
   "metadata": {},
   "source": [
    "**`set`**"
   ]
  },
  {
   "cell_type": "markdown",
   "metadata": {},
   "source": [
    "---"
   ]
  },
  {
   "cell_type": "markdown",
   "metadata": {},
   "source": [
    "### `setenv`"
   ]
  },
  {
   "cell_type": "markdown",
   "metadata": {},
   "source": [
    "**`setenv`**"
   ]
  },
  {
   "cell_type": "markdown",
   "metadata": {},
   "source": [
    "---"
   ]
  },
  {
   "cell_type": "markdown",
   "metadata": {},
   "source": [
    "### `sh`"
   ]
  },
  {
   "cell_type": "markdown",
   "metadata": {},
   "source": [
    "[ [w](https://en.wikipedia.org/wiki/Bourne_shell) ] **`sh`** – POSIX-compliant command interpreter"
   ]
  },
  {
   "cell_type": "markdown",
   "metadata": {},
   "source": [
    "---"
   ]
  },
  {
   "cell_type": "markdown",
   "metadata": {},
   "source": [
    "### `shasum`"
   ]
  },
  {
   "cell_type": "markdown",
   "metadata": {},
   "source": [
    "**`shasum`** - Print or Check SHA Checksums\n",
    "* `sha1sum`\n",
    "* `sha224sum` - compute and check SHA224 message digest\n",
    "* `sha256sum` - compute and check SHA256 message digest\n",
    "* `sha384sum` - compute and check SHA384 message digest\n",
    "* `sha512sum` - compute and check SHA512 message digest\n",
    "* https://osxdaily.com/2012/02/05/check-sha1-checksum-in-mac-os-x/"
   ]
  },
  {
   "cell_type": "markdown",
   "metadata": {},
   "source": [
    "---"
   ]
  },
  {
   "cell_type": "markdown",
   "metadata": {},
   "source": [
    "### `shutdown`"
   ]
  },
  {
   "cell_type": "markdown",
   "metadata": {},
   "source": [
    "**`shutdown`** - close down the system at a given time\n",
    "* `man shutdown` How do I use command `shutdown`?"
   ]
  },
  {
   "cell_type": "markdown",
   "metadata": {},
   "source": [
    "---"
   ]
  },
  {
   "cell_type": "markdown",
   "metadata": {},
   "source": [
    "### `shred`"
   ]
  },
  {
   "cell_type": "markdown",
   "metadata": {},
   "source": [
    "[ [w](https://en.wikipedia.org/wiki/Shred_(Unix)) ] **`shred`** - overwrite a file to hide its contents, and optionally delete it"
   ]
  },
  {
   "cell_type": "markdown",
   "metadata": {},
   "source": [
    "---"
   ]
  },
  {
   "cell_type": "markdown",
   "metadata": {},
   "source": [
    "### `sleep`"
   ]
  },
  {
   "cell_type": "markdown",
   "metadata": {},
   "source": [
    "[ [w](https://en.wikipedia.org/wiki/Sleep_(command)) ] **`sleep`** – suspend execution for an interval of time"
   ]
  },
  {
   "cell_type": "markdown",
   "metadata": {},
   "source": [
    "---"
   ]
  },
  {
   "cell_type": "markdown",
   "metadata": {},
   "source": [
    "### `slurm`"
   ]
  },
  {
   "cell_type": "markdown",
   "metadata": {},
   "source": [
    "[ [g](https://github.com/mattthias/slurm) ] **`slurm`** - yet another network load monitor"
   ]
  },
  {
   "cell_type": "markdown",
   "metadata": {},
   "source": [
    "---"
   ]
  },
  {
   "cell_type": "markdown",
   "metadata": {},
   "source": [
    "### `smartctl`"
   ]
  },
  {
   "cell_type": "markdown",
   "metadata": {},
   "source": [
    "[ [h](https://www.smartmontools.org) ] **`smartctl`** - Control and Monitor Utility for SMART Disks\n",
    "* `brew install smartmontools`\n",
    "* `smartctl -a disk0`"
   ]
  },
  {
   "cell_type": "markdown",
   "metadata": {},
   "source": [
    "---"
   ]
  },
  {
   "cell_type": "markdown",
   "metadata": {},
   "source": [
    "### `sort`"
   ]
  },
  {
   "cell_type": "markdown",
   "metadata": {},
   "source": [
    "[ [w](https://en.wikipedia.org/wiki/Sort_(Unix)) ] **`sort`** – sort or merge records (lines) of text and binary files (Haertel & Eggert 2012)\n",
    "\n",
    "sort is used to rearrange a text file into numerical and alphabetical order. By default, sort arranges lines in ascending order starting with numbers and then letters; uppercase letters are placed before the corresponding lowercase unless specified otherwise.\n",
    "\n",
    "Options\n",
    "* `-f` ignore case\n",
    "* `-k` sort based on a subset of the data (key) in a line; fields are delimited by whitespace\n",
    "* `-n` numeric sort: use numerical ordering (e.g., so that 1, 2, 3 all sort before 10)\n",
    "* `-o` write output to a specified file\n",
    "* `-r` reverse sort: sort in descending order\n",
    "\n",
    "```\n",
    "# file1.txt\n",
    "12/05/2017 192.168.10.14 test.html\n",
    "12/30/2017 192.168.10.185 login.html\n",
    "```\n",
    "\n",
    "Sort by the file name column and ignore the IP address column.\n",
    "\n",
    "```bash\n",
    "sort -k3 file1.txt\n",
    "```\n",
    "```\n",
    "12/30/2017 192.168.10.185 login.html\n",
    "12/05/2017 192.168.10.14 test.html\n",
    "```\n",
    "\n",
    "Sort by the second octet in the IP address.\n",
    "\n",
    "```bash\n",
    "sort -k2.5,2.7 file1.txt\n",
    "```\n",
    "```\n",
    "12/05/2017 192.168.10.14 test.html\n",
    "12/30/2017 192.168.10.185 login.html\n",
    "```"
   ]
  },
  {
   "cell_type": "markdown",
   "metadata": {},
   "source": [
    "---"
   ]
  },
  {
   "cell_type": "markdown",
   "metadata": {},
   "source": [
    "### `source`"
   ]
  },
  {
   "cell_type": "markdown",
   "metadata": {},
   "source": [
    "**`source`**"
   ]
  },
  {
   "cell_type": "markdown",
   "metadata": {},
   "source": [
    "---"
   ]
  },
  {
   "cell_type": "markdown",
   "metadata": {},
   "source": [
    "### `split`"
   ]
  },
  {
   "cell_type": "markdown",
   "metadata": {},
   "source": [
    "[ [w](https://en.wikipedia.org/wiki/Split_(Unix)) ] **`split`** – split a file into pieces"
   ]
  },
  {
   "cell_type": "markdown",
   "metadata": {},
   "source": [
    "---"
   ]
  },
  {
   "cell_type": "markdown",
   "metadata": {},
   "source": [
    "### `sponge`"
   ]
  },
  {
   "cell_type": "markdown",
   "metadata": {},
   "source": [
    "**`sponge`** - soak up standard input and write to a file"
   ]
  },
  {
   "cell_type": "markdown",
   "metadata": {},
   "source": [
    "---"
   ]
  },
  {
   "cell_type": "markdown",
   "metadata": {},
   "source": [
    "### `spyql`"
   ]
  },
  {
   "cell_type": "markdown",
   "metadata": {},
   "source": [
    "[ [d](https://spyql.readthedocs.io/en/latest/) ][ [g](https://github.com/dcmoura/spyql) ] **`spyql`**"
   ]
  },
  {
   "cell_type": "markdown",
   "metadata": {},
   "source": [
    "---"
   ]
  },
  {
   "cell_type": "markdown",
   "metadata": {},
   "source": [
    "### `sqlmap`"
   ]
  },
  {
   "cell_type": "markdown",
   "metadata": {},
   "source": [
    "* [ [h](https://sqlmap.org/) ] sqlmap"
   ]
  },
  {
   "cell_type": "markdown",
   "metadata": {},
   "source": [
    "---"
   ]
  },
  {
   "cell_type": "markdown",
   "metadata": {},
   "source": [
    "### `ssh`"
   ]
  },
  {
   "cell_type": "markdown",
   "metadata": {},
   "source": [
    "[ [w](https://en.wikipedia.org/wiki/Secure_Shell) ] **`ssh`** \"secure shell\" - OpenSSH remote login client\n",
    "* `man ssh` How do I use command `ssh`?"
   ]
  },
  {
   "cell_type": "markdown",
   "metadata": {},
   "source": [
    "---"
   ]
  },
  {
   "cell_type": "markdown",
   "metadata": {},
   "source": [
    "### `ssh-add`"
   ]
  },
  {
   "cell_type": "markdown",
   "metadata": {},
   "source": [
    "**`ssh-add`** - adds private key identities to the OpenSSH authentication agent"
   ]
  },
  {
   "cell_type": "markdown",
   "metadata": {},
   "source": [
    "---"
   ]
  },
  {
   "cell_type": "markdown",
   "metadata": {},
   "source": [
    "### `ssh-agent`"
   ]
  },
  {
   "cell_type": "markdown",
   "metadata": {},
   "source": [
    "[ [w](https://en.wikipedia.org/wiki/Ssh-agent) ] **`ssh-agent`** - OpenSSH authentication agent"
   ]
  },
  {
   "cell_type": "markdown",
   "metadata": {},
   "source": [
    "---"
   ]
  },
  {
   "cell_type": "markdown",
   "metadata": {},
   "source": [
    "### `ssh-copy-id`"
   ]
  },
  {
   "cell_type": "markdown",
   "metadata": {},
   "source": [
    "**`ssh-copy-id`** - use locally available keys to authorise logins on a remote machine"
   ]
  },
  {
   "cell_type": "markdown",
   "metadata": {},
   "source": [
    "---"
   ]
  },
  {
   "cell_type": "markdown",
   "metadata": {},
   "source": [
    "### `ssh-keygen`"
   ]
  },
  {
   "cell_type": "markdown",
   "metadata": {},
   "source": [
    "[ [w](https://en.wikipedia.org/wiki/Ssh-keygen) ] **`ssh-keygen`** - OpenSSH authentication key utility"
   ]
  },
  {
   "cell_type": "markdown",
   "metadata": {},
   "source": [
    "---"
   ]
  },
  {
   "cell_type": "markdown",
   "metadata": {},
   "source": [
    "### `stat`"
   ]
  },
  {
   "cell_type": "markdown",
   "metadata": {},
   "source": [
    "**`stat`**, **`readlink`** - display file status"
   ]
  },
  {
   "cell_type": "markdown",
   "metadata": {},
   "source": [
    "---"
   ]
  },
  {
   "cell_type": "markdown",
   "metadata": {},
   "source": [
    "### `strings`"
   ]
  },
  {
   "cell_type": "markdown",
   "metadata": {},
   "source": [
    "[ [w](https://en.wikipedia.org/wiki/Strings_(Unix)) ] **`strings`** - find the printable strings in a object, or other binary, file"
   ]
  },
  {
   "cell_type": "markdown",
   "metadata": {},
   "source": [
    "---"
   ]
  },
  {
   "cell_type": "markdown",
   "metadata": {},
   "source": [
    "### `strip`"
   ]
  },
  {
   "cell_type": "markdown",
   "metadata": {},
   "source": [
    "[ [w](https://en.wikipedia.org/wiki/Strip_(Unix)) ] **`strip`** - remove symbols"
   ]
  },
  {
   "cell_type": "markdown",
   "metadata": {},
   "source": [
    "---"
   ]
  },
  {
   "cell_type": "markdown",
   "metadata": {},
   "source": [
    "### `su`"
   ]
  },
  {
   "cell_type": "markdown",
   "metadata": {},
   "source": [
    "[ [w](https://en.wikipedia.org/wiki/Su_(Unix)) ] **`su`** \"substitute user identity\"\n",
    "\n",
    "* `su -m operator poweroff` Starts a shell as user operator, and runs the command poweroff.  You will be asked for operator's password unless your real UID is 0.  Note that the -m option is required since user “operator” does not have a valid shell by default.  In this example, -c is passed to the shell of the user “operator”, and is not interpreted as an argument to su.\n",
    "* `su -m operator 'shutdown -p now'` Same as above, but the target command consists of more than a single word and hence is quoted for use with the -c option being passed to the shell. (Most shells expect the argument to -c to be a single word).\n",
    "* `su -l foo` Simulate a login for user foo.\n",
    "* `su - foo` Same as above.\n",
    "* `su -` Simulate a login for root."
   ]
  },
  {
   "cell_type": "markdown",
   "metadata": {},
   "source": [
    "---"
   ]
  },
  {
   "cell_type": "markdown",
   "metadata": {},
   "source": [
    "### `sudo`"
   ]
  },
  {
   "cell_type": "markdown",
   "metadata": {},
   "source": [
    "[ [w](https://en.wikipedia.org/wiki/Sudo) ] **`sudo`**, `sudoedit` - execute a command as another user\n",
    "\n",
    "* `sudo -v && while true; do sudo -n true; sleep 60; kill -0 \"$$\" || exit; done 2> /dev/null &` # ask for the administrator password upfront; keep-alive: update the existing `sudo` timestamp until the program that contains this command is done (not tested) "
   ]
  },
  {
   "cell_type": "markdown",
   "metadata": {},
   "source": [
    "---"
   ]
  },
  {
   "cell_type": "markdown",
   "metadata": {},
   "source": [
    "### `tail`"
   ]
  },
  {
   "cell_type": "markdown",
   "metadata": {},
   "source": [
    "**`tac`** - concatenate and print files in reverse"
   ]
  },
  {
   "cell_type": "markdown",
   "metadata": {},
   "source": [
    "---"
   ]
  },
  {
   "cell_type": "markdown",
   "metadata": {},
   "source": [
    "### `tail`"
   ]
  },
  {
   "cell_type": "markdown",
   "metadata": {},
   "source": [
    "[ [w](https://en.wikipedia.org/wiki/Tail_(Unix)) ] **`tail`** – display the last part of a file\n",
    "\n",
    "tail is used to output the last lines of a file. By default, tail will output the last 10 lines of a file.\n",
    "\n",
    "Options\n",
    "* `-cn` tail last `n` characters\n",
    "* `-f` continuously monitor the file and output lines as they are added\n",
    "* `-n` output the number of lines specified\n",
    "* `-r` reverse line order"
   ]
  },
  {
   "cell_type": "markdown",
   "metadata": {},
   "source": [
    "[examples]\n",
    "\n",
    "```bash\n",
    "tail -n1 somefile.txt\n",
    "tail -n+2 somefile.txt   # output the contents of the file starting at line number 2\n",
    "tail -n20 /var/log/syslog\n",
    "tail -f /var/log/syslog\n",
    "```"
   ]
  },
  {
   "cell_type": "markdown",
   "metadata": {},
   "source": [
    "---"
   ]
  },
  {
   "cell_type": "markdown",
   "metadata": {},
   "source": [
    "### `talk`"
   ]
  },
  {
   "cell_type": "markdown",
   "metadata": {},
   "source": [
    "[ [w](https://en.wikipedia.org/wiki/Talk_(software)) ] **`talk`** – talk to another user"
   ]
  },
  {
   "cell_type": "markdown",
   "metadata": {},
   "source": [
    "---"
   ]
  },
  {
   "cell_type": "markdown",
   "metadata": {},
   "source": [
    "tar"
   ]
  },
  {
   "cell_type": "markdown",
   "metadata": {},
   "source": [
    "```bash\n",
    "tar --checkpoint=.1000\n",
    "```"
   ]
  },
  {
   "cell_type": "markdown",
   "metadata": {},
   "source": [
    "[ [y](https://www.youtube.com/watch?v=Ld-VTj_ugws) ] `04-09-2021` \"Shell script Tutorials | How to show a progress bar in Linux shell scripts.\"."
   ]
  },
  {
   "cell_type": "markdown",
   "metadata": {},
   "source": [
    "---"
   ]
  },
  {
   "cell_type": "markdown",
   "metadata": {},
   "source": [
    "### `tcpdump`"
   ]
  },
  {
   "cell_type": "markdown",
   "metadata": {},
   "source": [
    "[ [h](https://www.tcpdump.org/) ][ [w](https://en.wikipedia.org/wiki/Tcpdump) ] **`tcpdump`** - dump traffic on a network"
   ]
  },
  {
   "cell_type": "markdown",
   "metadata": {},
   "source": [
    "---"
   ]
  },
  {
   "cell_type": "markdown",
   "metadata": {},
   "source": [
    "### `tee`"
   ]
  },
  {
   "cell_type": "markdown",
   "metadata": {},
   "source": [
    "[ [w](https://en.wikipedia.org/wiki/Tee_(command)) ] **`tee`** – duplicate standard input"
   ]
  },
  {
   "cell_type": "markdown",
   "metadata": {},
   "source": [
    "---"
   ]
  },
  {
   "cell_type": "markdown",
   "metadata": {},
   "source": [
    "### `telnet`"
   ]
  },
  {
   "cell_type": "markdown",
   "metadata": {},
   "source": [
    "[example]\n",
    "\n",
    "```bash\n",
    "telnet 192.168.0.16 25\n",
    "```"
   ]
  },
  {
   "cell_type": "markdown",
   "metadata": {},
   "source": [
    "---"
   ]
  },
  {
   "cell_type": "markdown",
   "metadata": {},
   "source": [
    "### `test`"
   ]
  },
  {
   "cell_type": "markdown",
   "metadata": {},
   "source": [
    "[ [w](https://en.wikipedia.org/wiki/Test_(Unix)) ] **`test`**, **`[`** – condition evaluation utility"
   ]
  },
  {
   "cell_type": "markdown",
   "metadata": {},
   "source": [
    "---"
   ]
  },
  {
   "cell_type": "markdown",
   "metadata": {},
   "source": [
    "### `time`"
   ]
  },
  {
   "cell_type": "markdown",
   "metadata": {},
   "source": [
    "[ [w](https://en.wikipedia.org/wiki/Time_(Unix)) ] **`time`** – time command execution"
   ]
  },
  {
   "cell_type": "markdown",
   "metadata": {},
   "source": [
    "---"
   ]
  },
  {
   "cell_type": "markdown",
   "metadata": {},
   "source": [
    "### `tldr`"
   ]
  },
  {
   "cell_type": "markdown",
   "metadata": {},
   "source": [
    "[ [h](https://tldr.sh/) ] tldr"
   ]
  },
  {
   "cell_type": "markdown",
   "metadata": {},
   "source": [
    "---"
   ]
  },
  {
   "cell_type": "markdown",
   "metadata": {},
   "source": [
    "### `tmux`"
   ]
  },
  {
   "cell_type": "markdown",
   "metadata": {},
   "source": [
    "[ [d](https://github.com/tmux/tmux/wiki) ] `tmux` \"terminal multiplexer\" [ [cheat sheet](https://tmuxcheatsheet.com/) ]\n",
    "\n",
    "resources\n",
    "* [ [y](https://www.youtube.com/watch?v=Z5sEEbwngd0) ] `07-15-2020`. Beginbot. \"Getting Starting With Tmux Isn't That Scary\".\n",
    "* [ [y](https://www.youtube.com/watch?v=UxbiDtEXuxg) ] `08-19-2023`. Learn Linux TV. \"Learn tmux (Part 1) Boost your Linux Productivity with this 5-part Course!\".\n",
    "* [ [y](https://www.youtube.com/watch?v=0x4OcL6ejB4) ] `08-19-2023`. Learn Linux TV. \"Learn tmux (Part 2) - How to use Splits and Panes for the Ultimate Linux Workflow!\".\n",
    "* [ [y](https://www.youtube.com/watch?v=OxscYpQsz_c) ] `08-19-2023`. Learn Linux TV. \"Learn tmux (Part 3) - A Simple and Straight-Forward Look at Managing Windows\".\n",
    "* [ [y](https://www.youtube.com/watch?v=E99_vCbGdx0) ] `08-19-2023`. Learn Linux TV. \"Learn tmux (Part 4) - Discover how to manage Sessions within tmux\".\n",
    "* [ [y](https://www.youtube.com/watch?v=-f9rz7joEOA) ] `08-19-2023`. Learn Linux TV. \"Learn tmux (Part 5) - How to Customize tmux and Make It Your Own!\".\n",
    "* [ [y](https://www.youtube.com/watch?v=nTqu6w2wc68) ] `12-30-2023`. NetworkChuck. \"you need to learn tmux RIGHT NOW!!\".\n",
    "* [ [y](https://www.youtube.com/watch?v=252K9lrRdMU) ] `10-27-2019`. Lawrence Systems. \"Getting Started With TMUX\".\n",
    "* [ [y](https://www.youtube.com/watch?v=o7Dg1kmjhfQ) ] `06-18-2019`. The Perl and Raku Conference. \"Doug Bell - \"Organized Development With tmux\"\".\n",
    "\n",
    "more\n",
    "* [ [y](https://www.youtube.com/watch?v=iagjeLuxnMs) ] `01-21-2024`. Mischa van den Burg. \"My Entire Neovim + Tmux Workflow As A DevOps Engineer On MacOS\".\n",
    "* [ [y](https://www.youtube.com/watch?v=H70lULWJeig) ] `01-22-2023`. typecraft. \"Make TMUX Look Amazing in 3 Minutes! - complete tutorial\"."
   ]
  },
  {
   "cell_type": "markdown",
   "metadata": {},
   "source": [
    "---"
   ]
  },
  {
   "cell_type": "markdown",
   "metadata": {},
   "source": [
    "### `toipe`"
   ]
  },
  {
   "cell_type": "markdown",
   "metadata": {},
   "source": [
    "[ [g](https://github.com/Samyak2/toipe) ] `toipe`"
   ]
  },
  {
   "cell_type": "markdown",
   "metadata": {},
   "source": [
    "---"
   ]
  },
  {
   "cell_type": "markdown",
   "metadata": {},
   "source": [
    "### `top`"
   ]
  },
  {
   "cell_type": "markdown",
   "metadata": {},
   "source": [
    "[ [w](https://en.wikipedia.org/wiki/Top_(software)) ] **`top`** \"table of processes\" - display sorted information about processes\n",
    "\n",
    "* `man top` How do I use command `top`?\n",
    "* `ps -eo pcpu,pid,user,args | sort -r | head -10`"
   ]
  },
  {
   "cell_type": "markdown",
   "metadata": {},
   "source": [
    "---"
   ]
  },
  {
   "cell_type": "markdown",
   "metadata": {},
   "source": [
    "### `touch`"
   ]
  },
  {
   "cell_type": "markdown",
   "metadata": {},
   "source": [
    "[ [w](https://en.wikipedia.org/wiki/Touch_(command)) ] **`touch`** – change file access and modification times"
   ]
  },
  {
   "cell_type": "markdown",
   "metadata": {},
   "source": [
    "---"
   ]
  },
  {
   "cell_type": "markdown",
   "metadata": {},
   "source": [
    "### `tput`"
   ]
  },
  {
   "cell_type": "markdown",
   "metadata": {},
   "source": [
    "[ [w](https://en.wikipedia.org/wiki/Tput) ] **`tput`**, **`reset`** - initialize a terminal or query terminfo database"
   ]
  },
  {
   "cell_type": "markdown",
   "metadata": {},
   "source": [
    "tput, reset - initialize a terminal or query terminfo database\n",
    "\n",
    "`tput` can be used to control format in the terminal (e.g., cursor location, cursor behavior, etc.)\n",
    "\n",
    "`tput` is an \"extraction\": it looks up terminal formatting codes in database `terminfo`\n",
    "\n",
    "parameters\n",
    "* `clear`       clear the screen\n",
    "* `cols`        print the number of terminal columns\n",
    "* `cup <x> <y>` move the cursor to position `<x>` and `<y>`\n",
    "* `lines`       print the number of terminal lines\n",
    "* `rmcup`       restore the previously saved terminal layout\n",
    "* `setab`       set the terminal background color\n",
    "* `setaf`       set the terminal foreground color\n",
    "* `smcup`       save the current termainl layout and clear the screen\n",
    "\n",
    "```bash\n",
    "type -t tput          # file\n",
    "type -t /usr/bin/tput # file\n",
    "```"
   ]
  },
  {
   "cell_type": "markdown",
   "metadata": {},
   "source": [
    "---"
   ]
  },
  {
   "cell_type": "markdown",
   "metadata": {},
   "source": [
    "### `tr`"
   ]
  },
  {
   "cell_type": "markdown",
   "metadata": {},
   "source": [
    "[ [w](https://en.wikipedia.org/wiki/Tr_(Unix)) ] **`tr`** – translate characters\n",
    "\n",
    "tr is used to translate or map from one character to another and is often used to delete unwanted or extraneous characters. It only reads from stdin and writes to stdout so it is typically seen with redirects for the input and output files.\n",
    "\n",
    "Options\n",
    "* `-d` delete the specified characters from the input stream\n",
    "* `-s` \"squeeze\": replace the repeated instances of a character with a single instance"
   ]
  },
  {
   "cell_type": "markdown",
   "metadata": {},
   "source": [
    "[example]\n",
    "\n",
    "In the following example, the characters from the first argument are mapped to the corresponding characters in the second argument. Two backslashes are needed to specify a single backslash character because the backslash has a special meaning to tr: it is used to indicate special characters such as newline `\\n`, return `\\r`, or tab `\\t`. Single quotes are used around the arguments to avoid any special interpretation by bash.\n",
    "\n",
    "```\n",
    "# infile.txt\n",
    "drive:path\\name\n",
    "c:\\Users\\Default\\file.txt\n",
    "```\n",
    "```bash\n",
    "tr '\\\\:' '/|' < infile.txt > outfile.txt # translate all the backslashes into forward slashes and all the colons into vertical bars\n",
    "```\n",
    "```\n",
    "# outfile.txt\n",
    "drive|path/name\n",
    "c|/Users/Default/file.txt\n",
    "```"
   ]
  },
  {
   "cell_type": "markdown",
   "metadata": {},
   "source": [
    "---"
   ]
  },
  {
   "cell_type": "markdown",
   "metadata": {},
   "source": [
    "### `traceroute`"
   ]
  },
  {
   "cell_type": "markdown",
   "metadata": {},
   "source": [
    "[ [w](https://en.wikipedia.org/wiki/Traceroute) ] `traceroute`\n",
    "\n",
    "resources\n",
    "* http://traceroute.org/\n",
    "* [ [y](https://www.youtube.com/watch?v=HgYuBN0ZYu0) ] `07-12-2022`. CertBros. \"Traceroute Explained | Real World Examples\".\n",
    "* [ [y](https://www.youtube.com/watch?v=75yKT3OuE44) ] `01-29-2021`. Computerphile. \"How Traceroute Works (Building a Movie Scene 'Trace' Map) - Computerphile\".\n",
    "* [ [y](https://www.youtube.com/watch?v=xhL5Usvklpo) ] `03-04-2022`. David Bombal. \"Traceroute explained // Featuring Elon Musk // Demo with Windows, Linux, macOS\".\n",
    "* [ [y](https://www.youtube.com/watch?v=LI-LBDmINbY) ] `11-18-2020`. Epic Network Labs. \"What's wrong with Traceroute? How to fix it with Paris Traceroute! | Network Traffic Analysis Ep 12\"."
   ]
  },
  {
   "cell_type": "markdown",
   "metadata": {},
   "source": [
    "---"
   ]
  },
  {
   "cell_type": "markdown",
   "metadata": {},
   "source": [
    "### `trap`"
   ]
  },
  {
   "cell_type": "markdown",
   "metadata": {},
   "source": [
    "[ w ] **`trap`**\n",
    "\n",
    "Options\n",
    "* `-l` list all supported signals\n",
    "* `-p <signal>` list the trap commands associated with that signal"
   ]
  },
  {
   "cell_type": "markdown",
   "metadata": {},
   "source": [
    "---"
   ]
  },
  {
   "cell_type": "markdown",
   "metadata": {},
   "source": [
    "### `tree`"
   ]
  },
  {
   "cell_type": "markdown",
   "metadata": {},
   "source": [
    "[ [w](https://en.wikipedia.org/wiki/Tree_(command)) ] **`tree`** - list contents of directories in a tree-like format\n",
    "\n",
    "* `man tree` How do I use command `tree`?\n",
    "* `tree -a -L 1` include hidden files; top level only"
   ]
  },
  {
   "cell_type": "markdown",
   "metadata": {},
   "source": [
    "---"
   ]
  },
  {
   "cell_type": "markdown",
   "metadata": {},
   "source": [
    "### `trim`"
   ]
  },
  {
   "cell_type": "markdown",
   "metadata": {},
   "source": [
    "---"
   ]
  },
  {
   "cell_type": "markdown",
   "metadata": {},
   "source": [
    "### `tripwire`\n",
    "\n",
    "[ [g](https://github.com/Tripwire/tripwire-open-source) ][ [w](https://en.wikipedia.org/wiki/Open_Source_Tripwire) ] `tripwire`"
   ]
  },
  {
   "cell_type": "markdown",
   "metadata": {},
   "source": [
    "---"
   ]
  },
  {
   "cell_type": "markdown",
   "metadata": {},
   "source": [
    "### `true`"
   ]
  },
  {
   "cell_type": "markdown",
   "metadata": {},
   "source": [
    "[ [w](https://en.wikipedia.org/wiki/True_and_false_(commands)) ] **`true`** – return true value"
   ]
  },
  {
   "cell_type": "markdown",
   "metadata": {},
   "source": [
    "---"
   ]
  },
  {
   "cell_type": "markdown",
   "metadata": {},
   "source": [
    "### `truncate`"
   ]
  },
  {
   "cell_type": "markdown",
   "metadata": {},
   "source": [
    "**`truncate`** - shrink or extend the size of a file to the specified size"
   ]
  },
  {
   "cell_type": "markdown",
   "metadata": {},
   "source": [
    "---"
   ]
  },
  {
   "cell_type": "markdown",
   "metadata": {},
   "source": [
    "### `tsort`"
   ]
  },
  {
   "cell_type": "markdown",
   "metadata": {},
   "source": [
    "[ [w](https://en.wikipedia.org/wiki/Tsort) ] **`tsort`** – topological sort of a directed graph"
   ]
  },
  {
   "cell_type": "markdown",
   "metadata": {},
   "source": [
    "---"
   ]
  },
  {
   "cell_type": "markdown",
   "metadata": {},
   "source": [
    "### `tty`"
   ]
  },
  {
   "cell_type": "markdown",
   "metadata": {},
   "source": [
    "[ [w](https://en.wikipedia.org/wiki/Tty_(Unix)) ] **`tty`** – return user's terminal name"
   ]
  },
  {
   "cell_type": "markdown",
   "metadata": {},
   "source": [
    "---"
   ]
  },
  {
   "cell_type": "markdown",
   "metadata": {},
   "source": [
    "### `type`"
   ]
  },
  {
   "cell_type": "markdown",
   "metadata": {},
   "source": [
    "[ [w](https://en.wikipedia.org/wiki/Type_(Unix)) ] **`type`**\n",
    "\n",
    "* `type -a <COMMANDNAME>`"
   ]
  },
  {
   "cell_type": "markdown",
   "metadata": {},
   "source": [
    "---"
   ]
  },
  {
   "cell_type": "markdown",
   "metadata": {},
   "source": [
    "### `ulimit`"
   ]
  },
  {
   "cell_type": "markdown",
   "metadata": {},
   "source": [
    "**`ulimit`**"
   ]
  },
  {
   "cell_type": "markdown",
   "metadata": {},
   "source": [
    "---"
   ]
  },
  {
   "cell_type": "markdown",
   "metadata": {},
   "source": [
    "### `umask`"
   ]
  },
  {
   "cell_type": "markdown",
   "metadata": {},
   "source": [
    "[ [w](https://en.wikipedia.org/wiki/Umask) ] **`umask`**"
   ]
  },
  {
   "cell_type": "markdown",
   "metadata": {},
   "source": [
    "https://www.liquidweb.com/kb/what-is-umask-and-how-to-use-it-effectively/"
   ]
  },
  {
   "cell_type": "markdown",
   "metadata": {},
   "source": [
    "---"
   ]
  },
  {
   "cell_type": "markdown",
   "metadata": {},
   "source": [
    "### `unalias`"
   ]
  },
  {
   "cell_type": "markdown",
   "metadata": {},
   "source": [
    "**`unalias`**"
   ]
  },
  {
   "cell_type": "markdown",
   "metadata": {},
   "source": [
    "---"
   ]
  },
  {
   "cell_type": "markdown",
   "metadata": {},
   "source": [
    "### `uname`"
   ]
  },
  {
   "cell_type": "markdown",
   "metadata": {},
   "source": [
    "[ [w](https://en.wikipedia.org/wiki/Uname) ] **`uname`** – display information about the system"
   ]
  },
  {
   "cell_type": "markdown",
   "metadata": {},
   "source": [
    "---"
   ]
  },
  {
   "cell_type": "markdown",
   "metadata": {},
   "source": [
    "### `uncompress`"
   ]
  },
  {
   "cell_type": "markdown",
   "metadata": {},
   "source": [
    "[ [w](https://en.wikipedia.org/wiki/Compress_(software)) ] **`uncompress`** - expand data"
   ]
  },
  {
   "cell_type": "markdown",
   "metadata": {},
   "source": [
    "---"
   ]
  },
  {
   "cell_type": "markdown",
   "metadata": {},
   "source": [
    "### `unexpand`"
   ]
  },
  {
   "cell_type": "markdown",
   "metadata": {},
   "source": [
    "[ [w](https://en.wikipedia.org/wiki/Unexpand) ] **`unexpand`** - expand spaces to tabs"
   ]
  },
  {
   "cell_type": "markdown",
   "metadata": {},
   "source": [
    "---"
   ]
  },
  {
   "cell_type": "markdown",
   "metadata": {},
   "source": [
    "### `unimatrix`"
   ]
  },
  {
   "cell_type": "markdown",
   "metadata": {},
   "source": [
    "[ [g](https://github.com/will8211/unimatrix) ] **`unimatrix`**"
   ]
  },
  {
   "cell_type": "markdown",
   "metadata": {},
   "source": [
    "---"
   ]
  },
  {
   "cell_type": "markdown",
   "metadata": {},
   "source": [
    "### `uniq`"
   ]
  },
  {
   "cell_type": "markdown",
   "metadata": {},
   "source": [
    "[ [w](https://en.wikipedia.org/wiki/Uniq) ] **`uniq`** – report or filter out repeated lines in a file\n",
    "\n",
    "uniq filters out duplicate lines of data that occur adjacent to one another. To remove duplicate lines in a file, be sure to sort it before using uniq.\n",
    "\n",
    "Options\n",
    "* `-c` printthe number of times a line is repeated\n",
    "* `-f` ignore the specified number of fields before comparing; fields are delimited using spaces\n",
    "* `-i` ignore the case; by default, uniq is case-sensitive"
   ]
  },
  {
   "cell_type": "markdown",
   "metadata": {},
   "source": [
    "---"
   ]
  },
  {
   "cell_type": "markdown",
   "metadata": {},
   "source": [
    "### `unlink`"
   ]
  },
  {
   "cell_type": "markdown",
   "metadata": {},
   "source": [
    "[ [w](https://en.wikipedia.org/wiki/Unlink_(Unix)) ] **`unlink`** – remove directory entries"
   ]
  },
  {
   "cell_type": "markdown",
   "metadata": {},
   "source": [
    "---"
   ]
  },
  {
   "cell_type": "markdown",
   "metadata": {},
   "source": [
    "### `unzip`"
   ]
  },
  {
   "cell_type": "markdown",
   "metadata": {},
   "source": [
    "**`unzip`** - list, test and extract compressed files in a ZIP archive\n",
    "\n",
    "* `man unzip` How do I use command `unzip`?"
   ]
  },
  {
   "cell_type": "markdown",
   "metadata": {},
   "source": [
    "---"
   ]
  },
  {
   "cell_type": "markdown",
   "metadata": {},
   "source": [
    "### `uptime`"
   ]
  },
  {
   "cell_type": "markdown",
   "metadata": {},
   "source": [
    "**`uptime`** – show how long system has been running"
   ]
  },
  {
   "cell_type": "markdown",
   "metadata": {},
   "source": [
    "---"
   ]
  },
  {
   "cell_type": "markdown",
   "metadata": {},
   "source": [
    "### `uucp`"
   ]
  },
  {
   "cell_type": "markdown",
   "metadata": {},
   "source": [
    "[ [w](https://en.wikipedia.org/wiki/UUCP) ] **`uucp`** - Unix to Unix copy"
   ]
  },
  {
   "cell_type": "markdown",
   "metadata": {},
   "source": [
    "---"
   ]
  },
  {
   "cell_type": "markdown",
   "metadata": {},
   "source": [
    "### `uudecode`"
   ]
  },
  {
   "cell_type": "markdown",
   "metadata": {},
   "source": [
    "[ [w](https://en.wikipedia.org/wiki/Uuencoding) ] **`uudecode`** - decode a binary file"
   ]
  },
  {
   "cell_type": "markdown",
   "metadata": {},
   "source": [
    "---"
   ]
  },
  {
   "cell_type": "markdown",
   "metadata": {},
   "source": [
    "### `uuencode`"
   ]
  },
  {
   "cell_type": "markdown",
   "metadata": {},
   "source": [
    "[ [w](https://en.wikipedia.org/wiki/Uuencoding) ] **`uuencode`** - encode a binary file"
   ]
  },
  {
   "cell_type": "markdown",
   "metadata": {},
   "source": [
    "---"
   ]
  },
  {
   "cell_type": "markdown",
   "metadata": {},
   "source": [
    "### `uustat`"
   ]
  },
  {
   "cell_type": "markdown",
   "metadata": {},
   "source": [
    "**`uustat`** - UUCP status inquiry and control"
   ]
  },
  {
   "cell_type": "markdown",
   "metadata": {},
   "source": [
    "---"
   ]
  },
  {
   "cell_type": "markdown",
   "metadata": {},
   "source": [
    "### `vim`"
   ]
  },
  {
   "cell_type": "markdown",
   "metadata": {},
   "source": [
    "[ [w](https://en.wikipedia.org/wiki/Vi) ] **`vi`**, **`vim`**, `ex`, `view`, `gvim`, `gview`, `evim`, `eview`, `rvim`, `rview`, `rgvim`, `rgview` - Vi IMproved, a programmer's text editor"
   ]
  },
  {
   "cell_type": "markdown",
   "metadata": {},
   "source": [
    "---"
   ]
  },
  {
   "cell_type": "markdown",
   "metadata": {},
   "source": [
    "### `vimdiff`"
   ]
  },
  {
   "cell_type": "markdown",
   "metadata": {},
   "source": [
    "**`vimdiff`** - edit between two and eight versions of a file with Vim and show differences"
   ]
  },
  {
   "cell_type": "markdown",
   "metadata": {},
   "source": [
    "---"
   ]
  },
  {
   "cell_type": "markdown",
   "metadata": {},
   "source": [
    "### `visudo`"
   ]
  },
  {
   "cell_type": "markdown",
   "metadata": {},
   "source": [
    "**`visudo`** - edit the sudoers file"
   ]
  },
  {
   "cell_type": "markdown",
   "metadata": {},
   "source": [
    "---"
   ]
  },
  {
   "cell_type": "markdown",
   "metadata": {},
   "source": [
    "### `vnstat`"
   ]
  },
  {
   "cell_type": "markdown",
   "metadata": {},
   "source": [
    "[ [h](https://humdi.net/vnstat/) ] **`vnstat`** - a console-based network traffic monitor"
   ]
  },
  {
   "cell_type": "markdown",
   "metadata": {},
   "source": [
    "---"
   ]
  },
  {
   "cell_type": "markdown",
   "metadata": {},
   "source": [
    "### `wait`"
   ]
  },
  {
   "cell_type": "markdown",
   "metadata": {},
   "source": [
    "[ [w](https://en.wikipedia.org/wiki/Wait_(command)) ] **`wait`**"
   ]
  },
  {
   "cell_type": "markdown",
   "metadata": {},
   "source": [
    "---"
   ]
  },
  {
   "cell_type": "markdown",
   "metadata": {},
   "source": [
    "### `watch`"
   ]
  },
  {
   "cell_type": "markdown",
   "metadata": {},
   "source": [
    "[ [w](https://en.wikipedia.org/wiki/Watch_(command)) ] **`watch`** - execute a program periodically, showing output fullscreen"
   ]
  },
  {
   "cell_type": "markdown",
   "metadata": {},
   "source": [
    "---"
   ]
  },
  {
   "cell_type": "markdown",
   "metadata": {},
   "source": [
    "### `wc`"
   ]
  },
  {
   "cell_type": "markdown",
   "metadata": {},
   "source": [
    "[ [w](https://en.wikipedia.org/wiki/Wc_(Unix)) ] **`wc`** \"word count\" – word, line, character, and byte count (Rubin & MacKenzie 2012)\n",
    "\n",
    "* `man wc` How do I use command `wc`?\n",
    "* `wc -mlw report1 report2` Count the number of characters, words and lines in each of the files report1 and report2 as well as the totals for both."
   ]
  },
  {
   "cell_type": "markdown",
   "metadata": {},
   "source": [
    "---"
   ]
  },
  {
   "cell_type": "markdown",
   "metadata": {},
   "source": [
    "### `wget`"
   ]
  },
  {
   "cell_type": "markdown",
   "metadata": {},
   "source": [
    "[ [w](https://en.wikipedia.org/wiki/Wget) ] **`wget`** - the non-interactive network downloader\n",
    "\n",
    "* `man wget` How do I use command `wget`?"
   ]
  },
  {
   "cell_type": "markdown",
   "metadata": {},
   "source": [
    "options\n",
    "* `-p` download diles associated with the web site\n",
    "* `-m` enable mirror mode\n",
    "* `-k` convert links in the downloaded pages to local paths\n",
    "* `-P` specify a directory in which to save a mirrored web site\n",
    "\n",
    "```bash\n",
    "wget -p -m -k -P ./mirror https://www.gidadel.com # mirror mode: crawl a web site by following links and download the contents of each page found to a specified directory\n",
    "```"
   ]
  },
  {
   "cell_type": "markdown",
   "metadata": {},
   "source": [
    "Installation\n",
    "\n",
    "```bash\n",
    "brew install wget # macOS\n",
    "```"
   ]
  },
  {
   "cell_type": "markdown",
   "metadata": {},
   "source": [
    "\n",
    "---"
   ]
  },
  {
   "cell_type": "markdown",
   "metadata": {},
   "source": [
    "### `whence`"
   ]
  },
  {
   "cell_type": "markdown",
   "metadata": {},
   "source": [
    "**`whence`**"
   ]
  },
  {
   "cell_type": "markdown",
   "metadata": {},
   "source": [
    "---"
   ]
  },
  {
   "cell_type": "markdown",
   "metadata": {},
   "source": [
    "### `where`"
   ]
  },
  {
   "cell_type": "markdown",
   "metadata": {},
   "source": [
    "**`where`**"
   ]
  },
  {
   "cell_type": "markdown",
   "metadata": {},
   "source": [
    "---"
   ]
  },
  {
   "cell_type": "markdown",
   "metadata": {},
   "source": [
    "### `which`"
   ]
  },
  {
   "cell_type": "markdown",
   "metadata": {},
   "source": [
    "[ [w](https://en.wikipedia.org/wiki/Which_(command)) ] **`which`** - locate a program file in the user's path"
   ]
  },
  {
   "cell_type": "markdown",
   "metadata": {},
   "source": [
    "---"
   ]
  },
  {
   "cell_type": "markdown",
   "metadata": {},
   "source": [
    "### `who`"
   ]
  },
  {
   "cell_type": "markdown",
   "metadata": {},
   "source": [
    "[ [w](https://en.wikipedia.org/wiki/Who_(Unix)) ] **`who`** – display who is on the system\n",
    "\n",
    "* `who -q` Show a brief summary of who is logged in.\n",
    "* `who -s` Show who is logged in along with the line and time fields (without the headers)."
   ]
  },
  {
   "cell_type": "markdown",
   "metadata": {},
   "source": [
    "---"
   ]
  },
  {
   "cell_type": "markdown",
   "metadata": {},
   "source": [
    "### `whoami`"
   ]
  },
  {
   "cell_type": "markdown",
   "metadata": {},
   "source": [
    "[ [w](https://en.wikipedia.org/wiki/Whoami) ] **`whoami`** - display effective user id"
   ]
  },
  {
   "cell_type": "markdown",
   "metadata": {},
   "source": [
    "---"
   ]
  },
  {
   "cell_type": "markdown",
   "metadata": {},
   "source": [
    "### `whois`"
   ]
  },
  {
   "cell_type": "markdown",
   "metadata": {},
   "source": [
    "[ [w](https://en.wikipedia.org/wiki/WHOIS) ] **`whois`** – Internet domain name and network number directory service"
   ]
  },
  {
   "cell_type": "markdown",
   "metadata": {},
   "source": [
    "---"
   ]
  },
  {
   "cell_type": "markdown",
   "metadata": {},
   "source": [
    "### `write`"
   ]
  },
  {
   "cell_type": "markdown",
   "metadata": {},
   "source": [
    "[ [w](https://en.wikipedia.org/wiki/Write_(Unix)) ] **`write`** – send a message to another user"
   ]
  },
  {
   "cell_type": "markdown",
   "metadata": {},
   "source": [
    "---"
   ]
  },
  {
   "cell_type": "markdown",
   "metadata": {},
   "source": [
    "### `xargs`"
   ]
  },
  {
   "cell_type": "markdown",
   "metadata": {},
   "source": [
    "[ [w](https://en.wikipedia.org/wiki/Xargs) ] **`xargs`** – construct argument list(s) and execute utility\n",
    "\n",
    "* `xargs -0` read input assuming a NUL terminator"
   ]
  },
  {
   "cell_type": "markdown",
   "metadata": {},
   "source": [
    "---"
   ]
  },
  {
   "cell_type": "markdown",
   "metadata": {},
   "source": [
    "### `xsv`"
   ]
  },
  {
   "cell_type": "markdown",
   "metadata": {},
   "source": [
    "[ [g](https://github.com/BurntSushi/xsv) ] **`xsv`** - a command line program for indexing, slicing, analyzing, splitting and joining CSV files\n",
    "* `brew install xsv`"
   ]
  },
  {
   "cell_type": "markdown",
   "metadata": {},
   "source": [
    "---"
   ]
  },
  {
   "cell_type": "markdown",
   "metadata": {},
   "source": [
    "### `xxd`"
   ]
  },
  {
   "cell_type": "markdown",
   "metadata": {},
   "source": [
    "[ w ] **`xxd`** - make a hexdump or do the reverse\n",
    "\n",
    "options\n",
    "* `-b` display the file using binary isntead of hex\n",
    "* `-l` print `n` bytes\n",
    "* `-s` start printing at byte position `n`\n",
    "\n",
    "[example]\n",
    "\n",
    "```bash\n",
    "# start at byte offset 35 and print the next 50 bytes\n",
    "xxd -s 35 -l 50 somefile.txt\n",
    "```"
   ]
  },
  {
   "cell_type": "markdown",
   "metadata": {},
   "source": [
    "---"
   ]
  },
  {
   "cell_type": "markdown",
   "metadata": {},
   "source": [
    "### `yacc`"
   ]
  },
  {
   "cell_type": "markdown",
   "metadata": {},
   "source": [
    "[ [w](https://en.wikipedia.org/wiki/Yacc) ] **`yacc`** – parser generator"
   ]
  },
  {
   "cell_type": "markdown",
   "metadata": {},
   "source": [
    "---"
   ]
  },
  {
   "cell_type": "markdown",
   "metadata": {},
   "source": [
    "### `yes`"
   ]
  },
  {
   "cell_type": "markdown",
   "metadata": {},
   "source": [
    "[ [w](https://en.wikipedia.org/wiki/Yes_(Unix)) ] **`yes`** - be repetitively affirmative"
   ]
  },
  {
   "cell_type": "markdown",
   "metadata": {},
   "source": [
    "---"
   ]
  },
  {
   "cell_type": "markdown",
   "metadata": {},
   "source": [
    "### `zip`"
   ]
  },
  {
   "cell_type": "markdown",
   "metadata": {},
   "source": [
    "[ [w](https://en.wikipedia.org/wiki/ZIP_(file_format)) ] **`zip`** - package and compress (archive) files"
   ]
  },
  {
   "cell_type": "markdown",
   "metadata": {},
   "source": [
    "---"
   ]
  },
  {
   "cell_type": "markdown",
   "metadata": {},
   "source": [
    "### `zizzania`"
   ]
  },
  {
   "cell_type": "markdown",
   "metadata": {},
   "source": [
    "[ [g](https://github.com/cyrus-and/zizzania) ] `zizzania`"
   ]
  },
  {
   "cell_type": "markdown",
   "metadata": {},
   "source": [
    "---"
   ]
  },
  {
   "cell_type": "markdown",
   "metadata": {},
   "source": [
    "### `zoxide`"
   ]
  },
  {
   "cell_type": "markdown",
   "metadata": {},
   "source": [
    "[ [g](https://github.com/ajeetdsouza/zoxide) ] **`zoxide`** - a smarter cd command"
   ]
  },
  {
   "cell_type": "markdown",
   "metadata": {},
   "source": [
    "---"
   ]
  },
  {
   "cell_type": "markdown",
   "metadata": {},
   "source": [
    "### `zcat`"
   ]
  },
  {
   "cell_type": "markdown",
   "metadata": {},
   "source": [
    "[ [w](https://en.wikipedia.org/wiki/Gzip) ] **`zcat`**, `gzip`, `gunzip` - compress or expand files"
   ]
  },
  {
   "cell_type": "markdown",
   "metadata": {},
   "source": [
    "---"
   ]
  },
  {
   "cell_type": "markdown",
   "metadata": {},
   "source": [
    "## Converting between numerical bases"
   ]
  },
  {
   "cell_type": "markdown",
   "metadata": {},
   "source": [
    "```bash\n",
    "#----------[ DEC -> BIN ]\n",
    "bc<<<'obase=2;16'     # `10000`\n",
    "\n",
    "dec=23; pad=8; python -c \"print(f'{$dec:0{$pad}b}')\"\n",
    "\n",
    "#----------[ DEC -> OCT ]\n",
    "printf %o\\\\n 16       # `20`\n",
    "bc<<<'obase=8;16'\n",
    "\n",
    "#----------[ DEC -> HEX ]\n",
    "printf %x\\\\n 16       # `10`\n",
    "bc<<<'obase=16;16'\n",
    "\n",
    "#----------[ -> DEC ]\n",
    "echo $(( 2#11111111)) # `255`\n",
    "echo $(( 8#377))      # `255`\n",
    "echo $((16#ff))       # `255`\n",
    "\n",
    "bc<<<'obase=10;ibase= 2;1111' # `15`\n",
    "bc<<<'obase=10;ibase= 8;17'   # `15`\n",
    "bc<<<'obase=10;ibase=16;F'    # `15`\n",
    "\n",
    "printf %d\\\\n 0xF              # `15`\n",
    "\n",
    "#----------[ HEX -> BIN ]\n",
    "hex=F; pad=8; python -c \"print(f'{0x$hex:0{$pad}b}')\" # `00001111`\n",
    "\n",
    "\n",
    "\n",
    "man ascii\n",
    "\n",
    "#----------[ ASCII -> BIN ]\n",
    "printf  'a' | xxd -b | cut -d' ' -f2 # `01100001`\n",
    "echo -n 'a' | xxd -b | cut -d' ' -f2 # `01100001`\n",
    "\n",
    "#----------[ ASCII -> HEX ]\n",
    "printf  'a' | xxd -p # `61`\n",
    "echo -n 'a' | xxd -p # `61`\n",
    "\n",
    "#----------[ DEC -> ASCII ]\n",
    "printf \\\\ $(printf %o 97) # `a`\n",
    "printf \\\\x$(printf %x 97) # `a`\n",
    "\n",
    "#----------[ OCT -> ASCII ]\n",
    "printf \\\\141              # `a`\n",
    "\n",
    "#----------[ HEX -> ASCII ]\n",
    "printf \\\\x61              # `a`\n",
    "printf 0x61 | xxd -r      # `a`\n",
    "```"
   ]
  },
  {
   "cell_type": "markdown",
   "metadata": {},
   "source": [
    "---"
   ]
  },
  {
   "cell_type": "markdown",
   "metadata": {},
   "source": [
    "## URL Coding"
   ]
  },
  {
   "cell_type": "markdown",
   "metadata": {},
   "source": [
    "```bash\n",
    "# parameter expansion\n",
    "#   `$*` expands to all arguments\n",
    "#   `$_` expands to the last argument of the previous command\n",
    "#   `//` global replacement\n",
    "\n",
    "while read ; do\n",
    "  : \"${REPLY//%/\\\\x}\" # replace `+` with ` `\n",
    "  echo -e \"${_//+/ }\" # replace `%` with `\\x`\n",
    "done <<< https%3A%2F%2Fgoogle.com%2Fsearch%3Fq%3Durldecode%2Bbash\n",
    "# https://google.com/search?q=urldecode+bash\n",
    "\n",
    "# OR\n",
    "\n",
    "function urldec () {\n",
    "  : \"${*//+/ }\"         # replace `+` with ` `\n",
    "  echo -e \"${_//%/\\\\x}\" # replace `%` with `\\x`\n",
    "}\n",
    "urldec https%3A%2F%2Fgoogle.com%2Fsearch%3Fq%3Durldecode%2Bbash\n",
    "# https://google.com/search?q=urldecode+bash\n",
    "\n",
    "var=https%3A%2F%2Fgoogle.com%2Fsearch%3Fq%3Durldecode%2Bbash\n",
    "echo \"$(urldec \"$var\")\"\n",
    "# https://google.com/search?q=urldecode+bash\n",
    "\n",
    "# BETTER IDIOM\n",
    "x=https%3A%2F%2Fgoogle.com%2Fsearch%3Fq%3Durldecode%2Bbash\n",
    ": \"${x//+/ }\" ; printf -v y '%b' \"${_//%/\\\\x}\" ; echo \"$y\"\n",
    "# https://google.com/search?q=urldecode+bash\n",
    "```"
   ]
  },
  {
   "cell_type": "markdown",
   "metadata": {},
   "source": [
    "```bash\n",
    "url='https%3A%2F%2Fgoogle.com%2Fsearch%3Fq%3Durldecode%2Bbash' ; python -c \"from urllib.parse import unquote ; print(unquote('$url'))\"\n",
    "```"
   ]
  },
  {
   "cell_type": "markdown",
   "metadata": {},
   "source": [
    "* https://www.rfc-editor.org/rfc/rfc3986\n",
    "* https://stackoverflow.com/questions/6250698/how-to-decode-url-encoded-string-in-shell\n",
    "* https://www.baeldung.com/linux/decoding-encoded-urls"
   ]
  },
  {
   "cell_type": "markdown",
   "metadata": {},
   "source": [
    "---"
   ]
  },
  {
   "cell_type": "markdown",
   "metadata": {},
   "source": [
    "## Working with strings"
   ]
  },
  {
   "cell_type": "markdown",
   "metadata": {},
   "source": [
    "```bash\n",
    "string=abcdefg\n",
    "while read -n1 char ; do printf %s\\\\n $char ; done <<< $string\n",
    "\n",
    "for ((i=1 ; i<=${#string}; i++)) ; do\n",
    "  echo \"${string:\"$i\"-1:1}\"\n",
    "done\n",
    "```"
   ]
  },
  {
   "cell_type": "markdown",
   "metadata": {},
   "source": [
    "https://stackoverflow.com/questions/29593489/bash-loop-through-all-chars-in-string"
   ]
  },
  {
   "cell_type": "markdown",
   "metadata": {},
   "source": [
    "---"
   ]
  },
  {
   "cell_type": "markdown",
   "metadata": {},
   "source": [
    "## Parsing arguments"
   ]
  },
  {
   "cell_type": "markdown",
   "metadata": {},
   "source": [
    "* https://stackoverflow.com/questions/7529856/retrieving-multiple-arguments-for-a-single-option-using-getopts-in-bash\n",
    "* https://stackoverflow.com/questions/2875424/correct-way-to-check-for-a-command-line-flag-in-bash"
   ]
  },
  {
   "cell_type": "markdown",
   "metadata": {},
   "source": [
    "---"
   ]
  }
 ],
 "metadata": {
  "kernelspec": {
   "display_name": "Python 3 (ipykernel)",
   "language": "python",
   "name": "python3"
  },
  "language_info": {
   "codemirror_mode": {
    "name": "ipython",
    "version": 3
   },
   "file_extension": ".py",
   "mimetype": "text/x-python",
   "name": "python",
   "nbconvert_exporter": "python",
   "pygments_lexer": "ipython3",
   "version": "3.11.5"
  }
 },
 "nbformat": 4,
 "nbformat_minor": 4
}
