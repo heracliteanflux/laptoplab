{
 "cells": [
  {
   "cell_type": "markdown",
   "metadata": {},
   "source": [
    "# Z Shell"
   ]
  },
  {
   "cell_type": "markdown",
   "metadata": {},
   "source": [
    "---"
   ]
  },
  {
   "cell_type": "markdown",
   "metadata": {},
   "source": [
    "## Table of Contents\n",
    "```{contents}\n",
    "```"
   ]
  },
  {
   "cell_type": "markdown",
   "metadata": {},
   "source": [
    "---"
   ]
  },
  {
   "cell_type": "markdown",
   "metadata": {},
   "source": [
    "```zsh\n",
    "zsh --version\n",
    "```\n",
    "Output: `zsh 5.9 (x86_64-apple-darwin23.0)`"
   ]
  },
  {
   "cell_type": "markdown",
   "metadata": {},
   "source": [
    "```zsh\n",
    "echo $ZSH_VERSION\n",
    "```\n",
    "Output: `5.9`"
   ]
  },
  {
   "cell_type": "markdown",
   "metadata": {},
   "source": [
    "---"
   ]
  },
  {
   "cell_type": "markdown",
   "metadata": {},
   "source": [
    "```zsh\n",
    "man zsh\n",
    "man zshexpn\n",
    "man zshmisc    # conditional expressions\n",
    "man zshmodules\n",
    "zsh --help     # display options\n",
    "```"
   ]
  },
  {
   "cell_type": "markdown",
   "metadata": {},
   "source": [
    "---"
   ]
  },
  {
   "cell_type": "markdown",
   "metadata": {},
   "source": [
    "## Startup config files"
   ]
  },
  {
   "cell_type": "markdown",
   "metadata": {},
   "source": [
    "`~/.zshrc` \"runtime configuration\""
   ]
  },
  {
   "cell_type": "markdown",
   "metadata": {},
   "source": [
    "Startup files\n",
    "\n",
    "```\n",
    "/etc/zlogin   # run for login shells\n",
    "  ~/.zlogin   # run for login shells\n",
    "/etc/zprofile # run for login shells\n",
    "  ~/.zprofile # run for login shells\n",
    "/etc/zshenv   # run for every shell\n",
    "  ~/.zshenv   # run for every shell (usually)\n",
    "/etc/zshrc    # run for interactive shells\n",
    "  ~/.zshrc    # run for interactive shells\n",
    "```\n",
    "\n",
    "Shutdown files\n",
    "\n",
    "```\n",
    "/etc/zlogout  # run for login shells\n",
    "  ~/.zlogout  # run for login shells\n",
    "```"
   ]
  },
  {
   "cell_type": "markdown",
   "metadata": {},
   "source": [
    "```zsh\n",
    "zsh -f # start a new interactive shell and set the `NO_RCS` option so that no zsh startup files are run other than `/etc/zshenv`\n",
    "```"
   ]
  },
  {
   "cell_type": "markdown",
   "metadata": {},
   "source": [
    "---"
   ]
  },
  {
   "cell_type": "markdown",
   "metadata": {},
   "source": [
    "## Jobs"
   ]
  },
  {
   "cell_type": "markdown",
   "metadata": {},
   "source": [
    "https://zsh.sourceforge.io/Doc/Release/Jobs-_0026-Signals.html\n",
    "\n",
    "Jobs\n",
    "* `&` operator - send a task to the background\n",
    "* `jobs` - list tasks that are currently running in the background\n",
    "* `fg n` - bring task `n` back to the foreground from the background (bash)\n",
    "* `%n` or `fg %n` - bring task `n` back to the foreground from the background (zsh)\n",
    "  * `fg` implies `fg %1`\n",
    "* `%` or `fg %`\n",
    "* `%-` or `fg %-` bring the previous task to the foreground from the background (zsh)\n",
    "* `%+` or `%%` or `fg %+` or `fg %%` bring the current task to the foreground from the background (zsh)\n",
    "* Ctrl-Z - suspend a process that is currently running in the foreground and then send it back to the background\n",
    "* `bg` - continue running all suspended background processes\n",
    "* `bg n` - continue running suspended background processes `n` (bash)\n",
    "* `bg %n` - continue running suspended background processes `n` (zsh)\n",
    "* `bg %` ?\n",
    "* `bg %-` ?\n",
    "* `bg %+` ?\n",
    "\n",
    "```zsh\n",
    "ping 192.168.10.56 > ping.log &  # send stdout to the background (stderr prints to the screen)\n",
    "ping 192.168.10.56 &> ping.log & # send both stdout and stderr to the background\n",
    "```\n",
    "\n",
    "```zsh\n",
    "ping google.com > /dev/null &\n",
    "ping amazon.com > /dev/null &\n",
    "ping oreilly.com > /dev/null &\n",
    "jobs -p\n",
    "```\n",
    "```\n",
    "[1]    running    ping google.com > /dev/null\n",
    "[2]  - running    ping amazon.com > /dev/null\n",
    "[3]  + running    ping oreilly.com > /dev/null\n",
    "```\n",
    "```zsh\n",
    "%3\n",
    "```\n",
    "`[3]  - 4048 running    ping oreilly.com > /dev/null`\n",
    "```zsh\n",
    "Ctrl-Z\n",
    "```\n",
    "`[3]  + 4048 suspended  ping oreilly.com > /dev/null`\n",
    "```zsh\n",
    "jobs -p\n",
    "```\n",
    "```\n",
    "[1]    running    ping google.com > /dev/null\n",
    "[2]  - running    ping amazon.com > /dev/null\n",
    "[3]  + suspended  ping oreilly.com > /dev/null\n",
    "```\n",
    "```zsh\n",
    "%2\n",
    "```\n",
    "`[2]  - 4037 running    ping amazon.com > /dev/null`\n",
    "```zsh\n",
    "Ctrl-Z\n",
    "```\n",
    "`[2]  + 4037 suspended  ping amazon.com > /dev/null`\n",
    "```zsh\n",
    "jobs -p\n",
    "```\n",
    "```\n",
    "[1]    running    ping google.com > /dev/null\n",
    "[2]  + suspended  ping amazon.com > /dev/null\n",
    "[3]  - suspended  ping oreilly.com > /dev/null\n",
    "```\n",
    "```zsh\n",
    "bg %3\n",
    "```\n",
    "`[3]  - 4048 continued  ping oreilly.com > /dev/null`\n",
    "```zsh\n",
    "jobs -p\n",
    "```\n",
    "```\n",
    "[1]    running    ping google.com > /dev/null\n",
    "[2]  + suspended  ping amazon.com > /dev/null\n",
    "[3]  - running    ping oreilly.com > /dev/null\n",
    "```\n",
    "---"
   ]
  },
  {
   "cell_type": "markdown",
   "metadata": {},
   "source": [
    "### Parameters (Variables)"
   ]
  },
  {
   "cell_type": "markdown",
   "metadata": {},
   "source": [
    "Normal parameters are also called scalars because they have just one word in them."
   ]
  },
  {
   "cell_type": "markdown",
   "metadata": {},
   "source": [
    "```zsh\n",
    "# there are no spaces around parameter assignment\n",
    "foo=bar                     # stores the value `bar` in the parameter `foo`\n",
    "foo='This is a parameter.'  # stores the value `'This is a parameter.'` in the parameter `foo`\n",
    "foo ='This is a parameter.' # attempts to invoke the non-existent command `foo` with argument `='This is a parameter.'`\n",
    "foo= 'This is a parameter.' # stores the empty string in the parameter `foo`\n",
    "```"
   ]
  },
  {
   "cell_type": "markdown",
   "metadata": {},
   "source": [
    "Parameter Expansion (or Substitution)\n",
    "\n",
    "```zsh\n",
    "foo=bar\n",
    "print $foo               # bar\n",
    "print '$foo is \"'$foo'\"' # $foo is \"This is a parameter.\"\n",
    "```\n",
    "\n",
    "Modifiers\n",
    "* pattern matching\n",
    "* partial replacement of modified parts of the original string"
   ]
  },
  {
   "cell_type": "markdown",
   "metadata": {},
   "source": [
    "---"
   ]
  },
  {
   "cell_type": "markdown",
   "metadata": {},
   "source": [
    "### Arrays"
   ]
  },
  {
   "cell_type": "markdown",
   "metadata": {},
   "source": [
    "Arrays are a special kind of parameter that have more than one word in them."
   ]
  },
  {
   "cell_type": "markdown",
   "metadata": {},
   "source": [
    "```zsh\n",
    "arr=(one two three four)     # original command\n",
    "print $arr                   # one two three four\n",
    "print ${arr}                 # one two three four\n",
    "print ${arr[2]}              # two\n",
    "print ${arr[2,-1]}           # two three four\n",
    "print ${arr[2,-1][1]}        # two\n",
    "print ${arr[2,-1][1][2,-1]}  # wo\n",
    "\n",
    "print $#arr                  # 4\n",
    "print $arr                   # one two three four\n",
    "# sets the second element to the empty string but does not remove the second element\n",
    "arr[2]=\n",
    "print $#arr                  # 4\n",
    "print $arr                   # one three four\n",
    "# replaces the second element with an array of length zero, which removes it\n",
    "arr[2]=()\n",
    "print $#arr                  # 3\n",
    "print $arr                   # one three four\n",
    "\n",
    "arr=(what kind of fool am i) # original command\n",
    "arr[2]=species\n",
    "print $arr                   # what species of fool am i\n",
    "arr[2]=(a piece)\n",
    "print $arr                   # what a piece of fool am i\n",
    "arr[-3,-1]=(work is a man)\n",
    "print $arr                   # what a piece of work is a man\n",
    "```"
   ]
  },
  {
   "cell_type": "markdown",
   "metadata": {},
   "source": [
    "\"You need `typeset` or equivalent if you want to the array to be local to a function. The neat way is `typeset -a`, which creates an empty array, but as long as you assign to the array before trying to use it any old typeset will do.\""
   ]
  },
  {
   "cell_type": "markdown",
   "metadata": {},
   "source": [
    "Subscripts have flags for special purposes.\n",
    "* `r` \"reverse subscripting\": search through arrays and match and return values or the empty string (starting from the left)\n",
    "* `R` \"reverse subscripting\": search through arrays and match and return values or the empty string (starting from the right)\n",
    "* `i` return the index matched (starting from the left)\n",
    "* `I` return the index matched (starting from the right)\n",
    "\n",
    "```zsh\n",
    "arr=(se vuol ballare signor contino)\n",
    "print ${arr[(r)s*]}                  # se\n",
    "print ${arr[(R)s*]}                  # signor\n",
    "\n",
    "arr=(some words); args () { print $#; }\n",
    "args ${arr[(r)s*]}                   # 1\n",
    "# the unquoted empty string is dropped\n",
    "args ${arr[(r)X*]}                   # 0\n",
    "# the quoted empty string is passed as a single empty argument\n",
    "args \"${arr[(r)X*]}\"                 # 1\n",
    "\n",
    "arr=(se vuol venire nella mia scuola)\n",
    "print ${arr[(i)v*]}                  # 2\n",
    "print ${arr[(I)v*]}                  # 3\n",
    "```"
   ]
  },
  {
   "cell_type": "markdown",
   "metadata": {},
   "source": [
    "---"
   ]
  },
  {
   "cell_type": "markdown",
   "metadata": {},
   "source": [
    "`--` in a command line says that there are no more options that begin with a `-`\n",
    "\n",
    "```zsh\n",
    "print -hello    # print: bad option: -h\n",
    "print -- -hello # -hello\n",
    "print - -hello  # -hello (non-standard)\n",
    "```"
   ]
  },
  {
   "cell_type": "markdown",
   "metadata": {},
   "source": [
    "---"
   ]
  },
  {
   "cell_type": "markdown",
   "metadata": {},
   "source": [
    "\"The shell is \"eight-bit clean\" which means that you can have any of he 256 possible characters anywhere in your string. For example, $'foo\\000bar' has an embedded ASCII NUL in it (that's not a misprint--officially, ASCII non-printing characters have two- or three-letter abbreviations). Usually this terminates a string, but the shell works around this when you are using it internally; when you try and pass it as an argument to an external programme, however, all bets are off. Almost certainly the first NUL in that case will cause the programme to think the string is finished, because no information about the length of arguments is passed down and there's nothing the shell can do about it. Below, the shell's echo knows about the shell's 8-bit conventions, and prints out the NUL, which the terminal doesn't show, then the remainder of the string. The external version of echo didn't know any better than to stop when it reached the NUL.\"\n",
    "\n",
    "```zsh\n",
    "echo $'foo\\000bar'\n",
    "```\n",
    "Output: `foobar`\n",
    "\n",
    "```zsh\n",
    "/bin/echo $'foo\\000bar'\n",
    "```\n",
    "Output: `foo`\n",
    "\n",
    "`echo` is a shell builtin.\n",
    "\n",
    "```zsh\n",
    "type echo\n",
    "```\n",
    "Output: `echo is a shell builtin`\n",
    "\n",
    "`/bin/echo` is an external program.\n",
    "\n",
    "```zsh\n",
    "type /bin/echo\n",
    "```\n",
    "Output: `/bin/echo is /bin/echo`"
   ]
  },
  {
   "cell_type": "markdown",
   "metadata": {},
   "source": [
    "---"
   ]
  },
  {
   "cell_type": "markdown",
   "metadata": {},
   "source": [
    "### Sequences and Brace Expansion"
   ]
  },
  {
   "cell_type": "markdown",
   "metadata": {},
   "source": [
    "* `echo {0..10}`\n",
    "* `echo {00..10}` (Bash v4+)\n",
    "* `echo {10..0}`\n",
    "* `echo {10..0..2}` (Bash v4+)\n",
    "* `echo {a..z}` vs `echo {A..z}` vs `echo {a..z} {A..Z}` vs `echo {a..z}{A..Z}`\n",
    "* `echo {z..a..2}` (Bash v4+)"
   ]
  },
  {
   "cell_type": "markdown",
   "metadata": {},
   "source": [
    "---"
   ]
  },
  {
   "cell_type": "markdown",
   "metadata": {},
   "source": [
    "### Quoting"
   ]
  },
  {
   "cell_type": "markdown",
   "metadata": {},
   "source": [
    "\"Using quotes is an important part of controlling the effects of the shell's various substitutions.\n",
    "\n",
    "Backslashes are trivial: you can quote any character whatsoever from the shell with a backslash even if it didn't mean anything unquoted. You can take any old string at all, whatever it has in it--random collections of quotes, backslashes, unprintable characters--quote every single character with a backslash, and the shell will treat it as a plain string\""
   ]
  },
  {
   "cell_type": "markdown",
   "metadata": {},
   "source": [
    "```zsh\n",
    "print \\h\\e\\l\\l\\o\\ \\w\\o\\r\\l\\d\\!\\ \\\\\\n\n",
    "```\n",
    "Output: `hello world!\\n`"
   ]
  },
  {
   "cell_type": "markdown",
   "metadata": {},
   "source": [
    "```zsh\n",
    "read string\n",
    "```\n",
    "Enter the following: ``This is a *string* with various `special' characters``\n",
    "\n",
    "```zsh\n",
    "echo $string\n",
    "```\n",
    "Output: ``This is a *string* with various `special' characters``\n",
    "\n",
    "```zsh\n",
    "print -r -- ${(q)string}\n",
    "```\n",
    "Output: ``This\\ is\\ a\\ \\*string\\*\\ with\\ various\\ \\`special\\'\\ characters``\n",
    "\n",
    "```zsh\n",
    "print -r -- ${(qq)string}\n",
    "```\n",
    "Output: ``'This is a *string* with various `special'\\'' characters'``\n",
    "\n",
    "```zsh\n",
    "print -r -- ${(qqq)string}\n",
    "```\n",
    "Output: ``\"This is a *string* with various \\`special' characters\"``\n",
    "\n",
    "```zsh\n",
    "print -r -- ${(qqqq)string}\n",
    "```\n",
    "Output: ``$'This is a *string* with various `special\\' characters'``\n",
    "\n",
    "```zsh\n",
    "eval print -r -- ${(q)string}\n",
    "```\n",
    "Output: ``This is a *string* with various `special' characters``"
   ]
  },
  {
   "cell_type": "markdown",
   "metadata": {},
   "source": [
    "```zsh\n",
    "echo \"print 'a quoted string' and\\ another\\ argument\" > file\n",
    "read -r line < file\n",
    "for word in ${(z)line}; do\n",
    "  print -r \"quoted:    $word\"\n",
    "  print -r \"unquoted:  ${(Q)word}\"\n",
    "  done\n",
    "```\n",
    "\n",
    "Output:\n",
    "\n",
    "```\n",
    "quoted:    print\n",
    "unquoted:  print\n",
    "quoted:    'a quoted string'\n",
    "unquoted:  a quoted string\n",
    "quoted:    and\\ another\\ argument\n",
    "unquoted:  and another argument\n",
    "```"
   ]
  },
  {
   "cell_type": "markdown",
   "metadata": {},
   "source": [
    "---"
   ]
  },
  {
   "cell_type": "markdown",
   "metadata": {},
   "source": [
    "Option RC_QUOTES converts two single quotes into one single quote inside single quotes.\n",
    "\n",
    "```zsh\n",
    "unsetopt rcquotes\n",
    "print -r 'A ''quoted'' string'\n",
    "```\n",
    "Output: `A quoted string`\n",
    "\n",
    "```zsh\n",
    "setopt rcquotes\n",
    "print -r 'A ''quoted'' string'\n",
    "```\n",
    "Output: `A 'quoted' string`"
   ]
  },
  {
   "cell_type": "markdown",
   "metadata": {},
   "source": [
    "---"
   ]
  },
  {
   "cell_type": "markdown",
   "metadata": {},
   "source": [
    "POSIX quotes begin with `$'` and end with `'`.\n",
    "\n",
    "```zsh\n",
    "cat <<<$'Line\\tone\\nLine\\ttwo'\n",
    "```\n",
    "\n",
    "is equivalent to\n",
    "\n",
    "```zsh\n",
    "print 'Line\\tone\\nLine\\ttwo'\n",
    "```\n",
    "\n",
    "Output:\n",
    "\n",
    "```\n",
    "Line    one\n",
    "Line    two\n",
    "```\n",
    "\n",
    "Without the initial `$`:\n",
    "\n",
    "```zsh\n",
    "cat <<<'Line\\tone\\nLine\\ttwo'\n",
    "```\n",
    "Output: `Line\\tone\\nLine\\ttwo`"
   ]
  },
  {
   "cell_type": "markdown",
   "metadata": {},
   "source": [
    "---"
   ]
  },
  {
   "cell_type": "markdown",
   "metadata": {},
   "source": [
    "Double quotes\n",
    "* parameter expansion\n",
    "* command substitution\n",
    "* arithmetic subsitition\n",
    "* NO process substitution\n",
    "* NO brace, initial tilde, equal sign expansion\n",
    "* NO patterns"
   ]
  },
  {
   "cell_type": "markdown",
   "metadata": {},
   "source": [
    "\"Word splitting is usually suppressed except in the case of parameter substitution which allows you to specify that normal word-splitting will occur as well as other forms of substitution using the flag `(@)`.\"\n",
    "\n",
    "```zsh\n",
    "arr=(one two)\n",
    "```\n",
    "\n",
    "```zsh\n",
    "print $(echo foo bar) $arr\n",
    "```\n",
    "Output: `foo bar one two`\n",
    "\n",
    "```zsh\n",
    "print -l $(echo foo bar) $arr\n",
    "```\n",
    "\n",
    "Output:\n",
    "\n",
    "```\n",
    "foo\n",
    "bar\n",
    "one\n",
    "two\n",
    "```\n",
    "\n",
    "```zsh\n",
    "print -l \"$(echo foo bar) $arr\"\n",
    "```\n",
    "Output: `foo bar one two`\n",
    "\n",
    "```zsh\n",
    "print -l \"${arr[@]}\" \"${(@)arr}\"\n",
    "```\n",
    "\n",
    "Output:\n",
    "\n",
    "```\n",
    "one\n",
    "two\n",
    "one\n",
    "two\n",
    "```"
   ]
  },
  {
   "cell_type": "markdown",
   "metadata": {},
   "source": [
    "```zsh\n",
    "args () { print $#; } # report the number of arguments\n",
    "echo \"Words on line one\\nWords on line two\\n\" > file\n",
    "```\n",
    "```zsh\n",
    "cat file\n",
    "```\n",
    "Output:\n",
    "```\n",
    "Words on line one\n",
    "Words on line two\n",
    "```\n",
    "```zsh\n",
    "args $(<file)\n",
    "```\n",
    "Output: `8`\n",
    "```zsh\n",
    "args \"$(<file)\"\n",
    "```\n",
    "Output: `1`\n",
    "```zsh\n",
    "args \"${(f)$(<file)}\"\n",
    "```\n",
    "Output: `2`"
   ]
  },
  {
   "cell_type": "markdown",
   "metadata": {},
   "source": [
    "---"
   ]
  },
  {
   "cell_type": "markdown",
   "metadata": {},
   "source": [
    "Flags\n",
    "* `@`\n",
    "* `f` split the result of the expansion one word per line\n",
    "* `j:,:` replace with comma\n",
    "* `q` quote with backslashes\n",
    "* `qq` quote with single quotes\n",
    "* `qqq` quote with double quotes\n",
    "* `qqqq` quote with POSIX quotes\n",
    "* `Q` unquote\n",
    "* `z` split a line into an array"
   ]
  },
  {
   "cell_type": "markdown",
   "metadata": {},
   "source": [
    "---"
   ]
  },
  {
   "cell_type": "markdown",
   "metadata": {},
   "source": [
    "### History Expansion"
   ]
  },
  {
   "cell_type": "markdown",
   "metadata": {},
   "source": [
    "View the command-line history list.\n",
    "\n",
    "```zsh\n",
    "history\n",
    "```\n",
    "\n",
    "View the `n` most recent command lines in the command-line history list.\n",
    "\n",
    "```zsh\n",
    "history -n\n",
    "```\n",
    "\n",
    "View the history characters.\n",
    "\n",
    "```zsh\n",
    "echo $HISTCHARS\n",
    "```\n",
    "`!^#`\n",
    "\n",
    "View the history list's capacity.\n",
    "\n",
    "```zsh\n",
    "echo $HISTSIZE\n",
    "```\n",
    "`50000`\n",
    "\n",
    "```zsh\n",
    "echo $SAVEHIST\n",
    "```\n",
    "`10000`\n",
    "\n",
    "```zsh\n",
    "echo $HISTFILE\n",
    "```\n",
    "`~/.zsh_history`"
   ]
  },
  {
   "cell_type": "markdown",
   "metadata": {},
   "source": [
    "History Characters\n",
    "* `!` history character\n",
    "* `^` modification character\n",
    "* `#` comment character"
   ]
  },
  {
   "cell_type": "markdown",
   "metadata": {},
   "source": [
    "A history expansion begins with the first character of the histchars parameter `!`. The first character is followed by an optional event designator and then an optional word designator; if neither of these designators is present then no history expansion occurs.\n",
    "\n",
    "`! <event designator> : <word designator> : <modifier>`\n",
    "\n",
    "An event designator is a reference to a command-line entry in the history list. `!` is the event designator for the previous command. A word designator indicates which word or words of a given command line are to be included in a history reference. The event designator and the word designator are separated by a colon `:` but may be omitted if the word designator begins with `^`, `$`, `*`, `-`, `%`.\n",
    "\n",
    "does work\n",
    "* `echo 'hello!!'`\n",
    "* `echo \"hello\\!\\!\"`\n",
    "\n",
    "does not work\n",
    "* `echo hello!!`\n",
    "* `echo \"hello!!\"`"
   ]
  },
  {
   "cell_type": "markdown",
   "metadata": {},
   "source": [
    "Event Designators\n",
    "* `!!` refer to the previous command\n",
    "* `!#` refer to the current command-line typed so far\n",
    "* `!n` refer to command-line `n`\n",
    "* `!-n` refer to the current command-line minus `n`\n",
    "* `!str` refer to the most recent command starting with `str`\n",
    "* `!?str[?]` refer to the most recent command containing `str`; the trailing `?` is necessary if this reference is to be followed by a modifier\n",
    "* `!{...}` insulate a history reference from adjacent characters"
   ]
  },
  {
   "cell_type": "markdown",
   "metadata": {},
   "source": [
    "```zsh\n",
    "echo one two three # previous command\n",
    "!!                 # echo one two three\n",
    "echo !!            # echo echo one two three\n",
    "echo !#            # echo echo\n",
    "!-1                # echo one two three\n",
    "!echo              # echo one two three\n",
    "```"
   ]
  },
  {
   "cell_type": "markdown",
   "metadata": {},
   "source": [
    "Word Designators\n",
    "* `0` the first input word (i.e., the command)\n",
    "* `n` the `n`th argument\n",
    "* `^` the first argument\n",
    "* `$` the last argument\n",
    "* `x-y` a range of words (`x` defaults to 0)\n",
    "* `*` all the arguments; or a null value if there are none\n",
    "* `x*` abbreviates the range `x-$`\n",
    "* `x-` like `x*` without the final word `$`"
   ]
  },
  {
   "cell_type": "markdown",
   "metadata": {},
   "source": [
    "```zsh\n",
    "echo one two three # original command\n",
    "!!0                # echo\n",
    "!!^                # one\n",
    "!!1                # one\n",
    "!!1*               # one two three\n",
    "!!1-               # one two\n",
    "!!2-3              # two three\n",
    "!!$                # three\n",
    "echo !?tr?:*       # echo tree . -aL 3\n",
    "```"
   ]
  },
  {
   "cell_type": "markdown",
   "metadata": {},
   "source": [
    "---"
   ]
  },
  {
   "cell_type": "markdown",
   "metadata": {},
   "source": [
    "### Modifiers"
   ]
  },
  {
   "cell_type": "markdown",
   "metadata": {},
   "source": [
    "Modifiers are used in\n",
    "* history expansion\n",
    "* parameter substitution\n",
    "* file name generation (globbing)"
   ]
  },
  {
   "cell_type": "markdown",
   "metadata": {},
   "source": [
    "Modifiers\n",
    "* `a` transform a file name into an absolute path\n",
    "* `A` transform a file name into an absolute path and resolve symlinks\n",
    "* `hn` keep the head of the path (i.e., everything except the last component of the path); use `n` to keep the first `n` components of the path (the root directory `/` is the first component of an absolute path)\n",
    "* `tn` keep the tail of the path (i.e., the last component of the path); use `n` to keep the last `n` components of the path\n",
    "* `r` remove the file name extension\n",
    "* `l` convert everything to lowercase\n",
    "* `u` convert everything to uppercase\n",
    "\n",
    "Substitution Modifiers\n",
    "* `s/<string>/<replacement>/<flag>` substitute `<string>` with `<replacement>` using an optional `<flag>`\n",
    "* global subsitution\n",
    "  * `gs/<string>/<replacement>/`\n",
    "  * `s/<string>/<replacement>/:g`\n",
    "* the metacharacter `&` expands to `<string>`; to use the literal character `&` escape the metacharacter `\\&`"
   ]
  },
  {
   "cell_type": "markdown",
   "metadata": {},
   "source": [
    "```zsh\n",
    "ls script.sh                              # original command\n",
    "!!^:a                                     # /home/user/workspace/project/script.sh\n",
    "\n",
    "ls /home/user/workspace/project/script.sh # original command\n",
    "!!^:h                                     # /home/user/workspace/project\n",
    "!!^:h1                                    # /\n",
    "!!^:h2                                    # /home\n",
    "!!^:t                                     # script.sh\n",
    "!!^:t1                                    # script.sh\n",
    "!!^:t2                                    # project/script.sh\n",
    "!!^:t:r                                   # script\n",
    "!!^:t:r:u                                 # SCRIPT\n",
    "\n",
    "echo hello hello bonjour                  # original command\n",
    "!!:s/hello/bonjour                        # echo bonjour hello bonjour\n",
    "!!:gs/hello/bonjour                       # echo bonjour bonjour bonjour\n",
    "\n",
    "param=~/file\n",
    "print $param                              # /Users/<user>/file\n",
    "print !-1:t                               # file\n",
    "print ${param:t}                          # file\n",
    "\n",
    "print foo                                 # foo (enter)\n",
    "^foo^bar                                  # print bar (enter) (ctrl-c)\n",
    "param='this sentence contains a foo.'     #\n",
    "print ${param:&}                          # print this\\ sentence\\ contains\\ a\\ bar. (tab)\n",
    "\n",
    "print a sentence with a /real/live/bogus/path in it.\n",
    "print !!:t                                # path in it.\n",
    "\n",
    "arr=('a bar of chocolate' 'a bar of barflies' 'a barrier of barns')\n",
    "print ${arr:s/bar/car}                    # a car of chocolate a car of barflies a carrier of barns\n",
    "print ${arr:gs/bar/car}                   # a car of chocolate a car of carflies a carrier of carns\n",
    "```"
   ]
  },
  {
   "cell_type": "markdown",
   "metadata": {},
   "source": [
    "Modifiers in file name generation (i.e., globbing)\n",
    "\n",
    "```zsh\n",
    "touch {parser,lexer,input,output}.c\n",
    "print *.c                            # parser.c lexer.c input.c output.c\n",
    "print *.c(:r)                        # parser lexer input output\n",
    "\n",
    "mkdir -p stuff/subdir && touch stuff/{one,two}file.c\n",
    "print stuff/*                        # stuff/onefile.c stuff/twofile.c stuff/subdir\n",
    "print stuff/*(.)                     # stuff/onefile.c stuff/twofile.c\n",
    "print stuff/*(.:r:t)                 # onefile twofile\n",
    "```"
   ]
  },
  {
   "cell_type": "markdown",
   "metadata": {},
   "source": [
    "---"
   ]
  },
  {
   "cell_type": "markdown",
   "metadata": {},
   "source": [
    "### Globbing (File Name Generation)"
   ]
  },
  {
   "cell_type": "markdown",
   "metadata": {},
   "source": [
    "Globbing Qualifiers\n",
    "* `.` regular files (no directories nor special files)\n",
    "\n",
    "File name modification is the only form of globing where the result is no longer a file name and is always performed at the end after all normal file name generation."
   ]
  },
  {
   "cell_type": "markdown",
   "metadata": {},
   "source": [
    "---"
   ]
  },
  {
   "cell_type": "markdown",
   "metadata": {},
   "source": [
    "## Arrays"
   ]
  },
  {
   "cell_type": "markdown",
   "metadata": {},
   "source": [
    "### Indexed Arrays"
   ]
  },
  {
   "cell_type": "markdown",
   "metadata": {},
   "source": [
    "```zsh\n",
    "arr=(a b c)\n",
    "print ${(t)arr} # \"array\"\n",
    "```"
   ]
  },
  {
   "cell_type": "markdown",
   "metadata": {},
   "source": [
    "### Associative Arrays"
   ]
  },
  {
   "cell_type": "markdown",
   "metadata": {},
   "source": [
    "```zsh\n",
    "declare -A aarr  # declare an associative array\n",
    "typeset -A aarr  # declare an associative array\n",
    "\n",
    "print ${(t)aarr} # \"association\"\n",
    "\n",
    "aarr[a]=1\n",
    "aarr[b]=2\n",
    "aarr[c]=3\n",
    "\n",
    "aarr=([c]=3 [d]=4 [e]=5)  # overwrite pre-existing associative array\n",
    "aarr+=([c]=3 [d]=4 [e]=5) # modify    pre-existing associative array\n",
    "aarr=()                   # clear     pre-existing associative array\n",
    "\n",
    "print $aarr               # \"1 2 3 4 5\"\n",
    "print ${(v)aarr}          # \"1 2 3 4 5\"\n",
    "print ${(k)aarr}          # \"a b c d e\"\n",
    "print ${(kv)aarr}         # \"a 1 b 2 c 3 d 4 e 5\"\n",
    "print $aarr[a]            # \"1\"\n",
    "\n",
    "for k v in ${(kv)aarr}; do\n",
    "  print \"$k -> $v\"\n",
    "done\n",
    "# \"a -> 1\"\n",
    "# \"b -> 2\"\n",
    "# \"c -> 3\"\n",
    "# \"d -> 4\"\n",
    "# \"e -> 5\"\n",
    "```"
   ]
  },
  {
   "cell_type": "markdown",
   "metadata": {},
   "source": [
    "---"
   ]
  },
  {
   "cell_type": "markdown",
   "metadata": {},
   "source": [
    "## Login vs Non-login Shell"
   ]
  },
  {
   "cell_type": "markdown",
   "metadata": {},
   "source": [
    "Include the following function in file `$HOME/.zshrc`.\n",
    "\n",
    "```\n",
    "# determine whether a shell is a login shell or a non-login shell\n",
    "sl () {\n",
    "  if [[ -o login ]]; then\n",
    "    print yes\n",
    "  else\n",
    "    print no\n",
    "  fi\n",
    "}\n",
    "```\n",
    "\n",
    "Log into the machine and check the shell type.\n",
    "\n",
    "```zsh\n",
    "echo $0\n",
    "```\n",
    "`-zsh`\n",
    "\n",
    "```zsh\n",
    "sl\n",
    "```\n",
    "`yes`\n",
    "\n",
    "Start a new interactive non-login shell.\n",
    "\n",
    "```zsh\n",
    "zsh\n",
    "```\n",
    "\n",
    "```zsh\n",
    "echo $0\n",
    "```\n",
    "`zsh`\n",
    "\n",
    "```zsh\n",
    "sl\n",
    "```\n",
    "`no`\n",
    "\n",
    "Start a new interactive login shell.\n",
    "\n",
    "```zsh\n",
    "zsh -l\n",
    "```\n",
    "\n",
    "```zsh\n",
    "echo $0\n",
    "```\n",
    "`zsh`\n",
    "\n",
    "```zsh\n",
    "sl\n",
    "```\n",
    "`yes`\n",
    "\n",
    "Invoke a non-interactive shell on a file.\n",
    "\n",
    "```zsh\n",
    "zsh filename\n",
    "```"
   ]
  },
  {
   "cell_type": "markdown",
   "metadata": {},
   "source": [
    "---"
   ]
  },
  {
   "cell_type": "markdown",
   "metadata": {},
   "source": [
    "## Environment Variables"
   ]
  },
  {
   "cell_type": "markdown",
   "metadata": {},
   "source": [
    "* `CPUTYPE`\n",
    "* `HISTCHARS`\n",
    "* `HISTFILE`\n",
    "* `HISTSIZE`\n",
    "* `EDITOR`\n",
    "* `LESSCLOSE`\n",
    "* `LESSOPEN`\n",
    "* `MAIL`\n",
    "* `MAIL_WARNING`\n",
    "* `MAILCHECK`\n",
    "* `MANPATH`\n",
    "* `PAGER`\n",
    "* `PROMPT`\n",
    "* `PS1`\n",
    "* `PS2`\n",
    "* `PS3`\n",
    "* `PS4`\n",
    "* `SAVEHIST`\n",
    "* `SHELL`\n",
    "* `USER`\n",
    "* `VISUAL`\n",
    "* `ZDOTDIR`"
   ]
  },
  {
   "cell_type": "markdown",
   "metadata": {},
   "source": [
    "`CPUTYPE`\n",
    "\n",
    "```zsh\n",
    "echo $CPUTYPE\n",
    "```\n",
    "Output: `arm64`"
   ]
  },
  {
   "cell_type": "markdown",
   "metadata": {},
   "source": [
    "`PAGER`\n",
    "\n",
    "```zsh\n",
    "echo $PAGER\n",
    "```\n",
    "Output: `less`"
   ]
  },
  {
   "cell_type": "markdown",
   "metadata": {},
   "source": [
    "`SHELL`\n",
    "\n",
    "```zsh\n",
    "echo $SHELL\n",
    "```\n",
    "Output: `/bin/zsh`\n",
    "\n",
    "```zsh\n",
    "which zsh\n",
    "```\n",
    "Output: `/bin/zsh`\n",
    "\n",
    "```zsh\n",
    "echo $0\n",
    "```\n",
    "Output: `-zsh`"
   ]
  },
  {
   "cell_type": "markdown",
   "metadata": {},
   "source": [
    "`ZDOTDIR`\n",
    "\n",
    "If the user's zsh startup files are located in the standard location--the user's home folder--then the following command doesn't display anything.\n",
    "\n",
    "```zsh\n",
    "print $ZDOTDIR\n",
    "```"
   ]
  },
  {
   "cell_type": "markdown",
   "metadata": {},
   "source": [
    "---"
   ]
  },
  {
   "cell_type": "markdown",
   "metadata": {},
   "source": [
    "## Shell Options"
   ]
  },
  {
   "cell_type": "markdown",
   "metadata": {},
   "source": [
    "Each option describes one particular shell behavior. Options can be written uppercase or lowercase with as many or as few underscores as you like. An option with \"no\" in front just means the opposite of the option without (`NOMATCH` and `NOTIFY` have \"no\" as a part of their base name).\n",
    "\n",
    "* `(NO_)APPEND_HISTORY`\n",
    "* `(NO_)AUTO_CD`\n",
    "* `(NO_)BAD_PATTERN`\n",
    "* `(NO_)BANG_HIST`\n",
    "* `(NO_)BARE_GLOB_QUAL` turn off zsh globbing behavior: file name modifiers\n",
    "* `(NO_)BEEP`\n",
    "* `(NO_)BG_NICE`\n",
    "* `(NO_)BSD_ECHO`\n",
    "* `(NO_)CD_ABLE_VARS`\n",
    "* `(NO_)CORRECT`\n",
    "* `(NO_)CORRECT_ALL`\n",
    "* `(NO_)CSH_JUNKIE_HISTORY`\n",
    "* `(NO_)CSH_JUNKIE_LOOPS`\n",
    "* `(NO_)CSH_JUNKIE_QUOTES`\n",
    "* `(NO_)CSH_NULL_GLOB`\n",
    "* `(NO_)EXTENDED_GLOB`\n",
    "* `(NO_)EXTENDED_HISTORY`\n",
    "* `(NO_)FUNCTION_ARG_ZERO`\n",
    "* `(NO_)GLOB_SUBST`\n",
    "* `(NO_)HIST_ALLOW_CLOBBER`\n",
    "* `(NO_)HIST_BEEP`\n",
    "* `(NO_)HIST_EXPIRE_DUPS_FIRST`\n",
    "* `(NO_)HIST_FIND_NO_DUPS`\n",
    "* `(NO_)HIST_IGNORE_ALL_DUPS`\n",
    "* `(NO_)HIST_IGNORE_DUPS`\n",
    "* `(NO_)HIST_IGNORE_SPACE`\n",
    "* `(NO_)HIST_NO_FUNCTIONS`\n",
    "* `(NO_)HIST_NO_STORE`\n",
    "* `(NO_)HIST_REDUCE_BLANKS`\n",
    "* `(NO_)HIST_SAVE_NO_DUPS`\n",
    "* `(NO_)HIST_VERIFY` if set, then after the substitution the line appears again with the changes instead of being immediately printed and executed\n",
    "* `(NO_)HUP` \"hang up\"\n",
    "* `(NO_)IGNORE_BRACES`\n",
    "* `(NO_)INC_APPEND_HISTORY`\n",
    "* `(NO_)INTERACTIVE_COMMENTS`\n",
    "* `(NO_)KSH_ARRAYS` make arrays behave more like Korn Shell arrays (braces are necessary; arrays are zero-indexed)\n",
    "* `(NO_)KSH_AUTOLOAD`\n",
    "* `(NO_)KSH_GLOB` turn on ksh globbing behavior\n",
    "* `(NO_)KSH_OPTION_PRINT`\n",
    "* `(NO_)LOCAL_OPTIONS`\n",
    "* `(NO_)LOCAL_TRAPS`\n",
    "* `(NO_)MONITOR`\n",
    "* `(NO_)MULTIOS`\n",
    "* `(NO_)NOMATCH`\n",
    "* `(NO_)NOTIFY`\n",
    "* `(NO_)POSIX_BUILTINS`\n",
    "* `(NO_)PROMPT_BANG`\n",
    "* `(NO_)PROMPT_PERCENT`\n",
    "* `(NO_)PROMPT_SUBST`\n",
    "* `(NO_)RCS`\n",
    "* `(NO_)RM_STAR_SILENT`\n",
    "* `(NO_)SH_FILE_EXPANSION`\n",
    "* `(NO_)SH_GLOB` turn off zsh globbing behavior\n",
    "* `(NO_)SH_OPTION_LETTERS`\n",
    "* `(NO_)SH_WORD_SPLIT` treat parameter assignment like bash\n",
    "* `(NO_)SHARE_HISTORY`\n",
    "* `(NO_)SINGLE_LINE_ZLE`\n",
    "* `(NO_)ZLE`"
   ]
  },
  {
   "cell_type": "markdown",
   "metadata": {},
   "source": [
    "```zsh\n",
    "set -o | sort # view a full list of set and unset options\n",
    "set +o | sort # view a full list of set and unset options\n",
    "setopt        # view set options\n",
    "unsetopt      # view unset options\n",
    "set           # view positional parameters, zsh's way of passing arguments to scripts and functions\n",
    "```"
   ]
  },
  {
   "cell_type": "markdown",
   "metadata": {},
   "source": [
    "---"
   ]
  },
  {
   "cell_type": "markdown",
   "metadata": {},
   "source": [
    "## Resources"
   ]
  },
  {
   "cell_type": "markdown",
   "metadata": {},
   "source": [
    "[ [h](https://zsh.sourceforge.io/) ] Z Shell\n",
    "* [ [h](https://zsh.sourceforge.io/Intro/intro_toc.html) ] _An Introduction to the Z Shell_.\n",
    "* [ [h](https://zsh.sourceforge.io/Doc/Release/index.html) ] Falstad, Paul. (2022). _The Z Shell Manual_.\n",
    "* [ [h](https://zsh.sourceforge.io/Guide/zshguide.html) ] Stephenson, Peter. (2003). _A User's Guide to the Z-Shell_."
   ]
  },
  {
   "cell_type": "markdown",
   "metadata": {},
   "source": [
    "[ [h](https://www.zsh.org) ][ d ][ g ][ [w](https://en.wikipedia.org/wiki/Z_shell) ] zsh\n",
    "\n",
    "[ [h](https://ohmyz.sh/) ][ [d](https://github.com/ohmyzsh/ohmyzsh/wiki) ][ [g](https://github.com/ohmyzsh) ][ w ] Oh My Zsh\n",
    "* [ [g](https://github.com/ohmyzsh/ohmyzsh/wiki/Plugins) ] Plugins\n",
    "  * [ [g](https://github.com/ohmyzsh/ohmyzsh/tree/master/plugins/1password) ] 1password\n",
    "  * [ [g](https://github.com/ohmyzsh/ohmyzsh/tree/master/plugins/brew) ] brew\n",
    "  * [ [g](https://github.com/ohmyzsh/ohmyzsh/tree/master/plugins/dotenv) ] dotenv\n",
    "  * [ [g](https://github.com/ohmyzsh/ohmyzsh/tree/master/plugins/gh) ] gh\n",
    "  * [ [g](https://github.com/ohmyzsh/ohmyzsh/tree/master/plugins/git) ] git\n",
    "  * [ [g](https://github.com/ohmyzsh/ohmyzsh/tree/master/plugins/git-lfs) ] git-lfs\n",
    "  * [ [g](https://github.com/ohmyzsh/ohmyzsh/tree/master/plugins/gitignore) ] gitignore\n",
    "  * [ [g](https://github.com/ohmyzsh/ohmyzsh/tree/master/plugins/history) ] history\n",
    "  * [ [g](https://github.com/ohmyzsh/ohmyzsh/tree/master/plugins/jsontools) ] jsontools\n",
    "  * [ [g](https://github.com/ohmyzsh/ohmyzsh/tree/master/plugins/macos) ] macos\n",
    "  * [ [g](https://github.com/ohmyzsh/ohmyzsh/tree/master/plugins/nmap) ] nmap\n",
    "  * [ [g](https://github.com/ohmyzsh/ohmyzsh/tree/master/plugins/pip) ] pip\n",
    "  * [ [g](https://github.com/ohmyzsh/ohmyzsh/tree/master/plugins/pipenv) ] pipenv\n",
    "  * [ [g](https://github.com/ohmyzsh/ohmyzsh/tree/master/plugins/python) ] python\n",
    "  * [ [g](https://github.com/ohmyzsh/ohmyzsh/tree/master/plugins/sbt) ] sbt\n",
    "  * [ [g](https://github.com/ohmyzsh/ohmyzsh/tree/master/plugins/scala) ] scala\n",
    "  * [ [g](https://github.com/ohmyzsh/ohmyzsh/tree/master/plugins/ssh-agent) ] ssh-agent\n",
    "  * [ [g](https://github.com/ohmyzsh/ohmyzsh/tree/master/plugins/sudo) ] sudo\n",
    "  * [ [g](https://github.com/ohmyzsh/ohmyzsh/tree/master/plugins/vagrant) ] vagrant\n",
    "  * [ [g](https://github.com/ohmyzsh/ohmyzsh/tree/master/plugins/vscode) ] vscode\n",
    "  * [ [g](https://github.com/ohmyzsh/ohmyzsh/tree/master/plugins/web-search) ] web-search\n",
    "  * [ [g](https://github.com/ohmyzsh/ohmyzsh/tree/master/plugins/z) ] z\n",
    "  * [ [g](https://github.com/zsh-users/zsh-syntax-highlighting) ] zsh-syntax-highlighting\n",
    "\n",
    "more\n",
    "* [ [d](https://git-scm.com/book/en/v2/Appendix-A%3A-Git-in-Other-Environments-Git-in-Zsh) ] Git in Zsh\n",
    "* [ [h](https://antigen.sharats.me) ] Antigen\n",
    "* [ [h](https://github.com/sorin-ionescu/prezto) ] Prezto\n",
    "* [ [h](https://spaceship-prompt.sh) ][ [g](https://github.com/spaceship-prompt/spaceship-prompt) ] Spaceship Prompt\n",
    "\n",
    "other\n",
    "* [ [y](https://www.youtube.com/watch?v=0yPj-BfGRug) ] `05-16-2021`. DevDungeon. \"Customizing Zsh\".\n",
    "* [ [y](https://www.youtube.com/watch?v=MSPu-lYF-A8) ] `07-13-2019`. Karl Hadwen. \"Learn Zsh in 80 Minutes macOS - Oh My Zsh - Command Line Power User | @karlhadwen\".\n",
    "* https://thevaluable.dev/zsh-expansion-guide-example/"
   ]
  },
  {
   "cell_type": "markdown",
   "metadata": {},
   "source": [
    "---"
   ]
  }
 ],
 "metadata": {
  "language_info": {
   "name": "python"
  }
 },
 "nbformat": 4,
 "nbformat_minor": 2
}
