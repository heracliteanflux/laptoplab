{
 "cells": [
  {
   "cell_type": "markdown",
   "metadata": {},
   "source": [
    "# Awk"
   ]
  },
  {
   "cell_type": "markdown",
   "metadata": {},
   "source": [
    "---"
   ]
  },
  {
   "cell_type": "markdown",
   "metadata": {},
   "source": [
    "## Table of Contents\n",
    "```{contents}\n",
    "```"
   ]
  },
  {
   "cell_type": "markdown",
   "metadata": {},
   "source": [
    "---"
   ]
  },
  {
   "cell_type": "markdown",
   "metadata": {},
   "source": [
    "## Texts"
   ]
  },
  {
   "cell_type": "markdown",
   "metadata": {},
   "source": [
    "* [ [w](https://en.wikipedia.org/wiki/The_AWK_Programming_Language) ] Aho, Alfred V.; Brian W. Kernighan; & Peter J. Weinberger. (2023). _The AWK Programming Language_. 2nd Ed. Addison-Wesley Professional Computing Series."
   ]
  },
  {
   "cell_type": "markdown",
   "metadata": {},
   "source": [
    "---"
   ]
  },
  {
   "cell_type": "markdown",
   "metadata": {},
   "source": [
    "## Figures"
   ]
  },
  {
   "cell_type": "markdown",
   "metadata": {},
   "source": [
    "* [ [w](https://en.wikipedia.org/wiki/Alfred_Aho) ] `1941-----` Aho, Alfred\n",
    "* [ [w](https://en.wikipedia.org/wiki/Brian_Kernighan) ] `1942-----` Kernighan, Brian\n",
    "* [ [w](https://en.wikipedia.org/wiki/Peter_J._Weinberger) ] `1942-----` Weinberger, Peter"
   ]
  },
  {
   "cell_type": "markdown",
   "metadata": {},
   "source": [
    "---"
   ]
  },
  {
   "cell_type": "markdown",
   "metadata": {},
   "source": [
    "## Terms"
   ]
  },
  {
   "cell_type": "markdown",
   "metadata": {},
   "source": [
    "* [ [w](https://en.wikipedia.org/wiki/AWK) ] Awk\n",
    "* [ [w](https://en.wikipedia.org/wiki/Filter_(software)) ] Filter\n",
    "* [ [w](https://en.wikipedia.org/wiki/One-liner_program) ] One-Liner Program"
   ]
  },
  {
   "cell_type": "markdown",
   "metadata": {},
   "source": [
    "---"
   ]
  }
 ],
 "metadata": {
  "language_info": {
   "name": "python"
  }
 },
 "nbformat": 4,
 "nbformat_minor": 2
}
