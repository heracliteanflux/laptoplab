{
 "cells": [
  {
   "cell_type": "markdown",
   "metadata": {},
   "source": [
    "# Algorithms & Data Structures"
   ]
  },
  {
   "cell_type": "markdown",
   "metadata": {},
   "source": [
    "---"
   ]
  },
  {
   "cell_type": "markdown",
   "metadata": {},
   "source": [
    "## Table of Contents\n",
    "```{contents}\n",
    "```"
   ]
  },
  {
   "cell_type": "markdown",
   "metadata": {},
   "source": [
    "---"
   ]
  },
  {
   "cell_type": "markdown",
   "metadata": {},
   "source": [
    "## Resources"
   ]
  },
  {
   "cell_type": "markdown",
   "metadata": {},
   "source": [
    "* [ [y](https://www.youtube.com/watch?v=ALPWOiUKIjY) ] `03-15-2024` ForrestKnight. \"How Data Structures & Algorithms are Actually Used\".\n",
    "* [ [y](https://www.youtube.com/watch?v=cCKOl5li6YM) ] `08-22-2021` Nemean. \"How Karatsuba's algorithm gave us new ways to multiply\"."
   ]
  },
  {
   "cell_type": "markdown",
   "metadata": {},
   "source": [
    "---"
   ]
  },
  {
   "cell_type": "markdown",
   "metadata": {},
   "source": [
    "## Texts"
   ]
  },
  {
   "cell_type": "markdown",
   "metadata": {},
   "source": [
    "`2022` Cormen, Thomas H. et al. _Introduction to Algorithms_. 4th Ed. [MIT Press](https://mitpress.mit.edu/9780262046305/introduction-to-algorithms/).\n",
    "\n",
    "`2006` Dasgupta, Sanjoy; Christos Papadimitriou; & Umesh Vazirani. _Algorithms_. McGraw-Hill Education.\n",
    "\n",
    "`2020` Skiena, Steven S. _The Algorithm Design Manual_. Springer: Texts in Computer Science.\n",
    "\n",
    "`----` Bentley, Jon. _Programming Pearls_. 2e. Addison-Wesley Professional.\n",
    "\n",
    "[ [h](https://bcs.wiley.com/he-bcs/Books?action=index&itemId=1118290275&bcsId=8029) ] `2013` Goodrich, Michael T.; Roberto Tamassia; & Michael H. Goldwasser. _Data Structures and Algorithms in Python_ [Wiley](https://www.wiley.com/en-us/Data+Structures+and+Algorithms+in+Python%2C+1st+Edition-p-9781118476734).\n",
    "\n",
    "J. Kleinberg and E. Tardos. Algorithm Design. Addison Wesley, 2006.\n",
    "\n",
    "R. Graham, D. Knuth, and O. Patashnik. Concrete Mathematics. Addison-Wesley, 1989."
   ]
  },
  {
   "cell_type": "markdown",
   "metadata": {},
   "source": [
    "* [ [h](https://greenteapress.com/wp/think-data-structures/) ][ [g](https://github.com/AllenDowney/ThinkDataStructures) ] Downey, Allen B. (2017). _Think Data Structures: Algorithms and Information Retrieval in Java_. O'Reilly.\n",
    "* Heineman, George. (2021). _Learning Algorithms: A Programmer's Guide to Writing Better Code_. O'Reilly.\n",
    "* Kubica, Jeremy. (2022). _Data Structures the Fun Way: An Amusing Adventure with Coffee-Filled Examples_. [No Starch Press](https://nostarch.com/data-structures-fun-way).\n",
    "* La Rocca, Marcello. (2021). _Advanced Algorithms and Data Structures_. Manning.\n",
    "* Needham, Mark & Amy E. Hodler. (2019). _Graph Algorithms: Practical Examples in Apache Spark & Neo4j_. O'Reilly.\n",
    "* Sedgewick, Robert & Kevin Wayne. (2011). _Algorithms_. 4th Ed. Addison-Wesley Professional.\n",
    "* Sweigart, Al. (2022). _The Recursive Book of Recursion: Ace the Coding Interview with Python and JavaScript_. No Starch Press.\n",
    "* Tahirovic, Emin; Dzejla Medjedovic; & Ines Dedovic. (2022). _Algorithms and Data Structures for Massive Datasets_. Manning.\n",
    "* Tuckfield, Bradford. (2021). _Dive Into Algorithms: A Pythonic Adventure for the Intrepid Beginner_. No Starch Press.\n",
    "* Zingaro, Dan. (2023). _Algorithmic Thinking_. 2e. [No Starch Press](https://nostarch.com/algorithmic-thinking-2nd-edition).\n",
    "* [ [H](https://opendatastructures.org/) ] _Open Data Structures_."
   ]
  },
  {
   "cell_type": "markdown",
   "metadata": {},
   "source": [
    "---"
   ]
  },
  {
   "cell_type": "markdown",
   "metadata": {},
   "source": [
    "## Terms"
   ]
  },
  {
   "cell_type": "markdown",
   "metadata": {},
   "source": [
    "* [ [w](https://en.wikipedia.org/wiki/Abstract_data_type) ] ADT Abstract Data Type\n",
    "* [ [w](https://en.wikipedia.org/wiki/Abstraction_(computer_science)) ] Abstraction\n",
    "* [ [w](https://en.wikipedia.org/wiki/Adjacency_list) ] Adjacency List\n",
    "* [ [w](https://en.wikipedia.org/wiki/Algebraic_data_type) ] Algebraic Data Type\n",
    "* [ [w](https://en.wikipedia.org/wiki/Algorithm) ] Algorithm\n",
    "* [ [w](https://en.wikipedia.org/wiki/Analysis_of_algorithms) ] Analysis of Algorithms\n",
    "* [ [w](https://en.wikipedia.org/wiki/Array_data_structure) ] Array\n",
    "* [ [w](https://en.wikipedia.org/wiki/Associative_array) ] Associative Array\n",
    "* [ [w](https://en.wikipedia.org/wiki/Asymptotic_analysis) ] Asymptotic Analysis\n",
    "* [ [w](https://en.wikipedia.org/wiki/Asymptotic_computational_complexity) ] Asymptotic Computational Complexity\n",
    "* [ [w](https://en.wikipedia.org/wiki/Big_O_notation) ] Big O Notation\n",
    "* [ [w](https://en.wikipedia.org/wiki/Binary_tree) ] Binary Tree\n",
    "* [ [w](https://en.wikipedia.org/wiki/Bit_field) ] Bit Field\n",
    "* [ [w](https://en.wikipedia.org/wiki/Collection_(abstract_data_type)) ] Collection\n",
    "* [ [w](https://en.wikipedia.org/wiki/Comparison_sort) ] Comparison Sort\n",
    "* [ [w](https://en.wikipedia.org/wiki/Container_(abstract_data_type)) ] Container\n",
    "* [ [w](https://en.wikipedia.org/wiki/Data_structure) ] Data Structure\n",
    "* [ [w](https://en.wikipedia.org/wiki/Data_type) ] Data Type\n",
    "* [ [w](https://en.wikipedia.org/wiki/Depth-first_search) ] Depth-First Search (DFS)\n",
    "* [ [w](https://en.wikipedia.org/wiki/Divide-and-conquer_algorithm) ] Divide and Conquer\n",
    "* [ [w](https://en.wikipedia.org/wiki/Double-ended_queue) ] Double-Ended Queue (Deque)\n",
    "* [ [w](https://en.wikipedia.org/wiki/Doubly_linked_list) ] Doubly Linked List\n",
    "* [ [w](https://en.wikipedia.org/wiki/Dynamic_array) ] Dynamic Array\n",
    "* [ [w](https://en.wikipedia.org/wiki/FIFO_(computing_and_electronics)) ] First In First Out (FIFO)\n",
    "* [ [w](https://en.wikipedia.org/wiki/Function_object) ] Function Object\n",
    "* [ [w](https://en.wikipedia.org/wiki/Function_pointer) ] Function Pointer\n",
    "* [ [w](https://en.wikipedia.org/wiki/Graph_(abstract_data_type)) ] Graph\n",
    "* [ [w](https://en.wikipedia.org/wiki/Hash_table) ] Hash Table\n",
    "* [ [w](https://en.wikipedia.org/wiki/Heap_(data_structure)) ] Heap\n",
    "* [ [w](https://en.wikipedia.org/wiki/Heapsort) ] Heapsort\n",
    "* [ [w](https://en.wikipedia.org/wiki/In-place_algorithm) ] In-Place Algorithm\n",
    "* [ [w](https://en.wikipedia.org/wiki/Iterator) ] Iterator\n",
    "* [ [w](https://en.wikipedia.org/wiki/Karatsuba_algorithm) ] Karatsuba Algorithm\n",
    "* [ [w](https://en.wikipedia.org/wiki/Lattice_multiplication) ] Lattice Multiplication\n",
    "* [ [w](https://en.wikipedia.org/wiki/Lazy_evaluation) ] Lazy Evaluation\n",
    "* [ [w](https://en.wikipedia.org/wiki/Linked_list) ] Linked List\n",
    "* [ [w](https://en.wikipedia.org/wiki/List_(abstract_data_type)) ] List\n",
    "* [ [w](https://en.wikipedia.org/wiki/Loop_fission_and_fusion) ] Loop Fission\n",
    "* [ [w](https://en.wikipedia.org/wiki/Loop_fission_and_fusion) ] Loop Fusion\n",
    "* [ [w](https://en.wikipedia.org/wiki/Master_theorem_(analysis_of_algorithms)) ] Master Theorem\n",
    "* [ [w](https://en.wikipedia.org/wiki/Memoization) ] Memoization\n",
    "* [ [w](https://en.wikipedia.org/wiki/Merge_sort) ] Merge Sort\n",
    "* [ [w](https://en.wikipedia.org/wiki/Metaprogramming) ] Metaprogramming\n",
    "* [ [w](https://en.wikipedia.org/wiki/Multiplication_algorithm) ] Multiplication Algorithm\n",
    "* [ [w](https://en.wikipedia.org/wiki/Name%E2%80%93value_pair) ] Name-Value Pair\n",
    "* [ [w](https://en.wikipedia.org/wiki/Parse_tree) ] Parse Tree\n",
    "* [ [w](https://en.wikipedia.org/wiki/Pointer_(computer_programming)) ] Pointer\n",
    "* [ [w](https://en.wikipedia.org/wiki/Priority_queue) ] Priority Queue\n",
    "* [ [w](https://en.wikipedia.org/wiki/Queue_(abstract_data_type)) ] Queue\n",
    "* [ [w](https://en.wikipedia.org/wiki/Quickselect) ] Quickselect\n",
    "* [ [w](https://en.wikipedia.org/wiki/Quicksort) ] Quicksort\n",
    "* [ [w](https://en.wikipedia.org/wiki/Recurrence_relation) ] Recurrence Relation\n",
    "* [ [w](https://en.wikipedia.org/wiki/Recursion) ] Recursion\n",
    "* [ [w](https://en.wikipedia.org/wiki/Search_tree) ] Search Tree\n",
    "* [ [w](https://en.wikipedia.org/wiki/Selection_algorithm) ] Selection Algorithm\n",
    "* [ [w](https://en.wikipedia.org/wiki/Set_(abstract_data_type)) ] Set\n",
    "* [ [w](https://en.wikipedia.org/wiki/Sorting_algorithm) ] Sorting Algorithm\n",
    "* [ [w](https://en.wikipedia.org/wiki/Stack_(abstract_data_type)) ] Stack\n",
    "* [ [w](https://en.wikipedia.org/wiki/Stirling%27s_approximation) ] Stirling's Approximation\n",
    "* [ [w](https://en.wikipedia.org/wiki/Stream_(abstract_data_type)) ] Stream\n",
    "* [ [w](https://en.wikipedia.org/wiki/String_(computer_science)) ] String\n",
    "* [ [w](https://en.wikipedia.org/wiki/Syntactic_sugar) ] Syntactic Sugar\n",
    "* [ [w](https://en.wikipedia.org/wiki/Template_metaprogramming) ] Template Metaprogramming\n",
    "* [ [w](https://en.wikipedia.org/wiki/Thunk) ] Thunk\n",
    "* [ [w](https://en.wikipedia.org/wiki/Tree_(data_structure)) ] Tree\n",
    "* [ [w](https://en.wikipedia.org/wiki/Tree_traversal) ] Tree Traversal\n",
    "* [ [w](https://en.wikipedia.org/wiki/Value_semantics) ] Value Semantics"
   ]
  },
  {
   "cell_type": "markdown",
   "metadata": {},
   "source": [
    "---"
   ]
  }
 ],
 "metadata": {
  "language_info": {
   "name": "python"
  },
  "orig_nbformat": 4
 },
 "nbformat": 4,
 "nbformat_minor": 2
}
