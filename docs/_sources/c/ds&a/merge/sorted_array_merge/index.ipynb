{
 "cells": [
  {
   "cell_type": "markdown",
   "metadata": {},
   "source": [
    "# Sorted Array Merge"
   ]
  },
  {
   "cell_type": "markdown",
   "metadata": {},
   "source": [
    "---"
   ]
  },
  {
   "cell_type": "markdown",
   "metadata": {},
   "source": [
    "## Contents\n",
    "```{contents}\n",
    "```"
   ]
  },
  {
   "cell_type": "markdown",
   "metadata": {},
   "source": [
    "---"
   ]
  },
  {
   "cell_type": "markdown",
   "metadata": {},
   "source": [
    "Given two sorted arrays, a merged sorted array containing the elements within the inputs can be constructed using $\\Theta(m + n)$ time and space where $m$ and $n$ are the sizes of the two input arrays respectively. This can be done by creating a pointer called the head into each array. The values of the heads are compared and the smallest one is placed into the output array and then advanced. Let's call this operation `sorted-merge(A, B)`."
   ]
  },
  {
   "cell_type": "markdown",
   "metadata": {},
   "source": [
    "```c\n",
    " INPUT    an array A[1:n] of n values sorted in ascending order and an array B[1:m] of m sorted values in ascending order\n",
    "OUTPUT    an array C[1:n + m] containing all n + m values of A and B sorted in ascending order\n",
    "\n",
    "SORTED_ARRAY_MERGE(A, B, n, m)\n",
    " 1    n     = len(A)\n",
    " 2    idx_A = 1\n",
    " 3    A[n]  = N   // place a sentinel value N larger than all values in B at the end of array A\n",
    " 4\n",
    " 5    m     = len(B)\n",
    " 6    idx_B = 1\n",
    " 7    B[n]  = M   // place a sentinel value M larger than all values in A at the end of array B\n",
    " 8\n",
    " 9    C           // empty array of length n + m\n",
    "10\n",
    "11    for i = 1 to n + m\n",
    "12        if A[idx_A] < B[idx_B]\n",
    "13            C[i] = A[idx_A]\n",
    "14            idx_A++\n",
    "15        else\n",
    "16            C[i] = B[idx_B]\n",
    "17            idx_B++\n",
    "18    return C\n",
    "```"
   ]
  },
  {
   "cell_type": "markdown",
   "metadata": {},
   "source": [
    " Given a sorted array, there is a smallest element in the array at the head/front of the array.\n",
    "\n",
    " Each iteration compares the heads of the arrays, copies the lesser of the two values into the next position in the output array, and advances the head of the array that contained the lesser value to the next position."
   ]
  },
  {
   "cell_type": "markdown",
   "metadata": {},
   "source": [
    "### Example"
   ]
  },
  {
   "cell_type": "markdown",
   "metadata": {},
   "source": [
    "```c\n",
    "// INITIALIZATION\n",
    "\n",
    "   |\n",
    "A: 1 2 3 3  4\n",
    "B: 2 4 6 8 10\n",
    "   |\n",
    "\n",
    "C:\n",
    "\n",
    "// i = 1\n",
    "\n",
    "     |\n",
    "A: 1 2 3 3  4\n",
    "B: 2 4 6 8 10\n",
    "   |\n",
    "\n",
    "C: 1\n",
    "\n",
    "// i = 2\n",
    "\n",
    "     |\n",
    "A: 1 2 3 3  4\n",
    "B: 2 4 6 8 10\n",
    "     |\n",
    "\n",
    "C: 1 2\n",
    "\n",
    "// i = 3\n",
    "\n",
    "       |\n",
    "A: 1 2 3 3  4\n",
    "B: 2 4 6 8 10\n",
    "     |\n",
    "\n",
    "C: 1 2 2\n",
    "```"
   ]
  },
  {
   "cell_type": "markdown",
   "metadata": {},
   "source": [
    "---"
   ]
  },
  {
   "cell_type": "markdown",
   "metadata": {},
   "source": [
    "## Correctness"
   ]
  },
  {
   "cell_type": "markdown",
   "metadata": {},
   "source": [
    "$\\textbf{Invariant}$"
   ]
  },
  {
   "cell_type": "markdown",
   "metadata": {},
   "source": [
    "1\\. $1 \\le i \\le n + m + 1$ (i.e., $i$ ranges from $1$ to one greater than $n + m$)<br>\n",
    "2\\. subarray $C[1:i - 1]$ contains the $i - 1$ smallest values of arrays $A$ and $B$ sorted in ascending order <br>\n",
    "3\\. $A[\\texttt{idx}_A]$ and $B[\\texttt{idx}_B]$ are the smallest values of subarrays $A[\\texttt{idx}_A:n]$ and $B[\\texttt{idx}_B:m]$ respectively not already in $C[1:i - 1]$"
   ]
  },
  {
   "cell_type": "markdown",
   "metadata": {},
   "source": [
    "$\\textbf{Initialization}$"
   ]
  },
  {
   "cell_type": "markdown",
   "metadata": {},
   "source": [
    "$C$ is empty.\n",
    "\n",
    "Since $\\texttt{idx}_A = 1$ and $\\texttt{idx}_B = 1$ and the arrays $A$ and $B$ are sorted in ascending order, $A[\\texttt{idx}_A]$ and $B[\\texttt{idx}_B]$ are the smallest values of arrays $A$ and $B$ respectively."
   ]
  },
  {
   "cell_type": "markdown",
   "metadata": {},
   "source": [
    "$\\textbf{Maintenance}$\n",
    "\n",
    "It must be shown that if both the $\\texttt{condition}$ is true and the $\\texttt{invariant}$ is true after iteration $i$ then the $\\texttt{invariant}$ is true after iteration $i' = i + 1$."
   ]
  },
  {
   "cell_type": "markdown",
   "metadata": {},
   "source": [
    "Assume that the $\\texttt{condition}$\n",
    "\n",
    "$1 \\le i \\lt n + m + 1$\n",
    "\n",
    "and the $\\texttt{invariant}$\n",
    "\n",
    "1\\. $1 \\le i \\le n + m + 1$ <br>\n",
    "2\\. $C[1:i - 1]$ contains the $i - 1$ smallest values of arrays $A$ and $B$ sorted in ascending order <br>\n",
    "3\\. $A[\\texttt{idx}_A]$ and $B[\\texttt{idx}_B]$ are the smallest values of subarrays $A[\\texttt{idx}_A:n]$ and $B[\\texttt{idx}_B:m]$ respectively not already in $C[1:i - 1]$\n",
    "\n",
    "are true after iteration $i$.\n",
    "\n",
    "It must be shown that the $\\texttt{invariant}$ is true after iteration $i' = i + 1$.\n",
    "\n",
    "1\\. $1 \\le \\texttt{idx}_A', \\texttt{idx}_B' \\le i' \\le n + m + 1$ <br>\n",
    "2\\. $C[1:i' - 1]$ contains the $i'$ smallest values of $A$ and $B$ sorted in ascending order <br>\n",
    "3\\. $A[\\texttt{idx}_A']$ and $B[\\texttt{idx}_B']$ are the smallest values of subarrays $A[\\texttt{idx}_A':n]$ and $B[\\texttt{idx}_B':m]$ respectively not already in $C[1:i' - 1]$"
   ]
  },
  {
   "cell_type": "markdown",
   "metadata": {},
   "source": [
    "$\\texttt{CASE}\\quad A[\\texttt{idx}_A] \\lt B[\\texttt{idx}_B]$\n",
    "\n",
    "$i' = i + 1$\n",
    "\n",
    "$C[i'] = A[\\texttt{idx}_A]$\n",
    "\n",
    "$\\texttt{idx}_A' = \\texttt{idx}_A + 1$\n",
    "\n",
    "$\\texttt{idx}_B' = \\texttt{idx}_B$\n",
    "\n",
    "$\n",
    "\\begin{aligned}\n",
    "     & 1 \\le \\texttt{idx}_A,     && \\texttt{idx}_B  \\le i     && \\lt n + m \\\\\n",
    "\\iff & 1 \\le \\texttt{idx}_A + 1, && \\texttt{idx}_B  \\le i + 1 && \\le n + m \\\\\n",
    "\\iff & 1 \\le \\texttt{idx}_A',    && \\texttt{idx}_B' \\le i'    && \\le n + m \\\\\n",
    "\\end  {aligned}\n",
    "$\n",
    "\n",
    "Since $C[1:i]$ contains the smallest $i$ elements in $A$ and $B$ sorted in ascending order and $C[i'] = A[\\texttt{idx}_A]$ is the smallest element in $A$ and $B$ not already in $C$, $C[1:i']$ contains the smallest $i'$ elements in $A$ and $B$ sorted in ascending order and $A[\\texttt{idx}_A']$ and $B[\\texttt{idx}_B']$ are the smallest values of subarrays $A[\\texttt{idx}_A':n]$ and $B[\\texttt{idx}_B':m]$ respectively not already in $C[1:i']$."
   ]
  },
  {
   "cell_type": "markdown",
   "metadata": {},
   "source": [
    "$\\texttt{CASE}\\quad A[\\texttt{idx}_A] \\ge B[\\texttt{idx}_B]$\n",
    "\n",
    "By symmetry."
   ]
  },
  {
   "cell_type": "markdown",
   "metadata": {},
   "source": [
    "After $i + 1$ iterations, the lesser value of $A[idx_A]$ and $B[idx_B]$ is copied over to $C$ and the respective $idx$ is incremented (the head of the array is advanced). If we say without loss of generality that $A[idx_A]$ is the lesser value then it becomes $A[idx_A + 1]$. Since the arrays are sorted and the smallest element of $A$ was just copied over to $C$, $A[idx_A + 1]$ is now the smallest element of $A$. $C$ now contains the smallest $i + 1$ elements from $A$ and $B$."
   ]
  },
  {
   "cell_type": "markdown",
   "metadata": {},
   "source": [
    "$\\textbf{Postcondition}$\n",
    "\n",
    "It must be shown that if both the $\\texttt{condition}$ is false and the $\\texttt{invariant}$ is true then the $\\texttt{postcondition}$ is true."
   ]
  },
  {
   "cell_type": "markdown",
   "metadata": {},
   "source": [
    "Assume that the $\\texttt{condition}$ is false:\n",
    "\n",
    "$\\lnot(i \\lt n + m + 1) \\implies i \\not\\lt n + m + 1 \\implies i \\ge n + m + 1$\n",
    "\n",
    "Assume the $\\texttt{invariant}$ is true:\n",
    "\n",
    "1\\. $1 \\le \\texttt{idx}_A, \\texttt{idx}_B \\le i \\le n + m + 1$ <br>\n",
    "2\\. $C[1:i - 1]$ contains the $i - 1$ smallest values of arrays $A$ and $B$ sorted in ascending order <br>\n",
    "3\\. $A[\\texttt{idx}_A]$ and $B[\\texttt{idx}_B]$ are the smallest values of subarrays $A[\\texttt{idx}_A:n]$ and $B[\\texttt{idx}_B:m]$ respectively not already in $C[1:i - 1]$\n",
    "\n",
    "Show that the $\\texttt{postcondition}$ is true.\n",
    "\n",
    "1\\. $i \\ge n + m + 1 \\land i \\le n + m + 1 \\iff i = n + m + 1$ <br>\n",
    "2\\. $C[1:i - 1] = C[1:(n + m + 1) - 1]$ contains the $(n + m + 1) - 1$ smallest values of arrays $A$ and $B$ sorted in ascending order <br>\n",
    "3\\. $N = A[n + 1]$ and $M = B[m + 1]$ are the smallest values of subarrays $A[\\texttt{idx}_A:n]$ and $B[\\texttt{idx}_B:m]$ respectively not already in $C[1:(n + m + 1) - 1]$"
   ]
  },
  {
   "cell_type": "markdown",
   "metadata": {},
   "source": [
    "$\\textbf{Termination}$"
   ]
  },
  {
   "cell_type": "markdown",
   "metadata": {},
   "source": [
    "It must be shown that there is some value $\\texttt{DF}_0$ past which $\\texttt{loop variant}$ strictly decreases"
   ]
  },
  {
   "cell_type": "markdown",
   "metadata": {},
   "source": [
    "The quantity is $n + m - i$ nonnegative. $\\texttt{DF}_0 = 0$\n",
    "\n",
    "Regardless of the case, $i$ is incremented on every iteration.\n",
    "\n",
    "$n + m - (i + 1) \\lt n + m - i$"
   ]
  },
  {
   "cell_type": "markdown",
   "metadata": {},
   "source": [
    "---"
   ]
  },
  {
   "cell_type": "markdown",
   "metadata": {},
   "source": [
    "## Complexity"
   ]
  },
  {
   "cell_type": "markdown",
   "metadata": {},
   "source": [
    "```c\n",
    "SORTED_ARRAY_MERGE(A, B, n, m)\n",
    "11    for i = 1 to n + m\n",
    "12        if A[idx_A] < B[idx_B]\n",
    "13            C[i] = A[idx_A]\n",
    "14            idx_A++\n",
    "15        else\n",
    "16            C[i] = B[idx_B]\n",
    "17            idx_B++\n",
    "18    return C\n",
    "```"
   ]
  },
  {
   "cell_type": "markdown",
   "metadata": {},
   "source": [
    "### Time"
   ]
  },
  {
   "cell_type": "markdown",
   "metadata": {},
   "source": [
    "$T(n, m) = \\Theta(n + m)$\n",
    "\n",
    "If we make the assumption that $n \\ge m$ then we have\n",
    "\n",
    "$T(n) = O(n + n) = O(n)$"
   ]
  },
  {
   "cell_type": "markdown",
   "metadata": {},
   "source": [
    "### Space"
   ]
  },
  {
   "cell_type": "markdown",
   "metadata": {},
   "source": [
    "$S(n) = \\Theta(n + m)$ (the size of the memory allocation required for the output array)\n",
    "\n",
    "If we make the assumption that $n \\ge m$ then we have\n",
    "\n",
    "$S(n) = O(n + n) = O(n)$"
   ]
  },
  {
   "cell_type": "markdown",
   "metadata": {},
   "source": [
    "---"
   ]
  },
  {
   "cell_type": "markdown",
   "metadata": {},
   "source": [
    "## Implementations"
   ]
  },
  {
   "cell_type": "markdown",
   "metadata": {},
   "source": [
    "### C"
   ]
  },
  {
   "cell_type": "markdown",
   "metadata": {},
   "source": [
    "```c\n",
    "/*    merge_two-sorted-arrays.c (also known as \"sorted-array merge\")\n",
    " */\n",
    "\n",
    "#include <stdio.h> // printf\n",
    "\n",
    "\n",
    "/**************************************************\n",
    " *\n",
    " *          auxiliary\n",
    " *\n",
    " **************************************************/\n",
    "void print_arr (int A[], int n, char *str) {\n",
    "  printf(\"%s: \", str);\n",
    "  for (int i = 0; i < n; i++)\n",
    "    printf(\"%d \", A[i]);\n",
    "  printf(\"\\n\");\n",
    "}\n",
    "\n",
    "void swap (int *a, int *b) {\n",
    "  int t = *a;\n",
    "     *a = *b;\n",
    "     *b =  t;\n",
    "}\n",
    "\n",
    "\n",
    "/**************************************************\n",
    " *\n",
    " *          SORTED ARRAY MERGE\n",
    " *\n",
    " **************************************************/\n",
    "void sorted_array_merge (int A[], int B[], int C[], int n, int m) {\n",
    "  int idx_A = 0;\n",
    "  int idx_B = 0;\n",
    "\n",
    "  for (int i = 0; i < n + m; i++) {\n",
    "    // if A is not exhausted and either B is exhaused or the elem of A is less than the elem of B\n",
    "    if (idx_A < n && (idx_B >= m || A[idx_A] < B[idx_B]))\n",
    "      C[i] = A[idx_A++];\n",
    "    // if A is exhausted or if the elem of A is not less than the elem of B\n",
    "    else\n",
    "      C[i] = B[idx_B++];\n",
    "  }\n",
    "}\n",
    "\n",
    "\n",
    "/**************************************************\n",
    " *\n",
    " *          driver\n",
    " *\n",
    " **************************************************/\n",
    "int main (void) {\n",
    "  int A[] = {1, 2, 3, 3,  4};\n",
    "  int B[] = {2, 4, 6, 8, 10};\n",
    "  int   n = sizeof(A) / sizeof(A[0]);\n",
    "  int   m = sizeof(B) / sizeof(B[0]);\n",
    "  int C[n + m];\n",
    "\n",
    "  print_arr(A, n,     \"A\");\n",
    "  print_arr(B, m,     \"B\");\n",
    "  sorted_array_merge(A, B, C, n, m);\n",
    "  print_arr(C, n + m, \"C\");\n",
    "\n",
    "  return 0;\n",
    "}\n",
    "```"
   ]
  },
  {
   "cell_type": "markdown",
   "metadata": {},
   "source": [
    "### Python"
   ]
  },
  {
   "cell_type": "markdown",
   "metadata": {},
   "source": [
    "```py\n",
    "# sorted_array_merge.py\n",
    "\n",
    "def sorted_array_merge (A, B, C, n, m):\n",
    "  idx_A, idx_B = 0, 0\n",
    "\n",
    "  for _ in range(n + m):\n",
    "    if idx_A < n and (idx_B >= m or A[idx_A] < B[idx_B]):\n",
    "      C.append(A[idx_A])\n",
    "      idx_A += 1\n",
    "    else:\n",
    "      C.append(B[idx_B])\n",
    "      idx_B += 1\n",
    "\n",
    "A = [1, 2, 3, 3,  4]\n",
    "n = len(A)\n",
    "B = [2, 4, 6, 8, 10]\n",
    "m = len(B)\n",
    "C = []\n",
    "\n",
    "print(A)\n",
    "print(B)\n",
    "sorted_array_merge(A, B, C, n, m)\n",
    "print(C)\n",
    "```"
   ]
  },
  {
   "cell_type": "markdown",
   "metadata": {},
   "source": [
    "---"
   ]
  },
  {
   "cell_type": "markdown",
   "metadata": {},
   "source": [
    "## Acknowledgments"
   ]
  },
  {
   "cell_type": "markdown",
   "metadata": {},
   "source": [
    "* https://www.geeksforgeeks.org/merge-two-sorted-arrays/"
   ]
  },
  {
   "cell_type": "markdown",
   "metadata": {},
   "source": [
    "---"
   ]
  }
 ],
 "metadata": {
  "language_info": {
   "name": "python"
  }
 },
 "nbformat": 4,
 "nbformat_minor": 2
}
