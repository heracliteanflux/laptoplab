{
 "cells": [
  {
   "cell_type": "markdown",
   "metadata": {},
   "source": [
    "# $k$-Way Merge"
   ]
  },
  {
   "cell_type": "markdown",
   "metadata": {},
   "source": [
    "---"
   ]
  },
  {
   "cell_type": "markdown",
   "metadata": {},
   "source": [
    "## Contents\n",
    "```{contents}\n",
    "```"
   ]
  },
  {
   "cell_type": "markdown",
   "metadata": {},
   "source": [
    "---"
   ]
  },
  {
   "cell_type": "markdown",
   "metadata": {},
   "source": [
    "$k$-way merge is useful for\n",
    "* merging $k$ sorted arrays into a single sorted array\n",
    "* finding the $k$-th smallest (or largest) element in a number of sorted arrays"
   ]
  },
  {
   "cell_type": "markdown",
   "metadata": {},
   "source": [
    "---"
   ]
  },
  {
   "cell_type": "markdown",
   "metadata": {},
   "source": [
    "There are $k$ arrays of length $n$ sorted in ascending order."
   ]
  },
  {
   "cell_type": "markdown",
   "metadata": {},
   "source": [
    "`SORTED_ARRAY_MERGE` takes $T(n) = \\Theta(n)$ time.\n",
    "\n",
    "The first merge operation takes two arrays of length $n$ and requires $\\Theta(n)$ time.\n",
    "\n",
    "The last merge operation takes an array of length $(k - 1)n$ and an array of length $n$."
   ]
  },
  {
   "cell_type": "markdown",
   "metadata": {},
   "source": [
    "```c\n",
    "for i = 1 to kn         // kn times\n",
    "    k - 1 comparisons   // k cost\n",
    "```"
   ]
  },
  {
   "cell_type": "markdown",
   "metadata": {},
   "source": [
    "Divide and conquer\n",
    "\n",
    "divide: k/2-way merge\n",
    "combine: `SORTED_ARRAY_MERGE`\n",
    "\n",
    "$T(k, n) = 2T(k/2, n) + \\Theta(n)$\n",
    "\n",
    "$a = 2, b = 2, d = 1, 1 = \\log_2 2$"
   ]
  },
  {
   "cell_type": "markdown",
   "metadata": {},
   "source": [
    "---"
   ]
  },
  {
   "cell_type": "markdown",
   "metadata": {},
   "source": [
    "## Acknowledgments"
   ]
  },
  {
   "cell_type": "markdown",
   "metadata": {},
   "source": [
    "* https://www.geeksforgeeks.org/merge-k-sorted-arrays/\n",
    "* https://www.baeldung.com/cs/2-way-vs-k-way-merge\n",
    "* https://medium.com/@vidyasagarr7/mastering-the-k-way-merge-algorithmic-pattern-for-technical-interviews-6db0e00a049f"
   ]
  },
  {
   "cell_type": "markdown",
   "metadata": {},
   "source": [
    "---"
   ]
  }
 ],
 "metadata": {
  "language_info": {
   "name": "python"
  }
 },
 "nbformat": 4,
 "nbformat_minor": 2
}
