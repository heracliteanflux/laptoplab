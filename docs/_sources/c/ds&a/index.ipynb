{
 "cells": [
  {
   "cell_type": "markdown",
   "metadata": {},
   "source": [
    "# Data Structures & Algorithms"
   ]
  },
  {
   "cell_type": "markdown",
   "metadata": {},
   "source": [
    "---"
   ]
  },
  {
   "cell_type": "markdown",
   "metadata": {},
   "source": [
    "## Contents\n",
    "```{contents}\n",
    "```"
   ]
  },
  {
   "cell_type": "markdown",
   "metadata": {},
   "source": [
    "---"
   ]
  },
  {
   "cell_type": "markdown",
   "metadata": {},
   "source": [
    "## Sections\n",
    "```{tableofcontents}\n",
    "```"
   ]
  },
  {
   "cell_type": "markdown",
   "metadata": {},
   "source": [
    "---"
   ]
  },
  {
   "cell_type": "markdown",
   "metadata": {},
   "source": [
    "## Resources"
   ]
  },
  {
   "cell_type": "markdown",
   "metadata": {},
   "source": [
    "### Courses"
   ]
  },
  {
   "cell_type": "markdown",
   "metadata": {},
   "source": [
    "[ [y](https://www.youtube.com/playlist?list=PLi8jPXlFnqShneunn4VwNPbim6Q8ag_dU) ] PSU CMPSC 465\n",
    "\n",
    "Carnegie Mellon\n",
    "* [ [course](https://www.cs.cornell.edu/courses/cs2112/2021fa/lectures/) ] CS 2112 (Fall 2021)\n",
    "* [ [course](https://www.cs.cornell.edu/courses/cs2112/2020fa/lectures/) ] CS 2112 (Fall 2020)\n",
    "* [ [course](https://www.csd.cs.cmu.edu/15351-algorithms-and-advanced-data-structures) ] 15-351 Algorithms and Advanced Data Structures\n",
    "* [ [course](https://www.cs.cmu.edu/~eugene/teach/algs03b/) ] COT 6405 Algorithms (Fall 2003)\n",
    "\n",
    "[ [course](https://web.ecs.syr.edu/~royer/cis675/) ] Syracuse University's CIS 675 Design and Analysis of Algorithms (Spring 2019)\n",
    "\n",
    "[ [course](https://courses.grainger.illinois.edu/CS476/fa2022/) ] University of Illinois Urbana-Champaign's CS 476 Program Verification (Fall 2022)"
   ]
  },
  {
   "cell_type": "markdown",
   "metadata": {},
   "source": [
    "### YouTube"
   ]
  },
  {
   "cell_type": "markdown",
   "metadata": {},
   "source": [
    "Algorithms Lab [Data Structures & Algorithms](https://www.youtube.com/playlist?list=PLMDFPuH4ZxUFGC5ICUu8xstOxQIizMgX2)\n",
    "* [ [y](https://www.youtube.com/watch?v=pQ9ux_3FWOU) ] `02-23-2021` \"Binary search and recursion\"."
   ]
  },
  {
   "cell_type": "markdown",
   "metadata": {},
   "source": [
    "Coding with John\n",
    "* [ [y](https://www.youtube.com/watch?v=h8eyY7dIiN4) ] `11-30-2021` \"Quicksort Sort Algorithm in Java - Full Tutorial With Source\"."
   ]
  },
  {
   "cell_type": "markdown",
   "metadata": {},
   "source": [
    "Jan Verschelde [ [CS 401/MCS 401: Computer Algorithms I](https://www.youtube.com/playlist?list=PLGMCOm5grOW7BZ2jQt7TAmQ5eAEiOsP8p) ]\n",
    "* [ [y](https://www.youtube.com/watch?v=jqwW-0fY99c) ] `06-13-2024` Jan Verschelde. \"Implementing Algorithms by Selecting Data Structures, applied to the Gale-Shapley Algorithm\"."
   ]
  },
  {
   "cell_type": "markdown",
   "metadata": {},
   "source": [
    "More\n",
    "* [ [y](https://www.youtube.com/watch?v=WprjBK0p6rw) ] `03-02-2021` CuriousWalk. \"Quick Sort Algorithm\".\n",
    "* [ [y](https://www.youtube.com/watch?v=pJ5nbQzf570) ] `03-01-2024` DrOfEng. \"Bubble Sort, Big O, O(N^2), Recurrence Relation - Discrete Mathematics\".\n",
    "* [ [y](https://www.youtube.com/watch?v=ALPWOiUKIjY) ] `03-15-2024` ForrestKnight. \"How Data Structures & Algorithms are Actually Used\".\n",
    "* [ [y](https://www.youtube.com/watch?v=CB8JPjg_3cM) ] `10-16-2020` Keep On Coding. \"Big O Notation - Code Examples\".\n",
    "* [ [y](https://www.youtube.com/watch?v=4HkIai9oiT0) ] `03-13-2014` jadavparesh808. \"Analysis of Non recursive Algorithms\".\n",
    "* [ [y](https://www.youtube.com/watch?v=2BdBfsXbST8) ] `12-30-2019` Lex Fridman. \"Donald Knuth: Algorithms, Complexity, and The Art of Computer Programming | Lex Fridman Podcast #62\".\n",
    "* [ [y](https://www.youtube.com/watch?v=cCKOl5li6YM) ] `08-22-2021` Nemean. \"How Karatsuba's algorithm gave us new ways to multiply\".\n",
    "* [ [y](https://www.youtube.com/watch?v=VX290sS5jJ8) ] `03-24-2020` Shaun Sullivan. \"6.7 Loop Invariants\".\n",
    "* [ [y](https://www.youtube.com/watch?v=7VHG6Y2QmtM) ] `05-09-2023` strager. \"Big O myths busted! (Time complexity is complicated)\"."
   ]
  },
  {
   "cell_type": "markdown",
   "metadata": {},
   "source": [
    "---"
   ]
  },
  {
   "cell_type": "markdown",
   "metadata": {},
   "source": [
    "## Texts"
   ]
  },
  {
   "cell_type": "markdown",
   "metadata": {},
   "source": [
    "[ [w](https://en.wikipedia.org/wiki/Introduction_to_Algorithms) ] `2022` Cormen, Thomas H. et al. _Introduction to Algorithms_. 4th Ed. [MIT Press](https://mitpress.mit.edu/9780262046305/introduction-to-algorithms/).\n",
    "\n",
    "`2006` Dasgupta, Sanjoy; Christos Papadimitriou; & Umesh Vazirani. _Algorithms_. McGraw-Hill Education.\n",
    "\n",
    "[ [h](https://www.algorist.com/) ] `2020` Skiena, Steven S. _The Algorithm Design Manual_. Springer: Texts in Computer Science.\n",
    "\n",
    "`----` Bentley, Jon. _Programming Pearls_. 2e. Addison-Wesley Professional.\n",
    "\n",
    "[ [h](https://greenteapress.com/wp/think-data-structures/) ][ [g](https://github.com/AllenDowney/ThinkDataStructures) ] `2017` Downey, Allen B. _Think Data Structures: Algorithms and Information Retrieval in Java_. O'Reilly.\n",
    "\n",
    "[ [h](https://bcs.wiley.com/he-bcs/Books?action=index&itemId=1118290275&bcsId=8029) ] `2013` Goodrich, Michael T.; Roberto Tamassia; & Michael H. Goldwasser. _Data Structures and Algorithms in Python_ [Wiley](https://www.wiley.com/en-us/Data+Structures+and+Algorithms+in+Python%2C+1st+Edition-p-9781118476734).\n",
    "\n",
    "`1989` R. Graham, D. Knuth, and O. Patashnik. _Concrete Mathematics_. Addison-Wesley.\n",
    "\n",
    "`2021` Heineman, George. _Learning Algorithms: A Programmer's Guide to Writing Better Code_. O'Reilly.\n",
    "\n",
    "`2006` J. Kleinberg and E. Tardos. _Algorithm Design_. Addison Wesley.\n",
    "\n",
    "`2022` Kubica, Jeremy. _Data Structures the Fun Way: An Amusing Adventure with Coffee-Filled Examples_. [No Starch Press](https://nostarch.com/data-structures-fun-way).\n",
    "\n",
    "`2021` La Rocca, Marcello. _Advanced Algorithms and Data Structures_. Manning.\n",
    "\n",
    "[ [h](https://opendatastructures.org/) ][ [g](https://github.com/patmorin/ods) ] Morin, Pat. _Open Data Structures_.\n",
    "\n",
    "`2019` Needham, Mark & Amy E. Hodler. _Graph Algorithms: Practical Examples in Apache Spark & Neo4j_. O'Reilly.\n",
    "\n",
    "[ [h](https://algs4.cs.princeton.edu/home/) ] `2011` Sedgewick, Robert & Kevin Wayne. _Algorithms_. 4th Ed. Addison-Wesley Professional.\n",
    "\n",
    "`2022` Sweigart, Al. _The Recursive Book of Recursion: Ace the Coding Interview with Python and JavaScript_. No Starch Press.\n",
    "\n",
    "`2022` Tahirovic, Emin; Dzejla Medjedovic; & Ines Dedovic. _Algorithms and Data Structures for Massive Datasets_. Manning.\n",
    "\n",
    "`2021` Tuckfield, Bradford. _Dive Into Algorithms: A Pythonic Adventure for the Intrepid Beginner_. No Starch Press.\n",
    "\n",
    "`2023` Zingaro, Dan. _Algorithmic Thinking_. 2e. [No Starch Press](https://nostarch.com/algorithmic-thinking-2nd-edition)."
   ]
  },
  {
   "cell_type": "markdown",
   "metadata": {},
   "source": [
    "---"
   ]
  },
  {
   "cell_type": "markdown",
   "metadata": {},
   "source": [
    "## Terms"
   ]
  },
  {
   "cell_type": "markdown",
   "metadata": {},
   "source": [
    "* [ [w](https://en.wikipedia.org/wiki/Abstraction_(computer_science)) ] Abstraction\n",
    "* [ [w](https://en.wikipedia.org/wiki/Algebraic_data_type) ] Algebraic Data Type\n",
    "* [ [w](https://en.wikipedia.org/wiki/Algorithm) ] Algorithm\n",
    "* [ [w](https://en.wikipedia.org/wiki/Analysis_of_algorithms) ] Analysis of Algorithms\n",
    "* [ [w](https://en.wikipedia.org/wiki/Asymptotic_analysis) ] Asymptotic Analysis\n",
    "* [ [w](https://en.wikipedia.org/wiki/Asymptotic_computational_complexity) ] Asymptotic Computational Complexity\n",
    "* [ [w](https://en.wikipedia.org/wiki/Big_O_notation) ] Big O Notation\n",
    "* [ [w](https://en.wikipedia.org/wiki/Bit_field) ] Bit Field\n",
    "* [ [w](https://en.wikipedia.org/wiki/Collection_(abstract_data_type)) ] Collection\n",
    "* [ [w](https://en.wikipedia.org/wiki/Computational_complexity) ] Computational Complexity\n",
    "* [ [w](https://en.wikipedia.org/wiki/Computational_problem) ] Computational Problem\n",
    "* [ [w](https://en.wikipedia.org/wiki/Container_(abstract_data_type)) ] Container\n",
    "* [ [w](https://en.wikipedia.org/wiki/Counting_problem_(complexity)) ] Counting Problem\n",
    "* [ [w](https://en.wikipedia.org/wiki/Divide-and-conquer_algorithm) ] Divide and Conquer\n",
    "* [ [w](https://en.wikipedia.org/wiki/Dynamic_array) ] Dynamic Array\n",
    "* [ [w](https://en.wikipedia.org/wiki/FIFO_(computing_and_electronics)) ] First In First Out (FIFO)\n",
    "* [ [w](https://en.wikipedia.org/wiki/Function_object) ] Function Object\n",
    "* [ [w](https://en.wikipedia.org/wiki/Function_pointer) ] Function Pointer\n",
    "* [ [w](https://en.wikipedia.org/wiki/Greedy_algorithm) ] Greedy Algorithm\n",
    "* [ [w](https://en.wikipedia.org/wiki/Hardness_of_approximation) ] Hardness of Approximation\n",
    "* [ [w](https://en.wikipedia.org/wiki/In-place_algorithm) ] In-Place Algorithm\n",
    "* [ [w](https://en.wikipedia.org/wiki/Iterator) ] Iterator\n",
    "* [ [w](https://en.wikipedia.org/wiki/Lazy_evaluation) ] Lazy Evaluation\n",
    "* [ [w](https://en.wikipedia.org/wiki/Loop_fission_and_fusion) ] Loop Fission\n",
    "* [ [w](https://en.wikipedia.org/wiki/Loop_fission_and_fusion) ] Loop Fusion\n",
    "* [ [w](https://en.wikipedia.org/wiki/Loop_invariant) ] Loop Invariant\n",
    "* [ [w](https://en.wikipedia.org/wiki/Master_theorem_(analysis_of_algorithms)) ] Master Theorem\n",
    "* [ [w](https://en.wikipedia.org/wiki/Memoization) ] Memoization\n",
    "* [ [w](https://en.wikipedia.org/wiki/Metaprogramming) ] Metaprogramming\n",
    "* [ [w](https://en.wikipedia.org/wiki/Method_of_undetermined_coefficients) ] Method of Undetermined Coefficients\n",
    "* [ [w](https://en.wikipedia.org/wiki/Name%E2%80%93value_pair) ] Name-Value Pair\n",
    "* [ [w](https://en.wikipedia.org/wiki/Prefix_sum) ] Prefix Sum\n",
    "* [ [w](https://en.wikipedia.org/wiki/Pseudocode) ] Pseudocode\n",
    "* [ [w](https://en.wikipedia.org/wiki/Recurrence_relation) ] Recurrence Relation\n",
    "* [ [w](https://en.wikipedia.org/wiki/Recursion) ] Recursion\n",
    "* [ [w](https://en.wikipedia.org/wiki/Sentinel_value) ] Sentinel Value\n",
    "* [ [w](https://en.wikipedia.org/wiki/Set_(abstract_data_type)) ] Set\n",
    "* [ [w](https://en.wikipedia.org/wiki/Stirling%27s_approximation) ] Stirling's Approximation\n",
    "* [ [w](https://en.wikipedia.org/wiki/Stream_(abstract_data_type)) ] Stream\n",
    "* [ [w](https://en.wikipedia.org/wiki/String_(computer_science)) ] String\n",
    "* [ [w](https://en.wikipedia.org/wiki/Syntactic_sugar) ] Syntactic Sugar\n",
    "* [ [w](https://en.wikipedia.org/wiki/Template_metaprogramming) ] Template Metaprogramming\n",
    "* [ [w](https://en.wikipedia.org/wiki/Thunk) ] Thunk\n",
    "* [ [w](https://en.wikipedia.org/wiki/Time_complexity) ] Time Complexity\n",
    "* [ [w](https://en.wikipedia.org/wiki/Value_semantics) ] Value Semantics\n",
    "* [ [w](https://en.wikipedia.org/wiki/Worst-case_complexity) ] Worst-Case Complexity"
   ]
  },
  {
   "cell_type": "markdown",
   "metadata": {},
   "source": [
    "---"
   ]
  }
 ],
 "metadata": {
  "language_info": {
   "name": "python"
  }
 },
 "nbformat": 4,
 "nbformat_minor": 2
}
