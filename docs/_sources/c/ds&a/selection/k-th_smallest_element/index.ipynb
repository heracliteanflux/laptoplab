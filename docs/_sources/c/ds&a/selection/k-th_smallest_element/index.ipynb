{
 "cells": [
  {
   "cell_type": "markdown",
   "metadata": {},
   "source": [
    "# Naive Selection: $k$-th smallest element"
   ]
  },
  {
   "cell_type": "markdown",
   "metadata": {},
   "source": [
    "---"
   ]
  },
  {
   "cell_type": "markdown",
   "metadata": {},
   "source": [
    "## Contents\n",
    "```{contents}\n",
    "```"
   ]
  },
  {
   "cell_type": "markdown",
   "metadata": {},
   "source": [
    "---"
   ]
  },
  {
   "cell_type": "markdown",
   "metadata": {},
   "source": [
    "**Approaches to the selection problem**\n",
    "\n",
    "1\\. The $k$-th smallest element will be the element at index $k$ in an array that is sorted in ascending order. Sort the array in $\\Theta(n \\log n)$ time and then lookup the $k$-th element. This approach does some unnecessary work. We don't need the entire array to be sorted, just the first $k$ elements. For example, if we had an array of $1000$ elements and we wanted to find the third smallest one, following this approach we would spend a lot of time sorting irrelevant elements.\n",
    "\n",
    "2\\. An improved approach sorts only the necessary elements and follows from the observation that finding the minimum element in the array can be thought of as a special case of the selection problem where $k = 0$. In this case a simple linear time algorithm can be expressed as follows.\n",
    "\n",
    "```c\n",
    " INPUT    an unsorted array A\n",
    "OUTPUT    the index of the smallest element\n",
    "\n",
    "FIND_MIN (A, n)\n",
    "1    curr_min = A[0]\n",
    "2    curr_idx = 0\n",
    "3\n",
    "4    for i = 1 to n\n",
    "5        if A[i] < curr_min\n",
    "6            curr_min = A[i]\n",
    "7            curr_idx = i\n",
    "8\n",
    "9    return curr_idx\n",
    "```\n",
    "\n",
    "Following this algorithm, we have the smallest element. We can find the $k$-th smallest element by calling this algorithm $k$ times, skipping over previously found values. A simple way to perform this skipping is to create a header pointer to the front of the array and then swap the located minimum value with the value located at the header pointer, then advance the header pointer.\n",
    "\n",
    "```c\n",
    " INPUT    an unsorted array A and a pointer to the \"head\"\n",
    "OUTPUT    the index of the smallest element\n",
    "\n",
    "FIND_MIN (A, n)\n",
    "1    curr_min = A[head]\n",
    "2    curr_idx = head\n",
    "3\n",
    "4    for i = head to n\n",
    "5        if A[i] < curr_min\n",
    "6            curr_min = A[i]\n",
    "7            curr_idx = i\n",
    "8\n",
    "9    return curr_idx\n",
    "\n",
    " INPUT    an unsorted array A and an integer k\n",
    "OUTPUT    the value of the k-th smallest element\n",
    "\n",
    "SELECT (A, k)\n",
    "1    for i = 0 to k\n",
    "2        idx = FIND_MIN(A, i)\n",
    "3        swap(A[idx], A[i])\n",
    "4\n",
    "5    return A[k]\n",
    "```\n",
    "\n",
    "If we were to run this algorithm with $k = n$ then this algorithm would just be selection sort. Following this algorithm, the input array will be partially sorted (i.e., the first $k$ elements will be sorted) and we will have the $k$-th smallest element."
   ]
  },
  {
   "cell_type": "markdown",
   "metadata": {},
   "source": [
    "**Complexity**\n",
    "\n",
    "`FIND_MIN` requires $\\Theta(n)$ time and it is called $k$ times, so the total time complexity is $\\Theta(kn)$.\n",
    "\n",
    "We can better than this (at least in expectation) by using a partial quicksort rather than a partial selection sort, which is what leads to quickselect."
   ]
  },
  {
   "cell_type": "markdown",
   "metadata": {},
   "source": [
    "---"
   ]
  }
 ],
 "metadata": {
  "language_info": {
   "name": "python"
  }
 },
 "nbformat": 4,
 "nbformat_minor": 2
}
