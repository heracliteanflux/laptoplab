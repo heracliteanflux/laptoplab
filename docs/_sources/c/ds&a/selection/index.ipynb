{
 "cells": [
  {
   "cell_type": "markdown",
   "metadata": {},
   "source": [
    "# Select"
   ]
  },
  {
   "cell_type": "markdown",
   "metadata": {},
   "source": [
    "---"
   ]
  },
  {
   "cell_type": "markdown",
   "metadata": {},
   "source": [
    "## Contents\n",
    "```{contents}\n",
    "```"
   ]
  },
  {
   "cell_type": "markdown",
   "metadata": {},
   "source": [
    "---"
   ]
  },
  {
   "cell_type": "markdown",
   "metadata": {},
   "source": [
    "## The Selection Problem"
   ]
  },
  {
   "cell_type": "markdown",
   "metadata": {},
   "source": [
    "The selection problem seeks to select the $k$-th smallest (largest) element from an unsorted array of elements, and is useful for finding the median, the 25th percentile, say, from a list efficiently, or for indexing into an unsorted array as though it were sorted.\n",
    "\n",
    "Selection problem: given an unsorted array $A$ of $n$ elements and a comparison operation between the elements, return the value of the $k$-th smallest element where $k \\lt n$."
   ]
  },
  {
   "cell_type": "markdown",
   "metadata": {},
   "source": [
    "---"
   ]
  },
  {
   "cell_type": "markdown",
   "metadata": {},
   "source": [
    "## Sections\n",
    "```{tableofcontents}\n",
    "```"
   ]
  },
  {
   "cell_type": "markdown",
   "metadata": {},
   "source": [
    "---"
   ]
  },
  {
   "cell_type": "markdown",
   "metadata": {},
   "source": [
    "## Figures"
   ]
  },
  {
   "cell_type": "markdown",
   "metadata": {},
   "source": [
    "* [ [w](https://en.wikipedia.org/wiki/Robert_W._Floyd) ] `1936-2001` Floyd, Robert W.\n",
    "* [ [w](https://en.wikipedia.org/wiki/Tony_Hoare) ] `1934-----` Hoare, Tony\n",
    "* [ [w](https://en.wikipedia.org/wiki/Ron_Rivest) ] `1947-----` Rivest, Ron"
   ]
  },
  {
   "cell_type": "markdown",
   "metadata": {},
   "source": [
    "---"
   ]
  },
  {
   "cell_type": "markdown",
   "metadata": {},
   "source": [
    "## Terms"
   ]
  },
  {
   "cell_type": "markdown",
   "metadata": {},
   "source": [
    "* [ [w](https://en.wikipedia.org/wiki/Floyd%E2%80%93Rivest_algorithm) ] Floyd-Rivest Algorithm\n",
    "  * https://www.geeksforgeeks.org/floyd-rivest-algorithm/\n",
    "* [ [w](https://en.wikipedia.org/wiki/Introselect) ] Introselect (\"Introspective Selection\")\n",
    "* [ [w](https://en.wikipedia.org/wiki/Median_of_medians) ] Median of Medians\n",
    "* [ [w](https://en.wikipedia.org/wiki/Order_statistic) ] Order Statistic\n",
    "* [ [w](https://en.wikipedia.org/wiki/Quickselect) ] Quickselect\n",
    "  * https://www.geeksforgeeks.org/quickselect-algorithm/\n",
    "* [ [w](https://en.wikipedia.org/wiki/Selection_algorithm) ] Selection Algorithm\n",
    "  * https://www.geeksforgeeks.org/selection-algorithms/"
   ]
  },
  {
   "cell_type": "markdown",
   "metadata": {},
   "source": [
    "---"
   ]
  }
 ],
 "metadata": {
  "language_info": {
   "name": "python"
  }
 },
 "nbformat": 4,
 "nbformat_minor": 2
}
