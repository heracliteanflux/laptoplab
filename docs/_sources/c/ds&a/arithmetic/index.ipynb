{
 "cells": [
  {
   "cell_type": "markdown",
   "metadata": {},
   "source": [
    "# Arithmetic"
   ]
  },
  {
   "cell_type": "markdown",
   "metadata": {},
   "source": [
    "---"
   ]
  },
  {
   "cell_type": "markdown",
   "metadata": {},
   "source": [
    "## Contents\n",
    "```{contents}\n",
    "```"
   ]
  },
  {
   "cell_type": "markdown",
   "metadata": {},
   "source": [
    "---"
   ]
  },
  {
   "cell_type": "markdown",
   "metadata": {},
   "source": [
    "## Figures"
   ]
  },
  {
   "cell_type": "markdown",
   "metadata": {},
   "source": [
    "* [ [w](https://en.wikipedia.org/wiki/Stephen_Cook) ] `1939-----` Cook, Stephen\n",
    "* [ [w](https://en.wikipedia.org/wiki/Martin_F%C3%BCrer) ] `---------` Fürer, Martin\n",
    "* [ [w](https://en.wikipedia.org/wiki/Anatoly_Karatsuba) ] `1937-2008` Karatsuba, Anatoly\n",
    "* [ [w](https://en.wikipedia.org/wiki/D._H._Lehmer) ] `1905-1991` Lehmer, D. H.\n",
    "* [ [w](https://en.wikipedia.org/wiki/Hendrik_Lenstra) ] `1949-----` Lenstra, Hendrik\n",
    "* [ [w](https://en.wikipedia.org/wiki/John_Pollard_(mathematician)) ] `1941-----` Pollard, John\n",
    "* [ [w](https://en.wikipedia.org/wiki/Arnold_Sch%C3%B6nhage) ] `1934-----` Schönhage, Arnold\n",
    "* [ [w](https://en.wikipedia.org/wiki/Peter_Shor) ] `1959-----` Shor, Peter\n",
    "* [ [w](https://en.wikipedia.org/wiki/Volker_Strassen) ] `1936-----` Strassen, Volker\n",
    "* [ [w](https://en.wikipedia.org/wiki/Andrei_Toom) ] `1942-2002` Toom, Andrei"
   ]
  },
  {
   "cell_type": "markdown",
   "metadata": {},
   "source": [
    "---"
   ]
  },
  {
   "cell_type": "markdown",
   "metadata": {},
   "source": [
    "## Terms"
   ]
  },
  {
   "cell_type": "markdown",
   "metadata": {},
   "source": [
    "* [ [w](https://en.wikipedia.org/wiki/Ancient_Egyptian_multiplication) ] Ancient Egyptian Multiplication\n",
    "* [ [w](https://en.wikipedia.org/wiki/Binary_GCD_algorithm) ] Binary GCD Algorithm\n",
    "* [ [w](https://en.wikipedia.org/wiki/Binary_multiplier) ] Binary Multiplier\n",
    "* [ [w](https://en.wikipedia.org/wiki/Dadda_multiplier) ] Dadda Multiplier\n",
    "* [ [w](https://en.wikipedia.org/wiki/Discrete_logarithm) ] Discrete Logarithm\n",
    "* [ [w](https://en.wikipedia.org/wiki/Division_algorithm) ] Division Algorithm\n",
    "* [ [w](https://en.wikipedia.org/wiki/Dixon%27s_factorization_method) ] Dixon's Factorization Method\n",
    "* [ [w](https://en.wikipedia.org/wiki/Euclidean_algorithm) ] Euclidean Algorithm\n",
    "* [ [w](https://en.wikipedia.org/wiki/Euclidean_division) ] Euclidean Division\n",
    "* [ [w](https://en.wikipedia.org/wiki/Exponentiation_by_squaring) ] Exponentiation by Squaring\n",
    "* [ [w](https://en.wikipedia.org/wiki/Extended_Euclidean_algorithm) ] Extended Euclidean Algorithm\n",
    "* [ [w](https://en.wikipedia.org/wiki/Integer_factorization) ] Integer Factorization\n",
    "* [ [w](https://en.wikipedia.org/wiki/Karatsuba_algorithm) ] Karatsuba Algorithm\n",
    "* [ [w](https://en.wikipedia.org/wiki/Lattice_multiplication) ] Lattice Multiplication\n",
    "* [ [w](https://en.wikipedia.org/wiki/Lehmer%27s_GCD_algorithm) ] Lehmer's GCD Algorithm\n",
    "* [ [w](https://en.wikipedia.org/wiki/Lenstra_elliptic-curve_factorization) ] Lenstra Elliptic-Curve Factorization\n",
    "* [ [w](https://en.wikipedia.org/wiki/Modular_exponentiation) ] Modular Exponentiation\n",
    "* [ [w](https://en.wikipedia.org/wiki/Multiplication_algorithm) ] Multiplication Algorithm\n",
    "* [ [w](https://en.wikipedia.org/wiki/Grid_method_multiplication) ] Partial Products Algorithm\n",
    "* [ [w](https://en.wikipedia.org/wiki/Pollard%27s_rho_algorithm) ] Pollard's Rho ALgorithm\n",
    "* [ [w](https://en.wikipedia.org/wiki/Prosthaphaeresis) ] Prosthaphaeresis\n",
    "* [ [w](https://en.wikipedia.org/wiki/Sch%C3%B6nhage%E2%80%93Strassen_algorithm) ] Schönhage-Strassen Algorithm\n",
    "* [ [w](https://en.wikipedia.org/wiki/Shor%27s_algorithm) ] Shor's Algorithm\n",
    "* [ [w](https://en.wikipedia.org/wiki/Sieve_of_Eratosthenes) ] Sieve of Eratosthenes\n",
    "* [ [w](https://en.wikipedia.org/wiki/Toom%E2%80%93Cook_multiplication) ] Toom-Cook Multiplication"
   ]
  },
  {
   "cell_type": "markdown",
   "metadata": {},
   "source": [
    "---"
   ]
  }
 ],
 "metadata": {
  "language_info": {
   "name": "python"
  }
 },
 "nbformat": 4,
 "nbformat_minor": 2
}
