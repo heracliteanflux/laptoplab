{
 "cells": [
  {
   "cell_type": "markdown",
   "metadata": {},
   "source": [
    "# Integer Multiplication"
   ]
  },
  {
   "cell_type": "markdown",
   "metadata": {},
   "source": [
    "---"
   ]
  },
  {
   "cell_type": "markdown",
   "metadata": {},
   "source": [
    "## Contents\n",
    "```{contents}\n",
    "```"
   ]
  },
  {
   "cell_type": "markdown",
   "metadata": {},
   "source": [
    "---"
   ]
  },
  {
   "cell_type": "markdown",
   "metadata": {},
   "source": [
    "Conceptually, the multiplication of two integers $a$ and $n$ can be represented as\n",
    "\n",
    "$a \\times n = \\text{sign(n)} \\times (\\underbrace{a + a + \\dotsb + a}_{|n| \\,\\,\\,\\text{times}})$"
   ]
  },
  {
   "cell_type": "markdown",
   "metadata": {},
   "source": [
    "---"
   ]
  },
  {
   "cell_type": "markdown",
   "metadata": {},
   "source": [
    "## Divide and Conquer"
   ]
  },
  {
   "cell_type": "markdown",
   "metadata": {},
   "source": [
    "### D/C 1"
   ]
  },
  {
   "cell_type": "markdown",
   "metadata": {},
   "source": [
    "```c\n",
    " INPUT    two integers a and n\n",
    "OUTPUT    an integer an\n",
    "\n",
    "MULT(a, n)\n",
    "1    if n == 1\n",
    "2        return a\n",
    "3    return a + MULT(a, n - 1)\n",
    "```"
   ]
  },
  {
   "cell_type": "markdown",
   "metadata": {},
   "source": [
    "In this less common D/C approach to integer multiplication, the problem size is being reduced by one for each recursive call.\n",
    "\n",
    "$\\underbrace{\\underbrace{\\quad\\quad\\quad a \\quad\\quad\\quad}_{\\text{sub problem}} + \\underbrace{\\texttt{MULT}(a, n - 1)}_{\\text{sub problem}}}_{\\text{combine}}$"
   ]
  },
  {
   "cell_type": "markdown",
   "metadata": {},
   "source": [
    "$\n",
    "\\begin{aligned}\n",
    "T(n)\n",
    "&= 1 + T(n - 1) \\\\\n",
    "&= 1 + 1 + T(n - 2) \\\\\n",
    "&= \\dots \\\\\n",
    "&= 1 + 1 + 1 + \\dotsb + T(1) \\\\\n",
    "&= \\underbrace{1 + 1 + 1 + \\dotsb + 1}_{n \\,\\,\\,\\text{times}} \\\\\n",
    "&= n \\\\\n",
    "&= \\Theta(n) \\\\\n",
    "\\end  {aligned}\n",
    "$"
   ]
  },
  {
   "cell_type": "markdown",
   "metadata": {},
   "source": [
    "### D/C 2"
   ]
  },
  {
   "cell_type": "markdown",
   "metadata": {},
   "source": [
    "```c\n",
    " INPUT    two integers a, and n even\n",
    "OUTPUT    an integer an\n",
    "\n",
    "MULT(a, n)\n",
    "1    if n == 1\n",
    "2        return a\n",
    "3    s1 = mult(a, n/2)   # sub problem\n",
    "4    s2 = mult(a, n/2)   # sub problem\n",
    "5    return s1 + s2      # combine\n",
    "```"
   ]
  },
  {
   "cell_type": "markdown",
   "metadata": {},
   "source": [
    "In this common D/C approach to integer multiplication, the problem size is being reduced by half for each recursive call.\n",
    "\n",
    "$\\underbrace{\\underbrace{\\texttt{MULT}(a, n/2)}_{\\text{sub problem}} + \\underbrace{\\texttt{MULT}(a, n/2)}_{\\text{sub problem}}}_{\\text{combine}}$"
   ]
  },
  {
   "cell_type": "markdown",
   "metadata": {},
   "source": [
    "$\n",
    "T(n) =\n",
    "\\underbrace{\\overset{\\text{divide} }{\\text{2}}}_{\\text{subproblems}} \\times\n",
    "\\underbrace{\\overset{\\text{conquer}}{T(b/2)}}_{\\text{cost per subproblem}} + \n",
    "\\underbrace{\\overset{\\text{combine}}{\\Theta(1)}}_{\\text{cost of combination}}$"
   ]
  },
  {
   "cell_type": "markdown",
   "metadata": {},
   "source": [
    "$T(n) = 2 T(n/2) + \\Theta(1)$\n",
    "\n",
    "By the Master Theorem we have\n",
    "\n",
    "$a = 2, b = 2, d = 0 \\implies d \\lt \\log_b a \\impliedby 0 \\lt 1$\n",
    "\n",
    "$T(n) = \\Theta(n^{\\log_b a}) = \\Theta(n^{\\log_2 2}) = \\boxed{\\Theta(n)}$"
   ]
  },
  {
   "cell_type": "markdown",
   "metadata": {},
   "source": [
    "This algorithm can be optimized! Since the two problems are symmetric as long as b is even, just one of the two sub problems needs to be evaluated.\n",
    "\n",
    "```c\n",
    " INPUT    two integers a, and n even\n",
    "OUTPUT    an integer an\n",
    "\n",
    "MULT(a, n)\n",
    "1    if n == 1\n",
    "2        return a\n",
    "3    s = mult(a, n/2)   # sub problem\n",
    "4    return s1 + s1     # combine\n",
    "```"
   ]
  },
  {
   "cell_type": "markdown",
   "metadata": {},
   "source": [
    "$T(n) = T(n/2) + \\Theta(1)$\n",
    "\n",
    "By the Master Theorem we have\n",
    "\n",
    "$a = 1, b = 2, d = 0 \\implies d = \\log_b a \\impliedby 0 = 0$\n",
    "\n",
    "$T(n) = \\Theta(n^d \\log n) = \\Theta(n^0 \\log n) = \\boxed{\\Theta(\\log n)}$"
   ]
  },
  {
   "cell_type": "markdown",
   "metadata": {},
   "source": [
    "---"
   ]
  }
 ],
 "metadata": {
  "language_info": {
   "name": "python"
  }
 },
 "nbformat": 4,
 "nbformat_minor": 2
}
