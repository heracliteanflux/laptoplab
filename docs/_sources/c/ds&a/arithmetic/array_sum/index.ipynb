{
 "cells": [
  {
   "cell_type": "markdown",
   "metadata": {},
   "source": [
    "# Array Sum"
   ]
  },
  {
   "cell_type": "markdown",
   "metadata": {},
   "source": [
    "---"
   ]
  },
  {
   "cell_type": "markdown",
   "metadata": {},
   "source": [
    "## Contents\n",
    "```{contents}\n",
    "```"
   ]
  },
  {
   "cell_type": "markdown",
   "metadata": {},
   "source": [
    "---"
   ]
  },
  {
   "cell_type": "markdown",
   "metadata": {},
   "source": [
    "```c\n",
    " INPUT    an array A[0:n - 1] of n values where n >= 0\n",
    "OUTPUT    an integer sum of the values in A\n",
    "\n",
    "SUM_ARRAY(A, n)\n",
    "1    sum = 0\n",
    "2    for i = 0 to n - 1\n",
    "3        sum = sum + A[i]\n",
    "4    return sum\n",
    "\n",
    "ALTERNATIVELY\n",
    "\n",
    "SUM_ARRAY(A, n)\n",
    "1    sum = 0, i = 0\n",
    "2    while i < n\n",
    "3        sum = sum + A[i]\n",
    "4    return sum\n",
    "```"
   ]
  },
  {
   "cell_type": "markdown",
   "metadata": {},
   "source": [
    "---"
   ]
  },
  {
   "cell_type": "markdown",
   "metadata": {},
   "source": [
    "$\\textbf{Precondition}$\n",
    "\n",
    "$A$ is a zero-indexed array of $n$ integers where $n \\ge 0$.\n",
    "\n",
    "$i = 0$\n",
    "\n",
    "$\\texttt{sum} = 0$\n",
    "\n",
    "$\\textbf{Condition}$\n",
    "\n",
    "$i \\lt n$\n",
    "\n",
    "$\\textbf{Invariant}$\n",
    "\n",
    "1\\. $0 \\le i \\le n$ <br>\n",
    "2\\. $\\texttt{sum}$ contains the sum of the first $i$ integers of $A$: $\\texttt{sum} = \\sum_{k = 0}^{i - 1} A[k]$\n",
    "\n",
    "$\\textbf{Variant}$\n",
    "\n",
    "$n - i$\n",
    "\n",
    "$\\textbf{Postcondition}$\n",
    "\n",
    "$\\texttt{sum} = \\sum_{k = 0}^{n - 1} A[k]$"
   ]
  },
  {
   "cell_type": "markdown",
   "metadata": {},
   "source": [
    "$\\textbf{Initialization}$\n",
    "\n",
    "1\\. $0 \\le \\underset{i}{0} \\le \\underset{n}{\\text{nonnegative integer}}$\n",
    "\n",
    "$0 = \\texttt{sum} = \\sum_{k = 0}^{i - 1} A[k]$\n",
    "\n",
    "$\\textbf{Maintenance}$\n",
    "\n",
    "Suppose the invariant is true after $k$ iterations. <br>\n",
    "1\\. $0 \\le i \\le n$ <br>\n",
    "2\\. $\\texttt{sum}$ contains the sum of the first $k$ integers of $A$: $\\texttt{sum} = \\sum_{k = 0}^{i - 1} A[k]$\n",
    "\n",
    "It must be shown that the invariant is true after $k + 1$ iterations. <br>\n",
    "1\\. $0 \\le i' \\le n$ <br>\n",
    "2\\. $\\texttt{sum}'$ contains the sum of the first $k + 1$ integers of $A$: $\\texttt{sum}' = \\sum_{k = 0}^{i' - 1} A[k]$\n",
    "\n",
    "The condition $i \\lt n$ holds. Therefore $i + 1 = i' \\le n$ and so the first clause of the invariant holds.\n",
    "\n",
    "$\\texttt{sum}' = \\sum_{k = 0}^{i} A[k] = \\sum_{k = 0}^{i - 1} A[k] + A[i] = \\texttt{sum} + A[i]$\n",
    "\n",
    "$\\textbf{Termination}$"
   ]
  },
  {
   "cell_type": "markdown",
   "metadata": {},
   "source": [
    "---"
   ]
  },
  {
   "cell_type": "markdown",
   "metadata": {},
   "source": [
    "## Implementations"
   ]
  },
  {
   "cell_type": "markdown",
   "metadata": {},
   "source": [
    "### C"
   ]
  },
  {
   "cell_type": "markdown",
   "metadata": {},
   "source": [
    "```c\n",
    "int sum (int A[], int n) {\n",
    "  int sum = 0;\n",
    "\n",
    "  for (int i = 0; i < n; i++) {\n",
    "    sum += A[i];\n",
    "  }\n",
    "\n",
    "  return sum;\n",
    "}\n",
    "```"
   ]
  },
  {
   "cell_type": "markdown",
   "metadata": {},
   "source": [
    "### Python"
   ]
  },
  {
   "cell_type": "markdown",
   "metadata": {},
   "source": [
    "---"
   ]
  },
  {
   "cell_type": "markdown",
   "metadata": {},
   "source": [
    "## Acknowledgments"
   ]
  },
  {
   "cell_type": "markdown",
   "metadata": {},
   "source": [
    "* https://www.geeksforgeeks.org/program-find-sum-elements-given-array/"
   ]
  },
  {
   "cell_type": "markdown",
   "metadata": {},
   "source": [
    "---"
   ]
  }
 ],
 "metadata": {
  "language_info": {
   "name": "python"
  }
 },
 "nbformat": 4,
 "nbformat_minor": 2
}
