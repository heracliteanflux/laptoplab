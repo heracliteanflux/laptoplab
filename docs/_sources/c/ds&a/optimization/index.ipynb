{
 "cells": [
  {
   "cell_type": "markdown",
   "metadata": {},
   "source": [
    "# Optimization"
   ]
  },
  {
   "cell_type": "markdown",
   "metadata": {},
   "source": [
    "---"
   ]
  },
  {
   "cell_type": "markdown",
   "metadata": {},
   "source": [
    "## Contents\n",
    "```{contents}\n",
    "```"
   ]
  },
  {
   "cell_type": "markdown",
   "metadata": {},
   "source": [
    "---"
   ]
  },
  {
   "cell_type": "markdown",
   "metadata": {},
   "source": [
    "Derivatives\n",
    "\n",
    "Lagrange Multiplier\n",
    "\n",
    "Greedy Algorithms\n",
    "\n",
    "Mathematical Programming\n",
    "* Dynamic Programming\n",
    "* Linear Programming\n",
    "* Integer Programming\n",
    "* Mixed-Integer Programming\n",
    "* Non Linear Programming\n",
    "  * Quadratic Programming"
   ]
  },
  {
   "cell_type": "markdown",
   "metadata": {},
   "source": [
    "---"
   ]
  },
  {
   "cell_type": "markdown",
   "metadata": {},
   "source": [
    "## Terms"
   ]
  },
  {
   "cell_type": "markdown",
   "metadata": {},
   "source": [
    "* [ [w](https://en.wikipedia.org/wiki/Assignment_problem) ] Assignment Problem\n",
    "* [ [w](https://en.wikipedia.org/wiki/Hungarian_algorithm) ] Hungarian Algorithm\n",
    "* [ [w](https://en.wikipedia.org/wiki/Job-shop_scheduling) ] Job-Shop Scheduling\n",
    "* [ [w](https://en.wikipedia.org/wiki/Optimal_job_scheduling) ] Optimal Job Scheduling\n",
    "* [ [w](https://en.wikipedia.org/wiki/Optimization_problem) ] Optimization Problem"
   ]
  },
  {
   "cell_type": "markdown",
   "metadata": {},
   "source": [
    "---"
   ]
  }
 ],
 "metadata": {
  "language_info": {
   "name": "python"
  }
 },
 "nbformat": 4,
 "nbformat_minor": 2
}
