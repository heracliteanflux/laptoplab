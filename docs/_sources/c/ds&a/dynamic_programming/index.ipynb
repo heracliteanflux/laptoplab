{
 "cells": [
  {
   "cell_type": "markdown",
   "metadata": {},
   "source": [
    "# Dynamic Programming"
   ]
  },
  {
   "cell_type": "markdown",
   "metadata": {},
   "source": [
    "---"
   ]
  },
  {
   "cell_type": "markdown",
   "metadata": {},
   "source": [
    "## Contents\n",
    "```{contents}\n",
    "```"
   ]
  },
  {
   "cell_type": "markdown",
   "metadata": {},
   "source": [
    "---"
   ]
  },
  {
   "cell_type": "markdown",
   "metadata": {},
   "source": [
    "## Resources"
   ]
  },
  {
   "cell_type": "markdown",
   "metadata": {},
   "source": [
    "* [ [y](https://www.youtube.com/watch?v=rE5h11FwiVw) ] `12-20-2023` Tech with Nikola. \"Mastering Dynamic Programming - A Real-Life Problem (Part 2)\".\n",
    "* [ [y](https://www.youtube.com/watch?v=Wgn_aPH3OEk) ] `12-03-2023` James Cutajar. \"Evolutionary Algorithm for the Travelling Salesperson Problem (Genetic Algorithm)\".\n",
    "* [ [y](https://www.youtube.com/watch?v=Hdr64lKQ3e4) ] `08-19-2023` Tech with Nikola. \"Mastering Dynamic Programming - How to solve any interview problem (Part 1)\".\n",
    "* [ [y](https://www.youtube.com/watch?v=oBt53YbR9Kk) ] `12-03-2020` freeCodeCamp. \"Dynamic Programming - Learn to Solve Algorithmic Problems & Coding Challenges\".\n",
    "* [ [y](https://www.youtube.com/watch?v=MacVqujSXWE) ] `10-01-2020` Computerphile. \"The Knapsack Problem & Genetic Algorithms - Computerphile\".\n",
    "* [ [y](https://www.youtube.com/watch?v=r4-cftqTcdI) ] `09-13-2020` MIT OpenCourseWare. \"15. Dynamic Programming, Part 1: SRTBOT, Fib, DAGs, Bowling\".\n",
    "* [ [y](https://www.youtube.com/watch?v=KLBCUx1is2c) ] `09-13-2020` MIT OpenCourseWare. \"16. Dynamic Programming, Part 2: LCS, LIS, Coins\".\n",
    "* [ [y](https://www.youtube.com/watch?v=aPQY__2H3tE) ] `08-16-2020` Reducible. \"5 Simple Steps for Solving Dynamic Programming Problems\".\n",
    "* [ [y](https://www.youtube.com/watch?v=_tur2nPkIKo) ] `04-24-2020` WilliamFiset. \"Magic Cows | Dynamic Programming | Adhoc | Interview problem\".\n",
    "* [ [y](https://www.youtube.com/watch?v=jTjRGe0wRvI) ] `04-14-2020` \"01 - Course Introduction (Dynamic Programming for Beginners)\".\n",
    "* [ [y](https://www.youtube.com/watch?v=OQ5jsbhAv_M) ] `01-14-2013` MIT OpenCourseWare. \"Lecture 19: Dynamic Programming I: Fibonacci, Shortest Paths\".\n",
    "* [ [y](https://www.youtube.com/watch?v=ENyox7kNKeY) ] `01-14-2013` MIT OpenCourseWare. \"Lecture 20: Dynamic Programming II: Text Justification, Blackjack\".\n",
    "* [ [y](https://www.youtube.com/watch?v=ocZMDMZwhCY) ] `01-14-2023` \"Lecture 21: Dynamic Programming III: Parenthesization, Edit Distance, Knapsack\".\n",
    "* [ [y](https://www.youtube.com/watch?v=tp4_UXaVyx8) ] `01-14-2023` \"Lecture 22: Dynamic Programming IV: Guitar Fingering, Tetris, Super Mario Bros.\"."
   ]
  },
  {
   "cell_type": "markdown",
   "metadata": {},
   "source": [
    "---"
   ]
  },
  {
   "cell_type": "markdown",
   "metadata": {},
   "source": [
    "## Figures"
   ]
  },
  {
   "cell_type": "markdown",
   "metadata": {},
   "source": [
    "* [ [w](https://en.wikipedia.org/wiki/Richard_E._Bellman) ] `1920-1984` Bellman, Richard\n",
    "* [ [w](https://en.wikipedia.org/wiki/Robert_W._Floyd) ] `1936-2001` Floyd, Robert\n",
    "* [ [w](https://en.wikipedia.org/wiki/L._R._Ford_Jr.) ] `1927-2017` Ford Jr., L. R.\n",
    "* [ [w](https://en.wikipedia.org/wiki/%C3%89douard_Lucas) ] `1842-1891` Lucas, Édouard\n",
    "* [ [w](https://en.wikipedia.org/wiki/Edward_F._Moore) ] `1925-2003` Moore, Edward\n",
    "* [ [w](https://en.wikipedia.org/wiki/Bernard_Roy) ] `1934-2017` Roy, Bernard\n",
    "* [ [w](https://en.wikipedia.org/wiki/Stephen_Warshall) ] `1935-2006` Warshall, Stephen"
   ]
  },
  {
   "cell_type": "markdown",
   "metadata": {},
   "source": [
    "---"
   ]
  },
  {
   "cell_type": "markdown",
   "metadata": {},
   "source": [
    "## Terms"
   ]
  },
  {
   "cell_type": "markdown",
   "metadata": {},
   "source": [
    "* [ [w](https://en.wikipedia.org/wiki/Bellman%E2%80%93Ford_algorithm) ] Bellman-Ford Algorithm\n",
    "* [ [w](https://en.wikipedia.org/wiki/Bellman_equation) ] Bellman Equation\n",
    "* [ [w](https://en.wikipedia.org/wiki/Dynamic_programming) ] Dynamic Programming\n",
    "* [ [w](https://en.wikipedia.org/wiki/Floyd%E2%80%93Warshall_algorithm) ] Floyd-Warshall Algorithm\n",
    "* [ [w](https://en.wikipedia.org/wiki/Kleene%27s_algorithm) ] Kleene's Algorithm\n",
    "* [ [w](https://en.wikipedia.org/wiki/Lucas_number) ] Lucas Number\n",
    "* [ w ] Memoization\n",
    "* [ [w](https://en.wikipedia.org/wiki/Optimal_substructure) ] Optimal Substructure\n",
    "* [ [w](https://en.wikipedia.org/wiki/Overlapping_subproblems) ] Overlapping Subproblems\n",
    "* [ [w](https://en.wikipedia.org/wiki/Relaxation_(approximation)) ] Relaxation"
   ]
  },
  {
   "cell_type": "markdown",
   "metadata": {},
   "source": [
    "---"
   ]
  }
 ],
 "metadata": {
  "language_info": {
   "name": "python"
  }
 },
 "nbformat": 4,
 "nbformat_minor": 2
}
