{
 "cells": [
  {
   "cell_type": "markdown",
   "metadata": {},
   "source": [
    "# 0-1 Knapsack"
   ]
  },
  {
   "cell_type": "markdown",
   "metadata": {},
   "source": [
    "---"
   ]
  },
  {
   "cell_type": "markdown",
   "metadata": {},
   "source": [
    "$\n",
    "\\begin{aligned}\n",
    "n    && \\text{items} \\\\\n",
    "w(j) && \\text{weight of item } j \\\\\n",
    "v(j) && \\text{value of item } j \\\\\n",
    "\\end  {aligned}\n",
    "$\n",
    "\n",
    "select a subset of items to maximize the total value, within a weight limit $W$\n",
    "\n",
    "$j$ | $w$ | $v$\n",
    "-|-|-\n",
    "$1$ | $6$ | $30$\n",
    "$2$ | $3$ | $16$\n",
    "$3$ | $4$ | $16$\n",
    "$4$ | $2$ | $8$"
   ]
  },
  {
   "cell_type": "markdown",
   "metadata": {},
   "source": [
    "EXAMPLE\n",
    "\n",
    "$\\max_{W \\le 7} V$\n",
    "\n",
    "Heuristic: greedy, select the item with the most value\n",
    "\n",
    "$I = \\{ 1 \\}, w = 1, v = 30$\n",
    "\n",
    "Optimal\n",
    "\n",
    "$I = \\{ 2, 3 \\}, w = 0, v = 32$\n",
    "\n",
    "since greedy doesn't work, we have to search the entire space: $O(2^n)$"
   ]
  },
  {
   "cell_type": "markdown",
   "metadata": {},
   "source": [
    "**A different approach**\n",
    "\n",
    "maximize the value $v(j)$ over a given subset of items $1$ through $j$\n",
    "* first solve $v(0)$\n",
    "* then solve $v(1)$ which relies on $v(0)$\n",
    "* so on\n",
    "* $O(n)$\n",
    "\n",
    "maximize the value of all items obtainable from a particular weight limit $v(w)$\n",
    "* $O(w)$\n",
    "\n",
    "Running this approach over subsets of items first, we find the following\n",
    "\n",
    "$\n",
    "\\begin{aligned}\n",
    "v(1) = 30, && I &= \\{ 1 \\} \\\\\n",
    "v(2) = 30, && I &= \\{ 1 \\} \\\\\n",
    "v(3) = 32, && I &= \\{ 2, 3 \\} \\\\\n",
    "v(4) = 32, && I &= \\{ 2, 3 \\} \\\\\n",
    "\\end  {aligned}\n",
    "$\n",
    "\n",
    "Since the item set of $v(2)$ is not a prefix of the item set of $v(3)$, the optimal substructure property does not hold. We cannot use the optimal problem for $v(2)$ in the optimal problem for $v(3)$. This would also occur for optimizing over weights"
   ]
  },
  {
   "cell_type": "markdown",
   "metadata": {},
   "source": [
    "**Expand the search space into higher dimensionality**"
   ]
  },
  {
   "cell_type": "markdown",
   "metadata": {},
   "source": [
    "$j$ | $w$ | $v$\n",
    "-|-|-\n",
    "$1$ | $6$ | $30$\n",
    "$2$ | $3$ | $16$\n",
    "$3$ | $4$ | $16$\n",
    "$4$ | $2$ | $8$\n",
    "\n",
    "$\n",
    "\\text{weight}\n",
    "\\overset{\\text{item}}{\n",
    "\\begin{array}{c|c|c|c|c|c}\n",
    "  & 0 &  1 &  2 &  3 &  4 \\\\ \\hline\n",
    "0 & 0 &  0 &  0 &  0 &  0 \\\\ \\hline\n",
    "1 & 0 &  0 &  0 &  0 &  0 \\\\ \\hline\n",
    "2 & 0 &  0 &  0 &  0 &  8 \\\\ \\hline\n",
    "3 & 0 &  0 & 16 & 16 & 16 \\\\ \\hline\n",
    "4 & 0 &  0 & 16 & 16 & 16 \\\\ \\hline\n",
    "5 & 0 &  0 & 16 & 16 & 24 \\\\ \\hline\n",
    "6 & 0 & 30 & 30 & 30 & 30 \\\\ \\hline\n",
    "7 & 0 & 30 & 30 & 32 & 32 \\\\\n",
    "\\end  {array}}\n",
    "$"
   ]
  },
  {
   "cell_type": "markdown",
   "metadata": {},
   "source": [
    "---"
   ]
  }
 ],
 "metadata": {
  "language_info": {
   "name": "python"
  }
 },
 "nbformat": 4,
 "nbformat_minor": 2
}
