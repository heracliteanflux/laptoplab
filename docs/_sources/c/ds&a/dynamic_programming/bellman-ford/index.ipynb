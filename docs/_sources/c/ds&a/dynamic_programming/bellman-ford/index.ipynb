{
 "cells": [
  {
   "cell_type": "markdown",
   "metadata": {},
   "source": [
    "# Bellman-Ford"
   ]
  },
  {
   "cell_type": "markdown",
   "metadata": {},
   "source": [
    "---"
   ]
  },
  {
   "cell_type": "markdown",
   "metadata": {},
   "source": [
    "## Contents\n",
    "```{contents}\n",
    "```"
   ]
  },
  {
   "cell_type": "markdown",
   "metadata": {},
   "source": [
    "---"
   ]
  },
  {
   "cell_type": "markdown",
   "metadata": {},
   "source": [
    "**Bellman-Ford**"
   ]
  },
  {
   "cell_type": "markdown",
   "metadata": {},
   "source": [
    "```c\n",
    "A -> (B,  10), (C, 1)\n",
    "B -> (C, -99)\n",
    "C -> (D,   2), (E, 2)\n",
    "D -> (A,   1)\n",
    "E ->\n",
    "\n",
    "Table\n",
    "A    0\n",
    "B    infty\n",
    "C    infty\n",
    "D    infty\n",
    "E    infty\n",
    "```\n",
    "\n",
    "Assume that there are no cycles.\n",
    "\n",
    "We know that the shortest path cannot contain a cycle.\n",
    "\n",
    "There are a finite number of possible paths, which can be enumerated:\n",
    "```c\n",
    "A -> B               10\n",
    "A -> B -> C         -89\n",
    "A -> B -> C -> D    -87\n",
    "A -> B -> C -> E    -87\n",
    "A -> C                1\n",
    "A -> C -> D           3\n",
    "A -> C -> E           3\n",
    "```\n",
    "\n",
    "Although the graph contains just 6 edges, the number of edges in all possible paths is 14. In the worst case in which every vertex is connected to every other vertex the number of edges in all possible paths is exponential. Therefore, finding the shortest path by traversing all possible paths is an exponential time algorithm.\n",
    "\n",
    "The edge `A -> B` shows up in four possible paths. Use memoization to remember this traversal"
   ]
  },
  {
   "cell_type": "markdown",
   "metadata": {},
   "source": [
    "---"
   ]
  },
  {
   "cell_type": "markdown",
   "metadata": {},
   "source": [
    "## Resources"
   ]
  },
  {
   "cell_type": "markdown",
   "metadata": {},
   "source": [
    "https://www.geeksforgeeks.org/bellman-ford-algorithm-dp-23/"
   ]
  },
  {
   "cell_type": "markdown",
   "metadata": {},
   "source": [
    "---"
   ]
  }
 ],
 "metadata": {
  "language_info": {
   "name": "python"
  }
 },
 "nbformat": 4,
 "nbformat_minor": 2
}
