{
 "cells": [
  {
   "cell_type": "markdown",
   "metadata": {},
   "source": [
    "# Lucas Numbers"
   ]
  },
  {
   "cell_type": "markdown",
   "metadata": {},
   "source": [
    "---"
   ]
  },
  {
   "cell_type": "markdown",
   "metadata": {},
   "source": [
    "## Contents\n",
    "```{contents}\n",
    "```"
   ]
  },
  {
   "cell_type": "markdown",
   "metadata": {},
   "source": [
    "---"
   ]
  },
  {
   "cell_type": "markdown",
   "metadata": {},
   "source": [
    "**Lucas Numbers**\n",
    "\n",
    "$\n",
    "\\begin{aligned}\n",
    "L(n) &=\n",
    "\\begin{cases}\n",
    "2 & n = 0 \\\\\n",
    "1 & n = 1 \\\\\n",
    "L(n - 1) + L(n - 2) & n \\gt 1 \\\\\n",
    "\\end  {cases} \\\\\n",
    "&= 2, 1, 3, 4, 7, 11, \\dotsc\n",
    "\\end  {aligned}\n",
    "$\n",
    "\n",
    "We can compute the $n$-th Lucas number recursively.\n",
    "\n",
    "```txt\n",
    "              L(15)\n",
    "            /              \\\n",
    "       L(13)                L(14)\n",
    "      /     \\              /     \\\n",
    " L(11)       L(12)    L(12)       L(13)\n",
    "/     \\     /     \\  /     \\     /     \\\n",
    "```\n",
    "\n",
    "$T(n) = \\Theta(2^n)$\n",
    "\n",
    "The height of this tree is $n$."
   ]
  },
  {
   "cell_type": "markdown",
   "metadata": {},
   "source": [
    "Alternative approach which trades time for space: add a linear space requirement to reduce exponential time to linear time.\n",
    "\n",
    "Compute $L(6)$.\n",
    "* First, initialize an array of size $7$.\n",
    "* Traverse down the left side to $L(0)$.\n",
    "* Then up to $L(1)$.\n",
    "* Then up to $L(2)$: fetch $L(0)$ from the array.\n",
    "* Then up to $L(3)$: fetch $L(1)$ from the array.\n",
    "* Then up to $L(4)$: fetch $L(2)$ from the array.\n",
    "* Then up to $L(5)$: fetch $L(3)$ from the array.\n",
    "* Then up to $L(6)$: fetch $L(4)$ from the array.\n",
    "\n",
    "```txt\n",
    "                               L(6)\n",
    "                             /                                                  \\\n",
    "                         L(5)                                                    L(4)\n",
    "                        /                        \\                              /               \\\n",
    "                    L(4)                          L(3)                      L(3)                 L(2)\n",
    "                   /         \\                   /         \\               /          \\         /    \\\n",
    "               L(3)           L(2)           L(2)           L(1)       L(2)            L(1) L(1)      L(0)\n",
    "              /    \\         /    \\         /    \\         /          /    \\          /    /\n",
    "          L(2)      L(1) L(1)      L(0) L(1)      L(0) L(0)       L(1)      L(0)  L(0) L(0)\n",
    "         /   \\\n",
    "     L(1)     L(0)\n",
    "    /\n",
    "L(0)\n",
    "```"
   ]
  },
  {
   "cell_type": "markdown",
   "metadata": {},
   "source": [
    "---"
   ]
  },
  {
   "cell_type": "markdown",
   "metadata": {},
   "source": [
    "## Resources"
   ]
  },
  {
   "cell_type": "markdown",
   "metadata": {},
   "source": [
    "https://www.geeksforgeeks.org/lucas-numbers/"
   ]
  },
  {
   "cell_type": "markdown",
   "metadata": {},
   "source": [
    "---"
   ]
  }
 ],
 "metadata": {
  "language_info": {
   "name": "python"
  }
 },
 "nbformat": 4,
 "nbformat_minor": 2
}
