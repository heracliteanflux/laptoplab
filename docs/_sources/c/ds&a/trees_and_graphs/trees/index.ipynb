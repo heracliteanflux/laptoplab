{
 "cells": [
  {
   "cell_type": "markdown",
   "metadata": {},
   "source": [
    "# Trees"
   ]
  },
  {
   "cell_type": "markdown",
   "metadata": {},
   "source": [
    "---"
   ]
  },
  {
   "cell_type": "markdown",
   "metadata": {},
   "source": [
    "## Contents\n",
    "```{contents}\n",
    "```"
   ]
  },
  {
   "cell_type": "markdown",
   "metadata": {},
   "source": [
    "---"
   ]
  },
  {
   "cell_type": "markdown",
   "metadata": {},
   "source": [
    "A tree is an undirected acyclic graph $G = (V, E)$.\n",
    "\n",
    "Parent-child nomenclature\n",
    "* The node that has no parent node is called the root node. (The root node is usually the entrypoint into the tree, and the starting point of tree algorithms.)\n",
    "* A node without child nodes is a called leaf node.\n",
    "* A node that is not a leaf node is called an internal node.\n",
    "\n",
    "A node should have at most one parent node. If there is a node with more than one parent node then the \"tree\" has a cycle (which then by definition makes it not a tree).\n",
    "\n",
    "The trivial tree consists of the root node that is also a leaf node.\n",
    "\n",
    "A nontrivial tree consists of the root node that is an internal node, which means that it has at least one child node.\n",
    "\n",
    "Fanout (or maximum degree) is the number of child nodes. This term may be used with respect to the entire tree, or with respect to a particular node."
   ]
  },
  {
   "cell_type": "markdown",
   "metadata": {},
   "source": [
    "$\\text{height} = \\log_\\text{fanout} |V|$"
   ]
  },
  {
   "cell_type": "markdown",
   "metadata": {},
   "source": [
    "---"
   ]
  },
  {
   "cell_type": "markdown",
   "metadata": {},
   "source": [
    "## Binary Trees"
   ]
  },
  {
   "cell_type": "markdown",
   "metadata": {},
   "source": [
    "fanout = 2, every node has at most 2 child nodes\n",
    "\n",
    "A complete binary tree is a tree in which each node has as many children as it possibly can, except for the last level of the tree"
   ]
  },
  {
   "cell_type": "markdown",
   "metadata": {},
   "source": [
    "Binary trees facilitate high-speed searching and sorting of data, efficient elimination of duplicate data items, representing file system directories and compiling expressions into machine language."
   ]
  },
  {
   "cell_type": "markdown",
   "metadata": {},
   "source": [
    "tree traversal\n",
    "* lookup of a value\n",
    "* insert a value into the heap"
   ]
  },
  {
   "cell_type": "markdown",
   "metadata": {},
   "source": [
    "---"
   ]
  },
  {
   "cell_type": "markdown",
   "metadata": {},
   "source": [
    "## Binary Heap"
   ]
  },
  {
   "cell_type": "markdown",
   "metadata": {},
   "source": [
    "A binary heap is a complete binary tree in which each node satisfies the heap property.\n",
    "\n",
    "Max Heap\n",
    "* every node must be larger than its children\n",
    "* the root is the largest element\n",
    "\n",
    "Min Heap\n",
    "* every node must be smaller than its children\n",
    "* the root is the smallest element\n",
    "\n",
    "Efficient access to the min (or max), which is useful for something like a priority queue.\n",
    "\n",
    "When a new node is inserted into the tree, it may not satisfy the min (or max) heap property and so the tree may need to be adjusted. The up-heap operation repeatedly looks at the node and its parent and swaps them if the node is smaller than its parent in the case of min heap. Thus the cost of inserting a node into the tree is the sum of the costs of finding the appropriate insertion location and of the upheap operation which maintains the heap property.\n",
    "\n",
    "The cost of the up-heap operation is $\\Theta(\\log_2 |V|)$\n",
    "\n",
    "The cost of inserting a node into the correct location in the tree depends on the details of the implementation of the heap. In a linked-list implementation, we have to traverse the tree starting from the root:\n",
    "\n",
    "$O(|V|)$\n",
    "\n",
    "```c\n",
    "struct T = {\n",
    "  int val;\n",
    "  T *l_child;\n",
    "  T *r_child;\n",
    "};\n",
    "```\n",
    "\n",
    "The insertion cost in a linked-list approach might be optimized by tracking a pointer to the next insertion spot, or other ways.\n",
    "\n",
    "The other way to implement is with an array, which only requires $\\Theta(1)$ insertion. The first element is the root\n",
    "\n",
    "$\n",
    "\\begin{aligned}\n",
    "\\text{level} &= i \\\\\n",
    "\\text{left\\_subtree}  &= 2i + 1 \\\\\n",
    "\\text{right\\_subtree} &= 2i + 2 \\\\\n",
    "\\end  {aligned}\n",
    "$\n",
    "\n",
    "$\n",
    "\\begin{aligned}\n",
    "i &= 0 \\\\\n",
    "\\text{l}_0 &= 1 \\\\\n",
    "\\text{r}_0 &= 2 \\\\\n",
    "i &= 1 \\\\\n",
    "\\text{l}_1 &= 3 \\\\\n",
    "\\text{r}_1 &= 4 \\\\\n",
    "\\end  {aligned}\n",
    "$"
   ]
  },
  {
   "cell_type": "markdown",
   "metadata": {},
   "source": [
    "In an array implementation, use a down-heap operation to pop the root node.\n",
    "\n",
    "Removing the root node as-is would require shifting the entire array to fill the hold, which would require linear time. By using a down-heap operation, we reduce this cost to $\\log_2 |V|$\n",
    "\n",
    "Down-heap\n",
    "* First swap root with last node\n",
    "* Pop the root node from the end of the array\n",
    "* Perform down-heap on the new root to maintain heap property\n",
    "  * max heap: swap node with largest child\n",
    "  * min heap: swap node with smallest child"
   ]
  },
  {
   "cell_type": "markdown",
   "metadata": {},
   "source": [
    "Insertion\n",
    "* add new node at the end of the array $\\Theta(1)$\n",
    "* up-heap until the heap property is satisfied $O(\\log_2 |V|)$\n",
    "\n",
    "Pop\n",
    "* swap the root with the last node $\\Theta(1)$\n",
    "* down-heap until the heap property is satisfied $O(\\log_2 |V|)$\n",
    "  * max heap: swap node with largest child\n",
    "  * min heap: swap node with smallest child\n",
    "\n",
    "Update value (increase priority of PQ)\n",
    "\n",
    "Delete an arbitrary node"
   ]
  },
  {
   "cell_type": "markdown",
   "metadata": {},
   "source": [
    "https://en.wikipedia.org/wiki/Binary_heap\n",
    "\n",
    "https://www.geeksforgeeks.org/binary-heap/"
   ]
  },
  {
   "cell_type": "markdown",
   "metadata": {},
   "source": [
    "---"
   ]
  },
  {
   "cell_type": "markdown",
   "metadata": {},
   "source": [
    "## Terms"
   ]
  },
  {
   "cell_type": "markdown",
   "metadata": {},
   "source": [
    "* [ [w](https://en.wikipedia.org/wiki/Arborescence_(graph_theory)) ] Arborescence\n",
    "* [ [w](https://en.wikipedia.org/wiki/Binary_heap) ] Binary Heap\n",
    "* [ [w](https://en.wikipedia.org/wiki/Binary_tree) ] Binary Tree\n",
    "* [ [w](https://en.wikipedia.org/wiki/Binary_search_tree) ] Binary Search Tree\n",
    "* [ [w](https://en.wikipedia.org/wiki/Branching_factor) ] Branching Factor\n",
    "* [ [w](https://en.wikipedia.org/wiki/D-ary_heap) ] d-ary Heap\n",
    "* [ [w](https://en.wikipedia.org/wiki/Heap_(data_structure)) ] Heap\n",
    "* [ [w](https://en.wikipedia.org/wiki/M-ary_tree) ] k-ary Tree\n",
    "* [ [w](https://en.wikipedia.org/wiki/Node_(computer_science)) ] Node\n",
    "* [ [w](https://en.wikipedia.org/wiki/Parse_tree) ] Parse Tree\n",
    "* [ [w](https://en.wikipedia.org/wiki/Search_tree) ] Search Tree\n",
    "* [ [w](https://en.wikipedia.org/wiki/Splay_tree) ] Splay Tree\n",
    "* [ [w](https://en.wikipedia.org/wiki/Ternary_search_tree) ] Ternary Search Tree\n",
    "* [ [w](https://en.wikipedia.org/wiki/Ternary_tree) ] Ternary Tree\n",
    "* [ [w](https://en.wikipedia.org/wiki/Tree_(data_structure)) ] Tree (data structure)\n",
    "* [ [w](https://en.wikipedia.org/wiki/Tree_(graph_theory)) ] Tree (graph theory)\n",
    "* [ [w](https://en.wikipedia.org/wiki/Tree_structure) ] Tree Structure\n",
    "* [ [w](https://en.wikipedia.org/wiki/Tree_traversal) ] Tree Traversal"
   ]
  },
  {
   "cell_type": "markdown",
   "metadata": {},
   "source": [
    "---"
   ]
  }
 ],
 "metadata": {
  "language_info": {
   "name": "python"
  }
 },
 "nbformat": 4,
 "nbformat_minor": 2
}
