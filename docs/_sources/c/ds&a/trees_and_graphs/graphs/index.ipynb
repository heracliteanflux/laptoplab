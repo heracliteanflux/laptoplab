{
 "cells": [
  {
   "cell_type": "markdown",
   "metadata": {},
   "source": [
    "# Graphs"
   ]
  },
  {
   "cell_type": "markdown",
   "metadata": {},
   "source": [
    "---"
   ]
  },
  {
   "cell_type": "markdown",
   "metadata": {},
   "source": [
    "## Contents\n",
    "```{contents}\n",
    "```"
   ]
  },
  {
   "cell_type": "markdown",
   "metadata": {},
   "source": [
    "---"
   ]
  },
  {
   "cell_type": "markdown",
   "metadata": {},
   "source": [
    "## Sections\n",
    "```{tableofcontents}\n",
    "```"
   ]
  },
  {
   "cell_type": "markdown",
   "metadata": {},
   "source": [
    "---"
   ]
  },
  {
   "cell_type": "markdown",
   "metadata": {},
   "source": [
    "## Terms"
   ]
  },
  {
   "cell_type": "markdown",
   "metadata": {},
   "source": [
    "* [ [w](https://en.wikipedia.org/wiki/A*_search_algorithm) ] A*\n",
    "* [ [w](https://en.wikipedia.org/wiki/Adjacency_matrix) ] Adjacency Matrix\n",
    "* [ [w](https://en.wikipedia.org/wiki/Barab%C3%A1si%E2%80%93Albert_model) ] Barabási–Albert Model\n",
    "* [ [w](https://en.wikipedia.org/wiki/Bellman%E2%80%93Ford_algorithm) ] Bellman-Ford Algorithm\n",
    "* [ [w](https://en.wikipedia.org/wiki/Biconnected_component) ] Biconnected Component\n",
    "* [ [w](https://en.wikipedia.org/wiki/Branching_factor) ] Branching Factor\n",
    "* [ [w](https://en.wikipedia.org/wiki/Breadth-first_search) ] Breadth-First Search (BFS)\n",
    "* [ [w](https://en.wikipedia.org/wiki/Coffman%E2%80%93Graham_algorithm) ] Coffman-Graham Algorithm\n",
    "* [ [w](https://en.wikipedia.org/wiki/Component_(graph_theory)) ] Component\n",
    "* [ [w](https://en.wikipedia.org/wiki/Connected-component_labeling) ] Connected-Component Labeling\n",
    "* [ [w](https://en.wikipedia.org/wiki/Connectivity_(graph_theory)) ] Connectivity\n",
    "* [ [w](https://en.wikipedia.org/wiki/Critical_path_method) ] Critical Path Method (CPM)\n",
    "* [ [w](https://en.wikipedia.org/wiki/Cycle_(graph_theory)) ] Cycle\n",
    "* [ [w](https://en.wikipedia.org/wiki/Degree_distribution) ] Degree Distribution\n",
    "* [ [w](https://en.wikipedia.org/wiki/Dense_graph) ] Dense Graph\n",
    "* [ [w](https://en.wikipedia.org/wiki/Depth-first_search) ] Depth-First Search (DFS)\n",
    "* [ [w](https://en.wikipedia.org/wiki/Dijkstra%27s_algorithm) ] Dijkstra's Algorithm\n",
    "* [ [w](https://en.wikipedia.org/wiki/Directed_acyclic_graph) ] Directed Acyclic Graph (DAG)\n",
    "* [ [w](https://en.wikipedia.org/wiki/Directed_graph) ] Directed Graph\n",
    "* [ [w](https://en.wikipedia.org/wiki/Dynamic_connectivity) ] Dynamic Connectivity\n",
    "* [ [w](https://en.wikipedia.org/wiki/Erd%C5%91s%E2%80%93R%C3%A9nyi_model) ] Erdős–Rényi Model\n",
    "* [ [w](https://en.wikipedia.org/wiki/Feedback_arc_set) ] Feedback Arc Set\n",
    "* [ [w](https://en.wikipedia.org/wiki/Flow_network) ] Flow Network\n",
    "* [ [w](https://en.wikipedia.org/wiki/Graph_(discrete_mathematics)) ] Graph (in discrete mathematics)\n",
    "* [ [w](https://en.wikipedia.org/wiki/Graph_(abstract_data_type)) ] Graph (as an abstract data type)\n",
    "* [ [w](https://en.wikipedia.org/wiki/Graph_property) ] Graph Invariant\n",
    "* [ [w](https://en.wikipedia.org/wiki/Graph_theory) ] Graph Theory [ [glossary](https://en.wikipedia.org/wiki/Glossary_of_graph_theory) ]\n",
    "* [ [w](https://en.wikipedia.org/wiki/Graph_traversal) ] Graph Traversal\n",
    "* [ [w](https://en.wikipedia.org/wiki/Hypergraph) ] Hypergraph\n",
    "* [ [w](https://en.wikipedia.org/wiki/Induced_subgraph) ] Induced Subgraph\n",
    "* [ [w](https://en.wikipedia.org/wiki/Kosaraju%27s_algorithm) ] Kosaraju's Algorithm\n",
    "* [ [w](https://en.wikipedia.org/wiki/Total_order) ] Linear Order\n",
    "* [ [w](https://en.wikipedia.org/wiki/Multigraph) ] Multigraph\n",
    "* [ [w](https://en.wikipedia.org/wiki/Null_graph) ] Null Graph\n",
    "* [ [w](https://en.wikipedia.org/wiki/Path_(graph_theory)) ] Path\n",
    "* [ [w](https://en.wikipedia.org/wiki/Path-based_strong_component_algorithm) ] Path-Based Strong Component Algorithm\n",
    "* [ [w](https://en.wikipedia.org/wiki/Pathfinding) ] Path Finding\n",
    "* [ [w](https://en.wikipedia.org/wiki/Pre-topological_order) ] Pre Topological Order\n",
    "* [ [w](https://en.wikipedia.org/wiki/Decision_tree_pruning) ] Pruning\n",
    "* [ [w](https://en.wikipedia.org/wiki/Reachability) ] Reachability\n",
    "* [ [w](https://en.wikipedia.org/wiki/Transpose_graph) ] Reverse Graph\n",
    "* [ [w](https://en.wikipedia.org/wiki/Scale-free_network) ] Scale-Free Network\n",
    "* [ [w](https://en.wikipedia.org/wiki/Shortest_path_problem) ] Shortest Path Problem\n",
    "* [ w ] Single-Source Shortest Path (SSSP) Problem\n",
    "* [ [w](https://en.wikipedia.org/wiki/Spanning_tree) ] Spanning Tree\n",
    "* [ [w](https://en.wikipedia.org/wiki/Strongly_connected_component) ] Strongly Connected Component\n",
    "* [ [w](https://en.wikipedia.org/wiki/Tarjan%27s_strongly_connected_components_algorithm) ] Tarjan's Strongly Connected Components Algorithm\n",
    "* [ [w](https://en.wikipedia.org/wiki/Topological_sorting) ] Topological Sort\n",
    "* [ [w](https://en.wikipedia.org/wiki/Transitive_reduction) ] Transitive Reduction\n",
    "* [ [w](https://en.wikipedia.org/wiki/Vertex_(graph_theory)) ] Vertex\n",
    "* [ [w](https://en.wikipedia.org/wiki/Weak_component) ] Weak Component\n",
    "* [ [w](https://en.wikipedia.org/wiki/Webgraph) ] Webgraph"
   ]
  },
  {
   "cell_type": "markdown",
   "metadata": {},
   "source": [
    "---"
   ]
  }
 ],
 "metadata": {
  "language_info": {
   "name": "python"
  }
 },
 "nbformat": 4,
 "nbformat_minor": 2
}
