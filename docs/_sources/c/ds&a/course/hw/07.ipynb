{
 "cells": [
  {
   "cell_type": "markdown",
   "metadata": {},
   "source": [
    "# Assignment 7\n",
    "Dave Friedman <br>\n",
    "CMPSC 465 Data Structures and Algorithms"
   ]
  },
  {
   "cell_type": "markdown",
   "metadata": {},
   "source": [
    "---"
   ]
  },
  {
   "cell_type": "markdown",
   "metadata": {},
   "source": [
    "<div style=\"page-break-before: always;\"></div>\n",
    "\n",
    "## 1"
   ]
  },
  {
   "cell_type": "markdown",
   "metadata": {},
   "source": [
    "You are placed in charge of the development of an algorithm for the newly created Penn State University Missile Defense System, which is responsible for defending the university from missile attacks launched from the University of Pennsylvania. Fortunately, your life has been made a bit easier by a defector, who has provided you with the full schedule of planned missile launches over the next $n$ days. For each day $i \\lt n$, $x_i$ missiles will arrive. Because of the defector, you know the exact values of $x_i$.\n",
    "\n",
    "Unfortunately due to budget cuts, your missile defense system has limited capacity. You need to stockpile anti-missile munitions which are supplied to you each day. Additionally, when the missile defense system is activated it will expend all available munitions regardless of the number of missiles destroyed that day. Munitions are supplied according to a function $f(j)$ such that the value of this function indicates the number of missiles that can be intercepted by the system after $j$ days of stockpiling. If the system is activated after $j$ days of stockpiling, on day $k$, then it will destroy $\\min\\{ x_k, f(j) \\}$ incoming missiles.\n",
    "\n",
    "Your goal is to design a dynamic programming algorithm which will, based on the daily schedule of missile launches $(x_0, x_1, x_2, \\dotsc, x_{n - 1})$ and a known resupply function $f(j)$ determine the maximum number of incoming missiles that can be destroyed by the system. You must also analyze the runtime of this algorithm and state its time complexity in big-theta notation."
   ]
  },
  {
   "cell_type": "markdown",
   "metadata": {},
   "source": [
    "$f(j) =$ the number of missiles that can be intercepted by the anti-missile system after $j$ days of stockpiling."
   ]
  },
  {
   "cell_type": "markdown",
   "metadata": {},
   "source": [
    "```c\n",
    "for day i = 1 to n\n",
    "    x[i] missiles\n",
    "\n",
    "f(j) = anti-missile munitions\n",
    "```"
   ]
  },
  {
   "cell_type": "markdown",
   "metadata": {},
   "source": [
    "---"
   ]
  },
  {
   "cell_type": "markdown",
   "metadata": {},
   "source": [
    "<div style=\"page-break-before: always;\"></div>\n",
    "\n",
    "## 2"
   ]
  },
  {
   "cell_type": "markdown",
   "metadata": {},
   "source": [
    "Consider the following weighted directed graph (which includes negative edge weights):\n",
    "\n",
    "```c\n",
    "A -> (D,   1), (H, 5), (I, -1), (J, 1)\n",
    "B -> (A,   2), (G, 5)\n",
    "C -> (D, -10)\n",
    "D -> (F,   3)\n",
    "E -> (F,   2)\n",
    "F -> (G,   2)\n",
    "G -> (E,   3)\n",
    "H -> (C,   1)\n",
    "I -> (B,   1)\n",
    "J -> (I,   2)\n",
    "```"
   ]
  },
  {
   "cell_type": "markdown",
   "metadata": {},
   "source": [
    "**A**\n",
    "\n",
    "Will Dijkstra's algorithm work on this graph to calculate the single-source shortest paths starting at vertex A? If not, provide a specific example where it results in the wrong decision being made."
   ]
  },
  {
   "cell_type": "markdown",
   "metadata": {},
   "source": [
    "No, Dijkstra's algorithm will not work on this graph to calculate the single-source shortest paths starting at vertex A. Due to the greedy choice property, Dijkstra's algorithm selects A -> D with weight 1 when in fact the shortest path A -> D has weight -4.\n",
    "\n",
    "```c\n",
    "(A,  0) <- (D, 1+0), (H, 5+0), pop(I, -1+0), (J, 1+0)\n",
    "(I, -1) <- (D, 1), (H, 5), (J, 1), pop(B, 1-1)\n",
    "(B,  0) <- pop(D, 1), (H, 5), (J, 1), (A, 2+0), (G, 5+0)\n",
    "(D,  1) <- (H, 5), pop(J, 1), (A, 2), (G, 5), (F, 3+1)\n",
    "(J,  1) <- (H, 5), skip(A, 2), (G, 5), pop(F, 4)\n",
    "(F,  4) <- (H, 5), (G, 5), pop(G, 2)\n",
    "(G,  2) <- (H, 5), (G, 5), pop(E, 3+2)\n",
    "(E,  5) <- pop(H, 5), skip(G, 5), (F, 2+5)\n",
    "(H,  5) <- (F, 7), pop(C, 1+5)\n",
    "(C,  6) <- (F, 7), (D, -10+6)\n",
    "```"
   ]
  },
  {
   "cell_type": "markdown",
   "metadata": {},
   "source": [
    "**B**\n",
    "\n",
    "Apply the Bellman-Ford algorithm to calculate the single-source shortest path from vertex C. Include a table showing the values of the paths to each vertex at each step of the algorithm."
   ]
  },
  {
   "cell_type": "markdown",
   "metadata": {},
   "source": [
    "```c\n",
    "     Iteration\n",
    "\n",
    "A    infty    infty\n",
    "B    infty    infty\n",
    "C        0        0\n",
    "D    infty      -10\n",
    "E    infty       -2\n",
    "F    infty       -7\n",
    "G    infty       -5\n",
    "H    infty    infty\n",
    "I    infty    infty\n",
    "J    infty    infty\n",
    "```"
   ]
  },
  {
   "cell_type": "markdown",
   "metadata": {},
   "source": [
    "---"
   ]
  },
  {
   "cell_type": "markdown",
   "metadata": {},
   "source": [
    "<div style=\"page-break-before: always;\"></div>\n",
    "\n",
    "## 3"
   ]
  },
  {
   "cell_type": "markdown",
   "metadata": {},
   "source": [
    "The Bellman-Ford algorithm will only function properly on graphs that do not contain negative cycles. Thus, it is important to be able to detect negative cycles. Propose an algorithm based on Bellman-Ford for determining whether a given graph contains a negative cycle and state its time complexity in big-theta notation."
   ]
  },
  {
   "cell_type": "markdown",
   "metadata": {},
   "source": [
    "The Bellman-Ford algorithm will converge after $|V| - 1$ iterations under the assumption that the graph has no negative cycle. Therefore, run the algorithm one more time for a total of $|V|$ iterations and check whether there is an update to a weight. If so, then there is a negative cycle. The time complexity $\\Theta(|V|\\cdot |E|)$ does not change."
   ]
  },
  {
   "cell_type": "markdown",
   "metadata": {},
   "source": [
    "---"
   ]
  }
 ],
 "metadata": {
  "language_info": {
   "name": "python"
  }
 },
 "nbformat": 4,
 "nbformat_minor": 2
}
