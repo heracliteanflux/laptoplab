{
 "cells": [
  {
   "cell_type": "markdown",
   "metadata": {},
   "source": [
    "# Assignment 5"
   ]
  },
  {
   "cell_type": "markdown",
   "metadata": {},
   "source": [
    "Dave Friedman<br>\n",
    "CMPSC 465 Data Structures and Algorithms<br>\n",
    "Summer 2024"
   ]
  },
  {
   "cell_type": "markdown",
   "metadata": {},
   "source": [
    "---"
   ]
  },
  {
   "cell_type": "markdown",
   "metadata": {},
   "source": [
    "<div style=\"page-break-before: always;\"></div>\n",
    "\n",
    "## 1"
   ]
  },
  {
   "cell_type": "markdown",
   "metadata": {},
   "source": [
    "Consider the following directed graph.\n",
    "\n",
    "```c\n",
    "A -> (B, 5), (C,  2)\n",
    "B -> (C, 3), (E,  3), (F, 7)\n",
    "C -> (B, 2), (D, 20)\n",
    "D -> (E, 1)\n",
    "E ->\n",
    "F -> (E, 1), (G,  2)\n",
    "G -> (H, 1)\n",
    "H -> (D, 2)\n",
    "```"
   ]
  },
  {
   "cell_type": "markdown",
   "metadata": {},
   "source": [
    "### A"
   ]
  },
  {
   "cell_type": "markdown",
   "metadata": {},
   "source": [
    "Treat the graph as unweighted and determine the single source shortest path distances from vertex B to all other vertexes within the graph using BFS. State explicitly the order in which nodes are visited as part of this search."
   ]
  },
  {
   "cell_type": "markdown",
   "metadata": {},
   "source": [
    "```c\n",
    "Mins\n",
    "A -> inf\n",
    "B -> 0, inf\n",
    "C -> 1, inf\n",
    "D -> 2, inf\n",
    "E -> 1, inf\n",
    "F -> 1, inf\n",
    "G -> 2, inf\n",
    "H -> 3, inf\n",
    "\n",
    "Queue\n",
    "(B, 0) <- pop(C, 1+0), (E, 1+0), (F, 1+0)\n",
    "(C, 1) <- pop(E, 1), (F, 1), (B, 1+1), (D, 1+1)\n",
    "(E, 1) <- pop(F, 1), (B, 2), (D, 2)\n",
    "(F, 1) <- skip(B, 2), pop(D, 2), (E, 1+1), (G, 1+1)\n",
    "(D, 2) <- skip(E, 2), pop(G, 2), (E, 1+2)\n",
    "(G, 2) <- skip(E, 3), pop(H, 1+2)\n",
    "(H, 3) <- (D, 1+3)\n",
    "\n",
    "B -> C -> E -> F -> D -> G -> H\n",
    "```"
   ]
  },
  {
   "cell_type": "markdown",
   "metadata": {},
   "source": [
    "### B"
   ]
  },
  {
   "cell_type": "markdown",
   "metadata": {},
   "source": [
    "Use the standard BFS algorithm (not Dijkstra's) to calculate the path distances from vertex B to all other vertexes in the graph. Provide one example of a path between B and some other node that is shorter than the incorrect \"shortest\" path reported by the algorithm."
   ]
  },
  {
   "cell_type": "markdown",
   "metadata": {},
   "source": [
    "```c\n",
    "Mins\n",
    "A -> inf\n",
    "B ->  0, inf\n",
    "C ->  3, inf\n",
    "D -> 23, inf\n",
    "E ->  3, inf\n",
    "F ->  7, inf\n",
    "G ->  9, inf\n",
    "H -> 10, inf\n",
    "\n",
    "Queue\n",
    "(B,  0) <- pop(C, 3+0), (E, 3+0), (F, 7+0)\n",
    "(C,  3) <- pop(E, 3), (F, 7), (B, 2+3), (D, 20+3)\n",
    "(E,  3) <- pop(F, 7), (B, 5), (D, 23)\n",
    "(F,  7) <- skip(B, 5), pop(D, 23), (E, 1+7), (G, 2+7)\n",
    "(D, 23) <- skip(E, 8), pop(G, 9), (E, 1+23)\n",
    "(G,  9) <- skip(E, 24), pop(H, 1+9)\n",
    "(H, 10) <- (D, 2+10)\n",
    "\n",
    "B -> C -> E -> F -> D -> G -> H\n",
    "```\n",
    "\n",
    "The weight of the path B -> F -> G -> H -> D is 12, which is less than the value from B to D reported by the algorithm."
   ]
  },
  {
   "cell_type": "markdown",
   "metadata": {},
   "source": [
    "### C"
   ]
  },
  {
   "cell_type": "markdown",
   "metadata": {},
   "source": [
    "Perform Dijkstra's algorithm to calculate the shortest path distances from vertex B to all other vertexes in the graph. State explicitly the order in which the nodes are visited."
   ]
  },
  {
   "cell_type": "markdown",
   "metadata": {},
   "source": [
    "Consider the following directed graph.\n",
    "\n",
    "```c\n",
    "A -> (B, 5), (C,  2)\n",
    "B -> (C, 3), (E,  3), (F, 7)\n",
    "C -> (B, 2), (D, 20)\n",
    "D -> (E, 1)\n",
    "E ->\n",
    "F -> (E, 1), (G,  2)\n",
    "G -> (H, 1)\n",
    "H -> (D, 2)\n",
    "```"
   ]
  },
  {
   "cell_type": "markdown",
   "metadata": {},
   "source": [
    "```c\n",
    "Mins\n",
    "A -> inf\n",
    "B ->  0, inf\n",
    "C ->  3, inf\n",
    "D -> 12, inf\n",
    "E ->  3, inf\n",
    "F ->  7, inf\n",
    "G ->  9, inf\n",
    "H -> 10, inf\n",
    "\n",
    "Priority Queue\n",
    "(B,  0) <- pop(C, 3+0), (E, 3+0), (F, 7+0)\n",
    "(C,  3) <- pop(E, 3), (F, 7), (B, 2+3), (D, 20+3)\n",
    "(E,  3) <- pop(F, 7), skip(B, 5), (D, 23)\n",
    "(F,  7) <- (D, 23), skip(E, 1+7), pop(G, 2+7)\n",
    "(G,  9) <- (D, 23), pop(H, 1+9)\n",
    "(H, 10) <- (D, 23), pop(D, 2+10)\n",
    "(D, 12) <- (D, 23), (E, 1+12)\n",
    "\n",
    "B -> C -> E -> F -> G -> H -> D\n",
    "```"
   ]
  },
  {
   "cell_type": "markdown",
   "metadata": {},
   "source": [
    "---"
   ]
  },
  {
   "cell_type": "markdown",
   "metadata": {},
   "source": [
    "<div style=\"page-break-before: always;\"></div>\n",
    "\n",
    "## 2"
   ]
  },
  {
   "cell_type": "markdown",
   "metadata": {},
   "source": [
    "Consider the following directed acyclic graph.\n",
    "\n",
    "```c\n",
    "A -> B, C\n",
    "B -> C\n",
    "C -> G\n",
    "D -> E, F, K\n",
    "E ->\n",
    "F -> G, I\n",
    "G -> H\n",
    "H -> I\n",
    "I ->\n",
    "J ->\n",
    "K -> I, J\n",
    "```"
   ]
  },
  {
   "cell_type": "markdown",
   "metadata": {},
   "source": [
    "### A"
   ]
  },
  {
   "cell_type": "markdown",
   "metadata": {},
   "source": [
    "Identify all the sources and sinks in the graph."
   ]
  },
  {
   "cell_type": "markdown",
   "metadata": {},
   "source": [
    "```c\n",
    "A is a src\n",
    "D is a src\n",
    "E is a snk\n",
    "I is a snk\n",
    "J is a snk\n",
    "```"
   ]
  },
  {
   "cell_type": "markdown",
   "metadata": {},
   "source": [
    "### B"
   ]
  },
  {
   "cell_type": "markdown",
   "metadata": {
    "vscode": {
     "languageId": "plaintext"
    }
   },
   "source": [
    "Draw a diagram of the reverse graph of the DAG."
   ]
  },
  {
   "cell_type": "markdown",
   "metadata": {},
   "source": [
    "```c\n",
    "A ->\n",
    "B -> A\n",
    "C -> A, B\n",
    "D ->\n",
    "E -> D\n",
    "F -> D\n",
    "G -> C, F\n",
    "H -> G\n",
    "I -> F, H, K\n",
    "J -> K\n",
    "K -> D\n",
    "```"
   ]
  },
  {
   "cell_type": "markdown",
   "metadata": {},
   "source": [
    "### C"
   ]
  },
  {
   "cell_type": "markdown",
   "metadata": {},
   "source": [
    "Use DFS with timing, showing a table of the pre/post values, to produce a valid linearization of the DAG."
   ]
  },
  {
   "cell_type": "markdown",
   "metadata": {},
   "source": [
    "```c\n",
    "   Pre Pst\n",
    "A   11  12\n",
    "B   13  14\n",
    "C   10  15\n",
    "D    2   3\n",
    "E    1   4\n",
    "F    6   7\n",
    "G    9  16\n",
    "H    8  17\n",
    "I    5  20\n",
    "J   21  22\n",
    "K   18  19\n",
    "\n",
    "Linearization\n",
    "1. D -> E -> F -> A -> B -> C -> G -> H -> K -> I -> J\n",
    "```"
   ]
  },
  {
   "cell_type": "markdown",
   "metadata": {},
   "source": [
    "### D"
   ]
  },
  {
   "cell_type": "markdown",
   "metadata": {},
   "source": [
    "State two more valid linearizations of the DAG."
   ]
  },
  {
   "cell_type": "markdown",
   "metadata": {},
   "source": [
    "```c\n",
    "   Pre Pst\n",
    "A    9  10\n",
    "B   11  12\n",
    "C    8  13\n",
    "D    3   4\n",
    "E   21  22\n",
    "F    2   5\n",
    "G    7  14\n",
    "H    6  15\n",
    "I    1  18\n",
    "J   19  20\n",
    "K   16  17\n",
    "\n",
    "Linearization\n",
    "1. D -> E -> F -> A -> B -> C -> G -> H -> K -> I -> J\n",
    "2. D -> F -> A -> B -> C -> G -> H -> K -> I -> J -> E\n",
    "\n",
    "   Pre Pst\n",
    "A    9  10\n",
    "B   11  12\n",
    "C    8  13\n",
    "D    3   4\n",
    "E   19  20\n",
    "F    2   5\n",
    "G    7  14\n",
    "H    6  15\n",
    "I    1  18\n",
    "J   21  22\n",
    "K   16  17\n",
    "\n",
    "Linearization\n",
    "1. D -> E -> F -> A -> B -> C -> G -> H -> K -> I -> J\n",
    "2. D ->      F -> A -> B -> C -> G -> H -> K -> I -> J -> E\n",
    "3. D ->      F -> A -> B -> C -> G -> H -> K -> I ->      E -> J\n",
    "```\n",
    "\n",
    "In other words, E must follow D but otherwise has no ordering relation with any of the other nodes."
   ]
  },
  {
   "cell_type": "markdown",
   "metadata": {},
   "source": [
    "---"
   ]
  },
  {
   "cell_type": "markdown",
   "metadata": {},
   "source": [
    "<div style=\"page-break-before: always;\"></div>\n",
    "\n",
    "## 3"
   ]
  },
  {
   "cell_type": "markdown",
   "metadata": {},
   "source": [
    "Consider the single source shortest path problem on a directed graph $G = (V, E)$ and a source vertex $s \\in V$ where each $e \\in E$ has a weight $w(e)$. There are no cycles in the graph containing a negative weighted edge, and the only negative weighted edges are those leaving $s$, i.e.\n",
    "\n",
    "$\\forall(u, v \\in E, u \\ne s) \\quad w((u, v)) \\gt 0$\n",
    "\n",
    "Given these assumptions, will Dijkstra's algorithm fail when run on this graph? Prove your conclusion."
   ]
  },
  {
   "cell_type": "markdown",
   "metadata": {},
   "source": [
    "Yes! Although $G$ may be cyclic, that $s$ is not involved in a cycle follows from the two requirements that edges outgoing from $s$ are negative and that no cycles contain negative edges. Let there be $k$ outgoing edges $(s, v_1), \\dotsc, (s, v_k)$ such that $w((s, v_1)) \\le \\dotsc \\le w((s, v_k))$. Dijkstra's algorithm begins by prioritizing $v_1$, the vertex with the smallest weight, and proceeds as normal along subsequent nonnegative edges. Since the weight of the outgoing edge to $v_1$ is smaller than the weights of any other outgoing edge, there is no path from $s$ to $v_1$ with a better path weight than the weight of the outgoing edge to $v_1$ itself.  And in general, for each $v_i, v_j$ such that $i \\lt j$ there is no path from $s$ to $v_i$ through $v_j$ with a better path weight than the weight of the outgoing edge to $v_i$ itself. All this to say that Dijkstra's algorithm proceeds no differently than it would if there were only nonnegative edges."
   ]
  },
  {
   "cell_type": "markdown",
   "metadata": {},
   "source": [
    "---"
   ]
  },
  {
   "cell_type": "markdown",
   "metadata": {},
   "source": [
    "<div style=\"page-break-before: always;\"></div>\n",
    "\n",
    "## 4"
   ]
  },
  {
   "cell_type": "markdown",
   "metadata": {},
   "source": [
    "Design an algorithm which accepts a directed graph as input and determines if there is a vertex within the graph from which all other vertexes are reachable. The algorithm should run in $\\Theta(|V| + |E|)$ time and you must demonatrate this fact."
   ]
  },
  {
   "cell_type": "markdown",
   "metadata": {},
   "source": [
    "The algorithm to determine whether a graph has exactly one source node, which depends on computing the in-degree of each vertex in the graph, requires $\\Theta(|V| + |E|)$ time.\n",
    "\n",
    "```c\n",
    " INPUT    a graph G = (V, E)\n",
    "OUTPUT    whether G has exactly one source node or not\n",
    "\n",
    "HAS_SINGLE_SOURCE(G)\n",
    "1    in_degree = {}            // empty associative array\n",
    "2\n",
    "3    foreach u in V            //                      for every vertex `u` in G...\n",
    "4        in_degree[u] = 0      // ...initialize the in_degree of vertex `u`\n",
    "5        foreach (u, v) in E   //    for every outgoing edge  of vertex `u`...\n",
    "6            in_degree[v] += 1 // ...increment  the in_degree of vertex `u`\n",
    "7\n",
    "8    return 0 if exactly one else -1\n",
    "```\n",
    "\n",
    "Run DFS with timing to determine the cyclicity of $G$. DFS with timing requires $\\Theta(|V| + |E|)$ time.\n",
    "\n",
    "In the cyclic case, generate the strongly-connected component metagraph (or DAG) of $G$ and then check that it has exactly one source node. Generating the strongly-connected component metagraph of $G$ requires $\\Theta(|V| + |E|)$ time and checking whether it has exactly one source node requires $\\Theta(|V| + |E|)$ time.\n",
    "\n",
    "In the acyclic case, check that $G$ has exactly one source node.\n",
    "\n",
    "$\n",
    "\\Theta(|V| + |E|) =\n",
    "\\begin{cases}\n",
    "\\underbrace{\\Theta(|V| + |E|)}_{\\text{cyclicity}} + \\underbrace{\\Theta(|V| + |E|)}_{\\text{has\\_single\\_source}} + \\underbrace{\\Theta(|V| + |E|)}_{\\text{metagraph}} & \\text{directed cyclic graph} \\\\\n",
    "\\underbrace{\\Theta(|V| + |E|)}_{\\text{cyclicity}} + \\underbrace{\\Theta(|V| + |E|)}_{\\text{has\\_single\\_source}} & \\text{DAG} \\\\\n",
    "\\end  {cases}\n",
    "$"
   ]
  },
  {
   "cell_type": "markdown",
   "metadata": {},
   "source": [
    "---"
   ]
  }
 ],
 "metadata": {
  "language_info": {
   "name": "python"
  }
 },
 "nbformat": 4,
 "nbformat_minor": 2
}
