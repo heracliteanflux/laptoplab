{
 "cells": [
  {
   "cell_type": "markdown",
   "metadata": {},
   "source": [
    "# Assignment 8\n",
    "Dave Friedman<br>\n",
    "CMPSC 465 Algorithms and Data Structures"
   ]
  },
  {
   "cell_type": "markdown",
   "metadata": {},
   "source": [
    "---"
   ]
  },
  {
   "cell_type": "markdown",
   "metadata": {},
   "source": [
    "<div style=\"page-break-before: always;\"></div>\n",
    "\n",
    "## 1"
   ]
  },
  {
   "cell_type": "markdown",
   "metadata": {},
   "source": [
    "A cargo plane can carry a maximum weight of $100$ tons of cargo and a maximum volume of $60$ cubic meters of cargo in one trip. You are in charge of loading the plane so as to maximize revenue. There are three possible materials that you can ship:\n",
    "\n",
    "1\\. Material 1 has a density of $2$ tons per cubic meter and a revenue of $\\$1,000.00$ per cubic meter shipped. You have $40$ cubic meters of the material available.\n",
    "\n",
    "2\\. Material 2 has a density of $1$ ton per cubic meter and a revenue of $\\$1,200.00$ per cubic meter shipped. You have $30$ cubic meters of the material available.\n",
    "\n",
    "3\\. Material 3 has a density of $3$ tons per cubic meter and a revenue of $\\$12,000.00$ per cubic meter shipped. You have $20$ cubic meters of the material available.\n",
    "\n",
    "Formulate a linear program that optimizes the amount of revenue within the constraints."
   ]
  },
  {
   "cell_type": "markdown",
   "metadata": {},
   "source": [
    "<div class=\"full-width\">\n",
    "\n",
    "$\n",
    "\\begin{aligned}\n",
    "x_1 &= \\text{the number of cubic meters of material } 1 \\\\\n",
    "x_2 &= \\text{the number of cubic meters of material } 2 \\\\\n",
    "x_3 &= \\text{the number of cubic meters of material } 3 \\\\\n",
    "\\end  {aligned}\n",
    "$\n",
    "\n",
    "$\n",
    "\\max \\{ 1000x_1 + 1200x_2 + 12000x_3 \\} \\text{ s.t.} \\\\\n",
    "\\begin{aligned}\n",
    "2x_1 + x_2 + 3x_3 &\\le 100 && \\text{the total tonnage must be no greater than 100} \\\\\n",
    " x_1 + x_2 +  x_3 &\\le  60 && \\text{the total volume  must be no greater than 60 cubic meters} \\\\\n",
    " x_1              &\\le  40 && \\text{the total volume of material 1 must be no greater than 40 cubic meters} \\\\\n",
    "       x_2        &\\le  30 && \\text{the total volume of material 2 must be no greater than 30 cubic meters} \\\\\n",
    "              x_3 &\\le  20 && \\text{the total volume of material 3 must be no greater than 20 cubic meters} \\\\\n",
    " x_1,  x_2,   x_3 &\\ge   0 && \\text{the total volume of any material must be nonnegative} \\\\\n",
    "\\end  {aligned}\n",
    "$\n",
    "\n",
    "</div>"
   ]
  },
  {
   "cell_type": "markdown",
   "metadata": {},
   "source": [
    "---"
   ]
  },
  {
   "cell_type": "markdown",
   "metadata": {},
   "source": [
    "<div style=\"page-break-before: always;\"></div>\n",
    "\n",
    "## 2"
   ]
  },
  {
   "cell_type": "markdown",
   "metadata": {},
   "source": [
    "Convert the following linear program into standard form, and state whether a solution to the program exists or not.\n",
    "\n",
    "$\n",
    "\\max \\{ 4x_1 + 2x_3 - 8x_3 + x_4 \\} \\text{ s.t.} \\\\\n",
    "\\begin{aligned}\n",
    " x_1 + x_2           &\\ge  5 \\\\\n",
    "       x_2           &\\le 10 \\\\\n",
    " x_1       + x_3     &\\le  7 \\\\\n",
    "       x_2 + x_3     &\\ge  3 \\\\\n",
    "                 x_4 &\\le  3 \\\\\n",
    "                 x_4 &\\ge -5 \\\\\n",
    "\\end  {aligned}\n",
    "$"
   ]
  },
  {
   "cell_type": "markdown",
   "metadata": {},
   "source": [
    "$\n",
    "\\min \\{ -4x_1 - 2x_3 + 8x_3 - x_4 \\} \\text{ s.t.} \\\\\n",
    "\\begin{aligned}\n",
    " x_1 + x_2           - s_1 &=  5 \\\\\n",
    "       x_2           + s_2 &= 10 \\\\\n",
    " x_1       + x_3     + s_3 &=  7 \\\\\n",
    "       x_2 + x_3     - s_4 &=  3 \\\\\n",
    "                 x_4 + s_5 &=  3 \\\\\n",
    "                 x_4^+ - x_4^- - s_6 &= -5 \\\\\n",
    "x_1, x_2, x_3, x_4, x_4^+, x_4^-, s_1, s_2, s_3, s_4, s_5, s_6 &\\ge 0 \\\\\n",
    "\\end  {aligned}\n",
    "$\n",
    "\n",
    "The solution exists."
   ]
  },
  {
   "cell_type": "markdown",
   "metadata": {},
   "source": [
    "---"
   ]
  },
  {
   "cell_type": "markdown",
   "metadata": {},
   "source": [
    "<div style=\"page-break-before: always;\"></div>\n",
    "\n",
    "## 3"
   ]
  },
  {
   "cell_type": "markdown",
   "metadata": {},
   "source": [
    "Consider the following flow network with source $S$ and sink $T$ and associated edge capacities.\n",
    "\n"
   ]
  },
  {
   "cell_type": "markdown",
   "metadata": {},
   "source": [
    "**A**\n",
    "\n",
    "Find the maximum flow and all possible minimum cuts."
   ]
  },
  {
   "cell_type": "markdown",
   "metadata": {},
   "source": [
    "**B**\n",
    "\n",
    "Draw the residual graph $G_f$ along with its edge capacities where $f$ is the max flow from part A."
   ]
  },
  {
   "cell_type": "markdown",
   "metadata": {},
   "source": [
    "**C**\n",
    "\n",
    "List all critical edges within the network."
   ]
  },
  {
   "cell_type": "markdown",
   "metadata": {},
   "source": [
    "![](IMG_7210.jpeg)"
   ]
  },
  {
   "cell_type": "markdown",
   "metadata": {},
   "source": [
    "---"
   ]
  }
 ],
 "metadata": {
  "language_info": {
   "name": "python"
  }
 },
 "nbformat": 4,
 "nbformat_minor": 2
}
