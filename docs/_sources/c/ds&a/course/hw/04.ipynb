{
 "cells": [
  {
   "cell_type": "markdown",
   "metadata": {},
   "source": [
    "# Assignment 4\n",
    "Dave Friedman<br>\n",
    "CMPSC 465 Algorithms and Data Structures"
   ]
  },
  {
   "cell_type": "markdown",
   "metadata": {},
   "source": [
    "---"
   ]
  },
  {
   "cell_type": "markdown",
   "metadata": {},
   "source": [
    "## 1"
   ]
  },
  {
   "cell_type": "markdown",
   "metadata": {},
   "source": [
    "A ticket machine accepts a ticket of <span style=\"color: blue;\">nonnegative integer value</span> $t$ and prints two tickets of nonnegative integer values $t^2 \\mod 400$ and $t^2 + 1 \\mod 400$ only one of which you may accept. For example, the ticket machine accepts a ticket $103$ and prints two tickets $209 = 103^2 \\mod 400$ and $210 = 103^2 + 1 \\mod 400$.\n",
    "\n",
    "If you start with a ticket $1$ is it possible to obtain a ticket $20$?"
   ]
  },
  {
   "cell_type": "markdown",
   "metadata": {},
   "source": [
    "In the terms of graphs, ticket values are represented by vertices. If $t$ is a nonnegative integer modulo $400$ then it is a value between $0$ and $399$. The exchange mechanism is represented by edges directed from the input value $t$ to two output values $t^2 \\,\\text{mod}\\, 400$ and $t^2 + 1 \\,\\text{mod}\\, 400$. In the terms of graphs, we want to know whether vertex $20$ is reachable from vertex $1$."
   ]
  },
  {
   "cell_type": "markdown",
   "metadata": {},
   "source": [
    "$\n",
    "\\begin{aligned}\n",
    " V  &= \\{ 0, \\dotsc, 399\\} \\\\\n",
    "|V| &= 400 \\\\\n",
    " E  &= \\{ (t, t^2 \\,\\text{mod}\\, 400) \\} \\cup \\{ (t, (t^2 + 1) \\,\\text{mod}\\, 400) \\} \\\\\n",
    "|E| &= 800 \\\\\n",
    "\\end  {aligned}\n",
    "$\n",
    "\n",
    "$\n",
    "\\begin{aligned}\n",
    "t &\\to t^2 \\,\\text{mod}\\, 400, (t^2 + 1) \\,\\text{mod}\\, 400 \\\\\n",
    "1 &\\to 1, 2 \\\\\n",
    "2 &\\to 4, 5 \\\\\n",
    "4 &\\to 16, 17 \\\\\n",
    "5 &\\to 25, 26 \\\\\n",
    "16 &\\to 256, 257 \\\\\n",
    "17 &\\to 289, 290 \\\\\n",
    "\\vdots\n",
    "\\end  {aligned}\n",
    "$"
   ]
  },
  {
   "cell_type": "markdown",
   "metadata": {},
   "source": [
    "---"
   ]
  },
  {
   "cell_type": "markdown",
   "metadata": {},
   "source": [
    "## 2"
   ]
  },
  {
   "cell_type": "markdown",
   "metadata": {},
   "source": [
    "### 2A"
   ]
  },
  {
   "cell_type": "markdown",
   "metadata": {},
   "source": [
    "The visual representation of a reverse graph $G_R$ of a directed graph $G$ is just the same graph with the directed edges reversed."
   ]
  },
  {
   "cell_type": "markdown",
   "metadata": {},
   "source": [
    "$G$\n",
    "\n",
    "```c\n",
    "A : B, C\n",
    "B : C\n",
    "C : B\n",
    "D : E, F, K\n",
    "E :\n",
    "F : G\n",
    "G : H\n",
    "H : D\n",
    "I : K\n",
    "J : I\n",
    "K : J\n",
    "```\n",
    "\n",
    "$G_R$\n",
    "\n",
    "```c\n",
    "A :\n",
    "B : A, C\n",
    "C : A, B\n",
    "D : H\n",
    "E : D\n",
    "F : D\n",
    "G : F\n",
    "H : G\n",
    "I : J\n",
    "J : K\n",
    "K : D, I\n",
    "```"
   ]
  },
  {
   "cell_type": "markdown",
   "metadata": {},
   "source": [
    "```c\n",
    "TRAVERSE(G, v)\n",
    " 1    visit(v)\n",
    " 2    global pre[v] = clock\n",
    " 3    global clock++\n",
    " 4\n",
    " 5    foreach (v, vx) in E\n",
    " 6        if visited(v)\n",
    " 7            continue\n",
    " 8        TRAVERSE(G, vx)\n",
    " 9\n",
    "10    global post[v] = clock\n",
    "11    global clock++\n",
    "\n",
    "DFS_WITH_TIMING(G)\n",
    "1    global clock = 1\n",
    "2    foreach v in V\n",
    "3        if visited(v)\n",
    "4            continue\n",
    "5        TRAVERSE(G, v)\n",
    "```"
   ]
  },
  {
   "cell_type": "markdown",
   "metadata": {},
   "source": [
    "---"
   ]
  },
  {
   "cell_type": "markdown",
   "metadata": {},
   "source": [
    "## 3"
   ]
  },
  {
   "cell_type": "markdown",
   "metadata": {},
   "source": [
    "Consider a directed graph $G = (V, E)$ and a particular vertex $v \\in V$ and edge $e = (a, b) \\in E$. Design an algorithm that runs in $\\Theta(|V| + |E|)$ time that can determine whether there is a cycle within $G$ that contains both $v$ and $e$."
   ]
  },
  {
   "cell_type": "markdown",
   "metadata": {},
   "source": [
    "---"
   ]
  }
 ],
 "metadata": {
  "kernelspec": {
   "display_name": "ml",
   "language": "python",
   "name": "python3"
  },
  "language_info": {
   "codemirror_mode": {
    "name": "ipython",
    "version": 3
   },
   "file_extension": ".py",
   "mimetype": "text/x-python",
   "name": "python",
   "nbconvert_exporter": "python",
   "pygments_lexer": "ipython3",
   "version": "3.11.9"
  }
 },
 "nbformat": 4,
 "nbformat_minor": 2
}
