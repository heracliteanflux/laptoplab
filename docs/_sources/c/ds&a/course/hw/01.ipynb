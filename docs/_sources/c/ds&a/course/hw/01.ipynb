{
 "cells": [
  {
   "cell_type": "markdown",
   "metadata": {},
   "source": [
    "# Assignment 1\n",
    "Dave Friedman<br>\n",
    "CMPSC 465 Data Structures and Algorithms<br>\n",
    "Summer 2024"
   ]
  },
  {
   "cell_type": "markdown",
   "metadata": {},
   "source": [
    "---"
   ]
  },
  {
   "cell_type": "markdown",
   "metadata": {},
   "source": [
    "## Table of Contents\n",
    "```{contents}\n",
    "```"
   ]
  },
  {
   "cell_type": "markdown",
   "metadata": {},
   "source": [
    "---"
   ]
  },
  {
   "cell_type": "markdown",
   "metadata": {},
   "source": [
    "## Auxiliary Code"
   ]
  },
  {
   "cell_type": "code",
   "execution_count": 2,
   "metadata": {
    "tags": [
     "hide-input"
    ]
   },
   "outputs": [],
   "source": [
    "import numpy             as np\n",
    "from   scipy.special     import factorial\n",
    "import matplotlib        as mpl\n",
    "import matplotlib.pyplot as plt\n",
    "plt.style.use('ggplot');\n",
    "plt.rcParams.update({'text.usetex' : True});\n",
    "%matplotlib inline"
   ]
  },
  {
   "cell_type": "markdown",
   "metadata": {},
   "source": [
    "---"
   ]
  },
  {
   "cell_type": "markdown",
   "metadata": {},
   "source": [
    "<div style=\"page-break-before: always;\"></div>\n",
    "\n",
    "## Problem 1 - Big Oh"
   ]
  },
  {
   "cell_type": "markdown",
   "metadata": {},
   "source": [
    "---"
   ]
  },
  {
   "cell_type": "markdown",
   "metadata": {},
   "source": [
    "### 1A"
   ]
  },
  {
   "cell_type": "markdown",
   "metadata": {},
   "source": [
    "$\n",
    "\\begin{aligned}\n",
    "f(n) &= n^{10000} \\\\\n",
    "g(n) &= 2^n       \\\\\n",
    "\\end  {aligned}\n",
    "$"
   ]
  },
  {
   "cell_type": "markdown",
   "metadata": {},
   "source": [
    "$\n",
    "\\begin{aligned}\n",
    "  \\lim_{n \\to \\infty} \\frac{f(n)}{g(n)}\n",
    "= \\lim_{n \\to \\infty} \\frac{n^{10000}}{2^n}\n",
    "\\end  {aligned}\n",
    "$\n",
    "\n",
    "One application of L'Hospital's rule yields:\n",
    "\n",
    "$\n",
    "\\begin{aligned}\n",
    "  \\lim_{n \\to \\infty} \\frac{10,000 \\cdot n^{9999}}{\\ln 2 \\cdot 2^n}\n",
    "= \\frac{10,000}{\\ln 2} \\lim_{n \\to \\infty} \\frac{n^{9999}}{2^n}\n",
    "\\end  {aligned}\n",
    "$\n",
    "\n",
    "Ten thousand applications of L'Hospital's rule yields:\n",
    "\n",
    "$\n",
    "\\begin{aligned}\n",
    "  \\left( \\frac{10,000}{\\ln 2} \\times \\frac{9,999}{\\ln 2} \\times \\dots \\times \\frac{2}{\\ln 2} \\times \\frac{1}{\\ln 2} \\right) \\lim_{n \\to \\infty} \\frac{1}{2^n}\n",
    "= \\left( \\frac{10,000!}{\\ln^{10,000} 2} \\right) \\lim_{n \\to \\infty} \\frac{1}{2^n}\n",
    "\\end  {aligned}\n",
    "$\n",
    "\n",
    "The factor $\\begin{aligned} \\frac{10,000!}{\\ln^{10,000} 2} \\end{aligned}$ is just a constant and $\\begin{aligned} \\lim_{n \\to \\infty} \\frac{1}{2^n} \\end{aligned} = 0$ and so\n",
    "\n",
    "$\n",
    "\\begin{aligned}\n",
    "  \\lim_{n \\to \\infty} \\frac{f(n)}{g(n)}\n",
    "= \\lim_{n \\to \\infty} \\frac{n^{10000}}{2^n}\n",
    "= 0\n",
    "\\end  {aligned}\n",
    "$"
   ]
  },
  {
   "cell_type": "markdown",
   "metadata": {},
   "source": [
    "Therefore\n",
    "\n",
    "$f = o(g) \\implies f = O(g)$\n",
    "\n",
    "where the antecedent states that function $f$ grows slower than a constant multiple of function $g$ for all sufficiently large $n$\n",
    "\n",
    "and the consequent states that function $f$ grows no faster than a constant multiple of function $g$ for all sufficiently large $n$"
   ]
  },
  {
   "cell_type": "code",
   "execution_count": 13,
   "metadata": {
    "tags": [
     "hide-input"
    ]
   },
   "outputs": [
    {
     "data": {
      "image/png": "[encoded data removed]",
      "text/plain": [
       "<Figure size 640x480 with 1 Axes>"
      ]
     },
     "metadata": {},
     "output_type": "display_data"
    }
   ],
   "source": [
    "s = 10\n",
    "n = np.linspace(0, s, 1001)\n",
    "f = n**10 # n = 10,000\n",
    "g = 2**n\n",
    "\n",
    "fig = plt.figure();\n",
    "ax  = plt.subplot();\n",
    "ax.set_aspect(1);\n",
    "ax.plot(n, f, label='$n^{10,000}$', linewidth=2, color='#6495ED');\n",
    "ax.plot(n, g, label='$2^n$',        linewidth=2, color='#ED7864');\n",
    "ax.set_facecolor('#c0c6d1')\n",
    "ax.set_xlim(0,s);\n",
    "ax.set_ylim(0,s);\n",
    "ax.legend();"
   ]
  },
  {
   "cell_type": "markdown",
   "metadata": {},
   "source": [
    "---"
   ]
  },
  {
   "cell_type": "markdown",
   "metadata": {},
   "source": [
    "### 1B"
   ]
  },
  {
   "cell_type": "markdown",
   "metadata": {},
   "source": [
    "$\n",
    "\\begin{aligned}\n",
    "f(n) &= n        \\\\\n",
    "g(n) &= \\sqrt{n} \\\\\n",
    "\\end  {aligned}\n",
    "$"
   ]
  },
  {
   "cell_type": "markdown",
   "metadata": {},
   "source": [
    "$\n",
    "\\begin{aligned}\n",
    "\\lim_{n \\to \\infty} \\frac{f(n)}{g(n)}\n",
    "= \\lim_{n \\to \\infty} \\frac{n}{\\sqrt{n}}\n",
    "= \\lim_{n \\to \\infty} (n^{\\frac{1}{2}})\n",
    "= \\left( \\lim_{n \\to \\infty} n \\right)^{\\frac{1}{2}}\n",
    "= \\infty\n",
    "\\end  {aligned}\n",
    "$"
   ]
  },
  {
   "cell_type": "markdown",
   "metadata": {},
   "source": [
    "Therefore\n",
    "\n",
    "$f = \\omega(g) \\implies f = \\Omega(g)$\n",
    "\n",
    "where the antecedent states that function $f$ grows faster than a constant multiple of function $g$ for all sufficiently large $n$\n",
    "\n",
    "and the consequent states that function $f$ grows no slower than a constant multiple of function $g$ for all sufficiently large $n$"
   ]
  },
  {
   "cell_type": "code",
   "execution_count": 14,
   "metadata": {
    "tags": [
     "hide-input"
    ]
   },
   "outputs": [
    {
     "data": {
      "image/png": "[encoded data removed]",
      "text/plain": [
       "<Figure size 640x480 with 1 Axes>"
      ]
     },
     "metadata": {},
     "output_type": "display_data"
    }
   ],
   "source": [
    "s = 10\n",
    "n = np.linspace(0, s, 1001)\n",
    "f = n\n",
    "g = n**0.5\n",
    "\n",
    "fig = plt.figure();\n",
    "ax  = plt.subplot();\n",
    "ax.set_aspect(1);\n",
    "ax.plot(n, f, label='$n$',        linewidth=2, color='#6495ED');\n",
    "ax.plot(n, g, label='$\\sqrt{n}$', linewidth=2, color='#ED7864');\n",
    "ax.set_facecolor('#c0c6d1')\n",
    "ax.set_xlim(0,s);\n",
    "ax.set_ylim(0,s);\n",
    "ax.legend();"
   ]
  },
  {
   "cell_type": "markdown",
   "metadata": {},
   "source": [
    "---"
   ]
  },
  {
   "cell_type": "markdown",
   "metadata": {},
   "source": [
    "### 1C"
   ]
  },
  {
   "cell_type": "markdown",
   "metadata": {},
   "source": [
    "$\n",
    "\\begin{aligned}\n",
    "f(n) &= 5n + \\sqrt{n} \\\\\n",
    "g(n) &= 3n + \\log n   \\\\\n",
    "\\end  {aligned}\n",
    "$"
   ]
  },
  {
   "cell_type": "markdown",
   "metadata": {},
   "source": [
    "$\n",
    "\\begin{aligned}\n",
    "  \\lim_{n \\to \\infty} \\frac{f(n)}{g(n)}\n",
    "= \\lim_{n \\to \\infty} \\frac{5n + \\sqrt{n}}{3n + \\log n}\n",
    "= \\lim_{n \\to \\infty} \\frac{5 + \\frac{1}{n^{\\frac{1}{2}}}}{3 + \\frac{\\log n}{n}}\n",
    "= \\frac{5 + \\lim_{n \\to \\infty} \\frac{1}{n^{\\frac{1}{2}}}}{3 + \\lim_{n \\to \\infty} \\frac{\\log n}{n}}\n",
    "\\end  {aligned}\n",
    "$\n",
    "\n",
    "$\n",
    "\\begin{aligned}\n",
    "                               \\lim_{n \\to \\infty} \\frac{\\log n}{n}\n",
    "\\overset{\\text{L'Hospital}}{=} \\lim_{n \\to \\infty} \\frac{\\frac{1}{n}}{1}\n",
    "                             = \\lim_{n \\to \\infty} \\frac{1}{n}\n",
    "                             = 0\n",
    "\\end  {aligned}\n",
    "$\n",
    "\n",
    "$\n",
    "\\begin{aligned}\n",
    "  \\frac{5 + \\lim_{n \\to \\infty} \\frac{1}{n^{\\frac{1}{2}}}}{3 + \\lim_{n \\to \\infty} \\frac{\\log n}{n}}\n",
    "= \\frac{5}{3}\n",
    "\\end  {aligned}\n",
    "$"
   ]
  },
  {
   "cell_type": "markdown",
   "metadata": {},
   "source": [
    "Therefore\n",
    "\n",
    "$f = \\Theta(g)$\n",
    "\n",
    "function $f$ grows at the same rate as a constant multiple of function $g$ for all sufficiently large $n$"
   ]
  },
  {
   "cell_type": "code",
   "execution_count": 16,
   "metadata": {
    "tags": [
     "hide-input"
    ]
   },
   "outputs": [
    {
     "data": {
      "image/png": "[encoded data removed]",
      "text/plain": [
       "<Figure size 640x480 with 1 Axes>"
      ]
     },
     "metadata": {},
     "output_type": "display_data"
    }
   ],
   "source": [
    "s = 10\n",
    "n = np.linspace(0.1, s, 1001)\n",
    "f = 5*n + np.sqrt(n)\n",
    "g = 3*n + np.log(n)\n",
    "\n",
    "fig = plt.figure();\n",
    "ax  = plt.subplot();\n",
    "ax.set_aspect(1);\n",
    "ax.plot(n, f, label='', linewidth=2, color='#6495ED');\n",
    "ax.plot(n, g, label='', linewidth=2, color='#ED7864');\n",
    "ax.set_facecolor('#c0c6d1')\n",
    "ax.set_xlim(0,s);\n",
    "ax.set_ylim(0,s);"
   ]
  },
  {
   "cell_type": "markdown",
   "metadata": {},
   "source": [
    "---"
   ]
  },
  {
   "cell_type": "markdown",
   "metadata": {},
   "source": [
    "### 1D"
   ]
  },
  {
   "cell_type": "markdown",
   "metadata": {},
   "source": [
    "$\n",
    "\\begin{aligned}\n",
    "f(n) &= \\log (n!) \\\\\n",
    "g(n) &= n \\log n   \\\\\n",
    "\\end  {aligned}\n",
    "$"
   ]
  },
  {
   "cell_type": "markdown",
   "metadata": {},
   "source": [
    "<div class=\"full-width\">\n",
    "\n",
    "$\n",
    "\\begin{aligned}\n",
    "\\log (n!) &= \\log (n \\times n - 1 \\times \\dots \\times 2 \\times 1) &&= \\log (n) && + && \\log (n - 1) && + && \\dots && + && \\log (2) && + && \\log (1) \\\\\n",
    "n \\log n  &                                                       &&= \\log (n) && + && \\log (n)     && + && \\dots && + && \\log (n) && + && \\log (n) \\\\\n",
    "\\end  {aligned}\n",
    "$\n",
    "\n",
    "Therefore the limit has an upper bound of $1$:\n",
    "\n",
    "$\\log (n!) \\le n \\log n \\implies \\frac{\\log (n!)}{n \\log n} \\le 1$\n",
    "\n",
    "</div>"
   ]
  },
  {
   "cell_type": "markdown",
   "metadata": {},
   "source": [
    "How to show a lower bound of $1$?\n",
    "\n",
    "https://math.stackexchange.com/questions/376988/limit-of-frac-lognn-logn-as-n-to-infty"
   ]
  },
  {
   "cell_type": "markdown",
   "metadata": {},
   "source": [
    "$\n",
    "\\begin{aligned}\n",
    "\\lim_{n \\to \\infty} \\frac{f(n)}{g(n)} =\n",
    "\\lim_{n \\to \\infty} \\frac{\\log (n!)}{n \\log n} =\n",
    "1\n",
    "\\end  {aligned}\n",
    "$"
   ]
  },
  {
   "cell_type": "markdown",
   "metadata": {},
   "source": [
    "Therefore\n",
    "\n",
    "$f \\sim g \\implies f = \\Theta(g)$\n",
    "\n",
    "not only does function $f$ grow at the same rate as a constant multiple of function $g$ for all sufficiently large $n$ but $\\frac{f}{g}$ approaches $1$"
   ]
  },
  {
   "cell_type": "code",
   "execution_count": 22,
   "metadata": {
    "tags": [
     "hide-input"
    ]
   },
   "outputs": [
    {
     "data": {
      "image/png": "[encoded data removed]",
      "text/plain": [
       "<Figure size 640x480 with 1 Axes>"
      ]
     },
     "metadata": {},
     "output_type": "display_data"
    }
   ],
   "source": [
    "s = 10\n",
    "n = np.linspace(0.1, s, 1001)\n",
    "f = np.log(factorial(n))\n",
    "g = n * np.log(n)\n",
    "\n",
    "fig = plt.figure();\n",
    "ax  = plt.subplot();\n",
    "ax.set_aspect(1);\n",
    "ax.plot(n, f, label='', linewidth=2, color='#6495ED');\n",
    "ax.plot(n, g, label='', linewidth=2, color='#ED7864');\n",
    "ax.set_facecolor('#c0c6d1')\n",
    "ax.set_xlim(0,s);\n",
    "ax.set_ylim(0,s);"
   ]
  },
  {
   "cell_type": "markdown",
   "metadata": {},
   "source": [
    "---"
   ]
  },
  {
   "cell_type": "markdown",
   "metadata": {},
   "source": [
    "### 1E"
   ]
  },
  {
   "cell_type": "markdown",
   "metadata": {},
   "source": [
    "$\n",
    "\\begin{aligned}\n",
    "f(n) &= \\log^{100} n \\\\\n",
    "g(n) &= n^{.001}   \\\\\n",
    "\\end  {aligned}\n",
    "$"
   ]
  },
  {
   "cell_type": "markdown",
   "metadata": {},
   "source": [
    "<div class=\"full-width\">\n",
    "\n",
    "$\n",
    "\\begin{aligned}\n",
    "  \\lim_{n \\to \\infty} \\frac{f(n)}{g(n)}\n",
    "= \\lim_{n \\to \\infty} \\frac{\\log^{100} n}{n^{.001}}\n",
    "\\end  {aligned}\n",
    "$\n",
    "\n",
    "One application of L'Hospital's rule yields:\n",
    "\n",
    "$\n",
    "\\begin{aligned}\n",
    "  \\lim_{n \\to \\infty} \\frac{100 \\frac{1}{n} \\cdot \\log^{99} n}{\\frac{1}{1000} \\cdot \\frac{1}{n^\\frac{999}{1000}}}\n",
    "= 100 \\times 1,000 \\lim_{n \\to \\infty} \\frac{\\frac{1}{n} \\cdot \\log^{99} n}{\\frac{1}{n^\\frac{999}{1000}}}\n",
    "= 100 \\times 1,000 \\lim_{n \\to \\infty} \\frac{\\log^{99} n}{n^{.001}}\n",
    "\\end  {aligned}\n",
    "$\n",
    "\n",
    "One hundred applications of L'Hospital's rule yields:\n",
    "\n",
    "$\n",
    "\\begin{aligned}\n",
    "  (100 \\times 1,000) \\times (99 \\times 1,000) \\times \\dots \\times (2 \\times 1,000) \\times (1 \\times 1,000) \\times \\lim_{n \\to \\infty} \\frac{\\frac{1}{n}}{n^{.001}}\n",
    "= (100! \\times 1,000^{100}) \\times \\lim_{n \\to \\infty} \\frac{1}{n^{1.001}}\n",
    "\\end  {aligned}\n",
    "$\n",
    "\n",
    "The factor $\\begin{aligned} 100! \\times 1,000^{100} \\end{aligned}$ is just a constant and $\\begin{aligned} \\lim_{n \\to \\infty} \\frac{1}{n^{1.001}} \\end{aligned} = 0$ and so\n",
    "\n",
    "$\n",
    "\\begin{aligned}\n",
    "  \\lim_{n \\to \\infty} \\frac{f(n)}{g(n)}\n",
    "= \\lim_{n \\to \\infty} \\frac{\\log^{100} n}{n^{.001}}\n",
    "= 0\n",
    "\\end  {aligned}\n",
    "$\n",
    "\n",
    "</div>"
   ]
  },
  {
   "cell_type": "markdown",
   "metadata": {},
   "source": [
    "Therefore\n",
    "\n",
    "$f = o(g) \\implies f = O(g)$\n",
    "\n",
    "where the antecedent states that function $f$ grows slower than a constant multiple of function $g$ for all sufficiently large $n$\n",
    "\n",
    "and the consequent states that function $f$ grows no faster than a constant multiple of function $g$ for all sufficiently large $n$"
   ]
  },
  {
   "cell_type": "code",
   "execution_count": 45,
   "metadata": {
    "tags": [
     "hide-input"
    ]
   },
   "outputs": [
    {
     "data": {
      "image/png": "[encoded data removed]",
      "text/plain": [
       "<Figure size 640x480 with 1 Axes>"
      ]
     },
     "metadata": {},
     "output_type": "display_data"
    }
   ],
   "source": [
    "s = 10\n",
    "n = np.linspace(0.1, s, 1001)\n",
    "f = np.log(n)**10\n",
    "g = n**(0.001)\n",
    "\n",
    "fig = plt.figure();\n",
    "ax  = plt.subplot();\n",
    "ax.set_aspect(1);\n",
    "ax.plot(n, f, label='', linewidth=2, color='#6495ED');\n",
    "ax.plot(n, g, label='', linewidth=2, color='#ED7864');\n",
    "ax.set_facecolor('#c0c6d1')\n",
    "ax.set_xlim(0,s);\n",
    "ax.set_ylim(0,s);"
   ]
  },
  {
   "cell_type": "markdown",
   "metadata": {},
   "source": [
    "---"
   ]
  }
 ],
 "metadata": {
  "kernelspec": {
   "display_name": "Python 3 (ipykernel)",
   "language": "python",
   "name": "python3"
  },
  "language_info": {
   "codemirror_mode": {
    "name": "ipython",
    "version": 3
   },
   "file_extension": ".py",
   "mimetype": "text/x-python",
   "name": "python",
   "nbconvert_exporter": "python",
   "pygments_lexer": "ipython3",
   "version": "3.11.9"
  }
 },
 "nbformat": 4,
 "nbformat_minor": 4
}
