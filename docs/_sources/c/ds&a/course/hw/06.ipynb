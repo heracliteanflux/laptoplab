{
 "cells": [
  {
   "cell_type": "markdown",
   "metadata": {},
   "source": [
    "# Assignment 6\n",
    "Dave Friedman <br>\n",
    "CMPSC 465 Data Structures and Algorithms"
   ]
  },
  {
   "cell_type": "markdown",
   "metadata": {},
   "source": [
    "---"
   ]
  },
  {
   "cell_type": "markdown",
   "metadata": {},
   "source": [
    "<div style=\"page-break-before: always;\"></div>\n",
    "\n",
    "## 1"
   ]
  },
  {
   "cell_type": "markdown",
   "metadata": {},
   "source": [
    "For each of the following Horn formulae apply the greedy algorithm discussed in lecture to find a variable assignment that satisfies it, or state that the formula is not satisfiable. Show the complete, step-by-step sequence of assignments made to solve the formula."
   ]
  },
  {
   "cell_type": "markdown",
   "metadata": {},
   "source": [
    "**A**\n",
    "\n",
    "This set of clauses ***is not satisfiable***.\n",
    "\n",
    "$\n",
    "\\begin{aligned}\n",
    "(w \\land y \\land z) &\\implies x \\\\\n",
    "(x \\land z)         &\\implies w \\\\\n",
    "x                   &\\implies y && \\text{2. y must be true} \\\\\n",
    "                    &\\implies x && \\text{1. x must be true} \\\\\n",
    "(x \\land y)         &\\implies w && \\text{3. w must be true} \\\\\n",
    "(\\lnot w \\lor \\lnot x \\lor \\lnot y) & && \\text{not satisfied}\\\\\n",
    "\\lnot z \\\\\n",
    "\\end  {aligned}\n",
    "$\n",
    "\n",
    "$\n",
    "\\begin{array}{c | c | c | c | c}\n",
    "  &        0 &        1 &        2 &        3 \\\\\n",
    "\\hline\n",
    "w & \\text{F} & \\text{F} & \\text{F} & \\text{T} \\\\\n",
    "x & \\text{F} & \\text{T} & \\text{T} & \\text{T} \\\\\n",
    "y & \\text{F} & \\text{F} & \\text{T} & \\text{T} \\\\\n",
    "z & \\text{F} & \\text{F} & \\text{F} & \\text{F} \\\\\n",
    "\\end  {array}\n",
    "$"
   ]
  },
  {
   "cell_type": "markdown",
   "metadata": {},
   "source": [
    "**B**\n",
    "\n",
    "This set of clauses ***is satisfiable***.\n",
    "\n",
    "$\n",
    "\\begin{aligned}\n",
    "(x \\land z) &\\implies y \\\\\n",
    "z           &\\implies w && \\text{2. w must be true} \\\\\n",
    "(y \\land z) &\\implies x \\\\\n",
    "            &\\implies z && \\text{1. z must be true} \\\\\n",
    "(\\lnot z \\lor \\lnot x) & \\\\\n",
    "(\\lnot w \\lor \\lnot y \\lor \\lnot z) & \\\\\n",
    "\\end  {aligned}\n",
    "$\n",
    "\n",
    "$\n",
    "\\begin{array}{c | c | c | c}\n",
    "  &        0 &        1 &        2 \\\\\n",
    "\\hline\n",
    "w & \\text{F} & \\text{F} & \\text{T} \\\\\n",
    "x & \\text{F} & \\text{F} & \\text{F} \\\\\n",
    "y & \\text{F} & \\text{F} & \\text{F} \\\\\n",
    "z & \\text{F} & \\text{T} & \\text{T} \\\\\n",
    "\\end  {array}\n",
    "$"
   ]
  },
  {
   "cell_type": "markdown",
   "metadata": {},
   "source": [
    "**C**\n",
    "\n",
    "This set of clauses ***is not satisfiable***.\n",
    "\n",
    "$\n",
    "\\begin{aligned}\n",
    "                       &\\implies y && \\text{1. y must be true} \\\\\n",
    "(x \\land z)            &\\implies w \\\\\n",
    "(\\lnot x \\lor \\lnot y) &           && \\text{not satisfied} \\\\\n",
    "y                      &\\implies x && \\text{2. x must be true} \\\\\n",
    "\\end  {aligned}\n",
    "$\n",
    "\n",
    "$\n",
    "\\begin{array}{c | c | c | c}\n",
    "  &        0 &        1 &        2 \\\\\n",
    "\\hline\n",
    "w & \\text{F} & \\text{F} & \\text{F} \\\\\n",
    "x & \\text{F} & \\text{F} & \\text{T} \\\\\n",
    "y & \\text{F} & \\text{T} & \\text{T} \\\\\n",
    "z & \\text{F} & \\text{F} & \\text{F} \\\\\n",
    "\\end  {array}\n",
    "$"
   ]
  },
  {
   "cell_type": "markdown",
   "metadata": {},
   "source": [
    "---"
   ]
  },
  {
   "cell_type": "markdown",
   "metadata": {},
   "source": [
    "<div style=\"page-break-before: always;\"></div>\n",
    "\n",
    "## 2"
   ]
  },
  {
   "cell_type": "markdown",
   "metadata": {},
   "source": [
    "Consider an alphabet $\\Sigma = \\{ x, y, z \\}$ with the associated symbol frequencies $f_x, f_y, f_z$ that is Huffman-encoded. For each of the following encodings, state a specific set of frequency values that would result in the stated encodings or explain why the stated encoding could never be attained."
   ]
  },
  {
   "cell_type": "markdown",
   "metadata": {},
   "source": [
    "**A**\n",
    "\n",
    "$\\{ 1, 01, 11 \\}$\n",
    "\n",
    "This encoding could never be attained because ***it is not prefix-free***: $1$ is a prefix of $11$."
   ]
  },
  {
   "cell_type": "markdown",
   "metadata": {},
   "source": [
    "**B**\n",
    "\n",
    "$\\{ 1, 01, 00 \\}$\n",
    "\n",
    "```txt\n",
    "Symbol Frequency\n",
    "x      4\n",
    "y      2\n",
    "z      1\n",
    "```\n",
    "```txt\n",
    "    7\n",
    "  0/ \\1\n",
    "  3   x\n",
    "0/ \\1\n",
    "z   y\n",
    "```"
   ]
  },
  {
   "cell_type": "markdown",
   "metadata": {},
   "source": [
    "**C**\n",
    "\n",
    "$\\{ 00, 01, 10 \\}$\n",
    "\n",
    "This encoding could never be attained because ***its tree representation is not full***:\n",
    "\n",
    "```txt\n",
    "     •\n",
    "  0/   \\1\n",
    "  •     •\n",
    "0/ \\1 0/ \\1\n",
    "x   y z   •\n",
    "```"
   ]
  },
  {
   "cell_type": "markdown",
   "metadata": {},
   "source": [
    "---"
   ]
  },
  {
   "cell_type": "markdown",
   "metadata": {},
   "source": [
    "<div style=\"page-break-before: always;\"></div>\n",
    "\n",
    "## 3"
   ]
  },
  {
   "cell_type": "markdown",
   "metadata": {},
   "source": [
    "Consider a cycle within an arbitrary undirected graph $G$. Prove that if $e^*$ is the heaviest edge within the cycle and no other edges in the cycle have the same weight $e^*$ that $e^*$ will never appear in any valid minimum spanning tree of $G$."
   ]
  },
  {
   "cell_type": "markdown",
   "metadata": {},
   "source": [
    "We know that removing a cycle edge cannot disconnect a graph. Thus removing the heaviest edge within the cycle does not disconnect the graph. Further, an MST by definition minimizes the weight of the tree that preserves the graph's connectivity. Therefore, there is a connection from one of the \"disconnected\" components to the other via an edge in the cycle with weight less than $e^*$ and so $e^*$ was never part of the MST."
   ]
  },
  {
   "cell_type": "markdown",
   "metadata": {},
   "source": [
    "---"
   ]
  },
  {
   "cell_type": "markdown",
   "metadata": {},
   "source": [
    "<div style=\"page-break-before: always;\"></div>\n",
    "\n",
    "## 4"
   ]
  },
  {
   "cell_type": "markdown",
   "metadata": {},
   "source": [
    "Consider the following weighted undirected graph:\n",
    "\n",
    "```c\n",
    "A - (B, 2), (H, 1), (I, 3), (J, 1)\n",
    "B - (A, 2), (C, 2), (G, 5), (I, 1)\n",
    "C - (B, 2), (D, 6), (H, 1)\n",
    "D - (C, 6), (F, 3)\n",
    "E - (F, 2), (G, 3)\n",
    "F - (D, 3), (E, 2), (G, 2)\n",
    "G - (B, 5), (E, 3), (F, 2)\n",
    "H - (A, 1), (C, 1)\n",
    "I - (A, 3), (B, 1), (J, 2)\n",
    "J - (A, 1), (I, 2)\n",
    "```"
   ]
  },
  {
   "cell_type": "markdown",
   "metadata": {},
   "source": [
    "**A**\n",
    "\n",
    "Run Kruskal's algorithm on the graph and state the order in which edges are added to the MST. When a choice must be made between multiple edges always choose the smallest edge in lexicographic order (i.e., the edge with the smallest first vertex, or the smallest second vertex if the first vertex of the two edges is the same)."
   ]
  },
  {
   "cell_type": "markdown",
   "metadata": {},
   "source": [
    "```c\n",
    "Order\n",
    "1 (A, H, 1)\n",
    "2 (A, J, 1)\n",
    "3 (B, I, 1)\n",
    "4 (C, H, 1)\n",
    "5 (A, B, 2)\n",
    "            (B, C, 2)\n",
    "6 (E, F, 2)\n",
    "7 (F, G, 2)\n",
    "            (I, J, 2)\n",
    "            (A, I, 3)\n",
    "8 (D, F, 3)\n",
    "            (E, G, 3)\n",
    "9 (B, G, 5)\n",
    "            (C, D, 6)\n",
    "\n",
    "Bitmapped steps\n",
    "1 0 0 0 0 0 0 0 0 0    A\n",
    "0 1 0 0 0 0 0 0 0 0    B\n",
    "0 0 1 0 0 0 0 0 0 0    C\n",
    "0 0 0 1 0 0 0 0 0 0    D\n",
    "0 0 0 0 1 0 0 0 0 0    E\n",
    "0 0 0 0 0 1 0 0 0 0    F\n",
    "0 0 0 0 0 0 1 0 0 0    G\n",
    "0 0 0 0 0 0 0 1 0 0    H\n",
    "0 0 0 0 0 0 0 0 1 0    I\n",
    "0 0 0 0 0 0 0 0 0 1    J\n",
    "\n",
    "1 0 0 0 0 0 0 1 0 0    AH\n",
    "0 1 0 0 0 0 0 0 0 0    B \n",
    "0 0 1 0 0 0 0 0 0 0    C \n",
    "0 0 0 1 0 0 0 0 0 0    D \n",
    "0 0 0 0 1 0 0 0 0 0    E \n",
    "0 0 0 0 0 1 0 0 0 0    F \n",
    "0 0 0 0 0 0 1 0 0 0    G \n",
    "0 0 0 0 0 0 0 0 1 0    I \n",
    "0 0 0 0 0 0 0 0 0 1    J \n",
    "\n",
    "1 0 0 0 0 0 0 1 0 1    AHJ\n",
    "0 1 0 0 0 0 0 0 0 0    B  \n",
    "0 0 1 0 0 0 0 0 0 0    C  \n",
    "0 0 0 1 0 0 0 0 0 0    D  \n",
    "0 0 0 0 1 0 0 0 0 0    E  \n",
    "0 0 0 0 0 1 0 0 0 0    F  \n",
    "0 0 0 0 0 0 1 0 0 0    G  \n",
    "0 0 0 0 0 0 0 0 1 0    I  \n",
    "\n",
    "1 0 0 0 0 0 0 1 0 1    AHJ\n",
    "0 1 0 0 0 0 0 0 1 0    BI \n",
    "0 0 1 0 0 0 0 0 0 0    C  \n",
    "0 0 0 1 0 0 0 0 0 0    D  \n",
    "0 0 0 0 1 0 0 0 0 0    E  \n",
    "0 0 0 0 0 1 0 0 0 0    F  \n",
    "0 0 0 0 0 0 1 0 0 0    G  \n",
    "\n",
    "1 0 1 0 0 0 0 1 0 1    AHJC\n",
    "0 1 0 0 0 0 0 0 1 0    BI  \n",
    "0 0 0 1 0 0 0 0 0 0    D   \n",
    "0 0 0 0 1 0 0 0 0 0    E   \n",
    "0 0 0 0 0 1 0 0 0 0    F   \n",
    "0 0 0 0 0 0 1 0 0 0    G   \n",
    "\n",
    "1 1 1 0 0 0 0 1 1 1    AHJCBI\n",
    "0 0 0 1 0 0 0 0 0 0    D     \n",
    "0 0 0 0 1 0 0 0 0 0    E     \n",
    "0 0 0 0 0 1 0 0 0 0    F     \n",
    "0 0 0 0 0 0 1 0 0 0    G     \n",
    "\n",
    "1 1 1 0 0 0 0 1 1 1    AHJCBI\n",
    "0 0 0 1 0 0 0 0 0 0    D     \n",
    "0 0 0 0 1 1 0 0 0 0    EF    \n",
    "0 0 0 0 0 0 1 0 0 0    G     \n",
    "\n",
    "1 1 1 0 0 0 0 1 1 1    AHJCBI\n",
    "0 0 0 1 0 0 0 0 0 0    D     \n",
    "0 0 0 0 1 1 1 0 0 0    EFG   \n",
    "\n",
    "1 1 1 0 0 0 0 1 1 1    AHJCBI\n",
    "0 0 0 1 1 1 1 0 0 0    DEFG  \n",
    "\n",
    "1 1 1 1 1 1 1 1 1 1    AHJCBIDEFG\n",
    "```"
   ]
  },
  {
   "cell_type": "markdown",
   "metadata": {},
   "source": [
    "**B**\n",
    "\n",
    "Run Prim's algorithm on the graph and state the order in which vertices are added to the MST. When a choice must be made between multiple vertices always choose the smallest vertex in lexicographic order."
   ]
  },
  {
   "cell_type": "markdown",
   "metadata": {},
   "source": [
    "```c\n",
    "Order\n",
    "1 (A, H, 1)\n",
    "3 (A, J, 1)\n",
    "5 (B, I, 1)\n",
    "2 (C, H, 1)\n",
    "4 (A, B, 2)\n",
    "            (B, C, 2)\n",
    "8 (E, F, 2)\n",
    "7 (F, G, 2)\n",
    "            (I, J, 2)\n",
    "            (A, I, 3)\n",
    "9 (D, F, 3)\n",
    "            (E, G, 3)\n",
    "6 (B, G, 5)\n",
    "            (C, D, 6)\n",
    "\n",
    "Bitmapped steps\n",
    "1 0 0 0 0 0 0 0 0 0    A\n",
    "1 0 0 0 0 0 0 1 0 0    AH\n",
    "1 0 1 0 0 0 0 1 0 0    AHC\n",
    "1 0 1 0 0 0 0 1 0 1    AHCJ\n",
    "1 1 1 0 0 0 0 1 0 1    AHCJB\n",
    "1 1 1 0 0 0 0 1 1 1    AHCJBI\n",
    "1 1 1 0 0 0 1 1 1 1    AHCJBIG\n",
    "1 1 1 0 0 1 1 1 1 1    AHCJBIGF\n",
    "1 1 1 0 1 1 1 1 1 1    AHCJBIGFE\n",
    "1 1 1 1 1 1 1 1 1 1    AHCJBIGFED\n",
    "```"
   ]
  },
  {
   "cell_type": "markdown",
   "metadata": {},
   "source": [
    "---"
   ]
  },
  {
   "cell_type": "markdown",
   "metadata": {},
   "source": [
    "<div style=\"page-break-before: always;\"></div>\n",
    "\n",
    "## 5"
   ]
  },
  {
   "cell_type": "markdown",
   "metadata": {},
   "source": [
    "Consider the problem of creating an MST for an undirected graph that is not connected (i.e., there are two or more clusters of vertices such that a vertex in one cluster cannot reach a vertex in the other). In this case, we may instead want to construct a minimum spanning forest: a set of MSTs, one for each disconnected component."
   ]
  },
  {
   "cell_type": "markdown",
   "metadata": {},
   "source": [
    "Here is the same graph from the previous problem without the two edges `(B, G, 5)` and `(C, D, 6)` so that the clusters `A B C H I J` and `D E F G` are disconnected from one another.\n",
    "\n",
    "```c\n",
    "A - (B, 2), (H, 1), (I, 3), (J, 1)\n",
    "B - (A, 2), (C, 2), (I, 1)\n",
    "C - (B, 2), (H, 1)\n",
    "D - (F, 3)\n",
    "E - (F, 2), (G, 3)\n",
    "F - (D, 3), (E, 2), (G, 2)\n",
    "G - (E, 3), (F, 2)\n",
    "H - (A, 1), (C, 1)\n",
    "I - (A, 3), (B, 1), (J, 2)\n",
    "J - (A, 1), (I, 2)\n",
    "```"
   ]
  },
  {
   "cell_type": "markdown",
   "metadata": {},
   "source": [
    "**A**\n",
    "\n",
    "What will happen in this situation if you run Kruskal's algorithm on the graph? What modifications will be necessary to the algorithm, if any, to achieve the desired goal? Provide a specific example on a disconnected graph of your choosing."
   ]
  },
  {
   "cell_type": "markdown",
   "metadata": {},
   "source": [
    "Kruskal's algorithm will run without issue and generate MSTs for each of the disconnected components. Depending on whether you wanted to return MST values for each conencted component or their sum or average, for example, the algorithm would just require the desired computation as the final step."
   ]
  },
  {
   "cell_type": "markdown",
   "metadata": {},
   "source": [
    "```c\n",
    "Order\n",
    "1 (A, H, 1)\n",
    "2 (A, J, 1)\n",
    "3 (B, I, 1)\n",
    "4 (C, H, 1)\n",
    "5 (A, B, 2)\n",
    "            (B, C, 2)\n",
    "6 (E, F, 2)\n",
    "7 (F, G, 2)\n",
    "            (I, J, 2)\n",
    "            (A, I, 3)\n",
    "8 (D, F, 3)\n",
    "            (E, G, 3)\n",
    "\n",
    "Bitmapped steps\n",
    "1 0 0 0 0 0 0 0 0 0    A\n",
    "0 1 0 0 0 0 0 0 0 0    B\n",
    "0 0 1 0 0 0 0 0 0 0    C\n",
    "0 0 0 1 0 0 0 0 0 0    D\n",
    "0 0 0 0 1 0 0 0 0 0    E\n",
    "0 0 0 0 0 1 0 0 0 0    F\n",
    "0 0 0 0 0 0 1 0 0 0    G\n",
    "0 0 0 0 0 0 0 1 0 0    H\n",
    "0 0 0 0 0 0 0 0 1 0    I\n",
    "0 0 0 0 0 0 0 0 0 1    J\n",
    "\n",
    "1 0 0 0 0 0 0 1 0 0    AH    1\n",
    "0 1 0 0 0 0 0 0 0 0    B \n",
    "0 0 1 0 0 0 0 0 0 0    C \n",
    "0 0 0 1 0 0 0 0 0 0    D \n",
    "0 0 0 0 1 0 0 0 0 0    E \n",
    "0 0 0 0 0 1 0 0 0 0    F \n",
    "0 0 0 0 0 0 1 0 0 0    G \n",
    "0 0 0 0 0 0 0 0 1 0    I \n",
    "0 0 0 0 0 0 0 0 0 1    J \n",
    "\n",
    "1 0 0 0 0 0 0 1 0 1    AHJ   2\n",
    "0 1 0 0 0 0 0 0 0 0    B  \n",
    "0 0 1 0 0 0 0 0 0 0    C  \n",
    "0 0 0 1 0 0 0 0 0 0    D  \n",
    "0 0 0 0 1 0 0 0 0 0    E  \n",
    "0 0 0 0 0 1 0 0 0 0    F  \n",
    "0 0 0 0 0 0 1 0 0 0    G  \n",
    "0 0 0 0 0 0 0 0 1 0    I  \n",
    "\n",
    "1 0 0 0 0 0 0 1 0 1    AHJ   2\n",
    "0 1 0 0 0 0 0 0 1 0    BI    1\n",
    "0 0 1 0 0 0 0 0 0 0    C  \n",
    "0 0 0 1 0 0 0 0 0 0    D  \n",
    "0 0 0 0 1 0 0 0 0 0    E  \n",
    "0 0 0 0 0 1 0 0 0 0    F  \n",
    "0 0 0 0 0 0 1 0 0 0    G  \n",
    "\n",
    "1 0 1 0 0 0 0 1 0 1    AHJC  3\n",
    "0 1 0 0 0 0 0 0 1 0    BI    1\n",
    "0 0 0 1 0 0 0 0 0 0    D   \n",
    "0 0 0 0 1 0 0 0 0 0    E   \n",
    "0 0 0 0 0 1 0 0 0 0    F   \n",
    "0 0 0 0 0 0 1 0 0 0    G   \n",
    "\n",
    "1 1 1 0 0 0 0 1 1 1    AHJCBI    6\n",
    "0 0 0 1 0 0 0 0 0 0    D     \n",
    "0 0 0 0 1 0 0 0 0 0    E     \n",
    "0 0 0 0 0 1 0 0 0 0    F     \n",
    "0 0 0 0 0 0 1 0 0 0    G     \n",
    "\n",
    "1 1 1 0 0 0 0 1 1 1    AHJCBI    6\n",
    "0 0 0 1 0 0 0 0 0 0    D     \n",
    "0 0 0 0 1 1 0 0 0 0    EF        2\n",
    "0 0 0 0 0 0 1 0 0 0    G     \n",
    "\n",
    "1 1 1 0 0 0 0 1 1 1    AHJCBI    6\n",
    "0 0 0 1 0 0 0 0 0 0    D     \n",
    "0 0 0 0 1 1 1 0 0 0    EFG       4\n",
    "\n",
    "1 1 1 0 0 0 0 1 1 1    AHJCBI    6\n",
    "0 0 0 1 1 1 1 0 0 0    DEFG      7\n",
    "```"
   ]
  },
  {
   "cell_type": "markdown",
   "metadata": {},
   "source": [
    "**B**\n",
    "\n",
    "What will happen in this situation if you run Prim's algorithm on the graph? What modifications will be necessary to the algorithm, if any, to achieve the desired goal? Provide a specific example on a disconnected graph of your choosing."
   ]
  },
  {
   "cell_type": "markdown",
   "metadata": {},
   "source": [
    "Prim's algorithm will not run properly on a disconnected graph: depending on the starting node, it will generate an MST for the connected component that the starting node is a part of but leave the remainder of the graph unchecked. Prim's algorithm could undergo a similar modification to that which DFS traversal underwent, a simple iterative component: once there are no more edges to add to the MST set, check to see whether there are unvisited nodes and, if there are, call Prim's algorithm on one of the unvisited nodes as starting node; and iterate until there are no more unvisited nodes."
   ]
  },
  {
   "cell_type": "markdown",
   "metadata": {},
   "source": [
    "```c\n",
    "Order\n",
    "1 (A, H, 1)\n",
    "3 (A, J, 1)\n",
    "5 (B, I, 1)\n",
    "2 (C, H, 1)\n",
    "4 (A, B, 2)\n",
    "            (B, C, 2)\n",
    "7 (E, F, 2)\n",
    "8 (F, G, 2)\n",
    "            (I, J, 2)\n",
    "            (A, I, 3)\n",
    "6 (D, F, 3)\n",
    "            (E, G, 3)\n",
    "\n",
    "Bitmapped steps\n",
    "1 0 0 0 0 0 0 0 0 0    A\n",
    "1 0 0 0 0 0 0 1 0 0    AH       1\n",
    "1 0 1 0 0 0 0 1 0 0    AHC      2\n",
    "1 0 1 0 0 0 0 1 0 1    AHCJ     3\n",
    "1 1 1 0 0 0 0 1 0 1    AHCJB    5\n",
    "1 1 1 0 0 0 0 1 1 1    AHCJBI   6\n",
    "\n",
    "0 0 0 1 0 0 0 0 0 0    D\n",
    "0 0 0 1 0 1 0 0 0 0    DF       3\n",
    "0 0 0 1 1 1 0 0 0 0    DFE      5\n",
    "0 0 0 1 1 1 1 0 0 0    DFEG     7\n",
    "```"
   ]
  },
  {
   "cell_type": "markdown",
   "metadata": {},
   "source": [
    "---"
   ]
  }
 ],
 "metadata": {
  "kernelspec": {
   "display_name": "ml",
   "language": "python",
   "name": "python3"
  },
  "language_info": {
   "codemirror_mode": {
    "name": "ipython",
    "version": 3
   },
   "file_extension": ".py",
   "mimetype": "text/x-python",
   "name": "python",
   "nbconvert_exporter": "python",
   "pygments_lexer": "ipython3",
   "version": "3.11.9"
  }
 },
 "nbformat": 4,
 "nbformat_minor": 2
}
