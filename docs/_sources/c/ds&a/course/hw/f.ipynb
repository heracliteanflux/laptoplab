{
 "cells": [
  {
   "cell_type": "markdown",
   "metadata": {},
   "source": [
    "# Final\n",
    "Dave Friedman<br>\n",
    "CMPSC 465 Data Structures and Algorithms"
   ]
  },
  {
   "cell_type": "markdown",
   "metadata": {},
   "source": [
    "---"
   ]
  },
  {
   "cell_type": "markdown",
   "metadata": {},
   "source": [
    "<div style=\"page-break-before: always;\"></div>\n",
    "\n",
    "## 1 - Dynamic Programming"
   ]
  },
  {
   "cell_type": "markdown",
   "metadata": {},
   "source": [
    "You are running a software-development company and employ $N$ programmers. You have $M$ ongoing projects and each programmer can only be assigned to work on one of them. Each project will produce a different amount of expected profit depending on how many programmers are assigned to it. The total profit from a project $p$ with $n$ programmers assigned is $P(p, n)$. You want to assign programmers to projects so as to make as much profit as possible."
   ]
  },
  {
   "cell_type": "markdown",
   "metadata": {},
   "source": [
    "**A**\n",
    "\n",
    "State the function to be optimized, with its inputs and output value, as well as whether this is a maximization or minimization problem."
   ]
  },
  {
   "cell_type": "markdown",
   "metadata": {},
   "source": [
    "$f(p, n)$ represents the maximum profit that can be achieved by assigning $n$ programmers to the first $p$ projects where $N$ represents the total number of programmers available to assign to projects and $M$ represents the total number of projects that programmers can be assigned to.\n",
    "\n",
    "This is a maximization problem: the objective is to maximize $f(M, N)$, which represents the maximum profit that can be achieved by optimally assigning all $N$ programmers to all $M$ projects."
   ]
  },
  {
   "cell_type": "markdown",
   "metadata": {},
   "source": [
    "**B**\n",
    "\n",
    "Define the above function using a recurrence relation."
   ]
  },
  {
   "cell_type": "markdown",
   "metadata": {},
   "source": [
    "$f(p, n) = \\max_{k = 0}^n \\{ P(p, k) + f(p - 1, n - k) \\}$\n",
    "\n",
    "where\n",
    "\n",
    "$P(p, k)$ is the total profit from assigning $k$ programmers to project $p$\n",
    "\n",
    "and\n",
    "\n",
    "$f(p - 1, n - k)$ is the maximum profit from assigning the remaining $n - k$ programmers to the first $p - 1$ projects."
   ]
  },
  {
   "cell_type": "markdown",
   "metadata": {},
   "source": [
    "**C**\n",
    "\n",
    "State the base case of the above recurrence."
   ]
  },
  {
   "cell_type": "markdown",
   "metadata": {},
   "source": [
    "$\n",
    "\\begin{aligned}\n",
    "f(0, n) &= 0 \\quad \\forall n \\ge 0 && \\text{programmers assigned to no project produce no profit} \\\\\n",
    "f(p, 0) &= 0 \\quad \\forall p \\ge 0 && \\text{projects without assigned programmers produce no profit} \\\\\n",
    "\\end  {aligned}\n",
    "$"
   ]
  },
  {
   "cell_type": "markdown",
   "metadata": {},
   "source": [
    "**D**\n",
    "\n",
    "State the time complexity of the dynamic programming algorithm based on the above recurrence."
   ]
  },
  {
   "cell_type": "markdown",
   "metadata": {},
   "source": [
    "$f(p, n)$ is computed for every $p$ from $1$ to $M$ and for every $n$ from $0$ to $N$\n",
    "\n",
    "$\n",
    "\\text{programmers }n\n",
    "\\overset{\\text{project }p}{\n",
    "\\begin{array}{c|c|c|c|c|c}\n",
    "  & 0 & 1       & 2       & \\dots &        M \\\\ \\hline\n",
    "0 & 0 & 0       & 0       & \\dots &        0 \\\\ \\hline\n",
    "1 & 0 & f(1, 1) & f(2, 1) & \\dots &  f(M, 1) \\\\ \\hline\n",
    "2 & 0 & f(1, 2) & f(2, 2) & \\dots &  f(M, 2) \\\\ \\hline\n",
    "\\vdots & \\vdots & \\vdots & \\vdots & \\ddots & \\vdots \\\\ \\hline\n",
    "N & 0 & f(1, N) & f(2, N) & \\dots & f(M, N) \\\\ \\hline\n",
    "\\end  {array}}\n",
    "$\n",
    "\n",
    "and $\\max_{k = 0}^n$ is computed for each subproblem $(p, n)$.\n",
    "\n",
    "Therefore, the time complexity of the dynamic programming algorithm based on the above recurrence is pseudo-polynomial:\n",
    "\n",
    "$T(M, N) = \\underbrace{\\Theta(MN)}_{\\text{\\# subproblems}} \\times \\underbrace{\\Theta(N)}_{\\text{per subproblem}} = \\Theta(MN^2)$"
   ]
  },
  {
   "cell_type": "markdown",
   "metadata": {},
   "source": [
    "---"
   ]
  },
  {
   "cell_type": "markdown",
   "metadata": {},
   "source": [
    "Example\n",
    "\n",
    "$\n",
    "\\begin{aligned}\n",
    "N &= 4 \\\\\n",
    "M &= 4 \\\\\n",
    "\\end  {aligned}\n",
    "$\n",
    "\n",
    "$\n",
    "\\begin{aligned}\n",
    "f(4, 4) &= \\max_{k = 0}^4 \\{ P(4, k) + f(3, 4 - k) \\} \\\\\n",
    "        &= \\max \\{ \\cancel{P(4, 0)} + f(3, 4),  P(4, 1) + f(3, 3), P(4, 2) + f(3, 2), P(4, 3) + f(3, 1), P(4, 4) + \\cancel{f(3, 0)} \\} \\\\\n",
    "\\end  {aligned}\n",
    "$\n",
    "\n",
    "profit of 0 programmers to project 4 + maximum profit of 4 programmers to first 3 projects<br>\n",
    "profit of 1 programmers to project 4 + maximum profit of 3 programmers to first 3 projects<br>\n",
    "profit of 2 programmers to project 4 + maximum profit of 2 programmers to first 3 projects<br>\n",
    "profit of 3 programmers to project 4 + maximum profit of 1 programmers to first 3 projects<br>\n",
    "profit of 4 programmers to project 4 + maximum profit of 0 programmers to first 3 projects\n",
    "\n",
    "$\n",
    "\\begin{aligned}\n",
    "f(3, 4) &= \\max_{k = 0}^4 \\{ P(3, k) + f(2, 4 - k) \\} \\\\\n",
    "f(3, 3) &= \\max_{k = 0}^3 \\{ P(3, k) + f(2, 3 - k) \\} \\\\\n",
    "f(3, 2) &= \\max_{k = 0}^2 \\{ P(3, k) + f(2, 2 - k) \\} \\\\\n",
    "f(3, 1) &= \\max_{k = 0}^1 \\{ P(3, k) + f(2, 1 - k) \\} \\\\\n",
    "\\end  {aligned}\n",
    "$"
   ]
  },
  {
   "cell_type": "markdown",
   "metadata": {},
   "source": [
    "---"
   ]
  },
  {
   "cell_type": "markdown",
   "metadata": {},
   "source": [
    "<div style=\"page-break-before: always;\"></div>\n",
    "\n",
    "## 2 - Max Flow"
   ]
  },
  {
   "cell_type": "markdown",
   "metadata": {},
   "source": [
    "Consider the following flow network.\n",
    "\n",
    "```c\n",
    "D ---------------------5-> G ----------------------3-> I\n",
    "D -10-> C -5-> E                                       I\n",
    "D --------20-> E ------------------5-> F ----------5-> I\n",
    "               E -15-> A -15-> B -10-> F -15-> H -20-> I\n",
    "                               B ---------10-> H\n",
    "```"
   ]
  },
  {
   "cell_type": "markdown",
   "metadata": {},
   "source": [
    "**A**\n",
    "\n",
    "Identify the source and sink node in this network."
   ]
  },
  {
   "cell_type": "markdown",
   "metadata": {},
   "source": [
    "D is the source node and I is the sink node."
   ]
  },
  {
   "cell_type": "markdown",
   "metadata": {},
   "source": [
    "**B**\n",
    "\n",
    "Using Ford-Fulkerson, determine the max-flow through this network. Be sure to provide a list of the sequence of $s$-$t$ paths that you check and the bottleneck associated with each one."
   ]
  },
  {
   "cell_type": "markdown",
   "metadata": {},
   "source": [
    "(1)\n",
    "\n",
    "```c\n",
    "  <-0-    <-0-\n",
    "D  -5-> G  -3-> I\n",
    "```\n",
    "\n",
    "becomes\n",
    "\n",
    "```c\n",
    "  <-3-    <-3-\n",
    "D  -2-> G  -0-> I\n",
    "```\n",
    "\n",
    "(2)\n",
    "\n",
    "```c\n",
    "  <--0-    <--0-    <--0-    <--0-    <--0-\n",
    "D  -20-> E  -15-> A  -15-> B  -10-> H  -20-> I\n",
    "```\n",
    "\n",
    "becomes\n",
    "\n",
    "```c\n",
    "  <-10-    <-10-    <-10-    <-10-    <-10-\n",
    "D  -10-> E  --5-> A  --5-> B  --0-> H  -10-> I\n",
    "```\n",
    "\n",
    "(3)\n",
    "\n",
    "```c\n",
    "  <-10-    <-10-    <-10-    <--0-    <--0-    <-10-\n",
    "D  -10-> E  --5-> A  --5-> B  -10-> F  -15-> H  -10-> I\n",
    "```\n",
    "\n",
    "becomes\n",
    "\n",
    "```c\n",
    "  <-15-    <-15-    <-15-    <--5-    <--5-    <-15-\n",
    "D  --5-> E  --0-> A  --0-> B  --5-> F  -10-> H  --5-> I\n",
    "```\n",
    "\n",
    "(4)\n",
    "\n",
    "```c\n",
    "D <-15-  E <-0-  F <-0-  I\n",
    "D  --5-> E  -5-> F  -5-> I\n",
    "```\n",
    "\n",
    "becomes\n",
    "\n",
    "```c\n",
    "D <-20-  E <-5-  F <-5-  I\n",
    "D  --0-> E  -0-> F  -0-> I\n",
    "```\n",
    "\n",
    "The $s$-$t$ cuts and their bottlenecks are\n",
    "\n",
    "```c\n",
    "D -> G -> I                         3\n",
    "D -> E -> A -> B -> H -> I         10\n",
    "D -> E -> A -> B -> F -> H -> I     5\n",
    "D -> E -> F -> I                    5\n",
    "```\n",
    "\n",
    "and so the max-flow through this network is $23$."
   ]
  },
  {
   "cell_type": "markdown",
   "metadata": {},
   "source": [
    "**C**\n",
    "\n",
    "Identify all the min-cuts and critical edges within this flow network."
   ]
  },
  {
   "cell_type": "markdown",
   "metadata": {},
   "source": [
    "Critical edges\n",
    "\n",
    "```c\n",
    "E -> A\n",
    "E -> F\n",
    "G -> I\n",
    "A -> B\n",
    "F -> I\n",
    "```\n",
    "\n",
    "Minimum Cuts\n",
    "\n",
    "```c\n",
    "P = {C, D, E, G}, Q = {A, B, F, H, I}\n",
    "P = {A, C, D, E, G}, Q = {B, F, H, I}\n",
    "```"
   ]
  },
  {
   "cell_type": "markdown",
   "metadata": {},
   "source": [
    "---"
   ]
  },
  {
   "cell_type": "markdown",
   "metadata": {},
   "source": [
    "<div style=\"page-break-before: always;\"></div>\n",
    "\n",
    "## 3 - Linear Programming"
   ]
  },
  {
   "cell_type": "markdown",
   "metadata": {},
   "source": [
    "You are playing a real-time strategy game in which you must allocate resource gatherers to collect three different types of resources: saltpeter, iron, and coal. The ultimate goal is to maximize resource production, but there are a few twists involved. While it is necessary to assign at least 10 gatherers to saltpeter, saltpeter collection is considered to actually reduce overall resource production at a rate of -2 per gatherer. Additionally, you can allocate no more than 50 gatherers to iron and coal combined, and must allocate at least 15 gatherers to coal. Iron collection increases resource production by 3 per gatherer, and coal by 1."
   ]
  },
  {
   "cell_type": "markdown",
   "metadata": {},
   "source": [
    "**A**\n",
    "\n",
    "Formalize a linear program for solving the above problem using inequalities (not standard form)."
   ]
  },
  {
   "cell_type": "markdown",
   "metadata": {},
   "source": [
    "$x_1$ is the number of resource gatherers allocated to collecting saltpeter<br>\n",
    "$x_2$ is the number of resource gatherers allocated to collecting iron<br>\n",
    "$x_3$ is the number of resource gatherers allocated to collecting coal"
   ]
  },
  {
   "cell_type": "markdown",
   "metadata": {},
   "source": [
    "$\n",
    "\\max \\{ -2x_1 + 3x_2 + x_3 \\} \\\\\n",
    "\\begin{aligned}\n",
    "x_1            &\\ge 10 \\\\\n",
    "     x_2 + x_3 &\\le 50 \\\\\n",
    "           x_3 &\\ge 15 \\\\\n",
    "x_1, x_2,  x_3 &\\ge  0 \\\\\n",
    "\\end  {aligned}\n",
    "$"
   ]
  },
  {
   "cell_type": "markdown",
   "metadata": {},
   "source": [
    "**B**\n",
    "\n",
    "Convert your above formalization into standard form."
   ]
  },
  {
   "cell_type": "markdown",
   "metadata": {},
   "source": [
    "$\n",
    "\\min \\{ 2x_1 - 3x_2 - x_3 \\} \\\\\n",
    "\\begin{aligned}\n",
    "x_1            - s_1 &= 10 \\\\\n",
    "     x_2 + x_3 + s_2 &= 50 \\\\\n",
    "           x_3 - s_3 &= 15 \\\\\n",
    "x_1, x_2,  x_3, s_1, s_2, s_3 &\\ge  0 \\\\\n",
    "\\end  {aligned}\n",
    "$"
   ]
  },
  {
   "cell_type": "markdown",
   "metadata": {},
   "source": [
    "**C**\n",
    "\n",
    "Does a solution to this linear program exist? Why or why not?"
   ]
  },
  {
   "cell_type": "markdown",
   "metadata": {},
   "source": [
    "A solution does exist: $15 \\le x_3 \\le 50$ requires that $35 \\ge x_2 \\ge 0$ given the second constraint $x_2 + x_3 \\le 50$ (along with nonnegativity). Since $x_2$ increases resource production faster than $x_3$ we have\n",
    "\n",
    "$x_1 = 10, x_3 = 15, x_2 = 35 \\implies -2(10) + 3(35) + (15) = 100$"
   ]
  },
  {
   "cell_type": "markdown",
   "metadata": {},
   "source": [
    "---"
   ]
  },
  {
   "cell_type": "markdown",
   "metadata": {},
   "source": [
    "<div style=\"page-break-before: always;\"></div>\n",
    "\n",
    "## 4 - Huffman Encoding"
   ]
  },
  {
   "cell_type": "markdown",
   "metadata": {},
   "source": [
    "Consider a message from an alphabet containing six symbols: $\\Gamma = \\{ A, B, C, D, E, F \\}$. These symbols each have the following relative frequencies:\n",
    "\n",
    "$\n",
    "\\begin{aligned}\n",
    "f(A) &= 0.25 \\\\\n",
    "f(B) &= 0.10 \\\\\n",
    "f(C) &= 0.15 \\\\\n",
    "f(D) &= 0.05 \\\\\n",
    "f(E) &= 0.10 \\\\\n",
    "f(F) &= 0.35 \\\\\n",
    "\\end  {aligned}\n",
    "$"
   ]
  },
  {
   "cell_type": "markdown",
   "metadata": {},
   "source": [
    "**A**\n",
    "\n",
    "What is the minimum number of bits required per symbol to construct a fixed-length encoding over this alphabet? If you transmit a message containing $1,000,000$ symbols using this encoding, how many bits do you need to encode the message?"
   ]
  },
  {
   "cell_type": "markdown",
   "metadata": {},
   "source": [
    "No less than $3$ bits per symbol are required to construct a fixed-length encoding over $\\Gamma$. An encoding of a message containing $1,000,000$ symbols thus requires $3,000,000$ bits.\n",
    "\n",
    "Here is an encoding scheme in which the only unused bit string is $111$, which is an arbitrary choice.\n",
    "\n",
    "$\n",
    "\\begin{aligned}\n",
    "A &= 000 \\\\\n",
    "B &= 001 \\\\\n",
    "C &= 010 \\\\\n",
    "D &= 011 \\\\\n",
    "E &= 100 \\\\\n",
    "F &= 101 \\\\\n",
    "\\end  {aligned}\n",
    "$"
   ]
  },
  {
   "cell_type": "markdown",
   "metadata": {},
   "source": [
    "**B**\n",
    "\n",
    "Construct a Huffman encoding over these symbols for a message of $1,000,000$ symbols. Show each step of the process, including the partial Huffman trees."
   ]
  },
  {
   "cell_type": "markdown",
   "metadata": {},
   "source": [
    "```c\n",
    "Priority Queue, from highest priority--least frequent--to lowest--most frequent--left to right and lexicographic tie breaks\n",
    "D(0.05), B(0.10), E(0.10), C(0.15), A(0.25), F(0.35)\n",
    "```\n",
    "\n",
    "```txt\n",
    "        B+D(0.15)\n",
    "       /         \\\n",
    "D(0.05)           B(0.10)\n",
    "```\n",
    "\n",
    "```c\n",
    "Priority Queue\n",
    "E(0.10), B+D(0.15), C(0.15), A(0.25), F(0.35)\n",
    "```\n",
    "\n",
    "```txt\n",
    "        B+D+E(0.25)\n",
    "       /           \\\n",
    "E(0.10)             B+D(0.15)\n",
    "```\n",
    "\n",
    "```c\n",
    "Priority Queue\n",
    "C(0.15), A(0.25), B+D+E(0.25), F(0.35)\n",
    "```\n",
    "\n",
    "```txt\n",
    "        A+C(0.40)\n",
    "       /         \\\n",
    "C(0.15)           A(0.25)\n",
    "```\n",
    "\n",
    "```c\n",
    "Priority Queue\n",
    "B+D+E(0.25), F(0.35), A+C(0.40)\n",
    "```\n",
    "\n",
    "```txt\n",
    "            B+D+E+F(0.60)\n",
    "           /             \\\n",
    "B+D+E(0.25)               F(0.35)\n",
    "```\n",
    "\n",
    "```c\n",
    "Priority Queue\n",
    "A+C(0.40), B+D+E+F(0.60)\n",
    "```\n",
    "\n",
    "```txt\n",
    "          A+B+C+D+E+F(1)\n",
    "         /              \\\n",
    "A+C(0.40)                B+D+E+F(0.60)\n",
    "```"
   ]
  },
  {
   "cell_type": "markdown",
   "metadata": {},
   "source": [
    "Huffman tree:\n",
    "\n",
    "```txt\n",
    "                         A+B+C+D+E+F(1)\n",
    "                0/                           \\1\n",
    "        A+C(0.40)                             B+D+E+F(0.60)\n",
    "      0/         \\1                         0/             \\1\n",
    "C(0.15)           A(0.25)         B+D+E(0.25)               F(0.35)\n",
    "                                0/           \\1\n",
    "                          E(0.10)             B+D(0.15)\n",
    "                                            0/         \\1\n",
    "                                      D(0.05)           B(0.10)\n",
    "```"
   ]
  },
  {
   "cell_type": "markdown",
   "metadata": {},
   "source": [
    "$\n",
    "\\begin{aligned}\n",
    "f(A) &= 0.25 && A =   01 \\\\\n",
    "f(B) &= 0.10 && B = 1011 \\\\\n",
    "f(C) &= 0.15 && C =   00 \\\\\n",
    "f(D) &= 0.05 && D = 1010 \\\\\n",
    "f(E) &= 0.10 && E =  100 \\\\\n",
    "f(F) &= 0.35 && F =   11 \\\\\n",
    "\\end  {aligned}\n",
    "$"
   ]
  },
  {
   "cell_type": "markdown",
   "metadata": {},
   "source": [
    "**C**\n",
    "\n",
    "How many bits are needed to transmit the message with 1,000,000 symbols using your Huffman encoding? Additionally, suppose that for some reason the frequencies of symbols were estimated in error, and it's actually the case that $f(D) = 0.35$ and $f(F) = 0.5$. How many bits would be required in this case, using the Huffman Encoding you determined in part b. In this case, would the fixed-length encoding be better?"
   ]
  },
  {
   "cell_type": "markdown",
   "metadata": {},
   "source": [
    "Using the variable-length encoding, $2,400,000$ bits are required to an encode a $1,000,000$-symbol message, which is an improvement over the fixed-length encoding. However, if the relative frequencies of symbols $D$ and $F$ are swapped then the variable-length encoding requires $3,000,000$ bits instead, which unfortunately doesn't make a difference."
   ]
  },
  {
   "cell_type": "markdown",
   "metadata": {},
   "source": [
    "$\n",
    "2 \\times (0.25 \\times 10^6) +\n",
    "4 \\times (0.10 \\times 10^6) +\n",
    "2 \\times (0.15 \\times 10^6) +\n",
    "4 \\times (0.05 \\times 10^6) +\n",
    "3 \\times (0.10 \\times 10^6) +\n",
    "2 \\times (0.35 \\times 10^6) = \\\\\n",
    "2 \\times 250,000 +\n",
    "4 \\times 100,000 +\n",
    "2 \\times 150,000 +\n",
    "4 \\times  50,000 +\n",
    "3 \\times 100,000 +\n",
    "2 \\times 350,000 = \\\\\n",
    "500,000 + 400,000 + 300,000 + 200,000 + 300,000 + 700,000 \\boxed{= 2,400,000}\n",
    "$"
   ]
  },
  {
   "cell_type": "code",
   "execution_count": 35,
   "metadata": {},
   "outputs": [
    {
     "name": "stdout",
     "output_type": "stream",
     "text": [
      "2,400,000 bits\n"
     ]
    }
   ],
   "source": [
    "fA = 0.25; bA = 2\n",
    "fB = 0.10; bB = 4\n",
    "fC = 0.15; bC = 2\n",
    "fD = 0.05; bD = 4\n",
    "fE = 0.10; bE = 3\n",
    "fF = 0.35; bF = 2\n",
    "assert(fA + fB + fC + fD + fE + fF == 1)\n",
    "\n",
    "print(f'{(1e6 * fA) * bA + (1e6 * fB) * bB + (1e6 * fC) * bC + (1e6 * fD) * bD + (1e6 * fE) * bE + (1e6 * fF) * bF:,.0f} bits')"
   ]
  },
  {
   "cell_type": "markdown",
   "metadata": {},
   "source": [
    "$\n",
    "2 \\times (0.25 \\times 10^6) +\n",
    "4 \\times (0.10 \\times 10^6) +\n",
    "2 \\times (0.15 \\times 10^6) +\n",
    "4 \\times (0.35 \\times 10^6) +\n",
    "3 \\times (0.10 \\times 10^6) +\n",
    "2 \\times (0.05 \\times 10^6) = \\\\\n",
    "2 \\times 250,000 +\n",
    "4 \\times 100,000 +\n",
    "2 \\times 150,000 +\n",
    "4 \\times 350,000 +\n",
    "3 \\times 100,000 +\n",
    "2 \\times  50,000 = \\\\\n",
    "500,000 + 400,000 + 300,000 + 1,400,000 + 300,000 + 100,000 \\boxed{= 3,000,000}\n",
    "$"
   ]
  },
  {
   "cell_type": "code",
   "execution_count": 36,
   "metadata": {},
   "outputs": [
    {
     "name": "stdout",
     "output_type": "stream",
     "text": [
      "3,000,000 bits\n"
     ]
    }
   ],
   "source": [
    "fA = 0.25; bA = 2\n",
    "fB = 0.10; bB = 4\n",
    "fC = 0.15; bC = 2\n",
    "fD = 0.35; bD = 4\n",
    "fE = 0.10; bE = 3\n",
    "fF = 0.05; bF = 2\n",
    "assert(fA + fB + fC + fD + fE + fF == 1)\n",
    "\n",
    "print(f'{(1e6 * fA) * bA + (1e6 * fB) * bB + (1e6 * fC) * bC + (1e6 * fD) * bD + (1e6 * fE) * bE + (1e6 * fF) * bF:,.0f} bits')"
   ]
  },
  {
   "cell_type": "markdown",
   "metadata": {},
   "source": [
    "---"
   ]
  },
  {
   "cell_type": "markdown",
   "metadata": {},
   "source": [
    "<div style=\"page-break-before: always;\"></div>\n",
    "\n",
    "## 5 - Minimum Spanning Tree"
   ]
  },
  {
   "cell_type": "markdown",
   "metadata": {},
   "source": [
    "Consider an undirected graph $G = (V, E)$ with nonnegative edge weights such that $w(e) \\ge 1$ $\\forall e \\in E$. Suppose that you have computed a minimum spanning tree for $G$ as well as the shortest paths to all nodes from a particular node $s \\in V$. Decrease the weights of all edges in the graph such that $w'(e) = w(e) - 1$ $\\forall e \\in E$."
   ]
  },
  {
   "cell_type": "markdown",
   "metadata": {},
   "source": [
    "**A**\n",
    "\n",
    "Does the MST of $G$ change under this weight adjustment? Either provide an example of a graph for which it does change, or prove that it cannot change."
   ]
  },
  {
   "cell_type": "markdown",
   "metadata": {},
   "source": [
    "No, the MST of $G$ does not change under this weight adjustment."
   ]
  },
  {
   "cell_type": "markdown",
   "metadata": {},
   "source": [
    "**B**\n",
    "\n",
    "Do the single-source shortest paths from $s$ change?  Either provide an example of a graph for which it does change, or prove that they cannot change."
   ]
  },
  {
   "cell_type": "markdown",
   "metadata": {},
   "source": [
    "Yes, the single-source shortest paths from $s$ can change. For example:\n",
    "\n",
    "```txt\n",
    "       5\n",
    "  A---------D\n",
    "  |         |\n",
    " 2|         |2\n",
    "  |         |\n",
    "  B---------C\n",
    "       2\n",
    "\n",
    "SSSP(A -> B) = A -> B         2\n",
    "SSSP(A -> C) = A -> B -> C    4\n",
    "SSSP(A -> D) = A -> D         5\n",
    "\n",
    "       4\n",
    "  A---------D\n",
    "  |         |\n",
    " 1|         |1\n",
    "  |         |\n",
    "  B---------C\n",
    "       1\n",
    "\n",
    "SSSP(A -> B) = A -> B              1\n",
    "SSSP(A -> C) = A -> B -> C         2\n",
    "SSSP(A -> D) = A -> B -> C -> D    3\n",
    "```"
   ]
  },
  {
   "cell_type": "markdown",
   "metadata": {},
   "source": [
    "---"
   ]
  }
 ],
 "metadata": {
  "kernelspec": {
   "display_name": "ml",
   "language": "python",
   "name": "python3"
  },
  "language_info": {
   "codemirror_mode": {
    "name": "ipython",
    "version": 3
   },
   "file_extension": ".py",
   "mimetype": "text/x-python",
   "name": "python",
   "nbconvert_exporter": "python",
   "pygments_lexer": "ipython3",
   "version": "3.11.9"
  }
 },
 "nbformat": 4,
 "nbformat_minor": 2
}
