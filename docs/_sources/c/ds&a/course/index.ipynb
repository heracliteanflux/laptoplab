{
 "cells": [
  {
   "cell_type": "markdown",
   "metadata": {},
   "source": [
    "# PSU CMPSC 465\n",
    "Algorithms and Data Structures"
   ]
  },
  {
   "cell_type": "markdown",
   "metadata": {},
   "source": [
    "---"
   ]
  },
  {
   "cell_type": "markdown",
   "metadata": {},
   "source": [
    "## Sections\n",
    "```{tableofcontents}\n",
    "```"
   ]
  },
  {
   "cell_type": "markdown",
   "metadata": {},
   "source": [
    "---"
   ]
  },
  {
   "cell_type": "markdown",
   "metadata": {},
   "source": [
    "Query Algorithm (e.g., search tree)\n",
    "* point lookup\n",
    "* rank query\n",
    "* range query\n",
    "\n",
    "Lay out the data in such a way as to facilitate a query, in a way that would be faster than simply scanning unsorted records\n",
    "\n",
    "Insert Algorithm (for dynamic data structure)\n",
    "\n",
    "Delete Algorithm (for dynamic data structure)\n",
    "\n",
    "Analysis\n",
    "* Proof of correctness\n",
    "  * formalize inputs and outputs\n",
    "  * establish properties necessary for correct outputs\n",
    "  * show that these properties hold for all inputs\n",
    "* Performance analysis\n",
    "  * provide upper/lower bounds on space (memory/storage) and time (number of cpu operations, the number of things the algorithm has to do): a function of input size\n",
    "  * expected case analysis requires statistics\n",
    "  * can we beat brute force?"
   ]
  },
  {
   "cell_type": "markdown",
   "metadata": {},
   "source": [
    "* Asymptotic Analysis\n",
    "* Divide and Conquer - split problem into two or more sub problems and recursively solving those and then merging the results together\n",
    "  * recursive functions\n",
    "  * recurrence relations\n",
    "* Trees - a special case of a graph\n",
    "* Graphs\n",
    "* Greedy Algorithms\n",
    "* Dynamic Programming\n",
    "* Linear Programming and Flow Networks\n",
    "* Complexity Theory"
   ]
  }
 ],
 "metadata": {
  "language_info": {
   "name": "python"
  }
 },
 "nbformat": 4,
 "nbformat_minor": 2
}
