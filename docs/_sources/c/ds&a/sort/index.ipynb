{
 "cells": [
  {
   "cell_type": "markdown",
   "metadata": {},
   "source": [
    "# Sort"
   ]
  },
  {
   "cell_type": "markdown",
   "metadata": {},
   "source": [
    "---"
   ]
  },
  {
   "cell_type": "markdown",
   "metadata": {},
   "source": [
    "## Contents\n",
    "```{contents}\n",
    "```"
   ]
  },
  {
   "cell_type": "markdown",
   "metadata": {},
   "source": [
    "---"
   ]
  },
  {
   "cell_type": "markdown",
   "metadata": {},
   "source": [
    "## The Sorting Problem"
   ]
  },
  {
   "cell_type": "markdown",
   "metadata": {},
   "source": [
    "$\\text{Problem} \\quad \\text{Sort a sequence of numbers into monotonically increasing order}$\n",
    "\n",
    "$\n",
    "\\begin{aligned}\n",
    "\\text{  Input} && \\text{A sequence of}\\,\\, n \\,\\,\\text{numbers}\\,\\, & \\langle a_1, a_2, \\dotsc, a_n \\rangle \\\\\n",
    "\\text{ Output} && \\text{A permutation (reordering)}\\,\\, & \\langle a_1', a_2', \\dotsc, a_n' \\rangle \\,\\,\\text{of the input sequence such that}\\,\\, a_1' \\le a_2' \\le \\dotsb \\le a_n' \\\\\n",
    "\\end  {aligned}\n",
    "$\n",
    "\n",
    "The numbers to be sorted are also known as the keys. Although the problem is conceptually about sorting a sequence, the input comes in the form of an array with $n$ elements."
   ]
  },
  {
   "cell_type": "markdown",
   "metadata": {},
   "source": [
    "Problem / Program Description: Sort an array of $n$ elements\n",
    "\n",
    "Input: a positive integer $n$ and an array of $n$ numbers $a_1, \\dots, a_n$\n",
    "\n",
    "Output: the re-ordering of $a_1, \\dots, a_n$ into $b_1, \\dots, b_n$ such that $b_j \\le b_{j + 1}$ for $j \\in {1, \\dots, n - 1}$"
   ]
  },
  {
   "cell_type": "markdown",
   "metadata": {},
   "source": [
    "---"
   ]
  },
  {
   "cell_type": "markdown",
   "metadata": {},
   "source": [
    "## Sections\n",
    "```{tableofcontents}\n",
    "```"
   ]
  },
  {
   "cell_type": "markdown",
   "metadata": {},
   "source": [
    "---"
   ]
  },
  {
   "cell_type": "markdown",
   "metadata": {},
   "source": [
    "## Resources"
   ]
  },
  {
   "cell_type": "markdown",
   "metadata": {},
   "source": [
    "https://research.google/blog/extra-extra-read-all-about-it-nearly-all-binary-searches-and-mergesorts-are-broken/"
   ]
  },
  {
   "cell_type": "markdown",
   "metadata": {},
   "source": [
    "### YouTube"
   ]
  },
  {
   "cell_type": "markdown",
   "metadata": {},
   "source": [
    "* [ [y](https://www.youtube.com/watch?v=pcJHkWwjNl4) ] `11-18-2016` Computerphile. \"Sorting Secret - Computerphile\"."
   ]
  },
  {
   "cell_type": "markdown",
   "metadata": {},
   "source": [
    "---"
   ]
  },
  {
   "cell_type": "markdown",
   "metadata": {},
   "source": [
    "## Terms"
   ]
  },
  {
   "cell_type": "markdown",
   "metadata": {},
   "source": [
    "* [ [w](https://en.wikipedia.org/wiki/Bogosort) ] Bogo Sort\n",
    "* [ [w](https://en.wikipedia.org/wiki/Bubble_sort) ] Bubble Sort\n",
    "* [ [w](https://en.wikipedia.org/wiki/Cocktail_shaker_sort) ] Cocktail Shaker Sort\n",
    "* [ [w](https://en.wikipedia.org/wiki/Comb_sort) ] Comb Sort\n",
    "* [ [w](https://en.wikipedia.org/wiki/Comparison_sort) ] Comparison Sort\n",
    "* [ [w](https://en.wikipedia.org/wiki/Dutch_national_flag_problem) ] Dutch National Flag Problem\n",
    "* [ [w](https://en.wikipedia.org/wiki/External_sorting) ] External Sorting\n",
    "* [ [w](https://en.wikipedia.org/wiki/Heapsort) ] Heap Sort\n",
    "* [ [w](https://en.wikipedia.org/wiki/Insertion_sort) ] Insertion Sort\n",
    "* [ [w](https://en.wikipedia.org/wiki/Merge_sort) ] Merge Sort\n",
    "* [ [w](https://en.wikipedia.org/wiki/Quicksort) ] Quick Sort\n",
    "* [ [w](https://en.wikipedia.org/wiki/Selection_sort) ] Selection Sort\n",
    "* [ [w](https://en.wikipedia.org/wiki/Sorting_algorithm) ] Sorting Algorithm\n",
    "* [ [w](https://en.wikipedia.org/wiki/Timsort) ] Tim Sort"
   ]
  },
  {
   "cell_type": "markdown",
   "metadata": {},
   "source": [
    "---"
   ]
  }
 ],
 "metadata": {
  "language_info": {
   "name": "python"
  }
 },
 "nbformat": 4,
 "nbformat_minor": 2
}
