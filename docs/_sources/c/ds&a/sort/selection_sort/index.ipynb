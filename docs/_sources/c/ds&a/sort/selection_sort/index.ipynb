{
 "cells": [
  {
   "cell_type": "markdown",
   "metadata": {},
   "source": [
    "# Selection Sort"
   ]
  },
  {
   "cell_type": "markdown",
   "metadata": {},
   "source": [
    "---"
   ]
  },
  {
   "cell_type": "markdown",
   "metadata": {},
   "source": [
    "## Contents\n",
    "```{contents}\n",
    "```"
   ]
  },
  {
   "cell_type": "markdown",
   "metadata": {},
   "source": [
    "---"
   ]
  },
  {
   "cell_type": "markdown",
   "metadata": {},
   "source": [
    "Sort $n$ numbers stored in array $A[1:n]$ by first finding the smallest element of $A[1:n]$ and exchanging it with the element in $A[1]$. Then find the smallest element of $A[2:n]$ and exchange it with $A[2]$. Then find the smallest element of $A[3:n]$ and exchange it with $A[3]$. Continue in this manner for the first $n - 1$ elements of $A$."
   ]
  },
  {
   "cell_type": "markdown",
   "metadata": {},
   "source": [
    "```c\n",
    " INPUT     an array A[1:n] of n values\n",
    "OUTPUT    the array A in ascending sorted order\n",
    "\n",
    "SELECTION_SORT(A, n)\n",
    "1  for i = 1 to n - 1\n",
    "2     min_idx = i\n",
    "3     for j = i + 1 to n\n",
    "4         if A[j] < A[min_idx]\n",
    "5             min_idx = j\n",
    "6     swap(A[i], A[min_idx])\n",
    "```"
   ]
  },
  {
   "cell_type": "markdown",
   "metadata": {},
   "source": [
    "---"
   ]
  },
  {
   "cell_type": "markdown",
   "metadata": {},
   "source": [
    "## Correctness"
   ]
  },
  {
   "cell_type": "markdown",
   "metadata": {},
   "source": [
    "$\\textbf{Invariant}$"
   ]
  },
  {
   "cell_type": "markdown",
   "metadata": {},
   "source": [
    "At the end of iteration $i$, subarray $A[1:i]$ contains the $i$ smallest elements of the array $A$ in ascending sorted order."
   ]
  },
  {
   "cell_type": "markdown",
   "metadata": {},
   "source": [
    "$\\textbf{Initialization}$"
   ]
  },
  {
   "cell_type": "markdown",
   "metadata": {},
   "source": [
    "$\\textbf{Maintenance}$"
   ]
  },
  {
   "cell_type": "markdown",
   "metadata": {},
   "source": [
    "$\\textbf{Termination}$"
   ]
  },
  {
   "cell_type": "markdown",
   "metadata": {},
   "source": [
    "---"
   ]
  },
  {
   "cell_type": "markdown",
   "metadata": {},
   "source": [
    "## Complexity"
   ]
  },
  {
   "cell_type": "markdown",
   "metadata": {},
   "source": [
    "### Time"
   ]
  },
  {
   "cell_type": "markdown",
   "metadata": {},
   "source": [
    "### Space"
   ]
  },
  {
   "cell_type": "markdown",
   "metadata": {},
   "source": [
    "---"
   ]
  },
  {
   "cell_type": "markdown",
   "metadata": {},
   "source": [
    "## Implementations"
   ]
  },
  {
   "cell_type": "markdown",
   "metadata": {},
   "source": [
    "### C"
   ]
  },
  {
   "cell_type": "markdown",
   "metadata": {},
   "source": [
    "```c\n",
    "// selection_sort.c\n",
    "\n",
    "#include <stdio.h>\n",
    "\n",
    "void print_array (int A[], int n) {\n",
    "  for (int i = 0; i < n; i++) {\n",
    "    printf(\"%d \", A[i]);\n",
    "  }\n",
    "  printf(\"\\n\");\n",
    "}\n",
    "\n",
    "void swap (int *i, int *min_idx) {\n",
    "  int temp     = *i;\n",
    "      *i       = *min_idx;\n",
    "      *min_idx = temp;\n",
    "}\n",
    "\n",
    "void selection_sort (int A[], int n) {\n",
    "  int min_idx;\n",
    "\n",
    "  for (int i = 0; i < n - 1; i++) {\n",
    "    min_idx = i;\n",
    "    for (int j = i + 1; j < n; j++) {\n",
    "      if (A[j] < A[min_idx]) {\n",
    "        min_idx = j;\n",
    "      }\n",
    "    }\n",
    "    swap(&A[i], &A[min_idx]);\n",
    "  }\n",
    "}\n",
    "\n",
    "int main () {\n",
    "  int A[] = {5, 4, 3, 2, 1};\n",
    "  int n   = sizeof(A) / sizeof(A[0]);\n",
    "\n",
    "  print_array(A, n);\n",
    "  selection_sort(A, n);\n",
    "  print_array(A, n);\n",
    "\n",
    "  return 0;\n",
    "}\n",
    "```"
   ]
  },
  {
   "cell_type": "markdown",
   "metadata": {},
   "source": [
    "### Python"
   ]
  },
  {
   "cell_type": "markdown",
   "metadata": {},
   "source": [
    "```py\n",
    "# selection_sort.py\n",
    "\n",
    "def selection_sort (A, n):\n",
    "  for i in range(n - 1):\n",
    "    min_idx = i\n",
    "    for j in range(i + 1, n):\n",
    "      if A[j] < A[min_idx]:\n",
    "        min_idx = j\n",
    "    A[i], A[min_idx] = A[min_idx], A[i] # swap\n",
    "\n",
    "A = [5, 4, 3, 2, 1]\n",
    "n = len(A)\n",
    "\n",
    "print(A)\n",
    "selection_sort(A, n)\n",
    "print(A)\n",
    "```"
   ]
  },
  {
   "cell_type": "markdown",
   "metadata": {},
   "source": [
    "---"
   ]
  },
  {
   "cell_type": "markdown",
   "metadata": {},
   "source": [
    "## Acknowledgments"
   ]
  },
  {
   "cell_type": "markdown",
   "metadata": {},
   "source": [
    "* https://www.geeksforgeeks.org/selection-sort/"
   ]
  },
  {
   "cell_type": "markdown",
   "metadata": {},
   "source": [
    "---"
   ]
  }
 ],
 "metadata": {
  "language_info": {
   "name": "python"
  }
 },
 "nbformat": 4,
 "nbformat_minor": 2
}
