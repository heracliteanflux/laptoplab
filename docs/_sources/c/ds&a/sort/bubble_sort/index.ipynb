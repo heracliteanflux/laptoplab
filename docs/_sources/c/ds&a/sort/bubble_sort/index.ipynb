{
 "cells": [
  {
   "cell_type": "markdown",
   "metadata": {},
   "source": [
    "# Bubble Sort"
   ]
  },
  {
   "cell_type": "markdown",
   "metadata": {},
   "source": [
    "---"
   ]
  },
  {
   "cell_type": "markdown",
   "metadata": {},
   "source": [
    "## Contents\n",
    "```{contents}\n",
    "```"
   ]
  },
  {
   "cell_type": "markdown",
   "metadata": {},
   "source": [
    "---"
   ]
  },
  {
   "cell_type": "markdown",
   "metadata": {},
   "source": [
    "Bubble sort is a basic comparison sort which requires $\\Theta(n^2)$ time and $\\Theta(1)$ space to process an unsorted array of length $n$."
   ]
  },
  {
   "cell_type": "markdown",
   "metadata": {},
   "source": [
    "```c\n",
    " INPUT    an array A[0:n - 1] of n values where n >= 0\n",
    "OUTPUT    the same array sorted in ascending order\n",
    "\n",
    "BUBBLESORT(A, n)                        // move large elements to the right, and iterate over left subarrays\n",
    "1    for i = 0 to (n - 1) - 1           // 0->n-2\n",
    "2        for j = 0 to (n - 1 - i) - 1   // 0->n-2, 0->n-3, ..., 0->0 (first to second to last)\n",
    "3            if A[j] > A[j + 1]\n",
    "4                swap(A[j], A[j + 1])\n",
    "```"
   ]
  },
  {
   "cell_type": "markdown",
   "metadata": {},
   "source": [
    "```c\n",
    "A: 6 5 4 3 2 1     i = 0\n",
    "   |           <-- j = 0\n",
    "\n",
    "A: 5 6 4 3 2 1     i = 0\n",
    "     |         <-- j = 1\n",
    "\n",
    "A: 5 4 6 3 2 1     i = 0\n",
    "       |       <-- j = 2\n",
    "\n",
    "A: 5 4 3 6 2 1     i = 0\n",
    "         |     <-- j = 3\n",
    "\n",
    "A: 5 4 3 2 6 1     i = 0\n",
    "           |   <-- j = 4 (5 iterations)\n",
    "\n",
    "A: 5 4 3 2 1 6     i = 1\n",
    "   |           <-- j = 0\n",
    "\n",
    "A: 4 5 3 2 1 6     i = 1\n",
    "     |         <-- j = 1\n",
    "\n",
    "A: 3 4 5 2 1 6     i = 1\n",
    "       |       <-- j = 2\n",
    "\n",
    "A: 4 3 2 5 1 6     i = 1\n",
    "         |     <-- j = 3 (4 iterations)\n",
    "\n",
    "A: 4 3 2 1 5 6     i = 2\n",
    "   |           <-- j = 0\n",
    "\n",
    "A: 3 4 2 1 5 6     i = 2\n",
    "     |         <-- j = 1\n",
    "\n",
    "A: 3 2 4 1 5 6     i = 2\n",
    "       |       <-- j = 2 (3 iterations)\n",
    "\n",
    "A: 3 2 1 4 5 6     i = 3\n",
    "   |           <-- j = 0\n",
    "\n",
    "A: 2 3 1 4 5 6     i = 3\n",
    "     |         <-- j = 1 (2 iterations)\n",
    "\n",
    "A: 2 1 3 4 5 6     i = 4\n",
    "   |           <-- j = 0 (1 iteration)\n",
    "\n",
    "A: 1 2 3 4 5 6\n",
    "```"
   ]
  },
  {
   "cell_type": "markdown",
   "metadata": {},
   "source": [
    "```c\n",
    "BUBBLESORT(A, n)                  // move small elements to the left, and iterate over right subarrays\n",
    "1    for i = 0 to (n - 1) - 1     // 0->n-2\n",
    "2        for j = n - 1 to i + 1   // n-1->1, n-1->2, ..., n-1->n-1 (last to second)\n",
    "3            if A[j] < A[j - 1]\n",
    "4                swap(A[j], A[j - 1])\n",
    "```"
   ]
  },
  {
   "cell_type": "markdown",
   "metadata": {},
   "source": [
    "```c\n",
    "A: 6 5 4 3 2 1     i = 0\n",
    "             | <-- j = 5\n",
    "\n",
    "A: 6 5 4 3 1 2     i = 0\n",
    "           |   <-- j = 4\n",
    "\n",
    "A: 6 5 4 1 3 2     i = 0\n",
    "         |     <-- j = 3\n",
    "\n",
    "A: 6 5 1 4 3 2     i = 0\n",
    "       |       <-- j = 2\n",
    "\n",
    "A: 6 1 5 4 3 2     i = 0\n",
    "     |         <-- j = 1 (5 iterations)\n",
    "\n",
    "A: 1 6 5 4 3 2     i = 1\n",
    "             | <-- j = 5\n",
    "\n",
    "A: 1 6 5 4 2 3     i = 1\n",
    "           |   <-- j = 4\n",
    "\n",
    "A: 1 6 5 2 4 3     i = 1\n",
    "         |     <-- j = 3\n",
    "\n",
    "A: 1 6 2 5 4 3     i = 1\n",
    "       |       <-- j = 2 (4 itertations)\n",
    "\n",
    "A: 1 2 6 5 4 3     i = 2\n",
    "             | <-- j = 5\n",
    "\n",
    "A: 1 2 6 5 3 4     i = 2\n",
    "           |   <-- j = 4\n",
    "\n",
    "A: 1 2 6 3 5 4     i = 2\n",
    "         |     <-- j = 3 (3 iterations)\n",
    "\n",
    "A: 1 2 3 6 5 4     i = 3\n",
    "             | <-- j = 5\n",
    "\n",
    "A: 1 2 3 6 4 5     i = 3\n",
    "           |   <-- j = 4 (2 iterations)\n",
    "\n",
    "A: 1 2 3 4 6 5     i = 4\n",
    "             | <-- j = 5 (1 iteration)\n",
    "\n",
    "A: 1 2 3 4 5 6\n",
    "```"
   ]
  },
  {
   "cell_type": "markdown",
   "metadata": {},
   "source": [
    "---"
   ]
  },
  {
   "cell_type": "markdown",
   "metadata": {},
   "source": [
    "### Complexity"
   ]
  },
  {
   "cell_type": "markdown",
   "metadata": {},
   "source": [
    "#### Time"
   ]
  },
  {
   "cell_type": "markdown",
   "metadata": {},
   "source": [
    "The outer loop iterates over $n - 1$ elements. The inner loop iterates over at most $n - 1$ elements.\n",
    "\n",
    "$T(n) = (n - 1)(n - 1) = O(n^2)$"
   ]
  },
  {
   "cell_type": "markdown",
   "metadata": {},
   "source": [
    "On each iteration `BUBBLESORT` places an element into sorted order and then recursively sorts the remaining elements. There are $n$ expansions of the recursive function. Each term in the expaned form is no greater than $n$ and so we can bound the expression by $n$ terms of $n$."
   ]
  },
  {
   "cell_type": "markdown",
   "metadata": {},
   "source": [
    "$\n",
    "T(n) =\n",
    "\\begin{cases}\n",
    "T(1) = 0 \\\\\n",
    "T(2) = 1 \\\\\n",
    "T(n) = T(n - 1) + n - 1 && n \\gt 2 \\\\\n",
    "\\end  {cases}\n",
    "$"
   ]
  },
  {
   "cell_type": "markdown",
   "metadata": {},
   "source": [
    "$\n",
    "T(n) =\n",
    "\\begin{cases}\n",
    "T(0) &= 1 \\\\\n",
    "T(n) &= n + T(n - 1) \\\\\n",
    "\\end  {cases}\n",
    "$\n",
    "\n",
    "$\n",
    "\\begin{aligned}\n",
    "T(n) &= n + T(n - 1) \\\\\n",
    "     &  \\left.\\begin{aligned}\n",
    "        &=   && n && + && (n - 1) && + && (n - 2) && + && \\dotsb && + && 1 \\\\\n",
    "        &\\le && n && + && n && + && n && + && \\dotsb && + && n \\\\\n",
    "        \\end{aligned}\\right. \\\\\n",
    "    &= n^2\n",
    "\\end  {aligned}\n",
    "$"
   ]
  },
  {
   "cell_type": "markdown",
   "metadata": {},
   "source": [
    "Can we say that the time complexity of `BUBBLESORT` is not only $O(n^2)$ but $o(n^2)$?\n",
    "\n",
    "The complexity function has the quadaratic form $an^2 + bn + c$ where $a \\ne 0$.\n",
    "\n",
    "$\n",
    "\\begin{aligned}\n",
    "\\lim_{n \\to \\infty} \\frac{an^2 + bn + c}{n^2}\n",
    "= a \\lim_{n \\to \\infty} 1 + b \\lim_{n \\to \\infty} \\frac{1}{n} + c \\lim_{n \\to \\infty} \\frac{1}{n^2}\n",
    "= a\n",
    "\\end  {aligned}\n",
    "$\n",
    "\n",
    "Since the limit evaluates to a nonzero constant we can say that `BUBBLESORT` is $\\Theta(n^2)$ but not $o(n^2)$."
   ]
  },
  {
   "cell_type": "markdown",
   "metadata": {},
   "source": [
    "---"
   ]
  },
  {
   "cell_type": "markdown",
   "metadata": {},
   "source": [
    "For an array of size $1$ there are $0$ comparisons since there is only one element.\n",
    "\n",
    "$T(1) = 0$\n",
    "\n",
    "For an array of size $2$ there is $1$ comparison among the two elements.\n",
    "\n",
    "$T(2) = 1$\n",
    "\n",
    "For an array of size $3$ there are $2$ initial comparisons, one comparison between the first and second elements and another comparison between the second and third elements. At this point the largest element in the array is now located at the end of the array. There are then $T(2) = 1$ comparisons between the first and second elements.\n",
    "\n",
    "For an input of size $n$, there are a total of $T(n) = T(n - 1) + n - 1$ comparisons."
   ]
  },
  {
   "cell_type": "markdown",
   "metadata": {},
   "source": [
    "$\n",
    "T(n) =\n",
    "\\begin{cases}\n",
    "T(0) & = 0 \\\\\n",
    "T(1) & = 0 \\\\\n",
    "T(n) & = T(n - 1) + n - 1 && n \\ge 2 \\\\\n",
    "\\end  {cases}\n",
    "$\n",
    "\n",
    "To solve this linear nonhomogeneous recurrence relation with constant coefficients we must\n",
    "\n",
    "1\\. solve its associated linear homogeneous recurrence\n",
    "\n",
    "$T(n)^{(h)} = T(n - 1)$\n",
    "\n",
    "Its solutions are\n",
    "\n",
    "$c \\cdot 1^n = c$ for some constant $c$\n",
    "\n",
    "2\\. find a particular solution for the given linear nonhomogeneous recurrence\n",
    "\n",
    "$\n",
    "\\begin{aligned}\n",
    "T(n) & = T(n - 1) + n - 1 \\\\\n",
    "T(n) & = T(n - 1) + F(n) && F(n) = n - 1 \\\\\n",
    "\\end  {aligned}\n",
    "$\n",
    "\n",
    "Since $F(n) = n - 1 = (b_1n + b_0)s^n$ where $b_1 = 1, b_0 = -1, s = 1$ there is a particular solution of the form $n(p_1n + p_0)s^n = n(p_1n + p_0) = p_1n^2 + p_0n$.\n",
    "\n",
    "$\n",
    "\\begin{aligned}\n",
    "T(n) & = T(n - 1) + n - 1 \\\\\n",
    "p_1n^2 + p_0n & = p_1(n - 1)^2 + p_0(n - 1) + n - 1 \\\\\n",
    "p_1n^2 + p_0n & = p_1(n^2 - 2n + 1) + p_0(n - 1) + n - 1 \\\\\n",
    "p_1n^2 + p_0n & = p_1n^2 - 2p_1n + p_1 + p_0n - p_0 + n - 1 \\\\\n",
    "0 & = -2p_1n + p_1 - p_0 + n - 1 \\\\\n",
    "2p_1n - n - p_1 + p_0 + 1 & = 0 \\\\\n",
    "(2p_1 - 1)n + (p_0 - p_1 + 1) & = 0 \\\\\n",
    "\\end  {aligned}\n",
    "$\n",
    "\n",
    "$2p_1 - 1 = 0 \\implies p_1 = 1/2$\n",
    "\n",
    "$p_0 - p_1 + 1 = 0 \\implies p_0 = p_1 - 1 = (1/2) - 1 = -1/2$\n",
    "\n",
    "$\n",
    "\\begin{aligned}\n",
    "T(n)^{(p)} = p_1n^2 + p_0n = (1/2)n^2 + (-1/2)n = (1/2)n(n - 1) \\\\\n",
    "\\end  {aligned}\n",
    "$\n",
    "\n",
    "$\n",
    "T(n) = T(n)^{(h)} + T(n)^{(p)} = c + (1/2)n(n - 1)\n",
    "\\implies\n",
    "T(1) = 0 = c + (1/2)(1)((1) - 1)\n",
    "\\implies c = 0\n",
    "$\n",
    "\n",
    "$\n",
    "\\boxed{\n",
    "\\begin{aligned}\n",
    "T(n) = \\frac{n(n - 1)}{2}\n",
    "\\end  {aligned}\n",
    "}\n",
    "$"
   ]
  },
  {
   "cell_type": "markdown",
   "metadata": {},
   "source": [
    "---"
   ]
  },
  {
   "cell_type": "markdown",
   "metadata": {},
   "source": [
    "### Correctness"
   ]
  },
  {
   "cell_type": "markdown",
   "metadata": {},
   "source": [
    "$\\textbf{Precondition}$"
   ]
  },
  {
   "cell_type": "markdown",
   "metadata": {},
   "source": [
    "1\\. An array $A[0:n - 1]$ of $n$ values where $n \\ge 0$ <br>\n",
    "2\\. $i = 0$"
   ]
  },
  {
   "cell_type": "markdown",
   "metadata": {},
   "source": [
    "$\\textbf{Condition}$"
   ]
  },
  {
   "cell_type": "markdown",
   "metadata": {},
   "source": [
    "$i \\lt n - 1$"
   ]
  },
  {
   "cell_type": "markdown",
   "metadata": {},
   "source": [
    "$\\textbf{Invariant}$\n",
    "\n",
    "1\\. $0 \\le i \\le n - 1$ <br>\n",
    "2\\. After $i$ iterations the subarray $A[n - i:n - 1]$ contains the largest $i$ values of $A$ sorted in ascending order"
   ]
  },
  {
   "cell_type": "markdown",
   "metadata": {},
   "source": [
    "$\\textbf{Variant}$"
   ]
  },
  {
   "cell_type": "markdown",
   "metadata": {},
   "source": [
    "$n - i$"
   ]
  },
  {
   "cell_type": "markdown",
   "metadata": {},
   "source": [
    "$\\textbf{Postcondition}$"
   ]
  },
  {
   "cell_type": "markdown",
   "metadata": {},
   "source": [
    "After $n$ iterations the subarray $A[0:n - 1]$ contains all $n$ values of $A$ sorted in ascending order"
   ]
  },
  {
   "cell_type": "markdown",
   "metadata": {},
   "source": [
    "$\\textbf{Initialization}$"
   ]
  },
  {
   "cell_type": "markdown",
   "metadata": {},
   "source": [
    "The first iteration (iteration $0$) performs a pass over subarray $A[0:n - 1 - 1]$.\n",
    "\n",
    "At some index $\\ell$ for $0 \\le \\ell \\le n - 2$ it is the case that $A[\\ell] \\gt A[j]$\n",
    "\n",
    "At the end of iteration $0$, the subarray $A[n - 1:n - 1]$ contains the single largest value of $A$ which is trivially in sorted order."
   ]
  },
  {
   "cell_type": "markdown",
   "metadata": {},
   "source": [
    "$\\textbf{Maintenance}$"
   ]
  },
  {
   "cell_type": "markdown",
   "metadata": {},
   "source": [
    "At the end of iteration $k$, the subarray $A[n - 1 - k:n - 1]$ contains the $k + 1$ largest values of $A$ in sorted order.\n",
    "\n",
    "Iteration $k + 1$ performs a pass over subarray $A[0:n - 1 - k - 1]$ and at some index $\\ell'$ where $0 \\le \\ell' \\le j$ is the case that $A[\\ell'] \\gt A[j]$.\n",
    "\n",
    "At the end of iteration $k + 1$, the subarray $A[n - 1 - k - 1:n - 1]$ contains the $k + 2$ largest values of $A$ in sorted order."
   ]
  },
  {
   "cell_type": "markdown",
   "metadata": {},
   "source": [
    "$\\textbf{Termination}$"
   ]
  },
  {
   "cell_type": "markdown",
   "metadata": {},
   "source": [
    "At the end of the last iteration $n - 1$, the subarray $A[0:n - 1]$ contains the $n$ largest values of $A$ in sorted order."
   ]
  },
  {
   "cell_type": "markdown",
   "metadata": {},
   "source": [
    "---"
   ]
  },
  {
   "cell_type": "markdown",
   "metadata": {},
   "source": [
    "## Implementations"
   ]
  },
  {
   "cell_type": "markdown",
   "metadata": {},
   "source": [
    "### C"
   ]
  },
  {
   "cell_type": "markdown",
   "metadata": {},
   "source": [
    "```c\n",
    "// bubble_sort.c\n",
    "\n",
    "#include <stdio.h>\n",
    "\n",
    "void print_array (int A[], int n) {\n",
    "  for (int i = 0; i < n; i++) {\n",
    "    printf(\"%d \", A[i]);\n",
    "  }\n",
    "  printf(\"\\n\");\n",
    "}\n",
    "\n",
    "void swap (int *a, int *b) {\n",
    "  int temp = *a;\n",
    "      *a   = *b;\n",
    "      *b   = temp;\n",
    "}\n",
    "\n",
    "void bubble_sort (int A[], int n) {\n",
    "  for (int i = 0; i < n - 1; i++) {\n",
    "    for (int j = 0; j < n - 1 - i; j++) {\n",
    "      if (A[j] > A[j + 1]) {\n",
    "        swap(&A[j], &A[j + 1]);\n",
    "      }\n",
    "    }\n",
    "  }\n",
    "}\n",
    "\n",
    "int main () {\n",
    "  int A[] = {5, 4, 3, 2, 1};\n",
    "  int n   = sizeof(A) / sizeof(A[0]);\n",
    "\n",
    "  print_array(A, n);\n",
    "  bubble_sort(A, n);\n",
    "  print_array(A, n);\n",
    "\n",
    "  return 0;\n",
    "}\n",
    "```"
   ]
  },
  {
   "cell_type": "markdown",
   "metadata": {},
   "source": [
    "### Python"
   ]
  },
  {
   "cell_type": "code",
   "execution_count": 3,
   "metadata": {},
   "outputs": [
    {
     "name": "stdout",
     "output_type": "stream",
     "text": [
      "[5, 4, 3, 2, 1]\n",
      "[1, 2, 3, 4, 5]\n"
     ]
    }
   ],
   "source": [
    "def bubble_sort (A, n):\n",
    "  for i in range(n - 2 + 1):       # +1 bc upper bound is exclusive\n",
    "    for j in range(n - 2 - i + 1): # +1 bc upper bound is exclusive\n",
    "      if A[j] > A[j + 1]:\n",
    "        A[j], A[j + 1] = A[j + 1], A[j]\n",
    "\n",
    "A = [5, 4, 3, 2, 1]\n",
    "n = len(A)\n",
    "\n",
    "print(A)\n",
    "bubble_sort(A, n)\n",
    "print(A)"
   ]
  },
  {
   "cell_type": "markdown",
   "metadata": {},
   "source": [
    "---"
   ]
  },
  {
   "cell_type": "markdown",
   "metadata": {},
   "source": [
    "## Acknowledgments"
   ]
  },
  {
   "cell_type": "markdown",
   "metadata": {},
   "source": [
    "* https://www.geeksforgeeks.org/bubble-sort/"
   ]
  },
  {
   "cell_type": "markdown",
   "metadata": {},
   "source": [
    "---"
   ]
  }
 ],
 "metadata": {
  "kernelspec": {
   "display_name": "ml",
   "language": "python",
   "name": "python3"
  },
  "language_info": {
   "codemirror_mode": {
    "name": "ipython",
    "version": 3
   },
   "file_extension": ".py",
   "mimetype": "text/x-python",
   "name": "python",
   "nbconvert_exporter": "python",
   "pygments_lexer": "ipython3",
   "version": "3.11.9"
  }
 },
 "nbformat": 4,
 "nbformat_minor": 2
}
