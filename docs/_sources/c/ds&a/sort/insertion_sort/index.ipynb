{
 "cells": [
  {
   "cell_type": "markdown",
   "metadata": {},
   "source": [
    "# Insertion Sort"
   ]
  },
  {
   "cell_type": "markdown",
   "metadata": {},
   "source": [
    "---"
   ]
  },
  {
   "cell_type": "markdown",
   "metadata": {},
   "source": [
    "## Contents\n",
    "```{contents}\n",
    "```"
   ]
  },
  {
   "cell_type": "markdown",
   "metadata": {},
   "source": [
    "---"
   ]
  },
  {
   "cell_type": "markdown",
   "metadata": {},
   "source": [
    "## Problem"
   ]
  },
  {
   "cell_type": "markdown",
   "metadata": {},
   "source": [
    "```c\n",
    " INPUT     an array A[1:n] of n values\n",
    "OUTPUT    the array A in ascending sorted order\n",
    "\n",
    "INSERTION_SORT(A, n)\n",
    "1  for i = 2 to n\n",
    "2     key = A[i]\n",
    "3     j   = i - 1\n",
    "4     while j > 0 and A[j] > key\n",
    "5         A[j + 1] = A[j]\n",
    "6         j        = j - 1\n",
    "7     A[j + 1] = key\n",
    "```"
   ]
  },
  {
   "cell_type": "markdown",
   "metadata": {},
   "source": [
    "### Description"
   ]
  },
  {
   "cell_type": "markdown",
   "metadata": {},
   "source": [
    "Insertion sort takes time roughly equal to $c n^2 \\propto n^2$ to sort $n$ items where $c$ is a constant that does not depend on $n$.\n",
    "\n",
    "Insertion sort uses an incremental algorithm design method: for each element $A[i]$, insert it into its proper place in the subarray $A[1:i]$ having already sorted the subarray $A[1:i - 1]$"
   ]
  },
  {
   "cell_type": "markdown",
   "metadata": {},
   "source": [
    "---"
   ]
  },
  {
   "cell_type": "markdown",
   "metadata": {},
   "source": [
    "## Complexity"
   ]
  },
  {
   "cell_type": "markdown",
   "metadata": {},
   "source": [
    "### Time"
   ]
  },
  {
   "cell_type": "markdown",
   "metadata": {},
   "source": [
    "The outer loop iterates from the second to the last element."
   ]
  },
  {
   "cell_type": "markdown",
   "metadata": {},
   "source": [
    "#### $\\Theta(n^2)$ Worst-Case"
   ]
  },
  {
   "cell_type": "markdown",
   "metadata": {},
   "source": [
    "```c\n",
    "INSERTION_SORT(A, n)\n",
    "1  for i = 2 to n                //   n - 1\n",
    "2     key = A[i]\n",
    "3     j   = i - 1\n",
    "4     while j > 0 and A[j] > key //   n(n + 1)/2 - 1\n",
    "5         A[j + 1] = A[j]\n",
    "6         j        = j - 1\n",
    "7     A[j + 1] = key\n",
    "```"
   ]
  },
  {
   "cell_type": "markdown",
   "metadata": {},
   "source": [
    "#### $\\Theta(n)$ Best-Case"
   ]
  },
  {
   "cell_type": "markdown",
   "metadata": {},
   "source": [
    "```c\n",
    "INSERTION_SORT(A, n)\n",
    "1  for i = 2 to n                //   n - 1\n",
    "2     key = A[i]\n",
    "3     j   = i - 1\n",
    "4     while j > 0 and A[j] > key //   1\n",
    "5         A[j + 1] = A[j]\n",
    "6         j        = j - 1\n",
    "7     A[j + 1] = key\n",
    "```"
   ]
  },
  {
   "cell_type": "markdown",
   "metadata": {},
   "source": [
    "### Space"
   ]
  },
  {
   "cell_type": "markdown",
   "metadata": {},
   "source": [
    "---"
   ]
  },
  {
   "cell_type": "markdown",
   "metadata": {},
   "source": [
    "## Correctness"
   ]
  },
  {
   "cell_type": "markdown",
   "metadata": {},
   "source": [
    "$\\textbf{Invariant}$"
   ]
  },
  {
   "cell_type": "markdown",
   "metadata": {},
   "source": [
    "At the end of iteration $i$ (NOT the $i$-th iteration), subarray $A[1:i]$ contains the first $i$ elements of the array $A$ but in sorted order."
   ]
  },
  {
   "cell_type": "markdown",
   "metadata": {},
   "source": [
    "$\\textbf{Initialization}$"
   ]
  },
  {
   "cell_type": "markdown",
   "metadata": {},
   "source": [
    "$i = 2$ and subarray $A[1:1]$ contains the first element of the array, which is trivially in sorted order."
   ]
  },
  {
   "cell_type": "markdown",
   "metadata": {},
   "source": [
    "$\\textbf{Maintenance}$"
   ]
  },
  {
   "cell_type": "markdown",
   "metadata": {},
   "source": [
    "The body of the for loop works by moving the values $A[i - 1], A[i - 2], A[i - 3],$ and so on by one position to the right until it finds the proper position for $A[i]$ (lines 4-7), at which point it inserts the value of $A[i]$ (line 8). The sub array $A[1:i]$ then consists of the elements originally in $A[1:i]$ but in sorted order. Incrementing $i$ for the next iteration of the for loop then preserves the loop invariant."
   ]
  },
  {
   "cell_type": "markdown",
   "metadata": {},
   "source": [
    "$\\textbf{Termination}$"
   ]
  },
  {
   "cell_type": "markdown",
   "metadata": {},
   "source": [
    "The loop variable $i$ starts at $2$ and increases by $1$ in each iteration. Once $i$'s value exceeds $n$ in line 1, the loop terminates. That is, the loop terminates once $i = n$. Substituting $n$ for $i$ in the wording of the loop invariant yields that the sub array $A[1:n]$ consists of the elements originally in $A[1:n]$ but in sorted order."
   ]
  },
  {
   "cell_type": "markdown",
   "metadata": {},
   "source": [
    "---"
   ]
  },
  {
   "cell_type": "markdown",
   "metadata": {},
   "source": [
    "## Implementations"
   ]
  },
  {
   "cell_type": "markdown",
   "metadata": {},
   "source": [
    "### C"
   ]
  },
  {
   "cell_type": "markdown",
   "metadata": {},
   "source": [
    "```c\n",
    "/*   insertion_sort.c\n",
    " *\n",
    " */\n",
    "\n",
    "#include <stdio.h>\n",
    "\n",
    "void print_array (int A[], int n) {\n",
    "  for (int i = 0; i < n; i++) {\n",
    "    printf(\"%d \", A[i]);\n",
    "  }\n",
    "  printf(\"\\n\");\n",
    "}\n",
    "\n",
    "void insertion_sort (int A[], int n) {\n",
    "  int i, j, key;\n",
    "\n",
    "  for (i = 1; i < n; i++) {        // C arrays are zero-indexed! second to last elem\n",
    "    key = A[i];\n",
    "    j   = i - 1;\n",
    "                                   // iterate from right to left over the sorted subarray\n",
    "    while (j >= 0 && A[j] > key) { // if this elem is larger than A[i]\n",
    "      A[j + 1] = A[j];             // shift this elem to the right one position\n",
    "      j        = j - 1;            // move left one position to the next elem\n",
    "    }\n",
    "    A[j + 1] = key;                // place A[i] into its proper position in the sorted subarray\n",
    "  }\n",
    "}\n",
    "\n",
    "int main () {\n",
    "  int A[] = {5, 4, 3, 2, 1};\n",
    "  int n   = sizeof(A) / sizeof(A[0]);\n",
    "\n",
    "  print_array(A, n);\n",
    "  insertion_sort(A, n);\n",
    "  print_array(A, n);\n",
    "\n",
    "  return 0;\n",
    "}\n",
    "```"
   ]
  },
  {
   "cell_type": "markdown",
   "metadata": {},
   "source": [
    "### Python"
   ]
  },
  {
   "cell_type": "markdown",
   "metadata": {},
   "source": [
    "```py\n",
    "# insertion_sort.py\n",
    "\n",
    "def insertion_sort (A, n):\n",
    "  for i in range(1, n):\n",
    "    key = A[i]\n",
    "    j   = i - 1\n",
    "    while j >= 0 and A[j] > key:\n",
    "      A[j + 1] = A[j]\n",
    "      j       -= 1\n",
    "    A[j + 1] = key\n",
    "\n",
    "A = [5, 4, 3, 2, 1]\n",
    "n = len(A)\n",
    "\n",
    "print(A)\n",
    "insertion_sort(A, n)\n",
    "print(A)\n",
    "```"
   ]
  },
  {
   "cell_type": "markdown",
   "metadata": {},
   "source": [
    "---"
   ]
  },
  {
   "cell_type": "markdown",
   "metadata": {},
   "source": [
    "## Acknowledgments"
   ]
  },
  {
   "cell_type": "markdown",
   "metadata": {},
   "source": [
    "* https://www.geeksforgeeks.org/insertion-sort/"
   ]
  },
  {
   "cell_type": "markdown",
   "metadata": {},
   "source": [
    "---"
   ]
  }
 ],
 "metadata": {
  "language_info": {
   "name": "python"
  }
 },
 "nbformat": 4,
 "nbformat_minor": 2
}
