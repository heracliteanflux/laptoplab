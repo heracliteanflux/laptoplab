{
 "cells": [
  {
   "cell_type": "markdown",
   "metadata": {},
   "source": [
    "# Merge Sort"
   ]
  },
  {
   "cell_type": "markdown",
   "metadata": {},
   "source": [
    "---"
   ]
  },
  {
   "cell_type": "markdown",
   "metadata": {},
   "source": [
    "## Contents\n",
    "```{contents}\n",
    "```"
   ]
  },
  {
   "cell_type": "markdown",
   "metadata": {},
   "source": [
    "---"
   ]
  },
  {
   "cell_type": "markdown",
   "metadata": {},
   "source": [
    "Merge sort can be attributed to John Von Neumann around 1945.\n",
    "\n",
    "Merge sort is a stable sorting algorithm, which means that duplicate elements retain the same relative ordering both before and after the sorting operation.\n",
    "\n",
    "Merge sort is based on the idea of sorted array merge."
   ]
  },
  {
   "cell_type": "markdown",
   "metadata": {},
   "source": [
    "---"
   ]
  },
  {
   "cell_type": "markdown",
   "metadata": {},
   "source": [
    "**Divide**\n",
    "\n",
    "The input array is partitioned into two subarrays based on the array's midpoint.\n",
    "\n",
    "**Conquer**\n",
    "\n",
    "Each subarray is recursively sorted. The base case occurs when a subarray contains a single element, at which point it is trivially sorted.\n",
    "\n",
    "**Combine**\n",
    "\n",
    "The resulting sorted subarrays are combined via `SORTED_ARRAY_MERGE`."
   ]
  },
  {
   "cell_type": "markdown",
   "metadata": {},
   "source": [
    "```c\n",
    " INPUT    an array A[0:n - 1] of n values where n >= 1, l = 0, r = n - 1\n",
    "OUTPUT    the array sorted in ascending order\n",
    "\n",
    "MERGE_SORT(A, l, r)\n",
    " 1    if l == r\n",
    " 2        return A[l]\n",
    " 3\n",
    " 4    m  = l + (r - l) // 2\n",
    " 5    a1 = MERGE_SORT(A, l    , m)\n",
    " 6    a2 = MERGE_SORT(A, m + 1, r)\n",
    " 7\n",
    " 8    return SORTED_ARRAY_MERGE(a1, a2)\n",
    "```"
   ]
  },
  {
   "cell_type": "markdown",
   "metadata": {},
   "source": [
    "---"
   ]
  },
  {
   "cell_type": "markdown",
   "metadata": {},
   "source": [
    "### Correctness"
   ]
  },
  {
   "cell_type": "markdown",
   "metadata": {},
   "source": [
    "Base Case\n",
    "* Let $|A| = 1$. $A$ is trivially sorted and so `mergesort` is guaranteed to produce the correct result.\n",
    "\n",
    "Inductive Step\n",
    "* Assume that `mergesort` produces the correct output for an array of size $n/2$.\n",
    "* Then `mergesort` produces the correct output for an array of size $n$ by sorting two arrays of size $n/2$ and then combining them via `sorted-merge`.\n",
    "\n",
    "Therefore `mergesort` is correct for an array of any size $n$ since an array will be sub divided until it reaches the base case. The inductive step demonstrates that so long as `mergesort` is correct for some sub problem it is correct for all sub problems."
   ]
  },
  {
   "cell_type": "markdown",
   "metadata": {},
   "source": [
    "---"
   ]
  },
  {
   "cell_type": "markdown",
   "metadata": {},
   "source": [
    "### Complexity"
   ]
  },
  {
   "cell_type": "markdown",
   "metadata": {},
   "source": [
    "#### Time"
   ]
  },
  {
   "cell_type": "markdown",
   "metadata": {},
   "source": [
    "The time complexity of `mergesort` is $T(n) = 2T(n/2) + \\Theta(n)$ where the term $2T(n/2)$ represents the number of sub problems times the cost of recursively sorting a sub problem and the term $\\Theta(n)$ is the cost of running the comparison operation. The comparison operation runs in linear time with respect to the combined size of the two input arrays. According to the Master Theorem the time complexity of `mergesort` becomes\n",
    "\n",
    "$a = 2, b = 2, d = 1 \\implies \\Theta(n \\log n)$"
   ]
  },
  {
   "cell_type": "markdown",
   "metadata": {},
   "source": [
    "worst case $T(n) = \\Theta(n \\log n)$"
   ]
  },
  {
   "cell_type": "markdown",
   "metadata": {},
   "source": [
    "#### Space"
   ]
  },
  {
   "cell_type": "markdown",
   "metadata": {},
   "source": [
    "Merge sort has space requirement $S(n) = \\Theta(n)$ due to the sorted-array merge operation."
   ]
  },
  {
   "cell_type": "markdown",
   "metadata": {},
   "source": [
    "`mergesort` doesn't create any auxiliary data structures, and it only uses a constant number of variables. But there are two hidden costs:\n",
    "* the space cost associated with `sorted-merge`\n",
    "* the space cost of the recursive call stack\n",
    "\n",
    "$S(n) = S(n/2) + \\Theta(n)$\n",
    "\n",
    "The first term is not $2S(n/2)$ because sub problems are solved sequentially, one after the other, and so memory is only expended on a single sub problem at a time.\n",
    "\n",
    "By the Master Theorem we see that $a = 1, b = 2, d = 1 \\implies (d = 1) \\gt 0 = \\log_{(b = 2)} (a = 1)$. In other words, the combination operation dominates the cost of solving the sub problems and so the space complexity of `mergesort` is $\\Theta(n^d) = \\Theta(n^{(1)}) = \\Theta(n)$.\n",
    "\n",
    "Alternatively, we can think about the space complexity as follows. The call stack contains $\\Theta(\\log n)$ stack frames because the size of the array reduces by half each recursive call and the recursive calls stop when $n = 1$. In the worst case analysis, each stack frame requires $O(n)$ space (but in reality most of them require less).\n",
    "\n",
    "$S(n) = \\Theta(\\log n) + \\Theta(n) = \\Theta(n)$\n",
    "\n",
    "There are versions of mergesort that do not require auxiliary arrays, but these versions tend to have the worst performance in practice."
   ]
  },
  {
   "cell_type": "markdown",
   "metadata": {},
   "source": [
    "**Mergesort vs quicksort**\n",
    "\n",
    "Mergesort has a better worst-case time complexity than quicksort.\n",
    "\n",
    "$\n",
    "T(n) =\n",
    "\\begin{cases}\n",
    "\\Theta(n \\lg n) & \\text{mergesort} \\\\\n",
    "\\Theta(n^2)     & \\text{quicksort} \\\\\n",
    "\\end  {cases}\n",
    "$\n",
    "\n",
    "However, quicksort performs as good as mergesort asymptotically in expectation.\n",
    "\n",
    "$\n",
    "T(n) =\n",
    "\\begin{cases}\n",
    "\\Theta(n \\lg n) & \\text{mergesort} \\\\\n",
    "\\Theta(n \\lg n) & \\text{quicksort} \\\\\n",
    "\\end  {cases}\n",
    "$\n",
    "\n",
    "In practice, quicksort is usually the faster of the two sorting algorithms since the constraints associated with its time complexity are lower.\n",
    "\n",
    "In comparison to quicksort, mergesort requires more auxiliary space.\n",
    "\n",
    "$\n",
    "S(n) =\n",
    "\\begin{cases}\n",
    "\\Theta(n)     & \\text{mergesort} \\\\\n",
    "\\Theta(\\lg n) & \\text{quicksort} \\\\\n",
    "\\end  {cases}\n",
    "$"
   ]
  },
  {
   "cell_type": "markdown",
   "metadata": {},
   "source": [
    "---"
   ]
  },
  {
   "cell_type": "markdown",
   "metadata": {},
   "source": [
    "## Resources"
   ]
  },
  {
   "cell_type": "markdown",
   "metadata": {},
   "source": [
    "https://www.digitalocean.com/community/tutorials/merge-sort-algorithm-java-c-python"
   ]
  },
  {
   "cell_type": "markdown",
   "metadata": {},
   "source": [
    "---"
   ]
  }
 ],
 "metadata": {
  "language_info": {
   "name": "python"
  }
 },
 "nbformat": 4,
 "nbformat_minor": 2
}
