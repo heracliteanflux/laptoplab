{
 "cells": [
  {
   "cell_type": "markdown",
   "metadata": {},
   "source": [
    "# Quick Sort"
   ]
  },
  {
   "cell_type": "markdown",
   "metadata": {},
   "source": [
    "https://en.wikipedia.org/wiki/Quicksort"
   ]
  },
  {
   "cell_type": "markdown",
   "metadata": {},
   "source": [
    "---"
   ]
  },
  {
   "cell_type": "markdown",
   "metadata": {},
   "source": [
    "## Contents\n",
    "```{contents}\n",
    "```"
   ]
  },
  {
   "cell_type": "markdown",
   "metadata": {},
   "source": [
    "---"
   ]
  },
  {
   "cell_type": "markdown",
   "metadata": {},
   "source": [
    "## Introduction"
   ]
  },
  {
   "cell_type": "markdown",
   "metadata": {},
   "source": [
    "* Tony Hoare 1961\n",
    "* most implementations of quicksort are not stable\n",
    "\n",
    "complexity\n",
    "* $\\Theta(\\log n)$ storage is required for the recursive callback but otherwise can be performed without an auxiliary array\n",
    "* $\\Theta(n^2)$ worst-case time complexity\n",
    "* the performance of quicksort is heavily dependent on the pivot selected and so has an expected time complexity of $\\Theta(n \\log n)$"
   ]
  },
  {
   "cell_type": "markdown",
   "metadata": {},
   "source": [
    "Divide (quicksort uses a value-partitioning scheme, as opposed to mergesort which uses a size-based/index-based partitioning scheme)\n",
    "* select an arbitrary element to serve as the pivot\n",
    "* partition the array into sub arrays based on the value of the pivot: elements are swapped such that elements smaller than the pivot appear before it and elements larger than the pivot appear after it (elements equal to the pivot can go on either side)\n",
    "* `partition(A, start, end)` is an in-place operation defined to select a pivot value from the part of the array between the `start` and `end` indexes, perform the swapping, and return the index of the final location of the pivot element (the pivot is left in its final sorted position)\n",
    "\n",
    "Conquer\n",
    "* recursively sort the two sub arrays: the two operations of pivot selection and partitioning are recursively applied until the array being processed is a single element\n",
    "\n",
    "Combine\n",
    "* NOT REQUIRED, since once this operation has been recursively applied to each element in the array it will be in sorted order"
   ]
  },
  {
   "cell_type": "markdown",
   "metadata": {},
   "source": [
    "Merge sort vs quick sort\n",
    "* mergesort requires more auxiliary space than quicksort (there are versions of mergesort that require no auxiliary array but these versions perform the worst in practice if not asymptotically)\n",
    "* mergesort has better worst-case time complexity than quicksort\n",
    "* quicksort performs as good as mergesort in expectation\n",
    "* quicksort usually performs better in practice because the constants associated with its time complexity are lower"
   ]
  },
  {
   "cell_type": "markdown",
   "metadata": {},
   "source": [
    "---"
   ]
  },
  {
   "cell_type": "markdown",
   "metadata": {},
   "source": [
    "## Algorithm"
   ]
  },
  {
   "cell_type": "markdown",
   "metadata": {},
   "source": [
    "```c\n",
    " INPUT    an array A[0:n - 1], the index of the first element of A, the index of the last element of A\n",
    "OUTPUT    nothing (in-place)\n",
    "\n",
    "QUICKSORT (A, stt, end)\n",
    "1    if stt == end\n",
    "2        return A[stt]    // the single-element array A[stt]\n",
    "3\n",
    "4    pvt = partition(A, stt, end)\n",
    "5\n",
    "6    QUICKSORT(A, stt, pvt - 1)\n",
    "7    QUICKSORT(A, pvt + 1, end)\n",
    "\n",
    " INPUT    an array A, the index of the first element of A, the index of the last element of A\n",
    "OUTPUT    the index of the pivot element\n",
    "\n",
    "partition (A, stt, end)\n",
    " 1    pvt = choose_pivot(A, stt, end) // select a pivot element and return its index\n",
    " 2\n",
    " 3    swap(A[pvt], A[end])            // swap the pivot element to the end of the array\n",
    " 4\n",
    " 5    j = stt\n",
    " 6    for i = stt to end - 1\n",
    " 7        if A[i] <= A[pvt]\n",
    " 8            swap(A[j], A[i])\n",
    " 9            j++\n",
    "10\n",
    "11    swap(A[j], A[end])   // index j is pointing to the first element larger than the pivot element, so swap them\n",
    "12\n",
    "13    return j             // return the index of the pivot element\n",
    "```"
   ]
  },
  {
   "cell_type": "markdown",
   "metadata": {},
   "source": [
    "`choose_pivot`\n",
    "\n",
    "There are different ways of going about selecting a pivot element. One can select the first element as the pivot element; the last element; a random element; the middle element; or some other approach.\n",
    "\n",
    "`partition`\n",
    "\n",
    "Start from the leftmost element and track the index of elements that are less than or equal to the pivot element."
   ]
  },
  {
   "cell_type": "markdown",
   "metadata": {},
   "source": [
    "---"
   ]
  },
  {
   "cell_type": "markdown",
   "metadata": {},
   "source": [
    "Example"
   ]
  },
  {
   "cell_type": "markdown",
   "metadata": {},
   "source": [
    "```c\n",
    "   i|\n",
    "A = 5 3 1 6 4 9 11 2, stt = 0, end = 7\n",
    "   j|\n",
    "\n",
    "      |\n",
    "A = 5 3 1 6 4 9 11 2, stt = 0, end = 7\n",
    "    |\n",
    "\n",
    "        |\n",
    "A = 5 3 1 6 4 9 11 2, stt = 0, end = 7\n",
    "    |\n",
    "\n",
    "          |\n",
    "A = 1 3 5 6 4 9 11 2, stt = 0, end = 7\n",
    "      |\n",
    "\n",
    "...\n",
    "\n",
    "                 |\n",
    "A = 1 2 5 6 4 9 11 3, stt = 0, end = 7\n",
    "      |\n",
    "```"
   ]
  },
  {
   "cell_type": "markdown",
   "metadata": {},
   "source": [
    "---"
   ]
  },
  {
   "cell_type": "markdown",
   "metadata": {},
   "source": [
    "## Complexity"
   ]
  },
  {
   "cell_type": "markdown",
   "metadata": {},
   "source": [
    "Since quicksort is a divide and conquer algorithm we can analyze its time complexity in those terms. The combination component of quicksort is the partition operation which runs in linear time, and there are two subproblems per recursion.\n",
    "\n",
    "$T(n) = 2T(\\cdot) + \\Theta(n)$\n",
    "\n",
    "In the best case, the pivot is selected so as to divide the array in half. This yields two sub problems of size $n/2$.\n",
    "\n",
    "$\\text{best}\\quad T(n) = 2T(n/2) + \\Theta(n)$\n",
    "\n",
    "In the worst case, either the smallest element or the largest element is selected. This yields one sub problem of size $0$ and another sub problem of size $n - 1$.\n",
    "\n",
    "$\\text{worst}\\quad T(n) = T(n - 1) + \\Theta(n) = \\Theta(n^2)$\n",
    "\n",
    "This analysis shows why how the pivot element is selected is significant. If the pivot element is selected at random then selecting the worst-case pivot element every time is unlikely. The expected-case complexity is\n",
    "\n",
    "$\\text{expected}\\quad T(n) = \\Theta(n \\log n)$"
   ]
  },
  {
   "cell_type": "markdown",
   "metadata": {},
   "source": [
    "Quicksort sorts in-place, which means that no auxiliary array is required and so the space cost is just a function of the depth of the call stack.\n",
    "\n",
    "In the balanced case\n",
    "\n",
    "$S(n) = S(n/2) + \\Theta(1) = \\Theta(\\log n)$\n",
    "\n",
    "In the worst case\n",
    "\n",
    "$S(n) = S(n - 1) + \\Theta(1) = \\Theta(n)$\n",
    "\n",
    "There are optimizations to ensure that even in the worst case $\\Theta(\\log n)$ space is all that is required. In practice then the worst-case space complexity of quicksort is usually stated as logarithmic as well."
   ]
  },
  {
   "cell_type": "markdown",
   "metadata": {},
   "source": [
    "---"
   ]
  },
  {
   "cell_type": "markdown",
   "metadata": {},
   "source": [
    "## Implementations"
   ]
  },
  {
   "cell_type": "markdown",
   "metadata": {},
   "source": [
    "### C"
   ]
  },
  {
   "cell_type": "markdown",
   "metadata": {},
   "source": [
    "```c\n",
    "/*    sort_quick_last.c (QUICKSORT)\n",
    " *\n",
    " *    this implementation of quick sort does not use any fancy pivot selection operation\n",
    " *    rather it just selects the last element of the array as the pivot element\n",
    " */\n",
    "\n",
    "#include <stdio.h> // printf\n",
    "\n",
    "\n",
    "/**************************************************\n",
    " *\n",
    " *          auxiliary\n",
    " *\n",
    " **************************************************/\n",
    "void print_arr (int A[], int n, char *str) {\n",
    "  printf(\"%s: \", str);\n",
    "  for (int i = 0; i < n; i++)\n",
    "    printf(\"%d \", A[i]);\n",
    "  printf(\"\\n\");\n",
    "}\n",
    "\n",
    "void swap (int *a, int *b) {\n",
    "  int t = *a;\n",
    "     *a = *b;\n",
    "     *b =  t;\n",
    "}\n",
    "\n",
    "\n",
    "/**************************************************\n",
    " *\n",
    " *          QUICKSORT\n",
    " *\n",
    " **************************************************/\n",
    "int partition (int A[], int stt, int stp) {\n",
    "  int pvt = stp;          // select the last elem as the pivot elem\n",
    "  swap(&A[pvt], &A[stp]); // swap the pivot elem to the end of the array (this is redundant in this implementation)\n",
    "\n",
    "  int j = stt;\n",
    "  for (int i = stt; i < stp; i++) { // iterate over all elems except the last one, the pivot elem\n",
    "    if (A[i] <= A[pvt]) { // if        elem i is less than or equal to the pivot elem\n",
    "      swap(&A[i], &A[j]); // then swap elem i to the lefthand side of the array\n",
    "      j++;                // and  increment the index of the pivot elem\n",
    "    }\n",
    "  }\n",
    "\n",
    "  // A[j] is the first elem larger than the pivot elem, so swap them\n",
    "  // the pivot elem is now in its proper position in the array\n",
    "  swap(&A[j], &A[stp]);\n",
    "\n",
    "  // return the index of the pivot elem\n",
    "  return j;\n",
    "}\n",
    "\n",
    "void quicksort (int A[], int stt, int stp) {\n",
    "  /*                     ^^^^^^^           index of the first elem\n",
    "   *                              ^^^^^^^  index of the last  elem\n",
    "   */\n",
    "\n",
    "  // base case\n",
    "  if (stt >= stp) // if the array consists of a single elem\n",
    "    return;\n",
    "\n",
    "  // combine step\n",
    "  int pvt = partition(A, stt, stp);\n",
    "\n",
    "  // divide  step\n",
    "  quicksort(A, stt, pvt - 1);\n",
    "  quicksort(A, pvt + 1, stp);\n",
    "}\n",
    "\n",
    "\n",
    "/**************************************************\n",
    " *\n",
    " *          driver\n",
    " *\n",
    " **************************************************/\n",
    "int main (void) {\n",
    "  int A[] = {2, 1, 5, 8, 5, 6, 7, 4, 8, 7, 5, 1, 7, 3, 0, 3, 1, 5, 0, 7};\n",
    "  int   n = sizeof(A) / sizeof(A[0]);\n",
    "\n",
    "  print_arr(A, n, \"       array\");\n",
    "  quicksort(A, 0, n - 1);\n",
    "  print_arr(A, n, \"sorted array\");\n",
    "\n",
    "  return 0;\n",
    "}\n",
    "\n",
    "```"
   ]
  },
  {
   "cell_type": "markdown",
   "metadata": {},
   "source": [
    "---"
   ]
  },
  {
   "cell_type": "markdown",
   "metadata": {},
   "source": [
    "## Acknowledgments"
   ]
  },
  {
   "cell_type": "markdown",
   "metadata": {},
   "source": [
    "* https://www.geeksforgeeks.org/quick-sort/\n",
    "* https://www.khanacademy.org/computing/computer-science/algorithms/quick-sort/a/analysis-of-quicksort"
   ]
  },
  {
   "cell_type": "markdown",
   "metadata": {},
   "source": [
    "---"
   ]
  }
 ],
 "metadata": {
  "language_info": {
   "name": "python"
  }
 },
 "nbformat": 4,
 "nbformat_minor": 2
}
