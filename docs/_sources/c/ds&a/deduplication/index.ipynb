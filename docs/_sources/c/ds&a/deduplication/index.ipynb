{
 "cells": [
  {
   "cell_type": "markdown",
   "metadata": {},
   "source": [
    "# Deduplication"
   ]
  },
  {
   "cell_type": "markdown",
   "metadata": {},
   "source": [
    "---"
   ]
  },
  {
   "cell_type": "markdown",
   "metadata": {},
   "source": [
    "## Contents\n",
    "```{contents}\n",
    "```"
   ]
  },
  {
   "cell_type": "markdown",
   "metadata": {},
   "source": [
    "---"
   ]
  },
  {
   "cell_type": "markdown",
   "metadata": {},
   "source": [
    "De-duplication is a common data processing task which consists of taking an array of values and removing all the duplicate values.\n",
    "\n",
    "There exists a range of different algorithms for performing deduplication efficiently.\n",
    "\n",
    "The problem of deduplication consists of removing duplicate values from an array of values.\n",
    "\n",
    "The following three operations are supported in addition to the usual comparison operation, which runs in constant time. <br>\n",
    "1\\. `get(A, i)` returns the value of the $i$-th element in $O(1)$ time <br>\n",
    "2\\. `search(A, i)` searches the array $A$ for all elements at indexes larger than $i$ that are the same as the element at index $i$ using a linear search (i.e., in $O(n)$ time), and returns the indexes as a list <br>\n",
    "3\\. `delete(A, i)` deletes the element at index $i$ from the array by shifting all elements from index $i + 1$ to index $n - 1$ down by one in $O(n)$ time\n",
    "\n",
    "It can be assumed that the maximum size of the output array is a small constant and so its space and time costs are negligible."
   ]
  },
  {
   "cell_type": "markdown",
   "metadata": {},
   "source": [
    "---"
   ]
  },
  {
   "cell_type": "markdown",
   "metadata": {},
   "source": [
    "## Algorithm 1"
   ]
  },
  {
   "cell_type": "markdown",
   "metadata": {},
   "source": [
    "Propose an algorithm for performing deduplication with $O(n^3)$ worst-case time complexity and $O(1)$ space complexity. Prove both the correctness of this algorithm and its time and space complexity bounds."
   ]
  },
  {
   "cell_type": "markdown",
   "metadata": {},
   "source": [
    "```c\n",
    " INPUT    an array A[0:n - 1] of n values where n > 0\n",
    "OUTPUT    an array A‘ containing only the unique values of A\n",
    "\n",
    "DEDUPLICATE(A, n)\n",
    "1    i = 0\n",
    "2    while i < (len(A) - 1) - 1\n",
    "3        idxs = search(A[i])\n",
    "4        for j = len(idxs) - 1 to 0\n",
    "5            delete(A[idxs[j]])\n",
    "6        i++\n",
    "```"
   ]
  },
  {
   "cell_type": "markdown",
   "metadata": {},
   "source": [
    "---"
   ]
  },
  {
   "cell_type": "markdown",
   "metadata": {},
   "source": [
    "### Complexity"
   ]
  },
  {
   "cell_type": "markdown",
   "metadata": {
    "vscode": {
     "languageId": "plaintext"
    }
   },
   "source": [
    "#### Time"
   ]
  },
  {
   "cell_type": "markdown",
   "metadata": {},
   "source": [
    "```c\n",
    "DEDUPLICATE(A, n)                     // COST     TIMES\n",
    "1    i = 0\n",
    "2    while i < (len(A) - 1) - 1       // 1        n - 1\n",
    "3        idxs = search(A[i])          // n        n - 1\n",
    "4        for j = len(idxs) - 1 to 0   // n - 1    n - 1\n",
    "5            delete(A[idxs[j]])       // n       (n - 1)(n - 1)\n",
    "6        i++\n",
    "```"
   ]
  },
  {
   "cell_type": "markdown",
   "metadata": {},
   "source": [
    "The outer loop iterates over at most $n - 1$ elements in the worst case (it does not need to iterate over the last element in the array at any given time since that element is unique).\n",
    "\n",
    "Each iteration consists of a linear-time search operation and the cost of the inner loop. The inner loop iterates over at most $n - 1$ elements in the worst case, when the array consists of a single value duplicated $n$ times. Each iteration of the inner loop is dominated by a linear-time delete operation."
   ]
  },
  {
   "cell_type": "markdown",
   "metadata": {},
   "source": [
    "$\n",
    "T(n)\n",
    "= (n - 1)(n + (n - 1)(n))\n",
    "= \\underbrace{O(n)}_{\\text{iterations}} \\times (\\underbrace{O(n)}_{\\text{search op}} + \\underbrace{O(n)}_{\\text{iterations}} \\times \\underbrace{O(n)}_{\\text{delete op}})\n",
    "= O(n^3)\n",
    "$"
   ]
  },
  {
   "cell_type": "markdown",
   "metadata": {},
   "source": [
    "When the array contains no duplicate values as in `1 2 3 4 5 6 7`, the outer loop iterates $n - 1$ times and the inner loop iterates $0$ time per outer loop iteration."
   ]
  },
  {
   "cell_type": "markdown",
   "metadata": {},
   "source": [
    "$\n",
    "T(n)\n",
    "= (n - 1)(n + (0)(n))\n",
    "= \\underbrace{O(n)}_{\\text{iterations}} \\times \\underbrace{O(n)}_{\\text{search op}}\n",
    "= O(n^2)\n",
    "$"
   ]
  },
  {
   "cell_type": "markdown",
   "metadata": {},
   "source": [
    "When the array contains $n$ copies of a single value as in `1 1 1 1 1 1 1`, the outer while loop iterates $1$ time and the inner while loop iterates $n - 1$ times per outer loop iteration."
   ]
  },
  {
   "cell_type": "markdown",
   "metadata": {},
   "source": [
    "$\n",
    "T(n)\n",
    "= (1)(n + (n - 1)(n))\n",
    "= \\underbrace{O(n)}_{\\text{search op}} + \\underbrace{O(n)}_{\\text{iterations}} \\times \\underbrace{O(n)}_{\\text{delete op}}\n",
    "= O(n^2)\n",
    "$"
   ]
  },
  {
   "cell_type": "markdown",
   "metadata": {},
   "source": [
    "<fieldset>\n",
    "\n",
    "CMPSC 465\n",
    "\n",
    "For each element in $A$ call `search(A[i])`. Then for each element returned by `search` call `delete` to remove that element. The problem states that the size of the array returned by `search` is a constant, and can be neglected.\n",
    "\n",
    "Therefore the algorithm calls `search` $O(n)$ times, once per array element. Each call to search may result in a constant number of calls to `delete`.\n",
    "\n",
    "\n",
    "\n",
    "</fieldset>"
   ]
  },
  {
   "cell_type": "markdown",
   "metadata": {},
   "source": [
    "#### Space"
   ]
  },
  {
   "cell_type": "markdown",
   "metadata": {},
   "source": [
    "The algorithm uses no auxiliary data structures and so the space complexity is $S(n) = O(1)$."
   ]
  },
  {
   "cell_type": "markdown",
   "metadata": {},
   "source": [
    "---"
   ]
  },
  {
   "cell_type": "markdown",
   "metadata": {},
   "source": [
    "### Correctness"
   ]
  },
  {
   "cell_type": "markdown",
   "metadata": {},
   "source": [
    "<fieldset>\n",
    "\n",
    "CMPSC 465\n",
    "\n",
    "INVARIANT First it is shown that a single iteration of the algorithm removes all duplicates of the processed array element.\n",
    "\n",
    "Then it is shown that this is sufficient to show that the algorithm itself is correct.\n",
    "\n",
    "1\n",
    "\n",
    "After iteration $i$ it's impossible for a record $A[i]$ to appear with an index $j \\gt i$.\n",
    "\n",
    "Assume that $A[i] = x$ and that there exists a $j$ such that $j \\gt i$ and $A[j] = x$ after iteration $i$. Then according to the algorithm it has to be the case that $A[i] \\ne A[j]$. Contradiction!\n",
    "\n",
    "2\n",
    "\n",
    "Since the algorithm iterates in this way over each element starting from the first no duplicates can exist upon its completion.\n",
    "\n",
    "</fieldset>"
   ]
  },
  {
   "cell_type": "markdown",
   "metadata": {},
   "source": [
    "### Loop"
   ]
  },
  {
   "cell_type": "markdown",
   "metadata": {},
   "source": [
    "$\\textbf{Precondition}$"
   ]
  },
  {
   "cell_type": "markdown",
   "metadata": {},
   "source": [
    "$\\textbf{Condition}$"
   ]
  },
  {
   "cell_type": "markdown",
   "metadata": {},
   "source": [
    "$\\textbf{Invariant}$"
   ]
  },
  {
   "cell_type": "markdown",
   "metadata": {},
   "source": [
    "$\\textbf{Variant}$"
   ]
  },
  {
   "cell_type": "markdown",
   "metadata": {},
   "source": [
    "### Correctness"
   ]
  },
  {
   "cell_type": "markdown",
   "metadata": {},
   "source": [
    "$\\textbf{Initialization}$\n",
    "\n",
    "It must be shown that if the $\\texttt{precondition}$ is true then the $\\texttt{invariant}$ is true."
   ]
  },
  {
   "cell_type": "markdown",
   "metadata": {},
   "source": [
    "$\\textbf{Maintenance}$\n",
    "\n",
    "It must be shown that if both the $\\texttt{condition}$ is true and the $\\texttt{invariant}$ is true after iteration $i$ then the $\\texttt{invariant}$ is true after iteration $i' = i + 1$."
   ]
  },
  {
   "cell_type": "markdown",
   "metadata": {},
   "source": [
    "$\\textbf{Postcondition}$\n",
    "\n",
    "It must be shown that if both the $\\texttt{condition}$ is false and the $\\texttt{invariant}$ is true then the $\\texttt{postcondition}$ is true."
   ]
  },
  {
   "cell_type": "markdown",
   "metadata": {},
   "source": [
    "$\\textbf{Termination}$\n",
    "\n",
    "Up to now it has been shown that if the loop eventually terminates then the algorithm is correct. It must now be shown that the loop eventually terminates."
   ]
  },
  {
   "cell_type": "markdown",
   "metadata": {},
   "source": [
    "#### REVIEW"
   ]
  },
  {
   "cell_type": "markdown",
   "metadata": {},
   "source": [
    "Pre-condition\n",
    "* $k = 0$\n",
    "* $k \\lt n = |A|$\n",
    "* The array $A = a_0, \\dots, a_{n - 1}$ consists of $n$ (possibly duplicated) values"
   ]
  },
  {
   "cell_type": "markdown",
   "metadata": {},
   "source": [
    "Loop Condition $C$\n",
    "* $k \\lt |A|$"
   ]
  },
  {
   "cell_type": "markdown",
   "metadata": {},
   "source": [
    "Loop Invariant $I$\n",
    "* $k \\le |A| \\le n$\n",
    "* The first $k$ elements $a_0, \\dots, a_{k - 1}$ of the array $A$ consist of non duplicated values"
   ]
  },
  {
   "cell_type": "markdown",
   "metadata": {},
   "source": [
    "Post-condition\n",
    "* $|A| = k \\le n$\n",
    "* The array $A = a_0, \\dots, a_{k - 1}$ consists of $k$ non duplicated values"
   ]
  },
  {
   "cell_type": "markdown",
   "metadata": {},
   "source": [
    "First we must show that if the pre-condition holds then the loop invariant holds.\n",
    "\n",
    "Assume that the pre-condition holds.\n",
    "* $k = 0$\n",
    "* $k \\lt n = |A|$\n",
    "* the array $A = a_0, \\dots, a_{n - 1}$ consists of $n$ (possibly duplicated) values\n",
    "\n",
    "Then $I$ holds.\n",
    "* $k \\lt n = |A|$ since $k = 0$ and $n \\ge 1$ and this implies $k \\le |A| \\le n$\n",
    "* the first $k = 0$ elements of the array consist of non duplicated values"
   ]
  },
  {
   "cell_type": "markdown",
   "metadata": {},
   "source": [
    "Next we must show that if both the loop condition holds and the loop invariant holds pre iteration then the loop invariant holds post iteration.\n",
    "\n",
    "Assume both that the loop condition holds and that the loop invariant holds pre iteration.\n",
    "* loop condition: $k \\lt |A|$\n",
    "* loop invariant: $k \\le |A| \\le n$\n",
    "* loop invariant: the first $k$ elements $a_0, \\dots, a_{k - 1}$ of the array $A$ consist of non duplicated values\n",
    "\n",
    "Then $I$ holds post iteration.\n",
    "* $k' = k + 1$\n",
    "* $k \\lt |A| \\implies k' \\le |A|$\n",
    "* the first $k'$ elements $a_0, \\dots, a_{k - 1}, a_k$ of the array $A$ consist of non duplicated values"
   ]
  },
  {
   "cell_type": "markdown",
   "metadata": {},
   "source": [
    "We must then show that eventually, after a finite number of steps, the loop condition will not hold.\n",
    "\n",
    "After $n$ iterations $k = n = |A|$"
   ]
  },
  {
   "cell_type": "markdown",
   "metadata": {},
   "source": [
    "Finally we must show that if the loop invariant holds but the loop condition does not hold then the post-condition holds.\n",
    "\n",
    "Assume that the loop invariant holds but the loop condition does not hold.\n",
    "* negation of the loop condition: $k \\ge |A|$\n",
    "* loop invariant: $k \\le |A| \\le n$\n",
    "* post-condition: $\\implies k = |A| \\le n$\n",
    "* post-condition: the array $A = a_0, \\dots, a_{k - 1}$ consists of $k$ non duplicated values"
   ]
  },
  {
   "cell_type": "markdown",
   "metadata": {},
   "source": [
    "$\\blacksquare$"
   ]
  },
  {
   "cell_type": "markdown",
   "metadata": {},
   "source": [
    "---"
   ]
  },
  {
   "cell_type": "markdown",
   "metadata": {},
   "source": [
    "## Algorithm 2"
   ]
  },
  {
   "cell_type": "markdown",
   "metadata": {},
   "source": [
    "Deduplication can be made more efficient by using additional memory. Propose an algorithm for performing deduplication with $O(n^2)$ time complexity and with $O(n)$ space complexity. You may use an auxiliary array that supports assignment, but you may not use any other data structures. You may not sort the data.\n",
    "\n",
    "Prove both the correctness and the time and space complexity bounds of this algorithm."
   ]
  },
  {
   "cell_type": "markdown",
   "metadata": {},
   "source": [
    "```c\n",
    " INPUT    an array A[0:n - 1] of n values where n > 0\n",
    "OUTPUT    an array B containing only the unique values of A\n",
    "\n",
    "DEDUPLICATE(A, n)\n",
    "1    idx_B = 0\n",
    "2\n",
    "3    for i = 0 to n - 1\n",
    "4        if len(search(A[i])) = 0   //n times O(n) cost\n",
    "5            B[idx_B] = A[i]\n",
    "6            idx_B++\n",
    "7\n",
    "8    return B\n",
    "```"
   ]
  },
  {
   "cell_type": "markdown",
   "metadata": {},
   "source": [
    "Alternative implementation - for each element in A, scan B; it the element in A does not appear in B, copy it to B"
   ]
  },
  {
   "cell_type": "markdown",
   "metadata": {},
   "source": [
    "```c\n",
    "DEDUPLICATE(A, n)\n",
    "1    for i = 0 to n - 1\n",
    "3        for j = 0 to len(B) - 1\n",
    "4            if A[i] == B[j]\n",
    "5                break\n",
    "5        \n",
    "```"
   ]
  },
  {
   "cell_type": "markdown",
   "metadata": {},
   "source": [
    "---"
   ]
  },
  {
   "cell_type": "markdown",
   "metadata": {},
   "source": [
    "### Implementations"
   ]
  },
  {
   "cell_type": "markdown",
   "metadata": {},
   "source": [
    "#### Python"
   ]
  },
  {
   "cell_type": "markdown",
   "metadata": {},
   "source": [
    "```python\n",
    "A = array\n",
    "B = empty array\n",
    "\n",
    "foreach a in A\n",
    "    foreach b in B:\n",
    "        if a == b:\n",
    "            break\n",
    "    else:\n",
    "        copy(B, a)\n",
    "```"
   ]
  },
  {
   "cell_type": "code",
   "execution_count": null,
   "metadata": {},
   "outputs": [
    {
     "name": "stdout",
     "output_type": "stream",
     "text": [
      "2 []\n",
      "5 [2]\n",
      "5 [2, 5]\n",
      "4 [2, 5]\n",
      "2 [2, 5, 4]\n",
      "5 [2, 5, 4]\n",
      "1 [2, 5, 4]\n",
      "1 [2, 5, 4, 1]\n",
      "3 [2, 5, 4, 1]\n",
      "2 [2, 5, 4, 1, 3]\n",
      "[2, 5, 4, 1, 3]\n"
     ]
    }
   ],
   "source": [
    "A = [ 2, 5, 5, 4, 2, 5, 1, 1, 3, 2, ]\n",
    "B = []\n",
    "\n",
    "for a in A:\n",
    "  print(a, B)\n",
    "  for b in B:\n",
    "    if a == b:\n",
    "      break\n",
    "  else:\n",
    "    B.append(a)\n",
    "print(B)"
   ]
  },
  {
   "cell_type": "markdown",
   "metadata": {},
   "source": [
    "---"
   ]
  },
  {
   "cell_type": "markdown",
   "metadata": {},
   "source": [
    "### Complexity"
   ]
  },
  {
   "cell_type": "markdown",
   "metadata": {},
   "source": [
    "#### Time"
   ]
  },
  {
   "cell_type": "markdown",
   "metadata": {},
   "source": [
    "The algorithm iterates over all $n$ elements of the input array. Each iteration is dominated by the linear-time search operation.\n",
    "\n",
    "$T(n) = \\underbrace{O(n)}_{\\text{iterations}} \\times \\underbrace{O(n)}_{\\text{search op}} = O(n^2)$."
   ]
  },
  {
   "cell_type": "markdown",
   "metadata": {},
   "source": [
    "#### Space"
   ]
  },
  {
   "cell_type": "markdown",
   "metadata": {},
   "source": [
    "The auxiliary array is in the worst case as large as the input array.\n",
    "\n",
    "$S(n) = O(n)$"
   ]
  },
  {
   "cell_type": "markdown",
   "metadata": {},
   "source": [
    "---"
   ]
  },
  {
   "cell_type": "markdown",
   "metadata": {},
   "source": [
    "### Correctness"
   ]
  },
  {
   "cell_type": "markdown",
   "metadata": {},
   "source": [
    "<fieldset>\n",
    "\n",
    "CMPSC 465\n",
    "\n",
    "It must be shown that a record will be copied from A to B iff that record is not already in B, which can be done via proof by contradiction.\n",
    "\n",
    "Since the algorithm iterates over each element in this way starting from the first it must be the case that each record from A appears in B exactly once.\n",
    "\n",
    "</fieldset>"
   ]
  },
  {
   "cell_type": "markdown",
   "metadata": {},
   "source": [
    "#### REVIEW"
   ]
  },
  {
   "cell_type": "markdown",
   "metadata": {},
   "source": [
    "Pre condition:\n",
    "* an array $A = a_0, \\dots, a_{n - 1}$ of $n$ possibly duplicated values for some positive integer $n$\n",
    "* an array $B$ is an empty array (which will contain the set of $m$ non duplicated values of array $A$ where $1 \\le m \\le n$)\n",
    "* $m = 0$\n",
    "* $k = 0$ (which will serve as the index of array $A$)\n",
    "\n",
    "Loop condition: $k \\lt n$\n",
    "\n",
    "Loop invariant: $B$ is an array of some nonnegative number $m$ of non duplicated values such that $0 \\le m \\le k \\le n$\n",
    "\n",
    "Post condition: $B = b_0, \\dots, b_{m - 1}$ is an array of $m$ non duplicated values where $1 \\le m \\le k = n$"
   ]
  },
  {
   "cell_type": "markdown",
   "metadata": {},
   "source": [
    "At the beginning of the algorithm, the pre-condition holds. This means that $n$ is a positive integer and $k = 0$. It follows that the loop invariant holds, namely that $0 \\le m = 0 \\le k = 0 \\le n$.\n",
    "\n",
    "We assume that after $k$ iterations of the algorithm that both the loop condition and the loop invariant hold. It follows that the loop invariant holds post iteration:\n",
    "* $k' = k + 1$ (the algorithm iterates once from element A[k] to element A[k + 1])\n",
    "* $k \\lt n \\implies k' \\le n$ (the new value of k is no greater than $n$)\n",
    "* $m' = m \\lor m' = m + 1$ (the size of B either remains (no new unique value) the same or increases by 1 (new unique value))\n",
    "* $m \\le k \\implies m' \\le k'$ (regardless, the new value of m is no greater than the new value of k)\n",
    "* $B$ was an array of unique values and still is an array of unique values"
   ]
  },
  {
   "cell_type": "markdown",
   "metadata": {},
   "source": [
    "After some finite number of iterations $k = n$ the loop condition is false and the algorithm terminates.\n",
    "\n",
    "Assuming that the loop condition is false while the loop invariant remains true, it follows that the post condition is true:\n",
    "* the loop condition is false: $\\lnot(k \\lt n) \\implies k \\ge n$\n",
    "* the loop invariant is true: $0 \\le m \\le k \\le n$\n",
    "* $\\implies k = n$: the array $A$ has been iterated over and the array $B$ contains the non duplicated values of $A$"
   ]
  },
  {
   "cell_type": "markdown",
   "metadata": {},
   "source": [
    "---"
   ]
  },
  {
   "cell_type": "markdown",
   "metadata": {},
   "source": [
    "## Algorithm 3"
   ]
  },
  {
   "cell_type": "markdown",
   "metadata": {},
   "source": [
    "The Unix core utilities include a program called `uniq` which can perform de-duplication on an input stream in linear time *assuming the data is sorted*. Given this assumption, propose a de-duplication algorithm that requires $\\Theta(n)$ space and time, and prove its correctness."
   ]
  },
  {
   "cell_type": "markdown",
   "metadata": {},
   "source": [
    "```c\n",
    " INPUT     an array A[0:n - 1] of n values sorted in ascending order where n >= 0\n",
    "OUTPUT    the array A‘ containing all and only the m unique values of A where 0 <= m <= n\n",
    "\n",
    "DEDUPLICATION(A, n)\n",
    "1    B = [A[0]]                // an auxiliary array initially containing just the first value of the input array\n",
    "2    i = 1\n",
    "3    while i < n\n",
    "4        if A[i] != A[i - 1]   // if A[i] is not equal to A[i - 1]\n",
    "5            append(B, A[i])   // copy A[i] into B\n",
    "6        i++\n",
    "\n",
    "ALTERNATIVELY\n",
    "\n",
    "DEDUPLICATION(A, n)\n",
    "1    B = [A[0]]                // an auxiliary array initially containing just the first value of the input array\n",
    "2    i = 1\n",
    "3    while i < n\n",
    "4        if A[i] != B[-1]      // if A[i] is not equal to the last value of B\n",
    "5            append(B, A[i])   // copy A[i] into B\n",
    "6        i++\n",
    "```"
   ]
  },
  {
   "cell_type": "markdown",
   "metadata": {},
   "source": [
    "---"
   ]
  },
  {
   "cell_type": "markdown",
   "metadata": {},
   "source": [
    "### Complexity"
   ]
  },
  {
   "cell_type": "markdown",
   "metadata": {},
   "source": [
    "#### Time"
   ]
  },
  {
   "cell_type": "markdown",
   "metadata": {},
   "source": [
    "```c\n",
    "DEDUPLICATION(A, n)            // TIMES   COST\n",
    "1    B = [A[0]]\n",
    "2    i = 1\n",
    "3    while i < n               // n - 1   1\n",
    "4        if A[i] != B[-1]      //         1\n",
    "5            append(B, A[i])   //         1\n",
    "6        i++                   //         1\n",
    "```"
   ]
  },
  {
   "cell_type": "markdown",
   "metadata": {},
   "source": [
    "This algorithm does not terminate early and always scans the input array.\n",
    "\n",
    "$T(n) = (n - 1)(c + \\dotsc) = \\Theta(n)$"
   ]
  },
  {
   "cell_type": "markdown",
   "metadata": {},
   "source": [
    "#### Space"
   ]
  },
  {
   "cell_type": "markdown",
   "metadata": {},
   "source": [
    "$S(n) = \\Theta(n)$"
   ]
  },
  {
   "cell_type": "markdown",
   "metadata": {},
   "source": [
    "---"
   ]
  },
  {
   "cell_type": "markdown",
   "metadata": {},
   "source": [
    "### Correctness"
   ]
  },
  {
   "cell_type": "markdown",
   "metadata": {},
   "source": [
    "<fieldset>\n",
    "\n",
    "CMPSC 465\n",
    "\n",
    "Since the input array is sorted, all distinct values are grouped together into contiguous index ranges and so a record at index $i$ is a duplicate iff $A[i] == A[i - 1]$.\n",
    "\n",
    "An auxiliary array $B$ is allocated with the same size as $A$. For each element of $A$, compare it with the previous element. If they are the same, advance to the next element. If they are different, then append $A[i]$ to the end of $B$.\n",
    "\n",
    "To show the correctness of this algorithm, show that it is impossible for a distinct value of $A$ to appear more than once in $B$, and show that it is impossible for a distinct value of $A$ not to appear in $B$, via proof by contradiction.\n",
    "\n",
    "</fieldset>"
   ]
  },
  {
   "cell_type": "markdown",
   "metadata": {},
   "source": [
    "$\\textbf{Precondition}$\n",
    "\n",
    "$A$ is a zero-indexed array of $n$ integers sorted in ascending order where $n \\ge 0$ <br>\n",
    "$B$ is a zero-indexed array containing the first value of $A$ <br>\n",
    "$i = 1$\n",
    "\n",
    "$\\textbf{Condition}$\n",
    "\n",
    "$i \\lt n$\n",
    "\n",
    "$\\textbf{Invariant}$\n",
    "\n",
    "array $B$ contains some positive integer number $m$ of unique values from $A$ such that $0 \\lt m \\le i \\le n$\n",
    "\n",
    "$\\textbf{Variant}$\n",
    "\n",
    "$n - i$\n",
    "\n",
    "$\\textbf{Postcondition}$\n",
    "\n",
    " array $B$ contains some positive integer number $m$ of unique values from $A$ such that $0 \\lt m \\le i = n$"
   ]
  },
  {
   "cell_type": "markdown",
   "metadata": {},
   "source": [
    "---"
   ]
  },
  {
   "cell_type": "markdown",
   "metadata": {},
   "source": [
    "### Implementations"
   ]
  },
  {
   "cell_type": "markdown",
   "metadata": {},
   "source": [
    "#### C"
   ]
  },
  {
   "cell_type": "markdown",
   "metadata": {},
   "source": [
    "#### Python"
   ]
  },
  {
   "cell_type": "code",
   "execution_count": null,
   "metadata": {},
   "outputs": [
    {
     "name": "stdout",
     "output_type": "stream",
     "text": [
      "[1, 1, 2, 2, 2, 3, 4, 4]\n",
      "[1, 2, 3, 4]\n"
     ]
    }
   ],
   "source": [
    "A = [1, 1, 2, 2, 2, 3, 4, 4]   # O(1)\n",
    "B = [A[0]]                     # O(1)\n",
    "k = 1                          # O(1)\n",
    "\n",
    "while (k < len(A)):            # O(n)\n",
    "  if A[k] != B[-1]:            # O(1)\n",
    "    B.append(A[k])             # O(1) - copy element k of A into B\n",
    "  k = k + 1                    # O(1)\n",
    "\n",
    "print(A)\n",
    "print(B)"
   ]
  },
  {
   "cell_type": "markdown",
   "metadata": {},
   "source": [
    "---"
   ]
  }
 ],
 "metadata": {
  "kernelspec": {
   "display_name": "ml",
   "language": "python",
   "name": "python3"
  },
  "language_info": {
   "codemirror_mode": {
    "name": "ipython",
    "version": 3
   },
   "file_extension": ".py",
   "mimetype": "text/x-python",
   "name": "python",
   "nbconvert_exporter": "python",
   "pygments_lexer": "ipython3",
   "version": "3.11.9"
  }
 },
 "nbformat": 4,
 "nbformat_minor": 2
}
