{
 "cells": [
  {
   "cell_type": "markdown",
   "metadata": {},
   "source": [
    "# Linked List"
   ]
  },
  {
   "cell_type": "markdown",
   "metadata": {},
   "source": [
    "---"
   ]
  },
  {
   "cell_type": "markdown",
   "metadata": {},
   "source": [
    "## Contents\n",
    "```{contents}\n",
    "```"
   ]
  },
  {
   "cell_type": "markdown",
   "metadata": {},
   "source": [
    "---"
   ]
  },
  {
   "cell_type": "markdown",
   "metadata": {},
   "source": [
    "## Linked List"
   ]
  },
  {
   "cell_type": "markdown",
   "metadata": {},
   "source": [
    "A linked list is a dynamic linear data structure; dynamic, meaning that its size changes at runtime; and linear, meaning that data items are arranged linearly/sequentially.\n",
    "\n",
    "Insertions and deletions are made anywhere in the linked list."
   ]
  },
  {
   "cell_type": "markdown",
   "metadata": {},
   "source": [
    "### Implementations"
   ]
  },
  {
   "cell_type": "markdown",
   "metadata": {},
   "source": [
    "#### C"
   ]
  },
  {
   "cell_type": "markdown",
   "metadata": {},
   "source": [
    "The null pointer indicates the end of the data structure.\n",
    "\n",
    "Requires dynamic memory allocation."
   ]
  },
  {
   "cell_type": "markdown",
   "metadata": {},
   "source": [
    "Self-referential data items\n",
    "\n",
    "```c\n",
    "struct node {\n",
    "  int data;             // names the data item\n",
    "  struct node *nxt_ptr; // points to a structure of type `struct node`\n",
    "};\n",
    "```\n",
    "\n",
    "or\n",
    "\n",
    "```c\n",
    "typedef struct node Node; // `Node` is an alias of `struct node`\n",
    "        struct node {\n",
    "  int data;               // names the data item\n",
    "  Node *nxt_ptr;          // points to a structure of type `Node`\n",
    "}\n",
    "```\n",
    "\n",
    "```c\n",
    "new_ptr = (Node *)malloc(sizeof(Node));\n",
    "//        ^^^^^^^^ `malloc` returns type `void *`\n",
    "```"
   ]
  },
  {
   "cell_type": "markdown",
   "metadata": {},
   "source": [
    "---"
   ]
  },
  {
   "cell_type": "markdown",
   "metadata": {},
   "source": [
    "## Linked List"
   ]
  },
  {
   "cell_type": "markdown",
   "metadata": {},
   "source": [
    "Insert node\n",
    "* at the front of the linked list\n",
    "* after a node\n",
    "* after the last node (at the end of the linked list)"
   ]
  },
  {
   "cell_type": "markdown",
   "metadata": {},
   "source": [
    "Traversal begins at the head node and stops when null is reached."
   ]
  },
  {
   "cell_type": "code",
   "execution_count": 6,
   "metadata": {},
   "outputs": [
    {
     "name": "stdout",
     "output_type": "stream",
     "text": [
      "2 4 6 8 "
     ]
    }
   ],
   "source": [
    "class Node:\n",
    "  def __init__ (self, value):\n",
    "    self.value = value\n",
    "    self.next  = None\n",
    "\n",
    "class LinkedList:\n",
    "  def __init__ (self):\n",
    "    self.head = None\n",
    "\n",
    "  def print_list (self):\n",
    "    temp = self.head\n",
    "    while (temp):\n",
    "      print(temp.value, end=' ')\n",
    "      temp = temp.next\n",
    "  \n",
    "  def add_first (self, e):\n",
    "    new_node      = Node(e)\n",
    "    new_node.next = self.head # point the new node to the current head\n",
    "    self.head     = new_node  # make  the new node    the     new head\n",
    "\n",
    "  def add_last (self, e):\n",
    "    new_node = Node(e)     # create a new node with value `e`\n",
    "    if self.head is None:  # if the linked list is empty, assign the new node to the head\n",
    "      self.head = new_node\n",
    "      return\n",
    "    last = self.head       # if the linked list is not empty, start at the current head and traverse the linked list\n",
    "    while (last.next):\n",
    "      last = last.next\n",
    "    last.next = new_node   # point the last node to the new node\n",
    "\n",
    "  def delete_first (self):\n",
    "    if self.head is None:\n",
    "      print('the list is empty')\n",
    "      return\n",
    "    self.head = self.head.next\n",
    "\n",
    "  def delete_node (self, e):\n",
    "    temp = self.head               # store the current head\n",
    "    if temp is not None:           # if    the current head is to be deleted...\n",
    "      if temp.value == e:\n",
    "        self.head = self.head.next # ...point head to the next node\n",
    "        temp      = None\n",
    "        return\n",
    "    while temp is not None and temp.value != e: # traverse to the last node or node e\n",
    "      prev = temp\n",
    "      temp = temp.next\n",
    "    if temp == None: # if the last node has been reached, the node e does not exist\n",
    "      return\n",
    "\n",
    "    # otherwise, node e has been found\n",
    "    prev.next = temp.next # link the previous node to the next node\n",
    "    temp.next = None\n",
    "    temp      = None\n",
    "\n",
    "\n",
    "linked_list = LinkedList()\n",
    "\n",
    "# create nodes\n",
    "linked_list.head = Node(2)\n",
    "node2 = Node(4)\n",
    "node3 = Node(6)\n",
    "node4 = Node(8)\n",
    "\n",
    "# link nodes\n",
    "linked_list.head.next = node2\n",
    "node2.next = node3\n",
    "node3.next = node4\n",
    "\n",
    "linked_list.print_list()"
   ]
  },
  {
   "cell_type": "markdown",
   "metadata": {},
   "source": [
    "---"
   ]
  },
  {
   "cell_type": "markdown",
   "metadata": {},
   "source": [
    "## Circular Linked List"
   ]
  },
  {
   "cell_type": "markdown",
   "metadata": {},
   "source": [
    "A circular linked list is just a linked list in which the last node points to the first node rather than null. A circular linked list can be singly linked or doubly linked.\n",
    "\n",
    "A circular linked list is traversed by starting at a node and ending at the first node that was already visited (i.e., the starting node).\n",
    "\n",
    "Advantages\n",
    "* any node can serve as the starting point, and the entire list can be traversed starting from any node\n",
    "* useful for the implementation of a queue: maintain a pointer to the last inserted node, and the front of the list is obtained by taking the next node\n",
    "* circular linked lists are useful for applications which make multiple passes around the list"
   ]
  },
  {
   "cell_type": "code",
   "execution_count": 4,
   "metadata": {},
   "outputs": [
    {
     "name": "stdout",
     "output_type": "stream",
     "text": [
      "2 4 6 8 "
     ]
    }
   ],
   "source": [
    "class Node:\n",
    "  def __init__ (self, data):\n",
    "    self.data = data\n",
    "    self.next = None # pointer to the next node\n",
    "\n",
    "class Circular_Linked_List:\n",
    "  def __init__ (self):\n",
    "    self.head = None\n",
    "\n",
    "  def prepend_node (self, data):\n",
    "    new_node = Node(data)               # generate the new node\n",
    "    tmp_node = self.head                # store the current head node\n",
    "    new_node.next = self.head           # point the new node to the current head node (which may or may not be empty)\n",
    "    if self.head is not None:           # if the current list contains at least one node...\n",
    "      while tmp_node.next != self.head: # ...traverse the list up to the node prior to the current head node\n",
    "        tmp_node = tmp_node.next        #\n",
    "      tmp_node.next = new_node          # ...and link this node to the current head node \n",
    "    else:\n",
    "      new_node.next = new_node          # if the list is empty, link the new node to itself\n",
    "    self.head = new_node                # the new node is the new head node\n",
    "  \n",
    "  def print_list (self):\n",
    "    if self.head is not None:\n",
    "      temp = self.head\n",
    "      end  = False\n",
    "      while not end:                    # foreach node, starting with the head node\n",
    "        print(temp.data, end=' ')       #     print the node\n",
    "        temp = temp.next                #     point to the next node\n",
    "        if temp == self.head:           #     if the next node is the head node\n",
    "          end = True                    #         stop iterating over nodes\n",
    "\n",
    "circular_linked_list = Circular_Linked_List()\n",
    "circular_linked_list.prepend_node(8)\n",
    "circular_linked_list.prepend_node(6)\n",
    "circular_linked_list.prepend_node(4)\n",
    "circular_linked_list.prepend_node(2)\n",
    "circular_linked_list.print_list()"
   ]
  },
  {
   "cell_type": "markdown",
   "metadata": {},
   "source": [
    "---"
   ]
  },
  {
   "cell_type": "markdown",
   "metadata": {},
   "source": [
    "## Doubly Linked List"
   ]
  },
  {
   "cell_type": "markdown",
   "metadata": {},
   "source": [
    "A doubly linked list contains a second ***prev*** (\"previous\") pointer in addition to the usual ***next*** pointer.\n",
    "\n",
    "Advantages\n",
    "* a doubly linked list can be traversed in both the forward direction and the backward direction\n",
    "* the delete operation is efficient since each node has a pointer to its previous node (in a singly linked list, the list may need to be traversed to obtain a pointer to the previous node of a node to be deleted)\n",
    "\n",
    "Disadvantages\n",
    "* the extra space requirement for the additional pointer\n",
    "* "
   ]
  },
  {
   "cell_type": "markdown",
   "metadata": {},
   "source": [
    "---"
   ]
  },
  {
   "cell_type": "markdown",
   "metadata": {},
   "source": [
    "https://www.geeksforgeeks.org/given-a-linked-list-which-is-sorted-how-will-you-insert-in-sorted-way/"
   ]
  },
  {
   "cell_type": "markdown",
   "metadata": {},
   "source": [
    "---"
   ]
  }
 ],
 "metadata": {
  "kernelspec": {
   "display_name": "ml",
   "language": "python",
   "name": "python3"
  },
  "language_info": {
   "codemirror_mode": {
    "name": "ipython",
    "version": 3
   },
   "file_extension": ".py",
   "mimetype": "text/x-python",
   "name": "python",
   "nbconvert_exporter": "python",
   "pygments_lexer": "ipython3",
   "version": "3.11.9"
  }
 },
 "nbformat": 4,
 "nbformat_minor": 2
}
