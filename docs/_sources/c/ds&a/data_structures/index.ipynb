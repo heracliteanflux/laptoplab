{
 "cells": [
  {
   "cell_type": "markdown",
   "metadata": {},
   "source": [
    "# Data Structures"
   ]
  },
  {
   "cell_type": "markdown",
   "metadata": {},
   "source": [
    "---"
   ]
  },
  {
   "cell_type": "markdown",
   "metadata": {},
   "source": [
    "## Contents\n",
    "```{contents}\n",
    "```"
   ]
  },
  {
   "cell_type": "markdown",
   "metadata": {},
   "source": [
    "---"
   ]
  },
  {
   "cell_type": "markdown",
   "metadata": {},
   "source": [
    "## Sections\n",
    "```{tableofcontents}\n",
    "```"
   ]
  },
  {
   "cell_type": "markdown",
   "metadata": {},
   "source": [
    "---"
   ]
  },
  {
   "cell_type": "markdown",
   "metadata": {},
   "source": [
    "## Summary"
   ]
  },
  {
   "cell_type": "markdown",
   "metadata": {},
   "source": [
    "Fixed-size, or ***static data structures*** include arrays and multidimensional arrays as well as C structs. ***Dynamic data structures*** have size that change at runtime and include ***linear data structures*** like linked-lists, stacks, and queues."
   ]
  },
  {
   "cell_type": "markdown",
   "metadata": {},
   "source": [
    "---"
   ]
  },
  {
   "cell_type": "markdown",
   "metadata": {},
   "source": [
    "## Terms"
   ]
  },
  {
   "cell_type": "markdown",
   "metadata": {},
   "source": [
    "* [ [w](https://en.wikipedia.org/wiki/Abstract_data_type) ] ADT Abstract Data Type\n",
    "* [ [w](https://en.wikipedia.org/wiki/Adjacency_list) ] Adjacency List\n",
    "* [ w ] Adjacency Matrix\n",
    "* [ [w](https://en.wikipedia.org/wiki/Array_data_structure) ] Array\n",
    "* [ [w](https://en.wikipedia.org/wiki/Associative_array) ] Associative Array\n",
    "* [ [w](https://en.wikipedia.org/wiki/Data_structure) ] Data Structure [ [list of data structures](https://en.wikipedia.org/wiki/List_of_data_structures) ]\n",
    "* [ [w](https://en.wikipedia.org/wiki/Data_type) ] Data Type\n",
    "* [ [w](https://en.wikipedia.org/wiki/Double-ended_queue) ] Double-Ended Queue (Deque)\n",
    "* [ [w](https://en.wikipedia.org/wiki/Doubly_linked_list) ] Doubly Linked List\n",
    "* [ w ] Linear Data Structure\n",
    "  * https://www.geeksforgeeks.org/introduction-to-linear-data-structures/\n",
    "* [ [w](https://en.wikipedia.org/wiki/Linked_list) ] Linked List\n",
    "* [ [w](https://en.wikipedia.org/wiki/List_(abstract_data_type)) ] List\n",
    "* [ [w](https://en.wikipedia.org/wiki/Pointer_(computer_programming)) ] Pointer\n",
    "* [ [w](https://en.wikipedia.org/wiki/Priority_queue) ] Priority Queue\n",
    "* [ [w](https://en.wikipedia.org/wiki/Queue_(abstract_data_type)) ] Queue\n",
    "* [ [w](https://en.wikipedia.org/wiki/Stack_(abstract_data_type)) ] Stack"
   ]
  },
  {
   "cell_type": "markdown",
   "metadata": {},
   "source": [
    "---"
   ]
  }
 ],
 "metadata": {
  "language_info": {
   "name": "python"
  }
 },
 "nbformat": 4,
 "nbformat_minor": 2
}
