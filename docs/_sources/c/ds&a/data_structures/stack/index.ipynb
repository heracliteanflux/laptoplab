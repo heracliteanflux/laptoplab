{
 "cells": [
  {
   "cell_type": "markdown",
   "metadata": {},
   "source": [
    "# Stack"
   ]
  },
  {
   "cell_type": "markdown",
   "metadata": {},
   "source": [
    "---"
   ]
  },
  {
   "cell_type": "markdown",
   "metadata": {},
   "source": [
    "A stack is a linear data structure, a collection of items of the same type. LIFO refers to the behavior of the push (insertion) and pop (deletion) operations.\n",
    "\n",
    "A stack is a constrained linked list in that insertions and deletions may only occur at one end of the data structure called the top.\n",
    "\n",
    "operations\n",
    "* push (insert) - add an elem to the top of the stack\n",
    "* pop (delete) - remove the topmost elem of the stack\n",
    "* is_empty - check whether the stack is empty\n",
    "* is_full - check whether the stack is full\n",
    "* top - display the topmost elem of the stack\n",
    "\n",
    "problems\n",
    "* tower of hanoi\n",
    "* n-queens\n",
    "* infix to prefix\n",
    "\n",
    "pointer to top, keeps track of the topmost elem of the stack\n",
    "the stack is initialized to -1\n",
    "check whether the stack is empty by comparing top to -1\n",
    "adding elems to, removing elems from the stack updates the pointer to top"
   ]
  },
  {
   "cell_type": "markdown",
   "metadata": {},
   "source": [
    "**Array-Based Implementation**"
   ]
  },
  {
   "cell_type": "markdown",
   "metadata": {},
   "source": [
    "`push` is implemented by incrementing the index of elem `top` and storing the new elem at that index.\n",
    "\n",
    "`pop` is implemented by returning the value stored at index `top` and then decrementing the index of elem `top`."
   ]
  },
  {
   "cell_type": "markdown",
   "metadata": {},
   "source": [
    "**Linked-List Implementation**"
   ]
  },
  {
   "cell_type": "markdown",
   "metadata": {},
   "source": [
    "`push` is implemented by creating a new node with the new element and setting the next pointer of the current top node to the new node.\n",
    "\n",
    "`pop` is implemented by setting the next pointer of the current top node to the next node and returning the value of the current top node."
   ]
  },
  {
   "cell_type": "markdown",
   "metadata": {},
   "source": [
    "---"
   ]
  },
  {
   "cell_type": "markdown",
   "metadata": {},
   "source": [
    "* https://www.geeksforgeeks.org/introduction-to-stack-data-structure-and-algorithm-tutorials/\n",
    "* https://www.geeksforgeeks.org/stack-data-structure/\n",
    "\n",
    "https://www.tutorialspoint.com/data_structures_algorithms/stack_program_in_c.htm\n",
    "\n",
    "https://www.digitalocean.com/community/tutorials/stack-in-c"
   ]
  },
  {
   "cell_type": "markdown",
   "metadata": {},
   "source": [
    "---"
   ]
  }
 ],
 "metadata": {
  "language_info": {
   "name": "python"
  }
 },
 "nbformat": 4,
 "nbformat_minor": 2
}
