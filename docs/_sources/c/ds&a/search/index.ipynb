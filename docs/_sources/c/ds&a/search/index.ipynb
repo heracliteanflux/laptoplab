{
 "cells": [
  {
   "cell_type": "markdown",
   "metadata": {},
   "source": [
    "# Search"
   ]
  },
  {
   "cell_type": "markdown",
   "metadata": {},
   "source": [
    "---"
   ]
  },
  {
   "cell_type": "markdown",
   "metadata": {},
   "source": [
    "## Contents\n",
    "```{contents}\n",
    "```"
   ]
  },
  {
   "cell_type": "markdown",
   "metadata": {},
   "source": [
    "---"
   ]
  },
  {
   "cell_type": "markdown",
   "metadata": {},
   "source": [
    "## The Search Problem"
   ]
  },
  {
   "cell_type": "markdown",
   "metadata": {},
   "source": [
    "$\\text{Problem} \\quad \\text{}$\n",
    "\n",
    "$\n",
    "\\begin{aligned}\n",
    "\\text{  Input} && & \\text{A sequence of}\\,\\, n \\,\\,\\text{numbers}\\,\\, \\langle a_1, a_2, \\dotsc, a_n \\rangle \\,\\,\\text{stored in array}\\,\\, A[1:n], \\,\\,\\text{and a value}\\,\\, x \\\\\n",
    "\\text{ Output} && & \\text{An index}\\,\\, i \\,\\,\\text{such that}\\,\\, x \\,\\,\\text{equals}\\,\\, A[i], \\,\\,\\text{or the special value NIL if}\\,\\, x \\,\\,\\text{does not appear in}\\,\\, A \\\\\n",
    "\\end  {aligned}\n",
    "$"
   ]
  },
  {
   "cell_type": "markdown",
   "metadata": {},
   "source": [
    "---"
   ]
  },
  {
   "cell_type": "markdown",
   "metadata": {},
   "source": [
    "## Sections\n",
    "```{tableofcontents}\n",
    "```"
   ]
  },
  {
   "cell_type": "markdown",
   "metadata": {},
   "source": [
    "---"
   ]
  },
  {
   "cell_type": "markdown",
   "metadata": {},
   "source": [
    "## Terms"
   ]
  },
  {
   "cell_type": "markdown",
   "metadata": {},
   "source": [
    "* [ [w](https://en.wikipedia.org/wiki/Binary_search) ] Binary Search\n",
    "* [ [w](https://en.wikipedia.org/wiki/Decision_problem) ] Decision Problem\n",
    "* [ [w](https://en.wikipedia.org/wiki/Hash_table) ] Hash Table\n",
    "* [ [w](https://en.wikipedia.org/wiki/Linear_search) ] Linear Search\n",
    "* [ [w](https://en.wikipedia.org/wiki/Linear_search_problem) ] Linear Search Problem\n",
    "* [ [w](https://en.wikipedia.org/wiki/Search_algorithm) ] Search Algorithm\n",
    "* [ [w](https://en.wikipedia.org/wiki/Search_data_structure) ] Search Data Structure\n",
    "* [ [w](https://en.wikipedia.org/wiki/Search_problem) ] Search Problem\n",
    "* [ [w](https://en.wikipedia.org/wiki/Ternary_search) ] Ternary Search"
   ]
  },
  {
   "cell_type": "markdown",
   "metadata": {},
   "source": [
    "---"
   ]
  }
 ],
 "metadata": {
  "language_info": {
   "name": "python"
  }
 },
 "nbformat": 4,
 "nbformat_minor": 2
}
