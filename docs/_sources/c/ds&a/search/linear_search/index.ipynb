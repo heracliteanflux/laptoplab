{
 "cells": [
  {
   "cell_type": "markdown",
   "metadata": {},
   "source": [
    "# Linear Search"
   ]
  },
  {
   "cell_type": "markdown",
   "metadata": {},
   "source": [
    "---"
   ]
  },
  {
   "cell_type": "markdown",
   "metadata": {},
   "source": [
    "## Contents\n",
    "```{contents}\n",
    "```"
   ]
  },
  {
   "cell_type": "markdown",
   "metadata": {},
   "source": [
    "---"
   ]
  },
  {
   "cell_type": "markdown",
   "metadata": {},
   "source": [
    "## Naive Linear Search\n",
    "Incremental/Iterative"
   ]
  },
  {
   "cell_type": "markdown",
   "metadata": {},
   "source": [
    "```c\n",
    " INPUT    an array A[0:n - 1] of n values where n >= 0 and a value x\n",
    "OUTPUT    either an index i such that A[i] = x or the special value NOT_FOUND when A does not contain x\n",
    "\n",
    "LINEAR_SEARCH(A, n, x)\n",
    "1    result = NOT_FOUND\n",
    "2    for i = 0 to n - 1\n",
    "3        if A[i] == x\n",
    "4            result = i\n",
    "5    return result\n",
    "\n",
    "LINEAR_SEARCH(A, n, x)\n",
    "1    result = NOT_FOUND\n",
    "2    i = 0\n",
    "3    while i < n\n",
    "4        if A[i] == x\n",
    "5            result = i\n",
    "6        i++\n",
    "7    return result\n",
    "```"
   ]
  },
  {
   "cell_type": "markdown",
   "metadata": {},
   "source": [
    "### Complexity"
   ]
  },
  {
   "cell_type": "markdown",
   "metadata": {},
   "source": [
    "Naive linear search always iterates over all $n$ values and doesn't ever terminate early and so its running time is $T(n) = \\Theta(n)$.\n",
    "\n",
    "Naive linear search does not use any auxiliary data structures other than a variable to store the output value and so its space requirement is $S(n) = \\Theta(1)$."
   ]
  },
  {
   "cell_type": "markdown",
   "metadata": {},
   "source": [
    "### Correctness"
   ]
  },
  {
   "cell_type": "markdown",
   "metadata": {},
   "source": [
    "**Invariant**\n",
    "\n",
    "At the start of iteration $i$, if $\\texttt{result}$ is an index then $A[\\texttt{result}] = x$. Otherwise, $x \\not\\in A[0:i - 1]$."
   ]
  },
  {
   "cell_type": "markdown",
   "metadata": {},
   "source": [
    "**Initialization**\n",
    "\n",
    "$i = 0$\n",
    "\n",
    "Prior to executing the loop, $\\texttt{result}$ is not an index and so it is true that $x \\not\\in A[0:-1]$"
   ]
  },
  {
   "cell_type": "markdown",
   "metadata": {},
   "source": [
    "**Maintenance**\n",
    "\n",
    "Assume that it is true that at the start of iteration $i$, if $\\texttt{result}$ is an index then $A[\\texttt{result}] = x$. Otherwise, $x \\not\\in A[0:i - 1]$.\n",
    "\n",
    "Then it must be shown that at the start of iteration $i + 1$, if $\\texttt{result}$ is an index then $A[\\texttt{result}] = x$. Otherwise, $x \\not\\in A[0:i]$.\n",
    "\n",
    "CASE 1. If $\\texttt{result}$ is an index and $A[\\texttt{result}] = x$ at the start of iteration $i$, then this continues to hold at the start of iteration $i + 1$.\n",
    "\n",
    "CASE 2. At the start of iteration $i + 1$, if $A[i] = x$ then $\\texttt{result} = i$ and $A[\\texttt{result}] = x$.\n",
    "\n",
    "CASE 3. At the start of iteration $i + 1$, if $A[i] \\ne x$ then $x \\not\\in A[0:i - 1] \\cup A[i] = A[0:i]$."
   ]
  },
  {
   "cell_type": "markdown",
   "metadata": {},
   "source": [
    "**Termination**\n",
    "\n",
    "$i = n$\n",
    "\n",
    "If $\\texttt{result}$ is an index then $A[\\texttt{result}] = x$. Otherwise, $x \\not\\in A[0:n - 1]$."
   ]
  },
  {
   "cell_type": "markdown",
   "metadata": {},
   "source": [
    "---"
   ]
  },
  {
   "cell_type": "markdown",
   "metadata": {},
   "source": [
    "## Linear Search\n",
    "Incremental/Iterative"
   ]
  },
  {
   "cell_type": "markdown",
   "metadata": {},
   "source": [
    "```c\n",
    " INPUT    an array A[0:n - 1] of n values where n >= 0\n",
    "OUTPUT    either an index i such that A[i] = x or the special value NOT_FOUND when A does not contain x\n",
    "\n",
    "LINEAR_SEARCH(A, n, x)\n",
    "1    for i = 0 to n - 1\n",
    "2        if A[i] == x\n",
    "3            return i\n",
    "4    return NOT_FOUND\n",
    "\n",
    "LINEAR_SEARCH(A, n, x)\n",
    "1    i = 0\n",
    "2    while i < n\n",
    "3        if A[i] == x\n",
    "4            return i\n",
    "5        i++\n",
    "6    return NOT_FOUND\n",
    "```"
   ]
  },
  {
   "cell_type": "markdown",
   "metadata": {},
   "source": [
    "### Complexity"
   ]
  },
  {
   "cell_type": "markdown",
   "metadata": {},
   "source": [
    "Linear search iterates over $n$ values in the worst case and so its worst case running time is $T(n) = O(n)$. In the best case, it iterates over a single value and so its best case running time is $T(n) = O(1)$.\n",
    "\n",
    "Linear search does not use any auxiliary data structures other than a variable to store the output value and so its space requirement is $S(n) = \\Theta(1)$."
   ]
  },
  {
   "cell_type": "markdown",
   "metadata": {},
   "source": [
    "### Correctness"
   ]
  },
  {
   "cell_type": "markdown",
   "metadata": {},
   "source": [
    "**Precondition**\n",
    "\n",
    "$A$ is an array of $n$ values where $n \\ge 0$\n",
    "\n",
    "$i = 0$\n",
    "\n",
    "**Postcondition**\n",
    "\n",
    "$x = A[i]$ or $x = \\texttt{NOT\\_FOUND}$\n",
    "\n",
    "**Condition**\n",
    "\n",
    "$x \\ne A[i]$  and $i \\lt n$\n",
    "\n",
    "**Invariant**\n",
    "\n",
    "$0 \\le i \\le n$\n",
    "\n",
    "$x \\in A[i:n-1] \\cup \\{ \\texttt{NOT\\_FOUND} \\}$\n",
    "\n",
    "If $x \\in A$ then $x \\in A[i:n - 1]$. If $x \\not\\in A[i:n - 1]$ then $x \\not\\in A$.\n",
    "\n",
    "$x \\not\\in A[0:i - 1]$\n",
    "\n",
    "**Variant**\n",
    "\n",
    "$n - i$"
   ]
  },
  {
   "cell_type": "markdown",
   "metadata": {},
   "source": [
    "**Initialization**\n",
    "\n",
    "It must be shown that if the $\\texttt{precondition}$ is true then the $\\texttt{invariant}$ is true.\n",
    "\n",
    "Prior to the first iteration of the loop, $i = 0$ and $n \\ge 0$ and so the inequality $0 \\le i \\le n$ holds. Further it is true that $x \\in A[i:n - 1] \\cup \\{ \\texttt{NOT\\_FOUND} \\}$ since $A[i:n - 1]$ is just the entire array.\n",
    "\n",
    "**Maintenance**\n",
    "\n",
    "It must be shown that if both the $\\texttt{condition}$ is true and the $\\texttt{invariant}$ is true prior to iteration $i$ then the $\\texttt{invariant}$ is true prior to iteration $i' = i + 1$.\n",
    "\n",
    "$i \\lt n \\iff i + 1 \\le n$\n",
    "\n",
    "At the start of each iteration, if $x \\in A$ then $x \\in A[i:n - 1]$.\n",
    "\n",
    "If the algorithm does not return then $A[i] \\ne x$ and so if $x \\in A$ then $x \\in A[i + 1:n - 1]$.\n",
    "\n",
    "**Postcondition**\n",
    "\n",
    "It must be shown that if both the $\\texttt{condition}$ is false and the $\\texttt{invariant}$ is true then the $\\texttt{postcondition}$ is true.\n",
    "\n",
    "The negation of the condition states $\\lnot(i \\lt n) \\iff i \\ge n$ and the invariant states $i \\le n$ and so it must be the case that $i = n$.\n",
    "\n",
    "If $x \\not\\in A[i:n - 1]$ then $x \\not\\in A$.\n",
    "\n",
    "$\\underbrace{x \\not\\in A[n:n - 1]}_{\\text{always true}}$\n",
    "\n",
    "Therefore $x \\not\\in A$ and so $x = \\texttt{NOT\\_FOUND}$\n",
    "\n",
    "**Termination**\n",
    "\n",
    "Up to now it has been shown that if the loop eventually terminates then the algorithm is correct. It must now be shown that the loop eventually terminates."
   ]
  },
  {
   "cell_type": "markdown",
   "metadata": {},
   "source": [
    "---"
   ]
  },
  {
   "cell_type": "markdown",
   "metadata": {},
   "source": [
    "## Acknowledgments"
   ]
  },
  {
   "cell_type": "markdown",
   "metadata": {},
   "source": [
    "`02-08-2021`. Algorithms Lab. \"Loop Invariant Proofs (proofs, part 1)\". https://www.youtube.com/watch?v=_maJ4Qy7Q0E."
   ]
  },
  {
   "cell_type": "markdown",
   "metadata": {},
   "source": [
    "---"
   ]
  }
 ],
 "metadata": {
  "language_info": {
   "name": "python"
  }
 },
 "nbformat": 4,
 "nbformat_minor": 2
}
