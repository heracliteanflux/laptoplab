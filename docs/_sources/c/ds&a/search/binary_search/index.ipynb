{
 "cells": [
  {
   "cell_type": "markdown",
   "metadata": {},
   "source": [
    "# Binary Search"
   ]
  },
  {
   "cell_type": "markdown",
   "metadata": {},
   "source": [
    "---"
   ]
  },
  {
   "cell_type": "markdown",
   "metadata": {},
   "source": [
    "## Contents\n",
    "```{contents}\n",
    "```"
   ]
  },
  {
   "cell_type": "markdown",
   "metadata": {},
   "source": [
    "---"
   ]
  },
  {
   "cell_type": "markdown",
   "metadata": {},
   "source": [
    "## Improving upon linear search"
   ]
  },
  {
   "cell_type": "markdown",
   "metadata": {},
   "source": [
    "If the subarray being searched in linear search is already sorted, the searching algorithm can check the midpoint of the subarray against $v$ and eliminate half the subarray from further consideration. Binary search repeats the procedure, halving the size of the remaining portion of the subarray each time.\n",
    "\n",
    "Properly speaking, binary search cannot be implemented with a divide-and-conquer approach. This is because when a problem is divided into two subproblems, binary search does not need to solve both subproblems, just one."
   ]
  },
  {
   "cell_type": "markdown",
   "metadata": {},
   "source": [
    "---"
   ]
  },
  {
   "cell_type": "markdown",
   "metadata": {},
   "source": [
    "## Iterative/Incremental Binary Search"
   ]
  },
  {
   "cell_type": "markdown",
   "metadata": {},
   "source": [
    "```c\n",
    " INPUT    an array A[1:n] of n sorted values in ascending order and a value x in A\n",
    "OUTPUT    an index i such that x = A[i]\n",
    "\n",
    "BINARY_SEARCH(A, n, x)\n",
    "1    l = 0\n",
    "2    r = n - 1\n",
    "3    while l < r\n",
    "4        m = (l + r) / 2   // m is the average of l and r rounded down\n",
    "5        if x <= A[m]\n",
    "6            r = m\n",
    "7        else\n",
    "8            l = m + 1\n",
    "9    return l\n",
    "```"
   ]
  },
  {
   "cell_type": "markdown",
   "metadata": {},
   "source": [
    "### Complexity"
   ]
  },
  {
   "cell_type": "markdown",
   "metadata": {},
   "source": [
    "#### Time"
   ]
  },
  {
   "cell_type": "markdown",
   "metadata": {},
   "source": [
    "##### Worst Case"
   ]
  },
  {
   "cell_type": "markdown",
   "metadata": {},
   "source": [
    "$T(n) = T(n/2) + \\Theta(1) = \\Theta(\\lg n)$"
   ]
  },
  {
   "cell_type": "markdown",
   "metadata": {},
   "source": [
    "### Correctness"
   ]
  },
  {
   "cell_type": "markdown",
   "metadata": {},
   "source": [
    "$\\textbf{Invariant}$"
   ]
  },
  {
   "cell_type": "markdown",
   "metadata": {},
   "source": [
    "The array is sorted in ascending order.\n",
    "\n",
    "$0 \\le l \\le r \\le n - 1$\n",
    "\n",
    "$x \\in A[l:r]$"
   ]
  },
  {
   "cell_type": "markdown",
   "metadata": {},
   "source": [
    "$\\textbf{Initialization}$"
   ]
  },
  {
   "cell_type": "markdown",
   "metadata": {},
   "source": [
    "That the array is sorted in ascending order is in the precondition of the program.\n",
    "\n",
    "Since $n$ is at least $1$ by the precondition that $x \\in A$ and since $l$ and $r$ are initialized to $0$ and $n - 1$, respectively, the inequality is satisfied:\n",
    "\n",
    "$0 \\le (0 = l) \\le (r = n - 1) \\le n - 1 \\iff 1 \\le n$\n",
    "\n",
    "$x \\in A[l:r]$ because $A[l:r]$ is the whole array and $x \\in A$ is a precondition of the program."
   ]
  },
  {
   "cell_type": "markdown",
   "metadata": {},
   "source": [
    "$\\textbf{Maintenance}$"
   ]
  },
  {
   "cell_type": "markdown",
   "metadata": {},
   "source": [
    "Since the program does not alter the array, the array remains sorted in ascending order.\n",
    "\n",
    "Let primes denote values after iteration. It must be shown that if $0 \\le l \\le r \\le n - 1$ and $x \\in A[l:r]$ (i.e., the invariant is true before iteration) then $0 \\le l' \\le r' \\le n - 1$ and $x \\in A[l':r']$ (i.e., the invariant is true after iteration).\n",
    "\n",
    "Since $m$ is the average of $l$ and $r$ rounded down, it is known that $l \\le m \\le r$. But because the loop condition $l \\lt r$ is true and the value of $m$ is rounded down, it is known that $l \\le m \\lt r$.\n",
    "\n",
    "$\\text{Case}\\,\\, x \\le A[m]$\n",
    "\n",
    "In this case $l' = l$ and $r' = m$ and so $0 \\le l \\le m \\lt r \\le n - 1 \\implies 0 \\le l' \\le r' \\le n - 1$.\n",
    "\n",
    "Since $x \\in A[l:r]$ and $x \\le A[r']$ it is the case that $x \\in A[l':r']$\n",
    "\n",
    "$\\text{Case}\\,\\, x \\gt A[m]$\n",
    "\n",
    "In this case $l' = m + 1$ and $r' = r$.\n",
    "\n",
    "$m \\lt r \\implies l' = m + 1 \\le r = r' \\implies 0 \\le l' \\le r' \\le n - 1$\n",
    "\n",
    "Since $x \\in A[l:r]$ and $x \\ge A[l']$ it is the case that $x \\in A[l':r']$. Another way to look at this is that $x \\not\\in A[l:m]$ but according to the invariant $x \\in A[l:r]$ so it must be the case that $x \\in A[m + 1:r] = A[l':r']$"
   ]
  },
  {
   "cell_type": "markdown",
   "metadata": {},
   "source": [
    "$\\textbf{Postcondition}$"
   ]
  },
  {
   "cell_type": "markdown",
   "metadata": {},
   "source": [
    "For the program to be correct it must be shown that $A[l] = x$. If the loop condition is false it is the case that $l \\not\\lt r \\iff l \\ge r$. The loop invariant guarantees that $l \\le r$. So it must be the case that $l = r$.\n",
    "\n",
    "The loop invariant also guarantees that $x \\in A[l:r]$, which has now been reduced to a single element; namely, $x$."
   ]
  },
  {
   "cell_type": "markdown",
   "metadata": {},
   "source": [
    "$\\textbf{Termination}$"
   ]
  },
  {
   "cell_type": "markdown",
   "metadata": {},
   "source": [
    "The value $r - l$ is guaranteed by the invariant to be nonnegative, we can choose $\\text{DF}_0 = 0$\n",
    "\n",
    "Case $x \\in A[l:m]$: $m \\lt r \\iff (m - l = r' - l') \\lt r - l$\n",
    "\n",
    "Case $x \\in A[m + 1:r]$: $l \\lt m + 1 \\iff l - r \\lt (m + 1 = l') - (r = r') \\iff r' - l' \\lt r - l$\n",
    "\n",
    "The quantity $r - l$ gets strictly smaller on every iteration as long as $l \\lt r$ and so the loop eventually terminates."
   ]
  },
  {
   "cell_type": "markdown",
   "metadata": {},
   "source": [
    "### Implementations"
   ]
  },
  {
   "cell_type": "markdown",
   "metadata": {},
   "source": [
    "#### C"
   ]
  },
  {
   "cell_type": "markdown",
   "metadata": {},
   "source": [
    "```c\n",
    "// binary_search.c\n",
    "\n",
    "#include <stdio.h>\n",
    "\n",
    "void print_array (int A[], int n) {\n",
    "  for (int i = 0; i < n; i++) {\n",
    "    printf(\"%d \", A[i]);\n",
    "  }\n",
    "  printf(\"\\n\");\n",
    "}\n",
    "\n",
    "int binary_search (int A[], int n, int x) {\n",
    "  int l = 0;\n",
    "  int r = n - 1;\n",
    "\n",
    "  while (l < r) {\n",
    "    int m = (l + r) / 2;\n",
    "    if (x <= A[m])\n",
    "      r = m;\n",
    "    else\n",
    "      l = m + 1;\n",
    "  }\n",
    "\n",
    "  return l;\n",
    "}\n",
    "\n",
    "int main () {\n",
    "  int A[] = {1, 2, 3, 4, 5};\n",
    "  int n   = sizeof(A) / sizeof(A[0]);\n",
    "  int x   = 4;\n",
    "  int result = binary_search(A, n, x);\n",
    "  \n",
    "  print_array(A, n);\n",
    "  printf(\"Value %d at index %d\\n\", x, result);\n",
    "\n",
    "  return 0;\n",
    "}\n",
    "```"
   ]
  },
  {
   "cell_type": "markdown",
   "metadata": {},
   "source": [
    "#### Python"
   ]
  },
  {
   "cell_type": "markdown",
   "metadata": {},
   "source": [
    "---"
   ]
  },
  {
   "cell_type": "markdown",
   "metadata": {},
   "source": [
    "## Resources"
   ]
  },
  {
   "cell_type": "markdown",
   "metadata": {
    "vscode": {
     "languageId": "plaintext"
    }
   },
   "source": [
    "* https://www.geeksforgeeks.org/binary-search/\n",
    "* https://www.khanacademy.org/computing/computer-science/algorithms/binary-search/a/binary-search\n",
    "* https://www.cs.cornell.edu/courses/cs2112/2020fa/lectures/lecture.html?id=loopinv"
   ]
  },
  {
   "cell_type": "markdown",
   "metadata": {},
   "source": [
    "* [ [y](https://www.youtube.com/watch?v=NFhOrxtXXcM) ] `02-13-2023` Coding with John. \"Binary Search in Java - Full Simple Coding Tutorial\".\n",
    "* [ [y](https://www.youtube.com/watch?v=_eS-nNnkKfI) ] `12-01-2023` Computerphile. \"Bug in Binary Search - Computerphile\".\n",
    "* [ [y](https://www.youtube.com/watch?v=hDn8iOc30Tk) ] `11-01-2023` Computerphile. \"Binary Search Algorithm - Computerphile\"."
   ]
  },
  {
   "cell_type": "markdown",
   "metadata": {},
   "source": [
    "---"
   ]
  }
 ],
 "metadata": {
  "language_info": {
   "name": "python"
  }
 },
 "nbformat": 4,
 "nbformat_minor": 2
}
