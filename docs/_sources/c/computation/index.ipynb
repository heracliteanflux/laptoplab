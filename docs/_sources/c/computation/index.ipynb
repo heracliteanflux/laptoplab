{
 "cells": [
  {
   "attachments": {},
   "cell_type": "markdown",
   "metadata": {},
   "source": [
    "# Computation"
   ]
  },
  {
   "attachments": {},
   "cell_type": "markdown",
   "metadata": {},
   "source": [
    "---"
   ]
  },
  {
   "cell_type": "markdown",
   "metadata": {},
   "source": [
    "## Table of Contents\n",
    "```{contents}\n",
    "```"
   ]
  },
  {
   "cell_type": "markdown",
   "metadata": {},
   "source": [
    "---"
   ]
  },
  {
   "cell_type": "markdown",
   "metadata": {},
   "source": [
    "## Figures"
   ]
  },
  {
   "cell_type": "markdown",
   "metadata": {},
   "source": [
    "* [ [w](https://en.wikipedia.org/wiki/Muhammad_ibn_Musa_al-Khwarizmi) ][ s ] `0780-0850` Al-Khwarismi\n",
    "* [ [w](https://en.wikipedia.org/wiki/Charles_Babbage) ][ s ] `1791-1871` Babbage, Charles\n",
    "* [ [w](https://en.wikipedia.org/wiki/John_Backus) ][ s ] `1924-2007` Backus, John\n",
    "* [ [w](https://en.wikipedia.org/wiki/George_Berkeley) ][ [s](https://plato.stanford.edu/entries/berkeley/) ]  `1685-1753` Berkeley, George\n",
    "* [ [w](https://en.wikipedia.org/wiki/George_Boole) ][ s ] `1815-1864` Boole, George\n",
    "* [ [w](https://en.wikipedia.org/wiki/Nick_Bostrom) ][ s ] `1973-----` Bostrom, Nick\n",
    "* [ [w](https://en.wikipedia.org/wiki/Arthur_Burks) ][ s ] `1915-2008` Burks, Arthur\n",
    "* [ [w](https://en.wikipedia.org/wiki/Vannevar_Bush) ][ s ] `1890-1974` Bush, Vannevar\n",
    "* [ [w](https://en.wikipedia.org/wiki/David_Chalmers) ][ s ] `1966-----` Chalmers, David\n",
    "* [ [w](https://en.wikipedia.org/wiki/Noam_Chomsky) ][ s ] `1928-----` Chomsky, Noam\n",
    "* [ [w](https://en.wikipedia.org/wiki/John_Horton_Conway) ][ s ] `1937-2020` Conway, John\n",
    "* [ [w](https://en.wikipedia.org/wiki/Jack_Copeland) ][ s ] `1950-----` Copeland, Jack\n",
    "* [ [w](https://en.wikipedia.org/wiki/Alonzo_Church) ][ s ] `1903-1995` Church, Alonzo\n",
    "* [ [w](https://en.wikipedia.org/wiki/Daniel_Dennett) ][ s ] `1942-----` Dennett, Daniel\n",
    "  * [ [w](https://en.wikipedia.org/wiki/From_Bacteria_to_Bach_and_Back) ] `2017` _From Bacteria to Bach and Back: The Evolution of Minds_\n",
    "* [ [w](https://en.wikipedia.org/wiki/René_Descartes) ][ s ] `1596-1650` Descartes, Rene\n",
    "* [ [w](https://en.wikipedia.org/wiki/Edsger_W._Dijkstra) ][ s ] `1930-2002` Dijkstra, Edsger\n",
    "* [ [w](https://en.wikipedia.org/wiki/Martin_Gardner) ][ s ] `1914-2010` Gardner, Martin\n",
    "* [ [w](https://en.wikipedia.org/wiki/Kurt_Gödel) ][ s ] `1906-1978` Gödel, Kurt\n",
    "* [ [w](https://en.wikipedia.org/wiki/Donald_D._Hoffman) ][ s ] `1955-----` Hoffman, Donald\n",
    "* [ [w](https://en.wikipedia.org/wiki/John_Hopcroft) ][ s ] `1939-----` Hopcroft, John\n",
    "  * [ [w](https://en.wikipedia.org/wiki/Introduction_to_Automata_Theory,_Languages,_and_Computation) ] Cinderella Book\n",
    "* [ [w](https://en.wikipedia.org/wiki/Immanuel_Kant) ][ s ] `1724-1904` Kant, Immanuel\n",
    "* [ [w](https://en.wikipedia.org/wiki/Donald_Knuth) ][ s ] `1938-----` Knuth, Donald\n",
    "  * [ [w](https://en.wikipedia.org/wiki/The_Art_of_Computer_Programming) ] _The Art of Computer Programming_\n",
    "* [ [w](https://en.wikipedia.org/wiki/Gottfried_Wilhelm_Leibniz) ][ s ] `1646-1716` Leibniz, Gottfried\n",
    "* [ [w](https://en.wikipedia.org/wiki/Ada_Lovelace) ][ s ] `1815-1852` Lovelace, Ada\n",
    "* [ [w](https://en.wikipedia.org/wiki/Klaus_Mainzer) ][ s ] `1947-----` Mainzer, Klaus\n",
    "* [ [w](https://en.wikipedia.org/wiki/Blaise_Pascal) ][ s ] `1623-1662` Pascal, Blaise\n",
    "* [ [w](https://en.wikipedia.org/wiki/Roger_Penrose) ][ s ] `1931-----` Penrose, Roger\n",
    "* [ [w](https://en.wikipedia.org/wiki/Emil_Leon_Post) ][ s ] `1897-1954` Post, Emil\n",
    "* [ [w](https://en.wikipedia.org/wiki/John_Searle) ][ [s](https://plato.stanford.edu/entries/chinese-room/) ] `1932-----` Searle, John\n",
    "* [ [w](https://en.wikipedia.org/wiki/Alan_Turing) ][ s ] `1912-1954` Turing, Alan\n",
    "* [ [w](https://en.wikipedia.org/wiki/Jeffrey_Ullman) ][ s ] `1942-----` Ullman, Jeffrey\n",
    "* [ [w](https://en.wikipedia.org/wiki/John_von_Neumann) ][ s ] `1903-1957` Von Neumann, John\n",
    "* [ [w](https://en.wikipedia.org/wiki/Stephen_Wolfram) ][ s ] `1959-----` Wolfram, Stephen\n",
    "* [ [w](https://en.wikipedia.org/wiki/Konrad_Zuse) ][ s ] `1910-1995` Zuse, Konrad\n",
    "\n",
    "[ [w](https://en.wikipedia.org/wiki/List_of_pioneers_in_computer_science) ] pioneers in computer science"
   ]
  },
  {
   "cell_type": "markdown",
   "metadata": {},
   "source": [
    "---"
   ]
  },
  {
   "cell_type": "markdown",
   "metadata": {},
   "source": [
    "## Resources"
   ]
  },
  {
   "cell_type": "markdown",
   "metadata": {},
   "source": [
    "[ [y](https://www.youtube.com/playlist?list=PLUl4u3cNGP60_JNv2MmK3wkOt9syvfQWY) ] MIT 18.404J Theory of Computation, Fall 2020\n",
    "* [ [y](https://www.youtube.com/watch?v=9syvZr-9xwk) ] `10-06-2021`. \"1. Introduction, Finite Automata, Regular Expressions\".\n",
    "* [ [y](https://www.youtube.com/watch?v=oNsscmUwjMU) ] `10-06-2021`. \"2. Nondeterminism, Closure Properties, Conversion of Regular Expressions to FA\".\n",
    "* [ [y](https://www.youtube.com/watch?v=KAySmSEGc9U) ] `10-06-2021`. \"3. Regular Pumping Lemma, Conversion of FA to Regular Expressions\".\n",
    "* [ [y](https://www.youtube.com/watch?v=m9eHViDPAJQ) ] `10-06-2021`. \"4. Pushdown Automata, Conversion of CFG to PDA and Reverse Conversion\".\n",
    "* [ [y](https://www.youtube.com/watch?v=IycOPFmEQk8) ] `10-06-2021`. \"5. CF Pumping Lemma, Turing Machines\".\n",
    "* [ [y](https://www.youtube.com/watch?v=TTArY7ojshU) ] `10-06-2021`. \"6. TM Variants, Church-Turing Thesis\".\n",
    "* [ [y](https://www.youtube.com/watch?v=4MgN6uxd4i4) ] `10-06-2021`. \"7. Decision Problems for Automata and Grammars\".\n",
    "* [ [y](https://www.youtube.com/watch?v=3PzuSPQPEU4) ] `10-06-2021`. \"8. Undecidability\".\n",
    "* [ [y](https://www.youtube.com/watch?v=N28g_YBXY8Y) ] `10-06-2021`. \"9. Reducibility\".\n",
    "* [ [y](https://www.youtube.com/watch?v=MGqoLm2aAgc) ] `10-06-2021`. \"10. Computation History Method\".\n",
    "* [ [y](https://www.youtube.com/watch?v=N-_XmLanPYg) ] `10-06-2021`. \"11. Recursion Theorem and Logic\".\n",
    "* [ [y](https://www.youtube.com/watch?v=asjAc90L8rE) ] `10-06-2021`. \"12. Time Complexity\".\n",
    "* [ [y](https://www.youtube.com/watch?v=1VhnDdQsELo) ] `10-06-2021`. \"14. P and NP, SAT, Poly-Time Reducibility\".\n",
    "* [ [y](https://www.youtube.com/watch?v=iZPzBHGDsWI) ] `10-06-2021`. \"15. NP-Completeness\".\n",
    "* [ [y](https://www.youtube.com/watch?v=6Az1gtDRaAU) ] `10-06-2021`. \"16. Cook-Levin Theorem\".\n",
    "* [ [y](https://www.youtube.com/watch?v=cT_qwkTigv4) ] `10-06-2021`. \"17. Space Complexity, PSPACE, Savitch's Theorem\".\n",
    "* [ [y](https://www.youtube.com/watch?v=aVv9WXwW95w) ] `10-06-2021`. \"18. PSPACE-Completeness\".\n",
    "* [ [y](https://www.youtube.com/watch?v=4dFPVJrNLDs) ] `10-06-2021`. \"19. Games, Generalized Geography\".\n",
    "* [ [y](https://www.youtube.com/watch?v=q3xvno_KgRY) ] `10-06-2021`. \"20. L and NL, NL = coNL\".\n",
    "* [ [y](https://www.youtube.com/watch?v=vqFRAWeEcUs) ] `10-06-2021`. \"21. Hierarchy Theorems\".\n",
    "* [ [y](https://www.youtube.com/watch?v=N32bnUliSzo) ] `10-06-2021`. \"22. Provably Intractable Problems, Oracles\".\n",
    "* [ [y](https://www.youtube.com/watch?v=Vp_AzDGQyrA) ] `10-06-2021`. \"23. Probabilistic Computation, BPP\".\n",
    "* [ [y](https://www.youtube.com/watch?v=7J1HD9rqEB4) ] `10-06-2021`. \"24. Probabilistic Computation (cont.)\".\n",
    "* [ [y](https://www.youtube.com/watch?v=TSI3LR5WZmo) ] `10-06-2021`. \"25. Interactive Proof Systems, IP\".\n",
    "* [ [y](https://www.youtube.com/watch?v=eEXSv0jChO4) ] `10-06-2021`. \"26. coNP is a subset of IP\"."
   ]
  },
  {
   "cell_type": "markdown",
   "metadata": {},
   "source": [
    "* [ [y](https://www.youtube.com/watch?v=rVmZTGeIwnc) ] `01-07-2016`. Science University of Copenhagen. \"Reversible Computing\".\n",
    "* [ [y](https://www.youtube.com/watch?v=usWnPKT4yw8) ] `03-31-2024`. William Byrd. \"Reversible Computing, Part 2\".\n",
    "* [ [y](https://www.youtube.com/watch?v=X742m3LVrHU) ] `02-19-2024`. William Byrd. \"Reversible Computing, Part 1\"."
   ]
  },
  {
   "cell_type": "markdown",
   "metadata": {},
   "source": [
    "[ [y](https://www.youtube.com/playlist?list=PLylTVsqZiRXOlDr8PemE5hUTVMGZrLD7G) ] Easy Theory's Context-Free Grammars (CFGs)\n",
    "* [ [y](https://www.youtube.com/watch?v=x2J5kaf6gjg) ] `07-19-2021`. \"Pumping Lemma for Regular Languages TWENTY Examples and Proof Strategies!\".\n",
    "* [ [y](https://www.youtube.com/watch?v=bK8LVFWA0L8) ] `11-11-2020`. \"Regular Languages in 4 Hours (DFA, NFA, Regex, Pumping Lemma, all conversions)\".\n",
    "\n",
    "Nerd's Lesson\n",
    "* [ [y](https://www.youtube.com/watch?v=14RLvkzbHFc) ] `02-27-2022`. \"Theory of Computation and Automata Theory ( Full Course )\".\n",
    "\n",
    "P vs NP\n",
    "* [ [y](https://www.youtube.com/watch?v=414LRzIA9Tw) ] `05-16-2016`. Institute for Advanced Study. \"The \"P vs. NP\" Problem: Efficient Computation....Knowledge\" - Avi Wigderson\".\n",
    "* [ [y](https://www.youtube.com/watch?v=XDTOs8MgQfg) ] `01-04-2020`. Lex Fridman. \"Donald Knuth: P=NP | AI Podcast Clips\".\n",
    "* [ [y](https://www.youtube.com/watch?v=pQsdygaYcE4) ] `12-01-2023`. Quanta Magazine. \"P vs. NP: The Biggest Puzzle in Computer Science\".\n",
    "\n",
    "More\n",
    "* [ [y](https://www.youtube.com/watch?v=Kk2MH9O4pXY) ] `10-05-2020`. Alan Zucconi. \"Let’s BUILD a COMPUTER in CONWAY's GAME of LIFE ⠠⠵\".\n",
    "* [ [y](https://www.youtube.com/watch?v=6AgkTdQXFTY) ] `10-09-2023`. Freethink. \"Analog computing will take over 30 billion devices by 2040. Wtf does that mean? | Hard Reset\".\n",
    "* [ [y](https://www.youtube.com/watch?v=Mdh2pLwsK8Y) ] `11-05-2023`. Projections. \"OPTICAL COMPUTING with PLASMA: Stanford PhD Defense\".\n",
    "* [ [y](https://www.youtube.com/watch?v=iZuhWo0Nv7o) ] `2012`. Talks at Google. \"Think Complexity | Allen B. Downey | Talks at Google\"."
   ]
  },
  {
   "cell_type": "markdown",
   "metadata": {},
   "source": [
    "Online\n",
    "* [teach yourself computer science](https://teachyourselfcs.com/)\n",
    "* [ [h](https://simons.berkeley.edu) ][ [y](https://www.youtube.com/user/SimonsInstitute) ] The Simons Institute for the Theory of Computing\n",
    "* [ [p](https://interestingengineering.com/time-complexity-why-some-algorithms-run-for-billions-of-years) ] \"Time Complexity: Why Some Algorithms Run for Billions of Years\".\n",
    "* [ [p](https://www.khanacademy.org/computing/computer-science/algorithms) ] Khan Academy's Intro to Algorithms"
   ]
  },
  {
   "cell_type": "markdown",
   "metadata": {},
   "source": [
    "---"
   ]
  },
  {
   "cell_type": "markdown",
   "metadata": {},
   "source": [
    "## Texts"
   ]
  },
  {
   "cell_type": "markdown",
   "metadata": {},
   "source": [
    "* Bernhardt, Chris. (2017). _Turing's Vision: The Birth of Computer Science_. MIT Press.\n",
    "* [ [w](https://en.wikipedia.org/wiki/The_Turing_Guide) ] Copeland, Jack et al. _The Turing Guide_. Oxford University Press.\n",
    "* [ [h](https://greenteapress.com/wp/think-complexity-2e/) ][ [g](https://github.com/AllenDowney/ThinkComplexity2) ]  Downey, Allen B. (2018). _Think Complexity: Complexity Science and Computational Modeling_. 2nd Ed. O'Reilly.\n",
    "* [ [h](https://www7.in.tum.de/~esparza/automatanotes.html) ] Esparza, Javier & Michael Blondin. (2023). _Automata Theory: An Algorithmic Approach_. [MIT Press](https://mitpress.mit.edu/9780262048637/automata-theory/).\n",
    "* Feynman, Richard P. (1996). _Feynman Lectures on Computation_. CRC Press.\n",
    "* [ [h](https://joshua.smcvt.edu/computation) ][ [g](https://gitlab.com/jim.hefferon/toc) ] Hefferon, Jim. _Theory of Computation: Making Connections_.\n",
    "* [ [h](https://whatcanbecomputed.com) ] MacCormick, John. (2018). _What Can Be Computed?: A Practical Guide to the Theory of Computation_. Princeton University Press.\n",
    "* Mainzer, Klaus. (2017). _The Digital and the Real World: Computational Foundations of Mathematics, Science, Technology, and Philosophy_. World Scientific.\n",
    "* Mainzer, Klaus & Leon Chua. (2012). _The Universe as Automaton: From Simplicity and Symmetry to Complexity_. Springer Briefs in Complexity.\n",
    "* Mainzer, Klaus. (2007). _Thinking in Complexity: The Computational Dynamics of Matter, Mind, and Mankind_. Springer.\n",
    "* [ [h](https://www.nature-of-computation.org/) ] Moore, Christopher. (2011). _The Nature of Computation_. [Oxford University Press](https://global.oup.com/academic/product/the-nature-of-computation-9780199233212).\n",
    "* [ [w](https://en.wikipedia.org/wiki/The_Emperor%27s_New_Mind) ] Penrose, Roger. (1989). _The Emperor's New Mind: Concerning Computers, Minds, and the Laws of Physics_. Oxford University Press.\n",
    "* [ [h](https://aima.cs.berkeley.edu/) ][ [g](https://github.com/aimacode) ] Russell, Stuart & Peter Norvig. (2020). _Artificial Intelligence: A Modern Appraoch_. 4th Ed. Pearson.\n",
    "* [ [h](https://cs.brown.edu/people/jsavage/book/) ] Savage, John E. (1998). _Models of Computation: Exploring the Power of Computing_. Addison-Wesley.\n",
    "* Stuart, Tom. (2013). _Understanding Computation: From Simple Mechanics to Impossible Programs_. O'Reilly.\n",
    "* Von Neumann, John. (1966). _Theory of Self-Reproducing Automata_. Arthur Burks (ed.). University of Illinois Press.\n",
    "\n",
    "[ [w](https://en.wikipedia.org/wiki/List_of_important_publications_in_computer_science) ] a list of noteworthy publications in computer science"
   ]
  },
  {
   "cell_type": "markdown",
   "metadata": {},
   "source": [
    "---"
   ]
  },
  {
   "cell_type": "markdown",
   "metadata": {},
   "source": [
    "## Terms"
   ]
  },
  {
   "cell_type": "markdown",
   "metadata": {},
   "source": [
    "* [ w ][ [sep](https://plato.stanford.edu/entries/cellular-automata/supplement.html) ] 256 Rules\n",
    "* [ [w](https://en.wikipedia.org/wiki/Algorithm) ] Algorithm\n",
    "* [ [w](https://en.wikipedia.org/wiki/Algorithmic_learning_theory) ] Algorithmic Learning Theory\n",
    "* [ [w](https://en.wikipedia.org/wiki/Analytical_engine) ] Analytical Engine\n",
    "* [ [w](https://en.wikipedia.org/wiki/Animism) ] Animism\n",
    "* [ [w](https://en.wikipedia.org/wiki/Artificial_consciousness) ] Artificial Consciousness\n",
    "* [ [w](https://en.wikipedia.org/wiki/Artificial_general_intelligence) ] AG Artificial General Intelligence\n",
    "* [ [w](https://en.wikipedia.org/wiki/Artificial_intelligence) ] AI Artificial Intelligence\n",
    "* [ [w](https://en.wikipedia.org/wiki/Artificial_life) ] Artificial Life\n",
    "* [ [w](https://en.wikipedia.org/wiki/Automata_theory) ] Automata Theory\n",
    "* [ [w](https://en.wikipedia.org/wiki/Automaton) ] Automaton\n",
    "* [ [w](https://en.wikipedia.org/wiki/BlooP_and_FlooP) ] BlooP and FlooP\n",
    "* [ [w](https://en.wikipedia.org/wiki/Boolean_circuit) ] Boolean Circuit\n",
    "* [ [w](https://en.wikipedia.org/wiki/Boolean_function) ] Boolean Function\n",
    "* [ [w](https://en.wikipedia.org/wiki/Cantor%27s_diagonal_argument) ] Cantor's Diagonal Argument\n",
    "* [ [w](https://en.wikipedia.org/wiki/Cellular_automaton) ][ [sep](https://plato.stanford.edu/entries/cellular-automata/index.html) ] Cellular Automaton\n",
    "* [ [w](https://en.wikipedia.org/wiki/Chinese_room) ] Chinese Room\n",
    "* [ w ][ [sep](https://plato.stanford.edu/entries/church-turing/) ] Church-Turing Thesis\n",
    "* [ [w](https://en.wikipedia.org/wiki/Circuit_(computer_science)) ] Circuit\n",
    "* [ [w](https://en.wikipedia.org/wiki/Circuit_complexity) ] Circuit Complexity\n",
    "* [ [w](https://en.wikipedia.org/wiki/Cognition) ] Cognition\n",
    "* [ [w](https://en.wikipedia.org/wiki/Combinational_logic) ] Combinational Logic\n",
    "* [ w ] Complex System\n",
    "* [ w ][ [sep](https://plato.stanford.edu/entries/computability/) ] Computability and Complexity\n",
    "* [ [w](https://en.wikipedia.org/wiki/Computability_theory) ] Computability Theory\n",
    "* [ [w](https://en.wikipedia.org/wiki/Computational_complexity_theory) ][ [sep](https://plato.stanford.edu/entries/computational-complexity/) ] Computational Complexity Theory\n",
    "* [ [w](https://en.wikipedia.org/wiki/Computational_learning_theory) ] Computational Learning Theory\n",
    "* [ [w](https://en.wikipedia.org/wiki/Computer_algebra) ] Computer Algebra\n",
    "* [ [w](https://en.wikipedia.org/wiki/Consciousness) ] Consciousness\n",
    "* [ [w](https://en.wikipedia.org/wiki/Conway%27s_Game_of_Life) ] Conway's Game of Life\n",
    "* [ [w](https://en.wikipedia.org/wiki/Machine_that_always_halts) ] Decider\n",
    "* [ [w](https://en.wikipedia.org/wiki/Decision_problem) ] Decision Problem\n",
    "* [ [w](https://en.wikipedia.org/wiki/Difference_engine) ] Difference Engine\n",
    "* [ [w](https://en.wikipedia.org/wiki/Electromechanics) ] Electromechanics\n",
    "* [ [w](https://en.wikipedia.org/wiki/Embodied_cognition) ][ [sep](https://plato.stanford.edu/entries/embodied-cognition/) ] Embodied Cognition\n",
    "* [ w ] Emergentism\n",
    "* [ [w](https://en.wikipedia.org/wiki/Finite-state_machine) ] FSA Finite-State Automaton\n",
    "* [ [w](https://en.wikipedia.org/wiki/Finite-state_machine) ] FSM Finite-State Machine\n",
    "* [ [w](https://en.wikipedia.org/wiki/Greenberg–Hastings_cellular_automaton) ] Greenberg-Hastings Cellular Automaton\n",
    "* [ [w](https://en.wikipedia.org/wiki/Halting_problem) ] Halting Problem\n",
    "* [ [w](https://en.wikipedia.org/wiki/Hard_problem_of_consciousness) ] Hard Problem of Consciousness\n",
    "* [ [w](https://en.wikipedia.org/wiki/Idealism) ][ [sep](https://plato.stanford.edu/entries/idealism/) ] Idealism\n",
    "* [ [w](https://en.wikipedia.org/wiki/Introspection) ] Introspection\n",
    "* [ [w](https://en.wikipedia.org/wiki/Jacquard_machine) ] Jacquard Machine\n",
    "* [ [w](https://en.wikipedia.org/wiki/Knowledge_representation_and_reasoning) ] Knowledge Representation and Reasoning\n",
    "* [ [w](https://en.wikipedia.org/wiki/Lambda_calculus) ] Lambda Calculus\n",
    "* [ [w](https://en.wikipedia.org/wiki/Machine_learning) ] Machine Learning\n",
    "* [ [w](https://en.wikipedia.org/wiki/Mechanical_calculator) ] Mechanical Calculator\n",
    "* [ [w](https://en.wikipedia.org/wiki/Mechanical_computer) ] Mechanical Computer\n",
    "* [ [w](https://en.wikipedia.org/wiki/Mental_representation) ] Mental Representation\n",
    "* [ [w](https://en.wikipedia.org/wiki/Metacognition) ] Metacognition\n",
    "* [ [w](https://en.wikipedia.org/wiki/Mind) ] Mind\n",
    "* [ [w](https://en.wikipedia.org/wiki/Mind–body_dualism) ] Mind-Body Dualism\n",
    "* [ [w](https://en.wikipedia.org/wiki/Mind–body_problem) ] Mind-Body Problem\n",
    "* [ [w](https://en.wikipedia.org/wiki/Model_of_computation) ] Model of Computation\n",
    "* [ [w](https://en.wikipedia.org/wiki/Noumenon) ] Noumenon\n",
    "* [ [w](https://en.wikipedia.org/wiki/NP-completeness) ] NP Completeness\n",
    "* [ [w](https://en.wikipedia.org/wiki/Panpsychism) ] Panpsychism\n",
    "* [ [w](https://en.wikipedia.org/wiki/Perception) ] Perception\n",
    "* [ [w](https://en.wikipedia.org/wiki/Phenomenology_(philosophy)) ] Phenomenology\n",
    "* [ [w](https://en.wikipedia.org/wiki/Phenomenon) ] Phenomenon\n",
    "* [ [w](https://en.wikipedia.org/wiki/Philosophy_of_artificial_intelligence) ] Philosophy of Artificial Intelligence\n",
    "* [ w ][ [sep](https://plato.stanford.edu/entries/computer-science/) ] Philosophy of Computer Science\n",
    "* [ [w](https://en.wikipedia.org/wiki/Philosophy_of_mind) ] Philosophy of Mind\n",
    "* [ w ][ [sep](https://plato.stanford.edu/entries/technology/) ] Philosophy of Technology\n",
    "* [ [w](https://en.wikipedia.org/wiki/Pushdown_automaton) ] Pushdown Automaton\n",
    "* [ [w](https://en.wikipedia.org/wiki/Qualia) ] Qualia\n",
    "* [ [w](https://en.wikipedia.org/wiki/Quine_(computing)) ] Quine\n",
    "* [ [w](https://en.wikipedia.org/wiki/Computability_theory) ] Recursion Theory\n",
    "* [ w ] Reductionism\n",
    "* [ [w](https://en.wikipedia.org/wiki/Recursive_language) ] Recursive Language\n",
    "* [ [w](https://en.wikipedia.org/wiki/Richardson%27s_theorem) ] Richardson's Theorem\n",
    "* [ [w](https://en.wikipedia.org/wiki/Wisdom#Sapience) ] Sapience\n",
    "* [ [w](https://en.wikipedia.org/wiki/Sentience) ] Sentience\n",
    "* [ [w](https://en.wikipedia.org/wiki/Sequential_logic) ] Sequential Logic\n",
    "* [ [w](https://en.wikipedia.org/wiki/Space_complexity) ] Space Complexity\n",
    "* [ [w](https://en.wikipedia.org/wiki/Stack_machine) ] Stack Machine\n",
    "* [ [w](https://en.wikipedia.org/wiki/State_(computer_science)) ] State\n",
    "* [ [w](https://en.wikipedia.org/wiki/Finite-state_machine) ] State Machine\n",
    "* [ [w](https://en.wikipedia.org/wiki/Statistical_learning_theory) ] Statistical Learning Theory\n",
    "* [ [w](https://en.wikipedia.org/wiki/Stream_of_consciousness_(psychology)) ] Stream of Consciousness\n",
    "* [ [w](https://en.wikipedia.org/wiki/Superintelligence) ] Superintelligence\n",
    "* [ [w](https://en.wikipedia.org/wiki/Tessellation) ] Tessellation\n",
    "* [ [w](https://en.wikipedia.org/wiki/Theoretical_computer_science) ] Theoretical Computer Science\n",
    "* [ [w](https://en.wikipedia.org/wiki/Theory_of_computation) ] Theory of Computation\n",
    "* [ [w](https://en.wikipedia.org/wiki/Thing-in-itself) ] Thing-in-itself\n",
    "* [ [w](https://en.wikipedia.org/wiki/Machine_that_always_halts) ] Total TM Turing Machine\n",
    "* [ [w](https://en.wikipedia.org/wiki/Turing_completeness) ] Turing Completeness\n",
    "* [ w ][ [sep](https://plato.stanford.edu/entries/turing-machine/) ] Turing Machine\n",
    "* [ [w](https://en.wikipedia.org/wiki/Turing_test) ] Turing Test\n",
    "* [ [w](https://en.wikipedia.org/wiki/Undecidable_problem) ] Undecidable Problem\n",
    "* [ [w](https://en.wikipedia.org/wiki/Universal_Turing_machine) ] Universal Turing Machine\n",
    "* [ [w](https://en.wikipedia.org/wiki/Von_Neumann_universal_constructor) ] Von Neumann Universal Constructor\n",
    "* [ [w](https://en.wikipedia.org/wiki/Weak_AI) ] Weak AI"
   ]
  },
  {
   "cell_type": "markdown",
   "metadata": {},
   "source": [
    "---"
   ]
  },
  {
   "cell_type": "markdown",
   "metadata": {},
   "source": [
    "## Notes"
   ]
  },
  {
   "cell_type": "markdown",
   "metadata": {},
   "source": [
    "### Quotes"
   ]
  },
  {
   "cell_type": "markdown",
   "metadata": {},
   "source": [
    "Edsger Dijkstra\n",
    "* \"The question of whether Machines Can Think...is about as relevant as the question of whether Submarines Can Swim.\" _The threats to computing science_ (1984)\n",
    "\n",
    "Bernardo Kastrup\n",
    "* \"A computer is a silicon device...that does not metabolize, it's something completely different. So it's entirely arbitrary to project our own conscious inner life on a computer. It does not have any tenable empirical basis. Can I with certainty discard that hypothesis that a computer can become conscious in and of itself? I cannot. But I cannot with certainty discard the hypothesis that there is a teapot in the orbit of Saturn. I cannot discard with certainty the hypothesis of the flying spaghetti monster. There are a great many things that are nonsensical and that I cannot with certainty refute. That's not the important question. The important question is what do we have reasons to belive. Do we have reasons to believe that a silicon computer is conscious in and of itself? I would say none. Computers simulate consciousness. But you see, I can simulate kidney function on my computer right now accurately down to the molecular level. That doesn't mean my computer will pee on my desk because a simulation is not the thing simulated. So when people say if I simulate human intelligence in a computer then the computer is conscious, what you are saying is that if you simulate kidney function then the computer will pee on your desk. It's just...arbitrary and frankly absurd.\" Russell Brand. (July 26, 2022). \"Hang On, Could AI Do THIS?!\". [YouTube](https://www.youtube.com/watch?v=F8lNC9n-YAc)."
   ]
  },
  {
   "cell_type": "markdown",
   "metadata": {},
   "source": [
    "---"
   ]
  }
 ],
 "metadata": {
  "language_info": {
   "name": "python"
  },
  "orig_nbformat": 4
 },
 "nbformat": 4,
 "nbformat_minor": 2
}
