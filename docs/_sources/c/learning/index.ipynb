{
 "cells": [
  {
   "cell_type": "markdown",
   "metadata": {},
   "source": [
    "# Artificial Intelligence"
   ]
  },
  {
   "cell_type": "markdown",
   "metadata": {},
   "source": [
    "---"
   ]
  },
  {
   "cell_type": "markdown",
   "metadata": {},
   "source": [
    "## Table of Contents\n",
    "```{contents}\n",
    "```"
   ]
  },
  {
   "cell_type": "markdown",
   "metadata": {},
   "source": [
    "---"
   ]
  },
  {
   "cell_type": "markdown",
   "metadata": {},
   "source": [
    "## Sections"
   ]
  },
  {
   "cell_type": "markdown",
   "metadata": {},
   "source": [
    "```{tableofcontents}\n",
    "```"
   ]
  },
  {
   "cell_type": "markdown",
   "metadata": {},
   "source": [
    "---"
   ]
  },
  {
   "cell_type": "markdown",
   "metadata": {},
   "source": [
    "## Resources"
   ]
  },
  {
   "cell_type": "markdown",
   "metadata": {},
   "source": [
    "* [ [h](https://huggingface.co) ][ w ] Hugging Face\n",
    "* [ [h](https://numer.ai) ][ w ] Numerai\n",
    "* [ [h](https://openai.com) ][ [w](https://en.wikipedia.org/wiki/OpenAI) ] OpenAI\n",
    "  * [ [h](https://gym.openai.com) ][ [g](https://github.com/openai/gym) ] OpenAI Gym"
   ]
  },
  {
   "cell_type": "markdown",
   "metadata": {},
   "source": [
    "https://github.com/jonkrohn/ML-foundations"
   ]
  },
  {
   "cell_type": "markdown",
   "metadata": {},
   "source": [
    "### YouTube"
   ]
  },
  {
   "cell_type": "markdown",
   "metadata": {},
   "source": [
    "* [ [y](https://www.youtube.com/playlist?list=PLiiljHvN6z1_o1ztXTKWPrShrMrBLo5P3) ] `03-16-2020`. Digital Learning Hub - Imperial College London. \"Mathematics for Machine Learning - Linear Algebra\".\n",
    "* [ [y](https://www.youtube.com/watch?v=Q7vT0--5VII) ] `05-09-2022`. Visually Explained. \"The Kernel Trick in Support Vector Machine (SVM)\".\n",
    "* [ [y](https://www.youtube.com/watch?v=nOBm4aYEYR4) ] `11-25-2023`. Yannic Kilcher. \"What is Q-Learning (back to basics)\"."
   ]
  },
  {
   "cell_type": "markdown",
   "metadata": {},
   "source": [
    "Eli the Computer Guy\n",
    "* [ [y](https://www.youtube.com/watch?v=QRdxtO1PU3w) ] `01-25-2024`. \"Machine Learning with OpenAI API and Relational Database (OpenAI, Python, SQLite)\"."
   ]
  },
  {
   "cell_type": "markdown",
   "metadata": {},
   "source": [
    "freeCodeCamp\n",
    "* [ [y](https://www.youtube.com/watch?v=-dJPoLm_gtE) ] `12-04-2023`. \"MLOps Course - Build Machine Learning Production Grade Projects\"."
   ]
  },
  {
   "cell_type": "markdown",
   "metadata": {},
   "source": [
    "My Lesson\n",
    "* [ [y](https://www.youtube.com/watch?v=0z6AhrOSrRs) ] `08-09-2021`. \"Mathematics for Machine Learning Tutorial (3 Complete Courses in 1 video)\"."
   ]
  },
  {
   "cell_type": "markdown",
   "metadata": {},
   "source": [
    "Steve Bunton.\n",
    "* [ [y](https://www.youtube.com/watch?v=_56bfCu02ZE) ] `01-05-2024`. \"A Neural Network Primer\".\n",
    "* [ [y](https://www.youtube.com/watch?v=Vx2DpMgplEM) ] `12-29-2023`. \"A Machine Learning Primer: How to Build an ML Model\".\n",
    "* [ [y](https://www.youtube.com/watch?v=fkf4IBRSeEc) ] `01-27-2020`. \"Principal Component Analysis (PCA)\"."
   ]
  },
  {
   "cell_type": "markdown",
   "metadata": {},
   "source": [
    "more\n",
    "* [ [y](https://www.youtube.com/watch?v=SmZmBKc7Lrs) ] `03-31-2024`. Artem Kirsanov. \"The Most Important Algorithm in Machine Learning\".\n",
    "* [ [y](https://www.youtube.com/watch?v=Pwgpl9mKars) ] `07-04-2021`. Adian Liusie. \"Intuitively Understanding the Cross Entropy Loss\".\n",
    "* [ [y](https://www.youtube.com/watch?v=t0yj4hBDUsc) ] `08-11-2022`. Asianometry. \"Running Neural Networks on Meshes of Light\".\n",
    "* [ [y](https://www.youtube.com/watch?v=G_hIppUWcsc) ] `06-01-2023`. Jousef Murad LITE. \"Physics-Informed Neural Networks (PINNs) - An Introduction - Ben Moseley | The Science Circle\"."
   ]
  },
  {
   "cell_type": "markdown",
   "metadata": {},
   "source": [
    "online\n",
    "* https://towardsdatascience.com/the-math-behind-adam-optimizer-c41407efe59b"
   ]
  },
  {
   "cell_type": "markdown",
   "metadata": {},
   "source": [
    "---"
   ]
  },
  {
   "cell_type": "markdown",
   "metadata": {},
   "source": [
    "## Texts"
   ]
  },
  {
   "cell_type": "markdown",
   "metadata": {},
   "source": [
    "[ [h](http://aima.cs.berkeley.edu) ][ [w](https://en.wikipedia.org/wiki/Artificial_Intelligence:_A_Modern_Approach) ] Russell, Stuart & Peter Norvig. (2020). _Artificial Intelligence: A Modern Approach_. 4th Ed. Pearson.\n",
    "\n",
    "[ [h](https://www-users.cse.umn.edu/~kumar001/dmbook/index.php) ] Tan, Pang-Ning et al. (2017). _Introduction to Data Mining_. 2nd Ed. Pearson. [R code](https://mhahsler.github.io/Introduction_to_Data_Mining_R_Examples/book/index.html)."
   ]
  },
  {
   "cell_type": "markdown",
   "metadata": {},
   "source": [
    "* Nelson, Hala. (2022). _Essential Math for AI: Next-Level Mathematics for Developing Efficient and Successful AI Systems_. O'Reilly.\n",
    "* Nield, Thomas. (2022). _Essential Math for Data Science: Take Control of Your Data with Fundamental Linear Algebra, Probability, and Statistics_. O'Reilly.\n",
    "* [ [g](https://github.com/dvaughan79/analyticalskillsbook) ] Vaughan, Daniel. (2020). _Analytical Skills for AI and Data Science: Building Skills for an AI-Driven Enterprise_. O'Reilly.\n",
    "* Zhang, Xian-Da. (2020). _A Matrix Algebra Approach to Artificial Intelligence_. Springer.\n",
    "* [ [g](https://github.com/cxbxmxcx/Practical_AI_on_GCP) ] Lanham, Michael. (2020). _Practical AI on the Google Cloud Platform: Utilizing Google's State-of-the-Art AI Cloud Services_. O'Reilly.\n",
    "* Nielsen, Aileen. (2020). _Practical Fairness: Achieving Fair and Secure Data Models_. O'Reilly.\n",
    "* Thomas, Rob & Paul Zikopoulos. (2020). _The AI Ladder: Accelerate Your Journey to AI_. O'Reilly."
   ]
  },
  {
   "cell_type": "markdown",
   "metadata": {},
   "source": [
    "---"
   ]
  },
  {
   "cell_type": "markdown",
   "metadata": {},
   "source": [
    "## Figures"
   ]
  },
  {
   "cell_type": "markdown",
   "metadata": {},
   "source": [
    "* [ [w](https://en.wikipedia.org/wiki/Nick_Bostrom) ] Bostrom, Nick (1973-)\n",
    "* [ [w](https://en.wikipedia.org/wiki/Arthur_C._Clarke) ] Clarke, Arthur C. (1917-2008)\n",
    "* [ [w](https://en.wikipedia.org/wiki/Ben_Goertzel) ] Goertzel, Ben (1966-)\n",
    "* [ [w](https://en.wikipedia.org/wiki/Geoffrey_Hinton) ] Hinton, Geoffrey (1947-)\n",
    "* [ [w](https://en.wikipedia.org/wiki/Marcus_Hutter) ] Hutter, Marcus (1967-)\n",
    "* [ [w](https://en.wikipedia.org/wiki/Stanley_Kubrick) ] Kubrick, Stanley (1928-1999)\n",
    "* [ [w](https://en.wikipedia.org/wiki/Ray_Kurzweil) ] Kurzweil, Ray (1948-)\n",
    "* [ [w](https://en.wikipedia.org/wiki/Douglas_Lenat) ] Lenat, Douglas (1950-2023)\n",
    "* [ [w](https://en.wikipedia.org/wiki/John_McCarthy_(computer_scientist)) ] McCarthy, John (1927-2011)\n",
    "* [ [w](https://en.wikipedia.org/wiki/Marvin_Minsky) ] Minsky, Marvin (1927-2016)\n",
    "* [ [w](https://en.wikipedia.org/wiki/Hans_Moravec) ] Moravec, Hans (1948-)\n",
    "* [ [w](https://en.wikipedia.org/wiki/Allen_Newell) ] Newell, Allen (1927-1992)\n",
    "* [ [w](https://en.wikipedia.org/wiki/Andrew_Ng) ] Ng, Andrew (1976-)\n",
    "* [ [w](https://en.wikipedia.org/wiki/Peter_Norvig) ] Norvig, Peter (1956-)\n",
    "* [ [w](https://en.wikipedia.org/wiki/Stuart_J._Russell) ] Russell, Stuart (1962-)\n",
    "* [ [w](https://en.wikipedia.org/wiki/John_Searle) ] Searle, John (1932-)\n",
    "* [ [w](https://en.wikipedia.org/wiki/Herbert_A._Simon) ] Simon, Herbert (1916-2001)\n",
    "* [ [w](https://en.wikipedia.org/wiki/Alan_Turing) ] Turing, Alan (1912-1954)"
   ]
  },
  {
   "cell_type": "markdown",
   "metadata": {},
   "source": [
    "---"
   ]
  },
  {
   "cell_type": "markdown",
   "metadata": {},
   "source": [
    "## Terms"
   ]
  },
  {
   "cell_type": "markdown",
   "metadata": {},
   "source": [
    "* [ [w](https://en.wikipedia.org/wiki/AI_alignment) ] AI Alignment\n",
    "* [ [w](https://en.wikipedia.org/wiki/AI-complete) ] AI Completeness\n",
    "* [ [w](https://en.wikipedia.org/wiki/History_of_artificial_intelligence) ] AI History\n",
    "* [ [w](https://en.wikipedia.org/wiki/Progress_in_artificial_intelligence) ] AI Progress\n",
    "* [ [w](https://en.wikipedia.org/wiki/Timeline_of_artificial_intelligence) ] AI Timeline\n",
    "* [ [w](https://en.wikipedia.org/wiki/AI_winter) ][ [i](https://www.investopedia.com/terms/a/ai-winter.asp) ] AI Winter\n",
    "* [ [w](https://en.wikipedia.org/wiki/AIXI) ] AIXI\n",
    "* [ [w](https://en.wikipedia.org/wiki/Artificial_consciousness) ] Artificial Consciousness (AC)\n",
    "* [ [w](https://en.wikipedia.org/wiki/Artificial_intelligence) ][ [s](https://plato.stanford.edu/entries/artificial-intelligence/) ][ [i](https://www.investopedia.com/terms/a/artificial-intelligence-ai.asp) ] Artificial Intelligence (AI)\n",
    "* [ [w](https://en.wikipedia.org/wiki/Artificial_general_intelligence) ] Artificial General Intelligence (AGI)\n",
    "* [ [w](https://en.wikipedia.org/wiki/Automated_reasoning) ] Automated Reasoning\n",
    "* [ [w](https://en.wikipedia.org/wiki/Chinese_room) ] Chinese Room\n",
    "* [ w ] Computational Graph\n",
    "* [ [w](https://en.wikipedia.org/wiki/Computational_learning_theory) ] Computational Learning Theory\n",
    "* [ [w](https://en.wikipedia.org/wiki/Connectionism) ] Connectionism\n",
    "* [ [w](https://en.wikipedia.org/wiki/Cyc) ] Cyc\n",
    "* [ w ][ [i](https://www.investopedia.com/terms/d/datamining.asp) ] Data Mining\n",
    "* [ [w](https://en.wikipedia.org/wiki/Google_DeepMind) ] DeepMind (Google)\n",
    "* [ [w](https://en.wikipedia.org/wiki/Expert_system) ] Expert System\n",
    "* [ [w](https://en.wikipedia.org/wiki/General_game_playing) ] General Game Playing (GGP)\n",
    "* [ [w](https://en.wikipedia.org/wiki/Hard_problem_of_consciousness) ] Hard Problem of Consciousness\n",
    "* [ [w](https://en.wikipedia.org/wiki/Inference_engine) ] Inference Engine\n",
    "* [ [w](https://en.wikipedia.org/wiki/Intelligence) ] Intelligence\n",
    "* [ [w](https://en.wikipedia.org/wiki/Intelligent_agent) ] Intelligent Agent\n",
    "* [ [w](https://en.wikipedia.org/wiki/Knowledge_base) ] Knowledge Base (KB)\n",
    "* [ w ][ [i](https://www.investopedia.com/terms/k/knowledge-engineering.asp) ] Knowledge Engineering\n",
    "* [ [w](https://en.wikipedia.org/wiki/Knowledge_representation_and_reasoning) ] Knowledge Representation and Reasoning (KRR)\n",
    "* [ [w](https://en.wikipedia.org/wiki/Large_language_model) ] Large Language Model (LLM)\n",
    "* [ w ][ [s](https://plato.stanford.edu/entries/logic-ai/) ] Logic-based AI\n",
    "* [ [w](https://en.wikipedia.org/wiki/Neural_Turing_machine) ] Neural Turing Machine (NTM)\n",
    "* [ [w](https://en.wikipedia.org/wiki/Neuroinformatics) ] Neuroinformatics\n",
    "* [ [w](https://en.wikipedia.org/wiki/Ontology_(information_science)) ] Ontology\n",
    "* [ [w](https://en.wikipedia.org/wiki/Philosophy_of_artificial_intelligence) ] Philosophy of Artificial Intelligence\n",
    "* [ [w](https://en.wikipedia.org/wiki/Reinforcement_learning) ] Reinforcement Learning (RL)\n",
    "* [ [w](https://en.wikipedia.org/wiki/Soar_(cognitive_architecture)) ] Soar\n",
    "* [ w ][ [i](https://www.investopedia.com/terms/s/strong-ai.asp) ] Strong AI\n",
    "* [ [w](https://en.wikipedia.org/wiki/Superintelligence) ] Superintelligence\n",
    "* [ [w](https://en.wikipedia.org/wiki/Symbolic_artificial_intelligence) ] Symbolic AI\n",
    "* [ [w](https://en.wikipedia.org/wiki/Symbol_grounding_problem) ] Symbol Grounding Problem\n",
    "* [ [w](https://en.wikipedia.org/wiki/Turing_test) ][ [s](https://plato.stanford.edu/entries/turing-test/) ][ [i](https://www.investopedia.com/terms/t/turing-test.asp) ] Turing Test\n",
    "* [ w ][ [i](https://www.investopedia.com/terms/w/weak-ai.asp) ] Weak AI\n",
    "* [ [w](https://en.wikipedia.org/wiki/Mind_uploading) ] Whole Brain Emulation"
   ]
  },
  {
   "cell_type": "markdown",
   "metadata": {},
   "source": [
    "* [ [w](https://en.wikipedia.org/wiki/Depth-first_search) ] Depth-First Search (DFS)"
   ]
  },
  {
   "cell_type": "markdown",
   "metadata": {},
   "source": [
    "* [ [w](https://en.wikipedia.org/wiki/Evolutionary_algorithm) ] Evolutionary Algorithm (EA)\n",
    "* [ [w](https://en.wikipedia.org/wiki/Evolutionary_computation) ] Evolutionary Computation\n",
    "* [ [w](https://en.wikipedia.org/wiki/Genetic_algorithm) ] Genetic Algorithm (GA)"
   ]
  },
  {
   "cell_type": "markdown",
   "metadata": {},
   "source": [
    "---"
   ]
  }
 ],
 "metadata": {
  "kernelspec": {
   "display_name": "Python 3 (ipykernel)",
   "language": "python",
   "name": "python3"
  },
  "language_info": {
   "codemirror_mode": {
    "name": "ipython",
    "version": 3
   },
   "file_extension": ".py",
   "mimetype": "text/x-python",
   "name": "python",
   "nbconvert_exporter": "python",
   "pygments_lexer": "ipython3",
   "version": "3.11.5"
  }
 },
 "nbformat": 4,
 "nbformat_minor": 4
}
