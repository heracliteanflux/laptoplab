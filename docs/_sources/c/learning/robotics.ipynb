{
 "cells": [
  {
   "attachments": {},
   "cell_type": "markdown",
   "metadata": {},
   "source": [
    "# Robotics"
   ]
  },
  {
   "attachments": {},
   "cell_type": "markdown",
   "metadata": {},
   "source": [
    "---"
   ]
  },
  {
   "cell_type": "markdown",
   "metadata": {},
   "source": [
    "## Table of Contents\n",
    "```{contents}\n",
    "```"
   ]
  },
  {
   "attachments": {},
   "cell_type": "markdown",
   "metadata": {},
   "source": [
    "---"
   ]
  },
  {
   "cell_type": "markdown",
   "metadata": {},
   "source": [
    "## Resources"
   ]
  },
  {
   "cell_type": "markdown",
   "metadata": {},
   "source": [
    "* [ [y](https://www.youtube.com/watch?v=GZQkwx10p-8) ] `03-14-2022`. freeCodeCamp. \"Advanced OpenGL Tutorial – Skeletal Animations with Assimp\".\n",
    "* [ [y](https://www.youtube.com/watch?v=L3cdMDIJqWs) ] `12-16-2023`. Stanford Online. \"Stanford Seminar - Foundations of Spatial Perception for Robotics\"."
   ]
  },
  {
   "cell_type": "markdown",
   "metadata": {},
   "source": [
    "---"
   ]
  },
  {
   "cell_type": "markdown",
   "metadata": {},
   "source": [
    "## Figures"
   ]
  },
  {
   "cell_type": "markdown",
   "metadata": {},
   "source": [
    "* [ [w](https://en.wikipedia.org/wiki/Isaac_Asimov) ] Asimov, Isaac (1920-1992)\n",
    "* [ [w](https://en.wikipedia.org/wiki/Karel_%C4%8Capek) ] Čapek, Karel (1890-1938)\n",
    "* [ [w](https://en.wikipedia.org/wiki/Leonardo_da_Vinci) ] Da Vinci, Leonardo (1452-1519)\n",
    "* [ [w](https://en.wikipedia.org/wiki/Jacques_de_Vaucanson) ] De Vaucanson, Jacques (1709-1782)\n",
    "* [ [w](https://en.wikipedia.org/wiki/Nikola_Tesla) ] Tesla, Nikola (1856-1943)\n",
    "* [ [w](https://en.wikipedia.org/wiki/Leonardo_Torres_Quevedo) ] Torres Quevado, Leonardo (1852-1936)\n",
    "* [ [w](https://en.wikipedia.org/wiki/Norbert_Wiener) ] Wiener, Norbert (1894-1964)\n",
    "* [ [w](https://en.wikipedia.org/wiki/Alan_Winfield) ] Winfield, Alan (1956-)"
   ]
  },
  {
   "cell_type": "markdown",
   "metadata": {},
   "source": [
    "---"
   ]
  },
  {
   "attachments": {},
   "cell_type": "markdown",
   "metadata": {},
   "source": [
    "## Terms"
   ]
  },
  {
   "attachments": {},
   "cell_type": "markdown",
   "metadata": {},
   "source": [
    "* [ [w](https://en.wikipedia.org/wiki/Actuator) ] Actuator\n",
    "* [ [w](https://en.wikipedia.org/wiki/Android_(robot)) ] Android\n",
    "* [ [w](https://en.wikipedia.org/wiki/Automaton) ] Automaton\n",
    "* [ [w](https://en.wikipedia.org/wiki/Bio-inspired_robotics) ] Bio-Inspired Robotics\n",
    "* [ [w](https://en.wikipedia.org/wiki/Biomimetics) ] Biomimetics\n",
    "* [ [w](https://en.wikipedia.org/wiki/Bionics) ] Bionics\n",
    "* [ [w](https://en.wikipedia.org/wiki/Body_schema) ] Body Schema\n",
    "* [ [w](https://en.wikipedia.org/wiki/Carbon_nanotube) ] Carbon Nanotube\n",
    "* [ [w](https://en.wikipedia.org/wiki/Computer_vision) ] Computer Vision\n",
    "* [ [w](https://en.wikipedia.org/wiki/Context_awareness) ] Context Awareness\n",
    "* [ [w](https://en.wikipedia.org/wiki/Cybernetics) ] Cybernetics\n",
    "* [ [w](https://en.wikipedia.org/wiki/Digesting_Duck) ] Digesting Duck\n",
    "* [ [w](https://en.wikipedia.org/wiki/Unmanned_aerial_vehicle) ] Drone\n",
    "* [ [w](https://en.wikipedia.org/wiki/Robot_end_effector) ] End Effector\n",
    "* [ [w](https://en.wikipedia.org/wiki/Humanoid_robot) ] Humanoid Robot\n",
    "* [ [w](https://en.wikipedia.org/wiki/Industrial_robot) ] Industrial Robot\n",
    "* [ [w](https://en.wikipedia.org/wiki/Kinematics) ] Kinematics\n",
    "* [ [w](https://en.wikipedia.org/wiki/Leonardo%27s_robot) ] Leonardo's Robot\n",
    "* [ [w](https://en.wikipedia.org/wiki/Linear_actuator) ] Linear Actuator\n",
    "* [ [w](https://en.wikipedia.org/wiki/Mobile_robot) ] Mobile Robot\n",
    "* [ [w](https://en.wikipedia.org/wiki/Nanorobotics) ] Nanorobotics\n",
    "* [ [w](https://en.wikipedia.org/wiki/Proprioception) ] Proprioception\n",
    "* [ [w](https://en.wikipedia.org/wiki/Robonaut) ] Robonaut\n",
    "* [ [w](https://en.wikipedia.org/wiki/History_of_robots) ] Robot History\n",
    "* [ [w](https://en.wikipedia.org/wiki/Robot_locomotion) ] Robot Locomotion\n",
    "* [ [w](https://en.wikipedia.org/wiki/Robotic_process_automation) ] Robotic Process Automation (RPA)\n",
    "* [ [w](https://en.wikipedia.org/wiki/Robotic_sensing) ] Robotic Sensing\n",
    "* [ [w](https://en.wikipedia.org/wiki/Robotic_sensors) ] Robotic Sensors\n",
    "* [ [w](https://en.wikipedia.org/wiki/Robotics) ] Robotics\n",
    "* [ [w](https://en.wikipedia.org/wiki/R.U.R.) ] _Rossum's Universal Robots (R.U.R.)_\n",
    "* [ [w](https://en.wikipedia.org/wiki/Sensory-motor_map) ] Sensory-Motor Map\n",
    "* [ [w](https://en.wikipedia.org/wiki/Shadow_Hand) ] Shadow Hand\n",
    "* [ [w](https://en.wikipedia.org/wiki/Spatial_contextual_awareness) ] Spatial Contextual Awareness\n",
    "* [ [w](https://en.wikipedia.org/wiki/Three_Laws_of_Robotics) ] Three Laws of Robotics\n",
    "* [ [w](https://en.wikipedia.org/wiki/Unimate) ] Unimate\n",
    "* [ [w](https://en.wikipedia.org/wiki/Unmanned_aerial_vehicle) ] Unmanned Aerial Vehicle (UAV)"
   ]
  },
  {
   "attachments": {},
   "cell_type": "markdown",
   "metadata": {},
   "source": [
    "---"
   ]
  }
 ],
 "metadata": {
  "language_info": {
   "name": "python"
  },
  "orig_nbformat": 4
 },
 "nbformat": 4,
 "nbformat_minor": 2
}
