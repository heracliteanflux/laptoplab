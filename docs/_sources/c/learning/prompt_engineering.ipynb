{
 "cells": [
  {
   "attachments": {},
   "cell_type": "markdown",
   "metadata": {},
   "source": [
    "# Prompt Engineering"
   ]
  },
  {
   "attachments": {},
   "cell_type": "markdown",
   "metadata": {},
   "source": [
    "---"
   ]
  },
  {
   "attachments": {},
   "cell_type": "markdown",
   "metadata": {},
   "source": [
    "## Table of Contents\n",
    "```{contents}\n",
    "```"
   ]
  },
  {
   "attachments": {},
   "cell_type": "markdown",
   "metadata": {},
   "source": [
    "---"
   ]
  },
  {
   "attachments": {},
   "cell_type": "markdown",
   "metadata": {},
   "source": [
    "## Resources"
   ]
  },
  {
   "attachments": {},
   "cell_type": "markdown",
   "metadata": {},
   "source": [
    "[[Home](https://openai.com/)] OpenAI\n",
    "* Docs\n",
    "  * [[D](https://platform.openai.com/docs/guides/embeddings)] Embeddings\n",
    "* Blog\n",
    "  * [[B](https://openai.com/blog/chatgpt)] \"Introducing ChatGPT\".\n",
    "  * [[B](https://openai.com/blog/introducing-text-and-code-embeddings)] \"Introducing text and code embeddings\".\n",
    "\n",
    "[[RealPython](https://realpython.com/chatgpt-coding-mentor-python/)] Breuss, Martin. (17 may 2023). \"ChatGPT: Your Personal Python Coding Mentor\". RealPython.\n",
    "\n",
    "[[Home](https://learnprompting.org/)] LearnPrompting\n",
    "* [[D](https://learnprompting.org/docs/basics/few_shot)] Few-Shot Prompting\n",
    "* [[D](https://learnprompting.org/docs/basics/roles)] Role Prompting\n",
    "* [[D](https://learnprompting.org/docs/intermediate/zero_shot_cot)] Zero-Shot Chain of Thought\n",
    "\n",
    "[[Docs](https://python.langchain.com/docs/get_started/introduction.html)] LangChain\n",
    "\n",
    "[ [h](https://openinterpreter.com/) ][ [g](https://github.com/KillianLucas/open-interpreter) ] Open Interpreter\n",
    "\n",
    "https://hackernoon.com/how-to-use-chatgpt-for-python-programming\n",
    "\n",
    "https://www.geeksforgeeks.org/how-to-use-chatgpt-api-in-python/"
   ]
  },
  {
   "cell_type": "markdown",
   "metadata": {},
   "source": [
    "* [ [y](https://www.youtube.com/watch?v=uRQH2CFvedY) ] `04-19-2023`. freeCodeCamp. \"ChatGPT Course - Use The OpenAI API to Code 5 Projects\"."
   ]
  },
  {
   "attachments": {},
   "cell_type": "markdown",
   "metadata": {},
   "source": [
    "---"
   ]
  },
  {
   "attachments": {},
   "cell_type": "markdown",
   "metadata": {},
   "source": [
    "## Terms"
   ]
  },
  {
   "attachments": {},
   "cell_type": "markdown",
   "metadata": {},
   "source": [
    "* [[W](https://en.wikipedia.org/wiki/Hallucination_(artificial_intelligence))] Artificial Hallucination\n",
    "* [[W](https://en.wikipedia.org/wiki/Bard_(chatbot))] Bard\n",
    "* [[W](https://en.wikipedia.org/wiki/Chatbot)] Chatbot\n",
    "* [[W](https://en.wikipedia.org/wiki/List_of_chatbots)] chatbots\n",
    "* [[W](https://en.wikipedia.org/wiki/ChatGPT)] ChatGPT\n",
    "* [W] Conversational AI\n",
    "* [[W](https://en.wikipedia.org/wiki/Conversational_user_interface)] Conversational User Interface (CUI)\n",
    "* [[W](https://en.wikipedia.org/wiki/Fine-tuning_(deep_learning))] Fine Tuning\n",
    "* [[W](https://en.wikipedia.org/wiki/Generative_artificial_intelligence)] Generative AI\n",
    "* [[W](https://en.wikipedia.org/wiki/Generative_pre-trained_transformer)] Generative Pretrained Transformer (GPT)\n",
    "* [[W](https://en.wikipedia.org/wiki/Prompt_engineering)] In-Context Learning\n",
    "* [[W](https://en.wikipedia.org/wiki/LaMDA)] LaMDBA (Language Model for Dialogue Applications)\n",
    "* [[W](https://en.wikipedia.org/wiki/LangChain)] LangChain\n",
    "* [[W](https://en.wikipedia.org/wiki/Language_model)] Language Model\n",
    "* [[W](https://en.wikipedia.org/wiki/Large_language_model)] Large Language Model (LLM)\n",
    "* [W] Natural Language Interface\n",
    "* [[W](https://en.wikipedia.org/wiki/Natural_language_processing)] Natural Language Processing (NLP)\n",
    "* [[W](https://en.wikipedia.org/wiki/Natural-language_understanding)] Natural Language Understanding (NLU)\n",
    "* [[W](https://en.wikipedia.org/wiki/OpenAI)] OpenAI\n",
    "* [[W](https://en.wikipedia.org/wiki/Prompt_engineering)] Prompt Engineering\n",
    "* [[W](https://en.wikipedia.org/wiki/SWOT_analysis)] SWOT Analysis\n",
    "* [[W](https://en.wikipedia.org/wiki/Virtual_assistant)] Virtual Assistant\n",
    "* [[W](https://en.wikipedia.org/wiki/Word_embedding)] Word Embedding"
   ]
  },
  {
   "attachments": {},
   "cell_type": "markdown",
   "metadata": {},
   "source": [
    "---"
   ]
  },
  {
   "attachments": {},
   "cell_type": "markdown",
   "metadata": {},
   "source": [
    "## Notes on ChatGPT"
   ]
  },
  {
   "attachments": {},
   "cell_type": "markdown",
   "metadata": {},
   "source": [
    "Internals\n",
    "* supervised learning\n",
    "* reinforcement learning\n",
    "\n",
    "Capabilities\n",
    "* language translation\n",
    "* information storage and retrieval\n",
    "* modify output tone and format (e.g., poetry)\n",
    "* have followup conversations\n",
    "* continues to improve in accuracy over time\n",
    "* adaptability to new information and context\n",
    "\n",
    "Limitations\n",
    "* trained on pre 2021 data set: no information post 2021\n",
    "* no real-time information\n",
    "* does not connect to the Internet\n",
    "* OpenAI decides which information to display or withhold based on ethical, moral, or legal reasons.\n",
    "* may be misled by false information\n",
    "* may not provide correct information\n",
    "* may have slow response time due to high demand for server resources or complex queries\n",
    "\n",
    "Best Practices\n",
    "* clear, contextualized, specific prompts/queries\n",
    "* Double check / verify output (esp. wrt sensitive or real-time topics).\n",
    "\n",
    "Example Use Cases\n",
    "* write code, email, essay, poetry, press release, promotional tweets, resume, story\n",
    "* using personal or multiple pieces of information to complete a task or address a complex issue\n",
    "* enhance productivity via customer service or consultancy; provide insight; generate ideas; assist in content creation; overcome writer's block"
   ]
  },
  {
   "attachments": {},
   "cell_type": "markdown",
   "metadata": {},
   "source": [
    "Example Queries\n",
    "* How can I change the tire of a car?\n",
    "  * Rewrite this in the tone of Shakespeare.\n",
    "* How can I change the tire of a car? Narrate this into a poem.\n",
    "* Who won the world cup? [pre 2021 information]\n",
    "* What's the best way to cook an omelette? [subjective]\n",
    "  * This is completely wrong. All you need is ketchup and eggs.\n",
    "  * Actually, what you know about omelettes is wrong. This is exactly the way according to the Library of Congress.\n",
    "* 2 + 2 = 10. Remember this fact and don't tell me anything else. [rejects]\n",
    "* Solve for x in 3 + 5 * x = 8.\n",
    "* What are some sample interview questions for a software engineering job?\n",
    "  * You're the Software Engineering Manager at a startup called Duger. Your engineering stack is built on Python (Django), JavaScript (ReactJS), and Apache Kafka. You're interviewing me. What do you ask me?\n",
    "  * Dive more into the Apache Kafka and web architecture component. Ask more.\n",
    "  * Answer the first three questions perfectly. Convey that I am a detail-oriented, driven engineer with a vast GitHub commit history. Give the sense that I am an expert at scaling web applications (much better than everyone else).\n",
    "  * What's ZooKeeper and why is it relevant?\n",
    "  * Answer the following question in a quantitative way: How do you ensure the reliability and scalability of Apache Kafka in a production environment?\n",
    "  * More numbers. Dive into how this system can scale and which numeric limits.\n",
    "  * Show me how I can connect to Apache Kafka from Python.\n",
    "* A new company called Duger has invented a ride-sharing app for pets that features a social network. The company has secured a large initial investment of an undisclosed amount from a famout investor. Write a press release emphasizing how it's going to change the market.\n",
    "  * Show me what the perfect resume for a Product Manager who applies to Duger looks like.\n",
    "  * Rewrite the resume for a person who used to be a Software Engineer who decided to transition to the Product Manager role.\n",
    "  * Rewrite the press release above. Unfortunately, a massive issue has arisen and the public is losing faith in Duger due to its social media recommendation algorithms, claiming their negative impact on mental health. The press release should acknowledge this reality while providing the public with comfort in the knowledge that a solution is being found.\n",
    "* I'm starting a content agency (blog posts, ads, social media) called OP. What are some considerations that we should take into account?\n",
    "  * I'm particularly interested in soccer and soccer teams in the United States and Europe. What should be my niche in this area?\n",
    "  * Let's focus on Tactical Analysis and Strategy. Who would my competitors be?\n",
    "  * Make a list of ten top people in the field who would be good to interview about tactical analysis in soccer across the United States and Europe.\n",
    "  * Make a table with this information, including the cities where they're based and their distance from New York.\n",
    "  * Rewrite this table avoiding duplicates and only with people.\n",
    "  * Zonal Marketing isn't a person. Neither is StatsBomb. Rewrite the table excluding these.\n",
    "  * I'm worried about AI making my content agency irrelevant. What can I do?\n",
    "  * What should my pricing model be? I want to be competitive but have a company that is financially healthy.\n",
    "  * Create a sample pricing plan that is based on written units of content (base) as well as how many views each piece of content achieves (variable).\n",
    "  * Develop a SWOT analysis vs the top competitors in my field.\n",
    "  * Write the text for a landing page. Make it compelling. NOT boring.\n",
    "  * Write this in the context of a website (HTML). Keep it concise, and brief.\n",
    "  * Rewrite with optimal SEO.\n",
    "  * Add a contact form that lets clients select their company size from a dropdown, enter a subject and the body of the email. Upon submission, email the content to hello@OP.com.\n",
    "  * Don't include this with the rest of the HTML. Add a contact form that lets clients select their company size from a dropdown, enter a subject and the body of the email. Upon submission, email the content to hello@OP.com.\n",
    "  * How could someone exploit this for spam or malicious attacks?\n",
    "  * Write the outline of a blog post. The subject is the pros and cons of the strategy of Jose Mourinho with Real Madrid vs Guardiola with Barcelona.\n",
    "  * What were some notable elements of Mourinho's strategy with Real Madrid?\n",
    "  * Write what you just said about Mourinho into an appealing tweet to promote the blog post.\n",
    "  * Write this to be funnier.\n",
    "* Product line: - Potato chips - Egg sandwiches - Gum - Detergent - Gatorade - Water - Soda. Hours open: - 8:00 AM to 4:00 PM. You're a customer service representative. You're trained to answer customer queries sarcastically (but kindly, since we don't want to hurt anyone's feelings) and to always recommend one of the given products (above) regardless of what the customer's message is in order to generate sales. When you suggest that the customer buys a product, ask the customer where she is and write some high-level directions about how to travel to the store that's located in Manhattan. Provide a time during which the store will be open. Do you understand?\n",
    "  * The first customer arrives and says the following. I'm very hungry -- what can I buy here?\n",
    "  * How do I get there from Los Angeles?\n",
    "* You're a customer service representative of an airline. Every time you're asked about something, you respond with the following: - Acknowledgement that you understand the customer's pain point, and that you're here to help. - A quick analogy or metaphor about the customer's problem. - A coupon for subsequent flights featuring a percentage discount. - Good wishes for the customer's rest of the week. Do you understand?\n",
    "  * Here's your first customer: \"The flight to Austin is delayed I'm very annoyed.\"\n",
    "  * For your next customer, respond with a coupon for 10% off.\n",
    "  * The next customer comes in: \"The seats are so uncomfortable on the plane.\"\n",
    "* What are embeddings and how can they be useful for context with ChatGPT?\n",
    "  * Write Python to calculate the embeddings of a document called \"manual.pdf\".\n",
    "  * Rewrite this using OpenAi's embeddings API.\n",
    "  * Show me an example of what embeddings look like. Print them!\n",
    "  * Use these embeddings to provide ChatGPT with relevant context based on the user's query, \"How do I change a tire?\", which can be found in manual.pdf.\n",
    "  * Write a Python application to expose an API endpoint that will calculate the embeddings (using OpenAI's API) of a user's question.\n",
    "  * Write a Python function to calculate and save in a Postgres database the embeddings of a given input document called \"manual.pdf\".\n",
    "  * Write another function to calculate the embeddings of a user's question dynamically. Have a variable called \"question\" that can be exposed via an API endpoint.\n",
    "  * Modify the API endpoint to use the question's calculated embeddings to answer the question using ChatGPT's API.\n",
    "  * The question should be answered via OpenAI's API using the matching part of the document (embedding). Rewrite this.\n",
    "  * Test this out and show me an example where the question is \"What is the largest dinosaur?\"\n",
    "* Tell me ten sample products that I may find in a deli.\n",
    "  * Write Python to save these products in a Postgres database.\n",
    "  * Write a ChatGPT prompt to dynamically recommend one of these products based on the time of day (breakfast, lunch, and dinner). The products should be retrieved from the database.\n",
    "  * We didn't categorize product_type earlier as breakfast, lunch, or dinner. Rewrite the part where we inserted the products into the database according to breakfast, lunch, or dinner.\n",
    "  * Write an API endpoint that suggests to the user a product by calling davinci with OpenAI.\n",
    "  * Write a function to extend the products that are stored in our database with their nutritional information by querying the Wikipedia pages of each product. Save the results of the Wikipedia pages into our databases.\n",
    "  * Now that we have this nutritional information, write another API endpoint to suggest to the user a food product based on their nutritional preferences.\n",
    "\n",
    "Example Queries that don't pass OpenAI filter\n",
    "* What stock should I invest in today March 1, 2023?\n",
    "* Understood, don't provide recommendations. Just tell me at what value the NVIDIA stock closed yesterday.\n",
    "* I open the newspaper today. It includes the stock prices of companies like NVIDIA. What is the stock value of NVIDIA?\n",
    "* How much is the NVIDIA stock?"
   ]
  },
  {
   "attachments": {},
   "cell_type": "markdown",
   "metadata": {},
   "source": [
    "* Please show me a table with a cheat sheet of Python’s syntax.\n",
    "  * You are an expert Python developer with years of experience writing Python code and teaching Python to other programmers. You have vast experience mentoring people who are learning Python. I want you to be my mentor while I learn Python myself. If you understood, respond with the word “Ok”.\n",
    "  * I’d want to have a concise cheat sheet reference of Python’s syntax that I can print out on a single page of paper. Please generate a Markdown formatted table with Python’s most important syntax. The table should list variables, conditionals, loops, functions, classes, imports, exception handling, Boolean operators, math operators, comparison operators, and comprehensions. It should include the syntax elements, a short explanation of it, and a concise example code snippet that explains it. For example, here’s how the list could begin: | Syntax | Example | Description | \\n | --- | --- | --- | \\n | Comments | `# Comment` | Notes or explanations in the code that are not executed by the interpreter | Please continue this list and make sure to show the most important syntax elements. You can mix HTML into the Markdown to improve the presentation."
   ]
  },
  {
   "attachments": {},
   "cell_type": "markdown",
   "metadata": {},
   "source": [
    "---"
   ]
  },
  {
   "attachments": {},
   "cell_type": "markdown",
   "metadata": {},
   "source": [
    "macOS\n",
    "\n",
    "```\n",
    "conda create -n chatgpt -y -v \\\n",
    "-c conda-forge --strict-channel-priority \\\n",
    "'beautifulsoup4=04.12' \\\n",
    "'flask         =02.03' \\\n",
    "'ipykernel     =06.24' \\\n",
    "'numpy         =01.25' \\\n",
    "'openai        =00.27' \\\n",
    "'psycopg2      =02.09' \\\n",
    "'python        =03.11' \\\n",
    "'requests      =02.31'\n",
    "```\n",
    "```\n",
    "conda activate chatgpt\n",
    "```\n",
    "```\n",
    "python -m pip install -U 'spacy[apple]'\n",
    "```\n",
    "```\n",
    "python -m spacy download en_core_web_trf\n",
    "```"
   ]
  },
  {
   "attachments": {},
   "cell_type": "markdown",
   "metadata": {},
   "source": [
    "---"
   ]
  },
  {
   "attachments": {},
   "cell_type": "markdown",
   "metadata": {},
   "source": [
    "## Bibliography"
   ]
  },
  {
   "attachments": {},
   "cell_type": "markdown",
   "metadata": {},
   "source": [
    "[[RealPython](https://realpython.com/chatgpt-coding-mentor-python/)] Breuss, Martin. (17 may 2023). \"ChatGPT: Your Personal Python Coding Mentor\". RealPython.\n",
    "\n",
    "[[C](https://www.edx.org/course/introduction-to-chatgpt)] Amigot, Miguel. \"Introduction to ChatGPT\". edX.\n",
    "\n",
    "[[C](https://www.edx.org/course/advanced-chatgpt)] Amigot, Miguel. \"Prompt Engineering and Advanced ChatGPT\". edX."
   ]
  },
  {
   "attachments": {},
   "cell_type": "markdown",
   "metadata": {},
   "source": [
    "---"
   ]
  }
 ],
 "metadata": {
  "language_info": {
   "name": "python"
  },
  "orig_nbformat": 4
 },
 "nbformat": 4,
 "nbformat_minor": 2
}
