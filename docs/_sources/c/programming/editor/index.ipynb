{
 "cells": [
  {
   "cell_type": "markdown",
   "metadata": {},
   "source": [
    "# Editors"
   ]
  },
  {
   "cell_type": "markdown",
   "metadata": {},
   "source": [
    "---"
   ]
  },
  {
   "cell_type": "markdown",
   "metadata": {},
   "source": [
    "## Table of Contents\n",
    "```{contents}\n",
    "```"
   ]
  },
  {
   "cell_type": "markdown",
   "metadata": {},
   "source": [
    "---"
   ]
  },
  {
   "cell_type": "markdown",
   "metadata": {},
   "source": [
    "## Sections\n",
    "```{tableofcontents}\n",
    "```"
   ]
  },
  {
   "cell_type": "markdown",
   "metadata": {},
   "source": [
    "---"
   ]
  },
  {
   "cell_type": "markdown",
   "metadata": {},
   "source": [
    "A basic text editor (or code editor) application is a simple graphical application which is used--you guessed it--to type text. If you're already familiar with a word processor application like Microsoft Word, then you can think of a text editor as akin to a Microsoft Word with the same core capability to type text but without all the fancy fonts and other formatting features.\n",
    "\n",
    "````{tab-set}\n",
    "```{tab-item} macOS\n",
    ":sync: macos\n",
    "The native macOS graphical text editor application is [TextEdit](https://en.wikipedia.org/wiki/TextEdit).\n",
    "```\n",
    "```{tab-item} Windows\n",
    ":sync: windows\n",
    "The native Windows graphical text editor application is [Notepad](https://en.wikipedia.org/wiki/Windows_Notepad).\n",
    "```\n",
    "````\n",
    "\n",
    "An integrated development environment (IDE) extends what a basic text editor can do. An IDE bundles a multitide of components including editors, terminals and shells, file explorers and advanced search capabilities, version control, and more into an integrated UI.\n",
    "\n",
    "[Visual Studio Code](https://code.visualstudio.com) is a popular cross-platform IDE. "
   ]
  },
  {
   "cell_type": "markdown",
   "metadata": {},
   "source": [
    "---"
   ]
  },
  {
   "cell_type": "markdown",
   "metadata": {},
   "source": [
    "## Resources"
   ]
  },
  {
   "cell_type": "markdown",
   "metadata": {},
   "source": [
    "Tools & Technologies\n",
    "* [ [h](https://atom.io) ][ d ][ [w](https://en.wikipedia.org/wiki/Atom_(text_editor)) ] Atom\n",
    "* [ h ][ d ][ [w](https://en.wikipedia.org/wiki/Ed_(text_editor)) ] Ed\n",
    "* [ [h](https://www.gnu.org/software/emacs/) ][ d ][ [w](https://en.wikipedia.org/wiki/GNU_Emacs) ] Emacs (GNU)\n",
    "* [ h ][ d ][ [w](https://en.wikipedia.org/wiki/Ex_(text_editor)) ] Ex\n",
    "* [ [h](https://helix-editor.com) ][ d ][ w ] Helix\n",
    "* [ [h](https://kakoune.org) ][ d ][ w ] Kakoune\n",
    "* [ [h](https://micro-editor.github.io) ][ d ][ w ] Micro\n",
    "* [ [h](https://nano-editor.org) ][ d ][ [w](https://en.wikipedia.org/wiki/GNU_nano) ] Nano (GNU)\n",
    "* [ [h](https://neovim.io) ][ d ][ w ] Neovim\n",
    "* [ [h](https://en.wikipedia.org/wiki/Pico_(text_editor)) ][ d ][ w ] Pico\n",
    "* [ [h](https://www.spacemacs.org) ][ d ][ w ][ [g](https://github.com/syl20bnr/spacemacs) ] Spacemacs\n",
    "* [ h ][ d ][ [w](https://en.wikipedia.org/wiki/Vi) ] Vi\n",
    "* [ [h](https://www.vim.org) ][ [d](https://www.vim.org/docs.php) ][ [w](https://en.wikipedia.org/wiki/Vim_(text_editor)) ] Vim\n",
    "  * [Vim Books](https://iccf-holland.org/vim_books.html)\n",
    "* [ h ][ d ][ [w](https://en.wikipedia.org/wiki/Visual_Studio_Code) ] Visual Studio Code (Microsoft)\n",
    "\n",
    "Online\n",
    "* [ [h](https://missing.csail.mit.edu/2020/editors/) ] Editors (Vim) (MIT's Missing Semester)"
   ]
  },
  {
   "cell_type": "markdown",
   "metadata": {},
   "source": [
    "YouTube\n",
    "* [ [y](https://www.youtube.com/watch?v=ZOYp6-k9HhE) ] `01-26-2024`. Theo - t3.gg. \"This VS Code Killer Just Went Open Source (Written In Rust BTW)\"."
   ]
  },
  {
   "cell_type": "markdown",
   "metadata": {},
   "source": [
    "---"
   ]
  },
  {
   "cell_type": "markdown",
   "metadata": {},
   "source": [
    "## Figures"
   ]
  },
  {
   "cell_type": "markdown",
   "metadata": {},
   "source": [
    "* [ [w](https://en.wikipedia.org/wiki/Bill_Joy) ] `1954-----` Joy, Bill\n",
    "* [ [w](https://en.wikipedia.org/wiki/Bram_Moolenaar) ] `1961-2023` Moolenaar, Bram"
   ]
  },
  {
   "cell_type": "markdown",
   "metadata": {},
   "source": [
    "---"
   ]
  },
  {
   "cell_type": "markdown",
   "metadata": {},
   "source": [
    "## Terms"
   ]
  },
  {
   "cell_type": "markdown",
   "metadata": {},
   "source": [
    "* [ [w](https://en.wikipedia.org/wiki/Source-code_editor) ] Code Editor\n",
    "* [ [w](https://en.wikipedia.org/wiki/Emacs) ] Emacs\n",
    "* [ [w](https://en.wikipedia.org/wiki/Integrated_development_environment) ] Integrated Development Environment (IDE)\n",
    "* [ [w](https://en.wikipedia.org/wiki/JetBrains) ] JetBrains\n",
    "* [ [w](https://en.wikipedia.org/wiki/Line_editor) ] Line Editor\n",
    "* [ [w](https://en.wikipedia.org/wiki/Windows_Notepad) ] Notepad (Windows GUI)\n",
    "* [ [w](https://en.wikipedia.org/wiki/Source-code_editor) ] Source Code Editor\n",
    "* [ [w](https://en.wikipedia.org/wiki/Text_editor) ] Text Editor\n",
    "* [ [w](https://en.wikipedia.org/wiki/Text-based_user_interface) ] Text User Interface (TUI)\n",
    "* [ [w](https://en.wikipedia.org/wiki/TextEdit) ] TextEdit (macOS GUI)"
   ]
  },
  {
   "cell_type": "markdown",
   "metadata": {},
   "source": [
    "---"
   ]
  }
 ],
 "metadata": {
  "language_info": {
   "name": "python"
  }
 },
 "nbformat": 4,
 "nbformat_minor": 2
}
