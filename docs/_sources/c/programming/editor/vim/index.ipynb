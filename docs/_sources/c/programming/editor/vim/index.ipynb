{
 "cells": [
  {
   "cell_type": "markdown",
   "metadata": {},
   "source": [
    "# Vim"
   ]
  },
  {
   "cell_type": "markdown",
   "metadata": {},
   "source": [
    "---"
   ]
  },
  {
   "cell_type": "markdown",
   "metadata": {},
   "source": [
    "## Table of Contents\n",
    "```{contents}\n",
    "```"
   ]
  },
  {
   "cell_type": "markdown",
   "metadata": {},
   "source": [
    "---"
   ]
  },
  {
   "cell_type": "markdown",
   "metadata": {},
   "source": [
    "In the terminal, run `vim --version` to check which version of Vim is installed. Vim has historically been installed at `/usr/bin/vim`.\n",
    "\n",
    "Try out vimtutor by running `vimtutor`! Check out [Vim Adventures](https://vim-adventures.com), too.\n",
    "\n",
    "To open a file called `example.txt` in Vim, run `vim example.txt`. If file `example.txt` does not yet exist, it will be created when you save it.\n",
    "\n",
    "There are two modes in Vim: command mode and insert mode. When you open Vim you start in command mode. To enter insert mode, press key `i`. To enter command mode, press Escape.\n",
    "\n",
    "To start typing source code, first enter insert mode.\n",
    "\n",
    "To save the file, enter command mode (press Escape); press key `:`; press key `w` for \"write\"; and press Enter. The file is saved.\n",
    "\n",
    "To quit Vim, enter command mode (press Escape); press key `:`; press key `q` for \"quit\"; and press Enter: `:q`. If you have unsaved changes, you may want to save and quit (`:wq`) or just quit without saving them (`:q!`)."
   ]
  },
  {
   "cell_type": "markdown",
   "metadata": {},
   "source": [
    "---"
   ]
  },
  {
   "cell_type": "markdown",
   "metadata": {},
   "source": [
    "## Resources"
   ]
  },
  {
   "cell_type": "markdown",
   "metadata": {},
   "source": [
    "* [ [h](https://vim-adventures.com/) ][ g ] Vim Adventures\n",
    "* [ h ][ [g](https://github.com/junegunn/vim-plug) ] vim-plug\n",
    "* [ h ][ [g](https://github.com/ycm-core/YouCompleteMe) ] YouCompleteMe\n",
    "* [ h ][ [g](https://github.com/Shougo/deoplete.nvim/) ] deoplete.nvim\n",
    "\n",
    "Online\n",
    "* [ [o](https://vi.stackexchange.com/questions/704/insert-tabs-in-insert-mode-when-expandtab-is-set) ] StackExchange. \"Insert tabs in INSERT mode when expandtab is set\"."
   ]
  },
  {
   "cell_type": "markdown",
   "metadata": {},
   "source": [
    "---"
   ]
  },
  {
   "cell_type": "markdown",
   "metadata": {},
   "source": [
    "## Texts"
   ]
  },
  {
   "cell_type": "markdown",
   "metadata": {},
   "source": [
    "* [ [w](https://en.wikipedia.org/wiki/Learning_the_vi_and_Vim_Editors) ] Robbins, Arnold & Elbert Hannah. (2021). _Learning the vi & Vim Editors: Power and Agility Beyond Just Text Editing_. 8e. O'Reilly."
   ]
  },
  {
   "cell_type": "markdown",
   "metadata": {},
   "source": [
    "---"
   ]
  },
  {
   "cell_type": "markdown",
   "metadata": {},
   "source": [
    "## Notes"
   ]
  },
  {
   "cell_type": "markdown",
   "metadata": {},
   "source": [
    "```\n",
    ":%!xxd       # run a binary file through xxd in vim\n",
    ":%!xxd -r    # convert the text back to binary\n",
    ":%!base64    # convert a file loaded in vim to base64 encoding\n",
    ":%!base64 -d # conver it back\n",
    "```\n",
    "```\n",
    "ZZ  # write changes and quit\n",
    ":wq # write changes and quit\n",
    ":w  # write changes\n",
    ":q! # do not write changes and quit\n",
    ":q  # quit\n",
    "```\n",
    "```\n",
    "Ctrl-V Tab # insert tab\n",
    "```\n",
    "```\n",
    ":set shell=/bin/bash\n",
    ":shell\n",
    "```\n",
    "```\n",
    ":e /path/to/file\n",
    "```"
   ]
  },
  {
   "cell_type": "markdown",
   "metadata": {},
   "source": [
    "\n",
    "\n",
    "Command Mode Shortcuts\n",
    "* `i` Enter insert mode to the left of the cursor.\n",
    "* `I` Enter insert mode at the start of the current line.\n",
    "* `a` Enter insert mode to the right of the cursor.\n",
    "* `A` Enter insert mode at the end of the current line.\n",
    "* `gg` Move the cursor to the first line.\n",
    "* `g50g` Move the cursor 50 lines ahead.\n",
    "* `G` Move the cursor to the last line.\n",
    "* `u` or `:undo` Undo the last action.\n",
    "* `U` Undo all recent changes made to the current line.\n",
    "* `Ctrl-r` or `:redo` Redo.\n",
    "* `dd` or `:d` Delete (and copy to the clipboard) the current line.\n",
    "* `d50d` Delete (and copy to the clipboard) the next 50 lines.\n",
    "* `d50gg` Delete (and copy to the clipboard) all lines between the current line and line 50.\n",
    "* `x` Delete the current character.\n",
    "* `50x` Delete the next 50 characters.\n",
    "* `yy` or `:y` Copy the current line.\n",
    "* `y50w` Copy the next 50 words.\n",
    "* `p` Paste below the current line.\n",
    "* `P` Paste above the current line.\n",
    "* `zz` Move the current line to the middle of the screen.\n",
    "* `:50` Move the cursor to line 50.\n",
    "* `n` Move the cursor to the next search match.\n",
    "* `N` Move the cursor to the previous search match.\n",
    "* `:noh` Turn off highlighting until the next search.\n",
    "* `j` Move down.\n",
    "* `k` Move up.\n",
    "* `h` Move left.\n",
    "* `l` Move right.\n",
    "* `w` Move to the beginnging of the next word.\n",
    "* `W`\n",
    "* `e` Move to the end of the next word.\n",
    "* `E`\n",
    "* `b` Move to the beginning of the previous word.\n",
    "* `B`\n",
    "* `0` Move to the beginning of the current line.\n",
    "* `$` Move to the end of the current line.\n",
    "* `Ctrl-f` Page down/forward.\n",
    "* `Ctrl-b` Page up/backward.\n",
    "* `Ctrl-d` Half-page down/forward.\n",
    "* `Ctrl-u` Half-page up/backward.\n",
    "\n",
    "Find and Replace\n",
    "* `/foo` Search the file for all instances of `foo`.\n",
    "* `:%s/old/new/g` Replace all instances of `old` with `new`.\n",
    "\n",
    "Commands\n",
    "* `retab` Change the existing tab characters to match the current tab settings.\n",
    "* `set expandtab` The tab key inserts spaces instead of tab characters.\n",
    "* `set shiftwidth=2` The size of an indent measured in spaces. If, for example, an indent is equal to two tab characters while tabstop=2, then an indent will be four spaces; if in addition expandtab is enabled, then an indent will be just two spaces.\n",
    "* `set tabstop=2` The width of the tab character measured in spaces.\n",
    "\n",
    "Config\n",
    "* `~/.vimrc`\n",
    "*\n",
    "```\n",
    "set ai      \" autoindent\n",
    "set et      \" expandtab\n",
    "filetype indent on\n",
    "\"filetype indent plugin on\n",
    "set nu      \" number (\"display line numbers\")\n",
    "set sw=2    \" shiftwidth\n",
    "set ts=2    \" tabstop\n",
    "\"syn on     \" syntax highlighting on\n",
    "syn enable  \" syntax highlighting enabled\n",
    "```"
   ]
  },
  {
   "cell_type": "markdown",
   "metadata": {},
   "source": [
    "---"
   ]
  }
 ],
 "metadata": {
  "language_info": {
   "name": "python"
  }
 },
 "nbformat": 4,
 "nbformat_minor": 2
}
