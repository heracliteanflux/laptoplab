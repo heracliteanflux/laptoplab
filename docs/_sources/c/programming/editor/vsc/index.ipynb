{
 "cells": [
  {
   "cell_type": "markdown",
   "metadata": {},
   "source": [
    "# Visual Studio Code"
   ]
  },
  {
   "cell_type": "markdown",
   "metadata": {},
   "source": [
    "---"
   ]
  },
  {
   "cell_type": "markdown",
   "metadata": {},
   "source": [
    "## Table of Contents\n",
    "```{contents}\n",
    "```"
   ]
  },
  {
   "cell_type": "markdown",
   "metadata": {},
   "source": [
    "---"
   ]
  },
  {
   "cell_type": "markdown",
   "metadata": {},
   "source": [
    "## Resources"
   ]
  },
  {
   "cell_type": "markdown",
   "metadata": {},
   "source": [
    "YouTube\n",
    "* [ [y](https://www.youtube.com/watch?v=heXQnM99oAI) ] `10-04-2023`. freeCodeCamp. \"VS Code Tutorial – Become More Productive\".\n",
    "* [ [y](https://www.youtube.com/watch?v=g1vy03ZY5mM) ] `03-21-2022`. freeCodeCamp. \"Visual Studio Code Extensions to Improve Your Productivity\"."
   ]
  },
  {
   "cell_type": "markdown",
   "metadata": {},
   "source": [
    "* [ [StackOverflow](https://stackoverflow.com/questions/29972396/how-can-i-customize-the-tab-to-space-conversion-factor) ] \"How can I customize the tab-to-space conversion factor?\"."
   ]
  },
  {
   "cell_type": "markdown",
   "metadata": {},
   "source": [
    "---"
   ]
  },
  {
   "cell_type": "markdown",
   "metadata": {},
   "source": [
    "## Documentation"
   ]
  },
  {
   "cell_type": "markdown",
   "metadata": {},
   "source": [
    "* [Python extension for VS Code](https://marketplace.visualstudio.com/items?itemName=ms-python.python)\n",
    "* [Docs](https://code.visualstudio.com/docs)\n",
    "  * [Getting Started with Python in VS Code](https://code.visualstudio.com/docs/python/python-tutorial)\n",
    "  * [Using Python environments in VS Code](https://code.visualstudio.com/docs/python/environments)\n",
    "    * [Select and activate an environment](https://code.visualstudio.com/docs/python/environments#_select-and-activate-an-environment)\n",
    "  * [Integrated Terminal](https://code.visualstudio.com/docs/editor/integrated-terminal)\n",
    "    * [Troubleshoot Terminal Launch Failures](https://code.visualstudio.com/docs/supporting/troubleshoot-terminal-launch)\n",
    "  * [VS Code CLI](https://code.visualstudio.com/docs/editor/command-line)\n",
    "* [GitHub](https://github.com/microsoft/vscode)"
   ]
  },
  {
   "cell_type": "markdown",
   "metadata": {},
   "source": [
    "* [Docs](https://code.visualstudio.com/docs)\n",
    "  * Setup\n",
    "    * [Setting up Visual Studio Code](https://code.visualstudio.com/docs/setup/setup-overview)\n",
    "  * Get Started\n",
    "    * [Tips and Tricks](https://code.visualstudio.com/docs/getstarted/tips-and-tricks)\n",
    "    * [User Interface](https://code.visualstudio.com/docs/getstarted/userinterface)\n",
    "    * [Settings](https://code.visualstudio.com/docs/getstarted/settings)\n",
    "    * [Telemetry](https://code.visualstudio.com/docs/getstarted/telemetry)\n",
    "  * User Guide\n",
    "  * Source Control\n",
    "    * [Overview](https://code.visualstudio.com/docs/sourcecontrol/overview)\n",
    "  * Terminal\n",
    "    * [Terminal Basics](https://code.visualstudio.com/docs/terminal/basics)\n",
    "  * Languages\n",
    "    * [Overview](https://code.visualstudio.com/docs/languages/overview)\n",
    "    * [JavaScript](https://code.visualstudio.com/docs/languages/javascript)\n",
    "    * [JSON](https://code.visualstudio.com/docs/languages/json)\n",
    "    * [HTML](https://code.visualstudio.com/docs/languages/html)\n",
    "    * [CSS, SCSS, Less](https://code.visualstudio.com/docs/languages/css)\n",
    "    * [TypeScript](https://code.visualstudio.com/docs/languages/typescript)\n",
    "    * [Markdown](https://code.visualstudio.com/docs/languages/markdown)\n",
    "    * [Python](https://code.visualstudio.com/docs/languages/python)\n",
    "    * [R](https://code.visualstudio.com/docs/languages/r)\n",
    "  * Python\n",
    "    * [Tutorial](https://code.visualstudio.com/docs/python/python-tutorial)\n",
    "  * Data Science\n",
    "    * [Overview](https://code.visualstudio.com/docs/datascience/overview)\n",
    "    * [Jupyter Notebooks](https://code.visualstudio.com/docs/datascience/jupyter-notebooks)\n",
    "    * [Data Science Tutorial](https://code.visualstudio.com/docs/datascience/data-science-tutorial)\n",
    "    * [Manage Jupyter Kernels](https://code.visualstudio.com/docs/datascience/jupyter-kernel-management)\n",
    "* [Updates](https://code.visualstudio.com/updates)\n",
    "* [Blog](https://code.visualstudio.com/blog)\n",
    "* [Extensions](https://marketplace.visualstudio.com/VSCode)\n",
    "  * [HTML, CSS](https://marketplace.visualstudio.com/items?itemName=ecmel.vscode-html-css)\n",
    "  * [Jupyter](https://marketplace.visualstudio.com/items?itemName=ms-toolsai.jupyter)\n",
    "  * [Python](https://marketplace.visualstudio.com/items?itemName=ms-python.python)\n",
    "  * [R](https://marketplace.visualstudio.com/items?itemName=REditorSupport.r)\n",
    "* [FAQ](https://code.visualstudio.com/docs/supporting/faq)"
   ]
  },
  {
   "cell_type": "markdown",
   "metadata": {},
   "source": [
    "[Visual Studio Code Glob Patterns Reference](https://code.visualstudio.com/docs/editor/glob-patterns)"
   ]
  },
  {
   "cell_type": "markdown",
   "metadata": {},
   "source": [
    "---"
   ]
  },
  {
   "cell_type": "markdown",
   "metadata": {},
   "source": [
    "## Command Reference"
   ]
  },
  {
   "cell_type": "markdown",
   "metadata": {},
   "source": [
    "```\n",
    "code --version\n",
    "```\n",
    "\n",
    "Launch VS Code and set the current working directory as the file explorer's root.\n",
    "\n",
    "```\n",
    "code .\n",
    "```"
   ]
  },
  {
   "cell_type": "markdown",
   "metadata": {},
   "source": [
    "---"
   ]
  },
  {
   "cell_type": "markdown",
   "metadata": {},
   "source": [
    "## macOS"
   ]
  },
  {
   "cell_type": "markdown",
   "metadata": {},
   "source": [
    "```bash\n",
    "~/Library/Application\\ Support/Code/User/settings.json\n",
    "```\n",
    "```json\n",
    "{\n",
    "    \"workbench.colorTheme\": \"Modern Purple Theme Light\",\n",
    "    \"window.zoomLevel\": 1,\n",
    "    \"telemetry.telemetryLevel\": \"off\",\n",
    "    \"terminal.external.osxExec\": \"iTerm2.app\",\n",
    "    \"terminal.integrated.fontFamily\": \"MesloLGS NF\",\n",
    "}\n",
    "```"
   ]
  },
  {
   "cell_type": "markdown",
   "metadata": {},
   "source": [
    "---"
   ]
  },
  {
   "cell_type": "markdown",
   "metadata": {},
   "source": [
    "## Keyboard Shortcuts"
   ]
  },
  {
   "cell_type": "markdown",
   "metadata": {},
   "source": [
    "````{tab-set}\n",
    "```{tab-item} macOS\n",
    "Shortcut | Graphical | Action\n",
    "-|-|-\n",
    "Ctrl-Opt-J | &#8963;&#8997;J | Merge highlighted cells\n",
    "```\n",
    "```{tab-item} Windows\n",
    "Shortcut | Graphical | Action\n",
    "-|-|-\n",
    " | | Merge highlighted cells\n",
    "```\n",
    "````"
   ]
  },
  {
   "cell_type": "markdown",
   "metadata": {},
   "source": [
    "---"
   ]
  }
 ],
 "metadata": {
  "language_info": {
   "name": "python"
  }
 },
 "nbformat": 4,
 "nbformat_minor": 2
}
