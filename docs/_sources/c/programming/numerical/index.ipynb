{
 "cells": [
  {
   "cell_type": "markdown",
   "metadata": {},
   "source": [
    "# Numerical Methods & Scientific Computing"
   ]
  },
  {
   "cell_type": "markdown",
   "metadata": {},
   "source": [
    "---"
   ]
  },
  {
   "cell_type": "markdown",
   "metadata": {},
   "source": [
    "## Table of Contents\n",
    "```{contents}\n",
    "```"
   ]
  },
  {
   "cell_type": "markdown",
   "metadata": {},
   "source": [
    "---"
   ]
  },
  {
   "cell_type": "markdown",
   "metadata": {},
   "source": [
    "## Resources"
   ]
  },
  {
   "cell_type": "markdown",
   "metadata": {},
   "source": [
    "Kovalev, Leonid. [_Numerical Methods with Programming_](https://drlvk.github.io/nm/numerical-methods.html).\n",
    "\n",
    "Moler, Cleve. [_Numerical Computing with MATLAB_](https://www.mathworks.com/moler/index_ncm.html).\n",
    "\n",
    "YouTube Channels\n",
    "* [[Y](https://www.youtube.com/@wenshenpsu)] wenshenpsu\n",
    "\n",
    "YouTube Videos\n",
    "* [[Y](https://www.youtube.com/watch?v=U00Kseb6SB4)] Mr P Solver. (08 Nov 2022). \"How to: Monte Carlo Simulation in Python (Introduction)\". YouTube.\n",
    "* [[Y](https://www.youtube.com/watch?v=peBOquJ3fDo)] Mr P Solver. (12 Oct 2021). \"Curve Fitting in Python (2022)\". YouTube.\n",
    "* [[Y](https://www.youtube.com/watch?v=nGwg5MrbZxo)] Mr P Solver. (27 Sep 2021). \"How To Interpolate Data In Python\". YouTube.\n",
    "\n",
    "Dot Physics\n",
    "* [ [y](https://www.youtube.com/watch?v=Va15dmafegA) ] `06-16-2023`. \"Python Code from Scratch: Convert Decimal to Hexadecimal\"."
   ]
  },
  {
   "cell_type": "markdown",
   "metadata": {},
   "source": [
    "---"
   ]
  },
  {
   "cell_type": "markdown",
   "metadata": {},
   "source": [
    "## Texts"
   ]
  },
  {
   "cell_type": "markdown",
   "metadata": {},
   "source": [
    "* [ [h](https://www.cs.ubc.ca/~ascher/ag_teach.html) ] Ascher, Uri M. & Chen Greif. _A First Course in Numerical Methods_.\n",
    "* [ [h](https://fncbook.github.io/fnc/frontmatter.html) ][ [g](https://github.com/fncbook/FundamentalsNumericalComputation.jl) ] Driscoll, Tobin A. & Richard J. Braun. _Fundamentals of Numerical Computation_.\n",
    "* Hager, Georg & Gerhard Wellein. (2010). _Introduction to High Performance Computing for Scientists and Engineers_. CRC Press.\n",
    "Heath, Michael T. (2018). [_Scientific Computing: An Introductory Survey, 2nd Ed_](https://heath.cs.illinois.edu/scicomp/notes/index.html). [Learning Modules](http://heath.cs.illinois.edu/iem/).\n",
    "* [ [h](https://pythonnumericalmethods.berkeley.edu/notebooks/Index.html) ] Kong, Qingkai; Timmy Siauw; & Alexandre Bayen. (2020). _Python Programming and Numerical Methods: A Guide for Engineers and Scientists_. Academic Press.\n",
    "* Shen, Wen. (2019). _An Introduction to Numerical Computation_. 2nd Ed. World Scientific.\n",
    "Stewart, G. W. (1996). _Afternotes on Numerical Analysis_."
   ]
  },
  {
   "cell_type": "markdown",
   "metadata": {},
   "source": [
    "---"
   ]
  },
  {
   "cell_type": "markdown",
   "metadata": {},
   "source": [
    "## Terms"
   ]
  },
  {
   "cell_type": "markdown",
   "metadata": {},
   "source": [
    "* [ [w](https://en.wikipedia.org/wiki/Approximation_error) ] Approximation Error\n",
    "* [ [w](https://en.wikipedia.org/wiki/Binary_number) ] Binary Number\n",
    "* [ [w](https://en.wikipedia.org/wiki/Binary-coded_decimal) ] BCD Binary-Coded Decimal\n",
    "* [ [w](https://en.wikipedia.org/wiki/Bit) ] Bit\n",
    "* [ [w](https://en.wikipedia.org/wiki/Catastrophic_cancellation) ] Catastrophic Cancellation\n",
    "* [ [w](https://en.wikipedia.org/wiki/Computer_number_format) ] Computer Number Format\n",
    "* [ [w](https://en.wikipedia.org/wiki/Divided_differences) ] Divided Differences\n",
    "* [ [w](https://en.wikipedia.org/wiki/Decimal_representation) ] Decimal Representation\n",
    "* [ [w](https://en.wikipedia.org/wiki/Double-precision_floating-point_format) ] Double-Precision Floating Point\n",
    "* [ [w](https://en.wikipedia.org/wiki/Exponent_bias) ] Exponent Bias\n",
    "* [ [w](https://en.wikipedia.org/wiki/Find_first_set) ] Find First Set\n",
    "* [ [w](https://en.wikipedia.org/wiki/Finite_difference) ] Finite Difference\n",
    "* [ [w](https://en.wikipedia.org/wiki/Finite_element_method) ] Finite Element Method (FEM)\n",
    "* [ [w](https://en.wikipedia.org/wiki/Fixed-point_arithmetic) ] Fixed-Point Arithmetic\n",
    "* [ [w](https://en.wikipedia.org/wiki/Floating-point_arithmetic) ] Floating-Point Arithmetic\n",
    "* [ [w](https://en.wikipedia.org/wiki/FLOPS) ] Floating-Point Operations per Second (FLOPS)\n",
    "* [ [w](https://en.wikipedia.org/wiki/Floating-point_unit) ] Floating-Point Unit (FPU)\n",
    "* [ [w](https://en.wikipedia.org/wiki/Huffman_coding) ] Huffman Coding\n",
    "* [ [w](https://en.wikipedia.org/wiki/IEEE_754) ] IEEE 754\n",
    "* [ [w](https://en.wikipedia.org/wiki/Interpolation) ] Interpolation\n",
    "* [ [w](https://en.wikipedia.org/wiki/Lagrange_polynomial) ] Lagrange Polynomial\n",
    "* [ [w](https://en.wikipedia.org/wiki/Linear_approximation) ] Linear Approximation\n",
    "* [ [w](https://en.wikipedia.org/wiki/Loss_of_significance) ] Loss of Significance\n",
    "* [ [w](https://en.wikipedia.org/wiki/Machine_epsilon) ] Machine Epsilon\n",
    "* [ [w](https://en.wikipedia.org/wiki/Method_of_complements) ] Method of Complements\n",
    "* [ [w](https://en.wikipedia.org/wiki/Newton_polynomial) ] Newton Polynomial\n",
    "* [ [w](https://en.wikipedia.org/wiki/Newton%27s_method) ] Newton's Method\n",
    "* [ [w](https://en.wikipedia.org/wiki/Number) ] Number\n",
    "* [ [w](https://en.wikipedia.org/wiki/Numeral_system) ] Numeral System\n",
    "* [ [w](https://en.wikipedia.org/wiki/Numerical_analysis) ] Numerical Analysis\n",
    "* [ [w](https://en.wikipedia.org/wiki/Numerical_differentiation) ] Numerical Differentiation\n",
    "* [ [w](https://en.wikipedia.org/wiki/Numerical_integration) ] Numerical Integration\n",
    "* [ [w](https://en.wikipedia.org/wiki/Numerical_methods_for_ordinary_differential_equations) ] Numerical Methods for Ordinary Differential Equations\n",
    "* [ [w](https://en.wikipedia.org/wiki/Numerical_methods_for_partial_differential_equations) ] Numerical Methods for Partial Differential Equations\n",
    "* [ [w](https://en.wikipedia.org/wiki/Numerical_stability) ] Numerical Stability\n",
    "* [ [w](https://en.wikipedia.org/wiki/Offset_binary) ] Offset Binary\n",
    "* [ [w](https://en.wikipedia.org/wiki/Ones%27_complement) ] Ones' Complement\n",
    "* [ [w](https://en.wikipedia.org/wiki/Polynomial_interpolation) ] Polynomial Interpolation\n",
    "* [ [w](https://en.wikipedia.org/wiki/Positional_notation) ] Positional Notation\n",
    "* [ [w](https://en.wikipedia.org/wiki/Radix) ] Radix\n",
    "* [ [w](https://en.wikipedia.org/wiki/Gray_code) ] Reflected Binary Code (RBC)\n",
    "* [ [w](https://en.wikipedia.org/wiki/Approximation_error) ] Relative Error\n",
    "* [ [w](https://en.wikipedia.org/wiki/Round-off_error) ] Roundoff Error\n",
    "* [ [w](https://en.wikipedia.org/wiki/Runge%27s_phenomenon) ] Runge's Phenomenon\n",
    "* [ [w](https://en.wikipedia.org/wiki/Computational_science) ] Scientific Computing\n",
    "* [ [w](https://en.wikipedia.org/wiki/Sign_bit) ] Sign Bit\n",
    "* [ [w](https://en.wikipedia.org/wiki/Signed_number_representations#Sign–magnitude) ] Sign-Magnitude Representation\n",
    "* [ [w](https://en.wikipedia.org/wiki/Signed_number_representations) ] Signed Number Representation\n",
    "* [ [w](https://en.wikipedia.org/wiki/Signedness) ] Signedness\n",
    "* [ [w](https://en.wikipedia.org/wiki/Significand) ] Significand\n",
    "* [ [w](https://en.wikipedia.org/wiki/Significant_figures) ] Significant Digits\n",
    "* [ [w](https://en.wikipedia.org/wiki/Significant_figures) ] Significant Figures\n",
    "* [ [w](https://en.wikipedia.org/wiki/Single-precision_floating-point_format) ] Single-Precision Floating-Point\n",
    "* [ [w](https://en.wikipedia.org/wiki/Spline_(mathematics)) ] Spline\n",
    "* [ [w](https://en.wikipedia.org/wiki/Spline_interpolation) ] Spline Interpolation\n",
    "* [ [w](https://en.wikipedia.org/wiki/Sterbenz_lemma) ] Sterbenz Lemma\n",
    "* [ [w](https://en.wikipedia.org/wiki/Trigonometric_interpolation) ] Trigonometric Interpolation\n",
    "* [ [w](https://en.wikipedia.org/wiki/Truncation) ] Truncation\n",
    "* [ [w](https://en.wikipedia.org/wiki/Two%27s_complement) ] Twos Complement\n",
    "* [ [w](https://en.wikipedia.org/wiki/Unit_in_the_last_place) ] Unit of Least Precision\n",
    "* [ [w](https://en.wikipedia.org/wiki/Variable-length_code) ] Variable-Length Code"
   ]
  },
  {
   "cell_type": "markdown",
   "metadata": {},
   "source": [
    "---"
   ]
  }
 ],
 "metadata": {
  "language_info": {
   "name": "python"
  }
 },
 "nbformat": 4,
 "nbformat_minor": 2
}
