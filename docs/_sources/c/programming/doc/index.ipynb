{
 "cells": [
  {
   "cell_type": "markdown",
   "metadata": {},
   "source": [
    "# Documentation"
   ]
  },
  {
   "cell_type": "markdown",
   "metadata": {},
   "source": [
    "---"
   ]
  },
  {
   "cell_type": "markdown",
   "metadata": {},
   "source": [
    "## Table of Contents\n",
    "```{contents}\n",
    "```"
   ]
  },
  {
   "cell_type": "markdown",
   "metadata": {},
   "source": [
    "---"
   ]
  },
  {
   "cell_type": "markdown",
   "metadata": {},
   "source": [
    "## LaTeX"
   ]
  },
  {
   "cell_type": "markdown",
   "metadata": {},
   "source": [
    "* [ [y](https://www.youtube.com/watch?v=5jmIHOWpEg0) ] `05-30-2022`. Dr. Trefor Bazett. \"How I make beautiful GRAPHS and PLOTS using LaTeX\".\n",
    "* [ [y](https://www.youtube.com/watch?v=331YxgOJUGw) ] `11-16-2021`. Dr. Trefor Bazett. \"My favorite LaTeX packages for writing beautiful math documents\"."
   ]
  },
  {
   "cell_type": "markdown",
   "metadata": {},
   "source": [
    "---"
   ]
  },
  {
   "cell_type": "markdown",
   "metadata": {},
   "source": [
    "## Resources"
   ]
  },
  {
   "cell_type": "markdown",
   "metadata": {},
   "source": [
    "* [ [h](https://jupyterbook.org) ][ d ][ w ] Books with Jupyter\n",
    "  * [ [d](https://sphinx-book-theme.readthedocs.io/en/latest/index.html) ] Book Theme\n",
    "  * [ [d](https://pydata-sphinx-theme.readthedocs.io/en/stable/index.html) ] PyData Sphinx Theme\n",
    "* [ [h](https://commonmark.org) ][ d ][ w ] CommonMark\n",
    "* [ h ][ [d](https://myst-parser.readthedocs.io) ][ w ] Markedly Structured Text (MyST)\n",
    "* [ [h](https://executablebooks.org/en/latest/) ][ d ][ w ] Executable Books Project\n",
    "* [ [h](https://www.gitbook.com) ][ d ][ w ] GitBook\n",
    "* [ h ][ d ][ [w](https://en.wikipedia.org/wiki/KaTeX) ] KaTeX\n",
    "* [ [h](https://www.latex-project.org) ][ d ][ w ] LaTeX\n",
    "* [ h ][ d ][ [w](https://en.wikipedia.org/wiki/Markdown) ] Markdown\n",
    "* [ h ][ [d](https://docs.mathjax.org/en/latest/index.html) ][ [w](https://en.wikipedia.org/wiki/MathJax) ] MathJax\n",
    "* [ h ][ d ][ [w](https://en.wikipedia.org/wiki/MathML) ] Mathematical Markup Language (MathML)\n",
    "* [ [h](https://obsidian.md/) ][ d ][ w ] Obsidian\n",
    "* [ [h](https://quarto.org) ][ d ][ w ] Quarto\n",
    "* [ [h](https://readthedocs.org) ][ d ][ w ] Read the Docs\n",
    "* [ [h](https://docutils.sourceforge.io/rst.html) ][ d ][ w ] reStructuredText\n",
    "* [ [h](https://www.sphinx-doc.org) ][ d ][ w ] Sphinx\n",
    "  * [ [d](https://sphinx-proof.readthedocs.io/) ] sphinx-proof\n",
    "  * [ [d](https://sphinx-design.readthedocs.io/en/latest/index.html) ] Sphinx Design\n",
    "* [ h ][ d ][ [w](https://en.wikipedia.org/wiki/TeX) ] TeX"
   ]
  },
  {
   "cell_type": "markdown",
   "metadata": {},
   "source": [
    "---"
   ]
  },
  {
   "cell_type": "markdown",
   "metadata": {},
   "source": [
    "## Terms"
   ]
  },
  {
   "cell_type": "markdown",
   "metadata": {},
   "source": [
    "* [ [w](https://en.wikipedia.org/wiki/Desktop_publishing) ] Desktop Publishing\n",
    "* [ [w](https://en.wikipedia.org/wiki/Document) ] Document\n",
    "* [ [w](https://en.wikipedia.org/wiki/Document_automation) ] Document Automation\n",
    "* [ [w](https://en.wikipedia.org/wiki/Document_composition) ] Document Composition\n",
    "* [ [w](https://en.wikipedia.org/wiki/Document_layout_analysis) ] Document Layout Analysis\n",
    "* [ [w](https://en.wikipedia.org/wiki/Document_modelling) ] Document Modeling\n",
    "* [ [w](https://en.wikipedia.org/wiki/Document_processing) ] Document Processing\n",
    "* [ [w](https://en.wikipedia.org/wiki/Documentation) ] Documentation\n",
    "* [ [w](https://en.wikipedia.org/wiki/Documentation_science) ] ocumentation Science\n",
    "* [ [w](https://en.wikipedia.org/wiki/Font) ] Font\n",
    "* [ [w](https://en.wikipedia.org/wiki/Intelligent_document) ] Intelligent Document\n",
    "* [ [w](https://en.wikipedia.org/wiki/Page_layout) ] Page Layout\n",
    "* [ [w](https://en.wikipedia.org/wiki/PDF) ] Portable Document Format (PDF)\n",
    "* [ [w](https://en.wikipedia.org/wiki/Template_(word_processing)) ] Template\n",
    "* [ [w](https://en.wikipedia.org/wiki/Typeface) ] Typeface\n",
    "* [ [w](https://en.wikipedia.org/wiki/Typesetting) ] Typesetting\n",
    "* [ [w](https://en.wikipedia.org/wiki/Word_processor) ] Word Processor"
   ]
  },
  {
   "cell_type": "markdown",
   "metadata": {},
   "source": [
    "---"
   ]
  }
 ],
 "metadata": {
  "language_info": {
   "name": "python"
  }
 },
 "nbformat": 4,
 "nbformat_minor": 2
}
