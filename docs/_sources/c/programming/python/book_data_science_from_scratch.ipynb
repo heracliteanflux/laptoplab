{
 "cells": [
  {
   "attachments": {},
   "cell_type": "markdown",
   "metadata": {},
   "source": [
    "# _Data Science from Scratch_ 2e\n",
    "[ [g](https://github.com/joelgrus/data-science-from-scratch) ] Grus, Joel. (2019). _Data Science from Scratch_. 2e. O'Reilly.\n",
    "```{contents}\n",
    "```"
   ]
  },
  {
   "attachments": {},
   "cell_type": "markdown",
   "metadata": {},
   "source": [
    "---\n",
    "---\n",
    "---"
   ]
  },
  {
   "attachments": {},
   "cell_type": "markdown",
   "metadata": {},
   "source": [
    "## Programming Environment"
   ]
  },
  {
   "cell_type": "code",
   "execution_count": 1,
   "metadata": {},
   "outputs": [],
   "source": [
    "from   collections import Counter, defaultdict\n",
    "import math\n",
    "from   typing      import Callable, List, Tuple\n",
    "\n",
    "Vector = List[float]\n",
    "Matrix = List[Vector] # List[List[float]]\n",
    "\n",
    "import matplotlib.pyplot as plt"
   ]
  },
  {
   "attachments": {},
   "cell_type": "markdown",
   "metadata": {},
   "source": [
    "---\n",
    "---\n",
    "---"
   ]
  },
  {
   "attachments": {},
   "cell_type": "markdown",
   "metadata": {},
   "source": [
    "## [01] Introduction"
   ]
  },
  {
   "cell_type": "markdown",
   "metadata": {},
   "source": [
    "---"
   ]
  },
  {
   "cell_type": "code",
   "execution_count": 2,
   "metadata": {},
   "outputs": [],
   "source": [
    "users = [\n",
    "  { \"id\" : 0, \"name\" : \"Hero\"  },\n",
    "  { \"id\" : 1, \"name\" : \"Dunn\"  },\n",
    "  { \"id\" : 2, \"name\" : \"Sue\"   },\n",
    "  { \"id\" : 3, \"name\" : \"Chi\"   },\n",
    "  { \"id\" : 4, \"name\" : \"Thor\"  },\n",
    "  { \"id\" : 5, \"name\" : \"Clive\" },\n",
    "  { \"id\" : 6, \"name\" : \"Hicks\" },\n",
    "  { \"id\" : 7, \"name\" : \"Devin\" },\n",
    "  { \"id\" : 8, \"name\" : \"Kate\"  },\n",
    "  { \"id\" : 9, \"name\" : \"Klein\" },\n",
    "]"
   ]
  },
  {
   "cell_type": "code",
   "execution_count": 3,
   "metadata": {},
   "outputs": [],
   "source": [
    "friendship_pairs = [\n",
    "  (0, 1),\n",
    "  (0, 2),\n",
    "  (1, 2),\n",
    "  (1, 3),\n",
    "  (2, 3),\n",
    "  (3, 4),\n",
    "  (4, 5),\n",
    "  (5, 6),\n",
    "  (5, 7),\n",
    "  (6, 8),\n",
    "  (7, 8),\n",
    "  (8, 9),\n",
    "]"
   ]
  },
  {
   "cell_type": "code",
   "execution_count": 4,
   "metadata": {},
   "outputs": [
    {
     "data": {
      "text/plain": [
       "{0: [], 1: [], 2: [], 3: [], 4: [], 5: [], 6: [], 7: [], 8: [], 9: []}"
      ]
     },
     "execution_count": 4,
     "metadata": {},
     "output_type": "execute_result"
    }
   ],
   "source": [
    "# initialize the dict with an empty list for each user id\n",
    "friendships = {user['id'] : [] for user in users}\n",
    "friendships"
   ]
  },
  {
   "cell_type": "code",
   "execution_count": 5,
   "metadata": {},
   "outputs": [
    {
     "data": {
      "text/plain": [
       "{0: [1, 2],\n",
       " 1: [0, 2, 3],\n",
       " 2: [0, 1, 3],\n",
       " 3: [1, 2, 4],\n",
       " 4: [3, 5],\n",
       " 5: [4, 6, 7],\n",
       " 6: [5, 8],\n",
       " 7: [5, 8],\n",
       " 8: [6, 7, 9],\n",
       " 9: [8]}"
      ]
     },
     "execution_count": 5,
     "metadata": {},
     "output_type": "execute_result"
    }
   ],
   "source": [
    "# loop over the friendship pairs to populate the list\n",
    "for i, j in friendship_pairs:\n",
    "  friendships[i].append(j) # add j as a friend of user i\n",
    "  friendships[j].append(i) # add i as a friend of user j\n",
    "\n",
    "friendships"
   ]
  },
  {
   "cell_type": "code",
   "execution_count": 6,
   "metadata": {},
   "outputs": [
    {
     "name": "stdout",
     "output_type": "stream",
     "text": [
      "Total connections    : 24\n",
      "Average connections  : 2.4\n"
     ]
    }
   ],
   "source": [
    "# What's the average number of connections?\n",
    "\n",
    "def number_of_friends (user):\n",
    "  \"\"\"How many friends does user have?\"\"\"\n",
    "  user_id    = user['id']\n",
    "  friend_ids = friendships[user_id]\n",
    "  return len(friend_ids)\n",
    "\n",
    "total_connections = sum(number_of_friends(user)\n",
    "                        for user in users)\n",
    "print(f\"{'Total connections':<20} : {total_connections}\")\n",
    "\n",
    "num_users       = len(users)\n",
    "avg_connections = total_connections / num_users\n",
    "print(f\"{'Average connections':<20} : {avg_connections}\")"
   ]
  },
  {
   "cell_type": "code",
   "execution_count": 7,
   "metadata": {},
   "outputs": [
    {
     "data": {
      "text/plain": [
       "[(1, 3),\n",
       " (2, 3),\n",
       " (3, 3),\n",
       " (5, 3),\n",
       " (8, 3),\n",
       " (0, 2),\n",
       " (4, 2),\n",
       " (6, 2),\n",
       " (7, 2),\n",
       " (9, 1)]"
      ]
     },
     "execution_count": 7,
     "metadata": {},
     "output_type": "execute_result"
    }
   ],
   "source": [
    "# Who are the most connected users?\n",
    "\n",
    "# (user_id, number_of_friends)\n",
    "num_friends_by_id = [(user['id'], number_of_friends(user))\n",
    "                     for user in users]\n",
    "\n",
    "num_friends_by_id.sort(\n",
    "  key    =lambda id_and_friends: id_and_friends[1],\n",
    "  reverse=True)\n",
    "\n",
    "num_friends_by_id"
   ]
  },
  {
   "cell_type": "code",
   "execution_count": 8,
   "metadata": {},
   "outputs": [
    {
     "data": {
      "text/plain": [
       "[0, 2, 3, 0, 1, 3]"
      ]
     },
     "execution_count": 8,
     "metadata": {},
     "output_type": "execute_result"
    }
   ],
   "source": [
    "def foaf_ids_bad (user):\n",
    "  \"\"\"foaf is short for \"friend of a friend\" \"\"\"\n",
    "  return [foaf_id\n",
    "          for friend_id in friendships[user['id']]\n",
    "          for foaf_id   in friendships[friend_id]]\n",
    "\n",
    "foaf_ids_bad(users[0])"
   ]
  },
  {
   "cell_type": "code",
   "execution_count": 9,
   "metadata": {},
   "outputs": [
    {
     "data": {
      "text/plain": [
       "Counter({3: 2})"
      ]
     },
     "execution_count": 9,
     "metadata": {},
     "output_type": "execute_result"
    }
   ],
   "source": [
    "def friends_of_friends (user):\n",
    "  user_id = user['id']\n",
    "  return Counter(\n",
    "    foaf_id\n",
    "    for friend_id   in friendships[user_id]   # for each of my friends\n",
    "    for foaf_id     in friendships[friend_id] # find their friends\n",
    "    if  foaf_id != user_id                    # who aren't me\n",
    "    and foaf_id not in friendships[user_id]   # and aren't my friends\n",
    "  )\n",
    "\n",
    "friends_of_friends(users[0])"
   ]
  },
  {
   "cell_type": "code",
   "execution_count": 10,
   "metadata": {},
   "outputs": [],
   "source": [
    "interests = [\n",
    "  (0, \"Hadoop\"), (0, \"Big Data\"), (0, \"HBase\"), (0, \"Java\"),\n",
    "  (0, \"Spark\"), (0, \"Storm\"), (0, \"Cassandra\"),\n",
    "  (1, \"NoSQL\"), (1, \"MongoDB\"), (1, \"Cassandra\"), (1, \"HBase\"),\n",
    "  (1, \"Postgres\"), (2, \"Python\"), (2, \"scikit-learn\"), (2, \"scipy\"),\n",
    "  (2, \"numpy\"), (2, \"statsmodels\"), (2, \"pandas\"), (3, \"R\"), (3, \"Python\"),\n",
    "  (3, \"statistics\"), (3, \"regression\"), (3, \"probability\"),\n",
    "  (4, \"machine learning\"), (4, \"regression\"), (4, \"decision trees\"),\n",
    "  (4, \"libsvm\"), (5, \"Python\"), (5, \"R\"), (5, \"Java\"), (5, \"C++\"),\n",
    "  (5, \"Haskell\"), (5, \"programming languages\"), (6, \"statistics\"),\n",
    "  (6, \"probability\"), (6, \"mathematics\"), (6, \"theory\"),\n",
    "  (7, \"machine learning\"), (7, \"scikit-learn\"), (7, \"Mahout\"),\n",
    "  (7, \"neural networks\"), (8, \"neural networks\"), (8, \"deep learning\"),\n",
    "  (8, \"Big Data\"), (8, \"artificial intelligence\"), (9, \"Hadoop\"),\n",
    "  (9, \"Java\"), (9, \"MapReduce\"), (9, \"Big Data\"),\n",
    "]"
   ]
  },
  {
   "cell_type": "code",
   "execution_count": 11,
   "metadata": {},
   "outputs": [],
   "source": [
    "def data_scientists_who_like (target_interest):\n",
    "  \"\"\"Find the ids of all users who like the target interest.\"\"\"\n",
    "  return [user_id\n",
    "          for user_id, user_interest in interests\n",
    "          if user_interest == target_interest]"
   ]
  },
  {
   "cell_type": "code",
   "execution_count": 12,
   "metadata": {},
   "outputs": [
    {
     "data": {
      "text/plain": [
       "defaultdict(list,\n",
       "            {'Hadoop': [0, 9],\n",
       "             'Big Data': [0, 8, 9],\n",
       "             'HBase': [0, 1],\n",
       "             'Java': [0, 5, 9],\n",
       "             'Spark': [0],\n",
       "             'Storm': [0],\n",
       "             'Cassandra': [0, 1],\n",
       "             'NoSQL': [1],\n",
       "             'MongoDB': [1],\n",
       "             'Postgres': [1],\n",
       "             'Python': [2, 3, 5],\n",
       "             'scikit-learn': [2, 7],\n",
       "             'scipy': [2],\n",
       "             'numpy': [2],\n",
       "             'statsmodels': [2],\n",
       "             'pandas': [2],\n",
       "             'R': [3, 5],\n",
       "             'statistics': [3, 6],\n",
       "             'regression': [3, 4],\n",
       "             'probability': [3, 6],\n",
       "             'machine learning': [4, 7],\n",
       "             'decision trees': [4],\n",
       "             'libsvm': [4],\n",
       "             'C++': [5],\n",
       "             'Haskell': [5],\n",
       "             'programming languages': [5],\n",
       "             'mathematics': [6],\n",
       "             'theory': [6],\n",
       "             'Mahout': [7],\n",
       "             'neural networks': [7, 8],\n",
       "             'deep learning': [8],\n",
       "             'artificial intelligence': [8],\n",
       "             'MapReduce': [9]})"
      ]
     },
     "execution_count": 12,
     "metadata": {},
     "output_type": "execute_result"
    }
   ],
   "source": [
    "# keys are interests, values are lists of user_ids with that interest\n",
    "user_ids_by_interest = defaultdict(list)\n",
    "\n",
    "for user_id, interest in interests:\n",
    "  user_ids_by_interest[interest].append(user_id)\n",
    "\n",
    "user_ids_by_interest"
   ]
  },
  {
   "cell_type": "code",
   "execution_count": 13,
   "metadata": {},
   "outputs": [
    {
     "data": {
      "text/plain": [
       "defaultdict(list,\n",
       "            {0: ['Hadoop',\n",
       "              'Big Data',\n",
       "              'HBase',\n",
       "              'Java',\n",
       "              'Spark',\n",
       "              'Storm',\n",
       "              'Cassandra'],\n",
       "             1: ['NoSQL', 'MongoDB', 'Cassandra', 'HBase', 'Postgres'],\n",
       "             2: ['Python',\n",
       "              'scikit-learn',\n",
       "              'scipy',\n",
       "              'numpy',\n",
       "              'statsmodels',\n",
       "              'pandas'],\n",
       "             3: ['R', 'Python', 'statistics', 'regression', 'probability'],\n",
       "             4: ['machine learning', 'regression', 'decision trees', 'libsvm'],\n",
       "             5: ['Python',\n",
       "              'R',\n",
       "              'Java',\n",
       "              'C++',\n",
       "              'Haskell',\n",
       "              'programming languages'],\n",
       "             6: ['statistics', 'probability', 'mathematics', 'theory'],\n",
       "             7: ['machine learning',\n",
       "              'scikit-learn',\n",
       "              'Mahout',\n",
       "              'neural networks'],\n",
       "             8: ['neural networks',\n",
       "              'deep learning',\n",
       "              'Big Data',\n",
       "              'artificial intelligence'],\n",
       "             9: ['Hadoop', 'Java', 'MapReduce', 'Big Data']})"
      ]
     },
     "execution_count": 13,
     "metadata": {},
     "output_type": "execute_result"
    }
   ],
   "source": [
    "# keys are user_ids, values are lists of interests for that user_id\n",
    "interests_by_user_id = defaultdict(list)\n",
    "\n",
    "for user_id, interest in interests:\n",
    "  interests_by_user_id[user_id].append(interest)\n",
    "\n",
    "interests_by_user_id"
   ]
  },
  {
   "cell_type": "code",
   "execution_count": 14,
   "metadata": {},
   "outputs": [],
   "source": [
    "# Who has the most interests in common with a given user?\n",
    "def most_common_interests_with (user):\n",
    "  return Counter(\n",
    "    interested_user_id\n",
    "    for interest in interests_by_user_id[user['id']]         # for each interest\n",
    "    for interested_user_id in user_ids_by_interest[interest] # iterate over the other users with that interest\n",
    "    if  interested_user_id != user['id']                     # who aren't me\n",
    "  )"
   ]
  },
  {
   "cell_type": "code",
   "execution_count": 15,
   "metadata": {},
   "outputs": [],
   "source": [
    "salaries_and_tenures = [\n",
    "  (83000,  8.7),\n",
    "  (88000,  8.1),\n",
    "  (48000,  0.7),\n",
    "  (76000,  6.0),\n",
    "  (69000,  6.5),\n",
    "  (76000,  7.5),\n",
    "  (60000,  2.5),\n",
    "  (83000, 10.0),\n",
    "  (48000,  1.9),\n",
    "  (63000,  4.2),\n",
    "]"
   ]
  },
  {
   "cell_type": "code",
   "execution_count": 16,
   "metadata": {},
   "outputs": [
    {
     "data": {
      "text/plain": [
       "{8.7: 83000.0,\n",
       " 8.1: 88000.0,\n",
       " 0.7: 48000.0,\n",
       " 6.0: 76000.0,\n",
       " 6.5: 69000.0,\n",
       " 7.5: 76000.0,\n",
       " 2.5: 60000.0,\n",
       " 10.0: 83000.0,\n",
       " 1.9: 48000.0,\n",
       " 4.2: 63000.0}"
      ]
     },
     "execution_count": 16,
     "metadata": {},
     "output_type": "execute_result"
    }
   ],
   "source": [
    "salary_by_tenure = defaultdict(list)\n",
    "\n",
    "for salary, tenure in salaries_and_tenures:\n",
    "  salary_by_tenure[tenure].append(salary)\n",
    "\n",
    "average_salary_by_tenure = {\n",
    "  tenure : sum(salaries) / len(salaries)\n",
    "  for tenure, salaries in salary_by_tenure.items()\n",
    "}\n",
    "average_salary_by_tenure"
   ]
  },
  {
   "cell_type": "code",
   "execution_count": 17,
   "metadata": {},
   "outputs": [
    {
     "data": {
      "text/plain": [
       "{'more than five': 79166.66666666667,\n",
       " 'less than two': 48000.0,\n",
       " 'between two and five': 61500.0}"
      ]
     },
     "execution_count": 17,
     "metadata": {},
     "output_type": "execute_result"
    }
   ],
   "source": [
    "def tenure_bucket (tenure):\n",
    "  if tenure < 2:\n",
    "    return 'less than two'\n",
    "  elif tenure < 5:\n",
    "    return 'between two and five'\n",
    "  else:\n",
    "    return 'more than five'\n",
    "  \n",
    "salary_by_tenure_bucket = defaultdict(list)\n",
    "\n",
    "for salary, tenure in salaries_and_tenures:\n",
    "  bucket = tenure_bucket(tenure)\n",
    "  salary_by_tenure_bucket[bucket].append(salary)\n",
    "\n",
    "average_salary_by_bucket = {\n",
    "  tenure_bucket : sum(salaries) / len(salaries)\n",
    "  for tenure_bucket, salaries in salary_by_tenure_bucket.items()\n",
    "}\n",
    "average_salary_by_bucket"
   ]
  },
  {
   "cell_type": "code",
   "execution_count": 18,
   "metadata": {},
   "outputs": [
    {
     "data": {
      "text/plain": [
       "Counter({'hadoop': 2,\n",
       "         'big': 3,\n",
       "         'data': 3,\n",
       "         'hbase': 2,\n",
       "         'java': 3,\n",
       "         'spark': 1,\n",
       "         'storm': 1,\n",
       "         'cassandra': 2,\n",
       "         'nosql': 1,\n",
       "         'mongodb': 1,\n",
       "         'postgres': 1,\n",
       "         'python': 3,\n",
       "         'scikit-learn': 2,\n",
       "         'scipy': 1,\n",
       "         'numpy': 1,\n",
       "         'statsmodels': 1,\n",
       "         'pandas': 1,\n",
       "         'r': 2,\n",
       "         'statistics': 2,\n",
       "         'regression': 2,\n",
       "         'probability': 2,\n",
       "         'machine': 2,\n",
       "         'learning': 3,\n",
       "         'decision': 1,\n",
       "         'trees': 1,\n",
       "         'libsvm': 1,\n",
       "         'c++': 1,\n",
       "         'haskell': 1,\n",
       "         'programming': 1,\n",
       "         'languages': 1,\n",
       "         'mathematics': 1,\n",
       "         'theory': 1,\n",
       "         'mahout': 1,\n",
       "         'neural': 2,\n",
       "         'networks': 2,\n",
       "         'deep': 1,\n",
       "         'artificial': 1,\n",
       "         'intelligence': 1,\n",
       "         'mapreduce': 1})"
      ]
     },
     "execution_count": 18,
     "metadata": {},
     "output_type": "execute_result"
    }
   ],
   "source": [
    "words_and_counts = Counter(word\n",
    "                           for user, interest in interests\n",
    "                           for word in interest.lower().split())\n",
    "words_and_counts"
   ]
  },
  {
   "cell_type": "code",
   "execution_count": 19,
   "metadata": {},
   "outputs": [
    {
     "name": "stdout",
     "output_type": "stream",
     "text": [
      "big 3\n",
      "data 3\n",
      "java 3\n",
      "python 3\n",
      "learning 3\n",
      "hadoop 2\n",
      "hbase 2\n",
      "cassandra 2\n",
      "scikit-learn 2\n",
      "r 2\n",
      "statistics 2\n",
      "regression 2\n",
      "probability 2\n",
      "machine 2\n",
      "neural 2\n",
      "networks 2\n"
     ]
    }
   ],
   "source": [
    "for word, count in words_and_counts.most_common():\n",
    "  if count > 1:\n",
    "    print(word, count)"
   ]
  },
  {
   "cell_type": "markdown",
   "metadata": {},
   "source": [
    "---\n",
    "---\n",
    "---"
   ]
  },
  {
   "attachments": {},
   "cell_type": "markdown",
   "metadata": {},
   "source": [
    "## [04] Linear algebra"
   ]
  },
  {
   "cell_type": "markdown",
   "metadata": {},
   "source": [
    "---"
   ]
  },
  {
   "cell_type": "code",
   "execution_count": null,
   "metadata": {},
   "outputs": [],
   "source": [
    "def vector_add (v : Vector,\n",
    "                w : Vector) -> Vector:\n",
    "  \"\"\"Add vector a to vector b.\"\"\"\n",
    "  assert len(v) == len(w), \"Vectors must be the same length.\"\n",
    "  return [v_i + w_i for v_i, w_i in zip(v, w)]\n",
    "\n",
    "def vector_subt (v : Vector,\n",
    "                 w : Vector) -> Vector:\n",
    "  \"\"\"Subtract vector a from vector b.\"\"\"\n",
    "  assert len(v) == len(w), \"Vectors must be the same length.\"\n",
    "  return [v_i - w_i for v_i, w_i in zip(v, w)]\n",
    "\n",
    "def vector_sum (vectors : List[Vector]) -> Vector:\n",
    "  \"\"\"Vector summation.\n",
    "  Compute the element-wise sum.\n",
    "  \"\"\"\n",
    "  assert vectors, \"No vectors were provided.\"\n",
    "  num_elems = len(vectors[0])\n",
    "  assert all(len(v) == num_elems for v in vectors), \"At least one vector is of unequal length.\"\n",
    "  return [sum(vector[i] for vector in vectors)\n",
    "          for i in range(num_elems)]\n",
    "\n",
    "def scalar_mult (c : float,\n",
    "                 v : Vector) -> Vector:\n",
    "  \"\"\"Multiplication of a vector by a scalar.\"\"\"\n",
    "  return [c * v_i for v_i in v]\n",
    "\n",
    "def vector_mean (vectors : List[Vector]) -> Vector:\n",
    "  \"\"\"Vector mean.\n",
    "  Compute the element-wise mean.\n",
    "  \"\"\"\n",
    "  n = len(vectors)\n",
    "  return scalar_mult(1/n, vector_sum(vectors))\n",
    "\n",
    "def dot (v : Vector,\n",
    "         w : Vector) -> float:\n",
    "  \"\"\"Vector dot product.\"\"\"\n",
    "  assert len(v) == len(w), \"Vectors must be the same length.\"\n",
    "  return sum(v_i * w_i for v_i, w_i in zip(v, w))\n",
    "\n",
    "def sum_of_squares (v : Vector) -> float:\n",
    "  \"\"\"Compute v_1 * v_1 + ... + v_n * v_n.\"\"\"\n",
    "  return dot(v, v)\n",
    "\n",
    "def magnitude (v : Vector) -> float:\n",
    "  \"\"\"Compute the magnitude of vector v.\"\"\"\n",
    "  return math.sqrt(sum_of_squares(v))\n",
    "\n",
    "def distance_squared (v : Vector,\n",
    "                      w : Vector) -> float:\n",
    "  \"\"\"Distance squared between two vectors.\n",
    "  (v_1 - w_1)**2 + ... + (v_n - w_n)**2 \n",
    "  \"\"\"\n",
    "  return sum_of_squares(vector_subt(v, w))\n",
    "\n",
    "def distance (v : Vector,\n",
    "              w : Vector) -> float:\n",
    "  \"\"\"Distance between two vectors.\"\"\"\n",
    "  #return math.sqrt(distance_squared(v, w))\n",
    "  return magnitude(vector_subt(v, w))\n",
    "\n",
    "def shape (A : Matrix) -> Tuple[int, int]:\n",
    "  \"\"\"(# rows, # cols)\"\"\"\n",
    "  num_rows = len(A)\n",
    "  num_cols = len(A[0]) if A else 0\n",
    "  return num_rows, num_cols\n",
    "\n",
    "def get_row (A : Matrix,\n",
    "             i : int) -> Vector:\n",
    "  \"\"\"Get the i-th row of matrix A as a Vector.\n",
    "  If a matrix has n rows and k columns it is called an n x k matrix\n",
    "  where each row is a vector of length k and each column is a vector of lenght n.\n",
    "  \"\"\"\n",
    "  return A[i]\n",
    "\n",
    "def get_col (A : Matrix,\n",
    "             j : int) -> Vector:\n",
    "  \"\"\"Get the j-th column of matrix A as a Vector.\n",
    "  If a matrix has n rows and k columns it is called an n x k matrix\n",
    "  where each row is a vector of length k and each column is a vector of lenght n.\"\"\"\n",
    "  return [A_i[j]        # jth element of row A_i\n",
    "          for A_i in A] # for each row A_i\n",
    "\n",
    "def make_matrix (num_rows : int,\n",
    "                 num_cols : int,\n",
    "                 entry_fn : Callable[[int, int], float]) -> Matrix:\n",
    "  \"\"\"Generate a num_rows x num_cols matrix whose (i,j)-th entry is entry_fn(i, j).\"\"\"\n",
    "  return [[entry_fn(i, j)            # given i, create a list     ???\n",
    "           for j in range(num_cols)] # [entru_fn(i, 0), ...]      ???\n",
    "           for i in range(num_rows)] # create one list for each   ???\n",
    "\n",
    "def identity_matrix (n : int) -> Matrix:\n",
    "  \"\"\"n x n identity matrix\"\"\"\n",
    "  return make_matrix(n, n, lambda i, j: 1 if i == j else 0)\n",
    "\n",
    "\n",
    "assert vector_add( [1, 2, 3], [4, 5, 6]) == [5, 7, 9]\n",
    "assert vector_subt([5, 7, 9], [4, 5, 6]) == [1, 2, 3]\n",
    "assert vector_sum( [[1, 2], [3, 4], [5, 6], [7, 8]]) == [16, 20]\n",
    "assert scalar_mult(2, [1, 2, 3]) == [2, 4, 6]\n",
    "assert vector_mean([[1, 2], [3, 4], [5, 6]]) == [3, 4]\n",
    "assert dot([1, 2, 3], [4, 5, 6]) == 32\n",
    "assert sum_of_squares([1, 2, 3]) == 14\n",
    "assert magnitude([3, 4]) == 5\n",
    "assert shape([[1, 2, 3], [4, 5, 6]]) == (2, 3)\n",
    "assert identity_matrix(5) == [[1, 0, 0, 0, 0],\n",
    "                              [0, 1, 0, 0, 0],\n",
    "                              [0, 0, 1, 0, 0],\n",
    "                              [0, 0, 0, 1, 0],\n",
    "                              [0, 0, 0, 0, 1]]"
   ]
  },
  {
   "cell_type": "code",
   "execution_count": 21,
   "metadata": {},
   "outputs": [
    {
     "data": {
      "text/plain": [
       "[4, 6, 7]"
      ]
     },
     "execution_count": 21,
     "metadata": {},
     "output_type": "execute_result"
    }
   ],
   "source": [
    "#            user 0  1  2  3  4  5  6  7  8  9\n",
    "#\n",
    "friend_matrix = [[0, 1, 1, 0, 0, 0, 0, 0, 0, 0],  # user 0\n",
    "                 [1, 0, 1, 1, 0, 0, 0, 0, 0, 0],  # user 1\n",
    "                 [1, 1, 0, 1, 0, 0, 0, 0, 0, 0],  # user 2\n",
    "                 [0, 1, 1, 0, 1, 0, 0, 0, 0, 0],  # user 3\n",
    "                 [0, 0, 0, 1, 0, 1, 0, 0, 0, 0],  # user 4\n",
    "                 [0, 0, 0, 0, 1, 0, 1, 1, 0, 0],  # user 5\n",
    "                 [0, 0, 0, 0, 0, 1, 0, 0, 1, 0],  # user 6\n",
    "                 [0, 0, 0, 0, 0, 1, 0, 0, 1, 0],  # user 7\n",
    "                 [0, 0, 0, 0, 0, 0, 1, 1, 0, 1],  # user 8\n",
    "                 [0, 0, 0, 0, 0, 0, 0, 0, 1, 0]]  # user 9\n",
    "\n",
    "friends_of_five = [i\n",
    "                   for i, is_friend in enumerate(friend_matrix[5])\n",
    "                   if is_friend]\n",
    "friends_of_five"
   ]
  },
  {
   "cell_type": "markdown",
   "metadata": {},
   "source": [
    "---\n",
    "---\n",
    "---"
   ]
  },
  {
   "attachments": {},
   "cell_type": "markdown",
   "metadata": {},
   "source": [
    "## [05] Statistics"
   ]
  },
  {
   "cell_type": "markdown",
   "metadata": {},
   "source": [
    "---"
   ]
  },
  {
   "cell_type": "code",
   "execution_count": 22,
   "metadata": {},
   "outputs": [
    {
     "data": {
      "text/plain": [
       "Counter({100: 1,\n",
       "         49: 1,\n",
       "         41: 1,\n",
       "         40: 1,\n",
       "         25: 1,\n",
       "         21: 2,\n",
       "         19: 2,\n",
       "         18: 2,\n",
       "         16: 1,\n",
       "         15: 4,\n",
       "         14: 2,\n",
       "         13: 4,\n",
       "         12: 2,\n",
       "         11: 1,\n",
       "         10: 15,\n",
       "         9: 18,\n",
       "         8: 13,\n",
       "         7: 15,\n",
       "         6: 22,\n",
       "         5: 17,\n",
       "         4: 20,\n",
       "         3: 20,\n",
       "         2: 17,\n",
       "         1: 22})"
      ]
     },
     "execution_count": 22,
     "metadata": {},
     "output_type": "execute_result"
    }
   ],
   "source": [
    "num_friends   = [100,49,41,40,25,21,21,19,19,18,18,16,15,15,15,15,14,14,13,13,13,13,12,12,11,10,10,10,10,10,10,10,10,10,10,10,10,10,10,10,9,9,9,9,9,9,9,9,9,9,9,9,9,9,9,9,9,9,8,8,8,8,8,8,8,8,8,8,8,8,8,7,7,7,7,7,7,7,7,7,7,7,7,7,7,7,6,6,6,6,6,6,6,6,6,6,6,6,6,6,6,6,6,6,6,6,6,6,5,5,5,5,5,5,5,5,5,5,5,5,5,5,5,5,5,4,4,4,4,4,4,4,4,4,4,4,4,4,4,4,4,4,4,4,4,3,3,3,3,3,3,3,3,3,3,3,3,3,3,3,3,3,3,3,3,2,2,2,2,2,2,2,2,2,2,2,2,2,2,2,2,2,1,1,1,1,1,1,1,1,1,1,1,1,1,1,1,1,1,1,1,1,1,1]\n",
    "friend_counts = Counter(num_friends)\n",
    "friend_counts"
   ]
  },
  {
   "cell_type": "code",
   "execution_count": 23,
   "metadata": {},
   "outputs": [
    {
     "data": {
      "image/png": "[encoded data removed]",
      "text/plain": [
       "<Figure size 640x480 with 1 Axes>"
      ]
     },
     "metadata": {},
     "output_type": "display_data"
    }
   ],
   "source": [
    "xs = range(max(num_friends))\n",
    "ys = [friend_counts[x] for x in xs]\n",
    "plt.bar(xs, ys);\n",
    "plt.axis([0, 101, 0, 25]);\n",
    "plt.title('Histogram of friend counts');\n",
    "plt.xlabel('# of friends');\n",
    "plt.ylabel('# of people');"
   ]
  },
  {
   "cell_type": "code",
   "execution_count": 24,
   "metadata": {},
   "outputs": [
    {
     "name": "stdout",
     "output_type": "stream",
     "text": [
      "mean                : 7.333333333333333\n",
      "median              : 6.0\n",
      "\n",
      "10th percentile     : 1\n",
      "25th percentile     : 3\n",
      "75th percentile     : 9\n",
      "90th percentile     : 13\n",
      "\n",
      "mode                : {1, 6}\n",
      "range               : 99\n",
      "variance            : 81.54351395730716\n",
      "standard deviation  : 9.03014473623248\n",
      "interquartile range : 6\n",
      "\n",
      "covariance          : 22.425435139573064\n",
      "covariance          : 0.37375725232621776\n",
      "\n",
      "correlation         : 0.24736957366478218\n",
      "correlation         : 0.24736957366478196\n",
      "correlation         : 0.5736792115665573\n",
      "correlation         : 0.5736792115665579\n"
     ]
    }
   ],
   "source": [
    "def mean (xs : List[float]) -> float:\n",
    "  return sum(xs) / len(xs)\n",
    "\n",
    "print(f\"{'mean':<20}: {mean(num_friends)}\")\n",
    "\n",
    "def _median_odd (xs : List[float]) -> float:\n",
    "  \"\"\"If len(xs) is odd, the median is the middle element.\"\"\"\n",
    "  return sorted(xs)[len(xs) // 2]\n",
    "\n",
    "def _median_even (xs : List[float]) -> float:\n",
    "  \"\"\"If len(xs) is even, it's the average of the middle two elements.\"\"\"\n",
    "  sorted_xs = sorted(xs)\n",
    "  hi_midpoint = len(xs) // 2\n",
    "  return (sorted_xs[hi_midpoint - 1] + sorted_xs[hi_midpoint]) / 2\n",
    "\n",
    "# MEDIAN\n",
    "#   represents the value under which 50% of the data lies\n",
    "def median (v : List[float]) -> float:\n",
    "  \"\"\"Finds the 'middle-most' value of v.\"\"\"\n",
    "  return _median_even(v) if len(v) % 2 == 0 else _median_odd(v)\n",
    "\n",
    "print(f\"{'median':<20}: {median(num_friends)}\")\n",
    "\n",
    "# QUANTILE\n",
    "#   represents the value under which a certain percentile of the data lies\n",
    "def quantile (xs : List[float],\n",
    "              p  : float) -> float:\n",
    "  \"\"\"Returns the p-th percentile value in x.\"\"\"\n",
    "  p_index = int(p * len(xs))\n",
    "  return sorted(xs)[p_index]\n",
    "\n",
    "print()\n",
    "print(f\"{'10th percentile':<20}: {quantile(num_friends, 0.10)}\")\n",
    "print(f\"{'25th percentile':<20}: {quantile(num_friends, 0.25)}\")\n",
    "print(f\"{'75th percentile':<20}: {quantile(num_friends, 0.75)}\")\n",
    "print(f\"{'90th percentile':<20}: {quantile(num_friends, 0.90)}\")\n",
    "\n",
    "def mode (x : List[float]) -> List[float]:\n",
    "  \"\"\"Returns a list, since there might be more than one mode.\"\"\"\n",
    "  counts = Counter(x)\n",
    "  max_count = max(counts.values())\n",
    "  return [x_i for x_i, count in counts.items()\n",
    "          if count == max_count]\n",
    "\n",
    "print()\n",
    "print(f\"{'mode':<20}: {set(mode(num_friends))}\")\n",
    "\n",
    "# DISPERSION\n",
    "#   dispersion refers to measures of how spread out our data is\n",
    "#   values near zero signify not spread out at all\n",
    "#   large values signify very spread out\n",
    "\n",
    "# RANGE\n",
    "#   the difference between the largest and smallest elements\n",
    "def data_range (xs : List[float]) -> float:\n",
    "  return max(xs) - min(xs)\n",
    "\n",
    "print(f\"{'range':<20}: {data_range(num_friends)}\")\n",
    "\n",
    "def de_mean (xs : List[float]) -> List[float]:\n",
    "  \"\"\"Translate xs by subtracting its mean (so the result has mean 0).\"\"\"\n",
    "  x_bar = mean(xs)\n",
    "  return [x - x_bar for x in xs]\n",
    "\n",
    "def variance (xs : List[float]) -> float:\n",
    "  \"\"\"Almost the average squared deviation from the mean.\"\"\"\n",
    "  assert len(xs) >= 2, 'variance requires at least two elements'\n",
    "  n = len(xs)\n",
    "  deviations = de_mean(xs)\n",
    "  return sum_of_squares(deviations) / (n - 1)\n",
    "\n",
    "print(f\"{'variance':<20}: {variance(num_friends)}\")\n",
    "\n",
    "def standard_deviation (xs : List[float]) -> float:\n",
    "  \"\"\"The standard deviation is the square root of the variance.\"\"\"\n",
    "  return math.sqrt(variance(xs))\n",
    "\n",
    "print(f\"{'standard deviation':<20}: {standard_deviation(num_friends)}\")\n",
    "\n",
    "def interquartile_range (xs : List[float]) -> float:\n",
    "  \"\"\"Returns the difference between the 75%-ile and the 25%-ile.\"\"\"\n",
    "  return quantile(xs, 0.75) - quantile(xs, 0.25)\n",
    "\n",
    "print(f\"{'interquartile range':<20}: {interquartile_range(num_friends)}\")\n",
    "\n",
    "def covariance (xs : List[float],\n",
    "                ys : List[float]) -> float:\n",
    "  assert len(xs) == len(ys), 'xs and ys must have same number of elements'\n",
    "  return dot(de_mean(xs), de_mean(ys)) / (len(xs) - 1)\n",
    "\n",
    "daily_minutes = [1,68.77,51.25,52.08,38.36,44.54,57.13,51.4,41.42,31.22,34.76,54.01,38.79,47.59,49.1,27.66,41.03,36.73,48.65,28.12,46.62,35.57,32.98,35,26.07,23.77,39.73,40.57,31.65,31.21,36.32,20.45,21.93,26.02,27.34,23.49,46.94,30.5,33.8,24.23,21.4,27.94,32.24,40.57,25.07,19.42,22.39,18.42,46.96,23.72,26.41,26.97,36.76,40.32,35.02,29.47,30.2,31,38.11,38.18,36.31,21.03,30.86,36.07,28.66,29.08,37.28,15.28,24.17,22.31,30.17,25.53,19.85,35.37,44.6,17.23,13.47,26.33,35.02,32.09,24.81,19.33,28.77,24.26,31.98,25.73,24.86,16.28,34.51,15.23,39.72,40.8,26.06,35.76,34.76,16.13,44.04,18.03,19.65,32.62,35.59,39.43,14.18,35.24,40.13,41.82,35.45,36.07,43.67,24.61,20.9,21.9,18.79,27.61,27.21,26.61,29.77,20.59,27.53,13.82,33.2,25,33.1,36.65,18.63,14.87,22.2,36.81,25.53,24.62,26.25,18.21,28.08,19.42,29.79,32.8,35.99,28.32,27.79,35.88,29.06,36.28,14.1,36.63,37.49,26.9,18.58,38.48,24.48,18.95,33.55,14.24,29.04,32.51,25.63,22.22,19,32.73,15.16,13.9,27.2,32.01,29.27,33,13.74,20.42,27.32,18.23,35.35,28.48,9.08,24.62,20.12,35.26,19.92,31.02,16.49,12.16,30.7,31.22,34.65,13.13,27.51,33.2,31.57,14.1,33.42,17.44,10.12,24.42,9.82,23.39,30.93,15.03,21.67,31.09,33.29,22.61,26.89,23.48,8.38,27.81,32.35,23.84]\n",
    "daily_hours   = [dm / 60 for dm in daily_minutes]\n",
    "\n",
    "print()\n",
    "print(f\"{'covariance':<20}: {covariance(num_friends, daily_minutes)}\")\n",
    "print(f\"{'covariance':<20}: {covariance(num_friends, daily_hours)}\")\n",
    "\n",
    "def correlation (xs : List[float],\n",
    "                 ys : List[float]) -> float:\n",
    "  \"\"\"Measures how much xs and ys vary in tandem about their means.\"\"\"\n",
    "  stdev_x = standard_deviation(xs)\n",
    "  stdev_y = standard_deviation(ys)\n",
    "  if stdev_x > 0 and stdev_y > 0:\n",
    "    return covariance(xs, ys) / stdev_x / stdev_y\n",
    "  else:\n",
    "    return 0\n",
    "\n",
    "print()\n",
    "print(f\"{'correlation':<20}: {correlation(num_friends, daily_minutes)}\")\n",
    "print(f\"{'correlation':<20}: {correlation(num_friends, daily_hours)}\")\n",
    "\n",
    "outlier = num_friends.index(100)\n",
    "\n",
    "num_friends_good = [x\n",
    "                    for i, x in enumerate(num_friends)\n",
    "                    if i != outlier]\n",
    "\n",
    "daily_minutes_good = [x\n",
    "                      for i, x in enumerate(daily_minutes)\n",
    "                      if i != outlier]\n",
    "\n",
    "daily_hours_good = [dm / 60 for dm in daily_minutes_good]\n",
    "\n",
    "print(f\"{'correlation':<20}: {correlation(num_friends_good, daily_minutes_good)}\")\n",
    "print(f\"{'correlation':<20}: {correlation(num_friends_good, daily_hours_good)}\")"
   ]
  },
  {
   "attachments": {},
   "cell_type": "markdown",
   "metadata": {},
   "source": [
    "---\n",
    "---\n",
    "---"
   ]
  },
  {
   "attachments": {},
   "cell_type": "markdown",
   "metadata": {},
   "source": [
    "## [18] Neural Networks"
   ]
  },
  {
   "cell_type": "markdown",
   "metadata": {},
   "source": [
    "---"
   ]
  },
  {
   "cell_type": "code",
   "execution_count": 30,
   "metadata": {},
   "outputs": [],
   "source": [
    "def step_function (x : float) -> float:\n",
    "  return 1.0 if x >= 0 else 0.0\n",
    "\n",
    "def perceptron_output (weights : Vector,\n",
    "                       bias    : float,\n",
    "                       x       : Vector) -> float:\n",
    "  \"\"\"\n",
    "  Parameters\n",
    "  ==========\n",
    "  weights [Vector]\n",
    "  bias    [float]\n",
    "  x       [Vector]\n",
    "\n",
    "  Return\n",
    "  ======\n",
    "  1 if the perceptron fires else 0\n",
    "  \"\"\"\n",
    "  calculation = dot(weights, x) + bias\n",
    "  return step_function(calculation)\n",
    "\n",
    "# AND GATE\n",
    "and_weights = [2, 2]\n",
    "and_bias    = -3\n",
    "assert perceptron_output(and_weights, and_bias, [1, 1]) == 1\n",
    "assert perceptron_output(and_weights, and_bias, [1, 0]) == 0\n",
    "assert perceptron_output(and_weights, and_bias, [0, 1]) == 0\n",
    "assert perceptron_output(and_weights, and_bias, [0, 0]) == 0\n",
    "\n",
    "# OR GATE\n",
    "or_weights = [2, 2]\n",
    "or_bias    = -1\n",
    "assert perceptron_output(or_weights, or_bias, [1, 1]) == 1\n",
    "assert perceptron_output(or_weights, or_bias, [1, 0]) == 1\n",
    "assert perceptron_output(or_weights, or_bias, [0, 1]) == 1\n",
    "assert perceptron_output(or_weights, or_bias, [0, 0]) == 0\n",
    "\n",
    "# NOT GATE\n",
    "not_weights = [-2]\n",
    "not_bias    = 1\n",
    "assert perceptron_output(not_weights, not_bias, [0]) == 1\n",
    "assert perceptron_output(not_weights, not_bias, [1]) == 0\n",
    "\n",
    "# we don't really need NNs to construct logic gates\n",
    "and_gate = min\n",
    "or_gate  = max\n",
    "xor_gate = lambda x, y: 0 if x == y else 1"
   ]
  },
  {
   "attachments": {},
   "cell_type": "markdown",
   "metadata": {},
   "source": [
    "---\n",
    "---\n",
    "---"
   ]
  },
  {
   "cell_type": "markdown",
   "metadata": {},
   "source": [
    "## Acknowledgments"
   ]
  },
  {
   "cell_type": "markdown",
   "metadata": {},
   "source": [
    "[ [g](https://github.com/joelgrus/data-science-from-scratch) ] Grus, Joel. (2019). _Data Science from Scratch_. 2e. O'Reilly."
   ]
  },
  {
   "cell_type": "markdown",
   "metadata": {},
   "source": [
    "---\n",
    "---\n",
    "---"
   ]
  }
 ],
 "metadata": {
  "kernelspec": {
   "display_name": "main",
   "language": "python",
   "name": "python3"
  },
  "language_info": {
   "codemirror_mode": {
    "name": "ipython",
    "version": 3
   },
   "file_extension": ".py",
   "mimetype": "text/x-python",
   "name": "python",
   "nbconvert_exporter": "python",
   "pygments_lexer": "ipython3",
   "version": "3.10.8"
  },
  "orig_nbformat": 4
 },
 "nbformat": 4,
 "nbformat_minor": 2
}
