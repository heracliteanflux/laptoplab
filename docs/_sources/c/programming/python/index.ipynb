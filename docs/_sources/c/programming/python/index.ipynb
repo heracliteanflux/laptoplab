{
 "cells": [
  {
   "cell_type": "markdown",
   "metadata": {},
   "source": [
    "# Python"
   ]
  },
  {
   "cell_type": "markdown",
   "metadata": {},
   "source": [
    "---"
   ]
  },
  {
   "cell_type": "markdown",
   "metadata": {},
   "source": [
    "## Table of Contents\n",
    "```{contents}\n",
    "```"
   ]
  },
  {
   "cell_type": "markdown",
   "metadata": {},
   "source": [
    "---"
   ]
  },
  {
   "cell_type": "markdown",
   "metadata": {},
   "source": [
    "## Sections"
   ]
  },
  {
   "cell_type": "markdown",
   "metadata": {},
   "source": [
    "```{tableofcontents}\n",
    "```"
   ]
  },
  {
   "cell_type": "markdown",
   "metadata": {},
   "source": [
    "---"
   ]
  },
  {
   "cell_type": "markdown",
   "metadata": {},
   "source": [
    "## Resources"
   ]
  },
  {
   "cell_type": "markdown",
   "metadata": {},
   "source": [
    "SciPy\n",
    "* https://mmas.github.io/least-squares-fitting-numpy-scipy\n",
    "* https://mmas.github.io/interpolation-scipy\n",
    "* https://mmas.github.io/optimization-scipy"
   ]
  },
  {
   "cell_type": "markdown",
   "metadata": {},
   "source": [
    "YouTube\n",
    "* freeCodeCamp\n",
    "  * [ [y](https://www.youtube.com/watch?v=hDKCxebp88A) ] `11-22-2023`. freeCodeCamp. \"Machine Learning with Python and Scikit-Learn – Full Course\".\n",
    "  * [ [y](https://www.youtube.com/watch?v=0tM-l_ZsxjU) ] `07-18-2023`. freeCodeCamp. \"Python Tkinter GUI Design Using ttkbootstrap - Complete Course\".\n",
    "* More\n",
    "  * [ [y](https://www.youtube.com/watch?v=VN8r6zUr3Jw) ] `04-03-2024`. bytelegendshub. \"The Complete Process of Making & Sharing Your Python Package Online\".\n",
    "  * [ [y](https://www.youtube.com/watch?v=eJDIsFJN4OQ) ] `09-03-2022`. Coder Space. \"Let's code 3D Engine in Python. OpenGL Pygame Tutorial\".\n",
    "  * [ [y](https://www.youtube.com/watch?v=h0dglh9elCw) ] `11-24-2023`. Python Simplified. \"Simple Machine Learning GUI App with Taipy and Tensorflow\".\n",
    "  * [ [y](https://www.youtube.com/watch?v=WTLPmUHTPqo) ] `02-20-2022`. Tech With Tim. \"Planet Simulation In Python - Tutorial\".\n",
    "\n",
    "Online\n",
    "* https://pythonspeed.com/articles/cpu-thread-pool-size/\n",
    "* [ [o](https://thecleverprogrammer.com/2021/01/14/python-projects-with-source-code/) ] \"Python Projects with Source Code\""
   ]
  },
  {
   "cell_type": "markdown",
   "metadata": {},
   "source": [
    "---"
   ]
  },
  {
   "cell_type": "markdown",
   "metadata": {},
   "source": [
    "## Texts"
   ]
  },
  {
   "cell_type": "markdown",
   "metadata": {},
   "source": [
    "* Jolowicz, Claudio. (2024). _Hypermodern Python Tooling: Building Reliable Workflows for an Evolving Python Ecosystem_. O'Reilly."
   ]
  },
  {
   "cell_type": "markdown",
   "metadata": {},
   "source": [
    "---"
   ]
  },
  {
   "cell_type": "markdown",
   "metadata": {},
   "source": [
    "## Library"
   ]
  },
  {
   "cell_type": "markdown",
   "metadata": {},
   "source": [
    "* [ [h](https://docs.python.org/3/library/base64.html) ] base64\n",
    "* [ [h](https://docs.python.org/3/library/binascii.html) ] binascii\n",
    "* [ [h](https://docs.python.org/3/library/uu.html) ] uu"
   ]
  },
  {
   "cell_type": "markdown",
   "metadata": {},
   "source": [
    "---"
   ]
  },
  {
   "cell_type": "markdown",
   "metadata": {},
   "source": [
    "## Packages"
   ]
  },
  {
   "cell_type": "markdown",
   "metadata": {},
   "source": [
    "* [ h ][ [d](https://docs.aiohttp.org/en/stable/) ][ [g](https://github.com/aio-libs/aiohttp) ][ c ][ p ][ w ] AIOHTTP\n",
    "* [ h ][ d ][ g ][ c ][ [p](https://pypi.org/project/alpaca-trade-api/) ][ w ] Alpaca\n",
    "* [ h ][ [d](https://altair-viz.github.io) ][ g ][ c ][ p ][ w ] Altair\n",
    "* [ h ][ d ][ [g](https://github.com/bashtage/arch) ][ [c](https://anaconda.org/conda-forge/arch-py) ][ [p](https://pypi.org/project/arch/) ][ w ] Arch\n",
    "* [ h ][ [d](https://www.crummy.com/software/BeautifulSoup/) ][ g ][ c ][ [p](https://pypi.org/project/beautifulsoup4/) ][ w ] Beautiful Soup\n",
    "* [ [h](https://ofek.dev/bit/index.html) ][ d ][ g ][ c ][ p ][ w ] Bit\n",
    "* [ h ][ d ][ g ][ c ][ [p](https://pypi.org/project/black/) ][ w ] Black\n",
    "* [ [h](https://bokeh.org) ][ d ][ g ][ c ][ p ][ w ] Bokeh\n",
    "* [ h ][ [d](https://boto3.amazonaws.com/v1/documentation/api/latest/guide/quickstart.html) ][ g ][ c ][ [p](https://pypi.org/project/boto3/) ][ w ] Boto3\n",
    "* [ h ][ d ][ [g](https://github.com/tomkwok/calplot) ][ c ][ [p](https://pypi.org/project/calplot/) ][ w ] calplot\n",
    "* [ [h](https://palletsprojects.com/p/click/) ][ d ][ g ][ c ][ p ][ w ] Click\n",
    "* [ h ][ d ][ [g](https://github.com/cookiecutter/cookiecutter) ][ c ][ [p](https://pypi.org/project/cookiecutter/) ][ w ] Cookiecutter\n",
    "* [ h ][ d ][ [g](https://github.com/santosjorge/cufflinks) ][ c ][ [p](https://pypi.org/project/cufflinks/) ][ w ] Cufflinks\n",
    "* [ h ][ [d](https://cupy.dev/) ][ g ][ c ][ [p](https://pypi.org/project/cupy/) ][ w ] CuPy\n",
    "* [ h ][ [d](https://cvxopt.org) ][ [g](https://github.com/cvxopt/cvxopt) ][ c ][ [p](https://pypi.org/project/cvxopt/) ][ w ] cvxopt\n",
    "* [ [h](https://cython.org) ][ d ][ [g](https://github.com/cython) ][ c ][ p ][ [w](https://en.wikipedia.org/wiki/Cython) ] Cython\n",
    "* [ [h](https://www.dask.org/) ][ d ][ g ][ c ][ p ][ w ] Dask\n",
    "* [ [h](https://dash.plotly.com/) ][ d ][ g ][ c ][ [p](https://pypi.org/project/dash/) ][ w ] Dash\n",
    "* [ [h](https://www.djangoproject.com) ][ d ][ g ][ c ][ p ][ w ] Django\n",
    "* [ [h](http://www.fabfile.org) ][ d ][ g ][ c ][ p ][ w ] Fabric\n",
    "* [ h ][ d ][ [g](https://github.com/google/python-fire) ][ c ][ [p](https://pypi.org/project/fire/) ][ w ] Fire (google)\n",
    "* [ h ][ [d](https://flake8.pycqa.org/en/latest/) ][ g ][ c ][ p ][ w ] Flake8\n",
    "* [ h ][ [d](https://flask.palletsprojects.com) ][ g ][ c ][ [p](https://pypi.org/project/Flask/) ][ w ] Flask\n",
    "* [ h ][ [d](https://flask-pymongo.readthedocs.io/en/latest/) ][ g ][ c ][ p ][ w ] Flask-PyMongo\n",
    "* [ [h](https://holoviews.org) ][ d ][ g ][ c ][ p ][ w ] HoloViews\n",
    "* [ [h](https://holoviz.org) ][ d ][ g ][ c ][ p ][ w ] HoloViz\n",
    "* [ [h](https://hvplot.holoviz.org) ][ d ][ g ][ c ][ p ][ w ] hvPlot\n",
    "* [ [h](https://ibis-project.org/) ][ d ][ g ][ c ][ p ][ w ] Ibis\n",
    "* [ [h](https://imbalanced-learn.org/stable/) ][ d ][ g ][ c ][ p ][ w ] Imbalanced-Learn\n",
    "* [ [h](https://ipython.org/) ][ d ][ g ][ c ][ [p](https://pypi.org/project/ipykernel/) ][ w ] IPyKernel\n",
    "* [ h ][ [d](https://matplotlib.org/ipympl/) ][ [g](https://github.com/matplotlib/ipympl) ][ c ][ [p](https://pypi.org/project/ipympl/) ][ w ] IPyMpl\n",
    "* [ [h](https://ipython.org) ][ [d](https://ipython.readthedocs.io/) ][ g ][ c ][ p ][ w ] IPython\n",
    "  * [Tutorial](https://ipython.readthedocs.io/en/stable/interactive/tutorial.html)\n",
    "  * [Helpful Commands](https://ipython.readthedocs.io/en/stable/interactive/tutorial.html#the-four-most-helpful-commands)\n",
    "  * [Magic Functions](https://ipython.readthedocs.io/en/stable/interactive/tutorial.html#magic-functions)\n",
    "* [ h ][ [d](https://ipywidgets.readthedocs.io/en/latest/index.html) ][ [g](https://github.com/jupyter-widgets/ipywidgets) ][ c ][ [p](https://pypi.org/project/ipywidgets/) ][ w ] IPyWidgets\n",
    "* [ h ][ [d](https://jupyterlab.readthedocs.io/en/latest/) ][ g ][ c ][ [p](https://pypi.org/project/jupyterlab/) ][ w ] Jupyter Lab\n",
    "* [ h ][ [d](https://jupyter-notebook.readthedocs.io/en/stable/) ][ [g](https://github.com/jupyter/notebook) ][ c ][ [p](https://pypi.org/project/notebook/) ][ w ] Jupyter Notebook\n",
    "* [ h ][ [d](https://medium.com/plotly/introducing-jupyterdash-811f1f57c02e) ][ [g](https://github.com/plotly/jupyter-dash) ][ c ][ [p](https://pypi.org/project/jupyter-dash/) ][ w ] jupyter-dash\n",
    "* [ h ][ d ][ [g](https://github.com/pbugnion/gmaps) ][ c ][ p ][ w ] jupyter-gmaps\n",
    "* [ h ][ d ][ g ][ c ][ [p](https://pypi.org/project/jupyterlab-widgets/) ][ w ] jupyterlab-widgets\n",
    "* [ [h](https://keras.io) ][ d ][ g ][ c ][ p ][ w ] Keras\n",
    "* [ h ][ [d](https://lxml.de/) ][ g ][ c ][ [p](https://pypi.org/project/lxml/) ][ w ] lxml\n",
    "* [ [h](https://www.manim.community) ][ d ][ g ][ c ][ [p](https://pypi.org/project/manim/) ][ w ] Manim\n",
    "* [ [h](https://matplotlib.org) ][ [d](https://matplotlib.org/) ][ g ][ c ][ [p](https://pypi.org/project/matplotlib/) ][ w ] Matplotlib\n",
    "* [ h ][ d ][ [g](https://github.com/stephenmcd/mezzanine) ][ c ][ p ][ w ] Mezzanine\n",
    "* [ [h](https://mpmath.org/) ][ d ][ g ][ [c](https://anaconda.org/conda-forge/mpmath) ][ [p](https://pypi.org/project/mpmath/) ][ w ] Mpmath\n",
    "* [ [h](http://www.mypy-lang.org) ][ [d](https://mypy.readthedocs.io/en/stable/) ][ [g](https://github.com/python/mypy) ][ [c](https://anaconda.org/conda-forge/mypy) ][ [p](https://pypi.org/project/mypy/) ][ w ] MyPy\n",
    "* [ h ][ [d](https://nbconvert.readthedocs.io/) ][ g ][ c ][ p ][ w ] nbconvert\n",
    "* [ h ][ d ][ g ][ c ][ p ][ w ] nbformat\n",
    "* [ [h](http://www.nltk.org) ][ d ][ g ][ c ][ p ][ w ] NLTK\n",
    "* [ [h](https://numba.pydata.org/) ][ [d](https://numba.readthedocs.io/en/stable/index.html) ][ g ][ [c](https://anaconda.org/conda-forge/numba/) ][ [p](https://pypi.org/project/numba/) ][ [w](https://en.wikipedia.org/wiki/Numba) ] Numba\n",
    "* [ h ][ [d](https://numexpr.readthedocs.io/en/latest/) ][ [g](https://github.com/pydata/numexpr) ][ c ][ [p](https://pypi.org/project/numexpr/) ][ w ] NumExpr\n",
    "* [ [h](https://numpy.org) ][ d ][ g ][ c ][ [p](https://pypi.org/project/numpy/) ][ w ] NumPy\n",
    "  * [Learn](https://numpy.org/learn/)\n",
    "  * [Cheatsheet (Datacamp)](https://www.datacamp.com/community/blog/python-numpy-cheat-sheet)\n",
    "  * [Cheatsheet (Dataquest)](https://www.dataquest.io/blog/numpy-cheat-sheet/)\n",
    "* [ [h](https://numpy.org/numpy-financial/) ][ d ][ [g](https://github.com/numpy/numpy-financial) ][ [c](https://anaconda.org/conda-forge/numpy-financial) ][ [p](https://pypi.org/project/numpy-financial/) ][ w ] numpy-financial\n",
    "* [ h ][ [d](https://oauthlib.readthedocs.io/) ][ [g](https://github.com/oauthlib/oauthlib) ][ [c](https://anaconda.org/conda-forge/oauthlib) ][ [p](https://pypi.org/project/oauthlib/) ][ w ] OAuthLib\n",
    "* [ h ][ d ][ [g](https://github.com/openai/openai-python) ][ c ][ [p](https://pypi.org/project/openai/) ][ w ] OpenAI\n",
    "* [ [h](https://opencv.org) ][ d ][ g ][ c ][ p ][ w ] OpenCV\n",
    "* [ h ][ [d](https://openpyxl.readthedocs.io/en/stable/) ][ g ][ c ][ [p](https://pypi.org/project/openpyxl/) ][ w ] OpenPyXL\n",
    "* [ [h]((https://pandas.pydata.org)) ][ [d](https://pandas.pydata.org/docs/user_guide/index.html) ][ g ][ c ][ p ][ w ] Pandas\n",
    "  * User Guide\n",
    "    * [Indexing and selecting data](https://pandas.pydata.org/pandas-docs/stable/user_guide/indexing.html)\n",
    "      * [Returning a view versus a copy](https://pandas.pydata.org/pandas-docs/stable/user_guide/indexing.html#returning-a-view-versus-a-copy)\n",
    "    * [Reshaping and pivot tables](https://pandas.pydata.org/pandas-docs/stable/user_guide/reshaping.html)\n",
    "      * [Computing indicator / dummy variables](https://pandas.pydata.org/pandas-docs/stable/user_guide/reshaping.html#computing-indicator-dummy-variables)\n",
    "    * [Time series / date functionality](https://pandas.pydata.org/pandas-docs/stable/user_guide/timeseries.html)\n",
    "  * [Getting Started](https://pandas.pydata.org/docs/getting_started/index.html)\n",
    "  * [Community Tutorials](https://pandas.pydata.org/docs/getting_started/tutorials.html#communitytutorials)\n",
    "  * [Cheatsheet](https://pandas.pydata.org/Pandas_Cheat_Sheet.pdf)\n",
    "* [ [h](https://pandoc.org) ][ d ][ g ][ c ][ p ][ w ] Pandoc\n",
    "* [ [h](https://panel.holoviz.org) ][ d ][ g ][ c ][ p ][ w ] Panel\n",
    "* [ [h](https://plotly.com/python/) ][ d ][ g ][ c ][ p ][ w ] Plotly\n",
    "* [ h ][ d ][ [g](https://github.com/brunorosilva/plotly-calplot) ][ c ][ [p](https://pypi.org/project/plotly-calplot/) ][ w ] plotly-calplot\n",
    "* [ [h](https://www.pola.rs/) ][ d ][ g ][ c ][ p ][ w ] Polars\n",
    "* [ [h](https://www.fatiando.org/pooch/latest/) ][ d ][ [g](https://github.com/fatiando/pooch) ][ c ][ p ][ w ] Pooch\n",
    "* [ h ][ d ][ [g](https://github.com/jazzband/prettytable) ][ [c](https://anaconda.org/conda-forge/prettytable) ][ [p](https://pypi.org/project/prettytable/) ][ w ] prettytable\n",
    "* [ [h](https://facebook.github.io/prophet/) ][ [d](https://facebook.github.io/prophet/docs/quick_start.html) ][ g ][ c ][ p ][ w ] Prophet\n",
    "* [ h ][ [d](https://www.psycopg.org/) ][ g ][ c ][ [p](https://pypi.org/project/psycopg2/) ][ w ] Psycopg2\n",
    "* [ h ][ [d](https://www.pybroker.com/en/latest/) ][ g ][ c ][ p ][ w ] PyBroker\n",
    "* [ [h](https://pycaret.org) ][ d ][ g ][ c ][ p ][ w ] PyCaret\n",
    "* [ h ][ [d](https://docs.pydantic.dev/latest/) ][ g ][ c ][ p ][ w ] Pydantic\n",
    "* [ [h](https://pygments.org/) ][ d ][ g ][ c ][ p ][ w ] Pygments\n",
    "* [ h ][ [d](https://pymongo.readthedocs.io/en/stable/) ][ g ][ c ][ [p](https://pypi.org/project/pymongo/) ][ w ] PyMongo\n",
    "* [ [h](https://docs.pytest.org/) ][ d ][ g ][ c ][ p ][ w ] PyTest\n",
    "* [ [h](https://pytorch.org) ][ d ][ g ][ c ][ p ][ w ] PyTorch\n",
    "* [ [h](https://pyviz.org) ][ d ][ g ][ c ][ p ][ w ] PyViz\n",
    "  * [ [y](https://www.youtube.com/watch?v=k27MJJLJNT4) ] Anaconda. (2018). \"PyViz: Dashboards for Visualizing 1 Billion Datapoints in 30 Lines of Python\".\n",
    "* [ [h](https://quantstack.net/) ][ d ][ g ][ c ][ p ][ w ] QuantStack\n",
    "* [ h ][ d ][ [g](https://github.com/tmbo/questionary) ][ c ][ [p](https://pypi.org/project/questionary/) ][ w ] Questionary\n",
    "* [ h ][ [d](https://requests.readthedocs.io/en/latest/) ][ g ][ c ][ [p](https://pypi.org/project/requests/) ][ w ] Requests\n",
    "* [ h ][ [d](https://requests-oauthlib.readthedocs.io/) ][ [g](https://github.com/requests/requests-oauthlib) ][ [c](https://anaconda.org/conda-forge/requests-oauthlib) ][ [p](https://pypi.org/project/requests-oauthlib/) ][ w ] Requests-OAuthLib\n",
    "* [ [h](https://rpy2.github.io) ][ d ][ g ][ c ][ [p](https://pypi.org/project/rpy2/) ][ w ] RPy2\n",
    "* [ h ][ [d](https://schemdraw.readthedocs.io/en/latest/index.html) ][ g ][ c ][ p ][ w ] SchemDraw\n",
    "* [ [h](https://scikit-learn.org/stable/index.html) ][ d ][ g ][ c ][ p ][ w ] Scikit-Learn\n",
    "* [ [h](https://surpriselib.com/) ][ [d](https://surprise.readthedocs.io/en/stable/index.html) ][ g ][ c ][ [p](https://pypi.org/project/scikit-surprise/) ][ w ] Scikit-Surprise\n",
    "* [ [h](https://www.scipy.org) ][ d ][ g ][ c ][ p ][ w ] SciPy\n",
    "  * [Lecture Notes](https://scipy-lectures.org)\n",
    "  * [Cookbook](https://scipy-cookbook.readthedocs.io/index.html)\n",
    "  * [Cheatsheet (Datacamp)](https://www.datacamp.com/community/blog/python-scipy-cheat-sheet)\n",
    "* [ [h](https://scrapy.org/) ][ d ][ g ][ c ][ p ][ w ] ScraPy\n",
    "* [ [h](https://seaborn.pydata.org) ][ d ][ g ][ c ][ p ][ w ] Seaborn\n",
    "* [ h ][ [d](https://www.selenium.dev/documentation/webdriver/) ][ g ][ c ][ [p](https://pypi.org/project/selenium/) ][ w ] Selenium\n",
    "* [ h ][ [d](https://simpy.readthedocs.io/en/latest/) ][ g ][ c ][ p ][ w ] SimPy\n",
    "* [ h ][ [d](https://spacy.io/) ][ g ][ c ][ [p](https://pypi.org/project/spacy/) ][ w ] SpaCy\n",
    "* [ h ][ [d](https://splinter.readthedocs.io/en/latest/index.html) ][ g ][ c ][ [p](https://pypi.org/project/splinter/) ][ w ] Splinter\n",
    "* [ h ][ [d](https://www.sqlalchemy.org/) ][ g ][ c ][ [p](https://pypi.org/project/SQLAlchemy/) ][ w ] SQLAlchemy\n",
    "* [ [h](https://www.statsmodels.org/stable/) ][ d ][ g ][ c ][ p ][ w ] Statsmodels\n",
    "* [ [h](https://www.sympy.org/en/index.html) ][ d ][ g ][ [c](https://anaconda.org/conda-forge/sympy) ][ [p](https://pypi.org/project/sympy/) ][ w ] SymPy\n",
    "* [ [h](https://www.tensorflow.org) ][ d ][ g ][ [c](https://anaconda.org/conda-forge/tensorflow) ][ p ][ w ] TensorFlow\n",
    "* [ h ][ [d](https://voila.readthedocs.io/) ][ g ][ c ][ [p](https://pypi.org/project/voila/) ][ w ] Voila\n",
    "  * [Blog](https://blog.jupyter.org/and-voilà-f6a2c08a4a93)\n",
    "* [ h ][ [d](https://web3py.readthedocs.io/) ][ g ][ c ][ p ][ w ] Web3\n",
    "* [ h ][ d ][ [g](https://github.com/SergeyPirogov/webdriver_manager) ][ c ][ [p](https://pypi.org/project/webdriver-manager/) ][ w ] webdriver-manager"
   ]
  },
  {
   "cell_type": "markdown",
   "metadata": {},
   "source": [
    "---"
   ]
  }
 ],
 "metadata": {
  "kernelspec": {
   "display_name": "Python 3 (ipykernel)",
   "language": "python",
   "name": "python3"
  },
  "language_info": {
   "codemirror_mode": {
    "name": "ipython",
    "version": 3
   },
   "file_extension": ".py",
   "mimetype": "text/x-python",
   "name": "python",
   "nbconvert_exporter": "python",
   "pygments_lexer": "ipython3",
   "version": "3.11.5"
  }
 },
 "nbformat": 4,
 "nbformat_minor": 4
}
