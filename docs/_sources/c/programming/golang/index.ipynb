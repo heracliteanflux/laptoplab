{
 "cells": [
  {
   "cell_type": "markdown",
   "metadata": {},
   "source": [
    "# Go"
   ]
  },
  {
   "cell_type": "markdown",
   "metadata": {},
   "source": [
    "---"
   ]
  },
  {
   "cell_type": "markdown",
   "metadata": {},
   "source": [
    "## Table of Contents\n",
    "```{contents}\n",
    "```"
   ]
  },
  {
   "cell_type": "markdown",
   "metadata": {},
   "source": [
    "---"
   ]
  },
  {
   "cell_type": "markdown",
   "metadata": {},
   "source": [
    "## Figures"
   ]
  },
  {
   "cell_type": "markdown",
   "metadata": {},
   "source": [
    "* [ [h](https://www.cs.princeton.edu/~bwk/) ][ [w](https://en.wikipedia.org/wiki/Brian_Kernighan) ] `1942-----` Kernighan, Brian\n",
    "* [ [w](https://en.wikipedia.org/wiki/Rob_Pike) ] `1956-----` Pike, Rob"
   ]
  },
  {
   "cell_type": "markdown",
   "metadata": {},
   "source": [
    "---"
   ]
  },
  {
   "cell_type": "markdown",
   "metadata": {},
   "source": [
    "## Texts"
   ]
  },
  {
   "cell_type": "markdown",
   "metadata": {},
   "source": [
    "* [ [h](https://www.gopl.io/) ] Donovan, Alan & Brian Kernighan. (2015). _The Go Programming Language_. Addison-Wesley.\n",
    "* Plotka, Bartlomiej. (2022). _Efficient Go: Data-Driven Performance Optimization_. O'Reilly.\n",
    "* Woodbeck, Adam. (2022). _Network Programming with Go: Code Secure and Reliable Network Services from Scratch_. No Starch Press."
   ]
  },
  {
   "cell_type": "markdown",
   "metadata": {},
   "source": [
    "---"
   ]
  }
 ],
 "metadata": {
  "language_info": {
   "name": "python"
  }
 },
 "nbformat": 4,
 "nbformat_minor": 2
}
