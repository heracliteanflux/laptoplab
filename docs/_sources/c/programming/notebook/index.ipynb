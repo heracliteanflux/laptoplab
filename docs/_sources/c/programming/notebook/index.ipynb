{
 "cells": [
  {
   "cell_type": "markdown",
   "metadata": {},
   "source": [
    "# Notebook Programming"
   ]
  },
  {
   "cell_type": "markdown",
   "metadata": {},
   "source": [
    "---"
   ]
  },
  {
   "cell_type": "markdown",
   "metadata": {},
   "source": [
    "## Table of Contents\n",
    "```{contents}\n",
    "```"
   ]
  },
  {
   "cell_type": "markdown",
   "metadata": {},
   "source": [
    "---"
   ]
  },
  {
   "cell_type": "markdown",
   "metadata": {},
   "source": [
    "## Jupyter"
   ]
  },
  {
   "cell_type": "markdown",
   "metadata": {},
   "source": [
    "[ [d](https://code.visualstudio.com/docs/datascience/jupyter-notebooks) ] Jupyter Notebooks in VS Code\n",
    "\n",
    "* [ [h](https://jupyter.org) ][ [d](https://docs.jupyter.org) ][ g ][ [w](https://en.wikipedia.org/wiki/Project_Jupyter) ] Jupyter\n",
    "  * [ [d](https://jupyter.readthedocs.io/en/latest/content-quickstart.html) ] Get Started\n",
    "  * [ [d](https://jupyter.readthedocs.io/en/latest/projects/architecture/content-architecture.html) ] Architecture\n",
    "* [ h ][ [d](https://ipython.readthedocs.io) ][ g ][ [w](https://en.wikipedia.org/wiki/IPython) ] IPython\n",
    "  * [ [d](https://ipython.readthedocs.io/en/stable/install/kernel_install.html#kernels-for-different-environments) ] Kernels for Conda environments\n",
    "* [ h ][ [d](https://jupyterlab.readthedocs.io) ][ [g](https://github.com/jupyterlab/jupyterlab) ][ w ] Jupyter Lab\n",
    "  * [ [d](https://jupyterlab.readthedocs.io/en/stable/user/files.html#displaying-hidden-files) ] Displaying Hidden Files\n",
    "  * [ [d](https://jupyterlab.readthedocs.io/en/stable/user/extensions.html) ] Jupyter Extensions\n",
    "* [ h ][ [d](https://jupyter-notebook.readthedocs.io) ][ [g](https://github.com/jupyter/notebook) ][ w ] Jupyter Notebook\n",
    "  * [ [d](https://jupyter-notebook.readthedocs.io/en/stable/notebook.html) ] The Jupyter Notebook\n",
    "  * [ [d](https://jupyter-notebook.readthedocs.io/en/stable/examples/Notebook/Notebook%20Basics.html#Modal-editor) ] Edit Mode and Command Mode\n",
    "  * [ [d](https://jupyter-notebook.readthedocs.io/en/stable/examples/Notebook/Notebook%20Basics.html#Keyboard-Navigation) ] Command Mode Shortcuts\n",
    "  * [ [d](https://jupyter-notebook.readthedocs.io/en/stable/examples/Notebook/Importing%20Notebooks.html) ] Importing Jupyter Notebook as Modules\n",
    "  * [ [d](https://jupyter-notebook.readthedocs.io/en/stable/troubleshooting.html) ] Troubleshooting Jupyter\n",
    "  * [ [d](https://jupyter-notebook.readthedocs.io/en/stable/troubleshooting.html#windows-systems) ] Troubleshooting Jupyter: Windows\n",
    "* [ h ][ [d](https://jupyter-server.readthedocs.io) ][ [g](https://github.com/jupyter-server/jupyter_server) ][ w ] Jupyter Server\n",
    "* nbformat\n",
    "  * [ [d](https://nbformat.readthedocs.io/en/latest/index.html) ] The Jupyter Notebook Format\n",
    "* [ [h](https://jupyter.org/binder) ] Binder\n",
    "* [ [d](https://ipyparallel.readthedocs.io) ] ipyparallel\n",
    "* [ [d](https://ipywidgets.readthedocs.io) ] ipywidgets\n",
    "* [ [d](https://voila.readthedocs.io) ] Voila\n",
    "\n",
    "Online\n",
    "* [ [o](https://stackoverflow.com/questions/57113816/how-to-delete-all-markdown-cells-in-jupyter-notebook) ] StackExchange. \"How to delete all markdown cells in jupyter notebook?\".\n",
    "* https://www.geeksforgeeks.org/how-to-optimize-jupyter-notebook-performance/"
   ]
  },
  {
   "cell_type": "markdown",
   "metadata": {},
   "source": [
    "### Config"
   ]
  },
  {
   "cell_type": "markdown",
   "metadata": {},
   "source": [
    "macOS\n",
    "* `~/.ipython`\n",
    "* `~/.jupyter`"
   ]
  },
  {
   "cell_type": "markdown",
   "metadata": {},
   "source": [
    "### Jupyter Notebook Shortcuts in Visual Studio Code"
   ]
  },
  {
   "cell_type": "markdown",
   "metadata": {},
   "source": [
    "Open the command pallette (Cmd-Shift-P (macoS) or Ctrl-Shift-P (Windows)) and search for `Open Keyboard Shortcuts`."
   ]
  },
  {
   "cell_type": "markdown",
   "metadata": {},
   "source": [
    "Shortcut    | Symbol | Action\n",
    "------------|--------|-------\n",
    "Alt-Down    | &#x2387;&darr;   | Move the current cell below the cell below (i.e., swap them) (Windows)\n",
    "Alt-Enter   | &#x2387;&#x21B5; | Run the current cell and create a new cell below (Windows)\n",
    "Alt-Up      | &#x2387;&uarr;   | Move the current cell above the cell above (i.e., swap them) (Windows)\n",
    "Cmd-F       | &#8984;F         | Filter (macOS)\n",
    "Ctrl-Enter  | &#x2303;&#x21B5; | Run the current cell\n",
    "Ctrl-F      | &#x2303;F        | Filter (Windows)\n",
    "Ctrl-S      | &#x2303;S        | Save the notebook\n",
    "Down        | &darr;           | Select the cell below the current cell\n",
    "Enter       | &#x21B5;         | Switch to Edit Mode\n",
    "Esc         |                  | Switch to Command Mode\n",
    "Opt-Down    | &#x2325;&darr;   | Move the current cell below the cell below (i.e., swap them) (macOS)\n",
    "Opt-Enter   | &#x2325;&#x21B5; | Run the current cell and create a new cell below (macOS)\n",
    "Opt-Up      | &#x2325;&uarr;   | Move the current cell above the cell above (i.e., swap them) (macOS)\n",
    "Shift-Enter | &#x21E7;&#x21B5; | Run the current cell and advance to the next cell\n",
    "Shift-L     | &#x21E7;L        | Toggle line numbering for the entire notebook (when in command mode)\n",
    "Shift-V     | &#x21E7;V        | paste above ???\n",
    "Shift-LeftClick | | Select consecutive cells\n",
    "Up          | &uarr;           | Select the cell above the current cell"
   ]
  },
  {
   "cell_type": "markdown",
   "metadata": {},
   "source": [
    "Command Mode\n",
    "* `a` create a new cell above the current cell\n",
    "* `b` create a new cell below the current cell\n",
    "* `c` copy the current cell\n",
    "* `j` select the cell below the current cell\n",
    "* `k` select the cell above the current cell\n",
    "* `l` enable/disable line numbering in a code cell\n",
    "* `m` convert the current cell to a markdown cell\n",
    "* `v` paste the previously copied cell below the current cell\n",
    "* `y` convert the current cell to a code cell\n",
    "* `x` or `dd` delete the current cell\n",
    "* `z` undo previous cell operation"
   ]
  },
  {
   "cell_type": "markdown",
   "metadata": {},
   "source": [
    "### Managing Jupyter Kernels"
   ]
  },
  {
   "cell_type": "markdown",
   "metadata": {},
   "source": [
    "List Jupyter kernels.\n",
    "\n",
    "```bash\n",
    "jupyter kernelspec list\n",
    "```\n",
    "\n",
    "1 - Activate the Conda environment that you want to make a Jupyter kernel.\n",
    "\n",
    "```bash\n",
    "conda activate my_conda_env\n",
    "```\n",
    "\n",
    "2 - Notice how the default Jupyter kernel path changes to the activated Conda environment. This is why the default Jupyter kernel \"Python 3 (IPyKernel)\" depends on the underlying Conda environment.\n",
    "\n",
    "```bash\n",
    "jupyter kernelspec list\n",
    "```\n",
    "\n",
    "3 - Make your Conda environment a new Jupyter kernel.\n",
    "\n",
    "```bash\n",
    "python -m ipykernel install --user --name my_conda_env\n",
    "```\n",
    "\n",
    "4 - Verify the successful creation of the new Jupyter kernel.\n",
    "\n",
    "```bash\n",
    "jupyter kernelspec list\n",
    "```\n",
    "\n",
    "Delete a Jupyter kernel.\n",
    "\n",
    "```bash\n",
    "jupyter kernelspec remove my_conda_env\n",
    "```"
   ]
  },
  {
   "cell_type": "markdown",
   "metadata": {},
   "source": [
    "### Command Reference"
   ]
  },
  {
   "cell_type": "markdown",
   "metadata": {},
   "source": [
    "`jupyter --version`\n",
    "`jupyter lab --version`<br>\n",
    "`jupyter notebook --version`<br>\n",
    "\n",
    "jupyter lab\n",
    "* `jupyter lab -h` How do I use command `jupyter lab`?\n",
    "* `jupyter lab --version` What is the Jupyter Lab version?\n",
    "* `jupyter lab` Launch Jupyter Lab.\n",
    "* `jupyter lab list` Which Jupyter Lab servers are currently running?\n",
    "* `jupyter lab path` or `jupyter lab paths` Where are the Jupyter Lab configuration directories located in the filesystem?\n",
    "* `jupyter lab build -h` How do I use command `jupyter lab build`?\n",
    "* `jupyter lab clean -h` How do I use command `jupyter lab clean`?\n",
    "* `jupyter lab --notebook-dir=.`\n",
    "\n",
    "`jupyter lab --ContentsManager.allow_hidden=True &>> .jupyter.log &`\n",
    "\n",
    "jupyter labextension\n",
    "* `jupyter labextension -h` How do I use command `jupyter labextension`?\n",
    "* `jupyter labextension --version` What is the version?\n",
    "* `jupyter labextension list` Which Jupyter Lab extensions are currently configured?\n",
    "\n",
    "jupyter notebook\n",
    "* `jupyter notebook -h` How do I use command `jupyter notebook`?\n",
    "* `jupyter notebook --version` What is the Jupyter Notebook version?\n",
    "* `jupyter notebook` Launch Jupyter Notebook.\n",
    "* `jupyter notebook list` Which Jupyter Notebook servers are currently running?\n",
    "* `jupyter notebook --notebook-dir=.`\n",
    "\n",
    "jupyter nbextension\n",
    "* `jupyter nbextension -h` How do I use command `jupyter nbextension`?\n",
    "* `jupyter nbextension --version` What is the version?\n",
    "* `jupyter nbextension list` Which Jupyter Notebook extensions are currently configured?\n",
    "\n",
    "jupyter\n",
    "* `jupyter -h` How do I use command `jupyter`?\n",
    "* `jupyter --version` What is the Jupyter version?\n",
    "* `jupyter --config-dir` Where is the Jupyter configuration directory located in the filesystem?\n",
    "* `jupyter --data-dir` Where is the Jupyter data directory located in the filesystem?\n",
    "* `jupyter --runtime-dir` Where is the Jupyter runtime directory located in the filesystem?\n",
    "\n",
    "jupyter kernelspec\n",
    "* `jupyter kernelspec -h` How do I use command `jupyter kernelspec`?\n",
    "* `jupyter kernelspec --version` What is the version?\n",
    "* `jupyter kernelspec list` Which kernels are currently available?\n",
    "\n",
    "jupyter server\n",
    "* `jupyter server -h` How do I use command `jupyter server`?\n",
    "* `jupyter server --version` What is the Jupyter Server version?\n",
    "* `jupyter server list` Which Jupyter servers are currently running?\n",
    "* `jupyter server extension list` or `jupyter lab extension list` Which Jupyter Server extensions are currently configured?\n",
    "\n",
    "ipython\n",
    "* `ipython -h` How do I use command `ipython`?\n",
    "* `ipython -V` What is the IPython version?\n",
    "* `ipython locate` Print the path to the IPython directory."
   ]
  },
  {
   "cell_type": "markdown",
   "metadata": {},
   "source": [
    "### Exporting Jupyter notebook files as python files"
   ]
  },
  {
   "cell_type": "markdown",
   "metadata": {},
   "source": [
    "[ [d](https://code.visualstudio.com/docs/datascience/jupyter-notebooks#_export-your-jupyter-notebook) ] Visual Studio Code's Export your Jupyter Notebook: `Export`\n",
    "\n",
    "Jupyter Lab: `File` -> `Export Notebook As...` -> `Export Notebook to Executable Script`.\n",
    "\n",
    "Jupyter Notebook: `File` -> `Download as` -> `Python (.py)`."
   ]
  },
  {
   "cell_type": "markdown",
   "metadata": {},
   "source": [
    "---"
   ]
  },
  {
   "cell_type": "markdown",
   "metadata": {},
   "source": [
    "## Google Colab"
   ]
  },
  {
   "cell_type": "markdown",
   "metadata": {},
   "source": [
    "### Resources"
   ]
  },
  {
   "cell_type": "markdown",
   "metadata": {},
   "source": [
    "* [ [d](https://colab.research.google.com/notebooks/basic_features_overview.ipynb) ] Overview of Colaboratory Features\n",
    "* [ [d](https://colab.research.google.com/notebooks/markdown_guide.ipynb) ] Markdown Guide\n",
    "* [ [d](https://colab.research.google.com/notebooks/charts.ipynb) ] Charts in Colaboratory\n",
    "* [ [d](https://colab.research.google.com/notebooks/io.ipynb) ] External data: Local Files, Drive, Sheets, and Cloud Storage\n",
    "* [ [d](https://colab.research.google.com/notebooks/bigquery.ipynb) ] Getting started with BigQuery\n",
    "* [ [d](https://colab.research.google.com/notebooks/forms.ipynb) ] Forms\n",
    "* [ [d](https://colab.research.google.com/notebooks/data_table.ipynb) ] Data Table\n",
    "* [ [d](https://colab.research.google.com/notebooks/snippets/accessing_files.ipynb) ] Accessing files\n",
    "* [ [d](https://colab.research.google.com/notebooks/snippets/advanced_outputs.ipynb) ] Advanced Outputs\n",
    "* [ [d](https://colab.research.google.com/notebooks/snippets/altair.ipynb) ] Altair\n",
    "* [ [d](https://colab.research.google.com/notebooks/snippets/bigquery.ipynb) ] BigQuery\n",
    "* [ [d](https://colab.research.google.com/notebooks/snippets/drive.ipynb) ] Google Drive\n",
    "* [ [d](https://colab.research.google.com/notebooks/snippets/gcs.ipynb) ] Saving Data to Google Cloud Storage\n",
    "* [ [d](https://colab.research.google.com/notebooks/snippets/forms.ipynb) ] Forms snippets\n",
    "* [ [d](https://colab.research.google.com/notebooks/snippets/importing_libraries.ipynb) ] Importing libraries\n",
    "* [ [d](https://colab.research.google.com/notebooks/snippets/sheets.ipynb) ] Google Sheets"
   ]
  },
  {
   "cell_type": "markdown",
   "metadata": {},
   "source": [
    "### Apache Spark, PostgreSQL, & Google Colab"
   ]
  },
  {
   "cell_type": "markdown",
   "metadata": {},
   "source": [
    "```python\n",
    "#####\n",
    "#\n",
    "#     APACHE SPARK + POSTGRES + GOOGLE COLAB\n",
    "#\n",
    "#     Find the latest versions of\n",
    "#        Spark & Hadoop:  https://spark.apache.org/downloads.html (https://www.apache.org/dist/spark/)\n",
    "#        Postgres driver: https://jdbc.postgresql.org/\n",
    "\n",
    "#####\n",
    "#\n",
    "#     CONFIGURE VERSIONS\n",
    "#\n",
    "import os\n",
    "os.environ['HADOOP_VERSION']   = hadoop_version   = 'hadoop3'\n",
    "os.environ['SPARK_VERSION']    = spark_version    = 'spark-3.5.0'\n",
    "os.environ['POSTGRES_VERSION'] = postgres_version = 'postgresql-42.6.0'\n",
    "#\n",
    "#     it should not be necessary to modify code below this point\n",
    "#\n",
    "####################\n",
    "\n",
    "# Install Java\n",
    "! apt install openjdk-11-jdk-headless > /dev/null\n",
    "os.environ['JAVA_HOME']  = '/usr/lib/jvm/java-11-openjdk-amd64'\n",
    "\n",
    "# Install Spark\n",
    "! wget https://www.apache.org/dist/spark/$SPARK_VERSION/$SPARK_VERSION-bin-$HADOOP_VERSION.tgz\n",
    "! tar xf $SPARK_VERSION-bin-$HADOOP_VERSION.tgz\n",
    "os.environ['SPARK_HOME'] = f'/content/{spark_version}-bin-{hadoop_version}'\n",
    "! pip install findspark\n",
    "\n",
    "# Install Postgres driver\n",
    "! wget https://jdbc.postgresql.org/download/$POSTGRES_VERSION.jar\n",
    "\n",
    "# Install AWS's Boto3\n",
    "! pip install boto3\n",
    "\n",
    "import boto3\n",
    "import findspark\n",
    "findspark.init()\n",
    "from   getpass     import getpass\n",
    "from   pyspark.sql import SparkSession\n",
    "\n",
    "spark = SparkSession.builder \\\n",
    "  .appName('CustomerReviews') \\\n",
    "  .config('spark.driver.extraClassPath', f'/content/{postgres_version}.jar') \\\n",
    "  .getOrCreate()\n",
    "spark\n",
    "```"
   ]
  },
  {
   "cell_type": "markdown",
   "metadata": {},
   "source": [
    "---"
   ]
  },
  {
   "cell_type": "markdown",
   "metadata": {},
   "source": [
    "## Terms"
   ]
  },
  {
   "cell_type": "markdown",
   "metadata": {},
   "source": [
    "* [ w ] Google Colab\n",
    "* [ [w](https://en.wikipedia.org/wiki/Interactive_computing) ] Interactive Computing\n",
    "* [ w ] Jupyter\n",
    "* [ [w](https://en.wikipedia.org/wiki/Literate_programming) ] Literate Programming\n",
    "* [ [w](https://en.wikipedia.org/wiki/Notebook_interface) ] Notebook Interface"
   ]
  },
  {
   "cell_type": "markdown",
   "metadata": {},
   "source": [
    "---"
   ]
  }
 ],
 "metadata": {
  "language_info": {
   "name": "python"
  }
 },
 "nbformat": 4,
 "nbformat_minor": 2
}
