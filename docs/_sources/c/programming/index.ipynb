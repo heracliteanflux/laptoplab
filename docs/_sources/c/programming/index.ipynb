{
 "cells": [
  {
   "cell_type": "markdown",
   "metadata": {},
   "source": [
    "# Programming"
   ]
  },
  {
   "cell_type": "markdown",
   "metadata": {},
   "source": [
    "---"
   ]
  },
  {
   "cell_type": "markdown",
   "metadata": {},
   "source": [
    "## Table of Contents\n",
    "```{contents}\n",
    "```"
   ]
  },
  {
   "cell_type": "markdown",
   "metadata": {},
   "source": [
    "---"
   ]
  },
  {
   "cell_type": "markdown",
   "metadata": {},
   "source": [
    "## Sections\n",
    "```{tableofcontents}\n",
    "```"
   ]
  },
  {
   "cell_type": "markdown",
   "metadata": {},
   "source": [
    "---"
   ]
  },
  {
   "cell_type": "markdown",
   "metadata": {},
   "source": [
    "## Languages"
   ]
  },
  {
   "cell_type": "markdown",
   "metadata": {},
   "source": [
    "* [ [w](https://en.wikipedia.org/wiki/First-generation_programming_language) ] 1GL First-Generation Languages\n",
    "* [ [w](https://en.wikipedia.org/wiki/Second-generation_programming_language) ] 2GL Second-Generation Languages\n",
    "* [ [w](https://en.wikipedia.org/wiki/Third-generation_programming_language) ] 3GL Third-Generation Languages\n",
    "* [ [w](https://en.wikipedia.org/wiki/Fourth-generation_programming_language) ] 4GL Fourth-Generation Languages\n",
    "* [ [w](https://en.wikipedia.org/wiki/Fifth-generation_programming_language) ] 5GL Fifth-Generation Languages\n",
    "* [ [w](https://en.wikipedia.org/wiki/Assembly_language) ] Assembly\n",
    "* [ [w](https://en.wikipedia.org/wiki/AWK) ] AWK\n",
    "* [ [w](https://en.wikipedia.org/wiki/BASIC) ] BASIC\n",
    "* [ [w](https://en.wikipedia.org/wiki/C_%28programming_language%29) ] C\n",
    "* [ [w](https://en.wikipedia.org/wiki/C%2B%2B) ] C++\n",
    "* [ [w](https://en.wikipedia.org/wiki/C_Sharp_%28programming_language%29) ] C#\n",
    "* [ [w](https://en.wikipedia.org/wiki/COBOL) ] COBOL\n",
    "* [ [w](https://en.wikipedia.org/wiki/Fortran) ] Fortran\n",
    "* [ [w](https://en.wikipedia.org/wiki/Go_(programming_language)) ] Go\n",
    "* [ [w](https://en.wikipedia.org/wiki/Haskell_%28programming_language%29) ] Haskell\n",
    "* [ [w](https://en.wikipedia.org/wiki/Java_%28programming_language%29) ] Java\n",
    "* [ [w](https://en.wikipedia.org/wiki/JavaScript) ] JS JavaScript\n",
    "* [ [w](https://en.wikipedia.org/wiki/Julia_%28programming_language%29) ] Julia\n",
    "* [ [w](https://en.wikipedia.org/wiki/Lisp_(programming_language)) ] Lisp\n",
    "* [ [w](https://en.wikipedia.org/wiki/Markdown) ] Markdown\n",
    "* [ [w](https://en.wikipedia.org/wiki/Wolfram_Mathematica) ] Mathematica\n",
    "* [ [w](https://en.wikipedia.org/wiki/MATLAB) ] MATLAB\n",
    "* [ [w](https://en.wikipedia.org/wiki/OCaml) ] OCaml\n",
    "* [ [w](https://en.wikipedia.org/wiki/Perl) ] Perl\n",
    "* [ [w](https://en.wikipedia.org/wiki/PHP) ] PHP\n",
    "* [ [w](https://en.wikipedia.org/wiki/Python_%28programming_language%29) ] Python\n",
    "* [ [w](https://en.wikipedia.org/wiki/R_(programming_language)) ] R\n",
    "* [ [w](https://en.wikipedia.org/wiki/Ruby_(programming_language)) ] Ruby\n",
    "* [ [w](https://en.wikipedia.org/wiki/Rust_(programming_language)) ] Rust\n",
    "* [ [w](https://en.wikipedia.org/wiki/Scala_(programming_language)) ] Scala\n",
    "* [ [w](https://en.wikipedia.org/wiki/Scheme_%28programming_language%29) ] Scheme\n",
    "* [ [w](https://en.wikipedia.org/wiki/Shell_script) ] Shell"
   ]
  },
  {
   "cell_type": "markdown",
   "metadata": {},
   "source": [
    "---"
   ]
  },
  {
   "cell_type": "markdown",
   "metadata": {},
   "source": [
    "## Resources"
   ]
  },
  {
   "cell_type": "markdown",
   "metadata": {},
   "source": [
    "https://sourcemaking.com/design_patterns"
   ]
  },
  {
   "cell_type": "markdown",
   "metadata": {},
   "source": [
    "* [ [h](https://brilliant.org) ] Brilliant\n",
    "* [ [h](https://app.codesignal.com/arcade) ] CodeSignal\n",
    "* [ [h](https://www.codewars.com/) ] CodeWars\n",
    "* [ [h](https://www.hackerrank.com/) ] HackerRank\n",
    "* [ [h](https://leetcode.com) ] LeetCode\n",
    "\n",
    "Open Education\n",
    "* [ [h](https://ocw.mit.edu/index.htm) ][ [y](https://www.youtube.com/channel/UCEBb1b_L6zDS3xTUrIALZOw) ] MIT OpenCourseware\n",
    "* [ [h](https://online.stanford.edu) ] Stanford Online\n",
    "\n",
    "Learning to code and related\n",
    "* [ [h](https://www.algoexpert.io/product) ] AlgoExpert\n",
    "* [ [h](https://www.codeninjas.com/) ] Code Ninjas\n",
    "* [ [h](https://www.codecademy.com) ] Codecademy\n",
    "* [ [h](https://www.datacamp.com) ] DataCamp\n",
    "* [ [h](https://www.dataschool.io/start/) ] Data School\n",
    "* [ [h](https://edabit.com) ] Edabit\n",
    "* [ [h](https://www.freecodecamp.org) ] freeCodeCamp\n",
    "* [ [h](https://learncodethehardway.org) ] Learn Code the Hard Way\n",
    "* [ [h](https://getmimo.com) ] Mimo\n",
    "* [ [h](https://www.pluralsight.com) ] Pluralsight\n",
    "* [ [h](https://www.programiz.com) ] Programiz"
   ]
  },
  {
   "cell_type": "markdown",
   "metadata": {},
   "source": [
    "### YouTube"
   ]
  },
  {
   "cell_type": "markdown",
   "metadata": {},
   "source": [
    "Computerphile\n",
    "* [ [y](https://www.youtube.com/watch?v=K62EMzueWwA) ] `12-07-2023` \"Optimising Code - Computerphile\"."
   ]
  },
  {
   "cell_type": "markdown",
   "metadata": {},
   "source": [
    "David Bombal\n",
    "* [ [y](https://www.youtube.com/watch?v=6uqgiFhW0Fs) ] `02-04-2024`. \"Free Complete Course: You need to learn this programming language to be a senior developer!\"."
   ]
  },
  {
   "cell_type": "markdown",
   "metadata": {},
   "source": [
    "Low Level Learning\n",
    "* [ [y](https://www.youtube.com/watch?v=97i2BAUw5Xc) ] `02-07-2024`. \"how you can master the lowest levels of coding\".\n",
    "* [ [y](https://www.youtube.com/watch?v=dti0F7w3yOQ) ] `01-07-2023`. \"every good programmer should know how to code this data structure (its easy)\"."
   ]
  },
  {
   "cell_type": "markdown",
   "metadata": {},
   "source": [
    "more\n",
    "* [ [y](https://www.youtube.com/watch?v=8XVI_Zrvz3c) ] `11-30-2023`. ForrestKnight. \"These Coding Projects Will Set You Apart as a Programmer (w/ Instructions Included)\".\n",
    "* [ [y](https://www.youtube.com/watch?v=SVvr3ZjtjI8) ] `12-08-2020`. NeetCode. \"How I Got Good at Coding Interviews\"."
   ]
  },
  {
   "cell_type": "markdown",
   "metadata": {},
   "source": [
    "---"
   ]
  },
  {
   "cell_type": "markdown",
   "metadata": {},
   "source": [
    "## Texts"
   ]
  },
  {
   "cell_type": "markdown",
   "metadata": {},
   "source": [
    "[ [w](https://en.wikipedia.org/wiki/The_Pragmatic_Programmer) ] `1999` Hunt, Andrew & David Thomas. _The Pragmatic Programmer_. [Addison-Wesley](https://pragprog.com/titles/tpp20/the-pragmatic-programmer-20th-anniversary-edition/).\n",
    "\n",
    "[ [h](https://www.cs.princeton.edu/~bwk/tpop.webpage/) ][ [w](https://en.wikipedia.org/wiki/The_Practice_of_Programming) ] `1999` Kernighan, Brian W. & Rob Pike. _The Practice of Programming_. Addison-Wesley.\n",
    "* [\"The Best Programming Advice I Ever Got\" with Rob Pike](https://www.informit.com/articles/article.aspx?p=1941206)\n",
    "\n",
    "[ [h](https://www-cs-faculty.stanford.edu/~knuth/taocp.html) ] Kneuth, Donald. _The Art of Computer Programming_."
   ]
  },
  {
   "cell_type": "markdown",
   "metadata": {},
   "source": [
    "* Hyde, Randall. (2020). _Write Great Code, Volume 3: Engineering Software_. [No Starch Press](https://nostarch.com/greatcode3).\n",
    "* Hyde, Randall. (2020). _Write Great Code, Volume 2: Thinking Low-Level, Writing High-Level_. 2e. [No Starch Press](https://nostarch.com/writegreatcode2_2).\n",
    "* Kohnfelder, Loren. (2021). _Designing Secure Software: A Guide for Developers_. [No Starch Press](https://nostarch.com/designing-secure-software).\n",
    "* Kneusel, Ronald T. (2024). _Math for Programming_. [No Starch Press](https://nostarch.com/math-programming).\n",
    "* Mitchell, John C. (1996). _Foundations of Programming Languages_. MIT Press.\n",
    "* Orbaiceta, Angel Sola. (2021). _Hardcore Programming for Mechanical Engineers: Build Engineering Applications from Scratch_. [No Starch Press](https://nostarch.com/hardcore-programming-mechanical-engineers).\n",
    "* Peirce, Benjamin C. _Advanced Topics in Types and Programming Languages_.\n",
    "* Peirce, Benjamin C. _Types and Programming Languages_.\n",
    "* Scott, Michael. _Programming Language Pragmatics_.\n",
    "* Steinhart, Jonathan E. (2019). _The Secret Life of Programs: Understand Computers--Craft Better Code_. [No Starch Press](https://nostarch.com/foundationsofcomp).\n",
    "* Winskel, Glynn. _The Formal Semantics of Programming Languages: An Introduction_."
   ]
  },
  {
   "cell_type": "markdown",
   "metadata": {},
   "source": [
    "---"
   ]
  },
  {
   "cell_type": "markdown",
   "metadata": {},
   "source": [
    "## Figures"
   ]
  },
  {
   "cell_type": "markdown",
   "metadata": {},
   "source": [
    "* [ [w](https://en.wikipedia.org/wiki/Tom_DeMarco) ] `1940-----` DeMarco, Tom"
   ]
  },
  {
   "cell_type": "markdown",
   "metadata": {},
   "source": [
    "---"
   ]
  },
  {
   "cell_type": "markdown",
   "metadata": {},
   "source": [
    "## Terms"
   ]
  },
  {
   "cell_type": "markdown",
   "metadata": {},
   "source": [
    "* [ [w](https://en.wikipedia.org/wiki/Application_software) ] Application\n",
    "* [ [w](https://en.wikipedia.org/wiki/Array_programming) ] Array Programming\n",
    "* [ [w](https://en.wikipedia.org/wiki/Assertion_(software_development)) ] Assertion\n",
    "* [ [w](https://en.wikipedia.org/wiki/Assignment_(computer_science)) ] Assignment\n",
    "* [ [w](https://en.wikipedia.org/wiki/Attribute_(computing)) ] Attribute\n",
    "* [ [w](https://en.wikipedia.org/wiki/Backspace) ] Backspace\n",
    "* [ [w](https://en.wikipedia.org/wiki/Block_(programming)) ] Block\n",
    "* [ [w](https://en.wikipedia.org/wiki/Boolean_data_type) ] Boolean\n",
    "* [ [w](https://en.wikipedia.org/wiki/Evaluation_strategy#Call_by_reference) ] Call by Reference\n",
    "* [ [w](https://en.wikipedia.org/wiki/Evaluation_strategy#Call_by_value) ] Call by Value\n",
    "* [ [w](https://en.wikipedia.org/wiki/Call_stack) ] Call Stack\n",
    "* [ [w](https://en.wikipedia.org/wiki/Calling_convention) ] Calling Convention\n",
    "* [ [w](https://en.wikipedia.org/wiki/Circular_dependency) ] Circular Dependency\n",
    "* [ [w](https://en.wikipedia.org/wiki/Closure_(computer_programming)) ] Closure\n",
    "* [ [w](https://en.wikipedia.org/wiki/Comma-separated_values) ] Comma-Separated Values (CSV)\n",
    "* [ [w](https://en.wikipedia.org/wiki/Command_(computing)) ] Command\n",
    "* [ [w](https://en.wikipedia.org/wiki/Command-line_interface) ] Command Line Interface\n",
    "* [ [w](https://en.wikipedia.org/wiki/Compile_time) ] Compile Time\n",
    "* [ [w](https://en.wikipedia.org/wiki/Compiled_language) ] Compiled Programming Language\n",
    "* [ [w](https://en.wikipedia.org/wiki/Complex_data_type) ] Complex Data Type\n",
    "* [ [w](https://en.wikipedia.org/wiki/Computer_language) ] Computer Language\n",
    "* [ [w](https://en.wikipedia.org/wiki/The_Computer_Language_Benchmarks_Game) ] The Computer Language Benchmarks Game\n",
    "* [ [w](https://en.wikipedia.org/wiki/Conditional_(computer_programming)) ] Conditional\n",
    "* [ [w](https://en.wikipedia.org/wiki/Constant_(computer_programming)) ] Constant\n",
    "* [ [w](https://en.wikipedia.org/wiki/Constraint_programming) ] Constraint Programming\n",
    "* [ [w](https://en.wikipedia.org/wiki/Control_flow) ] Control Flow\n",
    "* [ [w](https://en.wikipedia.org/wiki/Coupling_(computer_programming)) ] Coupling\n",
    "* [ [w](https://en.wikipedia.org/wiki/Cursor_(user_interface)) ] Cursor\n",
    "* [ [w](https://en.wikipedia.org/wiki/Data-oriented_design) ] Data-Oriented Design\n",
    "* [ [w](https://en.wikipedia.org/wiki/Data_type) ] Data Type\n",
    "* [ [w](https://en.wikipedia.org/wiki/Dataflow_programming) ] Dataflow Programming\n",
    "* [ [w](https://en.wikipedia.org/wiki/Debugging) ] Debugging\n",
    "* [ [w](https://en.wikipedia.org/wiki/Declaration_(computer_programming)) ] Declaration\n",
    "* [ [w](https://en.wikipedia.org/wiki/Declarative_programming) ] Declarative Programming\n",
    "* [ [w](https://en.wikipedia.org/wiki/Associative_array) ] Dictionary\n",
    "* [ [w](https://en.wikipedia.org/wiki/Dynamic_dispatch) ] Dynamic Dispatch\n",
    "* [ [w](https://en.wikipedia.org/wiki/Dynamic_linker) ] Dynamic Linker\n",
    "* [ [w](https://en.wikipedia.org/wiki/Dynamic_programming_language) ] Dynamically-Typed Programming Language\n",
    "* [ [w](https://en.wikipedia.org/wiki/Entry_point) ] Entry Point\n",
    "* [ [w](https://en.wikipedia.org/wiki/Error_message) ] Error Message\n",
    "* [ [w](https://en.wikipedia.org/wiki/Escape_sequence) ] Escape Sequence\n",
    "* [ [w](https://en.wikipedia.org/wiki/Evaluation_strategy) ] Evaluation Strategy\n",
    "* [ [w](https://en.wikipedia.org/wiki/Exception_handling) ] Exception Handling\n",
    "* [ [w](https://en.wikipedia.org/wiki/Execution_(computing)) ] Execution\n",
    "* [ [w](https://en.wikipedia.org/wiki/Expression_(computer_science)) ] Expression\n",
    "* [ [w](https://en.wikipedia.org/wiki/File_format) ] File Format\n",
    "* [ [w](https://en.wikipedia.org/wiki/Fizz_buzz) ] FizzBuzz\n",
    "* [ [w](https://en.wikipedia.org/wiki/First-class_citizen) ] First-Class Citizen\n",
    "* [ [w](https://en.wikipedia.org/wiki/First-class_function) ] First-Class Function\n",
    "* [ [w](https://en.wikipedia.org/wiki/Subroutine) ] Function\n",
    "* [ [w](https://en.wikipedia.org/wiki/Function_overloading) ] Function Overloading\n",
    "* [ [w](https://en.wikipedia.org/wiki/Functional_programming) ] Functional Programming\n",
    "* [ [w](https://en.wikipedia.org/wiki/General-purpose_programming_language) ] General-Purpose Programming Language\n",
    "* [ [w](https://en.wikipedia.org/wiki/Generic_programming) ] Generic Programming\n",
    "* [ [w](https://en.wikipedia.org/wiki/High-level_programming_language) ] High-Level Programming Language\n",
    "* [ [w](https://en.wikipedia.org/wiki/Identifier_(computer_languages)) ] Identifier\n",
    "* [ [w](https://en.wikipedia.org/wiki/Imperative_programming) ] Imperative Programming\n",
    "* [ [w](https://en.wikipedia.org/wiki/Indentation_(typesetting)) ] Indentation\n",
    "* [ [w](https://en.wikipedia.org/wiki/Indentation_style) ] Indentation Style\n",
    "* [ [w](https://en.wikipedia.org/wiki/Infinite_loop) ] Infinite Loop\n",
    "* [ [w](https://en.wikipedia.org/wiki/Input/output) ] Input/Output (I/O)\n",
    "* [ [w](https://en.wikipedia.org/wiki/Integer_(computer_science)) ] Integer\n",
    "* [ [w](https://en.wikipedia.org/wiki/Integrated_development_environment) ] Integrated Development Environment (IDE)\n",
    "* [ [w](https://en.wikipedia.org/wiki/Interface_(computing)) ] Interface\n",
    "* [ [w](https://en.wikipedia.org/wiki/Interpreter_(computing)) ] Interpreted Programming Language\n",
    "* [ [w](https://en.wikipedia.org/wiki/Interpreter_(computing)) ] Interpreter\n",
    "* [ [w](https://en.wikipedia.org/wiki/Just-in-time_compilation) ] Just-in-time Compilation (JIT)\n",
    "* [ [w](https://en.wikipedia.org/wiki/Name–value_pair) ] Key-Value Pair\n",
    "* [ [w](https://en.wikipedia.org/wiki/Language_construct) ] Language Construct\n",
    "* [ [w](https://en.wikipedia.org/wiki/Late_binding) ] Late Binding\n",
    "* [ [w](https://en.wikipedia.org/wiki/Lazy_evaluation) ] Lazy Evaluation\n",
    "* [ [w](https://en.wikipedia.org/wiki/Lexical_analysis) ] Lexical Analysis\n",
    "* [ [w](https://en.wikipedia.org/wiki/Line_(text_file)) ] Line\n",
    "* [ [w](https://en.wikipedia.org/wiki/Link_time) ] Link Time\n",
    "* [ [w](https://en.wikipedia.org/wiki/Loader_(computing)) ] Loader\n",
    "* [ [w](https://en.wikipedia.org/wiki/Logic_programming) ] Logical Programming\n",
    "* [ [w](https://en.wikipedia.org/wiki/Lookup_table) ] Lookup Table\n",
    "* [ [w](https://en.wikipedia.org/wiki/Low-level_programming_language) ] Low-Level Programming Language\n",
    "* [ [w](https://en.wikipedia.org/wiki/Matrix_(mathematics)) ] Matrix\n",
    "* [ [w](https://en.wikipedia.org/wiki/Memoization) ] Memoization\n",
    "* [ [w](https://en.wikipedia.org/wiki/Method_(computer_programming)) ] Method\n",
    "* [ [w](https://en.wikipedia.org/wiki/Immutable_object) ] Mutable Object\n",
    "* [ [w](https://en.wikipedia.org/wiki/Name_binding) ] Name Binding\n",
    "* [ [w](https://en.wikipedia.org/wiki/Name_resolution_(programming_languages)) ] Name Resolution\n",
    "* [ [w](https://en.wikipedia.org/wiki/Namespace) ] Namespace\n",
    "* [ [w](https://en.wikipedia.org/wiki/NOP_(code)) ] No-op\n",
    "* [ [w](https://en.wikipedia.org/wiki/Null-terminated_string) ] Null-Terminated String\n",
    "* [ [w](https://en.wikipedia.org/wiki/Object_(computer_science)) ] Object\n",
    "* [ [w](https://en.wikipedia.org/wiki/Object-oriented_programming) ] Object-Oriented Programming (OOP)\n",
    "* [ [w](https://en.wikipedia.org/wiki/Order_of_operations) ] Order of Operations\n",
    "* [ [w](https://en.wikipedia.org/wiki/Parameter_(computer_programming)) ] Parameter\n",
    "* [ [w](https://en.wikipedia.org/wiki/Plain_text) ] Plain Text\n",
    "* [ [w](https://en.wikipedia.org/wiki/Pointer_(computer_programming)) ] Pointer\n",
    "* [ [w](https://en.wikipedia.org/wiki/Primitive_data_type) ] Primitive Data Type\n",
    "* [ [w](https://en.wikipedia.org/wiki/Procedural_programming) ] Procedural Programming\n",
    "* [ [w](https://en.wikipedia.org/wiki/Computer_program) ] Program\n",
    "* [ [w](https://en.wikipedia.org/wiki/Computer_programming) ] Programming\n",
    "* [ [w](https://en.wikipedia.org/wiki/Programming_language) ] Programming Language\n",
    "* [ [w](https://en.wikipedia.org/wiki/Programming_language_generations) ] Programming Language Generation\n",
    "* [ [w](https://en.wikipedia.org/wiki/Programming_language_theory) ] Programming Language Theory\n",
    "* [ [w](https://en.wikipedia.org/wiki/Programming_paradigm) ] Programming Paradigm\n",
    "* [ [w](https://en.wikipedia.org/wiki/Pseudocode) ] Pseudocode\n",
    "* [ [w](https://en.wikipedia.org/wiki/Pure_function) ] Pure Function\n",
    "* [ [w](https://en.wikipedia.org/wiki/Reactive_programming) ] Reactive Programming\n",
    "* [ [w](https://en.wikipedia.org/wiki/Reference_(computer_science)) ] Reference\n",
    "* [ [w](https://en.wikipedia.org/wiki/Return_statement) ] Return Statement\n",
    "* [ [w](https://en.wikipedia.org/wiki/Runtime_(program_lifecycle_phase)) ] Run Time\n",
    "* [ [w](https://en.wikipedia.org/wiki/Runtime_system) ] Runtime Environment\n",
    "* [ [w](https://en.wikipedia.org/wiki/Scope_(computer_science)) ] Scope\n",
    "* [ [w](https://en.wikipedia.org/wiki/Scripting_language) ] Script\n",
    "* [ [w](https://en.wikipedia.org/wiki/Scripting_language) ] Scripting Language\n",
    "* [ [w](https://en.wikipedia.org/wiki/Semi-structured_data) ] Semi-Structured Data\n",
    "* [ [w](https://en.wikipedia.org/wiki/Short-circuit_evaluation) ] Short-Circuit Evaluation\n",
    "* [ [w](https://en.wikipedia.org/wiki/Side_effect_(computer_science)) ] Side Effect\n",
    "* [ [w](https://en.wikipedia.org/wiki/Software) ] Software\n",
    "* [ [w](https://en.wikipedia.org/wiki/Software_design_pattern) ] Software Design Pattern\n",
    "* [ [w](https://en.wikipedia.org/wiki/Software_development_kit) ] Software Development Kit (SDK)\n",
    "* [ [w](https://en.wikipedia.org/wiki/Source_code) ] Source Code\n",
    "* [ [w](https://en.wikipedia.org/wiki/State_(computer_science)) ] State\n",
    "* [ [w](https://en.wikipedia.org/wiki/Statement_(computer_science)) ] Statement\n",
    "* [ [w](https://en.wikipedia.org/wiki/Static_dispatch) ] Static Dispatch\n",
    "* [ [w](https://en.wikipedia.org/wiki/Stream_processing) ] Stream Processing\n",
    "* [ [w](https://en.wikipedia.org/wiki/String_(computer_science)) ] String\n",
    "* [ [w](https://en.wikipedia.org/wiki/Data_model) ] Structured Data\n",
    "* [ [w](https://en.wikipedia.org/wiki/Syntax_(programming_languages)) ] Syntax\n",
    "* [ [w](https://en.wikipedia.org/wiki/Syntax_error) ] Syntax Error\n",
    "* [ [w](https://en.wikipedia.org/wiki/Tab-separated_values) ] Tab-Separated Values (TSV)\n",
    "* [ [w](https://en.wikipedia.org/wiki/Tab_key) ] Tab Key\n",
    "* [ [w](https://en.wikipedia.org/wiki/Tab_stop) ] Tab Stop\n",
    "* [ [w](https://en.wikipedia.org/wiki/Table_(information)) ] Table\n",
    "* [ [w](https://en.wikipedia.org/wiki/Data_model) ] Tabular Data\n",
    "* [ [w](https://en.wikipedia.org/wiki/Terminal_emulator) ] Terminal Emulator\n",
    "* [ [w](https://en.wikipedia.org/wiki/Text-based_user_interface) ] Terminal User Interface (TUI)\n",
    "* [ [w](https://en.wikipedia.org/wiki/Text_box) ] Text Box\n",
    "* [ [w](https://en.wikipedia.org/wiki/Text_editor) ] Text Editor\n",
    "* [ [w](https://en.wikipedia.org/wiki/Text_file) ] Text File\n",
    "* [ [w](https://en.wikipedia.org/wiki/Source-to-source_compiler) ] Transpiler\n",
    "* [ [w](https://en.wikipedia.org/wiki/Type_signature) ] Type Signature\n",
    "* [ [w](https://en.wikipedia.org/wiki/Type_system) ] Type System\n",
    "* [ [w](https://en.wikipedia.org/wiki/Type_theory) ] Type Theory\n",
    "* [ [w](https://en.wikipedia.org/wiki/Unstructured_data) ] Unstructured Data\n",
    "* [ [w](https://en.wikipedia.org/wiki/User_(computing)) ] User\n",
    "* [ [w](https://en.wikipedia.org/wiki/User_interface) ] User Interface (UI)\n",
    "* [ [w](https://en.wikipedia.org/wiki/Value_(computer_science)) ] Value\n",
    "* [ [w](https://en.wikipedia.org/wiki/Variable_(computer_science)) ] Variable\n",
    "* [ [w](https://en.wikipedia.org/wiki/Array_programming) ] Vectorized Computation\n",
    "* [ [w](https://en.wikipedia.org/wiki/Web_browser) ] Web Browser\n",
    "* [ [w](https://en.wikipedia.org/wiki/Graphical_widget) ] Widget\n",
    "* [ [w](https://en.wikipedia.org/wiki/Word_processor) ] Word Processor"
   ]
  },
  {
   "cell_type": "markdown",
   "metadata": {},
   "source": [
    "---"
   ]
  },
  {
   "cell_type": "markdown",
   "metadata": {},
   "source": [
    "## Notes"
   ]
  },
  {
   "cell_type": "markdown",
   "metadata": {},
   "source": [
    "* General-Purpose vs Special-Purpose\n",
    "* [ [s](https://stackoverflow.com/questions/3265357/compiled-vs-interpreted-languages) ] Compiled vs Interpreted\n",
    "* High-Level vs Low-Level\n",
    "* Statically Typed vs Dynamically Typed\n",
    "* [ [s](https://stackoverflow.com/questions/846103/runtime-vs-compile-time) ] Run Time vs Compile Time\n",
    "* Programming vs Scripting"
   ]
  },
  {
   "cell_type": "markdown",
   "metadata": {},
   "source": [
    "The REPL: the interpreter reads and evaluates an expression and prints its value.\n",
    "\n",
    "Names refer to computational objects. A name identifies a variable whose value is the computational object.\n",
    "\n",
    "The (global) environment is the memory in which name-object pairs are kept track of."
   ]
  },
  {
   "cell_type": "markdown",
   "metadata": {},
   "source": [
    "---"
   ]
  }
 ],
 "metadata": {
  "language_info": {
   "name": "python"
  }
 },
 "nbformat": 4,
 "nbformat_minor": 2
}
