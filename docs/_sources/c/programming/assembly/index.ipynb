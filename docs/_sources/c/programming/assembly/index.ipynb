{
 "cells": [
  {
   "cell_type": "markdown",
   "metadata": {},
   "source": [
    "# Assembly"
   ]
  },
  {
   "cell_type": "markdown",
   "metadata": {},
   "source": [
    "---"
   ]
  },
  {
   "cell_type": "markdown",
   "metadata": {},
   "source": [
    "## Table of Contents\n",
    "```{contents}\n",
    "```"
   ]
  },
  {
   "cell_type": "markdown",
   "metadata": {},
   "source": [
    "---"
   ]
  },
  {
   "cell_type": "markdown",
   "metadata": {},
   "source": [
    "## Resources"
   ]
  },
  {
   "cell_type": "markdown",
   "metadata": {},
   "source": [
    "[ [h](https://tryhackme.com/room/win64assembly) ] TryHackMe - Windows x64 Assembly\n",
    "\n",
    "Online\n",
    "* https://www.tutorialspoint.com/assembly_programming/index.htm\n",
    "* https://imada.sdu.dk/u/kslarsen/dm546/Material/IntelnATT.htm"
   ]
  },
  {
   "cell_type": "markdown",
   "metadata": {},
   "source": [
    "---"
   ]
  },
  {
   "cell_type": "markdown",
   "metadata": {},
   "source": [
    "## Texts"
   ]
  },
  {
   "cell_type": "markdown",
   "metadata": {},
   "source": [
    "* Erickson, Job. (2008). _Hacking: The Art of Exploitation_. 2e. [No Starch Press](https://nostarch.com/hacking2.htm).\n",
    "* Hyde, Randall. (2021). _The Art of 64-Bit Assembly, Volume I: x86-64 Machine Organization and Programming_. [No Starch Press](https://nostarch.com/art-64-bit-assembly-volume-1).\n",
    "* Hyde, Randall. (2024). _The Art of ARM Assembly_. [No Starch Press](https://nostarch.com/art-arm-assembly).\n",
    "* Hyde, Randall. (2010). _Art of Assembly Language_. 2e. [No Starch Press](https://nostarch.com/assembly2.htm)."
   ]
  },
  {
   "cell_type": "markdown",
   "metadata": {},
   "source": [
    "---"
   ]
  }
 ],
 "metadata": {
  "language_info": {
   "name": "python"
  }
 },
 "nbformat": 4,
 "nbformat_minor": 2
}
