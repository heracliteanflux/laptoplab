{
 "cells": [
  {
   "cell_type": "markdown",
   "metadata": {},
   "source": [
    "# C"
   ]
  },
  {
   "cell_type": "markdown",
   "metadata": {},
   "source": [
    "---"
   ]
  },
  {
   "cell_type": "markdown",
   "metadata": {},
   "source": [
    "## Table of Contents\n",
    "```{contents}\n",
    "```"
   ]
  },
  {
   "cell_type": "markdown",
   "metadata": {},
   "source": [
    "---"
   ]
  },
  {
   "cell_type": "markdown",
   "metadata": {},
   "source": [
    "## Resources"
   ]
  },
  {
   "cell_type": "markdown",
   "metadata": {},
   "source": [
    "* [ [h](https://clang.llvm.org/) ][ [w](https://en.wikipedia.org/wiki/Clang) ] Clang\n",
    "* [ [h](https://gcc.gnu.org/) ][ [w](https://en.wikipedia.org/wiki/GNU_Compiler_Collection) ] GCC\n",
    "* [ [h](https://www.sourceware.org/gdb/) ][ [w](https://en.wikipedia.org/wiki/GNU_Debugger) ] GDB\n",
    "* [ [h](https://valgrind.org/) ][ [w](https://en.wikipedia.org/wiki/Valgrind) ] Valgrind"
   ]
  },
  {
   "cell_type": "markdown",
   "metadata": {},
   "source": [
    "* [ [y](https://www.youtube.com/watch?v=KJgsSFOSQv0) ] `08-15-2018`. freeCodeCamp. \"C Programming Tutorial for Beginners\"."
   ]
  },
  {
   "cell_type": "markdown",
   "metadata": {},
   "source": [
    "Jacob Sorber\n",
    "* [ [y](https://www.youtube.com/watch?v=yN6EGfv5Dew) ] `06-03-2023`. \"How to get an IP address from a host name? (Example in C)\".\n",
    "* [ [y](https://www.youtube.com/watch?v=il4N6KjVQ-s) ] `02-28-2023`. \"Sockets and Pipes Look Like Files (Unix/fdopen)\".\n",
    "* [ [y](https://www.youtube.com/watch?v=q-BvQgZVRGA) ] `05-31-2022`. \"Detect Corruption with a Checksum\".\n",
    "* [ [y](https://www.youtube.com/watch?v=iF2F0YIgxy4) ] `07-27-2021`. \"Highlighting a Student Programming Project (Code Review)\".\n",
    "* [ [y](https://www.youtube.com/watch?v=t_vM_8TLjFE) ] `06-01-2021`. \"Why are Progress Bars Always Wrong? Progress Bar Example in C.\".\n",
    "* [ [y](https://www.youtube.com/watch?v=daA-KBKfJ_o) ] `11-04-2020`. \"Easy Networking in C (libcurl)\".\n",
    "* [ [y](https://www.youtube.com/watch?v=Y6pFtgRdUts) ] `02-18-2020`. \"How one thread listens to many sockets with select in C.\".\n",
    "* [ [y](https://www.youtube.com/watch?v=P6Z5K8zmEmc) ] `10-24-2019`. \"How to write a multithreaded webserver using condition variables (Part 3)\".\n",
    "* [ [y](https://www.youtube.com/watch?v=FMNnusHqjpw) ] `10-08-2019`. \"Multithreaded Server Part 2: Thread Pools\".\n",
    "* [ [y](https://www.youtube.com/watch?v=Pg_4Jz8ZIH4) ] `09-20-2019`. \"How to write a multithreaded server in C (threads, sockets)\".\n",
    "* [ [y](https://www.youtube.com/watch?v=OoHich9BPxg) ] `01-30-2019`. \"Dealing with Endianness Issues in your Programs\".\n",
    "* [ [y](https://www.youtube.com/watch?v=1jv428xKsRg) ] `12-04-2018`. \"Socket servers can get client addresses. (accept, inet_ntop)\".\n",
    "* [ [y](https://www.youtube.com/watch?v=esXw4bdaZkc) ] `11-20-2018`. \"Program your own web server in C. (sockets)\".\n",
    "* [ [y](https://www.youtube.com/watch?v=bdIiTxtMaKA) ] `10-12-2018`. \"How to build a web client? (sockets)\"."
   ]
  },
  {
   "cell_type": "markdown",
   "metadata": {},
   "source": [
    "---"
   ]
  },
  {
   "cell_type": "markdown",
   "metadata": {},
   "source": [
    "## Texts"
   ]
  },
  {
   "cell_type": "markdown",
   "metadata": {},
   "source": [
    "* Amini, Kamran. (2019). _Extreme C: Taking you to the limit in Concurrency, OOP, and the most advanced capabilities of C_. Packt.\n",
    "* [ [h](https://csapp.cs.cmu.edu/) ] Bryant, Randal E. & David R. O'Hallaron. (2015). _Computer Systems: A Programmer's Perspective_.\n",
    "* Gustedt, Jens. (2019). _Modern C_. Manning.\n",
    "* Hanson, David R. (1996). _C Interfaces and Implementations: Techniques for Creating Reusable Software_. Addison-Wesley Professional.\n",
    "* Harwani, B. M. (2020). _Practical C Programming: Solutions for modern C developers to create efficient and well-structured programs_. Packt.\n",
    "* Kernighan, Brian W. & Dennis M. Ritchie. (1988). _C Programming Language_. 2nd Ed. Pearson.\n",
    "* Klemens, Ben. (2014). _21st Century C: C Tips from the New School_. 2nd Ed. O’Reilly.\n",
    "* Loudon, Kyle. (1999). _Mastering Algorithms with C: Useful Techniques from Sorting to Encryption_. O’Reilly.\n",
    "* Loy, Marc. (2021). _Smaller C: Learn Code for Small Machines_. O'Reilly.\n",
    "* Oualline, Stephen. (2022). _Bare Metal C: Embedded Programming for the Real World_. [No Starch Press](https://nostarch.com/bare-metal-c).\n",
    "* Preschern, Christopher. (2022). _Fluent C: Principles, Practices, and Patters_. O'Reilly.\n",
    "* Reese, Richard M. (2013). _Understanding and Using C Pointers: Core Techniques for Memory Management_. O’Reilly.\n",
    "* Sandler, Nora. (2023). _Writing a C Compiler: Build a Real Programming Language from Scratch_. [No Starch Press](https://nostarch.com/writing-c-compiler).\n",
    "* Seacord, Robert C. (2020). _Effective C: An Introduction to Professional C Programming_. [No Starch Press](https://nostarch.com/Effective_C).\n",
    "* [ [h](http://www.apuebook.com/) ][ [w](https://en.wikipedia.org/wiki/Advanced_Programming_in_the_Unix_Environment) ] Stevens, W. Richard & Stephen A. Rago. (2013). _Advanced Programming in the UNIX Environment_. 3e. Addison-Wesley Professional.\n",
    "* Szuhay, Jeff. (2020). _Learn C Programming: A beginner’s guide to learning C programming the easy and disciplined way_. Packt.\n",
    "* Van Der Linden, Peter. (1994). _Expert C Programming: Deep C Secrets_. Pearson.\n",
    "* Van Winkle, Lewis. (2019). _Hands-On Network Programming with C: Learn socket programming in C and write secure and optimized network code_. Packt."
   ]
  },
  {
   "cell_type": "markdown",
   "metadata": {},
   "source": [
    "---"
   ]
  },
  {
   "cell_type": "markdown",
   "metadata": {},
   "source": [
    "## Terms"
   ]
  },
  {
   "cell_type": "markdown",
   "metadata": {},
   "source": [
    "* [ [w](https://en.wikipedia.org/wiki/ANSI_C) ] ANSI C\n",
    "* [ [w](https://en.wikipedia.org/wiki/C_(programming_language)) ] C\n",
    "* [ [w](https://en.wikipedia.org/wiki/C_file_input/output) ] C File I/O\n",
    "* [ [w](https://en.wikipedia.org/wiki/C_standard_library) ] C Standard Library\n",
    "* [ [w](https://en.wikipedia.org/wiki/Directive_(programming)) ] Directive\n",
    "* [ [w](https://en.wikipedia.org/wiki/Include_directive) ] Include Directive\n",
    "* [ [w](https://en.wikipedia.org/wiki/Directive_(programming)) ] Pragma"
   ]
  },
  {
   "cell_type": "markdown",
   "metadata": {},
   "source": [
    "* [ [w](https://en.wikipedia.org/wiki/Bounds_checking) ] Bounds Checking\n",
    "* [ [w](https://en.wikipedia.org/wiki/Code_segment) ] Code Segment\n",
    "* [ [w](https://en.wikipedia.org/wiki/Data_segment) ] Data Segment\n",
    "* [ [w](https://en.wikipedia.org/wiki/Loader_(computing)) ] Loader\n",
    "* [ [w](https://en.wikipedia.org/wiki/Object_file) ] Object File\n",
    "* [ [w](https://en.wikipedia.org/wiki/Relocation_(computing)) ] Relocation"
   ]
  },
  {
   "cell_type": "markdown",
   "metadata": {},
   "source": [
    "---"
   ]
  }
 ],
 "metadata": {
  "language_info": {
   "name": "python"
  }
 },
 "nbformat": 4,
 "nbformat_minor": 2
}
