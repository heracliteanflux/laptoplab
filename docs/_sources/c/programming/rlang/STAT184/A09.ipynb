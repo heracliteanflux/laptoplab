{
 "cells": [
  {
   "attachments": {},
   "cell_type": "markdown",
   "metadata": {},
   "source": [
    "# A09 - [Project: Street or Road?](https://dtkaplan.github.io/DataComputingEbook/project-street-or-road.html#project-street-or-road)\n",
    "Kaplan, Daniel & Matthew Beckman. (2021). _Data Computing_. 2nd Ed. [Home](https://dtkaplan.github.io/DataComputingEbook/)."
   ]
  },
  {
   "attachments": {},
   "cell_type": "markdown",
   "metadata": {},
   "source": [
    "---"
   ]
  },
  {
   "attachments": {},
   "cell_type": "markdown",
   "metadata": {},
   "source": [
    "```{admonition} Revised\n",
    "20 Jun 2023\n",
    "```\n",
    "```{contents}\n",
    "```"
   ]
  },
  {
   "attachments": {},
   "cell_type": "markdown",
   "metadata": {},
   "source": [
    "---"
   ]
  },
  {
   "attachments": {},
   "cell_type": "markdown",
   "metadata": {},
   "source": [
    "## Programming Environment"
   ]
  },
  {
   "cell_type": "code",
   "execution_count": 1,
   "metadata": {
    "vscode": {
     "languageId": "r"
    }
   },
   "outputs": [
    {
     "name": "stderr",
     "output_type": "stream",
     "text": [
      "\n",
      "Attaching package: ‘lubridate’\n",
      "\n",
      "\n",
      "The following objects are masked from ‘package:base’:\n",
      "\n",
      "    date, intersect, setdiff, union\n",
      "\n",
      "\n",
      "── \u001b[1mAttaching core tidyverse packages\u001b[22m ──────────────────────── tidyverse 2.0.0 ──\n",
      "\u001b[32m✔\u001b[39m \u001b[34mdplyr  \u001b[39m 1.1.2     \u001b[32m✔\u001b[39m \u001b[34mreadr  \u001b[39m 2.1.4\n",
      "\u001b[32m✔\u001b[39m \u001b[34mforcats\u001b[39m 1.0.0     \u001b[32m✔\u001b[39m \u001b[34mstringr\u001b[39m 1.5.0\n",
      "\u001b[32m✔\u001b[39m \u001b[34mggplot2\u001b[39m 3.4.2     \u001b[32m✔\u001b[39m \u001b[34mtibble \u001b[39m 3.2.1\n",
      "\u001b[32m✔\u001b[39m \u001b[34mpurrr  \u001b[39m 1.0.1     \u001b[32m✔\u001b[39m \u001b[34mtidyr  \u001b[39m 1.3.0\n",
      "── \u001b[1mConflicts\u001b[22m ────────────────────────────────────────── tidyverse_conflicts() ──\n",
      "\u001b[31m✖\u001b[39m \u001b[34mdplyr\u001b[39m::\u001b[32mfilter()\u001b[39m         masks \u001b[34mstats\u001b[39m::filter()\n",
      "\u001b[31m✖\u001b[39m \u001b[34mreadr\u001b[39m::\u001b[32mguess_encoding()\u001b[39m masks \u001b[34mrvest\u001b[39m::guess_encoding()\n",
      "\u001b[31m✖\u001b[39m \u001b[34mdplyr\u001b[39m::\u001b[32mlag()\u001b[39m            masks \u001b[34mstats\u001b[39m::lag()\n",
      "\u001b[36mℹ\u001b[39m Use the conflicted package (\u001b[3m\u001b[34m<http://conflicted.r-lib.org/>\u001b[39m\u001b[23m) to force all conflicts to become errors\n"
     ]
    },
    {
     "data": {
      "text/html": [
       "'EXECUTED : 2023-06-21 15:05:05.683525'"
      ],
      "text/latex": [
       "'EXECUTED : 2023-06-21 15:05:05.683525'"
      ],
      "text/markdown": [
       "'EXECUTED : 2023-06-21 15:05:05.683525'"
      ],
      "text/plain": [
       "[1] \"EXECUTED : 2023-06-21 15:05:05.683525\""
      ]
     },
     "metadata": {},
     "output_type": "display_data"
    },
    {
     "data": {
      "text/plain": [
       "R version 4.3.0 (2023-04-21)\n",
       "Platform: aarch64-apple-darwin20 (64-bit)\n",
       "Running under: macOS Ventura 13.3.1\n",
       "\n",
       "Matrix products: default\n",
       "BLAS:   /Library/Frameworks/R.framework/Versions/4.3-arm64/Resources/lib/libRblas.0.dylib \n",
       "LAPACK: /Library/Frameworks/R.framework/Versions/4.3-arm64/Resources/lib/libRlapack.dylib;  LAPACK version 3.11.0\n",
       "\n",
       "locale:\n",
       "[1] en_US.UTF-8/en_US.UTF-8/en_US.UTF-8/C/en_US.UTF-8/en_US.UTF-8\n",
       "\n",
       "time zone: America/New_York\n",
       "tzcode source: internal\n",
       "\n",
       "attached base packages:\n",
       "[1] stats     graphics  grDevices utils     datasets  methods   base     \n",
       "\n",
       "other attached packages:\n",
       " [1] forcats_1.0.0   stringr_1.5.0   dplyr_1.1.2     purrr_1.0.1    \n",
       " [5] readr_2.1.4     tidyr_1.3.0     tibble_3.2.1    ggplot2_3.4.2  \n",
       " [9] tidyverse_2.0.0 rvest_1.0.3     lubridate_1.9.2\n",
       "\n",
       "loaded via a namespace (and not attached):\n",
       " [1] gtable_0.3.3     jsonlite_1.8.5   compiler_4.3.0   crayon_1.5.2    \n",
       " [5] tidyselect_1.2.0 IRdisplay_1.1    xml2_1.3.4       scales_1.2.1    \n",
       " [9] uuid_1.1-0       fastmap_1.1.1    IRkernel_1.3.2   R6_2.5.1        \n",
       "[13] generics_0.1.3   munsell_0.5.0    tzdb_0.4.0       pillar_1.9.0    \n",
       "[17] rlang_1.1.1      utf8_1.2.3       stringi_1.7.12   repr_1.1.6      \n",
       "[21] timechange_0.2.0 cli_3.6.1        withr_2.5.0      magrittr_2.0.3  \n",
       "[25] digest_0.6.31    grid_4.3.0       hms_1.1.3        base64enc_0.1-3 \n",
       "[29] pbdZMQ_0.3-9     lifecycle_1.0.3  vctrs_0.6.3      evaluate_0.21   \n",
       "[33] glue_1.6.2       fansi_1.0.4      colorspace_2.1-0 httr_1.4.6      \n",
       "[37] tools_4.3.0      pkgconfig_2.0.3  htmltools_0.5.5 "
      ]
     },
     "metadata": {},
     "output_type": "display_data"
    }
   ],
   "source": [
    "library(lubridate)\n",
    "library(rvest)\n",
    "library(tidyverse)\n",
    "\n",
    "str_c('EXECUTED : ', now())\n",
    "sessionInfo()"
   ]
  },
  {
   "attachments": {},
   "cell_type": "markdown",
   "metadata": {},
   "source": [
    "---"
   ]
  },
  {
   "attachments": {},
   "cell_type": "markdown",
   "metadata": {},
   "source": [
    "## Example"
   ]
  },
  {
   "attachments": {},
   "cell_type": "markdown",
   "metadata": {},
   "source": [
    "People's addresses involve streets, lanes, courts, avenues, and so on. How many such road-related words are in common use? In answering this question, you would presumably want to look at lots of addresses and extract the road-related term. You could do this by eye, reading down a list of a few hundred or thousand addresses. But if you want to do it on a really large scale, a city or state or country, you would want some automated help, for instance, a computer program that discards the sorts of entries you have already identified to give a greater concentration of unidentified terms. In this activity, you're going to build such a program."
   ]
  },
  {
   "cell_type": "code",
   "execution_count": 2,
   "metadata": {
    "vscode": {
     "languageId": "r"
    }
   },
   "outputs": [
    {
     "name": "stderr",
     "output_type": "stream",
     "text": [
      "\u001b[1mRows: \u001b[22m\u001b[34m15483\u001b[39m \u001b[1mColumns: \u001b[22m\u001b[34m1\u001b[39m\n",
      "\u001b[36m──\u001b[39m \u001b[1mColumn specification\u001b[22m \u001b[36m────────────────────────────────────────────────────────\u001b[39m\n",
      "\u001b[1mDelimiter:\u001b[22m \",\"\n",
      "\u001b[31mchr\u001b[39m (1): address\n",
      "\n",
      "\u001b[36mℹ\u001b[39m Use `spec()` to retrieve the full column specification for this data.\n",
      "\u001b[36mℹ\u001b[39m Specify the column types or set `show_col_types = FALSE` to quiet this message.\n"
     ]
    },
    {
     "data": {
      "text/html": [
       "<table class=\"dataframe\">\n",
       "<caption>A tibble: 6 × 1</caption>\n",
       "<thead>\n",
       "\t<tr><th scope=col>address</th></tr>\n",
       "\t<tr><th scope=col>&lt;chr&gt;</th></tr>\n",
       "</thead>\n",
       "<tbody>\n",
       "\t<tr><td>2117 MARINER CIRCLE</td></tr>\n",
       "\t<tr><td>101 EPPING WAY     </td></tr>\n",
       "\t<tr><td>PO BOX 58592       </td></tr>\n",
       "\t<tr><td>5102 ECHO RIDGE RD </td></tr>\n",
       "\t<tr><td>PO BOX 37218       </td></tr>\n",
       "\t<tr><td>PO BOX 37218       </td></tr>\n",
       "</tbody>\n",
       "</table>\n"
      ],
      "text/latex": [
       "A tibble: 6 × 1\n",
       "\\begin{tabular}{l}\n",
       " address\\\\\n",
       " <chr>\\\\\n",
       "\\hline\n",
       "\t 2117 MARINER CIRCLE\\\\\n",
       "\t 101 EPPING WAY     \\\\\n",
       "\t PO BOX 58592       \\\\\n",
       "\t 5102 ECHO RIDGE RD \\\\\n",
       "\t PO BOX 37218       \\\\\n",
       "\t PO BOX 37218       \\\\\n",
       "\\end{tabular}\n"
      ],
      "text/markdown": [
       "\n",
       "A tibble: 6 × 1\n",
       "\n",
       "| address &lt;chr&gt; |\n",
       "|---|\n",
       "| 2117 MARINER CIRCLE |\n",
       "| 101 EPPING WAY      |\n",
       "| PO BOX 58592        |\n",
       "| 5102 ECHO RIDGE RD  |\n",
       "| PO BOX 37218        |\n",
       "| PO BOX 37218        |\n",
       "\n"
      ],
      "text/plain": [
       "  address            \n",
       "1 2117 MARINER CIRCLE\n",
       "2 101 EPPING WAY     \n",
       "3 PO BOX 58592       \n",
       "4 5102 ECHO RIDGE RD \n",
       "5 PO BOX 37218       \n",
       "6 PO BOX 37218       "
      ]
     },
     "metadata": {},
     "output_type": "display_data"
    }
   ],
   "source": [
    "# about 15,000 street addresses of registered voters in Wake County, NC\n",
    "Addresses <- read_csv('https://mdbeckman.github.io/dcSupplement/data/street-addresses.csv')\n",
    "head(Addresses)"
   ]
  },
  {
   "cell_type": "code",
   "execution_count": 3,
   "metadata": {
    "vscode": {
     "languageId": "r"
    }
   },
   "outputs": [
    {
     "data": {
      "text/html": [
       "<table class=\"dataframe\">\n",
       "<caption>A data.frame: 6 × 3</caption>\n",
       "<thead>\n",
       "\t<tr><th></th><th scope=col>address</th><th scope=col>first_name</th><th scope=col>sex</th></tr>\n",
       "\t<tr><th></th><th scope=col>&lt;chr&gt;</th><th scope=col>&lt;chr&gt;</th><th scope=col>&lt;chr&gt;</th></tr>\n",
       "</thead>\n",
       "<tbody>\n",
       "\t<tr><th scope=row>1</th><td>900 SETON DR              </td><td>ARDALAN </td><td>M</td></tr>\n",
       "\t<tr><th scope=row>2</th><td>2650 RIDGE AVE            </td><td>THOMAS  </td><td>M</td></tr>\n",
       "\t<tr><th scope=row>3</th><td>4126 N HOLLAND SYLVANIA RD</td><td>RASHID  </td><td>M</td></tr>\n",
       "\t<tr><th scope=row>4</th><td>456 MAGEE AVE             </td><td>DAVID   </td><td>M</td></tr>\n",
       "\t<tr><th scope=row>5</th><td>11100 EUCLID AVE          </td><td>JENNIFER</td><td>F</td></tr>\n",
       "\t<tr><th scope=row>6</th><td>12605 E 16TH AVE          </td><td>KEVIN   </td><td>M</td></tr>\n",
       "</tbody>\n",
       "</table>\n"
      ],
      "text/latex": [
       "A data.frame: 6 × 3\n",
       "\\begin{tabular}{r|lll}\n",
       "  & address & first\\_name & sex\\\\\n",
       "  & <chr> & <chr> & <chr>\\\\\n",
       "\\hline\n",
       "\t1 & 900 SETON DR               & ARDALAN  & M\\\\\n",
       "\t2 & 2650 RIDGE AVE             & THOMAS   & M\\\\\n",
       "\t3 & 4126 N HOLLAND SYLVANIA RD & RASHID   & M\\\\\n",
       "\t4 & 456 MAGEE AVE              & DAVID    & M\\\\\n",
       "\t5 & 11100 EUCLID AVE           & JENNIFER & F\\\\\n",
       "\t6 & 12605 E 16TH AVE           & KEVIN    & M\\\\\n",
       "\\end{tabular}\n"
      ],
      "text/markdown": [
       "\n",
       "A data.frame: 6 × 3\n",
       "\n",
       "| <!--/--> | address &lt;chr&gt; | first_name &lt;chr&gt; | sex &lt;chr&gt; |\n",
       "|---|---|---|---|\n",
       "| 1 | 900 SETON DR               | ARDALAN  | M |\n",
       "| 2 | 2650 RIDGE AVE             | THOMAS   | M |\n",
       "| 3 | 4126 N HOLLAND SYLVANIA RD | RASHID   | M |\n",
       "| 4 | 456 MAGEE AVE              | DAVID    | M |\n",
       "| 5 | 11100 EUCLID AVE           | JENNIFER | F |\n",
       "| 6 | 12605 E 16TH AVE           | KEVIN    | M |\n",
       "\n"
      ],
      "text/plain": [
       "  address                    first_name sex\n",
       "1 900 SETON DR               ARDALAN    M  \n",
       "2 2650 RIDGE AVE             THOMAS     M  \n",
       "3 4126 N HOLLAND SYLVANIA RD RASHID     M  \n",
       "4 456 MAGEE AVE              DAVID      M  \n",
       "5 11100 EUCLID AVE           JENNIFER   F  \n",
       "6 12605 E 16TH AVE           KEVIN      M  "
      ]
     },
     "metadata": {},
     "output_type": "display_data"
    }
   ],
   "source": [
    "# about 900,000 medicare service provider street addresses\n",
    "download.file(url      = 'https://mdbeckman.github.io/dcSupplement/data/CMS_ProvidersSimple.rds',\n",
    "              destfile = 'CMS_ProvidersSimple.rds')\n",
    "DataTable <- readRDS('CMS_ProvidersSimple.rds')\n",
    "head(DataTable)"
   ]
  },
  {
   "attachments": {},
   "cell_type": "markdown",
   "metadata": {},
   "source": [
    "To solve such problems, start by looking at a few dozen of the addresses to familiarize yourself with common patterns. Suppose you wanted to extract the PO Box number from an address. Read the street address data and pull out a sample of a few dozen cases.\n",
    "1. In everyday langauge, describe a pattern that you think will identify the information you are looking for.\n",
    "    * The PO Box cases tend to have a substring 'PO'.\n",
    "2. Translate (1) into the form of a regular expression.\n",
    "    * The regular expression for 'PO' is simply 'PO'.\n",
    "3. Filter to retain the cases that match the expression. Hint: `filter()` and `grepl()` are useful for this.\n",
    "4. Filter to retain the cases that do not match the expression.\n",
    "5. Examine the results of (3) and (4) to identify shortcomings in your patterns.\n",
    "6. Improve or extend the pattern to deal with the mistaken cases.\n",
    "7. Repeat until satisfied.\n",
    "8. Put extraction parentheses around the parts of the regular expression that contain the info you want."
   ]
  },
  {
   "cell_type": "code",
   "execution_count": 4,
   "metadata": {
    "vscode": {
     "languageId": "r"
    }
   },
   "outputs": [
    {
     "data": {
      "text/html": [
       "<table class=\"dataframe\">\n",
       "<caption>A tibble: 6 × 1</caption>\n",
       "<thead>\n",
       "\t<tr><th scope=col>address</th></tr>\n",
       "\t<tr><th scope=col>&lt;chr&gt;</th></tr>\n",
       "</thead>\n",
       "<tbody>\n",
       "\t<tr><td>PO BOX 293          </td></tr>\n",
       "\t<tr><td>9800 LORELEI LANE NE</td></tr>\n",
       "\t<tr><td>SEBTS BOX BO-26-A   </td></tr>\n",
       "\t<tr><td>NCSU BOX 22714      </td></tr>\n",
       "\t<tr><td>301 SYCAMORE ST     </td></tr>\n",
       "\t<tr><td>722 LENOR PLACE CIR </td></tr>\n",
       "</tbody>\n",
       "</table>\n"
      ],
      "text/latex": [
       "A tibble: 6 × 1\n",
       "\\begin{tabular}{l}\n",
       " address\\\\\n",
       " <chr>\\\\\n",
       "\\hline\n",
       "\t PO BOX 293          \\\\\n",
       "\t 9800 LORELEI LANE NE\\\\\n",
       "\t SEBTS BOX BO-26-A   \\\\\n",
       "\t NCSU BOX 22714      \\\\\n",
       "\t 301 SYCAMORE ST     \\\\\n",
       "\t 722 LENOR PLACE CIR \\\\\n",
       "\\end{tabular}\n"
      ],
      "text/markdown": [
       "\n",
       "A tibble: 6 × 1\n",
       "\n",
       "| address &lt;chr&gt; |\n",
       "|---|\n",
       "| PO BOX 293           |\n",
       "| 9800 LORELEI LANE NE |\n",
       "| SEBTS BOX BO-26-A    |\n",
       "| NCSU BOX 22714       |\n",
       "| 301 SYCAMORE ST      |\n",
       "| 722 LENOR PLACE CIR  |\n",
       "\n"
      ],
      "text/plain": [
       "  address             \n",
       "1 PO BOX 293          \n",
       "2 9800 LORELEI LANE NE\n",
       "3 SEBTS BOX BO-26-A   \n",
       "4 NCSU BOX 22714      \n",
       "5 301 SYCAMORE ST     \n",
       "6 722 LENOR PLACE CIR "
      ]
     },
     "metadata": {},
     "output_type": "display_data"
    },
    {
     "data": {
      "text/html": [
       "<table class=\"dataframe\">\n",
       "<caption>A tibble: 6 × 1</caption>\n",
       "<thead>\n",
       "\t<tr><th scope=col>address</th></tr>\n",
       "\t<tr><th scope=col>&lt;chr&gt;</th></tr>\n",
       "</thead>\n",
       "<tbody>\n",
       "\t<tr><td>PO BOX 293  </td></tr>\n",
       "\t<tr><td>PO BOX 372  </td></tr>\n",
       "\t<tr><td>PO BOX 1011 </td></tr>\n",
       "\t<tr><td>PO BOX 20765</td></tr>\n",
       "\t<tr><td>PO BOX 371  </td></tr>\n",
       "\t<tr><td>PO BOX 1294 </td></tr>\n",
       "</tbody>\n",
       "</table>\n"
      ],
      "text/latex": [
       "A tibble: 6 × 1\n",
       "\\begin{tabular}{l}\n",
       " address\\\\\n",
       " <chr>\\\\\n",
       "\\hline\n",
       "\t PO BOX 293  \\\\\n",
       "\t PO BOX 372  \\\\\n",
       "\t PO BOX 1011 \\\\\n",
       "\t PO BOX 20765\\\\\n",
       "\t PO BOX 371  \\\\\n",
       "\t PO BOX 1294 \\\\\n",
       "\\end{tabular}\n"
      ],
      "text/markdown": [
       "\n",
       "A tibble: 6 × 1\n",
       "\n",
       "| address &lt;chr&gt; |\n",
       "|---|\n",
       "| PO BOX 293   |\n",
       "| PO BOX 372   |\n",
       "| PO BOX 1011  |\n",
       "| PO BOX 20765 |\n",
       "| PO BOX 371   |\n",
       "| PO BOX 1294  |\n",
       "\n"
      ],
      "text/plain": [
       "  address     \n",
       "1 PO BOX 293  \n",
       "2 PO BOX 372  \n",
       "3 PO BOX 1011 \n",
       "4 PO BOX 20765\n",
       "5 PO BOX 371  \n",
       "6 PO BOX 1294 "
      ]
     },
     "metadata": {},
     "output_type": "display_data"
    },
    {
     "data": {
      "text/html": [
       "<table class=\"dataframe\">\n",
       "<caption>A tibble: 6 × 1</caption>\n",
       "<thead>\n",
       "\t<tr><th scope=col>address</th></tr>\n",
       "\t<tr><th scope=col>&lt;chr&gt;</th></tr>\n",
       "</thead>\n",
       "<tbody>\n",
       "\t<tr><td>9800 LORELEI LANE NE</td></tr>\n",
       "\t<tr><td>SEBTS BOX BO-26-A   </td></tr>\n",
       "\t<tr><td>NCSU BOX 22714      </td></tr>\n",
       "\t<tr><td>301 SYCAMORE ST     </td></tr>\n",
       "\t<tr><td>722 LENOR PLACE CIR </td></tr>\n",
       "\t<tr><td>NCSU BOX 15007      </td></tr>\n",
       "</tbody>\n",
       "</table>\n"
      ],
      "text/latex": [
       "A tibble: 6 × 1\n",
       "\\begin{tabular}{l}\n",
       " address\\\\\n",
       " <chr>\\\\\n",
       "\\hline\n",
       "\t 9800 LORELEI LANE NE\\\\\n",
       "\t SEBTS BOX BO-26-A   \\\\\n",
       "\t NCSU BOX 22714      \\\\\n",
       "\t 301 SYCAMORE ST     \\\\\n",
       "\t 722 LENOR PLACE CIR \\\\\n",
       "\t NCSU BOX 15007      \\\\\n",
       "\\end{tabular}\n"
      ],
      "text/markdown": [
       "\n",
       "A tibble: 6 × 1\n",
       "\n",
       "| address &lt;chr&gt; |\n",
       "|---|\n",
       "| 9800 LORELEI LANE NE |\n",
       "| SEBTS BOX BO-26-A    |\n",
       "| NCSU BOX 22714       |\n",
       "| 301 SYCAMORE ST      |\n",
       "| 722 LENOR PLACE CIR  |\n",
       "| NCSU BOX 15007       |\n",
       "\n"
      ],
      "text/plain": [
       "  address             \n",
       "1 9800 LORELEI LANE NE\n",
       "2 SEBTS BOX BO-26-A   \n",
       "3 NCSU BOX 22714      \n",
       "4 301 SYCAMORE ST     \n",
       "5 722 LENOR PLACE CIR \n",
       "6 NCSU BOX 15007      "
      ]
     },
     "metadata": {},
     "output_type": "display_data"
    },
    {
     "data": {
      "text/html": [
       "<table class=\"dataframe\">\n",
       "<caption>A tibble: 6 × 1</caption>\n",
       "<thead>\n",
       "\t<tr><th scope=col>address</th></tr>\n",
       "\t<tr><th scope=col>&lt;chr&gt;</th></tr>\n",
       "</thead>\n",
       "<tbody>\n",
       "\t<tr><td>PO BOX 293    </td></tr>\n",
       "\t<tr><td>NCSU BOX 22714</td></tr>\n",
       "\t<tr><td>PO BOX 372    </td></tr>\n",
       "\t<tr><td>PO BOX 1011   </td></tr>\n",
       "\t<tr><td>PO BOX 20765  </td></tr>\n",
       "\t<tr><td>NCSU BOX 15007</td></tr>\n",
       "</tbody>\n",
       "</table>\n"
      ],
      "text/latex": [
       "A tibble: 6 × 1\n",
       "\\begin{tabular}{l}\n",
       " address\\\\\n",
       " <chr>\\\\\n",
       "\\hline\n",
       "\t PO BOX 293    \\\\\n",
       "\t NCSU BOX 22714\\\\\n",
       "\t PO BOX 372    \\\\\n",
       "\t PO BOX 1011   \\\\\n",
       "\t PO BOX 20765  \\\\\n",
       "\t NCSU BOX 15007\\\\\n",
       "\\end{tabular}\n"
      ],
      "text/markdown": [
       "\n",
       "A tibble: 6 × 1\n",
       "\n",
       "| address &lt;chr&gt; |\n",
       "|---|\n",
       "| PO BOX 293     |\n",
       "| NCSU BOX 22714 |\n",
       "| PO BOX 372     |\n",
       "| PO BOX 1011    |\n",
       "| PO BOX 20765   |\n",
       "| NCSU BOX 15007 |\n",
       "\n"
      ],
      "text/plain": [
       "  address       \n",
       "1 PO BOX 293    \n",
       "2 NCSU BOX 22714\n",
       "3 PO BOX 372    \n",
       "4 PO BOX 1011   \n",
       "5 PO BOX 20765  \n",
       "6 NCSU BOX 15007"
      ]
     },
     "metadata": {},
     "output_type": "display_data"
    },
    {
     "data": {
      "text/html": [
       "<table class=\"dataframe\">\n",
       "<caption>A tibble: 6 × 1</caption>\n",
       "<thead>\n",
       "\t<tr><th scope=col>address</th></tr>\n",
       "\t<tr><th scope=col>&lt;chr&gt;</th></tr>\n",
       "</thead>\n",
       "<tbody>\n",
       "\t<tr><td>9800 LORELEI LANE NE</td></tr>\n",
       "\t<tr><td>SEBTS BOX BO-26-A   </td></tr>\n",
       "\t<tr><td>301 SYCAMORE ST     </td></tr>\n",
       "\t<tr><td>722 LENOR PLACE CIR </td></tr>\n",
       "\t<tr><td>BARTON COLLEGE      </td></tr>\n",
       "\t<tr><td>6041 SILKWATER COURT</td></tr>\n",
       "</tbody>\n",
       "</table>\n"
      ],
      "text/latex": [
       "A tibble: 6 × 1\n",
       "\\begin{tabular}{l}\n",
       " address\\\\\n",
       " <chr>\\\\\n",
       "\\hline\n",
       "\t 9800 LORELEI LANE NE\\\\\n",
       "\t SEBTS BOX BO-26-A   \\\\\n",
       "\t 301 SYCAMORE ST     \\\\\n",
       "\t 722 LENOR PLACE CIR \\\\\n",
       "\t BARTON COLLEGE      \\\\\n",
       "\t 6041 SILKWATER COURT\\\\\n",
       "\\end{tabular}\n"
      ],
      "text/markdown": [
       "\n",
       "A tibble: 6 × 1\n",
       "\n",
       "| address &lt;chr&gt; |\n",
       "|---|\n",
       "| 9800 LORELEI LANE NE |\n",
       "| SEBTS BOX BO-26-A    |\n",
       "| 301 SYCAMORE ST      |\n",
       "| 722 LENOR PLACE CIR  |\n",
       "| BARTON COLLEGE       |\n",
       "| 6041 SILKWATER COURT |\n",
       "\n"
      ],
      "text/plain": [
       "  address             \n",
       "1 9800 LORELEI LANE NE\n",
       "2 SEBTS BOX BO-26-A   \n",
       "3 301 SYCAMORE ST     \n",
       "4 722 LENOR PLACE CIR \n",
       "5 BARTON COLLEGE      \n",
       "6 6041 SILKWATER COURT"
      ]
     },
     "metadata": {},
     "output_type": "display_data"
    },
    {
     "data": {
      "text/html": [
       "<table class=\"dataframe\">\n",
       "<caption>A tibble: 6 × 1</caption>\n",
       "<thead>\n",
       "\t<tr><th scope=col>boxnum</th></tr>\n",
       "\t<tr><th scope=col>&lt;chr&gt;</th></tr>\n",
       "</thead>\n",
       "<tbody>\n",
       "\t<tr><td>293  </td></tr>\n",
       "\t<tr><td>22714</td></tr>\n",
       "\t<tr><td>372  </td></tr>\n",
       "\t<tr><td>1011 </td></tr>\n",
       "\t<tr><td>20765</td></tr>\n",
       "\t<tr><td>15007</td></tr>\n",
       "</tbody>\n",
       "</table>\n"
      ],
      "text/latex": [
       "A tibble: 6 × 1\n",
       "\\begin{tabular}{l}\n",
       " boxnum\\\\\n",
       " <chr>\\\\\n",
       "\\hline\n",
       "\t 293  \\\\\n",
       "\t 22714\\\\\n",
       "\t 372  \\\\\n",
       "\t 1011 \\\\\n",
       "\t 20765\\\\\n",
       "\t 15007\\\\\n",
       "\\end{tabular}\n"
      ],
      "text/markdown": [
       "\n",
       "A tibble: 6 × 1\n",
       "\n",
       "| boxnum &lt;chr&gt; |\n",
       "|---|\n",
       "| 293   |\n",
       "| 22714 |\n",
       "| 372   |\n",
       "| 1011  |\n",
       "| 20765 |\n",
       "| 15007 |\n",
       "\n"
      ],
      "text/plain": [
       "  boxnum\n",
       "1 293   \n",
       "2 22714 \n",
       "3 372   \n",
       "4 1011  \n",
       "5 20765 \n",
       "6 15007 "
      ]
     },
     "metadata": {},
     "output_type": "display_data"
    }
   ],
   "source": [
    "Sample <-\n",
    "  Addresses %>%\n",
    "    sample_n(size = 50)\n",
    "head(Sample)\n",
    "\n",
    "pattern <- 'PO'\n",
    "\n",
    "Matches <-\n",
    "  Sample %>%\n",
    "    filter(grepl(pattern = pattern, address))\n",
    "head(Matches)\n",
    "\n",
    "Dont <-\n",
    "  Sample %>%\n",
    "    filter(!grepl(pattern = 'PO', address))\n",
    "head(Dont)\n",
    "\n",
    "pattern <- 'BOX\\\\s+(\\\\d+)'\n",
    "\n",
    "Matches <-\n",
    "  Sample %>%\n",
    "    filter( grepl(pattern, address))\n",
    "head(Matches)\n",
    "\n",
    "Dont <-\n",
    "  Sample %>%\n",
    "    filter(!grepl(pattern, address))\n",
    "head(Dont)\n",
    "\n",
    "BoxNumbers <-\n",
    "  Sample %>%\n",
    "    filter(grepl(pattern, address)) %>%\n",
    "    tidyr::extract(address, into = 'boxnum', regex = pattern)\n",
    "head(BoxNumbers)"
   ]
  },
  {
   "cell_type": "code",
   "execution_count": 5,
   "metadata": {
    "vscode": {
     "languageId": "r"
    }
   },
   "outputs": [
    {
     "data": {
      "text/html": [
       "<table class=\"dataframe\">\n",
       "<caption>A tibble: 6 × 1</caption>\n",
       "<thead>\n",
       "\t<tr><th scope=col>address</th></tr>\n",
       "\t<tr><th scope=col>&lt;chr&gt;</th></tr>\n",
       "</thead>\n",
       "<tbody>\n",
       "\t<tr><td>PO BOX 58592</td></tr>\n",
       "\t<tr><td>PO BOX 37218</td></tr>\n",
       "\t<tr><td>PO BOX 37218</td></tr>\n",
       "\t<tr><td>PO BOX 1953 </td></tr>\n",
       "\t<tr><td>PO BOX 132  </td></tr>\n",
       "\t<tr><td>PO BOX 360  </td></tr>\n",
       "</tbody>\n",
       "</table>\n"
      ],
      "text/latex": [
       "A tibble: 6 × 1\n",
       "\\begin{tabular}{l}\n",
       " address\\\\\n",
       " <chr>\\\\\n",
       "\\hline\n",
       "\t PO BOX 58592\\\\\n",
       "\t PO BOX 37218\\\\\n",
       "\t PO BOX 37218\\\\\n",
       "\t PO BOX 1953 \\\\\n",
       "\t PO BOX 132  \\\\\n",
       "\t PO BOX 360  \\\\\n",
       "\\end{tabular}\n"
      ],
      "text/markdown": [
       "\n",
       "A tibble: 6 × 1\n",
       "\n",
       "| address &lt;chr&gt; |\n",
       "|---|\n",
       "| PO BOX 58592 |\n",
       "| PO BOX 37218 |\n",
       "| PO BOX 37218 |\n",
       "| PO BOX 1953  |\n",
       "| PO BOX 132   |\n",
       "| PO BOX 360   |\n",
       "\n"
      ],
      "text/plain": [
       "  address     \n",
       "1 PO BOX 58592\n",
       "2 PO BOX 37218\n",
       "3 PO BOX 37218\n",
       "4 PO BOX 1953 \n",
       "5 PO BOX 132  \n",
       "6 PO BOX 360  "
      ]
     },
     "metadata": {},
     "output_type": "display_data"
    },
    {
     "data": {
      "text/html": [
       "<table class=\"dataframe\">\n",
       "<caption>A tibble: 6 × 1</caption>\n",
       "<thead>\n",
       "\t<tr><th scope=col>address</th></tr>\n",
       "\t<tr><th scope=col>&lt;chr&gt;</th></tr>\n",
       "</thead>\n",
       "<tbody>\n",
       "\t<tr><td>2117 MARINER CIRCLE</td></tr>\n",
       "\t<tr><td>101 EPPING WAY     </td></tr>\n",
       "\t<tr><td>5102 ECHO RIDGE RD </td></tr>\n",
       "\t<tr><td>5007 PURITAN RD    </td></tr>\n",
       "\t<tr><td>04-I ROBIN CIRCLE  </td></tr>\n",
       "\t<tr><td>4800 WESTERN BLVD  </td></tr>\n",
       "</tbody>\n",
       "</table>\n"
      ],
      "text/latex": [
       "A tibble: 6 × 1\n",
       "\\begin{tabular}{l}\n",
       " address\\\\\n",
       " <chr>\\\\\n",
       "\\hline\n",
       "\t 2117 MARINER CIRCLE\\\\\n",
       "\t 101 EPPING WAY     \\\\\n",
       "\t 5102 ECHO RIDGE RD \\\\\n",
       "\t 5007 PURITAN RD    \\\\\n",
       "\t 04-I ROBIN CIRCLE  \\\\\n",
       "\t 4800 WESTERN BLVD  \\\\\n",
       "\\end{tabular}\n"
      ],
      "text/markdown": [
       "\n",
       "A tibble: 6 × 1\n",
       "\n",
       "| address &lt;chr&gt; |\n",
       "|---|\n",
       "| 2117 MARINER CIRCLE |\n",
       "| 101 EPPING WAY      |\n",
       "| 5102 ECHO RIDGE RD  |\n",
       "| 5007 PURITAN RD     |\n",
       "| 04-I ROBIN CIRCLE   |\n",
       "| 4800 WESTERN BLVD   |\n",
       "\n"
      ],
      "text/plain": [
       "  address            \n",
       "1 2117 MARINER CIRCLE\n",
       "2 101 EPPING WAY     \n",
       "3 5102 ECHO RIDGE RD \n",
       "4 5007 PURITAN RD    \n",
       "5 04-I ROBIN CIRCLE  \n",
       "6 4800 WESTERN BLVD  "
      ]
     },
     "metadata": {},
     "output_type": "display_data"
    },
    {
     "data": {
      "text/html": [
       "<table class=\"dataframe\">\n",
       "<caption>A tibble: 6 × 1</caption>\n",
       "<thead>\n",
       "\t<tr><th scope=col>address</th></tr>\n",
       "\t<tr><th scope=col>&lt;chr&gt;</th></tr>\n",
       "</thead>\n",
       "<tbody>\n",
       "\t<tr><td>PO BOX 58592</td></tr>\n",
       "\t<tr><td>PO BOX 37218</td></tr>\n",
       "\t<tr><td>PO BOX 37218</td></tr>\n",
       "\t<tr><td>PO BOX 1953 </td></tr>\n",
       "\t<tr><td>PO BOX 132  </td></tr>\n",
       "\t<tr><td>PO BOX 360  </td></tr>\n",
       "</tbody>\n",
       "</table>\n"
      ],
      "text/latex": [
       "A tibble: 6 × 1\n",
       "\\begin{tabular}{l}\n",
       " address\\\\\n",
       " <chr>\\\\\n",
       "\\hline\n",
       "\t PO BOX 58592\\\\\n",
       "\t PO BOX 37218\\\\\n",
       "\t PO BOX 37218\\\\\n",
       "\t PO BOX 1953 \\\\\n",
       "\t PO BOX 132  \\\\\n",
       "\t PO BOX 360  \\\\\n",
       "\\end{tabular}\n"
      ],
      "text/markdown": [
       "\n",
       "A tibble: 6 × 1\n",
       "\n",
       "| address &lt;chr&gt; |\n",
       "|---|\n",
       "| PO BOX 58592 |\n",
       "| PO BOX 37218 |\n",
       "| PO BOX 37218 |\n",
       "| PO BOX 1953  |\n",
       "| PO BOX 132   |\n",
       "| PO BOX 360   |\n",
       "\n"
      ],
      "text/plain": [
       "  address     \n",
       "1 PO BOX 58592\n",
       "2 PO BOX 37218\n",
       "3 PO BOX 37218\n",
       "4 PO BOX 1953 \n",
       "5 PO BOX 132  \n",
       "6 PO BOX 360  "
      ]
     },
     "metadata": {},
     "output_type": "display_data"
    },
    {
     "data": {
      "text/html": [
       "<table class=\"dataframe\">\n",
       "<caption>A tibble: 6 × 1</caption>\n",
       "<thead>\n",
       "\t<tr><th scope=col>address</th></tr>\n",
       "\t<tr><th scope=col>&lt;chr&gt;</th></tr>\n",
       "</thead>\n",
       "<tbody>\n",
       "\t<tr><td>2117 MARINER CIRCLE</td></tr>\n",
       "\t<tr><td>101 EPPING WAY     </td></tr>\n",
       "\t<tr><td>5102 ECHO RIDGE RD </td></tr>\n",
       "\t<tr><td>5007 PURITAN RD    </td></tr>\n",
       "\t<tr><td>04-I ROBIN CIRCLE  </td></tr>\n",
       "\t<tr><td>4800 WESTERN BLVD  </td></tr>\n",
       "</tbody>\n",
       "</table>\n"
      ],
      "text/latex": [
       "A tibble: 6 × 1\n",
       "\\begin{tabular}{l}\n",
       " address\\\\\n",
       " <chr>\\\\\n",
       "\\hline\n",
       "\t 2117 MARINER CIRCLE\\\\\n",
       "\t 101 EPPING WAY     \\\\\n",
       "\t 5102 ECHO RIDGE RD \\\\\n",
       "\t 5007 PURITAN RD    \\\\\n",
       "\t 04-I ROBIN CIRCLE  \\\\\n",
       "\t 4800 WESTERN BLVD  \\\\\n",
       "\\end{tabular}\n"
      ],
      "text/markdown": [
       "\n",
       "A tibble: 6 × 1\n",
       "\n",
       "| address &lt;chr&gt; |\n",
       "|---|\n",
       "| 2117 MARINER CIRCLE |\n",
       "| 101 EPPING WAY      |\n",
       "| 5102 ECHO RIDGE RD  |\n",
       "| 5007 PURITAN RD     |\n",
       "| 04-I ROBIN CIRCLE   |\n",
       "| 4800 WESTERN BLVD   |\n",
       "\n"
      ],
      "text/plain": [
       "  address            \n",
       "1 2117 MARINER CIRCLE\n",
       "2 101 EPPING WAY     \n",
       "3 5102 ECHO RIDGE RD \n",
       "4 5007 PURITAN RD    \n",
       "5 04-I ROBIN CIRCLE  \n",
       "6 4800 WESTERN BLVD  "
      ]
     },
     "metadata": {},
     "output_type": "display_data"
    },
    {
     "data": {
      "text/html": [
       "<table class=\"dataframe\">\n",
       "<caption>A tibble: 6 × 1</caption>\n",
       "<thead>\n",
       "\t<tr><th scope=col>boxnum</th></tr>\n",
       "\t<tr><th scope=col>&lt;chr&gt;</th></tr>\n",
       "</thead>\n",
       "<tbody>\n",
       "\t<tr><td>58592</td></tr>\n",
       "\t<tr><td>37218</td></tr>\n",
       "\t<tr><td>37218</td></tr>\n",
       "\t<tr><td>1953 </td></tr>\n",
       "\t<tr><td>132  </td></tr>\n",
       "\t<tr><td>360  </td></tr>\n",
       "</tbody>\n",
       "</table>\n"
      ],
      "text/latex": [
       "A tibble: 6 × 1\n",
       "\\begin{tabular}{l}\n",
       " boxnum\\\\\n",
       " <chr>\\\\\n",
       "\\hline\n",
       "\t 58592\\\\\n",
       "\t 37218\\\\\n",
       "\t 37218\\\\\n",
       "\t 1953 \\\\\n",
       "\t 132  \\\\\n",
       "\t 360  \\\\\n",
       "\\end{tabular}\n"
      ],
      "text/markdown": [
       "\n",
       "A tibble: 6 × 1\n",
       "\n",
       "| boxnum &lt;chr&gt; |\n",
       "|---|\n",
       "| 58592 |\n",
       "| 37218 |\n",
       "| 37218 |\n",
       "| 1953  |\n",
       "| 132   |\n",
       "| 360   |\n",
       "\n"
      ],
      "text/plain": [
       "  boxnum\n",
       "1 58592 \n",
       "2 37218 \n",
       "3 37218 \n",
       "4 1953  \n",
       "5 132   \n",
       "6 360   "
      ]
     },
     "metadata": {},
     "output_type": "display_data"
    }
   ],
   "source": [
    "pattern <- 'PO'\n",
    "\n",
    "Matches <-\n",
    "  Addresses %>%\n",
    "    filter(grepl(pattern = pattern, address))\n",
    "head(Matches)\n",
    "\n",
    "Dont <-\n",
    "  Addresses %>%\n",
    "    filter(!grepl(pattern = 'PO', address))\n",
    "head(Dont)\n",
    "\n",
    "pattern <- 'BOX\\\\s+(\\\\d+)'\n",
    "\n",
    "Matches <-\n",
    "  Addresses %>%\n",
    "    filter( grepl(pattern, address))\n",
    "head(Matches)\n",
    "\n",
    "Dont <-\n",
    "  Addresses %>%\n",
    "    filter(!grepl(pattern, address))\n",
    "head(Dont)\n",
    "\n",
    "BoxNumbers <-\n",
    "  Addresses %>%\n",
    "    filter(grepl(pattern, address)) %>%\n",
    "    tidyr::extract(address, into = 'boxnum', regex = pattern)\n",
    "head(BoxNumbers)"
   ]
  },
  {
   "attachments": {},
   "cell_type": "markdown",
   "metadata": {},
   "source": [
    "## Back to the Streets"
   ]
  },
  {
   "attachments": {},
   "cell_type": "markdown",
   "metadata": {},
   "source": [
    "Street endings (e.g., 'ST', 'LANE') are often found at the end of the address string. Use this as a starting point to find the most common endings. Once you have a set of specific street endings, you can use the regex \"or\" symbol, e.g., '(ST|RD|ROAD)'. The parentheses are not incidental. They are there to mark a pattern that you want to extract. In this case, in addition to knowing that there is a ST or RD or ROAD in an address, you want to know which one of those possibilities it is so that you can count the occurrence of each of the possibilities. To find street endings that aren't in your set, you can filter out the street endings or non street addresses you already know about.\n",
    "\n",
    "[1] Read the following R statements. Next to each line, give a short explanation of what the line contributes to the task. For each of the regexes, explain in simple everyday language what pattern is being matched.\n",
    "\n",
    "```r\n",
    "pattern <- '(ST|RD|ROAD)'\n",
    "\n",
    "LeftOvers <-\n",
    "  Addresses %>%\n",
    "    filter(\n",
    "      !grepl(pattern, address),                 # matches other than: 'ST' or 'RD' or 'ROAD'\n",
    "      !grepl('\\\\sAPT|UNIT\\\\s[\\\\d]+$', address), # matches other than: (1 whitespace, 'APT') or ('UNIT', 1 whitespace, 1 or more digits at the end of the string)\n",
    "      !grepl(' BOX ', address)                  # matches other than: 1 space, 'BOX', 1 space\n",
    "    )\n",
    "LeftOvers\n",
    "```\n",
    "\n",
    "[2] For each set of patterns that you identify, compute the `LeftOvers`. Examine them visually to find new street endings to add to the pattern, e.g., LANE. When you have this working on the small sample, use a larger sample and, eventually, the whole data set. It's practically impossible to find a method that will work perfectly on new data, but do the best you can. In your report, implement your method and explain how it works, line by line. Present your result: how many addresses there are of each kind of road word?\n",
    "\n",
    "'DR', 'RD', and 'ST' are the most common street types. In general, abbrviated street types are more common than their longform counterparts.\n",
    "\n",
    "Breaking addresses into their components is a common task. People who work on this problem intensively sometimes publish their regular expressions. Here's one from Ross Hammer published at https://regexlib.com/Search.aspx?k=street:\n",
    "\n",
    "```\n",
    "^\\s*((?:(?:\\d+(?:\\x20+\\w+\\.?)+(?:(?:\\x20+STREET|ST|DRIVE|DR|AVENUE|AVE|ROAD|RD|LOOP|COURT\n",
    "|CT|CIRCLE|LANE|LN|BOULEVARD|BLVD)\\.?)?)|(?:(?:P\\.\\x20?O\\.|P\\x20?O)\\x20*Box\\x20+\\d+)|\n",
    "(?:General\\x20+Delivery)|(?:C[\\\\\\/]O\\x20+(?:\\w+\\x20*)+))\\,?\\x20*(?:(?:(?:APT|BLDG|DEPT|\n",
    "FL|HNGR|LOT|PIER|RM|S(?:LIP|PC|T(?:E|OP))|TRLR|UNIT|\\x23)\\.?\\x20*(?:[a-zA-Z0-9\\-]+))|\n",
    "(?:BSMT|FRNT|LBBY|LOWR|OFC|PH|REAR|SIDE|UPPR))?)\\,?\\s+((?:(?:\\d+(?:\\x20+\\w+\\.?)+\n",
    "(?:(?:\\x20+STREET|ST|DRIVE|DR|AVENUE|AVE|ROAD|RD|LOOP|COURT|CT|CIRCLE|LANE|LN|BOULEVARD|\n",
    "BLVD)\\.?)?)|(?:(?:P\\.\\x20?O\\.|P\\x20?O)\\x20*Box\\x20+\\d+)|(?:General\\x20+Delivery)|\n",
    "(?:C[\\\\\\/]O\\x20+(?:\\w+\\x20*)+))\\,?\\x20*(?:(?:(?:APT|BLDG|DEPT|FL|HNGR|LOT|PIER|RM|\n",
    "S(?:LIP|PC|T(?:E|OP))|TRLR|UNIT|\\x23)\\.?\\x20*(?:[a-zA-Z0-9\\-]+))|(?:BSMT|FRNT|LBBY|\n",
    "LOWR|OFC|PH|REAR|SIDE|UPPR))?)?\\,?\\s+((?:[A-Za-z]+\\x20*)+)\\,\\s+(A[LKSZRAP]|C[AOT]|\n",
    "D[EC]|F[LM]|G[AU]|HI|I[ADLN]|K[SY]|LA|M[ADEHINOPST]|N[CDEHJMVY]|O[HKR]|P[ARW]|RI|\n",
    "S[CD]|T[NX]|UT|V[AIT]|W[AIVY])\\s+(\\d+(?:-\\d+)?)\\s*$\n",
    "```"
   ]
  },
  {
   "cell_type": "code",
   "execution_count": 6,
   "metadata": {
    "vscode": {
     "languageId": "r"
    }
   },
   "outputs": [
    {
     "data": {
      "text/html": [
       "<table class=\"dataframe\">\n",
       "<caption>A spec_tbl_df: 602 × 1</caption>\n",
       "<thead>\n",
       "\t<tr><th scope=col>address</th></tr>\n",
       "\t<tr><th scope=col>&lt;chr&gt;</th></tr>\n",
       "</thead>\n",
       "<tbody>\n",
       "\t<tr><td>NCSU B0X 15637                   </td></tr>\n",
       "\t<tr><td>HMIA-267                         </td></tr>\n",
       "\t<tr><td>1104 PULLEN HALL                 </td></tr>\n",
       "\t<tr><td>311 BAREFOOT                     </td></tr>\n",
       "\t<tr><td>512  LIVE OAK                    </td></tr>\n",
       "\t<tr><td>1706 WINGATE UNIVERSITY          </td></tr>\n",
       "\t<tr><td>121 CRESTVIEW TER                </td></tr>\n",
       "\t<tr><td>AT BN BRAVO CO                   </td></tr>\n",
       "\t<tr><td>901 ENGLEWOOD PKWY APT L 107     </td></tr>\n",
       "\t<tr><td>UR 6516                          </td></tr>\n",
       "\t<tr><td>321 BEAR CREEK PATH              </td></tr>\n",
       "\t<tr><td>104 SILVERWOOD POINT             </td></tr>\n",
       "\t<tr><td>PMB 387  6325-9 FALLS OF NEUSE   </td></tr>\n",
       "\t<tr><td>132 BRITTINGHAM LOOP             </td></tr>\n",
       "\t<tr><td>2440 SW CARY PARKWA 160          </td></tr>\n",
       "\t<tr><td>114 EDGEHILL PKWY                </td></tr>\n",
       "\t<tr><td>8104 BROOKGATE TERRACE APT 205   </td></tr>\n",
       "\t<tr><td>20 CHAPEL SQUARE                 </td></tr>\n",
       "\t<tr><td>PO BX 371                        </td></tr>\n",
       "\t<tr><td>103 SUNRISE CV                   </td></tr>\n",
       "\t<tr><td>2731 NC HIGHWAY 55 #270          </td></tr>\n",
       "\t<tr><td>9099 MAIL SERVICE CENTER ACP 39  </td></tr>\n",
       "\t<tr><td>1381-220 KILDAIRE FARM           </td></tr>\n",
       "\t<tr><td>24 SUNNY VIEW TERRACE            </td></tr>\n",
       "\t<tr><td>8421 CUTHBERT                    </td></tr>\n",
       "\t<tr><td>1464 GARNER STATION              </td></tr>\n",
       "\t<tr><td>4505-200 FALLS OF NEUS           </td></tr>\n",
       "\t<tr><td>659-104 CARY TOWNE BLV           </td></tr>\n",
       "\t<tr><td>9660 FALLS OF NEUSE STE138-PMB445</td></tr>\n",
       "\t<tr><td>SEBTS BOX BO-31-A                </td></tr>\n",
       "\t<tr><td>⋮</td></tr>\n",
       "\t<tr><td>FIT BOX A 1043               </td></tr>\n",
       "\t<tr><td>4503 WENTWORTH               </td></tr>\n",
       "\t<tr><td>3120 C WALNUT CREEK PKWY     </td></tr>\n",
       "\t<tr><td>2077 HAITH FULLER TR         </td></tr>\n",
       "\t<tr><td>502 CLEMENT HALL             </td></tr>\n",
       "\t<tr><td>UNIVERSITY OF GEORGIA        </td></tr>\n",
       "\t<tr><td>ECU-UNIVERISTY               </td></tr>\n",
       "\t<tr><td>SEBTS BOX LO-203-1-A         </td></tr>\n",
       "\t<tr><td>SEBTS BOX GO-215-3-D         </td></tr>\n",
       "\t<tr><td>62 HEDDEN TERRACE            </td></tr>\n",
       "\t<tr><td>PO BX 4473                   </td></tr>\n",
       "\t<tr><td>8385 HOBBTON HWY             </td></tr>\n",
       "\t<tr><td>PO BX 6863                   </td></tr>\n",
       "\t<tr><td>2313 UNCG STATION            </td></tr>\n",
       "\t<tr><td>PO BX  1233                  </td></tr>\n",
       "\t<tr><td>1423 E JONES                 </td></tr>\n",
       "\t<tr><td>14460 NEW FALLS OF NEUSE     </td></tr>\n",
       "\t<tr><td>5448 APEX PEAKWAY APT 225    </td></tr>\n",
       "\t<tr><td>1219 VALLEY VIEW WOODS       </td></tr>\n",
       "\t<tr><td>16025 SULLIVAN HALL UNIT 205A</td></tr>\n",
       "\t<tr><td>16097 SULLIVAN HALL          </td></tr>\n",
       "\t<tr><td>04071 ALEXANDER HALL         </td></tr>\n",
       "\t<tr><td>16296 SULLIVAN HALL UNIT 909D</td></tr>\n",
       "\t<tr><td>5448 APEX PEAKWAY APT 174    </td></tr>\n",
       "\t<tr><td>8536 UNCG STA                </td></tr>\n",
       "\t<tr><td>952 188 US HWY 64 W          </td></tr>\n",
       "\t<tr><td>PO BO 1984                   </td></tr>\n",
       "\t<tr><td>PMB 192-1939 HIGH HOUSE      </td></tr>\n",
       "\t<tr><td>1289 FORDHAM UNIT 188        </td></tr>\n",
       "\t<tr><td>JUSTICE HALL ROOM 333        </td></tr>\n",
       "</tbody>\n",
       "</table>\n"
      ],
      "text/latex": [
       "A spec\\_tbl\\_df: 602 × 1\n",
       "\\begin{tabular}{l}\n",
       " address\\\\\n",
       " <chr>\\\\\n",
       "\\hline\n",
       "\t NCSU B0X 15637                   \\\\\n",
       "\t HMIA-267                         \\\\\n",
       "\t 1104 PULLEN HALL                 \\\\\n",
       "\t 311 BAREFOOT                     \\\\\n",
       "\t 512  LIVE OAK                    \\\\\n",
       "\t 1706 WINGATE UNIVERSITY          \\\\\n",
       "\t 121 CRESTVIEW TER                \\\\\n",
       "\t AT BN BRAVO CO                   \\\\\n",
       "\t 901 ENGLEWOOD PKWY APT L 107     \\\\\n",
       "\t UR 6516                          \\\\\n",
       "\t 321 BEAR CREEK PATH              \\\\\n",
       "\t 104 SILVERWOOD POINT             \\\\\n",
       "\t PMB 387  6325-9 FALLS OF NEUSE   \\\\\n",
       "\t 132 BRITTINGHAM LOOP             \\\\\n",
       "\t 2440 SW CARY PARKWA 160          \\\\\n",
       "\t 114 EDGEHILL PKWY                \\\\\n",
       "\t 8104 BROOKGATE TERRACE APT 205   \\\\\n",
       "\t 20 CHAPEL SQUARE                 \\\\\n",
       "\t PO BX 371                        \\\\\n",
       "\t 103 SUNRISE CV                   \\\\\n",
       "\t 2731 NC HIGHWAY 55 \\#270          \\\\\n",
       "\t 9099 MAIL SERVICE CENTER ACP 39  \\\\\n",
       "\t 1381-220 KILDAIRE FARM           \\\\\n",
       "\t 24 SUNNY VIEW TERRACE            \\\\\n",
       "\t 8421 CUTHBERT                    \\\\\n",
       "\t 1464 GARNER STATION              \\\\\n",
       "\t 4505-200 FALLS OF NEUS           \\\\\n",
       "\t 659-104 CARY TOWNE BLV           \\\\\n",
       "\t 9660 FALLS OF NEUSE STE138-PMB445\\\\\n",
       "\t SEBTS BOX BO-31-A                \\\\\n",
       "\t ⋮\\\\\n",
       "\t FIT BOX A 1043               \\\\\n",
       "\t 4503 WENTWORTH               \\\\\n",
       "\t 3120 C WALNUT CREEK PKWY     \\\\\n",
       "\t 2077 HAITH FULLER TR         \\\\\n",
       "\t 502 CLEMENT HALL             \\\\\n",
       "\t UNIVERSITY OF GEORGIA        \\\\\n",
       "\t ECU-UNIVERISTY               \\\\\n",
       "\t SEBTS BOX LO-203-1-A         \\\\\n",
       "\t SEBTS BOX GO-215-3-D         \\\\\n",
       "\t 62 HEDDEN TERRACE            \\\\\n",
       "\t PO BX 4473                   \\\\\n",
       "\t 8385 HOBBTON HWY             \\\\\n",
       "\t PO BX 6863                   \\\\\n",
       "\t 2313 UNCG STATION            \\\\\n",
       "\t PO BX  1233                  \\\\\n",
       "\t 1423 E JONES                 \\\\\n",
       "\t 14460 NEW FALLS OF NEUSE     \\\\\n",
       "\t 5448 APEX PEAKWAY APT 225    \\\\\n",
       "\t 1219 VALLEY VIEW WOODS       \\\\\n",
       "\t 16025 SULLIVAN HALL UNIT 205A\\\\\n",
       "\t 16097 SULLIVAN HALL          \\\\\n",
       "\t 04071 ALEXANDER HALL         \\\\\n",
       "\t 16296 SULLIVAN HALL UNIT 909D\\\\\n",
       "\t 5448 APEX PEAKWAY APT 174    \\\\\n",
       "\t 8536 UNCG STA                \\\\\n",
       "\t 952 188 US HWY 64 W          \\\\\n",
       "\t PO BO 1984                   \\\\\n",
       "\t PMB 192-1939 HIGH HOUSE      \\\\\n",
       "\t 1289 FORDHAM UNIT 188        \\\\\n",
       "\t JUSTICE HALL ROOM 333        \\\\\n",
       "\\end{tabular}\n"
      ],
      "text/markdown": [
       "\n",
       "A spec_tbl_df: 602 × 1\n",
       "\n",
       "| address &lt;chr&gt; |\n",
       "|---|\n",
       "| NCSU B0X 15637                    |\n",
       "| HMIA-267                          |\n",
       "| 1104 PULLEN HALL                  |\n",
       "| 311 BAREFOOT                      |\n",
       "| 512  LIVE OAK                     |\n",
       "| 1706 WINGATE UNIVERSITY           |\n",
       "| 121 CRESTVIEW TER                 |\n",
       "| AT BN BRAVO CO                    |\n",
       "| 901 ENGLEWOOD PKWY APT L 107      |\n",
       "| UR 6516                           |\n",
       "| 321 BEAR CREEK PATH               |\n",
       "| 104 SILVERWOOD POINT              |\n",
       "| PMB 387  6325-9 FALLS OF NEUSE    |\n",
       "| 132 BRITTINGHAM LOOP              |\n",
       "| 2440 SW CARY PARKWA 160           |\n",
       "| 114 EDGEHILL PKWY                 |\n",
       "| 8104 BROOKGATE TERRACE APT 205    |\n",
       "| 20 CHAPEL SQUARE                  |\n",
       "| PO BX 371                         |\n",
       "| 103 SUNRISE CV                    |\n",
       "| 2731 NC HIGHWAY 55 #270           |\n",
       "| 9099 MAIL SERVICE CENTER ACP 39   |\n",
       "| 1381-220 KILDAIRE FARM            |\n",
       "| 24 SUNNY VIEW TERRACE             |\n",
       "| 8421 CUTHBERT                     |\n",
       "| 1464 GARNER STATION               |\n",
       "| 4505-200 FALLS OF NEUS            |\n",
       "| 659-104 CARY TOWNE BLV            |\n",
       "| 9660 FALLS OF NEUSE STE138-PMB445 |\n",
       "| SEBTS BOX BO-31-A                 |\n",
       "| ⋮ |\n",
       "| FIT BOX A 1043                |\n",
       "| 4503 WENTWORTH                |\n",
       "| 3120 C WALNUT CREEK PKWY      |\n",
       "| 2077 HAITH FULLER TR          |\n",
       "| 502 CLEMENT HALL              |\n",
       "| UNIVERSITY OF GEORGIA         |\n",
       "| ECU-UNIVERISTY                |\n",
       "| SEBTS BOX LO-203-1-A          |\n",
       "| SEBTS BOX GO-215-3-D          |\n",
       "| 62 HEDDEN TERRACE             |\n",
       "| PO BX 4473                    |\n",
       "| 8385 HOBBTON HWY              |\n",
       "| PO BX 6863                    |\n",
       "| 2313 UNCG STATION             |\n",
       "| PO BX  1233                   |\n",
       "| 1423 E JONES                  |\n",
       "| 14460 NEW FALLS OF NEUSE      |\n",
       "| 5448 APEX PEAKWAY APT 225     |\n",
       "| 1219 VALLEY VIEW WOODS        |\n",
       "| 16025 SULLIVAN HALL UNIT 205A |\n",
       "| 16097 SULLIVAN HALL           |\n",
       "| 04071 ALEXANDER HALL          |\n",
       "| 16296 SULLIVAN HALL UNIT 909D |\n",
       "| 5448 APEX PEAKWAY APT 174     |\n",
       "| 8536 UNCG STA                 |\n",
       "| 952 188 US HWY 64 W           |\n",
       "| PO BO 1984                    |\n",
       "| PMB 192-1939 HIGH HOUSE       |\n",
       "| 1289 FORDHAM UNIT 188         |\n",
       "| JUSTICE HALL ROOM 333         |\n",
       "\n"
      ],
      "text/plain": [
       "    address                          \n",
       "1   NCSU B0X 15637                   \n",
       "2   HMIA-267                         \n",
       "3   1104 PULLEN HALL                 \n",
       "4   311 BAREFOOT                     \n",
       "5   512  LIVE OAK                    \n",
       "6   1706 WINGATE UNIVERSITY          \n",
       "7   121 CRESTVIEW TER                \n",
       "8   AT BN BRAVO CO                   \n",
       "9   901 ENGLEWOOD PKWY APT L 107     \n",
       "10  UR 6516                          \n",
       "11  321 BEAR CREEK PATH              \n",
       "12  104 SILVERWOOD POINT             \n",
       "13  PMB 387  6325-9 FALLS OF NEUSE   \n",
       "14  132 BRITTINGHAM LOOP             \n",
       "15  2440 SW CARY PARKWA 160          \n",
       "16  114 EDGEHILL PKWY                \n",
       "17  8104 BROOKGATE TERRACE APT 205   \n",
       "18  20 CHAPEL SQUARE                 \n",
       "19  PO BX 371                        \n",
       "20  103 SUNRISE CV                   \n",
       "21  2731 NC HIGHWAY 55 #270          \n",
       "22  9099 MAIL SERVICE CENTER ACP 39  \n",
       "23  1381-220 KILDAIRE FARM           \n",
       "24  24 SUNNY VIEW TERRACE            \n",
       "25  8421 CUTHBERT                    \n",
       "26  1464 GARNER STATION              \n",
       "27  4505-200 FALLS OF NEUS           \n",
       "28  659-104 CARY TOWNE BLV           \n",
       "29  9660 FALLS OF NEUSE STE138-PMB445\n",
       "30  SEBTS BOX BO-31-A                \n",
       "⋮   ⋮                                \n",
       "573 FIT BOX A 1043                   \n",
       "574 4503 WENTWORTH                   \n",
       "575 3120 C WALNUT CREEK PKWY         \n",
       "576 2077 HAITH FULLER TR             \n",
       "577 502 CLEMENT HALL                 \n",
       "578 UNIVERSITY OF GEORGIA            \n",
       "579 ECU-UNIVERISTY                   \n",
       "580 SEBTS BOX LO-203-1-A             \n",
       "581 SEBTS BOX GO-215-3-D             \n",
       "582 62 HEDDEN TERRACE                \n",
       "583 PO BX 4473                       \n",
       "584 8385 HOBBTON HWY                 \n",
       "585 PO BX 6863                       \n",
       "586 2313 UNCG STATION                \n",
       "587 PO BX  1233                      \n",
       "588 1423 E JONES                     \n",
       "589 14460 NEW FALLS OF NEUSE         \n",
       "590 5448 APEX PEAKWAY APT 225        \n",
       "591 1219 VALLEY VIEW WOODS           \n",
       "592 16025 SULLIVAN HALL UNIT 205A    \n",
       "593 16097 SULLIVAN HALL              \n",
       "594 04071 ALEXANDER HALL             \n",
       "595 16296 SULLIVAN HALL UNIT 909D    \n",
       "596 5448 APEX PEAKWAY APT 174        \n",
       "597 8536 UNCG STA                    \n",
       "598 952 188 US HWY 64 W              \n",
       "599 PO BO 1984                       \n",
       "600 PMB 192-1939 HIGH HOUSE          \n",
       "601 1289 FORDHAM UNIT 188            \n",
       "602 JUSTICE HALL ROOM 333            "
      ]
     },
     "metadata": {},
     "output_type": "display_data"
    }
   ],
   "source": [
    "Addresses %>%\n",
    "  filter(\n",
    "    !grepl(pattern = ' AVENUE |AVENUE$', x = address),       # matches other than: 'AVENUE' flanked by whitespace anywhere in the string, or 'AVENUE' at the end of the string\n",
    "    !grepl(pattern = ' AVE |AVE$', x = address),             # matches other than: 'AVE' flanked by whitespace anywhere in the string, or 'AVE' at the end of the string\n",
    "    !grepl(pattern = ' BLVD |BLVD$', x = address),           # matches other than: 'BLVD' flanked by whitespace anywhere in the string, or 'BLVD' at the end of the string\n",
    "    !grepl(pattern = ' BOULEVARD |BOULEVARD$', x = address), # matches other than: 'BOULEVARD' flanked by whitespace anywhere in the string, or 'BOULEVARD' at the end of the string\n",
    "    !grepl(pattern = ' CIR |CIR$', x = address),             # matches other than: 'CIR' flanked by whitespace anywhere in the string, or 'CIR' at the end of the string\n",
    "    !grepl(pattern = ' CIRCLE |CIRCLE$', x = address),       # matches other than: 'CIRCLE' flanked by whitespace anywhere in the string, or 'CIRCLE' at the end of the string\n",
    "    !grepl(pattern = ' CT |CT$', x = address),               # matches other than: 'CT' flanked by whitespace anywhere in the string, or 'CT' at the end of the string\n",
    "    !grepl(pattern = ' COURT |COURT$', x = address),         # matches other than: 'COURT' flanked by whitespace anywhere in the string, or 'COURT' at the end of the string\n",
    "    !grepl(pattern = ' DR |DR$', x = address),               # matches other than: 'DR' flanked by whitespace anywhere in the string, or 'DR' at the end of the string\n",
    "    !grepl(pattern = ' DRIVE |DRIVE$', x = address),         # matches other than: 'DRIVE' flanked by whitespace anywhere in the string, or 'DRIVE' at the end of the string\n",
    "    !grepl(pattern = ' LN |LN$', x = address),               # matches other than: 'LN' flanked by whitespace anywhere in the string, or 'LN' at the end of the string\n",
    "    !grepl(pattern = ' LANE |LANE$', x = address),           # matches other than: 'LANE' flanked by whitespace anywhere in the string, or 'LANE' at the end of the string\n",
    "    !grepl(pattern = ' PL |PL$', x = address),               # matches other than: 'PL' flanked by whitespace anywhere in the string, or 'PL' at the end of the string\n",
    "    !grepl(pattern = ' PLACE |PLACE$', x = address),         # matches other than: 'PLACE' flanked by whitespace anywhere in the string, or 'PLACE' at the end of the string\n",
    "    !grepl(pattern = ' RD |RD$', x = address),               # matches other than: 'RD' flanked by whitespace anywhere in the string, or 'RD' at the end of the string\n",
    "    !grepl(pattern = ' ROAD |ROAD$', x = address),           # matches other than: 'ROAD' flanked by whitespace anywhere in the string, or 'ROAD' at the end of the string\n",
    "    !grepl(pattern = ' ST |ST$', x = address),               # matches other than: 'ST' flanked by whitespace anywhere in the string, or 'ST' at the end of the string\n",
    "    !grepl(pattern = ' STREET |STREET$', x = address),       # matches other than: 'STREET' flanked by whitespace anywhere in the string, or 'STREET' at the end of the string\n",
    "    !grepl(pattern = ' TRAIL |TRAIL$', x = address),         # matches other than: 'TRAIL' flanked by whitespace anywhere in the string, or 'TRAIL' at the end of the string\n",
    "    !grepl(pattern = ' WAY |WAY$', x = address),             # matches other than: 'WAY' flanked by whitespace anywhere in the string, or 'WAY' at the end of the string\n",
    "    !grepl(pattern = ' WINERY |WINERY$', x = address),       # matches other than: 'WINERY' flanked by whitespace anywhere in the string, or 'WINERY' at the end of the string\n",
    "    !grepl(pattern = 'BOX\\\\s+(\\\\d+)', x = address)           # filters out all the 'BOX' from above\n",
    "  )"
   ]
  },
  {
   "cell_type": "code",
   "execution_count": 97,
   "metadata": {
    "vscode": {
     "languageId": "r"
    }
   },
   "outputs": [
    {
     "data": {
      "text/html": [
       "'\\\\s+(AVE|AVENUE|BLVD|BOULEVARD|CIR|CIRCLE|CT|COURT|DR|DRIVE|LN|LANE|PL|PLACE|RD|ROAD|ST|STREET|TRAIL|WAY|WINERY)(\\\\s+|$)?'"
      ],
      "text/latex": [
       "'\\textbackslash{}\\textbackslash{}s+(AVE\\textbar{}AVENUE\\textbar{}BLVD\\textbar{}BOULEVARD\\textbar{}CIR\\textbar{}CIRCLE\\textbar{}CT\\textbar{}COURT\\textbar{}DR\\textbar{}DRIVE\\textbar{}LN\\textbar{}LANE\\textbar{}PL\\textbar{}PLACE\\textbar{}RD\\textbar{}ROAD\\textbar{}ST\\textbar{}STREET\\textbar{}TRAIL\\textbar{}WAY\\textbar{}WINERY)(\\textbackslash{}\\textbackslash{}s+\\textbar{}\\$)?'"
      ],
      "text/markdown": [
       "'\\\\s+(AVE|AVENUE|BLVD|BOULEVARD|CIR|CIRCLE|CT|COURT|DR|DRIVE|LN|LANE|PL|PLACE|RD|ROAD|ST|STREET|TRAIL|WAY|WINERY)(\\\\s+|$)?'"
      ],
      "text/plain": [
       "[1] \"\\\\s+(AVE|AVENUE|BLVD|BOULEVARD|CIR|CIRCLE|CT|COURT|DR|DRIVE|LN|LANE|PL|PLACE|RD|ROAD|ST|STREET|TRAIL|WAY|WINERY)(\\\\s+|$)?\""
      ]
     },
     "metadata": {},
     "output_type": "display_data"
    },
    {
     "data": {
      "text/html": [
       "<table class=\"dataframe\">\n",
       "<caption>A tibble: 16 × 2</caption>\n",
       "<thead>\n",
       "\t<tr><th scope=col>street</th><th scope=col>total</th></tr>\n",
       "\t<tr><th scope=col>&lt;chr&gt;</th><th scope=col>&lt;int&gt;</th></tr>\n",
       "</thead>\n",
       "<tbody>\n",
       "\t<tr><td>DR       </td><td>888</td></tr>\n",
       "\t<tr><td>RD       </td><td>688</td></tr>\n",
       "\t<tr><td>ST       </td><td>676</td></tr>\n",
       "\t<tr><td>AVE      </td><td>259</td></tr>\n",
       "\t<tr><td>CT       </td><td>229</td></tr>\n",
       "\t<tr><td>ROAD     </td><td>188</td></tr>\n",
       "\t<tr><td>LN       </td><td>152</td></tr>\n",
       "\t<tr><td>PL       </td><td>145</td></tr>\n",
       "\t<tr><td>LANE     </td><td>141</td></tr>\n",
       "\t<tr><td>CIR      </td><td>120</td></tr>\n",
       "\t<tr><td>WAY      </td><td>113</td></tr>\n",
       "\t<tr><td>COURT    </td><td> 90</td></tr>\n",
       "\t<tr><td>BLVD     </td><td> 50</td></tr>\n",
       "\t<tr><td>TRAIL    </td><td> 26</td></tr>\n",
       "\t<tr><td>BOULEVARD</td><td>  4</td></tr>\n",
       "\t<tr><td>WINERY   </td><td>  1</td></tr>\n",
       "</tbody>\n",
       "</table>\n"
      ],
      "text/latex": [
       "A tibble: 16 × 2\n",
       "\\begin{tabular}{ll}\n",
       " street & total\\\\\n",
       " <chr> & <int>\\\\\n",
       "\\hline\n",
       "\t DR        & 888\\\\\n",
       "\t RD        & 688\\\\\n",
       "\t ST        & 676\\\\\n",
       "\t AVE       & 259\\\\\n",
       "\t CT        & 229\\\\\n",
       "\t ROAD      & 188\\\\\n",
       "\t LN        & 152\\\\\n",
       "\t PL        & 145\\\\\n",
       "\t LANE      & 141\\\\\n",
       "\t CIR       & 120\\\\\n",
       "\t WAY       & 113\\\\\n",
       "\t COURT     &  90\\\\\n",
       "\t BLVD      &  50\\\\\n",
       "\t TRAIL     &  26\\\\\n",
       "\t BOULEVARD &   4\\\\\n",
       "\t WINERY    &   1\\\\\n",
       "\\end{tabular}\n"
      ],
      "text/markdown": [
       "\n",
       "A tibble: 16 × 2\n",
       "\n",
       "| street &lt;chr&gt; | total &lt;int&gt; |\n",
       "|---|---|\n",
       "| DR        | 888 |\n",
       "| RD        | 688 |\n",
       "| ST        | 676 |\n",
       "| AVE       | 259 |\n",
       "| CT        | 229 |\n",
       "| ROAD      | 188 |\n",
       "| LN        | 152 |\n",
       "| PL        | 145 |\n",
       "| LANE      | 141 |\n",
       "| CIR       | 120 |\n",
       "| WAY       | 113 |\n",
       "| COURT     |  90 |\n",
       "| BLVD      |  50 |\n",
       "| TRAIL     |  26 |\n",
       "| BOULEVARD |   4 |\n",
       "| WINERY    |   1 |\n",
       "\n"
      ],
      "text/plain": [
       "   street    total\n",
       "1  DR        888  \n",
       "2  RD        688  \n",
       "3  ST        676  \n",
       "4  AVE       259  \n",
       "5  CT        229  \n",
       "6  ROAD      188  \n",
       "7  LN        152  \n",
       "8  PL        145  \n",
       "9  LANE      141  \n",
       "10 CIR       120  \n",
       "11 WAY       113  \n",
       "12 COURT      90  \n",
       "13 BLVD       50  \n",
       "14 TRAIL      26  \n",
       "15 BOULEVARD   4  \n",
       "16 WINERY      1  "
      ]
     },
     "metadata": {},
     "output_type": "display_data"
    }
   ],
   "source": [
    "pattern <- '\\\\s+('\n",
    "pattern <- str_c(pattern, 'AVE|AVENUE')\n",
    "pattern <- str_c(pattern, '|BLVD|BOULEVARD')\n",
    "pattern <- str_c(pattern, '|CIR|CIRCLE')\n",
    "pattern <- str_c(pattern, '|CT|COURT')\n",
    "pattern <- str_c(pattern, '|DR|DRIVE')\n",
    "pattern <- str_c(pattern, '|LN|LANE')\n",
    "pattern <- str_c(pattern, '|PL|PLACE')\n",
    "pattern <- str_c(pattern, '|RD|ROAD')\n",
    "pattern <- str_c(pattern, '|ST|STREET')\n",
    "pattern <- str_c(pattern, '|TRAIL')\n",
    "pattern <- str_c(pattern, '|WAY')\n",
    "pattern <- str_c(pattern, '|WINERY')\n",
    "pattern <- str_c(pattern, ')(\\\\s+|$)?')\n",
    "pattern\n",
    "\n",
    "streets <-\n",
    "  Addresses %>%\n",
    "    filter(\n",
    "      grepl(x = address, pattern = pattern, ignore.case = TRUE)\n",
    "    ) %>%\n",
    "    tidyr::extract(\n",
    "      col   = address,\n",
    "      regex = pattern,\n",
    "      into  = c(\n",
    "        'street',\n",
    "        ' '\n",
    "      )\n",
    "    ) %>%\n",
    "    group_by(street) %>%\n",
    "    summarize(total = n()) %>%\n",
    "    arrange(desc(total))\n",
    "streets"
   ]
  },
  {
   "cell_type": "code",
   "execution_count": 99,
   "metadata": {
    "vscode": {
     "languageId": "r"
    }
   },
   "outputs": [
    {
     "data": {
      "image/png": "[encoded data removed]",
      "text/plain": [
       "plot without title"
      ]
     },
     "metadata": {
      "image/png": {
       "height": 420,
       "width": 420
      }
     },
     "output_type": "display_data"
    }
   ],
   "source": [
    "streets %>%\n",
    "  ggplot(aes(x = reorder(street, -total), y = total)) +\n",
    "    geom_col() +\n",
    "    xlab('streets')"
   ]
  },
  {
   "attachments": {},
   "cell_type": "markdown",
   "metadata": {},
   "source": [
    "---"
   ]
  }
 ],
 "metadata": {
  "kernelspec": {
   "display_name": "R",
   "language": "R",
   "name": "ir"
  },
  "language_info": {
   "codemirror_mode": "r",
   "file_extension": ".r",
   "mimetype": "text/x-r-source",
   "name": "R",
   "pygments_lexer": "r",
   "version": "4.3.0"
  },
  "orig_nbformat": 4
 },
 "nbformat": 4,
 "nbformat_minor": 2
}
