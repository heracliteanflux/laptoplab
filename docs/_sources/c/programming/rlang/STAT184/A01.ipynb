{
 "cells": [
  {
   "attachments": {},
   "cell_type": "markdown",
   "metadata": {},
   "source": [
    "# A01 - Tidy Data"
   ]
  },
  {
   "attachments": {},
   "cell_type": "markdown",
   "metadata": {},
   "source": [
    "---"
   ]
  },
  {
   "attachments": {},
   "cell_type": "markdown",
   "metadata": {},
   "source": [
    "```{admonition} Revised\n",
    "21 May 2023\n",
    "```\n",
    "```{contents}\n",
    "```"
   ]
  },
  {
   "attachments": {},
   "cell_type": "markdown",
   "metadata": {},
   "source": [
    "---"
   ]
  },
  {
   "attachments": {},
   "cell_type": "markdown",
   "metadata": {},
   "source": [
    "## Programming Environment"
   ]
  },
  {
   "cell_type": "code",
   "execution_count": 1,
   "metadata": {
    "vscode": {
     "languageId": "r"
    }
   },
   "outputs": [
    {
     "data": {
      "text/html": [
       "'R version 4.3.0 (2023-04-21)'"
      ],
      "text/latex": [
       "'R version 4.3.0 (2023-04-21)'"
      ],
      "text/markdown": [
       "'R version 4.3.0 (2023-04-21)'"
      ],
      "text/plain": [
       "[1] \"R version 4.3.0 (2023-04-21)\""
      ]
     },
     "metadata": {},
     "output_type": "display_data"
    },
    {
     "data": {
      "text/html": [
       "'/Library/Frameworks/R.framework/Versions/4.3-arm64/Resources/library'"
      ],
      "text/latex": [
       "'/Library/Frameworks/R.framework/Versions/4.3-arm64/Resources/library'"
      ],
      "text/markdown": [
       "'/Library/Frameworks/R.framework/Versions/4.3-arm64/Resources/library'"
      ],
      "text/plain": [
       "[1] \"/Library/Frameworks/R.framework/Versions/4.3-arm64/Resources/library\""
      ]
     },
     "metadata": {},
     "output_type": "display_data"
    },
    {
     "name": "stderr",
     "output_type": "stream",
     "text": [
      "── \u001b[1mAttaching core tidyverse packages\u001b[22m ──────────────────────── tidyverse 2.0.0 ──\n",
      "\u001b[32m✔\u001b[39m \u001b[34mdplyr    \u001b[39m 1.1.2     \u001b[32m✔\u001b[39m \u001b[34mreadr    \u001b[39m 2.1.4\n",
      "\u001b[32m✔\u001b[39m \u001b[34mforcats  \u001b[39m 1.0.0     \u001b[32m✔\u001b[39m \u001b[34mstringr  \u001b[39m 1.5.0\n",
      "\u001b[32m✔\u001b[39m \u001b[34mggplot2  \u001b[39m 3.4.2     \u001b[32m✔\u001b[39m \u001b[34mtibble   \u001b[39m 3.2.1\n",
      "\u001b[32m✔\u001b[39m \u001b[34mlubridate\u001b[39m 1.9.2     \u001b[32m✔\u001b[39m \u001b[34mtidyr    \u001b[39m 1.3.0\n",
      "\u001b[32m✔\u001b[39m \u001b[34mpurrr    \u001b[39m 1.0.1     \n",
      "── \u001b[1mConflicts\u001b[22m ────────────────────────────────────────── tidyverse_conflicts() ──\n",
      "\u001b[31m✖\u001b[39m \u001b[34mdplyr\u001b[39m::\u001b[32mfilter()\u001b[39m masks \u001b[34mstats\u001b[39m::filter()\n",
      "\u001b[31m✖\u001b[39m \u001b[34mdplyr\u001b[39m::\u001b[32mlag()\u001b[39m    masks \u001b[34mstats\u001b[39m::lag()\n",
      "\u001b[36mℹ\u001b[39m Use the conflicted package (\u001b[3m\u001b[34m<http://conflicted.r-lib.org/>\u001b[39m\u001b[23m) to force all conflicts to become errors\n"
     ]
    }
   ],
   "source": [
    "R.version.string # R.Version()\n",
    ".libPaths()\n",
    "\n",
    "packages <- c(\n",
    "  'tidyverse'\n",
    ")\n",
    "\n",
    "# Install packages not yet installed\n",
    "installed_packages <- packages %in% rownames(installed.packages())\n",
    "if (any(installed_packages == FALSE)) {\n",
    "  install.packages(packages[!installed_packages])\n",
    "}\n",
    "\n",
    "# Load packages\n",
    "invisible(lapply(packages, library, character.only = TRUE))"
   ]
  },
  {
   "attachments": {},
   "cell_type": "markdown",
   "metadata": {},
   "source": [
    "---"
   ]
  },
  {
   "cell_type": "code",
   "execution_count": 30,
   "metadata": {
    "vscode": {
     "languageId": "r"
    }
   },
   "outputs": [
    {
     "data": {
      "text/html": [
       "<table class=\"dataframe\">\n",
       "<caption>A tibble: 21 × 4</caption>\n",
       "<thead>\n",
       "\t<tr><th scope=col>Child</th><th scope=col>Gender</th><th scope=col>Father</th><th scope=col>Mother</th></tr>\n",
       "\t<tr><th scope=col>&lt;dbl&gt;</th><th scope=col>&lt;chr&gt;</th><th scope=col>&lt;dbl&gt;</th><th scope=col>&lt;dbl&gt;</th></tr>\n",
       "</thead>\n",
       "<tbody>\n",
       "\t<tr><td>13.2</td><td>M</td><td>18.5</td><td> 7.0</td></tr>\n",
       "\t<tr><td> 9.2</td><td>F</td><td>18.5</td><td> 7.0</td></tr>\n",
       "\t<tr><td> 9.0</td><td>F</td><td>18.5</td><td> 7.0</td></tr>\n",
       "\t<tr><td> 9.0</td><td>F</td><td>18.5</td><td> 7.0</td></tr>\n",
       "\t<tr><td>13.5</td><td>M</td><td>15.5</td><td> 6.5</td></tr>\n",
       "\t<tr><td>12.5</td><td>M</td><td>15.5</td><td> 6.5</td></tr>\n",
       "\t<tr><td> 5.5</td><td>F</td><td>15.5</td><td> 6.5</td></tr>\n",
       "\t<tr><td> 5.5</td><td>F</td><td>15.5</td><td> 6.5</td></tr>\n",
       "\t<tr><td>11.0</td><td>M</td><td>15.0</td><td> 4.0</td></tr>\n",
       "\t<tr><td> 8.0</td><td>F</td><td>15.0</td><td> 4.0</td></tr>\n",
       "\t<tr><td>10.5</td><td>M</td><td>15.0</td><td> 4.0</td></tr>\n",
       "\t<tr><td> 8.5</td><td>M</td><td>15.0</td><td> 4.0</td></tr>\n",
       "\t<tr><td> 7.0</td><td>F</td><td>15.0</td><td> 4.0</td></tr>\n",
       "\t<tr><td> 4.5</td><td>F</td><td>15.0</td><td> 4.0</td></tr>\n",
       "\t<tr><td> 3.0</td><td>F</td><td>15.0</td><td> 4.0</td></tr>\n",
       "\t<tr><td>12.0</td><td>M</td><td>15.0</td><td>-1.5</td></tr>\n",
       "\t<tr><td> 9.0</td><td>M</td><td>15.0</td><td>-1.5</td></tr>\n",
       "\t<tr><td> 8.0</td><td>M</td><td>15.0</td><td>-1.5</td></tr>\n",
       "\t<tr><td> 6.5</td><td>F</td><td>15.0</td><td>-1.5</td></tr>\n",
       "\t<tr><td> 2.5</td><td>F</td><td>15.0</td><td>-1.5</td></tr>\n",
       "\t<tr><td> 2.5</td><td>F</td><td>15.0</td><td>-1.5</td></tr>\n",
       "</tbody>\n",
       "</table>\n"
      ],
      "text/latex": [
       "A tibble: 21 × 4\n",
       "\\begin{tabular}{llll}\n",
       " Child & Gender & Father & Mother\\\\\n",
       " <dbl> & <chr> & <dbl> & <dbl>\\\\\n",
       "\\hline\n",
       "\t 13.2 & M & 18.5 &  7.0\\\\\n",
       "\t  9.2 & F & 18.5 &  7.0\\\\\n",
       "\t  9.0 & F & 18.5 &  7.0\\\\\n",
       "\t  9.0 & F & 18.5 &  7.0\\\\\n",
       "\t 13.5 & M & 15.5 &  6.5\\\\\n",
       "\t 12.5 & M & 15.5 &  6.5\\\\\n",
       "\t  5.5 & F & 15.5 &  6.5\\\\\n",
       "\t  5.5 & F & 15.5 &  6.5\\\\\n",
       "\t 11.0 & M & 15.0 &  4.0\\\\\n",
       "\t  8.0 & F & 15.0 &  4.0\\\\\n",
       "\t 10.5 & M & 15.0 &  4.0\\\\\n",
       "\t  8.5 & M & 15.0 &  4.0\\\\\n",
       "\t  7.0 & F & 15.0 &  4.0\\\\\n",
       "\t  4.5 & F & 15.0 &  4.0\\\\\n",
       "\t  3.0 & F & 15.0 &  4.0\\\\\n",
       "\t 12.0 & M & 15.0 & -1.5\\\\\n",
       "\t  9.0 & M & 15.0 & -1.5\\\\\n",
       "\t  8.0 & M & 15.0 & -1.5\\\\\n",
       "\t  6.5 & F & 15.0 & -1.5\\\\\n",
       "\t  2.5 & F & 15.0 & -1.5\\\\\n",
       "\t  2.5 & F & 15.0 & -1.5\\\\\n",
       "\\end{tabular}\n"
      ],
      "text/markdown": [
       "\n",
       "A tibble: 21 × 4\n",
       "\n",
       "| Child &lt;dbl&gt; | Gender &lt;chr&gt; | Father &lt;dbl&gt; | Mother &lt;dbl&gt; |\n",
       "|---|---|---|---|\n",
       "| 13.2 | M | 18.5 |  7.0 |\n",
       "|  9.2 | F | 18.5 |  7.0 |\n",
       "|  9.0 | F | 18.5 |  7.0 |\n",
       "|  9.0 | F | 18.5 |  7.0 |\n",
       "| 13.5 | M | 15.5 |  6.5 |\n",
       "| 12.5 | M | 15.5 |  6.5 |\n",
       "|  5.5 | F | 15.5 |  6.5 |\n",
       "|  5.5 | F | 15.5 |  6.5 |\n",
       "| 11.0 | M | 15.0 |  4.0 |\n",
       "|  8.0 | F | 15.0 |  4.0 |\n",
       "| 10.5 | M | 15.0 |  4.0 |\n",
       "|  8.5 | M | 15.0 |  4.0 |\n",
       "|  7.0 | F | 15.0 |  4.0 |\n",
       "|  4.5 | F | 15.0 |  4.0 |\n",
       "|  3.0 | F | 15.0 |  4.0 |\n",
       "| 12.0 | M | 15.0 | -1.5 |\n",
       "|  9.0 | M | 15.0 | -1.5 |\n",
       "|  8.0 | M | 15.0 | -1.5 |\n",
       "|  6.5 | F | 15.0 | -1.5 |\n",
       "|  2.5 | F | 15.0 | -1.5 |\n",
       "|  2.5 | F | 15.0 | -1.5 |\n",
       "\n"
      ],
      "text/plain": [
       "   Child Gender Father Mother\n",
       "1  13.2  M      18.5    7.0  \n",
       "2   9.2  F      18.5    7.0  \n",
       "3   9.0  F      18.5    7.0  \n",
       "4   9.0  F      18.5    7.0  \n",
       "5  13.5  M      15.5    6.5  \n",
       "6  12.5  M      15.5    6.5  \n",
       "7   5.5  F      15.5    6.5  \n",
       "8   5.5  F      15.5    6.5  \n",
       "9  11.0  M      15.0    4.0  \n",
       "10  8.0  F      15.0    4.0  \n",
       "11 10.5  M      15.0    4.0  \n",
       "12  8.5  M      15.0    4.0  \n",
       "13  7.0  F      15.0    4.0  \n",
       "14  4.5  F      15.0    4.0  \n",
       "15  3.0  F      15.0    4.0  \n",
       "16 12.0  M      15.0   -1.5  \n",
       "17  9.0  M      15.0   -1.5  \n",
       "18  8.0  M      15.0   -1.5  \n",
       "19  6.5  F      15.0   -1.5  \n",
       "20  2.5  F      15.0   -1.5  \n",
       "21  2.5  F      15.0   -1.5  "
      ]
     },
     "metadata": {},
     "output_type": "display_data"
    }
   ],
   "source": [
    "galton <- tibble(\n",
    "  Child =c(13.2, 9.2, 9.0, 9.0,13.5,12.5, 5.5, 5.5,11.0, 8.0,10.5, 8.5, 7.0, 4.5, 3.0,12.0, 9.0, 8.0, 6.5, 2.5, 2.5),\n",
    "  Gender=c( 'M', 'F', 'F', 'F', 'M', 'M', 'F', 'F', 'M', 'F', 'M', 'M', 'F', 'F', 'F', 'M', 'M', 'M', 'F', 'F', 'F'),\n",
    "  Father=c(18.5,18.5,18.5,18.5,15.5,15.5,15.5,15.5,15.0,15.0,15.0,15.0,15.0,15.0,15.0,15.0,15.0,15.0,15.0,15.0,15.0),\n",
    "  Mother=c( 7.0, 7.0, 7.0, 7.0, 6.5, 6.5, 6.5, 6.5, 4.0, 4.0, 4.0, 4.0, 4.0, 4.0, 4.0,-1.5,-1.5,-1.5,-1.5,-1.5,-1.5),\n",
    ")\n",
    "galton\n",
    "write_csv(galton, 'tidy_galton.csv')"
   ]
  },
  {
   "cell_type": "code",
   "execution_count": 36,
   "metadata": {
    "vscode": {
     "languageId": "r"
    }
   },
   "outputs": [
    {
     "data": {
      "text/html": [
       "<table class=\"dataframe\">\n",
       "<caption>A tibble: 8 × 5</caption>\n",
       "<thead>\n",
       "\t<tr><th scope=col>Name</th><th scope=col>VP</th><th scope=col>Party</th><th scope=col>Start_Date</th><th scope=col>End_Date</th></tr>\n",
       "\t<tr><th scope=col>&lt;chr&gt;</th><th scope=col>&lt;chr&gt;</th><th scope=col>&lt;chr&gt;</th><th scope=col>&lt;chr&gt;</th><th scope=col>&lt;chr&gt;</th></tr>\n",
       "</thead>\n",
       "<tbody>\n",
       "\t<tr><td>Adams, John            </td><td>Jefferson, Thomas      </td><td>Federalist           </td><td>03-04-1797</td><td>03-04-1801</td></tr>\n",
       "\t<tr><td>Madison, James         </td><td>Clinton, George        </td><td>Democratic-Republican</td><td>03-04-1809</td><td>04-20-1812</td></tr>\n",
       "\t<tr><td>Madison, James         </td><td>Vacancy 1              </td><td>Democratic-Republican</td><td>04-21-1812</td><td>03-03-1813</td></tr>\n",
       "\t<tr><td>Madison, James         </td><td>Gerry, Elbridge        </td><td>Democratic-Republican</td><td>03-04-1813</td><td>11-23-1814</td></tr>\n",
       "\t<tr><td>Madison, James         </td><td>Vacancy 2              </td><td>Democratic-Republican</td><td>11-24-1814</td><td>03-04-1817</td></tr>\n",
       "\t<tr><td>Van Buren, Martin      </td><td>Johnson, Richard Mentor</td><td>Democrat             </td><td>03-04-1837</td><td>03-04-1841</td></tr>\n",
       "\t<tr><td>Harrison, William Henry</td><td>Tyler, John            </td><td>Whig                 </td><td>03-04-1841</td><td>04-04-1841</td></tr>\n",
       "\t<tr><td>Tyler, John            </td><td>Vacancy 3              </td><td>Whig                 </td><td>04-04-1841</td><td>03-04-1845</td></tr>\n",
       "</tbody>\n",
       "</table>\n"
      ],
      "text/latex": [
       "A tibble: 8 × 5\n",
       "\\begin{tabular}{lllll}\n",
       " Name & VP & Party & Start\\_Date & End\\_Date\\\\\n",
       " <chr> & <chr> & <chr> & <chr> & <chr>\\\\\n",
       "\\hline\n",
       "\t Adams, John             & Jefferson, Thomas       & Federalist            & 03-04-1797 & 03-04-1801\\\\\n",
       "\t Madison, James          & Clinton, George         & Democratic-Republican & 03-04-1809 & 04-20-1812\\\\\n",
       "\t Madison, James          & Vacancy 1               & Democratic-Republican & 04-21-1812 & 03-03-1813\\\\\n",
       "\t Madison, James          & Gerry, Elbridge         & Democratic-Republican & 03-04-1813 & 11-23-1814\\\\\n",
       "\t Madison, James          & Vacancy 2               & Democratic-Republican & 11-24-1814 & 03-04-1817\\\\\n",
       "\t Van Buren, Martin       & Johnson, Richard Mentor & Democrat              & 03-04-1837 & 03-04-1841\\\\\n",
       "\t Harrison, William Henry & Tyler, John             & Whig                  & 03-04-1841 & 04-04-1841\\\\\n",
       "\t Tyler, John             & Vacancy 3               & Whig                  & 04-04-1841 & 03-04-1845\\\\\n",
       "\\end{tabular}\n"
      ],
      "text/markdown": [
       "\n",
       "A tibble: 8 × 5\n",
       "\n",
       "| Name &lt;chr&gt; | VP &lt;chr&gt; | Party &lt;chr&gt; | Start_Date &lt;chr&gt; | End_Date &lt;chr&gt; |\n",
       "|---|---|---|---|---|\n",
       "| Adams, John             | Jefferson, Thomas       | Federalist            | 03-04-1797 | 03-04-1801 |\n",
       "| Madison, James          | Clinton, George         | Democratic-Republican | 03-04-1809 | 04-20-1812 |\n",
       "| Madison, James          | Vacancy 1               | Democratic-Republican | 04-21-1812 | 03-03-1813 |\n",
       "| Madison, James          | Gerry, Elbridge         | Democratic-Republican | 03-04-1813 | 11-23-1814 |\n",
       "| Madison, James          | Vacancy 2               | Democratic-Republican | 11-24-1814 | 03-04-1817 |\n",
       "| Van Buren, Martin       | Johnson, Richard Mentor | Democrat              | 03-04-1837 | 03-04-1841 |\n",
       "| Harrison, William Henry | Tyler, John             | Whig                  | 03-04-1841 | 04-04-1841 |\n",
       "| Tyler, John             | Vacancy 3               | Whig                  | 04-04-1841 | 03-04-1845 |\n",
       "\n"
      ],
      "text/plain": [
       "  Name                    VP                      Party                \n",
       "1 Adams, John             Jefferson, Thomas       Federalist           \n",
       "2 Madison, James          Clinton, George         Democratic-Republican\n",
       "3 Madison, James          Vacancy 1               Democratic-Republican\n",
       "4 Madison, James          Gerry, Elbridge         Democratic-Republican\n",
       "5 Madison, James          Vacancy 2               Democratic-Republican\n",
       "6 Van Buren, Martin       Johnson, Richard Mentor Democrat             \n",
       "7 Harrison, William Henry Tyler, John             Whig                 \n",
       "8 Tyler, John             Vacancy 3               Whig                 \n",
       "  Start_Date End_Date  \n",
       "1 03-04-1797 03-04-1801\n",
       "2 03-04-1809 04-20-1812\n",
       "3 04-21-1812 03-03-1813\n",
       "4 03-04-1813 11-23-1814\n",
       "5 11-24-1814 03-04-1817\n",
       "6 03-04-1837 03-04-1841\n",
       "7 03-04-1841 04-04-1841\n",
       "8 04-04-1841 03-04-1845"
      ]
     },
     "metadata": {},
     "output_type": "display_data"
    }
   ],
   "source": [
    "presidents <- tibble(\n",
    "  Name      =c(      'Adams, John',       'Madison, James',       'Madison, James',       'Madison, James',       'Madison, James',      'Van Buren, Martin','Harrison, William Henry','Tyler, John'),\n",
    "  VP        =c('Jefferson, Thomas',      'Clinton, George',             'Vacancy 1',      'Gerry, Elbridge',           'Vacancy 2','Johnson, Richard Mentor',            'Tyler, John',  'Vacancy 3'),\n",
    "  Party     =c(       'Federalist','Democratic-Republican','Democratic-Republican','Democratic-Republican','Democratic-Republican',               'Democrat',                   'Whig',       'Whig'),\n",
    "  Start_Date=c(       '03-04-1797',           '03-04-1809',           '04-21-1812',           '03-04-1813',           '11-24-1814',             '03-04-1837',             '03-04-1841', '04-04-1841'),\n",
    "  End_Date  =c(       '03-04-1801',           '04-20-1812',           '03-03-1813',           '11-23-1814',           '03-04-1817',             '03-04-1841',             '04-04-1841', '03-04-1845'),\n",
    ")\n",
    "presidents\n",
    "write_csv(presidents, 'tidy_presidents.csv')"
   ]
  },
  {
   "attachments": {},
   "cell_type": "markdown",
   "metadata": {},
   "source": [
    "---"
   ]
  }
 ],
 "metadata": {
  "kernelspec": {
   "display_name": "R",
   "language": "R",
   "name": "ir"
  },
  "language_info": {
   "codemirror_mode": "r",
   "file_extension": ".r",
   "mimetype": "text/x-r-source",
   "name": "R",
   "pygments_lexer": "r",
   "version": "4.3.0"
  },
  "orig_nbformat": 4
 },
 "nbformat": 4,
 "nbformat_minor": 2
}
