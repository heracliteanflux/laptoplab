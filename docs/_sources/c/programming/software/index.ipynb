{
 "cells": [
  {
   "cell_type": "markdown",
   "metadata": {},
   "source": [
    "# Software Development"
   ]
  },
  {
   "cell_type": "markdown",
   "metadata": {},
   "source": [
    "---"
   ]
  },
  {
   "cell_type": "markdown",
   "metadata": {},
   "source": [
    "## Table of Contents\n",
    "```{contents}\n",
    "```"
   ]
  },
  {
   "cell_type": "markdown",
   "metadata": {},
   "source": [
    "---"
   ]
  },
  {
   "cell_type": "markdown",
   "metadata": {},
   "source": [
    "## Resources"
   ]
  },
  {
   "cell_type": "markdown",
   "metadata": {},
   "source": [
    "Open Source\n",
    "* [ [h](https://resources.github.com/innersource/fundamentals/) ] GitHub's Inner Source\n",
    "* [ [h](https://opensource.guide/) ][ [g](https://github.com/github/opensource.guide) ] GitHub's Open Source Guides\n",
    "* [ [h](https://choosealicense.com/) ] Choose an open source license"
   ]
  },
  {
   "cell_type": "markdown",
   "metadata": {},
   "source": [
    "---"
   ]
  },
  {
   "cell_type": "markdown",
   "metadata": {},
   "source": [
    "## Texts"
   ]
  },
  {
   "cell_type": "markdown",
   "metadata": {},
   "source": [
    "* Ford et al. (2022). _Building Evolutionary Architecures: Automated Software Governance_. O'Reilly.\n",
    "* Hewitt, Eben. (2019). _Semantic Software Design: A New Theory and Practical Guide for Modern Architects_. O'Reilly.\n",
    "* Hyde, Randall. (2020). _Write Great Code, Volume 3: Engineering Software_. [No Starch Press](https://nostarch.com/greatcode3).\n",
    "* Richards, Mark & Neal Ford. (2020). _Fundamentals of Software Architecture: An Engineering Approach_. O'Reilly.\n",
    "* Rosenthal, Casey & Nora Jones. (2020). _Chaos Engineering: System Resiliency in Practice_. O'Reilly.\n",
    "* Sommerville, Ian. (2015). _Software Engineering, 10th Ed_. Pearson.\n",
    "* Spraul, V. Anton. (2015). _How Software Works: The Magic Behind Encryption, CGI, Search Engines, and Other Everyday Technologies_. [No Starch Press](https://nostarch.com/howsoftwareworks).\n",
    "* Urquhart, James. (2021). _Flow Architectures: The Future of Streaming and Event-Driven Integration_. O'Reilly.\n",
    "* Winters, Titus, Tom Manshreck, & Hyrum Wright. (2020). _Software Engineering at Google: Lessons Learned from Programming Over Time_. O'Reilly."
   ]
  },
  {
   "cell_type": "markdown",
   "metadata": {},
   "source": [
    "---"
   ]
  },
  {
   "cell_type": "markdown",
   "metadata": {},
   "source": [
    "## Terms"
   ]
  },
  {
   "cell_type": "markdown",
   "metadata": {},
   "source": [
    "* [ [w](https://en.wikipedia.org/wiki/Activity_diagram) ] Activity Diagram\n",
    "* [ [w](https://en.wikipedia.org/wiki/Agile_software_development) ] Agile Software Development\n",
    "* [ w ] Closed Source\n",
    "* [ [w](https://en.wikipedia.org/wiki/Dataflow) ] Data Flow\n",
    "* [ [w](https://en.wikipedia.org/wiki/Data_modeling) ] Data Modeling\n",
    "* [ [w](https://en.wikipedia.org/wiki/Data-flow_diagram) ] Data-Flow Diagram\n",
    "* [ w ] Design Pattern\n",
    "* [ [w](https://en.wikipedia.org/wiki/Distributed_data_flow) ] Distributed Data Flow\n",
    "* [ [w](https://en.wikipedia.org/wiki/Extreme_programming) ] Extreme Programming\n",
    "* [ [w](https://en.wikipedia.org/wiki/Flowchart) ] Flow Chart\n",
    "* [ [w](https://en.wikipedia.org/wiki/Function_model) ] Function Model\n",
    "* [ w ] Inner Source\n",
    "* [ [w](https://en.wikipedia.org/wiki/Iterative_and_incremental_development) ] Iterative and Incremental Development\n",
    "* [ w ] Open Source\n",
    "* [ [w](https://en.wikipedia.org/wiki/Organizational_theory) ] Organizational Theory\n",
    "* [ [w](https://en.wikipedia.org/wiki/Perpetual_beta) ] Perpetual Beta\n",
    "* [ [w](https://en.wikipedia.org/wiki/Process_modeling) ] Process Model\n",
    "* [ [w](https://en.wikipedia.org/wiki/Rapid_application_development) ] Rapid Application Development (RAD)\n",
    "* [ [w](https://en.wikipedia.org/wiki/Software) ] Software\n",
    "* [ [w](https://en.wikipedia.org/wiki/Software_architecture) ] Software Architecture\n",
    "* [ [w](https://en.wikipedia.org/wiki/Software_configuration_management) ] Software Configuration Management (SCM)\n",
    "* [ [w](https://en.wikipedia.org/wiki/Software_design) ] Software Design\n",
    "* [ [w](https://en.wikipedia.org/wiki/Software_development) ] Software Development\n",
    "* [ w ] Software Development Life Cycle (SDLC)\n",
    "* [ [w](https://en.wikipedia.org/wiki/Software_development_process) ] Software Development Process\n",
    "* [ [w](https://en.wikipedia.org/wiki/Software_engineering) ] Software Engineering\n",
    "* [ [w](https://en.wikipedia.org/wiki/History_of_software_engineering) ] Software Engineering History\n",
    "* [ [w](https://en.wikipedia.org/wiki/Software_versioning) ] Software Versioning\n",
    "* [ [w](https://en.wikipedia.org/wiki/Spiral_model) ] Spiral Model\n",
    "* [ [w](https://en.wikipedia.org/wiki/Structure_chart) ] Structure Chart\n",
    "* [ [w](https://en.wikipedia.org/wiki/Structured_analysis) ] Structured Analysis\n",
    "* [ [w](https://en.wikipedia.org/wiki/Structured_analysis_and_design_technique) ] Structured Analysis and Design Technique (SADT)\n",
    "* [ [w](https://en.wikipedia.org/wiki/List_of_toolkits) ] Toolkits\n",
    "* [ [w](https://en.wikipedia.org/wiki/Unified_Modeling_Language) ] Unified Modeling Language (UML)\n",
    "* [ [w](https://en.wikipedia.org/wiki/Waterfall_model) ] Waterfall Model"
   ]
  },
  {
   "cell_type": "markdown",
   "metadata": {},
   "source": [
    "---"
   ]
  }
 ],
 "metadata": {
  "language_info": {
   "name": "python"
  }
 },
 "nbformat": 4,
 "nbformat_minor": 2
}
