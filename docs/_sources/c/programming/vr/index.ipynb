{
 "cells": [
  {
   "cell_type": "markdown",
   "metadata": {},
   "source": [
    "# Virtual Reality"
   ]
  },
  {
   "cell_type": "markdown",
   "metadata": {},
   "source": [
    "---"
   ]
  },
  {
   "cell_type": "markdown",
   "metadata": {},
   "source": [
    "## Table of Contents\n",
    "```{contents}\n",
    "```"
   ]
  },
  {
   "cell_type": "markdown",
   "metadata": {},
   "source": [
    "---"
   ]
  },
  {
   "cell_type": "markdown",
   "metadata": {},
   "source": [
    "## Resources"
   ]
  },
  {
   "cell_type": "markdown",
   "metadata": {},
   "source": [
    "* [ [h](https://www.blender.org) ][ w ] Blender\n",
    "* [ h ][ [w](https://en.wikipedia.org/wiki/Oculus_(brand)) ] Oculus\n",
    "* [ [h](https://unity.com) ][ w ] Unity\n",
    "* [ h ][ w ] Unreal"
   ]
  },
  {
   "cell_type": "markdown",
   "metadata": {},
   "source": [
    "freeCodeCamp\n",
    "* [ [y](https://www.youtube.com/watch?v=WzfDo2Wpxks) ] `2022`. \"Augmented Reality for Everyone - Full Course\".\n",
    "* [ [y](https://www.youtube.com/watch?v=gB1F9G0JXOo) ] `2021`. \"Learn Unity - Beginner's Game Development Tutorial\"."
   ]
  },
  {
   "cell_type": "markdown",
   "metadata": {},
   "source": [
    "---"
   ]
  },
  {
   "cell_type": "markdown",
   "metadata": {},
   "source": [
    "## Texts"
   ]
  },
  {
   "cell_type": "markdown",
   "metadata": {},
   "source": [
    "* Bourg, David M. & Bryan Bywalec. (2013). _Physics for Game Developers: Science, Math, and Code for Realistic Effects_. 2nd Ed. O'Reilly.\n",
    "* Pangilinan, Erin; Steve Lukas; & Vasanth Mohan. (2019). _Creating Augmented & Virtual Realities: Theory & Practice for Next-Generation Spatial Computing_. O'Reilly.\n",
    "* Scopatz, Anthony & Kathryn D. Huff. (2015). _Effective Computation in Physics: Field Guide to Research with Python_. O'Reilly."
   ]
  },
  {
   "cell_type": "markdown",
   "metadata": {},
   "source": [
    "---"
   ]
  },
  {
   "cell_type": "markdown",
   "metadata": {},
   "source": [
    "## Terms"
   ]
  },
  {
   "cell_type": "markdown",
   "metadata": {},
   "source": [
    "* [ [w](https://en.wikipedia.org/wiki/Ambient_intelligence) ] Ambient Computing\n",
    "* [ [w](https://en.wikipedia.org/wiki/Augmented_reality) ] AR Augmented Reality\n",
    "* [ [w](https://en.wikipedia.org/wiki/X_Reality) ] Cross Reality\n",
    "* [ [w](https://en.wikipedia.org/wiki/Extended_reality) ] XR Extended Reality\n",
    "* [ [w](https://en.wikipedia.org/wiki/Haptic_technology) ] Haptics\n",
    "* [ [w](https://en.wikipedia.org/wiki/Human-centered_computing) ] HCC Human-Centered Computing\n",
    "* [ [w](https://en.wikipedia.org/wiki/Human–computer_interaction) ] HCI Human Computer Interaction\n",
    "* [ w ] MAR Mixed and Augmented Reality\n",
    "* [ [w](https://en.wikipedia.org/wiki/Mixed_reality) ] MR Mixed Reality\n",
    "* [ [w](https://en.wikipedia.org/wiki/Reality–virtuality_continuum) ] Reality-Virtuality Continuum\n",
    "* [ [w](https://en.wikipedia.org/wiki/Spatial_computing) ] Spatial Computing\n",
    "* [ [w](https://en.wikipedia.org/wiki/Transreality_game) ] Transreality Game\n",
    "* [ [w](https://en.wikipedia.org/wiki/Ubiquitous_computing) ] Ubiquitous Computing\n",
    "* [ [w](https://en.wikipedia.org/wiki/Virtual_reality) ] VR Virtual Reality\n",
    "* [ [w](https://en.wikipedia.org/wiki/Virtual_reality_headset) ] VR Headset\n",
    "* [ [w](https://en.wikipedia.org/wiki/Virtual_world) ] Virtual World\n",
    "* [ [w](https://en.wikipedia.org/wiki/Virtuality_(philosophy)) ] Virtuality\n",
    "* [ [w](https://en.wikipedia.org/wiki/Wearable_computer) ] Wearable Computing"
   ]
  },
  {
   "cell_type": "markdown",
   "metadata": {},
   "source": [
    "---"
   ]
  }
 ],
 "metadata": {
  "language_info": {
   "name": "python"
  }
 },
 "nbformat": 4,
 "nbformat_minor": 2
}
