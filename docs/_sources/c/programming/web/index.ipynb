{
 "cells": [
  {
   "cell_type": "markdown",
   "metadata": {},
   "source": [
    "# The Web & Web Programming"
   ]
  },
  {
   "cell_type": "markdown",
   "metadata": {},
   "source": [
    "---"
   ]
  },
  {
   "cell_type": "markdown",
   "metadata": {},
   "source": [
    "## Table of Contents\n",
    "```{contents}\n",
    "```"
   ]
  },
  {
   "cell_type": "markdown",
   "metadata": {},
   "source": [
    "---"
   ]
  },
  {
   "cell_type": "markdown",
   "metadata": {},
   "source": [
    "## Resources"
   ]
  },
  {
   "cell_type": "markdown",
   "metadata": {},
   "source": [
    "Typography\n",
    "* https://www.theleagueofmoveabletype.com/"
   ]
  },
  {
   "cell_type": "markdown",
   "metadata": {},
   "source": [
    "* [ [h](https://httpd.apache.org/) ][ d ][ w ] Apache Server\n",
    "* [ [h](https://asciidoc.org/) ][ d ][ [w](https://en.wikipedia.org/wiki/AsciiDoc) ] AsciiDoc\n",
    "* [ [h](https://getbootstrap.com/) ][ [d](https://getbootstrap.com/docs/5.2/getting-started/introduction/) ][ w ]Bootstrap\n",
    "* Browser Extensions\n",
    "  * [MDN](https://developer.mozilla.org/en-US/docs/Mozilla/Add-ons/WebExtensions)\n",
    "* [ [h](https://www.browserstack.com/) ][ d ][ w ] BrowserStack\n",
    "* [ [h](https://www.w3.org/Style/CSS/) ][ d ][ [w](https://en.wikipedia.org/wiki/CSS) ] Cascading Style Sheets (CSS)\n",
    "  * [MDN](https://developer.mozilla.org/en-US/docs/Web/CSS)\n",
    "  * [CSS-Tricks](https://css-tricks.com/)\n",
    "  * [ [y](https://www.youtube.com/watch?v=Aj7HLsJenVg) ] `03-04-2022`. freeCodeCamp. \"Frontend Development Course - Create a Blog with HTML & CSS\".\n",
    "  * [ [y](https://www.youtube.com/watch?v=tXIhdp5R7sc) ] `07-22-2021`. freeCodeCamp. \"CSS Flexbox Crash Course\".\n",
    "* [ [h](https://www.cloudflare.com/) ][ d ][ [w](https://en.wikipedia.org/wiki/Cloudflare) ] Cloudflare\n",
    "* [ h ][ d ][ [w](https://en.wikipedia.org/wiki/Common_Gateway_Interface) ] Common Gateway Interface (CGI)\n",
    "* [ [h](https://www.djangoproject.com/) ][ [d](https://docs.djangoproject.com/en/dev/topics/templates/) ][ [w](https://en.wikipedia.org/wiki/Django_(web_framework)) ] Django\n",
    "* [ [h](https://www.drupal.org/) ][ d ][ [w](https://en.wikipedia.org/wiki/Drupal) ] Drupal\n",
    "* [ h ][ d ][ w ] Express.js\n",
    "* [ [h](https://www.w3.org/XML/) ][ d ][ [w](https://en.wikipedia.org/wiki/XML) ] Extensible Markup Language (XML)\n",
    "* [ [h](https://gunicorn.org/) ][ d ][ w ] Gunicorn\n",
    "* [ h ][ d ][ [w](https://en.wikipedia.org/wiki/HTML) ] Hypertext Markup Language (HTML)\n",
    "  * [Spec](https://html.spec.whatwg.org/multipage/)\n",
    "  * [MDN](https://developer.mozilla.org/en-US/docs/Web/HTML)\n",
    "* [ [h](https://htmx.org/) ][ d ][ w ] HTMX\n",
    "  * [ [y](https://www.youtube.com/watch?v=0UvA7zvwsmg) ] `01-01-2024`. Traversy Media. \"HTMX Crash Course | Dynamic Pages Without Writing Any JavaScript\".\n",
    "* [ h ][ d ][ w ] Hypertext Transfer Protocol (HTTP)\n",
    "  * [MDN](https://developer.mozilla.org/en-US/docs/Web/HTTP)\n",
    "* [ [h](https://gohugo.io/) ][ d ][ [w](https://en.wikipedia.org/wiki/Hugo_(software)) ] Hugo\n",
    "* [ h ][ d ][ [w](https://en.wikipedia.org/wiki/Indexed_Database_API) ] IndexedDB\n",
    "  * [MDN](https://developer.mozilla.org/en-US/docs/Web/API/IndexedDB_API)\n",
    "* [ [h](https://jekyllrb.com/) ][ [d](https://jekyllrb.com/docs/) ][ [w](https://en.wikipedia.org/wiki/Jekyll_(software)) ] Jekyll\n",
    "* [ [h](https://palletsprojects.com/p/jinja/) ][ [d](https://jinja.palletsprojects.com/en/3.1.x/) ][ [w](https://en.wikipedia.org/wiki/Jinja_(template_engine)) ] Jinja\n",
    "* [ [h](https://www.javascript.com/) ][ d ][ [w](https://en.wikipedia.org/wiki/JavaScript) ] JavaScript (JS)\n",
    "  * [MDN](https://developer.mozilla.org/en-US/docs/Web/JavaScript)\n",
    "  * [ [y](https://www.youtube.com/watch?v=5iHejdqYIa8) ] `12-12-2023`. freeCodeCamp. \"Build a Virtual World Filled with Self-Driving Cars - JavaScript Tutorial\".\n",
    "  * [ [y](https://www.youtube.com/watch?v=uyhzCBEGaBY) ] `12-07-2023`. freeCodeCamp. \"Beginner JavaScript Project – Snake Game Tutorial\".\n",
    "  * [ [y](https://www.youtube.com/watch?v=ZYb_ZU8LNxs) ] `06-22-2021`. freeCodeCamp. \"Asynchronous JavaScript Course (Async/Await, Promises, Callbacks)\".\n",
    "* [ [h](https://lesscss.org/) ][ d ][ [w](https://en.wikipedia.org/wiki/Less_(stylesheet_language)) ] Less\n",
    "* [ [h](https://daringfireball.net/projects/markdown/) ][ d ][ [w](https://en.wikipedia.org/wiki/Markdown) ] Markdown\n",
    "  * [CommonMark Spec](https://spec.commonmark.org/)\n",
    "* Mathematical Markup Languages (MathML)\n",
    "  * [MDN](https://developer.mozilla.org/en-US/docs/Web/MathML)\n",
    "* [ [h](https://mustache.github.io/) ][ d ][ [w](https://en.wikipedia.org/wiki/Mustache_(template_system)) ] Mustache\n",
    "* [ h ][ d ][ [w](https://en.wikipedia.org/wiki/Next.js) ] Next.js\n",
    "* [ [h](https://www.nginx.com/) ][ d ][ [w](https://en.wikipedia.org/wiki/Nginx) ] NGINX\n",
    "  * [ [y](https://www.youtube.com/watch?v=7VAI73roXaY) ] `05-13-2022`. Laith Academy. \"The NGINX Crash Course\".\n",
    "* [ h ][ d ][ w ] Node.js\n",
    "* [ [h](https://owasp.org/) ][ d ][ [w](https://en.wikipedia.org/wiki/OWASP) ] Open Web Application Security Project (OWASP)\n",
    "* [ [h](https://prettier.io/) ][ d ][ w ] Prettier\n",
    "* [ h ][ d ][ w ] Progressive Web Apps (PWA)\n",
    "  * [MDN](https://developer.mozilla.org/en-US/docs/Web/Progressive_web_apps)\n",
    "* [ [h](https://reactjs.org/) ][ d ][ [w](https://en.wikipedia.org/wiki/React_(JavaScript_library)) ] React.js\n",
    "* [ [h](https://docutils.sourceforge.io/rst.html) ][ d ][ [w](https://en.wikipedia.org/wiki/ReStructuredText) ] reStructuredText (RST)\n",
    "* [ h ][ d ][ w ] Scalable Vector Graphics (SVG)\n",
    "  * [MDN](https://developer.mozilla.org/en-US/docs/Web/SVG)\n",
    "* [ [h](https://sass-lang.com/) ][ d ][ [w](https://en.wikipedia.org/wiki/Sass_(stylesheet_language)) ] Sass\n",
    "* [ [h](https://ui.shadcn.com/) ][ d ][ w ] shadcn/ui\n",
    "* [ [h](http://www.squid-cache.org/) ][ d ][ [w](https://en.wikipedia.org/wiki/Squid_(software)) ] Squid\n",
    "* [ [h](https://stylus-lang.com/) ][ d ][ [w](https://en.wikipedia.org/wiki/Stylus_(stylesheet_language)) ] Stylus\n",
    "* [ [h](https://tailwindcss.com) ][ d ][ w ] Tailwind\n",
    "* [ [h](https://textile-lang.com/) ][ d ][ [w](https://en.wikipedia.org/wiki/Textile_(markup_language)) ] Textile\n",
    "* [ [h](https://www.typescriptlang.org/) ][ d ][ [w](https://en.wikipedia.org/wiki/TypeScript) ] TypeScript (TS)\n",
    "* [ h ][ d ][ [w](https://en.wikipedia.org/wiki/World_Wide_Web_Consortium) ] World Wide Web Consortium (W3C)\n",
    "* [ [h](https://webassembly.org/) ][ d ][ [w](https://en.wikipedia.org/wiki/WebAssembly) ] WebAssembly (Wasm)\n",
    "  * [MDN](https://developer.mozilla.org/en-US/docs/WebAssembly)\n",
    "* [ h ][ d ][ w ] WebDriver\n",
    "  * [MDN](https://developer.mozilla.org/en-US/docs/Web/WebDriver)\n",
    "* [ [h](https://get.webgl.org/) ][ d ][ [w](https://en.wikipedia.org/wiki/WebGL) ] WebGL"
   ]
  },
  {
   "cell_type": "markdown",
   "metadata": {},
   "source": [
    "### YouTube"
   ]
  },
  {
   "cell_type": "markdown",
   "metadata": {},
   "source": [
    "Akamai Developer\n",
    "* [ [y](https://www.youtube.com/watch?v=H1qg2TnvaL8) ] `04-23-2024`. \"How to Securely Allow File Uploads | Best Practices & Strategies Leveraging CDN & Object Storage\"."
   ]
  },
  {
   "cell_type": "markdown",
   "metadata": {},
   "source": [
    "freeCodeCamp [ [front-end dev learning path](https://www.youtube.com/playlist?list=PLWKjhJtqVAbmMuZ3saqRIBimAKIMYkt0E) ]\n",
    "* [ [y](https://www.youtube.com/watch?v=kiCH27qsNL8) ] `12-19-2023`. \"Full Stack Tutorial – Hotel Management Site w/ Next.js, React, Sanity.io, Tailwind, Stripe\".\n",
    "* [ [y](https://www.youtube.com/watch?v=RMScMwY2B6Q) ] `11-30-2023`. \"Build and Deploy an Instagram Clone with React and Firebase – Tutorial\".\n",
    "* [ [y](https://www.youtube.com/watch?v=dX8396ZmSPk) ] `11-02-2023`. \"Web Development with HTML & CSS – Full Course for Beginners\".\n",
    "* [ [y](https://www.youtube.com/watch?v=Kbauf9IgsC4) ] `10-11-2022`. \"Build a Webshop - Angular, Node.js, TypeScript, Stripe\".\n",
    "* [ [y](https://www.youtube.com/watch?v=a_iQb1lnAEQ) ] `09-14-2022`. \"Learn HTML & CSS - Full Course for Beginners\".\n",
    "* [ [y](https://www.youtube.com/watch?v=7BHs1BzA4fs) ] `09-28-2022`. \"Code a 2D Game Using JavaScript, HTML, and CSS (w/ Free Game Assets) - Tutorial\".\n",
    "* [ [y](https://www.youtube.com/watch?v=zJSY8tbf_ys) ] `08-24-2022`. \"Frontend Web Development Bootcamp Course (JavaScript, HTML, CSS)\".\n",
    "* [ [y](https://www.youtube.com/watch?v=xV7S8BhIeBo) ] `03-17-2022`. \"Portfolio Website Tutorial - Frontend Development with HTML, CSS, JavaScript\".\n",
    "* [ [y](https://www.youtube.com/watch?v=47NRaBVxgVM) ] `12-20-2021`. \"Internet History, Technology, and Security - Full Course from Dr. Chuck\".\n",
    "* [ [y](https://www.youtube.com/watch?v=ToXna81iij0) ] `08-03-2021`. \"Code a Dictionary with React and Material UI - Tutorial\".\n",
    "* [ [y](https://www.youtube.com/watch?v=mU6anWqZJcc) ] `04-30-2019`. \"Learn HTML5 and CSS3 From Scratch - Full Course\".\n",
    "* [ [y](https://www.youtube.com/watch?v=jaVNP3nIAv0) ] `11-09-2018`. \"Web Development Tutorial - JavaScript, HTML, CSS - Rock Paper Scissors Game\".\n",
    "* [ [y](https://www.youtube.com/watch?v=guvsH5OFizE) ] The World Wide Web: Crash Course Computer Science.\n",
    "\n",
    "Nerd's Lesson\n",
    "* [ [y](https://www.youtube.com/watch?v=xc3a_CJhjCc) ] `11-28-2022`. \"JavaScript Mastery Complete Course | JavaScript Tutorial For Beginner to Advanced\".\n",
    "\n",
    "Theo - t3․gg\n",
    "* [ [y](https://www.youtube.com/watch?v=2Q0mWH6g8Fo) ] `01-13-2024`. \"UI Libraries Are Dying, Here's Why\".\n",
    "* [ [y](https://www.youtube.com/watch?v=CQuTF-bkOgc) ] `10-05-2022`. \"Comparing Modern CSS Solutions (Tailwind vs MUI vs Bootstrap vs Chakra vs...)\".\n",
    "\n",
    "more\n",
    "* [ [y](https://www.youtube.com/watch?v=YJTKlAvbDo4) ] `06-21-2023`. AsmrProg. \"ASMR Programming - Responsive Admin Dashboard with Light & Dark Mode - No Talking\".\n",
    "* [ [y](https://www.youtube.com/watch?v=BZQzYmLIGgU) ] `12-21-2023`. DesignTorch. \"Animated Hamburger Icon Using CSS Cubic-Bezier timing-function\".\n",
    "* [ [y](https://www.youtube.com/watch?v=vqXLGX0szIQ) ] `11-28-2023`. Envato Tuts+. \"Motion Design for the Web | FREE COURSE\".\n",
    "* [ [y](https://www.youtube.com/watch?v=7MbFDnR_6HM) ] `01-23-2024`. notJust.dev. \"Building a Full Stack Workout Tracker with React Native & MongoDB\".\n",
    "* [ [y](https://www.youtube.com/watch?v=EvSUJ5lUcBw) ] `10-10-2020`. notJust.dev. \"Build a Realtime Chat App in React Native (tutorial for beginners) 🔴\"."
   ]
  },
  {
   "cell_type": "markdown",
   "metadata": {},
   "source": [
    "Other Resources\n",
    "* https://www.theodinproject.com/\n",
    "* https://fullstackopen.com/"
   ]
  },
  {
   "cell_type": "markdown",
   "metadata": {},
   "source": [
    "---"
   ]
  },
  {
   "cell_type": "markdown",
   "metadata": {},
   "source": [
    "## Texts"
   ]
  },
  {
   "cell_type": "markdown",
   "metadata": {},
   "source": [
    "* Battagline, Rick. (2021). _The Art of WebAssembly: Build Secure, Portable, High-Performance Applications_. [No Starch Press](https://nostarch.com/art-webassembly).\n",
    "* Brown, Ethan. (2019). _Web Development with Node and Express: Leveraging the JavaScript Stack_. 2nd Ed. O'Reilly.\n",
    "* Gasston, Peter. (2014). _Book of CSS3: A Developer's Guide to the Future of Web Design_. [No Starch Press](https://nostarch.com/css3_2e).\n",
    "* Gasston, Peter. (2013). _The Modern Web: Multi-Device Web Development with HTML5, CSS3, and JavaScript_. [No Starch Press](https://nostarch.com/modernweb).\n",
    "* Griffiths, David & Dawn Griffiths. (2021). _React Cookbook: Recipes for Mastering the React Framework_. O'Reilly.\n",
    "* Schrenk, Michael. (2012). _Webbots, Spiders, and Screen Scrapers: A Guide to Developing Internet Agents with PHP/Curl_. 2nd Ed. No Starch Press.\n",
    "* Sletten, Brian. (2021). _WebAssembly: The Definitive Guide: Safe, Fast, and Portable Code_. O'Reilly."
   ]
  },
  {
   "cell_type": "markdown",
   "metadata": {},
   "source": [
    "---"
   ]
  },
  {
   "cell_type": "markdown",
   "metadata": {},
   "source": [
    "## Figures"
   ]
  },
  {
   "cell_type": "markdown",
   "metadata": {},
   "source": [
    "* [ [w](https://en.wikipedia.org/wiki/Tim_Berners-Lee) ] Berners-Lee, Tim\n",
    "* [ [w](https://en.wikipedia.org/wiki/Vannevar_Bush) ] Bush, Vannevar\n",
    "* [ w ][ [y](https://www.youtube.com/playlist?list=PLEzQf147-uEoNCeDlRrXv6ClsLDN-HtNm) ] Crockford, Douglas\n",
    "\n",
    "[ [w](https://en.wikipedia.org/wiki/List_of_Internet_pioneers) ] Internet pioneers"
   ]
  },
  {
   "cell_type": "markdown",
   "metadata": {},
   "source": [
    "---"
   ]
  },
  {
   "cell_type": "markdown",
   "metadata": {},
   "source": [
    "## Terms"
   ]
  },
  {
   "cell_type": "markdown",
   "metadata": {},
   "source": [
    "* [ [w](https://en.wikipedia.org/wiki/API) ] [API] Application Programming Interface\n",
    "* [ [w](https://en.wikipedia.org/wiki/Application_programming_interface_key) ] API Key\n",
    "* [ [w](https://en.wikipedia.org/wiki/Application_security#Web_Application_Security) ] Application Security\n",
    "* [ [w](https://en.wikipedia.org/wiki/Ajax_(programming)) ] [AJAX] Asynchronous JavaScript and XML\n",
    "* [ w ] [AMD] Asynchronous Method Dispatch\n",
    "* [ [w](https://en.wikipedia.org/wiki/Asynchronous_procedure_call) ] Asynchronous Procedure Call\n",
    "* [ [w](https://en.wikipedia.org/wiki/Asynchrony_(computer_programming)) ] Asynchrony\n",
    "* [ [w](https://en.wikipedia.org/wiki/Front_end_and_back_end) ] Backend\n",
    "* [ w ] Backend Web Development\n",
    "* [ [w](https://en.wikipedia.org/wiki/Boilerplate_text) ] Boilerplate\n",
    "* [ [w](https://en.wikipedia.org/wiki/Browser_engine) ] Browser Engine\n",
    "* [ [w](https://en.wikipedia.org/wiki/Button_(computing)) ] Button\n",
    "* [ [w](https://en.wikipedia.org/wiki/CSS) ] [CSS] Cascading Style Sheets\n",
    "* [ [w](https://en.wikipedia.org/wiki/Client_(computing)) ] Client\n",
    "* [ [w](https://en.wikipedia.org/wiki/Client–server_model) ] Client-Server Model\n",
    "* [ [w](https://en.wikipedia.org/wiki/Client-side) ] Client-Side\n",
    "* [ [w](https://en.wikipedia.org/wiki/Dynamic_web_page#Client-side_scripting) ] Client-Side Scripting\n",
    "* [ [w](https://en.wikipedia.org/wiki/Common_Gateway_Interface) ] [CGI] Common Gateway Interface\n",
    "* [ w ] [CMS] Contact/Customer Management System\n",
    "* [ [w](https://en.wikipedia.org/wiki/Customer_relationship_management) ] [CRM] Contact/Customer Relationship Management\n",
    "* [ [w](https://en.wikipedia.org/wiki/Content_delivery_network) ] [CDN] Content Delivery Network\n",
    "* [ [w](https://en.wikipedia.org/wiki/Cross-site_request_forgery) ] [CSRF] Cross-Site Request Forgery\n",
    "* [ [w](https://en.wikipedia.org/wiki/Deep_web) ] Deep Web\n",
    "* [ w ] [DXP] Digital Experience Platform\n",
    "* [ [w](https://en.wikipedia.org/wiki/Document_Object_Model) ] [DOM] Document Object Model\n",
    "* [ [w](https://en.wikipedia.org/wiki/Dynamic_HTML) ] Dynamic HTML\n",
    "* [ [w](https://en.wikipedia.org/wiki/ECMAScript) ] ECMAScript\n",
    "* [ [w](https://en.wikipedia.org/wiki/Event_(computing)) ] Event\n",
    "* [ w ] Event Handling\n",
    "* [ [w](https://en.wikipedia.org/wiki/Event-driven_programming) ] Event-Driven Programming\n",
    "* [ [w](https://en.wikipedia.org/wiki/Experience_management) ] Experience Management\n",
    "* [ [w](https://en.wikipedia.org/wiki/XML) ] [XML] Extensible Markup Language\n",
    "* [ [w](https://en.wikipedia.org/wiki/Front_controller) ] Front Controller\n",
    "* [ [w](https://en.wikipedia.org/wiki/Front_end_and_back_end) ] Frontend\n",
    "* [ [w](https://en.wikipedia.org/wiki/Front-end_web_development) ] Frontend Web Development\n",
    "* [ w ] Full-Stack Web Development\n",
    "* [ [w](https://en.wikipedia.org/wiki/Hyperlink) ] Hyperlink\n",
    "* [ [w](https://en.wikipedia.org/wiki/Hypertext) ] Hypertext\n",
    "* [ [w](https://en.wikipedia.org/wiki/HTML) ] [HTML] Hypertext Markup Language\n",
    "* [ [w](https://en.wikipedia.org/wiki/Hypertext_Transfer_Protocol) ] [HTTP] Hypertext Transfer Protocol\n",
    "* [ [w](https://en.wikipedia.org/wiki/Hypertext_Transfer_Protocol#Request_methods) ] HTTP Request Method\n",
    "* [ [w](https://en.wikipedia.org/wiki/List_of_HTTP_status_codes) ] HTTP Status Codes\n",
    "* [ [w](https://en.wikipedia.org/wiki/InterPlanetary_File_System) ] [IPFS] Inter Planetary File System\n",
    "* [ [w](https://en.wikipedia.org/wiki/Internationalization_and_localization) ] Internationalization and Localization\n",
    "* [ [w](https://en.wikipedia.org/wiki/JavaScript) ] [JS] JavaScript\n",
    "* [ [w](https://en.wikipedia.org/wiki/JSON) ] [JSON] JavaScript Object Notation\n",
    "* [ [w](https://en.wikipedia.org/wiki/Knowledge_management) ] Knowledge Management\n",
    "* [ [w](https://en.wikipedia.org/wiki/Layout_(computing)) ] Layout\n",
    "* [ [w](https://en.wikipedia.org/wiki/Layout_manager) ] Layout Manager\n",
    "* [ [w](https://en.wikipedia.org/wiki/Load_balancing_(computing)) ] Load Balancing\n",
    "* [ [w](https://en.wikipedia.org/wiki/Markup_language) ] Markup Language\n",
    "* [ [w](https://en.wikipedia.org/wiki/Model%E2%80%93view%E2%80%93controller) ] [MVC] Model View Controller\n",
    "* [ [w](https://en.wikipedia.org/wiki/Page_layout) ] Page Layout\n",
    "* [ [w](https://en.wikipedia.org/wiki/POST_(HTTP)) ] POST (HTTP Request Method)\n",
    "* [ [w](https://en.wikipedia.org/wiki/Preprocessor) ] Preprocessor\n",
    "* [ [w](https://en.wikipedia.org/wiki/Progressive_enhancement) ] Progressive Enhancement\n",
    "* [ [w](https://en.wikipedia.org/wiki/Proxy_server#Forward_proxies) ] Proxy Server\n",
    "* [ [w](https://en.wikipedia.org/wiki/Query_string) ] Query String\n",
    "* [ [w](https://en.wikipedia.org/wiki/Remote_procedure_call) ] [RPC] Remote Procedure Call\n",
    "* [ [w](https://en.wikipedia.org/wiki/Representational_state_transfer) ] [REST] REpresentational State Transfer\n",
    "* [ [w](https://en.wikipedia.org/wiki/Resource_Description_Framework) ] [RDF] Resource Description Framework\n",
    "* [ [w](https://en.wikipedia.org/wiki/Responsive_web_design) ] [RWD] Responsive Web Design\n",
    "* [ [w](https://en.wikipedia.org/wiki/Reverse_proxy) ] Reverse Proxy\n",
    "* [ [w](https://en.wikipedia.org/wiki/Scalable_Vector_Graphics) ] [SVG] Scalable Vector Graphic\n",
    "* [ [w](https://en.wikipedia.org/wiki/Search_engine) ] Search Engine\n",
    "* [ [w](https://en.wikipedia.org/wiki/Search_engine_cache) ] Search Engine Cache\n",
    "* [ [w](https://en.wikipedia.org/wiki/Search_engine_optimization) ] [SEO] Search Engine Optimization\n",
    "* [ [w](https://en.wikipedia.org/wiki/Web_search_query) ] Search Query\n",
    "* [ [w](https://en.wikipedia.org/wiki/Key_(cryptography)) ] Secret Key or Cryptographic Key\n",
    "* [ [w](https://en.wikipedia.org/wiki/Semantic_HTML) ] Semantic HTML\n",
    "* [ [w](https://en.wikipedia.org/wiki/Semantic_Web) ] Semantic Web\n",
    "* [ [w](https://en.wikipedia.org/wiki/Server-side) ] Server-Side\n",
    "* [ [w](https://en.wikipedia.org/wiki/Server_Side_Includes) ] [SSI] Server-Side Includes\n",
    "* [ [w](https://en.wikipedia.org/wiki/Server-side_scripting) ] Server-Side Scripting\n",
    "* [ [w](https://en.wikipedia.org/wiki/Single-page_application) ] [SPA] Single-Page Application\n",
    "* [ [w](https://en.wikipedia.org/wiki/Social_network) ] Social Network\n",
    "* [ [w](https://en.wikipedia.org/wiki/Solution_stack) ] Solution Stack\n",
    "* [ [w](https://en.wikipedia.org/wiki/Static_site_generator) ] [SSG] Static Site Generator\n",
    "* [ [w](https://en.wikipedia.org/wiki/Static_web_page) ] Static Web Page\n",
    "* [ [w](https://en.wikipedia.org/wiki/Style_sheet_(web_development)) ] Style Sheet\n",
    "* [ [w](https://en.wikipedia.org/wiki/Template_processor) ] Template Engine\n",
    "* [ [w](https://en.wikipedia.org/wiki/Template_metaprogramming) ] Template Metaprogramming\n",
    "* [ [w](https://en.wikipedia.org/wiki/Uniform_Resource_Identifier) ] [URI] Uniform Resource Identifier\n",
    "* [ [w](https://en.wikipedia.org/wiki/URL) ] [URL] Uniform Resource Locator\n",
    "* [ [w](https://en.wikipedia.org/wiki/URL_redirection) ] URL Redirection\n",
    "* [ [w](https://en.wikipedia.org/wiki/URL_shortening) ] URL Shortening\n",
    "* [ w ] [UX] User Experience\n",
    "* [ [w](https://en.wikipedia.org/wiki/User_interface) ] [UI] User Interface\n",
    "* [ [w](https://en.wikipedia.org/wiki/User_agent) ] User Agent\n",
    "* [ [w](https://en.wikipedia.org/wiki/V8_(JavaScript_engine)) ] V8\n",
    "* [ [w](https://en.wikipedia.org/wiki/Web_2.0) ] Web 2.0\n",
    "* [ w ] Web 3.0\n",
    "* [ [w](https://en.wikipedia.org/wiki/Web_accelerator) ] Web Accelerator\n",
    "* [ [w](https://en.wikipedia.org/wiki/Web_application) ] Web Application\n",
    "* [ [w](https://en.wikipedia.org/wiki/Web_application_firewall) ] [WAF] Web Application Firewall\n",
    "* [ [w](https://en.wikipedia.org/wiki/Web_framework) ] [WAF] Web Application Framework\n",
    "* [ [w](https://en.wikipedia.org/wiki/Web_browser) ] Web Browser\n",
    "* [ [w](https://en.wikipedia.org/wiki/Web_cache) ] Web Cache\n",
    "* [ [w](https://en.wikipedia.org/wiki/HTTP_cookie) ] Web Cookie\n",
    "* [ [w](https://en.wikipedia.org/wiki/Web_crawler) ] Web Crawler\n",
    "* [ [w](https://en.wikipedia.org/wiki/Web_design) ] Web Design\n",
    "* [ [w](https://en.wikipedia.org/wiki/Web_development) ] Web Development\n",
    "* [ [w](https://en.wikipedia.org/wiki/Form_(HTML)) ] Web Form\n",
    "* [ [w](https://en.wikipedia.org/wiki/Web_framework) ] [WF] Web Framework\n",
    "* [ [w](https://en.wikipedia.org/wiki/Web_Ontology_Language) ] [OWL] Web Ontology Language\n",
    "* [ [w](https://en.wikipedia.org/wiki/Web_page) ] Web Page\n",
    "* [ w ] Web Programming\n",
    "* [ [w](https://en.wikipedia.org/wiki/Web_resource) ] Web Resource\n",
    "* [ [w](https://en.wikipedia.org/wiki/Web_scraping) ] Web Scraping\n",
    "* [ [w](https://en.wikipedia.org/wiki/Web_server) ] Web Server\n",
    "* [ [w](https://en.wikipedia.org/wiki/Web_Server_Gateway_Interface) ] [WSGI] Web Server Gateway Interface\n",
    "* [ [w](https://en.wikipedia.org/wiki/Web_service) ] [WS] Web Service\n",
    "* [ [w](https://en.wikipedia.org/wiki/Web_template_system) ] Web Template System\n",
    "* [ [w](https://en.wikipedia.org/wiki/Website) ] Website\n",
    "* [ [w](https://en.wikipedia.org/wiki/WebSocket) ] WebSocket\n",
    "* [ [w](https://en.wikipedia.org/wiki/WYSIWYG) ] [WYSIWYG] What you see is what you get\n",
    "* [ [w](https://en.wikipedia.org/wiki/Graphical_widget) ] Widget\n",
    "* [ [w](https://en.wikipedia.org/wiki/WIMP_(computing)) ] [WIMP] Windows, icons, menus, pointer\n",
    "* [ [w](https://en.wikipedia.org/wiki/World_Wide_Web) ] [WWW] World Wide Web"
   ]
  },
  {
   "cell_type": "markdown",
   "metadata": {},
   "source": [
    "---"
   ]
  }
 ],
 "metadata": {
  "language_info": {
   "name": "python"
  }
 },
 "nbformat": 4,
 "nbformat_minor": 2
}
