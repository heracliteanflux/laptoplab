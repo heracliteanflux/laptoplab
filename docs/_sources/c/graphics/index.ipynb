{
 "cells": [
  {
   "cell_type": "markdown",
   "metadata": {},
   "source": [
    "# Graphics"
   ]
  },
  {
   "cell_type": "markdown",
   "metadata": {},
   "source": [
    "---"
   ]
  },
  {
   "cell_type": "markdown",
   "metadata": {},
   "source": [
    "## Table of Contents\n",
    "```{contents}\n",
    "```"
   ]
  },
  {
   "cell_type": "markdown",
   "metadata": {},
   "source": [
    "---"
   ]
  },
  {
   "cell_type": "markdown",
   "metadata": {},
   "source": [
    "## Resources"
   ]
  },
  {
   "cell_type": "markdown",
   "metadata": {},
   "source": [
    "* [ [h](https://www.autodesk.com/products/maya/overview) ][ w ] Autodesk Maya\n",
    "* [ [h](https://www.blender.org) ][ [w](https://www.blender.org) ] Blender\n",
    "* [ h ][ [w](https://en.wikipedia.org/wiki/GTK) ] GTK\n",
    "* [ [h](https://www.sidefx.com/buy/#houdini-free) ][ w ] Houdini\n",
    "* [ [h](https://www.opengl.org/) ][ [w](https://en.wikipedia.org/wiki/OpenGL) ] OpenGL\n",
    "* [ h ][ [w](https://en.wikipedia.org/wiki/Qt_(software)) ] Qt\n",
    "* [ [h](https://unity.com) ][ w ] Unity\n",
    "* [ [h](https://www.unrealengine.com) ][ w ] Unreal\n",
    "* [ [h](https://get.webgl.org/) ][ [w](https://en.wikipedia.org/wiki/WebGL) ] WebGL"
   ]
  },
  {
   "cell_type": "markdown",
   "metadata": {},
   "source": [
    "### YouTube"
   ]
  },
  {
   "cell_type": "markdown",
   "metadata": {},
   "source": [
    "Low Level Learning\n",
    "* [ [y](https://www.youtube.com/watch?v=8sDg-lD1fZQ) ] `07-10-2021`. \"Writing Code That Runs FAST on a GPU\".\n",
    "\n",
    "more\n",
    "* [ [y](https://www.youtube.com/watch?v=U0_ONQQ5ZNM) ] `06-08-2021`. Brendan Galea. \"The Math behind (most) 3D games - Perspective Projection\".\n",
    "* [ [y](https://www.youtube.com/watch?v=VLZjd_Y1gJ8) ] `04-23-2020`. \"Recreating Noita's Sand Simulation in C and OpenGL | Game Engineering\"."
   ]
  },
  {
   "cell_type": "markdown",
   "metadata": {},
   "source": [
    "---"
   ]
  },
  {
   "cell_type": "markdown",
   "metadata": {},
   "source": [
    "## Texts"
   ]
  },
  {
   "cell_type": "markdown",
   "metadata": {},
   "source": [
    "Computer Graphics\n",
    "* Foley et al. (1996). _Computer Graphics: Principles and Practice, 2nd Ed_. Addison-Wesley.\n",
    "* Shirley, Peter et al. _Fundmentals of Computer Graphics, 4th Ed_.\n",
    "* Shreiner, Dave et al. _OpenGL Programming Guide: The Official Guide to Learning OpenGL, Version 4.5 with SPIR-V, 9th Ed_. Addison-Wesley.\n",
    "* Watt, Alan H. _3D Computer Graphics, 3rd Ed_."
   ]
  },
  {
   "cell_type": "markdown",
   "metadata": {},
   "source": [
    "Digital Image Processing\n",
    "* Bovik, A. C., ed. (2005). _Handbook of Image and Video Processing, 2nd Ed_.\n",
    "* [ [h](http://www.imageprocessingplace.com) ] Gonzalez, R. C. & R. E. Woods. (2018). _Digital Image Processing, 4th Ed_.\n",
    "* Gonzalez, R. C., R. E. Woods, & S. L. Eddins. _Digital Image Processing using MATLAB, 3rd Ed_.\n",
    "* Pratt, W. K. (2007). _Digital Image Processing, 4th Ed._ Wiley.\n",
    "* Russ, J. C. (2011). _The Image Processing Handbook, 6th Ed_.\n",
    "* Sonka, M., V. Hlavac, & R. Boyle. (2014). _Image Processing, Analysis, and Machine Vision, 4th Ed_."
   ]
  },
  {
   "cell_type": "markdown",
   "metadata": {},
   "source": [
    "3D Animation, Modeling, Printing, & Rendering\n",
    "* [ [h](https://secretlab.games/books/unity-cookbook-1e) ][ [g](https://github.com/thesecretlab/unity-game-development-cookbook-1e) ] Buttfield-Addison, Paris; Jon Manning; & Tim Nugent. (2019). _Unity Game Development Cookbook: Essentials for Every Game_. O'Reilly.\n",
    "* Coward, Cameron. (2019). _A Beginner's Guide to 3D Modeling: A Guide to Autodesk Fusion 360_. [No Starch Press](https://nostarch.com/cad).\n",
    "* Gambetta, Gabriel. (2021). _Computer Graphics from Scratch: A Programmer's Introduction to 3D Rendering_. [No Starch Press](https://nostarch.com/computer-graphics-scratch).\n",
    "* Gohde, Justin & Marius Kintel. (2021). _Programming with OpenSCAD: A Beginner's Guide to Coding 3D-Printable Objects_. [No Starch Press](https://nostarch.com/programmingopenscad)."
   ]
  },
  {
   "cell_type": "markdown",
   "metadata": {},
   "source": [
    "---"
   ]
  },
  {
   "cell_type": "markdown",
   "metadata": {},
   "source": [
    "## Terms"
   ]
  },
  {
   "cell_type": "markdown",
   "metadata": {},
   "source": [
    "* [ [w](https://en.wikipedia.org/wiki/2D_computer_graphics) ] 2D Computer Graphics\n",
    "* [ [w](https://en.wikipedia.org/wiki/3D_computer_graphics) ] 3D Computer Graphics\n",
    "* [ [w](https://en.wikipedia.org/wiki/3D_rendering) ] 3D Rendering\n",
    "* [ [w](https://en.wikipedia.org/wiki/Canvas_(GUI)) ] Canvas\n",
    "* [ [w](https://en.wikipedia.org/wiki/Computer-aided_design) ] Computer-Aided Design (CAD)\n",
    "* [ [w](https://en.wikipedia.org/wiki/Digital_image) ] Digital Image\n",
    "* [ [w](https://en.wikipedia.org/wiki/Display_device) ] Display Device\n",
    "* [ [w](https://en.wikipedia.org/wiki/Drag_and_drop) ] Drag-and-drop\n",
    "* [ [w](https://en.wikipedia.org/wiki/Electronic_visual_display) ] Electronic Visual Display\n",
    "* [ [w](https://en.wikipedia.org/wiki/Geometric_primitive) ] Geometric Primitive\n",
    "* [ [w](https://en.wikipedia.org/wiki/GIF) ] Graphics Interchange Format (GIF)\n",
    "* [ [w](https://en.wikipedia.org/wiki/Graphical_user_interface) ] Graphical User Interface (GUI)\n",
    "* [ [w](https://en.wikipedia.org/wiki/Graphics_pipeline) ] Graphics Pipeline\n",
    "* [ [w](https://en.wikipedia.org/wiki/Graphical_user_interface_builder) ] GUI Builder\n",
    "* [ [w](https://en.wikipedia.org/wiki/Hardware_acceleration) ] Hardware Acceleration\n",
    "* [ [w](https://en.wikipedia.org/wiki/Image_tracing) ] Image Tracing\n",
    "* [ [w](https://en.wikipedia.org/wiki/Interface_metaphor) ] Interface Metaphor\n",
    "* [ [w](https://en.wikipedia.org/wiki/Layout_manager) ] Layout Manager\n",
    "* [ [w](https://en.wikipedia.org/wiki/Look_and_feel) ] Look and Feel\n",
    "* [ [w](https://en.wikipedia.org/wiki/Pre-rendering) ] Pre Rendering\n",
    "* [ [w](https://en.wikipedia.org/wiki/Radiosity_(computer_graphics)) ] Radiosity\n",
    "* [ [w](https://en.wikipedia.org/wiki/Raster_graphics) ] Raster Graphic\n",
    "* [ [w](https://en.wikipedia.org/wiki/Image_tracing) ] Raster Vectorization\n",
    "* [ [w](https://en.wikipedia.org/wiki/Rasterisation) ] Rasterization\n",
    "* [ [w](https://en.wikipedia.org/wiki/Ray_casting) ] Ray Casting\n",
    "* [ [w](https://en.wikipedia.org/wiki/Ray_tracing_(graphics)) ] Ray Tracing\n",
    "* [ [w](https://en.wikipedia.org/wiki/Rendering_(computer_graphics)) ] Rendering\n",
    "* [ [w](https://en.wikipedia.org/wiki/Rendering_equation) ] Rendering Equation\n",
    "* [ [w](https://en.wikipedia.org/wiki/Scene_graph) ] Scene Graph\n",
    "* [ [w](https://en.wikipedia.org/wiki/Electronic_visual_display) ] Screen\n",
    "* [ [w](https://en.wikipedia.org/wiki/Tiling_window_manager) ] Tiling Window Manager\n",
    "* [ [w](https://en.wikipedia.org/wiki/Unbiased_rendering) ] Unbiased Rendering\n",
    "* [ [w](https://en.wikipedia.org/wiki/Vector_graphics) ] Vector Graphic\n",
    "* [ [w](https://en.wikipedia.org/wiki/Graphical_widget) ] Widget\n",
    "* [ [w](https://en.wikipedia.org/wiki/Widget_toolkit) ] Widget Toolkit\n",
    "* [ [w](https://en.wikipedia.org/wiki/Window_(computing)) ] Window\n",
    "* [ [w](https://en.wikipedia.org/wiki/Window_manager) ] Window Manager\n",
    "* [ [w](https://en.wikipedia.org/wiki/Windowing_system) ] Windowsing System"
   ]
  },
  {
   "cell_type": "markdown",
   "metadata": {},
   "source": [
    "---"
   ]
  }
 ],
 "metadata": {
  "language_info": {
   "name": "python"
  }
 },
 "nbformat": 4,
 "nbformat_minor": 2
}
