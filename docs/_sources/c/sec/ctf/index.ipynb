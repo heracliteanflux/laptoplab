{
 "cells": [
  {
   "cell_type": "markdown",
   "metadata": {},
   "source": [
    "# CTFs"
   ]
  },
  {
   "cell_type": "markdown",
   "metadata": {},
   "source": [
    "---"
   ]
  },
  {
   "cell_type": "markdown",
   "metadata": {},
   "source": [
    "## Sections\n",
    "```{tableofcontents}\n",
    "```"
   ]
  },
  {
   "cell_type": "markdown",
   "metadata": {},
   "source": [
    "---"
   ]
  },
  {
   "cell_type": "markdown",
   "metadata": {},
   "source": [
    "## Resources"
   ]
  },
  {
   "cell_type": "markdown",
   "metadata": {},
   "source": [
    "* [ [h](https://cyberskyline.com/events/ncl) ] Cyber Skyline's National Cyber League (NCL)\n",
    "* [ [h](https://hacknet.fandom.com/wiki/Hacknet) ] Hacknet\n",
    "* [ [h](https://www.hackthebox.eu) ] Hackthebox\n",
    "* [ [h](https://www.pentesteracademy.com/) ] PentesterAcademy\n",
    "* [ [h](https://pentesterlab.com/exercises) ] PentesterLab\n",
    "* [ [h](https://picoctf.org/) ] picoCTF\n",
    "* [ [2023](https://www.holidayhackchallenge.com/2023/) ] SANS Holiday Hack Challenge\n",
    "  * [past challenges](https://www.holidayhackchallenge.com/past-challenges/)\n",
    "* [ [h](https://www.simplycyber.io/) ] Simply Cyber\n",
    "* [ [h](https://tryhackme.com) ] TryHackMe\n",
    "  * [ [h](https://tryhackme.com/room/gitlabcve20237028) ] GitLab CVE-2023-7028\n",
    "* [ [h](https://www.vulnhub.com/) ] vulnhub\n",
    "\n",
    "https://www.reddit.com/r/securityCTF/comments/ewpdt8/top_10_ctf_capture_the_flag_websites/"
   ]
  },
  {
   "cell_type": "markdown",
   "metadata": {},
   "source": [
    "### YouTube"
   ]
  },
  {
   "cell_type": "markdown",
   "metadata": {},
   "source": [
    "[ [y](https://www.youtube.com/watch?v=mItfrdyE1U4) ] `04-02-2021`. DarkSec. \"TryHackMe Simple CTF Official Walkthrough\".\n",
    "\n",
    "[ [y](https://www.youtube.com/watch?v=wb7m_Y_3irg) ] `06-25-2019`. ITPro. \"Capture the Flag | Hacking Challenge | ITProTV’s Live Week 2019 Replay\".\n",
    "\n",
    "[ [y](https://www.youtube.com/watch?v=RCgEIBfnTEI) ] `08-28-2020`. John Hammond. \"Google CTF - BEGINNER Reverse Engineering w/ ANGR\"."
   ]
  },
  {
   "cell_type": "markdown",
   "metadata": {},
   "source": [
    "---"
   ]
  }
 ],
 "metadata": {
  "language_info": {
   "name": "python"
  }
 },
 "nbformat": 4,
 "nbformat_minor": 2
}
