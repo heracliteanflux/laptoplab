{
 "cells": [
  {
   "attachments": {},
   "cell_type": "markdown",
   "metadata": {},
   "source": [
    "# DevOps"
   ]
  },
  {
   "attachments": {},
   "cell_type": "markdown",
   "metadata": {},
   "source": [
    "---"
   ]
  },
  {
   "cell_type": "markdown",
   "metadata": {},
   "source": [
    "## Table of Contents\n",
    "```{contents}\n",
    "```"
   ]
  },
  {
   "cell_type": "markdown",
   "metadata": {},
   "source": [
    "---"
   ]
  },
  {
   "cell_type": "markdown",
   "metadata": {},
   "source": [
    "## Ansible"
   ]
  },
  {
   "cell_type": "markdown",
   "metadata": {},
   "source": [
    "Ansible\n",
    "* [ [d](https://docs.ansible.com/ansible/latest/command_guide/intro_adhoc.html) ] Introduction to ad hoc commands\n",
    "* [ [d](https://docs.ansible.com/ansible/latest/installation_guide/intro_configuration.html) ] Configuring Ansible\n",
    "* [ [d](https://docs.ansible.com/ansible/latest/tips_tricks/index.html) ] Ansible Tips and Tricks\n",
    "* [ [d](https://docs.ansible.com/ansible/latest/os_guide/index.html) ] Using Ansible on Windows and BSD\n",
    "* [ [d](https://docs.ansible.com/ansible/latest/reference_appendices/YAMLSyntax.html) ] YAML Syntax\n",
    "\n",
    "Ansible Modules\n",
    "* [ [d](https://docs.ansible.com/ansible/latest/collections/ansible/builtin/apt_module.html) ] apt\n",
    "* [ [d](https://docs.ansible.com/ansible/latest/collections/ansible/builtin/command_module.html) ] command\n",
    "* [ [d](https://docs.ansible.com/ansible/latest/collections/ansible/builtin/copy_module.html) ] copy\n",
    "* [ [d](https://docs.ansible.com/ansible/latest/collections/ansible/builtin/file_module.html) ] file\n",
    "* [ [d](https://docs.ansible.com/ansible/latest/collections/ansible/builtin/ping_module.html) ] ping\n",
    "* [ [d](https://docs.ansible.com/ansible/latest/collections/ansible/builtin/service_module.html) ] service\n",
    "* [ [d](https://docs.ansible.com/ansible/latest/collections/ansible/builtin/setup_module.html) ] setup\n",
    "* [ [d](https://docs.ansible.com/ansible/latest/collections/ansible/builtin/shell_module.html) ] shell\n",
    "* [ [d](https://docs.ansible.com/ansible/latest/collections/ansible/builtin/stat_module.html) ] stat\n",
    "* [ [d](https://docs.ansible.com/ansible/latest/collections/ansible/builtin/template_module.html) ] template\n",
    "* [ [d](https://docs.ansible.com/ansible/latest/collections/ansible/builtin/user_module.html) ] user\n",
    "* [ [d](https://docs.ansible.com/ansible/latest/collections/ansible/windows/win_copy_module.html) ] ansible.windows.win_copy\n",
    "\n",
    "yaml output\n",
    "* https://www.jeffgeerling.com/blog/2018/use-ansibles-yaml-callback-plugin-better-cli-experience\n",
    "* https://github.com/ansible-collections/community.general/issues/1366\n",
    "\n",
    "```bash\n",
    "ansible pis -a 'free -m'\n",
    "ansible pis -a 'tail /var/log/dmesg'\n",
    "ansible pis -a 'timedatectl status'\n",
    "ansible pis -a uptime\n",
    "ansible pis -b -a 'sysctl vm.swappiness'\n",
    "ansible pis -b -a 'tail /var/log/syslog'\n",
    "ansible pis -m ping [-vvvv]\n",
    "ansible-doc -t callback -l\n",
    "```"
   ]
  },
  {
   "cell_type": "markdown",
   "metadata": {},
   "source": [
    "* [ [y](https://www.youtube.com/watch?v=DoSnjIeasgE) ] `01-18-2024`. Ansible4Networking. \"Introduction to AWS Networking with Ansible Automation (demo included @39.05)\"."
   ]
  },
  {
   "cell_type": "markdown",
   "metadata": {},
   "source": [
    "---"
   ]
  },
  {
   "cell_type": "markdown",
   "metadata": {},
   "source": [
    "## Resources"
   ]
  },
  {
   "cell_type": "markdown",
   "metadata": {},
   "source": [
    "* [ [h](https://www.ansible.com) ] Ansible\n",
    "* [ [h](https://www.docker.com) ] Docker\n",
    "* [ [h](https://www.jenkins.io) ] Jenkins\n",
    "* [ [h](https://kubernetes.io) ] Kubernetes\n",
    "* [ [h](https://www.terraform.io) ] Terraform\n",
    "* [ [h](https://www.vagrantup.com) ] Vagrant"
   ]
  },
  {
   "cell_type": "markdown",
   "metadata": {},
   "source": [
    "Mischa van den Burg\n",
    "* [ [y](https://www.youtube.com/watch?v=t3R6Luwtkg8) ] `04-01-2024`. \"Kubernetes Study - CKS Certification\".\n",
    "* [ [y](https://www.youtube.com/watch?v=3cq39v9FRgs) ] `03-29-2024`. \"What is Kubernetes and Why Do You Need It?\".\n",
    "* [ [y](https://www.youtube.com/watch?v=ICVxK7z6G34) ] `03-15-2024`. \"Kubernetes Fundamentals Course - 1. Introduction - By Mischa van den Burg\"."
   ]
  },
  {
   "cell_type": "markdown",
   "metadata": {},
   "source": [
    "freeCodeCamp\n",
    "* [ [y](https://www.youtube.com/watch?v=f4idgaq2VqA) ] freeCodeCamp. `09-16-2022`. \"Jenkins Tutorial – How to Deploy a Test Server with Docker + Linux (Full Course)\".\n",
    "* [ [y](https://www.youtube.com/watch?v=PGyhBwLyK2U) ] freeCodeCamp. `03-01-2022`. \"DevOps with GitLab CI Course - Build Pipelines and Deploy to AWS\".\n",
    "* [ [y](https://www.youtube.com/watch?v=j5Zsa_eOXeY) ] freeCodeCamp. `06-15-2021`. \"DevOps Engineering Course for Beginners\".\n",
    "* [ [y](https://www.youtube.com/watch?v=Wvf0mBNGjXY) ] freeCodeCamp. `06-12-2020`. \"DevOps Prerequisites Course - Getting started with DevOps\".\n",
    "* [ [y](https://www.youtube.com/watch?v=fqMOX6JJhGo) ] freeCodeCamp. `08-16-2019`. \"Docker Tutorial for Beginners - A Full DevOps Course on How to Run Applications in Containers\"."
   ]
  },
  {
   "cell_type": "markdown",
   "metadata": {},
   "source": [
    "* [ [y](https://www.youtube.com/watch?v=CltoVfeRdoM) ] `03-29-2024`. Learn Linux TV. \"Complete Ansible Semaphore Tutorial: From Installation to Automation\"."
   ]
  },
  {
   "cell_type": "markdown",
   "metadata": {},
   "source": [
    "---"
   ]
  },
  {
   "attachments": {},
   "cell_type": "markdown",
   "metadata": {},
   "source": [
    "## Texts"
   ]
  },
  {
   "cell_type": "markdown",
   "metadata": {},
   "source": [
    "* Bryant, Daniel & Abraham Marin-Perez. (2018). _Continuous Delivery in Java: Essential Tools and Best Practices for Deploying Code to Production_. O'Reilly.\n",
    "* Chin, Stephen et al. (2022). _DevOps Tools for Java Developers: Best Practices from Source Code to Production Containers_. O'Reilly.\n",
    "* Davis, Jennifer & Ryn Daniels. (2016). _Effective DevOps: Building a Culture of Collaboration, Affinity, and Tooling at Scale_. O'Reilly.\n",
    "* Forsgren, Nicole, Jez Humble, & Gene Kim. (2018). _Accelerate: The Science of Lean Software and DevOps: Building and Scaling High Performing Technology Organizations_. IT Revolution Press.\n",
    "* [ [h](https://www.ansiblefordevops.com) ] Geerling, Jeff. _Ansible for DevOps: Server and configuration management for humans_. 2nd Ed.\n",
    "* [ [h](https://www.ansibleforkubernetes.com) ] Geerling, Jeff. _Ansible for Kubernetes: Automate app deployment on any scale with Ansible and K8s_.\n",
    "* [ [h](https://www.kubernetes101book.com) ] Geerling, Jeff. _Kubernetes 101: The easiest introduction to container-based infrastructure_.\n",
    "* Gift et al. (2020). _Python for DevOps: Learn Ruthlessly Effective Automation_. O'Reilly.\n",
    "* [ [g](https://github.com/lorin/ansible-quickref) ] Hochstein, Lorin & Rene Moser. (2017). _Ansible Up & Running: Automatic Configuration Management and Deployment the Easy Way_. 2nd Ed. O'Reilly.\n",
    "* Hohn, Alan. (2022). _The Book of Kubernetes: A Hands-On Deep Dive Into Container Technology_. No Starch Press.\n",
    "* Kim, Gene. (2019). _The Unicorn Project: A Novel about Developers, Digital Disruption, and Thriving in the Age of Data_. IT Revolution Press.\n",
    "* Kim, Gene et al. (2021). _The DevOps Handbook: How to Create World-Class Agility, Reliability, & Security in Technology Organizations, 2nd Ed_. IT Revolution Press.\n",
    "* Kim, Gene, Kevin Behr, & George Spafford. (2013). _The Phoenix Project: A Novel about IT, DevOps, and Helping Your Business Win_. IT Revolution Press.\n",
    "* [ [h](http://www.ansiblebook.com) ][ [g](https://github.com/ansiblebook/ansiblebook) ] Meijer, Bas; Lorin Hachstein; & Rene Moser. (2022). _Ansible Up & Running: Automating Configuration Management and Deployment the Easy Way_. O'Reilly.\n",
    "* Morris, Kief. (2020). _Infrastructure as Code: Dynamic Systems for the Cloud Age_. 2nd Ed. O'Reilly.\n",
    "* Newman, Sam. (2021). _Building Microservices: Designing Fine-Grained Systems_. 2nd Ed. O'Reilly.\n",
    "* [ [g](https://github.com/bradleyd/devops_for_the_desperate) ] Smith, Bradley. (2022). _DevOps for the Desperate: A Hands-On Survival Guide_. No Starch Press.\n",
    "* Vehent, Julien. (2018). _Securing DevOps: Security in the Cloud_. Manning.\n",
    "* Wang, Rosemary. (2022). _Infrastructure as Code Patterns and Practices: With Examples in Python and Terraform_. Manning."
   ]
  },
  {
   "attachments": {},
   "cell_type": "markdown",
   "metadata": {},
   "source": [
    "---"
   ]
  },
  {
   "cell_type": "markdown",
   "metadata": {},
   "source": [
    "## Terms"
   ]
  },
  {
   "cell_type": "markdown",
   "metadata": {},
   "source": [
    "* [ [w](https://en.wikipedia.org/wiki/Agile_software_development) ] Agile Software Development\n",
    "* [ [w](https://en.wikipedia.org/wiki/Artificial_Intelligence_for_IT_Operations) ] AIOps\n",
    "* [ [w](https://en.wikipedia.org/wiki/Ansible_(software)) ] Ansible\n",
    "* [ [w](https://en.wikipedia.org/wiki/Systems_development_life_cycle) ] Application Development Life Cycle\n",
    "* [ w ] Automation\n",
    "* [ [w](https://en.wikipedia.org/wiki/Business_architecture) ] Business Architecture\n",
    "* [ [w](https://en.wikipedia.org/wiki/Continuous_delivery) ] CD Continuous Delivery\n",
    "* [ [w](https://en.wikipedia.org/wiki/Continuous_deployment) ] CD Continuous Deployment\n",
    "* [ [w](https://en.wikipedia.org/wiki/Continuous_integration) ] CI Continuous Integration\n",
    "* [ [w](https://en.wikipedia.org/wiki/CI/CD) ] CI/CD Continuous Integration Continuous Delivery\n",
    "* [ [w](https://en.wikipedia.org/wiki/Data_center_management#Operations) ] ITOps\n",
    "* [ [w](https://en.wikipedia.org/wiki/DataOps) ] DataOps\n",
    "* [ [w](https://en.wikipedia.org/wiki/DevOps) ] DevOps\n",
    "* [ [w](https://en.wikipedia.org/wiki/DevOps_toolchain) ] DevOps Toolchain\n",
    "* [ w ] DevSecOps\n",
    "* [ [w](https://en.wikipedia.org/wiki/Disciplined_agile_delivery) ] DAD Disciplined Agile Delivery\n",
    "* [ [w](https://en.wikipedia.org/wiki/High_availability) ] HA High Availability\n",
    "* [ [w](https://en.wikipedia.org/wiki/Infrastructure_as_code) ] IaC Infrastructure as Code\n",
    "* [ [w](https://en.wikipedia.org/wiki/Lean_software_development) ] Lean Software Development\n",
    "* [ [w](https://en.wikipedia.org/wiki/Loose_coupling) ] Loose Coupling\n",
    "* [ [w](https://en.wikipedia.org/wiki/Microservices) ] Microservices\n",
    "* [ [w](https://en.wikipedia.org/wiki/MLOps) ] MLOps\n",
    "* [ [w](https://en.wikipedia.org/wiki/ModelOps) ] ModelOps\n",
    "* [ w ] Orchestration\n",
    "* [ [w](https://en.wikipedia.org/wiki/Platform_as_a_service) ] PaaS Platform as a Service\n",
    "* [ [w](https://en.wikipedia.org/wiki/Provisioning_(telecommunications)) ] Provisioning\n",
    "* [ [w](https://en.wikipedia.org/wiki/Scalability) ] Scalability\n",
    "* [ [w](https://en.wikipedia.org/wiki/Scaled_agile_framework) ] SAFe Scaled Agile Framework\n",
    "* [ [w](https://en.wikipedia.org/wiki/Scrum_(software_development)#Large-scale_Scrum) ] Scrum\n",
    "* [ [w](https://en.wikipedia.org/wiki/Service-oriented_architecture) ] SOA Service-Oriented Architecture\n",
    "* [ [w](https://en.wikipedia.org/wiki/Site_reliability_engineering) ] SRE Site Reliability Engineering\n",
    "* [ [w](https://en.wikipedia.org/wiki/Software_architecture) ] Software Architecture\n",
    "* [ [w](https://en.wikipedia.org/wiki/Software_as_a_service) ] SaaS Software as a Service\n",
    "* [ [w](https://en.wikipedia.org/wiki/Software_configuration_management) ] SCM Software Configuration Management\n",
    "* [ [w](https://en.wikipedia.org/wiki/Software_deployment) ] Software Deployment\n",
    "* [ [w](https://en.wikipedia.org/wiki/Software_quality) ] Software Quality\n",
    "* [ [w](https://en.wikipedia.org/wiki/Systems_development_life_cycle) ] SDLC Systems Development Life Cycle\n",
    "* [ [w](https://en.wikipedia.org/wiki/Twelve-Factor_App_methodology) ] Twelve-Factor App Methodology\n",
    "* [ [w](https://en.wikipedia.org/wiki/Value_proposition) ] Value Proposition\n",
    "* [ [w](https://en.wikipedia.org/wiki/Value_stream) ] Value Stream\n",
    "* [ [w](https://en.wikipedia.org/wiki/Value-stream_mapping) ] Value Stream Mapping\n",
    "* [ [w](https://en.wikipedia.org/wiki/WinOps) ] WinOps"
   ]
  },
  {
   "attachments": {},
   "cell_type": "markdown",
   "metadata": {},
   "source": [
    "---"
   ]
  }
 ],
 "metadata": {
  "kernelspec": {
   "display_name": "Python 3 (ipykernel)",
   "language": "python",
   "name": "python3"
  },
  "language_info": {
   "codemirror_mode": {
    "name": "ipython",
    "version": 3
   },
   "file_extension": ".py",
   "mimetype": "text/x-python",
   "name": "python",
   "nbconvert_exporter": "python",
   "pygments_lexer": "ipython3",
   "version": "3.11.5"
  }
 },
 "nbformat": 4,
 "nbformat_minor": 4
}
