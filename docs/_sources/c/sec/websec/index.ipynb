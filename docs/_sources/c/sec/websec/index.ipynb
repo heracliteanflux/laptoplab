{
 "cells": [
  {
   "cell_type": "markdown",
   "metadata": {},
   "source": [
    "# Web Security"
   ]
  },
  {
   "cell_type": "markdown",
   "metadata": {},
   "source": [
    "---"
   ]
  },
  {
   "cell_type": "markdown",
   "metadata": {},
   "source": [
    "## Table of Contents\n",
    "```{contents}\n",
    "```"
   ]
  },
  {
   "cell_type": "markdown",
   "metadata": {},
   "source": [
    "---"
   ]
  },
  {
   "cell_type": "markdown",
   "metadata": {},
   "source": [
    "## Resources"
   ]
  },
  {
   "cell_type": "markdown",
   "metadata": {},
   "source": [
    "* [ [h](https://portswigger.net/burp) ][ [w](https://en.wikipedia.org/wiki/Burp_Suite) ] Burp Suite\n",
    "* [ [h](https://www.openssl.org/) ][ [w](https://en.wikipedia.org/wiki/OpenSSL) ] OpenSSL\n",
    "  * https://www.digicert.com/kb/ssl-support/openssl-quick-reference-guide.htm\n",
    "  * https://www.linuxfoundation.org/blog/blog/classic-sysadmin-how-to-install-an-ssl-certificate-on-linux-server\n",
    "* [ h ][ [w](https://en.wikipedia.org/wiki/OWASP_ZAP) ] Zed Attack Proxy (ZAP)"
   ]
  },
  {
   "cell_type": "markdown",
   "metadata": {},
   "source": [
    "Browsers\n",
    "* [ h ][ w ] Brave\n",
    "  * [ [y](https://www.youtube.com/watch?v=Em1yIFVGyEE) ] `01-19-2024`. Techlore. \"Brave NUKES Privacy Feature! Should You Panic?\".\n",
    "* [ h ][ [w](https://en.wikipedia.org/wiki/Chromium_(web_browser)) ] Chromium\n",
    "* [ h ][ w ] Chrome (Google)\n",
    "* [ h ][ [w](https://en.wikipedia.org/wiki/Google_Chrome) ] Chrome (Google)\n",
    "* [ h ][ w ] Edge (Microsoft)\n",
    "* [ h ][ [w](https://en.wikipedia.org/wiki/Firefox) ] Firefox (Mozilla)\n",
    "* [ h ][ w ] Safari (Apple)\n",
    "* [ [h](https://thorium.rocks/) ][ w ] Thorium"
   ]
  },
  {
   "cell_type": "markdown",
   "metadata": {},
   "source": [
    "Search Engines\n",
    "* [ h ] DuckDuckGo\n",
    "* [ [h](https://neeva.com/) ] Neeva"
   ]
  },
  {
   "cell_type": "markdown",
   "metadata": {},
   "source": [
    "Webmail\n",
    "* [ h ] Protonmail\n",
    "* [ [h](https://www.thunderbird.net/en-US/) ] Thunderbird"
   ]
  },
  {
   "cell_type": "markdown",
   "metadata": {},
   "source": [
    "### YouTube"
   ]
  },
  {
   "cell_type": "markdown",
   "metadata": {},
   "source": [
    "Rob Braxman Tech\n",
    "* [ [y](https://www.youtube.com/watch?v=F26U1fvxhjE) ] `01-31-2024`. \"REVEALED! Your Secret Power Over Google\".\n",
    "* [ [y](https://www.youtube.com/watch?v=bWk-JnJZKl8) ] `01-24-2024`. \"Every. Click. Tracked. Recorded.\".\n",
    "* [ [y](https://www.youtube.com/watch?v=R0uBa0eM5Yo) ] `09-29-2022`. \"Privacy Technique - Browser Isolation Revisited + Q&A\"."
   ]
  },
  {
   "cell_type": "markdown",
   "metadata": {},
   "source": [
    "---"
   ]
  },
  {
   "cell_type": "markdown",
   "metadata": {},
   "source": [
    "## Texts"
   ]
  },
  {
   "cell_type": "markdown",
   "metadata": {},
   "source": [
    "* Hoffman, Andrew. (2024). _Web Application Security: Exploitation and Countermeasures for Modern Web Applications_. 2e. O'Reilly.\n",
    "* [ [h](https://www.feistyduck.com/library/openssl-cookbook/online/) ] Ristić, Ivan. _OpenSSL Cookbook_. 3e. Feisty Duck."
   ]
  },
  {
   "cell_type": "markdown",
   "metadata": {},
   "source": [
    "---"
   ]
  },
  {
   "cell_type": "markdown",
   "metadata": {},
   "source": [
    "## Terms"
   ]
  },
  {
   "cell_type": "markdown",
   "metadata": {},
   "source": [
    "* [ [w](https://en.wikipedia.org/wiki/Handshake_(computing)) ] Handshake\n",
    "* [ [w](https://en.wikipedia.org/wiki/HTTPS) ] Hypertext Transfer Protocol Secure (HTTPS)\n",
    "* [ [w](https://en.wikipedia.org/wiki/Mozilla) ] Mozilla\n",
    "* [ [w](https://en.wikipedia.org/wiki/Network_Security_Services) ] Network Security Services (NSS)\n",
    "* [ w ] Secure Sockets Layer (SSL)\n",
    "* [ [w](https://en.wikipedia.org/wiki/TLS_acceleration) ] TLS Acceleration\n",
    "* [ [w](https://en.wikipedia.org/wiki/Transport_layer) ] Transport Layer\n",
    "* [ [w](https://en.wikipedia.org/wiki/Transport_Layer_Security) ] Transport Layer Security (TLS)\n",
    "* [ [w](https://en.wikipedia.org/wiki/TLS-SRP) ] Transport Layer Security Secure Remote Password (TLS-SRP)\n",
    "* [ [w](https://en.wikipedia.org/wiki/TLS-PSK) ] Transport Layer Security Pre-Shared Key (TLS-PSK) Cipher Suite\n",
    "* [ [w](https://en.wikipedia.org/wiki/Web_of_trust) ] Web of Trust\n",
    "* [ [w](https://en.wikipedia.org/wiki/WebRTC) ] Web Real-Time Communication (WebRTC)\n",
    "* [ [w](https://en.wikipedia.org/wiki/WolfSSL) ] wolfSSL\n",
    "* [ [w](https://en.wikipedia.org/wiki/World_Wide_Web) ] World Wide Web (WWW)"
   ]
  },
  {
   "cell_type": "markdown",
   "metadata": {},
   "source": [
    "---"
   ]
  }
 ],
 "metadata": {
  "language_info": {
   "name": "python"
  }
 },
 "nbformat": 4,
 "nbformat_minor": 2
}
