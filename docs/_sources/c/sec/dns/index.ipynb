{
 "cells": [
  {
   "cell_type": "markdown",
   "metadata": {},
   "source": [
    "# Domain Name System"
   ]
  },
  {
   "cell_type": "markdown",
   "metadata": {},
   "source": [
    "---"
   ]
  },
  {
   "cell_type": "markdown",
   "metadata": {},
   "source": [
    "## Table of Contents\n",
    "```{contents}\n",
    "```"
   ]
  },
  {
   "cell_type": "markdown",
   "metadata": {},
   "source": [
    "---"
   ]
  },
  {
   "cell_type": "markdown",
   "metadata": {},
   "source": [
    "## `dig`"
   ]
  },
  {
   "cell_type": "markdown",
   "metadata": {},
   "source": [
    "```bash\n",
    "dig cloudflare.com\n",
    "dig cloudflare.com +short\n",
    "dig cloudflare.com +short +dnssec # the last line of output is the RRSIG record which a DNS resolver uses to determine whether a DNS response is trusted\n",
    "dig DNSKEY cloudflare.com +short  # retrieve the public key used to verify the DNS record\n",
    "```\n",
    "```\n",
    "257 3 13 mdsswUyr3DPW132mOi8V9xESWE8jTo0dxCjjnopKl+GqJxpVXckHAeF+ KkxLbxILfDLUT0rAK9iUzy1L53eKGQ== # zone-signing key (ZSK)\n",
    "256 3 13 oJMRESz5E4gYzS/q6XDrvU1qMPYIjCWzJaOau8XNEZeqCYKD5ar0IRd8 KqXXFJkqmVfRvMGPmM1x8fGAa2XhSA== # key-signing key (KSK)\n",
    "```\n",
    "```bash\n",
    "dig DS cloudflare.com +short # find a DS record\n",
    "dig DS cloudflare.com +trace # dig confirms whether an answer is returned by the nameserver for cloudflare.com or the nameserver for .com\n",
    "```"
   ]
  },
  {
   "cell_type": "markdown",
   "metadata": {},
   "source": [
    "---"
   ]
  },
  {
   "cell_type": "markdown",
   "metadata": {},
   "source": [
    "## Unbound"
   ]
  },
  {
   "cell_type": "markdown",
   "metadata": {},
   "source": [
    "### Config"
   ]
  },
  {
   "cell_type": "markdown",
   "metadata": {},
   "source": [
    "```\n",
    "/etc/unbound/unbound.conf\n",
    "/etc/unbound/unbound.conf.d/pi-hole.conf\n",
    "```"
   ]
  },
  {
   "cell_type": "markdown",
   "metadata": {},
   "source": [
    "```\n",
    "server:\n",
    "    # can be uncommented if you do not need user privilige protection\n",
    "    # username: \"\"\n",
    "\n",
    "    # can be uncommented if you do not need file access protection\n",
    "    # chroot: \"\"\n",
    "\n",
    "    # location of the trust anchor file that enables DNSSEC. note that\n",
    "    # the location of this file can elsewhere\n",
    "    auto-trust-anchor-file: \"/usr/local/etc/unbound/root.key\"\n",
    "    # auto-trust-anchor-file: \"/var/lib/unbound/root.key\"\n",
    "\n",
    "    gg# send minimal amount of information to upstream servers to enhance privacy\n",
    "    qname-minimisation: yes\n",
    "\n",
    "    # addresses from the IP range that are allowed to connect to the resolver\n",
    "    # access-control: 192.168.0.0/16 allow\n",
    "    # access-control: 2001:DB8/64 allow\n",
    "\n",
    "    # If no logfile is specified, syslog is used\n",
    "    logfile: \"/var/log/unbound/unbound.log\"\n",
    "    verbosity: 2\n",
    "\n",
    "    # specify the interfaces to answer queries from by ip-address.\n",
    "    # interface: 0.0.0.0\n",
    "    # interface: ::0\n",
    "    interface: 127.0.0.1\n",
    "    port: 5335\n",
    "    do-ip4: yes\n",
    "    do-udp: yes\n",
    "    do-tcp: yes\n",
    "\n",
    "    # May be set to yes if you have IPv6 connectivity\n",
    "    do-ip6: no\n",
    "\n",
    "    # You want to leave this to no unless you have *native* IPv6. With 6to4 and\n",
    "    # Terredo tunnels your web browser should favor IPv4 for the same reasons\n",
    "    prefer-ip6: no\n",
    "\n",
    "    # Use this only when you downloaded the list of primary root servers!\n",
    "    # If you use the default dns-root-data package, unbound will find it automatically\n",
    "    root-hints: \"/var/lib/unbound/root.hints\"\n",
    "\n",
    "    # Trust glue only if it is within the server's authority\n",
    "    harden-glue: yes\n",
    "\n",
    "    # Require DNSSEC data for trust-anchored zones, if such data is absent, the zone becomes BOGUS\n",
    "    harden-dnssec-stripped: yes\n",
    "\n",
    "    # Don't use Capitalization randomization as it known to cause DNSSEC issues sometimes\n",
    "    # see https://discourse.pi-hole.net/t/unbound-stubby-or-dnscrypt-proxy/9378 for further details\n",
    "    use-caps-for-id: no\n",
    "\n",
    "    # Reduce EDNS reassembly buffer size.\n",
    "    # IP fragmentation is unreliable on the Internet today, and can cause\n",
    "    # transmission failures when large DNS messages are sent via UDP. Even\n",
    "    # when fragmentation does work, it may not be secure; it is theoretically\n",
    "    # possible to spoof parts of a fragmented DNS message, without easy\n",
    "    # detection at the receiving end. Recently, there was an excellent study\n",
    "    # >>> Defragmenting DNS - Determining the optimal maximum UDP response size for DNS <<<\n",
    "    # by Axel Koolhaas, and Tjeerd Slokker (https://indico.dns-oarc.net/event/36/contributions/776/)\n",
    "    # in collaboration with NLnet Labs explored DNS using real world data from the\n",
    "    # the RIPE Atlas probes and the researchers suggested different values for\n",
    "    # IPv4 and IPv6 and in different scenarios. They advise that servers should\n",
    "    # be configured to limit DNS messages sent over UDP to a size that will not\n",
    "    # trigger fragmentation on typical network links. DNS servers can switch\n",
    "    # from UDP to TCP when a DNS response is too big to fit in this limited\n",
    "    # buffer size. This value has also been suggested in DNS Flag Day 2020.\n",
    "    edns-buffer-size: 1232\n",
    "\n",
    "    # Perform prefetching of close to expired message cache entries\n",
    "    # This only applies to domains that have been frequently queried\n",
    "    prefetch: yes\n",
    "\n",
    "    # One thread should be sufficient, can be increased on beefy machines. In reality for most users running on small networks or on a single machine, it should be unnecessary to seek performance enhancement by increasing num-threads above 1.\n",
    "    num-threads: 1\n",
    "\n",
    "    # Ensure kernel buffer is large enough to not lose messages in traffic spikes\n",
    "    so-rcvbuf: 1m\n",
    "\n",
    "    # Ensure privacy of local IP ranges\n",
    "    private-address: 192.168.0.0/16\n",
    "    private-address: 169.254.0.0/16\n",
    "    private-address: 172.16.0.0/12\n",
    "    private-address: 10.0.0.0/8\n",
    "    private-address: fd00::/8\n",
    "    private-address: fe80::/10\n",
    "\n",
    "    # Remote control config section.\n",
    "    remote-control:\n",
    "        # Enable remote control with unbound-control(8) here.\n",
    "        # set up the keys and certificates with unbound-control-setup.\n",
    "        control-enable: yes\n",
    "\n",
    "        # Set to no and use an absolute path as control-interface to use\n",
    "        # a unix local named pipe for unbound-control.\n",
    "        control-use-cert: no\n",
    "```"
   ]
  },
  {
   "cell_type": "markdown",
   "metadata": {},
   "source": [
    "### Test"
   ]
  },
  {
   "cell_type": "markdown",
   "metadata": {},
   "source": [
    "```bash\n",
    "unbound-checkconf # unbound-checkconf: no errors in /etc/unbound/unbound.conf\n",
    "\n",
    "sudo service unbound status\n",
    "sudo service unbound restart\n",
    "\n",
    "sudo grep -v '#\\|^$' -R /etc/unbound/unbound.conf.d\n",
    "sudo grep -v '#\\|^$' -R /etc/dhcpcd.conf\n",
    "sudo grep -v '#\\|^$' -R /etc/resolvconf.conf\n",
    "sudo cat /var/cache/unbound/resolvconf_resolvers.conf\n",
    "```"
   ]
  },
  {
   "cell_type": "markdown",
   "metadata": {},
   "source": [
    "Test Unbound\n",
    "\n",
    "```bash\n",
    "sudo service unbound restart\n",
    "dig pi-hole.net @127.0.0.1 -p 5335\n",
    "```\n",
    "\n",
    "Test DNSSEC\n",
    "\n",
    "```bash\n",
    "dig dnssec.works @127.0.0.1 -p 5335\n",
    "```\n",
    "```\n",
    "; <<>> DiG 9.11.5-P4-5.1+deb10u9-Raspbian <<>> dnssec.works @127.0.0.1 -p 5335\n",
    ";; global options: +cmd\n",
    ";; Got answer:\n",
    ";; ->>HEADER<<- opcode: QUERY, status: NOERROR, id: 24162\n",
    ";; flags: qr rd ra ad; QUERY: 1, ANSWER: 1, AUTHORITY: 0, ADDITIONAL: 1\n",
    "\n",
    ";; OPT PSEUDOSECTION:\n",
    "; EDNS: version: 0, flags:; udp: 1232\n",
    ";; QUESTION SECTION:\n",
    ";dnssec.works.\t\t\tIN\tA\n",
    "\n",
    ";; ANSWER SECTION:\n",
    "dnssec.works.\t\t3600\tIN\tA\t5.45.107.88\n",
    "\n",
    ";; Query time: 104 msec\n",
    ";; SERVER: 127.0.0.1#5335(127.0.0.1)\n",
    ";; WHEN: Tue Nov 28 23:31:11 EST 2023\n",
    ";; MSG SIZE  rcvd: 57\n",
    "```\n",
    "```bash\n",
    "dig fail01.dnssec.works @127.0.0.1 -p 5335\n",
    "```\n",
    "```\n",
    "; <<>> DiG 9.11.5-P4-5.1+deb10u9-Raspbian <<>> fail01.dnssec.works @127.0.0.1 -p 5335\n",
    ";; global options: +cmd\n",
    ";; Got answer:\n",
    ";; ->>HEADER<<- opcode: QUERY, status: SERVFAIL, id: 33492\n",
    ";; flags: qr rd ra; QUERY: 1, ANSWER: 0, AUTHORITY: 0, ADDITIONAL: 1\n",
    "\n",
    ";; OPT PSEUDOSECTION:\n",
    "; EDNS: version: 0, flags:; udp: 1232\n",
    ";; QUESTION SECTION:\n",
    ";fail01.dnssec.works.\t\tIN\tA\n",
    "\n",
    ";; Query time: 0 msec\n",
    ";; SERVER: 127.0.0.1#5335(127.0.0.1)\n",
    ";; WHEN: Tue Nov 28 23:31:51 EST 2023\n",
    ";; MSG SIZE  rcvd: 48\n",
    "```"
   ]
  },
  {
   "cell_type": "markdown",
   "metadata": {},
   "source": [
    "### More"
   ]
  },
  {
   "cell_type": "markdown",
   "metadata": {},
   "source": [
    "```bash\n",
    "sudo unbound-control status\n",
    "sudo unbound-control lookup pi-hole.net\n",
    "```"
   ]
  },
  {
   "cell_type": "markdown",
   "metadata": {},
   "source": [
    "---"
   ]
  },
  {
   "cell_type": "markdown",
   "metadata": {},
   "source": [
    "## Resources"
   ]
  },
  {
   "cell_type": "markdown",
   "metadata": {},
   "source": [
    "* [ [h](https://dnscrypt.info) ][ d ][ g ] DNSCrypt\n",
    "* [ [h](https://dnsviz.net/) ] DNSViz\n",
    "* [ [h](https://pi-hole.net) ][ [d](https://docs.pi-hole.net) ][ [g](https://github.com/pi-hole) ] Pi-hole\n",
    "  * [The Big Blocklist Collection](https://firebog.net)\n",
    "  * Pi-hole on UDM [run-pihole](https://github.com/boostchicken/udm-utilities/tree/master/run-pihole) [on-boot-script](https://github.com/boostchicken/udm-utilities/tree/master/on-boot-script)\n",
    "  * [ [article](https://jekhokie.github.io/unifi/pihole/networking/2020/12/15/unifi-pihole-ad-blocking-with-failover.html) ] \"Pi-hole Ad-Blocking with Failover on UniFi\".\n",
    "  * [ [article](https://reposhub.com/linux/system-utilities/tusc-wireguard-kmod.html) ] \"WireGuard for UDM series routers\".\n",
    "* [ h ][ [d](https://unbound.docs.nlnetlabs.nl/en/latest/) ][ [g](https://github.com/NLnetLabs/unbound) ] Unbound\n",
    "  * https://docs.pi-hole.net/guides/dns/unbound/"
   ]
  },
  {
   "cell_type": "markdown",
   "metadata": {},
   "source": [
    "* [ [d](https://adguard-dns.io/kb/) ] Adguard - DNS\n",
    "* [ [d](https://www.cloudflare.com/learning/dns/what-is-dns/) ] Cloudflare - What is DNS?\n",
    "* [ [d](https://www.cloudflare.com/learning/dns/glossary/dynamic-dns/) ] Cloudflare - DDNS\n",
    "* [ [d](https://help.firewalla.com/hc/en-us/articles/4570608120979-Firewalla-DNS-Services-Introduction) ] Firewalla - DNS Services\n",
    "* [ [d](https://help.firewalla.com/hc/en-us/articles/360038449734-DNS-over-HTTPS) ] Firewalla - DoH\n",
    "* [ [d](https://meshnet.nordvpn.com/how-to/security/protect-network-with-adguard-home) ] NordVPN - AdGuard Home"
   ]
  },
  {
   "cell_type": "markdown",
   "metadata": {},
   "source": [
    "online\n",
    "* [ [o](https://superuser.com/questions/570082/in-etc-resolv-conf-what-exactly-does-the-search-configuration-option-do) ] StackExchange. \"In /etc/resolv.conf, what exactly does the \"search\" configuration option do?\"."
   ]
  },
  {
   "cell_type": "markdown",
   "metadata": {},
   "source": [
    "---"
   ]
  },
  {
   "cell_type": "markdown",
   "metadata": {},
   "source": [
    "## Terms"
   ]
  },
  {
   "cell_type": "markdown",
   "metadata": {},
   "source": [
    "* [ w ] BIND\n",
    "* [ [w](https://en.wikipedia.org/wiki/DNS_over_HTTPS) ] DNS over HTTPS (DoH)\n",
    "* [ [w](https://en.wikipedia.org/wiki/DNS_over_TLS) ] DNS over TLS (DoT)\n",
    "* [ [w](https://en.wikipedia.org/wiki/DNS_root_zone) ] DNS Root Zone\n",
    "* [ w ] DNS Shield\n",
    "* [ w ] DNS Sinkhole\n",
    "* [ [w](https://en.wikipedia.org/wiki/DNS_zone) ] DNS Zone\n",
    "* [ [w](https://en.wikipedia.org/wiki/DNSCrypt) ] DNSCrypt\n",
    "* [ w ] Domain Controller\n",
    "* [ [w](https://en.wikipedia.org/wiki/Domain_name) ] Domain Name\n",
    "* [ [w](https://en.wikipedia.org/wiki/Domain_Name_System) ] Domain Name System (DNS)\n",
    "* [ [w](https://en.wikipedia.org/wiki/Domain_Name_System_Security_Extensions) ] Domain Name System Security Extensions (DNSSEC)\n",
    "* [ w ] Dynamic DNS (DDNS)\n",
    "* [ [w](https://en.wikipedia.org/wiki/Fully_qualified_domain_name) ] Fully-Qualified Domain Name (FQDN)\n",
    "* [ [w](https://en.wikipedia.org/wiki/ICANN) ] Internet Corporation for Assigned Names and Numbers (ICANN)\n",
    "* [ w ] Key-Signing Key (KSK)\n",
    "  * used to verify the signatures of the DNSKEY, CDS, and CDNSKEY records\n",
    "* [ [w](https://en.wikipedia.org/wiki/Name_server) ] Name Server\n",
    "* [ [w](https://en.wikipedia.org/wiki/Public_recursive_name_server) ] Public DNS Resolver\n",
    "* [ [w](https://en.wikipedia.org/wiki/Public_recursive_name_server) ] Public Recursive Name Server\n",
    "* [ [w](https://en.wikipedia.org/wiki/Root_name_server) ] Root Name Server\n",
    "* [ [w](https://en.wikipedia.org/wiki/Search_domain) ] Search Domain\n",
    "* [ [w](https://en.wikipedia.org/wiki/Top-level_domain) ] Top-Level Domain (TLD)\n",
    "* [ w ] Zone-Signing Key (ZSK)\n",
    "  * used to verify the DNS record signatures for A, MX, CNAME, SRV, etc."
   ]
  },
  {
   "cell_type": "markdown",
   "metadata": {},
   "source": [
    "---"
   ]
  },
  {
   "cell_type": "markdown",
   "metadata": {},
   "source": [
    "## Notes"
   ]
  },
  {
   "cell_type": "markdown",
   "metadata": {},
   "source": [
    "Static DNS vs DDNS\n",
    "* DDNS - the automatic process of updating the server list within a domain name server with the server's IP address and FQDN"
   ]
  },
  {
   "cell_type": "markdown",
   "metadata": {},
   "source": [
    "---"
   ]
  }
 ],
 "metadata": {
  "language_info": {
   "name": "python"
  }
 },
 "nbformat": 4,
 "nbformat_minor": 2
}
