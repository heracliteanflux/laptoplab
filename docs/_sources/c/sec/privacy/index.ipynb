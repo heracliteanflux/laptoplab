{
 "cells": [
  {
   "cell_type": "markdown",
   "metadata": {},
   "source": [
    "# Privacy"
   ]
  },
  {
   "cell_type": "markdown",
   "metadata": {},
   "source": [
    "---"
   ]
  },
  {
   "cell_type": "markdown",
   "metadata": {},
   "source": [
    "## Table of Contents\n",
    "```{contents}\n",
    "```"
   ]
  },
  {
   "cell_type": "markdown",
   "metadata": {},
   "source": [
    "---"
   ]
  },
  {
   "cell_type": "markdown",
   "metadata": {},
   "source": [
    "## Data Brokerage and People Searching"
   ]
  },
  {
   "cell_type": "markdown",
   "metadata": {},
   "source": [
    "* [ [y](https://www.youtube.com/watch?v=QH1zb8HRUWI) ] `10-23-2022`. Shannon Morse. \"My Personal Data Was EXPOSED! Abine DeleteMe Review\".\n",
    "* [ [y](https://www.youtube.com/watch?v=DlLl3CZoyKM) ] `03-31-2023`. Techlore. \"How to CRUSH DATA BROKERS with Rob Shavell from DeleteMe\"."
   ]
  },
  {
   "cell_type": "markdown",
   "metadata": {},
   "source": [
    "* [ [w](https://en.wikipedia.org/wiki/Acxiom) ] Acxiom\n",
    "* [ [w](https://en.wikipedia.org/wiki/CoreLogic) ] CoreLogic\n",
    "* [ [w](https://en.wikipedia.org/wiki/Oracle_Advertising) ] Datalogix\n",
    "* [ [w](https://en.wikipedia.org/wiki/Bread_Financial) ] Epsilon\n",
    "* [ [w](https://en.wikipedia.org/wiki/Equifax) ] Equifax\n",
    "* [ [w](https://en.wikipedia.org/wiki/Exactis) ] Exactis\n",
    "* [ [w](https://en.wikipedia.org/wiki/Experian) ] Experian\n",
    "* [ [w](https://en.wikipedia.org/wiki/Intelius) ] Intelius\n",
    "* [ [w](https://en.wikipedia.org/wiki/LexisNexis) ] LexisNexis\n",
    "* [ [w](https://en.wikipedia.org/wiki/PeekYou) ] PeekYou\n",
    "* [ [w](https://en.wikipedia.org/wiki/Recorded_Future) ] Recorded Future\n",
    "* [ [w](https://en.wikipedia.org/wiki/TransUnion) ] TransUnion\n",
    "* [ [h](https://www.venntel.com/) ][ w ] Venntel"
   ]
  },
  {
   "cell_type": "markdown",
   "metadata": {},
   "source": [
    "* [ [w](https://en.wikipedia.org/wiki/Data_broker) ] Data Broker"
   ]
  },
  {
   "cell_type": "markdown",
   "metadata": {},
   "source": [
    "---"
   ]
  },
  {
   "cell_type": "markdown",
   "metadata": {},
   "source": [
    "## Resources"
   ]
  },
  {
   "cell_type": "markdown",
   "metadata": {},
   "source": [
    "[ [h](https://haveibeenpwned.com/) ] haveibeenpwned"
   ]
  },
  {
   "cell_type": "markdown",
   "metadata": {},
   "source": [
    "* [ [y](https://www.youtube.com/watch?v=TohdAnIuEvw) ] `04-03-2024`. Rob Braxman Tech. \"Why Use Virtual Machines for Privacy and Security? Not Obvious! Top 6 List!\"."
   ]
  },
  {
   "cell_type": "markdown",
   "metadata": {},
   "source": [
    "---"
   ]
  },
  {
   "cell_type": "markdown",
   "metadata": {},
   "source": [
    "## Texts"
   ]
  },
  {
   "cell_type": "markdown",
   "metadata": {},
   "source": [
    "* [ [h](https://programming-dp.com/) ] Near, Joseph P. & Chiké Abuah. _Programming Differential Privacy: A book about differential privacy, for programmers_."
   ]
  },
  {
   "cell_type": "markdown",
   "metadata": {},
   "source": [
    "* [ [a](https://arxiv.org/pdf/1805.06530.pdf) ] Balle, Borja & Yu-Xiang Wang. (2018). \"Improving the Gaussian Mechanism for Differential Privacy: Analytical Calibration and Optimal Denoising\".\n",
    "* [ [a](https://arxiv.org/pdf/1605.02065.pdf) ] Bun, Mark & Thomas Steinke. (2016). \"Concentrated Differential Privacy: Simplifications, Extensions, and Lower Bounds\".\n",
    "* [ [a](https://arxiv.org/pdf/1812.10942.pdf) ] Cormode, Graham, Tejas Kulkarni, & Divesh Srivastava. (2018). \"Answering Range Queries Under Local Differential Privacy\".\n",
    "* [ [a](https://papers.nips.cc/paper/2017/file/253614bbac999b38b5b60cae531c4969-Paper.pdf) ] Ding, Bolin, Janardhan Kulkarni, & Sergey Yekhanin. (2017). \"Collecting Telemetry Data Privately\".\n",
    "* [ [a](https://arxiv.org/pdf/1407.6981.pdf) ] Erlingsson, Ulfar, Vasyl Pihur, & Aleksandra Korolova. (2014). \"RAPPOR: Randomized Aggregatable Privacy-Preserving Ordinal Response\".\n",
    "* [ [a](https://papers.nips.cc/paper/2012/file/208e43f0e45c4c78cafadb83d2888cb6-Paper.pdf) ] Hardt, Moritz, Katrina Ligett, & Frank McSherry. (2012). \"A Simple and Practical Algorithm for Differentially Private Data Release\".\n",
    "* [ [a](https://arxiv.org/pdf/0904.0942.pdf) ] Hay, Michael et al. (2010). \"Boosting the Accuracy of Differentially Private Histograms Through Consistency\".\n",
    "* [ [a](https://arxiv.org/pdf/1702.07476.pdf) ] Mironov, Ilya. (2017). \"Renyi Differential Privacy\".\n",
    "* [ [a](http://www.vldb.org/pvldb/vol6/p1954-qardaji.pdf) ] Qardaji, Wahbeh, Weining Yang, & Ninghui Li. (2013). \"Understanding Hierarchical Methods for Differentially Private Histograms\".\n",
    "* [ [a](https://arxiv.org/pdf/1705.04421.pdf) ] Wang, Tianhao et al. (2017). \"Optimizing Locally Differentially Private Protocols\".\n",
    "* [ a ] Warner, Stanley L. (1965). \"Randomized Response: A Survey Technique for Eliminating Evasive Answer Bias\"."
   ]
  },
  {
   "cell_type": "markdown",
   "metadata": {},
   "source": [
    "---"
   ]
  },
  {
   "cell_type": "markdown",
   "metadata": {},
   "source": [
    "## Terms"
   ]
  },
  {
   "cell_type": "markdown",
   "metadata": {},
   "source": [
    "* [ w ] Differential Privacy\n",
    "* [ w ] Personally Identifiable Information (PII)\n",
    "* [ w ] Privacy [ [reddit](https://www.reddit.com/r/privacy/) ]"
   ]
  },
  {
   "cell_type": "markdown",
   "metadata": {},
   "source": [
    "---"
   ]
  }
 ],
 "metadata": {
  "language_info": {
   "name": "python"
  }
 },
 "nbformat": 4,
 "nbformat_minor": 2
}
