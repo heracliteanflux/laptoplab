{
 "cells": [
  {
   "cell_type": "markdown",
   "metadata": {},
   "source": [
    "# Digital Forensics"
   ]
  },
  {
   "cell_type": "markdown",
   "metadata": {},
   "source": [
    "---"
   ]
  },
  {
   "cell_type": "markdown",
   "metadata": {},
   "source": [
    "## Table of Contents\n",
    "```{contents}\n",
    "```"
   ]
  },
  {
   "cell_type": "markdown",
   "metadata": {},
   "source": [
    "---"
   ]
  },
  {
   "cell_type": "markdown",
   "metadata": {},
   "source": [
    "## Terms"
   ]
  },
  {
   "cell_type": "markdown",
   "metadata": {},
   "source": [
    "* [ [w](https://en.wikipedia.org/wiki/Audit_trail) ] Audit Trail\n",
    "* [ [w](https://en.wikipedia.org/wiki/Computer_forensics) ] Computer Forensics\n",
    "* [ [w](https://en.wikipedia.org/wiki/Digital_forensics) ] Digital Forensics\n",
    "* [ [w](https://en.wikipedia.org/wiki/List_of_digital_forensics_tools) ] Digital Forensics Tools\n",
    "* [ [w](https://en.wikipedia.org/wiki/Network_forensics) ] Network Forensics\n",
    "* [ [w](https://en.wikipedia.org/wiki/Software_forensics) ] Software Forensics"
   ]
  },
  {
   "cell_type": "markdown",
   "metadata": {},
   "source": [
    "---"
   ]
  }
 ],
 "metadata": {
  "language_info": {
   "name": "python"
  }
 },
 "nbformat": 4,
 "nbformat_minor": 2
}
