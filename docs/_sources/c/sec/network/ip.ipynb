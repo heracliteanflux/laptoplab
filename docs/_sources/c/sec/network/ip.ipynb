{
 "cells": [
  {
   "cell_type": "markdown",
   "metadata": {},
   "source": [
    "# Internet Protocol"
   ]
  },
  {
   "cell_type": "markdown",
   "metadata": {},
   "source": [
    "---"
   ]
  },
  {
   "cell_type": "markdown",
   "metadata": {},
   "source": [
    "## Table of Contents\n",
    "```{contents}\n",
    "```"
   ]
  },
  {
   "cell_type": "markdown",
   "metadata": {},
   "source": [
    "---"
   ]
  },
  {
   "cell_type": "markdown",
   "metadata": {},
   "source": [
    "## Addresses"
   ]
  },
  {
   "cell_type": "markdown",
   "metadata": {},
   "source": [
    "---"
   ]
  },
  {
   "cell_type": "markdown",
   "metadata": {},
   "source": [
    "### IPv4"
   ]
  },
  {
   "cell_type": "markdown",
   "metadata": {},
   "source": [
    "An IPv4 address consists of four octets (where an octet is two bytes or eight bits) for a total of 32 bits each octet of which is separated by a period. The IPv4 address space makes room for almost 4.3 billion unique addresses.\n",
    "\n",
    "$\n",
    "\\underbrace{11111111}_{255}.\\underbrace{11111111}_{255}.\\underbrace{11111111}_{255}.\\underbrace{00000000}_{0} \\\\\n",
    "$"
   ]
  },
  {
   "cell_type": "code",
   "execution_count": 7,
   "metadata": {},
   "outputs": [
    {
     "name": "stdout",
     "output_type": "stream",
     "text": [
      "number of unique IP addresses: 4,294,967,296\n"
     ]
    }
   ],
   "source": [
    "print(f'number of unique IP addresses: {2**32:,}')"
   ]
  },
  {
   "cell_type": "markdown",
   "metadata": {},
   "source": [
    "#### 1981-1993: Classful IPv4"
   ]
  },
  {
   "cell_type": "markdown",
   "metadata": {},
   "source": [
    "The classful network addressing architecture was in use from 1981 to 1993 when it was superseded by the classless network addressing architecture. Prior to 1981, a handful of networks were designated by 8-bit network IDs none of which exceeded ID 64 (1000000 base 2). These networks formed the basis of Class A of the classful network addressing architecture.\n",
    "\n",
    "Class A networks were designated by a `0` high bit and consisted of a 7-bit network ID (NID) and a 24-bit host ID (HID); Class B, `10` high bits, a 14-bit NID and a 16-bit HID; Class C, `110` high bits, a 21-bit NID and an 8-bit HID. Classes D and E by `1110` and `1111` high bits respectively but were never defined completely. An all-zero bit HID represented the network address and an all-one bit HID represented the broadcast address.\n",
    "\n",
    "Many organizations that were delegated Class C networks needed more address space but Class B networks were much larger than what most required and were quickly depleted."
   ]
  },
  {
   "cell_type": "markdown",
   "metadata": {},
   "source": [
    "<div class=\"full-width\">\n",
    "\n",
    "$\n",
    "\\begin{aligned}\n",
    "0.0.0.0-127.255.255.255 && 0\\underbrace{000\\,0000}_{\\text{NID}}.\\underbrace{0000\\,0000.0000\\,0000.0000\\,0000}_{\\text{HID}}-0\\underbrace{111\\,1111}_{127}.\\underbrace{1111\\,1111}_{255}.\\underbrace{1111\\,1111}_{255}.\\underbrace{1111\\,1111}_{255} && \\text{128 Class A networks with 16,777,216-2 hosts per network} \\\\\n",
    "128.0.0.0-191.255.255.255 && 10\\underbrace{00\\,0000.0000\\,0000}_{\\text{NID}}.\\underbrace{0000\\,0000.0000\\,0000}_{\\text{HID}}-10\\underbrace{11\\,1111.1111\\,1111}_{16,383}.\\underbrace{1111\\,1111}_{255}.\\underbrace{1111\\,1111}_{255} && \\text{16,384 Class B networks with 65,536-2 hosts per network} \\\\\n",
    "192.0.0.0-223.255.255.255 && 110\\underbrace{0\\,0000.0000\\,0000.0000\\,0000}_{\\text{NID}}.\\underbrace{0000\\,0000}_{\\text{HID}}-110\\underbrace{1\\,1111.1111\\,1111.1111\\,1111}_{2,097,151}.\\underbrace{1111\\,1111}_{255} && \\text{2,097,152 Class C networks with 256-2 hosts per network} \\\\\n",
    "224.0.0.0-239.255.255.255 && 1110\\,\\underbrace{0000.0000\\,0000.0000\\,0000.0000\\,0000}_{0}-1110\\,\\underbrace{1111.1111\\,1111.1111\\,1111.1111\\,1111}_{268,435,455} && 2^{28} = 268,435,456 \\text{ addresses: Class D network} \\\\\n",
    "240.0.0.0-255.255.255.255 && 1111\\,\\underbrace{0000.0000\\,0000.0000\\,0000.0000\\,0000}_{0}-1111\\,\\underbrace{1111.1111\\,1111.1111\\,1111.1111\\,1111}_{268,435,455} && 2^{28} = 268,435,456 \\text{ addresses: Class E network} \\\\\n",
    "\\end  {aligned}\n",
    "$\n",
    "\n",
    "</div>"
   ]
  },
  {
   "cell_type": "markdown",
   "metadata": {},
   "source": [
    "Class A example\n",
    "\n",
    "$\n",
    "\\begin{aligned}\n",
    "  0.  0.  0.  0 && \\text{network address} \\\\\n",
    "  0.255.255.255 && \\text{broadcast address} \\\\\n",
    "255.  0.  0.  0 && \\text{subnet mask} \\\\\n",
    "\\end  {aligned}\n",
    "$\n",
    "\n",
    "Class B example\n",
    "\n",
    "$\n",
    "\\begin{aligned}\n",
    "128.  0.  0.  0 && \\text{network address} \\\\\n",
    "128.  0.255.255 && \\text{broadcast address} \\\\\n",
    "255.255.  0.  0 && \\text{subnet mask} \\\\\n",
    "\\end  {aligned}\n",
    "$\n",
    "\n",
    "Class C example\n",
    "\n",
    "$\n",
    "\\begin{aligned}\n",
    "192.  0.  0.  0 && \\text{network address} \\\\\n",
    "192.  0.  0.255 && \\text{broadcast address} \\\\\n",
    "255.255.255.  0 && \\text{subnet mask} \\\\\n",
    "\\end  {aligned}\n",
    "$"
   ]
  },
  {
   "cell_type": "markdown",
   "metadata": {},
   "source": [
    "#### Post 1993: Classless IPv4"
   ]
  },
  {
   "cell_type": "markdown",
   "metadata": {},
   "source": [
    "<div class=\"full-width\">\n",
    "\n",
    "$\n",
    "\\begin{aligned}\n",
    "    && \\text{subnet mask} && 2^{\\text{address length}-\\text{prefix length}} &= \\text{number of addresses} \\\\\n",
    " /1 && \\underbrace{1000\\,0000}_{128}.\\underbrace{0000\\,0000}_{  0}.\\underbrace{0000\\,0000}_{0  }.\\underbrace{0000\\,0000}_{0  } && 2^{32- 1} &= 2,147,483,648 \\\\\n",
    " /2 && \\underbrace{1100\\,0000}_{192}.\\underbrace{0000\\,0000}_{  0}.\\underbrace{0000\\,0000}_{0  }.\\underbrace{0000\\,0000}_{0  } && 2^{32- 2} &= 1,073,741,824 \\\\\n",
    " /3 && \\underbrace{1110\\,0000}_{224}.\\underbrace{0000\\,0000}_{  0}.\\underbrace{0000\\,0000}_{0  }.\\underbrace{0000\\,0000}_{0  } && 2^{32- 3} &=   536,870,912 \\\\\n",
    " /4 && \\underbrace{1111\\,0000}_{240}.\\underbrace{0000\\,0000}_{  0}.\\underbrace{0000\\,0000}_{0  }.\\underbrace{0000\\,0000}_{0  } && 2^{32- 4} &=   268,435,456 \\\\\n",
    " /5 && \\underbrace{1111\\,1000}_{248}.\\underbrace{0000\\,0000}_{  0}.\\underbrace{0000\\,0000}_{0  }.\\underbrace{0000\\,0000}_{0  } && 2^{32- 5} &=   134,217,728 \\\\\n",
    " /6 && \\underbrace{1111\\,1100}_{252}.\\underbrace{0000\\,0000}_{  0}.\\underbrace{0000\\,0000}_{0  }.\\underbrace{0000\\,0000}_{0  } && 2^{32- 6} &=    67,108,864 \\\\\n",
    " /7 && \\underbrace{1111\\,1110}_{254}.\\underbrace{0000\\,0000}_{  0}.\\underbrace{0000\\,0000}_{0  }.\\underbrace{0000\\,0000}_{0  } && 2^{32- 7} &=    33,554,432 \\\\\n",
    " /8 && \\underbrace{1111\\,1111}_{255}.\\underbrace{0000\\,0000}_{  0}.\\underbrace{0000\\,0000}_{0  }.\\underbrace{0000\\,0000}_{0  } && 2^{32- 8} &=    16,777,216 \\\\\n",
    "/16 && \\underbrace{1111\\,1111}_{255}.\\underbrace{1111\\,1111}_{255}.\\underbrace{0000\\,0000}_{0  }.\\underbrace{0000\\,0000}_{0  } && 2^{32-16} &=        65,536 \\\\\n",
    "/24 && \\underbrace{1111\\,1111}_{255}.\\underbrace{1111\\,1111}_{255}.\\underbrace{1111\\,1111}_{255}.\\underbrace{0000\\,0000}_{0  } && 2^{32-24} &=           256 \\\\\n",
    "/32 && \\underbrace{1111\\,1111}_{255}.\\underbrace{1111\\,1111}_{255}.\\underbrace{1111\\,1111}_{255}.\\underbrace{1111\\,1111}_{255} && 2^{32-32} &=             1 \\\\\n",
    "\\end  {aligned}\n",
    "$\n",
    "\n",
    "</div>"
   ]
  },
  {
   "cell_type": "markdown",
   "metadata": {},
   "source": [
    "#### IPv4 Private Address"
   ]
  },
  {
   "cell_type": "markdown",
   "metadata": {},
   "source": [
    "<div class=\"full-width\">\n",
    "\n",
    "$\n",
    "\\begin{aligned}\n",
    "10.0.0.8/8     && \\underbrace{0000\\,1010}_{10}.\\underbrace{0000\\,0000}_{0}.\\underbrace{0000\\,0000}_{0}.\\underbrace{0000\\,0000}_{0}-\\underbrace{0000\\,1010}_{10}.\\underbrace{1111\\,1111}_{255}.\\underbrace{1111\\,1111}_{255}.\\underbrace{1111\\,1111}_{255} && \\text{1 class A network} \\\\\n",
    "172.16.0.0/12  && \\underbrace{1010\\,1100}_{172}.\\underbrace{0001\\,0000}_{16}.\\underbrace{0000\\,0000}_{0}.\\underbrace{0000\\,0000}_{0}-\\underbrace{1010\\,1100}_{172}.\\underbrace{0001\\,1111}_{31}.\\underbrace{1111\\,1111}_{255}.\\underbrace{1111\\,1111}_{255} && \\text{16 class B networks} \\\\\n",
    "192.168.0.0/16 && \\underbrace{1100\\,0000}_{192}.\\underbrace{1010\\,1000}_{168}.\\underbrace{0000\\,0000}_{0}.\\underbrace{0000\\,0000}_{0}-\\underbrace{1100\\,0000}_{192}.\\underbrace{1010\\,1000}_{168}.\\underbrace{1111\\,1111}_{255}.\\underbrace{1111\\,1111}_{255} && \\text{256 class C networks} \\\\\n",
    "\\end  {aligned}\n",
    "$\n",
    "\n",
    "</div>"
   ]
  },
  {
   "cell_type": "code",
   "execution_count": 8,
   "metadata": {},
   "outputs": [
    {
     "name": "stdout",
     "output_type": "stream",
     "text": [
      "number of unique  10.  0.0.8/ 8 addresses:   16,777,216\n",
      "number of unique 100. 64.0.0/10 addresses:    4,194,304\n",
      "number of unique 172. 16.0.0/12 addresses:    1,048,576\n",
      "number of unique 192.168.0.0/16 addresses:       65,536\n"
     ]
    }
   ],
   "source": [
    "print(f'number of unique  10.  0.0.8/ 8 addresses:   {   256**3:>10,}')\n",
    "print(f'number of unique 100. 64.0.0/10 addresses:   {64*256**2:>10,}')\n",
    "print(f'number of unique 172. 16.0.0/12 addresses:   {16*256**2:>10,}')\n",
    "print(f'number of unique 192.168.0.0/16 addresses:   {   256**2:>10,}')"
   ]
  },
  {
   "cell_type": "markdown",
   "metadata": {},
   "source": [
    "#### Carrier Grade NAT Address"
   ]
  },
  {
   "cell_type": "markdown",
   "metadata": {},
   "source": [
    "<div class=\"full-width\">\n",
    "\n",
    "$\n",
    "\\begin{aligned}\n",
    "100.64.0.0/10  && \\underbrace{0110\\,0100}_{100}.\\underbrace{0100\\,0000}_{64}.\\underbrace{0000\\,0000}_{0}.\\underbrace{0000\\,0000}_{0}-\\underbrace{0110\\,0100}_{100}.\\underbrace{0111\\,1111}_{127}.\\underbrace{1111\\,1111}_{255}.\\underbrace{1111\\,1111}_{255} && \\text{64 class B networks for Carrier-Grade NAT} \\\\\n",
    "\\end  {aligned}\n",
    "$\n",
    "\n",
    "</div>"
   ]
  },
  {
   "cell_type": "markdown",
   "metadata": {},
   "source": [
    "#### Link-Local Address"
   ]
  },
  {
   "cell_type": "markdown",
   "metadata": {},
   "source": [
    "$\n",
    "169.254.0.0/16\n",
    "$"
   ]
  },
  {
   "cell_type": "markdown",
   "metadata": {},
   "source": [
    "#### Loopback Address"
   ]
  },
  {
   "cell_type": "markdown",
   "metadata": {},
   "source": [
    "$127.0.0.0/8$\n",
    "\n",
    "$127.0.0.1$"
   ]
  },
  {
   "cell_type": "markdown",
   "metadata": {},
   "source": [
    "---"
   ]
  },
  {
   "cell_type": "markdown",
   "metadata": {},
   "source": [
    "### IPv6"
   ]
  },
  {
   "cell_type": "markdown",
   "metadata": {},
   "source": [
    "An IPv6 address consists of eight groups of up to four hexadecimal digits for a total of 32 hexadecimal digits (or 128 bits) each group of which is separated by a colon. The IPv6 address space makes room for over three hundred forty trillion trillion trillion addresses.\n",
    "\n",
    "$\\underbrace{\\text{FFFF}}_{65,536}:\\text{FFFF}:\\text{FFFF}:\\text{FFFF}:\\text{FFFF}:\\text{FFFF}:\\text{FFFF}:\\text{FFFF}$"
   ]
  },
  {
   "cell_type": "code",
   "execution_count": 9,
   "metadata": {},
   "outputs": [
    {
     "name": "stdout",
     "output_type": "stream",
     "text": [
      "number of IP addresses: 340,282,366,920,938,463,463,374,607,431,768,211,456\n"
     ]
    }
   ],
   "source": [
    "print(f'number of IP addresses: {16**32:,}')"
   ]
  },
  {
   "cell_type": "markdown",
   "metadata": {},
   "source": [
    "<div class=\"full-width\">\n",
    "\n",
    "$\n",
    "\\begin{aligned}\n",
    "    && \\text{subnet mask} && 2^{\\text{address length}-\\text{prefix length}} &= \\text{number of addresses} \\\\\n",
    " /1 && \\text{8000}:\\text{0000}:\\text{0000}:\\text{0000}:\\text{0000}:\\text{0000}:\\text{0000}:\\text{0000} && 2^{64- 1} &= 9,223,372,036,854,775,808 \\\\\n",
    " /2 && \\text{C000}:\\text{0000}:\\text{0000}:\\text{0000}:\\text{0000}:\\text{0000}:\\text{0000}:\\text{0000} && 2^{64- 2} &= 4,611,686,018,427,387,904 \\\\\n",
    " /3 && \\text{E000}:\\text{0000}:\\text{0000}:\\text{0000}:\\text{0000}:\\text{0000}:\\text{0000}:\\text{0000} && 2^{64- 3} &= 2,305,843,009,213,693,952 \\\\\n",
    " /4 && \\text{F000}:\\text{0000}:\\text{0000}:\\text{0000}:\\text{0000}:\\text{0000}:\\text{0000}:\\text{0000} && 2^{64- 4} &= 1,152,921,504,606,846,976 \\\\\n",
    " /5 && \\text{F800}:\\text{0000}:\\text{0000}:\\text{0000}:\\text{0000}:\\text{0000}:\\text{0000}:\\text{0000} && 2^{64- 5} &=   576,460,752,303,423,488 \\\\\n",
    " /6 && \\text{FC00}:\\text{0000}:\\text{0000}:\\text{0000}:\\text{0000}:\\text{0000}:\\text{0000}:\\text{0000} && 2^{64- 6} &=   288,230,376,151,711,744 \\\\\n",
    " /7 && \\text{FE00}:\\text{0000}:\\text{0000}:\\text{0000}:\\text{0000}:\\text{0000}:\\text{0000}:\\text{0000} && 2^{64- 7} &=   144,115,188,075,855,872 \\\\\n",
    " /8 && \\text{FF00}:\\text{0000}:\\text{0000}:\\text{0000}:\\text{0000}:\\text{0000}:\\text{0000}:\\text{0000} && 2^{64- 8} &=    72,057,594,037,927,936 \\\\\n",
    "/16 && \\text{FFFF}:\\text{0000}:\\text{0000}:\\text{0000}:\\text{0000}:\\text{0000}:\\text{0000}:\\text{0000} && 2^{64-16} &=       281,474,976,710,656 \\\\\n",
    "/24 && \\text{FFFF}:\\text{FF00}:\\text{0000}:\\text{0000}:\\text{0000}:\\text{0000}:\\text{0000}:\\text{0000} && 2^{64-24} &=         1,099,511,627,776 \\\\\n",
    "/32 && \\text{FFFF}:\\text{FFFF}:\\text{0000}:\\text{0000}:\\text{0000}:\\text{0000}:\\text{0000}:\\text{0000} && 2^{64-32} &=             4,294,967,296 \\\\\n",
    "/40 && \\text{FFFF}:\\text{FFFF}:\\text{FF00}:\\text{0000}:\\text{0000}:\\text{0000}:\\text{0000}:\\text{0000} && 2^{64-40} &=                16,777,216 \\\\\n",
    "/48 && \\text{FFFF}:\\text{FFFF}:\\text{FFFF}:\\text{0000}:\\text{0000}:\\text{0000}:\\text{0000}:\\text{0000} && 2^{64-48} &=                    65,536 \\\\\n",
    "/56 && \\text{FFFF}:\\text{FFFF}:\\text{FFFF}:\\text{FF00}:\\text{0000}:\\text{0000}:\\text{0000}:\\text{0000} && 2^{64-56} &=                       256 \\\\\n",
    "/64 && \\text{FFFF}:\\text{FFFF}:\\text{FFFF}:\\text{FFFF}:\\text{0000}:\\text{0000}:\\text{0000}:\\text{0000} && 2^{64-64} &=                         1 \\\\\n",
    "\\end  {aligned}\n",
    "$\n",
    "\n",
    "</div>"
   ]
  },
  {
   "cell_type": "markdown",
   "metadata": {},
   "source": [
    "Link-Local Address\n",
    "\n",
    "$\\underbrace{\\text{FE80}}_{65,152}::/10$"
   ]
  },
  {
   "cell_type": "markdown",
   "metadata": {},
   "source": [
    "Unique Local Address\n",
    "\n",
    "$\\underbrace{\\text{FC00}}_{64,512}::/7$"
   ]
  },
  {
   "cell_type": "markdown",
   "metadata": {},
   "source": [
    "#### Loopback Address"
   ]
  },
  {
   "cell_type": "markdown",
   "metadata": {},
   "source": [
    "$::1/128$"
   ]
  },
  {
   "cell_type": "markdown",
   "metadata": {},
   "source": [
    "---"
   ]
  },
  {
   "cell_type": "markdown",
   "metadata": {},
   "source": [
    "## Resources"
   ]
  },
  {
   "cell_type": "markdown",
   "metadata": {},
   "source": [
    "* [ [article](https://blogs.infoblox.com/ipv6-coe/fe80-1-is-a-perfectly-valid-ipv6-default-gateway-address/) ] `08-09-2017`. \"FE80::1 IS A PERFECTLY VALID IPV6 DEFAULT GATEWAY ADDRESS\".\n",
    "* [ [DOD HPC](https://www.hpc.mil/solution-areas/networking/ipv6-knowledge-base) ] \"IPv6 Knowledge Base\".\n",
    "* https://pall.as/ipv6-on-mac\n",
    "* https://cdcloudlogix.com/simple-guide-pi-hole-on-raspberry-pi-with-ipv6/\n",
    "* https://www.reddit.com/r/pihole/comments/ly2qj4/enabling_ipv6_on_pihole_and_using_unbound/"
   ]
  },
  {
   "cell_type": "markdown",
   "metadata": {},
   "source": [
    "---"
   ]
  },
  {
   "cell_type": "markdown",
   "metadata": {},
   "source": [
    "## Figures"
   ]
  },
  {
   "cell_type": "markdown",
   "metadata": {},
   "source": [
    "* [ [w](https://en.wikipedia.org/wiki/Phil_Karn) ] `1956-----` Karn, Phil"
   ]
  },
  {
   "cell_type": "markdown",
   "metadata": {},
   "source": [
    "---"
   ]
  },
  {
   "cell_type": "markdown",
   "metadata": {},
   "source": [
    "## Terms"
   ]
  },
  {
   "cell_type": "markdown",
   "metadata": {},
   "source": [
    "* [ [w](https://en.wikipedia.org/wiki/Address_space) ] Address Space\n",
    "* [ [w](https://en.wikipedia.org/wiki/Broadcast_address) ] Broadcast Address\n",
    "* [ [w](https://en.wikipedia.org/wiki/Carrier-grade_NAT) ] Carrier-Grade NAT\n",
    "* [ [w](https://en.wikipedia.org/wiki/Classful_network) ] Classful Network\n",
    "* [ [w](https://en.wikipedia.org/wiki/Classless_Inter-Domain_Routing) ] Classless Inter-Domain Routing (CIDR) [ [RFC1518](https://datatracker.ietf.org/doc/html/rfc1518) ] [ [RFC1519](https://datatracker.ietf.org/doc/html/rfc1519) ] [ [RFC4632](https://datatracker.ietf.org/doc/html/rfc4632) ]\n",
    "* [ [w](https://en.wikipedia.org/wiki/Dot-decimal_notation) ] Dotted Decimal Notation\n",
    "* [ [w](https://en.wikipedia.org/wiki/Internet_Assigned_Numbers_Authority) ] Internet Assigned Numbers Authority (IANA)\n",
    "* [ [w](https://en.wikipedia.org/wiki/IP_address) ] IP Address\n",
    "* [ [w](https://en.wikipedia.org/wiki/Internet_Protocol_version_4) ] IPv4\n",
    "* [ [w](https://en.wikipedia.org/wiki/IPv4_address_exhaustion) ] IPv4 Address Exhaustion\n",
    "* [ [w](https://en.wikipedia.org/wiki/IPv4_shared_address_space) ] IPv4 Shared Address Space\n",
    "* [ [w](https://en.wikipedia.org/wiki/IPv6) ] IPv6\n",
    "* [ [w](https://en.wikipedia.org/wiki/IPv6_address) ] IPv6 Address\n",
    "* [ [w](https://en.wikipedia.org/wiki/Internet_Protocol) ] Internet Protocol (IP)\n",
    "* [ [w](https://en.wikipedia.org/wiki/Link-local_address) ] Link-Local Address\n",
    "* [ [w](https://en.wikipedia.org/wiki/Loopback) ] Loopback Address\n",
    "* [ [w](https://en.wikipedia.org/wiki/Multicast_address) ] Multicast Address [ [pcmag](https://www.pcmag.com/encyclopedia/term/ip-multicast) ]\n",
    "* [ [w](https://en.wikipedia.org/wiki/Network_address) ] Network Address\n",
    "* [ [w](https://en.wikipedia.org/wiki/Private_network) ] Private Address [ [RFC1918](https://datatracker.ietf.org/doc/html/rfc1918) ]\n",
    "* [ w ] [ [RFC751](https://datatracker.ietf.org/doc/html/rfc791) ]\n",
    "* [ w ] Stateless Address Auto Configuration (SLAAC) [ [RFC4862](https://datatracker.ietf.org/doc/html/rfc4862) ]\n",
    "* [ [w](https://en.wikipedia.org/wiki/Subnet) ] Subnet [ [RFC950](https://datatracker.ietf.org/doc/html/rfc950) ]\n",
    "* [ [w](https://en.wikipedia.org/wiki/Unique_local_address) ] Unique Local Address (ULA)"
   ]
  },
  {
   "cell_type": "markdown",
   "metadata": {},
   "source": [
    "---"
   ]
  }
 ],
 "metadata": {
  "kernelspec": {
   "display_name": "ml",
   "language": "python",
   "name": "python3"
  },
  "language_info": {
   "codemirror_mode": {
    "name": "ipython",
    "version": 3
   },
   "file_extension": ".py",
   "mimetype": "text/x-python",
   "name": "python",
   "nbconvert_exporter": "python",
   "pygments_lexer": "ipython3",
   "version": "3.11.5"
  }
 },
 "nbformat": 4,
 "nbformat_minor": 2
}
