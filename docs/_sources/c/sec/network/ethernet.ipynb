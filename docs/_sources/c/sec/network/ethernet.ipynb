{
 "cells": [
  {
   "cell_type": "markdown",
   "metadata": {},
   "source": [
    "# Ethernet"
   ]
  },
  {
   "cell_type": "markdown",
   "metadata": {},
   "source": [
    "---"
   ]
  },
  {
   "cell_type": "markdown",
   "metadata": {},
   "source": [
    "## Table of Contents\n",
    "```{contents}\n",
    "```"
   ]
  },
  {
   "cell_type": "markdown",
   "metadata": {},
   "source": [
    "---"
   ]
  },
  {
   "cell_type": "markdown",
   "metadata": {},
   "source": [
    "### Coaxial"
   ]
  },
  {
   "cell_type": "markdown",
   "metadata": {},
   "source": [
    "* Oliver Heaviside\n",
    "* conducts electromagnetic waves\n",
    "* two concentric copper conductors separated by a dielectric insulating layer"
   ]
  },
  {
   "cell_type": "markdown",
   "metadata": {},
   "source": [
    "---"
   ]
  },
  {
   "cell_type": "markdown",
   "metadata": {},
   "source": [
    "## Resources"
   ]
  },
  {
   "cell_type": "markdown",
   "metadata": {},
   "source": [
    "Brands - Cable\n",
    "* [ [h](https://www.belden.com/) ] Belden\n",
    "* [ [h](https://www.commscope.com/) ] CommScope\n",
    "* [ [h](https://www.monoprice.com/) ] Monoprice\n",
    "* [ [h](https://www.verticalcable.com/) ] Vertical Cable"
   ]
  },
  {
   "cell_type": "markdown",
   "metadata": {},
   "source": [
    "Brands - Tools\n",
    "* [ [h](https://www.techtoolsupply.com/Cable-Ferret-720p-WiFi-Glow-Rod-Inspection-Camera-p/cfwf50a-kit2.htm) ] TechToolSupply - Cable Ferret\n",
    "* [ [h](https://www.techtoolsupply.com/Magnepull-Wire-Fishing-System-p/magnepull_lt.htm) ] TechToolSupply - Magenpull"
   ]
  },
  {
   "cell_type": "markdown",
   "metadata": {},
   "source": [
    "* [ [y](https://www.youtube.com/watch?v=chsZZh-dZRw) ] `04-03-2018`. Budget Nerd. \"How to Add a Network Jack to a Wall\".\n",
    "* [ [y](https://www.youtube.com/watch?v=VN1PTdOak6g) ] `11-17-2020`. Crosstalk Solutions. \"CAT6 Wall Fishing\".\n",
    "* [ [y](https://www.youtube.com/watch?v=O95FJuzHaxQ) ] `07-23-2021`. DPC Technology. \"Wall Wire Fishing Master Class: Run Cables in ANY Wall like a Pro!\".\n",
    "* [ [y](https://www.youtube.com/watch?v=rZKVPuInQ2Y) ] `10-09-2019`. Electrician U. \"Terminating/Testing Network Cables - CAT 3, CAT5, CAT6, CAT 7, CAT 8\".\n",
    "* [ [y](https://www.youtube.com/watch?v=uFBQsUwqy_g) ] `05-23-2021`. Explaining Computers. \"Wiring Ethernet Extensions: How to Fit Sockets & Make Patch Leads\".\n",
    "* [ [y](https://www.youtube.com/watch?v=rQWTiD2LOjI) ] `04-30-2022`. How To Home. \"Uncommon Tricks to Fish Wire Through Walls and Ceilings Quickly | How To\".\n",
    "* [ [y](https://www.youtube.com/watch?v=b4Wp4SzdNj4) ] `11-06-2019`. Linus Tech Tips. \"Home 10 Gig Network Upgrade for CHEAP\".\n",
    "* [ [y](https://www.youtube.com/watch?v=vNmSp4QLcxs) ] `03-09-2021`. Snazzy Labs. \"Adding 10 Gigabit Ethernet to my 129-Year-Old House!\".\n",
    "* [ [y](https://www.youtube.com/watch?v=rbCK8vqvP8s) ] `10-31-2022`. SPX Labs. \"Adding New Cat6A Ethernet Network Cable Around the House! Thanks to FS for Sponsoring this Install!\".\n",
    "* [ [y](https://www.youtube.com/watch?v=IHxTbtAEd-E) ] `11-29-2021`. Switched On Network. \"How to Wire Up Ethernet Wall Jacks (Cat5e / Cat6 / Cat7 keystone jack wiring tutorial)\".\n",
    "* [ [y](https://www.youtube.com/watch?v=QMpWkkqX1eM) ] `11-29-2021`. Switched On Network. \"How to Crimp Cat5 / Cat6 Network Patch Cables (RJ45 plugs)\".\n",
    "* [ [y](https://www.youtube.com/watch?v=NWhoJp8UQpo) ] `05-27-2021`. Switched On Network. \"How to Wire Up Ethernet Plugs the EASY WAY! (Cat5e / Cat6 RJ45 Pass Through Connectors)\".\n",
    "* [ [y](https://www.youtube.com/watch?v=UPX275oeswg) ] `11-28-2023`. Tech Overwrite. \"Grounding My Outdoor Ethernet Cables (Ubiquiti ETH-SP-G2 Surge Protector Install)\".\n",
    "* [ [y](https://www.youtube.com/watch?v=nJhPoW6ddas) ] `12-28-2021`. Ubiquiti. \"UniFi: Beginner’s Guide to Network Cabling | Part 3 - Small & Medium Business w/ UniFi Design Center\".\n",
    "* [ [y](https://www.youtube.com/watch?v=bMr-z6TUmWQ) ] `12-06-2021`. Ubiquiti. \"UniFi: Beginner’s Guide to Network Cabling | Part 2 - Home Installation with UniFi Design Center\".\n",
    "* [ [y](https://www.youtube.com/watch?v=-uVubQlLiI0) ] `10-21-2021`. Ubiquiti. \"UniFi: Beginner’s Guide to Network Cabling | Part 1 - Cable Types & Termination\".\n",
    "* [ [y](https://www.youtube.com/watch?v=cwNucmdnPgU) ] `02-28-2024`. Ultimate Tech Hub. \"CAT7 VERSUS CAT8 - WHICH ETHERNET CABLE FOR YOUR HOME NETWORK?\".\n",
    "* [ [y](https://www.youtube.com/watch?v=qcET-OgrCCY) ] `05-01-2021`. Ultimate Tech Hub. \"CAT6 CABLE RUN AND CAT6 WALL FISHING - HOW TO - QUICK & EASY!\"."
   ]
  },
  {
   "cell_type": "markdown",
   "metadata": {},
   "source": [
    "---"
   ]
  },
  {
   "cell_type": "markdown",
   "metadata": {},
   "source": [
    "## Terms"
   ]
  },
  {
   "cell_type": "markdown",
   "metadata": {},
   "source": [
    "Ethernet\n",
    "* [ [w](https://en.wikipedia.org/wiki/10BASE5) ] 10Base5 (Thick Ethernet)\n",
    "* [ [w](https://en.wikipedia.org/wiki/10BASE2) ] 10Base2 (Thin Ethernet)\n",
    "* [ [w](https://en.wikipedia.org/wiki/100BaseVG) ] 100BaseVG\n",
    "* [ [w](https://en.wikipedia.org/wiki/2.5GBASE-T_and_5GBASE-T) ] 2.5GBASE-T\n",
    "* [ [w](https://en.wikipedia.org/wiki/2.5GBASE-T_and_5GBASE-T) ] 5GBASE-T"
   ]
  },
  {
   "cell_type": "markdown",
   "metadata": {},
   "source": [
    "* [ [w](https://en.wikipedia.org/wiki/IEEE_802.3) ] IEEE 802.3\n",
    "* [ [w](https://en.wikipedia.org/wiki/Ethernet_over_twisted_pair) ] Ethernet over Twisted Pair\n",
    "* [ [w](https://en.wikipedia.org/wiki/Fast_Ethernet) ] Fast Ethernet (FE)\n",
    "* [ [w](https://en.wikipedia.org/wiki/Gigabit_Ethernet) ] Gigabit Ethernet (GbE)\n",
    "* [ [w](https://en.wikipedia.org/wiki/10_Gigabit_Ethernet) ] 10 Gigabit Ethernet (10GbE)\n",
    "* [ [w](https://en.wikipedia.org/wiki/100_Gigabit_Ethernet) ] 40 Gigabit Ethernet (40GbE)\n",
    "* [ [w](https://en.wikipedia.org/wiki/100_Gigabit_Ethernet) ] 100 Gigabit Ethernet (100GbE)\n",
    "* [ [w](https://en.wikipedia.org/wiki/Terabit_Ethernet) ] Terabit Ethernet (TbE)\n",
    "\n",
    "[ [w](https://en.wikipedia.org/wiki/Telecommunications_Industry_Association) ] Telecommunications Industry Association (TIA)\n",
    "* [ [w](https://en.wikipedia.org/wiki/ANSI/TIA-568) ] ANSI/TIA-568"
   ]
  },
  {
   "cell_type": "markdown",
   "metadata": {},
   "source": [
    "Ethernet | Bandwidth\n",
    "---------|----------\n",
    "10Base5  | 10 Mbps\n",
    "10Base2  | 10 Mbps"
   ]
  },
  {
   "cell_type": "markdown",
   "metadata": {},
   "source": [
    "Cat\n",
    "* [ [w](https://en.wikipedia.org/wiki/Category_1_cable) ] Cat 1\n",
    "* [ [w](https://en.wikipedia.org/wiki/Category_2_cable) ] Cat 2\n",
    "* [ [w](https://en.wikipedia.org/wiki/Category_3_cable) ] Cat 3\n",
    "* [ [w](https://en.wikipedia.org/wiki/Category_5_cable) ] Cat 5\n",
    "* [ w ] Cat 5e\n",
    "* [ [w](https://en.wikipedia.org/wiki/Category_6_cable) ] Cat 6\n",
    "* [ w ] Cat 6a\n",
    "* [ w ] Cat 7\n",
    "* [ w ] Cat 8"
   ]
  },
  {
   "cell_type": "markdown",
   "metadata": {},
   "source": [
    "Category | Max Frequency | Max Bandwidth | Other\n",
    "---------|---------------|---------------|------\n",
    "Cat 1    | 1 MHz         |               | UTP voice-grade copper\n",
    "Cat 2    | 4 MHz         |  4 Mbps       | 4-pair UTP\n",
    "Cat 3    |               | 10 Mbps       | 2,3,4-pair UTP station wire, voice-grade\n",
    "Cat 5    | 100 MHz       | \n",
    "Cat 6    | 250 MHz       |"
   ]
  },
  {
   "cell_type": "markdown",
   "metadata": {},
   "source": [
    "---"
   ]
  },
  {
   "cell_type": "markdown",
   "metadata": {},
   "source": [
    "## Power over Ethernet"
   ]
  },
  {
   "cell_type": "markdown",
   "metadata": {},
   "source": [
    "2- and 4-Pair Ethernet\n",
    "* IEEE 802.3af-2003 (PoE) - up to 15.4 W on each port (12.95 W at the powered device)\n",
    "* IEEE 802.3at-2009 (PoE+) - up to 25.5 W for Type 2 devices\n",
    "* IEEE 802.3bt-2018 (PoE++ or 4PPoE) - up to 51 W for Type 3 devices and up to 71.3 W for Type 4 devices\n",
    "\n",
    "Single-Pair Ethernet\n",
    "* IEEE 802.3bu-2016 (Power over Data Lines)"
   ]
  },
  {
   "cell_type": "markdown",
   "metadata": {},
   "source": [
    "---"
   ]
  },
  {
   "cell_type": "markdown",
   "metadata": {},
   "source": [
    "## Rack"
   ]
  },
  {
   "cell_type": "markdown",
   "metadata": {},
   "source": [
    "Considerations\n",
    "* Accessibility\n",
    "  * removable sides, back\n",
    "* Cable Organization\n",
    "* Cooling\n",
    "  * active cooling: fans\n",
    "* Depth\n",
    "* Height\n",
    "* Lighting\n",
    "* Portability\n",
    "  * casters\n",
    "* Security\n",
    "  * lockable door\n",
    "* Soundproofing\n",
    "* Weight"
   ]
  },
  {
   "cell_type": "markdown",
   "metadata": {},
   "source": [
    "Brands\n",
    "* [ [h](https://acinfinity.com) ] AC Infinity\n",
    "* [ [h](https://www.echogear.com) ] Echogear\n",
    "* [ [h](https://www.lowellmfg.com) ] Lowell\n",
    "* [ [h](https://navepoint.com) ] Navepoint\n",
    "* [ [h](https://www.racksolutions.com) ] RackSolutions\n",
    "* [ [h](https://www.rackstuds.com) ] Rackstuds\n",
    "* [ [h](https://www.startech.com) ] StarTech\n",
    "* [ [h](https://sysracks.com) ] Sysracks\n",
    "* [ [h](https://zpasgroup.co.uk) ] ZPAS"
   ]
  },
  {
   "cell_type": "markdown",
   "metadata": {},
   "source": [
    "Rack Management\n",
    "* [ [w](https://en.wikipedia.org/wiki/19-inch_rack) ] 19\" Rack\n",
    "* [ [w](https://en.wikipedia.org/wiki/Cable_management) ] Cable Management\n",
    "* [ [w](https://en.wikipedia.org/wiki/Cage_nut) ] Cage Nut\n",
    "* [ [w](https://en.wikipedia.org/wiki/Customer-premises_equipment) ] Customer-Premises Equipment (CPE)\n",
    "* [ [w](https://en.wikipedia.org/wiki/Distribution_frame) ] Distribution Frame\n",
    "* [ [w](https://en.wikipedia.org/wiki/Electrical_enclosure) ] Electrical Enclosure\n",
    "* [ [w](https://en.wikipedia.org/wiki/Keystone_module) ] Keystone Module\n",
    "* [ [w](https://en.wikipedia.org/wiki/On-premises_wiring) ] On-Premises Wiring\n",
    "* [ [w](https://en.wikipedia.org/wiki/Patch_cable) ] Patch Cable\n",
    "* [ [w](https://en.wikipedia.org/wiki/Patch_panel) ] Patch Panel\n",
    "* [ [w](https://en.wikipedia.org/wiki/Punch_down_tool) ] Punchdown Tool\n",
    "* [ [w](https://en.wikipedia.org/wiki/Rack_unit) ] Rack Unit (U)\n",
    "* [ [w](https://en.wikipedia.org/wiki/Wiring_closet) ] Wiring Closet"
   ]
  },
  {
   "cell_type": "markdown",
   "metadata": {},
   "source": [
    "* [ [y](https://www.youtube.com/watch?v=MalRbgfQ1uE) ] `08-18-2023`. Cameron Gray. \"I can't believe how well this worked! Soundproofing & Cooling my Home Server Rack\"."
   ]
  },
  {
   "cell_type": "markdown",
   "metadata": {},
   "source": [
    "---"
   ]
  },
  {
   "cell_type": "markdown",
   "metadata": {},
   "source": [
    "## Terms"
   ]
  },
  {
   "cell_type": "markdown",
   "metadata": {},
   "source": [
    "* [ [w](https://en.wikipedia.org/wiki/25-pair_color_code) ] 25-Pair Color Code\n",
    "* [ [w](https://en.wikipedia.org/wiki/Coaxial_cable) ] Coaxial\n",
    "* [ [w](https://en.wikipedia.org/wiki/Copper_cable_certification) ] Copper Cable Certification\n",
    "* [ [w](https://en.wikipedia.org/wiki/Copper-clad_aluminium_wire) ] Copper-Clad Aluminum Wire (CCA)\n",
    "* [ [w](https://en.wikipedia.org/wiki/Crimp_(joining)) ] Crimp\n",
    "* [ [w](https://en.wikipedia.org/wiki/Crossover_cable) ] Crossover Cable\n",
    "* [ [w](https://en.wikipedia.org/wiki/Differential_signalling) ] Differential Signaling\n",
    "* [ [w](https://en.wikipedia.org/wiki/Ductility) ] Ductility\n",
    "* [ [w](https://en.wikipedia.org/wiki/Electronic_Industries_Alliance) ] Electronic Industries Alliance (EIA)\n",
    "* [ [w](https://en.wikipedia.org/wiki/Ethernet) ] Ethernet\n",
    "* [ [w](https://en.wikipedia.org/wiki/GG45) ] GG45\n",
    "* [ [w](https://en.wikipedia.org/wiki/ISO/IEC_11801) ] ISO/IEC 11801\n",
    "* [ [w](https://en.wikipedia.org/wiki/Modular_connector) ] Modular Connector\n",
    "  * 8P8C\n",
    "* [ [w](https://en.wikipedia.org/wiki/Power_over_Ethernet) ] Power over Ethernet (PoE)\n",
    "  * PoE+\n",
    "  * PoE++\n",
    "* [ [w](https://en.wikipedia.org/wiki/Registered_jack) ] Registered Jack (RJ)\n",
    "  * RJ11 one-line telephone\n",
    "  * RJ14 two-line telephone\n",
    "  * RJ25 three-line telephone\n",
    "* [ w ] RJ11 Phone Jack\n",
    "* [ w ] RJ45 Ethernet Jack\n",
    "* [ [w](https://en.wikipedia.org/wiki/Ribbon_cable) ] Ribbon Cable\n",
    "* [ [w](https://en.wikipedia.org/wiki/Shielded_cable) ] Shielded Cable\n",
    "* [ w ] Shielded Twisted Pair (STP)\n",
    "* [ [w](https://en.wikipedia.org/wiki/Single-ended_signaling) ] Single-Ended Signaling\n",
    "* [ [w](https://en.wikipedia.org/wiki/Structured_cabling) ] Structured Cabling\n",
    "* [ [w](https://en.wikipedia.org/wiki/TERA) ] TERA\n",
    "* [ [w](https://en.wikipedia.org/wiki/Twinaxial_cabling) ] Twinaxial\n",
    "* [ [w](https://en.wikipedia.org/wiki/Twisted_pair) ] Twisted Pair\n",
    "* [ w ] Unshielded Twisted Pair (UTP)"
   ]
  },
  {
   "cell_type": "markdown",
   "metadata": {},
   "source": [
    "---"
   ]
  }
 ],
 "metadata": {
  "language_info": {
   "name": "python"
  }
 },
 "nbformat": 4,
 "nbformat_minor": 2
}
