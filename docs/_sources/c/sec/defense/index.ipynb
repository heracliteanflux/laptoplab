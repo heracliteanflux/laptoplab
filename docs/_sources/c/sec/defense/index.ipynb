{
 "cells": [
  {
   "cell_type": "markdown",
   "metadata": {},
   "source": [
    "# Defensive Security"
   ]
  },
  {
   "cell_type": "markdown",
   "metadata": {},
   "source": [
    "---"
   ]
  },
  {
   "cell_type": "markdown",
   "metadata": {},
   "source": [
    "## Table of Contents\n",
    "```{contents}\n",
    "```"
   ]
  },
  {
   "cell_type": "markdown",
   "metadata": {},
   "source": [
    "---"
   ]
  },
  {
   "cell_type": "markdown",
   "metadata": {},
   "source": [
    "## Filtering (content, DNS, endpoint)"
   ]
  },
  {
   "cell_type": "markdown",
   "metadata": {},
   "source": [
    "* [ [h](https://zorustech.com/) ] Zorus"
   ]
  },
  {
   "cell_type": "markdown",
   "metadata": {},
   "source": [
    "* [ [y](https://www.youtube.com/watch?v=MeubLoEHW9E) ] `02-14-2023`. Lawrence Systems. \"Zorus Web Filtering Demo:Protect & Monitor Endpoints Anywhere Your Users Work\".\n",
    "* [ [y](https://www.youtube.com/watch?v=fZX2vtvxOEk) ] `07-12-2022`. Lawrence Systems. \"Content Filtering Solutions Using Firewall Or Endpoint Agents: Zorus, pfsense, Arista Untangle\"."
   ]
  },
  {
   "cell_type": "markdown",
   "metadata": {},
   "source": [
    "---"
   ]
  },
  {
   "cell_type": "markdown",
   "metadata": {},
   "source": [
    "## Firewall"
   ]
  },
  {
   "cell_type": "markdown",
   "metadata": {},
   "source": [
    "* [ h ][ w ] Arista Edge (formerly Untangle)\n",
    "* [ [h](https://firewalla.com/) ][ w ] Firewalla\n",
    "  * [ [y](https://www.youtube.com/watch?v=tIfCQNZ9wj8) ] `08-09-2023`. Lawrence Systems. \"My Thoughts on the Firewalla Firewall...\".\n",
    "* [ [h](https://www.fortinet.com/products/next-generation-firewall) ][ w ] Fortinet FortiGate\n",
    "* [ [h](https://www.glasswire.com) ][ w ] GlassWire\n",
    "* [ h ][ w ] Meraki\n",
    "* [ [h](https://m0n0.ch/wall/index.php) ][ [w](https://en.wikipedia.org/wiki/M0n0wall) ] m0n0wall\n",
    "* [ h ][ [w](https://en.wikipedia.org/wiki/OPNsense) ] OPNsense [ [reddit](https://www.reddit.com/r/OPNsenseFirewall/) ]\n",
    "  * [ [y](https://www.youtube.com/watch?v=dTUvlFfThPw) ] `04-01-2024`. Dave's Garage. \"OPNSense: Protect Your Home LAN With a Transparent Filtering Bridge with Step by Step Instructions\".\n",
    "  * [ [y](https://www.youtube.com/watch?v=CT3XNpWrFEE) ] `07-17-2023`. Dev Odyssey. \"Your network is wide open! // A Beginner's Guide to Firewall Rules in OPNsense\".\n",
    "  * [ [y](https://www.youtube.com/watch?v=CXp0CgilMRA) ] `11-04-2023`. Home Network Guy. \"Beginner's Guide to Set up a Full Network using OPNsense\".\n",
    "  * [ [y](https://www.youtube.com/watch?v=4HP-YAJX56E) ] `06-07-2023`. Home Network Guy. \"Set up a Full Network using OPNsense (Part 3: Cisco Switch)\".\n",
    "  * [ [y](https://www.youtube.com/watch?v=h2_cQxTkh3Q) ] `04-24-2023`. Home Network Guy. \"Set up a Full Network using OPNsense (Part 2: OPNsense)\".\n",
    "  * [ [y](https://www.youtube.com/watch?v=54JWsGedXpo) ] `04-08-2023`. Home Network Guy. \"Set up a Full Network using OPNsense (Part 1: Overview)\".\n",
    "  * [ [y](https://www.youtube.com/watch?v=y8R5-xNeHY8) ] `03-27-2021`. Lawrence Systems. \"pfsense VS OPNSense\".\n",
    "  * [ [y](https://www.youtube.com/watch?v=Ewq8TvMY6Jo) ] `10-26-2023`. Mactelecom Networks. \"Switching from PFsense to OPNsense? Here's a basic setup\".\n",
    "  * [ [y](https://www.youtube.com/watch?v=QvtIVuG0-XQ) ] `03-23-2024`. ShortCircuit. \"Our BIG network upgrade! - OPNsense DEC4280\".\n",
    "  * [ [y](https://www.youtube.com/watch?v=XXx7NDgDaRU) ] `10-25-2023`. Tailscale. \"A Homelabbers Networking Playground with Opnsense, Proxmox, VLANs and Tailscale\".\n",
    "* [ h ][ [w](https://en.wikipedia.org/wiki/PfSense) ] pfSense [ [reddit](https://www.reddit.com/r/PFSENSE/) ]\n",
    "  * [ [h](https://www.netgate.com/) ] Netgate\n",
    "  * [ [h](https://www.youtube.com/watch?v=srFPPjBPkVo) ] `02-20-2023`. Lawrence Systems. \"Which Hardware to Choose For pfsense? Netgate VS Protectli, Qotom, Yanling, etc...\".\n",
    "  * [ [y](https://www.youtube.com/watch?v=bjr0rm93uVA) ] `12-29-2021`. Lawrence Systems. \"Basic Setup and Configuring pfsense Firewall Rules For Home\".\n",
    "  * [ [y](https://www.youtube.com/watch?v=Va4r_1xSwAY) ] `01-17-2022`. Mactelecom Networks. \"UDM Pro Behind pfsense configuration\".\n",
    "  * [ [y](https://www.youtube.com/watch?v=hdoBQNI_Ab8) ] `05-16-2020`. Techno Tim. \"How to Virtualize Your Home Router / Firewall Using pfSense\".\n",
    "* [ [h](https://protectli.com/) ][ w ] Protectli\n",
    "* [ h ][ w ] Sophos\n",
    "* [ h ][ w ] Ubiquiti UniFi\n",
    "  * [ [h](https://www.hostifi.com/) ] HostiFi\n",
    "* [ h ][ w ] Untangle (now Arista Edge) [ [reddit](https://www.reddit.com/r/Untangle/) ]"
   ]
  },
  {
   "cell_type": "markdown",
   "metadata": {},
   "source": [
    "Lawrence Systems\n",
    "* [ [y](https://www.youtube.com/watch?v=1E6fYKlQKa0) ] `07-29-2023`. Lawrence Systems. \"A Detailed Comparison of The Latest pfSense and UniFi Firewalls in July 2023\".\n",
    "* [ [y](https://www.youtube.com/watch?v=0bTjibLYSOo) ] `04-01-2023`. Lawrence Systems. \"2023 Firewall Features Compared: pfsense | Arista | UniFi | Sophos | Fortinet | Meraki & What We Use\".\n",
    "* [ [y](https://www.youtube.com/watch?v=ZI7zt1Vf8vE) ] `05-17-2021`. Lawrence Systems. \"2021 Firewall Review, Feature Comparison and Recommendations\".\n",
    "* [ [y](https://www.youtube.com/watch?v=VDD163WFYc4) ] `03-19-2021`. Lawrence Systems. \"Firewalls With Working Wireguard: OPNSense, VyOS and Untangle.\"."
   ]
  },
  {
   "cell_type": "markdown",
   "metadata": {},
   "source": [
    "---"
   ]
  },
  {
   "cell_type": "markdown",
   "metadata": {},
   "source": [
    "## IDPS"
   ]
  },
  {
   "cell_type": "markdown",
   "metadata": {},
   "source": [
    "* [ [h](https://www.snort.org/) ][ [d](https://www.snort.org/documents) ][ g ][ [w](https://en.wikipedia.org/wiki/Snort_(software)) ] Snort\n",
    "  * [ [y](https://www.youtube.com/watch?v=2q_g9GgkvWA) ] `10-18-2023`. Lawrence System. \"How To Secure pfsense with Snort: From Tuning Rules To Understanding CPU Performance\".\n",
    "* [ [h](https://suricata.io/) ][ [d](https://suricata.io/documentation/) ][ [g](https://github.com/OISF/suricata) ][ [w](https://en.wikipedia.org/wiki/Suricata_(software)) ] Suricata\n",
    "* [ [h](https://wazuh.com) ][ [d](https://documentation.wazuh.com/current/index.html) ][ g ][ w ] Wazuh\n",
    "  * [ [y](https://www.youtube.com/watch?v=3CaG2GI1kn0) ] `07-19-2023`. NetworkChuck. \"you need this FREE CyberSecurity tool\".\n",
    "  * [ [y](https://www.youtube.com/watch?v=IP7zPeMEuL8) ] `03-29-2024`. Techdox. \"Secure Your Self-Hosted Network with Wazuh\".\n",
    "* [ [h](https://zeek.org/) ][ d ][ [g](https://github.com/zeek/zeek) ][ [w](https://en.wikipedia.org/wiki/Zeek) ] Zeek"
   ]
  },
  {
   "cell_type": "markdown",
   "metadata": {},
   "source": [
    "---"
   ]
  },
  {
   "cell_type": "markdown",
   "metadata": {},
   "source": [
    "## Log Analysis"
   ]
  },
  {
   "cell_type": "markdown",
   "metadata": {},
   "source": [
    "* [ [h](https://graylog.org/) ][ [w](https://en.wikipedia.org/wiki/Graylog) ] Graylog"
   ]
  },
  {
   "cell_type": "markdown",
   "metadata": {},
   "source": [
    "---"
   ]
  },
  {
   "cell_type": "markdown",
   "metadata": {},
   "source": [
    "## Reverse Proxy"
   ]
  },
  {
   "cell_type": "markdown",
   "metadata": {},
   "source": [
    "* [ [h](https://www.cloudflare.com/products/tunnel/) ] Cloudflare Tunnel\n",
    "  * [ [y](https://www.youtube.com/watch?v=eojWaJQvqiw) ] `12-30-2022`. Lawrence Systems. \"Using Cloudflare Tunnels For Hosting & Certificates Without Exposing Ports On Your Firewall\".\n",
    "  * [ [y](https://www.youtube.com/watch?v=ey4u7OUAF3c) ] `12-14-2022`. NetworkChuck. \"EXPOSE your home network to the INTERNET!! (it's safe)\".\n",
    "* [ [h](https://www.haproxy.org/) ] HAProxy\n",
    "  * [ [y](https://www.youtube.com/watch?v=bU85dgHSb2E) ] `08-15-2023`. Lawrence Systems. \"How To Guide For HAProxy and Let's Encrypt on pfSense: Detailed Steps for Setting Up Reverse Proxy\".\n",
    "* [ [h](https://www.nginx.com/) ] Nginx\n",
    "  * [ [y](https://www.youtube.com/watch?v=B62QSbPhh1s) ] `12-02-2020`. Akamai Developer. \"How to Set Up an NGINX Reverse Proxy\".\n",
    "  * [ [y](https://www.youtube.com/watch?v=PAEDJrGJyaY) ] `09-09-2021`. Mehul - Codedamn. \"What is NGINX and how reverse proxies work?\".\n",
    "  * [ [y](https://www.youtube.com/watch?v=lZVAI3PqgHc) ] `06-08-2021`. NGINX. \"Configure NGINX as a Reverse Proxy\".\n",
    "* [ [h](https://traefik.io/traefik/) ] Traefik\n",
    "  * [ [y](https://www.youtube.com/watch?v=G4CmbYL9UPg) ] `08-06-2022`. Techno Tim. \"Wildcard Certificates with Traefik + cert-manager + Let's Encrypt in Kubernetes Tutorial\".\n",
    "  * [ [y](https://www.youtube.com/watch?v=liV3c9m_OX8) ] `04-24-2021`. Techno Tim. \"Put Wildcard Certificates and SSL on EVERYTHING - Traefik Tutorial\"."
   ]
  },
  {
   "cell_type": "markdown",
   "metadata": {},
   "source": [
    "* [ [y](https://www.youtube.com/watch?v=RqfaTIWc3LQ) ] `03-13-2024`. ByteByteGo. \"Reverse Proxy vs API Gateway vs Load Balancer\".\n",
    "* [ [y](https://www.youtube.com/watch?v=4NB0NDtOwIQ) ] `10-25-2022`. ByteByteGo. \"Proxy vs Reverse Proxy (Real-world Examples)\".\n",
    "* [ [y](https://www.youtube.com/watch?v=RXXRguaHZs0) ] `06-12-2023`. PowerCert Animated Videos. \"Proxy vs Reverse Proxy Explained\"."
   ]
  },
  {
   "cell_type": "markdown",
   "metadata": {},
   "source": [
    "---"
   ]
  },
  {
   "cell_type": "markdown",
   "metadata": {},
   "source": [
    "## SIEM"
   ]
  },
  {
   "cell_type": "markdown",
   "metadata": {},
   "source": [
    "* [ [h](https://www.elastic.co/elastic-stack/) ][ [d](https://www.elastic.co/guide/en/elasticsearch/reference/current/index.html) ][ g ][ w ] Elastic Stack\n",
    "  * [ [d](https://www.elastic.co/guide/en/kibana/current/index.html) ] Kibana\n",
    "* [ [h](https://www.splunk.com/) ][ d ][ g ][ [w](https://en.wikipedia.org/wiki/Splunk) ] Splunk"
   ]
  },
  {
   "cell_type": "markdown",
   "metadata": {},
   "source": [
    "* [ [y](https://www.youtube.com/watch?v=2XLzMb9oZBI) ] `01-12-2024`. Gerald Auger, PhD - Simply Cyber. \"Build a Powerful Home SIEM Lab Without Hassle! (Step by Step Guide)\"."
   ]
  },
  {
   "cell_type": "markdown",
   "metadata": {},
   "source": [
    "---"
   ]
  },
  {
   "cell_type": "markdown",
   "metadata": {},
   "source": [
    "## Packet Analysis"
   ]
  },
  {
   "cell_type": "markdown",
   "metadata": {},
   "source": [
    "* [ [h](https://www.wireshark.org/) ][ w ] Wireshark"
   ]
  },
  {
   "cell_type": "markdown",
   "metadata": {},
   "source": [
    "---"
   ]
  },
  {
   "cell_type": "markdown",
   "metadata": {},
   "source": [
    "## VPN"
   ]
  },
  {
   "cell_type": "markdown",
   "metadata": {},
   "source": [
    "* [ [h](https://tailscale.com/) ] TailScale\n",
    "* [ h ] Wireguard"
   ]
  },
  {
   "cell_type": "markdown",
   "metadata": {},
   "source": [
    "---"
   ]
  },
  {
   "cell_type": "markdown",
   "metadata": {},
   "source": [
    "## Resources"
   ]
  },
  {
   "cell_type": "markdown",
   "metadata": {},
   "source": [
    "* [ [h](https://www.haproxy.org/) ][ [w](https://en.wikipedia.org/wiki/HAProxy) ] HAProxy\n",
    "* [ [h](https://securityonionsolutions.com/) ][ [d](https://docs.securityonion.net) ][ [g](https://github.com/Security-Onion-Solutions/securityonion) ][ w ] Security Onion\n",
    "* [ h ][ d ][ g ][ [w](https://en.wikipedia.org/wiki/Sguil) ] Sguil"
   ]
  },
  {
   "cell_type": "markdown",
   "metadata": {},
   "source": [
    "---"
   ]
  },
  {
   "cell_type": "markdown",
   "metadata": {},
   "source": [
    "## Terms"
   ]
  },
  {
   "cell_type": "markdown",
   "metadata": {},
   "source": [
    "* [ [w](https://en.wikipedia.org/wiki/Computer_security_incident_management) ] Computer Security Incident Management\n",
    "* [ w ] Deep Packet Inspection (DPI)\n",
    "* [ [w](https://en.wikipedia.org/wiki/Data_logger) ] Data Logger\n",
    "* [ [w](https://en.wikipedia.org/wiki/Firewall_(computing)) ] Firewall\n",
    "  * [ [w](https://en.wikipedia.org/wiki/Comparison_of_firewalls) ] firewall comparison\n",
    "  * [ [w](https://en.wikipedia.org/wiki/List_of_router_and_firewall_distributions) ] firewall+router distros\n",
    "* [ [w](https://en.wikipedia.org/wiki/Hardening_(computing)) ] Hardening\n",
    "* [ [w](https://en.wikipedia.org/wiki/Host-based_intrusion_detection_system) ] Host-Based Intrusion Detection & Prevention (HIDPS)\n",
    "* [ [w](https://en.wikipedia.org/wiki/Information_security_operations_center) ] Information Security Operations Center (ISOC)\n",
    "* [ [w](https://en.wikipedia.org/wiki/Intrusion_detection_system) ] Intrusion Detection & Prevention (IDPS)\n",
    "* [ w ] Log\n",
    "* [ [w](https://en.wikipedia.org/wiki/Log_analysis) ] Log Analysis\n",
    "* [ [w](https://en.wikipedia.org/wiki/Log_management) ] Log Management\n",
    "* [ w ] Network-Based Intrusion Detection & Prevention (NIDPS)\n",
    "* [ [w](https://en.wikipedia.org/wiki/Network_monitoring) ] Network Monitoring\n",
    "* [ [w](https://en.wikipedia.org/wiki/Next-generation_firewall) ] Next-Generation Firewall (NGFW)\n",
    "* [ [w](https://en.wikipedia.org/wiki/Security_information_and_event_management) ] Security Information and Event Management (SIEM)\n",
    "* [ [w](https://en.wikipedia.org/wiki/Security_operations_center) ] Security Operations Center (SOC)\n",
    "* [ [w](https://en.wikipedia.org/wiki/Security_policy) ] Security Policy\n",
    "* [ [w](https://en.wikipedia.org/wiki/Vulnerability_management) ] Vulnerability Management"
   ]
  },
  {
   "cell_type": "markdown",
   "metadata": {},
   "source": [
    "---"
   ]
  },
  {
   "cell_type": "markdown",
   "metadata": {},
   "source": [
    "## Texts"
   ]
  },
  {
   "cell_type": "markdown",
   "metadata": {},
   "source": [
    "* Brotherston, Lee & Amanda Berlin. (2017). _Defensive Security Handbook: Best Practices for Securing Infrastructure_. O'Reilly.\n",
    "* Julian, Mike. (2017). _Practical Monitoring: Effective Strategies for the Real World_. O'Reilly.\n",
    "* White, Alan & Ben Clark. (2017). _BTFM Blue Team Field Manual_."
   ]
  },
  {
   "cell_type": "markdown",
   "metadata": {},
   "source": [
    "---"
   ]
  },
  {
   "cell_type": "markdown",
   "metadata": {},
   "source": [
    "## Elastic Stack"
   ]
  },
  {
   "cell_type": "markdown",
   "metadata": {},
   "source": [
    "* [Getting Started](https://www.elastic.co/start)\n",
    "* [Getting Started with the Elastic Stack](https://www.elastic.co/guide/en/elastic-stack-get-started/current/get-started-elastic-stack.html)\n",
    "* [Elastic Stack and Product Documentation](https://www.elastic.co/guide/index.html)\n",
    "\n",
    "Kibana\n",
    "* [Docs](https://www.elastic.co/guide/en/kibana)\n",
    "\n",
    "Logstash\n",
    "* [Home](https://www.elastic.co/logstash)\n",
    "* [Docs](https://www.elastic.co/guide/en/logstash)\n",
    "* [Getting Started with Logstash](https://www.elastic.co/guide/en/logstash/current/getting-started-with-logstash.html)\n",
    "\n",
    "Beats\n",
    "* [Docs](https://www.elastic.co/guide/en/beats/libbeat/current/index.html)\n",
    "* [Config File Ownership and Permissions](https://www.elastic.co/guide/en/beats/libbeat/current/config-file-permissions.html)\n",
    "\n",
    "Filebeat\n",
    "* [Docs](https://www.elastic.co/guide/en/beats/filebeat/current/index.html)\n",
    "* [Syslog Input](https://www.elastic.co/guide/en/beats/filebeat/current/filebeat-input-syslog.html)\n",
    "\n",
    "Metricbeat\n",
    "* [Docs](https://www.elastic.co/guide/en/beats/metricbeat)\n",
    "* [System Module](https://www.elastic.co/guide/en/beats/metricbeat/current/metricbeat-module-system.html)\n",
    "\n",
    "Observability Guide\n",
    "* [Docs](https://www.elastic.co/guide/en/observability/8.1/index.html)\n",
    "* [Metrics Monitoring](https://www.elastic.co/guide/en/observability/8.1/analyze-metrics.html)"
   ]
  },
  {
   "cell_type": "markdown",
   "metadata": {},
   "source": [
    "---"
   ]
  }
 ],
 "metadata": {
  "language_info": {
   "name": "python"
  }
 },
 "nbformat": 4,
 "nbformat_minor": 2
}
