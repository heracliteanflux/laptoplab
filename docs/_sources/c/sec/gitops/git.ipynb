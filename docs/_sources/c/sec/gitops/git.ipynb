{
 "cells": [
  {
   "cell_type": "markdown",
   "metadata": {},
   "source": [
    "# Version Control"
   ]
  },
  {
   "cell_type": "markdown",
   "metadata": {},
   "source": [
    "---"
   ]
  },
  {
   "cell_type": "markdown",
   "metadata": {},
   "source": [
    "## Table of Contents\n",
    "```{contents}\n",
    "```"
   ]
  },
  {
   "cell_type": "markdown",
   "metadata": {},
   "source": [
    "---"
   ]
  },
  {
   "cell_type": "markdown",
   "metadata": {},
   "source": [
    "## Git"
   ]
  },
  {
   "cell_type": "markdown",
   "metadata": {},
   "source": [
    "### Getting Started"
   ]
  },
  {
   "cell_type": "markdown",
   "metadata": {},
   "source": [
    "Want to get good at using Git and GitHub? Read the following books; work through the following resources; and practice on in your development environment along the way!"
   ]
  },
  {
   "cell_type": "markdown",
   "metadata": {},
   "source": [
    "```bash\n",
    "git help tutorial\n",
    "git help tutorial-2\n",
    "git help everyday\n",
    "```\n",
    "\n",
    "[ [d](https://git-scm.com/docs/everyday) ] Everday Git\n",
    "\n",
    "[ [d](https://github.com/git-guides/) ] GitHub's Git Guides\n",
    "\n",
    "[ [book](https://git-scm.com/book/en/v2) ] Chacon, Scott & Ben Straub. (2014). _Pro Git: Everything You Need to Know About Git, 2nd Ed_. Apress.\n",
    "\n",
    "[ book ] Ponuthorai, Prem Kumar & Jon Loeliger. (2022). _Version Control with Git: Powerful Tools and Techniques for Collaborative Software Development_. 3rd Ed. O'Reilly."
   ]
  },
  {
   "cell_type": "markdown",
   "metadata": {},
   "source": [
    "#### Installation"
   ]
  },
  {
   "cell_type": "markdown",
   "metadata": {},
   "source": [
    "`````{tab-set}\n",
    "````{tab-item} Linux\n",
    ":sync: linux\n",
    "````\n",
    "````{tab-item} macOS\n",
    ":sync: macOS\n",
    "````\n",
    "````{tab-item} Windows\n",
    ":sync: windows\n",
    "Git for Windows\n",
    "* [GitHub](https://github.com/git-for-windows/git)\n",
    "* [GitHub Open Issues](https://github.com/git-for-windows/git/issues)\n",
    "* [GitHub FAQ](https://github.com/git-for-windows/git/wiki/FAQ)\n",
    "\n",
    "Git is installed at the following default location.\n",
    "\n",
    "```\n",
    "C:\\Program Files\\Git\n",
    "```\n",
    "\n",
    "\"Add 'open with code action' to Windows Explorer File Context menu\" adds an option to the right-button-menu in the file explorer to open a file directly with Visual Studio Code (with this option you can open Visual Studio Code directly from a file.).\n",
    "````\n",
    "`````"
   ]
  },
  {
   "cell_type": "markdown",
   "metadata": {},
   "source": [
    "#### Configuring git"
   ]
  },
  {
   "cell_type": "markdown",
   "metadata": {},
   "source": [
    "Determine your version of git.\n",
    "\n",
    "```zsh\n",
    "git version\n",
    "```\n",
    "\n",
    "or\n",
    "\n",
    "```zsh\n",
    "git -v\n",
    "```\n",
    "\n",
    "or\n",
    "\n",
    "```zsh\n",
    "git --version\n",
    "```\n",
    "\n",
    "Set your name and email.\n",
    "\n",
    "```zsh\n",
    "git config --global user.name \"<name>\"\n",
    "```\n",
    "```zsh\n",
    "git config --global user.email \"<email>\"\n",
    "```\n",
    "\n",
    "View your configuration settings.\n",
    "\n",
    "```zsh\n",
    "git config -l\n",
    "```\n",
    "\n",
    "or\n",
    "\n",
    "```zsh\n",
    "git config --list\n",
    "```\n",
    "\n",
    "Use the following variant for more information about your configuration.\n",
    "\n",
    "```zsh\n",
    "git config -l --show-scope --show-origin\n",
    "```\n",
    "\n",
    "The location of your config files depends on your system.\n",
    "\n",
    "`````{tab-set}\n",
    "````{tab-item} Linux\n",
    ":sync: linux\n",
    "```\n",
    "./.git/config  (local)\n",
    "~/.gitconfig   (global)\n",
    "/etc/gitconfig (system)\n",
    "```\n",
    "````\n",
    "````{tab-item} macOS\n",
    ":sync: macOS\n",
    "```\n",
    "./.git/config  (local)\n",
    "~/.gitconfig   (global)\n",
    "/etc/gitconfig (system)\n",
    "```\n",
    "````\n",
    "````{tab-item} Windows\n",
    ":sync: windows\n",
    "```\n",
    "./.git/config                      (local)\n",
    "C:\\users\\<user>\\.gitconfig         (global)\n",
    "C:\\Program Files\\Git\\etc\\gitconfig (system)\n",
    "```\n",
    "````\n",
    "`````"
   ]
  },
  {
   "cell_type": "markdown",
   "metadata": {},
   "source": [
    "#### Configuring git some more"
   ]
  },
  {
   "cell_type": "markdown",
   "metadata": {},
   "source": [
    "The following instruction set is based on these documents.\n",
    "* [Associating text editors with Git](https://docs.github.com/en/get-started/getting-started-with-git/associating-text-editors-with-git)\n",
    "\n",
    "\n",
    "Set vim as git's default text editor.\n",
    "```zsh\n",
    "git config --global core.editor \"vim\"\n",
    "```\n",
    "Set VS Code as git's default text editor.\n",
    "```zsh\n",
    "git config --global core.editor \"code --wait\"\n",
    "```\n",
    "\n",
    "`````{tab-set}\n",
    "````{tab-item} macOS\n",
    ":sync: macOS\n",
    "Configure Git to ensure line endings in files you checkout are correct for macOS.\n",
    "```zsh\n",
    "git config --global core.autocrlf input\n",
    "```\n",
    "````\n",
    "````{tab-item} Windows\n",
    ":sync: windows\n",
    "Configure Git to ensure line endings in files you checkout are correct for Windows. For compatibility, line endings are converted to Unix style when you commit files.\n",
    "```zsh\n",
    "git config --global core.autocrlf true\n",
    "```\n",
    "````\n",
    "`````"
   ]
  },
  {
   "cell_type": "markdown",
   "metadata": {},
   "source": [
    "#### Creating your first local repo"
   ]
  },
  {
   "cell_type": "markdown",
   "metadata": {},
   "source": [
    "1\n",
    "\n",
    "Navigate to the location in the filesystem where you want to keep your work. This could be the Desktop folder, for example, or some other location you choose.\n",
    "\n",
    "```zsh\n",
    "cd ~/Desktop\n",
    "```\n",
    "\n",
    "Then create a new folder to serve as your local git repo and navigate into it.\n",
    "\n",
    "```zsh\n",
    "mkdir my_local_repo && cd my_local_repo\n",
    "```\n",
    "\n",
    "If you followed these navigation steps exactly then you should now find yourself in a folder called `my_local_repo` which is located in your Desktop folder. You can verify this by running\n",
    "\n",
    "```zsh\n",
    "pwd\n",
    "```\n",
    "\n",
    "and you should see the following output.\n",
    "\n",
    "```zsh\n",
    "/Users/<user>/Desktop/my_local\n",
    "```"
   ]
  },
  {
   "cell_type": "markdown",
   "metadata": {},
   "source": [
    "2\n",
    "\n",
    "Your new folder is not yet a git repo. You can verify this by trying to run a git operation.\n",
    "\n",
    "Run\n",
    "\n",
    "```zsh\n",
    "git status\n",
    "```\n",
    "\n",
    "and you should receive the following error message.\n",
    "\n",
    "`fatal: not a git repository (or any of the parent directories): .git`\n",
    "\n",
    "You can verify this further by inspecting the current folder: running command `ls` produces no output since it is empty. (Command `ls` \"lists\" the contents of the folder.)\n",
    "\n",
    "Run the command `git init` to transform this folder into a git repo. This command initializes a new git repository in the current folder and option `-b` for \"branch\" names the default branch.\n",
    "\n",
    "Run\n",
    "\n",
    "```zsh\n",
    "git init -b main\n",
    "```\n",
    "\n",
    "and you should see the following message.\n",
    "\n",
    "`Initialized empty Git repository in /Users/<user>/Desktop/my_local_repo/.git/`\n",
    "\n",
    "Now, git operations should work as intended and you'll notice that the current folder is no longer empty.\n",
    "\n",
    "Run\n",
    "\n",
    "```zsh\n",
    "ls -A\n",
    "```\n",
    "\n",
    "and you should see the following output.\n",
    "\n",
    "```zsh\n",
    ".git\n",
    "```"
   ]
  },
  {
   "cell_type": "markdown",
   "metadata": {},
   "source": [
    "3\n",
    "\n",
    "Taking a peek inside folder `.git` reveals a lot of stuff which you don't need to worry about yet.\n",
    "\n",
    "```zsh\n",
    "tree .git\n",
    "```\n",
    "\n",
    "You should see the following output.\n",
    "\n",
    "```zsh\n",
    ".git\n",
    "├── HEAD\n",
    "├── config\n",
    "├── description\n",
    "├── hooks\n",
    "│   ├── applypatch-msg.sample\n",
    "│   ├── commit-msg.sample\n",
    "│   ├── fsmonitor-watchman.sample\n",
    "│   ├── post-update.sample\n",
    "│   ├── pre-applypatch.sample\n",
    "│   ├── pre-commit.sample\n",
    "│   ├── pre-merge-commit.sample\n",
    "│   ├── pre-push.sample\n",
    "│   ├── pre-rebase.sample\n",
    "│   ├── pre-receive.sample\n",
    "│   ├── prepare-commit-msg.sample\n",
    "│   ├── push-to-checkout.sample\n",
    "│   └── update.sample\n",
    "├── info\n",
    "│   └── exclude\n",
    "├── objects\n",
    "│   ├── info\n",
    "│   └── pack\n",
    "└── refs\n",
    "    ├── heads\n",
    "    └── tags\n",
    "\n",
    "9 directories, 17 files\n",
    "```\n",
    "\n",
    "* logs\n",
    "* COMMIT_EDITMSG\n",
    "* index\n",
    "* packed-refs"
   ]
  },
  {
   "cell_type": "markdown",
   "metadata": {},
   "source": [
    "#### Setting up an SSH key for authentication"
   ]
  },
  {
   "cell_type": "markdown",
   "metadata": {},
   "source": [
    "This instruction set is based on the following documents:\n",
    "* [GitHub's Generating a new SSH key and adding it to the ssh-agent](https://docs.github.com/en/authentication/connecting-to-github-with-ssh/generating-a-new-ssh-key-and-adding-it-to-the-ssh-agent)\n",
    "* [GitLab's Use SSH keys to communicate with GitLab](https://docs.gitlab.com/ee/user/ssh.html)\n",
    "\n",
    "1\n",
    "\n",
    "Generate a new public-private key pair. Make sure to replace `email@example.com` with your own comment.\n",
    "\n",
    "`````{tab-set}\n",
    "````{tab-item} Multi Line\n",
    ":sync: multiline\n",
    "```\n",
    "ssh-keygen -t ed25519 \\\n",
    "-f ~/.ssh/id_ed25519_github_personal \\\n",
    "-C \"<email@example.com>\"\n",
    "```\n",
    "````\n",
    "````{tab-item} Single Line\n",
    ":sync: singleline\n",
    "```\n",
    "ssh-keygen -t ed25519 -f ~/.ssh/id_ed25519_github_personal -C \"email@example.com\"\n",
    "```\n",
    "````\n",
    "`````\n",
    "\n",
    "2\n",
    "\n",
    "You will be prompted to type a passphrase for your SSH key. Give your SSH key a strong passphrase and make sure to store it somewhere safe (e.g., with a password manager).\n",
    "\n",
    "Type your passphrase once and then press Enter.\n",
    "\n",
    "Type your passphrase again and then press Enter again.\n",
    "\n",
    "3\n",
    "\n",
    "Start the SSH agent in the background.\n",
    "\n",
    "```\n",
    "eval \"$(ssh-agent -s)\"\n",
    "```\n",
    "\n",
    "4\n",
    "\n",
    "Add the SSH key to the SSH agent.\n",
    "\n",
    "`````{tab-set}\n",
    "````{tab-item} macOS\n",
    ":sync: macos\n",
    "```\n",
    "ssh-add --apple-use-keychain ~/.ssh/id_ed25519_github_personal\n",
    "```\n",
    "````\n",
    "````{tab-item} Windows\n",
    ":sync: windows\n",
    "```\n",
    "ssh-add ~/.ssh/id_ed25519_github_personal\n",
    "```\n",
    "````\n",
    "`````\n",
    "\n",
    "5\n",
    "\n",
    "Setup the SSH config file.\n",
    "\n",
    "`````{tab-set}\n",
    "````{tab-item} Multi Line [macOS]\n",
    ":sync: multiline, macos\n",
    "Compatible shells:\n",
    "* Bash\n",
    "* Git Bash\n",
    "* Zsh\n",
    "* other Unix\n",
    "\n",
    "```\n",
    "echo '\n",
    "Host github.com\n",
    "  AddKeysToAgent yes\n",
    "  Hostname       github.com\n",
    "  IdentityFile   ~/.ssh/id_ed25519_github_personal\n",
    "  Port           22\n",
    "  UseKeychain    yes\n",
    "  User           git\n",
    "' >> ~/.ssh/config\n",
    "```\n",
    "````\n",
    "````{tab-item} Multi Line [Windows]\n",
    ":sync: multiline, windows\n",
    "Compatible shells:\n",
    "* Bash\n",
    "* Git Bash\n",
    "* Zsh\n",
    "* other Unix\n",
    "\n",
    "```\n",
    "echo '\n",
    "Host github.com\n",
    "  AddKeysToAgent yes\n",
    "  Hostname       github.com\n",
    "  IdentityFile   ~/.ssh/id_ed25519_github_personal\n",
    "  Port           22\n",
    "  User           git\n",
    "' >> ~/.ssh/config\n",
    "```\n",
    "````\n",
    "````{tab-item} Single Line [macOS]\n",
    ":sync: singleline, macos\n",
    "`echo` for zsh `echo -e` for bash\n",
    "\n",
    "```\n",
    "echo -e '\\nHost github.com\\n  AddKeysToAgent yes\\n  Hostname github.com\\n  IdentityFile ~/.ssh/id_ed25519_github_personal\\n  Port 22\\n  UseKeychain yes\\n  User git' >> ~/.ssh/config\n",
    "```\n",
    "````\n",
    "````{tab-item} Single Line [Windows]\n",
    ":sync: singleline, windows\n",
    "`echo` for zsh `echo -e` for bash\n",
    "\n",
    "```\n",
    "echo -e '\\nHost github.com\\n  AddKeysToAgent yes\\n  Hostname github.com\\n  IdentityFile ~/.ssh/id_ed25519_github_personal\\n  Port 22\\n  User git' >> ~/.ssh/config\n",
    "```\n",
    "````\n",
    "`````\n",
    "\n",
    "Then run\n",
    "\n",
    "```\n",
    "cat ~/.ssh/config\n",
    "```\n",
    "\n",
    "and verify that the contents of file `~/.ssh/config` contain the following text.\n",
    "\n",
    "`````{tab-set}\n",
    "````{tab-item} macOS\n",
    ":sync: macos\n",
    "```\n",
    "Host github.com\n",
    "  AddKeysToAgent yes\n",
    "  Hostname       github.com\n",
    "  IdentityFile   ~/.ssh/id_ed25519_github_personal\n",
    "  Port           22\n",
    "  UseKeychain    yes\n",
    "  User           git\n",
    "```\n",
    "````\n",
    "````{tab-item} Windows\n",
    ":sync: windows\n",
    "```\n",
    "Host github.com\n",
    "  AddKeysToAgent yes\n",
    "  Hostname       github.com\n",
    "  IdentityFile   ~/.ssh/id_ed25519_github_personal\n",
    "  Port           22\n",
    "  User           git\n",
    "```\n",
    "````\n",
    "`````\n",
    "\n",
    "6\n",
    "\n",
    "Copy the public key to the clipboard.\n",
    "\n",
    "`````{tab-set}\n",
    "````{tab-item} macOS\n",
    ":sync: macos\n",
    "```\n",
    "tr -d '\\n' < ~/.ssh/id_ed25519_github_personal.pub | pbcopy\n",
    "```\n",
    "````\n",
    "````{tab-item} Windows\n",
    ":sync: windows\n",
    "```\n",
    "cat ~/.ssh/id_ed25519_github_personal.pub | clip\n",
    "```\n",
    "````\n",
    "`````\n",
    "\n",
    "7\n",
    "\n",
    "In the web browser, navigate to your GitHub account.\n",
    "\n",
    "````{tab-set}\n",
    "```{tab-item} GitHub\n",
    ":sync: github\n",
    "\n",
    "Select \"Settings\" > \"SSH and GPG Keys\" and then click the green button \"New SSH key\" and paste your public key in the field \"Key\".\n",
    "\n",
    "Give your key a \"Title\" which refers to the particular machine holding the associated private key (e.g., Dave's MacBook Pro).\n",
    "\n",
    "If you would like to sign your commits, you may repeat this process a second time with the same \"Key\" and \"Title\" but witg the \"Key type\" set to `Signing Key` rather than `Authentication Key`. Make sure to check the box under \"Vigilant Mode\" and see the end of this section to finish setting up your signing key.\n",
    "```\n",
    "```{tab-item} GitLab\n",
    ":sync: gitlab\n",
    "Open your web browser > navigate to https://gitlab.com > your account > Preferences > SSH keys > New SSH key\n",
    "\n",
    "Give your key a \"Title\" which refers to the particular machine holding the associated private key (e.g., Dave's MacBook Pro).\n",
    "```\n",
    "````\n",
    "\n",
    "8\n",
    "\n",
    "Once the public key has been added to your GitHub account, test the remote connectio from the terminal.\n",
    "\n",
    "`````{tab-set}\n",
    "````{tab-item} GitHub\n",
    ":sync: github\n",
    "```\n",
    "ssh -T git@github.com\n",
    "```\n",
    "````\n",
    "````{tab-item} GitLab\n",
    ":sync: gitlab\n",
    "```\n",
    "ssh -T git@gitlab.com\n",
    "```\n",
    "````\n",
    "`````\n",
    "\n",
    "If the remote connection is established, you may see a confirmation message similar to the following.\n",
    "\n",
    "`````{tab-set}\n",
    "````{tab-item} GitHub\n",
    ":sync: github\n",
    "```\n",
    "> Hi username! You've successfully authenticated, but GitHub does not\n",
    "> provide shell access.\n",
    "```\n",
    "````\n",
    "````{tab-item} GitLab\n",
    ":sync: gitlab\n",
    "```\n",
    "Welcome to GitLab, username!\n",
    "```\n",
    "````\n",
    "`````"
   ]
  },
  {
   "cell_type": "markdown",
   "metadata": {},
   "source": [
    "#### Setting up an SSH key for signing"
   ]
  },
  {
   "cell_type": "markdown",
   "metadata": {},
   "source": [
    "This instruction set is based on the following documents:\n",
    "* [GitHub's Telling Git about your signing key (SSH)](https://docs.github.com/en/authentication/managing-commit-signature-verification/telling-git-about-your-signing-key#telling-git-about-your-ssh-key)\n",
    "* [GitHub's Signing commits](https://docs.github.com/en/authentication/managing-commit-signature-verification/signing-commits)\n",
    "* [GitLab's Sign commits with SSH keys](https://docs.gitlab.com/ee/user/project/repository/ssh_signed_commits/)\n",
    "\n",
    "In the terminal, run\n",
    "\n",
    "```zsh\n",
    "git config --global gpg.format ssh &&\n",
    "git config --global user.signingkey ~/.ssh/id_ed25519_github_personal.pub &&\n",
    "echo \"$(git config --get user.email) namespaces=\\\"git\\\" $(cat ~/.ssh/id_ed25519_github_personal.pub)\" >> ~/.ssh/allowed_signers &&\n",
    "git config --global gpg.ssh.allowedSignersFile ~/.ssh/allowed_signers &&\n",
    "git config --global commit.gpgsign true &&\n",
    "cat ~/.gitconfig\n",
    "```\n",
    "\n",
    "Verify that the contents of file `~/.gitconfig` contain the following text.\n",
    "\n",
    "```ini\n",
    "[commit]\n",
    "  gpgsign = true\n",
    "[gpg]\n",
    "  format = ssh\n",
    "[gpg \"ssh\"]\n",
    "  allowedSignersFile = ~/.ssh/allowed_signers\n",
    "[user]\n",
    "  signingkey = ~/.ssh/id_ed25519_github_personal.pub\n",
    "```"
   ]
  },
  {
   "cell_type": "markdown",
   "metadata": {},
   "source": [
    "#### Managing remotes"
   ]
  },
  {
   "cell_type": "markdown",
   "metadata": {},
   "source": [
    "Add a remote named `origin` with the URL `git@github.com:USER/REPO.git` where `USER` and `REPO` are your own GitHub username and GitHub repo name, respectively.\n",
    "\n",
    "```zsh\n",
    "git remote add origin git@github.com:USER/REPO.git\n",
    "```\n",
    "\n",
    "Change the remote `origin`'s SSH URL to `git@github.com:USER/REPO.git`, where `USER` and `REPO` are your own GitHub username and GitHub repo name, respectively.\n",
    "\n",
    "```zsh\n",
    "git remote set-url origin git@github.com:USER/REPO.git\n",
    "```\n",
    "\n",
    "Remove references to remote `origin` from local.\n",
    "\n",
    "```zsh\n",
    "git remote rm origin\n",
    "```\n",
    "\n",
    "Get the remote's URL.\n",
    "\n",
    "```zsh\n",
    "git remote -v\n",
    "```"
   ]
  },
  {
   "cell_type": "markdown",
   "metadata": {},
   "source": [
    "#### Connect a local to a pre-existing remote"
   ]
  },
  {
   "cell_type": "markdown",
   "metadata": {},
   "source": [
    "1\n",
    "\n",
    "```zsh\n",
    "cd .../local\n",
    "```\n",
    "\n",
    "2\n",
    "\n",
    "```zsh\n",
    "git init\n",
    "```\n",
    "\n",
    "3\n",
    "\n",
    "```zsh\n",
    "echo \"# My New Repo\" >> README.md\n",
    "```\n",
    "\n",
    "4\n",
    "\n",
    "```zsh\n",
    "git add README.md\n",
    "```\n",
    "\n",
    "5\n",
    "\n",
    "```zsh\n",
    "git commit -m \"<message>\"\n",
    "```\n",
    "\n",
    "6\n",
    "\n",
    "```zsh\n",
    "git branch -M main\n",
    "```\n",
    "\n",
    "7\n",
    "\n",
    "```zsh\n",
    "git remote add origin git@github.com:<github-username>/<github-repo-name>.git\n",
    "```\n",
    "\n",
    "8\n",
    "\n",
    "```zsh\n",
    "git push -u origin main\n",
    "```"
   ]
  },
  {
   "cell_type": "markdown",
   "metadata": {},
   "source": [
    "#### Pushing changes from a local to a remote"
   ]
  },
  {
   "cell_type": "markdown",
   "metadata": {},
   "source": [
    "1\n",
    "\n",
    "```zsh\n",
    "git status -bs\n",
    "```\n",
    "\n",
    "2\n",
    "\n",
    "```zsh\n",
    "git add file1 file2\n",
    "```\n",
    "\n",
    "3\n",
    "\n",
    "```zsh\n",
    "git status -bs\n",
    "```\n",
    "\n",
    "4\n",
    "\n",
    "```zsh\n",
    "git commit -m \"my commit message\"\n",
    "```\n",
    "\n",
    "5\n",
    "\n",
    "```zsh\n",
    "git status -bs\n",
    "```\n",
    "\n",
    "6\n",
    "\n",
    "```zsh\n",
    "git push [-u origin <branch>]\n",
    "```\n",
    "\n",
    "7\n",
    "\n",
    "```zsh\n",
    "git status -bs\n",
    "```"
   ]
  },
  {
   "cell_type": "markdown",
   "metadata": {},
   "source": [
    "#### The working directory and the staging area"
   ]
  },
  {
   "cell_type": "markdown",
   "metadata": {},
   "source": [
    "Stage a file (tracked or untracked).\n",
    "\n",
    "```zsh\n",
    "git add <file>\n",
    "```\n",
    "\n",
    "Stage a tracked file for deletion from the repo (and from the working directory).\n",
    "\n",
    "```zsh\n",
    "git rm <file>\n",
    "```\n",
    "\n",
    "Undo changes to a tracked but unstaged file in the working directory.\n",
    "\n",
    "```zsh\n",
    "git restore <file>\n",
    "```\n",
    "\n",
    "Unstage a file while keeping its modifications in the working directory.\n",
    "\n",
    "```zsh\n",
    "git restore -S <file>\n",
    "```\n",
    "\n",
    "Unstage a file and discard its modifications from the working directory.\n",
    "\n",
    "```zsh\n",
    "git restore -SW <file>\n",
    "```\n",
    "\n",
    "Commit all files in the staging area.\n",
    "\n",
    "```zsh\n",
    "git commit -m \"<message>\"\n",
    "```\n",
    "\n",
    "Commit an unstaged, tracked file.\n",
    "\n",
    "```zsh\n",
    "git commit <file> -m \"<message>\"\n",
    "```\n",
    "\n",
    "Commit all unstaged, tracked files.\n",
    "\n",
    "```zsh\n",
    "git commit -am \"<message>\"\n",
    "```\n",
    "\n",
    "Replace the previous commit with the current one.\n",
    "\n",
    "```zsh\n",
    "git commit --amend\n",
    "```"
   ]
  },
  {
   "cell_type": "markdown",
   "metadata": {},
   "source": [
    "#### Working with GitHub's CLI"
   ]
  },
  {
   "cell_type": "markdown",
   "metadata": {},
   "source": [
    "```zsh\n",
    "gh auth login\n",
    "```\n",
    "```zsh\n",
    "gh ssh-key list\n",
    "```\n",
    "```zsh\n",
    "gh config set git_protocol ssh &&\n",
    "gh config set editor \"code -w\" &&\n",
    "gh config set prompt enabled   &&\n",
    "gh config set pager cat        &&\n",
    "gh config list\n",
    "```\n",
    "```zsh\n",
    "gh repo list\n",
    "```"
   ]
  },
  {
   "cell_type": "markdown",
   "metadata": {},
   "source": [
    "#### .gitignore"
   ]
  },
  {
   "cell_type": "markdown",
   "metadata": {},
   "source": [
    "You can have a `.gitignore` file in as many directories in your repo as you would like. A `.gitignore` file affects its directory and all subdirectories. The pattern matching rules cascade: rules in higher directories can be overriden by inverted rules in subdirectories.\n",
    "\n",
    "Precedence (from highest to lowest)\n",
    "* command line\n",
    "* `.gitignore` file in the same directory\n",
    "* `.gitignore` files in parent directories, proceeding upward\n",
    "* `.git/info/exclude` file\n",
    "* the file specified by the configuration variable `core.excludesFile`\n",
    "\n",
    "You should place entries into your version-controlled `.gitignore` files only if the patterns apply to all derived repos universally. If the exclusion pattern is specific to your one repo and is not applicable to anyone else's clone of your repo then the patterns should go into the `.git/info/exclude` file since that file is not propagated during clone ops.\n",
    "\n",
    "Rules\n",
    "* blank lines are ignored\n",
    "* lines beginning with a pound sign `#` are comments\n",
    "* a literal file name matches a file in any directory with that name\n",
    "* a directory name is marked by a trailing slash `/` and matches the named directory and any subdirectory but does not match a file or a symbolic link\n",
    "* a pattern containing shell globbing characters is expanded as a shell glob pattern; the match does not extend across directories\n",
    "* an initial exclamation point inverts the sense of the pattern on the rest of the line; any file excluded by an earlier pattern but matching an inversion rule is included; an inverted pattern overrides lower precedence rules\n",
    "\n",
    "examples\n",
    "* `*` matches zero or more characters\n",
    "  * Linux: matches everything except slashes\n",
    "  * Windows: matches everything except slashes and backslashes\n",
    "* `**` recursively match zero or more directories under the current directory\n",
    "  * `**/*.md` recursively matches all markdown files\n",
    "* `?` matches a single character\n",
    "* `[ab]` either `a` or `b`\n",
    "* `[A-Za-z0-9]` matches an alphanumeric character\n",
    "* `\\` escapes a special symbol\n",
    "* `tmp/`\n",
    "  * `tmp/files.log`\n",
    "  * `tmp/subdir/files.log`\n",
    "  * `parent/tmp/files.log`\n",
    "  * `grandparent/parent/tmp/files.log`\n",
    "* `file.log`\n",
    "  * `file.log`\n",
    "  * `dir/file.log`\n",
    "* `dir/**/file`\n",
    "  * `dir/file`\n",
    "  * `dir/subdir/file`\n",
    "  * `dir/subdir/subsubdir/file`\n",
    "* `**/file`\n",
    "  * `dir/file`\n",
    "  * `anotherdir/file`\n",
    "  * `file`\n",
    "* `file?.log`\n",
    "  * `file1.log`\n",
    "  * `file2.log`\n",
    "* `!important.log` (not ignored)\n",
    "  * `important.log`\n",
    "  * `dir/important.log`\n",
    "* `\\#*.tmp` matches a file name beginning with a pound sign and ending with '.tmp'\n",
    "\n",
    "https://www.toptal.com/developers/gitignore"
   ]
  },
  {
   "cell_type": "markdown",
   "metadata": {},
   "source": [
    "#### .gitkeep"
   ]
  },
  {
   "cell_type": "markdown",
   "metadata": {},
   "source": [
    "Git keeps track of files, not folders. A folder will only be committed if it contains a file."
   ]
  },
  {
   "cell_type": "markdown",
   "metadata": {},
   "source": [
    "#### Managing branches"
   ]
  },
  {
   "cell_type": "markdown",
   "metadata": {},
   "source": [
    "Create a local branch and switch to it.\n",
    "\n",
    "```zsh\n",
    "git switch -c <branch>\n",
    "```\n",
    "\n",
    "Switch to a branch.\n",
    "\n",
    "```zsh\n",
    "git switch <branch>\n",
    "```\n",
    "\n",
    "Delete a local branch.\n",
    "\n",
    "```zsh\n",
    "git branch -d <branch>\n",
    "```\n",
    "\n",
    "Delete a remote branch (and the associated remote-tracking branch).\n",
    "\n",
    "```zsh\n",
    "git push -d origin <branch>\n",
    "```"
   ]
  },
  {
   "cell_type": "markdown",
   "metadata": {},
   "source": [
    "#### Managing large files"
   ]
  },
  {
   "cell_type": "markdown",
   "metadata": {},
   "source": [
    "```zsh\n",
    "git lfs version\n",
    "```\n",
    "\n",
    "One-and-done configuration.\n",
    "\n",
    "```zsh\n",
    "git lfs install\n",
    "```\n",
    "\n",
    "Per repo.\n",
    "\n",
    "```zsh\n",
    "git lfs track \"*.pad\"\n",
    "```\n",
    "\n",
    "```zsh\n",
    "git add .gitattributes\n",
    "```\n",
    "\n",
    "Preexisting files?: [`git lfs migrate`](https://github.com/git-lfs/git-lfs/blob/main/docs/man/git-lfs-migrate.adoc) ([examples](https://github.com/git-lfs/git-lfs/blob/main/docs/man/git-lfs-migrate.adoc#examples))\n",
    "\n",
    "```zsh\n",
    "git lfs migrate info\n",
    "```\n",
    "\n",
    "```zsh\n",
    "git lfs ls-files\n",
    "```\n",
    "\n",
    "```zsh\n",
    "git lfs clone --depth=1 <url>\n",
    "```\n",
    "\n",
    "Taking a peek inside the `.gitattributes` file."
   ]
  },
  {
   "cell_type": "markdown",
   "metadata": {},
   "source": [
    "[Large files with Git: LFS and git-annex](https://lwn.net/Articles/774125/)\n",
    "\n",
    "```{admonition} Careful\n",
    ":class: danger\n",
    "GitHub warns about files approaching\n",
    "* 25 MB via browser\n",
    "* 50 MB via command line\n",
    "\n",
    "Files approaching 100 MB are blocked.\n",
    "\n",
    "With Git LFS, you can store files up to 2 GB.\n",
    "\n",
    "Be careful about which assets you deploy via Git LFS and when: [monthly storage and bandwidth quotas](https://docs.github.com/en/repositories/working-with-files/managing-large-files/about-storage-and-bandwidth-usage).\n",
    "\n",
    "Also, repos should be less than\n",
    "* 1 GB (ideally)\n",
    "* 5 GB (recommended)\n",
    "\n",
    "Removing a large file from a repo's history\n",
    "* [git rm --cached](https://docs.github.com/en/repositories/working-with-files/managing-large-files/about-large-files-on-github#removing-files-from-a-repositorys-history)\n",
    "* [git filter-repo](https://docs.github.com/en/authentication/keeping-your-account-and-data-secure/removing-sensitive-data-from-a-repository)\n",
    "```"
   ]
  },
  {
   "cell_type": "markdown",
   "metadata": {},
   "source": [
    "#### Setting up a toy local-remote-collaborator system"
   ]
  },
  {
   "cell_type": "markdown",
   "metadata": {},
   "source": [
    "```zsh\n",
    "mkdir -p demo/{remote,local,collaborator} &&\n",
    "cd demo/remote                  &&\n",
    "git init                        &&\n",
    "echo \"# Demo\" > README.md       &&\n",
    "git add README.md               &&\n",
    "git commit -m \"initial commit\"  &&\n",
    "cd ../local                     &&\n",
    "git init                        &&\n",
    "git remote add origin ../remote &&\n",
    "git pull origin main            &&\n",
    "cd ../collaborator              &&\n",
    "git init                        &&\n",
    "git remote add origin ../remote &&\n",
    "git pull origin main            &&\n",
    "cd ..\n",
    "```\n",
    "\n",
    "or\n",
    "\n",
    "```zsh\n",
    "mkdir -p demo/remote            &&\n",
    "cd demo/remote                  &&\n",
    "git init                        &&\n",
    "echo \"# Demo\" > README.md       &&\n",
    "git add README.md               &&\n",
    "git commit -m \"initial commit\"  &&\n",
    "cd ..                           &&\n",
    "git clone remote local          &&\n",
    "git clone remote collaborator\n",
    "```\n",
    "\n",
    "```zsh\n",
    "brew install watch\n",
    "```\n",
    "\n",
    "```zsh\n",
    "watch -n1 -d find .\n",
    "```"
   ]
  },
  {
   "cell_type": "markdown",
   "metadata": {},
   "source": [
    "#### A view of the index and object store"
   ]
  },
  {
   "cell_type": "markdown",
   "metadata": {},
   "source": [
    "```zsh\n",
    "git init -b main && tree .git\n",
    "```\n",
    "```zsh\n",
    ".git\n",
    "├── HEAD\n",
    "├── config\n",
    "├── description\n",
    "├── hooks\n",
    "│   ├── applypatch-msg.sample\n",
    "│   ├── commit-msg.sample\n",
    "│   ├── fsmonitor-watchman.sample\n",
    "│   ├── post-update.sample\n",
    "│   ├── pre-applypatch.sample\n",
    "│   ├── pre-commit.sample\n",
    "│   ├── pre-merge-commit.sample\n",
    "│   ├── pre-push.sample\n",
    "│   ├── pre-rebase.sample\n",
    "│   ├── pre-receive.sample\n",
    "│   ├── prepare-commit-msg.sample\n",
    "│   ├── push-to-checkout.sample\n",
    "│   └── update.sample\n",
    "├── info\n",
    "│   └── exclude\n",
    "├── objects\n",
    "│   ├── info\n",
    "│   └── pack\n",
    "└── refs\n",
    "    ├── heads\n",
    "    └── tags\n",
    "\n",
    "9 directories, 17 files\n",
    "```\n",
    "\n",
    "* logs\n",
    "* COMMIT_EDITMSG\n",
    "* index\n",
    "* packed-refs"
   ]
  },
  {
   "cell_type": "markdown",
   "metadata": {},
   "source": [
    "#### Hosting a web page with GitHub Pages"
   ]
  },
  {
   "cell_type": "markdown",
   "metadata": {},
   "source": [
    "To do"
   ]
  },
  {
   "cell_type": "markdown",
   "metadata": {},
   "source": [
    "---"
   ]
  },
  {
   "cell_type": "markdown",
   "metadata": {},
   "source": [
    "### Commands\n",
    "\n",
    "[Command Reference](https://git-scm.com/docs/git#_git_commands)"
   ]
  },
  {
   "cell_type": "markdown",
   "metadata": {},
   "source": [
    "#### add"
   ]
  },
  {
   "cell_type": "markdown",
   "metadata": {},
   "source": [
    "[`git add`](https://git-scm.com/docs/git-add)\n",
    "\n",
    "\"make the copy in the index match the copy in the working directory\"\n",
    "* copy from the working directory to the index if the working directory copy is edited\n",
    "* remove from the index if the working directory copy is removed\n",
    "\n",
    "common idioms\n",
    "* `git add <file>` stage a file\n",
    "* `git add -A` or `git add .` stage all files\n",
    "* `git add -n` dry-run\n",
    "* `git add -v` verbose\n",
    "* `git add -p` or `git add --patch` patch mode\n",
    "* `git add -f` force add (override .gitignore)\n",
    "\n",
    "`git add [ -i | --interactive ]`"
   ]
  },
  {
   "cell_type": "markdown",
   "metadata": {},
   "source": [
    "#### am"
   ]
  },
  {
   "cell_type": "markdown",
   "metadata": {},
   "source": [
    "[`git am`](https://git-scm.com/docs/git-am) \"apply mailbox\"\n",
    "* `git am feature/0001-some-name.patch` apply a single patch\n",
    "* `git am feature/*.patch` apply all patches in a directory"
   ]
  },
  {
   "cell_type": "markdown",
   "metadata": {},
   "source": [
    "#### annotate"
   ]
  },
  {
   "cell_type": "markdown",
   "metadata": {},
   "source": [
    "[`git annotate`](https://git-scm.com/docs/git-annotate)\n",
    "* `git annotate <file>` similar to blame, different output format"
   ]
  },
  {
   "cell_type": "markdown",
   "metadata": {},
   "source": [
    "#### apply"
   ]
  },
  {
   "cell_type": "markdown",
   "metadata": {},
   "source": [
    "[`git apply`](https://git-scm.com/docs/git-apply)\n",
    "* `git apply path/to/output.diff` apply a diff patch file"
   ]
  },
  {
   "cell_type": "markdown",
   "metadata": {},
   "source": [
    "#### bisect"
   ]
  },
  {
   "cell_type": "markdown",
   "metadata": {},
   "source": [
    "[`git bisect`](https://git-scm.com/docs/git-bisect)\n",
    "* `git bisect start` starts bisect session\n",
    "* `git bisect good <treeish>` or `git bisect old <treeish>` treeish can be branch, sha, tag, HEAD\n",
    "* `git bisect bad <treeish>` or `git bisect new <treeish>`\n",
    "* `git bisect reset` reset working directory to state prior to bisect session start"
   ]
  },
  {
   "cell_type": "markdown",
   "metadata": {},
   "source": [
    "#### blame"
   ]
  },
  {
   "cell_type": "markdown",
   "metadata": {},
   "source": [
    "[`git blame`](https://git-scm.com/docs/git-blame)\n",
    "* `git blame filename.txt` annotate file with commit details\n",
    "* `git blame -w filename.txt` annotate file with commit details (ignore whitespace changes)\n",
    "* `git blame -L 100,150 filename.txt` annotate lines 100-150\n",
    "* `git blame -L 100,+50 filename.txt` annotate lines 100-150\n",
    "* `git blame <sha> filename.txt` annotate file at revision <sha>\n",
    "* `git blame <sha> -- filename.txt` annotate file at revision <sha>"
   ]
  },
  {
   "cell_type": "markdown",
   "metadata": {},
   "source": [
    "#### branch"
   ]
  },
  {
   "cell_type": "markdown",
   "metadata": {},
   "source": [
    "[`git branch`](https://git-scm.com/docs/git-branch)\n",
    "* `git branch` list local branches\n",
    "* `git branch -r` list remote-tracking branches\n",
    "* `git branch -a` list both local and remote-tracking branches\n",
    "* `git branch -v` list branches (verbose)\n",
    "* `git branch <branch>` create a new branch\n",
    "* `git branch -M main` Rename the current branch to `main`.\n",
    "* `git branch --merged [ HEAD | local | origin/remote | 1234567 ]` list branches that have been merged into the current branch\n",
    "  * uses the current branch by default\n",
    "  * branches whose tips are reachable from the specified commit (HEAD if not specified)\n",
    "  * the branch tip is in the history of the specified commit\n",
    "* `git branch --no-merged` list branches that have not been merged into the current branch\n",
    "* `git branch -r --merged` list branches that have been merged into the current branch (remote)\n",
    "* `git branch -r --no-merged` list branches that have not been merged into the current branch (remote)\n",
    "* `git branch -d <branch>` Delete a local branch.\n",
    "* `git branch -D <branch>` Delete a local branch regardless of push or merge status\n",
    "* `git branch --set-upstream-to=origin/main main`\n",
    "* `git branch --move oldname newname` rename branch"
   ]
  },
  {
   "cell_type": "markdown",
   "metadata": {},
   "source": [
    "#### cat-file"
   ]
  },
  {
   "cell_type": "markdown",
   "metadata": {},
   "source": [
    "[`git cat-file`](https://git-scm.com/docs/git-cat-file)\n",
    "* `git cat-file -p <hash prefix>` - show the contents of an object file\n",
    "* `git cat-file -t <hash prefix>` - show the type of an object file"
   ]
  },
  {
   "cell_type": "markdown",
   "metadata": {},
   "source": [
    "#### checkout"
   ]
  },
  {
   "cell_type": "markdown",
   "metadata": {},
   "source": [
    "[`git checkout`](https://git-scm.com/docs/git-checkout)\n",
    "* `git checkout` discards working directory (unstaged) changes, reverts to most recent commit state\n",
    "* `git checkout <branch>` switch to an existing branch\n",
    "* `git checkout -b <branch>` create a new branch and switch to it\n",
    "* `git checkout <checksum>` detached state\n",
    "* `git checkout -- <file>` remove file from staging area and discard working directory changes too. DEPRECATED! to discard changes to file <file> in the working tree, see `git restore <file>`\n",
    "* `git checkout -b <branch> <hash>` recover a branch after accidental deletion (use hash of the branch given by reflog)"
   ]
  },
  {
   "cell_type": "markdown",
   "metadata": {},
   "source": [
    "#### cherry-pick"
   ]
  },
  {
   "cell_type": "markdown",
   "metadata": {},
   "source": [
    "[`git cherry-pick`](https://git-scm.com/docs/git-cherry-pick)\n",
    "* `git cherry-pick [ <sha> | <sha..sha> ]`\n",
    "* `git cherry-pick -e` or `git cherry-pick --edit` edit the commit message (otherwise the previous commit message is used)\n",
    "* `git cherry-pick --continue`\n",
    "* `git cherry-pick --skip`\n",
    "* `git cherry-pick --abort`"
   ]
  },
  {
   "cell_type": "markdown",
   "metadata": {},
   "source": [
    "#### clean"
   ]
  },
  {
   "cell_type": "markdown",
   "metadata": {},
   "source": [
    "[`git clean`](https://git-scm.com/docs/git-clean)\n",
    "* `git clean -f` remove untracked files from the working directory (doesn't remove files that are ignored by git or files that are staged or committed)\n",
    "* `git clean -f -d` removes directories too\n",
    "* `git clean -f -d -n` or `git clean -f -d --dry-run`"
   ]
  },
  {
   "cell_type": "markdown",
   "metadata": {},
   "source": [
    "#### clone"
   ]
  },
  {
   "cell_type": "markdown",
   "metadata": {},
   "source": [
    "[`git clone`](https://git-scm.com/docs/git-clone) create a complete copy of a repo\n",
    "* `git clone <url> [<destination>]`"
   ]
  },
  {
   "cell_type": "markdown",
   "metadata": {},
   "source": [
    "#### commit"
   ]
  },
  {
   "cell_type": "markdown",
   "metadata": {},
   "source": [
    "[`git commit`](https://git-scm.com/docs/git-commit) add staged changes to the local repo\n",
    "\n",
    "common idioms\n",
    "* `git commit -m '<message>'`\n",
    "* `git commit -m '<message>' <file>` combines the two steps `git add` and `git commit` for an existing tracked file (does not apply to `rm` or `mv`)\n",
    "* `git commit -am '<message>'`\n",
    "* `git commit -am '<message>' --amend` modify the most recent commit (that hasn't already been pushed)\n",
    "* `git commit -vv` verbose\n",
    "* `git commit -p` patch mode\n",
    "\n",
    "`git commit [ -a | --all ]`\n",
    "* git recursively traverses the entire repo; stages all known file changes, including removals of tracked files from the working directory; and commits them\n",
    "\n",
    "more options\n",
    "\n",
    "`git commit [ --dry-run ] [ --interactive ]`\n",
    "\n",
    "low-level equivalent to `git commit`\n",
    "\n",
    "`git write-tree && echo -n '<message>' | git commit-tree <name>`"
   ]
  },
  {
   "cell_type": "markdown",
   "metadata": {},
   "source": [
    "#### commit-tree"
   ]
  },
  {
   "cell_type": "markdown",
   "metadata": {},
   "source": [
    "[`git commit-tree`](https://git-scm.com/docs/git-commit-tree)\n",
    "* `git commit-tree <hash prefix>`"
   ]
  },
  {
   "cell_type": "markdown",
   "metadata": {},
   "source": [
    "#### config"
   ]
  },
  {
   "cell_type": "markdown",
   "metadata": {},
   "source": [
    "[`git config`](https://git-scm.com/docs/git-config)\n",
    "* `git config -e`\n",
    "* `git config -l --show-scope --show-origin [ --global | --local | --system ]`\n",
    "\n",
    "more\n",
    "* `git config --global fetch.prune true` (CAREFUL! this is a destructive default that may discard remote-tracking branches that you are still using locally)\n",
    "* `git config --global alias.praise blame`\n",
    "* `git config --global user.name <name>`\n",
    "* `git config --global user.email <email>`\n",
    "* `git config --global init.defaultBranch main`\n",
    "* `git config --global core.autocrlf [input (macOS) | true (Windows)]`\n",
    "* `git config --global core.editor [code --wait | emacs | nano | vim]`\n",
    "* `git config --global pager.branch false`\n",
    "* `git config --global pull.rebase [\"false\" (default: fast-forward if possible else merge commit) | \"true\" (rebase when pulling)]`\n",
    "* `git config --global alias.co checkout`\n",
    "* `git config --global alias.br branch`\n",
    "* `git config --global alias.ci commit`\n",
    "* `git config --global alias.st status`\n",
    "* `git config --global commit.gpgsign true`\n",
    "* `git config --global gpg.format ssh`\n",
    "* `git config --global gpg.ssh.allowedSignersFile ~/.ssh/allowed_signers`\n",
    "* `git config --global gpg.ssh.program /Applications/1Password.app/Contents/MacOS/op-ssh-sign`\n",
    "* `git config --global user.signingkey ssh-ed25519 AAAA...`\n",
    "* `git config --global core.editor \"'notepad++.exe' -multiInst -notabbar -nosession -noPlugins\"`\n",
    "* `git config --global color.ui true`"
   ]
  },
  {
   "cell_type": "markdown",
   "metadata": {},
   "source": [
    "#### diff"
   ]
  },
  {
   "cell_type": "markdown",
   "metadata": {},
   "source": [
    "`diff -r repo1 repo2` compare the contents of two repos (e.g., a repo and its clone)"
   ]
  },
  {
   "cell_type": "markdown",
   "metadata": {},
   "source": [
    "[`git diff`](https://git-scm.com/docs/git-diff)\n",
    "\n",
    "`git diff` compare changes in the working directory to those in the index\n",
    "\n",
    "`git diff [ --cached | --staged ]` compare changes in the index to those in the previous commit\n",
    "\n",
    "`git diff <from-commit> <to-commit> > output.diff` create a diff patch"
   ]
  },
  {
   "cell_type": "markdown",
   "metadata": {},
   "source": [
    "#### diff-tree"
   ]
  },
  {
   "cell_type": "markdown",
   "metadata": {},
   "source": [
    "[`git diff-tree`](https://git-scm.com/docs/git-diff-tree) compare the differences between two tree objects (shows the changes made to the file structure and contents)\n",
    "* `git diff-tree <commit1> <commit2>`"
   ]
  },
  {
   "cell_type": "markdown",
   "metadata": {},
   "source": [
    "#### difftool"
   ]
  },
  {
   "cell_type": "markdown",
   "metadata": {},
   "source": [
    "[`git difftool`](https://git-scm.com/docs/git-difftool)\n",
    "* `git difftool --tool-help`"
   ]
  },
  {
   "cell_type": "markdown",
   "metadata": {},
   "source": [
    "#### fetch"
   ]
  },
  {
   "cell_type": "markdown",
   "metadata": {},
   "source": [
    "[`git fetch`](https://git-scm.com/docs/git-fetch) changes from the remote repo are copied to the remote-tracking branch\n",
    "* `git fetch` fetches commits and tags from the default remote (origin)\n",
    "* `git fetch --all` fetches commits and tags from all remotes\n",
    "* `git fetch --tags` fetches tags only (with necessary commits only)\n",
    "* `git fetch -p` or `git fetch --prune` shortcut: prune, then fetch"
   ]
  },
  {
   "cell_type": "markdown",
   "metadata": {},
   "source": [
    "#### format-patch"
   ]
  },
  {
   "cell_type": "markdown",
   "metadata": {},
   "source": [
    "[`git format-patch`](https://git-scm.com/docs/git-format-patch)\n",
    "* `git format-patch -1 <sha>` export a single commit\n",
    "* `git format-patch main` or `git format-patch main..HEAD` export all commits on the current branch that are not in the main branch\n",
    "* `git format-patch <sha>..<sha>` export all commits in the range\n",
    "* `git format-patch <sha>..<sha> -o ./feature_patches` put patch files into a directory\n",
    "* `git format-patch <sha>..<sha> --stdout > feature_patch` output patches as a single file"
   ]
  },
  {
   "cell_type": "markdown",
   "metadata": {},
   "source": [
    "#### gc"
   ]
  },
  {
   "cell_type": "markdown",
   "metadata": {},
   "source": [
    "[`git gc`](https://git-scm.com/docs/git-gc) \"garbage collection\""
   ]
  },
  {
   "cell_type": "markdown",
   "metadata": {},
   "source": [
    "#### hash-object"
   ]
  },
  {
   "cell_type": "markdown",
   "metadata": {},
   "source": [
    "[`git hash-object`](https://git-scm.com/docs/git-hash-object)\n",
    "\n",
    "`git hash-object <name>`\n",
    "\n",
    "`echo 'hello world' | git hash-object --stdin`"
   ]
  },
  {
   "cell_type": "markdown",
   "metadata": {},
   "source": [
    "#### help"
   ]
  },
  {
   "cell_type": "markdown",
   "metadata": {},
   "source": [
    "[`git help`](https://git-scm.com/docs/git-help)\n",
    "* `git help -a` list command categories"
   ]
  },
  {
   "cell_type": "markdown",
   "metadata": {},
   "source": [
    "#### init"
   ]
  },
  {
   "cell_type": "markdown",
   "metadata": {},
   "source": [
    "[`git init`](https://git-scm.com/docs/git-init)\n",
    "* `git init` setup a local repo\n",
    "* `git init --bare`"
   ]
  },
  {
   "cell_type": "markdown",
   "metadata": {},
   "source": [
    "#### log"
   ]
  },
  {
   "cell_type": "markdown",
   "metadata": {},
   "source": [
    "[`git log`](https://git-scm.com/docs/git-log) view the commit history\n",
    "\n",
    "* `git log` or `git log HEAD` view the commit history reachable from HEAD\n",
    "* `git log filename.txt` lists commits that changed filename.txt (this is a log of this file's activity in the current branch)\n",
    "* `git log <branch>` show commit history below branch <branch>\n",
    "* `git log --all` show commit history below all branches\n",
    "* `git log --graph`\n",
    "* `git log --oneline` or `git log --pretty=oneline` seven-digit ID + commit message\n",
    "* `git log --oneline --graph --all [--decorate]` useful for visualizing branches\n",
    "* `git log -p` or `git log --patch` list commits as patches (diffs)\n",
    "* `git log -2`\n",
    "* `git log -p -2`\n",
    "* `git log --stat`\n",
    "* `git log --pretty=short`\n",
    "* `git log --pretty=full`\n",
    "* `git log --pretty=fuller`\n",
    "* `git log --pretty=format:\"%h - %an, %ar : %s\"`\n",
    "* `git log --pretty=format:\"%h %s\" --graph`\n",
    "* `git log -L 100,150:filename.txt` list changes to lines 100-150 in filename.txt\n",
    "* `git log -L 100,+50:filename.txt` list changes to lines 100-150 in filename.txt\n",
    "* `git log --since=2019-05-14`\n",
    "* `git log --author=Dave`\n",
    "* `git log --grep='<regex>'` search commit messages\n",
    "* `git log --grep='nothing' --author=Dave --since=2019-05-04`\n",
    "* `git log --grep='nothing' --grep='commit' --all-match` logical and\n",
    "* `git log --grep='nothing' --grep='commit' --all-match --invert-grep` negation\n",
    "\n",
    "`git log` operates on a series of commits"
   ]
  },
  {
   "cell_type": "markdown",
   "metadata": {},
   "source": [
    "#### ls-files"
   ]
  },
  {
   "cell_type": "markdown",
   "metadata": {},
   "source": [
    "[`git ls-files`](https://git-scm.com/docs/git-ls-files) - show the contents of the index\n",
    "\n",
    "* `git ls-files [ -s | --stage ]` show staged contents' mode bits, object name, and stage number in the output\n",
    "* `git ls-files --debug`"
   ]
  },
  {
   "cell_type": "markdown",
   "metadata": {},
   "source": [
    "#### ls-tree"
   ]
  },
  {
   "cell_type": "markdown",
   "metadata": {},
   "source": [
    "[`git ls-tree`](https://git-scm.com/docs/git-ls-tree)\n",
    "* `git ls-tree --full-tree --name-only -r HEAD` List currently-tracked files."
   ]
  },
  {
   "cell_type": "markdown",
   "metadata": {},
   "source": [
    "#### merge"
   ]
  },
  {
   "cell_type": "markdown",
   "metadata": {},
   "source": [
    "[`git merge`](https://git-scm.com/docs/git-merge)\n",
    "* `git merge <branch>`\n",
    "* `git merge --squash`"
   ]
  },
  {
   "cell_type": "markdown",
   "metadata": {},
   "source": [
    "#### merge-base"
   ]
  },
  {
   "cell_type": "markdown",
   "metadata": {},
   "source": [
    "[`git merge-base`](https://git-scm.com/docs/git-merge-base)\n",
    "* `git merge-base main new_feature` return commit where topic or feature branch diverges from the source branch (shows the commit that is the current base)"
   ]
  },
  {
   "cell_type": "markdown",
   "metadata": {},
   "source": [
    "#### mergetool"
   ]
  },
  {
   "cell_type": "markdown",
   "metadata": {},
   "source": [
    "[`git mergetool`](https://git-scm.com/docs/git-mergetool)"
   ]
  },
  {
   "cell_type": "markdown",
   "metadata": {},
   "source": [
    "#### mv"
   ]
  },
  {
   "cell_type": "markdown",
   "metadata": {},
   "source": [
    "[`git mv`](https://git-scm.com/docs/git-mv) stage a file for renaming in the repo\n",
    "\n",
    "`git mv`\n",
    "\n",
    "is equivalent to\n",
    "\n",
    "```\n",
    "mv foo.html bar.html\n",
    "git  rm foo.html\n",
    "git add bar.html\n",
    "```"
   ]
  },
  {
   "cell_type": "markdown",
   "metadata": {},
   "source": [
    "#### prune"
   ]
  },
  {
   "cell_type": "markdown",
   "metadata": {},
   "source": [
    "[`git prune`](https://git-scm.com/docs/git-prune) prune all unreachable objects (part of git's automatic garbage collection)"
   ]
  },
  {
   "cell_type": "markdown",
   "metadata": {},
   "source": [
    "#### pull"
   ]
  },
  {
   "cell_type": "markdown",
   "metadata": {},
   "source": [
    "[`git pull`](https://git-scm.com/docs/git-pull)\n",
    "* `git pull` fetch the latest commits from a remote repo and merge them into the current branch; affects only the current branch by default; fetched commits are stored in the associated remote-tracking branch; untracked changes are overwritten (your local repo should be stashed, committed, and free of untracked changes before pulling)\n",
    "* `git pull -v` verbose\n",
    "* `git pull -r` or `git pull --rebase` rebase instead of merge\n",
    "* `git pull --rebase=preserve` preserve locally-created merge commits (use if commits that you are rebasing include merge commits)\n",
    "* `git pull --rebase=interactive`\n",
    "* `git pull --allow-unrelated-histories`"
   ]
  },
  {
   "cell_type": "markdown",
   "metadata": {},
   "source": [
    "#### push"
   ]
  },
  {
   "cell_type": "markdown",
   "metadata": {},
   "source": [
    "[`git push`](https://git-scm.com/docs/git-push) changes in the local repo are pushed to the remote repo\n",
    "* `git push` push current branch\n",
    "* `git push origin <branch>` push branch\n",
    "* `git push --all` push all branches\n",
    "* `git push -u origin main` or `git push --set-upstream origin main` create a branch in the remote repo called main\n",
    "* `git push -v` verbose\n",
    "* `git push -f` or `git push --force` force push (CAREFUL! this rewrites the history)\n",
    "* `git push -d origin <branch>` or `git push --delete origin <branch>` Delete a remote branch (automatically deletes the remote-tracking branch).\n",
    "* `git push origin <tag>` push some tag\n",
    "* `git push origin --tags` push all tags\n",
    "* `git push origin --follow-tags` push annotated tags only\n",
    "* `git push -d origin <tag>` or `git push --delete origin <tag>` Delete a remote tag.\n",
    "* `git push origin :refs/tags/<tag>` delete a remote tag ???\n",
    "* `git push --force-with-lease` allows the push to proceed only if the remote branch's expected state matches the local branch's expected state, based on the previously known state of the remote branch; a safer alternative to git push -f as it helps prevent inadvertently overwriting commits that you are not aware of"
   ]
  },
  {
   "cell_type": "markdown",
   "metadata": {},
   "source": [
    "#### rebase"
   ]
  },
  {
   "cell_type": "markdown",
   "metadata": {},
   "source": [
    "[`git rebase`](https://git-scm.com/docs/git-rebase)\n",
    "* `git rebase main` rebase current branch to tip of main\n",
    "* `git rebase main new_feature` rebase new_feature branch to tip of main\n",
    "* `git rebase --onto newbase upstream branch` rewind branch to point of merge with upstream then replay commits in order onto tip of newbase\n",
    "* `git rebase --continue`\n",
    "* `git rebase --skip`\n",
    "* `git rebase --abort`\n",
    "* `git rebase -i main new_feature` interactive mode\n",
    "* `git rebase -i HEAD~3` rebase the last three commits onto the same branch, with the interactive opportunity to modify them (CAREFUL! destructive; useful for local commits that haven't been shared with others)"
   ]
  },
  {
   "cell_type": "markdown",
   "metadata": {},
   "source": [
    "#### reflog"
   ]
  },
  {
   "cell_type": "markdown",
   "metadata": {},
   "source": [
    "[`git reflog`](https://git-scm.com/docs/git-reflog) reference logs store updates to branch tips and other references in the local repo"
   ]
  },
  {
   "cell_type": "markdown",
   "metadata": {},
   "source": [
    "#### remote"
   ]
  },
  {
   "cell_type": "markdown",
   "metadata": {},
   "source": [
    "[`git remote`](https://git-scm.com/docs/git-remote)\n",
    "* `git remote` list remotes\n",
    "* `git remote -v` list remotes (verbose)\n",
    "* `git remote show <url>`\n",
    "* `git remote add origin <url>`\n",
    "* `git remote get-url origin [--all]`\n",
    "* `git remote rename origin destination`\n",
    "* `git remote rm origin`\n",
    "* `git remote set-url origin <url>`\n",
    "* `git remote prune origin [--dry-run]` delete stale remote-tracking branches"
   ]
  },
  {
   "cell_type": "markdown",
   "metadata": {},
   "source": [
    "#### reset"
   ]
  },
  {
   "cell_type": "markdown",
   "metadata": {},
   "source": [
    "[`git reset`](https://git-scm.com/docs/git-reset) move the current branch pointer to a specific commit/position\n",
    "* `git reset --soft HEAD~1` undo previous commit and put changes back in the staging area (working directory changes are left alone)\n",
    "* `git reset --hard HEAD~1` undo previous commit and discard commit changes (working directory changes are discarded and working directory reflects the state of the previous commit) (CAREFULE! destructive)\n",
    "* `git reset --hard origin/main` force an overwrite of your local files by the state of remote main branch\n",
    "* `git reset HEAD <FILE>` [OLD] to unstage; see `git restore -S <FILE>`\n",
    "* `git reset HEAD@{1}`\n",
    "* `git reset HEAD^` or `git reset HEAD^1` the commit's first parent\n",
    "* `git reset HEAD^2` the commit's second parent\n",
    "* `git reset HEAD~` or `git reset HEAD~1` the commit's first parent\n",
    "* `git reset HEAD~2` or `git commit HEAD^^` the commit's first parent's first parent\n",
    "* `git reset HEAD~n` the commit's nth parent (n commits before HEAD, the nth generation ancestor of HEAD)\n",
    "* `git reset -p` patch mode\n",
    "* `git reset <file>` move staged file out of staging area (preserve working directory changes)"
   ]
  },
  {
   "cell_type": "markdown",
   "metadata": {},
   "source": [
    "#### restore"
   ]
  },
  {
   "cell_type": "markdown",
   "metadata": {},
   "source": [
    "[`git restore`](https://git-scm.com/docs/git-restore)\n",
    "* `git restore <file>` or `git restore -W <file>` or `git restore --worktree <file>` undo changes to a file in the working directory\n",
    "* `git restore .` or `git restore -W .` or `git restore --worktree .` undo changes to all file in the working directory\n",
    "* `git restore -S <file>` or `git restore --staged <file>` unstage a file\n",
    "* `git restore -S .` or `git restore --staged .` unstage all files\n",
    "* `git restore -p` patch mode"
   ]
  },
  {
   "cell_type": "markdown",
   "metadata": {},
   "source": [
    "#### rev-list"
   ]
  },
  {
   "cell_type": "markdown",
   "metadata": {},
   "source": [
    "[`git rev-list`](https://git-scm.com/docs/git-rev-list)"
   ]
  },
  {
   "cell_type": "markdown",
   "metadata": {},
   "source": [
    "#### rev-parse"
   ]
  },
  {
   "cell_type": "markdown",
   "metadata": {},
   "source": [
    "[`git rev-parse`](https://git-scm.com/docs/git-rev-parse)\n",
    "* `git rev-parse <commit> [ --is-bare-repository ]` translates a relative commit name to the absolute commit name"
   ]
  },
  {
   "cell_type": "markdown",
   "metadata": {},
   "source": [
    "#### revert"
   ]
  },
  {
   "cell_type": "markdown",
   "metadata": {},
   "source": [
    "[`git revert`](https://git-scm.com/docs/git-revert)\n",
    "* `git revert <checksum-id>` (does not rewrite the history, but adds a new commit to the history)"
   ]
  },
  {
   "cell_type": "markdown",
   "metadata": {},
   "source": [
    "#### rm"
   ]
  },
  {
   "cell_type": "markdown",
   "metadata": {},
   "source": [
    "[`git rm`](https://git-scm.com/docs/git-rm) stage a file for removal from the repo\n",
    "\n",
    "`git rm` is the inverse of `git add`: it removes a file from both the repo and the working directory\n",
    "\n",
    "`git rm --cached <file>` remove a file from the index only (the copy of the file in the working directory is left alone)\n",
    "\n",
    "\"Using `git rm --cached` to make a file untracked while leaving a copy in the working directory is dangerous because you may forget that it is no longer being tracked. Using this approach also overrides Git's check that the working file's contents are current.\"\n",
    "\n",
    "`rm <file>` remove a file from the working directory only\n",
    "\n",
    "`git rm <file>` remove a file from both the index and the working directory (\"Before Git removes a file, it checks to make sure the version of the file in the working directory matches the latest version in the current branch. Use `git rm -f` to force the removal of the file even if you have altered it since your last commit.\")\n",
    "\n",
    "`git restore --staged <file>`\n",
    "\n",
    "copies the file from commit HEAD into the index so that the index copy and the HEAD copy now match (the copy of the file in the working directory is left alone)\n",
    "\n",
    "if HEAD lacks the file, this has the effect of removing the file from the index\n",
    "\n",
    "`git reset <file>`\n",
    "\n",
    "copies the file from ommit HEAD into the indext\n",
    "\n",
    "`git restore -SW <file>` is equivalent to `git checkout HEAD -- <file>`"
   ]
  },
  {
   "cell_type": "markdown",
   "metadata": {},
   "source": [
    "#### show"
   ]
  },
  {
   "cell_type": "markdown",
   "metadata": {},
   "source": [
    "[`git show`](https://git-scm.com/docs/git-show)\n",
    "* `git show` or `git show HEAD` show changes of the previous commit\n",
    "* `git show [ <checksum> | <sha> | <tag> ]`\n",
    "* `git show <checksum> -2`\n",
    "* `git show <checksum> --show-signature`\n",
    "* `git show refs/head/<branch>` explicit path to branch; useful if branch name matches tag name for example\n",
    "* `git show <commit> --stat` display a histogram showing inserts, deletion, and modifications per file for a specific commit along with its general commit information"
   ]
  },
  {
   "cell_type": "markdown",
   "metadata": {},
   "source": [
    "#### show-branch"
   ]
  },
  {
   "cell_type": "markdown",
   "metadata": {},
   "source": [
    "[`git show-branch`](https://git-scm.com/docs/git-show-branch)\n",
    "\n",
    "view concise, one-line summaries for the current branch"
   ]
  },
  {
   "cell_type": "markdown",
   "metadata": {},
   "source": [
    "#### show-ref"
   ]
  },
  {
   "cell_type": "markdown",
   "metadata": {},
   "source": [
    "[`git show-ref`](https://git-scm.com/docs/git-show-ref)\n",
    "* `git show-ref --head` finds the HEAD of the current branch"
   ]
  },
  {
   "cell_type": "markdown",
   "metadata": {},
   "source": [
    "#### stash"
   ]
  },
  {
   "cell_type": "markdown",
   "metadata": {},
   "source": [
    "[`git stash`](https://git-scm.com/docs/git-stash)\n",
    "* `git stash`\n",
    "* `git stash save <name>`\n",
    "* `git stash pop` applies the topmost entry in the stash to the working files and removes it from the stash\n",
    "* `git stash apply` applies the topmost entry in the stash to the working files but leaves it in the stash\n",
    "* `git stash -p` patch mode\n",
    "* `git stash branch <branch>` restore some previously stashed work to a new branch\n",
    "* `git stash show -p stash@{2}` see the details of the changes in the first of three stash entries"
   ]
  },
  {
   "cell_type": "markdown",
   "metadata": {},
   "source": [
    "#### status"
   ]
  },
  {
   "cell_type": "markdown",
   "metadata": {},
   "source": [
    "[`git status`](https://git-scm.com/docs/git-status) - query the state of the index (compares the virtual tree state with the working tree and displays the difference as the output)\n",
    "\n",
    "* `git status`\n",
    "* `git status -bs`\n",
    "* `git status -u`\n",
    "* `git status -v`\n",
    "* `git status -vv`"
   ]
  },
  {
   "cell_type": "markdown",
   "metadata": {},
   "source": [
    "#### submodule"
   ]
  },
  {
   "cell_type": "markdown",
   "metadata": {},
   "source": [
    "[`git submodule`](https://git-scm.com/docs/git-submodule)"
   ]
  },
  {
   "cell_type": "markdown",
   "metadata": {},
   "source": [
    "#### switch"
   ]
  },
  {
   "cell_type": "markdown",
   "metadata": {},
   "source": [
    "[`git switch`](https://git-scm.com/docs/git-switch)\n",
    "* `git switch <branch>` switch to branch <branch>\n",
    "* `git switch -c <branch>` create a new branch and switch to it\n",
    "* `git switch -` return to the previously checked out branch"
   ]
  },
  {
   "cell_type": "markdown",
   "metadata": {},
   "source": [
    "#### symbolic-ref"
   ]
  },
  {
   "cell_type": "markdown",
   "metadata": {},
   "source": [
    "[`git symbolic-ref`](https://git-scm.com/docs/git-symbolic-ref)"
   ]
  },
  {
   "cell_type": "markdown",
   "metadata": {},
   "source": [
    "#### tag"
   ]
  },
  {
   "cell_type": "markdown",
   "metadata": {},
   "source": [
    "[`git tag`](https://git-scm.com/docs/git-tag)\n",
    "* `git tag` or `git tag -l` or `git tag --list` list all tags (tags are not tied to branches; they just point to commits regardless of whcih branches they're on)\n",
    "* `git tag -l \"v2*\"` list tags beginning with \"v2\"\n",
    "* `git tag -n` (implies `-l`) list tags with the first line of each annotation (or commit message if no annotation)\n",
    "* `git tag -n5` (implies `-l`) list tags with the first five lines of each annotation (or commit message if no annotation)\n",
    "* `git tag -s <tag> [<commit>]` lightweight tag\n",
    "* `git tag -s -a <tag> [<commit>] -m 'Version 0.1'` annotated tag\n",
    "* `git tag -d <tag> [<commit>]` or `git tag --delete <tag> [<commit>]` delete a tag\n",
    "* `git tag -v <tag> [<commit>]` verify signed tag"
   ]
  },
  {
   "cell_type": "markdown",
   "metadata": {},
   "source": [
    "#### write-tree"
   ]
  },
  {
   "cell_type": "markdown",
   "metadata": {},
   "source": [
    "[`git write-tree`](https://git-scm.com/docs/git-write-tree) create a tree object from the current index"
   ]
  },
  {
   "cell_type": "markdown",
   "metadata": {},
   "source": [
    "#### worktree"
   ]
  },
  {
   "cell_type": "markdown",
   "metadata": {},
   "source": [
    "[`git worktree`](https://git-scm.com/docs/git-worktree)"
   ]
  },
  {
   "cell_type": "markdown",
   "metadata": {},
   "source": [
    "---"
   ]
  },
  {
   "cell_type": "markdown",
   "metadata": {},
   "source": [
    "## Resources"
   ]
  },
  {
   "cell_type": "markdown",
   "metadata": {},
   "source": [
    "[ [h](https://git-scm.com/) ][ [d](https://git-scm.com/docs) ][ y ] Git\n",
    "* [ [d](https://git-scm.com/docs/gitattributes) ] gitattributes\n",
    "* [ [h](https://git-annex.branchable.com/) ][ g ][ [w](https://en.wikipedia.org/wiki/Git-annex) ] git-annex\n",
    "* [ [h](https://git-lfs.github.com) ][ [ g ](https://github.com/git-lfs/git-lfs/tree/main) ][ w ] Git LFS\n",
    "  * [ [d](https://docs.github.com/en/repositories/working-with-files/managing-large-files) ] Managing large files\n",
    "  * https://www.atlassian.com/git/tutorials/git-lfs\n",
    "* [ [h](https://github.com/github/git-sizer) ][ g ][ w ] git-sizer\n",
    "* [ [h](https://pre-commit.com/) ][ [g](https://github.com/pre-commit/pre-commit) ][ w ] pre-commit\n",
    "\n",
    "[ [h](https://github.com/) ][ [d](https://docs.github.com/) ][ [y](https://www.youtube.com/channel/UC7c3Kb6jYCRj4JOHHZTxKsQ) ] GitHub\n",
    "* [ [h](https://cli.github.com/) ][ [d](https://cli.github.com/manual/) ][ [g](https://github.com/cli/cli) ] GitHub CLI\n",
    "* [ [h](https://pages.github.com) ][ [d](https://docs.github.com/en/pages) ][ g ] GitHub Pages\n",
    "\n",
    "[ [h](https://about.gitlab.com) ][ [d](https://docs.gitlab.com) ][ [y](https://www.youtube.com/@Gitlab) ] GitLab\n",
    "* [Use SSH keys to communicate with GitLab](https://docs.gitlab.com/ee/user/ssh.html)\n",
    "\n",
    "[ [h](https://graphite.dev/) ] Graphite\n",
    "\n",
    "More Git Providers\n",
    "* [ [h](https://aws.amazon.com/codecommit/) ][ d ] AWS CodeCommit\n",
    "* [ [h](https://bitbucket.org/product) ][ d ] Atlassian Bitbucket\n",
    "\n",
    "[[2020](https://missing.csail.mit.edu/2020/version-control/)][[2019](https://missing.csail.mit.edu/2019/version-control/)] MIT Missing Semester: Version Control\n",
    "\n",
    "David Mahler\n",
    "* [ [y](https://www.youtube.com/watch?v=Gg4bLk8cGNo) ] David Mahler. (2018). \"Introduction to Git - Remotes\".\n",
    "* [ [y](https://www.youtube.com/watch?v=FyAAIHHClqI) ] David Mahler. (2017). \"Introduction to Git - Branching and Merging\".\n",
    "* [ [y](https://www.youtube.com/watch?v=uR6G2v_WsRA&t=11s) ] David Mahler. (2017). \"Introduction to Git - Core Concepts\".\n",
    "\n",
    "freeCodeCamp\n",
    "* [ [y](https://www.youtube.com/watch?v=qsTthZi23VE) ] `11-18-2021`. freeCodeCamp. \"Advanced Git Tutorial - Interactive Rebase, Cherry-Picking, Reflog, Submodules, and more\". YouTube.\n",
    "* [ [y](https://www.youtube.com/watch?v=Uszj_k0DGsg) ] `09-30-2021`. freeCodeCamp. \"Git for Professionals Tutorial - Tools & Concepts for Mastering Version Control with Git\". YouTube.\n",
    "* [ [y](https://www.youtube.com/watch?v=e2IbNHi4uCI) ] `07-13-2021`. freeCodeCamp. \"Git Branch Tutorial\".\n",
    "* [ [y](https://www.youtube.com/watch?v=lX9hsdsAeTk) ] `11-24-2020`. freeCodeCamp. \"How to Undo Mistakes WIth Git Using the Command Line\". YouTube.\n",
    "* [ [y](https://www.youtube.com/watch?v=RGOj5yH7evk) ] `05-28-2020`. freeCodeCamp. \"Git and GitHub for Beginners - Crash Course\". YouTube.\n",
    "* [ [y](https://www.youtube.com/playlist?list=PLWKjhJtqVAbkFiqHnNaxpOPhh9tSWMXIF) ] `09-23-2016`. freeCodeCamp. \"Git & GitHub\".\n",
    "\n",
    "YouTube\n",
    "* [ [y](https://www.youtube.com/watch?v=P6jD966jzlk) ] GitLab. (14 Nov 2017). \"Git Internals - How Git Works - Fear Not The SHA!\". YouTube.\n",
    "* [ [y](https://www.youtube.com/watch?v=wPq-okUgiUU) ] Mr. P Solver. (16 May 2022). \"A Git Tutorial Based On Examples (Code Along!)\". YouTube.\n",
    "* [ [y](https://www.youtube.com/watch?v=lG90LZotrpo) ] CS50. (11 Apr 2018). \"Git Internals by John Britton of GitHub - CS50 Tech Talk\". YouTube.\n",
    "* [ [y](https://www.youtube.com/watch?v=1ffBJ4sVUb4) ] HackersOnBoard. (2013). \"[Linux.conf.au 2013] - Git For Ages 4 and Up\".\n",
    "\n",
    "VS Code\n",
    "* [ [d](https://code.visualstudio.com/docs/sourcecontrol/overview) ] Using Git source control in VS Code\n",
    "* [ [e](https://marketplace.visualstudio.com/items?itemName=mhutchie.git-graph) ] Git Graph extension\n",
    "* [ [e](https://marketplace.visualstudio.com/items?itemName=donjayamanne.githistory) ] Git History extension\n",
    "* [ [e](https://marketplace.visualstudio.com/items?itemName=eamodio.gitlens) ] GitLens extension\n",
    "\n",
    "More\n",
    "* [Write yourself a git!](https://wyag.thb.lt/)\n",
    "* [ [h](https://dahlbyk.github.io/posh-git/) ][ [g](https://github.com/dahlbyk/posh-git) ] Posh Git\n",
    "* https://github.com/pluralsight/git-internals-pdf\n",
    "* https://matthew-brett.github.io/curious-git/\n",
    "* [Cryptanalysis of SHA1](https://www.schneier.com/blog/archives/2005/02/cryptanalysis_o.html)\n",
    "* [Shattered](https://shattered.io)\n",
    "* [DEFLATE](https://datatracker.ietf.org/doc/html/rfc1951)\n",
    "* [Zlib](https://zlib.net)\n",
    "* https://git-scm.com/docs/hash-function-transition\n",
    "* https://www.git-tower.com/blog/git-performance"
   ]
  },
  {
   "cell_type": "markdown",
   "metadata": {},
   "source": [
    "* [ [y](https://www.youtube.com/watch?v=aolI_Rz0ZqY) ] `02-08-2024`. GitButler. \"So You Think You Know Git - FOSDEM 2024\"."
   ]
  },
  {
   "cell_type": "markdown",
   "metadata": {},
   "source": [
    "---"
   ]
  },
  {
   "cell_type": "markdown",
   "metadata": {},
   "source": [
    "## Texts"
   ]
  },
  {
   "cell_type": "markdown",
   "metadata": {},
   "source": [
    "Chacon, Scott & Ben Straub. (2014). _Pro Git: Everything You Need to Know About Git, 2nd Ed_. Apress. [Home](https://git-scm.com/book/en/v2).\n",
    "\n",
    "Ponuthorai, Prem Kumar & Jon Loeliger. (2022). _Version Control with Git: Powerful Tools and Techniques for Collaborative Software Development_. 3rd Ed. O'Reilly.\n",
    "\n",
    "Silverman, Richard E. (2013). _Git Pocket Guide: A Working Introduction_. O'Reilly.\n",
    "\n",
    "Vinto, Natale & Alex Soto Bueno. (2023). _GitOps Cookbook: Kubernetes Automation in Practice_. O'Reilly."
   ]
  },
  {
   "cell_type": "markdown",
   "metadata": {},
   "source": [
    "---"
   ]
  },
  {
   "cell_type": "markdown",
   "metadata": {},
   "source": [
    "## Terms"
   ]
  },
  {
   "cell_type": "markdown",
   "metadata": {},
   "source": [
    "* [ [w](https://en.wikipedia.org/wiki/Atlassian) ] Atlassian\n",
    "* [ [w](https://en.wikipedia.org/wiki/Atomic_commit) ] Atomic Commit\n",
    "* [ [w](https://en.wikipedia.org/wiki/Binary_large_object) ] Binary Large Object (BLOB)\n",
    "* [ [w](https://en.wikipedia.org/wiki/Bitbucket) ] Bitbucket\n",
    "* [ [w](https://en.wikipedia.org/wiki/Branching_(version_control)) ] Branch\n",
    "* [ w ] Centralized Version Control\n",
    "* [ [w](https://en.wikipedia.org/wiki/Changeset) ] Changeset\n",
    "* [ w ] Checksum\n",
    "* [ [w](https://en.wikipedia.org/wiki/Commit_(version_control)) ] Commit (version control)\n",
    "* [ [w](https://en.wikipedia.org/wiki/Commit_(data_management)) ] Commit (data management)\n",
    "* [ [w](https://en.wikipedia.org/wiki/Concurrent_Versions_System) ] Concurrent Versions System (CVS)\n",
    "* [ [w](https://en.wikipedia.org/wiki/Content-addressable_storage) ] Content-Addressable Storage (CAS)\n",
    "* [ [w](https://en.wikipedia.org/wiki/Darcs) ] Darcs\n",
    "* [ [w](https://en.wikipedia.org/wiki/Data_differencing) ] Data Differencing\n",
    "* [ [w](https://en.wikipedia.org/wiki/Delta_encoding) ] Delta Encoding\n",
    "* [ w ] Detached State\n",
    "* [ [w](https://en.wikipedia.org/wiki/Diff) ] diff\n",
    "* [ [w](https://en.wikipedia.org/wiki/Diff3) ] diff3\n",
    "* [ [w](https://en.wikipedia.org/wiki/Directory_structure) ] Directory Structure\n",
    "* [ [w](https://en.wikipedia.org/wiki/Distributed_version_control) ] Distributed Version Control\n",
    "* [ [w](https://en.wikipedia.org/wiki/Edit_conflict) ] Edit Conflict\n",
    "* [ w ] etckeeper\n",
    "* [ [w](https://en.wikipedia.org/wiki/Forge_(software)) ] Forge\n",
    "* [ [w](https://en.wikipedia.org/wiki/Git) ] Git\n",
    "* [ w ] Git Provider\n",
    "* [ [w](https://en.wikipedia.org/wiki/Git-annex) ] git-annex\n",
    "* [ [w](https://en.wikipedia.org/wiki/GitHub) ] GitHub\n",
    "* [ [w](https://en.wikipedia.org/wiki/GitLab) ] GitLab\n",
    "* [ [w](https://en.wikipedia.org/wiki/GNU_arch) ] GNU Arch\n",
    "* [ [w](https://en.wikipedia.org/wiki/GNU_Bazaar) ] GNU Bazaar\n",
    "* [ w ] Local Folder\n",
    "* [ w ] Local Repository\n",
    "* [ [w](https://en.wikipedia.org/wiki/Mercurial) ] Mercurial\n",
    "* [ [w](https://en.wikipedia.org/wiki/Merge_(version_control)) ] Merge\n",
    "* [ [w](https://en.wikipedia.org/wiki/Edit_conflict) ] Merge Conflict\n",
    "* [ [w](https://en.wikipedia.org/wiki/Merkle_tree) ] Merkle Tree\n",
    "* [ [w](https://en.wikipedia.org/wiki/Metadata) ] Metadata\n",
    "* [ [w](https://en.wikipedia.org/wiki/Microsoft_Visual_SourceSafe) ] Microsoft Visual SourceSafe (VSS)\n",
    "* [ [w](https://en.wikipedia.org/wiki/Monorepo) ] Monorepo\n",
    "* [ [w](https://en.wikipedia.org/wiki/Monotone_(software)) ] Monotone\n",
    "* [ [w](https://en.wikipedia.org/wiki/Patch_(computing)) ] Patch\n",
    "* [ [w](https://en.wikipedia.org/wiki/Patch_(Unix)) ] patch\n",
    "* [ w ] Pull Request\n",
    "* [ w ] Remote Repository\n",
    "* [ [w](https://en.wikipedia.org/wiki/Repository_(version_control)) ] Repository\n",
    "* [ [w](https://en.wikipedia.org/wiki/Revision_Control_System) ] Revision Control System (RCS)\n",
    "* [ [w](https://en.wikipedia.org/wiki/Revision_tag) ] Revision Tag\n",
    "* [ [w](https://en.wikipedia.org/wiki/Source_Code_Control_System) ] Source Code Control System (SCCS)\n",
    "* [ w ] Source Code Management (SCM)\n",
    "* [ w ] Staging Area\n",
    "* [ w ] Subversion (SVN)\n",
    "* [ [w](https://en.wikipedia.org/wiki/Tag_(metadata)) ] Tag\n",
    "* [ [w](https://en.wikipedia.org/wiki/Three-phase_commit_protocol) ] Three-Phase Commit Protocol\n",
    "* [ w ] Tree\n",
    "* [ [w](https://en.wikipedia.org/wiki/Tree_structure) ] Tree Structure\n",
    "* [ [w](https://en.wikipedia.org/wiki/Two-phase_commit_protocol) ] Two-Phase Commit Protocol\n",
    "* [ [w](https://en.wikipedia.org/wiki/Version_control) ] Version Control\n",
    "* [ w ] Working Tree"
   ]
  },
  {
   "cell_type": "markdown",
   "metadata": {},
   "source": [
    "---"
   ]
  },
  {
   "cell_type": "markdown",
   "metadata": {},
   "source": [
    "## Notes"
   ]
  },
  {
   "cell_type": "markdown",
   "metadata": {},
   "source": [
    "---"
   ]
  },
  {
   "cell_type": "markdown",
   "metadata": {},
   "source": [
    "$1\\quad$ Working Directory\n",
    "* files are edited in the working directory\n",
    "\n",
    "`git add; git rm; git mv`\n",
    "* \"staging a file\"; \"caching a file\"; \"putting a file in the index\"\n",
    "* a file is copied into the object store and indexed by its SHA-1\n",
    "\n",
    "$2\\quad$ Index (or Cache or Staging Directory) (virtual, mutable data structure)\n",
    "* the index collects (or \"stages\") alterations to files as a final step before commit (i.e., it tracks what you want to commit)\n",
    "* the index caches info about the working directory, and the next revision to be committed\n",
    "* the index serves as an interface between the working tree and the object database\n",
    "* the index is a binary file and so stores binary data\n",
    "* its content is transient; and describes the structure of the entire repo at a specific point in time\n",
    "  * a virtual tree state representing a tree object that will be referenced by a future commit\n",
    "  * a sorted list of file pathnames in its virtual state along with its permissions and a reference to the SHA-1 ID of the corresponding blob objects\n",
    "  * a cached representation of all the blob objects that reflect the current state of the working directory\n",
    "* the index does not contain file content\n",
    "* plays a role in the following: committing; querying the status of the repo; merging branches\n",
    "\n",
    "`git commit`\n",
    "* checks the index--not the working directory--to discover what to commit as a single changeset\n",
    "\n",
    "$3\\quad$ Repo (or Local Commit History) (virtual)\n",
    "* the repo is a key-value pair database\n",
    "\n",
    "\n",
    "\n",
    "Object Store (or Object Database) (append-only data structure) - contains the original data files; log messages; author info; datetimes; etc.\n",
    "* Blobs \"Binary Large Object\" (immutable) - represents a version of a file; contains the file's data only\n",
    "  * a version of a file that holds the file's data; a blob's name is a hash of its content\n",
    "* Trees (immutable) - represents one level of directory info (blob IDs; pathnames; metadata; recursively references other subtree objects); a snapshot of the source tree that contains a list of file names each with a reference to a blob or tree object\n",
    "* Commits (immutable) - points to a tree object; links tree objects together into a history; contains the name of the tree object, a timestamp, a log message, and the names of zero or more parent commit objects\n",
    "  * Author\n",
    "  * Committer\n",
    "  * Commit Date\n",
    "  * Log Message\n",
    "* Tags - assigns a human-readable name to an object; a container that contains a reference to another object with metadata\n",
    "  * Annotated Tag (immutable) - creates an object in the object store\n",
    "  * Lightweight Tag (mutable) - a reference to a commit object; private to the repo; not stored in the object store\n",
    "* Packfile?"
   ]
  },
  {
   "cell_type": "markdown",
   "metadata": {},
   "source": [
    "Git file classification\n",
    "* Tracked - a tracked file is a file that is either in the repo or in the index\n",
    "* Ignored - an ignored file must be explicitly declared as such even though it may remain present in the working directory\n",
    "* Untracked - an untracked file is a file that is neither tracked or ignored\n",
    "  * working directory - (tracked + ignored) = untracked"
   ]
  },
  {
   "cell_type": "markdown",
   "metadata": {},
   "source": [
    "A commit holds a snapshot.\n",
    "\n",
    "A snapshot is made from the files in the index."
   ]
  },
  {
   "cell_type": "markdown",
   "metadata": {},
   "source": [
    "---"
   ]
  },
  {
   "cell_type": "markdown",
   "metadata": {},
   "source": [
    "### Hashes"
   ]
  },
  {
   "cell_type": "code",
   "execution_count": 1,
   "metadata": {},
   "outputs": [
    {
     "name": "stdout",
     "output_type": "stream",
     "text": [
      "True\n",
      "1000000000000000000000000000000000000000000000000\n",
      "1461501637330902918203684832716283019655932542976\n",
      "10000000000000000000000000000000000000000000000000\n",
      "31536000000000000000000000000000000000000000\n"
     ]
    }
   ],
   "source": [
    "print(10**48 < 2**160 < 10**49)\n",
    "print(10**48)\n",
    "print(2**160)\n",
    "print(10**49)\n",
    "print(int(1e12) * int(1e12) * 60 * 60 * 24 * 365 * int(1e12))\n",
    "\n",
    "# a trillion people each of whom produces\n",
    "# a trillion new unique blobs per second for\n",
    "# a trillion years\n",
    "# is still five orders of magnitude less"
   ]
  },
  {
   "cell_type": "markdown",
   "metadata": {},
   "source": [
    "---"
   ]
  },
  {
   "cell_type": "markdown",
   "metadata": {},
   "source": [
    "### Commits"
   ]
  },
  {
   "cell_type": "markdown",
   "metadata": {},
   "source": [
    "Git stores a commit object that contains\n",
    "* a pointer to the snapshot of the content that was staged\n",
    "* the author's name and email\n",
    "* the commit message\n",
    "* pointer(s) to the parent commit\n",
    "  * 0 for initial commit\n",
    "  * 1 for normal commit\n",
    "  * 2 or more for merge commit\n",
    "\n",
    "Commits\n",
    "* a commit represents a single atomic changeset w.r.t. the previous state: regardless of the number of directories, files, lines, or bytes that change with a commit, either all changes apply or none do.\n",
    "* a commit snapshot represents the state of the total set of modified files and directories--which means it represents a given tree state\n",
    "* a changeset between two snapshots represents a complete transformation from one tree state to another\n",
    "\n",
    "Changeset\n",
    "* Git also records a mode flag indicating the executability of each file; changes to this flag are also part of the changeset\n",
    "\n",
    "Absolute Commit Name - references a commit explicitly\n",
    "* the globally unique 40-digit hexadecimal SHA-1 commit object ID - globally unique not just for one repo but for any and all repos\n",
    "\n",
    "Relative Commit Name (ref, symref) - references a commit implicitly\n",
    "* a ref points to a SHA-1 within the Git object store (it usually refers to a commit object)\n",
    "* a symbolic reference is a name that indirectly points to a Git object\n",
    "* each symref has a full name that begins with `refs/`; there are three namespaces\n",
    "  * `.git/refs/heads/` (local branch names)\n",
    "    * `refs/heads/feature`\n",
    "  * `.git/refs/remotes/` (remote tracking branch names)\n",
    "    * `refs/remotes/origin/main`\n",
    "  * `.git/refs/tags` (tag names)\n",
    "* internal\n",
    "  * `.git/HEAD` a pointer to the most recent commit in the currently checked-out branch\n",
    "  * `.git/ORIG_HEAD`\n",
    "  * `.git/FETCH_HEAD`\n",
    "  * `.git/MERGE_HEAD`\n",
    "  * `.git/CHERRY_PICK_HEAD`"
   ]
  },
  {
   "cell_type": "markdown",
   "metadata": {},
   "source": [
    "* `ref^n` is the n-th parent of commit `ref`\n",
    "* `ref^` is the same as `ref^1`\n",
    "* `ref^^` is the same as `ref~2` and is the first parent of the first parent of commit `ref`\n",
    "* `ref~n` is the first [ parent, grandparent, great-grandparent, etc. ] of commit `ref`\n",
    "* `ref~` is the same as `ref~1`\n",
    "* `^ref` exclude commit `ref`\n",
    "\n",
    "set difference\n",
    "* `X..Y` the set of commits starting after `X` up to and including `Y`; or `^X Y` all commits reachable from `Y` minus all commits up to and including `X`\n",
    "* `..Y` is equivalent to `HEAD..Y`\n",
    "* `X..` is equivalent to `X..HEAD`\n",
    "\n",
    "set symmetric difference (the set of commits that are reachable from either or but not both)\n",
    "* `X...Y = X Y --not $(git merge-base --all X Y)`\n",
    "* \"show everything in branch `X` or in branch `Y` but only back to the point where the two branches diverged\""
   ]
  },
  {
   "cell_type": "markdown",
   "metadata": {},
   "source": [
    "Example\n",
    "\n",
    "`b..e = ^b e`\n",
    "\n",
    "`= e - b = {a, b, c, d, e} - {a, b}`\n",
    "\n",
    "`= c d e`\n",
    "\n",
    "```\n",
    "                      main\n",
    "                     /\n",
    "a <- b <- c <- d <- e\n",
    "          -    -    -\n",
    "```"
   ]
  },
  {
   "cell_type": "markdown",
   "metadata": {},
   "source": [
    "Example - main at v is merged into feature at b\n",
    "\n",
    "`feature..main = ^feature main`\n",
    "\n",
    "`= main - feature = {t, u, v, w, x, y, z} - {a, b, c, d, e, t, u, v}`\n",
    "\n",
    "`= w x y z`\n",
    "\n",
    "```\n",
    "                              feature\n",
    "                             /\n",
    "        a <- b <- c <- d <- e\n",
    "            /                   main\n",
    "           /                   /\n",
    "t <- u <- v <- w <- x <- y <- z\n",
    "               -    -    -    -\n",
    "```"
   ]
  },
  {
   "cell_type": "markdown",
   "metadata": {},
   "source": [
    "Example - feature is merged into main\n",
    "\n",
    "`feature..main = ^feature main`\n",
    "\n",
    "`= main - feature = {a, b, v, w, x, y, z} - {a, b}`\n",
    "\n",
    "`= v w x y z`\n",
    "\n",
    "```\n",
    "            feature\n",
    "           /\n",
    "  <- a <- b\n",
    "           \\             main\n",
    "            \\           /\n",
    "<- v <- w <- x <- y <- z\n",
    "   -    -    -    -    -\n",
    "```"
   ]
  },
  {
   "cell_type": "markdown",
   "metadata": {},
   "source": [
    "Example - feature at d is merged into main at z\n",
    "\n",
    "`feature..main = ^feature main`\n",
    "\n",
    "`= main - feature = {a, b, c, d, t, u, v, w, x, y, z} - {a, b, c, d, e, t, u, v}`\n",
    "\n",
    "`= w x y z`\n",
    "\n",
    "```\n",
    "                                  feature\n",
    "                                 /\n",
    "        a <- b  <-  c  <-  d <- e\n",
    "            /               \\   main\n",
    "           /                 \\ /\n",
    "t <- u <- v <- w <- x <- y <- z\n",
    "               -    -    -    -\n",
    "```"
   ]
  },
  {
   "cell_type": "markdown",
   "metadata": {},
   "source": [
    "Example\n",
    "\n",
    "`dev...main`\n",
    "\n",
    "`= dev main $(git merge-base --all dev main)`\n",
    "\n",
    "`= dev OR main AND NOT (merge-base --all dev main)`\n",
    "\n",
    "`= (dev OR main) - (dev AND main)`\n",
    "\n",
    "`main = {a, b, c, d, e, f, g, h, i, u, v, w}`\n",
    "\n",
    "`dev = {a, b, c, u, v, w, x, y, z}`\n",
    "\n",
    "`= d e f g h i x y z`\n",
    "\n",
    "```\n",
    "                                          main\n",
    "                                         /\n",
    "a <- b <- c <- d <- e <- f <- g <- h <- i\n",
    "           \\   -    -    -   /-    -    -   dev\n",
    "            \\               /              /\n",
    "             u  <-  v  <-  w <- x <- y <- z\n",
    "                                -    -    -\n",
    "```"
   ]
  },
  {
   "cell_type": "markdown",
   "metadata": {},
   "source": [
    "---"
   ]
  },
  {
   "cell_type": "markdown",
   "metadata": {},
   "source": [
    "### Branches"
   ]
  },
  {
   "cell_type": "markdown",
   "metadata": {},
   "source": [
    "Branch\n",
    "* a file that contains the 40-character SHA-1 checksum of the commit it points to\n",
    "* creating a branch is as quick and as simple as writing 41 bytes to a file (40 characters and a newline)\n",
    "\n",
    "Three kinds of branches\n",
    "* branch on the remote repo (bugfix)\n",
    "* local snapshot of the remote branch (origin/bugfix)\n",
    "* local branch tracking the remote branch (bugfix)\n",
    "\n",
    "Identify merged branches\n",
    "* list branches that have been merged into a branch\n",
    "* useful for knowing what commits / feature branches have been incorporated\n",
    "* useful for cleanup after merging many feature branches (makes sure nothing is deleted that hasn't yet been merged in)\n",
    "\n",
    "Prune (delete all) stale branches\n",
    "* stale branch: a remote-tracking branch that no longer tracks anything because the actual branch in the remote repo has been deleted\n",
    "* when you delete a remote branch, the associated remote-tracking branch is also deleted\n",
    "* when collaborators delete a remote branch, your remote-tracking branch remains: remote-tracking branches have to be manually pruned\n",
    "* git fetch does not automatically delete remote-tracking branches"
   ]
  },
  {
   "cell_type": "markdown",
   "metadata": {},
   "source": [
    "---"
   ]
  },
  {
   "cell_type": "markdown",
   "metadata": {},
   "source": [
    "### Tags"
   ]
  },
  {
   "cell_type": "markdown",
   "metadata": {},
   "source": [
    "Tags\n",
    "* tags allow marking points in history as important\n",
    "* a tag is named reference to a commit (and so identifies a particular commit in the history)\n",
    "* frequently used to mark software release versions\n",
    "* can mark key features or changes\n",
    "* can mark points for discussion with collaborators\n",
    "* `git show v1.1`\n",
    "* `git log v1.0..v1.1`\n",
    "* `git diff v1.0..v1.1`\n",
    "* `git switch v1.0` fatal: a branch is expected, got tag 'v1.0'\n",
    "* `git switch -c branch_v1 v1.0` create a new branch from a preexisting tag\n",
    "* like branches, tags are local unless shared to a remote; `git push` doesn't transfer tags by default; tabs must be explicitly transferred\n",
    "* `git fetch` automatically retrieves shared tags\n",
    "\n",
    "Tag, annotated\n",
    "* stored as full objects in the Git database\n",
    "* checksummed\n",
    "* contain the tagger name, email, date\n",
    "* have a tagging message\n",
    "* can be signed and verified with GNU Privacy Guard (GPG)\n",
    "\n",
    "Tag, lightweight: like a branch that doesn't change (the commit checksum stored in a file, a pointer to a specific commit)"
   ]
  },
  {
   "cell_type": "markdown",
   "metadata": {},
   "source": [
    "---"
   ]
  },
  {
   "cell_type": "markdown",
   "metadata": {},
   "source": [
    "Git stores data as a series of snapshots (not as a series of changesets or differences).\n",
    "\n",
    "Git move ops: a mechanism based on the similarity of the content between two file versions\n",
    "\n",
    "Detached state: the files being viewed are not connected to the current version of the code; you are in some part of the history of the repo, so you cannot commit anything in the current branch.\n",
    "\n",
    "\n",
    "\n",
    "Force Push\n",
    "* reason: the local version is preferable to the remote version (maybe because the remote version is wrong or corrupt)\n",
    "* reason: versions have diverged and merging is undesirable\n",
    "* force pushing can be thought of as \"replacing\" the remote version with the local version\n",
    "\n",
    "```\n",
    "git push -f\n",
    "git show\n",
    "git show origin/main\n",
    "git fetch\n",
    "git reset --hard origin/main\n",
    "```\n",
    "\n",
    "Interactive staging\n",
    "* stage changes interactively\n",
    "* allows staging portions of changed files\n",
    "* helps to make smaller, focused commits\n",
    "\n",
    "Patch mode\n",
    "* allows staging portions of a changed files\n",
    "* hunk: an area where two files differ (may seem arbitrary)\n",
    "* hunks can be staged, skipped, or split into smaller hunks\n",
    "\n",
    "Split a hunk\n",
    "* a hunk can contain multiple changes (may seem arbitrary)\n",
    "* if we don't want to stage an entire hunk, we can tell git to try to split a hunk further\n",
    "* this requires one or more unchanged lines between changes\n",
    "\n",
    "Edit a hunk\n",
    "* useful when a hunk cannot be split automatically\n",
    "* diff-style line prefixes: + (line added), - (line removed), space (line unchanged)\n",
    "* any other line prefixes will cause the edit to the hunk to be rejected\n",
    "\n",
    "Cherry-picking commits\n",
    "* share code between branches and between repositories\n",
    "* applies the changes from one or more existing commits\n",
    "* each commit targeted will become a new commit on the current branch with the same commit message\n",
    "* conceptually similar to copy-paste\n",
    "* the new commit will have the same changes and message but a different SHA (because the SHA is based on more than just the changes: it includes information about the commit that precedes it)\n",
    "* can cherry-pick commits from any branch including remote-tracking branches\n",
    "* cannot cherry-pick a merge commit because it does not contain the set of changes to apply, it's connecting a set of commits\n",
    "* can result in conflicts that must be resolved just like merge conflicts\n",
    "* cherry-picking a commit is applying an existing set of changes to the current branch (these changes may conflict with the current state of the branch)\n",
    "\n",
    "Diff patches\n",
    "* allow us to share changes via files instead of a remote repo\n",
    "* useful when changes are not ready for a public branch\n",
    "* useful when collaborators do not share a remote with us\n",
    "* patches are used during discussion, review, or the approval process\n",
    "* applying a diff patch applies the changes in a diff patch file to the working directory (it makes the changes but does not automatically commit them)\n",
    "* a diff patch only contains the set of changes, not the commit history (like cherry-picking does)\n",
    "\n",
    "Formatted patches\n",
    "* exports of commits in the Unix mailbox format\n",
    "* useful for email distribution of changes\n",
    "* includes commit messages and some metadata\n",
    "* puts each commit in a separate file by default\n",
    "* applying formatted patches extracts the author, commit message, and changes from a mailbox message and applies them to the current branch as commits\n",
    "* similar to cherry-picking commits: get the same changes and commit messages, but different SHAs (the commit history is transferred)\n",
    "\n",
    "Rebase commits\n",
    "* take commits from a branch and replay them at another point, most often at the end of another branch (giving the commits a new base or starting points)\n",
    "* useful to integrate recent commits without merging\n",
    "* maintains a cleaner, more linear project history\n",
    "* rebasing during development ensures topic or feature branch commits apply cleanly back to the main branch\n",
    "* if we're working with collaborators, it forces each one to take responsibility for resolving merge conflicts while they're developing\n",
    "* some teams require rebasing before a feature branch can be considered for the main branch\n",
    "* the commit message and the metadata is kept, but the SHAs change because the previous commit in the chain has changed (it doesn't just shift the changes, but reapplies them in order)\n",
    "* rebasing commits may conflit with existing code\n",
    "* when a conflict occurs, git pauses the rebase before each conflicting commit (similar to resolving merge and cherry-pick conflicts)\n",
    "\n",
    "merging vs rebasing\n",
    "* two ways to incorporate changes from one branch into another branch\n",
    "* similar ends but different means\n",
    "* side effects!\n",
    "* merging: adds a merge commit; nondestructive; complete record of what happened and when; easy to undo; logs can become cluttered and nonlinear\n",
    "* rebasing: no additional merge commits (cleaner); destructive (SHA changes, commits are rewritten, rewriting history); no longer a complete record of what happened and when; tricky to undo; logs are cleaner and more linear\n",
    "* golden rule of rebasing: thou shalt not rebase a public branch (rebasing is destructive; do not rebase branches that others use); rebase abandons existing shared commits and creates new similar commits instead; collaborators would see project history vanish\n",
    "* merge to allow commits to stand out or to be clearly grouped\n",
    "* merge to bring large topic branches back into main\n",
    "* rebase to add minor commits in main to an in-progress topic branch: keeps it current and keeps the history cleaner\n",
    "* rebase to move commits from one branch to another\n",
    "* merge anytime the topic branch is already public and being used by others (the golden rule of rebasing)\n",
    "\n",
    "interactive rebasing\n",
    "* modify commits as they are being replayed\n",
    "* instead of rebasing the commits immediately, opens the git-rebase-todo file for editing (can reorder, skip commits, edit commit contents)\n",
    "* pick (use) commit, drop (don't use) commit, reword commit message, edit contents of change set, squash, fixup, exec (runs from command line shell)\n",
    "* squashing commits folds two or more commits into one\n",
    "* squash: combine changesets, edit and concatenate commit messages\n",
    "* fixup: combine changesets, discards commit messages and keeps the prior message\n",
    "* uses the first author in the commit series\n",
    "\n",
    "pull rebase\n",
    "* pull usually fetches from a remote repo to remote-tracking branch and merges with local code\n",
    "* pull rebase fetches from the remote and then rebases the current branch to tip of remote-tracking branch instead of merging\n",
    "* pull rebase keeps history cleaner by reducing merge commits\n",
    "* only rebase on local commits not shared to a remote\n",
    "\n",
    "log options\n",
    "* log is the primary interface to git: the purpose of git is to track changes over time and the log lists those changes\n",
    "* many options: sorting, filtering, output formatting\n",
    "\n",
    "blame\n",
    "* browse annotated version of files\n",
    "* determine who changed which lines in a file and why\n",
    "* useful for probing the history behind a file's contents\n",
    "* useful for identifying which commit introduced a bug\n",
    "\n",
    "bisect\n",
    "* find the commit that introduced a bug or regression: when did things go wrong?\n",
    "* useful when there's a problem in the code and we know that there was a time in the past when the problem didn't exist\n",
    "* tell git the last time we know when the code was working and the first time we know it's not working (i.e., mark the last good revision and the first bad revision)\n",
    "* bisect resets the code to the midpoint between the good and bad versions and lets you test it: mark as good or bad version, and repeat"
   ]
  },
  {
   "cell_type": "markdown",
   "metadata": {},
   "source": [
    "Raspberry Pi\n",
    "\n",
    "```\n",
    "mkdir -p /home/pi/git/test.git\n",
    "cd /home/pi/git/test.git\n",
    "git init --bare\n",
    "```\n",
    "\n",
    "Local\n",
    "\n",
    "```\n",
    "git remote set-url origin ssh://pi@10.0.0.13:2222/home/pi/git/test.git\n",
    "```"
   ]
  },
  {
   "cell_type": "markdown",
   "metadata": {},
   "source": [
    "---"
   ]
  }
 ],
 "metadata": {
  "kernelspec": {
   "display_name": "ml",
   "language": "python",
   "name": "python3"
  },
  "language_info": {
   "codemirror_mode": {
    "name": "ipython",
    "version": 3
   },
   "file_extension": ".py",
   "mimetype": "text/x-python",
   "name": "python",
   "nbconvert_exporter": "python",
   "pygments_lexer": "ipython3",
   "version": "3.11.5"
  }
 },
 "nbformat": 4,
 "nbformat_minor": 2
}
