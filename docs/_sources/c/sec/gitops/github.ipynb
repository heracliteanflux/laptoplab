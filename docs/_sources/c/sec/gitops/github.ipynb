{
 "cells": [
  {
   "cell_type": "markdown",
   "metadata": {},
   "source": [
    "# GitHub"
   ]
  },
  {
   "cell_type": "markdown",
   "metadata": {},
   "source": [
    "---"
   ]
  },
  {
   "cell_type": "markdown",
   "metadata": {},
   "source": [
    "## Table of Contents\n",
    "```{contents}\n",
    "```"
   ]
  },
  {
   "cell_type": "markdown",
   "metadata": {},
   "source": [
    "---"
   ]
  },
  {
   "cell_type": "markdown",
   "metadata": {},
   "source": [
    "## Getting Started"
   ]
  },
  {
   "cell_type": "markdown",
   "metadata": {},
   "source": [
    "[ [course](https://learn.microsoft.com/en-us/collections/o1njfe825p602p) ] Microsoft's GitHub Foundations\n",
    "\n",
    "[ [documentation](https://docs.github.com/en/get-started) ] Get Started with GitHub\n",
    "\n",
    "[ [documentation](https://docs.github.com/en/get-started/quickstart/git-and-github-learning-resources) ] Git and GitHub learning resources\n",
    "\n",
    "[ [h](https://firstcontributions.github.io/) ][ [g](https://github.com/firstcontributions/first-contributions) ] First Contributions\n",
    "\n",
    "[ [h](https://skills.github.com/) ][ [g](https://github.com/skills) ] GitHub Skills\n",
    "\n",
    "GitHub's [Training Kit](https://training.github.com/) + [Cheatsheet](https://training.github.com/downloads/github-git-cheat-sheet/)"
   ]
  },
  {
   "cell_type": "markdown",
   "metadata": {},
   "source": [
    "---"
   ]
  },
  {
   "cell_type": "markdown",
   "metadata": {},
   "source": [
    "## Resources"
   ]
  },
  {
   "cell_type": "markdown",
   "metadata": {},
   "source": [
    "GitHub [ [support](https://support.github.com/) ]\n",
    "* [ [h](https://github.com/codespaces) ] GitHub Codespaces\n",
    "  * https://github.blog/2023-02-22-a-beginners-guide-to-learning-to-code-with-github-codespaces/\n",
    "* [ [h](https://github.com/community) ] GitHub Community\n",
    "  * [ [community discussions](https://github.com/orgs/community/discussions/) ]\n",
    "* [ [h](https://github.com/explore) ] GitHub Explore\n",
    "* [ [h](https://github.com/features) ] GitHub Features\n",
    "  * [ [h](https://github.com/features/copilot) ] Copilot\n",
    "  * [ [h](https://github.com/features#features-collaboration) ] Collaborative Coding\n",
    "* [ [h](https://github.com/marketplace) ] GitHub Marketplace\n",
    "* [ [h](https://github.com/search) ] GitHub Search\n",
    "* [ [h](https://github.com/githubtraining) ] GitHub Training"
   ]
  },
  {
   "cell_type": "markdown",
   "metadata": {},
   "source": [
    "[ [h](https://resources.github.com/) ] Resources\n",
    "* [ [h](https://resources.github.com/ci-cd/) ] CI/CD\n",
    "* [ [h](https://resources.github.com/devops/) ] DevOps\n",
    "* [ [h](https://resources.github.com/innersource/fundamentals/) ] InnerSource\n",
    "* [ [h](https://resources.github.com/security/) ] Security\n",
    "  * [ [h](https://resources.github.com/security/what-is-github-advanced-security/) ] Security"
   ]
  },
  {
   "cell_type": "markdown",
   "metadata": {},
   "source": [
    "[ [h](https://github.blog/) ] Blog\n",
    "* [ [b](https://github.blog/2022-10-11-on-the-go-with-github-projects-on-github-mobile-public-beta/) ] `10-11-2022` \"On the go with GitHub Projects on GitHub Mobile (public beta)\"."
   ]
  },
  {
   "cell_type": "markdown",
   "metadata": {},
   "source": [
    "[ [c](https://www.youtube.com/@GitHub) ] YouTube\n",
    "* [ [y](https://www.youtube.com/watch?v=pBy1zgt0XPc) ] `11-09-2022`. \"What is GitHub?\"."
   ]
  },
  {
   "cell_type": "markdown",
   "metadata": {},
   "source": [
    "[ [h](https://github.github.com/gfm/) ] GitHub Flavored Markdown\n",
    "* [ [awesome readmes](https://github.com/matiassingers/awesome-readme) ]\n",
    "* [ [awesome contributing](https://github.com/mntnr/awesome-contributing) ]\n",
    "* [ [awesome github templates](https://github.com/devspace/awesome-github-templates) ]\n",
    "* [ [d](https://learn.microsoft.com/en-us/style-guide/welcome/) ] Microsoft Style Guide\n",
    "* [ [g](https://gist.github.com/rxaviers/7360908) ] emoji"
   ]
  },
  {
   "cell_type": "markdown",
   "metadata": {},
   "source": [
    "GitHub InnerSource\n",
    "* [ [github training](https://githubtraining.github.io/innersource-theory/) ]\n",
    "* [ [github resource](https://resources.github.com/innersource/fundamentals/) ]\n",
    "* [ [case studies](https://gist.github.com/githubteacher/9fe53687a5f173d1d64c24c68625349e) ]"
   ]
  },
  {
   "cell_type": "markdown",
   "metadata": {},
   "source": [
    "Open Source\n",
    "* [ [h](https://opensource.guide/) ][ [g](https://github.com/github/opensource.guide) ] GitHub's Open Source Guides\n",
    "* [ [h](https://choosealicense.com/) ] Choose an open source license\n",
    "* [ [collaboration best practices](https://github.com/ideaconsult/etc/wiki/IDEA-Development-Collaboration-Best-Practices) ]"
   ]
  },
  {
   "cell_type": "markdown",
   "metadata": {},
   "source": [
    "[ [h](https://firstcontributions.github.io/) ][ [g](https://github.com/firstcontributions/first-contributions) ] First Contributions\n",
    "\n",
    "[ [h](https://skills.github.com/) ][ [g](https://github.com/skills) ] GitHub Skills\n",
    "\n",
    "[ [h](https://githubtraining.github.io/training-manual) ] GitHub Training Manual\n",
    "\n",
    "[ [h](https://education.github.com/pack) ] GitHub Student Developer Pack\n",
    "\n",
    "Documentation\n",
    "* [ [d](https://docs.github.com/en/get-started) ] Get started\n",
    "  * [ [d](https://docs.github.com/en/get-started/quickstart) ] Quickstart\n",
    "  * Writing on GitHub\n",
    "    * Start writing on GitHub\n",
    "      * [ [d](https://docs.github.com/en/get-started/writing-on-github/getting-started-with-writing-and-formatting-on-github/basic-writing-and-formatting-syntax) ] Basic formatting syntax\n",
    "  * [ [d](https://docs.github.com/en/get-started/getting-started-with-git) ] Getting started with git\n",
    "    * [ [d](https://docs.github.com/en/get-started/getting-started-with-git/about-remote-repositories) ] About remote repositories\n",
    "* Account and profile\n",
    "  * Profiles\n",
    "    * Customizing your profiles\n",
    "      * [ [d](https://docs.github.com/en/account-and-profile/setting-up-and-managing-your-github-profile/customizing-your-profile/managing-your-profile-readme) ] Your profile README\n",
    "* [ [d](https://docs.github.com/en/authentication) ] Authentication\n",
    "  * [ d ] Account Security\n",
    "    * [ [d](https://docs.github.com/en/authentication/keeping-your-account-and-data-secure/creating-a-strong-password) ] Creating a strong password\n",
    "  * [ [d](https://docs.github.com/en/authentication/connecting-to-github-with-ssh) ] Connect with SSH\n",
    "  * [ [d](https://docs.github.com/en/authentication/troubleshooting-ssh) ] Troubleshooting SSH\n",
    "  * [ [d](https://docs.github.com/en/authentication/managing-commit-signature-verification) ] Verify commit signatures\n",
    "* [ [d](https://docs.github.com/en/repositories) ] Repositores\n",
    "  * [ d ] Create & manage repositories\n",
    "    * [ [d](https://docs.github.com/en/repositories/creating-and-managing-repositories/about-repositories) ] About repositories\n",
    "  * [ d ] Manage repository settings\n",
    "    * [ d ] Customize your repository\n",
    "      * [ [d](https://docs.github.com/en/repositories/managing-your-repositorys-settings-and-features/customizing-your-repository/about-code-owners) ] About code ownders\n",
    "  * [ d ] Branches and merges\n",
    "    * [ d ] Manage branches\n",
    "      * [ [d](https://docs.github.com/en/repositories/configuring-branches-and-merges-in-your-repository/managing-branches-in-your-repository/changing-the-default-branch) ] Changing the default branch\n",
    "* [ [d](https://docs.github.com/en/pull-requests) ] Pull Requests\n",
    "  * [ d ] Commit changes to your project\n",
    "    * [ d ] Create & edit commits\n",
    "      * [ [d](https://docs.github.com/en/pull-requests/committing-changes-to-your-project/creating-and-editing-commits/about-commits) ] About commits\n",
    "      * [ [d](https://docs.github.com/en/pull-requests/committing-changes-to-your-project/creating-and-editing-commits/creating-a-commit-with-multiple-authors) ] Creating a commit with multiple authors\n",
    "    * [ d ] Troubleshooting commits\n",
    "      * [ [d](https://docs.github.com/en/pull-requests/committing-changes-to-your-project/troubleshooting-commits/commit-exists-on-github-but-not-in-my-local-clone) ] Commit missing in local clone\n",
    "  * [ d ] Collaborate with pull requests\n",
    "    * [ d ] Propose changes\n",
    "      * [ [d](https://docs.github.com/en/pull-requests/collaborating-with-pull-requests/proposing-changes-to-your-work-with-pull-requests/about-branches) ] About branches\n",
    "      * [ [d](https://docs.github.com/en/pull-requests/collaborating-with-pull-requests/proposing-changes-to-your-work-with-pull-requests/about-pull-requests) ] About pull requests\n",
    "    * [ d ] Address merge conflicts\n",
    "      * [ [d](https://docs.github.com/en/pull-requests/collaborating-with-pull-requests/addressing-merge-conflicts/resolving-a-merge-conflict-using-the-command-line) ] Resolving a merge conflict using the command line\n",
    "    * [ d ] Incorporate changes\n",
    "      * [ [d](https://docs.github.com/en/pull-requests/collaborating-with-pull-requests/incorporating-changes-from-a-pull-request/merging-a-pull-request) ] Merging a pull request\n",
    "\n",
    "More\n",
    "* [ [d](https://docs.github.com/en/actions) ] GitHub Actions\n",
    "* [ [d](https://docs.github.com/en/github-cli) ] GitHub CLI\n",
    "  * [ [d](https://docs.github.com/en/github-cli/github-cli/quickstart) ] Quickstart\n",
    "* [ d ] GitHub Codespaces\n",
    "  * [ [g](https://github.com/devcontainers/images/tree/main/src/universal) ] default image\n",
    "  * Setting up your project\n",
    "    * Adding a dev container configuration\n",
    "      * [ [d](https://docs.github.com/en/codespaces/setting-up-your-project-for-codespaces/adding-a-dev-container-configuration/introduction-to-dev-containers) ] Introduction to dev containers\n",
    "* [ [d](https://docs.github.com/en/get-started/quickstart/github-glossary) ] GitHub Glossary\n",
    "* [ [d](https://docs.github.com/en/pages) ] GitHub Pages\n",
    "* [ [d](https://docs.github.com/en/code-security) ] Code Security"
   ]
  },
  {
   "cell_type": "markdown",
   "metadata": {},
   "source": [
    "[ [y](https://www.youtube.com/watch?v=9uGS1ak_FGg) ] `02-08-2021`. Microsoft Developer. \"Introduction to Git Recap | Learn with Dr G\"."
   ]
  },
  {
   "cell_type": "markdown",
   "metadata": {},
   "source": [
    "---"
   ]
  },
  {
   "cell_type": "markdown",
   "metadata": {},
   "source": [
    "## Notes"
   ]
  },
  {
   "cell_type": "markdown",
   "metadata": {},
   "source": [
    "```bash\n",
    "# GitHub repo directory structure\n",
    "/                                  # repo root\n",
    "├── .github                        #\n",
    "│   ├── ISSUE_TEMPLATE.md          #\n",
    "│   └── PULL_REQUEST_TEMPLATE.md   #\n",
    "├── CODEOWNERS                     # defines individuals or teams that are responsible for reviewing code modifications\n",
    "├── CODE_OF_CONDUCT                # sets the ground rules for community members\n",
    "├── CONTRIBUTING.md                # provides guidance on how to contribute to the project\n",
    "├── LICENSE                        # if the project does not contain an open-source license then it is not open-source\n",
    "├── README.md                      # serves as the welcome page for a project (info on how to get started using the project, info on how to engage with the community)\n",
    "├── SECURITY.md                    #\n",
    "└── docs                           #\n",
    "```"
   ]
  },
  {
   "cell_type": "markdown",
   "metadata": {},
   "source": [
    "communication channels\n",
    "* `https://github.com/repo/issues` issue tracker - where folks discuss project-related issues and tasks\n",
    "* `https://github.com/repo/pulls` pull request - where folks discuss and review changes to the project\n",
    "* chat channels (Discourse, Gitter, IRC, Slack) - some folks use chat channels for conversations and discussions\n",
    "* `https://github.com/repo/contribute` - a good way to find beginner-friendly issues to help with\n",
    "* `https://github.com/repo/labels`"
   ]
  },
  {
   "cell_type": "markdown",
   "metadata": {},
   "source": [
    "### Repositories"
   ]
  },
  {
   "cell_type": "markdown",
   "metadata": {},
   "source": [
    "Repositories\n",
    "* Visibility\n",
    "  * Public - open-source, accesible to those inside and outside the org\n",
    "  * Internal - visible to members of the org that owns the repo, for InnerSource projects\n",
    "  * Private - visible to the owner and any teams or users added, for specific users and groups\n",
    "* user and team permissions\n",
    "  * read - non-code contributors to view and discuss the project\n",
    "  * triage - for contributors who need to proactively manage issues and pull requests without write access\n",
    "  * write - for contributors who actively push to the project\n",
    "  * maintain - for project managers who need to manage the repo without access to sensitive or destructive actions\n",
    "  * admin - for those who need full access to the project, including sensitive or destructive actions such as manageing security or deleting a repo\n",
    "* Discoverability\n",
    "  1. descriptive name\n",
    "  2. concise description\n",
    "  3. appropriate license (How can I use, customize, or distribute this software?)\n",
    "  4. `README.md` - the repo's landing page"
   ]
  },
  {
   "cell_type": "markdown",
   "metadata": {},
   "source": [
    "### `README.md`"
   ]
  },
  {
   "cell_type": "markdown",
   "metadata": {},
   "source": [
    "`README.md`\n",
    "* GitHub searches for the first `README.md` in the order of the following directories (`/.github`, `/`, `/docs`) and automatically surfaces the it to repo visitors\n",
    "* Content\n",
    "  * communicates project expectations\n",
    "  * helps manage contributions\n",
    "  * articulates the project's purpose/vision\n",
    "  * presents visual aids such as screenshots or code snippets to illustrate the project in action\n",
    "  * includes a link to the demo or production version of the app\n",
    "  * sets expectations for prerequisites and deplpoyment procedures\n",
    "  * includes references to the projects on which this project depends (promote the work of others)"
   ]
  },
  {
   "cell_type": "markdown",
   "metadata": {},
   "source": [
    "### `CONTRIBUTING.md`"
   ]
  },
  {
   "cell_type": "markdown",
   "metadata": {},
   "source": [
    "`CONTRIBUTING.md`\n",
    "* GitHub searches for `CONTRIBUTING.md` in the order of the following directories (`/.github`, `/`, `/docs`)\n",
    "* if `CONTRIBUTING.md` exists then GitHub links to it in issues and pull requests\n",
    "* Content\n",
    "  * explain the project's contribution policy to potential contributors\n",
    "  * which conventions does the project follow?\n",
    "  * where does the team look for pull requests?\n",
    "  * which details are requested for bug reports?"
   ]
  },
  {
   "cell_type": "markdown",
   "metadata": {},
   "source": [
    "### Projects"
   ]
  },
  {
   "cell_type": "markdown",
   "metadata": {},
   "source": [
    "Workflows [ [github flow](https://docs.github.com/en/get-started/using-github/github-flow) ]\n",
    "* specify project workflows for external contributions\n",
    "* workflows include details about where and how branches should be used for bugs and features, how pull requests should be opened, and any other details people outside the repository team should know before they push code\n",
    "* specify a strategy for managing releases and deployments which affects day-to-day branching and merging [ [adopt a git branching strategy](https://learn.microsoft.com/en-us/azure/devops/repos/git/git-branching-guidance?view=azure-devops) ]"
   ]
  },
  {
   "cell_type": "markdown",
   "metadata": {},
   "source": [
    "Metrics\n",
    "* traditional\n",
    "  * bugs reported\n",
    "  * time to market\n",
    "* innersource\n",
    "  * how has external participation improved project quality\n",
    "  * Is the repository receiving pull requests from external sources that fix bugs and add features?\n",
    "  * Are there active participants in discussions around the project and its future?\n",
    "  * Is the program inspiring an InnerSource expansion that drives benefits elsewhere in the organization?\n",
    "  * Measure process, not output\n",
    "    * Code review turnaround time\n",
    "    * Pull request size\n",
    "    * Work in progress\n",
    "    * Time to open\n",
    "  * Measure against targets and not absolutes\n",
    "  * Measure teams and not individuals\n",
    "    * Number of unique contributors to a project\n",
    "    * Number of projects reusing code\n",
    "    * Number of cross-team @mentions"
   ]
  },
  {
   "cell_type": "markdown",
   "metadata": {},
   "source": [
    "### Actions"
   ]
  },
  {
   "cell_type": "markdown",
   "metadata": {},
   "source": [
    "packaged scripts that automate tasks in a software-development workflow in GitHub\n",
    "\n",
    "types of actions\n",
    "* container actions\n",
    "* JavaScript Actions"
   ]
  },
  {
   "cell_type": "markdown",
   "metadata": {},
   "source": [
    "### Security"
   ]
  },
  {
   "cell_type": "markdown",
   "metadata": {},
   "source": [
    "Mitigation Overview\n",
    "* `.gitignore`\n",
    "* `SECURITY.md`\n",
    "* Vulnerable Dependency Detection - detect, fix outdated dependencies with sec vulerabilities\n",
    "  * Dependabot - automate the detection of vulnerable dependencies\n",
    "* How to remove historical commits exposing sensitive data deep in your repo?\n",
    "* How to remove a commit exposing sensitive data in a pull request?\n",
    "\n",
    "Software Security\n",
    "* writing secure code\n",
    "* locking down infrastructure\n",
    "* protect the processes that occur during every stage of the software development lifecycle"
   ]
  },
  {
   "cell_type": "markdown",
   "metadata": {},
   "source": [
    "---"
   ]
  }
 ],
 "metadata": {
  "language_info": {
   "name": "python"
  }
 },
 "nbformat": 4,
 "nbformat_minor": 2
}
