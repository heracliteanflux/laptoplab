{
 "cells": [
  {
   "cell_type": "markdown",
   "metadata": {},
   "source": [
    "# Mobile"
   ]
  },
  {
   "cell_type": "markdown",
   "metadata": {},
   "source": [
    "---"
   ]
  },
  {
   "cell_type": "markdown",
   "metadata": {},
   "source": [
    "## Table of Contents\n",
    "```{contents}\n",
    "```"
   ]
  },
  {
   "cell_type": "markdown",
   "metadata": {},
   "source": [
    "---"
   ]
  },
  {
   "cell_type": "markdown",
   "metadata": {},
   "source": [
    "## Resources"
   ]
  },
  {
   "cell_type": "markdown",
   "metadata": {},
   "source": [
    "* [ [w](https://en.wikipedia.org/wiki/Signal_(software)) ] Signal\n",
    "  * https://signal.miraheze.org/wiki/Usernames\n",
    "  * https://www.malwarebytes.com/blog/news/2023/11/signal-is-testing-usernames-so-you-dont-have-to-share-your-phone-number\n",
    "* Threema"
   ]
  },
  {
   "cell_type": "markdown",
   "metadata": {},
   "source": [
    "* [ [y](https://www.youtube.com/watch?v=P1rBZsxO-qw) ] `11-08-2023`. Rob Braxman Tech. \"Misconceptions about IMEI and IMSI. Are these Phone Identifiers Destroying Our Privacy?\".\n",
    "\n",
    "more\n",
    "* `*67` hide number\n",
    "* `*3001#12345#*` FTM\n",
    "* [ [a](https://www.verizon.com/support/caller-id-block-faqs/) ] How to block your number & block Caller ID FAQs"
   ]
  },
  {
   "cell_type": "markdown",
   "metadata": {},
   "source": [
    "---"
   ]
  },
  {
   "cell_type": "markdown",
   "metadata": {},
   "source": [
    "## Texts"
   ]
  },
  {
   "cell_type": "markdown",
   "metadata": {},
   "source": [
    "* [ [h](https://5g.systemsapproach.org/) ][ [g](https://github.com/SystemsApproach/private5g) ] Peterson, Larry L.; Oguz Sunay; & Bruce Davie. (2023). _Private 5G: A Systems Approach_. Systems Approach."
   ]
  },
  {
   "cell_type": "markdown",
   "metadata": {},
   "source": [
    "---"
   ]
  },
  {
   "cell_type": "markdown",
   "metadata": {},
   "source": [
    "## Terms"
   ]
  },
  {
   "cell_type": "markdown",
   "metadata": {},
   "source": [
    "* [ [w](https://en.wikipedia.org/wiki/Cellular_network) ] Cellular Network\n",
    "* [ [w](https://en.wikipedia.org/wiki/DBm) ] Decibel-milliwatts (dBm)\n",
    "* [ [w](https://en.wikipedia.org/wiki/Field_test_mode) ] Field Test Mode (FTM)\n",
    "* [ [w](https://en.wikipedia.org/wiki/Mobile_security) ] Mobile Security\n",
    "* [ [w](https://en.wikipedia.org/wiki/Multimedia_Messaging_Service) ] Multimedia Messaging Service (MMS)\n",
    "* [ [w](https://en.wikipedia.org/wiki/Received_signal_strength_indicator) ] Received Signal Strength Indicator (RSSI)\n",
    "* [ [w](https://en.wikipedia.org/wiki/SMS) ] Short Messaging Service (SMS)\n",
    "* [ [w](https://en.wikipedia.org/wiki/Trust_on_first_use) ] Trust on First Use (TOFU)"
   ]
  },
  {
   "cell_type": "markdown",
   "metadata": {},
   "source": [
    "---"
   ]
  }
 ],
 "metadata": {
  "language_info": {
   "name": "python"
  }
 },
 "nbformat": 4,
 "nbformat_minor": 2
}
