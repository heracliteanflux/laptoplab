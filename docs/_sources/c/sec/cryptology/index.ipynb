{
 "cells": [
  {
   "cell_type": "markdown",
   "metadata": {},
   "source": [
    "# Cryptology"
   ]
  },
  {
   "cell_type": "markdown",
   "metadata": {},
   "source": [
    "---"
   ]
  },
  {
   "cell_type": "markdown",
   "metadata": {},
   "source": [
    "## Table of Contents\n",
    "```{contents}\n",
    "```"
   ]
  },
  {
   "cell_type": "markdown",
   "metadata": {},
   "source": [
    "---"
   ]
  },
  {
   "cell_type": "markdown",
   "metadata": {},
   "source": [
    "## Resources"
   ]
  },
  {
   "cell_type": "markdown",
   "metadata": {},
   "source": [
    "* [ [g](https://github.com/sobolevn/awesome-cryptography) ] Awesome Cryptography\n",
    "* [ [h](http://nacl.cr.yp.to) ] NaCl: Networking and Cryptography Library\n",
    "* [ [h](http://tweetnacl.cr.yp.to) ] TweetNaCl: a crypto library in 100 tweets\n",
    "* [ [h](https://tweetnacl.js.org/#/) ] TweetNaCl.js"
   ]
  },
  {
   "cell_type": "markdown",
   "metadata": {},
   "source": [
    "* [ [y](https://www.youtube.com/watch?v=jhXCTbFnK8o&t=2s) ] `10-25-2017`. \"Cryptography: Crash Course Computer Science #33\".\n",
    "* [ [y](https://www.youtube.com/watch?v=KqqOXndnvic) ] `03-04-2015`. MIT OpenCourseware. \"21. Cryptography: Hash Functions\". _Design and Analysis of Algorithms (Spring 2015)_.\n",
    "* [ [y](https://www.youtube.com/watch?v=9TNI2wHmaeI) ] `03-04-2015`. MIT OpenCourseware. \"22. Cryptography: Encryption\". _Design and Analysis of Algorithms (Spring 2015)_.\n",
    "* [ [y](https://www.youtube.com/playlist?list=PL58C6Q25sEEHXvACYxiav_lC2DqSlC7Og) ] `09-27-2013`. VideosCoursera. \"Cryptography I\".\n",
    "* [ [y](https://www.youtube.com/watch?v=sb3Mt8nDwLc) ] `08-08-2022`. \"Jonathan Katz - Introduction to Cryptography Part 1 of 3 - IPAM at UCLA\".\n",
    "* [ [y](https://www.youtube.com/watch?v=-yfcTIKBPGw) ] `08-08-2022`. \"Jonathan Katz - Introduction to Cryptography Part 2 of 3 - IPAM at UCLA\".\n",
    "* [ [y](https://www.youtube.com/watch?v=YEbiOSF1Gck) ] `08-08-2022`. \"Jonathan Katz - Introduction to Cryptography Part 3 of 3 - IPAM at UCLA\"."
   ]
  },
  {
   "cell_type": "markdown",
   "metadata": {},
   "source": [
    "more\n",
    "* [ [y](https://www.youtube.com/watch?v=Cpiy-KPjsxI) ] `02-03-2024`. OskarPuzzle. \"PRBS Generator - What are Pseudo-Random Binary Sequences used for?\"."
   ]
  },
  {
   "cell_type": "markdown",
   "metadata": {},
   "source": [
    "---"
   ]
  },
  {
   "cell_type": "markdown",
   "metadata": {},
   "source": [
    "## Texts"
   ]
  },
  {
   "cell_type": "markdown",
   "metadata": {},
   "source": [
    "* Aumasson, Jean-Philippe. (2021). _Crypto Dictionary: 500 Tasty Tidbits for the Curious Cryptographer_. [No Starch Press](https://nostarch.com/crypto-dictionary).\n",
    "* Aumasson, Jean-Philippe. (2017). _Serious Cryptography: A Practical Introduction to Modern Encryption_. [No Starch Press](https://nostarch.com/seriouscrypto).\n",
    "* Dunin, Elonka & Klaus Schmeh. (2023). _Codebreaking: A Practical Guide_. [No Starch Press](https://nostarch.com/codebreaking).\n",
    "* Hoffstein, Jeffrey, Jill Pipher, & Joseph H. Silverman. (2014). _An Introduction to Mathematical Cryptography, 2nd Ed_. Springer Undergraduate Texts in Mathematics.\n",
    "* [ [h](https://www.cs.umd.edu/~jkatz/imc.html) ][ [y](https://youtube.com/playlist?list=PL2jykFOD1AWb07OLBdFI2QIHvPo3aTTeu) ] Katz, Jonathan & Yehuda Lindell. _Introduction to Modern Cryptography_. 3e. Chapman & Hall CRC Cryptography and Network Security Series.\n",
    "* [ [h](http://cacr.uwaterloo.ca/hac/) ] Menezes, Alfred J., Paul C. van Oorschot, & Scott A. Vanstone. (1996). _Handbook of Applied Cryptography_. CRC Press.\n",
    "* Mitani, Masaaki; Shinichi Sato; Idero Hinoki; & Verte Corp. (2018). _The Manga Guide to Cryptography_. [No Starch Press](https://nostarch.com/mangacrypto).\n",
    "* McAndrew, Alasdair. (2016). _Introduction to Cryptography with Open-Source Software_. CRC Press.\n",
    "* Rubin, Frank. (2022). _Secret Key Cryptography: Ciphers, from simple to unbreakable_. Manning.\n",
    "* [ [h](http://inventwithpython.com/cracking/) ] Sweigart, Al. (2018). _Cracking Codes with Python: An Introduction to Building and Breaking Ciphers_. [No Starch Press](https://nostarch.com/crackingcodes).\n",
    "* Wong, David. (2021). _Real-World Cryptography_. Manning."
   ]
  },
  {
   "cell_type": "markdown",
   "metadata": {},
   "source": [
    "---"
   ]
  },
  {
   "cell_type": "markdown",
   "metadata": {},
   "source": [
    "## Figures"
   ]
  },
  {
   "cell_type": "markdown",
   "metadata": {},
   "source": [
    "* [ [w](https://en.wikipedia.org/wiki/Leonard_Adleman) ] `1945-----` Adleman, Leonard\n",
    "* [ [w](https://en.wikipedia.org/wiki/David_Chaum) ] `---------` Chaum, David\n",
    "* [ [w](https://en.wikipedia.org/wiki/Whitfield_Diffie) ] `1944-----` Diffie, Whitfield\n",
    "* [ [w](https://en.wikipedia.org/wiki/Cynthia_Dwork) ] `---------` Dwork, Cynthia\n",
    "* [ [w](https://en.wikipedia.org/wiki/Harold_Edwards_(mathematician)) ] `1936-2020` Edwards, Harold\n",
    "* [ [w](https://en.wikipedia.org/wiki/Horst_Feistel) ] `1915-1990` Feistel, Horst\n",
    "* [ [w](https://en.wikipedia.org/wiki/Martin_Hellman) ] `1945-----` Hellman, Martin\n",
    "* [ [w](https://en.wikipedia.org/wiki/Markus_Jakobsson) ] `---------` Jakobsson, Markus\n",
    "* [ w ] `---------` Katz, Jonathan [ [h](https://www.cs.umd.edu/~jkatz/) ]\n",
    "* [ [w](https://en.wikipedia.org/wiki/Ralph_Merkle) ] `1952-----` Merkle, Ralph\n",
    "* [ [w](https://en.wikipedia.org/wiki/Moni_Naor) ] `---------` Naor, Moni\n",
    "* [ [w](https://en.wikipedia.org/wiki/Ron_Rivest) ] `1947-----` Rivest, Ronald\n",
    "* [ [w](https://en.wikipedia.org/wiki/Claus_P._Schnorr) ] `1943-----` Schnorr, Claus\n",
    "* [ [w](https://en.wikipedia.org/wiki/Adi_Shamir) ] `1952-----` Shamir, Adi"
   ]
  },
  {
   "cell_type": "markdown",
   "metadata": {},
   "source": [
    "---"
   ]
  },
  {
   "cell_type": "markdown",
   "metadata": {},
   "source": [
    "## Terms"
   ]
  },
  {
   "cell_type": "markdown",
   "metadata": {},
   "source": [
    "* [ [w](https://en.wikipedia.org/wiki/40-bit_encryption) ] 40-Bit Encryption\n",
    "* [ [w](https://en.wikipedia.org/wiki/56-bit_encryption) ] 56-Bit Encryption\n",
    "* [ [w](https://en.wikipedia.org/wiki/Advanced_Encryption_Standard) ] Advanced Encryption Standard (AES)\n",
    "* [ [w](https://en.wikipedia.org/wiki/Adversary_(cryptography)) ] Adversary\n",
    "* [ [w](https://en.wikipedia.org/wiki/Alice_and_Bob) ] Alice\n",
    "* [ [w](https://en.wikipedia.org/wiki/Atbash) ] Atbash\n",
    "* [ [w](https://en.wikipedia.org/wiki/Authenticated_encryption) ] Authenticated Encryption\n",
    "* [ [w](https://en.wikipedia.org/wiki/Authentication) ] Authentication\n",
    "* [ [w](https://en.wikipedia.org/wiki/Attack_model) ] Attack Model\n",
    "* [ [w](https://en.wikipedia.org/wiki/Avalanche_effect) ] Avalanche Effect\n",
    "* [ [w](https://en.wikipedia.org/wiki/Bar_mitzvah_attack) ] Bar Mitzvah Attack\n",
    "* [ [w](https://en.wikipedia.org/wiki/Birthday_attack) ] Birthday Attack\n",
    "* [ [w](https://en.wikipedia.org/wiki/Blind_signature) ] Blind Signature\n",
    "* [ [w](https://en.wikipedia.org/wiki/Block_cipher) ] Block Cipher\n",
    "* [ [w](https://en.wikipedia.org/wiki/Block_cipher_mode_of_operation) ] Block Cipher Mode of Operation\n",
    "* [ [w](https://en.wikipedia.org/wiki/Alice_and_Bob) ] Bob\n",
    "* [ [w](https://en.wikipedia.org/wiki/Brute-force_attack) ] Brute-Force Attack\n",
    "* [ [w](https://en.wikipedia.org/wiki/Caesar_cipher) ] Caesar Cipher\n",
    "* [ [w](https://en.wikipedia.org/wiki/CCM_mode) ] CCM Mode\n",
    "* [ [w](https://en.wikipedia.org/wiki/Certificate_authority) ] Certificate Authority\n",
    "* [ [w](https://en.wikipedia.org/wiki/Challenge%E2%80%93response_authentication) ] Challenge-Response Authentication\n",
    "* [ [w](https://en.wikipedia.org/wiki/Cipher) ] Cipher\n",
    "* [ [w](https://en.wikipedia.org/wiki/CBC-MAC) ] Cipher Block Chaining Message Authentication Code (CBC-MAC)\n",
    "* [ [w](https://en.wikipedia.org/wiki/Cipher_suite) ] Cipher Suite\n",
    "* [ [w](https://en.wikipedia.org/wiki/Ciphertext) ] Ciphertext\n",
    "* [ [w](https://en.wikipedia.org/wiki/Classical_cipher) ] Classical Cipher\n",
    "* [ [w](https://en.wikipedia.org/wiki/Code_(cryptography)) ] Code\n",
    "* [ [w](https://en.wikipedia.org/wiki/Codebook) ] Codebook\n",
    "* [ [w](https://en.wikipedia.org/wiki/Collision_attack) ] Collision Attack\n",
    "* [ [w](https://en.wikipedia.org/wiki/Communications_security) ] Communications Security\n",
    "* [ [w](https://en.wikipedia.org/wiki/Computationally_bounded_adversary) ] Computationally Bounded Adversary\n",
    "* [ [w](https://en.wikipedia.org/wiki/Computer_security) ] Computer Security\n",
    "* [ [w](https://en.wikipedia.org/wiki/Confusion_and_diffusion) ] Confusion and Diffusion\n",
    "* [ [w](https://en.wikipedia.org/wiki/Cryptanalysis) ] Cryptanalysis\n",
    "* [ [w](https://en.wikipedia.org/wiki/Crypto-shredding) ] Crypto-Shredding\n",
    "* [ [w](https://en.wikipedia.org/wiki/Cryptographic_hash_function) ] Cryptographic Hash Function\n",
    "* [ [w](https://en.wikipedia.org/wiki/Cryptographic_primitive) ] Cryptographic Primitive\n",
    "* [ [w](https://en.wikipedia.org/wiki/Cryptographic_protocol) ] Cryptographic Protocol\n",
    "* [ [w](https://en.wikipedia.org/wiki/Cryptography) ] Cryptography\n",
    "* [ [w](https://en.wikipedia.org/wiki/Export_of_cryptography) ] Cryptography Export\n",
    "* [ [w](https://en.wikipedia.org/wiki/Cryptosystem) ] Cryptosystem\n",
    "* [ [w](https://en.wikipedia.org/wiki/Data_Encryption_Standard) ] Data Encryption Standard (DES)\n",
    "* [ [w](https://en.wikipedia.org/wiki/Diehard_tests) ] Diehard Tests\n",
    "* [ [w](https://en.wikipedia.org/wiki/Differential_cryptanalysis) ] Differential Cryptanalysis\n",
    "* [ [w](https://en.wikipedia.org/wiki/Diffie%E2%80%93Hellman_key_exchange) ] Diffie-Hellman Key Exchange\n",
    "* [ [w](https://en.wikipedia.org/wiki/Public_key_certificate) ] Digital Certificate\n",
    "* [ [w](https://en.wikipedia.org/wiki/Digital_signature) ] Digital Signature\n",
    "* [ [w](https://en.wikipedia.org/wiki/Distributed_key_generation) ] Distributed Key Generation (DKG)\n",
    "* [ [w](https://en.wikipedia.org/wiki/EdDSA) ] Edwards-Curve Digital Signature Algorithm (EdDSA)\n",
    "* [ [w](https://en.wikipedia.org/wiki/Elliptic-curve_cryptography) ] Elliptic-Curve Cryptography\n",
    "* [ [w](https://en.wikipedia.org/wiki/Elliptic-curve_Diffie%E2%80%93Hellman) ] Elliptic-Curve Diffie-Hellman (ECDH)\n",
    "* [ [w](https://en.wikipedia.org/wiki/Encryption) ] Encryption\n",
    "* [ [w](https://en.wikipedia.org/wiki/End-to-end_encryption) ] End-to-End Encryption (E2EE)\n",
    "* [ [w](https://en.wikipedia.org/wiki/Feistel_cipher) ] Feistel Network\n",
    "* [ [w](https://en.wikipedia.org/wiki/Fluhrer,_Mantin_and_Shamir_attack) ] Fluhrer, Mantin, Shamir Attack\n",
    "* [ [w](https://en.wikipedia.org/wiki/Format-preserving_encryption) ] Format-Preserving Encryption\n",
    "* [ [w](https://en.wikipedia.org/wiki/Forward_secrecy) ] Forward Secrecy\n",
    "* [ [w](https://en.wikipedia.org/wiki/Frequency_analysis) ] Frequency Analysis\n",
    "* [ [w](https://en.wikipedia.org/wiki/Fundamental_theorem_of_arithmetic) ] Fundamental Theorem of Arithmetic\n",
    "* [ [w](https://en.wikipedia.org/wiki/Galois/Counter_Mode) ] Galois/Counter Mode (GCM)\n",
    "* [ [w](https://en.wikipedia.org/wiki/Generic_group_model) ] Generic Group Model\n",
    "* [ [w](https://en.wikipedia.org/wiki/GNU_Privacy_Guard) ] GNU Privacy Guard (GnuPG)\n",
    "* [ [w](https://en.wikipedia.org/wiki/HMAC) ] Hash-Based Message Authentication Code (HMAC)\n",
    "* [ [w](https://en.wikipedia.org/wiki/Hash_function) ] Hash Function\n",
    "* [ [w](https://en.wikipedia.org/wiki/HKDF) ] HMAC-Based Key Derivation Function (HKDF)\n",
    "* [ [w](https://en.wikipedia.org/wiki/Hybrid_cryptosystem) ] Hybrid Cryptosystem\n",
    "* [ [w](https://en.wikipedia.org/wiki/Identity-based_cryptography) ] Identity-Based Cryptography\n",
    "* [ [w](https://en.wikipedia.org/wiki/Identity-based_encryption) ] Identity-Based Encryption\n",
    "* [ [w](https://en.wikipedia.org/wiki/Information-theoretic_security) ] Information-Theoretic Security\n",
    "* [ [w](https://en.wikipedia.org/wiki/Initialization_vector) ] Initialization Vector (IV)\n",
    "* [ [w](https://en.wikipedia.org/wiki/Kerckhoffs%27s_principle) ] Kerckhoff's Principle\n",
    "* [ [w](https://en.wikipedia.org/wiki/Key_(cryptography)) ] Key\n",
    "* [ [w](https://en.wikipedia.org/wiki/Key-agreement_protocol) ] Key-Agreement Protocol\n",
    "* [ [w](https://en.wikipedia.org/wiki/Key_derivation_function) ] Key Derivation Function (KDF)\n",
    "* [ [w](https://en.wikipedia.org/wiki/Key_exchange) ] Key Exchange\n",
    "* [ [w](https://en.wikipedia.org/wiki/Key_generation) ] Key Generation\n",
    "* [ [w](https://en.wikipedia.org/wiki/Keygen) ] Key Generator\n",
    "* [ [w](https://en.wikipedia.org/wiki/Key_management) ] Key Management\n",
    "* [ [w](https://en.wikipedia.org/wiki/Key_schedule) ] Key Schedule\n",
    "* [ [w](https://en.wikipedia.org/wiki/Key_server_(cryptographic)) ] Key Server\n",
    "* [ [w](https://en.wikipedia.org/wiki/Key_size) ] Key Size\n",
    "* [ [w](https://en.wikipedia.org/wiki/Keystream) ] Key Stream\n",
    "* [ [w](https://en.wikipedia.org/wiki/Known-plaintext_attack) ] Known-Plaintext Attack (KPA)\n",
    "* [ [w](https://en.wikipedia.org/wiki/Linear_cryptanalysis) ] Linear Cryptanalysis\n",
    "* [ [w](https://en.wikipedia.org/wiki/Link_encryption) ] Link Encryption\n",
    "* [ [w](https://en.wikipedia.org/wiki/Lookup_table) ] Lookup Table\n",
    "* [ [w](https://en.wikipedia.org/wiki/MD2_(hash_function)) ] MD2\n",
    "* [ [w](https://en.wikipedia.org/wiki/MD4) ] MD4\n",
    "* [ [w](https://en.wikipedia.org/wiki/MD5) ] MD5\n",
    "* [ [w](https://en.wikipedia.org/wiki/MD6) ] MD6\n",
    "* [ [w](https://en.wikipedia.org/wiki/Mersenne_Twister) ] Mersenne Twister\n",
    "* [ [w](https://en.wikipedia.org/wiki/Message) ] Message\n",
    "* [ [w](https://en.wikipedia.org/wiki/Message_authentication_code) ] Message Authentication Code (MAC)\n",
    "* [ [w](https://en.wikipedia.org/wiki/Multiple_encryption) ] Multiple Encryption\n",
    "* [ [w](https://en.wikipedia.org/wiki/Mutual_authentication) ] Mutual Authentication\n",
    "* [ [w](https://en.wikipedia.org/wiki/Negligible_function) ] Negligible Function\n",
    "* [ [w](https://en.wikipedia.org/wiki/Non-cryptographic_hash_function) ] Non-Cryptographic Hash Function (NCHF)\n",
    "* [ [w](https://en.wikipedia.org/wiki/Cryptographic_nonce) ] Nonce\n",
    "* [ [w](https://en.wikipedia.org/wiki/Null_cipher) ] Null Cipher\n",
    "* [ [w](https://en.wikipedia.org/wiki/One-time_pad) ] One-Time Pad\n",
    "* [ [w](https://en.wikipedia.org/wiki/Partitioning_cryptanalysis) ] Partitioning Cryptanalysis\n",
    "* [ [w](https://en.wikipedia.org/wiki/Passphrase) ] Passphrase\n",
    "* [ [w](https://en.wikipedia.org/wiki/Password) ] Password\n",
    "* [ [w](https://en.wikipedia.org/wiki/Permutation) ] Permutation\n",
    "* [ [w](https://en.wikipedia.org/wiki/Plaintext) ] Plaintext\n",
    "* [ [w](https://en.wikipedia.org/wiki/Preimage_attack) ] Preimage Attack\n",
    "* [ [w](https://en.wikipedia.org/wiki/Pretty_Good_Privacy) ] Pretty Good Privacy (PGP)\n",
    "* [ [w](https://en.wikipedia.org/wiki/Product_cipher) ] Product Cipher\n",
    "* [ [w](https://en.wikipedia.org/wiki/Provable_security) ] Provable Security\n",
    "* [ [w](https://en.wikipedia.org/wiki/Pseudorandom_function_family) ] Pseudo Random Function Family (PRF)\n",
    "* [ [w](https://en.wikipedia.org/wiki/Pseudorandom_number_generator) ] Pseudo Random Number Generator (PRNG)\n",
    "* [ [w](https://en.wikipedia.org/wiki/Public_key_certificate) ] Public-Key Certificate\n",
    "* [ [w](https://en.wikipedia.org/wiki/Public-key_cryptography) ] Public-Key Cryptography\n",
    "* [ [w](https://en.wikipedia.org/wiki/Public_key_infrastructure) ] Public-Key Infrastructure (PKI)\n",
    "* [ [w](https://en.wikipedia.org/wiki/Quantum_cryptography) ] Quantum Cryptography\n",
    "* [ [w](https://en.wikipedia.org/wiki/Quantum_key_distribution) ] Quantum Key Distribution\n",
    "* [ [w](https://en.wikipedia.org/wiki/Random_oracle) ] Random Oracle\n",
    "* [ [w](https://en.wikipedia.org/wiki/Randomized_algorithm) ] Randomized Algorithm\n",
    "* [ [w](https://en.wikipedia.org/wiki/RC2) ] RC2\n",
    "* [ [w](https://en.wikipedia.org/wiki/RC4) ] RC4\n",
    "* [ [w](https://en.wikipedia.org/wiki/RC5) ] RC5\n",
    "* [ [w](https://en.wikipedia.org/wiki/RC6) ] RC6\n",
    "* [ [w](https://en.wikipedia.org/wiki/Related-key_attack) ] Related-Key Attack\n",
    "* [ [w](https://en.wikipedia.org/wiki/Replay_attack) ] Replay Attack\n",
    "* [ [w](https://en.wikipedia.org/wiki/RSA_(cryptosystem)) ] Rivest-Shamir-Adleman (RSA)\n",
    "* [ [w](https://en.wikipedia.org/wiki/ROT13) ] ROT13\n",
    "* [ [w](https://en.wikipedia.org/wiki/Round_(cryptography)) ] Round\n",
    "* [ [w](https://en.wikipedia.org/wiki/Schnorr_signature) ] Schnor Signature\n",
    "* [ [w](https://en.wikipedia.org/wiki/Secret_sharing) ] Secret Sharing\n",
    "* [ [w](https://en.wikipedia.org/wiki/Secure_channel) ] Secure Channel\n",
    "* [ [w](https://en.wikipedia.org/wiki/Secure_communication) ] Secure Communication\n",
    "* [ [w](https://en.wikipedia.org/wiki/Secure_multi-party_computation) ] Secure Multi Party Computation\n",
    "* [ [w](https://en.wikipedia.org/wiki/Security_engineering) ] Security Engineering\n",
    "* [ [w](https://en.wikipedia.org/wiki/Security_level) ] Security Level\n",
    "* [ [w](https://en.wikipedia.org/wiki/Security_protocol_notation) ] Security Protocol Notation\n",
    "* [ [w](https://en.wikipedia.org/wiki/Security_through_obscurity) ] Security Through Obscurity\n",
    "* [ [w](https://en.wikipedia.org/wiki/Session_key) ] Session Key\n",
    "* [ [w](https://en.wikipedia.org/wiki/Shared_secret) ] Shared Secret\n",
    "* [ [w](https://en.wikipedia.org/wiki/Side-channel_attack) ] Side-Channel Attack\n",
    "* [ [w](https://en.wikipedia.org/wiki/Signals_intelligence) ] Signals Intelligence\n",
    "* [ [w](https://en.wikipedia.org/wiki/Slide_attack) ] Slide Attack\n",
    "* [ [w](https://en.wikipedia.org/wiki/Standard_model_(cryptography)) ] Standard Model\n",
    "* [ [w](https://en.wikipedia.org/wiki/Steganography) ] Steganography\n",
    "* [ [w](https://en.wikipedia.org/wiki/Stream_cipher) ] Stream Cipher\n",
    "* [ [w](https://en.wikipedia.org/wiki/Stream_cipher_attacks) ] Stream Cipher Attack\n",
    "* [ [w](https://en.wikipedia.org/wiki/Strong_cryptography) ] Strong Cryptography\n",
    "* [ [w](https://en.wikipedia.org/wiki/Substitution_cipher) ] Substitution Cipher\n",
    "* [ [w](https://en.wikipedia.org/wiki/Sybil_attack) ] Sybil Attack\n",
    "* [ [w](https://en.wikipedia.org/wiki/Symmetric-key_algorithm) ] Symmetric-Key Algorithm\n",
    "* [ [w](https://en.wikipedia.org/wiki/Threshold_cryptosystem) ] Threshold Cryptosystem\n",
    "* [ [w](https://en.wikipedia.org/wiki/Transposition_cipher) ] Transposition Cipher\n",
    "* [ [w](https://en.wikipedia.org/wiki/Trust_metric) ] Trust Metric\n",
    "* [ [w](https://en.wikipedia.org/wiki/Twisted_Edwards_curve) ] Twisted Edwards Curve\n",
    "* [ [w](https://en.wikipedia.org/wiki/Information-theoretic_security) ] Unconditional Security\n",
    "* [ [w](https://en.wikipedia.org/wiki/VeraCrypt) ] VeraCrypt\n",
    "* [ [w](https://en.wikipedia.org/wiki/Vigen%C3%A8re_cipher) ] Vigenère Cipher\n",
    "* [ [w](https://en.wikipedia.org/wiki/Web_of_trust) ] Web of Trust\n",
    "* [ [w](https://en.wikipedia.org/wiki/Zero-knowledge_proof) ] Zero Knowledge Proof (ZKP)"
   ]
  },
  {
   "cell_type": "markdown",
   "metadata": {},
   "source": [
    "---"
   ]
  }
 ],
 "metadata": {
  "language_info": {
   "name": "python"
  }
 },
 "nbformat": 4,
 "nbformat_minor": 2
}
