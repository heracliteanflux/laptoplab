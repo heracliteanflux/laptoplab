{
 "cells": [
  {
   "cell_type": "markdown",
   "metadata": {},
   "source": [
    "# Offensive Security"
   ]
  },
  {
   "cell_type": "markdown",
   "metadata": {},
   "source": [
    "---"
   ]
  },
  {
   "cell_type": "markdown",
   "metadata": {},
   "source": [
    "## Table of Contents\n",
    "```{contents}\n",
    "```"
   ]
  },
  {
   "cell_type": "markdown",
   "metadata": {},
   "source": [
    "---"
   ]
  },
  {
   "cell_type": "markdown",
   "metadata": {},
   "source": [
    "## Resources"
   ]
  },
  {
   "cell_type": "markdown",
   "metadata": {},
   "source": [
    "Tools & Technologies\n",
    "* [ [h](https://www.aircrack-ng.org/) ][ [g](https://github.com/aircrack-ng/aircrack-ng) ][ [w](https://en.wikipedia.org/wiki/Aircrack-ng) ] Aircrack-ng\n",
    "* [ h ][ g ][ [w](https://en.wikipedia.org/wiki/Armitage_(computing)) ] Armitage\n",
    "* [ [h](https://www.openwall.com/john/) ][ [g](https://github.com/openwall/john) ][ [w](https://en.wikipedia.org/wiki/John_the_Ripper) ] John the Ripper\n",
    "* [ [h](https://www.kali.org/) ][ g ][ [w](https://en.wikipedia.org/wiki/Kali_Linux) ] Kali Linux\n",
    "* [ [h](https://www.metasploit.com/) ][ g ][ [w](https://en.wikipedia.org/wiki/Metasploit) ] Metasploit\n",
    "* [ h ][ g ][ [w](https://en.wikipedia.org/wiki/Nmap) ] Nmap\n",
    "* [ [h](https://parrotsec.org/) ][ [g](https://github.com/ParrotSec) ][ [w](https://en.wikipedia.org/wiki/Parrot_OS) ] Parrot Linux\n",
    "* [ [h](https://sqlmap.org/) ][ [g](https://github.com/sqlmapproject/sqlmap) ][ [w](https://en.wikipedia.org/wiki/Sqlmap) ] sqlmap\n",
    "* [ [h](https://www.zaproxy.org/) ][ [g](https://github.com/zaproxy/zaproxy) ][ [w](https://en.wikipedia.org/wiki/OWASP_ZAP) ] Zed Attack Proxy (ZAP)\n",
    "\n",
    "online\n",
    "* https://chryzsh.gitbooks.io/pentestbook/content/"
   ]
  },
  {
   "cell_type": "markdown",
   "metadata": {},
   "source": [
    "---"
   ]
  },
  {
   "cell_type": "markdown",
   "metadata": {},
   "source": [
    "## Texts"
   ]
  },
  {
   "cell_type": "markdown",
   "metadata": {},
   "source": [
    "* Clark, Ben. (2014). _RTFM Red Team Field Manual_.\n",
    "* Kim, Peter. (2018). _The Hacker Playbook 3: Practical Guide to Penetration Testing_.\n",
    "* Kim, Peter. (2015). _The Hacker Playbook 2: Practical Guide to Penetration Testing_.\n",
    "* Kim, Peter. (2014). _The Hacker Playbook: Practical Guide to Penetration Testing_.\n",
    "* OccupyTheWeb. (2018). _Linux Basics for Hackers: Getting Started with Networking, Scripting, and Security in Kali_. No Starch Press.\n",
    "* Wylie, Phillip & Kim Crawley. (2020). _The Pentester Blueprint: Starting a Career as an Ethical Hacker_. Wiley."
   ]
  },
  {
   "cell_type": "markdown",
   "metadata": {},
   "source": [
    "---"
   ]
  },
  {
   "cell_type": "markdown",
   "metadata": {},
   "source": [
    "## Terms"
   ]
  },
  {
   "cell_type": "markdown",
   "metadata": {},
   "source": [
    "* [ [w](https://en.wikipedia.org/wiki/Backdoor_(computing)) ] Backdoor\n",
    "* [ [w](https://en.wikipedia.org/wiki/Black_box) ] Black Box\n",
    "* [ [w](https://en.wikipedia.org/wiki/Black_hat_(computer_security)) ] Black Hat\n",
    "* [ [w](https://en.wikipedia.org/wiki/Capture_the_flag) ] Capture the Flag (CTF)\n",
    "* [ [w](https://en.wikipedia.org/wiki/Device_fingerprint) ] Device Fingerprint\n",
    "* [ [w](https://en.wikipedia.org/wiki/Exploit_(computer_security)) ] Exploit\n",
    "* [ [w](https://en.wikipedia.org/wiki/Gray-box_testing) ] Gray Box\n",
    "* [ [w](https://en.wikipedia.org/wiki/Grey_hat) ] Gray Hat\n",
    "* [ [w](https://en.wikipedia.org/wiki/Hacker) ] Hacker\n",
    "* [ [w](https://en.wikipedia.org/wiki/Offensive_Security) ] Offensive Security (OffSec)\n",
    "* [ [w](https://en.wikipedia.org/wiki/Packet_analyzer) ] Packet Analysis\n",
    "* [ [w](https://en.wikipedia.org/wiki/Password_cracking) ] Password Cracking\n",
    "* [ [w](https://en.wikipedia.org/wiki/Penetration_test) ] Penetration Test\n",
    "* [ [w](https://en.wikipedia.org/wiki/Port_scanner) ] Port Scanner\n",
    "* [ [w](https://en.wikipedia.org/wiki/Privilege_escalation) ] Privilege Escalation\n",
    "* [ [w](https://en.wikipedia.org/wiki/Script_kiddie) ] Script Kiddie\n",
    "* [ [w](https://en.wikipedia.org/wiki/Security_hacker) ] Security Hacker\n",
    "* [ [w](https://en.wikipedia.org/wiki/Semantic_URL_attack) ] Semantic URL Attack\n",
    "* [ [w](https://en.wikipedia.org/wiki/Shellcode) ] Shellcode\n",
    "* [ [w](https://en.wikipedia.org/wiki/SQL_injection) ] SQL Injection\n",
    "* [ [w](https://en.wikipedia.org/wiki/TCP/IP_stack_fingerprinting) ] TCP/IP Stack Fingerprint\n",
    "* [ [w](https://en.wikipedia.org/wiki/Vulnerability_(computing)) ] Vulnerability\n",
    "* [ [w](https://en.wikipedia.org/wiki/Vulnerability_database) ] Vulnerability Database\n",
    "* [ [w](https://en.wikipedia.org/wiki/Vulnerability_scanner) ] Vulnerability Scanner\n",
    "* [ [w](https://en.wikipedia.org/wiki/White_box_(software_engineering)) ] White Box\n",
    "* [ [w](https://en.wikipedia.org/wiki/White_hat_(computer_security)) ] White Hat"
   ]
  },
  {
   "cell_type": "markdown",
   "metadata": {},
   "source": [
    "---"
   ]
  }
 ],
 "metadata": {
  "language_info": {
   "name": "python"
  }
 },
 "nbformat": 4,
 "nbformat_minor": 2
}
