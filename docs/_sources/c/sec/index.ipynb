{
 "cells": [
  {
   "cell_type": "markdown",
   "metadata": {},
   "source": [
    "# Computer Security"
   ]
  },
  {
   "cell_type": "markdown",
   "metadata": {},
   "source": [
    "---"
   ]
  },
  {
   "cell_type": "markdown",
   "metadata": {},
   "source": [
    "## Table of Contents\n",
    "```{contents}\n",
    "```"
   ]
  },
  {
   "cell_type": "markdown",
   "metadata": {},
   "source": [
    "---"
   ]
  },
  {
   "cell_type": "markdown",
   "metadata": {},
   "source": [
    "## Sections\n",
    "```{tableofcontents}\n",
    "```"
   ]
  },
  {
   "cell_type": "markdown",
   "metadata": {},
   "source": [
    "---"
   ]
  },
  {
   "cell_type": "markdown",
   "metadata": {},
   "source": [
    "## Mathematics"
   ]
  },
  {
   "cell_type": "markdown",
   "metadata": {},
   "source": [
    "### Texts"
   ]
  },
  {
   "cell_type": "markdown",
   "metadata": {},
   "source": [
    "Reilly, Daniel. (2023). _Applied Math for Security: An Introduction for Programmers_. No Starch Press."
   ]
  },
  {
   "cell_type": "markdown",
   "metadata": {},
   "source": [
    "---"
   ]
  },
  {
   "cell_type": "markdown",
   "metadata": {},
   "source": [
    "## Python"
   ]
  },
  {
   "cell_type": "markdown",
   "metadata": {},
   "source": [
    "### Texts"
   ]
  },
  {
   "cell_type": "markdown",
   "metadata": {},
   "source": [
    "* Poston III, Howard E. (2022). _Python for Cybersecurity: Using Python for Cyber Offense and Defense_. Wiley.\n",
    "* Seitz, Justin & Tim Arnold. (2021). _Black Hat Python: Python Programming for Hackers and Pentesters, 2nd Ed_. No Starch Press."
   ]
  },
  {
   "cell_type": "markdown",
   "metadata": {},
   "source": [
    "Rust\n",
    "\n",
    "[\"Ownership Model of the Rust Programming Language\"](http://web.mit.edu/rust-lang_v1.25/arch/amd64_ubuntu1404/share/doc/rust/html/book/first-edition/ownership.html).<br>\n",
    "[\"Learn Rust with Entirely Too Many Linked Lists\"](https://rust-unofficial.github.io/too-many-lists/index.html).<br>"
   ]
  },
  {
   "cell_type": "markdown",
   "metadata": {},
   "source": [
    "---"
   ]
  },
  {
   "cell_type": "markdown",
   "metadata": {},
   "source": [
    "## Figures"
   ]
  },
  {
   "cell_type": "markdown",
   "metadata": {},
   "source": [
    "* [ [w](https://en.wikipedia.org/wiki/Ralph_Hartley) ] Hartley, Ralph (1888-1970)\n",
    "* [ [w](https://en.wikipedia.org/wiki/Harry_Nyquist) ] Nyquist, Harry (1889-1976)\n",
    "* [ [w](https://en.wikipedia.org/wiki/Claude_Shannon) ] Shannon, Claude (1916-2001)"
   ]
  },
  {
   "cell_type": "markdown",
   "metadata": {},
   "source": [
    "---"
   ]
  },
  {
   "cell_type": "markdown",
   "metadata": {},
   "source": [
    "## Resources"
   ]
  },
  {
   "cell_type": "markdown",
   "metadata": {},
   "source": [
    "Tools & Technologies\n",
    "* [ [h](https://bitwarden.com) ][ w ] Bitwarden\n",
    "* [ [h](https://cockpit-project.org/) ][ w ] Cockpit\n",
    "* [ [h](https://www.crowdsec.net/) ][ w ] CrowdSec\n",
    "* [ [h](https://gchq.github.io/CyberChef/) ][ w ] CyberChef\n",
    "* [ [h](https://www.darpa.mil/) ][ [w](https://en.wikipedia.org/wiki/DARPA) ] Defense Advanced Research Projects Agency (DARPA)\n",
    "* [ [h](https://en.wikipedia.org/wiki/GNU_Binutils) ][ w ] GNU Binary Utilities (binutils)\n",
    "* [ h ][ [w](https://en.wikipedia.org/wiki/GNU_Octave) ] GNU Octave\n",
    "* [ [h](http://www.gnuplot.info/) ][ [w](https://en.wikipedia.org/wiki/Gnuplot) ] gnuplot\n",
    "* [ [h](https://www.graylog.org) ][ w ] Graylog\n",
    "* [ [h](https://www.hashicorp.com/products/vault) ][ w ] Hashicorp Vault\n",
    "  * https://www.vaultproject.io\n",
    "* [ [h](https://haveibeenpwned.com) ][ w ] haveibenpwned\n",
    "* [ [h](https://www.iozone.org/) ][ [w](https://en.wikipedia.org/wiki/IOzone) ] IOzone - filesystem benchmark\n",
    "* [ [h](https://lmbench.sourceforge.net/) ][ w ] LMbench - performance analysis\n",
    "* [ h ][ [w](https://en.wikipedia.org/wiki/MATLAB) ] MATLAB\n",
    "* [ [h](https://attack.mitre.org) ][ w ] MITRE\n",
    "* [ [h](https://peachtech.gitlab.io/peach-fuzzer-community/) ][ w ] Peach Fuzzer\n",
    "* [ [h](https://www.netgate.com/pfsense-plus-software) ][ w ] pfsense+\n",
    "* [ [h](https://github.com/cruvolo/ramspeed) ][ w ] RAMspeed - cache and memory benchmark\n",
    "* [ [h](https://www.scilab.org/) ][ [w](https://en.wikipedia.org/wiki/Scilab) ] Scilab\n",
    "* [ h ][ w ] Valgrind - instrumentation framework for dynamic analysis\n",
    "\n",
    "FlareVM [GitHub](https://github.com/fireeye/flare-vm)<br>\n",
    "Ghidra [Home](https://ghidra-sre.org)<br>\n",
    "Klee Symbolic Execution Engine [Home](https://klee.github.io)<br>\n",
    "Meltdown and Spectre [Home](https://meltdownattack.com)<br>"
   ]
  },
  {
   "cell_type": "markdown",
   "metadata": {},
   "source": [
    "review\n",
    "* [ [h](https://www.cybrary.it/) ] Cybrary\n",
    "* [ [p](https://www.cisa.gov/uscert) ] CISA\n",
    "* [CIS Critical Security Controls](https://www.cisecurity.org/controls)\n",
    "* [Cisco Networking Academy](https://www.netacad.com/courses/all-courses)\n",
    "* [The Art of Mac Malware](https://taomm.org/PDFs/vol1/CH%200x05%20Non-Binary%20Analysis.pdf)\n",
    "* [udemy wireless networking](https://www.udemy.com/topic/wireless-networking/)"
   ]
  },
  {
   "cell_type": "markdown",
   "metadata": {},
   "source": [
    "Black Eagle Analytics & Data LLC\n",
    "* [ [y](https://www.youtube.com/watch?v=UbD4w0vTvBE) ] `09-05-2020`. \"Cyber Security Crash Course (Free Google IT Support Certificate Course)\".\n",
    "\n",
    "David Bombal\n",
    "* [ [y](https://www.youtube.com/watch?v=-W1Ee1E_INY) ] `03-08-2024`. \"Flipper Zero vs \"Proper\" Hacking Tools\".\n",
    "* [ [y](https://www.youtube.com/watch?v=GxkKszPVD1M) ] `01-03-2024`. \"Hacking Tools (with demos) that you need to learn in 2024\".\n",
    "* [ [y](https://www.youtube.com/watch?v=_wOqpowCaW8) ] `01-01-2024`. \"2024 Roadmap to Master Hacker\".\n",
    "* [ [y](https://www.youtube.com/watch?v=-jLbRnmGYaA) ] `07-30-2023`. \"Real World Hacking Tools Tutorial (Target: Tesla)\".\n",
    "* [ [y](https://www.youtube.com/watch?v=OsY32K1s51Y) ] `07-01-2022`. \"OSINT tools to track you down. You cannot hide.\".\n",
    "* [ [y](https://www.youtube.com/watch?v=sBuxwMAfGnI) ] `08-30-2021`. \"MALWARE ANALYSIS // How to get started with John Hammond\".\n",
    "* [ [y](https://www.youtube.com/watch?v=ZUqGSbvZp1k) ] `05-05-2021`. \"CTF Walkthrough with John Hammond\".\n",
    "\n",
    "[ [y](https://www.youtube.com/@embracethered) ] Embrace The Red"
   ]
  },
  {
   "cell_type": "markdown",
   "metadata": {},
   "source": [
    "Nerd's Lesson\n",
    "* [ [y](https://www.youtube.com/watch?v=s19BxFpoSd0) ] `02-01-2024`. \"Cybersecurity Mastery: Complete Course in a Single Video | Cybersecurity For Beginners\"."
   ]
  },
  {
   "cell_type": "markdown",
   "metadata": {},
   "source": [
    "* [ [y](https://www.youtube.com/watch?v=dobTyPKccMA) ] `03-28-2024`. VICE News. \"The World’s First Cyber Weapon Attack on a Nuclear Plant | Cyberwar\"."
   ]
  },
  {
   "cell_type": "markdown",
   "metadata": {},
   "source": [
    "---"
   ]
  },
  {
   "cell_type": "markdown",
   "metadata": {},
   "source": [
    "## Texts"
   ]
  },
  {
   "cell_type": "markdown",
   "metadata": {},
   "source": [
    "* Pfleeger, Charles; Shari Lawrence Pfleeger; & Lizzie Coles-Kemp. (2023). _Security in Computing_. 6th Ed. Addison-Wesley Professional.\n",
    "* Stamp, Mark. (2021). _Information Security: Principles and Practice, 3rd Ed_. Wiley."
   ]
  },
  {
   "cell_type": "markdown",
   "metadata": {},
   "source": [
    "* Andress, Jason. (2019). _Foundations of Information Security: A Straightforward Introduction_. [No Starch Press](https://nostarch.com/foundationsinfosec).\n",
    "* Dykstra, Josiah. (2015). _Essential Cybersecurity Science: Build, Test, and Evaluate Secure Systems_. O'Reilly.\n",
    "* Kohnfelder, Loren. (2021). _Designing Secure Software: A Guide for Developers_. [No Starch Press](https://nostarch.com/designing-secure-software).\n",
    "* Magnusson, Andrew. (2020). _Practical Vulnerability Management: A Strategic Approach to Managing Cyber Risk_. No Starch Press."
   ]
  },
  {
   "cell_type": "markdown",
   "metadata": {},
   "source": [
    "* Ball, Corey. (2022). _Hacking APIs: Breaking Web Application Programming Interfaces_. [No Starch Press](https://nostarch.com/hacking-apis).\n",
    "* Bejtlich, Richard. (2013). _The Practice of Network Security Monitoring: Understanding Incident Detection and Response_. [No Starch Press](https://nostarch.com/nsm).\n",
    "* Chio, Clarence & David Freeman. (2018). _Machine Learning & Security: Protecting Systems with Data and Algorithms_. O'Reilly.\n",
    "* Dykstra, Josiah. (2015). _Essential Cybersecurity Science: Build, Test, and Evaluate Secure Systems_. O'Reilly.\n",
    "* Du, Wenliang. (2022). _Computer & Internet Security: A Hands-On Approach_. 3rd Ed. [Home](https://www.handsonsecurity.net/index.html). [GitHub](https://github.com/kevin-w-du/BookCode). [Labs Home](https://seedsecuritylabs.org). \n",
    "* Edelman, Jason, Scott Lowe, & Matt Oswalt. (2018). _Network Programmability and Automation: Skills for the Next-Generation Network Engineer_. O'Reilly.\n",
    "* Enoka, Seth. (2022). _Cybersecurity for Small Networks: A Guide for the Reasonably Paranoid_. No Starch Press.\n",
    "* Erickson, Jon. (2008). _Hacking: The Art of Exploitation_. 2nd Ed. [No Starch Press](https://nostarch.com/hacking2.htm).\n",
    "* Graham, Daniel G. (2021). _Ethical Hacking: A Hands-On Introduction to Breaking In_. No Starch Press.\n",
    "* Grubb, Sam. (2021). _How Cybersecurity Really Works: A Hands-On Guide for Total Beginners_. [No Starch Press](https://nostarch.com/cybersecurityreallyworks).\n",
    "* Hall, Patrick; James Curtis; & Parul Pandey. (2023). _Machine Learning for High-Risk Applications: Techniques for Resposnible AI_. O'Reilly.\n",
    "* Julian, Mike. (2017). _Practical Monitoring: Effective Strategies for the Real World_. O'Reilly.\n",
    "* Kohnfelder, Loren. (2021). _Designing Secure Software: A Guide for Developers_. No Starch press.\n",
    "* Reilly, Daniel. (2023). _Applied Math for Security: An Introduction for Programmers_. [No Starch Press](https://nostarch.com/applied-math-security).\n",
    "* Seitz, Justin & Tim Arnold. (2021). _Black Hat Python: Python Programming for Hackers and Pentesters_. 2nd Ed. No Starch Press.\n",
    "* Sikorski, Michael & Andrew Honig. (2012). _Practical Malware Analysis: The Hands-On Guide to Dissecting Malicious Software_. [No Starch Press](https://nostarch.com/malware)."
   ]
  },
  {
   "cell_type": "markdown",
   "metadata": {},
   "source": [
    "* Brown, Rebekah & Scott J. Roberts. (2023). _Intelligence-Driven Incident Response: Outwitting the Adversary_. 2nd Ed. O'Reilly.\n",
    "* Rice, Liz. (2020). _Container Security: Fundamental Technology Concepts That Protect Containerized Applications_. O'Reilly.\n",
    "* Shortridge, Kelly & Aaron Rinehard. (2023). _Security Chaos Engineering: Sustaining Resilience in Software and Systems_. O'Reilly."
   ]
  },
  {
   "cell_type": "markdown",
   "metadata": {},
   "source": [
    "Du, Wenliang. (2019). [_Computer & Internet Security: A Hands-On Approach, 2nd Ed_](https://seedsecuritylabs.org/index.html).<br>\n",
    "Dykstra, Josiah. (2016). _Essential Cybersecurity Science: Build, Test, and Evaluate Secure Systems_. O'Reilly.<br>\n",
    "Grubb, Sam. (2021). _How Cybersecurity Really Works: A Hands-On Guide for Total Beginners_. No Starch Press.<br>\n",
    "McCarty, Ben. (2021). _Cyberjutsu: Cybersecurity for the Modern Ninja_. No Starch Press.<br>\n",
    "Stallings, William & Lawrie Brown. (2017). _Computer Security: Principles and Practice, 4th Ed_. Pearson.<br>\n",
    "Troncone, Paul & Carl Albing. (2019). [_Cybersecurity Ops with bash: Attack, Defend, and Analyze from the Command Line_](https://github.com/cybersecurityops/cyber-ops-with-bash). O'Reilly.<br>\n",
    "Van Oorschot, Paul C. (2020). _Computer Security and the Internet: Tools and Jewels_. Springer Information Security and Cryptography.<br>"
   ]
  },
  {
   "cell_type": "markdown",
   "metadata": {},
   "source": [
    "Arbuckle, Luk & Khaled El Emam. (2020). _Building an Anonymization Pipeline: Creating Safe Data_. O'Reilly.<br>\n",
    "Bowman, Courtney et al. (2015). _The Architecture of Privacy: On Engineering Technologies that can Deliver Trustworthy Safeguards_. O'Reilly.<br>\n",
    "Preston, W. Curtis. (2021). _Modern Data Protection: Ensuring Recoverability of All Modern Workloads_. O'Reilly.<br>"
   ]
  },
  {
   "cell_type": "markdown",
   "metadata": {},
   "source": [
    "Barthe, Gilles, Pedro R. D'Argenio, & Tamara Rezk. [\"Secure Information Flow by Self-Composition\"](https://www-sop.inria.fr/lemme/Tamara.Rezk/publication/Barthe-DArgenio-Rezk.pdf).<br>\n",
    "\n",
    "[\"Exploiting Format String Vulnerabilities\"](https://julianor.tripod.com/bc/formatstring-1.2.pdf).<br>\n",
    "\n",
    "Schneider, Fred B. (2000). [\"Enforceable Security Policies\"](https://www.cs.cornell.edu/fbs/publications/EnfSecPols.pdf).<br>\n",
    "[\"Smashing the Stack for Fun and Profit\"](https://insecure.org/stf/smashstack.html).<br>\n",
    "Tan, Gang. (2017). [\"Principles and Implementation Techniques of Software-Based Fault Isolation\"](http://www.cse.psu.edu/~gxt29/papers/sfi-final.pdf).<br>\n",
    "Thompson, Ken. (1984). [\"Reflections on Trusting Trust\"](https://users.ece.cmu.edu/~ganger/712.fall02/papers/p761-thompson.pdf).<br>\n",
    "\n",
    "[Browser Security Handbook](https://code.google.com/archive/p/browsersec/wikis/Part2.wiki).<br>\n",
    "Neuman, B. Clifford & Theodore Ts'o. (1994). [Kerberos: An Authentication Service for Computer Networks](http://gost.isi.edu/publications/kerberos-neuman-tso.html).<br>\n",
    "[An Illustrated Guide to the Kaminsky DNS Vulnerability](http://unixwiz.net/techtips/iguide-kaminsky-dns-vuln.html).<br>\n",
    "[Tenouk's C programming and buffer overflow programming flaw on Linux and Windows OS tutorial](https://www.tenouk.com/cncplusplusbufferoverflow.html).<br>\n",
    "Wheeler, David A. [Secure Programming HOWTO](https://dwheeler.com/secure-programs/Secure-Programs-HOWTO/index.html).<br>"
   ]
  },
  {
   "cell_type": "markdown",
   "metadata": {},
   "source": [
    "---"
   ]
  },
  {
   "cell_type": "markdown",
   "metadata": {},
   "source": [
    "## Terms"
   ]
  },
  {
   "cell_type": "markdown",
   "metadata": {},
   "source": [
    "* [ [w](https://en.wikipedia.org/wiki/Address_space_layout_randomization) ] Address Space Layout Randomization\n",
    "* [ [w](https://en.wikipedia.org/wiki/Application_security) ] Application Security (AppSec)\n",
    "* [ [w](https://en.wikipedia.org/wiki/Attack_surface) ] Attack Surface\n",
    "* [ [w](https://en.wikipedia.org/wiki/Attack_vector) ] Attack Vector\n",
    "* [ [w](https://en.wikipedia.org/wiki/Blue_team_(computer_security)) ] Blue Team\n",
    "* [ [w](https://en.wikipedia.org/wiki/Buffer_overflow) ] Buffer Overflow\n",
    "* [ [w](https://en.wikipedia.org/wiki/Buffer_overflow_protection) ] Buffer Overflow Protection\n",
    "* [ [w](https://en.wikipedia.org/wiki/Code_injection) ] Code Injection\n",
    "* [ [w](https://en.wikipedia.org/wiki/Code_signing) ] Code Signing\n",
    "* [ [w](https://en.wikipedia.org/wiki/Confidentiality) ] Confidentiality\n",
    "* [ [w](https://en.wikipedia.org/wiki/Control-flow_graph) ] Control-Flow Graph (CFG)\n",
    "* [ [w](https://en.wikipedia.org/wiki/Cyber_threat_intelligence) ] Cyber Threat Intelligence (CTI)\n",
    "* [ w ] DARPA Experimental Cybersecurity Research Evaluation Environment (DECREE)\n",
    "* [ [w](https://en.wikipedia.org/wiki/Data_erasure) ] Data Erasure\n",
    "* [ [w](https://en.wikipedia.org/wiki/Data-flow_analysis) ] Data Flow Analysis\n",
    "* [ [w](https://en.wikipedia.org/wiki/Data_masking) ] Data Masking\n",
    "* [ [w](https://en.wikipedia.org/wiki/Data_recovery) ] Data Recovery\n",
    "* [ [w](https://en.wikipedia.org/wiki/Data_security) ] Data Security\n",
    "* [ [w](https://en.wikipedia.org/wiki/Data-centric_security) ] Data-Centric Security\n",
    "* [ [w](https://en.wikipedia.org/wiki/DARPA) ] Defense Advanced Research Projects Agency (DARPA)\n",
    "* [ [w](https://en.wikipedia.org/wiki/Disk_encryption) ] Disk Encryption\n",
    "* [ [w](https://en.wikipedia.org/wiki/Dynamic_program_analysis) ] Dynamic Program Analysis\n",
    "* [ [w](https://en.wikipedia.org/wiki/Executable-space_protection) ] Executable-Space Protection\n",
    "* [ [w](https://en.wikipedia.org/wiki/Fuzzing) ] Fuzzing\n",
    "* [ [w](https://en.wikipedia.org/wiki/Hackathon) ] Hackathon\n",
    "* [ [w](https://en.wikipedia.org/wiki/Indicator_of_compromise) ] Indicator of Compromise (IoC)\n",
    "* [ [w](https://en.wikipedia.org/wiki/Information_flow_(information_theory)) ] Information Flow\n",
    "* [ [w](https://en.wikipedia.org/wiki/Information_security) ] Information Security\n",
    "* [ [w](https://en.wikipedia.org/wiki/Obfuscation_(software)) ] Obfuscation\n",
    "* [ [w](https://en.wikipedia.org/wiki/Open-source_intelligence) ] Open-Source Intelligence (OSINT)\n",
    "* [ [w](https://en.wikipedia.org/wiki/OWASP) ] Open Worldwide Application Security Project (OWASP)\n",
    "* [ [w](https://en.wikipedia.org/wiki/Payload_(computing)) ] Payload\n",
    "* [ [w](https://en.wikipedia.org/wiki/Principal_(computer_security)) ] Principal\n",
    "* [ [w](https://en.wikipedia.org/wiki/Privilege_(computing)) ] Privilege\n",
    "* [ [w](https://en.wikipedia.org/wiki/Red_team) ] Red Team\n",
    "* [ [w](https://en.wikipedia.org/wiki/Return-oriented_programming) ] Return-Oriented Programming (ROP)\n",
    "* [ [w](https://en.wikipedia.org/wiki/Static_program_analysis) ] Static Program Analysis\n",
    "* [ [w](https://en.wikipedia.org/wiki/Taint_checking) ] Taint Checking\n",
    "* [ [w](https://en.wikipedia.org/wiki/Trust_boundary) ] Trust Boundary"
   ]
  },
  {
   "cell_type": "markdown",
   "metadata": {},
   "source": [
    "* ASLR Address Space Layout Randomization [ [w](https://en.wikipedia.org/wiki/Address_space_layout_randomization) ]\n",
    "* Agobot [ [w](https://en.wikipedia.org/wiki/Agobot) ]\n",
    "* Attack Surface [ [w](https://en.wikipedia.org/wiki/Attack_surface) ]\n",
    "* Attack Vector [ [w](https://en.wikipedia.org/wiki/Vector_(malware)) ]\n",
    "* Blaster Worm [ [w](https://en.wikipedia.org/wiki/Blaster_(computer_worm)) ]\n",
    "* Bluepill [ [w](https://en.wikipedia.org/wiki/Blue_Pill_(software)) ]\n",
    "* Botnet [ [w](https://en.wikipedia.org/wiki/Botnet) ]\n",
    "* Branch Predictor [ [w](https://en.wikipedia.org/wiki/Branch_predictor) ]\n",
    "* Buffer Overflow [ [w](https://en.wikipedia.org/wiki/Buffer_overflow) ]\n",
    "* Code Red Worm [ [w](https://en.wikipedia.org/wiki/Code_Red_(computer_worm)) ]\n",
    "* CVE Common Vulnerabilities and Exposures [ [w](https://en.wikipedia.org/wiki/Common_Vulnerabilities_and_Exposures) ]\n",
    "* Computer Security [ [w](https://en.wikipedia.org/wiki/Computer_security) ]\n",
    "* Cryptovirology [ [w](https://en.wikipedia.org/wiki/Cryptovirology) ]\n",
    "* Disassembly [ [w](https://en.wikipedia.org/wiki/Disassembler) ]\n",
    "* DoS Denial-of-Service [ [w](https://en.wikipedia.org/wiki/Denial-of-service_attack) ]\n",
    "* DDoS Distributed Denial-of-Service [ [w](https://en.wikipedia.org/wiki/Denial-of-service_attack#Distributed_DoS_attack) ]\n",
    "* Exploit [ [w](https://en.wikipedia.org/wiki/Exploit_(computer_security)) ]\n",
    "* FIPS Federal Information Processing Standards [ [w](https://en.wikipedia.org/wiki/Federal_Information_Processing_Standards) ]\n",
    "* Hardware Bug [ [w](https://en.wikipedia.org/wiki/Hardware_bug) ]\n",
    "* Hardware Security Bug [ [w](https://en.wikipedia.org/wiki/Hardware_security_bug) ]\n",
    "* Heartbleed Bug [Home](https://heartbleed.com) [ [w](https://en.wikipedia.org/wiki/Heartbleed) ]\n",
    "* ILOVEYOU Virus [ [w](https://en.wikipedia.org/wiki/ILOVEYOU) ]\n",
    "* Kournikova Virus [ [w](https://en.wikipedia.org/wiki/Anna_Kournikova_(computer_virus)) ]\n",
    "* Malware [ [w](https://en.wikipedia.org/wiki/Malware) ]\n",
    "* Meltdown [ [w](https://en.wikipedia.org/wiki/Meltdown_(security_vulnerability)) ]\n",
    "* Memory Corruption [ [w](https://en.wikipedia.org/wiki/Memory_corruption) ]\n",
    "* Memory Safety [ [w](https://en.wikipedia.org/wiki/Memory_safety) ]\n",
    "* MDS Microarchitectural Data Sampling [ [w](https://en.wikipedia.org/wiki/Microarchitectural_Data_Sampling) ]\n",
    "* Mitre Corp. [ [w](https://en.wikipedia.org/wiki/Mitre_Corporation) ]\n",
    "* Morris Worm [ [w](https://en.wikipedia.org/wiki/Morris_worm) ]\n",
    "* Padding Oracle Attack [ [w](https://en.wikipedia.org/wiki/Padding_oracle_attack) ]\n",
    "* POODLE Bug [ [w](https://en.wikipedia.org/wiki/POODLE) ]\n",
    "* PCC Proof-Carrying Code [ [w](https://en.wikipedia.org/wiki/Proof-carrying_code) ]\n",
    "* Ransomware [ [w](https://en.wikipedia.org/wiki/Ransomware) ]\n",
    "* Reverse Engineering [ [w](https://en.wikipedia.org/wiki/Reverse_engineering) ]\n",
    "* Rootkit [ [w](https://en.wikipedia.org/wiki/Rootkit) ]\n",
    "* Sandbox [ [w](https://en.wikipedia.org/wiki/Sandbox_(computer_security)) ]\n",
    "* Shellshock Bug [ [w](https://en.wikipedia.org/wiki/Shellshock_%28software_bug%29) ]\n",
    "* Side-Channel Attack [ [w](https://en.wikipedia.org/wiki/Side-channel_attack) ]\n",
    "* Slammer Worm [ [w](https://en.wikipedia.org/wiki/SQL_Slammer) ]\n",
    "* Software Bug [ [w](https://en.wikipedia.org/wiki/Software_bug) ]\n",
    "* SGX Software Guard Extensions [ [w](https://en.wikipedia.org/wiki/Software_Guard_Extensions) ]\n",
    "* Spectre [ [w](https://en.wikipedia.org/wiki/Spectre_(security_vulnerability)) ]\n",
    "* Storm Botnet [ [w](https://en.wikipedia.org/wiki/Storm_botnet) ]\n",
    "* Stuxnet [ [w](https://en.wikipedia.org/wiki/Stuxnet) ]\n",
    "* Threat Actor [ [w](https://en.wikipedia.org/wiki/Threat_actor) ]\n",
    "* TLS Transport Layer Security [ [w](https://en.wikipedia.org/wiki/Transport_Layer_Security) ]\n",
    "* Virus [ [w](https://en.wikipedia.org/wiki/Computer_virus) ]\n",
    "* Vulnerability [ [w](https://en.wikipedia.org/wiki/Vulnerability_(computing)) ]\n",
    "* Worm [ [w](https://en.wikipedia.org/wiki/Computer_worm) ]\n",
    "* Zero-Day [ [w](https://en.wikipedia.org/wiki/Zero-day_(computing)) ]\n",
    "* Zune Crash of 2008 [ [w](https://en.wikipedia.org/wiki/Zune#First_generation) ]"
   ]
  },
  {
   "cell_type": "markdown",
   "metadata": {},
   "source": [
    "* Address and Routing Parameter Area [ [w](https://en.wikipedia.org/wiki/.arpa) ]\n",
    "* Air Gap [ [w](https://en.wikipedia.org/wiki/Air_gap_(networking)) ]\n",
    "* Akamai Technologies [ [w](https://en.wikipedia.org/wiki/Akamai_Technologies) ]\n",
    "* ARP Spoofing [ [w](https://en.wikipedia.org/wiki/ARP_spoofing) ]\n",
    "* Automotive Hacking [ [w](https://en.wikipedia.org/wiki/Automotive_hacking) ]\n",
    "* Challenge-Response Authentication [ [w](https://en.wikipedia.org/wiki/Challenge%E2%80%93response_authentication) ]\n",
    "* CAPTCHA Completely Automated Public Turing Test to tell Computers and Humans Apart [ [w](https://en.wikipedia.org/wiki/CAPTCHA) ]\n",
    "* Cold Boot Attack [ [w](https://en.wikipedia.org/wiki/Cold_boot_attack) ]\n",
    "* Computer Security [ [w](https://en.wikipedia.org/wiki/Computer_security) ]\n",
    "* Consistent Hashing [WIki](https://en.wikipedia.org/wiki/Consistent_hashing)\n",
    "* Cryptocurrency Scam [ [w](https://en.wikipedia.org/wiki/Category:Cryptocurrency_scams) ]\n",
    "* Custom Hardware Attack [ [w](https://en.wikipedia.org/wiki/Custom_hardware_attack) ]\n",
    "* Cybersecurity [ [w](https://en.wikipedia.org/wiki/Computer_security) ]\n",
    "* Data-Centric Security [ [w](https://en.wikipedia.org/wiki/Data-centric_security) ]\n",
    "* Defense Strategy [ [w](https://en.wikipedia.org/wiki/Defense_strategy_(computing)) ]\n",
    "* DOS Denial-of-Service Attack [ [w](https://en.wikipedia.org/wiki/Denial-of-service_attack) ]\n",
    "* DNS over HTTPS [ [w](https://en.wikipedia.org/wiki/DNS_over_HTTPS) ]\n",
    "* DP Differential Privacy [ [w](https://en.wikipedia.org/wiki/Differential_privacy) ]\n",
    "* Dynamic DNS [ [w](https://en.wikipedia.org/wiki/Dynamic_DNS) ]\n",
    "* FIDO Fast IDentity Online\n",
    "* FIDO Alliance [Home](https://fidoalliance.org/) [ [w](https://en.wikipedia.org/wiki/FIDO_Alliance) ]\n",
    "* FIDO UAF Universal Authentication Framework\n",
    "* FIDO U2F Universal 2nd Factor\n",
    "* FIDO 2\n",
    "  * CTAP2\n",
    "  * Webauthn\n",
    "* Firewall [ [w](https://en.wikipedia.org/wiki/Firewall_(computing)) ]\n",
    "* Forward Secrecy [ [w](https://en.wikipedia.org/wiki/Forward_secrecy) ]\n",
    "* Fuzzy Extractor [ [w](https://en.wikipedia.org/wiki/Fuzzy_extractor) ]\n",
    "* Hardware Backdoor [ [w](https://en.wikipedia.org/wiki/Hardware_backdoor) ]\n",
    "* Hardware Obfuscation [ [w](https://en.wikipedia.org/wiki/Hardware_obfuscation) ]\n",
    "* Hardware Security [ [w](https://en.wikipedia.org/wiki/Hardware_security) ]\n",
    "* Hardware Trojan [ [w](https://en.wikipedia.org/wiki/Hardware_Trojan) ]\n",
    "* Honeypot [ [w](https://en.wikipedia.org/wiki/Honeypot_(computing)) ]\n",
    "* Human Presence Detection [ [w](https://en.wikipedia.org/wiki/Human_presence_detection) ]\n",
    "* Information-Theoretic Security [ [w](https://en.wikipedia.org/wiki/Information-theoretic_security) ]\n",
    "* Kill Switch [ [w](https://en.wikipedia.org/wiki/Kill_switch) ]\n",
    "* Malware\n",
    "* MFA Multi-Factor Authentication [ [w](https://en.wikipedia.org/wiki/Multi-factor_authentication) ]\n",
    "* NFC Near-Field Communication [ [w](https://en.wikipedia.org/wiki/Near-field_communication) ]\n",
    "* Network Security [ [w](https://en.wikipedia.org/wiki/Network_security) ]\n",
    "* Nonce (number once) [ [w](https://en.wikipedia.org/wiki/Cryptographic_nonce) ]\n",
    "* OTP One-Time Pad [ [w](https://en.wikipedia.org/wiki/One-time_pad) ]\n",
    "* OTP One-Time Password [ [w](https://en.wikipedia.org/wiki/One-time_password) ]\n",
    "* OAuth Open Authorization [Home](https://oauth.net/) [ [w](https://en.wikipedia.org/wiki/OAuth) ]\n",
    "* PIN Personal Identification Number [ [w](https://en.wikipedia.org/wiki/Personal_identification_number) ]\n",
    "* Phishing [ [w](https://en.wikipedia.org/wiki/Phishing) ]\n",
    "* PUF Physical Unclonable Function [ [w](https://en.wikipedia.org/wiki/Physical_unclonable_function) ]\n",
    "* PGP Pretty Good Privacy [ [w](https://en.wikipedia.org/wiki/Pretty_Good_Privacy) ]\n",
    "* PKI Public Key Infrastructure [ [w](https://en.wikipedia.org/wiki/Public_key_infrastructure) ]\n",
    "* Quantum Readout [ [w](https://en.wikipedia.org/wiki/Quantum_readout) ]\n",
    "* Quantum-Secure Authentication\n",
    "* RFID Radio-Frequency Identification [ [w](https://en.wikipedia.org/wiki/Radio-frequency_identification) ]\n",
    "* Ransomware [ [w](https://en.wikipedia.org/wiki/Ransomware) ]\n",
    "* reCAPTCHA [ [w](https://en.wikipedia.org/wiki/ReCAPTCHA) ]\n",
    "* Replay Attack [ [w](https://en.wikipedia.org/wiki/Replay_attack) ]\n",
    "* Reverse DNS Lookup [ [w](https://en.wikipedia.org/wiki/Reverse_DNS_lookup) ]\n",
    "* Secure Cryptoprocessor [ [w](https://en.wikipedia.org/wiki/Secure_cryptoprocessor) ]\n",
    "* SE Secure Element\n",
    "* SEID Secure Element Identifier\n",
    "* Security Switch [ [w](https://en.wikipedia.org/wiki/Security_switch) ]\n",
    "* Security Token [ [w](https://en.wikipedia.org/wiki/Security_token) ]\n",
    "* SMS Short Message Service [ [w](https://en.wikipedia.org/wiki/SMS) ]\n",
    "* SSO Single Sign-On [ [w](https://en.wikipedia.org/wiki/Single_sign-on) ]\n",
    "* Social Engineering [ [w](https://en.wikipedia.org/wiki/Social_engineering_(security)) ]\n",
    "* Spoofing Attack [ [w](https://en.wikipedia.org/wiki/Spoofing_attack) ]\n",
    "* Spyware\n",
    "* SMP Stable Matching Problem [ [w](https://en.wikipedia.org/wiki/Stable_marriage_problem) ]\n",
    "* Strong Authentication\n",
    "* Strong Cryptography [ [w](https://en.wikipedia.org/wiki/Strong_cryptography) ]\n",
    "* Teredo Tunneling [ [w](https://en.wikipedia.org/wiki/Teredo_tunneling) ]\n",
    "* TPA Third-Party Authenticator\n",
    "* TOTP Time-Based One-Time Password [ [w](https://en.wikipedia.org/wiki/Time-based_One-Time_Password) ]\n",
    "* TEE Trusted Execution Environment [ [w](https://en.wikipedia.org/wiki/Trusted_execution_environment) ]\n",
    "* TSM Trusted Service Manager [ [w](https://en.wikipedia.org/wiki/Trusted_service_manager) ]\n",
    "* 2FA Two-Factor Authenticaion\n",
    "* U2F Universal 2nd Factor [ [w](https://en.wikipedia.org/wiki/Universal_2nd_Factor) ]\n",
    "* USB Universal Serial Bus [ [w](https://en.wikipedia.org/wiki/USB) ]\n",
    "* Virtual Security Switch [ [w](https://en.wikipedia.org/wiki/Virtual_security_switch) ]\n",
    "* WebAuthn Web Authentication [ [w](https://en.wikipedia.org/wiki/WebAuthn) ]\n",
    "* Web of Trust [ [w](https://en.wikipedia.org/wiki/Web_of_trust) ]"
   ]
  },
  {
   "cell_type": "markdown",
   "metadata": {},
   "source": [
    "---"
   ]
  },
  {
   "cell_type": "markdown",
   "metadata": {},
   "source": [
    "## Datasets"
   ]
  },
  {
   "cell_type": "markdown",
   "metadata": {},
   "source": [
    "* AWS public data sets\n",
    "  * Enron Corpus (email)\n",
    "  * Coomon Crawl corpus\n",
    "* [Center for Applied Internet Data Analysis (CAIDA) data sets](https://catalog.caida.org/search?query=types=dataset%20links=tag:caida%20)\n",
    "  * anonymized Internet traces\n",
    "  * Code Red worm propagation\n",
    "  * passive traces on high-speed links\n",
    "* [Internet-Wide Scan Data Repo](https://scans.io)\n",
    "  * Rapid7\n",
    "  * University of Michigan\n",
    "* MIT Lincoln Lab IDS data sets - examples of background and attack traffic\n",
    "* [NSA Cyber Defense exercise data set](https://www.westpoint.edu/centers-and-research/cyber-research-center/data-sets)\n",
    "  * DNS\n",
    "  * Snort\n",
    "  * Splunk\n",
    "  * web server\n",
    "* Protected Repository for the Defense of Infrastructure Against Cyber Threats (PREDICT)\n",
    "  * blackhole data\n",
    "  * BGP routing data\n",
    "  * bulk email data\n",
    "  * IDS and firewall data"
   ]
  },
  {
   "cell_type": "markdown",
   "metadata": {},
   "source": [
    "---"
   ]
  }
 ],
 "metadata": {
  "kernelspec": {
   "display_name": "Python 3 (ipykernel)",
   "language": "python",
   "name": "python3"
  },
  "language_info": {
   "codemirror_mode": {
    "name": "ipython",
    "version": 3
   },
   "file_extension": ".py",
   "mimetype": "text/x-python",
   "name": "python",
   "nbconvert_exporter": "python",
   "pygments_lexer": "ipython3",
   "version": "3.11.5"
  }
 },
 "nbformat": 4,
 "nbformat_minor": 4
}
