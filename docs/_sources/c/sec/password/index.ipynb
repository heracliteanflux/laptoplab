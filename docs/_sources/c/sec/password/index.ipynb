{
 "cells": [
  {
   "cell_type": "markdown",
   "metadata": {},
   "source": [
    "# Password Management"
   ]
  },
  {
   "cell_type": "markdown",
   "metadata": {},
   "source": [
    "---"
   ]
  },
  {
   "cell_type": "markdown",
   "metadata": {},
   "source": [
    "## Table of Contents\n",
    "```{contents}\n",
    "```"
   ]
  },
  {
   "cell_type": "markdown",
   "metadata": {},
   "source": [
    "---"
   ]
  },
  {
   "cell_type": "markdown",
   "metadata": {},
   "source": [
    "Store your [strong, secure passwords](https://en.wikipedia.org/wiki/Password_strength) in a safe place so that you don't forget them.\n",
    "\n",
    "Check the strength of your password:\n",
    "* [How Secure Is My Password?](https://www.security.org/how-secure-is-my-password/)\n",
    "* [Bitwarden Password Strength Testing Tool](https://bitwarden.com/password-strength/)\n",
    "\n",
    "[ [article](https://www.lmgsecurity.com/finding-the-optimal-minimum-password-length-a-data-driven-approach-to-password-security/) ] `01-10-2024`. LMG Security Blog. \"Finding the Optimal Minimum Password Length: A Data-Driven Approach to Password Security\"."
   ]
  },
  {
   "cell_type": "markdown",
   "metadata": {},
   "source": [
    "---"
   ]
  },
  {
   "cell_type": "markdown",
   "metadata": {},
   "source": [
    "## Passkeys"
   ]
  },
  {
   "cell_type": "markdown",
   "metadata": {},
   "source": [
    "* [ [d](https://1password.com/product/passkeys) ] 1Password\n",
    "* [ [d](https://developer.apple.com/passkeys/) ] Apple\n",
    "* [ [d](https://fidoalliance.org/passkeys/) ] FIDO Alliance"
   ]
  },
  {
   "cell_type": "markdown",
   "metadata": {},
   "source": [
    "* [ [y](https://www.youtube.com/watch?v=2r6NbdhThmA) ] `11-10-2023`. Bitwarden. \"Bitwarden and Passkeys Webcast\".\n",
    "* [ [y](https://www.youtube.com/watch?v=FTweNDAc9Fs) ] `07-28-2023`. Crosstalk Solutions. \"Passkeys are HERE and they're SECURE! Learn this today...\"."
   ]
  },
  {
   "cell_type": "markdown",
   "metadata": {},
   "source": [
    "---"
   ]
  },
  {
   "cell_type": "markdown",
   "metadata": {},
   "source": [
    "## Security Keys"
   ]
  },
  {
   "cell_type": "markdown",
   "metadata": {},
   "source": [
    "* [ [y](https://www.youtube.com/watch?v=F_E2LZK-bFk) ] `09-22-2022`. Lawrence Systems. \"How FIDO2 Works And Would It Stop MFA Fatigue Attacks?\"."
   ]
  },
  {
   "cell_type": "markdown",
   "metadata": {},
   "source": [
    "* [ [y](https://www.youtube.com/watch?v=w_Yn1dAqLO8) ] `03-27-2023`. Shannon Morse. \"Which YubiKey Should I Get? 2023 2FA Hardware Key Buyers Guide\"."
   ]
  },
  {
   "cell_type": "markdown",
   "metadata": {},
   "source": [
    "---"
   ]
  },
  {
   "cell_type": "markdown",
   "metadata": {},
   "source": [
    "## Resources"
   ]
  },
  {
   "cell_type": "markdown",
   "metadata": {},
   "source": [
    "* [ [h](https://sourceforge.net/projects/crunch-wordlist/) ][ g ][ w ] crunch\n",
    "* [ h ][ g ][ w ] hashcat\n",
    "* [ h ][ [g](https://github.com/vanhauser-thc/thc-hydra) ][ [w](https://en.wikipedia.org/wiki/Hydra_(software)) ] hydra\n",
    "* [ h ][ g ][ w ] john the ripper"
   ]
  },
  {
   "cell_type": "markdown",
   "metadata": {},
   "source": [
    "* [ [h](https://1password.com) ] 1Password\n",
    "  * [1Password for SSH & Git](https://developer.1password.com/docs/ssh/)\n",
    "* [ [h](https://bitwarden.com) ][ [d](https://bitwarden.com/help/) ] Bitwarden\n",
    "  * [ [y](https://www.youtube.com/watch?v=pfEmIk2a_Xs) ] `11-14-2023`. Bitwarden. \"Store passkeys in Bitwarden\".\n",
    "  * [ [y](https://www.youtube.com/watch?v=o4asbRziCD0) ] `12-03-2023`. Jason Rebholz - TeachMeCyber. \"Faster Logins with Passkeys | Bitwarden Passkey Tutorial\".\n",
    "  * [ [y](https://www.youtube.com/watch?v=ELp3V1j3rhU) ] `07-16-2023`. Jason Rebholz - TeachMeCyber. \"The Most Important Bitwarden Setting You Never Heard Of\".\n",
    "  * [ [y](https://www.youtube.com/watch?v=OkYKb0Sx-XA) ] `06-24-2023`. Jason Rebholz - TeachMeCyber. \"Bitwarden Tutorial | The Full Beginners Guide\".\n",
    "* [ [h](https://fidoalliance.org) ] FIDO Alliance\n",
    "* [ [h](https://haveibeenpwned.com) ] Have I Been Pwned?\n",
    "* [ [h](https://www.yubico.com) ] Yubico\n",
    "\n",
    "macOS Keychain\n",
    "* [If you need to update your keychain password on Mac](https://support.apple.com/guide/keychain-access/if-you-need-to-update-your-keychain-password-kyca2429/mac)\n",
    "* [Learn how passwords are used on Mac](https://support.apple.com/guide/mac-help/understand-passwords-mchlp2555/12.0/mac/12.0)\n",
    "* [Manage passwords using keychains on Mac](https://support.apple.com/guide/mac-help/use-keychains-to-store-passwords-mchlf375f392/mac)\n",
    "* [Set up iCloud Keychain](https://support.apple.com/en-us/HT204085)"
   ]
  },
  {
   "cell_type": "markdown",
   "metadata": {},
   "source": [
    "---"
   ]
  },
  {
   "cell_type": "markdown",
   "metadata": {},
   "source": [
    "## Terms"
   ]
  },
  {
   "cell_type": "markdown",
   "metadata": {},
   "source": [
    "* [ [w](https://en.wikipedia.org/wiki/Authentication) ] Authentication\n",
    "* [ [w](https://en.wikipedia.org/wiki/Authenticator) ] Authenticator\n",
    "* [ [w](https://en.wikipedia.org/wiki/Biometrics) ] Biometrics\n",
    "* [ [w](https://en.wikipedia.org/wiki/Challenge–response_authentication) ] Challenge-Response Authentication\n",
    "* [ [w](https://en.wikipedia.org/wiki/Client_to_Authenticator_Protocol) ] Client to Authenticator Protocol (CTAP)\n",
    "* [ [w](https://en.wikipedia.org/wiki/CAPTCHA) ] Completely Automated Public Turing Test to tell Computers and Humans Apart (CAPTCHA)\n",
    "* [ w ] Fast IDentity Online (FIDO)\n",
    "* [ [w](https://en.wikipedia.org/wiki/FIDO_Alliance) ] FIDO Alliance\n",
    "* [ w ] FIDO Universal Authentication Framework (UAF)\n",
    "* [ [w](https://en.wikipedia.org/wiki/FIDO2_Project) ] FIDO2\n",
    "* [ [w](https://en.wikipedia.org/wiki/Key_(cryptography)) ] Key\n",
    "* [ [w](https://en.wikipedia.org/wiki/Keystroke_dynamics) ] Keystroke Dynamics\n",
    "* [ [w](https://en.wikipedia.org/wiki/Keystroke_logging) ] Keystroke Logger\n",
    "* [ [w](https://en.wikipedia.org/wiki/Initiative_for_Open_Authentication) ] Initiative for Open Authentication (OATH)\n",
    "* [ [w](https://en.wikipedia.org/wiki/Multi-factor_authentication) ] Multi Factor Authentication (MFA)\n",
    "* [ [w](https://en.wikipedia.org/wiki/Near-field_communication) ] Near-Field Communication (NFC)\n",
    "* [ [w](https://en.wikipedia.org/wiki/One-time_password) ] One-Time Password (OTP)\n",
    "* [ [w](https://en.wikipedia.org/wiki/Passphrase) ] Passphrase\n",
    "* [ [w](https://en.wikipedia.org/wiki/Password) ] Password\n",
    "* [ w ] Password Manager\n",
    "* [ [w](https://en.wikipedia.org/wiki/Personal_identification_number) ] Personal Identification Number (PIN)\n",
    "* [ [w](https://en.wikipedia.org/wiki/Radio-frequency_identification) ] Radio Frequency IDentification (RFID)\n",
    "* [ [w](https://en.wikipedia.org/wiki/ReCAPTCHA) ] reCAPTCHA\n",
    "* [ [w](https://en.wikipedia.org/wiki/Security_token) ] Security Token\n",
    "* [ [w](https://en.wikipedia.org/wiki/Software_token) ] Software Token\n",
    "* [ [w](https://en.wikipedia.org/wiki/Time-based_one-time_password) ] Time-Based One-Time Password (TOTP)\n",
    "* [ [w](https://en.wikipedia.org/wiki/Trusted_execution_environment) ] Trusted Execution Environment (TEE)\n",
    "* [ [w](https://en.wikipedia.org/wiki/Trusted_Platform_Module) ] Trusted Platform Module (TPM)\n",
    "* [ w ] Two Factor Authentication (2FA)\n",
    "* [ [w](https://en.wikipedia.org/wiki/Universal_2nd_Factor) ] Universal 2nd Factor (U2F)\n",
    "* [ [w](https://en.wikipedia.org/wiki/Universally_unique_identifier) ] Universally Unique IDentifier (UUID)\n",
    "* [ [w](https://en.wikipedia.org/wiki/WebAuthn) ] Web Authentication (WebAuthn)"
   ]
  },
  {
   "cell_type": "markdown",
   "metadata": {},
   "source": [
    "---"
   ]
  }
 ],
 "metadata": {
  "language_info": {
   "name": "python"
  }
 },
 "nbformat": 4,
 "nbformat_minor": 2
}
