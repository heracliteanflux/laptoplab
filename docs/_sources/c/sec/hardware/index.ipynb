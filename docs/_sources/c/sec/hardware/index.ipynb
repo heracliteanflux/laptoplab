{
 "cells": [
  {
   "cell_type": "markdown",
   "metadata": {},
   "source": [
    "# Hardware Security"
   ]
  },
  {
   "cell_type": "markdown",
   "metadata": {},
   "source": [
    "---"
   ]
  },
  {
   "cell_type": "markdown",
   "metadata": {},
   "source": [
    "## Table of Contents\n",
    "```{contents}\n",
    "```"
   ]
  },
  {
   "cell_type": "markdown",
   "metadata": {},
   "source": [
    "---"
   ]
  },
  {
   "cell_type": "markdown",
   "metadata": {},
   "source": [
    "## Resources"
   ]
  },
  {
   "cell_type": "markdown",
   "metadata": {},
   "source": [
    "* [ [h](https://flipperzero.one/) ] Flipper Zero\n",
    "* [ [h](https://www.gl-inet.com/products/gl-mt3000/) ] GL.iNet Beryl AX\n",
    "  * [ [y](https://www.youtube.com/watch?v=szqme3j7h10) ] `12-28-2023`. Crosstalk Solutions. \"Travel Routers Improve Your Life! Beryl AX Complete Setup\".\n",
    "  * [ [y](https://www.youtube.com/watch?v=7_vk6cpPtxA) ] `09-25-2023`. ShortCircuit. \"I didn’t know I needed this - GL.iNet Beryl AX\".\n",
    "  * [ [y](https://www.youtube.com/watch?v=f7DYULL6ZSI) ] `07-27-2022`. GLiNet. \"How to Setup GL.iNet Routers for the First Time\".\n",
    "* [ [h](https://greatscottgadgets.com/) ] Great Scott Gadgets\n",
    "* [ [h](https://shop.hak5.org) ] Hak5\n",
    "* [ [h](https://outpost24.com) ] Outpost24\n",
    "* [ [h](https://spycentre.com/) ] SpyCentre"
   ]
  },
  {
   "cell_type": "markdown",
   "metadata": {},
   "source": [
    "---"
   ]
  },
  {
   "cell_type": "markdown",
   "metadata": {},
   "source": [
    "## Texts"
   ]
  },
  {
   "cell_type": "markdown",
   "metadata": {},
   "source": [
    "* Merli, Dominik. (2024). _Engineering Secure Devices_. [No Starch Press](https://nostarch.com/engineering-secure-devices).\n",
    "* Van Woudenberg, Jasper & Colin O'Flynn. (2021). _The Hardware Hacking Handbook: Breaking Embedded Security with Hardware Attacks_. [No Starch Press](https://nostarch.com/hardwarehacking)."
   ]
  },
  {
   "cell_type": "markdown",
   "metadata": {},
   "source": [
    "---"
   ]
  },
  {
   "cell_type": "markdown",
   "metadata": {},
   "source": [
    "## Terms"
   ]
  },
  {
   "cell_type": "markdown",
   "metadata": {},
   "source": [
    "* [ [w](https://en.wikipedia.org/wiki/Access_control) ] Access Control\n",
    "* [ [w](https://en.wikipedia.org/wiki/Acoustic_cryptanalysis) ] Acoustic Cryptanalysis\n",
    "* [ [w](https://en.wikipedia.org/wiki/Automotive_hacking) ] Automotive Hacking\n",
    "* [ [w](https://en.wikipedia.org/wiki/Electromagnetic_attack) ] Electromagnetic Attack\n",
    "* [ [w](https://en.wikipedia.org/wiki/Hardware_backdoor) ] Hardware Backdoor\n",
    "* [ [w](https://en.wikipedia.org/wiki/Hardware_security) ] Hardware Security\n",
    "* [ [w](https://en.wikipedia.org/wiki/Hardware_security_module) ] Hardware Security Module (HSM)\n",
    "* [ [w](https://en.wikipedia.org/wiki/Hardware_Trojan) ] Hardware Trojan\n",
    "* [ [w](https://en.wikipedia.org/wiki/Hardware-based_full_disk_encryption) ] Hardware-Based Full Disk Encryption (FDE)\n",
    "* [ [w](https://en.wikipedia.org/wiki/Open-source_hardware) ] Open-Source Hardware (OSH)\n",
    "* [ [w](https://en.wikipedia.org/wiki/Physical_unclonable_function) ] Physical Unclonable Function (PUF)\n",
    "* [ [w](https://en.wikipedia.org/wiki/Power_analysis) ] Power Analysis\n",
    "* [ [w](https://en.wikipedia.org/wiki/Secure_cryptoprocessor) ] Secure Cryptoprocessor\n",
    "* [ [w](https://en.wikipedia.org/wiki/Security_switch) ] Security Switch\n",
    "* [ [w](https://en.wikipedia.org/wiki/Side-channel_attack) ] Side-Channel Attack\n",
    "* [ [w](https://en.wikipedia.org/wiki/Smart_card) ] mart Card\n",
    "* [ [w](https://en.wikipedia.org/wiki/Supply_chain_security) ] Supply Chain Security\n",
    "* [ [w](https://en.wikipedia.org/wiki/Timing_attack) ] Timing Attack"
   ]
  },
  {
   "cell_type": "markdown",
   "metadata": {},
   "source": [
    "---"
   ]
  }
 ],
 "metadata": {
  "language_info": {
   "name": "python"
  }
 },
 "nbformat": 4,
 "nbformat_minor": 2
}
