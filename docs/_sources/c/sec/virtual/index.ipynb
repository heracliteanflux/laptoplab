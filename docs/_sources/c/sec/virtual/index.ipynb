{
 "cells": [
  {
   "cell_type": "markdown",
   "metadata": {},
   "source": [
    "# Containerization & Virtualization"
   ]
  },
  {
   "cell_type": "markdown",
   "metadata": {},
   "source": [
    "---"
   ]
  },
  {
   "cell_type": "markdown",
   "metadata": {},
   "source": [
    "## Table of Contents\n",
    "```{contents}\n",
    "```"
   ]
  },
  {
   "cell_type": "markdown",
   "metadata": {},
   "source": [
    "---"
   ]
  },
  {
   "cell_type": "markdown",
   "metadata": {},
   "source": [
    "## Vagrant"
   ]
  },
  {
   "cell_type": "markdown",
   "metadata": {},
   "source": [
    "`vagrant`\n",
    "* `vagrant global-status --prune`\n",
    "* `vagrant up`\n",
    "* `vagrant box update`\n",
    "* `vagrant destroy`\n",
    "* `vagrant box prune`\n",
    "* `vagrant halt`\n",
    "* `vagrant box update && vagrant destroy --force && vagrant up`"
   ]
  },
  {
   "cell_type": "markdown",
   "metadata": {},
   "source": [
    "Verify Vagrant.\n",
    "\n",
    "```\n",
    "vagrant --version\n",
    "```\n",
    "\n",
    "Install Parallels provider Vagrant plugin: https://parallels.github.io/vagrant-parallels/docs/installation/\n",
    "\n",
    "* `vagrant plugin install vagrant-vmware-desktop`\n",
    "* `vagrant plugin install vagrant-parallels`\n",
    "* `vagrant plugin install vagrant-share`\n",
    "* `vagrant plugin install vagrant-vbguest`\n",
    "\n",
    "Update.\n",
    "\n",
    "* `vagrant plugin update vagrant-vmware-desktop`\n",
    "* `vagrant plugin update vagrant-parallels`\n",
    "\n",
    "vagrant plugin\n",
    "* `vagrant plugin list`\n",
    "\n",
    "vagrant box\n",
    "* `vagrant box update`\n",
    "* `vagrant box list`\n",
    "* `vagrant box remove <name>`\n",
    "* `vagrant init bento/ubuntu-18.04`\n",
    "* `vagrant init hashicorp/bionic64`\n",
    "* `vagrant init ubuntu/focal64`\n",
    "* `vagrant up --provider=virtualbox`\n",
    "* `vagrant up --provider=vmware_fusion`\n",
    "* `vagrant up --provider=parallels`\n",
    "* `vagrant ssh`\n",
    "* `vagrant ssh-config`\n",
    "* `vboxmanage list vms`\n",
    "* `vboxmanage list runningvms`\n",
    "* `vboxmanage unregistervm <ID>`"
   ]
  },
  {
   "cell_type": "markdown",
   "metadata": {},
   "source": [
    "---"
   ]
  },
  {
   "cell_type": "markdown",
   "metadata": {},
   "source": [
    "## Resources"
   ]
  },
  {
   "cell_type": "markdown",
   "metadata": {},
   "source": [
    "* [ [h](https://www.docker.com) ][ [d](https://docs.docker.com) ][ [w](https://en.wikipedia.org/wiki/Docker_(software)) ] Docker\n",
    "* [ [h](https://www.parallels.com) ][ d ][ w ] Parallels\n",
    "* [ [h](https://podman.io/) ][ [d](https://podman.io/docs) ][ w ] Podman\n",
    "* [ [h](https://www.qemu.org/) ][ d ][ [w](https://en.wikipedia.org/wiki/QEMU) ] Quick EMUlator (QEMU)\n",
    "* [ [h](https://www.vagrantup.com) ][ [d](https://www.vagrantup.com/docs) ][ w ] Vagrant\n",
    "* [ [h](https://www.virtualbox.org) ][ d ][ w ] VirtualBox\n",
    "* [ h ][ d ][ [w](https://en.wikipedia.org/wiki/VMware_ESXi) ] VMWare ESXi\n",
    "* [ [h](https://www.vmware.com/products/fusion.html) ][ d ][ w ] VMware Fusion\n",
    "* [ h ][ d ][ [w](https://en.wikipedia.org/wiki/VMware) ] VMWare Workstation\n",
    "* [ h ][ d ][ [w](https://en.wikipedia.org/wiki/Xen) ] Xen\n",
    "  * [ [h](https://xcp-ng.org/) ][ [w](https://en.wikipedia.org/wiki/XCP-ng) ] XCP-ng"
   ]
  },
  {
   "cell_type": "markdown",
   "metadata": {},
   "source": [
    "* [ [y](https://www.youtube.com/watch?v=pxwUXJmAER4) ] `06-06-2020`. Techno Tim. \"Virtualize vs. Containerize (Which should I choose?)\"."
   ]
  },
  {
   "cell_type": "markdown",
   "metadata": {},
   "source": [
    "---"
   ]
  },
  {
   "cell_type": "markdown",
   "metadata": {},
   "source": [
    "## Terms"
   ]
  },
  {
   "cell_type": "markdown",
   "metadata": {},
   "source": [
    "* [ [w](https://en.wikipedia.org/wiki/Bare_machine) ] Bare Metal\n",
    "* [ [w](https://en.wikipedia.org/wiki/Binary_translation) ] Binary Translation\n",
    "* [ [w](https://en.wikipedia.org/wiki/Citrix_Systems) ] Citrix Systems\n",
    "* [ w ] Container\n",
    "* [ w ] Containerization\n",
    "* [ [w](https://en.wikipedia.org/wiki/Emulator) ] Emulator\n",
    "* [ [w](https://en.wikipedia.org/wiki/Full_virtualization) ] Full Virtualization\n",
    "* [ [w](https://en.wikipedia.org/wiki/Hardware-assisted_virtualization) ] Hardware-Assisted Virtualization\n",
    "* [ [w](https://en.wikipedia.org/wiki/Hardware_virtualization) ] Hardware Virtualization\n",
    "* [ [w](https://en.wikipedia.org/wiki/Hypervisor) ] Hypervisor\n",
    "* [ [w](https://en.wikipedia.org/wiki/Kernel-based_Virtual_Machine) ] Kernel-Based Virtual Machine (KVM)\n",
    "* [ [w](https://en.wikipedia.org/wiki/OS-level_virtualization) ] OS-level Virtualization\n",
    "* [ [w](https://en.wikipedia.org/wiki/Paravirtualization) ] Paravirtualization\n",
    "* [ [w](https://en.wikipedia.org/wiki/System_virtual_machine) ] System Virtual Machine\n",
    "* [ [w](https://en.wikipedia.org/wiki/Video_game_console_emulator) ] Video Game Console Emulator\n",
    "* [ [w](https://en.wikipedia.org/wiki/Virtual_machine) ] Virtual Machine (VM)\n",
    "* [ [w](https://en.wikipedia.org/wiki/Virtual_machine_escape) ] Virtual Machine Escape\n",
    "* [ w ] Virtualization Stack\n",
    "* [ [w](https://en.wikipedia.org/wiki/X86_virtualization) ] x86 Virtualization"
   ]
  },
  {
   "cell_type": "markdown",
   "metadata": {},
   "source": [
    "---"
   ]
  }
 ],
 "metadata": {
  "language_info": {
   "name": "python"
  }
 },
 "nbformat": 4,
 "nbformat_minor": 2
}
