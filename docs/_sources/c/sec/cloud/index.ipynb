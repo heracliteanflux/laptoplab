{
 "cells": [
  {
   "cell_type": "markdown",
   "metadata": {},
   "source": [
    "# Cloud Security"
   ]
  },
  {
   "cell_type": "markdown",
   "metadata": {},
   "source": [
    "---"
   ]
  },
  {
   "cell_type": "markdown",
   "metadata": {},
   "source": [
    "## Table of Contents\n",
    "```{contents}\n",
    "```"
   ]
  },
  {
   "cell_type": "markdown",
   "metadata": {},
   "source": [
    "---"
   ]
  },
  {
   "cell_type": "markdown",
   "metadata": {},
   "source": [
    "## Resources"
   ]
  },
  {
   "cell_type": "markdown",
   "metadata": {},
   "source": [
    "* [ [h](https://www.linode.com) ][ w ] Akamai (Linode)\n",
    "* [ h ][ w ] Amazon Web Services (AWS)\n",
    "  * https://aws.amazon.com/training/digital/aws-builder-labs/\n",
    "* [ [h](https://www.cloudlab.us/) ][ w ] CloudLab\n",
    "* [ [h](https://www.digitalocean.com) ][ w ] DigitalOcean\n",
    "* [ [h](https://planetlab.cs.princeton.edu/) ][ [w](https://en.wikipedia.org/wiki/PlanetLab) ] PlanetLab\n",
    "\n",
    "Courses\n",
    "* [ [h](http://www.cs.cornell.edu/courses/cs5412/2021sp/) ] Birman, Ken. (2021). CS5412: Topics in Cloud Computing: Using the Cloud to Create Smart IoT Systems.\n",
    "* [ [h](http://www.cs.cornell.edu/courses/cs5412/2014sp/) ] Birman, Ken. (2014). CS5412: Cloud Computing."
   ]
  },
  {
   "cell_type": "markdown",
   "metadata": {},
   "source": [
    "### YouTube"
   ]
  },
  {
   "cell_type": "markdown",
   "metadata": {},
   "source": [
    "My Lesson\n",
    "* [ [y](https://www.youtube.com/watch?v=LyBLCAIUNtE) ] `02-21-2021`. \"Cloud Networking Full Course\"."
   ]
  },
  {
   "cell_type": "markdown",
   "metadata": {},
   "source": [
    "---"
   ]
  },
  {
   "cell_type": "markdown",
   "metadata": {},
   "source": [
    "## Texts"
   ]
  },
  {
   "cell_type": "markdown",
   "metadata": {},
   "source": [
    "* Armitage, Josh. (2022). _Cloud Native Security Cookbook: Recipes for a Secure Cloud_. O'Reilly.\n",
    "* Degioanni, Loris & Leonardo Grasso. (2022). _Practical Cloud Native Security with Falco: Risk and Threat Detection for Containers, Kubernetes, and Cloud_. O'Reilly.\n",
    "* Dotson, Chris. (2019). _Practical Cloud Security: A Guide for Secure Design and Deployment_. O'Reilly.\n",
    "* [ [h](https://ops.systemsapproach.org/) ][ [g](https://github.com/SystemsApproach/ops) ] Peterson, Larry L. et al. (2022). _Edge Cloud Operations: A Systems Approach_. Systems Approach.\n",
    "* Ruecker, Bernd. (2021). _Practical Process Automation: Orchestration and Integration in Microservices and Cloud Native Architectures_. O'Reilly.\n",
    "* Zikopoulos, Paul et al. (2021). _Cloud Without Compromise: Hybrid Cloud for the Enterprise_. O'Reilly."
   ]
  },
  {
   "cell_type": "markdown",
   "metadata": {},
   "source": [
    "* Alipourfard, Omid et al. (2017). \"CherryPick: Adaptively Unearthing the Best Cloud Configurations for Big Data Analytics\".\n",
    "* Baarzi, Ataollah Fatahi, Timothy Zhu, & Bhuvan Urgaonkar. (2019). \"BurScale: Using Burstable Instances for Cost-Effective Autoscaling in the Public Cloud\".\n",
    "* Barham, Paul et al. (2003). \"Xen and the Art of Virtualization\".\n",
    "* Berger et al. (2018). \"RobinHood: Tail Latency Aware Caching--Dynamic Reallocation from Cache-Rich to Cache-Poor\".\n",
    "* Berger, Daniel S., Ramesh K. Sitaraman, & Mor Harchol-Balter. (2017). \"AdaptSize: Orchestrating the Hot Object Memory Cache in a Content Delivery Network\".\n",
    "* Cano, Ignacio, Srinivas Aiyar, & Arvind Krishnamurthy. (2016). \"Characterizing Private Clouds: A Large-Scale Empirical Analysis of Enterprise Clusters\".\n",
    "* Dalton, Michael et al. (2018). \"Andromeda: Performance, Isolation, and Velocity at Scale in Cloud Network Virtualization\".\n",
    "* DeCandia, Giuseppe et al. (2007). \"Dynamo: Amazon's highly Available Key-Value Store\".\n",
    "* Delgado, Pamela. (2016). \"Job-aware Scheduling in Eagle: Divide and Stick to Your Probes\".\n",
    "* Gandhi, Anshul et al. (2012). \"AutoScale: Dynamic, Robust Capacity Management for Multi-Tier Data Centers\".\n",
    "* Gog, Ionel et al. (2016). \"Firmament: Fast, Centralized Cluster Scheduling at Scale\".\n",
    "* Hafeez, Ubaid Ullah, Muhammad Wajahat, & Anshul Gandhi. (2018). \"ElMem: Towards an Elastic Memcached System\".\n",
    "* Hunt, Tyler et al. (2016). \"Ryoan: A Distributed Sandbox for Untrusted Computation on Secret Data\".\n",
    "* Kakivaya, Gopal et al. (2018). \"Service Fabric: A Distributed Platform for Building Microservices in the Cloud\".\n",
    "* Ousterhout, Kay et al. (2013). \"Sparrow: Distributed, Low Latency Scheduling\".\n",
    "* Sharma, Prateek et al. (2016). \"Containers and Virtual Machines at Scale: A Comparative Study\".\n",
    "* Shen, Zhiming et al. (2017). \"Supercloud: A Library Cloud for Exploiting Cloud Diversity\".\n",
    "* Sigelman, Benjamin H. et al. (2010). \"Dapper, a Large-Scale Distributed Systems Tracing Infrastructure\".\n",
    "* Tan, Cheng et al. (2017). \"The Efficient Server Audit Problem, Deduplicated Re-execution, and the Web\".\n",
    "* Tumanov, Alexey et al. (2016). \"TetriSched: global rescheduling with adaptive plan-ahead in dynamic heterogeneous clusters\".\n",
    "* Veeraraghavan, Kaushik et al. (2018). \"Maelstrom: Mitigating Datacenter-level Disasters by Draining Interdependent Traffic Safely and Efficiently\".\n",
    "* Wang, Cheng et al. (2017). \"Using Burstable Instances in the Public Cloud: Why, When, and How?\".\n",
    "* Wang, Liang et al. (2018). \"Peeking Behind the Curtains of Serverless Platforms\".\n",
    "* Weil, Sage A. et al. (2006). \"Ceph: A Scalable, High-Performance Distributed File System\".\n",
    "* Yadwadkar, Neeraja J. et al. (2017). \"Selecting the Best VM across Multiple Public Clouds: A Data-Driven Performance Modeling Approach\".\n",
    "* Yan, Ying et al. (2016). \"TR-Spark: Transient Computing for Big Data Analytics\".\n",
    "* Zhang, Qi et al. (2018). \"A Comparative Study of Containers and Virtual Machines in Big Data Environment\".\n",
    "* Zhu, Timothy, Michael A. Kozuch, & Mor Harchol-Balter. (2017). \"WorkloadCompactor: Reducing datacenter cost while providing tail latency SLO guarantees\"."
   ]
  },
  {
   "cell_type": "markdown",
   "metadata": {},
   "source": [
    "---"
   ]
  },
  {
   "cell_type": "markdown",
   "metadata": {},
   "source": [
    "## Terms"
   ]
  },
  {
   "cell_type": "markdown",
   "metadata": {},
   "source": [
    "* [ [w](https://en.wikipedia.org/wiki/As_a_service) ] Anything as a Service (XaaS)\n",
    "* [ [w](https://en.wikipedia.org/wiki/Data_as_a_service) ] Data as a Service (DaaS)\n",
    "* [ [w](https://en.wikipedia.org/wiki/Desktop_virtualization#Desktop_as_a_service) ] Desktop as a Service (DaaS)\n",
    "* [ [w](https://en.wikipedia.org/wiki/Function_as_a_service) ] Function as a Service (FaaS)\n",
    "* [ [w](https://en.wikipedia.org/wiki/Infrastructure_as_a_service) ] Infrastructure as a Service (IaaS)\n",
    "* [ [w](https://en.wikipedia.org/wiki/Mobile_backend_as_a_service) ] Mobile Backend as a Service (MBaaS)\n",
    "* [ [w](https://en.wikipedia.org/wiki/Network_as_a_service) ] Network as a Service (NaaS)\n",
    "* [ [w](https://en.wikipedia.org/wiki/Platform_as_a_service) ] Platform as a Service (PaaS)\n",
    "* [ [w](https://en.wikipedia.org/wiki/Software_as_a_service) ] Software as a Service (SaaS)"
   ]
  },
  {
   "cell_type": "markdown",
   "metadata": {},
   "source": [
    "---"
   ]
  }
 ],
 "metadata": {
  "language_info": {
   "name": "python"
  }
 },
 "nbformat": 4,
 "nbformat_minor": 2
}
