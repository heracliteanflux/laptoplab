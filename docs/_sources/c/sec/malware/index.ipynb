{
 "cells": [
  {
   "cell_type": "markdown",
   "metadata": {},
   "source": [
    "# Binary Analysis & Malware"
   ]
  },
  {
   "cell_type": "markdown",
   "metadata": {},
   "source": [
    "---"
   ]
  },
  {
   "cell_type": "markdown",
   "metadata": {},
   "source": [
    "## Table of Contents\n",
    "```{contents}\n",
    "```"
   ]
  },
  {
   "cell_type": "markdown",
   "metadata": {},
   "source": [
    "---"
   ]
  },
  {
   "cell_type": "markdown",
   "metadata": {},
   "source": [
    "## Resources"
   ]
  },
  {
   "cell_type": "markdown",
   "metadata": {},
   "source": [
    "* [ h ][ g ][ [w](https://en.wikipedia.org/wiki/GNU_Debugger) ] GNU Debugger (GDB)\n",
    "* [ h ][ [g](https://github.com/gdbinit/Gdbinit) ][ w ] gdbinit\n",
    "* [ [h](https://hugsy.github.io/gef/) ][ [g](https://github.com/hugsy/gef) ][ w ] gef\n",
    "* [ [h](https://ghidra-sre.org/) ][ [g](https://github.com/NationalSecurityAgency/ghidra) ][ [w](https://en.wikipedia.org/wiki/Ghidra) ] Ghidra\n",
    "* [ [h](https://hex-rays.com/ida-pro/) ][ g ][ [w](https://en.wikipedia.org/wiki/Interactive_Disassembler) ] Interactive Disassembler (IDA) Pro\n",
    "* [ h ][ [g](https://github.com/lifting-bits/mcsema) ][ w ] McSema\n",
    "* [ [h](https://www.ollydbg.de/) ][ g ][ [w](https://en.wikipedia.org/wiki/OllyDbg) ] OllyDbg\n",
    "* [ h ][ [g](https://github.com/longld/peda) ][ w ] Python Exploit Development Assistance (PEDA) for GDB\n",
    "* [ h ][ [g](https://github.com/pwndbg/pwndbg) ][ w ] pwndbg\n",
    "* [ [h](https://www.radare.org/r/) ][ g ][ [w](https://en.wikipedia.org/wiki/Radare2) ] Radare2\n",
    "* [ [h](https://www.virustotal.com/gui/home/upload) ][ [d](https://docs.virustotal.com/v2.0/reference/getting-started) ][ w ] VirusTotal"
   ]
  },
  {
   "cell_type": "markdown",
   "metadata": {},
   "source": [
    "### YouTube"
   ]
  },
  {
   "cell_type": "markdown",
   "metadata": {},
   "source": [
    "more\n",
    "* [ [y](https://www.youtube.com/watch?v=is9wVOKeIjQ) ] `02-25-2022`. Low Byte Productions. \"[stream] USB: Reverse Engineering and Writing Drivers\".\n",
    "* [ [y](https://www.youtube.com/watch?v=jVTxKZKhvlo) ] `12-31-2023`. screeck. \"Executing shellcode in memory | Malware Development\"."
   ]
  },
  {
   "cell_type": "markdown",
   "metadata": {},
   "source": [
    "---"
   ]
  },
  {
   "cell_type": "markdown",
   "metadata": {},
   "source": [
    "## Texts"
   ]
  },
  {
   "cell_type": "markdown",
   "metadata": {},
   "source": [
    "* Andriesse, Dennis. (2018). _Practical Binary Analysis: Build Your Own Linux Tools for Binary Instrumentation, Analysis, and Disassembly_. No Starch Press.\n",
    "* Eagle, Chris. _The IDA Pro Book_. No Starch Press.\n",
    "* Sanders, Hillary & Joshua Saxe. (2018). _Malware Data Science: Attack Detection and Attibution_. No Starch Press.\n",
    "* Sikorski, Michael & Andrew Honig. _Practical Malware Analysis: The Hands-On Guide to Dissecting Malicious Software_. [No Starch Press](https://nostarch.com/malware)."
   ]
  },
  {
   "cell_type": "markdown",
   "metadata": {},
   "source": [
    "---"
   ]
  },
  {
   "cell_type": "markdown",
   "metadata": {},
   "source": [
    "## Terms"
   ]
  },
  {
   "cell_type": "markdown",
   "metadata": {},
   "source": [
    "* [ [w](https://en.wikipedia.org/wiki/Adware) ] Adware\n",
    "* [ [w](https://en.wikipedia.org/wiki/Antivirus_software) ] Anti Virus\n",
    "* [ [w](https://en.wikipedia.org/wiki/Binary_file) ] Binary File\n",
    "* [ [w](https://en.wikipedia.org/wiki/Botnet) ] Botnet\n",
    "* [ [w](https://en.wikipedia.org/wiki/Cryptovirology) ] Cryptovirology\n",
    "* [ [w](https://en.wikipedia.org/wiki/Decompiler) ] Decompiler\n",
    "* [ [w](https://en.wikipedia.org/wiki/Denial-of-service_attack) ] Denial of Service (DoS)\n",
    "* [ [w](https://en.wikipedia.org/wiki/Disassembler) ] Disassembler\n",
    "* [ [w](https://en.wikipedia.org/wiki/Debug_symbol) ] Debug Symbol\n",
    "* [ [w](https://en.wikipedia.org/wiki/Debugger) ] Debugger\n",
    "* [ [w](https://en.wikipedia.org/wiki/Hex_editor) ] Hex Editor\n",
    "* [ [w](https://en.wikipedia.org/wiki/Keystroke_logging) ] Keystroke Logging\n",
    "* [ [w](https://en.wikipedia.org/wiki/Kleptography) ] Kleptography\n",
    "* [ [w](https://en.wikipedia.org/wiki/Malware) ] Malware\n",
    "* [ [w](https://en.wikipedia.org/wiki/Malware_analysis) ] Malware Analysis\n",
    "* [ [w](https://en.wikipedia.org/wiki/Malware_research) ] Malware Research\n",
    "* [ [w](https://en.wikipedia.org/wiki/Objdump) ] `objdump`\n",
    "* [ [w](https://en.wikipedia.org/wiki/Ransomware) ] Ransomware\n",
    "* [ [w](https://en.wikipedia.org/wiki/Reverse_engineering) ] Reverse Engineering\n",
    "* [ [w](https://en.wikipedia.org/wiki/Rogue_security_software) ] Rogue Security Software\n",
    "* [ [w](https://en.wikipedia.org/wiki/Rootkit) ] Rootkit\n",
    "* [ [w](https://en.wikipedia.org/wiki/Scareware) ] Scareware\n",
    "* [ [w](https://en.wikipedia.org/wiki/Spyware) ] Spyware\n",
    "* [ [w](https://en.wikipedia.org/wiki/Trojan_horse_(computing)) ] Trojan\n",
    "* [ [w](https://en.wikipedia.org/wiki/Computer_virus) ] Virus\n",
    "* [ [w](https://en.wikipedia.org/wiki/Wiper_(malware)) ] Wiper\n",
    "* [ [w](https://en.wikipedia.org/wiki/Computer_worm) ] Worm\n",
    "* [ [w](https://en.wikipedia.org/wiki/Zombie_(computing)) ] Zombie"
   ]
  },
  {
   "cell_type": "markdown",
   "metadata": {},
   "source": [
    "---"
   ]
  }
 ],
 "metadata": {
  "language_info": {
   "name": "python"
  }
 },
 "nbformat": 4,
 "nbformat_minor": 2
}
