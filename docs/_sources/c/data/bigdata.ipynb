{
 "cells": [
  {
   "cell_type": "markdown",
   "metadata": {},
   "source": [
    "# Big Data"
   ]
  },
  {
   "cell_type": "markdown",
   "metadata": {},
   "source": [
    "---"
   ]
  },
  {
   "cell_type": "markdown",
   "metadata": {},
   "source": [
    "## Table of Contents\n",
    "```{contents}\n",
    "```"
   ]
  },
  {
   "cell_type": "markdown",
   "metadata": {},
   "source": [
    "---"
   ]
  },
  {
   "cell_type": "markdown",
   "metadata": {},
   "source": [
    "## Resources"
   ]
  },
  {
   "cell_type": "markdown",
   "metadata": {},
   "source": [
    "[ [h](https://hadoop.apache.org) ][ w ] Hadoop\n",
    "  * [Setting up a Single-Node Cluster](https://hadoop.apache.org/docs/stable/hadoop-project-dist/hadoop-common/SingleCluster.html)\n",
    "  * [Cluster Setup](https://hadoop.apache.org/docs/stable/hadoop-project-dist/hadoop-common/ClusterSetup.html)\n",
    "  * [Web Application Proxy](https://hadoop.apache.org/docs/stable/hadoop-yarn/hadoop-yarn-site/WebApplicationProxy.html)\n",
    "\n",
    "[ [h](https://spark.apache.org) ][ [w](https://en.wikipedia.org/wiki/Apache_Spark) ] Apache Spark\n",
    "* [Downloads](https://spark.apache.org/downloads.html)\n",
    "* [ [y](https://www.youtube.com/watch?v=tDVPcqGpEnM) ] `12-12-2018`. Computerphile. \"Apache Spark - Computerphile\".\n",
    "* [ [y](https://www.youtube.com/watch?v=_C8kWso4ne4) ] `07-14-2021`. freeCodeCamp. \"PySpark Tutorial\".\n",
    "* [ [y](https://www.youtube.com/watch?v=dJOvUK2D6_w) ] `03-02-2023`. Simplilearn. \"🔥Spark Full Course 2023 | Spark Tutorial For Beginners | Learn Apache Spark | Simplilearn\".\n",
    "* [ [y](https://www.youtube.com/watch?v=S2MUhGA3lEw) ] `05-18-2021`. Simplilearn. \"Spark Full Course | Spark Tutorial For Beginners | Learn Apache Spark | Simplilearn\".\n",
    "* [ [y](https://www.youtube.com/watch?v=znBa13Earms) ] `08-01-2019`. Simplilearn. \"What Is Apache Spark? | Apache Spark Tutorial | Apache Spark For Beginners | Simplilearn\"."
   ]
  },
  {
   "cell_type": "markdown",
   "metadata": {},
   "source": [
    "more\n",
    "* [ [y](https://www.youtube.com/watch?v=uLlTP_O0SRo) ] `01-05-2024`. Business Analytics for Beginners. \"Batch Processing VS Stream Processing in Big Data Analytics\"."
   ]
  },
  {
   "cell_type": "markdown",
   "metadata": {},
   "source": [
    "---"
   ]
  },
  {
   "cell_type": "markdown",
   "metadata": {},
   "source": [
    "## Texts"
   ]
  },
  {
   "cell_type": "markdown",
   "metadata": {},
   "source": [
    "[ [h](http://www.mmds.org/) ][ [course](https://web.stanford.edu/class/cs246/) ] Leskovec, Jure; Anand Rajaraman; & Jeff Ullman. _Mining of Massive Datasets_."
   ]
  },
  {
   "cell_type": "markdown",
   "metadata": {},
   "source": [
    "Hadoop\n",
    "* Kunigk, Jan et al. (2018). _Architecting Modern Data Platforms: A Guide to Enterprise Hadoop at Scale_. O'Reilly.\n",
    "* Sammer, Eric. (2012). _Hadoop Operations: A Guide for Developers and Administrators_. O'Reilly. [Home](http://www.hadoopbook.com). [GitHub](https://github.com/tomwhite/hadoop-book/).\n",
    "* White, Tom. (2015). _Hadoop: The Definitive Guide: Storage and Analysis at Internet Scale_. 4th Ed. O'Reilly."
   ]
  },
  {
   "cell_type": "markdown",
   "metadata": {},
   "source": [
    "Spark\n",
    "* Chambers, Bill & Matei Zaharia. (2018). _Spark The Definitive Guide: Big Data Processing Made Simple_. O'Reilly. [GitHub](https://github.com/databricks/Spark-The-Definitive-Guide).\n",
    "* Damji et al. (2020). _Learning Spark: Lightning-Fast Data Analytics_. 2nd Ed. O'Reilly. [GitHub](https://github.com/databricks/LearningSparkV2).\n",
    "* Karau, Holden & Rachel Warren. (2017). _High Performance Spark: Best Practices for Scaling & Optimizing Apache Spark_. O'Reilly. [GitHub](https://github.com/high-performance-spark/high-performance-spark-examples).\n",
    "* Maas, Gerard & Francois Garillot. (2019). _Stream Processing with Apache Spark: Best Practices for Scaling and Optimizing Apache Spark_. O'Reilly. [GitHub](https://github.com/stream-processing-with-spark).\n",
    "* Parsian, Mahmoud. (2022). _Data Algorithms with Spark: Recipes and Design Patterns for Scaling Up Using PySpark_. O'Reilly. [GitHub](https://github.com/mahmoudparsian/data-algorithms-with-spark).\n",
    "* Perrin, Jean-Georges. (2020). _Spark in Action: With examples in Java, Python, and Scala_. 2nd Ed. Manning.\n",
    "* Polak, Adi. (2023). _Machine Learning with Spark: Designing Distributed ML Platforms with PyTorch, TensorFlow, and MLLib_. O'Reilly.\n",
    "* Ryza et al. (2017). _Advanced Analytics with Spark: Patterns for Learning from Data at Scale_. 2nd Ed. O'Reilly. [GitHub](https://github.com/sryza/aas).\n",
    "* Tandon et al. (2022). _Advanced Analytics with PySpark: Patterns for Learning from Data at Scale Using Python and Spark_. O'Reilly."
   ]
  },
  {
   "cell_type": "markdown",
   "metadata": {},
   "source": [
    "---"
   ]
  },
  {
   "cell_type": "markdown",
   "metadata": {},
   "source": [
    "## Notes"
   ]
  },
  {
   "cell_type": "markdown",
   "metadata": {},
   "source": [
    "### Hadoop"
   ]
  },
  {
   "cell_type": "markdown",
   "metadata": {},
   "source": [
    "Configuration\n",
    "* `echo \"HADOOP_HOME=\\\"/opt/homebrew/Cellar/hadoop/3.3.3/libexec\\\"\" >> ~/.zshrc`\n",
    "* `$HADOOP_HOME/etc/hadoop/hadoop-env.sh`\n",
    "* `$HADOOP_HOME/etc/hadoop/core-site.xml`\n",
    "* `$HADOOP_HOME/etc/hadoop/hdfs-site.xml`\n",
    "* `$HADOOP_HOME/etc/hadoop/mapred-site.xml`\n",
    "* `$HADOOP_HOME/etc/hadoop/yarn-site.xml`\n",
    "\n",
    "Defaults\n",
    "* `$HADOOP_HOME/share/doc/hadoop/hadoop-project-dist/hadoop-common/core-default.xml`\n",
    "* `$HADOOP_HOME/share/doc/hadoop/hadoop-project-dist/hadoop-hdfs/hdfs-default.xml`\n",
    "* `$HADOOP_HOME/share/doc/hadoop/hadoop-mapreduce-client/hadoop-mapreduce-client-core/mapred-default.xml`\n",
    "* `$HADOOP_HOME/share/doc/hadoop/hadoop-yarn/hadoop-yarn-common/yarn-default.xml`\n",
    "\n",
    "Startup\n",
    "* `hdfs --daemon start namenode`\n",
    "* `hdfs --daemon start secondarynamenode`\n",
    "* `hdfs --daemon start datanode`\n",
    "* `yarn --daemon start resourcemanager`\n",
    "* `yarn --daemon start nodemanager`\n",
    "* `yarn --daemon start proxyserver`\n",
    "* `mapred --daemon start historyserver`\n",
    "* `jps` Lists the instrumented Java Virtual Machines (JVMs) on the target system. This command is experimental and unsupported.\n",
    "\n",
    "Monitoring\n",
    "* `hdfs dfsadmin -report`\n",
    "* `hdfs fsck /`"
   ]
  },
  {
   "cell_type": "markdown",
   "metadata": {},
   "source": [
    "### Spark"
   ]
  },
  {
   "cell_type": "markdown",
   "metadata": {},
   "source": [
    "Startup\n",
    "* `spark-shell --master spark://10.0.4.146:7077 --driver-memory 8g --executor-memory 6g`"
   ]
  },
  {
   "cell_type": "markdown",
   "metadata": {},
   "source": [
    "---"
   ]
  }
 ],
 "metadata": {
  "language_info": {
   "name": "python"
  }
 },
 "nbformat": 4,
 "nbformat_minor": 2
}
