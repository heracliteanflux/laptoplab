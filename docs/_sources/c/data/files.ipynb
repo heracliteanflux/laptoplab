{
 "cells": [
  {
   "cell_type": "markdown",
   "metadata": {},
   "source": [
    "# Files"
   ]
  },
  {
   "cell_type": "markdown",
   "metadata": {},
   "source": [
    "---"
   ]
  },
  {
   "cell_type": "markdown",
   "metadata": {},
   "source": [
    "## Table of Contents\n",
    "```{contents}\n",
    "```"
   ]
  },
  {
   "cell_type": "markdown",
   "metadata": {},
   "source": [
    "---"
   ]
  },
  {
   "cell_type": "markdown",
   "metadata": {},
   "source": [
    "## Programming Environment"
   ]
  },
  {
   "cell_type": "code",
   "execution_count": 17,
   "metadata": {},
   "outputs": [
    {
     "name": "stdout",
     "output_type": "stream",
     "text": [
      "2023-11-19 14:36:46.417510\n",
      "\n",
      "Platform            : 14.1.1 | Darwin | 23.1.0 | arm64\n",
      "                    : UTF-8\n",
      "\n",
      "Python              : 3.11.5 | packaged by conda-forge | (main, Aug 27 2023, 03:33:12) [Clang 15.0.7 ]\n",
      "                    : sys.version_info(major=3, minor=11, micro=5, releaselevel='final', serial=0)\n",
      "                    : CPython\n"
     ]
    }
   ],
   "source": [
    "from   html.entities import codepoint2name\n",
    "import string\n",
    "from   typing import List, Union\n",
    "import unicodedata\n",
    "\n",
    "from   datetime import datetime\n",
    "import locale   as l\n",
    "import platform as p\n",
    "import sys\n",
    "print(datetime.now())\n",
    "print()\n",
    "print(f\"{'Platform':<20}: {p.mac_ver()[0]} | {p.system()} | {p.release()} | {p.machine()}\")\n",
    "print(f\"{'':<20}: {l.getpreferredencoding()}\")\n",
    "print()\n",
    "print(f\"{'Python':<20}: {sys.version}\")\n",
    "print(f\"{      '':<20}: {sys.version_info}\")\n",
    "print(f\"{      '':<20}: {p.python_implementation()}\")"
   ]
  },
  {
   "cell_type": "markdown",
   "metadata": {},
   "source": [
    "---"
   ]
  },
  {
   "cell_type": "markdown",
   "metadata": {},
   "source": [
    "## Auxiliary"
   ]
  },
  {
   "cell_type": "code",
   "execution_count": 18,
   "metadata": {
    "tags": [
     "hide-input",
     "hide-output"
    ]
   },
   "outputs": [
    {
     "name": "stdout",
     "output_type": "stream",
     "text": [
      "Case -1        : Try again with a nonnegative integer.\n",
      "Case 0         : '000000'\n",
      "Case 1         : '000001'\n",
      "Case 65535     : '00FFFF'\n",
      "Case 4294967295: 'FFFFFFFF'\n"
     ]
    }
   ],
   "source": [
    "def dec_to_hex (dec : int = 2**16 - 1) -> str:\n",
    "  \"\"\" Compose the hexadecimal representation\n",
    "      as a string\n",
    "      of a nonnegative integer.\n",
    "  \n",
    "  params: int (dec)\n",
    "  return: str\n",
    "  \"\"\"\n",
    "  assert 0 <= dec, 'Try again with a nonnegative integer.'\n",
    "  return format(dec, '>06x').upper()\n",
    "\n",
    "test_cases = [\n",
    "  -1, 0, 1, 2**16 - 1, 2**32 - 1,\n",
    "]\n",
    "for test_case in test_cases:\n",
    "  try:\n",
    "    print(f\"Case {test_case:<10}: {repr(dec_to_hex(test_case))}\")\n",
    "  except AssertionError as e:\n",
    "    print(f\"Case {test_case:<10}: {e}\")"
   ]
  },
  {
   "cell_type": "code",
   "execution_count": 19,
   "metadata": {
    "tags": [
     "hide-input",
     "hide-output"
    ]
   },
   "outputs": [
    {
     "name": "stdout",
     "output_type": "stream",
     "text": [
      "Case 000000    : '\\\\U00000000'\n",
      "Case 000001    : '\\\\U00000001'\n",
      "Case 000002    : '\\\\U00000002'\n",
      "Case 000003    : '\\\\U00000003'\n",
      "Case 000004    : '\\\\U00000004'\n"
     ]
    }
   ],
   "source": [
    "def to_codepoint (hexa : str = '10FFFF') -> str:\n",
    "  \"\"\" Compose a Unicode code point\n",
    "      as a string.\n",
    "\n",
    "  params: str (hexa)\n",
    "  return: str\n",
    "  \"\"\"\n",
    "  assert int(hexa, base=16) <= 0x10FFFF, 'Try again with a valid code point.'\n",
    "  return fr'\\U00{hexa}'\n",
    "\n",
    "test_cases = [\n",
    "  dec_to_hex(i) for i in range(5)\n",
    "]\n",
    "for test_case in test_cases:\n",
    "  try:\n",
    "    print(f\"Case {test_case:<10}: {repr(to_codepoint(test_case))}\")\n",
    "  except AssertionError as e:\n",
    "    print(f\"Case {test_case:<10}: {e}\")"
   ]
  },
  {
   "cell_type": "code",
   "execution_count": 20,
   "metadata": {
    "tags": [
     "hide-input",
     "hide-output"
    ]
   },
   "outputs": [
    {
     "name": "stdout",
     "output_type": "stream",
     "text": [
      "'ÿ'\n"
     ]
    }
   ],
   "source": [
    "# Nonnegative integer no greater than 0x10FFFF (1_114_111)\n",
    "dec_to_glyph = chr\n",
    "\n",
    "print(repr(dec_to_glyph(0xFF)))"
   ]
  },
  {
   "cell_type": "code",
   "execution_count": 21,
   "metadata": {
    "tags": [
     "hide-input",
     "hide-output"
    ]
   },
   "outputs": [
    {
     "name": "stdout",
     "output_type": "stream",
     "text": [
      "ÿ\n"
     ]
    }
   ],
   "source": [
    "def to_glyph (code_point : str = '\\\\u00FF') -> str:\n",
    "  \"\"\" Convert a raw Unicode code point to its non raw (graphical) form.\n",
    "  \n",
    "  params: str (code_point)\n",
    "  return: str\n",
    "  \"\"\"\n",
    "  return code_point.encode('utf-8').decode('unicode-escape')\n",
    "\n",
    "print(to_glyph())"
   ]
  },
  {
   "cell_type": "code",
   "execution_count": 22,
   "metadata": {
    "tags": [
     "hide-input",
     "hide-output"
    ]
   },
   "outputs": [
    {
     "name": "stdout",
     "output_type": "stream",
     "text": [
      "hello world\n",
      "11\n",
      "\n",
      "Glyph      Code Point Hex        Bytes                Category   Named Entity         Name      \n",
      "h          \\U00000068 000068     b'h'                 Ll         NO NAMED ENTITY      LATIN SMALL LETTER H\n",
      "e          \\U00000065 000065     b'e'                 Ll         NO NAMED ENTITY      LATIN SMALL LETTER E\n",
      "l          \\U0000006C 00006C     b'l'                 Ll         NO NAMED ENTITY      LATIN SMALL LETTER L\n",
      "l          \\U0000006C 00006C     b'l'                 Ll         NO NAMED ENTITY      LATIN SMALL LETTER L\n",
      "o          \\U0000006F 00006F     b'o'                 Ll         NO NAMED ENTITY      LATIN SMALL LETTER O\n",
      "           \\U00000020 000020     b' '                 Zs         NO NAMED ENTITY      SPACE\n",
      "w          \\U00000077 000077     b'w'                 Ll         NO NAMED ENTITY      LATIN SMALL LETTER W\n",
      "o          \\U0000006F 00006F     b'o'                 Ll         NO NAMED ENTITY      LATIN SMALL LETTER O\n",
      "r          \\U00000072 000072     b'r'                 Ll         NO NAMED ENTITY      LATIN SMALL LETTER R\n",
      "l          \\U0000006C 00006C     b'l'                 Ll         NO NAMED ENTITY      LATIN SMALL LETTER L\n",
      "d          \\U00000064 000064     b'd'                 Ll         NO NAMED ENTITY      LATIN SMALL LETTER D\n"
     ]
    }
   ],
   "source": [
    "def print_code_point_information (points : str = 'hello world') -> None:\n",
    "  \"\"\" Prints information about Unicode code points.\n",
    "  \n",
    "      Prints the sequence of code points\n",
    "             the number of code points in the sequence\n",
    "             the following information for each Unicode code point in a sequence of code points:\n",
    "               * glyph\n",
    "               * raw code point\n",
    "               * hexadecimal repr\n",
    "               * byte repr\n",
    "               * Unicode category\n",
    "               * Named entity repr\n",
    "               * Unicode name\n",
    "\n",
    "  params: str (points)\n",
    "  return: None\n",
    "  \"\"\"\n",
    "  print(points)\n",
    "  print(len(points))\n",
    "  print()\n",
    "  print(f\"{'Glyph':<10} \"\n",
    "        f\"{'Code Point':<10} \"\n",
    "        f\"{'Hex':<10} \"\n",
    "        f\"{'Bytes':<20} \"\n",
    "        f\"{'Category':<10} \"\n",
    "        f\"{'Named Entity':<20} \"\n",
    "        f\"{'Name':<10}\")\n",
    "  try:\n",
    "    for point in points:\n",
    "      hex_rep    = dec_to_hex(ord(point))\n",
    "      code_point = to_codepoint(hex_rep)\n",
    "      glyph      = to_glyph(code_point)\n",
    "      unicode = (f\"{chr(ord(point)):<10} \"\n",
    "                f\"{code_point:<10} \"\n",
    "                f\"{format(ord(point), '06x').upper():<10} \"\n",
    "                f\"{str(point.encode('utf-8')):<20} \"\n",
    "                f\"{unicodedata.category(chr(ord(point))):<10} \")\n",
    "      try:\n",
    "        unicode += f\"{codepoint2name[ord(point)]:<20} \"\n",
    "      except KeyError as e:\n",
    "        unicode += f\"{'NO NAMED ENTITY':<20} \"\n",
    "      try:\n",
    "        unicode += f\"{unicodedata.name(point)}\"\n",
    "      except ValueError as e:\n",
    "        unicode += f\"NO UNICODE NAME\"\n",
    "      print(unicode)\n",
    "  except AssertionError as e:\n",
    "    print(f\"Case {point}: {e}\")\n",
    "\n",
    "print_code_point_information()"
   ]
  },
  {
   "cell_type": "markdown",
   "metadata": {},
   "source": [
    "---"
   ]
  },
  {
   "cell_type": "markdown",
   "metadata": {},
   "source": [
    "## Text Encoding"
   ]
  },
  {
   "cell_type": "markdown",
   "metadata": {},
   "source": [
    "A [_text encoding_](https://docs.python.org/3/glossary.html#term-text-encoding) is a text serialization [codec](https://docs.python.org/3/library/codecs.html#encodings-and-unicode) encoding text to bytes and decoding bytes to text.\n",
    "\n",
    "_Encoding_ is the serialization of a string into a sequence of bytes and _decoding_ is the deserialization of a sequence of bytes into a string."
   ]
  },
  {
   "cell_type": "markdown",
   "metadata": {},
   "source": [
    "### ASCII"
   ]
  },
  {
   "cell_type": "markdown",
   "metadata": {},
   "source": [
    "[ [w](https://en.wikipedia.org/wiki/Basic_Latin_(Unicode_block)) ] Basic Latin\n",
    "\n",
    "128 code points 0-127 are mapped to bytes 0x0-0x80 where the first bit is a placeholder\n",
    " and the remaining 7 bits encode the code point. \n",
    "\n",
    "Code Points | Encoding\n",
    "------------|---------\n",
    "`0...127`   | `0x00...0x80`\n",
    "\n",
    "33 control codes\n",
    "\n",
    "95 printable characters\n",
    "* 26 uppercase letters\n",
    "* 26 lowercase letters\n",
    "* 10 digits\n",
    "* 32 punctuation\n",
    "* 1 whitespace"
   ]
  },
  {
   "cell_type": "code",
   "execution_count": null,
   "metadata": {},
   "outputs": [
    {
     "data": {
      "text/plain": [
       "128"
      ]
     },
     "metadata": {},
     "output_type": "display_data"
    }
   ],
   "source": [
    "26 * 2 + 10 + 32 + 1 + 33"
   ]
  },
  {
   "cell_type": "markdown",
   "metadata": {},
   "source": [
    "---"
   ]
  },
  {
   "cell_type": "markdown",
   "metadata": {},
   "source": [
    "#### Control Codes"
   ]
  },
  {
   "cell_type": "markdown",
   "metadata": {},
   "source": [
    "Control Characters\n",
    "* [ [u](https://unicode.org/charts/PDF/U2400.pdf) ] Control Pictures\n",
    "* [ [w](https://en.wikipedia.org/wiki/Null_character) ] NUL\n",
    "* [ [w](https://en.wikipedia.org/wiki/End-of-Text_character) ] ETX\n",
    "* [ [w](https://en.wikipedia.org/wiki/End-of-Transmission_character) ] EOT\n",
    "* [ [w](https://en.wikipedia.org/wiki/Enquiry_character) ] ENQ\n",
    "* [ [w](https://en.wikipedia.org/wiki/Acknowledgement_(data_networks)) ] ACK\n",
    "* [ [w](https://en.wikipedia.org/wiki/Bell_character) ] BEL\n",
    "* [ [w](https://en.wikipedia.org/wiki/Backspace) ] BS\n",
    "* [ [w](https://en.wikipedia.org/wiki/Tab_key) ] HT\n",
    "* [ [w](https://en.wikipedia.org/wiki/Newline) ] LF\n",
    "* [ [w](https://en.wikipedia.org/wiki/Page_break#Form_feed) ] FF\n",
    "* [ [w](https://en.wikipedia.org/wiki/Carriage_return) ] CR\n",
    "* [ [w](https://en.wikipedia.org/wiki/Shift_Out_and_Shift_In_characters) ] SO\n",
    "* [ [w](https://en.wikipedia.org/wiki/Shift_Out_and_Shift_In_characters) ] SI\n",
    "* [ [w](https://en.wikipedia.org/wiki/Acknowledgement_(data_networks)) ] NAK\n",
    "* [ [w](https://en.wikipedia.org/wiki/Synchronous_Idle) ] SYN\n",
    "* [ [w](https://en.wikipedia.org/wiki/End-of-Transmission-Block_character) ] ETB\n",
    "* [ [w](https://en.wikipedia.org/wiki/Cancel_character) ] CAN\n",
    "* [ [w](https://en.wikipedia.org/wiki/Substitute_character) ] SUB\n",
    "* [ [w](https://en.wikipedia.org/wiki/Escape_character) ] ESC\n",
    "* [ [w](https://en.wikipedia.org/wiki/Delete_character) ] DEL"
   ]
  },
  {
   "cell_type": "markdown",
   "metadata": {},
   "source": [
    "ASCII | Abbreviation | Caret Notation | Signal | Escape | HTML Entity | Percent Code | Unicode | Unicode Name\n",
    "------|--------------|----------------|--------|--------|-------------|--------------|---------|-------------\n",
    "0     | NUL          | ^@ |        | \\0 | `&#0000;`, `&#x0000;` | %00 | U+0000 | NULL\n",
    "1     | SOH          | ^A |        |    | `&#0001;`, `&#x0001;` | | U+0001 | START OF HEADING\n",
    "2     | STX          | ^B |        |    | `&#0002;`, `&#x0002;` | | U+0002 | START OF TEXT\n",
    "3     | ETX          | ^C | Ctrl-C |    | `&#0003;`, `&#x0003;` | | U+0003 | END OF TEXT\n",
    "4     | EOT          | ^D | Ctrl-D |    | `&#0004;`, `&#x0004;` | | U+0004 | END OF TRANSMISSION\n",
    "5     | ENQ          | ^E |        |    | `&#0005;`, `&#x0005;` | | U+0005 | ENQUIRY\n",
    "6     | ACK          | ^F |        |    | `&#0006;`, `&#x0006;` | | U+0006 | ACKNOWLEDGE\n",
    "7     | BEL          | ^G |        | \\a | `&#0007;`, `&#x0007;` | | U+0007 | BELL\n",
    "8     | BS           | ^H |        | \\b | `&#0008;`, `&#x0008;` | | U+0008 | BACKSPACE\n",
    "9     | HT           | ^I |        | \\t | `&#0009;`, `&#x0009;` | | U+0009 | CHARACTER TABULATION (horizontal tabulation, tab)\n",
    "10    | LF           | ^J |        | \\n | `&#0010;`, `&#x000A;` | | U+000A | LINE FEED (new line NL, end of line EOL)\n",
    "11    | VT           | ^K |        | \\v | `&#0011;`, `&#x000B;` | | U+000B | LINE TABULATION (vertical tabulation)\n",
    "12    | FF           | ^L | Ctrl-L | \\f | `&#0012;`, `&#x000C;` | | U+000C | FORM FEED\n",
    "13    | CR           | ^M |        | \\r | `&#0013;`, `&#x000D;` | | U+000D | CARRIAGE RETURN\n",
    "14    | SO           | ^N |        |    | `&#0014;`, `&#x000E;` | | U+000E | SHIFT OUT (locking-shift one)\n",
    "15    | SI           | ^O |        |    | `&#0015;`, `&#x000F;` | | U+000F | SHIFT IN (locking-shift zero)\n",
    "16    | DLE          | ^P |        |    | `&#0016;`, `&#x0010;` | | U+0010 | DATA LINK ESCAPE\n",
    "17    | DC1          | ^Q |        |    | `&#0017;`, `&#x0011;` | | U+0011 | DEVICE CONTROL ONE\n",
    "18    | DC2          | ^R |        |    | `&#0018;`, `&#x0012;` | | U+0012 | DEVICE CONTROL TWO\n",
    "19    | DC3          | ^S |        |    | `&#0019;`, `&#x0013;` | | U+0013 | DEVICE CONTROL THREE\n",
    "20    | DC4          | ^T |        |    | `&#0020;`, `&#x0014;` | | U+0014 | DEVICE CONTROL FOUR\n",
    "21    | NAK          | ^U |        |    | `&#0021;`, `&#x0015;` | | U+0015 | NEGATIVE ACKNOWLEDGE\n",
    "22    | SYN          | ^V |        |    | `&#0022;`, `&#x0016;` | | U+0016 | SYNCHRONOUS IDLE\n",
    "23    | ETB          | ^W |        |    | `&#0023;`, `&#x0017;` | | U+0017 | END OF TRANSMISSION BLOCK\n",
    "24    | CAN          | ^X |        |    | `&#0024;`, `&#x0018;` | | U+0018 | CANCEL\n",
    "25    | EM           | ^Y |        |    | `&#0025;`, `&#x0019;` | | U+0019 | END OF MEDIUM\n",
    "26    | SUB          | ^Z | Ctrl-Z |    | `&#0026;`, `&#x001A;` | | U+001A | SUBSTITUTE\n",
    "27    | ESC          | ^[ |        | \\e | `&#0027;`, `&#x001B;` | | U+001B | ESCAPE\n",
    "28    | FS           | ^\\ |        |    | `&#0028;`, `&#x001C;` | | U+001C | INFORMATION SEPARATOR FOUR (file separator)\n",
    "29    | GS           | ^] |        |    | `&#0029;`, `&#x001D;` | | U+001D | INFORMATION SEPARATOR THREE (group separator)\n",
    "30    | RS           | ^^ |        |    | `&#0030;`, `&#x001E;` | | U+001E | INFORMATION SEPARATOR TWO (record separator)\n",
    "31    | US           | ^_ |        |    | `&#0031;`, `&#x001F;` | | U+001F | INFORMATION SEPARATOR ONE (unit separator)\n",
    "127   | DEL          | ^? |        |    | `&#0127;`, `&#x007F;` | | U+007F | DELETE"
   ]
  },
  {
   "cell_type": "markdown",
   "metadata": {},
   "source": [
    "ASCII | Control Picture  | HTML Entity            | Unicode | Unicode Name\n",
    "------|------------------|------------------------|---------|-------------\n",
    "0     | &#x2400;         | `&#9216;`, `&#x2400;`  | U+2400  | SYMBOL FOR NULL\n",
    "1     | &#x2401;         | `&#9217;`, `&#x2401;`  | U+2401  | SYMBOL FOR START OF HEADING\n",
    "2     | &#x2402;         | `&#9218;`, `&#x2402;`  | U+2402  | SYMBOL FOR START OF TEXT\n",
    "3     | &#x2403;         | `&#9219;`, `&#x2403;`  | U+2403  | SYMBOL FOR END OF TEXT\n",
    "4     | &#x2404;         | `&#9220;`, `&#x2404;`  | U+2404  | SYMBOL FOR END OF TRANSMISSION\n",
    "5     | &#x2405;         | `&#9221;`, `&#x2405;`  | U+2405  | SYMBOL FOR ENQUIRY\n",
    "6     | &#x2406;         | `&#9222;`, `&#x2406;`  | U+2406  | SYMBOL FOR ACKNOWLEDGE\n",
    "7     | &#x2407;         | `&#9223;`, `&#x2407;`  | U+2407  | SYMBOL FOR BELL\n",
    "8     | &#x2408;         | `&#9224;`, `&#x2408;`  | U+2408  | SYMBOL FOR BACKSPACE\n",
    "9     | &#x2409;         | `&#9225;`, `&#x2409;`  | U+2409  | SYMBOL FOR HORIZONTAL TABULATION\n",
    "10    | &#x240A;         | `&#9226;`, `&#x240A;`  | U+240A  | SYMBOL FOR LINE FEED\n",
    "11    | &#x240B;         | `&#9227;`, `&#x240B;`  | U+240B  | SYMBOL FOR VERTICAL TABULATION\n",
    "12    | &#x240C;         | `&#9228;`, `&#x240C;`  | U+240C  | SYMBOL FOR FORM FEED\n",
    "13    | &#x240D;         | `&#9229;`, `&#x240D;`  | U+240D  | SYMBOL FOR CARRIAGE RETURN\n",
    "14    | &#x240E;         | `&#9230;`, `&#x240E;`  | U+240E  | SYMBOL FOR SHIFT OUT\n",
    "15    | &#x240F;         | `&#9231;`, `&#x240F;`  | U+240F  | SYMBOL FOR SHIFT IN\n",
    "16    | &#x2410;         | `&#9232;`, `&#x2410;`  | U+2410  | SYMBOL FOR DATA LINK ESCAPE\n",
    "17    | &#x2411;         | `&#9233;`, `&#x2411;`  | U+2411  | SYMBOL FOR DEVICE CONTROL ONE\n",
    "18    | &#x2412;         | `&#9234;`, `&#x2412;`  | U+2412  | SYMBOL FOR DEVICE CONTROL TWO\n",
    "19    | &#x2413;         | `&#9235;`, `&#x2413;`  | U+2413  | SYMBOL FOR DEVICE CONTROL THREE\n",
    "20    | &#x2414;         | `&#9236;`, `&#x2414;`  | U+2414  | SYMBOL FOR DEVICE CONTROL FOUR\n",
    "21    | &#x2415;         | `&#9237;`, `&#x2415;`  | U+2415  | SYMBOL FOR NEGATIVE ACKNOWLEDGE\n",
    "22    | &#x2416;         | `&#9238;`, `&#x2416;`  | U+2416  | SYMBOL FOR SYNCHRONOUS IDLE\n",
    "23    | &#x2417;         | `&#9239;`, `&#x2417;`  | U+2417  | SYMBOL FOR END OF TRANSMISSION BLOCK\n",
    "24    | &#x2418;         | `&#9240;`, `&#x2418;`  | U+2418  | SYMBOL FOR CANCEL\n",
    "25    | &#x2419;         | `&#9241;`, `&#x2419;`  | U+2419  | SYMBOL FOR END OF MEDIUM\n",
    "26    | &#x241A;         | `&#9242;`, `&#x241A;`  | U+241A  | SYMBOL FOR SUBSTITUTE\n",
    "27    | &#x241B;         | `&#9243;`, `&#x241B;`  | U+241B  | SYMBOL FOR ESCAPE\n",
    "28    | &#x241C;         | `&#9244;`, `&#x241C;`  | U+241C  | SYMBOL FOR FILE SEPARATOR\n",
    "29    | &#x241D;         | `&#9245;`, `&#x241D;`  | U+241D  | SYMBOL FOR GROUP SEPARATOR\n",
    "30    | &#x241E;         | `&#9246;`, `&#x241E;`  | U+241E  | SYMBOL FOR RECORD SEPARATOR\n",
    "31    | &#x241F;         | `&#9247;`, `&#x241F;`  | U+241F  | SYMBOL FOR UNIT SEPARATOR\n",
    "32    | &#x2420;         | `&#9248;`, `&#x2420;`  | U+2420  | SYMBOL FOR SPACE\n",
    "127   | &#x2421;         | `&#9249;`, `&#x2421;`  | U+2421  | SYMBOL FOR DELETE"
   ]
  },
  {
   "cell_type": "markdown",
   "metadata": {},
   "source": [
    "---"
   ]
  },
  {
   "cell_type": "markdown",
   "metadata": {},
   "source": [
    "#### Uppercase Letters"
   ]
  },
  {
   "cell_type": "markdown",
   "metadata": {},
   "source": [
    "ASCII | Symbol | HTML Entity | Unicode Code Point | Unicode Name\n",
    "------|--------|-------------|--------------------|-------------\n",
    "65    | &#65;  | `&#65;`, `&#x41;` | U+0041 | LATIN CAPITAL LETTER A\n",
    "66    | &#66;  | `&#66;`, `&#x42;` | U+0042 | LATIN CAPITAL LETTER B\n",
    "67    | &#67;  | `&#67;`, `&#x43;` | U+0043 | LATIN CAPITAL LETTER C\n",
    "68    | &#68;  | `&#68;`, `&#x44;` | U+0044 | LATIN CAPITAL LETTER D\n",
    "69    | &#69;  | `&#69;`, `&#x45;` | U+0045 | LATIN CAPITAL LETTER E\n",
    "70    | &#70;  | `&#70;`, `&#x46;` | U+0046 | LATIN CAPITAL LETTER F\n",
    "71    | &#71;  | `&#71;`, `&#x47;` | U+0047 | LATIN CAPITAL LETTER G\n",
    "72    | &#72;  | `&#72;`, `&#x48;` | U+0048 | LATIN CAPITAL LETTER H\n",
    "73    | &#73;  | `&#73;`, `&#x49;` | U+0049 | LATIN CAPITAL LETTER I\n",
    "74    | &#74;  | `&#74;`, `&#x4A;` | U+004A | LATIN CAPITAL LETTER J\n",
    "75    | &#75;  | `&#75;`, `&#x4B;` | U+004B | LATIN CAPITAL LETTER K\n",
    "76    | &#76;  | `&#76;`, `&#x4C;` | U+004C | LATIN CAPITAL LETTER L\n",
    "77    | &#77;  | `&#77;`, `&#x4D;` | U+004D | LATIN CAPITAL LETTER M\n",
    "78    | &#78;  | `&#78;`, `&#x4E;` | U+004E | LATIN CAPITAL LETTER N\n",
    "79    | &#79;  | `&#79;`, `&#x4F;` | U+004F | LATIN CAPITAL LETTER O\n",
    "80    | &#80;  | `&#80;`, `&#x50;` | U+0050 | LATIN CAPITAL LETTER P\n",
    "81    | &#81;  | `&#81;`, `&#x51;` | U+0051 | LATIN CAPITAL LETTER Q\n",
    "82    | &#82;  | `&#82;`, `&#x52;` | U+0052 | LATIN CAPITAL LETTER R\n",
    "83    | &#83;  | `&#83;`, `&#x53;` | U+0053 | LATIN CAPITAL LETTER S\n",
    "84    | &#84;  | `&#84;`, `&#x54;` | U+0054 | LATIN CAPITAL LETTER T\n",
    "85    | &#85;  | `&#85;`, `&#x55;` | U+0055 | LATIN CAPITAL LETTER U\n",
    "86    | &#86;  | `&#86;`, `&#x56;` | U+0056 | LATIN CAPITAL LETTER V\n",
    "87    | &#87;  | `&#87;`, `&#x57;` | U+0057 | LATIN CAPITAL LETTER W\n",
    "88    | &#88;  | `&#88;`, `&#x58;` | U+0058 | LATIN CAPITAL LETTER X\n",
    "89    | &#89;  | `&#89;`, `&#x59;` | U+0059 | LATIN CAPITAL LETTER Y\n",
    "90    | &#90;  | `&#90;`, `&#x5A;` | U+005A | LATIN CAPITAL LETTER Z"
   ]
  },
  {
   "cell_type": "code",
   "execution_count": null,
   "metadata": {},
   "outputs": [
    {
     "name": "stdout",
     "output_type": "stream",
     "text": [
      "ABCDEFGHIJKLMNOPQRSTUVWXYZ\n",
      "26\n",
      "\n",
      "Glyph      Code Point Hex        Bytes                Category   Named Entity         Name      \n",
      "A          \\U00000041 000041     b'A'                 Lu         NO NAMED ENTITY      LATIN CAPITAL LETTER A\n",
      "B          \\U00000042 000042     b'B'                 Lu         NO NAMED ENTITY      LATIN CAPITAL LETTER B\n",
      "C          \\U00000043 000043     b'C'                 Lu         NO NAMED ENTITY      LATIN CAPITAL LETTER C\n",
      "D          \\U00000044 000044     b'D'                 Lu         NO NAMED ENTITY      LATIN CAPITAL LETTER D\n",
      "E          \\U00000045 000045     b'E'                 Lu         NO NAMED ENTITY      LATIN CAPITAL LETTER E\n",
      "F          \\U00000046 000046     b'F'                 Lu         NO NAMED ENTITY      LATIN CAPITAL LETTER F\n",
      "G          \\U00000047 000047     b'G'                 Lu         NO NAMED ENTITY      LATIN CAPITAL LETTER G\n",
      "H          \\U00000048 000048     b'H'                 Lu         NO NAMED ENTITY      LATIN CAPITAL LETTER H\n",
      "I          \\U00000049 000049     b'I'                 Lu         NO NAMED ENTITY      LATIN CAPITAL LETTER I\n",
      "J          \\U0000004A 00004A     b'J'                 Lu         NO NAMED ENTITY      LATIN CAPITAL LETTER J\n",
      "K          \\U0000004B 00004B     b'K'                 Lu         NO NAMED ENTITY      LATIN CAPITAL LETTER K\n",
      "L          \\U0000004C 00004C     b'L'                 Lu         NO NAMED ENTITY      LATIN CAPITAL LETTER L\n",
      "M          \\U0000004D 00004D     b'M'                 Lu         NO NAMED ENTITY      LATIN CAPITAL LETTER M\n",
      "N          \\U0000004E 00004E     b'N'                 Lu         NO NAMED ENTITY      LATIN CAPITAL LETTER N\n",
      "O          \\U0000004F 00004F     b'O'                 Lu         NO NAMED ENTITY      LATIN CAPITAL LETTER O\n",
      "P          \\U00000050 000050     b'P'                 Lu         NO NAMED ENTITY      LATIN CAPITAL LETTER P\n",
      "Q          \\U00000051 000051     b'Q'                 Lu         NO NAMED ENTITY      LATIN CAPITAL LETTER Q\n",
      "R          \\U00000052 000052     b'R'                 Lu         NO NAMED ENTITY      LATIN CAPITAL LETTER R\n",
      "S          \\U00000053 000053     b'S'                 Lu         NO NAMED ENTITY      LATIN CAPITAL LETTER S\n",
      "T          \\U00000054 000054     b'T'                 Lu         NO NAMED ENTITY      LATIN CAPITAL LETTER T\n",
      "U          \\U00000055 000055     b'U'                 Lu         NO NAMED ENTITY      LATIN CAPITAL LETTER U\n",
      "V          \\U00000056 000056     b'V'                 Lu         NO NAMED ENTITY      LATIN CAPITAL LETTER V\n",
      "W          \\U00000057 000057     b'W'                 Lu         NO NAMED ENTITY      LATIN CAPITAL LETTER W\n",
      "X          \\U00000058 000058     b'X'                 Lu         NO NAMED ENTITY      LATIN CAPITAL LETTER X\n",
      "Y          \\U00000059 000059     b'Y'                 Lu         NO NAMED ENTITY      LATIN CAPITAL LETTER Y\n",
      "Z          \\U0000005A 00005A     b'Z'                 Lu         NO NAMED ENTITY      LATIN CAPITAL LETTER Z\n"
     ]
    }
   ],
   "source": [
    "print_code_point_information(string.ascii_uppercase)"
   ]
  },
  {
   "cell_type": "markdown",
   "metadata": {},
   "source": [
    "---"
   ]
  },
  {
   "cell_type": "markdown",
   "metadata": {},
   "source": [
    "#### Lowercase Letters"
   ]
  },
  {
   "cell_type": "markdown",
   "metadata": {},
   "source": [
    "ASCII | Symbol | HTML Entity | Unicode Code Point | Unicode Name\n",
    "------|--------|-------------|--------------------|-------------\n",
    "97    | &#097; | `&#097;`, `&#x61;` | U+0061 | LATIN SMALL LETTER A\n",
    "98    | &#098; | `&#098;`, `&#x62;` | U+0062 | LATIN SMALL LETTER B\n",
    "99    | &#099; | `&#099;`, `&#x63;` | U+0063 | LATIN SMALL LETTER C\n",
    "100   | &#100; | `&#100;`, `&#x64;` | U+0064 | LATIN SMALL LETTER D\n",
    "101   | &#101; | `&#101;`, `&#x65;` | U+0065 | LATIN SMALL LETTER E\n",
    "102   | &#102; | `&#102;`, `&#x66;` | U+0066 | LATIN SMALL LETTER F\n",
    "103   | &#103; | `&#103;`, `&#x67;` | U+0067 | LATIN SMALL LETTER G\n",
    "104   | &#104; | `&#104;`, `&#x68;` | U+0068 | LATIN SMALL LETTER H\n",
    "105   | &#105; | `&#105;`, `&#x69;` | U+0069 | LATIN SMALL LETTER I\n",
    "106   | &#106; | `&#106;`, `&#x6A;` | U+006A | LATIN SMALL LETTER J\n",
    "107   | &#107; | `&#107;`, `&#x6B;` | U+006B | LATIN SMALL LETTER K\n",
    "108   | &#108; | `&#108;`, `&#x6C;` | U+006C | LATIN SMALL LETTER L\n",
    "109   | &#109; | `&#109;`, `&#x6D;` | U+006D | LATIN SMALL LETTER M\n",
    "110   | &#110; | `&#110;`, `&#x6E;` | U+006E | LATIN SMALL LETTER N\n",
    "111   | &#111; | `&#111;`, `&#x6F;` | U+006F | LATIN SMALL LETTER O\n",
    "112   | &#112; | `&#112;`, `&#x70;` | U+0070 | LATIN SMALL LETTER P\n",
    "113   | &#113; | `&#113;`, `&#x71;` | U+0071 | LATIN SMALL LETTER Q\n",
    "114   | &#114; | `&#114;`, `&#x72;` | U+0072 | LATIN SMALL LETTER R\n",
    "115   | &#115; | `&#115;`, `&#x73;` | U+0073 | LATIN SMALL LETTER S\n",
    "116   | &#116; | `&#116;`, `&#x74;` | U+0074 | LATIN SMALL LETTER T\n",
    "117   | &#117; | `&#117;`, `&#x75;` | U+0075 | LATIN SMALL LETTER U\n",
    "118   | &#118; | `&#118;`, `&#x76;` | U+0076 | LATIN SMALL LETTER V\n",
    "119   | &#119; | `&#119;`, `&#x77;` | U+0077 | LATIN SMALL LETTER W\n",
    "120   | &#120; | `&#120;`, `&#x78;` | U+0078 | LATIN SMALL LETTER X\n",
    "121   | &#121; | `&#121;`, `&#x79;` | U+0079 | LATIN SMALL LETTER Y\n",
    "122   | &#122; | `&#122;`, `&#x7A;` | U+007A | LATIN SMALL LETTER Z"
   ]
  },
  {
   "cell_type": "code",
   "execution_count": null,
   "metadata": {},
   "outputs": [
    {
     "name": "stdout",
     "output_type": "stream",
     "text": [
      "abcdefghijklmnopqrstuvwxyz\n",
      "26\n",
      "\n",
      "Glyph      Code Point Hex        Bytes                Category   Named Entity         Name      \n",
      "a          \\U00000061 000061     b'a'                 Ll         NO NAMED ENTITY      LATIN SMALL LETTER A\n",
      "b          \\U00000062 000062     b'b'                 Ll         NO NAMED ENTITY      LATIN SMALL LETTER B\n",
      "c          \\U00000063 000063     b'c'                 Ll         NO NAMED ENTITY      LATIN SMALL LETTER C\n",
      "d          \\U00000064 000064     b'd'                 Ll         NO NAMED ENTITY      LATIN SMALL LETTER D\n",
      "e          \\U00000065 000065     b'e'                 Ll         NO NAMED ENTITY      LATIN SMALL LETTER E\n",
      "f          \\U00000066 000066     b'f'                 Ll         NO NAMED ENTITY      LATIN SMALL LETTER F\n",
      "g          \\U00000067 000067     b'g'                 Ll         NO NAMED ENTITY      LATIN SMALL LETTER G\n",
      "h          \\U00000068 000068     b'h'                 Ll         NO NAMED ENTITY      LATIN SMALL LETTER H\n",
      "i          \\U00000069 000069     b'i'                 Ll         NO NAMED ENTITY      LATIN SMALL LETTER I\n",
      "j          \\U0000006A 00006A     b'j'                 Ll         NO NAMED ENTITY      LATIN SMALL LETTER J\n",
      "k          \\U0000006B 00006B     b'k'                 Ll         NO NAMED ENTITY      LATIN SMALL LETTER K\n",
      "l          \\U0000006C 00006C     b'l'                 Ll         NO NAMED ENTITY      LATIN SMALL LETTER L\n",
      "m          \\U0000006D 00006D     b'm'                 Ll         NO NAMED ENTITY      LATIN SMALL LETTER M\n",
      "n          \\U0000006E 00006E     b'n'                 Ll         NO NAMED ENTITY      LATIN SMALL LETTER N\n",
      "o          \\U0000006F 00006F     b'o'                 Ll         NO NAMED ENTITY      LATIN SMALL LETTER O\n",
      "p          \\U00000070 000070     b'p'                 Ll         NO NAMED ENTITY      LATIN SMALL LETTER P\n",
      "q          \\U00000071 000071     b'q'                 Ll         NO NAMED ENTITY      LATIN SMALL LETTER Q\n",
      "r          \\U00000072 000072     b'r'                 Ll         NO NAMED ENTITY      LATIN SMALL LETTER R\n",
      "s          \\U00000073 000073     b's'                 Ll         NO NAMED ENTITY      LATIN SMALL LETTER S\n",
      "t          \\U00000074 000074     b't'                 Ll         NO NAMED ENTITY      LATIN SMALL LETTER T\n",
      "u          \\U00000075 000075     b'u'                 Ll         NO NAMED ENTITY      LATIN SMALL LETTER U\n",
      "v          \\U00000076 000076     b'v'                 Ll         NO NAMED ENTITY      LATIN SMALL LETTER V\n",
      "w          \\U00000077 000077     b'w'                 Ll         NO NAMED ENTITY      LATIN SMALL LETTER W\n",
      "x          \\U00000078 000078     b'x'                 Ll         NO NAMED ENTITY      LATIN SMALL LETTER X\n",
      "y          \\U00000079 000079     b'y'                 Ll         NO NAMED ENTITY      LATIN SMALL LETTER Y\n",
      "z          \\U0000007A 00007A     b'z'                 Ll         NO NAMED ENTITY      LATIN SMALL LETTER Z\n"
     ]
    }
   ],
   "source": [
    "print_code_point_information(string.ascii_lowercase)"
   ]
  },
  {
   "cell_type": "code",
   "execution_count": null,
   "metadata": {},
   "outputs": [],
   "source": [
    "# print_code_point_information(string.ascii_letters)"
   ]
  },
  {
   "cell_type": "markdown",
   "metadata": {},
   "source": [
    "---"
   ]
  },
  {
   "cell_type": "markdown",
   "metadata": {},
   "source": [
    "#### Digits"
   ]
  },
  {
   "cell_type": "markdown",
   "metadata": {},
   "source": [
    "ASCII | Symbol | HTML Entity | Unicode Code Point | Unicode Name\n",
    "------|--------|-------------|--------------------|-------------\n",
    "48    | &#48;  | `&#48;`, `&#x30;` | U+0030 | DIGIT ZERO\n",
    "49    | &#49;  | `&#49;`, `&#x31;` | U+0031 | DIGIT ONE\n",
    "50    | &#50;  | `&#50;`, `&#x32;` | U+0032 | DIGIT TWO\n",
    "51    | &#51;  | `&#51;`, `&#x33;` | U+0033 | DIGIT THREE\n",
    "52    | &#52;  | `&#52;`, `&#x34;` | U+0034 | DIGIT FOUR\n",
    "53    | &#53;  | `&#53;`, `&#x35;` | U+0035 | DIGIT FIVE\n",
    "54    | &#54;  | `&#54;`, `&#x36;` | U+0036 | DIGIT SIX\n",
    "55    | &#55;  | `&#55;`, `&#x37;` | U+0037 | DIGIT SEVEN\n",
    "56    | &#56;  | `&#56;`, `&#x38;` | U+0038 | DIGIT EIGHT\n",
    "57    | &#57;  | `&#57;`, `&#x39;` | U+0039 | DIGIT NINE"
   ]
  },
  {
   "cell_type": "code",
   "execution_count": null,
   "metadata": {},
   "outputs": [
    {
     "name": "stdout",
     "output_type": "stream",
     "text": [
      "0123456789\n",
      "10\n",
      "\n",
      "Glyph      Code Point Hex        Bytes                Category   Named Entity         Name      \n",
      "0          \\U00000030 000030     b'0'                 Nd         NO NAMED ENTITY      DIGIT ZERO\n",
      "1          \\U00000031 000031     b'1'                 Nd         NO NAMED ENTITY      DIGIT ONE\n",
      "2          \\U00000032 000032     b'2'                 Nd         NO NAMED ENTITY      DIGIT TWO\n",
      "3          \\U00000033 000033     b'3'                 Nd         NO NAMED ENTITY      DIGIT THREE\n",
      "4          \\U00000034 000034     b'4'                 Nd         NO NAMED ENTITY      DIGIT FOUR\n",
      "5          \\U00000035 000035     b'5'                 Nd         NO NAMED ENTITY      DIGIT FIVE\n",
      "6          \\U00000036 000036     b'6'                 Nd         NO NAMED ENTITY      DIGIT SIX\n",
      "7          \\U00000037 000037     b'7'                 Nd         NO NAMED ENTITY      DIGIT SEVEN\n",
      "8          \\U00000038 000038     b'8'                 Nd         NO NAMED ENTITY      DIGIT EIGHT\n",
      "9          \\U00000039 000039     b'9'                 Nd         NO NAMED ENTITY      DIGIT NINE\n"
     ]
    }
   ],
   "source": [
    "print_code_point_information(string.digits)"
   ]
  },
  {
   "cell_type": "markdown",
   "metadata": {},
   "source": [
    "---"
   ]
  },
  {
   "cell_type": "markdown",
   "metadata": {},
   "source": [
    "#### Punctuation"
   ]
  },
  {
   "cell_type": "markdown",
   "metadata": {},
   "source": [
    "ASCII | Symbol | HTML Entity                   | Unicode Code Point | Unicode Name\n",
    "------|--------|-------------------------------|--------------------|-------------\n",
    "32    | &#32;  | `&#32;`, `&#x20;`             | U+0020 | SPACE [ [w](https://en.wikipedia.org/wiki/Space_(punctuation)) ]\n",
    "33    | &#33;  | `&#33;`, `&#x21;`, `&excl;`   | U+0021 | EXCLAMATION MARK (factorial, bang) [ [w](https://en.wikipedia.org/wiki/Exclamation_mark) ]\n",
    "34    | &#34;  | `&#34;`, `&#x22;`, `&quot;`   | U+0022 | QUOTATION MARK (double quote) [ [w](https://en.wikipedia.org/wiki/Quotation_mark) ]\n",
    "35    | &#35;  | `&#35;`, `&#x23;`             | U+0023 | NUMBER SIGN (pound sign, hash) [ [w](https://en.wikipedia.org/wiki/Number_sign) ]\n",
    "36    | &#36;  | `&#36;`, `&#x24;`, `&dollar;` | U+0024 | DOLLAR SIGN [ [w](https://en.wikipedia.org/wiki/Dollar_sign) ]\n",
    "37    | &#37;  | `&#37;`, `&#x25;`, `&percnt;` | U+0025 | PERCENT SIGN [ [w](https://en.wikipedia.org/wiki/Percent_sign) ]\n",
    "38    | &#38;  | `&#38;`, `&#x26;`, `&amp;`    | U+0026 | AMPERSAND (and) [ [w](https://en.wikipedia.org/wiki/Ampersand) ]\n",
    "39    | &#39;  | `&#39;`, `&#x27;`, `&apos;`   | U+0027 | APOSTROPHE (single quote)\n",
    "40    | &#40;  | `&#40;`, `&#x28;`             | U+0028 | LEFT PARENTHESIS (opening parenthesis) [ [w](https://en.wikipedia.org/wiki/Bracket) ]\n",
    "41    | &#41;  | `&#41;`, `&#x29;`             | U+0029 | RIGHT PARENTHESIS (closing parenthesis) [ [w](https://en.wikipedia.org/wiki/Bracket) ]\n",
    "42    | &#42;  | `&#42;`, `&#x2A;`             | U+002A | ASTERISK (star) [ [w](https://en.wikipedia.org/wiki/Asterisk) ] (ἀστερίσκος \"little star\")\n",
    "43    | &#43;  | `&#43;`, `&#x2B;`, `&plus;`   | U+002B | PLUS SIGN [ [w](https://en.wikipedia.org/wiki/Plus_and_minus_signs) ]\n",
    "44    | &#44;  | `&#44;`, `&#x2C;`, `&comma;`  | U+002C | COMMA [ [w](https://en.wikipedia.org/wiki/Comma) ]\n",
    "45    | &#45;  | `&#45;`, `&#x2D;`, `&hyphen;` | U+002D | HYPHEN-MINUS [ [w](https://en.wikipedia.org/wiki/Hyphen-minus) ] (hyphen [ [w](https://en.wikipedia.org/wiki/Hyphen) ], dash [ [w](https://en.wikipedia.org/wiki/Dash) ], minus sign [ [w](https://en.wikipedia.org/wiki/Plus_and_minus_signs#Minus_sign) ])\n",
    "46    | &#46;  | `&#46;`, `&#x2E;`, `&period;` | U+002E | FULL STOP (period, dot, decimal point) [ [w](https://en.wikipedia.org/wiki/Full_stop) ]\n",
    "47    | &#47;  | `&#47;`, `&#x2F;`             | U+002F | SOLIDUS (slash, forward slash) [ [w](https://en.wikipedia.org/wiki/Slash_(punctuation)) ]\n",
    "58    | &#58;  | `&#58;`, `&#x3A;`, `&colon;`  | U+003A | COLON [ [w](https://en.wikipedia.org/wiki/Colon_(punctuation)) ]\n",
    "59    | &#59;  | `&#59;`, `&#x3B;`, `&semi;`   | U+003B | SEMICOLON [ [w](https://en.wikipedia.org/wiki/Semicolon) ]\n",
    "60    | &#60;  | `&#60;`, `&#x3C;`, `&lt;`     | U+003C | LESS-THAN SIGN [ [w](https://en.wikipedia.org/wiki/Less-than_sign) ]\n",
    "61    | &#61;  | `&#61;`, `&#x3D;`, `&equals;` | U+003D | EQUALS SIGN [ [w](https://en.wikipedia.org/wiki/Equals_sign) ]\n",
    "62    | &#62;  | `&#62;`, `&#x3E;`, `&gt;`     | U+003E | GREATER-THAN SIGN [ [w](https://en.wikipedia.org/wiki/Greater-than_sign) ]\n",
    "63    | &#63;  | `&#63;`, `&#x3F;`, `&quest;`  | U+003F | QUESTION MARK [ [w](https://en.wikipedia.org/wiki/Question_mark) ]\n",
    "64    | &#64;  | `&#64;`, `&#x40;`             | U+0040 | COMMERCIAL AT (at sign) [ [w](https://en.wikipedia.org/wiki/At_sign) ]\n",
    "91    | &#91;  | `&#91;`, `&#x5B;`             | U+005B | LEFT SQUARE BRACKET (opening square bracket) [ [w](https://en.wikipedia.org/wiki/Bracket) ]\n",
    "92    | &#92;  | `&#92;`, `&#x5C;`             | U+005C | REVERSE SOLIDUS (backslash) [ [w](https://en.wikipedia.org/wiki/Backslash) ]\n",
    "93    | &#93;  | `&#93;`, `&#x5D;`             | U+005D | RIGHT SQUARE BRACKET (closing square bracket) [ [w](https://en.wikipedia.org/wiki/Bracket) ]\n",
    "94    | &#94;  | `&#94;`, `&#x5E;`             | U+005E | CIRCUMFLEX ACCENT (\"caret\", \"hat\") [ [w](https://en.wikipedia.org/wiki/Caret_(computing)) ]\n",
    "95    | &#95;  | `&#95;`, `&#x5F;`             | U+005F | LOW LINE (\"underscore\") [ [w](https://en.wikipedia.org/wiki/Underscore) ]\n",
    "96    | &#96;  | `&#96;`, `&#x60;`             | U+0060 | GRAVE ACCENT (backtick, backquote) [ [w](https://en.wikipedia.org/wiki/Backtick) ]\n",
    "123   | &#123; | `&#123;`, `&#x7B;`            | U+00&B | LEFT CURLY BRACKET (opening curly bracket, left brace) [ [w](https://en.wikipedia.org/wiki/Bracket) ]\n",
    "124   | &#124; | `&#124;`, `&#x7C;`            | U+00&C | VERTICAL LINE (vertical bar, pipe) [ [w](https://en.wikipedia.org/wiki/Vertical_bar) ]\n",
    "125   | &#125; | `&#125;`, `&#x7D;`            | U+00&D | RIGHT CURLY BRACKET (closing curly bracket, right brace) [ [w](https://en.wikipedia.org/wiki/Bracket) ]\n",
    "126   | &#126; | `&#126;`, `&#x7E;`            | U+00&E | TILDE [ [w](https://en.wikipedia.org/wiki/Tilde) ]"
   ]
  },
  {
   "cell_type": "markdown",
   "metadata": {},
   "source": [
    "Dashes\n",
    "\n",
    "Symbol   | HTML Entity | Unicode Code Point | Unicode Name\n",
    "---------|-------------|--------------------|-------------\n",
    "&#x002D; | `&#x002D;` | U+002D | HYPHEN-MINUS (hyphen, dash, minus sign)\n",
    "&#x2010; | `&#x2010;` | U+2010 | HYPHEN\n",
    "&#x2012; | `&#x2012;` | U+2012 | FIGURE DASH\n",
    "&#x2013; | `&#x2013;` | U+2013 | EN DASH\n",
    "&#x2014; | `&#x2014;` | U+2014 | EM DASH\n",
    "&#x2015; | `&#x2015;` | U+2015 | HORIZONTAL BAR\n",
    "&#x2212; | `&#x2212;` | U+2212 | MINUS SIGN\n",
    "\n",
    "Symbol   | HTML Entity | Unicode Code Point | Unicode Name\n",
    "---------|-------------|--------------------|-------------\n",
    "&#x00AD; | `&#x00AD;` | U+00AD | SOFT HYPHEN\n",
    "&#x02D7; | `&#x02D7;` | U+02D7 | MODIFIER LETTER MINUS SIGN\n",
    "&#x2011; | `&#x2011;` | U+2011 | NON-BREAKING HYPHEN\n",
    "&#x2027; | `&#x2027;` | U+2027 | HYPHENATION POINT\n",
    "&#x2043; | `&#x2043;` | U+2043 | HYPHEN BULLET\n",
    "&#x10191; | `&#x10191;` | U+10191 | ROMAN UNCIA SIGN"
   ]
  },
  {
   "cell_type": "markdown",
   "metadata": {},
   "source": [
    "Quotation Marks\n",
    "\n",
    "Symbol   | HTML Entity | Unicode Code Point | Unicode Name\n",
    "---------|-------------|--------------------|-------------\n",
    "&#x2018; | `&#x2018;`  | U+2018             | LEFT SINGLE QUOTATION MARK\n",
    "&#x2019; | `&#x2019;`  | U+2019             | RIGHT SINGLE QUOTATION MARK\n",
    "&#x201C; | `&#x201C;`  | U+201C             | LEFT DOUBLE QUOTATION MARK\n",
    "&#x201D; | `&#x201D;`  | U+201D             | RIGHT DOUBLE QUOTATION MARK\n",
    "\n",
    "Symbol   | HTML Entity | Unicode Code Point | Unicode Name\n",
    "---------|-------------|--------------------|-------------\n",
    "&#x0022; | `&#x0022;`  | U+0022             | QUOTATION MARK (double quote)\n",
    "&#x02B9; | `&#x02B9;`  | U+02B9             | MODIFIER LETTER PRIME\n",
    "&#x02BA; | `&#x02BA;`  | U+02BA             | MODIFIER LETTER DOUBLE PRIME\n",
    "&#x02BC; | `&#x02BC;`  | U+02BC             | MODIFIER LETTER APOSTROPHE\n",
    "&#x02C8; | `&#x02C8;`  | U+02C8             | MODIFIER LETTER VERTICAL LINE\n",
    "&#x02DD; | `&#x02DD;`  | U+02DD             | DOUBLE ACCUTE ACCENT\n",
    "&#x02EE; | `&#x02EE;`  | U+02EE             | MODIFIER LETTER DOUBLE APOSTROPHE\n",
    "&#x0301; | `&#x0301;`  | U+0301             | COMBINING ACUTE ACCENT\n",
    "&#x030B; | `&#x030B;`  | U+030B             | COMBINING DOUBLE ACUTE ACCENT\n",
    "&#x030D; | `&#x030D;`  | U+030D             | COMBINING VERTICAL LINE ABOVE\n",
    "&#x030E; | `&#x030E;`  | U+030E             | COMBINING DOUBLE VERTICAL LINE ABOVE\n",
    "&#x05F3; | `&#x05F3;`  | U+05F3             | HEBREW PUNCTUATION GERESH\n",
    "&#x05F4; | `&#x05F4;`  | U+05F4             | HEBREW PUNCTUATION GERSHAYIM\n",
    "&#x2032; | `&#x2032;`  | U+2032             | PRIME\n",
    "&#x2033; | `&#x2033;`  | U+2033             | DOUBLE PRIME\n",
    "&#x3003; | `&#x3003;`  | U+3003             | DITTO MARK\n",
    "&#xA78C; | `&#xA78C;`  | U+A78C             | LATIN SMALL LETTER SALTILLO"
   ]
  },
  {
   "cell_type": "code",
   "execution_count": null,
   "metadata": {},
   "outputs": [
    {
     "name": "stdout",
     "output_type": "stream",
     "text": [
      "!\"#$%&'()*+,-./:;<=>?@[\\]^_`{|}~\n",
      "32\n",
      "\n",
      "Glyph      Code Point Hex        Bytes                Category   Named Entity         Name      \n",
      "!          \\U00000021 000021     b'!'                 Po         NO NAMED ENTITY      EXCLAMATION MARK\n",
      "\"          \\U00000022 000022     b'\"'                 Po         quot                 QUOTATION MARK\n",
      "#          \\U00000023 000023     b'#'                 Po         NO NAMED ENTITY      NUMBER SIGN\n",
      "$          \\U00000024 000024     b'$'                 Sc         NO NAMED ENTITY      DOLLAR SIGN\n",
      "%          \\U00000025 000025     b'%'                 Po         NO NAMED ENTITY      PERCENT SIGN\n",
      "&          \\U00000026 000026     b'&'                 Po         amp                  AMPERSAND\n",
      "'          \\U00000027 000027     b\"'\"                 Po         NO NAMED ENTITY      APOSTROPHE\n",
      "(          \\U00000028 000028     b'('                 Ps         NO NAMED ENTITY      LEFT PARENTHESIS\n",
      ")          \\U00000029 000029     b')'                 Pe         NO NAMED ENTITY      RIGHT PARENTHESIS\n",
      "*          \\U0000002A 00002A     b'*'                 Po         NO NAMED ENTITY      ASTERISK\n",
      "+          \\U0000002B 00002B     b'+'                 Sm         NO NAMED ENTITY      PLUS SIGN\n",
      ",          \\U0000002C 00002C     b','                 Po         NO NAMED ENTITY      COMMA\n",
      "-          \\U0000002D 00002D     b'-'                 Pd         NO NAMED ENTITY      HYPHEN-MINUS\n",
      ".          \\U0000002E 00002E     b'.'                 Po         NO NAMED ENTITY      FULL STOP\n",
      "/          \\U0000002F 00002F     b'/'                 Po         NO NAMED ENTITY      SOLIDUS\n",
      ":          \\U0000003A 00003A     b':'                 Po         NO NAMED ENTITY      COLON\n",
      ";          \\U0000003B 00003B     b';'                 Po         NO NAMED ENTITY      SEMICOLON\n",
      "<          \\U0000003C 00003C     b'<'                 Sm         lt                   LESS-THAN SIGN\n",
      "=          \\U0000003D 00003D     b'='                 Sm         NO NAMED ENTITY      EQUALS SIGN\n",
      ">          \\U0000003E 00003E     b'>'                 Sm         gt                   GREATER-THAN SIGN\n",
      "?          \\U0000003F 00003F     b'?'                 Po         NO NAMED ENTITY      QUESTION MARK\n",
      "@          \\U00000040 000040     b'@'                 Po         NO NAMED ENTITY      COMMERCIAL AT\n",
      "[          \\U0000005B 00005B     b'['                 Ps         NO NAMED ENTITY      LEFT SQUARE BRACKET\n",
      "\\          \\U0000005C 00005C     b'\\\\'                Po         NO NAMED ENTITY      REVERSE SOLIDUS\n",
      "]          \\U0000005D 00005D     b']'                 Pe         NO NAMED ENTITY      RIGHT SQUARE BRACKET\n",
      "^          \\U0000005E 00005E     b'^'                 Sk         NO NAMED ENTITY      CIRCUMFLEX ACCENT\n",
      "_          \\U0000005F 00005F     b'_'                 Pc         NO NAMED ENTITY      LOW LINE\n",
      "`          \\U00000060 000060     b'`'                 Sk         NO NAMED ENTITY      GRAVE ACCENT\n",
      "{          \\U0000007B 00007B     b'{'                 Ps         NO NAMED ENTITY      LEFT CURLY BRACKET\n",
      "|          \\U0000007C 00007C     b'|'                 Sm         NO NAMED ENTITY      VERTICAL LINE\n",
      "}          \\U0000007D 00007D     b'}'                 Pe         NO NAMED ENTITY      RIGHT CURLY BRACKET\n",
      "~          \\U0000007E 00007E     b'~'                 Sm         NO NAMED ENTITY      TILDE\n"
     ]
    }
   ],
   "source": [
    "print_code_point_information(string.punctuation)"
   ]
  },
  {
   "cell_type": "markdown",
   "metadata": {},
   "source": [
    "---"
   ]
  },
  {
   "cell_type": "markdown",
   "metadata": {},
   "source": [
    "#### Whitespace"
   ]
  },
  {
   "cell_type": "code",
   "execution_count": null,
   "metadata": {},
   "outputs": [
    {
     "name": "stdout",
     "output_type": "stream",
     "text": [
      " \n",
      "1\n",
      "\n",
      "Glyph      Code Point Hex        Bytes                Category   Named Entity         Name      \n",
      "           \\U00000020 000020     b' '                 Zs         NO NAMED ENTITY      SPACE\n"
     ]
    }
   ],
   "source": [
    "print_code_point_information(string.whitespace[0])"
   ]
  },
  {
   "cell_type": "code",
   "execution_count": null,
   "metadata": {},
   "outputs": [
    {
     "data": {
      "text/plain": [
       "'\\t\\n\\r\\x0b\\x0c'"
      ]
     },
     "metadata": {},
     "output_type": "display_data"
    }
   ],
   "source": [
    "string.whitespace[1:]"
   ]
  },
  {
   "cell_type": "markdown",
   "metadata": {},
   "source": [
    "---"
   ]
  },
  {
   "cell_type": "code",
   "execution_count": null,
   "metadata": {},
   "outputs": [],
   "source": [
    "# print_code_point_information(string.printable)"
   ]
  },
  {
   "cell_type": "markdown",
   "metadata": {},
   "source": [
    "---"
   ]
  },
  {
   "cell_type": "code",
   "execution_count": null,
   "metadata": {},
   "outputs": [
    {
     "name": "stdout",
     "output_type": "stream",
     "text": [
      "no such name\n",
      "no such name\n",
      "no such name\n",
      "no such name\n",
      "no such name\n",
      "no such name\n",
      "no such name\n",
      "no such name\n",
      "no such name\n",
      "no such name\n",
      "no such name\n",
      "no such name\n",
      "no such name\n",
      "no such name\n",
      "no such name\n",
      "no such name\n",
      "no such name\n",
      "no such name\n",
      "no such name\n",
      "no such name\n",
      "no such name\n",
      "no such name\n",
      "no such name\n",
      "no such name\n",
      "no such name\n",
      "no such name\n",
      "no such name\n",
      "no such name\n",
      "no such name\n",
      "no such name\n",
      "no such name\n",
      "no such name\n",
      "           b' '       SPACE\n",
      "!          b'!'       EXCLAMATION MARK\n",
      "\"          b'\"'       QUOTATION MARK\n",
      "#          b'#'       NUMBER SIGN\n",
      "$          b'$'       DOLLAR SIGN\n",
      "%          b'%'       PERCENT SIGN\n",
      "&          b'&'       AMPERSAND\n",
      "'          b\"'\"       APOSTROPHE\n",
      "(          b'('       LEFT PARENTHESIS\n",
      ")          b')'       RIGHT PARENTHESIS\n",
      "*          b'*'       ASTERISK\n",
      "+          b'+'       PLUS SIGN\n",
      ",          b','       COMMA\n",
      "-          b'-'       HYPHEN-MINUS\n",
      ".          b'.'       FULL STOP\n",
      "/          b'/'       SOLIDUS\n",
      "0          b'0'       DIGIT ZERO\n",
      "1          b'1'       DIGIT ONE\n",
      "2          b'2'       DIGIT TWO\n",
      "3          b'3'       DIGIT THREE\n",
      "4          b'4'       DIGIT FOUR\n",
      "5          b'5'       DIGIT FIVE\n",
      "6          b'6'       DIGIT SIX\n",
      "7          b'7'       DIGIT SEVEN\n",
      "8          b'8'       DIGIT EIGHT\n",
      "9          b'9'       DIGIT NINE\n",
      ":          b':'       COLON\n",
      ";          b';'       SEMICOLON\n",
      "<          b'<'       LESS-THAN SIGN\n",
      "=          b'='       EQUALS SIGN\n",
      ">          b'>'       GREATER-THAN SIGN\n",
      "?          b'?'       QUESTION MARK\n",
      "@          b'@'       COMMERCIAL AT\n",
      "A          b'A'       LATIN CAPITAL LETTER A\n",
      "B          b'B'       LATIN CAPITAL LETTER B\n",
      "C          b'C'       LATIN CAPITAL LETTER C\n",
      "D          b'D'       LATIN CAPITAL LETTER D\n",
      "E          b'E'       LATIN CAPITAL LETTER E\n",
      "F          b'F'       LATIN CAPITAL LETTER F\n",
      "G          b'G'       LATIN CAPITAL LETTER G\n",
      "H          b'H'       LATIN CAPITAL LETTER H\n",
      "I          b'I'       LATIN CAPITAL LETTER I\n",
      "J          b'J'       LATIN CAPITAL LETTER J\n",
      "K          b'K'       LATIN CAPITAL LETTER K\n",
      "L          b'L'       LATIN CAPITAL LETTER L\n",
      "M          b'M'       LATIN CAPITAL LETTER M\n",
      "N          b'N'       LATIN CAPITAL LETTER N\n",
      "O          b'O'       LATIN CAPITAL LETTER O\n",
      "P          b'P'       LATIN CAPITAL LETTER P\n",
      "Q          b'Q'       LATIN CAPITAL LETTER Q\n",
      "R          b'R'       LATIN CAPITAL LETTER R\n",
      "S          b'S'       LATIN CAPITAL LETTER S\n",
      "T          b'T'       LATIN CAPITAL LETTER T\n",
      "U          b'U'       LATIN CAPITAL LETTER U\n",
      "V          b'V'       LATIN CAPITAL LETTER V\n",
      "W          b'W'       LATIN CAPITAL LETTER W\n",
      "X          b'X'       LATIN CAPITAL LETTER X\n",
      "Y          b'Y'       LATIN CAPITAL LETTER Y\n",
      "Z          b'Z'       LATIN CAPITAL LETTER Z\n",
      "[          b'['       LEFT SQUARE BRACKET\n",
      "\\          b'\\\\'      REVERSE SOLIDUS\n",
      "]          b']'       RIGHT SQUARE BRACKET\n",
      "^          b'^'       CIRCUMFLEX ACCENT\n",
      "_          b'_'       LOW LINE\n",
      "`          b'`'       GRAVE ACCENT\n",
      "a          b'a'       LATIN SMALL LETTER A\n",
      "b          b'b'       LATIN SMALL LETTER B\n",
      "c          b'c'       LATIN SMALL LETTER C\n",
      "d          b'd'       LATIN SMALL LETTER D\n",
      "e          b'e'       LATIN SMALL LETTER E\n",
      "f          b'f'       LATIN SMALL LETTER F\n",
      "g          b'g'       LATIN SMALL LETTER G\n",
      "h          b'h'       LATIN SMALL LETTER H\n",
      "i          b'i'       LATIN SMALL LETTER I\n",
      "j          b'j'       LATIN SMALL LETTER J\n",
      "k          b'k'       LATIN SMALL LETTER K\n",
      "l          b'l'       LATIN SMALL LETTER L\n",
      "m          b'm'       LATIN SMALL LETTER M\n",
      "n          b'n'       LATIN SMALL LETTER N\n",
      "o          b'o'       LATIN SMALL LETTER O\n",
      "p          b'p'       LATIN SMALL LETTER P\n",
      "q          b'q'       LATIN SMALL LETTER Q\n",
      "r          b'r'       LATIN SMALL LETTER R\n",
      "s          b's'       LATIN SMALL LETTER S\n",
      "t          b't'       LATIN SMALL LETTER T\n",
      "u          b'u'       LATIN SMALL LETTER U\n",
      "v          b'v'       LATIN SMALL LETTER V\n",
      "w          b'w'       LATIN SMALL LETTER W\n",
      "x          b'x'       LATIN SMALL LETTER X\n",
      "y          b'y'       LATIN SMALL LETTER Y\n",
      "z          b'z'       LATIN SMALL LETTER Z\n",
      "{          b'{'       LEFT CURLY BRACKET\n",
      "|          b'|'       VERTICAL LINE\n",
      "}          b'}'       RIGHT CURLY BRACKET\n",
      "~          b'~'       TILDE\n",
      "no such name\n",
      "'ascii' codec can't encode character '\\x80' in position 0: ordinal not in range(128)\n",
      "'ascii' codec can't encode character '\\x81' in position 0: ordinal not in range(128)\n",
      "'ascii' codec can't encode character '\\x82' in position 0: ordinal not in range(128)\n",
      "'ascii' codec can't encode character '\\x83' in position 0: ordinal not in range(128)\n",
      "'ascii' codec can't encode character '\\x84' in position 0: ordinal not in range(128)\n",
      "'ascii' codec can't encode character '\\x85' in position 0: ordinal not in range(128)\n",
      "'ascii' codec can't encode character '\\x86' in position 0: ordinal not in range(128)\n",
      "'ascii' codec can't encode character '\\x87' in position 0: ordinal not in range(128)\n",
      "'ascii' codec can't encode character '\\x88' in position 0: ordinal not in range(128)\n",
      "'ascii' codec can't encode character '\\x89' in position 0: ordinal not in range(128)\n",
      "'ascii' codec can't encode character '\\x8a' in position 0: ordinal not in range(128)\n",
      "'ascii' codec can't encode character '\\x8b' in position 0: ordinal not in range(128)\n",
      "'ascii' codec can't encode character '\\x8c' in position 0: ordinal not in range(128)\n",
      "'ascii' codec can't encode character '\\x8d' in position 0: ordinal not in range(128)\n",
      "'ascii' codec can't encode character '\\x8e' in position 0: ordinal not in range(128)\n",
      "'ascii' codec can't encode character '\\x8f' in position 0: ordinal not in range(128)\n",
      "'ascii' codec can't encode character '\\x90' in position 0: ordinal not in range(128)\n",
      "'ascii' codec can't encode character '\\x91' in position 0: ordinal not in range(128)\n",
      "'ascii' codec can't encode character '\\x92' in position 0: ordinal not in range(128)\n",
      "'ascii' codec can't encode character '\\x93' in position 0: ordinal not in range(128)\n",
      "'ascii' codec can't encode character '\\x94' in position 0: ordinal not in range(128)\n",
      "'ascii' codec can't encode character '\\x95' in position 0: ordinal not in range(128)\n",
      "'ascii' codec can't encode character '\\x96' in position 0: ordinal not in range(128)\n",
      "'ascii' codec can't encode character '\\x97' in position 0: ordinal not in range(128)\n",
      "'ascii' codec can't encode character '\\x98' in position 0: ordinal not in range(128)\n",
      "'ascii' codec can't encode character '\\x99' in position 0: ordinal not in range(128)\n",
      "'ascii' codec can't encode character '\\x9a' in position 0: ordinal not in range(128)\n",
      "'ascii' codec can't encode character '\\x9b' in position 0: ordinal not in range(128)\n",
      "'ascii' codec can't encode character '\\x9c' in position 0: ordinal not in range(128)\n",
      "'ascii' codec can't encode character '\\x9d' in position 0: ordinal not in range(128)\n",
      "'ascii' codec can't encode character '\\x9e' in position 0: ordinal not in range(128)\n",
      "'ascii' codec can't encode character '\\x9f' in position 0: ordinal not in range(128)\n",
      "'ascii' codec can't encode character '\\xa0' in position 0: ordinal not in range(128)\n",
      "'ascii' codec can't encode character '\\xa1' in position 0: ordinal not in range(128)\n",
      "'ascii' codec can't encode character '\\xa2' in position 0: ordinal not in range(128)\n",
      "'ascii' codec can't encode character '\\xa3' in position 0: ordinal not in range(128)\n",
      "'ascii' codec can't encode character '\\xa4' in position 0: ordinal not in range(128)\n",
      "'ascii' codec can't encode character '\\xa5' in position 0: ordinal not in range(128)\n",
      "'ascii' codec can't encode character '\\xa6' in position 0: ordinal not in range(128)\n",
      "'ascii' codec can't encode character '\\xa7' in position 0: ordinal not in range(128)\n",
      "'ascii' codec can't encode character '\\xa8' in position 0: ordinal not in range(128)\n",
      "'ascii' codec can't encode character '\\xa9' in position 0: ordinal not in range(128)\n",
      "'ascii' codec can't encode character '\\xaa' in position 0: ordinal not in range(128)\n",
      "'ascii' codec can't encode character '\\xab' in position 0: ordinal not in range(128)\n",
      "'ascii' codec can't encode character '\\xac' in position 0: ordinal not in range(128)\n",
      "'ascii' codec can't encode character '\\xad' in position 0: ordinal not in range(128)\n",
      "'ascii' codec can't encode character '\\xae' in position 0: ordinal not in range(128)\n",
      "'ascii' codec can't encode character '\\xaf' in position 0: ordinal not in range(128)\n",
      "'ascii' codec can't encode character '\\xb0' in position 0: ordinal not in range(128)\n",
      "'ascii' codec can't encode character '\\xb1' in position 0: ordinal not in range(128)\n",
      "'ascii' codec can't encode character '\\xb2' in position 0: ordinal not in range(128)\n",
      "'ascii' codec can't encode character '\\xb3' in position 0: ordinal not in range(128)\n",
      "'ascii' codec can't encode character '\\xb4' in position 0: ordinal not in range(128)\n",
      "'ascii' codec can't encode character '\\xb5' in position 0: ordinal not in range(128)\n",
      "'ascii' codec can't encode character '\\xb6' in position 0: ordinal not in range(128)\n",
      "'ascii' codec can't encode character '\\xb7' in position 0: ordinal not in range(128)\n",
      "'ascii' codec can't encode character '\\xb8' in position 0: ordinal not in range(128)\n",
      "'ascii' codec can't encode character '\\xb9' in position 0: ordinal not in range(128)\n",
      "'ascii' codec can't encode character '\\xba' in position 0: ordinal not in range(128)\n",
      "'ascii' codec can't encode character '\\xbb' in position 0: ordinal not in range(128)\n",
      "'ascii' codec can't encode character '\\xbc' in position 0: ordinal not in range(128)\n",
      "'ascii' codec can't encode character '\\xbd' in position 0: ordinal not in range(128)\n",
      "'ascii' codec can't encode character '\\xbe' in position 0: ordinal not in range(128)\n",
      "'ascii' codec can't encode character '\\xbf' in position 0: ordinal not in range(128)\n",
      "'ascii' codec can't encode character '\\xc0' in position 0: ordinal not in range(128)\n",
      "'ascii' codec can't encode character '\\xc1' in position 0: ordinal not in range(128)\n",
      "'ascii' codec can't encode character '\\xc2' in position 0: ordinal not in range(128)\n",
      "'ascii' codec can't encode character '\\xc3' in position 0: ordinal not in range(128)\n",
      "'ascii' codec can't encode character '\\xc4' in position 0: ordinal not in range(128)\n",
      "'ascii' codec can't encode character '\\xc5' in position 0: ordinal not in range(128)\n",
      "'ascii' codec can't encode character '\\xc6' in position 0: ordinal not in range(128)\n",
      "'ascii' codec can't encode character '\\xc7' in position 0: ordinal not in range(128)\n",
      "'ascii' codec can't encode character '\\xc8' in position 0: ordinal not in range(128)\n",
      "'ascii' codec can't encode character '\\xc9' in position 0: ordinal not in range(128)\n",
      "'ascii' codec can't encode character '\\xca' in position 0: ordinal not in range(128)\n",
      "'ascii' codec can't encode character '\\xcb' in position 0: ordinal not in range(128)\n",
      "'ascii' codec can't encode character '\\xcc' in position 0: ordinal not in range(128)\n",
      "'ascii' codec can't encode character '\\xcd' in position 0: ordinal not in range(128)\n",
      "'ascii' codec can't encode character '\\xce' in position 0: ordinal not in range(128)\n",
      "'ascii' codec can't encode character '\\xcf' in position 0: ordinal not in range(128)\n",
      "'ascii' codec can't encode character '\\xd0' in position 0: ordinal not in range(128)\n",
      "'ascii' codec can't encode character '\\xd1' in position 0: ordinal not in range(128)\n",
      "'ascii' codec can't encode character '\\xd2' in position 0: ordinal not in range(128)\n",
      "'ascii' codec can't encode character '\\xd3' in position 0: ordinal not in range(128)\n",
      "'ascii' codec can't encode character '\\xd4' in position 0: ordinal not in range(128)\n",
      "'ascii' codec can't encode character '\\xd5' in position 0: ordinal not in range(128)\n",
      "'ascii' codec can't encode character '\\xd6' in position 0: ordinal not in range(128)\n",
      "'ascii' codec can't encode character '\\xd7' in position 0: ordinal not in range(128)\n",
      "'ascii' codec can't encode character '\\xd8' in position 0: ordinal not in range(128)\n",
      "'ascii' codec can't encode character '\\xd9' in position 0: ordinal not in range(128)\n",
      "'ascii' codec can't encode character '\\xda' in position 0: ordinal not in range(128)\n",
      "'ascii' codec can't encode character '\\xdb' in position 0: ordinal not in range(128)\n",
      "'ascii' codec can't encode character '\\xdc' in position 0: ordinal not in range(128)\n",
      "'ascii' codec can't encode character '\\xdd' in position 0: ordinal not in range(128)\n",
      "'ascii' codec can't encode character '\\xde' in position 0: ordinal not in range(128)\n",
      "'ascii' codec can't encode character '\\xdf' in position 0: ordinal not in range(128)\n",
      "'ascii' codec can't encode character '\\xe0' in position 0: ordinal not in range(128)\n",
      "'ascii' codec can't encode character '\\xe1' in position 0: ordinal not in range(128)\n",
      "'ascii' codec can't encode character '\\xe2' in position 0: ordinal not in range(128)\n",
      "'ascii' codec can't encode character '\\xe3' in position 0: ordinal not in range(128)\n",
      "'ascii' codec can't encode character '\\xe4' in position 0: ordinal not in range(128)\n",
      "'ascii' codec can't encode character '\\xe5' in position 0: ordinal not in range(128)\n",
      "'ascii' codec can't encode character '\\xe6' in position 0: ordinal not in range(128)\n",
      "'ascii' codec can't encode character '\\xe7' in position 0: ordinal not in range(128)\n",
      "'ascii' codec can't encode character '\\xe8' in position 0: ordinal not in range(128)\n",
      "'ascii' codec can't encode character '\\xe9' in position 0: ordinal not in range(128)\n",
      "'ascii' codec can't encode character '\\xea' in position 0: ordinal not in range(128)\n",
      "'ascii' codec can't encode character '\\xeb' in position 0: ordinal not in range(128)\n",
      "'ascii' codec can't encode character '\\xec' in position 0: ordinal not in range(128)\n",
      "'ascii' codec can't encode character '\\xed' in position 0: ordinal not in range(128)\n",
      "'ascii' codec can't encode character '\\xee' in position 0: ordinal not in range(128)\n",
      "'ascii' codec can't encode character '\\xef' in position 0: ordinal not in range(128)\n",
      "'ascii' codec can't encode character '\\xf0' in position 0: ordinal not in range(128)\n",
      "'ascii' codec can't encode character '\\xf1' in position 0: ordinal not in range(128)\n",
      "'ascii' codec can't encode character '\\xf2' in position 0: ordinal not in range(128)\n",
      "'ascii' codec can't encode character '\\xf3' in position 0: ordinal not in range(128)\n",
      "'ascii' codec can't encode character '\\xf4' in position 0: ordinal not in range(128)\n",
      "'ascii' codec can't encode character '\\xf5' in position 0: ordinal not in range(128)\n",
      "'ascii' codec can't encode character '\\xf6' in position 0: ordinal not in range(128)\n",
      "'ascii' codec can't encode character '\\xf7' in position 0: ordinal not in range(128)\n",
      "'ascii' codec can't encode character '\\xf8' in position 0: ordinal not in range(128)\n",
      "'ascii' codec can't encode character '\\xf9' in position 0: ordinal not in range(128)\n",
      "'ascii' codec can't encode character '\\xfa' in position 0: ordinal not in range(128)\n",
      "'ascii' codec can't encode character '\\xfb' in position 0: ordinal not in range(128)\n",
      "'ascii' codec can't encode character '\\xfc' in position 0: ordinal not in range(128)\n",
      "'ascii' codec can't encode character '\\xfd' in position 0: ordinal not in range(128)\n",
      "'ascii' codec can't encode character '\\xfe' in position 0: ordinal not in range(128)\n",
      "'ascii' codec can't encode character '\\xff' in position 0: ordinal not in range(128)\n"
     ]
    }
   ],
   "source": [
    "# codec `ascii` only first 128\n",
    "\n",
    "for i in range(256):\n",
    "  i = chr(i)\n",
    "  try:\n",
    "    print(f\"{i:<10} {str(i.encode('ascii')):<10} {unicodedata.name(i)}\")\n",
    "  except (UnicodeEncodeError, ValueError) as e:\n",
    "    print(e)"
   ]
  },
  {
   "cell_type": "code",
   "execution_count": null,
   "metadata": {},
   "outputs": [
    {
     "data": {
      "text/plain": [
       "True"
      ]
     },
     "metadata": {},
     "output_type": "display_data"
    }
   ],
   "source": [
    "# ASCII requires no more than one byte of space.\n",
    "all(len(chr(i).encode('ascii')) == 1 for i in range(128))"
   ]
  },
  {
   "cell_type": "markdown",
   "metadata": {},
   "source": [
    "---"
   ]
  },
  {
   "cell_type": "markdown",
   "metadata": {},
   "source": [
    "### Extended ASCII"
   ]
  },
  {
   "cell_type": "markdown",
   "metadata": {},
   "source": [
    "Code points 0-255 are mapped to bytes 0x0-0xff."
   ]
  },
  {
   "cell_type": "code",
   "execution_count": null,
   "metadata": {},
   "outputs": [
    {
     "name": "stdout",
     "output_type": "stream",
     "text": [
      "no such name\n",
      "no such name\n",
      "no such name\n",
      "no such name\n",
      "no such name\n",
      "no such name\n",
      "no such name\n",
      "no such name\n",
      "no such name\n",
      "no such name\n",
      "no such name\n",
      "no such name\n",
      "no such name\n",
      "no such name\n",
      "no such name\n",
      "no such name\n",
      "no such name\n",
      "no such name\n",
      "no such name\n",
      "no such name\n",
      "no such name\n",
      "no such name\n",
      "no such name\n",
      "no such name\n",
      "no such name\n",
      "no such name\n",
      "no such name\n",
      "no such name\n",
      "no such name\n",
      "no such name\n",
      "no such name\n",
      "no such name\n",
      "           b' '       SPACE\n",
      "!          b'!'       EXCLAMATION MARK\n",
      "\"          b'\"'       QUOTATION MARK\n",
      "#          b'#'       NUMBER SIGN\n",
      "$          b'$'       DOLLAR SIGN\n",
      "%          b'%'       PERCENT SIGN\n",
      "&          b'&'       AMPERSAND\n",
      "'          b\"'\"       APOSTROPHE\n",
      "(          b'('       LEFT PARENTHESIS\n",
      ")          b')'       RIGHT PARENTHESIS\n",
      "*          b'*'       ASTERISK\n",
      "+          b'+'       PLUS SIGN\n",
      ",          b','       COMMA\n",
      "-          b'-'       HYPHEN-MINUS\n",
      ".          b'.'       FULL STOP\n",
      "/          b'/'       SOLIDUS\n",
      "0          b'0'       DIGIT ZERO\n",
      "1          b'1'       DIGIT ONE\n",
      "2          b'2'       DIGIT TWO\n",
      "3          b'3'       DIGIT THREE\n",
      "4          b'4'       DIGIT FOUR\n",
      "5          b'5'       DIGIT FIVE\n",
      "6          b'6'       DIGIT SIX\n",
      "7          b'7'       DIGIT SEVEN\n",
      "8          b'8'       DIGIT EIGHT\n",
      "9          b'9'       DIGIT NINE\n",
      ":          b':'       COLON\n",
      ";          b';'       SEMICOLON\n",
      "<          b'<'       LESS-THAN SIGN\n",
      "=          b'='       EQUALS SIGN\n",
      ">          b'>'       GREATER-THAN SIGN\n",
      "?          b'?'       QUESTION MARK\n",
      "@          b'@'       COMMERCIAL AT\n",
      "A          b'A'       LATIN CAPITAL LETTER A\n",
      "B          b'B'       LATIN CAPITAL LETTER B\n",
      "C          b'C'       LATIN CAPITAL LETTER C\n",
      "D          b'D'       LATIN CAPITAL LETTER D\n",
      "E          b'E'       LATIN CAPITAL LETTER E\n",
      "F          b'F'       LATIN CAPITAL LETTER F\n",
      "G          b'G'       LATIN CAPITAL LETTER G\n",
      "H          b'H'       LATIN CAPITAL LETTER H\n",
      "I          b'I'       LATIN CAPITAL LETTER I\n",
      "J          b'J'       LATIN CAPITAL LETTER J\n",
      "K          b'K'       LATIN CAPITAL LETTER K\n",
      "L          b'L'       LATIN CAPITAL LETTER L\n",
      "M          b'M'       LATIN CAPITAL LETTER M\n",
      "N          b'N'       LATIN CAPITAL LETTER N\n",
      "O          b'O'       LATIN CAPITAL LETTER O\n",
      "P          b'P'       LATIN CAPITAL LETTER P\n",
      "Q          b'Q'       LATIN CAPITAL LETTER Q\n",
      "R          b'R'       LATIN CAPITAL LETTER R\n",
      "S          b'S'       LATIN CAPITAL LETTER S\n",
      "T          b'T'       LATIN CAPITAL LETTER T\n",
      "U          b'U'       LATIN CAPITAL LETTER U\n",
      "V          b'V'       LATIN CAPITAL LETTER V\n",
      "W          b'W'       LATIN CAPITAL LETTER W\n",
      "X          b'X'       LATIN CAPITAL LETTER X\n",
      "Y          b'Y'       LATIN CAPITAL LETTER Y\n",
      "Z          b'Z'       LATIN CAPITAL LETTER Z\n",
      "[          b'['       LEFT SQUARE BRACKET\n",
      "\\          b'\\\\'      REVERSE SOLIDUS\n",
      "]          b']'       RIGHT SQUARE BRACKET\n",
      "^          b'^'       CIRCUMFLEX ACCENT\n",
      "_          b'_'       LOW LINE\n",
      "`          b'`'       GRAVE ACCENT\n",
      "a          b'a'       LATIN SMALL LETTER A\n",
      "b          b'b'       LATIN SMALL LETTER B\n",
      "c          b'c'       LATIN SMALL LETTER C\n",
      "d          b'd'       LATIN SMALL LETTER D\n",
      "e          b'e'       LATIN SMALL LETTER E\n",
      "f          b'f'       LATIN SMALL LETTER F\n",
      "g          b'g'       LATIN SMALL LETTER G\n",
      "h          b'h'       LATIN SMALL LETTER H\n",
      "i          b'i'       LATIN SMALL LETTER I\n",
      "j          b'j'       LATIN SMALL LETTER J\n",
      "k          b'k'       LATIN SMALL LETTER K\n",
      "l          b'l'       LATIN SMALL LETTER L\n",
      "m          b'm'       LATIN SMALL LETTER M\n",
      "n          b'n'       LATIN SMALL LETTER N\n",
      "o          b'o'       LATIN SMALL LETTER O\n",
      "p          b'p'       LATIN SMALL LETTER P\n",
      "q          b'q'       LATIN SMALL LETTER Q\n",
      "r          b'r'       LATIN SMALL LETTER R\n",
      "s          b's'       LATIN SMALL LETTER S\n",
      "t          b't'       LATIN SMALL LETTER T\n",
      "u          b'u'       LATIN SMALL LETTER U\n",
      "v          b'v'       LATIN SMALL LETTER V\n",
      "w          b'w'       LATIN SMALL LETTER W\n",
      "x          b'x'       LATIN SMALL LETTER X\n",
      "y          b'y'       LATIN SMALL LETTER Y\n",
      "z          b'z'       LATIN SMALL LETTER Z\n",
      "{          b'{'       LEFT CURLY BRACKET\n",
      "|          b'|'       VERTICAL LINE\n",
      "}          b'}'       RIGHT CURLY BRACKET\n",
      "~          b'~'       TILDE\n",
      "no such name\n",
      "no such name\n",
      "no such name\n",
      "no such name\n",
      "no such name\n",
      "no such name\n",
      "no such name\n",
      "no such name\n",
      "no such name\n",
      "no such name\n",
      "no such name\n",
      "no such name\n",
      "no such name\n",
      "no such name\n",
      "no such name\n",
      "no such name\n",
      "no such name\n",
      "no such name\n",
      "no such name\n",
      "no such name\n",
      "no such name\n",
      "no such name\n",
      "no such name\n",
      "no such name\n",
      "no such name\n",
      "no such name\n",
      "no such name\n",
      "no such name\n",
      "no such name\n",
      "no such name\n",
      "no such name\n",
      "no such name\n",
      "no such name\n",
      "           b'\\xa0'    NO-BREAK SPACE\n",
      "¡          b'\\xa1'    INVERTED EXCLAMATION MARK\n",
      "¢          b'\\xa2'    CENT SIGN\n",
      "£          b'\\xa3'    POUND SIGN\n",
      "¤          b'\\xa4'    CURRENCY SIGN\n",
      "¥          b'\\xa5'    YEN SIGN\n",
      "¦          b'\\xa6'    BROKEN BAR\n",
      "§          b'\\xa7'    SECTION SIGN\n",
      "¨          b'\\xa8'    DIAERESIS\n",
      "©          b'\\xa9'    COPYRIGHT SIGN\n",
      "ª          b'\\xaa'    FEMININE ORDINAL INDICATOR\n",
      "«          b'\\xab'    LEFT-POINTING DOUBLE ANGLE QUOTATION MARK\n",
      "¬          b'\\xac'    NOT SIGN\n",
      "­          b'\\xad'    SOFT HYPHEN\n",
      "®          b'\\xae'    REGISTERED SIGN\n",
      "¯          b'\\xaf'    MACRON\n",
      "°          b'\\xb0'    DEGREE SIGN\n",
      "±          b'\\xb1'    PLUS-MINUS SIGN\n",
      "²          b'\\xb2'    SUPERSCRIPT TWO\n",
      "³          b'\\xb3'    SUPERSCRIPT THREE\n",
      "´          b'\\xb4'    ACUTE ACCENT\n",
      "µ          b'\\xb5'    MICRO SIGN\n",
      "¶          b'\\xb6'    PILCROW SIGN\n",
      "·          b'\\xb7'    MIDDLE DOT\n",
      "¸          b'\\xb8'    CEDILLA\n",
      "¹          b'\\xb9'    SUPERSCRIPT ONE\n",
      "º          b'\\xba'    MASCULINE ORDINAL INDICATOR\n",
      "»          b'\\xbb'    RIGHT-POINTING DOUBLE ANGLE QUOTATION MARK\n",
      "¼          b'\\xbc'    VULGAR FRACTION ONE QUARTER\n",
      "½          b'\\xbd'    VULGAR FRACTION ONE HALF\n",
      "¾          b'\\xbe'    VULGAR FRACTION THREE QUARTERS\n",
      "¿          b'\\xbf'    INVERTED QUESTION MARK\n",
      "À          b'\\xc0'    LATIN CAPITAL LETTER A WITH GRAVE\n",
      "Á          b'\\xc1'    LATIN CAPITAL LETTER A WITH ACUTE\n",
      "Â          b'\\xc2'    LATIN CAPITAL LETTER A WITH CIRCUMFLEX\n",
      "Ã          b'\\xc3'    LATIN CAPITAL LETTER A WITH TILDE\n",
      "Ä          b'\\xc4'    LATIN CAPITAL LETTER A WITH DIAERESIS\n",
      "Å          b'\\xc5'    LATIN CAPITAL LETTER A WITH RING ABOVE\n",
      "Æ          b'\\xc6'    LATIN CAPITAL LETTER AE\n",
      "Ç          b'\\xc7'    LATIN CAPITAL LETTER C WITH CEDILLA\n",
      "È          b'\\xc8'    LATIN CAPITAL LETTER E WITH GRAVE\n",
      "É          b'\\xc9'    LATIN CAPITAL LETTER E WITH ACUTE\n",
      "Ê          b'\\xca'    LATIN CAPITAL LETTER E WITH CIRCUMFLEX\n",
      "Ë          b'\\xcb'    LATIN CAPITAL LETTER E WITH DIAERESIS\n",
      "Ì          b'\\xcc'    LATIN CAPITAL LETTER I WITH GRAVE\n",
      "Í          b'\\xcd'    LATIN CAPITAL LETTER I WITH ACUTE\n",
      "Î          b'\\xce'    LATIN CAPITAL LETTER I WITH CIRCUMFLEX\n",
      "Ï          b'\\xcf'    LATIN CAPITAL LETTER I WITH DIAERESIS\n",
      "Ð          b'\\xd0'    LATIN CAPITAL LETTER ETH\n",
      "Ñ          b'\\xd1'    LATIN CAPITAL LETTER N WITH TILDE\n",
      "Ò          b'\\xd2'    LATIN CAPITAL LETTER O WITH GRAVE\n",
      "Ó          b'\\xd3'    LATIN CAPITAL LETTER O WITH ACUTE\n",
      "Ô          b'\\xd4'    LATIN CAPITAL LETTER O WITH CIRCUMFLEX\n",
      "Õ          b'\\xd5'    LATIN CAPITAL LETTER O WITH TILDE\n",
      "Ö          b'\\xd6'    LATIN CAPITAL LETTER O WITH DIAERESIS\n",
      "×          b'\\xd7'    MULTIPLICATION SIGN\n",
      "Ø          b'\\xd8'    LATIN CAPITAL LETTER O WITH STROKE\n",
      "Ù          b'\\xd9'    LATIN CAPITAL LETTER U WITH GRAVE\n",
      "Ú          b'\\xda'    LATIN CAPITAL LETTER U WITH ACUTE\n",
      "Û          b'\\xdb'    LATIN CAPITAL LETTER U WITH CIRCUMFLEX\n",
      "Ü          b'\\xdc'    LATIN CAPITAL LETTER U WITH DIAERESIS\n",
      "Ý          b'\\xdd'    LATIN CAPITAL LETTER Y WITH ACUTE\n",
      "Þ          b'\\xde'    LATIN CAPITAL LETTER THORN\n",
      "ß          b'\\xdf'    LATIN SMALL LETTER SHARP S\n",
      "à          b'\\xe0'    LATIN SMALL LETTER A WITH GRAVE\n",
      "á          b'\\xe1'    LATIN SMALL LETTER A WITH ACUTE\n",
      "â          b'\\xe2'    LATIN SMALL LETTER A WITH CIRCUMFLEX\n",
      "ã          b'\\xe3'    LATIN SMALL LETTER A WITH TILDE\n",
      "ä          b'\\xe4'    LATIN SMALL LETTER A WITH DIAERESIS\n",
      "å          b'\\xe5'    LATIN SMALL LETTER A WITH RING ABOVE\n",
      "æ          b'\\xe6'    LATIN SMALL LETTER AE\n",
      "ç          b'\\xe7'    LATIN SMALL LETTER C WITH CEDILLA\n",
      "è          b'\\xe8'    LATIN SMALL LETTER E WITH GRAVE\n",
      "é          b'\\xe9'    LATIN SMALL LETTER E WITH ACUTE\n",
      "ê          b'\\xea'    LATIN SMALL LETTER E WITH CIRCUMFLEX\n",
      "ë          b'\\xeb'    LATIN SMALL LETTER E WITH DIAERESIS\n",
      "ì          b'\\xec'    LATIN SMALL LETTER I WITH GRAVE\n",
      "í          b'\\xed'    LATIN SMALL LETTER I WITH ACUTE\n",
      "î          b'\\xee'    LATIN SMALL LETTER I WITH CIRCUMFLEX\n",
      "ï          b'\\xef'    LATIN SMALL LETTER I WITH DIAERESIS\n",
      "ð          b'\\xf0'    LATIN SMALL LETTER ETH\n",
      "ñ          b'\\xf1'    LATIN SMALL LETTER N WITH TILDE\n",
      "ò          b'\\xf2'    LATIN SMALL LETTER O WITH GRAVE\n",
      "ó          b'\\xf3'    LATIN SMALL LETTER O WITH ACUTE\n",
      "ô          b'\\xf4'    LATIN SMALL LETTER O WITH CIRCUMFLEX\n",
      "õ          b'\\xf5'    LATIN SMALL LETTER O WITH TILDE\n",
      "ö          b'\\xf6'    LATIN SMALL LETTER O WITH DIAERESIS\n",
      "÷          b'\\xf7'    DIVISION SIGN\n",
      "ø          b'\\xf8'    LATIN SMALL LETTER O WITH STROKE\n",
      "ù          b'\\xf9'    LATIN SMALL LETTER U WITH GRAVE\n",
      "ú          b'\\xfa'    LATIN SMALL LETTER U WITH ACUTE\n",
      "û          b'\\xfb'    LATIN SMALL LETTER U WITH CIRCUMFLEX\n",
      "ü          b'\\xfc'    LATIN SMALL LETTER U WITH DIAERESIS\n",
      "ý          b'\\xfd'    LATIN SMALL LETTER Y WITH ACUTE\n",
      "þ          b'\\xfe'    LATIN SMALL LETTER THORN\n",
      "ÿ          b'\\xff'    LATIN SMALL LETTER Y WITH DIAERESIS\n",
      "'latin-1' codec can't encode character '\\u0100' in position 0: ordinal not in range(256)\n"
     ]
    }
   ],
   "source": [
    "# codec `latin-1` only first 256\n",
    "\n",
    "for i in range(257):\n",
    "  i = chr(i)\n",
    "  try:\n",
    "    print(f\"{i:<10} {str(i.encode('latin-1')):<10} {unicodedata.name(i)}\")\n",
    "  except (UnicodeEncodeError, ValueError) as e:\n",
    "    print(e)"
   ]
  },
  {
   "cell_type": "code",
   "execution_count": null,
   "metadata": {},
   "outputs": [
    {
     "data": {
      "text/plain": [
       "True"
      ]
     },
     "metadata": {},
     "output_type": "display_data"
    }
   ],
   "source": [
    "# Extended ASCII requires no more than one byte of space.\n",
    "all(len(chr(i).encode('latin-1')) == 1 for i in range(256))"
   ]
  },
  {
   "cell_type": "markdown",
   "metadata": {},
   "source": [
    "---"
   ]
  },
  {
   "cell_type": "markdown",
   "metadata": {},
   "source": [
    "### UTF-8"
   ]
  },
  {
   "cell_type": "markdown",
   "metadata": {},
   "source": [
    "* 8-bit encoding: this means that there are no issues with byte order and no BOM is required\n",
    "* each byte consists of two parts\n",
    "  * marker bits (most significant bits): a sequence of zero to four `1` bits followed by a `0` bit\n",
    "  * payload bits\n",
    "* the LSB of the Unicode character is the rightmost x bit"
   ]
  },
  {
   "cell_type": "markdown",
   "metadata": {},
   "source": [
    "Range | Encoding\n",
    "------|---------\n",
    "`U-00000000...U-0000007F` | 0xxxxxxx\n",
    "`U-00000080...U-000007FF` | 110xxxxx 10xxxxxx\n",
    "`U-00000800...U-0000FFFF` | 1110xxxx 10xxxxxx 10xxxxxx\n",
    "`U-00010000...U-0010FFFF` | 11110xxx 10xxxxxx 10xxxxxx 10xxxxxx"
   ]
  },
  {
   "cell_type": "markdown",
   "metadata": {},
   "source": [
    "---"
   ]
  },
  {
   "cell_type": "markdown",
   "metadata": {},
   "source": [
    "## File Formats"
   ]
  },
  {
   "cell_type": "markdown",
   "metadata": {},
   "source": [
    "File Type             | Magic Number (hex)      | Magic Number (ASCII) | File Offset [bytes] | File Name Extension\n",
    "----------------------|-------------------------|----------------------|---------------------|--------------------\n",
    "DOS executable        | 4D 5A                   | MZ                   | 0                   | `.exe`\n",
    "ELF                   | 7F 45 4C 46             | \\x7fELF (␡ELF)      | 0                   | `.elf`\n",
    "GIF                   | | GIF87a | | `.gif`\n",
    ".                     | | GIF89a | | `.gif`\n",
    "HDF                   | | \\211HDF\\r\\n\\032\\n | | `.hd5`, `.hdf5`\n",
    "Java Class            | CA FE BA BE             | Êþº¾ | | `.class`\n",
    "JAR                   | 50 4B 03 04             | PK\\x03\\x04 | | `.jar`\n",
    "JPEG                  | FF D8 FF DB             | ÿØÿÛ                 | 0 | `.jpg`, `.jpeg`\n",
    "Linux/Unix Script     | 23 21                   | #! | | `.sh`\n",
    "MIDI                  | 4D 54 68 64             | MThd (\"MIDI Track Header\")\n",
    "PDF                   | 25 50 44 46             | %PDF | | `.pdf`\n",
    "PNG                   | 89 50 4E 47 0D 0A 1A 0A | \\x89PNG\\r\\n\\x1a\\n (‰PNG␍␊␚␊) | | `.png`\n",
    "PS                    | 25 21 (50 53)           | %!(PS) | | `.ps`\n",
    "TIFF (Intel little end) | 49 49 2A 00           | II* | | `.tif`, `.tiff`\n",
    "TIFF (Motorola big end) | 4D 4D 00 2A           | MM*\n",
    "XML                   | | <?xml | | `.xml`\n",
    "Zip                   | 50 4B 03 04             | PK\\x03\\x04           | 0\n",
    ". | 50 4B 05 06 |\n",
    ". | 50 4B 07 08 |"
   ]
  },
  {
   "cell_type": "code",
   "execution_count": 16,
   "metadata": {},
   "outputs": [
    {
     "name": "stdout",
     "output_type": "stream",
     "text": [
      "DOS                            MZ\n",
      "ELF                            ELF\n",
      "Java Archive                   PK\u0003\u0004\n",
      "Java Class                     Êþº¾\n",
      "JPEG                           ÿØÿÛ\n",
      "Linux/Unix Script              #!\n",
      "MIDI                           MThd\n",
      "PDF                            %PDF\n",
      "PNG                            PNG\n",
      "\u001a\n",
      "\n",
      "PS                             %!PS\n",
      "TIFF (Intel little end)        II*\u0000\n",
      "TIFF (Motorola big end)        MM\u0000*\n",
      "Zip                            PK\u0003\u0004\n"
     ]
    }
   ],
   "source": [
    "pad=30\n",
    "print(f\"{'DOS'                    :<{pad}} {''.join([chr(c) for c in [0x4d, 0x5a]])}\")\n",
    "print(f\"{'ELF'                    :<{pad}} {''.join([chr(c) for c in [0x7f, 0x45, 0x4c, 0x46]])}\")\n",
    "print(f\"{'Java Archive'           :<{pad}} {''.join([chr(c) for c in [0x50, 0x4b, 0x03, 0x04]])}\")\n",
    "print(f\"{'Java Class'             :<{pad}} {''.join([chr(c) for c in [0xca, 0xfe, 0xba, 0xbe]])}\")\n",
    "print(f\"{'JPEG'                   :<{pad}} {''.join([chr(c) for c in [0xff, 0xd8, 0xff, 0xdb]])}\")\n",
    "print(f\"{'Linux/Unix Script'      :<{pad}} {''.join([chr(c) for c in [0x23, 0x21]])}\")\n",
    "print(f\"{'MIDI'                   :<{pad}} {''.join([chr(c) for c in [0x4D, 0x54, 0x68, 0x64]])}\")\n",
    "print(f\"{'PDF'                    :<{pad}} {''.join([chr(c) for c in [0x25, 0x50, 0x44, 0x46]])}\")\n",
    "print(f\"{'PNG'                    :<{pad}} {''.join([chr(c) for c in [0x89, 0x50, 0x4e, 0x47, 0x0d, 0x0a, 0x1a, 0x0a]])}\")\n",
    "print(f\"{'PS'                     :<{pad}} {''.join([chr(c) for c in [0x25, 0x21, 0x50, 0x53]])}\")\n",
    "print(f\"{'TIFF (Intel little end)':<{pad}} {''.join([chr(c) for c in [0x49, 0x49, 0x2A, 0x00]])}\")\n",
    "print(f\"{'TIFF (Motorola big end)':<{pad}} {''.join([chr(c) for c in [0x4D, 0x4D, 0x00, 0x2A]])}\")\n",
    "print(f\"{'Zip'                    :<{pad}} {''.join([chr(c) for c in [0x50, 0x4b, 0x03, 0x04]])}\")"
   ]
  },
  {
   "cell_type": "markdown",
   "metadata": {},
   "source": [
    "---"
   ]
  },
  {
   "cell_type": "markdown",
   "metadata": {},
   "source": [
    "## Figures"
   ]
  },
  {
   "cell_type": "markdown",
   "metadata": {},
   "source": [
    "* [ [h](https://www.crockford.com/putin.html) ][ [y](https://www.youtube.com/playlist?list=PLEzQf147-uEoNCeDlRrXv6ClsLDN-HtNm) ][ [w](https://en.wikipedia.org/wiki/Douglas_Crockford) ] Crockford, Douglas\n",
    "* [ [w](https://en.wikipedia.org/wiki/Mark_Zbikowski) ] Zibkowski, Mark (1956-)"
   ]
  },
  {
   "cell_type": "markdown",
   "metadata": {},
   "source": [
    "---"
   ]
  },
  {
   "cell_type": "markdown",
   "metadata": {},
   "source": [
    "## Resources"
   ]
  },
  {
   "cell_type": "markdown",
   "metadata": {},
   "source": [
    "* Named Character References [HTML](https://html.spec.whatwg.org/multipage/named-characters.html)"
   ]
  },
  {
   "cell_type": "markdown",
   "metadata": {},
   "source": [
    "* [ h ][ [w](https://en.wikipedia.org/wiki/BMP_file_format) ] Bitmap (BMP) `.bmp`\n",
    "* [ h ][ [w](https://en.wikipedia.org/wiki/Comma-separated_values) ] Comma-Separated Values (CSV) `.csv`\n",
    "* [ h ][ [w](https://en.wikipedia.org/wiki/DOS_MZ_executable) ] DOS MZ \"Mark Zibkowski\" Executable `.exe`\n",
    "* [ h ][ [w](https://en.wikipedia.org/wiki/XML) ] Extensible Markup Language (XML) `.xml`\n",
    "* [ h ][ [w](https://en.wikipedia.org/wiki/GIF) ] Graphics Interchange Format (GIF) `.gif`\n",
    "* [ h ][ [w](https://en.wikipedia.org/wiki/Hierarchical_Data_Format) ] Hierarchical Data Foramt (HDF) `.hd5`, `.hdf5`\n",
    "* [ h ][ [w](https://en.wikipedia.org/wiki/JPEG) ] Joint Photographic Experts Group (JPEG) `.jpg`, `.jpeg`\n",
    "* [ h ][ [w](https://en.wikipedia.org/wiki/JAR_(file_format)) ] Java Archive File (JAR) `.jar`\n",
    "* [ [h](https://www.json.org/) ][ [w](https://en.wikipedia.org/wiki/JSON) ] JavaScript Object Notation (JSON) `.json`\n",
    "* [ [h](https://geojson.org) ][ [w](https://en.wikipedia.org/wiki/GeoJSON) ] GeoJSON\n",
    "  * [IETF](https://datatracker.ietf.org/doc/html/rfc7946)\n",
    "* [ h ][ [w](https://en.wikipedia.org/wiki/MP3) ] MP3\n",
    "* [ h ][ [w](https://en.wikipedia.org/wiki/MIDI) ] Musical Instrument Digital Interface (MIDI)\n",
    "* [ [h](https://parquet.apache.org/) ][ [w](https://en.wikipedia.org/wiki/Apache_Parquet) ] Parquet\n",
    "* [ h ][ [w](https://en.wikipedia.org/wiki/PDF) ] Portable Document Format (PDF) `.pdf`\n",
    "* [ h ][ [w](https://en.wikipedia.org/wiki/Portable_Network_Graphics) ] Portable Network Graphics (PNG) `.png`\n",
    "* [ h ][ w ] Scalable Vector Graphics (SVG) `.svg`\n",
    "* [ h ][ w ] Tab-Separated Values (TSV) `.tsv`\n",
    "* [ h ][ [w](https://en.wikipedia.org/wiki/TIFF) ] Tag(ged) Image File Format (TIFF)\n",
    "* [ [h](https://toml.io/en/) ][ [w](https://en.wikipedia.org/wiki/TOML) ] Tom's Obvious Minimal Language (TOML)\n",
    "* [ [h](https://home.unicode.org) ][ [w](https://en.wikipedia.org/wiki/Unicode) ] Unicode\n",
    "* [ h ][ [w](https://en.wikipedia.org/wiki/WAV) ] Waveform Audio File Format (WAV) `.wav`, `.wave`\n",
    "* [ [h](https://yaml.org) ][ [w](https://en.wikipedia.org/wiki/YAML) ] Yet Another Markup Language (YAML) `.yml`, `.yaml`\n",
    "* [ [h](https://tukaani.org/xz/) ][ [w](https://en.wikipedia.org/wiki/XZ_Utils) ] xz"
   ]
  },
  {
   "cell_type": "markdown",
   "metadata": {},
   "source": [
    "---"
   ]
  },
  {
   "cell_type": "markdown",
   "metadata": {},
   "source": [
    "## Terms"
   ]
  },
  {
   "cell_type": "markdown",
   "metadata": {},
   "source": [
    "* [ [w](https://en.wikipedia.org/wiki/.exe) ] .exe\n",
    "* [ [w](https://en.wikipedia.org/wiki/ANSI_escape_code) ] ANSI Escape Sequences\n",
    "* [ [w](https://en.wikipedia.org/wiki/Archive_file_format) ] Archive File\n",
    "  * [ [w](https://en.wikipedia.org/wiki/List_of_archive_formats) ] list of archive formats\n",
    "* [ [w](https://en.wikipedia.org/wiki/ASCII) ] American Standard Code for Information Interchange (ASCII)\n",
    "* [ [w](https://en.wikipedia.org/wiki/Audio_file_format) ] Audio File Format\n",
    "* [ w ] Big Endian\n",
    "* [ [w](https://en.wikipedia.org/wiki/BCD_(character_encoding)) ] Binary-Coded Decimal Interchange Code (BCDIC)\n",
    "* [ [w](https://en.wikipedia.org/wiki/Binary-to-text_encoding) ] Binary-to-Text Encoding\n",
    "* [ [w](https://en.wikipedia.org/wiki/Binary_code) ] Binary Code\n",
    "* [ [w](https://en.wikipedia.org/wiki/Binary_file) ] Binary File\n",
    "* [ [w](https://en.wikipedia.org/wiki/Bit_numbering) ] Bit Numbering\n",
    "* [ [w](https://en.wikipedia.org/wiki/Bit_array) ] Bit String\n",
    "* [ [w](https://en.wikipedia.org/wiki/Byte) ] Byte\n",
    "* [ [w](https://en.wikipedia.org/wiki/Byte_order_mark) ] Byte Order Mark (BOM)\n",
    "* [ [w](https://en.wikipedia.org/wiki/C0_and_C1_control_codes) ] C0 & C1 Control Codes\n",
    "* [ [w](https://en.wikipedia.org/wiki/Caps_Lock) ] Caps Lock\n",
    "* [ [w](https://en.wikipedia.org/wiki/Caret_notation) ] Caret Notation\n",
    "* [ [w](https://en.wikipedia.org/wiki/Character_(computing)) ] Character\n",
    "* [ [w](https://en.wikipedia.org/wiki/Character_encoding) ] Character Encoding\n",
    "* [ [w](https://en.wikipedia.org/wiki/List_of_XML_and_HTML_character_entity_references) ] Character Entities\n",
    "* [ [w](https://en.wikipedia.org/wiki/Code) ] Code\n",
    "* [ [w](https://en.wikipedia.org/wiki/Code_page) ] Code Page\n",
    "* [ [w](https://en.wikipedia.org/wiki/Code_point) ] Code Point\n",
    "* [ [w](https://en.wikipedia.org/wiki/Codec) ] Codec\n",
    "* [ [w](https://en.wikipedia.org/wiki/Combining_character) ] Combining Character\n",
    "* [ [w](https://en.wikipedia.org/wiki/Complex_text_layout) ] Complex Text Layout (CTL)\n",
    "* [ [w](https://en.wikipedia.org/wiki/Container_format) ] Container Format\n",
    "* [ [w](https://en.wikipedia.org/wiki/Control_character) ] Control Character\n",
    "* [ [w](https://en.wikipedia.org/wiki/Control_Pictures) ] Control Picture\n",
    "* [ [w](https://en.wikipedia.org/wiki/Control-Alt-Delete) ] Ctrl-Alt-Del\n",
    "* [ [w](https://en.wikipedia.org/wiki/Control-C) ] Ctrl-C\n",
    "* [ [w](https://en.wikipedia.org/wiki/End-of-Transmission_character) ] Ctrl-D\n",
    "* [ [w](https://en.wikipedia.org/wiki/Substitute_character) ] Ctrl-Z\n",
    "* [ [w](https://en.wikipedia.org/wiki/Data_compression) ] Data Compression\n",
    "* [ [w](https://en.wikipedia.org/wiki/Data_compression_ratio) ] Data Compression Ratio\n",
    "* [ [w](https://en.wikipedia.org/wiki/Data_conversion) ] Data Conversion\n",
    "* [ [w](https://en.wikipedia.org/wiki/Data_file) ] Data File\n",
    "* [ [w](https://en.wikipedia.org/wiki/Deflate) ] Deflate\n",
    "* [ [w](https://en.wikipedia.org/wiki/Diacritic) ] Diacritic\n",
    "* [ [w](https://en.wikipedia.org/wiki/Diaeresis_(diacritic)) ] Diaeresis\n",
    "* [ [w](https://en.wikipedia.org/wiki/Dictionary_coder) ] Dictionary Coder\n",
    "* [ [w](https://en.wikipedia.org/wiki/Disk_image) ] Disk Image\n",
    "* [ [w](https://en.wikipedia.org/wiki/Template_(file_format)) ] Document Template\n",
    "* [ [w](https://en.wikipedia.org/wiki/Electronic_data_interchange) ] Electronic Data Interchange (EDI)\n",
    "* [ [w](https://en.wikipedia.org/wiki/End-of-file) ] End of File (EOF)\n",
    "* [ [w](https://en.wikipedia.org/wiki/Newline) ] End of Line (EOL)\n",
    "* [ [w](https://en.wikipedia.org/wiki/Endianness) ] Endianness\n",
    "* [ [w](https://en.wikipedia.org/wiki/Enriched_text) ] Enriched Text\n",
    "* [ [w](https://en.wikipedia.org/wiki/Escape_character) ] Escape Character\n",
    "* [ [w](https://en.wikipedia.org/wiki/Escape_sequence) ] Escape Sequence\n",
    "* [ [w](https://en.wikipedia.org/wiki/Escape_sequences_in_C) ] Escape Sequence in C\n",
    "* [ [w](https://en.wikipedia.org/wiki/Executable) ] Executable File\n",
    "  * [ [w](https://en.wikipedia.org/wiki/Comparison_of_executable_file_formats) ] list of executable file formats\n",
    "* [ [w](https://en.wikipedia.org/wiki/Executable_and_Linkable_Format) ] Executable and Linkable Format (ELF)\n",
    "* [ [w](https://en.wikipedia.org/wiki/Executable_compression) ] Executable Compression\n",
    "* [ [w](https://en.wikipedia.org/wiki/EBCDIC) ] Extended Binary Coded Decimal Interchange Code (EBCDIC)\n",
    "* [ [w](https://en.wikipedia.org/wiki/Extended_ASCII) ] Extended ASCII\n",
    "* [ [w](https://en.wikipedia.org/wiki/File_archiver) ] File Archiver\n",
    "* [ [w](https://en.wikipedia.org/wiki/Comparison_of_file_archivers) ] File Archivers\n",
    "* [ [w](https://en.wikipedia.org/wiki/File_format) ] File Format\n",
    "  * [ [w](https://en.wikipedia.org/wiki/List_of_file_formats) ] list of file formats\n",
    "* [ [w](https://en.wikipedia.org/wiki/Filename_extension) ] File Name Extension\n",
    "  * [ [w](https://en.wikipedia.org/wiki/List_of_filename_extensions) ] list of file name extensions\n",
    "  * [ [w](https://en.wikipedia.org/wiki/Glyph) ] Glyph\n",
    "* [ [w](https://en.wikipedia.org/wiki/Grapheme) ] Grapheme\n",
    "* [ [w](https://en.wikipedia.org/wiki/Grave_accent) ] Grave Accent\n",
    "* [ [w](https://en.wikipedia.org/wiki/GIF) ] Graphics Interchange Format (GIF)\n",
    "* [ [w](https://en.wikipedia.org/wiki/Guillemet) ] Guillemet\n",
    "* [ [w](https://en.wikipedia.org/wiki/Gzip) ] gzip\n",
    "* [ [w](https://en.wikipedia.org/wiki/Hexadecimal) ] Hexadecimal\n",
    "* [ [w](https://en.wikipedia.org/wiki/Huffman_coding) ] Huffman Coding\n",
    "* [ [w](https://en.wikipedia.org/wiki/Image_file_format) ] Image File Format\n",
    "  * [ [w](https://en.wikipedia.org/wiki/Comparison_of_graphics_file_formats) ] list of image file formats\n",
    "* [ [w](https://en.wikipedia.org/wiki/Interchange_File_Format) ] Interchange File Format (IFF)\n",
    "* [ [w](https://en.wikipedia.org/wiki/International_Phonetic_Alphabet) ] International Phonetic Alphabet (IPA)\n",
    "* [ [w](https://en.wikipedia.org/wiki/Internationalization_and_localization) ] Internationalization and Localization\n",
    "* [ [w](https://en.wikipedia.org/wiki/Java_class_file) ] Java Class File\n",
    "* [ [w](https://en.wikipedia.org/wiki/Language-independent_specification) ] Language-Independent Specification (LIS)\n",
    "* [ [w](https://en.wikipedia.org/wiki/Lempel%E2%80%93Ziv%E2%80%93Oberhumer) ] Lempel-Ziv-Oberhumer (LZO)\n",
    "* [ [w](https://en.wikipedia.org/wiki/Letter_case) ] Letter Case\n",
    "* [ [w](https://en.wikipedia.org/wiki/Ligature_(writing)) ] Ligature\n",
    "* [ [w](https://en.wikipedia.org/wiki/Line_(text_file)) ] Line\n",
    "* [ [w](https://en.wikipedia.org/wiki/Linear_predictive_coding) ] Linear Predictive Coding (LPC)\n",
    "* [ w ] Little Endian\n",
    "* [ [w](https://en.wikipedia.org/wiki/Lossless_compression) ] Lossless Compression\n",
    "* [ [w](https://en.wikipedia.org/wiki/Lossy_compression) ] Lossy Compression\n",
    "* [ [w](https://en.wikipedia.org/wiki/Letter_case) ] Lower Case (Miniscule)\n",
    "* [ [w](https://en.wikipedia.org/wiki/LZ77_and_LZ78) ] LZ77 LZ78\n",
    "* [ [w](https://en.wikipedia.org/wiki/Magic_number_(programming)) ] Magic Number\n",
    "* [ [w](https://en.wikipedia.org/wiki/Manifest_file) ] Manifest File\n",
    "* [ [w](https://en.wikipedia.org/wiki/Metacharacter) ] Metacharacter\n",
    "* [ [w](https://en.wikipedia.org/wiki/Mojibake) ] Mojibake\n",
    "* [ [w](https://en.wikipedia.org/wiki/List_of_XML_and_HTML_character_entity_references) ] Named Character Reference\n",
    "* [ [w](https://en.wikipedia.org/wiki/Newline) ] Newline\n",
    "* [ [w](https://en.wikipedia.org/wiki/Nibble) ] Nibble\n",
    "* [ [w](https://en.wikipedia.org/wiki/Null-terminated_string) ] Null-Terminated String\n",
    "* [ [w](https://en.wikipedia.org/wiki/Number_sign) ] Number Sign\n",
    "* [ [w](https://en.wikipedia.org/wiki/Numeric_character_reference) ] Numeric Character Reference\n",
    "* [ [w](https://en.wikipedia.org/wiki/Object_file) ] Object File\n",
    "* [ [w](https://en.wikipedia.org/wiki/Octet_(computing)) ] Octet\n",
    "* [ [w](https://en.wikipedia.org/wiki/Open_file_format) ] Open File Format\n",
    "* [ [w](https://en.wikipedia.org/wiki/OpenDocument) ] OpenDocument\n",
    "* [ [w](https://en.wikipedia.org/wiki/OpenType) ] OpenType\n",
    "* [ [w](https://en.wikipedia.org/wiki/Page_break) ] Page Break\n",
    "* [ [w](https://en.wikipedia.org/wiki/Pax_(command)) ] pax\n",
    "* [ [w](https://en.wikipedia.org/wiki/Percent-encoding) ] Percent Encoding\n",
    "* [ [w](https://en.wikipedia.org/wiki/Plain_text) ] Plain Text\n",
    "* [ [w](https://en.wikipedia.org/wiki/Plane_(Unicode)) ] Plane\n",
    "* [ [w](https://en.wikipedia.org/wiki/PostScript) ] PostScript (PS)\n",
    "* [ [w](https://en.wikipedia.org/wiki/Number_sign) ] Pound Sign\n",
    "* [ [w](https://en.wikipedia.org/wiki/Precomposed_character) ] Precomposed Character\n",
    "* [ [w](https://en.wikipedia.org/wiki/Punctuation) ] Punctuation\n",
    "* [ [w](https://en.wikipedia.org/wiki/Raster_graphics) ] Raster Graphics\n",
    "* [ [w](https://en.wikipedia.org/wiki/Formatted_text) ] Rich Text\n",
    "* [ [w](https://en.wikipedia.org/wiki/Ring_(diacritic)) ] Ring\n",
    "* [ [w](https://en.wikipedia.org/wiki/Run-length_encoding) ] Run-Length Encoding (RLE)\n",
    "* [ [w](https://en.wikipedia.org/wiki/Self-synchronizing_code) ] Self-Synchronizing Code\n",
    "* [ [w](https://en.wikipedia.org/wiki/Serialization) ] Serialization\n",
    "* [ [w](https://en.wikipedia.org/wiki/Shebang_(Unix)) ] Shebang\n",
    "* [ [w](https://en.wikipedia.org/wiki/Simple_Data_Format) ] Simple Data Format (SDF)\n",
    "* [ [w](https://en.wikipedia.org/wiki/Software_flow_control) ] Software Flow Control\n",
    "* [ [w](https://en.wikipedia.org/wiki/Specials_(Unicode_block)) ] Specials\n",
    "* [ [w](https://en.wikipedia.org/wiki/String_(computer_science)) ] String\n",
    "* [ [w](https://en.wikipedia.org/wiki/String_literal) ] String Literal\n",
    "* [ [w](https://en.wikipedia.org/wiki/Tab-separated_values) ] Tab-Separated Values\n",
    "* [ [w](https://en.wikipedia.org/wiki/Tab_stop) ] Tab Stop\n",
    "* [ [w](https://en.wikipedia.org/wiki/Tar_(computing)) ] tar\n",
    "* [ [w](https://en.wikipedia.org/wiki/Text_normalization) ] Text Normalization\n",
    "* [ [w](https://en.wikipedia.org/wiki/Touch_typing) ] Touch Typing\n",
    "* [ [w](https://en.wikipedia.org/wiki/Typeface) ] Typeface\n",
    "* [ [w](https://en.wikipedia.org/wiki/Unicode) ] Unicode\n",
    "* [ [w](https://en.wikipedia.org/wiki/Unicode_block) ] Unicode Block\n",
    "* [ [w](https://en.wikipedia.org/wiki/Unicode_character_property) ] Unicode Character Property\n",
    "* [ [w](https://en.wikipedia.org/wiki/Unicode_collation_algorithm) ] Unicode Collation Algorithm\n",
    "* [ [w](https://en.wikipedia.org/wiki/Unicode_Consortium) ] Unicode Consortium\n",
    "* [ [w](https://en.wikipedia.org/wiki/Unicode_equivalence) ] Unicode Equivalence\n",
    "* [ [w](https://en.wikipedia.org/wiki/Universal_Character_Set_characters) ] Universal Character Set (UCS) characters\n",
    "* [ [w](https://en.wikipedia.org/wiki/Universal_Coded_Character_Set) ] Universal Coded Character Set (UCS)\n",
    "* [ [w](https://en.wikipedia.org/wiki/Letter_case) ] Upper Case (Majuscule)\n",
    "* [ [w](https://en.wikipedia.org/wiki/Percent-encoding) ] URL Encoding\n",
    "* [ [w](https://en.wikipedia.org/wiki/UTF-16) ] UTF-16\n",
    "* [ [w](https://en.wikipedia.org/wiki/UTF-8) ] UTF-8\n",
    "* [ [w](https://en.wikipedia.org/wiki/Variable-width_encoding) ] Variable-Width Encoding\n",
    "* [ [w](https://en.wikipedia.org/wiki/Video_file_format) ] Video File Format\n",
    "* [ [w](https://en.wikipedia.org/wiki/Whitespace_character) ] Whitespace\n",
    "* [ [w](https://en.wikipedia.org/wiki/Word_(computer_architecture)) ] Word\n",
    "* [ [w](https://en.wikipedia.org/wiki/Writing_system) ] Writing System\n",
    "* [ [w](https://en.wikipedia.org/wiki/ZIP_(file_format)) ] Zip\n",
    "* [ [w](https://en.wikipedia.org/wiki/Zlib) ] Zlib\n",
    "* [ [w](https://en.wikipedia.org/wiki/Zstd) ] Zstd"
   ]
  },
  {
   "cell_type": "markdown",
   "metadata": {},
   "source": [
    "---"
   ]
  }
 ],
 "metadata": {
  "kernelspec": {
   "display_name": "Python 3 (ipykernel)",
   "language": "python",
   "name": "python3"
  },
  "language_info": {
   "codemirror_mode": {
    "name": "ipython",
    "version": 3
   },
   "file_extension": ".py",
   "mimetype": "text/x-python",
   "name": "python",
   "nbconvert_exporter": "python",
   "pygments_lexer": "ipython3",
   "version": "3.11.5"
  }
 },
 "nbformat": 4,
 "nbformat_minor": 4
}
