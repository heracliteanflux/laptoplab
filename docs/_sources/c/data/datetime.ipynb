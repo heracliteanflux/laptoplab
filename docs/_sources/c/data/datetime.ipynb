{
 "cells": [
  {
   "attachments": {},
   "cell_type": "markdown",
   "metadata": {},
   "source": [
    "# Date Times"
   ]
  },
  {
   "attachments": {},
   "cell_type": "markdown",
   "metadata": {},
   "source": [
    "---"
   ]
  },
  {
   "attachments": {},
   "cell_type": "markdown",
   "metadata": {},
   "source": [
    "## Table of Contents\n",
    "```{contents}\n",
    "```"
   ]
  },
  {
   "attachments": {},
   "cell_type": "markdown",
   "metadata": {},
   "source": [
    "---"
   ]
  },
  {
   "cell_type": "code",
   "execution_count": 1,
   "metadata": {},
   "outputs": [],
   "source": [
    "import calendar\n",
    "import datetime\n",
    "import time"
   ]
  },
  {
   "attachments": {},
   "cell_type": "markdown",
   "metadata": {},
   "source": [
    "---"
   ]
  },
  {
   "attachments": {},
   "cell_type": "markdown",
   "metadata": {},
   "source": [
    "## Terms"
   ]
  },
  {
   "attachments": {},
   "cell_type": "markdown",
   "metadata": {},
   "source": [
    "* [ [w](https://en.wikipedia.org/wiki/Civil_time) ] Civil Time\n",
    "* [ [w](https://en.wikipedia.org/wiki/Coordinated_Universal_Time) ] Coordinated Universal Time (UTC)\n",
    "* [ [w](https://en.wikipedia.org/wiki/Epoch_(computing)) ] Epoch\n",
    "* [ [w](https://en.wikipedia.org/wiki/Gregorian_calendar) ] Gregorian Calendar\n",
    "* [ [w](https://en.wikipedia.org/wiki/Julian_calendar) ] Julian Calendar\n",
    "* [ [w](https://en.wikipedia.org/wiki/Leap_second) ] Leap Second\n",
    "* [ [w](https://en.wikipedia.org/wiki/Leap_year_problem) ] Leap Year Problem\n",
    "* [ [w](https://en.wikipedia.org/wiki/Nanosecond) ] Nanosecond\n",
    "* [ [w](https://en.wikipedia.org/wiki/Network_Time_Protocol) ] Network Time Protocol (NTP)\n",
    "* [ [w](https://en.wikipedia.org/wiki/System_time) ] System Time\n",
    "* [ [w](https://en.wikipedia.org/wiki/Time_formatting_and_storage_bugs) ] Time Formatting and storage bugs\n",
    "* [ [w](https://en.wikipedia.org/wiki/Timestamp) ] Timestamp\n",
    "* [ [w](https://en.wikipedia.org/wiki/Tz_database) ] tz Database\n",
    "* [ [w](https://en.wikipedia.org/wiki/Universal_Time) ] Universal Time\n",
    "* [ [w](https://en.wikipedia.org/wiki/Unix_time) ] Unix Time\n",
    "* [ [w](https://en.wikipedia.org/wiki/Year_1900_problem) ] Year 1900 Problem\n",
    "* [ [w](https://en.wikipedia.org/wiki/Year_2000_problem) ] Year 2000 Problem\n",
    "* [ [w](https://en.wikipedia.org/wiki/Year_2011_problem) ] Year 2011 Problem\n",
    "* [ [w](https://en.wikipedia.org/wiki/Year_2038_problem) ] Year 2038 Problem"
   ]
  },
  {
   "attachments": {},
   "cell_type": "markdown",
   "metadata": {},
   "source": [
    "---"
   ]
  }
 ],
 "metadata": {
  "kernelspec": {
   "display_name": "main",
   "language": "python",
   "name": "python3"
  },
  "language_info": {
   "codemirror_mode": {
    "name": "ipython",
    "version": 3
   },
   "file_extension": ".py",
   "mimetype": "text/x-python",
   "name": "python",
   "nbconvert_exporter": "python",
   "pygments_lexer": "ipython3",
   "version": "3.10.8"
  },
  "orig_nbformat": 4
 },
 "nbformat": 4,
 "nbformat_minor": 2
}
