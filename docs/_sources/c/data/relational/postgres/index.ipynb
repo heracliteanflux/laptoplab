{
 "cells": [
  {
   "cell_type": "markdown",
   "metadata": {},
   "source": [
    "# PostgreSQL"
   ]
  },
  {
   "cell_type": "markdown",
   "metadata": {},
   "source": [
    "---"
   ]
  },
  {
   "cell_type": "markdown",
   "metadata": {},
   "source": [
    "## Table of Contents\n",
    "```{contents}\n",
    "```"
   ]
  },
  {
   "cell_type": "markdown",
   "metadata": {},
   "source": [
    "---"
   ]
  },
  {
   "cell_type": "markdown",
   "metadata": {},
   "source": [
    "## Resources"
   ]
  },
  {
   "cell_type": "markdown",
   "metadata": {},
   "source": [
    "freeCodeCamp\n",
    "* [ [y](https://www.youtube.com/watch?v=qw--VYLpxG4) ] `04-04-2019`. freeCodeCamp. \"Learn PostgreSQL Tutorial - Full Course for Beginners\"."
   ]
  },
  {
   "cell_type": "markdown",
   "metadata": {},
   "source": [
    "### Installation"
   ]
  },
  {
   "cell_type": "markdown",
   "metadata": {},
   "source": [
    "macOS\n",
    "* PostgreSQL [macOS packages](https://www.postgresql.org/download/macosx/)\n",
    "  * [Interactive Installer by EDB](https://www.enterprisedb.com/downloads/postgres-postgresql-downloads)\n",
    "  * [Postgres.app](https://postgresapp.com/)\n",
    "  * [Homebrew](https://formulae.brew.sh/formula/postgresql)"
   ]
  },
  {
   "cell_type": "markdown",
   "metadata": {},
   "source": [
    "### Documentation"
   ]
  },
  {
   "cell_type": "markdown",
   "metadata": {},
   "source": [
    "[[D](https://www.postgresql.org/docs/)][[W](https://en.wikipedia.org/wiki/PostgreSQL)] PostgreSQL\n",
    "* 8 Data Types\n",
    "  * [[D](https://www.postgresql.org/docs/current/datatype-datetime.html#DATATYPE-DATETIME-DATE-TABLE)] 8.5.1 Date/Time Input\n",
    "* 20 Server Configuration\n",
    "  * [[D](https://www.postgresql.org/docs/current/config-setting.html)] 20.1 Setting Parameters\n",
    "  * [[D](https://www.postgresql.org/docs/current/runtime-config-file-locations.html)] 20.2 File Locations\n",
    "  * [[D](https://www.postgresql.org/docs/current/runtime-config-connection.html)] 20.3 Connections and Authentication\n",
    "  * [[D](https://www.postgresql.org/docs/current/runtime-config-client.html)] 20.11 Client Connection Defaults\n",
    "* [[D](https://www.postgresql.org/docs/current/reference-client.html)] PostgreSQL Client Applications\n",
    "\n",
    "[[D](https://www.postgresql.org/docs/current/sql-commands.html)] SQL Commands\n",
    "* [[D](https://www.postgresql.org/docs/current/sql-alterdatabase.html)] ALTER DATABASE\n",
    "* [[D](https://www.postgresql.org/docs/current/sql-alterrole.html)] ALTER ROLE\n",
    "* [[D](https://www.postgresql.org/docs/current/sql-altertable.html)] ALTER TABLE\n",
    "* [[D](https://www.postgresql.org/docs/current/sql-createdatabase.html)] CREATE DATABASE\n",
    "* [[D](https://www.postgresql.org/docs/current/sql-createrole.html)] CREATE ROLE\n",
    "* [[D](https://www.postgresql.org/docs/current/sql-createtable.html)] CREATE TABLE\n",
    "* [[D](https://www.postgresql.org/docs/current/sql-dropdatabase.html)] DROP DATABASE\n",
    "* [[D](https://www.postgresql.org/docs/current/sql-droprole.html)] DROP ROLE\n",
    "* [[D](https://www.postgresql.org/docs/current/sql-droptable.html)] DROP TABLE\n",
    "* [[D](https://www.postgresql.org/docs/current/sql-explain.html)] EXPLAIN\n",
    "* [[D](https://www.postgresql.org/docs/current/sql-insert.html)] INSERT\n",
    "* [[D](https://www.postgresql.org/docs/current/sql-selectinto.html)] SELECT INTO\n",
    "* [[D](https://www.postgresql.org/docs/current/sql-set.html)] SET\n",
    "* [[D](https://www.postgresql.org/docs/current/sql-show.html)] SHOW\n",
    "* [[D](https://www.postgresql.org/docs/current/sql-update.html)] UPDATE\n",
    "\n",
    "[[D](https://www.pgadmin.org/docs/)] pgAdmin\n",
    "* [Getting Started](https://www.pgadmin.org/docs/pgadmin4/latest/getting_started.html)\n",
    "  * [Login Dialog](https://www.pgadmin.org/docs/pgadmin4/latest/login.html)\n",
    "* Management Basics\n",
    "  * [Change Password Dialog](https://www.pgadmin.org/docs/pgadmin4/latest/change_password_dialog.html)\n",
    "  * [Import/Export Data Dialog](https://www.pgadmin.org/docs/pgadmin4/latest/import_export_data.html)\n",
    "* [FAQ](https://www.pgadmin.org/faq/)\n",
    "\n",
    "EDB\n",
    "* [[D](https://www.enterprisedb.com/postgres-tutorials/connecting-postgresql-using-psql-and-pgadmin)] Connecting PostgreSQL using psql and pgAdmin"
   ]
  },
  {
   "cell_type": "markdown",
   "metadata": {},
   "source": [
    "### Commands"
   ]
  },
  {
   "cell_type": "markdown",
   "metadata": {},
   "source": [
    "#### macOS"
   ]
  },
  {
   "cell_type": "markdown",
   "metadata": {},
   "source": [
    "```\n",
    "brew info postgresql\n",
    "\n",
    "psql myDatabase -c \"show config_file;\"\n",
    "psql myDatabase -c \"show data_directory;\"\n",
    "psql myDatabase -c \"show hba_file;\"\n",
    "psql myDatabase -c \"show listen_addresses;\"\n",
    "psql myDatabase -c \"show port;\"\n",
    "\n",
    "pg_ctl status -D '/opt/homebrew/var/postgresql@15'\n",
    "\n",
    "pg_isready\n",
    "\n",
    "pg_config\n",
    "pg_config --bindir\n",
    "pg_config --sysconfdir\n",
    "```"
   ]
  },
  {
   "cell_type": "markdown",
   "metadata": {},
   "source": [
    "#### Windows"
   ]
  },
  {
   "cell_type": "markdown",
   "metadata": {},
   "source": [
    "```\n",
    "pg_ctl status  -D \"C:\\Program Files\\PostgreSQL\\15\\data\"\n",
    "pg_ctl restart -D \"C:\\Program Files\\PostgreSQL\\15\\data\"\n",
    "```"
   ]
  },
  {
   "cell_type": "markdown",
   "metadata": {},
   "source": [
    "#### commands"
   ]
  },
  {
   "cell_type": "markdown",
   "metadata": {},
   "source": [
    "```sql\n",
    "-- config\n",
    "select version();\n",
    "select current_user;\n",
    "select session_user;\n",
    "\\conninfo\n",
    "\n",
    "-- data type, schema\n",
    "\\d+ myTableName\n",
    "select pg_typeof(myColumnName) from myTableName limit 1;\n",
    "\n",
    "-- explain\n",
    "\n",
    "-- arithmetic\n",
    "select 2 + 2;\n",
    "\n",
    "-- date style (input, output)\n",
    "show datestyle;\n",
    "alter database myDatabase set datestyle to 'iso, dmy';\n",
    "alter database myDatabase set datestyle to 'iso, mdy';\n",
    "alter database myDatabase set datestyle to 'iso, ymd';\n",
    "alter database myDatabase reset datestyle;\n",
    "alter role myRole in database myDatabase set datestyle to 'iso, dmy';\n",
    "\n",
    "-- dates and times\n",
    "select current_date;\n",
    "select current_time;\n",
    "select current_timestamp;\n",
    "select now();\n",
    "select now()::date;\n",
    "select to_char(now()::date, 'mm-dd-yyyy');\n",
    "select to_char(now()::date, 'dd-mm-yyyy');\n",
    "select to_char(now()::date, 'day month dd-mm-yyyy');\n",
    "select to_char(now()::date,   'd dd-mm-yyyy'); -- day of the week\n",
    "select to_char(now()::date,  'dd dd-mm-yyyy'); -- day of the month\n",
    "select to_char(now()::date, 'ddd dd-mm-yyyy'); -- day of the year\n",
    "select extract(year from now()) as year;\n",
    "select * from pg_timezone_names;\n",
    "show timezone;\n",
    "select now()::timestamp at time zone 'America/New_York';\n",
    "select age('2023-02-04', '1992-02-04');\n",
    "\n",
    "-- locale, localization\n",
    "update pg_database set datctype  ='en_US.UTF-8' where datname='myDatabaseName';\n",
    "update pg_database set datctype  ='C'           where datname='myDatabaseName';\n",
    "update pg_database set datcollate='en_US.UTF-8' where datname='myDatabaseName';\n",
    "update pg_database set datcollate='C'           where datname='myDatabaseName';\n",
    "\n",
    "-- more config\n",
    "table information_schema.columns; -- select * from information_schema.columns\n",
    "table information_schema.tables;  -- select * from information_schema.tables\n",
    "table pg_attribute;               -- select * from pg_attribute;\n",
    "table pg_config;                  -- select * from pg_config;\n",
    "table pg_database;                -- select * from pg_catalog.pg_database;\n",
    "table pg_db_role_setting;         -- select * from pg_catalog.pg_db_role_setting;\n",
    "table pg_file_settings;           -- select * from pg_catalog.pg_file_settings;\n",
    "table pg_hba_file_rules;          -- select * from pg_catalog.pg_hba_file_rules;\n",
    "table pg_roles;                   -- select * from pg_roles;\n",
    "table pg_settings;                -- select * from pg_catalog.pg_settings;\n",
    "table pg_shadow;                  -- select * from pg_catalog.pg_shadow;\n",
    "table pg_stat_activity;           -- select * from pg_catalog.pg_stat_activity;\n",
    "table pg_tablespace;              -- select * from pg_tablespace;\n",
    "table pg_timezone_names;          -- select * from pg_timezone_names;\n",
    "table pg_user;                    -- select * from pg_user;\n",
    "\n",
    "show all;                       -- select current_setting('');\n",
    "show config_file;               -- select current_setting('');\n",
    "show default_tablespace;        -- select current_setting('');\n",
    "show effective_cache_size;      -- select current_setting('');\n",
    "show effective_io_concurrency;  -- select current_setting('');\n",
    "show lc_collate;                -- select current_setting('');\n",
    "show lc_ctype;                  -- select current_setting('');\n",
    "show lc_messages;               -- select current_setting('');\n",
    "show lc_monetary;               -- select current_setting('');\n",
    "show lc_numeric;                -- select current_setting('');\n",
    "show lc_time;                   -- select current_setting('');\n",
    "show log_destination;           -- select current_setting('');\n",
    "show maintenance_work_mem;      -- select current_setting('');\n",
    "show max_connections;           -- select current_setting('');\n",
    "show max_parallel_workers;      -- select current_setting('');\n",
    "show max_prepared_transactions; -- select current_setting('');\n",
    "show max_wal_size;              -- select current_setting('');\n",
    "show max_worker_processes;      -- select current_setting('');\n",
    "show min_wal_size;              -- select current_setting('');\n",
    "show random_page_cost;          -- select current_setting('');\n",
    "show search_path;               -- select current_setting('');\n",
    "show shared_buffers;            -- select current_setting('');\n",
    "show synchronous_commit;        -- select current_setting('');\n",
    "show temp_tablespaces;          -- select current_setting('');\n",
    "show timezone;                  -- select current_setting('timezone');\n",
    "show wal_buffers;               -- select current_setting('');\n",
    "show work_mem;                  -- select current_setting('');\n",
    "```"
   ]
  },
  {
   "cell_type": "markdown",
   "metadata": {},
   "source": [
    "Command line utilities\n",
    "* `createdb`\n",
    "* `createuser`\n",
    "* `dropdb`\n",
    "* `dropuser`\n",
    "* `init_db`\n",
    "* `pg_config`\n",
    "* `pg_ctl`\n",
    "* `pg_isready`\n",
    "* `postgres`\n",
    "* `psql`\n",
    "  * `psql --help`\n",
    "  * `psql -V`\n",
    "  * `psql -l`\n",
    "  * `psql myDatabase -c 'select 2 + 2;'`\n",
    "\n",
    "Meta commands\n",
    "* `\\?` List internal commands.\n",
    "* `\\h` List help.\n",
    "* `\\c` Connect to a database.\n",
    "* `\\conninfo` Current connection information.\n",
    "* `\\l+` List databases.\n",
    "* `\\d+ table_name` List tables, views, and sequences.\n",
    "* `\\dt+` List tables.\n",
    "* `\\du+` List roles.\n",
    "* `\\pset pager off`\n",
    "* `\\q` Exit psql.\n",
    "* `\\x`\n",
    "\n",
    "\n",
    "Create a new database called `myDatabase`.\n",
    "\n",
    "```\n",
    "createdb myDatabase -e\n",
    "```\n",
    "\n",
    "Delete database `myDatabase`.\n",
    "\n",
    "```\n",
    "dropdb myDatabase -e\n",
    "```\n",
    "```\n",
    "drop database if exists myDatabase;\n",
    "```\n",
    "\n",
    "Switch to database `myDatabase`.\n",
    "\n",
    "```\n",
    "\\c myDatabase\n",
    "```\n",
    "\n",
    "Initialize a database called `myDatabase` with a schema file.\n",
    "\n",
    "```\n",
    "psql -f schema.sql -d myDatabase -e\n",
    "```\n",
    "\n",
    "Create a new user with a password.\n",
    "\n",
    "```\n",
    "createuser postgres -P -s -d -r -e\n",
    "```\n",
    "\n",
    "Check the current database; user; socket; port.\n",
    "\n",
    "```\n",
    "\\conninfo\n",
    "```\n",
    "\n",
    "Switch the current user to user `postgres`.\n",
    "\n",
    "```\n",
    "\\c - postgres\n",
    "```\n",
    "\n",
    "List databases.\n",
    "\n",
    "```\n",
    "\\l+\n",
    "```\n",
    "\n",
    "List databases from the command line.\n",
    "\n",
    "```\n",
    "psql -l\n",
    "```\n",
    "\n",
    "List users.\n",
    "\n",
    "```\n",
    "\\du+\n",
    "```\n",
    "\n",
    "```\n",
    "select current_user;\n",
    "```\n",
    "\n",
    "Change the password for user `postgres`.\n",
    "\n",
    "```\n",
    "alter user postgres password 'myPassword';\n",
    "```\n",
    "```\n",
    "create role dave with login password 'myPassword';\n",
    "```\n",
    "\n",
    "Delete user `postgres`.\n",
    "\n",
    "```\n",
    "dropuser postgres -e\n",
    "```\n",
    "\n",
    "```\n",
    "drop role if exists postgres;\n",
    "```\n",
    "\n",
    "Create default database cluster (Homebrew).\n",
    "\n",
    "```\n",
    "initdb --locale=C -E UTF-8 /opt/homebrew/var/postgresql@15\n",
    "```\n",
    "\n",
    "Check user permissions.\n",
    "\n",
    "```\n",
    "select * from pg_user;\n",
    "```\n",
    "\n",
    "Change role/user `postgres`'s password to `myPassword`.\n",
    "\n",
    "`````{tab-set}\n",
    "````{tab-item} psql\n",
    ":sync: psql\n",
    "```\n",
    "\\password\n",
    "```\n",
    "````\n",
    "````{tab-item} SQL\n",
    ":sync: sql\n",
    "```postgresql\n",
    "alter role postgres with password 'myPassword';\n",
    "```\n",
    "````\n",
    "`````\n",
    "\n",
    "Remove role/user `postgres`'s password.\n",
    "\n",
    "`````{tab-set}\n",
    "````{tab-item} SQL\n",
    ":sync: sql\n",
    "```postgresql\n",
    "alter role postgres with password null;\n",
    "```\n",
    "````\n",
    "`````"
   ]
  },
  {
   "cell_type": "markdown",
   "metadata": {},
   "source": [
    "---"
   ]
  },
  {
   "cell_type": "markdown",
   "metadata": {},
   "source": [
    "## Texts"
   ]
  },
  {
   "cell_type": "markdown",
   "metadata": {},
   "source": [
    "* Obe, Regina O. & Leo S. Hsu. (2017). _PostgreSQL Up & Running: A Practical Guide to the Advanced Open Source Database_. O'Reilly."
   ]
  },
  {
   "cell_type": "markdown",
   "metadata": {},
   "source": [
    "---"
   ]
  }
 ],
 "metadata": {
  "language_info": {
   "name": "python"
  }
 },
 "nbformat": 4,
 "nbformat_minor": 2
}
