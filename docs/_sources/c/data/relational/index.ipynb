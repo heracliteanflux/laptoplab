{
 "cells": [
  {
   "attachments": {},
   "cell_type": "markdown",
   "metadata": {},
   "source": [
    "# Relational Data"
   ]
  },
  {
   "attachments": {},
   "cell_type": "markdown",
   "metadata": {},
   "source": [
    "---"
   ]
  },
  {
   "cell_type": "markdown",
   "metadata": {},
   "source": [
    "## Table of Contents\n",
    "```{contents}\n",
    "```"
   ]
  },
  {
   "attachments": {},
   "cell_type": "markdown",
   "metadata": {},
   "source": [
    "---"
   ]
  },
  {
   "cell_type": "markdown",
   "metadata": {},
   "source": [
    "## Resources"
   ]
  },
  {
   "cell_type": "markdown",
   "metadata": {},
   "source": [
    "RDBMS\n",
    "* [ h ][ d ][ w ] Apache Derby\n",
    "* [ [h](https://duckdb.org/) ][ d ][ w ] Duckdb\n",
    "* [ h ][ d ][ w ] MySQL\n",
    "* [ h ][ d ][ w ] PostgreSQL\n",
    "* [ h ][ d ][ w ] SQLite\n",
    "\n",
    "SQL\n",
    "* [ [h](https://dev.mysql.com/doc/sakila/en/) ][ g ] Sakila sample database\n",
    "* [ [h](https://sqlzoo.net/wiki/SQL_Tutorial) ][ [g](https://github.com/jyesawtellrickson/sql-zoo) ] SQLZoo"
   ]
  },
  {
   "cell_type": "markdown",
   "metadata": {},
   "source": [
    "YouTube\n",
    "* freeCodeCamp\n",
    "  * [[Y](https://www.youtube.com/watch?v=WnMQ8HlmeXc) ] freeCodeCamp. (21 Apr 2021). \"UML Diagrams Full Course (Unified Modeling Language)\". YouTube.\n",
    "* Decomplexify\n",
    "  * [[Y](https://www.youtube.com/watch?v=VWnKUKH4tLg) ] Decomplexify. (25 Jan 2022). \"Learn Byce-Codd Normal Form (BCNF)\". YouTube.\n",
    "* more\n",
    "  * [ [y](https://www.youtube.com/watch?v=5hsl47I3svw) ] `11-22-2023`. PlanetScale. \"You don't always need JOINs\"."
   ]
  },
  {
   "cell_type": "markdown",
   "metadata": {},
   "source": [
    "---"
   ]
  },
  {
   "attachments": {},
   "cell_type": "markdown",
   "metadata": {},
   "source": [
    "## Texts"
   ]
  },
  {
   "cell_type": "markdown",
   "metadata": {},
   "source": [
    "Relational\n",
    "* [ [h](http://web.cecs.pdx.edu/~maier/TheoryBook/TRD.html) ] Maier, David. (1983). _The Theory of Relational Databases_.\n",
    "\n",
    "SQL\n",
    "* Beaulieu, Alan. (2020). _Learning SQL: Generate, Manipulate, and Retrieve Data, 3rd Ed_. O'Reilly.\n",
    "* [ [h](https://www.practicalsql.com/index.html) ][ [g](https://github.com/anthonydb/practical-sql-2) ] DeBarros, Anthony. (2022). _Practical SQL: A Beginner's Guide to Storytelling with Data_. 2nd Ed. [No Starch Press](https://nostarch.com/practical-sql-2nd-edition/).\n",
    "* Kline, Kevin; Regina O. Obe; & Leo S. Hsu. (2022). _SQL in a Nutshell: A Desktop Quick Reference_. 4th Ed. O'Reilly.\n",
    "* Molinaro, Anthony & Robert de Graaf. (2020). _SQL Cookbook: Query Solutions and Techniques for All SQL Users, 2nd Ed_. O'Reilly.\n",
    "* Tanimura, Cathy. (2021). _SQL for Data Analysis: Advanced Techniques for Transforming Data into Insights_. O'Reilly.\n",
    "* Zhao, Alice. (2021). _SQL Pocket Guide: A Guide to SQL Usage, 4th Ed_. O'Reilly."
   ]
  },
  {
   "attachments": {},
   "cell_type": "markdown",
   "metadata": {},
   "source": [
    "---"
   ]
  },
  {
   "attachments": {},
   "cell_type": "markdown",
   "metadata": {},
   "source": [
    "## Figures"
   ]
  },
  {
   "attachments": {},
   "cell_type": "markdown",
   "metadata": {},
   "source": [
    "* [ [w](https://en.wikipedia.org/wiki/Peter_Chen) ] `1947-----` Chen, Peter\n",
    "* [ [w](https://en.wikipedia.org/wiki/Edgar_F._Codd) ] `1923-2003` Codd, Edgar\n",
    "* [ [w](https://en.wikipedia.org/wiki/Hugh_Darwen) ] `1943-----` Darwen, Hugh\n",
    "* [ [w](https://en.wikipedia.org/wiki/Christopher_J._Date) ] `1941-----` Date, Chris\n",
    "* [ [w](https://en.wikipedia.org/wiki/Augustus_De_Morgan) ] `1806-1871` De Morgan, Augustus\n",
    "* [ [w](https://en.wikipedia.org/wiki/Martin_Fowler_(software_engineer)) ] `1963-----` Fowler, Martin\n",
    "* [ [w](https://en.wikipedia.org/wiki/Charles_Sanders_Peirce) ] `1839-1914` Peirce, Charles Sanders"
   ]
  },
  {
   "attachments": {},
   "cell_type": "markdown",
   "metadata": {},
   "source": [
    "---"
   ]
  },
  {
   "attachments": {},
   "cell_type": "markdown",
   "metadata": {},
   "source": [
    "## Terms"
   ]
  },
  {
   "attachments": {},
   "cell_type": "markdown",
   "metadata": {},
   "source": [
    "* [ [w](https://en.wikipedia.org/wiki/Aggregate_function) ] Aggregate Function\n",
    "* [ [w](https://en.wikipedia.org/wiki/Alias_(SQL)) ] Alias\n",
    "* [ [w](https://en.wikipedia.org/wiki/Associative_entity) ] Associative Entity\n",
    "* [ [w](https://en.wikipedia.org/wiki/ACID) ] Atomicity, Consistency, Isolation, Durability\n",
    "* [ [w](https://en.wikipedia.org/wiki/Barker%27s_notation) ] Barker's Notation\n",
    "* [ [w](https://en.wikipedia.org/wiki/Block_contention) ] Block Contention\n",
    "* [ [w](https://en.wikipedia.org/wiki/Candidate_key) ] Candidate Key\n",
    "* [ [w](https://en.wikipedia.org/wiki/Cardinality_(data_modeling)) ] Cardinality\n",
    "* [ [w](https://en.wikipedia.org/wiki/Check_constraint) ] Check Constraint\n",
    "* [ [w](https://en.wikipedia.org/wiki/Codd%27s_theorem) ] Codd's Theorem\n",
    "* [ [w](https://en.wikipedia.org/wiki/Column-oriented_DBMS) ] Column-Oriented DBMS\n",
    "* [ [w](https://en.wikipedia.org/wiki/List_of_column-oriented_DBMSes) ] column-oriented database management systems\n",
    "* [ [w](https://en.wikipedia.org/wiki/Composite_key) ] Composite Key\n",
    "* [ [w](https://en.wikipedia.org/wiki/Composite_key) ] Compound Key\n",
    "* [ [w](https://en.wikipedia.org/wiki/Conceptual_schema) ] Conceptual Schema\n",
    "* [ [w](https://en.wikipedia.org/wiki/Conjunctive_query) ] Conjunctive Query\n",
    "* [ w ] Cross Join\n",
    "* [ [w](https://en.wikipedia.org/wiki/Cursor_(databases)) ] Cursor\n",
    "* [ [w](https://en.wikipedia.org/wiki/Data_control_language) ] Data Control Language\n",
    "* [ [w](https://en.wikipedia.org/wiki/Data_definition_language) ] Data Definition Language (DDL)\n",
    "* [ [w](https://en.wikipedia.org/wiki/Data_dictionary) ] Data Dictionary\n",
    "* [ [w](https://en.wikipedia.org/wiki/Data_manipulation_language) ] Data Manipulation Language (DML)\n",
    "* [ [w](https://en.wikipedia.org/wiki/Data_query_language) ] Data Query Language (DQL)\n",
    "* [ [w](https://en.wikipedia.org/wiki/Data_structure_diagram) ] Data Structure Diagram\n",
    "* [ [w](https://en.wikipedia.org/wiki/Database_theory) ] Database Theory\n",
    "* [ [w](https://en.wikipedia.org/wiki/Delete_(SQL)) ] Delete\n",
    "* [ [w](https://en.wikipedia.org/wiki/Denormalization) ] Denormalization\n",
    "* [ [w](https://en.wikipedia.org/wiki/Direct_memory_access) ] Direct Memory Access\n",
    "* [ [w](https://en.wikipedia.org/wiki/Domain_relational_calculus) ] Domain Relational Calculus\n",
    "* [ [w](https://en.wikipedia.org/wiki/Entity%E2%80%93relationship_model) ] Entity-Relationship Model\n",
    "* [ w ] Equi Join\n",
    "* [ [w](https://en.wikipedia.org/wiki/Expressive_power_(computer_science)) ] Expressive Power\n",
    "* [ [w](https://en.wikipedia.org/wiki/Extract,_transform,_load) ] Extract, Transform, Load (ETL)\n",
    "* [ [w](https://en.wikipedia.org/wiki/Foreign_key) ] Foreign Key\n",
    "* [ [w](https://en.wikipedia.org/wiki/From_(SQL)) ] From\n",
    "* [ w ] Full Outer Join\n",
    "* [ [w](https://en.wikipedia.org/wiki/Group_by_(SQL)) ] Group By\n",
    "* [ [w](https://en.wikipedia.org/wiki/Hash_join) ] Hash Join\n",
    "* [ [w](https://en.wikipedia.org/wiki/Having_(SQL)) ] Having\n",
    "* [ w ] Inner Join\n",
    "* [ [w](https://en.wikipedia.org/wiki/Insert_(SQL)) ] Insert\n",
    "* [ [w](https://en.wikipedia.org/wiki/Isolation_(database_systems)) ] Isolation\n",
    "* [ [w](https://en.wikipedia.org/wiki/Join_(SQL)) ] Join\n",
    "* [ w ] Left (Outer) Join\n",
    "* [ [w](https://en.wikipedia.org/wiki/Logical_schema) ] Logical Schema\n",
    "* [ [w](https://en.wikipedia.org/wiki/Lookup_table) ] Lookup Table\n",
    "* [ [w](https://en.wikipedia.org/wiki/Lossless_join_decomposition) ] Lossless Join Decomposition\n",
    "* [ [w](https://en.wikipedia.org/wiki/Many-to-many_(data_model)) ] Many-to-Many\n",
    "* [ [w](https://en.wikipedia.org/wiki/Multiversion_concurrency_control) ] Multiversion Concurrency Control (MVCC)\n",
    "* [ w ] Natural Join\n",
    "* [ [w](https://en.wikipedia.org/wiki/Natural_key) ] Natural Key\n",
    "* [ [w](https://en.wikipedia.org/wiki/Nested_loop_join) ] Nested Loop Join\n",
    "* [ [w](https://en.wikipedia.org/wiki/Non-blocking_algorithm) ] Non-Blocking\n",
    "* [ [w](https://en.wikipedia.org/wiki/Non-lock_concurrency_control) ] Non-Lock Concurrency Control\n",
    "* [ [w](https://en.wikipedia.org/wiki/Database_normalization) ] Normalization\n",
    "* [ [w](https://en.wikipedia.org/wiki/Null_(SQL)) ] Null\n",
    "* [ [w](https://en.wikipedia.org/wiki/Object%E2%80%93role_modeling) ] Object-Role Modeling\n",
    "* [ [w](https://en.wikipedia.org/wiki/One-to-many_(data_model)) ] One-to-Many\n",
    "* [ [w](https://en.wikipedia.org/wiki/One-to-one_(data_model)) ] One-to-One\n",
    "* [ [w](https://en.wikipedia.org/wiki/Optimistic_concurrency_control) ] Optimistic Concurrency Control\n",
    "* [ [w](https://en.wikipedia.org/wiki/Order_by) ] Order By\n",
    "* [ w ] Outer Join\n",
    "* [ [w](https://en.wikipedia.org/wiki/Physical_schema) ] Physical Schema\n",
    "* [ [w](https://en.wikipedia.org/wiki/Primary_key) ] Primary Key\n",
    "* [ [w](https://en.wikipedia.org/wiki/Projection_(relational_algebra)) ] Projection\n",
    "* [ [w](https://en.wikipedia.org/wiki/Propagation_constraint) ] Propagation Constraint\n",
    "* [ [w](https://en.wikipedia.org/wiki/Query_optimization) ] Query Optimization\n",
    "* [ [w](https://en.wikipedia.org/wiki/Query_plan) ] Query Plan\n",
    "* [ [w](https://en.wikipedia.org/wiki/Referential_integrity) ] Referential Integrity\n",
    "* [ [w](https://en.wikipedia.org/wiki/Relation_(database)) ] Relation\n",
    "* [ [w](https://en.wikipedia.org/wiki/Algebraic_logic#Calculus_of_relations) ] Relation Calculus\n",
    "* [ [w](https://en.wikipedia.org/wiki/Composition_of_relations) ] Relation Composition\n",
    "* [ [w](https://en.wikipedia.org/wiki/Converse_relation) ] Relation Converse\n",
    "* [ [w](https://en.wikipedia.org/wiki/Relational_algebra) ] Relational Algebra\n",
    "* [ [w](https://en.wikipedia.org/wiki/Relational_calculus) ] Relational Calculus\n",
    "* [ [w](https://en.wikipedia.org/wiki/Relational_database) ] Relational Database\n",
    "* [ [w](https://en.wikipedia.org/wiki/Charles_Sanders_Peirce#Mathematics_of_logic) ] Relational Logic\n",
    "* [ [w](https://en.wikipedia.org/wiki/Relational_model) ] Relational Model\n",
    "* [ [w](https://en.wikipedia.org/wiki/Relvar) ] Relvar\n",
    "* [ [w](https://en.wikipedia.org/wiki/Result_set) ] Result Set\n",
    "* [ w ] Right (Outer) Join\n",
    "* [ [w](https://en.wikipedia.org/wiki/Database_schema) ] Schema\n",
    "* [ [w](https://en.wikipedia.org/wiki/Select_(SQL)) ] Select\n",
    "* [ [w](https://en.wikipedia.org/wiki/Selection_(relational_algebra)) ] Selection\n",
    "* [ [w](https://en.wikipedia.org/wiki/Snapshot_isolation) ] Snapshot Isolation\n",
    "* [ [w](https://en.wikipedia.org/wiki/Sort-merge_join) ] Sort-Merge Join\n",
    "* [ [w](https://en.wikipedia.org/wiki/SQL:1999) ] SQL:1999\n",
    "* [ [w](https://en.wikipedia.org/wiki/SQL:2003) ] SQL:2003\n",
    "* [ [w](https://en.wikipedia.org/wiki/SQL:2008) ] SQL:2008\n",
    "* [ [w](https://en.wikipedia.org/wiki/SQL:2011) ] SQL:2011\n",
    "* [ [w](https://en.wikipedia.org/wiki/SQL:2016) ] SQL:2016\n",
    "* [ [w](https://en.wikipedia.org/wiki/SQL-92) ] SQL-92\n",
    "* [ [w](https://en.wikipedia.org/wiki/Superkey) ] Super Key\n",
    "* [ [w](https://en.wikipedia.org/wiki/Surrogate_key) ] Surrogate Key\n",
    "* [ [w](https://en.wikipedia.org/wiki/Table_(database)) ] Table\n",
    "* [ [w](https://en.wikipedia.org/wiki/Three-schema_approach) ] Three-Schema Approach\n",
    "* [ [w](https://en.wikipedia.org/wiki/Database_transaction) ] Transaction\n",
    "* [ [w](https://en.wikipedia.org/wiki/Transaction_processing) ] Transaction Processing\n",
    "* [ [w](https://en.wikipedia.org/wiki/Database_trigger) ] Trigger\n",
    "* [ [w](https://en.wikipedia.org/wiki/Truncate_(SQL)) ] Truncate\n",
    "* [ [w](https://en.wikipedia.org/wiki/Tuple) ] Tuple\n",
    "* [ [w](https://en.wikipedia.org/wiki/Tuple_relational_calculus) ] Tuple Relational Calculus\n",
    "* [ [w](https://en.wikipedia.org/wiki/Unified_Modeling_Language) ] Unified Modeling Language (UML)\n",
    "* [ [w](https://en.wikipedia.org/wiki/Unique_key) ] Unique Key\n",
    "* [ [w](https://en.wikipedia.org/wiki/Unit_of_work) ] Unit of Work\n",
    "* [ [w](https://en.wikipedia.org/wiki/Update_(SQL)) ] Update\n",
    "* [ [w](https://en.wikipedia.org/wiki/View_(SQL)) ] View\n",
    "* [ [w](https://en.wikipedia.org/wiki/View_model) ] View Model\n",
    "* [ [w](https://en.wikipedia.org/wiki/Weak_entity) ] Weak Entity\n",
    "* [ [w](https://en.wikipedia.org/wiki/Where_(SQL)) ] Where"
   ]
  },
  {
   "attachments": {},
   "cell_type": "markdown",
   "metadata": {},
   "source": [
    "---"
   ]
  }
 ],
 "metadata": {
  "language_info": {
   "name": "python"
  },
  "orig_nbformat": 4
 },
 "nbformat": 4,
 "nbformat_minor": 2
}
