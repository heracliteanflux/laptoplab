{
 "cells": [
  {
   "cell_type": "markdown",
   "metadata": {},
   "source": [
    "# MySQL"
   ]
  },
  {
   "cell_type": "markdown",
   "metadata": {},
   "source": [
    "---"
   ]
  },
  {
   "cell_type": "markdown",
   "metadata": {},
   "source": [
    "## Table of Contents\n",
    "```{contents}\n",
    "```"
   ]
  },
  {
   "cell_type": "markdown",
   "metadata": {},
   "source": [
    "---"
   ]
  },
  {
   "cell_type": "markdown",
   "metadata": {},
   "source": [
    "## Resources"
   ]
  },
  {
   "cell_type": "markdown",
   "metadata": {},
   "source": [
    "[ [h](https://dev.mysql.com/) ][ [d](https://dev.mysql.com/doc/) ] MySQL\n",
    "* [ [d](https://dev.mysql.com/doc/refman/8.0/en/charset-binary-set.html) ] `10.10.8` The Binary Character Set\n",
    "* [ [d](https://dev.mysql.com/doc/refman/8.0/en/string-comparison-functions.html) ] `12.08.1` String Comparison Functions and Operators"
   ]
  },
  {
   "cell_type": "markdown",
   "metadata": {},
   "source": [
    "---"
   ]
  },
  {
   "cell_type": "markdown",
   "metadata": {},
   "source": [
    "## Texts"
   ]
  },
  {
   "cell_type": "markdown",
   "metadata": {},
   "source": [
    "* Botros, Silvia & Jeremy Tinley. (2021). _High Performance MySQL: Proven Strategies for Operating at Scale_. 4th Ed. O'Reilly.\n",
    "* [ [g](https://github.com/learning-mysql-2nd/learning-mysql-2nd) ] Grippa, Vinicius M. & Sergey Kuzmichev. (2021). _Learning MySQL: Get a Handle on Your Data_. 2nd Ed. O'Reilly.\n",
    "* [ [g](https://github.com/efficient-mysql-performance/examples) ] Nichter, Daniel. (2021). _Efficient MySQL Performance: Best Practices and Techniques_. O'Reilly.\n",
    "* Silva, Rick. (2023). _MySQL Crash Course: A Hands-On Introduction to Database Development_. [No Starch Press](https://nostarch.com/mysql-crash-course).\n",
    "* [ [g](https://github.com/svetasmirnova/mysqlcookbook) ] Smirnova, Sveta & Alkin Tezuysal. (2022). _MySQL Cookbook: Solutions for Database Developers and Administrators_. 4th Ed. O'Reilly."
   ]
  },
  {
   "cell_type": "markdown",
   "metadata": {},
   "source": [
    "---"
   ]
  }
 ],
 "metadata": {
  "language_info": {
   "name": "python"
  }
 },
 "nbformat": 4,
 "nbformat_minor": 2
}
