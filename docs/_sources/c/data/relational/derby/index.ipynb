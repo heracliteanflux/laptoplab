{
 "cells": [
  {
   "cell_type": "markdown",
   "metadata": {},
   "source": [
    "# Apache Derby"
   ]
  },
  {
   "cell_type": "markdown",
   "metadata": {},
   "source": [
    "---"
   ]
  },
  {
   "cell_type": "markdown",
   "metadata": {},
   "source": [
    "## Table of Contents\n",
    "```{contents}\n",
    "```"
   ]
  },
  {
   "cell_type": "markdown",
   "metadata": {},
   "source": [
    "---"
   ]
  },
  {
   "cell_type": "markdown",
   "metadata": {},
   "source": [
    "## Resources"
   ]
  },
  {
   "cell_type": "markdown",
   "metadata": {},
   "source": [
    "[ [h](https://db.apache.org/derby/) ][ [d](https://db.apache.org/derby/quick_start.html) ][ [w](https://en.wikipedia.org/wiki/Apache_Derby) ] Apache Derby\n",
    "* [ [d](https://db.apache.org/derby/papers/DerbyTut/install_software.html) ] 1 Install Software\n",
    "* [ [d](https://db.apache.org/derby/papers/DerbyTut/ij_intro.html) ] 2 ij Basics\n",
    "* [ [d](https://db.apache.org/derby/papers/DerbyTut/embedded_intro.html) ] 3 Embedded Derby\n",
    "* [[Download](https://db.apache.org/derby/derby_downloads.html)]\n",
    "* [[Download](https://www.oracle.com/java/technologies/javadb-downloads.html)] Java DB"
   ]
  },
  {
   "cell_type": "markdown",
   "metadata": {},
   "source": [
    "---"
   ]
  }
 ],
 "metadata": {
  "language_info": {
   "name": "python"
  }
 },
 "nbformat": 4,
 "nbformat_minor": 2
}
