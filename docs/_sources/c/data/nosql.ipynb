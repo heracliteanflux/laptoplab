{
 "cells": [
  {
   "cell_type": "markdown",
   "metadata": {},
   "source": [
    "# NoSQL"
   ]
  },
  {
   "cell_type": "markdown",
   "metadata": {},
   "source": [
    "---"
   ]
  },
  {
   "cell_type": "markdown",
   "metadata": {},
   "source": [
    "## Table of Contents\n",
    "```{contents}\n",
    "```"
   ]
  },
  {
   "cell_type": "markdown",
   "metadata": {},
   "source": [
    "---"
   ]
  },
  {
   "cell_type": "markdown",
   "metadata": {},
   "source": [
    "## MongoDB"
   ]
  },
  {
   "cell_type": "markdown",
   "metadata": {},
   "source": [
    "[ [h](https://www.mongodb.com/) ][ [d](https://www.mongodb.com/docs/) ] MongoDB\n",
    "* [macOS](https://www.mongodb.com/docs/manual/tutorial/install-mongodb-on-os-x/)\n",
    "* [Windows](https://www.mongodb.com/docs/manual/tutorial/install-mongodb-on-windows/)\n",
    "* [Getting Started](https://www.mongodb.com/docs/manual/tutorial/getting-started/)\n",
    "* [mongosh](https://www.mongodb.com/docs/mongodb-shell/run-commands/)\n",
    "* https://learn.mongodb.com/learning-paths/introduction-to-mongodb"
   ]
  },
  {
   "cell_type": "markdown",
   "metadata": {},
   "source": [
    "``````{tab-set}\n",
    "`````{tab-item} macOS\n",
    ":sync: macos\n",
    "\n",
    "[The MongoDB Homebrew Tap](https://github.com/mongodb/homebrew-brew)\n",
    "\n",
    "1\n",
    "\n",
    "Verify that the Homebrew package manager is installed.\n",
    "\n",
    "```\n",
    "brew --version\n",
    "```\n",
    "\n",
    "2\n",
    "\n",
    "Installation via Homebrew.\n",
    "\n",
    "```\n",
    "brew tap mongodb/brew\n",
    "```\n",
    "\n",
    "```\n",
    "brew install mongodb-community\n",
    "```\n",
    "\n",
    "3\n",
    "\n",
    "Verify that MongoDB is installed.\n",
    "\n",
    "```\n",
    "mongod --version\n",
    "```\n",
    "\n",
    "```\n",
    "mongosh --version\n",
    "```\n",
    "\n",
    "4\n",
    "\n",
    "List services and their status.\n",
    "\n",
    "```\n",
    "brew services\n",
    "```\n",
    "\n",
    "5\n",
    "\n",
    "If necessary, startup (or shutdown) the service.\n",
    "\n",
    "```\n",
    "brew services start mongodb-community\n",
    "```\n",
    "\n",
    "```\n",
    "brew services stop mongodb-community\n",
    "```\n",
    "\n",
    "6\n",
    "\n",
    "Enter the MongoDB shell.\n",
    "\n",
    "```\n",
    "mongosh\n",
    "```\n",
    "\n",
    "`````\n",
    "`````{tab-item} Windows\n",
    ":sync: windows\n",
    "\n",
    "````{tab-set}\n",
    "```{tab-item} 0\n",
    "![](img/mongodb_shell_windows.png)\n",
    "```\n",
    "````\n",
    "\n",
    "* [Install MongoDB Community Edition on Windows](https://www.mongodb.com/docs/manual/tutorial/install-mongodb-on-windows/)\n",
    "* [Install mongosh](https://www.mongodb.com/docs/mongodb-shell/install/)\n",
    "\n",
    "Enter the MongoDB shell.\n",
    "\n",
    "```\n",
    "mongosh\n",
    "```\n",
    "\n",
    "`````\n",
    "``````"
   ]
  },
  {
   "cell_type": "markdown",
   "metadata": {},
   "source": [
    "### Getting started with mongosh"
   ]
  },
  {
   "cell_type": "markdown",
   "metadata": {},
   "source": [
    "Start the MongoDB shell.\n",
    "\n",
    "```{admonition} Documentation\n",
    "[Connect to a Deployment](https://www.mongodb.com/docs/mongodb-shell/connect/#connect-to-a-deployment)\n",
    "```\n",
    "\n",
    "`````{tab-set}\n",
    "````{tab-item} abbreviated command\n",
    "```\n",
    "mongosh\n",
    "```\n",
    "````\n",
    "````{tab-item} full command\n",
    "```\n",
    "mongosh \"mongodb://localhost:27017\"\n",
    "```\n",
    "````\n",
    "`````\n",
    "\n",
    "```{admonition} Documentation\n",
    "[Switch Databases](https://www.mongodb.com/docs/mongodb-shell/run-commands/#switch-databases)\n",
    "```\n",
    "\n",
    "List the current database.\n",
    "\n",
    "```\n",
    "db\n",
    "```\n",
    "\n",
    "List all the databases.\n",
    "\n",
    "```\n",
    "show dbs\n",
    "```\n",
    "\n",
    "Switch to database `myDatabase`.\n",
    "\n",
    "```\n",
    "use myDatabase\n",
    "```\n",
    "\n",
    "Show database collections.\n",
    "\n",
    "```\n",
    "show collections\n",
    "```\n",
    "\n",
    "```{admonition} Documentation\n",
    "[Perform CRUD Operations](https://www.mongodb.com/docs/mongodb-shell/crud/) <br>\n",
    "[Insert Documents](https://www.mongodb.com/docs/mongodb-shell/crud/insert/) <br>\n",
    "[Query Documents](https://www.mongodb.com/docs/mongodb-shell/crud/read/)\n",
    "```\n",
    "\n",
    "Return all documents from collection `myCollection`.\n",
    "\n",
    "```\n",
    "db.myCollection.find()\n",
    "```\n",
    "\n",
    "Exit the MongoDB shell.\n",
    "\n",
    "```\n",
    "quit\n",
    "```"
   ]
  },
  {
   "cell_type": "markdown",
   "metadata": {},
   "source": [
    "---"
   ]
  },
  {
   "cell_type": "markdown",
   "metadata": {},
   "source": [
    "## Resources"
   ]
  },
  {
   "cell_type": "markdown",
   "metadata": {},
   "source": [
    "* https://mmas.github.io/mongodb-seconds-to-minutes"
   ]
  },
  {
   "cell_type": "markdown",
   "metadata": {},
   "source": [
    "---"
   ]
  }
 ],
 "metadata": {
  "language_info": {
   "name": "python"
  }
 },
 "nbformat": 4,
 "nbformat_minor": 2
}
