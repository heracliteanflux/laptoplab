{
 "cells": [
  {
   "cell_type": "markdown",
   "metadata": {},
   "source": [
    "# Data"
   ]
  },
  {
   "cell_type": "markdown",
   "metadata": {},
   "source": [
    "---"
   ]
  },
  {
   "cell_type": "markdown",
   "metadata": {},
   "source": [
    "## Table of Contents\n",
    "```{contents}\n",
    "```"
   ]
  },
  {
   "cell_type": "markdown",
   "metadata": {},
   "source": [
    "---"
   ]
  },
  {
   "cell_type": "markdown",
   "metadata": {},
   "source": [
    "## Resources"
   ]
  },
  {
   "cell_type": "markdown",
   "metadata": {},
   "source": [
    "Tools & Technologies\n",
    "* [ h ] Apache Airflow\n",
    "* [ h ] Apache Hadoop\n",
    "* [ h ] Apache Kafka\n",
    "* [ h ] Apache Spark\n",
    "* [ [h](https://www.dask.org) ] Dask\n",
    "* [ h ] Docker\n",
    "* [ h ] Kubeflow\n",
    "* [ h ] Kubernetes\n",
    "* [ [h](https://www.mongodb.com) ] MongoDB\n",
    "* [ [h](https://www.mysql.com) ] MySQL\n",
    "* [ [h](https://neo4j.com) ] Neo4j\n",
    "* [ [h](https://www.postgresql.org) ] PostgreSQL\n",
    "* [ [h](https://redis.io) ] Redis\n",
    "\n",
    "freeCodeCamp\n",
    "* [ [y](https://www.youtube.com/watch?v=jcTj6FgWOpo) ] `06-16-2021`. \"Data Analytics Crash Course: Teach Yourself in 30 Days\".\n",
    "* [ [y](https://www.youtube.com/watch?v=HXV3zeQKqGY) ] `07-02-2018`. \"SQL Tutorial - Full Database Course for Beginners\".\n",
    "* [ [y](https://www.youtube.com/watch?v=ztHopE5Wnpc) ] `08-31-2018`. \"Database Design Course - Learn how to design and plan a database for beginners\".\n",
    "\n",
    "Geek's Lessons\n",
    "* [ [y](https://www.youtube.com/watch?v=uGkIhx8KhbU) ] Geek's Lesson's SQL Tutorial\n",
    "* [ [y](https://www.youtube.com/watch?v=2Fn0WAyZV0E) ] Geek's Lesson's Advanced SQL Tutorial\n",
    "\n",
    "My Lesson\n",
    "* [ [y](https://www.youtube.com/watch?v=1PAy6d16ADQ) ] `11-17-2022`. \"IBM Data Analyst Complete Course | Data Analyst Tutorial For Beginners\".\n",
    "\n",
    "Nerd's Lesson\n",
    "* [ [y](https://www.youtube.com/watch?v=jempH0qPQn8) ] `07-10-2023`. \"Advanced Data Analytics,Google | Data Analytics\".\n",
    "* [ [y](https://www.youtube.com/watch?v=iwRneX7GIGI) ] `04-15-2023`. \"Database Engineering Complete Course | DBMS Complete Course\". YouTube.\n",
    "\n",
    "more\n",
    "* [ [y](https://www.youtube.com/watch?v=mGUlW6YgHjE) ] `03-01-2023`. Stenway. \"Stop Using CSV !\"."
   ]
  },
  {
   "cell_type": "markdown",
   "metadata": {},
   "source": [
    "online\n",
    "* https://awesomedataengineering.com/\n",
    "* https://www.databricks.com/p/ebook/the-big-book-of-data-engineering\n",
    "* https://github.com/igorbarinov/awesome-data-engineering\n",
    "* https://www.reddit.com/r/dataengineering/"
   ]
  },
  {
   "cell_type": "markdown",
   "metadata": {},
   "source": [
    "---"
   ]
  },
  {
   "cell_type": "markdown",
   "metadata": {},
   "source": [
    "## Texts"
   ]
  },
  {
   "cell_type": "markdown",
   "metadata": {},
   "source": [
    "DBs\n",
    "* [ [h](http://webdam.inria.fr/Alice/) ] Abiteboul, Serge; Richard Hull; & Victor Vianu. _Foundations of Databases_.\n",
    "* Campbell, Laine & Charity Majors. (2017). _Database Reliability Engineering: Designing and Operating Resilient Database Systems_. O'Reilly.\n",
    "* [ [h](https://www.pdbmbook.com) ] Lemahieu, Wilfred, Seppe Vanden Broucke, & Bart Baesens. (2018). _Principles of Database Management: The Practical Guide to Storing, Managing, and Analyzing Big and Small Data_. Cambridge University Press.\n",
    "* [ [h](https://www.databass.dev) ] Petrov, Alex. (2019). _Database Internals: A Deep Dive into How Distributed Data Systems Work_. O'Reilly.\n",
    "* [ [h](http://pages.cs.wisc.edu/~dbbook/index.html) ] Ramakrishnan, Raghu & Johannes Gehrke. (2003). _Database Management Systems, 3rd Ed_. McGraw-Hill.\n",
    "\n",
    "Data\n",
    "* [ [h](https://research.cs.wisc.edu/dibook/) ] Doan, AnHai; Alon Halevy; & Zachary Ives. (2012). _Principles of Data Integration_. Morgan Kaufmann.\n",
    "\n",
    "Data Analytics & Science\n",
    "* [ [g](https://github.com/FlorentBuissonOReilly/BehavioralDataAnalysis) ] Buisson, Florent. (2021). _Behavioral Data Analysis with R and Python_. O'Reilly.\n",
    "* [ [G](https://github.com/mikexcohen/LinAlg4DataScience) ] Cohen, Mike X. (2022). _Practical Linear Algebra for Data Science: From Core Concepts to Applications Using Python_. O'Reilly.\n",
    "* [ [g](https://github.com/jamesdensmore/datapipelinesbook) ] Densmore, James. (2021). _Data Pipelines Pocket Reference: Moving and Processing Data for Analytics_. O'Reilly.\n",
    "* Downey, Allen B. (2023). _Elements of Data Science_. [No Starch Press](https://nostarch.com/elementsofdatascience).\n",
    "* Farrelly, Colleen M. & Yae Ulrich Gaba. (2023). _The Shape of Data: Network Science, Geometry-Based Machine Learning, and Topological Data Analysis in R_. [No Starch Press](https://nostarch.com/shapeofdata).\n",
    "* [ [g](https://github.com/data-science-on-aws/workshop) ] Fregly, Chris & Antje Barth. (2021). _Data Science on AWS: Implementing End-to-End, Continuous AI and Machine Learning Pipelines_. O'Reilly.\n",
    "* [ [g](https://github.com/joelgrus/data-science-from-scratch) ] Grus, Joel. (2019). _Data Science from Scratch: First Principles with Python_. 2nd Ed. O'Reilly.\n",
    "* [ [h](https://datascienceatthecommandline.com) ][ [g](https://github.com/jeroenjanssens/data-science-at-the-command-line) ] Janssens, Jeroen. (2021). _Data Science at the Command Line: Obtain, Scrub, Explore, and Model Data with Unix Power Tools_. 2nd Ed. O'Reilly.\n",
    "* [ [g](https://github.com/GoogleCloudPlatform/data-science-on-gcp) ] Lakshmanan, Valliappa. (2022). _Data Science on the Google Cloud Platform: Implementing End-to-End Real-Time Data Pipelines: From Ingest to Machine Learning_. 2nd Ed. O'Reilly\n",
    "* [ [g](https://github.com/GoogleCloudPlatform/data-science-on-gcp) ] Lakshmanan, Valliappa. (2018). _Data Science on the Google Cloud Platform: Implementing End-to-End Real-Time Data Pipelines: From Ingest to Machine Learning_. O'Reilly.\n",
    "* McGregor, Susan E. (2021). _Practical Python Data Wrangling and Data Quality: Getting Started with Reading, Cleaning, and Analyzing Data_. O'Reilly.\n",
    "* [ [h](https://github.com/wesm/pydata-book) ] McKinney, Wes. (2017). _Python for Data Analysis: Data Wrangling with Pandas, NumPy, and IPython, 2nd Ed_. O'Reilly.\n",
    "* Nield, Thomas. (2022). _Essential Math for Data Science: Take Control of Your Data with Fundamental Linear Algebra, Probability, and Statistics_. O'Reilly.\n",
    "* Provost, Foster & Tom Fawcett. (2013). _Data Science for Business: What You Need to Know About Data Mining and Data-Analytic Thinking_. O'Reilly.\n",
    "* Tuckfield, Bradford. (2023). _Data Science for Business People_. [No Starch Press](https://nostarch.com/data-science-business-people).\n",
    "* [ [g](https://github.com/outerbounds/dsbook) ] Tuulos, Ville. (2022). _Effective Data Science Infrastructure: How to make data scientists productive_. [Manning](https://www.manning.com/books/effective-data-science-infrastructure).\n",
    "* [ [g](https://github.com/jakevdp/PythonDataScienceHandbook) ] VanderPlas, Jake. (2016). _Python Data Science Handbook: Essential Tools for Working with Data_. O'Reilly.\n",
    "\n",
    "Data Viz\n",
    "* Dale, Kyran. (2022). _Data Visualization with Python and JavaScript_. 2nd Ed. O'Reilly.\n",
    "* [ [g](https://github.com/HandsOnDataViz/book) ] Dougherty, Jack & Ilya Ilyankou. (2021). _Hands-On Data Visualization: Interactive Storytelling from Spreadsheets to Code_. O'Reilly.\n",
    "* [ [g](https://resources.oreilly.com/examples/0636920041320) ] Fisher, Danyel & Miriah Meyer. (2018). _Making Data Visual: A Practical Guide to Using Visualization for Insight_. O'Reilly.\n",
    "* Healy, Kieran. (2019). _Data Visualization: A Practical Instroduction_. Princeton University Press.\n",
    "* [ [g](https://github.com/scotthmurray/d3-book) ] Murray, Scott. (2017). _Interactive Data Visualization for the Web: An Introduction to Designing with D3, 2nd Ed_. O'Reilly.\n",
    "* [ [g](https://github.com/sathomas/jsDataV.is-source) ] Thomas, Stephen A. (2015). _Data Visualization with JavaScript_. No Starch Press.\n",
    "* [ [g](https://github.com/clauswilke/dataviz) ] Wilke, Claus O. (2019). _Fundamentals of Data Visualization: A Primer on Making Informative and Compelling Figures_. O'Reilly.\n",
    "\n",
    "More\n",
    "* Alexopoulos, Panos. (2020). _Semantic Modeling for Data: Avoiding Pitfalls and Breaking Dilemmas_. O'Reilly.\n",
    "* Eryurek, Evren et al. (2021). _Data Governance The Definitive Guide: People, Processes, and Tools to Operationalize Data Trustworthiness_. O'Reilly.\n",
    "* [ [h](https://dataintensive.net) ][ [g](https://github.com/ept/ddia-references) ] Kleppmann, Martin. (2017). _Designing Data-Intensive Applications: The Big Ideas Behind Reliable, Scalable, and Maintainable Systems_. O'Reilly.\n",
    "* Reis, Joe & Matt Housley. (2022). _Fundamentals of Data Engineering: Plan and Build Robust Data Systems_. O'Reilly.\n",
    "* Seldess, Jesse, Ben Darnell, & Guy Harrison. (2022). _CockroachDB: The Definitive Guide: Distributed Data at Scale_. O'Reilly.\n",
    "* Strengholt, Piethein. (2020). _Data Management at Scale: Best Practices for Enterprise Architecture_. O'Reilly.\n",
    "* [ [h](https://medium.com/ssdr-book) ] Uttamchandani, Sandeep. (2020). _The Self-Service Data Roadmap: Democratize Data and Reduce Time to Insight_. O'Reilly."
   ]
  },
  {
   "cell_type": "markdown",
   "metadata": {},
   "source": [
    "---"
   ]
  },
  {
   "cell_type": "markdown",
   "metadata": {},
   "source": [
    "## Terms"
   ]
  },
  {
   "cell_type": "markdown",
   "metadata": {},
   "source": [
    "* [ [w](https://en.wikipedia.org/wiki/Column_(database)) ] Column\n",
    "* [ [w](https://en.wikipedia.org/wiki/Column-oriented_DBMS) ] Column-Oriented DBMS\n",
    "* [ [w](https://en.wikipedia.org/wiki/Create,_read,_update_and_delete) ] Create, Read, Update, Delete (CRUD)\n",
    "* [ [w](https://en.wikipedia.org/wiki/Data_architecture) ] Data Architecture\n",
    "* [ [w](https://en.wikipedia.org/wiki/Data_cleansing) ] Data Cleaning\n",
    "* [ [w](https://en.wikipedia.org/wiki/Data_extraction) ] Data Extraction\n",
    "* [ [w](https://en.wikipedia.org/wiki/Data_integration) ] Data Integration\n",
    "* [ [w](https://en.wikipedia.org/wiki/Data_integrity) ] Data Integrity\n",
    "* [ [w](https://en.wikipedia.org/wiki/Data_lake) ] Data Lake\n",
    "* [ [w](https://en.wikipedia.org/wiki/Data_management) ] Data Management\n",
    "* [ [w](https://en.wikipedia.org/wiki/Data_migration) ] Data Migration\n",
    "* [ w ] Data Pipeline\n",
    "* [ [w](https://en.wikipedia.org/wiki/Data_processing) ] Data Processing\n",
    "* [ [w](https://en.wikipedia.org/wiki/Data_retrieval) ] Data Retrieval\n",
    "* [ [w](https://en.wikipedia.org/wiki/Sink_(computing)) ] Data Sink\n",
    "* [ [w](https://en.wikipedia.org/wiki/Computer_data_storage) ] Data Storage\n",
    "* [ [w](https://en.wikipedia.org/wiki/Data_transformation) ] Data Transformation\n",
    "* [ [w](https://en.wikipedia.org/wiki/Data_type) ] Data Type\n",
    "* [ [w](https://en.wikipedia.org/wiki/Data_warehouse) ] Data Warehouse\n",
    "* [ [w](https://en.wikipedia.org/wiki/Database) ] Database\n",
    "* [ [w](https://en.wikipedia.org/wiki/Database#Database_management_system) ] Database Management System (DBMS)\n",
    "* [ w ] Database Modeling\n",
    "* [ w ] Database System\n",
    "* [ [w](https://en.wikipedia.org/wiki/Enterprise_Data_Modeling) ] Enterprise Data Model\n",
    "* [ [w](https://en.wikipedia.org/wiki/Extract,_load,_transform) ] Extract, Load, Transform (ELT)\n",
    "* [ w ] Extract, Transform, Load (ETL)\n",
    "* [ [w](https://en.wikipedia.org/wiki/Graph_database) ] Graph Database (GDB)\n",
    "* [ [w](https://en.wikipedia.org/wiki/Heterogeneous_database_system) ] Heterogeneous Database System (HDB)\n",
    "* [ [w](https://en.wikipedia.org/wiki/Hierarchical_database_model) ] Hierarchical Database Model\n",
    "* [ [w](https://en.wikipedia.org/wiki/MUMPS) ] MUMPS\n",
    "* [ [w](https://en.wikipedia.org/wiki/NoSQL) ] NoSQL\n",
    "* [ [w](https://en.wikipedia.org/wiki/Object_database) ] Object Database\n",
    "* [ w ] Object-Oriented Database Management System (OODBMS)\n",
    "* [ [w](https://en.wikipedia.org/wiki/Object–relational_database) ] Object-Relational Database (ORD)\n",
    "* [ [w](https://en.wikipedia.org/wiki/Object–relational_database) ] Object-Relational Database Management System (ORDBMS)\n",
    "* [ [w](https://en.wikipedia.org/wiki/Object–relational_mapping) ] Object-Relational Mapping (ORM)\n",
    "* [ [w](https://en.wikipedia.org/wiki/Online_analytical_processing) ] Online Analytical Processing (OLAP)\n",
    "* [ [w](https://en.wikipedia.org/wiki/Online_transaction_processing) ] Online Transaction Processing (OLTP)\n",
    "* [ [w](https://en.wikipedia.org/wiki/Operational_data_store) ] Operational Data Store\n",
    "* [ [w](https://en.wikipedia.org/wiki/Query_language) ] Query Language\n",
    "* [ [w](https://en.wikipedia.org/wiki/Relational_database#RDBMS) ] Relational Database Management System (RDBMS)\n",
    "* [ [w](https://en.wikipedia.org/wiki/Row_(database)) ] Row\n",
    "* [ [w](https://en.wikipedia.org/wiki/SQL) ] Structured Query Language (SQL)\n",
    "* [ [w](https://en.wikipedia.org/wiki/Unstructured_data) ] Unstructured Data"
   ]
  },
  {
   "cell_type": "markdown",
   "metadata": {},
   "source": [
    "---"
   ]
  }
 ],
 "metadata": {
  "language_info": {
   "name": "python"
  }
 },
 "nbformat": 4,
 "nbformat_minor": 2
}
