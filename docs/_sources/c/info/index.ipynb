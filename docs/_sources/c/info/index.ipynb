{
 "cells": [
  {
   "cell_type": "markdown",
   "metadata": {},
   "source": [
    "# Information"
   ]
  },
  {
   "cell_type": "markdown",
   "metadata": {},
   "source": [
    "---"
   ]
  },
  {
   "cell_type": "markdown",
   "metadata": {},
   "source": [
    "## Table of Contents\n",
    "```{contents}\n",
    "```"
   ]
  },
  {
   "cell_type": "markdown",
   "metadata": {},
   "source": [
    "---"
   ]
  },
  {
   "cell_type": "markdown",
   "metadata": {},
   "source": [
    "## Resources"
   ]
  },
  {
   "cell_type": "markdown",
   "metadata": {},
   "source": [
    "* [ [h](https://lucene.apache.org) ] Apache Lucene\n",
    "* [ [h](https://www.elastic.co/elasticsearch/) ] ElasticSearch"
   ]
  },
  {
   "cell_type": "markdown",
   "metadata": {},
   "source": [
    "* [ [y](https://www.youtube.com/watch?v=b6VdGHSV6qg) ] `05-25-2022`. Computerphile. \"Why Information Theory is Important - Computerphile\"."
   ]
  },
  {
   "cell_type": "markdown",
   "metadata": {},
   "source": [
    "---"
   ]
  },
  {
   "cell_type": "markdown",
   "metadata": {},
   "source": [
    "## Texts"
   ]
  },
  {
   "cell_type": "markdown",
   "metadata": {},
   "source": [
    "* Battelle, John. (2005). _The Search: How Google and Its Rivals Rewrote the Rules of Business and Transformed Our Culture_.\n",
    "* Croft, W. Bruce, Donald Metzler, & Trevor Strohman. (2015). _Search Engines: Information Retrieval in Practice_. Pearson. [Home](http://ciir.cs.umass.edu/downloads/SEIRiP.pdf).\n",
    "* Greengrass, Ed. (2000). _Information Retrieval: A Survey_. [Home](https://www.csee.umbc.edu/csee/research/cadip/readings/IR.report.120600.book.pdf).\n",
    "* Langville, Amy N. & Carl D. Meyer. (2006). _Google's PageRank and Beyond: The Science of Search Engine Rankings_. Princeton University Press.\n",
    "* Manning, Christopher D., Prabhakar Raghavan, & Hinrich Schutze. (2008). _Intrtoduction to Information Retrieval_. Cambridge University Press. [Home](https://nlp.stanford.edu/IR-book/information-retrieval-book.html). [Resources](https://nlp.stanford.edu/IR-book/information-retrieval.html).\n",
    "* Teofili, Tommaso. (2019). _Deep Learning for Search_. Manning.\n",
    "* Van Rijsbergen, C. J. (1979). _Information Retrieval_. [Home](http://www.dcs.gla.ac.uk/Keith/Preface.html).\n",
    "* Witten, Ian, Marco Gori, & Teresa Numerico. (2006). _Web Dragons: Inside the Myths of Search Engine Technology_."
   ]
  },
  {
   "cell_type": "markdown",
   "metadata": {},
   "source": [
    "---"
   ]
  },
  {
   "cell_type": "markdown",
   "metadata": {},
   "source": [
    "## Figures"
   ]
  },
  {
   "cell_type": "markdown",
   "metadata": {},
   "source": [
    "* [ [w](https://en.wikipedia.org/wiki/Garrett_Birkhoff) ] `1911-1996` Birkhoff, Garrett\n",
    "* [ [w](https://en.wikipedia.org/wiki/Luciano_Floridi) ] `1964-----` Floridi, Luciano\n",
    "* [ [w](https://en.wikipedia.org/wiki/Lee_Giles) ] `---------` Giles, C. Lee [ [h](http://clgiles.ist.psu.edu) ][ [PSU IST 441](http://clgiles.ist.psu.edu/IST441/) ]\n",
    "* [ [w](https://en.wikipedia.org/wiki/Andrey_Kolmogorov) ] `1903-1987` Kolmogorov, Andrey\n",
    "* [ [w](https://en.wikipedia.org/wiki/Harry_Nyquist) ] `1889-1976` Nyquist, Harry\n",
    "* [ [w](https://en.wikipedia.org/wiki/Charles_Sanders_Peirce) ] `1839-1914` Peirce, Charles Sanders\n",
    "* [ [w](https://en.wikipedia.org/wiki/Claude_Shannon) ] `1916-2001` Shannon, Claude\n",
    "  * [ [w](https://en.wikipedia.org/wiki/A_Mathematical_Theory_of_Communication) ] `1948`. \"A Mathematical Theory of Communication\".\n",
    "  * [ w ] `1949`. _The Mathematical Theory of Communication_.\n",
    "* [ [w](https://en.wikipedia.org/wiki/Rudolf_Wille) ] `1937-2017` Willie, Rudolf"
   ]
  },
  {
   "cell_type": "markdown",
   "metadata": {},
   "source": [
    "---"
   ]
  },
  {
   "cell_type": "markdown",
   "metadata": {},
   "source": [
    "## Terms"
   ]
  },
  {
   "cell_type": "markdown",
   "metadata": {},
   "source": [
    "* [ [w](https://en.wikipedia.org/wiki/Additive_white_Gaussian_noise) ] Additive White Gaussian Noise (AWGN)\n",
    "* [ [w](https://en.wikipedia.org/wiki/Algorithmic_information_theory) ] Algorithmic Information Theory\n",
    "* [ [w](https://en.wikipedia.org/wiki/Channel_capacity) ] Channel Capacity\n",
    "* [ [w](https://en.wikipedia.org/wiki/Communication_channel) ] Communication Channel\n",
    "* [ [w](https://en.wikipedia.org/wiki/Text_corpus) ] Corpus\n",
    "* [ [w](https://en.wikipedia.org/wiki/Entropy_(information_theory)) ] Entropy\n",
    "* [ [w](https://en.wikipedia.org/wiki/Formal_concept_analysis) ] Formal Concept Analysis (FCA)\n",
    "* [ [w](https://en.wikipedia.org/wiki/Hartley_(unit)) ] Hartley\n",
    "* [ [w](https://en.wikipedia.org/wiki/Informatics) ] Informatics\n",
    "* [ [w](https://en.wikipedia.org/wiki/Information) ][ [s](https://plato.stanford.edu/entries/information/) ] Information\n",
    "* [ [w](https://en.wikipedia.org/wiki/Information_Age) ] Information Age\n",
    "* [ [w](https://en.wikipedia.org/wiki/Information_content) ] Information Content\n",
    "* [ [w](https://en.wikipedia.org/wiki/Information_engineering) ] Information Engineering\n",
    "* [ [w](https://en.wikipedia.org/wiki/Information_ethics) ] Information Ethics\n",
    "* [ [w](https://en.wikipedia.org/wiki/Information_history) ] Information History\n",
    "* [ [w](https://en.wikipedia.org/wiki/Information_logistics) ] Information Logistics\n",
    "* [ [w](https://en.wikipedia.org/wiki/Information_processing_(psychology)) ] Information Processing\n",
    "* [ [w](https://en.wikipedia.org/wiki/Information_overload) ] Information Overload\n",
    "* [ [w](https://en.wikipedia.org/wiki/Information_retrieval) ] Information Retrieval (IR)\n",
    "* [ [w](https://en.wikipedia.org/wiki/Information_science) ] Information Science\n",
    "* [ [w](https://en.wikipedia.org/wiki/Information_system) ] Information System\n",
    "* [ [w](https://en.wikipedia.org/wiki/Information_technology) ] Information Technology (IT)\n",
    "* [ [w](https://en.wikipedia.org/wiki/Information_theory) ] Information Theory\n",
    "* [ [w](https://en.wikipedia.org/wiki/History_of_information_theory) ] Information Theory History\n",
    "* [ [w](https://en.wikipedia.org/wiki/Data_and_information_visualization) ] Information Visualization\n",
    "* [ [w](https://en.wikipedia.org/wiki/Information-theoretic_security) ] Information-Theoretic Security\n",
    "* [ [w](https://en.wikipedia.org/wiki/Infosphere) ] Infosphere\n",
    "* [ [w](https://en.wikipedia.org/wiki/Kolmogorov_complexity) ] Kolmogorov Complexity\n",
    "* [ [w](https://en.wikipedia.org/wiki/Logic_of_information) ] Logic of Information\n",
    "* [ [w](https://en.wikipedia.org/wiki/Mutual_information) ] Mutual Information\n",
    "* [ [w](https://en.wikipedia.org/wiki/Noise_(electronics)) ] Noise\n",
    "* [ [w](https://en.wikipedia.org/wiki/Shannon%27s_source_coding_theorem) ] Noiseless Coding Theorem\n",
    "* [ [w](https://en.wikipedia.org/wiki/Noisy-channel_coding_theorem) ] Noisy-Channel Coding Theorem\n",
    "* [ [w](https://en.wikipedia.org/wiki/Ontology_(information_science)) ] Ontology\n",
    "* [ [w](https://en.wikipedia.org/wiki/Philosophy_of_information) ] Philosophy of Information\n",
    "* [ [w](https://en.wikipedia.org/wiki/Quantities_of_information) ] Quantities of Information\n",
    "* [ [w](https://en.wikipedia.org/wiki/Search_engine) ] Search Engine\n",
    "* [ [w](https://en.wikipedia.org/wiki/Information_content) ] Self-Information\n",
    "* [ [w](https://en.wikipedia.org/wiki/Shannon_(unit)) ] Shannon\n",
    "* [ [w](https://en.wikipedia.org/wiki/Entropy_(information_theory)) ] Shannon Entropy\n",
    "* [ [w](https://en.wikipedia.org/wiki/Information_content) ] Shannon Information\n",
    "* [ [w](https://en.wikipedia.org/wiki/Shannon%27s_source_coding_theorem) ] Shannon's Source Coding Theorem\n",
    "* [ [w](https://en.wikipedia.org/wiki/Noisy-channel_coding_theorem) ] Shannon's Theorem\n",
    "* [ [w](https://en.wikipedia.org/wiki/Shannon%E2%80%93Hartley_theorem) ] Shannon-Hartley Theorem\n",
    "* [ [w](https://en.wikipedia.org/wiki/Signal) ] Signal\n",
    "* [ [w](https://en.wikipedia.org/wiki/Signal-flow_graph) ] Signal-Flow Graph\n",
    "* [ [w](https://en.wikipedia.org/wiki/Information_content) ] Surprisal\n",
    "* [ [w](https://en.wikipedia.org/wiki/Transmission_medium) ] Transmission Medium"
   ]
  },
  {
   "cell_type": "markdown",
   "metadata": {},
   "source": [
    "---"
   ]
  }
 ],
 "metadata": {
  "kernelspec": {
   "display_name": "Python 3 (ipykernel)",
   "language": "python",
   "name": "python3"
  },
  "language_info": {
   "codemirror_mode": {
    "name": "ipython",
    "version": 3
   },
   "file_extension": ".py",
   "mimetype": "text/x-python",
   "name": "python",
   "nbconvert_exporter": "python",
   "pygments_lexer": "ipython3",
   "version": "3.11.5"
  }
 },
 "nbformat": 4,
 "nbformat_minor": 4
}
