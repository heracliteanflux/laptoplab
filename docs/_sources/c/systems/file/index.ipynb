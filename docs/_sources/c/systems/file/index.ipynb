{
 "cells": [
  {
   "cell_type": "markdown",
   "metadata": {},
   "source": [
    "# File System & Storage"
   ]
  },
  {
   "cell_type": "markdown",
   "metadata": {},
   "source": [
    "---"
   ]
  },
  {
   "cell_type": "markdown",
   "metadata": {},
   "source": [
    "What is a __[file system](https://en.wikipedia.org/wiki/File_system)__?\n",
    "\n",
    "The file system is made up of resources such as __[files](https://en.wikipedia.org/wiki/Computer_file)__ and __[folders (directories)](https://en.wikipedia.org/wiki/Directory_(computing))__. Folders can contain both folders and files. Files contain neither files nor folders. If a directory `x` contains a directory `y` then we say that `x` is the __parent__ of `y`. The file system is like an upside-down tree with the root directory at the top of the tree and branches of nested folders terminating in files and empty folders--the leaves of the tree.\n",
    "\n",
    "We are always in _some_ directory in the filesystem. This directory is called the __[working directory](https://en.wikipedia.org/wiki/Working_directory)__.\n",
    "\n",
    "An __absolute path__ (to some resource) is the path (to that resource) _relative to the root directory_.\n",
    "\n",
    "A __relative path__ (to some resource) is the path (to that resource) _relative to the working directory_."
   ]
  },
  {
   "cell_type": "markdown",
   "metadata": {},
   "source": [
    "---"
   ]
  },
  {
   "cell_type": "markdown",
   "metadata": {},
   "source": [
    "## Resources"
   ]
  },
  {
   "cell_type": "markdown",
   "metadata": {},
   "source": [
    "[ h ] Hadoop Distributed File System (HDFS)\n",
    "\n",
    "[ [h](https://btrfs.wiki.kernel.org/index.php/Main_Page) ] Btrfs\n",
    "* [ [y](https://www.youtube.com/watch?v=8xGRL14tZLg) ] Lawrence Systems. `05-11-2022`. \"The Homelab Show Episode 55: BTRFS\".\n",
    "* [ [y](https://www.youtube.com/watch?v=nMCEcoxVT9g&t=1s) ] Learn Linux TV. `09-28-2022`. \"btrfs Filesystem for Linux | Top Docs\".\n",
    "* [ [y](https://www.youtube.com/watch?v=RPO-fS6HQbY) ] Learn Linux TV. `06-14-2022`. \"Modernize your Linux Storage with btrfs!\".\n",
    "\n",
    "[ [h](https://www.lustre.org/) ] Lustre\n",
    "\n",
    "[ [h](https://openzfs.org/wiki/Main_Page) ] OpenZFS\n",
    "* [ [y](https://www.youtube.com/watch?v=11bWnvCwTOU) ] Lawrence Systems. `10-03-2022`. \"TrueNAS: How To Expand A ZFS Pool\".\n",
    "* [ [y](https://www.youtube.com/watch?v=M4DLChRXJog) ] Lawrence Systems. `03-16-2022`. \"Explaining ZFS LOG and L2ARC Cache: Do You Need One and How Do They Work?\".\n",
    "* [ [y](https://www.youtube.com/watch?v=nlBXXdz0JKA) ] Lawrence Systems. `02-23-2022`. \"Why The ZFS Copy On Write File System Is Better Than A Journaling One\".\n",
    "* [ [y](https://www.youtube.com/watch?v=h4ocFY-BJAQ) ] Lawrence Systems. `10-23-2021`. \"How to Layout 60 Hard Drives in a ZFS Pool & Benchmarking Performance\".\n",
    "\n",
    "Online\n",
    "* https://www.linuxfoundation.org/blog/blog/classic-sysadmin-absolute-path-vs-relative-path-in-linux-unix"
   ]
  },
  {
   "cell_type": "markdown",
   "metadata": {},
   "source": [
    "---"
   ]
  },
  {
   "cell_type": "markdown",
   "metadata": {},
   "source": [
    "## Terms"
   ]
  },
  {
   "cell_type": "markdown",
   "metadata": {},
   "source": [
    "* [ [w](https://en.wikipedia.org/wiki/2_GB_limit) ] 2 GB Limit\n",
    "* [ [w](https://en.wikipedia.org/wiki/Aliasing_(computing)) ] Alias\n",
    "* [ [w](https://en.wikipedia.org/wiki/Allocate-on-flush) ] Allocate-on-flush\n",
    "* [ [w](https://en.wikipedia.org/wiki/Allocation_group) ] Allocation Group\n",
    "* [ [w](https://en.wikipedia.org/wiki/Anonymous_pipe) ] Anonymous Pipe\n",
    "* [ [w](https://en.wikipedia.org/wiki/Apple_File_System) ] [APFS] Apple File System\n",
    "* [ [w](https://en.wikipedia.org/wiki/B-tree) ] B-tree\n",
    "* [ [w](https://en.wikipedia.org/wiki/B%2B_tree) ] B+ Tree\n",
    "* [ [w](https://en.wikipedia.org/wiki/Backup) ] Backup\n",
    "* [ [w](https://en.wikipedia.org/wiki/Berkeley_sockets) ] Berkeley Socket\n",
    "* [ [w](https://en.wikipedia.org/wiki/Block_(data_storage)) ] Block\n",
    "* [ [w](https://en.wikipedia.org/wiki/Btrfs) ] Btrfs\n",
    "* [ [w](https://en.wikipedia.org/wiki/Checksum) ] Checksum\n",
    "* [ [w](https://en.wikipedia.org/wiki/Cluster_Shared_Volumes) ] Cluster Shared Volumes\n",
    "* [ [w](https://en.wikipedia.org/wiki/Clustered_file_system) ] Clustered File System\n",
    "* [ [w](https://en.wikipedia.org/wiki/Copy-on-write) ] [COW] Copy-on-write\n",
    "* [ [w](https://en.wikipedia.org/wiki/Data_and_object_carousel) ] Data and Object Carousel\n",
    "* [ [w](https://en.wikipedia.org/wiki/Data_corruption) ] Data Corruption\n",
    "* [ [w](https://en.wikipedia.org/wiki/Data_deduplication) ] Data Deduplication\n",
    "* [ [w](https://en.wikipedia.org/wiki/Data_degradation) ] Data Degradation\n",
    "* [ [w](https://en.wikipedia.org/wiki/Data_loss) ] Data Loss\n",
    "* [ [w](https://en.wikipedia.org/wiki/Defragmentation) ] Defragmentation\n",
    "* [ [w](https://en.wikipedia.org/wiki/Device_file) ] Device File\n",
    "* [ [w](https://en.wikipedia.org/wiki/Differential_backup) ] Differential Backup\n",
    "* [ [w](https://en.wikipedia.org/wiki/Directory_(computing)) ] Directory\n",
    "* [ [w](https://en.wikipedia.org/wiki/Directory_structure) ] Directory Structure\n",
    "* [ [w](https://en.wikipedia.org/wiki/Dirty_bit) ] Dirty Bit\n",
    "* [ [w](https://en.wikipedia.org/wiki/Disk_array_controller) ] Disk Array Controller\n",
    "* [ [w](https://en.wikipedia.org/wiki/Doors_(computing)) ] Door\n",
    "* [ [w](https://en.wikipedia.org/wiki/Ext2) ] Ext2\n",
    "* [ [w](https://en.wikipedia.org/wiki/Ext3) ] Ext3\n",
    "* [ [w](https://en.wikipedia.org/wiki/Ext4) ] Ext4\n",
    "* [ [w](https://en.wikipedia.org/wiki/Extended_file_attributes) ] Extended File Attributes\n",
    "* [ [w](https://en.wikipedia.org/wiki/Extent_(file_systems)) ] Extent\n",
    "* [ [w](https://en.wikipedia.org/wiki/Computer_file) ] File\n",
    "* [ [w](https://en.wikipedia.org/wiki/File_Allocation_Table) ] [FAT] File Allocation Table\n",
    "* [ [w](https://en.wikipedia.org/wiki/File_attribute) ] File Attribute\n",
    "* [ [w](https://en.wikipedia.org/wiki/File_descriptor) ] File Descriptor\n",
    "* [ [w](https://en.wikipedia.org/wiki/Filename_extension) ] File Extension\n",
    "* [ [w](https://en.wikipedia.org/wiki/File_manager) ] File Manager\n",
    "* [ [w](https://en.wikipedia.org/wiki/Filename) ] File Name\n",
    "* [ [w](https://en.wikipedia.org/wiki/File-system_permissions) ] File Permissions\n",
    "* [ [w](https://en.wikipedia.org/wiki/File_size) ] File Size\n",
    "* [ [w](https://en.wikipedia.org/wiki/File_system) ] File System\n",
    "* [ [w](https://en.wikipedia.org/wiki/Filesystem_Hierarchy_Standard) ] [FHS] File System Hierarchy Standard\n",
    "* [ [w](https://en.wikipedia.org/wiki/Comparison_of_file_systems) ] File Systems\n",
    "* [ [w](https://en.wikipedia.org/wiki/Unix_file_types) ] File Type\n",
    "* [ [w](https://en.wikipedia.org/wiki/Fragmentation_(computing)) ] Fragmentation\n",
    "* [ [w](https://en.wikipedia.org/wiki/Glob_(programming)) ] Glob\n",
    "* [ [w](https://en.wikipedia.org/wiki/Group_identifier) ] Group Identifier\n",
    "* [ [w](https://en.wikipedia.org/wiki/GUID_Partition_Table) ] GUID Partition Table\n",
    "* [ [w](https://en.wikipedia.org/wiki/Apache_Hadoop#Hadoop_distributed_file_system) ] [HDFS] Hadoop Distributed File System\n",
    "* [ [w](https://en.wikipedia.org/wiki/Handle_(computing)) ] Handle\n",
    "* [ [w](https://en.wikipedia.org/wiki/Hard_link) ] Hard Link\n",
    "* [ [w](https://en.wikipedia.org/wiki/Hidden_file_and_hidden_directory) ] Hidden Resource\n",
    "* [ [w](https://en.wikipedia.org/wiki/Hierarchical_File_System) ] [HFS] Hierarchical File System\n",
    "* [ [w](https://en.wikipedia.org/wiki/HFS_Plus) ] HFS Plus\n",
    "* [ [w](https://en.wikipedia.org/wiki/High_Performance_File_System) ] [HPFS] High Performance File System\n",
    "* [ [w](https://en.wikipedia.org/wiki/Home_directory) ] Home Directory\n",
    "* [ [w](https://en.wikipedia.org/wiki/Incremental_backup) ] Incremental Backup\n",
    "* [ [w](https://en.wikipedia.org/wiki/Inode) ] Inode\n",
    "* [ [w](https://en.wikipedia.org/wiki/Inode_pointer_structure) ] Inode Pointer Structure\n",
    "* [ [w](https://en.wikipedia.org/wiki/Inotify) ] Inotify\n",
    "* [ [w](https://en.wikipedia.org/wiki/InterPlanetary_File_System) ] [IPFS] Inter Planetary File System\n",
    "* [ [w](https://en.wikipedia.org/wiki/Inter-process_communication) ] [IPC] Inter Process Communication\n",
    "* [ [w](https://en.wikipedia.org/wiki/JFS_(file_system)) ] [JFS] Journaled File System\n",
    "* [ [w](https://en.wikipedia.org/wiki/Journaling_file_system) ] Journaling File System\n",
    "* [ [w](https://en.wikipedia.org/wiki/Large-file_support) ] [LFS] Large File Support\n",
    "* [ [w](https://en.wikipedia.org/wiki/Logical_block_addressing) ] [LBA] Logical Block Addressing\n",
    "* [ [w](https://en.wikipedia.org/wiki/Logical_volume_management) ] [LVM] Logical Volume Management\n",
    "* [ [w](https://en.wikipedia.org/wiki/Long_filename) ] Long File Name\n",
    "* [ [w](https://en.wikipedia.org/wiki/Lustre_(file_system)) ] Lustre\n",
    "* [ [w](https://en.wikipedia.org/wiki/Memory_paging) ] Memory Paging\n",
    "* [ [w](https://en.wikipedia.org/wiki/Mount_(computing)) ] Mount\n",
    "* [ [w](https://en.wikipedia.org/wiki/Named_pipe) ] Named Pipe\n",
    "* [ [w](https://en.wikipedia.org/wiki/Network_socket) ] Network Socket\n",
    "* [ [w](https://en.wikipedia.org/wiki/NTFS) ] [NTFS] New Technology File System\n",
    "* [ [w](https://en.wikipedia.org/wiki/Path_(computing)) ] Path\n",
    "* [ [w](https://en.wikipedia.org/wiki/Pool_(computer_science)) ] Pool\n",
    "* [ [w](https://en.wikipedia.org/wiki/POSIX) ] [POSIX] Portable Operating System Interface\n",
    "* [ [w](https://en.wikipedia.org/wiki/RAID) ] [RAID] Redundant Array of Independent Disks\n",
    "* [ [w](https://en.wikipedia.org/wiki/Redundant_Array_of_Inexpensive_Servers) ] Redundant Array of Inexpensive Servers (RAIS)\n",
    "* [ [w](https://en.wikipedia.org/wiki/Standard_RAID_levels) ] RAID Level\n",
    "* [ [w](https://en.wikipedia.org/wiki/Reference_counting) ] Reference Counting\n",
    "* [ [w](https://en.wikipedia.org/wiki/Regular_expression) ] Regular Expression\n",
    "* [ [w](https://en.wikipedia.org/wiki/ReFS) ] [ReFS] Resilient File System\n",
    "* [ [w](https://en.wikipedia.org/wiki/System_resource) ] Resource\n",
    "* [ [w](https://en.wikipedia.org/wiki/Root_directory) ] Root Directory\n",
    "* [ [w](https://en.wikipedia.org/wiki/Server_Message_Block) ] [SMB] Server Message Block\n",
    "* [ [w](https://en.wikipedia.org/wiki/Setuid) ] Setgid\n",
    "* [ [w](https://en.wikipedia.org/wiki/Setuid) ] Setuid\n",
    "* [ [w](https://en.wikipedia.org/wiki/Shortcut_(computing)) ] Shortcut\n",
    "* [ [w](https://en.wikipedia.org/wiki/Snapshot_(computer_storage)) ] Snapshot\n",
    "* [ [w](https://en.wikipedia.org/wiki/Stat_(system_call)) ] Stat\n",
    "* [ [w](https://en.wikipedia.org/wiki/Sticky_bit) ] Sticky Bit\n",
    "* [ [w](https://en.wikipedia.org/wiki/Storage_virtualization) ] Storage Virtualization\n",
    "* [ [w](https://en.wikipedia.org/wiki/Symbolic_link) ] Symbolic Link\n",
    "* [ [w](https://en.wikipedia.org/wiki/System_image) ] System Image\n",
    "* [ [w](https://en.wikipedia.org/wiki/Text_file) ] Text File\n",
    "* [ [w](https://en.wikipedia.org/wiki/Tree_structure) ] Tree Structure\n",
    "* [ [w](https://en.wikipedia.org/wiki/Tree_view) ] Tree View\n",
    "* [ [w](https://en.wikipedia.org/wiki/Uniform_Type_Identifier) ] [UTI] Uniform Type Identifier\n",
    "* [ [w](https://en.wikipedia.org/wiki/Union_mount) ] Union Mount\n",
    "* [ [w](https://en.wikipedia.org/wiki/Universally_unique_identifier) ] [UUID] Universally Unique Identifier\n",
    "* [ [w](https://en.wikipedia.org/wiki/Unix_domain_socket) ] Unix Domain Socket\n",
    "* [ [w](https://en.wikipedia.org/wiki/Unix_filesystem) ] Unix File System\n",
    "* [ [w](https://en.wikipedia.org/wiki/Unix_File_System) ] [UFS] Unix File System\n",
    "* [ [w](https://en.wikipedia.org/wiki/Unix_file_types) ] Unix File Types\n",
    "* [ [w](https://en.wikipedia.org/wiki/User_identifier) ] User Identifier\n",
    "* [ [w](https://en.wikipedia.org/wiki/Virtual_file_system) ] [VFS] Virtual File System\n",
    "* [ [w](https://en.wikipedia.org/wiki/Working_directory) ] Working Directory\n",
    "* [ [w](https://en.wikipedia.org/wiki/XFS) ] XFS\n",
    "* [ [w](https://en.wikipedia.org/wiki/ZFS) ] ZFS"
   ]
  },
  {
   "cell_type": "markdown",
   "metadata": {},
   "source": [
    "---"
   ]
  }
 ],
 "metadata": {
  "language_info": {
   "name": "python"
  }
 },
 "nbformat": 4,
 "nbformat_minor": 2
}
