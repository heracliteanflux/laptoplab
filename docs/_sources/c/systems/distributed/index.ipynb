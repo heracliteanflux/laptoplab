{
 "cells": [
  {
   "cell_type": "markdown",
   "metadata": {},
   "source": [
    "# Distributed Systems"
   ]
  },
  {
   "cell_type": "markdown",
   "metadata": {},
   "source": [
    "---"
   ]
  },
  {
   "cell_type": "markdown",
   "metadata": {},
   "source": [
    "## Contents\n",
    "```{contents}\n",
    "```"
   ]
  },
  {
   "cell_type": "markdown",
   "metadata": {},
   "source": [
    "---"
   ]
  },
  {
   "cell_type": "markdown",
   "metadata": {},
   "source": [
    "## Resources"
   ]
  },
  {
   "cell_type": "markdown",
   "metadata": {},
   "source": [
    "### Conceptual"
   ]
  },
  {
   "cell_type": "markdown",
   "metadata": {},
   "source": [
    "* [ [geeksforgeeks](https://www.geeksforgeeks.org/birman-schiper-stephenson-protocol/) ] \"Birman Schiper Stephenson Protocol\"\n",
    "* [ [geeksforgeeks](https://www.geeksforgeeks.org/causal-ordering-of-messages-in-distributed-system/) ] \"Causal Ordering of Messages in Distributed System\"\n",
    "* [ [geeksforgeeks](https://www.geeksforgeeks.org/schiper-eggli-sandoz-protocol/) ] \"Schiper Eggli Sandoz Protocol\""
   ]
  },
  {
   "cell_type": "markdown",
   "metadata": {},
   "source": [
    "### Tools & Technologies"
   ]
  },
  {
   "cell_type": "markdown",
   "metadata": {},
   "source": [
    "* [ [h](https://spark.apache.org) ] Apache Spark\n",
    "* [ [h](https://dask.org) ] Dask\n",
    "* [ [h](https://rapids.ai) ] Rapids"
   ]
  },
  {
   "cell_type": "markdown",
   "metadata": {},
   "source": [
    "### YouTube"
   ]
  },
  {
   "cell_type": "markdown",
   "metadata": {},
   "source": [
    "Eric O Meehan\n",
    "* [ [y](https://www.youtube.com/watch?v=oHBi8k31fgM) ] `03-13-2021` Eric O Meehan. \"Creating a Peer to Peer Network in C\".\n",
    "  * https://github.com/ericomeehan/libeom/tree/main\n",
    "\n",
    "Martin Kleppmann\n",
    "* [ [y](https://www.youtube.com/watch?v=A8oamrHf_cQ) ] `10-28-2020` Martin Kleppmann. \"Distributed Systems 4.2: Broadcast ordering\".\n",
    "* [ [y](https://www.youtube.com/watch?v=x-D8iFU1d-o) ] `10-28-2020` Martin Kleppmann. \"Distributed Systems 4.1: Logical time\".\n",
    "* [ [y](https://www.youtube.com/watch?v=mAyW-4LeXZo) ] `10-28-2020` Martin Kleppmann. \"Distributed Systems 3.2: Clock synchronisation\".\n",
    "\n",
    "More\n",
    "* [ [y](https://www.youtube.com/watch?v=_e4wNoTV3Gw) ] `10-21-2016`. Distributed Systems Course. \"L6: Byzantine Fault Tolerance\"."
   ]
  },
  {
   "cell_type": "markdown",
   "metadata": {},
   "source": [
    "### More"
   ]
  },
  {
   "cell_type": "markdown",
   "metadata": {},
   "source": [
    "https://www.cs.cmu.edu/~harchol/\n",
    "\n",
    "Why Logical Clocks are Easy: Sometimes all you need is the right language. https://queue.acm.org/detail.cfm?id=2917756\n",
    "\n",
    "https://engineering.purdue.edu/FTC/handouts/References/Chapt%204%20-%20Broadcast%20-%20jalote.pdf\n",
    "\n",
    "https://www.inf.ed.ac.uk/teaching/courses/ip/chord-desc.html#:~:text=Each%20node%2C%20n%2C%20maintains%20a,is%20modulo%202%5E160)."
   ]
  },
  {
   "cell_type": "markdown",
   "metadata": {},
   "source": [
    "---"
   ]
  },
  {
   "cell_type": "markdown",
   "metadata": {},
   "source": [
    "## Texts"
   ]
  },
  {
   "cell_type": "markdown",
   "metadata": {},
   "source": [
    "`2024` Van Steen, Maarten & Andrew S. Tanenbaum. _Distributed Systems_. 4e. https://www.distributed-systems.net/index.php/books/ds4/.\n",
    "\n",
    "`2011` Coulouris, George et al. _Distributed Systems: Concepts and Designs_. 5e. Pearson."
   ]
  },
  {
   "cell_type": "markdown",
   "metadata": {},
   "source": [
    "* [ [g](https://github.com/databricks/Spark-The-Definitive-Guide) ] Chambers, Bill & Matei Zaharia. (2018). _Spark: The Definitive Guide: Big Data Processing Made Simple_. O'Reilly.\n",
    "* Dean, Jeffrey & Sanjay Ghemawat. (2004). \"MapReduce: Simplified Data Processing on Large Clusters\".\n",
    "* Damji, Jules S. et al. (2020). _Learning Spark: Lightning-Fast Data Analytics, 2nd Ed_. O'Reilly.\n",
    "* Karau, Holden & Rachel Warren. (2017). _High Performance Spark: Best Practices for Scaling and Optimizing Apache Spark_. O'Reilly.\n",
    "* [ [g](https://github.com/mahmoudparsian/data-algorithms-with-spark) ] Parsian, Mahmoud. (2021). _Data Algorithms with Spark: Recipes and Design Patterns for Scaling Up using PySpark_. O'Reilly.\n",
    "* [ [g](https://github.com/sryza/aas) ] Ryza, Sandy et al. (2017). _Advanced Analytics with Spark: Patterns for Learning from Data at Scale, 2nd Ed_. O'Reilly.\n",
    "* [ [g](https://github.com/alexander-n-thomas/spark-nlp-book) ] Thomas, Alex. (2020). _Natural Language Processing with Spark NLP: Learning to Understand Text at Scale_. O'Reilly."
   ]
  },
  {
   "cell_type": "markdown",
   "metadata": {},
   "source": [
    "* Abraham, Ittai & Gilad Stern. (2020). [\"Information Theoretic HotStuff\"](https://arxiv.org/pdf/2009.12828.pdf).\n",
    "* Bar-Zur, Roi, Ittay Eyal, & Aviv Tamar. (2020). [\"Efficient MDP Analysis for Selfish-Mining in Blockchains\"](https://arxiv.org/pdf/2007.05614.pdf).\n",
    "* Bech, Morten & Rodney Garratt. (2017). [\"Central bank cryptocurrencies\"](https://www.bis.org/publ/qtrpdf/r_qt1709f.pdf).\n",
    "* Birman, Kenneth P. & Thomas A. Joseph. (1987). [\"Reliable Communication in the Presence of Failures\"](http://pages.cs.wisc.edu/~bart/739/papers/isis2.pdf).\n",
    "* Bracha, G. (1987). \"Asynchronous Byzantine agreement protocols\".\n",
    "* Castro, Miguel & Barbara Liskov. (1999). [\"Practical Byzantine Fault Tolerance\"](http://pmg.csail.mit.edu/papers/osdi99.pdf).\n",
    "* Chaum, David. (1982). [\"Computer Systems Established, Maintained, and Trusted by Mutually Suspicious Groups\"](https://www.chaum.com/publications/chaum_dissertation.pdf).\n",
    "* Cohen, Bram & Krzysztof Pietrzak. (2019). [\"The Chia Network Blockchain\"](https://www.chia.net/assets/ChiaGreenPaper.pdf).\n",
    "* Danezis, George & David Hrycyszyn. (2018). [\"Blockmania: from Block DAGs to Consensus\"](https://arxiv.org/pdf/1809.01620.pdf).\n",
    "* Dembo, Amir et al. (2020). [\"Everything is a Race and Nakamoto Always Wins\"](https://arxiv.org/pdf/2005.10484.pdf).\n",
    "* Douceur, John R. (2002). [\"The Sybil Attack\"](https://www.microsoft.com/en-us/research/wp-content/uploads/2002/01/IPTPS2002.pdf).\n",
    "* Dwork, Cynthia & Moni Naor. (1993). \"Pricing via Processing or Combatting Junk Mail\".\n",
    "* Dwork, Cynthia, Nancy Lynch, & Larry Stockmeyer. (1988). [\"Consensus in the Presence of Partial Synchrony\"](http://groups.csail.mit.edu/tds/papers/Lynch/jacm88.pdf).\n",
    "* Eyal, Ittay et al. (2016). [\"Bitcoin-NG: A Scalable Blockchain Protocol\"](https://www.usenix.org/system/files/conference/nsdi16/nsdi16-paper-eyal.pdf).\n",
    "* Fischer, Michael J., Nancy A. Lynch, & Michael S. Paterson. (1985). [\"Impossibility of Distributed Consensus with One Faulty Process\"](http://groups.csail.mit.edu/tds/papers/Lynch/jacm85.pdf).\n",
    "* Fokkink, Wan. (2018). _Distributed Algorithms: An Intuitive Approach, 2nd Ed_. MIT Press.\n",
    "* Gibbons, Phil. (2021). 15-712: Advanced Operating Systems and Distributed Systems. Carnegie Mellon. [Home](https://www.cs.cmu.edu/~15712/).\n",
    "* Gilad, Yossi et al. (2017). [\"Algorand: Scaling Byzantine Agreements for Cryptocurrencies\"](https://dl.acm.org/doi/pdf/10.1145/3132747.3132757).\n",
    "* Haber, Stuart & W. Scott Stornetta. (1991). [\"How to Time-Stamp a Digital Document\"](https://citeseerx.ist.psu.edu/viewdoc/download;jsessionid=C01131148AF17AF93F2655C091376AF4?doi=10.1.1.46.8740&rep=rep1&type=pdf).\n",
    "* Harchol-Balter, Mor. (2013). [_Performance Modeling and Design of Computer Systems: Queueing Theory in Action_](http://www.cs.cmu.edu/~harchol/PerformanceModeling/book.html). Cambridge University Press.\n",
    "* Jalalzai, Mohammad M. et al. (2021). [\"Fast-HotStuff: A Fast and Robust BFT Protocol for Blockchains\"](https://arxiv.org/pdf/2010.11454.pdf).\n",
    "* Keidar, Idit & Alexander Shraer. (2006). [\"Timeliness, Failure-Detectors, and Consensus Performance\"](http://people.csail.mit.edu/idish/ftp/GIRAF-TR-Feb06.pdf)\n",
    "* Kelkar, Mahimna et al. (2020). [\"Order-Fairness for Byzantine Consensus\"](https://eprint.iacr.org/2020/269.pdf).\n",
    "* Keshav, Srinivasan. (2012). _Mathematical Foundations of Computer Networking_. Addison-Wesley Professional Computing Series.\n",
    "* Kurose, Jim & Keith Ross. (2020). [_Computer Networking: A Top-Down Approach, 8th Ed_](https://gaia.cs.umass.edu/kurose_ross/index.html). Pearson.\n",
    "* Lamport, Leslie. (1998). [\"The Part-Time Parliament\"](http://lamport.azurewebsites.net/pubs/lamport-paxos.pdf).\n",
    "* Lamport, Leslie. (1978). [\"Time, Clocks, and the Ordering of Events in a Distributed System\"](https://www.microsoft.com/en-us/research/uploads/prod/2016/12/Time-Clocks-and-the-Ordering-of-Events-in-a-Distributed-System.pdf).\n",
    "* Lamport, Leslie, Dahlia Malkhi, & Lidong Zhou. (2008). [\"Reconfiguring a State Machine\"](https://www.microsoft.com/en-us/research/wp-content/uploads/2008/02/rpgc.pdf).\n",
    "* Lamport, Leslie, Robert Shostak, & Marshall Pease. (1982). \"The Byzantine Generals Problem\".\n",
    "* Le Boudec, Jean-Yves & Patrick Thiran. (2020). [_Network Calculus: A Theory of Deterministic Queueing Systems for the Internet_](https://ica1www.epfl.ch/PS_files/netCalBookv4.pdf). Springer.\n",
    "* Lynch, Nancy A. (1996). _Distributed Algorithms_. Morgan-Kaufmann Series in Data Management Systems.\n",
    "* Merkle, Ralph. (1980). [\"Protocols for Public Key Cryptosystems\"](http://www.merkle.com/papers/Protocols.pdf).\n",
    "* Oki, Brian M. & Barbara H. Liskov. (1988). [\"Viewstamped Replication: A New Primary Copy Method to Support Highly-Available Distributed Systems\"](http://www.pmg.csail.mit.edu/papers/vr.pdf).\n",
    "* Raynal, Michel. (2018). _Fault-Tolerant Message-Passing Distributed Systems: An Algorithmic Approach_. Springer.\n",
    "* Schneider, Fred B. (1990). [\"Implementing Fault-Tolerant Services Using the State Machine Approach: A Tutorial\"](http://www.cs.cornell.edu/fbs/publications/SMSurvey.pdf).\n",
    "* Sonnino, Alberto & George Danezis. (2019). [\"SybilQuorum: open Distributed Ledgers Through Trust Networks\"](https://arxiv.org/pdf/1906.12237.pdf).\n",
    "* Vishnumurthy, Vivek, Sangeeth Chandrakumar, & Emin Gün Sirer. [\"KARMA: A Secure Economic Framework for Peer-to-Peer Resource Sharing\"](https://www.cs.cornell.edu/people/egs/papers/karma.pdf). \n",
    "* Yu, Mingchao et al. (2019). [\"Coded Merkle Tree: Solving Data Availability Attacks in Blockchains\"](https://arxiv.org/pdf/1910.01247.pdf).\n",
    "* Pre-Bitcoin PoW non-economic application [Paper](http://www.wisdom.weizmann.ac.il/~naor/PAPERS/pvp.pdf)\n",
    "* Pre-Bitcoin PoW economic application [Paper](https://www.cs.cornell.edu/people/egs/papers/karma.pdf)\n",
    "* Ghost Protocol [Paper](https://eprint.iacr.org/2013/881)"
   ]
  },
  {
   "cell_type": "markdown",
   "metadata": {},
   "source": [
    "---"
   ]
  },
  {
   "cell_type": "markdown",
   "metadata": {},
   "source": [
    "## Terms"
   ]
  },
  {
   "cell_type": "markdown",
   "metadata": {},
   "source": [
    "Coordination\n",
    "* [ [w](https://en.wikipedia.org/wiki/Berkeley_algorithm) ] Berkeley Algorithm\n",
    "* [ [w](https://en.wikipedia.org/wiki/Clock_skew) ] Clock Skew\n",
    "* [ [w](https://en.wikipedia.org/wiki/Clock_synchronization) ] Clock Synchronization\n",
    "* [ [w](https://en.wikipedia.org/wiki/Coordinated_Universal_Time) ] Coordinated Universal Time (UTC)\n",
    "* [ [w](https://en.wikipedia.org/wiki/Cristian%27s_algorithm) ] Cristian's Algorithm\n",
    "* [ [w](https://en.wikipedia.org/wiki/End-to-end_delay) ] End-to-End Delay\n",
    "* [ [w](https://en.wikipedia.org/wiki/Happened-before) ] Happened-Before\n",
    "* [ [w](https://en.wikipedia.org/wiki/International_Atomic_Time) ] International Atomic Time (TAI)\n",
    "* [ [w](https://en.wikipedia.org/wiki/Lamport_timestamp) ] Lamport Timestamp\n",
    "* [ [w](https://en.wikipedia.org/wiki/Leap_second) ] Leap Second\n",
    "* [ [w](https://en.wikipedia.org/wiki/Logical_clock) ] Logical Clock\n",
    "* [ [w](https://en.wikipedia.org/wiki/Minimum-Pairs_Protocol) ] Minimum-Pairs\n",
    "* [ [w](https://en.wikipedia.org/wiki/Network_Time_Protocol) ] Network Time Protocol (NTP)\n",
    "* [ [w](https://en.wikipedia.org/wiki/Precision_Time_Protocol) ] Precision Time Protocol (PTP)\n",
    "* [ [w](https://en.wikipedia.org/wiki/Reference_Broadcast_Synchronization) ] Reference Broadcast Synchronization (RBS)\n",
    "* [ [w](https://en.wikipedia.org/wiki/Round-trip_delay) ] Round-Trip Time (RTT)\n",
    "* [ [w](https://en.wikipedia.org/wiki/Universal_Time) ] Universal Time (UT1)\n",
    "* [ [w](https://en.wikipedia.org/wiki/Vector_clock) ] Vector Clock"
   ]
  },
  {
   "cell_type": "markdown",
   "metadata": {},
   "source": [
    "Election\n",
    "* [ [w](https://en.wikipedia.org/wiki/Bully_algorithm) ] Bully Algorithm\n",
    "* [ [w](https://en.wikipedia.org/wiki/Chang_and_Roberts_algorithm) ] Chang and Robert's Algorithm\n",
    "* [ [w](https://en.wikipedia.org/wiki/Leader_election) ] Leader Election"
   ]
  },
  {
   "cell_type": "markdown",
   "metadata": {},
   "source": [
    "Architecture\n",
    "* [ [w](https://en.wikipedia.org/wiki/BitTorrent) ] BitTorrent\n",
    "* [ [w](https://en.wikipedia.org/wiki/Gnutella) ] Gnutella\n",
    "* [ [w](https://en.wikipedia.org/wiki/Napster) ] Napster\n",
    "* [ [w](https://en.wikipedia.org/wiki/Peer-to-peer) ] P2P\n",
    "* [ [w](https://en.wikipedia.org/wiki/Peer-to-peer_file_sharing) ] P2P File Sharing"
   ]
  },
  {
   "cell_type": "markdown",
   "metadata": {},
   "source": [
    "* [ [w](https://en.wikipedia.org/wiki/Busy_waiting) ] Busy-Waiting\n",
    "* [ [w](https://en.wikipedia.org/wiki/Concurrency_control) ] Concurrency Control\n",
    "* [ [w](https://en.wikipedia.org/wiki/Concurrent_computing) ] Concurrent Computing\n",
    "* [ [w](https://en.wikipedia.org/wiki/Context_switch) ] Context Switch\n",
    "* [ [w](https://en.wikipedia.org/wiki/Critical_section) ] Critical Section\n",
    "* [ [w](https://en.wikipedia.org/wiki/Database_transaction_schedule) ] Database Transaction Scheduling\n",
    "* [ [w](https://en.wikipedia.org/wiki/Deadlock_(computer_science)) ] Deadlock\n",
    "* [ [w](https://en.wikipedia.org/wiki/Interrupt) ] Interrupt\n",
    "* [ [w](https://en.wikipedia.org/wiki/Interrupt_handler) ] Interrupt Handler\n",
    "* [ [w](https://en.wikipedia.org/wiki/Kernel_preemption) ] Kernel Preemption\n",
    "* [ [w](https://en.wikipedia.org/wiki/Linearizability) ] Linearizability\n",
    "* [ [w](https://en.wikipedia.org/wiki/Safety_and_liveness_properties) ] Liveness\n",
    "* [ [w](https://en.wikipedia.org/wiki/Load-link/store-conditional) ] Load-Link/Store-Conditional\n",
    "* [ [w](https://en.wikipedia.org/wiki/Lock_(computer_science)) ] Lock\n",
    "* [ [w](https://en.wikipedia.org/wiki/Maekawa%27s_algorithm) ] Maekawa's Algorithm\n",
    "* [ [w](https://en.wikipedia.org/wiki/Mutual_exclusion) ] Mutual Exclusion\n",
    "* [ [w](https://en.wikipedia.org/wiki/Non-blocking_algorithm) ] Non Blocking\n",
    "* [ [w](https://en.wikipedia.org/wiki/Preemption_(computing)) ] Preemption\n",
    "* [ [w](https://en.wikipedia.org/wiki/Process_control_block) ] Process Control Block (PCB)\n",
    "* [ [w](https://en.wikipedia.org/wiki/Process_migration) ] Process Migration\n",
    "* [ [w](https://en.wikipedia.org/wiki/Race_condition) ] Race Condition\n",
    "* [ [w](https://en.wikipedia.org/wiki/Raymond%27s_algorithm) ] Raymond's Algorithm\n",
    "* [ [w](https://en.wikipedia.org/wiki/Semaphore_(programming)) ] Semaphore\n",
    "* [ [w](https://en.wikipedia.org/wiki/Sequential_algorithm) ] Sequential Algorithm\n",
    "* [ [w](https://en.wikipedia.org/wiki/Shared_memory) ] Shared Memory\n",
    "* [ [w](https://en.wikipedia.org/wiki/Shared_resource) ] Shared Resource\n",
    "* [ [w](https://en.wikipedia.org/wiki/Spinlock) ] Spinlock\n",
    "* [ [w](https://en.wikipedia.org/wiki/Starvation_(computer_science)) ] Starvation\n",
    "* [ [w](https://en.wikipedia.org/wiki/Synchronization_(computer_science)) ] Synchronization\n",
    "* [ [w](https://en.wikipedia.org/wiki/Thread_(computing)) ] Thread\n",
    "* [ [w](https://en.wikipedia.org/wiki/Thread-local_storage) ] Thread-Local Storage"
   ]
  },
  {
   "cell_type": "markdown",
   "metadata": {},
   "source": [
    "* [ [w](https://en.wikipedia.org/wiki/Compare-and-swap) ] Compare-and-swap\n",
    "* [ [w](https://en.wikipedia.org/wiki/Fetch-and-add) ] Fetch-and-add\n",
    "* [ [w](https://en.wikipedia.org/wiki/Read%E2%80%93modify%E2%80%93write) ] Read-Modify-Write\n",
    "* [ [w](https://en.wikipedia.org/wiki/Test-and-set) ] Test-and-set"
   ]
  },
  {
   "cell_type": "markdown",
   "metadata": {},
   "source": [
    "* [ w ] Asynchronous Network\n",
    "* [ [w](https://en.wikipedia.org/wiki/Asynchronous_system) ] Asynchronous System\n",
    "* [ [w](https://en.wikipedia.org/wiki/Atomic_broadcast) ] Atomic Broadcast\n",
    "* [ [w](https://en.wikipedia.org/wiki/Big_data) ] Big Data [ [i](https://www.investopedia.com/terms/b/big-data.asp) ]\n",
    "* [ [w](https://en.wikipedia.org/wiki/Broadcasting_(networking)) ] Broadcast\n",
    "* [ w ] Byzantine Broadcast\n",
    "* [ [w](https://en.wikipedia.org/wiki/Byzantine_fault) ] Byzantine Fault\n",
    "* [ w ] Byzantine Fault Tolerance\n",
    "* [ w ] Classical Consensus\n",
    "* [ [w](https://en.wikipedia.org/wiki/Client_Puzzle_Protocol) ] Client Puzzle Protocol\n",
    "* [ [w](https://en.wikipedia.org/wiki/Clock_synchronization) ] Clock Synchronization\n",
    "* [ [w](https://en.wikipedia.org/wiki/Communication_protocol) ] Communication Protocol\n",
    "* [ [w](https://en.wikipedia.org/wiki/Computer_cluster) ] Computer Cluster\n",
    "* [ [w](https://en.wikipedia.org/wiki/Computer_network) ] Computer Network\n",
    "* [ [w](https://en.wikipedia.org/wiki/Connectionism) ] Connectionism\n",
    "* [ [w](https://en.wikipedia.org/wiki/Consensus_(computer_science)) ] Consensus [ [i](https://www.investopedia.com/terms/c/consensus-mechanism-cryptocurrency.asp) ]\n",
    "* [ w ] Cryptographic Primitive\n",
    "* [ [w](https://en.wikipedia.org/wiki/Dining_philosophers_problem) ] Dining Philosophers Problem\n",
    "* [ [w](https://en.wikipedia.org/wiki/Distributed_algorithm) ] Distributed Algorithm\n",
    "* [ [w](https://en.wikipedia.org/wiki/Distributed_computing) ] Distributed Computation\n",
    "* [ [w](https://en.wikipedia.org/wiki/Distributed_database) ] Distributed Database\n",
    "* [ [w](https://en.wikipedia.org/wiki/Distributed_ledger) ] Distributed Ledger Technology (DLT)\n",
    "* [ [w](https://en.wikipedia.org/wiki/Distributed_memory) ] Distributed Memory\n",
    "* [ [w](https://en.wikipedia.org/wiki/Distributed_networking) ] Distributed Networking\n",
    "* [ [w](https://en.wikipedia.org/wiki/Distributed_operating_system) ] Distributed OS\n",
    "* [ w ] Dolev-Strong Protocol\n",
    "* [ w ] Ethereum Virtual Machine (EVM)\n",
    "* [ w ] FLP Impossibility\n",
    "* [ [w](https://en.wikipedia.org/wiki/Supercomputer) ] High-Performance Computation\n",
    "* [ w ] HotStuff Protocol\n",
    "* [ [w](https://en.wikipedia.org/wiki/Leader_election) ] Leader Election\n",
    "* [ [w](https://en.wikipedia.org/wiki/Load_balancing_(computing)) ] Load Balancing\n",
    "* [ [w](https://en.wikipedia.org/wiki/Lockstep_(computing)) ] Lockstep\n",
    "* [ [w](https://en.wikipedia.org/wiki/Merkle_tree) ] Merkle Tree\n",
    "* [ [w](https://en.wikipedia.org/wiki/Message_passing) ] Message Passing\n",
    "* [ [w](https://en.wikipedia.org/wiki/Message-oriented_middleware) ] Message-Oriented Middleware\n",
    "* [ [w](https://en.wikipedia.org/wiki/MapReduce) ] MapReduce\n",
    "* [ [w](https://en.wikipedia.org/wiki/Metcalfe%27s_law) ] Metcalfe's Law\n",
    "* [ w ] Nakamoto Consensus\n",
    "* [ [w](https://en.wikipedia.org/wiki/Network_calculus) ] Network Calculus\n",
    "* [ w ] Obelisk Consensus [ [i](https://www.investopedia.com/terms/o/obelisk-consensus-algorithm.asp) ]\n",
    "* [ [w](https://en.wikipedia.org/wiki/PageRank) ] PageRank\n",
    "* [ [w](https://en.wikipedia.org/wiki/Parallel_computing) ] Parallel Computation\n",
    "* [ [w](https://en.wikipedia.org/wiki/Connectionism) ] Parallel Distributed Processing\n",
    "* [ [w](https://en.wikipedia.org/wiki/Paxos_(computer_science)) ] Paxos\n",
    "* [ [w](https://en.wikipedia.org/wiki/Process_calculus) ] Process Calculus\n",
    "* [ [w](https://en.wikipedia.org/wiki/Quantum_Byzantine_agreement) ] Quantum Byzantine Agreement\n",
    "* [ [w](https://en.wikipedia.org/wiki/Queueing_theory) ] Queueing Theory\n",
    "* [ [w](https://en.wikipedia.org/wiki/Reliable_multicast) ] Reliable Multicast\n",
    "* [ [w](https://en.wikipedia.org/wiki/Shard_(database_architecture)) ] Shard\n",
    "* [ [w](https://en.wikipedia.org/wiki/State_machine_replication) ] State Machine Replication\n",
    "* [ w ] Streamlet Protocol\n",
    "* [ [w](https://en.wikipedia.org/wiki/Synchronization_(computer_science)) ] Synchronization\n",
    "* [ [w](https://en.wikipedia.org/wiki/Synchronizer_(algorithm)) ] Synchronizer\n",
    "* [ w ] Synchronous Network\n",
    "* [ [w](https://en.wikipedia.org/wiki/Time_server) ] Time Server\n",
    "* [ [w](https://en.wikipedia.org/wiki/Unbounded_nondeterminism) ] Unbounded Nondeterminism\n",
    "* [ [w](https://en.wikipedia.org/wiki/Validator) ] Validator\n",
    "* [ [w](https://en.wikipedia.org/wiki/Vector_addition_system) ] Vector Addition System"
   ]
  },
  {
   "cell_type": "markdown",
   "metadata": {},
   "source": [
    "---"
   ]
  }
 ],
 "metadata": {
  "language_info": {
   "name": "python"
  }
 },
 "nbformat": 4,
 "nbformat_minor": 2
}
