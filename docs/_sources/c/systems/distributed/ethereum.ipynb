{
 "cells": [
  {
   "cell_type": "markdown",
   "metadata": {},
   "source": [
    "# Ethereum"
   ]
  },
  {
   "cell_type": "markdown",
   "metadata": {},
   "source": [
    "---"
   ]
  },
  {
   "cell_type": "markdown",
   "metadata": {},
   "source": [
    "## Table of Contents\n",
    "```{contents}\n",
    "```"
   ]
  },
  {
   "cell_type": "markdown",
   "metadata": {},
   "source": [
    "---"
   ]
  },
  {
   "cell_type": "markdown",
   "metadata": {},
   "source": [
    "## Resources"
   ]
  },
  {
   "cell_type": "markdown",
   "metadata": {},
   "source": [
    "Ethereum [Home](https://ethereum.org)\n",
    "  * [Whitepaper](https://ethereum.org/en/whitepaper/)\n",
    "  * [Yellow Paper](https://ethereum.github.io/yellowpaper/paper.pdf)\n",
    "* Ethereum Enterprise Alliance [Home](https://entethalliance.org)\n",
    "* Ethereum Foundation [Home](https://ethereum.foundation)\n",
    "\n",
    "Ethereum Improvement Proposal [Home](https://eips.ethereum.org/)\n",
    "  * [EIP-225: Clique proof-of-authority consensus protocol](https://eips.ethereum.org/EIPS/eip-225)\n",
    "  * [EIP-1462: Base Security Token](https://eips.ethereum.org/EIPS/eip-1462)\n",
    "  * [EIP-1559: Fee market change for ETH 1.0 chain](https://eips.ethereum.org/EIPS/eip-1559)\n",
    "  * [ERC](https://eips.ethereum.org/erc)\n",
    "    * [ERC20](https://eips.ethereum.org/EIPS/eip-20) [Docs](https://ethereum.org/en/developers/docs/standards/tokens/erc-20/)\n",
    "    * [ERC-721](https://eips.ethereum.org/EIPS/eip-721) [Docs](https://ethereum.org/en/developers/docs/standards/tokens/erc-721/)\n",
    "    * [ERC-777](https://eips.ethereum.org/EIPS/eip-777)\n",
    "    * [ERC-1155](https://eips.ethereum.org/EIPS/eip-1155)\n",
    "\n",
    "Clients\n",
    "* [Go Ethereum](https://geth.ethereum.org)\n",
    "* [Erigon](https://github.com/ledgerwatch/erigon) (see [this article](https://medium.com/openethereum/gnosis-joins-erigon-formerly-turbo-geth-to-release-next-gen-ethereum-client-c6708dd06dd); formerly [Open Ethereum](https://openethereum.org); formerly the Parity Ethereum client)\n",
    "  \n",
    "Block Explorers\n",
    "* Etherscan [Home](https://etherscan.io/)\n",
    "* Etherscan [Token Tracker](https://etherscan.io/tokens)\n",
    "\n",
    "Solidity\n",
    "* [Home](https://soliditylang.org/)\n",
    "* [Docs](https://docs.soliditylang.org/)\n",
    "* [GitHub](https://github.com/ethereum/solidity)\n",
    "\n",
    "OpenZeppelin\n",
    "* [Home](https://openzeppelin.com)\n",
    "* [Docs](https://docs.openzeppelin.com/openzeppelin/)\n",
    "* [Tutorial](https://docs.openzeppelin.com/starter-kits/tutorial)\n",
    "* [GitHub](https://github.com/OpenZeppelin/openzeppelin-contracts)\n",
    "  * [ERC721](https://github.com/OpenZeppelin/openzeppelin-contracts/blob/master/contracts/token/ERC721/ERC721.sol)\n",
    "  * Ethernaut [Home](https://ethernaut.openzeppelin.com/)\n",
    "  * \"The Hitchhiker's Guide to Smart Contracts in Ethereum\" [Home](https://blog.openzeppelin.com/the-hitchhikers-guide-to-smart-contracts-in-ethereum-848f08001f05/)\n",
    "  * OpenZeppelin CLI [Docs](https://docs.openzeppelin.com/cli/)\n",
    "  * OpenZeppelin Contracts [Docs](https://docs.openzeppelin.com/contracts/)\n",
    "* Old Contracts\n",
    "  * [Crowdsale](https://github.com/OpenZeppelin/openzeppelin-contracts/blob/release-v2.5.0/contracts/crowdsale/Crowdsale.sol)\n",
    "  * [ERC20](https://github.com/OpenZeppelin/openzeppelin-contracts/blob/release-v2.5.0/contracts/token/ERC20/ERC20.sol)\n",
    "  * [ERC20Detailed](https://github.com/OpenZeppelin/openzeppelin-contracts/blob/release-v2.5.0/contracts/token/ERC20/ERC20Detailed.sol)\n",
    "  * [MintedCrowdsale](https://github.com/OpenZeppelin/openzeppelin-contracts/blob/release-v2.5.0/contracts/crowdsale/emission/MintedCrowdsale.sol)\n",
    "\n",
    "Remix IDE\n",
    "* [Home](https://remix.ethereum.org/)\n",
    "* [Docs](https://remix-ide.readthedocs.io)\n",
    "\n",
    "Truffle Suite\n",
    "* [Home](https://www.trufflesuite.com)\n",
    "* [Tutorial](https://trufflesuite.com/tutorial/)\n",
    "* [Truffle and MetaMask](https://www.trufflesuite.com/docs/truffle/getting-started/truffle-with-metamask)\n",
    "* [Ganache](https://www.trufflesuite.com/docs/ganache/overview)\n",
    "* [ganache-cli](https://github.com/trufflesuite/ganache-cli)\n",
    "\n",
    "Web3.py\n",
    "* [Docs](https://web3py.readthedocs.io/)\n",
    "* [GitHub](https://github.com/ethereum/web3.py)\n",
    "\n",
    "Web3.js\n",
    "* [ [d](https://web3py.readthedocs.io/) ][ [g](https://github.com/ethereum/web3.py) ]\n",
    "* [ [d](https://web3js.readthedocs.io) ][ g ] Web3.js\n",
    "\n",
    "Other\n",
    "* IPFS InterPlanetary File System [Home](https://ipfs.io/) [Wiki](https://en.wikipedia.org/wiki/InterPlanetary_File_System)\n",
    "  * IPFS Companion [GitHub](https://github.com/ipfs/ipfs-companion)\n",
    "* Pinata [Home](https://pinata.cloud/pinmanager)\n",
    "  * [CID Inspector](https://cid.ipfs.io/)\n",
    "* [SWC Smart Contract Weakness Classification](https://swcregistry.io)\n",
    "* Eth Gas Station [Home](https://ethgasstation.info/index.php)\n",
    "* [Cryptozombies](https://cryptozombies.io)\n",
    "* Consensys [Home](https://consensys.net/)\n",
    "  * [Ethereum Smart Contract Best Practices](https://consensys.github.io/smart-contract-best-practices/)\n",
    "* CryptoKitties [Home](https://www.cryptokitties.co)\n",
    "* ENS Ethereum Name Service [Home](https://ens.domains/) [Docs](https://docs.ens.domains/)\n",
    "* Infura [Home](https://infura.io/)\n",
    "* MyCrypto [Home](https://app.mycrypto.com/)\n",
    "\n",
    "Layer 2\n",
    "* Arbitrum [Home](https://arbitrum.io/)\n",
    "* Optimism [Home](https://optimism.io/)\n",
    "* Polygon [Home](https://polygon.technology/) [GitHub](https://github.com/maticnetwork)\n",
    "\n",
    "YouTube\n",
    "* [ [y](https://www.youtube.com/watch?v=hDfkyF8U-pw) ] `09-21-2022`. freeCodeCamp. \"Web3 Course Walkthrough on freeCodeCamp.org (Rust, Blockchain Development, and Smart Contracts)\"."
   ]
  },
  {
   "cell_type": "markdown",
   "metadata": {},
   "source": [
    "---"
   ]
  },
  {
   "cell_type": "markdown",
   "metadata": {},
   "source": [
    "## Texts"
   ]
  },
  {
   "cell_type": "markdown",
   "metadata": {},
   "source": [
    "* [ [g](https://github.com/ethereumbook/ethereumbook.git) ] Antonopoulos, Andreas M. & Gavin Wood. (2018). _Mastering Ethereum: Building Smart Contracts and DApps_. O'Reilly.\n",
    "* [ [p](https://eips.ethereum.org/EIPS/eip-155) ] Buterin, Vitalik. (2016). \"EIP-155: Simple replay attack protection\".\n",
    "* [ [p](https://ethereum.org/whitepaper/) ] Buterin, Vitalik. (2013). \"Ethereum White Paper\".\n",
    "* Infante, Roberto. (2019). _Building Ethereum Dapps_. Manning.\n",
    "* [ [g](https://github.com/DavidJohnstonCEO/DecentralizedApplications) ] Johnston, David et al. _The General Theory of Decentralized Applications, Dapps_.\n",
    "* Solorio, Kevin, Randall Kanna, & David H. Hoover. (2019). _Hands-On Smart Contract Development with Solidity and Ethereum: From Fundamentals to Deployment_. O'Reilly.\n",
    "* [ [p](https://ethereum.github.io/yellowpaper/paper.pdf) ] Wood, Gavin. _Ethereum: A Secure Decentralized Generalized Transaction Ledger_."
   ]
  },
  {
   "cell_type": "markdown",
   "metadata": {},
   "source": [
    "---"
   ]
  },
  {
   "cell_type": "markdown",
   "metadata": {},
   "source": [
    "## Terms"
   ]
  },
  {
   "cell_type": "markdown",
   "metadata": {},
   "source": [
    "* [ w ] Ethereum\n",
    "* [ w ] Ethereum Virtual Machine (EVM)"
   ]
  },
  {
   "cell_type": "markdown",
   "metadata": {},
   "source": [
    "---"
   ]
  }
 ],
 "metadata": {
  "language_info": {
   "name": "python"
  }
 },
 "nbformat": 4,
 "nbformat_minor": 2
}
