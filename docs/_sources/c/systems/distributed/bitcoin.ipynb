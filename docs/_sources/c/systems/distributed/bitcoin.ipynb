{
 "cells": [
  {
   "cell_type": "markdown",
   "metadata": {},
   "source": [
    "# Bitcoin"
   ]
  },
  {
   "cell_type": "markdown",
   "metadata": {},
   "source": [
    "---"
   ]
  },
  {
   "cell_type": "markdown",
   "metadata": {},
   "source": [
    "## Table of Contents\n",
    "```{contents}\n",
    "```"
   ]
  },
  {
   "cell_type": "markdown",
   "metadata": {},
   "source": [
    "---"
   ]
  },
  {
   "cell_type": "markdown",
   "metadata": {},
   "source": [
    "## Resources"
   ]
  },
  {
   "cell_type": "markdown",
   "metadata": {},
   "source": [
    "* [ [h](https://bitcoin.org/) ][ [d](https://developer.bitcoin.org/devguide/) ][ g ][ [w](https://en.wikipedia.org/wiki/Bitcoin) ] Bitcoin\n",
    "* [ [h](https://bitcoincore.org) ][ d ][ [g](https://github.com/bitcoin/bitcoin) ][ w ] Bitcoin Core\n",
    "* [ [h](https://lightning.network/) ][ d ][ g ][ w ] Lightning Network\n",
    "\n",
    "[ [g](https://github.com/bitcoin/bips) ] Bitcoin Improvement Proposal\n",
    "* [ [d](https://github.com/bitcoin/bips/blob/master/bip-0032.mediawiki) ] BIP32\n",
    "* [ [d](https://github.com/bitcoin/bips/blob/master/bip-0039.mediawiki) ] BIP39\n",
    "* [ [d](https://github.com/bitcoin/bips/blob/master/bip-0044.mediawiki) ] BIP44\n",
    "* [ [h](https://bip32jp.github.io/english/) ][ [g](https://github.com/bip32JP/bip32JP.github.io) ] BIP32 Deterministic Key Generator\n",
    "* [ [h](https://iancoleman.io/bip39/) ][ [g](https://github.com/iancoleman/bip39) ] BIP39 Mnemonic Code Converter\n",
    "\n",
    "[ [g](https://github.com/satoshilabs/slips) ] SatoshiLabs Improvement Proposal\n",
    "* [ [g](https://github.com/satoshilabs/slips/blob/master/slip-0044.md) ] SLIP-0044: Registered coin types for BIP-0044\n",
    "\n",
    "[ [h](https://andersbrownworth.com) ] Brownworth, Anders\n",
    "* [ [h](https://andersbrownworth.com/blockchain) ][ [g](https://github.com/anders94/blockchain-demo.git) ] Blockchain Demo\n",
    "\n",
    "Courses\n",
    "* [ [h](https://cs251.stanford.edu) ] Boneh, Dan & Benedikt Bunz. (2020). CS251: Bitcoin and Cryptocurrencies. Stanford."
   ]
  },
  {
   "cell_type": "markdown",
   "metadata": {},
   "source": [
    "---"
   ]
  },
  {
   "cell_type": "markdown",
   "metadata": {},
   "source": [
    "## Texts"
   ]
  },
  {
   "cell_type": "markdown",
   "metadata": {},
   "source": [
    "* [ [g](https://github.com/bitcoinbook/bitcoinbook) ] Antonopoulos, Andreas M. (2017). _Mastering Bitcoin: Programming the Open Blockchain_. 2e. O'Reilly.\n",
    "* Antonopoulos, Andreas M., Olaoluwa Osuntokun, & René Pickhardt. (2021). _Mastering the Lightning Network: A Second Layer Blockchain Protocol for Instant Bitcoin Payments_. O’Reilly.\n",
    "* [ [p](https://bitcoin.org/bitcoin.pdf) ] Nakamoto, Satoshi. (2008). \"Bitcoin: A Peer-to-Peer Electronic Cash System\". [Fermat's Library]([https://fermatslibrary.com/s/bitcoin).\n",
    "* [ [h](http://bitcoinbook.cs.princeton.edu) ] Narayanan, Arvind et al. (2016). _Bitcoin and Cryptocurrency Technologies: A Comprehensive Introduction_. Princeton University Press. [Coursera](https://www.coursera.org/learn/cryptocurrency).\n",
    "* [ [p](https://eprint.iacr.org/2013/881) ] Sompolinsky, Yonatan & Aviv Zohar. (2013). \"Secure High-Rate Transaction Processing in Bitcoin\".\n",
    "* [ [g](https://github.com/jimmysong/programmingbitcoin) ] Song, Jimmy. (2019). _Programming Bitcoin: Learn How to Program Bitcoin from Scratch_. O’Reilly.\n",
    "* [ [p](https://arxiv.org/pdf/1909.11261.pdf) ] Yang, Lei et al. (2020). \"Prism: Scaling Bitcoin by 10,000x\"."
   ]
  },
  {
   "cell_type": "markdown",
   "metadata": {},
   "source": [
    "---"
   ]
  },
  {
   "cell_type": "markdown",
   "metadata": {},
   "source": [
    "## Terms"
   ]
  },
  {
   "cell_type": "markdown",
   "metadata": {},
   "source": [
    "* [ w ] Bitcoin\n",
    "* [ w ] Bitcoin Improvement Proposal (BIP)\n",
    "* [ [w](https://en.wikipedia.org/wiki/Bitcoin_network) ] Bitcoin Network\n",
    "* [ w ] SatoshiLabs Improvement Proposal (SLIP)"
   ]
  },
  {
   "cell_type": "markdown",
   "metadata": {},
   "source": [
    "---"
   ]
  },
  {
   "cell_type": "markdown",
   "metadata": {},
   "source": [
    "## Digital Electronic Payments\n",
    "\n",
    "### DigiCash (1989-1998)\n",
    "\n",
    "DigiCash [Home](https://www.chaum.com/ecash/) [Investopedia](https://www.investopedia.com/terms/d/digicash.asp) [Wiki](https://en.wikipedia.org/wiki/DigiCash) <br>\n",
    "Ecash [Wiki](https://en.wikipedia.org/wiki/Ecash) <br>\n",
    "\n",
    "Chaum, David. (1982). [\"Blind signatures for untraceable payments\"](https://www.chaum.com/publications/Chaum-blind-signatures.PDF). <br>\n",
    "\n",
    "founded 1989 <br>\n",
    "bankruptcy 1998 <br>\n",
    "acquired by InfoSpace 2002 <br>\n",
    "\n",
    "### Mondex (1993-2001)\n",
    "\n",
    "Mondex [Wiki](https://en.wikipedia.org/wiki/Mondex) <br>\n",
    "\n",
    "development 1990 <br>\n",
    "public 1993 <br>\n",
    "acquired by MasterCard 2001 <br>\n",
    "\n",
    "### CyberCash (1994-2001)\n",
    "\n",
    "CyberCash [Wiki](https://en.wikipedia.org/wiki/CyberCash) <br>\n",
    "\n",
    "established 1994 <br>\n",
    "public 1996 <br>\n",
    "bankruptcy 2001 <br>\n",
    "acquired by PayPal 2005 <br>\n",
    "\n",
    "### E-gold (1996-2009)\n",
    "\n",
    "E-gold [Wiki](https://en.wikipedia.org/wiki/E-gold) <br>\n",
    "\n",
    "### Hashcash (1997)\n",
    "\n",
    "Hashcash [Home](http://www.hashcash.org/) [Wiki](https://en.wikipedia.org/wiki/Hashcash) <br>\n",
    "\n",
    "Back, Adam. (2002). [\"Hashcash - Amortizable Publicly Auditable Cost-Functions\"](http://www.hashcash.org/papers/amortizable.pdf). <br>\n",
    "Back, Adam. (2002). [\"Hashcash - A Denial of Service Counter-Measure\"](http://www.hashcash.org/papers/hashcash.pdf). <br>\n",
    "Dwork, Cynthia & Moni Naor. (1992). [\"Pricing via Processing or Combatting Junk Mail\"](http://www.hashcash.org/papers/pvp.pdf). <br>\n",
    "\n",
    "### B-Money (1998)\n",
    "\n",
    "B-Money [Investopedia](https://www.investopedia.com/terms/b/bmoney.asp) <br>\n",
    "\n",
    "Dai, Wei. (1998). [\"b-money, an anonymous, distributed electronic cash system\"](http://www.weidai.com/bmoney.txt). <br>\n",
    "\n",
    "### Bit Gold (1999)\n",
    "\n",
    "Bit Gold [Investopedia](https://www.investopedia.com/terms/b/bit-gold.asp) [Wiki](https://en.wikipedia.org/wiki/Nick_Szabo#Bit_gold) <br>\n",
    "\n",
    "Szabo, Nick. (2005). [\"Bit Gold\"](https://nakamotoinstitute.org/bit-gold/).<br>\n",
    "Szabo, Nick. (1997). \"The Idea of Smart Contracts\".<br>\n",
    "\n",
    "### Lucre\n",
    "\n",
    "Lucre <br>\n",
    "Laurie, Ben. (2008). \"Lucre: Anonymous Electronic Tokens\". <br>"
   ]
  },
  {
   "cell_type": "markdown",
   "metadata": {},
   "source": [
    "---"
   ]
  }
 ],
 "metadata": {
  "language_info": {
   "name": "python"
  }
 },
 "nbformat": 4,
 "nbformat_minor": 2
}
