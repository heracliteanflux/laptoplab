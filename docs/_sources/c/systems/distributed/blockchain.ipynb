{
 "cells": [
  {
   "cell_type": "markdown",
   "metadata": {},
   "source": [
    "# Blockchain"
   ]
  },
  {
   "cell_type": "markdown",
   "metadata": {},
   "source": [
    "---"
   ]
  },
  {
   "cell_type": "markdown",
   "metadata": {},
   "source": [
    "## Table of Contents\n",
    "```{contents}\n",
    "```"
   ]
  },
  {
   "cell_type": "markdown",
   "metadata": {},
   "source": [
    "---"
   ]
  },
  {
   "cell_type": "markdown",
   "metadata": {},
   "source": [
    "## Resources"
   ]
  },
  {
   "cell_type": "markdown",
   "metadata": {},
   "source": [
    "Tools & Technologies\n",
    "* [ [h](https://www.blockcypher.com) ][ w ] Block Cypher\n",
    "* [ [h](https://www.hyperledger.org) ][ [w](https://en.wikipedia.org/wiki/Hyperledger) ] Hyperledger (The Linux Foundation)\n",
    "* [ [h](https://cbr.stanford.edu/sbc20/) ][ w ] Stanford Blockchain Conference\n",
    "* [ [h](https://www.wolframblockchainlabs.com/) ][ w ] Wolfram Blockchain Labs\n",
    "\n",
    "Courses\n",
    "* [ [h](https://ocw.mit.edu/courses/sloan-school-of-management/15-s12-blockchain-and-money-fall-2018/) ] Gensler, Gary. (2018). \"15.S12: Blockchain and Money\". MIT.\n",
    "* [ [h](https://www.coursera.org/learn/blockchain-scalability) ] Gramoli, Vincent. \"Blockchain Scalability and its Foundations in Distributed Computing\". University of Sydney.\n",
    "* [ [h](https://ocw.mit.edu/courses/mas-s62-cryptocurrency-engineering-and-design-spring-2018/video_galleries/lecture-videos/) ] MIT OpenCourseware. \"Cryptocurrency Engineering and Design\".\n",
    "* [ [h](https://tristartom.github.io/teaching/20f-fin600/) ] Tang, Yuzhe. \"CIS600/FIN600: Blockchain and Cryptocurrency\". Syracuse University.\n",
    "\n",
    "More\n",
    "* \"How does a blockchain prevent double-spending of Bitcoins?\" [Investopedia](https://www.investopedia.com/ask/answers/061915/how-does-block-chain-prevent-doublespending-bitcoins.asp)\n",
    "* \"Public, Private, Permissioned Blockchains Compared\" [Investopedia](https://www.investopedia.com/news/public-private-permissioned-blockchains-compared/)"
   ]
  },
  {
   "cell_type": "markdown",
   "metadata": {},
   "source": [
    "---"
   ]
  },
  {
   "cell_type": "markdown",
   "metadata": {},
   "source": [
    "## Texts"
   ]
  },
  {
   "cell_type": "markdown",
   "metadata": {},
   "source": [
    "* Hellwig, Daniel, Goran Karlic, & Arnd Huckzermeier. (2020). _Build Your Own Blockchain: A Practical Guide to Distributed Ledger Technology_. Springer.\n",
    "* [ [h](https://github.com/Mastering-Blockchain-Book) ] Lantz, Lorne & Daniel Cawrey. (2020). _Mastering Blockchain: Unlocking the Power of Cryptocurrencies, Smart Contracts, and Decentralized Applications_. O’Reilly.\n",
    "* Ramamurthy, Bina. (2020). _Blockchain in Action_. Manning.\n",
    "* Sheikh, Jamiel. (2020). _Mastering Corda: Blockchain for Java Developers_. O'Reilly.\n",
    "* [ [h](https://www.distributedconsensus.net) ] Shi, Elaine. (2020). _Foundations of Distributed Consensus and Blockchains_.\n",
    "* Swan, Melanie. (2015). _Blockchain: Blueprint for a New Economy_. O'Reilly.\n",
    "* Werbach, Kevin. (2018). _The Blockchain and the New Architecture of Trust_. MIT Press.\n",
    "* Zand, Matt, Xun (Brian) Wu, & Mark Anthony Morris. (2021). _Hands-On Smart Contract Development with Hyperledger Fabric V2: Building Enterprise Blockchain Applications_. O'Reilly."
   ]
  },
  {
   "cell_type": "markdown",
   "metadata": {},
   "source": [
    "---"
   ]
  },
  {
   "cell_type": "markdown",
   "metadata": {},
   "source": [
    "## Terms"
   ]
  },
  {
   "cell_type": "markdown",
   "metadata": {},
   "source": [
    "* [ w ] Block Explorer\n",
    "* [ [w](https://en.wikipedia.org/wiki/Blockchain) ] Blockchain\n",
    "* [ [w](https://en.wikipedia.org/wiki/Directed_acyclic_graph) ] Directed Acyclic Graph (DAG)\n",
    "* [ w ] Distributed Ledger Technology (DLT)\n",
    "* [ [w](https://en.wikipedia.org/wiki/Hashgraph) ] Hashgraph\n",
    "* [ w ] Ledger\n",
    "* [ [w](https://en.wikipedia.org/wiki/Proof_of_stake) ] Proof of Stake\n",
    "* [ [w](https://en.wikipedia.org/wiki/Proof_of_work) ] Proof of Work\n",
    "  * [ [w](https://en.wikipedia.org/wiki/SHA-2) ] Secure Hash Algorithm 2 (SHA2)\n",
    "  * [ [w](https://en.wikipedia.org/wiki/Equihash) ] Equihash\n",
    "  * [ w ] Ethash\n",
    "  * [ w ] RandomX\n",
    "  * [ [w](https://en.wikipedia.org/wiki/Scrypt) ] Scrypt\n",
    "  * [ w ] X11"
   ]
  },
  {
   "cell_type": "markdown",
   "metadata": {},
   "source": [
    "---"
   ]
  }
 ],
 "metadata": {
  "language_info": {
   "name": "python"
  }
 },
 "nbformat": 4,
 "nbformat_minor": 2
}
