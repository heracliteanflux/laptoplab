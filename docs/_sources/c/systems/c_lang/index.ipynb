{
 "cells": [
  {
   "cell_type": "markdown",
   "metadata": {},
   "source": [
    "# Systems and C"
   ]
  },
  {
   "cell_type": "markdown",
   "metadata": {},
   "source": [
    "---"
   ]
  },
  {
   "cell_type": "markdown",
   "metadata": {},
   "source": [
    "* [Binary Prefixes](#Binary-Prefixes)\n",
    "* [Types](#Types)\n",
    "* [Arrays](#Arrays)\n",
    "* [Pointers](#Pointers)\n",
    "* [Strings](#Strings)\n",
    "* [Bit Operations](#Bit-Operations)\n",
    "* [Storage Classes](#Storage-Classes)\n",
    "* [Signals](#Signals)\n",
    "* [I/O](#I/O)\n",
    "* [Cache](#Cache)\n",
    "* [Memory](#Memory)\n",
    "* [x86 Assembly](#x86-Assembly)\n",
    "* [GDB](#GDB)\n",
    "* [Building](#Building)\n",
    "* [Concurrency](#Concurrency)\n",
    "* [Profiling](#Profiling)\n",
    "  * [`gprof`](#gprof)\n",
    "* [Resources](#Resources)\n",
    "* [Figures](#Figures)\n",
    "* [Terms](#Terms)"
   ]
  },
  {
   "cell_type": "markdown",
   "metadata": {},
   "source": [
    "---\n",
    "---\n",
    "---"
   ]
  },
  {
   "cell_type": "markdown",
   "metadata": {},
   "source": [
    "## Binary Prefixes"
   ]
  },
  {
   "cell_type": "markdown",
   "metadata": {},
   "source": [
    "* [ [w](https://en.wikipedia.org/wiki/Binary_prefix) ] Binary Prefix\n",
    "* [ [w](https://en.wikipedia.org/wiki/Names_of_large_numbers) ] names of large numbers\n",
    "* [ [w](https://en.wikipedia.org/wiki/Unit_prefix) ] Unit Prefix"
   ]
  },
  {
   "cell_type": "code",
   "execution_count": null,
   "metadata": {},
   "outputs": [
    {
     "name": "stdout",
     "output_type": "stream",
     "text": [
      "2^10 B = 1024^1 B =                               1,024 B = 1 KiB (about one thousand B)\n",
      "2^20 B = 1024^2 B =                           1,048,576 B = 1 MiB (about one million B)\n",
      "2^30 B = 1024^3 B =                       1,073,741,824 B = 1 GiB (about one billion B)\n",
      "2^40 B = 1024^4 B =                   1,099,511,627,776 B = 1 TiB (about one trillion B)\n",
      "2^50 B = 1024^5 B =               1,125,899,906,842,624 B = 1 PiB (about one quadrillion B)\n",
      "2^60 B = 1024^6 B =           1,152,921,504,606,846,976 B = 1 EiB (about one quintillion B)\n",
      "2^70 B = 1024^7 B =       1,180,591,620,717,411,303,424 B = 1 ZiB (about one sextillion B)\n",
      "2^80 B = 1024^8 B =   1,208,925,819,614,629,174,706,176 B = 1 YiB (about one septillion B)\n"
     ]
    }
   ],
   "source": [
    "print(f'2^10 B = 1024^1 B = {2**10:>35,.0f} B = 1 KiB (about one thousand B)')\n",
    "print(f'2^20 B = 1024^2 B = {2**20:>35,.0f} B = 1 MiB (about one million B)')\n",
    "print(f'2^30 B = 1024^3 B = {2**30:>35,.0f} B = 1 GiB (about one billion B)')\n",
    "print(f'2^40 B = 1024^4 B = {2**40:>35,.0f} B = 1 TiB (about one trillion B)')\n",
    "print(f'2^50 B = 1024^5 B = {2**50:>35,.0f} B = 1 PiB (about one quadrillion B)')\n",
    "print(f'2^60 B = 1024^6 B = {2**60:>35,.0f} B = 1 EiB (about one quintillion B)')\n",
    "print(f'2^70 B = 1024^7 B = {2**70:>35,.0f} B = 1 ZiB (about one sextillion B)')\n",
    "print(f'2^80 B = 1024^8 B = {2**80:>35,.0f} B = 1 YiB (about one septillion B)')"
   ]
  },
  {
   "cell_type": "markdown",
   "metadata": {},
   "source": [
    "---\n",
    "---\n",
    "---"
   ]
  },
  {
   "cell_type": "markdown",
   "metadata": {},
   "source": [
    "## Types"
   ]
  },
  {
   "cell_type": "markdown",
   "metadata": {},
   "source": [
    "Type | Bytes (32-bit) | Bytes (64-bit) | 32-bit Range | printf\n",
    "-|-|-|-|-\n",
    "char                     |  1 |  1 | [0, 255]                    | `  %c`\n",
    "short          int       |  2 |  2 | [-32,768, 32,767]           | ` %hd`\n",
    "short unsigned int       |  2 |  2 | [0, 65,535]                 | ` %hu`\n",
    "int                      |  4 |  4 | [-214,748,648, 214,748,647] | `  %d`\n",
    "unsigned int             |  4 |  4 |                             | `  %u`\n",
    "long int                 |  4 |  8 |                             | ` %ld`\n",
    "long long int            |  8 |  8 |                             | `%lld`\n",
    "long unsigned int        |    |    |                             | ` %lu`\n",
    "long long unsigned int   |    |    |                             | ` %llu`\n",
    "float                    |  4 |  4 |                             | `  %f`\n",
    "double                   |  8 |  8 |                             | ` %lf`\n",
    "long double              | 12 | 16 |                             | ` %Lf`\n",
    "float scientific         |    |    |                             | `  %e`\n",
    "pointer (memory address) |  4 |  8 |                             | `  %p`\n",
    "string                   |    |    |                             | `  %s`\n",
    "octal                    |    |    |                             | `  %o`\n",
    "hexadecimal              |    |    |                             | `  %x`"
   ]
  },
  {
   "cell_type": "markdown",
   "metadata": {},
   "source": [
    "C99 extended integer types\n",
    "\n",
    "* int8_t exactly 8 bits signed\n",
    "* int16_t exactly 16 bits signed\n",
    "* int32_t exactly 32 bits signed\n",
    "* int64_t exactly 64 bits signed\n",
    "* uint8_t exactly 8 bits unsigned"
   ]
  },
  {
   "cell_type": "markdown",
   "metadata": {},
   "source": [
    "```c\n",
    "int8_t\n",
    "int16_t\n",
    "int32_t\n",
    "int64_t\n",
    "int128_t\n",
    "\n",
    "uint8_t\n",
    "uint16_t\n",
    "uint32_t\n",
    "uint64_t\n",
    "uint128_t\n",
    "```\n",
    "\n",
    "defined in `stdint.h`\n",
    "\n",
    "8-bit unsigned int that stores a value in the range 0-255\n",
    "\n",
    "useful for dealing with data that can be represented by 8 bits, such as data buffers"
   ]
  },
  {
   "cell_type": "markdown",
   "metadata": {},
   "source": [
    "### Determining their size"
   ]
  },
  {
   "cell_type": "markdown",
   "metadata": {},
   "source": [
    "```c\n",
    "void print_type_sizes () {\n",
    "  printf(\"               char : %02zu bits\\n\", sizeof(               char) * 8);\n",
    "  printf(\"unsigned       char : %02zu bits\\n\", sizeof(unsigned       char) * 8);\n",
    "  printf(\"              short : %02zu bits\\n\", sizeof(              short) * 8);\n",
    "  printf(\"unsigned      short : %02zu bits\\n\", sizeof(unsigned      short) * 8);\n",
    "  printf(\"                int : %02zu bits\\n\", sizeof(                int) * 8);\n",
    "  printf(\"unsigned        int : %02zu bits\\n\", sizeof(unsigned        int) * 8);\n",
    "  printf(\"               long : %02zu bits\\n\", sizeof(               long) * 8);\n",
    "  printf(\"unsigned       long : %02zu bits\\n\", sizeof(unsigned       long) * 8);\n",
    "  printf(\"          long long : %02zu bits\\n\", sizeof(          long long) * 8);\n",
    "  printf(\"unsigned  long long : %02zu bits\\n\", sizeof(unsigned  long long) * 8);\n",
    "  printf(\"              float : %02zu bits\\n\", sizeof(              float) * 8);\n",
    "  printf(\"             double : %02zu bits\\n\", sizeof(             double) * 8);\n",
    "  printf(\"        long double : %02zu bits\\n\", sizeof(        long double) * 8);\n",
    "  printf(\"              void* : %02zu bits\\n\", sizeof(              void*) * 8);\n",
    "}\n",
    "```\n",
    "```bash\n",
    "               char : 08 bits\n",
    "unsigned       char : 08 bits\n",
    "              short : 16 bits\n",
    "unsigned      short : 16 bits\n",
    "                int : 32 bits\n",
    "unsigned        int : 32 bits\n",
    "               long : 64 bits\n",
    "unsigned       long : 64 bits\n",
    "          long long : 64 bits\n",
    "unsigned  long long : 64 bits\n",
    "              float : 32 bits\n",
    "             double : 64 bits\n",
    "        long double : 64 bits\n",
    "              void* : 64 bits\n",
    "```"
   ]
  },
  {
   "cell_type": "markdown",
   "metadata": {},
   "source": [
    "```c\n",
    "/* sizeof.c */\n",
    "\n",
    "#include <limits.h> /* CHAR_BIT */\n",
    "#include <stdio.h>  /* printf   */\n",
    "#include <stdint.h> /* int8_t, uint8_t, */\n",
    "\n",
    "int main (int argc, char** argv) {\n",
    "  printf(\"CHAR_BIT           : %2zu b\\n\", (size_t)CHAR_BIT);\n",
    "  printf(\"\\n\");\n",
    "  printf(\"              char : %2zu B    %25d    (CHAR_MIN) - %25d     (CHAR_MAX)\\n\", sizeof(              char),  CHAR_MIN,   CHAR_MAX);\n",
    "  printf(\"  signed      char : %2zu B    %25d   (SCHAR_MIN) - %25d    (SCHAR_MAX)\\n\", sizeof(  signed      char), SCHAR_MIN,  SCHAR_MAX);\n",
    "  printf(\"unsigned      char : %2zu B    %25u               - %25u    (UCHAR_MAX)\\n\", sizeof(unsigned      char),         0,  UCHAR_MAX);\n",
    "  printf(\"             short : %2zu B    %25d    (SHRT_MIN) - %25d     (SHRT_MAX)\\n\", sizeof(             short),  SHRT_MIN,   SHRT_MAX);\n",
    "  printf(\"unsigned     short : %2zu B    %25u               - %25u    (USHRT_MAX)\\n\", sizeof(unsigned     short),         0,  USHRT_MAX);\n",
    "  printf(\"               int : %2zu B    %25d     (INT_MIN) - %25u      (INT_MAX)\\n\", sizeof(               int),   INT_MIN,    INT_MAX);\n",
    "  printf(\"unsigned           : %2zu B    %25d               - %25u     (UINT_MAX)\\n\", sizeof(unsigned          ),         0,   UINT_MAX);\n",
    "  printf(\"              long : %2zu B    %25ld    (LONG_MIN) - %25ld     (LONG_MAX)\\n\", sizeof(              long),  LONG_MIN,   LONG_MAX);\n",
    "  printf(\"unsigned      long : %2zu B    %25u               - %25lu    (ULONG_MAX)\\n\", sizeof(unsigned      long),         0,  ULONG_MAX);\n",
    "  printf(\"         long long : %2zu B    %25lld   (LLONG_MIN) - %25lld    (LLONG_MAX)\\n\", sizeof(         long long), LLONG_MIN,  LLONG_MAX);\n",
    "  printf(\"unsigned long long : %2zu B    %25u               - %25llu   (ULLONG_MAX)\\n\", sizeof(unsigned long long),         0, ULLONG_MAX);\n",
    "  printf(\"             float : %2zu B\\n\", sizeof(float));\n",
    "  printf(\"            double : %2zu B\\n\", sizeof(double));\n",
    "  printf(\"       long double : %2zu B\\n\", sizeof(long double));\n",
    "  printf(\"            size_t : %2zd B\\n\", sizeof(size_t));\n",
    "  printf(\"            int8_t : %2zd B    %25d     (INT8_MIN) - %25d   (INT8_MAX)\\n\", sizeof(  int8_t),  INT8_MIN,   INT8_MAX);\n",
    "  printf(\"           uint8_t : %2zu B    %25u                - %25u  (UINT8_MAX)\\n\", sizeof( uint8_t),         0,  UINT8_MAX);\n",
    "  printf(\"           int16_t : %2zd B    %25d    (INT16_MIN) - %25d  (INT16_MAX)\\n\", sizeof( int16_t), INT16_MIN,  INT16_MAX);\n",
    "  printf(\"          uint16_t : %2zu B    %25u                - %25u (UINT16_MAX)\\n\", sizeof(uint16_t),         0, UINT16_MAX);\n",
    "  printf(\"           int32_t : %2zd B    %25d    (INT32_MIN) - %25d  (INT32_MAX)\\n\", sizeof( int32_t), INT32_MIN,  INT32_MAX);\n",
    "  printf(\"          uint32_t : %2zu B    %25u                - %25u (UINT32_MAX)\\n\", sizeof(uint32_t),         0, UINT32_MAX);\n",
    "  printf(\"           int64_t : %2zd B    %25ld    (INT64_MIN) - %25ld  (INT64_MAX)\\n\", sizeof( int64_t), INT64_MIN, INT64_MAX);\n",
    "  printf(\"          uint64_t : %2zu B    %25u                - %25lu (UINT64_MAX)\\n\", sizeof(uint64_t),         0, UINT64_MAX);\n",
    "\n",
    "  return 0;\n",
    "}\n",
    "```\n",
    "```txt\n",
    "CHAR_BIT           :  8 b\n",
    "\n",
    "              char :  1 B                            0    (CHAR_MIN) -                       255     (CHAR_MAX)\n",
    "  signed      char :  1 B                         -128   (SCHAR_MIN) -                       127    (SCHAR_MAX)\n",
    "unsigned      char :  1 B                            0               -                       255    (UCHAR_MAX)\n",
    "             short :  2 B                       -32768    (SHRT_MIN) -                     32767     (SHRT_MAX)\n",
    "unsigned     short :  2 B                            0               -                     65535    (USHRT_MAX)\n",
    "               int :  4 B                  -2147483648     (INT_MIN) -                2147483647      (INT_MAX)\n",
    "unsigned           :  4 B                            0               -                4294967295     (UINT_MAX)\n",
    "              long :  8 B         -9223372036854775808    (LONG_MIN) -       9223372036854775807     (LONG_MAX)\n",
    "unsigned      long :  8 B                            0               -      18446744073709551615    (ULONG_MAX)\n",
    "         long long :  8 B         -9223372036854775808   (LLONG_MIN) -       9223372036854775807    (LLONG_MAX)\n",
    "unsigned long long :  8 B                            0               -      18446744073709551615   (ULLONG_MAX)\n",
    "             float :  4 B\n",
    "            double :  8 B\n",
    "       long double : 16 B\n",
    "            size_t :  8 B\n",
    "            int8_t :  1 B                         -128     (INT8_MIN) -                       127   (INT8_MAX)\n",
    "           uint8_t :  1 B                            0                -                       255  (UINT8_MAX)\n",
    "           int16_t :  2 B                       -32768    (INT16_MIN) -                     32767  (INT16_MAX)\n",
    "          uint16_t :  2 B                            0                -                     65535 (UINT16_MAX)\n",
    "           int32_t :  4 B                  -2147483648    (INT32_MIN) -                2147483647  (INT32_MAX)\n",
    "          uint32_t :  4 B                            0                -                4294967295 (UINT32_MAX)\n",
    "           int64_t :  8 B         -9223372036854775808    (INT64_MIN) -       9223372036854775807  (INT64_MAX)\n",
    "          uint64_t :  8 B                            0                -      18446744073709551615 (UINT64_MAX)\n",
    "```"
   ]
  },
  {
   "cell_type": "markdown",
   "metadata": {},
   "source": [
    "---"
   ]
  },
  {
   "cell_type": "markdown",
   "metadata": {},
   "source": [
    "Data Type\n",
    "* an abstraction over memory ranges and the data they contain, that allows them to be classified into different types\n",
    "* and so a variable name is just an alias for a memory range\n",
    "\n",
    "```c\n",
    "short int   si = 9;\n",
    "long  int   li = 1234567890L;\n",
    "float        f = 3.14;\n",
    "double       d = 1234567890.1234567;\n",
    "char         c = 'a';\n",
    "char      *ptr = &c;\n",
    "short int *ptr = &si;\n",
    "```"
   ]
  },
  {
   "cell_type": "markdown",
   "metadata": {},
   "source": [
    "Type System\n",
    "* the compiler uses type information in order to determine how to apply logical operations defined by the code, and to determine ultimately which machine instructions are generated and executed\n",
    "\n",
    "```c\n",
    "double one = 3.14, two = 4.5, res1;\n",
    "int    three = 3, four = 4059; res2;\n",
    "\n",
    "res1 = one + two      // double + double\n",
    "res2 = three + four   // int + int\n",
    "```\n",
    "\n",
    "Programming language typing\n",
    "* distinctions between strong typing and weak typing refer to the quality of the language in dealing with ambiguity in types and usage\n",
    "* C IS WEAKLY TYPED, which leads to greater flexibility at the cost of being more error-prone\n",
    "\n",
    "Careful\n",
    "* expressions like `one + 1`\n",
    "* passing parameters like `f(one)`\n",
    "* comparisons like `one == 1`\n",
    "\n",
    "Type Casting `(type) variable`\n",
    "\n",
    "```c\n",
    "double one = 3.24;\n",
    "if (one / 3 == 1) printf(\"equal\");         // 3.24 / 3.0 == 1.0\n",
    "else              printf(\"not equal\")\n",
    "\n",
    "double one = 3.24;\n",
    "if ((int)one / 3 == 1) printf(\"equal\");    // 3 / 3 == 1\n",
    "else                   printf(\"not equal\")\n",
    "```"
   ]
  },
  {
   "cell_type": "markdown",
   "metadata": {},
   "source": [
    "```c\n",
    "// typecast.c\n",
    "\n",
    "#include <stdio.h>\n",
    "\n",
    "int main (void) {\n",
    "  short int   si = 9;\n",
    "  long  int   li = 1234567890L;\n",
    "  float        f = 3.14;\n",
    "  double       d = 1234567890.1234567;\n",
    "  char         c = 'a';\n",
    "  char      *ptr = &si;\n",
    "\n",
    "  printf(\"short int %d %f %p\\n\",    (int)si,  (float)si, (char *)si);\n",
    "  printf(\"long  int %d %f %p\\n\",    (int)li,  (float)li, (char *)li);\n",
    "  printf(\"float     %d %f (ERR)\\n\", (int)f,   (float)f);\n",
    "  printf(\"double    %d %f (ERR)\\n\", (int)d,   (float)d);\n",
    "  printf(\"char      %d %f %p\\n\",    (int)c,   (float)c,  (char *)c);\n",
    "  printf(\"ptr       %d (ERR) %p\\n\", (int)ptr, (char *)ptr);\n",
    "\n",
    "  return 0;\n",
    "}\n",
    "```\n",
    "```bash\n",
    "./typecast\n",
    "short int 9 9.000000 0x9\n",
    "long  int 1234567890 1234567936.000000 0x499602d2\n",
    "float     3 3.140000 (ERR)\n",
    "double    1234567890 1234567936.000000 (ERR)\n",
    "char      97 97.000000 0x61\n",
    "ptr       1875863146 (ERR) 0x16fcf666a\n",
    "```"
   ]
  },
  {
   "cell_type": "markdown",
   "metadata": {},
   "source": [
    "---"
   ]
  },
  {
   "cell_type": "markdown",
   "metadata": {},
   "source": [
    "### `typedef`"
   ]
  },
  {
   "cell_type": "markdown",
   "metadata": {},
   "source": [
    "`typedef old_type new_type`\n",
    "\n",
    "The compiler treats the new type just like the old type: the new type is like an alias of the old type."
   ]
  },
  {
   "cell_type": "markdown",
   "metadata": {},
   "source": [
    "EXAMPLE\n",
    "\n",
    "```c\n",
    "typedef unsigned char bitfield\n",
    "\n",
    "bifield my_func (bitfield x, int y) {\n",
    "  float    a;\n",
    "  bitfield z;\n",
    "\n",
    "  ...\n",
    "\n",
    "  return (bitfield)1;\n",
    "}\n",
    "```"
   ]
  },
  {
   "cell_type": "markdown",
   "metadata": {},
   "source": [
    "---"
   ]
  },
  {
   "cell_type": "markdown",
   "metadata": {},
   "source": [
    "### `struct`s"
   ]
  },
  {
   "cell_type": "markdown",
   "metadata": {},
   "source": [
    "C has no objects. The closest thing is a struct, or set of fields."
   ]
  },
  {
   "cell_type": "markdown",
   "metadata": {},
   "source": [
    "```c\n",
    "struct Struct_Name {\n",
    "  list\n",
    "  of\n",
    "  variable\n",
    "  definitions\n",
    "  called\n",
    "  fields\n",
    "} variable_name(s);\n",
    "\n",
    "struct Struct_Name another_variable_name;\n",
    "```"
   ]
  },
  {
   "cell_type": "markdown",
   "metadata": {},
   "source": [
    "EXAMPLE\n",
    "\n",
    "```c\n",
    "struct {\n",
    "  char name[128];\n",
    "  int  mileage;\n",
    "} gremlin, cayman, cessna180, montauk;\n",
    "\n",
    "strcpy(cayman.name, \"My Favorite Car\");\n",
    "cayman.mileage = 1240;\n",
    "```"
   ]
  },
  {
   "cell_type": "markdown",
   "metadata": {},
   "source": [
    "---"
   ]
  },
  {
   "cell_type": "markdown",
   "metadata": {},
   "source": [
    "### `enum`s"
   ]
  },
  {
   "cell_type": "markdown",
   "metadata": {},
   "source": [
    "`enum` values are always ints. They are optional and assigned by the compiler if not explicitly assigned.\n",
    "\n",
    "```c\n",
    "enum [ Enum_Name ] {\n",
    "  id1 [ = val ],\n",
    "  id2 [ = val ],\n",
    "  ...\n",
    "} variable;\n",
    "```"
   ]
  },
  {
   "cell_type": "markdown",
   "metadata": {},
   "source": [
    "EXAMPLE\n",
    "\n",
    "```c\n",
    "enum {\n",
    "  SUNDAY    = 0,\n",
    "  MONDAY    = 1,\n",
    "  TUESDAY   = 2,\n",
    "  WEDNESDAY = 3,\n",
    "  THURSDAY  = 4,\n",
    "  FRIDAY    = 5,\n",
    "  SATURDAY  = 6\n",
    "} days_of_week;\n",
    "\n",
    "enum {\n",
    "  SUNDAY,\n",
    "  MONDAY,\n",
    "  TUESDAY,\n",
    "  WEDNESDAY,\n",
    "  THURSDAY,\n",
    "  FRIDAY,\n",
    "  SATURDAY,\n",
    "} days_of_week;\n",
    "```"
   ]
  },
  {
   "cell_type": "markdown",
   "metadata": {},
   "source": [
    "---"
   ]
  },
  {
   "cell_type": "markdown",
   "metadata": {},
   "source": [
    "### `union`s"
   ]
  },
  {
   "cell_type": "markdown",
   "metadata": {},
   "source": []
  },
  {
   "cell_type": "markdown",
   "metadata": {},
   "source": [
    "---"
   ]
  },
  {
   "cell_type": "markdown",
   "metadata": {},
   "source": [
    "```c\n",
    "struct {\n",
    "  enum {\n",
    "    AUTOMOTIVE   = 0,\n",
    "    AERONAUTICAL = 1,\n",
    "    MARINE       = 2\n",
    "  } type;             //  12 B\n",
    "\n",
    "  char name[128];     // 128 B\n",
    "  int  mileage;       //   4 B\n",
    "\n",
    "  struct {\n",
    "    int cylinders;\n",
    "    int horsepower;\n",
    "    int hours_smoh;\n",
    "  } engine;           //  12 B\n",
    "\n",
    "  union {\n",
    "    char vin[17];\n",
    "    char tail_number[8];\n",
    "    char hull_id[12];\n",
    "  } vehicle_id;       //  17 B\n",
    "} gremlin, cayman, cessna180, montauk;\n",
    "\n",
    "cayman.type = AUTOMOTIVE;\n",
    "if (cayman.type == AUTOMOTIVE) {\n",
    "  printf(\"this is a car\");\n",
    "}\n",
    "\n",
    "cayman.engine.cylinders = 6;\n",
    "cayman.mileage          = 1240;\n",
    "\n",
    "strcpy(vehicle_id.vin, \"123456\");\n",
    "printf(\"%s\\n\", vehicle_id.vin);             // 123456\n",
    "vehicle_id.tail_number = \"F-BOZQ\";\n",
    "printf(\"%s\\n\", vehicle_id.vin);             // F-BOZQ\n",
    "printf(\"Size: %lu\\n\", sizeof(vehicle_id));  // 17\n",
    "```"
   ]
  },
  {
   "cell_type": "markdown",
   "metadata": {},
   "source": [
    "```c\n",
    "typedef enum {\n",
    "  AUTOMOTIVE   = 0;\n",
    "  AERONAUTICAL = 1;\n",
    "  MARINE       = 2;\n",
    "} VEHICLE_TYPE;\n",
    "\n",
    "typedef struct {\n",
    "  int cylinders;\n",
    "  int horsepower;\n",
    "  int hours_smoh;\n",
    "} ENGINE_INFO;\n",
    "\n",
    "typedef union {\n",
    "  char vin[17];\n",
    "  char tail_number[8];\n",
    "  char hull_id[12];\n",
    "} VEHICLE_IDENT;\n",
    "\n",
    "typedef struct {\n",
    "  char          name[128];\n",
    "  int           mileage;\n",
    "  VEHICLE_TYPE  type;\n",
    "  ENGINE_INFO   engine;\n",
    "  VEHICLE_IDENT vehicle_id;\n",
    "} VEHICLE;\n",
    "\n",
    "VEHICLE gremlin, cayman, cessna180, montauk;\n",
    "\n",
    "VEHICLE *vehicle = &cayman;\n",
    "strcpy(vehicle->name, \"2013 Porsche Cayman S\");\n",
    "vehicle->engine.cylinders = 6;\n",
    "\n",
    "printf(\n",
    "  \"*** Vehicle Information ***\\n\"\n",
    "  \"Name         : %s\\n\"\n",
    "  \"Mileage      : %u\\n\"\n",
    "  \"Vehicle Type : %s\\n\"\n",
    "  \"Cylinders    : %u\\n\"\n",
    "  \"Horsepower   : %u hp\\n\"\n",
    "  \"SMOH         : %u hours\\n\"\n",
    "  \"VIN          : %s\\n\",\n",
    "  vehicle->name,\n",
    "  vehicle->mileage,\n",
    "  (vehicle->type == AUTOMOTIVE) ? \"car\" :\n",
    "      (vehicle->type == AERONAUTICAL) ? \"airplane\" : boat,\n",
    "  vehicle->engine.cylinders,\n",
    "  vehicle->engine.horsepower,\n",
    "  vehicle->engine.hours_smoh,\n",
    "  (vehicle->type == AUTOMOTIVE) ? vehicle->vehicle_id.vin :\n",
    "      (vehicle->type == AERONAUTICAL) ? vehicle->vehicle_id.tail_number : vehicle->vehicle_id.hull_id;\n",
    ");\n",
    "```"
   ]
  },
  {
   "cell_type": "markdown",
   "metadata": {},
   "source": [
    "---"
   ]
  },
  {
   "cell_type": "markdown",
   "metadata": {},
   "source": [
    "### bit fields"
   ]
  },
  {
   "cell_type": "markdown",
   "metadata": {},
   "source": [
    "```c\n",
    "struct {\n",
    "  unsigned int width;  // 4 B\n",
    "  unsigned int height; // 4 B\n",
    "} status;\n",
    "```"
   ]
  },
  {
   "cell_type": "markdown",
   "metadata": {},
   "source": [
    "---\n",
    "---\n",
    "---"
   ]
  },
  {
   "cell_type": "markdown",
   "metadata": {},
   "source": [
    "## Arrays"
   ]
  },
  {
   "cell_type": "markdown",
   "metadata": {},
   "source": [
    "```c\n",
    "int arr[100]; // declaration - the compiler allocates 100 ints worth of storage in the stack initialized with garbage data\n",
    "\n",
    "// an array does not know its own size, so the following is better\n",
    "int SIZE = 100;\n",
    "int arr[SIZE];\n",
    "\n",
    "// arrays with fewer values than size are initialized with 0\n",
    "int arr2[10] = { [0 ... 2] = 1 }; // 1 1 1 0 0 0 0 0 0 0\n",
    "arr2[3]  = 1;                     // 1 1 1 1 0 0 0 0 0 0\n",
    "arr2[10] = 1;                     // overflow!\n",
    "```"
   ]
  },
  {
   "cell_type": "markdown",
   "metadata": {},
   "source": [
    "Array names can be used as pointers to the first element of the array.\n",
    "\n",
    "```c\n",
    "/*    array_and_pointer.c\n",
    " */\n",
    "\n",
    "#include <stdio.h>\n",
    "\n",
    "int main (void) {\n",
    "  const int SIZE = 6;\n",
    "  int a[SIZE] = { [0 ... 5] = 42 };\n",
    "\n",
    "  for (int i = 0; i < SIZE; i++) {\n",
    "    printf(\"a[%d] = %d, addr %p\", i, *(a + i), a + i); printf(\"\\n\");\n",
    "  }\n",
    "\n",
    "  int *p = a;\n",
    "\n",
    "  for (int i = 0; i < SIZE; i++) {\n",
    "    printf(\"p[%d] = %d, addr %p\", i, *(p + i), p + i); printf(\"\\n\");\n",
    "  }\n",
    "\n",
    "  p++;\n",
    "  for (int i = 0; i < SIZE; i++) { // overflow!\n",
    "    printf(\"p[%d] = %d, addr %p\", i, *(p + i), p + i); printf(\"\\n\");\n",
    "  }\n",
    "\n",
    "  return 0;\n",
    "}\n",
    "```"
   ]
  },
  {
   "cell_type": "markdown",
   "metadata": {},
   "source": [
    "An array is a contiguous block of memory.\n",
    "\n",
    "Arrays are zero-indexed.\n",
    "\n",
    "Arrays are declared with notation `type name[size]` or declared + initialized with notation `type name[size] = {value0, value1, ..., value(n - 1)}`. If fewer values are provided than what is indicated in the size of the array, the remaining values are initialized with the value `0`.\n",
    "\n",
    "An array of six integers requires $6 \\times 4 = 24$ bytes of memory.\n",
    "\n",
    "Arrays have no methods and do not know their own length (and there is no bounds checking).\n",
    "* `sizeof(array)` is not reliable and only works in some situations"
   ]
  },
  {
   "cell_type": "markdown",
   "metadata": {},
   "source": [
    "```c\n",
    "int scores[100];\n",
    "\n",
    "// allocates 100 \"ints worth\" of memory where each array element contains garbage data initially\n",
    "int n = 100;\n",
    "int scores[n]; // C99 allows the array size to be an expression\n",
    "```"
   ]
  },
  {
   "cell_type": "markdown",
   "metadata": {},
   "source": [
    "```c\n",
    "int x[6] = {34, 11, -129, 49, 708, -11};\n",
    "x[7] = 45; // legal, but will cause a memory fault\n",
    "```"
   ]
  },
  {
   "cell_type": "markdown",
   "metadata": {},
   "source": [
    "### Arrays are passed by reference by default"
   ]
  },
  {
   "cell_type": "markdown",
   "metadata": {},
   "source": [
    "```c\n",
    "void min_max (int array[], int len, int *min, int *max) {\n",
    "  // find the index of the largest value and assign it to max_i\n",
    "  // find the index of the smallest value and assign it to min_i\n",
    "  *max = array[max_i];\n",
    "  *min = array[min_i];\n",
    "}\n",
    "\n",
    "int main (void) {\n",
    "  int x[100];\n",
    "  int largest, smallest;\n",
    "  // some code that populates the array x\n",
    "  min_max(x, 100, &smallest, &largest);\n",
    "  printf(\"smallest = %d, largest = %d\\n\", smallest, largest);\n",
    "}\n",
    "```"
   ]
  },
  {
   "cell_type": "markdown",
   "metadata": {},
   "source": [
    "---"
   ]
  },
  {
   "cell_type": "markdown",
   "metadata": {},
   "source": [
    "## Pointers"
   ]
  },
  {
   "cell_type": "markdown",
   "metadata": {},
   "source": [
    "```c\n",
    "#include <stdio.h>\n",
    "\n",
    "int main (void) {\n",
    "  int x  = 42; // variable definition\n",
    "  int *p;      // pointer  declaration\n",
    "  int *q = 43; // pointer  definition\n",
    "  int *r;\n",
    "\n",
    "  p = &x;     // assign address of x to pointer variable p\n",
    "\n",
    "  printf(\" x is %d\\n\",  x); // 42\n",
    "  printf(\"&x is %p\\n\", &x); // address of x\n",
    "  printf(\" p is %p\\n\",  p); // address of x\n",
    "\n",
    "  *p = 43;                  // dereference: *p is just x\n",
    "  printf(\" x is %d\\n\",  x); // 43\n",
    "\n",
    "  r = p;                    // pointer assignment: r points to x just like p\n",
    "  printf(\" r is %p\\n\",  r); // address of x\n",
    "\n",
    "  return 0;\n",
    "}\n",
    "```"
   ]
  },
  {
   "cell_type": "markdown",
   "metadata": {},
   "source": [
    "Pass by reference in C via pointers\n",
    "\n",
    "```c\n",
    "void min_max (int arr[], int len, int *min, int *max) {\n",
    "  //                              ^^^^^^^^  ^^^^^^^^ pass by reference\n",
    "\n",
    "  // min_i = the index of the smallest value of arr\n",
    "  // max_i = the index of the largest  value of arr\n",
    "  *min = arr[min_i]\n",
    "  *max = arr[max_i]\n",
    "}\n",
    "\n",
    "int main (void) {\n",
    "  int x[100];\n",
    "  int min, max;\n",
    "\n",
    "  // populate arr\n",
    "\n",
    "  min_max(x, 100, &min, &max);\n",
    "  //              ^^^^  ^^^^ pass by reference\n",
    "\n",
    "  printf(\"min = %d, max = %d\", min, max); printf(\"\\n\");\n",
    "}\n",
    "```"
   ]
  },
  {
   "cell_type": "markdown",
   "metadata": {},
   "source": [
    "Pointers (and dynamically-allocated memory) can be returned from a function. Local addresses cannot be returned.\n",
    "\n",
    "```c\n",
    "int *max (int *a, int *b) {\n",
    "  if (*a > *b) return a;\n",
    "  else         return b;\n",
    "  //  ^^   ^^            comparing values of variables pointed to by a and b\n",
    "  //           ^^^^^^^^  returning the address of the variable that contains max value\n",
    "}\n",
    "\n",
    "int main (void) {\n",
    "  int x = 5;\n",
    "  int y = 6;\n",
    "  printf(\"max of %d and %d is %d\", x, y, *max(&x, &y)); printf(\"\\n\");\n",
    "}\n",
    "```\n",
    "\n",
    "```c\n",
    "int *foo (void) {\n",
    "  int x = 5;\n",
    "  return &x; // WRONG!!!\n",
    "}\n",
    "```"
   ]
  },
  {
   "cell_type": "markdown",
   "metadata": {},
   "source": [
    "```c\n",
    "/* boxarrow.c */\n",
    "\n",
    "#include <stdio.h> /* printf */\n",
    "\n",
    "int main (int argc, char** argv) {\n",
    "  int x      = 1;\n",
    "  int arr[3] = {2, 3, 4};\n",
    "  int* p     = &arr[1];\n",
    "\n",
    "  printf(\"&x: %p; x: %d\\n\", &x, x);\n",
    "  printf(\"&arr[0]: %p; arr[0]: %d\\n\", &arr[0], arr[0]);\n",
    "  printf(\"&arr[2]: %p; arr[2]: %d\\n\", &arr[2], arr[2]);\n",
    "  printf(\"&p: %p; p: %p; *p: %d\\n\", &p, p, *p);\n",
    "\n",
    "  return 0;\n",
    "}\n",
    "```\n",
    "```txt\n",
    "the stack grows downward\n",
    "\n",
    "address             | name   | value (this col represents main's stack frame)\n",
    "--------------------|--------|------\n",
    "&x      (0xbfff2dc) | x      | 1\n",
    "&arr[2] (0xbfff2d8) | arr[2] | 4\n",
    "&arr[1] (0xbfff2d4) | arr[1] | 3\n",
    "&arr[0] (0xbfff2d0) | arr[0] | 2\n",
    "&p      (0xbfff2cc) | p      | &arr[1] (0xbfff2d4)\n",
    "```\n",
    "```bash\n",
    "$ gcc -g boxarrow.c -o boxarrow\n",
    "\n",
    "$ ./boxarrow\n",
    "&x: 0x7fce62361c; x: 1\n",
    "&arr[0]: 0x7fce623610; arr[0]: 2\n",
    "&arr[2]: 0x7fce623618; arr[2]: 4\n",
    "&p: 0x7fce623608; p: 0x7fce623614; *p: 3\n",
    "```"
   ]
  },
  {
   "cell_type": "markdown",
   "metadata": {},
   "source": [
    "```c\n",
    "/* boxarrow2.c */\n",
    "\n",
    "int main (int argc, char** argv) {\n",
    "  int x      = 1;\n",
    "  int arr[3] = {2, 3, 4};\n",
    "  int* p     = &arr[1];\n",
    "  int** dp   = &p;\n",
    "\n",
    "  **dp += 1 /* arr[1] = 4  */\n",
    "  p    += 1 /* p = &arr[2] */\n",
    "  **dp += 1 /* arr[2] = 5  */\n",
    "\n",
    "  return 0;\n",
    "}\n",
    "```\n",
    "```txt\n",
    "address             | name   | value (this col represents main's stack frame)\n",
    "--------------------|--------|------\n",
    "&x      (0xbfff2dc) | x      | 1\n",
    "&arr[2] (0xbfff2d8) | arr[2] | 4 --[ **dp += 1 ]--> 5\n",
    "&arr[1] (0xbfff2d4) | arr[1] | 3 --[ **dp += 1 ]--> 4\n",
    "&arr[0] (0xbfff2d0) | arr[0] | 2\n",
    "&p      (0xbfff2cc) | p      | &arr[1] (0xbfff2d4) --[ p += 1 ]--> &arr[2] (0xbfff2d8)\n",
    "&dp     (0xbfff2c8) | dp     | &p      (0xbfff2cc)\n",
    "```\n",
    "```"
   ]
  },
  {
   "cell_type": "markdown",
   "metadata": {},
   "source": [
    "---"
   ]
  },
  {
   "cell_type": "markdown",
   "metadata": {},
   "source": [
    "```c\n",
    "/* doublepointer.c */\n",
    "\n",
    "#include <stdio.h> /* printf */\n",
    "\n",
    "int main (int argc, char** argv) {\n",
    "  char hi[6] = {'h', 'e', 'l', 'l', 'o', '\\0'};\n",
    "\n",
    "  char* p;\n",
    "  char** dp;\n",
    "\n",
    "  p  = &hi[0];\n",
    "  dp = &p;\n",
    "\n",
    "  printf(\"%c %c\\n\", *p, **dp);      /* 'h' */\n",
    "  printf(\"%p %p %p\\n\", p, *dp, hi); /* &hi[0] */\n",
    "  p += 1;                           /* p = &hi[1] */\n",
    "  printf(\"%c %c\\n\", *p, **dp);      /* 'e' */\n",
    "  printf(\"%p %p %p\\n\", p, *dp, hi); /* &hi[1], &hi[1], &hi[0] */\n",
    "  *dp += 2;                         /* p = &hi[3] */\n",
    "  printf(\"%c %c\\n\", *p, **dp);      /* 'l' */\n",
    "  printf(\"%p %p %p\\n\", p, *dp, hi); /* &hi[3], &hi[3], &hi[0] */\n",
    "\n",
    "  return 0;\n",
    "}\n",
    "```\n",
    "```txt\n",
    "Why is the stack not growing down on the Raspberry Pi?\n",
    "\n",
    "address                         | name  | value (this col represents main's stack frame)\n",
    "--------------------------------|-------|------\n",
    "&dp    (0x7ffffff208)           | dp    | &p\n",
    "&hi[5] (0x7ffffff205)           | hi[5] | '\\0'\n",
    "&hi[4] (0x7ffffff204)           | hi[4] | 'o'\n",
    "&hi[3] (0x7ffffff203)           | hi[3] | 'l'    <-- *(p + 3)\n",
    "&hi[2] (0x7ffffff202)           | hi[2] | 'l'\n",
    "&hi[1] (0x7ffffff201) <-- p + 1 | hi[1] | 'e'    <-- *(p + 1)\n",
    "&hi[0] (0x7ffffff200)           | hi[0] | 'h'    <-- *p, **dp\n",
    "&p     (0x7ffffff1f8)           | p     | &hi[0] <-- *dp\n",
    "```\n",
    "```bash\n",
    "$ gcc -g doublepointer.c -o doublepointer\n",
    "\n",
    "$ ./doublepointer \n",
    "h h\n",
    "0x7fd2eab8e0 0x7fd2eab8e0 0x7fd2eab8e0\n",
    "e e\n",
    "0x7fd2eab8e1 0x7fd2eab8e1 0x7fd2eab8e0\n",
    "l l\n",
    "0x7fd2eab8e3 0x7fd2eab8e3 0x7fd2eab8e0\n",
    "```"
   ]
  },
  {
   "cell_type": "markdown",
   "metadata": {},
   "source": [
    "---"
   ]
  },
  {
   "cell_type": "markdown",
   "metadata": {},
   "source": [
    "```c\n",
    "/* pointer_arithmetic.c */\n",
    "\n",
    "#include <stdio.h> /* printf */\n",
    "\n",
    "int main (int argc, char** argv) {\n",
    "  int arr[3]     = {1, 2, 3};\n",
    "  int* int_ptr   = &arr[0];\n",
    "  char* char_ptr = (char *)int_ptr; /* &arr[0] */\n",
    "\n",
    "  printf(\" int_ptr: %p;  *int_ptr: %d\\n\", int_ptr, *int_ptr);   /* &arr[0], 1                       */\n",
    "  int_ptr += 1;                                                 /* int_ptr = &arr[1]                */\n",
    "  printf(\" int_ptr: %p;  *int_ptr: %d\\n\", int_ptr, *int_ptr);   /* &arr[1], 2                       */\n",
    "  int_ptr += 2;                                                 /* int_ptr = &arr[3] does not exist */\n",
    "  printf(\" int_ptr: %p;  *int_ptr: %d\\n\", int_ptr, *int_ptr);   /* ???                              */\n",
    "\n",
    "  printf(\"char_ptr: %p; *char_ptr: %d\\n\", char_ptr, *char_ptr); /* &arr[0], 1                       */\n",
    "  char_ptr += 1;\n",
    "  printf(\"char_ptr: %p; *char_ptr: %d\\n\", char_ptr, *char_ptr); /* &arr[0], 0                       */\n",
    "  char_ptr += 2;\n",
    "  printf(\"char_ptr: %p; *char_ptr: %d\\n\", char_ptr, *char_ptr); /* &arr[0], 0                       */\n",
    "\n",
    "  return 0;\n",
    "}\n",
    "```\n",
    "```bash\n",
    " int_ptr: 0x7ff0810150;  *int_ptr: 1\n",
    " int_ptr: 0x7ff0810154;  *int_ptr: 2\n",
    " int_ptr: 0x7ff081015c;  *int_ptr: 127\n",
    "char_ptr: 0x7ff0810150; *char_ptr: 1\n",
    "char_ptr: 0x7ff0810151; *char_ptr: 0\n",
    "char_ptr: 0x7ff0810153; *char_ptr: 0\n",
    "```"
   ]
  },
  {
   "cell_type": "markdown",
   "metadata": {},
   "source": [
    "---"
   ]
  },
  {
   "cell_type": "markdown",
   "metadata": {},
   "source": [
    "## Multidimensional arrays"
   ]
  },
  {
   "cell_type": "markdown",
   "metadata": {},
   "source": [
    "C arrays are stored in row-major order."
   ]
  },
  {
   "cell_type": "markdown",
   "metadata": {},
   "source": [
    "```c\n",
    "int x[][4]  =\n",
    "int x[2][4] = {{1, 2, 3, 4},\n",
    "               {5, 6, 7, 8}}; // row-major order -> 1 2 3 4 5 6 7 8\n",
    "//    ^     2 row (width)\n",
    "//       ^  4 col (height)\n",
    "\n",
    "int x[][2][4]  =\n",
    "int x[3][2][4] = {{{ 1,  2,  3,  4}, { 5,  6,  7,  8}},\n",
    "                  {{ 9, 10, 11, 12}, {13, 14, 15, 16}},\n",
    "                  {{17, 18, 19, 20}, {21, 22, 23, 24}}};\n",
    "//    ^        3 row (width)\n",
    "//       ^     2 col (height)\n",
    "//          ^  4     (depth, first elem in front as col rep)\n",
    "//\n",
    "// row-major order -> 1 2 3 4 5 6 7 8 9 10 11 12 13 14 15 16 17 18 19 20 21 22 23 24\n",
    "//\n",
    "// if you were just looking at the front of this 3d array, it would look like this\n",
    "//     x[3][2] = {{{ 1}, { 5}},\n",
    "//                {{ 9}, {13}},\n",
    "//                {{17}, {21}}}\n",
    "//\n",
    "// there are 3 \"2d\" arrays stacked on top of one another, each of which has 2 row and 4 col\n",
    "```"
   ]
  },
  {
   "cell_type": "markdown",
   "metadata": {},
   "source": [
    "### Arrays of strings"
   ]
  },
  {
   "cell_type": "markdown",
   "metadata": {},
   "source": [
    "```c\n",
    "char planets[][8] = {\n",
    "  \"Mercury\",  // M e r c  u  r  y \\0\n",
    "  \"Venus\",    // V e n u  s \\0 \\0 \\0\n",
    "  \"Earth\",    // E a r t  h \\0 \\0 \\0\n",
    "  \"Mars\",     // M a r s \\0 \\0 \\0 \\0\n",
    "  \"Jupiter\",  // J u p i  t  e  r \\0\n",
    "  \"Saturn\",   // S a t u  r  n \\0 \\0\n",
    "  \"Uranus\",   // U r a n  u  s \\0 \\0\n",
    "  \"Neptune\",  // N e p t  u  n  e \\0\n",
    "};\n",
    "\n",
    "// array of pointers where each pointer points to a string\n",
    "char *planets[] = {\n",
    "  \"Mercury\",  // -> M e r c  u  r  y \\0\n",
    "  \"Venus\",    // -> V e n u  s \\0\n",
    "  \"Earth\",    // -> E a r t  h \\0\n",
    "  \"Mars\",     // -> M a r s \\0\n",
    "  \"Jupiter\",  // -> J u p i  t  e  r \\0\n",
    "  \"Saturn\",   // -> S a t u  r  n \\0\n",
    "  \"Uranus\",   // -> U r a n  u  s \\0\n",
    "  \"Neptune\",  // -> N e p t  u  n  e \\0\n",
    "};\n",
    "\n",
    "for (int i = 0; i < 8; ++i) {\n",
    "  if (planets[i][0] == 'M')\n",
    "    printf(\"%s\\n\", planets[i]);\n",
    "}\n",
    "\n",
    "for (char **p = planets; p < planets + 8; ++p) {\n",
    "  if (**p == 'M')\n",
    "    printf(\"%s\\n\", *p)\n",
    "}\n",
    "```"
   ]
  },
  {
   "cell_type": "markdown",
   "metadata": {},
   "source": [
    "```c\n",
    "#include <stdio.h>\n",
    "\n",
    "int main (void) {\n",
    "  int   i =  5;\n",
    "  int *ip = &i;\n",
    "\n",
    "  printf(\"%d\\n\", i);     // 5\n",
    "  printf(\"%p\\n\", ip);    // memory address\n",
    "  *ip = 42;              //     re-assign the value of variable i via dereference\n",
    "  printf(\"%d\\n\", i);     // 42\n",
    "  printf(\"%d\\n\", *ip);   // 42\n",
    "}\n",
    "```\n",
    "```bash\n",
    "gcc -g -Wall pointer.c -o myprog\n",
    "```\n",
    "```\n",
    "\n",
    "```"
   ]
  },
  {
   "cell_type": "markdown",
   "metadata": {},
   "source": [
    "### Pointers and pass by value and pass by reference"
   ]
  },
  {
   "cell_type": "markdown",
   "metadata": {},
   "source": [
    "#### Example"
   ]
  },
  {
   "cell_type": "markdown",
   "metadata": {},
   "source": [
    "C passes by value: values passed into a function are copied and local modifications to those copies are not reflected in the original values.\n",
    "\n",
    "However, pointers let you pass by reference.\n",
    "\n",
    "```c\n",
    "void add_pbv (int c) {\n",
    "  c += 10;\n",
    "  printf(\"pbv c: %d\\n\", c);   // 11\n",
    "}\n",
    "\n",
    "void add_pbr (int *c) {       //     this parameter is a pointer\n",
    "  *c += 10;                   //     which is dereferenced\n",
    "  printf(\"pbr *c: %d\\n\", *c); // 11\n",
    "}\n",
    "\n",
    "int main (void) {\n",
    "  int x = 1;\n",
    "  printf(\"x: %d\\n\", x);   // 1\n",
    "  add_pbv(x);             //     pass a copy of the value of the variable, the value of the variable remains unchanged\n",
    "  printf(\"x: %d\\n\", x);   // 1, not 11\n",
    "  add_pbr(&x);            //     pass the memory location of the variable\n",
    "  printf(\"x: %d\\n\", x);   // 11\n",
    "  return 0;\n",
    "}\n",
    "```"
   ]
  },
  {
   "cell_type": "markdown",
   "metadata": {},
   "source": [
    "#### Example"
   ]
  },
  {
   "cell_type": "markdown",
   "metadata": {},
   "source": [
    "PASS BY VALUE\n",
    "\n",
    "```c\n",
    "#include <stdio.h>\n",
    "\n",
    "void swap (int a, int b) {\n",
    "  int tmp =   a;\n",
    "        a =   b;\n",
    "        b = tmp;\n",
    "}\n",
    "\n",
    "int main (void) {\n",
    "  int a = 42, b = -7;\n",
    "  swap(a, b);\n",
    "  printf(\"a: %d, b: %d\\n\", a, b);\n",
    "  return 0;\n",
    "}\n",
    "```\n",
    "```bash\n",
    "./pointer_pass_by_value\n",
    "a: 42, b: -7\n",
    "```"
   ]
  },
  {
   "cell_type": "markdown",
   "metadata": {},
   "source": [
    "PASS BY REFERENCE VIA POINTERS\n",
    "\n",
    "```c\n",
    "#include <stdio.h>\n",
    "\n",
    "void swap (int *a, int *b) {\n",
    "  int tmp =  *a;\n",
    "       *a =  *b;\n",
    "       *b = tmp;\n",
    "}\n",
    "\n",
    "int main (void) {\n",
    "  int a = 42, b = -7;\n",
    "  swap(&a, &b);\n",
    "  printf(\"a: %d, b: %d\\n\", a, b);\n",
    "  return 0;\n",
    "}\n",
    "```\n",
    "```bash\n",
    "./pointer_pass_by_reference\n",
    "a: -7, b: 42\n",
    "```"
   ]
  },
  {
   "cell_type": "markdown",
   "metadata": {},
   "source": [
    "### Back to pointers"
   ]
  },
  {
   "cell_type": "markdown",
   "metadata": {},
   "source": [
    "We use notation `type *name;` to declare (or `type *name = &address;` to declare and initialize) a pointer variable.\n",
    "\n",
    "We subsequently use dereference notation `*name` to refer to the value of the variable pointed to by the pointer variable.\n",
    "\n",
    "We can use notation `name` to refer to the memory address stored in the pointer variable.\n",
    "\n",
    "EXAMPLE\n",
    "\n",
    "```c\n",
    "int  x = 42; // regular variable declaration + initialization   memory address 0x1\n",
    "int *p;      // pointer variable declaration                    memory address 0x2\n",
    "     p = &x; // pointer variable               initialization\n",
    "\n",
    "printf(\"%d\",  x);   //  42\n",
    "printf(\"%p\", &x);   // 0x1\n",
    "printf(\"%d\", *p);   //  42\n",
    "printf(\"%p\",  p);   // 0x1\n",
    "```"
   ]
  },
  {
   "cell_type": "markdown",
   "metadata": {},
   "source": [
    "### Pointers as return values"
   ]
  },
  {
   "cell_type": "markdown",
   "metadata": {},
   "source": [
    "We can return a pointer that was passed (or dynamically allocated memory???).\n",
    "\n",
    "```c\n",
    "int *max (int *a, int *b) {\n",
    "  if (*a > *b) return a;\n",
    "               return b;\n",
    "}\n",
    "\n",
    "int main (void) {\n",
    "  int x = 5, y = 6;\n",
    "  printf(\"max of %d and %d is %d\\n\", x, y, *max(&x, &y));\n",
    "}\n",
    "```"
   ]
  },
  {
   "cell_type": "markdown",
   "metadata": {},
   "source": [
    "We cannot return the address of a local variable.\n",
    "\n",
    "```c\n",
    "int *foo (void) {\n",
    "  int x = 5;\n",
    "  return &x;\n",
    "}\n",
    "\n",
    "int main (void) {\n",
    "  printf(\"%d\\n\", *foo());\n",
    "}\n",
    "```"
   ]
  },
  {
   "cell_type": "markdown",
   "metadata": {},
   "source": [
    "Adding integer `i` to pointer `p` yields a pointer to the element `i` places after the element that `p` points to.\n",
    "\n",
    "```c\n",
    "int a[6] = { [0 ... 5] = 42 };   // `42 42 42 42 42 42`\n",
    "int *p = &a[2];                  //        |\n",
    "int *q = p + 3;                  //                 |\n",
    "++p;                             //           |\n",
    "```"
   ]
  },
  {
   "cell_type": "markdown",
   "metadata": {},
   "source": [
    "The name of an array can be used as a pointer.\n",
    "\n",
    "`a` is the same as `&a[0]`\n",
    "\n",
    "`a[0]` is the same as `*(&a[0] + 0)` or `*(a + 0)` or `*a`\n",
    "\n",
    "`a[1]` is the same as `*(&a[0] + 1)` or `*(a + 1)`"
   ]
  },
  {
   "cell_type": "markdown",
   "metadata": {},
   "source": [
    "`a[2] == 2[a]`\n",
    "* `a[2]` is the same as `&a[0] + 2`\n",
    "* `2[a]` is the same as `2 + &a[0]`\n",
    "\n",
    "```c\n",
    "int a[5] = {0, 1, 2, 3, 4};\n",
    "printf(\"%d %d\\n\", a[2], 2[a]);\n",
    "```"
   ]
  },
  {
   "cell_type": "markdown",
   "metadata": {},
   "source": [
    "### Pointer Arithmetic"
   ]
  },
  {
   "cell_type": "markdown",
   "metadata": {},
   "source": [
    "The pointer is incremented based on the size of a single array element.\n",
    "* Pointer arithmetic is only applicable to pointers that point to arrays. Otherwise, it is undefined.\n",
    "* Pointers can only be subtracted if they point to the same array. Otherwise, it is undefined."
   ]
  },
  {
   "cell_type": "markdown",
   "metadata": {},
   "source": [
    "#### Example"
   ]
  },
  {
   "cell_type": "markdown",
   "metadata": {},
   "source": [
    "```c\n",
    "# include <stdio.h>\n",
    "\n",
    "int main (void) {\n",
    "  int foo[10];\n",
    "  int *p = foo;   // point to the 0-th element\n",
    "  printf(\"%p\\n\", p);\n",
    "  ++p;            // point to the next element\n",
    "  printf(\"%p\\n\", p);\n",
    "\n",
    "  char bar[10];\n",
    "  char *q = bar;  // point to the 0-th element\n",
    "  printf(\"%p\\n\", q);\n",
    "  ++q;            // point to the next element\n",
    "  printf(\"%p\\n\", q);\n",
    "}\n",
    "```\n",
    "```bash\n",
    "gcc -Wall foo.c -o foo && ./foo\n",
    "0x16fdc2620\n",
    "0x16fdc2624\n",
    "0x16fdc2616\n",
    "0x16fdc2617\n",
    "```"
   ]
  },
  {
   "cell_type": "markdown",
   "metadata": {},
   "source": [
    "#### Example"
   ]
  },
  {
   "cell_type": "markdown",
   "metadata": {},
   "source": [
    "```c\n",
    "#include <stdio.h>\n",
    "\n",
    "int main (void) {\n",
    "  int foo[10] = { [0 ... 9] = 42 };\n",
    "  int sum1 = 0, sum2 = 0, sum3 = 0, sum4 = 0;\n",
    "\n",
    "  for (int i = 0; i < 10; ++i)\n",
    "    sum1 += foo[i];\n",
    "\n",
    "  for (int *p = &foo[0]; p < &foo[10]; ++p)\n",
    "    sum2 += *p;\n",
    "\n",
    "  for (int *p = foo; p < foo + 10; ++p)\n",
    "    sum3 += *p;\n",
    "\n",
    "  int *p = foo;\n",
    "  for (int i = 0; i < 10; ++i)\n",
    "    sum4 += p[i]   // &foo[0] + i\n",
    "\n",
    "  printf(\"%d %d %d %d\\n\", sum1, sum2, sum3, sum4);\n",
    "}\n",
    "```\n",
    "```bash\n",
    "gcc -Wall sum.c -o sum && ./sum\n",
    "420 420 420 420\n",
    "```"
   ]
  },
  {
   "cell_type": "markdown",
   "metadata": {},
   "source": [
    "---\n",
    "---\n",
    "---"
   ]
  },
  {
   "cell_type": "markdown",
   "metadata": {},
   "source": [
    "## Strings"
   ]
  },
  {
   "cell_type": "markdown",
   "metadata": {},
   "source": [
    "There are no strings proper, only character arrays which are terminated by the null character `\\0`.\n",
    "\n",
    "C \"strings\" are not objects and have no methods, but `string.h` has helpful utilities.\n",
    "\n",
    "```c\n",
    "char *x = \"hello\\n\";   // x --> h e l l o \\n \\0\n",
    "```"
   ]
  },
  {
   "cell_type": "markdown",
   "metadata": {},
   "source": [
    "```c\n",
    "#include <string.h>\n",
    "```\n",
    "\n",
    "The C string API is error-prone so study secure C coding guidelines.\n",
    "\n",
    "https://wiki.sei.cmu.edu/confluence/display/c/SEI+CERT+C+Coding+Standard"
   ]
  },
  {
   "cell_type": "markdown",
   "metadata": {},
   "source": [
    "ASCII\n",
    "\n",
    "```c\n",
    "int a = 65;\n",
    "printf(\"%d is ASCII \\'%c\\'\\n\", a, (char)a);\n",
    "```"
   ]
  },
  {
   "cell_type": "markdown",
   "metadata": {},
   "source": [
    "String literals are stored in read-only memory. A string literal-initialized array's contents are copied from the read-only memory and so it writable. A string-literal initialized pointer points directly to the read-only memory and so is read-only.\n",
    "\n",
    "```c\n",
    "// define a string   h e l l o \\n \\0\n",
    "char *str1   = \"hello\\n\"; printf(\"%s\", str1); // read-only\n",
    "char str2[]  = \"hello\\n\"; printf(\"%s\", str2); // initialized by the compiler\n",
    "char str[7]  = \"hello\\n\"; printf(\"%s\", str);  // initialized by the compiler?\n",
    "\n",
    "str1[4] = 'j' // segmentation fault!\n",
    "str2[4] = 'j' // this is okay\n",
    "```"
   ]
  },
  {
   "cell_type": "markdown",
   "metadata": {},
   "source": [
    "Determining the size of a string\n",
    "\n",
    "`sizeof` returns the size of the declaration\n",
    "\n",
    "`strlen` returns the number of characters less the null terminator\n",
    "\n",
    "```c\n",
    "char *str1    = \"text for example\";\n",
    "char str2[17] = \"text for example\";\n",
    "\n",
    "printf(\"str1 has size %lu\\n\", sizoef(str1)); //  8, the size in bytes of a pointer on a 64-bit machine\n",
    "printf(\"str2 has size %lu\\n\", sizoef(str2)); // 17\n",
    "printf(\"str1 has leng %lu\\n\", strlen(str1)); // 16\n",
    "printf(\"str2 has leng %lu\\n\", strlen(str2)); // 16\n",
    "```"
   ]
  },
  {
   "cell_type": "markdown",
   "metadata": {},
   "source": [
    "```c\n",
    "char *str1   = \"abc\";                 // read-only\n",
    "char str2[]  = \"abc\";                 // compiler determines size 4\n",
    "char str3[4] = \"abc\";\n",
    "char str4[4] = \"abcd\";                // incorrect! should be size 5, including the null terminator\n",
    "char str5[]  = {'a', 'b', 'c', '\\0'}; // compiler determines size 4\n",
    "char str6[3] = {'a', 'b', 'c'};       // incorrect! should be size 4, including the null terminator\n",
    "char str7[9] = {'a', 'b', 'c'};       // a b c \\0 \\0 \\0 \\0 \\0 \\0 \\0\n",
    "\n",
    "printf(\"str1 = %s\\n\", str1);\n",
    "printf(\"str2 = %s\\n\", str2);\n",
    "printf(\"str3 = %s\\n\", str3);\n",
    "printf(\"str4 = %s\\n\", str4); // continues to read memory past 3 characters until a null terminator is encountered\n",
    "printf(\"str5 = %s\\n\", str5);\n",
    "printf(\"str6 = %s\\n\", str6); // continues to read memory past 3 characters until a null terminator is encountered\n",
    "printf(\"str7 = %s\\n\", str7);\n",
    "```"
   ]
  },
  {
   "cell_type": "markdown",
   "metadata": {},
   "source": [
    "#### String copy"
   ]
  },
  {
   "cell_type": "markdown",
   "metadata": {},
   "source": [
    "`strcpy(dst, src);` copies src to dst up to and including the null terminator\n",
    "\n",
    "```c\n",
    "char *str1 = \"abcde\"; // 6 characters, including the null terminator\n",
    "char str2[6];\n",
    "char str3[3];\n",
    "int i = 0xff; //            0000 0000 0000 0000 0000 0000 1111 1111\n",
    "              // d -> 68 -> 0100 0100\n",
    "              // e -> 69 ->           0100 0101\n",
    "              //                                0000 0000\n",
    "              //     101                                  0110 0101   ???\n",
    "\n",
    "printf(\"str1 = %s\\n\", str1); // abcde\n",
    "strcpy(str2, str1);\n",
    "printf(\"str2 = %s\\n\", str2); // abcde\n",
    "printf(   \"i = %d\\n\",    i); // 255\n",
    "strcpy(str3, str1);          // overflow! d e \\0 overwrote other data\n",
    "printf(\"str3 = %s\\n\", str3); // abcde\n",
    "printf(   \"i = %d\\n\",    i); // 101\n",
    "```\n",
    "\n",
    "`strncpy(dst, src, n)`\n",
    "\n",
    "```c\n",
    "char *str1 = \"abcde\";\n",
    "char str2[6];\n",
    "char str3[3];\n",
    "int i = 0xff;\n",
    "\n",
    "printf(\"str1 = %s\\n\", str1); // abcde\n",
    "strcpy(str2, str1);\n",
    "printf(\"str2 = %s\\n\", str2); // abcde\n",
    "printf(   \"i = %d\\n\",    i); // 255\n",
    "strncpy(str3, str1, 2);\n",
    "str3[2] = 0x0;\n",
    "printf(\"str3 = %s\\n\", str3); // ab\n",
    "printf(   \"i = %d\\n\",    i); // 255\n",
    "```"
   ]
  },
  {
   "cell_type": "markdown",
   "metadata": {},
   "source": [
    "#### String concatenation"
   ]
  },
  {
   "cell_type": "markdown",
   "metadata": {},
   "source": [
    "`strcat(dst, src)` appends src to dst, `strncat(dst, src, n)` appends at most n bytes of src to dst\n",
    "\n",
    "```c\n",
    "char str1[20] = \"abcde\";\n",
    "char *str2    = \"efghi\";\n",
    "char str3[20] = \"abcde\";\n",
    "\n",
    "strcat(str1, str2);\n",
    "printf(\"str1 is [%s]\\n\", str1); // abcdeefghi\n",
    "strncat(str3, str2, 20);\n",
    "printf(\"str3 is [%s]\\n\", str3); // abcdeefghi\n",
    "```"
   ]
  },
  {
   "cell_type": "markdown",
   "metadata": {},
   "source": [
    "```c\n",
    "char* strncat (char* dst, const char* src, size_t n)\n",
    "/*             ^^^^^^^^^                             a pointer to the destination buffer, which should be large enough to contain\n",
    " *                                                       len(dst_string) + len(src_string) + '\\0'\n",
    " *                        ^^^^^^^^^^^^^^^            a pointer to the string to concatenate\n",
    " *                                         ^^^^^^^^  the maximum number of characters to concatenate\n",
    " *\n",
    " * strncat\n",
    " * -------\n",
    " * appends up to `n` characters of the string pointed to by `src` to the string pointed to by `dst`\n",
    " *\n",
    " * returns\n",
    " * -------\n",
    " * a pointer to the destination buffer\n",
    " */\n",
    "```"
   ]
  },
  {
   "cell_type": "markdown",
   "metadata": {},
   "source": [
    "#### String comparison"
   ]
  },
  {
   "cell_type": "markdown",
   "metadata": {},
   "source": [
    "Strings are compared to see whether they match, or whether one is lexicographically larger or smaller than the other\n",
    "\n",
    "`strcmp(s1, s2)` compares the strings, `strncmp(s1, s2, n)` compares the first n bytes of the strings\n",
    "\n",
    "```c\n",
    "return neg_int if s1 < s2\n",
    "return       0 if s1 = s2\n",
    "return pos_int if s1 > s2\n",
    "```"
   ]
  },
  {
   "cell_type": "markdown",
   "metadata": {},
   "source": [
    "#### String search"
   ]
  },
  {
   "cell_type": "markdown",
   "metadata": {},
   "source": [
    "`strchr(str, char_to_find)` scans the string from the front to the back for a character\n",
    "\n",
    "`strrchr(str, char_to_find)` scans the string from the back to the front for a character\n",
    "\n",
    "`strstr(str, str_to_find)` scans the string from the fromnt to the back for a string (case sensitive)\n",
    "\n",
    "`strcasestr(str, str_to_find)` scans the string from the fromnt to the back for a string (case insensitive)\n",
    "\n",
    "return a pointer to the address of the found item, or the null pointer\n",
    "\n",
    "```c\n",
    "char *str = \"xxxx0xxxFindmexxxx0xxxxFindme2xxxxx\";                                           // xxxx0xxxFindmexxxx0xxxxFindme2xxxxx\n",
    "printf(\"Looking for character  %s,     strchr : %s\\n\",      '0',     strchr(str,      '0')); //     0xxxFindmexxxx0xxxxFindme2xxxxx\n",
    "printf(\"Looking for character  %s,    strrchr : %s\\n\",      '0',    strrchr(str,      '0')); //                   0xxxxFindme2xxxxx\n",
    "printf(\"Looking for character %5s,     strstr : %s\\n\", \"Findme\",     strstr(str, \"Findme\")); //         Findmexxxx0xxxxFindme2xxxxx\n",
    "printf(\"Looking for character %5s,     strstr : %s\\n\", \"FINDME\",     strstr(str, \"FINDME\")); // null\n",
    "printf(\"Looking for character %5s, strcasestr : %s\\n\", \"FINDME\", strcasestr(str, \"FINDME\")); //         Findmexxxx0xxxxFindme2xxxxx\n",
    "```"
   ]
  },
  {
   "cell_type": "markdown",
   "metadata": {},
   "source": [
    "#### String parse"
   ]
  },
  {
   "cell_type": "markdown",
   "metadata": {},
   "source": [
    "`sscanf(str, \"format\", &args)` (arguments must be passed by reference using `&`)\n",
    "\n",
    "```c\n",
    "char *str = \"1 3.14 a bob\";\n",
    "char c;\n",
    "char s[20];\n",
    "float f;\n",
    "int ret, i;\n",
    "\n",
    "ret = sscanf(str, \"\", &i, &f, &c, s);\n",
    "printf(\"Scanned %d fields int [%d], float [%f], char [%c], string [%s]\\n\", ret, i, f, c, s);\n",
    "```"
   ]
  },
  {
   "cell_type": "markdown",
   "metadata": {},
   "source": [
    "```c\n",
    "#include <stdio.h>\n",
    "#include <string.h>\n",
    "#include <stdint.h>\n",
    "\n",
    "// print an array of chars\n",
    "void print_char_array (const char *arr, size_t size) {\n",
    "  //                   ^^^^^^^^^^^^^^^   pointer to an array of constant chars\n",
    "  for (int i = 0; i < size; ++i)\n",
    "    printf(\"%c \", arr[i]);\n",
    "  printf(\"\\n\");\n",
    "}\n",
    "\n",
    "// copy elems from array `src` to array `dst` via function `memcpy`\n",
    "void copy_whole_array (char *src, char *dst, int copy_length) {\n",
    "  memcpy(dst, src, copy_length);\n",
    "}\n",
    "\n",
    "// copy the string from string `src_str` to string `dst_str` via function `memcpy` and include the null terminator\n",
    "void copy_whole_string (char *src_str, char *dst_str, int copy_length) {\n",
    "  memcpy(dst_str, src_str, copy_length);\n",
    "}\n",
    "\n",
    "// copy length elems from idx 0 in array `src_partial` to array `dst_partial` via function `memcpy`\n",
    "void copy_partial_array (char *src_partial, char *dst_partial, int copy_length) {\n",
    "  memcpy(dst_partial, src_partial, copy_length);\n",
    "}\n",
    "\n",
    "// copy length elems from idx 3 in array `src_partial` to array `dst_partial` via function `memcpy`\n",
    "void copy_partial_array_1 (char *src_partial, char *dst_partial, int copy_length) {\n",
    "  memcpy(dst_partial, src_partial + 3, copy_length);\n",
    "}\n",
    "\n",
    "// copy elems from array `src1` to array `dst` following the pattern of copying 2 elems and skipping 1 elem and repeating until the required size is achieved via function `memcpy`\n",
    "void copy_multiple_3_indices (char *src1, char *dst, int src_length, int required_size) {\n",
    "  int copied_elements = 0;\n",
    "  int start_idx = 0;\n",
    "  int dst_idx = 0;\n",
    "\n",
    "  while (copied_elements < required_size) {\n",
    "    for (int i = 0; i < src_length; ) {\n",
    "      int elements_to_copy = 2;\n",
    "      memcpy(dst + dst_idx, src1 + start_idx, 2);\n",
    "      dst_idx += elements_to_copy;\n",
    "      start_idx += 3;\n",
    "      copied_elements += elements_to_copy;\n",
    "      i += 3;\n",
    "    }\n",
    "  }\n",
    "}\n",
    "\n",
    "int main () {\n",
    "  // 1 - array of chars\n",
    "  char src[] = {'1', '2', '3', '4', '5'};\n",
    "  char dst[5];\n",
    "  copy_whole_array(src, dst, 5);\n",
    "  printf(\"EXERCISE 1 - array of chars\\n\");\n",
    "  printf(\"src: \");\n",
    "  print_char_array(src, 5);\n",
    "  printf(\"dst: \");\n",
    "  print_char_array(dst, 5);\n",
    "  printf(\"\\n\");\n",
    "\n",
    "  // 2 - string\n",
    "  char src_str[] = \"Hello, world!\";\n",
    "  char dst_str[20];\n",
    "  copy_whole_string(src_str, dst_str, 14);\n",
    "  printf(\"EXERCISE 2 - string\\n\");\n",
    "  printf(\"src: %s\\n\", src_str);\n",
    "  printf(\"dst: %s\\n\", dst_str);\n",
    "  printf(\"\\n\");\n",
    "\n",
    "  // 3 - portion of an array\n",
    "  char src_partial[] = {'a', 'b', 'c', 'd', 'e', 'i', 'o', 'u'};\n",
    "  char dst_partial[4];\n",
    "  copy_partial_array(src_partial, dst_partial, 3);\n",
    "  printf(\"EXERCISE 3 - portion of an array\\n\");\n",
    "  printf(\"src: \");\n",
    "  print_char_array(src_partial, 8);\n",
    "  printf(\"dst: \");\n",
    "  print_char_array(dst_partial, 3);\n",
    "  printf(\"\\n\");\n",
    "\n",
    "  // 4 - portion of an array\n",
    "  char dst_partial2[4];\n",
    "  copy_partial_array_1(src_partial, dst_partial2, 4);\n",
    "  printf(\"EXERCISE 4 - portion of an array\\n\");\n",
    "  printf(\"src: \");\n",
    "  print_char_array(src_partial, 8);\n",
    "  printf(\"dst: \");\n",
    "  print_char_array(dst_partial2, 4);\n",
    "  printf(\"\\n\");\n",
    "\n",
    "  // 5 - portion of an array\n",
    "  char src1[15] = {'a', 'b', 'c', 'd', 'e', 'f', 'g', 'h', 'i', 'j', 'k', 'l', 'm', 'n', 'o'};\n",
    "  char dst[6];\n",
    "  int required_size = 6;\n",
    "  copy_multiple_3_indices(src1, dst, 15, required_size);\n",
    "  printf(\"EXERCISE 5 - portion of an array\\n\");\n",
    "  printf(\"src: \");\n",
    "  print_char_array(src1, 15);\n",
    "  printf(\"dst: \");\n",
    "  print_char_array(dst, 6);\n",
    "  printf(\"\\n\");\n",
    "\n",
    "  return 0;\n",
    "}\n",
    "```"
   ]
  },
  {
   "cell_type": "markdown",
   "metadata": {},
   "source": [
    "---\n",
    "---\n",
    "---"
   ]
  },
  {
   "cell_type": "markdown",
   "metadata": {},
   "source": [
    "## Bit Operations"
   ]
  },
  {
   "cell_type": "markdown",
   "metadata": {},
   "source": [
    "A logic left shift or logic right shift shifts bits and fills vacant positions with zeros.\n",
    "\n",
    "```c\n",
    "0xFFFF1234\n",
    "0xFFF12340    4-bit logic left  shift\n",
    "0x0FFFF123    4-bit logic right shift\n",
    "```\n",
    "\n",
    "An artihmetic shift preserves the sign bit. C99 requires that a signed integer be represented in two's complement or one's complement and so the MSB (most significant bit) of the integer is the sign bit."
   ]
  },
  {
   "cell_type": "markdown",
   "metadata": {},
   "source": [
    "```c\n",
    "0xFFFF1234\n",
    "0xFFF12340    4-bit arithmetic left  shift (fill in with 0s)\n",
    "0xFFFFF123    4-bit arithmetic right shift (fill in with 1s to preserve the sign bit)\n",
    "\n",
    "0x12345678\n",
    "0x23456780    4-bit arithmetic left  shift (fill in with 0s)\n",
    "0x01234567    4-bit arithmetic right shift (fill in with 0s to preserve the sign bit)\n",
    "```"
   ]
  },
  {
   "cell_type": "markdown",
   "metadata": {},
   "source": [
    "Bitwise left shifts are zero-padded whether they are arithmetic or logical, signed or unsigned."
   ]
  },
  {
   "cell_type": "markdown",
   "metadata": {},
   "source": [
    "```c\n",
    "/* convert a byte to a binary string\n",
    " *\n",
    " * for each bit, if the bit is set then assign '1' to the appropriate position in the string; otherwise, '0'\n",
    " */\n",
    "void byte_to_binary (uint8_t byte, char *buffer) {\n",
    "  for (int i = 7; i >= 0; i--)\n",
    "    buffer[7 - i] = (byte & (1 << i)) ? '1' : '0';\n",
    "  buffer[8] = '\\0';\n",
    "}\n",
    "```"
   ]
  },
  {
   "cell_type": "markdown",
   "metadata": {},
   "source": [
    "```c\n",
    "/* extract n adjacent bits\n",
    " */\n",
    "\n",
    "uint32_t mask (uint32_t b, uint32_t n) {\n",
    "/*             ^^^^^^^^^^                start     bit\n",
    " *                         ^^^^^^^^^^    number of bits\n",
    " *\n",
    " * construct a bit mask with number of bits equal to the return type\n",
    " * mask(4, 4) creates the following 32-bit bit mask: 0000 0000 0000 0000 0000 0000 1111 0000\n",
    " */\n",
    "\n",
    "  return ((1 << n) - 1) << b;\n",
    "}\n",
    "```"
   ]
  },
  {
   "cell_type": "code",
   "execution_count": null,
   "metadata": {},
   "outputs": [
    {
     "name": "stdout",
     "output_type": "stream",
     "text": [
      "131071\n",
      "63488\n"
     ]
    }
   ],
   "source": [
    "print(int('11111111111111111', 2))\n",
    "print(int('01111100000000000', 2))"
   ]
  },
  {
   "cell_type": "markdown",
   "metadata": {},
   "source": [
    "---"
   ]
  },
  {
   "cell_type": "markdown",
   "metadata": {},
   "source": [
    "Bit $\\in \\{ 0, 1\\}$\n",
    "\n",
    "Nibble = 4 bits\n",
    "\n",
    "Byte = 8 bits\n",
    "\n",
    "Word = 4 bytes = 32 bits"
   ]
  },
  {
   "cell_type": "markdown",
   "metadata": {},
   "source": [
    "---"
   ]
  },
  {
   "cell_type": "markdown",
   "metadata": {},
   "source": [
    "### Number Systems"
   ]
  },
  {
   "cell_type": "markdown",
   "metadata": {},
   "source": [
    "**Base b** (base b to decimal)"
   ]
  },
  {
   "cell_type": "markdown",
   "metadata": {},
   "source": [
    "$\\texttt{decimal\\_value} = \\sum_{i = 0}^{k} b^i \\times p_i \\quad \\text{st} \\quad p_i \\in \\{ 0, \\dotsc, b - 1 \\}$\n",
    "\n",
    "$\n",
    "\\underset{p_2}{}\\underset{p_1}{}\\underset{p_0}{} =\n",
    "\\underbrace{b^2 \\times p_2}_{} + \\underbrace{b^1 \\times p_1}_{} + \\underbrace{b^0 \\times p_0}_{} =\n",
    "$"
   ]
  },
  {
   "cell_type": "markdown",
   "metadata": {},
   "source": [
    "**Base 10**"
   ]
  },
  {
   "cell_type": "markdown",
   "metadata": {},
   "source": [
    "$\\texttt{decimal\\_value} = \\sum_{i = 0}^{k} 10^i \\times p_i \\quad \\text{st} \\quad p_i \\in \\{ 0, \\dotsc, 9 \\}$\n",
    "\n",
    "$\n",
    "\\underset{p_2}{1}\\underset{p_1}{2}\\underset{p_0}{3} =\n",
    "\\underbrace{10^2 \\times 1}_{100} + \\underbrace{10^1 \\times 2}_{20} + \\underbrace{10^0 \\times 3}_{3} =\n",
    "123\n",
    "$"
   ]
  },
  {
   "cell_type": "markdown",
   "metadata": {},
   "source": [
    "**Base 2** (binary to decimal)"
   ]
  },
  {
   "cell_type": "markdown",
   "metadata": {},
   "source": [
    "$\\texttt{decimal\\_value} = \\sum_{i = 0}^{k} 2^i \\times p_i \\quad \\text{st} \\quad p_i \\in \\{ 0, 1 \\}$\n",
    "\n",
    "$\n",
    "\\underset{p_3}{1}\\underset{p_2}{0}\\underset{p_1}{1}\\underset{p_0}{1} =\n",
    "\\underbrace{2^3 \\times 1}_{8} + \\underbrace{2^2 \\times 0}_{0} + \\underbrace{2^1 \\times 1}_{2} + \\underbrace{2^0 \\times 1}_{1} =\n",
    "11\n",
    "$"
   ]
  },
  {
   "cell_type": "markdown",
   "metadata": {},
   "source": [
    "**Base 16** (hexadecimal to decimal)"
   ]
  },
  {
   "cell_type": "markdown",
   "metadata": {},
   "source": [
    "$\\texttt{decimal\\_value} = \\sum_{i = 0}^{k} 16^i \\times p_i \\quad \\text{st} \\quad p_i \\in\n",
    "\\{ 0, \\dotsc, 9, \\underset{10}{\\texttt{a}}, \\underset{11}{\\texttt{b}}, \\underset{12}{\\texttt{c}}, \\underset{13}{\\texttt{d}}, \\underset{14}{\\texttt{e}}, \\underset{15}{\\texttt{f}} \\}$\n",
    "\n",
    "$\n",
    "\\underset{p_2}{\\texttt{a}}\\underset{p_1}{\\texttt{f}}\\underset{p_0}{\\texttt{c}} =\n",
    "\\underbrace{16^2 \\times \\texttt{a}}_{2560} + \\underbrace{16^1 \\times \\texttt{f}}_{240} + \\underbrace{16^0 \\times \\texttt{c}}_{12} =\n",
    "2812\n",
    "$"
   ]
  },
  {
   "cell_type": "markdown",
   "metadata": {},
   "source": [
    "**Decimal to base b**"
   ]
  },
  {
   "cell_type": "markdown",
   "metadata": {},
   "source": [
    "```c\n",
    "p = [] // contains hexadecimal digit values from least-sig to most-sig\n",
    "i = 0\n",
    "while dec > 0\n",
    "    p[i] = dec % b // get the next hexadecimal digit value, from least-sig to most-sig\n",
    "    dec /= b\n",
    "    i++\n",
    "\n",
    "// print the number by iterating through the digit array backwards since most-sig digits come first\n",
    "```"
   ]
  },
  {
   "cell_type": "markdown",
   "metadata": {},
   "source": [
    "**Decimal to binary**"
   ]
  },
  {
   "cell_type": "markdown",
   "metadata": {},
   "source": [
    "```c\n",
    "p = [] // contains hexadecimal digit values from least-sig to most-sig\n",
    "i = 0\n",
    "while dec > 0\n",
    "    p[i] = dec % 2 // get the next hexadecimal digit value, from least-sig to most-sig\n",
    "    dec /= 2\n",
    "    i++\n",
    "\n",
    "// print the number by iterating through the digit array backwards since most-sig digits come first\n",
    "```"
   ]
  },
  {
   "cell_type": "markdown",
   "metadata": {},
   "source": [
    "**Decimal to hexadecimal**"
   ]
  },
  {
   "cell_type": "markdown",
   "metadata": {},
   "source": [
    "```c\n",
    "p = [] // contains hexadecimal digit values from least-sig to most-sig\n",
    "i = 0\n",
    "while dec > 0\n",
    "    p[i] = dec % 16 // get the next hexadecimal digit value, from least-sig to most-sig\n",
    "    dec /= 16\n",
    "    i++\n",
    "\n",
    "// print the number by iterating through the digit array backwards since most-sig digits come first\n",
    "```"
   ]
  },
  {
   "cell_type": "markdown",
   "metadata": {},
   "source": [
    "**Binary and hexadecimal**"
   ]
  },
  {
   "cell_type": "markdown",
   "metadata": {},
   "source": [
    "$\n",
    "\\texttt{deadbeef} =\n",
    "\\underbrace{1101}_{\\texttt{d}} \\,\n",
    "\\underbrace{1110}_{\\texttt{e}} \\,\n",
    "\\underbrace{1010}_{\\texttt{a}} \\,\n",
    "\\underbrace{1101}_{\\texttt{d}} \\,\n",
    "\\underbrace{1011}_{\\texttt{b}} \\,\n",
    "\\underbrace{1110}_{\\texttt{e}} \\,\n",
    "\\underbrace{1110}_{\\texttt{e}} \\,\n",
    "\\underbrace{1111}_{\\texttt{f}}\n",
    "$"
   ]
  },
  {
   "cell_type": "markdown",
   "metadata": {},
   "source": [
    "---"
   ]
  },
  {
   "cell_type": "markdown",
   "metadata": {},
   "source": [
    "```c\n",
    "// dec_to_bin.c\n",
    "\n",
    "#include <stdio.h>\n",
    "\n",
    "void dec_to_bin (int dec) {\n",
    "  int bin[32];\n",
    "  \n",
    "  int idx = 0;\n",
    "  while (dec != 0) {      // `dec > 0` could also work here\n",
    "    bin[idx++] = dec % 2; // from rightmost (least-sig) binary digit to leftmost (most-sig) binary digit\n",
    "    dec /= 2;             // when `dec` equals 1, 1/2 evaluates to 0 and the loop exits\n",
    "  }\n",
    "\n",
    "  if (idx == 0) printf(\"0\");           // when the while loop never iterated because the condition was false on its first pass (meaning `dec == 0`)\n",
    "  for (int i = idx - 1; i >= 0; i--) { // most-sig binary digits were computed last, and are printed first here\n",
    "    printf(\"%d\", bin[i]);\n",
    "  }\n",
    "  printf(\"\\n\");\n",
    "}\n",
    "\n",
    "int main () {\n",
    "  int dec;\n",
    "\n",
    "  printf(\"Enter a decimal integer: \");\n",
    "  scanf(\"%d\", &dec);\n",
    "\n",
    "  dec_to_bin(dec);\n",
    "\n",
    "  return 0;\n",
    "}\n",
    "```"
   ]
  },
  {
   "cell_type": "markdown",
   "metadata": {},
   "source": [
    "---"
   ]
  },
  {
   "cell_type": "markdown",
   "metadata": {},
   "source": [
    "### Endianness"
   ]
  },
  {
   "cell_type": "markdown",
   "metadata": {},
   "source": [
    "How are bytes within a multi-byte word ordered in memory?\n",
    "\n",
    "***Big endianness*** means the least-significant byte has the highest memory address.\n",
    "\n",
    "***Little endianness*** means that the least significant byte has the lowest memory address."
   ]
  },
  {
   "cell_type": "markdown",
   "metadata": {},
   "source": [
    "EXAMPLE\n",
    "\n",
    "```c\n",
    "int x = 305419896;\n",
    "\n",
    "printf(\"%p\\n\", &x); // 0x0\n",
    "```\n",
    "\n",
    "$ 305,419,896 = 12345678_{16}$\n",
    "\n",
    "Big endian representation in memory: memory addresses are read from the lower address $\\texttt{0x0}$ to higher ones\n",
    "\n",
    "$\n",
    "\\overset{\\texttt{0x0}}{12} \\quad\n",
    "\\overset{\\texttt{0x1}}{34} \\quad\n",
    "\\overset{\\texttt{0x2}}{56} \\quad\n",
    "\\overset{\\texttt{0x3}}{78}\n",
    "$\n",
    "\n",
    "Little endian representation in memory: memory addresses are read from the lower address $\\texttt{0x0}$ to higher ones\n",
    "\n",
    "$\n",
    "\\overset{\\texttt{0x0}}{78} \\quad\n",
    "\\overset{\\texttt{0x1}}{56} \\quad\n",
    "\\overset{\\texttt{0x2}}{34} \\quad\n",
    "\\overset{\\texttt{0x3}}{12}\n",
    "$"
   ]
  },
  {
   "cell_type": "markdown",
   "metadata": {},
   "source": [
    "```c\n",
    "#include <stdio.h>\n",
    "#include <stdint.h> // for type `uint8_t`\n",
    "\n",
    "void show_bytes (uint8_t *start, int len) {\n",
    "  for (int i = 0; i < len; ++i)\n",
    "    printf(\"%p\\t0x%.2x\\n\", start + i, start[i]);\n",
    "  printf(\"\\n\");\n",
    "}\n",
    "\n",
    "int main (void) {\n",
    "  int a = 305419896;\n",
    "  printf(\"a lives at address %p\\n\\n\", &a);\n",
    "  show_bytes((uint8_t *)&a, sizeof(int));\n",
    "}\n",
    "```"
   ]
  },
  {
   "cell_type": "markdown",
   "metadata": {},
   "source": [
    "### Bitwise Operations"
   ]
  },
  {
   "cell_type": "markdown",
   "metadata": {},
   "source": [
    "```c\n",
    "&   // and\n",
    "|   // or\n",
    "~   // not\n",
    "^   // exclusive or\n",
    "```"
   ]
  },
  {
   "cell_type": "markdown",
   "metadata": {},
   "source": [
    "```c\n",
    "~0x00\n",
    "```\n",
    "\n",
    "$\n",
    "\\begin{aligned}\n",
    "     00_{16} &= 0000 \\quad 0000 \\\\\n",
    "\\sim 00_{16} &= 1111 \\quad 1111 = \\text{FF} \\\\\n",
    "\\end  {aligned}\n",
    "$"
   ]
  },
  {
   "cell_type": "markdown",
   "metadata": {},
   "source": [
    "```c\n",
    "~0x41\n",
    "```\n",
    "\n",
    "$\n",
    "\\begin{aligned}\n",
    "     41_{16} &= 0100 \\quad 0001 \\\\\n",
    "\\sim 41_{16} &= 1011 \\quad 1110 = \\text{BE} \\\\\n",
    "\\end  {aligned}\n",
    "$"
   ]
  },
  {
   "cell_type": "markdown",
   "metadata": {},
   "source": [
    "```c\n",
    "0x69 & 0x55\n",
    "```\n",
    "\n",
    "$\n",
    "\\begin{aligned}\n",
    "               69_{16} &= 0110 \\quad 1001 \\\\\n",
    "               55_{16} &= 0101 \\quad 0101 \\\\\n",
    "69_{16} \\,\\&\\, 55_{16} &= 0100 \\quad 0001 = 41_{16} \\\\\n",
    "\\end  {aligned}\n",
    "$"
   ]
  },
  {
   "cell_type": "markdown",
   "metadata": {},
   "source": [
    "```c\n",
    "0x69 | 0x55\n",
    "```\n",
    "\n",
    "$\n",
    "\\begin{aligned}\n",
    "              69_{16} &= 0110 \\quad 1001 \\\\\n",
    "              55_{16} &= 0101 \\quad 0101 \\\\\n",
    "69_{16} \\,|\\, 55_{16} &= 0111 \\quad 1101 = \\text{7D} \\\\\n",
    "\\end  {aligned}\n",
    "$"
   ]
  },
  {
   "cell_type": "markdown",
   "metadata": {},
   "source": [
    "### Bit shift"
   ]
  },
  {
   "cell_type": "markdown",
   "metadata": {},
   "source": [
    "```c\n",
    "uint8_t x = 172    // 10101100\n",
    "x = x << 3         //    01100 000\n",
    "printf(\"%d\\n\", x); // 96\n",
    "```"
   ]
  },
  {
   "cell_type": "markdown",
   "metadata": {},
   "source": [
    "---"
   ]
  },
  {
   "cell_type": "markdown",
   "metadata": {},
   "source": [
    "## Representing mathematical sets"
   ]
  },
  {
   "cell_type": "markdown",
   "metadata": {},
   "source": [
    "A width-$w$ bitstring represents subsets of the set $A = \\{ 0, \\dotsc, w - 1 \\}$; namely, $a_j = 1 \\implies j \\in A$.\n",
    "\n",
    "For example, the bitstring\n",
    "\n",
    "$\n",
    "\\underset{7}{0}\n",
    "\\underset{6}{1}\n",
    "\\underset{5}{0}\n",
    "\\underset{4}{1}\n",
    "\\underset{3}{0}\n",
    "\\underset{2}{1}\n",
    "\\underset{1}{0}\n",
    "\\underset{0}{1}\n",
    "$\n",
    "\n",
    "represents the set\n",
    "\n",
    "$\\{ 6, 4, 2, 0 \\}$\n",
    "\n",
    "and the bitstring\n",
    "\n",
    "$\n",
    "\\underset{7}{0}\n",
    "\\underset{6}{1}\n",
    "\\underset{5}{1}\n",
    "\\underset{4}{0}\n",
    "\\underset{3}{1}\n",
    "\\underset{2}{0}\n",
    "\\underset{1}{0}\n",
    "\\underset{0}{1}\n",
    "$\n",
    "\n",
    "represents the set\n",
    "\n",
    "$\\{ 6, 5, 3, 0 \\}$"
   ]
  },
  {
   "cell_type": "markdown",
   "metadata": {},
   "source": [
    "Then the bitwise operators can be interpreted as the set operations.\n",
    "\n",
    "```c\n",
    "&   // intersection\n",
    "|   // union\n",
    "~   // complement\n",
    "^   // symmetric difference\n",
    "```"
   ]
  },
  {
   "cell_type": "markdown",
   "metadata": {},
   "source": [
    "$\n",
    "\\begin{aligned}\n",
    "\\underset{7}{0}\n",
    "\\underset{6}{1}\n",
    "\\underset{5}{0}\n",
    "\\underset{4}{1}\n",
    "\\underset{3}{0}\n",
    "\\underset{2}{1}\n",
    "\\underset{1}{0}\n",
    "\\underset{0}{1}\n",
    "\\,\\&\\,\n",
    "\\underset{7}{0}\n",
    "\\underset{6}{1}\n",
    "\\underset{5}{1}\n",
    "\\underset{4}{0}\n",
    "\\underset{3}{1}\n",
    "\\underset{2}{0}\n",
    "\\underset{1}{0}\n",
    "\\underset{0}{1}\n",
    "&=\n",
    "\\underset{7}{0}\n",
    "\\underset{6}{1}\n",
    "\\underset{5}{0}\n",
    "\\underset{4}{0}\n",
    "\\underset{3}{0}\n",
    "\\underset{2}{0}\n",
    "\\underset{1}{0}\n",
    "\\underset{0}{1}\n",
    "\\end  {aligned}\n",
    "$\n",
    "\n",
    "$\\{ 6, 4, 2, 0 \\} \\cap \\{ 6, 5, 3, 0 \\} = \\{ 6, 0 \\}$"
   ]
  },
  {
   "cell_type": "markdown",
   "metadata": {},
   "source": [
    "$\n",
    "\\begin{aligned}\n",
    "\\underset{7}{0}\n",
    "\\underset{6}{1}\n",
    "\\underset{5}{0}\n",
    "\\underset{4}{1}\n",
    "\\underset{3}{0}\n",
    "\\underset{2}{1}\n",
    "\\underset{1}{0}\n",
    "\\underset{0}{1}\n",
    "\\,|\\,\n",
    "\\underset{7}{0}\n",
    "\\underset{6}{1}\n",
    "\\underset{5}{1}\n",
    "\\underset{4}{0}\n",
    "\\underset{3}{1}\n",
    "\\underset{2}{0}\n",
    "\\underset{1}{0}\n",
    "\\underset{0}{1}\n",
    "&=\n",
    "\\underset{7}{0}\n",
    "\\underset{6}{1}\n",
    "\\underset{5}{1}\n",
    "\\underset{4}{1}\n",
    "\\underset{3}{1}\n",
    "\\underset{2}{1}\n",
    "\\underset{1}{0}\n",
    "\\underset{0}{1}\n",
    "\\end  {aligned}\n",
    "$\n",
    "\n",
    "$\\{ 6, 4, 2, 0 \\} \\cup \\{ 6, 5, 3, 0 \\} = \\{ 6, 5, 4, 3, 2, 0 \\}$"
   ]
  },
  {
   "cell_type": "markdown",
   "metadata": {},
   "source": [
    "$\n",
    "\\begin{aligned}\n",
    "\\sim\n",
    "\\underset{7}{0}\n",
    "\\underset{6}{1}\n",
    "\\underset{5}{0}\n",
    "\\underset{4}{1}\n",
    "\\underset{3}{0}\n",
    "\\underset{2}{1}\n",
    "\\underset{1}{0}\n",
    "\\underset{0}{1}\n",
    "&=\n",
    "\\underset{7}{1}\n",
    "\\underset{6}{0}\n",
    "\\underset{5}{1}\n",
    "\\underset{4}{0}\n",
    "\\underset{3}{1}\n",
    "\\underset{2}{0}\n",
    "\\underset{1}{1}\n",
    "\\underset{0}{0}\n",
    "\\end  {aligned}\n",
    "$\n",
    "\n",
    "$\\{ 6, 4, 2, 0 \\}^\\text{C} = \\{ 7, 5, 3, 1 \\}$"
   ]
  },
  {
   "cell_type": "markdown",
   "metadata": {},
   "source": [
    "$\n",
    "\\begin{aligned}\n",
    "\\underset{7}{0}\n",
    "\\underset{6}{1}\n",
    "\\underset{5}{0}\n",
    "\\underset{4}{1}\n",
    "\\underset{3}{0}\n",
    "\\underset{2}{1}\n",
    "\\underset{1}{0}\n",
    "\\underset{0}{1}\n",
    "\\,\\wedge\\,\n",
    "\\underset{7}{0}\n",
    "\\underset{6}{1}\n",
    "\\underset{5}{1}\n",
    "\\underset{4}{0}\n",
    "\\underset{3}{1}\n",
    "\\underset{2}{0}\n",
    "\\underset{1}{0}\n",
    "\\underset{0}{1}\n",
    "&=\n",
    "\\underset{7}{0}\n",
    "\\underset{6}{0}\n",
    "\\underset{5}{1}\n",
    "\\underset{4}{1}\n",
    "\\underset{3}{1}\n",
    "\\underset{2}{1}\n",
    "\\underset{1}{0}\n",
    "\\underset{0}{0}\n",
    "\\end  {aligned}\n",
    "$\n",
    "\n",
    "$\\{ 6, 4, 2, 0 \\} \\Delta \\{ 6, 5, 3, 0 \\} = \\{ 5, 4, 3, 2 \\}$"
   ]
  },
  {
   "cell_type": "markdown",
   "metadata": {},
   "source": [
    "---"
   ]
  },
  {
   "cell_type": "markdown",
   "metadata": {},
   "source": [
    "```c\n",
    "for (uint8_t n = 10; n >= 0; --n) {\n",
    "  printf(\"do I ever terminate?\\n\");\n",
    "}\n",
    "```\n",
    "\n",
    "Since a `uint8_t` has a value in the range 0-255 it will never become negative but rather when $n$ reaches 0 it will be decremented to 255."
   ]
  },
  {
   "cell_type": "markdown",
   "metadata": {},
   "source": [
    "```c\n",
    "// an int contains a value ranging from -2,147,483,648 to 2,147,483,647\n",
    "// the value of 0xffffffff is the equal to the magnitude of this range\n",
    "// so the following wraps around to the value -1\n",
    "int x = 0xffffffff;\n",
    "printf(\"%d\\n\", x); // -1\n",
    "```\n",
    "\n",
    "$\n",
    "\\underbrace{16^7 \\times \\texttt{f}}_{4,026,531,840} +\n",
    "\\underbrace{16^6 \\times \\texttt{f}}_{251,658,240} +\n",
    "\\underbrace{16^5 \\times \\texttt{f}}_{15,728,640} +\n",
    "\\underbrace{16^4 \\times \\texttt{f}}_{983,040} +\n",
    "\\underbrace{16^3 \\times \\texttt{f}}_{61,440} +\n",
    "\\underbrace{16^2 \\times \\texttt{f}}_{3,840} +\n",
    "\\underbrace{16^1 \\times \\texttt{f}}_{240} +\n",
    "\\underbrace{16^0 \\times \\texttt{f}}_{15} =\n",
    "4,294,967,295 = 2 \\times 2,147,483,647 + 1\n",
    "$"
   ]
  },
  {
   "cell_type": "markdown",
   "metadata": {},
   "source": [
    "---"
   ]
  },
  {
   "cell_type": "markdown",
   "metadata": {},
   "source": [
    "Say you want to place multiple bytes/values into a four-byte word (32-bit int).\n",
    "* value $a$ into the least-significant byte (bits 0-7)\n",
    "* value $b$ into the second byte (bits 8-15)\n",
    "* value $c$ into the third byte (bits 16-23)\n",
    "* value $d$ into the fourth byte (bits 24-31)"
   ]
  },
  {
   "cell_type": "markdown",
   "metadata": {},
   "source": [
    "```c\n",
    "uint32_t pack_bytes (uint32_t a, uint32_t b, uint32_t c, uint32_t d) {\n",
    "  uint32_t ret_val = 0x0, tempa, tempb, tempc, tempd;\n",
    "\n",
    "  tempa =  a & 0xff;        // make sure to get only the least-significant 8 bits\n",
    "  tempb = (b & 0xff) <<  8; // shift the value to the second byte\n",
    "  tempc = (c & 0xff) << 16; // shift the value to the third  byte\n",
    "  tempd = (d & 0xff) << 24; // shift the value to the fourth, most-significant byte\n",
    "  rev_val = tempa | tempb | tempc | tempd;\n",
    "\n",
    "  printf(\"a: 0x%08x\\n\", tempa);\n",
    "  printf(\"b: 0x%08x\\n\", tempb);\n",
    "  printf(\"c: 0x%08x\\n\", tempc);\n",
    "  printf(\"d: 0x%08x\\n\", tempd);\n",
    "}\n",
    "\n",
    "printf(\"Packed bytes: 0x%08x\\n\", pack_bytes(0x111, 0x222, 0x333, 0x444));\n",
    "```"
   ]
  },
  {
   "cell_type": "markdown",
   "metadata": {},
   "source": [
    "---\n",
    "---\n",
    "---"
   ]
  },
  {
   "cell_type": "markdown",
   "metadata": {},
   "source": [
    "## Storage Classes"
   ]
  },
  {
   "cell_type": "markdown",
   "metadata": {},
   "source": [
    "Global\n",
    "* accessible from anywhere within the same file\n",
    "* accessible in other `.c`/`.h` files via keyword `extern`\n",
    "\n",
    "Static\n",
    "* `static global` are variables that are global to the local file only\n",
    "* `static local` are variables that are local to the scope of a function\n",
    "  * unlike automatic variables, preserves changes across invocations\n",
    "* keyword `static` is used to identity variables as local only\n",
    "\n",
    "Global and static variables are initialized before program execution begins with supplied value or are given a default value, often `0`, and changes are preserved until the end of program execution\n",
    "* pointer type gets null pointer\n",
    "* arithmetic type gets positive/unsigned zero\n",
    "* aggregate type, every member is initialized recursively according to these rules\n",
    "* union type, the first named member is initialized recursively according to these rules\n",
    "\n",
    "Auto\n",
    "* are automatically allocated/deallocated variables (local function variables declared on the stack)\n",
    "* given indeterminate default values, which means that the compiler does what it wants (most compilers use whatever value is already in memory)"
   ]
  },
  {
   "cell_type": "markdown",
   "metadata": {},
   "source": [
    "EXAMPLE\n",
    "\n",
    "```c\n",
    "// main.c\n",
    "\n",
    "#include <stdio.h>\n",
    "\n",
    "int x = 42;\n",
    "\n",
    "int triple (void);\n",
    "\n",
    "int main (void) {\n",
    "  printf(\"%d\\n\", x);\n",
    "  printf(\"%d\\n\", triple());\n",
    "}\n",
    "```\n",
    "```c\n",
    "// triple.c\n",
    "\n",
    "extern int x;\n",
    "\n",
    "int triple (void) {\n",
    "  return x * 3;\n",
    "}\n",
    "```\n",
    "```bash\n",
    "gcc -g -Wall main.c triple.c -o myprog && ./myprog\n",
    "42\n",
    "126\n",
    "```"
   ]
  },
  {
   "cell_type": "markdown",
   "metadata": {},
   "source": [
    "EXAMPLE\n",
    "\n",
    "```c\n",
    "// main.c\n",
    "\n",
    "#include <stdio.h>\n",
    "\n",
    "static int x = 42;   // <--\n",
    "\n",
    "int triple (void);\n",
    "\n",
    "int main (void) {\n",
    "  printf(\"%d\\n\", x);\n",
    "  printf(\"%d\\n\", triple());\n",
    "}\n",
    "```\n",
    "```c\n",
    "// triple.c\n",
    "\n",
    "extern int x;\n",
    "\n",
    "int triple (void) {\n",
    "  return x * 3;\n",
    "}\n",
    "```\n",
    "```bash\n",
    "gcc -g -Wall main.c triple.c -o myprog && ./myprog\n",
    "\n",
    "COMPILATION FAILS\n",
    "```"
   ]
  },
  {
   "cell_type": "markdown",
   "metadata": {},
   "source": [
    "EXAMPLE - static local vs automatic\n",
    "\n",
    "```c\n",
    "// foo.c\n",
    "#include <stdio.h>\n",
    "\n",
    "void foo (void) {\n",
    "         int x = 0;\n",
    "  static int y = 0;\n",
    "  x += 1;\n",
    "  y += 1;\n",
    "  printf(\"x=%d y=%d\\n\", x, y);\n",
    "}\n",
    "\n",
    "int main (void) {\n",
    "  foo();\n",
    "  foo();\n",
    "}\n",
    "```\n",
    "```bash\n",
    "gcc -g -Wall foo.c -o foo && ./foo\n",
    "x=1 y=1\n",
    "x=1 y=2\n",
    "```"
   ]
  },
  {
   "cell_type": "markdown",
   "metadata": {},
   "source": [
    "---\n",
    "---\n",
    "---"
   ]
  },
  {
   "cell_type": "markdown",
   "metadata": {},
   "source": [
    "## I/O"
   ]
  },
  {
   "cell_type": "markdown",
   "metadata": {},
   "source": [
    "### Console"
   ]
  },
  {
   "cell_type": "markdown",
   "metadata": {},
   "source": [
    "* `scanf()`\n",
    "* `printf()`\n",
    "\n",
    "library `libc` has portable routines for reading/writing"
   ]
  },
  {
   "cell_type": "markdown",
   "metadata": {},
   "source": [
    "Unix standard streams provided to all programs.\n",
    "\n",
    "```c\n",
    "printf(\"this is printed to standard output\\n\");\n",
    "fprintf(stdout, \"this is printed to standard output as well\\n\");\n",
    "fprintf(stderr, \"this is printed to standard error\\n\");\n",
    "```"
   ]
  },
  {
   "cell_type": "markdown",
   "metadata": {},
   "source": [
    "### File"
   ]
  },
  {
   "cell_type": "markdown",
   "metadata": {},
   "source": [
    "C library has portable routines for reading/writing\n",
    "* `fopen()`\n",
    "* `fread()`\n",
    "* `fwrite()`\n",
    "* `fclose()`\n",
    "* does buffering by default\n",
    "* is blocking by default\n",
    "\n",
    "OS provides system calls (more control over buffering and blocking)\n",
    "* low-level binary read/write\n",
    "  * `read()`\n",
    "  * `write()`\n",
    "  * `open()`\n",
    "  * `close()`"
   ]
  },
  {
   "cell_type": "markdown",
   "metadata": {},
   "source": [
    "---\n",
    "---\n",
    "---"
   ]
  },
  {
   "cell_type": "markdown",
   "metadata": {},
   "source": [
    "## Signals"
   ]
  },
  {
   "cell_type": "markdown",
   "metadata": {},
   "source": [
    "C has no try-catch mechanism to handle exceptions.\n",
    "\n",
    "Errors are returned from functions as integer error codes.\n",
    "\n",
    "\"If you do something bad you'll end up spraying bytes around memory. Hopefully, this causes a segmentation fault and crash.\""
   ]
  },
  {
   "cell_type": "markdown",
   "metadata": {},
   "source": [
    "There are mechanisms for exception handling (or exception-al control flow) at different levels of a computer system.\n",
    "* low-level\n",
    "  * exceptions: aborts, faults, interrupts, traps (implemented using a combination of hardware and OS software)\n",
    "* high-level\n",
    "  * process context switch (implemented by OS software, and hardware timer)\n",
    "  * signals (implemented by OS software)\n",
    "  * non-local jumps: longjmp(), setjmp() (implemented by the C runtime library)"
   ]
  },
  {
   "cell_type": "markdown",
   "metadata": {},
   "source": [
    "**Signal**\n",
    "\n",
    "A signal is a special message sent through the OS to tell a process (or thread) about some command or event. The process execution (or processor's control flow) stops, and signal handler code starts. After the signal handler control flow finishes, the processor control flow can resume where it left off."
   ]
  },
  {
   "cell_type": "markdown",
   "metadata": {},
   "source": [
    "```c\n",
    "SIGHUP       1   // handup                   (POSIX)\n",
    "SIGINT       2   // interrupt                (ANSI)\n",
    "SIGQUIT      3   // quit                     (POSIX)\n",
    "SIGILL       4   // illegal instruction      (ANSI)     error\n",
    "SIGTRAP      5   // trace trap               (POSIX)    error\n",
    "SIGABRT      6   // abort                    (ANSI)\n",
    "SIGIOT       6   // IOT trap                 (BSD 4.2)  error\n",
    "SIGBUS       7   // bus error                (BSD 4.2)  error\n",
    "SIGFPE       8   // floating-point exception (ANSI)     error\n",
    "SIGKILL      9   // unblockable kill         (POSIX)    control process execution\n",
    "SIGUSR1     10   // user-defined signal 1    (POSIX)    sent by another application\n",
    "SIGSEGV     11   // segmentation violation   (ANSI)     error\n",
    "SIGUSR2     12   // user-defined signal 2    (POSIX)    sent by another application\n",
    "SIGTERM     15   // termination              (ANSI)\n",
    "SIGSTKFLT   16   // stack fault\n",
    "SIGCHLD     17   // child status has changed (POSIX)\n",
    "SIGCONT     18   // continue                 (POSIX)    control process execution\n",
    "SIGSTOP     19   // unblockable stop         (POSIX)    control process execution\n",
    "SIGSYS      31   // bad system call\n",
    "```"
   ]
  },
  {
   "cell_type": "markdown",
   "metadata": {},
   "source": [
    "```bash\n",
    "ps -<signal> <PID> # if no signal is provided, default SIGTERM\n",
    "ps -U <username>\n",
    "\n",
    "kill\n",
    "\n",
    "# send a signal to all instances of a particular program (default SIGTERM)\n",
    "killall -<signal> <program_name>\n",
    "```"
   ]
  },
  {
   "cell_type": "markdown",
   "metadata": {},
   "source": [
    "`SIGTERM`\n",
    "* interrupts the program and \"asks\" it to shut down, which it should\n",
    "* sometimes, this does not work (e.g., when the program is in a locked state)\n",
    "* it is often desirable to add a signal handler to handle the SIGTERM so that it can gracefully shutdown the process, cleanup memory, close files, etc.\n",
    "\n",
    "`SIGKILL`\n",
    "* kills the process\n",
    "* can lead to inconsistent state because there is no opportunity to gracefully shutdown the process\n",
    "\n",
    "**Graceful shutdown** refers to the proper and complete sync with secondary storage, disposal of resources, and normal termination."
   ]
  },
  {
   "cell_type": "markdown",
   "metadata": {},
   "source": [
    "```c\n",
    "int raise (int sig)\n",
    "/*\n",
    " *\n",
    " * allow a process to send signals to itself\n",
    " *     suspend itself - SIGSTOP\n",
    " *     kill itself    - SIGKILL\n",
    " *     reset its configuration - SIGHUP\n",
    " *     user-defined            - SIGUSR1\n",
    " */\n",
    "\n",
    "void suicide_signal (void) {\n",
    "  raise(SIGKILL);\n",
    "  return; // this will never be reached\n",
    "}\n",
    "```"
   ]
  },
  {
   "cell_type": "markdown",
   "metadata": {},
   "source": [
    "**Creating a signal handler**\n",
    "\n",
    "Create a signal handler by creating a function of the form\n",
    "\n",
    "```c\n",
    "void signal_hander_function_name (int signal_number)\n",
    "```\n",
    "\n",
    "and passing a function pointer of the form\n",
    "\n",
    "```c\n",
    "sighandler_t signal (int signum, sighandler_t signal_handler_function_name)\n",
    "```\n",
    "\n",
    "to the function. Thereafter, whenever a signal of the type `signal_number` is raised the program is called instead of the default handler.\n",
    "\n",
    "```c\n",
    "void signal_handler (int sig_no) {\n",
    "  printf(\"the signal handler got a [%d]\\n\", sig_no);\n",
    "  return;\n",
    "}\n",
    "\n",
    "signal(SIGHUP, signal_handler);\n",
    "signal(SIGINT, signal_handler);\n",
    "```"
   ]
  },
  {
   "cell_type": "markdown",
   "metadata": {},
   "source": [
    "**Function pointer**\n",
    "\n",
    "A function pointer is a pointer to a function that can be assigned, passed as a parameter, and called.\n",
    "\n",
    "```c\n",
    "   <return> (*<var>)(<params>);\n",
    "/* ^^^^^^^^                     the return type of the function\n",
    " *            ^^^^^             the variable names\n",
    " *                   ^^^^^^^^   comma-separated list of parameter names\n",
    " */\n",
    "```\n",
    "\n",
    "```c\n",
    "int my_func (int i) {\n",
    "  printf(\"Got into function `my_func` with %d\\n\", i);\n",
    "  return 0;\n",
    "}\n",
    "\n",
    "int main (void) {\n",
    "  int (*func)(int);\n",
    "  func = my_func;\n",
    "  func(7);\n",
    "  return 0;\n",
    "}\n",
    "```"
   ]
  },
  {
   "cell_type": "markdown",
   "metadata": {},
   "source": [
    "**sigaction**\n",
    "\n",
    "```c\n",
    "int sigaction (int signum, const struct sigaction *act, struct sigaction *oldact)\n",
    "/*             ^^^^^^^^^^                                                         the signal to be handled\n",
    " *                         ^^^^^^^^^^^^^^^^^^^^^^^^^^^                            a structure that contains information about the new signal handler, NULL means ignore the signal\n",
    " *                                                      ^^^^^^^^^^^^^^^^^^^^^^^^  a pointer to the previously assigned handler as it is assigned in the function call\n",
    " */\n",
    "```\n",
    "\n",
    "The `sigaction()` system call changes the action taken by a process on receipt of a specific signal.\n",
    "\n",
    "```c\n",
    "struct sigaction new_action, old_action;\n",
    "new_action.sa_handler = signal_handler;\n",
    "new_action.sa_flags   = SA_NODEFER | SA_ONSTACK;\n",
    "/*                      ^^^^^^^^^^               don't suspend signals while in the handler\n",
    " *                                   ^^^^^^^^^^  provide an alternate stack for the signal handler\n",
    " *                                               SA_RESETHAND - restore the signal action to the default upon entry to the signal handler\n",
    " */\n",
    "sigaction(SIGINT, &new_action, &old_action);\n",
    "```\n",
    "\n",
    "It is argued that `sigaction` is better than `signal`.\n",
    "* `signal` does not block other signals from arriving while the current handler is executing whereas `sigaction` can block other signals until the current action returns\n",
    "* `signal` resets the signal action back to the default `SIG_DFL` for almost all signals\n",
    "* provides better tuning of signals/controls of process through flags"
   ]
  },
  {
   "cell_type": "markdown",
   "metadata": {},
   "source": [
    "---\n",
    "---\n",
    "---"
   ]
  },
  {
   "cell_type": "markdown",
   "metadata": {},
   "source": [
    "## Cache"
   ]
  },
  {
   "cell_type": "markdown",
   "metadata": {},
   "source": [
    "https://www.baeldung.com/cs/cache-write-policy"
   ]
  },
  {
   "cell_type": "markdown",
   "metadata": {},
   "source": [
    "### Cache Hierarchy"
   ]
  },
  {
   "cell_type": "markdown",
   "metadata": {},
   "source": [
    "The idea of a ***memory hierarchy*** is that the faster, smaller device at level $k$ serves as a cache for the larger, slower device at level $k + 1$, for each $k$. Programs tend to access the data at level $k$ more often then they access the data at level $k + 1$ due to locality, and so the storage at level $k + 1$ can be slower, larger, and cheaper per bit. The memory hierarchy creates a large pool of storage that costs as much as the cheap storage near the bottom but that serves data to programs at the rate of the fast storage near the top. Instruction caches are different from data caches."
   ]
  },
  {
   "cell_type": "markdown",
   "metadata": {},
   "source": [
    "**The memory hierarchy**\n",
    "\n",
    "L0 - CPU registers\n",
    "* hold the words retrieved from L1\n",
    "\n",
    "L1 cache (SRAM)\n",
    "* holds cache lines retrieved from L2\n",
    "* very fast (usually 100x faster than RAM), small, processor-adjacent\n",
    "\n",
    "L2 cache (SRAM)\n",
    "* holds cache lines retrieved from L3\n",
    "* a bit slower (usually 25x faster than RAM) but often much larger\n",
    "\n",
    "L3 main memory (DRAM)\n",
    "* holds disk blocks retrieved from local disks\n",
    "* slower still, larger still, may be off-chip (may be shared amongst processors in a multi-core system)\n",
    "\n",
    "L4 local secondary storage (local disks)\n",
    "* hold files retrieved from disks on the remote network\n",
    "* slowest, least expensive\n",
    "\n",
    "L5 remote secondary storage (tapes, distributed file systems, web servers)"
   ]
  },
  {
   "cell_type": "markdown",
   "metadata": {},
   "source": [
    "EXAMPLE - AMD's Ryzen 5 5600X\n",
    "* 384 KB L1\n",
    "* 3 MB L2\n",
    "* 32 MB L3\n",
    "\n",
    "EXAMPLE - Intel Core i5 3570K CPU\n",
    "* L1 data cache = 32 KB x 4 (8-way set associative, 64 B line size)\n",
    "* L1 instruction cache = 32 KB x 4 (8-way set associative, 64 B line size)\n",
    "* L2 cache = 256 KB x 4 (8-way set associative, 64 B line size)\n",
    "* L3 cache = 6 MB (12-way set associative, 64 B line size)"
   ]
  },
  {
   "cell_type": "markdown",
   "metadata": {},
   "source": [
    "---"
   ]
  },
  {
   "cell_type": "markdown",
   "metadata": {},
   "source": [
    "A ***cache*** is a smaller, faster storage device that acts as a staging area for a subset of the data in a larger, slower device.\n",
    "\n",
    "A ***cache block*** (or ***cache line***) is the basic unit for cache storage which contains multiple bytes or words of data.\n",
    "\n",
    "A ***cache set*** (or ***cache row***) is a row in the cache."
   ]
  },
  {
   "cell_type": "markdown",
   "metadata": {},
   "source": [
    "**Locality**\n",
    "\n",
    "Caches exploit two types of *locality* to improve their performance.\n",
    "\n",
    "Spatial locality, data that needs to be accessed tends to be close to data that has already been accessed\n",
    "\n",
    "Temporal locality, data that has already been accessed is likely to be accessed again soon\n",
    "\n",
    "These ideas lead to two cache design strategies:\n",
    "* spatial - cache items in blocks larger than that accessed\n",
    "* temporal - keep stuff that was used recently around longer"
   ]
  },
  {
   "cell_type": "markdown",
   "metadata": {},
   "source": [
    "### Cache Placement Policy"
   ]
  },
  {
   "cell_type": "markdown",
   "metadata": {},
   "source": [
    "The placement policy determines where in the cache a copy of an entry in main memory will go. If the placement policy is free to choose any entry in the cache to hold the copy then the cache is called fully associative. On the other hand, if each entry in main memory can go in just one place in the cache then the cache is direct-mapped. Choosing the right value of associativity involves a tradeoff between the efficiency of searching the cache and the hit rate."
   ]
  },
  {
   "cell_type": "markdown",
   "metadata": {},
   "source": [
    "In a cache with $n$ cache sets the incoming memory address $y$ is mapped to cache set $x = y \\mod n$.\n",
    "\n",
    "Let $\\ell$ be the minimum number of bits required to uniquely represent a memory address.\n",
    "\n",
    "If the cache block size is $B \\,\\,\\text{bytes}$ then the $\\log_2 B = b$ least significant bits of the memory address are the ***cache block offset*** bits.\n",
    "\n",
    "If there are $S$ cache sets in the cache then the $\\log_2 S = s$ next least significant bits of the memory address are the ***cache set index*** bits.\n",
    "\n",
    "The remaining $\\ell - b - s = t$ most-significant bits of the memory address are the ***tag*** bits.\n",
    "\n",
    "$\n",
    "\\ell\\text{-bit memory address} =\n",
    "\\underbrace{\\boxed{\\vphantom{Tg}\\quad\\quad\\text{tag}\\quad\\quad}}_{t}\\underbrace{\\boxed{\\vphantom{Tg}\\quad\\quad\\text{cache set index}\\quad\\quad}}_{s}\\underbrace{\\boxed{\\vphantom{Tg}\\quad\\text{offset}\\quad}}_{b}\n",
    "$"
   ]
  },
  {
   "cell_type": "markdown",
   "metadata": {},
   "source": [
    "---"
   ]
  },
  {
   "cell_type": "markdown",
   "metadata": {},
   "source": [
    "In a **direct-mapped** (or $1$-way set associative) cache each memory address is stored in a single cache block.\n",
    "\n",
    "Locating data in the cache\n",
    "* use the index bits of the address of the memory block to determine the cache set\n",
    "* compare the tag bits of the address of the memory block with the tag bits of the cache block: if they match then there is a cache hit and the cache block is returned; otherwise there is a cache miss and the memory block is fetched from main memory\n",
    "\n",
    "Loading data into the cache\n",
    "* use the index bits of the address of the memory block to determine the cache set\n",
    "* place the memory block into the cache set and store use the tag bits of the address of the memory block to store the tag in the associated tag field\n",
    "* if the cache block is occupied, replace the current memory block with the new memory block"
   ]
  },
  {
   "cell_type": "markdown",
   "metadata": {},
   "source": [
    "In a $2$-way **set associative** cache each memory address can be stored in one of two cache blocks.\n",
    "\n",
    "Locating data in the cache\n",
    "\n",
    "Given a memory address it can be determined whether the data at that memory address is in the cache via the following procedure:\n",
    "* Use the index of the cache block to determine which cache set the address should reside in\n",
    "* For each cache block in the cache set, compare the tag associated with that cache block to the tag of the memory address. If they match, proceed to the next step. Otherwise, the data is not in the cache.\n",
    "* For the cache block where the data was found, inspect the valid bit. If it is $1$ then the data is in the cache. Otherwise, it is not.\n",
    "\n",
    "If the data at that memory address is in the cache then we use the block offset from that address to find the data within the cache block\n",
    "\n",
    "Loading data into the cache\n",
    "\n",
    "If the requested address is not found in the cache then it will be brought in from memory and placed there along with other addresses that are near it to take advantage of spatial locality. To determine which addresses will be brought in, we find the starting address and ending address of the range that will be brought in."
   ]
  },
  {
   "cell_type": "markdown",
   "metadata": {},
   "source": [
    "In a **fully associative** cache each memory address can be stored in any cache block.\n",
    "\n",
    "Locating data in the cache\n",
    "\n",
    "Loading data in the cache\n",
    "* A cache block is sought based on the value of its valid bit. If a cache block's valid bit is $1$ then a different cache block is sought. If a cache block's valid bit is $0$ then the memory block is placed into that cache block.\n",
    "* If the cache is completely full then a cache block is evicted according to the cache replacement policy and the memory block is placed into that cache block."
   ]
  },
  {
   "cell_type": "markdown",
   "metadata": {},
   "source": [
    "---"
   ]
  },
  {
   "cell_type": "markdown",
   "metadata": {},
   "source": [
    "EXAMPLE\n",
    "\n",
    "Consider a main memory of $\\overset{2^4}{16} \\,\\,\\overset{2^{10}}{\\text{KB}}$ which is organized into $\\overset{2^2}{4}\\text{-B}$ memory blocks for a total of $\\overset{2^{12}}{4,096}$ memory blocks.\n",
    "\n",
    "$\n",
    "\\begin{aligned}\n",
    "\\frac{16 \\,\\,\\text{KB}}{\\text{memory}} &\\times \\frac{1 \\,\\,\\text{block}}{4 \\,\\,\\text{B}} &&= 4,096 \\,\\,\\text{memory block} \\\\\n",
    "\\end  {aligned}\n",
    "$\n",
    "\n",
    "And consider a cache of $\\overset{2^8}{256} \\,\\,\\text{B}$ which is organized into $\\overset{2^2}{4}\\text{-B}$ cache blocks for a total of $\\overset{2^6}{64}$ cache blocks.\n",
    "\n",
    "$\n",
    "\\begin{aligned}\n",
    "\\frac{256 \\,\\,\\text{B}}{\\text{cache}} &\\times \\frac{1 \\,\\,\\text{block}}{4 \\,\\,\\text{B}} &&= 64 \\,\\,\\text{cache block} \\\\\n",
    "\\end  {aligned}\n",
    "$\n",
    "\n",
    "A minimum of $\\ell = 14$ bits is needed to uniquely represent a memory address in a $16\\text{-KB}$ memory. Regardless of the cache placement policy, the incoming $14\\text{-bit}$ memory address will contain $2$ offset bits because there are $2^2 \\,\\,\\text{B per cache block}$.\n",
    "\n",
    "$b = \\log_2 4$\n",
    "\n",
    "If the cache is **direct-mapped** (or $\\overset{m}{1}$-way set associative) then each of the $64$ cache blocks is mapped to a set. There are $\\overset{n}{64}$ cache sets and the cache is represented as a $64 \\times 1$ column matrix. The incoming $14\\text{-bit}$ memory address will contain $6$ index bits in order to uniquely represent the $2^6$ cache sets, and $14 - 6 - 2 = 6$ tag bits.\n",
    "\n",
    "$\\underbrace{00 \\, 0000}_{\\text{tag}} \\, \\underbrace{0000 \\, 00}_{\\text{index}}\\underbrace{00}_{\\text{offset}}$\n",
    "\n",
    "In a direct-mapped cache, each memory address can only go in one cache block. This means that there is no replacement policy: if two memory addresses are mapped to the same cache block then they may continually knock each other out. Although a direct-mapped cache is simpler than an associative cache, it needs to be much larger to give comparable performance.\n",
    "\n",
    "If the cache is $\\overset{m}{2}$-way **set associative** then there are $2$ cache blocks per cache set. There are $\\overset{n}{32}$ cache sets and the cache is represented as a $32 \\times 2$ matrix. The incoming $14\\text{-bit}$ memory address will contain $5$ index bits in order to uniquely represent the $2^5$ cache sets, and $14 - 5 - 2 = 7$ tag bits.\n",
    "\n",
    "$\\underbrace{00 \\, 0000 \\, 0}_{\\text{tag}}\\underbrace{000 \\, 00}_{\\text{index}}\\underbrace{00}_{\\text{offset}}$\n",
    "\n",
    "If the cache is **fully associative** (or $\\overset{m}{64}$-way set associative) then there are $64$ cache blocks per cache set. In other words, there is just $\\overset{n}{1}$ cache set and the cache is represented as a $1 \\times 64$ row matrix. The incoming $14\\text{-bit}$ memory address will contain $0$ index bits in order to uniquely represent the $2^0$ (i.e., single) cache set, and $14 - 2 = 12$ tag bits.\n",
    "\n",
    "$\\underbrace{00 \\, 0000 \\, 0000 \\, 00}_{\\text{tag}}\\underbrace{00}_{\\text{offset}}$"
   ]
  },
  {
   "cell_type": "markdown",
   "metadata": {},
   "source": [
    "Some memory addresses and their corresponding cache placements\n",
    "\n",
    "$\n",
    "\\begin{aligned}\n",
    "\\text{address, hex} && \\text{address, bin}                               && \\text{mem blck} && 64 \\times 1 \\,\\,\\text{tag, idx} && 32 \\times 2 \\,\\,\\text{tag, idx} && 1 \\times 64 \\,\\,\\text{tag} \\\\\n",
    "0x0000              && 00 \\, 0000 \\, 0000 \\, 00\\underbrace{00}_{2^0 - 1} &&                0 && 0,  0 && 0,  0 &&  0 \\\\\n",
    "0x0004              && 00 \\, 0000 \\, 0000 \\, 01\\underbrace{00}_{2^0 - 1} &&                1 && 0,  1 && 0,  1 &&  1 \\\\\n",
    "0x00\\text{FF}       && 00 \\, 0000 \\, 1111 \\, 11\\underbrace{11}_{2^2 - 1} &&               63 && 0, 63 && 1, 31 && 63 \\\\\n",
    "0x0100              && 00 \\, 0001 \\, 0000 \\, 00\\underbrace{00}_{2^0 - 1} &&               64 && 1,  0 && 3,  0 && 64 \\\\\n",
    "\\end  {aligned}\n",
    "$"
   ]
  },
  {
   "cell_type": "markdown",
   "metadata": {},
   "source": [
    "---"
   ]
  },
  {
   "cell_type": "markdown",
   "metadata": {},
   "source": [
    "### Cache Eviction/Replacement"
   ]
  },
  {
   "cell_type": "markdown",
   "metadata": {},
   "source": [
    "When the cache is full a previously stored block must be evicted/replaced. The performance of the cache is determined by the cache eviction/replacement policy."
   ]
  },
  {
   "cell_type": "markdown",
   "metadata": {},
   "source": [
    "**Least Recently Used (LRU)**\n",
    "\n",
    "In the LRU replacement policy the block that has been in the cache the longest without being used is evicted."
   ]
  },
  {
   "cell_type": "markdown",
   "metadata": {},
   "source": [
    "**Least Frequently Used (LFU)**\n",
    "\n",
    "In the LFU replacement policy the block that has been used the least is evicted."
   ]
  },
  {
   "cell_type": "markdown",
   "metadata": {},
   "source": [
    "**First In First Out (FIFO)**\n",
    "\n",
    "Queue."
   ]
  },
  {
   "cell_type": "markdown",
   "metadata": {},
   "source": [
    "---"
   ]
  },
  {
   "cell_type": "markdown",
   "metadata": {},
   "source": [
    "### Cache Performance"
   ]
  },
  {
   "cell_type": "markdown",
   "metadata": {},
   "source": [
    "A ***cache hit*** occurs when the block that is requested is found in and served from the cache.\n",
    "\n",
    "A ***cache miss*** occurs when the block that is requested is not found in and served from the cache.\n",
    "\n",
    "**Types of cache misses**\n",
    "\n",
    "1\\. A *cold miss* (or compulsory miss) occurs because the cache is empty.\n",
    "\n",
    "2\\. A *capacity miss* occurs when the set of active cache blocks (called the ***working set***) is larger than the cache.\n",
    "\n",
    "3\\. Most caches limit the blocks at level $k + 1$ to a small subset--sometimes a singleton--of the block positions at level $k$. For example, block $i$ at level $k + 1$ must be placed in block $i \\mod 4$ at level $k$. A *conflict miss* occurs when the level $k$ cache is large enough but multiple data objects all map to the same level $k$ block. For example, requesting blocks $0, 8, 0, 8, 0, 8, 0, 8$ would miss every time."
   ]
  },
  {
   "cell_type": "markdown",
   "metadata": {},
   "source": [
    "The efficiency of a cache is almost entirely determined by the ***hit ratio***.\n",
    "\n",
    "$\\text{hit ratio} = \\frac{\\text{num cache hits}}{\\text{num requests}}$ where $\\text{num requests} = \\text{num cache hits} + \\text{num cache misses}$"
   ]
  },
  {
   "cell_type": "markdown",
   "metadata": {},
   "source": [
    "**Average memory access time** (or **average memory latency**)\n",
    "\n",
    "$\\text{AMAT} = \\text{H} + \\text{MR} \\times \\text{AMP}$\n",
    "\n",
    "hit time $\\text{H}$ is the time it takes to read data from the cache\n",
    "\n",
    "miss ratio $\\text{MR}$ is the probability that a cache access results in a miss: $\\text{miss ratio} = 1 - \\text{hit ratio}$\n",
    "\n",
    "average miss penalty $\\text{AMP}$ is the cost to serve the block out of level $k + 1$\n",
    "\n",
    "$\\text{AMAT} = \\text{H} + \\text{MR} \\times \\text{AMAT}_{k + 1}$"
   ]
  },
  {
   "cell_type": "markdown",
   "metadata": {},
   "source": [
    "EXAMPLE\n",
    "\n",
    "$\n",
    "\\begin{aligned}\n",
    "\\text{hit time}     &=  25 \\text{us} \\\\\n",
    "\\text{miss penalty} &= 250 \\text{us} \\\\\n",
    "\\text{hit ratio}    &= 0.8 \\\\\n",
    "\\text{miss ratio}   &= 1 - 0.8 = 0.2 \\\\\n",
    "\\text{average}      &=  25 \\text{us} + 0.2 \\times 250 \\text{us} = 75 \\text{us} \\\\\n",
    "\\end  {aligned}\n",
    "$"
   ]
  },
  {
   "cell_type": "markdown",
   "metadata": {},
   "source": [
    "EXAMPLE\n",
    "\n",
    "$4$-block LRU cache"
   ]
  },
  {
   "cell_type": "markdown",
   "metadata": {},
   "source": [
    "---"
   ]
  },
  {
   "cell_type": "markdown",
   "metadata": {},
   "source": [
    "https://www.makeuseof.com/tag/what-is-cpu-cache/\n",
    "\n",
    "https://cseweb.ucsd.edu/classes/su07/cse141/cache-handout.pdf"
   ]
  },
  {
   "cell_type": "markdown",
   "metadata": {},
   "source": [
    "---"
   ]
  },
  {
   "cell_type": "markdown",
   "metadata": {},
   "source": [
    "* [ [w](https://en.wikipedia.org/wiki/Average_memory_access_time) ] Average Memory Access Time (AMAT)\n",
    "* [ [w](https://en.wikipedia.org/wiki/CPU_cache) ] Cache\n",
    "* [ [w](https://en.wikipedia.org/wiki/Cache_coherence) ] Cache Coherence\n",
    "* [ [w](https://en.wikipedia.org/wiki/Cache_control_instruction) ] Cache Control Instruction\n",
    "* [ [w](https://en.wikipedia.org/wiki/Cache_hierarchy) ] Cache Hierarchy\n",
    "* [ w ] Cache Hit\n",
    "* [ w ] Cache Miss\n",
    "* [ [w](https://en.wikipedia.org/wiki/Cache_performance_measurement_and_metric) ] Cache Performance\n",
    "* [ [w](https://en.wikipedia.org/wiki/Cache_placement_policies) ] Cache Placement Policy\n",
    "* [ [w](https://en.wikipedia.org/wiki/Cache_pollution) ] Cache Pollution\n",
    "* [ [w](https://en.wikipedia.org/wiki/Cache_replacement_policies) ] Cache Replacement Policy\n",
    "* [ [w](https://en.wikipedia.org/wiki/Content-addressable_memory) ] Content-Addressable Memory (CAM)\n",
    "* [ [w](https://en.wikipedia.org/wiki/Data_remanence) ] Data Remanence\n",
    "* [ [w](https://en.wikipedia.org/wiki/Dirty_bit) ] Dirty Bit\n",
    "* [ [w](https://en.wikipedia.org/wiki/Computer_data_storage) ] Disk\n",
    "* [ [w](https://en.wikipedia.org/wiki/Dynamic_random-access_memory) ] Dynamic RAM (DRAM)\n",
    "* [ [w](https://en.wikipedia.org/wiki/Gather/scatter_(vector_addressing)) ] Gather/Scatter\n",
    "* [ [w](https://en.wikipedia.org/wiki/Locality_of_reference) ] Locality of Reference\n",
    "* [ [w](https://en.wikipedia.org/wiki/Magnetic-core_memory) ] Magnetic-Core Memory\n",
    "* [ [w](https://en.wikipedia.org/wiki/Computer_memory) ] Memory\n",
    "* [ [w](https://en.wikipedia.org/wiki/Memory_access_pattern) ] Memory Access Pattern\n",
    "* [ [w](https://en.wikipedia.org/wiki/Memory_address) ] Memory Address\n",
    "* [ [w](https://en.wikipedia.org/wiki/Memory_management_unit) ] Memory Management Unit (MMU)\n",
    "* [ [w](https://en.wikipedia.org/wiki/Non-volatile_random-access_memory) ] Non Volatile RAM (NVRAM)\n",
    "* [ [w](https://en.wikipedia.org/wiki/NvSRAM) ] Non Volatile SRAM (nvSRAM)\n",
    "* [ [w](https://en.wikipedia.org/wiki/Page_replacement_algorithm) ] Page Replacement Algorithm\n",
    "* [ [w](https://en.wikipedia.org/wiki/Pseudo-LRU) ] Pseudo LRU (PLRU)\n",
    "* [ [w](https://en.wikipedia.org/wiki/Random_access) ] Random Access\n",
    "* [ [w](https://en.wikipedia.org/wiki/Random-access_memory) ] Random Access Memory (RAM)\n",
    "* [ [w](https://en.wikipedia.org/wiki/Read-only_memory) ] Read-Only Memory (ROM)\n",
    "* [ [w](https://en.wikipedia.org/wiki/Scratchpad_memory) ] Scratchpad Memory\n",
    "* [ [w](https://en.wikipedia.org/wiki/Sequential_access) ] Sequential Access\n",
    "* [ [w](https://en.wikipedia.org/wiki/Sequential_access_memory) ] Sequential Access Memory (SAM)\n",
    "* [ [w](https://en.wikipedia.org/wiki/Shared_memory) ] Shared Memory\n",
    "* [ [w](https://en.wikipedia.org/wiki/Static_random-access_memory) ] Static RAM (SRAM)\n",
    "* [ [w](https://en.wikipedia.org/wiki/Translation_lookaside_buffer) ] Translation Lookaside Buffer (TLB)\n",
    "* [ [w](https://en.wikipedia.org/wiki/Volatile_memory) ] Volatile Memory"
   ]
  },
  {
   "cell_type": "markdown",
   "metadata": {},
   "source": [
    "* [ [w](https://en.wikipedia.org/wiki/Application-specific_integrated_circuit) ] Application-Specific Integrated Circuit (ASIC)\n",
    "* [ [w](https://en.wikipedia.org/wiki/CMOS) ] Complementary Metal-Oxide Semiconductor (CMOS)\n",
    "* [ [w](https://en.wikipedia.org/wiki/Complex_programmable_logic_device) ] Complex Programmable Logic Device (CPLD)\n",
    "* [ [w](https://en.wikipedia.org/wiki/Logic_block) ] Configurable Logic Block (CLB)\n",
    "* [ [w](https://en.wikipedia.org/wiki/Field-programmable_gate_array) ] Field-Programmable Gate Array (FPGA)\n",
    "* [ [w](https://en.wikipedia.org/wiki/Programmable_logic_device) ] Programmable Logic Device (PLD)\n",
    "* [ [w](https://en.wikipedia.org/wiki/Reconfigurable_computing) ] Reconfigurable Computing"
   ]
  },
  {
   "cell_type": "markdown",
   "metadata": {},
   "source": [
    "* [ [w](https://en.wikipedia.org/wiki/Load%E2%80%93store_architecture) ] Load-Store Architecture\n",
    "* [ [w](https://en.wikipedia.org/wiki/Non-uniform_memory_access) ] Non Uniform Memory Access (NUMA)\n",
    "* [ [w](https://en.wikipedia.org/wiki/Processor_register) ] Processor Register\n",
    "* [ [w](https://en.wikipedia.org/wiki/Register_file) ] Register File"
   ]
  },
  {
   "cell_type": "markdown",
   "metadata": {},
   "source": [
    "---\n",
    "---\n",
    "---"
   ]
  },
  {
   "cell_type": "markdown",
   "metadata": {},
   "source": [
    "## Memory Ops"
   ]
  },
  {
   "cell_type": "markdown",
   "metadata": {},
   "source": [
    "Pointers are typed, and pointer arithemtic obeys types: when you add 1 to a pointer you add `sizeof(type)`."
   ]
  },
  {
   "cell_type": "markdown",
   "metadata": {},
   "source": [
    "Buffer\n",
    "\n",
    "A buffer is just a memory region that has some use which is typically referenced/maintained by a pointer. A buffer is a temporary holding place.\n",
    "\n",
    "```c\n",
    "char *buffer;\n",
    "\n",
    "void *buffer;\n",
    "```\n",
    "\n",
    "A void buffer is a general-purpose pointer, a pointer to a raw address."
   ]
  },
  {
   "cell_type": "markdown",
   "metadata": {},
   "source": [
    "### Memory Management"
   ]
  },
  {
   "cell_type": "markdown",
   "metadata": {},
   "source": [
    "C has no garbage collector.\n",
    "\n",
    "Any memory that is allocated must subsequently be un-allocated (freed). MEMORY LEAKS\n",
    "\n",
    "local variables are allocated off the stack\n",
    "\n",
    "freed when you return from the function\n",
    "\n",
    "global and static variables are allocated in a data segment\n",
    "\n",
    "are freed when the program exits\n",
    "\n",
    "Memory can be allocated in the heap segment using `malloc()`. This memory must be freed via `free()`.\n",
    "\n",
    "Failing to free allocated memory is a memory leak. Double-freeing allocated memory is an error (hopefully, a crash)."
   ]
  },
  {
   "cell_type": "markdown",
   "metadata": {},
   "source": [
    "---"
   ]
  },
  {
   "cell_type": "markdown",
   "metadata": {},
   "source": [
    "`memcpy` copies one memory region to another, or from a src buffer to a dst buffer. The size must be explicit because there is no terminator.\n",
    "\n",
    "```c\n",
    "char buf1[]  = {0, 1, 2, 3};\n",
    "char buf2[4] = {0, 0, 0, 0};\n",
    "\n",
    "printf(\"Before\\n\");\n",
    "for (int i = 0; i < 4; i++) {\n",
    "  printf(\"buf1[i] = %ld, buf2[i] = %ld\\n\", (int)buf1[i], (int)buf2[i]);\n",
    "}\n",
    "\n",
    "memcpy(buf2, buf1, 4);\n",
    "\n",
    "printf(\"After\\n\");\n",
    "for (int i = 0; i < 4; i++) {\n",
    "  printf(\"buf1[i] = %ld, buf2[i] = %ld\\n\", (int)buf1[i], (int)buf2[i]);\n",
    "}\n",
    "```"
   ]
  },
  {
   "cell_type": "markdown",
   "metadata": {},
   "source": [
    "`memset` fills memory with a given constant byte\n",
    "\n",
    "`void *memset (void *buf, int c, size_t n)`\n",
    "\n",
    "```c\n",
    "char a[4] = {0, 1, 2, 3};\n",
    "memset(a, 0, 4);\n",
    "\n",
    "int b[4] = {0, 1, 2, 3};\n",
    "memset(b, 0, 4);\n",
    "```"
   ]
  },
  {
   "cell_type": "markdown",
   "metadata": {},
   "source": [
    "`memcmp(buf1, buf2, n)` compares the first n bytes of the buffers\n",
    "\n",
    "returns\n",
    "* neg int if `buf1` < `buf2`\n",
    "* 0 if `buf1` = `buf2`\n",
    "* pos int if `buf1` > `buf2`"
   ]
  },
  {
   "cell_type": "markdown",
   "metadata": {},
   "source": [
    "```c\n",
    "int x;\n",
    "\n",
    "char cmps[4][2] = {\n",
    "  {0x0, 0x1}, {0x1, 0x0}, {0x0, 0x1}, {0x9, 0x0}\n",
    "};\n",
    "\n",
    "for (int i = 0; i < 4; i++) {\n",
    "  for (int j = 0; j < 4; j++) {\n",
    "    x = memcmp(&cmps[i][0], &cmps[j][0], 2);\n",
    "    printf(\"compare %ld%ld with %ld%ld = %d\\n\", cmps[i][0], cmps[i][1], cmps[j][0], cmps[j][1], x);\n",
    "  }\n",
    "}\n",
    "```"
   ]
  },
  {
   "cell_type": "markdown",
   "metadata": {},
   "source": [
    "`malloc` allocates a block of memory of the given size and returns a void pointer to the first byte of that memory, which does not need to be case because it is automatically promoted, or NULL if the memory could not be allocated. Initialized with garbage values.\n",
    "\n",
    "`void *malloc (size_t size)`\n",
    "\n",
    "```c\n",
    "#include <stdlib.h>\n",
    "\n",
    "// allocate a 10-float array\n",
    "float *arr = malloc(10 * sizeof(float));\n",
    "if (arr = NULL)\n",
    "  return errcode;\n",
    "arr[0] = 5.1;\n",
    "```\n",
    "\n",
    "`calloc` returns an array of `nmemb` members, each of size bytes, and zeroes out allocated memory: all bytes have the value 0x0. `calloc` is slightly slower than `malloc` and is preferred for non performance-critical code.\n",
    "\n",
    "```c\n",
    "void *calloc (size_t nmemb, size_t bytes);\n",
    "```\n",
    "\n",
    "```c\n",
    "#include <stdlib.h>\n",
    "\n",
    "// allocate a 10-long int array\n",
    "long *arr = calloc(10, sizeof(long));\n",
    "if (arr = NULL)\n",
    "  return errcode;\n",
    "arr[0] = 5L;\n",
    "```"
   ]
  },
  {
   "cell_type": "markdown",
   "metadata": {},
   "source": [
    "`void free (void *ptr)` releases the memory pointed to by the pointer\n",
    "* the ptr must point to the first byte of the heap-allocated memory (i.e., something returned by either `malloc` or `calloc`)\n",
    "* set ptr to NULL after freeing a block of memory to avoid a dangling pointer\n",
    "\n",
    "```c\n",
    "#include <stdlib.h>\n",
    "\n",
    "long *arr = calloc(10 * sizeof(long));\n",
    "if (arr = NULL)\n",
    "  return errcode;\n",
    "\n",
    "free(arr);\n",
    "arr = NULL;\n",
    "```"
   ]
  },
  {
   "cell_type": "markdown",
   "metadata": {},
   "source": [
    "---"
   ]
  },
  {
   "cell_type": "markdown",
   "metadata": {},
   "source": [
    "```c\n",
    "typedef struct {\n",
    "  double real;\n",
    "  double imag;\n",
    "} Complex, *ComplexPtr;\n",
    "\n",
    "ComplexPtr AllocComplex (double real, double imag) {\n",
    "  Complex *retval = malloc(sizeof(Complex));\n",
    "  if (retval != NULL) {\n",
    "    retval->real = real;\n",
    "    retval->imag = imag;\n",
    "  }\n",
    "  return retval;\n",
    "}\n",
    "```"
   ]
  },
  {
   "cell_type": "markdown",
   "metadata": {},
   "source": [
    "---"
   ]
  },
  {
   "cell_type": "markdown",
   "metadata": {},
   "source": [
    "`void *realloc (void *ptr, size_t size)` modifies a previous allocation by resizing it in-place if possible; if not, it creates a new allocation and copies as much data as it can. It returns NULL if the memory could not be allocated.\n",
    "\n",
    "```c\n",
    "char *buf, *rbuf;\n",
    "\n",
    "buf = malloc(2); // allocate a 2-byte array\n",
    "memset(buf, 0xa, 2);\n",
    "printf(\"buf = %x %x\\n\", buf[0], buf[1]);\n",
    "rbuf = realloc(buf, 4); // resize to 4 bytes\n",
    "printf(\"rbuf = %x %x %x %x\\n\", rbuf[0], rbuf[1], rbuf[2], rbuf[3]);\n",
    "```"
   ]
  },
  {
   "cell_type": "markdown",
   "metadata": {},
   "source": [
    "---"
   ]
  },
  {
   "cell_type": "markdown",
   "metadata": {},
   "source": [
    "### Heap"
   ]
  },
  {
   "cell_type": "markdown",
   "metadata": {},
   "source": [
    "The heap is a pool of unused memory that is used for dynamically-allocated data: `malloc` allocates chunks of heap and `free` deallocates them, and `malloc` maintains bookkeeping data in the heap to keep track of allocated chunks."
   ]
  },
  {
   "cell_type": "markdown",
   "metadata": {},
   "source": [
    "---\n",
    "---\n",
    "---"
   ]
  },
  {
   "cell_type": "markdown",
   "metadata": {},
   "source": [
    "## Memory"
   ]
  },
  {
   "cell_type": "markdown",
   "metadata": {},
   "source": [
    "Units\n",
    "\n",
    "$\n",
    "\\begin{aligned}\n",
    "\\text{bit b}               && \\\\\n",
    "\\text{byte B}              && 1 \\text{B}  &= 8 \\text{b} \\\\\n",
    "\\text{halfword (short) hw} && 1 \\text{hw} &= 2 \\text{B} \\\\\n",
    "\\text{word w}              && 1 \\text{w}  &= 4 \\text{B (sometimes 2B, then double word dw = 4B)} \\\\\n",
    "\\text{giant g}             && 1 \\text{g}  &= 2 \\text{w} = 8 \\text{B} \\\\\n",
    "\\end  {aligned}\n",
    "$"
   ]
  },
  {
   "cell_type": "markdown",
   "metadata": {},
   "source": [
    "The number of possible memory addresses on 32-bit architecture and 64-bit architecture respectively:\n",
    "\n",
    "$\n",
    "\\begin{aligned}\n",
    "2^{32} &= 4.29496730 \\times 10^9    &&= 4,294,967,296 \\\\\n",
    "2^{64} &= 1.84467441 \\times 10^{19} &&= 18,446,744,073,709,551,616 \\\\\n",
    "\\end  {aligned}\n",
    "$\n",
    "\n",
    "64-bit processors can run in 32-bit compatibility mode which allows them to run 32-bit code quickly."
   ]
  },
  {
   "cell_type": "code",
   "execution_count": 86,
   "metadata": {},
   "outputs": [
    {
     "name": "stdout",
     "output_type": "stream",
     "text": [
      "Possible memory addresses (theoretical limit)\n",
      "2^  8 =                                                     256 B\n",
      "2^ 16 =                                                  65,536 B\n",
      "2^ 32 =                                           4,294,967,296 B (about   4.3 million)\n",
      "2^ 64 =                              18,446,744,073,709,551,616 B (about  18.4 quintillion, or  16 EiB)\n",
      "2^128 =     340,282,366,920,938,463,463,374,607,431,768,211,456 B (about 340   undecillion)\n",
      "\n",
      "Some common physical memory limits\n",
      "2^ 48 =                                     281,474,976,710,656 B (about   0.3 quadrillion, or 256 TiB)\n",
      "2^ 52 =                                   4,503,599,627,370,496 B (about   4.5 quadrillion, or   4 PiB)\n",
      "\n",
      "Some common user space and kernel space limits\n",
      "2^ 47 =                                     140,737,488,355,328 B (Linux user   space)\n",
      "2^ 17 =                                                 131,072 B (Linux kernel space)\n"
     ]
    }
   ],
   "source": [
    "print('Possible memory addresses (theoretical limit)')\n",
    "print(f'2^  8 = {2**  8:>55,.0f} B')\n",
    "print(f'2^ 16 = {2** 16:>55,.0f} B')\n",
    "print(f'2^ 32 = {2** 32:>55,.0f} B (about   4.3 million)')\n",
    "print(f'2^ 64 = {2** 64:>55,.0f} B (about  18.4 quintillion, or  16 EiB)')\n",
    "print(f'2^128 = {2**128:>55,.0f} B (about 340   undecillion)')\n",
    "print()\n",
    "print('Some common physical memory limits')\n",
    "print(f'2^ 48 = {2** 48:>55,.0f} B (about   0.3 quadrillion, or 256 TiB)')\n",
    "print(f'2^ 52 = {2** 52:>55,.0f} B (about   4.5 quadrillion, or   4 PiB)')\n",
    "print()\n",
    "print('Some common user space and kernel space limits')\n",
    "print(f'2^ 47 = {2** 47:>55,.0f} B (Linux user   space)')\n",
    "print(f'2^ 17 = {2** 17:>55,.0f} B (Linux kernel space)')"
   ]
  },
  {
   "cell_type": "markdown",
   "metadata": {},
   "source": [
    "```txt\n",
    "MEMORY\n",
    "\n",
    "0xFFFFFFFF +--------------------------------------------------+\n",
    "           | Kernel\n",
    "           +--------------------------------------------------+\n",
    "           | STACK (8 MB limit)\n",
    "           |\n",
    "    bp --> | stack frame\n",
    "           |     function params/args\n",
    "           |     automatic (local-to-function) vars\n",
    "           |     saved frame pointer (SFP) - used to restore the frame pointer (bp) to its previous value\n",
    "           |     return address pointer    - used to restore the instruction pointer (ip) to the next instruction after the function call\n",
    "    sp --> +--------------------------------------------------+\n",
    "           |                         |\n",
    "           |                         v\n",
    "           +--------------------------------------------------+\n",
    "           | Shared Libraries (here, or above the stack???)\n",
    "           +--------------------------------------------------+\n",
    "           |                         ^\n",
    "           |                         |\n",
    "           +--------------------------------------------------+ <-- program break, moves up and down as memory is allocated to, deallocated from the heap\n",
    "           | HEAP\n",
    "           |     dynamic memory (de)allocation - C malloc/free, C++ new/delete\n",
    "           +--------------------------------------------------+\n",
    "           | BSS  (.bss)\n",
    "           |     uninitialized static data, read from the binary executable and loaded into memory at this address\n",
    "           |     writable, but has a fixed size\n",
    "           +--------------------------------------------------+\n",
    "           | DATA (.data)\n",
    "           |     initialized static data such as globals, static locals, and strings, read from the binary executable and loaded into memory at this address\n",
    "           |     writable, but has a fixed size\n",
    "           +--------------------------------------------------+\n",
    "           | CODE/TEXT (.rodata)\n",
    "           |     static const\n",
    "           +--------------------------------------------------+\n",
    "           | CODE/TEXT (.text)\n",
    "           |     assembled machine instructions, read from the binary executable and load it into memory at this address\n",
    "           |     read-only, and has a fixed size\n",
    "0x00000000 +--------------------------------------------------+\n",
    "\n",
    "PROGRAM EXECUTION\n",
    "\n",
    "The instruction pointer is set to point to the first instruction of the text segement (function `main`), and the processor proceeds as follows:\n",
    "1. read the instruction that the instruction pointer is pointing to\n",
    "2. add the byte length of the instruction to the instruction pointer\n",
    "3. execute the instruction that was read in (1)\n",
    "4. go back to (1)\n",
    "```"
   ]
  },
  {
   "cell_type": "markdown",
   "metadata": {},
   "source": [
    "#### Signed representation"
   ]
  },
  {
   "cell_type": "markdown",
   "metadata": {},
   "source": [
    "```c\n",
    "// in sign-and-magnitude, -1 is encoded as 100...001\n",
    "if      (-1 & 3) == 1\n",
    "  printf(\"The encoding is sign-and-magnitude\");\n",
    "// in one's complement,   -1 is encoded as 111...110\n",
    "else if (-1 & 3) == 2\n",
    "  printf(\"The encoding is one's complement\");\n",
    "// in two's complement,   -1 is encoded as 111...111\n",
    "else if (-1 & 3) == 3\n",
    "  printf(\"The encoding is two's complement\");\n",
    "else\n",
    "  printf(\"Not possible in the C standard\");\n",
    "```"
   ]
  },
  {
   "cell_type": "markdown",
   "metadata": {},
   "source": [
    "From lower memory addresses to higher addresses:\n",
    "\n",
    "1\\. Text segment\n",
    "* stores the executable code of the program\n",
    "* usually read-only\n",
    "\n",
    "2\\. Data Segment `.data`\n",
    "* initialized static/global variables `static int a = 3;`\n",
    "* read/write\n",
    "* the size of the data segment is determined by the size of the values in the program's source code and does not change at runtime\n",
    "\n",
    "Read-Only Data Segment `.rodata`\n",
    "* initialized static/global constants\n",
    "* read-only\n",
    "\n",
    "3\\. BSS segment\n",
    "* uninitialized static/global constants/variables `static int b;`\n",
    "* this segment is filled with zeros by the operating system and so uninitialized variables are initialized with zeros\n",
    "\n",
    "4\\. Heap\n",
    "* grows from lower addresses to higher addresses\n",
    "* used to provide space for dynamic memory allocation (`malloc`, `calloc`, `realloc`, `free`, etc.)\n",
    "\n",
    "5\\. Stack\n",
    "* grows from higher addresses to lower addresses\n",
    "* used to store local variables defined inside functions as well as data related to function calls such as return addresses, arguments, etc."
   ]
  },
  {
   "cell_type": "markdown",
   "metadata": {},
   "source": [
    "C's memory layout from higher addresses to lower addresses\n",
    "* command line arguments\n",
    "* dynamic memory\n",
    "  * stack - a new stack frame for each function call, not for each function\n",
    "  * heap\n",
    "* static memory\n",
    "  * uninitialized data segment\n",
    "  * initialized data segment\n",
    "  * text/code segment - read-only permission prevents accidental modification; shareable, so that only a single copy is required amng multiple programs like text editors, shells, etc."
   ]
  },
  {
   "cell_type": "markdown",
   "metadata": {},
   "source": [
    "Post compilation, the instructions in the binary executable are loaded into the text segment."
   ]
  },
  {
   "cell_type": "code",
   "execution_count": null,
   "metadata": {},
   "outputs": [
    {
     "name": "stdout",
     "output_type": "stream",
     "text": [
      "32 b arch can address 2^32 B of RAM\n",
      "  4,294,967,296 B\n",
      " 34,359,738,368 b\n"
     ]
    }
   ],
   "source": [
    "print('32 b arch can address 2^32 B of RAM')\n",
    "print(f'{(2**32)  :>15,.0f} B')\n",
    "print(f'{(2**32)*8:>15,.0f} b')"
   ]
  },
  {
   "cell_type": "markdown",
   "metadata": {},
   "source": [
    "EXAMPLE\n",
    "\n",
    "```c\n",
    "int x = 100;                                 // data segment\n",
    "\n",
    "int main () {\n",
    "  int   a = 2;                               // stack\n",
    "  float b = 2.5;                             // stack\n",
    "  static int y;                              // bss segment\n",
    "\n",
    "  int *ptr = (int *)malloc(2 * sizeof(int)); // local variable `ptr` is stored in the stack, points to a block of memory in the heap\n",
    "  ptr[0] = 5;                                // heap\n",
    "  ptr[1] = 6;                                // heap\n",
    "\n",
    "  free(ptr);\n",
    "  return 1;\n",
    "}\n",
    "```"
   ]
  },
  {
   "cell_type": "markdown",
   "metadata": {},
   "source": [
    "---\n",
    "---\n",
    "---"
   ]
  },
  {
   "cell_type": "markdown",
   "metadata": {},
   "source": [
    "## x86 Assembly"
   ]
  },
  {
   "cell_type": "markdown",
   "metadata": {},
   "source": [
    "---"
   ]
  },
  {
   "cell_type": "markdown",
   "metadata": {},
   "source": [
    "https://www.quora.com/What-hardware-do-you-need-to-start-learning-x86-assembly"
   ]
  },
  {
   "cell_type": "markdown",
   "metadata": {},
   "source": [
    "---"
   ]
  },
  {
   "cell_type": "markdown",
   "metadata": {},
   "source": [
    "__Syntax Flavor__\n",
    "* AT&T\n",
    "  * puts destination registers after source registers\n",
    "* Intel\n",
    "  * puts destination registers before source registers"
   ]
  },
  {
   "cell_type": "markdown",
   "metadata": {},
   "source": [
    "__Registers__\n",
    "\n",
    "```txt\n",
    "general-purpose - act as temp variables for the CPU when it's executing machine instructions\n",
    "===============\n",
    "ax    accumulator\n",
    "bx    base\n",
    "cx    counter\n",
    "dx    data\n",
    "\n",
    "sp    stack pointer - stores an address\n",
    "bp    base  pointer - stores an address - references local function variables in the current stack frame\n",
    "                    - frame pointer (FP) or local base (LB) pointer\n",
    "si    src   idx     - stores an address, when data needs to be read\n",
    "di    dst   idx     - stores an address, when data needs to be written\n",
    "\n",
    "ip    instruction pointer - always holds the memory address of the next instruction to execute in the program's code segment\n",
    "                            the processor increments %rip automatically after each instruction\n",
    "                            control flow instructions, like branches, set the value of %rip to change the next instruction\n",
    "\n",
    "flags - consists of several bit flags that are used for comparisons and memory segmentations\n",
    "```\n",
    "\n",
    "Registers\n",
    "\n",
    "```txt\n",
    "eax       accumulator   (general-purpose register)\n",
    "ebx       base          (general-purpose register)\n",
    "ecx       counter       (general-purpose register)\n",
    "edx       data          (general-purpose register)\n",
    "esp       stack pointer (general-purpose register), pointer that stores a memory address\n",
    "ebp       base  pointer (general-purpose register), pointer that stores a memory address\n",
    "esi       src index     (general-purpose register), pointer used by load (read data) and store (write data) instructions\n",
    "edi       dst index     (general-purpose register), pointer used by load (read data) and store (write data) instructions\n",
    "eip       instruction pointer, points to the instruction that the processor is reading\n",
    "eflags    several bit flags that are used for comparisons and memory segmentations\n",
    "cs\n",
    "ds\n",
    "es\n",
    "fs\n",
    "gs\n",
    "ss\n",
    "```"
   ]
  },
  {
   "cell_type": "markdown",
   "metadata": {},
   "source": [
    "__Register Formats__\n",
    "\n",
    "\n",
    "```txt\n",
    " 63                              31              15      7       0\n",
    " +-------------------------------+-------------------------------+\n",
    " |                               |               |       |       |\n",
    " +---------------------------------------------------------------+\n",
    "\n",
    " |---------------------%rax (64 bits/8 bytes)--------------------|\n",
    "                                 |-----%eax (32 bits/4 bytes)----|\n",
    "                                                 |-%ax (16b/2B)--|\n",
    "                                                 |--%ah--|--%al--| <-- 8 bits/1 byte each\n",
    "```"
   ]
  },
  {
   "cell_type": "markdown",
   "metadata": {},
   "source": [
    "__Instructions__"
   ]
  },
  {
   "cell_type": "markdown",
   "metadata": {},
   "source": [
    "```txt\n",
    "/**************************************************\n",
    " *\n",
    " * computation\n",
    " *\n",
    " **************************************************/\n",
    "     src  src/dst\n",
    "add %rax,%rbx    %rbx := %rbx + %rax\n",
    "sub %rax,%rbx    %rbx := %rbx - %rax\n",
    "inc\n",
    "and\n",
    " or?\n",
    "\n",
    "\n",
    "/**************************************************\n",
    " *\n",
    " * data movement\n",
    " *\n",
    " **************************************************/\n",
    "     src  dst\n",
    "mov %rax,%rbx    %rbx := %rax\n",
    "\n",
    "\n",
    "/**************************************************\n",
    " * control flow transfers - deviations from sequential instruction execution (function calls loops, conditionals)\n",
    " *\n",
    " * unconditional branch - the instruction pointer is set to a new value\n",
    " * conditional branch - the instruction pointer is set to a new value if a condition is true\n",
    " * function call\n",
    " * function return\n",
    " **************************************************/\n",
    "cmp \"compare\"\n",
    "j   \"jump\"\n",
    "\n",
    "\n",
    "lea \"load effective address\"\n",
    "```\n",
    "\n",
    "\n",
    "```txt\n",
    "INTEL    AT&T\n",
    "\n",
    "and\n",
    "call\n",
    "cmp      cmpl    compare\n",
    "inc      incl    increment\n",
    "jle              jump if less than or equal to\n",
    "jmp              jump\n",
    "lea\n",
    "leave\n",
    "mov\n",
    "         movl\n",
    "nop\n",
    "push\n",
    "ret\n",
    "sub\n",
    "```"
   ]
  },
  {
   "cell_type": "markdown",
   "metadata": {},
   "source": [
    "---\n",
    "---\n",
    "---"
   ]
  },
  {
   "cell_type": "markdown",
   "metadata": {},
   "source": [
    "## GDB"
   ]
  },
  {
   "cell_type": "markdown",
   "metadata": {},
   "source": [
    "`~/.gdbinit`\n",
    "```txt\n",
    "set dis intel\n",
    "set disassemble-next-line on\n",
    "```\n",
    "\n",
    "```txt\n",
    "disass (disassemble)\n",
    "```"
   ]
  },
  {
   "cell_type": "markdown",
   "metadata": {},
   "source": [
    "```gdb\n",
    "~/.gdbinit\n",
    "\n",
    "b   main             break main\n",
    "dis main             disassemble main\n",
    "i r eip              info register eip\n",
    "p                    print\n",
    "q                    quit\n",
    "list\n",
    "nexti                next instruction\n",
    "run\n",
    "set dis intel        set disassembly intel\n",
    "\n",
    "x/<f> <addr>      examine memory address `addr` with format `f`\n",
    "x/i   $eip        instruction\n",
    "x/o   $eip        octal\n",
    "x/t   $eip        binary\n",
    "x/u   $eip        decimal\n",
    "x/x   $eip        hexadecimal\n",
    "x/2x  $eip        2 words\n",
    "x/12x $eip        12 words\n",
    "\n",
    "x/2xb $eip        2 B\n",
    "x/2xh $eip        2 halfword ( 4 B = 2 halfword x 2 B/halfword)\n",
    "x/2xw $eip        2 word     ( 8 B = 2     word x 4 B/    word)\n",
    "x/2xg $eip        2 giant    (16 B = 4     word x 4 B/    word)\n",
    "x/xdw             double word\n",
    "```"
   ]
  },
  {
   "cell_type": "markdown",
   "metadata": {},
   "source": [
    "```bash\n",
    "gcc -S        # compile C to 32-bit assembly on a 32-bit system\n",
    "gcc -S -m32   # compile C to 32-bit assembly on a 64-bit system\n",
    "\n",
    "gcc    -Wall -o prog prog.c                # compile C to binary executable\n",
    "gcc -g -Wall -o prog prog.c && gdb -q prog\n",
    "#   ^^                                       provide debugging information to gdb\n",
    "#                                  ^^        quiet mode\n",
    "\n",
    "objdump -M intel -D prog | grep -A20 main.:\n",
    "```"
   ]
  },
  {
   "cell_type": "markdown",
   "metadata": {},
   "source": [
    "---\n",
    "---\n",
    "---"
   ]
  },
  {
   "cell_type": "markdown",
   "metadata": {},
   "source": [
    "### `objdump`"
   ]
  },
  {
   "cell_type": "markdown",
   "metadata": {},
   "source": [
    "https://en.wikipedia.org/wiki/Objdump"
   ]
  },
  {
   "cell_type": "markdown",
   "metadata": {},
   "source": [
    "### `readelf`"
   ]
  },
  {
   "cell_type": "markdown",
   "metadata": {},
   "source": [
    "https://en.wikipedia.org/wiki/Readelf"
   ]
  },
  {
   "cell_type": "markdown",
   "metadata": {},
   "source": [
    "```bash\n",
    "file a.out # check whether it is an ELF file\n",
    "\n",
    "readelf -h a.out # view the ELF header\n",
    "readelf -S a.out # view sections in the ELF file\n",
    "readelf -l a.out # view program headers (describes the segments used at runtime)\n",
    "readelf -s a.out # view the symbol table\n",
    "readelf -r a.out # view the relocation sections (shows how the binary modifies itself at runtime)\n",
    "readelf -d a.out # view the dynamic section (contains information on dynamic linking)\n",
    "```"
   ]
  },
  {
   "cell_type": "markdown",
   "metadata": {},
   "source": [
    "---\n",
    "---\n",
    "---"
   ]
  },
  {
   "cell_type": "markdown",
   "metadata": {},
   "source": [
    "## Building"
   ]
  },
  {
   "cell_type": "markdown",
   "metadata": {},
   "source": [
    "Build\n",
    "* edit -> `foo.h`, `foo.c` (source file)\n",
    "* compile -> `foo.o` (object file)\n",
    "* link -> `foo` + `libZ.a` statically-linked library (executable)\n",
    "* load -> `bar` + `libc.so` shared library (process)\n",
    "* execute, debug, profile\n",
    "\n",
    "```bash\n",
    "# gcc is used to build (compile + link) a program\n",
    "#  ld can be used to link the program\n",
    "\n",
    "# compilation\n",
    "# gcc <src files> [options]\n",
    "#     -c           generate object file\n",
    "#     -g           generate debug information\n",
    "#     -o output    specify the output file\n",
    "#     -Wall        show all warnings\n",
    "\n",
    "\n",
    "gcc -Wall -g -c -o hello.o hello.c\n",
    "#   ^^^^^^^^                       generate debug information and display errors\n",
    "#            ^^^^^^^^^^^^^         compile, but do not link\n",
    "\n",
    "# linking\n",
    "# gcc <obj files> [options]\n",
    "#     -g           generate debug information\n",
    "#     -l<lib>      link with a library\n",
    "#     -o output    specify the output file\n",
    "\n",
    "\n",
    " gcc -g -lmyexample -o hello hello.o goodbye.o\n",
    " #      ^^^^^^^^^^^                            link with a library\n",
    " #                  ^^^^^^^^                   output file\n",
    "\n",
    "```"
   ]
  },
  {
   "cell_type": "markdown",
   "metadata": {},
   "source": [
    "**Static Library**\n",
    "\n",
    "Static linking is done at link time. A library is a collection of related code and functions that are linked against a C program. The library exports symbols. Program object code has unresolved symbols. The linker pulls chunks of the library containing those symbols and places them into the program. The program is done when all the pieces are resolved.\n",
    "\n",
    "A statically-linked library produces object code that is inserted into the program at link time.\n",
    "\n",
    "Build an archive of the library which the linker uses to search for and transfer code into the program.\n",
    "\n",
    "The name of the library is linked against, not the name of the file in which the library exists\n",
    "\n",
    "```bash\n",
    "# ar rcs lib<libname>.a <object files>\n",
    "#    ^      replace existing code with the objects passed in\n",
    "#     ^     create the library, if needed\n",
    "#      ^    create an index for relocatable code\n",
    "# \n",
    "\n",
    "ar rcs libmyexample.a a.o b.o c.o d.o\n",
    "```"
   ]
  },
  {
   "cell_type": "markdown",
   "metadata": {},
   "source": [
    "**Dynamic Library**\n",
    "\n",
    "A dynamic library is a collection of related code and functions that are *resolved* at run time. The program's object code contains unresolved symbols, and the library exports symbols. The *loader* pulls chunks of the library containing those symbols and places them into the process. The symbols are resolved when the process is started or later during execution. The library is called dynamic because this process can be done at any time.\n",
    "\n",
    "A dynamically-linked library produces object code that is inserted into the program at execution time.\n",
    "\n",
    "A loadable version of the library is being built, which the loader uses to launch the application. All object files to be placed in the library must have been compiled to position-independent code (PIC). PIC is not dependent on being located at any predefined location in memory; it uses relative jumps, so it does not matter where it is loaded at exection time.\n",
    "\n",
    "```bash\n",
    "gcc -Wall -g -c -fpic -o a.o a.c\n",
    "//           ^^^^^^^^            compile to PIC\n",
    "\n",
    "gcc -shared -o libmyexample.so a.o b.o c.o d.o\n",
    "```"
   ]
  },
  {
   "cell_type": "markdown",
   "metadata": {},
   "source": [
    "Pros - static linking\n",
    "* resolve all implementation issues at link time\n",
    "* avoids problems of API versioning\n",
    "* linker can optimize library code at link time\n",
    "\n",
    "Pros - dynamic linking\n",
    "* reduced executable\n",
    "* system updates"
   ]
  },
  {
   "cell_type": "markdown",
   "metadata": {},
   "source": [
    "**Preprocessor**\n",
    "\n",
    "The preprocessor processes input source code files for commands that setup the compile environment specific to that execution. `#` directives are used to indicate what the programmer wants done.\n",
    "\n",
    "```c\n",
    "#include            // include data from some other data file\n",
    "#include \"foo.h\"    // look local, used in application programming\n",
    "#include <foo.h>    // look at the default directories and any directories provided in the command line\n",
    "\n",
    "#define             // create a definition symbol that gets searched-replaced throughout\n",
    "                    // commonly used to define a constant that might be changed in the future (e.g., the size of arrays)\n",
    "                    // can also be used to create functions called macros; macros are not called, but are replaced during preprocessing (and so there are no function call overheads, stack operations)\n",
    "#undef              // undoes the binding done by #define\n",
    "\n",
    "// conditionally compile parts of a program\n",
    "#if\n",
    "#ifdef\n",
    "#ifndef\n",
    "```\n",
    "```bash\n",
    "gcc -I<path> # look in a specific directory for include files\n",
    "```"
   ]
  },
  {
   "cell_type": "markdown",
   "metadata": {},
   "source": [
    "```c\n",
    "#define NUM_ENTRIES 15\n",
    "#define DEFINED\n",
    "\n",
    "#if 0\n",
    "/* not compiled */\n",
    "#else\n",
    "/*     compiled */\n",
    "#endif\n",
    "\n",
    "#ifdef UNKNOWNVALUE\n",
    "/* not compiled */\n",
    "#else\n",
    "/*     compiled */\n",
    "#endif\n",
    "\n",
    "#ifndef DEFINED\n",
    "/* not compiled */\n",
    "#else\n",
    "/*     compiled */\n",
    "#endif\n",
    "\n",
    "int main (void) {\n",
    "  float myFloats[NUM_ENTRIES];\n",
    "#if 0\n",
    "  for (int i = 0; i < NUM_ENTRIES; i++)\n",
    "    scanf(\"%f\", &myFloats[i]);\n",
    "\n",
    "  printCharline('*', 69);\n",
    "  printf(\"Received and computed\\n\");\n",
    "#endif\n",
    "}\n",
    "```"
   ]
  },
  {
   "cell_type": "markdown",
   "metadata": {},
   "source": [
    "**Make**\n",
    "\n",
    "The make utility is a utility for building complex programs/systems.\n",
    "* determine which parts of a program/system are out of date\n",
    "* determine the dependencies between objects\n",
    "* issue commands to create intermediate and final project files\n",
    "\n",
    "Each project/system has one or more files defining the build called the makefile: what to build, how to build them, how they are related. The *target* is the thing to build. The *prerequisites* are the things that the target depends on. `a.o` *depends* on `a.c`. *Variables* are data that defines elements of interest to the build. *Rules* are statements of targets, prerequisites, and commands.\n",
    "\n",
    "*Productions* or *rules* are statements consisting of targets, prerequisites, and commands which define how a particular item is built.\n",
    "\n",
    "builtin variables\n",
    "* `$@` the current rule target\n",
    "* `$^` the prerequisite list\n",
    "* `$<` the first prerequisite\n",
    "\n",
    "Pattern rule\n",
    "* `%` matches any nonempty string\n",
    "\n",
    "```make\n",
    "Run the commands to build the target when any of the prerequisites are out of date:\n",
    "\n",
    "target: prereq1, prereq2, prereq3\n",
    "    command1\n",
    "    command2\n",
    "```\n",
    "```make\n",
    "CC=gcc\n",
    "LINK=gcc\n",
    "CFLAGS=-c -Wall -I.\n",
    "OBJ_FILES= sample.o support.o\n",
    "\n",
    "sample    : $(OBJ_FILES)\n",
    "    $(CC) $^ -o $@\n",
    "sample.o  : sample.c support.h\n",
    "    $(CC) $(CFLAGS) sample.c -o $@\n",
    "support.o : support.c support.h\n",
    "    $(CC) $(CFLAGS) support.c -o $@\n",
    "```\n",
    "```bash\n",
    "make\n",
    "```"
   ]
  },
  {
   "cell_type": "markdown",
   "metadata": {},
   "source": [
    "```makefile\n",
    "CC=gcc\n",
    "CFLAGS=-c -Wall -I. -fpic -g -fbounds-check\n",
    "LIBS=-lcrypto\n",
    "\n",
    "OBJS=tester.o util.o mdadm.o\n",
    "\n",
    "%.o    : %.c %.h\n",
    "         $(CC) $(CFLAGS) $< -o $@\n",
    "tester : $(OBJS) jbod.o\n",
    "         $(CC) -o $@ $^ $(LIBS)\n",
    "clean  :\n",
    "         rm -f $(OBJS) tester\n",
    "```"
   ]
  },
  {
   "cell_type": "markdown",
   "metadata": {},
   "source": [
    "---"
   ]
  },
  {
   "cell_type": "markdown",
   "metadata": {},
   "source": [
    "```bash\n",
    "# source code\n",
    "vim foo.c foo.h bar.c\n",
    "\n",
    "# assembling\n",
    "gcc -a foo.c -o foo.s\n",
    "gcc -a bar.c -o bar.s\n",
    "as\n",
    "\n",
    "# compilation\n",
    "#\n",
    "#     generates object files\n",
    "gcc -c foo.c -o foo.o\n",
    "gcc -c bar.c -o bar.o\n",
    "\n",
    "# linking\n",
    "#\n",
    "#     produces executable `bar`\n",
    "gcc foo.o bar.o -llibZ.a -o foo\n",
    "ld\n",
    "\n",
    "# loading\n",
    "#\n",
    "#     produces process `bar`\n",
    "libc.so # shared library, linked with process `bar`\n",
    "\n",
    "# execute, debug, profile, etc.\n",
    "\n",
    "\n",
    "####################\n",
    "#\n",
    "#     Example of assemble + compile + link\n",
    "#\n",
    "####################\n",
    "gcc hello.c -o hello -g -Wall -O0 -fsanitize=address -I.\n",
    "#                    ^^                                  the compiler generates debug information\n",
    "#                       ^^^^^                            checks\n",
    "#                             ^^^                        disable the compiler optimizations, for debugging\n",
    "#                                 ^^^^^^^^^^^^^^^^^^     AddressSanitizer memory debugger\n",
    "#                                                    ^^^ include data from data files in the working directory\n",
    "```"
   ]
  },
  {
   "cell_type": "markdown",
   "metadata": {},
   "source": [
    "__Static linking__ is the link-time process in which the linker places chunks of __static libraries__ into the source code in order to resolve unresolved symbols. A __statically-linked library__ produces object code which is inserted into the program at link-time.\n",
    "\n",
    "```bash\n",
    "# build an archive of the library, which the linker uses to search for and transfer code into the program\n",
    "ar rcs libMyStaticLibrary.a a.o b.o c.o d.o\n",
    "#  ^                                        replace existing code with the objects\n",
    "#   ^                                       create the library if it doesn't exist\n",
    "#    ^                                      create an index for relocatable code\n",
    "#      ^^^^^^^^^^^^^^^^^^^^                 the name of the static library\n",
    "#                           ^^^^^^^^^^^^^^^ object files\n",
    "```\n",
    "\n",
    "__Dynamic linking__ is the run-time process in which the loader places chunks of dynamically-linked libraries into the process in order to resolve unresolved symbols. A __dynamically-linked library__ produces object code which is inserted into the program at run-time.\n",
    "\n",
    "```bash\n",
    "# all object files to be placed in the dynamically-linked library must be compiled to position-independent code\n",
    "gcc -c a.c -o a.o -fpic -g -Wall\n",
    "gcc -c b.c -o b.o -fpic -g -Wall\n",
    "gcc -c c.c -o c.o -fpic -g -Wall\n",
    "gcc -c d.c -o d.o -fpic -g -Wall\n",
    "\n",
    "# build a loadable version of the library, which the loader uses to launch the program\n",
    "gcc -shared -o libMyDynamicLibrary.so a.o b.o c.o d.o\n",
    "```"
   ]
  },
  {
   "cell_type": "markdown",
   "metadata": {},
   "source": [
    "### C Preprocessor"
   ]
  },
  {
   "cell_type": "markdown",
   "metadata": {},
   "source": [
    "The __C preprocessor__ processes source code files for `#` directives that setup the compile environment.\n",
    "\n",
    "```c\n",
    "#include <stdio.h> /* include data from data file `stdio.h` either in the default directories or on the command line */\n",
    "#include \"foo.h\"   /* include data from data file `foo.h`   in the local directory                                   */\n",
    "\n",
    "#define MY_CONSTANT 10 /* define a symbol to be replaced throughout the program, usually for a constant that might be changed */\n",
    "#undef                 /* */\n",
    "\n",
    "/* macros\n",
    " *\n",
    " *     the `#define` directive can also be used to create simple functions called macros\n",
    " *     macros are not called like functions are, but rather substituted during the preprocessing phase of compilation\n",
    " *     thus, there is no function call overhead on the stack (is this true???)\n",
    " */\n",
    "#define swap (x, y) { int temp = x; x = y; y = temp; }\n",
    "\n",
    "#if\n",
    "#else\n",
    "#endif\n",
    "#ifdef\n",
    "#ifndef\n",
    "```"
   ]
  },
  {
   "cell_type": "markdown",
   "metadata": {},
   "source": [
    "---"
   ]
  },
  {
   "cell_type": "markdown",
   "metadata": {},
   "source": [
    "## Makefile"
   ]
  },
  {
   "cell_type": "markdown",
   "metadata": {},
   "source": [
    "* the target is the thing to build\n",
    "* the prerequisites are the things that the target depends on\n",
    "* the dependencies are relationships between files like `a.c` and `a.o`\n",
    "* productions/rules are statements that include targets, prerequisites, and commands\n",
    "\n",
    "```makefile\n",
    "// run the commands to build the target when any of the prerequisites are out-of-date\n",
    "\n",
    "target : prereq1, prereq2, prereq3, ...\n",
    "<TAB>command1\n",
    "<TAB>command2\n",
    "```"
   ]
  },
  {
   "cell_type": "markdown",
   "metadata": {},
   "source": [
    "builtins\n",
    "* `$@` the current rule target\n",
    "* `$^` the prerequisites\n",
    "* `$<` the first prerequisite"
   ]
  },
  {
   "cell_type": "markdown",
   "metadata": {},
   "source": [
    "1\n",
    "\n",
    "```makefile\n",
    "sample : sample.o support.o\n",
    "    gcc sample.o support.o -o sample\n",
    "\n",
    "sample.o : sample.c support.h\n",
    "    gcc -c sample.c -o sample.o -Wall -I.\n",
    "\n",
    "support.o : support.c support.h\n",
    "    gcc -c support.c -o support.o -Wall -I.\n",
    "```\n",
    "\n",
    "2\n",
    "\n",
    "```makefile\n",
    "OBJECT_FILES = sample.o support.o\n",
    "\n",
    "sample : $(OBJECT_FILES)\n",
    "    gcc $(OBJECT_FILES) -o sample\n",
    "\n",
    "sample.o : sample.c support.h\n",
    "    gcc -c sample.c -o sample.o -Wall -I.\n",
    "\n",
    "support.o : support.c support.h\n",
    "    gcc -c support.c -o support.o -Wall -I.\n",
    "```\n",
    "\n",
    "3\n",
    "\n",
    "```makefile\n",
    "CC = gcc\n",
    "LINK = gcc\n",
    "CFLAGS = -c -Wall -I.\n",
    "OBJECT_FILES = sample.o support.o\n",
    "\n",
    "sample : $(OBJECT_FILES)\n",
    "    $(CC) $^ -o $@\n",
    "\n",
    "sample.o : sample.c support.h\n",
    "    $(CC) $(CFLAGS) sample.c -o $@\n",
    "\n",
    "support.o : support.c support.h\n",
    "    $(CC) $(CFLAGS) support.c -o $@\n",
    "```"
   ]
  },
  {
   "cell_type": "markdown",
   "metadata": {},
   "source": [
    "```bash\n",
    "# assemble + compile\n",
    "gcc -S source.c   # produces `source.s`\n",
    "as     source.s   # produces `source.o`\n",
    "\n",
    "# compile\n",
    "gcc -c source.c   # produces `source.o`\n",
    "\n",
    "# link\n",
    "gcc          source.c -o source   # produces executable file\n",
    "gcc -g -Wall source.c -o source   # view warnings\n",
    "```"
   ]
  },
  {
   "cell_type": "markdown",
   "metadata": {},
   "source": [
    "Source File `.c`\n",
    "\n",
    "Header File `.h`\n",
    "\n",
    "Assembly File `.s`\n",
    "\n",
    "Object File `.o`\n",
    "* contains re-locatable machine code produced by the compiler\n",
    "* generally, cannot be executed without some manipulation (e.g., via a linker)\n",
    "* may contain references to external symbols in other object files: linking will resolve external references\n",
    "\n",
    "Library\n",
    "* a collection of object files\n",
    "\n",
    "Object files and libraries are linked to produce an executable file."
   ]
  },
  {
   "cell_type": "markdown",
   "metadata": {},
   "source": [
    "---\n",
    "---\n",
    "---"
   ]
  },
  {
   "cell_type": "markdown",
   "metadata": {},
   "source": [
    "## Profiling"
   ]
  },
  {
   "cell_type": "markdown",
   "metadata": {},
   "source": [
    "---"
   ]
  },
  {
   "cell_type": "markdown",
   "metadata": {},
   "source": [
    "### `gprof`"
   ]
  },
  {
   "cell_type": "markdown",
   "metadata": {},
   "source": [
    "`gprof` measures a program's performance and behavior\n",
    "\n",
    "```bash\n",
    "gcc -pg -o profiling profiling.c    # 1. compile with flag `-pg`\n",
    "./profiling                         # 2. execute (generates file `gmon.out`)\n",
    "gprof profiling                     # 3. run `gprof`\n",
    "                                    # 4. review, optimize, re-profile\n",
    "```"
   ]
  },
  {
   "cell_type": "markdown",
   "metadata": {},
   "source": [
    "**Amdahl's Law**\n",
    "\n",
    "$k$ is the percentage of total execution time spent in the optimized module(s)\n",
    "\n",
    "$s = \\frac{\\text{original execution time}}{\\text{improved execution time}}$ is the execution time expressed in terms of n-factor speedup (2x, 3x)\n",
    "\n",
    "The overall speedup of the program is expressed as\n",
    "\n",
    "$\n",
    "\\begin{aligned}\n",
    "T = \\frac{1}{(1 - k) + \\frac{k}{s}}\n",
    "\\end  {aligned}\n",
    "$\n",
    "\n",
    "where $1 - k$ is the part of the program that is unchanged and $k/s$ is the ratio of altered program size to speedup"
   ]
  },
  {
   "cell_type": "markdown",
   "metadata": {},
   "source": [
    "EXAMPLE\n",
    "\n",
    "Consider an optimized program module $A$ which represents $45\\%$ of the program run time. The optimization reduces the runtime of the module from $750\\text{ ms}$ to $50\\text{ ms}$. What is the speedup?\n",
    "\n",
    "$\n",
    "\\begin{aligned}\n",
    "k &= 0.45 \\\\\n",
    "s &= \\frac{750}{50} = 15 \\\\\n",
    "T &= \\frac{1}{(1 - 0.45) + \\frac{0.45}{15}} = \\frac{1}{0.55 + 0.03} \\approx 1.72\n",
    "\\end  {aligned}\n",
    "$\n",
    "\n",
    "The program speedup is $1.72$ times."
   ]
  },
  {
   "cell_type": "markdown",
   "metadata": {},
   "source": [
    "EXAMPLE\n",
    "\n",
    "Memory operations take $30\\%$ of the total execution time. A new widget called a cache speeds up $80\\%$ of memory operations by a factor of $4$. A second new widget called an L2 cache speeds up $1/2$ the remaining $20\\%$ by a factor of $2$. What is the total speedup?\n",
    "\n",
    "$\n",
    "\\begin{aligned}\n",
    "k   &= 0.3 \\\\\n",
    "k_1 &= 0.3 \\times 0.8 = 0.24 \\\\\n",
    "s_1 &= 4 \\\\\n",
    "k_2 &= 0.3 \\times \\frac{(1 - 0.8)}{2} = 0.03 \\\\\n",
    "s_2 &= 2 \\\\\n",
    "T   &= \\frac{1}{(1 - k_1 - k_2) + \\frac{k_1}{s_1} + \\frac{k_2}{s_2}} \\\\\n",
    "    &= \\frac{1}{(1 - 0.24 - 0.03) + \\frac{0.24}{4} + \\frac{0.03}{2}} \\\\\n",
    "    &= \\frac{1}{0.73 + 0.06 + 0.015} \\\\\n",
    "    &\\approx 1.24 \\\\\n",
    "\\end  {aligned}\n",
    "$"
   ]
  },
  {
   "cell_type": "markdown",
   "metadata": {},
   "source": [
    "EXAMPLE\n",
    "\n",
    "Consider four modules that are measured prior to optimization and after optimization and suppose that the run time of the original execution is 2000 usec. What is the speedup?\n",
    "\n",
    "module | before (usec) | after (usec)\n",
    "-|-|-\n",
    "A |  200 |  60\n",
    "B |  450 |  11\n",
    "C | 1000 | 600\n",
    "D |  125 |   1\n",
    "\n",
    "---\n",
    "\n",
    "$\n",
    "\\begin{aligned}\n",
    "k_A &= \\frac{200}{2000} = 0.1 \\\\\n",
    "s_A &= \\frac{200}{60} \\approx 3.33 \\\\\n",
    "T_A &= \\frac{1}{(1 - k_A) + \\frac{k_A}{s_A}} \\\\\n",
    "    &= \\frac{1}{(1 - 0.1) + \\frac{0.1}{3.33}} \\\\\n",
    "    &= \\frac{1}{0.9 + 0.03} \\\\\n",
    "    &\\approx 1.075 \\\\\n",
    "\\end  {aligned}\n",
    "$\n",
    "\n",
    "---\n",
    "\n",
    "$\n",
    "\\begin{aligned}\n",
    "k_B &= \\frac{450}{2000} = 0.225 \\\\\n",
    "s_B &= \\frac{450}{11} \\approx 40.91 \\\\\n",
    "T_B &= \\frac{1}{(1 - k_B) + \\frac{k_B}{s_B}} \\\\\n",
    "    &= \\frac{1}{(1 - 0.225) + \\frac{0.225}{40.91}} \\\\\n",
    "    &= \\frac{1}{0.775 + 0.0055} \\\\\n",
    "    &\\approx 1.28 \\\\\n",
    "\\end  {aligned}\n",
    "$\n",
    "\n",
    "---\n",
    "\n",
    "$\n",
    "\\begin{aligned}\n",
    "k_C &= \\frac{1000}{2000} = 0.5 \\\\\n",
    "s_C &= \\frac{1000}{600} \\approx 1.67 \\\\\n",
    "T_C &= \\frac{1}{(1 - k_C) + \\frac{k_C}{s_C}} \\\\\n",
    "    &= \\frac{1}{(1 - 0.5) + \\frac{0.5}{1.67}} \\\\\n",
    "    &= \\frac{1}{0.5 + 0.299} \\\\\n",
    "    &\\approx 1.25 \\\\\n",
    "\\end  {aligned}\n",
    "$\n",
    "\n",
    "---\n",
    "\n",
    "$\n",
    "\\begin{aligned}\n",
    "k_D &= \\frac{125}{2000} = 0.0625 \\\\\n",
    "s_D &= \\frac{125}{1} = 125 \\\\\n",
    "T_D &= \\frac{1}{(1 - k_D) + \\frac{k_D}{s_D}} \\\\\n",
    "    &= \\frac{1}{(1 - 0.0625) + \\frac{0.0625}{125}} \\\\\n",
    "    &= \\frac{1}{0.9375 + 0.0005} \\\\\n",
    "    &\\approx 1.066 \\\\\n",
    "\\end  {aligned}\n",
    "$\n",
    "\n",
    "---\n",
    "\n",
    "$1.075 \\times 1.28 \\times 1.25 \\times 1.066 \\approx 1.8335$"
   ]
  },
  {
   "cell_type": "markdown",
   "metadata": {},
   "source": [
    "$\n",
    "\\begin{aligned}\n",
    "k_A &= \\frac{ 200}{2000} =        0.1    \\\\\n",
    "k_B &= \\frac{ 450}{2000} =        0.225  \\\\\n",
    "k_C &= \\frac{1000}{2000} =        0.5    \\\\\n",
    "k_D &= \\frac{ 125}{2000} =        0.0625 \\\\\n",
    "s_A &= \\frac{ 200}{  60} \\approx  3.33   \\\\\n",
    "s_B &= \\frac{ 450}{  11} \\approx 40.91   \\\\\n",
    "s_C &= \\frac{1000}{ 600} \\approx  1.67   \\\\\n",
    "s_D &= \\frac{ 125}{   1} =      125      \\\\\n",
    "T_D &= \\frac{1}{(1 - k_A - k_B - k_C - k_D) + \\frac{k_A}{s_A} + \\frac{k_B}{s_B} + \\frac{k_C}{s_C} + \\frac{k_D}{s_D}} \\\\\n",
    "    &= \\frac{1}{(1 - 0.1 - 0.225 - 0.5 - 0.0625) + \\frac{0.1}{3.33} + \\frac{0.225}{40.91} + \\frac{0.5}{1.67} + \\frac{0.0625}{125}} \\\\\n",
    "    &= \\frac{1}{0.1125 + 0.03 + 0.0055 + 0.299 + 0.0005} \\\\\n",
    "    &= \\frac{1}{0.4475} \\\\\n",
    "    &\\approx 2.235 \\\\\n",
    "\\end  {aligned}\n",
    "$"
   ]
  },
  {
   "cell_type": "markdown",
   "metadata": {},
   "source": [
    "---"
   ]
  },
  {
   "cell_type": "markdown",
   "metadata": {},
   "source": [
    "## Concurrency"
   ]
  },
  {
   "cell_type": "markdown",
   "metadata": {},
   "source": [
    "***Sequential processing***: processing a network connection as it arrives and fulfilling the exchange completely; connections are processed in sequence of their arrival.\n",
    "\n",
    "```c\n",
    "listen_fd = Listen(port);\n",
    "\n",
    "while (1) {\n",
    "  client_fd = accept(listen_fd);\n",
    "  buf = read(client_fd);\n",
    "  write(client_fd, buf);\n",
    "  close(client_fd);\n",
    "}\n",
    "```\n",
    "\n",
    "the benefits of sequential processing\n",
    "* it is simple to implement\n",
    "* there is very little persistent state to maintain\n",
    "* there are few complex error conditions\n",
    "\n",
    "the disadvantes of sequential processing\n",
    "* sometimes there is poor performance: one slow client causes all others to block; this is poor utilization of the network and the CPU"
   ]
  },
  {
   "cell_type": "markdown",
   "metadata": {},
   "source": [
    "**Concurrent processing**: process multiple requests concurrently\n",
    "\n",
    "Approaches to concurrent server design\n",
    "* asynchronous servers `select()`\n",
    "* multiprocess servers `fork()`\n",
    "* multithreaded servers `pthreads`"
   ]
  },
  {
   "cell_type": "markdown",
   "metadata": {},
   "source": [
    "**Concurrency with processes**\n",
    "\n",
    "The server process blocks on `accept()` and waits for a new client to connect. When a new connection arrives the parent calls `fork()` to create another process. The child process handles the new connection and `exit()`s when the connection terminates. Children become zombies after death: use `wait()` to reap the children.\n",
    "\n",
    "`fork` creates a new process by duplicating the calling process: the new child process is an exact duplicate of the calling parent process except that it has its own PID and pending signal queue. `fork` returns 0 for the child process or the child's PID in the parent code.\n",
    "\n",
    "```c\n",
    "pid_t fork (void);\n",
    "/* creates a new child by duplicating the calling parent process\n",
    " *       the new child process is an exact duplicate, except that it has its own PID and pending signal queue\n",
    " *\n",
    " * returns\n",
    " *     0 for the child process\n",
    " *     child's PID in the parent code\n",
    " */\n",
    "\n",
    "void exit (int status);\n",
    "/* causes normal process termination with a return value\n",
    " * status is sent to the calling parent process\n",
    " * `return` is a keyword which returns (a value) from a function\n",
    " * `exit` is a function which eventually calls the system call `_exit`: it terminates the process immediately and returns the status to the parent\n",
    " */\n",
    "\n",
    "pid_t wait (int *status);\n",
    "/*          ^^^^^^^^^^^ the return value that is set by the child process\n",
    " *\n",
    " * used to wait for state changes in a child of the calling process\n",
    " *\n",
    " * returns\n",
    " *     child PID\n",
    " */\n",
    "```"
   ]
  },
  {
   "cell_type": "markdown",
   "metadata": {},
   "source": [
    "**Concurrency with threads**\n",
    "\n",
    "A single process handles all the connections, but a parent thread forks (dispatches) a new thread to handle each connection. The child thread handles the new connection and exits when the connection terminates. As many threads can be created as one wants, up to the limits of the system.\n",
    "\n",
    "A ***thread*** is an independent stream of instructions that can be scheduled to run as such by the OS. To the software developer, a thread is a procedure that runs independently of its main program. Imagine a main program that contains a number of procedures, and imagine that all the procedures can be scheduled to run simultaneously with (or independently of) the OS. This is ***multi-threaded***\n",
    "\n",
    "* accept\n",
    "* pthread_create\n",
    "\n",
    "The indpendent flow of control is accomplished because a thread maintains its own\n",
    "* stack pointer\n",
    "* registers\n",
    "* scheduling properties (such as policy or priority)\n",
    "* set of pending and blocked signals\n",
    "* thread specific data\n",
    "\n",
    "A thread exists within a process and uses the process's resources. It has its own independent flow of control as long as its parent process exists and the OS supports it. A thread duplicates only the essential resources it needs to be independently schedulable. It may share process resources with other threads that act equally as independently. A thread dies if the parent process dies. A thread is lightweight because most of the overhead has already been accomplished through the creation of its process.\n",
    "\n",
    "Since threads within the same process share resources changes made by one thread (such as closing a file) will be seen by all other threads; two pointers having the same value point to the same data; reading and writing to the same memory locations is possible and so requires explicit synchronization by the programmer. Shared data between threads can cause conflicts, deadlocks, etc.\n",
    "\n",
    "Thread control\n",
    "* main\n",
    "  * `pthread_create()` create a thread\n",
    "  * `pthread_join()` wait for the thread to finish\n",
    "* thread\n",
    "  * begins as a function pointer\n",
    "  * runs until `return` or `pthread_exit`\n",
    "* library support\n",
    "  * `#include <pthread.h>`\n",
    "  * compile with option `-lpthread` to link with the pthread library"
   ]
  },
  {
   "cell_type": "markdown",
   "metadata": {},
   "source": [
    "```c\n",
    "pthread_t pthread_self (void);\n",
    "/* returns the ID of the calling thread\n",
    " */\n",
    "\n",
    "int pthread_create (pthread_t *thread, const pthread_attr_t *attr, void *(*start_routine) (void *), void *arg);\n",
    "/*                  ^^^^^^^^^^^^^^^^^                                                                           a pthread library structure which contains thread information\n",
    " *                                     ^^^^^^^^^^^^^^^^^^^^^^^^^^                                               a set of attributes to apply to the thread\n",
    " *                                                                 ^^^^^^^^^^^^^^^^^^^^^^^^^^^^^^^              the thread function pointer\n",
    " *                                                                                                  ^^^^^^^^^   an opaque data pointer to pass to the thread\n",
    " *\n",
    " * starts a new thread in the calling process\n",
    " * the thread becomes alive, it may even run before pthread_create returns\n",
    " *\n",
    " * returns\n",
    " *     0                   on success\n",
    " *     non-zero error code on failure\n",
    " */\n",
    "\n",
    "int pthread_join (pthread_t thread, void **retval);\n",
    "/*                ^^^^^^^^^^^^^^^^                  a pthread library structure which contains thread info\n",
    " *                                  ^^^^^^^^^^^^^   a pointer to a pointer to a return value\n",
    " *\n",
    " * `pthread_join` waits for the thread to terminate\n",
    " *\n",
    " * returns\n",
    " *     0                   on success\n",
    " *     non-zero error code on failure\n",
    " */\n",
    "\n",
    "void pthread_exit (void *retval);\n",
    "/*                 ^^^^^^^^^^^^   a pointer to a return value\n",
    " *\n",
    " *  `pthread_exit` terminates the calling thread and returns a value\n",
    " */\n",
    "```"
   ]
  },
  {
   "cell_type": "markdown",
   "metadata": {},
   "source": [
    "**Race Condition**\n",
    "\n",
    "A race condition occurs when the outcome of a program depends on the interleaving of the execution of multiple threads accessing a critical section.\n",
    "\n",
    "A critical section is a piece of code that accesses a shared variable and must not be concurrently executed by more than one thread.\n",
    "\n",
    "\n",
    "Each instruction is executed atomically. Multiple threads executing these instructions can result in different interleavings (and outcomes) due to uncontrollable OS scheduling.\n",
    "```assembly\n",
    "mov  0x2e50(%rip),%eax  # 4014 <counter>\n",
    "add  $0x1,%eax\n",
    "mov  %eax,0x2e47(%rip)  # 4014 <counter>\n",
    "```\n",
    "\n",
    "**Avoiding race conditions**\n",
    "\n",
    "To avoid a race condition it must be ensured that only a single thread can execute a critical section at any given time.\n",
    "\n",
    "Atomics: modifying a variable results in a single CPU instruction\n",
    "\n",
    "```c\n",
    "#include <stdatomic.h>\n",
    "```\n",
    "\n",
    "In general, a critical section may contain complex logic. Primitives for mutual exclusion are needed--a guarantee that only one thread is executing the critical section while others are prevented from doing so. One way to achieve mutual exclusion is via locks\n",
    "\n",
    "```c\n",
    "lock_t mutex\n",
    "lock(&mutex)\n",
    "critical_section\n",
    "unlock(&mutex)\n",
    "```\n",
    "\n",
    "Advantages of threads\n",
    "* much of the code is identical\n",
    "* parallel execution: good CPU and network utilization\n",
    "* lower overhead than processes\n",
    "* shared-memory communication is possible\n",
    "\n",
    "Disadvantages\n",
    "* synchronization is complicated\n",
    "* shared fate within a process: one rogue thread can hurt you\n",
    "* relatively insecure, no isolation"
   ]
  },
  {
   "cell_type": "markdown",
   "metadata": {},
   "source": [
    "---"
   ]
  },
  {
   "cell_type": "markdown",
   "metadata": {},
   "source": [
    "Network connections are processed in the ___sequence___ of their arrival. Sequential processing is relatively simple to implement, has relatively little persistent state to maintain, and has relatively few complex error conditions; but may have poor performance if a slow client blocks all the others, and poorly utilizes the network or CPU.\n",
    "\n",
    "```c\n",
    "listen_fd = Listen(port);\n",
    "while (1) {\n",
    "  client_fd = accept(listen_fd);\n",
    "  buf       = read(client_fd);\n",
    "  write(client_fd, buf);\n",
    "  close(client_fd);\n",
    "}\n",
    "```"
   ]
  },
  {
   "cell_type": "markdown",
   "metadata": {},
   "source": [
    "### Multi Processing"
   ]
  },
  {
   "cell_type": "markdown",
   "metadata": {},
   "source": [
    "### Multi Threading"
   ]
  },
  {
   "cell_type": "markdown",
   "metadata": {},
   "source": [
    "Multithreading: a single process handles all connections\n",
    "* a parent thread dispatches/forks a new, child thread to handle each connection\n",
    "* a child thread handles a connection and exits when the connection terminates\n",
    "* one can create as many threads as desired, up to system limits\n",
    "* \"forking multiple threads of execution in one process\"\n",
    "* multiple threads share the same code and the same heap (but have different registers and different stacks) (shared data structures?)\n",
    "* the independency of threads is maintained via its own stack pointer, registers, scheduling properties (policy, priority, etc.), set of pending and blocked signals, and thread-specific data\n",
    "\n",
    "A __thread__ is an independent stream of instructions that can be scheduled to run as such by the OS. From the perspective of the developer, a thread is a procedure that runs independently of its main program. A multi-threaded program can be viewed as a main program that consists of a collection of procedures which are scheduled to run independently, or simultaneously.\n",
    "\n",
    "* a thread exists within a process, and uses the process's resources, which it may share with other threads; if a thread modifies shared process resources then the modifications are seen be all other threads\n",
    "  * closing a file\n",
    "  * two pointers with the same value point to the same data\n",
    "  * it is possible to read/write to the same memory location\n",
    "* as long as its process exists, and the OS supports it, a thread has its own, independent control flow\n",
    "* a thread replicates only those resources which it requires to be indepentantly schedulable\n",
    "* a thread dies when its process dies\n",
    "* a thread is lightweight in the sense that most of its overhead has already been handled via the creation of its process"
   ]
  },
  {
   "cell_type": "markdown",
   "metadata": {},
   "source": [
    "```c\n",
    "/* server */\n",
    "accept();         // client 1 connects to parent thread\n",
    "pthread_create(); // client 1 connection transfers to child thread 1\n",
    "accept();         // client 2 connects to parent thread\n",
    "pthread_create(); // client 2 connection transfers to child thread 2\n",
    "```"
   ]
  },
  {
   "cell_type": "markdown",
   "metadata": {},
   "source": [
    "```c\n",
    "/* thread.c */\n",
    "\n",
    "#include <pthread.h>\n",
    "\n",
    "int main (int argc, char** argv) {\n",
    "\n",
    "  pthread_create (pthread_t* thread, const pthread_attr_t* attr, void* (*start_routine)(void *), void* arg)\n",
    "  /*              ^^^^^^^^^^^^^^^^^                                                                         a pthread library struct, holding thread info\n",
    "   *                                 ^^^^^^^^^^^^^^^^^^^^^^^^^^                                             a set of attributes to apply to the thread\n",
    "   *                                                             ^^^^^^^^^^^^^^^^^^^^^^^^^^^^^^             the function pointer\n",
    "   *                                                                                             ^^^^^^^^^  an opaque data pointer to pass to the thread\n",
    "   *\n",
    "   * pthread_create - start a new thread in the calling process\n",
    "   * the thread starts at the function pointer, and may be executed before `pthread_create` returns or `pthread_exit`\n",
    "   */\n",
    "\n",
    "  pthread_self ()\n",
    "\n",
    "  pthread_join (pthread_t* thread, void** retval)\n",
    "  /*            ^^^^^^^^^^^^^^^^^                 a pthread library struct, holding thread info\n",
    "   *                               ^^^^^^^^^^^^^  a pointer to a pointer to a return value\n",
    "   *\n",
    "   * wait for a thread to terminate (maybe)\n",
    "   */\n",
    "\n",
    "  pthread_exit (void* retval)\n",
    "  /*            ^^^^^^^^^^^^  a pointer to a return value\n",
    "   *\n",
    "   * pthread_exit - terminates the calling thread, and returns a value\n",
    "   */\n",
    "\n",
    "  return 0;\n",
    "}\n",
    "```\n",
    "```bash\n",
    "gcc -lpthread -g -Wall -O0 thread.c -o thread\n",
    "```"
   ]
  },
  {
   "cell_type": "markdown",
   "metadata": {},
   "source": [
    "---"
   ]
  },
  {
   "cell_type": "markdown",
   "metadata": {},
   "source": [
    "```c\n",
    "/* thread_no_args.c */\n",
    "\n",
    "#include <pthread.h> /* pthread_create, pthread_join, pthread_self, pthread_t */\n",
    "#include <stdio.h>   /* printf */\n",
    "\n",
    "void* func (void* arg) {\n",
    "  printf(\"Hello from thread %lx\\n\", pthread_self());\n",
    "  return NULL;\n",
    "}\n",
    "\n",
    "int main (int argc, char** argv) {\n",
    "  pthread_t t1, t2, t3;\n",
    "  printf(\"main thread %lx starting a new thread\\n\", pthread_self());\n",
    "\n",
    "  pthread_create(&t1, NULL, func, NULL);\n",
    "  pthread_create(&t2, NULL, func, NULL);\n",
    "  pthread_create(&t3, NULL, func, NULL);\n",
    "\n",
    "  pthread_join(t1, NULL);\n",
    "  pthread_join(t2, NULL);\n",
    "  pthread_join(t3, NULL);\n",
    "\n",
    "  return 0;\n",
    "}\n",
    "```"
   ]
  },
  {
   "cell_type": "markdown",
   "metadata": {},
   "source": [
    "---"
   ]
  },
  {
   "cell_type": "markdown",
   "metadata": {},
   "source": [
    "```c\n",
    "/* thread_1_arg.c */\n",
    "\n",
    "#include <pthread.h> /* pthread_create, pthread_join, pthread_self, pthread_t */\n",
    "#include <stdio.h>   /* printf */\n",
    "\n",
    "void* func (void* arg) {\n",
    "  char* s = (char *) arg;\n",
    "  printf(\"Hello from thread %s\\n\", s);\n",
    "  return NULL;\n",
    "}\n",
    "\n",
    "int main (int argc, char** argv) {\n",
    "  pthread_t t1, t2, t3;\n",
    "\n",
    "  pthread_create(&t1, NULL, func, \"a\");\n",
    "  pthread_create(&t2, NULL, func, \"b\");\n",
    "  pthread_create(&t3, NULL, func, \"c\");\n",
    "\n",
    "  pthread_join(t1, NULL);\n",
    "  pthread_join(t2, NULL);\n",
    "  pthread_join(t3, NULL);\n",
    "\n",
    "  return 0;\n",
    "}\n",
    "```"
   ]
  },
  {
   "cell_type": "markdown",
   "metadata": {},
   "source": [
    "---"
   ]
  },
  {
   "cell_type": "markdown",
   "metadata": {},
   "source": [
    "```c\n",
    "/* thread_multiple_args.c\n",
    " *\n",
    " *     this is, effectively, a procedure call - why?\n",
    " */\n",
    "\n",
    "#include <pthread.h> /* pthread_create, pthread_join, pthread_self, pthread_t */\n",
    "#include <stdio.h>   /* printf */\n",
    "\n",
    "typedef struct {\n",
    "  int num;\n",
    "  const char* str;\n",
    "} foo_t;\n",
    "\n",
    "void* func (void* arg) {\n",
    "  foo_t* val = arg;\n",
    "  printf(\"thread %lx was passed values %d, %s\\n\", pthread_self(), val->num, val->str);\n",
    "  return NULL;\n",
    "}\n",
    "\n",
    "int main (int argc, char** argv) {\n",
    "  foo_t v = {5678, \"bar\"};\n",
    "\n",
    "  pthread_t t;\n",
    "\n",
    "  printf(\"main thread %lx starting a new thread\\n\", pthread_self());\n",
    "\n",
    "  pthread_create(&t, NULL, func, &v);\n",
    "\n",
    "  pthread_join(t, NULL);\n",
    "\n",
    "  return 0;\n",
    "}\n",
    "```"
   ]
  },
  {
   "cell_type": "markdown",
   "metadata": {},
   "source": [
    "---"
   ]
  },
  {
   "cell_type": "markdown",
   "metadata": {},
   "source": [
    "```c\n",
    "/* thread_returning_values.c */\n",
    "\n",
    "#include <ctype.h>   /* toupper */\n",
    "#include <pthread.h> /* pthread_create, pthread_join, pthread_self, pthread_t */\n",
    "#include <stdio.h>   /* printf */\n",
    "#include <stdlib.h>  /* malloc */\n",
    "#include <string.h>  /* strcpy, strlen */\n",
    "\n",
    "typedef struct {\n",
    "  int num;\n",
    "  char* str;\n",
    "} foo_t;\n",
    "\n",
    "void* func (void* arg) {\n",
    "  foo_t* a = arg;\n",
    "  foo_t* b = malloc(sizeof(foo_t));\n",
    "  b->num = a->num * 2;\n",
    "  b->str = malloc(strlen(a->str) + 1);\n",
    "  strcpy(b->str, a->str);\n",
    "  for (char* p = b->str; *p; ++p) {\n",
    "    *p = toupper(*p);\n",
    "  }\n",
    "\n",
    "  return b;\n",
    "}\n",
    "\n",
    "int main (int argc, char** argv) {\n",
    "  foo_t v = {5678, \"bar\"};\n",
    "  foo_t* p;\n",
    "\n",
    "  pthread_t t;\n",
    "\n",
    "  printf(\"main thread %lx starting a new thread\\n\", pthread_self());\n",
    "\n",
    "  pthread_create(&t, NULL, func, &v);\n",
    "\n",
    "  pthread_join(t, (void**) &p);\n",
    "\n",
    "  printf(\"thread returned num = %d, str = %s\\n\", p->num, p->str);\n",
    "\n",
    "  return 0;\n",
    "}\n",
    "```"
   ]
  },
  {
   "cell_type": "markdown",
   "metadata": {},
   "source": [
    "```c\n",
    "/* thread_returning_values_bad.c */\n",
    "\n",
    "#include <pthread.h> /* pthread_create, pthread_join, pthread_self, pthread_t */\n",
    "#include <stdio.h>   /* printf */\n",
    "\n",
    "typedef struct {\n",
    "  int num;\n",
    "  const char* str;\n",
    "} foo_t;\n",
    "\n",
    "void* func (void* arg) {\n",
    "  foo_t p;\n",
    "  // fill p\n",
    "  return &p; //    <-- segfaults, bc returns a pointer to a stack-allocated local variable\n",
    "}\n",
    "\n",
    "int main (int argc, char** argv) {\n",
    "  foo_t v = {5678, \"bar\"};\n",
    "  foo_t* p;\n",
    "\n",
    "  pthread_t t;\n",
    "\n",
    "  printf(\"main thread %lx starting a new thread\\n\", pthread_self());\n",
    "\n",
    "  pthread_create(&t, NULL, func, &v);\n",
    "  pthread_join(t, (void**) &p);\n",
    "\n",
    "  printf(\"thread returned num = %d, str = %s\\n\", p->num, p->str);\n",
    "\n",
    "  return 0;\n",
    "}\n",
    "```\n",
    "```bash\n",
    "$ ./thread_returning_values_bad \n",
    "main thread 7fab984ec0 starting a new thread\n",
    "Segmentation fault\n",
    "```"
   ]
  },
  {
   "cell_type": "markdown",
   "metadata": {},
   "source": [
    "---"
   ]
  },
  {
   "cell_type": "markdown",
   "metadata": {},
   "source": [
    "### Race Conditions and Mutual Exclusion"
   ]
  },
  {
   "cell_type": "markdown",
   "metadata": {},
   "source": [
    "A __race condition__ occurs when the result of a program depends on the interleaving of the execution of multiple threads that are accessing a critical section.\n",
    "\n",
    "A __critical section__ is a piece of code that accesses a shared piece of data, and which must not be executed by more than one thread concurrently.\n",
    "\n",
    "To avoid race conditions, it must be ensured that only a single thread can execute a critical section at a given time. __Mutual exclusion__ primitives would guaranteee that only one thread is executing the critical section while others are prevented from doing so.\n",
    "* atomics\n",
    "* locks"
   ]
  },
  {
   "cell_type": "markdown",
   "metadata": {},
   "source": [
    "```c\n",
    "/* threads_no_mutex.c */\n",
    "\n",
    "#include <pthread.h> /* pthread_create, pthread_join, pthread_self, pthread_t */\n",
    "#include <stdio.h>   /* printf */\n",
    "\n",
    "static int counter = 0;\n",
    "\n",
    "void* func (void* arg) {\n",
    "  for (int i = 0; i < 5000; ++i) {\n",
    "    ++counter;\n",
    "  }\n",
    "  return NULL;\n",
    "}\n",
    "\n",
    "int main (int argc, char** argv) {\n",
    "  pthread_t t1, t2;\n",
    "\n",
    "  printf(\"counter = %d\\n\", counter);\n",
    "\n",
    "  pthread_create(&t1, NULL, func, NULL);\n",
    "  pthread_create(&t2, NULL, func, NULL);\n",
    "  pthread_join(t1, NULL);\n",
    "  pthread_join(t2, NULL);\n",
    "\n",
    "  printf(\"both threads completed, counter = %d\\n\", counter);\n",
    "\n",
    "  return 0;\n",
    "}\n",
    "```"
   ]
  },
  {
   "cell_type": "markdown",
   "metadata": {},
   "source": [
    "If more than one thread executes the following instructions, the program produces nondeterministic output (due to uncontrollable OS scheduling)\n",
    "\n",
    "```txt\n",
    "mov  0x2e50(%rip),%eax    # 4014 <counter>\n",
    "add  0x1,%eax\n",
    "mov  %eax,0x2e47(%rip)    # 4015 <counter>\n",
    "```\n",
    "\n",
    "one possible interleaving:\n",
    "\n",
    "```txt\n",
    "                             (values after the instruction)\n",
    "OS          T1    T2         program_counter    eax    counter\n",
    "(before critical section)    100                 0     50\n",
    "            mov 8049a1c,%eax 105                50     50      <-- copy the value in variable `counter` (50) to register `eax`\n",
    "            add $0x1,%eax    108                51     50      <-- add 1 to the value in register `eax` (51 = 1 + 50)\n",
    "interrupt\n",
    "save T1\n",
    "restore T2                   100                 0     50\n",
    "            mov 8049a1c,%eax 105                50     50      <-- copy the value in variable `counter` (50) to register `eax`\n",
    "            add $0x1,%eax    108                51     50      <-- add 1 to the value in register `eax` (51 = 1 + 50)\n",
    "            mov %eax,8049a1c 113                51     51      <-- copy the value in register `eax` (51) to variable `counter` (which is currently 50)\n",
    "interrupt\n",
    "save T2\n",
    "restore T1                   108                51     51\n",
    "            mov %eax,8049a1c 113                51     51      <-- copy the value in register `eax` (51) to variable `counter` (which is already 51)\n",
    "```"
   ]
  },
  {
   "cell_type": "markdown",
   "metadata": {},
   "source": [
    "#### atomics"
   ]
  },
  {
   "cell_type": "markdown",
   "metadata": {},
   "source": [
    "```c\n",
    "/* threads_mutex_via_atomics.c */\n",
    "\n",
    "#include <pthread.h>   /* pthread_create, pthread_join, pthread_self, pthread_t */\n",
    "#include <stdatomic.h> /* atomic_int - modifying a variable results in a single CPU instruction */\n",
    "#include <stdio.h>     /* printf */\n",
    "\n",
    "static atomic_int counter = 0;\n",
    "\n",
    "void* func (void* arg) {\n",
    "  for (int i = 0; i < 5000; ++i) {\n",
    "    ++counter;\n",
    "  }\n",
    "  return NULL;\n",
    "}\n",
    "\n",
    "int main (int argc, char** argv) {\n",
    "  pthread_t t1, t2;\n",
    "\n",
    "  printf(\"counter = %d\\n\", counter);\n",
    "\n",
    "  pthread_create(&t1, NULL, func, NULL);\n",
    "  pthread_create(&t2, NULL, func, NULL);\n",
    "  pthread_join(t1, NULL);\n",
    "  pthread_join(t2, NULL);\n",
    "\n",
    "  printf(\"both threads completed, counter = %d\\n\", counter);\n",
    "\n",
    "  return 0;\n",
    "}\n",
    "```"
   ]
  },
  {
   "cell_type": "markdown",
   "metadata": {},
   "source": [
    "#### Locks"
   ]
  },
  {
   "cell_type": "markdown",
   "metadata": {},
   "source": [
    "```c\n",
    "/* threads_mutex_via_locks.c */\n",
    "\n",
    "#include <pthread.h>   /* pthread_create, pthread_join, PTHREAD_MUTEX_INITIALIZER, pthread_mutex_lock, pthread_mutex_t, pthread_mutex_unlock, pthread_self, pthread_t */\n",
    "#include <stdio.h>     /* printf */\n",
    "\n",
    "static int counter = 0;\n",
    "pthread_mutex_t lock = PTHREAD_MUTEX_INITIALIZER;\n",
    "\n",
    "void* func (void* arg) {\n",
    "  for (int i = 0; i < 5000; ++i) {\n",
    "    pthread_mutex_lock(&lock);   //\n",
    "    ++counter;                   //  <--  critical section\n",
    "    pthread_mutex_unlock(&lock); //\n",
    "  }\n",
    "  return NULL;\n",
    "}\n",
    "\n",
    "int main (int argc, char** argv) {\n",
    "  pthread_t t1, t2;\n",
    "\n",
    "  printf(\"counter = %d\\n\", counter);\n",
    "\n",
    "  pthread_create(&t1, NULL, func, NULL);\n",
    "  pthread_create(&t2, NULL, func, NULL);\n",
    "  pthread_join(t1, NULL);\n",
    "  pthread_join(t2, NULL);\n",
    "\n",
    "  printf(\"both threads completed, counter = %d\\n\", counter);\n",
    "\n",
    "  return 0;\n",
    "}\n",
    "```"
   ]
  },
  {
   "cell_type": "markdown",
   "metadata": {},
   "source": [
    "---\n",
    "---\n",
    "---"
   ]
  },
  {
   "cell_type": "markdown",
   "metadata": {},
   "source": [
    "## Resources"
   ]
  },
  {
   "cell_type": "markdown",
   "metadata": {},
   "source": [
    "Tools and Technologies\n",
    "* [ [h](https://clang.llvm.org/) ][ [w](https://en.wikipedia.org/wiki/Clang) ] Clang\n",
    "* [ [h](https://gcc.gnu.org/) ][ [w](https://en.wikipedia.org/wiki/GNU_Compiler_Collection) ] GCC\n",
    "* [ [h](https://www.sourceware.org/gdb/) ][ [w](https://en.wikipedia.org/wiki/GNU_Debugger) ] GDB\n",
    "* [ [h](https://valgrind.org/) ][ [w](https://en.wikipedia.org/wiki/Valgrind) ] Valgrind\n",
    "* [ [h](https://www.virtualbox.org/) ][ w ] VirtualBox\n",
    "\n",
    "Courses\n",
    "* [ [h](https://www.cc4e.com/) ] C Programming for Everybody\n",
    "\n",
    "Online\n",
    "* [ [h](https://wiki.sei.cmu.edu/confluence/display/c/SEI+CERT+C+Coding+Standard) ] SEI CERT C Coding Standard\n",
    "  * https://www.cylab.cmu.edu/education/course-list/secure-coding.html\n",
    "* [ [reddit](https://www.reddit.com/r/C_Programming/) ] C Programming\n",
    "  * https://www.reddit.com/r/C_Programming/comments/138i93g/please_suggest_me_an_advanced_c_programming_book/\n",
    "\n",
    "### YouTube\n",
    "\n",
    "Chris Kanich\n",
    "* [ [y](https://www.youtube.com/watch?v=85T_ZaT8EUI) ] `12-02-2020` \"what's the difference between processes, threads, and io multiplexing?\"\n",
    "* [ [y](https://www.youtube.com/watch?v=XXfdzwEsxFk) ] `11-17-2020` \"The Linux socket API explained\".\n",
    "* [ [y](https://www.youtube.com/watch?v=8hVLcyBkSXY) ] `11-03-2020` \"understanding mmap, the workhorse behind keeping memory access efficient in linux\".\n",
    "* [ [y](https://www.youtube.com/watch?v=rW_NV6rf0rM) ] `10-08-2020` \"What's behind a file descriptor in Linux? Also, i/o redirection with dup2.\".\n",
    "* [ [y](https://www.youtube.com/watch?v=ayMPFUGE_b4) ] `10-08-2020` \"Interacting with files in Linux\".\n",
    "* [ [y](https://www.youtube.com/watch?v=RU0ULe2f6hI) ] `09-30-2020` \"Signal handling in Linux\".\n",
    "* [ [y](https://www.youtube.com/watch?v=uRYyj8tcDTE) ] `09-23-2020` \"Moving beyond fork() for process creation in Linux\".\n",
    "* [ [y](https://www.youtube.com/watch?v=WkuKhLYtUHw) ] `09-16-2020` \"Introduction to Processes in Linux\".\n",
    "* [ [y](https://www.youtube.com/watch?v=E804eTETaQs) ] `09-02-2020` \"Linux Executable Symbol Relocation Explained\".\n",
    "* [ [y](https://www.youtube.com/watch?v=6XVUIeAaROU) ] `09-01-2020` \"How do linkers resolve symbols? Systems Programming CS Lecture\".\n",
    "\n",
    "freeCodeCamp\n",
    "* [ [y](https://www.youtube.com/watch?v=PaPN51Mm5qQ) ] `05-29-2024` \"Learn C Programming and OOP with Dr. Chuck [feat. classic book by Kernighan and Ritchie]\".\n",
    "* [ [y](https://www.youtube.com/watch?v=j-_s8f5K30I) ] `08-18-2022` \"Dr. Chuck reads C Programming (the classic book by Kernigan and Ritchie)\".\n",
    "* [ [y](https://www.youtube.com/watch?v=B31LgI4Y4DQ) ] `01-27-2021` \"Data Structures - Full Course Using C and C++\".\n",
    "* [ [y](https://www.youtube.com/watch?v=KJgsSFOSQv0) ] `08-15-2018` \"C Programming Tutorial for Beginners\".\n",
    "\n",
    "Jacob Sorber\n",
    "* [ [y](https://www.youtube.com/watch?v=yN6EGfv5Dew) ] `06-03-2023`. \"How to get an IP address from a host name? (Example in C)\".\n",
    "* [ [y](https://www.youtube.com/watch?v=il4N6KjVQ-s) ] `02-28-2023`. \"Sockets and Pipes Look Like Files (Unix/fdopen)\".\n",
    "* [ [y](https://www.youtube.com/watch?v=q-BvQgZVRGA) ] `05-31-2022`. \"Detect Corruption with a Checksum\".\n",
    "* [ [y](https://www.youtube.com/watch?v=iF2F0YIgxy4) ] `07-27-2021`. \"Highlighting a Student Programming Project (Code Review)\".\n",
    "* [ [y](https://www.youtube.com/watch?v=t_vM_8TLjFE) ] `06-01-2021`. \"Why are Progress Bars Always Wrong? Progress Bar Example in C.\".\n",
    "* [ [y](https://www.youtube.com/watch?v=daA-KBKfJ_o) ] `11-04-2020`. \"Easy Networking in C (libcurl)\".\n",
    "* [ [y](https://www.youtube.com/watch?v=Y6pFtgRdUts) ] `02-18-2020`. \"How one thread listens to many sockets with select in C.\".\n",
    "* [ [y](https://www.youtube.com/watch?v=P6Z5K8zmEmc) ] `10-24-2019`. \"How to write a multithreaded webserver using condition variables (Part 3)\".\n",
    "* [ [y](https://www.youtube.com/watch?v=FMNnusHqjpw) ] `10-08-2019`. \"Multithreaded Server Part 2: Thread Pools\".\n",
    "* [ [y](https://www.youtube.com/watch?v=Pg_4Jz8ZIH4) ] `09-20-2019`. \"How to write a multithreaded server in C (threads, sockets)\".\n",
    "* [ [y](https://www.youtube.com/watch?v=OoHich9BPxg) ] `01-30-2019`. \"Dealing with Endianness Issues in your Programs\".\n",
    "* [ [y](https://www.youtube.com/watch?v=1jv428xKsRg) ] `12-04-2018`. \"Socket servers can get client addresses. (accept, inet_ntop)\".\n",
    "* [ [y](https://www.youtube.com/watch?v=esXw4bdaZkc) ] `11-20-2018`. \"Program your own web server in C. (sockets)\".\n",
    "* [ [y](https://www.youtube.com/watch?v=bdIiTxtMaKA) ] `10-12-2018`. \"How to build a web client? (sockets)\".\n",
    "\n",
    "More\n",
    "* [ [y](https://www.youtube.com/watch?v=xf2W1wZozbk) ] `05-29-2024` Cococry. \"Make a GUI Task Management App in pure C (no bloat required)\".\n",
    "* [ [y](https://www.youtube.com/watch?v=d0gS5TXarXc) ] `04-11-2024` kimylamp. \"Signals. I spent 2 years to understand this part.\"."
   ]
  },
  {
   "cell_type": "markdown",
   "metadata": {},
   "source": [
    "[ h ][ [w](https://en.wikipedia.org/wiki/Berkeley_Packet_Filter) ] Berkeley Packet Filter (BPF)"
   ]
  },
  {
   "cell_type": "markdown",
   "metadata": {},
   "source": [
    "* [ [y](https://www.youtube.com/watch?v=sWbUDq4S6Y8) ] `02-23-2023` freeCodeCamp. \"Introduction to Linux – Full Course for Beginners\". YouTube."
   ]
  },
  {
   "cell_type": "markdown",
   "metadata": {},
   "source": [
    "* [ [y](https://www.youtube.com/watch?v=2HrYIl6GpYg) ] `11-25-2023` Nir Lichtman. \"Making Minimalist Web Server in C on Linux\".\n",
    "\n",
    "* [ [y](https://www.youtube.com/watch?v=ldefArsm3x0) ] `03-15-2023` Tsoding Daily. \"C is Just Better than Bash\".\n",
    "\n",
    "* [ [y](https://www.youtube.com/watch?v=ghWECXWi9kU) ] `05-28-2023` NeuralNine. \"5 Awesome Linux Terminal Tools You Must Know\".\n",
    "\n",
    "* [ [y](https://www.youtube.com/watch?v=oTNRvnQLLLs) ] `07-05-2024` typecraft. \"This may be my favorite CLI tool ever\".\n",
    "\n",
    "* [ [y](https://www.youtube.com/watch?v=GB7JTXeGcs0) ] `09-26-2024` Dave's Garage. \"Kernel Mode vs User Mode: Why it Matters, What You Need to Know\".\n",
    "\n",
    "* [ [y](https://www.youtube.com/watch?v=3b_TAYtzuho) ] `01-24-2017` \\_Drunk Engineer_. \"OSI and TCP IP Models - Best Explanation\"."
   ]
  },
  {
   "cell_type": "markdown",
   "metadata": {},
   "source": [
    "https://cs.brown.edu/courses/csci0300/2022/notes/l09.html\n",
    "\n",
    "https://sites.google.com/site/embeddedmonologue/home/c-programming/logic-and-arithmetic-shift-and-divide-by-2\n",
    "\n",
    "https://stackoverflow.com/questions/3952123/representation-of-negative-numbers-in-c\n",
    "\n",
    "https://guyonbits.com/from-rodata-to-rwdata-introduction-to-memory-mapping-and-ld-scripts/\n",
    "\n",
    "https://stackoverflow.com/questions/12102332/when-should-i-use-perror-and-fprintfstderr\n",
    "\n",
    "https://www.cs.yale.edu/homes/aspnes/pinewiki/C(2f)Pointers.html\n",
    "\n",
    "https://stackoverflow.com/questions/7672560/reading-in-a-variable-length-string-user-input-in-c"
   ]
  },
  {
   "cell_type": "markdown",
   "metadata": {},
   "source": [
    "---"
   ]
  },
  {
   "cell_type": "markdown",
   "metadata": {},
   "source": [
    "## Texts"
   ]
  },
  {
   "cell_type": "markdown",
   "metadata": {},
   "source": [
    "C\n",
    "* `2019` Amini, Kamran. _Extreme C: Taking you to the limit in Concurrency, OOP, and the most advanced capabilities of C_. Packt.\n",
    "* [ [h](https://csapp.cs.cmu.edu/) ] `2015` Bryant, Randal E. & David R. O'Hallaron. _Computer Systems: A Programmer's Perspective_. 3e.\n",
    "* [ [h](https://deitel.com/c-how-to-program-9-e/) ][ [g](https://github.com/pdeitel/CHowToProgram9e) ] `2022` Deitel, Paul & Harvey Deitel. _C How to Program_. 9e.\n",
    "* `2019` Gustedt, Jens. _Modern C_. [Manning](https://www.manning.com/books/modern-c).\n",
    "* `1996` Hanson, David R. _C Interfaces and Implementations: Techniques for Creating Reusable Software_. Addison-Wesley Professional.\n",
    "* `2020` Harwani, B. M. _Practical C Programming: Solutions for modern C developers to create efficient and well-structured programs_. Packt.\n",
    "* [ [w](https://en.wikipedia.org/wiki/The_C_Programming_Language) ] `1988` Kernighan, Brian W. & Dennis M. Ritchie. _C Programming Language_. 2e. Pearson.\n",
    "* `2014` Klemens, Ben. _21st Century C: C Tips from the New School_. 2e. O’Reilly.\n",
    "* `1999` Loudon, Kyle. _Mastering Algorithms with C: Useful Techniques from Sorting to Encryption_. O’Reilly.\n",
    "* `2021` Loy, Marc. _Smaller C: Learn Code for Small Machines_. O'Reilly.\n",
    "* `2022` Oualline, Stephen. _Bare Metal C: Embedded Programming for the Real World_. [No Starch Press](https://nostarch.com/bare-metal-c).\n",
    "* `2022` Preschern, Christopher. _Fluent C: Principles, Practices, and Patters_. O'Reilly.\n",
    "* `2013` Reese, Richard M. _Understanding and Using C Pointers: Core Techniques for Memory Management_. O’Reilly.\n",
    "* `2023` Sandler, Nora. _Writing a C Compiler: Build a Real Programming Language from Scratch_. [No Starch Press](https://nostarch.com/writing-c-compiler).\n",
    "* `2020` Seacord, Robert C. _Effective C: An Introduction to Professional C Programming_. [No Starch Press](https://nostarch.com/Effective_C).\n",
    "* `1997` Sedgewick, Robert. \"Algorithms in C, Parts 1-4: Fundamentals, Data Structures, Sorting, Searching\". 3e. Addison-Wesley Professional.\n",
    "* `2001` Sedgewick, Robert. \"Algorithms in C, Part 5: Graph Algorithms\". 3e. Addison-Wesley Professional.\n",
    "* [ [h](http://www.apuebook.com/) ][ [w](https://en.wikipedia.org/wiki/Advanced_Programming_in_the_Unix_Environment) ] `2013` Stevens, W. Richard & Stephen A. Rago. _Advanced Programming in the UNIX Environment_. 3e. Addison-Wesley Professional.\n",
    "* `2020` Szuhay, Jeff. _Learn C Programming: A beginner’s guide to learning C programming the easy and disciplined way_. Packt.\n",
    "* `1989` Tenenbaum, Aaron M.; Yedidyah Langsam; & Moshe J. Augenstein. \"Data Structures Using C\". Prentice Hall.\n",
    "* `1994` Van Der Linden, Peter. _Expert C Programming: Deep C Secrets_. Pearson.\n",
    "* `2019` Van Winkle, Lewis. _Hands-On Network Programming with C: Learn socket programming in C and write secure and optimized network code_. Packt."
   ]
  },
  {
   "cell_type": "markdown",
   "metadata": {},
   "source": [
    "Systems\n",
    "* [ [h](https://pages.cs.wisc.edu/~remzi/OSTEP/) ] Arpaci-Dusseau, Remzi h. & Andrea C. Arpaci-Dusseau. _Operating Systems: Three Easy Pieces_.\n",
    "* Gregg, Brendan. (2020). _Systems Performance: Enterprise and the Cloud_. 2nd Ed. Pearson.\n",
    "* Matthews, Suzanne J.; Tia Newhall, & Kevin C. Webb. (2022). _Dive Into Systems: A Gentle Introduction to Computer Systems_. [No Starch Press](https://nostarch.com/dive-systems)."
   ]
  },
  {
   "cell_type": "markdown",
   "metadata": {},
   "source": [
    "Linux\n",
    "* [ [h](http://www.bashcookbook.com) ][ [g](https://github.com/vossenjp/bashidioms-examples) ] Albing, Carl & JP Vossen. (2022). _bash Idioms: Write Powerful, FLexible, Readable Shell Scripts_. O'Reilly.\n",
    "* [ [h](http://www.bashcookbook.com) ][ [g](https://github.com/vossenjp/bashcookbook-examples) ] Albing, Carl & JP Vossen. (2017). _bash Cookbook: Solutions and Example for bash Users_. O'Reilly.\n",
    "  * https://www.bashcookbook.com/bashinfo/\n",
    "* [ [h](https://pages.cs.wisc.edu/~remzi/OSTEP/) ] Arpaci-Dusseau, Remzi H. & Andrea C. Arpaci-Dusseau. _Operating Systems: Three Easy Pieces_.\n",
    "* Barrett, Daniel J. (2024). _Linux Pocket Guide: Essential Commands_. 4e. O'Reilly.\n",
    "* [ h ][ [g](https://resources.oreilly.com/examples/0636920601098) ] Barrett, Daniel J. (2022). _Efficient Linux at the Command Line: Boost Your Command-Line Skills_. O'Reilly.\n",
    "* [ [h](https://csapp.cs.cmu.edu) ] Bryant, Randal E. & David R. O'Hallaron. (2015). _Computer Systems: A Programmer's Perspective_. 3e. Pearson.\n",
    "* Calavera, David & Lorenzo Fontana. (2019). _Linux Observability with BPF: Advanced Programming for Performance Analysis and Networking_. O'Reilly.\n",
    "* [ [h](https://tldp.org/LDP/abs/html/) ] Cooper, Mendel. (2014). _Advanced Bash-Scripting Guide: An in-depth exploration of the art of shell scripting_. The Linux Documentation Project.\n",
    "* [ [h](https://tldp.org/LDP/Bash-Beginners-Guide/html/index.html) ] Garrels, Machtelt. (2008). _Bash Guide for Beginners_. The Linux Documentation Project.\n",
    "* Gregg, Brendan. (2019). _BPF Performance Tools: Linux System and Application Observability_. Addison-Wesley Professional.\n",
    "* [ [h](https://modern-linux.info/) ][ [g](https://github.com/mhausenblas/modern-linux.info) ] Hausenblas, Michael. (2022). _Learning Modern Linux: A Handbook for the Cloud Native Practitioner_. O'Reilly.\n",
    "* [ h ][ [g](https://github.com/kenhess/practical_linux_administration) ] Hess, Kenneth. (2023). _Practical Linux System Administration: A Guide to Installation, Configuration, and Management_. O'Reilly.\n",
    "* [ [w](https://en.wikipedia.org/wiki/The_Unix_Programming_Environment) ] Kernighan, Brian W. & Rob Pike. (1984). _The Unix Programming Environment_.\n",
    "* [ [h](https://man7.org/tlpi/) ] Kerrisk, Michael. (2010). _The Linux Programming Interface: A Linux and UNIX System Programming Handbook_. [No Starch Press](https://nostarch.com/tlpi).\n",
    "* [ [h](https://diveintosystems.org) ] Matthews, Suzanne J.; Tia Newhall; & Kevin C. Webb. (2022). _Dive Into Systems: A Gentle Introduction to Computer Systems_. [No Starch Press](https://nostarch.com/dive-systems).\n",
    "* Messier, Ric. (2024). _Learning Kali Linux: Security Testing, Penetration Testing, & Ethical Hacking_. 2e. O'Reilly.\n",
    "* Nemeth, Evi et al. (2021). _Unix and Linux System Administration Handbook_. 5e. [Pearson](https://www.pearson.com/en-us/subject-catalog/p/unix-and-linux-system-administration-handbook/P200000000513/9780137460359).\n",
    "* Nikkel, Bruce. (2021). _Practical Linux Forensics: A Guide for Digital Investigators_. [No Starch Press](https://nostarch.com/practical-linux-forensics).\n",
    "* [ [h](https://www.hackers-arise.com/linux-fundamentals) ] OccupyTheWeb. (2018). _Linux Basics for Hackers: Getting Started with Networking, Scripting, and Security in Kali_. [No Starch Press](https://nostarch.com/linuxbasicsforhackers).\n",
    "* [ [w](https://en.wikipedia.org/wiki/The_Art_of_Unix_Programming) ] Raymond, Eric S. (2003). _The Art of Unix Programming_. Addison-Wesley Professional.\n",
    "* Robbins, Arnold. (2016). _Bash Pocket Reference: Help for Power Users & Sys Admins_. O'Reilly.\n",
    "* Schroder, Carla. (2021). _Linux Cookbook: Essential Skills for Linux Users and System & Network Administrators_. 2e. O'Reilly.\n",
    "* Shotts, William E. (2019). _The Linux Command Line: A Complete Introduction_. 2e. [No Starch Press](https://nostarch.com/tlcl2).\n",
    "* [ [h](http://www.apuebook.com/) ][ [w](https://en.wikipedia.org/wiki/Advanced_Programming_in_the_Unix_Environment) ] Stevens, W. Richard & Stephen A. Rago. (2013). _Advanced Programming in the UNIX Environment_. 3e. Addison-Wesley Professional.\n",
    "* Stevens, W. Richard; Bill Fenner; & Andrew M. Rudoff. (2003). _The Sockets Networking API: UNIX Network Programming Vol. I_. 3e. Addison-Wesley Professional.\n",
    "* [ [w](https://en.wikipedia.org/wiki/Modern_Operating_Systems) ] Tanenbaum, Andrew S. _Modern Operating Systems_. 5e.\n",
    "* [ [w](https://en.wikipedia.org/wiki/Operating_Systems:_Design_and_Implementation) ] Tanenbaum, Andrew S. _Operating Systems: Design and Implementation_. Pearson.\n",
    "* [ [h](https://www.commandlinewizardry.com/cyberops) ][ [g](https://github.com/cybersecurityops/cyber-ops-with-bash) ] Troncone, Paul & Carl Albing. (2019). _Cybersecurity Ops with bash: Attack, Defend, and Analyze from the Command Line_. O'Reilly.\n",
    "* Ward, Brian. (2021). _How Linux Works: What Every Superuser Should Know_. 3e. [No Starch Press](https://nostarch.com/howlinuxworks3).\n",
    "* Weiss, Steward. (2025). _Introduction to System Programming in Linux_. [No Starch Press](https://nostarch.com/introduction-system-programming-linux)."
   ]
  },
  {
   "cell_type": "markdown",
   "metadata": {},
   "source": [
    "Networking\n",
    "* Chou, Eric. (2020). _Mastering Python Networking_. 3rd Ed. Packt.\n",
    "* [ [g](https://github.com/mpcollins/nstda_v2_examples) ][ [g](https://github.com/mpcollins/nsda_examples) ] Collins, Michael. (2017). _Network Security Through Data Analysis: From Data to Action_. 2nd Ed. O'Reilly.\n",
    "* Fall, Kevin R. & W. Richard Stevens. (2011). _TCP/IP Illustrated Vol I: The Protocols_. 2nd Ed. Addison-Wesley Professional.\n",
    "* Fettig, Abe & Jessica McKellar. (2013). _Twisted Network Programming Essentials: Event-Driven Network Programming with Python_. 2nd Ed. O'Reilly.\n",
    "* Gilman, Evan & Doug Barth. (2017). _Zero Trust Networks: Building Secure Systems in Untrusted Networks_. O'Reilly.\n",
    "* Keshav, Srinivasan. (2012). _Mathematical Foundations of Computer Networking_. Addison-Wesley Professional.\n",
    "* Kozierok, Charles M. (2005). _TCP/IP Guide: A Comprehensive, Illustrated Internet Protocols Reference_. [No Starch Press](https://nostarch.com/tcpip.htm).\n",
    "* [ [h](https://gaia.cs.umass.edu/kurose_ross/eighth.php) ] Kurose, James & Keith Ross. (2016). _Computer Networking: A Top-Down Approach_. 8th Ed. Pearson.\n",
    "* Liu, Cricket & Paul Albitz. _DNS and Bind: Help for System Administrators_. 5th Ed. O'Reilly.\n",
    "* Nadeau, Thomas D. & Ken Gray. (2013). _SDN Software Defined Networks: An Authoritative Review of Network Programmability Technologies_. O'Reilly.\n",
    "* [ [g](https://github.com/oreilly-npa-book/examples/tree/v2) ] Oswalt et al. (2023). _Network Programmability and Automation: Skills for the Next-Generation Network Engineer_. 2nd Ed. O'Reilly.\n",
    "* [ [h](https://www.systemsapproach.org) ][ [d](https://book.systemsapproach.org) ][ [g](https://github.com/SystemsApproach/book) ] Peterson, Larry & Bruce Davie. (2021). _Computer Networks: A Systems Approach_. The Morgan Kaufmann Series in Networking.\n",
    "* [ [h](https://www.systemsapproach.org) ][ [d](https://sdn.systemsapproach.org/index.html) ][ [g](https://github.com/SystemsApproach/SDN) ] Peterson, Larry et al. _Software-Defined Networks: A Systems Approach_.\n",
    "* Sanders, Chris. (2017). _Practical Packet Analysis: Using Wireshark to Solve Real-World Network Problems_. 3rd Ed. No Starch Press.\n",
    "* Tanenbaum, Andrew S.; Nick Feamster; & David Wehterall. (2021). _Computer Networks_. 6th Ed. [Pearson](https://www.pearson.com/en-us/subject-catalog/p/computer-networks/P200000003188/9780137523214).\n",
    "* White, Russ & Ethan Banks. (2017). _Computer Networking Problems and Solutions: An Innovative Approach to Building Resilient, Modern Networks_. Pearson."
   ]
  },
  {
   "cell_type": "markdown",
   "metadata": {},
   "source": [
    "---"
   ]
  },
  {
   "cell_type": "markdown",
   "metadata": {},
   "source": [
    "## Figures"
   ]
  },
  {
   "cell_type": "markdown",
   "metadata": {},
   "source": [
    "* [ [w](https://en.wikipedia.org/wiki/Danny_Cohen_(computer_scientist)) ] `1937-2019` Cohen, Danny"
   ]
  },
  {
   "cell_type": "markdown",
   "metadata": {},
   "source": [
    "---"
   ]
  },
  {
   "cell_type": "markdown",
   "metadata": {},
   "source": [
    "## Terms"
   ]
  },
  {
   "cell_type": "markdown",
   "metadata": {},
   "source": [
    "* [ [w](https://en.wikipedia.org/wiki/Address_space) ] Address Space\n",
    "* [ [w](https://en.wikipedia.org/wiki/ANSI_C) ] ANSI C\n",
    "* [ [w](https://en.wikipedia.org/wiki/Bounds_checking) ] Bounds Checking\n",
    "* [ [w](https://en.wikipedia.org/wiki/.bss) ] BSS (Block Starting Symbol) Segment\n",
    "* [ [w](https://en.wikipedia.org/wiki/C11_(C_standard_revision)) ] C11\n",
    "* [ [w](https://en.wikipedia.org/wiki/C17_(C_standard_revision)) ] C17\n",
    "* [ [w](https://en.wikipedia.org/wiki/C23_(C_standard_revision)) ] C23\n",
    "* [ [w](https://en.wikipedia.org/wiki/C99) ] C99\n",
    "* [ [w](https://en.wikipedia.org/wiki/C_data_types) ] C Data Types\n",
    "* [ [w](https://en.wikipedia.org/wiki/C_file_input/output) ] C File I/O\n",
    "* [ [w](https://en.wikipedia.org/wiki/C_POSIX_library) ] C POSIX Library\n",
    "* [ [w](https://en.wikipedia.org/wiki/C_preprocessor) ] C Preprocessor\n",
    "* [ [w](https://en.wikipedia.org/wiki/C_(programming_language)) ] C\n",
    "* [ [w](https://en.wikipedia.org/wiki/C_standard_library) ] C Standard Library\n",
    "* [ [w](https://en.wikipedia.org/wiki/C_syntax) ] C Syntax\n",
    "* [ [w](https://en.wikipedia.org/wiki/Call_stack) ] Call Stack\n",
    "* [ [w](https://en.wikipedia.org/wiki/Checksum) ] Checksum\n",
    "* [ [w](https://en.wikipedia.org/wiki/Code_segment) ] Code/Text Segment\n",
    "* [ [w](https://en.wikipedia.org/wiki/Row-_and_column-major_order) ] Column-Major Order\n",
    "* [ [w](https://en.wikipedia.org/wiki/Data_segment) ] Data Segment\n",
    "* [ [w](https://en.wikipedia.org/wiki/Device_driver) ] Device Driver\n",
    "* [ [w](https://en.wikipedia.org/wiki/Directive_(programming)) ] Directive\n",
    "* [ [w](https://en.wikipedia.org/wiki/Include_directive) ] Include Directive\n",
    "* [ [w](https://en.wikipedia.org/wiki/Instruction_scheduling) ] Instruction Scheduling\n",
    "* [ [w](https://en.wikipedia.org/wiki/Interrupt) ] Interrupt\n",
    "* [ [w](https://en.wikipedia.org/wiki/Interrupt_handler) ] Interrupt Handler\n",
    "* [ [w](https://en.wikipedia.org/wiki/Linker_(computing)) ] Linker\n",
    "* [ [w](https://en.wikipedia.org/wiki/Loader_(computing)) ] Loader\n",
    "* [ [w](https://en.wikipedia.org/wiki/Make_(software)) ] Make\n",
    "* [ [w](https://en.wikipedia.org/wiki/Memory_address) ] Memory Address\n",
    "* [ [w](https://en.wikipedia.org/wiki/Memory_management) ] Memory Management\n",
    "* [ [w](https://en.wikipedia.org/wiki/Object_file) ] Object File\n",
    "* [ [w](https://en.wikipedia.org/wiki/Pointer_(computer_programming)) ] Pointer\n",
    "* [ [w](https://en.wikipedia.org/wiki/Directive_(programming)) ] Pragma\n",
    "* [ [w](https://en.wikipedia.org/wiki/Printf) ] `printf`\n",
    "* [ [w](https://en.wikipedia.org/wiki/Reference_(computer_science)) ] Reference\n",
    "* [ [w](https://en.wikipedia.org/wiki/Relocation_(computing)) ] Relocation\n",
    "* [ [w](https://en.wikipedia.org/wiki/Row-_and_column-major_order) ] Row-Major Order\n",
    "* [ [w](https://en.wikipedia.org/wiki/Scanf) ] `scanf`\n",
    "* [ [w](https://en.wikipedia.org/wiki/Shared_library) ] Shared Library\n",
    "* [ [w](https://en.wikipedia.org/wiki/Sizeof) ] `sizeof`\n",
    "* [ [w](https://en.wikipedia.org/wiki/Stack_(abstract_data_type)) ] Stack\n",
    "* [ [w](https://en.wikipedia.org/wiki/Stack-based_memory_allocation) ] Stack-Based Memory Allocation\n",
    "* [ [w](https://en.wikipedia.org/wiki/Struct_(C_programming_language)) ] `struct`\n",
    "* [ [w](https://en.wikipedia.org/wiki/Systems_programming) ] Systems Programming\n",
    "* [ [w](https://en.wikipedia.org/wiki/Typedef) ] `typedef`\n",
    "* [ [w](https://en.wikipedia.org/wiki/Union_type) ] Union"
   ]
  },
  {
   "cell_type": "markdown",
   "metadata": {},
   "source": [
    "* [ [w](https://en.wikipedia.org/wiki/64-bit_computing) ] 64-bit computing\n",
    "* [ [w](https://en.wikipedia.org/wiki/Addressing_mode) ] Addressing Mode\n",
    "* [ [w](https://en.wikipedia.org/wiki/Berkeley_sockets) ] Berkeley Sockets\n",
    "* [ [w](https://en.wikipedia.org/wiki/History_of_the_Berkeley_Software_Distribution) ] Berkeley Software Distribution, history\n",
    "* [ [w](https://en.wikipedia.org/wiki/C_data_types) ] C Data Types\n",
    "* [ [w](https://en.wikipedia.org/wiki/C_standard_library) ] C Standard Library\n",
    "* [ [w](https://en.wikipedia.org/wiki/Instruction_set_architecture) ] Instruction Set Architecture\n",
    "* [ [w](https://en.wikipedia.org/wiki/Loader_(computing)) ] Loader\n",
    "* [ [w](https://en.wikipedia.org/wiki/Network_socket) ] Network Socket"
   ]
  },
  {
   "cell_type": "markdown",
   "metadata": {},
   "source": [
    "* [ [w](https://en.wikipedia.org/wiki/32-bit_computing) ] 32-bit Computing\n",
    "* [ [w](https://en.wikipedia.org/wiki/Berkeley_sockets) ] Berkeley Sockets\n",
    "* [ [w](https://en.wikipedia.org/wiki/Berkeley_Software_Distribution) ] Berkeley Software Distribution (BSD)\n",
    "* [ [w](https://en.wikipedia.org/wiki/Bit_numbering) ] Bit Numbering\n",
    "* [ [w](https://en.wikipedia.org/wiki/Bitwise_operation) ] Bitwise Operation\n",
    "* [ [w](https://en.wikipedia.org/wiki/Byte) ] Byte\n",
    "* [ [w](https://en.wikipedia.org/wiki/Byte_addressing) ] Byte Addressing\n",
    "* [ [w](https://en.wikipedia.org/wiki/Endianness) ] Endianness\n",
    "* [ [w](https://en.wikipedia.org/wiki/File_descriptor) ] File Descriptor\n",
    "* [ [w](https://en.wikipedia.org/wiki/Handle_(computing)) ] Handle\n",
    "* [ [w](https://en.wikipedia.org/wiki/Inter-process_communication) ] Inter Process Communication (IPC)\n",
    "* [ [w](https://en.wikipedia.org/wiki/Network_socket) ] Network Socket\n",
    "* [ [w](https://en.wikipedia.org/wiki/POSIX) ] POSIX\n",
    "* [ [w](https://en.wikipedia.org/wiki/Standard_streams) ] Standard Stream\n",
    "* [ [w](https://en.wikipedia.org/wiki/Unix_domain_socket) ] Unix Domain Socket\n",
    "* [ [w](https://en.wikipedia.org/wiki/Unix_philosophy) ] Unix Philosophy\n",
    "* [ [w](https://en.wikipedia.org/wiki/Word_(computer_architecture)) ] Word\n",
    "* [ [w](https://en.wikipedia.org/wiki/Word_addressing) ] Word Addressing\n",
    "* [ [w](https://en.wikipedia.org/wiki/Word_mark_(computer_hardware)) ] Word Mark"
   ]
  },
  {
   "cell_type": "markdown",
   "metadata": {},
   "source": [
    "Memory\n",
    "* [ [w](https://en.wikipedia.org/wiki/Address_space) ] Address Space\n",
    "* [ [w](https://en.wikipedia.org/wiki/Bank_switching) ] Bank Switching\n",
    "* [ [w](https://en.wikipedia.org/wiki/Cache_(computing)) ] Cache\n",
    "* [ [w](https://en.wikipedia.org/wiki/CPU_cache) ] CPU Cache\n",
    "* [ [w](https://en.wikipedia.org/wiki/Flat_memory_model) ] Flat Memory Model\n",
    "* [ [w](https://en.wikipedia.org/wiki/Memory_address) ] Memory Address\n",
    "* [ [w](https://en.wikipedia.org/wiki/Memory_paging) ] Memory Paging"
   ]
  },
  {
   "cell_type": "markdown",
   "metadata": {},
   "source": [
    "Memory Segmentation\n",
    "* [ [w](https://en.wikipedia.org/wiki/.bss) ] .bss (Block Starting Symbol)\n",
    "* [ [w](https://en.wikipedia.org/wiki/Data_segment) ] .data\n",
    "* [ [w](https://en.wikipedia.org/wiki/Code_segment) ] .text\n",
    "* [ [w](https://en.wikipedia.org/wiki/X86_memory_segmentation) ] x86 Memory Segmentation"
   ]
  },
  {
   "cell_type": "markdown",
   "metadata": {},
   "source": [
    "C Standard Library\n",
    "* [ [w](https://en.wikipedia.org/wiki/Errno.h) ] `errno.h`"
   ]
  },
  {
   "cell_type": "markdown",
   "metadata": {},
   "source": [
    "Programming\n",
    "* [ [w](https://en.wikipedia.org/wiki/Automatic_variable) ] Automatic Variable\n",
    "* [ [w](https://en.wikipedia.org/wiki/Continuation) ] Continuation\n",
    "* [ [w](https://en.wikipedia.org/wiki/Continuation-passing_style) ] Continuation-Passing Style\n",
    "* [ [w](https://en.wikipedia.org/wiki/Control_flow) ] Control Flow\n",
    "* [ [w](https://en.wikipedia.org/wiki/Global_variable) ] Global Variable\n",
    "* [ [w](https://en.wikipedia.org/wiki/Local_variable) ] Local Variable\n",
    "* [ [w](https://en.wikipedia.org/wiki/Return_statement) ] Return Statement\n",
    "* [ [w](https://en.wikipedia.org/wiki/Reentrancy_(computing)) ] Re-entrancy\n",
    "* [ [w](https://en.wikipedia.org/wiki/Scope_(computer_science)) ] Scope\n",
    "* [ [w](https://en.wikipedia.org/wiki/Static_variable) ] Static Variable\n",
    "* [ [w](https://en.wikipedia.org/wiki/Variable_(computer_science)) ] Variable"
   ]
  },
  {
   "cell_type": "markdown",
   "metadata": {},
   "source": [
    "Architecture\n",
    "* [ [w](https://en.wikipedia.org/wiki/1-bit_computing) ] 1-bit Computing\n",
    "* [ [w](https://en.wikipedia.org/wiki/8-bit_computing) ] 8-bit Computing\n",
    "* [ [w](https://en.wikipedia.org/wiki/16-bit_computing) ] 16-bit Computing\n",
    "* [ [w](https://en.wikipedia.org/wiki/Intel_8008) ] 8008 (8-bit microprocessor)\n",
    "* [ [w](https://en.wikipedia.org/wiki/Intel_8080) ] 8080 (8-bit microprocessor)\n",
    "* [ [w](https://en.wikipedia.org/wiki/Intel_8086) ] 8086 (16-bit microprocessor)\n",
    "* [ [w](https://en.wikipedia.org/wiki/Intel_8088) ] 8088\n",
    "* [ [w](https://en.wikipedia.org/wiki/Intel_80186) ] 80186\n",
    "* [ [w](https://en.wikipedia.org/wiki/Intel_80286) ] 80286 (16-bit microprocessor)\n",
    "* [ [w](https://en.wikipedia.org/wiki/I386) ] 80386 (i386) (32-bit microprocessor)\n",
    "* [ [w](https://en.wikipedia.org/wiki/I486) ] 80486 (i486) (32-bit microprocessor)\n",
    "* [ [w](https://en.wikipedia.org/wiki/Asynchronous_circuit) ] Asynchronous Circuit\n",
    "* [ [w](https://en.wikipedia.org/wiki/Bus_(computing)) ] Bus Interface Unit (BIU)\n",
    "* [ [w](https://en.wikipedia.org/wiki/Cache_prefetching) ] Cache Prefetching\n",
    "* [ [w](https://en.wikipedia.org/wiki/Clock_generator) ] Clock Generator\n",
    "* [ [w](https://en.wikipedia.org/wiki/Clock_signal) ] Clock Signal\n",
    "* [ [w](https://en.wikipedia.org/wiki/Combinational_logic) ] Combinatorial Logic\n",
    "* [ [w](https://en.wikipedia.org/wiki/Complex_instruction_set_computer) ] Complex Instruction Set Computer (CISC)\n",
    "* [ [w](https://en.wikipedia.org/wiki/Duty_cycle) ] Duty Cycle\n",
    "* [ [w](https://en.wikipedia.org/wiki/Execution_unit) ] Execution Unit (EU)\n",
    "* [ [w](https://en.wikipedia.org/wiki/Flip-flop_(electronics)) ] Flip-Flop\n",
    "* [ [w](https://en.wikipedia.org/wiki/Instruction_set_architecture) ] Instruction Set Architecture (ISA)\n",
    "* [ [w](https://en.wikipedia.org/wiki/Instructions_per_second) ] Instructions Per Second (IPS)\n",
    "* [ [w](https://en.wikipedia.org/wiki/Logic_gate) ] Logic Gate\n",
    "* [ [w](https://en.wikipedia.org/wiki/Opcode) ] Opcode\n",
    "* [ [w](https://en.wikipedia.org/wiki/Prefetch_input_queue) ] Prefetch Input Queue (PIQ)\n",
    "* [ [w](https://en.wikipedia.org/wiki/Race_condition) ] Race Condition\n",
    "* [ [w](https://en.wikipedia.org/wiki/Reduced_instruction_set_computer) ] Reduced Instruction Set Computer (RISC)\n",
    "* [ [w](https://en.wikipedia.org/wiki/Sequential_logic) ] Sequential Logic\n",
    "* [ [w](https://en.wikipedia.org/wiki/Synchronous_circuit) ] Synchronous Circuit\n",
    "* [ [w](https://en.wikipedia.org/wiki/X86) ] x86\n",
    "* [ [w](https://en.wikipedia.org/wiki/X86-64) ] x86-64 (x64)\n",
    "* [ [w](https://en.wikipedia.org/wiki/X86_memory_segmentation) ] x86 Memory Segmentation"
   ]
  },
  {
   "cell_type": "markdown",
   "metadata": {},
   "source": [
    "* [ [w](https://en.wikipedia.org/wiki/X86) ] 32-bit x86\n",
    "* 64-bit x64"
   ]
  },
  {
   "cell_type": "markdown",
   "metadata": {},
   "source": [
    "---"
   ]
  }
 ],
 "metadata": {
  "kernelspec": {
   "display_name": "ml",
   "language": "python",
   "name": "python3"
  },
  "language_info": {
   "codemirror_mode": {
    "name": "ipython",
    "version": 3
   },
   "file_extension": ".py",
   "mimetype": "text/x-python",
   "name": "python",
   "nbconvert_exporter": "python",
   "pygments_lexer": "ipython3",
   "version": "3.11.9"
  }
 },
 "nbformat": 4,
 "nbformat_minor": 2
}
