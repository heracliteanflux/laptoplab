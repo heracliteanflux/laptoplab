{
 "cells": [
  {
   "cell_type": "markdown",
   "metadata": {},
   "source": [
    "# Network Programming"
   ]
  },
  {
   "cell_type": "markdown",
   "metadata": {},
   "source": [
    "---"
   ]
  },
  {
   "cell_type": "markdown",
   "metadata": {},
   "source": [
    "## Sockets"
   ]
  },
  {
   "cell_type": "markdown",
   "metadata": {},
   "source": [
    "$\n",
    "\\underbrace{\\overbrace{\\underbrace{(\\underbrace{\\overset{2^{16}}{255.255.255.255}}_{\\text{IP}}, \\underbrace{\\overset{2^8}{255.255}}_{\\text{port}})}_{\\text{socket}}}^{\\text{client}},\n",
    "            \\overbrace{\\underbrace{(\\underbrace{\\overset{2^{16}}{255.255.255.255}}_{\\text{IP}}, \\underbrace{\\overset{2^8}{255.255}}_{\\text{port}})}_{\\text{socket}}}^{\\text{server}}}_{\\text{connection}}$"
   ]
  },
  {
   "cell_type": "markdown",
   "metadata": {},
   "source": [
    "BSD | POSIX | action\n",
    "-|-|-\n",
    "`inet_aton` | `inet_pton` | convert from text address to packed address\n",
    "`inet_ntoa` | `inet_ntop` | convert from packed address to text address\n",
    "`gethostbyname`, `gethostbyaddr`, `getservbyname`, `getservbyport` | `getaddrinfo` | forward lookup for host name/service\n",
    "`gethostbyaddr`, `getservbyport` | `getnameinfo` | reverse lookup for host name/service"
   ]
  },
  {
   "cell_type": "markdown",
   "metadata": {},
   "source": [
    "**Unix domain socket**\n",
    "\n",
    "* Unix domain sockets are similar to network sockets but instead of using an underlying network protocol all communication occurs entirely within the OS kernel\n",
    "* Unix domain sockets may use the file system as their address name space\n",
    "* Processes reference Unix domain sockets as file system inodes (so two processes can communicate by opening the same socket)\n",
    "\n",
    "`AF_UNIX`\n",
    "\n",
    "* `SOCK_STREAM`\n",
    "  * Transmission Control Protocol (TCP)\n",
    "  * stream-oriented socket\n",
    "* `SOCK_DGRAM`\n",
    "  * User Datagram Protocol (UDP)\n",
    "  * datagram-oriented socket that preserves message boundaries\n",
    "  * datagram sockets are always reliable and don't reorder datagrams\n",
    "* `SOCK_SEQPACKET`\n",
    "  * Stream Contral Transmission Protocol (SCTP)\n",
    "  * sequenced-packet socket that is connection-oriented, preserves message boundaries, delivers messages in the order that they were sent"
   ]
  },
  {
   "cell_type": "markdown",
   "metadata": {},
   "source": [
    "Socket\n",
    "* can be used to send or receive data over a network, at the session layer\n",
    "* determines the structure of the transport layer\n",
    "* sockets can communicate using a variety of protocol families, each with their own way of defining endpoint addresses\n",
    "\n",
    "types of socket\n",
    "* Stream\n",
    "* Datagram\n",
    "\n",
    "address\n",
    "* since an address can contain variable information depending on the address family, there are other address structures that contain common elements from the sockaddr structure, as well as info specific to the address family; these structures are the same size so that they can be typecast to and from each other\n",
    "* function `socket` simply accepts a pointer to an address structure, which can point to an address structure for the various address/protocol families"
   ]
  },
  {
   "cell_type": "markdown",
   "metadata": {},
   "source": [
    "---"
   ]
  },
  {
   "cell_type": "markdown",
   "metadata": {},
   "source": [
    "## Functions"
   ]
  },
  {
   "cell_type": "markdown",
   "metadata": {},
   "source": [
    "* `socket`\n",
    "* `setsockopt`\n",
    "* `connect`\n",
    "* `bind`\n",
    "* `listen`\n",
    "* `accept`\n",
    "* `send`\n",
    "* `recv`\n",
    "* `read`\n",
    "* `write`\n",
    "* `close`"
   ]
  },
  {
   "cell_type": "markdown",
   "metadata": {},
   "source": [
    "```c\n",
    "/usr/include/sys/sockets.h\n",
    "/usr/include/bits/socket.h\n",
    "```"
   ]
  },
  {
   "cell_type": "markdown",
   "metadata": {},
   "source": [
    "```c\n",
    "#include <arpa/inet.h>     // AF_INET, SOCK_STREAM, inet_ntoa, socket\n",
    "                           // functions for manipulating numeric IP addresses\n",
    "#include <errno.h>         // errno\n",
    "#include <netdb.h>         // gethostbyname, struct hostent\n",
    "                           // functions for translating protocol names and host names into numeric addresses (searches local data as well as name services)\n",
    "#include <netinet/in.h>    // struct in_addr, struct sockaddr_in ---- <netinet/in.h> is included in <arpa/inet.h>\n",
    "                           // address families AF_INET, AF_INET6; protocol families PF_INET, PF_INET6; which include standard IP addresses and TCP and UDP port numbers\n",
    "#include <stdio.h>         // perror, printf\n",
    "#include <stdlib.h>        // uint32_t\n",
    "#include <strings.h>       // strerror\n",
    "#include <sys/socket.h>    // accept, AF_INET, bind, connect, listen, SOCK_STREAM, socket (the core socket interface)\n",
    "#include <sys/types.h>     // ssize_t\n",
    "#include <sys/un.h>        // address families PF_UNIX, PF_LOCAL\n",
    "#include <unistd.h>        // close, read, write\n",
    "```"
   ]
  },
  {
   "cell_type": "markdown",
   "metadata": {},
   "source": [
    "Berkeley Socket API\n",
    "* BSD 4.2 1983\n",
    "* standard API for network programming\n",
    "* available on most OS\n",
    "\n",
    "POSIX Socket API\n",
    "* an update to the Berkeley Socket API: a few functions were deprecated and replaced\n",
    "* better support for multi-threading\n",
    "\n",
    "Internet Client (or Server) Host\n",
    "* Client (or Server) - user code\n",
    "* Sockets Interface - system calls\n",
    "* TCP/IP - kernel code\n",
    "* Hardware Interface - interrupts\n",
    "* Network Adapter - hardware and firmware\n",
    "\n",
    "IPv4 - 4 B\n",
    "IPv6 - 16 B"
   ]
  },
  {
   "cell_type": "markdown",
   "metadata": {},
   "source": [
    "Hosts are mapped to the set of 32-bit IP addresses which are mapped to the set of domain names.\n",
    "\n",
    "UNIX makes all I/O look like file I/O. `read` and `write` are used to interact with remote computers over a network. A program can have multiple network channels open at once; `read` and `write` need to be passed a file descriptor so that the OS knows which network channel you want to read or write. This file descriptor is called a socket.\n",
    "\n",
    "Sockets\n",
    "* Stream/TCP Socket\n",
    "  * for connection-oriented, point-to-point, reliable byte streams (TCP, SCTP, or other stream transports)\n",
    "  * typically used for client-server communications (as well as other architectures such as peer-to-peer)\n",
    "* Datagram Socket (connection-less communication)\n",
    "  * for connection-less, one-to-many, unreliable packets (UDP or other packet transports)\n",
    "  * used less frequently than stream sockets\n",
    "  * provide no flow control, ordering, or reliability\n",
    "  * often used as a building block in streaming media applications or DNS lookup\n",
    "* Raw Socket - for layer 3 communication (raw IP packet manipulation)\n",
    "\n",
    "A process on one Internet host can communicate with a process on another Internet host over a ***connection***. Clients and servers communicate by sending streams of bytes over connections. A connection is\n",
    "* point-to-point: a connection connects a pair of processes\n",
    "* full-duplex: data can flow in both directions at the same time\n",
    "* reliable: data send-receive order is preserved\n",
    "\n",
    "A connection is uniquely identified by a socket pair.\n",
    "\n",
    "A ***socket*** is an endpoint of a connection. A socket address is a two-tuple consisting of an IP address and a port.\n",
    "\n",
    "A ***port*** is a $16\\text{-b}$ integer up to the number $\\overset{2^{16} - 1}{65,535}$ that identifies a process. ***Well-known (or reserved) ports*** from $0$ to $\\overset{2^{10} - 1}{1023}$ are associated with services provided by the server (e.g., port 80 is HTTP) and require root privileges to receive on them.\n",
    "\n",
    "An ***ephemeral port*** is assigned automatically by the client kernel when the client makes a connection.\n",
    "\n",
    "The sockets API lets you convert between IP addresses and DNS names.\n",
    "* a DNS name can have many IP addresses\n",
    "* many DNS names can map to the same IP address\n",
    "* an IP address maps to either one or zero DNS names\n",
    "* a DNS lookup may require interacting with many DNS servers\n",
    "\n",
    "POSIX DNS name resolution `getaddrinfo`\n",
    "* set up a hints structure with constraints\n",
    "* indicate which host (a string representation of an IP address or DNS name) and port you want resolved\n",
    "* returns a list of results in an `addrinfo` struct\n",
    "* free the `addrinfo` struct via `freeaddrinfo`"
   ]
  },
  {
   "cell_type": "markdown",
   "metadata": {},
   "source": [
    "166.84.7.99 (IP address)\n",
    "-> 1010 0110  0101 0100  0000 0111  0110 0011 (little-endian binary representation)\n",
    "-> 2790524771 (little-endian binary representation decimal value)\n",
    "-> 0110 0011  0000 0111  0101 0100  1010 0110 (big-endian binary representation)\n",
    "-> 1661424806 (big-endian binary representation decimal value)"
   ]
  },
  {
   "cell_type": "markdown",
   "metadata": {},
   "source": [
    "---"
   ]
  },
  {
   "cell_type": "markdown",
   "metadata": {},
   "source": [
    "```c\n",
    "// host to network\n",
    "uint64_t htonll64 (uint64_t hostlong64)\n",
    "uint32_t htonl    (uint32_t hostlong)\n",
    "uint16_t htons    (uint16_t hostshort)\n",
    "\n",
    "// network to host\n",
    "uint64_t ntohll64 (uint64_t netlong64)\n",
    "uint32_t ntohl    (uint32_t netlong)\n",
    "uint16_t ntohs    (uint16_t netshort)\n",
    "```\n",
    "\n",
    "Network Byte Order (big-endian)\n",
    "\n",
    "Byte3 Byte2 Byte1 Byte0"
   ]
  },
  {
   "cell_type": "markdown",
   "metadata": {},
   "source": [
    "Programming a client\n",
    "1. Get the remote address/port to connect to\n",
    "2. Create a socket\n",
    "3. Connect the socket to the server\n",
    "4. Read/write data\n",
    "5. Close the socket\n",
    "\n",
    "Programming a server\n",
    "1. Determine the port to bind to\n",
    "2. Create a socket\n",
    "3. Bind to the service\n",
    "4. Begin listening for connections\n",
    "5. Accept/receive a connection\n",
    "6. Read/write data\n",
    "7. Close the socket"
   ]
  },
  {
   "cell_type": "markdown",
   "metadata": {},
   "source": [
    "---"
   ]
  },
  {
   "cell_type": "markdown",
   "metadata": {},
   "source": [
    "```c\n",
    "/* /usr/include/bits/socket.h\n",
    " *\n",
    " */\n",
    "\n",
    "/* get the definition of the macro to define the common sockaddr members */\n",
    "#include <bits/sockaddr.h>\n",
    "\n",
    "/* structure describing a generic socket address */\n",
    "struct sockaddr\n",
    "{\n",
    "  __SOCKADDR_COMMON (sa_); // common data: address family and length\n",
    "                           // basically, translates to an unsigned short\n",
    "                           // defines the address family of the address\n",
    "  char sa_data[14];        // address data\n",
    "}\n",
    "\n",
    "/* Protocol families */\n",
    "#define PF_UNSPEC     0        // Unspecified.\n",
    "#define PF_LOCAL      1        // Local to host (pipes and file-domain).\n",
    "#define PF_UNIX       PF_LOCAL // Old BSD name for PF_LOCAL.\n",
    "#define PF_FILE       PF_LOCAL // Another nonstandard name for PF_LOCAL.\n",
    "#define PF_INET       2        // IP protocol family.\n",
    "#define PF_AX25       3        // Amateur Radio AX.25.\n",
    "#define PF_IPX        4        // Novell Internet Protocol.\n",
    "#define PF_APPLETALK  5        // Appletalk DDP.\n",
    "#define PF_NETROM     6        // Amateur radio NetROM.\n",
    "#define PF_BRIDGE     7        // Multiprotocol bridge.\n",
    "#define PF_ATMPVC     8        // ATM PVCs.\n",
    "#define PF_X25        9        // Reserved for X.25 project.\n",
    "#define PF_INET6     10        // IP version 6.\n",
    "\n",
    "// Types of sockets.\n",
    "enum __socket_type\n",
    "{\n",
    "  SOCK_STREAM = 1, #define SOCK_STREAM SOCK_STREAM // Sequenced, reliable, connection-based byte streams.\n",
    "  SOCK_DGRAM  = 2, #define SOCK_DGRAM  SOCK_DGRAM  // Connectionless, unreliable datagrams of fixed maximum length.\n",
    "}\n",
    "\n",
    "/* address families */\n",
    "#define AF_UNSPEC    PF_UNSPEC\n",
    "#define AF_LOCAL     PF_LOCAL\n",
    "#define AF_UNIX      PF_UNIX\n",
    "#define AF_FILE      PF_FILE\n",
    "#define AF_INET      PF_INET\n",
    "#define AF_AX25      PF_AX25\n",
    "#define AF_IPX       PF_IPX\n",
    "#define AF_APPLETALK PF_APPLETALK\n",
    "#define AF_NETROM    PF_NETROM\n",
    "#define AF_BRIDGE    PF_BRIDGE\n",
    "#define AF_ATMPVC    PF_ATMPVC\n",
    "#define AF_X25       PF_X25\n",
    "#define AF_INET6     PF_INET6\n",
    "```"
   ]
  },
  {
   "cell_type": "markdown",
   "metadata": {},
   "source": [
    "### `struct in_addr`"
   ]
  },
  {
   "cell_type": "markdown",
   "metadata": {},
   "source": [
    "```c\n",
    "struct in_addr {\n",
    "  uint32_t s_addr; // IPv4 address (32-bit, stored in network byte order, or big-endian)\n",
    "};\n",
    "```"
   ]
  },
  {
   "cell_type": "markdown",
   "metadata": {},
   "source": [
    "$\\text{in\\_addr} \\quad \\underbrace{\\boxed{\\vphantom{G\\_}\\quad|\\quad|\\quad|\\quad|\\quad|\\quad|\\quad|\\quad|\\quad|\\quad|\\quad|\\quad|\\quad|\\quad|\\quad|\\quad|\\quad|\\quad|\\quad|\\quad|\\quad|\\quad|\\quad|\\quad|\\quad|\\quad|\\quad|\\quad|\\quad|\\quad|\\quad|\\quad}}_{32 \\text{ b}}$"
   ]
  },
  {
   "cell_type": "markdown",
   "metadata": {},
   "source": [
    "### `struct sockaddr_in`"
   ]
  },
  {
   "cell_type": "markdown",
   "metadata": {},
   "source": [
    "```c\n",
    "/* /usr/include/netinet/in.h\n",
    " *\n",
    " * defines the socket address structure for IPv4\n",
    " *\n",
    " * in the following, the prefix 'sin' stands for \"Socket Internet\"\n",
    " * \n",
    " * \n",
    " * struct in_addr {\n",
    " *   uint32_t s_addr;            // 32-bit IP address stored in network byte order\n",
    " * }\n",
    " *\n",
    " * struct sockaddr_in {\n",
    " *   sa_family_t    sin_family;  // address family (AF_INET or AF_INET6)\n",
    " *   in_port_t      sin_port;    // 16-bit port number -- stores the port number in network byte order (use `htons` to convert from host byte order)\n",
    " *   struct in_addr sin_addr;    // 32-bit IP address                                                  (use `inet_pton` or `inet_aton` to convert from a string)\n",
    " *   char           sin_zero[8]; // padding, to make sure that the `sockaddr_in` structure is the same size as `sockaddr`\n",
    " * }\n",
    " */\n",
    "\n",
    "struct sockaddr_in\n",
    "{\n",
    "  __SOCKADDR_COMMON (sin_); /* the unsigned short used to define the address family                */\n",
    "  in_port_t sin_port;       /* port number  (16-bit, stored in network byte order, or big-endian)  */\n",
    "  struct in_addr sin_addr;  /* IPv4 address (32-bit, stored in network byte order, or big-endian)  */\n",
    "  unsigned char sin_zero[   /* 8-B pad, to the size of 'struct sockaddr'                           */\n",
    "    sizeof(struct sockaddr) -\n",
    "    __SOCKADDR_COMMON_SIZE  -\n",
    "    sizeof(in_port_t)       -\n",
    "    sizeof(struct in_addr)\n",
    "  ];\n",
    "}\n",
    "\n",
    "struct sockaddr_in\n",
    "{\n",
    "  short          sin_family;  /* the unsigned short used to define the address family                */\n",
    "  unsigned short sin_port;    /* port number  (16-bit, stored in network byte order, or big-endian)  */\n",
    "  struct in_addr sin_addr;    /* IPv4 address (32-bit, stored in network byte order, or big-endian)  */\n",
    "  char           sin_zero[8]; /* 8-B pad, to the size of 'struct sockaddr'                           */\n",
    "};\n",
    "```"
   ]
  },
  {
   "cell_type": "markdown",
   "metadata": {},
   "source": [
    "$\n",
    "\\begin{aligned}\n",
    "\\text{sockaddr (generic)} &&\n",
    "\\underbrace{\\boxed{\\vphantom{G\\_}\\quad\\quad}}_{2 \\text{ B}}\n",
    "\\underbrace{\\boxed{\\vphantom{G\\_}\\quad\\quad\\quad\\quad\\quad\\quad\\quad\\quad\\quad\\quad\\quad\\quad\\quad\\quad\\quad\\,}}_{14 \\text{ B}}\n",
    "\\\\\n",
    "\\text{sockaddr\\_in (IPv4)} &&\n",
    "\\underbrace{\\boxed{\\vphantom{G\\_}\\quad\\quad}}_{2 \\text{ B}}\n",
    "\\underbrace{\\boxed{\\vphantom{G\\_}\\quad\\quad}}_{2 \\text{ B}}\n",
    "\\underbrace{\\boxed{\\vphantom{G\\_}\\quad\\quad\\quad\\quad}}_{4 \\text{ B}}\n",
    "\\underbrace{\\boxed{\\vphantom{G\\_}\\quad\\quad\\quad\\quad\\quad\\quad\\quad\\quad}}_{8 \\text{ B}}\n",
    "\\end  {aligned}\n",
    "$"
   ]
  },
  {
   "cell_type": "markdown",
   "metadata": {},
   "source": [
    "### `hton`"
   ]
  },
  {
   "cell_type": "markdown",
   "metadata": {},
   "source": [
    "```c\n",
    "/* convert from x86 host byte order (little-endian) to network byte order (big-endian), or\n",
    " * convert from network byte order (big-endian) to x86 host byte order (little-endian)\n",
    " *\n",
    " * defined in netinet/in.h and arpa/inet.h\n",
    " */\n",
    "uint64_t htonll64 (uint64_t hostlong64) /* host-to-network long long - convert a 64-bit integer from the host's byte order to the network byte order */\n",
    "uint32_t htonl    (uint32_t hostlong)   /* host-to-network long      - convert a 32-bit integer from the host's byte order to the network byte order */\n",
    "uint16_t htons    (uint16_t hostshort)  /* host-to-network short     - convert a 16-bit integer from the host's byte order to the network byte order */\n",
    "uint64_t ntohll64 (uint64_t netlong64)  /* network-to-host long long - convert a 64-bit integer from the network byte order to the host's byte order */\n",
    "uint32_t ntohl    (uint32_t netlong)    /* network-to-host long      - convert a 32-bit integer from the network byte order to the host's byte order */\n",
    "uint16_t ntohs    (uint16_t netshort)   /* network-to-host short     - convert a 16-bit integer from the network byte order to the host's byte order */\n",
    " ```"
   ]
  },
  {
   "cell_type": "markdown",
   "metadata": {},
   "source": [
    "### `inet_aton`"
   ]
  },
  {
   "cell_type": "markdown",
   "metadata": {},
   "source": [
    "```c\n",
    "/* ASCII to network, network to ASCII\n",
    " *\n",
    " * header - arpa/inet.h\n",
    " */\n",
    "\n",
    "\n",
    "\n",
    "int inet_aton (const char* addr, struct in_addr* inp)\n",
    "/*             ^^^^^^^^^^^^^^^^                       a string containing an IPv4 address in dotted-decimal notation\n",
    " *                               ^^^^^^^^^^^^^^^^^^^  a pointer to a 'struct in_addr', which will contain a 32-bit integer representation of the IPv4 address in network byte order\n",
    " *\n",
    " * inet_aton - \"ASCII to network\"\n",
    " *\n",
    " * returns\n",
    " * =======\n",
    " *     non 0  success\n",
    " *         0  failure\n",
    " * \n",
    " * \n",
    " * \n",
    " * int inet_pton (int af, const char *addr, struct in_addr *inp)\n",
    " *                ^^^^^^                                         address family: either `AF_INET` for IPv4 or `AF_INET6` for IPv6\n",
    " * int inet_aton (        const char *addr, struct in_addr *inp)\n",
    " *                        ^^^^^^^^^^^^^^^^                       a string that contains a dotted-decimal IPv4 address\n",
    " *                                          ^^^^^^^^^^^^^^^^^^^  a pointer to a 32-bit (binary form) UNIX network address structure `struct in_addr`\n",
    " *\n",
    " *    convert a string into an IPv4 address\n",
    " *    returns\n",
    " *         on failure, 0\n",
    " *         on success, a non-zero value (usually 1)\n",
    " */\n",
    "\n",
    "\n",
    "\n",
    "char* inet_ntoa (struct in_addr* in)\n",
    "/*               ^^^^^^^^^^^^^^^^^^  a `struct in_addr` representing an IPv4 address in network byte order\n",
    " *\n",
    " * inet_ntoa - \"Network to ASCII\"\n",
    " *\n",
    " * returns\n",
    " * =======\n",
    " *     a pointer to a statically-allocated string containing the dotted-decimal string representation of the IPv4 address\n",
    " *\n",
    " * notes\n",
    " * =====\n",
    " *     since the string is stored in a static buffer its contents may be overwritten by subsequent calls to `inet_ntoa`\n",
    " *     the returned string should not be freed or modified, since it points to memory managed by the function itself\n",
    " *     the function is not thread-safe because the internal static buffer can be overwritten by concurrent calls\n",
    " * \n",
    " * \n",
    " * \n",
    " *       char *inet_ntoa (struct in_addr in)\n",
    " *           convert an IPv4 address in its binary form (i.e., a UNIX `struct in_addr`) into an ASCII string in dotted-decimal notation\n",
    " *           returns a valid pointer to a string\n",
    " *               on failure, undefined behavior\n",
    " *               on success, a pointer to a statically-allocated ASCII string representing the IPv4 address in dotted-decimal notation\n",
    " */\n",
    "\n",
    "\n",
    "\n",
    "in_addr_t inet_addr (const char* cp)\n",
    "/*                   ^^^^^^^^^^^^^^  dotted-decimal IPv4 string\n",
    " *\n",
    " * returns\n",
    " * =======\n",
    " *     in_addr_t, an alias for uint32_t\n",
    " *\n",
    " */\n",
    "```"
   ]
  },
  {
   "cell_type": "markdown",
   "metadata": {},
   "source": [
    "```c\n",
    "#include <arpa/inet.h> // in_addr_t, INADDR_NONE, struct in_addr\n",
    "#include <stdio.h>     // printf, scanf\n",
    "#include <stdlib.h>    // exit\n",
    "\n",
    "int main (int argc, char** argv)\n",
    "{\n",
    "  /******************************\n",
    "   *\n",
    "   *    inet_aton\n",
    "   *\n",
    "   ******************************/\n",
    "  struct in_addr addr; // 32-bit IPv4 address in network-byte order\n",
    "  char s[20];\n",
    "  printf(\"Enter an IPv4 address in dotted-decimal notation: \");\n",
    "  scanf(\"%s\", s);\n",
    "\n",
    "  if (inet_aton(s, &addr) == 0)\n",
    "  {\n",
    "    printf(\"Error - inet_aton could not convert [%s].\\nExiting...\\n\", s);\n",
    "    exit(1);\n",
    "  }\n",
    "\n",
    "  printf(\"Network byte order : 0x%08x\\n\", addr.s_addr);\n",
    "  printf(\"ASCII              : %s\\n\", inet_ntoa(addr));\n",
    "\n",
    "  /******************************\n",
    "   *\n",
    "   *    inet_addr\n",
    "   *\n",
    "   ******************************/\n",
    "\n",
    "  char s2[20];\n",
    "  printf(\"Enter an IPv4 address in dotted-decimal notation: \");\n",
    "  scanf(\"%s\", s2);\n",
    "\n",
    "  int ret_val = inet_addr(s2);\n",
    "  printf(\"inet_addr(%s) = %d\\n\", s2, ret_val);\n",
    "\n",
    "  if (ret_val == INADDR_NONE)\n",
    "  {\n",
    "    printf(\"Error - inet_addr could not convert [%s].\\nExiting...\\n\", s2);\n",
    "    exit(1);\n",
    "  }\n",
    "\n",
    "  printf(\"inet_addr          : 0x%08x\\n\", inet_addr(s));\n",
    "\n",
    "  return 0;\n",
    "}\n",
    "```"
   ]
  },
  {
   "cell_type": "markdown",
   "metadata": {},
   "source": [
    "### `inet_pton`"
   ]
  },
  {
   "cell_type": "markdown",
   "metadata": {},
   "source": [
    "```c\n",
    "int inet_pton (int af, const char* src, void* dst)\n",
    "/*             ^^^^^^                              address family (either AF_INET or AF_INET6)\n",
    " *                     ^^^^^^^^^^^^^^^             a pointer to the null-terminated string containing the IP address\n",
    " *                                      ^^^^^^^^^  a pointer to the memory where the binary form of the IP address will be stored (a `struct in_addr`)\n",
    " *\n",
    " * returns\n",
    " *     1  success\n",
    " *     0  the input address string is not valid for the specified address family\n",
    " *    -1  an error occurred (e.g., invalid address family), and errno is set to indicate the error\n",
    " *\n",
    " * header: arpa/inet.h\n",
    " */\n",
    "```"
   ]
  },
  {
   "cell_type": "markdown",
   "metadata": {},
   "source": [
    "### `inet_ntop`"
   ]
  },
  {
   "cell_type": "markdown",
   "metadata": {},
   "source": [
    "```c\n",
    "const char* inet_ntop (int af, const void* src, char* dst, socklen_t size)\n",
    "/*                     ^^^^^^                                              address family: either `AF_INET` for IPv4 or `AF_INET6` for IPv6\n",
    " *                             ^^^^^^^^^^^^^^^                             a pointer to the buffer containing the network address in binary form\n",
    " *                                              ^^^^^^^^^                  a pointer to the buffer where the function will store the resulting null-terminated string\n",
    " *                                                         ^^^^^^^^^^^^^^  the size of the buffer pointed to by `dst` including the null terminator: either INET_ADDRSTRLEN for IPv4 or INET6_ADDRSTRLEN for IPv6\n",
    " *\n",
    " * returns\n",
    " * =======\n",
    " *     on failure, the NULL terminator (and the global variable `errno` is set to indicate the specific error that occurred)\n",
    " *     on success, a pointer to buffer `dst` which stores the null-terminated string representation of the IP address\n",
    " */\n",
    "```"
   ]
  },
  {
   "cell_type": "markdown",
   "metadata": {},
   "source": [
    "### `socket`"
   ]
  },
  {
   "cell_type": "markdown",
   "metadata": {},
   "source": [
    "```c\n",
    "int socket (int domain, int type, int protocol)\n",
    "/*          ^^^^^^^^^^                          the communication domain, either AF_INET or AF_INET6 (the socket's protocol family)\n",
    " *                      ^^^^^^^^                the communication semantics, either SOCK_STREAM (a stream using TCP) or SOCK_DGRAM (a datagram using UDP)\n",
    " *                                ^^^^^^^^^^^^  the particular protocol (almost always 0)\n",
    " *\n",
    " * socket\n",
    " * ======\n",
    " *     create a new socket (doesn't actually connect to anything)\n",
    " *\n",
    " * args\n",
    " * ====\n",
    " *     protocol family\n",
    " *     type of socket\n",
    " *     protocol\n",
    " *         the spec allows for multiple protocols within a protocol family: this arg is used to select a protocol from a protocol family\n",
    " *         in practice, most protocol families only have one protocol and so this should usually be set to 0 (the first and only protocol in the enumeration of the family)\n",
    " *\n",
    " * returns\n",
    " * =======\n",
    " *     fd, on success\n",
    " *     -1, on failure\n",
    " */\n",
    "\n",
    "int sockfd;\n",
    "if ((sockfd = socket(AF_INET, SOCK_STREAM, 0)) == -1) {\n",
    "  printf(\"error on socket creation [%s]\\n\", strerror(errno));\n",
    "  return -1;\n",
    "}\n",
    "```"
   ]
  },
  {
   "cell_type": "markdown",
   "metadata": {},
   "source": [
    "### `setsockopt`"
   ]
  },
  {
   "cell_type": "markdown",
   "metadata": {},
   "source": [
    "```c\n",
    "int setsockopt (int sockfd, int level, int option_name, const void* option_value, socklen_t option_len)\n",
    "/*              ^^^^^^^^^^                                                                              the socket to modify\n",
    " *                          ^^^^^^^^^                                                                   the protocol level at which the option resides\n",
    " *                                     ^^^^^^^^^^^^^^^                                                  the option\n",
    " *                                                      ^^^^^^^^^^^^^^^^^^^^^^^^                        a pointer to the data that the option should be set to\n",
    " *                                                                                ^^^^^^^^^^^^^^^^^^^^  the length of this data\n",
    " *\n",
    " * returns\n",
    " * =======\n",
    " *      0    success\n",
    " *     -1    failure\n",
    " *\n",
    " * levels\n",
    " * ======\n",
    " *     SOL_SOCKET     socket-layer (timeouts, address reuse)\n",
    " *     IPPROTO_TCP    TCP options\n",
    " *     IPPROTO_IP     IP options\n",
    " *\n",
    " * options\n",
    " * =======\n",
    " *     SO_RCVTIMEO\n",
    " *     SO_REUSEADDR    32-bit integer (to set this option to true, the final two args must be a pointer to the integer value 1 and the size of an integer, 4 B)\n",
    " */\n",
    "```"
   ]
  },
  {
   "cell_type": "markdown",
   "metadata": {},
   "source": [
    "### `connect`"
   ]
  },
  {
   "cell_type": "markdown",
   "metadata": {},
   "source": [
    "```c\n",
    "int connect (int sockfd, struct sockaddr* serv_addr, socklen_t addrlen)\n",
    "/*           ^^^^^^^^^^                                                 the socket file descriptor\n",
    " *                       ^^^^^^^^^^^^^^^^^^^^^^^^^^                     a pointer to the             address struct, which represents the remote host\n",
    " *                                                   ^^^^^^^^^^^^^^^^^               the size of the address struct\n",
    " *\n",
    " * connect\n",
    " *     connects a socket `sockfd` to remote host `serv_addr`\n",
    " *     system call\n",
    " *\n",
    " * returns\n",
    " * =======\n",
    " *      0  successful\n",
    " *     -1  failure, and `errno` is set to indicate the error\n",
    " */\n",
    "```"
   ]
  },
  {
   "cell_type": "markdown",
   "metadata": {},
   "source": [
    "```c\n",
    "if (connect(sockfd, (const struct sockaddr *) &saddr, sizeof(saddr)) == -1) {\n",
    "  return -1;\n",
    "}\n",
    "```"
   ]
  },
  {
   "cell_type": "markdown",
   "metadata": {},
   "source": [
    "### `bind`"
   ]
  },
  {
   "cell_type": "markdown",
   "metadata": {},
   "source": [
    "```c\n",
    "int bind (int sockfd, struct sockaddr* addr, socklen_t addrlen)\n",
    "/*        ^^^^^^^^^^                                            socket file descriptor\n",
    " *                    ^^^^^^^^^^^^^^^^^^^^^                     a pointer to the address struct (represents the local host, or client)\n",
    " *                                           ^^^^^^^^^^^^^^^^^  the size of the address struct\n",
    " *\n",
    " * bind (sys call) - binds a socket to a local address (so that it can listen for incoming connections)\n",
    " * returns\n",
    " *      0  success\n",
    " *     -1  failure\n",
    " */\n",
    "\n",
    "if (bind(sockfd, (const struct sockaddr *) &saddr, sizeof(saddr)) == -1) {\n",
    "  return -1;\n",
    "}\n",
    "```"
   ]
  },
  {
   "cell_type": "markdown",
   "metadata": {},
   "source": [
    "### `listen`"
   ]
  },
  {
   "cell_type": "markdown",
   "metadata": {},
   "source": [
    "```c\n",
    "int listen (int sockfd, int backlog)\n",
    "/*          ^^^^^^^^^^               the file descriptor of the socket that will be used to listen for incoming conections\n",
    " *                      ^^^^^^^^^^^  the maximum number of connections that can be queued for acceptance; when the queue is full, the server may refuse additional incoming connections\n",
    " *\n",
    " * returns\n",
    " *      0  success\n",
    " *     -1  failure, and `errno` is set to indicate the error\n",
    " * notes\n",
    " *     listen - tells the OS to receive connections for the process\n",
    " *     system call\n",
    " *     marks a socket as passive (puts it into a listening state): it will be used to accept incoming connection requests\n",
    " *     the passive socket will listen for incoming connection requests and queue them so that they can be accepted later via `accept`\n",
    " *     a program may process connections as fast as it wants, and the OS will hold the client in a waiting state until you are ready\n",
    " *     but beware of waiting too long - timeout\n",
    " */\n",
    "\n",
    "if (listen(sockfd, 5) == -1) {\n",
    "  return -1;\n",
    "}\n",
    "```"
   ]
  },
  {
   "cell_type": "markdown",
   "metadata": {},
   "source": [
    "### `accept`"
   ]
  },
  {
   "cell_type": "markdown",
   "metadata": {},
   "source": [
    "```c\n",
    "int accept (int sockfd, struct sockaddr* server_addr, socklen_t* addrlen)\n",
    "/*          ^^^^^^^^^^                                                    a new socket file descriptor which represents the new connection\n",
    " *                      ^^^^^^^^^^^^^^^^^^^^^^^^^^^^                      remote host address information\n",
    " *                                                    ^^^^^^^^^^^^^^^^^^  and its size\n",
    " *\n",
    " * accept\n",
    " *     accepts an incoming connection on a bound socket\n",
    " *     the remote host's address information is written to `server_addr`\n",
    " * returns\n",
    " *     new_sockfd  success\n",
    " *             -1  failure\n",
    " */\n",
    "```"
   ]
  },
  {
   "cell_type": "markdown",
   "metadata": {},
   "source": [
    "### `read`"
   ]
  },
  {
   "cell_type": "markdown",
   "metadata": {},
   "source": [
    "```c\n",
    "ssize_t read (int fd, void* buf, size_t count)\n",
    "/*            ^^^^^^                                 socket file descriptor to receive data from\n",
    " *                    ^^^^^^^^^                      a buffer to hold the received data\n",
    " *                               ^^^^^^^^^^^^        the maximum number of bytes to receive\n",
    " *\n",
    " * read - receive data from a socket and store it in a buffer\n",
    " *\n",
    " * returns\n",
    " * =======\n",
    " *     >0         success, the number of bytes received from the socket (make sure to check this value)\n",
    " *      0 (EOF)   failure, the other side of the connection closed the socket\n",
    " *     -1         failure, error\n",
    " *\n",
    " * notes\n",
    " * =====\n",
    " *     make sure to supply a buffer that is large enough for the received data\n",
    " *     make sure to look out for memory corruption when the buffer is too small\n",
    " *     make sure to check the return value, and compare it against the expected size\n",
    " * \n",
    " *         blocking - by default, `read` blocks (i.e., pauses execution) until at least one byte of data is available to read, or the connection is closed\n",
    " *                  - this is useful when you want to wait for data\n",
    " *     non-blocking - if the socket is set to non-blocking mode, `read` will return immediately even if no data is available\n",
    " *                  - this is useful if you want the program to stay responsive\n",
    " *                  - if no data is read, `read` returns -1 and sets `errno` to `EAGAIN` or `EWOULDBLOCK`\n",
    " * \n",
    " *     partial read - `read` may read fewer bytes than requested if fewer bytes are available at the time of the call; thus, repeated calls to `read` might be necessary to read all the data, esp. for larger messages or files\n",
    " */\n",
    " ```"
   ]
  },
  {
   "cell_type": "markdown",
   "metadata": {},
   "source": [
    "```c\n",
    "/* example_read.c\n",
    " *\n",
    " *\n",
    " *\n",
    " */\n",
    "\n",
    "#include <stdio.h>     // perror, printf\n",
    "#include <sys/types.h> // ssize_t\n",
    "#include <unistd.h>    // close, read\n",
    "\n",
    "int main (int argc, char** argv)\n",
    "{\n",
    "  int sockfd;\n",
    "  char buf[1024];\n",
    "  ssize_t bytes_read;\n",
    "\n",
    "  /* CREATE and CONNECT SOCKET */\n",
    "\n",
    "  bytes_read = read(sockfd, buf, sizeof(buf) - 1);\n",
    "  //                             ^^^^^^^^^^^^^^^ leave a byte for the null terminator\n",
    "  //                                             `read` attempts to read up 1023 B from the socket\n",
    "\n",
    "  if (bytes_read > 0) // if successful, print the received data\n",
    "  {\n",
    "    buf[bytes_read] = '\\0'; // null-terminate the buffer\n",
    "    printf(\"Received: %s\\n\", buf);\n",
    "  }\n",
    "  else if (bytes_read == 0)\n",
    "  {\n",
    "    printf(\"Connection closed by peer.\\n\");\n",
    "  }\n",
    "  else\n",
    "  {\n",
    "    perror(\"read\");\n",
    "  }\n",
    "\n",
    "  /* CLOSE SOCKET */\n",
    "\n",
    "  return 0;\n",
    "}\n",
    "```"
   ]
  },
  {
   "cell_type": "markdown",
   "metadata": {},
   "source": [
    "### `write`"
   ]
  },
  {
   "cell_type": "markdown",
   "metadata": {},
   "source": [
    "```c\n",
    "ssize_t write (int fd, const void* buf, size_t count)\n",
    "/*             ^^^^^^                                 socket file descriptor to send data to\n",
    " *                     ^^^^^^^^^^^^^^^                a buffer which holds the data to send\n",
    " *                                      ^^^^^^^^^^^^  the maximum number of bytes to send\n",
    " *\n",
    " * write - send data to a socket\n",
    " *\n",
    " * returns\n",
    " * =======\n",
    " *     the number of bytes sent to the socket (make sure to check this value)\n",
    " *\n",
    " * notes\n",
    " * =====\n",
    " *     make sure to check the return value, and compare it against the expected size\n",
    " */\n",
    "```"
   ]
  },
  {
   "cell_type": "markdown",
   "metadata": {},
   "source": [
    "### `send`"
   ]
  },
  {
   "cell_type": "markdown",
   "metadata": {},
   "source": [
    "```c\n",
    "int send (int sockfd, void* buf, size_t n, int flags)\n",
    "/*        ^^^^^^^^^^                                  the socket to send the data to\n",
    " *                    ^^^^^^^^^                       a pointer to the start of the data to send\n",
    " *                               ^^^^^^^^             the number of bytes to send\n",
    " *                                         ^^^^^^^^^\n",
    " *\n",
    " * send\n",
    " * ====\n",
    " *     sends n bytes from `buf` to the socket `sockfd`\n",
    " *\n",
    " * returns\n",
    " * =======\n",
    " *     n bytes, on success\n",
    " *          -1, on failure\n",
    " */\n",
    "```"
   ]
  },
  {
   "cell_type": "markdown",
   "metadata": {},
   "source": [
    "### `recv`"
   ]
  },
  {
   "cell_type": "markdown",
   "metadata": {},
   "source": [
    "```c\n",
    "int recv (int sockfd, void* buf, size_t n, int flags)\n",
    "/*        ^^^^^^^^^^                                  the socket to write the data to\n",
    " *                    ^^^^^^^^^                       a pointer to the start of the data to write\n",
    " *                               ^^^^^^^^             the number of bytes to receive\n",
    " *                                         ^^^^^^^^^\n",
    " *\n",
    " * recv\n",
    " * ====\n",
    " *     receives n bytes from the socket `sockfd` and writes them to `buf`\n",
    " *\n",
    " * returns\n",
    " * =======\n",
    " *     n bytes, on success\n",
    " *          -1, on failure\n",
    " */\n",
    "```"
   ]
  },
  {
   "cell_type": "markdown",
   "metadata": {},
   "source": [
    "### `close`"
   ]
  },
  {
   "cell_type": "markdown",
   "metadata": {},
   "source": [
    "```c\n",
    "int close (int fd)\n",
    "/*         ^^^^^^  socket file descriptor to close\n",
    " *\n",
    " * close - closes the connection, and deletes the associated entry in the OS's internal structures\n",
    " *\n",
    " * returns\n",
    " * =======\n",
    " *      0  success\n",
    " *     -1  failure, and `errno` is set to indicate the error\n",
    " */\n",
    "```"
   ]
  },
  {
   "cell_type": "markdown",
   "metadata": {},
   "source": [
    "```c\n",
    "if (close(sockfd) == -1) {\n",
    "  perror(\"close\");\n",
    "  sockfd = -1;\n",
    "  exit(1);\n",
    "}\n",
    "```"
   ]
  },
  {
   "cell_type": "markdown",
   "metadata": {},
   "source": [
    "---"
   ]
  },
  {
   "cell_type": "markdown",
   "metadata": {},
   "source": [
    "### DNS"
   ]
  },
  {
   "cell_type": "markdown",
   "metadata": {},
   "source": [
    "### Domain name resolution"
   ]
  },
  {
   "cell_type": "markdown",
   "metadata": {},
   "source": [
    "#### old way"
   ]
  },
  {
   "cell_type": "markdown",
   "metadata": {},
   "source": [
    "```c\n",
    "#include <netdb.h> /* gethostbyname, struct hostent */\n",
    "\n",
    "struct hostent {\n",
    "    char *h_name;         // Official name of the host\n",
    "    char **h_aliases;     // Null-terminated array of alternate names\n",
    "    int  h_addrtype;      // Address type (AF_INET for IPv4, AF_INET6 for IPv6)\n",
    "    int  h_length;        // Length of the address (in bytes)\n",
    "    char **h_addr_list;   // Null-terminated array of addresses\n",
    "};\n",
    "\n",
    "struct hostent* gethostbyname (const char* name)\n",
    "/*                             ^^^^^^^^^^^^^^^^  a string containing the name to resolve\n",
    " *\n",
    " * gethostbyname - runs a DNS lookup on a name and return the associated host information\n",
    " *\n",
    " * returns\n",
    " * =======\n",
    " *     (struct hostent *)  success, a pointer to a `hostent` structure which stores information about the host with the given hostname or IPv4 address in standard dot notation\n",
    " *     NULL                failure, and sets `h_errno` (e.g., HOST_NOT_FOUND, NO_DATA, etc.) to indicate the error\n",
    " *\n",
    " * notes\n",
    " * =====\n",
    " *     function `gethostbyname` is an older function used to resolve a host name into an IP address\n",
    " *     it retrieves the host information from the domain name system or local hosts file\n",
    " *     it lacks support for IPv6 and is not thread-safe\n",
    " *\n",
    " *     hostent structure\n",
    " *         hostent->h_name         a string which stores a fully-qualified domain name\n",
    " *         hostent->h_addr_list    an array of pointers to IP addresses\n",
    " */\n",
    "```"
   ]
  },
  {
   "cell_type": "markdown",
   "metadata": {},
   "source": [
    "```c\n",
    "/* network_dns_example_old.c */\n",
    "\n",
    "#include <arpa/inet.h> /* inet_ntoa, struct in_addr */\n",
    "#include <netdb.h>     /* gethostbyname, struct hostent */\n",
    "#include <stdio.h>     /* perror, printf */\n",
    "#include <string.h>    /* memcpy */\n",
    "\n",
    "int main (int argc, char** argv) {\n",
    "  const char* hostname = \"www.example.com\";\n",
    "\n",
    "  struct hostent* he;\n",
    "  struct in_addr addr;\n",
    "\n",
    "  if ((he = gethostbyname(hostname)) == NULL) {\n",
    "    perror(\"gethostbyname\");\n",
    "    return 1;\n",
    "  }\n",
    "\n",
    "  printf(\"Official hostname: %s\\n\", he->h_name);\n",
    "\n",
    "  for (char** addr_list = he->h_addr_list; *addr_list != NULL; addr_list++) {\n",
    "    memcpy(&addr, *addr_list, sizeof(struct in_addr));\n",
    "    printf(\"IP address: %s\\n\", inet_ntoa(addr));\n",
    "  }\n",
    "\n",
    "  return 0;\n",
    "}\n",
    "```"
   ]
  },
  {
   "cell_type": "markdown",
   "metadata": {},
   "source": [
    "```c\n",
    "/* network_dns_old_example_2.c */\n",
    "\n",
    "#include <arpa/inet.h> /* inet_ntoa */\n",
    "#include <netdb.h>     /* gethostbyname, struct hostent */\n",
    "#include <stdio.h>     /* printf */\n",
    "\n",
    "int main (int argc, char** argv) {\n",
    "  char* hostname = \"cse.psu.edu\";\n",
    "\n",
    "  struct hostent* host_info;\n",
    "  struct in_addr** addr_list;\n",
    "\n",
    "  if ((host_info = gethostbyname(hostname)) == NULL) {\n",
    "    return -1;\n",
    "  }\n",
    "\n",
    "  addr_list = (struct in_addr **) host_info->h_addr_list;\n",
    "\n",
    "  printf(\"DNS lookup [%s] address [%s]\\n\", host_info->h_name, inet_ntoa(*addr_list[0]));\n",
    "\n",
    "  return 0;\n",
    "}\n",
    "```"
   ]
  },
  {
   "cell_type": "markdown",
   "metadata": {},
   "source": [
    "#### new way"
   ]
  },
  {
   "cell_type": "markdown",
   "metadata": {},
   "source": [
    "```c\n",
    "/******************************\n",
    " *\n",
    " *     DNS\n",
    " *\n",
    " ******************************/\n",
    "\n",
    "#include <sys/types.h>\n",
    "#include <sys/socket.h>\n",
    "#include <netdb.h>\n",
    "\n",
    "struct addrinfo {\n",
    "    int              ai_flags;     // Input flags\n",
    "    int              ai_family;    // Address family (AF_INET, AF_INET6)\n",
    "    int              ai_socktype;  // Socket type (SOCK_STREAM, SOCK_DGRAM)\n",
    "    int              ai_protocol;  // Protocol (0 for any protocol)\n",
    "    socklen_t        ai_addrlen;   // Length of ai_addr\n",
    "    struct sockaddr *ai_addr;      // Pointer to sockaddr structure\n",
    "    char            *ai_canonname; // Canonical name\n",
    "    struct addrinfo *ai_next;      // Pointer to next addrinfo structure\n",
    "};\n",
    "\n",
    "int getaddrinfo (const char* node, const char* service, const struct addrinfo* hints, struct addrinfo** res)\n",
    "/*               ^^^^^^^^^^^^^^^^                                                                            node: A string containing a hostname (e.g., \"www.example.com\") or an IP address (e.g., \"192.168.1.1\" for IPv4 or \"2001:db8::1\" for IPv6). If set to NULL, the function will return wildcard addresses suitable for binding.\n",
    " *                                 ^^^^^^^^^^^^^^^^^^^                                                       service: A string containing a service name (e.g., \"http\", \"ftp\", or \"80\") or a port number (as a string). If set to NULL, only the address is resolved, but no port information is returned.\n",
    " *                                                      ^^^^^^^^^^^^^^^^^^^^^^^^^^^^                         hints: A pointer to a struct addrinfo used to provide hints about the types of addresses you want. This structure allows you to specify options such as preferred address family (IPv4 or IPv6) and socket type (TCP or UDP). You can pass NULL to get default behavior.\n",
    " *                                                                                    ^^^^^^^^^^^^^^^^^^^^^  res: A pointer to a linked list of struct addrinfo structures. The results of the address resolution are stored here. You must free this list later using freeaddrinfo().\n",
    " *\n",
    " * returns\n",
    " *         0  success\n",
    " *     non 0  failure (can be interpreted via function `gai_strerror`)\n",
    " * notes\n",
    " *     the POSIX way to resolve domain names into a list of address structures\n",
    " *     it is a complicated system call\n",
    " */\n",
    "\n",
    "freeaddrinfo();\n",
    "```"
   ]
  },
  {
   "cell_type": "markdown",
   "metadata": {},
   "source": [
    "---"
   ]
  },
  {
   "cell_type": "markdown",
   "metadata": {},
   "source": [
    "## Client"
   ]
  },
  {
   "cell_type": "markdown",
   "metadata": {},
   "source": [
    "```c\n",
    "/* client\n",
    " *     1. determine server socket\n",
    " *     2. create client socket\n",
    " *     3. connect client socket to server\n",
    " *     4. read/write data via socket\n",
    " *     5. close the socket\n",
    " */\n",
    "\n",
    "\n",
    "```"
   ]
  },
  {
   "cell_type": "markdown",
   "metadata": {},
   "source": [
    "---"
   ]
  },
  {
   "cell_type": "markdown",
   "metadata": {},
   "source": [
    "```c\n",
    "/* server\n",
    " *     1. determine port to bind to\n",
    " *     2. create server socket\n",
    " *     3. bind the service\n",
    " *     4. listen for connections\n",
    " *     5. receive a connection\n",
    " *     6. read/write data\n",
    " *     7. close the socket\n",
    " */"
   ]
  },
  {
   "cell_type": "markdown",
   "metadata": {},
   "source": [
    "---"
   ]
  },
  {
   "cell_type": "markdown",
   "metadata": {},
   "source": [
    "* https://stackoverflow.com/questions/76940582/why-struct-in-addr-is-needed"
   ]
  },
  {
   "cell_type": "markdown",
   "metadata": {},
   "source": [
    "---"
   ]
  }
 ],
 "metadata": {
  "language_info": {
   "name": "python"
  }
 },
 "nbformat": 4,
 "nbformat_minor": 2
}
