{
 "cells": [
  {
   "cell_type": "markdown",
   "metadata": {},
   "source": [
    "# Operating Systems"
   ]
  },
  {
   "cell_type": "markdown",
   "metadata": {},
   "source": [
    "---"
   ]
  },
  {
   "cell_type": "markdown",
   "metadata": {},
   "source": [
    "## Table of Contents\n",
    "```{contents}\n",
    "```"
   ]
  },
  {
   "cell_type": "markdown",
   "metadata": {},
   "source": [
    "---"
   ]
  },
  {
   "cell_type": "markdown",
   "metadata": {},
   "source": [
    "## Sections\n",
    "```{tableofcontents}\n",
    "```"
   ]
  },
  {
   "cell_type": "markdown",
   "metadata": {},
   "source": [
    "---"
   ]
  },
  {
   "cell_type": "markdown",
   "metadata": {},
   "source": [
    "## Resources"
   ]
  },
  {
   "cell_type": "markdown",
   "metadata": {},
   "source": [
    "[ [h](https://www.gnu.org/) ] GNU\n",
    "* [ [h](https://www.gnu.org/software/coreutils/) ] coreutils\n",
    "* [ [h](https://www.gnu.org/software/diffutils/) ] diffutils\n",
    "* [ [h](https://www.gnu.org/software/findutils/) ] findutils\n",
    "* [ [h](https://www.sourceware.org/gdb/) ] gdb"
   ]
  },
  {
   "cell_type": "markdown",
   "metadata": {},
   "source": [
    "https://github.com/donnemartin/system-design-primer"
   ]
  },
  {
   "cell_type": "markdown",
   "metadata": {},
   "source": [
    "### YouTube"
   ]
  },
  {
   "cell_type": "markdown",
   "metadata": {},
   "source": [
    "* [ [y](https://www.youtube.com/watch?v=dOiA2nNJpc0) ] `06-14-2023`. LECTURES FOR SLEEP & STUDY. \"Introduction to Operating System | Full Course for Beginners Mike Murphy 🌚 Lecture for Sleep & Study\"."
   ]
  },
  {
   "cell_type": "markdown",
   "metadata": {},
   "source": [
    "---"
   ]
  },
  {
   "cell_type": "markdown",
   "metadata": {},
   "source": [
    "## Terms"
   ]
  },
  {
   "cell_type": "markdown",
   "metadata": {},
   "source": [
    "* [ [w](https://en.wikipedia.org/wiki/Adapter_pattern) ] Adapter Pattern\n",
    "* [ [w](https://en.wikipedia.org/wiki/Address_space) ] Address Space\n",
    "* [ [w](https://en.wikipedia.org/wiki/Advanced_Configuration_and_Power_Interface) ] ACPI Advanced Configuration and Power Interface\n",
    "* [ [w](https://en.wikipedia.org/wiki/Anonymous_pipe) ] Anonymous Pipe\n",
    "* [ [w](https://en.wikipedia.org/wiki/Background_process) ] Background Process\n",
    "* [ [w](https://en.wikipedia.org/wiki/BIOS) ] [BIOS] Basic Input/Output System\n",
    "* [ [w](https://en.wikipedia.org/wiki/Batch_processing) ] Batch Processing\n",
    "* [ [w](https://en.wikipedia.org/wiki/Binary_file) ] Binary File\n",
    "* [ [w](https://en.wikipedia.org/wiki/Booting) ] Boot\n",
    "* [ [w](https://en.wikipedia.org/wiki/Boot_sector) ] Boot Sector\n",
    "* [ [w](https://en.wikipedia.org/wiki/Bootloader) ] Bootloader\n",
    "* [ [w](https://en.wikipedia.org/wiki/Call_stack) ] Call Stack\n",
    "* [ [w](https://en.wikipedia.org/wiki/Child_process) ] Child Process\n",
    "* [ [w](https://en.wikipedia.org/wiki/Core_dump) ] Core Dump\n",
    "* [ [w](https://en.wikipedia.org/wiki/Context_switch) ] Context Switch\n",
    "* [ [w](https://en.wikipedia.org/wiki/CPU_time) ] CPU Time\n",
    "* [ [w](https://en.wikipedia.org/wiki/Crash_(computing)) ] Crash\n",
    "* [ [w](https://en.wikipedia.org/wiki/Crash_reporter) ] Crash Reporter\n",
    "* [ [w](https://en.wikipedia.org/wiki/Daemon_(computing)) ] Daemon\n",
    "* [ [w](https://en.wikipedia.org/wiki/Device_file) ] Device File\n",
    "* [ [w](https://en.wikipedia.org/wiki/Disk_operating_system) ] DOS Disk Operating System\n",
    "* [ [w](https://en.wikipedia.org/wiki/Disk_partitioning) ] Disk Partitioning\n",
    "* [ [w](https://en.wikipedia.org/wiki/DOS) ] DOS\n",
    "* [ [w](https://en.wikipedia.org/wiki/Embedded_system) ] Embedded System\n",
    "* [ [w](https://en.wikipedia.org/wiki/Environment_variable) ] Environment Variable\n",
    "* [ [w](https://en.wikipedia.org/wiki/Exit_(system_call)) ] Exit\n",
    "* [ [w](https://en.wikipedia.org/wiki/Exit_status) ] Exit Status\n",
    "* [ [w](https://en.wikipedia.org/wiki/Fatal_system_error) ] Fatal System Error\n",
    "* [ [w](https://en.wikipedia.org/wiki/Fault_detection_and_isolation) ] FDIR Fault Detection, Isolation, and Recovery\n",
    "* [ [w](https://en.wikipedia.org/wiki/File_descriptor) ] File Descriptor\n",
    "* [ [w](https://en.wikipedia.org/wiki/File-system_permissions) ] File System Permissions\n",
    "* [ [w](https://en.wikipedia.org/wiki/FIFO_(computing_and_electronics)) ] FIFO First In First Out\n",
    "* [ [w](https://en.wikipedia.org/wiki/Flag_(programming)) ] Flag\n",
    "* [ [w](https://en.wikipedia.org/wiki/Traffic_flow_(computer_networking)) ] Flow\n",
    "* [ [w](https://en.wikipedia.org/wiki/Fork_(system_call)) ] Fork\n",
    "* [ [w](https://en.wikipedia.org/wiki/Handle_(computing)) ] Handle\n",
    "* [ [w](https://en.wikipedia.org/wiki/Hibernation_(computing)) ] Hibernation\n",
    "* [ [w](https://en.wikipedia.org/wiki/Inter-process_communication) ] IPC Inter Process Communication\n",
    "* [ [w](https://en.wikipedia.org/wiki/Interrupt) ] Interrupt\n",
    "* [ [w](https://en.wikipedia.org/wiki/Job_control_(Unix)) ] Job Control\n",
    "* [ [w](https://en.wikipedia.org/wiki/Kernel_(operating_system)) ] Kernel\n",
    "* [ [w](https://en.wikipedia.org/wiki/Kernel_panic) ] Kernel Panic\n",
    "* [ [w](https://en.wikipedia.org/wiki/User_space_and_kernel_space) ] Kernel Space\n",
    "* [ [w](https://en.wikipedia.org/wiki/Stack_(abstract_data_type)) ] LIFO Last In First Out\n",
    "* [ [w](https://en.wikipedia.org/wiki/Login_session) ] Login Session\n",
    "* [ [w](https://en.wikipedia.org/wiki/Magic_number_(programming)) ] Magic Number\n",
    "* [ [w](https://en.wikipedia.org/wiki/Memory_segmentation) ] Memory Segmentation\n",
    "* [ [w](https://en.wikipedia.org/wiki/Mount_(computing)) ] Mounting\n",
    "* [ [w](https://en.wikipedia.org/wiki/Computer_multitasking) ] Multitasking\n",
    "* [ [w](https://en.wikipedia.org/wiki/Named_pipe) ] Named Pipe\n",
    "* [ [w](https://en.wikipedia.org/wiki/Network_socket) ] Network Socket\n",
    "* [ [w](https://en.wikipedia.org/wiki/Non-blocking_algorithm) ] Non-Blocking\n",
    "* [ [w](https://en.wikipedia.org/wiki/Operating_system) ] OS Operating System\n",
    "* [ [w](https://en.wikipedia.org/wiki/Orphan_process) ] Orphan Process\n",
    "* [ [w](https://en.wikipedia.org/wiki/Page_(computer_memory)) ] Page\n",
    "* [ [w](https://en.wikipedia.org/wiki/Page_table) ] Page Table\n",
    "* [ [w](https://en.wikipedia.org/wiki/Parent_process) ] Parent Process\n",
    "* [ [w](https://en.wikipedia.org/wiki/Pipeline_(Unix)) ] Pipe\n",
    "* [ [w](https://en.wikipedia.org/wiki/POSIX) ] POSIX Portable Operating System Interface\n",
    "* [ [w](https://en.wikipedia.org/wiki/Power_management) ] Power Management\n",
    "* [ [w](https://en.wikipedia.org/wiki/Process_(computing)) ] Process\n",
    "* [ [w](https://en.wikipedia.org/wiki/Process_control_block) ] PCB Process Control Block\n",
    "* [ [w](https://en.wikipedia.org/wiki/Process_group) ] Process Group\n",
    "* [ [w](https://en.wikipedia.org/wiki/Process_identifier) ] PID Process Identifier\n",
    "* [ [w](https://en.wikipedia.org/wiki/Protection_ring) ] Protection Ring\n",
    "* [ [w](https://en.wikipedia.org/wiki/Queueing_theory) ] Queueing Theory\n",
    "* [ [w](https://en.wikipedia.org/wiki/Read%E2%80%93modify%E2%80%93write) ] Read-Modify-Write\n",
    "* [ [w](https://en.wikipedia.org/wiki/Reboot) ] Reboot\n",
    "* [ [w](https://en.wikipedia.org/wiki/Redirection_(computing)) ] Redirection\n",
    "* [ [w](https://en.wikipedia.org/wiki/Scheduling_(computing)) ] Scheduling\n",
    "* [ [w](https://en.wikipedia.org/wiki/Segmentation_fault) ] Segmentation Fault\n",
    "* [ [w](https://en.wikipedia.org/wiki/Service_wrapper) ] Service Wrapper\n",
    "* [ [w](https://en.wikipedia.org/wiki/Setuid) ] setgid\n",
    "* [ [w](https://en.wikipedia.org/wiki/Setuid) ] setuid\n",
    "* [ [w](https://en.wikipedia.org/wiki/Shared_resource) ] Shared Resource\n",
    "* [ [w](https://en.wikipedia.org/wiki/Shell_(computing)) ] Shell\n",
    "* [ [w](https://en.wikipedia.org/wiki/Signal_(IPC)) ] Signal\n",
    "* [ [w](https://en.wikipedia.org/wiki/Sleep_mode) ] Sleep\n",
    "* [ [w](https://en.wikipedia.org/wiki/Spawn_(computing)) ] Spawn\n",
    "* [ [w](https://en.wikipedia.org/wiki/Stack_(abstract_data_type)) ] Stack\n",
    "* [ [w](https://en.wikipedia.org/wiki/Stack_trace) ] Stack Trace\n",
    "* [ [w](https://en.wikipedia.org/wiki/Standard_streams#Standard_error_(stderr)) ] stderr Standard Error\n",
    "* [ [w](https://en.wikipedia.org/wiki/Standard_streams#Standard_input_(stdin)) ] stdin Standard Input\n",
    "* [ [w](https://en.wikipedia.org/wiki/Standard_streams#Standard_output_(stdout)) ] stdout Standard Output\n",
    "* [ [w](https://en.wikipedia.org/wiki/Standard_streams) ] Standard Strean\n",
    "* [ [w](https://en.wikipedia.org/wiki/System_call) ] System Call\n",
    "* [ [w](https://en.wikipedia.org/wiki/System_profiler) ] System Profiler\n",
    "* [ [w](https://en.wikipedia.org/wiki/Systems_programming) ] Systems Programming\n",
    "* [ [w](https://en.wikipedia.org/wiki/Systems_theory) ] Systems Theory\n",
    "* [ [w](https://en.wikipedia.org/wiki/Test-and-set) ] Test-and-Set\n",
    "* [ [w](https://en.wikipedia.org/wiki/Thread_(computing)) ] Thread\n",
    "* [ [w](https://en.wikipedia.org/wiki/Translation_lookaside_buffer) ] TLB Translation Lookaside Buffer\n",
    "* [ [w](https://en.wikipedia.org/wiki/Unix_philosophy) ] Unix Philosophy\n",
    "* [ [w](https://en.wikipedia.org/wiki/Unix-like) ] Unix-like\n",
    "* [ [w](https://en.wikipedia.org/wiki/User_space_and_kernel_space) ] User Space\n",
    "* [ [w](https://en.wikipedia.org/wiki/Virtual_file_system) ] VFS Virtual File System\n",
    "* [ [w](https://en.wikipedia.org/wiki/Virtual_memory) ] Virtual Memory\n",
    "* [ [w](https://en.wikipedia.org/wiki/Wait_(system_call)) ] Wait\n",
    "* [ [w](https://en.wikipedia.org/wiki/Microsoft_Windows) ] Windows\n",
    "* [ [w](https://en.wikipedia.org/wiki/Year_2038_problem) ] Year 2038 Problem\n",
    "* [ [w](https://en.wikipedia.org/wiki/Zombie_process) ] Zombie Process"
   ]
  },
  {
   "cell_type": "markdown",
   "metadata": {},
   "source": [
    "Keys\n",
    "* [ [w](https://en.wikipedia.org/wiki/Alt_key) ] Alternative Key (Alt)\n",
    "* [ [w](https://en.wikipedia.org/wiki/Arrow_keys) ] Arrow Keys\n",
    "* [ [w](https://en.wikipedia.org/wiki/Break_key) ] Break Key\n",
    "* [ [w](https://en.wikipedia.org/wiki/Caps_Lock) ] Caps Lock Key\n",
    "* [ [w](https://en.wikipedia.org/wiki/Command_key) ] Command Key (Cmd)\n",
    "* [ [w](https://en.wikipedia.org/wiki/Compose_key) ] Compose Key\n",
    "* [ [w](https://en.wikipedia.org/wiki/Control_key) ] Control Key (Ctrl)\n",
    "* [ [w](https://en.wikipedia.org/wiki/Dead_key) ] Dead Key\n",
    "* [ [w](https://en.wikipedia.org/wiki/Delete_key) ] Delete Key (Del)\n",
    "* [ [w](https://en.wikipedia.org/wiki/Enter_key) ] Enter Key (Return)\n",
    "* [ [w](https://en.wikipedia.org/wiki/Function_key) ] Function Key\n",
    "* [ [w](https://en.wikipedia.org/wiki/Keyboard_layout) ] Keyboard Layout\n",
    "* [ [w](https://en.wikipedia.org/wiki/Keyboard_shortcut) ] Keyboard Shortcut\n",
    "* [ [w](https://en.wikipedia.org/wiki/Modifier_key) ] Modifier Key\n",
    "* [ [w](https://en.wikipedia.org/wiki/Option_key) ] Option Key (Opt)\n",
    "* [ [w](https://en.wikipedia.org/wiki/Shift_key) ] Shift Key\n",
    "* [ [w](https://en.wikipedia.org/wiki/Tab_key) ] Tab Key"
   ]
  },
  {
   "cell_type": "markdown",
   "metadata": {},
   "source": [
    "---"
   ]
  },
  {
   "cell_type": "markdown",
   "metadata": {},
   "source": [
    "## macOS vs Windows Primer"
   ]
  },
  {
   "cell_type": "markdown",
   "metadata": {},
   "source": [
    "* [ [y](https://www.youtube.com/watch?v=Gx59JVy74qc) ] `11-21-2023`. CHM Tech. \"Simple Tasks in Windows 11 vs macOS Sonoma\"."
   ]
  },
  {
   "cell_type": "markdown",
   "metadata": {},
   "source": [
    "---"
   ]
  },
  {
   "cell_type": "markdown",
   "metadata": {},
   "source": [
    "### Keyboard"
   ]
  },
  {
   "cell_type": "markdown",
   "metadata": {},
   "source": [
    "Common Name | Abbreviation | Symbol   | HTML Entity | Unicode Code Point | Unicode Name\n",
    "------------|--------------|---------|-------------|--------------------|-------------\n",
    "Left Arrow  | Left         | &#x2190; | `&#8592;`, `&#x2190;`, `&larr;` | U+2190 | LEFTWARDS ARROW\n",
    "Up Arrow    | Up           | &#x2191; | `&#8593;`, `&#x2191;`, `&uarr;` | U+2191 | UPWARDS ARROW\n",
    "Right Arrow | Right        | &#x2192; | `&#8594;`, `&#x2192;`, `&rarr;` | U+2192 | RIGHTWARDS ARROW\n",
    "Down Arrow  | Down         | &#x2193; | `&#8595;`, `&#x2193;`, `&darr;` | U+2193 | DOWNWARDS ARROW\n",
    "Enter       |              | &#x21B5; | `&#8629;`, `&#x21B5;`, `&crarr;` | U+21B5 | DOWNWARDS ARROW WITH CORNER LEFTWARDS\n",
    "Tab         |              | &#x21B9; | `&#8633;`, `&#x21B9;` | U+21B9 | LEFTWARDS ARROW TO BAR OVER RIGHTWARDS ARROW TO BAR\n",
    "Tab         |              | &#x21E5; | `&#8677;`, `&#x21E5;` | U+21E5 | RIGHTWARDS ARROW TO BAR\n",
    "Shift       |              | &#x21E7; | `&#8679;`, `&#x21E7;` | U+21E7 | UPWARDS WHITE ARROW\n",
    "Control     | Ctrl         | &#x2303; | `&#8963;`, `&#x2303;` | U+2303 | UP ARROWHEAD\n",
    "Command     | Cmd          | &#x2318; | `&#8984;`, `&#x2318;` | U+2318 | PLACE OF INTEREST SIGN\n",
    "Option      | Opt          | &#x2325; | `&#8997;`, `&#x2325;` | U+2325 | OPTION KEY\n",
    "Delete      | Del          | &#x232B; | `&#9003;`, `&#x232B;` | U+232B | ERASE TO THE LEFT"
   ]
  },
  {
   "cell_type": "markdown",
   "metadata": {},
   "source": [
    "---"
   ]
  },
  {
   "cell_type": "markdown",
   "metadata": {},
   "source": [
    "### Line Endings"
   ]
  },
  {
   "cell_type": "markdown",
   "metadata": {},
   "source": [
    "In Windows, the lines of a file end in both a carriage return (CR) `\\r` and a line feed (LF) `\\n` character (whereas Linux and macOS only have the latter).\n",
    "\n",
    "```bash\n",
    "tr -d '\\r' < file_windows.txt > file_linux.txt # convert Windows line endings to Linux line endings\n",
    "sed -i 's/$/\\r/' file_linux.txt                # convert Linux line endings to Windows line endings\n",
    "```"
   ]
  },
  {
   "cell_type": "markdown",
   "metadata": {},
   "source": [
    "---"
   ]
  },
  {
   "cell_type": "markdown",
   "metadata": {},
   "source": [
    "logs\n",
    "* web server\n",
    "* DNS server\n",
    "* router\n",
    "* firewall\n",
    "* IDS\n",
    "* app"
   ]
  },
  {
   "cell_type": "markdown",
   "metadata": {},
   "source": [
    "Linux\n",
    "* logs\n",
    "  * `/var/log/`\n",
    "    * `/var/log/apache2/` access and error logs for the Apache web server\n",
    "    * `/var/log/auth.log` user logins, privileged access, remote auth\n",
    "    * `/var/log/kern.log` kernel logs\n",
    "    * `/var/log/messages` general non-critical system info\n",
    "    * `/var/log/syslog` general system logs\n",
    "  * `/etc/syslog.conf`\n",
    "  * `/etc/rsyslog.conf`\n",
    "* user files\n",
    "  * `/home/`\n",
    "* history\n",
    "  * `~/.bash_history/`\n",
    "  * `echo $HISTFILE`\n",
    "* temp files\n",
    "  * `/tmp/`\n",
    "  * `/var/tmp/`\n",
    "  * `echo $TMPDIR`"
   ]
  },
  {
   "cell_type": "markdown",
   "metadata": {},
   "source": [
    "macOS\n",
    "* logs\n",
    "  * `/var/log` unix-ish system-wide event logging (apps stored in `/usr/local` or `/opt`)\n",
    "    * `/var/log/DiagnosticMessages` mac analytics\n",
    "    * `/var/log/system.log` system logs\n",
    "  * `/Library/Logs` mac-ish system-wide event logs\n",
    "    * `/Library/Logs/Diagnosticreports` system reports\n",
    "  * `~/Library/Logs` user app logs\n",
    "    * `~/Library/Logs/DiagnosticReports` user reports\n",
    "  * https://developer.apple.com/documentation/os/logging\n",
    "* user files\n",
    "  * `/Users`\n",
    "* history\n",
    "  * `~/.bash_history`\n",
    "  * `~/.zsh_history`\n",
    "* temp files"
   ]
  },
  {
   "cell_type": "markdown",
   "metadata": {},
   "source": [
    "Windows\n",
    "* logs\n",
    "  * Event Logs: `c:\\windows\\system32\\config\\`\n",
    "* user files\n",
    "  * `c:\\Users`\n",
    "* history\n",
    "* temp files\n",
    "  * `c:\\windows\\temp`\n",
    "  * `%USERPROFILE%\\AppData\\Local`"
   ]
  },
  {
   "cell_type": "markdown",
   "metadata": {},
   "source": [
    "---"
   ]
  }
 ],
 "metadata": {
  "kernelspec": {
   "display_name": "Python 3 (ipykernel)",
   "language": "python",
   "name": "python3"
  },
  "language_info": {
   "codemirror_mode": {
    "name": "ipython",
    "version": 3
   },
   "file_extension": ".py",
   "mimetype": "text/x-python",
   "name": "python",
   "nbconvert_exporter": "python",
   "pygments_lexer": "ipython3",
   "version": "3.11.9"
  }
 },
 "nbformat": 4,
 "nbformat_minor": 4
}
