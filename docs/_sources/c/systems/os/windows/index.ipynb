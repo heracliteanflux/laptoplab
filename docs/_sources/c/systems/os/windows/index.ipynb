{
 "cells": [
  {
   "cell_type": "markdown",
   "metadata": {},
   "source": [
    "# Windows"
   ]
  },
  {
   "cell_type": "markdown",
   "metadata": {},
   "source": [
    "---"
   ]
  },
  {
   "cell_type": "markdown",
   "metadata": {},
   "source": [
    "## Table of Contents\n",
    "```{contents}\n",
    "```"
   ]
  },
  {
   "cell_type": "markdown",
   "metadata": {},
   "source": [
    "---"
   ]
  },
  {
   "cell_type": "markdown",
   "metadata": {},
   "source": [
    "App | UI | macOS | Windows\n",
    "----|----|-------|--------\n",
    "File Manager | GUI | [Finder](https://en.wikipedia.org/wiki/Finder_(software)) | [File Explorer](https://en.wikipedia.org/wiki/File_Explorer)\n",
    "Shell/CLI    | TUI | [Zsh](https://en.wikipedia.org/wiki/Z_shell), [Bash](https://en.wikipedia.org/wiki/Bash_(Unix_shell)), [PowerShell](https://en.wikipedia.org/wiki/PowerShell) | [PowerShell](https://en.wikipedia.org/wiki/PowerShell), [Git Bash](https://gitforwindows.org/), [Command Prompt](https://en.wikipedia.org/wiki/Cmd.exe)\n",
    "Terminal     | GUI | [Terminal.app](https://en.wikipedia.org/wiki/List_of_macOS_built-in_apps#Terminal) | [Windows Terminal](https://en.wikipedia.org/wiki/Windows_Terminal)\n",
    "Text Editor  | GUI | [TextEdit](https://en.wikipedia.org/wiki/TextEdit) | [Notepad](https://en.wikipedia.org/wiki/Windows_Notepad)"
   ]
  },
  {
   "cell_type": "markdown",
   "metadata": {},
   "source": [
    "---"
   ]
  },
  {
   "cell_type": "markdown",
   "metadata": {},
   "source": [
    "## Keyboard Shortcuts"
   ]
  },
  {
   "cell_type": "markdown",
   "metadata": {},
   "source": [
    "[Keyboard shortcuts in Windows](https://support.microsoft.com/en-us/windows/keyboard-shortcuts-in-windows-dcc61a57-8ff0-cffe-9796-cb9706c75eec)\n",
    "\n",
    "Shortcut | Graphical | Action\n",
    "-|-|-\n",
    "Ctrl-Right | &#8963;&rarr; | Jump to the last/rightmost column\n",
    "Ctrl-Left  | &#8963;&larr; | Jump to the first/leftmost column\n",
    "Ctrl-Up    | &#8963;&uarr; | Jump to the first/topmost row\n",
    "Ctrl-Down  | &#8963;&darr; | Jump to the last/bottommost row\n",
    "Ctrl-z     | &#8963;z      | Undo\n",
    "Ctrl-s     | &#8963;s      | Save\n",
    "Ctrl-c     | &#8963;c      | Copy\n",
    "Ctrl-v     | &#8963;v      | Paste\n",
    "Ctrl-f     | &#8963;f      | Search\n",
    "Ctrl-a     | &#8963;a      | Select All"
   ]
  },
  {
   "cell_type": "markdown",
   "metadata": {},
   "source": [
    "---"
   ]
  },
  {
   "cell_type": "markdown",
   "metadata": {},
   "source": [
    "## Documentation"
   ]
  },
  {
   "cell_type": "markdown",
   "metadata": {},
   "source": [
    "[Windows help & learning](https://support.microsoft.com/en-us/windows)\n",
    "* [Installation & updates](https://support.microsoft.com/en-us/topic/installation-updates-2f9c1819-310d-48a7-ac12-25191269903c)\n",
    "  * [Update Windows](https://support.microsoft.com/en-us/windows/update-windows-3c5ae7fc-9fb6-9af1-1984-b5e0412c556a)\n",
    "* [Files & storage](https://support.microsoft.com/en-us/topic/files-storage-9bf80d1c-fc20-43bb-a76a-13c4316ea442)\n",
    "  * [Save disk space with OneDrive Files On-Demand for Windows](https://support.microsoft.com/en-us/office/save-disk-space-with-onedrive-files-on-demand-for-windows-0e6860d3-d9f3-4971-b321-7092438fb38e)\n",
    "* [Troubleshoot & repair](https://support.microsoft.com/en-us/topic/troubleshoot-repair-ceaa4aee-fa3b-4ca4-9ddb-bde4dc310dc9)\n",
    "* [Tips to improve PC performance in Windows](https://support.microsoft.com/en-us/windows/tips-to-improve-pc-performance-in-windows-b3b3ef5b-5953-fb6a-2528-4bbed82fba96)\n",
    "* [Free up drive space in Windows](https://support.microsoft.com/en-us/windows/free-up-drive-space-in-windows-85529ccb-c365-490d-b548-831022bc9b32)\n",
    "* [Change default programs in Windows](https://support.microsoft.com/en-us/windows/change-default-programs-in-windows-e5d82cad-17d1-c53b-3505-f10a32e1894d)\n",
    "* [Common file name extensions in Windows](https://support.microsoft.com/en-us/windows/common-file-name-extensions-in-windows-da4a4430-8e76-89c5-59f7-1cdbbc75cb01)"
   ]
  },
  {
   "cell_type": "markdown",
   "metadata": {},
   "source": [
    "### Windows Client"
   ]
  },
  {
   "cell_type": "markdown",
   "metadata": {},
   "source": [
    "[Windows client documentation for IT Pros](https://learn.microsoft.com/en-us/windows/resources/)\n",
    "* [Windows 11 overview](https://learn.microsoft.com/en-us/windows/whats-new/windows-11-overview)\n",
    "* [Configure Windows client](https://learn.microsoft.com/en-us/windows/configuration/)\n",
    "  * [Customize the Start menu and taskbar layout on Windows 10 and later devices](https://learn.microsoft.com/en-us/windows/configuration/windows-10-start-layout-options-and-policies)\n",
    "  * [Set up a shared or guest Windows device](https://learn.microsoft.com/en-us/windows/configuration/set-up-shared-or-guest-pc?tabs=intune)\n",
    "* [Client management](https://learn.microsoft.com/en-us/windows/client-management/)\n",
    "  * [Windows Tools / Admnistrative Tools](https://learn.microsoft.com/en-us/windows/client-management/administrative-tools-in-windows-10)\n",
    "* [Windows client troubleshooting](https://learn.microsoft.com/en-us/troubleshoot/windows-client/welcome-windows-client)"
   ]
  },
  {
   "cell_type": "markdown",
   "metadata": {},
   "source": [
    "### Windows Server"
   ]
  },
  {
   "cell_type": "markdown",
   "metadata": {},
   "source": [
    "[Windows Server documentation](https://learn.microsoft.com/en-us/windows-server/)\n",
    "* [Identity and Access documentation](https://learn.microsoft.com/en-us/windows-server/identity/identity-and-access)\n",
    "  * [Active Directory Domain Services](https://learn.microsoft.com/en-us/windows-server/identity/ad-ds/active-directory-domain-services)\n",
    "    * [AD DS Getting Started](https://learn.microsoft.com/en-us/windows-server/identity/ad-ds/ad-ds-getting-started)\n",
    "* [Windows Server Management documentation](https://learn.microsoft.com/en-us/windows-server/administration/manage-windows-server)\n",
    "  * [OpenSSH for Windows overview](https://learn.microsoft.com/en-us/windows-server/administration/openssh/openssh_overview)\n",
    "* [Windows Commands](https://learn.microsoft.com/en-us/windows-server/administration/windows-commands/windows-commands)\n",
    "  * [systeminfo](https://learn.microsoft.com/en-us/windows-server/administration/windows-commands/systeminfo?source=recommendations)\n",
    "  * [type](https://learn.microsoft.com/en-us/windows-server/administration/windows-commands/type)\n",
    "  * [where](https://learn.microsoft.com/en-us/windows-server/administration/windows-commands/where)"
   ]
  },
  {
   "cell_type": "markdown",
   "metadata": {},
   "source": [
    "### Windows Terminal"
   ]
  },
  {
   "cell_type": "markdown",
   "metadata": {},
   "source": [
    "https://www.commandlinewizardry.com/post/windows-terminal-one-screen-to-rule-them-all\n",
    "\n",
    "https://learn.microsoft.com/en-us/windows/terminal/"
   ]
  },
  {
   "cell_type": "markdown",
   "metadata": {},
   "source": [
    "### Git for Windows"
   ]
  },
  {
   "cell_type": "markdown",
   "metadata": {},
   "source": [
    "\"Parts of Git are implemented in shell script, and Git for Windows runs those scripts via MSYS2's POSIX emulation layer, which in turn is based on the Cygwin POSIX emulation layer.\"\n",
    "\n",
    "https://www.commandlinewizardry.com/post/how-to-add-git-bash-to-windows-terminal\n",
    "```\n",
    "C:\\Program Files\\Git\\bin\\bash.exe\n",
    "C:\\Program Files\\Git\\mingw64\\share\\git\\git-for-windows.ico\n",
    "C:\\cygwin64\\Cygwin.bat\n",
    "C:\\cygwin64\\Cygwin.ico\n",
    "```\n",
    "\n",
    "\"In recent years, the bash shell and Linux commands have become ubiquitous. By using Git Bash or Cygwin, you can easily access these capabilities from the Windows environment. For even more capability, you can install the Windows Subsystem for Linux, which gives you the ability to run full versions of Linux operating systems and access the capabilities directly from the Windows Command Prompt and PowerShell.\" (Cybersecurity Ops with Bash)\n",
    "\n",
    "\"You can also use zsh under Windows by installing Cygwin, which provides a UNIX-like environment for programmes --- given the weakness of the standard Windows command interpreter, this is a good thing to do. There are ports of older versions of zsh to Windows which run natively, i.e. without a UNIX environment, although these have a slightly different behaviour in some respects and I won't talk about them further.\" https://zsh.sourceforge.io/Guide/zshguide01.html#l1"
   ]
  },
  {
   "cell_type": "markdown",
   "metadata": {},
   "source": [
    "---"
   ]
  },
  {
   "cell_type": "markdown",
   "metadata": {},
   "source": [
    "## File System"
   ]
  },
  {
   "cell_type": "markdown",
   "metadata": {},
   "source": [
    "The native graphical file explorer application on Windows is [File Explorer](https://en.wikipedia.org/wiki/File_Explorer).\n",
    "\n",
    "```\n",
    "C:\\\n",
    "├── AppData\n",
    "├── PerfLogs\n",
    "├── 'Program Files'\n",
    "├── 'Program Files (x86)'\n",
    "├── ProgramData\n",
    "├── Recovery\n",
    "├── System\n",
    "├── System32\n",
    "├── SysWOW64\n",
    "├── Users\n",
    "│   ├── Public\n",
    "│   └── USERNAME\n",
    "│       ├── Desktop\n",
    "│       ├── Documents\n",
    "│       ├── Downloads\n",
    "│       └── OneDrive\n",
    "├── Windows\n",
    "└── WinSxS\n",
    "```"
   ]
  },
  {
   "cell_type": "markdown",
   "metadata": {},
   "source": [
    "```\n",
    "C:\\Users\\<user>\\Anaconda3\\\n",
    "GitBash\n",
    "MongoDB\n",
    "PostgreSQL\n",
    "```"
   ]
  },
  {
   "cell_type": "markdown",
   "metadata": {},
   "source": [
    "Environment Variables\n",
    "* `%%DATE`\n",
    "* `%OS%`\n",
    "* `%ProgramFiles%`\n",
    "* `%ProgramFiles(x86)%`\n",
    "* `%USERNAME%`"
   ]
  },
  {
   "cell_type": "markdown",
   "metadata": {},
   "source": [
    "---"
   ]
  },
  {
   "cell_type": "markdown",
   "metadata": {},
   "source": [
    "## Package Management"
   ]
  },
  {
   "cell_type": "markdown",
   "metadata": {},
   "source": [
    "* [ [h](https://chocolatey.org) ][ g ][ w ] Chocolatey\n",
    "* [ [h](https://scoop.sh) ][ g ][ w ] Scoop\n",
    "* [ h ][ [g](https://github.com/microsoft/winget-cli) ][ [w](https://docs.microsoft.com/en-us/windows/package-manager/) ] Windows Package Manager\n",
    "* [ [h](https://winstall.app/) ] winstall"
   ]
  },
  {
   "cell_type": "markdown",
   "metadata": {},
   "source": [
    "```bash\n",
    "winget install sysinternals --accept-package-agreements\n",
    "winget install --id=MHNexus.HxD -e\n",
    "```"
   ]
  },
  {
   "cell_type": "markdown",
   "metadata": {},
   "source": [
    "---"
   ]
  },
  {
   "cell_type": "markdown",
   "metadata": {},
   "source": [
    "## Bash"
   ]
  },
  {
   "cell_type": "markdown",
   "metadata": {},
   "source": [
    "### `~/.bashrc`"
   ]
  },
  {
   "cell_type": "markdown",
   "metadata": {},
   "source": [
    "```bash\n",
    "alias cls='clear'          # DOS-ish     for clear\n",
    "alias copy='cp'            # DOS-ish     for cp\n",
    "alias del='rm'             # DOS-ish     for rm\n",
    "alias dir='ls'             # DOS-ish     for ls\n",
    "alias ipconfig='ifconfig'  # Windows-ish for ifconfig\n",
    "alias md='mkdir'           # DOS-ish     for mkdir\n",
    "alias move='mv'            # DOS-ish     for mv\n",
    "alias rd='rmdir'           # DOS-ish     for rmdir\n",
    "alias ren='mv'             # DOS-ish     for mv/rename\n",
    "alias tracert='traceroute' # DOS-ish for traceroute\n",
    "```"
   ]
  },
  {
   "cell_type": "markdown",
   "metadata": {},
   "source": [
    "---"
   ]
  },
  {
   "cell_type": "markdown",
   "metadata": {},
   "source": [
    "## Security, Privacy, & Telemetry"
   ]
  },
  {
   "cell_type": "markdown",
   "metadata": {},
   "source": [
    "```\n",
    "C:\\Windows\\System32\\drivers\\etc\\\n",
    "```\n",
    "```\n",
    "127.0.0.1    localhost\n",
    "::1          localhost\n",
    "127.0.0.1    data.microsoft.com\n",
    "127.0.0.1    msftconnecttest.com\n",
    "127.0.0.1    azureedge.net\n",
    "127.0.0.1    activity.windows.com\n",
    "127.0.0.1    bingapis.com\n",
    "127.0.0.1    msedge.net\n",
    "127.0.0.1    assets.msn.com\n",
    "127.0.0.1    scorecardresearch.com\n",
    "127.0.0.1    edge.microsoft.com\n",
    "127.0.0.1    data.msn.com\n",
    "```"
   ]
  },
  {
   "cell_type": "markdown",
   "metadata": {},
   "source": [
    "https://www.itechtics.com/disable-telemetry-data-collection-windows-10/"
   ]
  },
  {
   "cell_type": "markdown",
   "metadata": {},
   "source": [
    "Microsoft Compatibility Telemetry (CompatTelRunner.exe)\n",
    "* https://learn.microsoft.com/en-us/answers/questions/196948/can-i-disable-microsoft-compatibility-telemetry-(c"
   ]
  },
  {
   "cell_type": "markdown",
   "metadata": {},
   "source": [
    "---"
   ]
  },
  {
   "cell_type": "markdown",
   "metadata": {},
   "source": [
    "## Resources"
   ]
  },
  {
   "cell_type": "markdown",
   "metadata": {},
   "source": [
    "* [ [d](https://learn.microsoft.com/en-us/windows-server/identity/software-restriction-policies/software-restriction-policies-technical-overview) ] Software Restriction Policies Technical Overview"
   ]
  },
  {
   "cell_type": "markdown",
   "metadata": {},
   "source": [
    "* [ [h](https://chocolatey.org) ][ g ][ [w](https://en.wikipedia.org/wiki/Chocolatey) ] Chocolatey\n",
    "* [ [h](https://cygwin.com) ][ g ][ [w](https://en.wikipedia.org/wiki/Cygwin) ] Cygwin\n",
    "* [ [h](https://mintty.github.io) ][ g ][ [w](https://en.wikipedia.org/wiki/Mintty) ] Mintty\n",
    "* [ [h](https://www.msys2.org) ][ g ][ w ] MSYS2\n",
    "  * [What is MSYS2?](https://www.msys2.org/docs/what-is-msys2/)\n",
    "* [ h ][ g ][ [w](https://en.wikipedia.org/wiki/Arch_Linux#Pacman) ] Pacman\n",
    "* [ [h](https://scoop.sh) ][ [g](https://github.com/ScoopInstaller/Scoop) ][ w ] Scoop\n",
    "* [ h ][ g ][ [w](https://en.wikipedia.org/wiki/Cmd.exe) ] Windows Command Prompt (cmd.exe)\n",
    "* [ h ][ g ][ [w](https://en.wikipedia.org/wiki/Windows_Package_Manager) ] Windows Package Manager (winget)\n",
    "  * [d](https://learn.microsoft.com/en-us/windows/package-manager/)\n",
    "  * [winget d](https://learn.microsoft.com/en-us/windows/package-manager/winget/)\n",
    "* [ h ][ g ][ [w](https://en.wikipedia.org/wiki/Windows_Subsystem_for_Linux) ] WSL Windows Subsystem for Linux\n",
    "  * [d](https://learn.microsoft.com/en-us/windows/wsl/)\n",
    "\n",
    "[Scoop vs Chocolatey vs Winget](https://github.com/ScoopInstaller/Scoop/wiki/Chocolatey-and-Winget-Comparison)\n",
    "\n",
    "[Scoop vs Cygwin vs MSYS](https://github.com/ScoopInstaller/Scoop/wiki/Cygwin-and-MSYS-Comparison)"
   ]
  },
  {
   "cell_type": "markdown",
   "metadata": {},
   "source": [
    "Security\n",
    "* [ [h](https://abuse.ch/) ] Abuse.ch\n",
    "* [ h ] Bitdefender\n",
    "* [ [h](https://personalfirewall.comodo.com/) ] Comodo\n",
    "* [ [h](https://mh-nexus.de/en/hxd/) ][ [w](https://en.wikipedia.org/wiki/HxD) ] HxD\n",
    "* [ h ] Kaspersky\n",
    "* [ [h](https://www.malwarebytes.com/) ] Malwarebytes\n",
    "* [ [h](https://www.winitor.com/download) ] PeStudio\n",
    "* [ [h](https://safing.io/) ] PortMaster\n",
    "* [ [h](https://learn.microsoft.com/en-us/sysinternals/) ] Sysinternals\n",
    "  * [ [d](https://learn.microsoft.com/en-us/sysinternals/downloads/autoruns) ] Autoruns\n",
    "* [ [h](https://www.virustotal.com/gui/home/upload) ] Virus Total"
   ]
  },
  {
   "cell_type": "markdown",
   "metadata": {},
   "source": [
    "Privacy\n",
    "* [ [g](https://github.com/xanasoft/MajorPrivacy/) ] MajorPrivacy\n",
    "* [ [h](https://www.oo-software.com/en/shutup10) ] O&O ShutUp10++\n",
    "* [ [g](https://github.com/DavidXanatos/priv10) ] PrivateWin10\n",
    "* [ [g](https://github.com/builtbybel/privatezilla) ] Privatezilla\n",
    "* [ [g](https://github.com/farag2/Sophia-Script-for-Windows) ] Sophia Script\n",
    "* [ [h](https://www.thewindowsclub.com/ultimate-windows-tweaker-5-for-windows-11) ] Ultimate Windows Tweaker\n",
    "* [ [g](https://github.com/crazy-max/WindowsSpyBlocker) ] WindowsSpyBlocker"
   ]
  },
  {
   "cell_type": "markdown",
   "metadata": {},
   "source": [
    "### YouTube"
   ]
  },
  {
   "cell_type": "markdown",
   "metadata": {},
   "source": [
    "David Bombal\n",
    "* [ [y](https://www.youtube.com/watch?v=f8jGhLwCa28) ] `06-02-2023`. \"Windows Pentest Tutorial (Active Directory Game Over!)\".\n",
    "\n",
    "NetworkChuck\n",
    "* [ [y](https://www.youtube.com/watch?v=L26Xq7m0uQ0) ] `06-30-2023`. \"how to HACK a password // Windows Edition\".\n",
    "* [ [y](https://www.youtube.com/watch?v=X1CM3rZwGn8) ] `06-28-2023`. \"you NEED to learn Windows RIGHT NOW!!\".\n",
    "\n",
    "The PC Security Channel\n",
    "* [ [y](https://www.youtube.com/watch?v=76Z6dvNyUww) ] `02-23-2024`. \"How to never accidentally run Malware: Must Have Windows Tweaks\".\n",
    "* [ [y](https://www.youtube.com/watch?v=nUFgBhBBB-E) ] `01-06-2024`. \"Malware beats Windows Defender: How you get hacked\".\n",
    "* [ [y](https://www.youtube.com/watch?v=h2Yh5ejR_i4) ] `11-24-2023`. \"Stop Windows Spying with one click Firewall\".\n",
    "* [ [y](https://www.youtube.com/watch?v=ulm0lZIqYp0) ] `10-20-2023`. \"Windows Defender vs Top 100 Malware Sites\".\n",
    "* [ [y](https://www.youtube.com/watch?v=IJr2DcffquI) ] `09-16-2023`. \"Stop Windows Spying with hosts file\".\n",
    "* [ [y](https://www.youtube.com/watch?v=7UWFJGeix_E) ] `05-28-2023`. \"How to use Windows Firewall to block Hackers and Malware\".\n",
    "* [ [y](https://www.youtube.com/watch?v=VU9L0udNV9M) ] `02-28-2023`. \"Stop Windows Spying\".\n",
    "* [ [y](https://www.youtube.com/watch?v=IT4vDfA_4NI) ] `01-29-2023`. \"Has Windows become Spyware?\".\n",
    "* [ [y](https://www.youtube.com/watch?v=clHMz_Vs5WE) ] `04-13-2022`. \"Free Security Tools Everyone Should Use\".\n",
    "\n",
    "Rob Braxman Tech\n",
    "* [ [y](https://www.youtube.com/watch?v=mE7CCZCgRB8) ] `10-25-2023`. \"Why an Antivirus Does Nothing for You\".\n",
    "\n",
    "ThioJoe\n",
    "* [ [y](https://www.youtube.com/watch?v=YMkb6drqBDI) ] `03-30-2024`. \"17 Computer Tips You'll WISH You Knew Sooner\".\n",
    "* [ [y](https://www.youtube.com/watch?v=sUXcMaP6wRQ) ] `10-09-2021`. \"Finding Hidden Startup Programs in Windows: Ultimate Guide\".\n",
    "\n",
    "Windows IT Pro\n",
    "* [ [y](https://www.youtube.com/watch?v=G_YlltkI2mA) ] `02-08-2022`. \"Sysinternals: Autoruns deep dive (demo) | Startup, Boot, Login, Apps, Windows | Microsoft\".\n",
    "* [ [y](https://www.youtube.com/watch?v=52c1QIW6niE) ] `02-08-2022`. \"Sysinternals: ProcDump deep dive (demo) | Command line, CPU, crash dump, Windows | Microsoft\".\n",
    "\n",
    "more\n",
    "* [ [y](https://www.youtube.com/watch?v=pDwENUhCxdw) ] `10-19-2023`. Britec09. \"How to Check if Someone is Remotely Accessing Your Computer\".\n",
    "* [ [y](https://www.youtube.com/watch?v=dD-uAoDNEDI) ] `02-14-2023`. \"Is Windows Defender Enough To Stay Protected\".\n",
    "* [ [y](https://www.youtube.com/watch?v=wTl4vEednkQ) ] `02-03-2024`. stacksmasher. \"Breaking Bitlocker - Bypassing the Windows Disk Encryption\".\n",
    "* [ [y](https://www.youtube.com/watch?v=hoxfcx1LCtA) ] `02-02-2024`. Titus Tech Talk. \"Changing Windows Desktop to Tile NEW Programs\"."
   ]
  },
  {
   "cell_type": "markdown",
   "metadata": {},
   "source": [
    "---"
   ]
  },
  {
   "cell_type": "markdown",
   "metadata": {},
   "source": [
    "## Texts"
   ]
  },
  {
   "cell_type": "markdown",
   "metadata": {},
   "source": [
    "* Russinovich, Mark & Aaron Margosis. _Troubleshooting with the Windows Sysinternals Tools: Guidance from the tools' creator_."
   ]
  },
  {
   "cell_type": "markdown",
   "metadata": {},
   "source": [
    "---"
   ]
  },
  {
   "cell_type": "markdown",
   "metadata": {},
   "source": [
    "## Terms"
   ]
  },
  {
   "cell_type": "markdown",
   "metadata": {},
   "source": [
    "* [ [w](https://en.wikipedia.org/wiki/Compatibility_layer) ] Compatibility Layer\n",
    "* [ [w](https://en.wikipedia.org/wiki/DOS) ] Disk Operating System (DOS)\n",
    "* [ [w](https://en.wikipedia.org/wiki/DOS_MZ_executable) ] DOS MZ Executable (.exe)\n",
    "* [ [w](https://en.wikipedia.org/wiki/Dynamic-link_library) ] Dynamic-Link Library (DLL)\n",
    "* [ [w](https://en.wikipedia.org/wiki/DLL_Hell) ] DLL Hell\n",
    "* [ [w](https://en.wikipedia.org/wiki/MinGW) ] MinGW\n",
    "* [ [w](https://en.wikipedia.org/wiki/MS-DOS) ] MS-DOS\n",
    "* [ [w](https://en.wikipedia.org/wiki/Windows_Notepad) ] Notepad\n",
    "* [ [w](https://en.wikipedia.org/wiki/Portable_Executable) ] Portable Executable (PE) (.exe)\n",
    "  * https://learn.microsoft.com/en-us/previous-versions/ms809762(v=msdn.10)?redirectedfrom=MSDN\n",
    "* [ [w](https://en.wikipedia.org/wiki/PuTTY) ] PuTTY\n",
    "* [ [w](https://en.wikipedia.org/wiki/Shim_(computing)) ] Shim\n",
    "* [ [w](https://en.wikipedia.org/wiki/System_Information_(Windows)) ] System Information\n",
    "* [ [w](https://en.wikipedia.org/wiki/Task_Manager_(Windows)) ] Task Manager\n",
    "* [ [w](https://en.wikipedia.org/wiki/WinDbg) ] WinDbg\n",
    "* [ [w](https://en.wikipedia.org/wiki/Microsoft_Windows) ] Windows\n",
    "* [ [w](https://en.wikipedia.org/wiki/Windows_11) ] Windows 11\n",
    "* [ [w](https://en.wikipedia.org/wiki/Windows_API) ] Windows API\n",
    "* [ [w](https://en.wikipedia.org/wiki/Cmd.exe) ] Windows Command Prompt (cmd.exe)\n",
    "* [ [w](https://en.wikipedia.org/wiki/Windows_Console) ] Windows Console\n",
    "* [ [w](https://en.wikipedia.org/wiki/Windows_File_Explorer) ] Windows File Explorer\n",
    "* [ [w](https://en.wikipedia.org/wiki/Windows_Installer) ] Windows Installer\n",
    "* [ [w](https://en.wikipedia.org/wiki/Windows_Registry) ] Windows Registry - a hierarchical database that stores settings and other data that is critical to the operation of Windows and apps\n",
    "* [ [w](https://en.wikipedia.org/wiki/Windows_Template_Library) ] Windows Template Library (WTL)\n",
    "* [ [w](https://en.wikipedia.org/wiki/Windows_Terminal) ] Windows Terminal"
   ]
  },
  {
   "cell_type": "markdown",
   "metadata": {},
   "source": [
    "---"
   ]
  },
  {
   "cell_type": "markdown",
   "metadata": {},
   "source": [
    "## Notes"
   ]
  },
  {
   "cell_type": "markdown",
   "metadata": {},
   "source": [
    "Slashes in Windows path names\n",
    "* [Setting Up Windows File Paths](https://stackoverflow.com/questions/18084554/why-do-i-get-a-syntaxerror-for-a-unicode-escape-in-my-file-path)"
   ]
  },
  {
   "cell_type": "markdown",
   "metadata": {},
   "source": [
    "---"
   ]
  },
  {
   "cell_type": "markdown",
   "metadata": {},
   "source": [
    "* [ [h](https://cygwin.com/) ] Cygwin\n",
    "* [ [h](https://mintty.github.io/) ][ [g](https://github.com/mintty) ] Mintty\n",
    "* [ [h](https://www.msys2.org/) ][ [g](https://github.com/msys2) ] MSYS2\n",
    "* [ [h](https://ohmyposh.dev/) ] Oh My Posh\n",
    "  * [ [d](https://ohmyposh.dev/docs/installation/windows) ] Installation - Windows\n",
    "  * [ [d](https://ohmyposh.dev/docs/installation/fonts) ] Installation - Fonts\n",
    "  * [ [d](https://ohmyposh.dev/docs/installation/customize) ] Installation - Customize\n",
    "  * [ [d](https://ohmyposh.dev/docs/segments/python) ] Segments - Python\n",
    "* [ [d](https://wiki.archlinux.org/title/pacman) ] Pacman\n",
    "* [ [h](https://scoop.sh/) ] Scoop\n",
    "* [ [d](https://learn.microsoft.com/en-us/windows/wsl/) ] Windows Sybsystem for Linux (WSL)\n",
    "\n",
    "Parallels\n",
    "* [ [p](https://www.parallels.com/products/desktop/welcome-win/) ] Windows 11 Installed Successfully\n",
    "* [ [d](https://kb.parallels.com/114051) ] Activate Windows 11 after installation in Parallels Desktop\n",
    "* [ [d](https://kb.parallels.com/en/129497) ] Limitations of running Windows 11 on Apple silicon Mac computers in Parallels Desktop for Mac\n",
    "* [ [d](https://kb.parallels.com/4670) ] What is Coherence? Information about Coherence View mode\n",
    "* [ [d](https://kb.parallels.com/en/115171) ] Full Screen view mode in Parallels Desktop for Mac\n",
    "* [ [d](https://kb.parallels.com/6912) ] Use Mac user files in Windows"
   ]
  },
  {
   "cell_type": "markdown",
   "metadata": {},
   "source": [
    "---"
   ]
  },
  {
   "cell_type": "markdown",
   "metadata": {},
   "source": [
    "## PowerShell"
   ]
  },
  {
   "cell_type": "markdown",
   "metadata": {},
   "source": [
    "### Scoop\n",
    "\n",
    "```powershell\n",
    "PS> Set-ExecutionPolicy RemoteSigned -Scope CurrentUser\n",
    "PS> irm get.scoop.sh | iex\n",
    "```\n",
    "```powershell\n",
    "Initializing...\n",
    "Downloading ...\n",
    "Creating shim...\n",
    "Adding ~\\scoop\\shims to your path.\n",
    "Scoop was installed successfully!\n",
    "Type 'scoop help' for instructions.\n",
    "```\n",
    "\n",
    "### bat\n",
    "\n",
    "```powershell\n",
    "PS> scoop install main/bat\n",
    "```\n",
    "```powershell\n",
    "Installing 'bat' (0.23.0) [64bit] from main bucket\n",
    "bat-v0.23.0-x86_64-pc-windows-msvc.zip (2.8 MB) [=================================================================================] 100%\n",
    "Checking hash of bat-v0.23.0-x86_64-pc-windows-msvc.zip ... ok.\n",
    "Extracting bat-v0.23.0-x86_64-pc-windows-msvc.zip ... done.\n",
    "Linking ~\\scoop\\apps\\bat\\current => ~\\scoop\\apps\\bat\\0.23.0\n",
    "Creating shim for 'bat'.\n",
    "'bat' (0.23.0) was installed successfully!\n",
    "'bat' suggests installing 'less'\n",
    "```\n",
    "\n",
    "### lsd\n",
    "\n",
    "```powershell\n",
    "PS> scoop install main/lsd\n",
    "```\n",
    "```powershell\n",
    "Installing 'lsd' (0.23.1) [64bit] from main bucket\n",
    "lsd-0.23.1-x86_64-pc-windows-msvc.zip (980.6 KB) [================================================================================] 100%\n",
    "Checking hash of lsd-0.23.1-x86_64-pc-windows-msvc.zip ... ok.\n",
    "Extracting lsd-0.23.1-x86_64-pc-windows-msvc.zip ... done.\n",
    "Linking ~\\scoop\\apps\\lsd\\current => ~\\scoop\\apps\\lsd\\0.23.1\n",
    "Creating shim for 'lsd'.\n",
    "'lsd' (0.23.1) was installed successfully!\n",
    "'lsd' suggests installing 'extras/vcredist2022'.\n",
    "```\n",
    "\n",
    "### tre\n",
    "\n",
    "```powershell\n",
    "PS> scoop install main/tre-command\n",
    "```\n",
    "```powershell\n",
    "Installing 'tre-command' (0.4.0) [64bit] from main bucket\n",
    "tre-v0.4.0-x86_64-pc-windows-msvc.zip (667.5 KB) [================================================================================] 100%\n",
    "Checking hash of tre-v0.4.0-x86_64-pc-windows-msvc.zip ... ok.\n",
    "Extracting tre-v0.4.0-x86_64-pc-windows-msvc.zip ... done.\n",
    "Linking ~\\scoop\\apps\\tre-command\\current => ~\\scoop\\apps\\tre-command\\0.4.0\n",
    "Creating shim for 'tre'.\n",
    "'tre-command' (0.4.0) was installed successfully!\n",
    "'tre-command' suggests installing 'extras/vcredist2022'.\n",
    "```\n",
    "\n",
    "### Oh My Posh\n",
    "\n",
    "```powershell\n",
    "PS> winget install JanDeDobbeleer.OhMyPosh -s winget\n",
    "PS> oh-my-posh font install\n",
    "PS> oh-my-posh config export --config $POSH_THEMES_PATH/jandedobbeleer.omp.json --output ~/.mytheme.omp.json\n",
    "PS> oh-my-posh init pwsh --config \"$env:POSH_THEMES_PATH/jandedobbeleer.omp.json\" | Invoke-Expression\n",
    "```\n",
    "```vim\n",
    "$ vim .bashrc\n",
    "```\n",
    "```vim\n",
    "eval \"$(oh-my-posh init bash --config $HOME/.mytheme.omp.json)\"\n",
    "#eval \"$(oh-my-posh init bash)\" # default\n",
    "```\n",
    "```vim\n",
    "$ vim .mytheme.omp.json\n",
    "```\n",
    "```json\n",
    "{\n",
    "  \"type\": \"python\",\n",
    "  \"style\": \"powerline\",\n",
    "  \"powerline_symbol\": \"\\ue0b0\",\n",
    "  \"foreground\": \"#111111\",\n",
    "  \"background\": \"#FFDE57\",\n",
    "  \"template\": \" \\ue235 {{ if .Error }}{{ .Error }}{{ else }}{{ if .Venv }}{{ .Venv }} {{ end }}{{ .Full }}{{ end }}\",\n",
    "  \"properties\": {\n",
    "    \"display_default\": true,\n",
    "    \"display_mode\": \"environment\",\n",
    "    \"fetch_version\": true,\n",
    "    \"fetch_virtual_env\": true,\n",
    "    \"home_enabled\": true\n",
    "  }\n",
    "}\n",
    "```"
   ]
  },
  {
   "cell_type": "markdown",
   "metadata": {},
   "source": [
    "## Git Bash"
   ]
  },
  {
   "cell_type": "markdown",
   "metadata": {},
   "source": [
    "```bash\n",
    "$ uname -o\n",
    "```\n",
    "```bash\n",
    "Msys\n",
    "```"
   ]
  },
  {
   "cell_type": "markdown",
   "metadata": {},
   "source": [
    "## Conda"
   ]
  },
  {
   "cell_type": "markdown",
   "metadata": {},
   "source": [
    "```bash\n",
    "$ conda init\n",
    "```\n",
    "```bash\n",
    "no change     C:\\Users\\df\\anaconda3\\Scripts\\conda.exe\n",
    "no change     C:\\Users\\df\\anaconda3\\Scripts\\conda-env.exe\n",
    "no change     C:\\Users\\df\\anaconda3\\Scripts\\conda-script.py\n",
    "no change     C:\\Users\\df\\anaconda3\\Scripts\\conda-env-script.py\n",
    "no change     C:\\Users\\df\\anaconda3\\condabin\\conda.bat\n",
    "no change     C:\\Users\\df\\anaconda3\\Library\\bin\\conda.bat\n",
    "no change     C:\\Users\\df\\anaconda3\\condabin\\_conda_activate.bat\n",
    "no change     C:\\Users\\df\\anaconda3\\condabin\\rename_tmp.bat\n",
    "no change     C:\\Users\\df\\anaconda3\\condabin\\conda_auto_activate.bat\n",
    "no change     C:\\Users\\df\\anaconda3\\condabin\\conda_hook.bat\n",
    "no change     C:\\Users\\df\\anaconda3\\Scripts\\activate.bat\n",
    "no change     C:\\Users\\df\\anaconda3\\condabin\\activate.bat\n",
    "no change     C:\\Users\\df\\anaconda3\\condabin\\deactivate.bat\n",
    "modified      C:\\Users\\df\\anaconda3\\Scripts\\activate\n",
    "modified      C:\\Users\\df\\anaconda3\\Scripts\\deactivate\n",
    "modified      C:\\Users\\df\\anaconda3\\etc\\profile.d\\conda.sh\n",
    "modified      C:\\Users\\df\\anaconda3\\etc\\fish\\conf.d\\conda.fish\n",
    "no change     C:\\Users\\df\\anaconda3\\shell\\condabin\\Conda.psm1\n",
    "modified      C:\\Users\\df\\anaconda3\\shell\\condabin\\conda-hook.ps1\n",
    "no change     C:\\Users\\df\\anaconda3\\Lib\\site-packages\\xontrib\\conda.xsh\n",
    "modified      C:\\Users\\df\\anaconda3\\etc\\profile.d\\conda.csh\n",
    "modified      \\\\Mac\\Home\\Documents\\WindowsPowerShell\\profile.ps1\n",
    "modified      HKEY_CURRENT_USER\\Software\\Microsoft\\Command Processor\\AutoRun\n",
    "\n",
    "==> For changes to take effect, close and re-open your current shell. <==\n",
    "```\n",
    "```bash\n",
    "$ conda init bash\n",
    "```\n",
    "```bash\n",
    "no change     C:\\Users\\df\\anaconda3\\Scripts\\conda.exe\n",
    "no change     C:\\Users\\df\\anaconda3\\Scripts\\conda-env.exe\n",
    "no change     C:\\Users\\df\\anaconda3\\Scripts\\conda-script.py\n",
    "no change     C:\\Users\\df\\anaconda3\\Scripts\\conda-env-script.py\n",
    "no change     C:\\Users\\df\\anaconda3\\condabin\\conda.bat\n",
    "no change     C:\\Users\\df\\anaconda3\\Library\\bin\\conda.bat\n",
    "no change     C:\\Users\\df\\anaconda3\\condabin\\_conda_activate.bat\n",
    "no change     C:\\Users\\df\\anaconda3\\condabin\\rename_tmp.bat\n",
    "no change     C:\\Users\\df\\anaconda3\\condabin\\conda_auto_activate.bat\n",
    "no change     C:\\Users\\df\\anaconda3\\condabin\\conda_hook.bat\n",
    "no change     C:\\Users\\df\\anaconda3\\Scripts\\activate.bat\n",
    "no change     C:\\Users\\df\\anaconda3\\condabin\\activate.bat\n",
    "no change     C:\\Users\\df\\anaconda3\\condabin\\deactivate.bat\n",
    "no change     C:\\Users\\df\\anaconda3\\Scripts\\activate\n",
    "no change     C:\\Users\\df\\anaconda3\\Scripts\\deactivate\n",
    "no change     C:\\Users\\df\\anaconda3\\etc\\profile.d\\conda.sh\n",
    "no change     C:\\Users\\df\\anaconda3\\etc\\fish\\conf.d\\conda.fish\n",
    "no change     C:\\Users\\df\\anaconda3\\shell\\condabin\\Conda.psm1\n",
    "no change     C:\\Users\\df\\anaconda3\\shell\\condabin\\conda-hook.ps1\n",
    "no change     C:\\Users\\df\\anaconda3\\Lib\\site-packages\\xontrib\\conda.xsh\n",
    "no change     C:\\Users\\df\\anaconda3\\etc\\profile.d\\conda.csh\n",
    "modified      C:\\Users\\df\\.bash_profile\n",
    "\n",
    "==> For changes to take effect, close and re-open your current shell. <==\n",
    "```\n",
    "\n",
    "```bash\n",
    "conda update  -n base -c defaults conda &&\n",
    "conda install -n base conda-libmamba-solver &&\n",
    "conda config --set solver libmamba &&\n",
    "conda config --add channels conda-forge &&\n",
    "conda config --set channel_priority strict\n",
    "```"
   ]
  },
  {
   "cell_type": "markdown",
   "metadata": {},
   "source": [
    "---"
   ]
  },
  {
   "cell_type": "markdown",
   "metadata": {},
   "source": [
    "VS Code\n",
    "\n",
    "`settings.json`\n",
    "* `%APPDATA%\\Code\\User\\settings.json`"
   ]
  },
  {
   "cell_type": "markdown",
   "metadata": {},
   "source": [
    "---"
   ]
  }
 ],
 "metadata": {
  "language_info": {
   "name": "python"
  }
 },
 "nbformat": 4,
 "nbformat_minor": 2
}
