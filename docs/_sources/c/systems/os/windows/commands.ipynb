{
 "cells": [
  {
   "cell_type": "markdown",
   "metadata": {},
   "source": [
    "# Windows Utilities"
   ]
  },
  {
   "cell_type": "markdown",
   "metadata": {},
   "source": [
    "---"
   ]
  },
  {
   "cell_type": "markdown",
   "metadata": {},
   "source": [
    "## Table of Contents\n",
    "```{contents}\n",
    "```"
   ]
  },
  {
   "cell_type": "markdown",
   "metadata": {},
   "source": [
    "---"
   ]
  },
  {
   "cell_type": "markdown",
   "metadata": {},
   "source": [
    "## `attrib`"
   ]
  },
  {
   "cell_type": "markdown",
   "metadata": {},
   "source": [
    "[examples]\n",
    "\n",
    "```bash\n",
    "attrib\n",
    "attrib //d\n",
    "attrib //s\n",
    "```"
   ]
  },
  {
   "cell_type": "markdown",
   "metadata": {},
   "source": [
    "[examples]\n",
    "\n",
    "```bash\n",
    "find /c -exec attrib '{}' \\; | egrep '^.{4}H.*'             # identify hidden files in the c:\\ drive\n",
    "find /c -exec attrib '{}' \\; | egrep '^.{4}H.*' | cut -c22- # identify hidden files in the c:\\ drive (display file path only)\n",
    "```"
   ]
  },
  {
   "cell_type": "markdown",
   "metadata": {},
   "source": [
    "---"
   ]
  },
  {
   "cell_type": "markdown",
   "metadata": {},
   "source": [
    "## `autorunsc`"
   ]
  },
  {
   "cell_type": "markdown",
   "metadata": {},
   "source": [
    "```bash\n",
    "autoruns //?\n",
    "```"
   ]
  },
  {
   "cell_type": "markdown",
   "metadata": {},
   "source": [
    "---"
   ]
  },
  {
   "cell_type": "markdown",
   "metadata": {},
   "source": [
    "## `eventcreate`"
   ]
  },
  {
   "cell_type": "markdown",
   "metadata": {},
   "source": [
    "`eventcreate` write entries to the event log\n",
    "\n",
    "options\n",
    "* `/d` a detailed description of the event (any string is valid)\n",
    "* `/id` a integer ID between 1 and 1000 that identifies the event\n",
    "* `/l` event log name\n",
    "  * `APPLICATION`\n",
    "  * `SYSTEM`\n",
    "* `/so` event source, the name of the application generating the event (any string is valid)\n",
    "* `/t` event type, a category that best describes the event\n",
    "  * `ERROR`\n",
    "  * `WARNING`\n",
    "  * `INFORMATION`\n",
    "  * `SUCCESSAUDIT`\n",
    "  * `FAILUREAUDIT`"
   ]
  },
  {
   "cell_type": "markdown",
   "metadata": {},
   "source": [
    "[examples]\n",
    "\n",
    "```bash\n",
    "eventcreate //ID 200 //L APPLICATION //T INFORMATION //SO \"Cybersecurity Ops\" //D \"This is an event\" # write an event to the local system\n",
    "\n",
    "wevtutil qe APPLICATION //c:1 //rd:true # view the last event\n",
    "\n",
    "eventcreate //s https://remote.system //u username //p password //ID 200 //L APPLICATION //T INFORMATION //SO \"Cybersecurity Ops\" //D \"This is an event\" # write an event to a remote system\n",
    "```"
   ]
  },
  {
   "cell_type": "markdown",
   "metadata": {},
   "source": [
    "---"
   ]
  },
  {
   "cell_type": "markdown",
   "metadata": {},
   "source": [
    "## `icacls`"
   ]
  },
  {
   "cell_type": "markdown",
   "metadata": {},
   "source": [
    "[`icacls`](https://learn.microsoft.com/en-us/windows-server/administration/windows-commands/icacls) setup ACLs\n",
    "\n",
    "options\n",
    "* `/deny` denies the specified user the specified permissions\n",
    "* `/grant` allows the specified user the specified permissions\n",
    "* `/reset` resets the ACLs to the default inherited permissions\n",
    "\n",
    "Windows file permissions\n",
    "* `F` full\n",
    "* `M` modify\n",
    "* `RX` read and execute\n",
    "* `R` read-only\n",
    "* `W` write-only"
   ]
  },
  {
   "cell_type": "markdown",
   "metadata": {},
   "source": [
    "[examples]\n",
    "\n",
    "```bash\n",
    "icacls report.txt                   # view the current permissions for file `report.txt`\n",
    "icacls report.txt //grant jsmith:rw # grant user `jsmith` read-write permission for file `report.txt`\n",
    "```"
   ]
  },
  {
   "cell_type": "markdown",
   "metadata": {},
   "source": [
    "---"
   ]
  },
  {
   "cell_type": "markdown",
   "metadata": {},
   "source": [
    "## `net`"
   ]
  },
  {
   "cell_type": "markdown",
   "metadata": {},
   "source": [
    "`net` manage users, groups, etc.\n",
    "\n",
    "options\n",
    "* `group` add or modify a group\n",
    "* `user` add or modify a user"
   ]
  },
  {
   "cell_type": "markdown",
   "metadata": {},
   "source": [
    "```bash\n",
    "net help\n",
    "net user //help\n",
    "\n",
    "net user jsmith somepassword //add    # create a new user `jsmith` with password `somepassword`\n",
    "net user jsmith otherpassword         # set a password `otherpassword` for user `jsmith`\n",
    "net user jsmith *                     # Command Prompt ONLY: prompt for the password and stop it from being echoed to the screen\n",
    "net user                              # view a list of users\n",
    "net user jsmith                       # view information about user `jsmith`\n",
    "net user jsmith //delete              # delete user `jsmith`\n",
    "\n",
    "net group ...                         # groups associated with a Windows domain\n",
    "net localgroup ...                    # local system groups\n",
    "\n",
    "net localgroup accounting //add       # create a new group `accounting`\n",
    "net localgroup accouting jsmith //add # add user `jsmith` to group `accounting`\n",
    "net localgroup accounting             # view a list of users associated with group `accounting`\n",
    "```"
   ]
  },
  {
   "cell_type": "markdown",
   "metadata": {},
   "source": [
    "---"
   ]
  },
  {
   "cell_type": "markdown",
   "metadata": {},
   "source": [
    "## `netsh`"
   ]
  },
  {
   "cell_type": "markdown",
   "metadata": {},
   "source": [
    "[`netsh`](https://learn.microsoft.com/en-us/windows-server/networking/technologies/netsh/netsh)"
   ]
  },
  {
   "cell_type": "markdown",
   "metadata": {},
   "source": [
    "---"
   ]
  },
  {
   "cell_type": "markdown",
   "metadata": {},
   "source": [
    "## `reg`"
   ]
  },
  {
   "cell_type": "markdown",
   "metadata": {},
   "source": [
    "[`reg`](https://learn.microsoft.com/en-us/windows-server/administration/windows-commands/reg) \"Windows Registry\" (available on Windows XP and later)\n",
    "\n",
    "* `reg /?` - help\n",
    "* `reg command /?` - help for command\n",
    "* `reg add` - add an entry to the registry\n",
    "* `reg export` - copty the specified registry entries to a file\n",
    "* `reg query` - return a list of subkeys below the specified path"
   ]
  },
  {
   "cell_type": "markdown",
   "metadata": {},
   "source": [
    "[example]\n",
    "\n",
    "List all the root keys in hive `HKEY_LOCAL_MACHINE`.\n",
    "\n",
    "```bash\n",
    "reg query HKEY_LOCAL_MACHINE\n",
    "```\n",
    "```\n",
    "HKEY_LOCAL_MACHINE\n",
    "    ServiceLastKnownStatus    REG_DWORD    0x2\n",
    "\n",
    "HKEY_LOCAL_MACHINE\\BCD00000000\n",
    "HKEY_LOCAL_MACHINE\\HARDWARE\n",
    "HKEY_LOCAL_MACHINE\\SAM\n",
    "HKEY_LOCAL_MACHINE\\SECURITY\n",
    "HKEY_LOCAL_MACHINE\\SOFTWARE\n",
    "HKEY_LOCAL_MACHINE\\SYSTEM\n",
    "```"
   ]
  },
  {
   "cell_type": "markdown",
   "metadata": {},
   "source": [
    "[example]\n",
    "\n",
    "Export hive `HKEY_LOCAL_MACHINE`.\n",
    "\n",
    "```bash\n",
    "reg export HKEY_LOCAL_MACHINE ${HOSTNAME}_hklm.bak\n",
    "```"
   ]
  },
  {
   "cell_type": "markdown",
   "metadata": {},
   "source": [
    "---"
   ]
  },
  {
   "cell_type": "markdown",
   "metadata": {},
   "source": [
    "## `regedit`"
   ]
  },
  {
   "cell_type": "markdown",
   "metadata": {},
   "source": [
    "[example]\n",
    "\n",
    "Export the entire Windows Registry to a file.\n",
    "\n",
    "```bash\n",
    "regedit //E ${HOSTNAME}_reg.bak\n",
    "```"
   ]
  },
  {
   "cell_type": "markdown",
   "metadata": {},
   "source": [
    "---"
   ]
  },
  {
   "cell_type": "markdown",
   "metadata": {},
   "source": [
    "## `runas`"
   ]
  },
  {
   "cell_type": "markdown",
   "metadata": {},
   "source": [
    "[`runas`](https://learn.microsoft.com/en-us/previous-versions/windows/it-pro/windows-server-2012-r2-and-2012/cc771525(v=ws.11))"
   ]
  },
  {
   "cell_type": "markdown",
   "metadata": {},
   "source": [
    "---"
   ]
  },
  {
   "cell_type": "markdown",
   "metadata": {},
   "source": [
    "## `sc`"
   ]
  },
  {
   "cell_type": "markdown",
   "metadata": {},
   "source": []
  },
  {
   "cell_type": "markdown",
   "metadata": {},
   "source": [
    "---"
   ]
  },
  {
   "cell_type": "markdown",
   "metadata": {},
   "source": [
    "## `schtasks`"
   ]
  },
  {
   "cell_type": "markdown",
   "metadata": {},
   "source": [
    "`schtasks` schedule tasks to run commands at a particular time or interval\n",
    "\n",
    "options\n",
    "* `/Create` schedule a new task\n",
    "* `/Delete` delete a scheduled task\n",
    "* `/Query` list all scheduled tasks\n",
    "* `/SC` schedule frequency\n",
    "* `/ST` start time\n",
    "* `/TN` task name\n",
    "* `/TR` task to run"
   ]
  },
  {
   "cell_type": "markdown",
   "metadata": {},
   "source": [
    "[example]\n",
    "\n",
    "```bash\n",
    "schtasks //Create //TN \"Network Scanner\" //SC DAILY //ST 08:00 //TR \"C:\\Users\\Paul\\AppData\\Local\\Programs\\Git\\git-bash.exe C:\\Users\\Paul\\autoscan\"\n",
    "```"
   ]
  },
  {
   "cell_type": "markdown",
   "metadata": {},
   "source": [
    "---"
   ]
  },
  {
   "cell_type": "markdown",
   "metadata": {},
   "source": [
    "## `sfc`"
   ]
  },
  {
   "cell_type": "markdown",
   "metadata": {},
   "source": [
    "`sfc` Resource Checker - scans the integrity of all protected system files and replaces incorrect versions with correct Microsoft versions"
   ]
  },
  {
   "cell_type": "markdown",
   "metadata": {},
   "source": [
    "[examples]\n",
    "\n",
    "```bash\n",
    "sfc //scanfile=<file>   # scans integrity of the file with full path <file>, repairs file if problems are identified\n",
    "sfc //scannow           # scans integrity of all protected system files and repairs files with problems when possible\n",
    "sfc //verifyfile=<file> # verifies the integrity of the file with full path <file> but no repair operation is performed\n",
    "sfc //verifyonly        # scans integrity of all protected system files but no repair operation is performed\n",
    "```"
   ]
  },
  {
   "cell_type": "markdown",
   "metadata": {},
   "source": [
    "---"
   ]
  },
  {
   "cell_type": "markdown",
   "metadata": {},
   "source": [
    "## `systeminfo`"
   ]
  },
  {
   "cell_type": "markdown",
   "metadata": {},
   "source": [
    "[ [w](https://en.wikipedia.org/wiki/Systeminfo.exe) ] `systeminfo` general system settings"
   ]
  },
  {
   "cell_type": "markdown",
   "metadata": {},
   "source": [
    "---"
   ]
  },
  {
   "cell_type": "markdown",
   "metadata": {},
   "source": [
    "## `wevtutil`"
   ]
  },
  {
   "cell_type": "markdown",
   "metadata": {},
   "source": [
    "[`wevtutil`](https://learn.microsoft.com/en-us/windows-server/administration/windows-commands/wevtutil) \"Windows Event Utility\"\n",
    "\n",
    "* `wevtutil el` - enumerate available logs\n",
    "* `wevtutil qe` - query a log's events\n",
    "\n",
    "options\n",
    "* `/c` (cmd) or `//c` (gitbash) specify the max number of events to read\n",
    "* `/f` (cmd) or `//f` (gitbash) format the output as text or XML\n",
    "* `/rd` (cmd) or `//rd` (gitbash) read direction - if set to true then it will read the most recent logs first"
   ]
  },
  {
   "cell_type": "markdown",
   "metadata": {},
   "source": [
    "[example]\n",
    "\n",
    "View the most recent event in log `System` (in Git Bash).\n",
    "\n",
    "```bash\n",
    "wevtutil qe System //c:1 //rd:true\n",
    "```\n",
    "```\n",
    "<Event xmlns='http://schemas.microsoft.com/win/2004/08/events/event'><System><Provider Name='Microsoft-Windows-WindowsUpdateClient' Guid='{945a8954-c147-4acd-923f-40c45405a658}'/><EventID>19</EventID><Version>1</Version><Level>4</Level><Task>1</Task><Opcode>13</Opcode><Keywords>0x8000000000000018</Keywords><TimeCreated SystemTime='2023-11-17T17:06:10.6937615Z'/><EventRecordID>2095</EventRecordID><Correlation ActivityID='{f798f182-1971-0002-5460-9af77119da01}'/><Execution ProcessID='1588' ThreadID='1960'/><Channel>System</Channel><Computer>DAVEFRIEDMABB22</Computer><Security UserID='S-1-5-18'/></System><EventData><Data Name='updateTitle'>9NMPJ99VJBWV-Microsoft.YourPhone</Data><Data Name='updateGuid'>{3b94222f-a640-412b-a341-771d83dd9904}</Data><Data Name='updateRevisionNumber'>1</Data><Data Name='serviceGuid'>{855e8a7c-ecb4-4ca3-b045-1dfa50104289}</Data></EventData></Event>\n",
    "```"
   ]
  },
  {
   "cell_type": "markdown",
   "metadata": {},
   "source": [
    "[example] _Cybersecurity Ops with bash_\n",
    "\n",
    "```bash\n",
    "#!/usr/bin/env bash\n",
    "#\n",
    "# winlogs.sh\n",
    "#\n",
    "# Description:\n",
    "# Gather copies of Windows log giles\n",
    "#\n",
    "# Usage:\n",
    "# winlogs.sh [-z] [dir]\n",
    "#   -z  Tar and zip the output\n",
    "#   dir Optional scratch directory for holding the log files\n",
    "\n",
    "TGZ=0\n",
    "if (( $# > 0 ))\n",
    "then\n",
    "  if [[ ${1:0:2} == '-z' ]] # take a substring of the first argument at the beginning of the string (an offset of 0 bytes), 2 bytes long\n",
    "  then\n",
    "    TGZ=1 # tgz flag to tar/zip the log files\n",
    "    shift # shift the first argument `-z` out of the way so that the second argument is now the first argument\n",
    "  fi\n",
    "fi\n",
    "SYSNAM=$(hostname)\n",
    "LOGDIR=${1:-/tmp/${SYSNAM}_logs} # create a default location if the user didn't supply one\n",
    "\n",
    "mkdir -p $LOGDIR\n",
    "cd ${LOGDIR} || exit -2\n",
    "\n",
    "wevtutil el | while read ALOG\n",
    "do\n",
    "  # lines terminate with `\\n\\r` in Windows\n",
    "  ALOG=\"${ALOG%$'\\r'}\" # replace the two characters `\\r` by the single non-printing character ASCII 13, the return character\n",
    "  echo \"${ALOG}:\"          # display progress\n",
    "  SAFNAM=\"${ALOG// /_}\"    # replace all blanks with underscores\n",
    "  SAFNAM=\"${SAFNAM//\\//-}\" # replace all forward slashes with dashes\n",
    "  wevtutil epl \"$ALOG\" \"${SYSNAM}_${SAFNAM}.evtx\"\n",
    "done\n",
    "\n",
    "if (( TGZ == 1 ))\n",
    "then\n",
    "  tar -czvf ${SYSNAM}_logs.tgz *.evtx\n",
    "fi\n",
    "```"
   ]
  },
  {
   "cell_type": "markdown",
   "metadata": {},
   "source": [
    "---"
   ]
  },
  {
   "cell_type": "markdown",
   "metadata": {},
   "source": [
    "## `winget`"
   ]
  },
  {
   "cell_type": "markdown",
   "metadata": {},
   "source": [
    "[ [w](https://en.wikipedia.org/wiki/Windows_Package_Manager) ] `winget`\n",
    "\n",
    "[examples]\n",
    "\n",
    "```bash\n",
    "winget list\n",
    "winget list git\n",
    "```"
   ]
  },
  {
   "cell_type": "markdown",
   "metadata": {},
   "source": [
    "---"
   ]
  },
  {
   "cell_type": "markdown",
   "metadata": {},
   "source": [
    "## `winver`"
   ]
  },
  {
   "cell_type": "markdown",
   "metadata": {},
   "source": [
    "---"
   ]
  },
  {
   "cell_type": "markdown",
   "metadata": {},
   "source": [
    "## `wmic`"
   ]
  },
  {
   "cell_type": "markdown",
   "metadata": {},
   "source": [
    "[`wmic`](https://learn.microsoft.com/en-us/windows/win32/wmisdk/wmic) Windows Management Instrumentation Command\n",
    "\n",
    "options\n",
    "* `process` manipulate currently running processes\n",
    "* `product` installation package management"
   ]
  },
  {
   "cell_type": "markdown",
   "metadata": {},
   "source": [
    "[examples]\n",
    "\n",
    "```bash\n",
    "wmic product get name,version //format:csv\n",
    "```"
   ]
  },
  {
   "cell_type": "markdown",
   "metadata": {},
   "source": [
    "---"
   ]
  },
  {
   "cell_type": "markdown",
   "metadata": {},
   "source": [
    "## Windows Command Prompt"
   ]
  },
  {
   "cell_type": "markdown",
   "metadata": {},
   "source": [
    "[ w ] `cls`\n",
    "\n",
    "[ [w](https://en.wikipedia.org/wiki/Dir_(command)) ] `dir`\n",
    "* `/S` recurse through subdirectories\n",
    "* `/A:H` display files with the hidden attribute\n",
    "\n",
    "```bat\n",
    "dir c:\\ /S /A:H   # identify hidden files in the c:\\ drive\n",
    "```\n",
    "\n",
    "[ w ] `help`\n",
    "\n",
    "[ w ] `where`"
   ]
  },
  {
   "cell_type": "markdown",
   "metadata": {},
   "source": [
    "---"
   ]
  },
  {
   "cell_type": "markdown",
   "metadata": {},
   "source": [
    "PS                                  |CMD                                 |Git Bash               |Description\n",
    "------------------------------------|------------------------------------|-----------------------|-----------\n",
    "`Get-Location`                      |`cd`                                |`pwd`                  |\n",
    "`Set-Location <path>`               |`chdir <path>` or `cd <path>`       |`cd <path>`            |\n",
    ".                                   |`cls`                               |`clear`                |\n",
    "`Get-Help <cmdlet> [-examples]`     |`cmd <command>`                     |`man <command>`        |\n",
    "`Get-Command -Noun <noun>`          |                                    |                       |\n",
    "`Get-Command -Verb <verb>`          |                                    |                       |\n",
    "`Copy-Item`                         |`copy`                              |`cp`                   |\n",
    ".                                   |`del` or `erase`                    |`rm` or `rm -r`        |\n",
    "`Get-ChildItem`                     |`dir`                               |`ls`                   |\n",
    "`Get-ChildItem -Path Env:`          |`dir env:`                          |                       | get all environment variables\n",
    "`Get-ChildItem -Path Env:ComSpec`   |`dir env:ComSpec`                   |                       | get the environment variable called ComSpec\n",
    "`Write-Output`                      |`echo`                              |`echo`                 |\n",
    ".                                   |`exit`                              |`exit`                 |\n",
    ".                                   |`find`                              |`grep`                 |\n",
    ".                                   |`help <command>`                    |`man <command>`        |\n",
    "`New-Item <name>`                   |`mkdir <name>` or `md <name>`       |`mkdir <name>`         |\n",
    "`Move-Item`                         |`move`                              |`mv`                   |\n",
    "`Remove-Item <name>`                |`rmdir <name>` or `rd <name>`       |`rmdir <name>`         |\n",
    "`Remove-Item <name>`                |`rmdir /S <name>` or `rd /S <name>` |`rm -r <name>`         |\n",
    ".                                   |`tree`                              |                       |\n",
    "`Get-Content <name>`                |`type <name>`                       |`cat <name>`           |\n",
    "`Get-Alias`                         |                                    |`alias`                |\n",
    "`Stop-Process`                      |                                    |`kill`                 |\n",
    "`Get-Process`                       |                                    |`ps`                   |\n",
    "`Get-Service`                       |                                    |`service --status-all` |\n",
    "`New-Item <name>`                   |                                    |`touch <name>`         |\n",
    "`Get-ExecutionPolicy [-l or -list]` |                                    |                       |\n",
    "`Set-ExecutionPolicy -ExecutionPolicy <policy> [-Scope <scope>]` |       |                       | <policy> may be RemoteSigned, Unrestricted, Undefined, etc.; <scope> may be LocalMachine, CurrentUser, etc."
   ]
  }
 ],
 "metadata": {
  "language_info": {
   "name": "python"
  }
 },
 "nbformat": 4,
 "nbformat_minor": 2
}
