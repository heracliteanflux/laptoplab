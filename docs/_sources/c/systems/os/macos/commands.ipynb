{
 "cells": [
  {
   "cell_type": "markdown",
   "metadata": {},
   "source": [
    "# macOS Utilities"
   ]
  },
  {
   "cell_type": "markdown",
   "metadata": {},
   "source": [
    "---"
   ]
  },
  {
   "cell_type": "markdown",
   "metadata": {},
   "source": [
    "## Table of Contents\n",
    "```{contents}\n",
    "```"
   ]
  },
  {
   "cell_type": "markdown",
   "metadata": {},
   "source": [
    "---"
   ]
  },
  {
   "cell_type": "markdown",
   "metadata": {},
   "source": [
    "## `asitop`"
   ]
  },
  {
   "cell_type": "markdown",
   "metadata": {},
   "source": [
    "[ [h](https://tlkh.github.io/asitop/) ][ [g](https://github.com/tlkh/asitop) ] `asitop`"
   ]
  },
  {
   "cell_type": "markdown",
   "metadata": {},
   "source": [
    "---"
   ]
  },
  {
   "cell_type": "markdown",
   "metadata": {},
   "source": [
    "## `csrutil`"
   ]
  },
  {
   "cell_type": "markdown",
   "metadata": {},
   "source": [
    "[ [d](https://ss64.com/osx/csrutil.html) ] **`csrutil`** - configure system security policies\n",
    "\n",
    "```bash\n",
    "csrutil status\n",
    "csrutil disable\n",
    "csrutil enable\n",
    "```\n",
    "\n",
    "resources\n",
    "* https://developer.apple.com/documentation/security/disabling_and_enabling_system_integrity_protection"
   ]
  },
  {
   "cell_type": "markdown",
   "metadata": {},
   "source": [
    "---"
   ]
  },
  {
   "cell_type": "markdown",
   "metadata": {},
   "source": [
    "## `defaults`"
   ]
  },
  {
   "cell_type": "markdown",
   "metadata": {},
   "source": [
    "[ [d](https://ss64.com/osx/defaults.html) ] **`defaults`** – access the Mac OS X user defaults system\n",
    "\n",
    "[examples]\n",
    "\n",
    "```bash\n",
    "defaults domains | tr , '\\n' # list domains\n",
    "defaults write com.apple.LaunchServices/com.apple.launchservices.secure LSHandlers -array-add '{LSHandlerContentType=public.plain-text;LSHandlerRoleAll=com.microsoft.vscode;}' # set the default text editor to Visual Studio Code (`open -t file` open `file` in Visual Studio Code)\n",
    "```\n",
    "\n",
    "resources\n",
    "* https://macos-defaults.com/\n",
    "* https://github.com/kevinSuttle/macOS-Defaults/blob/master/.macos"
   ]
  },
  {
   "cell_type": "markdown",
   "metadata": {},
   "source": [
    "---"
   ]
  },
  {
   "cell_type": "markdown",
   "metadata": {},
   "source": [
    "## `diskutil`"
   ]
  },
  {
   "cell_type": "markdown",
   "metadata": {},
   "source": [
    "[ [d](https://ss64.com/osx/diskutil.html) ] **`diskutil`** - modify, verify and repair local disks\n",
    "\n",
    "```bash\n",
    "diskutil list\n",
    "```"
   ]
  },
  {
   "cell_type": "markdown",
   "metadata": {},
   "source": [
    "---"
   ]
  },
  {
   "cell_type": "markdown",
   "metadata": {},
   "source": [
    "## `dscacheutil`"
   ]
  },
  {
   "cell_type": "markdown",
   "metadata": {},
   "source": [
    "[ [d](https://ss64.com/osx/dscacheutil.html) ] **`dscacheutil`** - directory service cache\n",
    "\n",
    "[examples]\n",
    "\n",
    "```bash\n",
    "dscacheutil -q user`                # lookup all users\n",
    "dscacheutil -q user -a name <user>` # lookup a single user\n",
    "```"
   ]
  },
  {
   "cell_type": "markdown",
   "metadata": {},
   "source": [
    "---"
   ]
  },
  {
   "cell_type": "markdown",
   "metadata": {},
   "source": [
    "## `dscl`"
   ]
  },
  {
   "cell_type": "markdown",
   "metadata": {},
   "source": [
    "`dscl` Directory Service Command Line"
   ]
  },
  {
   "cell_type": "markdown",
   "metadata": {},
   "source": [
    "[example] [ [y](https://www.youtube.com/watch?v=b3yypGo4J2k) ] `01-28-2023`. Embrace The Red. \"Grabbing and cracking macOS password hashes (with dscl and hashcat)\".\n",
    "\n",
    "```bash\n",
    "dscl . -list /Users\n",
    "sudo dscl . -read /Users/alice | less\n",
    "sudo dscl . -read /Users/alice dsAttrTypeNative:ShadowHashData > alice.hashdata\n",
    "cat alice.hashdata | tail -n1 | xxd -p -r | plutil -convert xml1 - -o alice.plist \n",
    "\n",
    "#echo salt | base64 -d | xxd -p -c256 # base64-decode the salt\n",
    "#echo data | base64 -d | xxd -p -c256 # base64-decode the data\n",
    "echo '$ml$iteration$'$(echo salt | base64 -d | xxd -p -c256)'$'$(echo data | base64 -d | xxd -p -c256) > hash # file `hash`: $ml$iteration$salt$data\n",
    "\n",
    "hashcat --help | grep -i macos\n",
    "hashcat -a 0 -m 7100 hash wordlist\n",
    "```"
   ]
  },
  {
   "cell_type": "markdown",
   "metadata": {},
   "source": [
    "---"
   ]
  },
  {
   "cell_type": "markdown",
   "metadata": {},
   "source": [
    "## `du`"
   ]
  },
  {
   "cell_type": "markdown",
   "metadata": {},
   "source": [
    "**`du`** - display disk usage statistics\n",
    "\n",
    "* `du -chs .* *` `-s` is equivalent to `-d 0`\n",
    "* `du -chd 1 .* *` Depth of 1\n",
    "* `du -chd 2 .* *` Depth of 2"
   ]
  },
  {
   "cell_type": "markdown",
   "metadata": {},
   "source": [
    "---"
   ]
  },
  {
   "cell_type": "markdown",
   "metadata": {},
   "source": [
    "## `fdisk`"
   ]
  },
  {
   "cell_type": "markdown",
   "metadata": {},
   "source": [
    "[ [d](https://ss64.com/osx/fdisk.html) ] **`fdisk`** - DOS partition maintenance program"
   ]
  },
  {
   "cell_type": "markdown",
   "metadata": {},
   "source": [
    "---"
   ]
  },
  {
   "cell_type": "markdown",
   "metadata": {},
   "source": [
    "## `fs_usage`"
   ]
  },
  {
   "cell_type": "markdown",
   "metadata": {},
   "source": [
    "[ d ] **`fs_usage`**"
   ]
  },
  {
   "cell_type": "markdown",
   "metadata": {},
   "source": [
    "---"
   ]
  },
  {
   "cell_type": "markdown",
   "metadata": {},
   "source": [
    "## `halt`"
   ]
  },
  {
   "cell_type": "markdown",
   "metadata": {},
   "source": [
    "[ [d](https://ss64.com/osx/halt.html) ] **`halt`**, **`reboot`** - stopping and restarting the system"
   ]
  },
  {
   "cell_type": "markdown",
   "metadata": {},
   "source": [
    "---"
   ]
  },
  {
   "cell_type": "markdown",
   "metadata": {},
   "source": [
    "## `id`"
   ]
  },
  {
   "cell_type": "markdown",
   "metadata": {},
   "source": [
    "[ [d](https://ss64.com/osx/id.html) ] **`id`** - return user identity\n",
    "\n",
    "* `man id` How do I use command `id`?\n",
    "* `id -P bob` Show information for the user ‘bob’ as a password file entry.\n",
    "* `id -Gn root` Same output as groups(1) for the root user.\n",
    "* `id -p alice` Show human readable information about ‘alice’.\n",
    "* `id -u` Print the effective UID.\n",
    "* `id -un` Print the effective user name. Equivalent to `whoami`."
   ]
  },
  {
   "cell_type": "markdown",
   "metadata": {},
   "source": [
    "---"
   ]
  },
  {
   "cell_type": "markdown",
   "metadata": {},
   "source": [
    "## `launchctl`"
   ]
  },
  {
   "cell_type": "markdown",
   "metadata": {},
   "source": [
    "**`launchctl`** – Interfaces with launchd"
   ]
  },
  {
   "cell_type": "markdown",
   "metadata": {},
   "source": [
    "---"
   ]
  },
  {
   "cell_type": "markdown",
   "metadata": {},
   "source": [
    "## `log`"
   ]
  },
  {
   "cell_type": "markdown",
   "metadata": {},
   "source": [
    "**`log`** – access system wide log messages created by os_log, os_trace and other logging systems\n",
    "\n",
    "[examples]\n",
    "\n",
    "```bash\n",
    "log show --predicate 'process == \"Safari\"' --last 2d\n",
    "```"
   ]
  },
  {
   "cell_type": "markdown",
   "metadata": {},
   "source": [
    "---"
   ]
  },
  {
   "cell_type": "markdown",
   "metadata": {},
   "source": [
    "## `mdutil`"
   ]
  },
  {
   "cell_type": "markdown",
   "metadata": {},
   "source": [
    "`mdutil` manage the metadata stores for mounted volumes used by spotlight\n",
    "\n",
    "```bash\n",
    "sudo mdutil -E / # erase the local stores mounted at `/` (the stores will be rebuilt, if appropriate)\n",
    "```"
   ]
  },
  {
   "cell_type": "markdown",
   "metadata": {},
   "source": [
    "---"
   ]
  },
  {
   "cell_type": "markdown",
   "metadata": {},
   "source": [
    "## `networkQuality`"
   ]
  },
  {
   "cell_type": "markdown",
   "metadata": {},
   "source": [
    "[ [d](https://ss64.com/osx/networkquality.html) ] **`networkQuality`** - network quality testing tool\n",
    "\n",
    "[examples]\n",
    "\n",
    "```bash\n",
    "networkQuality -s -v # down/up sequential + verbose\n",
    "networkQuality -v    # down/up parallel + verbose\n",
    "```"
   ]
  },
  {
   "cell_type": "markdown",
   "metadata": {},
   "source": [
    "---"
   ]
  },
  {
   "cell_type": "markdown",
   "metadata": {},
   "source": [
    "## `networksetup`"
   ]
  },
  {
   "cell_type": "markdown",
   "metadata": {},
   "source": [
    "[ [d](https://ss64.com/osx/networksetup.html) ] **`networksetup`** - configuration tool for network settings in System Preferences\n",
    "\n",
    "[examples]\n",
    "\n",
    "```bash\n",
    "networksetup -listnetworkserviceorder\n",
    "networksetup -listallnetworkservices\n",
    "```"
   ]
  },
  {
   "cell_type": "markdown",
   "metadata": {},
   "source": [
    "---"
   ]
  },
  {
   "cell_type": "markdown",
   "metadata": {},
   "source": [
    "## `nvram`"
   ]
  },
  {
   "cell_type": "markdown",
   "metadata": {},
   "source": [
    "**`nvram`** – manipulate firmware NVRAM variables\n",
    "\n",
    "```bash\n",
    "nvram SystemAudioVolume=\" \" # disable the sound effects on boot (not tested) https://github.com/kevinSuttle/macOS-Defaults/blob/master/.macos\n",
    "```"
   ]
  },
  {
   "cell_type": "markdown",
   "metadata": {},
   "source": [
    "---"
   ]
  },
  {
   "cell_type": "markdown",
   "metadata": {},
   "source": [
    "## `open`"
   ]
  },
  {
   "cell_type": "markdown",
   "metadata": {},
   "source": [
    "[ [d](https://ss64.com/osx/open.html) ] **`open`** - open files and directories\n",
    "\n",
    "* `open '/Volumes/Macintosh HD/foo.txt'` opens the document in the default application for its type (as determined by LaunchServices).\n",
    "* `open '/Volumes/Macintosh HD/Applications/'` opens that directory in the Finder.\n",
    "* `open -a /Applications/TextEdit.app '/Volumes/Macintosh HD/foo.txt'` opens the document in the application specified (in this case, TextEdit).\n",
    "* `open -b com.apple.TextEdit '/Volumes/Macintosh HD/foo.txt'` opens the document in the application specified (in this case, TextEdit).\n",
    "* `open -e '/Volumes/Macintosh HD/foo.txt'` opens the document in TextEdit.\n",
    "* `ls | open -f` writes the output of the 'ls' command to a file in /tmp and opens the file in the default text editor (as determined by LaunchServices).\n",
    "* `open http://www.apple.com/` opens the URL in the default browser.\n",
    "* `open 'file://localhost/Volumes/Macintosh HD/foo.txt'` opens the document in the default application for its type (as determined by LaunchServices).\n",
    "* `open 'file://localhost/Volumes/Macintosh HD/Applications/'` opens that directory in the Finder.\n",
    "* `open -h NSView` lists headers whose names contain NSView and allows you to choose which ones to open.\n",
    "* `open -h NSView.h` immediately opens NSView.h.\n",
    "* `open --env MallocStackLogging=YES -b com.apple.TextEdit` launches TextEdit with the environment variable \"MallocStackLogging\" set to \"YES\"\n",
    "* `open -h NSView -s OSX10.12` lists headers whose names contain NSView in the MacOSX 10.12 SDK and allows you to choose which ones to open."
   ]
  },
  {
   "cell_type": "markdown",
   "metadata": {},
   "source": [
    "---"
   ]
  },
  {
   "cell_type": "markdown",
   "metadata": {},
   "source": [
    "## `osascript`"
   ]
  },
  {
   "cell_type": "markdown",
   "metadata": {},
   "source": [
    "**`osascript`** – execute OSA scripts (AppleScript, JavaScript, etc.)\n",
    "\n",
    "```bash\n",
    "osascript -e 'tell application \"System Preferences\" to quit' # close System Preferences\n",
    "```"
   ]
  },
  {
   "cell_type": "markdown",
   "metadata": {},
   "source": [
    "---"
   ]
  },
  {
   "cell_type": "markdown",
   "metadata": {},
   "source": [
    "## `plutil`"
   ]
  },
  {
   "cell_type": "markdown",
   "metadata": {},
   "source": [
    "**`plutil`** – property list utility"
   ]
  },
  {
   "cell_type": "markdown",
   "metadata": {},
   "source": [
    "---"
   ]
  },
  {
   "cell_type": "markdown",
   "metadata": {},
   "source": [
    "## `pmset`"
   ]
  },
  {
   "cell_type": "markdown",
   "metadata": {},
   "source": [
    "**`pmset`** – manipulate power management settings\n",
    "\n",
    "```bash\n",
    "pmset -g sched # view the current schedule\n",
    "```"
   ]
  },
  {
   "cell_type": "markdown",
   "metadata": {},
   "source": [
    "---"
   ]
  },
  {
   "cell_type": "markdown",
   "metadata": {},
   "source": [
    "## `powermetrics`"
   ]
  },
  {
   "cell_type": "markdown",
   "metadata": {},
   "source": [
    "[ [unix/osx](https://www.unix.com/man-page/osx/1/powermetrics/) ] `powermetrics`"
   ]
  },
  {
   "cell_type": "markdown",
   "metadata": {},
   "source": [
    "---"
   ]
  },
  {
   "cell_type": "markdown",
   "metadata": {},
   "source": [
    "## `quota`"
   ]
  },
  {
   "cell_type": "markdown",
   "metadata": {},
   "source": [
    "[ [d](https://ss64.com/osx/quota.html) ] **`quota`** - display disk usage and limits"
   ]
  },
  {
   "cell_type": "markdown",
   "metadata": {},
   "source": [
    "---"
   ]
  },
  {
   "cell_type": "markdown",
   "metadata": {},
   "source": [
    "## `scutil`"
   ]
  },
  {
   "cell_type": "markdown",
   "metadata": {},
   "source": [
    "**`scutil`** – Manage system configuration parameters\n",
    "\n",
    "* `scutil --dns`\n",
    "* `scutil --get`\n",
    "  * `scutil --get ComputerName`\n",
    "  * `scutil --get HostName`\n",
    "  * `scutil --get LocalHostName`\n",
    "* `scutil --set`"
   ]
  },
  {
   "cell_type": "markdown",
   "metadata": {},
   "source": [
    "---"
   ]
  },
  {
   "cell_type": "markdown",
   "metadata": {},
   "source": [
    "## `security`"
   ]
  },
  {
   "cell_type": "markdown",
   "metadata": {},
   "source": [
    "[ [d](https://ss64.com/osx/security.html) ] **`security`** - command line interface to keychains and Security framework"
   ]
  },
  {
   "cell_type": "markdown",
   "metadata": {},
   "source": [
    "---"
   ]
  },
  {
   "cell_type": "markdown",
   "metadata": {},
   "source": [
    "## `softwareupdate`"
   ]
  },
  {
   "cell_type": "markdown",
   "metadata": {},
   "source": [
    "[ [d](https://ss64.com/osx/softwareupdate.html) ] **`softwareupdate`** - system software update tool\n",
    "\n",
    "[examples]\n",
    "\n",
    "```bash\n",
    "softwareupdate --help # How do I use command `softwareupdate`?\n",
    "softwareupdate -l     # Are there any available updates?\n",
    "```"
   ]
  },
  {
   "cell_type": "markdown",
   "metadata": {},
   "source": [
    "---"
   ]
  },
  {
   "cell_type": "markdown",
   "metadata": {},
   "source": [
    "## `split`"
   ]
  },
  {
   "cell_type": "markdown",
   "metadata": {},
   "source": [
    "[ [d](https://ss64.com/osx/split.html) ] **`split`** - split a file into pieces"
   ]
  },
  {
   "cell_type": "markdown",
   "metadata": {},
   "source": [
    "---"
   ]
  },
  {
   "cell_type": "markdown",
   "metadata": {},
   "source": [
    "## `sw_vers`"
   ]
  },
  {
   "cell_type": "markdown",
   "metadata": {},
   "source": [
    "[ [d](https://ss64.com/osx/sw_vers.html) ] **`sw_vers`** - print macOS version information\n",
    "\n",
    "```bash\n",
    "sw_vers -h # How do I use command `sw_vers`?\n",
    "sw_vers    # Print macOS version information.\n",
    "```"
   ]
  },
  {
   "cell_type": "markdown",
   "metadata": {},
   "source": [
    "---"
   ]
  },
  {
   "cell_type": "markdown",
   "metadata": {},
   "source": [
    "## `sysctl`"
   ]
  },
  {
   "cell_type": "markdown",
   "metadata": {},
   "source": [
    "[ [d](https://ss64.com/osx/sysctl.html) ] **`sysctl`** - get or set kernel state\n",
    "\n",
    "```bash\n",
    "sysctl -a # List all the currently available non-opaque values. This option is ignored if one or more variable names are specified on the command line.\n",
    "```"
   ]
  },
  {
   "cell_type": "markdown",
   "metadata": {},
   "source": [
    "---"
   ]
  },
  {
   "cell_type": "markdown",
   "metadata": {},
   "source": [
    "## `system_profiler`"
   ]
  },
  {
   "cell_type": "markdown",
   "metadata": {},
   "source": [
    "[ [d](https://ss64.com/osx/system_profiler.html) ] **`system_profiler`** - reports system hardware and software configuration\n",
    "\n",
    "```bash\n",
    "system_profiler -h # How do I use command `system_profiler`?\n",
    "system_profiler    # Report the system hardware and software configuration.\n",
    "```"
   ]
  },
  {
   "cell_type": "markdown",
   "metadata": {},
   "source": [
    "---"
   ]
  },
  {
   "cell_type": "markdown",
   "metadata": {},
   "source": [
    "## `systemsetup`"
   ]
  },
  {
   "cell_type": "markdown",
   "metadata": {},
   "source": [
    "[ [d](https://ss64.com/osx/systemsetup.html) ] **`systemsetup`** – configuration tool for certain machine settings in System Preferences.\n",
    "\n",
    "```zsh\n",
    "systemsetup -getallowpowerbuttontosleepcomputer           # getAllowPowerButtonToSleepComputer: On\n",
    "systemsetup -getcomputername                              # Computer Name: Automaton\n",
    "systemsetup -getcomputersleep                             # Computer Sleep: Never\n",
    "systemsetup -getdate                                      #\n",
    "systemsetup -getdisablekeyboardwhenenclosurelockisengaged # getdisablekeyboardwhenenclosurelockisengaged: No\n",
    "systemsetup -getdisplaysleep                              # Display Sleep: after 60 minutes\n",
    "systemsetup -getharddisksleep                             # Hard Disk Sleep: after 10 minutes\n",
    "systemsetup -getkernelbootarchitecturesetting             # kernel architecture is set to default\n",
    "systemsetup -getlocalsubnetname                           # Local Subnet Name: Automaton\n",
    "systemsetup -getnetworktimeserver                         # Network Time Server: time.apple.com\n",
    "systemsetup -getremoteappleevents                         # Remote Apple Events: Off\n",
    "systemsetup -getremotelogin                               # Remote Login: On\n",
    "systemsetup -getrestartfreeze                             # Restart After Freeze: On\n",
    "systemsetup -getrestartpowerfailure                       # Restart After Power Failure: Not supported on this machine.\n",
    "systemsetup -getsleep                                     # Sleep: Computer sleeps Never \\n Sleep: Display sleeps after 60 minutes \\n Sleep: Disk sleeps after 10 minutes\n",
    "systemsetup -getstartupdisk                               # (null)\n",
    "systemsetup -gettime                                      #\n",
    "systemsetup -gettimezone                                  # Time Zone: America/New_York\n",
    "systemsetup -getusingnetworktime                          # Network Time: On\n",
    "systemsetup -getwaitforstartupafterpowerfailure           # getwaitforstartupafterpowerfailure: 0 seconds\n",
    "systemsetup -getwakeonmodem                               # Wake On Modem: Not supported on this machine.\n",
    "systemsetup -getwakeonnetworkaccess                       # Wake On Network Access: On\n",
    "\n",
    "systemsetup -liststartupdisks                             #\n",
    "systemsetup -listtimezones                                #\n",
    "\n",
    "systemsetup -help                                         #\n",
    "systemsetup -printCommands                                #\n",
    "systemsetup -version                                      # systemsetup, Version 1.5.1 \\n Copyright Apple Inc. 2002-2020\n",
    "```"
   ]
  },
  {
   "cell_type": "markdown",
   "metadata": {},
   "source": [
    "---"
   ]
  },
  {
   "cell_type": "markdown",
   "metadata": {},
   "source": [
    "## `tiptop`"
   ]
  },
  {
   "cell_type": "markdown",
   "metadata": {},
   "source": [
    "[ [g](https://github.com/nschloe/tiptop) ] **`tiptop`**"
   ]
  },
  {
   "cell_type": "markdown",
   "metadata": {},
   "source": [
    "---"
   ]
  },
  {
   "cell_type": "markdown",
   "metadata": {},
   "source": [
    "## `trash`"
   ]
  },
  {
   "cell_type": "markdown",
   "metadata": {},
   "source": [
    "[ [g](https://github.com/sindresorhus/macos-trash) ] **`trash`**"
   ]
  },
  {
   "cell_type": "markdown",
   "metadata": {},
   "source": [
    "---"
   ]
  },
  {
   "cell_type": "markdown",
   "metadata": {},
   "source": [
    "## `vm_stat`"
   ]
  },
  {
   "cell_type": "markdown",
   "metadata": {},
   "source": [
    "[ [w](https://en.wikipedia.org/wiki/Vmstat) ] **`vm_stat`** - show Mach virtual memory statistics"
   ]
  },
  {
   "cell_type": "markdown",
   "metadata": {},
   "source": [
    "---"
   ]
  },
  {
   "cell_type": "markdown",
   "metadata": {},
   "source": [
    "## `xattr`"
   ]
  },
  {
   "cell_type": "markdown",
   "metadata": {},
   "source": [
    "**`xattr`** - display and manipulate extended attributes"
   ]
  },
  {
   "cell_type": "markdown",
   "metadata": {},
   "source": [
    "---"
   ]
  },
  {
   "cell_type": "markdown",
   "metadata": {},
   "source": [
    "## `xcode-select`"
   ]
  },
  {
   "cell_type": "markdown",
   "metadata": {},
   "source": [
    "[ [d](https://ss64.com/osx/xcode-select.html) ] **`xcode-select`** - manages the active developer directory for Xcode and BSD tools\n",
    "\n",
    "* `xcode-select -h` How do I use command `xcode-select`?\n",
    "* `xcode-select -v` What is the version?\n",
    "* `xcode-select -p` Where is the active developer directory located in the filesystem?"
   ]
  },
  {
   "cell_type": "markdown",
   "metadata": {},
   "source": [
    "---"
   ]
  }
 ],
 "metadata": {
  "language_info": {
   "name": "python"
  }
 },
 "nbformat": 4,
 "nbformat_minor": 2
}
