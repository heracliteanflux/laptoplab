{
 "cells": [
  {
   "cell_type": "markdown",
   "metadata": {},
   "source": [
    "# _Advanced Programming in the UNIX Environment_, 3e"
   ]
  },
  {
   "cell_type": "markdown",
   "metadata": {},
   "source": [
    "[ [h](http://www.apuebook.com) ] _Advanced Programming in the UNIX Environment_. 3e."
   ]
  },
  {
   "cell_type": "markdown",
   "metadata": {},
   "source": [
    "---"
   ]
  },
  {
   "cell_type": "markdown",
   "metadata": {},
   "source": [
    "## Table of Contents\n",
    "```{contents}\n",
    "```"
   ]
  },
  {
   "cell_type": "markdown",
   "metadata": {},
   "source": [
    "---"
   ]
  },
  {
   "cell_type": "markdown",
   "metadata": {},
   "source": [
    "## 1 - UNIX System Overview"
   ]
  },
  {
   "cell_type": "markdown",
   "metadata": {},
   "source": [
    "### Unix Architecture"
   ]
  },
  {
   "cell_type": "markdown",
   "metadata": {},
   "source": [
    "Unix Architecture \n",
    "* Kernel\n",
    "* System Calls\n",
    "* Library Routines - libraries of common functions are built on top of the system call interface\n",
    "* Shell - a special application that provides an interface for running other applications\n",
    "* Applications - can use both library routines that access system calls and system calls themselves"
   ]
  },
  {
   "cell_type": "markdown",
   "metadata": {},
   "source": [
    "### Login"
   ]
  },
  {
   "cell_type": "markdown",
   "metadata": {},
   "source": [
    "1. The user enters their login name and password.\n",
    "2. The system looks up the user's login name in its password file `/etc/passwd`.\n",
    "3. An entry in the password file consists of 7 colon-separated fields.\n",
    "    * login name\n",
    "    * encrypted password (modern systems have moved the encrypted password to a different file)\n",
    "    * numeric user ID\n",
    "    * numeric group ID\n",
    "    * comment\n",
    "    * home directory\n",
    "    * shell program\n",
    "4. The working directory is set to the user's home directory (field 6)\n",
    "4. The user's shell is executed (field 7)\n",
    "\n",
    "Process ID (PID)\n",
    "\n",
    "User ID (UID)\n",
    "* found in the password file `/etc/passwd`\n",
    "* a unique numeric value that identifies the user to the system\n",
    "* assigned by the sysadmin when the user's login name is assigned\n",
    "* immutable?\n",
    "* the kernel uses the UID to check whether the user has the appropriate permissions to perform certain ops\n",
    "* UID 0 = root or superuser; if a process has superuser privileges then most file permission checks are bypassed; some os functions are restricted to the superuser\n",
    "\n",
    "Group ID (GID)\n",
    "* found in the password file `/etc/password`\n",
    "* a numeric value that collects users together into projects or departments for the purposes of sharing resources among group members\n",
    "* assigned by the sysadmin when the user's login name is assigned\n",
    "* the group file `/etc/group` maps group names to GIDs\n",
    "\n",
    "the file system stores both the UID and the GID of a file's owner of every file on disk\n",
    "* 4 B = 2 B int (UID) + 2 B int (GID)\n",
    "* more disk space would be required if the full ASCII login name and group name were used (strings)\n",
    "* comparing strings during permission checks would be more expensive than comparing integers\n",
    "* early UNIX systems used 16-bit ints to represent UIDs and GIDs; contemporary systems use 32-bit ints\n",
    "\n",
    "supplementary GIDs\n",
    "* started in 4.2BSD\n",
    "* users can belong to up to 16 additional groups\n",
    "* supplementary GIDs are obtained at login time by reading the file `/etc/group` and finding the first 16 entries that list the user as a member\n",
    "* POSIX requires that a system support at least 8 supplementary groups per process, but most systems support at least 16"
   ]
  },
  {
   "cell_type": "markdown",
   "metadata": {},
   "source": [
    "### Shells"
   ]
  },
  {
   "cell_type": "markdown",
   "metadata": {},
   "source": [
    "```\n",
    "/etc/sh   # Bourne\n",
    "/etc/bash # Bourne-Again\n",
    "/etc/dash # Debian Almquist\n",
    "/etc/ksh  # Korn\n",
    "/etc/csh  # C\n",
    "/etc/tcsh # TENEX C\n",
    "/etc/zsh  # Z\n",
    "/etc/fish # Fish\n",
    "```"
   ]
  },
  {
   "cell_type": "markdown",
   "metadata": {},
   "source": [
    "### Files"
   ]
  },
  {
   "cell_type": "markdown",
   "metadata": {},
   "source": [
    "Directory Entries\n",
    "* logical view - each directory entry contains a filename along with information describing the file's attributes\n",
    "* physical view - the way it is actually stored on disk\n",
    "* most implementations of the UNIX file system don't store attributes in the directory entries themselves because of the difficulty of keeping them in sync when a file has multiple hard links\n",
    "\n",
    "File Names\n",
    "* the only two characters that cannot appear in a file name are the slash `/` and the null character\n",
    "  * the slash `/` separates the file names that form a path name\n",
    "  * the null character terminates a path name\n",
    "  * it's good practice to restrict the characters in a file name to a subset of the normal printing characters: if we use the shell's special characters in a file name then we have to use the shell's quoting mechanism to reference the file name; POSIX.1 recommends restricting file names to consist of the following characters: letters `a-zA-Z`, numbers `0-9`, period `.`, dash `-`, and underscore `_`\n",
    "* two file names are automatically created whenever a new directory is created\n",
    "  * `.` dot refers to the current directory\n",
    "  * `..` dot-dot refers to the parent directory\n",
    "  * in the root directory `/`, dot-dot `..` is the same as dot `.`\n",
    "* file name size\n",
    "  * `14` characters: Research UNIX System & UNIX System V systems\n",
    "  * `255` characters: BSD\n",
    "  * `255+` today\n",
    "\n",
    "File Attributes\n",
    "* file type (regular file, directory)\n",
    "* file size\n",
    "* file owner\n",
    "* file permissions\n",
    "* last modification time\n",
    "* last access time"
   ]
  },
  {
   "cell_type": "markdown",
   "metadata": {},
   "source": [
    "### I/O"
   ]
  },
  {
   "cell_type": "markdown",
   "metadata": {},
   "source": [
    "Unbuffered I/O\n",
    "* functions `open`, `read`, `write`, `lseek`, and `close` all work with file descriptors\n",
    "* `read` reads a specified number of bytes\n",
    "\n",
    "Standard I/O uses header file `<stdio.h>`\n",
    "* standard I/O functions provide a buffered interface to the unbuffered I/O functions\n",
    "* functions `fgets`, `printf`\n",
    "* conveniences\n",
    "  * don't have to choose an optimal buffer size via `BUFFSIZE`\n",
    "  * simplifies dealing with lines of input\n",
    "  * control the style of buffering\n",
    "* `fgets` reads an entire line\n",
    "* `printf`"
   ]
  },
  {
   "cell_type": "markdown",
   "metadata": {},
   "source": [
    "### Programs & Processes"
   ]
  },
  {
   "cell_type": "markdown",
   "metadata": {},
   "source": [
    "UNIX guarantees that every process has a unique numeric identifier called the process ID (PID) which is always a non-negative integer.\n",
    "\n",
    "Process Control functions\n",
    "* `exec`\n",
    "* `fork`\n",
    "* `wait-pid`"
   ]
  },
  {
   "cell_type": "markdown",
   "metadata": {},
   "source": [
    "### Threads"
   ]
  },
  {
   "cell_type": "markdown",
   "metadata": {},
   "source": [
    "Usually a process has only one thread of control--one set of machine instructions executing at a time.\n",
    "\n",
    "All threads within a process share the same address space, file descriptors, stacks, and process-related attributes.\n",
    "\n",
    "Each thread executes on its own stack, although any thread can access the stacks of other threads in the same process.\n",
    "\n",
    "Since they access the same memory, threads need to synchronize access to shared data among themselves to avoid inconsistencies.\n",
    "\n",
    "Threads are identified by thread IDs which are local to a process: a thread ID in one process has no meaning in another process."
   ]
  },
  {
   "cell_type": "markdown",
   "metadata": {},
   "source": [
    "### Error Handling"
   ]
  },
  {
   "cell_type": "markdown",
   "metadata": {},
   "source": [
    "Functions that return integers return negative integers to indicate an error and the variable `errno` is set to one of fifteen possible integer values that indicates the nature of the error; for example, function `open` returns either a non-negative file descriptor or `-1` if an error occurs.\n",
    "* file does not exits\n",
    "* `EACCES` permission error, insufficient permission to open the requested file\n",
    "\n",
    "Some function rely on a convention other than returning a negative number; for example, most functions that return a pointer to an object return a null pointer to indicate an error.\n",
    "\n",
    "Header file `<errno.h>` defines `errno` along with constants beginning with `E` for each value that it can assume. The first page of Section 2 of the UNIX system manuals named `intro(2)` lists the error constants. On Linux, the error constants are listed in the `errno(3)` manual page. Errors are divided into two categories: fatal and nonfatal. Fatal errors have no recovery action; the best that can be done is to print an error message to the user's screen or to a log file and then exit. Most nonfatal errors are temporary (e.g., resource shortage) and might not occur when there is less activity on the system. The typical recovery action for a resource-related nonfatal error is to delay and retry later.\n",
    "\n",
    "resource-related nonfatal errors\n",
    "* `EAGAIN`\n",
    "* `ENFILE`\n",
    "* `ENOBUFS`\n",
    "* `ENOLCK`\n",
    "* `ENOSPC`\n",
    "* `EWOULDBLOCK`\n",
    "* `ENOMEM`\n",
    "* `EBUSY` can be treated as nonfatal when it indicates that a shared resource is in use\n",
    "* `EINTR` can be treated as nonfatal when it interrupts a slow system call\n",
    "\n",
    "`errno`\n",
    "* POSIX and ISO C define `errno` as a symbol expanding into a modifiable lvalue of type integer (either an integer that contains the error number or a function that returns a pointer to the error number)\n",
    "* historical definition: `extern int errno;`\n",
    "* Linux multithreaded access to `errno`: `extern int *__errno_location(void); #define errno (*__errno_location())`\n",
    "\n",
    "two rules\n",
    "* the value of `errno` is never cleared by a routine if an error does not occur; therefore, we should examine its value only when the return value from a function indicates that an error occurred\n",
    "* the value of `errno` is never set to `0` by any of the functions, and none of the constants defined in `<errno.h>` has a value of `0`\n",
    "\n",
    "C standard functions for printing error messages\n",
    "\n",
    "```c\n",
    "/* this function maps the `errno` value `errnum`\n",
    " * into an error message string\n",
    " * and returns a pointer to the string\n",
    " */\n",
    "#include <string.h>\n",
    "char *strerror(int errnum);\n",
    "```\n",
    "```c\n",
    "/* this function produces an error message on STDERR\n",
    " * based on the current value of `errno` and returns;\n",
    " * it outputs the string pointd to by `msg` followed by\n",
    " * a colon and a space, followed by the error message\n",
    " * corresponding to the value of `errno`, followed by a newline\n",
    " */\n",
    "#include <stdio.h>\n",
    "void perror(const char *msg);\n",
    "```"
   ]
  },
  {
   "cell_type": "markdown",
   "metadata": {},
   "source": [
    "### Signals"
   ]
  },
  {
   "cell_type": "markdown",
   "metadata": {},
   "source": [
    "Signals are a technique to notify a process that some condition has occurred. For example, if a process divides by zero, the signal whose name is `SIGFPE` (floating-point exception) is sent to the process.\n",
    "\n",
    "A process has three choices for dealing with a signal\n",
    "1. ignore the signal - this isn't recommended for signals that denote hardware exceptions (e.g., dividing by zero, referencing memory outside the address space of the process) since the results are undefined\n",
    "2. let the default action occur (e.g., for a divide-by-zero condition the default action is to terminate the process)\n",
    "3. provide a function that is called when the signal occurs (\"catching the signal\") and handle it\n",
    "\n",
    "keyboard\n",
    "* Interrupt `Ctrl-C`\n",
    "* Exit `Ctrl-\\`\n",
    "\n",
    "functions/commands\n",
    "* function `kill` can be called from a process to send a signal to another process (we have to be the owner of the process or the superuser to be able to send this signal)\n",
    "\n",
    "signals\n",
    "* `SIGINT`\n",
    "* `SIGFPE`"
   ]
  },
  {
   "cell_type": "markdown",
   "metadata": {},
   "source": [
    "### Time"
   ]
  },
  {
   "cell_type": "markdown",
   "metadata": {},
   "source": [
    "Calendar Time\n",
    "* counts the number of seconds since Epoch: 00:00:00 Jan 1, 1970, UTC\n",
    "* these time values are used to record the time a file was last modified, for example\n",
    "* the primitive system data type `time_t` holds these time values\n",
    "\n",
    "Process Time (CPU Time)\n",
    "* measures the central processor resources used by a process\n",
    "* process time is measured in clock ticks, which have historically been 50, 60, or 100 ticks per second\n",
    "* the primitive system data type `clock_t` holds these values\n",
    "\n",
    "Measuring the execution time of a process, UNIX maintains three values for a process\n",
    "* (wall) clock time - the amount of time the process takes to run; its value depends on the number of other processes running on the system\n",
    "* CPU time - the sum of the user CPU time and the system CPU time\n",
    "* user CPU time - the CPU time attributed to the user instructions\n",
    "* system CPU time - the CPU time attributed to the kernel when it executes on behalf of the process (e.g., whenever a process executes a system service such as `read` or `write` the time spent within the kernel performing that system service is charged to the process)\n",
    "\n",
    "`time`(1)"
   ]
  },
  {
   "cell_type": "markdown",
   "metadata": {},
   "source": [
    "### System Calls"
   ]
  },
  {
   "cell_type": "markdown",
   "metadata": {},
   "source": [
    "\"All operating systems provide service points through which programs request services from the kernel; all implementations of [UNIX] provide a well-defined, limited number of entry points directly into the kernel called system calls.\" - _Advanced Programming in the UNIX Environment_, 3e\n",
    "\n",
    "* Version 7 Research UNIX System : about 50 system calls\n",
    "* 4.4BSD : about 110 system calls\n",
    "* SVR4 : about 120 system calls\n",
    "* Linux 3.2.0 : 380 system calls\n",
    "* FreeBSD 8.0 : 450+ system calls\n",
    "\n",
    "System Call Interface documented in Section 2 of the UNIX Programmer's Manual. It's definition is in the C language no matter which implementation technique is actually used to invoke a system call. Older systems traditionally defined kernel entry points in the assembly language of the machine."
   ]
  },
  {
   "cell_type": "markdown",
   "metadata": {},
   "source": [
    "### System Calls vs Library Functions"
   ]
  },
  {
   "cell_type": "markdown",
   "metadata": {},
   "source": [
    "memory allocation and garbage collection\n",
    "* `malloc`(3) function - implements one particular type of allocation; if we don't like its operation then we can define our own function `malloc` which will probably use the system call `sbrk`\n",
    "* `sbrk`(2) system call - not a general-purpose memory manager; it increases or decreases the address space of the process by a specified number of bytes (how that space is managed is up to the process)\n",
    "* garbage collection techniques: best fit, first fit, etc.\n",
    "\n",
    "datetime\n",
    "* some operating systems provide one system call for time and another system call for date, and any special handling such as the switch to or from daylight saving time is handled by the kernel or requires human intervention\n",
    "* UNIX provides a single system call that returns the number of seconds since the Epoch: 00:00:00 Jan 1, 1970, UTC; any interpretation of this value such as converting it to a human-readable datetime using the local time zone is left to the user process (the standard C library provides algorithms for daylight saving time)\n",
    "\n",
    "process control\n",
    "* system calls: `exec`, `fork`, `waitpid`\n",
    "* functions: `system`, `popen`"
   ]
  },
  {
   "cell_type": "markdown",
   "metadata": {},
   "source": [
    "### Code"
   ]
  },
  {
   "cell_type": "markdown",
   "metadata": {},
   "source": [
    "```c\n",
    "/* myls.c\n",
    " *\n",
    " * print the name of every file in a directory\n",
    " * \n",
    " * take an argument from the command line `argv[1]`\n",
    " * as the name of the directory to list\n",
    " */\n",
    "#include \"apue.h\"\n",
    "#include <dirent.h> /* function prototypes for `opendir`, `readdir`; definition of structure `dirent`\n",
    "                     *\n",
    "                     * we use `opendir`, `readdir`, `closedir` to manipulate the directory\n",
    "                     * since the format of directory entries varies from one UNIX system to another\n",
    "                     */\n",
    "\n",
    "int main (int argc, char *argv[]) {\n",
    "  DIR           *dp;\n",
    "  struct dirent *dirp;\n",
    "\n",
    "  if (argc != 2)\n",
    "    err_quit(\"usage: ls directory_name\");\n",
    "\n",
    "  if ((dp = opendir(argv[1])) == NULL) /* function `opendir` returns a pointer to a structure `DIR`\n",
    "                                        * which is passed to function `readdir`\n",
    "                                        */\n",
    "    err_sys(\"can't open %s\", argv[1]);\n",
    "\n",
    "  while ((dirp = readdir(dp)) != NULL) /* function `readdir` returns a pointer to a structure `dirent`\n",
    "                                        * or a null pointer when it's finished with the directory\n",
    "                                        */\n",
    "    printf(\"%s\\n\", dirp->d_name);\n",
    "\n",
    "  closedir(dp);\n",
    "  exit(0);\n",
    "}\n",
    "```"
   ]
  },
  {
   "cell_type": "markdown",
   "metadata": {},
   "source": [
    "```c\n",
    "/* stdin2stdout.c\n",
    " *\n",
    " * Copy STDIN to STDOUT.\n",
    " */\n",
    "\n",
    "#include \"apue.h\"\n",
    "#define BUFFSIZE 4096\n",
    "\n",
    "int main (void) {\n",
    "  int  n;\n",
    "  char buf[BUFFSIZE];\n",
    "\n",
    "  /* the constants `STDIN_FILENO` and `STDOUT_FILENO`\n",
    "   * are part of the POSIX standard and\n",
    "   * are defined in the header file `<unistd.h>`\n",
    "   * they specify the file descriptors for STDIN (0) and STDOUT (1)\n",
    "   */\n",
    "  while ((n = read(STDIN_FILENO, buf, BUFFSIZE)) > 0) /* function `read` returns the number of bytes that are read\n",
    "                                                       * and this value is used as the number of bytes to write;\n",
    "                                                       * when the end of the input file is encountered,\n",
    "                                                       * function `read` returns 0 and the program stops;\n",
    "                                                       * if a read error occurs then function `read` returns -1\n",
    "                                                       */\n",
    "    if (write(STDOUT_FILENO, buf, n) != n)\n",
    "      err_sys(\"write error\");\n",
    "\n",
    "  if (n < 0)\n",
    "    err_sys(\"read error\");\n",
    "\n",
    "  exit(0);\n",
    "}\n",
    "```\n",
    "```bash\n",
    "cc stdin2stdout.c\n",
    "./a.out > data             # STDIN is the terminal; STDOUT is redirected to the file `data`; STDERR is the terminal\n",
    "./a.out < infile > outfile # the file named `infile` is copied to the file named `outfile`\n",
    "```"
   ]
  },
  {
   "cell_type": "markdown",
   "metadata": {},
   "source": [
    "```c\n",
    "/* Advanced Programming in the UNIX Environment, 3e\n",
    " *\n",
    " * stdin2stdout_buffered.c\n",
    " *\n",
    " * Copy STDIN to STDOUT using standard I/O.\n",
    " *\n",
    " * the header file `<stdio.h>` defines the following constants\n",
    " *   stdin\n",
    " *   stdout\n",
    " *   EOF\n",
    " *\n",
    " * function `getc` reads one character at a time\n",
    " * which is written by function `putc`;\n",
    " * after the last byte of input is read,\n",
    " * `getc` returns the constant `EOF`\n",
    " */\n",
    "\n",
    "#include \"apue.h\"\n",
    "\n",
    "int main (void) {\n",
    "  int c;\n",
    "\n",
    "  while ((c = getc(stdin)) != EOF)\n",
    "    if (putc(c, stdout) == EOF)\n",
    "      err_sys(\"output error\");\n",
    "\n",
    "  if (ferror(stdin))\n",
    "    err_sys(\"input error\");\n",
    "\n",
    "  exit(0);\n",
    "}\n",
    "```"
   ]
  },
  {
   "cell_type": "markdown",
   "metadata": {},
   "source": [
    "```c\n",
    "/* Advanced Programming in the UNIX Environment, 3e\n",
    " *\n",
    " * pid.c\n",
    " *\n",
    " * Print the PID of this program and exit.\n",
    " *\n",
    " * Details\n",
    " *   function `getpid` returns data type `pid_t`\n",
    " *\n",
    " *   we don't know its size: all we know is that\n",
    " *   the standard guarantees that it will fit in a long int\n",
    " *\n",
    " *   the value must be cast to the largest data type\n",
    " *   that it might use (in this case, a long int)\n",
    " *\n",
    " *   although most PIDs fit in an int,\n",
    " *   a long int promotes portability\n",
    " */\n",
    "\n",
    "#include \"apue.h\"\n",
    "\n",
    "int main (void) {\n",
    "  printf(\"hello world from PID %1d\\n\", (long)getpid());\n",
    "  exit(0);\n",
    "}\n",
    "```\n",
    "```bash\n",
    "cc pid.c\n",
    "```\n",
    "```bash\n",
    "./a.out\n",
    "```\n",
    "```\n",
    "hello world from PID 851\n",
    "```"
   ]
  },
  {
   "cell_type": "markdown",
   "metadata": {},
   "source": [
    "```c\n",
    "/* Advanced Programming in the UNIX Environment, 3e\n",
    " *\n",
    " * process_control.c\n",
    " * a demonstration of UNIX's process control functions\n",
    " *\n",
    " * Read commands from STDIN and execute them.\n",
    " * (This is a bare-bones implementation of a shell-like program.)\n",
    " *\n",
    " * Details\n",
    " *   standard I/O function `fgets` is used to read one line at a time from STDIN\n",
    " *\n",
    " *   when the end-of-file character (Ctrl-D) is typed as the first character of a line\n",
    " *   `fgets` returns a null pointer, the loop stops, and the process terminates\n",
    " *\n",
    " *   each line returned by `fgets` is terminated with a newline character followed by a null byte\n",
    " *   the standard C function `strlen` is used to calculate the length of the string\n",
    " *   and then replace the newline with a null byte\n",
    " *   because function `execlp` wants a null-terminated argument, not a newline-terminated argument\n",
    " *\n",
    " *   function `fork` is called to create a new process (called the child) which is a copy of the caller (called the parent)\n",
    " *   and returns the non-negative PID of the child process to the parent process\n",
    " *   and returns 0 to the child process\n",
    " *\n",
    " *   since `fork` creates a new process, we say that\n",
    " *   it is called once--by the parent--but returns twice--\n",
    " *   in the parent and in the child\n",
    " *\n",
    " *   `execlp` is called in the child to execute the command that was read from STDIN\n",
    " *   this replaces the child process with the new program file\n",
    " *\n",
    " *   on some operating systems, the combination of `fork` followed by `exec` is called\n",
    " *   \"spawning a new process\"\n",
    " *\n",
    " *   since the child calls `execlp` to execute the new program file\n",
    " *   the parent waits for the child to terminate\n",
    " *   by calling function `waitpid` and specifying which process to wait for\n",
    " *   via argument `pid`, the PID of the child\n",
    " *\n",
    " *   `waitpid` also returns the status of the child in variable `status`\n",
    " *   (we don't use it here)\n",
    " *\n",
    " *   to allow arguments would require that we parse the input line\n",
    " *   separating the arguments by some convention (e.g., by space or tabs)\n",
    " *   and then pass each arguments as a separate parameter to function `execlp`\n",
    " */\n",
    "\n",
    "#include \"apue.h\"\n",
    "#include <sys/wait.h>\n",
    "\n",
    "int main (void) {\n",
    "  char  buf[MAXLINE]; /* from apue.h */\n",
    "  pid_t pid;\n",
    "  int   status;\n",
    "\n",
    "  printf(\"%% \"); /* print prompt (printf requires %% to print %) */\n",
    "  while (fgets(buf, MAXLINE, stdin) != NULL) {\n",
    "    if (buf[strlen(buf) - 1] == '\\n')\n",
    "        buf[strlen(buf) - 1] = 0; /* replace newline with null */\n",
    "\n",
    "    if ((pid = fork()) < 0) {\n",
    "      err_sys(\"fork error\");\n",
    "    }\n",
    "    else if (pid == 0) { /* child */\n",
    "      execlp(buf, buf, (char *)0);\n",
    "      err_ret(\"couldn't execute: %s\", buf);\n",
    "      exit(127);\n",
    "    }\n",
    "\n",
    "    /* parent */\n",
    "    if ((pid = waitpid(pid, &status, 0)) < 0)\n",
    "      err_sys(\"waitpid error\");\n",
    "    printf(\"%% \");\n",
    "  }\n",
    "  exit(0);\n",
    "}\n",
    "```"
   ]
  },
  {
   "cell_type": "markdown",
   "metadata": {},
   "source": [
    "```c\n",
    "/* Advanced Programming in the UNIX Environment, 3e\n",
    " *\n",
    " * errmsg.c\n",
    " * a demonstration of the functions `strerror` and `perror`\n",
    " *\n",
    " * Details\n",
    " *   the name of the program `argv[0]` is passed as the argument to function `perror`\n",
    " *   this is a standard convention in UNIX\n",
    " *   by doing this, if the program is executed as part of a pipeline\n",
    " *   we are able to tell which of the three programs generated a particular error message\n",
    " */\n",
    "\n",
    "#include \"apue.h\"\n",
    "#include <errno.h>\n",
    "\n",
    "int main (int argc, char *argv[]) {\n",
    "  fprintf(stderr, \"EACCES: %s\\n\", strerror(EACCES));\n",
    "  errno = ENOENT;\n",
    "  perror(argv[0]);\n",
    "  exit(0);\n",
    "}\n",
    "```\n",
    "```bash\n",
    "cc errmsg.c\n",
    "```\n",
    "```bash\n",
    "./a.out\n",
    "```\n",
    "```\n",
    "EACCES: Permission denied\n",
    "./a.out: No such file or directory\n",
    "```"
   ]
  },
  {
   "cell_type": "markdown",
   "metadata": {},
   "source": [
    "```c\n",
    "/* Advanced Programming in the UNIX Environment, 3e\n",
    " *\n",
    " * uid_gid.c\n",
    " * \n",
    " * This program prints the UID and the GID.\n",
    " */\n",
    "\n",
    "#include \"apue.h\"\n",
    "\n",
    "int main (void) {\n",
    "  printf(\"uid = %d, gid = %d\\n\", getuid(), getgid());\n",
    "  exit(0);\n",
    "}\n",
    "```\n",
    "```bash\n",
    "cc uid_gid.c\n",
    "```\n",
    "```bash\n",
    "./a.out\n",
    "```\n",
    "```\n",
    "uid = 501, gid = 20\n",
    "```"
   ]
  },
  {
   "cell_type": "markdown",
   "metadata": {},
   "source": [
    "```c\n",
    "/* Advanced Programming in the UNIX Environment, 3e\n",
    " *\n",
    " * process_control_with_signal.c\n",
    " */\n",
    "\n",
    "#include \"apue.h\"\n",
    "#include <sys/wait.h>\n",
    "\n",
    "static void sig_int(int); /* our signal-catching function */\n",
    "\n",
    "int main (void) {\n",
    "  char  buf[MAXLINE]; /* from apue.h */\n",
    "  pid_t pid;\n",
    "  int   status;\n",
    "\n",
    "  if (signal(SIGINT, sig_int) == SIG_ERR) /* catch the signal `SIGINT` and call function `sig_int` */\n",
    "    err_sys(\"signal error\");\n",
    "\n",
    "  printf(\"%% \"); /* print prompt (printf requires %% to print %) */\n",
    "  while (fgets(buf, MAXLINE, stdin) != NULL) {\n",
    "    if (buf[strlen(buf) - 1] == '\\n')\n",
    "        buf[strlen(buf) - 1] = 0; /* replace newline with null */\n",
    "\n",
    "    if ((pid = fork()) < 0) {\n",
    "      err_sys(\"fork error\");\n",
    "    }\n",
    "    else if (pid == 0) { /* child */\n",
    "      execlp(buf, buf, (char *)0);\n",
    "      err_ret(\"couldn't execute: %s\", buf);\n",
    "      exit(127);\n",
    "    }\n",
    "\n",
    "    /* parent */\n",
    "    if ((pid = waitpid(pid, &status, 0)) < 0)\n",
    "      err_sys(\"waitpid error\");\n",
    "    printf(\"%% \");\n",
    "  }\n",
    "  exit(0);\n",
    "}\n",
    "\n",
    "void sig_int (int signo) {\n",
    "  printf(\"interrupt\\n%% \");\n",
    "}\n",
    "```"
   ]
  },
  {
   "cell_type": "markdown",
   "metadata": {},
   "source": [
    "### Exercises"
   ]
  },
  {
   "cell_type": "markdown",
   "metadata": {},
   "source": [
    "1\n",
    "\n",
    "Verify on your system that the directories dot and dot-dot are not the same, except in the root directory."
   ]
  },
  {
   "cell_type": "markdown",
   "metadata": {},
   "source": [
    "2\n",
    "\n",
    "In the output from the following program, what happened to the processes with PIDs 852 and 853?\n",
    "\n",
    "```c\n",
    "/* Advanced Programming in the UNIX Environment, 3e\n",
    " *\n",
    " * pid.c\n",
    " *\n",
    " * Print the PID of this program and exit.\n",
    " *\n",
    " * Details\n",
    " *   function `getpid` returns data type `pid_t`\n",
    " *\n",
    " *   we don't know its size: all we know is that\n",
    " *   the standard guarantees that it will fit in a long int\n",
    " *\n",
    " *   the value must be cast to the largest data type\n",
    " *   that it might use (in this case, a long int)\n",
    " *\n",
    " *   although most PIDs fit in an int,\n",
    " *   a long int promotes portability\n",
    " */\n",
    "\n",
    "#include \"apue.h\"\n",
    "\n",
    "int main (void) {\n",
    "  printf(\"hello world from PID %1d\\n\", (long)getpid());\n",
    "  exit(0);\n",
    "}\n",
    "```\n",
    "```bash\n",
    "cc pid.c\n",
    "```\n",
    "```bash\n",
    "./a.out\n",
    "```\n",
    "```\n",
    "hello world from PID 851\n",
    "```\n",
    "```bash\n",
    "./a.out\n",
    "```\n",
    "```\n",
    "hello world from PID 854\n",
    "```"
   ]
  },
  {
   "cell_type": "markdown",
   "metadata": {},
   "source": [
    "3\n",
    "\n",
    "In the following program, the argument to `perror` is defined with the ISO C attribute `const`, whereas the integer argument to `strerror` isn't defined with this attribute. Why?"
   ]
  },
  {
   "cell_type": "markdown",
   "metadata": {},
   "source": [
    "4\n",
    "\n",
    "If the calendar time is stored as a signed 32-bit integer, in which year will it overflow? How can we extend the overflow point? Are these strategies compatible with existing applications?"
   ]
  },
  {
   "cell_type": "markdown",
   "metadata": {},
   "source": [
    "5\n",
    "\n",
    "If the process time is stored as a signed 32-bit integer, and if the system counts 100 ticks per second, after how many days will the value overflow?"
   ]
  },
  {
   "cell_type": "markdown",
   "metadata": {},
   "source": [
    "---"
   ]
  },
  {
   "cell_type": "markdown",
   "metadata": {},
   "source": [
    "## 2 - UNIX Standardization and Implementations"
   ]
  },
  {
   "cell_type": "markdown",
   "metadata": {},
   "source": [
    "---"
   ]
  },
  {
   "cell_type": "markdown",
   "metadata": {},
   "source": [
    "## 3 - File I/O"
   ]
  },
  {
   "cell_type": "markdown",
   "metadata": {},
   "source": [
    "functions\n",
    "* `open`\n",
    "* `read`\n",
    "* `write`\n",
    "* `lseek`\n",
    "* `close`\n",
    "\n",
    "The effect of buffer size on functions `read` and `write`.\n",
    "\n",
    "Unbuffered I/O means that each `read` or `write` invokes a system call. Unbuffered I/O functions are not part of ISO C but are part of POSIX.1 and the Single UNIX Spec.\n",
    "\n",
    "The notion of an atomic op is important in the context of resource sharing among multiple processes.\n",
    "* arguments to function `open`\n",
    "* How are files shared among multiple processes? Which kernel data structures are involved?\n",
    "\n",
    "functions\n",
    "* `fcntl`\n",
    "* `sync`\n",
    "* `fsync`\n",
    "* `ioctl`"
   ]
  },
  {
   "cell_type": "markdown",
   "metadata": {},
   "source": [
    "FILE DESCRIPTOR\n",
    "\n",
    "The kernel refers to open files by means of non-negative integers called file descriptors. When an existing file is opened or a new file is created, the kernel returns a file descriptor to the process. When we want to read or write a file, we identify the file with the file descriptor that was returned by `open` or `creat` as an argument to either `read` or `write`.\n",
    "\n",
    "shell and application convention, not a feature of the UNIX kernel\n",
    "* `0` STDIN\n",
    "* `1` STDOUT\n",
    "* `2` STDERR\n",
    "\n",
    "POSIX-compliant applications use the symbolic constants defined in header `<unistd.h>`\n",
    "* `STDIN_FILENO`\n",
    "* `STDOUT_FILENO`\n",
    "* `STDERR_FILENO`\n",
    "\n",
    "fds range from `0` through `OPEN_MAX-1`\n",
    "* early implementations of UNIX had an upper limit of `19` allowing a maximum of `20` open files per process\n",
    "* subsequently, increased to `63`\n",
    "* limit is limitless with FreeBSD 8.0, Linux 3.2.0, Mac OS X 10.6.8, Solaris 10; bounded only by amount of memory on the system, the size of an integer, and any hard and soft limits configured by the sysadmin"
   ]
  },
  {
   "cell_type": "markdown",
   "metadata": {},
   "source": [
    "`open`, `openat` - open an existing file or create a new file\n",
    "* returns `fd` on okay, `-1` on error\n",
    "* parameter `path` is the name of the file to open or create\n",
    "* the function has a multitude of options specified by argument `oflag` which is formed by ORing together with one or more of the following constants from header `<fcntl.h>`\n",
    "  * one and only one must be specified\n",
    "    * `O_RDONLY` open for reading only (defined as `0` for compatibility with older programs)\n",
    "    * `O_WRONLY` open for writing only (defined as `1` for compatibility with older programs)\n",
    "    * `O_RDWR` open for reading and writing (defined as `2` for compatibility with older programs)\n",
    "    * `O_EXEC` open for execute only\n",
    "    * `O_SEARCH` open for search only (applies to directories) - the purpose of this constant is to evaluate search permissions at the time a directory is opened; further ops using the directory's file descriptor will not re-evaluate permission to search the directory\n",
    "  * optional\n",
    "    * `O_APPEND` - append to the end of file on each write\n",
    "    * `O_CLOEXEC` - set the file descriptor flag `FD_CLOEXEC`\n",
    "    * `O_CREAT` - create the file if it doesn't exist; this option requires a third argument to function `open` or fourth argument to function `openat` called `mode` which specifies the access permission bits of the new file\n",
    "    * `O_DIRECTORY` - generate an error is path doesn't refer to a directory\n",
    "    * `O_EXCL` - generate an error if `O_CREAT` is also specified and the file already exists; this test--whether a file already exists and the creation of the file if it doesn't exist--is an atomic op\n",
    "    * `O_NOCTTY` - if path refers to a terminal device, do not allocate the device as the controlling terminal for this process\n",
    "    * `O_NOFOLLOW` - generate an error if path refers to a symbolic link\n",
    "    * `O_NONBLOCK` - if path refers to a FIFO, a block special file, or a character special file, this option sets the nonblocking mode for both the opening of the file and subsequent I/O\n",
    "    * `O_SYNC` - have each `write` wait for physical I/O to complete, including I/O necessary to update file attributes modified as a result of the `write`\n",
    "    * `O_TRUNC` - if the file exists and if it is successfully opened for either write-only or read-write, truncate its length to `0`\n",
    "    * `O_TTY_INIT` - when opening a terminal device that is not already open, set the nonstandard `termios` parameters to values that result in behavior that conforms to the Single UNIX Spec\n",
    "  * optional - part of the synchronized input and output option of the Single UNIX Spec & POSIX.1\n",
    "    * `O_DSYNC` - have each `write` wait for physical I/O to complete but don't wait for file attributes to be updated if they don't affect the ability to read the data just written\n",
    "    * `O_RSYNC` - have each `read` operation on the file descriptor wait until any pending writes for the same portion of the file are complete\n",
    "* `...` is the ISO C way to specify that the number and types of the remaining arguments may vary\n",
    "* the last argument `mode_t mode` is used only when a new file is being created\n",
    "* parameter `fd`\n",
    "  * parameter `path` specifies an absolute path name, parameter `fd` is ignored, and function `openat` behaves like function `open`\n",
    "  * parameter `path` specifies a relative path name and parameter `fd` is a file descriptor that specifies the starting location in the file system where the relative path name is to be evaluated; parameter `fd` is obtained by opening the directory where the relative path name is to be evaluated\n",
    "  * parameter `path` specifies a relative path name and parameter `fd` has the special value `AT_FDCWD`; the path name is evaluated starting in the current working directory and function `openat` behaves like function `open`\n",
    "\n",
    "```c\n",
    "#include <fcntl.h>\n",
    "int open   (        const char *path, int oflag, ... /* mode_t mode */ );\n",
    "int openat (int fd, const char *path, int oflag, ... /* mode_t mode */ );\n",
    "```\n",
    "\n",
    "function `openat` is one of a class of functions introduced in POSIX.1 to address 2 problems\n",
    "1. Threads in the same process share the same current working directory which makes it difficult for multiple threads in the same process to work in different directories at the same time. Function `openat` gives threads a way to use relative path names to open files in directories other than the current working directory\n",
    "2. Function `openat` provides a way to avoid TOCTTOU errors. A program is vulnerable if it makes two file-based function calls where the second call depends on the results of the first call. Since the two calls are not atomic the file can change between the two calls thereby invalidating the results of the first call and leading to a program error."
   ]
  },
  {
   "cell_type": "markdown",
   "metadata": {},
   "source": [
    "---"
   ]
  },
  {
   "cell_type": "markdown",
   "metadata": {},
   "source": [
    "POSIX interprocess communication\n",
    "* signal\n",
    "  * SIGUSR1\n",
    "  * SIGUSR2"
   ]
  },
  {
   "cell_type": "markdown",
   "metadata": {},
   "source": [
    "---"
   ]
  },
  {
   "cell_type": "markdown",
   "metadata": {},
   "source": [
    "```\n",
    "/           # file system root\n",
    "/etc/\n",
    "/etc/passwd # passwd file - int UIDs <-> str login names (UID, GID, home directory, interactive login shell)\n",
    "/etc/group  # group  file - int GIDs <-> str group names\n",
    "```"
   ]
  },
  {
   "cell_type": "markdown",
   "metadata": {},
   "source": [
    "OS      | Kernel | Shell\n",
    "--------|--------|------\n",
    "FreeBSD |        | ash, dash\n",
    "GNU     | Linux  | bash, dash\n",
    "macOS   | Darwin | bash, zsh\n",
    "Solaris |        |\n",
    "Windows |        | cmd.exe"
   ]
  },
  {
   "cell_type": "markdown",
   "metadata": {},
   "source": [
    "UNIX Programmer's Manual\n",
    "\n",
    "3. Defines the general-purpose library functions available for programmers. These functions aren't entry points into the kernel but they may invoke one or more of the kernel's system calls (e.g., function `printf` may use system call `write` to output a string, but functions `strcpy` and `atoi` don't involve the kernel at all)."
   ]
  },
  {
   "cell_type": "markdown",
   "metadata": {},
   "source": [
    "---"
   ]
  },
  {
   "cell_type": "markdown",
   "metadata": {},
   "source": [
    "## Terms"
   ]
  },
  {
   "cell_type": "markdown",
   "metadata": {},
   "source": [
    "* [ [w](https://en.wikipedia.org/wiki/8-bit_computing) ] 8-bit Computing\n",
    "* [ [w](https://en.wikipedia.org/wiki/16-bit_computing) ] 16-bit Computing\n",
    "* [ [w](https://en.wikipedia.org/wiki/32-bit_computing) ] 32-bit Computing\n",
    "* [ [w](https://en.wikipedia.org/wiki/64-bit_computing) ] 64-bit Computing\n",
    "* [ [w](https://en.wikipedia.org/wiki/128-bit_computing) ] 128-bit Computing\n",
    "* [ [w](https://en.wikipedia.org/wiki/Address_space) ] Address Space\n",
    "* [ [w](https://en.wikipedia.org/wiki/Anonymous_pipe) ] Anonymous Pipe\n",
    "* [ [w](https://en.wikipedia.org/wiki/Attribute_(computing)) ] Attribute\n",
    "* [ [w](https://en.wikipedia.org/wiki/Background_process) ] Background Process\n",
    "* [ [w](https://en.wikipedia.org/wiki/Barrier_(computer_science)) ] Barrier\n",
    "* [ [w](https://en.wikipedia.org/wiki/BIOS) ] Basic Input/Output System (BIOS)\n",
    "* [ [w](https://en.wikipedia.org/wiki/Batch_processing) ] Batch Processing\n",
    "* [ [w](https://en.wikipedia.org/wiki/Berkeley_sockets) ] Berkeley Sockets\n",
    "* [ [w](https://en.wikipedia.org/wiki/Booting) ] Booting\n",
    "* [ [w](https://en.wikipedia.org/wiki/Data_buffer) ] Buffer\n",
    "* [ [w](https://en.wikipedia.org/wiki/Bus_(computing)) ] Bus\n",
    "* [ [w](https://en.wikipedia.org/wiki/Busy_waiting) ] Busy-Waiting\n",
    "* [ [w](https://en.wikipedia.org/wiki/Calling_convention) ] Calling Convention\n",
    "* [ [w](https://en.wikipedia.org/wiki/Child_process) ] Child Process\n",
    "* [ [w](https://en.wikipedia.org/wiki/Concurrency_control) ] Concurrency Control\n",
    "* [ [w](https://en.wikipedia.org/wiki/Context_switch) ] Context Switch\n",
    "* [ [w](https://en.wikipedia.org/wiki/Control_flow) ] Control Flow\n",
    "* [ [w](https://en.wikipedia.org/wiki/CPU_modes) ] CPU Mode\n",
    "* [ [w](https://en.wikipedia.org/wiki/Critical_section) ] Critical Section\n",
    "* [ [w](https://en.wikipedia.org/wiki/Daemon_(computing)) ] Daemon\n",
    "* [ [w](https://en.wikipedia.org/wiki/Data_corruption) ] Data Corruption\n",
    "* [ [w](https://en.wikipedia.org/wiki/Deadlock) ] Deadlock\n",
    "* [ [w](https://en.wikipedia.org/wiki/Device_driver) ] Device Driver\n",
    "* [ [w](https://en.wikipedia.org/wiki/Device_file) ] Device File\n",
    "* [ [w](https://en.wikipedia.org/wiki/Dining_philosophers_problem) ] Dining Philosophers Problem\n",
    "* [ [w](https://en.wikipedia.org/wiki/Directory_(computing)) ] Directory\n",
    "* [ [w](https://en.wikipedia.org/wiki/Epoch_(computing)) ] Epoch\n",
    "* [ [w](https://en.wikipedia.org/wiki/Event_(synchronization_primitive)) ] Event\n",
    "* [ [w](https://en.wikipedia.org/wiki/Everything_is_a_file) ] Everything Is a File\n",
    "* [ [w](https://en.wikipedia.org/wiki/Exception_handling) ] Exception Handling\n",
    "* [ [w](https://en.wikipedia.org/wiki/Execution_(computing)) ] Execution\n",
    "* [ [w](https://en.wikipedia.org/wiki/Exit_status) ] Exit Status\n",
    "* [ [w](https://en.wikipedia.org/wiki/Extended_file_attributes) ] Extended File Attributes\n",
    "* [ [w](https://en.wikipedia.org/wiki/Fatal_exception_error) ] Fatal Exception Error\n",
    "* [ [w](https://en.wikipedia.org/wiki/Fatal_system_error) ] Fatal System Error\n",
    "* [ [w](https://en.wikipedia.org/wiki/Named_pipe) ] FIFO (Named Pipe)\n",
    "* [ [w](https://en.wikipedia.org/wiki/Computer_file) ] File\n",
    "* [ [w](https://en.wikipedia.org/wiki/File_descriptor) ] File Descriptor\n",
    "* [ [w](https://en.wikipedia.org/wiki/File_locking) ] File Locking\n",
    "* [ [w](https://en.wikipedia.org/wiki/Path_(computing)) ] File Path\n",
    "* [ [w](https://en.wikipedia.org/wiki/File_sharing) ] File Sharing\n",
    "* [ [w](https://en.wikipedia.org/wiki/File_system) ] File System\n",
    "* [ [w](https://en.wikipedia.org/wiki/File-system_permissions) ] File System Permissions\n",
    "* [ [w](https://en.wikipedia.org/wiki/Unix_file_types) ] File Type, Unix\n",
    "* [ [w](https://en.wikipedia.org/wiki/Fork%E2%80%93join_model) ] Fork-Join Model\n",
    "* [ [w](https://en.wikipedia.org/wiki/Garbage_collection_(computer_science)) ] Garbage Collection (GC)\n",
    "* [ [w](https://en.wikipedia.org/wiki/Group_identifier) ] Group Identifier (GID)\n",
    "* [ [w](https://en.wikipedia.org/wiki/Handle_(computing)) ] Handle\n",
    "* [ [w](https://en.wikipedia.org/wiki/Handle_leak) ] Handle Leak\n",
    "* [ [w](https://en.wikipedia.org/wiki/Hierarchical_file_system) ] Hierarchical File System\n",
    "* [ [w](https://en.wikipedia.org/wiki/Input/output) ] Input/Output (I/O)\n",
    "* [ [w](https://en.wikipedia.org/wiki/Installation_(computer_programs)) ] Installation\n",
    "* [ [w](https://en.wikipedia.org/wiki/Inter-process_communication) ] Inter-Process Communication (IPC)\n",
    "* [ [w](https://en.wikipedia.org/wiki/Interrupt) ] Interrupt\n",
    "* [ [w](https://en.wikipedia.org/wiki/Job_control_(Unix)) ] Job Control\n",
    "* [ [w](https://en.wikipedia.org/wiki/Job_scheduler) ] Job Scheduler\n",
    "* [ [w](https://en.wikipedia.org/wiki/Job_queue) ] Job Queue\n",
    "* [ [w](https://en.wikipedia.org/wiki/Kernel_(operating_system)) ] Kernel\n",
    "* [ [w](https://en.wikipedia.org/wiki/User_space_and_kernel_space) ] Kernel Space\n",
    "* [ [w](https://en.wikipedia.org/wiki/Library_(computing)) ] Library\n",
    "* [ [w](https://en.wikipedia.org/wiki/Linearizability) ] Linearizability\n",
    "* [ [w](https://en.wikipedia.org/wiki/Lock_(computer_science)) ] Lock\n",
    "* [ [w](https://en.wikipedia.org/wiki/Logical_address) ] Logical Address\n",
    "* [ [w](https://en.wikipedia.org/wiki/Memory_address) ] Memory Address\n",
    "* [ [w](https://en.wikipedia.org/wiki/Memory_controller) ] Memory Controller\n",
    "* [ [w](https://en.wikipedia.org/wiki/Memory_leak) ] Memory Leak\n",
    "* [ [w](https://en.wikipedia.org/wiki/Memory_management_unit) ] Memory Management Unit (MMU)\n",
    "* [ [w](https://en.wikipedia.org/wiki/Page_(computer_memory)) ] Memory Page\n",
    "* [ [w](https://en.wikipedia.org/wiki/Memory_segmentation) ] Memory Segmentation\n",
    "* [ [w](https://en.wikipedia.org/wiki/Message_queue) ] Message Queue\n",
    "* [ [w](https://en.wikipedia.org/wiki/Multiprocessing) ] Multiprocessing\n",
    "* [ [w](https://en.wikipedia.org/wiki/Computer_multitasking) ] Multitasking\n",
    "* [ [w](https://en.wikipedia.org/wiki/Multithreading_(computer_architecture)) ] Multithreading\n",
    "* [ [w](https://en.wikipedia.org/wiki/Lock_(computer_science)) ] Mutex\n",
    "* [ [w](https://en.wikipedia.org/wiki/Mutual_exclusion) ] Mutual Exclusion\n",
    "* [ [w](https://en.wikipedia.org/wiki/Named_pipe) ] Named Pipe (FIFO)\n",
    "* [ [w](https://en.wikipedia.org/wiki/Shared_resource) ] Network Share\n",
    "* [ [w](https://en.wikipedia.org/wiki/Network_socket) ] Network Socket\n",
    "* [ [w](https://en.wikipedia.org/wiki/Operating_system) ] Operating System (OS)\n",
    "* [ [w](https://en.wikipedia.org/wiki/Page_(computer_memory)) ] Page\n",
    "* [ [w](https://en.wikipedia.org/wiki/Parent_process) ] Parent Process\n",
    "* [ [w](https://en.wikipedia.org/wiki/Passwd) ] `passwd`\n",
    "* [ [w](https://en.wikipedia.org/wiki/Path_(computing)) ] Path\n",
    "* [ [w](https://en.wikipedia.org/wiki/Physical_address) ] Physical Address\n",
    "* [ [w](https://en.wikipedia.org/wiki/Pipeline_(computing)) ] Pipeline\n",
    "* [ [w](https://en.wikipedia.org/wiki/Pointer_(computer_programming)) ] Pointer\n",
    "* [ [w](https://en.wikipedia.org/wiki/Software_portability) ] Portability\n",
    "* [ [w](https://en.wikipedia.org/wiki/Priority_inversion) ] Priority Inversion\n",
    "* [ [w](https://en.wikipedia.org/wiki/Process_(computing)) ] Process\n",
    "* [ [w](https://en.wikipedia.org/wiki/Process_calculus) ] Process Calculus\n",
    "* [ [w](https://en.wikipedia.org/wiki/Process_group) ] Process Group\n",
    "* [ [w](https://en.wikipedia.org/wiki/Process_identifier) ] Process Identifier (PID)\n",
    "* [ [w](https://en.wikipedia.org/wiki/Process_isolation) ] Process Isolation\n",
    "* [ [w](https://en.wikipedia.org/wiki/Producer%E2%80%93consumer_problem) ] Producer-Consumer Model\n",
    "* [ [w](https://en.wikipedia.org/wiki/Computer_program) ] Program\n",
    "* [ [w](https://en.wikipedia.org/wiki/Protection_ring) ] Protection Ring\n",
    "* [ [w](https://en.wikipedia.org/wiki/Queue_(abstract_data_type)) ] Queue\n",
    "* [ [w](https://en.wikipedia.org/wiki/Race_condition) ] Race Condition\n",
    "* [ [w](https://en.wikipedia.org/wiki/Readers%E2%80%93writers_problem) ] Readers-Writers Problem\n",
    "* [ [w](https://en.wikipedia.org/wiki/Elapsed_real_time) ] Real Time\n",
    "* [ [w](https://en.wikipedia.org/wiki/Reboot) ] Reboot\n",
    "* [ [w](https://en.wikipedia.org/wiki/System_resource) ] Resource\n",
    "* [ [w](https://en.wikipedia.org/wiki/Resource_acquisition_is_initialization) ] Resource Acquisition is Initialization (RAII)\n",
    "* [ [w](https://en.wikipedia.org/wiki/Resource_allocation_(computer)) ] Resource Allocation\n",
    "* [ [w](https://en.wikipedia.org/wiki/Resource_contention) ] Resource Contention\n",
    "* [ [w](https://en.wikipedia.org/wiki/Resource_leak) ] Resource Leak\n",
    "* [ [w](https://en.wikipedia.org/wiki/Resource_management_(computing)) ] Resource Management\n",
    "* [ [w](https://en.wikipedia.org/wiki/Starvation_(computer_science)) ] Resource Starvation\n",
    "* [ [w](https://en.wikipedia.org/wiki/Return_statement) ] Return Statement\n",
    "* [ [w](https://en.wikipedia.org/wiki/Runtime_system) ] Runtime\n",
    "* [ [w](https://en.wikipedia.org/wiki/Runtime_library) ] Runtime Library\n",
    "* [ [w](https://en.wikipedia.org/wiki/Scheduling_(computing)) ] Scheduling\n",
    "* [ [w](https://en.wikipedia.org/wiki/Segmentation_fault) ] Segmentation Fault\n",
    "* [ [w](https://en.wikipedia.org/wiki/Semaphore_(programming)) ] Semaphore\n",
    "* [ [w](https://en.wikipedia.org/wiki/Serializability) ] Serializability\n",
    "* [ [w](https://en.wikipedia.org/wiki/Setuid) ] `setgid`\n",
    "* [ [w](https://en.wikipedia.org/wiki/Setuid) ] `setuid`\n",
    "* [ [w](https://en.wikipedia.org/wiki/Shared_memory) ] Shared Memory\n",
    "* [ [w](https://en.wikipedia.org/wiki/Shared_resource) ] Shared Resource\n",
    "* [ [w](https://en.wikipedia.org/wiki/Shell_(computing)) ] Shell\n",
    "* [ [w](https://en.wikipedia.org/wiki/Signal_(IPC)) ] Signal\n",
    "* [ [w](https://en.wikipedia.org/wiki/Software_aging) ] Software Aging\n",
    "* [ [w](https://en.wikipedia.org/wiki/Software_bloat) ] Software Bloat\n",
    "* [ [w](https://en.wikipedia.org/wiki/Spawn_(computing)) ] Spawn\n",
    "* [ [w](https://en.wikipedia.org/wiki/Spinlock) ] Spinlock\n",
    "* [ [w](https://en.wikipedia.org/wiki/Busy_waiting) ] Spinning\n",
    "* [ [w](https://en.wikipedia.org/wiki/Standard_streams) ] Standard Stream\n",
    "* [ [w](https://en.wikipedia.org/wiki/Sticky_bit) ] Sticky Bit\n",
    "* [ [w](https://en.wikipedia.org/wiki/Stream_(computing)) ] Stream\n",
    "* [ [w](https://en.wikipedia.org/wiki/Superuser) ] Superuser\n",
    "* [ [w](https://en.wikipedia.org/wiki/Synchronization_(computer_science)) ] Synchronization\n",
    "* [ [w](https://en.wikipedia.org/wiki/System_administrator) ] System Administrator\n",
    "* [ [w](https://en.wikipedia.org/wiki/System_call) ] System Call\n",
    "  * [ [w](https://en.wikipedia.org/wiki/Close_(system_call)) ] `close`\n",
    "  * [ [w](https://en.wikipedia.org/wiki/Exec_(system_call)) ] `exec`\n",
    "  * [ [w](https://en.wikipedia.org/wiki/Exit_(system_call)) ] `exit`\n",
    "  * [ [w](https://en.wikipedia.org/wiki/Fork_(system_call)) ] `fork`\n",
    "  * [ [w](https://en.wikipedia.org/wiki/Open_(system_call)) ] `open`\n",
    "  * [ [w](https://en.wikipedia.org/wiki/Read_(system_call)) ] `read`\n",
    "  * [ [w](https://en.wikipedia.org/wiki/Wait_(system_call)) ] `wait`\n",
    "  * [ [w](https://en.wikipedia.org/wiki/Write_(system_call)) ] `write`\n",
    "* [ [w](https://en.wikipedia.org/wiki/System_time) ] System Time\n",
    "* [ [w](https://en.wikipedia.org/wiki/Task_(computing)) ] Task\n",
    "* [ [w](https://en.wikipedia.org/wiki/Thread_(computing)) ] Thread\n",
    "* [ [w](https://en.wikipedia.org/wiki/Thread_pool) ] Thread Pool\n",
    "* [ w ] Time-Of-Check-To-Time-Of-Use (TOCTTOU)\n",
    "* [ [w](https://en.wikipedia.org/wiki/Unix_file_types) ] Unix File Type\n",
    "* [ [w](https://en.wikipedia.org/wiki/Unix_time) ] Unix Time\n",
    "* [ [w](https://en.wikipedia.org/wiki/User_(computing)) ] User\n",
    "* [ [w](https://en.wikipedia.org/wiki/User_identifier) ] User Identifier (UID)\n",
    "* [ [w](https://en.wikipedia.org/wiki/User_space_and_kernel_space) ] User Space\n",
    "* [ [w](https://en.wikipedia.org/wiki/Utility_software) ] Utility Software\n",
    "* [ [w](https://en.wikipedia.org/wiki/Virtual_address_space) ] Virtual Address Space\n",
    "* [ [w](https://en.wikipedia.org/wiki/Virtual_memory) ] Virtual Memory\n",
    "* [ [w](https://en.wikipedia.org/wiki/Page_(computer_memory)) ] Virtual Page\n",
    "* [ [w](https://en.wikipedia.org/wiki/Elapsed_real_time) ] Wall Time\n",
    "* [ [w](https://en.wikipedia.org/wiki/Zombie_process) ] Zombie Process"
   ]
  },
  {
   "cell_type": "markdown",
   "metadata": {},
   "source": [
    "* [ [w](https://en.wikipedia.org/wiki/Instruction_cycle) ] Instruction Cycle\n",
    "* [ [w](https://en.wikipedia.org/wiki/Instruction_set_architecture) ] Instruction Set Architecture (ISA)"
   ]
  },
  {
   "cell_type": "markdown",
   "metadata": {},
   "source": [
    "* [ [w](https://en.wikipedia.org/wiki/Ancient_UNIX) ] Ancient Unix\n",
    "* [ [w](https://en.wikipedia.org/wiki/Austin_Group) ] Austin Group\n",
    "* [ [w](https://en.wikipedia.org/wiki/Berkeley_Software_Distribution) ] Berkeley Software Distribution (BSD)\n",
    "  * [ [w](https://en.wikipedia.org/wiki/FreeBSD) ] FreeBSD\n",
    "  * [ [w](https://en.wikipedia.org/wiki/OpenBSD) ] OpenBSD\n",
    "* [ [w](https://en.wikipedia.org/wiki/Illumos) ] illumos\n",
    "* [ w ] macOS\n",
    "  * [ [w](https://en.wikipedia.org/wiki/Darwin_(operating_system)) ] Darwin\n",
    "  * [ [w](https://en.wikipedia.org/wiki/Mach_(kernel)) ] Mach\n",
    "* [ [w](https://en.wikipedia.org/wiki/The_Open_Group) ] The Open Group\n",
    "* [ [w](https://en.wikipedia.org/wiki/Plan_9_from_Bell_Labs) ] Plan 9 (Bell Labs)\n",
    "* [ [w](https://en.wikipedia.org/wiki/POSIX) ] Portable Operating System Interface (POSIX)\n",
    "* [ [w](https://en.wikipedia.org/wiki/Research_Unix) ] Research Unix\n",
    "* [ [w](https://en.wikipedia.org/wiki/Single_UNIX_Specification) ] Single UNIX Specification (SUS)\n",
    "* [ [w](https://en.wikipedia.org/wiki/Oracle_Solaris) ] Solaris (Oracle)\n",
    "  * heritage in BSD and System V\n",
    "* [ [w](https://en.wikipedia.org/wiki/Sun_Microsystems) ] Sun Microsystems\n",
    "  * [ [w](https://en.wikipedia.org/wiki/SunOS) ] SunOS\n",
    "* [ w ] TENEX\n",
    "* [ [w](https://en.wikipedia.org/wiki/Unix-like) ] Unix-like\n",
    "* [ [w](https://en.wikipedia.org/wiki/History_of_Unix) ] Unix History\n",
    "* [ [w](https://en.wikipedia.org/wiki/UNIX_System_III) ] UNIX System III\n",
    "* [ [w](https://en.wikipedia.org/wiki/UNIX_System_V) ] UNIX System V\n",
    "  * [ w ] System V/386 Release 3.2\n",
    "  * [ w ] System V Release 4 (SVR4)\n",
    "  * [ [w](https://en.wikipedia.org/wiki/HP-UX) ] HP's HP-UX\n",
    "  * [ [w](https://en.wikipedia.org/wiki/IBM_AIX) ] IBM's Advanced Interactive eXecutive (AIX)\n",
    "  * [ [w](https://en.wikipedia.org/wiki/STREAMS) ] STREAMS\n",
    "* [ [w](https://en.wikipedia.org/wiki/Unix_wars) ] Unix Wars"
   ]
  },
  {
   "cell_type": "markdown",
   "metadata": {},
   "source": [
    "shells\n",
    "* [ [w](https://en.wikipedia.org/wiki/Bourne_shell) ] Bourne Shell\n",
    "  * Steve Bourne (Bell Labs)\n",
    "  * control flow is similar to Algol 68\n",
    "* [ w ] Bourne-Again Shell\n",
    "  * the GNU shell provided with all Linux systems\n",
    "  * POSIX conformant & compatible with the Bourne shell\n",
    "  * supports features from both C shell and Korn shell\n",
    "* [ w ] C Shell\n",
    "  * Bill Joy (Berkeley)\n",
    "  * comes with BSD\n",
    "  * features that the Bourne shell lacked: job control, a history mechanism, command-line editing\n",
    "* [ [w](https://en.wikipedia.org/wiki/Cmd.exe) ] Command Prompt (cmd.exe)\n",
    "* [ [w](https://en.wikipedia.org/wiki/Almquist_shell) ] Debian Almquist Shell\n",
    "  * Kenneth Almquist\n",
    "  * the BSD replacement for the Bourne shell\n",
    "* [ [w](https://en.wikipedia.org/wiki/Fish_(Unix_shell)) ] Fish Shell\n",
    "* [ [w](https://en.wikipedia.org/wiki/KornShell) ] Korn Shell\n",
    "  * David Korn (Bell Labs)\n",
    "  * a successor to the Bourne shell\n",
    "  * first came with SVR4\n",
    "  * supports features from C shell\n",
    "* [ [w](https://en.wikipedia.org/wiki/Comparison_of_command_shells) ] shells\n",
    "* [ w ] TENEX C Shell\n",
    "  * an enhanced version of the C shell\n",
    "  * features such as command completion were borrowed from the TENEX operating system\n",
    "  * standardized in the POSIX 1003.2 standard which included features based on those from Bourne shell and Korn shell\n",
    "* [ [w](https://en.wikipedia.org/wiki/Unix_shell) ] Unix Shell\n",
    "* [ [w](https://en.wikipedia.org/wiki/Z_shell) ] Z Shell"
   ]
  },
  {
   "cell_type": "markdown",
   "metadata": {},
   "source": [
    "---"
   ]
  },
  {
   "cell_type": "markdown",
   "metadata": {},
   "source": [
    "## Definitions"
   ]
  },
  {
   "cell_type": "markdown",
   "metadata": {},
   "source": [
    "**Directory**\n",
    "* \"A directory is a file that contains directory entries [where] each directory entry [consists of] a file name along with...information describing the file's attributes.\" - _Advanced Programming in the UNIX Environment_, 3e"
   ]
  },
  {
   "cell_type": "markdown",
   "metadata": {},
   "source": [
    "**File Descriptor** (fd)\n",
    "* \"[A file descriptor is a] small non-negative integer that the kernel uses to identify the files accessed by a process. Whenever it opens an existing file or creates a new file, the kernel returns a file descriptor that we use when we want to read or write the file.\" - _Advanced Programming in the UNIX Environment_, 3e\n",
    "* \"A file descriptor is a number that the OS assigns to an open file to keep track of it; consider it a simplified file pointer, analogous to a file handle in C.\""
   ]
  },
  {
   "cell_type": "markdown",
   "metadata": {},
   "source": [
    "**File Name** (fn)\n",
    "* \"The names in a directory are called file names.\" - _Advanced Programming in the UNIX Environment_, 3e"
   ]
  },
  {
   "cell_type": "markdown",
   "metadata": {},
   "source": [
    "**Operating System** (OS)\n",
    "* \"In a strict sense, an operating system can be defined as the software that controls the hardware resources of the computer and provides and environment under which programs can run. [This software is called the kernel] since it is relatively small and resides at the core of the environment...In a broad sense, an operating system consists of the kernel and all the other software [e.g., system utilities, libraries, shells, applications, etc.] that makes a computer useful and gives the computer its personality.\" - _Advanced Programming in the UNIX Environment_, 3e"
   ]
  },
  {
   "cell_type": "markdown",
   "metadata": {},
   "source": [
    "**Path Name**\n",
    "* \"[A path name is formed by] a sequence of one or more file names...separated by slashes and optionally starting with a slash [and terminated by the null character]. A path name that begins with a slash is called an absolute path name; otherwise, it's called a relative path name. Relative path names refer to files relative to the current directory. The name for the root of the file system `/` is a special-case absolute path name that has no file name component.\" - _Advanced Programming in the UNIX Environment_, 3e"
   ]
  },
  {
   "cell_type": "markdown",
   "metadata": {},
   "source": [
    "**Process**\n",
    "* \"An executing instance of a program is called a process. Some operating systems use the term task to refer to a program that is being executed.\" - _Advanced Programming in the UNIX Environment_, 3e"
   ]
  },
  {
   "cell_type": "markdown",
   "metadata": {},
   "source": [
    "**Program**\n",
    "* \"A program is an executable file residing on disk in a directory. A program is read into memory and is executed by the kernel as a result of one of the seven `exec` functions.\" - _Advanced Programming in the UNIX Environment_, 3e"
   ]
  },
  {
   "cell_type": "markdown",
   "metadata": {},
   "source": [
    "**Shell**\n",
    "* \"A shell is a command-line interpreter that reads user input and executes commands. The user input to a shell is normally from the terminal (i.e., an interactive shell) or...from a file called a shell script.\" - _Advanced Programming in the UNIX Environment_, 3e"
   ]
  },
  {
   "cell_type": "markdown",
   "metadata": {},
   "source": [
    "**System Call**\n",
    "* \"The interface to the kernel is a layer of software called the system calls.\" - _Advanced Programming in the UNIX Environment_, 3e"
   ]
  },
  {
   "cell_type": "markdown",
   "metadata": {},
   "source": [
    "**Working Directory**\n",
    "* \"[The working directory] is the directory from which all relative path names are interpreted.\" - _Advanced Programming in the UNIX Environment_, 3e"
   ]
  },
  {
   "cell_type": "markdown",
   "metadata": {},
   "source": [
    "---"
   ]
  }
 ],
 "metadata": {
  "language_info": {
   "name": "python"
  }
 },
 "nbformat": 4,
 "nbformat_minor": 2
}
