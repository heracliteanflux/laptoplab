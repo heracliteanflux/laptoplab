{
 "cells": [
  {
   "cell_type": "markdown",
   "metadata": {},
   "source": [
    "# Computer Hardware & Engineering"
   ]
  },
  {
   "cell_type": "markdown",
   "metadata": {},
   "source": [
    "---"
   ]
  },
  {
   "cell_type": "markdown",
   "metadata": {},
   "source": [
    "## Table of Contents\n",
    "```{contents}\n",
    "```"
   ]
  },
  {
   "cell_type": "markdown",
   "metadata": {},
   "source": [
    "---"
   ]
  },
  {
   "cell_type": "markdown",
   "metadata": {},
   "source": [
    "## Resources"
   ]
  },
  {
   "cell_type": "markdown",
   "metadata": {},
   "source": [
    "Tools & Technologies\n",
    "* [ h ][ w ] Autodesk\n",
    "* [ [h](https://www.freecadweb.org) ][ [w](https://en.wikipedia.org/wiki/FreeCAD) ] FreeCAD"
   ]
  },
  {
   "cell_type": "markdown",
   "metadata": {},
   "source": [
    "Ben Eater\n",
    "* [ [y](https://www.youtube.com/watch?v=0q6Ujn_zNH8) ] `01-07-2024`. Ben Eater. \"A simple BIOS for my breadboard computer\".\n",
    "* [ [y](https://www.youtube.com/watch?v=7M8LvMtdcgY) ] `11-23-2023`. Ben Eater. \"Adapting WozMon for the breadboard 6502\".\n",
    "* [ [y](https://www.youtube.com/watch?v=SpG8rgI7Hec) ] `07-08-2023`. Ben Eater. \"How Wozniak's code for the Apple 1 works\".\n",
    "* [ [y](https://www.youtube.com/watch?v=HlLCtjJzHVI) ] `06-03-2023`. Ben Eater. \"Running Apple 1 software on a breadboard computer (Wozmon)\".\n",
    "* [ [y](https://www.youtube.com/watch?v=oLYLnb7kpLg) ] `03-11-2023`. Ben Eater. \"6502 serial interface\".\n",
    "* [ [y](https://www.youtube.com/watch?v=4alV5LzHLE4) ] `02-04-2023`. Ben Eater. \"Let's build a voltage multiplier!\".\n",
    "* [ [y](https://www.youtube.com/watch?v=a6EWIh2D1NQ) ] `11-21-2022`. Ben Eater. \"Hacking a weird TV censoring device\".\n",
    "* [ [y](https://www.youtube.com/watch?v=AHYNxpqKqwo) ] `11-05-2022`. Ben Eater. \"The RS-232 protocol\".\n",
    "* [ [y](https://www.youtube.com/watch?v=g_koa00MBLg) ] `11-13-2021`. Ben Eater. \"How do hardware timers work?\".\n",
    "* [ [y](https://www.youtube.com/watch?v=wdgULBpRoXk) ] `06-05-2021`. Ben Eater. \"How does a USB keyboard work?\".\n",
    "\n",
    "Nerd's Lesson\n",
    "* [ [y](https://www.youtube.com/watch?v=9nuAjYRbITQ) ] `01-16-2021`. Nerd's Lesson. \"Computer Architecture Complete course Part 1\".\n",
    "* [ [y](https://www.youtube.com/watch?v=foCkCSZXOt8) ] `01-16-2021`. Nerd's Lesson. \"Computer Architecture Complete Course Part 2\".\n",
    "* [ [y](https://www.youtube.com/watch?v=BHMETwOXvWw) ] `01-16-2021`. Nerd's Lesson. \"Computer Architecture Complete course Part 3\"."
   ]
  },
  {
   "cell_type": "markdown",
   "metadata": {},
   "source": [
    "more\n",
    "* [ [y](https://www.youtube.com/watch?v=xA9Xq7hb6Q0) ] `02-25-2024`. ExplainingComputers. \"Storage Media Life Expectancy: SSDs, HDDs & More!\".\n",
    "* [ [y](https://www.youtube.com/watch?v=CmvUY4S0UbI) ] `01-19-2013`. Solid State Workshop. \"An Introduction to Microcontrollers\".\n",
    "* [ [y](https://www.youtube.com/watch?v=2IReMT_zjK8) ] `03-31-2021`. Visual Electric. \"The best way to start learning Verilog\"."
   ]
  },
  {
   "cell_type": "markdown",
   "metadata": {},
   "source": [
    "---"
   ]
  },
  {
   "cell_type": "markdown",
   "metadata": {},
   "source": [
    "## Texts"
   ]
  },
  {
   "cell_type": "markdown",
   "metadata": {},
   "source": [
    "* Fujitaki, Kazuhiro; Matsuda; & Trend-Pro Co, Ltd. (2009). _The Manga Guide to Electricity_. [No Starch Press](https://nostarch.com/mg_electricity.htm).\n",
    "* Hyde, Randall. (2020). _Write Great Code, Volume 1: Understanding the Machine_. 2e. [No Starch Press](https://nostarch.com/writegreatcode1_2e).\n",
    "* Justice, Matthew. (2020). _How Computers Really Work: A Hands-On Guide to the Inner Workings of the Machine_. [No Starch Press](https://nostarch.com/how-computers-really-work).\n",
    "* Merrick, Russell. (2023). _Getting Started with FPGAs: Digital Circuit Design, Verilog, and VHDL for Beginners_. [No Starch Press](https://nostarch.com/gettingstartedwithfpgas).\n",
    "* Plantz, Robert G. (2024). _Introduction to Computer Organization: ARM_. [No Starch Press](https://nostarch.com/introcomputerorgforarm).\n",
    "* Plantz, Robert G. (2022). _Introduction to Computer Organization: An Under the Hood Look at Hardware and x86-64 Assembly_. [No Starch Press](https://nostarch.com/introcomporg).\n",
    "* Scott, Hunter. (2024). _Designing Electronics That Work_. [No Starch Press](https://nostarch.com/designingelectronics).\n",
    "* Shibuya, Michio; Takashi Tonagi; & Office Sawa. (2017). _The Manga Guide to Microprocessors_. [No Starch Press](https://nostarch.com/microprocessors).\n",
    "* Steinhart, Jonathan E. (2019). _The Secret Life of Programs: Understand Computers--Craft Better Code_. [No Starch Press](https://nostarch.com/foundationsofcomp)."
   ]
  },
  {
   "cell_type": "markdown",
   "metadata": {},
   "source": [
    "---"
   ]
  },
  {
   "cell_type": "markdown",
   "metadata": {},
   "source": [
    "## Figures"
   ]
  },
  {
   "cell_type": "markdown",
   "metadata": {},
   "source": [
    "* [ [w](https://en.wikipedia.org/wiki/Danny_Cohen_(computer_scientist)) ] `1937-2019` Cohen, Danny"
   ]
  },
  {
   "cell_type": "markdown",
   "metadata": {},
   "source": [
    "---"
   ]
  },
  {
   "cell_type": "markdown",
   "metadata": {},
   "source": [
    "## Terms"
   ]
  },
  {
   "cell_type": "markdown",
   "metadata": {},
   "source": [
    "* [ [w](https://en.wikipedia.org/wiki/4-bit_computing) ] 4-Bit Computing\n",
    "* [ [w](https://en.wikipedia.org/wiki/Accumulator_(computing)) ] Accumulator\n",
    "* [ [w](https://en.wikipedia.org/wiki/Adder_(electronics)) ] Adder\n",
    "* [ [w](https://en.wikipedia.org/wiki/Address_generation_unit) ] Address Generation Unit (AGU)\n",
    "* [ [w](https://en.wikipedia.org/wiki/Addressing_mode) ] Addressing Mode\n",
    "* [ [w](https://en.wikipedia.org/wiki/Application_binary_interface) ] Application Binary Interface (ABI)\n",
    "* [ [w](https://en.wikipedia.org/wiki/Application-specific_integrated_circuit) ] Application-Specific Integrated Circuit (ASIC)\n",
    "* [ [w](https://en.wikipedia.org/wiki/Amdahl%27s_law) ] Amdahl's Law\n",
    "* [ [w](https://en.wikipedia.org/wiki/Arithmetic_logic_unit) ] Arithmetic Logic Unit (ALU)\n",
    "* [ [w](https://en.wikipedia.org/wiki/ARM_architecture_family) ] ARM\n",
    "* [ [w](https://en.wikipedia.org/wiki/FPGA_prototyping) ] ASIC Prototyping\n",
    "* [ [w](https://en.wikipedia.org/wiki/Base64) ] Base64\n",
    "* [ [w](https://en.wikipedia.org/wiki/Binary_multiplier) ] Binary Multiplier\n",
    "* [ [w](https://en.wikipedia.org/wiki/Binary-coded_decimal) ] Binary-Coded Decimal (BCD)\n",
    "* [ [w](https://en.wikipedia.org/wiki/Binary-to-text_encoding) ] Binary-to-Text Encoding\n",
    "* [ [w](https://en.wikipedia.org/wiki/Bit) ] Bit\n",
    "* [ [w](https://en.wikipedia.org/wiki/Bit_numbering) ] Bit Numbering\n",
    "* [ [w](https://en.wikipedia.org/wiki/Bitwise_operation) ] Bitwise Operation\n",
    "* [ [w](https://en.wikipedia.org/wiki/Block_diagram) ] Block Diagram\n",
    "* [ [w](https://en.wikipedia.org/wiki/Bootloader) ] Bootloader\n",
    "* [ [w](https://en.wikipedia.org/wiki/Branch_(computer_science)) ] Branch\n",
    "* [ [w](https://en.wikipedia.org/wiki/Breadboard) ] Breadboard\n",
    "* [ [w](https://en.wikipedia.org/wiki/Bus_(computing)) ] Bus\n",
    "* [ [w](https://en.wikipedia.org/wiki/Byte) ] Byte\n",
    "* [ [w](https://en.wikipedia.org/wiki/Byte_addressing) ] Byte Addressing\n",
    "* [ [w](https://en.wikipedia.org/wiki/CPU_cache) ] Cache Storage\n",
    "* [ [w](https://en.wikipedia.org/wiki/Central_processing_unit) ] Central Processing Unit (CPU)\n",
    "* [ [w](https://en.wikipedia.org/wiki/Circuit_(computer_science)) ] Circuit\n",
    "* [ [w](https://en.wikipedia.org/wiki/Circuit_diagram) ] Circuit Diagram\n",
    "* [ w ] Client\n",
    "* [ [w](https://en.wikipedia.org/wiki/Clock_generator) ] Clock Generator\n",
    "* [ [w](https://en.wikipedia.org/wiki/CPU_multiplier) ] Clock Multiplier\n",
    "* [ [w](https://en.wikipedia.org/wiki/Clock_rate) ] Clock Rate\n",
    "* [ [w](https://en.wikipedia.org/wiki/Clock_signal) ] Clock Signal\n",
    "* [ [w](https://en.wikipedia.org/wiki/Combinational_logic) ] Combinational Logic\n",
    "* [ [w](https://en.wikipedia.org/wiki/Complex_instruction_set_computer) ] Complex Instruction Set Computer (CISC)\n",
    "* [ [w](https://en.wikipedia.org/wiki/Complex_programmable_logic_device) ] Complex Programmable Logic Device (CPLD)\n",
    "* [ [w](https://en.wikipedia.org/wiki/Computer) ] Computer\n",
    "* [ [w](https://en.wikipedia.org/wiki/Computer_architecture) ] Computer Architecture\n",
    "* [ [w](https://en.wikipedia.org/wiki/Category:Computer_arithmetic) ] Computer Arithmetic\n",
    "* [ w ] Computer Engineering\n",
    "* [ [w](https://en.wikipedia.org/wiki/Computer_hardware) ] Computer Hardware\n",
    "* [ [w](https://en.wikipedia.org/wiki/Computer-aided_design) ] Computer-Aided Design (CAD)\n",
    "* [ [w](https://en.wikipedia.org/wiki/Computing) ] Computing\n",
    "* [ [w](https://en.wikipedia.org/wiki/Logic_block) ] Configurable Logic Block (CLB)\n",
    "* [ [w](https://en.wikipedia.org/wiki/Control_unit) ] Control Unit (CU)\n",
    "* [ [w](https://en.wikipedia.org/wiki/CPU_cache) ] CPU Cache\n",
    "* [ [w](https://en.wikipedia.org/wiki/Crystal_oscillator) ] Crystal Oscillator\n",
    "* [ [w](https://en.wikipedia.org/wiki/Cursor_(user_interface)) ] Cursor\n",
    "* [ [w](https://en.wikipedia.org/wiki/Data-flow_diagram) ] Data-Flow Diagram\n",
    "* [ [w](https://en.wikipedia.org/wiki/Computer_data_storage) ] Data Storage\n",
    "* [ [w](https://en.wikipedia.org/wiki/Datapath) ] Datapath\n",
    "* [ [w](https://en.wikipedia.org/wiki/Desktop_computer) ] Desktop\n",
    "* [ [w](https://en.wikipedia.org/wiki/Digital_signal) ] Digital Signal\n",
    "* [ [w](https://en.wikipedia.org/wiki/Disk_storage) ] Disk Storage\n",
    "* [ [w](https://en.wikipedia.org/wiki/Duty_cycle) ] Duty Cycle\n",
    "* [ [w](https://en.wikipedia.org/wiki/EEPROM) ] EEPROM\n",
    "* [ [w](https://en.wikipedia.org/wiki/Electronic_circuit) ] Electronic Circuit\n",
    "* [ [w](https://en.wikipedia.org/wiki/Electronic_design_automation) ] Electronic Design Automation (EDA)\n",
    "* [ [w](https://en.wikipedia.org/wiki/Endianness) ] Endianness\n",
    "* [ [w](https://en.wikipedia.org/wiki/Execute_instruction) ] Execute Instruction\n",
    "* [ [w](https://en.wikipedia.org/wiki/Explicitly_parallel_instruction_computing) ] Explicitly Parallel Instruction Computing (EPIC)\n",
    "* [ [w](https://en.wikipedia.org/wiki/Field-effect_transistor) ] Field-Effect Transistor (FET)\n",
    "* [ [w](https://en.wikipedia.org/wiki/Field-programmability) ] Field-Programmability\n",
    "* [ [w](https://en.wikipedia.org/wiki/Field-programmable_analog_array) ] Field-Programmable Analog Array (FPAA)\n",
    "* [ [w](https://en.wikipedia.org/wiki/Field-programmable_gate_array) ] Field-Programmable Gate Array (FPGA)\n",
    "* [ [w](https://en.wikipedia.org/wiki/Floating-point_unit) ] Floating-Point Unit (FPU)\n",
    "* [ [w](https://en.wikipedia.org/wiki/FPGA_prototyping) ] FPGA Prototyping\n",
    "* [ [w](https://en.wikipedia.org/wiki/Flip-flop_(electronics)) ] Flip Flop\n",
    "* [ [w](https://en.wikipedia.org/wiki/Glue_logic) ] Glue Logic\n",
    "* [ [w](https://en.wikipedia.org/wiki/Graphical_user_interface) ] Graphical User Interface (GUI)\n",
    "* [ [w](https://en.wikipedia.org/wiki/Graphics_processing_unit) ] Graphics Processing Unit (GPU)\n",
    "* [ [w](https://en.wikipedia.org/wiki/Nibble) ] Half-Byte\n",
    "* [ [w](https://en.wikipedia.org/wiki/Hard_disk_drive) ] Hard Disk Drive (HDD)\n",
    "* [ [w](https://en.wikipedia.org/wiki/Computer_hardware) ] Hardware\n",
    "* [ [w](https://en.wikipedia.org/wiki/Hardware_acceleration) ] Hardware Acceleration\n",
    "* [ [w](https://en.wikipedia.org/wiki/Hardware_architecture) ] Hardware Architecture\n",
    "* [ [w](https://en.wikipedia.org/wiki/Hardware_description_language) ] Hardware Description Language (HDL)\n",
    "* [ [w](https://en.wikipedia.org/wiki/Harvard_architecture) ] Harvard Architecture\n",
    "* [ [w](https://en.wikipedia.org/wiki/Illegal_opcode) ] Illegal Opcode\n",
    "* [ [w](https://en.wikipedia.org/wiki/Indirect_branch) ] Indirect Branch\n",
    "* [ [w](https://en.wikipedia.org/wiki/Input/output) ] Input/Output (I/O)\n",
    "* [ [w](https://en.wikipedia.org/wiki/Input_device) ] Input Device\n",
    "* [ [w](https://en.wikipedia.org/wiki/Instruction-level_parallelism) ] Instruction-Level Parallelism (ILP)\n",
    "* [ [w](https://en.wikipedia.org/wiki/Instruction_cycle) ] Instruction Cycle\n",
    "* [ [w](https://en.wikipedia.org/wiki/Instruction_set_architecture) ] Instruction Set Architecture (ISA)\n",
    "* [ [w](https://en.wikipedia.org/wiki/Integrated_circuit) ] Integrated Circuit (IC)\n",
    "* [ [w](https://en.wikipedia.org/wiki/Computer_keyboard) ] Keyboard\n",
    "* [ [w](https://en.wikipedia.org/wiki/Flip-flop_(electronics)) ] Latch\n",
    "* [ [w](https://en.wikipedia.org/wiki/Latency_(engineering)) ] Latency\n",
    "* [ [w](https://en.wikipedia.org/wiki/Load%E2%80%93store_architecture) ] Load-Store Architecture\n",
    "* [ [w](https://en.wikipedia.org/wiki/Load%E2%80%93store_unit) ] Load-Store Unit\n",
    "* [ [w](https://en.wikipedia.org/wiki/Logic_block) ] Logic Block\n",
    "* [ [w](https://en.wikipedia.org/wiki/Logic_gate) ] Logic Gate\n",
    "* [ [w](https://en.wikipedia.org/wiki/Multiplication_algorithm#Long_multiplication) ] Long Multiplication\n",
    "* [ [w](https://en.wikipedia.org/wiki/Machine_code) ] Machine Code\n",
    "* [ [w](https://en.wikipedia.org/wiki/Computer_memory) ] Memory\n",
    "* [ [w](https://en.wikipedia.org/wiki/Memory_cell_(computing)) ] Memory Cell\n",
    "* [ [w](https://en.wikipedia.org/wiki/Memory_hierarchy) ] Memory Hierarchy\n",
    "* [ [w](https://en.wikipedia.org/wiki/MOSFET) ] Metal-Oxide-Semiconductor Field-Effect Transistor (MOSFET)\n",
    "* [ [w](https://en.wikipedia.org/wiki/Microarchitecture) ] Microarchitecture\n",
    "* [ [w](https://en.wikipedia.org/wiki/Microcomputer) ] Microcomputer\n",
    "* [ [w](https://en.wikipedia.org/wiki/Microcontroller) ] Microcontroller\n",
    "* [ [w](https://en.wikipedia.org/wiki/Microprocessor) ] Microprocessor\n",
    "* [ [w](https://en.wikipedia.org/wiki/MIPS_architecture) ] Microprocessor without Interlocked Pipelined Stages (MIPS)\n",
    "* [ [w](https://en.wikipedia.org/wiki/Minimal_instruction_set_computer) ] Minimal Instruction Set Computer (MISC)\n",
    "* [ [w](https://en.wikipedia.org/wiki/Mixed-signal_integrated_circuit) ] Mixed-Signal Integrated Circuit\n",
    "* [ [w](https://en.wikipedia.org/wiki/Computer_monitor) ] Monitor\n",
    "* [ [w](https://en.wikipedia.org/wiki/Moore%27s_law) ] Moore's Law\n",
    "* [ [w](https://en.wikipedia.org/wiki/Computer_mouse) ] Mouse\n",
    "* [ [w](https://en.wikipedia.org/wiki/Multiplexer) ] Multiplexor (MUX)\n",
    "* [ [w](https://en.wikipedia.org/wiki/Multiplication_algorithm) ] Multiplication Algorithm\n",
    "* [ [w](https://en.wikipedia.org/wiki/Multiply%E2%80%93accumulate_operation) ] Multiply-Accumulate\n",
    "* [ [w](https://en.wikipedia.org/wiki/Nibble) ] Nibble\n",
    "* [ [w](https://en.wikipedia.org/wiki/Octet_(computing)) ] Octet\n",
    "* [ [w](https://en.wikipedia.org/wiki/Offset_(computer_science)) ] Offset\n",
    "* [ [w](https://en.wikipedia.org/wiki/One-instruction_set_computer) ] One-Instruction Set Computer (OISC)\n",
    "* [ [w](https://en.wikipedia.org/wiki/Opcode) ] Opcode\n",
    "* [ [w](https://en.wikipedia.org/wiki/Opcode_table) ] Opcode Table\n",
    "* [ [w](https://en.wikipedia.org/wiki/Operating_system) ] Operating System (OS)\n",
    "* [ [w](https://en.wikipedia.org/wiki/Output_device) ] Output Device\n",
    "* [ [w](https://en.wikipedia.org/wiki/Parallel_communication) ] Parallel Communication\n",
    "* [ [w](https://en.wikipedia.org/wiki/Peripheral) ] Peripheral Device\n",
    "* [ [w](https://en.wikipedia.org/wiki/Personal_computer) ] Personal Computer (PC)\n",
    "* [ [w](https://en.wikipedia.org/wiki/Place_and_route) ] Place and Route\n",
    "* [ [w](https://en.wikipedia.org/wiki/Position-independent_code) ] Position-Independent Code (PIC)\n",
    "* [ [w](https://en.wikipedia.org/wiki/Predication_(computer_architecture)) ] Predication\n",
    "* [ [w](https://en.wikipedia.org/wiki/Printed_circuit_board) ] Printed Circuit Board (PCB)\n",
    "* [ [w](https://en.wikipedia.org/wiki/Printer_(computing)) ] Printer\n",
    "* [ [w](https://en.wikipedia.org/wiki/Processor_(computing)) ] Processor\n",
    "* [ [w](https://en.wikipedia.org/wiki/Processor_design) ] Processor Design\n",
    "* [ [w](https://en.wikipedia.org/wiki/Processor_register) ] Processor Register\n",
    "* [ [w](https://en.wikipedia.org/wiki/Computer_program) ] Program\n",
    "* [ [w](https://en.wikipedia.org/wiki/Program_counter) ] Program Counter (PC)\n",
    "* [ [w](https://en.wikipedia.org/wiki/Programmable_Array_Logic) ] Programmable Array Logic (PAL)\n",
    "* [ [w](https://en.wikipedia.org/wiki/Programmable_logic_device) ] Programmable Logic Device (PLD)\n",
    "* [ [w](https://en.wikipedia.org/wiki/Programmable_ROM) ] Programmable Read-Only Memory (PROM)\n",
    "* [ [w](https://en.wikipedia.org/wiki/Random-access_memory) ] Random Access Memory (RAM)\n",
    "* [ [w](https://en.wikipedia.org/wiki/Reconfigurable_computing) ] Reconfigurable Computing\n",
    "* [ [w](https://en.wikipedia.org/wiki/Reduced_instruction_set_computer) ] Reduced Instruction Set Computer (RISC)\n",
    "* [ [w](https://en.wikipedia.org/wiki/Processor_register) ] Register\n",
    "* [ [w](https://en.wikipedia.org/wiki/Register%E2%80%93memory_architecture) ] Register-Memory Architecture\n",
    "* [ [w](https://en.wikipedia.org/wiki/Repeat_instruction) ] Repeat Instruction\n",
    "* [ [w](https://en.wikipedia.org/wiki/Semiconductor) ] Semiconductor\n",
    "* [ [w](https://en.wikipedia.org/wiki/Sequential_logic) ] Sequential Logic\n",
    "* [ [w](https://en.wikipedia.org/wiki/Serial_communication) ] Serial Communication\n",
    "* [ [w](https://en.wikipedia.org/wiki/Server_(computing)) ] Server\n",
    "* [ [w](https://en.wikipedia.org/wiki/Software) ] Software\n",
    "* [ [w](https://en.wikipedia.org/wiki/Solid-state_drive) ] Solid-State Drive (SSD)\n",
    "* [ [w](https://en.wikipedia.org/wiki/Status_register) ] Status Register\n",
    "* [ [w](https://en.wikipedia.org/wiki/Stored-program_computer) ] Stored-Program Computer\n",
    "* [ [w](https://en.wikipedia.org/wiki/Synchronous_circuit) ] Synchronous Circuit\n",
    "* [ [w](https://en.wikipedia.org/wiki/System_on_a_chip) ] System on a Chip (SoC)\n",
    "* [ [w](https://en.wikipedia.org/wiki/FPGA_prototyping) ] SoC Prototyping\n",
    "* [ [w](https://en.wikipedia.org/wiki/Transistor) ] Transistor\n",
    "* [ [w](https://en.wikipedia.org/wiki/Two%27s_complement) ] Two's Complement\n",
    "* [ [w](https://en.wikipedia.org/wiki/Verilog) ] Verilog\n",
    "* [ [w](https://en.wikipedia.org/wiki/Very_long_instruction_word) ] Very Long Instruction Word (VLIW)\n",
    "* [ [w](https://en.wikipedia.org/wiki/Von_Neumann_architecture) ] Von Neumann Architecture\n",
    "* [ [w](https://en.wikipedia.org/wiki/Word_(computer_architecture)) ] Word\n",
    "* [ [w](https://en.wikipedia.org/wiki/Word_addressing) ] Word Addresing\n",
    "* [ [w](https://en.wikipedia.org/wiki/X86) ] x86\n",
    "  * [ [w](https://en.wikipedia.org/wiki/X86-64) ] x86-64"
   ]
  },
  {
   "cell_type": "markdown",
   "metadata": {},
   "source": [
    "---"
   ]
  }
 ],
 "metadata": {
  "language_info": {
   "name": "python"
  }
 },
 "nbformat": 4,
 "nbformat_minor": 2
}
