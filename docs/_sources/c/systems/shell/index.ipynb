{
 "cells": [
  {
   "cell_type": "markdown",
   "metadata": {},
   "source": [
    "# The Shell"
   ]
  },
  {
   "cell_type": "markdown",
   "metadata": {},
   "source": [
    "---"
   ]
  },
  {
   "cell_type": "markdown",
   "metadata": {},
   "source": [
    "## Table of Contents\n",
    "```{contents}\n",
    "```"
   ]
  },
  {
   "cell_type": "markdown",
   "metadata": {},
   "source": [
    "---"
   ]
  },
  {
   "cell_type": "markdown",
   "metadata": {},
   "source": [
    "## Sections\n",
    "```{tableofcontents}\n",
    "```"
   ]
  },
  {
   "cell_type": "markdown",
   "metadata": {},
   "source": [
    "---"
   ]
  },
  {
   "cell_type": "markdown",
   "metadata": {},
   "source": [
    "## Resources\n",
    "\n",
    "Shells and Terminals\n",
    "* [ [h](https://alacritty.org/) ][ [g](https://github.com/alacritty/alacritty) ][ w ] Alacritty\n",
    "* [ [h](https://tiswww.case.edu/php/chet/bash/bashtop.html) ][ g ][ [w](https://en.wikipedia.org/wiki/Bash_(Unix_shell)) ] Bash (Bourne-Again Shell)\n",
    "  * [GNU](https://www.gnu.org/software/bash/)\n",
    "* [ h ][ g ][ w ] Bourne Shell (sh)\n",
    "* [ [h](https://cmder.app) ][ g ][ w ] Cmder\n",
    "* [ h ][ g ][ w ] C Shell (csh)\n",
    "* [ [h](https://elv.sh) ][ g ][ w ] Elvish\n",
    "* [ [h](https://fig.io) ][ g ][ w ] Fig\n",
    "* [ [h](https://fishshell.com) ][ g ][ w ] Fish\n",
    "* [ h ][ [g](https://github.com/felixse/FluentTerminal) ][ w ] Fluent\n",
    "* [ [h](https://gitforwindows.org/) ][ g ][ w ] Git for Windows\n",
    "  * [Git Bash - Releases](https://github.com/git-for-windows/git/releases)\n",
    "  * [Git Bash - FAQ](https://github.com/git-for-windows/git/wiki/FAQ)\n",
    "  * [Git Bash - Package Management](https://github.com/git-for-windows/git/wiki/Package-management)\n",
    "* [ [h](https://hyper.is) ][ g ][ w ] Hyper\n",
    "* [ [h](https://iterm2.com) ][ g ][ w ] iTerm2\n",
    "* [ [h](https://sw.kovidgoyal.net/kitty/) ][ [g](https://github.com/kovidgoyal/kitty) ][ w ] Kitty\n",
    "* [ h ][ g ][ w ] Korn Shell (ksh)\n",
    "* [ [h](https://www.nerdfonts.com) ][ g ][ w ] Nerd Fonts\n",
    "* [ [h](https://www.nushell.sh) ][ g ][ w ] Nushell\n",
    "* [ [h](https://ohmyposh.dev) ][ g ][ w ] Oh My Posh\n",
    "* [ [h](https://github.com/romkatv/powerlevel10k) ][ [g](https://github.com/romkatv/powerlevel10k) ][ [w](https://en.wikipedia.org/wiki/PowerShell) ] Powerlevel10k\n",
    "* [ h ][ [g](https://github.com/powershell/powershell) ][ [w](https://en.wikipedia.org/wiki/PowerShell) ] PowerShell\n",
    "  * [d](https://docs.microsoft.com/en-us/powershell/)\n",
    "* [ h ][ g ][ w ] PuTTY\n",
    "* [ [h](https://starship.rs) ][ g ][ w ] Starship\n",
    "* [ [h](https://tabby.sh) ][ g ][ w ] Tabby\n",
    "* [ h ][ g ][ w ] T C Shell (tcsh)\n",
    "* [ h ][ g ][ [w](https://en.wikipedia.org/wiki/List_of_macOS_built-in_apps#Terminal) ] Terminal.app\n",
    "* [ [h](https://gnome-terminator.org) ][ [g](https://github.com/software-jessies-org/jessies/wiki/Terminator) ][ [w](https://en.wikipedia.org/wiki/Terminator_(terminal_emulator)) ] Terminator\n",
    "  * [d](https://terminator-gtk3.readthedocs.io/en/latest/)\n",
    "* [ [h](https://gnunn1.github.io/tilix-web/) ][ g ][ w ] Tilix\n",
    "* [ [h](https://www.warp.dev) ][ g ][ w ] Warp\n",
    "* [ h ][ g ][ [w](https://en.wikipedia.org/wiki/Cmd.exe) ] Windows Command Prompt\n",
    "* [ h ][ [g](https://github.com/microsoft/terminal) ][ [w](https://en.wikipedia.org/wiki/Windows_Terminal) ] Windows Terminal\n",
    "* [ h ][ g ][ w ] Z Shell (zsh)\n",
    "\n",
    "Online\n",
    "* [ [h](https://explainshell.com/) ] explainshell.com\n",
    "* [ [h](https://linuxsurvival.com) ] Linux Survival\n",
    "* [ [h](https://google.github.io/styleguide/shellguide.html) ] Google's Shell Style Guide\n",
    "* [ [h](https://missing.csail.mit.edu/2020/command-line/) ] Command Line Environment (MIT's Missing Semester)\n",
    "* [ [h](https://missing.csail.mit.edu/2020/course-shell/) ] The Shell (MIT's Missing Semester)\n",
    "* [ [h](https://missing.csail.mit.edu/2020/shell-tools/) ] Shell Tools and Scripting (MIT's Missing Semester)\n",
    "\n",
    "More Online\n",
    "* [useful aliases](https://github.com/chrishwiggins/mise/blob/master/sh/aliases-public.sh)\n",
    "* https://www.howtogeek.com/howto/ubuntu/keyboard-shortcuts-for-bash-command-shell-for-ubuntu-debian-suse-redhat-linux-etc/\n",
    "* https://stackoverflow.com/questions/19432753/brace-expansion-with-variable\n",
    "\n",
    "### YouTube\n",
    "\n",
    "freeCodeCamp\n",
    "* [ [y](https://www.youtube.com/watch?v=9ReSHQihuZw) ] `11-09-2022`. \"Command Line Hacking – Over The Wire Bandit Walkthrough (CTF Wargame)\".\n",
    "* [ [y](https://www.youtube.com/watch?v=ZtqBQ68cfJc) ] `11-03-2021`. \"The 50 Most Popular Linux & Terminal Commands - Full Course for Beginners\".\n",
    "* [ [y](https://www.youtube.com/watch?v=yz7nYlnXLfE) ] `07-25-2018`. \"Command Line Crash Course\".\n",
    "\n",
    "Joe Collins\n",
    "* [ [y](https://www.youtube.com/watch?v=KG97VzMjfMg) ] `01-09-2023` \"Let's Write A Script! | How To Create BASH Scripts In Linux\".\n",
    "* [ [y](https://www.youtube.com/watch?v=dDyoNC33TY8) ] `09-30-2018` \"BASH Environment | Aliases, Functions and Scripts\".\n",
    "* [ [y](https://www.youtube.com/watch?v=_n5ZegzieSQ) ] `08-09-2018` \"A Beginner's Introduction to BASH Shell Scripting\".\n",
    "* [ [y](https://www.youtube.com/watch?v=oxuRxtrO2Ag) ] `03-02-2017` \"Beginner's Guide to the Bash Terminal\".\n",
    "\n",
    "More\n",
    "* [ [y](https://www.youtube.com/watch?v=4RPtJ9UyHS0) ] `08-02-2017`. CrashCourse. \"Keyboards & Command Line Interfaces: Crash Course Computer Science\".\n",
    "* [ [y](https://www.youtube.com/watch?v=2PGnYjbYuUo) ] `08-08-2019`. Geek's Lesson. \"Linux Command Line Full course: Beginners to Experts. Bash Command Line Tutorials\".\n",
    "* [ [y](https://www.youtube.com/watch?v=aCIph71bBic) ] `03-15-2022`. Learn Linux TV. \"Top 5 Terminal Emulators\".\n",
    "\n",
    "## Texts\n",
    "\n",
    "* [ [g](https://github.com/vossenjp/bashidioms-examples) ] `2022` Albing, Carl & JP Vossen. _Bash Idioms: Write Powerful, Flexible, Readable Shell Scripts_. O'Reilly.\n",
    "* `2012` Barrett, Daniel J. _Macintosh Terminal Pocket Guide: Take Command of Your Mac_. O'Reilly.\n",
    "* `2014` [ [h](https://tldp.org/LDP/abs/html/index.html) ] Cooper, Mendel. _Advanced Bash-Scripting Guide: An in-depth exploration of the art of shell scripting_.\n",
    "* `2008` [ [h](https://tldp.org/LDP/Bash-Beginners-Guide/html/index.html) ] Garrels, Machtelt. _Bash Guide for Beginners_.\n",
    "* `2021` Janssens, Jeroen. _Data Science at the Command Line: Obtain, Scrub, Explore, and Model Data with Unix Power Tools_. 2e. O'Reilly.\n",
    "* [ [g](https://resources.oreilly.com/examples/9780596003302/) ] `2002` Powers, Shelley et al. _Unix Power Tools_. 3e. O'Reilly.\n",
    "* [ [g](https://resources.oreilly.com/examples/9780596005955/) ] `2005` Robbins, Arnold & Nelson H. F. Beebe. _Classic Shell Scripting_. O'Reilly.\n",
    "* `2016` Taylor, Dave & Brandon Perry. _Wicked Cool Shell Scripts: 101 Scripts for Linux, OS X, and Unix Systems_. 2e. No Starch Press.\n",
    "\n",
    "## Terms\n",
    "\n",
    "* [ [w](https://en.wikipedia.org/wiki/Autocomplete) ] Autocompletion\n",
    "* [ w ] Command Line\n",
    "* [ [w](https://en.wikipedia.org/wiki/Command-line_interface) ] Command Line Interface (CLI)\n",
    "* [ [w](https://en.wikipedia.org/wiki/Glob_(programming)) ] Glob\n",
    "* [ [w](https://en.wikipedia.org/wiki/Matching_wildcards) ] Globbing\n",
    "* [ [w](https://en.wikipedia.org/wiki/Interpreter_directive) ] Interpreter Directive\n",
    "* [ [w](https://en.wikipedia.org/wiki/Pattern_calculus) ] Pattern Calculus\n",
    "* [ [w](https://en.wikipedia.org/wiki/Pattern_matching) ] Pattern Matching\n",
    "* [ w ] POSIX Shell\n",
    "* [ w ] Shebang\n",
    "* [ [w](https://en.wikipedia.org/wiki/Shell_(computing)) ] Shell\n",
    "* [ [w](https://en.wikipedia.org/wiki/Shell_builtin) ] Shell Builtin\n",
    "* [ [w](https://en.wikipedia.org/wiki/Comparison_of_command_shells) ] Shells\n",
    "* [ [w](https://en.wikipedia.org/wiki/Snippet_(programming)) ] Snippet\n",
    "* [ [w](https://en.wikipedia.org/wiki/Terminal_emulator) ] Terminal Emulator\n",
    "* [ [w](https://en.wikipedia.org/wiki/Terminal_(macOS)) ] Terminal.app\n",
    "* [ [w](https://en.wikipedia.org/wiki/Wildcard_character) ] Wildcard Character\n",
    "* [ [w](https://en.wikipedia.org/wiki/Matching_wildcards) ] Wildcard Matching\n",
    "* [ [w](https://en.wikipedia.org/wiki/Cmd.exe) ] Windows Command Prompt\n",
    "* [ [w](https://en.wikipedia.org/wiki/Windows_Console) ] Windows Console\n",
    "* [ [w](https://en.wikipedia.org/wiki/Windows_Terminal) ] Windows Terminal"
   ]
  },
  {
   "cell_type": "markdown",
   "metadata": {},
   "source": [
    "---"
   ]
  },
  {
   "cell_type": "markdown",
   "metadata": {},
   "source": [
    "## Intro"
   ]
  },
  {
   "cell_type": "markdown",
   "metadata": {},
   "source": [
    "```zsh\n",
    "cat /etc/shells\n",
    "```\n",
    "```\n",
    "# List of acceptable shells for chpass(1).\n",
    "# Ftpd will not allow users to connect who are not using\n",
    "# one of these shells.\n",
    "\n",
    "/bin/bash\n",
    "/bin/csh\n",
    "/bin/dash\n",
    "/bin/ksh\n",
    "/bin/sh\n",
    "/bin/tcsh\n",
    "/bin/zsh\n",
    "/usr/local/bin/pwsh\n",
    "```"
   ]
  },
  {
   "cell_type": "markdown",
   "metadata": {},
   "source": [
    "All shells have startup files containing commands which are executed as soon as the shell starts.\n",
    "\n",
    "The shell is there to take a list of commands and run them; it doesn't care whether the commands are in a file or typed at the terminal. When you type a command and wait for it to run before typing another, the shell is interactive. When the shell reads commands from a file, the shell is non-interactive. A shell is interactive if it has a prompt. A list of commands in a file is called a script (as if the shell were acting in a play when it reads from it). The interactive shell waits in the background for a non-interactive copy to read a script.\n",
    "\n",
    "Builtins and functions run as a part of the shell itself and are therefore more efficient than things like external commands (that don't run in the shell and which can't affect its parameters, functions, aliases, etc.)."
   ]
  },
  {
   "cell_type": "markdown",
   "metadata": {},
   "source": [
    "---"
   ]
  }
 ],
 "metadata": {
  "kernelspec": {
   "display_name": "ml",
   "language": "python",
   "name": "python3"
  },
  "language_info": {
   "name": "python",
   "version": "3.11.5"
  }
 },
 "nbformat": 4,
 "nbformat_minor": 2
}
