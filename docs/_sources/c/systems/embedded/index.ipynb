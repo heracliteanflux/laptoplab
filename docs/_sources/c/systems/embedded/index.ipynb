{
 "cells": [
  {
   "cell_type": "markdown",
   "metadata": {},
   "source": [
    "# Embedded Systems"
   ]
  },
  {
   "cell_type": "markdown",
   "metadata": {},
   "source": [
    "---"
   ]
  },
  {
   "cell_type": "markdown",
   "metadata": {},
   "source": [
    "## Table of Contents\n",
    "```{contents}\n",
    "```"
   ]
  },
  {
   "cell_type": "markdown",
   "metadata": {},
   "source": [
    "---"
   ]
  },
  {
   "cell_type": "markdown",
   "metadata": {},
   "source": [
    "## Texts"
   ]
  },
  {
   "cell_type": "markdown",
   "metadata": {},
   "source": [
    "* White, Elecia. (2024). _Making Embedded Systems: Design Patterns for Great Software_. 2e. O'Reilly.\n",
    "* White, Elecia. (2011). _Making Embedded Systems: Design Patterns for Great Software_. O'Reilly."
   ]
  },
  {
   "cell_type": "markdown",
   "metadata": {},
   "source": [
    "---"
   ]
  },
  {
   "cell_type": "markdown",
   "metadata": {},
   "source": [
    "## Terms"
   ]
  },
  {
   "cell_type": "markdown",
   "metadata": {},
   "source": [
    "* [ [w](https://en.wikipedia.org/wiki/Application-specific_integrated_circuit) ] Application-Specific Integrated Circuit (ASIC)\n",
    "* [ [w](https://en.wikipedia.org/wiki/Background_debug_mode_interface) ] Background Debug Mode Interface (BDM)\n",
    "* [ [w](https://en.wikipedia.org/wiki/Bare_machine) ] Bare Metal\n",
    "* [ [w](https://en.wikipedia.org/wiki/Cyber-physical_system) ] Cyber-Physical System (CPS)\n",
    "* [ [w](https://en.wikipedia.org/wiki/Embedded_HTTP_server) ] Embedded HTTP Server\n",
    "* [ [w](https://en.wikipedia.org/wiki/Linux_on_embedded_systems) ] Embedded Linux\n",
    "* [ [w](https://en.wikipedia.org/wiki/Embedded_operating_system) ] Embedded Operating System\n",
    "* [ [w](https://en.wikipedia.org/wiki/Embedded_system) ] Embedded System\n",
    "* [ [w](https://en.wikipedia.org/wiki/Field-programmable_gate_array) ] Field-Programmable Gate Array (FPGA)\n",
    "* [ [w](https://en.wikipedia.org/wiki/Firmware) ] Firmware\n",
    "* [ [w](https://en.wikipedia.org/wiki/General-purpose_input/output) ] Generap-Purpose Input/Output (GPIO)\n",
    "* [ [w](https://en.wikipedia.org/wiki/In-system_programming) ] In-System Programming (ISP)\n",
    "* [ [w](https://en.wikipedia.org/wiki/JTAG) ] Joint Test Action Group (JTAP)\n",
    "* [ [w](https://en.wikipedia.org/wiki/Microcontroller) ] Microcontroller\n",
    "* [ [w](https://en.wikipedia.org/wiki/Microkernel) ] Microkernel\n",
    "* [ [w](https://en.wikipedia.org/wiki/Programmable_logic_controller) ] Programmable Logic Controller (PLC)\n",
    "* [ [w](https://en.wikipedia.org/wiki/Real-time_computing) ] Real-Time Computing (RTC)\n",
    "* [ [w](https://en.wikipedia.org/wiki/System_on_a_chip) ] System on a Chip (SoC)\n",
    "* [ [w](https://en.wikipedia.org/wiki/UEFI) ] Unified Extensible Firmware Interface (UEFI)"
   ]
  },
  {
   "cell_type": "markdown",
   "metadata": {},
   "source": [
    "---"
   ]
  }
 ],
 "metadata": {
  "language_info": {
   "name": "python"
  }
 },
 "nbformat": 4,
 "nbformat_minor": 2
}
