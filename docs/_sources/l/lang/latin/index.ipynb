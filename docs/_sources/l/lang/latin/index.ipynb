{
 "cells": [
  {
   "cell_type": "markdown",
   "metadata": {},
   "source": [
    "# Latin"
   ]
  },
  {
   "cell_type": "markdown",
   "metadata": {},
   "source": [
    "---"
   ]
  },
  {
   "cell_type": "markdown",
   "metadata": {},
   "source": [
    "## Table of Contents\n",
    "```{contents}\n",
    "```"
   ]
  },
  {
   "cell_type": "markdown",
   "metadata": {},
   "source": [
    "---"
   ]
  },
  {
   "cell_type": "markdown",
   "metadata": {},
   "source": [
    "## Latin Phrases"
   ]
  },
  {
   "cell_type": "markdown",
   "metadata": {},
   "source": [
    "[ [w](https://en.wikipedia.org/wiki/List_of_Latin_phrases) ] latin phrases\n",
    "* [ [w](https://en.wikipedia.org/wiki/Ad_astra_(phrase)) ] ad astra\n",
    "* [ [w](https://en.wikipedia.org/wiki/Ad_hoc) ] ad hoc\n",
    "* [ [w](https://en.wikipedia.org/wiki/Ad_hominem) ] ad hominem\n",
    "* [ [w](https://en.wikipedia.org/wiki/Ad_infinitum) ] ad infinitum\n",
    "* [ [w](https://en.wikipedia.org/wiki/Ad_libitum) ] ad libitum\n",
    "* [ [w](https://en.wikipedia.org/wiki/Ad_nauseam) ] ad nauseam\n",
    "* [ [w](https://en.wikipedia.org/wiki/Semper_fidelis) ] semper fidelis\n",
    "* [ [w](https://en.wikipedia.org/wiki/Semper_paratus) ] semper paratus\n",
    "* [ [w](https://en.wikipedia.org/wiki/Veritas) ] veritas"
   ]
  },
  {
   "cell_type": "markdown",
   "metadata": {},
   "source": [
    "---"
   ]
  },
  {
   "cell_type": "markdown",
   "metadata": {},
   "source": [
    "## Texts"
   ]
  },
  {
   "cell_type": "markdown",
   "metadata": {},
   "source": [
    "Moreland, Floyd L. & Rita M. Fleischer. (1977). _Latin: An Intensive Course_. University of California Press.<br>"
   ]
  },
  {
   "cell_type": "markdown",
   "metadata": {},
   "source": [
    "---"
   ]
  },
  {
   "cell_type": "markdown",
   "metadata": {},
   "source": [
    "## Terms"
   ]
  },
  {
   "cell_type": "markdown",
   "metadata": {},
   "source": [
    "* [ [w](https://en.wikipedia.org/wiki/Classical_Latin) ] Classical Latin\n",
    "* [ [w](https://en.wikipedia.org/wiki/Contemporary_Latin) ] Contemporary Latin\n",
    "* [ [w](https://en.wikipedia.org/wiki/Ecclesiastical_Latin) ] Ecclesiastical Latin\n",
    "* [ [w](https://en.wikipedia.org/wiki/Late_Latin) ] Late Latin\n",
    "* [ [w](https://en.wikipedia.org/wiki/Latin) ] Latin\n",
    "* [ [w](https://en.wikipedia.org/wiki/Latin_conjugation) ] latin conjugation\n",
    "* [ [w](https://en.wikipedia.org/wiki/Latin_declension) ] latin declension\n",
    "* [ [w](https://en.wikipedia.org/wiki/Latin_grammar) ] latin grammar\n",
    "* [ [w](https://en.wikipedia.org/wiki/Latin_phonology_and_orthography) ] latin phonology and orthography\n",
    "* [ [w](https://en.wikipedia.org/wiki/Latin_syntax) ] latin syntax\n",
    "* [ [w](https://en.wikipedia.org/wiki/Latium) ] Latium\n",
    "* [ [w](https://en.wikipedia.org/wiki/Lexical_changes_from_Classical_Latin_to_Proto-Romance) ] lexical changes from classical latin to proto-romance\n",
    "* [ [w](https://en.wikipedia.org/wiki/Medieval_Latin) ] Medieval Latin\n",
    "* [ [w](https://en.wikipedia.org/wiki/Neo-Latin) ] Neo-Latin\n",
    "* [ [w](https://en.wikipedia.org/wiki/Old_Latin) ] Old Latin\n",
    "* [ [w](https://en.wikipedia.org/wiki/Renaissance_Latin) ] Renaissance Latin\n",
    "* [ [w](https://en.wikipedia.org/wiki/Latin_alphabet) ] Roman Alphabet\n",
    "* [ [w](https://en.wikipedia.org/wiki/Vulgar_Latin) ] Vulgar Latin"
   ]
  },
  {
   "cell_type": "markdown",
   "metadata": {},
   "source": [
    "---"
   ]
  }
 ],
 "metadata": {
  "language_info": {
   "name": "python"
  }
 },
 "nbformat": 4,
 "nbformat_minor": 2
}
