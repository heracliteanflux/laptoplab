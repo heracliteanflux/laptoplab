{
 "cells": [
  {
   "attachments": {},
   "cell_type": "markdown",
   "metadata": {},
   "source": [
    "# Constructed Language"
   ]
  },
  {
   "attachments": {},
   "cell_type": "markdown",
   "metadata": {},
   "source": [
    "---"
   ]
  },
  {
   "attachments": {},
   "cell_type": "markdown",
   "metadata": {},
   "source": [
    "## Table of Contents\n",
    "```{contents}\n",
    "```"
   ]
  },
  {
   "attachments": {},
   "cell_type": "markdown",
   "metadata": {},
   "source": [
    "---"
   ]
  },
  {
   "attachments": {},
   "cell_type": "markdown",
   "metadata": {},
   "source": [
    "## Constructed Languages"
   ]
  },
  {
   "attachments": {},
   "cell_type": "markdown",
   "metadata": {},
   "source": [
    "* [ [w](https://en.wikipedia.org/wiki/Esperanto) ] Esperanto\n",
    "* [ [w](https://en.wikipedia.org/wiki/Ido) ] Ido\n",
    "* [ [w](https://en.wikipedia.org/wiki/Interlingua) ] Interlingua\n",
    "* [ [w](https://en.wikipedia.org/wiki/Loglan) ] Loglan\n",
    "* [ [w](https://en.wikipedia.org/wiki/Lojban) ] Lojban\n",
    "  * [ [w](https://en.wikipedia.org/wiki/Lojban_grammar) ] Lojban grammar\n",
    "* [ [w](https://en.wikipedia.org/wiki/Ro_language) ] Ro"
   ]
  },
  {
   "attachments": {},
   "cell_type": "markdown",
   "metadata": {},
   "source": [
    "---"
   ]
  },
  {
   "attachments": {},
   "cell_type": "markdown",
   "metadata": {},
   "source": [
    "## Figures"
   ]
  },
  {
   "attachments": {},
   "cell_type": "markdown",
   "metadata": {},
   "source": [
    "* [ [w](https://en.wikipedia.org/wiki/Louis_Couturat) ] Couturat, Louis (1868-1914)\n",
    "* [ w ] Leibniz, Gottfried Wilhelm\n",
    "* [ [w](https://en.wikipedia.org/wiki/John_Wilkins) ] Wilkins, John\n",
    "  * [ [w](https://en.wikipedia.org/wiki/An_Essay_Towards_a_Real_Character,_and_a_Philosophical_Language) ] _An Essay Towards a Real Character, and a Philosophical Language_."
   ]
  },
  {
   "attachments": {},
   "cell_type": "markdown",
   "metadata": {},
   "source": [
    "---"
   ]
  },
  {
   "attachments": {},
   "cell_type": "markdown",
   "metadata": {},
   "source": [
    "## Terms"
   ]
  },
  {
   "attachments": {},
   "cell_type": "markdown",
   "metadata": {},
   "source": [
    "* [ [w](https://en.wikipedia.org/wiki/Constructed_language) ] Constructed Language\n",
    "* [ [w](https://en.wikipedia.org/wiki/Engineered_language) ] Engineered Language\n",
    "* [ [w](https://en.wikipedia.org/wiki/Experimental_language) ] Experimental Language\n",
    "* [ [w](https://en.wikipedia.org/wiki/International_auxiliary_language) ] International Auxiliary Language\n",
    "* [ [w](https://en.wikipedia.org/wiki/Philosophical_language) ] Philosophical Language\n",
    "* [ [w](https://en.wikipedia.org/wiki/Universal_language) ] Universal Language"
   ]
  },
  {
   "attachments": {},
   "cell_type": "markdown",
   "metadata": {},
   "source": [
    "---"
   ]
  }
 ],
 "metadata": {
  "language_info": {
   "name": "python"
  },
  "orig_nbformat": 4
 },
 "nbformat": 4,
 "nbformat_minor": 2
}
