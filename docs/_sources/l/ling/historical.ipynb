{
 "cells": [
  {
   "attachments": {},
   "cell_type": "markdown",
   "metadata": {},
   "source": [
    "# Historical Linguistics"
   ]
  },
  {
   "attachments": {},
   "cell_type": "markdown",
   "metadata": {},
   "source": [
    "---"
   ]
  },
  {
   "attachments": {},
   "cell_type": "markdown",
   "metadata": {},
   "source": [
    "```{admonition} Revised\n",
    "16 Mar 2023\n",
    "```\n",
    "```{contents}\n",
    "```"
   ]
  },
  {
   "attachments": {},
   "cell_type": "markdown",
   "metadata": {},
   "source": [
    "---"
   ]
  },
  {
   "attachments": {},
   "cell_type": "markdown",
   "metadata": {},
   "source": [
    "## Texts"
   ]
  },
  {
   "attachments": {},
   "cell_type": "markdown",
   "metadata": {},
   "source": [
    "* Campbell, Lyle. (2013). _Historical Linguistics: An Introduction_. 3rd Ed. MIT Press.\n",
    "* Hale, Mark. (2007). _Historical Linguistics: Theory and Method_. [Wiley-Blackwell](https://www.wiley.com/en-us/Historical+Linguistics%3A+Theory+and+Method-p-9780631196624)."
   ]
  },
  {
   "attachments": {},
   "cell_type": "markdown",
   "metadata": {},
   "source": [
    "---"
   ]
  },
  {
   "attachments": {},
   "cell_type": "markdown",
   "metadata": {},
   "source": [
    "## Terms"
   ]
  },
  {
   "attachments": {},
   "cell_type": "markdown",
   "metadata": {},
   "source": [
    "* [[W](https://en.wikipedia.org/wiki/Aragonese_language)] Aragonese\n",
    "* [[W](https://en.wikipedia.org/wiki/Spanish_language)] Castilian\n",
    "* [[W](https://en.wikipedia.org/wiki/Catalan_language)] Catalan\n",
    "* [W] Galic\n",
    "* [[W](https://en.wikipedia.org/wiki/Galician_language)] Galician\n",
    "* [[W](https://en.wikipedia.org/wiki/Italian_language)] Italian\n",
    "* [[W](https://en.wikipedia.org/wiki/Judaeo-Spanish)] Ladino\n",
    "* [[W](https://en.wikipedia.org/wiki/Portuguese_language)] Portuguese\n",
    "* [[W](https://en.wikipedia.org/wiki/Romance_languages)] Romance\n",
    "* [[W](https://en.wikipedia.org/wiki/Romanian_language)] Romanian\n",
    "* [[W](https://en.wikipedia.org/wiki/Romansh_language)] Romansh"
   ]
  },
  {
   "attachments": {},
   "cell_type": "markdown",
   "metadata": {},
   "source": [
    "---"
   ]
  }
 ],
 "metadata": {
  "language_info": {
   "name": "python"
  },
  "orig_nbformat": 4
 },
 "nbformat": 4,
 "nbformat_minor": 2
}
