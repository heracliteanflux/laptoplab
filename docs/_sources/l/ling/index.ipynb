{
 "cells": [
  {
   "attachments": {},
   "cell_type": "markdown",
   "metadata": {},
   "source": [
    "# Linguistics"
   ]
  },
  {
   "attachments": {},
   "cell_type": "markdown",
   "metadata": {},
   "source": [
    "---"
   ]
  },
  {
   "attachments": {},
   "cell_type": "markdown",
   "metadata": {},
   "source": [
    "## Sections"
   ]
  },
  {
   "attachments": {},
   "cell_type": "markdown",
   "metadata": {},
   "source": [
    "```{tableofcontents}\n",
    "```"
   ]
  },
  {
   "attachments": {},
   "cell_type": "markdown",
   "metadata": {},
   "source": [
    "---"
   ]
  },
  {
   "attachments": {},
   "cell_type": "markdown",
   "metadata": {},
   "source": [
    "## Linguists"
   ]
  },
  {
   "attachments": {},
   "cell_type": "markdown",
   "metadata": {},
   "source": [
    "* Colleen Balukas\n",
    "  * [Academic](https://arts-sciences.buffalo.edu/romance-languages-literatures/faculty/departmental-faculty.host.html/content/shared/arts-sciences/romance-languages-literatures/profiles/departmental-faculty-profiles/balukas--colleen.html)\n",
    "* Deborah Morton\n",
    "  * [Home](https://deborahcmorton.wordpress.com/)\n",
    "* Guilherme Garcia\n",
    "  * [Home](https://gdgarcia.ca/)\n",
    "  * [GitHub](https://github.com/guilhermegarcia)\n",
    "* John Lipski\n",
    "  * [Home](http://www.personal.psu.edu/jml34/)\n",
    "  * [Wiki](https://en.wikipedia.org/wiki/John_M._Lipski)\n",
    "* Keith Johnson\n",
    "  * [Home](https://linguistics.berkeley.edu/~kjohnson/)\n",
    "  * [GitHub](https://github.com/keithjohnson-berkeley)"
   ]
  },
  {
   "attachments": {},
   "cell_type": "markdown",
   "metadata": {},
   "source": [
    "---"
   ]
  },
  {
   "attachments": {},
   "cell_type": "markdown",
   "metadata": {},
   "source": [
    "## Resources"
   ]
  },
  {
   "attachments": {},
   "cell_type": "markdown",
   "metadata": {},
   "source": [
    "* [Linguistics Society of America](https://www.linguisticsociety.org/)"
   ]
  },
  {
   "attachments": {},
   "cell_type": "markdown",
   "metadata": {},
   "source": [
    "---"
   ]
  },
  {
   "attachments": {},
   "cell_type": "markdown",
   "metadata": {},
   "source": [
    "## Figures"
   ]
  },
  {
   "attachments": {},
   "cell_type": "markdown",
   "metadata": {},
   "source": [
    "* [[W](https://en.wikipedia.org/wiki/Leonard_Bloomfield)] Bloomfield, Leonard (1887-1949)\n",
    "* [[W](https://en.wikipedia.org/wiki/Noam_Chomsky)] Chomsky, Noam (1928-) [[Home](https://chomsky.info/)]\n",
    "* [[W](https://en.wikipedia.org/wiki/Wilhelm_von_Humboldt)] Humboldt, Wilhelm Von (1767-1835)\n",
    "* [[W](https://en.wikipedia.org/wiki/Keith_Johnson_(phonetician))] Johnson, Keith (1958-) [[Home](https://linguistics.berkeley.edu/~kjohnson/)]\n",
    "* [[W](https://en.wikipedia.org/wiki/Barbara_Johnstone)] Johnstone, Barbara (1952-)\n",
    "* [[W](https://en.wikipedia.org/wiki/William_Labov)] Labov, William (1927-) [[Home](https://www.ling.upenn.edu/~wlabov/)]\n",
    "* [[W](https://en.wikipedia.org/wiki/Peter_Ladefoged)] Ladefoged, Peter (1925-2006) [[Home](https://linguistics.ucla.edu/people/ladefoge/)]\n",
    "* [[W](https://en.wikipedia.org/wiki/Edward_Sapir)] Sapir, Edward (1884-1939)\n",
    "* [[W](https://en.wikipedia.org/wiki/Benjamin_Lee_Whorf)] Whorf, Benjamin Lee (1897-1941)"
   ]
  },
  {
   "attachments": {},
   "cell_type": "markdown",
   "metadata": {},
   "source": [
    "---"
   ]
  },
  {
   "attachments": {},
   "cell_type": "markdown",
   "metadata": {},
   "source": [
    "## Terms"
   ]
  },
  {
   "attachments": {},
   "cell_type": "markdown",
   "metadata": {},
   "source": [
    "* [[W](https://en.wikipedia.org/wiki/Analytic_language)] Analytic Language\n",
    "* [[W](https://en.wikipedia.org/wiki/History_of_linguistics)] History of Linguistics\n",
    "* [[W](https://en.wikipedia.org/wiki/First_language)] L1 (Native Language)\n",
    "* [[W](https://en.wikipedia.org/wiki/Language_and_thought)] Language and Thought\n",
    "* [[W](https://en.wikipedia.org/wiki/Language_of_thought_hypothesis)] Language of Thought Hypothesis\n",
    "* [[W](https://en.wikipedia.org/wiki/Lingua_franca)] Lingua Franca\n",
    "* [[W](https://en.wikipedia.org/wiki/Linguistic_determinism)] Linguistic Determinism\n",
    "* [[W](https://en.wikipedia.org/wiki/Linguistic_relativity)] Linguistic Relativity (Sapir-Whorf Hypothesis)\n",
    "* [[W](https://en.wikipedia.org/wiki/Linguistic_turn)] Linguistic Turn\n",
    "* [[W](https://en.wikipedia.org/wiki/Linguistic_universal)] Linguistic Universal\n",
    "* [[W](https://en.wikipedia.org/wiki/First_language)] Native Language (L1)\n",
    "* [[W](https://en.wikipedia.org/wiki/Linguistic_relativity)] Sapir-Whorf Hypothesis (Linguistic Relativity)\n",
    "* [[W](https://en.wikipedia.org/wiki/Semantic_ambiguity)] Semantic Ambiguity\n",
    "* [[W](https://en.wikipedia.org/wiki/Syntactic_ambiguity)] Syntactic Ambiguity\n",
    "* [[W](https://en.wikipedia.org/wiki/Synthetic_language)] Synthetic Language"
   ]
  },
  {
   "attachments": {},
   "cell_type": "markdown",
   "metadata": {},
   "source": [
    "* [[W](https://en.wikipedia.org/wiki/Preposition_and_postposition)] Adposition \n",
    "* [[W](https://en.wikipedia.org/wiki/Alphabet)] Alphabet \n",
    "* [[W](https://en.wikipedia.org/wiki/Allomorph)] Allomorph \n",
    "* [[W](https://en.wikipedia.org/wiki/Constructed_language)] Artificial Language or Constructed Language \n",
    "* [[W](https://en.wikipedia.org/wiki/Grammatical_aspect)] Aspect \n",
    "* [[W](https://en.wikipedia.org/wiki/Calque)] Calque \n",
    "* [[W](https://en.wikipedia.org/wiki/Character_(symbol)])] Character \n",
    "* [[W](https://en.wikipedia.org/wiki/Clause)] Clause \n",
    "* [[W](https://en.wikipedia.org/wiki/Cognate)] Cognate \n",
    "* [[W](https://en.wikipedia.org/wiki/Cognitive_linguistics)] Cognitive Linguistics \n",
    "* [[W](https://en.wikipedia.org/wiki/Comparative_linguistics)] Comparative Linguistics \n",
    "* [[W](https://en.wikipedia.org/wiki/Comparative_method)] Comparative Method \n",
    "* [[W](https://en.wikipedia.org/wiki/Computational_lexicology)] Computational Lexicology \n",
    "* [[W](https://en.wikipedia.org/wiki/Computational_linguistics)] Computational Linguistics \n",
    "* [[W](https://en.wikipedia.org/wiki/Consonant)] Consonant \n",
    "* [[W](https://en.wikipedia.org/wiki/Copula_(linguistics)])] Copula \n",
    "* [[W](https://en.wikipedia.org/wiki/Text_corpus)] Corpus \n",
    "* [[W](https://en.wikipedia.org/wiki/Corpus_linguistics)] Corpus Linguistics \n",
    "* [[W](https://en.wikipedia.org/wiki/Creole_language)] Creole \n",
    "* [[W](https://en.wikipedia.org/wiki/Cursive)] Cursive or Longhand or Script \n",
    "* [[W](https://en.wikipedia.org/wiki/Daughter_language)] Daughter Language \n",
    "* [[W](https://en.wikipedia.org/wiki/Linguistic_description)] Descriptivism \n",
    "* [[W](https://en.wikipedia.org/wiki/Synchrony_and_diachrony)] Diachrony \n",
    "* [[W](https://en.wikipedia.org/wiki/Diacritic)] Diacritic \n",
    "* [[W](https://en.wikipedia.org/wiki/Dialect)] Dialect \n",
    "* [[W](https://en.wikipedia.org/wiki/Dialect_continuum)] Dialect Continuum \n",
    "* [[W](https://en.wikipedia.org/wiki/Dictionary)] Dictionary \n",
    "* [[W](https://en.wikipedia.org/wiki/Discourse)] Discourse \n",
    "* [[W](https://en.wikipedia.org/wiki/Discourse_marker)] Discourse Marker \n",
    "* [[W](https://en.wikipedia.org/wiki/Etymology)] Etymology \n",
    "* [[W](https://en.wikipedia.org/wiki/Evolutionary_linguistics)] Evolutionary Linguistics \n",
    "* [[W](https://en.wikipedia.org/wiki/Figure_of_speech)] Figure of Speech \n",
    "* [[W](https://en.wikipedia.org/wiki/Formalism_(linguistics)])] Formal Linguistics or Formalism \n",
    "* [[W](https://en.wikipedia.org/wiki/Functional_linguistics)] Functional Linguistics or Functionalism \n",
    "* [[W](https://en.wikipedia.org/wiki/Genetic_relationship_(linguistics)])] Genealogy \n",
    "* [[W](https://en.wikipedia.org/wiki/Generative_grammar)] Generative Linguistics or Generativism \n",
    "* [[W](https://en.wikipedia.org/wiki/Gerund)] Gerund \n",
    "* [[W](https://en.wikipedia.org/wiki/Glyph)] Glyph \n",
    "* [[W](https://en.wikipedia.org/wiki/Grammar)] Grammar \n",
    "* [[W](https://en.wikipedia.org/wiki/Grapheme)] Grapheme \n",
    "* [[W](https://en.wikipedia.org/wiki/Grassmann%27s_law)] Grassmann's Law \n",
    "* [[W](https://en.wikipedia.org/wiki/Grimm%27s_law)] Grimm's Law \n",
    "* [[W](https://en.wikipedia.org/wiki/Haplology)] Haplology\n",
    "* [[W](https://en.wikipedia.org/wiki/Egyptian_hieroglyphs)] Hieroglyph \n",
    "* [[W](https://en.wikipedia.org/wiki/Historical_linguistics)] Historical Linguistics \n",
    "* [[W](https://en.wikipedia.org/wiki/Ideogram)] Ideogram or Ideograph \n",
    "* [[W](https://en.wikipedia.org/wiki/Idiolect)] Idiolect \n",
    "* [[W](https://en.wikipedia.org/wiki/Illocutionary_act)] Illocution \n",
    "* [[W](https://en.wikipedia.org/wiki/Inflection)] Inflection \n",
    "* [[W](https://en.wikipedia.org/wiki/Interlocutor_(linguistics)])] Interlocutor \n",
    "* [[W](https://en.wikipedia.org/wiki/Interrogative)] Interrogative \n",
    "* [[W](https://en.wikipedia.org/wiki/Intonation_(linguistics)])] Intonation \n",
    "* [[W](https://en.wikipedia.org/wiki/Language_change)] Language Change \n",
    "* [[W](https://en.wikipedia.org/wiki/Language_classification)] Language Classification \n",
    "* [W] Language Comprehension\n",
    "* [[W](https://en.wikipedia.org/wiki/Language_family)] Language Family \n",
    "* [[W](https://en.wikipedia.org/wiki/Language_isolate)] Language Isolate \n",
    "* [[W](https://en.wikipedia.org/wiki/Language_of_thought_hypothesis)] LOTH Language of Thought Hypothesis [[SEP](https://plato.stanford.edu/entries/language-thought/)]\n",
    "* [[W](https://en.wikipedia.org/wiki/Language_production)] Language Production \n",
    "* [[W](https://en.wikipedia.org/wiki/Letter_(alphabet)])] Letter \n",
    "* [[W](https://en.wikipedia.org/wiki/Lexeme)] Lexeme \n",
    "* [[W](https://en.wikipedia.org/wiki/Lexicography)] Lexicography \n",
    "* [[W](https://en.wikipedia.org/wiki/Lexicology)] Lexicology \n",
    "* [[W](https://en.wikipedia.org/wiki/Lexicon)] Lexicon \n",
    "* [[W](https://en.wikipedia.org/wiki/Lexis_(linguistics)])] Lexis \n",
    "* [[W](https://en.wikipedia.org/wiki/Linguistic_determinism)] Linguistic Determinism \n",
    "* [[W](https://en.wikipedia.org/wiki/Linguistic_philosophy)] Linguistic Philosophy \n",
    "* [[W](https://en.wikipedia.org/wiki/Linguistic_reconstruction)] Linguistic Reconstruction \n",
    "* [[W](https://en.wikipedia.org/wiki/Linguistic_relativity)] Linguistic Relativity or the Sapir-Whorf Hypothesis \n",
    "* [[W](https://en.wikipedia.org/wiki/Linguistic_turn)] The Linguistic Turn \n",
    "* [[W](https://en.wikipedia.org/wiki/Linguistics)] Linguistics \n",
    "* [[W](https://en.wikipedia.org/wiki/Loanword)] Loanword \n",
    "* [[W](https://en.wikipedia.org/wiki/Locutionary_act)] Locution \n",
    "* [[W](https://en.wikipedia.org/wiki/Logogram)] Logogram or Logograph \n",
    "* [[W](https://en.wikipedia.org/wiki/Metaphor)] Metaphor \n",
    "* [[W](https://en.wikipedia.org/wiki/Modality_(natural_language)])] Modality \n",
    "* [[W](https://en.wikipedia.org/wiki/Grammatical_mood)] Mood \n",
    "* [[W](https://en.wikipedia.org/wiki/Mora_(linguistics)])] Mora \n",
    "* [[W](https://en.wikipedia.org/wiki/Morpheme)] Morpheme \n",
    "* [[W](https://en.wikipedia.org/wiki/Morphology_(linguistics)])] Morphology \n",
    "* [[W](https://en.wikipedia.org/wiki/Neogrammarian)] Neogrammarian Hypothesis \n",
    "* [[W](https://en.wikipedia.org/wiki/Neurolinguistics)] Neurolinguistics \n",
    "* [[W](https://en.wikipedia.org/wiki/Numeral_(linguistics)])] Numeral \n",
    "* [[W](https://en.wikipedia.org/wiki/Onomasiology)] Onomasiology \n",
    "* [[W](https://en.wikipedia.org/wiki/Onomastics)] Onomastics \n",
    "* [[W](https://en.wikipedia.org/wiki/Ordinary_language_philosophy)] Ordinary Language Philosophy \n",
    "* [[W](https://en.wikipedia.org/wiki/Origin_of_language)] Origin of Language \n",
    "* [[W](https://en.wikipedia.org/wiki/Origin_of_speech)] Origin of Speech \n",
    "* [[W](https://en.wikipedia.org/wiki/Orthography)] Orthography\n",
    "* [W] Orthonym\n",
    "* [[W](https://en.wikipedia.org/wiki/Paradigm)] Paradigm \n",
    "* [[W](https://en.wikipedia.org/wiki/Paradigmatic_analysis)] Paradigmatic Analysis \n",
    "* [[W](https://en.wikipedia.org/wiki/Participle)] Participle \n",
    "* [[W](https://en.wikipedia.org/wiki/Grammatical_particle)] Particle \n",
    "* [[W](https://en.wikipedia.org/wiki/Performative_utterance)] Performative Utterance \n",
    "* [[W](https://en.wikipedia.org/wiki/Periphrasis)] Periphrasis \n",
    "* [[W](https://en.wikipedia.org/wiki/Perlocutionary_act)] Perlocution \n",
    "* [[W](https://en.wikipedia.org/wiki/Petroglyph)] Petroglyph \n",
    "* [[W](https://en.wikipedia.org/wiki/Phatic_expression)] Phatic Expression \n",
    "* [[W](https://en.wikipedia.org/wiki/Philology)] Philology \n",
    "* [[W](https://en.wikipedia.org/wiki/Philosophy_of_language)] Philosophy of Language \n",
    "* [W][[SEP](https://plato.stanford.edu/entries/linguistics/)] Philosophy of Linguistics \n",
    "* [[W](https://en.wikipedia.org/wiki/Pictogram)] Pictogram or Pictograph\n",
    "* [[W](https://en.wikipedia.org/wiki/Pleonasm)] Pleonasm\n",
    "* [[W](https://en.wikipedia.org/wiki/Preposition_and_postposition)] Postposition \n",
    "* [[W](https://en.wikipedia.org/wiki/Pragmatics)] Pragmatics \n",
    "* [[W](https://en.wikipedia.org/wiki/Predicate_(grammar)])] Predicate \n",
    "* [[W](https://en.wikipedia.org/wiki/Preposition_and_postposition)] Preposition \n",
    "* [[W](https://en.wikipedia.org/wiki/Linguistic_prescription)] Prescriptivism \n",
    "* [[W](https://en.wikipedia.org/wiki/Pronunciation)] Pronunciation \n",
    "* [[W](https://en.wikipedia.org/wiki/Prosody_%28linguistics%29)] Prosody \n",
    "* [[W](https://en.wikipedia.org/wiki/Proto-language)] Proto Language \n",
    "* [[W](https://en.wikipedia.org/wiki/Psycholinguistics)] Psycholinguistics \n",
    "* [[W](https://en.wikipedia.org/wiki/Punctuation)] Punctuation \n",
    "* [[W](https://en.wikipedia.org/wiki/Topic_and_comment)] Rheme \n",
    "* [[W](https://en.wikipedia.org/wiki/Rhetoric)] Rhetoric \n",
    "* [[W](https://en.wikipedia.org/wiki/Rhetorical_device)] Rhetorical Device \n",
    "* [[W](https://en.wikipedia.org/wiki/Isochrony)] Rhythm or Isochrony \n",
    "* [[W](https://en.wikipedia.org/wiki/Semantics)] Semantics \n",
    "* [[W](https://en.wikipedia.org/wiki/Semasiography)] Semasiography \n",
    "* [[W](https://en.wikipedia.org/wiki/Semasiology)] Semasiology \n",
    "* [[W](https://en.wikipedia.org/wiki/Semiotics)] Semiotics \n",
    "* [[W](https://en.wikipedia.org/wiki/Sentence_(linguistics)])] Sentence \n",
    "* [[W](https://en.wikipedia.org/wiki/Shorthand)] Shorthand \n",
    "* [[W](https://en.wikipedia.org/wiki/Sign_(semiotics)])] Sign \n",
    "* [[W](https://en.wikipedia.org/wiki/Sister_language)] Sister Language \n",
    "* [[W](https://en.wikipedia.org/wiki/Sociolect)] Sociolect \n",
    "* [[W](https://en.wikipedia.org/wiki/Sociolinguistics)] Sociolinguistics \n",
    "* [[W](https://en.wikipedia.org/wiki/Sound_change)] Sound Change \n",
    "* [[W](https://en.wikipedia.org/wiki/Speech)] Speech \n",
    "* [[W](https://en.wikipedia.org/wiki/Speech_act)] Speech Act \n",
    "* [[W](https://en.wikipedia.org/wiki/Speech_perception)] Speech Perception \n",
    "* [[W](https://en.wikipedia.org/wiki/Speech_production)] Speech Production \n",
    "* [[W](https://en.wikipedia.org/wiki/Stress_(linguistics)])] Stress \n",
    "* [[W](https://en.wikipedia.org/wiki/Structural_linguistics)] Structural Linguistics or Structuralism \n",
    "* [[W](https://en.wikipedia.org/wiki/Subject_(grammar)])] Subject \n",
    "* [[W](https://en.wikipedia.org/wiki/Syllabary)] Syllabary \n",
    "* [[W](https://en.wikipedia.org/wiki/Syllable)] Syllable \n",
    "* [[W](https://en.wikipedia.org/wiki/Symbol)] Symbol \n",
    "* [[W](https://en.wikipedia.org/wiki/Synchrony_and_diachrony)] Synchrony \n",
    "* [[w](https://en.wikipedia.org/wiki/Syncope_(phonology))] Syncope\n",
    "* [[W](https://en.wikipedia.org/wiki/Syntactic_change)] Syntactic Change \n",
    "* [[W](https://en.wikipedia.org/wiki/Syntagma_(linguistics)])] Syntagm \n",
    "* [[W](https://en.wikipedia.org/wiki/Syntagmatic_analysis)] Syntagmatic Analysis \n",
    "* [[W](https://en.wikipedia.org/wiki/Syntax)] Syntax \n",
    "* [[W](https://en.wikipedia.org/wiki/Grammatical_tense)] Tense \n",
    "* [[W](https://en.wikipedia.org/wiki/Topic_and_comment)] Theme \n",
    "* [[W](https://en.wikipedia.org/wiki/Theory_of_language)] Theory of Language \n",
    "* [[W](https://en.wikipedia.org/wiki/Thesaurus)] Thesaurus \n",
    "* [[W](https://en.wikipedia.org/wiki/Tone_(linguistics)])] Tone \n",
    "* [W] Toponym\n",
    "* [[W](https://en.wikipedia.org/wiki/Toponymy)] Toponymy \n",
    "* [[W](https://en.wikipedia.org/wiki/Tree_model)] Tree Model \n",
    "* [[W](https://en.wikipedia.org/wiki/Trope_(literature)])] Trope \n",
    "* [[W](https://en.wikipedia.org/wiki/Typeface)] Typeface "
   ]
  },
  {
   "attachments": {},
   "cell_type": "markdown",
   "metadata": {},
   "source": [
    "---"
   ]
  }
 ],
 "metadata": {
  "kernelspec": {
   "display_name": "main",
   "language": "python",
   "name": "python3"
  },
  "language_info": {
   "codemirror_mode": {
    "name": "ipython",
    "version": 3
   },
   "file_extension": ".py",
   "mimetype": "text/x-python",
   "name": "python",
   "nbconvert_exporter": "python",
   "pygments_lexer": "ipython3",
   "version": "3.10.8"
  },
  "orig_nbformat": 4
 },
 "nbformat": 4,
 "nbformat_minor": 2
}
