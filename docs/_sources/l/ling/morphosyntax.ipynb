{
 "cells": [
  {
   "attachments": {},
   "cell_type": "markdown",
   "metadata": {},
   "source": [
    "# Morphology & Syntax"
   ]
  },
  {
   "attachments": {},
   "cell_type": "markdown",
   "metadata": {},
   "source": [
    "---"
   ]
  },
  {
   "cell_type": "markdown",
   "metadata": {},
   "source": [
    "## Case"
   ]
  },
  {
   "cell_type": "markdown",
   "metadata": {},
   "source": [
    "* [ [w](https://en.wikipedia.org/wiki/Ablative_case) ] Ablative Case (Abl)\n",
    "* [ [w](https://en.wikipedia.org/wiki/Adessive_case) ] Adesive Case (Ade)\n",
    "* [ [w](https://en.wikipedia.org/wiki/Allative_case) ] Allative Case (All)\n",
    "* [ [w](https://en.wikipedia.org/wiki/Delative_case) ] Delative Case (Del)\n",
    "* [ [w](https://en.wikipedia.org/wiki/Elative_case) ] Elative Case (Ela)\n",
    "* [ [w](https://en.wikipedia.org/wiki/Illative_case) ] Illative Case (Ill)\n",
    "* [ [w](https://en.wikipedia.org/wiki/Inessive_case) ] Inessive Case (Ine)\n",
    "* [ [w](https://en.wikipedia.org/wiki/Lative_case) ] Lative Case (Lat)\n",
    "* [ [w](https://en.wikipedia.org/wiki/Locative_case) ] Locative Case (Loc)\n",
    "* [ [w](https://en.wikipedia.org/wiki/Superessive_case) ] Superessive Case (Supe)"
   ]
  },
  {
   "cell_type": "markdown",
   "metadata": {},
   "source": [
    "---"
   ]
  },
  {
   "attachments": {},
   "cell_type": "markdown",
   "metadata": {},
   "source": [
    "## Figures"
   ]
  },
  {
   "attachments": {},
   "cell_type": "markdown",
   "metadata": {},
   "source": [
    "* [ [w](https://en.wikipedia.org/wiki/Emil_Leon_Post) ] Post, Emil (1897-1954)\n",
    "* [ [w](https://en.wikipedia.org/wiki/Lucien_Tesni%C3%A8re) ] Tesnière, Lucien (1893-1954)"
   ]
  },
  {
   "attachments": {},
   "cell_type": "markdown",
   "metadata": {},
   "source": [
    "---"
   ]
  },
  {
   "attachments": {},
   "cell_type": "markdown",
   "metadata": {},
   "source": [
    "## Terms"
   ]
  },
  {
   "attachments": {},
   "cell_type": "markdown",
   "metadata": {},
   "source": [
    "* [ [w](https://en.wikipedia.org/wiki/Ablative_case) ] Ablative Case\n",
    "* [ [w](https://en.wikipedia.org/wiki/Adessive_case) ] Adesive Case\n",
    "* [ [w](https://en.wikipedia.org/wiki/Allative_case) ] Allative Case\n",
    "* [ [w](https://en.wikipedia.org/wiki/Binding_(linguistics)) ] Binding\n",
    "* [ w ] Case\n",
    "* [ [w](https://en.wikipedia.org/wiki/Catena_(linguistics)) ] Catena\n",
    "* [ [w](https://en.wikipedia.org/wiki/Chomsky_hierarchy) ] Chomsky Hierarchy\n",
    "* [ [w](https://en.wikipedia.org/wiki/Context-free_grammar) ] Context-Free Grammar\n",
    "* [ [w](https://en.wikipedia.org/wiki/Context-sensitive_grammar) ] Context-Sensitive Grammar\n",
    "* [ [w](https://en.wikipedia.org/wiki/Delative_case) ] Delative Case\n",
    "* [ [w](https://en.wikipedia.org/wiki/Dependency_grammar) ] Dependency Grammar\n",
    "* [ [w](https://en.wikipedia.org/wiki/Elative_case) ] Elative Case\n",
    "* [ [w](https://en.wikipedia.org/wiki/Formal_grammar) ] Formal Grammar\n",
    "* [ [w](https://en.wikipedia.org/wiki/Formal_language) ] Formal Language\n",
    "* [ [w](https://en.wikipedia.org/wiki/Generative_grammar) ] Generative Grammar\n",
    "* [ [w](https://en.wikipedia.org/wiki/Government_(linguistics)) ] Government\n",
    "* [ [w](https://en.wikipedia.org/wiki/Government_and_binding_theory) ] Government and Binding\n",
    "* [ [w](https://en.wikipedia.org/wiki/Illative_case) ] Illative Case\n",
    "* [ [w](https://en.wikipedia.org/wiki/Inessive_case) ] Inessive Case\n",
    "* [ [w](https://en.wikipedia.org/wiki/Lative_case) ] Lative Case\n",
    "* [ [w](https://en.wikipedia.org/wiki/Lexical_functional_grammar) ] Lexical Functional Grammar\n",
    "* [ [w](https://en.wikipedia.org/wiki/Locative_case) ] Locative Case\n",
    "* [ [w](https://en.wikipedia.org/wiki/Minimalist_program) ] Minimalist Program\n",
    "* [ w ] Morphology\n",
    "* [ w ] Morphosyntax\n",
    "* [ [w](https://en.wikipedia.org/wiki/Parsing) ] Parsing\n",
    "* [ [w](https://en.wikipedia.org/wiki/Part_of_speech) ] Part of Speech\n",
    "* [ [w](https://en.wikipedia.org/wiki/Phrase_structure_grammar) ] Phrase Structure Grammar\n",
    "* [ [w](https://en.wikipedia.org/wiki/Principles_and_parameters) ] Principles and Parameters\n",
    "* [ [w](https://en.wikipedia.org/wiki/Post_canonical_system) ] Post Canonical System\n",
    "* [ [w](https://en.wikipedia.org/wiki/Production_(computer_science)) ] Production Rule\n",
    "* [ [w](https://en.wikipedia.org/wiki/Rewriting) ] Rewriting\n",
    "* [ [w](https://en.wikipedia.org/wiki/Semi-Thue_system) ] String Rewriting System\n",
    "* [ [w](https://en.wikipedia.org/wiki/Superessive_case) ] Superessive Case\n",
    "* [ w ] Syntax\n",
    "* [ [w](https://en.wikipedia.org/wiki/Terminal_and_nonterminal_symbols) ] Terminal Symbol\n",
    "* [ [w](https://en.wikipedia.org/wiki/Transformational_grammar) ] Transformational Grammar\n",
    "* [ [w](https://en.wikipedia.org/wiki/Unrestricted_grammar) ] Unrestricted Grammar"
   ]
  },
  {
   "attachments": {},
   "cell_type": "markdown",
   "metadata": {},
   "source": [
    "---"
   ]
  }
 ],
 "metadata": {
  "language_info": {
   "name": "python"
  },
  "orig_nbformat": 4
 },
 "nbformat": 4,
 "nbformat_minor": 2
}
