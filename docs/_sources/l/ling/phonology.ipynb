{
 "cells": [
  {
   "attachments": {},
   "cell_type": "markdown",
   "metadata": {},
   "source": [
    "# Phonology"
   ]
  },
  {
   "attachments": {},
   "cell_type": "markdown",
   "metadata": {},
   "source": [
    "---"
   ]
  },
  {
   "attachments": {},
   "cell_type": "markdown",
   "metadata": {},
   "source": [
    "```{admonition} Revised\n",
    "24 Mar 2023\n",
    "```\n",
    "```{contents}\n",
    "```"
   ]
  },
  {
   "attachments": {},
   "cell_type": "markdown",
   "metadata": {},
   "source": [
    "---"
   ]
  },
  {
   "attachments": {},
   "cell_type": "markdown",
   "metadata": {},
   "source": [
    "## Texts"
   ]
  },
  {
   "attachments": {},
   "cell_type": "markdown",
   "metadata": {},
   "source": [
    "* Clark, John; Colin Yallop; & Janet Fletcher. (2007). _An Introduction to Phonetics and Phonology_. 3rd Ed. [Wiley-Blackwell](https://www.wiley.com/en-us/An+Introduction+to+Phonetics+and+Phonology%2C+3rd+Edition-p-9781405130837).\n",
    "* Hayes, Bruce. (2011). _Introductory Phonology_. [Wiley-Blackwell](https://www.wiley.com/en-us/Introductory+Phonology-p-9781444360134): Blackwell Texts in Linguistics.\n",
    "* Kenstowicz, Michael. (1994). _Phonology in Generative Grammar_. [Wiley-Blackwell](https://www.wiley.com/en-us/Phonology+in+Generative+Grammar-p-9781557864260): Blackwell Texts in Linguistics."
   ]
  },
  {
   "attachments": {},
   "cell_type": "markdown",
   "metadata": {},
   "source": [
    "---"
   ]
  },
  {
   "attachments": {},
   "cell_type": "markdown",
   "metadata": {},
   "source": [
    "## Figures"
   ]
  },
  {
   "attachments": {},
   "cell_type": "markdown",
   "metadata": {},
   "source": [
    "* Hayes, Bruce [[Home](https://linguistics.ucla.edu/people/hayes/)]"
   ]
  },
  {
   "attachments": {},
   "cell_type": "markdown",
   "metadata": {},
   "source": [
    "---"
   ]
  },
  {
   "attachments": {},
   "cell_type": "markdown",
   "metadata": {},
   "source": [
    "## Terms"
   ]
  },
  {
   "attachments": {},
   "cell_type": "markdown",
   "metadata": {},
   "source": [
    "* [[W](https://en.wikipedia.org/wiki/Allophone)] Allophone\n",
    "* [[W](https://en.wikipedia.org/wiki/Autosegmental_phonology)] Autosegmental Phonology\n",
    "* [[W](https://en.wikipedia.org/wiki/Phone_(phonetics))] Phone\n",
    "* [[W](https://en.wikipedia.org/wiki/Phoneme)] Phoneme\n",
    "* [[W](https://en.wikipedia.org/wiki/Phonogram_(linguistics))] Phonogram\n",
    "* [[W](https://en.wikipedia.org/wiki/Phonogram_(linguistics))] Phonograph\n",
    "* [[W](https://en.wikipedia.org/wiki/Phonology)] Phonology"
   ]
  },
  {
   "attachments": {},
   "cell_type": "markdown",
   "metadata": {},
   "source": [
    "---"
   ]
  }
 ],
 "metadata": {
  "language_info": {
   "name": "python"
  },
  "orig_nbformat": 4
 },
 "nbformat": 4,
 "nbformat_minor": 2
}
