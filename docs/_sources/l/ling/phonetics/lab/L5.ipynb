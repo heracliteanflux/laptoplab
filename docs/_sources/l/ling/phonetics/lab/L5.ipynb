{
 "cells": [
  {
   "attachments": {},
   "cell_type": "markdown",
   "metadata": {},
   "source": [
    "# Analysis of a stop continuum\n",
    "[5]\n",
    "\n",
    "LING 497 Phonetic Analysis: Articulation, Acoustics, Audition\n",
    "\n",
    "The Pennsylvania State University\n",
    "\n",
    "[Prof. Deborah Morton](https://deborahcmorton.wordpress.com/)"
   ]
  },
  {
   "attachments": {},
   "cell_type": "markdown",
   "metadata": {},
   "source": [
    "---"
   ]
  },
  {
   "attachments": {},
   "cell_type": "markdown",
   "metadata": {},
   "source": [
    "```{admonition} Revised\n",
    "25 May 2023\n",
    "```\n",
    "```{contents}\n",
    "```"
   ]
  },
  {
   "attachments": {},
   "cell_type": "markdown",
   "metadata": {},
   "source": [
    "---"
   ]
  },
  {
   "attachments": {},
   "cell_type": "markdown",
   "metadata": {},
   "source": [
    "## Programming Environment"
   ]
  },
  {
   "cell_type": "code",
   "execution_count": 2,
   "metadata": {
    "tags": [
     "hide-input"
    ],
    "vscode": {
     "languageId": "r"
    }
   },
   "outputs": [
    {
     "data": {
      "text/html": [
       "'R version 4.3.0 (2023-04-21)'"
      ],
      "text/latex": [
       "'R version 4.3.0 (2023-04-21)'"
      ],
      "text/markdown": [
       "'R version 4.3.0 (2023-04-21)'"
      ],
      "text/plain": [
       "[1] \"R version 4.3.0 (2023-04-21)\""
      ]
     },
     "metadata": {},
     "output_type": "display_data"
    },
    {
     "data": {
      "text/html": [
       "'/Library/Frameworks/R.framework/Versions/4.3-arm64/Resources/library'"
      ],
      "text/latex": [
       "'/Library/Frameworks/R.framework/Versions/4.3-arm64/Resources/library'"
      ],
      "text/markdown": [
       "'/Library/Frameworks/R.framework/Versions/4.3-arm64/Resources/library'"
      ],
      "text/plain": [
       "[1] \"/Library/Frameworks/R.framework/Versions/4.3-arm64/Resources/library\""
      ]
     },
     "metadata": {},
     "output_type": "display_data"
    },
    {
     "name": "stderr",
     "output_type": "stream",
     "text": [
      "── \u001b[1mAttaching core tidyverse packages\u001b[22m ──────────────────────── tidyverse 2.0.0 ──\n",
      "\u001b[32m✔\u001b[39m \u001b[34mdplyr    \u001b[39m 1.1.2     \u001b[32m✔\u001b[39m \u001b[34mreadr    \u001b[39m 2.1.4\n",
      "\u001b[32m✔\u001b[39m \u001b[34mforcats  \u001b[39m 1.0.0     \u001b[32m✔\u001b[39m \u001b[34mstringr  \u001b[39m 1.5.0\n",
      "\u001b[32m✔\u001b[39m \u001b[34mggplot2  \u001b[39m 3.4.2     \u001b[32m✔\u001b[39m \u001b[34mtibble   \u001b[39m 3.2.1\n",
      "\u001b[32m✔\u001b[39m \u001b[34mlubridate\u001b[39m 1.9.2     \u001b[32m✔\u001b[39m \u001b[34mtidyr    \u001b[39m 1.3.0\n",
      "\u001b[32m✔\u001b[39m \u001b[34mpurrr    \u001b[39m 1.0.1     \n",
      "── \u001b[1mConflicts\u001b[22m ────────────────────────────────────────── tidyverse_conflicts() ──\n",
      "\u001b[31m✖\u001b[39m \u001b[34mreadr\u001b[39m::\u001b[32mcol_factor()\u001b[39m masks \u001b[34mscales\u001b[39m::col_factor()\n",
      "\u001b[31m✖\u001b[39m \u001b[34mdplyr\u001b[39m::\u001b[32mcombine()\u001b[39m    masks \u001b[34mgridExtra\u001b[39m::combine()\n",
      "\u001b[31m✖\u001b[39m \u001b[34mpurrr\u001b[39m::\u001b[32mdiscard()\u001b[39m    masks \u001b[34mscales\u001b[39m::discard()\n",
      "\u001b[31m✖\u001b[39m \u001b[34mtidyr\u001b[39m::\u001b[32mextract()\u001b[39m    masks \u001b[34mmagrittr\u001b[39m::extract()\n",
      "\u001b[31m✖\u001b[39m \u001b[34mdplyr\u001b[39m::\u001b[32mfilter()\u001b[39m     masks \u001b[34mstats\u001b[39m::filter()\n",
      "\u001b[31m✖\u001b[39m \u001b[34mdplyr\u001b[39m::\u001b[32mlag()\u001b[39m        masks \u001b[34mstats\u001b[39m::lag()\n",
      "\u001b[31m✖\u001b[39m \u001b[34mpurrr\u001b[39m::\u001b[32mset_names()\u001b[39m  masks \u001b[34mmagrittr\u001b[39m::set_names()\n",
      "\u001b[36mℹ\u001b[39m Use the conflicted package (\u001b[3m\u001b[34m<http://conflicted.r-lib.org/>\u001b[39m\u001b[23m) to force all conflicts to become errors\n"
     ]
    }
   ],
   "source": [
    "R.version.string # R.Version()\n",
    ".libPaths()\n",
    "\n",
    "packages <- c(\n",
    "  'gridExtra',\n",
    "  'magrittr',\n",
    "  'phonR',\n",
    "  'repr',\n",
    "  'scales',\n",
    "  'tidyverse',\n",
    "  'vowels'\n",
    ")\n",
    "\n",
    "# Install packages not yet installed\n",
    "installed_packages <- packages %in% rownames(installed.packages())\n",
    "if (any(installed_packages == FALSE)) {\n",
    "  install.packages(packages[!installed_packages])\n",
    "}\n",
    "\n",
    "# Load packages\n",
    "invisible(lapply(packages, library, character.only = TRUE))"
   ]
  },
  {
   "attachments": {},
   "cell_type": "markdown",
   "metadata": {},
   "source": [
    "---"
   ]
  },
  {
   "attachments": {},
   "cell_type": "markdown",
   "metadata": {},
   "source": [
    "## Measuring VOT along the [pa]-[ba] stimulus continuum"
   ]
  },
  {
   "cell_type": "code",
   "execution_count": 17,
   "metadata": {
    "tags": [
     "hide-input"
    ],
    "vscode": {
     "languageId": "r"
    }
   },
   "outputs": [
    {
     "data": {
      "text/html": [
       "<table class=\"dataframe\">\n",
       "<caption>A tibble: 8 × 2</caption>\n",
       "<thead>\n",
       "\t<tr><th scope=col>stimulus</th><th scope=col>vot_ms</th></tr>\n",
       "\t<tr><th scope=col>&lt;chr&gt;</th><th scope=col>&lt;dbl&gt;</th></tr>\n",
       "</thead>\n",
       "<tbody>\n",
       "\t<tr><td>pa </td><td> 0.072</td></tr>\n",
       "\t<tr><td>pa1</td><td> 0.061</td></tr>\n",
       "\t<tr><td>pa2</td><td> 0.050</td></tr>\n",
       "\t<tr><td>pa3</td><td> 0.039</td></tr>\n",
       "\t<tr><td>pa4</td><td> 0.028</td></tr>\n",
       "\t<tr><td>pa5</td><td> 0.017</td></tr>\n",
       "\t<tr><td>pa6</td><td> 0.006</td></tr>\n",
       "\t<tr><td>ba </td><td>-0.084</td></tr>\n",
       "</tbody>\n",
       "</table>\n"
      ],
      "text/latex": [
       "A tibble: 8 × 2\n",
       "\\begin{tabular}{ll}\n",
       " stimulus & vot\\_ms\\\\\n",
       " <chr> & <dbl>\\\\\n",
       "\\hline\n",
       "\t pa  &  0.072\\\\\n",
       "\t pa1 &  0.061\\\\\n",
       "\t pa2 &  0.050\\\\\n",
       "\t pa3 &  0.039\\\\\n",
       "\t pa4 &  0.028\\\\\n",
       "\t pa5 &  0.017\\\\\n",
       "\t pa6 &  0.006\\\\\n",
       "\t ba  & -0.084\\\\\n",
       "\\end{tabular}\n"
      ],
      "text/markdown": [
       "\n",
       "A tibble: 8 × 2\n",
       "\n",
       "| stimulus &lt;chr&gt; | vot_ms &lt;dbl&gt; |\n",
       "|---|---|\n",
       "| pa  |  0.072 |\n",
       "| pa1 |  0.061 |\n",
       "| pa2 |  0.050 |\n",
       "| pa3 |  0.039 |\n",
       "| pa4 |  0.028 |\n",
       "| pa5 |  0.017 |\n",
       "| pa6 |  0.006 |\n",
       "| ba  | -0.084 |\n",
       "\n"
      ],
      "text/plain": [
       "  stimulus vot_ms\n",
       "1 pa        0.072\n",
       "2 pa1       0.061\n",
       "3 pa2       0.050\n",
       "4 pa3       0.039\n",
       "5 pa4       0.028\n",
       "6 pa5       0.017\n",
       "7 pa6       0.006\n",
       "8 ba       -0.084"
      ]
     },
     "metadata": {},
     "output_type": "display_data"
    }
   ],
   "source": [
    "vot <- tribble(\n",
    "  ~stimulus,~vot_ms,\n",
    "       'pa',  0.072,\n",
    "      'pa1',  0.061,\n",
    "      'pa2',  0.050,\n",
    "      'pa3',  0.039,\n",
    "      'pa4',  0.028,\n",
    "      'pa5',  0.017,\n",
    "      'pa6',  0.006,\n",
    "       'ba', -0.084\n",
    ")\n",
    "vot"
   ]
  },
  {
   "attachments": {},
   "cell_type": "markdown",
   "metadata": {},
   "source": [
    "`````{tab-set}\n",
    "````{tab-item} pa\n",
    "![](img/L5_pa0.png)\n",
    "````\n",
    "````{tab-item} pa1\n",
    "![](img/L5_pa1.png)\n",
    "````\n",
    "````{tab-item} pa2\n",
    "![](img/L5_pa2.png)\n",
    "````\n",
    "````{tab-item} pa3\n",
    "![](img/L5_pa3.png)\n",
    "````\n",
    "````{tab-item} pa4\n",
    "![](img/L5_pa4.png)\n",
    "````\n",
    "````{tab-item} pa5\n",
    "![](img/L5_pa5.png)\n",
    "````\n",
    "````{tab-item} pa6\n",
    "![](img/L5_pa6.png)\n",
    "````\n",
    "````{tab-item} ba\n",
    "![](img/L5_ba.png)\n",
    "````\n",
    "`````"
   ]
  },
  {
   "attachments": {},
   "cell_type": "markdown",
   "metadata": {},
   "source": [
    "[1] Which of your tokens sounds the most like your natural [b]?\n",
    "\n",
    "The last token in the sequence of [pa] stimuli, with increasing amounts of aspiration artificially cut from the original, sounds the most like natural [ba].\n",
    "\n",
    "[2] Why do you think your artificial [b] sounds different from the natural [b], if it does?\n",
    "\n",
    "The artificial token may not sound exactly like the natural one because it lacks the negative VOT--or pre-nasalization--that the natural token has. Closure length and vowel duration may also serve as cues that the auditory system perceives and categorizes along the voiced-voiceless dimension."
   ]
  },
  {
   "attachments": {},
   "cell_type": "markdown",
   "metadata": {},
   "source": [
    "## Vowel length manipulation"
   ]
  },
  {
   "cell_type": "code",
   "execution_count": 18,
   "metadata": {
    "tags": [
     "hide-input"
    ],
    "vscode": {
     "languageId": "r"
    }
   },
   "outputs": [
    {
     "data": {
      "text/html": [
       "<table class=\"dataframe\">\n",
       "<caption>A tibble: 2 × 2</caption>\n",
       "<thead>\n",
       "\t<tr><th scope=col>vowel</th><th scope=col>length_ms</th></tr>\n",
       "\t<tr><th scope=col>&lt;chr&gt;</th><th scope=col>&lt;dbl&gt;</th></tr>\n",
       "</thead>\n",
       "<tbody>\n",
       "\t<tr><td>lab</td><td>0.355956</td></tr>\n",
       "\t<tr><td>lap</td><td>0.187661</td></tr>\n",
       "</tbody>\n",
       "</table>\n"
      ],
      "text/latex": [
       "A tibble: 2 × 2\n",
       "\\begin{tabular}{ll}\n",
       " vowel & length\\_ms\\\\\n",
       " <chr> & <dbl>\\\\\n",
       "\\hline\n",
       "\t lab & 0.355956\\\\\n",
       "\t lap & 0.187661\\\\\n",
       "\\end{tabular}\n"
      ],
      "text/markdown": [
       "\n",
       "A tibble: 2 × 2\n",
       "\n",
       "| vowel &lt;chr&gt; | length_ms &lt;dbl&gt; |\n",
       "|---|---|\n",
       "| lab | 0.355956 |\n",
       "| lap | 0.187661 |\n",
       "\n"
      ],
      "text/plain": [
       "  vowel length_ms\n",
       "1 lab   0.355956 \n",
       "2 lap   0.187661 "
      ]
     },
     "metadata": {},
     "output_type": "display_data"
    }
   ],
   "source": [
    "# vowel length\n",
    "vl <- tribble(\n",
    "  ~vowel,~length_ms,\n",
    "   'lab',  0.355956,\n",
    "   'lap',  0.187661,\n",
    ")\n",
    "vl"
   ]
  },
  {
   "attachments": {},
   "cell_type": "markdown",
   "metadata": {},
   "source": [
    "`````{tab-set}\n",
    "````{tab-item} pre manip\n",
    "![](img/L5_0_pre_manip.png)\n",
    "````\n",
    "````{tab-item} manip\n",
    "![](img/L5_1_manip.png)\n",
    "````\n",
    "````{tab-item} post manip\n",
    "![](img/L5_2_post_manip.png)\n",
    "````\n",
    "````{tab-item} brute force\n",
    "![](img/L5_3_manip_bruteforce.png)\n",
    "````\n",
    "`````"
   ]
  },
  {
   "attachments": {},
   "cell_type": "markdown",
   "metadata": {},
   "source": [
    "Which of the two vowel length manipulations do you think produced the most natural-sounding result? Why do you think it was better?\n",
    "\n",
    "Praat's manipulation function produced a more natural-sounding result than simply copy-pasting a sound clip. Based on a comparison of the spectrograms of the two results, it can be seen that Praat's function utilizes an algorithm that genuinely lengthens the continuously chaning sound; on the other hand, the copy-paste approach cuts into the continuous shape of the original speech sound with fixed values for all the relevant properties, including the formants, pitch, phonation, etc."
   ]
  },
  {
   "attachments": {},
   "cell_type": "markdown",
   "metadata": {},
   "source": [
    "---"
   ]
  },
  {
   "attachments": {},
   "cell_type": "markdown",
   "metadata": {},
   "source": [
    "## Terms"
   ]
  },
  {
   "attachments": {},
   "cell_type": "markdown",
   "metadata": {},
   "source": [
    "* [W] Voice Onset Time (VOT)"
   ]
  },
  {
   "attachments": {},
   "cell_type": "markdown",
   "metadata": {},
   "source": [
    "---"
   ]
  }
 ],
 "metadata": {
  "kernelspec": {
   "display_name": "R",
   "language": "R",
   "name": "ir"
  },
  "language_info": {
   "codemirror_mode": "r",
   "file_extension": ".r",
   "mimetype": "text/x-r-source",
   "name": "R",
   "pygments_lexer": "r",
   "version": "4.3.0"
  },
  "orig_nbformat": 4
 },
 "nbformat": 4,
 "nbformat_minor": 2
}
