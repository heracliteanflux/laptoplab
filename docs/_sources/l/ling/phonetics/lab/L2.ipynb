{
 "cells": [
  {
   "attachments": {},
   "cell_type": "markdown",
   "metadata": {},
   "source": [
    "# Acoustic properties of Anii vowels\n",
    "[2]\n",
    "\n",
    "LING 497 Phonetic Analysis: Articulation, Acoustics, Audition\n",
    "\n",
    "The Pennsylvania State University\n",
    "\n",
    "[Prof. Deborah Morton](https://deborahcmorton.wordpress.com/)"
   ]
  },
  {
   "attachments": {},
   "cell_type": "markdown",
   "metadata": {},
   "source": [
    "---"
   ]
  },
  {
   "attachments": {},
   "cell_type": "markdown",
   "metadata": {},
   "source": [
    "```{admonition} Revised\n",
    "25 May 2023\n",
    "```\n",
    "```{contents}\n",
    "```"
   ]
  },
  {
   "attachments": {},
   "cell_type": "markdown",
   "metadata": {},
   "source": [
    "---"
   ]
  },
  {
   "attachments": {},
   "cell_type": "markdown",
   "metadata": {},
   "source": [
    "## Programming Environment"
   ]
  },
  {
   "cell_type": "code",
   "execution_count": 1,
   "metadata": {},
   "outputs": [],
   "source": [
    "import pandas as pd\n",
    "\n",
    "cols=[\n",
    "  'vowel',\n",
    "  'word',\n",
    "  'duration_[s]',\n",
    "  'avg_pitch_[Hz]',\n",
    "  'avg_f1_[Hz]',\n",
    "  'avg_f2_[Hz]',\n",
    "]"
   ]
  },
  {
   "attachments": {},
   "cell_type": "markdown",
   "metadata": {},
   "source": [
    "---"
   ]
  },
  {
   "attachments": {},
   "cell_type": "markdown",
   "metadata": {},
   "source": [
    "## Spectrograms"
   ]
  },
  {
   "attachments": {},
   "cell_type": "markdown",
   "metadata": {},
   "source": [
    "### [ɪŋʊɾʊ]"
   ]
  },
  {
   "cell_type": "code",
   "execution_count": 10,
   "metadata": {},
   "outputs": [
    {
     "data": {
      "text/html": [
       "<div>\n",
       "<style scoped>\n",
       "    .dataframe tbody tr th:only-of-type {\n",
       "        vertical-align: middle;\n",
       "    }\n",
       "\n",
       "    .dataframe tbody tr th {\n",
       "        vertical-align: top;\n",
       "    }\n",
       "\n",
       "    .dataframe thead th {\n",
       "        text-align: right;\n",
       "    }\n",
       "</style>\n",
       "<table border=\"1\" class=\"dataframe\">\n",
       "  <thead>\n",
       "    <tr style=\"text-align: right;\">\n",
       "      <th></th>\n",
       "      <th>vowel</th>\n",
       "      <th>word</th>\n",
       "      <th>duration_[s]</th>\n",
       "      <th>avg_pitch_[Hz]</th>\n",
       "      <th>avg_f1_[Hz]</th>\n",
       "      <th>avg_f2_[Hz]</th>\n",
       "    </tr>\n",
       "  </thead>\n",
       "  <tbody>\n",
       "    <tr>\n",
       "      <th>0</th>\n",
       "      <td>ɪ</td>\n",
       "      <td>ɪŋʊɾʊ</td>\n",
       "      <td>0.086119</td>\n",
       "      <td>93.59</td>\n",
       "      <td>466.690302</td>\n",
       "      <td>1766.545145</td>\n",
       "    </tr>\n",
       "    <tr>\n",
       "      <th>1</th>\n",
       "      <td>ʊ</td>\n",
       "      <td>ɪŋʊɾʊ</td>\n",
       "      <td>0.097062</td>\n",
       "      <td>98.88</td>\n",
       "      <td>515.248472</td>\n",
       "      <td>873.168325</td>\n",
       "    </tr>\n",
       "    <tr>\n",
       "      <th>2</th>\n",
       "      <td>ʊ</td>\n",
       "      <td>ɪŋʊɾʊ</td>\n",
       "      <td>0.044060</td>\n",
       "      <td>100.40</td>\n",
       "      <td>555.185617</td>\n",
       "      <td>1397.695151</td>\n",
       "    </tr>\n",
       "  </tbody>\n",
       "</table>\n",
       "</div>"
      ],
      "text/plain": [
       "  vowel   word  duration_[s]  avg_pitch_[Hz]  avg_f1_[Hz]  avg_f2_[Hz]\n",
       "0     ɪ  ɪŋʊɾʊ      0.086119           93.59   466.690302  1766.545145\n",
       "1     ʊ  ɪŋʊɾʊ      0.097062           98.88   515.248472   873.168325\n",
       "2     ʊ  ɪŋʊɾʊ      0.044060          100.40   555.185617  1397.695151"
      ]
     },
     "execution_count": 10,
     "metadata": {},
     "output_type": "execute_result"
    }
   ],
   "source": [
    "df1 = pd.DataFrame(\n",
    "  data=[\n",
    "    ['ɪ','ɪŋʊɾʊ',0.086119,93.59,466.6903022180635,1766.545144534218],\n",
    "    ['ʊ','ɪŋʊɾʊ',0.097062,98.88,515.24847237277,873.1683246462179],\n",
    "    ['ʊ','ɪŋʊɾʊ',0.044060,100.40,555.185617008055,1397.6951513926542],\n",
    "  ],\n",
    "  columns=cols\n",
    ")\n",
    "df1"
   ]
  },
  {
   "attachments": {},
   "cell_type": "markdown",
   "metadata": {},
   "source": [
    "![](img/L2_0.png)"
   ]
  },
  {
   "attachments": {},
   "cell_type": "markdown",
   "metadata": {},
   "source": [
    "### [gɪtɑnɪ]"
   ]
  },
  {
   "cell_type": "code",
   "execution_count": 12,
   "metadata": {},
   "outputs": [
    {
     "data": {
      "text/html": [
       "<div>\n",
       "<style scoped>\n",
       "    .dataframe tbody tr th:only-of-type {\n",
       "        vertical-align: middle;\n",
       "    }\n",
       "\n",
       "    .dataframe tbody tr th {\n",
       "        vertical-align: top;\n",
       "    }\n",
       "\n",
       "    .dataframe thead th {\n",
       "        text-align: right;\n",
       "    }\n",
       "</style>\n",
       "<table border=\"1\" class=\"dataframe\">\n",
       "  <thead>\n",
       "    <tr style=\"text-align: right;\">\n",
       "      <th></th>\n",
       "      <th>vowel</th>\n",
       "      <th>word</th>\n",
       "      <th>duration_[s]</th>\n",
       "      <th>avg_pitch_[Hz]</th>\n",
       "      <th>avg_f1_[Hz]</th>\n",
       "      <th>avg_f2_[Hz]</th>\n",
       "    </tr>\n",
       "  </thead>\n",
       "  <tbody>\n",
       "    <tr>\n",
       "      <th>0</th>\n",
       "      <td>ɪ</td>\n",
       "      <td>gɪtɑnɪ</td>\n",
       "      <td>0.089908</td>\n",
       "      <td>91.83</td>\n",
       "      <td>364.515698</td>\n",
       "      <td>2023.89102</td>\n",
       "    </tr>\n",
       "    <tr>\n",
       "      <th>1</th>\n",
       "      <td>ɑ</td>\n",
       "      <td>gɪtɑnɪ</td>\n",
       "      <td>0.105583</td>\n",
       "      <td>100.10</td>\n",
       "      <td>688.618371</td>\n",
       "      <td>1492.43191</td>\n",
       "    </tr>\n",
       "    <tr>\n",
       "      <th>2</th>\n",
       "      <td>ɪ</td>\n",
       "      <td>gɪtɑnɪ</td>\n",
       "      <td>0.054948</td>\n",
       "      <td>103.30</td>\n",
       "      <td>479.366160</td>\n",
       "      <td>1835.67780</td>\n",
       "    </tr>\n",
       "  </tbody>\n",
       "</table>\n",
       "</div>"
      ],
      "text/plain": [
       "  vowel    word  duration_[s]  avg_pitch_[Hz]  avg_f1_[Hz]  avg_f2_[Hz]\n",
       "0     ɪ  gɪtɑnɪ      0.089908           91.83   364.515698   2023.89102\n",
       "1     ɑ  gɪtɑnɪ      0.105583          100.10   688.618371   1492.43191\n",
       "2     ɪ  gɪtɑnɪ      0.054948          103.30   479.366160   1835.67780"
      ]
     },
     "execution_count": 12,
     "metadata": {},
     "output_type": "execute_result"
    }
   ],
   "source": [
    "df2 = pd.DataFrame(\n",
    "  data=[\n",
    "    ['ɪ','gɪtɑnɪ',0.089908,91.83,364.51569821825854,2023.891019658131],\n",
    "    ['ɑ','gɪtɑnɪ',0.105583,100.10,688.6183713367284,1492.4319104789486],\n",
    "    ['ɪ','gɪtɑnɪ',0.054948,103.30,479.36615954884286,1835.6777999095636],\n",
    "  ],\n",
    "  columns=cols\n",
    ")\n",
    "df2"
   ]
  },
  {
   "attachments": {},
   "cell_type": "markdown",
   "metadata": {},
   "source": [
    "![](img/L2_1.png)"
   ]
  },
  {
   "attachments": {},
   "cell_type": "markdown",
   "metadata": {},
   "source": [
    "### [gʊfɑŋɑ]"
   ]
  },
  {
   "cell_type": "code",
   "execution_count": 13,
   "metadata": {},
   "outputs": [
    {
     "data": {
      "text/html": [
       "<div>\n",
       "<style scoped>\n",
       "    .dataframe tbody tr th:only-of-type {\n",
       "        vertical-align: middle;\n",
       "    }\n",
       "\n",
       "    .dataframe tbody tr th {\n",
       "        vertical-align: top;\n",
       "    }\n",
       "\n",
       "    .dataframe thead th {\n",
       "        text-align: right;\n",
       "    }\n",
       "</style>\n",
       "<table border=\"1\" class=\"dataframe\">\n",
       "  <thead>\n",
       "    <tr style=\"text-align: right;\">\n",
       "      <th></th>\n",
       "      <th>vowel</th>\n",
       "      <th>word</th>\n",
       "      <th>duration_[s]</th>\n",
       "      <th>avg_pitch_[Hz]</th>\n",
       "      <th>avg_f1_[Hz]</th>\n",
       "      <th>avg_f2_[Hz]</th>\n",
       "    </tr>\n",
       "  </thead>\n",
       "  <tbody>\n",
       "    <tr>\n",
       "      <th>0</th>\n",
       "      <td>ʊ</td>\n",
       "      <td>gʊfɑŋɑ</td>\n",
       "      <td>0.066951</td>\n",
       "      <td>102.3</td>\n",
       "      <td>500.744793</td>\n",
       "      <td>1419.899954</td>\n",
       "    </tr>\n",
       "    <tr>\n",
       "      <th>1</th>\n",
       "      <td>ɑ</td>\n",
       "      <td>gʊfɑŋɑ</td>\n",
       "      <td>0.104393</td>\n",
       "      <td>114.1</td>\n",
       "      <td>656.963974</td>\n",
       "      <td>1261.050130</td>\n",
       "    </tr>\n",
       "    <tr>\n",
       "      <th>2</th>\n",
       "      <td>ɑ</td>\n",
       "      <td>gʊfɑŋɑ</td>\n",
       "      <td>0.082586</td>\n",
       "      <td>115.4</td>\n",
       "      <td>690.044806</td>\n",
       "      <td>1419.744250</td>\n",
       "    </tr>\n",
       "  </tbody>\n",
       "</table>\n",
       "</div>"
      ],
      "text/plain": [
       "  vowel    word  duration_[s]  avg_pitch_[Hz]  avg_f1_[Hz]  avg_f2_[Hz]\n",
       "0     ʊ  gʊfɑŋɑ      0.066951           102.3   500.744793  1419.899954\n",
       "1     ɑ  gʊfɑŋɑ      0.104393           114.1   656.963974  1261.050130\n",
       "2     ɑ  gʊfɑŋɑ      0.082586           115.4   690.044806  1419.744250"
      ]
     },
     "execution_count": 13,
     "metadata": {},
     "output_type": "execute_result"
    }
   ],
   "source": [
    "df3 = pd.DataFrame(\n",
    "  data=[\n",
    "    ['ʊ','gʊfɑŋɑ',0.066951,102.30,500.7447927704425,1419.8999542184863],\n",
    "    ['ɑ','gʊfɑŋɑ',0.104393,114.10,656.9639738790062,1261.0501295780969],\n",
    "    ['ɑ','gʊfɑŋɑ',0.082586,115.40,690.0448058137032,1419.7442499962647],\n",
    "  ],\n",
    "  columns=cols\n",
    ")\n",
    "df3"
   ]
  },
  {
   "attachments": {},
   "cell_type": "markdown",
   "metadata": {},
   "source": [
    "![](img/L2_2.png)"
   ]
  },
  {
   "attachments": {},
   "cell_type": "markdown",
   "metadata": {},
   "source": [
    "### [ŋ̩wɑnɑ]"
   ]
  },
  {
   "cell_type": "code",
   "execution_count": 14,
   "metadata": {},
   "outputs": [
    {
     "data": {
      "text/html": [
       "<div>\n",
       "<style scoped>\n",
       "    .dataframe tbody tr th:only-of-type {\n",
       "        vertical-align: middle;\n",
       "    }\n",
       "\n",
       "    .dataframe tbody tr th {\n",
       "        vertical-align: top;\n",
       "    }\n",
       "\n",
       "    .dataframe thead th {\n",
       "        text-align: right;\n",
       "    }\n",
       "</style>\n",
       "<table border=\"1\" class=\"dataframe\">\n",
       "  <thead>\n",
       "    <tr style=\"text-align: right;\">\n",
       "      <th></th>\n",
       "      <th>vowel</th>\n",
       "      <th>word</th>\n",
       "      <th>duration_[s]</th>\n",
       "      <th>avg_pitch_[Hz]</th>\n",
       "      <th>avg_f1_[Hz]</th>\n",
       "      <th>avg_f2_[Hz]</th>\n",
       "    </tr>\n",
       "  </thead>\n",
       "  <tbody>\n",
       "    <tr>\n",
       "      <th>0</th>\n",
       "      <td>ŋ̩</td>\n",
       "      <td>ŋ̩wɑnɑ</td>\n",
       "      <td>0.109944</td>\n",
       "      <td>103.6</td>\n",
       "      <td>385.712826</td>\n",
       "      <td>1670.938012</td>\n",
       "    </tr>\n",
       "    <tr>\n",
       "      <th>1</th>\n",
       "      <td>ɑ</td>\n",
       "      <td>ŋ̩wɑnɑ</td>\n",
       "      <td>0.096705</td>\n",
       "      <td>109.8</td>\n",
       "      <td>691.260735</td>\n",
       "      <td>1349.916293</td>\n",
       "    </tr>\n",
       "    <tr>\n",
       "      <th>2</th>\n",
       "      <td>ɑ</td>\n",
       "      <td>ŋ̩wɑnɑ</td>\n",
       "      <td>0.071231</td>\n",
       "      <td>102.0</td>\n",
       "      <td>636.621472</td>\n",
       "      <td>1561.746117</td>\n",
       "    </tr>\n",
       "  </tbody>\n",
       "</table>\n",
       "</div>"
      ],
      "text/plain": [
       "  vowel    word  duration_[s]  avg_pitch_[Hz]  avg_f1_[Hz]  avg_f2_[Hz]\n",
       "0    ŋ̩  ŋ̩wɑnɑ      0.109944           103.6   385.712826  1670.938012\n",
       "1     ɑ  ŋ̩wɑnɑ      0.096705           109.8   691.260735  1349.916293\n",
       "2     ɑ  ŋ̩wɑnɑ      0.071231           102.0   636.621472  1561.746117"
      ]
     },
     "execution_count": 14,
     "metadata": {},
     "output_type": "execute_result"
    }
   ],
   "source": [
    "df4 = pd.DataFrame(\n",
    "  data=[\n",
    "    ['ŋ̩','ŋ̩wɑnɑ',0.109944,103.60,385.7128256347075,1670.9380122978068],\n",
    "    ['ɑ','ŋ̩wɑnɑ',0.096705,109.80,691.2607346988126,1349.9162934465471],\n",
    "    ['ɑ','ŋ̩wɑnɑ',0.071231,102.00,636.6214719076272,1561.746116663688],\n",
    "  ],\n",
    "  columns=cols\n",
    ")\n",
    "df4"
   ]
  },
  {
   "attachments": {},
   "cell_type": "markdown",
   "metadata": {},
   "source": [
    "![](img/L2_3.png)"
   ]
  },
  {
   "attachments": {},
   "cell_type": "markdown",
   "metadata": {},
   "source": [
    "### [giʤoto]"
   ]
  },
  {
   "cell_type": "code",
   "execution_count": 15,
   "metadata": {},
   "outputs": [
    {
     "data": {
      "text/html": [
       "<div>\n",
       "<style scoped>\n",
       "    .dataframe tbody tr th:only-of-type {\n",
       "        vertical-align: middle;\n",
       "    }\n",
       "\n",
       "    .dataframe tbody tr th {\n",
       "        vertical-align: top;\n",
       "    }\n",
       "\n",
       "    .dataframe thead th {\n",
       "        text-align: right;\n",
       "    }\n",
       "</style>\n",
       "<table border=\"1\" class=\"dataframe\">\n",
       "  <thead>\n",
       "    <tr style=\"text-align: right;\">\n",
       "      <th></th>\n",
       "      <th>vowel</th>\n",
       "      <th>word</th>\n",
       "      <th>duration_[s]</th>\n",
       "      <th>avg_pitch_[Hz]</th>\n",
       "      <th>avg_f1_[Hz]</th>\n",
       "      <th>avg_f2_[Hz]</th>\n",
       "    </tr>\n",
       "  </thead>\n",
       "  <tbody>\n",
       "    <tr>\n",
       "      <th>0</th>\n",
       "      <td>i</td>\n",
       "      <td>giʤoto</td>\n",
       "      <td>0.129482</td>\n",
       "      <td>134.7</td>\n",
       "      <td>342.030810</td>\n",
       "      <td>2008.644229</td>\n",
       "    </tr>\n",
       "    <tr>\n",
       "      <th>1</th>\n",
       "      <td>o</td>\n",
       "      <td>giʤoto</td>\n",
       "      <td>0.105140</td>\n",
       "      <td>141.0</td>\n",
       "      <td>369.487821</td>\n",
       "      <td>1416.845781</td>\n",
       "    </tr>\n",
       "    <tr>\n",
       "      <th>2</th>\n",
       "      <td>o</td>\n",
       "      <td>giʤoto</td>\n",
       "      <td>0.130837</td>\n",
       "      <td>164.3</td>\n",
       "      <td>365.785935</td>\n",
       "      <td>1126.016935</td>\n",
       "    </tr>\n",
       "  </tbody>\n",
       "</table>\n",
       "</div>"
      ],
      "text/plain": [
       "  vowel    word  duration_[s]  avg_pitch_[Hz]  avg_f1_[Hz]  avg_f2_[Hz]\n",
       "0     i  giʤoto      0.129482           134.7   342.030810  2008.644229\n",
       "1     o  giʤoto      0.105140           141.0   369.487821  1416.845781\n",
       "2     o  giʤoto      0.130837           164.3   365.785935  1126.016935"
      ]
     },
     "execution_count": 15,
     "metadata": {},
     "output_type": "execute_result"
    }
   ],
   "source": [
    "df5 = pd.DataFrame(\n",
    "  data=[\n",
    "    ['i','giʤoto',0.129482,134.70,342.0308099761518,2008.6442292576407],\n",
    "    ['o','giʤoto',0.105140,141.00,369.4878212931457,1416.8457811554285],\n",
    "    ['o','giʤoto',0.130837,164.30,365.7859352775467,1126.0169349503485],\n",
    "  ],\n",
    "  columns=cols\n",
    ")\n",
    "df5"
   ]
  },
  {
   "attachments": {},
   "cell_type": "markdown",
   "metadata": {},
   "source": [
    "![](img/L2_4.png)"
   ]
  },
  {
   "attachments": {},
   "cell_type": "markdown",
   "metadata": {},
   "source": [
    "---"
   ]
  },
  {
   "attachments": {},
   "cell_type": "markdown",
   "metadata": {},
   "source": [
    "## Data"
   ]
  },
  {
   "attachments": {},
   "cell_type": "markdown",
   "metadata": {},
   "source": [
    "### Tokens"
   ]
  },
  {
   "cell_type": "code",
   "execution_count": 19,
   "metadata": {},
   "outputs": [
    {
     "data": {
      "text/html": [
       "<div>\n",
       "<style scoped>\n",
       "    .dataframe tbody tr th:only-of-type {\n",
       "        vertical-align: middle;\n",
       "    }\n",
       "\n",
       "    .dataframe tbody tr th {\n",
       "        vertical-align: top;\n",
       "    }\n",
       "\n",
       "    .dataframe thead th {\n",
       "        text-align: right;\n",
       "    }\n",
       "</style>\n",
       "<table border=\"1\" class=\"dataframe\">\n",
       "  <thead>\n",
       "    <tr style=\"text-align: right;\">\n",
       "      <th></th>\n",
       "      <th>vowel</th>\n",
       "      <th>word</th>\n",
       "      <th>duration_[s]</th>\n",
       "      <th>avg_pitch_[Hz]</th>\n",
       "      <th>avg_f1_[Hz]</th>\n",
       "      <th>avg_f2_[Hz]</th>\n",
       "    </tr>\n",
       "  </thead>\n",
       "  <tbody>\n",
       "    <tr>\n",
       "      <th>0</th>\n",
       "      <td>ɪ</td>\n",
       "      <td>ɪŋʊɾʊ</td>\n",
       "      <td>0.086119</td>\n",
       "      <td>93.59</td>\n",
       "      <td>466.690302</td>\n",
       "      <td>1766.545145</td>\n",
       "    </tr>\n",
       "    <tr>\n",
       "      <th>1</th>\n",
       "      <td>ʊ</td>\n",
       "      <td>ɪŋʊɾʊ</td>\n",
       "      <td>0.097062</td>\n",
       "      <td>98.88</td>\n",
       "      <td>515.248472</td>\n",
       "      <td>873.168325</td>\n",
       "    </tr>\n",
       "    <tr>\n",
       "      <th>2</th>\n",
       "      <td>ʊ</td>\n",
       "      <td>ɪŋʊɾʊ</td>\n",
       "      <td>0.044060</td>\n",
       "      <td>100.40</td>\n",
       "      <td>555.185617</td>\n",
       "      <td>1397.695151</td>\n",
       "    </tr>\n",
       "    <tr>\n",
       "      <th>3</th>\n",
       "      <td>ɪ</td>\n",
       "      <td>gɪtɑnɪ</td>\n",
       "      <td>0.089908</td>\n",
       "      <td>91.83</td>\n",
       "      <td>364.515698</td>\n",
       "      <td>2023.891020</td>\n",
       "    </tr>\n",
       "    <tr>\n",
       "      <th>4</th>\n",
       "      <td>ɑ</td>\n",
       "      <td>gɪtɑnɪ</td>\n",
       "      <td>0.105583</td>\n",
       "      <td>100.10</td>\n",
       "      <td>688.618371</td>\n",
       "      <td>1492.431910</td>\n",
       "    </tr>\n",
       "    <tr>\n",
       "      <th>5</th>\n",
       "      <td>ɪ</td>\n",
       "      <td>gɪtɑnɪ</td>\n",
       "      <td>0.054948</td>\n",
       "      <td>103.30</td>\n",
       "      <td>479.366160</td>\n",
       "      <td>1835.677800</td>\n",
       "    </tr>\n",
       "    <tr>\n",
       "      <th>6</th>\n",
       "      <td>ʊ</td>\n",
       "      <td>gʊfɑŋɑ</td>\n",
       "      <td>0.066951</td>\n",
       "      <td>102.30</td>\n",
       "      <td>500.744793</td>\n",
       "      <td>1419.899954</td>\n",
       "    </tr>\n",
       "    <tr>\n",
       "      <th>7</th>\n",
       "      <td>ɑ</td>\n",
       "      <td>gʊfɑŋɑ</td>\n",
       "      <td>0.104393</td>\n",
       "      <td>114.10</td>\n",
       "      <td>656.963974</td>\n",
       "      <td>1261.050130</td>\n",
       "    </tr>\n",
       "    <tr>\n",
       "      <th>8</th>\n",
       "      <td>ɑ</td>\n",
       "      <td>gʊfɑŋɑ</td>\n",
       "      <td>0.082586</td>\n",
       "      <td>115.40</td>\n",
       "      <td>690.044806</td>\n",
       "      <td>1419.744250</td>\n",
       "    </tr>\n",
       "    <tr>\n",
       "      <th>9</th>\n",
       "      <td>ŋ̩</td>\n",
       "      <td>ŋ̩wɑnɑ</td>\n",
       "      <td>0.109944</td>\n",
       "      <td>103.60</td>\n",
       "      <td>385.712826</td>\n",
       "      <td>1670.938012</td>\n",
       "    </tr>\n",
       "    <tr>\n",
       "      <th>10</th>\n",
       "      <td>ɑ</td>\n",
       "      <td>ŋ̩wɑnɑ</td>\n",
       "      <td>0.096705</td>\n",
       "      <td>109.80</td>\n",
       "      <td>691.260735</td>\n",
       "      <td>1349.916293</td>\n",
       "    </tr>\n",
       "    <tr>\n",
       "      <th>11</th>\n",
       "      <td>ɑ</td>\n",
       "      <td>ŋ̩wɑnɑ</td>\n",
       "      <td>0.071231</td>\n",
       "      <td>102.00</td>\n",
       "      <td>636.621472</td>\n",
       "      <td>1561.746117</td>\n",
       "    </tr>\n",
       "    <tr>\n",
       "      <th>12</th>\n",
       "      <td>i</td>\n",
       "      <td>giʤoto</td>\n",
       "      <td>0.129482</td>\n",
       "      <td>134.70</td>\n",
       "      <td>342.030810</td>\n",
       "      <td>2008.644229</td>\n",
       "    </tr>\n",
       "    <tr>\n",
       "      <th>13</th>\n",
       "      <td>o</td>\n",
       "      <td>giʤoto</td>\n",
       "      <td>0.105140</td>\n",
       "      <td>141.00</td>\n",
       "      <td>369.487821</td>\n",
       "      <td>1416.845781</td>\n",
       "    </tr>\n",
       "    <tr>\n",
       "      <th>14</th>\n",
       "      <td>o</td>\n",
       "      <td>giʤoto</td>\n",
       "      <td>0.130837</td>\n",
       "      <td>164.30</td>\n",
       "      <td>365.785935</td>\n",
       "      <td>1126.016935</td>\n",
       "    </tr>\n",
       "  </tbody>\n",
       "</table>\n",
       "</div>"
      ],
      "text/plain": [
       "   vowel    word  duration_[s]  avg_pitch_[Hz]  avg_f1_[Hz]  avg_f2_[Hz]\n",
       "0      ɪ   ɪŋʊɾʊ      0.086119           93.59   466.690302  1766.545145\n",
       "1      ʊ   ɪŋʊɾʊ      0.097062           98.88   515.248472   873.168325\n",
       "2      ʊ   ɪŋʊɾʊ      0.044060          100.40   555.185617  1397.695151\n",
       "3      ɪ  gɪtɑnɪ      0.089908           91.83   364.515698  2023.891020\n",
       "4      ɑ  gɪtɑnɪ      0.105583          100.10   688.618371  1492.431910\n",
       "5      ɪ  gɪtɑnɪ      0.054948          103.30   479.366160  1835.677800\n",
       "6      ʊ  gʊfɑŋɑ      0.066951          102.30   500.744793  1419.899954\n",
       "7      ɑ  gʊfɑŋɑ      0.104393          114.10   656.963974  1261.050130\n",
       "8      ɑ  gʊfɑŋɑ      0.082586          115.40   690.044806  1419.744250\n",
       "9     ŋ̩  ŋ̩wɑnɑ      0.109944          103.60   385.712826  1670.938012\n",
       "10     ɑ  ŋ̩wɑnɑ      0.096705          109.80   691.260735  1349.916293\n",
       "11     ɑ  ŋ̩wɑnɑ      0.071231          102.00   636.621472  1561.746117\n",
       "12     i  giʤoto      0.129482          134.70   342.030810  2008.644229\n",
       "13     o  giʤoto      0.105140          141.00   369.487821  1416.845781\n",
       "14     o  giʤoto      0.130837          164.30   365.785935  1126.016935"
      ]
     },
     "execution_count": 19,
     "metadata": {},
     "output_type": "execute_result"
    }
   ],
   "source": [
    "df=pd.concat([df1,df2,df3,df4,df5],ignore_index=True)\n",
    "df"
   ]
  },
  {
   "attachments": {},
   "cell_type": "markdown",
   "metadata": {},
   "source": [
    "### Averages"
   ]
  },
  {
   "cell_type": "code",
   "execution_count": 68,
   "metadata": {},
   "outputs": [
    {
     "data": {
      "text/html": [
       "<div>\n",
       "<style scoped>\n",
       "    .dataframe tbody tr th:only-of-type {\n",
       "        vertical-align: middle;\n",
       "    }\n",
       "\n",
       "    .dataframe tbody tr th {\n",
       "        vertical-align: top;\n",
       "    }\n",
       "\n",
       "    .dataframe thead th {\n",
       "        text-align: right;\n",
       "    }\n",
       "</style>\n",
       "<table border=\"1\" class=\"dataframe\">\n",
       "  <thead>\n",
       "    <tr style=\"text-align: right;\">\n",
       "      <th></th>\n",
       "      <th>avg_duration_[s]</th>\n",
       "      <th>avg_pitch_[Hz]</th>\n",
       "      <th>avg_f1_[Hz]</th>\n",
       "      <th>avg_f2_[Hz]</th>\n",
       "    </tr>\n",
       "    <tr>\n",
       "      <th>vowel</th>\n",
       "      <th></th>\n",
       "      <th></th>\n",
       "      <th></th>\n",
       "      <th></th>\n",
       "    </tr>\n",
       "  </thead>\n",
       "  <tbody>\n",
       "    <tr>\n",
       "      <th>i</th>\n",
       "      <td>0.129482</td>\n",
       "      <td>134.700000</td>\n",
       "      <td>342.030810</td>\n",
       "      <td>2008.644229</td>\n",
       "    </tr>\n",
       "    <tr>\n",
       "      <th>o</th>\n",
       "      <td>0.117988</td>\n",
       "      <td>152.650000</td>\n",
       "      <td>367.636878</td>\n",
       "      <td>1271.431358</td>\n",
       "    </tr>\n",
       "    <tr>\n",
       "      <th>ŋ̩</th>\n",
       "      <td>0.109944</td>\n",
       "      <td>103.600000</td>\n",
       "      <td>385.712826</td>\n",
       "      <td>1670.938012</td>\n",
       "    </tr>\n",
       "    <tr>\n",
       "      <th>ɑ</th>\n",
       "      <td>0.092100</td>\n",
       "      <td>108.280000</td>\n",
       "      <td>672.701872</td>\n",
       "      <td>1416.977740</td>\n",
       "    </tr>\n",
       "    <tr>\n",
       "      <th>ɪ</th>\n",
       "      <td>0.076992</td>\n",
       "      <td>96.240000</td>\n",
       "      <td>436.857387</td>\n",
       "      <td>1875.371321</td>\n",
       "    </tr>\n",
       "    <tr>\n",
       "      <th>ʊ</th>\n",
       "      <td>0.069358</td>\n",
       "      <td>100.526667</td>\n",
       "      <td>523.726294</td>\n",
       "      <td>1230.254477</td>\n",
       "    </tr>\n",
       "  </tbody>\n",
       "</table>\n",
       "</div>"
      ],
      "text/plain": [
       "       avg_duration_[s]  avg_pitch_[Hz]  avg_f1_[Hz]  avg_f2_[Hz]\n",
       "vowel                                                            \n",
       "i              0.129482      134.700000   342.030810  2008.644229\n",
       "o              0.117988      152.650000   367.636878  1271.431358\n",
       "ŋ̩             0.109944      103.600000   385.712826  1670.938012\n",
       "ɑ              0.092100      108.280000   672.701872  1416.977740\n",
       "ɪ              0.076992       96.240000   436.857387  1875.371321\n",
       "ʊ              0.069358      100.526667   523.726294  1230.254477"
      ]
     },
     "execution_count": 68,
     "metadata": {},
     "output_type": "execute_result"
    }
   ],
   "source": [
    "df.drop(columns=['word']).groupby(by=['vowel']).mean().rename(columns={'duration_[s]':'avg_duration_[s]'})"
   ]
  },
  {
   "attachments": {},
   "cell_type": "markdown",
   "metadata": {},
   "source": [
    "---"
   ]
  },
  {
   "attachments": {},
   "cell_type": "markdown",
   "metadata": {},
   "source": [
    "## Figures"
   ]
  },
  {
   "attachments": {},
   "cell_type": "markdown",
   "metadata": {},
   "source": [
    "* [[W](https://en.wikipedia.org/wiki/Bernd_Heine)] Heine, Bernd (1939-)\n",
    "* [W] Morton, Deborah\n",
    "* [[W](https://en.wikipedia.org/wiki/Diedrich_Hermann_Westermann)] Westermann, Diedric (1875-1956)"
   ]
  },
  {
   "attachments": {},
   "cell_type": "markdown",
   "metadata": {},
   "source": [
    "---"
   ]
  },
  {
   "attachments": {},
   "cell_type": "markdown",
   "metadata": {},
   "source": [
    "## Terms"
   ]
  },
  {
   "attachments": {},
   "cell_type": "markdown",
   "metadata": {},
   "source": [
    "* [[W](https://en.wikipedia.org/wiki/Akan_languages)] Akan\n",
    "* [[W](https://en.wikipedia.org/wiki/Anii_language)] Anii (Basila)\n",
    "* [[W](https://en.wikipedia.org/wiki/Atlantic%E2%80%93Congo_languages)] Atlantic-Congo Languages\n",
    "* [[W](https://en.wikipedia.org/wiki/Central_Tano_languages)] Central Tano Languages\n",
    "* [[W](https://en.wikipedia.org/wiki/Ewe_language)] Ewe\n",
    "* [[W](https://en.wikipedia.org/wiki/Ghana)] Ghana\n",
    "* [[W](https://en.wikipedia.org/wiki/Ghana%E2%80%93Togo_Mountain_languages)] Ghana-Togo Mountain Languages\n",
    "* [[W](https://en.wikipedia.org/wiki/Kwa_languages)] Kwa Languages\n",
    "* [[W](https://en.wikipedia.org/wiki/Mande_languages)] Mande Languages\n",
    "* [[W](https://en.wikipedia.org/wiki/Niger%E2%80%93Congo_languages)] Niger-Congo Languages\n",
    "* [[W](https://en.wikipedia.org/wiki/Togo)] Togo\n",
    "* [[W](https://en.wikipedia.org/wiki/Twi)] Twi"
   ]
  },
  {
   "attachments": {},
   "cell_type": "markdown",
   "metadata": {},
   "source": [
    "---"
   ]
  }
 ],
 "metadata": {
  "kernelspec": {
   "display_name": "Python 3 (ipykernel)",
   "language": "python",
   "name": "python3"
  },
  "language_info": {
   "codemirror_mode": {
    "name": "ipython",
    "version": 3
   },
   "file_extension": ".py",
   "mimetype": "text/x-python",
   "name": "python",
   "nbconvert_exporter": "python",
   "pygments_lexer": "ipython3",
   "version": "3.10.8"
  },
  "vscode": {
   "interpreter": {
    "hash": "7934a2e895ecf0f9e222ea9c67d2028800f311cc59efafcc0f7e737f99c61e05"
   }
  }
 },
 "nbformat": 4,
 "nbformat_minor": 4
}
