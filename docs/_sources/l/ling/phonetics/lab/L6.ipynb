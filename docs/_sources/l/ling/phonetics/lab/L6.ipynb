{
 "cells": [
  {
   "attachments": {},
   "cell_type": "markdown",
   "metadata": {},
   "source": [
    "# Acoustic and auditory properties of speech sounds\n",
    "[6]\n",
    "\n",
    "LING 497 Phonetic Analysis: Articulation, Acoustics, Audition\n",
    "\n",
    "The Pennsylvania State University\n",
    "\n",
    "[Prof. Deborah Morton](https://deborahcmorton.wordpress.com/)"
   ]
  },
  {
   "attachments": {},
   "cell_type": "markdown",
   "metadata": {},
   "source": [
    "---"
   ]
  },
  {
   "attachments": {},
   "cell_type": "markdown",
   "metadata": {},
   "source": [
    "```{admonition} Revised\n",
    "31 May 2023\n",
    "```\n",
    "```{contents}\n",
    "```"
   ]
  },
  {
   "attachments": {},
   "cell_type": "markdown",
   "metadata": {},
   "source": [
    "---"
   ]
  },
  {
   "attachments": {},
   "cell_type": "markdown",
   "metadata": {},
   "source": [
    "## Programming Environment"
   ]
  },
  {
   "cell_type": "code",
   "execution_count": 2,
   "metadata": {
    "tags": [
     "hide-input"
    ],
    "vscode": {
     "languageId": "r"
    }
   },
   "outputs": [
    {
     "data": {
      "text/html": [
       "'R version 4.3.0 (2023-04-21)'"
      ],
      "text/latex": [
       "'R version 4.3.0 (2023-04-21)'"
      ],
      "text/markdown": [
       "'R version 4.3.0 (2023-04-21)'"
      ],
      "text/plain": [
       "[1] \"R version 4.3.0 (2023-04-21)\""
      ]
     },
     "metadata": {},
     "output_type": "display_data"
    },
    {
     "data": {
      "text/html": [
       "'/Library/Frameworks/R.framework/Versions/4.3-arm64/Resources/library'"
      ],
      "text/latex": [
       "'/Library/Frameworks/R.framework/Versions/4.3-arm64/Resources/library'"
      ],
      "text/markdown": [
       "'/Library/Frameworks/R.framework/Versions/4.3-arm64/Resources/library'"
      ],
      "text/plain": [
       "[1] \"/Library/Frameworks/R.framework/Versions/4.3-arm64/Resources/library\""
      ]
     },
     "metadata": {},
     "output_type": "display_data"
    },
    {
     "name": "stderr",
     "output_type": "stream",
     "text": [
      "── \u001b[1mAttaching core tidyverse packages\u001b[22m ──────────────────────── tidyverse 2.0.0 ──\n",
      "\u001b[32m✔\u001b[39m \u001b[34mdplyr    \u001b[39m 1.1.2     \u001b[32m✔\u001b[39m \u001b[34mreadr    \u001b[39m 2.1.4\n",
      "\u001b[32m✔\u001b[39m \u001b[34mforcats  \u001b[39m 1.0.0     \u001b[32m✔\u001b[39m \u001b[34mstringr  \u001b[39m 1.5.0\n",
      "\u001b[32m✔\u001b[39m \u001b[34mggplot2  \u001b[39m 3.4.2     \u001b[32m✔\u001b[39m \u001b[34mtibble   \u001b[39m 3.2.1\n",
      "\u001b[32m✔\u001b[39m \u001b[34mlubridate\u001b[39m 1.9.2     \u001b[32m✔\u001b[39m \u001b[34mtidyr    \u001b[39m 1.3.0\n",
      "\u001b[32m✔\u001b[39m \u001b[34mpurrr    \u001b[39m 1.0.1     \n",
      "── \u001b[1mConflicts\u001b[22m ────────────────────────────────────────── tidyverse_conflicts() ──\n",
      "\u001b[31m✖\u001b[39m \u001b[34mreadr\u001b[39m::\u001b[32mcol_factor()\u001b[39m masks \u001b[34mscales\u001b[39m::col_factor()\n",
      "\u001b[31m✖\u001b[39m \u001b[34mdplyr\u001b[39m::\u001b[32mcombine()\u001b[39m    masks \u001b[34mgridExtra\u001b[39m::combine()\n",
      "\u001b[31m✖\u001b[39m \u001b[34mpurrr\u001b[39m::\u001b[32mdiscard()\u001b[39m    masks \u001b[34mscales\u001b[39m::discard()\n",
      "\u001b[31m✖\u001b[39m \u001b[34mtidyr\u001b[39m::\u001b[32mextract()\u001b[39m    masks \u001b[34mmagrittr\u001b[39m::extract()\n",
      "\u001b[31m✖\u001b[39m \u001b[34mdplyr\u001b[39m::\u001b[32mfilter()\u001b[39m     masks \u001b[34mstats\u001b[39m::filter()\n",
      "\u001b[31m✖\u001b[39m \u001b[34mdplyr\u001b[39m::\u001b[32mlag()\u001b[39m        masks \u001b[34mstats\u001b[39m::lag()\n",
      "\u001b[31m✖\u001b[39m \u001b[34mpurrr\u001b[39m::\u001b[32mset_names()\u001b[39m  masks \u001b[34mmagrittr\u001b[39m::set_names()\n",
      "\u001b[36mℹ\u001b[39m Use the conflicted package (\u001b[3m\u001b[34m<http://conflicted.r-lib.org/>\u001b[39m\u001b[23m) to force all conflicts to become errors\n"
     ]
    }
   ],
   "source": [
    "R.version.string # R.Version()\n",
    ".libPaths()\n",
    "\n",
    "packages <- c(\n",
    "  'gridExtra',\n",
    "  'magrittr',\n",
    "  'phonR',\n",
    "  'repr',\n",
    "  'scales',\n",
    "  'tidyverse',\n",
    "  'vowels'\n",
    ")\n",
    "\n",
    "# Install packages not yet installed\n",
    "installed_packages <- packages %in% rownames(installed.packages())\n",
    "if (any(installed_packages == FALSE)) {\n",
    "  install.packages(packages[!installed_packages])\n",
    "}\n",
    "\n",
    "# Load packages\n",
    "invisible(lapply(packages, library, character.only = TRUE))"
   ]
  },
  {
   "attachments": {},
   "cell_type": "markdown",
   "metadata": {},
   "source": [
    "---"
   ]
  },
  {
   "attachments": {},
   "cell_type": "markdown",
   "metadata": {},
   "source": [
    "## Zürich German Vowels"
   ]
  },
  {
   "attachments": {},
   "cell_type": "markdown",
   "metadata": {},
   "source": [
    "### F1, F2, F3 observations"
   ]
  },
  {
   "cell_type": "code",
   "execution_count": 18,
   "metadata": {
    "tags": [
     "hide-input"
    ],
    "vscode": {
     "languageId": "r"
    }
   },
   "outputs": [
    {
     "data": {
      "text/html": [
       "<table class=\"dataframe\">\n",
       "<caption>A tibble: 17 × 4</caption>\n",
       "<thead>\n",
       "\t<tr><th scope=col>vowel</th><th scope=col>F1</th><th scope=col>F2</th><th scope=col>F3</th></tr>\n",
       "\t<tr><th scope=col>&lt;chr&gt;</th><th scope=col>&lt;dbl&gt;</th><th scope=col>&lt;dbl&gt;</th><th scope=col>&lt;dbl&gt;</th></tr>\n",
       "</thead>\n",
       "<tbody>\n",
       "\t<tr><td>i</td><td>338.1619</td><td>2311.1416</td><td>3176.603</td></tr>\n",
       "\t<tr><td>ə</td><td>480.7557</td><td>1652.5341</td><td>2390.098</td></tr>\n",
       "\t<tr><td>e</td><td>424.6613</td><td>2151.9277</td><td>2750.249</td></tr>\n",
       "\t<tr><td>ə</td><td>538.1591</td><td>1728.5344</td><td>2455.532</td></tr>\n",
       "\t<tr><td>ɛ</td><td>463.3875</td><td>1729.5033</td><td>2380.507</td></tr>\n",
       "\t<tr><td>æ</td><td>598.9991</td><td>1485.5933</td><td>2374.373</td></tr>\n",
       "\t<tr><td>y</td><td>302.9121</td><td>1627.8432</td><td>2094.167</td></tr>\n",
       "\t<tr><td>i</td><td>329.8811</td><td>2399.5911</td><td>3370.156</td></tr>\n",
       "\t<tr><td>ø</td><td>353.5354</td><td>1654.6924</td><td>2219.495</td></tr>\n",
       "\t<tr><td>ə</td><td>446.4217</td><td>1762.7513</td><td>2305.845</td></tr>\n",
       "\t<tr><td>œ</td><td>556.2411</td><td>1437.2258</td><td>2492.393</td></tr>\n",
       "\t<tr><td>u</td><td>321.5930</td><td> 684.0990</td><td>2599.445</td></tr>\n",
       "\t<tr><td>o</td><td>449.0586</td><td> 642.1006</td><td>2626.705</td></tr>\n",
       "\t<tr><td>e</td><td>548.7221</td><td>1450.5669</td><td>2537.659</td></tr>\n",
       "\t<tr><td>ɒ</td><td>713.4208</td><td>1564.5015</td><td>3090.859</td></tr>\n",
       "\t<tr><td>ɛ</td><td>554.6995</td><td>1966.4626</td><td>2496.108</td></tr>\n",
       "\t<tr><td>ə</td><td>596.0809</td><td>1591.8670</td><td>2502.881</td></tr>\n",
       "</tbody>\n",
       "</table>\n"
      ],
      "text/latex": [
       "A tibble: 17 × 4\n",
       "\\begin{tabular}{llll}\n",
       " vowel & F1 & F2 & F3\\\\\n",
       " <chr> & <dbl> & <dbl> & <dbl>\\\\\n",
       "\\hline\n",
       "\t i & 338.1619 & 2311.1416 & 3176.603\\\\\n",
       "\t ə & 480.7557 & 1652.5341 & 2390.098\\\\\n",
       "\t e & 424.6613 & 2151.9277 & 2750.249\\\\\n",
       "\t ə & 538.1591 & 1728.5344 & 2455.532\\\\\n",
       "\t ɛ & 463.3875 & 1729.5033 & 2380.507\\\\\n",
       "\t æ & 598.9991 & 1485.5933 & 2374.373\\\\\n",
       "\t y & 302.9121 & 1627.8432 & 2094.167\\\\\n",
       "\t i & 329.8811 & 2399.5911 & 3370.156\\\\\n",
       "\t ø & 353.5354 & 1654.6924 & 2219.495\\\\\n",
       "\t ə & 446.4217 & 1762.7513 & 2305.845\\\\\n",
       "\t œ & 556.2411 & 1437.2258 & 2492.393\\\\\n",
       "\t u & 321.5930 &  684.0990 & 2599.445\\\\\n",
       "\t o & 449.0586 &  642.1006 & 2626.705\\\\\n",
       "\t e & 548.7221 & 1450.5669 & 2537.659\\\\\n",
       "\t ɒ & 713.4208 & 1564.5015 & 3090.859\\\\\n",
       "\t ɛ & 554.6995 & 1966.4626 & 2496.108\\\\\n",
       "\t ə & 596.0809 & 1591.8670 & 2502.881\\\\\n",
       "\\end{tabular}\n"
      ],
      "text/markdown": [
       "\n",
       "A tibble: 17 × 4\n",
       "\n",
       "| vowel &lt;chr&gt; | F1 &lt;dbl&gt; | F2 &lt;dbl&gt; | F3 &lt;dbl&gt; |\n",
       "|---|---|---|---|\n",
       "| i | 338.1619 | 2311.1416 | 3176.603 |\n",
       "| ə | 480.7557 | 1652.5341 | 2390.098 |\n",
       "| e | 424.6613 | 2151.9277 | 2750.249 |\n",
       "| ə | 538.1591 | 1728.5344 | 2455.532 |\n",
       "| ɛ | 463.3875 | 1729.5033 | 2380.507 |\n",
       "| æ | 598.9991 | 1485.5933 | 2374.373 |\n",
       "| y | 302.9121 | 1627.8432 | 2094.167 |\n",
       "| i | 329.8811 | 2399.5911 | 3370.156 |\n",
       "| ø | 353.5354 | 1654.6924 | 2219.495 |\n",
       "| ə | 446.4217 | 1762.7513 | 2305.845 |\n",
       "| œ | 556.2411 | 1437.2258 | 2492.393 |\n",
       "| u | 321.5930 |  684.0990 | 2599.445 |\n",
       "| o | 449.0586 |  642.1006 | 2626.705 |\n",
       "| e | 548.7221 | 1450.5669 | 2537.659 |\n",
       "| ɒ | 713.4208 | 1564.5015 | 3090.859 |\n",
       "| ɛ | 554.6995 | 1966.4626 | 2496.108 |\n",
       "| ə | 596.0809 | 1591.8670 | 2502.881 |\n",
       "\n"
      ],
      "text/plain": [
       "   vowel F1       F2        F3      \n",
       "1  i     338.1619 2311.1416 3176.603\n",
       "2  ə     480.7557 1652.5341 2390.098\n",
       "3  e     424.6613 2151.9277 2750.249\n",
       "4  ə     538.1591 1728.5344 2455.532\n",
       "5  ɛ     463.3875 1729.5033 2380.507\n",
       "6  æ     598.9991 1485.5933 2374.373\n",
       "7  y     302.9121 1627.8432 2094.167\n",
       "8  i     329.8811 2399.5911 3370.156\n",
       "9  ø     353.5354 1654.6924 2219.495\n",
       "10 ə     446.4217 1762.7513 2305.845\n",
       "11 œ     556.2411 1437.2258 2492.393\n",
       "12 u     321.5930  684.0990 2599.445\n",
       "13 o     449.0586  642.1006 2626.705\n",
       "14 e     548.7221 1450.5669 2537.659\n",
       "15 ɒ     713.4208 1564.5015 3090.859\n",
       "16 ɛ     554.6995 1966.4626 2496.108\n",
       "17 ə     596.0809 1591.8670 2502.881"
      ]
     },
     "metadata": {},
     "output_type": "display_data"
    }
   ],
   "source": [
    "zurich_obs <- tibble(\n",
    "  vowel=c(\n",
    "    'i',\n",
    "    'ə',\n",
    "    'e',\n",
    "    'ə',\n",
    "    'ɛ',\n",
    "    'æ',\n",
    "    'y',\n",
    "    'i',\n",
    "    'ø',\n",
    "    'ə',\n",
    "    'œ',\n",
    "    'u',\n",
    "    'o',\n",
    "    'e',\n",
    "    'ɒ',\n",
    "    #'ə',\n",
    "    'ɛ',\n",
    "    'ə'\n",
    "  ),\n",
    "  F1=c(\n",
    "    338.16187273454796,\n",
    "    480.7556674103058,\n",
    "    424.66126677493634,\n",
    "    538.1591157503162,\n",
    "    463.38752300516285,\n",
    "    598.999109334512,\n",
    "    302.9120756513271,\n",
    "    329.88108480049857,\n",
    "    353.53535533589655,\n",
    "    446.42169736756864,\n",
    "    556.2410818865662,\n",
    "    321.5929606643981,\n",
    "    449.0585597667322,\n",
    "    548.722113940993,\n",
    "    713.4208029323668,\n",
    "    #187.75184574884526,\n",
    "    554.6995123825042,\n",
    "    596.080905107178\n",
    "  ),\n",
    "  F2=c(\n",
    "    2311.1416044007174,\n",
    "    1652.5340593428432,\n",
    "    2151.9276688278355,\n",
    "    1728.5344176651327,\n",
    "    1729.503265799448,\n",
    "    1485.5932775168874,\n",
    "    1627.843171042086,\n",
    "    2399.5911272550698,\n",
    "    1654.6924476415286,\n",
    "    1762.7512749856016,\n",
    "    1437.2258145596832,\n",
    "    684.098976469662,\n",
    "    642.100611328256,\n",
    "    1450.566949891477,\n",
    "    1564.501521174171,\n",
    "    #1712.5591032845734,\n",
    "    1966.4625997243281,\n",
    "    1591.8669959965687\n",
    "  ),\n",
    "  F3=c(\n",
    "    3176.602722306821,\n",
    "    2390.0982442637264,\n",
    "    2750.2485307364627,\n",
    "    2455.5321017313545,\n",
    "    2380.506763486331,\n",
    "    2374.372678732871,\n",
    "    2094.16654646834,\n",
    "    3370.1561689997457,\n",
    "    2219.494510301964,\n",
    "    2305.844777075152,\n",
    "    2492.393145497456,\n",
    "    2599.4447548048465,\n",
    "    2626.705175493852,\n",
    "    2537.6593241203104,\n",
    "    3090.8585123150892,\n",
    "    #2703.87531734647,\n",
    "    2496.1083788172814,\n",
    "    2502.8814824649626\n",
    "  )\n",
    ")\n",
    "zurich_obs"
   ]
  },
  {
   "attachments": {},
   "cell_type": "markdown",
   "metadata": {},
   "source": [
    "### F1, F2, F3 averages"
   ]
  },
  {
   "cell_type": "code",
   "execution_count": 19,
   "metadata": {
    "vscode": {
     "languageId": "r"
    }
   },
   "outputs": [
    {
     "data": {
      "text/html": [
       "<table class=\"dataframe\">\n",
       "<caption>A tibble: 11 × 4</caption>\n",
       "<thead>\n",
       "\t<tr><th scope=col>vowel</th><th scope=col>F1</th><th scope=col>F2</th><th scope=col>F3</th></tr>\n",
       "\t<tr><th scope=col>&lt;chr&gt;</th><th scope=col>&lt;dbl&gt;</th><th scope=col>&lt;dbl&gt;</th><th scope=col>&lt;dbl&gt;</th></tr>\n",
       "</thead>\n",
       "<tbody>\n",
       "\t<tr><td>e</td><td>486.6917</td><td>1801.2473</td><td>2643.954</td></tr>\n",
       "\t<tr><td>i</td><td>334.0215</td><td>2355.3664</td><td>3273.379</td></tr>\n",
       "\t<tr><td>o</td><td>449.0586</td><td> 642.1006</td><td>2626.705</td></tr>\n",
       "\t<tr><td>u</td><td>321.5930</td><td> 684.0990</td><td>2599.445</td></tr>\n",
       "\t<tr><td>y</td><td>302.9121</td><td>1627.8432</td><td>2094.167</td></tr>\n",
       "\t<tr><td>æ</td><td>598.9991</td><td>1485.5933</td><td>2374.373</td></tr>\n",
       "\t<tr><td>ø</td><td>353.5354</td><td>1654.6924</td><td>2219.495</td></tr>\n",
       "\t<tr><td>œ</td><td>556.2411</td><td>1437.2258</td><td>2492.393</td></tr>\n",
       "\t<tr><td>ɒ</td><td>713.4208</td><td>1564.5015</td><td>3090.859</td></tr>\n",
       "\t<tr><td>ə</td><td>515.3543</td><td>1683.9217</td><td>2413.589</td></tr>\n",
       "\t<tr><td>ɛ</td><td>509.0435</td><td>1847.9829</td><td>2438.308</td></tr>\n",
       "</tbody>\n",
       "</table>\n"
      ],
      "text/latex": [
       "A tibble: 11 × 4\n",
       "\\begin{tabular}{llll}\n",
       " vowel & F1 & F2 & F3\\\\\n",
       " <chr> & <dbl> & <dbl> & <dbl>\\\\\n",
       "\\hline\n",
       "\t e & 486.6917 & 1801.2473 & 2643.954\\\\\n",
       "\t i & 334.0215 & 2355.3664 & 3273.379\\\\\n",
       "\t o & 449.0586 &  642.1006 & 2626.705\\\\\n",
       "\t u & 321.5930 &  684.0990 & 2599.445\\\\\n",
       "\t y & 302.9121 & 1627.8432 & 2094.167\\\\\n",
       "\t æ & 598.9991 & 1485.5933 & 2374.373\\\\\n",
       "\t ø & 353.5354 & 1654.6924 & 2219.495\\\\\n",
       "\t œ & 556.2411 & 1437.2258 & 2492.393\\\\\n",
       "\t ɒ & 713.4208 & 1564.5015 & 3090.859\\\\\n",
       "\t ə & 515.3543 & 1683.9217 & 2413.589\\\\\n",
       "\t ɛ & 509.0435 & 1847.9829 & 2438.308\\\\\n",
       "\\end{tabular}\n"
      ],
      "text/markdown": [
       "\n",
       "A tibble: 11 × 4\n",
       "\n",
       "| vowel &lt;chr&gt; | F1 &lt;dbl&gt; | F2 &lt;dbl&gt; | F3 &lt;dbl&gt; |\n",
       "|---|---|---|---|\n",
       "| e | 486.6917 | 1801.2473 | 2643.954 |\n",
       "| i | 334.0215 | 2355.3664 | 3273.379 |\n",
       "| o | 449.0586 |  642.1006 | 2626.705 |\n",
       "| u | 321.5930 |  684.0990 | 2599.445 |\n",
       "| y | 302.9121 | 1627.8432 | 2094.167 |\n",
       "| æ | 598.9991 | 1485.5933 | 2374.373 |\n",
       "| ø | 353.5354 | 1654.6924 | 2219.495 |\n",
       "| œ | 556.2411 | 1437.2258 | 2492.393 |\n",
       "| ɒ | 713.4208 | 1564.5015 | 3090.859 |\n",
       "| ə | 515.3543 | 1683.9217 | 2413.589 |\n",
       "| ɛ | 509.0435 | 1847.9829 | 2438.308 |\n",
       "\n"
      ],
      "text/plain": [
       "   vowel F1       F2        F3      \n",
       "1  e     486.6917 1801.2473 2643.954\n",
       "2  i     334.0215 2355.3664 3273.379\n",
       "3  o     449.0586  642.1006 2626.705\n",
       "4  u     321.5930  684.0990 2599.445\n",
       "5  y     302.9121 1627.8432 2094.167\n",
       "6  æ     598.9991 1485.5933 2374.373\n",
       "7  ø     353.5354 1654.6924 2219.495\n",
       "8  œ     556.2411 1437.2258 2492.393\n",
       "9  ɒ     713.4208 1564.5015 3090.859\n",
       "10 ə     515.3543 1683.9217 2413.589\n",
       "11 ɛ     509.0435 1847.9829 2438.308"
      ]
     },
     "metadata": {},
     "output_type": "display_data"
    }
   ],
   "source": [
    "zurich_avg <- zurich_obs %>%\n",
    "                group_by(vowel) %>%\n",
    "                  summarize(F1=mean(F1),F2=mean(F2),F3=mean(F3))\n",
    "zurich_avg"
   ]
  },
  {
   "attachments": {},
   "cell_type": "markdown",
   "metadata": {},
   "source": [
    "### Visualization of the F1-F2 acoustic vowel space"
   ]
  },
  {
   "cell_type": "code",
   "execution_count": 20,
   "metadata": {
    "vscode": {
     "languageId": "r"
    }
   },
   "outputs": [
    {
     "data": {
      "image/png": "[encoded data removed]",
      "text/plain": [
       "plot without title"
      ]
     },
     "metadata": {
      "image/png": {
       "height": 600,
       "width": 600
      }
     },
     "output_type": "display_data"
    }
   ],
   "source": [
    "options(repr.plot.width=10, repr.plot.height=10)\n",
    "\n",
    "plt <- ggplot(zurich_avg, aes(x=F2, y=F1, label=vowel, color=vowel)) +\n",
    "  geom_text(size=10) +\n",
    "  scale_x_reverse(\n",
    "      position='bottom',\n",
    "      breaks=seq(0, 3000, 200)) +\n",
    "  scale_y_reverse(\n",
    "      position='left',\n",
    "      breaks=seq(0, 1000, 100)) +\n",
    "  labs(\n",
    "    x='F2 [Hz]\\n',\n",
    "    y='F1 [Hz]\\n',\n",
    "    title='Zurich German [F1 vs F2]') +\n",
    "  theme(\n",
    "    legend.position='none',\n",
    "    plot.title=element_text(hjust=0.5),\n",
    "    text=element_text(size=20)\n",
    "  )\n",
    "\n",
    "suppressWarnings(print(plt))"
   ]
  },
  {
   "attachments": {},
   "cell_type": "markdown",
   "metadata": {},
   "source": [
    "### Analysis"
   ]
  },
  {
   "attachments": {},
   "cell_type": "markdown",
   "metadata": {},
   "source": [
    "[1] Which pairs of vowels look like they are close together and are potentially confusable? (No less than three pairs.)\n",
    "\n",
    "* the [near-open front unrounded vowel](https://en.wikipedia.org/wiki/Near-open_front_unrounded_vowel) [æ] and the [open front rounded vowel](https://en.wikipedia.org/wiki/Open_front_rounded_vowel) [œ]\n",
    "* the [close-mid front unrounded vowel](https://en.wikipedia.org/wiki/Close-mid_front_unrounded_vowel) [e] and the [open-mid front unrounded vowel](https://en.wikipedia.org/wiki/Open-mid_front_unrounded_vowel) [ɛ]\n",
    "* the [close-mid front rounded vowel](https://en.wikipedia.org/wiki/Close-mid_front_rounded_vowel) [ø] and the [close front rounded vowel](https://en.wikipedia.org/wiki/Close_front_rounded_vowel) [y]"
   ]
  },
  {
   "attachments": {},
   "cell_type": "markdown",
   "metadata": {},
   "source": [
    "[2] Examine F3 for each pair of vowels. Do you think F3 might help speakers distinguish the vowel pairs from one another? Why or why not?\n",
    "\n"
   ]
  },
  {
   "cell_type": "code",
   "execution_count": 3,
   "metadata": {
    "tags": [
     "hide-input"
    ],
    "vscode": {
     "languageId": "r"
    }
   },
   "outputs": [
    {
     "data": {
      "text/html": [
       "<table class=\"dataframe\">\n",
       "<caption>A tibble: 6 × 2</caption>\n",
       "<thead>\n",
       "\t<tr><th scope=col>vowel</th><th scope=col>F3</th></tr>\n",
       "\t<tr><th scope=col>&lt;chr&gt;</th><th scope=col>&lt;dbl&gt;</th></tr>\n",
       "</thead>\n",
       "<tbody>\n",
       "\t<tr><td>e</td><td>2643.954</td></tr>\n",
       "\t<tr><td>y</td><td>2094.167</td></tr>\n",
       "\t<tr><td>æ</td><td>2374.373</td></tr>\n",
       "\t<tr><td>ø</td><td>2219.495</td></tr>\n",
       "\t<tr><td>œ</td><td>2492.393</td></tr>\n",
       "\t<tr><td>ɛ</td><td>2438.308</td></tr>\n",
       "</tbody>\n",
       "</table>\n"
      ],
      "text/latex": [
       "A tibble: 6 × 2\n",
       "\\begin{tabular}{ll}\n",
       " vowel & F3\\\\\n",
       " <chr> & <dbl>\\\\\n",
       "\\hline\n",
       "\t e & 2643.954\\\\\n",
       "\t y & 2094.167\\\\\n",
       "\t æ & 2374.373\\\\\n",
       "\t ø & 2219.495\\\\\n",
       "\t œ & 2492.393\\\\\n",
       "\t ɛ & 2438.308\\\\\n",
       "\\end{tabular}\n"
      ],
      "text/markdown": [
       "\n",
       "A tibble: 6 × 2\n",
       "\n",
       "| vowel &lt;chr&gt; | F3 &lt;dbl&gt; |\n",
       "|---|---|\n",
       "| e | 2643.954 |\n",
       "| y | 2094.167 |\n",
       "| æ | 2374.373 |\n",
       "| ø | 2219.495 |\n",
       "| œ | 2492.393 |\n",
       "| ɛ | 2438.308 |\n",
       "\n"
      ],
      "text/plain": [
       "  vowel F3      \n",
       "1 e     2643.954\n",
       "2 y     2094.167\n",
       "3 æ     2374.373\n",
       "4 ø     2219.495\n",
       "5 œ     2492.393\n",
       "6 ɛ     2438.308"
      ]
     },
     "metadata": {},
     "output_type": "display_data"
    }
   ],
   "source": [
    "zurich_avg %>%\n",
    "  select(vowel,F3) %>%\n",
    "    slice(1,5,6,7,8,11)"
   ]
  },
  {
   "attachments": {},
   "cell_type": "markdown",
   "metadata": {},
   "source": [
    "[3] Do you think any other acoustic cues underlie the observed vowel differences? If so, which ones?\n",
    "\n",
    "\n",
    "[4] Do you think an auditory plot would show differences not seen in the acoustic plot? Why or why not?"
   ]
  },
  {
   "attachments": {},
   "cell_type": "markdown",
   "metadata": {},
   "source": [
    "---"
   ]
  },
  {
   "attachments": {},
   "cell_type": "markdown",
   "metadata": {},
   "source": [
    "## Quechua Stops"
   ]
  },
  {
   "attachments": {},
   "cell_type": "markdown",
   "metadata": {},
   "source": [
    "Salasaca Quechua has a three-way contrast in stop phonemes between voiceless, voiceless aspirated, and voiced stops.\n",
    "\n",
    "Measure the VOT\n",
    "\n",
    "[p]\n",
    "\n",
    "[ph]\n",
    "\n",
    "[b]\n",
    "\n",
    "[t]\n",
    "\n",
    "[th]\n",
    "\n",
    "[d]\n",
    "\n",
    "[k]\n",
    "\n",
    "[kh]\n",
    "\n",
    "[g]"
   ]
  },
  {
   "attachments": {},
   "cell_type": "markdown",
   "metadata": {},
   "source": [
    "### VOT observations"
   ]
  },
  {
   "cell_type": "code",
   "execution_count": 11,
   "metadata": {
    "tags": [
     "hide-input"
    ],
    "vscode": {
     "languageId": "r"
    }
   },
   "outputs": [
    {
     "data": {
      "text/html": [
       "<table class=\"dataframe\">\n",
       "<caption>A tibble: 24 × 3</caption>\n",
       "<thead>\n",
       "\t<tr><th scope=col>token</th><th scope=col>stop</th><th scope=col>vot</th></tr>\n",
       "\t<tr><th scope=col>&lt;chr&gt;</th><th scope=col>&lt;chr&gt;</th><th scope=col>&lt;dbl&gt;</th></tr>\n",
       "</thead>\n",
       "<tbody>\n",
       "\t<tr><td>pungu </td><td>p </td><td> 0.015893</td></tr>\n",
       "\t<tr><td>pungu </td><td>g </td><td> 0.033120</td></tr>\n",
       "\t<tr><td>patsuk</td><td>p </td><td> 0.009725</td></tr>\n",
       "\t<tr><td>sipu  </td><td>p </td><td> 0.021879</td></tr>\n",
       "\t<tr><td>phaki </td><td>ph</td><td> 0.039716</td></tr>\n",
       "\t<tr><td>phaki </td><td>k </td><td> 0.035454</td></tr>\n",
       "\t<tr><td>bunga </td><td>b </td><td>-0.132969</td></tr>\n",
       "\t<tr><td>bunga </td><td>g </td><td> 0.021412</td></tr>\n",
       "\t<tr><td>wasibi</td><td>b </td><td> 0.000000</td></tr>\n",
       "\t<tr><td>taki  </td><td>t </td><td> 0.019589</td></tr>\n",
       "\t<tr><td>taki  </td><td>k </td><td> 0.036247</td></tr>\n",
       "\t<tr><td>tuta  </td><td>t </td><td> 0.020096</td></tr>\n",
       "\t<tr><td>tuta  </td><td>t </td><td> 0.012146</td></tr>\n",
       "\t<tr><td>thuktu</td><td>th</td><td> 0.032266</td></tr>\n",
       "\t<tr><td>thuktu</td><td>t </td><td> 0.015750</td></tr>\n",
       "\t<tr><td>dali  </td><td>d </td><td>-0.105084</td></tr>\n",
       "\t<tr><td>tshida</td><td>d </td><td> 0.000000</td></tr>\n",
       "\t<tr><td>kushni</td><td>k </td><td> 0.035806</td></tr>\n",
       "\t<tr><td>wajku </td><td>k </td><td> 0.025784</td></tr>\n",
       "\t<tr><td>khata </td><td>kh</td><td> 0.053653</td></tr>\n",
       "\t<tr><td>khata </td><td>t </td><td> 0.014999</td></tr>\n",
       "\t<tr><td>gan   </td><td>g </td><td>-0.165850</td></tr>\n",
       "\t<tr><td>tawga </td><td>t </td><td> 0.015944</td></tr>\n",
       "\t<tr><td>tawga </td><td>g </td><td> 0.000000</td></tr>\n",
       "</tbody>\n",
       "</table>\n"
      ],
      "text/latex": [
       "A tibble: 24 × 3\n",
       "\\begin{tabular}{lll}\n",
       " token & stop & vot\\\\\n",
       " <chr> & <chr> & <dbl>\\\\\n",
       "\\hline\n",
       "\t pungu  & p  &  0.015893\\\\\n",
       "\t pungu  & g  &  0.033120\\\\\n",
       "\t patsuk & p  &  0.009725\\\\\n",
       "\t sipu   & p  &  0.021879\\\\\n",
       "\t phaki  & ph &  0.039716\\\\\n",
       "\t phaki  & k  &  0.035454\\\\\n",
       "\t bunga  & b  & -0.132969\\\\\n",
       "\t bunga  & g  &  0.021412\\\\\n",
       "\t wasibi & b  &  0.000000\\\\\n",
       "\t taki   & t  &  0.019589\\\\\n",
       "\t taki   & k  &  0.036247\\\\\n",
       "\t tuta   & t  &  0.020096\\\\\n",
       "\t tuta   & t  &  0.012146\\\\\n",
       "\t thuktu & th &  0.032266\\\\\n",
       "\t thuktu & t  &  0.015750\\\\\n",
       "\t dali   & d  & -0.105084\\\\\n",
       "\t tshida & d  &  0.000000\\\\\n",
       "\t kushni & k  &  0.035806\\\\\n",
       "\t wajku  & k  &  0.025784\\\\\n",
       "\t khata  & kh &  0.053653\\\\\n",
       "\t khata  & t  &  0.014999\\\\\n",
       "\t gan    & g  & -0.165850\\\\\n",
       "\t tawga  & t  &  0.015944\\\\\n",
       "\t tawga  & g  &  0.000000\\\\\n",
       "\\end{tabular}\n"
      ],
      "text/markdown": [
       "\n",
       "A tibble: 24 × 3\n",
       "\n",
       "| token &lt;chr&gt; | stop &lt;chr&gt; | vot &lt;dbl&gt; |\n",
       "|---|---|---|\n",
       "| pungu  | p  |  0.015893 |\n",
       "| pungu  | g  |  0.033120 |\n",
       "| patsuk | p  |  0.009725 |\n",
       "| sipu   | p  |  0.021879 |\n",
       "| phaki  | ph |  0.039716 |\n",
       "| phaki  | k  |  0.035454 |\n",
       "| bunga  | b  | -0.132969 |\n",
       "| bunga  | g  |  0.021412 |\n",
       "| wasibi | b  |  0.000000 |\n",
       "| taki   | t  |  0.019589 |\n",
       "| taki   | k  |  0.036247 |\n",
       "| tuta   | t  |  0.020096 |\n",
       "| tuta   | t  |  0.012146 |\n",
       "| thuktu | th |  0.032266 |\n",
       "| thuktu | t  |  0.015750 |\n",
       "| dali   | d  | -0.105084 |\n",
       "| tshida | d  |  0.000000 |\n",
       "| kushni | k  |  0.035806 |\n",
       "| wajku  | k  |  0.025784 |\n",
       "| khata  | kh |  0.053653 |\n",
       "| khata  | t  |  0.014999 |\n",
       "| gan    | g  | -0.165850 |\n",
       "| tawga  | t  |  0.015944 |\n",
       "| tawga  | g  |  0.000000 |\n",
       "\n"
      ],
      "text/plain": [
       "   token  stop vot      \n",
       "1  pungu  p     0.015893\n",
       "2  pungu  g     0.033120\n",
       "3  patsuk p     0.009725\n",
       "4  sipu   p     0.021879\n",
       "5  phaki  ph    0.039716\n",
       "6  phaki  k     0.035454\n",
       "7  bunga  b    -0.132969\n",
       "8  bunga  g     0.021412\n",
       "9  wasibi b     0.000000\n",
       "10 taki   t     0.019589\n",
       "11 taki   k     0.036247\n",
       "12 tuta   t     0.020096\n",
       "13 tuta   t     0.012146\n",
       "14 thuktu th    0.032266\n",
       "15 thuktu t     0.015750\n",
       "16 dali   d    -0.105084\n",
       "17 tshida d     0.000000\n",
       "18 kushni k     0.035806\n",
       "19 wajku  k     0.025784\n",
       "20 khata  kh    0.053653\n",
       "21 khata  t     0.014999\n",
       "22 gan    g    -0.165850\n",
       "23 tawga  t     0.015944\n",
       "24 tawga  g     0.000000"
      ]
     },
     "metadata": {},
     "output_type": "display_data"
    }
   ],
   "source": [
    "quechua_obs <- tribble(\n",
    "    ~token,~stop,     ~vot,\n",
    "   'pungu',  'p', 0.015893,\n",
    "   'pungu',  'g', 0.033120,\n",
    "  'patsuk',  'p', 0.009725,\n",
    "    'sipu',  'p', 0.021879,\n",
    "   'phaki', 'ph', 0.039716,\n",
    "   'phaki',  'k', 0.035454,\n",
    "   'bunga',  'b',-0.132969,\n",
    "   'bunga',  'g', 0.021412,\n",
    "  'wasibi',  'b', 0.0,\n",
    "    'taki',  't', 0.019589,\n",
    "    'taki',  'k', 0.036247,\n",
    "    'tuta',  't', 0.020096,\n",
    "    'tuta',  't', 0.012146,\n",
    "  'thuktu', 'th', 0.032266,\n",
    "  'thuktu',  't', 0.015750,\n",
    "    'dali',  'd',-0.105084,\n",
    "  'tshida',  'd', 0.0,\n",
    "  'kushni',  'k', 0.035806,\n",
    "   'wajku',  'k', 0.025784,\n",
    "   'khata', 'kh', 0.053653,\n",
    "   'khata',  't', 0.014999,\n",
    "     'gan',  'g',-0.165850,\n",
    "   'tawga',  't', 0.015944,\n",
    "   'tawga',  'g', 0.0,\n",
    ")\n",
    "quechua_obs"
   ]
  },
  {
   "attachments": {},
   "cell_type": "markdown",
   "metadata": {},
   "source": [
    "### VOT averages"
   ]
  },
  {
   "cell_type": "code",
   "execution_count": 12,
   "metadata": {
    "tags": [
     "hide-input"
    ],
    "vscode": {
     "languageId": "r"
    }
   },
   "outputs": [
    {
     "data": {
      "text/html": [
       "<table class=\"dataframe\">\n",
       "<caption>A tibble: 9 × 2</caption>\n",
       "<thead>\n",
       "\t<tr><th scope=col>stop</th><th scope=col>vot</th></tr>\n",
       "\t<tr><th scope=col>&lt;chr&gt;</th><th scope=col>&lt;dbl&gt;</th></tr>\n",
       "</thead>\n",
       "<tbody>\n",
       "\t<tr><td>b </td><td>-0.06648450</td></tr>\n",
       "\t<tr><td>d </td><td>-0.05254200</td></tr>\n",
       "\t<tr><td>g </td><td>-0.02782950</td></tr>\n",
       "\t<tr><td>k </td><td> 0.03332275</td></tr>\n",
       "\t<tr><td>kh</td><td> 0.05365300</td></tr>\n",
       "\t<tr><td>p </td><td> 0.01583233</td></tr>\n",
       "\t<tr><td>ph</td><td> 0.03971600</td></tr>\n",
       "\t<tr><td>t </td><td> 0.01642067</td></tr>\n",
       "\t<tr><td>th</td><td> 0.03226600</td></tr>\n",
       "</tbody>\n",
       "</table>\n"
      ],
      "text/latex": [
       "A tibble: 9 × 2\n",
       "\\begin{tabular}{ll}\n",
       " stop & vot\\\\\n",
       " <chr> & <dbl>\\\\\n",
       "\\hline\n",
       "\t b  & -0.06648450\\\\\n",
       "\t d  & -0.05254200\\\\\n",
       "\t g  & -0.02782950\\\\\n",
       "\t k  &  0.03332275\\\\\n",
       "\t kh &  0.05365300\\\\\n",
       "\t p  &  0.01583233\\\\\n",
       "\t ph &  0.03971600\\\\\n",
       "\t t  &  0.01642067\\\\\n",
       "\t th &  0.03226600\\\\\n",
       "\\end{tabular}\n"
      ],
      "text/markdown": [
       "\n",
       "A tibble: 9 × 2\n",
       "\n",
       "| stop &lt;chr&gt; | vot &lt;dbl&gt; |\n",
       "|---|---|\n",
       "| b  | -0.06648450 |\n",
       "| d  | -0.05254200 |\n",
       "| g  | -0.02782950 |\n",
       "| k  |  0.03332275 |\n",
       "| kh |  0.05365300 |\n",
       "| p  |  0.01583233 |\n",
       "| ph |  0.03971600 |\n",
       "| t  |  0.01642067 |\n",
       "| th |  0.03226600 |\n",
       "\n"
      ],
      "text/plain": [
       "  stop vot        \n",
       "1 b    -0.06648450\n",
       "2 d    -0.05254200\n",
       "3 g    -0.02782950\n",
       "4 k     0.03332275\n",
       "5 kh    0.05365300\n",
       "6 p     0.01583233\n",
       "7 ph    0.03971600\n",
       "8 t     0.01642067\n",
       "9 th    0.03226600"
      ]
     },
     "metadata": {},
     "output_type": "display_data"
    }
   ],
   "source": [
    "quechua_avg <- quechua_obs %>%\n",
    "                group_by(stop) %>%\n",
    "                  summarize(vot=mean(vot))\n",
    "quechua_avg"
   ]
  },
  {
   "attachments": {},
   "cell_type": "markdown",
   "metadata": {},
   "source": [
    "### Spectrograms"
   ]
  },
  {
   "attachments": {},
   "cell_type": "markdown",
   "metadata": {},
   "source": [
    "`````{tab-set}\n",
    "````{tab-item} [p]ungu\n",
    "![](img/L6_00_pungu1.png)\n",
    "````\n",
    "````{tab-item} pun[g]u\n",
    "![](img/L6_00_pungu2.png)\n",
    "````\n",
    "````{tab-item} [p]atsuk\n",
    "![](img/L6_01_patsuk.png)\n",
    "````\n",
    "````{tab-item} si[p]u\n",
    "![](img/L6_02_sipu.png)\n",
    "````\n",
    "````{tab-item} [ph]aki\n",
    "![](img/L6_03_phaki1.png)\n",
    "````\n",
    "````{tab-item} pha[k]i\n",
    "![](img/L6_03_phaki2.png)\n",
    "````\n",
    "````{tab-item} [b]unga\n",
    "![](img/L6_04_bunga1.png)\n",
    "````\n",
    "````{tab-item} bun[g]a\n",
    "![](img/L6_04_bunga2.png)\n",
    "````\n",
    "````{tab-item} wasi[b]i\n",
    "![](img/L6_05_wasibi.png)\n",
    "````\n",
    "````{tab-item} [t]aki\n",
    "![](img/L6_06_taki1.png)\n",
    "````\n",
    "````{tab-item} ta[k]i\n",
    "![](img/L6_06_taki2.png)\n",
    "````\n",
    "````{tab-item} [t]uta\n",
    "![](img/L6_07_tuta1.png)\n",
    "````\n",
    "````{tab-item} tu[t]a\n",
    "![](img/L6_07_tuta2.png)\n",
    "````\n",
    "````{tab-item} [th]uktu\n",
    "![](img/L6_08_thuktu1.png)\n",
    "````\n",
    "````{tab-item} thuk[t]u\n",
    "![](img/L6_08_thuktu2.png)\n",
    "````\n",
    "````{tab-item} dali\n",
    "![](img/L6_09_dali.png)\n",
    "````\n",
    "````{tab-item} tshi[d]a\n",
    "![](img/L6_10_tshida.png)\n",
    "````\n",
    "````{tab-item} [k]ushni\n",
    "![](img/L6_11_kushni.png)\n",
    "````\n",
    "````{tab-item} wajku\n",
    "![](img/L6_12_wajku.png)\n",
    "````\n",
    "````{tab-item} [kh]ata\n",
    "![](img/L6_13_khata1.png)\n",
    "````\n",
    "````{tab-item} kha[t]a\n",
    "![](img/L6_13_khata2.png)\n",
    "````\n",
    "````{tab-item} [g]an\n",
    "![](img/L6_14_gan.png)\n",
    "````\n",
    "````{tab-item} [t]awga\n",
    "![](img/L6_15_tawga1.png)\n",
    "````\n",
    "````{tab-item} taw[g]a\n",
    "![](img/L6_15_tawga2.png)\n",
    "````\n",
    "`````"
   ]
  },
  {
   "attachments": {},
   "cell_type": "markdown",
   "metadata": {},
   "source": [
    "### Analysis"
   ]
  },
  {
   "attachments": {},
   "cell_type": "markdown",
   "metadata": {},
   "source": [
    "[1] If you only saw the VOT patterns without any transcription, would you think there was a three-way contrast? Why or why not?\n",
    "\n",
    "[2] Do you think that any acoustic cues other than VOT play a role in these contrasts?"
   ]
  },
  {
   "attachments": {},
   "cell_type": "markdown",
   "metadata": {},
   "source": [
    "---"
   ]
  },
  {
   "attachments": {},
   "cell_type": "markdown",
   "metadata": {},
   "source": [
    "## Korean Fricatives"
   ]
  },
  {
   "attachments": {},
   "cell_type": "markdown",
   "metadata": {},
   "source": [
    "Examine the phonetic correlates of a cross-linguistically unsual voiceless alveolar fricative constrast in Korean:\n",
    "\n",
    "[sʰ] lenis aspirated fricative\n",
    "\n",
    "[ss] fortis fricative\n",
    "\n",
    "Which acoustic cues appear to be relevant to speaker-listeners' perception in distinguishing the fricatives? Which ones don't?"
   ]
  },
  {
   "attachments": {},
   "cell_type": "markdown",
   "metadata": {},
   "source": [
    "### Acoustic cue measurements"
   ]
  },
  {
   "cell_type": "code",
   "execution_count": 17,
   "metadata": {
    "tags": [
     "hide-input"
    ],
    "vscode": {
     "languageId": "r"
    }
   },
   "outputs": [
    {
     "data": {
      "text/html": [
       "<table class=\"dataframe\">\n",
       "<caption>A tibble: 2 × 10</caption>\n",
       "<thead>\n",
       "\t<tr><th scope=col>token</th><th scope=col>duration_ms</th><th scope=col>F0_transition_Hz</th><th scope=col>spectral_peak_Hz</th><th scope=col>spectral_peak_dB</th><th scope=col>H1_Hz</th><th scope=col>H1_dB</th><th scope=col>H2_Hz</th><th scope=col>H2_dB</th><th scope=col>H1_minus_H2_dB</th></tr>\n",
       "\t<tr><th scope=col>&lt;chr&gt;</th><th scope=col>&lt;dbl&gt;</th><th scope=col>&lt;dbl&gt;</th><th scope=col>&lt;dbl&gt;</th><th scope=col>&lt;dbl&gt;</th><th scope=col>&lt;dbl&gt;</th><th scope=col>&lt;dbl&gt;</th><th scope=col>&lt;dbl&gt;</th><th scope=col>&lt;dbl&gt;</th><th scope=col>&lt;dbl&gt;</th></tr>\n",
       "</thead>\n",
       "<tbody>\n",
       "\t<tr><td>[sʰ]</td><td>0.208705</td><td>125</td><td>4347.11</td><td>28.5</td><td>235.19</td><td>43.6</td><td>841.14</td><td>39.6</td><td>4.0</td></tr>\n",
       "\t<tr><td>[ss]</td><td>0.213125</td><td>128</td><td>4449.29</td><td>36.6</td><td>226.67</td><td>46.2</td><td>834.28</td><td>46.1</td><td>0.1</td></tr>\n",
       "</tbody>\n",
       "</table>\n"
      ],
      "text/latex": [
       "A tibble: 2 × 10\n",
       "\\begin{tabular}{llllllllll}\n",
       " token & duration\\_ms & F0\\_transition\\_Hz & spectral\\_peak\\_Hz & spectral\\_peak\\_dB & H1\\_Hz & H1\\_dB & H2\\_Hz & H2\\_dB & H1\\_minus\\_H2\\_dB\\\\\n",
       " <chr> & <dbl> & <dbl> & <dbl> & <dbl> & <dbl> & <dbl> & <dbl> & <dbl> & <dbl>\\\\\n",
       "\\hline\n",
       "\t {[}sʰ{]} & 0.208705 & 125 & 4347.11 & 28.5 & 235.19 & 43.6 & 841.14 & 39.6 & 4.0\\\\\n",
       "\t {[}ss{]} & 0.213125 & 128 & 4449.29 & 36.6 & 226.67 & 46.2 & 834.28 & 46.1 & 0.1\\\\\n",
       "\\end{tabular}\n"
      ],
      "text/markdown": [
       "\n",
       "A tibble: 2 × 10\n",
       "\n",
       "| token &lt;chr&gt; | duration_ms &lt;dbl&gt; | F0_transition_Hz &lt;dbl&gt; | spectral_peak_Hz &lt;dbl&gt; | spectral_peak_dB &lt;dbl&gt; | H1_Hz &lt;dbl&gt; | H1_dB &lt;dbl&gt; | H2_Hz &lt;dbl&gt; | H2_dB &lt;dbl&gt; | H1_minus_H2_dB &lt;dbl&gt; |\n",
       "|---|---|---|---|---|---|---|---|---|---|\n",
       "| [sʰ] | 0.208705 | 125 | 4347.11 | 28.5 | 235.19 | 43.6 | 841.14 | 39.6 | 4.0 |\n",
       "| [ss] | 0.213125 | 128 | 4449.29 | 36.6 | 226.67 | 46.2 | 834.28 | 46.1 | 0.1 |\n",
       "\n"
      ],
      "text/plain": [
       "  token duration_ms F0_transition_Hz spectral_peak_Hz spectral_peak_dB H1_Hz \n",
       "1 [sʰ]  0.208705    125              4347.11          28.5             235.19\n",
       "2 [ss]  0.213125    128              4449.29          36.6             226.67\n",
       "  H1_dB H2_Hz  H2_dB H1_minus_H2_dB\n",
       "1 43.6  841.14 39.6  4.0           \n",
       "2 46.2  834.28 46.1  0.1           "
      ]
     },
     "metadata": {},
     "output_type": "display_data"
    }
   ],
   "source": [
    "korean <- tribble(\n",
    "  ~token,~duration_ms,~F0_transition_Hz,~spectral_peak_Hz,~spectral_peak_dB,~H1_Hz,~H1_dB,~H2_Hz,~H2_dB,\n",
    "  '[sʰ]',    0.208705,              125,          4347.11,             28.5,235.19,  43.6,841.14,  39.6,\n",
    "  '[ss]',    0.213125,              128,          4449.29,             36.6,226.67,  46.2,834.28,  46.1\n",
    ")\n",
    "korean %>%\n",
    "  mutate(\n",
    "    H1_minus_H2_dB = H1_dB - H2_dB\n",
    "  )"
   ]
  },
  {
   "attachments": {},
   "cell_type": "markdown",
   "metadata": {},
   "source": [
    "### Spectrograms and power spectra"
   ]
  },
  {
   "attachments": {},
   "cell_type": "markdown",
   "metadata": {},
   "source": [
    "`````{tab-set}\n",
    "````{tab-item} [sʰ] duration\n",
    "![](img/L6_20_sh_duration.png)\n",
    "````\n",
    "````{tab-item} [ss] duration\n",
    "![](img/L6_21_ss_duration.png)\n",
    "````\n",
    "````{tab-item} [sʰ] spectral slice\n",
    "![](img/L6_22_sh_spectral_slice.png)\n",
    "````\n",
    "````{tab-item} [ss] spectral slice\n",
    "![](img/L6_23_ss_spectral_slice.png)\n",
    "````\n",
    "````{tab-item} [sʰ] spectral peak\n",
    "![](img/L6_24_sh_spectral_peak.png)\n",
    "````\n",
    "````{tab-item} [ss] spectral peak\n",
    "![](img/L6_25_ss_spectral_peak.png)\n",
    "````\n",
    "````{tab-item} sʰ[a] spectral slice\n",
    "![](img/L6_26_sha_spectral_slice.png)\n",
    "````\n",
    "````{tab-item} ss[a] spectral slice\n",
    "![](img/L6_29_ssa_spectral_slice.png)\n",
    "````\n",
    "````{tab-item} sʰ[a] H1\n",
    "![](img/L6_27_sha_H1.png)\n",
    "````\n",
    "````{tab-item} sʰ[a] H2\n",
    "![](img/L6_28_sha_H2.png)\n",
    "````\n",
    "````{tab-item} ss[a] H1\n",
    "![](img/L6_30_ssa_H1.png)\n",
    "````\n",
    "````{tab-item} ss[a] H2\n",
    "![](img/L6_31_ssa_H2.png)\n",
    "````\n",
    "`````"
   ]
  },
  {
   "attachments": {},
   "cell_type": "markdown",
   "metadata": {},
   "source": [
    "---"
   ]
  },
  {
   "attachments": {},
   "cell_type": "markdown",
   "metadata": {},
   "source": [
    "## Central Arrernte Nasals"
   ]
  },
  {
   "attachments": {},
   "cell_type": "markdown",
   "metadata": {},
   "source": [
    "Central Arrernte is an aboriginal Australian language that has nasal phonemes at many places of articulation.\n",
    "\n",
    "Examine the formant and antiformant properties of the nasal. (Note: A final epenthetic vowel [a] may be heard at the end of consonant-final words pronounced in isolation, but is not included in the transcription.)\n",
    "\n",
    "[m] [bilabial](https://en.wikipedia.org/wiki/Voiced_bilabial_nasal)\n",
    "\n",
    "[ŋ] [velar](https://en.wikipedia.org/wiki/Voiced_velar_nasal)\n",
    "\n",
    "[n̪] [dental](https://en.wikipedia.org/wiki/Voiced_dental,_alveolar_and_postalveolar_nasals)\n",
    "\n",
    "[n] [apicoalveolar](https://en.wikipedia.org/wiki/Voiced_dental,_alveolar_and_postalveolar_nasals)\n",
    "\n",
    "[ɲ] [palatal](https://en.wikipedia.org/wiki/Voiced_palatal_nasal)\n",
    "\n",
    "[ɳ] [retroflex](https://en.wikipedia.org/wiki/Voiced_retroflex_nasal)"
   ]
  },
  {
   "attachments": {},
   "cell_type": "markdown",
   "metadata": {},
   "source": [
    "### F1, F2, F3 observations"
   ]
  },
  {
   "cell_type": "code",
   "execution_count": 22,
   "metadata": {
    "tags": [
     "hide-input"
    ],
    "vscode": {
     "languageId": "r"
    }
   },
   "outputs": [
    {
     "data": {
      "text/html": [
       "<table class=\"dataframe\">\n",
       "<caption>A tibble: 7 × 5</caption>\n",
       "<thead>\n",
       "\t<tr><th scope=col>token</th><th scope=col>nasal</th><th scope=col>F1_Hz</th><th scope=col>F2_Hz</th><th scope=col>F3_Hz</th></tr>\n",
       "\t<tr><th scope=col>&lt;chr&gt;</th><th scope=col>&lt;chr&gt;</th><th scope=col>&lt;dbl&gt;</th><th scope=col>&lt;dbl&gt;</th><th scope=col>&lt;dbl&gt;</th></tr>\n",
       "</thead>\n",
       "<tbody>\n",
       "\t<tr><td>[aməŋ]</td><td>m</td><td>285.2174</td><td>1542.619</td><td>2431.580</td></tr>\n",
       "\t<tr><td>[aməŋ]</td><td>ŋ</td><td>405.2672</td><td>2535.106</td><td>2605.047</td></tr>\n",
       "\t<tr><td>[an̪ək]</td><td>n̪</td><td>280.2020</td><td>1689.419</td><td>2615.093</td></tr>\n",
       "\t<tr><td>[aɲək]</td><td>ɲ</td><td>329.7587</td><td>2379.265</td><td>3247.250</td></tr>\n",
       "\t<tr><td>[anək]</td><td>n</td><td>322.6723</td><td>1699.682</td><td>2534.887</td></tr>\n",
       "\t<tr><td>[aɳək]</td><td>ɳ</td><td>349.1756</td><td>2380.279</td><td>4208.140</td></tr>\n",
       "\t<tr><td>[aŋək]</td><td>ŋ</td><td>344.2634</td><td>1173.231</td><td>2555.466</td></tr>\n",
       "</tbody>\n",
       "</table>\n"
      ],
      "text/latex": [
       "A tibble: 7 × 5\n",
       "\\begin{tabular}{lllll}\n",
       " token & nasal & F1\\_Hz & F2\\_Hz & F3\\_Hz\\\\\n",
       " <chr> & <chr> & <dbl> & <dbl> & <dbl>\\\\\n",
       "\\hline\n",
       "\t {[}aməŋ{]} & m & 285.2174 & 1542.619 & 2431.580\\\\\n",
       "\t {[}aməŋ{]} & ŋ & 405.2672 & 2535.106 & 2605.047\\\\\n",
       "\t {[}an̪ək{]} & n̪ & 280.2020 & 1689.419 & 2615.093\\\\\n",
       "\t {[}aɲək{]} & ɲ & 329.7587 & 2379.265 & 3247.250\\\\\n",
       "\t {[}anək{]} & n & 322.6723 & 1699.682 & 2534.887\\\\\n",
       "\t {[}aɳək{]} & ɳ & 349.1756 & 2380.279 & 4208.140\\\\\n",
       "\t {[}aŋək{]} & ŋ & 344.2634 & 1173.231 & 2555.466\\\\\n",
       "\\end{tabular}\n"
      ],
      "text/markdown": [
       "\n",
       "A tibble: 7 × 5\n",
       "\n",
       "| token &lt;chr&gt; | nasal &lt;chr&gt; | F1_Hz &lt;dbl&gt; | F2_Hz &lt;dbl&gt; | F3_Hz &lt;dbl&gt; |\n",
       "|---|---|---|---|---|\n",
       "| [aməŋ] | m | 285.2174 | 1542.619 | 2431.580 |\n",
       "| [aməŋ] | ŋ | 405.2672 | 2535.106 | 2605.047 |\n",
       "| [an̪ək] | n̪ | 280.2020 | 1689.419 | 2615.093 |\n",
       "| [aɲək] | ɲ | 329.7587 | 2379.265 | 3247.250 |\n",
       "| [anək] | n | 322.6723 | 1699.682 | 2534.887 |\n",
       "| [aɳək] | ɳ | 349.1756 | 2380.279 | 4208.140 |\n",
       "| [aŋək] | ŋ | 344.2634 | 1173.231 | 2555.466 |\n",
       "\n"
      ],
      "text/plain": [
       "  token  nasal F1_Hz    F2_Hz    F3_Hz   \n",
       "1 [aməŋ] m     285.2174 1542.619 2431.580\n",
       "2 [aməŋ] ŋ     405.2672 2535.106 2605.047\n",
       "3 [an̪ək] n̪     280.2020 1689.419 2615.093\n",
       "4 [aɲək] ɲ     329.7587 2379.265 3247.250\n",
       "5 [anək] n     322.6723 1699.682 2534.887\n",
       "6 [aɳək] ɳ     349.1756 2380.279 4208.140\n",
       "7 [aŋək] ŋ     344.2634 1173.231 2555.466"
      ]
     },
     "metadata": {},
     "output_type": "display_data"
    }
   ],
   "source": [
    "arrernte_obs <- tribble(\n",
    "    ~token,~nasal,            ~F1_Hz,            ~F2_Hz,           ~F3_Hz,\n",
    "  '[aməŋ]',   'm',285.2174050473007,1542.6186253059136,2431.579956472647,\n",
    "  '[aməŋ]',   'ŋ',405.2672201535346,2535.1062570576146,2605.047099678809,\n",
    "  '[an̪ək]',   'n̪',280.2019747834746,1689.4191253832691,2615.092986757470,\n",
    "  '[aɲək]',   'ɲ',329.7587005075927,2379.2648129406225,3247.250092150123,\n",
    "  '[anək]',   'n',322.6723066332579,1699.6822986841912,2534.886655673502,\n",
    "  '[aɳək]',   'ɳ',349.1755943432434,2380.2786511502973,4208.140362545317,\n",
    "  '[aŋək]',   'ŋ',344.2634488457356,1173.2307520047038,2555.466245180057\n",
    ")\n",
    "arrernte_obs"
   ]
  },
  {
   "attachments": {},
   "cell_type": "markdown",
   "metadata": {},
   "source": [
    "### F1, F2, F3 averages"
   ]
  },
  {
   "cell_type": "code",
   "execution_count": 24,
   "metadata": {
    "tags": [
     "hide-input"
    ],
    "vscode": {
     "languageId": "r"
    }
   },
   "outputs": [
    {
     "data": {
      "text/html": [
       "<table class=\"dataframe\">\n",
       "<caption>A tibble: 6 × 4</caption>\n",
       "<thead>\n",
       "\t<tr><th scope=col>nasal</th><th scope=col>F1_Hz</th><th scope=col>F2_Hz</th><th scope=col>F3_Hz</th></tr>\n",
       "\t<tr><th scope=col>&lt;chr&gt;</th><th scope=col>&lt;dbl&gt;</th><th scope=col>&lt;dbl&gt;</th><th scope=col>&lt;dbl&gt;</th></tr>\n",
       "</thead>\n",
       "<tbody>\n",
       "\t<tr><td>m</td><td>285.2174</td><td>1542.619</td><td>2431.580</td></tr>\n",
       "\t<tr><td>n</td><td>322.6723</td><td>1699.682</td><td>2534.887</td></tr>\n",
       "\t<tr><td>n̪</td><td>280.2020</td><td>1689.419</td><td>2615.093</td></tr>\n",
       "\t<tr><td>ŋ</td><td>374.7653</td><td>1854.169</td><td>2580.257</td></tr>\n",
       "\t<tr><td>ɲ</td><td>329.7587</td><td>2379.265</td><td>3247.250</td></tr>\n",
       "\t<tr><td>ɳ</td><td>349.1756</td><td>2380.279</td><td>4208.140</td></tr>\n",
       "</tbody>\n",
       "</table>\n"
      ],
      "text/latex": [
       "A tibble: 6 × 4\n",
       "\\begin{tabular}{llll}\n",
       " nasal & F1\\_Hz & F2\\_Hz & F3\\_Hz\\\\\n",
       " <chr> & <dbl> & <dbl> & <dbl>\\\\\n",
       "\\hline\n",
       "\t m & 285.2174 & 1542.619 & 2431.580\\\\\n",
       "\t n & 322.6723 & 1699.682 & 2534.887\\\\\n",
       "\t n̪ & 280.2020 & 1689.419 & 2615.093\\\\\n",
       "\t ŋ & 374.7653 & 1854.169 & 2580.257\\\\\n",
       "\t ɲ & 329.7587 & 2379.265 & 3247.250\\\\\n",
       "\t ɳ & 349.1756 & 2380.279 & 4208.140\\\\\n",
       "\\end{tabular}\n"
      ],
      "text/markdown": [
       "\n",
       "A tibble: 6 × 4\n",
       "\n",
       "| nasal &lt;chr&gt; | F1_Hz &lt;dbl&gt; | F2_Hz &lt;dbl&gt; | F3_Hz &lt;dbl&gt; |\n",
       "|---|---|---|---|\n",
       "| m | 285.2174 | 1542.619 | 2431.580 |\n",
       "| n | 322.6723 | 1699.682 | 2534.887 |\n",
       "| n̪ | 280.2020 | 1689.419 | 2615.093 |\n",
       "| ŋ | 374.7653 | 1854.169 | 2580.257 |\n",
       "| ɲ | 329.7587 | 2379.265 | 3247.250 |\n",
       "| ɳ | 349.1756 | 2380.279 | 4208.140 |\n",
       "\n"
      ],
      "text/plain": [
       "  nasal F1_Hz    F2_Hz    F3_Hz   \n",
       "1 m     285.2174 1542.619 2431.580\n",
       "2 n     322.6723 1699.682 2534.887\n",
       "3 n̪     280.2020 1689.419 2615.093\n",
       "4 ŋ     374.7653 1854.169 2580.257\n",
       "5 ɲ     329.7587 2379.265 3247.250\n",
       "6 ɳ     349.1756 2380.279 4208.140"
      ]
     },
     "metadata": {},
     "output_type": "display_data"
    }
   ],
   "source": [
    "arrernte_avg <- arrernte_obs %>%\n",
    "                  group_by(nasal) %>%\n",
    "                    summarize(F1_Hz=mean(F1_Hz),F2_Hz=mean(F2_Hz),F3_Hz=mean(F3_Hz))\n",
    "arrernte_avg"
   ]
  },
  {
   "attachments": {},
   "cell_type": "markdown",
   "metadata": {},
   "source": [
    "### Spectrograms"
   ]
  },
  {
   "attachments": {},
   "cell_type": "markdown",
   "metadata": {},
   "source": [
    "`````{tab-set}\n",
    "````{tab-item} a[m]əŋ\n",
    "![](img/L6_50.png)\n",
    "````\n",
    "````{tab-item} amə[ŋ]\n",
    "![](img/L6_51.png)\n",
    "````\n",
    "````{tab-item} a[n̪]ək\n",
    "![](img/L6_52.png)\n",
    "````\n",
    "````{tab-item} a[ɲ]ək\n",
    "![](img/L6_53.png)\n",
    "````\n",
    "````{tab-item} a[n]ək\n",
    "![](img/L6_54.png)\n",
    "````\n",
    "````{tab-item} a[ɳ]ək\n",
    "![](img/L6_55.png)\n",
    "````\n",
    "````{tab-item} a[ŋ]ək\n",
    "![](img/L6_56.png)\n",
    "````\n",
    "`````"
   ]
  },
  {
   "attachments": {},
   "cell_type": "markdown",
   "metadata": {},
   "source": [
    "---"
   ]
  },
  {
   "attachments": {},
   "cell_type": "markdown",
   "metadata": {},
   "source": [
    "## Terms"
   ]
  },
  {
   "attachments": {},
   "cell_type": "markdown",
   "metadata": {},
   "source": [
    "* [[W](https://en.wikipedia.org/wiki/Arrernte_language)] Arrernte\n",
    "* [[W](https://en.wikipedia.org/wiki/Fortis_and_lenis)] Fortis\n",
    "* [[W](https://en.wikipedia.org/wiki/Korean_phonology)] Korean phonology\n",
    "* [[W](https://en.wikipedia.org/wiki/Fortis_and_lenis)] Lenis\n",
    "* [[W](https://en.wikipedia.org/wiki/Morphophonology)] Morphophonology\n",
    "* [[W](https://en.wikipedia.org/wiki/Open_front_rounded_vowel)] Open Front Rounded Vowel\n",
    "* [[W](https://en.wikipedia.org/wiki/Quechuan_languages)] Quechua\n",
    "* [[W](https://en.wikipedia.org/wiki/Salasaca)] Salasaca\n",
    "* [[W](https://en.wikipedia.org/wiki/Sandhi)] Sandhi\n",
    "* [[W](https://en.wikipedia.org/wiki/Tone_sandhi)] Tone Sandhi\n",
    "* [[W](https://en.wikipedia.org/wiki/Z%C3%BCrich_German)] Zürich German"
   ]
  },
  {
   "attachments": {},
   "cell_type": "markdown",
   "metadata": {},
   "source": [
    "---"
   ]
  },
  {
   "attachments": {},
   "cell_type": "markdown",
   "metadata": {},
   "source": [
    "## Bibliography"
   ]
  },
  {
   "attachments": {},
   "cell_type": "markdown",
   "metadata": {},
   "source": [
    "* Breen & Dobson. (2005). [central arrernte nasals].\n",
    "* Fleischer, Jürg & Stephan Schmid. (2006). \"Zurich German\". Journal of the International Phonetic Association.\n",
    "* Lee. (1999). [korean fricatives].\n",
    "* Masaquiza & Marlett. (2008). [quechua stops]."
   ]
  },
  {
   "attachments": {},
   "cell_type": "markdown",
   "metadata": {},
   "source": [
    "---"
   ]
  }
 ],
 "metadata": {
  "kernelspec": {
   "display_name": "R",
   "language": "R",
   "name": "ir"
  },
  "language_info": {
   "codemirror_mode": "r",
   "file_extension": ".r",
   "mimetype": "text/x-r-source",
   "name": "R",
   "pygments_lexer": "r",
   "version": "4.3.0"
  },
  "orig_nbformat": 4
 },
 "nbformat": 4,
 "nbformat_minor": 2
}
