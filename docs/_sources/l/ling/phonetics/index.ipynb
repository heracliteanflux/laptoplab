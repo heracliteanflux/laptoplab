{
 "cells": [
  {
   "attachments": {},
   "cell_type": "markdown",
   "metadata": {},
   "source": [
    "# Phonetics\n",
    "LING 497 Phonetic Analysis: Articulation, Acoustics, Audition\n",
    "\n",
    "The Pennsylvania State University\n",
    "\n",
    "[Prof. Deborah Morton](https://deborahcmorton.wordpress.com/)\n",
    "\n",
    "Based on Johnson, Keith. (2012). _Acoustic and Auditory Phonetics_. 3rd Ed. [Wiley-Blackwell](https://www.wiley.com/en-us/Acoustic+and+Auditory+Phonetics%2C+3rd+Edition-p-9781444343083)."
   ]
  },
  {
   "attachments": {},
   "cell_type": "markdown",
   "metadata": {},
   "source": [
    "---"
   ]
  },
  {
   "attachments": {},
   "cell_type": "markdown",
   "metadata": {},
   "source": [
    "```{admonition} Revised\n",
    "25 May 2023\n",
    "```\n",
    "```{contents}\n",
    "```"
   ]
  },
  {
   "attachments": {},
   "cell_type": "markdown",
   "metadata": {},
   "source": [
    "---"
   ]
  },
  {
   "attachments": {},
   "cell_type": "markdown",
   "metadata": {},
   "source": [
    "## Sections"
   ]
  },
  {
   "attachments": {},
   "cell_type": "markdown",
   "metadata": {},
   "source": [
    "```{tableofcontents}\n",
    "```"
   ]
  },
  {
   "attachments": {},
   "cell_type": "markdown",
   "metadata": {},
   "source": [
    "---"
   ]
  },
  {
   "attachments": {},
   "cell_type": "markdown",
   "metadata": {},
   "source": [
    "## Texts"
   ]
  },
  {
   "attachments": {},
   "cell_type": "markdown",
   "metadata": {},
   "source": [
    "* Baayen, R. H. (2008). _Analyzing Linguistic Data: A Practical Introduction to Statistics using R_. Cambridge University Press.\n",
    "* [ [h](https://speechprocessingbook.aalto.fi/index.html) ] Bäckström, Tom et al. (2022). _Introduction to Speech Processing_. 2e.\n",
    "* Hammond, Michael. (2020). _Python for Linguists_. [Cambridge University Press](https://www.cambridge.org/core/books/python-for-linguists/84236519ADE8F28EFF77E12D277DD3E2).\n",
    "* Johnson, Keith. (2012). _Acoustic and Auditory Phonetics_. 3rd Ed. [Wiley-Blackwell](https://www.wiley.com/en-us/Acoustic+and+Auditory+Phonetics%2C+3rd+Edition-p-9781444343083).\n",
    "  * [Keith Johnson's sgram for creating spectrograms with Python](https://github.com/keithjohnson-berkeley/sgram)\n",
    "* Johnson, Keith. (2008). _Quantitative Methods in Linguistics_. [Wiley-Blackwell](https://www.wiley.com/en-us/Quantitative+Methods+In+Linguistics-p-9781405144247).\n",
    "* [[W](https://en.wikipedia.org/wiki/The_Atlas_of_North_American_English)] Labov, William; Sharon Ash; & Charles Boberg. (2006). _The Atlas of North American English_. [Berlin: Mouton-de Gruyter](https://www.degruyter.com/document/doi/10.1515/9783110167467/html?lang=en).\n",
    "* [[W](https://en.wikipedia.org/wiki/A_Course_in_Phonetics)] Ladefoged, Peter & Keith Johnson. (2014). _A Course in Phonetics_. Cengage. [Home](https://linguistics.berkeley.edu/acip/).\n",
    "* [[W](https://en.wikipedia.org/wiki/The_Sounds_of_the_World%27s_Languages)] Ladefoged, Peter & Ian Maddieson. (1996). _The Sounds of the World's Languages_. [Wiley-Blackwell](https://www.wiley.com/en-us/The+Sounds+of+the+World%27s+Languages-p-9780631198154).\n",
    "* Reetz, Henning; & Allard Jongman. (2020). _Phonetics: Transcription, Production, Acoustics, and Perception_. 2nd Ed. [Wiley-Blackwell](https://www.wiley.com/en-us/Phonetics%3A+Transcription%2C+Production%2C+Acoustics%2C+and+Perception%2C+2nd+Edition-p-9781118712887).\n",
    "* Winter, Bodo. (2019). _Statistics for Linguists: An Introduction Using R_. [Routledge](https://www.routledge.com/Statistics-for-Linguists-An-Introduction-Using-R/Winter/p/book/9781138056091)."
   ]
  },
  {
   "attachments": {},
   "cell_type": "markdown",
   "metadata": {},
   "source": [
    "---"
   ]
  },
  {
   "attachments": {},
   "cell_type": "markdown",
   "metadata": {},
   "source": [
    "## Resources"
   ]
  },
  {
   "attachments": {},
   "cell_type": "markdown",
   "metadata": {},
   "source": [
    "[International Phonetic Association](https://www.internationalphoneticassociation.org/)\n",
    "\n",
    "[The Speech Accent Archive](https://accent.gmu.edu/)\n",
    "\n",
    "[Penn Linguistics - TELSUR & Atlas North American English](https://www.ling.upenn.edu/phono_atlas/home.html)\n",
    "\n",
    "[R lang](https://davefriedman01.github.io/Mathematics/probstat/rlang/intro.html)\n",
    "\n",
    "Praat\n",
    "* Boersma, Paul & David Weenink. [Praat: doing phonetics by computer](https://www.fon.hum.uva.nl/praat/).\n",
    "  * [Intro](https://www.fon.hum.uva.nl/praat/manual/Intro.html)\n",
    "  * [Scripting](https://www.fon.hum.uva.nl/praat/manual/Scripting.html)\n",
    "* [UCLA's Praat script resources](http://phonetics.linguistics.ucla.edu/facilities/acoustic/praat.html)\n",
    "* [[Y](https://www.youtube.com/watch?v=eQXUJwhJacY)] Ian Wilson. (04 Jan 2018). \"Praat - Creating a Formant Object\". YouTube.\n",
    "* [[Y](https://www.youtube.com/watch?v=VNZlSvzHHHk)] Ian Wilson. (21 Dec 2017). \"Praat - Manipulation of Pitch and Duration\". YouTube.\n",
    "* [[Y](https://www.youtube.com/watch?v=CgaYanC29z4)] Ian Wilson. (14 Dec 2017). \"TextGrid_Script\". YouTube.\n",
    "* [[Y](https://www.youtube.com/watch?v=Hz-oNXe5OyI)] Ian Wilson. (07 Dec 2017). \"Praat functions - #1-10\". YouTube.\n",
    "* [[Y](https://www.youtube.com/watch?v=ibLra0Yk36A)] Ian Wilson. (21 Jun 2017). \"Praat - recording, saving, playing, and zooming\". YouTube.\n",
    "\n",
    "UNSW\n",
    "* [Helium Speech](http://newt.phys.unsw.edu.au/jw/speechmodel.html)\n",
    "* [What is a formant?](http://newt.phys.unsw.edu.au/jw/formant.html)\n",
    "\n",
    "Miscellaneous\n",
    "* [Alvin Chen](https://alvinntnu.github.io/python-notes/intro.html)\n",
    "* [Kristopher Kyle](https://kristopherkyle.github.io/professional-webpage/docs/tutorials)\n",
    "* [Pitt's LING1330 Introduction to Computational Linguistics](https://sites.pitt.edu/~naraehan/ling1330/index.html)\n",
    "* The Virtual Linguistics Campus [YouTube](https://www.youtube.com/channel/UCaMpov1PPVXGcKYgwHjXB3g)\n",
    "* [Seeing Speech](https://www.seeingspeech.ac.uk)\n",
    "* [Dynamic Dialects](https://www.dynamicdialects.ac.uk)"
   ]
  },
  {
   "cell_type": "markdown",
   "metadata": {},
   "source": [
    "review\n",
    "* https://www.mq.edu.au/about/about-the-university/our-faculties/medicine-and-health-sciences/departments-and-centres/department-of-linguistics/our-research/phonetics-and-phonology/speech/acoustics/speech-acoustics/fricatives\n",
    "* https://newt.phys.unsw.edu.au/jw/formant.html\n",
    "* https://newt.phys.unsw.edu.au/jw/speechmodel.html\n",
    "* https://sail.usc.edu/~lgoldste/General_Phonetics/Tone/Measurement/measurement.html\n",
    "* https://github.com/yukat237/Praat_Scripting_Lecture/blob/main/Praat%20Script%20to%20make%20a%20F1%20F2%20table%20(with%20explanations)\n",
    "* https://www.asc.ohio-state.edu/demarneffe.1/LING5050/material/NewPraat.html\n",
    "* https://www.youtube.com/watch?v=VNZlSvzHHHk\n",
    "* https://www.mq.edu.au/about/about-the-university/our-faculties/medicine-and-health-sciences/departments-and-centres/department-of-linguistics/our-research/phonetics-and-phonology/speech/acoustics/speech-acoustics/fricatives\n",
    "* https://sail.usc.edu/~lgoldste/General_Phonetics/Source_Filter/SFd.html\n",
    "* https://sail.usc.edu/~lgoldste/General_Phonetics/\n",
    "* https://www.animations.physics.unsw.edu.au/jw/dB.htm"
   ]
  },
  {
   "attachments": {},
   "cell_type": "markdown",
   "metadata": {},
   "source": [
    "---"
   ]
  },
  {
   "cell_type": "markdown",
   "metadata": {},
   "source": [
    "## Terms"
   ]
  },
  {
   "cell_type": "markdown",
   "metadata": {},
   "source": [
    "* [[S](https://plato.stanford.edu/entries/perception-auditory/)] Auditory Perception\n",
    "* [[S](https://plato.stanford.edu/entries/sounds/)] Sounds"
   ]
  },
  {
   "cell_type": "markdown",
   "metadata": {},
   "source": [
    "---"
   ]
  }
 ],
 "metadata": {
  "language_info": {
   "name": "python"
  },
  "orig_nbformat": 4
 },
 "nbformat": 4,
 "nbformat_minor": 2
}
