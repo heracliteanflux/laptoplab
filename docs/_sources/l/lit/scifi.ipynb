{
 "cells": [
  {
   "cell_type": "markdown",
   "metadata": {},
   "source": [
    "# Science Fiction"
   ]
  },
  {
   "cell_type": "markdown",
   "metadata": {},
   "source": [
    "---"
   ]
  },
  {
   "cell_type": "markdown",
   "metadata": {},
   "source": [
    "## Table of Contents\n",
    "```{contents}\n",
    "```"
   ]
  },
  {
   "cell_type": "markdown",
   "metadata": {},
   "source": [
    "---"
   ]
  },
  {
   "cell_type": "markdown",
   "metadata": {},
   "source": [
    "[[W](https://en.wikipedia.org/wiki/Legend_of_the_Galactic_Heroes)] Legend of the Galactic Heroes"
   ]
  },
  {
   "cell_type": "markdown",
   "metadata": {},
   "source": [
    "---"
   ]
  },
  {
   "cell_type": "markdown",
   "metadata": {},
   "source": [
    "## Figures"
   ]
  },
  {
   "cell_type": "markdown",
   "metadata": {},
   "source": [
    "* [[W](https://en.wikipedia.org/wiki/Douglas_Adams)] Adams, Douglas (1952-2001)\n",
    "* [[W](https://en.wikipedia.org/wiki/Isaac_Asimov)] Asimov, Isaac (1920-1992)\n",
    "  * [[W](https://en.wikipedia.org/wiki/Robot_series)] Robot Series\n",
    "    * [[W](https://en.wikipedia.org/wiki/Robbie_(short_story))] (1940). \"Robbie\".\n",
    "    * [[W](https://en.wikipedia.org/wiki/I,_Robot)] (1950). _I, Robot_.\n",
    "    * [[W](https://en.wikipedia.org/wiki/Mother_Earth_(novella))] (1949). \"Mother Earth\".\n",
    "    * [[W](https://en.wikipedia.org/wiki/The_Caves_of_Steel)] (1954). _The Caves of Steel_.\n",
    "    * [[W](https://en.wikipedia.org/wiki/The_Naked_Sun)] (1957). _The Naked Sun_.\n",
    "    * [[W](https://en.wikipedia.org/wiki/Mirror_Image_(short_story))] (1972). \"Mirror Image\".\n",
    "    * [[W](https://en.wikipedia.org/wiki/The_Robots_of_Dawn)] (1983). _The Robots of Dawn_.\n",
    "    * [[W](https://en.wikipedia.org/wiki/Robots_and_Empire)] (1985). _Robots and Empire_.\n",
    "  * [[W](https://en.wikipedia.org/wiki/Galactic_Empire_series)] Empire Series\n",
    "    * [[W](https://en.wikipedia.org/wiki/The_Stars,_Like_Dust)] (1951). _The Stars, Like Dust_.\n",
    "    * [[W](https://en.wikipedia.org/wiki/The_Currents_of_Space)] (1952). _The Currents of Space_.\n",
    "    * [[W](https://en.wikipedia.org/wiki/Pebble_in_the_Sky)] (1950). _Pebble in the Sky_.\n",
    "    * [[W](https://en.wikipedia.org/wiki/Blind_Alley)] (1945). \"Blind Alley\"\n",
    "  * [[W](https://en.wikipedia.org/wiki/Foundation_series)] Foundation Series\n",
    "    * [[W](https://en.wikipedia.org/wiki/Prelude_to_Foundation)] (1988). _Prelude to Foundation_.\n",
    "    * [[W](https://en.wikipedia.org/wiki/Forward_the_Foundation)] (1993). _Forward the Foundation_.\n",
    "    * [[W](https://en.wikipedia.org/wiki/Foundation_(Asimov_novel))] (1951). _Foundation_.\n",
    "    * [[W](https://en.wikipedia.org/wiki/Foundation_and_Empire)] (1952). _Foundation and Empire_.\n",
    "    * [[W](https://en.wikipedia.org/wiki/Second_Foundation)] (1953). _Second Foundation_.\n",
    "    * [[W](https://en.wikipedia.org/wiki/Foundation%27s_Edge)] (1982). _Foundation's Edge_.\n",
    "    * [[W](https://en.wikipedia.org/wiki/Foundation_and_Earth)] (1986). _Foundation and Earth_.\n",
    "* [[W](https://en.wikipedia.org/wiki/Frank_Herbert)] Herbert, Frank (1920-1986)\n",
    "* [[W](https://en.wikipedia.org/wiki/Stephen_King)] King, Stephen\n",
    "* [[W](https://en.wikipedia.org/wiki/Ursula_K._Le_Guin)] Le Guin, Ursula (1929-2018)\n",
    "* [[W](https://en.wikipedia.org/wiki/J._R._R._Tolkien)] Tolkien, J. R. R. (1892-1973)"
   ]
  },
  {
   "cell_type": "markdown",
   "metadata": {},
   "source": [
    "* [[W](https://en.wikipedia.org/wiki/Dan_Simmons)] Simmons, Dan (1948-present)\n",
    "  * [[W](https://en.wikipedia.org/wiki/Hyperion_Cantos)] Hyperion Cantos"
   ]
  },
  {
   "cell_type": "markdown",
   "metadata": {},
   "source": [
    "---"
   ]
  },
  {
   "cell_type": "markdown",
   "metadata": {},
   "source": [
    "## Terms"
   ]
  },
  {
   "cell_type": "markdown",
   "metadata": {},
   "source": [
    "* [[W](https://en.wikipedia.org/wiki/Positronic_brain)] Positronic Brain\n",
    "* [[W](https://en.wikipedia.org/wiki/Psychohistory_(fictional))] Psychohistory\n",
    "* [[W](https://en.wikipedia.org/wiki/Science_fiction)] Science Fiction\n",
    "* [[W](https://en.wikipedia.org/wiki/History_of_science_fiction)] Science Fiction, history\n",
    "* [[W](https://en.wikipedia.org/wiki/Three_Laws_of_Robotics)] Three Laws of Robotics"
   ]
  },
  {
   "cell_type": "markdown",
   "metadata": {},
   "source": [
    "---"
   ]
  }
 ],
 "metadata": {
  "language_info": {
   "name": "python"
  },
  "orig_nbformat": 4
 },
 "nbformat": 4,
 "nbformat_minor": 2
}
