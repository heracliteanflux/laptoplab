{
 "cells": [
  {
   "cell_type": "markdown",
   "metadata": {},
   "source": [
    "# Tolkien"
   ]
  },
  {
   "cell_type": "markdown",
   "metadata": {},
   "source": [
    "---"
   ]
  },
  {
   "cell_type": "markdown",
   "metadata": {},
   "source": [
    "## Table of Contents\n",
    "```{contents}\n",
    "```"
   ]
  },
  {
   "cell_type": "markdown",
   "metadata": {},
   "source": [
    "---"
   ]
  },
  {
   "cell_type": "markdown",
   "metadata": {},
   "source": [
    "## Resources"
   ]
  },
  {
   "cell_type": "markdown",
   "metadata": {},
   "source": [
    "* [ [y](https://www.youtube.com/@NerdoftheRings) ] Nerd of the Rings\n",
    "* [Parf Edhellen](https://www.elfdict.com)\n",
    "* [SUGGESTED CONJUGATION of all known or inferred Sindarin verbs](https://folk.uib.no/hnohf/sindverb.htm)"
   ]
  },
  {
   "cell_type": "markdown",
   "metadata": {},
   "source": [
    "---"
   ]
  },
  {
   "cell_type": "markdown",
   "metadata": {},
   "source": [
    "## Texts"
   ]
  },
  {
   "cell_type": "markdown",
   "metadata": {},
   "source": [
    "* Flieger, Verlyn & Douglas Anderson, eds. (2014). _Tolkien on Fairy-Stories_. Harper Collins.\n",
    "* Noel, Ruth. (1980). _The Languages of Middle-Earth: A Complete Guide to All Fourteen of the Languages Tolkien Invented_. William Morrow Paperbacks.\n",
    "* Salo, David. (2007). _A Gateway to Sindarin: A Grammar of an Elvish Language from J. R. R. Tolkien's Lord of the Rings_. University of Utah Press.\n",
    "* Tolkien, J. R. R. (2001). _Tree and Leaf: Including Mythopoeia and THe Homecoming of Beorhtnoth_. Harper Collins."
   ]
  },
  {
   "cell_type": "markdown",
   "metadata": {},
   "source": [
    "---"
   ]
  },
  {
   "cell_type": "markdown",
   "metadata": {},
   "source": [
    "## Terms"
   ]
  },
  {
   "cell_type": "markdown",
   "metadata": {},
   "source": [
    "* Ainulindale [Wiki](https://en.wikipedia.org/wiki/Ainulindal%C3%AB)\n",
    "* Ainur [Wiki](https://en.wikipedia.org/wiki/Ainur_(Middle-earth))\n",
    "* Arda, History [Wiki](https://en.wikipedia.org/wiki/History_of_Arda)\n",
    "* Beleriand [Wiki](https://en.wikipedia.org/wiki/Beleriand)\n",
    "* Celeborn\n",
    "* Celebrimbor [Wiki](https://en.wikipedia.org/wiki/Celebrimbor)\n",
    "* Cosmology, Tolkien's [Wiki](https://en.wikipedia.org/wiki/Cosmology_of_Tolkien%27s_legendarium)\n",
    "* Dunedain [Wiki](https://en.wikipedia.org/wiki/D%C3%BAnedain)\n",
    "* Edain [Wiki](https://en.wikipedia.org/wiki/Man_(Middle-earth)#Edain)\n",
    "* Eldamar\n",
    "* Elendil [Wiki](https://en.wikipedia.org/wiki/Elendil)\n",
    "* Elrond [Wiki](https://en.wikipedia.org/wiki/Elrond)\n",
    "* Elros\n",
    "* Elvish [Wiki](https://en.wikipedia.org/wiki/Elvish_languages)\n",
    "* Feanor [Wiki](https://en.wikipedia.org/wiki/F%C3%ABanor)\n",
    "* Fingolfin [Wiki](https://en.wikipedia.org/wiki/Fingolfin)\n",
    "* Finrod [Wiki](https://en.wikipedia.org/wiki/Finrod_Felagund)\n",
    "* Finwe [Wiki](https://en.wikipedia.org/wiki/Finw%C3%AB_and_M%C3%ADriel)\n",
    "* Galadriel [Wiki](https://en.wikipedia.org/wiki/Galadriel)\n",
    "* Gil-Galad [Wiki](https://en.wikipedia.org/wiki/Gil-galad)\n",
    "* Istari [Wiki](https://en.wikipedia.org/wiki/Wizards_(Middle-earth))\n",
    "* Maiar [Wiki](https://en.wikipedia.org/wiki/Maia_(Middle-earth))\n",
    "* Middle Earth [Wiki](https://en.wikipedia.org/wiki/Middle-earth)\n",
    "* Miriel [Wiki](https://en.wikipedia.org/wiki/Finw%C3%AB_and_M%C3%ADriel)\n",
    "* Mythopoeia [Wiki](https://en.wikipedia.org/wiki/Mythopoeia)\n",
    "* Namarie [Wiki](https://en.wikipedia.org/wiki/Nam%C3%A1ri%C3%AB)\n",
    "* Numenor [Wiki](https://en.wikipedia.org/wiki/N%C3%BAmenor)\n",
    "* Noldor [Wiki](https://en.wikipedia.org/wiki/Noldor)\n",
    "* Quenya [Wiki](https://en.wikipedia.org/wiki/Quenya)\n",
    "* Rings of Power [Wiki](https://en.wikipedia.org/wiki/Rings_of_Power)\n",
    "* Rivendell [Wiki](https://en.wikipedia.org/wiki/Rivendell)\n",
    "* Silmarillion [Wiki](https://en.wikipedia.org/wiki/The_Silmarillion)\n",
    "* Silmarils [Wiki](https://en.wikipedia.org/wiki/Silmarils)\n",
    "* Sindarin [Wiki](https://en.wikipedia.org/wiki/Sindarin)\n",
    "* Sundering of the Elves [Wiki](https://en.wikipedia.org/wiki/Sundering_of_the_Elves)\n",
    "* Tengwar [Wiki](https://en.wikipedia.org/wiki/Tengwar)\n",
    "* Thingol [Wiki](https://en.wikipedia.org/wiki/Thingol)\n",
    "* Three Rings [Wiki](https://en.wikipedia.org/wiki/Three_Rings)\n",
    "* Tolkienology [Wiki](https://en.wikipedia.org/wiki/Tolkien_fandom)\n",
    "* Valar [Wiki](https://en.wikipedia.org/wiki/Vala_(Middle-earth))\n",
    "* Valinor [Wiki](https://en.wikipedia.org/wiki/Valinor)"
   ]
  },
  {
   "cell_type": "markdown",
   "metadata": {},
   "source": [
    "---"
   ]
  },
  {
   "cell_type": "markdown",
   "metadata": {},
   "source": [
    "## Sindarin"
   ]
  },
  {
   "cell_type": "markdown",
   "metadata": {},
   "source": [
    "Sindarin | English\n",
    "---------|--------\n",
    "aglar    | radiance, brilliance, glory\n",
    "alqua    | swan\n",
    "Alqualondë | Haven of the Swan\n",
    "ammen    | to us, for us [indirect object pronoun]\n",
    "Andor    | Land of the Gift\n",
    "aníra    | to desire\n",
    "aníron   | to desire (first person singular)\n",
    "annûn    | going-down, sunset, west\n",
    "athar    | beyond, across\n",
    "dû       | night, dimness\n",
    "êl, él   | star\n",
    "Elrond   | Star Dome; Chamber of Stars\n",
    "Elros    | Star Spray; Rain of Stars\n",
    "endë     | middle, center\n",
    "Endor, Endórë | Middle Earth\n",
    "eria     | to (a)rise\n",
    "Eriador  | [Silvan, not Sindarin?]\n",
    "fân      | shape, veil, spirit\n",
    "Fanuilos | Varda, Elbereth (the Vala)\n",
    "gala     | to grow\n",
    "galad, calad | (reflected) brilliance, light, fire, shine, shining\n",
    "Galadriel | Shining Maiden\n",
    "galadh   | tree\n",
    "gil      | star, bight spark, silver glint, twinkle of light\n",
    "Gil-galad | Shining Spark\n",
    "henia    | to understand\n",
    "henion   | to understand (first person singular)\n",
    "heryn    | lady\n",
    "i        | the (definite article)\n",
    "ithil, isil, sil | moon\n",
    "londë    | (land-locked) haven, narrow pass, path\n",
    "lossë, loss, los | snow\n",
    "men      | us [pronoun]\n",
    "minna    | to enter, go in\n",
    "minnon   | to enter, go in (first person singular)\n",
    "mith     | grey\n",
    "Mithlond | Grey Havens\n",
    "Mithrandir | Gandalf, Grey Pilgrim\n",
    "mithril  | grey glitter\n",
    "môr      | darkness, blackness\n",
    "nórë, nor, ndor, dor, dórë | land\n",
    "númen    | west, direction of the sunset, occident, going down\n",
    "Númenor, Númenórë | Westernesse, Land of the West\n",
    "randir   | wanderer, pilgrim\n",
    "renia    | to stray, wander\n",
    "riel, riellë | maiden crowned with a festive garland\n",
    "ril      | brilliant light, glitter\n",
    "rîn      | crowned\n",
    "rond     | arched/vaulted chamber/dome/roof, heavens\n",
    "ros      | foam, spray, rain\n",
    "síla     | to shine\n",
    "siria    | to flow\n",
    "undómë   | twilight\n",
    "ui       | ever\n",
    "uilos    | ever-white snow\n",
    "Undómiel | Evenstar, Evening Star\n",
    "Valinor, Valinórë | Land of the Valar"
   ]
  },
  {
   "cell_type": "markdown",
   "metadata": {},
   "source": [
    "---"
   ]
  },
  {
   "cell_type": "markdown",
   "metadata": {},
   "source": [
    "## Poems"
   ]
  },
  {
   "cell_type": "markdown",
   "metadata": {},
   "source": [
    "### Aníron"
   ]
  },
  {
   "cell_type": "markdown",
   "metadata": {},
   "source": [
    "#### The Council of Elrond\n",
    "\n",
    "O môr henion i dû:                      <br>\n",
    "Ely siria, êl síla.                     <br>\n",
    "Ai! Aníron Undómiel.                    <br>\n",
    "\n",
    "Tíro! Êl eria e môr.                    <br>\n",
    "I'lîr en êl luitha 'úren.               <br>\n",
    "Ai! Aníron.                             <br>\n",
    "\n",
    "From darkness I understand the night:   <br>\n",
    "Dreams flow, a star shines.             <br>\n",
    "Ah! I desire Evenstar.                  <br>\n",
    "\n",
    "Look! A star rises out of the darkness. <br>\n",
    "The song of the star enchants my heart. <br>\n",
    "Ah! I desire.                           <br>"
   ]
  },
  {
   "cell_type": "markdown",
   "metadata": {},
   "source": [
    "#### The Very Best of Enya (2009)\n",
    "\n",
    "E môr henion i dû:                      <br>\n",
    "Ely siria, êl sila.                     <br>\n",
    "Ai! Aníron Undomiel.                    <br>\n",
    "\n",
    "Tiriel arad 'ala môr                    <br>\n",
    "Minnon i dû - sad oltha.                <br>\n",
    "Ai! Aníron Edhelharn.                   <br>\n",
    "Ai! Aníron Edhelharn.                   <br>\n",
    "\n",
    "Out of darkness I understand the night: <br>\n",
    "Dreams flow, a star shines.             <br>\n",
    "Ah! I desire Evenstar.                  <br>\n",
    "\n",
    "Having watched the day grow dark        <br>\n",
    "I go into night - a place to dream.     <br>\n",
    "Ah! I desire Elfstone.                  <br>\n",
    "Ah! I desire Elfstone.                  <br>"
   ]
  },
  {
   "cell_type": "markdown",
   "metadata": {},
   "source": [
    "### The Passing of the Elves\n",
    "\n",
    "Fanuilos heryn aglar          <br>\n",
    "Rîn athar annún-aearath       <br>\n",
    "Calad ammen i reniar          <br>\n",
    "Mi 'aladfremmin ennorath!     <br>\n",
    "\n",
    "A Elbereth Gilthoniel         <br>\n",
    "I chîn a thûl lin míriel      <br>\n",
    "Fanuilos le linnathon         <br>\n",
    "Ne ndor haer thar i aearon    <br>\n",
    "\n",
    "A elin na gaim eglerib        <br>\n",
    "Ned în ben-anor trerennin     <br>\n",
    "Si silivrin ne pherth 'waewib <br>\n",
    "Cenim lyth thílyn thuiennin   <br>\n",
    "\n",
    "A Elbereth Gilthoniel         <br>\n",
    "Men echenim sí derthiel       <br>\n",
    "Ne chaered hen nu 'aladhath   <br>\n",
    "Ngilith or annún-aearath      <br>"
   ]
  },
  {
   "cell_type": "markdown",
   "metadata": {},
   "source": [
    "---"
   ]
  }
 ],
 "metadata": {
  "language_info": {
   "name": "python"
  }
 },
 "nbformat": 4,
 "nbformat_minor": 2
}
