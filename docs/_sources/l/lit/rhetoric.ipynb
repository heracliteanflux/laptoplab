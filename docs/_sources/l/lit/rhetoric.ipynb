{
 "cells": [
  {
   "attachments": {},
   "cell_type": "markdown",
   "metadata": {},
   "source": [
    "# Rhetoric"
   ]
  },
  {
   "attachments": {},
   "cell_type": "markdown",
   "metadata": {},
   "source": [
    "---"
   ]
  },
  {
   "cell_type": "markdown",
   "metadata": {},
   "source": [
    "## Table of Contents\n",
    "```{contents}\n",
    "```"
   ]
  },
  {
   "cell_type": "markdown",
   "metadata": {},
   "source": [
    "---"
   ]
  },
  {
   "attachments": {},
   "cell_type": "markdown",
   "metadata": {},
   "source": [
    "## Resources"
   ]
  },
  {
   "attachments": {},
   "cell_type": "markdown",
   "metadata": {},
   "source": [
    "* [[W](https://en.wikipedia.org/wiki/Philosophy_%26_Rhetoric)] _Philosophy & Rhetoric_\n",
    "\n",
    "* https://kairos.technorhetoric.net/2.1/features/brent/wayin.htm"
   ]
  },
  {
   "attachments": {},
   "cell_type": "markdown",
   "metadata": {},
   "source": [
    "---"
   ]
  },
  {
   "attachments": {},
   "cell_type": "markdown",
   "metadata": {},
   "source": [
    "## Texts"
   ]
  },
  {
   "attachments": {},
   "cell_type": "markdown",
   "metadata": {},
   "source": [
    "* Burke, Kenneth. _The Philosophy of Literary Form_. Berkeley: University of California Press, 1941.\n",
    "* Richards, Ivor. (1965). _The Philosophy of Rhetoric_. Oxford University Press."
   ]
  },
  {
   "attachments": {},
   "cell_type": "markdown",
   "metadata": {},
   "source": [
    "---"
   ]
  },
  {
   "attachments": {},
   "cell_type": "markdown",
   "metadata": {},
   "source": [
    "## Figures"
   ]
  },
  {
   "attachments": {},
   "cell_type": "markdown",
   "metadata": {},
   "source": [
    "* [[W](https://en.wikipedia.org/wiki/Aristotle)] Aristotle (384-322 BCE)\n",
    "* [[W](https://en.wikipedia.org/wiki/William_Benoit)] Benoit, William (1953-)\n",
    "* [[W](https://en.wikipedia.org/wiki/Peter_Boghossian)] Boghossian, Peter (1966-)\n",
    "* [[W](https://en.wikipedia.org/wiki/Kenneth_Burke)] Burke, Kenneth (1897-1993)\n",
    "  * Burke, Kenneth. _The Philosophy of Literary Form_. Berkeley: University of California Press, 1941.\n",
    "* [[W](https://en.wikipedia.org/wiki/Cicero)] Cicero (106-43 BCE)\n",
    "* [[W](https://en.wikipedia.org/wiki/Edward_P._J._Corbett)] Corbett, Edward (1919-1998)\n",
    "* [[W](https://en.wikipedia.org/wiki/Ernst_Robert_Curtius)] Curtius, Ernst (1886-1956)\n",
    "* [[W](https://en.wikipedia.org/wiki/Gorgias)] Gorgias (483-375 BCE)\n",
    "* [[W](https://en.wikipedia.org/wiki/Alan_G._Gross)] Gross, Alan (1936-2020)\n",
    "* [[W](https://en.wikipedia.org/wiki/Andrea_Lunsford)] Lunsford, Andrea\n",
    "* [[W](https://en.wikipedia.org/wiki/Protagoras)] Protagoras (c. 490-420 BCE)\n",
    "* [[W](https://en.wikipedia.org/wiki/Quintilian)] Quintilian (35-100)\n",
    "* [[W](https://en.wikipedia.org/wiki/Anatol_Rapoport)] Rapoport, Anatol (1911-2007)\n",
    "* [[W](https://en.wikipedia.org/wiki/I._A._Richards)] Richards, Ivor (1893-1979)\n",
    "* [[W](https://en.wikipedia.org/wiki/Carl_Rogers)] Rogers, Carl (1902-1987)\n",
    "* [[W](https://en.wikipedia.org/wiki/Stephen_Toulmin)] Toulmin, Stephen (1922-2009)\n",
    "  * Toulmin, Stephen. (2001). _Return to Reason_.\n",
    "  * Toulmin, Stephen. (1990). _Cosmopolis: The Hidden Agenda of Modernity_.\n",
    "  * Toulmin, Stephen. (1988). _The Abuse of Casuistry: A History of Moral Reasoning_.\n",
    "  * Toulmin, Stephen. (1972). _Human Understanding: The Collective Use and Evolution of Concepts_.\n",
    "  * Toulmin, Stephen. (1958). _The Uses of Argument_.\n",
    "  * Toulmin, Stephen. (1953). _The Philosophy of Science: An Introduction_.\n",
    "* [[W](https://en.wikipedia.org/wiki/Richard_Whately)] Whately, Richard (1787-1863)\n",
    "* [[W](https://en.wikipedia.org/wiki/James_Boyd_White)] White, James (1938-)\n",
    "* [[W](https://en.wikipedia.org/wiki/Herbert_Wichelns)] Wichelns, Herbert (1894-1973)"
   ]
  },
  {
   "attachments": {},
   "cell_type": "markdown",
   "metadata": {},
   "source": [
    "---"
   ]
  },
  {
   "attachments": {},
   "cell_type": "markdown",
   "metadata": {},
   "source": [
    "## Terms"
   ]
  },
  {
   "cell_type": "markdown",
   "metadata": {},
   "source": [
    "* [[W](https://en.wikipedia.org/wiki/List_of_Latin_phrases)] Latin phrases, list"
   ]
  },
  {
   "cell_type": "markdown",
   "metadata": {},
   "source": [
    "* [[W](https://en.wikipedia.org/wiki/Antiphrasis)] Antiphrasis\n",
    "* [[W](https://en.wikipedia.org/wiki/Apophasis)] Apophasis αποφασις\n",
    "* [[W](https://en.wikipedia.org/wiki/Euphemism)] Euphemism\n",
    "* [[W](https://en.wikipedia.org/wiki/Hyperbole)] Hyperbole\n",
    "* [[W](https://en.wikipedia.org/wiki/Irony)] Irony ειρωνεια [feigned ignorance]\n",
    "* [[W](https://en.wikipedia.org/wiki/Apophasis)] Litotes\n",
    "* [[W](https://en.wikipedia.org/wiki/Sarcasm)] Sarcasm\n",
    "* [[W](https://en.wikipedia.org/wiki/Simile)] Simile"
   ]
  },
  {
   "attachments": {},
   "cell_type": "markdown",
   "metadata": {},
   "source": [
    "* [[W](https://en.wikipedia.org/wiki/Active_listening)] Active Listening\n",
    "* [[W](https://en.wikipedia.org/wiki/Antanaclasis)] Antanaclasis [ἀντανάκλασις]\n",
    "* [[W](https://en.wikipedia.org/wiki/Antimetabole)] Antimetabole\n",
    "* [[W](https://en.wikipedia.org/wiki/Antistrophe)] Antistrophe [ἀντιστροφή]\n",
    "* [[W](https://en.wikipedia.org/wiki/Argument)] Argument\n",
    "* [[W](https://en.wikipedia.org/wiki/Argument_map)] Argument Map\n",
    "* [[W](https://en.wikipedia.org/wiki/Argumentation_theory)] Argumentation (Theory)\n",
    "* [[W](https://en.wikipedia.org/wiki/Argumentation_scheme)] Argumentation Scheme\n",
    "* [[W](https://en.wikipedia.org/wiki/Argumentum_a_fortiori)] Argumentum a fortiori [argument from the stronger (reason)]\n",
    "* [[W](https://en.wikipedia.org/wiki/Poetics_(Aristotle))] Aristotle's _Poetics_\n",
    "* [[W](https://en.wikipedia.org/wiki/Rhetoric_(Aristotle))][[S](https://plato.stanford.edu/entries/aristotle-rhetoric/)] Aristotle's _Rhetoric_\n",
    "* [[W](https://en.wikipedia.org/wiki/Dispositio)] Arrangement [dispositio]\n",
    "* [[W](https://en.wikipedia.org/wiki/Audience)] Audience\n",
    "* [[W](https://en.wikipedia.org/wiki/Audience_analysis)] Audience Analysis\n",
    "* [[W](https://en.wikipedia.org/wiki/Antonomasia)] Autonomasia\n",
    "* [[W](https://en.wikipedia.org/wiki/Auxesis_(figure_of_speech))] Auxesis [αυξησις]\n",
    "* [[W](https://en.wikipedia.org/wiki/Basilikos_logos)] Basilikos Logos [βασιλικòς λόγος]\n",
    "* [[W](https://en.wikipedia.org/wiki/Bohm_Dialogue)] Bohm Dialogue\n",
    "* [[W](https://en.wikipedia.org/wiki/Byzantine_rhetoric)] Byzantine Rhetoric\n",
    "* [[W](https://en.wikipedia.org/wiki/Canon_(basic_principle))] Canon [κανών]\n",
    "* [[W](https://en.wikipedia.org/wiki/Catacosmesis)] Catacosmesis\n",
    "* [[W](https://en.wikipedia.org/wiki/Chiasmus)] Chiasmus [χίασμα, χιάζω]\n",
    "* [[W](https://en.wikipedia.org/wiki/Civil_discourse)] Civil Discourse\n",
    "* [[W](https://en.wikipedia.org/wiki/Cognitive_bias_modification)] Cognitive Bias Modification\n",
    "* [[W](https://en.wikipedia.org/wiki/The_Common_Topics)] Common Topics\n",
    "* [[W](https://en.wikipedia.org/wiki/Communication)] Communication\n",
    "* [[W](https://en.wikipedia.org/wiki/Conflict_continuum)] Conflict Continuum\n",
    "* [[W](https://en.wikipedia.org/wiki/Conflict_resolution)] Conflict Resolution\n",
    "* [[W](https://en.wikipedia.org/wiki/Constitutive_rhetoric)] Constitutive Rhetoric\n",
    "* [[W](https://en.wikipedia.org/wiki/Conversation_analysis)] Conversation Analysis\n",
    "* [[W](https://en.wikipedia.org/wiki/Counterargument)] Counter Argument\n",
    "* [[W](https://en.wikipedia.org/wiki/Criticism)] Criticism\n",
    "* [[W](https://en.wikipedia.org/wiki/Defeasible_reasoning)] Defeasible Reasoning\n",
    "* [[W](https://en.wikipedia.org/wiki/Deliberative_rhetoric)] Deliberative Rhetoric\n",
    "* [[W](https://en.wikipedia.org/wiki/Pronuntiatio)] Delivery [pronuntiatio]\n",
    "* [[W](https://en.wikipedia.org/wiki/Description)] Description\n",
    "* [[W](https://en.wikipedia.org/wiki/Dialectic)] Dialectic [διαλεκτική]\n",
    "* [[W](https://en.wikipedia.org/wiki/Dialogue)] Dialogue [διάλογος]\n",
    "* [[W](https://en.wikipedia.org/wiki/Didacticism)] Didacticism [διδακτικός]\n",
    "* [[W](https://en.wikipedia.org/wiki/Discourse_analysis)] Discourse Analysis\n",
    "* [[W](https://en.wikipedia.org/wiki/Dissoi_logoi)] Dissoi Logoi\n",
    "* [[W](https://en.wikipedia.org/wiki/Elocution)] Elocution\n",
    "* [[W](https://en.wikipedia.org/wiki/Empathy)] Empathy [ἐμπάθεια]\n",
    "* [[W](https://en.wikipedia.org/wiki/Encomium)] Encomium [ἐγκώμιον]\n",
    "* [[W](https://en.wikipedia.org/wiki/Enthymeme)] Enthymeme [ἐνθύμημα]\n",
    "* [[W](https://en.wikipedia.org/wiki/Epideictic)] Epideictic Rhetoric\n",
    "* [[W](https://en.wikipedia.org/wiki/Epistemic_humility)] Epistemic Humility\n",
    "* [[W](https://en.wikipedia.org/wiki/Eristic)] Eristic\n",
    "* [[W](https://en.wikipedia.org/wiki/Ethos)] Ethos [ηθος]\n",
    "* [[W](https://en.wikipedia.org/wiki/Exposition_(narrative))] Exposition\n",
    "* [W] Expositor\n",
    "* [[W](https://en.wikipedia.org/wiki/Forensic_rhetoric)] Forensic Rhetoric\n",
    "* [[W](https://en.wikipedia.org/wiki/Literary_genre)] Genre\n",
    "* [[W](https://en.wikipedia.org/wiki/Goal_structuring_notation)] Goal Structuring Notation (GSN)\n",
    "* [[W](https://en.wikipedia.org/wiki/Grounding_in_communication)] Grounding in communication\n",
    "* [[W](https://en.wikipedia.org/wiki/Group_polarization)] Group Polarization\n",
    "* [[W](https://en.wikipedia.org/wiki/Heuristic)] Heuristic [εὑρίσκω]\n",
    "* [[W](https://en.wikipedia.org/wiki/Inventio)] Invention [inventio]\n",
    "* [[W](https://en.wikipedia.org/wiki/Issue-based_information_system)] Issue-Based Information System\n",
    "* [[W](https://en.wikipedia.org/wiki/Kairos)] Kairos [καιρός]\n",
    "* [[W](https://en.wikipedia.org/wiki/Language_game_(philosophy))] Language Game\n",
    "* [[W](https://en.wikipedia.org/wiki/Logic_and_dialectic)] Logic and dialectic\n",
    "* [[W](https://en.wikipedia.org/wiki/Logic_of_argumentation)] Logic of Argumentation\n",
    "* [[W](https://en.wikipedia.org/wiki/Logical_reasoning)] Logical Reasoning\n",
    "* [[W](https://en.wikipedia.org/wiki/Logos)] Logos [λόγος]\n",
    "* [W] Means of Persuasion\n",
    "* [[W](https://en.wikipedia.org/wiki/Meiosis_(figure_of_speech))] Meiosis\n",
    "* [[W](https://en.wikipedia.org/wiki/Memoria)] Memory [memoria]\n",
    "* [[W](https://en.wikipedia.org/wiki/Modern_rhetoric)] Modern Rhetoric\n",
    "* [[W](https://en.wikipedia.org/wiki/Modes_of_persuasion)] Modes of Persuasion (Rhetorical Appeals) [πιστεις]\n",
    "* [[W](https://en.wikipedia.org/wiki/New_rhetorics)] New Rhetoric\n",
    "* [[W](https://en.wikipedia.org/wiki/Narration)] Narration\n",
    "* [W] Narrator\n",
    "* [[W](https://en.wikipedia.org/wiki/Exposition_(narrative))] Narrative Exposition\n",
    "* [[W](https://en.wikipedia.org/wiki/Negotiation)] Negotation\n",
    "* [[W](https://en.wikipedia.org/wiki/Negotiation_theory)] Negotiation Theory\n",
    "* [[W](https://en.wikipedia.org/wiki/Objection_(argument))] Objection\n",
    "* [[W](https://en.wikipedia.org/wiki/Public_speaking)] Oration\n",
    "* [[W](https://en.wikipedia.org/wiki/Orator)] Orator\n",
    "* [[W](https://en.wikipedia.org/wiki/Pars_destruens_and_pars_construens)] Pars construens\n",
    "* [[W](https://en.wikipedia.org/wiki/Pars_destruens_and_pars_construens)] Pars destruens\n",
    "* [[W](https://en.wikipedia.org/wiki/Pathos)] Pathos [πάθος]\n",
    "* [[W](https://en.wikipedia.org/wiki/Persuasion)] Persuasion\n",
    "* [[W](https://en.wikipedia.org/wiki/Philosophy_of_dialogue)] Philosophy of Dialogue\n",
    "* [W] Philosophy of Language\n",
    "* [W] Philosophy of Literature\n",
    "* [[W](https://en.wikipedia.org/wiki/Political_argument)] Political Argument\n",
    "* [[W](https://en.wikipedia.org/wiki/Politicization_of_science)] Politicization of Science\n",
    "* [[W](https://en.wikipedia.org/wiki/Practical_arguments)] Practical Argument\n",
    "* [[W](https://en.wikipedia.org/wiki/Principle_of_charity)] Principle of Charity\n",
    "* [[W](https://en.wikipedia.org/wiki/Progymnasmata)] Progymnasmata [προγυμνάσματα]\n",
    "* [[W](https://en.wikipedia.org/wiki/Public_sphere)] Public Sphere\n",
    "* [[W](https://en.wikipedia.org/wiki/Rationality)] Rationality\n",
    "* [[W](https://en.wikipedia.org/wiki/Reflective_listening)] Reflective Listening\n",
    "* [[W](https://en.wikipedia.org/wiki/Relationship_between_religion_and_science)][[S](https://plato.stanford.edu/entries/religion-science/)] Religion and Science\n",
    "* [W] Rhetor [ῥήτωρ]\n",
    "* [[W](https://en.wikipedia.org/wiki/Rhetoric)] Rhetoric [ῥητορική]\n",
    "* [[W](https://en.wikipedia.org/wiki/Identification_in_rhetoric)] Rhetoric of Identification\n",
    "* [[W](https://en.wikipedia.org/wiki/Rhetoric_of_science)] Rhetoric of Science\n",
    "* [[W](https://en.wikipedia.org/wiki/Rhetorical_device)] Rhetorical Device\n",
    "* [[W](https://en.wikipedia.org/wiki/Figure_of_speech)] Rhetorical Figure (Figure of Speech)\n",
    "* [[W](https://en.wikipedia.org/wiki/Rhetorical_operations)] Rhetorical Operation [quadripartita ratio]\n",
    "* [[W](https://en.wikipedia.org/wiki/Rhetorical_modes)] Rhetorical Mode\n",
    "* [[W](https://en.wikipedia.org/wiki/Rhetorical_reason)] Rhetorical Reason\n",
    "* [[W](https://en.wikipedia.org/wiki/Rogerian_argument)] Rogerian Argument/Rhetoric\n",
    "* [[W](https://en.wikipedia.org/wiki/Scientism)] Scientism\n",
    "* [[W](https://en.wikipedia.org/wiki/Sophist)] Sophist [σοφιστής]\n",
    "* [[W](https://en.wikipedia.org/wiki/Stasis_(ancient_Greece))] Stasis [στάσις]\n",
    "* [[W](https://en.wikipedia.org/wiki/Strophe)] Stophe [στροφή]\n",
    "* [[W](https://en.wikipedia.org/wiki/Elocutio)] Style [elocutio]\n",
    "* [[W](https://en.wikipedia.org/wiki/Synchysis)] Synchysis\n",
    "* [[W](https://en.wikipedia.org/wiki/Theories_of_rhetoric_and_composition_pedagogy)] theories of rhetoric and composition pedagogy\n",
    "* [[W](https://en.wikipedia.org/wiki/Literary_topos)] Topos [τόπος; τόπος κοινός; locus communis]\n",
    "* [W] Toulmin Argument/Rhetoric\n",
    "* [[W](https://en.wikipedia.org/wiki/Trivium)] Trivium"
   ]
  },
  {
   "attachments": {},
   "cell_type": "markdown",
   "metadata": {},
   "source": [
    "---"
   ]
  },
  {
   "attachments": {},
   "cell_type": "markdown",
   "metadata": {},
   "source": [
    "## Notes"
   ]
  },
  {
   "attachments": {},
   "cell_type": "markdown",
   "metadata": {},
   "source": [
    "Aristotle's three elements of philosophy\n",
    "* Logic\n",
    "  * deals in certainties\n",
    "  * concerned with reasoning to reach scientific certainty\n",
    "* Dialectic\n",
    "  * deals in probabilities\n",
    "  * a tool for philosophical debate\n",
    "  * a means for a skilled audience to test probable knowledge in order to learn\n",
    "* Rhetoric\n",
    "  * deals in probabilities\n",
    "  * a tool for practical debate\n",
    "  * a means for persuading a general audience based on knowledge instead of upon manipulation and omission\n",
    "\n",
    "Aristotle's three means of persuasion\n",
    "* Ethos - grounded in credibility\n",
    "* Pathos - grounded in the emotions\n",
    "* Logos - grounded in reason\n",
    "\n",
    "Aristotle's three genres of rhetoric\n",
    "* Deliberative\n",
    "* Forensic\n",
    "* Epideictic\n",
    "\n",
    "Five Canons of Classical Rhetoric\n",
    "* Arrangement\n",
    "* Delivery\n",
    "* Invention\n",
    "* Memory\n",
    "* Style\n",
    "\n",
    "Four rhetorical operations of classical rhetoric\n",
    "* Addition [adiectio]\n",
    "* Omission [detractio]\n",
    "* Permutation [immutatio]\n",
    "* Transposition [transmutatio]\n",
    "\n",
    "Trivium\n",
    "* Grammar\n",
    "* Logic\n",
    "* Rhetoric"
   ]
  },
  {
   "attachments": {},
   "cell_type": "markdown",
   "metadata": {},
   "source": [
    "---"
   ]
  }
 ],
 "metadata": {
  "language_info": {
   "name": "python"
  },
  "orig_nbformat": 4
 },
 "nbformat": 4,
 "nbformat_minor": 2
}
