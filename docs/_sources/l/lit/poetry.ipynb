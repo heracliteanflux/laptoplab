{
 "cells": [
  {
   "cell_type": "markdown",
   "metadata": {},
   "source": [
    "# Poetry"
   ]
  },
  {
   "cell_type": "markdown",
   "metadata": {},
   "source": [
    "---"
   ]
  },
  {
   "cell_type": "markdown",
   "metadata": {},
   "source": [
    "## Table of Contents\n",
    "```{contents}\n",
    "```"
   ]
  },
  {
   "cell_type": "markdown",
   "metadata": {},
   "source": [
    "---"
   ]
  },
  {
   "cell_type": "markdown",
   "metadata": {},
   "source": [
    "## Figures"
   ]
  },
  {
   "cell_type": "markdown",
   "metadata": {},
   "source": [
    "[[W](https://en.wikipedia.org/wiki/John_Keats)] Keats, John (1795-1821)\n",
    "* [[W](https://en.wikipedia.org/wiki/Hyperion_(poem))] _Hyperion, a Fragment_\n",
    "* [[W](https://en.wikipedia.org/wiki/The_Fall_of_Hyperion:_A_Dream)] _The Fall of Hyperion: A Dream_\n",
    "* [[W](https://en.wikipedia.org/wiki/Endymion_(poem))] _Endymion_"
   ]
  },
  {
   "cell_type": "markdown",
   "metadata": {},
   "source": [
    "Alphabetical \n",
    "* Blake, William (1757-1827)\n",
    "* Borges, Jorge Luis (1899-1986)\n",
    "* Byron, Lord (1788-1824)\n",
    "* Chaucer, Geoffrey (1343-1400)\n",
    "* Coleridge, Samuel Taylor (1772-1834)\n",
    "* Dumas, Alexandre (1802-1870)\n",
    "* Eliot, T S (1888-1965)\n",
    "* Emerson, Ralph Waldo (1803-1882)\n",
    "* Frost, Robert (1874-1963)\n",
    "* Goethe, Johann Wolfgang (1749-1832)\n",
    "* Góngora, Luis de (1561-1627)\n",
    "* Hugo, Victor (1802-1885)\n",
    "* Hunt, Leigh\n",
    "* Joyce, James (1882-1941)\n",
    "* Keats, John (1795-1821)\n",
    "* Longfellow, Henry Wadsworth (1807-1882)\n",
    "* Lorca, Federico García (1898-1936)\n",
    "* MacLeish, Archibald (1892-1982)\n",
    "* Neruda, Pablo (1904-1973)\n",
    "* O’Shaughnessy, Arthur (1844-1881)\n",
    "* Peacock, Thomas Love\n",
    "* Poe, Edgar Allan (1809-1849)\n",
    "* Quevedo, Francisco de (1580-1645)\n",
    "* Robinson, Edwin Arlington (1869-1935)\n",
    "* Shaw, George Bernard\n",
    "* Shelley, Mary\n",
    "* Shelley, Percy Bysshe (1792-1822)\n",
    "* Stevens, Wallace (1879-1955)\n",
    "* Tennyson, Alfred Lord ???\n",
    "* Tolstoy, Leo\n",
    "* Trelawny, Edward John (1792-1881)\n",
    "* Turco, Lewis (1934-present)\n",
    "* Whitman, Walt (1819-1892)\n",
    "* Wilde, Oscar (1854-1900)\n",
    "* Wordsworth, William (1770-1850)\n",
    "* Yeats, W B\n",
    "\n",
    " \n",
    "Chronological by birth\n",
    "* Chaucer, Geoffrey (1343-1400) British\n",
    "* Góngora, Luis de (1561-1627) Spanish\n",
    "* Quevedo, Francisco de (1580-1645) Spanish\n",
    "* Goethe, Johann Wolfgang (1749-1832)\n",
    "  * The Sorrows of Young Werther 1774\n",
    "  * Metamorphosis of Plants 1790\n",
    "  * Wilhelm Meister’s Aperenticeship 1795/6\n",
    "  * Hermann and Dorothea 1796/7\n",
    "  * Faust 1808\n",
    "  * Theory of Colors 1810\n",
    "* Blake, William (1757-1827)\n",
    "  * Preromanticism and Romanticism\n",
    "* Wordsworth, William (1770-1850)\n",
    "* Coleridge, Samuel Taylor (1772-1834)\n",
    "  * Romanticism\n",
    "* Byron, Lord (1788-1824)\n",
    "* Shelley, Percy Bysshe (1792-1822)\n",
    "  * Romanticism\n",
    "* Trelawny, Edward John (1792-1881)\n",
    "* Keats, John (1795-1821)\n",
    "  * Romanticism\n",
    "* Dumas, Alexandre (1802-1870)\n",
    "* Hugo, Victor (1802-1885)\n",
    "* Emerson, Ralph Waldo (1803-1882) American\n",
    "* Longfellow, Henry Wadsworth (1807-1882) American\n",
    "  * Fireside Poet\n",
    "  * “Paul Revere’s Ride”\n",
    "  * The Song of Hiawatha \n",
    "  * Evangeline \n",
    "  * The Courtship of Miles Standish \n",
    "* Poe, Edgar Allan (1809-1849) American\n",
    "* Whitman, Walt (1819-1892) American\n",
    "  * Leaves of Grass 1855\n",
    "* O’Shaughnessy, Arthur (1844-1881) British\n",
    "  * Epic of Women 1870\n",
    "  * Lays of France 1872\n",
    "  * Music and Moonlight 1874\n",
    "  * Songs of a Worker 1881\n",
    "  * Ode\n",
    "* Wilde, Oscar (1854-1900) French\n",
    "* Robinson, Edwin Arlington (1869-1935) American\n",
    "* Frost, Robert (1874-1963) American\n",
    "* Stevens, Wallace (1879-1955) American\n",
    "  * Modernism\n",
    "* Joyce, James (1882-1941) Irish\n",
    "  * Dubliners 1914\n",
    "  * A Portrait of the Artist as a Young Man 1916\n",
    "  * Ulysses 1922\n",
    "  * Finnegans Wake 1939\n",
    "* Eliot, T S (1888-1965) American/British\n",
    "* MacLeish, Archibald (1892-1982) American\n",
    "  * Modernism\n",
    "* Lorca, Federico García (1898-1936) Spanish\n",
    "* Borges, Jorge Luis (1899-1986) Argentine\n",
    "* Neruda, Pablo (1904-1973) Chilean\n",
    "* Turco, Lewis (1934-present) American\n",
    "  * New Formalism\n",
    "* Grosholz, Emily American\n",
    "  * New Formalism\n",
    " \n",
    " \n",
    "Spanish Language, chronological by birth \t\n",
    "* Góngora, Luis de (1561-1627) Spanish\n",
    "* Quevedo, Francisco de (1580-1645) Spanish\n",
    "* Lorca, Federico García (1898-1936) Argentine\n",
    "* Borges, Jorge Luis (1899-1986) Spanish\n",
    "* Neruda, Pablo (1904-1973) Chilean"
   ]
  },
  {
   "cell_type": "markdown",
   "metadata": {},
   "source": [
    "---"
   ]
  },
  {
   "cell_type": "markdown",
   "metadata": {},
   "source": [
    "## Resources"
   ]
  },
  {
   "cell_type": "markdown",
   "metadata": {},
   "source": [
    "https://poemanalysis.com/"
   ]
  },
  {
   "cell_type": "markdown",
   "metadata": {},
   "source": [
    "---"
   ]
  },
  {
   "cell_type": "markdown",
   "metadata": {},
   "source": [
    "## Terms"
   ]
  },
  {
   "cell_type": "markdown",
   "metadata": {},
   "source": [
    "* [[W](https://en.wikipedia.org/wiki/Accentual_verse)] Accentual Verse\n",
    "* [[W](https://en.wikipedia.org/wiki/Accentual-syllabic_verse)] Accentual-Syllabic Verse\n",
    "* [[W](https://en.wikipedia.org/wiki/Anadiplosis)] Anadiplosis\n",
    "* [[W](https://en.wikipedia.org/wiki/Anapaest)] Anapest\n",
    "* [[W](https://en.wikipedia.org/wiki/Anaphora_(rhetoric))] Anaphora\n",
    "* [[W](https://en.wikipedia.org/wiki/Caesura)] Caesura\n",
    "* [[W](https://en.wikipedia.org/wiki/Couplet)] Couplet\n",
    "* [[W](https://en.wikipedia.org/wiki/Dactyl_(poetry))] Dactyl\n",
    "* [W] Epimone\n",
    "* [[W](https://en.wikipedia.org/wiki/Epistrophe)] Epistrophe\n",
    "* [[W](https://en.wikipedia.org/wiki/Foot_(prosody))] Foot\n",
    "* [W] Gradatio\n",
    "* [[W](https://en.wikipedia.org/wiki/Heroic_couplet)] Heroic Couplet\n",
    "* [[W](https://en.wikipedia.org/wiki/Iamb_(poetry))] Iamb\n",
    "* [[W](https://en.wikipedia.org/wiki/Iambic_pentameter)] Iambic Pentameter\n",
    "* [[W](https://en.wikipedia.org/wiki/Substitution_(poetry))] Inversion\n",
    "* [[W](https://en.wikipedia.org/wiki/Latin_poetry)] Latin Poetry\n",
    "* [[W](https://en.wikipedia.org/wiki/Line_(poetry))] Line\n",
    "* [[W](https://en.wikipedia.org/wiki/Metre_(poetry))] Meter\n",
    "* [[W](https://en.wikipedia.org/wiki/Poetry)] Poetry\n",
    "* [[W](https://en.wikipedia.org/wiki/Polyptoton)] Polyptoton\n",
    "* [[W](https://en.wikipedia.org/wiki/Sestina)] Sestina\n",
    "* [[W](https://en.wikipedia.org/wiki/Sonnet)] Sonnet\n",
    "* [[W](https://en.wikipedia.org/wiki/Stanza)] Stanza\n",
    "* [[W](https://en.wikipedia.org/wiki/Substitution_(poetry))] Substitution\n",
    "* [[W](https://en.wikipedia.org/wiki/Syllabic_verse)] Syllabic Verse\n",
    "* [[W](https://en.wikipedia.org/wiki/Symploce)] Symploce\n",
    "* [[W](https://en.wikipedia.org/wiki/Trochee)] Trochee\n",
    "* [[W](https://en.wikipedia.org/wiki/Poetry)] Verse"
   ]
  },
  {
   "cell_type": "markdown",
   "metadata": {},
   "source": [
    "---"
   ]
  }
 ],
 "metadata": {
  "language_info": {
   "name": "python"
  },
  "orig_nbformat": 4
 },
 "nbformat": 4,
 "nbformat_minor": 2
}
