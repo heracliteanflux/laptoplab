{
 "cells": [
  {
   "cell_type": "markdown",
   "metadata": {},
   "source": [
    "# Some examples of the use of KaTeX"
   ]
  },
  {
   "cell_type": "markdown",
   "metadata": {},
   "source": [
    "---"
   ]
  },
  {
   "cell_type": "markdown",
   "metadata": {},
   "source": [
    "$\n",
    "\\begin{aligned}\n",
    " x_1 && - && 3x_2 && + && x_3 && = && 5 \\\\\n",
    "6x_1 && + && 4x_2 && - && x_3 && = && 8 \\\\\n",
    "\\end  {aligned}\n",
    "$"
   ]
  },
  {
   "cell_type": "markdown",
   "metadata": {},
   "source": [
    "```\n",
    "$\n",
    "\\begin{aligned}\n",
    " x_1 && - && 3x_2 && + && x_3 && = && 5 \\\\\n",
    "6x_1 && + && 4x_2 && - && x_3 && = && 8 \\\\\n",
    "\\end  {aligned}\n",
    "$\n",
    "```"
   ]
  },
  {
   "cell_type": "markdown",
   "metadata": {},
   "source": [
    "$\n",
    "\\left [\n",
    "  \\begin{matrix*}[r]\n",
    "    1 & -3 &  1 \\\\\n",
    "    6 &  4 & -1 \\\\\n",
    "  \\end  {matrix*}\n",
    "  \\left |\n",
    "    \\begin{matrix*}[r]\n",
    "      5 \\\\\n",
    "      8 \\\\\n",
    "    \\end  {matrix*}\n",
    "  \\right.\n",
    "\\right]\n",
    "$"
   ]
  },
  {
   "cell_type": "markdown",
   "metadata": {},
   "source": [
    "```\n",
    "$\n",
    "\\left [\n",
    "  \\begin{matrix*}[r]\n",
    "    1 & -3 &  1 \\\\\n",
    "    6 &  4 & -1 \\\\\n",
    "  \\end  {matrix*}\n",
    "  \\left |\n",
    "    \\begin{matrix*}[r]\n",
    "      5 \\\\\n",
    "      8 \\\\\n",
    "    \\end  {matrix*}\n",
    "  \\right.\n",
    "\\right]\n",
    "$\n",
    "```"
   ]
  },
  {
   "cell_type": "markdown",
   "metadata": {},
   "source": [
    "$\n",
    "x_1 \\begin{bmatrix*}[r]  1 \\\\  6 \\\\ \\end{bmatrix*} +\n",
    "x_2 \\begin{bmatrix*}[r] -3 \\\\  4 \\\\ \\end{bmatrix*} +\n",
    "x_3 \\begin{bmatrix*}[r]  1 \\\\ -1 \\\\ \\end{bmatrix*} =\n",
    "    \\begin{bmatrix*}[r]  5 \\\\  8 \\\\ \\end{bmatrix*}\n",
    "$"
   ]
  },
  {
   "cell_type": "markdown",
   "metadata": {},
   "source": [
    "```\n",
    "$\n",
    "x_1 \\begin{bmatrix*}[r]  1 \\\\  6 \\\\ \\end{bmatrix*} +\n",
    "x_2 \\begin{bmatrix*}[r] -3 \\\\  4 \\\\ \\end{bmatrix*} +\n",
    "x_3 \\begin{bmatrix*}[r]  1 \\\\ -1 \\\\ \\end{bmatrix*} =\n",
    "    \\begin{bmatrix*}[r]  5 \\\\  8 \\\\ \\end{bmatrix*}\n",
    "$\n",
    "```"
   ]
  },
  {
   "cell_type": "markdown",
   "metadata": {},
   "source": [
    "$\n",
    "\\begin{bmatrix*}[r]\n",
    "1 & -3 &  1 \\\\\n",
    "6 &  4 & -1 \\\\\n",
    "\\end  {bmatrix*}\n",
    "\\begin{bmatrix*}[r] x_1 \\\\ x_2 \\\\ x_3 \\\\ \\end{bmatrix*} =\n",
    "\\begin{bmatrix*}[r] 5 \\\\ 8 \\\\ \\end{bmatrix*}\n",
    "$"
   ]
  },
  {
   "cell_type": "markdown",
   "metadata": {},
   "source": [
    "```\n",
    "$\n",
    "\\begin{bmatrix*}[r]\n",
    "1 & -3 &  1 \\\\\n",
    "6 &  4 & -1 \\\\\n",
    "\\end  {bmatrix*}\n",
    "\\begin{bmatrix*}[r] x_1 \\\\ x_2 \\\\ x_3 \\\\ \\end{bmatrix*} =\n",
    "\\begin{bmatrix*}[r] 5 \\\\ 8 \\\\ \\end{bmatrix*}\n",
    "$\n",
    "```"
   ]
  },
  {
   "cell_type": "markdown",
   "metadata": {},
   "source": [
    "---"
   ]
  }
 ],
 "metadata": {
  "language_info": {
   "name": "python"
  }
 },
 "nbformat": 4,
 "nbformat_minor": 2
}
