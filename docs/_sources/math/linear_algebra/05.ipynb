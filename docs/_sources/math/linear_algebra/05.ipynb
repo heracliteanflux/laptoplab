{
 "cells": [
  {
   "cell_type": "markdown",
   "metadata": {},
   "source": [
    "# Linear Transformations"
   ]
  },
  {
   "cell_type": "markdown",
   "metadata": {},
   "source": [
    "---"
   ]
  },
  {
   "cell_type": "markdown",
   "metadata": {},
   "source": [
    "## Table of Contents\n",
    "```{contents}\n",
    "```"
   ]
  },
  {
   "cell_type": "markdown",
   "metadata": {},
   "source": [
    "---"
   ]
  },
  {
   "cell_type": "markdown",
   "metadata": {},
   "source": [
    "## Definition of Transformation"
   ]
  },
  {
   "cell_type": "markdown",
   "metadata": {},
   "source": [
    "<fieldset style=\"border: 2px solid #0096FF; border-radius: 5px; display: inline-block; margin: 10px; padding: 0 20px 0 20px;\">\n",
    "<legend style=\"color: #0096FF; font-family: Romans; font-size: 18px; padding: 0 10px 0 10px;\"><b>Transformation</b></legend>\n",
    "\n",
    "A transformation $T : \\mathbb{R}^n \\to \\mathbb{R}^m$ is a function which given a vector $\\mathbf{x} \\in \\mathbb{R}^n$ returns a vector $T(\\mathbf{x}) \\in \\mathbb{R}^m$.\n",
    "\n",
    "---\n",
    "\n",
    "$\\mathbb{R}^n$ is called the domain of $T$\n",
    "\n",
    "$\\mathbb{R}^m$ is called the co domain of $T$\n",
    "\n",
    "$\\mathbb{R}^n \\to \\mathbb{R}^m$ (\"from the domain $\\mathbb{R}^n$ to the codomain $\\mathbb{R}^m$\")\n",
    "\n",
    "Given a vector $\\mathbf{x} \\in \\mathbb{R}^n$ the vector $T(\\mathbf{x}) \\in \\mathbb{R}^m$ is called the image of $\\mathbf{x}$.\n",
    "\n",
    "The set of all such images $T(\\mathbf{x}) \\in \\mathbb{R}^m$ is called the range of $T$ and it is a subset the co domain.\n",
    "\n",
    "</fieldset>"
   ]
  },
  {
   "cell_type": "markdown",
   "metadata": {},
   "source": [
    "---"
   ]
  },
  {
   "cell_type": "markdown",
   "metadata": {},
   "source": [
    "### <span style=\"color: green; font-family: Romans; font-size: 18px;\"><b>Example</b></span>"
   ]
  },
  {
   "cell_type": "markdown",
   "metadata": {},
   "source": [
    "$T : \\mathbb{R}^2 \\to \\mathbb{R}^3$"
   ]
  },
  {
   "cell_type": "markdown",
   "metadata": {},
   "source": [
    "$\n",
    "\\begin{bmatrix} x \\\\ y \\\\       \\end{bmatrix} \\to\n",
    "\\begin{bmatrix} x \\\\ y \\\\ xy \\\\ \\end{bmatrix}\n",
    "$"
   ]
  },
  {
   "cell_type": "markdown",
   "metadata": {},
   "source": [
    "---"
   ]
  },
  {
   "cell_type": "markdown",
   "metadata": {},
   "source": [
    "### <span style=\"color: green; font-family: Romans; font-size: 18px;\"><b>Example</b></span>"
   ]
  },
  {
   "cell_type": "markdown",
   "metadata": {},
   "source": [
    "$T : \\mathbb{R}^2 \\to \\mathbb{R}^3$"
   ]
  },
  {
   "cell_type": "markdown",
   "metadata": {},
   "source": [
    "$\n",
    "\\begin{bmatrix} x \\\\ y \\\\ \\end{bmatrix} \\to\n",
    "\\begin{bmatrix}\n",
    "  \\frac{2x           }{x^2 + y^2 + 1} \\\\\n",
    "  \\frac{2y           }{x^2 + y^2 + 1} \\\\\n",
    "  \\frac{x^2 + y^2 - 1}{x^2 + y^2 + 1} \\\\\n",
    "\\end  {bmatrix}\n",
    "$"
   ]
  },
  {
   "cell_type": "markdown",
   "metadata": {},
   "source": [
    "---"
   ]
  },
  {
   "cell_type": "markdown",
   "metadata": {},
   "source": [
    "## Definition of Linear Transformation"
   ]
  },
  {
   "cell_type": "markdown",
   "metadata": {},
   "source": [
    "<fieldset style=\"border: 2px solid #0096FF; border-radius: 5px; display: inline-block; margin: 10px; padding: 0 20px 0 20px;\">\n",
    "<legend style=\"color: #0096FF; font-family: Romans; font-size: 18px; padding: 0 10px 0 10px;\"><b>Linear Transformation</b></legend>\n",
    "\n",
    "A transformation $T : \\mathbb{R}^n \\to \\mathbb{R}^m$ that satisfies the following two conditions for all vectors $\\mathbf{u, v}$ in the domain of $T$ and for all scalars $c \\in \\mathbb{R}$ is called linear:\n",
    "\n",
    "1\\. $T(\\mathbf{u + v}) = T(\\mathbf{u}) + T(\\mathbf{v})$\n",
    "\n",
    "2\\. $T(c\\mathbf{v}) = cT(\\mathbf{v})$\n",
    "\n",
    "</fieldset>"
   ]
  },
  {
   "cell_type": "markdown",
   "metadata": {},
   "source": [
    "If $T$ is a linear transformation then\n",
    "\n",
    "1\\. $T(r \\mathbf{u} + s \\mathbf{v}) = \\underbrace{T(r \\mathbf{u}) + T(s \\mathbf{v})}_{\\textbf{by condition 1}} = \\underbrace{rT(\\mathbf{u}) + sT(\\mathbf{v})}_{\\textbf{by condition 2}}$\n",
    "\n",
    "If a transformation is linear then it respects linear combinations: transforming a linear combination of domain vectors is equivalent to taking the same linear combination of their images.\n",
    "\n",
    "2\\. $T(\\mathbf{0}) = T(0 \\cdot \\mathbf{v}) = 0 \\cdot T(\\mathbf{v}) = \\mathbf{0}$\n",
    "\n",
    "Transforming the zero domain vector yields the zero range vector."
   ]
  },
  {
   "cell_type": "markdown",
   "metadata": {},
   "source": [
    "---"
   ]
  },
  {
   "cell_type": "markdown",
   "metadata": {},
   "source": [
    "### <span style=\"color: green; font-family: Romans; font-size: 18px;\"><b>Example</b></span>"
   ]
  },
  {
   "cell_type": "markdown",
   "metadata": {},
   "source": [
    "PROBLEM STATEMENT\n",
    "\n",
    "Is the transformation $T : \\textcolor{#FFC300}{\\mathbb{R}^2} \\to \\textcolor{#C70039}{\\mathbb{R}^3}$ defined by the following mapping linear?\n",
    "\n",
    "$\n",
    "\\textcolor{#FFC300}{\\begin{bmatrix} x \\\\ y \\\\          \\end{bmatrix}} \\mapsto\n",
    "\\textcolor{#C70039}{\\begin{bmatrix} x \\\\ y \\\\ x + y \\\\ \\end{bmatrix}}\n",
    "$"
   ]
  },
  {
   "cell_type": "markdown",
   "metadata": {},
   "source": [
    "<div class=\"full-width\">\n",
    "\n",
    "Let there be two vectors $\\mathbf{u, v} \\in \\mathbb{R}^2$ and two scalars $r, s \\in \\mathbb{R}$.\n",
    "\n",
    "$\n",
    "T\n",
    "\\left (\n",
    "r \\begin{bmatrix} u_1 \\\\ u_2 \\\\ \\end{bmatrix} +\n",
    "s \\begin{bmatrix} v_1 \\\\ v_2 \\\\ \\end{bmatrix}\n",
    "\\right) =\n",
    "T\n",
    "\\left (\n",
    "\\begin{bmatrix} ru_1 + sv_1 \\\\ ru_2 + sv_2 \\\\ \\end{bmatrix}\n",
    "\\right) =\n",
    "  \\begin{bmatrix} ru_1 + sv_1 \\\\ ru_2 + sv_2 \\\\ ru_1 + ru_2 + sv_1 + sv_2 \\\\ \\end{bmatrix} =\n",
    "  \\begin{bmatrix} ru_1        \\\\ ru_2        \\\\ ru_1 + ru_2               \\\\ \\end{bmatrix} +\n",
    "  \\begin{bmatrix}        sv_1 \\\\        sv_2 \\\\               sv_1 + sv_2 \\\\ \\end{bmatrix} =\n",
    "r \\begin{bmatrix}  u_1        \\\\  u_2        \\\\  u_1 +  u_2               \\\\ \\end{bmatrix} +\n",
    "s \\begin{bmatrix}         v_1 \\\\         v_2 \\\\                v_1 +  v_2 \\\\ \\end{bmatrix} =\n",
    "sT\n",
    "\\left (\n",
    "\\begin{bmatrix} u_1 \\\\ u_2 \\\\ \\end{bmatrix}\n",
    "\\right) +\n",
    "sT\n",
    "\\left (\n",
    "\\begin{bmatrix} u_1 \\\\ u_2 \\\\ \\end{bmatrix}\n",
    "\\right)\n",
    "$\n",
    "\n",
    "</div>"
   ]
  },
  {
   "cell_type": "markdown",
   "metadata": {},
   "source": [
    "It is linear."
   ]
  },
  {
   "cell_type": "markdown",
   "metadata": {},
   "source": [
    "$\n",
    "\\textcolor{#C70039}{\n",
    "  \\begin{bmatrix} x \\\\ y \\\\ x + y \\\\ \\end{bmatrix}} =\n",
    "  \\begin{bmatrix} x \\\\ 0 \\\\ x     \\\\ \\end{bmatrix} +\n",
    "  \\begin{bmatrix} 0 \\\\ y \\\\ y     \\\\ \\end{bmatrix} =\n",
    "x \\begin{bmatrix} 1 \\\\ 0 \\\\ 1     \\\\ \\end{bmatrix} +\n",
    "y \\begin{bmatrix} 0 \\\\ 1 \\\\ 1     \\\\ \\end{bmatrix} =\n",
    "\\textcolor{#FF5733}{\n",
    "\\begin{bmatrix}\n",
    "  1 & 0 \\\\\n",
    "  0 & 1 \\\\\n",
    "  1 & 1 \\\\\n",
    "\\end  {bmatrix}}\n",
    "\\textcolor{#FFC300}{\n",
    "\\begin{bmatrix} x \\\\ y \\\\ \\end{bmatrix}}\n",
    "$"
   ]
  },
  {
   "cell_type": "markdown",
   "metadata": {},
   "source": [
    "---"
   ]
  },
  {
   "cell_type": "markdown",
   "metadata": {},
   "source": [
    "### <span style=\"color: green; font-family: Romans; font-size: 18px;\"><b>Example</b></span>"
   ]
  },
  {
   "cell_type": "markdown",
   "metadata": {},
   "source": [
    "PROBLEM STATEMENT\n",
    "\n",
    "Is the transformation $T : \\mathbb{R}^2 \\to \\mathbb{R}^3$ defined by the following mapping linear?\n",
    "\n",
    "$\n",
    "\\begin{bmatrix} x \\\\ y \\\\       \\end{bmatrix} \\to\n",
    "\\begin{bmatrix} x \\\\ y \\\\ xy \\\\ \\end{bmatrix}\n",
    "$"
   ]
  },
  {
   "cell_type": "markdown",
   "metadata": {},
   "source": [
    "<div class=\"full-width\">\n",
    "\n",
    "Let there be two vectors $\\mathbf{u, v} \\in \\mathbb{R}^2$ and two scalars $r, s \\in \\mathbb{R}$.\n",
    "\n",
    "$\n",
    "T\n",
    "\\left (\n",
    "r \\begin{bmatrix} u_1 \\\\ u_2 \\\\ \\end{bmatrix} +\n",
    "s \\begin{bmatrix} v_1 \\\\ v_2 \\\\ \\end{bmatrix}\n",
    "\\right) =\n",
    "T\n",
    "\\left (\n",
    "\\begin{bmatrix} ru_1 + sv_1 \\\\ ru_2 + sv_2 \\\\ \\end{bmatrix}\n",
    "\\right) =\n",
    "  \\begin{bmatrix} ru_1 + sv_1 \\\\ ru_2 + sv_2 \\\\ (ru_1 + sv_1)(ru_2 + sv_2) \\\\ \\end{bmatrix} = \\\\\n",
    "  \\begin{bmatrix} ru_1 + sv_1 \\\\ ru_2 + sv_2 \\\\ r^2u_1u_2 + rs(u_1v_2 + u_2v_1) + s^2v_1v_2 \\\\ \\end{bmatrix} \\ne\n",
    "  \\begin{bmatrix} ru_1 + sv_1 \\\\ ru_2 + sv_2 \\\\         ru_1u_2 + sv_1v_2 \\\\ \\end{bmatrix} \\\\ =\n",
    "  \\begin{bmatrix} ru_1        \\\\ ru_2        \\\\         ru_1u_2           \\\\ \\end{bmatrix} +\n",
    "  \\begin{bmatrix}        sv_1 \\\\        sv_2 \\\\                   sv_1v_2 \\\\ \\end{bmatrix} =\n",
    "r \\begin{bmatrix}  u_1        \\\\  u_2        \\\\          u_1u_2           \\\\ \\end{bmatrix} +\n",
    "s \\begin{bmatrix}         v_1 \\\\         v_2 \\\\                    v_1v_2 \\\\ \\end{bmatrix} =\n",
    "sT\n",
    "\\left (\n",
    "\\begin{bmatrix} u_1 \\\\ u_2 \\\\ \\end{bmatrix}\n",
    "\\right) +\n",
    "sT\n",
    "\\left (\n",
    "\\begin{bmatrix} u_1 \\\\ u_2 \\\\ \\end{bmatrix}\n",
    "\\right)\n",
    "$\n",
    "\n",
    "</div>"
   ]
  },
  {
   "cell_type": "markdown",
   "metadata": {},
   "source": [
    "For instance\n",
    "\n",
    "$\n",
    "\\begin{bmatrix} 1 \\\\ 0 \\\\      \\end{bmatrix}\n",
    "\\overset{T}{\\mapsto}\n",
    "\\begin{bmatrix} 1 \\\\ 0 \\\\ 0 \\\\ \\end{bmatrix},\n",
    "\\begin{bmatrix} 0 \\\\ 1 \\\\      \\end{bmatrix}\n",
    "\\overset{T}{\\mapsto}\n",
    "\\begin{bmatrix} 0 \\\\ 1 \\\\ 0 \\\\ \\end{bmatrix},\n",
    "\\begin{bmatrix} 1 \\\\ 1 \\\\      \\end{bmatrix}\n",
    "\\overset{T}{\\mapsto}\n",
    "\\begin{bmatrix} 1 \\\\ 1 \\\\ 1 \\\\ \\end{bmatrix}\n",
    "$\n",
    "\n",
    "$\n",
    "T\n",
    "\\left (\n",
    "\\begin{bmatrix} 1 \\\\ 0 \\\\      \\end{bmatrix} +\n",
    "\\begin{bmatrix} 0 \\\\ 1 \\\\      \\end{bmatrix}\n",
    "\\right) =\n",
    "T\n",
    "\\left (\n",
    "\\begin{bmatrix} 1 \\\\ 1 \\\\      \\end{bmatrix}\n",
    "\\right) =\n",
    "\\begin{bmatrix} 1 \\\\ 1 \\\\ 1 \\\\ \\end{bmatrix} \\ne\n",
    "\\begin{bmatrix} 1 \\\\ 1 \\\\ 0 \\\\ \\end{bmatrix} =\n",
    "\\begin{bmatrix} 1 \\\\ 0 \\\\ 0 \\\\ \\end{bmatrix} +\n",
    "\\begin{bmatrix} 0 \\\\ 1 \\\\ 0 \\\\ \\end{bmatrix} =\n",
    "T\n",
    "\\left (\n",
    "\\begin{bmatrix} 1 \\\\ 0 \\\\      \\end{bmatrix}\n",
    "\\right) +\n",
    "T\n",
    "\\left (\n",
    "\\begin{bmatrix} 0 \\\\ 1 \\\\      \\end{bmatrix}\n",
    "\\right)\n",
    "$"
   ]
  },
  {
   "cell_type": "markdown",
   "metadata": {},
   "source": [
    "It is not linear."
   ]
  },
  {
   "cell_type": "markdown",
   "metadata": {},
   "source": [
    "---"
   ]
  },
  {
   "cell_type": "markdown",
   "metadata": {},
   "source": [
    "### <span style=\"color: green; font-family: Romans; font-size: 18px;\"><b>Example</b></span>"
   ]
  },
  {
   "cell_type": "markdown",
   "metadata": {},
   "source": [
    "PROBLEM STATEMENT\n",
    "\n",
    "Is the transformation $T : \\mathbb{R}^2 \\to \\mathbb{R}^3$ defined by the following mapping linear?\n",
    "\n",
    "$\n",
    "\\begin{bmatrix} x \\\\ y \\\\ \\end{bmatrix} \\to\n",
    "\\begin{bmatrix}\n",
    "  \\frac{2x           }{x^2 + y^2 + 1} \\\\\n",
    "  \\frac{2y           }{x^2 + y^2 + 1} \\\\\n",
    "  \\frac{x^2 + y^2 - 1}{x^2 + y^2 + 1} \\\\\n",
    "\\end  {bmatrix}\n",
    "$"
   ]
  },
  {
   "cell_type": "markdown",
   "metadata": {},
   "source": [
    "For instance\n",
    "\n",
    "$\n",
    "\\begin{bmatrix} 0 \\\\ 0 \\\\       \\end{bmatrix}\n",
    "\\overset{T}{\\mapsto}\n",
    "\\begin{bmatrix} 0 \\\\ 0 \\\\ -1 \\\\ \\end{bmatrix}\n",
    "$"
   ]
  },
  {
   "cell_type": "markdown",
   "metadata": {},
   "source": [
    "It is not linear."
   ]
  },
  {
   "cell_type": "markdown",
   "metadata": {},
   "source": [
    "---"
   ]
  },
  {
   "cell_type": "markdown",
   "metadata": {},
   "source": [
    "## Linear transformations and matrices"
   ]
  },
  {
   "cell_type": "markdown",
   "metadata": {},
   "source": [
    "Let $T : \\textcolor{#FFC300}{\\mathbb{R}^n} \\to \\textcolor{#C70039}{\\mathbb{R}^m}$ be a linear transformation.\n",
    "\n",
    "Let $\\mathbf{e_k} \\in \\mathbb{R}^n$ denote the vector whose only non zero entry is a $1$ located in the $k$-th row.\n",
    "\n",
    "The $k$-th column of the matrix associated with the linear transformation is the vector $\\mathbf{u_k} = T(\\mathbf{e_k}) \\in \\mathbb{R}^m$"
   ]
  },
  {
   "cell_type": "markdown",
   "metadata": {},
   "source": [
    "$\n",
    "\\begin{aligned}\n",
    "T\n",
    "\\left (\n",
    "\\begin{bmatrix} x_1 \\\\ x_2 \\\\ \\vdots \\\\ x_n \\\\ \\end{bmatrix}\n",
    "\\right)\n",
    "&= T\n",
    "\\left (\n",
    "x_1 \\begin{bmatrix} 1 \\\\ 0 \\\\ \\vdots \\\\ 0 \\\\ \\end{bmatrix} +\n",
    "x_2 \\begin{bmatrix} 0 \\\\ 1 \\\\ \\vdots \\\\ 0 \\\\ \\end{bmatrix} +\n",
    "\\dots +\n",
    "x_n \\begin{bmatrix} 0 \\\\ 0 \\\\ \\vdots \\\\ 1 \\\\ \\end{bmatrix}\n",
    "\\right) \\\\\n",
    "&= T (x_1 \\mathbf{e_1} + x_2 \\mathbf{e_2} + \\dots + x_n \\mathbf{e_n}) \\\\\n",
    "&= x_1 T (\\mathbf{e_1}) + x_2 T (\\mathbf{e_2}) + \\dots + x_n T (\\mathbf{e_n}) \\\\\n",
    "&= x_1 \\mathbf{u_1} + x_2 \\mathbf{u_2} + \\dots + x_n \\mathbf{u_n} \\\\\n",
    "&= \\underbrace{\n",
    "\\underbrace{\n",
    "\\begin{bmatrix}\n",
    "       \\vert &        \\vert &       &        \\vert \\\\\n",
    "       \\vert &        \\vert &       &        \\vert \\\\\n",
    "\\mathbf{u_1} & \\mathbf{u_2} & \\dots & \\mathbf{u_n} \\\\\n",
    "       \\vert &        \\vert &       &        \\vert \\\\\n",
    "       \\vert &        \\vert &       &        \\vert \\\\\n",
    "\\end  {bmatrix}\n",
    "}_{\\textcolor{#C70039}{m} \\times \\textcolor{#FFC300}{n}}\n",
    "\\underbrace{\n",
    "\\begin{bmatrix} x_1 \\\\ x_2 \\\\ \\vdots \\\\ x_n \\end{bmatrix}\n",
    "}_{\\textcolor{#FFC300}{n} \\times 1}\n",
    "}_{\\textcolor{#C70039}{m} \\times 1}\n",
    "\\end  {aligned}\n",
    "$"
   ]
  },
  {
   "cell_type": "markdown",
   "metadata": {},
   "source": [
    "Each linear transformation <span style=\"color: #FFC300;\">from</span> $\\textcolor{#FFC300}{\\mathbb{R}^n}$ <span style=\"color: #C70039;\">to</span> $\\textcolor{#C70039}{\\mathbb{R}^m}$ determines an $\\textcolor{#C70039}{m} \\times \\textcolor{#FFC300}{n}$ matrix.\n",
    "\n",
    "Conversely, each $\\textcolor{#C70039}{m} \\times \\textcolor{#FFC300}{n}$ matrix $\\mathbf{A}$ determines a linear transformation $\\mathbf{x \\mapsto Ax}$ <span style=\"color: #FFC300;\">from</span> $\\textcolor{#FFC300}{\\mathbb{R}^n}$ <span style=\"color: #C70039;\">to</span> $\\textcolor{#C70039}{\\mathbb{R}^m}$."
   ]
  },
  {
   "cell_type": "markdown",
   "metadata": {},
   "source": [
    "---"
   ]
  },
  {
   "cell_type": "markdown",
   "metadata": {},
   "source": [
    "### <span style=\"color: green; font-family: Romans; font-size: 18px;\"><b>Example</b></span>"
   ]
  },
  {
   "cell_type": "markdown",
   "metadata": {},
   "source": [
    "PROBLEM STATEMENT\n",
    "\n",
    "Is the transformation linear?\n",
    "\n",
    "$\n",
    "T\n",
    "\\left (\n",
    "\\begin{bmatrix} x_1 \\\\ x_2 \\\\ \\end{bmatrix}\n",
    "\\right) =\n",
    "\\begin{bmatrix*}[r]\n",
    "   x_1 - x_2 \\\\\n",
    "  3x_1 + x_2 \\\\\n",
    "\\end  {bmatrix*}\n",
    "$\n",
    "\n",
    "In other words, is there a $2 \\times 2$ matrix $\\mathbf{A}$ s.t. $\\mathbf{x \\mapsto Ax}$?"
   ]
  },
  {
   "cell_type": "markdown",
   "metadata": {},
   "source": [
    "$\n",
    "T\n",
    "\\left (\n",
    "\\begin{bmatrix} x_1 \\\\ x_2 \\\\ \\end{bmatrix}\n",
    "\\right) =\n",
    "\\begin{bmatrix*}[r]\n",
    "   x_1 - x_2 \\\\\n",
    "  3x_1 + x_2 \\\\\n",
    "\\end  {bmatrix*} =\n",
    "\\begin{bmatrix*}[r]  x_1 \\\\ 3x_1 \\\\ \\end{bmatrix*} +\n",
    "\\begin{bmatrix*}[r] -x_2 \\\\  x_2 \\\\ \\end{bmatrix*} =\n",
    "x_1 \\begin{bmatrix*}[r]  1 \\\\ 3 \\\\ \\end{bmatrix*} +\n",
    "x_2 \\begin{bmatrix*}[r] -1 \\\\ 1 \\\\ \\end{bmatrix*} =\n",
    "\\begin{bmatrix*}[r]\n",
    "  1 & -1 \\\\\n",
    "  3 &  1 \\\\\n",
    "\\end  {bmatrix*}\n",
    "\\begin{bmatrix} x_1 \\\\ x_2 \\\\ \\end{bmatrix}\n",
    "$"
   ]
  },
  {
   "cell_type": "markdown",
   "metadata": {},
   "source": [
    "\n",
    "Yes, the transformation is linear."
   ]
  },
  {
   "cell_type": "markdown",
   "metadata": {},
   "source": [
    "---"
   ]
  },
  {
   "cell_type": "markdown",
   "metadata": {},
   "source": [
    "### <span style=\"color: green; font-family: Romans; font-size: 18px;\"><b>Example</b></span>"
   ]
  },
  {
   "cell_type": "markdown",
   "metadata": {},
   "source": [
    "PROBLEM STATEMENT\n",
    "\n",
    "Is the transformation linear?\n",
    "\n",
    "$\n",
    "T\n",
    "\\left (\n",
    "\\begin{bmatrix} x_1 \\\\ x_2 \\\\ \\end{bmatrix}\n",
    "\\right) =\n",
    "\\begin{bmatrix*}[r]\n",
    "   x_1 &-& 2x_2 \\\\\n",
    "   x_1 &-& 3    \\\\\n",
    "  2x_1 &-& 5x_2 \\\\\n",
    "\\end  {bmatrix*}\n",
    "$\n",
    "\n",
    "In other words, is there a $3 \\times 2$ matrix $\\mathbf{A}$ s.t. $\\mathbf{x \\mapsto Ax}$?"
   ]
  },
  {
   "cell_type": "markdown",
   "metadata": {},
   "source": [
    "$\n",
    "T\n",
    "\\left (\n",
    "\\begin{bmatrix} x_1 \\\\ x_2 \\\\ \\end{bmatrix}\n",
    "\\right) =\n",
    "\\begin{bmatrix*}[r]\n",
    "   x_1 &-& 2x_2 \\\\\n",
    "   x_1 &-& 3    \\\\\n",
    "  2x_1 &-& 5x_2 \\\\\n",
    "\\end  {bmatrix*} =\n",
    "\\begin{bmatrix*}[r]     0 \\\\  -3 \\\\     0 \\\\ \\end{bmatrix*} +\n",
    "\\begin{bmatrix*}[r]   x_1 \\\\ x_1 \\\\  2x_1 \\\\ \\end{bmatrix*} +\n",
    "\\begin{bmatrix*}[r] -2x_2 \\\\   0 \\\\ -5x_2 \\\\ \\end{bmatrix*} =\n",
    "    \\begin{bmatrix*}[r]  0 \\\\ -3 \\\\  0 \\\\ \\end{bmatrix*} +\n",
    "x_1 \\begin{bmatrix*}[r]  1 \\\\  1 \\\\  2 \\\\ \\end{bmatrix*} +\n",
    "x_2 \\begin{bmatrix*}[r] -2 \\\\  0 \\\\ -5 \\\\ \\end{bmatrix*} =\n",
    "    \\begin{bmatrix*}[r]  0 \\\\ -3 \\\\  0 \\\\ \\end{bmatrix*} +\n",
    "\\begin{bmatrix*}[r]\n",
    "  1 & -2 \\\\\n",
    "  1 &  0 \\\\\n",
    "  2 & -5 \\\\\n",
    "\\end  {bmatrix*}\n",
    "\\begin{bmatrix} x_1 \\\\ x_2 \\\\ \\end{bmatrix}\n",
    "$"
   ]
  },
  {
   "cell_type": "markdown",
   "metadata": {},
   "source": [
    "No, the transformation is not linear."
   ]
  },
  {
   "cell_type": "markdown",
   "metadata": {},
   "source": [
    "For example\n",
    "\n",
    "$\n",
    "T(\\mathbf{0}) =\n",
    "\\begin{bmatrix*}[r]  0 \\\\ -3 \\\\  0 \\\\ \\end{bmatrix*} +\n",
    "\\begin{bmatrix*}[r]\n",
    "  1 & -2 \\\\\n",
    "  1 &  0 \\\\\n",
    "  2 & -5 \\\\\n",
    "\\end  {bmatrix*}\n",
    "\\begin{bmatrix} 0 \\\\ 0 \\\\ \\end{bmatrix} \\ne\n",
    "\\mathbf{0}\n",
    "$"
   ]
  },
  {
   "cell_type": "markdown",
   "metadata": {},
   "source": [
    "---"
   ]
  },
  {
   "cell_type": "markdown",
   "metadata": {},
   "source": [
    "### <span style=\"color: green; font-family: Romans; font-size: 18px;\"><b>Example</b></span>"
   ]
  },
  {
   "cell_type": "markdown",
   "metadata": {},
   "source": [
    "PROBLEM STATEMENT\n",
    "\n",
    "Is the transformation linear?\n",
    "\n",
    "$\n",
    "T\n",
    "\\left (\n",
    "\\begin{bmatrix} x_1 \\\\ x_2 \\\\ \\end{bmatrix}\n",
    "\\right) =\n",
    "\\begin{bmatrix*}[r]\n",
    "  \\sqrt{x_1} & + & x_2 \\\\\n",
    "  -x_1       & + & x_2 \\\\\n",
    "\\end  {bmatrix*}\n",
    "$\n",
    "\n",
    "In other words, is there a $2 \\times 2$ matrix $\\mathbf{A}$ s.t. $\\mathbf{x \\mapsto Ax}$?"
   ]
  },
  {
   "cell_type": "markdown",
   "metadata": {},
   "source": [
    "$\n",
    "T\n",
    "\\left (\n",
    "\\begin{bmatrix} x_1 \\\\ x_2 \\\\ \\end{bmatrix}\n",
    "\\right) =\n",
    "\\begin{bmatrix*}[r]\n",
    "  \\sqrt{x_1} & + & x_2 \\\\\n",
    "  -x_1       & + & x_2 \\\\\n",
    "\\end  {bmatrix*} =\n",
    "\\begin{bmatrix*}[r] \\sqrt{x_1} \\\\ -x_1 \\\\ \\end{bmatrix*} +\n",
    "\\begin{bmatrix*}[r]        x_2 \\\\  x_2 \\\\ \\end{bmatrix*} =\n",
    "x_1 \\begin{bmatrix*}[r] \\frac{1}{\\sqrt{x_1}} \\\\ -1 \\\\ \\end{bmatrix*} +\n",
    "x_2 \\begin{bmatrix*}[r]                    1 \\\\  1 \\\\ \\end{bmatrix*} =\n",
    "\\begin{bmatrix*}[r]\n",
    "  \\frac{1}{\\sqrt{x_1}} & 1 \\\\\n",
    "                    -1 & 1 \\\\\n",
    "\\end  {bmatrix*}\n",
    "\\begin{bmatrix} x_1 \\\\ x_2 \\\\ \\end{bmatrix}\n",
    "$"
   ]
  },
  {
   "cell_type": "markdown",
   "metadata": {},
   "source": [
    "No, the transformation is not linear."
   ]
  },
  {
   "cell_type": "markdown",
   "metadata": {},
   "source": [
    "For example\n",
    "\n",
    "$\n",
    "T\n",
    "\\left (\n",
    "\\begin{bmatrix} 2 \\\\ 0 \\\\ \\end{bmatrix}\n",
    "\\right) =\n",
    "\\begin{bmatrix*}[r]\n",
    "  \\sqrt{2} & + & 0 \\\\\n",
    "  -2       & + & 0 \\\\\n",
    "\\end  {bmatrix*} =\n",
    "\\begin{bmatrix*}[r]\n",
    "  \\sqrt{2} \\\\\n",
    "  -2       \\\\\n",
    "\\end  {bmatrix*}\n",
    "$\n",
    "\n",
    "$\n",
    "T\n",
    "\\left (\n",
    "\\begin{bmatrix} 1 \\\\ 0 \\\\ \\end{bmatrix}\n",
    "\\right) =\n",
    "\\begin{bmatrix*}[r]\n",
    "  \\sqrt{1} & + & 0 \\\\\n",
    "  -1       & + & 0 \\\\\n",
    "\\end  {bmatrix*} =\n",
    "\\begin{bmatrix*}[r]\n",
    "   1 \\\\\n",
    "  -1 \\\\\n",
    "\\end  {bmatrix*}\n",
    "$\n",
    "\n",
    "$\n",
    "\\begin{bmatrix*}[r]\n",
    "  \\sqrt{2} \\\\\n",
    "  -2       \\\\\n",
    "\\end  {bmatrix*} =\n",
    "T\n",
    "\\left (\n",
    "2 \\begin{bmatrix} 1 \\\\ 0 \\\\ \\end{bmatrix}\n",
    "\\right) \\ne\n",
    "2T\n",
    "\\left (\n",
    "\\begin{bmatrix} 1 \\\\ 0 \\\\ \\end{bmatrix}\n",
    "\\right) = 2\n",
    "\\begin{bmatrix*}[r]\n",
    "   1 \\\\\n",
    "  -1 \\\\\n",
    "\\end  {bmatrix*}\n",
    "$"
   ]
  },
  {
   "cell_type": "markdown",
   "metadata": {},
   "source": [
    "---"
   ]
  },
  {
   "cell_type": "markdown",
   "metadata": {},
   "source": [
    "### <span style=\"color: green; font-family: Romans; font-size: 18px;\"><b>Example</b></span>"
   ]
  },
  {
   "cell_type": "markdown",
   "metadata": {},
   "source": [
    "Let $\\mathbb{R}^2 \\to \\mathbb{R}^3$ be a linear transformation which sends $\\mathbf{e_1}$ to $\\mathbf{u_1}$ and $\\mathbf{e_2}$ to $\\mathbf{u_2}$.\n",
    "\n",
    "$\n",
    "\\mathbf{e_1} =\n",
    "\\begin{bmatrix} 1 \\\\ 0 \\\\      \\end{bmatrix},\n",
    "\\mathbf{u_1} =\n",
    "\\begin{bmatrix} 1 \\\\ 0 \\\\ 2 \\\\ \\end{bmatrix},\n",
    "\\mathbf{e_2} =\n",
    "\\begin{bmatrix} 0 \\\\ 1 \\\\      \\end{bmatrix},\n",
    "\\mathbf{u_2} =\n",
    "\\begin{bmatrix} 0 \\\\ 1 \\\\ 1 \\\\ \\end{bmatrix}\n",
    "$"
   ]
  },
  {
   "cell_type": "markdown",
   "metadata": {},
   "source": [
    "What is the matrix representing $T$?\n",
    "\n",
    "$\n",
    "T(\\mathbf{x}) =\n",
    "\\begin{bmatrix}\n",
    "  1 & 0 \\\\\n",
    "  0 & 1 \\\\\n",
    "  2 & 1 \\\\\n",
    "\\end  {bmatrix}\n",
    "\\begin{bmatrix} x_1 \\\\ x_2 \\\\ \\end{bmatrix}\n",
    "$"
   ]
  },
  {
   "cell_type": "markdown",
   "metadata": {},
   "source": [
    "Find the images of the vectors $\\begin{bmatrix} 3 \\\\ 2 \\\\ \\end{bmatrix}, \\begin{bmatrix} a \\\\ b \\\\ \\end{bmatrix}$ under $T$."
   ]
  },
  {
   "cell_type": "markdown",
   "metadata": {},
   "source": [
    "$\n",
    "T\n",
    "\\left (\n",
    "\\begin{bmatrix} 3 \\\\ 2 \\\\ \\end{bmatrix}\n",
    "\\right) =\n",
    "T\n",
    "\\left (\n",
    "3 \\begin{bmatrix} 1 \\\\ 0 \\\\ \\end{bmatrix} +\n",
    "2 \\begin{bmatrix} 0 \\\\ 1 \\\\ \\end{bmatrix}\n",
    "\\right) =\n",
    "T\n",
    "\\left (\n",
    "3 \\begin{bmatrix} 1 \\\\ 0 \\\\ \\end{bmatrix}\n",
    "\\right) +\n",
    "T\n",
    "\\left (\n",
    "2 \\begin{bmatrix} 0 \\\\ 1 \\\\ \\end{bmatrix}\n",
    "\\right) =\n",
    "3T\n",
    "\\left (\n",
    "\\begin{bmatrix} 1 \\\\ 0 \\\\ \\end{bmatrix}\n",
    "\\right) +\n",
    "2T\n",
    "\\left (\n",
    "\\begin{bmatrix} 0 \\\\ 1 \\\\ \\end{bmatrix}\n",
    "\\right) =\n",
    "3 \\begin{bmatrix} 1 \\\\ 0 \\\\ 2 \\\\ \\end{bmatrix} +\n",
    "2 \\begin{bmatrix} 0 \\\\ 1 \\\\ 1 \\\\ \\end{bmatrix} =\n",
    "\\begin{bmatrix} 3 + 0 \\\\ 0 + 2 \\\\ 6 + 2 \\\\ \\end{bmatrix} =\n",
    "\\begin{bmatrix} 3 \\\\ 2 \\\\ 8 \\\\ \\end{bmatrix}\n",
    "$"
   ]
  },
  {
   "cell_type": "markdown",
   "metadata": {},
   "source": [
    "$\n",
    "T\n",
    "\\left (\n",
    "\\begin{bmatrix} a \\\\ b \\\\ \\end{bmatrix}\n",
    "\\right) =\n",
    "T\n",
    "\\left (\n",
    "a \\begin{bmatrix} 1 \\\\ 0 \\\\ \\end{bmatrix} +\n",
    "b \\begin{bmatrix} 0 \\\\ 1 \\\\ \\end{bmatrix}\n",
    "\\right) =\n",
    "T\n",
    "\\left (\n",
    "a \\begin{bmatrix} 1 \\\\ 0 \\\\ \\end{bmatrix}\n",
    "\\right) +\n",
    "T\n",
    "\\left (\n",
    "b \\begin{bmatrix} 0 \\\\ 1 \\\\ \\end{bmatrix}\n",
    "\\right) =\n",
    "aT\n",
    "\\left (\n",
    "\\begin{bmatrix} 1 \\\\ 0 \\\\ \\end{bmatrix}\n",
    "\\right) +\n",
    "bT\n",
    "\\left (\n",
    "\\begin{bmatrix} 0 \\\\ 1 \\\\ \\end{bmatrix}\n",
    "\\right) =\n",
    "a \\begin{bmatrix} 1 \\\\ 0 \\\\ 2 \\\\ \\end{bmatrix} +\n",
    "b \\begin{bmatrix} 0 \\\\ 1 \\\\ 1 \\\\ \\end{bmatrix} =\n",
    "\\begin{bmatrix} a + 0 \\\\ 0 + b \\\\ 2a + b \\\\ \\end{bmatrix} =\n",
    "\\begin{bmatrix} a \\\\ b \\\\ 2a + b \\\\ \\end{bmatrix}\n",
    "$"
   ]
  },
  {
   "cell_type": "markdown",
   "metadata": {},
   "source": [
    "---"
   ]
  },
  {
   "cell_type": "markdown",
   "metadata": {},
   "source": [
    "### <span style=\"color: green; font-family: Romans; font-size: 18px;\"><b>Example</b></span>"
   ]
  },
  {
   "cell_type": "markdown",
   "metadata": {},
   "source": [
    "Let $\\mathbb{R}^3 \\to \\mathbb{R}^2$ be a linear transformation which sends $\\mathbf{e_1}$ to $\\mathbf{u_1}$, $\\mathbf{e_2}$ to $\\mathbf{u_2}$, and $\\mathbf{e_3}$ to $\\mathbf{u_3}$.\n",
    "\n",
    "$\n",
    "\\mathbf{e_1} =\n",
    "\\begin{bmatrix*}[r]  1 \\\\  0 \\\\ 0 \\\\ \\end{bmatrix*},\n",
    "\\mathbf{u_1} =\n",
    "\\begin{bmatrix*}[r]  1 \\\\  4 \\\\      \\end{bmatrix*},\n",
    "\\mathbf{e_2} =\n",
    "\\begin{bmatrix*}[r]  0 \\\\  1 \\\\ 0 \\\\ \\end{bmatrix*},\n",
    "\\mathbf{u_2} =\n",
    "\\begin{bmatrix*}[r] -2 \\\\  9 \\\\      \\end{bmatrix*},\n",
    "\\mathbf{e_3} =\n",
    "\\begin{bmatrix*}[r]  0 \\\\  0 \\\\ 1 \\\\ \\end{bmatrix*},\n",
    "\\mathbf{u_3} =\n",
    "\\begin{bmatrix*}[r]  3 \\\\ -8 \\\\      \\end{bmatrix*}\n",
    "$"
   ]
  },
  {
   "cell_type": "markdown",
   "metadata": {},
   "source": [
    "What is the matrix representing $T$?\n",
    "\n",
    "$\n",
    "T(\\mathbf{x}) =\n",
    "\\begin{bmatrix*}[r]\n",
    "  1 & -2 &  3 \\\\\n",
    "  4 &  9 & -8 \\\\\n",
    "\\end  {bmatrix*}\n",
    "\\begin{bmatrix} x_1 \\\\ x_2 \\\\ x_3 \\\\ \\end{bmatrix}\n",
    "$"
   ]
  },
  {
   "cell_type": "markdown",
   "metadata": {},
   "source": [
    "---"
   ]
  },
  {
   "cell_type": "markdown",
   "metadata": {},
   "source": [
    "### <span style=\"color: green; font-family: Romans; font-size: 18px;\"><b>Example</b></span>"
   ]
  },
  {
   "cell_type": "markdown",
   "metadata": {},
   "source": [
    "PROBLEM STATEMENT"
   ]
  },
  {
   "cell_type": "markdown",
   "metadata": {},
   "source": [
    "Let there be a linear transformation $T(\\mathbf{x}) = \\mathbf{Ax}$ associated with the matrix\n",
    "\n",
    "$\n",
    "\\mathbf{A} =\n",
    "\\begin{bmatrix*}[r]\n",
    "  1 & -3 & 2 \\\\\n",
    "  3 & -8 & 8 \\\\\n",
    "  0 &  1 & 2 \\\\\n",
    "  1 &  0 & 8 \\\\\n",
    "\\end  {bmatrix*}\n",
    "$\n",
    "\n",
    "Find all vectors $\\mathbf{x}$ having vector $\\mathbf{b} = \\begin{bmatrix*}[r] 1 \\\\ 6 \\\\ 3 \\\\ 10 \\\\ \\end{bmatrix*}$ as image under $T$."
   ]
  },
  {
   "cell_type": "markdown",
   "metadata": {},
   "source": [
    "In other words, solve the matrix equation.\n",
    "\n",
    "$\n",
    "\\underset{\\mathbf{A}}{\n",
    "\\begin{bmatrix*}[r]\n",
    "  1 & -3 & 2 \\\\\n",
    "  3 & -8 & 8 \\\\\n",
    "  0 &  1 & 2 \\\\\n",
    "  1 &  0 & 8 \\\\\n",
    "\\end  {bmatrix*}\n",
    "}\n",
    "\\underset{\\mathbf{x}}{\n",
    "\\begin{bmatrix*}[r] x_1 \\\\ x_2 \\\\ x_3 \\\\       \\end{bmatrix*}\n",
    "} =\n",
    "\\underset{\\mathbf{b}}{\n",
    "\\begin{bmatrix*}[r]   1 \\\\   6 \\\\   3 \\\\ 10 \\\\ \\end{bmatrix*}\n",
    "}\n",
    "$"
   ]
  },
  {
   "cell_type": "markdown",
   "metadata": {},
   "source": [
    "ROW REDUCTION"
   ]
  },
  {
   "cell_type": "markdown",
   "metadata": {},
   "source": [
    "<div class=\"full-width\">\n",
    "\n",
    "$\n",
    "\\left [\n",
    "  \\begin{matrix*}[r]\n",
    "    \\boxed{1} & -3 & 2 \\\\\n",
    "            3 & -8 & 8 \\\\\n",
    "            0 &  1 & 2 \\\\\n",
    "            1 &  0 & 8 \\\\\n",
    "  \\end  {matrix*}\n",
    "  \\left |\n",
    "    \\begin{matrix*}[r]\n",
    "       1 \\\\\n",
    "       6 \\\\\n",
    "       3 \\\\\n",
    "      10 \\\\\n",
    "    \\end  {matrix*}\n",
    "  \\right.\n",
    "\\right]\n",
    "\\underset{r_2 \\leftarrow\\,\\,\\, r_2 + (-3)r_1}{\\rightarrow}\n",
    "\\left [\n",
    "  \\begin{matrix*}[r]\n",
    "    \\boxed{1} & -3 & 2 \\\\\n",
    "            0 &  1 & 2 \\\\\n",
    "            0 &  1 & 2 \\\\\n",
    "            1 &  0 & 8 \\\\\n",
    "  \\end  {matrix*}\n",
    "  \\left |\n",
    "    \\begin{matrix*}[r]\n",
    "       1 \\\\\n",
    "       3 \\\\\n",
    "       3 \\\\\n",
    "      10 \\\\\n",
    "    \\end  {matrix*}\n",
    "  \\right.\n",
    "\\right]\n",
    "\\underset{r_4 \\leftarrow\\,\\,\\, r_4 + (-1)r_1}{\\rightarrow}\n",
    "\\left [\n",
    "  \\begin{matrix*}[r]\n",
    "    \\boxed{1} &        -3 & 2 \\\\\n",
    "            0 & \\boxed{1} & 2 \\\\\n",
    "            0 &         1 & 2 \\\\\n",
    "            0 &         3 & 6 \\\\\n",
    "  \\end  {matrix*}\n",
    "  \\left |\n",
    "    \\begin{matrix*}[r]\n",
    "      1 \\\\\n",
    "      3 \\\\\n",
    "      3 \\\\\n",
    "      9 \\\\\n",
    "    \\end  {matrix*}\n",
    "  \\right.\n",
    "\\right]\n",
    "$\n",
    "\n",
    "</div>"
   ]
  },
  {
   "cell_type": "markdown",
   "metadata": {},
   "source": [
    "<div class=\"full-width\">\n",
    "\n",
    "$\n",
    "\\left [\n",
    "  \\begin{matrix*}[r]\n",
    "    \\boxed{1} &        -3 & 2 \\\\\n",
    "            0 & \\boxed{1} & 2 \\\\\n",
    "            0 &         1 & 2 \\\\\n",
    "            0 &         3 & 6 \\\\\n",
    "  \\end  {matrix*}\n",
    "  \\left |\n",
    "    \\begin{matrix*}[r]\n",
    "      1 \\\\\n",
    "      3 \\\\\n",
    "      3 \\\\\n",
    "      9 \\\\\n",
    "    \\end  {matrix*}\n",
    "  \\right.\n",
    "\\right]\n",
    "\\underset{r_3 \\leftarrow\\,\\,\\, r_3 + (-1)r_2}{\\rightarrow}\n",
    "\\left [\n",
    "  \\begin{matrix*}[r]\n",
    "    \\boxed{1} &        -3 & 2 \\\\\n",
    "            0 & \\boxed{1} & 2 \\\\\n",
    "            0 &         0 & 0 \\\\\n",
    "            0 &         3 & 6 \\\\\n",
    "  \\end  {matrix*}\n",
    "  \\left |\n",
    "    \\begin{matrix*}[r]\n",
    "      1 \\\\\n",
    "      3 \\\\\n",
    "      0 \\\\\n",
    "      9 \\\\\n",
    "    \\end  {matrix*}\n",
    "  \\right.\n",
    "\\right]\n",
    "\\underset{r_4 \\leftarrow\\,\\,\\, r_4 + (-3)r_2}{\\rightarrow}\n",
    "\\underbrace{\n",
    "\\left [\n",
    "  \\begin{matrix*}[r]\n",
    "    \\boxed{1} &        -3 & 2 \\\\\n",
    "            0 & \\boxed{1} & 2 \\\\\n",
    "            0 &         0 & 0 \\\\\n",
    "            0 &         0 & 0 \\\\\n",
    "  \\end  {matrix*}\n",
    "  \\left |\n",
    "    \\begin{matrix*}[r]\n",
    "      1 \\\\\n",
    "      3 \\\\\n",
    "      0 \\\\\n",
    "      0 \\\\\n",
    "    \\end  {matrix*}\n",
    "  \\right.\n",
    "\\right]\n",
    "}_{\\textbf{row echelon}}\n",
    "$\n",
    "\n",
    "</div>"
   ]
  },
  {
   "cell_type": "markdown",
   "metadata": {},
   "source": [
    "<div class=\"full-width\">\n",
    "\n",
    "$\n",
    "\\left [\n",
    "  \\begin{matrix*}[r]\n",
    "    \\boxed{1} &        -3 & 2 \\\\\n",
    "            0 & \\boxed{1} & 2 \\\\\n",
    "            0 &         0 & 0 \\\\\n",
    "            0 &         0 & 0 \\\\\n",
    "  \\end  {matrix*}\n",
    "  \\left |\n",
    "    \\begin{matrix*}[r]\n",
    "      1 \\\\\n",
    "      3 \\\\\n",
    "      0 \\\\\n",
    "      0 \\\\\n",
    "    \\end  {matrix*}\n",
    "  \\right.\n",
    "\\right]\n",
    "\\underset{r_1 \\leftarrow\\,\\,\\, r_1 + 3r_2}{\\rightarrow}\n",
    "\\underbrace{\n",
    "\\left [\n",
    "  \\begin{matrix*}[r]\n",
    "    \\boxed{1} &         0 & 8 \\\\\n",
    "            0 & \\boxed{1} & 2 \\\\\n",
    "            0 &         0 & 0 \\\\\n",
    "            0 &         0 & 0 \\\\\n",
    "  \\end  {matrix*}\n",
    "  \\left |\n",
    "    \\begin{matrix*}[r]\n",
    "      10 \\\\\n",
    "       3 \\\\\n",
    "       0 \\\\\n",
    "       0 \\\\\n",
    "    \\end  {matrix*}\n",
    "  \\right.\n",
    "\\right]\n",
    "}_{\\textbf{reduced}}\n",
    "$\n",
    "\n",
    "</div>"
   ]
  },
  {
   "cell_type": "markdown",
   "metadata": {},
   "source": [
    "$\n",
    "\\begin{aligned}\n",
    "x_1 + 8x_3 &= 10 && \\iff && x_1 = -8x_3 + 10 \\\\\n",
    "x_2 + 2x_3 &=  3 && \\iff && x_2 = -2x_3 +  3 \\\\\n",
    "           &     &&      && x_3 \\,\\,\\,\\text{free} \\\\\n",
    "\\end  {aligned}\n",
    "$"
   ]
  },
  {
   "cell_type": "markdown",
   "metadata": {},
   "source": [
    "$\n",
    "\\mathbf{x} =\n",
    "\\begin{bmatrix*}[r]\n",
    "  -8t & + & 10 \\\\\n",
    "  -2t & + &  3 \\\\\n",
    "    t & \n",
    "\\end  {bmatrix*} =\n",
    "\\begin{bmatrix*}[r] -8t \\\\ -2t \\\\ t \\\\ \\end{bmatrix*} +\n",
    "\\begin{bmatrix*}[r]  10 \\\\   3 \\\\ 0 \\\\ \\end{bmatrix*} =\n",
    "t \\begin{bmatrix*}[r] -8 \\\\ -2 \\\\ 1 \\\\ \\end{bmatrix*} +\n",
    "  \\begin{bmatrix*}[r] 10 \\\\  3 \\\\ 0 \\\\ \\end{bmatrix*}\n",
    "$"
   ]
  },
  {
   "cell_type": "markdown",
   "metadata": {},
   "source": [
    "All vectors $\\mathbf{x}$ having vector $\\mathbf{b}$ as image under $T$ include the line through the point $(10, 3, 0)$ parallel to the vector $\\begin{bmatrix*}[r] -8 \\\\ -2 \\\\ 1 \\\\ \\end{bmatrix*}$"
   ]
  },
  {
   "cell_type": "markdown",
   "metadata": {},
   "source": [
    "---"
   ]
  },
  {
   "cell_type": "markdown",
   "metadata": {},
   "source": [
    "### <span style=\"color: green; font-family: Romans; font-size: 18px;\"><b>Example</b></span>"
   ]
  },
  {
   "cell_type": "markdown",
   "metadata": {},
   "source": [
    "PROBLEM STATEMENT"
   ]
  },
  {
   "cell_type": "markdown",
   "metadata": {},
   "source": [
    "Let there be a linear transformation $T(\\mathbf{x}) = \\mathbf{Ax}$ associated with the matrix\n",
    "\n",
    "$\n",
    "\\mathbf{A} =\n",
    "\\begin{bmatrix*}[r]\n",
    "  3 & 2 & 10 & -6 \\\\\n",
    "  1 & 0 &  2 & -4 \\\\\n",
    "  0 & 1 &  2 &  3 \\\\\n",
    "  1 & 4 & 10 &  8 \\\\\n",
    "\\end  {bmatrix*}\n",
    "$\n",
    "\n",
    "Find all vectors $\\mathbf{x}$ having the zero vector as image under $T$."
   ]
  },
  {
   "cell_type": "markdown",
   "metadata": {},
   "source": [
    "In other words, solve the matrix equation.\n",
    "\n",
    "$\n",
    "\\underset{\\mathbf{A}}{\n",
    "\\begin{bmatrix*}[r]\n",
    "  3 & 2 & 10 & -6 \\\\\n",
    "  1 & 0 &  2 & -4 \\\\\n",
    "  0 & 1 &  2 &  3 \\\\\n",
    "  1 & 4 & 10 &  8 \\\\\n",
    "\\end  {bmatrix*}\n",
    "}\n",
    "\\underset{\\mathbf{x}}{\n",
    "\\begin{bmatrix*}[r] x_1 \\\\ x_2 \\\\ x_3 \\\\ x_4 \\\\ \\end{bmatrix*}\n",
    "} =\n",
    "\\underset{\\mathbf{b}}{\n",
    "\\begin{bmatrix*}[r]   0 \\\\   0 \\\\   0 \\\\   0 \\\\ \\end{bmatrix*}\n",
    "}\n",
    "$"
   ]
  },
  {
   "cell_type": "markdown",
   "metadata": {},
   "source": [
    "ROW REDUCTION"
   ]
  },
  {
   "cell_type": "markdown",
   "metadata": {},
   "source": [
    "<div class=\"full-width\">\n",
    "\n",
    "$\n",
    "\\left [\n",
    "  \\begin{matrix*}[r]\n",
    "    \\boxed{3} & 2 & 10 & -6 \\\\\n",
    "            1 & 0 &  2 & -4 \\\\\n",
    "            0 & 1 &  2 &  3 \\\\\n",
    "            1 & 4 & 10 &  8 \\\\\n",
    "  \\end  {matrix*}\n",
    "  \\left |\n",
    "    \\begin{matrix*}[r]\n",
    "      0 \\\\\n",
    "      0 \\\\\n",
    "      0 \\\\\n",
    "      0 \\\\\n",
    "    \\end  {matrix*}\n",
    "  \\right.\n",
    "\\right]\n",
    "\\underset{r_2 \\leftarrow\\,\\,\\, r_2 + (-\\frac{1}{3})r_1}{\\rightarrow}\n",
    "\\left [\n",
    "  \\begin{matrix*}[r]\n",
    "    \\boxed{3} &            2 &           10 & -6 \\\\\n",
    "            0 & -\\frac{2}{3} & -\\frac{4}{3} & -2 \\\\\n",
    "            0 &            1 &            2 &  3 \\\\\n",
    "            1 &            4 &           10 &  8 \\\\\n",
    "  \\end  {matrix*}\n",
    "  \\left |\n",
    "    \\begin{matrix*}[r]\n",
    "      0 \\\\\n",
    "      0 \\\\\n",
    "      0 \\\\\n",
    "      0 \\\\\n",
    "    \\end  {matrix*}\n",
    "  \\right.\n",
    "\\right]\n",
    "\\underset{r_4 \\leftarrow\\,\\,\\, r_4 + (-\\frac{1}{3})r_1}{\\rightarrow}\n",
    "\\left [\n",
    "  \\begin{matrix*}[r]\n",
    "    \\boxed{3} &                    2 &           10 & -6 \\\\\n",
    "            0 & \\boxed{-\\frac{2}{3}} & -\\frac{4}{3} & -2 \\\\\n",
    "            0 &                    1 &            2 &  3 \\\\\n",
    "            0 &         \\frac{10}{3} & \\frac{20}{3} & 10 \\\\\n",
    "  \\end  {matrix*}\n",
    "  \\left |\n",
    "    \\begin{matrix*}[r]\n",
    "      0 \\\\\n",
    "      0 \\\\\n",
    "      0 \\\\\n",
    "      0 \\\\\n",
    "    \\end  {matrix*}\n",
    "  \\right.\n",
    "\\right]\n",
    "$\n",
    "\n",
    "</div>"
   ]
  },
  {
   "cell_type": "markdown",
   "metadata": {},
   "source": [
    "<div class=\"full-width\">\n",
    "\n",
    "$\n",
    "\\left [\n",
    "  \\begin{matrix*}[r]\n",
    "    \\boxed{3} &                    2 &           10 & -6 \\\\\n",
    "            0 & \\boxed{-\\frac{2}{3}} & -\\frac{4}{3} & -2 \\\\\n",
    "            0 &                    1 &            2 &  3 \\\\\n",
    "            0 &         \\frac{10}{3} & \\frac{20}{3} & 10 \\\\\n",
    "  \\end  {matrix*}\n",
    "  \\left |\n",
    "    \\begin{matrix*}[r]\n",
    "      0 \\\\\n",
    "      0 \\\\\n",
    "      0 \\\\\n",
    "      0 \\\\\n",
    "    \\end  {matrix*}\n",
    "  \\right.\n",
    "\\right]\n",
    "\\underset{r_3 \\leftarrow\\,\\,\\, r_3 + \\frac{3}{2} r_2}{\\rightarrow}\n",
    "\\left [\n",
    "  \\begin{matrix*}[r]\n",
    "    \\boxed{3} &                    2 &           10 & -6 \\\\\n",
    "            0 & \\boxed{-\\frac{2}{3}} & -\\frac{4}{3} & -2 \\\\\n",
    "            0 &                    0 &            0 &  0 \\\\\n",
    "            0 &         \\frac{10}{3} & \\frac{20}{3} & 10 \\\\\n",
    "  \\end  {matrix*}\n",
    "  \\left |\n",
    "    \\begin{matrix*}[r]\n",
    "      0 \\\\\n",
    "      0 \\\\\n",
    "      0 \\\\\n",
    "      0 \\\\\n",
    "    \\end  {matrix*}\n",
    "  \\right.\n",
    "\\right]\n",
    "\\underset{r_4 \\leftarrow\\,\\,\\, r_4 + 5r_2}{\\rightarrow}\n",
    "\\underbrace{\n",
    "\\left [\n",
    "  \\begin{matrix*}[r]\n",
    "    \\boxed{3} &                    2 &           10 & -6 \\\\\n",
    "            0 & \\boxed{-\\frac{2}{3}} & -\\frac{4}{3} & -2 \\\\\n",
    "            0 &                    0 &            0 &  0 \\\\\n",
    "            0 &                    0 &            0 &  0 \\\\\n",
    "  \\end  {matrix*}\n",
    "  \\left |\n",
    "    \\begin{matrix*}[r]\n",
    "      0 \\\\\n",
    "      0 \\\\\n",
    "      0 \\\\\n",
    "      0 \\\\\n",
    "    \\end  {matrix*}\n",
    "  \\right.\n",
    "\\right]\n",
    "}_{\\textbf{row echelon}}\n",
    "$\n",
    "\n",
    "</div>"
   ]
  },
  {
   "cell_type": "markdown",
   "metadata": {},
   "source": [
    "<div class=\"full-width\">\n",
    "\n",
    "$\n",
    "\\left [\n",
    "  \\begin{matrix*}[r]\n",
    "    \\boxed{3} &                    2 &           10 & -6 \\\\\n",
    "            0 & \\boxed{-\\frac{2}{3}} & -\\frac{4}{3} & -2 \\\\\n",
    "            0 &                    0 &            0 &  0 \\\\\n",
    "            0 &                    0 &            0 &  0 \\\\\n",
    "  \\end  {matrix*}\n",
    "  \\left |\n",
    "    \\begin{matrix*}[r]\n",
    "      0 \\\\\n",
    "      0 \\\\\n",
    "      0 \\\\\n",
    "      0 \\\\\n",
    "    \\end  {matrix*}\n",
    "  \\right.\n",
    "\\right]\n",
    "\\underset{r_2 \\leftarrow\\,\\,\\, (-\\frac{3}{2}) r_2}{\\rightarrow}\n",
    "\\left [\n",
    "  \\begin{matrix*}[r]\n",
    "    \\boxed{3} &         2 & 10 & -6 \\\\\n",
    "            0 & \\boxed{1} &  2 &  3 \\\\\n",
    "            0 &         0 &  0 &  0 \\\\\n",
    "            0 &         0 &  0 &  0 \\\\\n",
    "  \\end  {matrix*}\n",
    "  \\left |\n",
    "    \\begin{matrix*}[r]\n",
    "      0 \\\\\n",
    "      0 \\\\\n",
    "      0 \\\\\n",
    "      0 \\\\\n",
    "    \\end  {matrix*}\n",
    "  \\right.\n",
    "\\right]\n",
    "\\underset{r_1 \\leftarrow\\,\\,\\, r_1 + (-2)r_2}{\\rightarrow}\n",
    "\\left [\n",
    "  \\begin{matrix*}[r]\n",
    "    \\boxed{3} &         0 & 6 & -12 \\\\\n",
    "            0 & \\boxed{1} & 2 &   3 \\\\\n",
    "            0 &         0 & 0 &   0 \\\\\n",
    "            0 &         0 & 0 &   0 \\\\\n",
    "  \\end  {matrix*}\n",
    "  \\left |\n",
    "    \\begin{matrix*}[r]\n",
    "      0 \\\\\n",
    "      0 \\\\\n",
    "      0 \\\\\n",
    "      0 \\\\\n",
    "    \\end  {matrix*}\n",
    "  \\right.\n",
    "\\right]\n",
    "$\n",
    "\n",
    "</div>"
   ]
  },
  {
   "cell_type": "markdown",
   "metadata": {},
   "source": [
    "<div class=\"full-width\">\n",
    "\n",
    "$\n",
    "\\left [\n",
    "  \\begin{matrix*}[r]\n",
    "    \\boxed{3} &         0 & 6 & -12 \\\\\n",
    "            0 & \\boxed{1} & 2 &   3 \\\\\n",
    "            0 &         0 & 0 &   0 \\\\\n",
    "            0 &         0 & 0 &   0 \\\\\n",
    "  \\end  {matrix*}\n",
    "  \\left |\n",
    "    \\begin{matrix*}[r]\n",
    "      0 \\\\\n",
    "      0 \\\\\n",
    "      0 \\\\\n",
    "      0 \\\\\n",
    "    \\end  {matrix*}\n",
    "  \\right.\n",
    "\\right]\n",
    "\\underset{r_1 \\leftarrow\\,\\,\\, \\frac{1}{3} r_1}{\\rightarrow}\n",
    "\\underbrace{\n",
    "\\left [\n",
    "  \\begin{matrix*}[r]\n",
    "    \\boxed{1} &         0 & 2 & -4 \\\\\n",
    "            0 & \\boxed{1} & 2 &  3 \\\\\n",
    "            0 &         0 & 0 &  0 \\\\\n",
    "            0 &         0 & 0 &  0 \\\\\n",
    "  \\end  {matrix*}\n",
    "  \\left |\n",
    "    \\begin{matrix*}[r]\n",
    "      0 \\\\\n",
    "      0 \\\\\n",
    "      0 \\\\\n",
    "      0 \\\\\n",
    "    \\end  {matrix*}\n",
    "  \\right.\n",
    "\\right]\n",
    "}_{\\textbf{reduced}}\n",
    "$\n",
    "\n",
    "</div>"
   ]
  },
  {
   "cell_type": "markdown",
   "metadata": {},
   "source": [
    "$\n",
    "\\begin{aligned}\n",
    "x_1 + 2x_3 - 4x_4 &= 0 && \\iff && x_1 = -2x_3 + 4x_4 \\\\\n",
    "x_2 + 2x_3 + 3x_4 &= 0 && \\iff && x_2 = -2x_3 - 3x_4 \\\\\n",
    "                  &    &&      && x_3 \\,\\,\\,\\text{free} \\\\\n",
    "                  &    &&      && x_4 \\,\\,\\,\\text{free} \\\\\n",
    "\\end  {aligned}\n",
    "$"
   ]
  },
  {
   "cell_type": "markdown",
   "metadata": {},
   "source": [
    "$\n",
    "\\mathbf{x} =\n",
    "\\begin{bmatrix*}[r]\n",
    "  -2s & + & 4t \\\\\n",
    "  -2s & - & 3t \\\\\n",
    "    s &   &    \\\\\n",
    "      &   &  t \\\\\n",
    "\\end  {bmatrix*} =\n",
    "\\begin{bmatrix*}[r] -2s \\\\ -2s \\\\ s \\\\ 0 \\\\ \\end{bmatrix*} +\n",
    "\\begin{bmatrix*}[r]  4t \\\\ -3t \\\\ 0 \\\\ t \\\\ \\end{bmatrix*} =\n",
    "s \\begin{bmatrix*}[r] -2 \\\\ -2 \\\\ 1 \\\\ 0 \\\\ \\end{bmatrix*} +\n",
    "t \\begin{bmatrix*}[r]  4 \\\\ -3 \\\\ 0 \\\\ 1 \\\\ \\end{bmatrix*}\n",
    "$"
   ]
  },
  {
   "cell_type": "markdown",
   "metadata": {},
   "source": [
    "All vectors $\\mathbf{x}$ having the zero vector as image under $T$ include\n",
    "\n",
    "$\n",
    "\\text{span}\n",
    "\\left \\{\n",
    "\\begin{bmatrix*}[r] -2 \\\\ -2 \\\\ 1 \\\\ 0 \\\\ \\end{bmatrix*},\n",
    "\\begin{bmatrix*}[r]  4 \\\\ -3 \\\\ 0 \\\\ 1 \\\\ \\end{bmatrix*}\n",
    "\\right\\}\n",
    "$\n",
    "\n",
    "through the origin."
   ]
  },
  {
   "cell_type": "markdown",
   "metadata": {},
   "source": [
    "---"
   ]
  },
  {
   "cell_type": "markdown",
   "metadata": {},
   "source": [
    "## Onto"
   ]
  },
  {
   "cell_type": "markdown",
   "metadata": {},
   "source": [
    "<fieldset style=\"border: 2px solid #0096FF; border-radius: 5px; display: inline-block; margin: 10px; padding: 0 20px 0 20px;\">\n",
    "<legend style=\"color: #0096FF; font-family: Romans; font-size: 18px; padding: 0 10px 0 10px;\"><b>Onto</b></legend>\n",
    "\n",
    "Given a linear transformation $T : \\mathbb{R}^n \\to \\mathbb{R}^m$ with matrix $\\mathbf{A}$ we say that $T$ is ***onto*** if the following equivalent statements are true.\n",
    "\n",
    "1\\. Each vector $\\mathbf{b} \\in \\mathbb{R}^m$ is the image under $T$ of at least one vector $\\mathbf{x} \\in \\mathbb{R}^n$.\n",
    "\n",
    "2\\. For each $\\mathbf{b} \\in \\mathbb{R}^m$ the equation $\\mathbf{Ax = b}$ has at least one solution.\n",
    "\n",
    "3\\. The matrix $\\mathbf{A}$ is row-equivalent to a row echelon matrix having a pivot in each row.\n",
    "\n",
    "</fieldset>"
   ]
  },
  {
   "cell_type": "markdown",
   "metadata": {},
   "source": [
    "## One-to-one"
   ]
  },
  {
   "cell_type": "markdown",
   "metadata": {},
   "source": [
    "<fieldset style=\"border: 2px solid #0096FF; border-radius: 5px; display: inline-block; margin: 10px; padding: 0 20px 0 20px;\">\n",
    "<legend style=\"color: #0096FF; font-family: Romans; font-size: 18px; padding: 0 10px 0 10px;\"><b>One-to-one</b></legend>\n",
    "\n",
    "Given a linear transformation $T : \\mathbb{R}^n \\to \\mathbb{R}^m$ with matrix $\\mathbf{A}$ we say that $T$ is ***one-to-one*** if the following equivalent statements are true.\n",
    "\n",
    "1\\. Each vector $\\mathbf{b} \\in \\mathbb{R}^m$ is the image under $T$ of at most one vector $\\mathbf{x} \\in \\mathbb{R}^n$.\n",
    "\n",
    "2\\. For each $\\mathbf{b} \\in \\mathbb{R}^m$ the equation $\\mathbf{Ax = b}$ has at most one solution.\n",
    "\n",
    "3\\. The matrix $\\mathbf{A}$ is row-equivalent to a row echelon matrix having a pivot in each column.\n",
    "\n",
    "</fieldset>"
   ]
  },
  {
   "cell_type": "markdown",
   "metadata": {},
   "source": [
    "---"
   ]
  },
  {
   "cell_type": "markdown",
   "metadata": {},
   "source": [
    "### <span style=\"color: green; font-family: Romans; font-size: 18px;\"><b>Example</b></span>"
   ]
  },
  {
   "cell_type": "markdown",
   "metadata": {},
   "source": [
    "The transformation\n",
    "\n",
    "$\n",
    "\\begin{bmatrix} x \\\\ y \\\\ z \\\\ \\end{bmatrix} \\mapsto\n",
    "\\begin{bmatrix} y \\\\ z \\\\      \\end{bmatrix}\n",
    "$\n",
    "\n",
    "is linear and onto."
   ]
  },
  {
   "cell_type": "markdown",
   "metadata": {},
   "source": [
    "LINEAR"
   ]
  },
  {
   "cell_type": "markdown",
   "metadata": {},
   "source": [
    "<div class=\"full-width\">\n",
    "\n",
    "$\n",
    "T\n",
    "\\left (\n",
    "\\begin{bmatrix} x \\\\ y \\\\ z \\\\ \\end{bmatrix}\n",
    "\\right) =\n",
    "T\n",
    "\\left (\n",
    "x \\begin{bmatrix} 1 \\\\ 0 \\\\ 0 \\\\ \\end{bmatrix} +\n",
    "y \\begin{bmatrix} 0 \\\\ 1 \\\\ 0 \\\\ \\end{bmatrix} +\n",
    "z \\begin{bmatrix} 0 \\\\ 0 \\\\ 1 \\\\ \\end{bmatrix}\n",
    "\\right) =\n",
    "T\n",
    "\\left (\n",
    "x \\begin{bmatrix} 1 \\\\ 0 \\\\ 0 \\\\ \\end{bmatrix}\n",
    "\\right) +\n",
    "T\n",
    "\\left (\n",
    "y \\begin{bmatrix} 0 \\\\ 1 \\\\ 0 \\\\ \\end{bmatrix}\n",
    "\\right) +\n",
    "T\n",
    "\\left (\n",
    "z \\begin{bmatrix} 0 \\\\ 0 \\\\ 1 \\\\ \\end{bmatrix}\n",
    "\\right) =\n",
    "xT\n",
    "\\left (\n",
    "\\begin{bmatrix} 1 \\\\ 0 \\\\ 0 \\\\ \\end{bmatrix}\n",
    "\\right) +\n",
    "yT\n",
    "\\left (\n",
    "\\begin{bmatrix} 0 \\\\ 1 \\\\ 0 \\\\ \\end{bmatrix}\n",
    "\\right) +\n",
    "zT\n",
    "\\left (\n",
    "\\begin{bmatrix} 0 \\\\ 0 \\\\ 1 \\\\ \\end{bmatrix}\n",
    "\\right) =\n",
    "x \\begin{bmatrix} 0 \\\\ 0 \\\\ \\end{bmatrix} +\n",
    "y \\begin{bmatrix} 1 \\\\ 0 \\\\ \\end{bmatrix} +\n",
    "z \\begin{bmatrix} 0 \\\\ 1 \\\\ \\end{bmatrix} =\n",
    "  \\begin{bmatrix} y \\\\ z \\\\ \\end{bmatrix}\n",
    "$\n",
    "\n",
    "</div>"
   ]
  },
  {
   "cell_type": "markdown",
   "metadata": {},
   "source": [
    "$\n",
    "T(\\mathbf{x}) =\n",
    "\\underset{\\mathbf{A}}{\n",
    "\\begin{bmatrix}\n",
    "  0 & 1 & 0 \\\\\n",
    "  0 & 0 & 1 \\\\\n",
    "\\end  {bmatrix}\n",
    "}\n",
    "\\underset{\\mathbf{x}}{\n",
    "\\begin{bmatrix} x \\\\ y \\\\ z \\\\ \\end{bmatrix}\n",
    "}\n",
    "$"
   ]
  },
  {
   "cell_type": "markdown",
   "metadata": {},
   "source": [
    "ONTO"
   ]
  },
  {
   "cell_type": "markdown",
   "metadata": {},
   "source": [
    "The transformation is onto because $\\mathbf{A}$ is a (reduced) row echelon matrix with a pivot in each row."
   ]
  },
  {
   "cell_type": "markdown",
   "metadata": {},
   "source": [
    "ONE-TO-ONE"
   ]
  },
  {
   "cell_type": "markdown",
   "metadata": {},
   "source": [
    "The transformation is not one-to-one because $\\mathbf{A}$ does not contain a pivot in each column."
   ]
  },
  {
   "cell_type": "markdown",
   "metadata": {},
   "source": [
    "---"
   ]
  },
  {
   "cell_type": "markdown",
   "metadata": {},
   "source": [
    "### <span style=\"color: green; font-family: Romans; font-size: 18px;\"><b>Example</b></span>"
   ]
  },
  {
   "cell_type": "markdown",
   "metadata": {},
   "source": [
    "The transformation\n",
    "\n",
    "$\n",
    "\\begin{bmatrix} y \\\\ z \\\\      \\end{bmatrix} \\mapsto\n",
    "\\begin{bmatrix} 0 \\\\ x \\\\ y \\\\ \\end{bmatrix}\n",
    "$\n",
    "\n",
    "is linear and one-to-one."
   ]
  },
  {
   "cell_type": "markdown",
   "metadata": {},
   "source": [
    "LINEAR"
   ]
  },
  {
   "cell_type": "markdown",
   "metadata": {},
   "source": [
    "<div class=\"full-width\">\n",
    "\n",
    "$\n",
    "T\n",
    "\\left (\n",
    "\\begin{bmatrix} x \\\\ y \\\\ \\end{bmatrix}\n",
    "\\right) =\n",
    "T\n",
    "\\left (\n",
    "x \\begin{bmatrix} 1 \\\\ 0 \\\\ \\end{bmatrix} +\n",
    "y \\begin{bmatrix} 0 \\\\ 1 \\\\ \\end{bmatrix}\n",
    "\\right) =\n",
    "T\n",
    "\\left (\n",
    "x \\begin{bmatrix} 1 \\\\ 0 \\\\ \\end{bmatrix}\n",
    "\\right) +\n",
    "T\n",
    "\\left (\n",
    "y \\begin{bmatrix} 0 \\\\ 1 \\\\ \\end{bmatrix}\n",
    "\\right) =\n",
    "xT\n",
    "\\left (\n",
    "\\begin{bmatrix} 1 \\\\ 0 \\\\ \\end{bmatrix}\n",
    "\\right) +\n",
    "yT\n",
    "\\left (\n",
    "\\begin{bmatrix} 0 \\\\ 1 \\\\ \\end{bmatrix}\n",
    "\\right) =\n",
    "x \\begin{bmatrix} 0 \\\\ 1 \\\\ 0 \\\\ \\end{bmatrix} +\n",
    "y \\begin{bmatrix} 0 \\\\ 0 \\\\ 1 \\\\ \\end{bmatrix} =\n",
    "  \\begin{bmatrix} 0 \\\\ x \\\\ y \\\\ \\end{bmatrix}\n",
    "$\n",
    "\n",
    "</div>"
   ]
  },
  {
   "cell_type": "markdown",
   "metadata": {},
   "source": [
    "$\n",
    "T(\\mathbf{x}) =\n",
    "\\underset{\\mathbf{A}}{\n",
    "\\begin{bmatrix}\n",
    "  0 & 0 \\\\\n",
    "  1 & 0 \\\\\n",
    "  0 & 1 \\\\\n",
    "\\end  {bmatrix}\n",
    "}\n",
    "\\underset{\\mathbf{x}}{\n",
    "\\begin{bmatrix} x \\\\ y \\\\ \\end{bmatrix}\n",
    "}\n",
    "$"
   ]
  },
  {
   "cell_type": "markdown",
   "metadata": {},
   "source": [
    "ONE-TO-ONE"
   ]
  },
  {
   "cell_type": "markdown",
   "metadata": {},
   "source": [
    "The transformation is one-to-one because $\\mathbf{A}$ is row-equivalent to a (reduced) row echelon matrix with a pivot in each column."
   ]
  },
  {
   "cell_type": "markdown",
   "metadata": {},
   "source": [
    "ONTO"
   ]
  },
  {
   "cell_type": "markdown",
   "metadata": {},
   "source": [
    "The transformation is not onto because $\\mathbf{A}$ does not contain a pivot in each row."
   ]
  },
  {
   "cell_type": "markdown",
   "metadata": {},
   "source": [
    "---"
   ]
  },
  {
   "cell_type": "markdown",
   "metadata": {},
   "source": [
    "### <span style=\"color: green; font-family: Romans; font-size: 18px;\"><b>Example</b></span>"
   ]
  },
  {
   "cell_type": "markdown",
   "metadata": {},
   "source": [
    "PROBLEM STATEMENT"
   ]
  },
  {
   "cell_type": "markdown",
   "metadata": {},
   "source": [
    "Determine whether the transformation\n",
    "\n",
    "$\n",
    "\\begin{bmatrix}                   x \\\\                   y \\\\                   z \\\\ \\end{bmatrix} \\mapsto\n",
    "\\begin{bmatrix} \\frac{x + y + z}{3} \\\\ \\frac{x + y + z}{3} \\\\ \\frac{x + y + z}{3} \\\\ \\end{bmatrix}\n",
    "$\n",
    "\n",
    "is linear, onto, and one-to-one."
   ]
  },
  {
   "cell_type": "markdown",
   "metadata": {},
   "source": [
    "LINEAR"
   ]
  },
  {
   "cell_type": "markdown",
   "metadata": {},
   "source": [
    "<div class=\"full-width\">\n",
    "\n",
    "$\n",
    "T\n",
    "\\left (\n",
    "  \\begin{bmatrix} x \\\\ y \\\\ z \\\\ \\end{bmatrix}\n",
    "\\right) =\n",
    "T\n",
    "\\left (\n",
    "  x \\begin{bmatrix} 1 \\\\ 0 \\\\ 0 \\\\ \\end{bmatrix} +\n",
    "  y \\begin{bmatrix} 0 \\\\ 1 \\\\ 0 \\\\ \\end{bmatrix} +\n",
    "  z \\begin{bmatrix} 0 \\\\ 0 \\\\ 1 \\\\ \\end{bmatrix}\n",
    "\\right) =\n",
    "xT \\left( \\begin{bmatrix} 1 \\\\ 0 \\\\ 0 \\\\ \\end{bmatrix} \\right) +\n",
    "yT \\left( \\begin{bmatrix} 1 \\\\ 0 \\\\ 0 \\\\ \\end{bmatrix} \\right) +\n",
    "zT \\left( \\begin{bmatrix} 1 \\\\ 0 \\\\ 0 \\\\ \\end{bmatrix} \\right) =\n",
    "x \\begin{bmatrix} \\frac{1}{3} \\\\ \\frac{1}{3} \\\\ \\frac{1}{3} \\\\ \\end{bmatrix} +\n",
    "y \\begin{bmatrix} \\frac{1}{3} \\\\ \\frac{1}{3} \\\\ \\frac{1}{3} \\\\ \\end{bmatrix} +\n",
    "z \\begin{bmatrix} \\frac{1}{3} \\\\ \\frac{1}{3} \\\\ \\frac{1}{3} \\\\ \\end{bmatrix} =\n",
    "\\begin{bmatrix} \\frac{x + y + z}{3} \\\\ \\frac{x + y + z}{3} \\\\ \\frac{x + y + z}{3} \\\\ \\end{bmatrix}\n",
    "$\n",
    "\n",
    "</div>"
   ]
  },
  {
   "cell_type": "markdown",
   "metadata": {},
   "source": [
    "$\n",
    "T(\\mathbf{x}) =\n",
    "\\underset{\\mathbf{A}}{\n",
    "\\begin{bmatrix}\n",
    "  \\frac{1}{3} & \\frac{1}{3} & \\frac{1}{3} \\\\\n",
    "  \\frac{1}{3} & \\frac{1}{3} & \\frac{1}{3} \\\\\n",
    "  \\frac{1}{3} & \\frac{1}{3} & \\frac{1}{3} \\\\\n",
    "\\end  {bmatrix}\n",
    "}\n",
    "\\underset{\\mathbf{x}}{\n",
    "\\begin{bmatrix} x \\\\ y \\\\ z \\\\ \\end{bmatrix}\n",
    "}\n",
    "$"
   ]
  },
  {
   "cell_type": "markdown",
   "metadata": {},
   "source": [
    "The transformation is linear."
   ]
  },
  {
   "cell_type": "markdown",
   "metadata": {},
   "source": [
    "ONTO and ONE-TO-ONE"
   ]
  },
  {
   "cell_type": "markdown",
   "metadata": {},
   "source": [
    "$\n",
    "\\begin{bmatrix}\n",
    "  \\frac{1}{3} & \\frac{1}{3} & \\frac{1}{3} \\\\\n",
    "  \\frac{1}{3} & \\frac{1}{3} & \\frac{1}{3} \\\\\n",
    "  \\frac{1}{3} & \\frac{1}{3} & \\frac{1}{3} \\\\\n",
    "\\end  {bmatrix}\n",
    "\\underset{\\text{row reduce}}{\\rightarrow}\n",
    "\\begin{bmatrix}\n",
    "            1 &           1 &           1 \\\\\n",
    "            0 &           0 &           0 \\\\\n",
    "            0 &           0 &           0 \\\\\n",
    "\\end  {bmatrix}\n",
    "$"
   ]
  },
  {
   "cell_type": "markdown",
   "metadata": {},
   "source": [
    "The transformation is neither onto (because not all rows contain a pivot) nor one-to-one (because not all columns contain a pivot)."
   ]
  },
  {
   "cell_type": "markdown",
   "metadata": {},
   "source": [
    "---"
   ]
  },
  {
   "cell_type": "markdown",
   "metadata": {},
   "source": [
    "### <span style=\"color: green; font-family: Romans; font-size: 18px;\"><b>Example</b></span>"
   ]
  },
  {
   "cell_type": "markdown",
   "metadata": {},
   "source": [
    "PROBLEM STATEMENT"
   ]
  },
  {
   "cell_type": "markdown",
   "metadata": {},
   "source": [
    "Determine whether the linear transformation $T : \\mathbb{R}^4 \\to \\mathbb{R}^3$ defined by $T(\\mathbf{x}) = \\mathbf{Ax}$ with\n",
    "\n",
    "$\n",
    "\\mathbf{A} =\n",
    "\\begin{bmatrix*}[r]\n",
    "  1 & -4 &  8 & 1 \\\\\n",
    "  0 &  2 & -1 & 3 \\\\\n",
    "  0 &  0 &  0 & 5 \\\\\n",
    "\\end  {bmatrix*}\n",
    "$\n",
    "\n",
    "is onto and one-to-one."
   ]
  },
  {
   "cell_type": "markdown",
   "metadata": {},
   "source": [
    "ONTO and ONE-TO-ONE"
   ]
  },
  {
   "cell_type": "markdown",
   "metadata": {},
   "source": [
    "$\n",
    "\\mathbf{A} =\n",
    "\\begin{bmatrix*}[r]\n",
    "  \\boxed{1} &        -4 &  8 &         1 \\\\\n",
    "          0 & \\boxed{2} & -1 &         3 \\\\\n",
    "          0 &         0 &  0 & \\boxed{5} \\\\\n",
    "\\end  {bmatrix*}\n",
    "$\n",
    "\n",
    "is already in row echelon form and so we can determine that the linear transformation is onto because there is a pivot in each row but not one-to-one because there is not a pivot in each column."
   ]
  },
  {
   "cell_type": "markdown",
   "metadata": {},
   "source": [
    "---"
   ]
  },
  {
   "cell_type": "markdown",
   "metadata": {},
   "source": [
    "### <span style=\"color: green; font-family: Romans; font-size: 18px;\"><b>Example</b></span>"
   ]
  },
  {
   "cell_type": "markdown",
   "metadata": {},
   "source": [
    "PROBLEM STATEMENT"
   ]
  },
  {
   "cell_type": "markdown",
   "metadata": {},
   "source": [
    "Determine whether the linear transformation $S : \\mathbb{R}^3 \\to \\mathbb{R}^3$ defined by $S(\\mathbf{x}) = \\mathbf{Bx}$ with\n",
    "\n",
    "$\n",
    "\\mathbf{B} =\n",
    "\\begin{bmatrix*}[r]\n",
    "  2 & 1 & 3 \\\\\n",
    "  3 & 2 & 1 \\\\\n",
    "  1 & 3 & 2 \\\\\n",
    "\\end  {bmatrix*}\n",
    "$\n",
    "\n",
    "is onto and one-to-one."
   ]
  },
  {
   "cell_type": "markdown",
   "metadata": {},
   "source": [
    "ROW REDUCE"
   ]
  },
  {
   "cell_type": "markdown",
   "metadata": {},
   "source": [
    "$\n",
    "\\begin{bmatrix*}[r]\n",
    "  \\boxed{2} & 1 & 3 \\\\\n",
    "          3 & 2 & 1 \\\\\n",
    "          1 & 3 & 2 \\\\\n",
    "\\end  {bmatrix*}\n",
    "\\underset{r_2 \\leftarrow\\,\\,\\, r_2 + (-\\frac{3}{2})r_1}{\\rightarrow}\n",
    "\\begin{bmatrix*}[r]\n",
    "  \\boxed{2} &           1 &            3 \\\\\n",
    "          0 & \\frac{1}{2} & -\\frac{7}{2} \\\\\n",
    "          1 &           3 &            2 \\\\\n",
    "\\end  {bmatrix*}\n",
    "\\underset{r_3 \\leftarrow\\,\\,\\, r_3 + (-\\frac{1}{2})r_1}{\\rightarrow}\n",
    "\\begin{bmatrix*}[r]\n",
    "  \\boxed{2} &                   1 &            3 \\\\\n",
    "          0 & \\boxed{\\frac{1}{2}} & -\\frac{7}{2} \\\\\n",
    "          0 &         \\frac{5}{2} &  \\frac{1}{2} \\\\\n",
    "\\end  {bmatrix*}\n",
    "$"
   ]
  },
  {
   "cell_type": "markdown",
   "metadata": {},
   "source": [
    "$\n",
    "\\begin{bmatrix*}[r]\n",
    "  \\boxed{2} &                   1 &            3 \\\\\n",
    "          0 & \\boxed{\\frac{1}{2}} & -\\frac{7}{2} \\\\\n",
    "          0 &         \\frac{5}{2} &  \\frac{1}{2} \\\\\n",
    "\\end  {bmatrix*}\n",
    "\\underset{r_3 \\leftarrow\\,\\,\\, r_3 + (-5)r_2}{\\rightarrow}\n",
    "\\underbrace{\n",
    "\\begin{bmatrix*}[r]\n",
    "  \\boxed{2} &                   1 &            3 \\\\\n",
    "          0 & \\boxed{\\frac{1}{2}} & -\\frac{7}{2} \\\\\n",
    "          0 &                   0 &   \\boxed{18} \\\\\n",
    "\\end  {bmatrix*}\n",
    "}_{\\textbf{row echelon}}\n",
    "\\underset{r_3 \\leftarrow\\,\\,\\, \\frac{1}{18} r_3}{\\rightarrow}\n",
    "\\begin{bmatrix*}[r]\n",
    "  \\boxed{2} &                   1 &            3 \\\\\n",
    "          0 & \\boxed{\\frac{1}{2}} & -\\frac{7}{2} \\\\\n",
    "          0 &                   0 &    \\boxed{1} \\\\\n",
    "\\end  {bmatrix*}\n",
    "$"
   ]
  },
  {
   "cell_type": "markdown",
   "metadata": {},
   "source": [
    "$\n",
    "\\begin{bmatrix*}[r]\n",
    "  \\boxed{2} &                   1 &            3 \\\\\n",
    "          0 & \\boxed{\\frac{1}{2}} & -\\frac{7}{2} \\\\\n",
    "          0 &                   0 &    \\boxed{1} \\\\\n",
    "\\end  {bmatrix*}\n",
    "\\underset{r_2 \\leftarrow\\,\\,\\, r_2 + \\frac{7}{2} r_3}{\\rightarrow}\n",
    "\\begin{bmatrix*}[r]\n",
    "  \\boxed{2} &                   1 &            3 \\\\\n",
    "          0 & \\boxed{\\frac{1}{2}} &            0 \\\\\n",
    "          0 &                   0 &    \\boxed{1} \\\\\n",
    "\\end  {bmatrix*}\n",
    "\\underset{r_1 \\leftarrow\\,\\,\\, r_1 + (-3)r_3}{\\rightarrow}\n",
    "\\begin{bmatrix*}[r]\n",
    "  \\boxed{2} &                   1 &            0 \\\\\n",
    "          0 & \\boxed{\\frac{1}{2}} &            0 \\\\\n",
    "          0 &                   0 &    \\boxed{1} \\\\\n",
    "\\end  {bmatrix*}\n",
    "$"
   ]
  },
  {
   "cell_type": "markdown",
   "metadata": {},
   "source": [
    "$\n",
    "\\begin{bmatrix*}[r]\n",
    "  \\boxed{2} &                   1 &         0 \\\\\n",
    "          0 & \\boxed{\\frac{1}{2}} &         0 \\\\\n",
    "          0 &                   0 & \\boxed{1} \\\\\n",
    "\\end  {bmatrix*}\n",
    "\\underset{r_2 \\leftarrow\\,\\,\\, 2r_2}{\\rightarrow}\n",
    "\\begin{bmatrix*}[r]\n",
    "  \\boxed{2} &         1 &         0 \\\\\n",
    "          0 & \\boxed{1} &         0 \\\\\n",
    "          0 &         0 & \\boxed{1} \\\\\n",
    "\\end  {bmatrix*}\n",
    "\\underset{r_1 \\leftarrow\\,\\,\\, r_1 + (-1)r_2}{\\rightarrow}\n",
    "\\begin{bmatrix*}[r]\n",
    "  \\boxed{2} &         0 &         0 \\\\\n",
    "          0 & \\boxed{1} &         0 \\\\\n",
    "          0 &         0 & \\boxed{1} \\\\\n",
    "\\end  {bmatrix*}\n",
    "$"
   ]
  },
  {
   "cell_type": "markdown",
   "metadata": {},
   "source": [
    "$\n",
    "\\begin{bmatrix*}[r]\n",
    "  \\boxed{2} &         0 &         0 \\\\\n",
    "          0 & \\boxed{1} &         0 \\\\\n",
    "          0 &         0 & \\boxed{1} \\\\\n",
    "\\end  {bmatrix*}\n",
    "\\underset{r_1 \\leftarrow\\,\\,\\, \\frac{1}{2} r_1}{\\rightarrow}\n",
    "\\underbrace{\n",
    "\\begin{bmatrix*}[r]\n",
    "  \\boxed{1} &         0 &         0 \\\\\n",
    "          0 & \\boxed{1} &         0 \\\\\n",
    "          0 &         0 & \\boxed{1} \\\\\n",
    "\\end  {bmatrix*}\n",
    "}_{\\textbf{reduced}}\n",
    "$"
   ]
  },
  {
   "cell_type": "markdown",
   "metadata": {},
   "source": [
    "ONTO and ONE-TO-ONE"
   ]
  },
  {
   "cell_type": "markdown",
   "metadata": {},
   "source": [
    "The transformation is both onto and one-to-one because the matrix $\\mathbf{B}$ is row-equivalent to a row echelon matrix in which all rows contain a pivot and all columns contain a pivot."
   ]
  },
  {
   "cell_type": "markdown",
   "metadata": {},
   "source": [
    "---"
   ]
  },
  {
   "cell_type": "markdown",
   "metadata": {},
   "source": [
    "## Composition of Linear Transformations"
   ]
  },
  {
   "cell_type": "markdown",
   "metadata": {},
   "source": [
    "### Theorem"
   ]
  },
  {
   "cell_type": "markdown",
   "metadata": {},
   "source": [
    "Let $T : \\mathbb{R}^p \\to \\mathbb{R}^n$ and $L : \\mathbb{R}^n \\to \\mathbb{R}^m$ be two linear transformations.\n",
    "\n",
    "$\\mathbb{R}^m \\overset{L}{\\leftarrow} \\mathbb{R}^n \\overset{T}{\\leftarrow} \\mathbb{R}^p$\n",
    "\n",
    "The composition $L \\circ T : \\mathbb{R}^p \\to \\mathbb{R}^m$ is a linear transformation."
   ]
  },
  {
   "cell_type": "markdown",
   "metadata": {},
   "source": [
    "### Proof"
   ]
  },
  {
   "cell_type": "markdown",
   "metadata": {},
   "source": [
    "Since $T$ is linear it is the case that for some vectors $\\mathbf{u, v} \\in \\mathbb{R}^p$ and some scalars $r, s$\n",
    "\n",
    "$T(r \\mathbf{u} + s \\mathbf{v}) = rT(\\mathbf{u}) + sT(\\mathbf{v})$\n",
    "\n",
    "and since $L$ is linear it is the case that for some vectors $\\mathbf{x, y} \\in \\mathbb{R}^n$ and some scalars $h, k$\n",
    "\n",
    "$L(h \\mathbf{x} + k \\mathbf{y}) = hL(\\mathbf{x}) + kL(\\mathbf{y})$\n",
    "\n",
    "Let $\\mathbf{x} = rT(\\mathbf{u}), \\mathbf{y} = sT(\\mathbf{v})$.\n",
    "\n",
    "$\n",
    "L(h(rT(\\mathbf{u})) + k(sT(\\mathbf{v}))) =\n",
    "hrL(T(\\mathbf{u})) + ksL(T(\\mathbf{v}))\n",
    "$"
   ]
  },
  {
   "cell_type": "markdown",
   "metadata": {},
   "source": [
    "### Theorem"
   ]
  },
  {
   "cell_type": "markdown",
   "metadata": {},
   "source": [
    "The composition $L \\circ T$ of the linear transformations $L, T$ is the linear transformation represented by the product $\\mathbf{AB}$ of the matrices $\\mathbf{A, B}$."
   ]
  },
  {
   "cell_type": "markdown",
   "metadata": {},
   "source": [
    "### Proof"
   ]
  },
  {
   "cell_type": "markdown",
   "metadata": {},
   "source": [
    "The linear transformations $L, T$ are represented by the matrices $\\mathbf{A, B}$ respectively.\n",
    "\n",
    "$\n",
    "\\begin{aligned}\n",
    "L(\\mathbf{e_k}) &= \\sum_{i = 1}^m A_{ik} \\mathbf{e_i} \\\\\n",
    "T(\\mathbf{e_j}) &= \\sum_{k = 1}^n B_{kj} \\mathbf{e_k} \\\\\n",
    "\\end  {aligned}\n",
    "$"
   ]
  },
  {
   "cell_type": "markdown",
   "metadata": {},
   "source": [
    "$\n",
    "\\begin{aligned}\n",
    "L \\circ T (\\mathbf{e_j}) =\n",
    "L \\left( \\sum_{k = 1}^n B_{kj} \\mathbf{e_k} \\right) =\n",
    "\\sum_{k = 1}^n B_{kj} L (\\mathbf{e_k}) =\n",
    "\\sum_{k = 1}^n B_{kj} \\left( \\sum_{i = 1}^m A_{ik} \\mathbf{e_i} \\right) =\n",
    "\\sum_{i = 1}^m \\left( \\sum_{k = 1}^n A_{ik} B_{kj} \\right) \\mathbf{e_i} =\n",
    "\\sum_{i = 1}^m (\\mathbf{AB})_{ij} \\mathbf{e_i}\n",
    "\\end  {aligned}\n",
    "$"
   ]
  },
  {
   "cell_type": "markdown",
   "metadata": {},
   "source": [
    "---"
   ]
  }
 ],
 "metadata": {
  "language_info": {
   "name": "python"
  }
 },
 "nbformat": 4,
 "nbformat_minor": 2
}
