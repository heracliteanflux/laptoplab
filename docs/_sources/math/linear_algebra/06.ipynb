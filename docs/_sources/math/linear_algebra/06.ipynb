{
 "cells": [
  {
   "cell_type": "markdown",
   "metadata": {},
   "source": [
    "# More on Linear Transformations"
   ]
  },
  {
   "cell_type": "markdown",
   "metadata": {},
   "source": [
    "---"
   ]
  },
  {
   "cell_type": "markdown",
   "metadata": {},
   "source": [
    "## Table of Contents\n",
    "```{contents}\n",
    "```"
   ]
  },
  {
   "cell_type": "markdown",
   "metadata": {},
   "source": [
    "---"
   ]
  },
  {
   "cell_type": "markdown",
   "metadata": {},
   "source": [
    "In the following, letters that designate transformations and matrices are arbitrary and could be replaced by the letters $T$ and $\\mathbf{A}$ respectively."
   ]
  },
  {
   "cell_type": "markdown",
   "metadata": {},
   "source": [
    "---"
   ]
  },
  {
   "cell_type": "markdown",
   "metadata": {},
   "source": [
    "## Reflection"
   ]
  },
  {
   "cell_type": "markdown",
   "metadata": {},
   "source": [
    "### Reflection about the $y$-axis in $\\mathbb{R}^2$"
   ]
  },
  {
   "cell_type": "markdown",
   "metadata": {},
   "source": [
    "The linear transformation $A : \\mathbb{R}^2 \\to \\mathbb{R}^2$ that reflects points about the $y$-axis."
   ]
  },
  {
   "cell_type": "markdown",
   "metadata": {},
   "source": [
    "$\n",
    " A \\left( \\begin{bmatrix*}[r]  x \\\\ y \\\\ \\end{bmatrix*} \\right) =\n",
    "xA \\left( \\begin{bmatrix*}[r]  1 \\\\ 0 \\\\ \\end{bmatrix*} \\right) +\n",
    "yA \\left( \\begin{bmatrix*}[r]  0 \\\\ 1 \\\\ \\end{bmatrix*} \\right) =\n",
    "x         \\begin{bmatrix*}[r] -1 \\\\ 0 \\\\ \\end{bmatrix*}         +\n",
    "y         \\begin{bmatrix*}[r]  0 \\\\ 1 \\\\ \\end{bmatrix*}         =\n",
    "          \\begin{bmatrix*}[r] -x \\\\ y \\\\ \\end{bmatrix*}\n",
    "$"
   ]
  },
  {
   "cell_type": "markdown",
   "metadata": {},
   "source": [
    "$\n",
    "A \\left( \\begin{bmatrix*}[r]  x \\\\ y \\\\ \\end{bmatrix*} \\right) =\n",
    "\\underset{\\mathbf{A}}{\n",
    "\\begin{bmatrix*}[r]\n",
    "  -1 & 0 \\\\\n",
    "   0 & 1 \\\\\n",
    "\\end  {bmatrix*}\n",
    "}\n",
    "\\underset{\\mathbf{x}}{\n",
    "\\begin{bmatrix*}[r] x \\\\ y \\\\ \\end{bmatrix*}\n",
    "}\n",
    "$"
   ]
  },
  {
   "cell_type": "markdown",
   "metadata": {},
   "source": [
    "Thus a point $(x, y)$ becomes $(-x, y)$ when reflected about the $y$-axis."
   ]
  },
  {
   "cell_type": "markdown",
   "metadata": {},
   "source": [
    "---"
   ]
  },
  {
   "cell_type": "markdown",
   "metadata": {},
   "source": [
    "### Reflection about the $x$-axis in $\\mathbb{R}^2$"
   ]
  },
  {
   "cell_type": "markdown",
   "metadata": {},
   "source": [
    "The linear transformation $B : \\mathbb{R}^2 \\to \\mathbb{R}^2$ that reflects points about the $x$-axis."
   ]
  },
  {
   "cell_type": "markdown",
   "metadata": {},
   "source": [
    "$\n",
    " B                          \\left( \\begin{bmatrix*}[r] x \\\\  y \\\\ \\end{bmatrix*} \\right)   =\n",
    "xB \\underset{\\mathbf{e_1}}{ \\left( \\begin{bmatrix*}[r] 1 \\\\  0 \\\\ \\end{bmatrix*} \\right) } +\n",
    "yB \\underset{\\mathbf{e_2}}{ \\left( \\begin{bmatrix*}[r] 0 \\\\  1 \\\\ \\end{bmatrix*} \\right) } =\n",
    "x  \\underset{\\mathbf{u_1}}{        \\begin{bmatrix*}[r] 1 \\\\  0 \\\\ \\end{bmatrix*}         } +\n",
    "y  \\underset{\\mathbf{u_2}}{        \\begin{bmatrix*}[r] 0 \\\\ -1 \\\\ \\end{bmatrix*}         } =\n",
    "                                   \\begin{bmatrix*}[r] x \\\\ -y \\\\ \\end{bmatrix*}\n",
    "$"
   ]
  },
  {
   "cell_type": "markdown",
   "metadata": {},
   "source": [
    "$\n",
    "B \\left( \\begin{bmatrix*}[r]  x \\\\ y \\\\ \\end{bmatrix*} \\right) =\n",
    "\\underset{\\mathbf{B}}{\n",
    "\\begin{bmatrix*}[r]\n",
    "  1 &  0 \\\\\n",
    "  0 & -1 \\\\\n",
    "\\end  {bmatrix*}\n",
    "}\n",
    "\\underset{\\mathbf{x}}{\n",
    "\\begin{bmatrix*}[r] x \\\\ y \\\\ \\end{bmatrix*}\n",
    "}\n",
    "$"
   ]
  },
  {
   "cell_type": "markdown",
   "metadata": {},
   "source": [
    "Thus a point $(x, y)$ becomes $(x, -y)$ when reflected about the $x$-axis."
   ]
  },
  {
   "cell_type": "markdown",
   "metadata": {},
   "source": [
    "---"
   ]
  },
  {
   "cell_type": "markdown",
   "metadata": {},
   "source": [
    "### Reflection about the line $y = x$ in $\\mathbb{R}^2$"
   ]
  },
  {
   "cell_type": "markdown",
   "metadata": {},
   "source": [
    "The linear transformation $C : \\mathbb{R}^2 \\to \\mathbb{R}^2$ that reflects points about the line $y = x$."
   ]
  },
  {
   "cell_type": "markdown",
   "metadata": {},
   "source": [
    "$\n",
    " C                          \\left( \\begin{bmatrix*}[r] x \\\\ y \\\\ \\end{bmatrix*} \\right)   =\n",
    "xC \\underset{\\mathbf{e_1}}{ \\left( \\begin{bmatrix*}[r] 1 \\\\ 0 \\\\ \\end{bmatrix*} \\right) } +\n",
    "yC \\underset{\\mathbf{e_2}}{ \\left( \\begin{bmatrix*}[r] 0 \\\\ 1 \\\\ \\end{bmatrix*} \\right) } =\n",
    "x  \\underset{\\mathbf{u_1}}{        \\begin{bmatrix*}[r] 0 \\\\ 1 \\\\ \\end{bmatrix*}         } +\n",
    "y  \\underset{\\mathbf{u_2}}{        \\begin{bmatrix*}[r] 1 \\\\ 0 \\\\ \\end{bmatrix*}         } =\n",
    "                                   \\begin{bmatrix*}[r] y \\\\ x \\\\ \\end{bmatrix*}\n",
    "$"
   ]
  },
  {
   "cell_type": "markdown",
   "metadata": {},
   "source": [
    "$\n",
    "C \\left( \\begin{bmatrix*}[r]  x \\\\ y \\\\ \\end{bmatrix*} \\right) =\n",
    "\\underset{\\mathbf{C}}{\n",
    "\\begin{bmatrix*}[r]\n",
    "  0 & 1 \\\\\n",
    "  1 & 0 \\\\\n",
    "\\end  {bmatrix*}\n",
    "}\n",
    "\\underset{\\mathbf{x}}{\n",
    "\\begin{bmatrix*}[r] x \\\\ y \\\\ \\end{bmatrix*}\n",
    "}\n",
    "$"
   ]
  },
  {
   "cell_type": "markdown",
   "metadata": {},
   "source": [
    "Thus a point $(x, y)$ becomes $(y, x)$ when reflected about the line $y = x$."
   ]
  },
  {
   "cell_type": "markdown",
   "metadata": {},
   "source": [
    "---"
   ]
  },
  {
   "cell_type": "markdown",
   "metadata": {},
   "source": [
    "### Reflection about the line $y = -x$ in $\\mathbb{R}^2$"
   ]
  },
  {
   "cell_type": "markdown",
   "metadata": {},
   "source": [
    "The linear transformation $T : \\mathbb{R}^2 \\to \\mathbb{R}^2$ that reflects points about the line $y = x$."
   ]
  },
  {
   "cell_type": "markdown",
   "metadata": {},
   "source": [
    "$\n",
    " T                          \\left( \\begin{bmatrix*}[r]  x \\\\  y \\\\ \\end{bmatrix*} \\right)   =\n",
    "xT \\underset{\\mathbf{e_1}}{ \\left( \\begin{bmatrix*}[r]  1 \\\\  0 \\\\ \\end{bmatrix*} \\right) } +\n",
    "yT \\underset{\\mathbf{e_2}}{ \\left( \\begin{bmatrix*}[r]  0 \\\\  1 \\\\ \\end{bmatrix*} \\right) } =\n",
    "x  \\underset{\\mathbf{u_1}}{        \\begin{bmatrix*}[r]  0 \\\\ -1 \\\\ \\end{bmatrix*}         } +\n",
    "y  \\underset{\\mathbf{u_2}}{        \\begin{bmatrix*}[r] -1 \\\\  0 \\\\ \\end{bmatrix*}         } =\n",
    "                                   \\begin{bmatrix*}[r] -y \\\\ -x \\\\ \\end{bmatrix*}\n",
    "$"
   ]
  },
  {
   "cell_type": "markdown",
   "metadata": {},
   "source": [
    "$\n",
    "T \\left( \\begin{bmatrix*}[r]  x \\\\ y \\\\ \\end{bmatrix*} \\right) =\n",
    "\\underset{\\mathbf{A}}{\n",
    "\\begin{bmatrix*}[r]\n",
    "   0 & -1 \\\\\n",
    "  -1 &  0 \\\\\n",
    "\\end  {bmatrix*}\n",
    "}\n",
    "\\underset{\\mathbf{x}}{\n",
    "\\begin{bmatrix*}[r] x \\\\ y \\\\ \\end{bmatrix*}\n",
    "}\n",
    "$"
   ]
  },
  {
   "cell_type": "markdown",
   "metadata": {},
   "source": [
    "Thus a point $(x, y)$ becomes $(-y, -x)$ when reflected about the line $y = -x$."
   ]
  },
  {
   "cell_type": "markdown",
   "metadata": {},
   "source": [
    "---"
   ]
  },
  {
   "cell_type": "markdown",
   "metadata": {},
   "source": [
    "### Reflection about the origin"
   ]
  },
  {
   "cell_type": "markdown",
   "metadata": {},
   "source": [
    "The linear transformation $T : \\mathbb{R}^2 \\to \\mathbb{R}^2$ that reflects points about the origin."
   ]
  },
  {
   "cell_type": "markdown",
   "metadata": {},
   "source": [
    "$\n",
    " T                          \\left( \\begin{bmatrix*}[r]  x \\\\  y \\\\ \\end{bmatrix*} \\right)   =\n",
    "xT \\underset{\\mathbf{e_1}}{ \\left( \\begin{bmatrix*}[r]  1 \\\\  0 \\\\ \\end{bmatrix*} \\right) } +\n",
    "yT \\underset{\\mathbf{e_2}}{ \\left( \\begin{bmatrix*}[r]  0 \\\\  1 \\\\ \\end{bmatrix*} \\right) } =\n",
    "x  \\underset{\\mathbf{u_1}}{        \\begin{bmatrix*}[r] -1 \\\\  0 \\\\ \\end{bmatrix*}         } +\n",
    "y  \\underset{\\mathbf{u_2}}{        \\begin{bmatrix*}[r]  0 \\\\ -1 \\\\ \\end{bmatrix*}         } =\n",
    "                                   \\begin{bmatrix*}[r] -x \\\\ -y \\\\ \\end{bmatrix*}\n",
    "$"
   ]
  },
  {
   "cell_type": "markdown",
   "metadata": {},
   "source": [
    "$\n",
    "T \\left( \\begin{bmatrix*}[r]  x \\\\ y \\\\ \\end{bmatrix*} \\right) =\n",
    "\\underset{\\mathbf{A}}{\n",
    "\\begin{bmatrix*}[r]\n",
    "  -1 &  0 \\\\\n",
    "   0 & -1 \\\\\n",
    "\\end  {bmatrix*}\n",
    "}\n",
    "\\underset{\\mathbf{x}}{\n",
    "\\begin{bmatrix*}[r] x \\\\ y \\\\ \\end{bmatrix*}\n",
    "}\n",
    "$"
   ]
  },
  {
   "cell_type": "markdown",
   "metadata": {},
   "source": [
    "Thus a point $(x, y)$ becomes $(-x, -y)$ when reflected about the origin."
   ]
  },
  {
   "cell_type": "markdown",
   "metadata": {},
   "source": [
    "---"
   ]
  },
  {
   "cell_type": "markdown",
   "metadata": {},
   "source": [
    "### Reflection first about the $x$-axis and then about the line $y = x$ in $\\mathbb{R}^2$"
   ]
  },
  {
   "cell_type": "markdown",
   "metadata": {},
   "source": [
    "The linear transformation $D : \\mathbb{R}^2 \\to \\mathbb{R}^2$ that first reflects points about the $x$-axis and then reflects points about the line $y = x$."
   ]
  },
  {
   "cell_type": "markdown",
   "metadata": {},
   "source": [
    "$\n",
    "D \\left ( \\begin{bmatrix*}[r]  x \\\\ y \\\\ \\end{bmatrix*} \\right) =\n",
    "C \\left (\n",
    "B \\left ( \\begin{bmatrix*}[r]  x \\\\ y \\\\ \\end{bmatrix*} \\right)\n",
    "  \\right) =\n",
    "C \\left (\n",
    "    \\underset{\\mathbf{B}}{\n",
    "    \\begin{bmatrix*}[r]\n",
    "      1 &  0 \\\\\n",
    "      0 & -1 \\\\\n",
    "    \\end  {bmatrix*}\n",
    "    }\n",
    "    \\underset{\\mathbf{x}}{\n",
    "    \\begin{bmatrix*}[r] x \\\\ y \\\\ \\end{bmatrix*}\n",
    "    }\n",
    "  \\right) =\n",
    "\\underset{\\mathbf{C}}{\n",
    "\\begin{bmatrix*}[r]\n",
    "  0 & 1 \\\\\n",
    "  1 & 0 \\\\\n",
    "\\end  {bmatrix*}\n",
    "}\n",
    "\\underset{\\mathbf{B}}{\n",
    "\\begin{bmatrix*}[r]\n",
    "  1 &  0 \\\\\n",
    "  0 & -1 \\\\\n",
    "\\end  {bmatrix*}\n",
    "}\n",
    "\\underset{\\mathbf{x}}{\n",
    "\\begin{bmatrix*}[r] x \\\\ y \\\\ \\end{bmatrix*}\n",
    "} =\n",
    "\\underset{\\mathbf{D}}{\n",
    "\\begin{bmatrix*}[r]\n",
    "  0 & -1 \\\\\n",
    "  1 &  0 \\\\\n",
    "\\end  {bmatrix*}\n",
    "}\n",
    "\\underset{\\mathbf{x}}{\n",
    "\\begin{bmatrix*}[r] x \\\\ y \\\\ \\end{bmatrix*}\n",
    "}\n",
    "$"
   ]
  },
  {
   "cell_type": "markdown",
   "metadata": {},
   "source": [
    "$\n",
    "\\begin{aligned}\n",
    "& \\underset{\\mathbf{B}}{\n",
    "  \\begin{bmatrix*}[r]\n",
    "    1 &  0 \\\\\n",
    "    0 & -1 \\\\\n",
    "  \\end  {bmatrix*}} \\\\\n",
    "  \\underset{\\mathbf{C}}{\n",
    "  \\begin{bmatrix*}[r]\n",
    "    0 & 1 \\\\\n",
    "    1 & 0 \\\\\n",
    "  \\end  {bmatrix*}} &\n",
    "  \\begin{bmatrix*}[r]\n",
    "    0 \\cdot 1 + 1 \\cdot 0 & 0 \\cdot 0 + 1 \\cdot -1 \\\\\n",
    "    1 \\cdot 1 + 0 \\cdot 0 & 1 \\cdot 0 + 0 \\cdot -1 \\\\\n",
    "  \\end  {bmatrix*} \\\\\n",
    "\\end  {aligned} \\\\\n",
    "\\begin{aligned}\n",
    "& \\underset{\\mathbf{B}}{\n",
    "  \\begin{bmatrix*}[r]\n",
    "    1 &  0 \\\\\n",
    "    0 & -1 \\\\\n",
    "  \\end  {bmatrix*}} \\\\\n",
    "  \\underset{\\mathbf{C}}{\n",
    "  \\begin{bmatrix*}[r]\n",
    "    0 & 1 \\\\\n",
    "    1 & 0 \\\\\n",
    "  \\end  {bmatrix*}} &\n",
    "  \\underset{\\mathbf{D}}{\n",
    "  \\begin{bmatrix*}[r]\n",
    "    0 & -1 \\\\\n",
    "    1 &  0 \\\\\n",
    "  \\end  {bmatrix*}} \\\\\n",
    "\\end  {aligned}\n",
    "$"
   ]
  },
  {
   "cell_type": "markdown",
   "metadata": {},
   "source": [
    "Thus a point $(x, y)$ becomes $(-y, x)$ when first reflected about the $x$-axis and then reflected about the line $y = x$."
   ]
  },
  {
   "cell_type": "markdown",
   "metadata": {},
   "source": [
    "---"
   ]
  },
  {
   "cell_type": "markdown",
   "metadata": {},
   "source": [
    "## Contraction and expansion"
   ]
  },
  {
   "cell_type": "markdown",
   "metadata": {},
   "source": [
    "---"
   ]
  },
  {
   "cell_type": "markdown",
   "metadata": {},
   "source": [
    "### Horizontal contraction and expansion in $\\mathbb{R}^2$"
   ]
  },
  {
   "cell_type": "markdown",
   "metadata": {},
   "source": [
    "The linear transformation $F : \\mathbb{R}^2 \\to \\mathbb{R}^2$ that represents any horizontal contraction or expansion."
   ]
  },
  {
   "cell_type": "markdown",
   "metadata": {},
   "source": [
    "$\n",
    " F                          \\left( \\begin{bmatrix*}[r]  x \\\\ y \\\\ \\end{bmatrix*} \\right)   =\n",
    "xF \\underset{\\mathbf{e_1}}{ \\left( \\begin{bmatrix*}[r]  1 \\\\ 0 \\\\ \\end{bmatrix*} \\right) } +\n",
    "yF \\underset{\\mathbf{e_2}}{ \\left( \\begin{bmatrix*}[r]  0 \\\\ 1 \\\\ \\end{bmatrix*} \\right) } =\n",
    "x  \\underset{\\mathbf{u_1}}{        \\begin{bmatrix*}[r]  k \\\\ 0 \\\\ \\end{bmatrix*}         } +\n",
    "y  \\underset{\\mathbf{u_2}}{        \\begin{bmatrix*}[r]  0 \\\\ 1 \\\\ \\end{bmatrix*}         } =\n",
    "                                   \\begin{bmatrix*}[r] kx \\\\ y \\\\ \\end{bmatrix*}\n",
    "$"
   ]
  },
  {
   "cell_type": "markdown",
   "metadata": {},
   "source": [
    "$\n",
    "F \\left( \\begin{bmatrix*}[r]  x \\\\ y \\\\ \\end{bmatrix*} \\right) =\n",
    "\\underset{\\mathbf{F}}{\n",
    "\\begin{bmatrix*}[r]\n",
    "  k & 0 \\\\\n",
    "  0 & 1 \\\\\n",
    "\\end  {bmatrix*}\n",
    "}\n",
    "\\underset{\\mathbf{x}}{\n",
    "\\begin{bmatrix*}[r] x \\\\ y \\\\ \\end{bmatrix*}\n",
    "}\n",
    "$"
   ]
  },
  {
   "cell_type": "markdown",
   "metadata": {},
   "source": [
    "Thus a point $(x, y)$ becomes $(kx, y)$ with $0 \\lt k \\lt 1$ when horizontally contracted and with $k \\gt 1$ when horizontally expanded."
   ]
  },
  {
   "cell_type": "markdown",
   "metadata": {},
   "source": [
    "---"
   ]
  },
  {
   "cell_type": "markdown",
   "metadata": {},
   "source": [
    "### Vertical contraction and expansion in $\\mathbb{R}^2$"
   ]
  },
  {
   "cell_type": "markdown",
   "metadata": {},
   "source": [
    "The linear transformation $F : \\mathbb{R}^2 \\to \\mathbb{R}^2$ that represents any vertical contraction or expansion."
   ]
  },
  {
   "cell_type": "markdown",
   "metadata": {},
   "source": [
    "$\n",
    " G                          \\left( \\begin{bmatrix*}[r] x \\\\  y \\\\ \\end{bmatrix*} \\right)   =\n",
    "xG \\underset{\\mathbf{e_1}}{ \\left( \\begin{bmatrix*}[r] 1 \\\\  0 \\\\ \\end{bmatrix*} \\right) } +\n",
    "yG \\underset{\\mathbf{e_2}}{ \\left( \\begin{bmatrix*}[r] 0 \\\\  1 \\\\ \\end{bmatrix*} \\right) } =\n",
    "x  \\underset{\\mathbf{u_1}}{        \\begin{bmatrix*}[r] 1 \\\\  0 \\\\ \\end{bmatrix*}         } +\n",
    "y  \\underset{\\mathbf{u_2}}{        \\begin{bmatrix*}[r] 0 \\\\  k \\\\ \\end{bmatrix*}         } =\n",
    "                                   \\begin{bmatrix*}[r] x \\\\ ky \\\\ \\end{bmatrix*}\n",
    "$"
   ]
  },
  {
   "cell_type": "markdown",
   "metadata": {},
   "source": [
    "$\n",
    "G \\left( \\begin{bmatrix*}[r]  x \\\\ y \\\\ \\end{bmatrix*} \\right) =\n",
    "\\underset{\\mathbf{G}}{\n",
    "\\begin{bmatrix*}[r]\n",
    "  1 & 0 \\\\\n",
    "  0 & k \\\\\n",
    "\\end  {bmatrix*}\n",
    "}\n",
    "\\underset{\\mathbf{x}}{\n",
    "\\begin{bmatrix*}[r] x \\\\ y \\\\ \\end{bmatrix*}\n",
    "}\n",
    "$"
   ]
  },
  {
   "cell_type": "markdown",
   "metadata": {},
   "source": [
    "Thus a point $(x, y)$ becomes $(x, ky)$ with $0 \\lt k \\lt 1$ when vertically contracted and with $k \\gt 1$ when vertically expanded."
   ]
  },
  {
   "cell_type": "markdown",
   "metadata": {},
   "source": [
    "---"
   ]
  },
  {
   "cell_type": "markdown",
   "metadata": {},
   "source": [
    "## Projection"
   ]
  },
  {
   "cell_type": "markdown",
   "metadata": {},
   "source": [
    "---"
   ]
  },
  {
   "cell_type": "markdown",
   "metadata": {},
   "source": [
    "### Projection onto the $x$-axis in $\\mathbb{R}^2$"
   ]
  },
  {
   "cell_type": "markdown",
   "metadata": {},
   "source": [
    "The linear transformation $P : \\mathbb{R}^2 \\to \\mathbb{R}^2$ that represents projection onto the $x$-axis."
   ]
  },
  {
   "cell_type": "markdown",
   "metadata": {},
   "source": [
    "$\n",
    " P                          \\left( \\begin{bmatrix*}[r] x \\\\ y \\\\ \\end{bmatrix*} \\right)   =\n",
    "xP \\underset{\\mathbf{e_1}}{ \\left( \\begin{bmatrix*}[r] 1 \\\\ 0 \\\\ \\end{bmatrix*} \\right) } +\n",
    "yP \\underset{\\mathbf{e_2}}{ \\left( \\begin{bmatrix*}[r] 0 \\\\ 1 \\\\ \\end{bmatrix*} \\right) } =\n",
    "x  \\underset{\\mathbf{u_1}}{        \\begin{bmatrix*}[r] 1 \\\\ 0 \\\\ \\end{bmatrix*}         } +\n",
    "y  \\underset{\\mathbf{u_2}}{        \\begin{bmatrix*}[r] 0 \\\\ 0 \\\\ \\end{bmatrix*}         } =\n",
    "                                   \\begin{bmatrix*}[r] x \\\\ 0 \\\\ \\end{bmatrix*}\n",
    "$"
   ]
  },
  {
   "cell_type": "markdown",
   "metadata": {},
   "source": [
    "$\n",
    "P \\left( \\begin{bmatrix*}[r]  x \\\\ y \\\\ \\end{bmatrix*} \\right) =\n",
    "\\underset{\\mathbf{P}}{\n",
    "\\begin{bmatrix*}[r]\n",
    "  1 & 0 \\\\\n",
    "  0 & 0 \\\\\n",
    "\\end  {bmatrix*}\n",
    "}\n",
    "\\underset{\\mathbf{x}}{\n",
    "\\begin{bmatrix*}[r] x \\\\ y \\\\ \\end{bmatrix*}\n",
    "}\n",
    "$"
   ]
  },
  {
   "cell_type": "markdown",
   "metadata": {},
   "source": [
    "Thus a point $(x, y)$ becomes $(x, 0)$ when projected onto the $x$-axis."
   ]
  },
  {
   "cell_type": "markdown",
   "metadata": {},
   "source": [
    "---"
   ]
  },
  {
   "cell_type": "markdown",
   "metadata": {},
   "source": [
    "### Projection onto the $y$-axis in $\\mathbb{R}^2$"
   ]
  },
  {
   "cell_type": "markdown",
   "metadata": {},
   "source": [
    "The linear transformation $Q : \\mathbb{R}^2 \\to \\mathbb{R}^2$ that represents projection onto the $y$-axis."
   ]
  },
  {
   "cell_type": "markdown",
   "metadata": {},
   "source": [
    "$\n",
    " Q                          \\left( \\begin{bmatrix*}[r] x \\\\ y \\\\ \\end{bmatrix*} \\right)   =\n",
    "xQ \\underset{\\mathbf{e_1}}{ \\left( \\begin{bmatrix*}[r] 1 \\\\ 0 \\\\ \\end{bmatrix*} \\right) } +\n",
    "yQ \\underset{\\mathbf{e_2}}{ \\left( \\begin{bmatrix*}[r] 0 \\\\ 1 \\\\ \\end{bmatrix*} \\right) } =\n",
    "x  \\underset{\\mathbf{u_1}}{        \\begin{bmatrix*}[r] 0 \\\\ 0 \\\\ \\end{bmatrix*}         } +\n",
    "y  \\underset{\\mathbf{u_2}}{        \\begin{bmatrix*}[r] 0 \\\\ 1 \\\\ \\end{bmatrix*}         } =\n",
    "                                   \\begin{bmatrix*}[r] 0 \\\\ y \\\\ \\end{bmatrix*}\n",
    "$"
   ]
  },
  {
   "cell_type": "markdown",
   "metadata": {},
   "source": [
    "$\n",
    "Q \\left( \\begin{bmatrix*}[r]  x \\\\ y \\\\ \\end{bmatrix*} \\right) =\n",
    "\\underset{\\mathbf{Q}}{\n",
    "\\begin{bmatrix*}[r]\n",
    "  0 & 0 \\\\\n",
    "  0 & 1 \\\\\n",
    "\\end  {bmatrix*}\n",
    "}\n",
    "\\underset{\\mathbf{x}}{\n",
    "\\begin{bmatrix*}[r] x \\\\ y \\\\ \\end{bmatrix*}\n",
    "}\n",
    "$"
   ]
  },
  {
   "cell_type": "markdown",
   "metadata": {},
   "source": [
    "Thus a point $(x, y)$ becomes $(0, y)$ when projected onto the $y$-axis."
   ]
  },
  {
   "cell_type": "markdown",
   "metadata": {},
   "source": [
    "---"
   ]
  },
  {
   "cell_type": "markdown",
   "metadata": {},
   "source": [
    "## Rotation"
   ]
  },
  {
   "cell_type": "markdown",
   "metadata": {},
   "source": [
    "---"
   ]
  },
  {
   "cell_type": "markdown",
   "metadata": {},
   "source": [
    "### Rotation by an angle $\\theta$ in the counterclockwise direction about the origin in $\\mathbb{R}^2$"
   ]
  },
  {
   "cell_type": "markdown",
   "metadata": {},
   "source": [
    "The linear transformation $R : \\mathbb{R}^2 \\to \\mathbb{R}^2$ that represents rotation by an angle $\\theta$ in the counterclockwise direction about the origin."
   ]
  },
  {
   "cell_type": "markdown",
   "metadata": {},
   "source": [
    "$\n",
    " R                          \\left( \\begin{bmatrix*}[r]            x \\\\           y \\\\ \\end{bmatrix*} \\right)   =\n",
    "xR \\underset{\\mathbf{e_1}}{ \\left( \\begin{bmatrix*}[r]            1 \\\\           0 \\\\ \\end{bmatrix*} \\right) } +\n",
    "yR \\underset{\\mathbf{e_2}}{ \\left( \\begin{bmatrix*}[r]            0 \\\\           1 \\\\ \\end{bmatrix*} \\right) } =\n",
    "x  \\underset{\\mathbf{u_1}}{        \\begin{bmatrix*}[r]  \\cos \\theta \\\\ \\sin \\theta \\\\ \\end{bmatrix*}         } +\n",
    "y  \\underset{\\mathbf{u_2}}{        \\begin{bmatrix*}[r] -\\sin \\theta \\\\ \\cos \\theta \\\\ \\end{bmatrix*}         } =\n",
    "\\begin{bmatrix*}[r]\n",
    "   x \\cos \\theta - y \\sin \\theta \\\\\n",
    "  -x \\sin \\theta + y \\cos \\theta \\\\\n",
    "\\end  {bmatrix*}\n",
    "$"
   ]
  },
  {
   "cell_type": "markdown",
   "metadata": {},
   "source": [
    "$\n",
    "R \\left( \\begin{bmatrix*}[r]  x \\\\ y \\\\ \\end{bmatrix*} \\right) =\n",
    "\\underset{\\mathbf{R}}{\n",
    "\\begin{bmatrix*}[r]\n",
    "  \\cos \\theta & -\\sin \\theta \\\\\n",
    "  \\sin \\theta &  \\cos \\theta \\\\\n",
    "\\end  {bmatrix*}\n",
    "}\n",
    "\\underset{\\mathbf{x}}{\n",
    "\\begin{bmatrix*}[r] x \\\\ y \\\\ \\end{bmatrix*}\n",
    "}\n",
    "$"
   ]
  },
  {
   "cell_type": "markdown",
   "metadata": {},
   "source": [
    "---"
   ]
  },
  {
   "cell_type": "markdown",
   "metadata": {},
   "source": [
    "## Shear"
   ]
  },
  {
   "cell_type": "markdown",
   "metadata": {},
   "source": [
    "---"
   ]
  },
  {
   "cell_type": "markdown",
   "metadata": {},
   "source": [
    "### Horizontal shear in $\\mathbb{R}^2$"
   ]
  },
  {
   "cell_type": "markdown",
   "metadata": {},
   "source": [
    "The linear transformation $S : \\mathbb{R}^2 \\to \\mathbb{R}^2$ that represents any horizontal shear."
   ]
  },
  {
   "cell_type": "markdown",
   "metadata": {},
   "source": [
    "$\n",
    " S                          \\left( \\begin{bmatrix*}[r]      x \\\\ y \\\\ \\end{bmatrix*} \\right)   =\n",
    "xS \\underset{\\mathbf{e_1}}{ \\left( \\begin{bmatrix*}[r]      1 \\\\ 0 \\\\ \\end{bmatrix*} \\right) } +\n",
    "yS \\underset{\\mathbf{e_2}}{ \\left( \\begin{bmatrix*}[r]      0 \\\\ 1 \\\\ \\end{bmatrix*} \\right) } =\n",
    "x  \\underset{\\mathbf{u_1}}{        \\begin{bmatrix*}[r]      1 \\\\ 0 \\\\ \\end{bmatrix*}         } +\n",
    "y  \\underset{\\mathbf{u_2}}{        \\begin{bmatrix*}[r]      k \\\\ 1 \\\\ \\end{bmatrix*}         } =\n",
    "                                   \\begin{bmatrix*}[r] x + ky \\\\ y \\\\ \\end{bmatrix*}\n",
    "$"
   ]
  },
  {
   "cell_type": "markdown",
   "metadata": {},
   "source": [
    "$\n",
    "S \\left( \\begin{bmatrix*}[r]  x \\\\ y \\\\ \\end{bmatrix*} \\right) =\n",
    "\\underset{\\mathbf{S}}{\n",
    "\\begin{bmatrix*}[r]\n",
    "  1 & k \\\\\n",
    "  0 & 1 \\\\\n",
    "\\end  {bmatrix*}\n",
    "}\n",
    "\\underset{\\mathbf{x}}{\n",
    "\\begin{bmatrix*}[r] x \\\\ y \\\\ \\end{bmatrix*}\n",
    "}\n",
    "$"
   ]
  },
  {
   "cell_type": "markdown",
   "metadata": {},
   "source": [
    "Thus a point $(x, y)$ becomes $(x + ky, y)$ with $k \\lt 0$ when sheared to the left and with $k \\gt 0$ when sheared to the right."
   ]
  },
  {
   "cell_type": "markdown",
   "metadata": {},
   "source": [
    "---"
   ]
  },
  {
   "cell_type": "markdown",
   "metadata": {},
   "source": [
    "### Vertical shear in $\\mathbb{R}^2$"
   ]
  },
  {
   "cell_type": "markdown",
   "metadata": {},
   "source": [
    "The linear transformation $T : \\mathbb{R}^2 \\to \\mathbb{R}^2$ that represents any vertical shear."
   ]
  },
  {
   "cell_type": "markdown",
   "metadata": {},
   "source": [
    "$\n",
    " S                          \\left( \\begin{bmatrix*}[r] x \\\\      y \\\\ \\end{bmatrix*} \\right)   =\n",
    "xS \\underset{\\mathbf{e_1}}{ \\left( \\begin{bmatrix*}[r] 1 \\\\      0 \\\\ \\end{bmatrix*} \\right) } +\n",
    "yS \\underset{\\mathbf{e_2}}{ \\left( \\begin{bmatrix*}[r] 0 \\\\      1 \\\\ \\end{bmatrix*} \\right) } =\n",
    "x  \\underset{\\mathbf{u_1}}{        \\begin{bmatrix*}[r] 1 \\\\      k \\\\ \\end{bmatrix*}         } +\n",
    "y  \\underset{\\mathbf{u_2}}{        \\begin{bmatrix*}[r] 0 \\\\      1 \\\\ \\end{bmatrix*}         } =\n",
    "                                   \\begin{bmatrix*}[r] x \\\\ kx + y \\\\ \\end{bmatrix*}\n",
    "$"
   ]
  },
  {
   "cell_type": "markdown",
   "metadata": {},
   "source": [
    "$\n",
    "S \\left( \\begin{bmatrix*}[r]  x \\\\ y \\\\ \\end{bmatrix*} \\right) =\n",
    "\\underset{\\mathbf{S}}{\n",
    "\\begin{bmatrix*}[r]\n",
    "  1 & 0 \\\\\n",
    "  k & 1 \\\\\n",
    "\\end  {bmatrix*}\n",
    "}\n",
    "\\underset{\\mathbf{x}}{\n",
    "\\begin{bmatrix*}[r] x \\\\ y \\\\ \\end{bmatrix*}\n",
    "}\n",
    "$"
   ]
  },
  {
   "cell_type": "markdown",
   "metadata": {},
   "source": [
    "Thus a point $(x, y)$ becomes $(x, kx + y)$ with $k \\lt 0$ when sheared down and with $k \\gt 0$ when sheared up."
   ]
  },
  {
   "cell_type": "markdown",
   "metadata": {},
   "source": [
    "---"
   ]
  }
 ],
 "metadata": {
  "language_info": {
   "name": "python"
  }
 },
 "nbformat": 4,
 "nbformat_minor": 2
}
