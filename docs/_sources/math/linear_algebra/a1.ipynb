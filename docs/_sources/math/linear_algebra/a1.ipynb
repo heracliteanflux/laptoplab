{
 "cells": [
  {
   "cell_type": "markdown",
   "metadata": {},
   "source": [
    "# Vectors"
   ]
  },
  {
   "cell_type": "markdown",
   "metadata": {},
   "source": [
    "---"
   ]
  },
  {
   "cell_type": "markdown",
   "metadata": {},
   "source": [
    "## Table of Contents\n",
    "```{contents}\n",
    "```"
   ]
  },
  {
   "cell_type": "markdown",
   "metadata": {},
   "source": [
    "---"
   ]
  },
  {
   "cell_type": "markdown",
   "metadata": {},
   "source": [
    "$p = (2, 3)$ is a point but $\\mathbf{p} = \\begin{bmatrix}2\\\\3\\\\\\end{bmatrix}$ (a $2 \\times 1$ matrix) is a vector in $\\mathbb{R}^2$ (two-dimensional space)\n",
    "\n",
    "$p = (3, 7, 5)$ is a point but $\\mathbf{p} = \\begin{bmatrix}3\\\\7\\\\5\\\\\\end{bmatrix}$ (a $3 \\times 1$ matrix) is a vector in $\\mathbb{R}^3$ (three dimensional space)"
   ]
  },
  {
   "cell_type": "markdown",
   "metadata": {},
   "source": [
    "<span style=\"color: #0096FF;\"><b>[ Definition ] Vector Equality</b></span>\n",
    "\n",
    "Two vectors are equal iff their corresponding entries are equal.\n",
    "\n",
    "$\\begin{bmatrix}2\\\\3\\\\\\end{bmatrix} \\ne \\begin{bmatrix}3\\\\2\\\\\\end{bmatrix}$"
   ]
  },
  {
   "cell_type": "markdown",
   "metadata": {},
   "source": [
    "<span style=\"color: #0096FF;\"><b>[ Definition ] Vector Addition</b></span>\n",
    "\n",
    "$\\begin{bmatrix}v_1\\\\v_2\\\\\\end{bmatrix} + \\begin{bmatrix}w_1\\\\w_2\\\\\\end{bmatrix} = \\begin{bmatrix}v_1+w_1\\\\v_2+w_2\\\\\\end{bmatrix}$\n",
    "\n",
    "Geometrically: parallelogram rule\n",
    "\n",
    "$\n",
    "\\begin{bmatrix}a\\\\b\\\\c\\\\\\end{bmatrix} +\n",
    "\\begin{bmatrix}\\alpha\\\\\\beta\\\\\\gamma\\\\\\end{bmatrix} =\n",
    "\\begin{bmatrix}a + \\alpha\\\\b + \\beta\\\\c + \\gamma\\\\\\end{bmatrix}\n",
    "$"
   ]
  },
  {
   "cell_type": "markdown",
   "metadata": {},
   "source": [
    "<span style=\"color: #0096FF;\"><b>[ Definition ] Multiplication of a scalar with a vector</b></span>\n",
    "\n",
    "$r\\begin{bmatrix}v_1\\\\v_2\\\\\\end{bmatrix} = \\begin{bmatrix}rv_1\\\\rv_2\\\\\\end{bmatrix}$\n",
    "\n",
    "$r\\begin{bmatrix}a\\\\b\\\\c\\\\\\end{bmatrix} = \\begin{bmatrix}ra\\\\rb\\\\rc\\\\\\end{bmatrix}$"
   ]
  },
  {
   "cell_type": "markdown",
   "metadata": {},
   "source": [
    "EXAMPLE\n",
    "\n",
    "Let $\\mathbf{u} = \\begin{bmatrix}0\\\\1\\\\\\end{bmatrix}, \\mathbf{v} = \\begin{bmatrix}3\\\\2\\\\\\end{bmatrix}, \\mathbf{w} = \\begin{bmatrix*}[r]2\\\\-1\\\\\\end{bmatrix*}$. Then the following is true.\n",
    "\n",
    "$5\\mathbf{u} = 5\\begin{bmatrix}0\\\\1\\\\\\end{bmatrix} = \\begin{bmatrix}0\\\\5\\\\\\end{bmatrix}$\n",
    "\n",
    "$2\\mathbf{v} = 2\\begin{bmatrix}3\\\\2\\\\\\end{bmatrix} = \\begin{bmatrix}6\\\\4\\\\\\end{bmatrix}$\n",
    "\n",
    "$-3\\mathbf{w} = -3\\begin{bmatrix*}[r]2\\\\-1\\\\\\end{bmatrix*} = \\begin{bmatrix*}[r]-6\\\\3\\\\\\end{bmatrix*}$\n",
    "\n",
    "$\n",
    "5\\mathbf{u} + 2\\mathbf{v} - 3\\mathbf{w}\n",
    "= \\begin{bmatrix}0\\\\5\\\\\\end{bmatrix} + \\begin{bmatrix}6\\\\4\\\\\\end{bmatrix} + \\begin{bmatrix*}[r]-6\\\\3\\\\\\end{bmatrix*}\n",
    "= \\begin{bmatrix*}[r]\n",
    "    0 & + & 6 & + & (-6) \\\\\n",
    "    5 & + & 4 & + &   3  \\\\\n",
    "  \\end  {bmatrix*}\n",
    "= \\begin{bmatrix*}[r]\n",
    "     0 \\\\\n",
    "    12 \\\\\n",
    "  \\end  {bmatrix*}\n",
    "$"
   ]
  },
  {
   "cell_type": "markdown",
   "metadata": {},
   "source": [
    "<fieldset style=\"border: 2px solid #0096FF; border-radius: 5px; display: inline-block; margin: 10px; padding: 0 20px 0 20px;\">\n",
    "<legend style=\"color: #0096FF; font-family: Romans; font-size: 18px; padding: 0 10px 0 10px;\"><b>Zero Vector</b></legend>\n",
    "\n",
    "The following vector is called the ***zero vector***.\n",
    "\n",
    "$\\mathbf{0} = \\begin{bmatrix}0\\\\0\\\\\\vdots\\\\0\\\\\\end{bmatrix}$\n",
    "\n",
    "It is the only vector of length $0$. It is unique among vectors in the fact that it does not specify a particular direction (i.e., it does not specify a particular family of parallel lines since it is contained in every line).\n",
    "\n",
    "</fieldset>"
   ]
  },
  {
   "cell_type": "markdown",
   "metadata": {},
   "source": [
    "<fieldset style=\"border: 2px solid #0096FF; border-radius: 5px; display: inline-block; margin: 10px; padding: 0 20px 0 20px;\">\n",
    "<legend style=\"color: #0096FF; font-family: Romans; font-size: 18px; padding: 0 10px 0 10px;\"><b>Properties of Vectors</b></legend>\n",
    "\n",
    "Let $\\mathbf{u, v, w}$ be vectors and let $s, t$ be scalars.\n",
    "\n",
    "Additive Associativity\n",
    "\n",
    "$\\mathbf{(u + v) + w = u + (v + w)}$\n",
    "\n",
    "Additive Commutativity\n",
    "\n",
    "$\\mathbf{v + w = w + v}$\n",
    "\n",
    "Additive Identity Element\n",
    "\n",
    "$\\mathbf{0 + v = v}$\n",
    "\n",
    "?\n",
    "\n",
    "$(-1)\\mathbf{v + v = 0}$\n",
    "\n",
    "Scalar-Multiplicative Associativity\n",
    "\n",
    "$s(t\\mathbf{v}) = (st)\\mathbf{v}$\n",
    "\n",
    "Scalar-Multiplivative Identity Element\n",
    "\n",
    "$1\\mathbf{v = v}$\n",
    "\n",
    "$s(\\mathbf{v + w}) = s\\mathbf{v} + s\\mathbf{w}$\n",
    "\n",
    "$(s + t)\\mathbf{v} = s\\mathbf{v} + t\\mathbf{v}$\n",
    "\n",
    "</fieldset>"
   ]
  },
  {
   "cell_type": "markdown",
   "metadata": {},
   "source": [
    "---"
   ]
  }
 ],
 "metadata": {
  "language_info": {
   "name": "python"
  }
 },
 "nbformat": 4,
 "nbformat_minor": 2
}
