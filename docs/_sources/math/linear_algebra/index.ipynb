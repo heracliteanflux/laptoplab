{
 "cells": [
  {
   "cell_type": "markdown",
   "metadata": {},
   "source": [
    "# Linear Algebra"
   ]
  },
  {
   "cell_type": "markdown",
   "metadata": {},
   "source": [
    "---"
   ]
  },
  {
   "cell_type": "markdown",
   "metadata": {},
   "source": [
    "## Table of Contents\n",
    "```{contents}\n",
    "```"
   ]
  },
  {
   "cell_type": "markdown",
   "metadata": {},
   "source": [
    "---"
   ]
  },
  {
   "cell_type": "markdown",
   "metadata": {},
   "source": [
    "## Sections\n",
    "```{tableofcontents}\n",
    "```"
   ]
  },
  {
   "cell_type": "markdown",
   "metadata": {},
   "source": [
    "---"
   ]
  },
  {
   "cell_type": "markdown",
   "metadata": {},
   "source": [
    "## Resources"
   ]
  },
  {
   "cell_type": "markdown",
   "metadata": {},
   "source": [
    "* George Washington University Online's \"Land on Vector Spaces: Practical Linear Algebra with Python\": https://github.com/engineersCode/EngComp4_landlinear"
   ]
  },
  {
   "cell_type": "markdown",
   "metadata": {},
   "source": [
    "* [ [RealPython](https://realpython.com/python-linear-algebra/) ] `01-23-2023` Candido, Renato. \"Linear Algebra in Python: Matrix Inverses and Least Squares\"."
   ]
  },
  {
   "cell_type": "markdown",
   "metadata": {},
   "source": [
    "### YouTube"
   ]
  },
  {
   "cell_type": "markdown",
   "metadata": {},
   "source": [
    "* [ [y](https://www.youtube.com/playlist?list=PLZHQObOWTQDPD3MizzM2xVFitgF8hE_ab) ] `------2019` 3Blue1Brown (Grant Sanderson). \"Essence of Linear Algebra\". https://www.3blue1brown.com/topics/linear-algebra\n",
    "* [ [y](https://www.youtube.com/watch?v=kZwSqZuBMGg) ] `08-14-2019` Geek's Lesson. \"Linear Algebra for Beginners | Linear algebra for machine learning\".\n",
    "* [ [y](https://www.youtube.com/watch?v=n9jZmymHX6o) ] `05-15-2024` LunarTech. \"Linear Algebra Crash Course - Mathematics for Machine Learning and Generative AI [Full 7h]\".\n",
    "* [ [y](https://www.youtube.com/watch?v=Rqv3cXt8ZNU) ] `12-01-2023` Michael Penn. \"The unreasonable effectiveness of linear algebra.\".\n",
    "* [ [y](https://www.youtube.com/channel/UCCMgenf_ppIppEJZRBwbK_g) ] `------2019` Morton, Jason. [ [Penn State's MATH 436 - Linear Algebra](http://jasonmorton.github.io/LinearAlgebra/) ]\n",
    "* [ [y](https://www.youtube.com/watch?v=6htbyY3rH1w) ] `04-08-2024` Mutual Information. \"Is the Future of Linear Algebra.. Random?\".\n",
    "* [ [y](https://www.youtube.com/watch?v=sQDFydEtBLE) ] `05-27-2021` Yuta A. \"3D Rotation & Projection using Python / Pygame\".\n",
    "* [ [y](https://www.youtube.com/watch?v=4csuTO7UTMo) ] `03-05-2020` Zach Star. \"Dear linear algebra students, This is what matrices (and matrix manipulation) really look like\"."
   ]
  },
  {
   "cell_type": "markdown",
   "metadata": {},
   "source": [
    "---"
   ]
  },
  {
   "cell_type": "markdown",
   "metadata": {},
   "source": [
    "## Figures"
   ]
  },
  {
   "cell_type": "markdown",
   "metadata": {},
   "source": [
    "\n",
    "* [ [h](https://math.mit.edu/~gs/) ][ [w](https://en.wikipedia.org/wiki/Gilbert_Strang) ] Strang, Gilbert (1934-)"
   ]
  },
  {
   "cell_type": "markdown",
   "metadata": {},
   "source": [
    "---"
   ]
  },
  {
   "cell_type": "markdown",
   "metadata": {},
   "source": [
    "## Texts"
   ]
  },
  {
   "cell_type": "markdown",
   "metadata": {},
   "source": [
    "* Aggarwal, Charu C. (2020). _Linear Algebra and Optimization for Machine Learning: A Textbook_. Springer.\n",
    "* [ [h](https://linear.axler.net) ] Axler, Sheldon. (2015). _Linear Algebra Done Right_. 3rd Ed. Springer Undergraduate Texts in Mathematics.\n",
    "* Cameron, Peter J. _Notes on Linear Algebra_.\n",
    "* [ [h](https://www.math.ucdavis.edu/~linear/) ] Cherney et al. (2016). _Linear Algebra_.\n",
    "* Golub, Gene H. & Charles F. Van Loan. (2013). _Matrix Computations_. 4th Ed. [Johns Hopkins University](https://www.press.jhu.edu/books/title/10678/matrix-computations).\n",
    "* [ [h](http://joshua.smcvt.edu/linearalgebra/#current_version) ] Hefferon, Jim. _Linear Algebra, 4th Ed_.\n",
    "* [ [h](https://codingthematrix.com/) ][ [y](https://www.youtube.com/channel/UCGVa4wp8SWGFtMe6hcdpHlg/playlists) ] Klein, Philip N. (2013). _Coding the Matrix_. Newtonian Press.\n",
    "* [ [h](https://www.math.ucdavis.edu/~anne/linear_algebra/) ] Lankham, Isaiah; Bruno Nachtergaele; & Anne Schilling. _Linear Algebra - As an Introduction to Abstract Mathematics_.\n",
    "* Lang, Serge.\n",
    "* Olver, Peter J. & Chehrzad Shakiban. (2018). _Applied Linear Algebra_. 2nd Ed. Springer Undergraduate Texts in Mathematics.\n",
    "* [ [h](https://www.math.uwaterloo.ca/~hwolkowi/matrixcookbook.pdf) ] Petersen, Kaare Brandt & Michael Syskind Pedersen. (2012). _The Matrix Cookbook_.\n",
    "* Roman, Steven. _Advanced Linear Algebra_. 3rd Ed. Springer Graduate Texts in Mathematics.\n",
    "* Shores, Thomas S. (2018). _Applied Linear Algebra and Matrix Analysis_. 2nd Ed. Springer Undergraduate Texts in Mathematics.\n",
    "* [ [h](https://math.mit.edu/~gs/linearalgebra/) ] Strang, Gilbert. (2023). _Introduction to Linear Algebra_. 6th Ed. [Wellesley-Cambridge Press](https://www.wellesleycambridge.com/).\n",
    "* [ [h](https://math.mit.edu/~gs/LectureNotes/) ][ [g](https://github.com/kenjihiranabe/The-Art-of-Linear-Algebra/tree/main) ] Strang, Gilbert. (2021). _Lecture Notes for Linear Algebra_.\n",
    "* [ [h](https://math.mit.edu/~gs/everyone/) ] Strang, Gilbert. (2020). _Linear Algebra for Everyone_. [Wellesley-Cambridge Press](https://www.wellesleycambridge.com/).\n",
    "* [ [h](https://math.mit.edu/~gs/learningfromdata/) ] Strang, Gilbert. (2019). _Linear Algebra and Learning from Data_. [Wellesley-Cambridge Press](https://www.wellesleycambridge.com/).\n",
    "* Strang, Gilbert. (2016). _Introduction to Linear Algebra, 5th Ed_.\n",
    "* [ [h](https://math.mit.edu/~gs/cse/) ] Strang, Gilbert. (2007). _Computational Science and Engineering_. [Wellesley-Cambridge Press](https://www.wellesleycambridge.com/).\n",
    "* [ [h](https://neilstrickland.github.io/linear_maths/) ] Strickland, Neil. _Linear mathematics for applications_.\n",
    "* [ [h](https://sites.google.com/a/brown.edu/sergei-treil-homepage/linear-algebra-done-wrong) ] Treil, Sergei. (2017). _Linear Algebra Done Wrong_.\n",
    "* Tsukada et al. (2023). _Linear Algebra with Python: Theory and Applications_. Springer Undergraduate Texts in Mathematics and Technology."
   ]
  },
  {
   "cell_type": "markdown",
   "metadata": {},
   "source": [
    "---"
   ]
  },
  {
   "cell_type": "markdown",
   "metadata": {},
   "source": [
    "## Terms"
   ]
  },
  {
   "cell_type": "markdown",
   "metadata": {},
   "source": [
    "* [ [w](https://en.wikipedia.org/wiki/Adjacency_matrix) ] Adjacency Matrix\n",
    "* [ [w](https://en.wikipedia.org/wiki/Array_(data_structure)) ] Array\n",
    "* [ [w](https://en.wikipedia.org/wiki/Block_matrix) ] Block Matrix\n",
    "* [ [w](https://en.wikipedia.org/wiki/Colorimetry) ] Colorimetry\n",
    "* [ [w](https://en.wikipedia.org/wiki/Row-_and_column-major_order) ] Column-Major Order\n",
    "* [ [w](https://en.wikipedia.org/wiki/Row_and_column_vectors) ] Column Vector\n",
    "* [ [w](https://en.wikipedia.org/wiki/Definite_matrix) ] Definite Matrix\n",
    "* [ [w](https://en.wikipedia.org/wiki/Diagonal_matrix) ] Diagonal Matrix\n",
    "* [ [w](https://en.wikipedia.org/wiki/Exterior_algebra) ] Exterior Algebra\n",
    "* [ [w](https://en.wikipedia.org/wiki/Gram_matrix) ] Gram Matrix\n",
    "* [ [w](https://en.wikipedia.org/wiki/Grayscale#Colorimetric_(perceptual_luminance-reserving)_conversion_to_grayscale) ] Grayscale\n",
    "* [ [w](https://en.wikipedia.org/wiki/Hermitian_matrix) ] Hermitian Matrix\n",
    "* [ [w](https://en.wikipedia.org/wiki/Hessian_matrix) ] Hessian Matrix\n",
    "* [ [w](https://en.wikipedia.org/wiki/Identity_matrix) ] Identity Matrix\n",
    "* [ [w](https://en.wikipedia.org/wiki/Incidence_matrix) ] Incidence Matrix\n",
    "* [ [w](https://en.wikipedia.org/wiki/Invertible_matrix) ] Invertible Matrix\n",
    "* [ [w](https://en.wikipedia.org/wiki/Jacobian_matrix_and_determinant) ] Jacobian Matrix\n",
    "* [ [w](https://en.wikipedia.org/wiki/Linear_algebra) ] Linear Algebra\n",
    "* [ [w](https://en.wikipedia.org/wiki/Linear_map) ] Linear Map\n",
    "* [ [w](https://en.wikipedia.org/wiki/Logical_matrix) ] Logical Matrix\n",
    "* [ [w](https://en.wikipedia.org/wiki/Matrix_(mathematics)) ] Matrix\n",
    "* [ [w](https://en.wikipedia.org/wiki/Matrix_calculus) ] Matrix Calculus\n",
    "* [ [w](https://en.wikipedia.org/wiki/Matrix_decomposition) ] Matrix Decomposition\n",
    "* [ [w](https://en.wikipedia.org/wiki/Matrix_multiplication) ] Matrix Multiplication\n",
    "* [ [w](https://en.wikipedia.org/wiki/Matrix_of_ones) ] Matrix of Ones\n",
    "* [ [w](https://en.wikipedia.org/wiki/Matrix_representation) ] Matrix Representation\n",
    "* [ [w](https://en.wikipedia.org/wiki/Matrix_representation_of_conic_sections) ] matrix representation of conic sections\n",
    "* [ [w](https://en.wikipedia.org/wiki/Multilinear_algebra) ] Multilinear Algebra\n",
    "* [ [w](https://en.wikipedia.org/wiki/Multivector) ] Multivector\n",
    "* [ [w](https://en.wikipedia.org/wiki/Rotation_(mathematics)) ] Rotation\n",
    "* [ [w](https://en.wikipedia.org/wiki/Rotation_matrix) ] Rotation Matrix\n",
    "* [ [w](https://en.wikipedia.org/wiki/Row-_and_column-major_order) ] Row-Major Order\n",
    "* [ [w](https://en.wikipedia.org/wiki/Row_and_column_vectors) ] Row Vector\n",
    "* [ [w](https://en.wikipedia.org/wiki/Singular_value) ] Singular Value\n",
    "* [ [w](https://en.wikipedia.org/wiki/Singular_value_decomposition) ] Singular Value Decomposition\n",
    "* [ [w](https://en.wikipedia.org/wiki/Sparse_matrix) ] Sparse Matrix\n",
    "* [ [w](https://en.wikipedia.org/wiki/Square_matrix) ] Square Matrix\n",
    "* [ [w](https://en.wikipedia.org/wiki/Symmetric_matrix) ] Symmetric Matrix\n",
    "* [ [w](https://en.wikipedia.org/wiki/Tensor_reshaping) ] Tensor Reshaping\n",
    "* [ [w](https://en.wikipedia.org/wiki/Transformation_matrix) ] Transformation Matrix\n",
    "* [ [w](https://en.wikipedia.org/wiki/Transpose) ] Transpose\n",
    "* [ [w](https://en.wikipedia.org/wiki/Vectorization_(mathematics)) ] Vectorization\n",
    "* [ [w](https://en.wikipedia.org/wiki/Z-order_curve) ] Z-Order Curve\n",
    "* [ [w](https://en.wikipedia.org/wiki/Zero_matrix) ] Zero Matrix"
   ]
  },
  {
   "cell_type": "markdown",
   "metadata": {},
   "source": [
    "---"
   ]
  }
 ],
 "metadata": {
  "language_info": {
   "name": "python"
  }
 },
 "nbformat": 4,
 "nbformat_minor": 2
}
