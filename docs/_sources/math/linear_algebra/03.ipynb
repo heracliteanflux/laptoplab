{
 "cells": [
  {
   "cell_type": "markdown",
   "metadata": {},
   "source": [
    "# Homogeneity of Linear Systems"
   ]
  },
  {
   "cell_type": "markdown",
   "metadata": {},
   "source": [
    "---"
   ]
  },
  {
   "cell_type": "markdown",
   "metadata": {},
   "source": [
    "## Table of Contents\n",
    "```{contents}\n",
    "```"
   ]
  },
  {
   "cell_type": "markdown",
   "metadata": {},
   "source": [
    "---"
   ]
  },
  {
   "cell_type": "markdown",
   "metadata": {},
   "source": [
    "## Definition of homogeneous linear system"
   ]
  },
  {
   "cell_type": "markdown",
   "metadata": {},
   "source": [
    "<fieldset style=\"border: 2px solid #0096FF; border-radius: 5px; display: inline-block; margin: 10px; padding: 0 20px 0 20px;\">\n",
    "<legend style=\"color: #0096FF; font-family: Romans; font-size: 18px; padding: 0 10px 0 10px;\"><b>Homogeneous Linear System</b></legend>\n",
    "\n",
    "A linear system is said to be ***homogeneous*** if it can be written in the form $\\mathbf{Ax = 0}$ where $\\mathbf{A}$ is an $m \\times n$ matrix, $\\mathbf{x} \\in \\mathbb{R}^n$ is an unknown vector, and $\\mathbf{0} \\in \\mathbb{R}^m$ is the zero vector of $\\mathbb{R}^m$.\n",
    "\n",
    "</fieldset>"
   ]
  },
  {
   "cell_type": "markdown",
   "metadata": {},
   "source": [
    "<fieldset style=\"border: 2px solid #7393B3; border-radius: 5px; display: inline-block; margin: 10px; padding: 0 20px 0 20px;\">\n",
    "<legend style=\"color: #7393B3; font-family: Romans; font-size: 18px; padding: 0 10px 0 10px;\"><b>Note</b></legend>\n",
    "\n",
    "The equation $\\mathbf{Ax = 0}$ always admits the trivial solution $\\mathbf{x = 0}$.\n",
    "\n",
    "Besides the trivial solution $\\mathbf{x = 0}$, the equation $\\mathbf{Ax = 0}$ may admit non trivial solutions:\n",
    "\n",
    "• If $\\mathbf{Ax = 0}$ admits a non trivial solution then it admits infinitely many solutions: simply multiply the non trivial solution by a scalar other than zero or one to obtain another non trivial solution.\n",
    "\n",
    "• The linear system $\\mathbf{Ax = 0}$ has non trivial solutions iff the system has at least one free variable (i.e., the system has fewer pivots than there are columns in the coefficient matrix $\\mathbf{A}$).\n",
    "\n",
    "</fieldset>"
   ]
  },
  {
   "cell_type": "markdown",
   "metadata": {},
   "source": [
    "---"
   ]
  },
  {
   "cell_type": "markdown",
   "metadata": {},
   "source": [
    "## <span style=\"color: green; font-family: Romans; font-size: 18px;\"><b>Example</b></span>"
   ]
  },
  {
   "cell_type": "markdown",
   "metadata": {},
   "source": [
    "The following linear system is homogeneous.\n",
    "\n",
    "$\n",
    "\\underset{\\mathbf{A}}{\n",
    "\\begin{bmatrix*}[r]\n",
    "  1 & 0 & 2 \\\\\n",
    "  0 & 2 & 0 \\\\\n",
    "  2 & 0 & 3 \\\\\n",
    "\\end  {bmatrix*}\n",
    "}\n",
    "\\underset{\\mathbf{x}}{\n",
    "\\begin{bmatrix*}[r]\n",
    "  x_1 \\\\ x_2 \\\\ x_3 \\\\\n",
    "\\end  {bmatrix*}\n",
    "} =\n",
    "\\underset{\\mathbf{0}}{\n",
    "\\begin{bmatrix*}[r]\n",
    "  0 \\\\ 0 \\\\ 0 \\\\\n",
    "\\end  {bmatrix*}\n",
    "}\n",
    "$"
   ]
  },
  {
   "cell_type": "markdown",
   "metadata": {},
   "source": [
    "<div class=\"full-width\">\n",
    "\n",
    "$\n",
    "\\begin{bmatrix}\n",
    "  \\boxed{1} & 0 & 2 \\\\\n",
    "          0 & 2 & 0 \\\\\n",
    "          2 & 0 & 3 \\\\\n",
    "\\end  {bmatrix}\n",
    "\\underset{r_3 \\leftarrow\\,\\,\\, r_3 + (-2)r_1}{\\rightarrow}\n",
    "\\underbrace{\n",
    "\\begin{bmatrix}\n",
    "  \\boxed{1} &         0 &          2 \\\\\n",
    "          0 & \\boxed{2} &          0 \\\\\n",
    "          0 &         0 & \\boxed{-1} \\\\\n",
    "\\end  {bmatrix}\n",
    "}_{\\textbf{row echelon}}\n",
    "\\underset{r_3 \\leftarrow\\,\\,\\, (-1)r_3}{\\rightarrow}\n",
    "\\begin{bmatrix}\n",
    "  \\boxed{1} &         0 &         2 \\\\\n",
    "          0 & \\boxed{2} &         0 \\\\\n",
    "          0 &         0 & \\boxed{1} \\\\\n",
    "\\end  {bmatrix}\n",
    "$\n",
    "\n",
    "</div>"
   ]
  },
  {
   "cell_type": "markdown",
   "metadata": {},
   "source": [
    "<div class=\"full-width\">\n",
    "\n",
    "$\n",
    "\\begin{bmatrix}\n",
    "  \\boxed{1} &         0 &         2 \\\\\n",
    "          0 & \\boxed{2} &         0 \\\\\n",
    "          0 &         0 & \\boxed{1} \\\\\n",
    "\\end  {bmatrix}\n",
    "\\underset{r_1 \\leftarrow\\,\\,\\, r_1 + (-2)r_3}{\\rightarrow}\n",
    "\\begin{bmatrix}\n",
    "  \\boxed{1} &         0 &         0 \\\\\n",
    "          0 & \\boxed{2} &         0 \\\\\n",
    "          0 &         0 & \\boxed{1} \\\\\n",
    "\\end  {bmatrix}\n",
    "\\underset{r_2 \\leftarrow\\,\\,\\, \\frac{1}{2} r_2}{\\rightarrow}\n",
    "\\underbrace{\n",
    "\\begin{bmatrix}\n",
    "  \\boxed{1} &         0 &         0 \\\\\n",
    "          0 & \\boxed{1} &         0 \\\\\n",
    "          0 &         0 & \\boxed{1} \\\\\n",
    "\\end  {bmatrix}\n",
    "}_{\\textbf{reduced}}\n",
    "$\n",
    "\n",
    "</div>"
   ]
  },
  {
   "cell_type": "markdown",
   "metadata": {},
   "source": [
    "Since the linear system has no free variable the only solution to the system is the trivial solution $\\mathbf{x = 0}$."
   ]
  },
  {
   "cell_type": "markdown",
   "metadata": {},
   "source": [
    "---"
   ]
  },
  {
   "cell_type": "markdown",
   "metadata": {},
   "source": [
    "## <span style=\"color: green; font-family: Romans; font-size: 18px;\"><b>Example</b></span>"
   ]
  },
  {
   "cell_type": "markdown",
   "metadata": {},
   "source": [
    "The following linear system is homogeneous.\n",
    "\n",
    "$\n",
    "\\underset{\\mathbf{A}}{\n",
    "\\begin{bmatrix*}[r]\n",
    "  3 & 4 & 0 \\\\\n",
    "  6 & 8 & 5 \\\\\n",
    "  0 & 0 & 7 \\\\\n",
    "\\end  {bmatrix*}\n",
    "}\n",
    "\\underset{\\mathbf{x}}{\n",
    "\\begin{bmatrix*}[r]\n",
    "  x_1 \\\\ x_2 \\\\ x_3 \\\\\n",
    "\\end  {bmatrix*}\n",
    "} =\n",
    "\\underset{\\mathbf{0}}{\n",
    "\\begin{bmatrix*}[r]\n",
    "  0 \\\\ 0 \\\\ 0 \\\\\n",
    "\\end  {bmatrix*}\n",
    "}\n",
    "$"
   ]
  },
  {
   "cell_type": "markdown",
   "metadata": {},
   "source": [
    "<div class=\"full-width\">\n",
    "\n",
    "$\n",
    "\\begin{bmatrix}\n",
    "  \\boxed{3} & 4 & 0 \\\\\n",
    "          6 & 8 & 5 \\\\\n",
    "          0 & 0 & 7 \\\\\n",
    "\\end  {bmatrix}\n",
    "\\underset{r_2 \\leftarrow\\,\\,\\, r_2 + (-2)r_1}{\\rightarrow}\n",
    "\\begin{bmatrix}\n",
    "  \\boxed{3} & 4 & 0 \\\\\n",
    "          0 & 0 & 5 \\\\\n",
    "          0 & 0 & 7 \\\\\n",
    "\\end  {bmatrix}\n",
    "\\underset{r_3 \\leftarrow\\,\\,\\, r_3 + (-\\frac{7}{5})r_2}{\\rightarrow}\n",
    "\\underbrace{\n",
    "\\begin{bmatrix}\n",
    "  \\boxed{3} & 4 &         0 \\\\\n",
    "          0 & 0 & \\boxed{5} \\\\\n",
    "          0 & 0 &         0 \\\\\n",
    "\\end  {bmatrix}\n",
    "}_{\\textbf{row echelon}}\n",
    "$\n",
    "\n",
    "</div>"
   ]
  },
  {
   "cell_type": "markdown",
   "metadata": {},
   "source": [
    "<div class=\"full-width\">\n",
    "\n",
    "$\n",
    "\\begin{bmatrix}\n",
    "  \\boxed{3} & 4 &         0 \\\\\n",
    "          0 & 0 & \\boxed{5} \\\\\n",
    "          0 & 0 &         0 \\\\\n",
    "\\end  {bmatrix}\n",
    "\\underset{r_2 \\leftarrow\\,\\,\\, \\frac{1}{5} r_2}{\\rightarrow}\n",
    "\\begin{bmatrix}\n",
    "  \\boxed{3} & 4 &         0 \\\\\n",
    "          0 & 0 & \\boxed{1} \\\\\n",
    "          0 & 0 &         0 \\\\\n",
    "\\end  {bmatrix}\n",
    "\\underset{r_1 \\leftarrow\\,\\,\\, \\frac{1}{3} r_1}{\\rightarrow}\n",
    "\\underbrace{\n",
    "\\begin{bmatrix}\n",
    "  \\boxed{1} & \\frac{4}{3} &         0 \\\\\n",
    "          0 &           0 & \\boxed{1} \\\\\n",
    "          0 &           0 &         0 \\\\\n",
    "\\end  {bmatrix}\n",
    "}_{\\textbf{reduced}}\n",
    "$\n",
    "\n",
    "</div>"
   ]
  },
  {
   "cell_type": "markdown",
   "metadata": {},
   "source": [
    "The linear system has infinitely many non trivial solutions--multiples of the vector\n",
    "\n",
    "$\n",
    "\\begin{bmatrix*}[r]\n",
    "-4 \\\\ 3 \\\\ 0 \\\\\n",
    "\\end  {bmatrix*}\n",
    "$\n",
    "\n",
    "as well as the trivial solution $\\mathbf{x = 0}$--since the system has at least one free variable."
   ]
  },
  {
   "cell_type": "markdown",
   "metadata": {},
   "source": [
    "$\n",
    "\\begin{aligned}\n",
    "x_1 + \\frac{4}{3} x_2 &= 0 && \\iff && x_1 = -\\frac{4}{3} x_2 \\\\\n",
    "& && && x_2 \\,\\,\\,\\text{free} \\\\\n",
    "& && && x_3 = 0 \\\\\n",
    "\\end  {aligned}\n",
    "$\n",
    "\n",
    "$\n",
    "\\mathbf{x} =\n",
    "  \\begin{bmatrix*}[r] -\\frac{4}{3} t \\\\ t \\\\ 0 \\\\ \\end{bmatrix*} =\n",
    "t \\begin{bmatrix*}[r] -\\frac{4}{3}   \\\\ 1 \\\\ 0 \\\\ \\end{bmatrix*}\n",
    "$"
   ]
  },
  {
   "cell_type": "markdown",
   "metadata": {},
   "source": [
    "---"
   ]
  },
  {
   "cell_type": "markdown",
   "metadata": {},
   "source": [
    "## Recipe for determining whether a homogeneous linear system has non trivial solutions"
   ]
  },
  {
   "cell_type": "markdown",
   "metadata": {},
   "source": [
    "<fieldset style=\"border: 2px solid #7393B3; border-radius: 5px; display: inline-block; margin: 10px; padding: 0 20px 0 20px;\">\n",
    "<legend style=\"color: #7393B3; font-family: Romans; font-size: 18px; padding: 0 10px 0 10px;\"><b>Recipe for determining whether a homogeneous linear system has non trivial solutions</b></legend>\n",
    "\n",
    "STEP 1 - Put the homogeneous linear system into its augmented matrix representation (the last column is a zero column).\n",
    "\n",
    "STEP 2 - Row reduce the augmented matrix until a row echelon matrix is obtained (the last column is still a zero column).\n",
    "\n",
    "STEP 3 - Identify free variables--pivot-free columns in the coefficient matrix--if any.\n",
    "\n",
    "STEP 4 - If there exists at least one free variable then there are infinitely many non trivial solutions. Otherwise, the trivial solution is the only solution.\n",
    "\n",
    "(STEP 5) - Row reduce further to obtain a reduced row echelon matrix in order to read off the non trivial solutions.\n",
    "\n",
    "</fieldset>"
   ]
  },
  {
   "cell_type": "markdown",
   "metadata": {},
   "source": [
    "---"
   ]
  },
  {
   "cell_type": "markdown",
   "metadata": {},
   "source": [
    "## <span style=\"color: green; font-family: Romans; font-size: 18px;\"><b>Example</b></span>"
   ]
  },
  {
   "cell_type": "markdown",
   "metadata": {},
   "source": [
    "PROBLEM STATEMENT\n",
    "\n",
    "Does the following linear system admit non trivial solutions?\n",
    "\n",
    "$\n",
    "\\begin{aligned}\n",
    "  x_1 && - && 2x_2 && + && 3x_3 && = && 0 \\\\\n",
    "-2x_1 && - && 3x_2 && - && 4x_3 && = && 0 \\\\\n",
    " 2x_1 && - && 4x_2 && + && 9x_3 && = && 0 \\\\\n",
    "\\end  {aligned}\n",
    "$"
   ]
  },
  {
   "cell_type": "markdown",
   "metadata": {},
   "source": [
    "ROW REDUCE"
   ]
  },
  {
   "cell_type": "markdown",
   "metadata": {},
   "source": [
    "<div class=\"full-width\">\n",
    "\n",
    "$\n",
    "\\left [\n",
    "  \\begin{matrix*}[r]\n",
    "    \\boxed{1} & -2 &  3 \\\\\n",
    "           -2 & -3 & -4 \\\\\n",
    "            2 & -4 &  9 \\\\\n",
    "  \\end  {matrix*}\n",
    "  \\left |\n",
    "    \\begin{matrix*}[r]\n",
    "      0 \\\\ 0 \\\\ 0 \\\\\n",
    "    \\end  {matrix*}\n",
    "  \\right.\n",
    "\\right]\n",
    "\\underset{r_2 \\leftarrow\\,\\,\\, r_2 + 2r_1}{\\rightarrow}\n",
    "\\left [\n",
    "  \\begin{matrix*}[r]\n",
    "    \\boxed{1} & -2 & 3 \\\\\n",
    "            0 & -7 & 2 \\\\\n",
    "            2 & -4 & 9 \\\\\n",
    "  \\end  {matrix*}\n",
    "  \\left |\n",
    "    \\begin{matrix*}[r]\n",
    "      0 \\\\ 0 \\\\ 0 \\\\\n",
    "    \\end  {matrix*}\n",
    "  \\right.\n",
    "\\right]\n",
    "\\underset{r_3 \\leftarrow\\,\\,\\, r_3 + (-2)r_1}{\\rightarrow}\n",
    "\\underbrace{\n",
    "\\left [\n",
    "  \\begin{matrix*}[r]\n",
    "    \\boxed{1} &         -2 &         3 \\\\\n",
    "            0 & \\boxed{-7} &         2 \\\\\n",
    "            0 &          0 & \\boxed{3} \\\\\n",
    "  \\end  {matrix*}\n",
    "  \\left |\n",
    "    \\begin{matrix*}[r]\n",
    "      0 \\\\ 0 \\\\ 0 \\\\\n",
    "    \\end  {matrix*}\n",
    "  \\right.\n",
    "\\right]\n",
    "}_{\\textbf{row echelon}}\n",
    "$\n",
    "\n",
    "</div>"
   ]
  },
  {
   "cell_type": "markdown",
   "metadata": {},
   "source": [
    "The linear system admits only the trivial solution $\\mathbf{x = 0}$ because the row-equivalent row echelon matrix contains no pivot-free column."
   ]
  },
  {
   "cell_type": "markdown",
   "metadata": {},
   "source": [
    "<div class=\"full-width\">\n",
    "\n",
    "$\n",
    "\\left [\n",
    "  \\begin{matrix*}[r]\n",
    "    \\boxed{1} &         -2 &         3 \\\\\n",
    "            0 & \\boxed{-7} &         2 \\\\\n",
    "            0 &          0 & \\boxed{3} \\\\\n",
    "  \\end  {matrix*}\n",
    "  \\left |\n",
    "    \\begin{matrix*}[r]\n",
    "      0 \\\\ 0 \\\\ 0 \\\\\n",
    "    \\end  {matrix*}\n",
    "  \\right.\n",
    "\\right]\n",
    "\\underset{r_3 \\leftarrow\\,\\,\\, \\frac{1}{3} r_3}{\\rightarrow}\n",
    "\\left [\n",
    "  \\begin{matrix*}[r]\n",
    "    \\boxed{1} &         -2 &         3 \\\\\n",
    "            0 & \\boxed{-7} &         2 \\\\\n",
    "            0 &          0 & \\boxed{1} \\\\\n",
    "  \\end  {matrix*}\n",
    "  \\left |\n",
    "    \\begin{matrix*}[r]\n",
    "      0 \\\\ 0 \\\\ 0 \\\\\n",
    "    \\end  {matrix*}\n",
    "  \\right.\n",
    "\\right]\n",
    "\\underset{r_2 \\leftarrow\\,\\,\\, r_2 + (-2)r_3}{\\rightarrow}\n",
    "\\left [\n",
    "  \\begin{matrix*}[r]\n",
    "    \\boxed{1} &         -2 &         3 \\\\\n",
    "            0 & \\boxed{-7} &         0 \\\\\n",
    "            0 &          0 & \\boxed{1} \\\\\n",
    "  \\end  {matrix*}\n",
    "  \\left |\n",
    "    \\begin{matrix*}[r]\n",
    "      0 \\\\ 0 \\\\ 0 \\\\\n",
    "    \\end  {matrix*}\n",
    "  \\right.\n",
    "\\right]\n",
    "$\n",
    "\n",
    "</div>"
   ]
  },
  {
   "cell_type": "markdown",
   "metadata": {},
   "source": [
    "<div class=\"full-width\">\n",
    "\n",
    "$\n",
    "\\left [\n",
    "  \\begin{matrix*}[r]\n",
    "    \\boxed{1} &         -2 &         3 \\\\\n",
    "            0 & \\boxed{-7} &         0 \\\\\n",
    "            0 &          0 & \\boxed{1} \\\\\n",
    "  \\end  {matrix*}\n",
    "  \\left |\n",
    "    \\begin{matrix*}[r]\n",
    "      0 \\\\ 0 \\\\ 0 \\\\\n",
    "    \\end  {matrix*}\n",
    "  \\right.\n",
    "\\right]\n",
    "\\underset{r_1 \\leftarrow\\,\\,\\, r_1 + (-3)r_3}{\\rightarrow}\n",
    "\\left [\n",
    "  \\begin{matrix*}[r]\n",
    "    \\boxed{1} &         -2 &         0 \\\\\n",
    "            0 & \\boxed{-7} &         0 \\\\\n",
    "            0 &          0 & \\boxed{1} \\\\\n",
    "  \\end  {matrix*}\n",
    "  \\left |\n",
    "    \\begin{matrix*}[r]\n",
    "      0 \\\\ 0 \\\\ 0 \\\\\n",
    "    \\end  {matrix*}\n",
    "  \\right.\n",
    "\\right]\n",
    "\\underset{r_2 \\leftarrow\\,\\,\\, (-\\frac{1}{7})r_2}{\\rightarrow}\n",
    "\\left [\n",
    "  \\begin{matrix*}[r]\n",
    "    \\boxed{1} &        -2 &         0 \\\\\n",
    "            0 & \\boxed{1} &         0 \\\\\n",
    "            0 &         0 & \\boxed{1} \\\\\n",
    "  \\end  {matrix*}\n",
    "  \\left |\n",
    "    \\begin{matrix*}[r]\n",
    "      0 \\\\ 0 \\\\ 0 \\\\\n",
    "    \\end  {matrix*}\n",
    "  \\right.\n",
    "\\right]\n",
    "$\n",
    "\n",
    "</div>"
   ]
  },
  {
   "cell_type": "markdown",
   "metadata": {},
   "source": [
    "<div class=\"full-width\">\n",
    "\n",
    "$\n",
    "\\left [\n",
    "  \\begin{matrix*}[r]\n",
    "    \\boxed{1} &        -2 &         0 \\\\\n",
    "            0 & \\boxed{1} &         0 \\\\\n",
    "            0 &         0 & \\boxed{1} \\\\\n",
    "  \\end  {matrix*}\n",
    "  \\left |\n",
    "    \\begin{matrix*}[r]\n",
    "      0 \\\\ 0 \\\\ 0 \\\\\n",
    "    \\end  {matrix*}\n",
    "  \\right.\n",
    "\\right]\n",
    "\\underset{r_1 \\leftarrow\\,\\,\\, r_1 + 2r_2}{\\rightarrow}\n",
    "\\underbrace{\n",
    "\\left [\n",
    "  \\begin{matrix*}[r]\n",
    "    \\boxed{1} &         0 &         0 \\\\\n",
    "            0 & \\boxed{1} &         0 \\\\\n",
    "            0 &         0 & \\boxed{1} \\\\\n",
    "  \\end  {matrix*}\n",
    "  \\left |\n",
    "    \\begin{matrix*}[r]\n",
    "      0 \\\\ 0 \\\\ 0 \\\\\n",
    "    \\end  {matrix*}\n",
    "  \\right.\n",
    "\\right]\n",
    "}_{\\textbf{reduced}}\n",
    "$\n",
    "\n",
    "</div>"
   ]
  },
  {
   "cell_type": "markdown",
   "metadata": {},
   "source": [
    "In geometric terms, the solution set consists of a single point: the origin of $\\mathbb{R}^3$."
   ]
  },
  {
   "cell_type": "markdown",
   "metadata": {},
   "source": [
    "---"
   ]
  },
  {
   "cell_type": "markdown",
   "metadata": {},
   "source": [
    "## <span style=\"color: green; font-family: Romans; font-size: 18px;\"><b>Example</b></span>"
   ]
  },
  {
   "cell_type": "markdown",
   "metadata": {},
   "source": [
    "PROBLEM STATEMENT\n",
    "\n",
    "Does the following linear system admit non trivial solutions?\n",
    "\n",
    "$\n",
    "\\begin{aligned}\n",
    "  2x_1 && + && 4x_2 && - &&  6x_3 && = && 0 \\\\\n",
    "  4x_1 && + && 8x_2 && - && 10x_3 && = && 0 \\\\\n",
    "\\end  {aligned}\n",
    "$"
   ]
  },
  {
   "cell_type": "markdown",
   "metadata": {},
   "source": [
    "ROW REDUCE"
   ]
  },
  {
   "cell_type": "markdown",
   "metadata": {},
   "source": [
    "<div class=\"full-width\">\n",
    "\n",
    "$\n",
    "\\left [\n",
    "  \\begin{matrix*}[r]\n",
    "    \\boxed{2} & 4 &  -6 \\\\\n",
    "            4 & 8 & -10 \\\\\n",
    "  \\end  {matrix*}\n",
    "  \\left |\n",
    "    \\begin{matrix*}[r]\n",
    "      0 \\\\ 0 \\\\\n",
    "    \\end  {matrix*}\n",
    "  \\right.\n",
    "\\right]\n",
    "\\underset{r_2 \\leftarrow\\,\\,\\, r_2 + (-2)r_1}{\\rightarrow}\n",
    "\\underbrace{\n",
    "\\left [\n",
    "  \\begin{matrix*}[r]\n",
    "    \\boxed{2} & 4 &        -6 \\\\\n",
    "            0 & 0 & \\boxed{2} \\\\\n",
    "  \\end  {matrix*}\n",
    "  \\left |\n",
    "    \\begin{matrix*}[r]\n",
    "      0 \\\\ 0 \\\\\n",
    "    \\end  {matrix*}\n",
    "  \\right.\n",
    "\\right]\n",
    "}_{\\textbf{row echelon}}\n",
    "\\underset{r_2 \\leftarrow\\,\\,\\, \\frac{1}{2} r_2}{\\rightarrow}\n",
    "\\left [\n",
    "  \\begin{matrix*}[r]\n",
    "    \\boxed{2} & 4 &        -6 \\\\\n",
    "            0 & 0 & \\boxed{1} \\\\\n",
    "  \\end  {matrix*}\n",
    "  \\left |\n",
    "    \\begin{matrix*}[r]\n",
    "      0 \\\\ 0 \\\\\n",
    "    \\end  {matrix*}\n",
    "  \\right.\n",
    "\\right]\n",
    "$\n",
    "\n",
    "</div>"
   ]
  },
  {
   "cell_type": "markdown",
   "metadata": {},
   "source": [
    "The linear system admits infinitely many non trivial solutions because the row-equivalent row echelon matrix contains at least one pivot-free column."
   ]
  },
  {
   "cell_type": "markdown",
   "metadata": {},
   "source": [
    "<div class=\"full-width\">\n",
    "\n",
    "$\n",
    "\\left [\n",
    "  \\begin{matrix*}[r]\n",
    "    \\boxed{2} & 4 &        -6 \\\\\n",
    "            0 & 0 & \\boxed{1} \\\\\n",
    "  \\end  {matrix*}\n",
    "  \\left |\n",
    "    \\begin{matrix*}[r]\n",
    "      0 \\\\ 0 \\\\\n",
    "    \\end  {matrix*}\n",
    "  \\right.\n",
    "\\right]\n",
    "\\underset{r_1 \\leftarrow\\,\\,\\, r_1 + 6r_2}{\\rightarrow}\n",
    "\\left [\n",
    "  \\begin{matrix*}[r]\n",
    "    \\boxed{2} & 4 &         0 \\\\\n",
    "            0 & 0 & \\boxed{1} \\\\\n",
    "  \\end  {matrix*}\n",
    "  \\left |\n",
    "    \\begin{matrix*}[r]\n",
    "      0 \\\\ 0 \\\\\n",
    "    \\end  {matrix*}\n",
    "  \\right.\n",
    "\\right]\n",
    "\\underset{r_1 \\leftarrow\\,\\,\\, \\frac{1}{2} r_1}{\\rightarrow}\n",
    "\\underbrace{\n",
    "\\left [\n",
    "  \\begin{matrix*}[r]\n",
    "    \\boxed{1} & 2 &         0 \\\\\n",
    "            0 & 0 & \\boxed{1} \\\\\n",
    "  \\end  {matrix*}\n",
    "  \\left |\n",
    "    \\begin{matrix*}[r]\n",
    "      0 \\\\ 0 \\\\\n",
    "    \\end  {matrix*}\n",
    "  \\right.\n",
    "\\right]\n",
    "}_{\\textbf{reduced}}\n",
    "$\n",
    "\n",
    "</div>"
   ]
  },
  {
   "cell_type": "markdown",
   "metadata": {},
   "source": [
    "$\n",
    "\\begin{aligned}\n",
    "x_1 + 2x_2 &= 0 && \\iff && x_1 = -2x_2 \\\\\n",
    "& && && x_2 \\,\\,\\,\\text{free} \\\\\n",
    "& && && x_3 = 0 \\\\\n",
    "\\end  {aligned}\n",
    "$\n",
    "\n",
    "$\n",
    "\\mathbf{x} =\n",
    "\\begin{bmatrix*}[r] -2t \\\\ t \\\\ 0 \\\\ \\end{bmatrix*} =\n",
    "t\\begin{bmatrix*}[r] -2 \\\\ 1 \\\\ 0 \\\\ \\end{bmatrix*}\n",
    "$"
   ]
  },
  {
   "cell_type": "markdown",
   "metadata": {},
   "source": [
    "In geometric terms, the solution set is a line through the origin\n",
    "\n",
    "$\n",
    "\\text{span}\n",
    "\\left \\{\n",
    "  \\begin{bmatrix*}[r]\n",
    "    -2 \\\\ 1 \\\\ 0 \\\\\n",
    "  \\end  {bmatrix*}\n",
    "\\right\\}\n",
    "$"
   ]
  },
  {
   "cell_type": "markdown",
   "metadata": {},
   "source": [
    "---"
   ]
  },
  {
   "cell_type": "markdown",
   "metadata": {},
   "source": [
    "## <span style=\"color: green; font-family: Romans; font-size: 18px;\"><b>Example</b></span>"
   ]
  },
  {
   "cell_type": "markdown",
   "metadata": {},
   "source": [
    "PROBLEM STATEMENT\n",
    "\n",
    "Does the following linear system admit non trivial solutions?\n",
    "\n",
    "$\n",
    "\\begin{aligned}\n",
    "  x_1 && - && 4x_2 && - && x_3 && = && 0 \\\\\n",
    "\\end  {aligned}\n",
    "$"
   ]
  },
  {
   "cell_type": "markdown",
   "metadata": {},
   "source": [
    "ROW REDUCE"
   ]
  },
  {
   "cell_type": "markdown",
   "metadata": {},
   "source": [
    "<div class=\"full-width\">\n",
    "\n",
    "$\n",
    "\\underbrace{\n",
    "\\left [\n",
    "  \\begin{matrix*}[r]\n",
    "    \\boxed{1} & -4 & -1 \\\\\n",
    "  \\end  {matrix*}\n",
    "  \\left |\n",
    "    \\begin{matrix*}[r]\n",
    "      0 \\\\\n",
    "    \\end  {matrix*}\n",
    "  \\right.\n",
    "\\right]\n",
    "}_{\\textbf{reduced row echelon}}\n",
    "$\n",
    "\n",
    "</div>"
   ]
  },
  {
   "cell_type": "markdown",
   "metadata": {},
   "source": [
    "The linear system admits infinitely many non trivial solutions because the row-equivalent row echelon matrix contains at least one pivot-free column."
   ]
  },
  {
   "cell_type": "markdown",
   "metadata": {},
   "source": [
    "$\n",
    "\\begin{aligned}\n",
    "x_1 - 4x_2 - x_3 &= 0 && \\iff && x_1 = 4x_2 + x_3 \\\\\n",
    "& && && x_2 \\,\\,\\,\\text{free} \\\\\n",
    "& && && x_3 \\,\\,\\,\\text{free} \\\\\n",
    "\\end  {aligned}\n",
    "$\n",
    "\n",
    "$\n",
    "\\mathbf{x} =\n",
    "  \\begin{bmatrix*}[r] 4s + t \\\\ s \\\\ t \\\\ \\end{bmatrix*} =\n",
    "  \\begin{bmatrix*}[r] 4s     \\\\ s \\\\ 0 \\\\ \\end{bmatrix*} +\n",
    "  \\begin{bmatrix*}[r]  t     \\\\ 0 \\\\ t \\\\ \\end{bmatrix*} =\n",
    "s \\begin{bmatrix*}[r] 4      \\\\ 1 \\\\ 0 \\\\ \\end{bmatrix*} +\n",
    "t \\begin{bmatrix*}[r] 1      \\\\ 0 \\\\ 1 \\\\ \\end{bmatrix*}\n",
    "$"
   ]
  },
  {
   "cell_type": "markdown",
   "metadata": {},
   "source": [
    "In geometric terms, the solution set is a plane through the origin\n",
    "\n",
    "$\n",
    "\\text{span}\n",
    "\\left \\{\n",
    "  \\begin{bmatrix*}[r]\n",
    "    4 \\\\ 1 \\\\ 0 \\\\\n",
    "  \\end  {bmatrix*},\n",
    "  \\begin{bmatrix*}[r]\n",
    "      1 \\\\ 0 \\\\ 1 \\\\\n",
    "  \\end  {bmatrix*}\n",
    "\\right\\}\n",
    "$"
   ]
  },
  {
   "cell_type": "markdown",
   "metadata": {},
   "source": [
    "---"
   ]
  },
  {
   "cell_type": "markdown",
   "metadata": {},
   "source": [
    "## Describing solution sets with parametric vectors"
   ]
  },
  {
   "cell_type": "markdown",
   "metadata": {},
   "source": [
    "***Parametric vectors*** can be used to describe solution sets containing more than a single solution. For example:\n",
    "\n",
    "$\\mathbf{x} = s\\mathbf{u} + t\\mathbf{v}$ where $\\mathbf{u, v}$ are two solutions and $s, t \\in \\mathbb{R}$ are parameters."
   ]
  },
  {
   "cell_type": "markdown",
   "metadata": {},
   "source": [
    "---"
   ]
  },
  {
   "cell_type": "markdown",
   "metadata": {},
   "source": [
    "## Theorem"
   ]
  },
  {
   "cell_type": "markdown",
   "metadata": {},
   "source": [
    "<fieldset style=\"border: 2px solid #0096FF; border-radius: 5px; display: inline-block; margin: 10px; padding: 0 20px 0 20px;\">\n",
    "<legend style=\"color: #0096FF; font-family: Romans; font-size: 18px; padding: 0 10px 0 10px;\"><b>Theorem</b></legend>\n",
    "\n",
    "1\\. Every homogeneous linear system $\\mathbf{Ax = b}$ admits the trivial solution $\\mathbf{x = 0}$. (Besides the trivial solution and depending on its coefficient matrix a homogeneous linear system may admit non trivial solutions.)\n",
    "\n",
    "2\\. If $\\mathbf{u, v}$ are two solutions of the homogeneous linear system $\\mathbf{Ax = b}$ then $\\mathbf{u + v}$ is also a solution of the system.\n",
    "\n",
    "3\\. If $\\mathbf{u}$ is a solution of the homogeneous linear system $\\mathbf{Ax = b}$ and $c$ is a scalar then $c\\mathbf{u}$ is also a solution of the system.\n",
    "\n",
    "</fieldset>"
   ]
  },
  {
   "cell_type": "markdown",
   "metadata": {},
   "source": [
    "<fieldset style=\"border: 2px solid #7393B3; border-radius: 5px; display: inline-block; margin: 10px; padding: 0 20px 0 20px;\">\n",
    "<legend style=\"color: #7393B3; font-family: Romans; font-size: 18px; padding: 0 10px 0 10px;\"><b>Proof</b></legend>\n",
    "\n",
    "1\\. $\\mathbf{A0 = 0}$\n",
    "\n",
    "2\\. $\\mathbf{A(u + v) = Au + Av = 0 + 0 = 0}$\n",
    "\n",
    "3\\. $\\mathbf{A}(c\\mathbf{u}) = c\\mathbf{Au} = c\\mathbf{0} = \\mathbf{0}$\n",
    "\n",
    "</fieldset>"
   ]
  },
  {
   "cell_type": "markdown",
   "metadata": {},
   "source": [
    "<fieldset style=\"border: 2px solid #0096FF; border-radius: 5px; display: inline-block; margin: 10px; padding: 0 20px 0 20px;\">\n",
    "<legend style=\"color: #0096FF; font-family: Romans; font-size: 18px; padding: 0 10px 0 10px;\"><b>Corollary</b></legend>\n",
    "\n",
    "For a homogeneous linear system any linear combination of solutions is itself a solution.\n",
    "\n",
    "</fieldset>"
   ]
  },
  {
   "cell_type": "markdown",
   "metadata": {},
   "source": [
    "<fieldset style=\"border: 2px solid #0096FF; border-radius: 5px; display: inline-block; margin: 10px; padding: 0 20px 0 20px;\">\n",
    "<legend style=\"color: #0096FF; font-family: Romans; font-size: 18px; padding: 0 10px 0 10px;\"><b>Corollary</b></legend>\n",
    "\n",
    "The solution set of a homogenous linear system is either\n",
    "\n",
    "$\\{\\mathbf{0}\\}$\n",
    "\n",
    "if there is no free variable or the linear span\n",
    "\n",
    "$\\text{span}\\{\\mathbf{u, v, \\dots, w}\\}$\n",
    "\n",
    "of a number of vectors if there is at least one free variable.\n",
    "\n",
    "</fieldset>"
   ]
  },
  {
   "cell_type": "markdown",
   "metadata": {},
   "source": [
    "<fieldset style=\"border: 2px solid #7393B3; border-radius: 5px; display: inline-block; margin: 10px; padding: 0 20px 0 20px;\">\n",
    "<legend style=\"color: #7393B3; font-family: Romans; font-size: 18px; padding: 0 10px 0 10px;\"><b>Note</b></legend>\n",
    "\n",
    "$\\text{span}\\{\\mathbf{0}\\} = \\{\\mathbf{0}\\}$\n",
    "\n",
    "</fieldset>"
   ]
  },
  {
   "cell_type": "markdown",
   "metadata": {},
   "source": [
    "---"
   ]
  },
  {
   "cell_type": "markdown",
   "metadata": {},
   "source": [
    "## Definition of non homogeneous linear system"
   ]
  },
  {
   "cell_type": "markdown",
   "metadata": {},
   "source": [
    "<fieldset style=\"border: 2px solid #0096FF; border-radius: 5px; display: inline-block; margin: 10px; padding: 0 20px 0 20px;\">\n",
    "<legend style=\"color: #0096FF; font-family: Romans; font-size: 18px; padding: 0 10px 0 10px;\"><b>Nonhomogeneous Linear System</b></legend>\n",
    "\n",
    "A linear system is said to be ***non homogeneous*** if it can be written in the form $\\mathbf{Ax = b}$ where $\\mathbf{A}$ is an $m \\times n$ matrix, $\\mathbf{x} \\in \\mathbb{R}^n$ is an unknown vector, and $\\mathbf{b} \\in \\mathbb{R}^m$ is a non zero vector of $\\mathbb{R}^m$.\n",
    "\n",
    "</fieldset>"
   ]
  },
  {
   "cell_type": "markdown",
   "metadata": {},
   "source": [
    "<fieldset style=\"border: 2px solid #7393B3; border-radius: 5px; display: inline-block; margin: 10px; padding: 0 20px 0 20px;\">\n",
    "<legend style=\"color: #7393B3; font-family: Romans; font-size: 18px; padding: 0 10px 0 10px;\"><b>Note</b></legend>\n",
    "\n",
    "The solution set of a non homogeneous linear system cannot contain the zero vector.\n",
    "\n",
    "To see why, let the zero vector be a solution the non homogenous linear system $\\mathbf{Ax = b}$\n",
    "\n",
    "$\n",
    "\\underbrace{\n",
    "\\begin{bmatrix*}[r]\n",
    "  a_{11} & a_{12} &  \\dots & a_{1n} \\\\\n",
    "  a_{21} & a_{22} &  \\dots & a_{2n} \\\\\n",
    "  \\vdots & \\vdots & \\ddots & \\vdots \\\\\n",
    "  a_{m1} & a_{m2} &  \\dots & a_{mn} \\\\\n",
    "\\end  {bmatrix*}\n",
    "}_{\\mathbf{A}}\n",
    "\\underbrace{\n",
    "\\begin{bmatrix} 0 \\\\ 0 \\\\ \\vdots \\\\ 0 \\\\ \\end{bmatrix}\n",
    "}_{\\mathbf{x}} =\n",
    "0 \\begin{bmatrix*}[r] a_{11} \\\\ a_{12} \\\\ \\vdots \\\\ a_{1n} \\\\ \\end{bmatrix*} +\n",
    "0 \\begin{bmatrix*}[r] a_{21} \\\\ a_{22} \\\\ \\vdots \\\\ a_{2n} \\\\ \\end{bmatrix*} +\n",
    "\\dots +\n",
    "0 \\begin{bmatrix*}[r] a_{m1} \\\\ a_{m2} \\\\ \\vdots \\\\ a_{mn} \\\\ \\end{bmatrix*} =\n",
    "\\begin{bmatrix*}[r] 0 \\\\ 0 \\\\ \\vdots \\\\ 0 \\\\ \\end{bmatrix*} +\n",
    "\\begin{bmatrix*}[r] 0 \\\\ 0 \\\\ \\vdots \\\\ 0 \\\\ \\end{bmatrix*} +\n",
    "\\dots +\n",
    "\\begin{bmatrix*}[r] 0 \\\\ 0 \\\\ \\vdots \\\\ 0 \\\\ \\end{bmatrix*} =\n",
    "\\underbrace{\n",
    "\\begin{bmatrix*}[r] 0 \\\\ 0 \\\\ \\vdots \\\\ 0 \\\\ \\end{bmatrix*}\n",
    "}_{\\mathbf{b}}\n",
    "$\n",
    "\n",
    "This doesn't work because vector $\\mathbf{b}$ by definition is non zero.\n",
    "\n",
    "</fieldset>"
   ]
  },
  {
   "cell_type": "markdown",
   "metadata": {},
   "source": [
    "---"
   ]
  },
  {
   "cell_type": "markdown",
   "metadata": {},
   "source": [
    "## Theorem"
   ]
  },
  {
   "cell_type": "markdown",
   "metadata": {},
   "source": [
    "<fieldset style=\"border: 2px solid #0096FF; border-radius: 5px; display: inline-block; margin: 10px; padding: 0 20px 0 20px;\">\n",
    "<legend style=\"color: #0096FF; font-family: Romans; font-size: 18px; padding: 0 10px 0 10px;\"><b>Theorem</b></legend>\n",
    "\n",
    "1\\. The solution set of a non homogeneous linear system $\\mathbf{Ax = b}$ does not contain the zero vector.\n",
    "\n",
    "2\\. If $\\mathbf{p, q}$ are two distinct solutions of a non homogeneous linear system $\\mathbf{Ax = b}$ then their difference $\\mathbf{q - p}$ is a non trivial solution of the homogeneous linear system $\\mathbf{Ax = 0}$ (sharing the same coefficient matrix $\\mathbf{A}$).\n",
    "\n",
    "3\\. If a linear system $\\mathbf{Ax = b}$ admits two distinct solutions $\\mathbf{p, q}$ then the system $\\mathbf{Ax = b}$ actually admits infinitely many solutions.\n",
    "\n",
    "</fieldset>"
   ]
  },
  {
   "cell_type": "markdown",
   "metadata": {},
   "source": [
    "<fieldset style=\"border: 2px solid #7393B3; border-radius: 5px; display: inline-block; margin: 10px; padding: 0 20px 0 20px;\">\n",
    "<legend style=\"color: #7393B3; font-family: Romans; font-size: 18px; padding: 0 10px 0 10px;\"><b>Proof</b></legend>\n",
    "\n",
    "1\\. $\\mathbf{A0 = 0 \\ne b}$\n",
    "\n",
    "2\\. <span style=\"color: #FFC300;\">\n",
    "$\\mathbf{A(q - p)}$\n",
    "</span>\n",
    "$\\mathbf{= Aq - Ap = b - b = 0}$\n",
    "\n",
    "3\\. $\\forall t \\in \\mathbb{R}$ the vector $\\mathbf{p} + t(\\mathbf{q - p})$ is a solution of the non homogeneous linear system $\\mathbf{Ax = b}$:\n",
    "\n",
    "$\n",
    "\\mathbf{A}(\\mathbf{p} + t(\\mathbf{q - p})) =\n",
    "\\mathbf{Ap} + t\\mathbf{A(q - p)} =\n",
    "\\mathbf{b} + t\\mathbf{0} =\n",
    "\\mathbf{b}\n",
    "$\n",
    "\n",
    "</fieldset>"
   ]
  },
  {
   "cell_type": "markdown",
   "metadata": {},
   "source": [
    "<fieldset style=\"border: 2px solid #0096FF; border-radius: 5px; display: inline-block; margin: 10px; padding: 0 20px 0 20px;\">\n",
    "<legend style=\"color: #0096FF; font-family: Romans; font-size: 18px; padding: 0 10px 0 10px;\"><b>Corollary</b></legend>\n",
    "\n",
    "A non homogeneous linear system $\\mathbf{Ax = b}$ has\n",
    "\n",
    "either no solution\n",
    "\n",
    "or one, unique (necessarily non trivial) solution\n",
    "\n",
    "or infinitely many solutions which can be written in parametric vector form\n",
    "\n",
    "$\\mathbf{p} + r\\mathbf{u} + s\\mathbf{v} + \\dots + t\\mathbf{w}$\n",
    "\n",
    "where $\\mathbf{p}$ is a particular (necessarily non trivial) solution of the non homogeneous linear system $\\mathbf{Ax = b}$ and $r\\mathbf{u} + s\\mathbf{v} + \\dots + t\\mathbf{w}$ is the solution set of the associated homogeneous linear system $\\mathbf{Ax = 0}$ (sharing the same coefficient matrix $\\mathbf{A}$) in parametric vector form\n",
    "\n",
    "</fieldset>"
   ]
  },
  {
   "cell_type": "markdown",
   "metadata": {},
   "source": [
    "---"
   ]
  },
  {
   "cell_type": "markdown",
   "metadata": {},
   "source": [
    "## <span style=\"color: green; font-family: Romans; font-size: 18px;\"><b>Example</b></span>"
   ]
  },
  {
   "cell_type": "markdown",
   "metadata": {},
   "source": [
    "PROBLEM STATEMENT\n",
    "\n",
    "Describe the solution set of the following linear system in parametric vector form.\n",
    "\n",
    "$\n",
    "\\begin{aligned}\n",
    "2x_1 && + && 4x_2 && - && 6x_3 && = &&  0 \\\\\n",
    "3x_1 && + && 6x_2 && - && 9x_3 && = && -3 \\\\\n",
    "\\end  {aligned}\n",
    "$"
   ]
  },
  {
   "cell_type": "markdown",
   "metadata": {},
   "source": [
    "HOMOGENEITY\n",
    "\n",
    "The linear system is non homogeneous $\\mathbf{Ax = b}$."
   ]
  },
  {
   "cell_type": "markdown",
   "metadata": {},
   "source": [
    "ROW REDUCE"
   ]
  },
  {
   "cell_type": "markdown",
   "metadata": {},
   "source": [
    "$\n",
    "\\left [\n",
    "  \\begin{matrix*}[r]\n",
    "    \\boxed{2} & 4 & -6 \\\\\n",
    "            3 & 6 & -9 \\\\\n",
    "  \\end  {matrix*}\n",
    "  \\left |\n",
    "    \\begin{matrix*}[r]\n",
    "       0 \\\\\n",
    "      -3 \\\\\n",
    "    \\end  {matrix*}\n",
    "  \\right.\n",
    "\\right]\n",
    "\\underset{r_2 \\leftarrow\\,\\,\\, r_2 + (-\\frac{3}{2})r_1}{\\rightarrow}\n",
    "\\underbrace{\n",
    "\\left [\n",
    "  \\begin{matrix*}[r]\n",
    "    \\boxed{2} & 4 & -6 \\\\\n",
    "            0 & 0 &  0 \\\\\n",
    "  \\end  {matrix*}\n",
    "  \\left |\n",
    "    \\begin{matrix*}[r]\n",
    "               0 \\\\\n",
    "      \\boxed{-3} \\\\\n",
    "    \\end  {matrix*}\n",
    "  \\right.\n",
    "\\right]\n",
    "}_{\\textbf{row echelon}}\n",
    "$"
   ]
  },
  {
   "cell_type": "markdown",
   "metadata": {},
   "source": [
    "CONSISTENCY\n",
    "\n",
    "The linear system is inconsistent and so has no solution."
   ]
  },
  {
   "cell_type": "markdown",
   "metadata": {},
   "source": [
    "---"
   ]
  },
  {
   "cell_type": "markdown",
   "metadata": {},
   "source": [
    "## <span style=\"color: green; font-family: Romans; font-size: 18px;\"><b>Example</b></span>"
   ]
  },
  {
   "cell_type": "markdown",
   "metadata": {},
   "source": [
    "PROBLEM STATEMENT\n",
    "\n",
    "Describe the solution set of the following linear system in parametric vector form.\n",
    "\n",
    "$\n",
    "\\begin{aligned}\n",
    "2x_1 && + && 4x_2 && - &&  6x_3 && = && 0 \\\\\n",
    "4x_1 && + && 8x_2 && - && 10x_3 && = && 4 \\\\\n",
    "\\end  {aligned}\n",
    "$"
   ]
  },
  {
   "cell_type": "markdown",
   "metadata": {},
   "source": [
    "HOMOGENEITY\n",
    "\n",
    "The linear system is non homogeneous $\\mathbf{Ax = b}$."
   ]
  },
  {
   "cell_type": "markdown",
   "metadata": {},
   "source": [
    "ROW REDUCE"
   ]
  },
  {
   "cell_type": "markdown",
   "metadata": {},
   "source": [
    "<div class=\"full-width\">\n",
    "\n",
    "$\n",
    "\\left [\n",
    "  \\begin{matrix*}[r]\n",
    "    \\boxed{2} & 4 &  -6 \\\\\n",
    "            4 & 8 & -10 \\\\\n",
    "  \\end  {matrix*}\n",
    "  \\left |\n",
    "    \\begin{matrix*}[r]\n",
    "      0 \\\\\n",
    "      4 \\\\\n",
    "    \\end  {matrix*}\n",
    "  \\right.\n",
    "\\right]\n",
    "\\underset{r_2 \\leftarrow\\,\\,\\, r_2 + (-2)r_1}{\\rightarrow}\n",
    "\\underbrace{\n",
    "\\left [\n",
    "  \\begin{matrix*}[r]\n",
    "    \\boxed{2} & 4 &        -6 \\\\\n",
    "            0 & 0 & \\boxed{2} \\\\\n",
    "  \\end  {matrix*}\n",
    "  \\left |\n",
    "    \\begin{matrix*}[r]\n",
    "      0 \\\\\n",
    "      4 \\\\\n",
    "    \\end  {matrix*}\n",
    "  \\right.\n",
    "\\right]\n",
    "}_{\\textbf{row echelon}}\n",
    "\\underset{r_2 \\leftarrow\\,\\,\\, \\frac{1}{2} r_2}{\\rightarrow}\n",
    "\\left [\n",
    "  \\begin{matrix*}[r]\n",
    "    \\boxed{2} & 4 &        -6 \\\\\n",
    "            0 & 0 & \\boxed{1} \\\\\n",
    "  \\end  {matrix*}\n",
    "  \\left |\n",
    "    \\begin{matrix*}[r]\n",
    "      0 \\\\\n",
    "      2 \\\\\n",
    "    \\end  {matrix*}\n",
    "  \\right.\n",
    "\\right]\n",
    "$\n",
    "\n",
    "</div>"
   ]
  },
  {
   "cell_type": "markdown",
   "metadata": {},
   "source": [
    "<div class=\"full-width\">\n",
    "\n",
    "$\n",
    "\\left [\n",
    "  \\begin{matrix*}[r]\n",
    "    \\boxed{2} & 4 &        -6 \\\\\n",
    "            0 & 0 & \\boxed{1} \\\\\n",
    "  \\end  {matrix*}\n",
    "  \\left |\n",
    "    \\begin{matrix*}[r]\n",
    "      0 \\\\\n",
    "      2 \\\\\n",
    "    \\end  {matrix*}\n",
    "  \\right.\n",
    "\\right]\n",
    "\\underset{r_1 \\leftarrow\\,\\,\\, r_1 + 6r_2}{\\rightarrow}\n",
    "\\left [\n",
    "  \\begin{matrix*}[r]\n",
    "    \\boxed{2} & 4 &         0 \\\\\n",
    "            0 & 0 & \\boxed{1} \\\\\n",
    "  \\end  {matrix*}\n",
    "  \\left |\n",
    "    \\begin{matrix*}[r]\n",
    "      12 \\\\\n",
    "       2 \\\\\n",
    "    \\end  {matrix*}\n",
    "  \\right.\n",
    "\\right]\n",
    "\\underset{r_1 \\leftarrow\\,\\,\\, \\frac{1}{2} r_1}{\\rightarrow}\n",
    "\\underbrace{\n",
    "\\left [\n",
    "  \\begin{matrix*}[r]\n",
    "    \\boxed{1} & 2 &         0 \\\\\n",
    "            0 & 0 & \\boxed{1} \\\\\n",
    "  \\end  {matrix*}\n",
    "  \\left |\n",
    "    \\begin{matrix*}[r]\n",
    "      6 \\\\\n",
    "      2 \\\\\n",
    "    \\end  {matrix*}\n",
    "  \\right.\n",
    "\\right]\n",
    "}_{\\textbf{reduced}}\n",
    "$\n",
    "\n",
    "</div>"
   ]
  },
  {
   "cell_type": "markdown",
   "metadata": {},
   "source": [
    "CONSISTENCY\n",
    "\n",
    "The linear system is consistent and has infinitely many solutions since there is at least one free variable."
   ]
  },
  {
   "cell_type": "markdown",
   "metadata": {},
   "source": [
    "$\n",
    "\\begin{aligned}\n",
    "x_1 + 2x_2 &= 6 && \\iff && x_1 = -2x_2 + 6 \\\\\n",
    "& && && x_2 \\,\\,\\,\\text{free} \\\\\n",
    "& && && x_3 = 2 \\\\\n",
    "\\end  {aligned}\n",
    "$"
   ]
  },
  {
   "cell_type": "markdown",
   "metadata": {},
   "source": [
    "$\n",
    "\\mathbf{x} =\n",
    "  \\begin{bmatrix*}[r] -2t + 6 \\\\ t \\\\ 2 \\\\ \\end{bmatrix*} =\n",
    "  \\begin{bmatrix*}[r]       6 \\\\ 0 \\\\ 2 \\\\ \\end{bmatrix*} +\n",
    "  \\begin{bmatrix*}[r] -2t     \\\\ t \\\\ 0 \\\\ \\end{bmatrix*} =\n",
    "  \\begin{bmatrix*}[r]       6 \\\\ 0 \\\\ 2 \\\\ \\end{bmatrix*} +\n",
    "t \\begin{bmatrix*}[r] -2      \\\\ 1 \\\\ 0 \\\\ \\end{bmatrix*} \n",
    "$\n",
    "\n",
    "The solution set is a line through the point $(6, 0, 2)$ and parallel to\n",
    "\n",
    "$\\text{span}\\left\\{\\begin{bmatrix*}[r] -2 \\\\ 1 \\\\ 0 \\\\ \\end{bmatrix*}\\right\\}$"
   ]
  },
  {
   "cell_type": "markdown",
   "metadata": {},
   "source": [
    "---"
   ]
  },
  {
   "cell_type": "markdown",
   "metadata": {},
   "source": [
    "## <span style=\"color: green; font-family: Romans; font-size: 18px;\"><b>Example</b></span>"
   ]
  },
  {
   "cell_type": "markdown",
   "metadata": {},
   "source": [
    "PROBLEM STATEMENT\n",
    "\n",
    "Describe the solution set of the following linear system in parametric vector form.\n",
    "\n",
    "$\n",
    "\\begin{aligned}\n",
    "x_1 && - && 4x_2 && - && x_3 && = && 5 \\\\\n",
    "\\end  {aligned}\n",
    "$"
   ]
  },
  {
   "cell_type": "markdown",
   "metadata": {},
   "source": [
    "ROW REDUCE"
   ]
  },
  {
   "cell_type": "markdown",
   "metadata": {},
   "source": [
    "<div class=\"full-width\">\n",
    "\n",
    "$\n",
    "\\underbrace{\n",
    "\\left [\n",
    "  \\begin{matrix*}[r]\n",
    "    \\boxed{1} & -4 & -1 \\\\\n",
    "  \\end  {matrix*}\n",
    "  \\left |\n",
    "    \\begin{matrix*}[r]\n",
    "      5 \\\\\n",
    "    \\end  {matrix*}\n",
    "  \\right.\n",
    "\\right]\n",
    "}_{\\textbf{reduced row echelon}}\n",
    "$\n",
    "\n",
    "</div>"
   ]
  },
  {
   "cell_type": "markdown",
   "metadata": {},
   "source": [
    "CONSISTENCY\n",
    "\n",
    "The linear system is consistent and has infinitely many solutions since there is at least one free variable."
   ]
  },
  {
   "cell_type": "markdown",
   "metadata": {},
   "source": [
    "$\n",
    "\\begin{aligned}\n",
    "x_1 - 4x_2 - x_3 &= 5 && \\iff && x_1 = 4x_2 + x_3 + 5 \\\\\n",
    "& && && x_2 \\,\\,\\,\\text{free} \\\\\n",
    "& && && x_3 \\,\\,\\,\\text{free} \\\\\n",
    "\\end  {aligned}\n",
    "$"
   ]
  },
  {
   "cell_type": "markdown",
   "metadata": {},
   "source": [
    "$\n",
    "\\mathbf{x} =\n",
    "  \\begin{bmatrix*}[r] 4s + t + 5 \\\\ s \\\\ t \\\\ \\end{bmatrix*} =\n",
    "  \\begin{bmatrix*}[r]  5 \\\\ 0 \\\\ 0 \\\\ \\end{bmatrix*} +\n",
    "  \\begin{bmatrix*}[r] 4s \\\\ s \\\\ 0 \\\\ \\end{bmatrix*} +\n",
    "  \\begin{bmatrix*}[r]  t \\\\ 0 \\\\ t \\\\ \\end{bmatrix*} =\n",
    "  \\begin{bmatrix*}[r]  5 \\\\ 0 \\\\ 0 \\\\ \\end{bmatrix*} +\n",
    "s \\begin{bmatrix*}[r]  4 \\\\ 1 \\\\ 0 \\\\ \\end{bmatrix*} +\n",
    "t \\begin{bmatrix*}[r]  1 \\\\ 0 \\\\ 1 \\\\ \\end{bmatrix*}\n",
    "$\n",
    "\n",
    "The solution set is a plane through the point $(5, 0, 0)$ and parallel to\n",
    "\n",
    "$\\text{span}\n",
    "\\left \\{\n",
    "  \\begin{bmatrix*}[r] 4 \\\\ 1 \\\\ 0 \\\\ \\end{bmatrix*},\n",
    "  \\begin{bmatrix*}[r] 1 \\\\ 0 \\\\ 1 \\\\ \\end{bmatrix*}\n",
    "\\right\\}\n",
    "$"
   ]
  },
  {
   "cell_type": "markdown",
   "metadata": {},
   "source": [
    "---"
   ]
  },
  {
   "cell_type": "markdown",
   "metadata": {},
   "source": [
    "## Geometric interpretations"
   ]
  },
  {
   "cell_type": "markdown",
   "metadata": {},
   "source": [
    "If the linear system $\\mathbf{Ax = b}$ admits one free variable and its solution set in parametric form is\n",
    "\n",
    "$\\{\\mathbf{p} + s\\mathbf{u} \\mid s \\in \\mathbb{R}\\}$\n",
    "\n",
    "then the solution set can be described geometrically as the line through the tip of the vector $\\mathbf{p}$ parallel to the vector $\\mathbf{u}$, and the line spanned by the vector $\\mathbf{u}$ is the solution set of $\\mathbf{Ax = 0}$.\n",
    "\n",
    "If the linear system $\\mathbf{Ax = b}$ admits two free variables and its solution set in parametric form is\n",
    "\n",
    "$\\{\\mathbf{p} + s\\mathbf{u} + t\\mathbf{v} \\mid s, t \\in \\mathbb{R}\\}$\n",
    "\n",
    "then the solution set can be described geometrically as the plane through the tip of the vector $\\mathbf{p}$ parallel to the vectors $\\mathbf{u, v}$, and the plane spanned by the vectors $\\mathbf{u, v}$ is the solution set of $\\mathbf{Ax = 0}$."
   ]
  },
  {
   "cell_type": "markdown",
   "metadata": {},
   "source": [
    "---"
   ]
  },
  {
   "cell_type": "markdown",
   "metadata": {},
   "source": [
    "## <span style=\"color: green; font-family: Romans; font-size: 18px;\"><b>Example</b></span>"
   ]
  },
  {
   "cell_type": "markdown",
   "metadata": {},
   "source": [
    "Find the parametric vector describing the points on the line through the tips of the vectors\n",
    "\n",
    "$\n",
    "\\mathbf{p} =\n",
    "\\begin{bmatrix*}[r] -3 \\\\  2 \\\\ \\end{bmatrix*},\n",
    "\\mathbf{q} =\n",
    "\\begin{bmatrix*}[r]  0 \\\\ -3 \\\\ \\end{bmatrix*}\n",
    "$"
   ]
  },
  {
   "cell_type": "markdown",
   "metadata": {},
   "source": [
    "Every point on the line through the tips of the vectors $\\mathbf{p, q}$ is the tip of a vector of the form\n",
    "\n",
    "$\n",
    "\\mathbf{p} + t\\mathbf{(q - p)} =\n",
    "\\begin{bmatrix*}[r] -3 \\\\ 2 \\\\ \\end{bmatrix*} + t \\left(\\begin{bmatrix*}[r] 0 \\\\ -3 \\\\ \\end{bmatrix*} - \\begin{bmatrix*}[r] -3 \\\\ 2 \\\\ \\end{bmatrix*}\\right) =\n",
    "\\begin{bmatrix*}[r] -3 \\\\ 2 \\\\ \\end{bmatrix*} + t       \\begin{bmatrix*}[r] 3 \\\\ -5 \\\\ \\end{bmatrix*}\n",
    "$"
   ]
  },
  {
   "cell_type": "markdown",
   "metadata": {},
   "source": [
    "---"
   ]
  },
  {
   "cell_type": "markdown",
   "metadata": {},
   "source": [
    "## Summary"
   ]
  },
  {
   "cell_type": "markdown",
   "metadata": {},
   "source": [
    "The non homogeneous linear system $\\mathbf{Ax = b}$ | ...has no free variable | ...has at least one free variable | .\n",
    "-|-|-|-\n",
    "...is consistent | $\\mathbf{Ax = 0}$ only admits the trivial solution<br>$\\mathbf{Ax = b}$ admits the single non trivial solution $\\mathbf{p}$ | The solution set of $\\mathbf{Ax = 0}$ is of the form $\\text{span}\\{\\mathbf{v_1, v_2, \\dots, v_k}\\}$<br>The solution set of $\\mathbf{Ax = b}$ is of the form $\\mathbf{p} + \\text{span}\\{\\mathbf{v_1, v_2, \\dots, v_k}\\}$ for some $\\mathbf{p \\ne 0}$ | ...is necessarily consistent\n",
    "...is inconsistent | $\\mathbf{Ax = 0}$ only admits the trivial solution<br>$\\mathbf{Ax = b}$ admits no solution | The solution set of $\\mathbf{Ax = 0}$ is of the form $\\text{span}\\{\\mathbf{v_1, v_2, \\dots, v_k}\\}$<br>The solution set of $\\mathbf{Ax = b}$ is empty | ...is necessarily consistent\n",
    ". | ...has no free variable | ...has at least one free variable | The associated homogeneous system $\\mathbf{Ax = 0}...$"
   ]
  },
  {
   "cell_type": "markdown",
   "metadata": {},
   "source": [
    "---"
   ]
  }
 ],
 "metadata": {
  "language_info": {
   "name": "python"
  }
 },
 "nbformat": 4,
 "nbformat_minor": 2
}
