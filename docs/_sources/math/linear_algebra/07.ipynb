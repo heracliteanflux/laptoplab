{
 "cells": [
  {
   "cell_type": "markdown",
   "metadata": {},
   "source": [
    "# Invertible Matrices"
   ]
  },
  {
   "cell_type": "markdown",
   "metadata": {},
   "source": [
    "---"
   ]
  },
  {
   "cell_type": "markdown",
   "metadata": {},
   "source": [
    "## Table of Contents\n",
    "```{contents}\n",
    "```"
   ]
  },
  {
   "cell_type": "markdown",
   "metadata": {},
   "source": [
    "---"
   ]
  },
  {
   "cell_type": "markdown",
   "metadata": {},
   "source": [
    "## Definition of a Square Matrix"
   ]
  },
  {
   "cell_type": "markdown",
   "metadata": {},
   "source": [
    "A square matrix is a matrix having the same number of rows and columns."
   ]
  },
  {
   "cell_type": "markdown",
   "metadata": {},
   "source": [
    "## Definition of an Invertible Matrix"
   ]
  },
  {
   "cell_type": "markdown",
   "metadata": {},
   "source": [
    "A square $n \\times n$ matrix $\\mathbf{A}$ is said to be invertible if there exists an $n \\times n$ matrix  $\\mathbf{C}$ such that\n",
    "\n",
    "$\\mathbf{CA = I_n = AC}$\n",
    "\n",
    "where $\\mathbf{I_n}$ denotes the $n \\times n$ identity matrix.\n",
    "\n",
    "If it exists this matrix $\\mathbf{C}$ is the inverse of $\\mathbf{A}$ and is usually written as $\\mathbf{A^{-1}}$\n",
    "\n",
    "$\\mathbf{A^{-1}A = I_n = AA^{-1}}$"
   ]
  },
  {
   "cell_type": "markdown",
   "metadata": {},
   "source": [
    "Note the following.\n",
    "\n",
    "• Not all square matrices are invertible.\n",
    "\n",
    "• If a square matrix is invertible then its inverse is unique.\n",
    "\n",
    "• Matrices that are not invertible are called singular and matrices that are invertible are called non singular."
   ]
  },
  {
   "cell_type": "markdown",
   "metadata": {},
   "source": [
    "---"
   ]
  },
  {
   "cell_type": "markdown",
   "metadata": {},
   "source": [
    "## Theorem"
   ]
  },
  {
   "cell_type": "markdown",
   "metadata": {},
   "source": [
    "Let $\\mathbf{A}$ be an $n \\times n$ matrix.\n",
    "\n",
    "$\\mathbf{A}$ is invertible iff for each vector $\\mathbf{b} \\in \\mathbb{R}^n$ the equation $\\mathbf{Ax = b}$ admits a single solution."
   ]
  },
  {
   "cell_type": "markdown",
   "metadata": {},
   "source": [
    "Proof of if $\\mathbf{A}$ is invertible then for each vector $\\mathbf{b} \\in \\mathbb{R}^n$ the equation $\\mathbf{Ax = b}$ admits a single solution.\n",
    "\n",
    "$\n",
    "\\begin{aligned}\n",
    "\\mathbf{Ax} &= \\mathbf{b} \\\\\n",
    "\\mathbf{A^{-1}Ax} &= \\mathbf{A^{-1}b} \\\\\n",
    "\\mathbf{x} &= \\mathbf{A^{-1}b} \\\\\n",
    "\\mathbf{Ax} &= \\mathbf{AA^{-1}b} \\\\\n",
    "\\mathbf{Ax} &= \\mathbf{b} \\\\\n",
    "\\end  {aligned}\n",
    "$"
   ]
  },
  {
   "cell_type": "markdown",
   "metadata": {},
   "source": [
    "---"
   ]
  },
  {
   "cell_type": "markdown",
   "metadata": {},
   "source": [
    "## Theorem"
   ]
  },
  {
   "cell_type": "markdown",
   "metadata": {},
   "source": [
    "Let $\\mathbf{A}$ be an invertible $n \\times n$ matrix.\n",
    "\n",
    "We know that\n",
    "\n",
    "• For each vector $\\mathbf{b} \\in \\mathbb{R}^n$ the equation $\\mathbf{Ax = b}$ has at least one solution $\\iff$ the linear transformation $\\mathbf{x \\mapsto Ax}$ is onto $\\iff$ $\\mathbf{A}$ is row-equivalent to a row echelon matrix with a pivot in each row.\n",
    "\n",
    "• For each vector $\\mathbf{b} \\in \\mathbb{R}^n$ the equation $\\mathbf{Ax = b}$ has at most one solution $\\iff$ the linear transformation $\\mathbf{x \\mapsto Ax}$ is one-to-one $\\iff$ $\\mathbf{A}$ is row-equivalent to a row echelon matrix with a pivot in each column.\n",
    "\n",
    "• The only reduced row echelon matrices having a pivot in each row and a pivot in each column are the identity matrices.\n",
    "\n",
    "A (square) matrix is invertible iff the linear transformation $\\mathbf{x \\mapsto Ax}$ is both onto and one-to-one.\n",
    "\n",
    "A (square) matrix is invertible iff it is row-equivalent to the identity matrix of the same size."
   ]
  },
  {
   "cell_type": "markdown",
   "metadata": {},
   "source": [
    "### <span style=\"color: green; font-family: Romans; font-size: 18px;\"><b>Example</b></span>"
   ]
  },
  {
   "cell_type": "markdown",
   "metadata": {},
   "source": [
    "PROBLEM STATEMENT\n",
    "\n",
    "Determine whether the following matrix is invertible."
   ]
  },
  {
   "cell_type": "markdown",
   "metadata": {},
   "source": [
    "ROW REDUCE"
   ]
  },
  {
   "cell_type": "markdown",
   "metadata": {},
   "source": [
    "$\n",
    "\\begin{bmatrix*}[r]\n",
    "  \\boxed{1} & -3 & -6 \\\\\n",
    "          0 &  4 &  3 \\\\\n",
    "         -3 &  6 &  0 \\\\\n",
    "\\end  {bmatrix*}\n",
    "\\underset{r_3 \\leftarrow\\,\\,\\, r_3 + 3r_1}{\\rightarrow}\n",
    "\\begin{bmatrix*}[r]\n",
    "  \\boxed{1} &         -3 &  -6 \\\\\n",
    "          0 & \\boxed{ 4} &   3 \\\\\n",
    "          0 &         -3 & -18 \\\\\n",
    "\\end  {bmatrix*}\n",
    "\\underset{r_3 \\leftarrow\\,\\,\\, r_3 + \\frac{3}{4} r_2}{\\rightarrow}\n",
    "\\underbrace{\n",
    "\\begin{bmatrix*}[r]\n",
    "  \\boxed{1} &         -3 &                    -6 \\\\\n",
    "          0 & \\boxed{ 4} &                     3 \\\\\n",
    "          0 &          0 & \\boxed{-\\frac{63}{4}} \\\\\n",
    "\\end  {bmatrix*}\n",
    "}_{\\textbf{row echelon}}\n",
    "$"
   ]
  },
  {
   "cell_type": "markdown",
   "metadata": {},
   "source": [
    "The matrix is invertible because it is both onto (there is a pivot in each row) and one-to-one (there is a pivot in each column).\n",
    "\n",
    "(The $\\textcolor{#0096FF}{3} \\times \\textcolor{#0096FF}{3}$ matrix has $\\textcolor{#0096FF}{3}$ pivots!)"
   ]
  },
  {
   "cell_type": "markdown",
   "metadata": {},
   "source": [
    "---"
   ]
  },
  {
   "cell_type": "markdown",
   "metadata": {},
   "source": [
    "## The determinant: computing the inverse of an invertible $2 \\times 2$ matrix"
   ]
  },
  {
   "cell_type": "markdown",
   "metadata": {},
   "source": [
    "Let $\\mathbf{A} = \\begin{bmatrix} a & b \\\\ c & d \\\\ \\end{bmatrix}$.\n",
    "\n",
    "The determinant of $\\mathbf{A}$ is the number $\\text{det}(\\mathbf{A}) = ad - bc$.\n",
    "\n",
    "If $ad - bc = 0$ then the matrix $\\mathbf{A}$ is not invertible.\n",
    "\n",
    "If $ad - bc \\ne 0$ then the matrix $\\mathbf{A}$ is invertible and its inverse is\n",
    "\n",
    "$\\mathbf{A^{-1}} = \\textcolor{#0096FF}{\\frac{1}{ad - bc}} \\begin{bmatrix*}[r] \\textcolor{green}{d} & \\textcolor{purple}{-b} \\\\ \\textcolor{purple}{-c} & \\textcolor{green}{a} \\\\ \\end{bmatrix*}$\n",
    "\n",
    "1\\. <span style=\"color: green;\">Swap the diagonal entries.</span>\n",
    "\n",
    "2\\. <span style=\"color: purple;\">Change the signs of the off-diagonal entries.</span>\n",
    "\n",
    "3\\. <span style=\"color: #0096FF;\">Divide by the determinant.</span>"
   ]
  },
  {
   "cell_type": "markdown",
   "metadata": {},
   "source": [
    "$\n",
    "\\mathbf{A^{-1}A} =\n",
    "\\frac{1}{ad - bc}\n",
    "\\begin{bmatrix*}[r]\n",
    "   d & -b \\\\\n",
    "  -c &  a \\\\\n",
    "\\end  {bmatrix*}\n",
    "\\begin{bmatrix*}[r]\n",
    "  a & b \\\\\n",
    "  c & d \\\\\n",
    "\\end  {bmatrix*} =\n",
    "\\frac{1}{ad - bc}\n",
    "\\begin{bmatrix*}[r]\n",
    "  ad - bc & bd - bd \\\\\n",
    "  ac - ac & ad - bc \\\\\n",
    "\\end  {bmatrix*} =\n",
    "\\begin{bmatrix*}[r]\n",
    "  1 & 0 \\\\\n",
    "  0 & 1 \\\\\n",
    "\\end  {bmatrix*} =\n",
    "\\mathbf{I_2}\n",
    "$"
   ]
  },
  {
   "cell_type": "markdown",
   "metadata": {},
   "source": [
    "---"
   ]
  },
  {
   "cell_type": "markdown",
   "metadata": {},
   "source": [
    "### <span style=\"color: green; font-family: Romans; font-size: 18px;\"><b>Example</b></span>"
   ]
  },
  {
   "cell_type": "markdown",
   "metadata": {},
   "source": [
    "Determine the inverse of the matrix\n",
    "\n",
    "$\n",
    "\\mathbf{A} =\n",
    "\\begin{bmatrix}\n",
    "  3 & 2 \\\\\n",
    "  8 & 5 \\\\\n",
    "\\end  {bmatrix}\n",
    "$"
   ]
  },
  {
   "cell_type": "markdown",
   "metadata": {},
   "source": [
    "$\\text{det}(\\mathbf{A}) = 3 \\cdot 5 - 2 \\cdot 8 = -1$"
   ]
  },
  {
   "cell_type": "markdown",
   "metadata": {},
   "source": [
    "$\n",
    "\\mathbf{A^{-1}} = -1\n",
    "\\begin{bmatrix*}[r]\n",
    "   5 & -2 \\\\\n",
    "  -8 &  3 \\\\\n",
    "\\end  {bmatrix*} =\n",
    "\\begin{bmatrix*}[r]\n",
    "  -5 &  2 \\\\\n",
    "   8 & -3 \\\\\n",
    "\\end  {bmatrix*}\n",
    "$"
   ]
  },
  {
   "cell_type": "markdown",
   "metadata": {},
   "source": [
    "---"
   ]
  },
  {
   "cell_type": "markdown",
   "metadata": {},
   "source": [
    "## Computing the inverse of an invertible $n \\times n$ matrix"
   ]
  },
  {
   "cell_type": "markdown",
   "metadata": {},
   "source": [
    "STEP 1 - Row reduce until a row echelon matrix is obtained\n",
    "\n",
    "$\\mathbf{A \\to I_n}$\n",
    "\n",
    "STEP 2 - Check: a square matrix is invertible iff it is row equivalent to the identity matrix of the same size\n",
    "\n",
    "STEP 3 - Apply the same elementary row operations to the identity matrix in the same order\n",
    "\n",
    "$\\mathbf{I_n \\to A^\\top}$"
   ]
  },
  {
   "cell_type": "markdown",
   "metadata": {},
   "source": [
    "---"
   ]
  },
  {
   "cell_type": "markdown",
   "metadata": {},
   "source": [
    "### <span style=\"color: green; font-family: Romans; font-size: 18px;\"><b>Example</b></span>"
   ]
  },
  {
   "cell_type": "markdown",
   "metadata": {},
   "source": [
    "PROBLEM STATEMENT\n",
    "\n",
    "Determine the inverse of the matrix\n",
    "\n",
    "$\n",
    "\\mathbf{A} =\n",
    "\\begin{bmatrix*}[r]\n",
    "   0 & 1 & 1 \\\\\n",
    "   1 & 2 & 2 \\\\\n",
    "  -1 & 4 & 7 \\\\\n",
    "\\end  {bmatrix*}\n",
    "$"
   ]
  },
  {
   "cell_type": "markdown",
   "metadata": {},
   "source": [
    "ROW REDUCE"
   ]
  },
  {
   "cell_type": "markdown",
   "metadata": {},
   "source": [
    "$\n",
    "\\begin{bmatrix*}[r]\n",
    "  \\boxed{0} & 1 & 1 \\\\\n",
    "          1 & 2 & 2 \\\\\n",
    "         -1 & 4 & 7 \\\\\n",
    "\\end  {bmatrix*}\n",
    "\\underset{r_1 \\leftrightarrow\\,\\,\\, r_3}{\\rightarrow}\n",
    "\\begin{bmatrix*}[r]\n",
    "  \\boxed{-1} & 4 & 7 \\\\\n",
    "           1 & 2 & 2 \\\\\n",
    "           0 & 1 & 1 \\\\\n",
    "\\end  {bmatrix*}\n",
    "\\underset{r_2 \\leftarrow\\,\\,\\, r_2 + r_1}{\\rightarrow}\n",
    "\\begin{bmatrix*}[r]\n",
    "  \\boxed{-1} &         4 & 7 \\\\\n",
    "           0 & \\boxed{6} & 9 \\\\\n",
    "           0 &         1 & 1 \\\\\n",
    "\\end  {bmatrix*}\n",
    "$"
   ]
  },
  {
   "cell_type": "markdown",
   "metadata": {},
   "source": [
    "$\n",
    "\\begin{bmatrix*}[r]\n",
    "  \\boxed{-1} &         4 & 7 \\\\\n",
    "           0 & \\boxed{6} & 9 \\\\\n",
    "           0 &         1 & 1 \\\\\n",
    "\\end  {bmatrix*}\n",
    "\\underset{r_3 \\leftarrow\\,\\,\\, r_3 + (-\\frac{1}{6})r_2}{\\rightarrow}\n",
    "\\underbrace{\n",
    "\\begin{bmatrix*}[r]\n",
    "  \\boxed{-1} &         4 &                    7 \\\\\n",
    "           0 & \\boxed{6} &                    9 \\\\\n",
    "           0 &         0 & \\boxed{-\\frac{1}{2}} \\\\\n",
    "\\end  {bmatrix*}\n",
    "}_{\\textbf{row echelon}}\n",
    "\\underset{r_3 \\leftarrow\\,\\,\\, (-2)r_3}{\\rightarrow}\n",
    "\\begin{bmatrix*}[r]\n",
    "  \\boxed{-1} &         4 &         7 \\\\\n",
    "           0 & \\boxed{6} &         9 \\\\\n",
    "           0 &         0 & \\boxed{1} \\\\\n",
    "\\end  {bmatrix*}\n",
    "$"
   ]
  },
  {
   "cell_type": "markdown",
   "metadata": {},
   "source": [
    "$\n",
    "\\begin{bmatrix*}[r]\n",
    "  \\boxed{-1} &         4 &         7 \\\\\n",
    "           0 & \\boxed{6} &         9 \\\\\n",
    "           0 &         0 & \\boxed{1} \\\\\n",
    "\\end  {bmatrix*}\n",
    "\\underset{r_2 \\leftarrow\\,\\,\\, r_2 + (-9)r_3}{\\rightarrow}\n",
    "\\begin{bmatrix*}[r]\n",
    "  \\boxed{-1} &         4 &         7 \\\\\n",
    "           0 & \\boxed{6} &         0 \\\\\n",
    "           0 &         0 & \\boxed{1} \\\\\n",
    "\\end  {bmatrix*}\n",
    "\\underset{r_1 \\leftarrow\\,\\,\\, r_1 + (-7)r_3}{\\rightarrow}\n",
    "\\begin{bmatrix*}[r]\n",
    "  \\boxed{-1} &         4 &         0 \\\\\n",
    "           0 & \\boxed{6} &         0 \\\\\n",
    "           0 &         0 & \\boxed{1} \\\\\n",
    "\\end  {bmatrix*}\n",
    "$"
   ]
  },
  {
   "cell_type": "markdown",
   "metadata": {},
   "source": [
    "$\n",
    "\\begin{bmatrix*}[r]\n",
    "  \\boxed{-1} &         4 &         0 \\\\\n",
    "           0 & \\boxed{6} &         0 \\\\\n",
    "           0 &         0 & \\boxed{1} \\\\\n",
    "\\end  {bmatrix*}\n",
    "\\underset{r_2 \\leftarrow\\,\\,\\, \\frac{1}{6} r_2}{\\rightarrow}\n",
    "\\begin{bmatrix*}[r]\n",
    "  \\boxed{-1} &         4 &         0 \\\\\n",
    "           0 & \\boxed{1} &         0 \\\\\n",
    "           0 &         0 & \\boxed{1} \\\\\n",
    "\\end  {bmatrix*}\n",
    "\\underset{r_1 \\leftarrow\\,\\,\\, r_1 + (-4)r_2}{\\rightarrow}\n",
    "\\begin{bmatrix*}[r]\n",
    "  \\boxed{-1} &         0 &         0 \\\\\n",
    "           0 & \\boxed{1} &         0 \\\\\n",
    "           0 &         0 & \\boxed{1} \\\\\n",
    "\\end  {bmatrix*}\n",
    "$"
   ]
  },
  {
   "cell_type": "markdown",
   "metadata": {},
   "source": [
    "$\n",
    "\\begin{bmatrix*}[r]\n",
    "  \\boxed{-1} &         0 &         0 \\\\\n",
    "           0 & \\boxed{1} &         0 \\\\\n",
    "           0 &         0 & \\boxed{1} \\\\\n",
    "\\end  {bmatrix*}\n",
    "\\underset{r_1 \\leftarrow\\,\\,\\, (-1)r_1}{\\rightarrow}\n",
    "\\begin{bmatrix*}[r]\n",
    "  \\boxed{1} &         0 &         0 \\\\\n",
    "          0 & \\boxed{1} &         0 \\\\\n",
    "          0 &         0 & \\boxed{1} \\\\\n",
    "\\end  {bmatrix*}\n",
    "$"
   ]
  },
  {
   "cell_type": "markdown",
   "metadata": {},
   "source": [
    "INVERSE MATRIX"
   ]
  },
  {
   "cell_type": "markdown",
   "metadata": {},
   "source": [
    "$\n",
    "\\begin{bmatrix*}[r]\n",
    "  \\boxed{1} &         0 &         0 \\\\\n",
    "          0 & \\boxed{1} &         0 \\\\\n",
    "          0 &         0 & \\boxed{1} \\\\\n",
    "\\end  {bmatrix*}\n",
    "\\underset{r_1 \\leftrightarrow\\,\\,\\, r_3}{\\rightarrow}\n",
    "\\begin{bmatrix*}[r]\n",
    "  \\boxed{0} &         0 &         1 \\\\\n",
    "          0 & \\boxed{1} &         0 \\\\\n",
    "          1 &         0 & \\boxed{0} \\\\\n",
    "\\end  {bmatrix*}\n",
    "\\underset{r_2 \\leftarrow\\,\\,\\, r_2 + r_1}{\\rightarrow}\n",
    "\\begin{bmatrix*}[r]\n",
    "  \\boxed{0} &         0 &         1 \\\\\n",
    "          0 & \\boxed{1} &         1 \\\\\n",
    "          1 &         0 & \\boxed{0} \\\\\n",
    "\\end  {bmatrix*}\n",
    "$"
   ]
  },
  {
   "cell_type": "markdown",
   "metadata": {},
   "source": [
    "$\n",
    "\\begin{bmatrix*}[r]\n",
    "  \\boxed{0} &         0 &         1 \\\\\n",
    "          0 & \\boxed{1} &         1 \\\\\n",
    "          1 &         0 & \\boxed{0} \\\\\n",
    "\\end  {bmatrix*}\n",
    "\\underset{r_3 \\leftarrow\\,\\,\\, r_3 + (-\\frac{1}{6})r_2}{\\rightarrow}\n",
    "\\begin{bmatrix*}[r]\n",
    "  \\boxed{0} &            0 &                    1 \\\\\n",
    "          0 &    \\boxed{1} &                    1 \\\\\n",
    "          1 & -\\frac{1}{6} & \\boxed{-\\frac{1}{6}} \\\\\n",
    "\\end  {bmatrix*}\n",
    "\\underset{r_3 \\leftarrow\\,\\,\\, (-2)r_3}{\\rightarrow}\n",
    "\\begin{bmatrix*}[r]\n",
    "  \\boxed{0} &           0 &                   1 \\\\\n",
    "          0 &   \\boxed{1} &                   1 \\\\\n",
    "         -2 & \\frac{1}{3} & \\boxed{\\frac{1}{3}} \\\\\n",
    "\\end  {bmatrix*}\n",
    "$"
   ]
  },
  {
   "cell_type": "markdown",
   "metadata": {},
   "source": [
    "$\n",
    "\\begin{bmatrix*}[r]\n",
    "  \\boxed{0} &           0 &                   1 \\\\\n",
    "          0 &   \\boxed{1} &                   1 \\\\\n",
    "         -2 & \\frac{1}{3} & \\boxed{\\frac{1}{3}} \\\\\n",
    "\\end  {bmatrix*}\n",
    "\\underset{r_2 \\leftarrow\\,\\,\\, r_2 + (-9)r_3}{\\rightarrow}\n",
    "\\begin{bmatrix*}[r]\n",
    "  \\boxed{0} &           0 &                   1 \\\\\n",
    "         18 &  \\boxed{-2} &                  -2 \\\\\n",
    "         -2 & \\frac{1}{3} & \\boxed{\\frac{1}{3}} \\\\\n",
    "\\end  {bmatrix*}\n",
    "\\underset{r_1 \\leftarrow\\,\\,\\, r_1 + (-7)r_3}{\\rightarrow}\n",
    "\\begin{bmatrix*}[r]\n",
    "  \\boxed{14} & -\\frac{7}{3} &         \\frac{4}{3} \\\\\n",
    "          18 &   \\boxed{-2} &                  -2 \\\\\n",
    "          -2 &  \\frac{1}{3} & \\boxed{\\frac{1}{3}} \\\\\n",
    "\\end  {bmatrix*}\n",
    "$"
   ]
  },
  {
   "cell_type": "markdown",
   "metadata": {},
   "source": [
    "$\n",
    "\\begin{bmatrix*}[r]\n",
    " \\boxed{14} & -\\frac{7}{3} &        -\\frac{4}{3} \\\\\n",
    "         18 &   \\boxed{-2} &                  -2 \\\\\n",
    "         -2 &  \\frac{1}{3} & \\boxed{\\frac{1}{3}} \\\\\n",
    "\\end  {bmatrix*}\n",
    "\\underset{r_2 \\leftarrow\\,\\,\\, \\frac{1}{6} r_2}{\\rightarrow}\n",
    "\\begin{bmatrix*}[r]\n",
    "  \\boxed{14} &         -\\frac{7}{3} &        -\\frac{4}{3} \\\\\n",
    "           3 & \\boxed{-\\frac{1}{3}} &        -\\frac{1}{3} \\\\\n",
    "          -2 &          \\frac{1}{3} & \\boxed{\\frac{1}{3}} \\\\\n",
    "\\end  {bmatrix*}\n",
    "\\underset{r_1 \\leftarrow\\,\\,\\, r_1 + (-4)r_2}{\\rightarrow}\n",
    "\\begin{bmatrix*}[r]\n",
    "  \\boxed{2} &                   -1 &                   0 \\\\\n",
    "          3 & \\boxed{-\\frac{1}{3}} &        -\\frac{1}{3} \\\\\n",
    "         -2 &          \\frac{1}{3} & \\boxed{\\frac{1}{3}} \\\\\n",
    "\\end  {bmatrix*}\n",
    "$"
   ]
  },
  {
   "cell_type": "markdown",
   "metadata": {},
   "source": [
    "$\n",
    "\\begin{bmatrix*}[r]\n",
    "  \\boxed{2} &                   -1 &                   0 \\\\\n",
    "          3 & \\boxed{-\\frac{1}{3}} &        -\\frac{1}{3} \\\\\n",
    "         -2 &          \\frac{1}{3} & \\boxed{\\frac{1}{3}} \\\\\n",
    "\\end  {bmatrix*}\n",
    "\\underset{r_1 \\leftarrow\\,\\,\\, (-1)r_1}{\\rightarrow}\n",
    "\\begin{bmatrix*}[r]\n",
    "  \\boxed{-2} &                    1 &                   0 \\\\\n",
    "           3 & \\boxed{-\\frac{1}{3}} &        -\\frac{1}{3} \\\\\n",
    "          -2 &          \\frac{1}{3} & \\boxed{\\frac{1}{3}} \\\\\n",
    "\\end  {bmatrix*}\n",
    "$"
   ]
  },
  {
   "cell_type": "markdown",
   "metadata": {},
   "source": [
    "VERIFY"
   ]
  },
  {
   "cell_type": "markdown",
   "metadata": {},
   "source": [
    "$\n",
    "\\mathbf{A^{-1}A} =\n",
    "\\begin{bmatrix*}[r]\n",
    "  -2 &            1 &            0 \\\\\n",
    "   3 & -\\frac{1}{3} & -\\frac{1}{3} \\\\\n",
    "  -2 &  \\frac{1}{3} &  \\frac{1}{3} \\\\\n",
    "\\end  {bmatrix*}\n",
    "\\begin{bmatrix*}[r]\n",
    "   0 & 1 & 1 \\\\\n",
    "   1 & 2 & 2 \\\\\n",
    "  -1 & 4 & 7 \\\\\n",
    "\\end  {bmatrix*} =\n",
    "\\begin{bmatrix*}[r]\n",
    "  1 & 0 & 0 \\\\\n",
    "  0 & 1 & 0 \\\\\n",
    "  0 & 0 & 1 \\\\\n",
    "\\end  {bmatrix*}\n",
    "$"
   ]
  },
  {
   "cell_type": "markdown",
   "metadata": {},
   "source": [
    "---"
   ]
  },
  {
   "cell_type": "markdown",
   "metadata": {},
   "source": [
    "### <span style=\"color: green; font-family: Romans; font-size: 18px;\"><b>Example</b></span>"
   ]
  },
  {
   "cell_type": "markdown",
   "metadata": {},
   "source": [
    "PROBLEM STATEMENT\n",
    "\n",
    "Determine the inverse of the matrix\n",
    "\n",
    "$\n",
    "\\mathbf{A} =\n",
    "\\begin{bmatrix*}[r]\n",
    "   1 &  2 & -1 \\\\\n",
    "  -4 & -7 &  3 \\\\\n",
    "  -2 & -6 &  4 \\\\\n",
    "\\end  {bmatrix*}\n",
    "$"
   ]
  },
  {
   "cell_type": "markdown",
   "metadata": {},
   "source": [
    "ROW REDUCE"
   ]
  },
  {
   "cell_type": "markdown",
   "metadata": {},
   "source": [
    "$\n",
    "\\begin{bmatrix*}[r]\n",
    "  \\boxed{1} &  2 & -1 \\\\\n",
    "         -4 & -7 &  3 \\\\\n",
    "         -2 & -6 &  4 \\\\\n",
    "\\end  {bmatrix*}\n",
    "\\underset{r_2 \\leftarrow\\,\\,\\, r_2 + 4r_1}{\\rightarrow}\n",
    "\\begin{bmatrix*}[r]\n",
    "  \\boxed{1} &  2 & -1 \\\\\n",
    "          0 &  1 & -1 \\\\\n",
    "         -2 & -6 &  4 \\\\\n",
    "\\end  {bmatrix*}\n",
    "\\underset{r_3 \\leftarrow\\,\\,\\, r_3 + 2r_1}{\\rightarrow}\n",
    "\\begin{bmatrix*}[r]\n",
    "  \\boxed{1} &         2 & -1 \\\\\n",
    "          0 & \\boxed{1} & -1 \\\\\n",
    "          0 &        -2 &  2 \\\\\n",
    "\\end  {bmatrix*}\n",
    "$"
   ]
  },
  {
   "cell_type": "markdown",
   "metadata": {},
   "source": [
    "$\n",
    "\\begin{bmatrix*}[r]\n",
    "  \\boxed{1} &         2 & -1 \\\\\n",
    "          0 & \\boxed{1} & -1 \\\\\n",
    "          0 &        -2 &  2 \\\\\n",
    "\\end  {bmatrix*}\n",
    "\\underset{r_3 \\leftarrow\\,\\,\\, r_3 + 2r_2}{\\rightarrow}\n",
    "\\underbrace{\n",
    "\\begin{bmatrix*}[r]\n",
    "  \\boxed{1} &         2 & -1 \\\\\n",
    "          0 & \\boxed{1} & -1 \\\\\n",
    "          0 &         0 &  0 \\\\\n",
    "\\end  {bmatrix*}\n",
    "}_{\\textbf{row echelon}}\n",
    "$"
   ]
  },
  {
   "cell_type": "markdown",
   "metadata": {},
   "source": [
    "The matrix is not invertible."
   ]
  },
  {
   "cell_type": "markdown",
   "metadata": {},
   "source": [
    "---"
   ]
  },
  {
   "cell_type": "markdown",
   "metadata": {},
   "source": [
    "## Inverse Matrix Theorem"
   ]
  },
  {
   "cell_type": "markdown",
   "metadata": {},
   "source": [
    "Let $\\mathbf{A}$ be a square $n \\times n$ matrix.\n",
    "\n",
    "The following statements are equivalent.\n",
    "\n",
    "• The matrix $\\mathbf{A}$ is invertible.\n",
    "\n",
    "• The matrix $\\mathbf{A}$ is row equivalent to the $n \\times n$ identity matrix.\n",
    "\n",
    "• The matrix $\\mathbf{A}$ has $n$ pivots.\n",
    "\n",
    "• The equation $\\mathbf{Ax = 0}$ only admits the trivial solution.\n",
    "\n",
    "• The columns of the matrix $\\mathbf{A}$ form a linearly independent set.\n",
    "\n",
    "• The linear transformation $T(\\mathbf{x}) = \\mathbf{Ax}$ is one-to-one because there is a pivot in each column.\n",
    "\n",
    "• For each vector $\\mathbf{b} \\in \\mathbb{R}^n$ the equation $\\mathbf{Ax = b}$ has at least one solution.\n",
    "\n",
    "• The columns of the matrix $\\mathbf{A}$ span $\\mathbb{R}^n$.\n",
    "\n",
    "• The linear transformation $T(\\mathbf{x}) = \\mathbf{Ax}$ is onto because there is a pivot in each row.\n",
    "\n",
    "• There exists an $n \\times n$ matrix $\\mathbf{C}$ such that $\\mathbf{CA = I_n}$.\n",
    "\n",
    "• There exists an $n \\times n$ matrix $\\mathbf{D}$ such that $\\mathbf{AD = I_n}$.\n",
    "\n",
    "• The matrix $\\mathbf{A^\\top}$ is invertible."
   ]
  },
  {
   "cell_type": "markdown",
   "metadata": {},
   "source": [
    "---"
   ]
  },
  {
   "cell_type": "markdown",
   "metadata": {},
   "source": [
    "### <span style=\"color: green; font-family: Romans; font-size: 18px;\"><b>Example</b></span>"
   ]
  },
  {
   "cell_type": "markdown",
   "metadata": {},
   "source": [
    "PROBLEM STATEMENT\n",
    "\n",
    "Determine whether the matrix is invertible.\n",
    "\n",
    "$\n",
    "\\begin{bmatrix*}[r]\n",
    "  1 & -2 & 0 & 3 \\\\\n",
    "  0 &  4 & 0 & 7 \\\\\n",
    "  3 &  1 & 0 & 9 \\\\\n",
    "  8 &  4 & 0 & 5 \\\\\n",
    "\\end  {bmatrix*}\n",
    "$"
   ]
  },
  {
   "cell_type": "markdown",
   "metadata": {},
   "source": [
    "The columns of the matrix are linearly dependent and so the matrix is not invertible."
   ]
  },
  {
   "cell_type": "markdown",
   "metadata": {},
   "source": [
    "---"
   ]
  },
  {
   "cell_type": "markdown",
   "metadata": {},
   "source": [
    "### <span style=\"color: green; font-family: Romans; font-size: 18px;\"><b>Example</b></span>"
   ]
  },
  {
   "cell_type": "markdown",
   "metadata": {},
   "source": [
    "PROBLEM STATEMENT\n",
    "\n",
    "Determine whether the matrix is invertible.\n",
    "\n",
    "$\n",
    "\\begin{bmatrix*}[r]\n",
    "  -5 & 1 & 4 \\\\\n",
    "   6 & 3 & 5 \\\\\n",
    "   1 & 4 & 9 \\\\\n",
    "\\end  {bmatrix*}\n",
    "$"
   ]
  },
  {
   "cell_type": "markdown",
   "metadata": {},
   "source": [
    "The transpose of the matrix is\n",
    "\n",
    "$\n",
    "\\begin{bmatrix*}[r]\n",
    "  -5 & 6 & 1 \\\\\n",
    "   1 & 3 & 4 \\\\\n",
    "   4 & 5 & 9 \\\\\n",
    "\\end  {bmatrix*}\n",
    "$\n",
    "\n",
    "Its third column is the sum of its first two columns and so its columns are linearly dependent. Therefore neither the matrix or its transpose are invertible."
   ]
  },
  {
   "cell_type": "markdown",
   "metadata": {},
   "source": [
    "---"
   ]
  },
  {
   "cell_type": "markdown",
   "metadata": {},
   "source": [
    "## Properties of matrix inversion"
   ]
  },
  {
   "cell_type": "markdown",
   "metadata": {},
   "source": [
    "If $\\mathbf{A}$ is invertible then $\\mathbf{A^{-1}}$ is invertible and $\\mathbf{(A^{-1})^{-1} = A}$."
   ]
  },
  {
   "cell_type": "markdown",
   "metadata": {},
   "source": [
    "If $\\mathbf{A}$ and $\\mathbf{B}$ are both invertible then $\\mathbf{AB}$ is invertible and $\\mathbf{(AB)^{-1} = B^{-1} A^{-1}}$."
   ]
  },
  {
   "cell_type": "markdown",
   "metadata": {},
   "source": [
    "A matrix $\\mathbf{A}$ is invertible iff its transpose $\\mathbf{A^\\top}$ is invertible.\n",
    "\n",
    "$\\mathbf{(A^\\top)^{-1} = (A^{-1})^\\top}$"
   ]
  },
  {
   "cell_type": "markdown",
   "metadata": {},
   "source": [
    "---"
   ]
  },
  {
   "cell_type": "markdown",
   "metadata": {},
   "source": [
    "### <span style=\"color: green; font-family: Romans; font-size: 18px;\"><b>Example</b></span>"
   ]
  },
  {
   "cell_type": "markdown",
   "metadata": {},
   "source": [
    "Let $\\mathbf{A, B, C}$ be invertible $n \\times n$ matrices.\n",
    "\n",
    "Simplify $\\mathbf{(AB)^\\top(CA^\\top)^{-1}}$."
   ]
  },
  {
   "cell_type": "markdown",
   "metadata": {},
   "source": [
    "$\n",
    "\\mathbf{(AB)^\\top(CA^\\top)^{-1}} =\n",
    "\\mathbf{B^\\top A^\\top (A^\\top)^{-1} C^{-1}} =\n",
    "\\mathbf{B^\\top C^{-1}}\n",
    "$"
   ]
  },
  {
   "cell_type": "markdown",
   "metadata": {},
   "source": [
    "---"
   ]
  },
  {
   "cell_type": "markdown",
   "metadata": {},
   "source": [
    "### <span style=\"color: green; font-family: Romans; font-size: 18px;\"><b>Example</b></span>"
   ]
  },
  {
   "cell_type": "markdown",
   "metadata": {},
   "source": [
    "Let $\\mathbf{A, B, C, X}$ be $n \\times n$ matrices with $\\mathbf{C}$ invertible.\n",
    "\n",
    "Solve the equation $\\mathbf{B(X + A)^{-1} = C}$ for the matrix $\\mathbf{X}$."
   ]
  },
  {
   "cell_type": "markdown",
   "metadata": {},
   "source": [
    "$\n",
    "\\begin{aligned}\n",
    "\\mathbf{B(X + A)^{-1}} &= \\mathbf{C} \\\\\n",
    "\\mathbf{B(X + A)^{-1}(X + A)} &= \\mathbf{C(X + A)} \\\\\n",
    "\\mathbf{B} &= \\mathbf{C(X + A)} \\\\\n",
    "\\mathbf{C^{-1}B} &= \\mathbf{C^{-1}C(X + A)} \\\\\n",
    "\\mathbf{C^{-1}B} &= \\mathbf{X + A} \\\\\n",
    "\\mathbf{C^{-1}B - A} &= \\mathbf{X} \\\\\n",
    "\\end  {aligned}\n",
    "$"
   ]
  },
  {
   "cell_type": "markdown",
   "metadata": {},
   "source": [
    "---"
   ]
  },
  {
   "cell_type": "markdown",
   "metadata": {},
   "source": [
    "## Invertible Linear Transformation"
   ]
  },
  {
   "cell_type": "markdown",
   "metadata": {},
   "source": [
    "Let $T : \\mathbb{R}^n \\to \\mathbb{R}^n$ be a linear transformation and let $\\mathbf{A}$ be the square matrix associated with $T$ so that $T(\\mathbf{x}) = \\mathbf{Ax}$.\n",
    "\n",
    "The linear transformation is invertible iff the matrix $\\mathbf{A}$ is invertible.\n",
    "\n",
    "If $T$ is invertible then $T^{-1}(\\mathbf{x}) = \\mathbf{A^{-1}x}$."
   ]
  },
  {
   "cell_type": "markdown",
   "metadata": {},
   "source": [
    "### <span style=\"color: green; font-family: Romans; font-size: 18px;\"><b>Example</b></span>"
   ]
  },
  {
   "cell_type": "markdown",
   "metadata": {},
   "source": [
    "Given the linear transformation\n",
    "\n",
    "$\n",
    "T\n",
    "\\left (\n",
    "  \\begin{bmatrix} x_1 \\\\ x_2 \\\\ \\end{bmatrix}\n",
    "\\right) =\n",
    "\\begin{bmatrix*}[r]\n",
    "   2x_1 & - & 8x_2 \\\\\n",
    "  -2x_1 & + & 7x_2 \\\\\n",
    "\\end  {bmatrix*}\n",
    "$\n",
    "\n",
    "find\n",
    "\n",
    "$T^{-1} \\left( \\begin{bmatrix} x_1 \\\\ x_2 \\\\ \\end{bmatrix} \\right)$"
   ]
  },
  {
   "cell_type": "markdown",
   "metadata": {},
   "source": [
    "$\n",
    "T\n",
    "\\left (\n",
    "  \\begin{bmatrix} x_1 \\\\ x_2 \\\\ \\end{bmatrix}\n",
    "\\right) =\n",
    "\\begin{bmatrix*}[r]\n",
    "   2x_1 & - & 8x_2 \\\\\n",
    "  -2x_1 & + & 7x_2 \\\\\n",
    "\\end  {bmatrix*} =\n",
    "\\begin{bmatrix*}[r]\n",
    "   2 & -8 \\\\\n",
    "  -2 &  7 \\\\\n",
    "\\end  {bmatrix*}\n",
    "\\begin{bmatrix*}[r]\n",
    "  x_1 \\\\\n",
    "  x_2 \\\\\n",
    "\\end  {bmatrix*}\n",
    "$"
   ]
  },
  {
   "cell_type": "markdown",
   "metadata": {},
   "source": [
    "$\n",
    "\\mathbf{A^{-1}} =\n",
    "\\frac{1}{2 \\cdot 7 - (-8) \\cdot (-2)}\n",
    "\\begin{bmatrix*}[r]\n",
    "  7 & 8 \\\\\n",
    "  2 & 2 \\\\\n",
    "\\end  {bmatrix*} =\n",
    "-\\frac{1}{2}\n",
    "\\begin{bmatrix*}[r]\n",
    "  7 & 8 \\\\\n",
    "  2 & 2 \\\\\n",
    "\\end  {bmatrix*} =\n",
    "\\begin{bmatrix*}[r]\n",
    "  -\\frac{7}{2} & -4 \\\\\n",
    "            -1 & -1 \\\\\n",
    "\\end  {bmatrix*}\n",
    "$"
   ]
  },
  {
   "cell_type": "markdown",
   "metadata": {},
   "source": [
    "$\n",
    "T^{-1}\n",
    "\\left (\n",
    "  \\begin{bmatrix} x_1 \\\\ x_2 \\\\ \\end{bmatrix}\n",
    "\\right) =\n",
    "\\begin{bmatrix*}[r]\n",
    "  -\\frac{7}{2} & -4 \\\\\n",
    "            -1 & -1 \\\\\n",
    "\\end  {bmatrix*}\n",
    "\\begin{bmatrix} x_1 \\\\ x_2 \\\\ \\end{bmatrix} =\n",
    "\\begin{bmatrix*}[r]\n",
    "  -\\frac{7}{2}x_1 & - & 4x_2 \\\\\n",
    "             -x_1 & - &  x_2 \\\\\n",
    "\\end  {bmatrix*}\n",
    "$"
   ]
  },
  {
   "cell_type": "markdown",
   "metadata": {},
   "source": [
    "---"
   ]
  }
 ],
 "metadata": {
  "kernelspec": {
   "display_name": "ml",
   "language": "python",
   "name": "python3"
  },
  "language_info": {
   "codemirror_mode": {
    "name": "ipython",
    "version": 3
   },
   "file_extension": ".py",
   "mimetype": "text/x-python",
   "name": "python",
   "nbconvert_exporter": "python",
   "pygments_lexer": "ipython3",
   "version": "3.11.9"
  }
 },
 "nbformat": 4,
 "nbformat_minor": 2
}
