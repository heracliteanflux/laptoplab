{
 "cells": [
  {
   "cell_type": "markdown",
   "metadata": {},
   "source": [
    "# Calculus"
   ]
  },
  {
   "cell_type": "markdown",
   "metadata": {},
   "source": [
    "---"
   ]
  },
  {
   "cell_type": "markdown",
   "metadata": {},
   "source": [
    "## Table of Contents\n",
    "```{contents}\n",
    "```"
   ]
  },
  {
   "cell_type": "markdown",
   "metadata": {},
   "source": [
    "---"
   ]
  },
  {
   "cell_type": "markdown",
   "metadata": {},
   "source": [
    "## Sections\n",
    "```{tableofcontents}\n",
    "```"
   ]
  },
  {
   "cell_type": "markdown",
   "metadata": {},
   "source": [
    "---"
   ]
  },
  {
   "cell_type": "markdown",
   "metadata": {},
   "source": [
    "## Resources"
   ]
  },
  {
   "cell_type": "markdown",
   "metadata": {},
   "source": [
    "[[P](https://web.ma.utexas.edu/users/m408n/CurrentWeb/index.html)] UT Austin's calculus\n",
    "\n",
    "Dawkins, Paul. _Paul's Online Math Notes_. [Home](https://tutorial.math.lamar.edu/).\n",
    "\n",
    "Guichard, David. _Calculus: early transcendentals_. [Home](https://www.whitman.edu/mathematics/calculus_online/)."
   ]
  },
  {
   "cell_type": "markdown",
   "metadata": {},
   "source": [
    "### YouTube"
   ]
  },
  {
   "cell_type": "markdown",
   "metadata": {},
   "source": [
    "blackpenredpen\n",
    "* [ [y](https://www.youtube.com/watch?v=X65LEl7GFOw) ] `10-18-2023`. \"finally 0^0 approaches 0 after 6 years!\"."
   ]
  },
  {
   "cell_type": "markdown",
   "metadata": {},
   "source": [
    "Jacob Koehler https://www.youtube.com/@JacobKoehler\n",
    "* [ [y](https://www.youtube.com/watch?v=UaPruiO_yiQ) ] `04-18-2021`. \"29 Calculus: Contour Plots in 3D\".\n",
    "* [ [y](https://www.youtube.com/watch?v=_bBSgvixkOc) ] `04-18-2021`. \"28 Calculus: Plotting a 3D Function with Python and Matplotlib\".\n",
    "* [ [y](https://www.youtube.com/watch?v=MKbjy1J_SMs) ] `03-27-2021`. \"18 Calculus: Relating a Function and its Derivative\"."
   ]
  },
  {
   "cell_type": "markdown",
   "metadata": {},
   "source": [
    "MITOpenCourseWare\n",
    "* [ [y](https://www.youtube.com/watch?v=fWOGfzC3IeY) ] `01-04-2011`. \"Integral of exp(-x^2) | MIT 18.02SC Multivariable Calculus, Fall 2010\"."
   ]
  },
  {
   "cell_type": "markdown",
   "metadata": {},
   "source": [
    "Mr P Solver\n",
    "* [ [y](https://www.youtube.com/watch?v=1yBPEPhq54M) ] `01-17-2022`. \"SymPy Tutorial (2022): For Physicists, Engineers, and Mathematicians\".\n",
    "* [ [y](https://www.youtube.com/watch?v=2I44Y9hfQ4Q) ] `08-30-2021`. \"Integration in PYTHON (Symbolic and Numeric)\".\n",
    "* [ [y](https://www.youtube.com/watch?v=DeeoiE22bZ8) ] `08-09-2021`. \"Derivatives in PYTHON (Symbolic and Numeric)\".\n",
    "* [ [y](https://www.youtube.com/watch?v=cTJBJH8hacc) ] `06-28-2021`. \"Matplotlib Tutorial (2022): For Physicists, Engineers, and Mathematicians\".\n",
    "* [ [y](https://www.youtube.com/watch?v=Teb28OFMVFc) ] `06-14-2021`. \"2nd Year Calculus, But in PYTHON\".\n",
    "* [ [y](https://www.youtube.com/watch?v=-SdIZHPuW9o) ] `05-26-2021`. \"1st Year Calculus, But in PYTHON\"."
   ]
  },
  {
   "cell_type": "markdown",
   "metadata": {},
   "source": [
    "Prof Ghrist Math https://www.youtube.com/@prof-g"
   ]
  },
  {
   "cell_type": "markdown",
   "metadata": {},
   "source": [
    "Steve Brunton\n",
    "* [ [y](https://www.youtube.com/watch?v=lG9NOHMy3YU) ] `01-13-2023`. \"Solving PDEs with the Laplace Transform: The Wave Equation\".\n",
    "* [ [y](https://www.youtube.com/watch?v=xuBJFSh6Bu4) ] `01-09-2023`. \"Solving PDEs with the Laplace Transform: The Heat Equation\".\n",
    "* [ [y](https://www.youtube.com/watch?v=WR7z2bdY7Ko) ] `09-17-2022`. \"The Wave Equation and Slack Line Physics\".\n",
    "* [ [y](https://www.youtube.com/watch?v=eI2x99SxJgU) ] `09-17-2022`. \"The Method of Characteristics and the Wave Equation\".\n",
    "* [ [y](https://www.youtube.com/watch?v=ywrgWRSQ3PY) ] `09-17-2022`. \"Solving the Wave Equation with Separation of Variables... and Guitar String Physics\".\n",
    "* [ [y](https://www.youtube.com/watch?v=UXqUXYaRyGU) ] `09-16-2022`. \"Deriving the Wave Equation\".\n",
    "* [ [y](https://www.youtube.com/watch?v=VjWtMl6vQ3Q) ] `09-02-2022`. \"PDE 101: Separation of Variables! ...or how I learned to stop worrying and solve Laplace's equation\".\n",
    "* [ [y](https://www.youtube.com/watch?v=lBZIxv1bZDo) ] `07-29-2022`. \"Deriving the Heat Equation in 2D & 3D (& in N Dimensions!) with Control Volumes and Vector Calculus\".\n",
    "* [ [y](https://www.youtube.com/watch?v=OoRwXVIXpL0) ] `07-22-2022`. \"The Heat Equation and the Steady State Heat Distribution via Laplace's Equation\".\n",
    "* [ [y](https://www.youtube.com/watch?v=9d8PwnKVA-U) ] `07-15-2022`. \"Deriving the Heat Equation: A Parabolic Partial Differential Equation for Heat Energy Conservation\".\n",
    "* [ [y](https://www.youtube.com/watch?v=nmvs0vrBT18) ] `07-08-2022`. \"Laplace's Equation and Poisson's Equation\".\n",
    "* [ [y](https://www.youtube.com/watch?v=pvrIagjEk4c) ] `07-01-2022`. \"Partial Differential Equations Overview\".\n",
    "* [ [y](https://www.youtube.com/watch?v=Xfjs31WcY04) ] `06-17-2022`. \"Potential Flow Part 2: Details and Examples\".\n",
    "* [ [y](https://www.youtube.com/watch?v=zN0zDrQimXU) ] `06-10-2022`. \"Laplace's Equation and Potential Flow\".\n",
    "* [ [y](https://www.youtube.com/watch?v=xa5xornH2ok) ] `05-27-2022`. \"Are all vector fields the gradient of a potential? ... and the Helmholtz Decomposition\".\n",
    "* [ [y](https://www.youtube.com/watch?v=LqNqqidw2mg) ] `05-20-2022`. \"Stokes' Theorem and Green's Theorem\".\n",
    "* [ [y](https://www.youtube.com/watch?v=Fk3X6o39KEI) ] `05-13-2022`. \"The Continuity Equation: A PDE for Mass Conservation, from Gauss's Divergence Theorem\".\n",
    "* [ [y](https://www.youtube.com/watch?v=TORt20_HjMY) ] `05-06-2022`. \"Gauss's Divergence Theorem\".\n",
    "* [ [y](https://www.youtube.com/watch?v=QtiCZQIwBT8) ] `04-21-2022`. \"The Curl of a Vector Field: Measuring Rotation\".\n",
    "* [ [y](https://www.youtube.com/watch?v=So7vlARGs68) ] `04-15-2022`. \"The Divergence of a Vector Field: Sources and Sinks\".\n",
    "* [ [y](https://www.youtube.com/watch?v=yXD5IlDstNk) ] `04-08-2022`. \"The Gradient Operator in Vector Calculus: Directions of Fastest Change & the Directional Derivative\".\n",
    "* [ [y](https://www.youtube.com/watch?v=lKXW7DRyyro) ] `04-01-2022`. \"Div, Grad, and Curl: Vector Calculus Building Blocks for PDEs [Divergence, Gradient, and Curl]\".\n",
    "* [ [y](https://www.youtube.com/watch?v=Jt5R-Tm8cV8) ] `03-25-2022`. \"Vector Calculus and Partial Differential Equations: Big Picture Overview\"."
   ]
  },
  {
   "cell_type": "markdown",
   "metadata": {},
   "source": [
    "More\n",
    "* [ [y](https://www.youtube.com/watch?v=8stueNPVl-I) ] `08-13-2019`. Academic Lesson. \"Calculus for Beginners full course | Calculus for Machine Learning\".\n",
    "* [ [y](https://www.youtube.com/watch?v=2ptFnIj71SM) ] `11-03-2020`. Aleph 0. \"The derivative isn't what you think it is.\".\n",
    "* [ [y](https://www.youtube.com/watch?v=0LsdzwdnKrw) ] `01-13-2024`. The Math Sorcerer. \"Why This Old Book Might Just Be Your Best Bet for Learning Calculus\".\n",
    "* [ [y](https://www.youtube.com/watch?v=X63MWZIN3gM) ] `03-14-2020`. Mathologer. \"Why did they prove this amazing theorem in 200 different ways? Quadratic Reciprocity MASTERCLASS\".\n",
    "* [ [y](https://www.youtube.com/watch?v=YqMelRryG8U) ] `09-02-2021`. Tom Rocks Maths. \"Oxford Calculus: Jacobians Explained\".\n",
    "* [ [y](https://www.youtube.com/watch?v=6O8Jyrr9LRc) ] `02-10-2020`. Zach Star. \"Dear all calculus students, This is why you're learning about optimization\"."
   ]
  },
  {
   "cell_type": "markdown",
   "metadata": {},
   "source": [
    "---"
   ]
  },
  {
   "cell_type": "markdown",
   "metadata": {},
   "source": [
    "## Terms"
   ]
  },
  {
   "cell_type": "markdown",
   "metadata": {},
   "source": [
    "* [w] Affine Function\n",
    "* [[w](https://en.wikipedia.org/wiki/Affine_space)] Affine Space\n",
    "* [[w](https://en.wikipedia.org/wiki/Affine_transformation)] Affine Transformation\n",
    "* [[w](https://en.wikipedia.org/wiki/Algebraic_equation)] Algebraic Equation\n",
    "* [[w](https://en.wikipedia.org/wiki/Ambient_space)] Ambient Space\n",
    "* [[w](https://en.wikipedia.org/wiki/Antiderivative)] Antiderivative\n",
    "* [[w](https://en.wikipedia.org/wiki/Binomial_(polynomial))] Binomial\n",
    "* [[w](https://en.wikipedia.org/wiki/Boundary_value_problem)] Boundary Value Problem\n",
    "* [[w](https://en.wikipedia.org/wiki/Bounded_function)] Bounded Function\n",
    "* [[w](https://en.wikipedia.org/wiki/Calculus)] Calculus\n",
    "* [[w](https://en.wikipedia.org/wiki/History_of_calculus)] Calculus, history\n",
    "* [[w](https://en.wikipedia.org/wiki/Cartesian_coordinate_system)] Cartesian Coordinates\n",
    "* [[w](https://en.wikipedia.org/wiki/Chain_rule)] Chain Rule\n",
    "* [[w](https://en.wikipedia.org/wiki/Change_of_variables)] Change of Variables\n",
    "* [[w](https://en.wikipedia.org/wiki/Chord_(geometry))] Chord\n",
    "* [[w](https://en.wikipedia.org/wiki/Symmetry_of_second_derivatives)] Clairaut's Theorem\n",
    "* [[w](https://en.wikipedia.org/wiki/Closed-form_expression)] Closed-Form Expression\n",
    "* [[w](https://en.wikipedia.org/wiki/Coefficient)] Coefficient\n",
    "* [[w](https://en.wikipedia.org/wiki/Compact_space)] Compactness\n",
    "* [[w](https://en.wikipedia.org/wiki/Completing_the_square)] Completing the Square\n",
    "* [[w](https://en.wikipedia.org/wiki/Concave_function)] Concave Function\n",
    "* [[w](https://en.wikipedia.org/wiki/Conic_section)] Conic Section\n",
    "* [[w](https://en.wikipedia.org/wiki/Constant_term)] Constant Term\n",
    "* [[w](https://en.wikipedia.org/wiki/Constrained_optimization)] Constrained Optimization\n",
    "* [[w](https://en.wikipedia.org/wiki/Constraint_(mathematics))] Constraint\n",
    "* [[w](https://en.wikipedia.org/wiki/Continuous_function)] Continuous Function\n",
    "* [[w](https://en.wikipedia.org/wiki/Convergent_series)] Convergent Series\n",
    "* [[w](https://en.wikipedia.org/wiki/Convex_function)] Convex Function\n",
    "* [[w](https://en.wikipedia.org/wiki/Critical_point_(mathematics))] Critical Point\n",
    "* [[w](https://en.wikipedia.org/wiki/Cubic_function)] Cubic Function\n",
    "* [[w](https://en.wikipedia.org/wiki/Curl_(mathematics))] Curl\n",
    "* [[w](https://en.wikipedia.org/wiki/Curvature)] Curvature\n",
    "* [[w](https://en.wikipedia.org/wiki/Curve)] Curve\n",
    "* [[w](https://en.wikipedia.org/wiki/Cusp_(singularity))] Cusp (Spinode)\n",
    "* [[w](https://en.wikipedia.org/wiki/Degeneracy_(mathematics))] Degeneracy\n",
    "* [[w](https://en.wikipedia.org/wiki/Del)] Del\n",
    "* [[w](https://en.wikipedia.org/wiki/Derivative)] Derivative\n",
    "* [[w](https://en.wikipedia.org/wiki/Derivative_test)] Derivative Test\n",
    "* [[w](https://en.wikipedia.org/wiki/Determinant)] Determinant\n",
    "* [[w](https://en.wikipedia.org/wiki/Difference_quotient)] Difference Quotient\n",
    "* [[w](https://en.wikipedia.org/wiki/Differentiable_curve)] Differentiable Curve\n",
    "* [[w](https://en.wikipedia.org/wiki/Differentiable_function)] Differentiable Function\n",
    "* [[w](https://en.wikipedia.org/wiki/Differential_calculus)] Differential Calculus\n",
    "* [[w](https://en.wikipedia.org/wiki/Differential_equation)] Differential Equation\n",
    "* [[w](https://en.wikipedia.org/wiki/Differential_operator)] Differential Operator\n",
    "* [[w](https://en.wikipedia.org/wiki/Linearity_of_differentiation)] Differentiation, linearity\n",
    "* [[w](https://en.wikipedia.org/wiki/Notation_for_differentiation)] Differentiation, notation\n",
    "* [[w](https://en.wikipedia.org/wiki/Differentiation_rules)] Differentiation, rules\n",
    "* [[w](https://en.wikipedia.org/wiki/Directional_derivative)] Directional Derivative\n",
    "* [[w](https://en.wikipedia.org/wiki/Divergence)] Divergence\n",
    "* [[w](https://en.wikipedia.org/wiki/Dot_product)] Dot Product\n",
    "* [[w](https://en.wikipedia.org/wiki/Eigenvalues_and_eigenvectors)] Eigenvalue\n",
    "* [[w](https://en.wikipedia.org/wiki/Eigenvalues_and_eigenvectors)] Eigenvector\n",
    "* [[w](https://en.wikipedia.org/wiki/Elementary_algebra)] Elementary Algebra\n",
    "* [[w](https://en.wikipedia.org/wiki/Equality_(mathematics))] Equality\n",
    "* [[w](https://en.wikipedia.org/wiki/Equation)] Equation\n",
    "* [[w](https://en.wikipedia.org/wiki/Euclidean_plane)] Euclidean Plane\n",
    "* [[w](https://en.wikipedia.org/wiki/Euclidean_plane_isometry)] Euclidean Plane Isometry\n",
    "* [[w](https://en.wikipedia.org/wiki/Euclidean_space)] Euclidean Space\n",
    "* [[w](https://en.wikipedia.org/wiki/Expression_(mathematics))] Expression\n",
    "* [[w](https://en.wikipedia.org/wiki/Maxima_and_minima)] Extrema\n",
    "* [[w](https://en.wikipedia.org/wiki/Extreme_value_theorem)] Extreme Value Theorem\n",
    "* [[w](https://en.wikipedia.org/wiki/Factorization)] Factorization\n",
    "* [[w](https://en.wikipedia.org/wiki/Feasible_region)] Feasible Region\n",
    "* [[w](https://en.wikipedia.org/wiki/Fermat%27s_theorem_(stationary_points))] Fermat's Theorem\n",
    "* [[w](https://en.wikipedia.org/wiki/Finite_difference)] Finite Difference\n",
    "* [[w](https://en.wikipedia.org/wiki/Fixed_point_(mathematics))] Fixed Point\n",
    "* [[w](https://en.wikipedia.org/wiki/Fluxion)] Fluxion\n",
    "* [[w](https://en.wikipedia.org/wiki/Fubini%27s_theorem)] Fubini's Theorem\n",
    "* [[w](https://en.wikipedia.org/wiki/Function_(mathematics))] Function\n",
    "* [[w](https://en.wikipedia.org/wiki/Fundamental_theorem_of_algebra)] Fundamental Theorem of Algebra\n",
    "* [[w](https://en.wikipedia.org/wiki/Fundamental_theorem_of_calculus)] Fundamental Theorem of Calculus\n",
    "* [[w](https://en.wikipedia.org/wiki/Gauss%27s_law)] Gauss' Law\n",
    "* [[w](https://en.wikipedia.org/wiki/Gaussian_elimination)] Gaussian Elimination\n",
    "* [[w](https://en.wikipedia.org/wiki/Gaussian_integral)] Gaussian Integral\n",
    "* [[w](https://en.wikipedia.org/wiki/Geometric_transformation)] Geometric Transformation\n",
    "* [[w](https://en.wikipedia.org/wiki/Glide_reflection)] Glide Reflection\n",
    "* [[w](https://en.wikipedia.org/wiki/Gradient)] Gradient\n",
    "* [[w](https://en.wikipedia.org/wiki/Graph_of_a_function)] Graph\n",
    "* [[w](https://en.wikipedia.org/wiki/Green%27s_theorem)] Green's Theorem\n",
    "* [[w](https://en.wikipedia.org/wiki/Heine%E2%80%93Borel_theorem)] Heine-Borel Theorem\n",
    "* [[w](https://en.wikipedia.org/wiki/Hessian_matrix)] Hessian\n",
    "* [[w](https://en.wikipedia.org/wiki/Homothety)] Homothety\n",
    "* [[w](https://en.wikipedia.org/wiki/Hyperplane)] Hyperplane\n",
    "* [[w](https://en.wikipedia.org/wiki/Hypersurface)] Hypersurface\n",
    "* [[w](https://en.wikipedia.org/wiki/Implicit_function)] Implicit Function\n",
    "* [[w](https://en.wikipedia.org/wiki/Implicit_function_theorem)] Implicit Function Theorem\n",
    "* [[w](https://en.wikipedia.org/wiki/Inequality_(mathematics))] Inequality\n",
    "* [[w](https://en.wikipedia.org/wiki/Infinitesimal)] Infinitesimal\n",
    "* [[w](https://en.wikipedia.org/wiki/Inflection_point)] Inflection Point\n",
    "* [[w](https://en.wikipedia.org/wiki/Integral)] Integral\n",
    "* [[w](https://en.wikipedia.org/wiki/Integral_operator)] Integral Operator\n",
    "* [[w](https://en.wikipedia.org/wiki/Intermediate_value_theorem)] Intermediate Value Theorem\n",
    "* [[w](https://en.wikipedia.org/wiki/Interval_(mathematics))] Interval\n",
    "* [[w](https://en.wikipedia.org/wiki/Inverse_function)] Inverse Function\n",
    "* [[w](https://en.wikipedia.org/wiki/Inverse_function_rule)] Inverse Function Rule\n",
    "* [[w](https://en.wikipedia.org/wiki/Inverse_function_theorem)] Inverse Function Theorem\n",
    "* [[w](https://en.wikipedia.org/wiki/Irreducible_polynomial)] Irreducible Polynomial\n",
    "* [[w](https://en.wikipedia.org/wiki/Isometry)] Isometry\n",
    "* [[w](https://en.wikipedia.org/wiki/Iterated_integral)] Iterated Integral\n",
    "* [[w](https://en.wikipedia.org/wiki/Jacobian_matrix_and_determinant)] Jacobian\n",
    "* [[w](https://en.wikipedia.org/wiki/L%27H%C3%B4pital%27s_rule)] L'Hôpital's Rule\n",
    "* [[w](https://en.wikipedia.org/wiki/Laplace_operator)] Laplace Operator\n",
    "* [[w](https://en.wikipedia.org/wiki/Laplace_transform)] Laplace Transform\n",
    "* [[w](https://en.wikipedia.org/wiki/Lebesgue_integration)] Lebesgue Integration\n",
    "* [[w](https://en.wikipedia.org/wiki/Contour_line)] Level Curve (Contour Line, Isoline)\n",
    "* [w] Level Hypersurface\n",
    "* [[w](https://en.wikipedia.org/wiki/Level_set)] Level Set\n",
    "* [[w](https://en.wikipedia.org/wiki/Isosurface)] Level Surface (Isosurface)\n",
    "* [[w](https://en.wikipedia.org/wiki/Limit_(mathematics))] Limit\n",
    "* [[w](https://en.wikipedia.org/wiki/Limit_of_a_function)] Limit of a function\n",
    "* [[w](https://en.wikipedia.org/wiki/Line_integral)] Line Integral\n",
    "* [[w](https://en.wikipedia.org/wiki/Linear_approximation)] Linear Approximation\n",
    "* [[w](https://en.wikipedia.org/wiki/Linear_map)] Linear Map/Transformation\n",
    "* [w] Linear Constraint\n",
    "* [w] Linear Program (LP)\n",
    "* [[w](https://en.wikipedia.org/wiki/Loss_function)] Loss Function\n",
    "* [[w](https://en.wikipedia.org/wiki/Map_(mathematics))] Map\n",
    "* [[w](https://en.wikipedia.org/wiki/Map_projection)] Map Projections\n",
    "* [w] Mathematical Model\n",
    "* [[w](https://en.wikipedia.org/wiki/Matrix_(mathematics))] Matrix\n",
    "* [[w](https://en.wikipedia.org/wiki/Maxima_and_minima)] Maxima\n",
    "* [[w](https://en.wikipedia.org/wiki/Mean_value_theorem)] Mean Value Theorem (Lagrange Theorem)\n",
    "* [[w](https://en.wikipedia.org/wiki/Measurable_function)] Measurable Function\n",
    "* [[w](https://en.wikipedia.org/wiki/Maxima_and_minima)] Minima\n",
    "* [[w](https://en.wikipedia.org/wiki/Monic_polynomial)] Monic Polynomial\n",
    "* [[w](https://en.wikipedia.org/wiki/Monotonic_function)] Monotonic Function\n",
    "* [[w](https://en.wikipedia.org/wiki/Multiple_integral)] Multiple Integral\n",
    "* [[w](https://en.wikipedia.org/wiki/Multivariable_calculus)] Multivariable Calculus\n",
    "* [[w](https://en.wikipedia.org/wiki/Function_(mathematics)#Multivariate_function)] Multivariate Function (Function of Several Variables)\n",
    "* [[w](https://en.wikipedia.org/wiki/Nabla_symbol)] Nabla\n",
    "* [[w](https://en.wikipedia.org/wiki/Notation_for_differentiation)] notation for differentiation\n",
    "* [[w](https://en.wikipedia.org/wiki/Numerical_integration)] Numerical Integration\n",
    "* [[w](https://en.wikipedia.org/wiki/Loss_function)] Objective Function\n",
    "* [[w](https://en.wikipedia.org/wiki/One-sided_limit)] One-Sided Limit\n",
    "* [[w](https://en.wikipedia.org/wiki/Operator_(mathematics))] Operator\n",
    "* [[w](https://en.wikipedia.org/wiki/Order_of_integration_(calculus))] Order of Integration\n",
    "* [[w](https://en.wikipedia.org/wiki/Parametric_equation)] Parametric Equation\n",
    "* [[w](https://en.wikipedia.org/wiki/Partial_derivative)] Partial Derivative\n",
    "* [[w](https://en.wikipedia.org/wiki/Plane_(geometry))] Plane\n",
    "* [[w](https://en.wikipedia.org/wiki/Polynomial)] Polynomial\n",
    "* [[w](https://en.wikipedia.org/wiki/Power_rule)] Power Rule\n",
    "* [[w](https://en.wikipedia.org/wiki/Product_rule)] Product Rule\n",
    "* [[w](https://en.wikipedia.org/wiki/Quadratic_equation)] Quadratic Equation\n",
    "* [[w](https://en.wikipedia.org/wiki/Quadratic_form)] Quadratic Form\n",
    "* [[w](https://en.wikipedia.org/wiki/Quadratic_formula)] Quadratic Formula\n",
    "* [[w](https://en.wikipedia.org/wiki/Quadratic_function)] Quadratic Polynomial\n",
    "* [[w](https://en.wikipedia.org/wiki/Quadric)] Quadric\n",
    "* [[W](https://en.wikipedia.org/wiki/Quartic_function)] Quartic Function\n",
    "* [[w](https://en.wikipedia.org/wiki/Quotient_rule)] Quotient Rule\n",
    "* [[w](https://en.wikipedia.org/wiki/Rate_(mathematics))] Rate\n",
    "* [[w](https://en.wikipedia.org/wiki/Reflection_(mathematics))] Reflection\n",
    "* [[w](https://en.wikipedia.org/wiki/Zero_of_a_function)] Root (Zero)\n",
    "* [[w](https://en.wikipedia.org/wiki/Rotation_(mathematics))] Rotation\n",
    "* [[w](https://en.wikipedia.org/wiki/Rotations_and_reflections_in_two_dimensions)] Rotations and reflections in two dimensions\n",
    "* [[w](https://en.wikipedia.org/wiki/Reciprocal_rule)] Reciprocal Rule\n",
    "* [[w](https://en.wikipedia.org/wiki/Rolle%27s_theorem)] Rolle's Theorem\n",
    "* [[w](https://en.wikipedia.org/wiki/Saddle_point)] Saddle Point\n",
    "* [[w](https://en.wikipedia.org/wiki/Scalar_field)] Scalar Field\n",
    "* [[w](https://en.wikipedia.org/wiki/Scaling_(geometry))] Scaling\n",
    "* [[w](https://en.wikipedia.org/wiki/Secant_line)] Secant\n",
    "* [[w](https://en.wikipedia.org/wiki/Second_derivative)] Second-Order Derivative\n",
    "* [[w](https://en.wikipedia.org/wiki/Semi-differentiability)] Semi Differentiability\n",
    "* [[w](https://en.wikipedia.org/wiki/Sequence)] Sequence\n",
    "* [[w](https://en.wikipedia.org/wiki/Series_(mathematics))] Series\n",
    "* [[w](https://en.wikipedia.org/wiki/Shear_mapping)] Shearing\n",
    "* [[w](https://en.wikipedia.org/wiki/Similarity_(geometry))] Similarity\n",
    "* [[w](https://en.wikipedia.org/wiki/Singular_point_of_a_curve)] Singular Point\n",
    "* [[w](https://en.wikipedia.org/wiki/Cusp_(singularity))] Spinode (Cusp)\n",
    "* [[w](https://en.wikipedia.org/wiki/Square_(algebra))] Square\n",
    "* [[w](https://en.wikipedia.org/wiki/Square_number)] Square Number\n",
    "* [[w](https://en.wikipedia.org/wiki/Square_matrix)] Square Matrix\n",
    "* [[w](https://en.wikipedia.org/wiki/Squeeze_theorem)] Squeeze Theorem\n",
    "* [[w](https://en.wikipedia.org/wiki/Slope)] Slope\n",
    "* [[w](https://en.wikipedia.org/wiki/Smoothness)] Smoothness\n",
    "* [[w](https://en.wikipedia.org/wiki/Stationary_point)] Stationary Point\n",
    "* [[w](https://en.wikipedia.org/wiki/Stokes%27_theorem)] Stokes' Theorem\n",
    "* [[w](https://en.wikipedia.org/wiki/Summation)] Summation\n",
    "* [[w](https://en.wikipedia.org/wiki/Surface_(mathematics))] Surface\n",
    "* [[w](https://en.wikipedia.org/wiki/Surface_integral)] Surface Integral\n",
    "* [[w](https://en.wikipedia.org/wiki/Symbolic_integration)] Symbolic Integration\n",
    "* [[w](https://en.wikipedia.org/wiki/Symmetric_matrix)] Symmetric Matrix\n",
    "* [[w](https://en.wikipedia.org/wiki/Symmetry_operation)] Symmetry Operation\n",
    "* [[w](https://en.wikipedia.org/wiki/Tangent)] Tangent\n",
    "* [[w](https://en.wikipedia.org/wiki/Taylor%27s_theorem)] Taylor's Theorem\n",
    "* [[w](https://en.wikipedia.org/wiki/Taylor_series)] Taylor Series\n",
    "* [[w](https://en.wikipedia.org/wiki/Time_derivative)] Time Derivative\n",
    "* [[w](https://en.wikipedia.org/wiki/Translation_(geometry))] Translation\n",
    "* [[w](https://en.wikipedia.org/wiki/Undefined_(mathematics))] Undefined\n",
    "* [w] Unit Ball\n",
    "* [[w](https://en.wikipedia.org/wiki/Unit_cube)] Unit Cube\n",
    "* [[w](https://en.wikipedia.org/wiki/Unit_disk)] Unit Disk\n",
    "* [[w](https://en.wikipedia.org/wiki/Unit_hyperbola)] Unit Hyperbola\n",
    "* [[w](https://en.wikipedia.org/wiki/Unit_sphere)] Unit Sphere\n",
    "* [[w](https://en.wikipedia.org/wiki/Unit_square)] Unit Square\n",
    "* [[w](https://en.wikipedia.org/wiki/Euclidean_vector)] Vector\n",
    "* [[w](https://en.wikipedia.org/wiki/Vector_calculus)] Vector Calculus\n",
    "* [[w](https://en.wikipedia.org/wiki/Vector_field)] Vector Field\n",
    "* [[w](https://en.wikipedia.org/wiki/Vector-valued_function)] Vector-Valued Function\n",
    "* [[w](https://en.wikipedia.org/wiki/Vertex_(curve))] Vertex\n",
    "* [[w](https://en.wikipedia.org/wiki/Vertical_tangent)] Vertical Tangent"
   ]
  },
  {
   "cell_type": "markdown",
   "metadata": {},
   "source": [
    "---"
   ]
  }
 ],
 "metadata": {
  "language_info": {
   "name": "python"
  }
 },
 "nbformat": 4,
 "nbformat_minor": 2
}
