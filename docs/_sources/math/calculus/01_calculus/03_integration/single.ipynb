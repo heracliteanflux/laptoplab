{
 "cells": [
  {
   "attachments": {},
   "cell_type": "markdown",
   "metadata": {},
   "source": [
    "# Integration"
   ]
  },
  {
   "attachments": {},
   "cell_type": "markdown",
   "metadata": {},
   "source": [
    "---"
   ]
  },
  {
   "attachments": {},
   "cell_type": "markdown",
   "metadata": {},
   "source": [
    "```{admonition} Revised\n",
    "14 Jun 2023\n",
    "```\n",
    "```{contents}\n",
    "```"
   ]
  },
  {
   "attachments": {},
   "cell_type": "markdown",
   "metadata": {},
   "source": [
    "---"
   ]
  },
  {
   "attachments": {},
   "cell_type": "markdown",
   "metadata": {},
   "source": [
    "## Programming Environment"
   ]
  },
  {
   "cell_type": "code",
   "execution_count": 33,
   "metadata": {
    "tags": [
     "hide-input"
    ]
   },
   "outputs": [
    {
     "name": "stdout",
     "output_type": "stream",
     "text": [
      "EXECUTED            : 2023-06-14 13:07:31.706461\n",
      "\n",
      "Platform            : 13.3.1 | Darwin | 22.4.0 | arm64\n",
      "                    : UTF-8\n",
      "\n",
      "Python              : 3.10.8 | packaged by conda-forge | (main, Nov 22 2022, 08:25:29) [Clang 14.0.6 ]\n",
      "                    : sys.version_info(major=3, minor=10, micro=8, releaselevel='final', serial=0)\n",
      "                    : CPython\n",
      "\n",
      "Matplotlib          : 3.6.3\n",
      "NumPy               : 1.24.1\n",
      "Pandas              : 1.5.3\n",
      "Plotly              : 5.13.0\n",
      "SymPy               : 1.11.1\n"
     ]
    }
   ],
   "source": [
    "import numpy             as np\n",
    "import pandas            as pd\n",
    "import matplotlib        as mpl\n",
    "import matplotlib.pyplot as plt\n",
    "from   matplotlib           import gridspec\n",
    "from   mpl_toolkits.mplot3d import axes3d\n",
    "from   ipywidgets           import interactive\n",
    "plt.style.use('ggplot');\n",
    "\n",
    "import sympy as smp\n",
    "from   sympy import *\n",
    "\n",
    "import plotly\n",
    "import plotly.figure_factory as ff\n",
    "import plotly.graph_objects  as go\n",
    "\n",
    "from IPython.display import display, Math\n",
    "\n",
    "from   datetime import datetime as d\n",
    "import locale                   as l\n",
    "import platform                 as p\n",
    "import sys                      as s\n",
    "\n",
    "pad = 20\n",
    "print(f\"{'Executed'.upper():<{pad}}: {d.now()}\")\n",
    "print()\n",
    "print(f\"{'Platform'        :<{pad}}: \"\n",
    "      f\"{p.mac_ver()[0]} | \"\n",
    "      f\"{p.system()} | \"\n",
    "      f\"{p.release()} | \"\n",
    "      f\"{p.machine()}\")\n",
    "print(f\"{''                :<{pad}}: {l.getpreferredencoding()}\")\n",
    "print()\n",
    "print(f\"{'Python'          :<{pad}}: {s.version}\")\n",
    "print(f\"{''                :<{pad}}: {s.version_info}\")\n",
    "print(f\"{''                :<{pad}}: {p.python_implementation()}\")\n",
    "print()\n",
    "print(f\"{'Matplotlib'      :<{pad}}: {mpl   .__version__}\")\n",
    "print(f\"{'NumPy'           :<{pad}}: {np    .__version__}\")\n",
    "print(f\"{'Pandas'          :<{pad}}: {pd    .__version__}\")\n",
    "print(f\"{'Plotly'          :<{pad}}: {plotly.__version__}\")\n",
    "print(f\"{'SymPy'           :<{pad}}: {smp   .__version__}\")"
   ]
  },
  {
   "attachments": {},
   "cell_type": "markdown",
   "metadata": {},
   "source": [
    "---"
   ]
  },
  {
   "attachments": {},
   "cell_type": "markdown",
   "metadata": {},
   "source": [
    "## Definite Integration"
   ]
  },
  {
   "attachments": {},
   "cell_type": "markdown",
   "metadata": {},
   "source": [
    "### $\\begin{aligned}\\frac{1}{4}=\\int_0^\\frac{\\pi}{2}\\sin^3\\theta\\cos\\theta\\,d\\theta\\end{aligned}$"
   ]
  },
  {
   "attachments": {},
   "cell_type": "markdown",
   "metadata": {},
   "source": [
    "$\n",
    "\\begin{aligned}\n",
    "&\\int_{\\theta=0}^{\\theta=\\frac{\\pi}{2}}\\sin^3\\theta\\cos\\theta\\,d\\theta\n",
    "\\\\\n",
    "u&=\\sin\\theta\n",
    "\\\\\n",
    "du&=\\cos\\theta\\,d\\theta\n",
    "\\\\\n",
    "\\theta&=0\n",
    "\\implies\n",
    "u=0\n",
    "\\\\\n",
    "\\theta&=\\frac{\\pi}{2}\n",
    "\\implies\n",
    "u=1\n",
    "\\\\\n",
    "&\\int_{\\theta=0}^{\\theta=\\frac{\\pi}{2}}\\sin^3\\theta\\cos\\theta\\,d\\theta\n",
    "=\\int_{u=0}^{u=1}u^3\\,du\n",
    "=\\left.\\left(\\frac{1}{4}u^4\\right)\\right|_{u=0}^{u=1}\n",
    "=\\frac{1}{4}\n",
    "\\end{aligned}\n",
    "$"
   ]
  },
  {
   "attachments": {},
   "cell_type": "markdown",
   "metadata": {},
   "source": [
    "---"
   ]
  },
  {
   "attachments": {},
   "cell_type": "markdown",
   "metadata": {},
   "source": [
    "### $\\begin{aligned}\\frac{4}{3}=\\int_0^\\pi\\sin^3\\phi\\,d\\phi\\end{aligned}$"
   ]
  },
  {
   "attachments": {},
   "cell_type": "markdown",
   "metadata": {},
   "source": [
    "$\n",
    "\\begin{aligned}\n",
    "\\int_{\\phi=0}^{\\phi=\\pi}\\sin^3\\phi\\,d\\phi\n",
    "&=\\int_{\\phi=0}^{\\phi=\\pi}\\sin\\phi\\sin^2\\phi\\,d\\phi\n",
    "=\\int_{\\phi=0}^{\\phi=\\pi}\\sin\\phi(1-\\cos^2\\phi)\\,d\\phi\n",
    "=\\int_{\\phi=0}^{\\phi=\\pi}\\sin\\phi-\\sin\\phi\\cos^2\\phi\\,d\\phi\n",
    "\\\\\n",
    "&=\\int_{\\phi=0}^{\\phi=\\pi}\\sin\\phi\\,d\\phi-\\int_{\\phi=0}^{\\phi=\\pi}\\sin\\phi\\cos^2\\phi\\,d\\phi\n",
    "\\\\\n",
    "&=2-\\int_{\\phi=0}^{\\phi=\\pi}\\sin\\phi\\cos^2\\phi\\,d\\phi\n",
    "&&2=\\int_{\\phi=0}^{\\phi=\\pi}\\sin\\phi\\,d\\phi\n",
    "\\\\\n",
    "u&=\\cos\\phi\n",
    "\\\\\n",
    "-du&=\\sin\\phi\\,d\\phi\n",
    "\\\\\n",
    "\\phi&=0\n",
    "\\implies\n",
    "u=1\n",
    "\\\\\n",
    "\\phi&=\\pi\n",
    "\\implies\n",
    "u=-1\n",
    "\\\\\n",
    "\\int_{\\phi=0}^{\\phi=\\pi}\\sin^3\\phi\\,d\\phi\n",
    "&=2+\\int_{u=1}^{u=-1}u^2\\,du\n",
    "\\\\\n",
    "&=2+\\left.\\left(\\frac{1}{3}u^3\\right)\\right|_{u=1}^{u=-1}\n",
    "\\\\\n",
    "&=2-\\frac{2}{3}\n",
    "\\\\\n",
    "&=\\frac{4}{3}\n",
    "\\end{aligned}\n",
    "$"
   ]
  },
  {
   "attachments": {},
   "cell_type": "markdown",
   "metadata": {},
   "source": [
    "---"
   ]
  },
  {
   "attachments": {},
   "cell_type": "markdown",
   "metadata": {},
   "source": [
    "### $\\begin{aligned}\\frac{1}{3}-\\frac{1}{3\\sqrt[3]{2}}=\\int_0^\\frac{\\pi}{4}\\cos^2\\theta\\sin\\theta\\,d\\theta\\end{aligned}$"
   ]
  },
  {
   "attachments": {},
   "cell_type": "markdown",
   "metadata": {},
   "source": [
    "$\n",
    "\\begin{aligned}\n",
    "&\\int_0^\\frac{\\pi}{4}\\cos^2\\theta\\sin\\theta\\,d\\theta\n",
    "\\\\\n",
    "u&=\\cos\\theta\n",
    "\\\\\n",
    "du&=-\\sin\\theta\\,d\\theta\n",
    "\\iff\n",
    "-du=\\sin\\theta\\,d\\theta\n",
    "\\\\\n",
    "\\theta&=0\n",
    "\\implies\n",
    "u=1\n",
    "\\\\\n",
    "\\theta&=\\frac{\\pi}{4}\n",
    "\\implies\n",
    "u=\\frac{1}{\\sqrt{2}}\n",
    "\\\\\n",
    "&\\int_0^\\frac{\\pi}{4}\\cos^2\\theta\\sin\\theta\\,d\\theta\n",
    "=\\int_\\frac{1}{\\sqrt{2}}^1u^2\\,du\n",
    "=\\left.\\left(\\frac{1}{3}u^3\\right)\\right|_\\frac{1}{\\sqrt{2}}^1\n",
    "=\\frac{1}{3}-\\frac{1}{3}\\left(\\frac{1}{\\sqrt{2}}\\right)^3\n",
    "=\\frac{1}{3}-\\frac{1}{3\\sqrt[3]{2}}\n",
    "\\approx0.2155\n",
    "\\end{aligned}\n",
    "$"
   ]
  },
  {
   "cell_type": "code",
   "execution_count": 1,
   "metadata": {},
   "outputs": [
    {
     "data": {
      "text/plain": [
       "0.21548220313557542"
      ]
     },
     "execution_count": 1,
     "metadata": {},
     "output_type": "execute_result"
    }
   ],
   "source": [
    "((1/3)-(1/(3*2**(3/2))))"
   ]
  },
  {
   "attachments": {},
   "cell_type": "markdown",
   "metadata": {},
   "source": [
    "---"
   ]
  },
  {
   "attachments": {},
   "cell_type": "markdown",
   "metadata": {},
   "source": [
    "### $\\begin{aligned}\\frac{7}{3}=\\int_0^\\frac{\\pi}{3}\\sec^4\\theta\\sin\\theta\\,d\\theta\\end{aligned}$"
   ]
  },
  {
   "attachments": {},
   "cell_type": "markdown",
   "metadata": {},
   "source": [
    "$\n",
    "\\begin{aligned}\n",
    "\\int_0^\\frac{\\pi}{3}\\sec^4\\theta\\sin\\theta\\,d\\theta\n",
    "&=\\int_0^\\frac{\\pi}{3}\\frac{1}{\\cos^4\\theta}\\sin\\theta\\,d\\theta\n",
    "\\\\\n",
    "u&=\\cos\\theta\n",
    "\\\\\n",
    "du&=-\\sin\\theta\\,d\\theta\n",
    "\\iff\n",
    "-du=\\sin\\theta\\,d\\theta\n",
    "\\\\\n",
    "\\theta&=0\n",
    "\\implies\n",
    "u=1\n",
    "\\\\\n",
    "\\theta&=\\frac{\\pi}{3}\n",
    "\\implies\n",
    "u=\\frac{1}{2}\n",
    "\\\\\n",
    "\\int_0^\\frac{\\pi}{3}\\sec^4\\theta\\sin\\theta\\,d\\theta\n",
    "&=\\int_\\frac{1}{2}^1u^{-4}\\,du\n",
    "\\\\\n",
    "&=\\left.\\left(-\\frac{1}{3}u^{-3}\\right)\\right|_\\frac{1}{2}^1\n",
    "=-\\frac{1}{3}(1)^{-3}+\\frac{1}{3}\\left(\\frac{1}{2}\\right)^{-3}\n",
    "=\\frac{7}{3}\n",
    "\\end{aligned}\n",
    "$"
   ]
  },
  {
   "attachments": {},
   "cell_type": "markdown",
   "metadata": {},
   "source": [
    "---"
   ]
  },
  {
   "attachments": {},
   "cell_type": "markdown",
   "metadata": {},
   "source": [
    "### $\\begin{aligned}\\int_0^{\\ln(4)} \\frac{e^x}{\\sqrt{e^{2x} + 9}} \\,dx\\end{aligned}$"
   ]
  },
  {
   "attachments": {},
   "cell_type": "markdown",
   "metadata": {},
   "source": [
    "$\n",
    "\\begin{aligned}\n",
    "\\int_0^{\\ln(4)} \\frac{e^x}{\\sqrt{e^{2x} + 9}} \\,dx\n",
    "\\end{aligned}\n",
    "$"
   ]
  },
  {
   "cell_type": "code",
   "execution_count": 34,
   "metadata": {},
   "outputs": [
    {
     "data": {
      "text/latex": [
       "$\\displaystyle \\begin{aligned}\\text{integrand}&:\\frac{e^{x}}{\\sqrt{e^{2 x} + 9}}\\\\\\text{indefinite integral}&:\\operatorname{asinh}{\\left(\\frac{e^{x}}{3} \\right)} + C\\\\\\text{definite integral}&:- \\operatorname{asinh}{\\left(\\frac{1}{3} \\right)} + \\operatorname{asinh}{\\left(\\frac{4}{3} \\right)}\\end{aligned}$"
      ],
      "text/plain": [
       "<IPython.core.display.Math object>"
      ]
     },
     "metadata": {},
     "output_type": "display_data"
    }
   ],
   "source": [
    "x = smp.symbols('x')\n",
    "\n",
    "integrand    = smp.exp(x) / smp.sqrt(smp.exp(2*x) + 9)\n",
    "ind_integral = smp.integrate(integrand, x)\n",
    "def_integral = smp.integrate(integrand, (x, 0, smp.log(4)))\n",
    "\n",
    "display(Math(\n",
    "  r\"\\begin{aligned}\"\n",
    "  r\"\\text{integrand}&:\"\n",
    "  f\"{smp.latex(integrand)}\"\n",
    "  r\"\\\\\"\n",
    "  r\"\\text{indefinite integral}&:\"\n",
    "  f\"{smp.latex(ind_integral)} + C\"\n",
    "  r\"\\\\\"\n",
    "  r\"\\text{definite integral}&:\"\n",
    "  f\"{smp.latex(def_integral)}\"\n",
    "  r\"\\end{aligned}\"\n",
    "))"
   ]
  },
  {
   "attachments": {},
   "cell_type": "markdown",
   "metadata": {},
   "source": [
    "---"
   ]
  },
  {
   "attachments": {},
   "cell_type": "markdown",
   "metadata": {},
   "source": [
    "### $\\begin{aligned}\\int_1^t x^{10}e^x \\,dx\\end{aligned}$"
   ]
  },
  {
   "attachments": {},
   "cell_type": "markdown",
   "metadata": {},
   "source": [
    "$\n",
    "\\begin{aligned}\n",
    "\\int_1^t x^{10}e^x \\,dx\n",
    "\\end{aligned}\n",
    "$"
   ]
  },
  {
   "cell_type": "code",
   "execution_count": 35,
   "metadata": {},
   "outputs": [
    {
     "data": {
      "text/latex": [
       "$\\displaystyle \\begin{aligned}\\text{integrand}&:x^{10} e^{x}\\\\\\text{indefinite integral}&:\\left(x^{10} - 10 x^{9} + 90 x^{8} - 720 x^{7} + 5040 x^{6} - 30240 x^{5} + 151200 x^{4} - 604800 x^{3} + 1814400 x^{2} - 3628800 x + 3628800\\right) e^{x} + C\\\\\\text{definite integral}&:\\left(t^{10} - 10 t^{9} + 90 t^{8} - 720 t^{7} + 5040 t^{6} - 30240 t^{5} + 151200 t^{4} - 604800 t^{3} + 1814400 t^{2} - 3628800 t + 3628800\\right) e^{t} - 1334961 e\\end{aligned}$"
      ],
      "text/plain": [
       "<IPython.core.display.Math object>"
      ]
     },
     "metadata": {},
     "output_type": "display_data"
    }
   ],
   "source": [
    "x, t = smp.symbols('x t')\n",
    "\n",
    "integrand    = x**10 * smp.exp(x)\n",
    "ind_integral = smp.integrate(integrand, x)\n",
    "def_integral = smp.integrate(integrand, (x, 1, t))\n",
    "\n",
    "display(Math(\n",
    "  r\"\\begin{aligned}\"\n",
    "  r\"\\text{integrand}&:\"\n",
    "  f\"{smp.latex(integrand)}\"\n",
    "  r\"\\\\\"\n",
    "  r\"\\text{indefinite integral}&:\"\n",
    "  f\"{smp.latex(ind_integral)} + C\"\n",
    "  r\"\\\\\"\n",
    "  r\"\\text{definite integral}&:\"\n",
    "  f\"{smp.latex(def_integral)}\"\n",
    "  r\"\\end{aligned}\"\n",
    "))"
   ]
  },
  {
   "attachments": {},
   "cell_type": "markdown",
   "metadata": {},
   "source": [
    "---"
   ]
  },
  {
   "attachments": {},
   "cell_type": "markdown",
   "metadata": {},
   "source": [
    "## Improper Integration"
   ]
  },
  {
   "attachments": {},
   "cell_type": "markdown",
   "metadata": {},
   "source": [
    "### $\\begin{aligned}\\int_0^\\infty \\frac{16\\tan^{-1}(x)}{1 + x^2} \\,dx\\end{aligned}$"
   ]
  },
  {
   "attachments": {},
   "cell_type": "markdown",
   "metadata": {},
   "source": [
    "$\n",
    "\\begin{aligned}\n",
    "\\int_0^\\infty \\frac{16\\tan^{-1}(x)}{1 + x^2} \\,dx\n",
    "\\end{aligned}\n",
    "$"
   ]
  },
  {
   "cell_type": "code",
   "execution_count": null,
   "metadata": {},
   "outputs": [
    {
     "data": {
      "text/latex": [
       "$\\displaystyle \\begin{aligned}\\text{integrand}&:\\frac{16 \\operatorname{atan}{\\left(x \\right)}}{x^{2} + 1}\\\\\\text{indefinite integral}&:8 \\operatorname{atan}^{2}{\\left(x \\right)} + C\\\\\\text{definite integral}&:2 \\pi^{2}\\end{aligned}$"
      ],
      "text/plain": [
       "<IPython.core.display.Math object>"
      ]
     },
     "metadata": {},
     "output_type": "display_data"
    }
   ],
   "source": [
    "x = smp.symbols('x')\n",
    "\n",
    "integrand    = 16*smp.atan(x) / (1 + x**2)\n",
    "ind_integral = smp.integrate(integrand, x)\n",
    "def_integral = smp.integrate(integrand, (x, 0, smp.oo))\n",
    "\n",
    "display(Math(\n",
    "  r\"\\begin{aligned}\"\n",
    "  r\"\\text{integrand}&:\"\n",
    "  f\"{smp.latex(integrand)}\"\n",
    "  r\"\\\\\"\n",
    "  r\"\\text{indefinite integral}&:\"\n",
    "  f\"{smp.latex(ind_integral)} + C\"\n",
    "  r\"\\\\\"\n",
    "  r\"\\text{definite integral}&:\"\n",
    "  f\"{smp.latex(def_integral)}\"\n",
    "  r\"\\end{aligned}\"\n",
    "))"
   ]
  },
  {
   "attachments": {},
   "cell_type": "markdown",
   "metadata": {},
   "source": [
    "---"
   ]
  },
  {
   "attachments": {},
   "cell_type": "markdown",
   "metadata": {},
   "source": [
    "## Indefinite Integration"
   ]
  },
  {
   "attachments": {},
   "cell_type": "markdown",
   "metadata": {},
   "source": [
    "### $\\begin{aligned}\\int \\csc(x) \\cot(x) \\,dx\\end{aligned}$"
   ]
  },
  {
   "attachments": {},
   "cell_type": "markdown",
   "metadata": {},
   "source": [
    "$\n",
    "\\begin{aligned}\n",
    "\\int \\csc(x) \\cot(x) \\,dx\n",
    "\\end{aligned}\n",
    "$"
   ]
  },
  {
   "cell_type": "code",
   "execution_count": 47,
   "metadata": {},
   "outputs": [
    {
     "data": {
      "text/latex": [
       "$\\displaystyle - \\frac{1}{\\sin{\\left(x \\right)}}$"
      ],
      "text/plain": [
       "-1/sin(x)"
      ]
     },
     "execution_count": 47,
     "metadata": {},
     "output_type": "execute_result"
    }
   ],
   "source": [
    "# remember to add the \"+ C\"\n",
    "smp.integrate(\n",
    "  smp.csc(x)*smp.cot(x),\n",
    "  x,\n",
    ")"
   ]
  },
  {
   "attachments": {},
   "cell_type": "markdown",
   "metadata": {},
   "source": [
    "---"
   ]
  },
  {
   "attachments": {},
   "cell_type": "markdown",
   "metadata": {},
   "source": [
    "### $\\begin{aligned}\\int 4\\sec(3x) \\tan(3x) \\,dx\\end{aligned}$"
   ]
  },
  {
   "attachments": {},
   "cell_type": "markdown",
   "metadata": {},
   "source": [
    "$\n",
    "\\begin{aligned}\n",
    "\\int 4\\sec(3x) \\tan(3x) \\,dx\n",
    "\\end{aligned}\n",
    "$"
   ]
  },
  {
   "cell_type": "code",
   "execution_count": null,
   "metadata": {},
   "outputs": [
    {
     "data": {
      "text/latex": [
       "$\\displaystyle \\frac{4}{3 \\cos{\\left(3 x \\right)}}$"
      ],
      "text/plain": [
       "4/(3*cos(3*x))"
      ]
     },
     "metadata": {},
     "output_type": "display_data"
    }
   ],
   "source": [
    "# remember to add the \"+ C\"\n",
    "smp.integrate(\n",
    "  4*smp.sec(3*x)*smp.tan(3*x),\n",
    "  x,\n",
    ")"
   ]
  },
  {
   "attachments": {},
   "cell_type": "markdown",
   "metadata": {},
   "source": [
    "---"
   ]
  },
  {
   "attachments": {},
   "cell_type": "markdown",
   "metadata": {},
   "source": [
    "### $\\begin{aligned}\\int \\left( \\frac{2}{\\sqrt{1 - x^2}} - \\frac{1}{x^\\frac{1}{4}} \\right) \\,dx\\end{aligned}$"
   ]
  },
  {
   "attachments": {},
   "cell_type": "markdown",
   "metadata": {},
   "source": [
    "$\n",
    "\\begin{aligned}\n",
    "\\int \\left( \\frac{2}{\\sqrt{1 - x^2}} - \\frac{1}{x^\\frac{1}{4}} \\right) \\,dx\n",
    "\\end{aligned}\n",
    "$"
   ]
  },
  {
   "cell_type": "code",
   "execution_count": null,
   "metadata": {},
   "outputs": [
    {
     "data": {
      "text/latex": [
       "$\\displaystyle - \\frac{4 x^{\\frac{3}{4}}}{3} + 2 \\operatorname{asin}{\\left(x \\right)}$"
      ],
      "text/plain": [
       "-4*x**(3/4)/3 + 2*asin(x)"
      ]
     },
     "metadata": {},
     "output_type": "display_data"
    }
   ],
   "source": [
    "# remember to add the \"+ C\"\n",
    "smp.integrate(\n",
    "  2/smp.sqrt(1-x**2) - 1/x**smp.Rational(1,4),\n",
    "  x,\n",
    ")"
   ]
  },
  {
   "attachments": {},
   "cell_type": "markdown",
   "metadata": {},
   "source": [
    "---"
   ]
  },
  {
   "attachments": {},
   "cell_type": "markdown",
   "metadata": {},
   "source": [
    "### $\\begin{aligned}\\int \\frac{(1 + \\sqrt{x})^\\frac{1}{3}}{\\sqrt{x}} \\,dx\\end{aligned}$"
   ]
  },
  {
   "attachments": {},
   "cell_type": "markdown",
   "metadata": {},
   "source": [
    "$\n",
    "\\begin{aligned}\n",
    "\\int \\frac{(1 + \\sqrt{x})^\\frac{1}{3}}{\\sqrt{x}} \\,dx\n",
    "\\end{aligned}\n",
    "$"
   ]
  },
  {
   "cell_type": "code",
   "execution_count": null,
   "metadata": {},
   "outputs": [
    {
     "data": {
      "text/latex": [
       "$\\displaystyle \\frac{\\sqrt[3]{\\sqrt{x} + 1}}{\\sqrt{x}}$"
      ],
      "text/plain": [
       "(sqrt(x) + 1)**(1/3)/sqrt(x)"
      ]
     },
     "metadata": {},
     "output_type": "display_data"
    }
   ],
   "source": [
    "integrand = (1 + smp.sqrt(x))**smp.Rational(1, 3) / smp.sqrt(x)\n",
    "integrand"
   ]
  },
  {
   "cell_type": "code",
   "execution_count": null,
   "metadata": {},
   "outputs": [
    {
     "data": {
      "text/latex": [
       "$\\displaystyle \\frac{3 \\sqrt{x} \\sqrt[3]{\\sqrt{x} + 1}}{2} + \\frac{3 \\sqrt[3]{\\sqrt{x} + 1}}{2}$"
      ],
      "text/plain": [
       "3*sqrt(x)*(sqrt(x) + 1)**(1/3)/2 + 3*(sqrt(x) + 1)**(1/3)/2"
      ]
     },
     "metadata": {},
     "output_type": "display_data"
    }
   ],
   "source": [
    "smp.integrate(integrand, x)"
   ]
  },
  {
   "attachments": {},
   "cell_type": "markdown",
   "metadata": {},
   "source": [
    "---"
   ]
  },
  {
   "attachments": {},
   "cell_type": "markdown",
   "metadata": {},
   "source": [
    "### $\\begin{aligned}\\int x(1 - x^2)^\\frac{1}{4} \\,dx\\end{aligned}$"
   ]
  },
  {
   "attachments": {},
   "cell_type": "markdown",
   "metadata": {},
   "source": [
    "$\n",
    "\\begin{aligned}\n",
    "\\int x(1 - x^2)^\\frac{1}{4} \\,dx\n",
    "\\end{aligned}\n",
    "$"
   ]
  },
  {
   "cell_type": "code",
   "execution_count": 24,
   "metadata": {},
   "outputs": [
    {
     "data": {
      "text/latex": [
       "$\\displaystyle \\begin{aligned}\\text{integrand}&:x \\sqrt[4]{1 - x^{2}}\\\\\\text{integral}&:\\frac{2 x^{2} \\sqrt[4]{1 - x^{2}}}{5} - \\frac{2 \\sqrt[4]{1 - x^{2}}}{5} + C\\end{aligned}$"
      ],
      "text/plain": [
       "<IPython.core.display.Math object>"
      ]
     },
     "metadata": {},
     "output_type": "display_data"
    }
   ],
   "source": [
    "x = smp.symbols('x')\n",
    "\n",
    "integrand = x*(1 - x**2)**smp.Rational(1, 4)\n",
    "integral  = smp.integrate(integrand, x)\n",
    "\n",
    "display(Math(\n",
    "  r\"\\begin{aligned}\"\n",
    "  r\"\\text{integrand}&:\"\n",
    "  f\"{smp.latex(integrand)}\"\n",
    "  r\"\\\\\"\n",
    "  r\"\\text{integral}&:\"\n",
    "  f\"{smp.latex(integral)} + C\"\n",
    "  r\"\\end{aligned}\"\n",
    "))"
   ]
  },
  {
   "attachments": {},
   "cell_type": "markdown",
   "metadata": {},
   "source": [
    "---"
   ]
  },
  {
   "attachments": {},
   "cell_type": "markdown",
   "metadata": {},
   "source": [
    "### $\\begin{aligned}\\int \\frac{(2x - 1)\\cos(\\sqrt{3(2x - 1)^2 + 6})}{\\sqrt{3(2x - 1)^2 + 6}} \\,dx\\end{aligned}$"
   ]
  },
  {
   "attachments": {},
   "cell_type": "markdown",
   "metadata": {},
   "source": [
    "$\n",
    "\\begin{aligned}\n",
    "\\int \\frac{(2x - 1)\\cos(\\sqrt{3(2x - 1)^2 + 6})}{\\sqrt{3(2x - 1)^2 + 6}} \\,dx\n",
    "\\end{aligned}\n",
    "$"
   ]
  },
  {
   "cell_type": "code",
   "execution_count": 25,
   "metadata": {},
   "outputs": [
    {
     "data": {
      "text/latex": [
       "$\\displaystyle \\begin{aligned}\\text{integrand}&:\\frac{\\left(2 x - 1\\right) \\cos{\\left(\\sqrt{3 \\left(2 x - 1\\right)^{2} + 6} \\right)}}{\\sqrt{3 \\left(2 x - 1\\right)^{2} + 6}}\\\\\\text{integral}&:\\frac{\\sin{\\left(\\sqrt{3 \\left(2 x - 1\\right)^{2} + 6} \\right)}}{6} + C\\end{aligned}$"
      ],
      "text/plain": [
       "<IPython.core.display.Math object>"
      ]
     },
     "metadata": {},
     "output_type": "display_data"
    }
   ],
   "source": [
    "x = smp.symbols('x')\n",
    "\n",
    "integrand = (2*x - 1)*smp.cos(smp.sqrt(3*(2*x - 1)**2 + 6)) / smp.sqrt(3*(2*x - 1)**2 + 6)\n",
    "integral  = smp.integrate(integrand, x)\n",
    "\n",
    "display(Math(\n",
    "  r\"\\begin{aligned}\"\n",
    "  r\"\\text{integrand}&:\"\n",
    "  f\"{smp.latex(integrand)}\"\n",
    "  r\"\\\\\"\n",
    "  r\"\\text{integral}&:\"\n",
    "  f\"{smp.latex(integral)} + C\"\n",
    "  r\"\\end{aligned}\"\n",
    "))"
   ]
  },
  {
   "attachments": {},
   "cell_type": "markdown",
   "metadata": {},
   "source": [
    "---"
   ]
  },
  {
   "attachments": {},
   "cell_type": "markdown",
   "metadata": {},
   "source": [
    "## Terms"
   ]
  },
  {
   "attachments": {},
   "cell_type": "markdown",
   "metadata": {},
   "source": [
    "* [[W](https://en.wikipedia.org/wiki/Antiderivative)] Anti Derivative\n",
    "* [[W](https://en.wikipedia.org/wiki/Indefinite_sum)] Antidifference (Indefinite Sum)\n",
    "* [[W](https://en.wikipedia.org/wiki/Improper_integral)] Improper Integral\n",
    "* [[W](https://en.wikipedia.org/wiki/Antiderivative)] Indefinite Integral"
   ]
  },
  {
   "attachments": {},
   "cell_type": "markdown",
   "metadata": {},
   "source": [
    "---"
   ]
  },
  {
   "attachments": {},
   "cell_type": "markdown",
   "metadata": {},
   "source": [
    "## Bibliography"
   ]
  },
  {
   "attachments": {},
   "cell_type": "markdown",
   "metadata": {},
   "source": [
    "* [[Y](https://www.youtube.com/watch?v=-SdIZHPuW9o)] Mr. P Solver. (26 May 2021). \"1st Year Calculus, But in PYTHON\". YouTube."
   ]
  },
  {
   "attachments": {},
   "cell_type": "markdown",
   "metadata": {},
   "source": [
    "---"
   ]
  }
 ],
 "metadata": {
  "kernelspec": {
   "display_name": "main",
   "language": "python",
   "name": "python3"
  },
  "language_info": {
   "codemirror_mode": {
    "name": "ipython",
    "version": 3
   },
   "file_extension": ".py",
   "mimetype": "text/x-python",
   "name": "python",
   "nbconvert_exporter": "python",
   "pygments_lexer": "ipython3",
   "version": "3.10.8"
  },
  "orig_nbformat": 4
 },
 "nbformat": 4,
 "nbformat_minor": 2
}
