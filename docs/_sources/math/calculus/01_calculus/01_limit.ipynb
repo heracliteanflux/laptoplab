{
 "cells": [
  {
   "attachments": {},
   "cell_type": "markdown",
   "metadata": {},
   "source": [
    "# Limits"
   ]
  },
  {
   "attachments": {},
   "cell_type": "markdown",
   "metadata": {},
   "source": [
    "---"
   ]
  },
  {
   "attachments": {},
   "cell_type": "markdown",
   "metadata": {},
   "source": [
    "```{admonition} Revised\n",
    "14 Jun 2023\n",
    "```\n",
    "```{contents}\n",
    "```"
   ]
  },
  {
   "attachments": {},
   "cell_type": "markdown",
   "metadata": {},
   "source": [
    "---"
   ]
  },
  {
   "attachments": {},
   "cell_type": "markdown",
   "metadata": {},
   "source": [
    "## Programming Environment"
   ]
  },
  {
   "cell_type": "code",
   "execution_count": 1,
   "metadata": {
    "tags": [
     "hide-input"
    ]
   },
   "outputs": [
    {
     "name": "stdout",
     "output_type": "stream",
     "text": [
      "EXECUTED            : 2023-06-14 12:54:48.827050\n",
      "\n",
      "Platform            : 13.3.1 | Darwin | 22.4.0 | arm64\n",
      "                    : UTF-8\n",
      "\n",
      "Python              : 3.10.8 | packaged by conda-forge | (main, Nov 22 2022, 08:25:29) [Clang 14.0.6 ]\n",
      "                    : sys.version_info(major=3, minor=10, micro=8, releaselevel='final', serial=0)\n",
      "                    : CPython\n",
      "\n",
      "Matplotlib          : 3.6.3\n",
      "NumPy               : 1.24.1\n",
      "Pandas              : 1.5.3\n",
      "Plotly              : 5.13.0\n",
      "SymPy               : 1.11.1\n"
     ]
    }
   ],
   "source": [
    "import numpy             as np\n",
    "import pandas            as pd\n",
    "import matplotlib        as mpl\n",
    "import matplotlib.pyplot as plt\n",
    "from   matplotlib           import gridspec\n",
    "from   mpl_toolkits.mplot3d import axes3d\n",
    "from   ipywidgets           import interactive\n",
    "plt.style.use('ggplot');\n",
    "\n",
    "import sympy as smp\n",
    "from   sympy import *\n",
    "\n",
    "import plotly\n",
    "import plotly.figure_factory as ff\n",
    "import plotly.graph_objects  as go\n",
    "\n",
    "from IPython.display import display, Math\n",
    "\n",
    "from   datetime import datetime as d\n",
    "import locale                   as l\n",
    "import platform                 as p\n",
    "import sys                      as s\n",
    "\n",
    "pad = 20\n",
    "print(f\"{'Executed'.upper():<{pad}}: {d.now()}\")\n",
    "print()\n",
    "print(f\"{'Platform'        :<{pad}}: \"\n",
    "      f\"{p.mac_ver()[0]} | \"\n",
    "      f\"{p.system()} | \"\n",
    "      f\"{p.release()} | \"\n",
    "      f\"{p.machine()}\")\n",
    "print(f\"{''                :<{pad}}: {l.getpreferredencoding()}\")\n",
    "print()\n",
    "print(f\"{'Python'          :<{pad}}: {s.version}\")\n",
    "print(f\"{''                :<{pad}}: {s.version_info}\")\n",
    "print(f\"{''                :<{pad}}: {p.python_implementation()}\")\n",
    "print()\n",
    "print(f\"{'Matplotlib'      :<{pad}}: {mpl   .__version__}\")\n",
    "print(f\"{'NumPy'           :<{pad}}: {np    .__version__}\")\n",
    "print(f\"{'Pandas'          :<{pad}}: {pd    .__version__}\")\n",
    "print(f\"{'Plotly'          :<{pad}}: {plotly.__version__}\")\n",
    "print(f\"{'SymPy'           :<{pad}}: {smp   .__version__}\")"
   ]
  },
  {
   "attachments": {},
   "cell_type": "markdown",
   "metadata": {},
   "source": [
    "---"
   ]
  },
  {
   "attachments": {},
   "cell_type": "markdown",
   "metadata": {},
   "source": [
    "$\n",
    "\\begin{aligned}\n",
    "1=\\lim_{\\Delta x\\to0}\\frac{\\sin\\Delta x}{\\Delta x}\n",
    "\\end{aligned}\n",
    "$\n",
    "\n",
    "$\n",
    "\\begin{aligned}\n",
    "&\\frac{2}{\\sin\\theta}\\left(\\frac{\\tan\\theta}{2}\\ge\\frac{\\theta}{2}\\ge\\frac{\\sin\\theta}{2}\\right)\n",
    "\\iff\n",
    "\\frac{1}{\\cos\\theta}\\ge\\frac{\\theta}{\\sin\\theta}\\ge1\n",
    "\\iff\n",
    "\\cos\\theta\\le\\frac{\\sin\\theta}{\\theta}\\le1\n",
    "\\\\\n",
    "&\\lim_{\\theta\\to0}\\cos\\theta\\le\\lim_{\\theta\\to0}\\frac{\\sin\\theta}{\\theta}\\le\\lim_{\\theta\\to0}1\n",
    "\\implies\n",
    "1\\le\\lim_{\\theta\\to0}\\frac{\\sin\\theta}{\\theta}\\le1\n",
    "\\end{aligned}\n",
    "$"
   ]
  },
  {
   "attachments": {},
   "cell_type": "markdown",
   "metadata": {},
   "source": [
    "---"
   ]
  },
  {
   "attachments": {},
   "cell_type": "markdown",
   "metadata": {},
   "source": [
    "## $\\begin{aligned}\\lim_{x\\to\\pi} \\sin\\left(\\frac{x}{2} + \\sin(x)\\right)\\end{aligned}$"
   ]
  },
  {
   "attachments": {},
   "cell_type": "markdown",
   "metadata": {},
   "source": [
    "$\n",
    "\\begin{aligned}\n",
    "\\lim_{x\\to\\pi} \\sin\\left(\\frac{x}{2} + \\sin(x)\\right)\n",
    "\\end{aligned}\n",
    "$"
   ]
  },
  {
   "cell_type": "code",
   "execution_count": 2,
   "metadata": {},
   "outputs": [
    {
     "data": {
      "text/latex": [
       "$\\displaystyle 1$"
      ],
      "text/plain": [
       "1"
      ]
     },
     "execution_count": 2,
     "metadata": {},
     "output_type": "execute_result"
    }
   ],
   "source": [
    "x = smp.symbols('x')\n",
    "\n",
    "smp.limit(\n",
    "  e   = smp.sin(x/2 + smp.sin(x)), # expression, the limit of which is to be taken\n",
    "  z   = x,                         # symbol representing the variable in the limit\n",
    "  z0  = smp.pi,                    # the value toward which `z` tends\n",
    "  dir = '+-',                      # the limit is bidirectional\n",
    ")"
   ]
  },
  {
   "attachments": {},
   "cell_type": "markdown",
   "metadata": {},
   "source": [
    "---"
   ]
  },
  {
   "attachments": {},
   "cell_type": "markdown",
   "metadata": {},
   "source": [
    "## $\\begin{aligned}\\lim_{x \\to 0^+} \\frac{2e^\\frac{1}{x}}{e^\\frac{1}{x} + 1}\\end{aligned}$"
   ]
  },
  {
   "attachments": {},
   "cell_type": "markdown",
   "metadata": {},
   "source": [
    "$\n",
    "\\begin{aligned}\n",
    "\\lim_{x \\to 0^+} \\frac{2e^\\frac{1}{x}}{e^\\frac{1}{x} + 1}\n",
    "\\end{aligned}\n",
    "$"
   ]
  },
  {
   "cell_type": "code",
   "execution_count": 3,
   "metadata": {},
   "outputs": [
    {
     "data": {
      "text/latex": [
       "$\\displaystyle 2$"
      ],
      "text/plain": [
       "2"
      ]
     },
     "execution_count": 3,
     "metadata": {},
     "output_type": "execute_result"
    }
   ],
   "source": [
    "x = smp.symbols('x')\n",
    "\n",
    "smp.limit(2 * smp.exp(1/x) / (smp.exp(1/x) + 1), x, 0, dir='+')"
   ]
  },
  {
   "attachments": {},
   "cell_type": "markdown",
   "metadata": {},
   "source": [
    "---"
   ]
  },
  {
   "attachments": {},
   "cell_type": "markdown",
   "metadata": {},
   "source": [
    "## $\\begin{aligned}\\lim_{x \\to 0^-} \\frac{2e^\\frac{1}{x}}{e^\\frac{1}{x} + 1}\\end{aligned}$"
   ]
  },
  {
   "attachments": {},
   "cell_type": "markdown",
   "metadata": {},
   "source": [
    "$\n",
    "\\begin{aligned}\n",
    "\\lim_{x \\to 0^-} \\frac{2e^\\frac{1}{x}}{e^\\frac{1}{x} + 1}\n",
    "\\end{aligned}\n",
    "$"
   ]
  },
  {
   "cell_type": "code",
   "execution_count": 4,
   "metadata": {},
   "outputs": [
    {
     "data": {
      "text/latex": [
       "$\\displaystyle 0$"
      ],
      "text/plain": [
       "0"
      ]
     },
     "execution_count": 4,
     "metadata": {},
     "output_type": "execute_result"
    }
   ],
   "source": [
    "x = smp.symbols('x')\n",
    "\n",
    "smp.limit(2 * smp.exp(1/x) / (smp.exp(1/x) + 1), x, 0, dir='-')"
   ]
  },
  {
   "attachments": {},
   "cell_type": "markdown",
   "metadata": {},
   "source": [
    "---"
   ]
  },
  {
   "attachments": {},
   "cell_type": "markdown",
   "metadata": {},
   "source": [
    "## $\\begin{aligned}\\lim_{x \\to \\infty} \\frac{\\cos(x) - 1}{x}\\end{aligned}$"
   ]
  },
  {
   "attachments": {},
   "cell_type": "markdown",
   "metadata": {},
   "source": [
    "$\n",
    "\\begin{aligned}\n",
    "\\lim_{x \\to \\infty} \\frac{\\cos(x) - 1}{x}\n",
    "\\end{aligned}\n",
    "$"
   ]
  },
  {
   "cell_type": "code",
   "execution_count": 5,
   "metadata": {},
   "outputs": [
    {
     "data": {
      "text/latex": [
       "$\\displaystyle 0$"
      ],
      "text/plain": [
       "0"
      ]
     },
     "execution_count": 5,
     "metadata": {},
     "output_type": "execute_result"
    }
   ],
   "source": [
    "x = smp.symbols('x')\n",
    "\n",
    "smp.limit((smp.cos(x) - 1)/x, x, smp.oo, dir='+-')"
   ]
  },
  {
   "attachments": {},
   "cell_type": "markdown",
   "metadata": {},
   "source": [
    "---"
   ]
  },
  {
   "attachments": {},
   "cell_type": "markdown",
   "metadata": {},
   "source": [
    "## Terms"
   ]
  },
  {
   "attachments": {},
   "cell_type": "markdown",
   "metadata": {},
   "source": [
    "* [[W](https://en.wikipedia.org/wiki/Limit_(mathematics))] Limit"
   ]
  },
  {
   "attachments": {},
   "cell_type": "markdown",
   "metadata": {},
   "source": [
    "---"
   ]
  },
  {
   "attachments": {},
   "cell_type": "markdown",
   "metadata": {},
   "source": [
    "## Bibliography"
   ]
  },
  {
   "attachments": {},
   "cell_type": "markdown",
   "metadata": {},
   "source": [
    "* [[Y](https://www.youtube.com/watch?v=-SdIZHPuW9o)] Mr. P Solver. (26 May 2021). \"1st Year Calculus, But in PYTHON\". YouTube."
   ]
  },
  {
   "attachments": {},
   "cell_type": "markdown",
   "metadata": {},
   "source": [
    "---"
   ]
  }
 ],
 "metadata": {
  "kernelspec": {
   "display_name": "main",
   "language": "python",
   "name": "python3"
  },
  "language_info": {
   "codemirror_mode": {
    "name": "ipython",
    "version": 3
   },
   "file_extension": ".py",
   "mimetype": "text/x-python",
   "name": "python",
   "nbconvert_exporter": "python",
   "pygments_lexer": "ipython3",
   "version": "3.10.8"
  },
  "orig_nbformat": 4
 },
 "nbformat": 4,
 "nbformat_minor": 2
}
