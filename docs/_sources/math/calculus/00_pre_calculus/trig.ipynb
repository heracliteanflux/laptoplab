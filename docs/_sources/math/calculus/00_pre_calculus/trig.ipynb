{
 "cells": [
  {
   "attachments": {},
   "cell_type": "markdown",
   "metadata": {},
   "source": [
    "# Euclidean Trigonometry"
   ]
  },
  {
   "attachments": {},
   "cell_type": "markdown",
   "metadata": {},
   "source": [
    "---"
   ]
  },
  {
   "attachments": {},
   "cell_type": "markdown",
   "metadata": {},
   "source": [
    "```{admonition} Revised\n",
    "22 Mar 2023\n",
    "```\n",
    "```{contents}\n",
    "```"
   ]
  },
  {
   "attachments": {},
   "cell_type": "markdown",
   "metadata": {},
   "source": [
    "---"
   ]
  },
  {
   "attachments": {},
   "cell_type": "markdown",
   "metadata": {},
   "source": [
    "A radian as the natural angular unit is defined as the angle subtended at the center of a circle by an arc that is equal in length to the radius of the circle.\n",
    "\n",
    "In other words, an angle is equal to the ratio of the length of the arc produced on the circle to the circle's radius."
   ]
  },
  {
   "attachments": {},
   "cell_type": "markdown",
   "metadata": {},
   "source": [
    "---"
   ]
  },
  {
   "attachments": {},
   "cell_type": "markdown",
   "metadata": {},
   "source": [
    "$\n",
    "\\boxed{\n",
    "\\begin{aligned}\n",
    "\\csc\\theta&\\overset{\\text{def}}{=}\\frac{1}{\\sin\\theta}\n",
    "\\\\\n",
    "\\sec\\theta&\\overset{\\text{def}}{=}\\frac{1}{\\cos\\theta}\n",
    "\\\\\n",
    "\\cot\\theta&\\overset{\\text{def}}{=}\\frac{\\cos\\theta}{\\sin\\theta}\n",
    "\\end{aligned}\n",
    "}\n",
    "$"
   ]
  },
  {
   "attachments": {},
   "cell_type": "markdown",
   "metadata": {},
   "source": [
    "---"
   ]
  },
  {
   "attachments": {},
   "cell_type": "markdown",
   "metadata": {},
   "source": [
    "## Parity"
   ]
  },
  {
   "attachments": {},
   "cell_type": "markdown",
   "metadata": {},
   "source": [
    "$\n",
    "\\boxed{\n",
    "\\begin{aligned}\n",
    "\\sin(-\\theta)&=-\\sin\\theta\n",
    "&&\\text{odd function}\n",
    "\\\\\n",
    "\\cos(-\\theta)&=\\cos\\theta\n",
    "&&\\text{even function}\n",
    "\\\\\n",
    "\\tan(-\\theta)&=-\\tan\\theta\n",
    "&&\\text{odd function}\n",
    "\\\\\n",
    "\\csc(-\\theta)&=-\\csc\\theta\n",
    "&&\\text{odd function}\n",
    "\\\\\n",
    "\\sec(-\\theta)&=\\sec\\theta\n",
    "&&\\text{even function}\n",
    "\\\\\n",
    "\\cot(-\\theta)&=-\\cot\\theta\n",
    "&&\\text{odd function}\n",
    "\\end{aligned}\n",
    "}\n",
    "$"
   ]
  },
  {
   "attachments": {},
   "cell_type": "markdown",
   "metadata": {},
   "source": [
    "---"
   ]
  },
  {
   "attachments": {},
   "cell_type": "markdown",
   "metadata": {},
   "source": [
    "## Pythagorean Identity"
   ]
  },
  {
   "attachments": {},
   "cell_type": "markdown",
   "metadata": {},
   "source": [
    "$\n",
    "\\boxed{\n",
    "\\begin{aligned}\n",
    "1=\\sin^2\\theta+\\cos^2\\theta\n",
    "\\end{aligned}\n",
    "}\n",
    "$"
   ]
  },
  {
   "attachments": {},
   "cell_type": "markdown",
   "metadata": {},
   "source": [
    "$\n",
    "\\boxed{\n",
    "\\begin{aligned}\n",
    "\\csc^2\\theta&=1+\\cot^2\\theta\n",
    "\\impliedby\n",
    "\\frac{1}{\\sin^2\\theta}=\\frac{\\sin^2\\theta+\\cos^2\\theta}{\\sin^2\\theta}\n",
    "\\\\\n",
    "\\sec^2\\theta&=\\tan^2\\theta+1\n",
    "\\impliedby\n",
    "\\frac{1}{\\cos^2\\theta}=\\frac{\\sin^2\\theta+\\cos^2\\theta}{\\cos^2\\theta}\n",
    "\\end{aligned}\n",
    "}\n",
    "$"
   ]
  },
  {
   "attachments": {},
   "cell_type": "markdown",
   "metadata": {},
   "source": [
    "---"
   ]
  },
  {
   "attachments": {},
   "cell_type": "markdown",
   "metadata": {},
   "source": [
    "## Angle Sum & Difference Identities"
   ]
  },
  {
   "attachments": {},
   "cell_type": "markdown",
   "metadata": {},
   "source": [
    "$\n",
    "\\boxed{\n",
    "\\begin{aligned}\n",
    "\\sin(\\alpha\\pm\\beta)&=\\sin\\alpha\\cos\\beta\\pm\\cos\\alpha\\sin\\beta\n",
    "\\\\\n",
    "\\cos(\\alpha\\pm\\beta)&=\\cos\\alpha\\cos\\beta\\mp\\sin\\alpha\\sin\\beta\n",
    "\\end{aligned}\n",
    "}\n",
    "$"
   ]
  },
  {
   "attachments": {},
   "cell_type": "markdown",
   "metadata": {},
   "source": [
    "### Derivation from Euler's Theorem"
   ]
  },
  {
   "attachments": {},
   "cell_type": "markdown",
   "metadata": {},
   "source": [
    "$\n",
    "\\begin{aligned}\n",
    "e^{i(\\alpha+\\beta)}\n",
    "&=\\cos(\\alpha+\\beta)+i\\sin(\\alpha+\\beta)\n",
    "&&\\text{by Euler's Theorem}\n",
    "\\\\\n",
    "e^{i(\\alpha+\\beta)}\n",
    "&=e^{i\\alpha}e^{i\\beta}\n",
    "\\\\\n",
    "&=(\\cos\\alpha+i\\sin\\alpha)(\\cos\\beta+i\\sin\\beta)\n",
    "&&\\text{by Euler's Theorem}\n",
    "\\\\\n",
    "&=\\cos\\alpha\\cos\\beta+i\\cos\\alpha\\sin\\beta+i\\sin\\alpha\\cos\\beta+i^2\\sin\\alpha\\sin\\beta\n",
    "\\\\\n",
    "&=(\\cos\\alpha\\cos\\beta-\\sin\\alpha\\sin\\beta)+i(\\sin\\alpha\\cos\\beta+\\cos\\alpha\\sin\\beta)\n",
    "\\\\\n",
    "&\\implies\n",
    "\\\\\n",
    "\\cos(\\alpha+\\beta)+i\\sin(\\alpha+\\beta)\n",
    "&=(\\cos\\alpha\\cos\\beta-\\sin\\alpha\\sin\\beta)+i(\\sin\\alpha\\cos\\beta+\\cos\\alpha\\sin\\beta)\n",
    "\\\\\n",
    "&\\implies\n",
    "\\\\\n",
    "\\sin(\\alpha+\\beta)&=\\sin\\alpha\\cos\\beta+\\cos\\alpha\\sin\\beta\n",
    "\\\\\n",
    "\\cos(\\alpha+\\beta)&=\\cos\\alpha\\cos\\beta-\\sin\\alpha\\sin\\beta\n",
    "\\end{aligned}\n",
    "$"
   ]
  },
  {
   "cell_type": "markdown",
   "metadata": {},
   "source": [
    "### Derivation of the difference identities from the sum identities"
   ]
  },
  {
   "cell_type": "markdown",
   "metadata": {},
   "source": [
    "$\n",
    "\\begin{aligned}\n",
    "\\sin(\\alpha-\\beta)\n",
    "=\\sin(\\alpha+(-\\beta))\n",
    "=\\sin\\alpha\\cos(-\\beta)+\\cos\\alpha\\sin(-\\beta)\n",
    "=\\sin\\alpha\\cos\\beta-\\cos\\alpha\\sin\\beta\n",
    "\\\\\n",
    "\\cos(\\alpha-\\beta)\n",
    "=\\cos(\\alpha+(-\\beta))\n",
    "=\\cos\\alpha\\cos(-\\beta)-\\sin\\alpha\\sin(-\\beta)\n",
    "=\\cos\\alpha\\cos\\beta+\\sin\\alpha\\sin\\beta\n",
    "\\end{aligned}\n",
    "$"
   ]
  },
  {
   "attachments": {},
   "cell_type": "markdown",
   "metadata": {},
   "source": [
    "---"
   ]
  },
  {
   "attachments": {},
   "cell_type": "markdown",
   "metadata": {},
   "source": [
    "## Double Angle Identities"
   ]
  },
  {
   "attachments": {},
   "cell_type": "markdown",
   "metadata": {},
   "source": [
    "$\n",
    "\\boxed{\n",
    "\\begin{aligned}\n",
    "\\sin(2\\theta)&=2\\sin\\theta\\cos\\theta\n",
    "\\\\\n",
    "\\cos(2\\theta)&=\\cos^2\\theta-\\sin^2\\theta\n",
    "\\end{aligned}\n",
    "}\n",
    "$"
   ]
  },
  {
   "attachments": {},
   "cell_type": "markdown",
   "metadata": {},
   "source": [
    "### Derivation from Euler's Theorem"
   ]
  },
  {
   "attachments": {},
   "cell_type": "markdown",
   "metadata": {},
   "source": [
    "$\n",
    "\\begin{aligned}\n",
    "e^{i(2\\theta)}&=\\cos(2\\theta)+i\\sin(2\\theta)\n",
    "&&\\text{by Euler's Theorem}\n",
    "\\\\\n",
    "e^{i(2\\theta)}\n",
    "&=(e^{i\\theta})^2\n",
    "\\\\\n",
    "&=(\\cos\\theta+i\\sin\\theta)^2\n",
    "&&\\text{by Euler's Theorem}\n",
    "\\\\\n",
    "&=\\cos^2\\theta+2i\\cos\\theta\\sin\\theta+i^2\\sin^2\\theta\n",
    "\\\\\n",
    "&=(\\cos^2\\theta-\\sin^2\\theta)+i(2\\cos\\theta\\sin\\theta)\n",
    "\\\\\n",
    "&\\implies\n",
    "\\\\\n",
    "\\cos(2\\theta)+i\\sin(2\\theta)&=(\\cos^2\\theta-\\sin^2\\theta)+i(2\\cos\\theta\\sin\\theta)\n",
    "\\\\\n",
    "&\\implies\n",
    "\\\\\n",
    "\\sin(2\\theta)&=2\\cos\\theta\\sin\\theta\n",
    "\\\\\n",
    "\\cos(2\\theta)&=\\cos^2\\theta-\\sin^2\\theta\n",
    "\\end{aligned}\n",
    "$"
   ]
  },
  {
   "attachments": {},
   "cell_type": "markdown",
   "metadata": {},
   "source": [
    "---"
   ]
  },
  {
   "cell_type": "markdown",
   "metadata": {},
   "source": [
    "## Half Angle Identities"
   ]
  },
  {
   "cell_type": "markdown",
   "metadata": {},
   "source": [
    "$\n",
    "\\boxed{\n",
    "\\begin{aligned}\n",
    "\\sin^2\\theta&=\\frac{1-\\cos(2\\theta)}{2}\n",
    "\\\\\n",
    "\\cos^2\\theta&=\\frac{1+\\cos(2\\theta)}{2}\n",
    "\\end{aligned}\n",
    "}\n",
    "$"
   ]
  },
  {
   "attachments": {},
   "cell_type": "markdown",
   "metadata": {},
   "source": [
    "### Derivation from double angle identities"
   ]
  },
  {
   "attachments": {},
   "cell_type": "markdown",
   "metadata": {},
   "source": [
    "$\n",
    "\\begin{aligned}\n",
    "&\\cos(2\\theta)\n",
    "=\\cos^2\\theta-\\sin^2\\theta\n",
    "=(1-\\sin^2\\theta)-\\sin^2\\theta\n",
    "=1-2\\sin^2\\theta\n",
    "\\iff\n",
    "\\sin^2\\theta=\\frac{1-\\cos(2\\theta)}{2}\n",
    "\\\\\n",
    "&\\cos(2\\theta)\n",
    "=\\cos^2\\theta-\\sin^2\\theta\n",
    "=\\cos^2\\theta-(1-\\cos^2\\theta)\n",
    "=2\\cos^2\\theta-1\n",
    "\\iff\n",
    "\\cos^2\\theta=\\frac{1+\\cos(2\\theta)}{2}\n",
    "\\end{aligned}\n",
    "$"
   ]
  },
  {
   "attachments": {},
   "cell_type": "markdown",
   "metadata": {},
   "source": [
    "$\n",
    "\\begin{aligned}\n",
    "\\theta=\\frac{\\alpha}{2}\n",
    "\\implies\n",
    "\\sin^2\\left(\\frac{\\alpha}{2}\\right)=\\frac{1-\\cos\\alpha}{2}\n",
    "\\iff\n",
    "\\sin\\left(\\frac{\\alpha}{2}\\right)=\\pm\\sqrt{\\frac{1-\\cos\\alpha}{2}}\n",
    "\\\\\n",
    "\\theta=\\frac{\\alpha}{2}\n",
    "\\implies\n",
    "\\cos^2\\left(\\frac{\\alpha}{2}\\right)=\\frac{1+\\cos\\alpha}{2}\n",
    "\\iff\n",
    "\\cos\\left(\\frac{\\alpha}{2}\\right)=\\pm\\sqrt{\\frac{1+\\cos\\alpha}{2}}\n",
    "\\end{aligned}\n",
    "$"
   ]
  },
  {
   "cell_type": "markdown",
   "metadata": {},
   "source": [
    "---"
   ]
  },
  {
   "attachments": {},
   "cell_type": "markdown",
   "metadata": {},
   "source": [
    "## Triple Angle Identities"
   ]
  },
  {
   "attachments": {},
   "cell_type": "markdown",
   "metadata": {},
   "source": [
    "$\n",
    "\\boxed{\n",
    "\\begin{aligned}\n",
    "\\sin(3\\theta)&=3\\sin\\theta-4\\sin^3\\theta\n",
    "\\\\\n",
    "\\cos(3\\theta)&=4\\cos^3\\theta-3\\cos\\theta\n",
    "\\end{aligned}\n",
    "}\n",
    "$"
   ]
  },
  {
   "attachments": {},
   "cell_type": "markdown",
   "metadata": {},
   "source": [
    "### Derivation from Euler's Theorem"
   ]
  },
  {
   "attachments": {},
   "cell_type": "markdown",
   "metadata": {},
   "source": [
    "$\n",
    "\\begin{aligned}\n",
    "e^{i(3\\theta)}&=\\cos(3\\theta)+i\\sin(3\\theta)\n",
    "&&\\text{by Euler's Theorem}\n",
    "\\\\\n",
    "e^{i(3\\theta)}\n",
    "&=(e^{i\\theta})^3\n",
    "\\\\\n",
    "&=(\\cos\\theta+i\\sin\\theta)^3\n",
    "&&\\text{by Euler's Theorem}\n",
    "\\\\\n",
    "&=(\\cos\\theta+i\\sin\\theta)^2(\\cos\\theta+i\\sin\\theta)\n",
    "\\\\\n",
    "&=(\\cos^2\\theta+2i\\cos\\theta\\sin\\theta+i^2\\sin^2\\theta)(\\cos\\theta+i\\sin\\theta)\n",
    "\\\\\n",
    "&=\\cos^3\\theta+i\\cos^2\\theta\\sin\\theta+2i\\cos^2\\theta\\sin\\theta+2i^2\\cos\\theta\\sin^2\\theta+i^2\\cos\\theta\\sin^2\\theta+i^3\\sin^3\\theta\n",
    "\\\\\n",
    "&=\\cos^3\\theta+3i\\cos^2\\theta\\sin\\theta+3i^2\\cos\\theta\\sin^2\\theta+i^3\\sin^3\\theta\n",
    "\\\\\n",
    "&=(\\cos^3\\theta-3\\cos\\theta\\sin^2\\theta)+i(3\\cos^2\\theta\\sin\\theta-\\sin^3\\theta)\n",
    "\\\\\n",
    "&=[\\cos^3\\theta-3\\cos\\theta(1-\\cos^2\\theta)]+i[3(1-\\sin^2\\theta)\\sin\\theta-\\sin^3\\theta]\n",
    "\\\\\n",
    "&=(\\cos^3\\theta-3\\cos\\theta+3\\cos^3\\theta)+i(3\\sin\\theta-3\\sin^3\\theta-\\sin^3\\theta)\n",
    "\\\\\n",
    "&=(4\\cos^3\\theta-3\\cos\\theta)+i(3\\sin\\theta-4\\sin^3\\theta)\n",
    "\\\\\n",
    "&\\implies\n",
    "\\\\\n",
    "\\cos(3\\theta)+i\\sin(3\\theta)\n",
    "&=(4\\cos^3\\theta-3\\cos\\theta)+i(3\\sin\\theta-4\\sin^3\\theta)\n",
    "\\\\\n",
    "&\\implies\n",
    "\\\\\n",
    "\\sin(3\\theta)&=3\\sin\\theta-4\\sin^3\\theta\n",
    "\\\\\n",
    "\\cos(3\\theta)&=4\\cos^3\\theta-3\\cos\\theta\n",
    "\\end{aligned}\n",
    "$"
   ]
  },
  {
   "attachments": {},
   "cell_type": "markdown",
   "metadata": {},
   "source": [
    "---"
   ]
  },
  {
   "attachments": {},
   "cell_type": "markdown",
   "metadata": {},
   "source": [
    "## Inverse Trigonometric Functions"
   ]
  },
  {
   "attachments": {},
   "cell_type": "markdown",
   "metadata": {},
   "source": [
    "$\n",
    "\\boxed{\n",
    "\\begin{aligned}\n",
    "y&=\\sin^{-1}x\n",
    "\\impliedby\n",
    "\\sin y=x\n",
    "&&\\text{arcsin}\n",
    "\\\\\n",
    "y&=\\cos^{-1}x\n",
    "\\impliedby\n",
    "\\cos y=x\n",
    "&&\\text{arccos}\n",
    "\\\\\n",
    "y&=\\tan^{-1}x\n",
    "\\impliedby\n",
    "\\tan y=x\n",
    "&&\\text{arctan}\n",
    "\\\\\n",
    "y&=\\csc^{-1}x\n",
    "\\impliedby\n",
    "\\csc y=x\n",
    "&&\\text{arccsc}\n",
    "\\\\\n",
    "y&=\\sec^{-1}x\n",
    "\\impliedby\n",
    "\\sec y=x\n",
    "&&\\text{arcsec}\n",
    "\\\\\n",
    "y&=\\cot^{-1}x\n",
    "\\impliedby\n",
    "\\cot y=x\n",
    "&&\\text{arccot}\n",
    "\\\\\n",
    "\\end{aligned}\n",
    "}\n",
    "$"
   ]
  },
  {
   "attachments": {},
   "cell_type": "markdown",
   "metadata": {},
   "source": [
    "---"
   ]
  },
  {
   "attachments": {},
   "cell_type": "markdown",
   "metadata": {},
   "source": [
    "## Hyperbolic Trigonometric Functions"
   ]
  },
  {
   "attachments": {},
   "cell_type": "markdown",
   "metadata": {},
   "source": [
    "$\n",
    "\\boxed{\n",
    "\\begin{aligned}\n",
    "\\sinh&\\overset{\\text{def}}{=}\\frac{e^x-e^{-x}}{2}\n",
    "&&\\text{hyperbolic sin}\n",
    "\\\\\n",
    "\\cosh&\\overset{\\text{def}}{=}\\frac{e^x+e^{-x}}{2}\n",
    "&&\\text{hyperbolic cos}\n",
    "\\\\\n",
    "\\tanh&\\overset{\\text{def}}{=}\\frac{\\sinh}{\\cosh}\n",
    "=\\frac{e^x-e^{-x}}{e^x+e^{-x}}\n",
    "&&\\text{hyperbolic tan}\n",
    "\\\\\n",
    "\\text{csch}&\\overset{\\text{def}}{=}\\frac{1}{\\sinh}\n",
    "=\\frac{2}{e^x-e^{-x}}\n",
    "&&\\text{hyperbolic csc}\n",
    "\\\\\n",
    "\\text{sech}&\\overset{\\text{def}}{=}\\frac{1}{\\cosh}\n",
    "=\\frac{2}{e^x+e^{-x}}\n",
    "&&\\text{hyperbolic sec}\n",
    "\\\\\n",
    "\\text{coth}&\\overset{\\text{def}}{=}\\frac{\\cosh}{\\sinh}\n",
    "=\\frac{e^x+e^{-x}}{e^x-e^{-x}}\n",
    "&&\\text{hyperbolic cot}\n",
    "\\end{aligned}\n",
    "}\n",
    "$"
   ]
  },
  {
   "attachments": {},
   "cell_type": "markdown",
   "metadata": {},
   "source": [
    "---"
   ]
  },
  {
   "attachments": {},
   "cell_type": "markdown",
   "metadata": {},
   "source": [
    "## Terms"
   ]
  },
  {
   "attachments": {},
   "cell_type": "markdown",
   "metadata": {},
   "source": [
    "[[W](https://en.wikipedia.org/wiki/List_of_trigonometric_identities)] trigonometric identities\n",
    "* [[W](https://en.wikipedia.org/wiki/Chord_(geometry))] Chord\n",
    "* [[W](https://en.wikipedia.org/wiki/Sine_and_cosine)] Cosine\n",
    "* [[W](https://en.wikipedia.org/wiki/Exsecant)] Exsecant\n",
    "* [[W](https://en.wikipedia.org/wiki/Hyperbolic_functions)] Hyperbolic Functions\n",
    "* [[W](https://en.wikipedia.org/wiki/Inverse_trigonometric_functions)] Inverse Trigonometric Functions\n",
    "* [[W](https://en.wikipedia.org/wiki/Law_of_cosines)] Law of Cosines\n",
    "* [[W](https://en.wikipedia.org/wiki/Law_of_sines)] Law of Sines\n",
    "* [[W](https://en.wikipedia.org/wiki/Secant_line)] Secant Line\n",
    "* [[W](https://en.wikipedia.org/wiki/Sine_and_cosine)] Sine\n",
    "* [[W](https://en.wikipedia.org/wiki/Trigonometric_functions)] Trigonometric Functions\n",
    "* [[W](https://en.wikipedia.org/wiki/Proofs_of_trigonometric_identities)] Trigonometric Identities, proof\n",
    "* [[W](https://en.wikipedia.org/wiki/Unit_circle)] Unit Circle\n",
    "* [[W](https://en.wikipedia.org/wiki/Versine)] Versine"
   ]
  },
  {
   "attachments": {},
   "cell_type": "markdown",
   "metadata": {},
   "source": [
    "---"
   ]
  }
 ],
 "metadata": {
  "language_info": {
   "name": "python"
  },
  "orig_nbformat": 4
 },
 "nbformat": 4,
 "nbformat_minor": 2
}
