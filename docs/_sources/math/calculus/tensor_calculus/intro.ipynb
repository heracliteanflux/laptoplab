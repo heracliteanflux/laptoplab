{
 "cells": [
  {
   "attachments": {},
   "cell_type": "markdown",
   "metadata": {},
   "source": [
    "# Tensor Calculus"
   ]
  },
  {
   "attachments": {},
   "cell_type": "markdown",
   "metadata": {},
   "source": [
    "---"
   ]
  },
  {
   "attachments": {},
   "cell_type": "markdown",
   "metadata": {},
   "source": [
    "```{admonition} Revised\n",
    "17 Jun 2023\n",
    "```\n",
    "```{contents}\n",
    "```"
   ]
  },
  {
   "attachments": {},
   "cell_type": "markdown",
   "metadata": {},
   "source": [
    "---"
   ]
  },
  {
   "attachments": {},
   "cell_type": "markdown",
   "metadata": {},
   "source": [
    "## Terms"
   ]
  },
  {
   "attachments": {},
   "cell_type": "markdown",
   "metadata": {},
   "source": [
    "* [[W](https://en.wikipedia.org/wiki/Einstein_notation)] Einstein Notation\n",
    "* [[W](https://en.wikipedia.org/wiki/Index_notation)] Index Notation\n",
    "* [[W](https://en.wikipedia.org/wiki/Ricci_calculus)] Ricci Calculus\n",
    "* [[W](https://en.wikipedia.org/wiki/Spinor)] Spinor\n",
    "* [[W](https://en.wikipedia.org/wiki/Tensor)] Tensor\n",
    "* [[W](https://en.wikipedia.org/wiki/Tensor_calculus)] Tensor Calculus"
   ]
  },
  {
   "attachments": {},
   "cell_type": "markdown",
   "metadata": {},
   "source": [
    "---"
   ]
  }
 ],
 "metadata": {
  "language_info": {
   "name": "python"
  },
  "orig_nbformat": 4
 },
 "nbformat": 4,
 "nbformat_minor": 2
}
