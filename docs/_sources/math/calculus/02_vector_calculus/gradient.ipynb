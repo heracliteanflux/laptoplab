{
 "cells": [
  {
   "attachments": {},
   "cell_type": "markdown",
   "metadata": {},
   "source": [
    "# Gradient"
   ]
  },
  {
   "attachments": {},
   "cell_type": "markdown",
   "metadata": {},
   "source": [
    "---"
   ]
  },
  {
   "attachments": {},
   "cell_type": "markdown",
   "metadata": {},
   "source": [
    "```{admonition} Revised\n",
    "17 Jun 2023\n",
    "```\n",
    "```{contents}\n",
    "```"
   ]
  },
  {
   "attachments": {},
   "cell_type": "markdown",
   "metadata": {},
   "source": [
    "---"
   ]
  },
  {
   "attachments": {},
   "cell_type": "markdown",
   "metadata": {},
   "source": [
    "[LINEAR APPROXIMATION]"
   ]
  },
  {
   "attachments": {},
   "cell_type": "markdown",
   "metadata": {},
   "source": [
    "Univariable Calculus (Calculus 1)\n",
    "\n",
    "$\n",
    "\\begin{aligned}\n",
    "       f &=       f (x)          \\\\\n",
    "\\Delta f &\\approx f'(x) \\Delta x \\\\\n",
    "\\end{aligned}\n",
    "$\n",
    "\n",
    "Multivariable Calculus (Calculus 2/3)\n",
    "\n",
    "$\n",
    "\\begin{aligned}\n",
    "f        &= f(x, y, z) \\\\\n",
    "\\Delta f &\\approx f_x \\Delta x + f_y \\Delta y + f_z \\Delta z \\\\\n",
    "         &= \\langle f_x, f_y, f_z \\rangle \\cdot \\langle \\Delta x, \\Delta y, \\Delta z \\rangle \\\\\n",
    "         &= \\nabla f \\cdot \\Delta \\mathbf{x} \\\\\n",
    "\\end{aligned}\n",
    "$\n",
    "\n",
    "$\n",
    "\\begin{aligned}\n",
    "\\nabla f          &= \\langle f_x, f_y, f_z \\rangle                && \\text{the gradient vector of} \\, f \\\\\n",
    "\\Delta \\mathbf{x} &= \\langle \\Delta x, \\Delta y, \\Delta z \\rangle && \\text{the displacement vector} \\\\\n",
    "\\end{aligned}\n",
    "$"
   ]
  },
  {
   "attachments": {},
   "cell_type": "markdown",
   "metadata": {},
   "source": [
    "Let $(x, y)$ be a point close to $(a, b)$ such that $\\|\\langle x - a, y - b \\rangle\\|$ is small.\n",
    "\n",
    "$\n",
    "\\begin{aligned}\n",
    "\\Delta f          &\\approx f_x(a, b) \\Delta x + f_y(a, b) \\Delta y \\\\\n",
    "f(x, y) - f(a, b) &\\approx f_x(a, b)(x - a) + f_y(a, b)(y - b) \\\\\n",
    "f(x, y)           &\\approx \\underbrace{f_x(a, b)}_{m}(x - a) + \\underbrace{f_y(a, b)}_{n}(y - b) + \\underbrace{f(a, b)}_{c} \\\\\n",
    "z                 &\\approx m(x - a) + n(y - b) + c\n",
    "\\end{aligned}\n",
    "$\n",
    "\n",
    "This is a plane since the equation is linear.\n",
    "\n",
    "$\n",
    "\\begin{aligned}\n",
    "z &= m(x - a) + n(y - b) + c \\\\\n",
    "0 &= mx - ma + ny - nb + c - z \\\\\n",
    "mx + ny - z &= \\underbrace{ma + nb - c}_{\\text{constant} \\, d} \\\\\n",
    "d\n",
    "&= mx + ny - z \\\\\n",
    "&= \\underbrace{\\langle m, n, -1 \\rangle}_{\\text{normal vector} \\, \\mathbf{n}} \\cdot \\langle x, y, z \\rangle\n",
    "\\end{aligned}\n",
    "$\n",
    "\n",
    "This tangent plane will approximate the function near $(a, b)$.\n",
    "\n",
    "$\n",
    "\\begin{aligned}\n",
    "\\Delta f &\\approx \\nabla f(a, b, c) \\cdot \\Delta \\mathbf{x} \\\\\n",
    "f(x, y, z) - f(a, b, c) &\\approx \\nabla f(a, b, c) \\cdot \\langle x - a, y - b, z - c \\rangle \\\\\n",
    "\\end{aligned}\n",
    "$\n",
    "\n",
    "The gradient can be used to do approximations. We can use this to figure out derivatives in directions other than the x-, y-, and z-directions."
   ]
  },
  {
   "attachments": {},
   "cell_type": "markdown",
   "metadata": {},
   "source": [
    "[LOCAL LINEARITY]\n",
    "\n",
    "Calculus 1\n",
    "\n",
    "Near $x=a$, $f(x)$ is approximately equal to its tangent line.\n",
    "\n",
    "Calculus 2/3\n",
    "\n",
    "For a two-variable function $f(x, y)$, the function is approximately equal to a tangent plane near the point of tangency.\n",
    "\n",
    "Local linearity is also seen in level curves (e.g., $f(x, y) = x^2 + y^2$)"
   ]
  },
  {
   "attachments": {},
   "cell_type": "markdown",
   "metadata": {},
   "source": [
    "---"
   ]
  },
  {
   "attachments": {},
   "cell_type": "markdown",
   "metadata": {},
   "source": [
    "[example]\n",
    "\n",
    "$\n",
    "\\begin{aligned}\n",
    "f            &= f(x, y, z) \\\\\n",
    "f(1, 2, 3)   &= 10 \\\\\n",
    "f_x(1, 2, 3) &=  4 \\\\\n",
    "f_y(1, 2, 3) &= -5 \\\\\n",
    "f_z(1, 2, 3) &=  6 \\\\\n",
    "f(1.5, 2.1, 2.75) &\\approx \\,\\,\\, ? && \\text{approximate}\\\\\n",
    "\\end{aligned}\n",
    "$\n",
    "\n",
    "$\n",
    "\\begin{aligned}\n",
    "\\Delta x &=  1.5 - 1 =  0.5 \\\\\n",
    "\\Delta y &=  2.1 - 2 =  0.1 \\\\\n",
    "\\Delta z &= 2.75 - 3 = -0.25 \\\\\n",
    "\\end{aligned}\n",
    "$\n",
    "\n",
    "$\n",
    "\\begin{aligned}\n",
    "\\Delta f\n",
    "&\\approx f_x \\Delta x + f_y \\Delta y + f_z \\Delta z \\\\\n",
    "&= (4)(0.5) + (-5)(0.1) + (6)(-0.25) \\\\\n",
    "&= 2 + (-0.5) + (-1.5) \\\\\n",
    "&= 0 \\\\\n",
    "\\end{aligned}\n",
    "$"
   ]
  },
  {
   "attachments": {},
   "cell_type": "markdown",
   "metadata": {},
   "source": [
    "---"
   ]
  },
  {
   "attachments": {},
   "cell_type": "markdown",
   "metadata": {},
   "source": [
    "[DEL OPERATOR VECTOR]\n",
    "\n",
    "Del $\\nabla$ is an operator vector.\n",
    "\n",
    "$\n",
    "\\begin{aligned}\n",
    "\\nabla &= \\left\\langle \\frac{\\partial}{\\partial x}, \\frac{\\partial}{\\partial y}, \\frac{\\partial}{\\partial z} \\right\\rangle\n",
    "\\end{aligned}\n",
    "$"
   ]
  },
  {
   "attachments": {},
   "cell_type": "markdown",
   "metadata": {},
   "source": [
    "[GRADIENT VECTOR OF A FUNCTION F]\n",
    "\n",
    "Since $f$ is a scalar function, we can do scalar multiplication with $\\nabla$.\n",
    "\n",
    "$\n",
    "\\begin{aligned}\n",
    "\\nabla f\n",
    "&= \\left\\langle \\frac{\\partial}{\\partial x}, \\frac{\\partial}{\\partial y}, \\frac{\\partial}{\\partial z} \\right\\rangle f     \\\\\n",
    "&= \\left\\langle \\frac{\\partial f}{\\partial x}, \\frac{\\partial f}{\\partial y}, \\frac{\\partial f}{\\partial z} \\right\\rangle \\\\\n",
    "\\end{aligned}\n",
    "$\n",
    "\n",
    "$\\nabla f(x, y, z)$ is a function which tells you the gradient vector at $(x, y, z)$\n",
    "\n",
    "[GRADIENT VECTOR OF A FUNCTION AT A POINT]\n",
    "\n",
    "$\\nabla f(a, b, c)$ is the gradient at the point $(a, b, c)$"
   ]
  },
  {
   "attachments": {},
   "cell_type": "markdown",
   "metadata": {},
   "source": [
    "[example]\n",
    "\n",
    "$\n",
    "\\begin{aligned}\n",
    "f        &= xy^2 - 2yz^2 \\\\\n",
    "\\nabla f &= \\left\\langle \\frac{\\partial}{\\partial x}, \\frac{\\partial}{\\partial y}, \\frac{\\partial}{\\partial z} \\right\\rangle (xy^2 - 2yz^2) \\\\\n",
    "         &= \\underbrace{\\langle y^2, 2xy - 2z^2, -4yz \\rangle}_{\\text{gradient field}} \\\\\n",
    "\\end{aligned}\n",
    "$"
   ]
  },
  {
   "attachments": {},
   "cell_type": "markdown",
   "metadata": {},
   "source": [
    "---"
   ]
  },
  {
   "attachments": {},
   "cell_type": "markdown",
   "metadata": {},
   "source": [
    "[DIRECTIONAL DERIVATIVE]\n",
    "\n",
    "$\n",
    "\\begin{aligned}\n",
    "\\frac{\\partial f}{\\partial \\mathbf{u}}\n",
    "&= D_\\mathbf{u}f\n",
    "\\end{aligned}\n",
    "$\n",
    "\n",
    "where $D_\\mathbf{u}$ is the derivative in the $\\mathbf{u}$ direction.\n",
    "\n",
    "$\n",
    "\\begin{aligned}\n",
    "\\mathbf{a} &= (a, b, c) \\\\\n",
    "D_\\mathbf{u}f(\\mathbf{a})\n",
    "&\\approx \\frac{f(\\mathbf{a} + h\\mathbf{u}) - f(\\mathbf{a})}{\\| h\\mathbf{u} \\|} \\\\\n",
    "&= \\frac{\\Delta f}{\\| h\\mathbf{u} \\|} \\\\\n",
    "&\\approx \\frac{\\nabla f(\\mathbf{a}) \\cdot (\\cancel{h}\\mathbf{u})}{\\| \\cancel{h}\\mathbf{u} \\|} \\\\\n",
    "&= \\nabla f(\\mathbf{a}) \\cdot \\frac{\\mathbf{u}}{\\| \\mathbf{u} \\|} \\\\\n",
    "&= \\nabla f(\\mathbf{a}) \\cdot \\mathbf{\\hat{u}} \\\\\n",
    "\\end{aligned}\n",
    "$\n",
    "\n",
    "where $\\begin{aligned} \\mathbf{\\hat{u}} = \\frac{\\mathbf{u}}{\\| \\mathbf{u} \\|} \\end{aligned}$ is the unit vector that describes the direction"
   ]
  },
  {
   "attachments": {},
   "cell_type": "markdown",
   "metadata": {},
   "source": [
    "---"
   ]
  },
  {
   "attachments": {},
   "cell_type": "markdown",
   "metadata": {},
   "source": [
    "[example]\n",
    "\n",
    "If we start at $(1, 2, 3)$ and move in the direction toward $(4, 3, 2)$, how fast does the value begin to change?\n",
    "\n",
    "$\n",
    "\\begin{aligned}\n",
    "\\mathbf{u} &= \\langle 4, 3, 2 \\rangle - \\langle 1, 2, 3 \\rangle = \\langle 3, 1, -1 \\rangle \\\\\n",
    "\\mathbf{\\hat{u}} &= \\frac{\\mathbf{u}}{\\| \\mathbf{u} \\|} = \\frac{\\langle 3, 1, -1 \\rangle}{\\sqrt{(3)^2 + (1)^2 + (-1)^2}} = \\left\\langle \\frac{3}{\\sqrt{11}}, \\frac{1}{\\sqrt{11}}, -\\frac{1}{\\sqrt{11}} \\right\\rangle \\\\\n",
    "\\nabla f(1, 2, 3) &= \\langle 4, -14, -24 \\rangle \\\\\n",
    "D_\\mathbf{\\hat{u}}f(1, 2, 3) &= \\langle 4, -14, -24 \\rangle \\cdot \\left\\langle \\frac{3}{\\sqrt{11}}, \\frac{1}{\\sqrt{11}}, -\\frac{1}{\\sqrt{11}} \\right\\rangle \\\\\n",
    "&= \\frac{12}{\\sqrt{11}} - \\frac{14}{\\sqrt{11}} + \\frac{24}{\\sqrt{11}} \\\\\n",
    "&= \\frac{22}{\\sqrt{11}} \\\\\n",
    "&= 2\\frac{11}{\\sqrt{11}} \\\\\n",
    "&= 2\\sqrt{11} \\\\\n",
    "\\end{aligned}\n",
    "$\n",
    "\n",
    "The rate of change per unit in the direction toward $(4, 3, 2)$ at $(1, 2, 3)$."
   ]
  },
  {
   "attachments": {},
   "cell_type": "markdown",
   "metadata": {},
   "source": [
    "---"
   ]
  },
  {
   "attachments": {},
   "cell_type": "markdown",
   "metadata": {},
   "source": [
    "$\n",
    "\\begin{aligned}\n",
    "D_\\mathbf{\\hat{u}}f(a, b)\n",
    "&= \\nabla f(a, b) \\cdot \\mathbf{\\hat{u}} \\\\\n",
    "&= \\| \\nabla f(a, b) \\| \\| \\mathbf{\\hat{u}} \\| \\cos\\theta \\\\\n",
    "&= \\| \\nabla f(a, b) \\| \\cos\\theta \\\\\n",
    "-\\| \\nabla f(a, b) \\| \\le D_\\mathbf{\\hat{u}}f(a, b) &\\le \\| \\nabla f(a, b) \\| \\\\\n",
    "\\end{aligned}\n",
    "$\n",
    "\n",
    "The magnitude of $\\nabla f(a, b)$ is the largest possible rate of change from $(a, b)$.\n",
    "\n",
    "This occurs when the direction from $(a, b)$ is parallel to $\\nabla f(a, b)$."
   ]
  },
  {
   "attachments": {},
   "cell_type": "markdown",
   "metadata": {},
   "source": [
    "---"
   ]
  },
  {
   "attachments": {},
   "cell_type": "markdown",
   "metadata": {},
   "source": [
    "## Terms"
   ]
  },
  {
   "attachments": {},
   "cell_type": "markdown",
   "metadata": {},
   "source": [
    "* [[W](https://en.wikipedia.org/wiki/Del)] Del\n",
    "* [[W](https://en.wikipedia.org/wiki/Differential_operator)] Differential Operator\n",
    "* [[W](https://en.wikipedia.org/wiki/Nabla_symbol)] Nabla"
   ]
  },
  {
   "attachments": {},
   "cell_type": "markdown",
   "metadata": {},
   "source": [
    "---"
   ]
  },
  {
   "attachments": {},
   "cell_type": "markdown",
   "metadata": {},
   "source": [
    "## Acknowledgements"
   ]
  },
  {
   "attachments": {},
   "cell_type": "markdown",
   "metadata": {},
   "source": [
    "Thanks to Prof. Matthew Katz of the Pennsylvania State University."
   ]
  },
  {
   "attachments": {},
   "cell_type": "markdown",
   "metadata": {},
   "source": [
    "---"
   ]
  }
 ],
 "metadata": {
  "language_info": {
   "name": "python"
  },
  "orig_nbformat": 4
 },
 "nbformat": 4,
 "nbformat_minor": 2
}
