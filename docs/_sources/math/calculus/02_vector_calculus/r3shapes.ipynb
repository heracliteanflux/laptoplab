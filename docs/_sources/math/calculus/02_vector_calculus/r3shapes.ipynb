{
 "cells": [
  {
   "attachments": {},
   "cell_type": "markdown",
   "metadata": {},
   "source": [
    "# Curves & Surfaces and their Parameterizations"
   ]
  },
  {
   "attachments": {},
   "cell_type": "markdown",
   "metadata": {},
   "source": [
    "---"
   ]
  },
  {
   "attachments": {},
   "cell_type": "markdown",
   "metadata": {},
   "source": [
    "```{admonition} Revised\n",
    "03 Mar 2023\n",
    "```\n",
    "```{contents}\n",
    "```"
   ]
  },
  {
   "attachments": {},
   "cell_type": "markdown",
   "metadata": {},
   "source": [
    "---"
   ]
  },
  {
   "attachments": {},
   "cell_type": "markdown",
   "metadata": {},
   "source": [
    "## Shell (sphere) in $\\mathbb{R}^3$"
   ]
  },
  {
   "attachments": {},
   "cell_type": "markdown",
   "metadata": {},
   "source": [
    "A shell (sphere) in $\\mathbb{R}^3$ is just the 2D surface which is $R$ units from the center.\n",
    "\n",
    "$\n",
    "(x-a)^2+(y-b)^2+(z-c)^2=R^2\n",
    "$"
   ]
  },
  {
   "attachments": {},
   "cell_type": "markdown",
   "metadata": {},
   "source": [
    "---"
   ]
  },
  {
   "attachments": {},
   "cell_type": "markdown",
   "metadata": {},
   "source": [
    "## Ball (solid sphere) in $\\mathbb{R}^3$"
   ]
  },
  {
   "attachments": {},
   "cell_type": "markdown",
   "metadata": {},
   "source": [
    "A ball (solid sphere) in $\\mathbb{R}^3$ is\n",
    "\n",
    "$\n",
    "(x-a)^2+(y-b)^2+(z-c)^2\\le R^2\n",
    "$"
   ]
  },
  {
   "attachments": {},
   "cell_type": "markdown",
   "metadata": {},
   "source": [
    "---"
   ]
  },
  {
   "attachments": {},
   "cell_type": "markdown",
   "metadata": {},
   "source": [
    "## Formula for Dimension"
   ]
  },
  {
   "attachments": {},
   "cell_type": "markdown",
   "metadata": {},
   "source": [
    "Dimension of the system of equations = total number of variables - number of independent equations\n",
    "\n",
    "Each equation makes one variable depedent, but inequalities do not force a dependence."
   ]
  },
  {
   "attachments": {},
   "cell_type": "markdown",
   "metadata": {},
   "source": [
    "---"
   ]
  },
  {
   "attachments": {},
   "cell_type": "markdown",
   "metadata": {},
   "source": [
    "## Vector Function"
   ]
  },
  {
   "attachments": {},
   "cell_type": "markdown",
   "metadata": {},
   "source": [
    "A vector function is just a vector that has variables and that can change."
   ]
  },
  {
   "attachments": {},
   "cell_type": "markdown",
   "metadata": {},
   "source": [
    "Example\n",
    "\n",
    "$\n",
    "\\begin{aligned}\n",
    "\\vec{r}(t)&=\\langle2t,3t-1,5-t\\rangle\\\\\n",
    "\\vec{r}(0)&=\\langle0,-1,5\\rangle\\\\\n",
    "\\vec{r}(1)&=\\langle2,2,4\\rangle\\\\\n",
    "\\vec{r}(2)&=\\langle4,5,3\\rangle\\\\\n",
    "\\end{aligned}\n",
    "$"
   ]
  },
  {
   "attachments": {},
   "cell_type": "markdown",
   "metadata": {},
   "source": [
    "A vector function may be used to describe a changing position.\n",
    "\n",
    "If a vector function with one variable produces position vectors, then the graph will be a curve (i.e., a one-dimensional path) which follows the path of an object moving along those positions.\n",
    "\n",
    "A vector function which describes a path is called a parameterization of the path where the parameter $t$ is an independent variable of the vector function.\n",
    "\n",
    "A parameterization may be rewritten as a system of equations."
   ]
  },
  {
   "attachments": {},
   "cell_type": "markdown",
   "metadata": {},
   "source": [
    "$\n",
    "\\begin{aligned}\n",
    "\\vec{r}(t)=\\langle2t,3t-1,5-t\\rangle\n",
    "\\iff\n",
    "\\begin{aligned}\n",
    "x&=2t\\\\\n",
    "y&=3t-1\\\\\n",
    "z&=5-t\\\\\n",
    "\\end{aligned}\n",
    "\\end{aligned}\n",
    "$"
   ]
  },
  {
   "attachments": {},
   "cell_type": "markdown",
   "metadata": {},
   "source": [
    "---"
   ]
  },
  {
   "attachments": {},
   "cell_type": "markdown",
   "metadata": {},
   "source": [
    "## Lines in $\\mathbb{R}^3$ and their parameterization"
   ]
  },
  {
   "attachments": {},
   "cell_type": "markdown",
   "metadata": {},
   "source": [
    "Let a line in $\\mathbb{R}^3$ go through the point $(x,y,z)$ and move in the direction $\\langle a,b,c\\rangle$.\n",
    "\n",
    "Any point on the line can be written\n",
    "\n",
    "$\n",
    "\\langle x,y,z\\rangle+t\\langle a,b,c\\rangle\n",
    "$\n",
    "\n",
    "A line in $\\mathbb{R}^3$ which goes through point $\\vec{P}$ and has a direction vector $\\vec{v}$ has the parameterization\n",
    "\n",
    "$\n",
    "\\vec{r}(t)=\\vec{P}+t\\vec{v}\n",
    "$\n",
    "\n",
    "$\n",
    "\\begin{aligned}\n",
    "t=0&\\implies\\vec{r}(0)=\\langle x_0,y_0,z_0\\rangle\\\\\n",
    "t=1&\\implies\\vec{r}(1)=\\langle x_1,y_1,z_1\\rangle+\\langle a,b,c\\rangle\\\\\n",
    "t=2&\\implies\\vec{r}(2)=\\langle x_2,y_2,z_2\\rangle+2\\langle a,b,c\\rangle\\\\\n",
    "\\end{aligned}\n",
    "$"
   ]
  },
  {
   "attachments": {},
   "cell_type": "markdown",
   "metadata": {},
   "source": [
    "Parameterizations of lines are functions whose outputs are position vectors which describe the points on the line.\n",
    "\n",
    "$\n",
    "\\vec{r}(t)=\\vec{r}_0+t\\vec{v}\n",
    "$\n",
    "\n",
    "$\n",
    "\\vec{r}(t)=\\underbrace{\\vec{r}_0}_{\\text{starting point}}+t\\underbrace{\\vec{v}}_{\\text{position vector}}\n",
    "$"
   ]
  },
  {
   "attachments": {},
   "cell_type": "markdown",
   "metadata": {},
   "source": [
    "---"
   ]
  },
  {
   "attachments": {},
   "cell_type": "markdown",
   "metadata": {},
   "source": [
    "Lines in $\\mathbb{R}^2$ have slope.\n",
    "\n",
    "Lines in $\\mathbb{R}^3$ don't have slope; they have direction."
   ]
  },
  {
   "attachments": {},
   "cell_type": "markdown",
   "metadata": {},
   "source": [
    "---"
   ]
  },
  {
   "cell_type": "markdown",
   "metadata": {},
   "source": [
    "The domain of $t$ may be restricted such that the line is a line segment.\n",
    "\n",
    "$\n",
    "\\vec{r}(t)=\\vec{r}_0+t\\vec{v}\n",
    "$\n",
    "where $\\,a\\le t\\le b$\n",
    "\n",
    "Then $\\vec{r}(a)$ and $\\vec{r}(b)$ are the endpoints of the line segment."
   ]
  },
  {
   "cell_type": "markdown",
   "metadata": {},
   "source": [
    "---"
   ]
  }
 ],
 "metadata": {
  "language_info": {
   "name": "python"
  },
  "orig_nbformat": 4
 },
 "nbformat": 4,
 "nbformat_minor": 2
}
