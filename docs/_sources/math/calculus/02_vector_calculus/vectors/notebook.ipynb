{
 "cells": [
  {
   "attachments": {},
   "cell_type": "markdown",
   "metadata": {},
   "source": [
    "# Vectors"
   ]
  },
  {
   "attachments": {},
   "cell_type": "markdown",
   "metadata": {},
   "source": [
    "---"
   ]
  },
  {
   "attachments": {},
   "cell_type": "markdown",
   "metadata": {},
   "source": [
    "```{admonition} Revised\n",
    "29 Jun 2023\n",
    "```\n",
    "```{contents}\n",
    "```"
   ]
  },
  {
   "attachments": {},
   "cell_type": "markdown",
   "metadata": {},
   "source": [
    "---"
   ]
  },
  {
   "attachments": {},
   "cell_type": "markdown",
   "metadata": {},
   "source": [
    "## Programming Environment"
   ]
  },
  {
   "cell_type": "code",
   "execution_count": 31,
   "metadata": {},
   "outputs": [],
   "source": [
    "import math\n",
    "from   typing import List"
   ]
  },
  {
   "attachments": {},
   "cell_type": "markdown",
   "metadata": {},
   "source": [
    "---"
   ]
  },
  {
   "attachments": {},
   "cell_type": "markdown",
   "metadata": {},
   "source": [
    "## What is a vector?"
   ]
  },
  {
   "attachments": {},
   "cell_type": "markdown",
   "metadata": {},
   "source": [
    "a change in position $\\langle a,b\\rangle$\n",
    "\n",
    "a point $(a,b)\\in\\mathbb{R}^2$\n",
    "\n",
    "a list of numbers\n",
    "$\n",
    "\\begin{bmatrix}\n",
    "a&b\\\\\n",
    "\\end{bmatrix}\n",
    "$\n",
    "\n",
    "any object which has both (1) a magnitude (e.g., length) and (2) a direction\n",
    "\n",
    "visually, a vector looks like an arrow with (1) some length and (2) pointing in some direction\n",
    "\n",
    "Note that although a vector arrow looks like a ray, the vector arrow does not mean that the vector goes to infinity; it just represents the vector's direction."
   ]
  },
  {
   "attachments": {},
   "cell_type": "markdown",
   "metadata": {},
   "source": [
    "---"
   ]
  },
  {
   "attachments": {},
   "cell_type": "markdown",
   "metadata": {},
   "source": [
    "## Varieties of vectors"
   ]
  },
  {
   "attachments": {},
   "cell_type": "markdown",
   "metadata": {},
   "source": [
    "---"
   ]
  },
  {
   "attachments": {},
   "cell_type": "markdown",
   "metadata": {},
   "source": [
    "### Displacement Vector"
   ]
  },
  {
   "attachments": {},
   "cell_type": "markdown",
   "metadata": {},
   "source": [
    "A vector can represent the change in position or displacement from one point to another.\n",
    "\n",
    "Let $P=(x_0,y_0),Q=(x_1,y_1)\\in\\mathbb{R}^2$ be two points in Cartesian space.\n",
    "\n",
    "The displacement vector from $P$ to $Q$ can be calculated as\n",
    "\n",
    "$\\vec{PQ}=\\langle x_1-x_0,y_1-y_0\\rangle$\n",
    "\n",
    "The displacement vector from $Q$ to $P$ is just\n",
    "\n",
    "$\\vec{QP}=-\\vec{PQ}=\\langle x_0-x_1,y_0-y_1\\rangle$\n",
    "\n",
    "Note that any points $P,Q\\in\\mathbb{R}^2$ which satisfy\n",
    "\n",
    "$\n",
    "\\begin{aligned}\n",
    "x_1-x_0&=a\\\\\n",
    "y_1-y_0&=b\\\\\n",
    "\\end{aligned}\n",
    "$\n",
    "\n",
    "for some fixed $a,b$ represent the same displacement vector $\\langle a,b\\rangle$.\n",
    "\n",
    "In other words, the location of a displacement vector does not matter. Two displacement vectors with the same length and direction are identical and indistinguishable."
   ]
  },
  {
   "attachments": {},
   "cell_type": "markdown",
   "metadata": {},
   "source": [
    "---"
   ]
  },
  {
   "attachments": {},
   "cell_type": "markdown",
   "metadata": {},
   "source": [
    "[EXAMPLE]\n",
    "\n",
    "$\n",
    "P=(2,4),Q=(5,8)\n",
    "\\implies\n",
    "\\vec{PQ}=\\langle5-2,8-4\\rangle=\\langle3,4\\rangle\n",
    "$\n",
    "\n",
    "$\n",
    "R=(-17,5),S=(-14,9)\n",
    "\\implies\n",
    "\\vec{RS}=\\langle-14-(-17),9-5\\rangle=\\langle3,4\\rangle\n",
    "$\n",
    "\n",
    "$\\vec{PQ}=\\langle3,4\\rangle$ and $\\vec{RS}=\\langle3,4\\rangle$ are the same displacement vector"
   ]
  },
  {
   "attachments": {},
   "cell_type": "markdown",
   "metadata": {},
   "source": [
    "---"
   ]
  },
  {
   "attachments": {},
   "cell_type": "markdown",
   "metadata": {},
   "source": [
    "### Position Vector"
   ]
  },
  {
   "attachments": {},
   "cell_type": "markdown",
   "metadata": {},
   "source": [
    "A vector can represent the position of a point.\n",
    "\n",
    "Let $P=(a,b)\\in\\mathbb{R}^2$ be a point in Cartesian space.\n",
    "\n",
    "The position vector $\\langle a-0,b-0\\rangle=\\langle a,b\\rangle$ is just the displacement vector from the origin $(0,0)$ to $P$.\n",
    "\n",
    "In other words, the position vector of a point $P=(a,b)\\in\\mathbb{R}^2$ is just $\\langle a,b\\rangle$."
   ]
  },
  {
   "attachments": {},
   "cell_type": "markdown",
   "metadata": {},
   "source": [
    "---"
   ]
  },
  {
   "attachments": {},
   "cell_type": "markdown",
   "metadata": {},
   "source": [
    "### Tangent Vector"
   ]
  },
  {
   "attachments": {},
   "cell_type": "markdown",
   "metadata": {},
   "source": [
    "A vector can represent the direction of tangency at a certain point along a curve.\n",
    "\n",
    "The length/magnitude of a tangent vector may not be relevant, only its direction. In such cases, we use the unit tangent vector.\n",
    "\n",
    "Velocity is an example of a tangent vector: the velocity vector of an object is always tangent to the object's path of motion, and the length/magnitude of this vector is the object's speed."
   ]
  },
  {
   "attachments": {},
   "cell_type": "markdown",
   "metadata": {},
   "source": [
    "---"
   ]
  },
  {
   "attachments": {},
   "cell_type": "markdown",
   "metadata": {},
   "source": [
    "### Data/Information Vector"
   ]
  },
  {
   "attachments": {},
   "cell_type": "markdown",
   "metadata": {},
   "source": [
    "A vector can be used to collect data for the purposes of thinking about that data geometrically or mathematically."
   ]
  },
  {
   "attachments": {},
   "cell_type": "markdown",
   "metadata": {},
   "source": [
    "---"
   ]
  },
  {
   "attachments": {},
   "cell_type": "markdown",
   "metadata": {},
   "source": [
    "## Notation"
   ]
  },
  {
   "attachments": {},
   "cell_type": "markdown",
   "metadata": {},
   "source": [
    "A vector is denoted in the following ways.\n",
    "\n",
    "arrow\n",
    "\n",
    "$\\vec{v}$\n",
    "\n",
    "boldface\n",
    "\n",
    "$\\mathbf{v}$\n",
    "\n",
    "A vector $\\mathbf{v}\\in\\mathbb{R}^2$ represented in terms of its components can be written in the following ways.\n",
    "\n",
    "displacement vector\n",
    "\n",
    "$\\langle a,b\\rangle$\n",
    "\n",
    "position vector\n",
    "\n",
    "$(a,b)$\n",
    "\n",
    "column vector\n",
    "\n",
    "$\n",
    "\\begin{bmatrix}\n",
    "a\\\\b\\\\\n",
    "\\end{bmatrix}\n",
    "$\n",
    "\n",
    "row vector\n",
    "\n",
    "$\n",
    "\\begin{bmatrix}\n",
    "a&b\\\\\n",
    "\\end{bmatrix}\n",
    "$"
   ]
  },
  {
   "attachments": {},
   "cell_type": "markdown",
   "metadata": {},
   "source": [
    "---"
   ]
  },
  {
   "attachments": {},
   "cell_type": "markdown",
   "metadata": {},
   "source": [
    "## Vector Operations"
   ]
  },
  {
   "attachments": {},
   "cell_type": "markdown",
   "metadata": {},
   "source": [
    "---"
   ]
  },
  {
   "attachments": {},
   "cell_type": "markdown",
   "metadata": {},
   "source": [
    "### Vector Addition"
   ]
  },
  {
   "attachments": {},
   "cell_type": "markdown",
   "metadata": {},
   "source": [
    "Geometrically\n",
    "\n",
    "tip to tail"
   ]
  },
  {
   "attachments": {},
   "cell_type": "markdown",
   "metadata": {},
   "source": [
    "Arithmetically, vector addition is calculated component-wise.\n",
    "\n",
    "$\n",
    "\\langle a,b\\rangle+\\langle c,d\\rangle\n",
    "=\\langle a+c,b+d\\rangle\n",
    "$"
   ]
  },
  {
   "cell_type": "code",
   "execution_count": 29,
   "metadata": {},
   "outputs": [
    {
     "data": {
      "text/plain": [
       "[-3, -2]"
      ]
     },
     "execution_count": 29,
     "metadata": {},
     "output_type": "execute_result"
    }
   ],
   "source": [
    "def add2 (v : List,\n",
    "          w : List) -> List:\n",
    "  return [v[0] + w[0], v[1] + w[1]]\n",
    "\n",
    "v = [1, 2]\n",
    "w = [4, 4]\n",
    "\n",
    "add2(v, w)\n",
    "add2(v, [-1 * e for e in w])"
   ]
  },
  {
   "cell_type": "code",
   "execution_count": null,
   "metadata": {},
   "outputs": [],
   "source": [
    "def addn (v : List,\n",
    "          w : List) -> List:\n",
    "  return [x + y for (x, y) in zip(v, w)]\n",
    "\n",
    "def addn (v : List,\n",
    "          w : List) -> List:\n",
    "  return [v[i] + w[i] for i in range(len(v))]"
   ]
  },
  {
   "attachments": {},
   "cell_type": "markdown",
   "metadata": {},
   "source": [
    "---"
   ]
  },
  {
   "attachments": {},
   "cell_type": "markdown",
   "metadata": {},
   "source": [
    "### Scalar Multiplication (Scalar-Vector Multiplication)"
   ]
  },
  {
   "attachments": {},
   "cell_type": "markdown",
   "metadata": {},
   "source": [
    "Geometrically\n",
    "\n",
    "scaling"
   ]
  },
  {
   "attachments": {},
   "cell_type": "markdown",
   "metadata": {},
   "source": [
    "Arithmetically, scalar multiplication is calculated by distribution.\n",
    "\n",
    "$\n",
    "\\mathbf{v}=\\langle a,b\\rangle\n",
    "\\implies\n",
    "k\\mathbf{v}=k\\langle a,b\\rangle=\\langle ka,kb\\rangle\n",
    "$"
   ]
  },
  {
   "attachments": {},
   "cell_type": "markdown",
   "metadata": {},
   "source": [
    "Scalar multiplication can change the length of a vector, but cannot change its direction except in the case when $k\\lt0$ which orients the vector in the opposite direction."
   ]
  },
  {
   "cell_type": "code",
   "execution_count": 32,
   "metadata": {},
   "outputs": [],
   "source": [
    "def scalar_vector_mult (alpha : float,\n",
    "                        v     : List) -> List:\n",
    "  return [alpha * v[i] for i in range(len(v))]"
   ]
  },
  {
   "attachments": {},
   "cell_type": "markdown",
   "metadata": {},
   "source": [
    "---"
   ]
  },
  {
   "attachments": {},
   "cell_type": "markdown",
   "metadata": {},
   "source": [
    "[EXAMPLE]\n",
    "\n",
    "$\n",
    "\\begin{aligned}\n",
    "&\\langle1,3\\rangle+3\\langle-2,-1\\rangle-2\\langle2,-5\\rangle\\\\\n",
    "=&\\langle1,3\\rangle+\\langle-6,-3\\rangle+\\langle-4,10\\rangle\\\\\n",
    "=&\\langle1-6-4,3-3+10\\rangle\\\\\n",
    "=&\\langle-9,10\\rangle\\\\\n",
    "\\end{aligned}\n",
    "$"
   ]
  },
  {
   "attachments": {},
   "cell_type": "markdown",
   "metadata": {},
   "source": [
    "---"
   ]
  },
  {
   "attachments": {},
   "cell_type": "markdown",
   "metadata": {},
   "source": [
    "## Vector Properties"
   ]
  },
  {
   "attachments": {},
   "cell_type": "markdown",
   "metadata": {},
   "source": [
    "---"
   ]
  },
  {
   "attachments": {},
   "cell_type": "markdown",
   "metadata": {},
   "source": [
    "### Additive Commutativity"
   ]
  },
  {
   "attachments": {},
   "cell_type": "markdown",
   "metadata": {},
   "source": [
    "Vector addition is defined in terms of a commutative operation (commutativity of field elements), so it is commutative."
   ]
  },
  {
   "attachments": {},
   "cell_type": "markdown",
   "metadata": {},
   "source": [
    "### Additive Associativity"
   ]
  },
  {
   "attachments": {},
   "cell_type": "markdown",
   "metadata": {},
   "source": [
    "Vector addition is defined in terms of an associative operation (associativity of field elements), so it is associative."
   ]
  },
  {
   "attachments": {},
   "cell_type": "markdown",
   "metadata": {},
   "source": [
    "### Scalar-Multiplicative Associativity"
   ]
  },
  {
   "attachments": {},
   "cell_type": "markdown",
   "metadata": {},
   "source": [
    "### Distributivity of scalar-multiplication over vector addition"
   ]
  },
  {
   "attachments": {},
   "cell_type": "markdown",
   "metadata": {},
   "source": [
    "---"
   ]
  },
  {
   "attachments": {},
   "cell_type": "markdown",
   "metadata": {},
   "source": [
    "### Vector Parallelism"
   ]
  },
  {
   "attachments": {},
   "cell_type": "markdown",
   "metadata": {},
   "source": [
    "Two vectors are parallel (and point in the same direction) if they are scalar multiples of each other.\n",
    "\n",
    "$\n",
    "\\mathbf{v}\\parallel\\mathbf{w}\n",
    "\\iff\n",
    "\\mathbf{v}=k\\mathbf{w}\\lor\\mathbf{w}=k\\mathbf{v}\n",
    "$\n",
    "\n",
    "Two vectors are anti parallel (i.e., parallel but pointing in opposite directions) if $k\\lt0$."
   ]
  },
  {
   "attachments": {},
   "cell_type": "markdown",
   "metadata": {},
   "source": [
    "---"
   ]
  },
  {
   "attachments": {},
   "cell_type": "markdown",
   "metadata": {},
   "source": [
    "### Vector Magnitude"
   ]
  },
  {
   "attachments": {},
   "cell_type": "markdown",
   "metadata": {},
   "source": [
    "The magnitude of a vector is calculated via the Pythagorean Theorem.\n",
    "\n",
    "Let $\\mathbf{v}$ be a vector.\n",
    "\n",
    "The magnitude of $\\mathbf{v}\\in\\mathbb{R}^2$ is\n",
    "\n",
    "$\n",
    "\\begin{aligned}\n",
    "\\|\\mathbf{v}\\|=\\|\\langle a,b\\rangle\\|=\\sqrt{a^2+b^2}\n",
    "\\end{aligned}\n",
    "$\n",
    "\n",
    "The magnitude of $\\mathbf{v}\\in\\mathbb{R}^3$ is\n",
    "\n",
    "$\n",
    "\\begin{aligned}\n",
    "\\|\\mathbf{v}\\|=\\|\\langle a,b,c\\rangle\\|=\\sqrt{a^2+b^2+c^2}\n",
    "\\end{aligned}\n",
    "$\n",
    "\n",
    "The magnitude of $\\mathbf{v}\\in\\mathbb{R}^n$ is\n",
    "\n",
    "$\n",
    "\\begin{aligned}\n",
    "\\|\\mathbf{v}\\|=\\|\\langle x_1,...,x_n\\rangle\\|=\\sqrt{x_1^2+...+x_n^2}\n",
    "\\end{aligned}\n",
    "$"
   ]
  },
  {
   "attachments": {},
   "cell_type": "markdown",
   "metadata": {},
   "source": [
    "---"
   ]
  },
  {
   "attachments": {},
   "cell_type": "markdown",
   "metadata": {},
   "source": [
    "### Vector Direction and the Unit Vector"
   ]
  },
  {
   "attachments": {},
   "cell_type": "markdown",
   "metadata": {},
   "source": [
    "A vector whose magnitude is unity (i.e., whose length is one) is called a unit vector.\n",
    "\n",
    "A nonzero vector's direction is described by a parallel unit vector.\n",
    "\n",
    "To scale a nonzero vector to unity, scalar multiply it by one over its magnitude.\n",
    "\n",
    "Let $\\mathbf{v}$ be a vector.\n",
    "\n",
    "The unit vector $\\mathbf{\\hat{u}}$ of vector $\\mathbf{v}$ is\n",
    "\n",
    "$\n",
    "\\mathbf{\\hat{u}}=\n",
    "\\begin{aligned}\n",
    "\\frac{\\mathbf{v}}{\\|\\mathbf{v}\\|}\n",
    "\\end{aligned}\n",
    "$"
   ]
  },
  {
   "attachments": {},
   "cell_type": "markdown",
   "metadata": {},
   "source": [
    "---"
   ]
  },
  {
   "attachments": {},
   "cell_type": "markdown",
   "metadata": {},
   "source": [
    "### Standard Basis Vectors"
   ]
  },
  {
   "attachments": {},
   "cell_type": "markdown",
   "metadata": {},
   "source": [
    "The standard basis vectors are special unit vectors which together can describe any vector.\n",
    "\n",
    "Any vector $\\mathbf{v}\\in\\mathbb{R}^n$ can be written as a linear combination of the standard basis vectors"
   ]
  },
  {
   "attachments": {},
   "cell_type": "markdown",
   "metadata": {},
   "source": [
    "---"
   ]
  },
  {
   "attachments": {},
   "cell_type": "markdown",
   "metadata": {},
   "source": [
    "The standard basis in $\\mathbb{R}^2$ consists of\n",
    "\n",
    "$\n",
    "\\mathbf{\\hat{i}}=\\langle1,0\\rangle\n",
    "$\n",
    "one unit in the $x$ direction\n",
    "\n",
    "$\n",
    "\\mathbf{\\hat{j}}=\\langle0,1\\rangle\n",
    "$\n",
    "one unit in the $y$ direction\n",
    "\n",
    "Any vector $\\mathbf{v}\\in\\mathbb{R}^2=a\\mathbf{\\hat{i}}+b\\mathbf{\\hat{j}}$ for some $a,b\\in\\mathbb{R}$"
   ]
  },
  {
   "attachments": {},
   "cell_type": "markdown",
   "metadata": {},
   "source": [
    "---"
   ]
  },
  {
   "attachments": {},
   "cell_type": "markdown",
   "metadata": {},
   "source": [
    "[EXAMPLE]\n",
    "\n",
    "$\n",
    "\\begin{aligned}\n",
    "\\langle3,5\\rangle\n",
    "=\\langle3,0\\rangle+\\langle0,5\\rangle\n",
    "=3\\langle1,0\\rangle+5\\langle0,1\\rangle\n",
    "=3\\mathbf{\\hat{i}}+5\\mathbf{\\hat{j}}\n",
    "\\end{aligned}\n",
    "$"
   ]
  },
  {
   "attachments": {},
   "cell_type": "markdown",
   "metadata": {},
   "source": [
    "---"
   ]
  },
  {
   "attachments": {},
   "cell_type": "markdown",
   "metadata": {},
   "source": [
    "The standard basis in $\\mathbb{R}^3$ consists of\n",
    "\n",
    "$\n",
    "\\mathbf{\\hat{i}}=\\langle1,0,0\\rangle\n",
    "$\n",
    "one unit in the $x$ direction\n",
    "\n",
    "$\n",
    "\\mathbf{\\hat{j}}=\\langle0,1,0\\rangle\n",
    "$\n",
    "one unit in the $y$ direction\n",
    "\n",
    "$\n",
    "\\mathbf{\\hat{k}}=\\langle0,0,1\\rangle\n",
    "$\n",
    "one unit in the $z$ direction\n",
    "\n",
    "Any vector $\\mathbf{v}\\in\\mathbb{R}^3=a\\mathbf{\\hat{i}}+b\\mathbf{\\hat{j}}+c\\mathbf{\\hat{k}}$ for some $a,b,c\\in\\mathbb{R}$"
   ]
  },
  {
   "attachments": {},
   "cell_type": "markdown",
   "metadata": {},
   "source": [
    "---"
   ]
  },
  {
   "attachments": {},
   "cell_type": "markdown",
   "metadata": {},
   "source": [
    "Pythagorean Theorem in three dimensions\n",
    "\n",
    "Let $L=(a,b,c)$ be the line segment from the origin to the point $a$ units along the x-axis, $b$ units along the y-axis, and $c$ units along the z-axis.\n",
    "\n",
    "Let $d$ be the line segment in the xy-plane from the origin to the point $(a,b,0)$.\n",
    "\n",
    "$\n",
    "\\begin{aligned}\n",
    "L&=\\sqrt{c^2+d^2}\\\\\n",
    "d&=\\sqrt{a^2+b^2}\\\\\n",
    "\\end{aligned}\n",
    "\\implies\n",
    "L=\\sqrt{c^2+(\\sqrt{a^2+b^2})^2}=\\sqrt{a^2+b^2+c^2}\n",
    "$"
   ]
  },
  {
   "attachments": {},
   "cell_type": "markdown",
   "metadata": {},
   "source": [
    "---"
   ]
  },
  {
   "attachments": {},
   "cell_type": "markdown",
   "metadata": {},
   "source": [
    "## n-vector"
   ]
  },
  {
   "attachments": {},
   "cell_type": "markdown",
   "metadata": {},
   "source": [
    "A vector of $n$ real numbers is called an $n$-vector over $\\mathbb{R}$."
   ]
  },
  {
   "attachments": {},
   "cell_type": "markdown",
   "metadata": {},
   "source": [
    "## The set of n-vectors over F"
   ]
  },
  {
   "attachments": {},
   "cell_type": "markdown",
   "metadata": {},
   "source": [
    "Let $\\mathbb{F}$ be a field and let $n$ be a positive integer.\n",
    "\n",
    "A vector of $n$ elements where each $n_i\\in\\mathbb{F}$ is called an $n$-vector over $\\mathbb{F}$.\n",
    "\n",
    "The set of $n$-vectors over $\\mathbb{F}$ is denoted $\\mathbb{F}^n$.\n",
    "\n",
    "[EXAMPLE]\n",
    "\n",
    "For example, the set of $4$-vectors over $\\mathbb{R}$ is denoted $\\mathbb{R}^4$."
   ]
  },
  {
   "attachments": {},
   "cell_type": "markdown",
   "metadata": {},
   "source": [
    "## Vectors are functions with a finite domain"
   ]
  },
  {
   "attachments": {},
   "cell_type": "markdown",
   "metadata": {},
   "source": [
    "$\n",
    "\\mathbb{F}^n=\\mathbb{F}^{\\{0, 1, 2, 3, \\dots, n - 1\\}}\n",
    "$\n",
    "may be interpreted as the set of functions from $\\{0, 1, 2, 3, \\dots, n - 1\\}$ to $\\mathbb{F}$.\n",
    "\n",
    "[EXAMPLE]\n",
    "\n",
    "For example, the $4$-vector over $\\mathbb{R}$\n",
    "\n",
    "$\\langle \\pi, e, -1.0, 2.0 \\rangle$\n",
    "\n",
    "is just the function\n",
    "\n",
    "$\n",
    "\\begin{aligned}\n",
    "0 &\\mapsto \\pi  \\\\\n",
    "1 &\\mapsto e    \\\\\n",
    "2 &\\mapsto -1.0 \\\\\n",
    "3 &\\mapsto 2.0  \\\\\n",
    "\\end{aligned}\n",
    "$"
   ]
  },
  {
   "attachments": {},
   "cell_type": "markdown",
   "metadata": {},
   "source": [
    "## Example: the word-bag model of documents"
   ]
  },
  {
   "attachments": {},
   "cell_type": "markdown",
   "metadata": {},
   "source": [
    "According to the word-bag model of documents, a document is a multiset (or \"bag\") of words.\n",
    "\n",
    "A multiset is like a set that can contain more than one copy of an element; and the number of copies is called the multiplicity of the element.\n",
    "\n",
    "A bag of words is represented by a function $f$ whose domain is the set of words $\\text{WORDS}$ and whose codomain is the set of real numbers $\\mathbb{R}$.\n",
    "\n",
    "$\n",
    "f : \\text{WORDS} \\to \\mathbb{R}\n",
    "$\n",
    "\n",
    "The image of a word is its multiplicity.\n",
    "\n",
    "The function $f$ can be interpreted as a $\\text{WORDS}$-vector over $\\mathbb{R}$.\n",
    "\n",
    "Then $\\mathbb{R}^\\text{WORDS}$ is the set of all $\\text{WORDS}$-vectors over $\\mathbb{R}$, or the set of functions with domain $\\text{WORDS}$ and codomain $\\mathbb{R}$."
   ]
  },
  {
   "attachments": {},
   "cell_type": "markdown",
   "metadata": {},
   "source": [
    "## D-vector over F"
   ]
  },
  {
   "attachments": {},
   "cell_type": "markdown",
   "metadata": {},
   "source": [
    "Let $D$ be a finite set and let $\\mathbb{F}$ be a field.\n",
    "\n",
    "A $D$-vector over $\\mathbb{F}$ is a function from $D$ to $\\mathbb{F}$.\n",
    "\n",
    "Then $\\mathbb{F}^D$ is the set of all $D$-vectors over $\\mathbb{F}$, or the set of functions with domain $D$ and codomain $\\mathbb{F}$.\n",
    "\n",
    "[EXAMPLE]\n",
    "\n",
    "For example, $GF(2)^n$ denotes the set of all $n$-vectors over $GF(2)$, or the set of functions with domain $\\{0, 1, 2, 3, \\dots, n - 1\\}$ and codomain $GF(2)$."
   ]
  },
  {
   "attachments": {},
   "cell_type": "markdown",
   "metadata": {},
   "source": [
    "## k-sparse vector"
   ]
  },
  {
   "attachments": {},
   "cell_type": "markdown",
   "metadata": {},
   "source": [
    "A vector most of whose values are zero is called a sparse vector.\n",
    "\n",
    "If no more than $k$ of the elements are nonzero, the vector is called $k$-sparse.\n",
    "\n",
    "A $k$-sparse vector can be represented using space proportional to $k$."
   ]
  },
  {
   "attachments": {},
   "cell_type": "markdown",
   "metadata": {},
   "source": [
    "## What can be represented with vectors?"
   ]
  },
  {
   "attachments": {},
   "cell_type": "markdown",
   "metadata": {},
   "source": [
    "### Geometric points"
   ]
  },
  {
   "attachments": {},
   "cell_type": "markdown",
   "metadata": {},
   "source": [
    "### Sets and multisets"
   ]
  },
  {
   "attachments": {},
   "cell_type": "markdown",
   "metadata": {},
   "source": [
    "### Bit strings"
   ]
  },
  {
   "attachments": {},
   "cell_type": "markdown",
   "metadata": {},
   "source": [
    "An $n$-bit binary string\n",
    "\n",
    "$10111011$\n",
    "\n",
    "is represented as an $n$-vector over $GF(2)$\n",
    "\n",
    "$[1,0,1,1,1,0,1,1]$"
   ]
  },
  {
   "attachments": {},
   "cell_type": "markdown",
   "metadata": {},
   "source": [
    "### Attribute names and values"
   ]
  },
  {
   "attachments": {},
   "cell_type": "markdown",
   "metadata": {},
   "source": [
    "A data set consists of observations or points each of which is represented by a collection of attribute names and attribute values; this collection in turn is represented by a function that maps attribute names to the corresponding values."
   ]
  },
  {
   "attachments": {},
   "cell_type": "markdown",
   "metadata": {},
   "source": [
    "### The state of a system at a point in time"
   ]
  },
  {
   "attachments": {},
   "cell_type": "markdown",
   "metadata": {},
   "source": [
    "### Finite probability distributions"
   ]
  },
  {
   "attachments": {},
   "cell_type": "markdown",
   "metadata": {},
   "source": [
    "A finite probability distribution is a function from a finite domain to the real numbers."
   ]
  },
  {
   "attachments": {},
   "cell_type": "markdown",
   "metadata": {},
   "source": [
    "### Images"
   ]
  },
  {
   "attachments": {},
   "cell_type": "markdown",
   "metadata": {},
   "source": [
    "A black and white $m\\times n$ image is a function from the set of pairs\n",
    "\n",
    "$\n",
    "\\{ (i, j) \\mid 0 \\le i \\lt m, 0 \\le j \\lt n \\}\n",
    "$\n",
    "\n",
    "to the real numbers $\\mathbb{R}$.\n",
    "\n",
    "The pixel-coordinate pair $(i, j)$ maps to a number called the pixel intensity.\n",
    "\n",
    "[EXAMPLE]\n",
    "\n",
    "Consider a $4\\times8$ (width by height) grayscale gradient where pixel intensity $0$ represents black and $255$ represents white.\n",
    "\n",
    "$\n",
    "f : \\{ (i, j) | 0 \\le i \\lt 4, 0 \\le j \\lt 8 \\} \\to \\{0, 1, 2, \\dots, 255\\}\n",
    "$"
   ]
  },
  {
   "cell_type": "code",
   "execution_count": 22,
   "metadata": {},
   "outputs": [
    {
     "data": {
      "text/plain": [
       "{(0, 0): 0,\n",
       " (1, 0): 32,\n",
       " (2, 0): 64,\n",
       " (3, 0): 96,\n",
       " (4, 0): 128,\n",
       " (5, 0): 160,\n",
       " (6, 0): 192,\n",
       " (7, 0): 224,\n",
       " (0, 1): 0,\n",
       " (1, 1): 32,\n",
       " (2, 1): 64,\n",
       " (3, 1): 96,\n",
       " (4, 1): 128,\n",
       " (5, 1): 160,\n",
       " (6, 1): 192,\n",
       " (7, 1): 224,\n",
       " (0, 2): 0,\n",
       " (1, 2): 32,\n",
       " (2, 2): 64,\n",
       " (3, 2): 96,\n",
       " (4, 2): 128,\n",
       " (5, 2): 160,\n",
       " (6, 2): 192,\n",
       " (7, 2): 224,\n",
       " (0, 3): 0,\n",
       " (1, 3): 32,\n",
       " (2, 3): 64,\n",
       " (3, 3): 96,\n",
       " (4, 3): 128,\n",
       " (5, 3): 160,\n",
       " (6, 3): 192,\n",
       " (7, 3): 224}"
      ]
     },
     "execution_count": 22,
     "metadata": {},
     "output_type": "execute_result"
    }
   ],
   "source": [
    "{(i, j) : math.ceil(i * (255 / 8)) for j in range(4) for i in range(8)}"
   ]
  },
  {
   "attachments": {},
   "cell_type": "markdown",
   "metadata": {},
   "source": [
    "---"
   ]
  },
  {
   "attachments": {},
   "cell_type": "markdown",
   "metadata": {},
   "source": [
    "## Representations"
   ]
  },
  {
   "attachments": {},
   "cell_type": "markdown",
   "metadata": {},
   "source": [
    "### Python List"
   ]
  },
  {
   "cell_type": "code",
   "execution_count": 6,
   "metadata": {},
   "outputs": [
    {
     "data": {
      "text/plain": [
       "[3.141592653589793, 2.718281828459045, -1.0, 2.0]"
      ]
     },
     "execution_count": 6,
     "metadata": {},
     "output_type": "execute_result"
    }
   ],
   "source": [
    "v = [math.pi, math.e, -1.0, 2.0]\n",
    "v"
   ]
  },
  {
   "attachments": {},
   "cell_type": "markdown",
   "metadata": {},
   "source": [
    "### Python Dictionary"
   ]
  },
  {
   "cell_type": "code",
   "execution_count": 5,
   "metadata": {},
   "outputs": [
    {
     "data": {
      "text/plain": [
       "{0: 3.141592653589793, 1: 2.718281828459045, 2: -1.0, 3: 2.0}"
      ]
     },
     "execution_count": 5,
     "metadata": {},
     "output_type": "execute_result"
    }
   ],
   "source": [
    "v = {k : v for k, v in enumerate([math.pi, math.e, -1.0, 2.0])}\n",
    "v"
   ]
  },
  {
   "attachments": {},
   "cell_type": "markdown",
   "metadata": {},
   "source": [
    "---"
   ]
  },
  {
   "attachments": {},
   "cell_type": "markdown",
   "metadata": {},
   "source": [
    "## Figures"
   ]
  },
  {
   "attachments": {},
   "cell_type": "markdown",
   "metadata": {},
   "source": [
    "* [W] Gibbs, Josiah\n",
    "* [W] Hamilton, William"
   ]
  },
  {
   "attachments": {},
   "cell_type": "markdown",
   "metadata": {},
   "source": [
    "---"
   ]
  },
  {
   "attachments": {},
   "cell_type": "markdown",
   "metadata": {},
   "source": [
    "## Resources"
   ]
  },
  {
   "attachments": {},
   "cell_type": "markdown",
   "metadata": {},
   "source": [
    "* Crowe, Michael J. _A History of Vector Analysis: The Evolution of the Idea of a Vectorial System_. Dover.\n",
    "* Morton, Jason. \"Linear Algebra\". <https://jasonmorton.github.io/LinearAlgebra/>.\n",
    "* https://github.com/engineersCode/EngComp4_landlinear"
   ]
  },
  {
   "attachments": {},
   "cell_type": "markdown",
   "metadata": {},
   "source": [
    "---"
   ]
  },
  {
   "attachments": {},
   "cell_type": "markdown",
   "metadata": {},
   "source": [
    "## Terms"
   ]
  },
  {
   "attachments": {},
   "cell_type": "markdown",
   "metadata": {},
   "source": [
    "* [W] Quaternion\n",
    "* [W] Vector\n",
    "* [[W](https://en.wikipedia.org/wiki/Vector_calculus)] Vector Calculus"
   ]
  },
  {
   "attachments": {},
   "cell_type": "markdown",
   "metadata": {},
   "source": [
    "---"
   ]
  },
  {
   "attachments": {},
   "cell_type": "markdown",
   "metadata": {},
   "source": [
    "## Bibliography"
   ]
  },
  {
   "attachments": {},
   "cell_type": "markdown",
   "metadata": {},
   "source": [
    "---"
   ]
  }
 ],
 "metadata": {
  "kernelspec": {
   "display_name": "jb",
   "language": "python",
   "name": "python3"
  },
  "language_info": {
   "codemirror_mode": {
    "name": "ipython",
    "version": 3
   },
   "file_extension": ".py",
   "mimetype": "text/x-python",
   "name": "python",
   "nbconvert_exporter": "python",
   "pygments_lexer": "ipython3",
   "version": "3.11.4"
  },
  "orig_nbformat": 4
 },
 "nbformat": 4,
 "nbformat_minor": 2
}
