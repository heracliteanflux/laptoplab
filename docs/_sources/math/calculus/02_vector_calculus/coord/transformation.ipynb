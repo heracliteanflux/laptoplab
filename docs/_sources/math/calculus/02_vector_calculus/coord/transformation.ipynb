{
 "cells": [
  {
   "attachments": {},
   "cell_type": "markdown",
   "metadata": {},
   "source": [
    "# Transformations"
   ]
  },
  {
   "attachments": {},
   "cell_type": "markdown",
   "metadata": {},
   "source": [
    "in $\\mathbb{R}^2$"
   ]
  },
  {
   "attachments": {},
   "cell_type": "markdown",
   "metadata": {},
   "source": [
    "---"
   ]
  },
  {
   "attachments": {},
   "cell_type": "markdown",
   "metadata": {},
   "source": [
    "```{admonition} Revised\n",
    "02 Apr 2023\n",
    "```\n",
    "```{contents}\n",
    "```"
   ]
  },
  {
   "attachments": {},
   "cell_type": "markdown",
   "metadata": {},
   "source": [
    "---"
   ]
  },
  {
   "attachments": {},
   "cell_type": "markdown",
   "metadata": {},
   "source": [
    "## Transformation"
   ]
  },
  {
   "attachments": {},
   "cell_type": "markdown",
   "metadata": {},
   "source": [
    "A transformation $T$ is just a parameterization for a region.\n",
    "\n",
    "A function $f$ on the region is also transformed.\n",
    "\n",
    "Given a region that is difficult to integrate, find a transformation $T$ to get a region that is easier to integrate and keep track of how transformation $T$ affects the size of the (infinitesimal) pixels in $\\mathbb{R}^2$, voxels in $\\mathbb{R}^3$, or, in general, gridboxes (i.e., keep track of the Jacobian!)."
   ]
  },
  {
   "attachments": {},
   "cell_type": "markdown",
   "metadata": {},
   "source": [
    "---"
   ]
  },
  {
   "attachments": {},
   "cell_type": "markdown",
   "metadata": {},
   "source": [
    "## Polar"
   ]
  },
  {
   "attachments": {},
   "cell_type": "markdown",
   "metadata": {},
   "source": [
    "---"
   ]
  },
  {
   "attachments": {},
   "cell_type": "markdown",
   "metadata": {},
   "source": [
    "## Cylindrical"
   ]
  },
  {
   "attachments": {},
   "cell_type": "markdown",
   "metadata": {},
   "source": [
    "---"
   ]
  },
  {
   "attachments": {},
   "cell_type": "markdown",
   "metadata": {},
   "source": [
    "## Spherical"
   ]
  },
  {
   "attachments": {},
   "cell_type": "markdown",
   "metadata": {},
   "source": [
    "---"
   ]
  },
  {
   "attachments": {},
   "cell_type": "markdown",
   "metadata": {},
   "source": [
    "## Affine Transformations"
   ]
  },
  {
   "attachments": {},
   "cell_type": "markdown",
   "metadata": {},
   "source": [
    "### Translation"
   ]
  },
  {
   "attachments": {},
   "cell_type": "markdown",
   "metadata": {},
   "source": [
    "#### $2\\times2$ Translation"
   ]
  },
  {
   "attachments": {},
   "cell_type": "markdown",
   "metadata": {},
   "source": [
    "$\n",
    "\\boxed{\n",
    "\\begin{aligned}\n",
    "T&:(u,v)\\mapsto(x,y)\n",
    "\\\\\n",
    "T^{-1}&:(x,y)\\mapsto(u,v)\n",
    "\\\\\n",
    "T(u,v)&=(u+2,v+2)\n",
    "\\\\\n",
    "&=(x(u,v),y(u,v))\n",
    "&&\\text{transformation}\n",
    "\\\\\n",
    "\\hline\n",
    "\\\\\n",
    "x(u,v)&=u+2\n",
    "\\\\\n",
    "y(u,v)&=v+2\n",
    "&&\\text{transformation equations}\n",
    "\\\\\n",
    "\\hline\n",
    "\\\\\n",
    "dx\\,dy&=du\\,dv\n",
    "&&\\text{Jacobian}\n",
    "\\end{aligned}\n",
    "}\n",
    "$"
   ]
  },
  {
   "attachments": {},
   "cell_type": "markdown",
   "metadata": {},
   "source": [
    "$\n",
    "\\begin{aligned}\n",
    "T_{\\begin{bmatrix}2\\\\2\\end{bmatrix}}\\left(\\begin{bmatrix}u\\\\ v\\\\1\\end{bmatrix}\\right)=\n",
    "\\begin{bmatrix}\n",
    "1 & 0 & 2\n",
    "\\\\\n",
    "0 & 1 & 2\n",
    "\\\\\n",
    "0 & 0 & 1\n",
    "\\end{bmatrix}\n",
    "\\begin{bmatrix}\n",
    "u\\\\ v\\\\1\n",
    "\\end{bmatrix}\n",
    "=\\begin{bmatrix}\n",
    "u+2\\\\v+2\\\\1\n",
    "\\end{bmatrix}\n",
    "=\\begin{bmatrix}x\\\\ y\\\\1\\end{bmatrix}\n",
    "\\end{aligned}\n",
    "$"
   ]
  },
  {
   "attachments": {},
   "cell_type": "markdown",
   "metadata": {},
   "source": [
    "##### Pythagorean Identity"
   ]
  },
  {
   "attachments": {},
   "cell_type": "markdown",
   "metadata": {},
   "source": [
    "```{admonition} Under Construction\n",
    ":class: danger\n",
    "$\n",
    "\\begin{aligned}\n",
    "x^2+y^2\n",
    "&=(u+2)^2+(v+2)^2\n",
    "\\\\\n",
    "&=u^2+4u+4+v^2+4v+4\n",
    "\\\\\n",
    "&=u^2+v^2+4(u+v+2)\n",
    "\\sqrt{x^2+y^2}\n",
    "\\\\\n",
    "&=\\sqrt{u^2+v^2+4(u+v+2)}\n",
    "\\end{aligned}\n",
    "$\n",
    "```"
   ]
  },
  {
   "attachments": {},
   "cell_type": "markdown",
   "metadata": {},
   "source": [
    "##### Jacobian"
   ]
  },
  {
   "cell_type": "markdown",
   "metadata": {},
   "source": [
    "$\n",
    "\\begin{aligned}\n",
    "\\frac{\\partial(x,y)}{\\partial(u,v)}\n",
    "=\\begin{vmatrix}\n",
    "\\dfrac{\\partial x}{\\partial u} & \\dfrac{\\partial x}{\\partial v}\n",
    "\\\\\\\\\n",
    "\\dfrac{\\partial y}{\\partial u} & \\dfrac{\\partial y}{\\partial v}\n",
    "\\end{vmatrix}\n",
    "=\\begin{vmatrix}\n",
    "1 & 0\n",
    "\\\\\n",
    "0 & 1\n",
    "\\end{vmatrix}\n",
    "=1\n",
    "\\end{aligned}\n",
    "$\n",
    "\n",
    "$dx\\,dy=du\\,dv$\n",
    "\n",
    "Translations don't distort pixels."
   ]
  },
  {
   "attachments": {},
   "cell_type": "markdown",
   "metadata": {},
   "source": [
    "##### Example"
   ]
  },
  {
   "attachments": {},
   "cell_type": "markdown",
   "metadata": {},
   "source": [
    "$\n",
    "\\begin{aligned}\n",
    "\\underset{R}{\\iint}(3x+2y)\\,dA\n",
    "\\,\\,\\,\\text{where}\\,\\,\\,\n",
    "R\n",
    "\\,\\,\\,\\text{is the region bounded by the triangle whose vertices are}\\,\\,\\,\n",
    "(2,1),(4,2),(2,3)\n",
    "\\end{aligned}\n",
    "$"
   ]
  },
  {
   "attachments": {},
   "cell_type": "markdown",
   "metadata": {},
   "source": [
    "Find the new bounds.\n",
    "\n",
    "$\n",
    "\\begin{aligned}\n",
    "v=1-\\frac{1}{2}u\n",
    "\\\\\n",
    "v=\\frac{1}{2}u-1\n",
    "\\end{aligned}\n",
    "$"
   ]
  },
  {
   "attachments": {},
   "cell_type": "markdown",
   "metadata": {},
   "source": [
    "$\n",
    "\\begin{aligned}\n",
    "\\underset{R}{\\iint}(3x+2y)\\,dx\\,dy\n",
    "&=\\underset{R}{\\iint}3(u+2)+2(v+2)\\,du\\,dv\n",
    "=\\underset{R}{\\iint}3u+2v+10\\,du\\,dv\n",
    "\\\\\n",
    "&=\\int_{u=0}^{u=2}\\int_{v=\\frac{1}{2}u-1}^{v=1-\\frac{1}{2}u}3u+2v+10\\,dv\\,du\n",
    "\\end{aligned}\n",
    "$"
   ]
  },
  {
   "attachments": {},
   "cell_type": "markdown",
   "metadata": {},
   "source": [
    "---"
   ]
  },
  {
   "attachments": {},
   "cell_type": "markdown",
   "metadata": {},
   "source": [
    "## Linear Transformations"
   ]
  },
  {
   "attachments": {},
   "cell_type": "markdown",
   "metadata": {},
   "source": [
    "### Shear"
   ]
  },
  {
   "attachments": {},
   "cell_type": "markdown",
   "metadata": {},
   "source": [
    "### Squeeze (Hyperbolic Rotation)"
   ]
  },
  {
   "attachments": {},
   "cell_type": "markdown",
   "metadata": {},
   "source": [
    "$\n",
    "\\begin{aligned}\n",
    "T\\left(\\begin{bmatrix}u\\\\ v\\end{bmatrix}\\right)=\n",
    "\\begin{bmatrix}\n",
    "k & 0\n",
    "\\\\\n",
    "0 & \\frac{1}{k}\n",
    "\\end{bmatrix}\n",
    "\\begin{bmatrix}u\\\\ v\\end{bmatrix}\n",
    "=\\begin{bmatrix}ku\\\\ \\frac{1}{k}v\\end{bmatrix}\n",
    "\\end{aligned}\n",
    "$"
   ]
  },
  {
   "attachments": {},
   "cell_type": "markdown",
   "metadata": {},
   "source": [
    "$\n",
    "\\begin{aligned}\n",
    "T(\\mathbf{u})=\\mathbf{Au=x}\n",
    "\\end{aligned}\n",
    "$"
   ]
  },
  {
   "attachments": {},
   "cell_type": "markdown",
   "metadata": {},
   "source": [
    "### Stretch by a factor $k$ along the $x$-axis"
   ]
  },
  {
   "attachments": {},
   "cell_type": "markdown",
   "metadata": {},
   "source": [
    "$\n",
    "\\begin{aligned}\n",
    "T\\left(\\begin{bmatrix}u\\\\ v\\end{bmatrix}\\right)=\n",
    "\\begin{bmatrix}\n",
    "k & 0\n",
    "\\\\\n",
    "0 & 1\n",
    "\\end{bmatrix}\n",
    "\\begin{bmatrix}u\\\\ v\\end{bmatrix}\n",
    "=\\begin{bmatrix}ku\\\\ v\\end{bmatrix}\n",
    "\\end{aligned}\n",
    "$"
   ]
  },
  {
   "attachments": {},
   "cell_type": "markdown",
   "metadata": {},
   "source": [
    "### Stretch by a factor $k$ along the $y$-axis"
   ]
  },
  {
   "attachments": {},
   "cell_type": "markdown",
   "metadata": {},
   "source": [
    "$\n",
    "\\begin{aligned}\n",
    "T\\left(\\begin{bmatrix}u\\\\ v\\end{bmatrix}\\right)=\n",
    "\\begin{bmatrix}\n",
    "1 & 0\n",
    "\\\\\n",
    "0 & k\n",
    "\\end{bmatrix}\n",
    "\\begin{bmatrix}u\\\\ v\\end{bmatrix}\n",
    "=\\begin{bmatrix}u\\\\ kv\\end{bmatrix}\n",
    "\\end{aligned}\n",
    "$"
   ]
  },
  {
   "attachments": {},
   "cell_type": "markdown",
   "metadata": {},
   "source": [
    "### Stretch by a factor $k_1$ along the $x$-axis and a factor $k_2$ along the $y$-axis"
   ]
  },
  {
   "attachments": {},
   "cell_type": "markdown",
   "metadata": {},
   "source": [
    "$\n",
    "\\begin{aligned}\n",
    "T\\left(\\begin{bmatrix}u\\\\ v\\end{bmatrix}\\right)=\n",
    "\\begin{bmatrix}\n",
    "k_1 & 0\n",
    "\\\\\n",
    "0 & 1\n",
    "\\end{bmatrix}\n",
    "\\begin{bmatrix}\n",
    "1 & 0\n",
    "\\\\\n",
    "0 & k_2\n",
    "\\end{bmatrix}\n",
    "\\begin{bmatrix}u\\\\ v\\end{bmatrix}\n",
    "=\\begin{bmatrix}\n",
    "k_1 & 0\n",
    "\\\\\n",
    "0 & k_2\n",
    "\\end{bmatrix}\n",
    "\\begin{bmatrix}u\\\\ v\\end{bmatrix}\n",
    "=\\begin{bmatrix}k_1u\\\\ k_2v\\end{bmatrix}\n",
    "\\end{aligned}\n",
    "$"
   ]
  },
  {
   "attachments": {},
   "cell_type": "markdown",
   "metadata": {},
   "source": [
    "### Rotation"
   ]
  },
  {
   "attachments": {},
   "cell_type": "markdown",
   "metadata": {},
   "source": [
    "---"
   ]
  },
  {
   "attachments": {},
   "cell_type": "markdown",
   "metadata": {},
   "source": [
    "## Terms"
   ]
  },
  {
   "attachments": {},
   "cell_type": "markdown",
   "metadata": {},
   "source": [
    "* [[W](https://en.wikipedia.org/wiki/Affine_transformation)] Affine Transformation\n",
    "* [[W](https://en.wikipedia.org/wiki/Geometric_transformation)] Geometric Transformation\n",
    "* [[W](https://en.wikipedia.org/wiki/Linear_map)] Linear Transformation\n",
    "* [[W](https://en.wikipedia.org/wiki/Reflection_(mathematics))] Reflection\n",
    "* [[W](https://en.wikipedia.org/wiki/Rotation_(mathematics))] Rotation\n",
    "* [[W](https://en.wikipedia.org/wiki/Scaling_(geometry))] Scaling\n",
    "* [[W](https://en.wikipedia.org/wiki/Shear_mapping)] Shearing\n",
    "* [[W](https://en.wikipedia.org/wiki/Squeeze_mapping)] Squeezing\n",
    "* [W] Transformation\n",
    "* [[W](https://en.wikipedia.org/wiki/Translation_(geometry))] Translation"
   ]
  },
  {
   "attachments": {},
   "cell_type": "markdown",
   "metadata": {},
   "source": [
    "---"
   ]
  }
 ],
 "metadata": {
  "language_info": {
   "name": "python"
  },
  "orig_nbformat": 4
 },
 "nbformat": 4,
 "nbformat_minor": 2
}
