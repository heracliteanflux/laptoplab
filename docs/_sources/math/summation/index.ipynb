{
 "cells": [
  {
   "cell_type": "markdown",
   "metadata": {},
   "source": [
    "# Summations"
   ]
  },
  {
   "cell_type": "markdown",
   "metadata": {},
   "source": [
    "---"
   ]
  },
  {
   "cell_type": "markdown",
   "metadata": {},
   "source": [
    "## Table of Contents\n",
    "```{contents}\n",
    "```"
   ]
  },
  {
   "cell_type": "markdown",
   "metadata": {},
   "source": [
    "---"
   ]
  },
  {
   "cell_type": "markdown",
   "metadata": {},
   "source": [
    "## Finite Sum"
   ]
  },
  {
   "cell_type": "markdown",
   "metadata": {},
   "source": [
    "Given a sequence $a_1, a_2, \\dotsc, a_n$ of numbers where $n$ is a nonnegative integer the finite sum $a_1 + a_2 + \\dotsb + a_n$ can be expressed as\n",
    "\n",
    "$\\begin{aligned} \\sum_{k = 1}^n a_k \\end{aligned}$\n",
    "\n",
    "If $n = 0$ then the summation is defined to be $0$. The value of a finite series is always well-defined and the order in which its terms are added does not matter."
   ]
  },
  {
   "cell_type": "markdown",
   "metadata": {},
   "source": [
    "## Infinite Sum"
   ]
  },
  {
   "cell_type": "markdown",
   "metadata": {},
   "source": [
    "Given an infinite sequence $a_1, a_2, \\dotsc$ of numbers the infinite sum $a_1 + a_2 + \\dotsb$ can be expressed as\n",
    "\n",
    "$\\begin{aligned} \\sum_{k = 1}^\\infty a_k = \\lim_{n \\to \\infty} \\sum_{k = 1}^n a_k \\end{aligned}$\n",
    "\n",
    "If the limit does not exist then the series diverges; otherwise, it converges. The terms of a convergent series cannot always be added in any order. However, the terms of an absolutely convergent series can be rearranged. (An absolutely convergent series $\\sum_{k = 1}^\\infty a_k$ is a series for which the series $\\sum_{k = 1}^\\infty |a_k|$ also converges.)"
   ]
  },
  {
   "cell_type": "markdown",
   "metadata": {},
   "source": [
    "## Linearity"
   ]
  },
  {
   "cell_type": "markdown",
   "metadata": {},
   "source": [
    "For any real number $c$ and any finite sequences $a_1, a_2, \\dotsc, a_n$ and $b_1, b_2, \\dotsc, b_n$\n",
    "\n",
    "$\\begin{aligned} \\sum_{k = 1}^n (c a_k + b_k) = c \\sum_{k = 1}^n a_k + \\sum_{k = 1}^n b_k \\end{aligned}$\n",
    "\n",
    "$\\begin{aligned} \\sum_{k = 1}^n \\Theta(f(k)) = \\Theta \\left( \\sum_{k = 1}^n f(k) \\right) \\end{aligned}$\n",
    "\n",
    "In this latter equation, the $\\Theta$-notation on the left-hand side applies to the variable $k$ but on the right-hand side it applies to the variable $n$.\n",
    "\n",
    "These linearity properties also holds for infinite convergent series."
   ]
  },
  {
   "cell_type": "markdown",
   "metadata": {},
   "source": [
    "## Arithmetic Series"
   ]
  },
  {
   "cell_type": "markdown",
   "metadata": {},
   "source": [
    "The summation\n",
    "\n",
    "$\\begin{aligned} \\sum_{k = 1}^n k = 1 + 2 + \\dotsb + n \\end{aligned}$\n",
    "\n",
    "is an arithmetic series and has the value\n",
    "\n",
    "$\\begin{aligned} \\sum_{k = 1}^n k = \\frac{n(n + 1)}{2} = \\Theta(n^2) \\end{aligned}$"
   ]
  },
  {
   "cell_type": "markdown",
   "metadata": {},
   "source": [
    "A general arithmetic series includes an additive constant $a \\ge 0$ and a constant coefficient $b \\gt 0$ in each term, but has the same total asymptotically.\n",
    "\n",
    "$\\begin{aligned} \\sum_{k = 1}^n (a + bk) = \\Theta(n^2) \\end{aligned}$"
   ]
  },
  {
   "cell_type": "markdown",
   "metadata": {},
   "source": [
    "## Sum of Squares"
   ]
  },
  {
   "cell_type": "markdown",
   "metadata": {},
   "source": [
    "$\\begin{aligned} \\sum_{k = 0}^n k^2 = \\frac{n(n + 1)(2n + 1)}{6} \\end{aligned}$"
   ]
  },
  {
   "cell_type": "markdown",
   "metadata": {},
   "source": [
    "## Sum of Cubes"
   ]
  },
  {
   "cell_type": "markdown",
   "metadata": {},
   "source": [
    "$\\begin{aligned} \\sum_{k = 0}^n k^3 = \\frac{n^2 (n + 1)^2}{4} \\end{aligned}$"
   ]
  },
  {
   "cell_type": "markdown",
   "metadata": {},
   "source": [
    "## Geometric Series"
   ]
  },
  {
   "cell_type": "markdown",
   "metadata": {},
   "source": [
    "For real $x \\ne 1$ the summation\n",
    "\n",
    "$\\begin{aligned} \\sum_{k = 0}^n x^k = 1 + x + x^2 + \\dotsb + x^n \\end{aligned}$\n",
    "\n",
    "is a geometric series and has the value\n",
    "\n",
    "$\\begin{aligned} \\sum_{k = 0}^n x^k = \\frac{x^{n + 1} - 1}{x - 1} \\end{aligned}$"
   ]
  },
  {
   "cell_type": "markdown",
   "metadata": {},
   "source": [
    "The infinite decreasing geometric series occurs when the summation is infinite and $|x| \\lt 1$\n",
    "\n",
    "$\\begin{aligned} \\sum_{k = 0}^\\infty x^k = \\frac{1}{1 - x} \\end{aligned}$\n",
    "\n",
    "If we assume that $0^0 = 1$ these formulas apply even when $x = 0$."
   ]
  },
  {
   "cell_type": "markdown",
   "metadata": {},
   "source": [
    "Integrating and differentiating formulas yield additional formulas. For example, differentiate the infinite decreasing geometric series and then multiply it by $x$.\n",
    "\n",
    "$\n",
    "\\begin{aligned}\n",
    "x \\cdot \\frac{d}{dx} \\left( \\sum_{k = 0}^\\infty x^k \\right) &= x \\cdot \\frac{d}{dx} \\left( \\frac{1}{1 - x} \\right) \\\\\n",
    "\\sum_{k = 0}^\\infty x \\cdot \\frac{d}{dx} (x^k) &= x \\cdot \\frac{d}{dx} \\left( \\frac{1}{1 - x} \\right)  \\\\\n",
    "\\sum_{k = 0}^\\infty kx^k &= \\frac{x}{(1 - x)^2} \\\\\n",
    "\\end  {aligned}\n",
    "$\n",
    "\n",
    "And so we also have\n",
    "\n",
    "$\\begin{aligned} \\sum_{k = 0}^\\infty kx^k = \\frac{x}{(1 - x)^2} \\end{aligned}$\n",
    "\n",
    "for $|x| \\lt 1$."
   ]
  },
  {
   "cell_type": "markdown",
   "metadata": {},
   "source": [
    "## Harmonic Series"
   ]
  },
  {
   "cell_type": "markdown",
   "metadata": {},
   "source": [
    "For positive integers $n$ the $n$-th harmonic number is\n",
    "\n",
    "$\\begin{aligned} H_n = 1 + \\frac{1}{2} + \\frac{1}{3} + \\dotsb + \\frac{1}{n} = \\sum_{k = 1}^n \\frac{1}{k} = \\ln n + O(1) \\end{aligned}$"
   ]
  },
  {
   "cell_type": "markdown",
   "metadata": {},
   "source": [
    "$\\ln (n + 1) \\le H_n \\le \\ln n + 1$"
   ]
  },
  {
   "cell_type": "markdown",
   "metadata": {},
   "source": [
    "## Telescoping Series"
   ]
  },
  {
   "cell_type": "markdown",
   "metadata": {},
   "source": [
    "For any sequence $a_0, a_1, \\dotsc, a_n$\n",
    "\n",
    "$\\begin{aligned} \\sum_{k = 1}^n (a_k - a_{k - 1}) = a_n - a_0 \\end{aligned}$\n",
    "\n",
    "since each of the terms $a_1, a_2, \\dotsc, a_{n - 1}$ is added in exactly once and substracted out exactly once. We say that the sum telescopes.\n",
    "\n",
    "Similarly\n",
    "\n",
    "$\\begin{aligned} \\sum_{k = 0}^{n - 1} (a_k - a_{k + 1}) = a_0 - a_n \\end{aligned}$"
   ]
  },
  {
   "cell_type": "markdown",
   "metadata": {},
   "source": [
    "EXAMPLE\n",
    "\n",
    "$\n",
    "\\begin{aligned}\n",
    "\\sum_{k = 1}^{n - 1} \\frac{1}{k(k + 1)} = \\sum_{k = 1}^{n - 1} \\left( \\frac{1}{k} - \\frac{1}{k + 1} \\right) = 1 - \\frac{1}{n}\n",
    "\\end  {aligned}\n",
    "$"
   ]
  },
  {
   "cell_type": "markdown",
   "metadata": {},
   "source": [
    "---"
   ]
  }
 ],
 "metadata": {
  "language_info": {
   "name": "python"
  }
 },
 "nbformat": 4,
 "nbformat_minor": 2
}
