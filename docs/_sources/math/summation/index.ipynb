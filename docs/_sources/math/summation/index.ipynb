{
 "cells": [
  {
   "cell_type": "markdown",
   "metadata": {},
   "source": [
    "# Summations and sigma notation"
   ]
  },
  {
   "cell_type": "markdown",
   "metadata": {},
   "source": [
    "---"
   ]
  },
  {
   "cell_type": "markdown",
   "metadata": {},
   "source": [
    "## Table of Contents\n",
    "```{contents}\n",
    "```"
   ]
  },
  {
   "cell_type": "markdown",
   "metadata": {},
   "source": [
    "---"
   ]
  },
  {
   "cell_type": "markdown",
   "metadata": {},
   "source": [
    "## Finite Sum"
   ]
  },
  {
   "cell_type": "markdown",
   "metadata": {},
   "source": [
    "Given a sequence $a_1, a_2, \\dotsc, a_n$ of numbers where $n$ is a nonnegative integer the finite sum $a_1 + a_2 + \\dotsb + a_n$ can be expressed as\n",
    "\n",
    "$\\begin{aligned} \\sum_{k = 1}^n a_k \\end{aligned}$\n",
    "\n",
    "If $n = 0$ then the summation is defined to be $0$. The value of a finite series is always well-defined and the order in which its terms are added does not matter."
   ]
  },
  {
   "cell_type": "markdown",
   "metadata": {},
   "source": [
    "## Infinite Sum"
   ]
  },
  {
   "cell_type": "markdown",
   "metadata": {},
   "source": [
    "Given an infinite sequence $a_1, a_2, \\dotsc$ of numbers the infinite sum $a_1 + a_2 + \\dotsb$ can be expressed as\n",
    "\n",
    "$\\begin{aligned} \\sum_{k = 1}^\\infty a_k = \\lim_{n \\to \\infty} \\sum_{k = 1}^n a_k \\end{aligned}$\n",
    "\n",
    "If the limit does not exist then the series diverges; otherwise, it converges. The terms of a convergent series cannot always be added in any order. However, the terms of an absolutely convergent series can be rearranged. (An absolutely convergent series $\\sum_{k = 1}^\\infty a_k$ is a series for which the series $\\sum_{k = 1}^\\infty |a_k|$ also converges.)"
   ]
  },
  {
   "cell_type": "markdown",
   "metadata": {},
   "source": [
    "## Linearity"
   ]
  },
  {
   "cell_type": "markdown",
   "metadata": {},
   "source": [
    "For any real number $c$ and any finite sequences $a_1, a_2, \\dotsc, a_n$ and $b_1, b_2, \\dotsc, b_n$\n",
    "\n",
    "$\\begin{aligned} \\sum_{k = 1}^n (c a_k + b_k) = c \\sum_{k = 1}^n a_k + \\sum_{k = 1}^n b_k \\end{aligned}$\n",
    "\n",
    "$\\begin{aligned} \\sum_{k = 1}^n \\Theta(f(k)) = \\Theta \\left( \\sum_{k = 1}^n f(k) \\right) \\end{aligned}$\n",
    "\n",
    "In this latter equation, the $\\Theta$-notation on the left-hand side applies to the variable $k$ but on the right-hand side it applies to the variable $n$.\n",
    "\n",
    "These linearity properties also holds for infinite convergent series."
   ]
  },
  {
   "cell_type": "markdown",
   "metadata": {},
   "source": [
    "## Arithmetic Series"
   ]
  },
  {
   "cell_type": "markdown",
   "metadata": {},
   "source": [
    "The summation\n",
    "\n",
    "$\\begin{aligned} \\sum_{k = 1}^n k = 1 + 2 + \\dotsb + n \\end{aligned}$\n",
    "\n",
    "is an arithmetic series and has the value\n",
    "\n",
    "$\\begin{aligned} \\sum_{k = 1}^n k = \\frac{n(n + 1)}{2} = \\Theta(n^2) \\end{aligned}$"
   ]
  },
  {
   "cell_type": "markdown",
   "metadata": {},
   "source": [
    "Gauss' Proof\n",
    "\n",
    "$\n",
    "\\begin{aligned}\n",
    " S &= 1 && + && 2 && + && \\dotsb && + && n - 1 && + && n \\\\\n",
    " S &= n && + && n - 1 && + && \\dotsb && + && 2 && + && 1 \\\\\n",
    "2S &= (n + 1) && + && (n + 1) && + && \\dotsb && + && (n + 1) && + && (n + 1) \\\\\n",
    "   &= n(n + 1) \\\\\n",
    " S &= \\frac{n(n + 1)}{2}\n",
    "\\end  {aligned}\n",
    "$\n",
    "\n",
    "$\\blacksquare$"
   ]
  },
  {
   "cell_type": "markdown",
   "metadata": {},
   "source": [
    "Proof by Mathematical Induction\n",
    "\n",
    "$n = 1 \\implies \\sum_{k = 1}^1 k = 1 = \\frac{1 \\times (1 + 1)}{2}$\n",
    "\n",
    "Assume that $\\sum_{k = 1}^n k = \\frac{n(n + 1)}{2}$ up to $n$ and show that it also holds for $n + 1$.\n",
    "\n",
    "$\n",
    "\\begin{aligned}\n",
    "\\sum_{k = 1}^{n + 1} k\n",
    "= \\left( \\sum_{k = 1}^n k \\right) + n + 1\n",
    "= \\frac{n(n + 1)}{2} + n + 1\n",
    "= \\frac{n(n + 1) + 2(n + 1)}{2}\n",
    "= \\frac{(n + 1)((n + 1) + 1)}{2}\n",
    "\\end  {aligned}\n",
    "$\n",
    "\n",
    "$\\blacksquare$"
   ]
  },
  {
   "cell_type": "markdown",
   "metadata": {},
   "source": [
    "A general arithmetic series includes an additive constant $a \\ge 0$ and a constant coefficient $b \\gt 0$ in each term, but has the same total asymptotically.\n",
    "\n",
    "$\\begin{aligned} \\sum_{k = 1}^n (a + bk) = \\Theta(n^2) \\end{aligned}$"
   ]
  },
  {
   "cell_type": "markdown",
   "metadata": {},
   "source": [
    "## Sum of Squares"
   ]
  },
  {
   "cell_type": "markdown",
   "metadata": {},
   "source": [
    "$\\begin{aligned} \\sum_{k = 0}^n k^2 = \\frac{n(n + 1)(2n + 1)}{6} \\end{aligned}$"
   ]
  },
  {
   "cell_type": "markdown",
   "metadata": {},
   "source": [
    "On the one hand, the telescoping series\n",
    "\n",
    "$\n",
    "\\begin{aligned}\n",
    "\\sum_{k = 1}^n (k + 1)^3 - k^3\n",
    "= (n + 1)^3 - 1\n",
    "= n^3 + 3n^2 + 3n\n",
    "\\end  {aligned}\n",
    "$\n",
    "\n",
    "On the other hand,\n",
    "\n",
    "$\n",
    "\\begin{aligned}\n",
    "\\sum_{k = 1}^n (k + 1)^3 - k^3\n",
    "&= \\sum_{k = 1}^n (k + 1)(k^2 + 2k + 1) - k^3\n",
    "= \\sum_{k = 1}^n 3k^2 + 3k + 1 \\\\\n",
    "&= 3 \\sum_{k = 1}^n k^2 + 3 \\sum_{k = 1}^n k + \\sum_{k = 1}^n 1 \\\\\n",
    "&= 3 \\sum_{k = 1}^n k^2 + 3 \\times \\frac{n(n + 1)}{2} + n \\\\\n",
    "&= 3S + \\frac{3}{2} n^2 + \\frac{3}{2} n + n \\\\\n",
    "&= 3S + \\frac{3}{2} n^2 + \\frac{5}{2} n \\\\\n",
    "\\end  {aligned}\n",
    "$\n",
    "\n",
    "And so\n",
    "\n",
    "$\n",
    "\\begin{aligned}\n",
    "3S + \\frac{3}{2} n^2 + \\frac{5}{2} n &= n^3 + 3n^2 + 3n \\\\\n",
    "3S &= n^3 + \\frac{3}{2} n^2 + \\frac{1}{2} n \\\\\n",
    "3S &= \\frac{2n^3 + 3n^2 + n}{2} \\\\\n",
    " S &= \\frac{n(n + 1)(2n + 1)}{6} \\\\\n",
    "\\end  {aligned}\n",
    "$"
   ]
  },
  {
   "cell_type": "markdown",
   "metadata": {},
   "source": [
    "## Sum of Cubes"
   ]
  },
  {
   "cell_type": "markdown",
   "metadata": {},
   "source": [
    "$\\begin{aligned} \\sum_{k = 0}^n k^3 = \\left( \\frac{n(n + 1)}{2} \\right)^2 = \\frac{n^2 (n + 1)^2}{4} \\end{aligned}$"
   ]
  },
  {
   "cell_type": "markdown",
   "metadata": {},
   "source": [
    "## Geometric Series"
   ]
  },
  {
   "cell_type": "markdown",
   "metadata": {},
   "source": [
    "For real $x \\ne 1$ the summation\n",
    "\n",
    "$\\begin{aligned} \\sum_{k = 0}^n x^k = 1 + x + x^2 + \\dotsb + x^n \\end{aligned}$\n",
    "\n",
    "is a geometric series and has the value\n",
    "\n",
    "$\\begin{aligned} \\sum_{k = 0}^n x^k = \\frac{x^{n + 1} - 1}{x - 1} \\end{aligned}$"
   ]
  },
  {
   "cell_type": "markdown",
   "metadata": {},
   "source": [
    "The infinite decreasing geometric series occurs when the summation is infinite and $|x| \\lt 1$\n",
    "\n",
    "$\\begin{aligned} \\sum_{k = 0}^\\infty x^k = \\frac{1}{1 - x} \\end{aligned}$\n",
    "\n",
    "If we assume that $0^0 = 1$ these formulas apply even when $x = 0$."
   ]
  },
  {
   "cell_type": "markdown",
   "metadata": {},
   "source": [
    "Integrating and differentiating formulas yield additional formulas. For example, differentiate the infinite decreasing geometric series and then multiply it by $x$.\n",
    "\n",
    "$\n",
    "\\begin{aligned}\n",
    "x \\cdot \\frac{d}{dx} \\left( \\sum_{k = 0}^\\infty x^k \\right) &= x \\cdot \\frac{d}{dx} \\left( \\frac{1}{1 - x} \\right) \\\\\n",
    "\\sum_{k = 0}^\\infty x \\cdot \\frac{d}{dx} (x^k) &= x \\cdot \\frac{d}{dx} \\left( \\frac{1}{1 - x} \\right)  \\\\\n",
    "\\sum_{k = 0}^\\infty kx^k &= \\frac{x}{(1 - x)^2} \\\\\n",
    "\\end  {aligned}\n",
    "$\n",
    "\n",
    "And so we also have\n",
    "\n",
    "$\\begin{aligned} \\sum_{k = 0}^\\infty kx^k = \\frac{x}{(1 - x)^2} \\end{aligned}$\n",
    "\n",
    "for $|x| \\lt 1$."
   ]
  },
  {
   "cell_type": "markdown",
   "metadata": {},
   "source": [
    "## Harmonic Series"
   ]
  },
  {
   "cell_type": "markdown",
   "metadata": {},
   "source": [
    "For positive integers $n$ the $n$-th harmonic number is\n",
    "\n",
    "$\\begin{aligned} H_n = 1 + \\frac{1}{2} + \\frac{1}{3} + \\dotsb + \\frac{1}{n} = \\sum_{k = 1}^n \\frac{1}{k} = \\ln n + O(1) \\end{aligned}$"
   ]
  },
  {
   "cell_type": "markdown",
   "metadata": {},
   "source": [
    "$\\ln (n + 1) \\le H_n \\le \\ln n + 1$"
   ]
  },
  {
   "cell_type": "markdown",
   "metadata": {},
   "source": [
    "## Telescoping Series"
   ]
  },
  {
   "cell_type": "markdown",
   "metadata": {},
   "source": [
    "For any sequence $a_0, a_1, \\dotsc, a_n$\n",
    "\n",
    "$\\begin{aligned} \\sum_{k = 1}^n (a_k - a_{k - 1}) = a_n - a_0 \\end{aligned}$\n",
    "\n",
    "since each of the terms $a_1, a_2, \\dotsc, a_{n - 1}$ is added in exactly once and substracted out exactly once. We say that the sum telescopes.\n",
    "\n",
    "Similarly\n",
    "\n",
    "$\\begin{aligned} \\sum_{k = 0}^{n - 1} (a_k - a_{k + 1}) = a_0 - a_n \\end{aligned}$"
   ]
  },
  {
   "cell_type": "markdown",
   "metadata": {},
   "source": [
    "EXAMPLE\n",
    "\n",
    "$\n",
    "\\begin{aligned}\n",
    "\\sum_{k = 1}^{n - 1} \\frac{1}{k(k + 1)} = \\sum_{k = 1}^{n - 1} \\left( \\frac{1}{k} - \\frac{1}{k + 1} \\right) = 1 - \\frac{1}{n}\n",
    "\\end  {aligned}\n",
    "$"
   ]
  },
  {
   "cell_type": "markdown",
   "metadata": {},
   "source": [
    "## Re-indexing summations"
   ]
  },
  {
   "cell_type": "markdown",
   "metadata": {},
   "source": [
    "A series can sometimes be simplified by changing its index, often reversing the order of summation. Generally, if the summation index appears in the body of the sum with a minus sign, it's worth thinking about re-indexing."
   ]
  },
  {
   "cell_type": "markdown",
   "metadata": {},
   "source": [
    "EXAMPLE\n",
    "\n",
    "$\n",
    "\\begin{aligned}\n",
    "\\sum_{k = 0}^n a_{n - k}\n",
    "= a_n + a_{n - 1} + \\dotsb + a_1 + a_0\n",
    "= a_0 + a_1 + \\dotsb + a_{n - 1} + a_n\n",
    "= \\sum_{j = 0}^n a_j\n",
    "&& \\text{where}\\,\\,\\, j = n - k\n",
    "\\end  {aligned}\n",
    "$"
   ]
  },
  {
   "cell_type": "markdown",
   "metadata": {},
   "source": [
    "EXAMPLE\n",
    "\n",
    "$\n",
    "\\begin{aligned}\n",
    "\\sum_{k = 1}^n \\frac{1}{n - k + 1}\n",
    "= \\frac{1}{n} + \\frac{1}{n - 1} + \\dotsb + \\frac{1}{2} + 1\n",
    "= 1 + \\frac{1}{2} + \\dotsb + \\frac{1}{n - 1} + \\frac{1}{n}\n",
    "= \\sum_{j = 1}^n \\frac{1}{j}\n",
    "&& \\text{where}\\,\\,\\, j = n - k + 1\n",
    "\\end  {aligned}\n",
    "$"
   ]
  },
  {
   "cell_type": "markdown",
   "metadata": {},
   "source": [
    "## Products"
   ]
  },
  {
   "cell_type": "markdown",
   "metadata": {},
   "source": [
    "The finite product $a_1 a_2 \\dotsm a_n$ can be expressed as\n",
    "\n",
    "$\\begin{aligned} \\prod_{k = 1}^n a_k \\end{aligned}$\n",
    "\n",
    "If $n = 0$ then the product is defined to be $1$."
   ]
  },
  {
   "cell_type": "markdown",
   "metadata": {},
   "source": [
    "## Converting between summations and products"
   ]
  },
  {
   "cell_type": "markdown",
   "metadata": {},
   "source": [
    "$\n",
    "\\begin{aligned}\n",
    "\\lg \\left( \\prod_{k = 1}^n a_k \\right) = \\sum_{k = 1}^n \\lg a_k\n",
    "\\end  {aligned}\n",
    "$"
   ]
  },
  {
   "cell_type": "markdown",
   "metadata": {},
   "source": [
    "---"
   ]
  },
  {
   "cell_type": "markdown",
   "metadata": {},
   "source": [
    "## Summations and asymptotic analysis"
   ]
  },
  {
   "cell_type": "markdown",
   "metadata": {},
   "source": [
    "Mathematical induction can be used to prove an upper or lower bound on a summation."
   ]
  },
  {
   "cell_type": "markdown",
   "metadata": {},
   "source": [
    "EXAMPLE\n",
    "\n",
    "Prove the asymptotic upper bound $\\sum_{k = 0}^n 3^k = O(3^n)$. In other words, prove $\\sum_{k = 0}^n 3^k \\le c3^n$ for some constant $c$ for all sufficiently large $n$.\n",
    "\n",
    "Proof by Mathematical Induction\n",
    "\n",
    "Basis: show that the bound holds for $n = 0$.\n",
    "\n",
    "$n = 0 \\implies \\sum_{k = 0}^0 3^k = 1 \\le c \\cdot 1$ as long as $c \\ge 1$.\n",
    "\n",
    "Assume that the bound holds for $n$ and show that it also holds for $n + 1$.\n",
    "\n",
    "$\n",
    "\\begin{aligned}\n",
    "\\sum_{k = 0}^{n + 1} 3^k\n",
    "= \\left( \\sum_{k = 0}^n 3^k \\right) + 3^{n + 1}\n",
    "\\le c3^n + 3^{n + 1}\n",
    "= \\left( \\frac{1}{3} + \\frac{1}{c} \\right) c3^{n + 1}\n",
    "\\le c3^{n + 1}\n",
    "\\end  {aligned}\n",
    "$\n",
    "\n",
    "as long as $\\frac{1}{3} + \\frac{1}{c} \\le 1 \\iff \\frac{1}{c} \\le \\frac{2}{3} \\iff c \\ge \\frac{3}{2}$\n",
    "\n",
    "$\\blacksquare$"
   ]
  },
  {
   "cell_type": "markdown",
   "metadata": {},
   "source": [
    "EXAMPLE\n",
    "\n",
    "Prove the asymptotic upper bound $\\sum_{k = 1}^n k = O(n^2)$. In other words, prove $\\sum_{k = 1}^n k \\le cn^2$ for some constant $c$ for all sufficiently large $n$.\n",
    "\n",
    "Basis: show that the bound holds for $n = 1$.\n",
    "\n",
    "$n = 1 \\implies \\sum_{k = 1}^1 k = 1 \\le c \\cdot 1^2$ as long as $c \\ge 1$.\n",
    "\n",
    "Inductive step: assume that the bound holds for $n$ and show that it also holds for $n + 1$.\n",
    "\n",
    "$\n",
    "\\begin{aligned}\n",
    "\\sum_{k = 1}^{n + 1} k\n",
    "= \\left( \\sum_{k = 1}^n k \\right) + n + 1\n",
    "\\le cn^2 + n + 1\n",
    "\\le cn^2 + n + 1 + ((c - 1)n + c(n + 1) - 1)\n",
    "= c(n + 1)^2\n",
    "\\end  {aligned}\n",
    "$"
   ]
  },
  {
   "cell_type": "markdown",
   "metadata": {},
   "source": [
    "$\n",
    "\\begin{aligned}\n",
    "cn^2 + n + 1 + ((c - 1)n + c(n + 1) - 1)\n",
    "&= cn^2 + n + 1 + (cn - n + cn + c - 1) \\\\\n",
    "&= cn^2 + n + 1 + 2cn - n + c - 1 \\\\\n",
    "&= cn^2 + 2cn  + c \\\\\n",
    "&= c(n^2 + 2n + 1) \\\\\n",
    "&= c(n + 1)^2 \\\\\n",
    "\\end  {aligned}\n",
    "$"
   ]
  },
  {
   "cell_type": "markdown",
   "metadata": {},
   "source": [
    "---"
   ]
  },
  {
   "cell_type": "markdown",
   "metadata": {},
   "source": [
    "## Acknowledgments"
   ]
  },
  {
   "cell_type": "markdown",
   "metadata": {},
   "source": [
    "`2022` Cormen, Leiserson, Rivest, & Stein. _Introduction to Algorithms_. 4e. [MIT Press](https://mitpress.mit.edu/9780262046305/introduction-to-algorithms/).\n",
    "\n",
    "[ [h](https://stewartcalculus.com/) ] `2020` Stewart, James. _Calculus_. 9e. Cengage."
   ]
  },
  {
   "cell_type": "markdown",
   "metadata": {},
   "source": [
    "---"
   ]
  }
 ],
 "metadata": {
  "language_info": {
   "name": "python"
  }
 },
 "nbformat": 4,
 "nbformat_minor": 2
}
