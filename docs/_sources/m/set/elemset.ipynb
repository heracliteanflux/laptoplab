{
 "cells": [
  {
   "attachments": {},
   "cell_type": "markdown",
   "metadata": {},
   "source": [
    "# Elementary Set Theory"
   ]
  },
  {
   "attachments": {},
   "cell_type": "markdown",
   "metadata": {},
   "source": [
    "---"
   ]
  },
  {
   "attachments": {},
   "cell_type": "markdown",
   "metadata": {},
   "source": [
    "[SET]"
   ]
  },
  {
   "attachments": {},
   "cell_type": "markdown",
   "metadata": {},
   "source": [
    "\n",
    "A set is a collection of mathematical objects called elements (or members, points, etc.).\n",
    "\n",
    "Curly braces are used to indicate a set specified by explicitly enumerating its elements."
   ]
  },
  {
   "cell_type": "markdown",
   "metadata": {},
   "source": [
    "$\n",
    "\\{1,2,3,4\\}\n",
    "$"
   ]
  },
  {
   "cell_type": "code",
   "execution_count": 47,
   "metadata": {},
   "outputs": [
    {
     "name": "stdout",
     "output_type": "stream",
     "text": [
      "{1, 2, 3, 4}\n",
      "4\n",
      "<class 'set'>\n"
     ]
    }
   ],
   "source": [
    "print(     {1,2,3,4} )\n",
    "print( len({1,2,3,4}))\n",
    "print(type({1,2,3,4}))"
   ]
  },
  {
   "attachments": {},
   "cell_type": "markdown",
   "metadata": {},
   "source": [
    "$\n",
    "\\{\\heartsuit,\\spadesuit,\\clubsuit,\\diamondsuit\\}\n",
    "$"
   ]
  },
  {
   "cell_type": "code",
   "execution_count": 48,
   "metadata": {},
   "outputs": [
    {
     "name": "stdout",
     "output_type": "stream",
     "text": [
      "{'♣', '♡', '♠', '♢'}\n",
      "4\n",
      "<class 'set'>\n"
     ]
    }
   ],
   "source": [
    "s = {\n",
    "  '♡', # '\\u2661', # white heart\n",
    "  '♠', # '\\u2660', # black spade\n",
    "  '♣', # '\\u2663', # black club\n",
    "  '♢', # '\\u2662', # white diamond\n",
    "}\n",
    "print(     s )\n",
    "print( len(s))\n",
    "print(type(s))\n"
   ]
  },
  {
   "attachments": {},
   "cell_type": "markdown",
   "metadata": {},
   "source": [
    "Each element of some set is considered to occur at most once (i.e., repetition does not matter)."
   ]
  },
  {
   "attachments": {},
   "cell_type": "markdown",
   "metadata": {},
   "source": [
    "$\n",
    "\\{1,1,2,2,3,3,4,4\\}\n",
    "=\\{1,2,3,4\\}\n",
    "$"
   ]
  },
  {
   "cell_type": "code",
   "execution_count": 50,
   "metadata": {},
   "outputs": [
    {
     "name": "stdout",
     "output_type": "stream",
     "text": [
      "{1, 2, 3, 4}\n",
      "4\n",
      "<class 'set'>\n"
     ]
    }
   ],
   "source": [
    "assert     {1,1,2,2,3,3,4,4} == {1,2,3,4}\n",
    "print(     {1,1,2,2,3,3,4,4} )\n",
    "print( len({1,1,2,2,3,3,4,4}))\n",
    "print(type({1,1,2,2,3,3,4,4}))"
   ]
  },
  {
   "attachments": {},
   "cell_type": "markdown",
   "metadata": {},
   "source": [
    "$\n",
    "\\{\\heartsuit,\\heartsuit,\\heartsuit,\\spadesuit,\\clubsuit,\\diamondsuit\\}\n",
    "=\\{\\heartsuit,\\spadesuit,\\clubsuit,\\diamondsuit\\}\n",
    "$"
   ]
  },
  {
   "cell_type": "code",
   "execution_count": 52,
   "metadata": {},
   "outputs": [
    {
     "name": "stdout",
     "output_type": "stream",
     "text": [
      "{'♣', '♡', '♠', '♢'}\n",
      "4\n",
      "<class 'set'>\n"
     ]
    }
   ],
   "source": [
    "assert     {'♡','♡','♡','♠','♣','♢'} == {'♡','♠','♣','♢'}\n",
    "print(     {'♡','♡','♡','♠','♣','♢'})\n",
    "print( len({'♡','♡','♡','♠','♣','♢'}))\n",
    "print(type({'♡','♡','♡','♠','♣','♢'}))"
   ]
  },
  {
   "attachments": {},
   "cell_type": "markdown",
   "metadata": {},
   "source": [
    "A set does not impose an order onto its elements (i.e., order does not matter).\n",
    "\n",
    "$\n",
    "\\{\\heartsuit,\\spadesuit,\\clubsuit,\\diamondsuit\\}\n",
    "=\\{\\clubsuit,\\diamondsuit,\\heartsuit,\\spadesuit\\}\n",
    "$"
   ]
  },
  {
   "cell_type": "code",
   "execution_count": 38,
   "metadata": {},
   "outputs": [],
   "source": [
    "assert {'♡','♠','♣','♢'} == {'♣','♢','♡','♠'}"
   ]
  },
  {
   "attachments": {},
   "cell_type": "markdown",
   "metadata": {},
   "source": [
    "---"
   ]
  },
  {
   "attachments": {},
   "cell_type": "markdown",
   "metadata": {},
   "source": [
    "[SET CONTAINS ELEMENT]"
   ]
  },
  {
   "attachments": {},
   "cell_type": "markdown",
   "metadata": {},
   "source": [
    "The symbol $\\in$ is used to indicate that an object belongs to a set (equivalently, that the set contains the object)."
   ]
  },
  {
   "attachments": {},
   "cell_type": "markdown",
   "metadata": {},
   "source": [
    "$1\\in\\{1,2,3,4\\}$"
   ]
  },
  {
   "cell_type": "code",
   "execution_count": 54,
   "metadata": {},
   "outputs": [
    {
     "name": "stdout",
     "output_type": "stream",
     "text": [
      "True\n",
      "True\n",
      "True\n",
      "True\n",
      "False\n"
     ]
    }
   ],
   "source": [
    "print(1 in {1,2,3,4})\n",
    "print(2 in {1,2,3,4})\n",
    "print(3 in {1,2,3,4})\n",
    "print(4 in {1,2,3,4})\n",
    "print(5 in {1,2,3,4})"
   ]
  },
  {
   "attachments": {},
   "cell_type": "markdown",
   "metadata": {},
   "source": [
    "$\\heartsuit\\in\\{\\heartsuit,\\spadesuit,\\clubsuit,\\diamondsuit\\}$"
   ]
  },
  {
   "cell_type": "code",
   "execution_count": 56,
   "metadata": {},
   "outputs": [
    {
     "name": "stdout",
     "output_type": "stream",
     "text": [
      "True\n",
      "True\n",
      "True\n",
      "True\n",
      "False\n"
     ]
    }
   ],
   "source": [
    "print('♡' in {'♡','♠','♣','♢'})\n",
    "print('♠' in {'♡','♠','♣','♢'})\n",
    "print('♣' in {'♡','♠','♣','♢'})\n",
    "print('♢' in {'♡','♠','♣','♢'})\n",
    "print('♦' in {'♡','♠','♣','♢'})"
   ]
  },
  {
   "attachments": {},
   "cell_type": "markdown",
   "metadata": {},
   "source": [
    "---"
   ]
  },
  {
   "attachments": {},
   "cell_type": "markdown",
   "metadata": {},
   "source": [
    "[SET CONTAINS OTHER SET]"
   ]
  },
  {
   "attachments": {},
   "cell_type": "markdown",
   "metadata": {},
   "source": [
    "One set $S_1$ is contained in another set $S_2$ if every element of $S_1$ is an element of $S_2$.\n",
    "\n",
    "$\n",
    "S_1\\subseteq S_2\n",
    "$"
   ]
  },
  {
   "attachments": {},
   "cell_type": "markdown",
   "metadata": {},
   "source": [
    "---"
   ]
  },
  {
   "attachments": {},
   "cell_type": "markdown",
   "metadata": {},
   "source": [
    "[SET EQUALITY]"
   ]
  },
  {
   "attachments": {},
   "cell_type": "markdown",
   "metadata": {},
   "source": [
    "Two sets $S_1$ and $S_2$ are equal if and only if they contain the same elements. In other words, two sets $S_1$ and $S_2$ are equal if and only if all the elements that belong to $S_1$ belong to $S_2$ and all the elements that belong to $S_2$ belong to $S_1$.\n",
    "\n",
    "The equality of two sets $S_1$ and $S_2$ is written $S_1=S_2$.\n",
    "\n",
    "Proof procedure\n",
    "1. Prove $S_1\\subseteq S_2$\n",
    "2. Prove $S_2\\subseteq S_1$"
   ]
  },
  {
   "attachments": {},
   "cell_type": "markdown",
   "metadata": {},
   "source": [
    "---"
   ]
  },
  {
   "attachments": {},
   "cell_type": "markdown",
   "metadata": {},
   "source": [
    "[FINITE SET]"
   ]
  },
  {
   "attachments": {},
   "cell_type": "markdown",
   "metadata": {},
   "source": [
    "* $\\{0, 1\\}^n$ the set of $n$-bit binary strings"
   ]
  },
  {
   "attachments": {},
   "cell_type": "markdown",
   "metadata": {},
   "source": [
    "---"
   ]
  },
  {
   "attachments": {},
   "cell_type": "markdown",
   "metadata": {},
   "source": [
    "[INFINITE SET]"
   ]
  },
  {
   "attachments": {},
   "cell_type": "markdown",
   "metadata": {},
   "source": [
    "Examples"
   ]
  },
  {
   "attachments": {},
   "cell_type": "markdown",
   "metadata": {},
   "source": [
    "* $\\mathbb{N}$ the set of natural numbers\n",
    "  * $\\mathbb{N} \\cup \\{0\\} \\overset{\\text{def}}= \\{0, 1, 2, ...\\}$ the set of natural numbers including zero\n",
    "  * $\\mathbb{N} - \\{0\\} \\overset{\\text{def}}= \\{1, 2, ...\\}$ the set of natural numbers excluding zero\n",
    "* $\\mathbb{Z} \\overset{\\text{def}}= \\{..., -2, -1, 0, 1, 2, ...\\}$ the set of integers\n",
    "  * $\\mathbb{Z}^+$ the set of positive integers (equivalent to $\\mathbb{N} - \\{0\\}$)\n",
    "  * $\\mathbb{Z}^+ \\cup \\{0\\}$ the set of nonnegative integers (equivalent to $\\mathbb{N} \\cup \\{0\\}$)\n",
    "  * $\\mathbb{E} \\overset{\\text{def}}= \\{..., -2, 0, 2 ...\\}$ the set of even integers\n",
    "* $\\mathbb{Q} \\overset{\\text{def}}= \\{\\frac{p}{q} : p, q \\in \\mathbb{Z}, q \\ne 0\\}$ the set of rational numbers\n",
    "* $\\mathbb{R}$ the set of real numbers\n",
    "  * $\\mathbb{R}^-$ the set of negative numbers\n",
    "* $\\mathbb{C} \\overset{\\text{def}}= \\{a + bi : a, b \\in \\mathbb{R}, i \\overset{\\text{def}}= \\sqrt{-1}\\}$ the set of complex numbers"
   ]
  },
  {
   "cell_type": "markdown",
   "metadata": {},
   "source": [
    "$$\n",
    "\\mathbb{N}\n",
    "\\subset\n",
    "\\mathbb{Z}\n",
    "\\subset\n",
    "\\mathbb{Q}\n",
    "\\subset\n",
    "\\mathbb{R}\n",
    "\\subset\n",
    "\\mathbb{C}\n",
    "$$"
   ]
  },
  {
   "attachments": {},
   "cell_type": "markdown",
   "metadata": {},
   "source": [
    "---"
   ]
  },
  {
   "attachments": {},
   "cell_type": "markdown",
   "metadata": {},
   "source": [
    "[SET CARDINALITY]"
   ]
  },
  {
   "attachments": {},
   "cell_type": "markdown",
   "metadata": {},
   "source": [
    "If a set $S$ is finite, the cardinality of $S$ is the number of elements that belong to $S$.\n",
    "\n",
    "The cardinality of $S$ is written $|S|$."
   ]
  },
  {
   "attachments": {},
   "cell_type": "markdown",
   "metadata": {},
   "source": [
    "---"
   ]
  },
  {
   "attachments": {},
   "cell_type": "markdown",
   "metadata": {},
   "source": [
    "[CARTESIAN PRODUCT]"
   ]
  },
  {
   "attachments": {},
   "cell_type": "markdown",
   "metadata": {},
   "source": [
    "The Cartesian product of two sets $A$ and $B$ is the set of all pairs $(a,b)$ where $a\\in A$ and $b\\in B$.\n",
    "\n",
    "The Cartesian product of two sets $A$ and $B$ is written $A\\times B$."
   ]
  },
  {
   "attachments": {},
   "cell_type": "markdown",
   "metadata": {},
   "source": [
    "[Example]"
   ]
  },
  {
   "attachments": {},
   "cell_type": "markdown",
   "metadata": {},
   "source": [
    "$\n",
    "\\begin{aligned}\n",
    "A&=\\{1,2,3\\}\\\\\n",
    "B&=\\{\\heartsuit,\\spadesuit,\\clubsuit,\\diamondsuit\\}\\\\\n",
    "A\\times B&=\\{(1,\\heartsuit),(2,\\heartsuit),(3,\\heartsuit),(1,\\spadesuit),(2,\\spadesuit),(3,\\spadesuit),(1,\\clubsuit),(2,\\clubsuit),(3,\\clubsuit),(1,\\diamondsuit),(2,\\diamondsuit),(3,\\diamondsuit)\\}\\\\\n",
    "|A|&=3\\\\\n",
    "|B|&=4\\\\\n",
    "|A\\times B|&=12\\\\\n",
    "\\end{aligned}\n",
    "$"
   ]
  },
  {
   "cell_type": "code",
   "execution_count": 3,
   "metadata": {},
   "outputs": [
    {
     "name": "stdout",
     "output_type": "stream",
     "text": [
      "[(1, '♡'), (1, '♠'), (1, '♣'), (1, '♢'), (2, '♡'), (2, '♠'), (2, '♣'), (2, '♢'), (3, '♡'), (3, '♠'), (3, '♣'), (3, '♢')]\n",
      "12\n"
     ]
    }
   ],
   "source": [
    "from itertools import product\n",
    "\n",
    "ab = list(product((1,2,3),('♡','♠','♣','♢')))\n",
    "print(    ab )\n",
    "print(len(ab))"
   ]
  },
  {
   "attachments": {},
   "cell_type": "markdown",
   "metadata": {},
   "source": [
    "---"
   ]
  },
  {
   "attachments": {},
   "cell_type": "markdown",
   "metadata": {},
   "source": [
    "[PROPOSITION]\n",
    "\n",
    "For finite sets $A$ and $B$, $|A\\times B|=|A|\\times|B|$."
   ]
  },
  {
   "attachments": {},
   "cell_type": "markdown",
   "metadata": {},
   "source": [
    "[Example]\n",
    "\n",
    "$\n",
    "\\begin{aligned}\n",
    "A&=\\{A,2,3,4,5,6,7,8,9,10,J,Q,K\\}\\\\\n",
    "B&=\\{\\heartsuit,\\spadesuit,\\clubsuit,\\diamondsuit\\}\\\\\n",
    "|A\\times B|&=|A|\\times|B|=13\\times4=52\\\\\n",
    "\\end{aligned}\n",
    "$"
   ]
  },
  {
   "attachments": {},
   "cell_type": "markdown",
   "metadata": {},
   "source": [
    "---"
   ]
  },
  {
   "attachments": {},
   "cell_type": "markdown",
   "metadata": {},
   "source": [
    "## Acknowledgements"
   ]
  },
  {
   "attachments": {},
   "cell_type": "markdown",
   "metadata": {},
   "source": [
    "* Klein, Philip N. (2013). _Coding the Matrix: Linear Algebra through Computer Science Applications_. 1st Ed. Newtonian Press."
   ]
  },
  {
   "attachments": {},
   "cell_type": "markdown",
   "metadata": {},
   "source": [
    "---"
   ]
  }
 ],
 "metadata": {
  "kernelspec": {
   "display_name": "main",
   "language": "python",
   "name": "python3"
  },
  "language_info": {
   "codemirror_mode": {
    "name": "ipython",
    "version": 3
   },
   "file_extension": ".py",
   "mimetype": "text/x-python",
   "name": "python",
   "nbconvert_exporter": "python",
   "pygments_lexer": "ipython3",
   "version": "3.10.8"
  },
  "orig_nbformat": 4,
  "vscode": {
   "interpreter": {
    "hash": "7934a2e895ecf0f9e222ea9c67d2028800f311cc59efafcc0f7e737f99c61e05"
   }
  }
 },
 "nbformat": 4,
 "nbformat_minor": 2
}
