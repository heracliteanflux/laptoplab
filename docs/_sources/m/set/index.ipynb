{
 "cells": [
  {
   "cell_type": "markdown",
   "metadata": {},
   "source": [
    "# Set Theory"
   ]
  },
  {
   "cell_type": "markdown",
   "metadata": {},
   "source": [
    "---"
   ]
  },
  {
   "cell_type": "markdown",
   "metadata": {},
   "source": [
    "## Contents\n",
    "```{contents}\n",
    "```"
   ]
  },
  {
   "cell_type": "markdown",
   "metadata": {},
   "source": [
    "---"
   ]
  },
  {
   "cell_type": "markdown",
   "metadata": {},
   "source": [
    "## Sections\n",
    "```{tableofcontents}\n",
    "```"
   ]
  },
  {
   "cell_type": "markdown",
   "metadata": {},
   "source": [
    "---"
   ]
  },
  {
   "cell_type": "markdown",
   "metadata": {},
   "source": [
    "$\n",
    "\\begin{aligned}\n",
    "& \\mathbb{N}^{+}  &&= \\{    1, 2, 3, \\dotsc \\}                             && \\text{positive integers} \\\\\n",
    "& \\mathbb{N}      &&= \\{ 0, 1, 2, 3, \\dotsc \\}                             && \\text{natural numbers (nonnegative integers)} \\\\\n",
    "& \\mathbb{Z}^{ -} &&= \\{ -1, -2, -3, \\dotsc \\}                             && \\text{negative numbers} \\\\\n",
    "& \\mathbb{Z}      &&= \\{ \\dotsc, -3, -2, -1, 0, 1, 2, 3, \\dotsc \\}         && \\text{integers} \\\\\n",
    "& \\mathbb{E}      &&= \\{ \\dotsc, -4, -2, 0, 2, 4, \\dotsc \\}                && \\text{even numbers} \\\\\n",
    "& \\mathbb{O}      &&= \\{ \\dotsc, -3, -1, 1, 3, \\dotsc \\}                   && \\text{odd numbers} \\\\\n",
    "& \\mathbb{P}      &&= \\{ 2, 3, 5, 7, 11, \\dotsc \\}                         && \\text{primes} \\\\\n",
    "& \\mathbb{Q}      &&= \\{ p/q \\mid p, q \\in \\mathbb{Z}, q \\ne 0 \\}          && \\text{rational numbers, expressible as the ratio of two integers} \\\\\n",
    "& \\mathbb{R}      &&                                                       && \\text{real numbers, the continuum} \\\\\n",
    "& \\mathbb{R - Q}  &&= \\{ x \\mid x \\in \\mathbb{R} \\land x \\not\\in \\mathbb{Q} \\} && \\text{irrational numbers, not expressible as the ratio of two integers (algebraic vs transcendental)} \\\\\n",
    "& \\mathbb{I}      &&= \\{ bi     \\mid b    \\in \\mathbb{R} \\land i = \\sqrt{-1} \\} && \\text{imaginary numbers} \\\\\n",
    "& \\mathbb{C}      &&= \\{ a + bi \\mid a, b \\in \\mathbb{R} \\land i = \\sqrt{-1} \\} && \\text{complex numbers} \\\\\n",
    "\\end  {aligned}\n",
    "$"
   ]
  },
  {
   "cell_type": "markdown",
   "metadata": {},
   "source": [
    "$$\n",
    "\\mathbb{N}\n",
    "\\subset\n",
    "\\mathbb{Z}\n",
    "\\subset\n",
    "\\mathbb{Q}\n",
    "\\subset\n",
    "\\mathbb{R}\n",
    "\\subset\n",
    "\\mathbb{C}\n",
    "$$"
   ]
  },
  {
   "cell_type": "markdown",
   "metadata": {},
   "source": [
    "$\n",
    "\\begin{aligned}\n",
    "& \\mathbb{Z}[x]    && \\text{the set of polynomials in } x    \\text{ with integral coefficients} \\\\\n",
    "& \\mathbb{Q}[x]    && \\text{the set of polynomials in } x    \\text{ with rational coefficients} \\\\\n",
    "& \\mathbb{R}[x]    && \\text{the set of polynomials in } x    \\text{ with real coefficients} \\\\\n",
    "& \\mathbb{Q}[x, y] && \\text{the set of polynomials in } x, y \\text{ with rational coefficients} \\\\\n",
    "& \\mathbb{R}[x, y] && \\text{the set of polynomials in } x, y \\text{ with real coefficients} \\\\\n",
    "\\end  {aligned}\n",
    "$"
   ]
  },
  {
   "cell_type": "markdown",
   "metadata": {},
   "source": [
    "---"
   ]
  },
  {
   "cell_type": "markdown",
   "metadata": {},
   "source": [
    "## Figures"
   ]
  },
  {
   "cell_type": "markdown",
   "metadata": {},
   "source": [
    "* [ [w](https://en.wikipedia.org/wiki/Georg_Cantor) ] Cantor, Georg (1845-1918)\n",
    "  * [ [w](https://en.wikipedia.org/wiki/Cantor%27s_first_set_theory_article) ] (1874). _On a Property of the Collection of All Real Algebraic Numbers_.\n",
    "* [ [w](https://en.wikipedia.org/wiki/Richard_Dedekind) ] Dedekind, Richard (1831-1916)\n",
    "* [ [w](https://en.wikipedia.org/wiki/Bertrand_Russell) ] Russell, Bertrand (1872-1970)\n",
    "* [ [w](https://en.wikipedia.org/wiki/Ernst_Zermelo) ] Zermelo, Ernst (1871-1953)"
   ]
  },
  {
   "cell_type": "markdown",
   "metadata": {},
   "source": [
    "---"
   ]
  },
  {
   "cell_type": "markdown",
   "metadata": {},
   "source": [
    "## Terms"
   ]
  },
  {
   "cell_type": "markdown",
   "metadata": {},
   "source": [
    "* [ [w](https://en.wikipedia.org/wiki/Algebra_of_sets) ] Algebra of Sets\n",
    "* [ [w](https://en.wikipedia.org/wiki/Axiom_of_choice) ] Axiom of Choice\n",
    "* [ [w](https://en.wikipedia.org/wiki/Burali-Forti_paradox) ] Burali-Forti Paradox\n",
    "* [ [w](https://en.wikipedia.org/wiki/Cantor%27s_diagonal_argument) ] Cantor's Diagonal Argument\n",
    "* [ [w](https://en.wikipedia.org/wiki/Cantor%27s_paradise) ] Cantor's Paradise\n",
    "* [ [w](https://en.wikipedia.org/wiki/Cantor%27s_paradox) ] Cantor's Paradox\n",
    "* [ [w](https://en.wikipedia.org/wiki/Cardinal_number) ] Cardinal Number\n",
    "* [ [w](https://en.wikipedia.org/wiki/Cartesian_product) ] Cartesian Product\n",
    "* [ [w](https://en.wikipedia.org/wiki/Class_(set_theory)) ] Class\n",
    "* [ [w](https://en.wikipedia.org/wiki/Complement_(set_theory)) ] Complement of a Set\n",
    "* [ [w](https://en.wikipedia.org/wiki/Dedekind-infinite_set) ] Dedekind-Infinite Set\n",
    "* [ [w](https://en.wikipedia.org/wiki/Disjoint_sets) ] Disjoint Sets\n",
    "* [ [w](https://en.wikipedia.org/wiki/Disjoint_union) ] Disjoint Union\n",
    "* [ [w](https://en.wikipedia.org/wiki/Element_(mathematics)) ] Element\n",
    "* [ [w](https://en.wikipedia.org/wiki/Empty_set) ] Empty Set\n",
    "* [ [w](https://en.wikipedia.org/wiki/Equinumerosity) ] Equinumerosity\n",
    "* [ [w](https://en.wikipedia.org/wiki/Equivalence_class) ] Equivalence Class\n",
    "* [ [w](https://en.wikipedia.org/wiki/Family_of_sets) ] Family of Sets\n",
    "* [ [w](https://en.wikipedia.org/wiki/Finite_set) ] Finite Set\n",
    "* [ [w](https://en.wikipedia.org/wiki/Infinite_set) ] Infinite Set\n",
    "* [ [w](https://en.wikipedia.org/wiki/Intersection_(set_theory)) ] Intersection\n",
    "* [ [w](https://en.wikipedia.org/wiki/Large_cardinal) ] Large Cardinal Property\n",
    "* [ [w](https://en.wikipedia.org/wiki/Multiplicity_(mathematics)) ] Multiplicity\n",
    "* [ [w](https://en.wikipedia.org/wiki/Multiset) ] Multiset\n",
    "  * https://brilliant.org/wiki/multiset/\n",
    "* [ [w](https://en.wikipedia.org/wiki/Naive_set_theory) ] Naive Set Theory\n",
    "* [ [w](https://en.wikipedia.org/wiki/Paradoxes_of_set_theory) ] Paradoxes of Set Theory\n",
    "* [ [w](https://en.wikipedia.org/wiki/Partition_of_a_set) ] Partition of a Set\n",
    "* [ [w](https://en.wikipedia.org/wiki/Power_set) ] Power Set\n",
    "* [ [w](https://en.wikipedia.org/wiki/Russell%27s_paradox) ] Russell's Paradox\n",
    "* [ [w](https://en.wikipedia.org/wiki/Set_(mathematics)) ] Set\n",
    "* [ [w](https://en.wikipedia.org/wiki/Set-builder_notation) ] Set Builder Notation\n",
    "* [ [w](https://en.wikipedia.org/wiki/Set_theory) ] Set Theory\n",
    "* [ [w](https://en.wikipedia.org/wiki/Singleton_(mathematics)) ] Singleton\n",
    "* [ [w](https://en.wikipedia.org/wiki/Subset) ] Subset\n",
    "* [ [w](https://en.wikipedia.org/wiki/Symmetric_difference) ] Symmetric Difference\n",
    "* [ [w](https://en.wikipedia.org/wiki/Transfinite_number) ] Transfinite Number\n",
    "* [ [w](https://en.wikipedia.org/wiki/Union_(set_theory)) ] Union\n",
    "* [ [w](https://en.wikipedia.org/wiki/Universe_(mathematics)) ] Universe\n",
    "* [ [w](https://en.wikipedia.org/wiki/Zermelo%E2%80%93Fraenkel_set_theory) ] Zermelo-Fraenkel Set Theory"
   ]
  },
  {
   "cell_type": "markdown",
   "metadata": {},
   "source": [
    "* [ [s](https://plato.stanford.edu/entries/category-theory/) ] Category Theory\n",
    "* [ [s](https://plato.stanford.edu/entries/continuity/) ] Continuity and Infinitesimals\n",
    "* [ [s](https://plato.stanford.edu/entries/continuum-hypothesis/) ] Continuum Hypothesis\n",
    "* [ [s](https://plato.stanford.edu/entries/large-cardinals-determinacy/) ] Large Cardinals and Determinacy\n",
    "* [ [s](https://plato.stanford.edu/entries/independence-large-cardinals/) ] Large Cardinals and Independence\n",
    "* [ [s](https://plato.stanford.edu/entries/set-theory/) ] Set Theory\n",
    "* [ [s](https://plato.stanford.edu/entries/settheory-alternative/) ] Set Theory, Alternative Axiomatic\n",
    "* [ [s](https://plato.stanford.edu/entries/settheory-early/) ] Set Theory, Early Development\n",
    "* [ [s](https://plato.stanford.edu/entries/zermelo-set-theory/) ] Set Theory, Zermelo's Axiomatization"
   ]
  },
  {
   "cell_type": "markdown",
   "metadata": {},
   "source": [
    "---"
   ]
  }
 ],
 "metadata": {
  "language_info": {
   "name": "python"
  }
 },
 "nbformat": 4,
 "nbformat_minor": 2
}
