{
 "cells": [
  {
   "cell_type": "markdown",
   "metadata": {},
   "source": [
    "# Set Theory"
   ]
  },
  {
   "cell_type": "markdown",
   "metadata": {},
   "source": [
    "---"
   ]
  },
  {
   "cell_type": "markdown",
   "metadata": {},
   "source": [
    "## Figures"
   ]
  },
  {
   "cell_type": "markdown",
   "metadata": {},
   "source": [
    "* [ [w](https://en.wikipedia.org/wiki/Georg_Cantor) ] Cantor, Georg (1845-1918)\n",
    "  * [ [w](https://en.wikipedia.org/wiki/Cantor%27s_first_set_theory_article) ] (1874). _On a Property of the Collection of All Real Algebraic Numbers_.\n",
    "* [ [w](https://en.wikipedia.org/wiki/Richard_Dedekind) ] Dedekind, Richard (1831-1916)\n",
    "* [ [w](https://en.wikipedia.org/wiki/Bertrand_Russell) ] Russell, Bertrand (1872-1970)\n",
    "* [ [w](https://en.wikipedia.org/wiki/Ernst_Zermelo) ] Zermelo, Ernst (1871-1953)"
   ]
  },
  {
   "cell_type": "markdown",
   "metadata": {},
   "source": [
    "---"
   ]
  },
  {
   "cell_type": "markdown",
   "metadata": {},
   "source": [
    "## Terms"
   ]
  },
  {
   "cell_type": "markdown",
   "metadata": {},
   "source": [
    "* [ [w](https://en.wikipedia.org/wiki/Algebra_of_sets) ] Algebra of Sets\n",
    "* [ [w](https://en.wikipedia.org/wiki/Axiom_of_choice) ] Axiom of Choice\n",
    "* [ [w](https://en.wikipedia.org/wiki/Burali-Forti_paradox) ] Burali-Forti Paradox\n",
    "* [ [w](https://en.wikipedia.org/wiki/Cantor%27s_diagonal_argument) ] Cantor's Diagonal Argument\n",
    "* [ [w](https://en.wikipedia.org/wiki/Cantor%27s_paradise) ] Cantor's Paradise\n",
    "* [ [w](https://en.wikipedia.org/wiki/Cantor%27s_paradox) ] Cantor's Paradox\n",
    "* [ [w](https://en.wikipedia.org/wiki/Cardinal_number) ] Cardinal Number\n",
    "* [ [w](https://en.wikipedia.org/wiki/Cartesian_product) ] Cartesian Product\n",
    "* [ [w](https://en.wikipedia.org/wiki/Class_(set_theory)) ] Class\n",
    "* [ [w](https://en.wikipedia.org/wiki/Complement_(set_theory)) ] Complement of a Set\n",
    "* [ [w](https://en.wikipedia.org/wiki/Dedekind-infinite_set) ] Dedekind-Infinite Set\n",
    "* [ [w](https://en.wikipedia.org/wiki/Disjoint_sets) ] Disjoint Sets\n",
    "* [ [w](https://en.wikipedia.org/wiki/Disjoint_union) ] Disjoint Union\n",
    "* [ [w](https://en.wikipedia.org/wiki/Element_(mathematics)) ] Element\n",
    "* [ [w](https://en.wikipedia.org/wiki/Empty_set) ] Empty Set\n",
    "* [ [w](https://en.wikipedia.org/wiki/Equinumerosity) ] Equinumerosity\n",
    "* [ [w](https://en.wikipedia.org/wiki/Equivalence_class) ] Equivalence Class\n",
    "* [ [w](https://en.wikipedia.org/wiki/Family_of_sets) ] Family of Sets\n",
    "* [ [w](https://en.wikipedia.org/wiki/Finite_set) ] Finite Set\n",
    "* [ [w](https://en.wikipedia.org/wiki/Infinite_set) ] Infinite Set\n",
    "* [ [w](https://en.wikipedia.org/wiki/Intersection_(set_theory)) ] Intersection\n",
    "* [ [w](https://en.wikipedia.org/wiki/Large_cardinal) ] Large Cardinal Property\n",
    "* [ [w](https://en.wikipedia.org/wiki/Multiplicity_(mathematics)) ] Multiplicity\n",
    "* [ [w](https://en.wikipedia.org/wiki/Multiset) ] Multiset\n",
    "  * https://brilliant.org/wiki/multiset/\n",
    "* [ [w](https://en.wikipedia.org/wiki/Naive_set_theory) ] Naive Set Theory\n",
    "* [ [w](https://en.wikipedia.org/wiki/Paradoxes_of_set_theory) ] Paradoxes of Set Theory\n",
    "* [ [w](https://en.wikipedia.org/wiki/Partition_of_a_set) ] Partition of a Set\n",
    "* [ [w](https://en.wikipedia.org/wiki/Power_set) ] Power Set\n",
    "* [ [w](https://en.wikipedia.org/wiki/Russell%27s_paradox) ] Russell's Paradox\n",
    "* [ [w](https://en.wikipedia.org/wiki/Set_(mathematics)) ] Set\n",
    "* [ [w](https://en.wikipedia.org/wiki/Set-builder_notation) ] Set Builder Notation\n",
    "* [ [w](https://en.wikipedia.org/wiki/Set_theory) ] Set Theory\n",
    "* [ [w](https://en.wikipedia.org/wiki/Singleton_(mathematics)) ] Singleton\n",
    "* [ [w](https://en.wikipedia.org/wiki/Subset) ] Subset\n",
    "* [ [w](https://en.wikipedia.org/wiki/Symmetric_difference) ] Symmetric Difference\n",
    "* [ [w](https://en.wikipedia.org/wiki/Transfinite_number) ] Transfinite Number\n",
    "* [ [w](https://en.wikipedia.org/wiki/Union_(set_theory)) ] Union\n",
    "* [ [w](https://en.wikipedia.org/wiki/Universe_(mathematics)) ] Universe\n",
    "* [ [w](https://en.wikipedia.org/wiki/Zermelo%E2%80%93Fraenkel_set_theory) ] Zermelo-Fraenkel Set Theory"
   ]
  },
  {
   "cell_type": "markdown",
   "metadata": {},
   "source": [
    "* [ [s](https://plato.stanford.edu/entries/category-theory/) ] Category Theory\n",
    "* [ [s](https://plato.stanford.edu/entries/continuity/) ] Continuity and Infinitesimals\n",
    "* [ [s](https://plato.stanford.edu/entries/continuum-hypothesis/) ] Continuum Hypothesis\n",
    "* [ [s](https://plato.stanford.edu/entries/large-cardinals-determinacy/) ] Large Cardinals and Determinacy\n",
    "* [ [s](https://plato.stanford.edu/entries/independence-large-cardinals/) ] Large Cardinals and Independence\n",
    "* [ [s](https://plato.stanford.edu/entries/set-theory/) ] Set Theory\n",
    "* [ [s](https://plato.stanford.edu/entries/settheory-alternative/) ] Set Theory, Alternative Axiomatic\n",
    "* [ [s](https://plato.stanford.edu/entries/settheory-early/) ] Set Theory, Early Development\n",
    "* [ [s](https://plato.stanford.edu/entries/zermelo-set-theory/) ] Set Theory, Zermelo's Axiomatization"
   ]
  },
  {
   "cell_type": "markdown",
   "metadata": {},
   "source": [
    "---"
   ]
  }
 ],
 "metadata": {
  "language_info": {
   "name": "python"
  }
 },
 "nbformat": 4,
 "nbformat_minor": 2
}
