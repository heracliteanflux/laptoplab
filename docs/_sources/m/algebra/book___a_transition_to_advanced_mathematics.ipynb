{
 "cells": [
  {
   "cell_type": "markdown",
   "metadata": {},
   "source": [
    "# Book: _A Transition to Advanced Mathematics_"
   ]
  },
  {
   "cell_type": "markdown",
   "metadata": {},
   "source": [
    "---"
   ]
  },
  {
   "cell_type": "markdown",
   "metadata": {},
   "source": [
    "## Contents\n",
    "```{contents}\n",
    "```"
   ]
  },
  {
   "cell_type": "markdown",
   "metadata": {},
   "source": [
    "---"
   ]
  },
  {
   "cell_type": "markdown",
   "metadata": {},
   "source": [
    "## Abstract Algebra"
   ]
  },
  {
   "cell_type": "markdown",
   "metadata": {},
   "source": [
    "Structure | Properties\n",
    "-|-\n",
    "Magma | Non-empty set, binary operation, closed\n",
    "Semi Group | Non-empty set, binary operation, closed, associative\n",
    "Monoid | Non-empty set, binary operation, closed, associative, identity element\n",
    "Group | Non-empty set, binary operation, closed, associative, identity element, inverse elements\n",
    "Rng | Non-empty set, binary operation, closed, associative, identity element, inverse elements, commutative (abelian group)\n",
    ". | Non-empty set, binary operation, closed, associative (semi group)\n",
    ". | Distributivity of multiplication over addition\n",
    "Ring | Non-empty set, binary operation, closed, associative, identity element, inverse elements, commutative (abelian group)\n",
    ". | Non-empty set, binary operation, closed, associative, identity element (monoid)\n",
    ". | Distributivity of multiplication over addition\n",
    "Division Ring | Non-empty set, binary operation, closed, associative, identity element, inverse elements, commutative (abelian group)\n",
    ". | Non-empty set, binary operation, closed, associative, identity element, inverse elements (group)\n",
    ". | Distributivity of multiplication over addition\n",
    "Field | Non-empty set, binary operation, closed, associative, identity element, inverse elements, commutative (abelian group)\n",
    ". | Non-empty set, binary operation, closed, associative, identity element, inverse elements, commutative (abelian group)\n",
    ". | Distributivity of multiplication over addition"
   ]
  },
  {
   "cell_type": "markdown",
   "metadata": {},
   "source": [
    "---"
   ]
  },
  {
   "cell_type": "markdown",
   "metadata": {},
   "source": [
    "### Algebraic Structures"
   ]
  },
  {
   "cell_type": "markdown",
   "metadata": {},
   "source": [
    "<span style=\"color: blue\">**DEFINITION**</span><br>\n",
    "\n",
    "An ***algebraic structure*** is a non-empty set $A$ with a collection of one or more operations on $A$ and a possibly empty collection of relations on $A$.\n",
    "\n",
    "<span style=\"color: blue\">Note:</span><br>\n",
    "\n",
    "Algebraic structures may also be called models, structures, algebraic systems, or algebras."
   ]
  },
  {
   "cell_type": "markdown",
   "metadata": {},
   "source": [
    "<span style=\"color: blue\">**DEFINITION**</span><br>\n",
    "\n",
    "The ***order*** of an algebraic structure is the order of its set."
   ]
  },
  {
   "cell_type": "markdown",
   "metadata": {},
   "source": [
    "#### Properties of algebraic structures"
   ]
  },
  {
   "cell_type": "markdown",
   "metadata": {},
   "source": [
    "##### Closure"
   ]
  },
  {
   "cell_type": "markdown",
   "metadata": {},
   "source": [
    "A collection of objects is ***closed*** under some operation if applying that operation to members of the collection returns an object in the collection.\n",
    "\n",
    "<span style=\"color: blue\">**DEFINITION**</span>\n",
    "\n",
    "Let $(A, *)$ be a structure and let $B$ be a subset of $A$. $B$ is closed under $*$ iff for all $x, y \\in B, x * y \\in B$.\n",
    "\n",
    "$A$ is closed under $*$ since $*$ is a function that maps to $A$.\n",
    "\n",
    "For any proper subset $B$ of $A$ that is closed under $*$, the same operation $*$ is used to denote the restriction of the operation to $B \\times B$.\n",
    "\n",
    "The following statements are equivalent:\n",
    "\n",
    "$B$ is closed under $*$\n",
    "\n",
    "$*$ is an operation on $B$\n",
    "\n",
    "$(B, *)$ is a structure"
   ]
  },
  {
   "cell_type": "markdown",
   "metadata": {},
   "source": [
    "##### Associativity"
   ]
  },
  {
   "cell_type": "markdown",
   "metadata": {},
   "source": [
    "<span style=\"color: blue\">**DEFINITION**</span>\n",
    "\n",
    "Let $(A, *)$ be a structure. $*$ is associative on $A$ iff for all $x, y, z \\in A, (x * y) * z = x * (y * z)$."
   ]
  },
  {
   "cell_type": "markdown",
   "metadata": {},
   "source": [
    "What are the implications of associativity?\n",
    "\n",
    "* So long as factors are written in the same order, parentheses can be discarded: $(ab)c = a(bc) = abc$. This can be extended inductively: $((ab)c)d = (a(bc))d = (abc)d = abcd$.<br>\n",
    "* Since $(xx)x = x(xx) = xxx$, we can define powers such as $x^3$. If $(xx)x \\ne x(xx)$, then $x^3$ doesn't work.<br>"
   ]
  },
  {
   "cell_type": "markdown",
   "metadata": {},
   "source": [
    "##### Commutativity"
   ]
  },
  {
   "cell_type": "markdown",
   "metadata": {},
   "source": [
    "<span style=\"color: blue\">**DEFINITION**</span>\n",
    "\n",
    "Let $(A, *)$ be a structure. $*$ is commutative on $A$ iff for all $x, y \\in A, x * y = y * x$."
   ]
  },
  {
   "cell_type": "markdown",
   "metadata": {},
   "source": [
    "##### Identity Element"
   ]
  },
  {
   "cell_type": "markdown",
   "metadata": {},
   "source": [
    "<span style=\"color: blue\">**DEFINITION**</span>\n",
    "\n",
    "Let $(A, *)$ be a structure. An element $e$ of $A$ is an identity element for $*$ iff for all $x \\in A, x * e = e = e * x$."
   ]
  },
  {
   "cell_type": "markdown",
   "metadata": {},
   "source": [
    "##### Inverse Element"
   ]
  },
  {
   "cell_type": "markdown",
   "metadata": {},
   "source": [
    "<span style=\"color: blue\">**DEFINITION**</span>\n",
    "\n",
    "Let $(A, *)$ be a structure. If $A$ has an identity element $e$, and $a$ and $b$ are in $A$, then $b$ is an inverse of $a$ iff $a * b = b * a = e$. In this case, $a$ would also be an inverse of $b$."
   ]
  },
  {
   "cell_type": "markdown",
   "metadata": {},
   "source": [
    "##### Distributivity"
   ]
  },
  {
   "cell_type": "markdown",
   "metadata": {},
   "source": [
    "Let $S$ be a set and let $*$ and $+$ be two binary operations on $S$.\n",
    "\n",
    "Let $x, y, z \\in S$.\n",
    "\n",
    "The operation $*$ is left-distributive over $+$ if $x * (y + z) = (x * y) + (x * z)$.\n",
    "\n",
    "The operation $*$ is right-distributive over $+$ if $(y + z) * x = (y * x) + (z * x)$.\n",
    "\n",
    "The operation $*$ is distributive over $+$ if it is left- and right-distributive.\n",
    "\n",
    "When $*$ is commutative the three conditions above are logically equivalent."
   ]
  },
  {
   "cell_type": "markdown",
   "metadata": {},
   "source": [
    "##### Uniqueness of the Identity Element and the Inverse Elements"
   ]
  },
  {
   "cell_type": "markdown",
   "metadata": {},
   "source": [
    "$Theorem$\n",
    "\n",
    "> Let $(A, *)$ be a structure.  \n",
    "> $(A, *)$ has at most one identity element.  \n",
    ">  \n",
    "> Let $*$ be associative on $A$ with identity $e$.  \n",
    "> If $a \\in A$ has an inverse, then $a$ has only one inverse.  "
   ]
  },
  {
   "cell_type": "markdown",
   "metadata": {},
   "source": [
    "$Proof$\n",
    "\n",
    "(Show that if $e$ and $f$ are both identities for $*$, then $e = f$.)<br>\n",
    "Assumption: Let $e$ and $f$ both be identities for $*$.<br>\n",
    "Since $e$ is an identity for $*$, $ef = f = fe$ (by the definition of an identity element).<br>\n",
    "Since $f$ is an identity for $*$, $ef = e = fe$ (by the definition of an identity element).<br>\n",
    "Therefore, $e = f$.<br>\n",
    "$\\blacksquare$<br>"
   ]
  },
  {
   "cell_type": "markdown",
   "metadata": {},
   "source": [
    "$Proof$\n",
    "\n",
    "(Show that if $x$ and $y$ are both inverses of $a$ for $*$, then $x = y$.)<br>\n",
    "Assumption: Let $x$ and $y$ both be inverses of $a$ for $*$.<br>\n",
    "Since $x$ is an inverse of $a$ for $*$, $ax = xa = e$ (by the definition of an inverse element).<br>\n",
    "Since $y$ is an inverse of $a$ for $*$, $ay = ya = e$ (by the definition of an inverse element).<br>\n",
    "Therefore, $x = y$.<br>\n",
    "$\\blacksquare$<br>"
   ]
  },
  {
   "cell_type": "markdown",
   "metadata": {},
   "source": [
    "---"
   ]
  },
  {
   "cell_type": "markdown",
   "metadata": {},
   "source": [
    "#### Operation Tables"
   ]
  },
  {
   "cell_type": "markdown",
   "metadata": {},
   "source": [
    "<span style=\"color: blue\">**DEFINITION**</span><br>\n",
    "An operation table for a structure $(A, *)$ of order $n$ is an $n \\times n$ array of products such that the product $x * y$ appears in row $x$ and column $y$.<br>"
   ]
  },
  {
   "cell_type": "markdown",
   "metadata": {},
   "source": [
    "$*$ is commutative on $A$ if the operation table for $(A, *)$ is symmetric about its main diagonal.<br>"
   ]
  },
  {
   "cell_type": "markdown",
   "metadata": {},
   "source": [
    "There is no easy way to check that $*$ is associative on $A$ just by visually inspecting the operation table for $(A, *)$.<br>\n",
    "For a structure of order $n$, associativity requires the equivalence all $n^3$ products of three elements  $x * y * z$ grouped two ways  $(x * y) * z$ and  $x * (y * z)$.<br>"
   ]
  },
  {
   "cell_type": "markdown",
   "metadata": {},
   "source": [
    "<span style=\"color: green\">Example</span><br>\n",
    "$(\\{1, 2, 3\\}, *)$\n",
    "\n",
    "$$\n",
    "\\begin{array}{c | c c c}\n",
    "* & 1 & 2 & 3 \\\\\n",
    "\\hline \n",
    "1 & 3 & 2 & 1 \\\\ \n",
    "2 & 3 & 1 & 3 \\\\ \n",
    "3 & 2 & 3 & 3 \\\\ \n",
    "\\end{array}\n",
    "$$"
   ]
  },
  {
   "cell_type": "markdown",
   "metadata": {},
   "source": [
    "Properties<br>\n",
    "* closed under $*$\n",
    "* not commutative\n",
    "  * $1 * 1 = 3$\n",
    "  * <span style=\"color: red;\">$1 * 2 = 2$ but $2 * 1 = 3$</span>\n",
    "  * <span style=\"color: red;\">$1 * 3 = 1$ but $3 * 1 = 2$</span>\n",
    "  * $2 * 2 = 1$\n",
    "  * $2 * 3 = 3$ and $3 * 2 = 3$\n",
    "  * $3 * 3 = 3$\n",
    "* not associative\n",
    "  * <span style=\"color: red;\">$(1 * 1) * 1 = 2$ but $1 * (1 * 1) = 1$</span>\n",
    "  * <span style=\"color: red;\">$(1 * 1) * 2 = 3$ but $1 * (1 * 2) = 2$</span>\n",
    "  * $(1 * 1) * 3 = 3$ and $1 * (1 * 3) = 3$\n",
    "  * <span style=\"color: red;\">$(1 * 2) * 1 = 3$ but $1 * (2 * 1) = 1$</span>\n",
    "  * <span style=\"color: red;\">$(1 * 2) * 2 = 1$ but $1 * (2 * 2) = 3$</span>\n",
    "  * <span style=\"color: red;\">$(1 * 2) * 3 = 3$ but $1 * (2 * 3) = 1$</span>\n",
    "  * <span style=\"color: red;\">$(1 * 3) * 1 = 3$ but $1 * (3 * 1) = 2$</span>\n",
    "  * <span style=\"color: red;\">$(1 * 3) * 2 = 2$ but $1 * (3 * 2) = 1$</span>\n",
    "  * $(1 * 3) * 3 = 1$ and $1 * (3 * 3) = 1$\n",
    "  * ...\n",
    "* no identity element"
   ]
  },
  {
   "cell_type": "markdown",
   "metadata": {},
   "source": [
    "<span style=\"color: green\">Example</span><br>\n",
    "$(\\{1, 2, 3\\}, \\circ)$\n",
    "\n",
    "$$\n",
    "\\begin{array}{c | c c c}\n",
    "\\circ & 1 & 2 & 3 \\\\\n",
    "\\hline \n",
    "1 & 1 & 2 & 3 \\\\ \n",
    "2 & 1 & 2 & 3 \\\\ \n",
    "3 & 1 & 2 & 3 \\\\ \n",
    "\\end{array}\n",
    "$$"
   ]
  },
  {
   "cell_type": "markdown",
   "metadata": {},
   "source": [
    "Properties<br>\n",
    "* closed under $\\circ$\n",
    "* not commutative\n",
    "  * $1 \\circ 1 = 1$\n",
    "  * <span style=\"color: red;\">$1 \\circ 2 = 2$ but $2 \\circ 1 = 1$</span>\n",
    "  * ...\n",
    "* associative\n",
    "  * $(1 \\circ 1) \\circ 1 = 1$ and $1 \\circ (1 \\circ 1) = 1$\n",
    "  * $(1 \\circ 1) \\circ 2 = 2$ and $1 \\circ (1 \\circ 2) = 2$\n",
    "  * $(1 \\circ 1) \\circ 3 = 3$ and $1 \\circ (1 \\circ 3) = 3$\n",
    "  * $(1 \\circ 2) \\circ 1 = 1$ and $1 \\circ (2 \\circ 1) = 1$\n",
    "  * $(1 \\circ 2) \\circ 2 = 2$ and $1 \\circ (2 \\circ 2) = 2$\n",
    "  * $(1 \\circ 2) \\circ 3 = 3$ and $1 \\circ (2 \\circ 3) = 3$\n",
    "  * $(1 \\circ 3) \\circ 1 = 1$ and $1 \\circ (3 \\circ 1) = 1$\n",
    "  * $(1 \\circ 3) \\circ 2 = 2$ and $1 \\circ (3 \\circ 2) = 2$\n",
    "  * $(1 \\circ 3) \\circ 3$ and $1 \\circ (3 \\circ 3)$\n",
    "  * $(2 \\circ 1) \\circ 1$ and $2 \\circ (1 \\circ 1)$\n",
    "  * $(2 \\circ 1) \\circ 2$ and $2 \\circ (1 \\circ 2)$\n",
    "  * $(2 \\circ 1) \\circ 3$ and $2 \\circ (1 \\circ 3)$\n",
    "  * $(2 \\circ 2) \\circ 1$ and $2 \\circ (2 \\circ 1)$\n",
    "  * $(2 \\circ 2) \\circ 2$ and $2 \\circ (2 \\circ 2)$\n",
    "  * $(2 \\circ 2) \\circ 3$ and $2 \\circ (2 \\circ 3)$\n",
    "  * $(2 \\circ 3) \\circ 1$ and $2 \\circ (3 \\circ 1)$\n",
    "  * $(2 \\circ 3) \\circ 2$ and $2 \\circ (3 \\circ 2)$\n",
    "  * $(2 \\circ 3) \\circ 3$ and $2 \\circ (3 \\circ 3)$\n",
    "  * $(3 \\circ 1) \\circ 1$ and $3 \\circ (1 \\circ 1)$\n",
    "  * $(3 \\circ 1) \\circ 2$ and $3 \\circ (1 \\circ 2)$\n",
    "  * $(3 \\circ 1) \\circ 3$ and $3 \\circ (1 \\circ 3)$\n",
    "  * $(3 \\circ 2) \\circ 1$ and $3 \\circ (2 \\circ 1)$\n",
    "  * $(3 \\circ 2) \\circ 2$ and $3 \\circ (2 \\circ 2)$\n",
    "  * $(3 \\circ 2) \\circ 3$ and $3 \\circ (2 \\circ 3)$\n",
    "  * $(3 \\circ 3) \\circ 1$ and $3 \\circ (3 \\circ 1)$\n",
    "  * $(3 \\circ 3) \\circ 2$ and $3 \\circ (3 \\circ 2)$\n",
    "  * $(3 \\circ 3) \\circ 3$ and $3 \\circ (3 \\circ 3)$\n",
    "* no identity element"
   ]
  },
  {
   "cell_type": "markdown",
   "metadata": {},
   "source": [
    "<span style=\"color: green\">Example</span><br>\n",
    "$(\\{1, 2, 3\\}, \\cdot)$\n",
    "\n",
    "$$\n",
    "\\begin{array}{c | c c c}\n",
    "\\cdot & 1 & 2 & 3 \\\\\n",
    "\\hline \n",
    "1 & 3 & 1 & 2 \\\\ \n",
    "2 & 1 & 2 & 3 \\\\ \n",
    "3 & 2 & 3 & 1 \\\\ \n",
    "\\end{array}\n",
    "$$"
   ]
  },
  {
   "cell_type": "markdown",
   "metadata": {},
   "source": [
    "Properties<br>\n",
    "* closed under $\\cdot$\n",
    "* commutative\n",
    "  * $1 \\cdot 1 = 3$\n",
    "  * $1 \\cdot 2 = 1$ and $2 \\cdot 1 = 1$\n",
    "  * $1 \\cdot 3 = 2$ and $3 \\cdot 1 = 2$\n",
    "  * $2 \\cdot 2 = 2$\n",
    "  * $2 \\cdot 3 = 3$ and $3 \\cdot 2 = 3$\n",
    "  * $3 \\cdot 3 = 1$\n",
    "* associative\n",
    "  * $(1 \\cdot 1) \\cdot 1$ and $1 \\cdot (1 \\cdot 1)$\n",
    "  * $(1 \\cdot 1) \\cdot 2$ and $1 \\cdot (1 \\cdot 2)$\n",
    "  * $(1 \\cdot 1) \\cdot 3$ and $1 \\cdot (1 \\cdot 3)$\n",
    "  * $(1 \\cdot 2) \\cdot 1$ and $1 \\cdot (2 \\cdot 1)$\n",
    "  * $(1 \\cdot 2) \\cdot 2$ and $1 \\cdot (2 \\cdot 2)$\n",
    "  * $(1 \\cdot 2) \\cdot 3$ and $1 \\cdot (2 \\cdot 3)$\n",
    "  * $(1 \\cdot 3) \\cdot 1$ and $1 \\cdot (3 \\cdot 1)$\n",
    "  * $(1 \\cdot 3) \\cdot 2$ and $1 \\cdot (3 \\cdot 2)$\n",
    "  * $(1 \\cdot 3) \\cdot 3$ and $1 \\cdot (3 \\cdot 3)$\n",
    "  * $(2 \\cdot 1) \\cdot 1$ and $2 \\cdot (1 \\cdot 1)$\n",
    "  * $(2 \\cdot 1) \\cdot 2$ and $2 \\cdot (1 \\cdot 2)$\n",
    "  * $(2 \\cdot 1) \\cdot 3$ and $2 \\cdot (1 \\cdot 3)$\n",
    "  * $(2 \\cdot 2) \\cdot 1$ and $2 \\cdot (2 \\cdot 1)$\n",
    "  * $(2 \\cdot 2) \\cdot 2$ and $2 \\cdot (2 \\cdot 2)$\n",
    "  * $(2 \\cdot 2) \\cdot 3$ and $2 \\cdot (2 \\cdot 3)$\n",
    "  * $(2 \\cdot 3) \\cdot 1$ and $2 \\cdot (3 \\cdot 1)$\n",
    "  * $(2 \\cdot 3) \\cdot 2$ and $2 \\cdot (3 \\cdot 2)$\n",
    "  * $(2 \\cdot 3) \\cdot 3$ and $2 \\cdot (3 \\cdot 3)$\n",
    "  * $(3 \\cdot 1) \\cdot 1$ and $3 \\cdot (1 \\cdot 1)$\n",
    "  * $(3 \\cdot 1) \\cdot 2$ and $3 \\cdot (1 \\cdot 2)$\n",
    "  * $(3 \\cdot 1) \\cdot 3$ and $3 \\cdot (1 \\cdot 3)$\n",
    "  * $(3 \\cdot 2) \\cdot 1$ and $3 \\cdot (2 \\cdot 1)$\n",
    "  * $(3 \\cdot 2) \\cdot 2$ and $3 \\cdot (2 \\cdot 2)$\n",
    "  * $(3 \\cdot 2) \\cdot 3$ and $3 \\cdot (2 \\cdot 3)$\n",
    "  * $(3 \\cdot 3) \\cdot 1$ and $3 \\cdot (3 \\cdot 1)$\n",
    "  * $(3 \\cdot 3) \\cdot 2$ and $3 \\cdot (3 \\cdot 2)$\n",
    "  * $(3 \\cdot 3) \\cdot 3$ and $3 \\cdot (3 \\cdot 3)$\n",
    "* identity element 2\n",
    "  * $1 \\cdot 2 = 1 = 2 \\cdot 1$\n",
    "  * $2 \\cdot 2 = 2$\n",
    "  * $3 \\cdot 2 = 3 = 2 \\cdot 3$\n",
    "* inverse elements\n",
    "  * $1$ and $3$ are inverses of each other\n",
    "  * $2$ is its own inverse"
   ]
  },
  {
   "cell_type": "markdown",
   "metadata": {},
   "source": [
    "<span style=\"color: green\">Example</span><br>\n",
    "$(\\{1, 2, 3\\}, +)$\n",
    "\n",
    "$$\n",
    "\\begin{array}{c | c c c}\n",
    "+ & 1 & 2 & 3 \\\\\n",
    "\\hline \n",
    "1 & 3 & 3 & 1 \\\\ \n",
    "2 & 1 & 1 & 2 \\\\ \n",
    "3 & 1 & 2 & 3 \\\\ \n",
    "\\end{array}\n",
    "$$"
   ]
  },
  {
   "cell_type": "markdown",
   "metadata": {},
   "source": [
    "Properties<br>\n",
    "* closed under $+$\n",
    "* not commutative\n",
    "  * $1 + 1 = 3$\n",
    "  * <span style=\"color: red;\">$1 + 2 = 3$ but $2 + 1 = 1$</span>\n",
    "  * $1 + 3 = 1$ and $3 + 1 = 1$\n",
    "  * $2 + 2 = 1$\n",
    "  * $2 + 3 = 2$ and $3 + 2 = 2$\n",
    "  * $3 + 3 = 3$\n",
    "* not associative\n",
    "  * $(1 + 1) + 1 = 1$ and $1 + (1 + 1) = 1$\n",
    "  * <span style=\"color: red;\">$(1 + 1) + 2 = 2$ but $1 + (1 + 2) = 1$</span>\n",
    "  * ...\n",
    "* identity element 3\n",
    "  * $1 + 3 = 1 = 3 + 1$\n",
    "  * $2 + 3 = 2 = 3 + 2$\n",
    "  * $3 + 3 = 3$\n",
    "* inverse elements\n",
    "  * $1$ and $3$ are their own inverses\n",
    "  * $2$ does not have an inverse"
   ]
  },
  {
   "cell_type": "markdown",
   "metadata": {},
   "source": [
    "---"
   ]
  },
  {
   "cell_type": "markdown",
   "metadata": {},
   "source": [
    "### Groups and Semi Groups"
   ]
  },
  {
   "cell_type": "markdown",
   "metadata": {},
   "source": [
    "<span style=\"color: blue\">**DEFINITION**</span><br>\n",
    "\n",
    "A ***group*** $(G, *)$ is a set $G$ equipped with a binary operation $* : G \\times G \\to G$ with the following properties.\n",
    "\n",
    "$\n",
    "\\begin{aligned}\n",
    "\\forall a, b    \\in G &\\quad a * b \\in G &\\quad& \\text{the group operation is closed} \\\\\n",
    "\\forall a, b, c \\in G &\\quad (a * b) * c = a * (b * c) &\\quad& \\text{the group operation is associative} \\\\\n",
    "\\exists \\varepsilon \\in G \\,\\, \\forall a \\in G &\\quad a * \\varepsilon = a &\\quad& \\text{there is an identity element} \\\\\n",
    "\\forall a \\in G \\,\\, \\exists b \\in G &\\quad a * b = \\varepsilon &\\quad& \\text{each element has an inverse} \\\\\n",
    "\\end  {aligned}\n",
    "$\n",
    "\n",
    "An ***abelian group*** (commutative group) has the additional property that the group operation is commutative.\n",
    "\n",
    "$\n",
    "\\begin{aligned}\n",
    "\\forall a, b \\in G &\\quad a * b = b * a &\\quad& \\text{the group operation is commutative} \\\\\n",
    "\\end  {aligned}\n",
    "$"
   ]
  },
  {
   "cell_type": "markdown",
   "metadata": {},
   "source": [
    "<span style=\"color: green\">Example</span><br>\n",
    "\n",
    "The set of arrows (or vectors) with a common origin in two-dimensional space is an additive abelian group. Given arrows $h, g$ the arrow $h + g$ is formed by drawing $g$ with its tail at the head of $h$ and then taking the arrow from the tail of $h$ to the head of $g$. The identity element is the arrow with length zero. An arrow's inverse is an arrow of the same length drawn in the opposite direction."
   ]
  },
  {
   "cell_type": "markdown",
   "metadata": {},
   "source": [
    "<span style=\"color: blue\">**DEFINITION**</span><br>\n",
    "\n",
    "A ***semi group*** $(S, *)$ is a set $S$ equipped with a binary operation $* : S \\times S \\to S$ with the following properties.\n",
    "\n",
    "$\n",
    "\\begin{aligned}\n",
    "\\forall a, b    \\in S &\\quad a * b \\in S &\\quad& \\text{the semi group operation is closed} \\\\\n",
    "\\forall a, b, c \\in S &\\quad (a * b) * c = a * (b * c) &\\quad& \\text{the semi group operation is associative} \\\\\n",
    "\\end  {aligned}\n",
    "$\n",
    "\n",
    "Let $(A, *)$ be a structure. $(A, *)$ is a semigroup iff $*$ is associative over $A$.\n",
    "\n",
    "<span style=\"color: blue\">**DEFINITION**</span><br>\n",
    "\n",
    "A ***monoid*** $(M, *)$ is a set $M$ equipped with a binary operation $* : M \\times M \\to M$ with the following properties.\n",
    "\n",
    "$\n",
    "\\begin{aligned}\n",
    "\\forall a, b    \\in M &\\quad a * b \\in M &\\quad& \\text{the monoid operation is closed} \\\\\n",
    "\\forall a, b, c \\in M &\\quad (a * b) * c = a * (b * c) &\\quad& \\text{the monoid operation is associative} \\\\\n",
    "\\exists \\varepsilon \\in M \\,\\, \\forall a \\in M &\\quad a * \\varepsilon = a &\\quad& \\text{there is an identity element} \\\\\n",
    "\\end  {aligned}\n",
    "$"
   ]
  },
  {
   "cell_type": "markdown",
   "metadata": {},
   "source": [
    "To review\n",
    "\n",
    "$\\alpha^m = \\alpha...\\alpha$ $\\}m$ times, where $\\alpha \\in \\mathbb{F}$ and $m$ a positive integer, denotes the group operation applied to $\\alpha$ $m$ times<br>\n",
    "$(\\alpha^m)^n = a^{mn}$<br>\n",
    "$(\\alpha\\beta)^m = \\alpha^m\\beta^m$<br>\n",
    "$\\forall \\alpha, \\beta \\in \\mathbb{F}$ and all positive integers $m, n$<br>"
   ]
  },
  {
   "cell_type": "markdown",
   "metadata": {},
   "source": [
    "---"
   ]
  },
  {
   "cell_type": "markdown",
   "metadata": {},
   "source": [
    "### Rings"
   ]
  },
  {
   "cell_type": "markdown",
   "metadata": {},
   "source": [
    "<span style=\"color: blue\">**DEFINITION**</span><br>\n",
    "\n",
    "A ***rng*** (ring without identity) $(R, +, \\times)$ is a set $R$ equipped with two binary operations called addition $+ : R \\times R \\to R$ and multiplication $\\times : R \\times R \\to R$ s.t.\n",
    "\n",
    "$(R, +)$ is an abelian group\n",
    "\n",
    "$(R, \\times)$ is a semi group\n",
    "\n",
    "Multiplication distributes over addition"
   ]
  },
  {
   "cell_type": "markdown",
   "metadata": {},
   "source": [
    "<span style=\"color: blue\">**DEFINITION**</span><br>\n",
    "\n",
    "A ***ring*** (ring with identity) has the additional property that there is a multiplicative identity element.\n",
    "\n",
    "This makes $(R, \\times)$ not a semi group but a monoid."
   ]
  },
  {
   "cell_type": "markdown",
   "metadata": {},
   "source": [
    "<span style=\"color: blue\">**DEFINITION**</span><br>\n",
    "\n",
    "A ***division ring*** has the additional property that there are multiplicative inverses for nonzero elements.\n",
    "\n",
    "This makes $(R, \\times)$ not a monoid but a group."
   ]
  },
  {
   "cell_type": "markdown",
   "metadata": {},
   "source": [
    "The set of polynomials $F[x]$ in x with coefficients belonging to a field F is a ring."
   ]
  },
  {
   "cell_type": "markdown",
   "metadata": {},
   "source": [
    "---"
   ]
  },
  {
   "cell_type": "markdown",
   "metadata": {},
   "source": [
    "### Fields\n",
    "\n",
    "a.k.a. commutative division ring"
   ]
  },
  {
   "cell_type": "markdown",
   "metadata": {},
   "source": [
    "Informally, a field is two abelian groups.\n",
    "\n",
    "Formally, a field is a triple $(F, +, \\times)$ s.t. $(F, +)$ is an additive abelian group; $(F \\setminus \\{0\\}, \\times)$ is an abelian group; and multiplication distributes over addition."
   ]
  },
  {
   "cell_type": "markdown",
   "metadata": {},
   "source": [
    "A field is a commutative ring where $0 \\ne 1$ (i.e., the additive identity element is not the multiplicative identity element) and every non-zero element is invertible.\n",
    "\n",
    "Fields can be thought of as systems of numbers.\n",
    "\n",
    "Examples of fields\n",
    "* $\\mathbb{R}$ the field of real numbers\n",
    "* $\\mathbb{C}$ the field of complex numbers\n",
    "* $GF(2)$ the Galois field of order $2$"
   ]
  },
  {
   "cell_type": "markdown",
   "metadata": {},
   "source": [
    "A field is a tuple $(F, +, \\cdot)$ that consists of a set and two operations called _addition_ and _multiplication_ satisfying the following properties:<br>\n",
    "\n",
    "* Additive Closure\n",
    "$a, b \\in F \\rightarrow a + b \\in F$\n",
    "* Additive Commutativity\n",
    "$a + b = b + a$\n",
    "* Additive Associativity\n",
    "$a + (b + c) = (a + b) + c$\n",
    "* Existence of the Additive Identity Element\n",
    "$\\exists 0 \\in F, \\forall a \\in F, a + 0 = a$\n",
    "* Existence of Additive Inverse Elements\n",
    "$\\forall a \\in F, \\exists -a \\in F, a + (-a) = 0$\n",
    "* Multiplicative Closure\n",
    "$a, b \\in F \\rightarrow a \\cdot b \\in F$\n",
    "* Multiplicative Commutativity\n",
    "$a \\cdot b = b \\cdot a$\n",
    "* Multiplicative Associativity\n",
    "$a \\cdot (b \\cdot c) = (a \\cdot b) \\cdot c$\n",
    "* Existence of the Multiplicative Identity Element\n",
    "$\\exists 1 \\in F, \\forall a \\in F, a \\cdot 1 = a$\n",
    "* Existence of Multiplicative Inverse Elements\n",
    "$\\forall a \\ne 0 \\in F, \\exists a^{-1} \\in F, a \\cdot a^{-1} = 1$\n",
    "* Distributivity\n",
    "$a \\cdot (b + c) = a \\cdot b + a \\cdot c$\n",
    "\n",
    "In other words, a field\n",
    "* is an abelian group under addition\n",
    "* the nonzero elements are an abelian group under multiplication\n",
    "* the distributive law holds\n",
    "\n",
    "Subtraction<br>\n",
    "$a - b \\equiv a + (-b)$<br>\n",
    "\n",
    "Division<br>\n",
    "$a \\div b \\equiv a \\cdot b^{-1}$<br>\n",
    "\n",
    "Additional properties of fields:\n",
    "* $a0 = 0 \\,\\,\\,\\forall a \\in F$\n",
    "* $(ab = 0) \\rightarrow (a = 0 \\lor b = 0)$ (if the product ab is zero, then at least one of a or b is zero)\n",
    "* $(a \\ne 0 \\land b \\ne 0) \\rightarrow (ab \\ne 0)$ (the product of two nonzero elements is nonzero)\n",
    "\n",
    "Infinite Fields\n",
    "* $\\mathbb{R}$ the set of real numbers\n",
    "* $\\mathbb{C}$ the set of complex numbers"
   ]
  },
  {
   "cell_type": "markdown",
   "metadata": {},
   "source": [
    "---"
   ]
  },
  {
   "cell_type": "markdown",
   "metadata": {},
   "source": [
    "### Vector Spaces"
   ]
  },
  {
   "cell_type": "markdown",
   "metadata": {},
   "source": [
    "<span style=\"color: blue\">**DEFINITION**</span><br>\n",
    "\n",
    "A ***vector space*** (linear space) is an additive abelian group with a field action.\n",
    "\n",
    "A vector space over a field $\\mathbf{F}$ is also called an $\\mathbf{F}$ vector space.\n",
    "\n",
    "A vector space over a field $\\mathbf{F}$ is a set $V$ with two binary operations called (vector) addition $+ : V \\times V \\to V$ and scalar multiplication $\\mathbf{F} \\times V \\to V$\n",
    "\n",
    "A vector space (linear space) is a set whose elements (called vectors) may be added and multiplied (\"scaled\") by numbers called scalars. Scalars may be real numbers, complex numbers, or any field elements. The operations of vector addition and scalar multiplication must satisfy the vector axioms. The terms \"real vector space\" and \"complex vector space\" specify the nature of the scalars: real coordinate space or complex coordinate space."
   ]
  },
  {
   "cell_type": "markdown",
   "metadata": {},
   "source": [
    "<span style=\"color: green\">Example</span><br>\n",
    "\n",
    "The set of arrows (or vectors) with a common origin in two-dimensional space is an additive abelian group. The set of real numbers $\\mathbb{R}$ act on these arrows by scaling them. If $g$ is an arrow then $2g$ doubles its length; $0g$ takes its length to zero; and $-1g$ reverses its direction and halves its length."
   ]
  },
  {
   "cell_type": "markdown",
   "metadata": {},
   "source": [
    "---"
   ]
  },
  {
   "cell_type": "markdown",
   "metadata": {},
   "source": [
    "## Some well-known algebraic structures"
   ]
  },
  {
   "cell_type": "markdown",
   "metadata": {},
   "source": [
    "<div class=\"full-width\">\n",
    "\n",
    "$\n",
    "\\begin{aligned}\n",
    "(\\mathbb{Z},      +)         && \\infty &\\quad \\text{abelian group} &\\quad \\text{} \\\\\n",
    "(\\mathbb{Z}, \\times)         && \\infty &\\quad \\text{commutative monoid} &\\quad \\text{} \\\\\n",
    "(\\mathbb{Z}, +, \\times)      && \\infty &\\quad \\text{commutative ring with identity} &\\quad \\text{} \\\\\n",
    "(\\{ 0 \\}, +)                 &&      1 &\\quad \\\\\n",
    "(\\{ 0 \\}, \\times)            &&      1 &\\quad \\\\\n",
    "(\\{ 0, 1 \\}, +)              &&      2 &\\quad \\\\\n",
    "(\\{ 0, 1 \\}, \\times)         &&      2 &\\quad \\\\\n",
    "(\\mathbb{N},      +)         && \\infty &\\quad \\text{commutative monoid} &\\quad \\text{} \\\\\n",
    "(\\mathbb{N}, +, \\lt)         && \\infty &\\quad \\\\\n",
    "(\\mathbb{N}, \\times)         && \\infty &\\quad \\text{commutative monoid} &\\quad \\text{} \\\\\n",
    "(\\mathbb{P},      +)         && \\infty &\\quad \\text{commutative semi-group} &\\quad \\text{} \\\\\n",
    "(\\mathbb{P}, \\times)         && \\infty &\\quad \\text{commutative semi-group} &\\quad \\text{} \\\\\n",
    "(\\mathbb{E},      +)         && \\infty &\\quad \\text{} &\\quad \\text{} \\\\\n",
    "(\\mathbb{E}, \\times)         && \\infty &\\quad \\text{} &\\quad \\text{} \\\\\n",
    "(\\mathbb{O},      +)         && \\infty &\\quad \\text{} &\\quad \\text{} \\\\\n",
    "(\\mathbb{O}, \\times)         && \\infty &\\quad \\text{} &\\quad \\text{} \\\\\n",
    "(\\mathbb{Z}^-,      +)       && \\infty &\\quad \\text{} &\\quad \\text{} \\\\\n",
    "(\\mathbb{Z}^-, \\times)       && \\infty &\\quad \\text{} &\\quad \\text{} \\\\\n",
    "(\\mathbb{Z}_m,      +)       && \\infty &\\quad \\text{} &\\quad \\text{} \\\\\n",
    "(\\mathbb{Z}_m, \\times)       && \\infty &\\quad \\text{} &\\quad \\text{} \\\\\n",
    "(\\mathbb{Q},      +)         && \\infty &\\quad \\text{abelian group} &\\quad \\text{} \\\\\n",
    "(\\mathbb{Q}, \\times)         && \\infty &\\quad \\text{commutative monoid} &\\quad \\text{} \\\\\n",
    "(\\mathbb{Q} \\setminus \\{0\\}, \\times) && \\infty &\\quad \\text{abelian group} &\\quad \\text{} \\\\\n",
    "(\\mathbb{Q}, +, \\times)      && \\infty &\\quad \\text{commutative ring with identity} &\\quad \\text{} \\\\\n",
    "((0, 1), +)                  && \\infty &\\quad \\\\\n",
    "((0, 1), \\times)             && \\infty &\\quad \\\\\n",
    "(\\mathbb{R},      +)         && \\infty &\\quad \\text{} &\\quad \\text{} \\\\\n",
    "(\\mathbb{R}, \\times)         && \\infty &\\quad \\text{} &\\quad \\text{} \\\\\n",
    "(\\mathbb{R}, +, \\times)      && \\infty &\\quad \\text{commutative ring with identity} &\\quad \\text{} \\\\\n",
    "(\\mathbb{R}, +, \\times, \\lt) && \\infty &\\quad \\\\\n",
    "(\\mathbb{C},      +)         && \\infty &\\quad \\text{} &\\quad \\text{} \\\\\n",
    "(\\mathbb{C}, \\times)         && \\infty &\\quad \\text{} &\\quad \\text{} \\\\\n",
    "(\\mathbb{C}, +, \\times)      && \\infty &\\quad \\text{commutative ring with identity} &\\quad \\text{} \\\\\n",
    "(  \\Sigma^*,      *)         && \\infty &\\quad \\text{monoid}                 &\\quad \\text{all strings over an alphabet under string concatenation} \\\\\n",
    "\\end  {aligned}\n",
    "$\n",
    "\n",
    "</div>"
   ]
  },
  {
   "cell_type": "markdown",
   "metadata": {},
   "source": [
    "---"
   ]
  },
  {
   "cell_type": "markdown",
   "metadata": {},
   "source": [
    "$(\\{ 0 \\}, +)$\n",
    "* closed\n",
    "\n",
    "$(\\{ 0 \\}, \\times)$\n",
    "* closed\n",
    "\n",
    "$(\\{ 0, 1 \\}, +)$\n",
    "* not closed\n",
    "\n",
    "$(\\{ 0, 1 \\}, \\times)$\n",
    "* closed\n",
    "\n",
    "$((0, 1), +)$ the open interval\n",
    "* not closed\n",
    "\n",
    "$((0, 1), \\times)$ the open interval\n",
    "* closed"
   ]
  },
  {
   "cell_type": "markdown",
   "metadata": {},
   "source": [
    "---"
   ]
  },
  {
   "cell_type": "markdown",
   "metadata": {},
   "source": [
    "### Integers\n",
    "\n",
    "Algebraic properties of integer arithmetic.\n",
    "\n",
    "$\\mathbb{Z} = \\{ \\dots, -2, -1, 0, 1, 2, \\dots \\}$"
   ]
  },
  {
   "cell_type": "markdown",
   "metadata": {},
   "source": [
    "The set of integers under addition $(\\mathbb{Z}, +)$ is an abelian group.\n",
    "\n",
    "$\n",
    "\\begin{aligned}\n",
    "\\forall a, b    \\in \\mathbb{Z} &\\quad a + b      \\in \\mathbb{Z} &\\quad& \\text{additive closure} \\\\\n",
    "\\forall a, b, c \\in \\mathbb{Z} &\\quad (a + b) + c = a + (b + c) &\\quad& \\text{additive associativity} \\\\\n",
    "\\exists 0 \\in \\mathbb{Z} \\,\\, \\forall a \\in \\mathbb{Z} &\\quad a + 0 = a &\\quad& \\text{existence of the identity element} \\\\\n",
    "\\forall a \\in \\mathbb{Z} \\,\\, \\exists (-a) \\in \\mathbb{Z} &\\quad a + (-a) = 0 &\\quad& \\text{inverse elements} \\\\\n",
    "\\forall a, b    \\in \\mathbb{Z} &\\quad a + b = b + a             &\\quad& \\text{additive commutativity} \\\\\n",
    "\\end  {aligned}\n",
    "$"
   ]
  },
  {
   "cell_type": "markdown",
   "metadata": {},
   "source": [
    "The set of integers under multiplication $(\\mathbb{Z}, \\times)$ is not a group but a commutative monoid.\n",
    "\n",
    "$\n",
    "\\begin{aligned}\n",
    "\\forall a, b    \\in \\mathbb{Z} &\\quad ab \\in \\mathbb{Z} &\\quad& \\text{multiplicative closure} \\\\\n",
    "\\forall a, b, c \\in \\mathbb{Z} &\\quad (ab)c = a(bc)     &\\quad& \\text{multiplicative associativity} \\\\\n",
    "\\exists 1 \\in \\mathbb{Z} \\,\\, \\forall a \\in \\mathbb{Z} &\\quad a \\times 1 = a &\\quad& \\text{existence of the identity element} \\\\\n",
    "\\forall a, b    \\in \\mathbb{Z} &\\quad ab = ba           &\\quad& \\text{multiplicative commutativity} \\\\\n",
    "\\end  {aligned}\n",
    "$"
   ]
  },
  {
   "cell_type": "markdown",
   "metadata": {},
   "source": [
    "<div style=\"background-color: red;\">\n",
    "Multiplicative Inverse Elements\n",
    "\n",
    "Only $1$ and $-1$ have integer multiplicative inverses.\n",
    "</div>"
   ]
  },
  {
   "cell_type": "markdown",
   "metadata": {},
   "source": [
    "The set of integers under addition and multiplication $(\\mathbb{Z}, +, \\times)$ is a commutative ring with unity."
   ]
  },
  {
   "cell_type": "markdown",
   "metadata": {},
   "source": [
    "Distributivity of Multiplication over Addition\n",
    "\n",
    "$\\forall a, b, c \\in \\mathbb{Z} \\,\\, [\\,\\, a \\cdot (b + c) = a \\cdot b + a \\cdot c \\,\\,]$"
   ]
  },
  {
   "cell_type": "markdown",
   "metadata": {},
   "source": [
    "<div style=\"background-color: red;\">\n",
    "Distributivity of Addition over Multiplication\n",
    "\n",
    "$2 + (3 \\times 4) = 14 \\ne 30 = 2 + 3 \\times 2 + 4$\n",
    "</div>"
   ]
  },
  {
   "cell_type": "markdown",
   "metadata": {},
   "source": [
    "---"
   ]
  },
  {
   "cell_type": "markdown",
   "metadata": {},
   "source": [
    "### Nonnegative Integers\n",
    "\n",
    "Algebraic properties of nonnegative-integer arithmetic.\n",
    "\n",
    "$\\mathbb{N} = \\{ 0, 1, 2, 3, \\dots \\}$"
   ]
  },
  {
   "cell_type": "markdown",
   "metadata": {},
   "source": [
    "The set of nonnegative integers under addition $(\\mathbb{N}, +)$ is a commutative monoid.\n",
    "\n",
    "$\n",
    "\\begin{aligned}\n",
    "\\forall a, b    \\in \\mathbb{N} &\\quad a + b      \\in \\mathbb{N} &\\quad& \\text{additive closure} \\\\\n",
    "\\forall a, b, c \\in \\mathbb{N} &\\quad (a + b) + c = a + (b + c) &\\quad& \\text{additive associativity} \\\\\n",
    "\\exists 0 \\in \\mathbb{N} \\,\\, \\forall a \\in \\mathbb{N} &\\quad a + 0 = a &\\quad& \\text{existence of the identity element} \\\\\n",
    "\\forall a, b    \\in \\mathbb{N} &\\quad a + b = b + a             &\\quad& \\text{additive commutativity} \\\\\n",
    "\\end  {aligned}\n",
    "$"
   ]
  },
  {
   "cell_type": "markdown",
   "metadata": {},
   "source": [
    "The set of nonnegative integers under multiplication $(\\mathbb{N}, \\times)$ is a commutative monoid.\n",
    "\n",
    "$\n",
    "\\begin{aligned}\n",
    "\\forall a, b    \\in \\mathbb{N} &\\quad ab      \\in \\mathbb{N} &\\quad& \\text{multiplicative closure} \\\\\n",
    "\\forall a, b, c \\in \\mathbb{N} &\\quad (ab)c = a(bc)          &\\quad& \\text{multiplicative associativity} \\\\\n",
    "\\exists 1 \\in \\mathbb{N} \\,\\, \\forall a \\in \\mathbb{N} &\\quad a \\times 1 = a &\\quad& \\text{existence of the identity element} \\\\\n",
    "\\forall a, b    \\in \\mathbb{N} &\\quad ab = ba                &\\quad& \\text{multiplicative commutativity} \\\\\n",
    "\\end  {aligned}\n",
    "$"
   ]
  },
  {
   "cell_type": "markdown",
   "metadata": {},
   "source": [
    "The nonnegative integers are not closed under subtraction.\n",
    "\n",
    "$1, 2 \\in \\mathbb{N} \\quad 1 - 2 \\not\\in \\mathbb{N}$"
   ]
  },
  {
   "cell_type": "markdown",
   "metadata": {},
   "source": [
    "The nonnegative integers are not closed under division.\n",
    "\n",
    "$1, 2 \\in \\mathbb{N} \\quad 1 / 2 \\not\\in \\mathbb{N}$"
   ]
  },
  {
   "cell_type": "markdown",
   "metadata": {},
   "source": [
    "---"
   ]
  },
  {
   "cell_type": "markdown",
   "metadata": {},
   "source": [
    "### Positive Integers\n",
    "\n",
    "Algebraic properties of positive-integer arithmetic.\n",
    "\n",
    "$\\mathbb{P} = \\mathbb{Z}^+ = \\{ 1, 2, 3, \\dots \\}$"
   ]
  },
  {
   "cell_type": "markdown",
   "metadata": {},
   "source": [
    "The set of positive integers under addition $(\\mathbb{P}, +)$ is a commutative semigroup.\n",
    "\n",
    "$\n",
    "\\begin{aligned}\n",
    "\\forall a, b    \\in \\mathbb{P} &\\quad a + b      \\in \\mathbb{P} &\\quad& \\text{additive closure} \\\\\n",
    "\\forall a, b, c \\in \\mathbb{P} &\\quad (a + b) + c = a + (b + c) &\\quad& \\text{additive associativity} \\\\\n",
    "\\forall a, b    \\in \\mathbb{P} &\\quad a + b = b + a             &\\quad& \\text{additive commutativity} \\\\\n",
    "\\end  {aligned}\n",
    "$"
   ]
  },
  {
   "cell_type": "markdown",
   "metadata": {},
   "source": [
    "The set of positive integers under multiplication $(\\mathbb{P}, \\times)$ is a commutative semigroup.\n",
    "\n",
    "$\n",
    "\\begin{aligned}\n",
    "\\forall a, b    \\in \\mathbb{P} &\\quad ab         \\in \\mathbb{P} &\\quad& \\text{multiplicative closure} \\\\\n",
    "\\forall a, b, c \\in \\mathbb{P} &\\quad (ab)c = a(bc)             &\\quad& \\text{multiplicative associativity} \\\\\n",
    "\\forall a, b    \\in \\mathbb{P} &\\quad ab = ba                   &\\quad& \\text{multiplicative commutativity} \\\\\n",
    "\\end  {aligned}\n",
    "$"
   ]
  },
  {
   "cell_type": "markdown",
   "metadata": {},
   "source": [
    "The positive integers are not closed under subtraction.\n",
    "\n",
    "$1, 2 \\in \\mathbb{P} \\quad 1 - 2 \\not\\in \\mathbb{P}$"
   ]
  },
  {
   "cell_type": "markdown",
   "metadata": {},
   "source": [
    "The positive integers are not closed under division.\n",
    "\n",
    "$1, 2 \\in \\mathbb{P} \\quad 1 / 2 \\not\\in \\mathbb{P}$"
   ]
  },
  {
   "cell_type": "markdown",
   "metadata": {},
   "source": [
    "---"
   ]
  },
  {
   "cell_type": "markdown",
   "metadata": {},
   "source": [
    "### Even Integers\n",
    "\n",
    "Algebraic properties of even-integer arithmetic.\n",
    "\n",
    "$\\mathbb{E} = \\{ \\dots, -4, -2, 0, 2, 4, \\dots \\}$"
   ]
  },
  {
   "cell_type": "markdown",
   "metadata": {},
   "source": [
    "---"
   ]
  },
  {
   "cell_type": "markdown",
   "metadata": {},
   "source": [
    "### Odd Integers\n",
    "\n",
    "Algebraic properties of odd-integer arithmetic.\n",
    "\n",
    "$\\mathbb{O} = \\{ \\dots, -3, -1, 1, 3, \\dots \\}$"
   ]
  },
  {
   "cell_type": "markdown",
   "metadata": {},
   "source": [
    "---"
   ]
  },
  {
   "cell_type": "markdown",
   "metadata": {},
   "source": [
    "### Negative Integers\n",
    "\n",
    "Algebraic properties of negative-integer arithmetic.\n",
    "\n",
    "$\\mathbb{Z}^- = \\{ -1, -2, -3, \\dots \\}$"
   ]
  },
  {
   "cell_type": "markdown",
   "metadata": {},
   "source": [
    "---"
   ]
  },
  {
   "cell_type": "markdown",
   "metadata": {},
   "source": [
    "### Modular Integers\n",
    "\n",
    "Algebraic properties of modular-integer arithmetic.\n",
    "\n",
    "$\n",
    "\\begin{aligned}\n",
    "\\mathbb{Z}_m\n",
    "= \\,\\, & \\{ [0]_m, [1]_m, [2]_m, \\dots, [m - 1]_m \\} \\\\\n",
    " & \\{ \\bar{0}, \\bar{1}, \\bar{2}, \\dots, \\overline{m - 1} \\} \\\\\n",
    " & \\{ 0, 1, 2, \\dots, m - 1 \\} \\\\\n",
    "\\end  {aligned}\n",
    "$"
   ]
  },
  {
   "cell_type": "markdown",
   "metadata": {},
   "source": [
    "---"
   ]
  },
  {
   "cell_type": "markdown",
   "metadata": {},
   "source": [
    "### Rationals\n",
    "\n",
    "Algebraic properties of rational arithmetic.\n",
    "\n",
    "$\\mathbb{Q} = \\left\\{ \\frac{p}{q} : p, q \\in \\mathbb{Z}, q \\ne 0 \\right\\}$"
   ]
  },
  {
   "cell_type": "markdown",
   "metadata": {},
   "source": [
    "The set of rationals under addition $(\\mathbb{Q}, +)$ is an abelian group.\n",
    "\n",
    "$\n",
    "\\begin{aligned}\n",
    "\\forall a, b    \\in \\mathbb{Q} &\\quad a + b      \\in \\mathbb{Q} &\\quad& \\text{additive closure} \\\\\n",
    "\\forall a, b, c \\in \\mathbb{Q} &\\quad (a + b) + c = a + (b + c) &\\quad& \\text{additive associativity} \\\\\n",
    "\\exists 0 \\in \\mathbb{Q} \\,\\, \\forall a \\in \\mathbb{Q} &\\quad a + 0 = a &\\quad& \\text{existence of the identity element} \\\\\n",
    "\\forall a \\in \\mathbb{Q} \\,\\, \\exists (-a) \\in \\mathbb{Q} &\\quad a + (-a) = 0 &\\quad& \\text{inverse elements} \\\\\n",
    "\\forall a, b    \\in \\mathbb{Q} &\\quad a + b = b + a             &\\quad& \\text{additive commutativity} \\\\\n",
    "\\end  {aligned}\n",
    "$"
   ]
  },
  {
   "cell_type": "markdown",
   "metadata": {},
   "source": [
    "The set of rationals under multiplication $(\\mathbb{Q}, \\times)$ is a commutative monoid.\n",
    "\n",
    "The set of rationals sans $0$ under multiplication $(\\mathbb{Q} \\setminus \\{0\\}, \\times)$ is an abelian group.\n",
    "\n",
    "$\n",
    "\\begin{aligned}\n",
    "\\forall a, b    \\in \\mathbb{Q} &\\quad a \\times b      \\in \\mathbb{Q} &\\quad& \\text{multiplicative closure} \\\\\n",
    "\\forall a, b, c \\in \\mathbb{Q} &\\quad (a \\times b) \\times c = a \\times (b \\times c) &\\quad& \\text{multiplicative associativity} \\\\\n",
    "\\exists 1 \\in \\mathbb{Q} \\,\\, \\forall a \\in \\mathbb{Q} &\\quad a \\times 1 = a &\\quad& \\text{existence of the identity element} \\\\\n",
    "\\forall a \\in \\mathbb{Q} \\setminus \\{0\\} \\,\\, \\exists a^{-1} \\in \\mathbb{Q} \\setminus \\{0\\} &\\quad a \\times a^{-1} = 1 &\\quad& \\text{inverse elements} \\\\\n",
    "\\forall a, b    \\in \\mathbb{Q} &\\quad a \\times b = b \\times a             &\\quad& \\text{multiplicative commutativity} \\\\\n",
    "\\end  {aligned}\n",
    "$"
   ]
  },
  {
   "cell_type": "markdown",
   "metadata": {},
   "source": [
    "The set of rational numbers under addition and multiplication $(\\mathbb{Q}, +, \\times)$ is a commutative ring with identity and satisfies the requirements of a field."
   ]
  },
  {
   "cell_type": "markdown",
   "metadata": {},
   "source": [
    "Distributivity of Multiplication over Addition\n",
    "\n",
    "$\\forall a, b, c \\in \\mathbb{Q} \\,\\, [\\,\\, a \\cdot (b + c) = a \\cdot b + a \\cdot c \\,\\,]$"
   ]
  },
  {
   "cell_type": "markdown",
   "metadata": {},
   "source": [
    "#### Proofs"
   ]
  },
  {
   "cell_type": "markdown",
   "metadata": {},
   "source": [
    "Closure under addition.\n",
    "\n",
    "Let $\\frac{a}{b}, \\frac{c}{d} \\in \\mathbb{Q}$.\n",
    "\n",
    "$a, b, c, d \\in \\mathbb{Z}; b, d \\ne 0$\n",
    "\n",
    "$\n",
    "\\frac{a}{b} + \\frac{c}{d}\n",
    "= \\frac{a}{b} \\frac{d}{d} + \\frac{c}{d} \\frac{b}{b}\n",
    "= \\frac{ad + bc}{bd}\n",
    "$\n",
    "\n",
    "$ad + bc, bd \\in \\mathbb{Z}; bd \\ne 0$\n",
    "\n",
    "$\\therefore \\frac{ad + bc}{bd} \\in \\mathbb{Q}$\n",
    "\n",
    "$\\blacksquare$"
   ]
  },
  {
   "cell_type": "markdown",
   "metadata": {},
   "source": [
    "Additive associativity.\n",
    "\n",
    "$\n",
    "\\begin{aligned}\n",
    "  & \\left( \\frac{a}{b} + \\frac{c}{d} \\right) + \\frac{e}{f} \\\\\n",
    "= & \\frac{ad + bc}{bd} + \\frac{e}{f} \\\\\n",
    "= & \\frac{ad + bc}{bd} \\frac{f}{f} + \\frac{e}{f} \\frac{bd}{bd} \\\\\n",
    "= & \\frac{adf + bcf + bde}{bdf} \\\\\n",
    "= & \\frac{a}{b} \\frac{df}{df} + \\frac{cf + de}{df} \\frac{b}{b} \\\\\n",
    "= & \\frac{a}{b} + \\frac{cf + de}{df} \\\\\n",
    "= & \\frac{a}{b} + \\left( \\frac{c}{d} + \\frac{e}{f} \\right) \\\\\n",
    "\\end  {aligned}\n",
    "$\n",
    "\n",
    "$\\blacksquare$"
   ]
  },
  {
   "cell_type": "markdown",
   "metadata": {},
   "source": [
    "Additive identity element.\n",
    "\n",
    "Let $\\frac{a}{b}$ be a rational number.\n",
    "\n",
    "$a, b \\in \\mathbb{Z}; b \\ne 0$\n",
    "\n",
    "$\\frac{a}{b} + \\frac{0}{b} = \\frac{a}{b}$\n",
    "\n",
    "$\\blacksquare$"
   ]
  },
  {
   "cell_type": "markdown",
   "metadata": {},
   "source": [
    "Additive inverse elements.\n",
    "\n",
    "Let $\\frac{a}{b}$ be a rational number.\n",
    "\n",
    "$a, b \\in \\mathbb{Z}; b \\ne 0$\n",
    "\n",
    "$\\frac{a}{b} + \\frac{-a}{b} = 0$\n",
    "\n",
    "$\\blacksquare$"
   ]
  },
  {
   "cell_type": "markdown",
   "metadata": {},
   "source": [
    "Additive commutativity.\n",
    "\n",
    "$\n",
    "\\begin{aligned}\n",
    "  & \\frac{a}{b} + \\frac{c}{d} \\\\\n",
    "= & \\frac{ad + bc}{bd} \\\\\n",
    "= & \\frac{bc + ad}{bd} \\\\\n",
    "= & \\frac{bc}{bd} + \\frac{ad}{bd} \\\\\n",
    "= & \\frac{c}{d} + \\frac{a}{b} \\\\\n",
    "\\end  {aligned}\n",
    "$\n",
    "\n",
    "$\\blacksquare$"
   ]
  },
  {
   "cell_type": "markdown",
   "metadata": {},
   "source": [
    "Closure under multiplication.\n",
    "\n",
    "Let $\\frac{a}{b}, \\frac{c}{d} \\in \\mathbb{Q}$.\n",
    "\n",
    "$a, b, c, d \\in \\mathbb{Z}; b, d \\ne 0$\n",
    "\n",
    "$\n",
    "\\frac{a}{b} \\frac{c}{d}\n",
    "= \\frac{ac}{bd}\n",
    "$\n",
    "\n",
    "$ac, bd \\in \\mathbb{Z}; bd \\ne 0$\n",
    "\n",
    "$\\therefore \\frac{ac}{bd} \\in \\mathbb{Q}$\n",
    "\n",
    "$\\blacksquare$"
   ]
  },
  {
   "cell_type": "markdown",
   "metadata": {},
   "source": [
    "---"
   ]
  },
  {
   "cell_type": "markdown",
   "metadata": {},
   "source": [
    "### Reals\n",
    "\n",
    "Algebraic properties of real arithmetic.\n",
    "\n",
    "$\\mathbb{R}$"
   ]
  },
  {
   "cell_type": "markdown",
   "metadata": {},
   "source": [
    "The set of real numbers under addition and multiplication $(\\mathbb{R}, +, \\times)$ is a commutative ring with identity and satisfies the requirements of a field."
   ]
  },
  {
   "cell_type": "markdown",
   "metadata": {},
   "source": [
    "---"
   ]
  },
  {
   "cell_type": "markdown",
   "metadata": {},
   "source": [
    "### Complex Numbers\n",
    "\n",
    "Algebraic properties of complex arithmetic.\n",
    "\n",
    "$\\mathbb{C} = \\left\\{ a + bi : a, b \\in \\mathbb{Z} \\right\\}$"
   ]
  },
  {
   "cell_type": "markdown",
   "metadata": {},
   "source": [
    "The set of complex numbers under addition and multiplication $(\\mathbb{C}, +, \\times)$ is a commutative ring with identity and satisfies the requirements of a field."
   ]
  },
  {
   "cell_type": "markdown",
   "metadata": {},
   "source": [
    "---"
   ]
  },
  {
   "cell_type": "markdown",
   "metadata": {},
   "source": [
    "### Strings\n",
    "\n",
    "Algebraic properties of string operations."
   ]
  },
  {
   "cell_type": "markdown",
   "metadata": {},
   "source": [
    "The set of all strings including the empty string $\\varepsilon$ over an alphabet $\\Sigma$ under string concatenation $(\\Sigma^*, *)$ is a monoid.\n",
    "\n",
    "$\n",
    "\\begin{aligned}\n",
    "\\forall w_1, w_2      \\in \\Sigma^* &\\quad w_1w_2 \\in \\Sigma^*       &\\quad& \\text{closure under string concatenation} \\\\\n",
    "\\forall w_1, w_2, w_3 \\in \\Sigma^* &\\quad (w_1w_2)w_3 = w_1(w_2w_3) &\\quad& \\text{associativity of string concatenation} \\\\\n",
    "\\exists \\varepsilon \\in \\Sigma^* \\,\\, \\forall w \\in \\Sigma^* &\\quad \\varepsilon w = w &\\quad& \\text{existence of the identity element}\n",
    "\\end  {aligned}\n",
    "$"
   ]
  },
  {
   "cell_type": "markdown",
   "metadata": {},
   "source": [
    "---"
   ]
  }
 ],
 "metadata": {
  "language_info": {
   "name": "python"
  }
 },
 "nbformat": 4,
 "nbformat_minor": 2
}
