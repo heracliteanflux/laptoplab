{
 "cells": [
  {
   "cell_type": "markdown",
   "metadata": {},
   "source": [
    "# Algebra"
   ]
  },
  {
   "cell_type": "markdown",
   "metadata": {},
   "source": [
    "---"
   ]
  },
  {
   "cell_type": "markdown",
   "metadata": {},
   "source": [
    "## Contents\n",
    "```{contents}\n",
    "```"
   ]
  },
  {
   "cell_type": "markdown",
   "metadata": {},
   "source": [
    "---"
   ]
  },
  {
   "cell_type": "markdown",
   "metadata": {},
   "source": [
    "## Sections\n",
    "```{tableofcontents}\n",
    "```"
   ]
  },
  {
   "cell_type": "markdown",
   "metadata": {},
   "source": [
    "---"
   ]
  },
  {
   "cell_type": "markdown",
   "metadata": {},
   "source": [
    "## Resources"
   ]
  },
  {
   "cell_type": "markdown",
   "metadata": {},
   "source": [
    "Other\n",
    "* https://math.okstate.edu/people/binegar/3613/3613-l14.pdf\n",
    "* https://www.math.wustl.edu/~wright/Math109/M&MCh08.pdf\n",
    "* https://www.math.toronto.edu/fiona/courses/mat240/field.pdf"
   ]
  },
  {
   "cell_type": "markdown",
   "metadata": {},
   "source": [
    "### YouTube"
   ]
  },
  {
   "cell_type": "markdown",
   "metadata": {},
   "source": [
    "* [ [y](https://www.youtube.com/watch?v=mvmuCPvRoWQ) ] 3Blue1Brown. (2017). Euler's formula with introductory group theory.\n",
    "* [ [y](https://www.youtube.com/watch?v=mH0oCDa74tE) ] 3Blue1Brown. (2020). Group theory, abstraction, and the 196,883-dimensional monster.\n",
    "* [ [y](https://www.youtube.com/playlist?list=PL8yHsr3EFj51pjBvvCPipgAT3SYpIiIsJ) ] Richard E. Borcherd's Group Theory\n",
    "\n",
    "https://jasonmorton.github.io/LinearAlgebra/\n",
    "\n",
    "* [ [y](https://www.youtube.com/watch?v=i7vOAcUo5iA) ] freeCodeCamp. (23 Jan 2023). \"College Algebra - Full Course with Python Code\". YouTube.\n",
    "* [ [y](https://www.youtube.com/watch?v=eI4an8aSsgw) ] freeCodeCamp. (04 Aug 2020). \"Precalculus Course\". YouTube.\n",
    "* [ [y](https://www.youtube.com/watch?v=LwCRRUa8yTU) ] freeCodeCamp. (24 Jul 2020). \"College Algebra - Full Course\". YouTube.\n",
    "* [ [y](https://www.youtube.com/watch?v=PVoTRu3p6ug) ] Geek's Lesson. (05 Oct 2019). \"Algebra for Beginners | Basics of Algebra\". YouTube.\n",
    "* [ [y](https://www.youtube.com/playlist?list=PL8ee-0abi524XbDTEbCFt-WYLuQG0vGET) ] mathman1024. (26 May 2020). \"College Algebra (new)\". YouTube.\n",
    "* [ [y](https://www.youtube.com/playlist?list=PL8ee-0abi527xRJB4ihk9EFlOg-5Z4eZm) ] mathman1024. (07 Apr 2020). \"College Algebra (old)\". YouTube.\n",
    "* [ [y](https://www.youtube.com/watch?v=VW6LYuli7VU) ] `01-22-2014`. David Petro. \"Richard Feynman talks about Algebra\"."
   ]
  },
  {
   "cell_type": "markdown",
   "metadata": {},
   "source": [
    "---"
   ]
  },
  {
   "cell_type": "markdown",
   "metadata": {},
   "source": [
    "## Figures"
   ]
  },
  {
   "cell_type": "markdown",
   "metadata": {},
   "source": [
    "* [ [w](https://en.wikipedia.org/wiki/Niels_Henrik_Abel) ] Abel, Niels (1802-1829)\n",
    "* [ [w](https://en.wikipedia.org/wiki/Henri_Cartan) ] Cartan, Henri (1904-2008)\n",
    "* [ [w](https://en.wikipedia.org/wiki/Claude_Chevalley) ] Chevalley, Claude (1909-1984)\n",
    "* [ [w](https://en.wikipedia.org/wiki/Richard_Dedekind) ] Dedekind, Richard (1831-1916)\n",
    "* [ [w](https://en.wikipedia.org/wiki/Jean_Delsarte) ] Delsarte, Jean (1903-1968)\n",
    "* [ [w](https://en.wikipedia.org/wiki/Jean_Dieudonné) ] Dieudonné, Jean (1906-1992)\n",
    "* [ [w](https://en.wikipedia.org/wiki/Benjamin_Peirce) ] Peirce, Benjamin (1809-1880)\n",
    "* [ [w](https://en.wikipedia.org/wiki/André_Weil) ] Weil, André (1906-1998)"
   ]
  },
  {
   "cell_type": "markdown",
   "metadata": {},
   "source": [
    "---"
   ]
  },
  {
   "cell_type": "markdown",
   "metadata": {},
   "source": [
    "## Terms"
   ]
  },
  {
   "cell_type": "markdown",
   "metadata": {},
   "source": [
    "* [ [w](https://en.wikipedia.org/wiki/Abelian_group) ] Abelian Group\n",
    "* [ [w](https://en.wikipedia.org/wiki/Abstract_algebra) ] Abstract Algebra\n",
    "* [ [w](https://en.wikipedia.org/wiki/Additive_identity) ] Additive Identity\n",
    "* [ [w](https://en.wikipedia.org/wiki/Additive_inverse) ] Additive Inverse\n",
    "* [ [w](https://en.wikipedia.org/wiki/Algebra) ] Algebra\n",
    "* [ [w](https://en.wikipedia.org/wiki/Algebra_over_a_field) ] Algebra (over a field)\n",
    "* [ [w](https://en.wikipedia.org/wiki/Algebraic_fraction) ] Algebraic Fraction\n",
    "* [ [w](https://en.wikipedia.org/wiki/Algebraic_logic) ] Algebraic Logic\n",
    "* [ [w](https://en.wikipedia.org/wiki/Solution_in_radicals) ] Algebraic Solution\n",
    "* [ [w](https://en.wikipedia.org/wiki/Algebraic_structure) ] Algebraic Structure\n",
    "* [ [w](https://en.wikipedia.org/wiki/Associative_property) ] Associativity\n",
    "* [ [w](https://en.wikipedia.org/wiki/Operator_associativity) ] Associativity (operator)\n",
    "* [ [w](https://en.wikipedia.org/wiki/Bijection) ] Bijection (one-to-one Correspondence)\n",
    "* [ [w](https://en.wikipedia.org/wiki/Bijection,_injection_and_surjection) ] bijection, injection, surjection\n",
    "* [ [w](https://en.wikipedia.org/wiki/Binary_relation) ] Binary Relation\n",
    "* [ [w](https://en.wikipedia.org/wiki/Boolean_algebra) ] Boolean Algebra\n",
    "* [ [w](https://en.wikipedia.org/wiki/Boolean_algebra_(structure)) ] Boolean Algebra (structure)\n",
    "* [ [w](https://en.wikipedia.org/wiki/Boolean_domain) ] Boolean Domain\n",
    "* [ [w](https://en.wikipedia.org/wiki/Codomain) ] Codomain\n",
    "* [ [w](https://en.wikipedia.org/wiki/Commensurability_(mathematics)) ] Commensurability\n",
    "* [ [w](https://en.wikipedia.org/wiki/Commutative_algebra) ] Commutative Algebra\n",
    "* [ [w](https://en.wikipedia.org/wiki/Commutative_ring) ] Commutative Ring\n",
    "* [ [w](https://en.wikipedia.org/wiki/Commutative_property) ] Commutativity\n",
    "* [ [w](https://en.wikipedia.org/wiki/Composition_of_relations) ] Composition of Relations\n",
    "* [ [w](https://en.wikipedia.org/wiki/Computer_algebra) ] Computer Algebra\n",
    "* [ [w](https://en.wikipedia.org/wiki/Congruence_relation) ] Congruence Relation\n",
    "* [ [w](https://en.wikipedia.org/wiki/Constant_function) ] Constant Function\n",
    "* [ [w](https://en.wikipedia.org/wiki/Converse_relation) ] Converse Relation\n",
    "* [ [w](https://en.wikipedia.org/wiki/Cubic_equation) ] Cubic Equation\n",
    "* [ [w](https://en.wikipedia.org/wiki/Dedekind_cut) ] Dedekind Cut\n",
    "* [ w ] Denominator\n",
    "* [ [w](https://en.wikipedia.org/wiki/Distributive_property) ] Distributivity\n",
    "* [ [w](https://en.wikipedia.org/wiki/Division_ring) ] Division Ring\n",
    "* [ [w](https://en.wikipedia.org/wiki/Domain_of_a_function) ] Domain\n",
    "* [ [w](https://en.wikipedia.org/wiki/Elementary_algebra) ] Elementary Algebra\n",
    "* [ [w](https://en.wikipedia.org/wiki/Equation) ] Equation\n",
    "* [ [w](https://en.wikipedia.org/wiki/Equation_solving) ] Equation Solving\n",
    "* [ [w](https://en.wikipedia.org/wiki/Equipollence_(geometry)) ] Equipollence\n",
    "* [ [w](https://en.wikipedia.org/wiki/Equivalence_relation) ] Equivalence Relation\n",
    "* [ [w](https://en.wikipedia.org/wiki/Euclidean_domain) ] Euclidean Domain\n",
    "* [ [w](https://en.wikipedia.org/wiki/Expression_(mathematics)) ] Expression\n",
    "* [ [w](https://en.wikipedia.org/wiki/Field_(mathematics)) ] Field\n",
    "* [ [w](https://en.wikipedia.org/wiki/Finitary_relation) ] Finitary Relation\n",
    "* [ [w](https://en.wikipedia.org/wiki/Fraction) ] Fraction\n",
    "* [ [w](https://en.wikipedia.org/wiki/Function_(mathematics)) ] Function\n",
    "* [ [w](https://en.wikipedia.org/wiki/Function_composition) ] Function Composition\n",
    "* [ [w](https://en.wikipedia.org/wiki/Restriction_(mathematics)) ] Function Restriction\n",
    "* [ [w](https://en.wikipedia.org/wiki/Fundamental_theorem_of_algebra) ] Fundamental Theorem of Algebra\n",
    "* [ [w](https://en.wikipedia.org/wiki/GF(2)) ] GF(2)\n",
    "* [ [w](https://en.wikipedia.org/wiki/Group_(mathematics)) ] Group\n",
    "* [ [w](https://en.wikipedia.org/wiki/Homogeneous_relation) ] Homogeneous Relation\n",
    "* [ [w](https://en.wikipedia.org/wiki/Ideal_(ring_theory)) ] Ideal\n",
    "* [ [w](https://en.wikipedia.org/wiki/Ideal_theory) ] Ideal Theory\n",
    "* [ [w](https://en.wikipedia.org/wiki/Idempotent_(ring_theory)) ] Idempotency\n",
    "* [ [w](https://en.wikipedia.org/wiki/Identity_element) ] Identity Element\n",
    "* [ [w](https://en.wikipedia.org/wiki/Image_(mathematics)) ] Image\n",
    "* [ [w](https://en.wikipedia.org/wiki/Injective_function) ] Injection (one-to-one)\n",
    "* [ [w](https://en.wikipedia.org/wiki/Integer) ] Integer\n",
    "* [ [w](https://en.wikipedia.org/wiki/Inverse_element) ] Inverse Element\n",
    "* [ [w](https://en.wikipedia.org/wiki/Irrational_number) ] Irrational Number\n",
    "* [ [w](https://en.wikipedia.org/wiki/Irreducible_fraction) ] Irreducible Fraction\n",
    "* [ [w](https://en.wikipedia.org/wiki/Magma_(algebra)) ] Magma\n",
    "* [ [w](https://en.wikipedia.org/wiki/Map_(mathematics)) ] Map\n",
    "* [ [w](https://en.wikipedia.org/wiki/Mathematical_structure) ] Mathematical Structure\n",
    "* [ [w](https://en.wikipedia.org/wiki/Module_(mathematics)) ] Module\n",
    "* [ [w](https://en.wikipedia.org/wiki/Monoid) ] Monoid\n",
    "* [ [w](https://en.wikipedia.org/wiki/Multiplicative_inverse) ] Multiplicative Inverse\n",
    "* [ [w](https://en.wikipedia.org/wiki/Nicolas_Bourbaki) ] Nicolas Bourbaki\n",
    "* [ [w](https://en.wikipedia.org/wiki/Nilpotent) ] Nilpotency\n",
    "* [ [w](https://en.wikipedia.org/wiki/Noncommutative_ring) ] Noncommutative Ring\n",
    "* [ w ] Numerator\n",
    "* [ [w](https://en.wikipedia.org/wiki/Operand) ] Operand\n",
    "* [ [w](https://en.wikipedia.org/wiki/Operation_(mathematics)) ] Operation\n",
    "* [ [w](https://en.wikipedia.org/wiki/Binary_operation) ] Operation, Binary\n",
    "* [ [w](https://en.wikipedia.org/wiki/Unary_operation) ] Operation, Unary\n",
    "* [ [w](https://en.wikipedia.org/wiki/Operator_(mathematics)) ] Operator\n",
    "* [ [w](https://en.wikipedia.org/wiki/Partial_function) ] Partial Function\n",
    "* [ w ] Pre Image\n",
    "* [ [w](https://en.wikipedia.org/wiki/Proportionality_(mathematics)) ] Proportionality\n",
    "* [ [w](https://en.wikipedia.org/wiki/Quadratic_equation) ] Quadratic Equation\n",
    "* [ [w](https://en.wikipedia.org/wiki/Quartic_equation) ] Quartic Equation\n",
    "* [ [w](https://en.wikipedia.org/wiki/Range_of_a_function) ] Range\n",
    "* [ [w](https://en.wikipedia.org/wiki/Ratio) ] Ratio\n",
    "* [ [w](https://en.wikipedia.org/wiki/Rational_number) ] Rational Number\n",
    "* [ [w](https://en.wikipedia.org/wiki/Real_number) ] Real Number\n",
    "* [ [w](https://en.wikipedia.org/wiki/Construction_of_the_real_numbers) ] Real Number, construction\n",
    "* [ [w](https://en.wikipedia.org/wiki/Reflexive_relation) ] Reflexive Relation\n",
    "* [ [w](https://en.wikipedia.org/wiki/Relation_(mathematics)) ] Relation\n",
    "* [ [w](https://en.wikipedia.org/wiki/Relation_(database)) ] Relation (database)\n",
    "* [ [w](https://en.wikipedia.org/wiki/Relation_algebra) ] Relation Algebra\n",
    "* [ [w](https://en.wikipedia.org/wiki/Relational_algebra) ] Relational Algebra\n",
    "* [ [w](https://en.wikipedia.org/wiki/Ring_theory) ] Ring Theory\n",
    "* [ [w](https://en.wikipedia.org/wiki/Rng_(algebra)) ] Rng\n",
    "* [ [w](https://en.wikipedia.org/wiki/Semigroup) ] Semi Group\n",
    "* [ [w](https://en.wikipedia.org/wiki/Special_classes_of_semigroups) ] Semi Group, cases\n",
    "* [ [w](https://en.wikipedia.org/wiki/Semigroup_with_three_elements) ] Semi Group with three elements\n",
    "* [ [w](https://en.wikipedia.org/wiki/Surjective_function) ] Surjection (onto)\n",
    "* [ [w](https://en.wikipedia.org/wiki/Symmetric_relation) ] Symmetric Relation\n",
    "* [ [w](https://en.wikipedia.org/wiki/Theory_of_equations) ] Theory of Equations\n",
    "* [ [w](https://en.wikipedia.org/wiki/Transformation_(function)) ] Transformation\n",
    "* [ [w](https://en.wikipedia.org/wiki/Transitive_relation) ] Transitive Relation\n",
    "* [ [w](https://en.wikipedia.org/wiki/Two-element_Boolean_algebra) ] Two-Element Boolean Algebra\n",
    "* [ [w](https://en.wikipedia.org/wiki/Unit_(ring_theory)) ] Unit\n",
    "* [ [w](https://en.wikipedia.org/wiki/Universal_algebra) ] Universal Algebra\n",
    "* [ [w](https://en.wikipedia.org/wiki/Vector_space) ] Vector Space\n",
    "* [ [w](https://en.wikipedia.org/wiki/Zero_divisor) ] Zero Divisor"
   ]
  },
  {
   "cell_type": "markdown",
   "metadata": {},
   "source": [
    "---"
   ]
  }
 ],
 "metadata": {
  "language_info": {
   "name": "python"
  }
 },
 "nbformat": 4,
 "nbformat_minor": 2
}
