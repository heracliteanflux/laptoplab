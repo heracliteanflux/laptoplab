{
 "cells": [
  {
   "cell_type": "markdown",
   "metadata": {},
   "source": [
    "# Figures"
   ]
  },
  {
   "cell_type": "markdown",
   "metadata": {},
   "source": [
    "---"
   ]
  },
  {
   "cell_type": "markdown",
   "metadata": {},
   "source": [
    "## Contents\n",
    "```{contents}\n",
    "```"
   ]
  },
  {
   "cell_type": "markdown",
   "metadata": {},
   "source": [
    "---"
   ]
  },
  {
   "cell_type": "markdown",
   "metadata": {},
   "source": [
    "## Greek"
   ]
  },
  {
   "cell_type": "markdown",
   "metadata": {},
   "source": [
    "* [ [w](https://en.wikipedia.org/wiki/Apollonius_of_Perga) ] `c240--190,BCE` Apollonius of Perga ἀπολλώνιος ὁ περγαῖος\n",
    "* [ [w](https://en.wikipedia.org/wiki/Aratus) ] `c315--240,BCE` Aratus of Soli ἄρατος ὁ σολεύς\n",
    "* [ [w](https://en.wikipedia.org/wiki/Archimedes) ] `c287--212,BCE` Archimedes of Syracuse ἀρχιμήδης\n",
    "* [ [w](https://en.wikipedia.org/wiki/Aristarchus_of_Samos) ] `c310--230,BCE` Aristarchus of Samos ἀρίσταρχος ὁ σάμιος\n",
    "  * [ [w](https://en.wikipedia.org/wiki/Heliocentrism) ] Heliocentrism\n",
    "* [ [w](https://en.wikipedia.org/wiki/Callippus) ] `c370--300,BCE` Callipus κάλλιππος\n",
    "* [ [w](https://en.wikipedia.org/wiki/Eratosthenes) ] `c276--195,BCE` Eratosthenes of Cyrene ἐρατοσθένης\n",
    "* [ [w](https://en.wikipedia.org/wiki/Euclid) ] `3rd Cent.,BCE` Euclid of Alexandria εὐκλείδης ὁ ἀλεξανδρεύς\n",
    "  * [ [w](https://en.wikipedia.org/wiki/Euclid%27s_Elements) ] Elements στοιχεῖα\n",
    "* [ [w](https://en.wikipedia.org/wiki/Eudoxus_of_Cnidus) ] `c408--355,BCE` Eudoxus of Cnidus εὔδοξος ὁ κνίδιος\n",
    "* [ [w](https://en.wikipedia.org/wiki/Hipparchus) ] `c190--120,BCE` Hipparchus ἴππαρχος\n",
    "* [ [w](https://en.wikipedia.org/wiki/Hippocrates_of_Chios) ] `c470--410,BCE` Hippocrates of Chios ἱπποκράτης ὁ χῖος\n",
    "* [ [w](https://en.wikipedia.org/wiki/John_Philoponus) ] `c490--570, CE` John Philoponus ἰωάννης ὁ φιλόπονος\n",
    "* [ [w](https://en.wikipedia.org/wiki/Menaechmus) ] `c380--320,BCE` Menaechmus μέναιχμος\n",
    "* [ [w](https://en.wikipedia.org/wiki/Meton_of_Athens) ] `5th Cent.,BCE` Meton of Athens μέτων ὁ ἀθηναῖος\n",
    "* [ [w](https://en.wikipedia.org/wiki/Pappus_of_Alexandria) ] `c290--350, CE` Pappus of Alexandria πάππος ὁ ἀλεξανδρεύς\n",
    "* [ [w](https://en.wikipedia.org/wiki/Ptolemy) ] `c100--170, CE` Ptolemy πτολεμαῖος\n",
    "* [ [w](https://en.wikipedia.org/wiki/Theaetetus_(mathematician)) ] `c417--369,BCE` Theaetetus of Athens θεαίτητος\n",
    "* [ [w](https://en.wikipedia.org/wiki/Theodosius_of_Bithynia) ] `c169--100,BCE` Theodosius of Bithynia θεοδόσιος\n",
    "  * [ [w](https://en.wikipedia.org/wiki/Sphaerics) ] Sphaerics σφαιρικά"
   ]
  },
  {
   "cell_type": "markdown",
   "metadata": {},
   "source": [
    "---"
   ]
  },
  {
   "cell_type": "markdown",
   "metadata": {},
   "source": [
    "## Medieval"
   ]
  },
  {
   "cell_type": "markdown",
   "metadata": {},
   "source": [
    "* [ [w](https://en.wikipedia.org/wiki/Jean_Buridan) ][ [s](https://plato.stanford.edu/entries/buridan/) ] `1301-1362` Buridan, Jean/John (Johannes Buridanus)\n",
    "  * [ [w](https://en.wikipedia.org/wiki/Buridan%27s_ass) ] Buridan's Ass\n",
    "* [ [w](https://en.wikipedia.org/wiki/Gerolamo_Cardano) ][ s ] `1501-1576` Cardano, Gerolamo\n",
    "* [ [w](https://en.wikipedia.org/wiki/Nicolaus_Copernicus) ][ [s](https://plato.stanford.edu/entries/copernicus/) ] `1473-1543` Copernicus, Nicolas\n",
    "* [ [w](https://en.wikipedia.org/wiki/Leonardo_da_Vinci) ][ s ] `1452-1519` Da Vinci, Leonardo"
   ]
  },
  {
   "cell_type": "markdown",
   "metadata": {},
   "source": [
    "---"
   ]
  },
  {
   "cell_type": "markdown",
   "metadata": {},
   "source": [
    "## 17th Century"
   ]
  },
  {
   "cell_type": "markdown",
   "metadata": {},
   "source": [
    "* [ [w](https://en.wikipedia.org/wiki/Galileo_Galilei) ][ [s](https://plato.stanford.edu/entries/galileo/) ] `1564-1642` Galilei, Galileo\n",
    "* [ [w](https://en.wikipedia.org/wiki/Guillaume_de_l%27H%C3%B4pital) ][ s ] `1661-1704` L'Hôpital, Guillaume de\n",
    "* [ [w](https://en.wikipedia.org/wiki/Gottfried_Wilhelm_Leibniz) ][ s ] `1646-1716` Leibniz, Gottfried Wilhelm\n",
    "* [ [w](https://en.wikipedia.org/wiki/Isaac_Newton) ][ s ] `1642-1726` Newton, Isaac\n",
    "  * [ [w](https://en.wikipedia.org/wiki/Philosophi%C3%A6_Naturalis_Principia_Mathematica) ] _Philosophiæ Naturalis Principia Mathematica_\n",
    "* [ [w](https://en.wikipedia.org/wiki/Michel_Rolle) ][ s ] `1652-1719` Rolle, Michel"
   ]
  },
  {
   "cell_type": "markdown",
   "metadata": {},
   "source": [
    "---"
   ]
  },
  {
   "cell_type": "markdown",
   "metadata": {},
   "source": [
    "## 18th Century"
   ]
  },
  {
   "cell_type": "markdown",
   "metadata": {},
   "source": [
    "* [ [w](https://en.wikipedia.org/wiki/Nicolaus_I_Bernoulli) ] `1687-1759` Bernoulli, Nicolas\n",
    "* [ [w](https://en.wikipedia.org/wiki/Alexis_Clairaut) ] `1713-1765` Clairaut, Alexis\n",
    "* [ [w](https://en.wikipedia.org/wiki/Leonhard_Euler) ] `1707-1783` Euler, Leonhard\n",
    "* [ [w](https://en.wikipedia.org/wiki/Joseph-Louis_Lagrange) ] `1736-1813` Lagrange, Joseph-Louis\n",
    "* [ [w](https://en.wikipedia.org/wiki/Pierre-Simon_Laplace) ] `1749-1827` Laplace, Pierre-Simon\n",
    "  * [ [w](https://en.wikipedia.org/wiki/Trait%C3%A9_de_m%C3%A9canique_c%C3%A9leste) ] _Traité de mécanique céleste_\n",
    "* [ [w](https://en.wikipedia.org/wiki/Colin_Maclaurin) ] `1698-1746` Maclaurin, Colin\n",
    "* [ [w](https://en.wikipedia.org/wiki/Brook_Taylor) ] `1685-1731` Taylor, Brook"
   ]
  },
  {
   "cell_type": "markdown",
   "metadata": {},
   "source": [
    "---"
   ]
  },
  {
   "cell_type": "markdown",
   "metadata": {},
   "source": [
    "## 19th Century"
   ]
  },
  {
   "cell_type": "markdown",
   "metadata": {},
   "source": [
    "* [ [w](https://en.wikipedia.org/wiki/George_Boole) ] `1815-1864` Boole, George\n",
    "* [ [w](https://en.wikipedia.org/wiki/Georg_Cantor) ] `1845-1918` Cantor, Georg\n",
    "* [ [w](https://en.wikipedia.org/wiki/Augustin-Louis_Cauchy) ] `1789-1857` Cauchy, Augustin-Louis\n",
    "* [ [w](https://en.wikipedia.org/wiki/Louis_Couturat) ] `1868-1914` Couturat, Louis\n",
    "* [ [w](https://en.wikipedia.org/wiki/Augustus_De_Morgan) ] `1806-1871` De Morgan, Augustus\n",
    "* [ [w](https://en.wikipedia.org/wiki/Richard_Dedekind) ] `1831-1916` Dedekind, Richard\n",
    "  * [ [s](https://plato.stanford.edu/entries/dedekind-foundations/) ] Dedekind's Contributions to the Foundations of Mathematics\n",
    "* [ [w](https://en.wikipedia.org/wiki/Augustus_De_Morgan) ] `1806-1871` De Morgan, Augustus\n",
    "* [ [w](https://en.wikipedia.org/wiki/Gottlob_Frege) ] `1848-1925` Frege, Gottlob\n",
    "* [ [w](https://en.wikipedia.org/wiki/%C3%89variste_Galois) ] `1811-1832` Galois, Évariste\n",
    "* [ [w](https://en.wikipedia.org/wiki/Carl_Friedrich_Gauss) ] `1777-1855` Gauss, Carl Friedrich\n",
    "  * [ w ] Disquisitiones Arithmeticae (number theory)\n",
    "* [ [w](https://en.wikipedia.org/wiki/Otto_Hesse) ] `1811-1874` Hesse, Ludwig\n",
    "* [ [w](https://en.wikipedia.org/wiki/Charles_Sanders_Peirce) ] `1839-1914` Peirce, Charles Sanders\n",
    "* [ [w](https://en.wikipedia.org/wiki/Bernhard_Riemann) ] `1826-1866` Riemann, Bernhard\n",
    "* [ [w](https://en.wikipedia.org/wiki/Sir_George_Stokes,_1st_Baronet) ] `1819-1903` Stokes, George\n",
    "* [ [w](https://en.wikipedia.org/wiki/Karl_Weierstrass) ] `1815-1897` Weierstrass, Karl"
   ]
  },
  {
   "cell_type": "markdown",
   "metadata": {},
   "source": [
    "---"
   ]
  },
  {
   "cell_type": "markdown",
   "metadata": {},
   "source": [
    "## 20th Century"
   ]
  },
  {
   "cell_type": "markdown",
   "metadata": {},
   "source": [
    "* [ [w](https://en.wikipedia.org/wiki/L._E._J._Brouwer) ] `1881-1966` Brouwer, L. E. J.\n",
    "* [ [w](https://en.wikipedia.org/wiki/Jean_Dieudonn%C3%A9) ] `1906-1992` Dieudonné, Jean\n",
    "* [ [w](https://en.wikipedia.org/wiki/Guido_Fubini) ] `1879-1943` Fubini, Guido\n",
    "* [ [w](https://en.wikipedia.org/wiki/David_Hilbert) ] `1862-1943` Hilbert, David\n",
    "* [ [w](https://en.wikipedia.org/wiki/Henri_Lebesgue) ] `1875-1941` Lebesgue, Henri\n",
    "* [ [w](https://en.wikipedia.org/wiki/Giuseppe_Peano) ] `1858-1932` Peano, Giuseppe\n",
    "* [ [w](https://en.wikipedia.org/wiki/Henri_Poincar%C3%A9) ] `1854-1912` Poincaré, Henri\n",
    "* [ [w](https://en.wikipedia.org/wiki/Bertrand_Russell) ] `1872-1970` Russell, Bertrand\n",
    "* [ [w](https://en.wikipedia.org/wiki/Alan_Turing) ] `1912-1954` Turing, Alan\n",
    "* [ [w](https://en.wikipedia.org/wiki/Ludwig_Wittgenstein) ] `1889-1951` Wittgenstein, Ludwig"
   ]
  },
  {
   "cell_type": "markdown",
   "metadata": {},
   "source": [
    "---"
   ]
  },
  {
   "cell_type": "markdown",
   "metadata": {},
   "source": [
    "* [ [w](https://en.wikipedia.org/wiki/Ferdinand_Georg_Frobenius) ] Frobenius, Ferdinand, Georg (1849-1917)\n",
    "* [ [w](https://en.wikipedia.org/wiki/Henri_Pad%C3%A9) ] Padé, Henri (1863-1953)"
   ]
  }
 ],
 "metadata": {
  "language_info": {
   "name": "python"
  },
  "orig_nbformat": 4
 },
 "nbformat": 4,
 "nbformat_minor": 2
}
