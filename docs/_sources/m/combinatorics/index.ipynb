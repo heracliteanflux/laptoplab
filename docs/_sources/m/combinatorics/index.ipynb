{
 "cells": [
  {
   "cell_type": "markdown",
   "metadata": {},
   "source": [
    "# Combinatorics"
   ]
  },
  {
   "cell_type": "markdown",
   "metadata": {},
   "source": [
    "---"
   ]
  },
  {
   "cell_type": "markdown",
   "metadata": {},
   "source": [
    "## Contents\n",
    "```{contents}\n",
    "```"
   ]
  },
  {
   "cell_type": "markdown",
   "metadata": {},
   "source": [
    "---"
   ]
  },
  {
   "cell_type": "markdown",
   "metadata": {},
   "source": [
    "## Figures"
   ]
  },
  {
   "cell_type": "markdown",
   "metadata": {},
   "source": [
    "* [ [w](https://en.wikipedia.org/wiki/Hermann_Schubert) ] `1848-1911` Schubert, Hermann\n",
    "* [ [w](https://en.wikipedia.org/wiki/Zhu_Shijie) ] `1249-1314` Shijie, Zhu\n",
    "* [ [w](https://en.wikipedia.org/wiki/Alexandre-Th%C3%A9ophile_Vandermonde) ] `1735-1796` Vandermonde, Alexandre-Théophile\n",
    "* [ [w](https://en.wikipedia.org/wiki/Alfred_Young_(mathematician)) ] `1873-1940` Young, Alfred"
   ]
  },
  {
   "cell_type": "markdown",
   "metadata": {},
   "source": [
    "---"
   ]
  },
  {
   "cell_type": "markdown",
   "metadata": {},
   "source": [
    "## Terms"
   ]
  },
  {
   "cell_type": "markdown",
   "metadata": {},
   "source": [
    "* [ [w](https://en.wikipedia.org/wiki/Cardinality) ] Cardinality\n",
    "* [ [w](https://en.wikipedia.org/wiki/Combination) ] Combination\n",
    "* [ [w](https://en.wikipedia.org/wiki/Combinatorics) ] Combinatorics\n",
    "* [ [w](https://en.wikipedia.org/wiki/Countable_set) ] Countability\n",
    "* [ [w](https://en.wikipedia.org/wiki/Counting) ] Counting\n",
    "* [ [w](https://en.wikipedia.org/wiki/Double_counting_(proof_technique)) ] Double Counting\n",
    "* [ [w](https://en.wikipedia.org/wiki/Enumerative_combinatorics) ] Enumerative Combinatorics\n",
    "* [ [w](https://en.wikipedia.org/wiki/Falling_and_rising_factorials) ] Falling Factorial\n",
    "* [ [w](https://en.wikipedia.org/wiki/Partition_of_a_set) ] Partition\n",
    "* [ [w](https://en.wikipedia.org/wiki/Pascal%27s_rule) ] Pascal's Rule\n",
    "* [ [w](https://en.wikipedia.org/wiki/Pascal%27s_triangle) ] Pascal's Triangle\n",
    "* [ [w](https://en.wikipedia.org/wiki/Permutation) ] Permutation\n",
    "* [ [w](https://en.wikipedia.org/wiki/Parity_of_a_permutation) ] Permutation Parity\n",
    "* [ [w](https://en.wikipedia.org/wiki/Q-analog) ] q-Analog\n",
    "* [ [w](https://en.wikipedia.org/wiki/Q-Vandermonde_identity) ] q-Vandermonde Identity\n",
    "* [ [w](https://en.wikipedia.org/wiki/Schubert_calculus) ] Schubert Calculus\n",
    "* [ [w](https://en.wikipedia.org/wiki/Uncountable_set) ] Uncountability\n",
    "* [ [w](https://en.wikipedia.org/wiki/Vandermonde%27s_identity) ] Vandermonde's Identity\n",
    "* [ [w](https://en.wikipedia.org/wiki/Young_tableau) ] Young Tableau"
   ]
  },
  {
   "cell_type": "markdown",
   "metadata": {},
   "source": [
    "---"
   ]
  }
 ],
 "metadata": {
  "language_info": {
   "name": "python"
  }
 },
 "nbformat": 4,
 "nbformat_minor": 2
}
