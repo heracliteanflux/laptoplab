{
 "cells": [
  {
   "cell_type": "markdown",
   "metadata": {},
   "source": [
    "# Combinatorics"
   ]
  },
  {
   "cell_type": "markdown",
   "metadata": {},
   "source": [
    "---"
   ]
  },
  {
   "cell_type": "markdown",
   "metadata": {},
   "source": [
    "## Contents\n",
    "```{contents}\n",
    "```"
   ]
  },
  {
   "cell_type": "markdown",
   "metadata": {},
   "source": [
    "---"
   ]
  },
  {
   "cell_type": "markdown",
   "metadata": {},
   "source": [
    "## Terms"
   ]
  },
  {
   "cell_type": "markdown",
   "metadata": {},
   "source": [
    "* [ [w](https://en.wikipedia.org/wiki/Cardinality) ] Cardinality\n",
    "* [ [w](https://en.wikipedia.org/wiki/Combination) ] Combination\n",
    "* [ [w](https://en.wikipedia.org/wiki/Combinatorics) ] Combinatorics\n",
    "* [ [w](https://en.wikipedia.org/wiki/Countable_set) ] Countability\n",
    "* [ [w](https://en.wikipedia.org/wiki/Counting) ] Counting\n",
    "* [ [w](https://en.wikipedia.org/wiki/Double_counting_(proof_technique)) ] Double Counting\n",
    "* [ [w](https://en.wikipedia.org/wiki/Enumerative_combinatorics) ] Enumerative Combinatorics\n",
    "* [ [w](https://en.wikipedia.org/wiki/Partition_of_a_set) ] Partition\n",
    "* [ [w](https://en.wikipedia.org/wiki/Permutation) ] Permutation\n",
    "* [ [w](https://en.wikipedia.org/wiki/Parity_of_a_permutation) ] Permutation Parity\n",
    "* [ [w](https://en.wikipedia.org/wiki/Uncountable_set) ] Uncountability"
   ]
  },
  {
   "cell_type": "markdown",
   "metadata": {},
   "source": [
    "---"
   ]
  }
 ],
 "metadata": {
  "language_info": {
   "name": "python"
  }
 },
 "nbformat": 4,
 "nbformat_minor": 2
}
