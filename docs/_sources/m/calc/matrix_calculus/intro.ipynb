{
 "cells": [
  {
   "attachments": {},
   "cell_type": "markdown",
   "metadata": {},
   "source": [
    "# Matrix Calculus"
   ]
  },
  {
   "attachments": {},
   "cell_type": "markdown",
   "metadata": {},
   "source": [
    "---"
   ]
  },
  {
   "attachments": {},
   "cell_type": "markdown",
   "metadata": {},
   "source": [
    "```{admonition} Revised\n",
    "17 Jun 2023\n",
    "```\n",
    "```{contents}\n",
    "```"
   ]
  },
  {
   "attachments": {},
   "cell_type": "markdown",
   "metadata": {},
   "source": [
    "---"
   ]
  },
  {
   "attachments": {},
   "cell_type": "markdown",
   "metadata": {},
   "source": [
    ". | scalar | vector | matrix\n",
    " -|--------|--------|-\n",
    "scalar | $\\begin{aligned}\\frac{\\partial y}{\\partial x}\\end{aligned}$ | $\\begin{aligned}\\frac{\\partial\\mathbf{y}}{\\partial x}\\end{aligned}$ | $\\begin{aligned}\\frac{\\partial\\mathbf{Y}}{\\partial x}\\end{aligned}$\n",
    "vector | $\\begin{aligned}\\frac{\\partial y}{\\partial\\mathbf{x}}\\end{aligned}$ | $\\begin{aligned}\\frac{\\partial\\mathbf{y}}{\\partial\\mathbf{x}}\\end{aligned}$\n",
    "matrix | $\\begin{aligned}\\frac{\\partial y}{\\partial\\mathbf{X}}\\end{aligned}$"
   ]
  },
  {
   "attachments": {},
   "cell_type": "markdown",
   "metadata": {},
   "source": [
    "## scalar-by-scalar\n",
    "derivative of a scalar (function) wrt a scalar"
   ]
  },
  {
   "attachments": {},
   "cell_type": "markdown",
   "metadata": {},
   "source": [
    "[example]\n",
    "\n",
    "$\n",
    "\\begin{aligned}\n",
    "f(x) &= kx\n",
    "\\\\\n",
    "\\frac{df}{dx} &= k\n",
    "\\end{aligned}\n",
    "$"
   ]
  },
  {
   "attachments": {},
   "cell_type": "markdown",
   "metadata": {},
   "source": [
    "## scalar-by-vector\n",
    "derivative of a scalar (function) wrt a vector"
   ]
  },
  {
   "attachments": {},
   "cell_type": "markdown",
   "metadata": {},
   "source": [
    "$\n",
    "\\begin{aligned}\n",
    "\\mathbf{x}\n",
    "&= \\begin{bmatrix} x_1 & \\dots & x_n \\end{bmatrix}^\\top \\\\\n",
    "\\frac{\\partial y}{\\partial\\mathbf{x}}\n",
    "&= \\begin{bmatrix}\n",
    "\\frac{\\partial y}{\\partial x_1} & \\dots & \\frac{\\partial y}{\\partial x_n}\n",
    "\\end{bmatrix}\n",
    "\\end{aligned}\n",
    "$"
   ]
  },
  {
   "attachments": {},
   "cell_type": "markdown",
   "metadata": {},
   "source": [
    "An example from the vector calculus is the gradient vector.\n",
    "\n",
    "$\n",
    "\\begin{aligned}\n",
    "\\nabla f(\\mathbf{x})\n",
    "= \\frac{\\partial f}{\\partial\\mathbf{x}}\n",
    "= \\begin{bmatrix}\n",
    "\\frac{\\partial f}{\\partial x_1} & \\dots & \\frac{\\partial f}{\\partial x_n}\n",
    "\\end{bmatrix}\n",
    "\\end{aligned}\n",
    "$"
   ]
  },
  {
   "attachments": {},
   "cell_type": "markdown",
   "metadata": {},
   "source": [
    "## vector-by-scalar\n",
    "derivative of a vector (function) wrt a scalar"
   ]
  },
  {
   "attachments": {},
   "cell_type": "markdown",
   "metadata": {},
   "source": [
    "$\n",
    "\\begin{aligned}\n",
    "\\mathbf{y}\n",
    "&= \\begin{bmatrix} y_1 & \\dots & y_m \\end{bmatrix}^\\top \\\\\n",
    "\\frac{\\partial\\mathbf{y}}{\\partial x}\n",
    "&= \\begin{bmatrix}\n",
    "\\frac{\\partial y_1}{\\partial x} \\\\ \\dots \\\\ \\frac{\\partial y_m}{\\partial x} \\\\\n",
    "\\end{bmatrix}\n",
    "\\end{aligned}\n",
    "$"
   ]
  },
  {
   "attachments": {},
   "cell_type": "markdown",
   "metadata": {},
   "source": [
    "An example in the vector calculus is the tangent vector."
   ]
  },
  {
   "attachments": {},
   "cell_type": "markdown",
   "metadata": {},
   "source": [
    "## vector-by-vector\n",
    "derivative of a vector (function) wrt a vector\n",
    "\n",
    "taking the derivative of a linear transformation (not \"taking the derivative of a matrix\")"
   ]
  },
  {
   "attachments": {},
   "cell_type": "markdown",
   "metadata": {},
   "source": [
    "$\n",
    "\\begin{aligned}\n",
    "\\frac{\\partial\\mathbf{y}}{\\partial\\mathbf{x}}\n",
    "&= \\begin{bmatrix}\n",
    "\\frac{\\partial y_1}{\\partial x_1} & \\dots & \\frac{\\partial y_1}{\\partial x_n} \\\\\n",
    "\\vdots & \\ddots & \\vdots \\\\\n",
    "\\frac{\\partial y_m}{\\partial x_1} & \\dots & \\frac{\\partial y_m}{\\partial x_n} \\\\\n",
    "\\end{bmatrix}\n",
    "\\end{aligned}\n",
    "$"
   ]
  },
  {
   "attachments": {},
   "cell_type": "markdown",
   "metadata": {},
   "source": [
    "### Jacobian"
   ]
  },
  {
   "attachments": {},
   "cell_type": "markdown",
   "metadata": {},
   "source": [
    "An example from the vector calculus is the Jacobian."
   ]
  },
  {
   "attachments": {},
   "cell_type": "markdown",
   "metadata": {},
   "source": [
    "### $\\begin{aligned}\\frac{\\partial}{\\partial\\mathbf{x}} \\mathbf{Ax} = \\mathbf{A}\\end{aligned}$"
   ]
  },
  {
   "attachments": {},
   "cell_type": "markdown",
   "metadata": {},
   "source": [
    "[example]\n",
    "\n",
    "$\n",
    "\\begin{aligned}\n",
    "\\mathbf{f}(\\mathbf{x})\n",
    " = \\mathbf{Ax}\n",
    "&= \\begin{bmatrix}1&2\\\\3&4\\\\\\end{bmatrix} \\begin{bmatrix}x_1\\\\x_2\\\\\\end{bmatrix}\n",
    " = \\begin{bmatrix} x_1+2x_2 = f_1(\\mathbf{x}) \\\\ 3x_1+4x_2 = f_2(\\mathbf{x}) \\\\ \\end{bmatrix}\n",
    "\\\\\n",
    "\\frac{\\partial\\mathbf{f}}{\\partial\\mathbf{x}} &=\n",
    "\\begin{bmatrix}\n",
    "\\frac{\\partial f_1}{\\partial x_1} & \\frac{\\partial f_1}{\\partial x_2} \\\\\n",
    "\\frac{\\partial f_2}{\\partial x_1} & \\frac{\\partial f_2}{\\partial x_2} \\\\\n",
    "\\end{bmatrix}\n",
    "= \\begin{bmatrix}1&2\\\\3&4\\\\\\end{bmatrix}\n",
    "= \\mathbf{A}\n",
    "\\end{aligned}\n",
    "$"
   ]
  },
  {
   "attachments": {},
   "cell_type": "markdown",
   "metadata": {},
   "source": [
    "### $\\begin{aligned}\\frac{\\partial}{\\partial\\mathbf{x}} \\mathbf{x^\\top Ax} = 2\\mathbf{x^\\top A^\\top}\\end{aligned}$"
   ]
  },
  {
   "attachments": {},
   "cell_type": "markdown",
   "metadata": {},
   "source": [
    "[example]\n",
    "\n",
    "$\n",
    "\\begin{aligned}\n",
    "f(\\mathbf{x})\n",
    " = \\mathbf{x^\\top Ax}\n",
    "&= \\begin{bmatrix}x_1&x_2\\\\\\end{bmatrix}\n",
    "\\begin{bmatrix}\n",
    "a_{11} & a_{12} \\\\\n",
    "a_{21} & a_{22} \\\\\n",
    "\\end{bmatrix}\n",
    "\\begin{bmatrix}x_1\\\\x_2\\\\\\end{bmatrix}\n",
    "\\\\\n",
    "&= \\begin{bmatrix}x_1&x_2\\\\\\end{bmatrix}\n",
    "\\begin{bmatrix}\n",
    "a_{11}x_1 + a_{12}x_2 \\\\\n",
    "a_{21}x_1 + a_{22}x_2 \\\\\n",
    "\\end{bmatrix}\n",
    "\\\\\n",
    "&= \\begin{bmatrix} x_1(a_{11}x_1 + a_{12}x_2) + x_2(a_{21}x_1 + a_{22}x_2) \\end{bmatrix} \\\\\n",
    "&= \\begin{bmatrix} a_{11}x_1^2 + a_{12}x_1x_2 + a_{21}x_1x_2 + a_{22}x_2^2 \\end{bmatrix} \\\\\n",
    "&= \\begin{bmatrix} a_{11}x_1^2 + 2ax_1x_2 + a_{22}x_2^2 = f_1(\\mathbf{x}) \\end{bmatrix} && a_{12} = a_{21} \\, \\text{for a symmetric matrix} \\\\\n",
    "\\frac{\\partial\\mathbf{f}}{\\partial\\mathbf{x}} &=\n",
    "\\begin{bmatrix}\n",
    "\\frac{\\partial f_1}{\\partial x_1} & \\frac{\\partial f_1}{\\partial x_2} \\\\\n",
    "\\end{bmatrix}\n",
    "\\\\\n",
    "&= \\begin{bmatrix} 2a_{11}x_1 + 2ax_2 & 2ax_1 + 2a_{22}x_2 \\\\ \\end{bmatrix}\n",
    "\\\\\n",
    "&= 2 \\begin{bmatrix} a_{11}x_1 + ax_2 & ax_1 + a_{22}x_2 \\\\ \\end{bmatrix}\n",
    "\\\\\n",
    "&= 2(\\mathbf{Ax})^\\top\n",
    "\\\\\n",
    "&= 2\\mathbf{x^\\top A^\\top}\n",
    "\\end{aligned}\n",
    "$"
   ]
  },
  {
   "attachments": {},
   "cell_type": "markdown",
   "metadata": {},
   "source": [
    "## matrix-by-scalar\n",
    "derivative of a matrix (function) wrt a scalar\n",
    "\n",
    "this is called the tangent matrix"
   ]
  },
  {
   "attachments": {},
   "cell_type": "markdown",
   "metadata": {},
   "source": [
    "$\n",
    "\\begin{aligned}\n",
    "\\frac{\\partial\\mathbf{Y}}{\\partial x}\n",
    "&= \\begin{bmatrix}\n",
    "\\frac{\\partial y_{11}}{\\partial x} & \\dots & \\frac{\\partial y_{1n}}{\\partial x} \\\\\n",
    "\\vdots & \\ddots & \\vdots \\\\\n",
    "\\frac{\\partial y_{m1}}{\\partial x} & \\dots & \\frac{\\partial y_{mn}}{\\partial x} \\\\\n",
    "\\end{bmatrix}\n",
    "\\end{aligned}\n",
    "$"
   ]
  },
  {
   "attachments": {},
   "cell_type": "markdown",
   "metadata": {},
   "source": [
    "## scalar-by-matrix\n",
    "derivative of a scalar (function) wrt a matrix\n",
    "\n",
    "this is called the gradient matrix\n",
    "\n",
    "important examples of scalar functions of matrices include the trace of a matrix and the determinant"
   ]
  },
  {
   "attachments": {},
   "cell_type": "markdown",
   "metadata": {},
   "source": [
    "$\n",
    "\\begin{aligned}\n",
    "\\frac{\\partial y}{\\partial\\mathbf{X}}\n",
    "&= \\begin{bmatrix}\n",
    "\\frac{\\partial y}{\\partial x_{11}} & \\dots & \\frac{\\partial y}{\\partial x_{p1}} \\\\\n",
    "\\vdots & \\ddots & \\vdots \\\\\n",
    "\\frac{\\partial y}{\\partial x_{1q}} & \\dots & \\frac{\\partial y}{\\partial x_{pq}} \\\\\n",
    "\\end{bmatrix}\n",
    "\\end{aligned}\n",
    "$"
   ]
  },
  {
   "attachments": {},
   "cell_type": "markdown",
   "metadata": {},
   "source": [
    "---"
   ]
  },
  {
   "attachments": {},
   "cell_type": "markdown",
   "metadata": {},
   "source": [
    "## Resources"
   ]
  },
  {
   "attachments": {},
   "cell_type": "markdown",
   "metadata": {},
   "source": [
    "* [[Y](https://www.youtube.com/watch?v=e73033jZTCI)] ritvikmath. (09 Sep 2019). \"Derivative of a Matrix : Data Science Basics\". YouTube."
   ]
  },
  {
   "attachments": {},
   "cell_type": "markdown",
   "metadata": {},
   "source": [
    "---"
   ]
  },
  {
   "attachments": {},
   "cell_type": "markdown",
   "metadata": {},
   "source": [
    "## Terms"
   ]
  },
  {
   "attachments": {},
   "cell_type": "markdown",
   "metadata": {},
   "source": [
    "* [[W](https://en.wikipedia.org/wiki/Jacobian_matrix_and_determinant)] Jacobian\n",
    "* [[W](https://en.wikipedia.org/wiki/Matrix_calculus)] Matrix Calculus\n",
    "* [[W](https://en.wikipedia.org/wiki/Tangent_vector)] Tangent Vector"
   ]
  },
  {
   "attachments": {},
   "cell_type": "markdown",
   "metadata": {},
   "source": [
    "---"
   ]
  }
 ],
 "metadata": {
  "language_info": {
   "name": "python"
  },
  "orig_nbformat": 4
 },
 "nbformat": 4,
 "nbformat_minor": 2
}
