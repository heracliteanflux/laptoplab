{
 "cells": [
  {
   "attachments": {},
   "cell_type": "markdown",
   "metadata": {},
   "source": [
    "# Dot Product"
   ]
  },
  {
   "attachments": {},
   "cell_type": "markdown",
   "metadata": {},
   "source": [
    "---"
   ]
  },
  {
   "attachments": {},
   "cell_type": "markdown",
   "metadata": {},
   "source": [
    "```{admonition} Revised\n",
    "10 Mar 2023\n",
    "```\n",
    "```{contents}\n",
    "```"
   ]
  },
  {
   "attachments": {},
   "cell_type": "markdown",
   "metadata": {},
   "source": [
    "---"
   ]
  },
  {
   "attachments": {},
   "cell_type": "markdown",
   "metadata": {},
   "source": [
    "## Dot Product"
   ]
  },
  {
   "attachments": {},
   "cell_type": "markdown",
   "metadata": {},
   "source": [
    "---"
   ]
  },
  {
   "attachments": {},
   "cell_type": "markdown",
   "metadata": {},
   "source": [
    "### Algebraic Definition"
   ]
  },
  {
   "attachments": {},
   "cell_type": "markdown",
   "metadata": {},
   "source": [
    "To find the dot product of two vectors, we multiply corresponding components and add. The result of the dot product is not a vector, but a number called a scalar.\n",
    "\n",
    "If $\\mathbf{a}=\\langle a_1,...,a_n\\rangle$ and $\\mathbf{b}=\\langle b_1,...,b_n\\rangle$, then the dot product of $\\mathbf{a}$ and $\\mathbf{b}$ is the number $\\mathbf{a}\\cdot\\mathbf{b}$ given by\n",
    "\n",
    "$\n",
    "\\begin{aligned}\n",
    "\\mathbf{a}\\cdot\\mathbf{b}\n",
    "=\\sum_{i=1}^na_ib_i\n",
    "=a_1b_1+...+a_nb_n\n",
    "\\end{aligned}\n",
    "$\n",
    "\n",
    "If $\\mathbf{a}$ and $\\mathbf{b}$ are interpreted as column vectors, the dot product can be written as a matrix product.\n",
    "\n",
    "$\n",
    "\\begin{aligned}\n",
    "\\mathbf{a}\\cdot\\mathbf{b}\n",
    "=\\mathbf{a}^\\top\\mathbf{b}\n",
    "=\\begin{bmatrix}a_1&\\dots&a_n\\end{bmatrix}\\begin{bmatrix}b_1\\\\\\vdots\\\\ b_n\\end{bmatrix}\n",
    "\\end{aligned}\n",
    "$"
   ]
  },
  {
   "attachments": {},
   "cell_type": "markdown",
   "metadata": {},
   "source": [
    "---"
   ]
  },
  {
   "attachments": {},
   "cell_type": "markdown",
   "metadata": {},
   "source": [
    "### Geometric Definition"
   ]
  },
  {
   "attachments": {},
   "cell_type": "markdown",
   "metadata": {},
   "source": [
    "Let $\\theta$ be the angle between the representations of $\\mathbf{a}$ and $\\mathbf{b}$ that start at the origin, where $0\\le\\theta\\le\\pi$.\n",
    "\n",
    "In other words, let $\\mathbf{a}$ and $\\mathbf{b}$ be the line segments $\\vec{OA}$ and $\\vec{OB}$, respectively.\n",
    "\n",
    "$\\mathbf{a}\\cdot\\mathbf{b}=\\|\\mathbf{a}\\|\\|\\mathbf{b}\\|\\cos\\theta$\n",
    "\n",
    "If $\\mathbf{a}$ and $\\mathbf{b}$ are parallel, then $\\theta=0$.\n",
    "\n",
    "If $\\mathbf{a}$ and $\\mathbf{b}$ are antiparallel, then $\\theta=\\pi$."
   ]
  },
  {
   "attachments": {},
   "cell_type": "markdown",
   "metadata": {},
   "source": [
    "Proof\n",
    "\n",
    "from the Law of Cosines\n",
    "\n",
    "$\n",
    "\\begin{aligned}\n",
    "|AB|^2&=|OA|^2+|OB|^2-2|OA||OB|\\cos\\theta\\\\\n",
    "\\implies\\\\\n",
    "|\\mathbf{a}-\\mathbf{b}|^2\n",
    "&=|\\mathbf{a}|^2+|\\mathbf{b}|^2-2|\\mathbf{a}||\\mathbf{b}|\\cos\\theta\\\\\n",
    "\\end{aligned}\n",
    "$\n",
    "\n",
    "$\n",
    "\\begin{aligned}\n",
    "|\\mathbf{a}-\\mathbf{b}|^2\n",
    "&=(\\mathbf{a}-\\mathbf{b})\\cdot(\\mathbf{a}-\\mathbf{b})\\\\\n",
    "&=\\mathbf{a}\\cdot(\\mathbf{a}-\\mathbf{b})-\\mathbf{b}\\cdot(\\mathbf{a}-\\mathbf{b})\\\\\n",
    "&=\\mathbf{a}\\cdot\\mathbf{a}-\\mathbf{a}\\cdot\\mathbf{b}-\\mathbf{b}\\cdot\\mathbf{a}+\\mathbf{b}\\cdot\\mathbf{b}\\\\\n",
    "&=|\\mathbf{a}|^2-2\\mathbf{a}\\cdot\\mathbf{b}+|\\mathbf{b}|^2\\\\\n",
    "\\end{aligned}\n",
    "$\n",
    "\n",
    "$\n",
    "\\begin{aligned}\n",
    "|\\mathbf{a}-\\mathbf{b}|^2\n",
    "&=|\\mathbf{a}|^2+|\\mathbf{b}|^2-2|\\mathbf{a}||\\mathbf{b}|\\cos\\theta\\\\\n",
    "\\implies\\\\\n",
    "|\\mathbf{a}|^2-2\\mathbf{a}\\cdot\\mathbf{b}+|\\mathbf{b}|^2\n",
    "&=|\\mathbf{a}|^2+|\\mathbf{b}|^2-2|\\mathbf{a}||\\mathbf{b}|\\cos\\theta\\\\\n",
    "\\implies\\\\\n",
    "-2\\mathbf{a}\\cdot\\mathbf{b}\n",
    "&=-2|\\mathbf{a}||\\mathbf{b}|\\cos\\theta\\\\\n",
    "\\implies\\\\\n",
    "\\mathbf{a}\\cdot\\mathbf{b}\n",
    "&=|\\mathbf{a}||\\mathbf{b}|\\cos\\theta\\\\\n",
    "\\end{aligned}\n",
    "$\n",
    "\n",
    "$\n",
    "\\blacksquare\n",
    "$"
   ]
  },
  {
   "attachments": {},
   "cell_type": "markdown",
   "metadata": {},
   "source": [
    "---"
   ]
  },
  {
   "attachments": {},
   "cell_type": "markdown",
   "metadata": {},
   "source": [
    "### Corollary: the angle between two vectors"
   ]
  },
  {
   "attachments": {},
   "cell_type": "markdown",
   "metadata": {},
   "source": [
    "If $\\theta$ is the angle between the nonzero vectors $\\mathbf{a}$ and $\\mathbf{b}$, then\n",
    "\n",
    "$\n",
    "\\begin{aligned}\n",
    "\\cos\\theta=\\frac{\\mathbf{a}\\cdot\\mathbf{b}}{|\\mathbf{a}||\\mathbf{b}|}\n",
    "\\end{aligned}\n",
    "$"
   ]
  },
  {
   "attachments": {},
   "cell_type": "markdown",
   "metadata": {},
   "source": [
    "---"
   ]
  },
  {
   "attachments": {},
   "cell_type": "markdown",
   "metadata": {},
   "source": [
    "## Properties of the Dot Product"
   ]
  },
  {
   "attachments": {},
   "cell_type": "markdown",
   "metadata": {},
   "source": [
    "---"
   ]
  },
  {
   "attachments": {},
   "cell_type": "markdown",
   "metadata": {},
   "source": [
    "### Dot Product of a vector with itself"
   ]
  },
  {
   "attachments": {},
   "cell_type": "markdown",
   "metadata": {},
   "source": [
    "Let $\\mathbf{a}\\in\\mathbb{R}^n$ be a vector.\n",
    "\n",
    "$\n",
    "\\mathbf{a}\\cdot\\mathbf{a}=|\\mathbf{a}|^2\n",
    "$"
   ]
  },
  {
   "attachments": {},
   "cell_type": "markdown",
   "metadata": {},
   "source": [
    "Proof\n",
    "\n",
    "$\n",
    "\\begin{aligned}\n",
    "\\mathbf{a}\\cdot\\mathbf{a}\n",
    "&=\\langle a_1,...,a_n\\rangle\\cdot\\langle a_1,...,a_n\\rangle\\\\\n",
    "&=a_1a_1+...+a_na_n\\\\\n",
    "&=a_1^2+...+a_n^2\\\\\n",
    "&=\\left(\\sqrt{a_1^2+...+a_n^2}\\right)^2\\\\\n",
    "&=|\\mathbf{a}|^2\\\\\n",
    "\\end{aligned}\n",
    "$\n",
    "\n",
    "$\n",
    "\\blacksquare\n",
    "$"
   ]
  },
  {
   "attachments": {},
   "cell_type": "markdown",
   "metadata": {},
   "source": [
    "---"
   ]
  },
  {
   "attachments": {},
   "cell_type": "markdown",
   "metadata": {},
   "source": [
    "### Commutativity"
   ]
  },
  {
   "attachments": {},
   "cell_type": "markdown",
   "metadata": {},
   "source": [
    "Let $\\mathbf{a},\\mathbf{b}\\in\\mathbb{R}^n$ be vectors.\n",
    "\n",
    "$\n",
    "\\mathbf{a}\\cdot\\mathbf{b}=\\mathbf{b}\\cdot\\mathbf{a}\n",
    "$"
   ]
  },
  {
   "attachments": {},
   "cell_type": "markdown",
   "metadata": {},
   "source": [
    "Proof\n",
    "\n",
    "$\n",
    "\\begin{aligned}\n",
    "\\mathbf{a}\\cdot\\mathbf{b}\n",
    "&=\\langle a_1,...,a_n\\rangle\\cdot\\langle b_1,...,b_n\\rangle\\\\\n",
    "&=a_1b_1+...+a_nb_n\\\\\n",
    "&=b_1a_1+...+b_na_n\\\\\n",
    "&=\\langle b_1,...,b_n\\rangle\\cdot\\langle a_1,...,a_n\\rangle\\\\\n",
    "&=\\mathbf{b}\\cdot\\mathbf{a}\\\\\n",
    "\\end{aligned}\n",
    "$\n",
    "\n",
    "$\n",
    "\\blacksquare\n",
    "$"
   ]
  },
  {
   "attachments": {},
   "cell_type": "markdown",
   "metadata": {},
   "source": [
    "---"
   ]
  },
  {
   "attachments": {},
   "cell_type": "markdown",
   "metadata": {},
   "source": [
    "### Distributivity over vector addition"
   ]
  },
  {
   "attachments": {},
   "cell_type": "markdown",
   "metadata": {},
   "source": [
    "Let $\\mathbf{a},\\mathbf{b},\\mathbf{c}\\in\\mathbb{R}^n$ be vectors.\n",
    "\n",
    "$\n",
    "\\mathbf{a}\\cdot(\\mathbf{b}+\\mathbf{c})=\\mathbf{a}\\cdot\\mathbf{b}+\\mathbf{a}\\cdot\\mathbf{c}\n",
    "$"
   ]
  },
  {
   "attachments": {},
   "cell_type": "markdown",
   "metadata": {},
   "source": [
    "Proof\n",
    "\n",
    "$\n",
    "\\begin{aligned}\n",
    "\\mathbf{a}\\cdot(\\mathbf{b}+\\mathbf{c})\n",
    "&=\\langle a_1,...,a_n\\rangle\\cdot(\\langle b_1,...,b_n\\rangle+\\langle c_1,...,c_n\\rangle)\\\\\n",
    "&=\\langle a_1,...,a_n\\rangle\\cdot\\langle b_1+c_1,...,b_n+c_n\\rangle\\\\\n",
    "&=a_1(b_1+c_1)+...+a_n(b_n+c_n)\\\\\n",
    "&=a_1b_1+a_1c_1+...+a_nb_n+a_nc_n\\\\\n",
    "&=(a_1b_1+...+a_nb_n)+(a_1c_1+...+a_nc_n)\\\\\n",
    "&=\\langle a_1,...,a_n\\rangle\\cdot\\langle b_1,...,b_n\\rangle+\\langle a_1,...,a_n\\rangle\\cdot\\langle c_1,...,c_n\\rangle\\\\\n",
    "&=\\mathbf{a}\\cdot\\mathbf{b}+\\mathbf{a}\\cdot\\mathbf{c}\\\\\n",
    "\\end{aligned}\n",
    "$\n",
    "\n",
    "$\n",
    "\\blacksquare\n",
    "$"
   ]
  },
  {
   "attachments": {},
   "cell_type": "markdown",
   "metadata": {},
   "source": [
    "---"
   ]
  },
  {
   "attachments": {},
   "cell_type": "markdown",
   "metadata": {},
   "source": [
    "### Scalar Multiplication"
   ]
  },
  {
   "attachments": {},
   "cell_type": "markdown",
   "metadata": {},
   "source": [
    "Let $\\mathbf{a},\\mathbf{b}\\in\\mathbb{R}^n$ be vectors and $c\\in\\mathbb{R}$ a scalar.\n",
    "\n",
    "$\n",
    "(c\\mathbf{a})\\cdot\\mathbf{b}=c(\\mathbf{a}\\cdot\\mathbf{b})=\\mathbf{a}\\cdot(c\\mathbf{b})\n",
    "$"
   ]
  },
  {
   "attachments": {},
   "cell_type": "markdown",
   "metadata": {},
   "source": [
    "Proof\n",
    "\n",
    "$\n",
    "\\begin{aligned}\n",
    "(c\\mathbf{a})\\cdot\\mathbf{b}\n",
    "&=(c\\langle a_1,...,a_n\\rangle)\\cdot\\langle b_1,...,b_n\\rangle\\\\\n",
    "&=\\langle ca_1,...,ca_n\\rangle\\cdot\\langle b_1,...,b_n\\rangle\\\\\n",
    "&=ca_1b_1+...+ca_nb_n\\\\\n",
    "&=c(a_1b_1+...+a_nb_n)\\\\\n",
    "&=c(\\langle a_1,...,a_n\\rangle\\cdot\\langle b_1,...,b_n\\rangle)\\\\\n",
    "&=c(\\mathbf{a}\\cdot\\mathbf{b})\\\\\n",
    "&=a_1cb_1+...+a_ncb_n\\\\\n",
    "&=\\langle a_1,...,a_n\\rangle\\cdot\\langle cb_1,...,cb_n\\rangle\\\\\n",
    "&=\\langle a_1,...,a_n\\rangle\\cdot(c\\langle b_1,...,b_n\\rangle)\\\\\n",
    "&=\\mathbf{a}\\cdot(c\\mathbf{b})\\\\\n",
    "\\end{aligned}\n",
    "$\n",
    "\n",
    "$\n",
    "\\blacksquare\n",
    "$"
   ]
  },
  {
   "attachments": {},
   "cell_type": "markdown",
   "metadata": {},
   "source": [
    "---"
   ]
  },
  {
   "attachments": {},
   "cell_type": "markdown",
   "metadata": {},
   "source": [
    "### Dot Product with the zero vector"
   ]
  },
  {
   "attachments": {},
   "cell_type": "markdown",
   "metadata": {},
   "source": [
    "Let $\\mathbf{a}\\in\\mathbb{R}^n$ be a vector.\n",
    "\n",
    "$\n",
    "\\mathbf{0}\\cdot\\mathbf{a}=0\n",
    "$"
   ]
  },
  {
   "attachments": {},
   "cell_type": "markdown",
   "metadata": {},
   "source": [
    "Proof\n",
    "\n",
    "$\n",
    "\\begin{aligned}\n",
    "\\mathbf{0}\\cdot\\mathbf{a}\n",
    "&=\\langle0,...,0\\rangle\\cdot\\langle a_1,...,a_n\\rangle\\\\\n",
    "&=0\\cdot a_1+...+0\\cdot a_n\\\\\n",
    "&=0\n",
    "\\end{aligned}\n",
    "$\n",
    "\n",
    "$\n",
    "\\blacksquare\n",
    "$"
   ]
  },
  {
   "attachments": {},
   "cell_type": "markdown",
   "metadata": {},
   "source": [
    "---"
   ]
  },
  {
   "attachments": {},
   "cell_type": "markdown",
   "metadata": {},
   "source": [
    "## Exercises"
   ]
  },
  {
   "attachments": {},
   "cell_type": "markdown",
   "metadata": {},
   "source": [
    "---"
   ]
  },
  {
   "attachments": {},
   "cell_type": "markdown",
   "metadata": {},
   "source": [
    "$\n",
    "\\langle2,4\\rangle\\cdot\\langle3,-1\\rangle\n",
    "=2\\cdot3+4\\cdot-1\n",
    "=6-4\n",
    "=2\n",
    "$"
   ]
  },
  {
   "attachments": {},
   "cell_type": "markdown",
   "metadata": {},
   "source": [
    "---"
   ]
  },
  {
   "attachments": {},
   "cell_type": "markdown",
   "metadata": {},
   "source": [
    "$\n",
    "\\langle-1,7,4\\rangle\\cdot\\left\\langle6,2,-\\frac{1}{2}\\right\\rangle\n",
    "=-1\\cdot6+7\\cdot2+4\\cdot-\\frac{1}{2}\n",
    "=-6+14-2\n",
    "=6\n",
    "$"
   ]
  },
  {
   "attachments": {},
   "cell_type": "markdown",
   "metadata": {},
   "source": [
    "---"
   ]
  },
  {
   "attachments": {},
   "cell_type": "markdown",
   "metadata": {},
   "source": [
    "$\n",
    "(\\mathbf{i}+2\\mathbf{j}-3\\mathbf{k})\\cdot(2\\mathbf{j}-\\mathbf{k})\n",
    "=1\\cdot0+2\\cdot2+-3\\cdot-1\n",
    "=4+3\n",
    "=7\n",
    "$"
   ]
  },
  {
   "attachments": {},
   "cell_type": "markdown",
   "metadata": {},
   "source": [
    "---"
   ]
  },
  {
   "attachments": {},
   "cell_type": "markdown",
   "metadata": {},
   "source": [
    "## Terms"
   ]
  },
  {
   "attachments": {},
   "cell_type": "markdown",
   "metadata": {},
   "source": [
    "* [[W](https://en.wikipedia.org/wiki/Dot_product)] Dot Product"
   ]
  },
  {
   "attachments": {},
   "cell_type": "markdown",
   "metadata": {},
   "source": [
    "---"
   ]
  }
 ],
 "metadata": {
  "language_info": {
   "name": "python"
  },
  "orig_nbformat": 4
 },
 "nbformat": 4,
 "nbformat_minor": 2
}
