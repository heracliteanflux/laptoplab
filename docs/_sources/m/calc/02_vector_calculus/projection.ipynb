{
 "cells": [
  {
   "attachments": {},
   "cell_type": "markdown",
   "metadata": {},
   "source": [
    "# Vector Projection"
   ]
  },
  {
   "attachments": {},
   "cell_type": "markdown",
   "metadata": {},
   "source": [
    "---"
   ]
  },
  {
   "attachments": {},
   "cell_type": "markdown",
   "metadata": {},
   "source": [
    "```{admonition} Revised\n",
    "05 Apr 2023\n",
    "```\n",
    "```{contents}\n",
    "```"
   ]
  },
  {
   "attachments": {},
   "cell_type": "markdown",
   "metadata": {},
   "source": [
    "---"
   ]
  },
  {
   "attachments": {},
   "cell_type": "markdown",
   "metadata": {},
   "source": [
    "## Vector Projection"
   ]
  },
  {
   "attachments": {},
   "cell_type": "markdown",
   "metadata": {},
   "source": [
    "<div class=\"full-width\">\n",
    "\n",
    "Let $\\mathbf{v}$ and $\\mathbf{w}$ be two vectors with angle $\\theta$ between them.\n",
    "\n",
    "The vector projection of $\\mathbf{v}$ onto $\\mathbf{w}$\n",
    "\n",
    "$\n",
    "\\boxed{\n",
    "\\begin{aligned}\n",
    "\\mathbf{v}_{\\parallel\\mathbf{w}}\n",
    "\\overset{\\text{def}}{=}\n",
    "\\text{proj}_\\mathbf{w}\\mathbf{v}\n",
    "=\\frac{\\mathbf{v\\cdot w}}{\\|\\mathbf{w}\\|^2}\\mathbf{w}\n",
    "=\\frac{\\mathbf{v\\cdot w}}{\\mathbf{w\\cdot w}}\\mathbf{w}\n",
    "\\end{aligned}\n",
    "}\n",
    "$\n",
    "\n",
    "is the component of $\\mathbf{v}$ that is parallel to $\\mathbf{w}$.\n",
    "\n",
    "Its magnitude is given by\n",
    "\n",
    "$\n",
    "\\begin{aligned}\n",
    "\\|\\text{proj}_\\mathbf{w}\\mathbf{v}\\|\n",
    "&=\\|\\mathbf{v}\\|\\cos\\theta\n",
    "&&\\text{by the definition of cosine as adjacent over hypotenuse}\\,\\,\\,\n",
    "\\cos\\theta=\\frac{\\|\\text{proj}_\\mathbf{w}\\mathbf{v}\\|}{\\|\\mathbf{v}\\|}\n",
    "\\\\\n",
    "&=\\cancel{\\|\\mathbf{v}\\|}\\frac{\\mathbf{v\\cdot w}}{\\cancel{\\|\\mathbf{v}\\|}\\|\\mathbf{w}\\|}\n",
    "&&\\text{by the definition of the dot product}\\,\\,\\,\n",
    "\\mathbf{v\\cdot w}=\\|\\mathbf{v}\\|\\|\\mathbf{w}\\|\\cos\\theta\n",
    "\\\\\n",
    "&=\\frac{\\mathbf{v\\cdot w}}{\\|\\mathbf{w}\\|}\n",
    "\\end{aligned}\n",
    "$\n",
    "\n",
    "Its direction is given by\n",
    "\n",
    "$\n",
    "\\begin{aligned}\n",
    "\\frac{\\mathbf{w}}{\\|\\mathbf{w}\\|}\n",
    "&&\\text{by the definition of the unit vector}\n",
    "\\end{aligned}\n",
    "$\n",
    "\n",
    "Therefore\n",
    "\n",
    "$\n",
    "\\begin{aligned}\n",
    "\\text{proj}_\\mathbf{w}\\mathbf{v}\n",
    "&=\\frac{\\mathbf{v\\cdot w}}{\\|\\mathbf{w}\\|}\\frac{\\mathbf{w}}{\\|\\mathbf{w}\\|}\n",
    "\\\\\n",
    "&=\\frac{\\mathbf{v\\cdot w}}{\\|\\mathbf{w}\\|\\|\\mathbf{w}\\|}\\mathbf{w}\n",
    "\\\\\n",
    "&=\\frac{\\mathbf{v\\cdot w}}{\\mathbf{w\\cdot w}}\\mathbf{w}\n",
    "&&\\text{by the definition of the dot product}\\,\\,\\,\n",
    "\\frac{\\mathbf{w\\cdot w}}{\\cos(0)}=\\|\\mathbf{w}\\|\\|\\mathbf{w}\\|\n",
    "\\end{aligned}\n",
    "$\n",
    "\n",
    "</div>"
   ]
  },
  {
   "attachments": {},
   "cell_type": "markdown",
   "metadata": {},
   "source": [
    "Vector $\\mathbf{v}$ can be decomposed into orthogonal component vectors\n",
    "$\n",
    "\\mathbf{v}_{\\parallel\\mathbf{w}}\n",
    "$\n",
    "and\n",
    "$\n",
    "\\mathbf{v}_{\\perp\\mathbf{w}}\n",
    "$\n",
    "wrt vector $\\mathbf{w}$.\n",
    "\n",
    "$\n",
    "\\mathbf{v}_{\\parallel\\mathbf{w}}+\\mathbf{v}_{\\perp\\mathbf{w}}=\\mathbf{v}\n",
    "\\iff\n",
    "\\mathbf{v}_{\\perp\\mathbf{w}}=\\mathbf{v}-\\mathbf{v}_{\\parallel\\mathbf{w}}\n",
    "\\iff\n",
    "\\mathbf{v}_{\\perp\\mathbf{w}}=\\mathbf{v}-\\text{proj}_\\mathbf{w}\\mathbf{v}\n",
    "$\n",
    "\n",
    "$\n",
    "\\mathbf{v}_{\\parallel\\mathbf{w}}\n",
    "$\n",
    "is the component of $\\mathbf{v}$ parallel to $\\mathbf{w}$\n",
    "\n",
    "$\n",
    "\\mathbf{v}_{\\perp\\mathbf{w}}\n",
    "$\n",
    "is the component of $\\mathbf{v}$ perpendicular to $\\mathbf{w}$"
   ]
  },
  {
   "attachments": {},
   "cell_type": "markdown",
   "metadata": {},
   "source": [
    "---"
   ]
  },
  {
   "attachments": {},
   "cell_type": "markdown",
   "metadata": {},
   "source": [
    "## Terms"
   ]
  },
  {
   "attachments": {},
   "cell_type": "markdown",
   "metadata": {},
   "source": [
    "* [[W](https://en.wikipedia.org/wiki/Projection_(linear_algebra))] Projection\n",
    "* [[W](https://en.wikipedia.org/wiki/Unit_vector)] Unit Vector\n",
    "* [[W](https://en.wikipedia.org/wiki/Vector_projection)] Vector Projection"
   ]
  },
  {
   "attachments": {},
   "cell_type": "markdown",
   "metadata": {},
   "source": [
    "---"
   ]
  }
 ],
 "metadata": {
  "language_info": {
   "name": "python"
  },
  "orig_nbformat": 4
 },
 "nbformat": 4,
 "nbformat_minor": 2
}
