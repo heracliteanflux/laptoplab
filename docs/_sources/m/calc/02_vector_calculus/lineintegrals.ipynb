{
 "cells": [
  {
   "attachments": {},
   "cell_type": "markdown",
   "metadata": {},
   "source": [
    "# Line Integrals of Vector Fields"
   ]
  },
  {
   "attachments": {},
   "cell_type": "markdown",
   "metadata": {},
   "source": [
    "$\n",
    "\\boxed{\n",
    "\\begin{aligned}\n",
    "W=\\int_C\\mathbf{F}\\cdot\\,d\\mathbf{r}\n",
    "\\end{aligned}\n",
    "}\n",
    "$"
   ]
  },
  {
   "attachments": {},
   "cell_type": "markdown",
   "metadata": {},
   "source": [
    "---"
   ]
  },
  {
   "attachments": {},
   "cell_type": "markdown",
   "metadata": {},
   "source": [
    "```{admonition} Revised\n",
    "06 Apr 2023\n",
    "```\n",
    "```{contents}\n",
    "```"
   ]
  },
  {
   "attachments": {},
   "cell_type": "markdown",
   "metadata": {},
   "source": [
    "---"
   ]
  },
  {
   "attachments": {},
   "cell_type": "markdown",
   "metadata": {},
   "source": [
    "The motivating example underlying the derivation of the line integral of a vector field is the physical notion of work, the transfer of energy into a particle (positive work) due to the application of force on the particle.\n",
    "\n",
    "Work is a scalar value equal to the product of the magnitude of the force applied to a particle in the direction of the particle's displacement and the length/magnitude of the particle's displacement.\n",
    "\n",
    "Let $\\mathbf{F}$ be a force field (see vector field) in which a particle is moving along some directed/oriented curvilienar path $C$ parameterized by $\\mathbf{r}(t)$.\n",
    "\n",
    "How much work $W$ is being done by the force field on this particle?\n",
    "\n",
    "If we approximate the path $C$ as the concatenation of some number of rectilinear line segments then we can calculate the work done along each line segment by dotting the displacement with the force applied along that segment, and then sum all the individual work values to get the total work value.\n",
    "\n",
    "$\n",
    "\\begin{aligned}\n",
    "W=\\int_C\\,dW\n",
    "\\end{aligned}\n",
    "$\n",
    "\n",
    "If we take smaller and smaller segments to infinity the work $dW$ can be found for each infinitesimal segment $dS$.\n",
    "\n",
    "$\n",
    "\\begin{aligned}\n",
    "dW\n",
    "&=\\|\\text{proj}_\\mathbf{T}\\mathbf{F}\\|\\,dS\n",
    "&&\\text{where}\\,\\,\\,\n",
    "\\mathbf{T}\n",
    "\\,\\,\\,\\text{is the unit tangent vector}\n",
    "\\\\\n",
    "&=\\frac{\\mathbf{F}\\cdot\\mathbf{T}}{\\|\\mathbf{T}\\|}\\,dS\n",
    "&&\\text{by the definition of scalar projection}\n",
    "\\\\\n",
    "&=\\mathbf{F}\\cdot\\mathbf{T}\\,dS\n",
    "&&\\|\\mathbf{T}\\|=1\n",
    "\\\\\n",
    "W&=\\int_C\\mathbf{F}\\cdot\\mathbf{T}\\,dS\n",
    "\\end{aligned}\n",
    "$\n",
    "\n",
    "Therefore, work is the line integral wrt arc length of the tangential component of the force."
   ]
  },
  {
   "attachments": {},
   "cell_type": "markdown",
   "metadata": {},
   "source": [
    "Let the path $C$ be parameterized by $\\mathbf{r}(t)=\\langle x(t),y(t),z(t)\\rangle$.\n",
    "\n",
    "Then the unit tangent vector is given by\n",
    "\n",
    "$\n",
    "\\begin{aligned}\n",
    "\\mathbf{T}(t)=\\frac{\\mathbf{r}'(t)}{\\|\\mathbf{r}'(t)\\|}\n",
    "\\end{aligned}\n",
    "$\n",
    "\n",
    "$\n",
    "\\begin{aligned}\n",
    "W&=\\int_C\\mathbf{F}\\cdot\\mathbf{T}\\,dS\n",
    "\\\\\n",
    "&=\\int_C\\mathbf{F}(\\mathbf{r}(t))\\cdot\\frac{\\mathbf{r}'(t)}{\\cancel{\\|\\mathbf{r}'(t)\\|}}\\cancel{\\|\\mathbf{r}'(t)\\|}\\,dt\n",
    "&&dS=\\|\\mathbf{r'}(t)\\|\\,dt\n",
    "\\\\\n",
    "&=\\int_C\\mathbf{F}(\\mathbf{r}(t))\\cdot\\mathbf{r}'(t)dt\n",
    "\\\\\n",
    "&=\\int_C\\mathbf{F}\\cdot\\,d\\mathbf{r}\n",
    "&&d\\mathbf{r}=\\mathbf{r}'(t)dt\n",
    "\\end{aligned}\n",
    "$"
   ]
  },
  {
   "attachments": {},
   "cell_type": "markdown",
   "metadata": {},
   "source": [
    "Let a force $\\mathbf{F(x)}$ be applied to a particle traveling along a path $C$.\n",
    "\n",
    "Then the work done is\n",
    "\n",
    "$\n",
    "\\begin{aligned}\n",
    "W=\\int_C\\mathbf{F}\\cdot\\,d\\mathbf{r}\n",
    "\\end{aligned}\n",
    "$"
   ]
  },
  {
   "attachments": {},
   "cell_type": "markdown",
   "metadata": {},
   "source": [
    "[Constant force applied to a particle traveling along a straight path]\n",
    "\n",
    "Let a constant force represented by the vector $\\mathbf{F}$ be applied to a particle (not necessarily in its direction of motion) traveling along a rectilinear path $C$ with a distance represented by the displacement vector $\\mathbf{D}$.\n",
    "\n",
    "Then the work done is\n",
    "\n",
    "$\n",
    "\\begin{aligned}\n",
    "W\n",
    "&=\\|\\text{proj}_\\mathbf{D}\\mathbf{F}\\|\\|\\mathbf{D}\\|\n",
    "\\\\\n",
    "&=\\|\\mathbf{F}\\|\\|\\mathbf{D}\\|\\cos\\theta\n",
    "\\\\\n",
    "&=\\mathbf{F}\\cdot\\mathbf{D}\n",
    "\\end{aligned}\n",
    "$"
   ]
  },
  {
   "attachments": {},
   "cell_type": "markdown",
   "metadata": {},
   "source": [
    "[Constant force applied to a particle in its direction of motion traveling along a straight path]\n",
    "\n",
    "Let a constant force $\\mathbf{F}$ be applied to a particle in its direction of motion traveling along a rectilinear path $C$ of distance $d$.\n",
    "\n",
    "Then the work done is\n",
    "\n",
    "$\n",
    "W=Fd\n",
    "\\,\\,\\,\\text{where}\\,\\,\\,\n",
    "F=\\|\\mathbf{F}\\|\n",
    "\\,\\,\\,\\text{and}\\,\\,\\,\n",
    "d=\\|\\mathbf{D}\\|\n",
    "$"
   ]
  },
  {
   "attachments": {},
   "cell_type": "markdown",
   "metadata": {},
   "source": [
    "---"
   ]
  },
  {
   "cell_type": "markdown",
   "metadata": {},
   "source": [
    "1\n",
    "\n",
    "path goes with the vector field\n",
    "\n",
    "at each point, the direction is parallel to $\\mathbf{F}$ so $\\mathbf{F}\\cdot\\,d\\mathbf{r}\\gt0$\n",
    "\n",
    "$\\int_c\\mathbf{F}\\cdot\\,d\\mathbf{r}\\gt0$ positive work\n",
    "\n",
    "2\n",
    "\n",
    "path goes perpendicular to vector field\n",
    "\n",
    "at each point, the direction is perpendicular to $\\mathbf{F}$ so $\\mathbf{F}\\cdot\\,d\\mathbf{r}\\=0$\n",
    "\n",
    "$\\int_c\\mathbf{F}\\cdot\\,d\\mathbf{r}=0$\n",
    "\n",
    "1\n",
    "\n",
    "path goes in a loop\n",
    "\n",
    "for some points, the direction is parallel to $\\mathbf{F}$ so $\\mathbf{F}\\cdot\\,d\\mathbf{r}\\lt0$\n",
    "\n",
    "for other points, the direction is antiparallel to $\\mathbf{F}$ so $\\mathbf{F}\\cdot\\,d\\mathbf{r}\\lt0$\n",
    "\n",
    "$\\int_c\\mathbf{F}\\cdot\\,d\\mathbf{r}\\gt0$ ?"
   ]
  }
 ],
 "metadata": {
  "kernelspec": {
   "display_name": "main",
   "language": "python",
   "name": "python3"
  },
  "language_info": {
   "codemirror_mode": {
    "name": "ipython",
    "version": 3
   },
   "file_extension": ".py",
   "mimetype": "text/x-python",
   "name": "python",
   "nbconvert_exporter": "python",
   "pygments_lexer": "ipython3",
   "version": "3.10.8"
  },
  "orig_nbformat": 4
 },
 "nbformat": 4,
 "nbformat_minor": 2
}
