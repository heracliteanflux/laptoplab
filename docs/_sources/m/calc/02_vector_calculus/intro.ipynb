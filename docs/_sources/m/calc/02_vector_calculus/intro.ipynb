{
 "cells": [
  {
   "attachments": {},
   "cell_type": "markdown",
   "metadata": {},
   "source": [
    "# Vector Calculus"
   ]
  },
  {
   "attachments": {},
   "cell_type": "markdown",
   "metadata": {},
   "source": [
    "---"
   ]
  },
  {
   "attachments": {},
   "cell_type": "markdown",
   "metadata": {},
   "source": [
    "```{admonition} Revised\n",
    "28 Apr 2023\n",
    "```\n",
    "```{contents}\n",
    "```"
   ]
  },
  {
   "attachments": {},
   "cell_type": "markdown",
   "metadata": {},
   "source": [
    "---"
   ]
  },
  {
   "attachments": {},
   "cell_type": "markdown",
   "metadata": {},
   "source": [
    "## Sections"
   ]
  },
  {
   "attachments": {},
   "cell_type": "markdown",
   "metadata": {},
   "source": [
    "```{tableofcontents}\n",
    "```"
   ]
  },
  {
   "attachments": {},
   "cell_type": "markdown",
   "metadata": {},
   "source": [
    "---"
   ]
  },
  {
   "attachments": {},
   "cell_type": "markdown",
   "metadata": {},
   "source": [
    "## Resources"
   ]
  },
  {
   "attachments": {},
   "cell_type": "markdown",
   "metadata": {},
   "source": [
    "[[Y](https://www.youtube.com/watch?v=M12CJIuX8D4)] Kathy Loves Physics & History. (15 Mar 2023). \"How Maxwell's Equations (and Quaternions) Led to Vector Analysis\". YouTube.\n",
    "\n",
    "[[Y](https://www.youtube.com/watch?v=aFYKKSoXC5Y)] Kathy Loves Physics & History. (27 Sep 2022). \"Maxwell's Equations Explained: Supplement to the History of Maxwell's Eq.\". YouTube.\n",
    "\n",
    "[[Y](https://www.youtube.com/watch?v=_AW7_YdS4Mk)] Physics Explained. (31 Mar 2023). \"Drawing the Spherical Volume Element in Python\". YouTube."
   ]
  },
  {
   "attachments": {},
   "cell_type": "markdown",
   "metadata": {},
   "source": [
    "---"
   ]
  },
  {
   "attachments": {},
   "cell_type": "markdown",
   "metadata": {},
   "source": [
    "## Terms"
   ]
  },
  {
   "attachments": {},
   "cell_type": "markdown",
   "metadata": {},
   "source": [
    "* [[W](https://en.wikipedia.org/wiki/Conservative_vector_field)] Conservative Vector Field\n",
    "* [[W](https://en.wikipedia.org/wiki/Curvilinear_coordinates)] Curvilinear Coordinates\n",
    "* [[W](https://en.wikipedia.org/wiki/Cylindrical_coordinate_system#Line_and_volume_elements)] Cylindrical Coordinate System\n",
    "* [[W](https://en.wikipedia.org/wiki/Differential_form)] Differential Form\n",
    "* [[W](https://en.wikipedia.org/wiki/Differential_geometry_of_surfaces)] Differential Geometry of Surfaces\n",
    "* [[W](https://en.wikipedia.org/wiki/Divergence_theorem)] Divergence Theorem\n",
    "* [[W](https://en.wikipedia.org/wiki/First_fundamental_form)] First Fundamental Form\n",
    "* [[W](https://en.wikipedia.org/wiki/Flux)] Flux\n",
    "* [[W](https://en.wikipedia.org/wiki/Helmholtz_decomposition)] Fundamental Theorem of Vector Calculus (Helmholtz Decomposition)\n",
    "* [[W](https://en.wikipedia.org/wiki/Green%27s_theorem)] Green's Theorem\n",
    "* [[W](https://en.wikipedia.org/wiki/Maxwell%27s_equations)] Maxwell's Equations\n",
    "* [[W](https://en.wikipedia.org/wiki/Normal_(geometry))] Normal\n",
    "* [[W](https://en.wikipedia.org/wiki/Orientability)] Orientability\n",
    "* [[W](https://en.wikipedia.org/wiki/Solenoid)] Solenoid\n",
    "* [[W](https://en.wikipedia.org/wiki/Solenoidal_vector_field)] Solenoidal Vector Field\n",
    "* [[W](https://en.wikipedia.org/wiki/Stokes%27_theorem)] Stokes' Theorem\n",
    "* [[W](https://en.wikipedia.org/wiki/Stream_function)] Stream Function\n",
    "* [[W](https://en.wikipedia.org/wiki/Surface_integral)] Surface Integral\n",
    "* [[W](https://en.wikipedia.org/wiki/Volume_element)] Volume Element\n",
    "* [[W](https://en.wikipedia.org/wiki/Volume_integral)] Volume Integral"
   ]
  },
  {
   "attachments": {},
   "cell_type": "markdown",
   "metadata": {},
   "source": [
    "---"
   ]
  }
 ],
 "metadata": {
  "language_info": {
   "name": "python"
  },
  "orig_nbformat": 4
 },
 "nbformat": 4,
 "nbformat_minor": 2
}
