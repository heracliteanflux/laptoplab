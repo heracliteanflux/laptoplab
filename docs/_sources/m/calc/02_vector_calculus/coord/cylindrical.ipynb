{
 "cells": [
  {
   "attachments": {},
   "cell_type": "markdown",
   "metadata": {},
   "source": [
    "# Cylindrical Coordinates"
   ]
  },
  {
   "attachments": {},
   "cell_type": "markdown",
   "metadata": {},
   "source": [
    "in $\\mathbb{R}^3$"
   ]
  },
  {
   "cell_type": "markdown",
   "metadata": {},
   "source": [
    "$\n",
    "\\boxed{\n",
    "\\begin{aligned}\n",
    "&z\\text{-axis of rotational symmetry}\n",
    "\\\\\n",
    "T&:(r,\\theta,z)\\mapsto(x,y,z)\n",
    "\\\\\n",
    "T^{-1}&:(x,y,z)\\mapsto(r,\\theta,z)\n",
    "\\\\\n",
    "T(r,\\theta,z)\n",
    "&=(r\\cos\\theta,r\\sin\\theta,z)\n",
    "\\\\\n",
    "&=(x(r,\\theta,z),y(r,\\theta,z),z(r,\\theta,z))\n",
    "&&\\text{transformation}\n",
    "\\\\\n",
    "\\hline\n",
    "\\\\\n",
    "x(r,\\theta,z)&=r\\cos\\theta\n",
    "\\\\\n",
    "y(r,\\theta,z)&=r\\sin\\theta\n",
    "\\\\\n",
    "z(r,\\theta,z)&=z\n",
    "&&\\text{transformation equations}\n",
    "\\\\\n",
    "\\hline\n",
    "\\\\\n",
    "x^2+y^2&=r^2\n",
    "&&\\text{Pythagorean identity}\n",
    "\\\\\n",
    "dV&=r\\,dz\\,dr\\,d\\theta\n",
    "&&\\text{Jacobian}\n",
    "\\end{aligned}\n",
    "}\n",
    "\\boxed{\n",
    "\\begin{aligned}\n",
    "&y\\text{-axis}\n",
    "\\\\\n",
    "T&:(r,\\theta,y)\\mapsto(x,y,z)\n",
    "\\\\\n",
    "T^{-1}&:(x,y,z)\\mapsto(r,\\theta,y)\n",
    "\\\\\n",
    "T(r,\\theta,y)\n",
    "&=(r\\sin\\theta,y,r\\cos\\theta,)\n",
    "\\\\\n",
    "&=(x(r,\\theta,y),y(r,\\theta,y),z(r,\\theta,y))\n",
    "\\\\\n",
    "\\hline\n",
    "\\\\\n",
    "x(r,\\theta,y)&=r\\sin\\theta\n",
    "\\\\\n",
    "y(r,\\theta,y)&=y\n",
    "\\\\\n",
    "z(r,\\theta,y)&=r\\cos\\theta\n",
    "\\\\\n",
    "\\hline\n",
    "\\\\\n",
    "x^2+z^2&=r^2\n",
    "\\\\\n",
    "dV&=r\\,dy\\,dr\\,d\\theta\n",
    "\\end{aligned}\n",
    "}\n",
    "\\boxed{\n",
    "\\begin{aligned}\n",
    "&x\\text{-axis}\n",
    "\\\\\n",
    "T&:(r,\\theta,x)\\mapsto(x,y,z)\n",
    "\\\\\n",
    "T^{-1}&:(x,y,z)\\mapsto(r,\\theta,x)\n",
    "\\\\\n",
    "T(r,\\theta,x)\n",
    "&=(x,r\\cos\\theta,r\\sin\\theta)\n",
    "\\\\\n",
    "&=(x(r,\\theta,x),y(r,\\theta,x),z(r,\\theta,x))\n",
    "\\\\\n",
    "\\hline\n",
    "\\\\\n",
    "x(r,\\theta,x)&=x\n",
    "\\\\\n",
    "y(r,\\theta,x)&=r\\cos\\theta\n",
    "\\\\\n",
    "z(r,\\theta,x)&=r\\sin\\theta\n",
    "\\\\\n",
    "\\hline\n",
    "\\\\\n",
    "y^2+z^2&=r^2\n",
    "\\\\\n",
    "dV&=r\\,dx\\,dr\\,d\\theta\n",
    "\\end{aligned}\n",
    "}\n",
    "$"
   ]
  },
  {
   "attachments": {},
   "cell_type": "markdown",
   "metadata": {},
   "source": [
    "---"
   ]
  },
  {
   "attachments": {},
   "cell_type": "markdown",
   "metadata": {},
   "source": [
    "```{admonition} Revised\n",
    "02 Apr 2023\n",
    "```\n",
    "```{contents}\n",
    "```"
   ]
  },
  {
   "attachments": {},
   "cell_type": "markdown",
   "metadata": {},
   "source": [
    "---"
   ]
  },
  {
   "attachments": {},
   "cell_type": "markdown",
   "metadata": {},
   "source": [
    "## Cylindrical Coordinate System"
   ]
  },
  {
   "attachments": {},
   "cell_type": "markdown",
   "metadata": {},
   "source": [
    "Cylindrical coordinates are good to use for regions with a single axis of rotational symmetry.\n",
    "\n",
    "In other words, one of the cross sections of the region is circular and the other ones aren't.\n",
    "* Circular Cylinders\n",
    "* Cones\n",
    "* Elliptic Paraboloids\n",
    "* Hyperboloids\n",
    "\n",
    "We might think of the cylindrical coordinate system as a set of stacked polar coordinate systems indexed by $z$."
   ]
  },
  {
   "attachments": {},
   "cell_type": "markdown",
   "metadata": {},
   "source": [
    "---"
   ]
  },
  {
   "attachments": {},
   "cell_type": "markdown",
   "metadata": {},
   "source": [
    "## Transformation Equations $(x,y,z)\\leftrightarrow(r,\\theta,z)$"
   ]
  },
  {
   "attachments": {},
   "cell_type": "markdown",
   "metadata": {},
   "source": [
    "### Infinitesimals"
   ]
  },
  {
   "attachments": {},
   "cell_type": "markdown",
   "metadata": {},
   "source": [
    "$dr\\,d\\theta\\,dz$-voxels in the rectangular $r\\theta z$-grid are transformed into 3D wedges $dV$ in the cylindrical $xyz$-grid.\n",
    "\n",
    "$\n",
    "\\begin{aligned}\n",
    "dV\\ne dr\\,d\\theta\\,dz\n",
    "\\end{aligned}\n",
    "$\n",
    "\n",
    "How big is cylindrical $dV$ in relation to rectangular $dr\\,d\\theta\\,dz$-voxel?\n",
    "\n",
    "The further the $dr\\,d\\theta\\,dz$-voxel is in the $r$-direction in the rectangular $r\\theta z$-grid the larger the 3D wedge $dV$ is in the cylindrical $xyz$-grid.\n",
    "\n",
    "$\n",
    "\\begin{aligned}\n",
    "dV=r\\,dr\\,d\\theta\\,dz\n",
    "&&\\text{from the Jacobian}\n",
    "\\end{aligned}\n",
    "$"
   ]
  },
  {
   "attachments": {},
   "cell_type": "markdown",
   "metadata": {},
   "source": [
    "### Jacobian"
   ]
  },
  {
   "cell_type": "markdown",
   "metadata": {},
   "source": [
    "$\n",
    "\\begin{aligned}\n",
    "\\frac{\\partial(x,y,z)}{\\partial(r,\\theta,z)}\n",
    "=\\begin{vmatrix}\n",
    "\\dfrac{\\partial x}{\\partial r} & \\dfrac{\\partial x}{\\partial \\theta} & \\dfrac{\\partial x}{\\partial z}\n",
    "\\\\\\\\\n",
    "\\dfrac{\\partial y}{\\partial r} & \\dfrac{\\partial y}{\\partial \\theta} & \\dfrac{\\partial y}{\\partial z}\n",
    "\\\\\\\\\n",
    "\\dfrac{\\partial z}{\\partial r} & \\dfrac{\\partial z}{\\partial \\theta} & \\dfrac{\\partial z}{\\partial z}\n",
    "\\end{vmatrix}\n",
    "=\\begin{vmatrix}\n",
    "\\cos\\theta & -r\\sin\\theta & 0\n",
    "\\\\\\\\\n",
    "\\sin\\theta &  r\\cos\\theta & 0\n",
    "\\\\\\\\\n",
    "0 & 0 & 1\n",
    "\\end{vmatrix}\n",
    "=\\begin{vmatrix}\n",
    "\\cos\\theta & -r\\sin\\theta\n",
    "\\\\\\\\\n",
    "\\sin\\theta &  r\\cos\\theta\n",
    "\\end{vmatrix}\n",
    "=r(\\cos^2\\theta+\\sin^2\\theta)\n",
    "=r\n",
    "\\end{aligned}\n",
    "$"
   ]
  },
  {
   "attachments": {},
   "cell_type": "markdown",
   "metadata": {},
   "source": [
    "### $z$-axis Transformation Equations"
   ]
  },
  {
   "attachments": {},
   "cell_type": "markdown",
   "metadata": {},
   "source": [
    "The following transformations take $r,\\theta,z$ as input.\n",
    "\n",
    "$\n",
    "\\begin{aligned}\n",
    "r\\ge0&\\,\\,\\,\\text{distance from the origin in the xy-plane}\n",
    "\\\\\n",
    "0\\le\\theta\\le2\\pi&\\,\\,\\,\\text{angle from the positive x-axis in the xy-plane}\n",
    "\\\\\n",
    "z&\\,\\,\\,\\text{distance from the xy-plane}\n",
    "\\end{aligned}\n",
    "$\n",
    "\n",
    "$\n",
    "\\begin{aligned}\n",
    "\\text{polar}\\,\\,\\,\n",
    "x(r,\\theta,z)&=r\\cos\\theta\n",
    "\\\\\n",
    "\\text{polar}\\,\\,\\,\n",
    "y(r,\\theta,z)&=r\\sin\\theta\n",
    "\\\\\n",
    "\\text{rectangular}\\,\\,\\,\n",
    "z(r,\\theta,z)&=z\n",
    "\\\\\n",
    "x^2+y^2&=r^2\n",
    "\\\\\n",
    "dV&=r\\,dz\\,dr\\,d\\theta\n",
    "\\end{aligned}\n",
    "$"
   ]
  },
  {
   "cell_type": "markdown",
   "metadata": {},
   "source": [
    "Fixed $r=k$ values produce concentric cylinders along the $z$-axis.\n",
    "\n",
    "Fixed $\\theta=k$ values produce planes along the $z$-axis orthogonal to the $xy$-plane.\n",
    "\n",
    "Fixed $z=k$ values produce stacked planes parallel to the $xy$-plane orthogonal to the $z$-axis."
   ]
  },
  {
   "attachments": {},
   "cell_type": "markdown",
   "metadata": {},
   "source": [
    "### $y$-axis Transformation Equations"
   ]
  },
  {
   "attachments": {},
   "cell_type": "markdown",
   "metadata": {},
   "source": [
    "The following transformations take $r,\\theta,z$ as input.\n",
    "\n",
    "$\n",
    "\\begin{aligned}\n",
    "r\\ge0&\\,\\,\\,\\text{distance from the origin in the xz-plane}\n",
    "\\\\\n",
    "0\\le\\theta\\le2\\pi&\\,\\,\\,\\text{angle from the positive z-axis in the xz-plane}\n",
    "\\\\\n",
    "y&\\,\\,\\,\\text{distance from the xz-plane}\n",
    "\\end{aligned}\n",
    "$\n",
    "\n",
    "$\n",
    "\\begin{aligned}\n",
    "\\text{polar}\\,\\,\\,\n",
    "x(r,\\theta,y)&=r\\sin\\theta\n",
    "\\\\\n",
    "\\text{rectangular}\\,\\,\\,\n",
    "y(r,\\theta,y)&=y\n",
    "\\\\\n",
    "\\text{polar}\\,\\,\\,\n",
    "z(r,\\theta,y)&=r\\cos\\theta\n",
    "\\\\\n",
    "x^2+z^2&=r^2\n",
    "\\\\\n",
    "dV&=r\\,dy\\,dr\\,d\\theta\n",
    "\\end{aligned}\n",
    "$"
   ]
  },
  {
   "attachments": {},
   "cell_type": "markdown",
   "metadata": {},
   "source": [
    "### $x$-axis Transformation Equations"
   ]
  },
  {
   "attachments": {},
   "cell_type": "markdown",
   "metadata": {},
   "source": [
    "The following transformations take $r,\\theta,z$ as input.\n",
    "\n",
    "$\n",
    "\\begin{aligned}\n",
    "r\\ge0&\\,\\,\\,\\text{distance from the origin in the yz-plane}\n",
    "\\\\\n",
    "0\\le\\theta\\le2\\pi&\\,\\,\\,\\text{angle from the positive y-axis in the yz-plane}\n",
    "\\\\\n",
    "x&\\,\\,\\,\\text{distance from the yz-plane}\n",
    "\\end{aligned}\n",
    "$\n",
    "\n",
    "$\n",
    "\\begin{aligned}\n",
    "\\text{rectangular}\\,\\,\\,\n",
    "x(r,\\theta,x)&=x\n",
    "\\\\\n",
    "\\text{polar}\\,\\,\\,\n",
    "y(r,\\theta,x)&=r\\cos\\theta\n",
    "\\\\\n",
    "\\text{polar}\\,\\,\\,\n",
    "z(r,\\theta,x)&=r\\sin\\theta\n",
    "\\\\\n",
    "y^2+z^2&=r^2\n",
    "\\\\\n",
    "dV&=r\\,dx\\,dr\\,d\\theta\n",
    "\\end{aligned}\n",
    "$"
   ]
  },
  {
   "attachments": {},
   "cell_type": "markdown",
   "metadata": {},
   "source": [
    "---"
   ]
  },
  {
   "attachments": {},
   "cell_type": "markdown",
   "metadata": {},
   "source": [
    "## Examples"
   ]
  },
  {
   "attachments": {},
   "cell_type": "markdown",
   "metadata": {},
   "source": [
    "---"
   ]
  },
  {
   "attachments": {},
   "cell_type": "markdown",
   "metadata": {},
   "source": [
    "[EXAMPLE]\n",
    "\n",
    "An object occupies the region\n",
    "\n",
    "$\n",
    "R=\\{0\\le z\\le9-x^2-y^2\\}\n",
    "$\n",
    "\n",
    "and has density\n",
    "\n",
    "$\n",
    "\\begin{aligned}\n",
    "\\rho(x,y,z)=\\frac{x^2z}{x^2+y^2}\n",
    "\\,\\,\\,\\text{g cm}^3\n",
    "\\end{aligned}\n",
    "$\n",
    "\n",
    "Calculate its mass."
   ]
  },
  {
   "attachments": {},
   "cell_type": "markdown",
   "metadata": {},
   "source": [
    "Draw the region in $\\mathbb{R}^3$.\n",
    "\n",
    "$\n",
    "\\begin{aligned}\n",
    "z&=0\n",
    "&&xy\\text{-plane}\n",
    "\\\\\n",
    "z&=9-x^2-y^2\n",
    "&&\\text{elliptic paraboloid with z-intercept of 9 and concave down}\n",
    "\\end{aligned}\n",
    "$"
   ]
  },
  {
   "attachments": {},
   "cell_type": "markdown",
   "metadata": {},
   "source": [
    "Find the new bounds.\n",
    "\n",
    "$\n",
    "\\begin{aligned}\n",
    "0\\le z\\le9-x^2-y^2\n",
    "\\implies\n",
    "0\\le z\\le9-r^2\n",
    "\\end{aligned}\n",
    "$\n",
    "\n",
    "$0\\le\\theta\\le2\\pi$\n",
    "\n",
    "Project the domain onto the polar $xy$-plane to yield a circle of intersection $r=3$.\n",
    "\n",
    "$\n",
    "0=9-r^2\n",
    "\\implies\n",
    "r^2=9\n",
    "\\implies\n",
    "r=3\n",
    "\\,\\,\\,\\text{where r is always nonnegative}\n",
    "$"
   ]
  },
  {
   "attachments": {},
   "cell_type": "markdown",
   "metadata": {},
   "source": [
    "$\n",
    "\\begin{aligned}\n",
    "\\text{mass}\\,\\,\\,\n",
    "m\n",
    "&=\\underset{R}{\\iiint}\\rho(x,y,z)\\,dV\n",
    "=\\underset{R}{\\iiint}\\frac{x^2z}{x^2+y^2}\\,dx\\,dy\\,dz\n",
    "=\\underset{R}{\\iiint}\\frac{(r\\cos\\theta)^2z}{r^2}\\,r\\,dz\\,dr\\,d\\theta\n",
    "\\\\\n",
    "&=\\int_{\\theta=0}^{\\theta=2\\pi}\\int_{r=0}^{r=3}\\int_{z=0}^{z=9-r^2}rz\\cos^2\\theta\\,dz\\,dr\\,d\\theta\n",
    "\\\\\n",
    "&=\\int_{\\theta=0}^{\\theta=2\\pi}\\cos^2\\theta\\,d\\theta\\int_{r=0}^{r=3}\\int_{z=0}^{z=9-r^2}rz\\,dz\\,dr\n",
    "&&\\text{by factoring}\n",
    "\\\\\n",
    "&=\\pi\\int_{r=0}^{r=3}\\int_{z=0}^{z=9-r^2}rz\\,dz\\,dr\n",
    "&&\\pi=\\int_{\\theta=0}^{\\theta=2\\pi}\\cos^2\\theta\\,d\\theta\n",
    "\\\\\n",
    "\\end{aligned}\n",
    "$"
   ]
  },
  {
   "attachments": {},
   "cell_type": "markdown",
   "metadata": {},
   "source": [
    "---"
   ]
  },
  {
   "attachments": {},
   "cell_type": "markdown",
   "metadata": {},
   "source": [
    "[EXAMPLE]\n",
    "\n",
    "$\n",
    "\\begin{aligned}\n",
    "\\underset{R}{\\iiint}x^2y\\,dV\n",
    "\\,\\,\\,\\text{where}\\,\\,\\,\n",
    "R=\\{x^2+z^2\\le25,z\\ge0,0\\le y\\le3\\}\n",
    "\\end{aligned}\n",
    "$"
   ]
  },
  {
   "attachments": {},
   "cell_type": "markdown",
   "metadata": {},
   "source": [
    "Draw the region in $\\mathbb{R}^3$.\n",
    "\n",
    "Half cylinder three units along the $y$-axis."
   ]
  },
  {
   "attachments": {},
   "cell_type": "markdown",
   "metadata": {},
   "source": [
    "Find the new bounds.\n",
    "\n",
    "$\n",
    "0\\le y\\le3\n",
    "$\n",
    "\n",
    "$\n",
    "\\begin{aligned}\n",
    "z\\le0\n",
    "\\implies\n",
    "r\\cos\\theta\\le0\n",
    "\\implies\n",
    "\\cos\\theta\\le0\n",
    "\\implies\n",
    "-\\frac{\\pi}{2}\\le\\theta\\le\\frac{\\pi}{2}\n",
    "\\end{aligned}\n",
    "$\n",
    "\n",
    "Project the domain onto the polar $xz$-plane to yield a semicircle of intersection $r=5$.\n",
    "\n",
    "$\n",
    "x^2+z^2\\le25\n",
    "\\implies\n",
    "r^2\\le25\n",
    "\\implies\n",
    "r\\le5\n",
    "\\,\\,\\,\\text{where r is always nonnegative}\n",
    "$"
   ]
  },
  {
   "attachments": {},
   "cell_type": "markdown",
   "metadata": {},
   "source": [
    "$\n",
    "\\begin{aligned}\n",
    "&\\underset{R}{\\iiint}x^2y\\,dV\n",
    "=\\underset{R}{\\iiint}(r\\sin\\theta)^2y\\,r\\,dy\\,dr\\,d\\theta\n",
    "=\\underset{R}{\\iiint}r^3y\\sin^2\\theta\\,dy\\,dr\\,d\\theta\n",
    "\\\\\n",
    "&=\\int_{\\theta=-\\frac{\\pi}{2}}^{\\theta=\\frac{\\pi}{2}}\\int_{r=0}^{r=5}\\int_{y=0}^{y=3}r^3y\\sin^2\\theta\\,dy\\,dr\\,d\\theta\n",
    "\\end{aligned}\n",
    "$"
   ]
  },
  {
   "attachments": {},
   "cell_type": "markdown",
   "metadata": {},
   "source": [
    "---"
   ]
  },
  {
   "attachments": {},
   "cell_type": "markdown",
   "metadata": {},
   "source": [
    "## Terms"
   ]
  },
  {
   "attachments": {},
   "cell_type": "markdown",
   "metadata": {},
   "source": [
    "* [[W](https://en.wikipedia.org/wiki/Cylindrical_coordinate_system)] Cylindrical Coordinate System\n",
    "* [[W](https://en.wikipedia.org/wiki/Determinant)] Determinant\n",
    "* [[W](https://en.wikipedia.org/wiki/Jacobian_matrix_and_determinant)] Jacobian"
   ]
  },
  {
   "attachments": {},
   "cell_type": "markdown",
   "metadata": {},
   "source": [
    "---"
   ]
  }
 ],
 "metadata": {
  "language_info": {
   "name": "python"
  },
  "orig_nbformat": 4
 },
 "nbformat": 4,
 "nbformat_minor": 2
}
