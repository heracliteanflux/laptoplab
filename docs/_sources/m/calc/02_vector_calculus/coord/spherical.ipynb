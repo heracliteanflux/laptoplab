{
 "cells": [
  {
   "attachments": {},
   "cell_type": "markdown",
   "metadata": {},
   "source": [
    "# Spherical Coordinates"
   ]
  },
  {
   "attachments": {},
   "cell_type": "markdown",
   "metadata": {},
   "source": [
    "in $\\mathbb{R}^3$"
   ]
  },
  {
   "cell_type": "markdown",
   "metadata": {},
   "source": [
    "$\n",
    "\\boxed{\n",
    "\\begin{aligned}\n",
    "T&:(\\rho,\\phi,\\theta)\\mapsto(x,y,z)\n",
    "\\\\\n",
    "T^{-1}&:(x,y,z)\\mapsto(\\rho,\\phi,\\theta)\n",
    "\\\\\n",
    "T(\\rho,\\phi,\\theta)&=(\\rho\\sin\\phi\\cos\\theta,\\rho\\sin\\phi\\sin\\theta,\\rho\\cos\\phi)\n",
    "\\\\\n",
    "&=(x(\\rho,\\phi,\\theta),y(\\rho,\\phi,\\theta),z(\\rho,\\phi,\\theta))\n",
    "&&\\text{transformation}\n",
    "\\\\\n",
    "\\hline\n",
    "\\\\\n",
    "x(\\rho,\\phi,\\theta)=r\\cos\\theta&=\\rho\\sin\\phi\\cos\\theta\n",
    "\\\\\n",
    "y(\\rho,\\phi,\\theta)=r\\sin\\theta&=\\rho\\sin\\phi\\sin\\theta\n",
    "\\\\\n",
    "z(\\rho,\\phi,\\theta)&=\\rho\\cos\\phi\n",
    "&&\\text{transformation equations}\n",
    "\\\\\n",
    "\\hline\n",
    "\\\\\n",
    "\\sqrt{x^2+y^2}=r&=\\rho\\sin\\phi\n",
    "\\\\\n",
    "x^2+y^2+z^2&=\\rho^2\n",
    "&&\\text{Pythagorean identity}\n",
    "\\\\\n",
    "dV&=\\rho^2\\sin\\phi\\,d\\rho\\,d\\phi\\,d\\theta\n",
    "&&\\text{Jacobian}\n",
    "\\end{aligned}\n",
    "}\n",
    "$"
   ]
  },
  {
   "attachments": {},
   "cell_type": "markdown",
   "metadata": {},
   "source": [
    "---"
   ]
  },
  {
   "attachments": {},
   "cell_type": "markdown",
   "metadata": {},
   "source": [
    "```{admonition} Revised\n",
    "02 Apr 2023\n",
    "```\n",
    "```{contents}\n",
    "```"
   ]
  },
  {
   "attachments": {},
   "cell_type": "markdown",
   "metadata": {},
   "source": [
    "---"
   ]
  },
  {
   "attachments": {},
   "cell_type": "markdown",
   "metadata": {},
   "source": [
    "## Spherical Coordinate System"
   ]
  },
  {
   "attachments": {},
   "cell_type": "markdown",
   "metadata": {},
   "source": [
    "Spherical coordinates are good to use for regions with more than one axis of rotational symmetry.\n",
    "\n",
    "In other words, more than one of the cross sections of the region is circular."
   ]
  },
  {
   "attachments": {},
   "cell_type": "markdown",
   "metadata": {},
   "source": [
    "---"
   ]
  },
  {
   "attachments": {},
   "cell_type": "markdown",
   "metadata": {},
   "source": [
    "## Transformation Equations $(x,y,z)\\leftrightarrow(\\rho,\\phi,\\theta)$"
   ]
  },
  {
   "attachments": {},
   "cell_type": "markdown",
   "metadata": {},
   "source": [
    "$\n",
    "\\begin{aligned}\n",
    "\\rho\\ge0&\\,\\,\\,\\text{distance from the origin}\n",
    "\\\\\n",
    "0\\le\\phi\\le\\pi&\\,\\,\\,\\text{angle from the positive z-axis to the negative z-axis}\n",
    "\\\\\n",
    "0\\le\\theta\\le2\\pi&\\,\\,\\,\\text{angle from the positive x-axis in the xy-plane}\n",
    "\\end{aligned}\n",
    "$\n",
    "\n",
    "If we are thinking about the Earth, then $\\theta$ is longitude, $\\phi$ is latitude, and $\\rho$ is the distance from the center of the Earth."
   ]
  },
  {
   "attachments": {},
   "cell_type": "markdown",
   "metadata": {},
   "source": [
    "$\n",
    "\\begin{aligned}\n",
    "x(\\rho,\\phi,\\theta)&=r\\cos\\theta=\\rho\\sin\\phi\\cos\\theta\n",
    "\\\\\n",
    "y(\\rho,\\phi,\\theta)&=r\\sin\\theta=\\rho\\sin\\phi\\sin\\theta\n",
    "\\\\\n",
    "z(\\rho,\\phi,\\theta)&=\\rho\\cos\\phi\n",
    "\\\\\n",
    "\\sqrt{x^2+y^2}&=r=\\rho\\sin\\phi\n",
    "\\\\\n",
    "x^2+y^2+z^2&=\\rho^2\n",
    "\\end{aligned}\n",
    "$"
   ]
  },
  {
   "cell_type": "markdown",
   "metadata": {},
   "source": [
    "### Infinitesimals"
   ]
  },
  {
   "attachments": {},
   "cell_type": "markdown",
   "metadata": {},
   "source": [
    "$d\\rho\\,d\\phi\\,d\\theta$-voxels in the rectangular $\\rho\\phi\\theta$-grid are transformed into 3D wedges $dV$ in the spherical $xyz$-grid.\n",
    "\n",
    "$\n",
    "\\begin{aligned}\n",
    "dV\\ne d\\rho\\,d\\phi\\,d\\theta\n",
    "\\end{aligned}\n",
    "$\n",
    "\n",
    "How big is spherical $dV$ in relation to rectangular $d\\rho\\,d\\phi\\,d\\theta$-voxel?\n",
    "\n",
    "The further the $d\\rho\\,d\\phi\\,d\\theta$-voxel is in the $\\rho$-direction in the rectangular $d\\rho\\,d\\phi\\,d\\theta$-grid the larger the 3D wedge $dV$ is in the spherical $xyz$-grid.\n",
    "\n",
    "$\n",
    "\\begin{aligned}\n",
    "dV=\\rho^2\\sin\\phi\\,d\\rho\\,d\\phi\\,d\\theta\n",
    "&&\\text{from the Jacobian}\n",
    "\\end{aligned}\n",
    "$"
   ]
  },
  {
   "cell_type": "markdown",
   "metadata": {},
   "source": [
    "### Jacobian"
   ]
  },
  {
   "attachments": {},
   "cell_type": "markdown",
   "metadata": {},
   "source": [
    "$\n",
    "\\begin{aligned}\n",
    "\\frac{\\partial(x,y,z)}{\\partial(\\rho,\\phi,\\theta)}\n",
    "&=\\begin{vmatrix}\n",
    "\\dfrac{\\partial x}{\\partial \\rho} & \\dfrac{\\partial x}{\\partial \\phi} & \\dfrac{\\partial x}{\\partial \\theta}\n",
    "\\\\\\\\\n",
    "\\dfrac{\\partial y}{\\partial \\rho} & \\dfrac{\\partial y}{\\partial \\phi} & \\dfrac{\\partial y}{\\partial \\theta}\n",
    "\\\\\\\\\n",
    "\\dfrac{\\partial z}{\\partial \\rho} & \\dfrac{\\partial z}{\\partial \\phi} & \\dfrac{\\partial z}{\\partial \\theta}\n",
    "\\end{vmatrix}\n",
    "=\\begin{vmatrix}\n",
    "\\sin\\phi\\cos\\theta & \\rho\\cos\\phi\\cos\\theta & -\\rho\\sin\\phi\\sin\\theta\n",
    "\\\\\\\\\n",
    "\\sin\\phi\\sin\\theta & \\rho\\cos\\phi\\sin\\theta &  \\rho\\sin\\phi\\cos\\theta\n",
    "\\\\\\\\\n",
    "\\cos\\phi & -\\rho\\sin\\phi & 0\n",
    "\\end{vmatrix}\n",
    "=\\cos\\phi\n",
    "\\begin{vmatrix}\n",
    "\\rho\\cos\\phi\\cos\\theta & -\\rho\\sin\\phi\\sin\\theta\n",
    "\\\\\\\\\n",
    "\\rho\\cos\\phi\\sin\\theta &  \\rho\\sin\\phi\\cos\\theta\n",
    "\\end{vmatrix}\n",
    "+\n",
    "\\rho\\sin\\phi\n",
    "\\begin{vmatrix}\n",
    "\\sin\\phi\\cos\\theta & -\\rho\\sin\\phi\\sin\\theta\n",
    "\\\\\\\\\n",
    "\\sin\\phi\\sin\\theta &  \\rho\\sin\\phi\\cos\\theta\n",
    "\\end{vmatrix}\n",
    "\\\\\n",
    "&=\\cos\\phi(\\rho^2\\cos\\phi\\sin\\phi\\cos^2\\theta+\\rho^2\\cos\\phi\\sin\\phi\\sin^2\\theta)\n",
    "+\\rho\\sin\\phi(\\rho\\sin^2\\phi\\cos^2\\theta+\\rho\\sin^2\\phi\\sin^2\\theta)\n",
    "\\\\\n",
    "&=\\rho^2\\cos^2\\phi\\sin\\phi(\\cos^2\\theta+\\sin^2\\theta)\n",
    "+\\rho^2\\sin^3\\phi(\\cos^2\\theta+\\sin^2\\theta)\n",
    "\\\\\n",
    "&=\\rho^2\\sin\\phi(\\cos^2\\phi+\\sin^2\\phi)\n",
    "\\\\\n",
    "&=\\rho^2\\sin\\phi\n",
    "\\end{aligned}\n",
    "$"
   ]
  },
  {
   "attachments": {},
   "cell_type": "markdown",
   "metadata": {},
   "source": [
    "---"
   ]
  },
  {
   "attachments": {},
   "cell_type": "markdown",
   "metadata": {},
   "source": [
    "## Examples"
   ]
  },
  {
   "attachments": {},
   "cell_type": "markdown",
   "metadata": {},
   "source": [
    "---"
   ]
  },
  {
   "attachments": {},
   "cell_type": "markdown",
   "metadata": {},
   "source": [
    "[EXAMPLE]\n",
    "\n",
    "An upper half ball of radius $\\rho=3$ centered at the origin has a density $d$\n",
    "\n",
    "$\n",
    "\\begin{aligned}\n",
    "d(x,y,z)\n",
    "=\\frac{x^2z}{x^2+y^2+z^2}\n",
    "\\,\\,\\,\\text{g cm}^3\n",
    "\\end{aligned}\n",
    "$\n",
    "\n",
    "Calculate its mass.\n",
    "\n",
    "$\n",
    "\\boxed{\n",
    "\\text{mass}\\,\\,\\,\n",
    "m=\\frac{81\\pi}{16}\n",
    "\\,\\,\\,\\text{g}\n",
    "}\n",
    "$"
   ]
  },
  {
   "attachments": {},
   "cell_type": "markdown",
   "metadata": {},
   "source": [
    "$\n",
    "\\begin{aligned}\n",
    "\\text{mass}\\,\\,\\,\n",
    "m\n",
    "=\\underset{R}{\\iiint}d(x,y,z)\\,dV\n",
    "=\\underset{R}{\\iiint}\\frac{x^2z}{x^2+y^2+z^2}\\,dx\\,dy\\,dz\n",
    "\\end{aligned}\n",
    "$"
   ]
  },
  {
   "attachments": {},
   "cell_type": "markdown",
   "metadata": {},
   "source": [
    "Draw the region in $\\mathbb{R}^3$."
   ]
  },
  {
   "attachments": {},
   "cell_type": "markdown",
   "metadata": {},
   "source": [
    "Find the new bounds.\n",
    "\n",
    "$\n",
    "0\\le\\rho\\le3\n",
    "$\n",
    "\n",
    "$\n",
    "\\begin{aligned}\n",
    "z\\ge0\n",
    "\\implies\n",
    "\\rho\\cos\\phi\\ge0\n",
    "\\implies\n",
    "\\cos\\phi\\ge0\n",
    "\\implies\n",
    "0\\le\\phi\\le\\frac{\\pi}{2}\n",
    "\\,\\,\\,\\text{where}\\,\\,\\,\n",
    "0\\le\\phi\\le\\pi\n",
    "\\end{aligned}\n",
    "$\n",
    "\n",
    "$\n",
    "0\\le\\theta\\le2\\pi\n",
    "$"
   ]
  },
  {
   "attachments": {},
   "cell_type": "markdown",
   "metadata": {},
   "source": [
    "$\n",
    "\\begin{aligned}\n",
    "\\text{mass}\\,\\,\\,\n",
    "m\n",
    "&=\\underset{R}{\\iiint}\\frac{x^2z}{x^2+y^2+z^2}\\,dx\\,dy\\,dz\n",
    "\\\\\n",
    "&=\\underset{R}{\\iiint}\\frac{(\\rho\\sin\\phi\\cos\\theta)^2(\\rho\\cos\\phi)}{\\rho^2}\\rho^2\\sin\\phi\\,d\\rho\\,d\\phi\\,d\\theta\n",
    "=\\underset{R}{\\iiint}\\rho^3\\sin^3\\phi\\cos\\phi\\cos^2\\theta\\,d\\rho\\,d\\phi\\,d\\theta\n",
    "\\\\\n",
    "&=\\int_{\\theta=0}^{\\theta=2\\pi}\\int_{\\phi=0}^{\\phi=\\frac{\\pi}{2}}\\int_{\\rho=0}^{\\rho=3}\\rho^3\\sin^3\\phi\\cos\\phi\\cos^2\\theta\\,d\\rho\\,d\\phi\\,d\\theta\n",
    "\\\\\n",
    "&=\\int_{\\theta=0}^{\\theta=2\\pi}\\cos^2\\theta\\,d\\theta\\int_{\\phi=0}^{\\phi=\\frac{\\pi}{2}}\\sin^3\\phi\\cos\\phi\\,d\\phi\\int_{\\rho=0}^{\\rho=3}\\rho^3\\,d\\rho\n",
    "&&\\text{by factoring}\n",
    "\\\\\n",
    "&=\\pi\\int_{\\phi=0}^{\\phi=\\frac{\\pi}{2}}\\sin^3\\phi\\cos\\phi\\,d\\phi\\int_{\\rho=0}^{\\rho=3}\\rho^3\\,d\\rho\n",
    "&&\\pi=\\int_{\\theta=0}^{\\theta=2\\pi}\\cos^2\\theta\\,d\\theta\n",
    "\\,\\,\\,\\text{by trigonometric symmetry}\n",
    "\\\\\n",
    "&=\\frac{\\pi}{4}\\int_{\\rho=0}^{\\rho=3}\\rho^3\\,d\\rho\n",
    "&&\\frac{1}{4}=\\int_{\\phi=0}^{\\phi=\\frac{\\pi}{2}}\\sin^3\\phi\\cos\\phi\\,d\\phi\n",
    "\\,\\,\\,\\text{by u-substitution}\n",
    "\\\\\n",
    "&=\\frac{81\\pi}{16}\n",
    "&&\\frac{3^4}{4}=\\int_{\\rho=0}^{\\rho=3}\\rho^3\\,d\\rho\n",
    "\\end{aligned}\n",
    "$"
   ]
  },
  {
   "attachments": {},
   "cell_type": "markdown",
   "metadata": {},
   "source": [
    "$\n",
    "\\begin{aligned}\n",
    "&\\int_{\\phi=0}^{\\phi=\\frac{\\pi}{2}}\\sin^3\\phi\\cos\\phi\\,d\\phi\n",
    "\\\\\n",
    "u&=\\sin\\phi\n",
    "\\\\\n",
    "du&=\\cos\\phi\\,d\\phi\n",
    "\\\\\n",
    "\\phi&=0\n",
    "\\implies\n",
    "u=0\n",
    "\\\\\n",
    "\\phi&=\\frac{\\pi}{2}\n",
    "\\implies\n",
    "u=1\n",
    "\\\\\n",
    "&\\int_{\\phi=0}^{\\phi=\\frac{\\pi}{2}}\\sin^3\\phi\\cos\\phi\\,d\\phi\n",
    "=\\int_{u=0}^{u=1}u^3\\,du\n",
    "=\\left.\\left(\\frac{1}{4}u^4\\right)\\right|_{u=0}^{u=1}\n",
    "=\\frac{1}{4}\n",
    "\\end{aligned}\n",
    "$"
   ]
  },
  {
   "attachments": {},
   "cell_type": "markdown",
   "metadata": {},
   "source": [
    "---"
   ]
  },
  {
   "attachments": {},
   "cell_type": "markdown",
   "metadata": {},
   "source": [
    "[EXAMPLE]"
   ]
  },
  {
   "attachments": {},
   "cell_type": "markdown",
   "metadata": {},
   "source": [
    "$\n",
    "\\begin{aligned}\n",
    "\\frac{64\\pi}{5}\\left(\\frac{1}{3}-\\frac{1}{3\\sqrt[3]{2}}\\right)\n",
    "=\\underset{R}{\\iiint}z^2\\,dV\n",
    "\\,\\,\\,\\text{where}\\,\\,\\,\n",
    "R=\\left\\{(x,y,z)\\mid x^2+y^2+z^2\\le4,z\\le\\sqrt{x^2+y^2}\\right\\}\n",
    "\\end{aligned}\n",
    "$"
   ]
  },
  {
   "attachments": {},
   "cell_type": "markdown",
   "metadata": {},
   "source": [
    "Draw the region in $\\mathbb{R}^3$.\n",
    "\n",
    "Cone with a spherical top\n",
    "* Sphere of radius 2 at the origin $x^2+y^2+z^2=4$\n",
    "* Cone $z=\\sqrt{x^2+y^2}$"
   ]
  },
  {
   "attachments": {},
   "cell_type": "markdown",
   "metadata": {},
   "source": [
    "Find the new bounds.\n",
    "\n",
    "$\n",
    "x^2+y^2+z^2\\le4\n",
    "\\implies\n",
    "\\rho^2\\le4\n",
    "\\implies\n",
    "\\rho\\le2\n",
    "\\,\\,\\,\\text{where}\\,\\,\\,\n",
    "\\rho\\ge0\n",
    "$\n",
    "\n",
    "$\n",
    "\\begin{aligned}\n",
    "z\\le\\sqrt{x^2+y^2}\n",
    "\\implies\n",
    "\\rho\\cos\\phi\\le\\rho\\sin\\phi\n",
    "\\implies\n",
    "\\cos\\phi\\le\\sin\\phi\n",
    "\\implies\n",
    "\\cot\\phi\\le1\\le\\tan\\phi\n",
    "\\implies\n",
    "\\phi=\\frac{\\pi}{4}\n",
    "\\,\\,\\,\\text{where}\\,\\,\\,\n",
    "0\\le\\phi\\le\\pi\n",
    "\\end{aligned}\n",
    "$\n",
    "\n",
    "$0\\le\\theta\\le2\\pi$"
   ]
  },
  {
   "attachments": {},
   "cell_type": "markdown",
   "metadata": {},
   "source": [
    "$\n",
    "\\begin{aligned}\n",
    "\\underset{R}{\\iiint}z^2\\,dV\n",
    "&=\\underset{R}{\\iiint}(\\rho\\cos\\phi)^2\\rho^2\\sin\\phi\\,d\\rho\\,d\\phi\\,d\\theta\n",
    "=\\underset{R}{\\iiint}\\rho^4\\cos^2\\phi\\sin\\phi\\,d\\rho\\,d\\phi\\,d\\theta\n",
    "\\\\\n",
    "&=\\int_{\\theta=0}^{\\theta=2\\pi}\\int_{\\phi=0}^{\\phi=\\frac{\\pi}{4}}\\int_{\\rho=0}^{\\rho=2}\\rho^4\\cos^2\\phi\\sin\\phi\\,d\\rho\\,d\\phi\\,d\\theta\n",
    "\\\\\n",
    "&=\\int_{\\theta=0}^{\\theta=2\\pi}\\,d\\theta\\int_{\\phi=0}^{\\phi=\\frac{\\pi}{4}}\\cos^2\\phi\\sin\\phi\\,d\\phi\\int_{\\rho=0}^{\\rho=2}\\rho^4\\,d\\rho\n",
    "&&\\text{by factoring}\n",
    "\\\\\n",
    "&=\\frac{64\\pi}{5}\\int_{\\phi=0}^{\\phi=\\frac{\\pi}{4}}\\cos^2\\phi\\sin\\phi\\,d\\phi\n",
    "&&\\frac{2^5}{5}=\\int_{\\rho=0}^{\\rho=2}\\rho^4\\,d\\rho\n",
    "\\\\\n",
    "&=\\frac{64\\pi}{5}\\left(\\frac{1}{3}-\\frac{1}{3\\sqrt[3]{2}}\\right)\n",
    "&&\\frac{1}{3}-\\frac{1}{3\\sqrt[3]{2}}=\\int_{\\phi=0}^{\\phi=\\frac{\\pi}{4}}\\cos^2\\phi\\sin\\phi\\,d\\phi\n",
    "\\\\\n",
    "&\\approx8.6651\n",
    "\\end{aligned}\n",
    "$"
   ]
  },
  {
   "cell_type": "code",
   "execution_count": 1,
   "metadata": {},
   "outputs": [
    {
     "data": {
      "text/plain": [
       "8.66505352128086"
      ]
     },
     "execution_count": 1,
     "metadata": {},
     "output_type": "execute_result"
    }
   ],
   "source": [
    "import numpy as np\n",
    "\n",
    "64*np.pi/5*((1/3)-(1/(3*2**(3/2))))"
   ]
  },
  {
   "attachments": {},
   "cell_type": "markdown",
   "metadata": {},
   "source": [
    "$\n",
    "\\begin{aligned}\n",
    "&\\int_0^\\frac{\\pi}{4}\\cos^2\\theta\\sin\\theta\\,d\\theta\n",
    "\\\\\n",
    "u&=\\cos\\theta\n",
    "\\\\\n",
    "du&=-\\sin\\theta\\,d\\theta\n",
    "\\iff\n",
    "-du=\\sin\\theta\\,d\\theta\n",
    "\\\\\n",
    "\\theta&=0\n",
    "\\implies\n",
    "u=1\n",
    "\\\\\n",
    "\\theta&=\\frac{\\pi}{4}\n",
    "\\implies\n",
    "u=\\frac{1}{\\sqrt{2}}\n",
    "\\\\\n",
    "&\\int_0^\\frac{\\pi}{4}\\cos^2\\theta\\sin\\theta\\,d\\theta\n",
    "=\\int_\\frac{1}{\\sqrt{2}}^1u^2\\,du\n",
    "=\\left.\\left(\\frac{1}{3}u^3\\right)\\right|_\\frac{1}{\\sqrt{2}}^1\n",
    "=\\frac{1}{3}-\\frac{1}{3}\\left(\\frac{1}{\\sqrt{2}}\\right)^3\n",
    "=\\frac{1}{3}-\\frac{1}{3\\sqrt[3]{2}}\n",
    "\\approx0.2155\n",
    "\\end{aligned}\n",
    "$"
   ]
  },
  {
   "cell_type": "code",
   "execution_count": 2,
   "metadata": {},
   "outputs": [
    {
     "data": {
      "text/plain": [
       "0.21548220313557542"
      ]
     },
     "execution_count": 2,
     "metadata": {},
     "output_type": "execute_result"
    }
   ],
   "source": [
    "((1/3)-(1/(3*2**(3/2))))"
   ]
  },
  {
   "attachments": {},
   "cell_type": "markdown",
   "metadata": {},
   "source": [
    "---"
   ]
  },
  {
   "attachments": {},
   "cell_type": "markdown",
   "metadata": {},
   "source": [
    "[EXAMPLE]"
   ]
  },
  {
   "attachments": {},
   "cell_type": "markdown",
   "metadata": {},
   "source": [
    "$\n",
    "\\begin{aligned}\n",
    "\\underset{R}{\\iiint}\\sqrt{x^2+y^2+z^2}\\,dV\n",
    "\\,\\,\\,\\text{where}\\,\\,\\,\n",
    "R=\\{(x,y,z)\\mid x^2+y^2+z^2\\le4,z\\ge1\\}\n",
    "\\end{aligned}\n",
    "$"
   ]
  },
  {
   "attachments": {},
   "cell_type": "markdown",
   "metadata": {},
   "source": [
    "Draw the region in $\\mathbb{R}^3$.\n",
    "\n",
    "Region bounded by\n",
    "* Sphere of radius 2\n",
    "* Plane parallel to the $xy$-plane at $z=1$"
   ]
  },
  {
   "attachments": {},
   "cell_type": "markdown",
   "metadata": {},
   "source": [
    "Find the new bounds.\n",
    "\n",
    "$\n",
    "x^2+y^2+z^2\\le4\n",
    "\\iff\n",
    "\\rho^2\\le4\n",
    "\\iff\n",
    "\\rho\\le2\n",
    "\\,\\,\\,\\text{where}\\,\\,\\,\n",
    "\\rho\\ge0\n",
    "$\n",
    "\n",
    "equation of the sphere $\\rho=2$\n",
    "\n",
    "$\n",
    "z\\ge1\n",
    "\\iff\n",
    "\\rho\\cos\\phi\\ge1\n",
    "\\iff\n",
    "\\rho\\ge\\sec\\phi\n",
    "$\n",
    "\n",
    "equation of the plane $\\rho=\\sec\\phi$\n",
    "\n",
    "$\\sec\\phi\\le\\rho\\le2$\n",
    "\n",
    "$\n",
    "\\begin{aligned}\n",
    "2=\\sec\\phi\n",
    "\\iff\n",
    "\\cos\\phi=\\frac{1}{2}\n",
    "\\iff\n",
    "\\phi=\\frac{\\pi}{3}\n",
    "\\end{aligned}\n",
    "$\n",
    "\n",
    "$\n",
    "\\begin{aligned}\n",
    "0\\le\\phi\\le\\frac{\\pi}{3}\n",
    "\\end{aligned}\n",
    "$\n",
    "\n",
    "$0\\le\\theta\\le2\\pi$"
   ]
  },
  {
   "attachments": {},
   "cell_type": "markdown",
   "metadata": {},
   "source": [
    "$\n",
    "\\begin{aligned}\n",
    "\\underset{R}{\\iiint}\\sqrt{x^2+y^2+z^2}\\,dV\n",
    "&=\\underset{R}{\\iiint}\\rho^3\\sin\\phi\\,d\\rho\\,d\\phi\\,d\\theta\n",
    "\\\\\n",
    "&=\\int_{\\theta=0}^{\\theta=2\\pi}\\int_{\\phi=0}^{\\phi=\\frac{\\pi}{3}}\\int_{\\rho=\\sec\\phi}^{\\rho=2}\\rho^3\\sin\\phi\\,d\\rho\\,d\\phi\\,d\\theta\n",
    "\\\\\n",
    "&=\\int_{\\theta=0}^{\\theta=2\\pi}\\,d\\theta\\int_{\\phi=0}^{\\phi=\\frac{\\pi}{3}}\\int_{\\rho=\\sec\\phi}^{\\rho=2}\\rho^3\\sin\\phi\\,d\\rho\\,d\\phi\n",
    "&&\\text{by factoring}\n",
    "\\\\\n",
    "\\\\\n",
    "&=2\\pi\\int_{\\phi=0}^{\\phi=\\frac{\\pi}{3}}\\int_{\\rho=\\sec\\phi}^{\\rho=2}\\rho^3\\sin\\phi\\,d\\rho\\,d\\phi\n",
    "\\\\\n",
    "&=2\\pi\\int_{\\phi=0}^{\\phi=\\frac{\\pi}{3}}\\left.\\left(\\frac{1}{4}\\rho^4\\sin\\phi\\right)\\right|_{\\rho=\\sec\\phi}^{\\rho=2}\\,d\\phi\n",
    "\\\\\n",
    "&=\\frac{\\pi}{2}\\int_{\\phi=0}^{\\phi=\\frac{\\pi}{3}}(16\\sin\\phi-\\sec^4\\phi\\sin\\phi)\\,d\\phi\n",
    "\\\\\n",
    "&=8\\pi\\int_{\\phi=0}^{\\phi=\\frac{\\pi}{3}}\\sin\\phi\\,d\\phi-\\frac{\\pi}{2}\\int_{\\phi=0}^{\\phi=\\frac{\\pi}{3}}\\sec^4\\phi\\sin\\phi\\,d\\phi\n",
    "\\\\\n",
    "&=4\\pi-\\frac{\\pi}{2}\\int_{\\phi=0}^{\\phi=\\frac{\\pi}{3}}\\sec^4\\phi\\sin\\phi\\,d\\phi\n",
    "&&\\frac{1}{2}=\\int_{\\phi=0}^{\\phi=\\frac{\\pi}{3}}\\sin\\phi\\,d\\phi\n",
    "\\\\\n",
    "&=4\\pi-\\frac{7\\pi}{6}\n",
    "&&\\frac{7}{3}=\\int_0^\\frac{\\pi}{3}\\sec^4\\theta\\sin\\theta\\,d\\theta\n",
    "\\\\\n",
    "&=\\frac{17\\pi}{6}\n",
    "\\end{aligned}\n",
    "$"
   ]
  },
  {
   "attachments": {},
   "cell_type": "markdown",
   "metadata": {},
   "source": [
    "$\n",
    "\\begin{aligned}\n",
    "\\int_0^\\frac{\\pi}{3}\\sec^4\\theta\\sin\\theta\\,d\\theta\n",
    "&=\\int_0^\\frac{\\pi}{3}\\frac{1}{\\cos^4\\theta}\\sin\\theta\\,d\\theta\n",
    "\\\\\n",
    "u&=\\cos\\theta\n",
    "\\\\\n",
    "du&=-\\sin\\theta\\,d\\theta\n",
    "\\iff\n",
    "-du=\\sin\\theta\\,d\\theta\n",
    "\\\\\n",
    "\\theta&=0\n",
    "\\implies\n",
    "u=1\n",
    "\\\\\n",
    "\\theta&=\\frac{\\pi}{3}\n",
    "\\implies\n",
    "u=\\frac{1}{2}\n",
    "\\\\\n",
    "\\int_0^\\frac{\\pi}{3}\\sec^4\\theta\\sin\\theta\\,d\\theta\n",
    "&=\\int_\\frac{1}{2}^1u^{-4}\\,du\n",
    "\\\\\n",
    "&=\\left.\\left(-\\frac{1}{3}u^{-3}\\right)\\right|_\\frac{1}{2}^1\n",
    "=-\\frac{1}{3}(1)^{-3}+\\frac{1}{3}\\left(\\frac{1}{2}\\right)^{-3}\n",
    "=\\frac{7}{3}\n",
    "\\end{aligned}\n",
    "$"
   ]
  },
  {
   "attachments": {},
   "cell_type": "markdown",
   "metadata": {},
   "source": [
    "---"
   ]
  },
  {
   "attachments": {},
   "cell_type": "markdown",
   "metadata": {},
   "source": [
    "## GeoGebra"
   ]
  },
  {
   "attachments": {},
   "cell_type": "markdown",
   "metadata": {},
   "source": [
    "R=3\n",
    "\n",
    "surface(Rsin(p)cos(t),Rsin(p)sin(t),Rcos(p),p,0,P,t,0,T)"
   ]
  },
  {
   "attachments": {},
   "cell_type": "markdown",
   "metadata": {},
   "source": [
    "---"
   ]
  },
  {
   "attachments": {},
   "cell_type": "markdown",
   "metadata": {},
   "source": [
    "## Terms"
   ]
  },
  {
   "attachments": {},
   "cell_type": "markdown",
   "metadata": {},
   "source": [
    "* [[W](https://en.wikipedia.org/wiki/Determinant)] Determinant\n",
    "* [[W](https://en.wikipedia.org/wiki/Fundamental_plane_(spherical_coordinates))] Fundamental Plane\n",
    "* [[W](https://en.wikipedia.org/wiki/Jacobian_matrix_and_determinant)] Jacobian\n",
    "* [[W](https://en.wikipedia.org/wiki/Spherical_coordinate_system)] Spherical Coordinate System"
   ]
  },
  {
   "attachments": {},
   "cell_type": "markdown",
   "metadata": {},
   "source": [
    "---"
   ]
  }
 ],
 "metadata": {
  "kernelspec": {
   "display_name": "main",
   "language": "python",
   "name": "python3"
  },
  "language_info": {
   "codemirror_mode": {
    "name": "ipython",
    "version": 3
   },
   "file_extension": ".py",
   "mimetype": "text/x-python",
   "name": "python",
   "nbconvert_exporter": "python",
   "pygments_lexer": "ipython3",
   "version": "3.10.8"
  },
  "orig_nbformat": 4
 },
 "nbformat": 4,
 "nbformat_minor": 2
}
