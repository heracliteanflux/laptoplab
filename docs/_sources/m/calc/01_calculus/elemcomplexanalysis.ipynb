{
 "cells": [
  {
   "attachments": {},
   "cell_type": "markdown",
   "metadata": {},
   "source": [
    "# Elementary Complex Analysis"
   ]
  },
  {
   "attachments": {},
   "cell_type": "markdown",
   "metadata": {},
   "source": [
    "---"
   ]
  },
  {
   "attachments": {},
   "cell_type": "markdown",
   "metadata": {},
   "source": [
    "```{admonition} Revised\n",
    "07 May 2023\n",
    "```\n",
    "```{contents}\n",
    "```"
   ]
  },
  {
   "attachments": {},
   "cell_type": "markdown",
   "metadata": {},
   "source": [
    "---"
   ]
  },
  {
   "cell_type": "code",
   "execution_count": 96,
   "metadata": {
    "tags": [
     "hide-input"
    ]
   },
   "outputs": [
    {
     "name": "stdout",
     "output_type": "stream",
     "text": [
      "EXECUTED            : 2023-05-07 15:32:43.759892\n",
      "\n",
      "Platform            : 13.3.1 | Darwin | 22.4.0 | arm64\n",
      "                    : UTF-8\n",
      "\n",
      "Python              : 3.10.8 | packaged by conda-forge | (main, Nov 22 2022, 08:25:29) [Clang 14.0.6 ]\n",
      "                    : sys.version_info(major=3, minor=10, micro=8, releaselevel='final', serial=0)\n",
      "                    : CPython\n",
      "\n",
      "Matplotlib          : 3.6.3\n",
      "NumPy               : 1.24.1\n",
      "SciPy               : 1.10.0\n"
     ]
    }
   ],
   "source": [
    "import numpy             as np\n",
    "import matplotlib        as mpl\n",
    "from   matplotlib        import cm\n",
    "from   matplotlib.ticker import LinearLocator\n",
    "import matplotlib.pyplot as plt\n",
    "import matplotlib.image  as mpimg\n",
    "plt.style.use('ggplot');\n",
    "#mpl.projections.get_projection_names()\n",
    "#plt.style.available\n",
    "\n",
    "import scipy\n",
    "from   scipy import integrate\n",
    "\n",
    "import  math\n",
    "import cmath\n",
    "\n",
    "from IPython.display import display, Math\n",
    "\n",
    "from   datetime import datetime as d\n",
    "import locale                   as l\n",
    "import platform                 as p\n",
    "import sys                      as s\n",
    "\n",
    "pad = 20\n",
    "print(f\"{'Executed'.upper():<{pad}}: {d.now()}\")\n",
    "print()\n",
    "print(f\"{'Platform'   :<{pad}}: \"\n",
    "      f\"{p.mac_ver()[0]} | \"\n",
    "      f\"{p.system()} | \"\n",
    "      f\"{p.release()} | \"\n",
    "      f\"{p.machine()}\")\n",
    "print(f\"{''           :<{pad}}: {l.getpreferredencoding()}\")\n",
    "print()\n",
    "print(f\"{'Python'     :<{pad}}: {s.version}\")\n",
    "print(f\"{''           :<{pad}}: {s.version_info}\")\n",
    "print(f\"{''           :<{pad}}: {p.python_implementation()}\")\n",
    "print()\n",
    "print(f\"{'Matplotlib' :<{pad}}: {mpl.__version__}\")\n",
    "print(f\"{'NumPy'      :<{pad}}: {np .__version__}\")\n",
    "print(f\"{'SciPy'      :<{pad}}: {scipy.__version__}\")"
   ]
  },
  {
   "cell_type": "code",
   "execution_count": 119,
   "metadata": {},
   "outputs": [],
   "source": [
    "def translate (z,z0=1+2j):\n",
    "  return z0+z\n",
    "def scale (z,r=0.5):\n",
    "  return r*z\n",
    "def rotate90 (z):\n",
    "  \"Multiply z by i to rotate by 90 degrees.\"\n",
    "  return complex(-z.imag,z.real)\n",
    "def rotate180 (z):\n",
    "  \"Multiply z by -1=i^2 to rotate by 180 degrees.\"\n",
    "  return -z\n",
    "def rotate270 (z):\n",
    "  \"Multiply z by -i=i^3 to rotate by 270 degrees.\"\n",
    "  return complex(z.imag,-z.real)\n",
    "def rotate (z,tau):\n",
    "  \"Rotate z by tau radians.\"\n",
    "  return z*cmath.e**(tau*1j)\n",
    "def uC (z):\n",
    "  \"Project a complex number onto the unit circle.\"\n",
    "  return cmath.e**(1j*cmath.polar(z)[1])\n",
    "\n",
    "def pC (S,xl=-10,yl=10,dpi=100,t='n',v='n'):\n",
    "  \"Plot a set of complex numbers in the complex plane.\"\n",
    "  fig = plt.figure(dpi=dpi);\n",
    "  ax = plt.subplot();\n",
    "  ax.set_aspect(1);\n",
    "  for s in S:\n",
    "    for x,y in [np.array([[c.real,c.imag] for c in s]).T]:\n",
    "      ax.scatter(x,y);\n",
    "      if v=='y':\n",
    "        ax.quiver([0]*len(x),[0]*len(y),x,y,scale_units='xy',scale=1,width=0.001);\n",
    "  ax.add_patch(plt.Circle((0,0),1,facecolor='None',edgecolor='b'));\n",
    "  ax.set_xticks(ticks=np.arange(xl,yl+1),labels=np.arange(xl,yl+1));\n",
    "  ax.set_yticks(ticks=np.arange(xl,yl+1),labels=[f'{str(c)}i' for c in np.arange(xl,yl+1)]);\n",
    "  ax.set_xlim(xl,yl);\n",
    "  ax.set_ylim(xl,yl);\n",
    "  ax.set_xlabel('Re');\n",
    "  ax.set_ylabel('Im');"
   ]
  },
  {
   "attachments": {},
   "cell_type": "markdown",
   "metadata": {},
   "source": [
    "---"
   ]
  },
  {
   "attachments": {},
   "cell_type": "markdown",
   "metadata": {},
   "source": [
    "## What is $i$?"
   ]
  },
  {
   "attachments": {},
   "cell_type": "markdown",
   "metadata": {},
   "source": [
    "$\n",
    "\\boxed{\n",
    "i\\overset{\\text{def}}=\\sqrt{-1}\n",
    "}\n",
    "$\n",
    "\n",
    "$\n",
    "\\begin{aligned}\n",
    "i^0&=1\\\\\n",
    "i^1&=\\sqrt{-1}\\\\\n",
    "i^2&=(\\sqrt{-1})^2=-1\\\\\n",
    "i^3&=ii^2=(i)(-1)=-i\\\\\n",
    "i^4&=i^2i^2=(-1)(-1)=1=i^0\\\\\n",
    "i^5&=ii^4=(i)(1)=i=i^1\\\\\n",
    "i^6&=i^2i^4=(-1)(1)=-1=i^2\\\\\n",
    "i^7&=ii^2i^4=(i)(-1)(1)=-i=i^3\\\\\n",
    "i^8&=i^4i^4=(1)(1)=1=i^0\\\\\n",
    "&...\\\\\n",
    "i^{4n}&=1\\\\\n",
    "i^{4n+1}&=i\\\\\n",
    "i^{4n+2}&=-1\\\\\n",
    "i^{4n+3}&=-i\\\\\n",
    "\\end{aligned}\n",
    "$\n",
    "\n",
    "where $n={0,1,2,3,...}$"
   ]
  },
  {
   "cell_type": "code",
   "execution_count": 3,
   "metadata": {},
   "outputs": [
    {
     "data": {
      "text/plain": [
       "['i^00 = (1+0j)',\n",
       " 'i^01 = 1j',\n",
       " 'i^02 = (-1+0j)',\n",
       " 'i^03 = (-0-1j)',\n",
       " 'i^04 = (1+0j)',\n",
       " 'i^05 = 1j',\n",
       " 'i^06 = (-1+0j)',\n",
       " 'i^07 = (-0-1j)',\n",
       " 'i^08 = (1+0j)',\n",
       " 'i^09 = 1j',\n",
       " 'i^10 = (-1+0j)',\n",
       " 'i^11 = (-0-1j)',\n",
       " 'i^12 = (1+0j)',\n",
       " 'i^13 = 1j',\n",
       " 'i^14 = (-1+0j)',\n",
       " 'i^15 = (-0-1j)',\n",
       " 'i^16 = (1+0j)',\n",
       " 'i^17 = 1j',\n",
       " 'i^18 = (-1+0j)',\n",
       " 'i^19 = (-0-1j)',\n",
       " 'i^20 = (1+0j)',\n",
       " 'i^21 = 1j',\n",
       " 'i^22 = (-1+0j)',\n",
       " 'i^23 = (-0-1j)',\n",
       " 'i^24 = (1+0j)']"
      ]
     },
     "execution_count": 3,
     "metadata": {},
     "output_type": "execute_result"
    }
   ],
   "source": [
    "def powers_of_i (ns):\n",
    "  for n in range(ns):\n",
    "    yield f\"i^{n:>02} = {1j ** n}\"\n",
    "\n",
    "i = powers_of_i(25)\n",
    "list(i)"
   ]
  },
  {
   "attachments": {},
   "cell_type": "markdown",
   "metadata": {},
   "source": [
    "---"
   ]
  },
  {
   "attachments": {},
   "cell_type": "markdown",
   "metadata": {},
   "source": [
    "## Complex Numbers"
   ]
  },
  {
   "attachments": {},
   "cell_type": "markdown",
   "metadata": {},
   "source": [
    "A complex number is an ordered pair $(a,b)$ where $a,b\\in\\mathbb{R}$.\n",
    "\n",
    "A complex number may take the form\n",
    "\n",
    "$z=a+bi$"
   ]
  },
  {
   "cell_type": "code",
   "execution_count": 4,
   "metadata": {},
   "outputs": [
    {
     "data": {
      "text/plain": [
       "(3+2j)"
      ]
     },
     "execution_count": 4,
     "metadata": {},
     "output_type": "execute_result"
    }
   ],
   "source": [
    "z = 3 + 2j\n",
    "z"
   ]
  },
  {
   "cell_type": "code",
   "execution_count": 5,
   "metadata": {},
   "outputs": [
    {
     "data": {
      "text/plain": [
       "complex"
      ]
     },
     "execution_count": 5,
     "metadata": {},
     "output_type": "execute_result"
    }
   ],
   "source": [
    "type(z)"
   ]
  },
  {
   "attachments": {},
   "cell_type": "markdown",
   "metadata": {},
   "source": [
    "### The real part of a complex number"
   ]
  },
  {
   "attachments": {},
   "cell_type": "markdown",
   "metadata": {},
   "source": [
    "Let $z=a+bi$ where $a,b\\in\\mathbb{R}$ be a complex number.\n",
    "\n",
    "The real part of $z$ is\n",
    "\n",
    "$\\text{Re}(z)=a=a+0i$ where $a,0\\in\\mathbb{R}$"
   ]
  },
  {
   "cell_type": "code",
   "execution_count": 6,
   "metadata": {},
   "outputs": [
    {
     "data": {
      "text/plain": [
       "3.0"
      ]
     },
     "execution_count": 6,
     "metadata": {},
     "output_type": "execute_result"
    }
   ],
   "source": [
    "z.real"
   ]
  },
  {
   "attachments": {},
   "cell_type": "markdown",
   "metadata": {},
   "source": [
    "### The imaginary part of a complex number"
   ]
  },
  {
   "attachments": {},
   "cell_type": "markdown",
   "metadata": {},
   "source": [
    "Let $z=a+bi$ where $a,b\\in\\mathbb{R}$ be a complex number.\n",
    "\n",
    "The imaginary part of $z$ is\n",
    "\n",
    "$\\text{Im}(z)=bi=0+bi$ where $b,0\\in\\mathbb{R}$"
   ]
  },
  {
   "cell_type": "code",
   "execution_count": 7,
   "metadata": {},
   "outputs": [
    {
     "data": {
      "text/plain": [
       "2j"
      ]
     },
     "execution_count": 7,
     "metadata": {},
     "output_type": "execute_result"
    }
   ],
   "source": [
    "z.imag * 1j"
   ]
  },
  {
   "attachments": {},
   "cell_type": "markdown",
   "metadata": {},
   "source": [
    "$\n",
    "z=\\text{Re}(z)+\\text{Im}(z)\n",
    "$"
   ]
  },
  {
   "attachments": {},
   "cell_type": "markdown",
   "metadata": {},
   "source": [
    "### The set of complex numbers $\\mathbb{C}$"
   ]
  },
  {
   "attachments": {},
   "cell_type": "markdown",
   "metadata": {},
   "source": [
    "The set of complex numbers\n",
    "\n",
    "$\n",
    "\\begin{aligned}\n",
    "\\mathbb{C}=\\{a+bi\\mid a,b\\in\\mathbb{R}\\}\n",
    "\\end{aligned}\n",
    "$"
   ]
  },
  {
   "attachments": {},
   "cell_type": "markdown",
   "metadata": {},
   "source": [
    "---"
   ]
  },
  {
   "attachments": {},
   "cell_type": "markdown",
   "metadata": {},
   "source": [
    "x is imaginary\n",
    "\n",
    "$\n",
    "\\begin{aligned}\n",
    "x^2&=-1\n",
    "\\implies\n",
    "x=i\n",
    "\\\\\n",
    "x^2&=-9\n",
    "\\implies\n",
    "x=3i\n",
    "\\\\\n",
    "x^2&=-b\n",
    "\\implies\n",
    "x=i\\sqrt{b}\n",
    "\\end{aligned}\n",
    "$\n",
    "\n",
    "x is complex\n",
    "\n",
    "$\n",
    "\\begin{aligned}\n",
    "(x-1)^2&=-9\n",
    "\\implies\n",
    "x-1=3i\n",
    "\\implies\n",
    "x=3i+1\n",
    "\\end{aligned}\n",
    "$"
   ]
  },
  {
   "attachments": {},
   "cell_type": "markdown",
   "metadata": {},
   "source": [
    "---"
   ]
  },
  {
   "attachments": {},
   "cell_type": "markdown",
   "metadata": {},
   "source": [
    "## Properties of complex numbers"
   ]
  },
  {
   "attachments": {},
   "cell_type": "markdown",
   "metadata": {},
   "source": [
    "### Additive Commutativity"
   ]
  },
  {
   "attachments": {},
   "cell_type": "markdown",
   "metadata": {},
   "source": [
    "$\n",
    "\\alpha+\\beta=\\beta+\\alpha\n",
    "\\,\\,\\,\\forall\\alpha,\\beta\\in\\mathbb{C}\n",
    "$\n",
    "\n",
    "PROOF\n",
    "\n",
    "$\\blacksquare$"
   ]
  },
  {
   "cell_type": "code",
   "execution_count": 14,
   "metadata": {},
   "outputs": [
    {
     "name": "stdout",
     "output_type": "stream",
     "text": [
      "(8+6j)\n",
      "(8+6j)\n",
      "True\n"
     ]
    }
   ],
   "source": [
    "a = (3 + 2j)\n",
    "b = (5 + 4j)\n",
    "\n",
    "print(a + b)\n",
    "print(         b + a)\n",
    "print(a + b == b + a)"
   ]
  },
  {
   "attachments": {},
   "cell_type": "markdown",
   "metadata": {},
   "source": [
    "### Multiplicative Commutativity"
   ]
  },
  {
   "attachments": {},
   "cell_type": "markdown",
   "metadata": {},
   "source": [
    "$\n",
    "\\alpha\\beta=\\beta\\alpha\n",
    "\\,\\,\\,\\forall\\alpha,\\beta\\in\\mathbb{C}\n",
    "$\n",
    "\n",
    "PROOF\n",
    "\n",
    "Let $\\alpha = a + bi$ and $\\beta = c + di$ where $a, b, c, d \\in \\mathbb{R}$.<br>\n",
    "\n",
    "$\n",
    "\\begin{aligned}\n",
    "\\alpha\\beta &= (a + bi)(c + di) \\\\\n",
    "&= ac + adi + bci + bdi^2 \\\\\n",
    "&= (c + di)a + (c + di)bi \\\\\n",
    "&= (c + di)(a + bi) \\\\\n",
    "&= \\beta\\alpha \\\\\n",
    "\\end{aligned}\n",
    "$\n",
    "\n",
    "$\\blacksquare$"
   ]
  },
  {
   "cell_type": "code",
   "execution_count": 13,
   "metadata": {},
   "outputs": [
    {
     "name": "stdout",
     "output_type": "stream",
     "text": [
      "(7+22j)\n",
      "(7+22j)\n",
      "True\n"
     ]
    }
   ],
   "source": [
    "a = (3 + 2j)\n",
    "b = (5 + 4j)\n",
    "\n",
    "print(a * b)\n",
    "print(         b * a)\n",
    "print(a * b == b * a)"
   ]
  },
  {
   "attachments": {},
   "cell_type": "markdown",
   "metadata": {},
   "source": [
    "### Additive Associativity"
   ]
  },
  {
   "attachments": {},
   "cell_type": "markdown",
   "metadata": {},
   "source": [
    "$\n",
    "(\\alpha+\\beta)+\\lambda=\\alpha+(\\beta+\\lambda)\n",
    "\\,\\,\\,\\forall\\alpha,\\beta,\\lambda\\in\\mathbb{C}\n",
    "$\n",
    "\n",
    "PROOF\n",
    "\n",
    "$\\blacksquare$"
   ]
  },
  {
   "cell_type": "code",
   "execution_count": 17,
   "metadata": {},
   "outputs": [
    {
     "name": "stdout",
     "output_type": "stream",
     "text": [
      "(8+6j)\n",
      "(12+10j)\n",
      "(15+12j)\n",
      "(15+12j)\n",
      "True\n"
     ]
    }
   ],
   "source": [
    "a = (3 + 2j)\n",
    "b = (5 + 4j)\n",
    "l = (7 + 6j)\n",
    "\n",
    "print( a + b                    )\n",
    "print(                    b + l )\n",
    "print((a + b) + l               )\n",
    "print(               a + (b + l))\n",
    "print((a + b) + l == a + (b + l))"
   ]
  },
  {
   "attachments": {},
   "cell_type": "markdown",
   "metadata": {},
   "source": [
    "### Multiplicative Associativity"
   ]
  },
  {
   "attachments": {},
   "cell_type": "markdown",
   "metadata": {},
   "source": [
    "$\n",
    "(\\alpha\\beta)\\lambda=\\alpha(\\beta\\lambda)\n",
    "\\,\\,\\,\\forall\\alpha,\\beta,\\lambda\\in\\mathbb{C}\n",
    "$\n",
    "\n",
    "PROOF\n",
    "\n",
    "$\\blacksquare$"
   ]
  },
  {
   "cell_type": "code",
   "execution_count": 18,
   "metadata": {},
   "outputs": [
    {
     "name": "stdout",
     "output_type": "stream",
     "text": [
      "(7+22j)\n",
      "(11+58j)\n",
      "(-83+196j)\n",
      "(-83+196j)\n",
      "True\n"
     ]
    }
   ],
   "source": [
    "a = (3 + 2j)\n",
    "b = (5 + 4j)\n",
    "l = (7 + 6j)\n",
    "\n",
    "print( a * b                    )\n",
    "print(                    b * l )\n",
    "print((a * b) * l               )\n",
    "print(               a * (b * l))\n",
    "print((a * b) * l == a * (b * l))"
   ]
  },
  {
   "attachments": {},
   "cell_type": "markdown",
   "metadata": {},
   "source": [
    "### Existence of the additive identity element"
   ]
  },
  {
   "attachments": {},
   "cell_type": "markdown",
   "metadata": {},
   "source": [
    "$\n",
    "\\lambda+0=\\lambda\n",
    "\\,\\,\\,\\forall\\lambda\\in\\mathbb{C},0\\in\\mathbb{R}\n",
    "$\n",
    "\n",
    "PROOF\n",
    "\n",
    "$\\blacksquare$"
   ]
  },
  {
   "cell_type": "code",
   "execution_count": 20,
   "metadata": {},
   "outputs": [
    {
     "name": "stdout",
     "output_type": "stream",
     "text": [
      "(3+2j)\n",
      "(3+2j)\n",
      "True\n"
     ]
    }
   ],
   "source": [
    "l = 3 + 2j\n",
    "i = 0 + 0j\n",
    "\n",
    "print(l         )\n",
    "print(     l + i)\n",
    "print(l == l + i)"
   ]
  },
  {
   "attachments": {},
   "cell_type": "markdown",
   "metadata": {},
   "source": [
    "### Existence of the multiplicative identity element"
   ]
  },
  {
   "attachments": {},
   "cell_type": "markdown",
   "metadata": {},
   "source": [
    "$\n",
    "\\lambda1=\\lambda\n",
    "\\,\\,\\,\\forall\\lambda\\in\\mathbb{C},1\\in\\mathbb{R}\n",
    "$\n",
    "\n",
    "PROOF\n",
    "\n",
    "$\\blacksquare$"
   ]
  },
  {
   "cell_type": "code",
   "execution_count": 24,
   "metadata": {},
   "outputs": [
    {
     "name": "stdout",
     "output_type": "stream",
     "text": [
      "(3+2j)\n",
      "(3+2j)\n",
      "True\n"
     ]
    }
   ],
   "source": [
    "l = 3 + 2j\n",
    "i = 1 + 0j\n",
    "\n",
    "print(l         )\n",
    "print(     l * i)\n",
    "print(l == l * i)"
   ]
  },
  {
   "attachments": {},
   "cell_type": "markdown",
   "metadata": {},
   "source": [
    "### Existence of additive inverse elements"
   ]
  },
  {
   "attachments": {},
   "cell_type": "markdown",
   "metadata": {},
   "source": [
    "$\\forall \\alpha \\in \\mathbb{C}$, $\\exists \\beta \\in \\mathbb{C}$ s.t. $\\alpha + \\beta = 0$<br>\n",
    "The additive inverse of an element $\\alpha$ is denoted $-\\alpha$.<br>\n",
    "\n",
    "PROOF\n",
    "\n",
    "$\\blacksquare$"
   ]
  },
  {
   "attachments": {},
   "cell_type": "markdown",
   "metadata": {},
   "source": [
    "### Existence of multiplicative inverse elements"
   ]
  },
  {
   "attachments": {},
   "cell_type": "markdown",
   "metadata": {},
   "source": [
    "$\\forall \\alpha \\in \\mathbb{C}$ with $\\alpha \\neq 0$, $\\exists \\beta \\in \\mathbb{C}$ s.t. $\\alpha\\beta = 1$<br>\n",
    "The multiplicative inverse of an element $\\alpha \\neq 0$ is denoted $\\alpha^{-1}$.<br>\n",
    "\n",
    "PROOF\n",
    "\n",
    "$\\blacksquare$"
   ]
  },
  {
   "attachments": {},
   "cell_type": "markdown",
   "metadata": {},
   "source": [
    "### Distributivity"
   ]
  },
  {
   "attachments": {},
   "cell_type": "markdown",
   "metadata": {},
   "source": [
    "$\\lambda(\\alpha + \\beta) = \\lambda\\alpha + \\lambda\\beta$<br>\n",
    "$\\forall \\lambda, \\alpha, \\beta \\in \\mathbb{C}$<br>\n",
    "\n",
    "PROOF\n",
    "\n",
    "$\\blacksquare$"
   ]
  },
  {
   "attachments": {},
   "cell_type": "markdown",
   "metadata": {},
   "source": [
    "---"
   ]
  },
  {
   "attachments": {},
   "cell_type": "markdown",
   "metadata": {},
   "source": [
    "## Operations on complex numbers"
   ]
  },
  {
   "attachments": {},
   "cell_type": "markdown",
   "metadata": {},
   "source": [
    "### Complex Addition"
   ]
  },
  {
   "attachments": {},
   "cell_type": "markdown",
   "metadata": {},
   "source": [
    "$\n",
    "(a+bi)+(c+di)=(a+c)+(b+d)i\\,\\,\\,\\text{where}\\,a,b,c,d\\in\\mathbb{R}\n",
    "$\n",
    "\n",
    "PROOF\n",
    "\n",
    "$\n",
    "\\begin{aligned}\n",
    "&(a+bi)+(c+di)\\\\\n",
    "&=a+bi+c+di\\\\\n",
    "&=a+c+bi+di\\\\\n",
    "&=(a+c)+(bi+di)\\\\\n",
    "&=(a+c)+(b+d)i\\\\\n",
    "\\end{aligned}\n",
    "$\n",
    "\n",
    "$\\blacksquare$"
   ]
  },
  {
   "cell_type": "code",
   "execution_count": 43,
   "metadata": {},
   "outputs": [
    {
     "data": {
      "text/plain": [
       "(4+6j)"
      ]
     },
     "metadata": {},
     "output_type": "display_data"
    },
    {
     "data": {
      "text/plain": [
       "(4+6j)"
      ]
     },
     "metadata": {},
     "output_type": "display_data"
    },
    {
     "data": {
      "text/plain": [
       "True"
      ]
     },
     "metadata": {},
     "output_type": "display_data"
    }
   ],
   "source": [
    "a=1\n",
    "b=2\n",
    "c=3\n",
    "d=4\n",
    "\n",
    "display(\n",
    "  complex(a,b) + complex(c,d),\n",
    "  complex((a+c), (b+d)),\n",
    "  complex(a,b) + complex(c,d) == complex((a+c), (b+d)),\n",
    ")"
   ]
  },
  {
   "attachments": {},
   "cell_type": "markdown",
   "metadata": {},
   "source": [
    "### Complex Multiplication"
   ]
  },
  {
   "attachments": {},
   "cell_type": "markdown",
   "metadata": {},
   "source": [
    "$\n",
    "(a+bi)(c+di)=(ac-bd)+(ad+bc)i\\,\\,\\,\\text{where}\\,a,b,c,d\\in\\mathbb{R}\n",
    "$\n",
    "\n",
    "PROOF\n",
    "\n",
    "$\n",
    "\\begin{aligned}\n",
    "&(a+bi)(c+di)\\\\\n",
    "&=ac+adi+bci+bdi^2\\\\\n",
    "&=ac+bdi^2+adi+bci\\\\\n",
    "&=ac-bd+adi+bci\\\\\n",
    "&=(ac-bd)+(adi+bci)\\\\\n",
    "&=(ac-bd)+(ad+bc)i\\\\\n",
    "\\end{aligned}\n",
    "$\n",
    "\n",
    "$\\blacksquare$"
   ]
  },
  {
   "cell_type": "code",
   "execution_count": 39,
   "metadata": {},
   "outputs": [
    {
     "data": {
      "text/plain": [
       "(-5+10j)"
      ]
     },
     "metadata": {},
     "output_type": "display_data"
    },
    {
     "data": {
      "text/plain": [
       "(-5+10j)"
      ]
     },
     "metadata": {},
     "output_type": "display_data"
    },
    {
     "data": {
      "text/plain": [
       "True"
      ]
     },
     "metadata": {},
     "output_type": "display_data"
    }
   ],
   "source": [
    "a=1\n",
    "b=2j\n",
    "c=3\n",
    "d=4j\n",
    "\n",
    "display(\n",
    "  (a+b) * (c+d),\n",
    "  complex((a*c - b.imag*d.imag),(a*d.imag + b.imag*c)),\n",
    "  (a+b) * (c+d) == complex((a*c - b.imag*d.imag),(a*d.imag + b.imag*c)),\n",
    ")"
   ]
  },
  {
   "attachments": {},
   "cell_type": "markdown",
   "metadata": {},
   "source": [
    "### Complex Subtraction"
   ]
  },
  {
   "attachments": {},
   "cell_type": "markdown",
   "metadata": {},
   "source": [
    "$\n",
    "\\beta-\\alpha\\equiv\\beta+(-\\alpha)\n",
    "$"
   ]
  },
  {
   "cell_type": "code",
   "execution_count": 45,
   "metadata": {},
   "outputs": [
    {
     "data": {
      "text/plain": [
       "(-2-2j)"
      ]
     },
     "metadata": {},
     "output_type": "display_data"
    },
    {
     "data": {
      "text/plain": [
       "(-2-2j)"
      ]
     },
     "metadata": {},
     "output_type": "display_data"
    },
    {
     "data": {
      "text/plain": [
       "True"
      ]
     },
     "metadata": {},
     "output_type": "display_data"
    }
   ],
   "source": [
    "a=1\n",
    "b=2\n",
    "c=3\n",
    "d=4\n",
    "\n",
    "display(\n",
    "  complex(a,b) -  complex(c,d),\n",
    "  complex(a,b) + -complex(c,d),\n",
    "  complex(a,b) -  complex(c,d) == complex(a,b) + -complex(c,d),\n",
    ")"
   ]
  },
  {
   "attachments": {},
   "cell_type": "markdown",
   "metadata": {},
   "source": [
    "### Complex Division"
   ]
  },
  {
   "attachments": {},
   "cell_type": "markdown",
   "metadata": {},
   "source": [
    "$\n",
    "\\begin{aligned}\n",
    "\\frac{\\beta}{\\alpha}\\equiv\\beta\\alpha^{-1}\n",
    "\\end{aligned}\n",
    "$"
   ]
  },
  {
   "attachments": {},
   "cell_type": "markdown",
   "metadata": {},
   "source": [
    "---"
   ]
  },
  {
   "attachments": {},
   "cell_type": "markdown",
   "metadata": {},
   "source": [
    "Complex arithmetic obeys the same predence rules as real arithmetic."
   ]
  },
  {
   "cell_type": "code",
   "execution_count": 46,
   "metadata": {},
   "outputs": [
    {
     "data": {
      "text/plain": [
       "(1+6j)"
      ]
     },
     "execution_count": 46,
     "metadata": {},
     "output_type": "execute_result"
    }
   ],
   "source": [
    "1+2j*3"
   ]
  },
  {
   "cell_type": "code",
   "execution_count": 47,
   "metadata": {},
   "outputs": [
    {
     "data": {
      "text/plain": [
       "(3+6j)"
      ]
     },
     "execution_count": 47,
     "metadata": {},
     "output_type": "execute_result"
    }
   ],
   "source": [
    "(1+2j)*3"
   ]
  },
  {
   "cell_type": "code",
   "execution_count": 48,
   "metadata": {},
   "outputs": [
    {
     "data": {
      "text/plain": [
       "(-36+0j)"
      ]
     },
     "execution_count": 48,
     "metadata": {},
     "output_type": "execute_result"
    }
   ],
   "source": [
    "4*3j**2"
   ]
  },
  {
   "cell_type": "code",
   "execution_count": 49,
   "metadata": {},
   "outputs": [
    {
     "data": {
      "text/plain": [
       "(-144+0j)"
      ]
     },
     "execution_count": 49,
     "metadata": {},
     "output_type": "execute_result"
    }
   ],
   "source": [
    "(4*3j)**2"
   ]
  },
  {
   "attachments": {},
   "cell_type": "markdown",
   "metadata": {},
   "source": [
    "---"
   ]
  },
  {
   "attachments": {},
   "cell_type": "markdown",
   "metadata": {},
   "source": [
    "## Complex Conjugate of a complex number"
   ]
  },
  {
   "attachments": {},
   "cell_type": "markdown",
   "metadata": {},
   "source": [
    "<span style=\"color: blue\">**DEFINITION**</span><br>\n",
    "Let $z \\in \\mathbb{C}$.<br>\n",
    "The complex conjugate of $z$ is $\\bar{z} \\overset{\\text{def}}= \\,(\\text{Re}\\, z) - \\,(\\text{Im}\\, z) i$.<br>\n",
    "If $z = a + bi$, then $\\bar{z} = a - bi$.<br>"
   ]
  },
  {
   "cell_type": "code",
   "execution_count": 57,
   "metadata": {},
   "outputs": [
    {
     "data": {
      "text/plain": [
       "(1-2j)"
      ]
     },
     "execution_count": 57,
     "metadata": {},
     "output_type": "execute_result"
    }
   ],
   "source": [
    "(1+2j).conjugate()"
   ]
  },
  {
   "attachments": {},
   "cell_type": "markdown",
   "metadata": {},
   "source": [
    "## Absolute Value of a complex number"
   ]
  },
  {
   "attachments": {},
   "cell_type": "markdown",
   "metadata": {},
   "source": [
    "<span style=\"color: blue\">**DEFINITION**</span><br>\n",
    "Let $z \\in \\mathbb{C}$.<br>\n",
    "The absolute value of $z$ is $|z| \\overset{\\text{def}}= \\sqrt{\\,(\\text{Re}\\, z)^2 + \\,(\\text{Im}\\, z)^2}$.<br>\n",
    "If $z = a + bi$, then $|z| = \\sqrt{a^2 + b^2}$.<br>"
   ]
  },
  {
   "attachments": {},
   "cell_type": "markdown",
   "metadata": {},
   "source": [
    "__Claim__\n",
    "\n",
    "$\\forall z \\in \\mathbb{C}, |z| \\ge 0$. (The absolute value of any complex number is nonnegative.)\n",
    "\n",
    "__Proof__\n",
    "\n",
    "This follows from the fact that the sum of squares of a collection of real numbers is nonnegative.\n",
    "\n",
    "$\\blacksquare$"
   ]
  },
  {
   "attachments": {},
   "cell_type": "markdown",
   "metadata": {},
   "source": [
    "__Claim__\n",
    "\n",
    "If $z \\in \\mathbb{R}$, then $z = \\bar{z}$. (The complex conjugate of a real number is itself.)\n",
    "\n",
    "__Proof__\n",
    "\n",
    "$z = a + 0i = a = a - 0i = \\bar{z}$\n",
    "\n",
    "$\\blacksquare$<br>"
   ]
  },
  {
   "cell_type": "code",
   "execution_count": 56,
   "metadata": {},
   "outputs": [
    {
     "data": {
      "text/plain": [
       "True"
      ]
     },
     "execution_count": 56,
     "metadata": {},
     "output_type": "execute_result"
    }
   ],
   "source": [
    "abs(1+2j) == np.sqrt(1**2 + 2**2)"
   ]
  },
  {
   "attachments": {},
   "cell_type": "markdown",
   "metadata": {},
   "source": [
    "---"
   ]
  },
  {
   "attachments": {},
   "cell_type": "markdown",
   "metadata": {},
   "source": [
    "## Operations on a complex number and its conjugate"
   ]
  },
  {
   "attachments": {},
   "cell_type": "markdown",
   "metadata": {},
   "source": [
    "### Sum of $z$ and $\\bar{z}$"
   ]
  },
  {
   "attachments": {},
   "cell_type": "markdown",
   "metadata": {},
   "source": [
    "Let $z \\in \\mathbb{C}$.<br>\n",
    "$z + \\bar{z} = 2a$<br>\n",
    "\n",
    "__Proof__<br>\n",
    "\n",
    "$\n",
    "\\begin{aligned}\n",
    "z + \\bar{z}\n",
    "&= (a + bi) + (a - bi) \\\\\n",
    "&= a + bi + a - bi \\\\\n",
    "&= 2a + bi - bi \\\\\n",
    "&= 2a\n",
    "\\end{aligned}\n",
    "$\n",
    "\n",
    "$\\blacksquare$<br>"
   ]
  },
  {
   "attachments": {},
   "cell_type": "markdown",
   "metadata": {},
   "source": [
    "### Difference of $z$ and $\\bar{z}$"
   ]
  },
  {
   "attachments": {},
   "cell_type": "markdown",
   "metadata": {},
   "source": [
    "Let $z \\in \\mathbb{C}$.<br>\n",
    "$z - \\bar{z} = 2bi$<br>\n",
    "\n",
    "__Proof__<br>\n",
    "\n",
    "$\n",
    "\\begin{aligned}\n",
    "z - \\bar{z}\n",
    "&= (a + bi) - (a - bi) \\\\\n",
    "&= a + bi - a + bi \\\\\n",
    "&= 2bi + a - a \\\\\n",
    "&= 2bi\n",
    "\\end{aligned}\n",
    "$<br>\n",
    "\n",
    "$\\blacksquare$<br>"
   ]
  },
  {
   "attachments": {},
   "cell_type": "markdown",
   "metadata": {},
   "source": [
    "### Product of $z$ and $\\bar{z}$"
   ]
  },
  {
   "attachments": {},
   "cell_type": "markdown",
   "metadata": {},
   "source": [
    "Let $z \\in \\mathbb{C}$.<br>\n",
    "$z \\bar{z} = |z|^2$<br>\n",
    "\n",
    "__Proof__<br>\n",
    "\n",
    "$\n",
    "\\begin{aligned}\n",
    "z \\bar{z}\n",
    "&= (a + bi) (a - bi) \\\\\n",
    "&= a^2 - abi + abi - (bi)^2 \\\\\n",
    "&= a^2 - b^2 i^2 \\\\\n",
    "&= a^2 + b^2 \\\\\n",
    "&= (\\sqrt{a^2 + b^2})^2 \\\\\n",
    "&= |z|^2\n",
    "\\end{aligned}\n",
    "$<br>\n",
    "\n",
    "$\\blacksquare$<br>"
   ]
  },
  {
   "attachments": {},
   "cell_type": "markdown",
   "metadata": {},
   "source": [
    "---"
   ]
  },
  {
   "attachments": {},
   "cell_type": "markdown",
   "metadata": {},
   "source": [
    "## Properties of the complex conjugate and the absolute value of a complex number"
   ]
  },
  {
   "attachments": {},
   "cell_type": "markdown",
   "metadata": {},
   "source": [
    "### Additivity of the complex conjugate"
   ]
  },
  {
   "attachments": {},
   "cell_type": "markdown",
   "metadata": {},
   "source": [
    "Let $w, z \\in \\mathbb{C}$.<br>\n",
    "$\\overline{w + z} = \\bar{w} + \\bar{z}$<br>\n",
    "\n",
    "__Proof__<br>\n",
    "\n",
    "$\n",
    "\\begin{aligned}\n",
    "w + z\n",
    "&= (a + bi) + (c + di) \\\\\n",
    "&= (a + c) + (b + d)i \\\\\n",
    "\\overline{w + z}\n",
    "&= (a + c) - (b + d)i \\\\\n",
    "&= a + c - bi - di \\\\\n",
    "&= (a - bi) + (c - di) \\\\\n",
    "&= \\bar{w} + \\bar{z} \\\\\n",
    "\\end{aligned}\n",
    "$<br>\n",
    "\n",
    "$\\blacksquare$<br>"
   ]
  },
  {
   "attachments": {},
   "cell_type": "markdown",
   "metadata": {},
   "source": [
    "### Multiplicativity of the complex conjugate"
   ]
  },
  {
   "attachments": {},
   "cell_type": "markdown",
   "metadata": {},
   "source": [
    "Let $w, z \\in \\mathbb{C}$.<br>\n",
    "$\\overline{w z} = \\bar{w} \\bar{z}$<br>\n",
    "\n",
    "__Proof__<br>\n",
    "\n",
    "$\n",
    "\\begin{aligned}\n",
    "w z\n",
    "&= (a + bi) (c + di) \\\\\n",
    "&= ac + adi + bci + bdi^2 \\\\\n",
    "&= (ac - bd) + (ad + bc)i \\\\\n",
    "\\overline{w z}\n",
    "&= (ac - bd) - (ad + bc)i \\\\\n",
    "&= ac - bd - adi - bci \\\\\n",
    "&= ac - adi - bci + bdi^2 \\\\\n",
    "&= (a - bi) (c - di) \\\\\n",
    "&= \\bar{w} \\bar{z} \\\\\n",
    "\\end{aligned}\n",
    "$<br>\n",
    "\n",
    "$\\blacksquare$<br>"
   ]
  },
  {
   "attachments": {},
   "cell_type": "markdown",
   "metadata": {},
   "source": [
    "### Conjugate of the conjugate"
   ]
  },
  {
   "attachments": {},
   "cell_type": "markdown",
   "metadata": {},
   "source": [
    "Let $z \\in \\mathbb{C}$.<br>\n",
    "$\\bar{\\bar{z}} = z$<br>\n",
    "\n",
    "__Proof__<br>\n",
    "\n",
    "$\n",
    "\\begin{aligned}\n",
    "\\bar{z}\n",
    "&= a - bi \\\\\n",
    "&= (a) + (-b)i \\\\\n",
    "\\bar{\\bar{z}}\n",
    "&= (a) - (-b)i \\\\\n",
    "&= a + bi \\\\\n",
    "&= z \\\\\n",
    "\\end{aligned}\n",
    "$<br>\n",
    "\n",
    "$\\blacksquare$<br>"
   ]
  },
  {
   "attachments": {},
   "cell_type": "markdown",
   "metadata": {},
   "source": [
    "### Boundedness"
   ]
  },
  {
   "attachments": {},
   "cell_type": "markdown",
   "metadata": {},
   "source": [
    "Let $z \\in \\mathbb{C}$.<br>\n",
    "$|a| \\le |z|$ and $|b| \\le |z|$<br>\n",
    "\n",
    "__Proof__<br>\n",
    "\n",
    "$\n",
    "\\begin{aligned}\n",
    "|a|\n",
    "&= \\sqrt{a^2} \\\\\n",
    "&\\le \\sqrt{a^2 + b^2} \\\\\n",
    "&= |z|\n",
    "\\end{aligned}\n",
    "$<br>\n",
    "\n",
    "$\\blacksquare$<br>"
   ]
  },
  {
   "attachments": {},
   "cell_type": "markdown",
   "metadata": {},
   "source": [
    "### Absolute value of the complex conjugate"
   ]
  },
  {
   "attachments": {},
   "cell_type": "markdown",
   "metadata": {},
   "source": [
    "Let $z \\in \\mathbb{C}$.<br>\n",
    "$|\\bar{z}| = |z|$<br>\n",
    "\n",
    "__Proof__<br>\n",
    "\n",
    "$\n",
    "\\begin{aligned}\n",
    "\\bar{z}\n",
    "&= a - bi \\\\\n",
    "&= (a) + (-b)i \\\\\n",
    "|\\bar{z}|\n",
    "&= \\sqrt{(a)^2 + (-b)^2} \\\\\n",
    "&= \\sqrt{a^2 + b^2} \\\\\n",
    "&= |z| \\\\\n",
    "\\end{aligned}\n",
    "$<br>\n",
    "\n",
    "$\\blacksquare$<br>"
   ]
  },
  {
   "attachments": {},
   "cell_type": "markdown",
   "metadata": {},
   "source": [
    "### Multiplicativity of the absolute value"
   ]
  },
  {
   "attachments": {},
   "cell_type": "markdown",
   "metadata": {},
   "source": [
    "Let $w, z \\in \\mathbb{C}$.<br>\n",
    "$|w||z| = |wz|$<br>\n",
    "\n",
    "__Proof__<br>\n",
    "\n",
    "$\n",
    "\\begin{aligned}\n",
    "wz\n",
    "&= (a + bi) (c + di) \\\\\n",
    "&= ac + adi + bci + bdi^2 \\\\\n",
    "&= (ac - bd) + (ad + bc)i \\\\\n",
    "|wz|\n",
    "&= \\sqrt{(ac - bd)^2 + (ad + bc)^2} \\\\\n",
    "&= \\sqrt{(ac)^2 - 2abcd + (bd)^2 + (ad)^2 + 2abcd + (bc)^2} \\\\\n",
    "&= \\sqrt{(ac)^2 + (bd)^2 + (ad)^2 + (bc)^2} \\\\\n",
    "&= \\sqrt{(ac)^2 + (ad)^2 + (bd)^2 + (bc)^2} \\\\\n",
    "&= \\sqrt{a^2(c^2 + d^2) + b^2(c^2 + d^2)} \\\\\n",
    "&= \\sqrt{(a^2 + b^2)(c^2 + d^2)} \\\\\n",
    "&= \\sqrt{a^2 + b^2} \\sqrt{c^2 + d^2} \\\\\n",
    "&= |w||z| \\\\\n",
    "\\end{aligned}\n",
    "$<br>\n",
    "\n",
    "$\\blacksquare$<br>"
   ]
  },
  {
   "attachments": {},
   "cell_type": "markdown",
   "metadata": {},
   "source": [
    "### Triangle Inequality"
   ]
  },
  {
   "attachments": {},
   "cell_type": "markdown",
   "metadata": {},
   "source": [
    "Let $w, z \\in \\mathbb{C}$.<br>\n",
    "$|w + z| \\le |w| + |z|$<br>\n",
    "\n",
    "__Proof__<br>\n",
    "\n",
    "$\n",
    "\\begin{aligned}\n",
    "|w + z|^2\n",
    "&= (w + z)(\\bar{w} + \\bar{z}) \\\\\n",
    "&= w \\bar{w} + z \\bar{z} + w \\bar{z} + z \\bar{w} \\\\\n",
    "&= |w|^2 + |z|^2 + w \\bar{z} + \\overline{w \\bar{z}} \\\\\n",
    "&= |w|^2 + |z|^2 + w \\bar{z} + 2 \\,\\text{Re}\\, (w \\bar{z}) \\\\\n",
    "&\\le |w|^2 + |z|^2 + w \\bar{z} + 2 |w \\bar{z}| \\\\\n",
    "&= |w|^2 + |z|^2 + w \\bar{z} + 2 |w| |z| \\\\\n",
    "&= (|w| + |z|)^2 \\\\\n",
    "|w + z|\n",
    "&\\le |w| + |z| \\\\\n",
    "\\end{aligned}\n",
    "$<br>\n",
    "\n",
    "$\\blacksquare$<br>"
   ]
  },
  {
   "attachments": {},
   "cell_type": "markdown",
   "metadata": {},
   "source": [
    "---"
   ]
  },
  {
   "attachments": {},
   "cell_type": "markdown",
   "metadata": {},
   "source": [
    "## Euler's Formula"
   ]
  },
  {
   "attachments": {},
   "cell_type": "markdown",
   "metadata": {},
   "source": [
    "$\n",
    "\\boxed{\n",
    "\\begin{aligned}\n",
    "e^{i\\theta}\n",
    "&=\\cos\\theta+i\\sin\\theta\n",
    "\\\\\n",
    "e^{i\\pi}+1\n",
    "&=0\n",
    "\\end{aligned}\n",
    "}\n",
    "$"
   ]
  },
  {
   "attachments": {},
   "cell_type": "markdown",
   "metadata": {},
   "source": [
    "$\n",
    "\\begin{aligned}\n",
    "e^x\n",
    "&=1+x+\\frac{x^2}{2!}+\\frac{x^3}{3!}+\\frac{x^4}{4!}+\\frac{x^5}{5!}+\\frac{x^6}{6!}+\\frac{x^7}{7!}+\\frac{x^8}{8!}+\\frac{x^9}{9!}+...\n",
    "&&\\text{Taylor series}\n",
    "\\\\\n",
    "x&=i\\theta\n",
    "\\\\\n",
    "e^{i\\theta}&=1+(i\\theta)+\\frac{(i\\theta)^2}{2!}+\\frac{(i\\theta)^3}{3!}+\\frac{(i\\theta)^4}{4!}+\\frac{(i\\theta)^5}{5!}+\\frac{(i\\theta)^6}{6!}+\\frac{(i\\theta)^7}{7!}+\\frac{(i\\theta)^8}{8!}+\\frac{(i\\theta)^9}{9!}+...\n",
    "\\\\\n",
    "&=1+i\\theta+\\frac{(-1)\\theta^2}{2!}+\\frac{(-i)\\theta^3}{3!}+\\frac{(1)\\theta^4}{4!}+\\frac{(i)\\theta^5}{5!}+\\frac{(-1)\\theta^6}{6!}+\\frac{(-i)\\theta^7}{7!}+\\frac{(1)\\theta^8}{8!}+\\frac{(i)\\theta^9}{9!}+...\n",
    "\\\\\n",
    "&=1+i\\theta-\\frac{\\theta^2}{2!}-\\frac{i\\theta^3}{3!}+\\frac{\\theta^4}{4!}+\\frac{i\\theta^5}{5!}-\\frac{\\theta^6}{6!}-\\frac{i\\theta^7}{7!}+\\frac{\\theta^8}{8!}+\\frac{i\\theta^9}{9!}-...\n",
    "\\\\\n",
    "&=\\left(1-\\frac{\\theta^2}{2!}+\\frac{\\theta^4}{4!}-\\frac{\\theta^6}{6!}+\\frac{\\theta^8}{8!}-...\\right)\n",
    "+\\left(i\\theta-\\frac{i\\theta^3}{3!}+\\frac{i\\theta^5}{5!}-\\frac{i\\theta^7}{7!}+\\frac{i\\theta^9}{9!}-...\\right)\n",
    "\\\\\n",
    "&=\\left(1-\\frac{\\theta^2}{2!}+\\frac{\\theta^4}{4!}-\\frac{\\theta^6}{6!}+\\frac{\\theta^8}{8!}-...\\right)\n",
    "+i\\left(\\theta-\\frac{\\theta^3}{3!}+\\frac{\\theta^5}{5!}-\\frac{\\theta^7}{7!}+\\frac{\\theta^9}{9!}-...\\right)\n",
    "\\\\\n",
    "&=\\cos\\theta+i\\sin\\theta\n",
    "\\\\\n",
    "\\theta&=\\pi\n",
    "\\\\\n",
    "e^{i\\pi}\n",
    "&=\\cos\\pi+i\\sin\\pi\n",
    "\\\\\n",
    "&=-1+0\n",
    "\\end{aligned}\n",
    "$"
   ]
  },
  {
   "attachments": {},
   "cell_type": "markdown",
   "metadata": {},
   "source": [
    "### $i^i$"
   ]
  },
  {
   "attachments": {},
   "cell_type": "markdown",
   "metadata": {},
   "source": [
    "$\n",
    "\\boxed{\n",
    "i^i=\\,\\,e^{-\\frac{\\pi}{2}}\n",
    "}\n",
    "$"
   ]
  },
  {
   "attachments": {},
   "cell_type": "markdown",
   "metadata": {},
   "source": [
    "$\n",
    "\\begin{aligned}\n",
    "e^{i\\pi}\n",
    "&=-1\n",
    "\\\\\n",
    "\\sqrt{e^{i\\pi}}\n",
    "&=\\sqrt{-1}\n",
    "\\\\\n",
    "e^{i\\frac{\\pi}{2}}\n",
    "&=i\n",
    "\\\\\n",
    "(e^{i\\frac{\\pi}{2}})^i\n",
    "&=i^i\n",
    "\\\\\n",
    "e^{i^2\\frac{\\pi}{2}}&=\n",
    "\\\\\n",
    "e^{-\\frac{\\pi}{2}}&=\n",
    "\\end{aligned}\n",
    "$"
   ]
  },
  {
   "attachments": {},
   "cell_type": "markdown",
   "metadata": {},
   "source": [
    "---"
   ]
  },
  {
   "attachments": {},
   "cell_type": "markdown",
   "metadata": {},
   "source": [
    "## The Unit Circle in the Complex Plane"
   ]
  },
  {
   "attachments": {},
   "cell_type": "markdown",
   "metadata": {},
   "source": [
    "Complex exponentials form circles!"
   ]
  },
  {
   "cell_type": "code",
   "execution_count": 92,
   "metadata": {
    "tags": [
     "hide-input",
     "full-width"
    ]
   },
   "outputs": [
    {
     "data": {
      "image/png": "[encoded data removed]",
      "text/plain": [
       "<Figure size 1280x960 with 1 Axes>"
      ]
     },
     "metadata": {},
     "output_type": "display_data"
    }
   ],
   "source": [
    "fig = plt.figure(dpi=200);\n",
    "ax  = plt.subplot(111,projection='rectilinear');\n",
    "ax.set_aspect(1);\n",
    "\n",
    "ax.add_patch(plt.Circle((0,0),1,edgecolor='b',facecolor='None'));\n",
    "ax.scatter( 1, 0); ax.text( 1*1.1, 0, '$1$', horizontalalignment='left');\n",
    "ax.scatter( 0, 1); ax.text( 0, 1*1.1, '$i$', verticalalignment='bottom');\n",
    "ax.scatter(-1, 0); ax.text(-1*1.1, 0, '$-1$', horizontalalignment='right');\n",
    "ax.scatter( 0,-1); ax.text( 0,-1*1.1, '$-i$', verticalalignment='top');\n",
    "\n",
    "ax.set_xlabel('Re');\n",
    "ax.set_xticks(ticks=np.arange(-2,3,1));\n",
    "ax.set_xlim(-2,2);\n",
    "ax.set_ylabel('Im');\n",
    "ax.set_yticks(ticks=np.arange(-2,3,1),labels=['-2i','-i','0','i','2i']);\n",
    "ax.set_ylim(-2,2);\n",
    "ax.set_title('$e^{i\\\\theta}$');"
   ]
  },
  {
   "attachments": {},
   "cell_type": "markdown",
   "metadata": {},
   "source": [
    "$\n",
    "\\begin{aligned}\n",
    "w^0,w^1,...,w^{n-1}\n",
    "\\,\\,\\,\\text{where}\\,\\,\\,\n",
    "w=e^{\\frac{2\\pi}{n}i}\n",
    "\\,\\,\\,\\text{and}\\,\\,\\,\n",
    "n=N\n",
    "\\end{aligned}\n",
    "$"
   ]
  },
  {
   "cell_type": "code",
   "execution_count": 120,
   "metadata": {},
   "outputs": [
    {
     "data": {
      "text/latex": [
       "$\\displaystyle w^0 = 0.7071067811865476 + 0.7071067811865475i$"
      ],
      "text/plain": [
       "<IPython.core.display.Math object>"
      ]
     },
     "metadata": {},
     "output_type": "display_data"
    },
    {
     "data": {
      "text/latex": [
       "$\\displaystyle w^1 = 1.0 + 0.0i$"
      ],
      "text/plain": [
       "<IPython.core.display.Math object>"
      ]
     },
     "metadata": {},
     "output_type": "display_data"
    },
    {
     "data": {
      "text/latex": [
       "$\\displaystyle w^2 = -0.7071067811865475 + 0.7071067811865476i$"
      ],
      "text/plain": [
       "<IPython.core.display.Math object>"
      ]
     },
     "metadata": {},
     "output_type": "display_data"
    },
    {
     "data": {
      "text/latex": [
       "$\\displaystyle w^3 = -0.7071067811865477 + -0.7071067811865475i$"
      ],
      "text/plain": [
       "<IPython.core.display.Math object>"
      ]
     },
     "metadata": {},
     "output_type": "display_data"
    },
    {
     "data": {
      "text/latex": [
       "$\\displaystyle w^4 = 0.7071067811865474 + -0.7071067811865477i$"
      ],
      "text/plain": [
       "<IPython.core.display.Math object>"
      ]
     },
     "metadata": {},
     "output_type": "display_data"
    },
    {
     "data": {
      "text/latex": [
       "$\\displaystyle w^5 = -1.0 + 1.2246467991473532e-16i$"
      ],
      "text/plain": [
       "<IPython.core.display.Math object>"
      ]
     },
     "metadata": {},
     "output_type": "display_data"
    },
    {
     "data": {
      "text/latex": [
       "$\\displaystyle w^6 = 6.123233995736766e-17 + 1.0i$"
      ],
      "text/plain": [
       "<IPython.core.display.Math object>"
      ]
     },
     "metadata": {},
     "output_type": "display_data"
    },
    {
     "data": {
      "text/latex": [
       "$\\displaystyle w^7 = -1.8369701987210297e-16 + -1.0i$"
      ],
      "text/plain": [
       "<IPython.core.display.Math object>"
      ]
     },
     "metadata": {},
     "output_type": "display_data"
    },
    {
     "data": {
      "image/png": "[encoded data removed]",
      "text/plain": [
       "<Figure size 1280x960 with 1 Axes>"
      ]
     },
     "metadata": {},
     "output_type": "display_data"
    }
   ],
   "source": [
    "N=8\n",
    "unitCircle = {math.e ** (2*math.pi * 1j * n/N) for n in range(N)}\n",
    "\n",
    "for i,c in enumerate(unitCircle):\n",
    "  display(Math(\n",
    "    fr'w^{i} = {c.real} + {c.imag}i'\n",
    "  ))\n",
    "\n",
    "pC([\n",
    "  unitCircle,\n",
    "],-2,2,dpi=200)"
   ]
  },
  {
   "attachments": {},
   "cell_type": "markdown",
   "metadata": {},
   "source": [
    "---"
   ]
  },
  {
   "attachments": {},
   "cell_type": "markdown",
   "metadata": {},
   "source": [
    "## Polar Representation of Complex Numbers"
   ]
  },
  {
   "attachments": {},
   "cell_type": "markdown",
   "metadata": {},
   "source": [
    "$\n",
    "\\boxed{\n",
    "\\begin{aligned}\n",
    "z=re^{\\theta i}\n",
    "\\,\\,\\,\\text{where}\\,\\,\\,\n",
    "r=|z|\n",
    "\\end{aligned}\n",
    "}\n",
    "$"
   ]
  },
  {
   "cell_type": "code",
   "execution_count": 101,
   "metadata": {},
   "outputs": [
    {
     "data": {
      "image/png": "[encoded data removed]",
      "text/plain": [
       "<Figure size 640x480 with 1 Axes>"
      ]
     },
     "metadata": {},
     "output_type": "display_data"
    }
   ],
   "source": [
    "zs={\n",
    "  0+1j,\n",
    "  1+2j,\n",
    "  2+3j,\n",
    "  3+4j,\n",
    "  4+5j,\n",
    "  5+6j,\n",
    "}\n",
    "\n",
    "pC([\n",
    "  zs,\n",
    "  {uC(z) for z in zs},\n",
    "],-5,5,v='y')"
   ]
  },
  {
   "attachments": {},
   "cell_type": "markdown",
   "metadata": {},
   "source": [
    "---"
   ]
  },
  {
   "attachments": {},
   "cell_type": "markdown",
   "metadata": {},
   "source": [
    "## Transformations via Complex Operations"
   ]
  },
  {
   "attachments": {},
   "cell_type": "markdown",
   "metadata": {},
   "source": [
    "### Rotation"
   ]
  },
  {
   "attachments": {},
   "cell_type": "markdown",
   "metadata": {},
   "source": [
    "To rotate a complex number $z$ where $\\text{arg}\\,\\,\\,z=\\theta$ by $\\tau$ radians\n",
    "\n",
    "$\n",
    "\\begin{aligned}\n",
    "re^{(\\theta+\\tau)i}=re^{\\theta i}re^{\\tau i}=ze^{\\tau i}\n",
    "\\end{aligned}\n",
    "$"
   ]
  },
  {
   "cell_type": "code",
   "execution_count": 102,
   "metadata": {},
   "outputs": [
    {
     "data": {
      "image/png": "[encoded data removed]",
      "text/plain": [
       "<Figure size 640x480 with 1 Axes>"
      ]
     },
     "metadata": {},
     "output_type": "display_data"
    }
   ],
   "source": [
    "S={\n",
    "  2   +1.25j,\n",
    "  2   +1.50j,\n",
    "  2   +1.75j,\n",
    "  2   +2j,\n",
    "  2.25+2j,\n",
    "  2.50+2j,\n",
    "  2.75+2j,\n",
    "  3   +2j,\n",
    "  2   +1j,\n",
    "  2.25+1j,\n",
    "  2.5 +1j,\n",
    "  2.75+1j,\n",
    "  3   +1j,\n",
    "  3   +1.25j,\n",
    "  3   +1.50j,\n",
    "  3   +1.75j,\n",
    "}\n",
    "\n",
    "pC([\n",
    "  S,\n",
    "  {rotate(c,np.pi) for c in S},\n",
    "  {rotate(c,np.pi/2) for c in S},\n",
    "  {rotate(c,1) for c in S},\n",
    "],-6,6,v='n')"
   ]
  },
  {
   "attachments": {},
   "cell_type": "markdown",
   "metadata": {},
   "source": [
    "---"
   ]
  },
  {
   "cell_type": "code",
   "execution_count": 115,
   "metadata": {},
   "outputs": [
    {
     "data": {
      "image/png": "[encoded data removed]",
      "text/plain": [
       "<Figure size 640x480 with 1 Axes>"
      ]
     },
     "metadata": {},
     "output_type": "display_data"
    }
   ],
   "source": [
    "imgRGB = mpimg.imread(fname='gandalf.png')\n",
    "fig = plt.figure();\n",
    "ax  = plt.subplot();\n",
    "ax.imshow(X=imgRGB);\n",
    "ax.grid(False);\n",
    "#ax.axis('off');"
   ]
  },
  {
   "cell_type": "code",
   "execution_count": 117,
   "metadata": {},
   "outputs": [
    {
     "data": {
      "text/plain": [
       "(1200, 952)"
      ]
     },
     "execution_count": 117,
     "metadata": {},
     "output_type": "execute_result"
    }
   ],
   "source": [
    "#img=np.flip(np.dot(imgRGB,[0.2989,0.5870,0.1140]),0)\n",
    "img=np.dot(imgRGB,[0.2989,0.5870,0.1140])\n",
    "img.shape"
   ]
  },
  {
   "cell_type": "code",
   "execution_count": 118,
   "metadata": {},
   "outputs": [
    {
     "data": {
      "image/png": "[encoded data removed]",
      "text/plain": [
       "<Figure size 640x480 with 1 Axes>"
      ]
     },
     "metadata": {},
     "output_type": "display_data"
    }
   ],
   "source": [
    "fig = plt.figure();\n",
    "ax  = plt.subplot();\n",
    "ax.imshow(X=img,cmap=mpl.pyplot.get_cmap(name='gray'),vmin=0,vmax=1);\n",
    "ax.grid(False);\n",
    "#ax.axis('off');\n",
    "ax.set_xlim(-952,952);\n",
    "ax.set_ylim(1200,-1200);"
   ]
  },
  {
   "attachments": {},
   "cell_type": "markdown",
   "metadata": {},
   "source": [
    "---"
   ]
  },
  {
   "attachments": {},
   "cell_type": "markdown",
   "metadata": {},
   "source": [
    "## Resources"
   ]
  },
  {
   "attachments": {},
   "cell_type": "markdown",
   "metadata": {},
   "source": [
    "[[Y](https://www.youtube.com/watch?v=cy8r7WSuT1I)] Sanderson, Grant (3Blue1Brown). (02 Apr 2023). \"Why π is in the normal distribution (beyond integral tricks)\". YouTube.\n",
    "\n",
    "* Zaczyński, Bartosz. \"Simplify Complex Numbers with Python\". Real Python. [Page](https://realpython.com/python-complex-numbers/)."
   ]
  },
  {
   "attachments": {},
   "cell_type": "markdown",
   "metadata": {},
   "source": [
    "---"
   ]
  },
  {
   "attachments": {},
   "cell_type": "markdown",
   "metadata": {},
   "source": [
    "## Terms"
   ]
  },
  {
   "attachments": {},
   "cell_type": "markdown",
   "metadata": {},
   "source": [
    "* [[W](https://en.wikipedia.org/wiki/Complex_analysis)] Complex Analysis\n",
    "* [[W](https://en.wikipedia.org/wiki/Complex_logarithm)] Complex Logarithm\n",
    "* [[W](https://en.wikipedia.org/wiki/Complex_number)] Complex Number\n",
    "* [[W](https://en.wikipedia.org/wiki/Complex_plane)] Complex Plane\n",
    "* [[W](https://en.wikipedia.org/wiki/Euler%27s_formula)] Euler's Formula\n",
    "* [[W](https://en.wikipedia.org/wiki/Imaginary_unit)] Imaginary Unit\n",
    "* [[W](https://en.wikipedia.org/wiki/Lacunary_value)] Lacunary Value\n",
    "* [[W](https://en.wikipedia.org/wiki/Phasor)] Phasor\n",
    "* [[W](https://en.wikipedia.org/wiki/Root_of_unity)] Roots of Unity"
   ]
  },
  {
   "attachments": {},
   "cell_type": "markdown",
   "metadata": {},
   "source": [
    "---"
   ]
  },
  {
   "cell_type": "code",
   "execution_count": null,
   "metadata": {},
   "outputs": [
    {
     "data": {
      "text/plain": [
       "2.5"
      ]
     },
     "metadata": {},
     "output_type": "display_data"
    },
    {
     "data": {
      "text/plain": [
       "(1.2-0.6j)"
      ]
     },
     "metadata": {},
     "output_type": "display_data"
    }
   ],
   "source": [
    "def solve1 (a,b,c):\n",
    "  \"solves ax + b = c\"\n",
    "  return (c-b)/a\n",
    "\n",
    "display(\n",
    "  solve1(10,5,30),\n",
    "  solve1(10+5j,5,20),\n",
    ")"
   ]
  }
 ],
 "metadata": {
  "kernelspec": {
   "display_name": "main",
   "language": "python",
   "name": "python3"
  },
  "language_info": {
   "codemirror_mode": {
    "name": "ipython",
    "version": 3
   },
   "file_extension": ".py",
   "mimetype": "text/x-python",
   "name": "python",
   "nbconvert_exporter": "python",
   "pygments_lexer": "ipython3",
   "version": "3.10.8"
  },
  "orig_nbformat": 4
 },
 "nbformat": 4,
 "nbformat_minor": 2
}
