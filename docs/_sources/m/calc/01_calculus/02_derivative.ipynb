{
 "cells": [
  {
   "attachments": {},
   "cell_type": "markdown",
   "metadata": {},
   "source": [
    "# Derivatives"
   ]
  },
  {
   "attachments": {},
   "cell_type": "markdown",
   "metadata": {},
   "source": [
    "---"
   ]
  },
  {
   "attachments": {},
   "cell_type": "markdown",
   "metadata": {},
   "source": [
    "```{admonition} Revised\n",
    "14 Jun 2023\n",
    "```\n",
    "```{contents}\n",
    "```"
   ]
  },
  {
   "attachments": {},
   "cell_type": "markdown",
   "metadata": {},
   "source": [
    "---"
   ]
  },
  {
   "attachments": {},
   "cell_type": "markdown",
   "metadata": {},
   "source": [
    "## Programming Environment"
   ]
  },
  {
   "cell_type": "code",
   "execution_count": 3,
   "metadata": {
    "tags": [
     "hide-input"
    ]
   },
   "outputs": [
    {
     "name": "stdout",
     "output_type": "stream",
     "text": [
      "EXECUTED            : 2023-06-14 12:57:56.337837\n",
      "\n",
      "Platform            : 13.3.1 | Darwin | 22.4.0 | arm64\n",
      "                    : UTF-8\n",
      "\n",
      "Python              : 3.10.8 | packaged by conda-forge | (main, Nov 22 2022, 08:25:29) [Clang 14.0.6 ]\n",
      "                    : sys.version_info(major=3, minor=10, micro=8, releaselevel='final', serial=0)\n",
      "                    : CPython\n",
      "\n",
      "Matplotlib          : 3.6.3\n",
      "NumPy               : 1.24.1\n",
      "Pandas              : 1.5.3\n",
      "Plotly              : 5.13.0\n",
      "SymPy               : 1.11.1\n"
     ]
    }
   ],
   "source": [
    "import numpy             as np\n",
    "import pandas            as pd\n",
    "import matplotlib        as mpl\n",
    "import matplotlib.pyplot as plt\n",
    "from   matplotlib           import gridspec\n",
    "from   mpl_toolkits.mplot3d import axes3d\n",
    "from   ipywidgets           import interactive\n",
    "plt.style.use('ggplot');\n",
    "\n",
    "import sympy as smp\n",
    "from   sympy import *\n",
    "\n",
    "import plotly\n",
    "import plotly.figure_factory as ff\n",
    "import plotly.graph_objects  as go\n",
    "\n",
    "from IPython.display import display, Math\n",
    "\n",
    "from   datetime import datetime as d\n",
    "import locale                   as l\n",
    "import platform                 as p\n",
    "import sys                      as s\n",
    "\n",
    "pad = 20\n",
    "print(f\"{'Executed'.upper():<{pad}}: {d.now()}\")\n",
    "print()\n",
    "print(f\"{'Platform'        :<{pad}}: \"\n",
    "      f\"{p.mac_ver()[0]} | \"\n",
    "      f\"{p.system()} | \"\n",
    "      f\"{p.release()} | \"\n",
    "      f\"{p.machine()}\")\n",
    "print(f\"{''                :<{pad}}: {l.getpreferredencoding()}\")\n",
    "print()\n",
    "print(f\"{'Python'          :<{pad}}: {s.version}\")\n",
    "print(f\"{''                :<{pad}}: {s.version_info}\")\n",
    "print(f\"{''                :<{pad}}: {p.python_implementation()}\")\n",
    "print()\n",
    "print(f\"{'Matplotlib'      :<{pad}}: {mpl   .__version__}\")\n",
    "print(f\"{'NumPy'           :<{pad}}: {np    .__version__}\")\n",
    "print(f\"{'Pandas'          :<{pad}}: {pd    .__version__}\")\n",
    "print(f\"{'Plotly'          :<{pad}}: {plotly.__version__}\")\n",
    "print(f\"{'SymPy'           :<{pad}}: {smp   .__version__}\")"
   ]
  },
  {
   "attachments": {},
   "cell_type": "markdown",
   "metadata": {},
   "source": [
    "---"
   ]
  },
  {
   "attachments": {},
   "cell_type": "markdown",
   "metadata": {},
   "source": [
    "## $\\begin{aligned}\\frac{d}{dx} \\left( \\frac{1 + \\sin(x)}{1 - \\cos(x)} \\right)^2\\end{aligned}$"
   ]
  },
  {
   "attachments": {},
   "cell_type": "markdown",
   "metadata": {},
   "source": [
    "$\n",
    "\\begin{aligned}\n",
    "\\frac{d}{dx} \\left( \\frac{1 + \\sin(x)}{1 - \\cos(x)} \\right)^2\n",
    "\\end{aligned}\n",
    "$"
   ]
  },
  {
   "cell_type": "code",
   "execution_count": 4,
   "metadata": {},
   "outputs": [
    {
     "data": {
      "text/latex": [
       "$\\displaystyle \\frac{2 \\left(\\sin{\\left(x \\right)} + 1\\right) \\cos{\\left(x \\right)}}{\\left(1 - \\cos{\\left(x \\right)}\\right)^{2}} - \\frac{2 \\left(\\sin{\\left(x \\right)} + 1\\right)^{2} \\sin{\\left(x \\right)}}{\\left(1 - \\cos{\\left(x \\right)}\\right)^{3}}$"
      ],
      "text/plain": [
       "2*(sin(x) + 1)*cos(x)/(1 - cos(x))**2 - 2*(sin(x) + 1)**2*sin(x)/(1 - cos(x))**3"
      ]
     },
     "execution_count": 4,
     "metadata": {},
     "output_type": "execute_result"
    }
   ],
   "source": [
    "x = smp.symbols('x')\n",
    "\n",
    "smp.diff(\n",
    "  ((1 + smp.sin(x)) / (1 - smp.cos(x)))**2,\n",
    "  x,\n",
    "  1, # first derivative\n",
    ")"
   ]
  },
  {
   "attachments": {},
   "cell_type": "markdown",
   "metadata": {},
   "source": [
    "---"
   ]
  },
  {
   "attachments": {},
   "cell_type": "markdown",
   "metadata": {},
   "source": [
    "## $\\begin{aligned}\\frac{d}{dx} \\left( \\frac{y + \\sin(x)}{1 - \\cos(x)} \\right)^2\\end{aligned}$"
   ]
  },
  {
   "attachments": {},
   "cell_type": "markdown",
   "metadata": {},
   "source": [
    "$\n",
    "\\begin{aligned}\n",
    "\\frac{d}{dx} \\left( \\frac{y + \\sin(x)}{1 - \\cos(x)} \\right)^2\n",
    "\\end{aligned}\n",
    "$"
   ]
  },
  {
   "cell_type": "code",
   "execution_count": 5,
   "metadata": {},
   "outputs": [
    {
     "data": {
      "text/latex": [
       "$\\displaystyle \\frac{2 \\left(y + \\sin{\\left(x \\right)}\\right) \\cos{\\left(x \\right)}}{\\left(1 - \\cos{\\left(x \\right)}\\right)^{2}} - \\frac{2 \\left(y + \\sin{\\left(x \\right)}\\right)^{2} \\sin{\\left(x \\right)}}{\\left(1 - \\cos{\\left(x \\right)}\\right)^{3}}$"
      ],
      "text/plain": [
       "2*(y + sin(x))*cos(x)/(1 - cos(x))**2 - 2*(y + sin(x))**2*sin(x)/(1 - cos(x))**3"
      ]
     },
     "execution_count": 5,
     "metadata": {},
     "output_type": "execute_result"
    }
   ],
   "source": [
    "x, y = smp.symbols('x y')\n",
    "\n",
    "smp.diff(((y + smp.sin(x)) / (1 - smp.cos(x)))**2, x, 1)"
   ]
  },
  {
   "attachments": {},
   "cell_type": "markdown",
   "metadata": {},
   "source": [
    "---"
   ]
  },
  {
   "attachments": {},
   "cell_type": "markdown",
   "metadata": {},
   "source": [
    "## $\\begin{aligned}\\frac{d}{dx} (\\log_5(x))^\\frac{x}{2}\\end{aligned}$"
   ]
  },
  {
   "attachments": {},
   "cell_type": "markdown",
   "metadata": {},
   "source": [
    "$\n",
    "\\begin{aligned}\n",
    "\\frac{d}{dx} (\\log_5(x))^\\frac{x}{2}\n",
    "\\end{aligned}\n",
    "$"
   ]
  },
  {
   "cell_type": "code",
   "execution_count": 6,
   "metadata": {},
   "outputs": [
    {
     "data": {
      "text/latex": [
       "$\\displaystyle \\left(\\frac{\\log{\\left(x \\right)}}{\\log{\\left(5 \\right)}}\\right)^{\\frac{x}{2}} \\left(\\frac{\\log{\\left(\\frac{\\log{\\left(x \\right)}}{\\log{\\left(5 \\right)}} \\right)}}{2} + \\frac{1}{2 \\log{\\left(x \\right)}}\\right)$"
      ],
      "text/plain": [
       "(log(x)/log(5))**(x/2)*(log(log(x)/log(5))/2 + 1/(2*log(x)))"
      ]
     },
     "execution_count": 6,
     "metadata": {},
     "output_type": "execute_result"
    }
   ],
   "source": [
    "x = smp.symbols('x')\n",
    "\n",
    "smp.diff(smp.log(x, 5)**(x/2), x, 1)"
   ]
  },
  {
   "attachments": {},
   "cell_type": "markdown",
   "metadata": {},
   "source": [
    "---"
   ]
  },
  {
   "attachments": {},
   "cell_type": "markdown",
   "metadata": {},
   "source": [
    "## $\\begin{aligned}\\frac{d}{dx} f(x + g(x))\\end{aligned}$"
   ]
  },
  {
   "attachments": {},
   "cell_type": "markdown",
   "metadata": {},
   "source": [
    "$\n",
    "\\begin{aligned}\n",
    "\\frac{d}{dx} f(x + g(x))\n",
    "\\end{aligned}\n",
    "$"
   ]
  },
  {
   "cell_type": "code",
   "execution_count": 7,
   "metadata": {},
   "outputs": [
    {
     "data": {
      "text/latex": [
       "$\\displaystyle \\left(\\frac{d}{d x} g{\\left(x \\right)} + 1\\right) \\left. \\frac{d}{d \\xi_{1}} f{\\left(\\xi_{1} \\right)} \\right|_{\\substack{ \\xi_{1}=x + g{\\left(x \\right)} }}$"
      ],
      "text/plain": [
       "(Derivative(g(x), x) + 1)*Subs(Derivative(f(_xi_1), _xi_1), _xi_1, x + g(x))"
      ]
     },
     "execution_count": 7,
     "metadata": {},
     "output_type": "execute_result"
    }
   ],
   "source": [
    "x    = smp.symbols('x')\n",
    "f, g = smp.symbols('f g', cls=smp.Function)\n",
    "\n",
    "g = g(x)\n",
    "f = f(x + g)\n",
    "\n",
    "smp.diff(f, x, 1)"
   ]
  },
  {
   "attachments": {},
   "cell_type": "markdown",
   "metadata": {},
   "source": [
    "---"
   ]
  },
  {
   "attachments": {},
   "cell_type": "markdown",
   "metadata": {},
   "source": [
    "## Trigonometric Functions"
   ]
  },
  {
   "attachments": {},
   "cell_type": "markdown",
   "metadata": {},
   "source": [
    "### $\\begin{aligned}\\frac{d}{d\\theta}\\sin\\theta=\\cos\\theta\\end{aligned}$"
   ]
  },
  {
   "attachments": {},
   "cell_type": "markdown",
   "metadata": {},
   "source": [
    "$\n",
    "\\begin{aligned}\n",
    "\\frac{d}{d\\theta}\\sin\\theta\\,[\\text{rad}]=\\cos\\theta\\,[\\text{rad}]\n",
    "\\end{aligned}\n",
    "$"
   ]
  },
  {
   "attachments": {},
   "cell_type": "markdown",
   "metadata": {},
   "source": [
    "$\n",
    "\\begin{aligned}\n",
    "\\frac{\\Delta y}{\\Delta x}\n",
    "&=\\frac{y_2-y_1}{x_2-x_1}\n",
    "=\\frac{\\sin(x+\\Delta x)-\\sin x}{x+\\Delta x-x}\n",
    "=\\frac{\\sin x\\cos\\Delta x+\\cos x\\sin\\Delta x-\\sin x}{\\Delta x}\n",
    "=\\frac{\\sin x\\cos\\Delta x-\\sin x}{\\Delta x}+\\frac{\\cos x\\sin\\Delta x}{\\Delta x}\n",
    "\\\\\n",
    "\\frac{dy}{dx}\n",
    "=\\lim_{\\Delta x\\to0}\\frac{\\Delta y}{\\Delta x}\n",
    "&=\\sin x\\lim_{\\Delta x\\to0}\\frac{\\cos\\Delta x-1}{\\Delta x}+\\cos x\\lim_{\\Delta x\\to0}\\frac{\\sin\\Delta x}{\\Delta x}\n",
    "=\\cos x\n",
    "\\end{aligned}\n",
    "$"
   ]
  },
  {
   "cell_type": "code",
   "execution_count": null,
   "metadata": {
    "tags": [
     "hide-input"
    ]
   },
   "outputs": [
    {
     "data": {
      "image/png": "[encoded data removed]",
      "text/plain": [
       "<Figure size 800x800 with 1 Axes>"
      ]
     },
     "metadata": {},
     "output_type": "display_data"
    }
   ],
   "source": [
    "t =np.linspace(-2*np.pi,2*np.pi,1001)\n",
    "f =np.sin(t)\n",
    "df=np.cos(t)\n",
    "\n",
    "fig=plt.figure(figsize=(8,8));\n",
    "ax =plt.subplot();\n",
    "ax.plot(t, f,label='sin');\n",
    "ax.plot(t,df,label='cos');\n",
    "ax.scatter(0,1,color='purple',s=100);\n",
    "ax.plot(t,t,color='purple',linewidth=0.5);\n",
    "ax.scatter(np.pi/2,0,color='green',s=100);\n",
    "ax.plot(t,np.ones(1001),color='green',linewidth=0.5);\n",
    "ax.axvline(0,color='k');\n",
    "ax.set_xlim(-2*np.pi,2*np.pi);\n",
    "ax.set_xlabel('$\\\\theta$ [rad]');\n",
    "ax.set_ylim(-1.2,1.2)\n",
    "ax.set_ylabel('$f(\\\\theta)$ [rad]');\n",
    "ax.legend();"
   ]
  },
  {
   "attachments": {},
   "cell_type": "markdown",
   "metadata": {},
   "source": [
    "---"
   ]
  },
  {
   "attachments": {},
   "cell_type": "markdown",
   "metadata": {},
   "source": [
    "## To Review"
   ]
  },
  {
   "attachments": {},
   "cell_type": "markdown",
   "metadata": {},
   "source": [
    "Finite Difference\n",
    "\n",
    "$\n",
    "f(x+b)-f(x+a)\n",
    "$\n",
    "\n",
    "Difference Quotient\n",
    "\n",
    "$\n",
    "\\begin{aligned}\n",
    "\\frac{f(x+b)-f(x+a)}{b-a}\n",
    "\\end{aligned}\n",
    "$\n",
    "\n",
    "Difference Operator\n",
    "\n",
    "$\n",
    "\\Delta:f\\rightarrow\\Delta[f]\n",
    "$\n",
    "\n",
    "Newton's Difference Quotient, or a first-order divided difference\n",
    "\n",
    "$\n",
    "\\begin{aligned}\n",
    "\\frac{f(x+h)-f(x)}{h}\n",
    "\\end{aligned}\n",
    "$\n",
    "\n",
    "Definition of the Derivative of $f$ at $x$\n",
    "\n",
    "$\n",
    "\\begin{aligned}\n",
    "f'(x)\n",
    "\\overset{\\text{def}}{=}\n",
    "\\underset{h\\rightarrow0}{\\lim}\\frac{f(x+h)-f(x)}{h}\n",
    "\\end{aligned}\n",
    "$"
   ]
  },
  {
   "attachments": {},
   "cell_type": "markdown",
   "metadata": {},
   "source": [
    "---"
   ]
  },
  {
   "attachments": {},
   "cell_type": "markdown",
   "metadata": {},
   "source": [
    "## Terms"
   ]
  },
  {
   "attachments": {},
   "cell_type": "markdown",
   "metadata": {},
   "source": [
    "* [[w](https://en.wikipedia.org/wiki/Antiderivative)] Antiderivative\n",
    "* [[w](https://en.wikipedia.org/wiki/Indefinite_sum)] Antidifference (Indefinite Sum)\n",
    "* [[w](https://en.wikipedia.org/wiki/Derivative)] Derivative\n",
    "* [w] Difference Operator\n",
    "* [[w](https://en.wikipedia.org/wiki/Difference_quotient)] Difference Quotient\n",
    "* [[w](https://en.wikipedia.org/wiki/Differentiable_function)] Differentiable Function\n",
    "* [[w](https://en.wikipedia.org/wiki/Discrete_calculus)] Discrete Calculus\n",
    "* [[w](https://en.wikipedia.org/wiki/Divided_differences)] Divided Difference\n",
    "* [[w](https://en.wikipedia.org/wiki/Finite_difference)] Finite Difference\n",
    "* [[w](https://en.wikipedia.org/wiki/Functional_equation)] Functional Equation\n",
    "* [[w](https://en.wikipedia.org/wiki/Indefinite_sum)]  Indefinite Sum (Antidifference)\n",
    "* [[w](https://en.wikipedia.org/wiki/Infinitesimal)] Infinitesimal\n",
    "* [[w](https://en.wikipedia.org/wiki/Instant)] Instant\n",
    "* [[w](https://en.wikipedia.org/wiki/Rate_(mathematics))] Rate\n",
    "* [[w](https://en.wikipedia.org/wiki/Recurrence_relation)] Recurrence Relation\n",
    "* [[w](https://en.wikipedia.org/wiki/Semi-differentiability)] Semi Differentiability\n",
    "* [[w](https://en.wikipedia.org/wiki/Symmetric_derivative)] Symmetric Derivative\n",
    "* [[w](https://en.wikipedia.org/wiki/Time_scale_calculus)] Time-Scale Calculus"
   ]
  },
  {
   "attachments": {},
   "cell_type": "markdown",
   "metadata": {},
   "source": [
    "---"
   ]
  },
  {
   "attachments": {},
   "cell_type": "markdown",
   "metadata": {},
   "source": [
    "## Bibliography"
   ]
  },
  {
   "attachments": {},
   "cell_type": "markdown",
   "metadata": {},
   "source": [
    "* [[Y](https://www.youtube.com/watch?v=-SdIZHPuW9o)] Mr. P Solver. (26 May 2021). \"1st Year Calculus, But in PYTHON\". YouTube."
   ]
  },
  {
   "attachments": {},
   "cell_type": "markdown",
   "metadata": {},
   "source": [
    "---"
   ]
  }
 ],
 "metadata": {
  "kernelspec": {
   "display_name": "main",
   "language": "python",
   "name": "python3"
  },
  "language_info": {
   "codemirror_mode": {
    "name": "ipython",
    "version": 3
   },
   "file_extension": ".py",
   "mimetype": "text/x-python",
   "name": "python",
   "nbconvert_exporter": "python",
   "pygments_lexer": "ipython3",
   "version": "3.10.8"
  },
  "orig_nbformat": 4
 },
 "nbformat": 4,
 "nbformat_minor": 2
}
