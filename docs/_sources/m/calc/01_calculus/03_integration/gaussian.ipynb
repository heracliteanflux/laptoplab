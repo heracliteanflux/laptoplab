{
 "cells": [
  {
   "attachments": {},
   "cell_type": "markdown",
   "metadata": {},
   "source": [
    "# The Bell Curve, Gaussian Integral, & Error Function"
   ]
  },
  {
   "attachments": {},
   "cell_type": "markdown",
   "metadata": {},
   "source": [
    "---"
   ]
  },
  {
   "attachments": {},
   "cell_type": "markdown",
   "metadata": {},
   "source": [
    "```{admonition} Revised\n",
    "02 Apr 2023\n",
    "```\n",
    "```{contents}\n",
    "```"
   ]
  },
  {
   "attachments": {},
   "cell_type": "markdown",
   "metadata": {},
   "source": [
    "---"
   ]
  },
  {
   "attachments": {},
   "cell_type": "markdown",
   "metadata": {},
   "source": [
    "## Bell Curve, the Gaussian Function"
   ]
  },
  {
   "attachments": {},
   "cell_type": "markdown",
   "metadata": {},
   "source": [
    "$$\n",
    "f(x)=e^{-x^2}\n",
    "$$"
   ]
  },
  {
   "attachments": {},
   "cell_type": "markdown",
   "metadata": {},
   "source": [
    "$\n",
    "\\begin{aligned}\n",
    "f:\\mathbb{R}\\to\\mathbb{R}\n",
    "\\\\\n",
    "\\text{domain}\\,\\,\\,D&=\\mathbb{R}=(-\\infty,\\infty)\n",
    "\\\\\n",
    "\\text{image}\\,\\,\\,I&=\\mathbb{R}^+\\impliedby e^{-x^2}\\gt0\n",
    "\\\\\n",
    "\\text{even function}\\,\\,\\,e^{-x^2}&=f(x)=f(-x)=e^{-(-x)^2}\n",
    "\\\\\n",
    "\\text{horizontal asymptote}\\,\\,\\,0&=\\lim_{x\\to-\\infty}e^{-x^2}=\\lim_{x\\to\\infty}e^{-x^2}\n",
    "\\\\\n",
    "\\text{vertical asymptote}\\,\\,\\,&\\text{none, since the denominator is never equal to zero}\n",
    "\\end{aligned}\n",
    "$"
   ]
  },
  {
   "attachments": {},
   "cell_type": "markdown",
   "metadata": {},
   "source": [
    "First Derivative\n",
    "\n",
    "$\n",
    "\\begin{aligned}\n",
    "f'(x)&=\\frac{d}{dx}e^{-x^2}\n",
    "\\\\\n",
    "u&=-x^2\n",
    "\\\\\n",
    "\\frac{d}{dx}u&=-2x\n",
    "\\\\\n",
    "f'(x)&=\\frac{d}{dx}e^u\n",
    "=e^u\\frac{d}{dx}u\n",
    "=-2xe^{-x^2}\n",
    "&&\\text{by chain rule}\n",
    "\\end{aligned}\n",
    "$"
   ]
  },
  {
   "attachments": {},
   "cell_type": "markdown",
   "metadata": {},
   "source": [
    "Critical Points\n",
    "\n",
    "$\n",
    "\\begin{aligned}\n",
    "f'(x)&=-2xe^{-x^2}=0\n",
    "\\implies\n",
    "-2x=0\n",
    "\\implies\n",
    "x=0\n",
    "\\end{aligned}\n",
    "$\n",
    "\n",
    "$f$ is a global maximum at $x=0$."
   ]
  },
  {
   "attachments": {},
   "cell_type": "markdown",
   "metadata": {},
   "source": [
    "First Derivative Test\n",
    "\n",
    "$\n",
    "\\begin{aligned}\n",
    "x&\\lt0\n",
    "\\implies\n",
    "f'(-1)\n",
    "=-2(-1)e^{-(-1)^2}\n",
    "=2e^{-1}\n",
    "&&\\gt0\n",
    "\\\\\n",
    "x&\\gt0\n",
    "\\implies\n",
    "f'(1)\n",
    "=-2(1)e^{-(1)^2}\n",
    "=-2e^{-1}\n",
    "&&\\lt0\n",
    "\\end{aligned}\n",
    "$\n",
    "\n",
    "$f$ increases on the interval $(-\\infty,0)$ and decreases on the interval $(0,\\infty)$."
   ]
  },
  {
   "attachments": {},
   "cell_type": "markdown",
   "metadata": {},
   "source": [
    "Second Derivative\n",
    "\n",
    "$\n",
    "\\begin{aligned}\n",
    "f''(x)\n",
    "&=\\frac{d}{dx}\\left(-2xe^{-x^2}\\right)\n",
    "\\\\\n",
    "&=-2\\frac{d}{dx}\\left(xe^{-x^2}\\right)\n",
    "\\\\\n",
    "&=-2\\left[x\\frac{d}{dx}\\left(e^{-x^2}\\right)+\\left(\\frac{d}{dx}x\\right)e^{-x^2}\\right]\n",
    "&&\\text{by product rule}\n",
    "\\\\\n",
    "&=-2\\left(-2x^2e^{-x^2}+e^{-x^2}\\right)\n",
    "\\\\\n",
    "&=2e^{-x^2}\\left(2x^2-1\\right)\n",
    "\\end{aligned}\n",
    "$"
   ]
  },
  {
   "attachments": {},
   "cell_type": "markdown",
   "metadata": {},
   "source": [
    "Inflection Points\n",
    "\n",
    "$\n",
    "\\begin{aligned}\n",
    "f''(x)\n",
    "&=2e^{-x^2}\\left(2x^2-1\\right)\n",
    "=0\n",
    "\\implies\n",
    "4x^2-2=0\n",
    "\\implies\n",
    "x^2=\\frac{1}{2}\n",
    "\\implies\n",
    "x=\\pm\\frac{1}{\\sqrt{2}}\n",
    "\\end{aligned}\n",
    "$"
   ]
  },
  {
   "attachments": {},
   "cell_type": "markdown",
   "metadata": {},
   "source": [
    "Second Derivative Test\n",
    "\n",
    "$\n",
    "\\begin{aligned}\n",
    "x&\\lt-\\frac{1}{\\sqrt{2}}\n",
    "&&\\implies\n",
    "f''(-1)\n",
    "=2e^{-(-1)^2}\\left(2(-1)^2-1\\right)\n",
    "=2e^{-1}(2-1)\n",
    "=2e^{-1}\n",
    "&&\\gt0\n",
    "\\\\\n",
    "-\\frac{1}{\\sqrt{2}}\\lt x&\\lt\\frac{1}{\\sqrt{2}}\n",
    "&&\\implies\n",
    "f''(0)\n",
    "=2e^{-(0)^2}\\left(2(0)^2-1\\right)\n",
    "=2(0-1)\n",
    "=-2\n",
    "&&\\lt0\n",
    "\\\\\n",
    "\\frac{1}{\\sqrt{2}}&\\lt x\n",
    "&&\\implies\n",
    "f''(1)\n",
    "=2e^{-(1)^2}\\left(2(1)^2-1\\right)\n",
    "=2e^{-1}(2-1)\n",
    "=2e^{-1}\n",
    "&&\\gt0\n",
    "\\end{aligned}\n",
    "$\n",
    "\n",
    "$f$ is concave up on the intervals $\\left(-\\infty,-\\frac{1}{\\sqrt{2}}\\right)\\cup\\left(\\frac{1}{\\sqrt{2}},\\infty\\right)$ and concave down on the interval $\\left(-\\frac{1}{\\sqrt{2}},\\frac{1}{\\sqrt{2}}\\right)$."
   ]
  },
  {
   "attachments": {},
   "cell_type": "markdown",
   "metadata": {},
   "source": [
    "---"
   ]
  },
  {
   "attachments": {},
   "cell_type": "markdown",
   "metadata": {},
   "source": [
    "## Gaussian Integral"
   ]
  },
  {
   "attachments": {},
   "cell_type": "markdown",
   "metadata": {},
   "source": [
    "$$\n",
    "\\sqrt{\\pi}=\\int_{-\\infty}^\\infty e^{-x^2}\\,dx\n",
    "$$"
   ]
  },
  {
   "attachments": {},
   "cell_type": "markdown",
   "metadata": {},
   "source": [
    "The total area under the curve represents the sumd of all probabilities and is equal to unity.\n",
    "\n",
    "Thus\n",
    "$\n",
    "\\begin{aligned}\n",
    "\\frac{1}{\\sqrt{\\pi}}\n",
    "\\end{aligned}\n",
    "$\n",
    "is a common normalization factor."
   ]
  },
  {
   "attachments": {},
   "cell_type": "markdown",
   "metadata": {},
   "source": [
    "---"
   ]
  },
  {
   "attachments": {},
   "cell_type": "markdown",
   "metadata": {},
   "source": [
    "An indefinite integral must be rewritten as a limit\n",
    "\n",
    "$\n",
    "\\begin{aligned}\n",
    "\\int_{-\\infty}^\\infty e^{-x^2}\\,dx\n",
    "=\\lim_{A\\to\\infty}\\int_{-A}^A e^{-x^2}\\,dx\n",
    "\\end{aligned}\n",
    "$\n",
    "\n",
    "but, impossibility of $u$-substitution"
   ]
  },
  {
   "attachments": {},
   "cell_type": "markdown",
   "metadata": {},
   "source": [
    "$\n",
    "\\begin{aligned}\n",
    "\\text{I}&\\overset{\\text{def}}{=}\\int_{-\\infty}^\\infty e^{-x^2}\\,dx\n",
    "=\\int_{-\\infty}^\\infty e^{-y^2}\\,dx\n",
    "\\\\\n",
    "&\\implies\n",
    "\\\\\n",
    "\\text{I}^2&=\\int_{-\\infty}^\\infty e^{-x^2}\\,dx\\int_{-\\infty}^\\infty e^{-y^2}\\,dx\n",
    "\\\\\n",
    "&=\\underset{\\mathbb{R}^2}{\\iint}e^{-x^2}e^{-y^2}\\,dx\\,dy\n",
    "\\\\\n",
    "&=\\underset{\\mathbb{R}^2}{\\iint}e^{-(x^2+y^2)}\\,dA\n",
    "\\\\\n",
    "&=\\lim_{R\\to\\infty}\\int_0^{2\\pi}\\int_0^R e^{-r^2}\\,r\\,dr\\,d\\theta\n",
    "&&\\text{by polar transformation equations}\n",
    "\\\\\n",
    "&=\\lim_{R\\to\\infty}\\int_0^{2\\pi}d\\theta\\int_0^R e^{-r^2}\\,r\\,dr\n",
    "\\\\\n",
    "&=2\\pi\\lim_{R\\to\\infty}\\int_0^R e^{-r^2}\\,r\\,dr\n",
    "\\\\\n",
    "u&=-r^2\n",
    "\\implies\n",
    "r=0\\to u=0,r=R\\to u=-R^2\n",
    "\\\\\n",
    "du&=-2r\\,dr\n",
    "\\implies\n",
    "-\\frac{1}{2}\\,du=r\\,dr\n",
    "\\\\\n",
    "\\text{I}^2\n",
    "&=2\\pi\\lim_{R\\to\\infty}\\int_0^{-R^2} e^u\\left(-\\frac{1}{2}\\right)\\,du\n",
    "\\\\\n",
    "&=-\\pi\\lim_{R\\to\\infty}\\int_0^{-R^2} e^u\\,du\n",
    "\\\\\n",
    "&=\\pi\\lim_{R\\to\\infty}\\int_{-R^2}^0 e^u\\,du\n",
    "\\\\\n",
    "&=\\pi\\lim_{R\\to\\infty}e^u\\Big|_{-R^2}^0\n",
    "\\\\\n",
    "&=\\pi\\lim_{R\\to\\infty}\\left(1-e^{-R^2}\\right)\n",
    "\\\\\n",
    "&=\\pi\\left(\\lim_{R\\to\\infty}1-\\lim_{R\\to\\infty}e^{-R^2}\\right)\n",
    "\\\\\n",
    "&=\\pi(1-0)\n",
    "\\\\\n",
    "&=\\pi\n",
    "\\\\\n",
    "\\text{I}&=\\sqrt{\\pi}\n",
    "\\end{aligned}\n",
    "$"
   ]
  },
  {
   "attachments": {},
   "cell_type": "markdown",
   "metadata": {},
   "source": [
    "---"
   ]
  },
  {
   "attachments": {},
   "cell_type": "markdown",
   "metadata": {},
   "source": [
    "## Resources"
   ]
  },
  {
   "attachments": {},
   "cell_type": "markdown",
   "metadata": {},
   "source": [
    "* [[Y](https://www.youtube.com/watch?v=tCPQSobqFh4)] blackpenredpen. (24 Oct 2022). \"how Laplace solved the Gaussian integral\". YouTube.\n",
    "* [[Y](https://www.youtube.com/watch?v=aSjWXMkDazY)] blackpenredpen. (27 Sep 2018). \"The Bell Curve\". YouTube.\n",
    "* [[Y](https://www.youtube.com/watch?v=jkytxdedxhU)] blackpenredpen. (26 Sep 2018). \"the impossible integral of e^(-x^2) & the error function\". YouTube.\n",
    "* [[Y](https://www.youtube.com/watch?v=fWOGfzC3IeY&t=1s)] MIT OpenCourseWare. (04 Jan 2011). \"Integral of exp(-x^2) | MIT 18.02SC Multivariable Calculus, Fall 2010\". YouTube."
   ]
  },
  {
   "attachments": {},
   "cell_type": "markdown",
   "metadata": {},
   "source": [
    "---"
   ]
  },
  {
   "attachments": {},
   "cell_type": "markdown",
   "metadata": {},
   "source": [
    "## Terms"
   ]
  },
  {
   "attachments": {},
   "cell_type": "markdown",
   "metadata": {},
   "source": [
    "* [Wo][[W](https://en.wikipedia.org/wiki/Gaussian_function)] Gaussian Function\n",
    "* [[Wo](https://mathworld.wolfram.com/GaussianIntegral.html)][[W](https://en.wikipedia.org/wiki/Gaussian_integral)] Gaussian Integral"
   ]
  },
  {
   "attachments": {},
   "cell_type": "markdown",
   "metadata": {},
   "source": [
    "---"
   ]
  }
 ],
 "metadata": {
  "language_info": {
   "name": "python"
  },
  "orig_nbformat": 4
 },
 "nbformat": 4,
 "nbformat_minor": 2
}
