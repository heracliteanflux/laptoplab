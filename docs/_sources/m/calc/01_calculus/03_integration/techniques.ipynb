{
 "cells": [
  {
   "attachments": {},
   "cell_type": "markdown",
   "metadata": {},
   "source": [
    "# Techniques of Integration"
   ]
  },
  {
   "attachments": {},
   "cell_type": "markdown",
   "metadata": {},
   "source": [
    "---"
   ]
  },
  {
   "attachments": {},
   "cell_type": "markdown",
   "metadata": {},
   "source": [
    "```{admonition} Revised\n",
    "22 Mar 2023\n",
    "```\n",
    "```{contents}\n",
    "```"
   ]
  },
  {
   "attachments": {},
   "cell_type": "markdown",
   "metadata": {},
   "source": [
    "---"
   ]
  },
  {
   "attachments": {},
   "cell_type": "markdown",
   "metadata": {},
   "source": [
    "## Factoring"
   ]
  },
  {
   "attachments": {},
   "cell_type": "markdown",
   "metadata": {},
   "source": [
    "When the bounds of integration are independent (when they do not contain variables), then multiple integrals may be factored."
   ]
  },
  {
   "attachments": {},
   "cell_type": "markdown",
   "metadata": {},
   "source": [
    "rectangle\n",
    "$\n",
    "\\begin{aligned}\n",
    "\\int_c^d\\int_a^bx^2y^3\\,dx\\,dy\n",
    "&=\\int_c^dy^3\\,dy\\int_a^bx^2\\,dx\n",
    "\\end{aligned}\n",
    "$\n",
    "\n",
    "we are integrating wrt x first, so we can factor out all y terms\n",
    "\n",
    "since the bounds don't depend on y, dy can also be factored out\n",
    "\n",
    "yields two easy integrals multiplied together\n",
    "\n",
    "$\n",
    "\\begin{aligned}\n",
    "\\int_1^2\\int_0^3x^2y^3\\,dx\\,dy\n",
    "&=\\int_1^2y^3\\,dy\\int_0^3x^2\\,dx\n",
    "\\end{aligned}\n",
    "$"
   ]
  },
  {
   "attachments": {},
   "cell_type": "markdown",
   "metadata": {},
   "source": [
    "---"
   ]
  }
 ],
 "metadata": {
  "language_info": {
   "name": "python"
  },
  "orig_nbformat": 4
 },
 "nbformat": 4,
 "nbformat_minor": 2
}
