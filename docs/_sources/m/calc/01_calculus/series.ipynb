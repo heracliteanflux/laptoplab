{
 "cells": [
  {
   "attachments": {},
   "cell_type": "markdown",
   "metadata": {},
   "source": [
    "# Sequences & Series"
   ]
  },
  {
   "attachments": {},
   "cell_type": "markdown",
   "metadata": {},
   "source": [
    "---"
   ]
  },
  {
   "attachments": {},
   "cell_type": "markdown",
   "metadata": {},
   "source": [
    "```{admonition} Revised\n",
    "26 Mar 2023\n",
    "```\n",
    "```{contents}\n",
    "```"
   ]
  },
  {
   "attachments": {},
   "cell_type": "markdown",
   "metadata": {},
   "source": [
    "---"
   ]
  },
  {
   "attachments": {},
   "cell_type": "markdown",
   "metadata": {},
   "source": [
    "## Imports & Environment"
   ]
  },
  {
   "cell_type": "code",
   "execution_count": 2,
   "metadata": {
    "tags": [
     "hide-input"
    ]
   },
   "outputs": [
    {
     "name": "stdout",
     "output_type": "stream",
     "text": [
      "EXECUTED            : 2023-06-14 13:36:23.320641\n",
      "\n",
      "Platform            : 13.3.1 | Darwin | 22.4.0 | arm64\n",
      "                    : UTF-8\n",
      "\n",
      "Python              : 3.10.8 | packaged by conda-forge | (main, Nov 22 2022, 08:25:29) [Clang 14.0.6 ]\n",
      "                    : sys.version_info(major=3, minor=10, micro=8, releaselevel='final', serial=0)\n",
      "                    : CPython\n",
      "\n",
      "Matplotlib          : 3.6.3\n",
      "NumPy               : 1.24.1\n",
      "Pandas              : 1.5.3\n",
      "Plotly              : 5.13.0\n",
      "SymPy               : 1.11.1\n"
     ]
    }
   ],
   "source": [
    "import numpy             as np\n",
    "import pandas            as pd\n",
    "import matplotlib        as mpl\n",
    "import matplotlib.pyplot as plt\n",
    "from   matplotlib           import gridspec\n",
    "from   mpl_toolkits.mplot3d import axes3d\n",
    "from   ipywidgets           import interactive\n",
    "plt.style.use('ggplot');\n",
    "\n",
    "import sympy as smp\n",
    "from   sympy import *\n",
    "\n",
    "import plotly\n",
    "import plotly.figure_factory as ff\n",
    "import plotly.graph_objects  as go\n",
    "\n",
    "from IPython.display import display, Math\n",
    "\n",
    "from   datetime import datetime as d\n",
    "import locale                   as l\n",
    "import platform                 as p\n",
    "import sys                      as s\n",
    "\n",
    "pad = 20\n",
    "print(f\"{'Executed'.upper():<{pad}}: {d.now()}\")\n",
    "print()\n",
    "print(f\"{'Platform'        :<{pad}}: \"\n",
    "      f\"{p.mac_ver()[0]} | \"\n",
    "      f\"{p.system()} | \"\n",
    "      f\"{p.release()} | \"\n",
    "      f\"{p.machine()}\")\n",
    "print(f\"{''                :<{pad}}: {l.getpreferredencoding()}\")\n",
    "print()\n",
    "print(f\"{'Python'          :<{pad}}: {s.version}\")\n",
    "print(f\"{''                :<{pad}}: {s.version_info}\")\n",
    "print(f\"{''                :<{pad}}: {p.python_implementation()}\")\n",
    "print()\n",
    "print(f\"{'Matplotlib'      :<{pad}}: {mpl   .__version__}\")\n",
    "print(f\"{'NumPy'           :<{pad}}: {np    .__version__}\")\n",
    "print(f\"{'Pandas'          :<{pad}}: {pd    .__version__}\")\n",
    "print(f\"{'Plotly'          :<{pad}}: {plotly.__version__}\")\n",
    "print(f\"{'SymPy'           :<{pad}}: {smp   .__version__}\")"
   ]
  },
  {
   "attachments": {},
   "cell_type": "markdown",
   "metadata": {},
   "source": [
    "---"
   ]
  },
  {
   "attachments": {},
   "cell_type": "markdown",
   "metadata": {},
   "source": [
    "## Sequences"
   ]
  },
  {
   "attachments": {},
   "cell_type": "markdown",
   "metadata": {},
   "source": [
    "### Sequences as functions"
   ]
  },
  {
   "attachments": {},
   "cell_type": "markdown",
   "metadata": {},
   "source": [
    "A infinite sequence can be thought of as a list of numbers written in a definite order\n",
    "\n",
    "$\n",
    "\\begin{aligned}\n",
    "\\{a_n\\}_{n=1}^\\infty\n",
    "\\overset{\\text{def}}{=}\n",
    "a_1,a_2,a_3,...,a_n,...\n",
    "\\end{aligned}\n",
    "$\n",
    "\n",
    "where $a_1$ is the first term, $a_2$ is the second term, and in general $a_n$ is the $n$-th term.\n",
    "\n",
    "In an infinite sequence, each term $a_n$ has a successor term $a_{n+1}$.\n",
    "\n",
    "For every positive integer $n$ there is a corresponding number $a_n$. Therefore, a sequence can be defined as a function $f$ whose domain is the set of positive integers and where $a_n$ denotes the value of the function at the number $n$.\n",
    "\n",
    "$\n",
    "\\begin{aligned}\n",
    "\\{a_n\\}_{n=1}^\\infty\n",
    "\\overset{\\text{def}}{=}\n",
    "f:n\\mapsto a_n\n",
    "\\,\\,\\,\\text{where}\\,n\\in\\mathbb{Z}^+\n",
    "\\end{aligned}\n",
    "$"
   ]
  },
  {
   "attachments": {},
   "cell_type": "markdown",
   "metadata": {},
   "source": [
    "---"
   ]
  },
  {
   "attachments": {},
   "cell_type": "markdown",
   "metadata": {},
   "source": [
    "### Graph of a Sequence"
   ]
  },
  {
   "attachments": {},
   "cell_type": "markdown",
   "metadata": {},
   "source": [
    "Since a sequence is a function whose domain is the set of positive integers, its graph consists of isolated points with coordinates\n",
    "\n",
    "$\n",
    "(1,a_1),(2,a_2),(3,a_3),...,(n,a_n),...\n",
    "$"
   ]
  },
  {
   "attachments": {},
   "cell_type": "markdown",
   "metadata": {},
   "source": [
    "---"
   ]
  },
  {
   "attachments": {},
   "cell_type": "markdown",
   "metadata": {},
   "source": [
    "### Limit of a Sequence"
   ]
  },
  {
   "attachments": {},
   "cell_type": "markdown",
   "metadata": {},
   "source": [
    "#### Convergence and Divergence"
   ]
  },
  {
   "attachments": {},
   "cell_type": "markdown",
   "metadata": {},
   "source": [
    "A sequence is said to converge if the limit $L$ of the sequence exists.\n",
    "\n",
    "A sequence is said to diverge if the limit $L$ of the sequence doesn't exists."
   ]
  },
  {
   "attachments": {},
   "cell_type": "markdown",
   "metadata": {},
   "source": [
    "#### Convergent Sequence"
   ]
  },
  {
   "attachments": {},
   "cell_type": "markdown",
   "metadata": {},
   "source": [
    "The notation\n",
    "\n",
    "$\n",
    "\\begin{aligned}\n",
    "\\lim_{n\\to\\infty}a_n=L\n",
    "\\end{aligned}\n",
    "$\n",
    "\n",
    "or\n",
    "\n",
    "$\n",
    "a_n\\to L\n",
    "\\,\\,\\,\\text{as}\\,\\,\\,\n",
    "n\\to\\infty\n",
    "$\n",
    "\n",
    "means that the terms of the sequence $\\{a_n\\}$ approach $L$ as $n$ becomes large.\n",
    "\n",
    "In other words, a sequence $\\{a_n\\}$ has the limit $L$ if we can make the terms $a_n$ arbitrarily close to $L$ by taking $n$ sufficiently large.\n",
    "\n",
    "More precisely, a sequence $\\{a_n\\}$ has the limit $L$ if for every $\\varepsilon\\gt0$ there is a corresponding integer $N$ such that if $n\\gt N$ then $|a_n-L|\\lt\\varepsilon$"
   ]
  },
  {
   "attachments": {},
   "cell_type": "markdown",
   "metadata": {},
   "source": [
    "#### Sequence Diverging to Infinity"
   ]
  },
  {
   "attachments": {},
   "cell_type": "markdown",
   "metadata": {},
   "source": [
    "The notation\n",
    "\n",
    "$\n",
    "\\begin{aligned}\n",
    "\\lim_{n\\to\\infty}a_n=\\infty\n",
    "\\end{aligned}\n",
    "$\n",
    "\n",
    "means that if $a_n$ becomes large as $n$ becomes large. (In other words, the sequence $\\{a_n\\}$ diverges to infinity.)\n",
    "\n",
    "More precisely, this means that for every positive number $M$ there is an integer $N$ such that if $n\\gt N$ then $a_n\\gt M$."
   ]
  },
  {
   "attachments": {},
   "cell_type": "markdown",
   "metadata": {},
   "source": [
    "---"
   ]
  },
  {
   "attachments": {},
   "cell_type": "markdown",
   "metadata": {},
   "source": [
    "### Limit Laws for Sequences"
   ]
  },
  {
   "attachments": {},
   "cell_type": "markdown",
   "metadata": {},
   "source": [
    "Let $\\{a_n\\}$ and $\\{b_n\\}$ be convergent sequences and $c$ be a constant.\n",
    "\n",
    "$\n",
    "\\begin{aligned}\n",
    "\\lim_{n\\to\\infty}(a_n\\pm b_n)=\\lim_{n\\to\\infty}a_n\\pm\\lim_{n\\to\\infty}b_n\n",
    "\\end{aligned}\n",
    "$\n",
    "\n",
    "$\n",
    "\\begin{aligned}\n",
    "\\lim_{n\\to\\infty}ca_n=c\\lim_{n\\to\\infty}a_n\n",
    "\\end{aligned}\n",
    "$\n",
    "\n",
    "$\n",
    "\\begin{aligned}\n",
    "\\lim_{n\\to\\infty}c=c\n",
    "\\end{aligned}\n",
    "$\n",
    "\n",
    "$\n",
    "\\begin{aligned}\n",
    "\\lim_{n\\to\\infty}(a_nb_n)=\\lim_{n\\to\\infty}a_n\\cdot\\lim_{n\\to\\infty}b_n\n",
    "\\end{aligned}\n",
    "$\n",
    "\n",
    "$\n",
    "\\begin{aligned}\n",
    "\\lim_{n\\to\\infty}\\left(\\frac{a_n}{b_n}\\right)=\\frac{\\begin{aligned}\\lim_{n\\to\\infty}a_n\\end{aligned}}{\\begin{aligned}\\lim_{n\\to\\infty}b_n\\end{aligned}}\n",
    "\\,\\,\\,\\text{if}\\,\\lim_{n\\to\\infty}b_n\\ne0\n",
    "\\end{aligned}\n",
    "$\n",
    "\n",
    "$\n",
    "\\begin{aligned}\n",
    "\\lim_{n\\to\\infty}a_n^p=\\left[\\lim_{n\\to\\infty}a_n\\right]^p\n",
    "\\,\\,\\,\\text{if}\\,p\\gt0,a_n\\gt0\n",
    "\\end{aligned}\n",
    "$"
   ]
  },
  {
   "attachments": {},
   "cell_type": "markdown",
   "metadata": {},
   "source": [
    "---"
   ]
  },
  {
   "attachments": {},
   "cell_type": "markdown",
   "metadata": {},
   "source": [
    "### Squeeze Theorem for Sequences"
   ]
  },
  {
   "attachments": {},
   "cell_type": "markdown",
   "metadata": {},
   "source": [
    "$\n",
    "\\begin{aligned}\n",
    "a_n\\le b_n\\le c_n\n",
    "\\,\\,\\,\\text{for}\\,n\\ge n_0\n",
    "\\\\\n",
    "\\land\n",
    "\\\\\n",
    "\\lim_{n\\to\\infty}a_n=\\lim_{n\\to\\infty}c_n=L\n",
    "\\\\\n",
    "\\implies\n",
    "\\\\\n",
    "\\lim_{n\\to\\infty}b_n=L\n",
    "\\end{aligned}\n",
    "$"
   ]
  },
  {
   "attachments": {},
   "cell_type": "markdown",
   "metadata": {},
   "source": [
    "---"
   ]
  },
  {
   "attachments": {},
   "cell_type": "markdown",
   "metadata": {},
   "source": [
    "### Theorem"
   ]
  },
  {
   "attachments": {},
   "cell_type": "markdown",
   "metadata": {},
   "source": [
    "If\n",
    "\n",
    "$\n",
    "\\begin{aligned}\n",
    "\\lim_{x\\to\\infty}f(x)=L\n",
    "\\end{aligned}\n",
    "$\n",
    "\n",
    "and $f(n)=a_n$ when $n$ is an integer, then\n",
    "\n",
    "$\n",
    "\\begin{aligned}\n",
    "\\lim_{n\\to\\infty}a_n=L\n",
    "\\end{aligned}\n",
    "$\n",
    "\n",
    "Since\n",
    "\n",
    "$\n",
    "\\begin{aligned}\n",
    "\\lim_{x\\to\\infty}\\frac{1}{x^r}=0\n",
    "\\,\\,\\,\\text{when}\\,r\\gt0\n",
    "\\end{aligned}\n",
    "$\n",
    "\n",
    "it follows that\n",
    "\n",
    "$\n",
    "\\begin{aligned}\n",
    "\\lim_{n\\to\\infty}\\frac{1}{n^r}=0\n",
    "\\,\\,\\,\\text{when}\\,r\\gt0\n",
    "\\end{aligned}\n",
    "$"
   ]
  },
  {
   "attachments": {},
   "cell_type": "markdown",
   "metadata": {},
   "source": [
    "---"
   ]
  },
  {
   "attachments": {},
   "cell_type": "markdown",
   "metadata": {},
   "source": [
    "### Theorem"
   ]
  },
  {
   "attachments": {},
   "cell_type": "markdown",
   "metadata": {},
   "source": [
    "$\n",
    "\\begin{aligned}\n",
    "\\lim_{n\\to\\infty}|a_n|=0\n",
    "\\implies\n",
    "\\lim_{n\\to\\infty}a_n=0\n",
    "\\end{aligned}\n",
    "$"
   ]
  },
  {
   "attachments": {},
   "cell_type": "markdown",
   "metadata": {},
   "source": [
    "---"
   ]
  },
  {
   "attachments": {},
   "cell_type": "markdown",
   "metadata": {},
   "source": [
    "### Theorem"
   ]
  },
  {
   "attachments": {},
   "cell_type": "markdown",
   "metadata": {},
   "source": [
    "If\n",
    "\n",
    "$\n",
    "\\begin{aligned}\n",
    "\\lim_{n\\to\\infty}a_n=L\n",
    "\\end{aligned}\n",
    "$\n",
    "\n",
    "and the function $f$ is continuous at $L$, then\n",
    "\n",
    "$\n",
    "\\begin{aligned}\n",
    "\\lim_{n\\to\\infty}f(a_n)=f(L)\n",
    "\\end{aligned}\n",
    "$\n",
    "\n",
    "That is, if we apply a continuous function to the terms of a convergent sequence, the result is also convergent."
   ]
  },
  {
   "attachments": {},
   "cell_type": "markdown",
   "metadata": {},
   "source": [
    "---"
   ]
  },
  {
   "attachments": {},
   "cell_type": "markdown",
   "metadata": {},
   "source": [
    "### Monotonicity of Sequences"
   ]
  },
  {
   "attachments": {},
   "cell_type": "markdown",
   "metadata": {},
   "source": [
    "A sequence $\\{a_n\\}$ is called increasing if $a_n\\lt a_{n+1}$ for all $n\\ge1$. That is, $a_1\\lt a_2\\lt a_3\\lt...$.\n",
    "\n",
    "A sequence $\\{a_n\\}$ is called decreasing if $a_n\\gt a_{n+1}$ for all $n\\ge1$. That is, $a_1\\gt a_2\\gt a_3\\gt...$.\n",
    "\n",
    "A sequence is called monotonic if it is either increasing or decreasing."
   ]
  },
  {
   "attachments": {},
   "cell_type": "markdown",
   "metadata": {},
   "source": [
    "---"
   ]
  },
  {
   "attachments": {},
   "cell_type": "markdown",
   "metadata": {},
   "source": [
    "### $\\begin{aligned}\\{r^n\\}\\end{aligned}$"
   ]
  },
  {
   "attachments": {},
   "cell_type": "markdown",
   "metadata": {},
   "source": [
    "The sequence\n",
    "\n",
    "$\n",
    "\\begin{aligned}\n",
    "\\{r^n\\}\n",
    "\\end{aligned}\n",
    "$\n",
    "\n",
    "converges if $-1\\lt r\\le1$ and diverges otherwise.\n",
    "\n",
    "$\n",
    "\\begin{aligned}\n",
    "\\lim_{n\\to\\infty}\\{r^n\\}=\n",
    "\\begin{cases}\n",
    "\\infty\n",
    "&\\text{if}\\,\\,\\,\n",
    "r\\gt1\n",
    "\\\\\n",
    "1\n",
    "&\\text{if}\\,\\,\\,\n",
    "r=1\n",
    "\\\\\n",
    "0\n",
    "&\\text{if}\\,\\,\\,\n",
    "-1\\lt r\\lt1\n",
    "\\\\\n",
    "\\text{DNE}\n",
    "&\\text{if}\\,\\,\\,\n",
    "r\\le-1\n",
    "\\end{cases}\n",
    "\\end{aligned}\n",
    "$"
   ]
  },
  {
   "attachments": {},
   "cell_type": "markdown",
   "metadata": {},
   "source": [
    "---"
   ]
  },
  {
   "attachments": {},
   "cell_type": "markdown",
   "metadata": {},
   "source": [
    "#### $r=-1$"
   ]
  },
  {
   "attachments": {},
   "cell_type": "markdown",
   "metadata": {},
   "source": [
    "$\n",
    "\\begin{aligned}\n",
    "\\{(-1)^n\\}_{n=1}^\\infty\n",
    "=\\{-1,1,-1,1,-1,1,...,(-1)^n,...\\}\n",
    "\\end{aligned}\n",
    "$\n",
    "\n",
    "divergent\n",
    "\n",
    "$\n",
    "\\begin{aligned}\n",
    "\\lim_{n\\to\\infty}(-1)^n=\\text{DNE}\n",
    "\\end{aligned}\n",
    "$\n",
    "\n",
    "bounded\n",
    "\n",
    "$\n",
    "-1\\le(-1)^n\\le1\n",
    "\\,\\,\\,\\forall n\\ge1\n",
    "$"
   ]
  },
  {
   "cell_type": "code",
   "execution_count": 2,
   "metadata": {
    "tags": [
     "hide-input"
    ]
   },
   "outputs": [
    {
     "data": {
      "image/png": "[encoded data removed]",
      "text/plain": [
       "<Figure size 400x600 with 2 Axes>"
      ]
     },
     "metadata": {},
     "output_type": "display_data"
    }
   ],
   "source": [
    "def seq ():\n",
    "  n=1\n",
    "  while True:\n",
    "    yield (-1)**n\n",
    "    n+=1\n",
    "s=seq()\n",
    "x,y=[range(-9,50)],[next(s) for _ in range(-9,50)]\n",
    "\n",
    "fig,(ax1,ax2)=plt.subplots(2,1,figsize=(4,6),height_ratios=[1,4]);\n",
    "\n",
    "ax1.scatter(y, np.zeros(59), c=x, cmap='plasma', s=10);\n",
    "ax1.set_xlim(-1.1,1.1);\n",
    "ax1.set_xlabel('$a_n$');\n",
    "ax1.set_yticks([]);\n",
    "ax1.set_ylim(-1,1);\n",
    "\n",
    "ax2.set_xlim(0,50);\n",
    "ax2.set_xlabel('$n$');\n",
    "ax2.set_ylim(-1.1,1.1);\n",
    "ax2.set_ylabel('$a_n$');\n",
    "ax2.scatter(x, y, c=x, cmap='plasma', s=10);"
   ]
  },
  {
   "attachments": {},
   "cell_type": "markdown",
   "metadata": {},
   "source": [
    "---"
   ]
  },
  {
   "attachments": {},
   "cell_type": "markdown",
   "metadata": {},
   "source": [
    "#### $r=-2$"
   ]
  },
  {
   "attachments": {},
   "cell_type": "markdown",
   "metadata": {},
   "source": [
    "$\n",
    "\\begin{aligned}\n",
    "\\{(-2)^n\\}_{n=1}^\\infty\n",
    "=\\{-2,4,-8,16,-32,64,...,(-2)^n,...\\}\n",
    "\\end{aligned}\n",
    "$\n",
    "\n",
    "divergent\n",
    "\n",
    "$\n",
    "\\begin{aligned}\n",
    "\\lim_{n\\to\\infty}(-2)^n=\\text{DNE}\n",
    "\\end{aligned}\n",
    "$\n",
    "\n",
    "unbounded"
   ]
  },
  {
   "cell_type": "code",
   "execution_count": null,
   "metadata": {
    "tags": [
     "hide-input"
    ]
   },
   "outputs": [
    {
     "data": {
      "image/png": "[encoded data removed]",
      "text/plain": [
       "<Figure size 400x600 with 2 Axes>"
      ]
     },
     "metadata": {},
     "output_type": "display_data"
    }
   ],
   "source": [
    "def seq ():\n",
    "  n=1\n",
    "  while True:\n",
    "    yield (-2)**n\n",
    "    n+=1\n",
    "s=seq()\n",
    "x,y=[range(0,50)],[next(s) for _ in range(0,50)]\n",
    "\n",
    "fig,(ax1,ax2)=plt.subplots(2,1,figsize=(4,6),height_ratios=[1,4]);\n",
    "\n",
    "ax1.scatter(y, np.zeros(50), c=x, cmap='plasma', s=10);\n",
    "ax1.set_xscale('symlog');\n",
    "ax1.set_xlim(-1e20,1e20);\n",
    "ax1.set_xlabel('$a_n$');\n",
    "ax1.set_yticks([]);\n",
    "ax1.set_ylim(-1,1);\n",
    "\n",
    "ax2.set_xlim(-1,50);\n",
    "ax2.set_xlabel('$n$');\n",
    "ax2.set_yscale('symlog');\n",
    "ax2.set_ylim(-1e20,1e20);\n",
    "ax2.set_ylabel('$a_n$');\n",
    "ax2.scatter(x, y, c=x, cmap='plasma', s=10);"
   ]
  },
  {
   "attachments": {},
   "cell_type": "markdown",
   "metadata": {},
   "source": [
    "---"
   ]
  },
  {
   "attachments": {},
   "cell_type": "markdown",
   "metadata": {},
   "source": [
    "### Boundedness of Sequences"
   ]
  },
  {
   "attachments": {},
   "cell_type": "markdown",
   "metadata": {},
   "source": [
    "A sequence $\\{a_n\\}$ is bounded above if there is a number $M$ such that $a_n\\le M$ for all $n\\ge1$.\n",
    "\n",
    "A sequence $\\{a_n\\}$ is bounded below if there is a number $m$ such that $m\\le a_n$ for all $n\\ge1$.\n",
    "\n",
    "If it is bounded above and below, then $\\{a_n\\}$ is a bounded sequence."
   ]
  },
  {
   "attachments": {},
   "cell_type": "markdown",
   "metadata": {},
   "source": [
    "---"
   ]
  },
  {
   "attachments": {},
   "cell_type": "markdown",
   "metadata": {},
   "source": [
    "### Completeness Axiom for the set of real numbers $\\mathbb{R}$"
   ]
  },
  {
   "attachments": {},
   "cell_type": "markdown",
   "metadata": {},
   "source": [
    "If $S$ is a nonempty set of real numbers that has an upper bound $M$ such that\n",
    "\n",
    "$x\\le M\\,\\,\\,\\forall x\\in S$\n",
    "\n",
    "then $S$ has a least upper bound $b$.\n",
    "\n",
    "This means that $b$ is an upper bound for $S$, but if $M$ is any other upper bound, then $b\\le M$.\n",
    "\n",
    "If $S$ is a nonempty set of real numbers that has a lower bound $m$ such that\n",
    "\n",
    "$m\\le x\\,\\,\\,\\forall x\\in S$\n",
    "\n",
    "then $S$ has a greatest lower bound $B$.\n",
    "\n",
    "This means that $B$ is a lower bound for $S$, but if $m$ is any other lower bound, then $B\\ge m$.\n",
    "\n",
    "In other words, there is no gap or hole in the real number line."
   ]
  },
  {
   "attachments": {},
   "cell_type": "markdown",
   "metadata": {},
   "source": [
    "---"
   ]
  },
  {
   "attachments": {},
   "cell_type": "markdown",
   "metadata": {},
   "source": [
    "### Monotonic Sequence Theorem"
   ]
  },
  {
   "attachments": {},
   "cell_type": "markdown",
   "metadata": {},
   "source": [
    "Not every bounded sequence is convergent.\n",
    "\n",
    "Not every monotonic sequence is convergent.\n",
    "\n",
    "Monotonic Sequence Theorem: Every bounded, monotonic sequence is convergent.\n",
    "\n",
    "(Any increasing sequence that is bounded above is convergent; and decreasing sequence that is bounded below is convergent.)\n",
    "\n",
    "PROOF\n",
    "\n",
    "Let $\\{a_n\\}$ be an increasing sequence.\n",
    "\n",
    "Since $\\{a_n\\}$ is bounded, the set $S=\\{a_n\\mid n\\ge1\\}$ has an upper bound; and by the Completeness Axiom, it has a least upper bound $L$.\n",
    "\n",
    "Given $\\varepsilon\\gt0$, $L-\\varepsilon$ is not an upper bound for $S$ since $L$ is the least upper bound.\n",
    "\n",
    "Thus, $a_N\\gt L-\\varepsilon$ for some integer $N$.\n",
    "\n",
    "But the sequence is increasing, so $a_n\\ge a_N$ for every $n\\gt N$.\n",
    "\n",
    "Thus, if $n\\gt N$, then $a_n\\gt L-\\varepsilon$, so $0\\le L-a_n\\le\\varepsilon$ since $a_n\\le L$.\n",
    "\n",
    "Thus, $|L-a_n|\\lt\\varepsilon$ when $n\\gt N$.\n",
    "\n",
    "Therefore, $\\begin{aligned}\\lim_{n\\to\\infty}a_n=L\\end{aligned}$\n",
    "\n",
    "$\\blacksquare$"
   ]
  },
  {
   "attachments": {},
   "cell_type": "markdown",
   "metadata": {},
   "source": [
    "---"
   ]
  },
  {
   "attachments": {},
   "cell_type": "markdown",
   "metadata": {},
   "source": [
    "### Examples of Sequences"
   ]
  },
  {
   "attachments": {},
   "cell_type": "markdown",
   "metadata": {},
   "source": [
    "---"
   ]
  },
  {
   "attachments": {},
   "cell_type": "markdown",
   "metadata": {},
   "source": [
    "#### $\\{n\\}_{n=1}^\\infty$"
   ]
  },
  {
   "attachments": {},
   "cell_type": "markdown",
   "metadata": {},
   "source": [
    "$\n",
    "\\{n\\}_{n=1}^\\infty\n",
    "=\\{1,2,3,4,5,...,n,...\\}\n",
    "$\n",
    "\n",
    "divergent to infinity\n",
    "\n",
    "$\n",
    "\\begin{aligned}\n",
    "\\lim_{n\\to\\infty}n=\\infty\n",
    "\\end{aligned}\n",
    "$\n",
    "\n",
    "monotonically increasing\n",
    "\n",
    "$\n",
    "(n+1)=a_{n+1}\\gt a_n=n\n",
    "$\n",
    "\n",
    "bounded from below\n",
    "\n",
    "$\n",
    "1\\le a_{n}\n",
    "\\,\\,\\,\\forall n\\ge1\n",
    "$"
   ]
  },
  {
   "cell_type": "code",
   "execution_count": 74,
   "metadata": {
    "tags": [
     "hide-input"
    ]
   },
   "outputs": [
    {
     "data": {
      "image/png": "[encoded data removed]",
      "text/plain": [
       "<Figure size 400x600 with 2 Axes>"
      ]
     },
     "metadata": {},
     "output_type": "display_data"
    }
   ],
   "source": [
    "def seq ():\n",
    "  n=1\n",
    "  while True:\n",
    "    yield n\n",
    "    n+=1\n",
    "s=seq()\n",
    "x,y=[range(50)],[next(s) for _ in range(50)]\n",
    "\n",
    "fig,(ax1,ax2)=plt.subplots(2,1,figsize=(4,6),height_ratios=[1,4]);\n",
    "\n",
    "ax1.scatter(y, np.zeros(50), c=x, cmap='plasma', s=10);\n",
    "ax1.set_xlim(0,51);\n",
    "ax1.set_xlabel('$a_n$');\n",
    "ax1.set_yticks([]);\n",
    "ax1.set_ylim(-1,1);\n",
    "\n",
    "ax2.set_xlim(-1,50);\n",
    "ax2.set_xlabel('$n$');\n",
    "ax2.set_ylim(0,51);\n",
    "ax2.set_ylabel('$a_n$');\n",
    "ax2.scatter(x, y, c=x, cmap='plasma', s=10);"
   ]
  },
  {
   "attachments": {},
   "cell_type": "markdown",
   "metadata": {},
   "source": [
    "---"
   ]
  },
  {
   "attachments": {},
   "cell_type": "markdown",
   "metadata": {},
   "source": [
    "#### $\\begin{aligned}\\left\\{\\frac{n}{n+1}\\right\\}_{n=1}^\\infty\\end{aligned}$"
   ]
  },
  {
   "attachments": {},
   "cell_type": "markdown",
   "metadata": {},
   "source": [
    "$\n",
    "\\begin{aligned}\n",
    "\\left\\{\\frac{n}{n+1}\\right\\}_{n=1}^\\infty\n",
    "=\\left\\{\\frac{1}{2},\\frac{2}{3},\\frac{3}{4},\\frac{4}{5},\\frac{5}{6},...,\\frac{n}{n+1},...\\right\\}\n",
    "\\end{aligned}\n",
    "$\n",
    "\n",
    "convergent\n",
    "\n",
    "$\n",
    "\\begin{aligned}\n",
    "\\lim_{n\\to\\infty}\\frac{n}{n+1}\n",
    "=\\lim_{n\\to\\infty}\\frac{1}{1+\\frac{1}{n}}\n",
    "=\\frac{\\begin{aligned}\\lim_{n\\to\\infty}1\\end{aligned}}{\\begin{aligned}\\lim_{n\\to\\infty}1+\\lim_{n\\to\\infty}\\frac{1}{n}\\end{aligned}}\n",
    "=\\frac{1}{1+0}\n",
    "=1\n",
    "\\end{aligned}\n",
    "$\n",
    "\n",
    "monotonically increasing\n",
    "\n",
    "$\n",
    "\\begin{aligned}\n",
    "\\frac{n}{n+1}=a_n\\lt a_{n+1}=\\frac{(n+1)}{(n+1)+1}=\\frac{n+1}{n+2}\n",
    "\\end{aligned}\n",
    "$\n",
    "\n",
    "bounded\n",
    "\n",
    "$\n",
    "\\begin{aligned}\n",
    "\\frac{1}{2}\\le\\frac{n}{n+1}\\le1\n",
    "\\,\\,\\,\\forall n\\ge1\n",
    "\\end{aligned}\n",
    "$"
   ]
  },
  {
   "cell_type": "code",
   "execution_count": 119,
   "metadata": {
    "tags": [
     "hide-input"
    ]
   },
   "outputs": [
    {
     "data": {
      "image/png": "[encoded data removed]",
      "text/plain": [
       "<Figure size 400x600 with 2 Axes>"
      ]
     },
     "metadata": {},
     "output_type": "display_data"
    }
   ],
   "source": [
    "def seq ():\n",
    "  n=1\n",
    "  while True:\n",
    "    yield n/(n+1)\n",
    "    n+=1\n",
    "s=seq()\n",
    "x,y=[range(50)],[next(s) for _ in range(50)]\n",
    "\n",
    "fig,(ax1,ax2)=plt.subplots(2,1,figsize=(4,6),height_ratios=[1,4]);\n",
    "\n",
    "ax1.scatter(y, np.zeros(50), c=x, cmap='plasma', s=10);\n",
    "ax1.set_xlim(0.4, 1);\n",
    "ax1.set_xlabel('$a_n$');\n",
    "ax1.set_yticks([]);\n",
    "ax1.set_ylim(-1,1);\n",
    "\n",
    "ax2.set_xlim(-1 ,50);\n",
    "ax2.set_xlabel('$n$');\n",
    "ax2.set_ylim(0.4, 1);\n",
    "ax2.set_ylabel('$a_n$');\n",
    "ax2.scatter(x, y, c=x, cmap='plasma', s=10);\n",
    "\n",
    "fig.suptitle('$\\\\left\\\\{\\\\frac{n}{n+1}\\\\right\\\\}_{n=1}^{50}$');"
   ]
  },
  {
   "attachments": {},
   "cell_type": "markdown",
   "metadata": {},
   "source": [
    "---"
   ]
  },
  {
   "attachments": {},
   "cell_type": "markdown",
   "metadata": {},
   "source": [
    "#### $\\begin{aligned}\\left\\{\\frac{(-1)^n(n+1)}{3^n}\\right\\}_{n=1}^\\infty\\end{aligned}$"
   ]
  },
  {
   "attachments": {},
   "cell_type": "markdown",
   "metadata": {},
   "source": [
    "$\n",
    "\\begin{aligned}\n",
    "\\left\\{\\frac{(-1)^n(n+1)}{3^n}\\right\\}_{n=1}^\\infty\n",
    "=\\left\\{-\\frac{2}{3},\\frac{3}{9},-\\frac{4}{27},\\frac{5}{81},...,\\frac{(-1)^n(n+1)}{3^n},...\\right\\}\n",
    "\\end{aligned}\n",
    "$"
   ]
  },
  {
   "cell_type": "code",
   "execution_count": 120,
   "metadata": {
    "tags": [
     "hide-input"
    ]
   },
   "outputs": [
    {
     "data": {
      "image/png": "[encoded data removed]",
      "text/plain": [
       "<Figure size 400x600 with 2 Axes>"
      ]
     },
     "metadata": {},
     "output_type": "display_data"
    }
   ],
   "source": [
    "def seq ():\n",
    "  n=1\n",
    "  while True:\n",
    "    yield (-1)**n*(n+1)/3**n\n",
    "    n+=1\n",
    "s=seq()\n",
    "x,y=[range(50)],[next(s) for _ in range(50)]\n",
    "\n",
    "fig,(ax1,ax2)=plt.subplots(2,1,figsize=(4,6),height_ratios=[1,4]);\n",
    "\n",
    "ax1.scatter(y, np.zeros(50), c=x, cmap='plasma', s=10);\n",
    "ax1.set_xlim(-0.75, 0.5);\n",
    "ax1.set_xlabel('$a_n$');\n",
    "ax1.set_yticks([]);\n",
    "ax1.set_ylim(-1,1);\n",
    "\n",
    "ax2.set_xlim(-6 ,50);\n",
    "ax2.set_xlabel('$n$');\n",
    "ax2.set_ylim(-0.75, 0.5);\n",
    "ax2.set_ylabel('$a_n$');\n",
    "ax2.scatter(x, y, c=x, cmap='plasma', s=10);\n",
    "\n",
    "fig.suptitle('$\\\\left\\\\{\\\\frac{(-1)^n(n+1)}{3^n}\\\\right\\\\}_{n=1}^{50}$');"
   ]
  },
  {
   "attachments": {},
   "cell_type": "markdown",
   "metadata": {},
   "source": [
    "---"
   ]
  },
  {
   "attachments": {},
   "cell_type": "markdown",
   "metadata": {},
   "source": [
    "#### $\\begin{aligned}\\{\\sqrt{n-3}\\}_{n=3}^\\infty\\end{aligned}$"
   ]
  },
  {
   "attachments": {},
   "cell_type": "markdown",
   "metadata": {},
   "source": [
    "$\n",
    "\\begin{aligned}\n",
    "\\{\\sqrt{n-3}\\}_{n=3}^\\infty\n",
    "=\\left\\{0,1,\\sqrt{2},\\sqrt{3},...,\\sqrt{n-3},...\\right\\}\n",
    "\\end{aligned}\n",
    "$"
   ]
  },
  {
   "cell_type": "code",
   "execution_count": 118,
   "metadata": {
    "tags": [
     "hide-input"
    ]
   },
   "outputs": [
    {
     "data": {
      "image/png": "[encoded data removed]",
      "text/plain": [
       "<Figure size 400x600 with 2 Axes>"
      ]
     },
     "metadata": {},
     "output_type": "display_data"
    }
   ],
   "source": [
    "def seq ():\n",
    "  n=3\n",
    "  while True:\n",
    "    yield np.sqrt(n-3)\n",
    "    n+=1\n",
    "s=seq()\n",
    "x,y=[range(50)],[next(s) for _ in range(50)]\n",
    "\n",
    "fig,(ax1,ax2)=plt.subplots(2,1,figsize=(4,6),height_ratios=[1,4]);\n",
    "\n",
    "ax1.scatter(y, np.zeros(50), c=x, cmap='plasma', s=10);\n",
    "ax1.set_xlim(-1,8);\n",
    "ax1.set_xlabel('$a_n$');\n",
    "ax1.set_yticks([]);\n",
    "ax1.set_ylim(-1,1);\n",
    "\n",
    "ax2.set_xlim(-1,50);\n",
    "ax2.set_xlabel('$n$');\n",
    "ax2.set_ylim(-1,8);\n",
    "ax2.set_ylabel('$a_n$');\n",
    "ax2.scatter(x, y, c=x, cmap='plasma', s=10);\n",
    "\n",
    "fig.suptitle('$\\\\{\\\\sqrt{n-3}\\\\}_{n=3}^{50}$');"
   ]
  },
  {
   "attachments": {},
   "cell_type": "markdown",
   "metadata": {},
   "source": [
    "---"
   ]
  },
  {
   "attachments": {},
   "cell_type": "markdown",
   "metadata": {},
   "source": [
    "#### $\\begin{aligned}\\left\\{\\cos\\left(\\frac{n\\pi}{6}\\right)\\right\\}_{n=0}^\\infty\\end{aligned}$"
   ]
  },
  {
   "attachments": {},
   "cell_type": "markdown",
   "metadata": {},
   "source": [
    "$\n",
    "\\begin{aligned}\n",
    "\\left\\{\\cos\\left(\\frac{n\\pi}{6}\\right)\\right\\}_{n=0}^\\infty\n",
    "=\\left\\{1,\\frac{\\sqrt{3}}{2},\\frac{1}{2},0,...,\\cos\\left(\\frac{n\\pi}{6}\\right),...\\right\\}\n",
    "\\end{aligned}\n",
    "$"
   ]
  },
  {
   "cell_type": "code",
   "execution_count": 121,
   "metadata": {
    "tags": [
     "hide-input"
    ]
   },
   "outputs": [
    {
     "data": {
      "image/png": "[encoded data removed]",
      "text/plain": [
       "<Figure size 400x600 with 2 Axes>"
      ]
     },
     "metadata": {},
     "output_type": "display_data"
    }
   ],
   "source": [
    "def seq ():\n",
    "  n=0\n",
    "  while True:\n",
    "    yield np.cos(n*np.pi/6)\n",
    "    n+=1\n",
    "s=seq()\n",
    "x,y=[range(50)],[next(s) for _ in range(50)]\n",
    "\n",
    "fig,(ax1,ax2)=plt.subplots(2,1,figsize=(4,6),height_ratios=[1,4]);\n",
    "\n",
    "ax1.scatter(y, np.zeros(50), c=x, cmap='plasma', s=10);\n",
    "ax1.set_xlim(-1.5,1.5);\n",
    "ax1.set_xlabel('$a_n$');\n",
    "ax1.set_yticks([]);\n",
    "ax1.set_ylim(-1,1);\n",
    "\n",
    "ax2.set_xlim(-1,50);\n",
    "ax2.set_xlabel('$n$');\n",
    "ax2.set_ylim(-1.5,1.5);\n",
    "ax2.set_ylabel('$a_n$');\n",
    "ax2.scatter(x, y, c=x, cmap='plasma', s=10);\n",
    "\n",
    "fig.suptitle('$\\\\left\\\\{\\\\cos\\\\left(\\\\frac{n\\\\pi}{6}\\\\right)\\\\right\\\\}_{n=0}^{50}$');"
   ]
  },
  {
   "attachments": {},
   "cell_type": "markdown",
   "metadata": {},
   "source": [
    "---"
   ]
  },
  {
   "attachments": {},
   "cell_type": "markdown",
   "metadata": {},
   "source": [
    "#### $\\begin{aligned}\\left\\{(-1)^{n-1}\\frac{n+2}{5^n}\\right\\}_{n=1}^\\infty\\end{aligned}$"
   ]
  },
  {
   "attachments": {},
   "cell_type": "markdown",
   "metadata": {},
   "source": [
    "$\n",
    "\\begin{aligned}\n",
    "\\left\\{(-1)^{n-1}\\frac{n+2}{5^n}\\right\\}_{n=1}^\\infty\n",
    "=\\left\\{\\frac{3}{5},-\\frac{4}{25},\\frac{5}{125},-\\frac{6}{625},...,(-1)^{n-1}\\frac{n+2}{5^n},...\\right\\}\n",
    "\\end{aligned}\n",
    "$"
   ]
  },
  {
   "cell_type": "code",
   "execution_count": 67,
   "metadata": {
    "tags": [
     "hide-input"
    ]
   },
   "outputs": [
    {
     "data": {
      "image/png": "[encoded data removed]",
      "text/plain": [
       "<Figure size 400x600 with 2 Axes>"
      ]
     },
     "metadata": {},
     "output_type": "display_data"
    }
   ],
   "source": [
    "def seq ():\n",
    "  n=1\n",
    "  while True:\n",
    "    yield (-1)**(n-1)*((n+2)/5**n)\n",
    "    n+=1\n",
    "s=seq()\n",
    "x,y=[range(50)],[next(s) for _ in range(50)]\n",
    "\n",
    "fig,(ax1,ax2)=plt.subplots(2,1,figsize=(4,6),height_ratios=[1,4]);\n",
    "\n",
    "ax1.scatter(y, np.zeros(50), c=x, cmap='plasma', s=10);\n",
    "ax1.set_xlim(-0.2, 0.61);\n",
    "ax1.set_xlabel('$a_n$');\n",
    "ax1.set_yticks([]);\n",
    "ax1.set_ylim(-1,1);\n",
    "\n",
    "ax2.set_xlim(-1,50);\n",
    "ax2.set_xlabel('$n$');\n",
    "ax2.set_ylim(-0.2, 0.61);\n",
    "ax2.set_ylabel('$a_n$');\n",
    "ax2.scatter(x, y, c=x, cmap='plasma', s=10);\n",
    "\n",
    "fig.suptitle('$\\\\left\\\\{(-1)^{n-1}\\\\frac{n+2}{5^n}\\\\right\\\\}_{n=1}^{50}$');"
   ]
  },
  {
   "attachments": {},
   "cell_type": "markdown",
   "metadata": {},
   "source": [
    "---"
   ]
  },
  {
   "attachments": {},
   "cell_type": "markdown",
   "metadata": {},
   "source": [
    "#### $\\begin{aligned}\\left\\{\\frac{n}{\\sqrt{10+n}}\\right\\}_{n=-9}^\\infty\\end{aligned}$"
   ]
  },
  {
   "attachments": {},
   "cell_type": "markdown",
   "metadata": {},
   "source": [
    "$\n",
    "\\begin{aligned}\n",
    "\\left\\{\\frac{n}{\\sqrt{10+n}}\\right\\}_{n=-9}^\\infty\n",
    "\\end{aligned}\n",
    "$\n",
    "\n",
    "divergent to infinity\n",
    "\n",
    "$\n",
    "\\begin{aligned}\n",
    "\\lim_{n\\to\\infty}\\frac{n}{\\sqrt{10+n}}\n",
    "=\\lim_{n\\to\\infty}\\frac{\\frac{1}{n}n}{\\frac{1}{n}\\sqrt{10+n}}\n",
    "=\\lim_{n\\to\\infty}\\frac{1}{\\sqrt{\\frac{10}{n^2}+\\frac{1}{n}}}\n",
    "=\\infty\n",
    "\\end{aligned}\n",
    "$"
   ]
  },
  {
   "cell_type": "code",
   "execution_count": 160,
   "metadata": {
    "tags": [
     "hide-input"
    ]
   },
   "outputs": [
    {
     "data": {
      "image/png": "[encoded data removed]",
      "text/plain": [
       "<Figure size 400x600 with 2 Axes>"
      ]
     },
     "metadata": {},
     "output_type": "display_data"
    }
   ],
   "source": [
    "def seq ():\n",
    "  n=-9\n",
    "  while True:\n",
    "    yield n/np.sqrt(10+n)\n",
    "    n+=1\n",
    "s=seq()\n",
    "x,y=[range(-9,50)],[next(s) for _ in range(-9,50)]\n",
    "\n",
    "fig,(ax1,ax2)=plt.subplots(2,1,figsize=(4,6),height_ratios=[1,4]);\n",
    "\n",
    "ax1.scatter(y, np.zeros(59), c=x, cmap='plasma', s=10);\n",
    "ax1.set_xlim(-10,7);\n",
    "ax1.set_xlabel('$a_n$');\n",
    "ax1.set_yticks([]);\n",
    "ax1.set_ylim(-1,1);\n",
    "\n",
    "ax2.set_xlim(-10,50);\n",
    "ax2.set_xlabel('$n$');\n",
    "ax2.set_ylim(-10,7);\n",
    "ax2.set_ylabel('$a_n$');\n",
    "ax2.scatter(x, y, c=x, cmap='plasma', s=10);"
   ]
  },
  {
   "attachments": {},
   "cell_type": "markdown",
   "metadata": {},
   "source": [
    "---"
   ]
  },
  {
   "attachments": {},
   "cell_type": "markdown",
   "metadata": {},
   "source": [
    "#### $\\begin{aligned}\\left\\{\\frac{\\ln n}{n}\\right\\}_{n=1}^\\infty\\end{aligned}$"
   ]
  },
  {
   "attachments": {},
   "cell_type": "markdown",
   "metadata": {},
   "source": [
    "$\n",
    "\\begin{aligned}\n",
    "\\left\\{\\frac{\\ln n}{n}\\right\\}_{n=1}^\\infty\n",
    "\\end{aligned}\n",
    "$\n",
    "\n",
    "convergent\n",
    "\n",
    "$\n",
    "\\begin{aligned}\n",
    "&f(x)=\\frac{\\ln x}{x}\n",
    "\\\\\n",
    "&\\lim_{x\\to\\infty}\\frac{\\ln x}{x}\n",
    "=\\lim_{x\\to\\infty}\\frac{\\frac{1}{x}}{1}\n",
    "\\,\\,\\,\\text{by L'Hospital's Rule}\n",
    "=\\frac{\\begin{aligned}\\lim_{x\\to\\infty}\\frac{1}{x}\\end{aligned}}{\\begin{aligned}\\lim_{x\\to\\infty}1\\end{aligned}}\n",
    "=\\frac{0}{1}\n",
    "=0\n",
    "\\\\\n",
    "&\\lim_{x\\to\\infty}\\frac{\\ln x}{x}=0\n",
    "\\implies\n",
    "\\lim_{n\\to\\infty}\\frac{\\ln n}{n}=0\n",
    "\\,\\,\\,\\text{by theorem}\n",
    "\\end{aligned}\n",
    "$"
   ]
  },
  {
   "cell_type": "code",
   "execution_count": 66,
   "metadata": {
    "tags": [
     "hide-input"
    ]
   },
   "outputs": [
    {
     "data": {
      "image/png": "[encoded data removed]",
      "text/plain": [
       "<Figure size 400x600 with 2 Axes>"
      ]
     },
     "metadata": {},
     "output_type": "display_data"
    }
   ],
   "source": [
    "def seq ():\n",
    "  n=1\n",
    "  while True:\n",
    "    yield np.log(n)/n\n",
    "    n+=1\n",
    "s=seq()\n",
    "x,y=[range(0,50)],[next(s) for _ in range(0,50)]\n",
    "\n",
    "fig,(ax1,ax2)=plt.subplots(2,1,figsize=(4,6),height_ratios=[1,4]);\n",
    "\n",
    "ax1.scatter(y, np.zeros(50), c=x, cmap='plasma', s=10);\n",
    "ax1.set_xlim(-0.01,0.4);\n",
    "ax1.set_xlabel('$a_n$');\n",
    "ax1.set_yticks([]);\n",
    "ax1.set_ylim(-1,1);\n",
    "\n",
    "ax2.set_xlim(-1,50);\n",
    "ax2.set_xlabel('$n$');\n",
    "ax2.set_ylim(-0.01,0.4);\n",
    "ax2.set_ylabel('$a_n$');\n",
    "ax2.scatter(x, y, c=x, cmap='plasma', s=10);"
   ]
  },
  {
   "attachments": {},
   "cell_type": "markdown",
   "metadata": {},
   "source": [
    "---"
   ]
  },
  {
   "attachments": {},
   "cell_type": "markdown",
   "metadata": {},
   "source": [
    "#### $\\begin{aligned}\\left\\{\\frac{(-1)^n}{n}\\right\\}_{n=1}^\\infty\\end{aligned}$"
   ]
  },
  {
   "attachments": {},
   "cell_type": "markdown",
   "metadata": {},
   "source": [
    "$\n",
    "\\begin{aligned}\n",
    "\\left\\{\\frac{(-1)^n}{n}\\right\\}_{n=1}^\\infty\n",
    "=\\left\\{-1,\\frac{1}{2},-\\frac{1}{3},\\frac{1}{4},-\\frac{1}{5},\\frac{1}{6},...,\\frac{(-1)^n}{n},...\\right\\}\n",
    "\\end{aligned}\n",
    "$\n",
    "\n",
    "convergent\n",
    "\n",
    "$\n",
    "\\begin{aligned}\n",
    "&\\lim_{n\\to\\infty}\\left|\\frac{(-1)^n}{n}\\right|\n",
    "=\\lim_{n\\to\\infty}\\frac{1}{n}\n",
    "=0\n",
    "\\\\\n",
    "&\\lim_{n\\to\\infty}\\left|\\frac{(-1)^n}{n}\\right|=0\n",
    "\\implies\n",
    "\\lim_{n\\to\\infty}\\frac{(-1)^n}{n}=0\n",
    "\\,\\,\\,\\text{by theorem}\n",
    "\\end{aligned}\n",
    "$"
   ]
  },
  {
   "cell_type": "code",
   "execution_count": 64,
   "metadata": {
    "tags": [
     "hide-input"
    ]
   },
   "outputs": [
    {
     "data": {
      "image/png": "[encoded data removed]",
      "text/plain": [
       "<Figure size 400x600 with 2 Axes>"
      ]
     },
     "metadata": {},
     "output_type": "display_data"
    }
   ],
   "source": [
    "def seq ():\n",
    "  n=1\n",
    "  while True:\n",
    "    yield (-1)**n/n\n",
    "    n+=1\n",
    "s=seq()\n",
    "x,y=[range(0,50)],[next(s) for _ in range(0,50)]\n",
    "\n",
    "fig,(ax1,ax2)=plt.subplots(2,1,figsize=(4,6),height_ratios=[1,4]);\n",
    "\n",
    "ax1.scatter(y, np.zeros(50), c=x, cmap='plasma', s=10);\n",
    "ax1.set_xlim(-1.1,1.1);\n",
    "ax1.set_xlabel('$a_n$');\n",
    "ax1.set_yticks([]);\n",
    "ax1.set_ylim(-1,1);\n",
    "\n",
    "ax2.set_xlim(-1,50);\n",
    "ax2.set_xlabel('$n$');\n",
    "ax2.set_ylim(-1.1,1.1);\n",
    "ax2.set_ylabel('$a_n$');\n",
    "ax2.scatter(x, y, c=x, cmap='plasma', s=10);"
   ]
  },
  {
   "attachments": {},
   "cell_type": "markdown",
   "metadata": {},
   "source": [
    "---"
   ]
  },
  {
   "attachments": {},
   "cell_type": "markdown",
   "metadata": {},
   "source": [
    "#### $\\begin{aligned}\\left\\{\\sin\\left(\\frac{\\pi}{n}\\right)\\right\\}_{n=1}^\\infty\\end{aligned}$"
   ]
  },
  {
   "attachments": {},
   "cell_type": "markdown",
   "metadata": {},
   "source": [
    "$\n",
    "\\begin{aligned}\n",
    "\\left\\{\\sin\\left(\\frac{\\pi}{n}\\right)\\right\\}_{n=1}^\\infty\n",
    "\\end{aligned}\n",
    "$\n",
    "\n",
    "convergent\n",
    "\n",
    "$\n",
    "\\begin{aligned}\n",
    "\\lim_{n\\to\\infty}\\sin\\left(\\frac{\\pi}{n}\\right)\n",
    "=\\sin\\left(\\pi\\lim_{n\\to\\infty}\\frac{1}{n}\\right)\n",
    "\\,\\,\\,\\text{by theorem}\n",
    "=\\sin(0)\n",
    "=0\n",
    "\\end{aligned}\n",
    "$"
   ]
  },
  {
   "cell_type": "code",
   "execution_count": 63,
   "metadata": {
    "tags": [
     "hide-input"
    ]
   },
   "outputs": [
    {
     "data": {
      "image/png": "[encoded data removed]",
      "text/plain": [
       "<Figure size 400x600 with 2 Axes>"
      ]
     },
     "metadata": {},
     "output_type": "display_data"
    }
   ],
   "source": [
    "def seq ():\n",
    "  n=1\n",
    "  while True:\n",
    "    yield np.sin(np.pi/n)\n",
    "    n+=1\n",
    "s=seq()\n",
    "x,y=[range(0,50)],[next(s) for _ in range(0,50)]\n",
    "\n",
    "fig,(ax1,ax2)=plt.subplots(2,1,figsize=(4,6),height_ratios=[1,4]);\n",
    "\n",
    "ax1.scatter(y, np.zeros(50), c=x, cmap='plasma', s=10);\n",
    "ax1.set_xlim(-0.1,1.1);\n",
    "ax1.set_xlabel('$a_n$');\n",
    "ax1.set_yticks([]);\n",
    "ax1.set_ylim(-1,1);\n",
    "\n",
    "ax2.set_xlim(-1,50);\n",
    "ax2.set_xlabel('$n$');\n",
    "ax2.set_ylim(-0.1,1.1);\n",
    "ax2.set_ylabel('$a_n$');\n",
    "ax2.scatter(x, y, c=x, cmap='plasma', s=10);"
   ]
  },
  {
   "attachments": {},
   "cell_type": "markdown",
   "metadata": {},
   "source": [
    "---"
   ]
  },
  {
   "attachments": {},
   "cell_type": "markdown",
   "metadata": {},
   "source": [
    "#### $\\begin{aligned}\\left\\{\\frac{n!}{n^n}\\right\\}_{n=1}^\\infty\\end{aligned}$"
   ]
  },
  {
   "attachments": {},
   "cell_type": "markdown",
   "metadata": {},
   "source": [
    "$\n",
    "\\begin{aligned}\n",
    "\\left\\{\\frac{n!}{n^n}\\right\\}_{n=1}^\\infty\n",
    "\\end{aligned}\n",
    "$\n",
    "\n",
    "convergent\n",
    "\n",
    "$\n",
    "\\begin{aligned}\n",
    "&0\\lt a_n\n",
    "=\\frac{n!}{n^n}\n",
    "=\\frac{1\\cdot2\\cdot3\\cdot...\\cdot n}{n\\cdot n\\cdot n\\cdot...\\cdot n}\n",
    "=\\frac{1}{n}\\left(\\frac{2\\cdot3\\cdot...\\cdot n}{n\\cdot n\\cdot...\\cdot n}\\right)\n",
    "\\le\\frac{1}{n}\n",
    "\\,\\,\\,\\text{since}\\,2\\cdot3\\cdot...\\cdot n\\le n\\cdot n\\cdot...\\cdot n\n",
    "\\implies\n",
    "\\left(\\frac{2\\cdot3\\cdot...\\cdot n}{n\\cdot n\\cdot...\\cdot n}\\right)\\le1\n",
    "\\\\\n",
    "&\\lim_{n\\to\\infty}0=0\n",
    "\\lt\n",
    "\\lim_{n\\to\\infty}a_n\n",
    "\\le\n",
    "\\lim_{n\\to\\infty}\\frac{1}{n}=0\n",
    "\\implies\n",
    "\\lim_{n\\to\\infty}a_n=0\n",
    "\\,\\,\\,\\text{by Squeeze Theorem}\n",
    "\\end{aligned}\n",
    "$"
   ]
  },
  {
   "cell_type": "code",
   "execution_count": 62,
   "metadata": {
    "tags": [
     "hide-input"
    ]
   },
   "outputs": [
    {
     "data": {
      "image/png": "[encoded data removed]",
      "text/plain": [
       "<Figure size 400x600 with 2 Axes>"
      ]
     },
     "metadata": {},
     "output_type": "display_data"
    }
   ],
   "source": [
    "def seq ():\n",
    "  n=1\n",
    "  while True:\n",
    "    yield scipy.special.factorial(n)/n**n\n",
    "    n+=1\n",
    "s=seq()\n",
    "x,y=[range(0,50)],[next(s) for _ in range(0,50)]\n",
    "\n",
    "fig,(ax1,ax2)=plt.subplots(2,1,figsize=(4,6),height_ratios=[1,4]);\n",
    "\n",
    "ax1.scatter(y, np.zeros(50), c=x, cmap='plasma', s=10);\n",
    "ax1.set_xlim(-0.1,1.1);\n",
    "ax1.set_xlabel('$a_n$');\n",
    "ax1.set_yticks([]);\n",
    "ax1.set_ylim(-1,1);\n",
    "\n",
    "ax2.set_xlim(-1,50);\n",
    "ax2.set_xlabel('$n$');\n",
    "ax2.set_ylim(-0.1,1.1);\n",
    "ax2.set_ylabel('$a_n$');\n",
    "ax2.scatter(x, y, c=x, cmap='plasma', s=10);"
   ]
  },
  {
   "attachments": {},
   "cell_type": "markdown",
   "metadata": {},
   "source": [
    "---"
   ]
  },
  {
   "attachments": {},
   "cell_type": "markdown",
   "metadata": {},
   "source": [
    "#### Fibonacci Sequence"
   ]
  },
  {
   "attachments": {},
   "cell_type": "markdown",
   "metadata": {},
   "source": [
    "$\n",
    "\\{f_n\\}\n",
    "=\\begin{cases}\n",
    "f_1\\overset{\\text{def}}{=}1\n",
    "\\\\\n",
    "f_2\\overset{\\text{def}}{=}1\n",
    "\\\\\n",
    "f_n=f_{n-1}+f_{n-2}\n",
    "\\,\\,\\,\\text{when}\\,n\\ge3\n",
    "\\end{cases}\n",
    "=\\{1,1,2,3,5,8,13,21,...\\}\n",
    "$"
   ]
  },
  {
   "cell_type": "code",
   "execution_count": 58,
   "metadata": {
    "tags": [
     "hide-input"
    ]
   },
   "outputs": [
    {
     "data": {
      "image/png": "[encoded data removed]",
      "text/plain": [
       "<Figure size 400x600 with 2 Axes>"
      ]
     },
     "metadata": {},
     "output_type": "display_data"
    }
   ],
   "source": [
    "def seq (n):\n",
    "  a, b = 1, 1\n",
    "  for _ in range(n):\n",
    "    yield a\n",
    "    a, b = b, a + b\n",
    "s=seq(50)\n",
    "x,y=[range(50)],[next(s) for _ in range(50)]\n",
    "\n",
    "fig,(ax1,ax2)=plt.subplots(2,1,figsize=(4,6),height_ratios=[1,4]);\n",
    "\n",
    "ax1.scatter(y, np.zeros(50), c=x, cmap='plasma', s=10);\n",
    "ax1.set_xscale('log');\n",
    "ax1.set_xlim(1, 1e11);\n",
    "ax1.set_xlabel('$a_n$');\n",
    "ax1.set_yticks([]);\n",
    "ax1.set_ylim(-1,1);\n",
    "\n",
    "ax2.set_xlim(1,50);\n",
    "ax2.set_xlabel('$n$');\n",
    "ax2.set_yscale('log');\n",
    "ax2.set_ylim(1,1e11);\n",
    "ax2.set_ylabel('$a_n$');\n",
    "ax2.scatter(x, y, c=x, cmap='plasma', s=10);\n",
    "\n",
    "fig.suptitle('Fibonacci Sequence $n=50$');"
   ]
  },
  {
   "attachments": {},
   "cell_type": "markdown",
   "metadata": {},
   "source": [
    "---"
   ]
  },
  {
   "attachments": {},
   "cell_type": "markdown",
   "metadata": {},
   "source": [
    "#### $\\begin{aligned}\\{a_n\\}_{n=1}^\\infty=\\begin{cases}a_1&=2\\\\a_{n+1}&=\\frac{1}{2}(a_n+6)\\end{cases}\\end{aligned}$"
   ]
  },
  {
   "attachments": {},
   "cell_type": "markdown",
   "metadata": {},
   "source": [
    "$\n",
    "\\begin{aligned}\n",
    "\\{a_n\\}_{n=1}^\\infty=\n",
    "\\begin{cases}\n",
    "a_1&=2\n",
    "\\\\\n",
    "a_{n+1}&=\\frac{1}{2}(a_n+6)\n",
    "\\end{cases}\n",
    "=\\left\\{2,4,5,\\frac{11}{2},\\frac{23}{4},\\frac{47}{8},...\\right\\}\n",
    "\\end{aligned}\n",
    "$\n",
    "\n",
    "monotonically increasing\n",
    "\n",
    "$\n",
    "a_{n+1}\\gt a_n\n",
    "\\,\\,\\,\\forall n\\ge1\n",
    "\\,\\,\\,\\text{by induction}\n",
    "\\\\\n",
    "a_{n+1}\\gt a_n\n",
    "\\,\\,\\,\\text{when}\\,n=1\n",
    "\\,\\,\\,\\text{since}\\,4=a_2\\gt a_1=2\n",
    "\\\\\n",
    "a_{n+1}\\gt a_n\n",
    "\\,\\,\\,\\text{when}\\,n=k\n",
    "\\,\\,\\,\\text{assumed by induction hypothesis}\n",
    "\\\\\n",
    "a_{k+1}\\gt a_k\n",
    "\\iff\n",
    "a_{k+1}+6\\gt a_k+6\n",
    "\\iff\n",
    "\\frac{1}{2}(a_{k+1}+6)\\gt\\frac{1}{2}(a_{k}+6)\n",
    "\\\\\n",
    "\\implies\n",
    "a_{k+2}\\gt a_{k+1}\n",
    "\\\\\n",
    "a_{n+1}\\gt a_n\n",
    "\\,\\,\\,\\text{when}\\,n=k+1\n",
    "$\n",
    "\n",
    "bounded\n",
    "\n",
    "$\n",
    "2\\le a_n\\lt6\n",
    "\\,\\,\\,\\forall n\\ge1\n",
    "\\,\\,\\,\\text{by induction}\n",
    "\\\\\n",
    "2\\le a_n\\lt6\n",
    "\\,\\,\\,\\text{when}\\,n=1\n",
    "\\,\\,\\,\\text{since}\\,a_1=2\\lt6\n",
    "\\\\\n",
    "2\\le a_n\\lt6\n",
    "\\,\\,\\,\\text{when}\\,n=k\n",
    "\\,\\,\\,\\text{assumed by induction hypothesis}\n",
    "\\\\\n",
    "a_k\\lt6\n",
    "\\iff\n",
    "a_k+6\\lt12\n",
    "\\iff\n",
    "\\frac{1}{2}(a_k+6)\\lt6\n",
    "\\\\\n",
    "\\implies\n",
    "a_{k+1}\\lt 6\n",
    "\\\\\n",
    "2\\le a_n\\lt6\n",
    "\\,\\,\\,\\text{when}\\,n=k+1\n",
    "$\n",
    "\n",
    "convergent\n",
    "\n",
    "$\n",
    "\\begin{aligned}\n",
    "\\lim_{n\\to\\infty}a_n=L\n",
    "\\implies\n",
    "\\lim_{n\\to\\infty}a_{n+1}=L\n",
    "\\,\\,\\,\\text{since}\\,\\,\\,\n",
    "n\\to\\infty\n",
    "\\implies\n",
    "n+1\\to\\infty\n",
    "\\end{aligned}\n",
    "$\n",
    "\n",
    "$\n",
    "\\begin{aligned}\n",
    "L\n",
    "=\\lim_{n\\to\\infty}a_{n+1}\n",
    "=\\lim_{n\\to\\infty}\\frac{1}{2}(a_n+6)\n",
    "=\\frac{1}{2}(\\lim_{n\\to\\infty}a_n+6)\n",
    "=\\frac{1}{2}(L+6)\n",
    "\\\\\n",
    "L=\\frac{1}{2}(L+6)\n",
    "\\implies\n",
    "L=\\frac{1}{2}L+3\n",
    "\\implies\n",
    "L=6\n",
    "\\end{aligned}\n",
    "$"
   ]
  },
  {
   "cell_type": "code",
   "execution_count": 85,
   "metadata": {
    "tags": [
     "hide-input"
    ]
   },
   "outputs": [
    {
     "data": {
      "image/png": "[encoded data removed]",
      "text/plain": [
       "<Figure size 400x600 with 2 Axes>"
      ]
     },
     "metadata": {},
     "output_type": "display_data"
    }
   ],
   "source": [
    "def seq (n):\n",
    "  a, b = 2, 4\n",
    "  for _ in range(n):\n",
    "    yield a\n",
    "    a, b = b, (1/2)*(b+6)\n",
    "s=seq(50)\n",
    "x,y=[range(1,51)],[next(s) for _ in range(1,51)]\n",
    "\n",
    "fig,(ax1,ax2)=plt.subplots(2,1,figsize=(4,6),height_ratios=[1,4]);\n",
    "\n",
    "ax1.scatter(y, np.zeros(50), c=x, cmap='plasma', s=10);\n",
    "ax1.set_xlim(1.9, 6.1);\n",
    "ax1.set_xlabel('$a_n$');\n",
    "ax1.set_yticks([]);\n",
    "ax1.set_ylim(-1,1);\n",
    "\n",
    "ax2.set_xlim(-1,50);\n",
    "ax2.set_xlabel('$n$');\n",
    "ax2.set_ylim(1.9,6.1);\n",
    "ax2.set_ylabel('$a_n$');\n",
    "ax2.scatter(x, y, c=x, cmap='plasma', s=10);"
   ]
  },
  {
   "attachments": {},
   "cell_type": "markdown",
   "metadata": {},
   "source": [
    "---"
   ]
  },
  {
   "attachments": {},
   "cell_type": "markdown",
   "metadata": {},
   "source": [
    "#### $\\begin{aligned}\\left\\{\\frac{3}{n+5}\\right\\}_{n=1}^\\infty\\end{aligned}$"
   ]
  },
  {
   "attachments": {},
   "cell_type": "markdown",
   "metadata": {},
   "source": [
    "$\n",
    "\\begin{aligned}\n",
    "\\left\\{\\frac{3}{n+5}\\right\\}_{n=1}^\\infty\n",
    "=\\left\\{\\frac{1}{2},\\frac{3}{7},\\frac{3}{8},\\frac{1}{3},\\frac{3}{10},\\frac{3}{11},...,\\frac{3}{n+5},...\\right\\}\n",
    "\\end{aligned}\n",
    "$\n",
    "\n",
    "convergent\n",
    "\n",
    "$\n",
    "\\begin{aligned}\n",
    "\\lim_{n\\to\\infty}0=0\n",
    "\\lt\n",
    "3\\lim_{n\\to\\infty}\\frac{1}{n+5}\n",
    "\\lt\n",
    "3\\lim_{n\\to\\infty}\\frac{1}{n}=0\n",
    "\\implies\n",
    "\\lim_{n\\to\\infty}\\frac{3}{n+5}=0\n",
    "\\,\\,\\,\\text{by Squeeze Theorem}\n",
    "\\end{aligned}\n",
    "$\n",
    "\n",
    "monotonically decreasing\n",
    "\n",
    "$\n",
    "\\begin{aligned}\n",
    "\\frac{3}{n+5}=a_n\\gt a_{n+1}=\\frac{3}{(n+1)+5}=\\frac{3}{n+6}\n",
    "\\end{aligned}\n",
    "$"
   ]
  },
  {
   "cell_type": "code",
   "execution_count": null,
   "metadata": {
    "tags": [
     "hide-input"
    ]
   },
   "outputs": [
    {
     "data": {
      "image/png": "[encoded data removed]",
      "text/plain": [
       "<Figure size 400x600 with 2 Axes>"
      ]
     },
     "metadata": {},
     "output_type": "display_data"
    }
   ],
   "source": [
    "def seq ():\n",
    "  n=1\n",
    "  while True:\n",
    "    yield 3/(n+5)\n",
    "    n+=1\n",
    "s=seq()\n",
    "x,y=[range(0,50)],[next(s) for _ in range(0,50)]\n",
    "\n",
    "fig,(ax1,ax2)=plt.subplots(2,1,figsize=(4,6),height_ratios=[1,4]);\n",
    "\n",
    "ax1.scatter(y, np.zeros(50), c=x, cmap='plasma', s=10);\n",
    "ax1.set_xlim(0,0.6);\n",
    "ax1.set_xlabel('$a_n$');\n",
    "ax1.set_yticks([]);\n",
    "ax1.set_ylim(-1,1);\n",
    "\n",
    "ax2.set_xlim(-1,50);\n",
    "ax2.set_xlabel('$n$');\n",
    "ax2.set_ylim(0,0.6);\n",
    "ax2.set_ylabel('$a_n$');\n",
    "ax2.scatter(x, y, c=x, cmap='plasma', s=10);"
   ]
  },
  {
   "attachments": {},
   "cell_type": "markdown",
   "metadata": {},
   "source": [
    "---"
   ]
  },
  {
   "attachments": {},
   "cell_type": "markdown",
   "metadata": {},
   "source": [
    "#### $\\begin{aligned}\\left\\{\\frac{n}{n^2+1}\\right\\}_{n=1}^\\infty\\end{aligned}$"
   ]
  },
  {
   "attachments": {},
   "cell_type": "markdown",
   "metadata": {},
   "source": [
    "[EXAMPLE]\n",
    "\n",
    "$\n",
    "\\begin{aligned}\n",
    "\\left\\{\\frac{n}{n^2+1}\\right\\}_{n=1}^\\infty\n",
    "=\\left\\{\\frac{1}{2},\\frac{2}{5},\\frac{3}{10},\\frac{4}{17},\\frac{5}{26},\\frac{6}{37},...,\\frac{n}{n^2+1},...\\right\\}\n",
    "\\end{aligned}\n",
    "$\n",
    "\n",
    "convergent\n",
    "\n",
    "$\n",
    "\\begin{aligned}\n",
    "\\lim_{n\\to\\infty}\\frac{n}{n^2+1}\n",
    "=\\lim_{n\\to\\infty}\\frac{\\frac{1}{n^2}n}{\\frac{1}{n^2}(n^2+1)}\n",
    "=\\lim_{n\\to\\infty}\\frac{\\frac{1}{n}}{1+\\frac{1}{n^2}}\n",
    "=\\frac{\\begin{aligned}\\lim_{n\\to\\infty}\\frac{1}{n}\\end{aligned}}{\\begin{aligned}\\lim_{n\\to\\infty}1+\\lim_{n\\to\\infty}\\frac{1}{n^2}\\end{aligned}}\n",
    "=\\frac{0}{1+0}\n",
    "=0\n",
    "\\end{aligned}\n",
    "$\n",
    "\n",
    "monotonically decreasing\n",
    "\n",
    "$\n",
    "\\begin{aligned}\n",
    "\\frac{(n+1)}{(n+1)^2+1}=a_{n+1}\\lt a_n=\\frac{n}{n^2+1}\n",
    "\\iff\n",
    "(n+1)(n^2+1)\\lt n((n+1)^2+1)\n",
    "\\iff\n",
    "n^3+n^2+n+1\\lt n^3+2n^2+2n\n",
    "\\iff\n",
    "1\\lt n^2+n\n",
    "\\,\\,\\,\\text{for}\\,\n",
    "n\\ge1\n",
    "\\end{aligned}\n",
    "$\n",
    "\n",
    "or\n",
    "\n",
    "$\n",
    "\\begin{aligned}\n",
    "f(x)=\\frac{x}{x^2+1}\n",
    "\\implies\n",
    "f'(x)=\\frac{x^2+1-2x^2}{(x^2+1)^2}\n",
    "=\\frac{1-x^2}{(x^2+1)^2}\n",
    "\\lt0\n",
    "\\,\\,\\,\\text{when}\\,\n",
    "x^2\\gt1\n",
    "\\end{aligned}\n",
    "$\n",
    "\n",
    "$f$ is decreasing on the open interval $(1,\\infty)$ and so $f(n)\\gt f(n+1)$, and so $\\{a_n\\}$ is decreasing"
   ]
  },
  {
   "cell_type": "code",
   "execution_count": null,
   "metadata": {
    "tags": [
     "hide-input"
    ]
   },
   "outputs": [
    {
     "data": {
      "image/png": "[encoded data removed]",
      "text/plain": [
       "<Figure size 400x600 with 2 Axes>"
      ]
     },
     "metadata": {},
     "output_type": "display_data"
    }
   ],
   "source": [
    "def seq ():\n",
    "  n=1\n",
    "  while True:\n",
    "    yield n/(n**2+1)\n",
    "    n+=1\n",
    "s=seq()\n",
    "x,y=[range(0,50)],[next(s) for _ in range(0,50)]\n",
    "\n",
    "fig,(ax1,ax2)=plt.subplots(2,1,figsize=(4,6),height_ratios=[1,4]);\n",
    "\n",
    "ax1.scatter(y, np.zeros(50), c=x, cmap='plasma', s=10);\n",
    "ax1.set_xlim(0,0.6);\n",
    "ax1.set_xlabel('$a_n$');\n",
    "ax1.set_yticks([]);\n",
    "ax1.set_ylim(-1,1);\n",
    "\n",
    "ax2.set_xlim(-1,50);\n",
    "ax2.set_xlabel('$n$');\n",
    "ax2.set_ylim(0,0.6);\n",
    "ax2.set_ylabel('$a_n$');\n",
    "ax2.scatter(x, y, c=x, cmap='plasma', s=10);"
   ]
  },
  {
   "attachments": {},
   "cell_type": "markdown",
   "metadata": {},
   "source": [
    "---"
   ]
  },
  {
   "attachments": {},
   "cell_type": "markdown",
   "metadata": {},
   "source": [
    "## Series"
   ]
  },
  {
   "attachments": {},
   "cell_type": "markdown",
   "metadata": {},
   "source": [
    "### Grandi's Series"
   ]
  },
  {
   "attachments": {},
   "cell_type": "markdown",
   "metadata": {},
   "source": [
    "$\n",
    "\\begin{aligned}\n",
    "\\sum_{n=0}^\\infty(-1)^n\n",
    "=1-1+1-1+1-1+1-1+...\n",
    "\\end{aligned}\n",
    "$"
   ]
  },
  {
   "attachments": {},
   "cell_type": "markdown",
   "metadata": {},
   "source": [
    "---"
   ]
  },
  {
   "attachments": {},
   "cell_type": "markdown",
   "metadata": {},
   "source": [
    "## Arithmetic"
   ]
  },
  {
   "attachments": {},
   "cell_type": "markdown",
   "metadata": {},
   "source": [
    "### Arithmetic Sequence"
   ]
  },
  {
   "attachments": {},
   "cell_type": "markdown",
   "metadata": {},
   "source": [
    "$\n",
    "\\{a,a+d,a+2d,a+3d,...\\}\n",
    "$\n",
    "\n",
    "$a$ is the sequence's initial value\n",
    "\n",
    "$d$ is the common difference\n",
    "\n",
    "$\n",
    "a_n=a+(n-1)d\n",
    "$\n",
    "is the $n$-th term of an arithmetic sequence\n",
    "\n",
    "Each term is the arithmetic mean of its neighboring terms."
   ]
  },
  {
   "attachments": {},
   "cell_type": "markdown",
   "metadata": {},
   "source": [
    "### Arithmetic Series"
   ]
  },
  {
   "attachments": {},
   "cell_type": "markdown",
   "metadata": {},
   "source": [
    "$\n",
    "\\begin{aligned}\n",
    "\\sum_{k=0}^{n}a+kd\n",
    "=a+(a+d)+(a+2d)+(a+3d)+...\n",
    "\\end{aligned}\n",
    "$"
   ]
  },
  {
   "attachments": {},
   "cell_type": "markdown",
   "metadata": {},
   "source": [
    "---"
   ]
  },
  {
   "attachments": {},
   "cell_type": "markdown",
   "metadata": {},
   "source": [
    "## Geometric"
   ]
  },
  {
   "attachments": {},
   "cell_type": "markdown",
   "metadata": {},
   "source": [
    "### Geometric Sequence"
   ]
  },
  {
   "attachments": {},
   "cell_type": "markdown",
   "metadata": {},
   "source": [
    "$\n",
    "\\begin{aligned}\n",
    "\\{a,ar,ar^2,ar^3,...\\}\n",
    "\\end{aligned}\n",
    "$\n",
    "\n",
    "$\n",
    "a_n=ar^{n-1}\n",
    "$\n",
    "is the $n$-th term of a geometric sequence\n",
    "\n",
    "$r\\ne0$ is the common ratio\n",
    "\n",
    "$a\\ne0$ is a scale factor equal to the sequence's initial value\n",
    "\n",
    "Each term is the geometric mean of its neighboring terms."
   ]
  },
  {
   "attachments": {},
   "cell_type": "markdown",
   "metadata": {},
   "source": [
    "[EXAMPLE]\n",
    "\n",
    "$\n",
    "\\begin{aligned}\n",
    "a&=1\\\\\n",
    "r&=-3\\\\\n",
    "\\end{aligned}\n",
    "$\n",
    "\n",
    "$\n",
    "\\begin{aligned}\n",
    "\\{1,-3,9,-27,81,-243,...\\}\n",
    "=\\{(1),(1)(-3),(1)(-3)^2,(1)(-3)^3,(1)(-3)^4,(1)(-3)^5,...\\}\n",
    "\\end{aligned}\n",
    "$"
   ]
  },
  {
   "attachments": {},
   "cell_type": "markdown",
   "metadata": {},
   "source": [
    "[EXAMPLE]\n",
    "\n",
    "$\n",
    "\\begin{aligned}\n",
    "a&=\\frac{1}{2}\\\\\n",
    "r&=\\frac{1}{2}\\\\\n",
    "\\end{aligned}\n",
    "$\n",
    "\n",
    "$\n",
    "\\begin{aligned}\n",
    "&\\left\\{\\left(\\frac{1}{2}\\right),\\left(\\frac{1}{4}\\right),\\left(\\frac{1}{8}\\right),\\left(\\frac{1}{16}\\right),\\left(\\frac{1}{32}\\right),\\left(\\frac{1}{64}\\right),...\\right\\}\\\\\n",
    "&=\\left\\{\\left(\\frac{1}{2}\\right),\\left(\\frac{1}{2^2}\\right),\\left(\\frac{1}{2^3}\\right),\\left(\\frac{1}{2^4}\\right),\\left(\\frac{1}{2^5}\\right),\\left(\\frac{1}{2^6}\\right),...\\right\\}\\\\\n",
    "&=\\left\\{\\left(\\frac{1}{2}\\right),\\left(\\frac{1}{2}\\right)\\left(\\frac{1}{2}\\right),\\left(\\frac{1}{2}\\right)\\left(\\frac{1}{2}\\right)^2,\\left(\\frac{1}{2}\\right)\\left(\\frac{1}{2}\\right)^3,\\left(\\frac{1}{2}\\right)\\left(\\frac{1}{2}\\right)^4,\\left(\\frac{1}{2}\\right)\\left(\\frac{1}{2}\\right)^5,...\\right\\}\n",
    "\\end{aligned}\n",
    "$"
   ]
  },
  {
   "attachments": {},
   "cell_type": "markdown",
   "metadata": {},
   "source": [
    "### Geometric Series"
   ]
  },
  {
   "attachments": {},
   "cell_type": "markdown",
   "metadata": {},
   "source": [
    "Generator Form\n",
    "\n",
    "$\n",
    "\\begin{aligned}\n",
    "\\sum_{k=0}^\\infty ar^k\n",
    "=a+ar+ar^2+ar^3+...\n",
    "\\end{aligned}\n",
    "$\n",
    "\n",
    "Closed Form\n",
    "\n",
    "$\n",
    "\\begin{aligned}\n",
    "\\frac{a}{1-r}\n",
    "\\end{aligned}\n",
    "$\n",
    "for $|r|\\lt1$"
   ]
  },
  {
   "attachments": {},
   "cell_type": "markdown",
   "metadata": {},
   "source": [
    "[EXAMPLE]\n",
    "\n",
    "$\n",
    "\\begin{aligned}\n",
    "&\\sum_{k=0}^\\infty\\left(\\frac{1}{2}\\right)\\left(\\frac{1}{2}\\right)^k\n",
    "\\\\\n",
    "&=\\frac{1}{2}+\\frac{1}{4}+\\frac{1}{8}+\\frac{1}{16}+\\frac{1}{32}+\\frac{1}{64}+...\n",
    "\\\\\n",
    "&=\\frac{\\frac{1}{2}}{1-\\frac{1}{2}}\n",
    "\\\\\n",
    "&=1\n",
    "\\end{aligned}\n",
    "$"
   ]
  },
  {
   "attachments": {},
   "cell_type": "markdown",
   "metadata": {},
   "source": [
    "---"
   ]
  },
  {
   "attachments": {},
   "cell_type": "markdown",
   "metadata": {},
   "source": [
    "## Harmonic"
   ]
  },
  {
   "attachments": {},
   "cell_type": "markdown",
   "metadata": {},
   "source": [
    "### Harmonic Sequence"
   ]
  },
  {
   "attachments": {},
   "cell_type": "markdown",
   "metadata": {},
   "source": [
    "### Harmonic Series"
   ]
  },
  {
   "attachments": {},
   "cell_type": "markdown",
   "metadata": {},
   "source": [
    "$\n",
    "\\begin{aligned}\n",
    "\\sum_{n=1}^\\infty\\frac{1}{n}\n",
    "=1+\\frac{1}{2}+\\frac{1}{3}+\\frac{1}{4}+\\frac{1}{5}+\\frac{1}{6}+\\frac{1}{7}+\\frac{1}{8}+...\n",
    "\\end{aligned}\n",
    "$"
   ]
  },
  {
   "attachments": {},
   "cell_type": "markdown",
   "metadata": {},
   "source": [
    "---"
   ]
  },
  {
   "attachments": {},
   "cell_type": "markdown",
   "metadata": {},
   "source": [
    "## Taylor Series"
   ]
  },
  {
   "attachments": {},
   "cell_type": "markdown",
   "metadata": {},
   "source": [
    "$\n",
    "\\begin{aligned}\n",
    "e^x\n",
    "&=1+x+\\frac{x^2}{2!}+\\frac{x^3}{3!}+\\frac{x^4}{4!}+\\frac{x^5}{5!}+\\frac{x^6}{6!}+\\frac{x^7}{7!}+\\frac{x^8}{8!}+\\frac{x^9}{9!}+...\n",
    "\\\\\n",
    "\\sin x\n",
    "&=x-\\frac{x^3}{3!}+\\frac{x^5}{5!}-\\frac{x^7}{7!}+\\frac{x^9}{9!}-...\n",
    "\\\\\n",
    "\\cos x\n",
    "&=1-\\frac{x^2}{2!}+\\frac{x^4}{4!}-\\frac{x^6}{6!}+\\frac{x^8}{8!}-...\n",
    "\\end{aligned}\n",
    "$"
   ]
  },
  {
   "attachments": {},
   "cell_type": "markdown",
   "metadata": {},
   "source": [
    "---"
   ]
  },
  {
   "attachments": {},
   "cell_type": "markdown",
   "metadata": {},
   "source": [
    "### $\\begin{aligned}8=\\sum_{n=0}^\\infty \\frac{6}{4^n}\\end{aligned}$"
   ]
  },
  {
   "attachments": {},
   "cell_type": "markdown",
   "metadata": {},
   "source": [
    "$\n",
    "\\begin{aligned}\n",
    "8\n",
    "=\\sum_{n=0}^\\infty \\frac{6}{4^n}\n",
    "\\end{aligned}\n",
    "$"
   ]
  },
  {
   "cell_type": "code",
   "execution_count": null,
   "metadata": {},
   "outputs": [
    {
     "data": {
      "text/latex": [
       "$\\displaystyle 8$"
      ],
      "text/plain": [
       "8"
      ]
     },
     "metadata": {},
     "output_type": "display_data"
    }
   ],
   "source": [
    "n = smp.symbols('n')\n",
    "\n",
    "smp.Sum(6/4**n, (n, 0, smp.oo)).doit() # symbolic solution"
   ]
  },
  {
   "attachments": {},
   "cell_type": "markdown",
   "metadata": {},
   "source": [
    "---"
   ]
  },
  {
   "attachments": {},
   "cell_type": "markdown",
   "metadata": {},
   "source": [
    "### $\\begin{aligned}\\frac{10}{3}=\\sum_{n=0}^\\infty \\frac{2^{n + 1}}{5^n}\\end{aligned}$"
   ]
  },
  {
   "attachments": {},
   "cell_type": "markdown",
   "metadata": {},
   "source": [
    "$\n",
    "\\begin{aligned}\n",
    "\\frac{10}{3}\n",
    "=\\sum_{n=0}^\\infty \\frac{2^{n + 1}}{5^n}\n",
    "\\end{aligned}\n",
    "$"
   ]
  },
  {
   "cell_type": "code",
   "execution_count": 6,
   "metadata": {},
   "outputs": [
    {
     "data": {
      "text/latex": [
       "$\\displaystyle \\frac{10}{3}$"
      ],
      "text/plain": [
       "10/3"
      ]
     },
     "execution_count": 6,
     "metadata": {},
     "output_type": "execute_result"
    }
   ],
   "source": [
    "n = smp.symbols('n')\n",
    "\n",
    "smp.Sum(2**(n + 1) / 5**n, (n, 0, smp.oo)).doit() # symbolic solution"
   ]
  },
  {
   "attachments": {},
   "cell_type": "markdown",
   "metadata": {},
   "source": [
    "---"
   ]
  },
  {
   "attachments": {},
   "cell_type": "markdown",
   "metadata": {},
   "source": [
    "### $\\begin{aligned}15\\approx\\sum_{n=1}^\\infty \\frac{\\tan^{-1}(n)}{n^{1.1}}\\end{aligned}$"
   ]
  },
  {
   "attachments": {},
   "cell_type": "markdown",
   "metadata": {},
   "source": [
    "$\n",
    "\\begin{aligned}\n",
    "15\\approx\n",
    "\\sum_{n=1}^\\infty \\frac{\\tan^{-1}(n)}{n^{1.1}}\n",
    "\\end{aligned}\n",
    "$"
   ]
  },
  {
   "cell_type": "code",
   "execution_count": 10,
   "metadata": {},
   "outputs": [
    {
     "data": {
      "text/latex": [
       "$\\displaystyle 15.3028821020457$"
      ],
      "text/plain": [
       "15.3028821020457"
      ]
     },
     "execution_count": 10,
     "metadata": {},
     "output_type": "execute_result"
    }
   ],
   "source": [
    "n = smp.symbols('n')\n",
    "\n",
    "smp.Sum(smp.atan(n)/n**smp.Rational(11, 10), (n, 1, smp.oo)).n() # numerical approximation"
   ]
  },
  {
   "attachments": {},
   "cell_type": "markdown",
   "metadata": {},
   "source": [
    "---"
   ]
  },
  {
   "attachments": {},
   "cell_type": "markdown",
   "metadata": {},
   "source": [
    "### $\\begin{aligned}\\sum_{n=1}^\\infty \\frac{1 + \\cos(n)}{n}\\,\\text{diverges}\\end{aligned}$"
   ]
  },
  {
   "attachments": {},
   "cell_type": "markdown",
   "metadata": {},
   "source": [
    "$\n",
    "\\begin{aligned}\n",
    "\\sum_{n=1}^\\infty \\frac{1 + \\cos(n)}{n}\n",
    "\\,\\text{diverges}\n",
    "\\end{aligned}\n",
    "$"
   ]
  },
  {
   "cell_type": "code",
   "execution_count": 14,
   "metadata": {},
   "outputs": [
    {
     "data": {
      "text/latex": [
       "$\\displaystyle 3.0 \\cdot 10^{2}$"
      ],
      "text/plain": [
       "0.e+2"
      ]
     },
     "execution_count": 14,
     "metadata": {},
     "output_type": "execute_result"
    }
   ],
   "source": [
    "n = smp.symbols('n')\n",
    "\n",
    "smp.Sum((1 + smp.cos(n)) / n, (n, 1, smp.oo)).n() # INCORRECT numerical approximation"
   ]
  },
  {
   "attachments": {},
   "cell_type": "markdown",
   "metadata": {},
   "source": [
    "---"
   ]
  },
  {
   "attachments": {},
   "cell_type": "markdown",
   "metadata": {},
   "source": [
    "### $\\begin{aligned}2\\approx\\sum_{n=1}^\\infty \\frac{1 + \\cos(n)}{n^2}\\end{aligned}$"
   ]
  },
  {
   "attachments": {},
   "cell_type": "markdown",
   "metadata": {},
   "source": [
    "$\n",
    "\\begin{aligned}\n",
    "2\\approx\n",
    "\\sum_{n=1}^\\infty \\frac{1 + \\cos(n)}{n^2}\n",
    "\\end{aligned}\n",
    "$"
   ]
  },
  {
   "cell_type": "code",
   "execution_count": 15,
   "metadata": {},
   "outputs": [
    {
     "data": {
      "text/latex": [
       "$\\displaystyle 1.969$"
      ],
      "text/plain": [
       "1.969"
      ]
     },
     "execution_count": 15,
     "metadata": {},
     "output_type": "execute_result"
    }
   ],
   "source": [
    "n = smp.symbols('n')\n",
    "\n",
    "smp.Sum((1 + smp.cos(n)) / n**2, (n, 1, smp.oo)).n() # numerical approximation"
   ]
  },
  {
   "attachments": {},
   "cell_type": "markdown",
   "metadata": {},
   "source": [
    "---"
   ]
  },
  {
   "attachments": {},
   "cell_type": "markdown",
   "metadata": {},
   "source": [
    "## Figures"
   ]
  },
  {
   "attachments": {},
   "cell_type": "markdown",
   "metadata": {},
   "source": [
    "* [[W](https://en.wikipedia.org/wiki/Luigi_Guido_Grandi)] Grandi, Guido (1671-1742)\n",
    "* [[W](https://en.wikipedia.org/wiki/James_Gregory_(mathematician))] Gregory, James (1638-1675)\n",
    "* [[W](https://en.wikipedia.org/wiki/Colin_Maclaurin)] Maclaurin, Colin (1698-1746)\n",
    "* [[W](https://en.wikipedia.org/wiki/Nicholas_Mercator)] Mercator, Nicholas (1620-1687)\n",
    "* [[W](https://en.wikipedia.org/wiki/Brook_Taylor)] Taylor, Brook (1685-1731)"
   ]
  },
  {
   "attachments": {},
   "cell_type": "markdown",
   "metadata": {},
   "source": [
    "---"
   ]
  },
  {
   "attachments": {},
   "cell_type": "markdown",
   "metadata": {},
   "source": [
    "## Terms"
   ]
  },
  {
   "attachments": {},
   "cell_type": "markdown",
   "metadata": {},
   "source": [
    "* [[W](https://en.wikipedia.org/wiki/Absolute_convergence)] Absolute Convergence\n",
    "* [[W](https://en.wikipedia.org/wiki/Alternating_series)] Alternating Series\n",
    "* [[W](https://en.wikipedia.org/wiki/Alternating_series_test)] Alternating Series Test\n",
    "* [[W](https://en.wikipedia.org/wiki/Arithmetic_mean)] Arithmetic Mean\n",
    "* [[W](https://en.wikipedia.org/wiki/Arithmetic_progression)] Arithmetic Sequence\n",
    "* [[W](https://en.wikipedia.org/wiki/Direct_comparison_test)] Comparison Test\n",
    "* [[W](https://en.wikipedia.org/wiki/Conditional_convergence)] Conditional Convergence\n",
    "* [[W](https://en.wikipedia.org/wiki/Convergent_series)] Convergent Series\n",
    "* [[W](https://en.wikipedia.org/wiki/Divergent_geometric_series)] Divergent Geometric Series\n",
    "* [[W](https://en.wikipedia.org/wiki/Divergent_series)] Divergent Series\n",
    "* [[W](https://en.wikipedia.org/wiki/Formal_power_series)] Formal Series\n",
    "* [[W](https://en.wikipedia.org/wiki/Fourier_series)] Fourier Series\n",
    "* [[W](https://en.wikipedia.org/wiki/Convergence_of_Fourier_series)] Fourier Series, convergence\n",
    "* [[W](https://en.wikipedia.org/wiki/Geometric_mean)] Geometric Mean\n",
    "* [[W](https://en.wikipedia.org/wiki/Geometric_progression)] Geometric Sequence\n",
    "* [[W](https://en.wikipedia.org/wiki/Geometric_series)] Geometric Series\n",
    "* [[W](https://en.wikipedia.org/wiki/Grandi%27s_series)] Grandi's Series\n",
    "* [[W](https://en.wikipedia.org/wiki/Gregory%27s_series)] Gregory's Series\n",
    "* [[W](https://en.wikipedia.org/wiki/Harmonic_progression_(mathematics))] Harmonic Sequence\n",
    "* [[W](https://en.wikipedia.org/wiki/Harmonic_series_(mathematics))] Harmonic Series\n",
    "* [[W](https://en.wikipedia.org/wiki/Infinite_expression)] Infinite Expression\n",
    "* [[W](https://en.wikipedia.org/wiki/Leibniz_formula_for_%CF%80)] Leibniz Formula for π\n",
    "* [[W](https://en.wikipedia.org/wiki/Limit_comparison_test)] Limit Comparison Test\n",
    "* [[W](https://en.wikipedia.org/wiki/Limit_of_a_sequence)] Limit of a Sequence\n",
    "* [[W](https://en.wikipedia.org/wiki/Mercator_series)] Mercator Series\n",
    "* [[W](https://en.wikipedia.org/wiki/Modes_of_convergence)] Modes of Convergence\n",
    "* [[W](https://en.wikipedia.org/wiki/Pointwise_convergence)] Pointwise Convergence\n",
    "* [[W](https://en.wikipedia.org/wiki/Actual_infinity)] Potential Infinity\n",
    "* [[W](https://en.wikipedia.org/wiki/Power_series)] Power Series\n",
    "* [[W](https://en.wikipedia.org/wiki/Puiseux_series)] Puiseux Series\n",
    "* [[W](https://en.wikipedia.org/wiki/Radius_of_convergence)] Radius of Convergence\n",
    "* [[W](https://en.wikipedia.org/wiki/Ratio_test)] Ratio Test\n",
    "* [[W](https://en.wikipedia.org/wiki/Riemann_series_theorem)] Riemann Series Theorem\n",
    "* [[W](https://en.wikipedia.org/wiki/Sequence)] Sequence\n",
    "* [[W](https://en.wikipedia.org/wiki/Series_(mathematics))] Series\n",
    "* [[W](https://en.wikipedia.org/wiki/Taylor_series)] Taylor Series\n",
    "* [[W](https://en.wikipedia.org/wiki/Taylor%27s_theorem)] Taylor's Theorem\n",
    "* [[W](https://en.wikipedia.org/wiki/Telescoping_series)] Telescoping Series\n",
    "* [[W](https://en.wikipedia.org/wiki/Trigonometric_series)] Trigonometric Series\n",
    "* [[W](https://en.wikipedia.org/wiki/Unconditional_convergence)] Unconditional Convergence\n",
    "* [[W](https://en.wikipedia.org/wiki/Uniform_convergence)] Uniform Convergence"
   ]
  },
  {
   "attachments": {},
   "cell_type": "markdown",
   "metadata": {},
   "source": [
    "---"
   ]
  },
  {
   "attachments": {},
   "cell_type": "markdown",
   "metadata": {},
   "source": [
    "## Bibliography"
   ]
  },
  {
   "attachments": {},
   "cell_type": "markdown",
   "metadata": {},
   "source": [
    "* [[Y](https://www.youtube.com/watch?v=-SdIZHPuW9o)] Mr. P Solver. (26 May 2021). \"1st Year Calculus, But in PYTHON\". YouTube."
   ]
  },
  {
   "attachments": {},
   "cell_type": "markdown",
   "metadata": {},
   "source": [
    "---"
   ]
  }
 ],
 "metadata": {
  "kernelspec": {
   "display_name": "main",
   "language": "python",
   "name": "python3"
  },
  "language_info": {
   "codemirror_mode": {
    "name": "ipython",
    "version": 3
   },
   "file_extension": ".py",
   "mimetype": "text/x-python",
   "name": "python",
   "nbconvert_exporter": "python",
   "pygments_lexer": "ipython3",
   "version": "3.10.8"
  },
  "orig_nbformat": 4
 },
 "nbformat": 4,
 "nbformat_minor": 2
}
