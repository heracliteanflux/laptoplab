{
 "cells": [
  {
   "attachments": {},
   "cell_type": "markdown",
   "metadata": {},
   "source": [
    "# Variational Calculus"
   ]
  },
  {
   "attachments": {},
   "cell_type": "markdown",
   "metadata": {},
   "source": [
    "---"
   ]
  },
  {
   "attachments": {},
   "cell_type": "markdown",
   "metadata": {},
   "source": [
    "```{admonition} Revised\n",
    "07 Mar 2023\n",
    "```\n",
    "```{contents}\n",
    "```"
   ]
  },
  {
   "attachments": {},
   "cell_type": "markdown",
   "metadata": {},
   "source": [
    "---"
   ]
  },
  {
   "attachments": {},
   "cell_type": "markdown",
   "metadata": {},
   "source": [
    "## Resources"
   ]
  },
  {
   "attachments": {},
   "cell_type": "markdown",
   "metadata": {},
   "source": [
    "YouTube Channels\n",
    "* [Y] Good Vibrations with Freeball\n",
    "  * [[Y](https://www.youtube.com/watch?v=3HXCv4dmR7A)] Good Vibrations with Freeball. (08 Apr 2021). \"The Brachistochrone Problem\". YouTube.\n",
    "  * [[Y](https://www.youtube.com/watch?v=EHKFbl3VwMo)] Good Vibrations with Freeball. (30 Mar 2021). \"The Hanging Chain (Catenary) Problem\". YouTube.\n",
    "  * [[Y](https://www.youtube.com/watch?v=VCHFCXgYdvY)] Good Vibrations with Freeball. (22 Oct 2020). \"Introduction to Variational Calculus - Deriving the Euler-Lagrange Equation\". YouTube.\n",
    "\n",
    "YouTube Videos\n",
    "* [[Y](https://www.youtube.com/watch?v=Cld0p3a43fU)] 3Blue1Brown. (01 Apr 2016). \"The Brachistochrone, with Steven Strogatz\". YouTube.\n",
    "* [[Y](https://www.youtube.com/playlist?list=PLdgVBOaXkb9CD8igcUr9Fmn5WXLpE8ZE_)] Faculty of Khan. (04 Aug 2021). \"Calculus of Variations\". YouTube."
   ]
  },
  {
   "attachments": {},
   "cell_type": "markdown",
   "metadata": {},
   "source": [
    "---"
   ]
  },
  {
   "attachments": {},
   "cell_type": "markdown",
   "metadata": {},
   "source": [
    "## Terms"
   ]
  },
  {
   "attachments": {},
   "cell_type": "markdown",
   "metadata": {},
   "source": [
    "* [[W](https://en.wikipedia.org/wiki/Brachistochrone_curve)] Brachistochrone Curve\n",
    "* [[W](https://en.wikipedia.org/wiki/Calculus_of_variations)] Calculus of Variations\n",
    "* [[W](https://en.wikipedia.org/wiki/Euler%E2%80%93Lagrange_equation)] Euler-Lagrange Equation\n",
    "* [[W](https://en.wikipedia.org/wiki/Functional_(mathematics))] Functional\n",
    "* [[W](https://en.wikipedia.org/wiki/Functional_derivative)] Functional Derivative\n",
    "* [[W](https://en.wikipedia.org/wiki/Fundamental_lemma_of_calculus_of_variations)] Fundamental Lemma of the Calculus of Variations\n",
    "* [[W](https://en.wikipedia.org/wiki/Newton%27s_minimal_resistance_problem)] Newton's Minimal Resistance Problem\n",
    "* [[W](https://en.wikipedia.org/wiki/Optimal_control)] Optimal Control\n",
    "* [[W](https://en.wikipedia.org/wiki/Tautochrone_curve)] Tautochrone Curve\n",
    "* [[W](https://en.wikipedia.org/wiki/Functional_derivative)] Variational Derivative"
   ]
  },
  {
   "attachments": {},
   "cell_type": "markdown",
   "metadata": {},
   "source": [
    "---"
   ]
  }
 ],
 "metadata": {
  "language_info": {
   "name": "python"
  },
  "orig_nbformat": 4
 },
 "nbformat": 4,
 "nbformat_minor": 2
}
