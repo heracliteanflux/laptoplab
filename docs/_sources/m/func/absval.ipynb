{
 "cells": [
  {
   "cell_type": "markdown",
   "metadata": {},
   "source": [
    "# Absolute Value\n",
    "```{contents}\n",
    "```"
   ]
  },
  {
   "cell_type": "markdown",
   "metadata": {},
   "source": [
    "---"
   ]
  },
  {
   "cell_type": "markdown",
   "metadata": {},
   "source": [
    "$\n",
    "\\begin{aligned}\n",
    "|x| =\n",
    "\\begin{cases}\n",
    "\\phantom{-}x \\text{ if } x \\ge 0 \\\\\n",
    "          -x \\text{ if } x \\lt 0 \\\\\n",
    "\\end  {cases}\n",
    "\\end  {aligned}\n",
    "$\n",
    "\n",
    "The absolute value of a real number is that number's distance from $0$ along the real number line, and the absolute value of the difference of two real numbers (their absolute difference) is the distance between them.\n",
    "\n",
    "$|x| = \\sqrt{x^2}$"
   ]
  },
  {
   "cell_type": "markdown",
   "metadata": {},
   "source": [
    "Nonnegativity\n",
    "\n",
    "$\\forall x \\in \\mathbb{R} \\quad |x| \\ge 0$\n",
    "\n",
    "Positive Definiteness\n",
    "\n",
    "$\n",
    "\\begin{aligned}\n",
    "\\forall x \\in \\mathbb{R}\n",
    "\\quad\n",
    "x \\ne 0 & \\iff |x| \\ne 0 \\\\\n",
    "x = 0 & \\iff |x| = 0\n",
    "\\end  {aligned}\n",
    "$\n",
    "\n",
    "Multiplicativity\n",
    "\n",
    "$|xy| = |x| |y|$\n",
    "\n",
    "Subadditivity (triangle inequality)\n",
    "\n",
    "$|x + y| \\le |x| + |y|$\n",
    "\n",
    "$|4 + (-1)| \\le |4| + |(-1)|$"
   ]
  },
  {
   "cell_type": "markdown",
   "metadata": {},
   "source": [
    "---"
   ]
  },
  {
   "cell_type": "markdown",
   "metadata": {},
   "source": [
    "## Terms"
   ]
  },
  {
   "cell_type": "markdown",
   "metadata": {},
   "source": [
    "* [ [w](https://en.wikipedia.org/wiki/Absolute_value) ] Absolute Value"
   ]
  },
  {
   "cell_type": "markdown",
   "metadata": {},
   "source": [
    "---"
   ]
  }
 ],
 "metadata": {
  "language_info": {
   "name": "python"
  }
 },
 "nbformat": 4,
 "nbformat_minor": 2
}
