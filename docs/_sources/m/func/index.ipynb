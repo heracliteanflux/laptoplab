{
 "cells": [
  {
   "attachments": {},
   "cell_type": "markdown",
   "metadata": {},
   "source": [
    "# Functions"
   ]
  },
  {
   "cell_type": "markdown",
   "metadata": {},
   "source": [
    "---"
   ]
  },
  {
   "cell_type": "markdown",
   "metadata": {},
   "source": [
    "## Contents\n",
    "```{contents}\n",
    "```"
   ]
  },
  {
   "attachments": {},
   "cell_type": "markdown",
   "metadata": {},
   "source": [
    "---"
   ]
  },
  {
   "attachments": {},
   "cell_type": "markdown",
   "metadata": {},
   "source": [
    "## Sections\n",
    "```{tableofcontents}\n",
    "```"
   ]
  },
  {
   "attachments": {},
   "cell_type": "markdown",
   "metadata": {},
   "source": [
    "---"
   ]
  },
  {
   "cell_type": "markdown",
   "metadata": {},
   "source": [
    "<div style=\"font-family: Arial, sans-serif; font-size: 16px; transform: scale(1, 1);\"><b>Function</b></div><br>\n",
    "\n",
    "Informally, a function is a rule that assigns a possible output for each element in a set $D$ of possible inputs called the domain.\n",
    "\n",
    "Formally, a function $f$ is a (in)finite set of pairs $(a, b)$ no two of which share the same first entry. The domain itself can consist of pairs of numbers."
   ]
  },
  {
   "cell_type": "markdown",
   "metadata": {},
   "source": [
    "<div style=\"font-family: Arial, sans-serif; font-size: 16px; transform: scale(1, 1);\"><b>Image and Pre Image</b></div><br>\n",
    "\n",
    "The output $f(q)$ is called the ***image*** of the input $q$ under the function $f$.\n",
    "\n",
    "The input $q$ is called the ***pre-image*** of the output $f(q)$.\n",
    "\n",
    "If $r = f(q)$ then we say that $q$ ***maps to*** $r$ under $f$.\n",
    "\n",
    "***$q$ maps to $r$*** is denoted $q \\mapsto r$."
   ]
  },
  {
   "cell_type": "markdown",
   "metadata": {},
   "source": [
    "<div style=\"font-family: Arial, sans-serif; font-size: 16px; transform: scale(1, 1);\"><b>Domain and Co Domain</b></div><br>\n",
    "\n",
    "The set $D$ of possible inputs is called the ***domain*** of the function.\n",
    "\n",
    "The ***co-domain*** is a set from which the function's output values are chosen (i.e., the co-domain is a set of possible outputs). There is freedom in choosing the co-dimain because not all its members need to be outputs.\n",
    "\n",
    "A function $f$ with domain $D$ and co-domain $F$ is denoted $f : D \\to F$ and is pronounced \"a function from $D$ to $F$\" or \"a function that maps $D$ to $F$\"."
   ]
  },
  {
   "cell_type": "markdown",
   "metadata": {},
   "source": [
    "<div style=\"font-family: Arial, sans-serif; font-size: 16px; transform: scale(1, 1);\"><b>Range</b></div><br>\n",
    "\n",
    "The image of a function $f$ is called the ***range*** and it is defined as the set of images of all of the function's domain elements (i.e., the set of values of the co-domain which actually occur as function outputs)."
   ]
  },
  {
   "cell_type": "markdown",
   "metadata": {},
   "source": [
    "<div style=\"font-family: Arial, sans-serif; font-size: 16px; transform: scale(1, 1);\">\n",
    "<b>The set of all functions from one set to another</b>\n",
    "</div><br>\n",
    "\n",
    "Let $D$ and $F$ be sets. $F^D$ denotes the set of all functions from $D$ to $F$.\n",
    "\n",
    "For example, the set of functions from the set $W$ of words to the set $\\mathbb{R}$ of real numbers is denoted $\\mathbb{R}^W$.\n",
    "\n",
    "For any finite sets $D$ and $F$ it is the case that $|F^D| = |F|^{|D|}$."
   ]
  },
  {
   "cell_type": "markdown",
   "metadata": {},
   "source": [
    "<div style=\"font-family: Arial, sans-serif; font-size: 16px; transform: scale(1, 1);\">\n",
    "<b>The Identity Function</b>\n",
    "</div><br>\n",
    "\n",
    "For any domain $D$ there is a function $\\text{id}_D : D \\to D$ called the ***identity function*** for $D$ and is defined by $\\text{id}_D(d) = d$ for every $d \\in D$."
   ]
  },
  {
   "cell_type": "markdown",
   "metadata": {},
   "source": [
    "<div style=\"font-family: Arial, sans-serif; font-size: 16px; transform: scale(1, 1);\">\n",
    "<b>Function Composition</b>\n",
    "</div><br>\n",
    "\n",
    "Function composition is an operation that combines two functions and produces a new function.\n",
    "\n",
    "Let $f : A \\to B$ and $g : B \\to C$ be two functions. The function $g \\circ f$ called the composition of $g$ and $f$ is a function whose domain is $A$ and whose co-domain is $C$ defined by $(g \\circ f)(x) = g(f(x))$ for every $x \\in A$.\n",
    "\n",
    "If the image of $f$ is not contained in the domain of $g$ then $g \\circ f$ is not a legal expression.\n",
    "\n",
    "For example\n",
    "\n",
    "$\n",
    "\\begin{aligned}\n",
    "        f &: \\mathbb{R} \\to \\mathbb{R} & f(x) &= x + 1 \\\\\n",
    "        g &: \\mathbb{R} \\to \\mathbb{R} & g(x) &= y^2 \\\\\n",
    "g \\circ f &: \\mathbb{R} \\to \\mathbb{R} & (g \\circ f)(x) &= (x + 1)^2 \\\\\n",
    "\\end  {aligned}\n",
    "$"
   ]
  },
  {
   "cell_type": "markdown",
   "metadata": {},
   "source": [
    "---"
   ]
  },
  {
   "cell_type": "markdown",
   "metadata": {},
   "source": [
    "## Some examples"
   ]
  },
  {
   "cell_type": "markdown",
   "metadata": {},
   "source": [
    "<div style=\"font-family: Arial, sans-serif; font-size: 16px; transform: scale(1, 1);\"><b>Doubling Function</b></div><br>\n",
    "\n",
    "$\n",
    "\\begin{aligned}\n",
    "D &= \\{ 1, 2, 3, \\dots \\} \\\\\n",
    "f &= \\{ (1, 2), (2, 4), (3, 6), \\dots \\} \\\\\n",
    "f &: \\mathbb{P} \\to \\mathbb{E} \\\\\n",
    "f &: \\mathbb{P} \\to \\mathbb{P} \\\\\n",
    "f &: \\mathbb{P} \\to \\mathbb{Z} \\\\\n",
    "\\end  {aligned}\n",
    "$"
   ]
  },
  {
   "cell_type": "markdown",
   "metadata": {},
   "source": [
    "<div style=\"font-family: Arial, sans-serif; font-size: 16px; transform: scale(1, 1);\"><b>Multiplication Function</b></div><br>\n",
    "\n",
    "$\n",
    "\\begin{aligned}\n",
    "D &= \\{ 1, 2, 3, \\dots \\} \\times \\{ 2 \\} = \\{ (1, 2), (2, 2), (3, 2), \\dots \\} \\\\\n",
    "f &= \\{ ((1, 2), 2), ((2, 2), 4), ((3, 2), 6), \\dots \\} \\\\\n",
    "f &: \\mathbb{P} \\times \\{ 2 \\} \\to \\mathbb{E} \\\\\n",
    "f &: \\mathbb{P} \\times \\{ 2 \\} \\to \\mathbb{P} \\\\\n",
    "f &: \\mathbb{P} \\times \\{ 2 \\} \\to \\mathbb{Z} \\\\\n",
    "\\end  {aligned}\n",
    "$\n",
    "\n",
    "$\n",
    "\\begin{aligned}\n",
    "D &= \\{ 1, 2, 3, \\dots \\} \\times \\{ 1, 2, 3, \\dots \\} = \\{ (1, 1), (1, 2), (1, 3), \\dots, (2, 1), (2, 2), (2, 3), \\dots \\} \\\\\n",
    "f &= \\{ ((1, 1), 1), ((1, 2), 2), ((1, 3), 3), \\dots, ((2, 1), 2), ((2, 2), 4), ((2, 3), 6), \\dots \\} \\\\\n",
    "f &: \\mathbb{P} \\times \\mathbb{P} \\to \\mathbb{P} \\\\\n",
    "f &: \\mathbb{P} \\times \\mathbb{P} \\to \\mathbb{Z} \\\\\n",
    "\\end  {aligned}\n",
    "$"
   ]
  },
  {
   "cell_type": "markdown",
   "metadata": {},
   "source": [
    "<div style=\"font-family: Arial, sans-serif; font-size: 16px; transform: scale(1, 1);\">\n",
    "<b>Caesar Cipher</b>\n",
    "</div><br>\n",
    "\n",
    "Let $\\Sigma = \\{ a, \\dots, z \\}$ and $0 \\le k \\lt 26$.\n",
    "\n",
    "The Caesar Cipher is just the shift cipher with $k = 3$.\n",
    "\n",
    "The process of encrypting a single character according to the shift cipher with key $k$ may be defined as the composition of the following three functions.\n",
    "\n",
    "$\n",
    "\\begin{aligned}\n",
    "\\text{Encode} &:& \\Sigma             &\\to \\{ 0, \\dots, 25 \\} &\\text{Encode}   &= \\{ (a, 0), \\dots, (z, 25) \\} \\\\\n",
    "\\text{Enc}_k  &:& \\{ 0, \\dots, 25 \\} &\\to \\{ 0, \\dots, 25 \\} &\\text{Enc}_k(x) &= (x + k) \\mod 26 \\\\\n",
    "\\text{Decode} &:& \\{ 0, \\dots, 25 \\} &\\to \\Sigma             &\\text{Decode}   &= \\{ (0, a), \\dots, (25, z) \\} \\\\\n",
    "\\text{Decode} \\circ \\text{Enc}_k \\circ \\text{Encode} &:& \\Sigma &\\to \\Sigma \\\\\n",
    "\\end{aligned}\n",
    "$"
   ]
  },
  {
   "cell_type": "markdown",
   "metadata": {},
   "source": [
    "Let $p = p_1 \\dots p_x$ be a string of arbitrary length $x \\in \\mathbb{P}$.\n",
    "\n",
    "$\n",
    "\\begin{aligned}\n",
    "\\text{Encode} &:& p &= p_1 \\dots p_x &\\to&& m &= m_1 \\dots m_x \\\\\n",
    "\\text{Enc}_k  &:& m &= m_1 \\dots m_x &\\to&& c &= c_1 \\dots c_x \\\\\n",
    "\\text{Decode} &:& c &= c_1 \\dots c_x &\\to&& p &= p_1 \\dots p_x \\\\\n",
    "\\text{Decode} \\circ (\\text{Enc}_k \\circ \\text{Encode}) &:& p &= p_1 \\dots p_x &\\to&& p &= p_1 \\dots p_x \\\\\n",
    "\\end{aligned}\n",
    "$\n",
    "\n",
    "$\\text{Enc}_k(m_1 \\dots m_x) = c_1 \\dots c_x \\,\\,\\text{where}\\,\\, c_i = (m_i + k) \\mod 26$"
   ]
  },
  {
   "cell_type": "markdown",
   "metadata": {},
   "source": [
    "---"
   ]
  },
  {
   "cell_type": "markdown",
   "metadata": {},
   "source": [
    "#### Properties of function composition"
   ]
  },
  {
   "cell_type": "markdown",
   "metadata": {},
   "source": [
    "##### Associativity of function composition"
   ]
  },
  {
   "cell_type": "markdown",
   "metadata": {},
   "source": [
    "Let $f,g,h$ be functions.\n",
    "\n",
    "$\n",
    "h\\circ(g\\circ f)=(h\\circ g)\\circ f\n",
    "$\n",
    "\n",
    "if the compositions are legal."
   ]
  },
  {
   "cell_type": "markdown",
   "metadata": {},
   "source": [
    "Proof\n",
    "\n",
    "Let $x$ be any member of the domain of $f$.\n",
    "\n",
    "$\n",
    "\\begin{aligned}\n",
    "(h\\circ(g\\circ f))(x)\n",
    "&=h((g\\circ f)(x))\\\\\n",
    "&=h(g(f(x)))\\\\\n",
    "&=(h\\circ g)(f(x))\\\\\n",
    "&=((h\\circ g)\\circ f)(x)\\\\\n",
    "\\end{aligned}\\\\\n",
    "\\blacksquare\n",
    "$"
   ]
  },
  {
   "cell_type": "markdown",
   "metadata": {},
   "source": [
    "Associativity of function composition means that parentheses in composition expressions aren't necessary.\n",
    "\n",
    "$h\\circ(g\\circ f)=(h\\circ g)\\circ f=h\\circ g\\circ f$"
   ]
  },
  {
   "cell_type": "markdown",
   "metadata": {},
   "source": [
    "---"
   ]
  },
  {
   "cell_type": "markdown",
   "metadata": {},
   "source": [
    "### Inverse Function"
   ]
  },
  {
   "cell_type": "markdown",
   "metadata": {},
   "source": [
    "Let $f,g$ be functions.\n",
    "\n",
    "$f$ and $g$ are called functional inverses of each other if both $f\\circ g$ is defined and is the identity function on the domain of $g$ and $g\\circ f$ is defined and is the identity function on the domain of $f$.\n",
    "\n",
    "Not every function has an inverse. A function that has an inverse is called invertible."
   ]
  },
  {
   "cell_type": "markdown",
   "metadata": {},
   "source": [
    "#### Example of Inverse Function: Caesar Cipher"
   ]
  },
  {
   "cell_type": "markdown",
   "metadata": {},
   "source": [
    "$\n",
    "\\begin{aligned}\n",
    "h\\circ f&:\\{a,...,z\\}\\rightarrow\\{a,...,z\\}=\\text{id}_{\\{a,...,z\\}}\\\\\n",
    "f\\circ h&:\\{0,...,25\\}\\rightarrow\\{0,...,25\\}=\\text{id}_{\\{0,...,25\\}}\\\\\n",
    "\\end{aligned}\n",
    "$"
   ]
  },
  {
   "cell_type": "markdown",
   "metadata": {},
   "source": [
    "---"
   ]
  },
  {
   "cell_type": "markdown",
   "metadata": {},
   "source": [
    "### Injection (one-to-one)"
   ]
  },
  {
   "cell_type": "markdown",
   "metadata": {},
   "source": [
    "Let $f:D\\rightarrow F$ be a function.\n",
    "\n",
    "$f$ is one-to-one if for every $x,y\\in D$, $f(x)=f(y)\\implies x=y$."
   ]
  },
  {
   "cell_type": "markdown",
   "metadata": {},
   "source": [
    "---"
   ]
  },
  {
   "cell_type": "markdown",
   "metadata": {},
   "source": [
    "### Lemma: an invertible function is one-to-one"
   ]
  },
  {
   "cell_type": "markdown",
   "metadata": {},
   "source": [
    "Lemma\n",
    "\n",
    "An invertible function is one-to-one."
   ]
  },
  {
   "cell_type": "markdown",
   "metadata": {},
   "source": [
    "Proof by Contradiction\n",
    "\n",
    "Suppose $f$ is not one-to-one.\n",
    "\n",
    "Let $x_1,x_2$ be distinct elements of the domain such that $f(x_1)=f(x_2)$.\n",
    "\n",
    "Let $y=f(x_1)$.\n",
    "\n",
    "Assume $f$ is invertible.\n",
    "\n",
    "Then $f^{-1}(y)=x_1$ and $f^{-1}(y)=x_2$.\n",
    "\n",
    "But both cannot be true.\n",
    "\n",
    "Contradiction.\n",
    "\n",
    "$\\blacksquare$"
   ]
  },
  {
   "cell_type": "markdown",
   "metadata": {},
   "source": [
    "---"
   ]
  },
  {
   "cell_type": "markdown",
   "metadata": {},
   "source": [
    "### Surjection (onto)"
   ]
  },
  {
   "cell_type": "markdown",
   "metadata": {},
   "source": [
    "Let $f:D\\rightarrow F$ be a function.\n",
    "\n",
    "$f$ is onto if for every $z\\in F$, there exists $x\\in D$ such that $f(x)=z$."
   ]
  },
  {
   "cell_type": "markdown",
   "metadata": {},
   "source": [
    "---"
   ]
  },
  {
   "cell_type": "markdown",
   "metadata": {},
   "source": [
    "### Lemma: an invertible function is onto"
   ]
  },
  {
   "cell_type": "markdown",
   "metadata": {},
   "source": [
    "Lemma\n",
    "\n",
    "An invertible function is onto."
   ]
  },
  {
   "cell_type": "markdown",
   "metadata": {},
   "source": [
    "Proof by Contradiction\n",
    "\n",
    "Suppose $f$ is not onto.\n",
    "\n",
    "Let $\\hat{y}$ be an element of the codomain such that $\\hat{y}$ is not the image of any domain element.\n",
    "\n",
    "Assume $f$ is invertible.\n",
    "\n",
    "Then $\\hat{y}$ has an image $\\hat{x}$ under $f^{-1}$.\n",
    "\n",
    "But the definition of inverse implies that $f(\\hat{x})=\\hat{y}$.\n",
    "\n",
    "Contradiction.\n",
    "\n",
    "$\\blacksquare$"
   ]
  },
  {
   "cell_type": "markdown",
   "metadata": {},
   "source": [
    "---"
   ]
  },
  {
   "cell_type": "markdown",
   "metadata": {},
   "source": [
    "### Bijection (one-to-one correspondence)"
   ]
  },
  {
   "cell_type": "markdown",
   "metadata": {},
   "source": [
    "A function is a one-to-one correspondence iff it is both one-to-one and onto."
   ]
  },
  {
   "cell_type": "markdown",
   "metadata": {},
   "source": [
    "---"
   ]
  },
  {
   "cell_type": "markdown",
   "metadata": {},
   "source": [
    "### Function Invertibility Theorem"
   ]
  },
  {
   "cell_type": "markdown",
   "metadata": {},
   "source": [
    "A function is invertible iff it is one-to-one and onto."
   ]
  },
  {
   "cell_type": "markdown",
   "metadata": {},
   "source": [
    "First direction\n",
    "\n",
    "If a function if invertible, then it is both one-to-one and onto."
   ]
  },
  {
   "cell_type": "markdown",
   "metadata": {},
   "source": [
    "Proof\n",
    "\n",
    "By the above lemmas.\n",
    "\n",
    "$\\blacksquare$"
   ]
  },
  {
   "cell_type": "markdown",
   "metadata": {},
   "source": [
    "Second direction\n",
    "\n",
    "If a function is both one-to-one and onto, then it is invertible."
   ]
  },
  {
   "cell_type": "markdown",
   "metadata": {},
   "source": [
    "Proof\n",
    "\n",
    "Let $f$ be both one-to-one and onto.\n",
    "\n",
    "Let $g$ be a function whose domain is the codomain of $f$ such that for each element $\\hat{y}$ of the codomain of $f$, since $f$ is onto, $f$'s domain contains some element $\\hat{x}$ for which $f(\\hat{x})=\\hat{y}$, and so $g(\\hat{y})=\\hat{x}$.\n",
    "\n",
    "It is claimed that $g\\circ f$ is the identity function on $f$'s domain.\n",
    "\n",
    "Let $\\hat{x}$ be any element of $f$'s domain, and let $\\hat{y}=f(\\hat{x})$.\n",
    "\n",
    "Since $f$ is one-to-one, $\\hat{x}$ is the only element of $f$'s domain whose image under $f$ is $\\hat{y}$. So $g(\\hat{y})=\\hat{x}$.\n",
    "\n",
    "This shows that $g\\circ f$ is the identity function.\n",
    "\n",
    "It is also claimed that $f\\circ g$ is the identity function on $g$'s domain.\n",
    "\n",
    "Let $\\hat{y}$ be any element of $g$'s domain.\n",
    "\n",
    "By the definition of $g$, $f(g(\\hat{y}))=\\hat{y}$.\n",
    "\n",
    "$\\blacksquare$"
   ]
  },
  {
   "cell_type": "markdown",
   "metadata": {},
   "source": [
    "---"
   ]
  },
  {
   "cell_type": "markdown",
   "metadata": {},
   "source": [
    "### Lemma: every function has at most one functional inverse"
   ]
  },
  {
   "cell_type": "markdown",
   "metadata": {},
   "source": [
    "Lemma\n",
    "\n",
    "Every function has at most one functional inverse."
   ]
  },
  {
   "cell_type": "markdown",
   "metadata": {},
   "source": [
    "Proof\n",
    "\n",
    "Let $f:U\\rightarrow V$ be an invertible function.\n",
    "\n",
    "Let $g_1,g_2$ be inverses of $f$.\n",
    "\n",
    "Show that for every element $v\\in V,g_1(v)=g_2(v)$ so that $g_1$ and $g_2$ are the same function.\n",
    "\n",
    "Let $v\\in V$ be any element of the codomain of $f$.\n",
    "\n",
    "Since $f$ is onto, there is some element $u\\in U$ such that $v=f(u)$.\n",
    "\n",
    "By the definition of inverse, $g_1(v)=u$ and $g_2(v)=u$.\n",
    "\n",
    "Therefore, $g_1(v)=g_2(v)$.\n",
    "\n",
    "$\\blacksquare$"
   ]
  },
  {
   "cell_type": "markdown",
   "metadata": {},
   "source": [
    "---"
   ]
  },
  {
   "cell_type": "markdown",
   "metadata": {},
   "source": [
    "### Lemma: invertibility of the composition of invertible functions"
   ]
  },
  {
   "cell_type": "markdown",
   "metadata": {},
   "source": [
    "Lemma\n",
    "\n",
    "If $f$ and $g$ are invertible functions and $f\\circ g$ exists, then $f\\circ g$ is invertible and $(f\\circ g)^{-1}=g^{-1}\\circ f^{-1}$.\n",
    "\n",
    "The converse is not necessarily true."
   ]
  },
  {
   "cell_type": "markdown",
   "metadata": {},
   "source": [
    "Proof"
   ]
  },
  {
   "cell_type": "markdown",
   "metadata": {},
   "source": [
    "Converse of Lemma\n",
    "\n",
    "FALSE: If $f$ and $g$ are functions and $f\\circ g$ is invertible, then $f$ and $g$ are invertible."
   ]
  },
  {
   "cell_type": "markdown",
   "metadata": {},
   "source": [
    "---"
   ]
  },
  {
   "cell_type": "markdown",
   "metadata": {},
   "source": [
    "## Operations"
   ]
  },
  {
   "cell_type": "markdown",
   "metadata": {},
   "source": [
    "<span style=\"color: blue\">**DEFINITION**</span>\n",
    "\n",
    "> Let $A$ be a non-empty set.  \n",
    ">  \n",
    "> A __nullary operation__ on $A$ is a constant $a \\in A$.  \n",
    "> A __unary operation__ on $A$ is a function from $A$ to $A$.  \n",
    "> A __binary operation__ on $A$ is a function from $A \\times A$ to $A$.  \n",
    "> A __ternary operation__ on $A$ is a function from $A \\times A \\times A$ to $A$.  \n",
    "> In general, an $n$ __-ary operation__ on $A$ is a function from $\\underbrace{A \\times A \\times \\dots \\times A}_{n \\,\\text{times}}$ to $A$.  \n",
    "\n",
    "$$\n",
    "f : \\underbrace{A \\times A \\times \\dots \\times A}_{n \\,\\text{times}} \\to A\n",
    "$$"
   ]
  },
  {
   "cell_type": "markdown",
   "metadata": {},
   "source": [
    "<span style=\"color: blue\">Notation: Binary Operations</span><br>\n",
    "\n",
    "__Infix notation__ is standard in integer arithmetic\n",
    "\n",
    "$$2 + 2 = 4$$\n",
    "\n",
    "__Prefix notation__ places the operation before its operands\n",
    "\n",
    "$$+ \\, 2 \\, 2 = 4$$\n",
    "\n",
    "__Function notation__ is a special form of prefix notation\n",
    "\n",
    "$$+(2, 2) \\,\\, \\text{or} \\,\\, \\text{add}(2, 2)$$"
   ]
  },
  {
   "cell_type": "markdown",
   "metadata": {},
   "source": [
    "---"
   ]
  },
  {
   "cell_type": "markdown",
   "metadata": {},
   "source": [
    "### Operations, Functions, Computations, Procedures"
   ]
  },
  {
   "cell_type": "markdown",
   "metadata": {},
   "source": [
    "#### Procedures"
   ]
  },
  {
   "cell_type": "markdown",
   "metadata": {},
   "source": [
    "A procedure is a precise description of a computation.\n",
    "\n",
    "A procedure accepts inputs called arguments and produces an output called the return value."
   ]
  },
  {
   "cell_type": "code",
   "execution_count": null,
   "metadata": {},
   "outputs": [],
   "source": [
    "def mul (p : float,\n",
    "         q : float) -> float:\n",
    "  return p * q"
   ]
  },
  {
   "cell_type": "markdown",
   "metadata": {},
   "source": [
    "#### Computations"
   ]
  },
  {
   "cell_type": "markdown",
   "metadata": {},
   "source": [
    "A computational problem is an input-output specification that a procedure might be required to satisfy."
   ]
  },
  {
   "cell_type": "markdown",
   "metadata": {},
   "source": [
    "[Example]\n",
    "\n",
    "input: a pair $(p,q)$ of integers greater than $1$\n",
    "\n",
    "output: the product $pq$"
   ]
  },
  {
   "cell_type": "markdown",
   "metadata": {},
   "source": [
    "[Example]\n",
    "\n",
    "input: an integer $m$ greater than $1$\n",
    "\n",
    "output: a pair $(p,q)$ of integers whose product is $m$"
   ]
  },
  {
   "cell_type": "markdown",
   "metadata": {},
   "source": [
    "#### Operations vs Functions vs Computations vs Procedures"
   ]
  },
  {
   "cell_type": "markdown",
   "metadata": {},
   "source": [
    "Unlike a procedure, a function or computational problem does not specify how to compute the output from the input. There are often many different procedures that satisfy the same input-output specification, or that implement the same function."
   ]
  },
  {
   "cell_type": "markdown",
   "metadata": {},
   "source": [
    "[Example]\n",
    "\n",
    "Integer Multiplication\n",
    "* long multiplication\n",
    "* Karatsuba algorithm (used by Python for long-integer multiplication)\n",
    "* Schönhage-Strassen algorithm (uses the FFT)\n",
    "* Fürer algorithm"
   ]
  },
  {
   "cell_type": "markdown",
   "metadata": {},
   "source": [
    "Sometimes the same procedure can be used for different functions."
   ]
  },
  {
   "cell_type": "markdown",
   "metadata": {},
   "source": [
    "[Example]\n",
    "\n",
    "Python procedure `mul`\n",
    "* multiplication of negative integers\n",
    "* multiplication of numbers that are not integers"
   ]
  },
  {
   "cell_type": "markdown",
   "metadata": {},
   "source": [
    "Unlike a function, a computational problem need not specify a unique output for every input."
   ]
  },
  {
   "cell_type": "markdown",
   "metadata": {},
   "source": [
    "For each function $f$, there is a corresponding computational problem.\n",
    "\n",
    "[FORWARD PROBLEM]\n",
    "\n",
    "Given an element $a$ of $f$'s domain, compute $f(a)$, the image of $a$ under $f$.\n",
    "\n",
    "[BACKWARD PROBLEM]\n",
    "\n",
    "Given an element $r$ of the codomain of the function, compute any preimage (or report that none exists)."
   ]
  },
  {
   "cell_type": "markdown",
   "metadata": {},
   "source": [
    "---"
   ]
  },
  {
   "cell_type": "markdown",
   "metadata": {},
   "source": [
    "### Theorem\n",
    "\n",
    "Let $A$ be a nonempty set and let $\\mathscr{F}$ be the set of all bijections $A \\rightarrow A$.<br>\n",
    "The tuple $(\\mathscr{F}, \\circ)$ where $\\circ$ is function composition is a structure such that<br>\n",
    "1. $\\circ$ is associative\n",
    "2. the identity function $I_A$ is the identity element\n",
    "3. every element in $\\mathscr{F}$ has an inverse $f^{-1}$"
   ]
  },
  {
   "cell_type": "markdown",
   "metadata": {},
   "source": [
    "__Proof__<br>\n",
    "<span style=\"color: red;\">\n",
    "$\\mathscr{F}$ is closed under $\\circ$ (proved elsewhere).<br>\n",
    "$\\circ$ is associative on $\\mathscr{F}$ (proved elsewhere).<br>\n",
    "$I_A$ is the identity element (proved elsewhere).<br>\n",
    "If $f \\in \\mathscr{F}$, then $f^{-1} \\in \\mathscr{F}$ (proved elsewhere).<br>\n",
    "$f^{-1}$ is the inverse of $f$ (proved elsewhere)<br>\n",
    "</span>"
   ]
  },
  {
   "cell_type": "markdown",
   "metadata": {},
   "source": [
    "---"
   ]
  }
 ],
 "metadata": {
  "language_info": {
   "name": "python"
  },
  "orig_nbformat": 4
 },
 "nbformat": 4,
 "nbformat_minor": 2
}
