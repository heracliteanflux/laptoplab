{
 "cells": [
  {
   "cell_type": "markdown",
   "metadata": {},
   "source": [
    "# Floor and Ceiling"
   ]
  },
  {
   "cell_type": "markdown",
   "metadata": {},
   "source": [
    "---"
   ]
  },
  {
   "cell_type": "markdown",
   "metadata": {},
   "source": [
    "## Contents\n",
    "```{contents}\n",
    "```"
   ]
  },
  {
   "cell_type": "markdown",
   "metadata": {},
   "source": [
    "---"
   ]
  },
  {
   "cell_type": "markdown",
   "metadata": {},
   "source": [
    "## Definition"
   ]
  },
  {
   "cell_type": "markdown",
   "metadata": {},
   "source": [
    "The floor and ceiling functions are defined for all real numbers.\n",
    "\n",
    "For real numbers $\\alpha$ the floor function $\\lfloor \\alpha \\rfloor$ is the largest integer not exceeding $\\alpha$.\n",
    "\n",
    "For real numbers $\\alpha$ the ceiling function $\\lceil \\alpha \\rceil$ is the smallest integer $u$ s.t. $a \\le u$.\n",
    "\n",
    "The fractional part of $\\alpha$ is the difference $\\alpha - \\lfloor \\alpha \\rfloor$ and is denoted $\\{ \\alpha \\}$."
   ]
  },
  {
   "cell_type": "markdown",
   "metadata": {},
   "source": [
    "__EXAMPLE__\n",
    "\n",
    "$\n",
    "\\begin{aligned}\n",
    "\\lfloor \\pi \\rfloor &= 3 \\\\\n",
    "\\lceil \\pi \\rceil &= 4 \\\\\n",
    "\\lfloor \\sqrt{2} \\rfloor &= 1 \\\\\n",
    "\\lfloor -\\sqrt{2} \\rfloor &= -2 \\\\\n",
    "\\lceil -\\sqrt{2} \\rceil &= -1 \\\\\n",
    "\\end  {aligned}\n",
    "$"
   ]
  },
  {
   "cell_type": "markdown",
   "metadata": {},
   "source": [
    "## Properties"
   ]
  },
  {
   "cell_type": "markdown",
   "metadata": {},
   "source": [
    "1\\. $\\forall \\alpha \\in \\mathbb{R} \\quad 0 \\le \\alpha - \\lfloor \\alpha \\rfloor \\lt 1$\n",
    "\n",
    "2\\. $\\forall \\alpha \\in \\mathbb{R}, k \\in \\mathbb{Z} \\quad \\lfloor \\alpha + k \\rfloor = \\lfloor \\alpha \\rfloor + k$\n",
    "\n",
    "3\\. $\\forall \\alpha \\in \\mathbb{R}, n \\in \\mathbb{N} \\quad \\lfloor \\alpha / n \\rfloor = \\lfloor \\lfloor \\alpha \\rfloor / n \\rfloor$\n",
    "\n",
    "4\\. $\\forall \\alpha, \\beta \\in \\mathbb{R} \\quad \\lfloor \\alpha \\rfloor + \\lfloor \\beta \\rfloor \\le \\lfloor \\alpha + \\beta \\rfloor \\le \\lfloor \\alpha \\rfloor + \\lfloor \\beta \\rfloor + 1$"
   ]
  },
  {
   "cell_type": "markdown",
   "metadata": {},
   "source": [
    "### Proof by contradiction of property 1"
   ]
  },
  {
   "cell_type": "markdown",
   "metadata": {},
   "source": [
    "If $\\alpha - \\lfloor \\alpha \\rfloor \\lt 0$ then $\\alpha \\lt \\lfloor \\alpha \\rfloor$ which contradicts the definition. Thus $\\alpha - \\lfloor \\alpha \\rfloor \\ge 0 \\iff \\alpha \\ge \\lfloor \\alpha \\rfloor$.\n",
    "\n",
    "If $1 \\le \\alpha - \\lfloor \\alpha \\rfloor$ then $1 + \\lfloor \\alpha \\rfloor \\le \\alpha$ which contradicts the definition. (\"One more than the largest integer not exceeding $\\alpha$ does not exceed $\\alpha$.\") Thus $1 \\gt \\alpha - \\lfloor \\alpha \\rfloor \\iff 1 + \\lfloor \\alpha \\rfloor \\gt \\alpha \\iff \\lfloor \\alpha \\rfloor \\gt \\alpha - 1$.\n",
    "\n",
    "This shows that $\\lfloor \\alpha \\rfloor$ is unique since $\\alpha \\ge \\lfloor \\alpha \\rfloor \\gt \\alpha - 1$.\n",
    "\n",
    "$\\blacksquare$"
   ]
  },
  {
   "cell_type": "markdown",
   "metadata": {},
   "source": [
    "### Proof of property 2"
   ]
  },
  {
   "cell_type": "markdown",
   "metadata": {},
   "source": [
    "Property 1 tells us that $\\alpha = \\lfloor \\alpha \\rfloor + \\theta$ for some $\\theta$ with $0 \\le \\theta \\lt 1$.\n",
    "\n",
    "$\n",
    "\\begin{aligned}\n",
    "\\alpha &= \\lfloor \\alpha \\rfloor + \\theta \\\\\n",
    "\\alpha \\textcolor{yellow}{+ k} &= \\lfloor \\alpha \\rfloor + \\theta \\textcolor{yellow}{+ k} \\\\\n",
    "\\theta &= \\alpha + k - \\lfloor \\alpha \\rfloor - k \\\\\n",
    "\\theta &= \\alpha + k - (\\lfloor \\alpha \\rfloor + k) \\\\\n",
    "\\end  {aligned}\n",
    "$\n",
    "\n",
    "Since there is only one integer $I$ with $0 \\le (\\alpha + k) - I \\lt 1$ and $I = \\lfloor \\alpha + k \\rfloor$ it must be the case that $\\lfloor \\alpha + k \\rfloor = \\lfloor \\alpha \\rfloor + k$.\n",
    "\n",
    "$\\blacksquare$"
   ]
  },
  {
   "cell_type": "markdown",
   "metadata": {},
   "source": [
    "### Proof of property 3"
   ]
  },
  {
   "cell_type": "markdown",
   "metadata": {},
   "source": [
    "$\n",
    "\\begin{aligned}\n",
    "\\theta &= \\alpha / n - \\lfloor \\alpha / n \\rfloor && \\text{satisfies } 0 \\le \\theta \\lt 1 \\text{ according to property 1} \\\\\n",
    "n \\theta &= \\alpha - n \\lfloor \\alpha / n \\rfloor && \\text{multiply by } n \\\\\n",
    "\\alpha &= n \\lfloor \\alpha / n \\rfloor + n \\theta && \\text{rearrange terms} \\\\\n",
    "\\lfloor \\alpha \\rfloor &= \\lfloor n \\lfloor \\alpha / n \\rfloor + n \\theta \\rfloor && \\text{apply the floor function, where } \\lfloor n \\lfloor \\alpha / n \\rfloor \\in \\mathbb{Z} \\text{ and } n \\theta \\in \\mathbb{R} \\\\\n",
    "\\lfloor \\alpha \\rfloor &= n \\lfloor \\alpha / n \\rfloor + \\lfloor n \\theta \\rfloor && \\text{according to property 2} \\\\\n",
    "\\textcolor{lightgreen}{\\lfloor \\alpha \\rfloor / n} &= \\textcolor{green}{\\lfloor \\alpha / n \\rfloor + \\lfloor n \\theta \\rfloor / n} && \\text{divide by } n \\\\\n",
    "\\end  {aligned}\n",
    "$\n",
    "\n",
    "$\n",
    "\\begin{aligned}\n",
    "0 &\\le \\theta                      &&\\lt 1 \\\\\n",
    "0 &\\le n\\theta                     &&\\lt n && \\text{multiply by } n \\\\\n",
    "0 &\\le \\lfloor n\\theta \\rfloor     &&\\lt n && \\text{apply the floor function} \\\\\n",
    "0 &\\le \\lfloor n\\theta \\rfloor / n &&\\lt 1 && \\text{divide by } n \\\\\n",
    "\\lfloor \\alpha / n \\rfloor &\\le \\textcolor{green}{\\lfloor \\alpha / n \\rfloor + \\lfloor n\\theta \\rfloor / n} &&\\lt \\lfloor \\alpha / n \\rfloor + 1 && \\text{add } \\lfloor \\alpha / n \\rfloor \\\\\n",
    "\\lfloor \\alpha / n \\rfloor &\\le \\textcolor{lightgreen}{\\lfloor \\alpha \\rfloor / n} &&\\lt \\lfloor \\alpha / n \\rfloor + 1 \\\\\n",
    "\\lfloor \\lfloor \\alpha / n \\rfloor \\rfloor &= \\lfloor \\lfloor \\alpha \\rfloor / n \\rfloor && && \\text{apply the floor function} \\\\\n",
    "\\lfloor \\alpha / n \\rfloor &= \\lfloor \\lfloor \\alpha \\rfloor / n \\rfloor \\\\\n",
    "\\end  {aligned}\n",
    "$\n",
    "\n",
    "$\\blacksquare$"
   ]
  },
  {
   "cell_type": "markdown",
   "metadata": {},
   "source": [
    "### Proof of property 4"
   ]
  },
  {
   "cell_type": "markdown",
   "metadata": {},
   "source": [
    "Let $\\alpha = \\lfloor \\alpha \\rfloor + \\theta$ and $\\beta = \\lfloor \\beta \\rfloor + \\phi$ where $0 \\le \\theta, \\phi \\lt 1$.\n",
    "\n",
    "$\n",
    "\\begin{aligned}\n",
    "\\alpha + \\beta &= \\lfloor \\alpha \\rfloor + \\lfloor \\beta \\rfloor + \\theta + \\phi \\\\\n",
    "\\lfloor \\alpha + \\beta \\rfloor &= \\lfloor \\lfloor \\alpha \\rfloor + \\lfloor \\beta \\rfloor + \\theta + \\phi \\rfloor && \\text{apply the floor function, where } \\lfloor \\alpha \\rfloor + \\lfloor \\beta \\rfloor \\in \\mathbb{Z} \\text{ and } \\theta + \\phi \\in \\mathbb{R} \\\\\n",
    "\\lfloor \\alpha + \\beta \\rfloor &= \\lfloor \\alpha \\rfloor + \\lfloor \\beta \\rfloor + \\lfloor \\theta + \\phi \\rfloor && \\text{according to property 2} \\\\\n",
    "\\end  {aligned}\n",
    "$\n",
    "\n",
    "$\n",
    "\\begin{aligned}\n",
    "0 &\\le \\theta + \\phi                 &&\\lt 2 \\\\\n",
    "0 &\\le \\lfloor \\theta + \\phi \\rfloor &&\\le 1 && \\text{apply the floor function} \\\\\n",
    "\\lfloor \\alpha \\rfloor + \\lfloor \\beta \\rfloor &\\le \\lfloor \\alpha \\rfloor + \\lfloor \\beta \\rfloor + \\lfloor \\theta + \\phi \\rfloor &&\\le \\lfloor \\alpha \\rfloor + \\lfloor \\beta \\rfloor + 1 && \\text{add } \\lfloor \\alpha \\rfloor + \\lfloor \\beta \\rfloor \\\\\n",
    "\\lfloor \\alpha \\rfloor + \\lfloor \\beta \\rfloor &\\le \\lfloor \\alpha + \\beta \\rfloor &&\\le \\lfloor \\alpha \\rfloor + \\lfloor \\beta \\rfloor + 1 \\\\\n",
    "\\end  {aligned}\n",
    "$\n",
    "\n",
    "$\\blacksquare$"
   ]
  },
  {
   "cell_type": "markdown",
   "metadata": {},
   "source": [
    "---"
   ]
  },
  {
   "cell_type": "markdown",
   "metadata": {},
   "source": [
    "## Acknowledgements"
   ]
  },
  {
   "cell_type": "markdown",
   "metadata": {},
   "source": [
    "[ [h](https://bpb-us-e1.wpmucdn.com/sites.psu.edu/dist/6/167041/files/2023/07/CENT.pdf) ] Vaughan, Robert. _A Course of Elementary Number Theory_."
   ]
  },
  {
   "cell_type": "markdown",
   "metadata": {},
   "source": [
    "---"
   ]
  }
 ],
 "metadata": {
  "language_info": {
   "name": "python"
  }
 },
 "nbformat": 4,
 "nbformat_minor": 2
}
