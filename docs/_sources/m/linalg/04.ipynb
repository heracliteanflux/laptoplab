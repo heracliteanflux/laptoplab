{
 "cells": [
  {
   "cell_type": "markdown",
   "metadata": {},
   "source": [
    "# Linear Independence"
   ]
  },
  {
   "cell_type": "markdown",
   "metadata": {},
   "source": [
    "---"
   ]
  },
  {
   "cell_type": "markdown",
   "metadata": {},
   "source": [
    "## Table of Contents\n",
    "```{contents}\n",
    "```"
   ]
  },
  {
   "cell_type": "markdown",
   "metadata": {},
   "source": [
    "---"
   ]
  },
  {
   "cell_type": "markdown",
   "metadata": {},
   "source": [
    "## Definition of Linear Independence"
   ]
  },
  {
   "cell_type": "markdown",
   "metadata": {},
   "source": [
    "<fieldset style=\"border: 2px solid #0096FF; border-radius: 5px; display: inline-block; margin: 10px; padding: 0 20px 0 20px;\">\n",
    "<legend style=\"color: #0096FF; font-family: Romans; font-size: 18px; padding: 0 10px 0 10px;\"><b>Linear Independence</b></legend>\n",
    "\n",
    "A set of vectors\n",
    "\n",
    "$\\{ \\mathbf{v_1, v_2, \\dots, v_p} \\} \\in \\mathbb{R}^n$\n",
    "\n",
    "is ***linearly independent*** if the vector equation\n",
    "\n",
    "$x_1\\mathbf{v_1} + x_2\\mathbf{v_2} + \\dots + x_p\\mathbf{v_p} = \\mathbf{0}$\n",
    "\n",
    "only admits the trivial solution $\\mathbf{x = 0}$.\n",
    "\n",
    "---\n",
    "\n",
    "On the other hand, a set of vectors\n",
    "\n",
    "$\\{ \\mathbf{v_1, v_2, \\dots, v_p} \\} \\in \\mathbb{R}^n$\n",
    "\n",
    "is ***linearly dependent*** if the vector equation\n",
    "\n",
    "$x_1\\mathbf{v_1} + x_2\\mathbf{v_2} + \\dots + x_p\\mathbf{v_p} = \\mathbf{0}$\n",
    "\n",
    "admits non trivial solutions.\n",
    "\n",
    "</fieldset>"
   ]
  },
  {
   "cell_type": "markdown",
   "metadata": {},
   "source": [
    "<div class=\"full-width\">\n",
    "\n",
    "Let there be a set of vectors $\\{ \\mathbf{v_1, v_2, \\dots, v_p} \\} \\in \\mathbb{R}^n$.\n",
    "\n",
    "If the vector equation $x_1\\mathbf{v_1} + x_2\\mathbf{v_2} + \\dots + x_p\\mathbf{v_p} = \\mathbf{0}$ admits non trivial solutions then there exist $r_1, r_2, \\dots, r_p \\in \\mathbb{R}$ not all of which are $0$ (say for example $\\textcolor{#0096FF}{r_k \\ne 0}$) such that\n",
    "\n",
    "$\n",
    "\\begin{aligned}\n",
    "r_1\\mathbf{v_1} && + && \\dots && + && r_{k - 1}\\mathbf{v_{k - 1}} && + && \\textcolor{#0096FF}{r_k}\\mathbf{v_k} && + && r_{k + 1}\\mathbf{v_{k + 1}} && + && \\dots && + && x_p\\mathbf{v_p} && = && \\mathbf{0} \\\\\n",
    "\\frac{r_1}{r_k} \\mathbf{v_1} && + && \\dots && + && \\frac{r_{k - 1}}{r_k} \\mathbf{v_{k - 1}} && + && \\textcolor{#0096FF}{1} \\mathbf{v_k} && + && \\frac{r_{k + 1}}{r_k} \\mathbf{v_{k + 1}} && + && \\dots && + && \\frac{r_p}{r_k}\\mathbf{v_p} && = && \\mathbf{0} \\\\\n",
    "-\\frac{r_1}{r_k} \\mathbf{v_1} && - && \\dots && - && \\frac{r_{k - 1}}{r_k} \\mathbf{v_{k - 1}} && && && - && \\frac{r_{k + 1}}{r_k} \\mathbf{v_{k + 1}} && - && \\dots && - && \\frac{r_p}{r_k}\\mathbf{v_p} && = && \\mathbf{v_k} \\\\\n",
    "\\end  {aligned}\n",
    "$\n",
    "\n",
    "Therefore, $\\mathbf{v_k} \\in \\text{span}\\{ \\mathbf{v_1, \\dots, v_{k - 1}, v_{k + 1}, \\dots, v_p} \\}$ and so\n",
    "\n",
    "If a set of vectors $\\{ \\mathbf{v_1, v_2, \\dots, v_p} \\} \\in \\mathbb{R}^n$ is linearly dependent then (at least) one of its vectors $\\mathbf{v_k}$ can be written as a linear combination of the remaining vectors $\\mathbf{v_1, \\dots, v_{k - 1}, v_{k + 1}, \\dots, v_p}$.\n",
    "\n",
    "</div>"
   ]
  },
  {
   "cell_type": "markdown",
   "metadata": {},
   "source": [
    "<div class=\"full-width\">\n",
    "\n",
    "Conversely, let there be a set of vectors $\\{ \\mathbf{v_1, v_2, \\dots, v_p} \\} \\in \\mathbb{R}^n$ and let it be the case that for some $c_1, c_2, \\dots, c_p \\in \\mathbb{R}$ one of the vectors $\\mathbf{v_k}$ be a linear combination of the remaining vectors\n",
    "\n",
    "$\n",
    "\\begin{aligned}\n",
    "c_1\\mathbf{v_1} && + && \\dots && + && c_{k - 1}\\mathbf{v_{k - 1}} &&  && && + && c_{k + 1}\\mathbf{v_{k + 1}} && + && \\dots && + && c_p\\mathbf{v_p} && = && \\mathbf{v_k} \\\\\n",
    "c_1\\mathbf{v_1} && + && \\dots && + && c_{k - 1}\\mathbf{v_{k - 1}} && + && (-1)\\mathbf{v_k} && + && c_{k + 1}\\mathbf{v_{k + 1}} && + && \\dots && + && c_p\\mathbf{v_p} && = && \\mathbf{0} \\\\\n",
    "\\end  {aligned}\n",
    "$\n",
    "\n",
    "The $p$-tuple $(c_1, \\dots, c_{k - 1}, -1, c_{k + 1}, \\dots, c_p)$ is a non trivial solution of the equation $c_1\\mathbf{v_1} + c_2\\mathbf{v_2} + \\dots + c_p\\mathbf{v_p} = \\mathbf{0}$ and so\n",
    "\n",
    "the set of vectors $\\{ \\mathbf{v_1, v_2, \\dots, v_p} \\} \\in \\mathbb{R}^n$ is linearly dependent.\n",
    "\n",
    "In other words, if the vector $\\mathbf{v_k} \\in \\text{span}\\{ \\mathbf{v_1, \\dots, v_{k - 1}, v_{k + 1}, \\dots, v_p} \\}$ then the set of vectors $\\{ \\mathbf{v_1, v_2, \\dots, v_p} \\}$ is linearly dependent.\n",
    "\n",
    "</div>"
   ]
  },
  {
   "cell_type": "markdown",
   "metadata": {},
   "source": [
    "---"
   ]
  },
  {
   "cell_type": "markdown",
   "metadata": {},
   "source": [
    "## Theorem on Linear Independence"
   ]
  },
  {
   "cell_type": "markdown",
   "metadata": {},
   "source": [
    "<fieldset style=\"border: 2px solid #0096FF; border-radius: 5px; display: inline-block; margin: 10px; padding: 0 20px 0 20px;\">\n",
    "<legend style=\"color: #0096FF; font-family: Romans; font-size: 18px; padding: 0 10px 0 10px;\"><b>Theorem</b></legend>\n",
    "\n",
    "A set of vectors in $\\mathbb{R}^n$ is linearly dependent iff at least one vector of the set can be written as a linear combination of the other vectors of the set.\n",
    "\n",
    "A set of vectors in $\\mathbb{R}^n$ is linearly independent iff no vector of the set can be written as a linear combination of the other vectors of the set.\n",
    "\n",
    "</fieldset>"
   ]
  },
  {
   "cell_type": "markdown",
   "metadata": {},
   "source": [
    "---"
   ]
  },
  {
   "cell_type": "markdown",
   "metadata": {},
   "source": [
    "## In practice"
   ]
  },
  {
   "cell_type": "markdown",
   "metadata": {},
   "source": [
    "### Independence"
   ]
  },
  {
   "cell_type": "markdown",
   "metadata": {},
   "source": [
    "<fieldset style=\"border: 2px solid #FFC300; border-radius: 5px; display: inline-block; margin: 10px; padding: 20px 20px 20px 20px;\">\n",
    "\n",
    "A set of vectors\n",
    "\n",
    "$\\{ \\mathbf{v_1, v_2, \\dots, v_p} \\} \\in \\mathbb{R}^n$\n",
    "\n",
    "is linearly **independent** if the vector equation\n",
    "\n",
    "$x_1 \\mathbf{v_1} + x_2 \\mathbf{v_2} + \\dots + x_p \\mathbf{v_p} = \\mathbf{0}$\n",
    "\n",
    "**admits only the trivial solution** $\\mathbf{x = 0}$.\n",
    "\n",
    "</fieldset>"
   ]
  },
  {
   "cell_type": "markdown",
   "metadata": {},
   "source": [
    "<fieldset style=\"border: 2px solid #C70039; border-radius: 5px; display: inline-block; margin: 10px; padding: 20px 20px 20px 20px;\">\n",
    "\n",
    "This occurs when the homogeneous linear system\n",
    "\n",
    "$\n",
    "\\underset{\\mathbf{A}}{\n",
    "\\begin{bmatrix}\n",
    "  \\vert & \\vert &       & \\vert \\\\\n",
    "  \\vert & \\vert &       & \\vert \\\\\n",
    "  \\mathbf{v_1} & \\mathbf{v_2} & \\dots & \\mathbf{v_p} \\\\\n",
    "  \\vert & \\vert &       & \\vert \\\\\n",
    "  \\vert & \\vert &       & \\vert \\\\\n",
    "\\end  {bmatrix}\n",
    "}\n",
    "\\underset{\\mathbf{x}}{\n",
    "\\begin{bmatrix}\n",
    "  x_1 \\\\ x_2 \\\\ \\vdots \\\\ x_p \\\\\n",
    "\\end  {bmatrix}\n",
    "} =\n",
    "\\underset{\\mathbf{0}}{\n",
    "\\begin{bmatrix}\n",
    "  0 \\\\ 0 \\\\ \\vdots \\\\ 0 \\\\\n",
    "\\end  {bmatrix}\n",
    "}\n",
    "$\n",
    "\n",
    "has no free variable (when every column of its coefficient matrix contains a pivot position).\n",
    "\n",
    "</fieldset>"
   ]
  },
  {
   "cell_type": "markdown",
   "metadata": {},
   "source": [
    "<span style=\"color: #FFC300;\">\n",
    "\n",
    "The columns of a matrix $\\mathbf{A}$ are linearly ***independent*** iff the matrix equation $\\mathbf{Ax = 0}$ admits only the trivial solution $\\mathbf{x = 0}$.\n",
    "</span>\n",
    "\n",
    "<span style=\"color: #C70039;\">\n",
    "\n",
    "The columns of a matrix $\\mathbf{A}$ are linearly ***independent*** iff the matrix $\\mathbf{A}$ is row-equivalent to a row echelon matrix with a pivot in each column.\n",
    "</span>"
   ]
  },
  {
   "cell_type": "markdown",
   "metadata": {},
   "source": [
    "### Dependence"
   ]
  },
  {
   "cell_type": "markdown",
   "metadata": {},
   "source": [
    "<fieldset style=\"border: 2px solid #FFC300; border-radius: 5px; display: inline-block; margin: 10px; padding: 20px 20px 20px 20px;\">\n",
    "\n",
    "A set of vectors\n",
    "\n",
    "$\\{ \\mathbf{v_1, v_2, \\dots, v_p} \\} \\in \\mathbb{R}^n$\n",
    "\n",
    "is linearly **dependent** if the vector equation\n",
    "\n",
    "$x_1 \\mathbf{v_1} + x_2 \\mathbf{v_2} + \\dots + x_p \\mathbf{v_p} = \\mathbf{0}$\n",
    "\n",
    "**admits non trivial solutions**.\n",
    "\n",
    "</fieldset>"
   ]
  },
  {
   "cell_type": "markdown",
   "metadata": {},
   "source": [
    "<fieldset style=\"border: 2px solid #C70039; border-radius: 5px; display: inline-block; margin: 10px; padding: 20px 20px 20px 20px;\">\n",
    "\n",
    "This occurs when the homogeneous linear system\n",
    "\n",
    "$\n",
    "\\underset{\\mathbf{A}}{\n",
    "\\begin{bmatrix}\n",
    "  \\vert & \\vert &       & \\vert \\\\\n",
    "  \\vert & \\vert &       & \\vert \\\\\n",
    "  \\mathbf{v_1} & \\mathbf{v_2} & \\dots & \\mathbf{v_p} \\\\\n",
    "  \\vert & \\vert &       & \\vert \\\\\n",
    "  \\vert & \\vert &       & \\vert \\\\\n",
    "\\end  {bmatrix}\n",
    "}\n",
    "\\underset{\\mathbf{x}}{\n",
    "\\begin{bmatrix}\n",
    "  x_1 \\\\ x_2 \\\\ \\vdots \\\\ x_p \\\\\n",
    "\\end  {bmatrix}\n",
    "} =\n",
    "\\underset{\\mathbf{0}}{\n",
    "\\begin{bmatrix}\n",
    "  0 \\\\ 0 \\\\ \\vdots \\\\ 0 \\\\\n",
    "\\end  {bmatrix}\n",
    "}\n",
    "$\n",
    "\n",
    "has at least one free variable (when at least one column of its coefficient matrix does not contain a pivot position).\n",
    "\n",
    "</fieldset>"
   ]
  },
  {
   "cell_type": "markdown",
   "metadata": {},
   "source": [
    "<span style=\"color: #FFC300;\">\n",
    "\n",
    "The columns of a matrix $\\mathbf{A}$ are linearly ***dependent*** iff the matrix equation $\\mathbf{Ax = 0}$ admits non trivial solutions.\n",
    "</span>\n",
    "\n",
    "<span style=\"color: #C70039;\">\n",
    "\n",
    "The columns of a matrix $\\mathbf{A}$ are linearly ***dependent*** iff the matrix $\\mathbf{A}$ is row-equivalent to a row echelon matrix with at least one pivot-free column.\n",
    "</span>"
   ]
  },
  {
   "cell_type": "markdown",
   "metadata": {},
   "source": [
    "---"
   ]
  },
  {
   "cell_type": "markdown",
   "metadata": {},
   "source": [
    "## Examples"
   ]
  },
  {
   "cell_type": "markdown",
   "metadata": {},
   "source": [
    "### <span style=\"color: green; font-family: Romans; font-size: 18px;\"><b>Example</b></span>"
   ]
  },
  {
   "cell_type": "markdown",
   "metadata": {},
   "source": [
    "PROBLEM STATEMENT\n",
    "\n",
    "Is the following set of vectors linearly independent?\n",
    "\n",
    "$\n",
    "\\left \\{\n",
    "\\begin{bmatrix*}[r]\n",
    "   1 \\\\ 3 \\\\ 5 \\\\\n",
    "\\end  {bmatrix*},\n",
    "\\begin{bmatrix*}[r]\n",
    "   2 \\\\ 5 \\\\ 9 \\\\\n",
    "\\end  {bmatrix*},\n",
    "\\begin{bmatrix*}[r]\n",
    "  -3 \\\\ 9 \\\\ 3 \\\\\n",
    "\\end  {bmatrix*}\n",
    "\\right\\}\n",
    "$"
   ]
  },
  {
   "cell_type": "markdown",
   "metadata": {},
   "source": [
    "ROW REDUCE"
   ]
  },
  {
   "cell_type": "markdown",
   "metadata": {},
   "source": [
    "<div class=\"full-width\">\n",
    "\n",
    "$\n",
    "\\begin{bmatrix*}[r]\n",
    "  \\boxed{1} & 2 & -3 \\\\\n",
    "          3 & 5 &  9 \\\\\n",
    "          5 & 9 &  3 \\\\\n",
    "\\end  {bmatrix*}\n",
    "\\underset{r_2 \\leftarrow\\,\\,\\, r_2 + (-3)r_1}{\\rightarrow}\n",
    "\\begin{bmatrix*}[r]\n",
    "  \\boxed{1} &  2 & -3 \\\\\n",
    "          0 & -1 & 18 \\\\\n",
    "          5 &  9 &  3 \\\\\n",
    "\\end  {bmatrix*}\n",
    "\\underset{r_3 \\leftarrow\\,\\,\\, r_3 + (-5)r_1}{\\rightarrow}\n",
    "\\begin{bmatrix*}[r]\n",
    "  \\boxed{1} &          2 & -3 \\\\\n",
    "          0 & \\boxed{-1} & 18 \\\\\n",
    "          0 &         -1 & 18 \\\\\n",
    "\\end  {bmatrix*}\n",
    "$\n",
    "\n",
    "</div>"
   ]
  },
  {
   "cell_type": "markdown",
   "metadata": {},
   "source": [
    "<div class=\"full-width\">\n",
    "\n",
    "$\n",
    "\\begin{bmatrix*}[r]\n",
    "  \\boxed{1} &          2 & -3 \\\\\n",
    "          0 & \\boxed{-1} & 18 \\\\\n",
    "          0 &         -1 & 18 \\\\\n",
    "\\end  {bmatrix*}\n",
    "\\underset{r_3 \\leftarrow\\,\\,\\, r_3 + (-1)r_2}{\\rightarrow}\n",
    "\\underbrace{\n",
    "\\begin{bmatrix*}[r]\n",
    "  \\boxed{1} &          2 & -3 \\\\\n",
    "          0 & \\boxed{-1} & 18 \\\\\n",
    "          0 &          0 &  0 \\\\\n",
    "\\end  {bmatrix*}\n",
    "}_{\\textbf{row echelon}}\n",
    "\\underset{r_2 \\leftarrow\\,\\,\\, (-1)r_2}{\\rightarrow}\n",
    "\\begin{bmatrix*}[r]\n",
    "  \\boxed{1} &         2 &  -3 \\\\\n",
    "          0 & \\boxed{1} & -18 \\\\\n",
    "          0 &         0 &   0 \\\\\n",
    "\\end  {bmatrix*}\n",
    "$\n",
    "\n",
    "</div>"
   ]
  },
  {
   "cell_type": "markdown",
   "metadata": {},
   "source": [
    "The set of vectors is linearly dependent because there is at least one pivot-free column in the row echelon matrix."
   ]
  },
  {
   "cell_type": "markdown",
   "metadata": {},
   "source": [
    "<div class=\"full-width\">\n",
    "\n",
    "$\n",
    "\\begin{bmatrix*}[r]\n",
    "  \\boxed{1} &         2 &  -3 \\\\\n",
    "          0 & \\boxed{1} & -18 \\\\\n",
    "          0 &         0 &   0 \\\\\n",
    "\\end  {bmatrix*}\n",
    "\\underset{r_1 \\leftarrow\\,\\,\\, r_1 + (-2)r_2}{\\rightarrow}\n",
    "\\underbrace{\n",
    "\\begin{bmatrix*}[r]\n",
    "  \\boxed{1} &         0 &  33 \\\\\n",
    "          0 & \\boxed{1} & -18 \\\\\n",
    "          0 &         0 &   0 \\\\\n",
    "\\end  {bmatrix*}\n",
    "}_{\\textbf{reduced}}\n",
    "$\n",
    "\n",
    "</div>"
   ]
  },
  {
   "cell_type": "markdown",
   "metadata": {},
   "source": [
    "$\n",
    "\\begin{aligned}\n",
    "  x_1 + 33x_3 &= 0 && \\iff && x_1 = -33x_3 \\\\\n",
    "  x_2 - 18x_3 &= 0 && \\iff && x_2 =  18x_3 \\\\\n",
    "  & && && x_3 \\,\\,\\,\\text{free} \\\\\n",
    "\\end  {aligned}\n",
    "$"
   ]
  },
  {
   "cell_type": "markdown",
   "metadata": {},
   "source": [
    "$\n",
    "\\mathbf{x} =\n",
    "  \\begin{bmatrix*}[r] -33t \\\\ 18t \\\\ t \\\\ \\end{bmatrix*} =\n",
    "t \\begin{bmatrix*}[r] -33  \\\\ 18  \\\\ 1 \\\\ \\end{bmatrix*}\n",
    "$"
   ]
  },
  {
   "cell_type": "markdown",
   "metadata": {},
   "source": [
    "$\n",
    "\\underset{\\mathbf{A}}{\n",
    "\\begin{bmatrix*}[r]\n",
    "  1 & 2 & -3 \\\\\n",
    "  3 & 5 &  9 \\\\\n",
    "  5 & 9 &  3 \\\\\n",
    "\\end  {bmatrix*}\n",
    "}\n",
    "\\underset{\\mathbf{x}}{\n",
    "\\begin{bmatrix} x_1 \\\\ x_2 \\\\ x_3 \\\\ \\end{bmatrix}\n",
    "} =\n",
    "\\underset{\\mathbf{0}}{\n",
    "\\begin{bmatrix}   0 \\\\   0 \\\\   0 \\\\ \\end{bmatrix}\n",
    "} =\n",
    "x_1 \\begin{bmatrix*}[r]   1 \\\\   3 \\\\   5 \\\\ \\end{bmatrix*} +\n",
    "x_2 \\begin{bmatrix*}[r]   2 \\\\   5 \\\\   9 \\\\ \\end{bmatrix*} +\n",
    "x_3 \\begin{bmatrix*}[r]  -3 \\\\   9 \\\\   3 \\\\ \\end{bmatrix*} =\n",
    "-33 \\begin{bmatrix*}[r]   1 \\\\   3 \\\\   5 \\\\ \\end{bmatrix*} +\n",
    " 18 \\begin{bmatrix*}[r]   2 \\\\   5 \\\\   9 \\\\ \\end{bmatrix*} +\n",
    "  1 \\begin{bmatrix*}[r]  -3 \\\\   9 \\\\   3 \\\\ \\end{bmatrix*} \\iff\n",
    "\\underbrace{\n",
    "    \\begin{bmatrix*}[r]  -3 \\\\   9 \\\\   3 \\\\ \\end{bmatrix*} =\n",
    " 33 \\begin{bmatrix*}[r]   1 \\\\   3 \\\\   5 \\\\ \\end{bmatrix*} -\n",
    " 18 \\begin{bmatrix*}[r]   2 \\\\   5 \\\\   9 \\\\ \\end{bmatrix*}\n",
    "}_{\\mathbf{v_3} = 33\\mathbf{v_1} - 18\\mathbf{v_2}}\n",
    "$"
   ]
  },
  {
   "cell_type": "markdown",
   "metadata": {},
   "source": [
    "$\\mathbf{v_3} = 33\\mathbf{v_1} - 18\\mathbf{v_2}$"
   ]
  },
  {
   "cell_type": "markdown",
   "metadata": {},
   "source": [
    "---"
   ]
  },
  {
   "cell_type": "markdown",
   "metadata": {},
   "source": [
    "### <span style=\"color: green; font-family: Romans; font-size: 18px;\"><b>Example</b></span>"
   ]
  },
  {
   "cell_type": "markdown",
   "metadata": {},
   "source": [
    "PROBLEM STATEMENT\n",
    "\n",
    "Is the following set of vectors linearly independent?\n",
    "\n",
    "$\n",
    "\\left \\{\n",
    "\\begin{bmatrix*}[r]\n",
    "   0 \\\\ 2 \\\\  2 \\\\\n",
    "\\end  {bmatrix*},\n",
    "\\begin{bmatrix*}[r]\n",
    "   0 \\\\ 0 \\\\ -8 \\\\\n",
    "\\end  {bmatrix*},\n",
    "\\begin{bmatrix*}[r]\n",
    "  -1 \\\\ 3 \\\\  1 \\\\\n",
    "\\end  {bmatrix*}\n",
    "\\right\\}\n",
    "$"
   ]
  },
  {
   "cell_type": "markdown",
   "metadata": {},
   "source": [
    "ROW REDUCE"
   ]
  },
  {
   "cell_type": "markdown",
   "metadata": {},
   "source": [
    "<div class=\"full-width\">\n",
    "\n",
    "$\n",
    "\\begin{bmatrix*}[r]\n",
    "  \\boxed{0} &  0 & -1 \\\\\n",
    "          2 &  0 &  3 \\\\\n",
    "          2 & -8 &  1 \\\\\n",
    "\\end  {bmatrix*}\n",
    "\\underset{r_1 \\leftrightarrow\\,\\,\\, r_3}{\\rightarrow}\n",
    "\\begin{bmatrix*}[r]\n",
    "  \\boxed{2} & -8 &  1 \\\\\n",
    "          2 &  0 &  3 \\\\\n",
    "          0 &  0 & -1 \\\\\n",
    "\\end  {bmatrix*}\n",
    "\\underset{r_2 \\leftarrow\\,\\,\\, r_2 + (-1)r_1}{\\rightarrow}\n",
    "\\underbrace{\n",
    "\\begin{bmatrix*}[r]\n",
    "  \\boxed{2} &        -8 &          1 \\\\\n",
    "          0 & \\boxed{8} &          2 \\\\\n",
    "          0 &         0 & \\boxed{-1} \\\\\n",
    "\\end  {bmatrix*}\n",
    "}_{\\textbf{row echelon}}\n",
    "$\n",
    "\n",
    "</div>"
   ]
  },
  {
   "cell_type": "markdown",
   "metadata": {},
   "source": [
    "The set of vectors is linearly independent because there is no pivot-free column in the row echelon matrix."
   ]
  },
  {
   "cell_type": "markdown",
   "metadata": {},
   "source": [
    "<div class=\"full-width\">\n",
    "\n",
    "$\n",
    "\\begin{bmatrix*}[r]\n",
    "  \\boxed{2} &        -8 &          1 \\\\\n",
    "          0 & \\boxed{8} &          2 \\\\\n",
    "          0 &         0 & \\boxed{-1} \\\\\n",
    "\\end  {bmatrix*}\n",
    "\\underset{r_3 \\leftarrow\\,\\,\\, (-1)r_3}{\\rightarrow}\n",
    "\\begin{bmatrix*}[r]\n",
    "  \\boxed{2} &        -8 &         1 \\\\\n",
    "          0 & \\boxed{8} &         2 \\\\\n",
    "          0 &         0 & \\boxed{1} \\\\\n",
    "\\end  {bmatrix*}\n",
    "\\underset{r_2 \\leftarrow\\,\\,\\, r_2 + (-2)r_3}{\\rightarrow}\n",
    "\\begin{bmatrix*}[r]\n",
    "  \\boxed{2} &        -8 &         1 \\\\\n",
    "          0 & \\boxed{8} &         0 \\\\\n",
    "          0 &         0 & \\boxed{1} \\\\\n",
    "\\end  {bmatrix*}\n",
    "$\n",
    "\n",
    "</div>"
   ]
  },
  {
   "cell_type": "markdown",
   "metadata": {},
   "source": [
    "<div class=\"full-width\">\n",
    "\n",
    "$\n",
    "\\begin{bmatrix*}[r]\n",
    "  \\boxed{2} &        -8 &         1 \\\\\n",
    "          0 & \\boxed{8} &         0 \\\\\n",
    "          0 &         0 & \\boxed{1} \\\\\n",
    "\\end  {bmatrix*}\n",
    "\\underset{r_1 \\leftarrow\\,\\,\\, r_1 + (-1)r_3}{\\rightarrow}\n",
    "\\begin{bmatrix*}[r]\n",
    "  \\boxed{2} &        -8 &         0 \\\\\n",
    "          0 & \\boxed{8} &         0 \\\\\n",
    "          0 &         0 & \\boxed{1} \\\\\n",
    "\\end  {bmatrix*}\n",
    "\\underset{r_2 \\leftarrow\\,\\,\\, \\frac{1}{8} r_2}{\\rightarrow}\n",
    "\\begin{bmatrix*}[r]\n",
    "  \\boxed{2} &        -8 &         0 \\\\\n",
    "          0 & \\boxed{1} &         0 \\\\\n",
    "          0 &         0 & \\boxed{1} \\\\\n",
    "\\end  {bmatrix*}\n",
    "$\n",
    "\n",
    "</div>"
   ]
  },
  {
   "cell_type": "markdown",
   "metadata": {},
   "source": [
    "<div class=\"full-width\">\n",
    "\n",
    "$\n",
    "\\begin{bmatrix*}[r]\n",
    "  \\boxed{2} &        -8 &         0 \\\\\n",
    "          0 & \\boxed{1} &         0 \\\\\n",
    "          0 &         0 & \\boxed{1} \\\\\n",
    "\\end  {bmatrix*}\n",
    "\\underset{r_1 \\leftarrow\\,\\,\\, r_1 + 8r_2}{\\rightarrow}\n",
    "\\begin{bmatrix*}[r]\n",
    "  \\boxed{2} &         0 &         0 \\\\\n",
    "          0 & \\boxed{1} &         0 \\\\\n",
    "          0 &         0 & \\boxed{1} \\\\\n",
    "\\end  {bmatrix*}\n",
    "\\underset{r_1 \\leftarrow\\,\\,\\, \\frac{1}{2} r_1}{\\rightarrow}\n",
    "\\underbrace{\n",
    "\\begin{bmatrix*}[r]\n",
    "  \\boxed{1} &         0 &         0 \\\\\n",
    "          0 & \\boxed{1} &         0 \\\\\n",
    "          0 &         0 & \\boxed{1} \\\\\n",
    "\\end  {bmatrix*}\n",
    "}_{\\textbf{reduced}}\n",
    "$\n",
    "\n",
    "</div>"
   ]
  },
  {
   "cell_type": "markdown",
   "metadata": {},
   "source": [
    "---"
   ]
  },
  {
   "cell_type": "markdown",
   "metadata": {},
   "source": [
    "### <span style=\"color: green; font-family: Romans; font-size: 18px;\"><b>Example</b></span>"
   ]
  },
  {
   "cell_type": "markdown",
   "metadata": {},
   "source": [
    "PROBLEM STATEMENT\n",
    "\n",
    "For which values of $h$ is the following set of vectors linearly dependent?\n",
    "\n",
    "$\n",
    "\\left \\{\n",
    "\\begin{bmatrix*}[r]\n",
    "   1 \\\\ -3 \\\\ -5 \\\\\n",
    "\\end  {bmatrix*},\n",
    "\\begin{bmatrix*}[r]\n",
    "  -3 \\\\  9 \\\\ 15 \\\\\n",
    "\\end  {bmatrix*},\n",
    "\\begin{bmatrix*}[r]\n",
    "   2 \\\\ -5 \\\\  h \\\\\n",
    "\\end  {bmatrix*}\n",
    "\\right\\}\n",
    "$"
   ]
  },
  {
   "cell_type": "markdown",
   "metadata": {},
   "source": [
    "ROW REDUCE"
   ]
  },
  {
   "cell_type": "markdown",
   "metadata": {},
   "source": [
    "<div class=\"full-width\">\n",
    "\n",
    "$\n",
    "\\begin{bmatrix*}[r]\n",
    "  \\boxed{1} & -3 &  2 \\\\\n",
    "         -3 &  9 & -5 \\\\\n",
    "         -5 & 15 &  h \\\\\n",
    "\\end  {bmatrix*}\n",
    "\\underset{r_2 \\leftarrow\\,\\,\\, r_2 + 3r_1}{\\rightarrow}\n",
    "\\begin{bmatrix*}[r]\n",
    "  \\boxed{1} & -3 & 2 \\\\\n",
    "          0 &  0 & 1 \\\\\n",
    "         -5 & 15 & h \\\\\n",
    "\\end  {bmatrix*}\n",
    "\\underset{r_3 \\leftarrow\\,\\,\\, r_3 + 5r_1}{\\rightarrow}\n",
    "\\begin{bmatrix*}[r]\n",
    "  \\boxed{1} & -3 &         2 \\\\\n",
    "          0 &  0 & \\boxed{1} \\\\\n",
    "          0 &  0 &    h + 10 \\\\\n",
    "\\end  {bmatrix*}\n",
    "$\n",
    "\n",
    "</div>"
   ]
  },
  {
   "cell_type": "markdown",
   "metadata": {},
   "source": [
    "<div class=\"full-width\">\n",
    "\n",
    "$\n",
    "\\begin{bmatrix*}[r]\n",
    "  \\boxed{1} & -3 &         2 \\\\\n",
    "          0 &  0 & \\boxed{1} \\\\\n",
    "          0 &  0 &    h + 10 \\\\\n",
    "\\end  {bmatrix*}\n",
    "\\underset{r_3 \\leftarrow\\,\\,\\, r_3 + (-h - 10)r_2}{\\rightarrow}\n",
    "\\underbrace{\n",
    "\\begin{bmatrix*}[r]\n",
    "  \\boxed{1} & -3 &         2 \\\\\n",
    "          0 &  0 & \\boxed{1} \\\\\n",
    "          0 &  0 &         0 \\\\\n",
    "\\end  {bmatrix*}\n",
    "}_{\\textbf{row echelon}}\n",
    "\\underset{r_1 \\leftarrow\\,\\,\\, r_1 + (-2)r_2}{\\rightarrow}\n",
    "\\underbrace{\n",
    "\\begin{bmatrix*}[r]\n",
    "  \\boxed{1} & -3 &         0 \\\\\n",
    "          0 &  0 & \\boxed{1} \\\\\n",
    "          0 &  0 &         0 \\\\\n",
    "\\end  {bmatrix*}\n",
    "}_{\\textbf{reduced}}\n",
    "$\n",
    "\n",
    "</div>"
   ]
  },
  {
   "cell_type": "markdown",
   "metadata": {},
   "source": [
    "The set of vectors is linearly dependent for any value of $h$ because there is at least one pivot-free column in the row echelon matrix."
   ]
  },
  {
   "cell_type": "markdown",
   "metadata": {},
   "source": [
    "$\n",
    "\\begin{aligned}\n",
    "  x_1 -  3x_2 &= 0 && \\iff && x_1 = 3x_2 \\\\\n",
    "  & && && x_2 \\,\\,\\,\\text{free} \\\\\n",
    "  & && && x_3 = 0 \\\\\n",
    "\\end  {aligned}\n",
    "$"
   ]
  },
  {
   "cell_type": "markdown",
   "metadata": {},
   "source": [
    "$\n",
    "\\mathbf{x} =\n",
    "  \\begin{bmatrix*}[r] 3t \\\\ t \\\\ 0 \\\\ \\end{bmatrix*} =\n",
    "t \\begin{bmatrix*}[r] 3  \\\\ 1 \\\\ 0 \\\\ \\end{bmatrix*}\n",
    "$"
   ]
  },
  {
   "cell_type": "markdown",
   "metadata": {},
   "source": [
    "$\n",
    "\\underset{\\mathbf{A}}{\n",
    "\\begin{bmatrix*}[r]\n",
    "   1 & -3 &  2 \\\\\n",
    "  -3 &  9 & -5 \\\\\n",
    "  -5 & 15 &  h \\\\\n",
    "\\end  {bmatrix*}\n",
    "}\n",
    "\\underset{\\mathbf{x}}{\n",
    "\\begin{bmatrix} x_1 \\\\ x_2 \\\\ x_3 \\\\ \\end{bmatrix}\n",
    "} =\n",
    "\\underset{\\mathbf{0}}{\n",
    "\\begin{bmatrix}   0 \\\\   0 \\\\   0 \\\\ \\end{bmatrix}\n",
    "} =\n",
    "x_1 \\begin{bmatrix*}[r]   1 \\\\  -3 \\\\  -5 \\\\ \\end{bmatrix*} +\n",
    "x_2 \\begin{bmatrix*}[r]  -3 \\\\   9 \\\\  15 \\\\ \\end{bmatrix*} +\n",
    "x_3 \\begin{bmatrix*}[r]   2 \\\\  -5 \\\\   h \\\\ \\end{bmatrix*} =\n",
    "  3 \\begin{bmatrix*}[r]   1 \\\\  -3 \\\\  -5 \\\\ \\end{bmatrix*} +\n",
    "  1 \\begin{bmatrix*}[r]  -3 \\\\   9 \\\\  15 \\\\ \\end{bmatrix*} +\n",
    "  0 \\begin{bmatrix*}[r]   2 \\\\  -5 \\\\   h \\\\ \\end{bmatrix*} \\iff\n",
    "\\underbrace{\n",
    "    \\begin{bmatrix*}[r]  -3 \\\\   9 \\\\  15 \\\\ \\end{bmatrix*} =\n",
    "  3 \\begin{bmatrix*}[r]   1 \\\\  -3 \\\\  -5 \\\\ \\end{bmatrix*} +\n",
    "  0 \\begin{bmatrix*}[r]   2 \\\\  -5 \\\\   h \\\\ \\end{bmatrix*}\n",
    "}_{\\mathbf{v_2} = (-3)\\mathbf{v_1} + 0\\mathbf{v_3}}\n",
    "$"
   ]
  },
  {
   "cell_type": "markdown",
   "metadata": {},
   "source": [
    "$\\mathbf{v_2} = (-3)\\mathbf{v_1} + 0\\mathbf{v_3}$"
   ]
  },
  {
   "cell_type": "markdown",
   "metadata": {},
   "source": [
    "---"
   ]
  },
  {
   "cell_type": "markdown",
   "metadata": {},
   "source": [
    "### <span style=\"color: green; font-family: Romans; font-size: 18px;\"><b>Example</b></span>"
   ]
  },
  {
   "cell_type": "markdown",
   "metadata": {},
   "source": [
    "PROBLEM STATEMENT\n",
    "\n",
    "For which values of $h$ is the following set of vectors linearly dependent?\n",
    "\n",
    "$\n",
    "\\left \\{\n",
    "\\begin{bmatrix*}[r]\n",
    "   3 \\\\ -6 \\\\  1 \\\\\n",
    "\\end  {bmatrix*},\n",
    "\\begin{bmatrix*}[r]\n",
    "  -6 \\\\  4 \\\\ -3 \\\\\n",
    "\\end  {bmatrix*},\n",
    "\\begin{bmatrix*}[r]\n",
    "   9 \\\\  h \\\\  3 \\\\\n",
    "\\end  {bmatrix*}\n",
    "\\right\\}\n",
    "$"
   ]
  },
  {
   "cell_type": "markdown",
   "metadata": {},
   "source": [
    "ROW REDUCE"
   ]
  },
  {
   "cell_type": "markdown",
   "metadata": {},
   "source": [
    "<div class=\"full-width\">\n",
    "\n",
    "$\n",
    "\\begin{bmatrix*}[r]\n",
    "  \\boxed{3} & -6 & 9 \\\\\n",
    "         -6 &  4 & h \\\\\n",
    "          1 & -3 & 3 \\\\\n",
    "\\end  {bmatrix*}\n",
    "\\underset{r_2 \\leftarrow\\,\\,\\, r_2 + 2r_1}{\\rightarrow}\n",
    "\\begin{bmatrix*}[r]\n",
    "  \\boxed{3} & -6 &      9 \\\\\n",
    "          0 & -8 & h + 18 \\\\\n",
    "          1 & -3 &      3 \\\\\n",
    "\\end  {bmatrix*}\n",
    "\\underset{r_3 \\leftarrow\\,\\,\\, r_3 + (-\\frac{1}{3})r_1}{\\rightarrow}\n",
    "\\begin{bmatrix*}[r]\n",
    "  \\boxed{3} &         -6 &      9 \\\\\n",
    "          0 & \\boxed{-8} & h + 18 \\\\\n",
    "          0 &         -1 &      0 \\\\\n",
    "\\end  {bmatrix*}\n",
    "$\n",
    "\n",
    "</div>"
   ]
  },
  {
   "cell_type": "markdown",
   "metadata": {},
   "source": [
    "<div class=\"full-width\">\n",
    "\n",
    "$\n",
    "\\begin{bmatrix*}[r]\n",
    "  \\boxed{3} &         -6 &      9 \\\\\n",
    "          0 & \\boxed{-8} & h + 18 \\\\\n",
    "          0 &         -1 &      0 \\\\\n",
    "\\end  {bmatrix*}\n",
    "\\underset{r_2 \\leftrightarrow\\,\\,\\, r_3}{\\rightarrow}\n",
    "\\begin{bmatrix*}[r]\n",
    "  \\boxed{3} &         -6 &      9 \\\\\n",
    "          0 & \\boxed{-1} &      0 \\\\\n",
    "          0 &         -8 & h + 18 \\\\\n",
    "\\end  {bmatrix*}\n",
    "\\underset{r_3 \\leftarrow\\,\\,\\, r_3 + (-8)r_2}{\\rightarrow}\n",
    "\\underbrace{\n",
    "\\begin{bmatrix*}[r]\n",
    "  \\boxed{3} &         -6 &                                  9 \\\\\n",
    "          0 & \\boxed{-1} &                                  0 \\\\\n",
    "          0 &          0 & \\textcolor{yellow}{\\boxed{h + 18}} \\\\\n",
    "\\end  {bmatrix*}\n",
    "}_{\\textbf{row echelon}}\n",
    "$\n",
    "\n",
    "</div>"
   ]
  },
  {
   "cell_type": "markdown",
   "metadata": {},
   "source": [
    "<div class=\"full-width\">\n",
    "\n",
    "$\n",
    "\\begin{bmatrix*}[r]\n",
    "  \\boxed{3} &         -6 &                                  9 \\\\\n",
    "          0 & \\boxed{-1} &                                  0 \\\\\n",
    "          0 &          0 & \\textcolor{yellow}{\\boxed{h + 18}} \\\\\n",
    "\\end  {bmatrix*}\n",
    "\\underset{r_2 \\leftarrow\\,\\,\\, (-1)r_2}{\\rightarrow}\n",
    "\\begin{bmatrix*}[r]\n",
    "  \\boxed{3} &        -6 &                                  9 \\\\\n",
    "          0 & \\boxed{1} &                                  0 \\\\\n",
    "          0 &         0 & \\textcolor{yellow}{\\boxed{h + 18}} \\\\\n",
    "\\end  {bmatrix*}\n",
    "\\underset{r_1 \\leftarrow\\,\\,\\, \\frac{1}{3} r_1}{\\rightarrow}\n",
    "\\begin{bmatrix*}[r]\n",
    "  \\boxed{1} &        -2 &                                  3 \\\\\n",
    "          0 & \\boxed{1} &                                  0 \\\\\n",
    "          0 &         0 & \\textcolor{yellow}{\\boxed{h + 18}} \\\\\n",
    "\\end  {bmatrix*}\n",
    "$\n",
    "\n",
    "</div>"
   ]
  },
  {
   "cell_type": "markdown",
   "metadata": {},
   "source": [
    "$\n",
    "\\begin{cases}\n",
    "  h + 18 \\ne 0 && \\iff && h \\ne -18 && \\text{no pivot-free column and so linearly independent} \\\\\n",
    "  h + 18   = 0 && \\iff && h   = -18 && \\text{ a pivot-free column and so linearly   dependent} \\\\\n",
    "\\end  {cases}\n",
    "$"
   ]
  },
  {
   "cell_type": "markdown",
   "metadata": {},
   "source": [
    "<div class=\"full-width\">\n",
    "\n",
    "$\n",
    "\\begin{bmatrix*}[r]\n",
    "  \\boxed{1} &        -2 & 3 \\\\\n",
    "          0 & \\boxed{1} & 0 \\\\\n",
    "          0 &         0 & 0 \\\\\n",
    "\\end  {bmatrix*}\n",
    "\\underset{r_1 \\leftarrow\\,\\,\\, r_1 + 2r_2}{\\rightarrow}\n",
    "\\underbrace{\n",
    "\\begin{bmatrix*}[r]\n",
    "  \\boxed{1} &         0 & 3 \\\\\n",
    "          0 & \\boxed{1} & 0 \\\\\n",
    "          0 &         0 & 0 \\\\\n",
    "\\end  {bmatrix*}\n",
    "}_{\\textbf{reduced}}\n",
    "$\n",
    "\n",
    "</div>"
   ]
  },
  {
   "cell_type": "markdown",
   "metadata": {},
   "source": [
    "$\n",
    "\\begin{aligned}\n",
    "  x_1 +  3x_3 &= 0 && \\iff && x_1 = -3x_3 \\\\\n",
    "  & && && x_2 = 0 \\\\\n",
    "  & && && x_3 \\,\\,\\,\\text{free} \\\\\n",
    "\\end  {aligned}\n",
    "$"
   ]
  },
  {
   "cell_type": "markdown",
   "metadata": {},
   "source": [
    "$\n",
    "\\mathbf{x} =\n",
    "  \\begin{bmatrix*}[r] -3t \\\\ 0 \\\\ t \\\\ \\end{bmatrix*} =\n",
    "t \\begin{bmatrix*}[r] -3  \\\\ 0 \\\\ 1 \\\\ \\end{bmatrix*}\n",
    "$"
   ]
  },
  {
   "cell_type": "markdown",
   "metadata": {},
   "source": [
    "$\n",
    "\\underset{\\mathbf{A}}{\n",
    "\\begin{bmatrix*}[r]\n",
    "   3 & -6 &       9 \\\\\n",
    "  -6 &  4 & h = -18 \\\\\n",
    "   1 & -3 &       3 \\\\\n",
    "\\end  {bmatrix*}\n",
    "}\n",
    "\\underset{\\mathbf{x}}{\n",
    "\\begin{bmatrix} x_1 \\\\ x_2 \\\\ x_3 \\\\ \\end{bmatrix}\n",
    "} =\n",
    "\\underset{\\mathbf{0}}{\n",
    "\\begin{bmatrix}   0 \\\\   0 \\\\   0 \\\\ \\end{bmatrix}\n",
    "} =\n",
    "x_1 \\begin{bmatrix*}[r]   3 \\\\  -6 \\\\   1 \\\\ \\end{bmatrix*} +\n",
    "x_2 \\begin{bmatrix*}[r]  -6 \\\\   4 \\\\  -3 \\\\ \\end{bmatrix*} +\n",
    "x_3 \\begin{bmatrix*}[r]   9 \\\\ -18 \\\\   3 \\\\ \\end{bmatrix*} =\n",
    " -3 \\begin{bmatrix*}[r]   3 \\\\  -6 \\\\   1 \\\\ \\end{bmatrix*} +\n",
    "  0 \\begin{bmatrix*}[r]  -6 \\\\   4 \\\\  -3 \\\\ \\end{bmatrix*} +\n",
    "  1 \\begin{bmatrix*}[r]   9 \\\\ -18 \\\\   3 \\\\ \\end{bmatrix*} \\iff\n",
    "\\underbrace{\n",
    "    \\begin{bmatrix*}[r]   9 \\\\ -18 \\\\   3 \\\\ \\end{bmatrix*} =\n",
    "  3 \\begin{bmatrix*}[r]   3 \\\\  -6 \\\\   1 \\\\ \\end{bmatrix*} +\n",
    "  0 \\begin{bmatrix*}[r]  -6 \\\\   4 \\\\  -3 \\\\ \\end{bmatrix*}\n",
    "}_{\\mathbf{v_3} = 3\\mathbf{v_1} + 0\\mathbf{v_2}}\n",
    "$"
   ]
  },
  {
   "cell_type": "markdown",
   "metadata": {},
   "source": [
    "$\\mathbf{v_3} = 3\\mathbf{v_1} + 0\\mathbf{v_2}$"
   ]
  },
  {
   "cell_type": "markdown",
   "metadata": {},
   "source": [
    "---"
   ]
  },
  {
   "cell_type": "markdown",
   "metadata": {},
   "source": [
    "## Theorem"
   ]
  },
  {
   "cell_type": "markdown",
   "metadata": {},
   "source": [
    "<fieldset style=\"border: 2px solid #0096FF; border-radius: 5px; display: inline-block; margin: 10px; padding: 0 20px 0 20px;\">\n",
    "<legend style=\"color: #0096FF; font-family: Romans; font-size: 18px; padding: 0 10px 0 10px;\"><b>Theorem</b></legend>\n",
    "\n",
    "A set of vectors $\\{ \\mathbf{v_1, v_2, \\dots, v_p} \\} \\in \\mathbb{R}^n$ that contains more vectors than there are entries per vector\n",
    "\n",
    "$p > n$\n",
    "\n",
    "is necessarily ***linearly dependent***.\n",
    "\n",
    "</fieldset>"
   ]
  },
  {
   "cell_type": "markdown",
   "metadata": {},
   "source": [
    "---"
   ]
  },
  {
   "cell_type": "markdown",
   "metadata": {},
   "source": [
    "### <span style=\"color: green; font-family: Romans; font-size: 18px;\"><b>Example</b></span>"
   ]
  },
  {
   "cell_type": "markdown",
   "metadata": {},
   "source": [
    "PROBLEM STATEMENT\n",
    "\n",
    "Is the following set of vectors linearly independent?\n",
    "\n",
    "$\n",
    "\\left \\{\n",
    "\\begin{bmatrix*}[r] 2 \\\\ 7 \\\\ 6 \\\\ \\end  {bmatrix*},\n",
    "\\begin{bmatrix*}[r] 3 \\\\ 0 \\\\ 8 \\\\ \\end  {bmatrix*},\n",
    "\\begin{bmatrix*}[r] 4 \\\\ 2 \\\\ 5 \\\\ \\end  {bmatrix*},\n",
    "\\begin{bmatrix*}[r] 5 \\\\ 1 \\\\ 9 \\\\ \\end  {bmatrix*}\n",
    "\\right\\}\n",
    "$"
   ]
  },
  {
   "cell_type": "markdown",
   "metadata": {},
   "source": [
    "The linear system\n",
    "\n",
    "$\n",
    "\\begin{bmatrix}\n",
    "  2 & 3 & 4 & 5 \\\\\n",
    "  7 & 0 & 2 & 1 \\\\\n",
    "  6 & 8 & 5 & 9 \\\\\n",
    "\\end  {bmatrix}\n",
    "\\begin{bmatrix} x_1 \\\\ x_2 \\\\ x_3 \\\\ x_4 \\\\ \\end{bmatrix} =\n",
    "\\begin{bmatrix}   0 \\\\   0 \\\\   0 \\\\        \\end{bmatrix}\n",
    "$\n",
    "\n",
    "has $3$ equations and $4$ unknowns.\n",
    "\n",
    "Since there are more unknowns than there are equations the system must have a free variable and so the set of vectors is linearly dependent."
   ]
  },
  {
   "cell_type": "markdown",
   "metadata": {},
   "source": [
    "---"
   ]
  },
  {
   "cell_type": "markdown",
   "metadata": {},
   "source": [
    "## A set of vectors containing the zero vector is necessarily linearly dependent"
   ]
  },
  {
   "cell_type": "markdown",
   "metadata": {},
   "source": [
    "Let there be a set of vectors $\\{ \\mathbf{v_1, v_2, \\dots, v_p} \\}$ and let one of its vectors $\\textcolor{#0096FF}{\\mathbf{v_k = 0}}$ where $(1 \\le k \\le p)$."
   ]
  },
  {
   "cell_type": "markdown",
   "metadata": {},
   "source": [
    "$\n",
    "\\begin{aligned}\n",
    "x_1 \\mathbf{v_1} && + && \\dots && + && x_{k-1} \\mathbf{v_{k-1}} && + &&                      x_k \\textcolor{#0096FF}{\\mathbf{v_k}} && + && x_{k+1} \\mathbf{v_{k+1}} && + && \\dots && + && x_p \\mathbf{v_p} && = && \\mathbf{0} \\\\\n",
    "x_1 \\mathbf{v_1} && + && \\dots && + && x_{k-1} \\mathbf{v_{k-1}} && + &&                      x_k \\textcolor{#0096FF}{\\mathbf{  0}} && + && x_{k+1} \\mathbf{v_{k+1}} && + && \\dots && + && x_p \\mathbf{v_p} && = && \\mathbf{0} \\\\\n",
    "x_1 \\mathbf{v_1} && + && \\dots && + && x_{k-1} \\mathbf{v_{k-1}} && + && \\textcolor{red}{1} \\cdot \\textcolor{#0096FF}{\\mathbf{  0}} && + && x_{k+1} \\mathbf{v_{k+1}} && + && \\dots && + && x_p \\mathbf{v_p} && = && \\mathbf{0} && \\text{non trivial solution}\\\\\n",
    "\\end  {aligned}\n",
    "$"
   ]
  },
  {
   "cell_type": "markdown",
   "metadata": {},
   "source": [
    "The set of vectors $\\{ \\mathbf{v_1, \\dots, v_{k-1}, \\textcolor{#0096FF}{\\mathbf{0}}, v_{k+1}, \\dots, v_p} \\}$ is linearly dependent."
   ]
  },
  {
   "cell_type": "markdown",
   "metadata": {},
   "source": [
    "---"
   ]
  },
  {
   "cell_type": "markdown",
   "metadata": {},
   "source": [
    "## When is a set containing a single vector linearly independent?"
   ]
  },
  {
   "cell_type": "markdown",
   "metadata": {},
   "source": [
    "Let there be a set of a vector $\\{ \\mathbf{v} \\}$.\n",
    "\n",
    "If $\\mathbf{v = 0}$ then $1$ is a non trivial solution of $x \\mathbf{v = 0}$ and so the set is linearly dependent.\n",
    "\n",
    "If $\\mathbf{v \\ne 0}$ then one of the coordinates $v_k$ of $\\mathbf{v}$ is not zero and the vector equation $x \\mathbf{v = 0}$ can be rewritten as\n",
    "\n",
    "$\n",
    "x\n",
    "\\begin{bmatrix} v_1 \\\\ v_2 \\\\ \\vdots \\\\ v_p \\end{bmatrix} =\n",
    "\\begin{bmatrix}   0 \\\\   0 \\\\ \\vdots \\\\   0 \\end{bmatrix}\n",
    "\\implies\n",
    "x \\cdot v_k = 0\n",
    "\\implies\n",
    "x = 0\n",
    "$"
   ]
  },
  {
   "cell_type": "markdown",
   "metadata": {},
   "source": [
    "The set $\\{ \\mathbf{v} \\}$ is linearly independent."
   ]
  },
  {
   "cell_type": "markdown",
   "metadata": {},
   "source": [
    "---"
   ]
  },
  {
   "cell_type": "markdown",
   "metadata": {},
   "source": [
    "## When is a set containing two vectors linearly independent?"
   ]
  },
  {
   "cell_type": "markdown",
   "metadata": {},
   "source": [
    "A set of two vectors $\\{ \\mathbf{v, w} \\}$ is linearly dependent if one of the two vectors is a multiple of the other.\n",
    "\n",
    "A set of two vectors $\\{ \\mathbf{v, w} \\}$ is linearly independent if neither of the two vectors is a multiple of the other."
   ]
  },
  {
   "cell_type": "markdown",
   "metadata": {},
   "source": [
    "### <span style=\"color: green; font-family: Romans; font-size: 18px;\"><b>Example</b></span>"
   ]
  },
  {
   "cell_type": "markdown",
   "metadata": {},
   "source": [
    "Is the following set of vectors linearly independent?\n",
    "\n",
    "$\n",
    "\\left \\{\n",
    "\\underset{\\mathbf{v}}{ \\begin{bmatrix} 2 \\\\ 1 \\\\ \\end{bmatrix} }, \n",
    "\\underset{\\mathbf{w}}{ \\begin{bmatrix} 4 \\\\ 2 \\\\ \\end{bmatrix} }\n",
    "\\right\\}\n",
    "$"
   ]
  },
  {
   "cell_type": "markdown",
   "metadata": {},
   "source": [
    "$\n",
    "\\mathbf{w} =\n",
    "  \\begin{bmatrix} 4 \\\\ 2 \\\\ \\end{bmatrix} =\n",
    "2 \\begin{bmatrix} 2 \\\\ 1 \\\\ \\end{bmatrix} =\n",
    "2 \\mathbf{v}\n",
    "\\\n",
    "$"
   ]
  },
  {
   "cell_type": "markdown",
   "metadata": {},
   "source": [
    "The set of vectors is linearly dependent because the vector $\\mathbf{w}$ is a multiple of the vector $\\mathbf{v}$."
   ]
  },
  {
   "cell_type": "markdown",
   "metadata": {},
   "source": [
    "### <span style=\"color: green; font-family: Romans; font-size: 18px;\"><b>Example</b></span>"
   ]
  },
  {
   "cell_type": "markdown",
   "metadata": {},
   "source": [
    "Is the following set of vectors linearly independent?\n",
    "\n",
    "$\n",
    "\\left \\{\n",
    "\\underset{\\mathbf{v}}{ \\begin{bmatrix} 2 \\\\ 1 \\\\ \\end{bmatrix} }, \n",
    "\\underset{\\mathbf{w}}{ \\begin{bmatrix} 2 \\\\ 3 \\\\ \\end{bmatrix} }\n",
    "\\right\\}\n",
    "$"
   ]
  },
  {
   "cell_type": "markdown",
   "metadata": {},
   "source": [
    "The set of vectors is linearly independent because neither vector is a multiple of the other."
   ]
  },
  {
   "cell_type": "markdown",
   "metadata": {},
   "source": [
    "---"
   ]
  }
 ],
 "metadata": {
  "language_info": {
   "name": "python"
  }
 },
 "nbformat": 4,
 "nbformat_minor": 2
}
