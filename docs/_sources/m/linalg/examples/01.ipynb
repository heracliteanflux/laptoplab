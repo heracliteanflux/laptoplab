{
 "cells": [
  {
   "cell_type": "markdown",
   "metadata": {},
   "source": [
    "LINEAR SYSTEM"
   ]
  },
  {
   "cell_type": "markdown",
   "metadata": {},
   "source": [
    "$\n",
    "\\begin{aligned}\n",
    "  x_1 && + && 6x_2 &&   &&      && + && 3x_4 && &&     && = &&  0 \\\\\n",
    "      &&   &&      &&   &&  x_3 && - && 8x_4 && &&     && = &&  5 \\\\\n",
    "      &&   &&      &&   &&      &&   &&      && && x_5 && = && -9 \\\\\n",
    "\\end  {aligned}\n",
    "$"
   ]
  },
  {
   "cell_type": "markdown",
   "metadata": {},
   "source": [
    "FORMS AND HOMOGENEITY\n",
    "\n",
    "$\\mathbf{Ax = b}$"
   ]
  },
  {
   "cell_type": "markdown",
   "metadata": {},
   "source": [
    "ROW REDUCE"
   ]
  },
  {
   "cell_type": "markdown",
   "metadata": {},
   "source": [
    "$\n",
    "\\underbrace{\n",
    "\\left [\n",
    "  \\begin{matrix*}[r]\n",
    "     \\boxed{1} &  6 & 0         &  3 & 0         \\\\\n",
    "     0         &  0 & \\boxed{1} & -8 & 0         \\\\\n",
    "     0         &  0 & 0         &  0 & \\boxed{1} \\\\\n",
    "  \\end  {matrix*}\n",
    "  \\left |\n",
    "    \\begin{matrix*}[r]\n",
    "       0 \\\\\n",
    "       5 \\\\\n",
    "      -9 \\\\\n",
    "    \\end  {matrix*}\n",
    "  \\right.\n",
    "\\right]\n",
    "}_{\\textbf{reduced row echelon}}\n",
    "$"
   ]
  },
  {
   "cell_type": "markdown",
   "metadata": {},
   "source": [
    "CONSISTENCY AND SOLUTION SET"
   ]
  },
  {
   "cell_type": "markdown",
   "metadata": {},
   "source": [
    "The system is consistent because its row echelon augmented matrix contains no pivot position in its final column.\n",
    "\n",
    "The system has infinitely many solutions because its row echelon coefficient matrix contains at least one pivot-free column."
   ]
  },
  {
   "cell_type": "markdown",
   "metadata": {},
   "source": [
    "PARAMETRIC REPRESENATION OF SOLUTION SET"
   ]
  },
  {
   "cell_type": "markdown",
   "metadata": {},
   "source": [
    "$\n",
    "\\begin{aligned}\n",
    "x_1 + 6x_2 + 3x_4 = 0 \\iff x_1 &= -6x_2 - 3x_4 \\\\\n",
    "                           x_2 & \\,\\,\\,\\text{free} \\\\\n",
    "       x_3 - 8x_4 = 5 \\iff x_3 &=  8x_4 + 5 \\\\\n",
    "                           x_4 & \\,\\,\\,\\text{free} \\\\\n",
    "                           x_5 &= -9 \\\\\n",
    "\\end  {aligned}\n",
    "$"
   ]
  },
  {
   "cell_type": "markdown",
   "metadata": {},
   "source": [
    "$\n",
    "\\mathbf{x} =\n",
    "\\begin{bmatrix*}[r]\n",
    "  -6s - 3t     \\\\\n",
    "    s          \\\\\n",
    "        8t + 5 \\\\\n",
    "         t     \\\\\n",
    "            -9 \\\\\n",
    "\\end  {bmatrix*} =\n",
    "\\begin{bmatrix*}[r]   0 \\\\ 0 \\\\  5 \\\\ 0 \\\\ -9 \\\\ \\end  {bmatrix*} +\n",
    "\\begin{bmatrix*}[r] -6s \\\\ s \\\\  0 \\\\ 0 \\\\  0 \\\\ \\end  {bmatrix*} +\n",
    "\\begin{bmatrix*}[r] -3t \\\\ 0 \\\\ 8t \\\\ t \\\\  0 \\\\ \\end  {bmatrix*} =\n",
    "  \\begin{bmatrix*}[r]  0 \\\\ 0 \\\\ 5 \\\\ 0 \\\\ -9 \\\\ \\end  {bmatrix*} +\n",
    "s \\begin{bmatrix*}[r] -6 \\\\ 1 \\\\ 0 \\\\ 0 \\\\  0 \\\\ \\end  {bmatrix*} +\n",
    "t \\begin{bmatrix*}[r] -3 \\\\ 0 \\\\ 8 \\\\ 1 \\\\  0 \\\\ \\end  {bmatrix*}\n",
    "$"
   ]
  },
  {
   "cell_type": "markdown",
   "metadata": {},
   "source": [
    "LINEAR INDEPENDENCE"
   ]
  },
  {
   "cell_type": "markdown",
   "metadata": {},
   "source": [
    "$\n",
    "\\begin{bmatrix*}[r] 0 \\\\ 5 \\\\ -9 \\\\ \\end{bmatrix*} =\n",
    "\\underset{\\mathbf{A}}{\n",
    "\\begin{bmatrix*}[r]\n",
    "  1 & 6 & 0 &  3 & 0 \\\\\n",
    "  0 & 0 & 1 & -8 & 0 \\\\\n",
    "  0 & 0 & 0 &  0 & 1 \\\\\n",
    "\\end  {bmatrix*}\n",
    "}\n",
    "\\underset{\\mathbf{x}}{\n",
    "\\begin{bmatrix} x_1 \\\\ x_2 \\\\ x_3 \\\\ x_4 \\\\ x_5 \\\\ \\end{bmatrix}\n",
    "}\n",
    "$"
   ]
  },
  {
   "cell_type": "markdown",
   "metadata": {},
   "source": [
    "GEOMETRIC INTERPRETATION OF SOLUTION SET"
   ]
  },
  {
   "cell_type": "markdown",
   "metadata": {},
   "source": [
    "The solution set is a plane through the point $(0, 0, 5, 0, -9)$ which is parallel to\n",
    "\n",
    "$\n",
    "\\text{span}\n",
    "\\left \\{\n",
    "\\begin{bmatrix*}[r] -6 \\\\ 1 \\\\ 0 \\\\ 0 \\\\  0 \\\\ \\end  {bmatrix*},\n",
    "\\begin{bmatrix*}[r] -3 \\\\ 0 \\\\ 8 \\\\ 1 \\\\  0 \\\\ \\end  {bmatrix*}\n",
    "\\right\\}\n",
    "$"
   ]
  }
 ],
 "metadata": {
  "language_info": {
   "name": "python"
  }
 },
 "nbformat": 4,
 "nbformat_minor": 2
}
