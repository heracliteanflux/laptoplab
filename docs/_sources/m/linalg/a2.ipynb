{
 "cells": [
  {
   "cell_type": "markdown",
   "metadata": {},
   "source": [
    "# Matrices"
   ]
  },
  {
   "cell_type": "markdown",
   "metadata": {},
   "source": [
    "---"
   ]
  },
  {
   "cell_type": "markdown",
   "metadata": {},
   "source": [
    "## Table of Contents\n",
    "```{contents}\n",
    "```"
   ]
  },
  {
   "cell_type": "markdown",
   "metadata": {},
   "source": [
    "---"
   ]
  },
  {
   "cell_type": "markdown",
   "metadata": {},
   "source": [
    "## Definition of a Matrix"
   ]
  },
  {
   "cell_type": "markdown",
   "metadata": {},
   "source": [
    "A matrix is a rectangular array of numbers.\n",
    "\n",
    "An $m \\times n$ matrix contains $m$ rows and $n$ columns."
   ]
  },
  {
   "cell_type": "markdown",
   "metadata": {},
   "source": [
    "## Matrix Notation"
   ]
  },
  {
   "cell_type": "markdown",
   "metadata": {},
   "source": [
    "Given an $m \\times n$ matrix $\\mathbf{A}$ the notation $A_{ij}$ denotes the entry of $\\mathbf{A}$ located at the intersection of the $i$-th row and the $j$-th column.\n",
    "\n",
    "$\n",
    "\\begin{bmatrix}\n",
    "  a_{11} & a_{12} &  \\dots & a_{1n} \\\\\n",
    "  a_{21} & a_{22} &  \\dots & a_{2n} \\\\\n",
    "  \\vdots & \\vdots & \\ddots & \\vdots \\\\\n",
    "  a_{m1} & a_{m2} &  \\dots & a_{mn} \\\\\n",
    "\\end  {bmatrix}\n",
    "$"
   ]
  },
  {
   "cell_type": "markdown",
   "metadata": {},
   "source": [
    "For example, if\n",
    "\n",
    "$\n",
    "\\mathbf{A} =\n",
    "\\begin{bmatrix*}[r]\n",
    "  1 &  2 &  3 &  4 \\\\\n",
    "  5 &  6 &  7 &  8 \\\\\n",
    "  9 & 10 & 11 & 12 \\\\\n",
    "\\end  {bmatrix*}\n",
    "$\n",
    "\n",
    "then\n",
    "\n",
    "$A_{12} = 2, A_{34} = 12, A_{31} = 9$"
   ]
  },
  {
   "cell_type": "markdown",
   "metadata": {},
   "source": [
    "## Diagonal entries of a matrix"
   ]
  },
  {
   "cell_type": "markdown",
   "metadata": {},
   "source": [
    "Entries $A_{11}, A_{22}, A_{33}, \\dots$ are called the diagonal entries of the matrix."
   ]
  },
  {
   "cell_type": "markdown",
   "metadata": {},
   "source": [
    "## Definition of a Zero Matrix"
   ]
  },
  {
   "cell_type": "markdown",
   "metadata": {},
   "source": [
    "A matrix with all entries equal to zero is called a zero matrix."
   ]
  },
  {
   "cell_type": "markdown",
   "metadata": {},
   "source": [
    "## Definition of a Square Matrix"
   ]
  },
  {
   "cell_type": "markdown",
   "metadata": {},
   "source": [
    "A matrix having the same number of rows and columns is called a square matrix."
   ]
  },
  {
   "cell_type": "markdown",
   "metadata": {},
   "source": [
    "## Definition of an Identity Matrix"
   ]
  },
  {
   "cell_type": "markdown",
   "metadata": {},
   "source": [
    "An identity matrix $\\mathbf{I_n}$ is the square matrix with $n$ rows and $n$ columns whose diagonal entries are all equal to $1$ and whose off-diagonal entries are all equal to $0$."
   ]
  },
  {
   "cell_type": "markdown",
   "metadata": {},
   "source": [
    "---"
   ]
  },
  {
   "cell_type": "markdown",
   "metadata": {},
   "source": [
    "## Matrix Addition"
   ]
  },
  {
   "cell_type": "markdown",
   "metadata": {},
   "source": [
    "Let there be two $m \\times n$ matrices $\\mathbf{A, B}$.\n",
    "\n",
    "Then $\\mathbf{A + B}$ is an $m \\times n$ matrix with entry $(A + B)_{ij} = A_{ij} + B_{ij}$\n",
    "\n",
    "The addition of matrices of unequal size is not defined."
   ]
  },
  {
   "cell_type": "markdown",
   "metadata": {},
   "source": [
    "### <span style=\"color: green; font-family: Romans; font-size: 18px;\"><b>Example</b></span>"
   ]
  },
  {
   "cell_type": "markdown",
   "metadata": {},
   "source": [
    "$\n",
    "\\mathbf{A} =\n",
    "\\begin{bmatrix*}[r]\n",
    "   2 &  1 & 0 & 3 \\\\\n",
    "  -1 &  0 & 2 & 4 \\\\\n",
    "   4 & -2 & 7 & 0 \\\\\n",
    "\\end  {bmatrix*}\n",
    "$\n",
    "\n",
    "$\n",
    "\\mathbf{B} =\n",
    "\\begin{bmatrix*}[r]\n",
    "  -4 & 3 &  5 &  1 \\\\\n",
    "   2 & 2 &  0 & -1 \\\\\n",
    "   3 & 2 & -4 &  5 \\\\\n",
    "\\end  {bmatrix*}\n",
    "$\n",
    "\n",
    "$\n",
    "\\mathbf{A + B} =\n",
    "\\begin{bmatrix*}[r]\n",
    "  2 + (-4) & 1    + 3 & 0 +    5 & 3 +    1 \\\\\n",
    "  (-1) + 2 & 0    + 2 & 2 +    0 & 4 + (-1) \\\\\n",
    "  4 +    3 & (-2) + 2 & 7 + (-4) & 0 +    5 \\\\\n",
    "\\end  {bmatrix*} =\n",
    "\\begin{bmatrix*}[r]\n",
    "  -2 & 4 & 5 & 4 \\\\\n",
    "   1 & 2 & 2 & 3 \\\\\n",
    "   7 & 0 & 3 & 5 \\\\\n",
    "\\end  {bmatrix*}\n",
    "$"
   ]
  },
  {
   "cell_type": "markdown",
   "metadata": {},
   "source": [
    "---"
   ]
  },
  {
   "cell_type": "markdown",
   "metadata": {},
   "source": [
    "## Scalar Multiplication"
   ]
  },
  {
   "cell_type": "markdown",
   "metadata": {},
   "source": [
    "Let there be an $m \\times n$ matrix $\\mathbf{A}$ and a scalar $r$.\n",
    "\n",
    "Then $r\\mathbf{A}$ is an $m \\times n$ matrix with entry $(rA)_{ij} = r \\cdot A_{ij}$"
   ]
  },
  {
   "cell_type": "markdown",
   "metadata": {},
   "source": [
    "### <span style=\"color: green; font-family: Romans; font-size: 18px;\"><b>Example</b></span>"
   ]
  },
  {
   "cell_type": "markdown",
   "metadata": {},
   "source": [
    "$\n",
    "\\mathbf{A} =\n",
    "\\begin{bmatrix*}[r]\n",
    "   2 &  1 & 0 & 3 \\\\\n",
    "  -1 &  0 & 2 & 4 \\\\\n",
    "   4 & -2 & 7 & 0 \\\\\n",
    "\\end  {bmatrix*}\n",
    "$\n",
    "\n",
    "$\n",
    "2\\mathbf{A} =\n",
    "\\begin{bmatrix*}[r]\n",
    "  2 \\cdot  2 & 2 \\cdot  1 & 2 \\cdot 0 & 2 \\cdot 3 \\\\\n",
    "  2 \\cdot -1 & 2 \\cdot  0 & 2 \\cdot 2 & 2 \\cdot 4 \\\\\n",
    "  2 \\cdot  4 & 2 \\cdot -2 & 2 \\cdot 7 & 2 \\cdot 0 \\\\\n",
    "\\end  {bmatrix*} =\n",
    "\\begin{bmatrix*}[r]\n",
    "   4 &  2 &  0 & 6 \\\\\n",
    "  -2 &  0 &  4 & 8 \\\\\n",
    "   8 & -4 & 14 & 0 \\\\\n",
    "\\end  {bmatrix*}\n",
    "$"
   ]
  },
  {
   "cell_type": "markdown",
   "metadata": {},
   "source": [
    "---"
   ]
  },
  {
   "cell_type": "markdown",
   "metadata": {},
   "source": [
    "### <span style=\"color: green; font-family: Romans; font-size: 18px;\"><b>Example</b></span>"
   ]
  },
  {
   "cell_type": "markdown",
   "metadata": {},
   "source": [
    "$\n",
    "\\mathbf{A} =\n",
    "\\begin{bmatrix*}[r]\n",
    "   2 &  1 & 0 & 3 \\\\\n",
    "  -1 &  0 & 2 & 4 \\\\\n",
    "   4 & -2 & 7 & 0 \\\\\n",
    "\\end  {bmatrix*}\n",
    "$\n",
    "\n",
    "$\n",
    "\\mathbf{B} =\n",
    "\\begin{bmatrix*}[r]\n",
    "  -4 & 3 &  5 &  1 \\\\\n",
    "   2 & 2 &  0 & -1 \\\\\n",
    "   3 & 2 & -4 &  5 \\\\\n",
    "\\end  {bmatrix*}\n",
    "$\n",
    "\n",
    "Compute $2\\mathbf{A - B}$."
   ]
  },
  {
   "cell_type": "markdown",
   "metadata": {},
   "source": [
    "$2\\mathbf{A - B} = 2\\mathbf{A} + (-1)\\mathbf{B}$"
   ]
  },
  {
   "cell_type": "markdown",
   "metadata": {},
   "source": [
    "$\n",
    "2\\mathbf{A} =\n",
    "\\begin{bmatrix*}[r]\n",
    "  2 \\cdot  2 & 2 \\cdot  1 & 2 \\cdot 0 & 2 \\cdot 3 \\\\\n",
    "  2 \\cdot -1 & 2 \\cdot  0 & 2 \\cdot 2 & 2 \\cdot 4 \\\\\n",
    "  2 \\cdot  4 & 2 \\cdot -2 & 2 \\cdot 7 & 2 \\cdot 0 \\\\\n",
    "\\end  {bmatrix*} =\n",
    "\\begin{bmatrix*}[r]\n",
    "   4 &  2 &  0 & 6 \\\\\n",
    "  -2 &  0 &  4 & 8 \\\\\n",
    "   8 & -4 & 14 & 0 \\\\\n",
    "\\end  {bmatrix*}\n",
    "$"
   ]
  },
  {
   "cell_type": "markdown",
   "metadata": {},
   "source": [
    "$\n",
    "(-1)\\mathbf{B} =\n",
    "\\begin{bmatrix*}[r]\n",
    "  -1 \\cdot -4 & -1 \\cdot 3 & -1 \\cdot  5 & -1 \\cdot  1 \\\\\n",
    "  -1 \\cdot  2 & -1 \\cdot 2 & -1 \\cdot  0 & -1 \\cdot -1 \\\\\n",
    "  -1 \\cdot  3 & -1 \\cdot 2 & -1 \\cdot -4 & -1 \\cdot  5 \\\\\n",
    "\\end  {bmatrix*} =\n",
    "\\begin{bmatrix*}[r]\n",
    "   4 & -3 & -5 & -1 \\\\\n",
    "  -2 & -2 & -0 &  1 \\\\\n",
    "  -3 & -2 &  4 & -5 \\\\\n",
    "\\end  {bmatrix*}\n",
    "$"
   ]
  },
  {
   "cell_type": "markdown",
   "metadata": {},
   "source": [
    "$\n",
    "2\\mathbf{A - B} =\n",
    "\\begin{bmatrix*}[r]\n",
    "   4 &  2 &  0 & 6 \\\\\n",
    "  -2 &  0 &  4 & 8 \\\\\n",
    "   8 & -4 & 14 & 0 \\\\\n",
    "\\end  {bmatrix*} +\n",
    "\\begin{bmatrix*}[r]\n",
    "   4 & -3 & -5 & -1 \\\\\n",
    "  -2 & -2 &  0 &  1 \\\\\n",
    "  -3 & -2 &  4 & -5 \\\\\n",
    "\\end  {bmatrix*} =\n",
    "\\begin{bmatrix*}[r]\n",
    "   4 +    4 &  2 + (-3) &  0 + (-5) & 6 + (-1) \\\\\n",
    "  -2 + (-2) &  0 + (-2) &  4 +    0 & 8 +    1 \\\\\n",
    "   8 + (-3) & -4 + (-2) & 14 +    4 & 0 + (-5) \\\\\n",
    "\\end  {bmatrix*} =\n",
    "\\begin{bmatrix*}[r]\n",
    "   8 & -1 & -5 &  5 \\\\\n",
    "  -4 & -2 &  4 &  9 \\\\\n",
    "   5 & -6 & 18 & -5 \\\\\n",
    "\\end  {bmatrix*}\n",
    "$"
   ]
  },
  {
   "cell_type": "markdown",
   "metadata": {},
   "source": [
    "---"
   ]
  },
  {
   "cell_type": "markdown",
   "metadata": {},
   "source": [
    "## Properties of matrix addition and scalar multiplication"
   ]
  },
  {
   "cell_type": "markdown",
   "metadata": {},
   "source": [
    "Let $\\mathbf{A, B, C}$ be $m \\times n$ matrices and let $s, t$ be scalars."
   ]
  },
  {
   "cell_type": "markdown",
   "metadata": {},
   "source": [
    "Matrix addition is commutative.\n",
    "\n",
    "$\\mathbf{A + B = B + A}$"
   ]
  },
  {
   "cell_type": "markdown",
   "metadata": {},
   "source": [
    "Matrix addition is associative.\n",
    "\n",
    "$\\mathbf{(A + B) + C = A + (B + C)}$"
   ]
  },
  {
   "cell_type": "markdown",
   "metadata": {},
   "source": [
    "The zero matrix is the additive identity element.\n",
    "\n",
    "$\\mathbf{A + 0 = A}$"
   ]
  },
  {
   "cell_type": "markdown",
   "metadata": {},
   "source": [
    "$s(\\mathbf{A + B}) = s \\mathbf{A} + s \\mathbf{B}$"
   ]
  },
  {
   "cell_type": "markdown",
   "metadata": {},
   "source": [
    "$(s + t)\\mathbf{A} = s \\mathbf{A} + t \\mathbf{A}$"
   ]
  },
  {
   "cell_type": "markdown",
   "metadata": {},
   "source": [
    "$s (t \\mathbf{A}) = (st)\\mathbf{A}$"
   ]
  },
  {
   "cell_type": "markdown",
   "metadata": {},
   "source": [
    "---"
   ]
  },
  {
   "cell_type": "markdown",
   "metadata": {},
   "source": [
    "## Matrix Transpose"
   ]
  },
  {
   "cell_type": "markdown",
   "metadata": {},
   "source": [
    "The transpose of an $m \\times n$ matrix $\\mathbf{A}$ is the $n \\times m$ matrix $\\mathbf{A}^\\top$ such that\n",
    "\n",
    "$(\\mathbf{A}^\\top)_{ij} = (\\mathbf{A})_{ji}$\n",
    "\n",
    "The $k$-th row of $\\mathbf{A}^\\top$ is the $k$-th column of $\\mathbf{A}$."
   ]
  },
  {
   "cell_type": "markdown",
   "metadata": {},
   "source": [
    "### <span style=\"color: green; font-family: Romans; font-size: 18px;\"><b>Example</b></span>"
   ]
  },
  {
   "cell_type": "markdown",
   "metadata": {},
   "source": [
    "$\n",
    "\\mathbf{A} =\n",
    "\\begin{bmatrix}\n",
    "  \\textcolor{red}{1} & \\textcolor{orange}{0} & \\textcolor{yellow}{2} \\\\\n",
    "  \\textcolor{red}{3} & \\textcolor{orange}{4} & \\textcolor{yellow}{1} \\\\\n",
    "\\end  {bmatrix}\n",
    "$\n",
    "\n",
    "$\n",
    "\\mathbf{A}^\\top =\n",
    "\\begin{bmatrix}\n",
    "  \\textcolor{red}{   1} & \\textcolor{red}{   3} \\\\\n",
    "  \\textcolor{orange}{0} & \\textcolor{orange}{4} \\\\\n",
    "  \\textcolor{yellow}{2} & \\textcolor{yellow}{1} \\\\\n",
    "\\end  {bmatrix}\n",
    "$"
   ]
  },
  {
   "cell_type": "markdown",
   "metadata": {},
   "source": [
    "---"
   ]
  },
  {
   "cell_type": "markdown",
   "metadata": {},
   "source": [
    "## Matrix Multiplication"
   ]
  },
  {
   "cell_type": "markdown",
   "metadata": {},
   "source": [
    "The product $\\mathbf{AB}$ of two matrices $\\mathbf{A, B}$ is defined iff the number of columns of $\\mathbf{A}$ is equal to the number of rows of $\\mathbf{B}$.\n",
    "\n",
    "If $\\mathbf{A}$ is an $m \\times n$ matrix and $\\mathbf{B}$ is an $n \\times p$ matrix then their product $\\mathbf{AB}$ is an $m \\times p$ matrix.\n",
    "\n",
    "The entry $(\\mathbf{AB})_{ij}$ located at the intersection of the $i$-th row and the $j$-th column of the matrix $\\mathbf{AB}$ is computed using the entries of the $i$-th row of $\\mathbf{A}$ and the entries of the $j$-th column of $\\mathbf{B}$ according to the rule\n",
    "\n",
    "$(\\mathbf{AB})_{ij} = \\sum_k A_{ik} \\cdot B_{kj}$\n",
    "\n",
    "The entry of $\\mathbf{AB}$ located at the intersection of the $i$-th row and $j$-th column is the dot product of the $i$-th row of $\\mathbf{A}$ with the $j$-th column of $\\mathbf{B}$."
   ]
  },
  {
   "cell_type": "markdown",
   "metadata": {},
   "source": [
    "### <span style=\"color: green; font-family: Romans; font-size: 18px;\"><b>Example</b></span>"
   ]
  },
  {
   "cell_type": "markdown",
   "metadata": {},
   "source": [
    "$\n",
    "\\mathbf{A} =\n",
    "\\begin{bmatrix*}[r]\n",
    "  1 &  0 & 2 \\\\\n",
    "  3 & -5 & 1 \\\\\n",
    "\\end  {bmatrix*}\n",
    "$\n",
    "\n",
    "$\n",
    "\\mathbf{B} =\n",
    "\\begin{bmatrix*}[r]\n",
    "  -1 &  2 \\\\\n",
    "   2 &  0 \\\\\n",
    "   1 & -3 \\\\\n",
    "\\end  {bmatrix*}\n",
    "$\n",
    "\n",
    "Compute $\\mathbf{AB}$."
   ]
  },
  {
   "cell_type": "markdown",
   "metadata": {},
   "source": [
    "$\n",
    "\\begin{aligned}\n",
    "& \\underset{\\mathbf{B}}{\n",
    "  \\begin{bmatrix*}[r]\n",
    "    \\textcolor{blue}{-1} & \\textcolor{purple}{ 2} \\\\\n",
    "    \\textcolor{blue}{ 2} & \\textcolor{purple}{ 0} \\\\\n",
    "    \\textcolor{blue}{ 1} & \\textcolor{purple}{-3} \\\\\n",
    "  \\end  {bmatrix*}} \\\\\n",
    "  \\underset{\\mathbf{A}}{\n",
    "  \\begin{bmatrix*}[r]\n",
    "    \\textcolor{red}{   1} & \\textcolor{red}{    0} & \\textcolor{red}{   2} \\\\\n",
    "    \\textcolor{orange}{3} & \\textcolor{orange}{-5} & \\textcolor{orange}{1} \\\\\n",
    "  \\end  {bmatrix*}} &\n",
    "  \\underset{\\mathbf{AB}}{\n",
    "  \\begin{bmatrix*}[r]\n",
    "      \\textcolor{red}{   1} \\cdot \\textcolor{blue}{ -1} + \\textcolor{red}{    0} \\cdot \\textcolor{blue}{  2} + \\textcolor{red}{   2} \\cdot \\textcolor{blue}{   1}\n",
    "    & \\textcolor{red}{   1} \\cdot \\textcolor{purple}{2} + \\textcolor{red}{    0} \\cdot \\textcolor{purple}{0} + \\textcolor{red}{   2} \\cdot \\textcolor{purple}{-3} \\\\\n",
    "      \\textcolor{orange}{3} \\cdot \\textcolor{blue}{ -1} + \\textcolor{orange}{-5} \\cdot \\textcolor{blue}{  2} + \\textcolor{orange}{1} \\cdot \\textcolor{blue}{   1}\n",
    "    & \\textcolor{orange}{3} \\cdot \\textcolor{purple}{2} + \\textcolor{orange}{-5} \\cdot \\textcolor{purple}{0} + \\textcolor{orange}{1} \\cdot \\textcolor{purple}{-3} \\\\\n",
    "  \\end  {bmatrix*}} \\\\\n",
    "\\end  {aligned} \\\\\n",
    "$"
   ]
  },
  {
   "cell_type": "markdown",
   "metadata": {},
   "source": [
    "$\n",
    "\\begin{aligned}\n",
    "& \\underset{\\mathbf{B}}{\n",
    "  \\begin{bmatrix*}[r]\n",
    "    -1 &  2 \\\\\n",
    "     2 &  0 \\\\\n",
    "     1 & -3 \\\\\n",
    "  \\end  {bmatrix*}} \\\\\n",
    "  \\underset{\\mathbf{A}}{\n",
    "  \\begin{bmatrix*}[r]\n",
    "    1 &  0 & 2 \\\\\n",
    "    3 & -5 & 1 \\\\\n",
    "  \\end  {bmatrix*}} &\n",
    "  \\underset{\\mathbf{AB}}{\n",
    "  \\begin{bmatrix*}[r]\n",
    "      1 & -4 \\\\\n",
    "    -12 &  3 \\\\\n",
    "  \\end  {bmatrix*}} \\\\\n",
    "\\end  {aligned} \\\\\n",
    "$"
   ]
  },
  {
   "cell_type": "markdown",
   "metadata": {},
   "source": [
    "### Why is matrix multiplication defined in this way?"
   ]
  },
  {
   "cell_type": "markdown",
   "metadata": {},
   "source": [
    "$\n",
    "\\begin{bmatrix}\n",
    "\\text{---} & \\mathbf{u_1}^\\top & \\text{---} \\\\\n",
    "\\text{---} & \\mathbf{u_2}^\\top & \\text{---} \\\\\n",
    "& \\vdots & \\\\\n",
    "\\text{---} & \\mathbf{u_m}^\\top & \\text{---} \\\\\n",
    "\\end  {bmatrix}\n",
    "\\begin{bmatrix}\n",
    "       \\vert &        \\vert &       &        \\vert \\\\\n",
    "\\mathbf{v_1} & \\mathbf{v_2} & \\dots & \\mathbf{v_p} \\\\\n",
    "       \\vert &        \\vert &       &        \\vert \\\\\n",
    "\\end  {bmatrix} =\n",
    "\\begin{bmatrix}\n",
    "\\mathbf{u_1 \\cdot v_1} & \\mathbf{u_1 \\cdot v_2} &  \\dots & \\mathbf{u_1 \\cdot v_p} \\\\\n",
    "\\mathbf{u_2 \\cdot v_1} & \\mathbf{u_2 \\cdot v_2} &  \\dots & \\mathbf{u_2 \\cdot v_p} \\\\\n",
    "                \\vdots &                 \\vdots & \\ddots &                 \\vdots \\\\\n",
    "\\mathbf{u_1 \\cdot v_1} & \\mathbf{u_1 \\cdot v_2} &  \\dots & \\mathbf{u_m \\cdot v_p} \\\\\n",
    "\\end  {bmatrix}\n",
    "$"
   ]
  },
  {
   "cell_type": "markdown",
   "metadata": {},
   "source": [
    "The dot (inner) product of two vectors $\\mathbf{u, v} \\in \\mathbb{R}^n$ is the scalar\n",
    "\n",
    "$\\mathbf{u \\cdot v} = u_1v_1 + u_2v_2 + \\dots + u_nv_n = \\sum_{k = 1}^n u_kv_k =\n",
    "\\begin{bmatrix} u_1  & u_2  &  \\dots  & u_n \\\\ \\end{bmatrix}\n",
    "\\begin{bmatrix} v_1 \\\\ v_2 \\\\ \\vdots \\\\ v_n \\\\ \\end{bmatrix} =\n",
    "\\begin{bmatrix} u_1 \\\\ u_2 \\\\ \\vdots \\\\ u_n \\\\ \\end{bmatrix}^\\top\n",
    "\\begin{bmatrix} v_1 \\\\ v_2 \\\\ \\vdots \\\\ v_n \\\\ \\end{bmatrix} =\n",
    "\\mathbf{u^\\top v}\n",
    "$"
   ]
  },
  {
   "cell_type": "markdown",
   "metadata": {},
   "source": [
    "---"
   ]
  },
  {
   "cell_type": "markdown",
   "metadata": {},
   "source": [
    "## Properties of matrix multiplication"
   ]
  },
  {
   "cell_type": "markdown",
   "metadata": {},
   "source": [
    "For any scalars $s$ and any matrices $\\mathbf{A, B, C, D}$ such that\n",
    "\n",
    "$\\# \\,\\,\\text{col}\\,\\, \\mathbf{A} = \\# \\,\\,\\text{row}\\,\\, \\mathbf{B} = \\# \\,\\,\\text{row}\\,\\, \\mathbf{C}$\n",
    "\n",
    "and\n",
    "\n",
    "$\\# \\,\\,\\text{col}\\,\\, \\mathbf{B} = \\# \\,\\,\\text{col}\\,\\, \\mathbf{C} = \\# \\,\\,\\text{row}\\,\\, \\mathbf{D}$\n",
    "\n",
    "in other words\n",
    "\n",
    "$\\mathbf{A}_{[m \\times p]}, \\mathbf{B}_{[p \\times q]}, \\mathbf{C}_{[p \\times q]}, \\mathbf{D}_{[q \\times n]}$\n",
    "\n",
    "the following holds"
   ]
  },
  {
   "cell_type": "markdown",
   "metadata": {},
   "source": [
    "associativity of matrix multiplication\n",
    "\n",
    "$\\mathbf{A(BD) = (AB)D}$"
   ]
  },
  {
   "cell_type": "markdown",
   "metadata": {},
   "source": [
    "$\\mathbf{A(B + C) = AB + AC}$"
   ]
  },
  {
   "cell_type": "markdown",
   "metadata": {},
   "source": [
    "$\\mathbf{(B + C)D = BD + CD}$"
   ]
  },
  {
   "cell_type": "markdown",
   "metadata": {},
   "source": [
    "$s (\\mathbf{AB}) = (s \\mathbf{A}) \\mathbf{B} = \\mathbf{A} (s \\mathbf{B})$"
   ]
  },
  {
   "cell_type": "markdown",
   "metadata": {},
   "source": [
    "$\\mathbf{I_mA = A = AI_n}$ when $\\mathbf{A}$ is an $m \\times n$ matrix"
   ]
  },
  {
   "cell_type": "markdown",
   "metadata": {},
   "source": [
    "### Note"
   ]
  },
  {
   "cell_type": "markdown",
   "metadata": {},
   "source": [
    "Square matrices $\\mathbf{A, B}$ of the same size can be multiplied in two ways $\\mathbf{AB}$ and $\\mathbf{BA}$.\n",
    "\n",
    "But note that in most cases $\\mathbf{AB \\ne BA}$."
   ]
  },
  {
   "cell_type": "markdown",
   "metadata": {},
   "source": [
    "Given three matrices $\\mathbf{A, B, C}$ such that\n",
    "\n",
    "$\\# \\,\\,\\text{col}\\,\\, \\mathbf{A} = \\# \\,\\,\\text{row}\\,\\, \\mathbf{B} = \\# \\,\\,\\text{row}\\,\\, \\mathbf{C}$\n",
    "\n",
    "in other words\n",
    "\n",
    "$\\mathbf{A}_{[m \\times p]}, \\mathbf{B}_{[p \\times q]}, \\mathbf{C}_{[p \\times r]}$\n",
    "\n",
    "it can happen that $\\mathbf{AB = AC}$ while $\\mathbf{B \\ne C}$ and $\\mathbf{A \\ne 0}$\n",
    "\n",
    "and it can happen that $\\mathbf{AB = 0}$ while $\\mathbf{A \\ne 0}$ and $\\mathbf{B \\ne 0}$."
   ]
  },
  {
   "cell_type": "markdown",
   "metadata": {},
   "source": [
    "### <span style=\"color: green; font-family: Romans; font-size: 18px;\"><b>Example</b></span>"
   ]
  },
  {
   "cell_type": "markdown",
   "metadata": {},
   "source": [
    "$\n",
    "\\mathbf{A} =\n",
    "\\begin{bmatrix*}[r]\n",
    "  0 & 1 \\\\\n",
    "  0 & 2 \\\\\n",
    "\\end  {bmatrix*},\n",
    "\\mathbf{B} =\n",
    "\\begin{bmatrix*}[r]\n",
    "  1 & 1 \\\\\n",
    "  3 & 4 \\\\\n",
    "\\end  {bmatrix*},\n",
    "\\mathbf{C} =\n",
    "\\begin{bmatrix*}[r]\n",
    "  2 & 5 \\\\\n",
    "  3 & 4 \\\\\n",
    "\\end  {bmatrix*}\n",
    "$"
   ]
  },
  {
   "cell_type": "markdown",
   "metadata": {},
   "source": [
    "Compute $\\mathbf{AB}$."
   ]
  },
  {
   "cell_type": "markdown",
   "metadata": {},
   "source": [
    "$\n",
    "\\begin{bmatrix*}[r]\n",
    "  0 & 1 \\\\\n",
    "  0 & 2 \\\\\n",
    "\\end  {bmatrix*}\n",
    "\\begin{bmatrix*}[r]\n",
    "  1 & 1 \\\\\n",
    "  3 & 4 \\\\\n",
    "\\end  {bmatrix*} =\n",
    "\\begin{bmatrix*}[r]\n",
    "  3 & 4 \\\\\n",
    "  6 & 8 \\\\\n",
    "\\end  {bmatrix*}\n",
    "$"
   ]
  },
  {
   "cell_type": "markdown",
   "metadata": {},
   "source": [
    "Compute $\\mathbf{BA}$."
   ]
  },
  {
   "cell_type": "markdown",
   "metadata": {},
   "source": [
    "$\n",
    "\\begin{bmatrix*}[r]\n",
    "  1 & 1 \\\\\n",
    "  3 & 4 \\\\\n",
    "\\end  {bmatrix*}\n",
    "\\begin{bmatrix*}[r]\n",
    "  0 & 1 \\\\\n",
    "  0 & 2 \\\\\n",
    "\\end  {bmatrix*} =\n",
    "\\begin{bmatrix*}[r]\n",
    "  0 &  3 \\\\\n",
    "  0 & 11 \\\\\n",
    "\\end  {bmatrix*}\n",
    "$"
   ]
  },
  {
   "cell_type": "markdown",
   "metadata": {},
   "source": [
    "Compute $\\mathbf{AC}$."
   ]
  },
  {
   "cell_type": "markdown",
   "metadata": {},
   "source": [
    "$\n",
    "\\begin{bmatrix*}[r]\n",
    "  0 & 1 \\\\\n",
    "  0 & 2 \\\\\n",
    "\\end  {bmatrix*}\n",
    "\\begin{bmatrix*}[r]\n",
    "  2 & 5 \\\\\n",
    "  3 & 4 \\\\\n",
    "\\end  {bmatrix*} =\n",
    "\\begin{bmatrix*}[r]\n",
    "  3 & 4 \\\\\n",
    "  6 & 8 \\\\\n",
    "\\end  {bmatrix*}\n",
    "$"
   ]
  },
  {
   "cell_type": "markdown",
   "metadata": {},
   "source": [
    "---"
   ]
  },
  {
   "cell_type": "markdown",
   "metadata": {},
   "source": [
    "## Properties of matrix transposition"
   ]
  },
  {
   "cell_type": "markdown",
   "metadata": {},
   "source": [
    "If $\\mathbf{A}$ is an $m \\times n$ matrix then $\\mathbf{A}^\\top$ is an $n \\times m$ matrix."
   ]
  },
  {
   "cell_type": "markdown",
   "metadata": {},
   "source": [
    "$(\\mathbf{A}^\\top)^\\top = \\mathbf{A}$"
   ]
  },
  {
   "cell_type": "markdown",
   "metadata": {},
   "source": [
    "$\\mathbf{(A + B)}^\\top = \\mathbf{A}^\\top + \\mathbf{B}^\\top$"
   ]
  },
  {
   "cell_type": "markdown",
   "metadata": {},
   "source": [
    "$(s \\mathbf{A})^\\top = s \\mathbf{A}^\\top$"
   ]
  },
  {
   "cell_type": "markdown",
   "metadata": {},
   "source": [
    "$(\\mathbf{AB})^\\top = \\mathbf{B^\\top A^\\top}$"
   ]
  },
  {
   "cell_type": "markdown",
   "metadata": {},
   "source": [
    "### <span style=\"color: green; font-family: Romans; font-size: 18px;\"><b>Example</b></span>"
   ]
  },
  {
   "cell_type": "markdown",
   "metadata": {},
   "source": [
    "$\n",
    "\\mathbf{A} =\n",
    "\\begin{bmatrix*}[r]\n",
    "  0 & 2 & 0 \\\\\n",
    "  3 & 0 & 1 \\\\\n",
    "\\end  {bmatrix*}\n",
    "$\n",
    "\n",
    "$\n",
    "\\mathbf{B} =\n",
    "\\begin{bmatrix*}[r]\n",
    "   2 & 5 \\\\\n",
    "   3 & 4 \\\\\n",
    "  -2 & 4 \\\\\n",
    "\\end  {bmatrix*}\n",
    "$"
   ]
  },
  {
   "cell_type": "markdown",
   "metadata": {},
   "source": [
    "Compute $\\mathbf{AB}$."
   ]
  },
  {
   "cell_type": "markdown",
   "metadata": {},
   "source": [
    "$\n",
    "\\mathbf{AB} =\n",
    "\\begin{bmatrix*}[r]\n",
    "  0 & 2 & 0 \\\\\n",
    "  3 & 0 & 1 \\\\\n",
    "\\end  {bmatrix*}\n",
    "\\begin{bmatrix*}[r]\n",
    "   2 & 5 \\\\\n",
    "   3 & 4 \\\\\n",
    "  -2 & 4 \\\\\n",
    "\\end  {bmatrix*} =\n",
    "\\begin{bmatrix*}[r]\n",
    "   6 &  8 \\\\\n",
    "   4 & 19 \\\\\n",
    "\\end  {bmatrix*}\n",
    "$"
   ]
  },
  {
   "cell_type": "markdown",
   "metadata": {},
   "source": [
    "Compute $(\\mathbf{AB})^\\top$."
   ]
  },
  {
   "cell_type": "markdown",
   "metadata": {},
   "source": [
    "$\n",
    "\\mathbf{AB} =\n",
    "\\begin{bmatrix*}[r]\n",
    "   6 &  8 \\\\\n",
    "   4 & 19 \\\\\n",
    "\\end  {bmatrix*}\n",
    "\\implies\n",
    "(\\mathbf{AB})^\\top =\n",
    "\\begin{bmatrix*}[r]\n",
    "   6 &  4 \\\\\n",
    "   8 & 19 \\\\\n",
    "\\end  {bmatrix*}\n",
    "$\n",
    "\n",
    "also\n",
    "\n",
    "$\n",
    "(\\mathbf{AB})^\\top =\n",
    "\\mathbf{B^\\top A^\\top}\n",
    "$\n",
    "\n",
    "(see below)"
   ]
  },
  {
   "cell_type": "markdown",
   "metadata": {},
   "source": [
    "Compute $\\mathbf{A^\\top B^\\top}$."
   ]
  },
  {
   "cell_type": "markdown",
   "metadata": {},
   "source": [
    "$\n",
    "\\mathbf{A} =\n",
    "\\begin{bmatrix*}[r]\n",
    "  0 & 2 & 0 \\\\\n",
    "  3 & 0 & 1 \\\\\n",
    "\\end  {bmatrix*}\n",
    "\\implies\n",
    "\\mathbf{A}^\\top =\n",
    "\\begin{bmatrix*}[r]\n",
    "  0 & 3 \\\\\n",
    "  2 & 0 \\\\\n",
    "  0 & 1 \\\\\n",
    "\\end  {bmatrix*}\n",
    "$\n",
    "\n",
    "$\n",
    "\\mathbf{B} =\n",
    "\\begin{bmatrix*}[r]\n",
    "   2 & 5 \\\\\n",
    "   3 & 4 \\\\\n",
    "  -2 & 4 \\\\\n",
    "\\end  {bmatrix*}\n",
    "\\implies\n",
    "\\mathbf{B}^\\top =\n",
    "\\begin{bmatrix*}[r]\n",
    "   2 & 3 & -2 \\\\\n",
    "   5 & 4 &  4 \\\\\n",
    "\\end  {bmatrix*}\n",
    "$\n",
    "\n",
    "$\n",
    "\\mathbf{A^\\top B^\\top} =\n",
    "\\begin{bmatrix*}[r]\n",
    "  0 & 3 \\\\\n",
    "  2 & 0 \\\\\n",
    "  0 & 1 \\\\\n",
    "\\end  {bmatrix*}\n",
    "\\begin{bmatrix*}[r]\n",
    "   2 & 3 & -2 \\\\\n",
    "   5 & 4 &  4 \\\\\n",
    "\\end  {bmatrix*} =\n",
    "\\begin{bmatrix*}[r]\n",
    "  15 & 12 & 12 \\\\\n",
    "   4 &  6 & -4 \\\\\n",
    "   5 &  4 &  4 \\\\\n",
    "\\end  {bmatrix*}\n",
    "$"
   ]
  },
  {
   "cell_type": "markdown",
   "metadata": {},
   "source": [
    "Compute $\\mathbf{B^\\top A^\\top}$."
   ]
  },
  {
   "cell_type": "markdown",
   "metadata": {},
   "source": [
    "$\n",
    "\\mathbf{B^\\top A^\\top} =\n",
    "\\begin{bmatrix*}[r]\n",
    "   2 & 3 & -2 \\\\\n",
    "   5 & 4 &  4 \\\\\n",
    "\\end  {bmatrix*}\n",
    "\\begin{bmatrix*}[r]\n",
    "  0 & 3 \\\\\n",
    "  2 & 0 \\\\\n",
    "  0 & 1 \\\\\n",
    "\\end  {bmatrix*} =\n",
    "\\begin{bmatrix*}[r]\n",
    "  6 &  4 \\\\\n",
    "  8 & 19 \\\\\n",
    "\\end  {bmatrix*}\n",
    "$"
   ]
  },
  {
   "cell_type": "markdown",
   "metadata": {},
   "source": [
    "---"
   ]
  },
  {
   "cell_type": "markdown",
   "metadata": {},
   "source": [
    "## Powers of a square matrix"
   ]
  },
  {
   "cell_type": "markdown",
   "metadata": {},
   "source": [
    "The powers of a square matrix are defined in the following manner.\n",
    "\n",
    "$\n",
    "\\begin{aligned}\n",
    "\\mathbf{A^2} &= \\mathbf{AA}  \\\\\n",
    "\\mathbf{A^3} &= \\mathbf{AAA} \\\\\n",
    "\\mathbf{A^k} &= \\underbrace{\\mathbf{AA \\dots A}}_{k \\,\\,\\,\\text{times}}  \\\\\n",
    "\\end  {aligned}\n",
    "$"
   ]
  },
  {
   "cell_type": "markdown",
   "metadata": {},
   "source": [
    "### <span style=\"color: green; font-family: Romans; font-size: 18px;\"><b>Example</b></span>"
   ]
  },
  {
   "cell_type": "markdown",
   "metadata": {},
   "source": [
    "$\n",
    "\\mathbf{A} =\n",
    "\\begin{bmatrix}\n",
    "  1 & 0 \\\\\n",
    "  3 & 2 \\\\\n",
    "\\end  {bmatrix}\n",
    "$"
   ]
  },
  {
   "cell_type": "markdown",
   "metadata": {},
   "source": [
    "Compute $\\mathbf{A^3}$."
   ]
  },
  {
   "cell_type": "markdown",
   "metadata": {},
   "source": [
    "$\n",
    "\\mathbf{A^3} = \\mathbf{AAA} =\n",
    "\\begin{bmatrix}\n",
    "  1 & 0 \\\\\n",
    "  3 & 2 \\\\\n",
    "\\end  {bmatrix}\n",
    "\\begin{bmatrix}\n",
    "  1 & 0 \\\\\n",
    "  3 & 2 \\\\\n",
    "\\end  {bmatrix}\n",
    "\\begin{bmatrix}\n",
    "  1 & 0 \\\\\n",
    "  3 & 2 \\\\\n",
    "\\end  {bmatrix} =\n",
    "\\begin{bmatrix*}[r]\n",
    "  1 & 0 \\\\\n",
    "  9 & 4 \\\\\n",
    "\\end  {bmatrix*}\n",
    "\\begin{bmatrix*}[r]\n",
    "  1 & 0 \\\\\n",
    "  3 & 2 \\\\\n",
    "\\end  {bmatrix*} =\n",
    "\\begin{bmatrix*}[r]\n",
    "   1 & 0 \\\\\n",
    "  21 & 8 \\\\\n",
    "\\end  {bmatrix*}\n",
    "$"
   ]
  },
  {
   "cell_type": "markdown",
   "metadata": {},
   "source": [
    "---"
   ]
  }
 ],
 "metadata": {
  "language_info": {
   "name": "python"
  }
 },
 "nbformat": 4,
 "nbformat_minor": 2
}
