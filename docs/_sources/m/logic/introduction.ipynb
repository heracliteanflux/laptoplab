{
 "cells": [
  {
   "cell_type": "markdown",
   "metadata": {},
   "source": [
    "# Introduction\n",
    "```{admonition} Revised\n",
    "24 Aug 2023\n",
    "```"
   ]
  },
  {
   "cell_type": "markdown",
   "metadata": {},
   "source": [
    "---"
   ]
  },
  {
   "cell_type": "markdown",
   "metadata": {},
   "source": [
    "## Table of Contents\n",
    "```{contents}\n",
    "```"
   ]
  },
  {
   "cell_type": "markdown",
   "metadata": {},
   "source": [
    "---"
   ]
  },
  {
   "cell_type": "markdown",
   "metadata": {},
   "source": [
    "## Programming Environment"
   ]
  },
  {
   "cell_type": "code",
   "execution_count": 4,
   "metadata": {},
   "outputs": [],
   "source": [
    "from   collections import Counter\n",
    "from   functools   import partial\n",
    "from   itertools   import product\n",
    "import re\n",
    "from   typing      import List"
   ]
  },
  {
   "cell_type": "code",
   "execution_count": 24,
   "metadata": {},
   "outputs": [
    {
     "name": "stdout",
     "output_type": "stream",
     "text": [
      "expression   a |implies| b\n",
      "truth table  [[True, True, True], [False, True, True], [True, False, False], [False, False, True]]\n",
      "satisfying   3\n",
      "tautology    False\n"
     ]
    }
   ],
   "source": [
    "# https://www.cs.colostate.edu/~cs220/fall17/assignments/PA1/\n",
    "\n",
    "class Infix (object):\n",
    "\tdef __init__ (self, func):\n",
    "\t\tself.func = func\n",
    "\tdef __or__ (self, other):\n",
    "\t\treturn self.func(other)\n",
    "\tdef __ror__ (self, other):\n",
    "\t\treturn Infix(partial(self.func, other))\n",
    "\tdef __call__ (self, v1, v2):\n",
    "\t\treturn self.func(v1, v2)\n",
    "\n",
    "@Infix\n",
    "def implies (p, q):\n",
    "\treturn not p or q\n",
    "\n",
    "@Infix\n",
    "def iff (p, q):\n",
    "\treturn (p |implies| q) and (q |implies| p)\n",
    "\n",
    "def extract_variables (expr : str) -> set:\n",
    "  sorted_variable_set = sorted(set(re.findall(r'\\b[a-z]\\b', expr)))\n",
    "  return sorted_variable_set\n",
    "\n",
    "TruthTable = list[list[bool]]\n",
    "\n",
    "def truth_table (expr : str) -> List[List[bool]]:\n",
    "\t'''\n",
    "\tparameters\n",
    "\t==========\n",
    "\t`expr` [str] : a valid Python logical expression\n",
    "\t\n",
    "\treturn\n",
    "\t======\n",
    "\t[list] each element is a row in the table\n",
    "\t'''\n",
    "\n",
    "\tletters = extract_variables(expr)\n",
    "\t#tokens  = expression.split()\n",
    "\t#letters = sorted(set(letter for letter in tokens if len(letter) == 1)) # get sorted, unique variables\n",
    "\t\n",
    "\ttt = [list(tup) for tup in product([True, False], repeat=len(letters))]\n",
    "\tfor row in tt:\n",
    "\t\tfor letter, val in zip(letters, row):\n",
    "\t\t\texec(f'{letter}={val}')\n",
    "\t\ttry:\n",
    "\t\t  row.append(eval(expr))\n",
    "\t\texcept SyntaxError as e:\n",
    "\t\t\traise\n",
    "\n",
    "\treturn tt\n",
    "\n",
    "# recursive implementation\n",
    "def truth_table_recursor (letters : list) -> TruthTable:\n",
    "  if len(letters) == 1: # base case\n",
    "    return [[True], [False]]\n",
    "  else:                 # recursive case\n",
    "    return [elem + [True]  for elem in truth_table_recursor(letters[1:])] + \\\n",
    "           [elem + [False] for elem in truth_table_recursor(letters[1:])]\n",
    "    #return list(itertools.chain.from_iterable([[elem + [True], elem + [False]] for elem in truth_table_recursor(letters[1:])]))\n",
    "def truth_table (expr : str) -> TruthTable:\n",
    "  letters = extract_variables(expr)\n",
    "  tt      = truth_table_recursor(letters)\n",
    "  for row in tt:\n",
    "    for letter, val in zip(letters, row):\n",
    "      exec(f'{letter}={val}')\n",
    "    try:\n",
    "      row.append(eval(expr))\n",
    "    except SyntaxError as e:\n",
    "      raise\n",
    "  return tt\n",
    "\n",
    "def count_satisfying (expr : str) -> int:\n",
    "\t'''\n",
    "\tparameters\n",
    "\t==========\n",
    "\t`expr` [str] : a valid Python logical expression\n",
    "\n",
    "\treturn\n",
    "\t======\n",
    "\t[int] the number of assignments of the variables for which the result is True\n",
    "\t'''\n",
    "\ttt = truth_table(expr)\n",
    "\treturn sum(row[-1] for row in tt)\n",
    "\n",
    "def is_tautology (expr : str) -> bool:\n",
    "\t'''\n",
    "\tparameters\n",
    "\t==========\n",
    "\t`expr` [str] : a valid Python logical expression\n",
    "\n",
    "\treturn\n",
    "\t======\n",
    "\t[bool] indicates whether the expression is a tautology or not\n",
    "\t'''\n",
    "\ttt = truth_table(expr)\n",
    "\treturn sum(row[-1] for row in tt) == len(tt)\n",
    "\n",
    "def are_equivalent (expr1 : str, expr2 : str) -> bool:\n",
    "\t'''\n",
    "\tparameters\n",
    "\t==========\n",
    "\t`expr1` [str] : a valid Python logical expression\n",
    "\t`expr2` [str] : a valid Python logical expression\n",
    "\n",
    "\treturn\n",
    "\t======\n",
    "\t[bool] indicates whether the expressions are equivalent or not\n",
    "\t'''\n",
    "\ttt1 = truth_table(expr1)\n",
    "\ttt2 = truth_table(expr2)\n",
    "\tfor row_tt1, row_tt2 in zip(tt1, tt2):\n",
    "\t\tif row_tt1[-1] != row_tt2[-1]:\n",
    "\t\t\treturn False\n",
    "\treturn True\n",
    "\n",
    "expr = 'a |implies| b'\n",
    "pad=12\n",
    "print(f\"{'expression' :<{pad}} {expr}\")\n",
    "print(f\"{'truth table':<{pad}} {truth_table     (expr)}\")\n",
    "print(f\"{'satisfying' :<{pad}} {count_satisfying(expr)}\")\n",
    "print(f\"{'tautology'  :<{pad}} {is_tautology    (expr)}\")"
   ]
  },
  {
   "cell_type": "markdown",
   "metadata": {},
   "source": [
    "---"
   ]
  },
  {
   "cell_type": "markdown",
   "metadata": {},
   "source": [
    "## Propositional Logic (PL)\n",
    "Sentential Logic or Zeroth-Order Logic\n",
    "\n",
    "```{contents}\n",
    ":local:\n",
    "```"
   ]
  },
  {
   "cell_type": "markdown",
   "metadata": {},
   "source": [
    "---"
   ]
  },
  {
   "cell_type": "markdown",
   "metadata": {},
   "source": [
    "* Propositional Expression/Formula (Sentential Formula)\n",
    "* Rule of Inference (Inference/Transformation Rule)"
   ]
  },
  {
   "cell_type": "markdown",
   "metadata": {},
   "source": [
    "### Boolean Values"
   ]
  },
  {
   "cell_type": "markdown",
   "metadata": {},
   "source": [
    "$\n",
    "\\begin{array}{c|c|c}\n",
    "& \\text{Arithmetic} & \\text{Boolean Logic} \\\\\n",
    "\\hline\n",
    "\\text{Values} & ..., -2, -1, 0, 1, 2, ... & \\text{T}, \\text{F} \\\\\n",
    "\\hline\n",
    "\\text{Operators} & +, -, \\times, \\div & \\land, \\lor, \\lnot \\\\\n",
    "\\end{array}\n",
    "$"
   ]
  },
  {
   "cell_type": "markdown",
   "metadata": {},
   "source": [
    "Unlike the indefinite (or infinite) number of values on which arithmetic operates, propositional logic only deals in two Boolean values: true and false.\n",
    "\n",
    "$\n",
    "\\begin{array}{c|c|c|c}\n",
    "\\text{Boolean} & \\text{binary} & \\text{Python} & \\text{physical} \\\\\n",
    "\\hline\n",
    "\\text{true, T}  & 1 & \\text{True}  & \\text{high voltage} \\\\\n",
    "\\text{false, F} & 0 & \\text{False} & \\text{low voltage}  \\\\\n",
    "\\end{array}\n",
    "$"
   ]
  },
  {
   "cell_type": "code",
   "execution_count": null,
   "metadata": {},
   "outputs": [
    {
     "name": "stdout",
     "output_type": "stream",
     "text": [
      "<class 'bool'>\n",
      "<class 'bool'>\n"
     ]
    }
   ],
   "source": [
    "print(type(True))\n",
    "print(type(False))"
   ]
  },
  {
   "cell_type": "markdown",
   "metadata": {},
   "source": [
    "### Conjunction (and)"
   ]
  },
  {
   "cell_type": "markdown",
   "metadata": {},
   "source": [
    "Conjunction is represented by the symbol $\\land$.\n",
    "\n",
    "Definition of the binary operation\n",
    "\n",
    "$\n",
    "\\begin{array}{c|cc}\n",
    "\\land & \\text{T} & \\text{F} \\\\\n",
    "\\hline\n",
    "\\text{T} & \\text{T} & \\text{F} \\\\\n",
    "\\text{F} & \\text{F} & \\text{F} \\\\\n",
    "\\end{array}\n",
    "$\n",
    "\n",
    "Binary truth table\n",
    "\n",
    "$\n",
    "\\begin{array}{cc|c}\n",
    "\\text{P} & \\text{Q} & \\text{P} \\land \\text{Q} \\\\\n",
    "\\hline\n",
    "\\text{T} & \\text{T} & \\text{T} \\\\\n",
    "\\text{T} & \\text{F} & \\text{F} \\\\\n",
    "\\text{F} & \\text{T} & \\text{F} \\\\\n",
    "\\text{F} & \\text{F} & \\text{F} \\\\\n",
    "\\end{array}\n",
    "$\n",
    "\n",
    "English\n",
    "* $\\text{P}$ The sky is blue.\n",
    "* $\\text{Q}$ The moon is full.\n",
    "* $\\text{P} \\land \\text{Q}$\n",
    "  * The sky is blue and the moon is full.\n",
    "  * The sky is blue, but the moon is full.\n",
    "  * Despite the fact that the sky is blue, the moon is full.\n",
    "  * Although the sky is blue, the moon is full."
   ]
  },
  {
   "cell_type": "code",
   "execution_count": null,
   "metadata": {},
   "outputs": [
    {
     "name": "stdout",
     "output_type": "stream",
     "text": [
      "True  and True  is True\n",
      "True  and False is False\n",
      "False and True  is False\n",
      "False and False is False\n"
     ]
    }
   ],
   "source": [
    "for P, Q in product((True, False), repeat=2):\n",
    "  print(f\"{str(P):<5} and {str(Q):<5} is {P and Q}\")"
   ]
  },
  {
   "cell_type": "code",
   "execution_count": 25,
   "metadata": {},
   "outputs": [
    {
     "name": "stdout",
     "output_type": "stream",
     "text": [
      "expression   a and b\n",
      "truth table  [[True, True, True], [False, True, False], [True, False, False], [False, False, False]]\n",
      "satisfying   1\n",
      "tautology    False\n"
     ]
    }
   ],
   "source": [
    "expr = 'a and b'\n",
    "pad=12\n",
    "print(f\"{'expression' :<{pad}} {expr}\")\n",
    "print(f\"{'truth table':<{pad}} {truth_table     (expr)}\")\n",
    "print(f\"{'satisfying' :<{pad}} {count_satisfying(expr)}\")\n",
    "print(f\"{'tautology'  :<{pad}} {is_tautology    (expr)}\")"
   ]
  },
  {
   "cell_type": "markdown",
   "metadata": {},
   "source": [
    "The conjunction of $n$ propositional variables is true if and only if each variable is true. In other words, if at least one variable of a conjunction is false then the conjunction is false, otherwise it's true."
   ]
  },
  {
   "cell_type": "code",
   "execution_count": null,
   "metadata": {},
   "outputs": [
    {
     "name": "stdout",
     "output_type": "stream",
     "text": [
      "True\n",
      "True\n",
      "False\n"
     ]
    }
   ],
   "source": [
    "P = True\n",
    "Q = True\n",
    "R = True\n",
    "print(P and Q and R) # all((P, Q, R))\n",
    "\n",
    "A = B = C = D = E = F = G = True\n",
    "print(A and B and C and D and E and F and G)\n",
    "\n",
    "G = False\n",
    "print(A and B and C and D and E and F and G)"
   ]
  },
  {
   "cell_type": "markdown",
   "metadata": {},
   "source": [
    "### Inclusive Disjunction (or)"
   ]
  },
  {
   "cell_type": "markdown",
   "metadata": {},
   "source": [
    "Inclusive disjunction is represented by the symbol $\\lor$.\n",
    "\n",
    "Definition\n",
    "\n",
    "$\n",
    "\\begin{array}{c|cc} \\lor & \\text{T} & \\text{F} \\\\\n",
    "\\hline\n",
    "\\text{T} & \\text{T} & \\text{T} \\\\\n",
    "\\text{F} & \\text{T} & \\text{F} \\\\\n",
    "\\end{array}\n",
    "$\n",
    "\n",
    "Truth Table\n",
    "\n",
    "$\n",
    "\\begin{array}{cc|c}\n",
    "\\text{P} & \\text{Q} & \\text{P} \\lor \\text{Q} \\\\\n",
    "\\hline\n",
    "\\text{T} & \\text{T} & \\text{T} \\\\\n",
    "\\text{T} & \\text{F} & \\text{T} \\\\\n",
    "\\text{F} & \\text{T} & \\text{T} \\\\\n",
    "\\text{F} & \\text{F} & \\text{F} \\\\\n",
    "\\end{array}\n",
    "$\n",
    "\n",
    "English\n",
    "* $\\text{P}$ The sky is blue.\n",
    "* $\\text{Q}$ The moon is full.\n",
    "* $\\text{P} \\lor \\text{Q}$ The sky is blue or the moon is full, or both."
   ]
  },
  {
   "cell_type": "code",
   "execution_count": null,
   "metadata": {},
   "outputs": [
    {
     "name": "stdout",
     "output_type": "stream",
     "text": [
      "True  or True  is True\n",
      "True  or False is True\n",
      "False or True  is True\n",
      "False or False is False\n"
     ]
    }
   ],
   "source": [
    "for P, Q in product((True, False), repeat=2):\n",
    "  print(f\"{str(P):<5} or {str(Q):<5} is {P or Q}\")"
   ]
  },
  {
   "cell_type": "code",
   "execution_count": 26,
   "metadata": {},
   "outputs": [
    {
     "name": "stdout",
     "output_type": "stream",
     "text": [
      "expression   a or b\n",
      "truth table  [[True, True, True], [False, True, True], [True, False, True], [False, False, False]]\n",
      "satisfying   3\n",
      "tautology    False\n"
     ]
    }
   ],
   "source": [
    "expr = 'a or b'\n",
    "pad=12\n",
    "print(f\"{'expression' :<{pad}} {expr}\")\n",
    "print(f\"{'truth table':<{pad}} {truth_table     (expr)}\")\n",
    "print(f\"{'satisfying' :<{pad}} {count_satisfying(expr)}\")\n",
    "print(f\"{'tautology'  :<{pad}} {is_tautology    (expr)}\")"
   ]
  },
  {
   "cell_type": "markdown",
   "metadata": {},
   "source": [
    "The inclusive disjunction of $n$ propositional variables is true if at least one variable is true. In other words, if no variable of an inclusive disjunction is true then the inclusive disjunction is false, otherwise it's true."
   ]
  },
  {
   "cell_type": "code",
   "execution_count": null,
   "metadata": {},
   "outputs": [
    {
     "name": "stdout",
     "output_type": "stream",
     "text": [
      "True\n",
      "False\n",
      "True\n"
     ]
    }
   ],
   "source": [
    "P = True\n",
    "Q = True\n",
    "R = True\n",
    "print(P or Q or R) # all((P, Q, R))\n",
    "\n",
    "A = B = C = D = E = F = G = False\n",
    "print(A or B or C or D or E or F or G)\n",
    "\n",
    "G = True\n",
    "print(A or B or C or D or E or F or G)"
   ]
  },
  {
   "cell_type": "markdown",
   "metadata": {},
   "source": [
    "### Negation"
   ]
  },
  {
   "cell_type": "markdown",
   "metadata": {},
   "source": [
    "Negation is represented by the symbol $\\lnot$. Negation is a unary function because it takes one input value.\n",
    "\n",
    "Definition of the unary operation\n",
    "\n",
    "$\n",
    "\\begin{array}{c|c} & \\lnot \\\\\n",
    "\\hline\n",
    "\\text{T} & \\text{F} \\\\\n",
    "\\text{F} & \\text{T} \\\\\n",
    "\\end{array}\n",
    "$\n",
    "\n",
    "Unary truth table\n",
    "\n",
    "$\n",
    "\\begin{array}{c|c}\n",
    "\\text{P} & \\lnot \\text{P} \\\\\n",
    "\\hline\n",
    "\\text{T} & \\text{F} \\\\\n",
    "\\text{F} & \\text{T} \\\\\n",
    "\\end{array}\n",
    "$"
   ]
  },
  {
   "cell_type": "code",
   "execution_count": null,
   "metadata": {},
   "outputs": [
    {
     "name": "stdout",
     "output_type": "stream",
     "text": [
      "not True  is False\n",
      "not False is True\n"
     ]
    }
   ],
   "source": [
    "for P in (True, False):\n",
    "  print(f\"not {str(P):<5} is {not P}\")"
   ]
  },
  {
   "cell_type": "code",
   "execution_count": 27,
   "metadata": {},
   "outputs": [
    {
     "name": "stdout",
     "output_type": "stream",
     "text": [
      "expression   not a\n",
      "truth table  [[True, False], [False, True]]\n",
      "satisfying   1\n",
      "tautology    False\n"
     ]
    }
   ],
   "source": [
    "expr = 'not a'\n",
    "pad=12\n",
    "print(f\"{'expression' :<{pad}} {expr}\")\n",
    "print(f\"{'truth table':<{pad}} {truth_table     (expr)}\")\n",
    "print(f\"{'satisfying' :<{pad}} {count_satisfying(expr)}\")\n",
    "print(f\"{'tautology'  :<{pad}} {is_tautology    (expr)}\")"
   ]
  },
  {
   "cell_type": "markdown",
   "metadata": {},
   "source": [
    "### Exclusive Disjunction (either or but not both)"
   ]
  },
  {
   "cell_type": "markdown",
   "metadata": {},
   "source": [
    "Definition of the binary operation\n",
    "\n",
    "$\n",
    "\\begin{array}{c|cc} \\oplus & \\text{T} & \\text{F} \\\\\n",
    "\\hline\n",
    "\\text{T} & \\text{F} & \\text{T} \\\\\n",
    "\\text{F} & \\text{T} & \\text{F} \\\\\n",
    "\\end{array}\n",
    "$\n",
    "\n",
    "Binary truth table\n",
    "\n",
    "$\n",
    "\\begin{array}{cc|c}\n",
    "\\text{P} & \\text{Q} & \\text{P} \\oplus \\text{Q} \\\\\n",
    "\\hline\n",
    "\\text{T} & \\text{T} & \\text{F} \\\\\n",
    "\\text{T} & \\text{F} & \\text{T} \\\\\n",
    "\\text{F} & \\text{T} & \\text{T} \\\\\n",
    "\\text{F} & \\text{F} & \\text{F} \\\\\n",
    "\\end{array}\n",
    "$\n",
    "\n",
    "English\n",
    "* $\\text{P}$ The sky is blue.\n",
    "* $\\text{Q}$ The moon is full.\n",
    "* $\\text{P} \\oplus \\text{Q}$ The sky is blue or the moon is full, but not both."
   ]
  },
  {
   "cell_type": "code",
   "execution_count": null,
   "metadata": {},
   "outputs": [
    {
     "name": "stdout",
     "output_type": "stream",
     "text": [
      "False\n",
      "True\n",
      "True\n",
      "False\n"
     ]
    }
   ],
   "source": [
    "def xor (P: bool,\n",
    "         Q: bool) -> bool:\n",
    "  return    (P and not Q) \\\n",
    "         or (Q and not P)\n",
    "\n",
    "for P, Q in product((True, False), repeat=2):\n",
    "  print(xor(P, Q))"
   ]
  },
  {
   "cell_type": "code",
   "execution_count": 28,
   "metadata": {},
   "outputs": [
    {
     "name": "stdout",
     "output_type": "stream",
     "text": [
      "expression   not (not a or b) or not (a or not b)\n",
      "truth table  [[True, True, False], [False, True, True], [True, False, True], [False, False, False]]\n",
      "satisfying   2\n",
      "tautology    False\n"
     ]
    }
   ],
   "source": [
    "expr = 'not (not a or b) or not (a or not b)'\n",
    "pad=12\n",
    "print(f\"{'expression' :<{pad}} {expr}\")\n",
    "print(f\"{'truth table':<{pad}} {truth_table     (expr)}\")\n",
    "print(f\"{'satisfying' :<{pad}} {count_satisfying(expr)}\")\n",
    "print(f\"{'tautology'  :<{pad}} {is_tautology    (expr)}\")"
   ]
  },
  {
   "cell_type": "markdown",
   "metadata": {},
   "source": [
    "### Material Conditional/Implication (if then)"
   ]
  },
  {
   "cell_type": "markdown",
   "metadata": {},
   "source": [
    "Definition\n",
    "\n",
    "$\n",
    "\\begin{array}{c|cc} \\rightarrow & \\text{T} & \\text{F} \\\\\n",
    "\\hline\n",
    "\\text{T} & \\text{T} & \\text{F} \\\\\n",
    "\\text{F} & \\text{T} & \\text{T} \\\\\n",
    "\\end{array}\n",
    "$\n",
    "\n",
    "Truth Table\n",
    "\n",
    "$\n",
    "\\begin{array}{cc|c}\n",
    "\\text{P} & \\text{Q} & \\text{P} \\rightarrow \\text{Q} \\\\\n",
    "\\hline\n",
    "\\text{T} & \\text{T} & \\text{T} \\\\\n",
    "\\text{T} & \\text{F} & \\text{F} \\\\\n",
    "\\text{F} & \\text{T} & \\text{T} \\\\\n",
    "\\text{F} & \\text{F} & \\text{T} \\\\\n",
    "\\end{array}\n",
    "$\n",
    "\n",
    "English\n",
    "* $\\text{P}$ The sky is blue.\n",
    "* $\\text{Q}$ The moon is full.\n",
    "* $\\text{P} \\rightarrow \\text{Q}$ If the sky is blue, then the moon is full. (If P, then Q)\n",
    "  * Either the moon is full or the sky is not blue, or both. (Either Q or not P, or both)\n",
    "  * If the sky is blue the moon is full. (If P, Q)\n",
    "  * The moon is full if the sky is blue. (Q if P)\n",
    "  * The sky is blue implies the moon is full. (P implies Q)\n",
    "  * The sky is blue only if the moon is full. (P only if Q)\n",
    "  * The sky is blue is sufficient for the moon is full. (P is sufficient for Q)\n",
    "  * The moon is full is necessary for the sky is blue. (Q is necessary for P)"
   ]
  },
  {
   "cell_type": "code",
   "execution_count": null,
   "metadata": {},
   "outputs": [
    {
     "name": "stdout",
     "output_type": "stream",
     "text": [
      "True\n",
      "True\n",
      "False\n",
      "True\n"
     ]
    }
   ],
   "source": [
    "def ifthen (P: bool,\n",
    "            Q: bool) -> bool:\n",
    "  return not (P and not Q)\n",
    "\n",
    "for P, Q in product((False, True), repeat=2):\n",
    "  print(ifthen(P, Q))"
   ]
  },
  {
   "cell_type": "code",
   "execution_count": 29,
   "metadata": {},
   "outputs": [
    {
     "name": "stdout",
     "output_type": "stream",
     "text": [
      "expression   a |implies| b\n",
      "truth table  [[True, True, True], [False, True, True], [True, False, False], [False, False, True]]\n",
      "satisfying   3\n",
      "tautology    False\n"
     ]
    }
   ],
   "source": [
    "expr = 'a |implies| b'\n",
    "pad=12\n",
    "print(f\"{'expression' :<{pad}} {expr}\")\n",
    "print(f\"{'truth table':<{pad}} {truth_table     (expr)}\")\n",
    "print(f\"{'satisfying' :<{pad}} {count_satisfying(expr)}\")\n",
    "print(f\"{'tautology'  :<{pad}} {is_tautology    (expr)}\")"
   ]
  },
  {
   "cell_type": "markdown",
   "metadata": {},
   "source": [
    "#### Converse Implication"
   ]
  },
  {
   "cell_type": "markdown",
   "metadata": {},
   "source": [
    "Definition\n",
    "\n",
    "$\n",
    "\\begin{array}{c|cc} \\leftarrow & \\text{T} & \\text{F} \\\\\n",
    "\\hline\n",
    "\\text{T} & \\text{T} & \\text{T} \\\\\n",
    "\\text{F} & \\text{T} & \\text{F} \\\\\n",
    "\\end{array}\n",
    "$\n",
    "\n",
    "Truth Table\n",
    "\n",
    "$\n",
    "\\begin{array}{cc|c}\n",
    "\\text{P} & \\text{Q} & \\text{P} \\leftarrow \\text{Q} \\\\\n",
    "\\hline\n",
    "\\text{T} & \\text{T} & \\text{T} \\\\\n",
    "\\text{T} & \\text{F} & \\text{T} \\\\\n",
    "\\text{F} & \\text{T} & \\text{F} \\\\\n",
    "\\text{F} & \\text{F} & \\text{T} \\\\\n",
    "\\end{array}\n",
    "$\n",
    "\n",
    "English\n",
    "* $\\text{P}$ The sky is blue.\n",
    "* $\\text{Q}$ The moon is full.\n",
    "* $\\text{P} \\leftarrow \\text{Q}$ The sky is blue if the moon is full. (P if Q)"
   ]
  },
  {
   "cell_type": "code",
   "execution_count": 30,
   "metadata": {},
   "outputs": [
    {
     "name": "stdout",
     "output_type": "stream",
     "text": [
      "expression   p or not q\n",
      "truth table  [[True, True, True], [False, True, False], [True, False, True], [False, False, True]]\n",
      "satisfying   3\n",
      "tautology    False\n"
     ]
    }
   ],
   "source": [
    "expr = 'p or not q'\n",
    "pad=12\n",
    "print(f\"{'expression' :<{pad}} {expr}\")\n",
    "print(f\"{'truth table':<{pad}} {truth_table     (expr)}\")\n",
    "print(f\"{'satisfying' :<{pad}} {count_satisfying(expr)}\")\n",
    "print(f\"{'tautology'  :<{pad}} {is_tautology    (expr)}\")"
   ]
  },
  {
   "cell_type": "markdown",
   "metadata": {},
   "source": [
    "#### Contrapositive"
   ]
  },
  {
   "cell_type": "markdown",
   "metadata": {},
   "source": [
    "If not q, then not p.\n",
    "\n",
    "$\\text{P} \\rightarrow \\text{Q} \\overset{?}{\\equiv} \\lnot\\text{Q} \\rightarrow \\lnot\\text{P}$\n",
    "\n",
    "Proof by substitution\n",
    "\n",
    "$\n",
    "\\begin{aligned}\n",
    "\\text{P} \\rightarrow \\text{Q} && \\\\\n",
    "(\\lnot\\text{P} \\lor \\text{Q}) && \\text{conditionality} \\\\\n",
    "(\\text{Q} \\lor \\lnot\\text{P}) && \\text{commutativity} \\\\\n",
    "(\\lnot\\lnot\\text{Q} \\lor \\lnot\\text{P}) && \\text{double negation} \\\\\n",
    "(\\lnot\\text{Q} \\rightarrow \\lnot\\text{P}) && \\text{conditionality} \\\\\n",
    "\\end{aligned}\n",
    "$\n",
    "\n",
    "$\\therefore \\text{P} \\rightarrow \\text{Q} \\equiv \\lnot\\text{Q} \\rightarrow \\lnot\\text{P}$\n",
    "\n",
    "$\\blacksquare$"
   ]
  },
  {
   "cell_type": "markdown",
   "metadata": {},
   "source": [
    "#### Inverse"
   ]
  },
  {
   "cell_type": "markdown",
   "metadata": {},
   "source": [
    "If not p, then not q."
   ]
  },
  {
   "cell_type": "markdown",
   "metadata": {},
   "source": [
    "### Biconditional"
   ]
  },
  {
   "cell_type": "markdown",
   "metadata": {},
   "source": [
    "Definition\n",
    "\n",
    "$\n",
    "\\begin{array}{c|cc} \\leftrightarrow & \\text{T} & \\text{F} \\\\\n",
    "\\hline\n",
    "\\text{T} & \\text{T} & \\text{F} \\\\\n",
    "\\text{F} & \\text{F} & \\text{T} \\\\\n",
    "\\end{array}\n",
    "$\n",
    "\n",
    "Truth Table\n",
    "\n",
    "$\n",
    "\\begin{array}{cc|c}\n",
    "\\text{P} & \\text{Q} & \\text{P} \\leftrightarrow \\text{Q} \\\\\n",
    "\\hline\n",
    "\\text{T} & \\text{T} & \\text{T} \\\\\n",
    "\\text{T} & \\text{F} & \\text{F} \\\\\n",
    "\\text{F} & \\text{T} & \\text{F} \\\\\n",
    "\\text{F} & \\text{F} & \\text{T} \\\\\n",
    "\\end{array}\n",
    "$\n",
    "\n",
    "English\n",
    "* $\\text{P}$ The sky is blue.\n",
    "* $\\text{Q}$ The moon is full.\n",
    "* $\\text{P} \\leftrightarrow \\text{Q}$ The sky is blue if and only if the moon is full. (P if and only if Q)"
   ]
  },
  {
   "cell_type": "code",
   "execution_count": 31,
   "metadata": {},
   "outputs": [
    {
     "name": "stdout",
     "output_type": "stream",
     "text": [
      "expression   a |iff| b\n",
      "truth table  [[True, True, True], [False, True, False], [True, False, False], [False, False, True]]\n",
      "satisfying   2\n",
      "tautology    False\n"
     ]
    }
   ],
   "source": [
    "expr = 'a |iff| b'\n",
    "pad=12\n",
    "print(f\"{'expression' :<{pad}} {expr}\")\n",
    "print(f\"{'truth table':<{pad}} {truth_table     (expr)}\")\n",
    "print(f\"{'satisfying' :<{pad}} {count_satisfying(expr)}\")\n",
    "print(f\"{'tautology'  :<{pad}} {is_tautology    (expr)}\")"
   ]
  },
  {
   "cell_type": "markdown",
   "metadata": {},
   "source": [
    "### Tautology"
   ]
  },
  {
   "cell_type": "markdown",
   "metadata": {},
   "source": [
    "Definition\n",
    "\n",
    "$\n",
    "\\begin{array}{c|cc} \\top & \\text{T} & \\text{F} \\\\\n",
    "\\hline\n",
    "\\text{T} & \\text{T} & \\text{T} \\\\\n",
    "\\text{F} & \\text{T} & \\text{T} \\\\\n",
    "\\end{array}\n",
    "$\n",
    "\n",
    "Truth Table\n",
    "\n",
    "$\n",
    "\\begin{array}{cc|c}\n",
    "\\text{P} & \\text{Q} & \\text{P} \\top \\text{Q} \\\\\n",
    "\\hline\n",
    "\\text{T} & \\text{T} & \\text{T} \\\\\n",
    "\\text{T} & \\text{F} & \\text{T} \\\\\n",
    "\\text{F} & \\text{T} & \\text{T} \\\\\n",
    "\\text{F} & \\text{F} & \\text{T} \\\\\n",
    "\\end{array}\n",
    "$"
   ]
  },
  {
   "cell_type": "code",
   "execution_count": null,
   "metadata": {},
   "outputs": [
    {
     "name": "stdout",
     "output_type": "stream",
     "text": [
      "True\n",
      "True\n",
      "True\n",
      "True\n"
     ]
    }
   ],
   "source": [
    "def tautology (a: bool,\n",
    "               b: bool) -> bool:\n",
    "  return True\n",
    "\n",
    "for P, Q in product((True, False), repeat=2):\n",
    "  print(tautology(P, Q))"
   ]
  },
  {
   "cell_type": "code",
   "execution_count": 32,
   "metadata": {},
   "outputs": [
    {
     "name": "stdout",
     "output_type": "stream",
     "text": [
      "expression   a or not a\n",
      "truth table  [[True, True], [False, True]]\n",
      "satisfying   2\n",
      "tautology    True\n"
     ]
    }
   ],
   "source": [
    "expr = 'a or not a'\n",
    "pad=12\n",
    "print(f\"{'expression' :<{pad}} {expr}\")\n",
    "print(f\"{'truth table':<{pad}} {truth_table     (expr)}\")\n",
    "print(f\"{'satisfying' :<{pad}} {count_satisfying(expr)}\")\n",
    "print(f\"{'tautology'  :<{pad}} {is_tautology    (expr)}\")"
   ]
  },
  {
   "cell_type": "markdown",
   "metadata": {},
   "source": [
    "### Contradiction"
   ]
  },
  {
   "cell_type": "markdown",
   "metadata": {},
   "source": [
    "Definition\n",
    "\n",
    "$\n",
    "\\begin{array}{c|cc} \\bot & \\text{T} & \\text{F} \\\\\n",
    "\\hline\n",
    "\\text{T} & \\text{F} & \\text{F} \\\\\n",
    "\\text{F} & \\text{F} & \\text{F} \\\\\n",
    "\\end{array}\n",
    "$\n",
    "\n",
    "Truth Table\n",
    "\n",
    "$\n",
    "\\begin{array}{cc|c}\n",
    "\\text{P} & \\text{Q} & \\text{P} \\bot \\text{Q} \\\\\n",
    "\\hline\n",
    "\\text{T} & \\text{T} & \\text{F} \\\\\n",
    "\\text{T} & \\text{F} & \\text{F} \\\\\n",
    "\\text{F} & \\text{T} & \\text{F} \\\\\n",
    "\\text{F} & \\text{F} & \\text{F} \\\\\n",
    "\\end{array}\n",
    "$"
   ]
  },
  {
   "cell_type": "code",
   "execution_count": null,
   "metadata": {},
   "outputs": [
    {
     "name": "stdout",
     "output_type": "stream",
     "text": [
      "False\n",
      "False\n",
      "False\n",
      "False\n"
     ]
    }
   ],
   "source": [
    "def contradiction (a: bool,\n",
    "                   b: bool) -> bool:\n",
    "  return False\n",
    "\n",
    "for P, Q in product((True, False), repeat=2):\n",
    "  print(contradiction(P, Q))"
   ]
  },
  {
   "cell_type": "code",
   "execution_count": 33,
   "metadata": {},
   "outputs": [
    {
     "name": "stdout",
     "output_type": "stream",
     "text": [
      "expression   not (a or not a)\n",
      "truth table  [[True, False], [False, False]]\n",
      "satisfying   0\n",
      "tautology    False\n"
     ]
    }
   ],
   "source": [
    "expr = 'not (a or not a)'\n",
    "pad=12\n",
    "print(f\"{'expression' :<{pad}} {expr}\")\n",
    "print(f\"{'truth table':<{pad}} {truth_table     (expr)}\")\n",
    "print(f\"{'satisfying' :<{pad}} {count_satisfying(expr)}\")\n",
    "print(f\"{'tautology'  :<{pad}} {is_tautology    (expr)}\")"
   ]
  },
  {
   "cell_type": "markdown",
   "metadata": {},
   "source": [
    "#### Summary"
   ]
  },
  {
   "cell_type": "markdown",
   "metadata": {},
   "source": [
    "##### Unary Operations"
   ]
  },
  {
   "cell_type": "markdown",
   "metadata": {},
   "source": [
    "$\n",
    "\\begin{array}{c|ccl}\n",
    "\\text{P} & 0 & 1 \\\\\n",
    "\\hline\n",
    "\\bot & 0 & 0 & \\text{contradiction (FALSE)} \\\\\n",
    "\\text{P} & 0 & 1 & \\text{identity} \\\\\n",
    "\\lnot \\text{P} & 1 & 0 & \\text{negation (NOT)} \\\\\n",
    "\\top & 1 & 1 & \\text{tautology (TRUE)} \\\\\n",
    "\\end{array}\n",
    "$"
   ]
  },
  {
   "cell_type": "markdown",
   "metadata": {},
   "source": [
    "##### Binary Operations"
   ]
  },
  {
   "cell_type": "markdown",
   "metadata": {},
   "source": [
    "$\n",
    "\\begin{array}{c|ccccl}\n",
    "\\text{P} & 0 & 0 & 1 & 1 \\\\\n",
    "\\text{Q} & 0 & 1 & 0 & 1 \\\\\n",
    "\\hline\n",
    "\\bot & 0 & 0 & 0 & 0 & \\text{contradiction (FALSE)} \\\\\n",
    "\\land & 0 & 0 & 0 & 1 & \\text{conjunction (AND)} \\\\\n",
    "\\not\\rightarrow & 0 & 0 & 1 & 0 & \\text{abjunction, nonimplication} \\\\\n",
    "\\text{P} & 0 & 0 & 1 & 1 & \\text{identity} \\\\\n",
    "\\not\\leftarrow & 0 & 1 & 0 & 0 & \\text{converse nonimplication} \\\\\n",
    "\\text{Q} & 0 & 1 & 0 & 1 & \\text{identity} \\\\\n",
    "\\oplus & 0 & 1 & 1 & 0 & \\text{exclusive disjunction (XOR)} \\\\\n",
    "\\lor & 0 & 1 & 1 & 1 & \\text{inclusive disjunction (OR)} \\\\\n",
    "\\downarrow & 1 & 0 & 0 & 0 & \\text{not or (NOR)} \\\\\n",
    "\\leftrightarrow & 1 & 0 & 0 & 1 & \\text{biconditional (XNOR)} \\\\\n",
    "\\lnot \\text{Q} & 1 & 0 & 1 & 0 & \\text{negation (NOT)} \\\\\n",
    "\\leftarrow & 1 & 0 & 1 & 1 & \\text{converse implication/conditional} \\\\\n",
    "\\lnot \\text{P} & 1 & 1 & 0 & 0 & \\text{negation (NOT)} \\\\\n",
    "\\rightarrow & 1 & 1 & 0 & 1 & \\text{implication/conditional} \\\\\n",
    "\\uparrow & 1 & 1 & 1 & 0 & \\text{not and (NAND)} \\\\\n",
    "\\top & 1 & 1 & 1 & 1 & \\text{tautology (TRUE)} \\\\\n",
    "\\end{array}\n",
    "$"
   ]
  },
  {
   "cell_type": "markdown",
   "metadata": {},
   "source": [
    "$\n",
    "\\begin{array}{cc|ccc} P & Q & P \\land Q & P \\lor Q & \\lnot P \\\\\n",
    "\\hline\n",
    "\\text{T} & \\text{T} & \\text{T} & \\text{T} & \\text{F} \\\\\n",
    "\\text{T} & \\text{F} & \\text{F} & \\text{T} \\\\\n",
    "\\text{F} & \\text{T} & \\text{F} & \\text{T} & \\text{T} \\\\\n",
    "\\text{F} & \\text{F} & \\text{F} & \\text{F} \\\\\n",
    "\\end{array}\n",
    "$"
   ]
  },
  {
   "cell_type": "markdown",
   "metadata": {},
   "source": [
    "#### Order of Operations"
   ]
  },
  {
   "cell_type": "markdown",
   "metadata": {},
   "source": [
    "1. negation\n",
    "2. conjunction\n",
    "3. disjunction"
   ]
  },
  {
   "cell_type": "markdown",
   "metadata": {},
   "source": [
    "#### Number of operations"
   ]
  },
  {
   "cell_type": "markdown",
   "metadata": {},
   "source": [
    "How many n-ary operations are there? The number of values raised to the number of input tuples.\n",
    "* $2^2=4$ unary operations (two values, two inputs)\n",
    "* $2^{2^2}=16$ binary operations (two values, four input pairs)\n",
    "* $2^{2^3}=256$ ternary operations (two values, eight input triples)"
   ]
  },
  {
   "cell_type": "code",
   "execution_count": null,
   "metadata": {},
   "outputs": [
    {
     "data": {
      "text/plain": [
       "[(0, 0), (0, 1), (1, 0), (1, 1)]"
      ]
     },
     "metadata": {},
     "output_type": "display_data"
    }
   ],
   "source": [
    "list(product((0,1), repeat=2))"
   ]
  },
  {
   "cell_type": "code",
   "execution_count": null,
   "metadata": {},
   "outputs": [
    {
     "data": {
      "text/plain": [
       "[(0, 0, 0, 0),\n",
       " (0, 0, 0, 1),\n",
       " (0, 0, 1, 0),\n",
       " (0, 0, 1, 1),\n",
       " (0, 1, 0, 0),\n",
       " (0, 1, 0, 1),\n",
       " (0, 1, 1, 0),\n",
       " (0, 1, 1, 1),\n",
       " (1, 0, 0, 0),\n",
       " (1, 0, 0, 1),\n",
       " (1, 0, 1, 0),\n",
       " (1, 0, 1, 1),\n",
       " (1, 1, 0, 0),\n",
       " (1, 1, 0, 1),\n",
       " (1, 1, 1, 0),\n",
       " (1, 1, 1, 1)]"
      ]
     },
     "metadata": {},
     "output_type": "display_data"
    }
   ],
   "source": [
    "list(product((0,1), repeat=2**2))"
   ]
  },
  {
   "cell_type": "markdown",
   "metadata": {},
   "source": [
    "#### n-ary"
   ]
  },
  {
   "cell_type": "markdown",
   "metadata": {},
   "source": [
    "$\n",
    "\\begin{array}{ccc|cc}\n",
    "\\text{P} & \\text{Q} & \\text{R} & \\text{P} \\land \\text{Q} \\land \\text{R} & \\text{P} \\lor \\text{Q} \\lor \\text{R} \\\\\n",
    "\\hline\n",
    "0 & 0 & 0 & 0 & 0 \\\\\n",
    "0 & 0 & 1 & 0 & 1 \\\\\n",
    "0 & 1 & 0 & 0 & 1 \\\\\n",
    "0 & 1 & 1 & 0 & 1 \\\\\n",
    "1 & 0 & 0 & 0 & 1 \\\\\n",
    "1 & 0 & 1 & 0 & 1 \\\\\n",
    "1 & 1 & 0 & 0 & 1 \\\\\n",
    "1 & 1 & 1 & 1 & 1 \\\\\n",
    "\\end{array}\n",
    "$\n",
    "\n",
    "$\n",
    "\\begin{array}{cccc|cc} P & Q & ... & R & P \\land Q \\land ... \\land R & P \\lor Q \\lor ... \\lor R \\\\\n",
    "\\hline\n",
    "0 & 0 & ... & 0 & 0 & 0 \\\\\n",
    "0 & 0 & ... & 1 & 0 & 1 \\\\\n",
    "\\vdots & \\vdots & \\ddots & \\vdots & \\vdots & \\vdots \\\\\n",
    "1 & 1 & ... & 0 & 0 & 1 \\\\\n",
    "1 & 1 & ... & 1 & 1 & 1 \\\\\n",
    "\\end{array}\n",
    "$"
   ]
  },
  {
   "cell_type": "markdown",
   "metadata": {},
   "source": [
    "### Propositional Tautology"
   ]
  },
  {
   "cell_type": "markdown",
   "metadata": {},
   "source": [
    "A propositional formula is a tautology if the formula is always true, regardless of the truth value of the individual propositions that it consists in.\n",
    "\n",
    "$\n",
    "\\begin{array}{cc|c}\n",
    "\\text{P} & \\lnot \\text{P} & \\text{P} \\lor \\lnot \\text{P} \\\\\n",
    "\\hline\n",
    "\\text{T} & \\text{F} & \\text{T} \\\\\n",
    "\\text{F} & \\text{T} & \\text{T} \\\\\n",
    "\\end{array}\n",
    "$\n",
    "\n",
    "$\n",
    "\\begin{array}{cc|c}\n",
    "\\text{P} & \\text{Q} & (\\text{P} \\land \\text{Q}) \\rightarrow \\text{P} \\\\\n",
    "\\hline\n",
    "\\text{T} & \\text{T} & \\text{T} \\\\\n",
    "\\text{T} & \\text{F} & \\text{T} \\\\\n",
    "\\text{F} & \\text{T} & \\text{T} \\\\\n",
    "\\text{F} & \\text{F} & \\text{T} \\\\\n",
    "\\end{array}\n",
    "$\n",
    "\n",
    "To demonstrate that a compound proposition is not a tautology requires only a single set of propositional variables that make the compound proposition false."
   ]
  },
  {
   "cell_type": "markdown",
   "metadata": {},
   "source": [
    "### Propositional Contradiction"
   ]
  },
  {
   "cell_type": "markdown",
   "metadata": {},
   "source": [
    "A propositional formula is a contradiction if the formula is always false, regardless of the truth value of the individual propositions that it consists in.\n",
    "\n",
    "$\n",
    "\\begin{array}{cc|c}\n",
    "\\text{P} & \\lnot \\text{P} & \\text{P} \\land \\lnot \\text{P} & \\text{P} \\leftrightarrow \\lnot \\text{P} \\\\\n",
    "\\hline\n",
    "\\text{T} & \\text{F} & \\text{F} & \\text{F} \\\\\n",
    "\\text{F} & \\text{T} & \\text{F} & \\text{F} \\\\\n",
    "\\end{array}\n",
    "$\n",
    "\n",
    "To demonstrate that a compound proposition is not a contradiction requires only a single set of propositional variables that make the compound proposition true."
   ]
  },
  {
   "cell_type": "markdown",
   "metadata": {},
   "source": [
    "### Logical Equivalence"
   ]
  },
  {
   "cell_type": "markdown",
   "metadata": {},
   "source": [
    "Two compound propositions are said to be logically equivalent if they have the same truth value regardless of the truth values of their individual propositions.\n",
    "\n",
    "$\n",
    "\\begin{array}{ccc}\n",
    "\\text{P} & \\lnot \\text{P} & \\lnot\\lnot\\text{P} \\\\\n",
    "\\hline\n",
    "\\text{T} & \\text{F} & \\text{T} \\\\\n",
    "\\text{F} & \\text{T} & \\text{F} \\\\\n",
    "\\end{array}\n",
    "$\n",
    "\n",
    "$\n",
    "\\text{P} \\equiv \\lnot\\lnot\\text{P}\n",
    "$\n",
    "\n",
    "Propositions $\\text{P}$ and $\\text{Q}$ are logically equivalent if and only if the proposition $\\text{P}\\leftrightarrow\\text{Q}$ is a tautology.\n",
    "\n",
    "To demonstrate that two propositions are not logically equivalent only requires demonstrating a particular set of truth values for their individual propositions that cause the two compound propositions to have different truth values."
   ]
  },
  {
   "cell_type": "markdown",
   "metadata": {},
   "source": [
    "### Laws of Propositional Logic"
   ]
  },
  {
   "cell_type": "markdown",
   "metadata": {},
   "source": [
    "$\n",
    "\\begin{aligned}\n",
    "\\text{Absorption} && \\begin{aligned} \\text{P} \\lor (\\text{P} \\land \\text{Q}) &\\equiv \\text{P} \\\\  \\text{P} \\land (\\text{P} \\lor \\text{Q}) &\\equiv \\text{P} \\end{aligned} \\\\\n",
    "\\text{Associativity} && \\begin{aligned} (\\text{P} \\lor \\text{Q}) \\lor \\text{R} &\\equiv \\text{P} \\lor (\\text{Q} \\lor \\text{R}) \\\\ (\\text{P} \\land \\text{Q}) \\land \\text{R} &\\equiv \\text{P} \\land (\\text{Q} \\land \\text{R}) \\end{aligned} \\\\\n",
    "\\text{Commutativity} && \\begin{aligned} \\text{P} \\lor \\text{Q} &\\equiv \\text{Q} \\lor \\text{P} \\\\ \\text{P} \\land \\text{Q} &\\equiv \\text{Q} \\land \\text{P} \\end{aligned} \\\\\n",
    "\\text{Complementarity} && \\begin{aligned} \\text{P} \\land \\lnot\\text{P} &\\equiv \\text{F} \\\\ \\lnot\\text{T} &\\equiv \\text{F} \\\\ \\text{P} \\lor \\lnot\\text{P} &\\equiv \\text{T} \\\\ \\lnot\\text{F} &\\equiv \\text{T} \\end{aligned} \\\\\n",
    "\\text{Conditionality} && \\begin{aligned} \\text{P} \\rightarrow \\text{Q} &\\equiv \\lnot\\text{P} \\lor \\text{Q} \\\\ \\text{P} \\leftrightarrow \\text{Q} &\\equiv (\\text{P} \\rightarrow \\text{Q}) \\land (\\text{Q} \\rightarrow \\text{P}) \\end{aligned} \\\\\n",
    "\\text{Distributivity} && \\begin{aligned} \\text{P} \\lor (\\text{Q} \\land \\text{R}) &\\equiv (\\text{P} \\lor \\text{Q}) \\land (\\text{P} \\lor \\text{R}) \\\\ \\text{P} \\land (\\text{Q} \\lor \\text{R}) &\\equiv (\\text{P} \\land \\text{Q}) \\lor (\\text{P} \\land \\text{R}) \\end{aligned} \\\\\n",
    "\\text{Idempotency} && \\begin{aligned} \\text{P} \\lor \\text{P} &\\equiv \\text{P} \\\\ \\text{P} \\land \\text{P} &\\equiv \\text{P} \\end{aligned} \\\\\n",
    "\\text{Identity} && \\begin{aligned} \\text{P} \\lor \\text{F} &\\equiv \\text{P} \\\\ \\text{P} \\land \\text{T} &\\equiv \\text{P} \\end{aligned} \\\\\n",
    "\\text{De Morgan's} && \\begin{aligned} \\lnot(\\text{P} \\lor \\text{Q}) &\\equiv \\lnot\\text{P} \\land \\lnot\\text{Q} \\\\ \\lnot(\\text{P} \\land \\text{Q}) &\\equiv \\lnot\\text{P} \\lor \\lnot\\text{Q} \\end{aligned} \\\\\n",
    "\\text{Domination} && \\begin{aligned} \\text{P} \\land \\text{F} &\\equiv \\text{F} \\\\ \\text{P} \\lor \\text{T} &\\equiv \\text{T} \\end{aligned} \\\\\n",
    "\\text{Double Negation} && \\begin{aligned} \\lnot\\lnot\\text{P} &\\equiv \\text{P} \\end{aligned} \\\\\n",
    "\\end{aligned}\n",
    "$"
   ]
  },
  {
   "cell_type": "markdown",
   "metadata": {},
   "source": [
    "#### De Morgan's Laws"
   ]
  },
  {
   "cell_type": "markdown",
   "metadata": {},
   "source": [
    "$\n",
    "\\begin{aligned}\n",
    "\\lnot(\\text{P} \\lor \\text{Q}) &\\equiv \\lnot\\text{P} \\land \\lnot\\text{Q} \\\\\n",
    "\\lnot(\\text{P} \\land \\text{Q}) &\\equiv \\lnot\\text{P} \\lor \\lnot\\text{Q} \\\\\n",
    "\\end{aligned}\n",
    "$\n",
    "\n",
    "Proof by truth table\n",
    "\n",
    "$\n",
    "\\begin{array}{cc|cc|ccc}\n",
    "\\text{P} & \\text{Q} & \\text{P} \\lor \\text{Q} & \\lnot(\\text{P} \\lor \\text{Q}) & \\lnot\\text{P} & \\lnot\\text{Q} & \\lnot\\text{P} \\land \\lnot\\text{Q} \\\\\n",
    "\\hline\n",
    "\\text{T} & \\text{T} & \\text{T} & \\color{blue}\\text{F} & \\text{F} & \\text{F} & \\color{blue}\\text{F} \\\\\n",
    "\\text{T} & \\text{F} & \\text{T} & \\color{blue}\\text{F} & \\text{F} & \\text{T} & \\color{blue}\\text{F} \\\\\n",
    "\\text{F} & \\text{T} & \\text{T} & \\color{blue}\\text{F} & \\text{T} & \\text{F} & \\color{blue}\\text{F} \\\\\n",
    "\\text{F} & \\text{F} & \\text{F} & \\color{blue}\\text{T} & \\text{T} & \\text{T} & \\color{blue}\\text{T} \\\\\n",
    "\\end{array}\n",
    "$\n",
    "\n",
    "$\n",
    "\\begin{array}{cc|cc|ccc}\n",
    "\\text{P} & \\text{Q} & \\text{P} \\land \\text{Q} & \\lnot(\\text{P} \\land \\text{Q}) & \\lnot\\text{P} & \\lnot\\text{Q} & \\lnot\\text{P} \\lor \\lnot\\text{Q} \\\\\n",
    "\\hline\n",
    "\\text{T} & \\text{T} & \\text{T} & \\color{blue}\\text{F} & \\text{F} & \\text{F} & \\color{blue}\\text{F} \\\\\n",
    "\\text{T} & \\text{F} & \\text{F} & \\color{blue}\\text{T} & \\text{F} & \\text{T} & \\color{blue}\\text{T} \\\\\n",
    "\\text{F} & \\text{T} & \\text{F} & \\color{blue}\\text{T} & \\text{T} & \\text{F} & \\color{blue}\\text{T} \\\\\n",
    "\\text{F} & \\text{F} & \\text{F} & \\color{blue}\\text{T} & \\text{T} & \\text{T} & \\color{blue}\\text{T} \\\\\n",
    "\\end{array}\n",
    "$\n",
    "\n",
    "$\n",
    "\\therefore\n",
    "\\begin{aligned}\n",
    "\\lnot(\\text{P} \\lor \\text{Q}) &\\equiv \\lnot\\text{P} \\land \\lnot\\text{Q} \\\\\n",
    "\\lnot(\\text{P} \\land \\text{Q}) &\\equiv \\lnot\\text{P} \\lor \\lnot\\text{Q} \\\\\n",
    "\\end{aligned}\n",
    "$\n",
    "\n",
    "$\\blacksquare$"
   ]
  },
  {
   "cell_type": "markdown",
   "metadata": {},
   "source": [
    "### Substitution"
   ]
  },
  {
   "cell_type": "markdown",
   "metadata": {},
   "source": [
    "If two propositions are logically equivalent, then one can be substituted for the other within a more complex proposition: the compound proposition after the substitution is logically equivalent to the compound proposition before the substitution. Substitution gives an alternate way of showing that two propositions are logically equivalent. If one proposition can be obtained from another by a series of substitutions using equivalent expressions, then the two propositions are logically equivalent.\n",
    "\n",
    "$\n",
    "\\begin{aligned}\n",
    "\\text{P} \\rightarrow \\text{Q} &\\equiv \\lnot\\text{P} \\lor \\text{Q} \\\\\n",
    "\\therefore (\\text{P} \\lor \\text{R}) \\land (\\text{P} \\rightarrow \\text{Q}) &\\equiv (\\text{P} \\lor \\text{R}) \\land (\\lnot\\text{P} \\lor \\text{Q}) \\\\\n",
    "\\end{aligned}\n",
    "$\n",
    "\n",
    "$\n",
    "\\begin{aligned}\n",
    "\\text{P} &\\equiv \\lnot\\text{T} \\land \\text{R} \\\\\n",
    "\\text{Q} &\\equiv \\lnot\\text{S} \\lor \\text{T} \\\\\n",
    "\\text{P} \\rightarrow \\text{Q} &\\equiv \\lnot\\text{P} \\lor \\text{Q} \\\\\n",
    "\\therefore (\\lnot\\text{T} \\land \\text{R}) \\rightarrow (\\lnot\\text{S} \\lor \\text{T}) &\\equiv \\lnot(\\lnot\\text{T} \\land \\text{R}) \\lor (\\lnot\\text{S} \\lor \\text{T}) \\\\\n",
    "\\end{aligned}\n",
    "$"
   ]
  },
  {
   "cell_type": "markdown",
   "metadata": {},
   "source": [
    "---"
   ]
  },
  {
   "cell_type": "markdown",
   "metadata": {},
   "source": [
    "## Predicate Logic (RL)\n",
    "First-Order Logic or Quantificational Logic\n",
    "\n",
    "```{contents}\n",
    ":local:\n",
    "```"
   ]
  },
  {
   "cell_type": "markdown",
   "metadata": {},
   "source": [
    "---"
   ]
  },
  {
   "cell_type": "markdown",
   "metadata": {},
   "source": [
    "### Predicates"
   ]
  },
  {
   "cell_type": "markdown",
   "metadata": {},
   "source": [
    "A logical statement (or proposition) whose truth value is a function of one or more variables is called a predicate $P(x_1,...,x_n)$.\n",
    "\n",
    "For example\n",
    "* Let $P(x):x\\,\\text{is even}$ be a predicate. Then the proposition $P(1)$ is false but the proposition $P(2)$ is true.\n",
    "* Let $Q(x,y):x^2=y$ be a predicate. Then the proposition $Q(5,25)$ is true.\n",
    "* Let $R(x,y,z):x+y=z$ be a predicate. Then the proposition $R(2,3,6)$ is false."
   ]
  },
  {
   "cell_type": "markdown",
   "metadata": {},
   "source": [
    "### Quantifiers"
   ]
  },
  {
   "cell_type": "markdown",
   "metadata": {},
   "source": [
    "#### Universal Quantifiers"
   ]
  },
  {
   "cell_type": "markdown",
   "metadata": {},
   "source": [
    "The statement $\\forall x\\,P(x)$ (\"for all/every x, it is the case that P(x)\") asserts that $P(x)$ is true for every possible value for $x$ in its domain.\n",
    "\n",
    "The symbol $\\forall$ is called the universal quantifier.\n",
    "\n",
    "The statement $\\forall x\\,P(x)$ is called a universally quantified statement.\n",
    "\n",
    "$\\forall x\\,P(x)$ is a proposition because it is either true or false.\n",
    "\n",
    "$\\forall x\\,P(x)$ is true if and only if $P(n)$ is true for every $n$ in the domain of variable $x$.\n",
    "\n",
    "If the domain is a finite set $\\{a_1,a_2,...,a_k\\}$ then\n",
    "\n",
    "$\\forall x\\,P(x) \\equiv P(a_1) \\land P(a_2) \\land ... \\land P(a_k)$\n",
    "\n",
    "To demonstrate that $\\forall x\\,P(x)$ is true requires demonstrating that $P(a_1) \\land P(a_2) \\land ... \\land P(a_k)$ is true. Some universally quantified statements can be shown to be true by showing that the predicate holds for an arbitrary element from the domain (where an arbitrary element means nothing is assumed about the element other than the fact that it is in the domain).\n",
    "\n",
    "A counterexample for a universally quantified statement is an element in the domain for which the predicate is false. A single counterexample is sufficient to show that a universally quantified statement is false."
   ]
  },
  {
   "cell_type": "markdown",
   "metadata": {},
   "source": [
    "##### Example"
   ]
  },
  {
   "cell_type": "markdown",
   "metadata": {},
   "source": [
    "Let the domain of $x$ be the set of positive integers.\n",
    "\n",
    "$\n",
    "\\begin{aligned}\n",
    "\\forall x \\, \\left( \\frac{1}{x+1} \\lt 1 \\right)\n",
    "\\end{aligned}\n",
    "$\n",
    "\n",
    "is true because the inequality holds when $x$ is assigned an arbitrary value from the set of positive integers.\n",
    "\n",
    "$\n",
    "\\begin{aligned}\n",
    "0 &\\lt x && \\text{true for all positive integers} \\, x \\\\\n",
    "1 &\\lt x + 1 && \\text{add one to both sides} \\\\\n",
    "\\frac{1}{x+1} &\\le 1 && \\text{divide both sides by} \\, x+1 \\\\\n",
    "\\end{aligned}\n",
    "$\n",
    "\n",
    "$\\blacksquare$"
   ]
  },
  {
   "cell_type": "markdown",
   "metadata": {},
   "source": [
    "#### Existential Quantifiers"
   ]
  },
  {
   "cell_type": "markdown",
   "metadata": {},
   "source": [
    "The statement $\\exists x\\,P(x)$ (\"there exists an x, such that P(x)\") asserts that $P(x)$ is true for at least one possible value for $x$ in its domain.\n",
    "\n",
    "The symbol $\\forall$ is called the existential quantifier.\n",
    "\n",
    "The statement $\\forall x\\,P(x)$ is called an existentially quantified statement.\n",
    "\n",
    "$\\forall x\\,P(x)$ is a proposition because it is either true or false.\n",
    "\n",
    "$\\forall x\\,P(x)$ is true if and only if $P(n)$ is true for at least one $n$ in the domain of variable $x$.\n",
    "\n",
    "If the domain is a finite set $\\{a_1,a_2,...,a_k\\}$ then\n",
    "\n",
    "$\\exists x\\,P(x) \\equiv P(a_1) \\lor P(a_2) \\lor ... \\lor P(a_k)$\n",
    "\n",
    "To demonstrate that $\\exists x\\,P(x)$ is true requires demonstrating that $P(a_1) \\lor P(a_2) \\lor ... \\lor P(a_k)$ is true. Some existentially quantified statements can be shown to be false by showing that the predicate is false for an arbitrary element from the domain (where an arbitrary element means nothing is assumed about the element other than the fact that it is in the domain)."
   ]
  },
  {
   "cell_type": "markdown",
   "metadata": {},
   "source": [
    "##### Example"
   ]
  },
  {
   "cell_type": "markdown",
   "metadata": {},
   "source": [
    "Let the domain of $x$ be the set of positive integers.\n",
    "\n",
    "$\n",
    "\\begin{aligned}\n",
    "\\exists x \\, (x + 1 \\lt x)\n",
    "\\end{aligned}\n",
    "$\n",
    "\n",
    "is false because no positive integer satisfies the expression $x + 1 \\lt x$.\n",
    "\n",
    "$\n",
    "\\begin{aligned}\n",
    "x + 1 &\\lt x && \\\\\n",
    "1 &\\not\\lt 0 && \\text{subtract x from both sides} \\\\\n",
    "\\end{aligned}\n",
    "$\n",
    "\n",
    "$\\blacksquare$"
   ]
  },
  {
   "cell_type": "markdown",
   "metadata": {},
   "source": [
    "### Quantified Propositions"
   ]
  },
  {
   "cell_type": "markdown",
   "metadata": {},
   "source": [
    "A logical statement that includes a universal or existential quantifier is called a quantified statement.\n",
    "\n",
    "Order of Operations\n",
    "* Quantifiers\n",
    "* Logical Operations\n",
    "\n",
    "$\\forall x \\, P(x) \\land Q(x)$ is $(\\forall x \\, P(x)) \\land Q(x)$, not $\\forall x \\, (P(x) \\land Q(x))$"
   ]
  },
  {
   "cell_type": "markdown",
   "metadata": {},
   "source": [
    "### Variables"
   ]
  },
  {
   "cell_type": "markdown",
   "metadata": {},
   "source": [
    "##### Free Variables"
   ]
  },
  {
   "cell_type": "markdown",
   "metadata": {},
   "source": [
    "A variable $x$ is the predicate $P(x)$ is called a free variable because the variable is free to take on any value in the domain."
   ]
  },
  {
   "cell_type": "markdown",
   "metadata": {},
   "source": [
    "#### Bound Variables"
   ]
  },
  {
   "cell_type": "markdown",
   "metadata": {},
   "source": [
    "The variable $x$ in the statement $\\forall x \\, P(x)$ is a bound variable because the variable is bound to a quantifier.\n",
    "\n",
    "A statement with no free variables is a proposition because the statement's truth value can be determined."
   ]
  },
  {
   "cell_type": "markdown",
   "metadata": {},
   "source": [
    "#### Example"
   ]
  },
  {
   "cell_type": "markdown",
   "metadata": {},
   "source": [
    "In the statement $(\\forall x \\, P(x)) \\land Q(x)$, the variable $x$ in $P(x)$ is bound by the universal quantifier, but the variable $x$ in $Q(x)$ is not bound by the universal quantifier. Therefore, the statement $(\\forall x \\, P(x)) \\land Q(x)$ is not a proposition."
   ]
  },
  {
   "cell_type": "markdown",
   "metadata": {},
   "source": [
    "#### Example"
   ]
  },
  {
   "cell_type": "markdown",
   "metadata": {},
   "source": [
    "In the proposition\n",
    "\n",
    "$\\forall x \\, (P(x) \\land Q(x))$\n",
    "\n",
    "the universal quantifier binds both occurrences of the variable $x$. Therefore, the statement $\\forall x \\, (P(x) \\land Q(x))$ is a proposition."
   ]
  },
  {
   "cell_type": "markdown",
   "metadata": {},
   "source": [
    "### Logical Equivalence of quantified propositions"
   ]
  },
  {
   "cell_type": "markdown",
   "metadata": {},
   "source": [
    "Two quantified propositions have the same logical meaning if they have the same truth value regardless of the value fo the predicates for the elements in the domain.\n",
    "\n",
    "[Example]\n",
    "\n",
    "Domain: a set of people invited to a party\n",
    "\n",
    "Predicates:\n",
    "\n",
    "$\n",
    "\\begin{aligned}\n",
    "P(x) &: x \\, \\text{came to the party} \\\\\n",
    "S(x) &: x \\, \\text{was sick} \\\\\n",
    "\\end{aligned}\n",
    "$\n",
    "\n",
    "$\n",
    "\\begin{array}{c|cc}\n",
    "x & S(x) & P(x) \\\\\n",
    "\\hline\n",
    "\\text{Joe} & \\text{F} & \\text{T} \\\\\n",
    "\\text{Theodore} & \\text{T} & \\text{F} \\\\\n",
    "\\text{Gertrude} & \\text{F} & \\text{T} \\\\\n",
    "\\text{Samuel} & \\text{F} & \\text{F} \\\\\n",
    "\\end{array}\n",
    "$\n",
    "\n",
    "$\n",
    "\\begin{aligned}\n",
    "P(\\text{Gertrude}) &= \\text{true} && \\text{Gertrude came to the party.} \\\\\n",
    "S(\\text{Gertrude}) &= \\text{false} && \\text{Gertrude was sick.} \\\\\n",
    "\\forall x \\, \\lnot S(x) &= \\text{false} && \\text{Everyone was not sick.} \\\\\n",
    "\\exists x \\, (S(x) \\lor P(x)) &= \\text{true} && \\text{Someone was sick or came to the party.} \\\\\n",
    "\\exists x \\, (S(x) \\land P(x)) &= \\text{false} && \\text{Someone was sick and came to the party.} \\\\\n",
    "\\exists x \\, S(x) \\land \\exists x \\, P(x) &= \\text{true} && \\text{Someone was sick and someone came to the party.} \\\\\n",
    "\\end{aligned}\n",
    "$"
   ]
  },
  {
   "cell_type": "markdown",
   "metadata": {},
   "source": [
    "### De Morgan's laws for quantified propositions"
   ]
  },
  {
   "cell_type": "markdown",
   "metadata": {},
   "source": [
    "Let $\\{a_1,...,a_k\\}$ be a finite domain of discourse.\n",
    "\n",
    "De Morgan's Law for Universally Quantified Statements\n",
    "\n",
    "$\n",
    "\\begin{aligned}\n",
    "\\lnot \\forall x \\, P(x) &\\equiv \\exists x \\, \\lnot P(x) \\\\\n",
    "\\exists x \\, \\lnot P(x) &\\equiv \\lnot P(a_1) \\lor \\lnot P(a_2) \\lor ... \\lor \\lnot P(a_n) \\\\\n",
    "\\lnot P(a_1) \\lor \\lnot P(a_2) \\lor ... \\lor \\lnot P(a_n) &\\equiv \\lnot(P(a_1) \\land P(a_2) \\land ... \\land P(a_n)) \\\\\n",
    "\\lnot(P(a_1) \\land P(a_2) \\land ... \\land P(a_n)) &\\equiv \\lnot \\forall x \\, P(x) \\\\\n",
    "\\end{aligned}\n",
    "$\n",
    "\n",
    "De Morgan's Law for Existentially Quantified Statements\n",
    "\n",
    "$\n",
    "\\begin{aligned}\n",
    "\\lnot \\exists x \\, P(x) &\\equiv \\forall x \\, \\lnot P(x) \\\\\n",
    "\\forall x \\, \\lnot P(x) &\\equiv \\lnot P(a_1) \\land \\lnot P(a_2) \\land ... \\land \\lnot P(a_n) \\\\\n",
    "\\lnot P(a_1) \\land \\lnot P(a_2) \\land ... \\land \\lnot P(a_n) &\\equiv \\lnot(P(a_1) \\lor P(a_2) \\lor ... \\lor P(a_n)) \\\\\n",
    "\\lnot(P(a_1) \\lor P(a_2) \\lor ... \\lor P(a_n)) &\\equiv \\lnot \\exists x \\, P(x) \\\\\n",
    "\\end{aligned}\n",
    "$"
   ]
  },
  {
   "cell_type": "markdown",
   "metadata": {},
   "source": [
    "### Nested Quantifiers"
   ]
  },
  {
   "cell_type": "markdown",
   "metadata": {},
   "source": [
    "<div class=\"full-width\">\n",
    "\n",
    "If a predicate has more than one variable, then each variable must be bound by a separate quantifier. A logical expression with more than one quantifier that bind different variables in the same predicate is said to have nested quantifiers. The logical expression is a proposition if all the variables are bound.\n",
    "\n",
    "$\n",
    "\\begin{aligned}\n",
    "\\forall x \\exists y P(x, y)    && \\text{proposition} && \\text{x and y are bound} \\\\\n",
    "\\forall x Q(x,y)               && \\text{predicate}   && \\text{x is bound, y is free} \\\\\n",
    "\\exists y \\exists z T(x, y, z) && \\text{predicate}   && \\text{y and z are bound, x is free} \\\\\n",
    "\\end{aligned}\n",
    "$\n",
    "\n",
    "</div>"
   ]
  },
  {
   "cell_type": "markdown",
   "metadata": {},
   "source": [
    "#### Example"
   ]
  },
  {
   "cell_type": "markdown",
   "metadata": {},
   "source": [
    "Consider the predicate\n",
    "\n",
    "$M(x, y) : \\text{x sent an email to y}$\n",
    "\n",
    "Then the proposition\n",
    "\n",
    "$\n",
    "\\forall x \\forall y M(x, y) : \\text{everyone sent an email to everyone}\n",
    "$\n",
    "\n",
    "(for all x in the domain, x sent an email to y, for all y in the domain (where x and y may be the same individual))\n",
    "\n",
    "is true if $M(x, y) = 1$ for every pair $(x, y) \\in D$\n",
    "\n",
    "or false if $M(x, y) = 0$ for at least one pair $(x, y) \\in D$\n",
    "\n",
    "and the proposition\n",
    "\n",
    "$\n",
    "\\exists x \\exists y M(x, y) : \\text{there is an individual who sent an email to some individual}\n",
    "$\n",
    "\n",
    "(for some x in the domain, x sent an email to y, for some y in the domain (where x and y may be the same individual))\n",
    "\n",
    "is true if $M(x, y) = 1$ for some pair $(x, y) \\in D$\n",
    "\n",
    "or false if $M(x, y) = 1$ for no pair $(x, y) \\in D$"
   ]
  },
  {
   "cell_type": "markdown",
   "metadata": {},
   "source": [
    "#### Double universal, proof of falsity by counterexample"
   ]
  },
  {
   "cell_type": "markdown",
   "metadata": {},
   "source": [
    "Consider the proposition\n",
    "\n",
    "$\n",
    "P(x, y) =\n",
    "\\forall x \\forall y (xy = 1) \\in \\mathbb{Z}^+\\cup\\{0\\}\n",
    "$\n",
    "\n",
    "English\n",
    "* \"For any nonnegative integer $x$ it is the case that for any nonnegative integer $y$ the product of $x$ and $y$ is unity.\"\n",
    "* \"The product of any two nonnegative integers is unity.\"\n",
    "\n",
    "Proof by counterexample\n",
    "* The pair $(x = 1, y = 2)$ is a counterexample.\n",
    "* Therefore, $P$ is false."
   ]
  },
  {
   "cell_type": "markdown",
   "metadata": {},
   "source": [
    "#### Double universal, proof of truth by no counterexample"
   ]
  },
  {
   "cell_type": "markdown",
   "metadata": {},
   "source": [
    "Consider the proposition\n",
    "\n",
    "$\n",
    "P(x, y) =\n",
    "\\forall x \\forall y ((x + y \\ne x) \\lor (y = 0))  \\in \\mathbb{Z}^+\\cup\\{0\\}\n",
    "$\n",
    "\n",
    "English\n",
    "* \"For any pair of nonnegative integers $(x, y)$ it is either the case that $y = 0$ or $x + y \\ne x$.\"\n",
    "\n",
    "Proof\n",
    "* On the one hand, let $y$ be some positive integer. Then it follows that $x + y$ must not be equal to $x$.\n",
    "* On the other hand, let $x + y = x$. Then it follows that $y$ must be equal to $0$.\n",
    "* Any pair satisfies the proposition.\n",
    "* Therefore, $P$ is true."
   ]
  },
  {
   "cell_type": "markdown",
   "metadata": {},
   "source": [
    "#### Double existential, proof of truth by example"
   ]
  },
  {
   "cell_type": "markdown",
   "metadata": {},
   "source": [
    "Consider the proposition\n",
    "\n",
    "$\n",
    "P(x, y) =\n",
    "\\exists x \\exists y (xy = 1) \\in \\mathbb{Z}^+\\cup\\{0\\}\n",
    "$\n",
    "\n",
    "English\n",
    "* \"There is some nonnegative integer $x$ such that for some nonnegative integer $y$ the product of $x$ and $y$ is unity.\"\n",
    "* \"There are two nonnegative integers whose product is unity.\"\n",
    "\n",
    "Proof by example\n",
    "* The pair $(x = 1, y = 1)$ is an example.\n",
    "* Therefore, $P$ is true."
   ]
  },
  {
   "cell_type": "markdown",
   "metadata": {},
   "source": [
    "#### Double existential, proof of falsity by no example"
   ]
  },
  {
   "cell_type": "markdown",
   "metadata": {},
   "source": [
    "Consider the proposition\n",
    "\n",
    "$\n",
    "P(x, y) =\n",
    "\\exists x \\exists y ((x + y = x) \\land (y \\ne 0)) \\in \\mathbb{Z}^+\\cup\\{0\\}\n",
    "$\n",
    "\n",
    "English\n",
    "* \"There is a pair of nonnegative integers $(x, y)$ such that $x + y = x$ but $y \\ne 0$.\"\n",
    "\n",
    "Proof\n",
    "* Let $x + y = x$ be true.\n",
    "* Then it follows that $y$ must be equal to $0$.\n",
    "* But it is required that $y \\ne 0$.\n",
    "* Contradiction: $y = 0 \\land y \\ne 0$.\n",
    "* No pair satisfies the proposition.\n",
    "* Therefore, $P$ is false."
   ]
  },
  {
   "cell_type": "markdown",
   "metadata": {},
   "source": [
    "#### Example"
   ]
  },
  {
   "cell_type": "markdown",
   "metadata": {},
   "source": [
    "Consider the predicate\n",
    "\n",
    "$\n",
    "M(x, y) : \\text{x sent an email to y}\n",
    "$\n",
    "\n",
    "$\n",
    "\\exists x \\forall y M(x, y)\n",
    "$\n",
    "\n",
    "\"Someone sent an email to everyone, including themselves.\"\n",
    "\n",
    "\"For some x in the domain, x sent an email to each y in the domain.\"\n",
    "\n",
    "$\n",
    "\\forall x \\exists y M(x, y)\n",
    "$\n",
    "\n",
    "\"Everyone sent an email to someone, even if themself.\"\n",
    "\n",
    "\"For each x in the domain, x sent an email to some y in the domain.\""
   ]
  },
  {
   "cell_type": "markdown",
   "metadata": {},
   "source": [
    "#### Universal-existential, proof of truth by no counterexample"
   ]
  },
  {
   "cell_type": "markdown",
   "metadata": {},
   "source": [
    "Consider the proposition\n",
    "\n",
    "$\n",
    "P(x, y) =\n",
    "\\forall x \\exists y (x + y = 0) \\in \\mathbb{Z}\n",
    "$\n",
    "\n",
    "English\n",
    "* \"For any integer $x$ it is the case that there is some integer $y$ such that the sum of $x$ and $y$ is zero.\"\n",
    "* \"For each integer $x$, $x + y = 0$ for some integer $y$.\"\n",
    "* \"Any integer can be added to an integer to give you zero.\"\n",
    "\n",
    "Proof\n",
    "* Let $x$ be an integer.\n",
    "* Then $x + y = 0$ when $y = -x$.\n",
    "* Any pair $(x, -x)$ satisfies the proposition.\n",
    "* Therefore, $P$ is true."
   ]
  },
  {
   "cell_type": "markdown",
   "metadata": {},
   "source": [
    "#### Existential-universal, proof of falsity by counterexample"
   ]
  },
  {
   "cell_type": "markdown",
   "metadata": {},
   "source": [
    "Consider the proposition\n",
    "\n",
    "$\n",
    "P(x, y) =\n",
    "\\exists x \\forall y (x + y = 0) \\in \\mathbb{Z}\n",
    "$\n",
    "\n",
    "English\n",
    "* \"There is some integer $x$ such that for any integer $y$ the sum of $x$ and $y$ is zero.\"\n",
    "* \"For some integer $x$, $x + y = 0$ for any integer $y$.\"\n",
    "* \"There is an integer where adding it to any integer gives you zero.\"\n",
    "\n",
    "Proof\n",
    "* Let $x$ be some integer.\n",
    "* Then $x + y \\ne 0$ for an integer $y = -x + 1$.\n",
    "* The pair $(x, y = -x + 1)$ is a counterexample.\n",
    "* Therefore, $P$ is false."
   ]
  },
  {
   "cell_type": "markdown",
   "metadata": {},
   "source": [
    "#### Universal-existential, proof of falsity by counterexample"
   ]
  },
  {
   "cell_type": "markdown",
   "metadata": {},
   "source": [
    "Consider the proposition\n",
    "\n",
    "$\n",
    "P(x, y) =\n",
    "\\forall x \\exists y (y^2 = x) \\in \\mathbb{Z}\n",
    "$\n",
    "\n",
    "English\n",
    "* \"For each integer $x$, $x = y^2$ for some integer $y$.\"\n",
    "* \"Each integer is the square of some integer.\"\n",
    "\n",
    "Proof\n",
    "* Let $x = 2$.\n",
    "* Then $y = \\sqrt{2} \\not\\in \\mathbb{Z}$.\n",
    "* $x = 2$ is a counterexample.\n",
    "* Therefore, $P$ is false."
   ]
  },
  {
   "cell_type": "markdown",
   "metadata": {},
   "source": [
    "#### Existential-universal, proof of truth by no counterexample"
   ]
  },
  {
   "cell_type": "markdown",
   "metadata": {},
   "source": [
    "Consider the proposition\n",
    "\n",
    "$\n",
    "P(x, y) =\n",
    "\\exists x \\forall y (x + y = y) \\in \\mathbb{Z}\n",
    "$\n",
    "\n",
    "English\n",
    "* \"There is some integer $x$ such that for any integer $y$ the sum of $x$ and $y$ is $y$.\"\n",
    "* \"For some integer $x$, $x + y = y$ for any integer $y$.\"\n",
    "* \"Some integer is the additive identity element over the integers.\"\n",
    "\n",
    "Proof\n",
    "* Let $x = 0$.\n",
    "* Then $0 + y = y$ for any integer $y$.\n",
    "* When $x = 0$, all $y$ satisfy the proposition.\n",
    "* Therefore, $P$ is true."
   ]
  },
  {
   "cell_type": "markdown",
   "metadata": {},
   "source": [
    "#### Example"
   ]
  },
  {
   "cell_type": "markdown",
   "metadata": {},
   "source": [
    "Consider the proposition\n",
    "\n",
    "$\n",
    "P(x, y) =\n",
    "\\forall x \\forall y (xy = 1) \\in \\mathbb{R}\n",
    "$\n",
    "\n",
    "English\n",
    "* For every real number $x$ it is the case that for any real number $y$ the product of $x$ and $y$ is unity.\n",
    "* The product of any two real numbers is unity.\n",
    "\n",
    "Proof\n",
    "* Let $x = 0$.\n",
    "* Then $xy = 0$ for any $y$.\n",
    "* $x = 0$ is a counterexample.\n",
    "* Therefore, $P$ is false."
   ]
  },
  {
   "cell_type": "markdown",
   "metadata": {},
   "source": [
    "Consider the proposition\n",
    "\n",
    "$\n",
    "P(x, y) =\n",
    "\\exists x \\forall y (xy = 1) \\in \\mathbb{R}\n",
    "$\n",
    "\n",
    "English\n",
    "* There is some real number $x$ such that for any real number $y$ the product of $x$ and $y$ is unity.\n",
    "* There is a real number whose product with any real number is unity.\n",
    "\n",
    "Proof\n",
    "* Let $x = 0$.\n",
    "* Then $xy = 0$ for any $y$.\n",
    "* $x = 0$ is a counterexample.\n",
    "* Therefore, $P$ is false."
   ]
  },
  {
   "cell_type": "markdown",
   "metadata": {},
   "source": [
    "Consider the proposition\n",
    "\n",
    "$\n",
    "P(x, y) =\n",
    "\\exists x \\forall y (xy = y) \\in \\mathbb{R}\n",
    "$\n",
    "\n",
    "English\n",
    "* There is a real number $x$ such that for any real number $y$ the product of $x$ and $y$ is $y$.\n",
    "* Some real number is the multiplicative identity element.\n",
    "\n",
    "Proof\n",
    "* Let $x = 1$.\n",
    "* Then $xy = y$ for any $y$.\n",
    "* $x = 1$ is a example.\n",
    "* Therefore, $P$ is true."
   ]
  },
  {
   "cell_type": "markdown",
   "metadata": {},
   "source": [
    "Consider the proposition\n",
    "\n",
    "$\n",
    "P(x, y) =\n",
    "\\forall x \\exists y (x^2 = y) \\in \\mathbb{R}\n",
    "$\n",
    "\n",
    "English\n",
    "* For any real number $x$ it is the case that there is some real number $y$ that is the square of $x$.\n",
    "* The square of a real number is a real number.\n",
    "* The squaring operation is closed over the real numbers.\n",
    "\n",
    "Proof\n",
    "* Let $x \\in \\mathbb{R}$.\n",
    "* Then $x^2 = y \\in \\mathbb{R}$.\n",
    "* Therefore, $P$ is true."
   ]
  },
  {
   "cell_type": "markdown",
   "metadata": {},
   "source": [
    "### De Morgan's laws for nested quantifiers"
   ]
  },
  {
   "cell_type": "markdown",
   "metadata": {},
   "source": [
    "$\n",
    "\\begin{aligned}\n",
    "\\lnot \\forall x \\forall y P(x, y) &\\equiv \\exists x \\exists y \\lnot P(x, y) \\\\\n",
    "\\lnot \\forall x \\exists y P(x, y) &\\equiv \\exists x \\forall y \\lnot P(x, y) \\\\\n",
    "\\lnot \\exists x \\forall y P(x, y) &\\equiv \\forall x \\exists y \\lnot P(x, y) \\\\\n",
    "\\lnot \\exists x \\exists y P(x, y) &\\equiv \\forall x \\forall y \\lnot P(x, y) \\\\\n",
    "\\end{aligned}\n",
    "$"
   ]
  },
  {
   "cell_type": "markdown",
   "metadata": {},
   "source": [
    "#### Example"
   ]
  },
  {
   "cell_type": "markdown",
   "metadata": {},
   "source": [
    "Consider the predicate\n",
    "\n",
    "$\n",
    "L(x, y) : \\text{x likes y} \\in \\text{the set of all students in a school}\n",
    "$\n",
    "\n",
    "Then the following quantified propositions read\n",
    "\n",
    "$\n",
    "\\begin{aligned}\n",
    "  &\\exists x \\forall y L(x, y)       && \\text{someone likes everyone, including themself} \\\\\n",
    "  &\\lnot \\exists x \\forall y L(x, y) && \\text{it is not the case that someone likes everyone, including themself} \\\\\n",
    "= &\\forall x \\lnot \\forall y L(x, y) && \\text{no one likes everyone (even if the only person they don't like is themself)} \\\\\n",
    "= &\\forall x \\exists y \\lnot L(x, y) && \\text{everyone dislikes someone (even if the person they dislike is themself)} \\\\\n",
    "\\end{aligned}\n",
    "$"
   ]
  },
  {
   "cell_type": "markdown",
   "metadata": {},
   "source": [
    "#### Example"
   ]
  },
  {
   "cell_type": "markdown",
   "metadata": {},
   "source": [
    "$\n",
    "\\begin{aligned}\n",
    "       &\\lnot \\exists x \\exists y (\\lnot P(x) \\land Q(x)) && \\\\\n",
    "\\equiv &\\forall x \\lnot \\exists y (\\lnot P(x) \\land Q(x)) && \\text{De Morgan} \\\\\n",
    "\\equiv &\\forall x \\forall y \\lnot (\\lnot P(x) \\land Q(x)) && \\text{De Morgan} \\\\\n",
    "\\equiv &\\forall x \\forall y (P(x) \\lor \\lnot Q(x)) && \\text{De Morgan} \\\\\n",
    "\\end{aligned}\n",
    "$"
   ]
  },
  {
   "cell_type": "markdown",
   "metadata": {},
   "source": [
    "---"
   ]
  },
  {
   "cell_type": "markdown",
   "metadata": {},
   "source": [
    "### Expressing universality sans identity in quantified statements"
   ]
  },
  {
   "cell_type": "markdown",
   "metadata": {},
   "source": [
    "Let $P$ be a predicate. Then the following proposition predicates $P$ of each pair $(x, y)$ except where $x = y$.\n",
    "\n",
    "$\n",
    "\\boxed{\n",
    "\\forall x \\forall y ((x \\ne y) \\rightarrow P(x, y))\n",
    "}\n",
    "$"
   ]
  },
  {
   "cell_type": "markdown",
   "metadata": {},
   "source": [
    "### Example"
   ]
  },
  {
   "cell_type": "markdown",
   "metadata": {},
   "source": [
    "Consider the predicate\n",
    "\n",
    "$\n",
    "M(x, y) : \\text{x sent an email to y} \\in \\{\\text{A,B,C,D}\\}\n",
    "$\n",
    "\n",
    "with the following truth table\n",
    "\n",
    "$\n",
    "\\begin{array}{c|cc}\n",
    "& \\text{A} & \\text{B} & \\text{C} & \\text{D} \\\\\n",
    "\\hline\n",
    "\\text{A} & \\color{red}\\text{F} & \\text{T} & \\text{T} & \\text{T} \\\\\n",
    "\\text{B} & \\text{T} & \\color{red}\\text{F} & \\text{T} & \\text{T} \\\\\n",
    "\\text{C} & \\text{T} & \\text{T} & \\color{red}\\text{F} & \\text{T} \\\\\n",
    "\\text{D} & \\text{T} & \\text{T} & \\text{T} & \\color{red}\\text{F} \\\\\n",
    "\\end{array}\n",
    "$\n",
    "\n",
    "$\n",
    "\\begin{aligned}\n",
    "\\forall x \\forall y M(x, y)                         && \\text{false} && \\text{Everyone sent an email to everyone, including themself.} \\\\\n",
    "\\forall x \\forall y ((x \\ne y) \\rightarrow M(x, y)) && \\text{true} && \\text{Everyone sent an email to everyone else.} \\\\\n",
    "\\end{aligned}\n",
    "$\n",
    "\n",
    "$\n",
    "\\begin{aligned}\n",
    "& \\forall x \\forall y M(x, y) \\\\\n",
    "\\equiv & \\forall y M(A, y) \\land \\forall y M(B, y) \\land \\forall y M(C, y) \\land \\forall y M(D, y) \\\\\n",
    "\\equiv & M(A, A) \\land M(B, A) \\land M(C, A) \\land M(D, A)\n",
    "\\land M(A, C) \\land M(B, C) \\land M(C, C) \\land M(D, C)\n",
    "\\land M(A, D) \\land M(B, D) \\land M(C, D) \\land M(D, D)\n",
    "\\land M(A, B) \\land M(B, B) \\land M(C, B) \\land M(D, B) \\\\\n",
    "\\equiv & \\text{F} \\land \\text{T} \\land \\text{T} \\land \\text{T}\n",
    "\\land \\text{T} \\land \\text{F} \\land \\text{T} \\land \\text{T}\n",
    "\\land \\text{T} \\land \\text{T} \\land \\text{F} \\land \\text{T}\n",
    "\\land \\text{T} \\land \\text{T} \\land \\text{T} \\land \\text{F} \\\\\n",
    "\\equiv & \\text{F}\n",
    "\\end{aligned}\n",
    "$\n",
    "\n",
    "$\n",
    "\\begin{aligned}\n",
    "& \\forall x \\forall y ((x \\ne y) \\rightarrow M(x, y)) \\\\\n",
    "\\equiv & \\forall y ((A \\ne y) \\rightarrow M(A, y)) \\land \\forall y ((B \\ne y) \\rightarrow M(B, y)) \\land \\forall y ((C \\ne y) \\rightarrow M(C, y)) \\land \\forall y ((D \\ne y) \\rightarrow M(D, y)) \\\\\n",
    "\\equiv & ((A \\ne A) \\rightarrow M(A, A)) \\land ((A \\ne B) \\rightarrow M(A, B)) \\land ((A \\ne C) \\rightarrow M(A, C)) \\land ((A \\ne D) \\rightarrow M(A, D))\n",
    "\\land ((B \\ne A) \\rightarrow M(B, A)) \\land ((B \\ne B) \\rightarrow M(B, B)) \\land ((B \\ne C) \\rightarrow M(B, C)) \\land ((B \\ne D) \\rightarrow M(B, D))\n",
    "\\land ((C \\ne A) \\rightarrow M(C, A)) \\land ((C \\ne B) \\rightarrow M(C, B)) \\land ((C \\ne C) \\rightarrow M(C, C)) \\land ((C \\ne D) \\rightarrow M(C, D))\n",
    "\\land ((D \\ne A) \\rightarrow M(D, A)) \\land ((D \\ne B) \\rightarrow M(D, B)) \\land ((D \\ne C) \\rightarrow M(D, C)) \\land ((D \\ne D) \\rightarrow M(D, D)) \\\\\n",
    "\\equiv & (\\text{F} \\rightarrow \\text{F}) \\land (\\text{T} \\rightarrow \\text{T}) \\land (\\text{T} \\rightarrow \\text{T}) \\land (\\text{T} \\rightarrow \\text{T})\n",
    "\\land (\\text{T} \\rightarrow \\text{T}) \\land (\\text{F} \\rightarrow \\text{F}) \\land (\\text{T} \\rightarrow \\text{T}) \\land (\\text{T} \\rightarrow \\text{T})\n",
    "\\land (\\text{T} \\rightarrow \\text{T}) \\land (\\text{T} \\rightarrow \\text{T}) \\land (\\text{F} \\rightarrow \\text{F}) \\land (\\text{T} \\rightarrow \\text{T})\n",
    "\\land (\\text{T} \\rightarrow \\text{T}) \\land (\\text{T} \\rightarrow \\text{T}) \\land (\\text{T} \\rightarrow \\text{T}) \\land (\\text{F} \\rightarrow \\text{F}) \\\\\n",
    "\\equiv & \\text{T} \\land \\text{T} \\land \\text{T} \\land \\text{T}\n",
    "\\land \\text{T} \\land \\text{T} \\land \\text{T} \\land \\text{T}\n",
    "\\land \\text{T} \\land \\text{T} \\land \\text{T} \\land \\text{T}\n",
    "\\land \\text{T} \\land \\text{T} \\land \\text{T} \\land \\text{T} \\\\\n",
    "\\equiv & \\text{T}\n",
    "\\end{aligned}\n",
    "$"
   ]
  },
  {
   "cell_type": "markdown",
   "metadata": {},
   "source": [
    "#### Example"
   ]
  },
  {
   "cell_type": "markdown",
   "metadata": {},
   "source": [
    "Consider the predicate\n",
    "\n",
    "$\n",
    "M(x, y) : \\text{x sent an email to y} \\in \\{\\text{A,B,C,D}\\}\n",
    "$\n",
    "\n",
    "with the following truth table\n",
    "\n",
    "$\n",
    "\\begin{array}{c|cc}\n",
    "M & \\text{A} & \\text{B} & \\text{C} & \\text{D} \\\\\n",
    "\\hline\n",
    "\\text{A} & \\text{F} & \\text{F} & \\color{blue}\\text{T} & \\text{F} \\\\\n",
    "\\text{B} & \\text{F} & \\color{blue}\\text{T} & \\text{F} & \\text{F} \\\\\n",
    "\\text{C} & \\text{F} & \\text{F} & \\text{F} & \\color{blue}\\text{T} \\\\\n",
    "\\text{D} & \\text{F} & \\color{blue}\\text{T} & \\text{F} & \\text{F} \\\\\n",
    "\\end{array}\n",
    "$\n",
    "\n",
    "$\n",
    "\\begin{aligned}\n",
    "\\forall x \\exists y M(x, y)                        && \\text{true}  && \\text{Everyone sent an email to someone (even if it was to themself).} \\\\\n",
    "\\forall x \\exists y ((x \\ne y) \\land M(x, y))      && \\text{false} && \\text{Everyone sent an email to someone else.} \\\\\n",
    "\\end{aligned}\n",
    "$\n",
    "\n",
    "with the following truth table\n",
    "\n",
    "$\n",
    "\\begin{array}{c|cc}\n",
    "M & \\text{A} & \\text{B} & \\text{C} & \\text{D} \\\\\n",
    "\\hline\n",
    "\\text{A} & \\text{F} & \\text{F} & \\color{blue}\\text{T} & \\text{F} \\\\\n",
    "\\text{B} & \\text{F} & \\text{F} & \\color{blue}\\text{T} & \\text{F} \\\\\n",
    "\\text{C} & \\text{F} & \\text{F} & \\text{F} & \\color{blue}\\text{T} \\\\\n",
    "\\text{D} & \\text{F} & \\color{blue}\\text{T} & \\text{F} & \\text{F} \\\\\n",
    "\\end{array}\n",
    "$\n",
    "\n",
    "$\n",
    "\\begin{aligned}\n",
    "\\forall x \\exists y M(x, y)                        && \\text{true}  && \\text{Everyone sent an email to someone (even if it was to themself).} \\\\\n",
    "\\forall x \\exists y ((x \\ne y) \\land M(x, y))      && \\text{true}  && \\text{Everyone sent an email to someone else.} \\\\\n",
    "\\end{aligned}\n",
    "$"
   ]
  },
  {
   "cell_type": "markdown",
   "metadata": {},
   "source": [
    "### Expressing uniqueness in quantified statements"
   ]
  },
  {
   "cell_type": "markdown",
   "metadata": {},
   "source": [
    "Let $P$ be a predicate. Then the following proposition predicates $P$ of $x$ and only $x$.\n",
    "\n",
    "$\n",
    "\\boxed{\n",
    "\\exists x (P(x) \\land \\forall y ((x \\ne y) \\rightarrow \\lnot P(y)))\n",
    "}\n",
    "$\n",
    "\n",
    "An existentially quantified statement evaluates to true even if there is more than one element in the domain that causes the predicate to evaluate to true.\n",
    "\n",
    "For example, if the domain is a set of people who attend a meeting and the predicate\n",
    "\n",
    "$L(x) : \\text{x came late to the meeting}$\n",
    "\n",
    "then the quantified proposition\n",
    "\n",
    "$\n",
    "\\begin{aligned}\n",
    "\\exists x L(x) && \\text{someone came late to the meeting}\n",
    "\\end{aligned}\n",
    "$\n",
    "\n",
    "is true if there are one, two, or more people who came late to the meeting.\n",
    "\n",
    "To express that one and only one person came late to the meeting\n",
    "\n",
    "$\n",
    "\\begin{aligned}\n",
    "\\exists x (L(x) \\land \\forall y ((x \\ne y) \\rightarrow \\lnot L(y))) && \\text{exactly one person came late to the meeting}\n",
    "\\end{aligned}\n",
    "$"
   ]
  },
  {
   "cell_type": "markdown",
   "metadata": {},
   "source": [
    "### Moving quantifiers"
   ]
  },
  {
   "cell_type": "markdown",
   "metadata": {},
   "source": [
    "#### Example"
   ]
  },
  {
   "cell_type": "markdown",
   "metadata": {},
   "source": [
    "Let the domain be a set of people.\n",
    "\n",
    "1\n",
    "\n",
    "Let $M(x, y) : \\text{x is married to y}$ and $A(x) : \\text{x is an adult}$ be predicates.\n",
    "\n",
    "$\n",
    "\\begin{aligned}\n",
    "\\forall x (A(x) \\rightarrow \\exists y M(x, y))\n",
    "\\equiv\n",
    "\\forall x \\exists y (A(x) \\rightarrow M(x, y)) && \\text{since y does not appear in the predicate A(x)}\n",
    "\\end{aligned}\n",
    "$\n",
    "\n",
    "\"every adult is married to someone\" or \"for every person $x$, if $x$ is an adult then there is a person $y$ to whom $x$ is married\"\n",
    "\n",
    "2\n",
    "\n",
    "Let $M(x, y) : \\text{x is married to y}$ and $A(x) : \\text{x is an adult}$ be predicates.\n",
    "\n",
    "$\n",
    "\\begin{aligned}\n",
    "& \\forall x (A(x) \\rightarrow (\\exists y (M(x, y) \\land \\forall z ((z \\ne y) \\rightarrow \\lnot M(x, z))))) \\\\\n",
    "\\equiv &\n",
    "\\forall x \\exists y \\forall z (A(x) \\rightarrow (M(x, y) \\land ((z \\ne y) \\rightarrow \\lnot M(x, z)))) && \\text{since y does not appear in the predicate A(x) and z does not appear in the predicates A(x), M(x, y)}\n",
    "\\end{aligned}\n",
    "$\n",
    "\n",
    "\"every adult is married to exactly one adult\" or \"for every person $x$, if $x$ is an adult then there is a person $y$ to whom $x$ is married and for every person $z$, if $z$ is not the $y$ to whom $x$ is married then $x$ is not married to $z$\""
   ]
  },
  {
   "cell_type": "markdown",
   "metadata": {},
   "source": [
    "---"
   ]
  },
  {
   "cell_type": "markdown",
   "metadata": {},
   "source": [
    "### Logical Argument"
   ]
  },
  {
   "cell_type": "markdown",
   "metadata": {},
   "source": [
    "A logical argument is a sequence of propositions $p_1, p_2, \\dots, p_n$ called hypotheses followed by a final proposition $c$ called the conclusion.\n",
    "\n",
    "$\n",
    "\\begin{aligned}\n",
    "& p_1 \\\\\n",
    "& p_2 \\\\\n",
    "& \\vdots \\\\\n",
    "& p_n \\\\\n",
    "\\hline\n",
    "\\therefore \\,\\, & c \\\\\n",
    "\\end{aligned}\n",
    "$"
   ]
  },
  {
   "cell_type": "markdown",
   "metadata": {},
   "source": [
    "#### Validity of a logical argument"
   ]
  },
  {
   "cell_type": "markdown",
   "metadata": {},
   "source": [
    "An argument is valid if the conclusion is true whenever the hypotheses are true; otherwise, the argument is invalid.\n",
    "\n",
    "In other words, the argument is valid whenever the following proposition is a tautology.\n",
    "\n",
    "$\n",
    "(p_1 \\land p_2 \\land \\dots \\land p_n) \\rightarrow c\n",
    "$\n",
    "\n",
    "To show that an argument is invalid, demonstrate an assignment of truth values to its variables that makes the hypotheses true but the conclusion false.\n",
    "\n",
    "By commutativity, rearranging the hypotheses does not change the validity of the argument."
   ]
  },
  {
   "cell_type": "markdown",
   "metadata": {},
   "source": [
    "##### Example"
   ]
  },
  {
   "cell_type": "markdown",
   "metadata": {},
   "source": [
    "The following two representations are of the same argument.\n",
    "\n",
    "$\n",
    "\\begin{aligned}\n",
    "& p \\\\\n",
    "& p \\rightarrow q \\\\\n",
    "\\hline\n",
    "\\therefore \\,\\, & q \\\\\n",
    "\\end{aligned}\n",
    "$\n",
    "\n",
    "$\n",
    "\\begin{aligned}\n",
    "& p \\rightarrow q \\\\\n",
    "& p \\\\\n",
    "\\hline\n",
    "\\therefore \\,\\, & q \\\\\n",
    "\\end{aligned}\n",
    "$\n",
    "\n",
    "The argument is valid so long as the following proposition is a tautology.\n",
    "\n",
    "$\n",
    "(p \\land (p \\rightarrow q)) \\rightarrow q\n",
    "$\n",
    "\n",
    "In order to use a truth table to establish the validity of an argument, the truth table is constructed for all the hypotheses and the conclusion. Each row in which all the hypotheses are true is examined. If the conclusion is true in each of the examined rows, then the agument is valid. If there is any row in which all the hypotheses are true but the conclusion is false, then the argument is invalid.\n",
    "\n",
    "Proof by truth table\n",
    "\n",
    "$\n",
    "\\begin{array}{cc|cccc}\n",
    "p & q & p \\rightarrow q \\\\\n",
    "\\hline\n",
    "\\color{blue}\\text{T} & \\color{green}\\text{T} & \\color{blue}\\text{T} \\\\\n",
    "\\text{T} & \\text{F} & \\text{F} \\\\\n",
    "\\text{F} & \\text{T} & \\text{T} \\\\\n",
    "\\text{F} & \\text{F} & \\text{T} \\\\\n",
    "\\end{array}\n",
    "$\n",
    "\n",
    "The argument is valid.\n",
    "\n",
    "$\\blacksquare$"
   ]
  },
  {
   "cell_type": "markdown",
   "metadata": {},
   "source": [
    "##### Example"
   ]
  },
  {
   "cell_type": "markdown",
   "metadata": {},
   "source": [
    "Determine the validity of the following argument.\n",
    "\n",
    "$\n",
    "\\begin{aligned}\n",
    "& p \\rightarrow q \\\\\n",
    "& p \\lor q \\\\\n",
    "\\hline\n",
    "\\therefore \\,\\, & q \\\\\n",
    "\\end{aligned}\n",
    "$\n",
    "\n",
    "The argument is valid if the following proposition is a tautology.\n",
    "\n",
    "$\n",
    "((p \\rightarrow q) \\land (p \\lor q)) \\rightarrow q\n",
    "$\n",
    "\n",
    "Proof by truth table\n",
    "\n",
    "$\n",
    "\\begin{array}{cc|cc}\n",
    "p & q & p \\rightarrow q & p \\lor q \\\\\n",
    "\\hline\n",
    "\\text{T} & \\color{green}\\text{T} & \\color{blue}\\text{T} & \\color{blue}\\text{T} \\\\\n",
    "\\text{T} &              \\text{F} &             \\text{F} &             \\text{T} \\\\\n",
    "\\text{F} & \\color{green}\\text{T} & \\color{blue}\\text{T} & \\color{blue}\\text{T} \\\\\n",
    "\\text{F} &              \\text{F} &             \\text{T} &             \\text{F} \\\\\n",
    "\\end{array}\n",
    "$\n",
    "\n",
    "The argument is valid.\n",
    "\n",
    "$\\blacksquare$"
   ]
  },
  {
   "cell_type": "markdown",
   "metadata": {},
   "source": [
    "##### Example"
   ]
  },
  {
   "cell_type": "markdown",
   "metadata": {},
   "source": [
    "Determine the validity of the following argument.\n",
    "\n",
    "$\n",
    "\\begin{aligned}\n",
    "& \\lnot p \\\\\n",
    "& p \\rightarrow q \\\\\n",
    "\\hline\n",
    "\\therefore \\,\\, & \\lnot q \\\\\n",
    "\\end{aligned}\n",
    "$\n",
    "\n",
    "The argument is valid if the following proposition is a tautology.\n",
    "\n",
    "$\n",
    "(\\lnot p \\land (p \\rightarrow q)) \\rightarrow \\lnot q\n",
    "$\n",
    "\n",
    "Proof by truth table\n",
    "\n",
    "$\n",
    "\\begin{array}{cc|ccc}\n",
    "p & q & \\lnot p & \\lnot q & p \\rightarrow q \\\\\n",
    "\\hline\n",
    "\\text{T} & \\text{T} &             \\text{F} &              \\text{F} &             \\text{T} \\\\\n",
    "\\text{T} & \\text{F} &             \\text{F} &              \\text{T} &             \\text{F} \\\\\n",
    "\\text{F} & \\text{T} & \\color{blue}\\text{T} & \\color{red}  \\text{F} & \\color{blue}\\text{T} \\\\\n",
    "\\text{F} & \\text{F} & \\color{blue}\\text{T} & \\color{green}\\text{T} & \\color{blue}\\text{T} \\\\\n",
    "\\end{array}\n",
    "$\n",
    "\n",
    "The argument is invalid.\n",
    "\n",
    "$\\blacksquare$"
   ]
  },
  {
   "cell_type": "markdown",
   "metadata": {},
   "source": [
    "---"
   ]
  },
  {
   "cell_type": "markdown",
   "metadata": {},
   "source": [
    "### Rules of Inference for Propositions"
   ]
  },
  {
   "cell_type": "markdown",
   "metadata": {},
   "source": [
    "#### Modus Ponens"
   ]
  },
  {
   "cell_type": "markdown",
   "metadata": {},
   "source": [
    "$\n",
    "\\begin{aligned}\n",
    "& p \\\\\n",
    "& p \\rightarrow q \\\\\n",
    "\\hline\n",
    "\\therefore \\,\\, & q \\\\\n",
    "\\end{aligned}\n",
    "$\n",
    "\n",
    "Proof by truth table\n",
    "\n",
    "$\n",
    "\\begin{array}{cc|c}\n",
    "p & q & p \\rightarrow q \\\\\n",
    "\\hline\n",
    "\\color{blue}\\text{T} & \\color{green}\\text{T} & \\color{blue}\\text{T} \\\\\n",
    "\\text{T} & \\text{F} & \\text{F} \\\\\n",
    "\\text{F} & \\text{T} & \\text{T} \\\\\n",
    "\\text{F} & \\text{F} & \\text{T} \\\\\n",
    "\\end{array}\n",
    "$\n",
    "\n",
    "The argument is valid.\n",
    "\n",
    "$\\blacksquare$"
   ]
  },
  {
   "cell_type": "markdown",
   "metadata": {},
   "source": [
    "#### Modus Tollens"
   ]
  },
  {
   "cell_type": "markdown",
   "metadata": {},
   "source": [
    "$\n",
    "\\begin{aligned}\n",
    "& \\lnot q \\\\\n",
    "& p \\rightarrow q \\\\\n",
    "\\hline\n",
    "\\therefore \\,\\, & \\lnot p \\\\\n",
    "\\end{aligned}\n",
    "$\n",
    "\n",
    "Proof by truth table\n",
    "\n",
    "$\n",
    "\\begin{array}{cc|ccc}\n",
    "p & q & \\lnot p & \\lnot q & p \\rightarrow q \\\\\n",
    "\\hline\n",
    "\\text{T} & \\text{T} &              \\text{F} &             \\text{F} &             \\text{T} \\\\\n",
    "\\text{T} & \\text{F} &              \\text{F} &             \\text{T} &             \\text{F} \\\\\n",
    "\\text{F} & \\text{T} &              \\text{T} &             \\text{F} &             \\text{T} \\\\\n",
    "\\text{F} & \\text{F} & \\color{green}\\text{T} & \\color{blue}\\text{T} & \\color{blue}\\text{T} \\\\\n",
    "\\end{array}\n",
    "$\n",
    "\n",
    "The argument is valid.\n",
    "\n",
    "$\\blacksquare$"
   ]
  },
  {
   "cell_type": "markdown",
   "metadata": {},
   "source": [
    "#### Addition"
   ]
  },
  {
   "cell_type": "markdown",
   "metadata": {},
   "source": [
    "$\n",
    "\\begin{aligned}\n",
    "& p \\\\\n",
    "\\hline\n",
    "\\therefore \\,\\, & p \\lor q \\\\\n",
    "\\end{aligned}\n",
    "$\n",
    "\n",
    "Proof by truth table\n",
    "\n",
    "$\n",
    "\\begin{array}{cc|c}\n",
    "p & q & p \\lor q \\\\\n",
    "\\hline\n",
    "\\color{blue}\\text{T} & \\text{T} & \\color{green}\\text{T} & \\\\\n",
    "\\color{blue}\\text{T} & \\text{F} & \\color{green}\\text{T} & \\\\\n",
    "            \\text{F} & \\text{T} &              \\text{T} & \\\\\n",
    "            \\text{F} & \\text{F} &              \\text{F} & \\\\\n",
    "\\end{array}\n",
    "$\n",
    "\n",
    "The argument is valid.\n",
    "\n",
    "$\\blacksquare$"
   ]
  },
  {
   "cell_type": "markdown",
   "metadata": {},
   "source": [
    "#### Simplification"
   ]
  },
  {
   "cell_type": "markdown",
   "metadata": {},
   "source": [
    "$\n",
    "\\begin{aligned}\n",
    "& p \\land q \\\\\n",
    "\\hline\n",
    "\\therefore \\,\\, & p \\\\\n",
    "\\end{aligned}\n",
    "$\n",
    "\n",
    "Proof by truth table\n",
    "\n",
    "$\n",
    "\\begin{array}{cc|c}\n",
    "p & q & p \\land q \\\\\n",
    "\\hline\n",
    "\\color{green}\\text{T} & \\text{T} & \\color{blue}\\text{T} & \\\\\n",
    "             \\text{T} & \\text{F} &             \\text{F} & \\\\\n",
    "             \\text{F} & \\text{T} &             \\text{F} & \\\\\n",
    "             \\text{F} & \\text{F} &             \\text{F} & \\\\\n",
    "\\end{array}\n",
    "$\n",
    "\n",
    "The argument is valid.\n",
    "\n",
    "$\\blacksquare$"
   ]
  },
  {
   "cell_type": "markdown",
   "metadata": {},
   "source": [
    "#### Conjunction"
   ]
  },
  {
   "cell_type": "markdown",
   "metadata": {},
   "source": [
    "$\n",
    "\\begin{aligned}\n",
    "& p \\\\\n",
    "& q \\\\\n",
    "\\hline\n",
    "\\therefore \\,\\, & p \\land q \\\\\n",
    "\\end{aligned}\n",
    "$\n",
    "\n",
    "Proof by truth table\n",
    "\n",
    "$\n",
    "\\begin{array}{cc|c}\n",
    "p & q & p \\land q \\\\\n",
    "\\hline\n",
    "\\color{blue}\\text{T} & \\color{blue}\\text{T} & \\color{green}\\text{T} & \\\\\n",
    "            \\text{T} &             \\text{F} &              \\text{F} & \\\\\n",
    "            \\text{F} &             \\text{T} &              \\text{F} & \\\\\n",
    "            \\text{F} &             \\text{F} &              \\text{F} & \\\\\n",
    "\\end{array}\n",
    "$\n",
    "\n",
    "The argument is valid.\n",
    "\n",
    "$\\blacksquare$"
   ]
  },
  {
   "cell_type": "markdown",
   "metadata": {},
   "source": [
    "#### Hypothetical Syllogism"
   ]
  },
  {
   "cell_type": "markdown",
   "metadata": {},
   "source": [
    "$\n",
    "\\begin{aligned}\n",
    "& p \\rightarrow q \\\\\n",
    "& q \\rightarrow r\\\\\n",
    "\\hline\n",
    "\\therefore \\,\\, & p \\rightarrow r \\\\\n",
    "\\end{aligned}\n",
    "$\n",
    "\n",
    "Proof by truth table\n",
    "\n",
    "$\n",
    "\\begin{array}{ccc|ccc}\n",
    "p & q & r & p \\rightarrow q & q \\rightarrow r & p \\rightarrow r \\\\\n",
    "\\hline\n",
    "\\text{T} & \\text{T} & \\text{T} & \\color{blue}\\text{T} & \\color{blue}\\text{T} & \\color{green}\\text{T} \\\\\n",
    "\\text{T} & \\text{T} & \\text{F} &             \\text{T} &             \\text{F} &              \\text{F} \\\\\n",
    "\\text{T} & \\text{F} & \\text{T} &             \\text{F} &             \\text{T} &              \\text{T} \\\\\n",
    "\\text{T} & \\text{F} & \\text{F} &             \\text{F} &             \\text{T} &              \\text{F} \\\\\n",
    "\\text{F} & \\text{T} & \\text{T} & \\color{blue}\\text{T} & \\color{blue}\\text{T} & \\color{green}\\text{T} \\\\\n",
    "\\text{F} & \\text{T} & \\text{F} &             \\text{T} &             \\text{F} &              \\text{T} \\\\\n",
    "\\text{F} & \\text{F} & \\text{T} & \\color{blue}\\text{T} & \\color{blue}\\text{T} & \\color{green}\\text{T} \\\\\n",
    "\\text{F} & \\text{F} & \\text{F} & \\color{blue}\\text{T} & \\color{blue}\\text{T} & \\color{green}\\text{T} \\\\\n",
    "\\end{array}\n",
    "$\n",
    "\n",
    "The argument is valid.\n",
    "\n",
    "$\\blacksquare$"
   ]
  },
  {
   "cell_type": "markdown",
   "metadata": {},
   "source": [
    "#### Disjunctive Syllogism"
   ]
  },
  {
   "cell_type": "markdown",
   "metadata": {},
   "source": [
    "$\n",
    "\\begin{aligned}\n",
    "& p \\lor q \\\\\n",
    "& \\lnot p \\\\\n",
    "\\hline\n",
    "\\therefore \\,\\, & q \\\\\n",
    "\\end{aligned}\n",
    "$\n",
    "\n",
    "Proof by truth table\n",
    "\n",
    "$\n",
    "\\begin{array}{cc|cc}\n",
    "p & q & \\lnot p & p \\lor q \\\\\n",
    "\\hline\n",
    "\\text{T} &              \\text{T} &             \\text{F} &             \\text{T} \\\\\n",
    "\\text{T} &              \\text{F} &             \\text{F} &             \\text{T} \\\\\n",
    "\\text{F} & \\color{green}\\text{T} & \\color{blue}\\text{T} & \\color{blue}\\text{T} \\\\\n",
    "\\text{F} &              \\text{F} &             \\text{T} &             \\text{F} \\\\\n",
    "\\end{array}\n",
    "$\n",
    "\n",
    "The argument is valid.\n",
    "\n",
    "$\\blacksquare$"
   ]
  },
  {
   "cell_type": "markdown",
   "metadata": {},
   "source": [
    "#### Resolution"
   ]
  },
  {
   "cell_type": "markdown",
   "metadata": {},
   "source": [
    "$\n",
    "\\begin{aligned}\n",
    "& p \\lor q \\\\\n",
    "& \\lnot p \\lor r \\\\\n",
    "\\hline\n",
    "\\therefore \\,\\, & q \\lor r \\\\\n",
    "\\end{aligned}\n",
    "$\n",
    "\n",
    "Proof by truth table\n",
    "\n",
    "$\n",
    "\\begin{array}{ccc|cccc}\n",
    "p & q & r & \\lnot p & p \\lor q & \\lnot p \\lor r & q \\lor r \\\\\n",
    "\\hline\n",
    "\\text{T} & \\text{T} & \\text{T} & \\text{F} & \\color{blue}\\text{T} & \\color{blue}\\text{T} & \\color{green}\\text{T} \\\\\n",
    "\\text{T} & \\text{T} & \\text{F} & \\text{F} &             \\text{T} &             \\text{F} &              \\text{T} \\\\\n",
    "\\text{T} & \\text{F} & \\text{T} & \\text{F} & \\color{blue}\\text{T} & \\color{blue}\\text{T} & \\color{green}\\text{T} \\\\\n",
    "\\text{T} & \\text{F} & \\text{F} & \\text{F} &             \\text{T} &             \\text{F} &              \\text{F} \\\\\n",
    "\\text{F} & \\text{T} & \\text{T} & \\text{T} & \\color{blue}\\text{T} & \\color{blue}\\text{T} & \\color{green}\\text{T} \\\\\n",
    "\\text{F} & \\text{T} & \\text{F} & \\text{T} & \\color{blue}\\text{T} & \\color{blue}\\text{T} & \\color{green}\\text{T} \\\\\n",
    "\\text{F} & \\text{F} & \\text{T} & \\text{T} &             \\text{F} &             \\text{T} &              \\text{T} \\\\\n",
    "\\text{F} & \\text{F} & \\text{F} & \\text{T} &             \\text{F} &             \\text{T} &              \\text{F} \\\\\n",
    "\\end{array}\n",
    "$\n",
    "\n",
    "The argument is valid.\n",
    "\n",
    "$\\blacksquare$"
   ]
  },
  {
   "cell_type": "markdown",
   "metadata": {},
   "source": [
    "---"
   ]
  },
  {
   "cell_type": "markdown",
   "metadata": {},
   "source": [
    "### Logical Proof"
   ]
  },
  {
   "cell_type": "markdown",
   "metadata": {},
   "source": [
    "The validity of an argument can be established by applying both the rules of inference and the laws of propositional logic in a logical proof.\n",
    "\n",
    "A logical proof of an argument is a sequence of steps, each of which consists of a proposition and a justification. If the proposition in a step is a hypothesis, the justification is \"hypothesis\"; otherwise, the proposition must follow from the previous steps by applying one rule of inference or law of logic: the justification indicates which rule or law is used and the previous steps to which it is applied. The proposition in the last step in the proof must be the conclusion of the argument being proven."
   ]
  },
  {
   "cell_type": "markdown",
   "metadata": {},
   "source": [
    "#### Example"
   ]
  },
  {
   "cell_type": "markdown",
   "metadata": {},
   "source": [
    "Determine the validity of the following argument.\n",
    "\n",
    "$\n",
    "\\begin{aligned}\n",
    "& (p \\lor r) \\rightarrow q \\\\\n",
    "& q \\rightarrow t \\\\\n",
    "& r \\\\\n",
    "\\hline\n",
    "\\therefore \\,\\, & t \\\\\n",
    "\\end{aligned}\n",
    "$\n",
    "\n",
    "Logical proof\n",
    "\n",
    "$\n",
    "\\begin{aligned}\n",
    "1 && r                        && \\text{hypothesis} \\\\\n",
    "2 && p \\lor r                 && \\text{addition, 1} \\\\\n",
    "3 && (p \\lor r) \\rightarrow q && \\text{hypothesis} \\\\\n",
    "4 && q                        && \\text{modus ponens, 2, 3} \\\\\n",
    "5 && q \\rightarrow t          && \\text{hypothesis} \\\\\n",
    "6 && t                        && \\text{modus ponens, 4, 5} \\\\\n",
    "\\end{aligned}\n",
    "$\n",
    "\n",
    "The argument is valid.\n",
    "\n",
    "$\\blacksquare$"
   ]
  },
  {
   "cell_type": "markdown",
   "metadata": {},
   "source": [
    "---"
   ]
  },
  {
   "cell_type": "markdown",
   "metadata": {},
   "source": [
    "### Rules of Inference for Quantified Propositions"
   ]
  },
  {
   "cell_type": "markdown",
   "metadata": {},
   "source": [
    "In order to apply the rules of inference to quantified expressions, the quantifier needs to be removed by plugging in a value from the domain to replace the variable $x$.\n",
    "\n",
    "The rules only apply to non nested quantifiers: applying the rules to nested quantifiers would require more constraints on which rules could be applied in particular situations.\n",
    "\n",
    "__Elements__\n",
    "\n",
    "A value that can be plugged in for a variable $x$ is called an element of the domain of $x$. Elements of the domain can be defined in a hypothesis of an argument. Elements of the domain can also be introduced within a proof in which case they are given generic names such as $c$ or $d$. There are two types of named elements used in logical proofs: an arbitrary element of a domain has no special properties other than those shared by all the elements of the domain; a particular element of the domain may have properties that are not shared by all the elements of the domain. Every domain element referenced in a proof must be defined on a separate line of the proof. If the element is defined in a hypothesis, it is always a particular element and the definition of that element in the proof is labeled \"hypothesis\". If an element is introduced for the first time in the proof, the definition is labeled \"element definition\" and must specify whether the element is arbitrary or particular.\n",
    "\n",
    "__Instantiation__\n",
    "\n",
    "The rules existential instantiation and universal instantiation replace a quantified variable with an element of the domain.\n",
    "\n",
    "__Generalization__\n",
    "\n",
    "The rules existential generalization and universal generalization replace an element of the domain with a quantified variable."
   ]
  },
  {
   "cell_type": "markdown",
   "metadata": {},
   "source": [
    "#### Universal Instantiation"
   ]
  },
  {
   "cell_type": "markdown",
   "metadata": {},
   "source": [
    "$\n",
    "\\begin{aligned}\n",
    "& c && \\text{an element, arbitrary or particular} \\\\\n",
    "& \\forall x P(x) \\\\\n",
    "\\hline\n",
    "\\therefore \\,\\, & P(c) \\\\\n",
    "\\end{aligned}\n",
    "$"
   ]
  },
  {
   "cell_type": "markdown",
   "metadata": {},
   "source": [
    "#### Universal Generalization"
   ]
  },
  {
   "cell_type": "markdown",
   "metadata": {},
   "source": [
    "$\n",
    "\\begin{aligned}\n",
    "& c && \\text{an arbitrary element} \\\\\n",
    "& P(c) \\\\\n",
    "\\hline\n",
    "\\therefore \\,\\, & \\forall x P(x) \\\\\n",
    "\\end{aligned}\n",
    "$"
   ]
  },
  {
   "cell_type": "markdown",
   "metadata": {},
   "source": [
    "#### Existential Instantiation"
   ]
  },
  {
   "cell_type": "markdown",
   "metadata": {},
   "source": [
    "Each use of existential instantiation must define a new element with its own name.\n",
    "\n",
    "$\n",
    "\\begin{aligned}\n",
    "& \\exists x P(x) \\\\\n",
    "\\hline\n",
    "\\therefore \\,\\, & (c \\,\\, \\text{a particular element}) \\land P(c) \\\\\n",
    "\\end{aligned}\n",
    "$"
   ]
  },
  {
   "cell_type": "markdown",
   "metadata": {},
   "source": [
    "#### Existential Generalization"
   ]
  },
  {
   "cell_type": "markdown",
   "metadata": {},
   "source": [
    "$\n",
    "\\begin{aligned}\n",
    "& c && \\text{an element, arbitrary or particular} \\\\\n",
    "& P(c) \\\\\n",
    "\\hline\n",
    "\\therefore \\,\\, & \\exists x P(x)\n",
    "\\end{aligned}\n",
    "$"
   ]
  },
  {
   "cell_type": "markdown",
   "metadata": {},
   "source": [
    "#### Logical Proofs with Quantified Propositions"
   ]
  },
  {
   "cell_type": "markdown",
   "metadata": {},
   "source": [
    "##### Example"
   ]
  },
  {
   "cell_type": "markdown",
   "metadata": {},
   "source": [
    "Determine the validity of the following argument.\n",
    "\n",
    "$\n",
    "\\begin{aligned}\n",
    "& \\forall x (P(x) \\lor Q(x)) \\\\\n",
    "& 3 \\,\\, \\text{is an integer} \\\\\n",
    "& \\lnot P(3) \\\\\n",
    "\\hline\n",
    "\\therefore \\,\\, & Q(3) \\\\\n",
    "\\end{aligned}\n",
    "$\n",
    "\n",
    "Logical proof\n",
    "\n",
    "$\n",
    "\\begin{aligned}\n",
    "1 && \\forall x (P(x) \\lor Q(x))  && \\text{hypothesis} \\\\\n",
    "2 && 3 \\,\\, \\text{is an integer} && \\text{hypothesis} \\\\\n",
    "3 && P(3) \\lor Q(3)              && \\text{universal instantiation, 1, 2} \\\\\n",
    "4 && \\lnot P(3)                  && \\text{hypothesis} \\\\\n",
    "5 && Q(3)                        && \\text{disjunctive syllogism, 3, 4} \\\\\n",
    "\\end{aligned}\n",
    "$\n",
    "\n",
    "The argument is valid.\n",
    "\n",
    "$\\blacksquare$"
   ]
  },
  {
   "cell_type": "markdown",
   "metadata": {},
   "source": [
    "##### Example"
   ]
  },
  {
   "cell_type": "markdown",
   "metadata": {},
   "source": [
    "Determine the validity of the following argument.\n",
    "\n",
    "$\n",
    "\\begin{aligned}\n",
    "& \\exists x P(x) && \\text{some x is P} \\\\\n",
    "& \\forall x Q(x) && \\text{any  x is Q} \\\\\n",
    "\\hline\n",
    "\\therefore \\,\\, & \\exists x (P(x) \\land Q(x)) && \\text{some x is both P and Q} \\\\\n",
    "\\end{aligned}\n",
    "$\n",
    "\n",
    "Logical proof\n",
    "\n",
    "$\n",
    "\\begin{aligned}\n",
    "1 && \\exists x P(x)                                     && \\text{hypothesis} \\\\\n",
    "2 && (c \\,\\, \\text{is a particular element}) \\land P(c) && \\text{existential instantiation, 1} \\\\\n",
    "3 && P(c) \\land (c \\,\\, \\text{is a particular element}) && \\text{commutativity, 2} \\\\\n",
    "4 && \\forall x Q(x)                                     && \\text{hypothesis} \\\\\n",
    "5 && c \\,\\, \\text{is a particular element}              && \\text{simplification, 2} \\\\\n",
    "6 && Q(c)                                               && \\text{universal instantiation, 4, 5} \\\\\n",
    "7 && P(c)                                               && \\text{simplification, 3} \\\\\n",
    "8 && P(c) \\land Q(c)                                    && \\text{conjunction, 6, 7} \\\\\n",
    "9 && \\exists x (P(x) \\land Q(x))                        && \\text{existential generalization, 5, 8} \\\\\n",
    "\\end{aligned}\n",
    "$\n",
    "\n",
    "The argument is valid.\n",
    "\n",
    "$\\blacksquare$"
   ]
  },
  {
   "cell_type": "markdown",
   "metadata": {},
   "source": [
    "##### Example"
   ]
  },
  {
   "cell_type": "markdown",
   "metadata": {},
   "source": [
    "Determine the validity of the following argument.\n",
    "\n",
    "$\n",
    "\\begin{aligned}\n",
    "& \\exists x P(x) && \\text{some x is P} \\\\\n",
    "& \\exists x Q(x) && \\text{some x is Q} \\\\\n",
    "\\hline\n",
    "\\therefore \\,\\, & \\exists x (P(x) \\land Q(x)) && \\text{some x is both P and Q} \\\\\n",
    "\\end{aligned}\n",
    "$\n",
    "\n",
    "Logical proof\n",
    "\n",
    "$\n",
    "\\begin{aligned}\n",
    "1 && \\exists x P(x)                                     && \\text{hypothesis} \\\\\n",
    "2 && (c \\,\\, \\text{is a particular element}) \\land P(c) && \\text{existential instantiation, 1} \\\\\n",
    "3 && P(c)                                               && \\text{simplification, 2} \\\\\n",
    "4 && \\exists x Q(x)                                     && \\text{hypothesis} \\\\\n",
    "5 && (d \\,\\, \\text{is a particular element}) \\land Q(d) && \\text{existential instantiation, 4} \\\\\n",
    "6 && Q(d)                                               && \\text{simplification, 5} \\\\\n",
    "7 && P(c) \\land Q(d)                                    && \\text{conjunction, 3, 6} \\\\\n",
    "\\vdots && \\vdots && \\vdots \\\\\n",
    "9 && \\exists x (P(x) \\land Q(x))                        && \\text{existential generalization} \\\\\n",
    "\\end{aligned}\n",
    "$\n",
    "\n",
    "The argument is invalid.\n",
    "\n",
    "$\\blacksquare$\n",
    "\n",
    "An argument with quantified propositions can be shown to be invalid by defining a domain and predicates for which the hypotheses are true but the conclusion is false.\n",
    "\n",
    "Let the domain be $\\{c, d\\}$.\n",
    "\n",
    "$\n",
    "\\begin{array}{c|cc}\n",
    "x & P(x) & Q(x) \\\\\n",
    "\\hline\n",
    "c & \\text{T} & \\text{F} \\\\\n",
    "d & \\text{F} & \\text{T} \\\\\n",
    "\\end{array}\n",
    "$\n",
    "\n",
    "$\n",
    "\\begin{aligned}\n",
    "\\exists x P(x)\n",
    "& \\equiv P(c) \\lor P(d)\n",
    "\\equiv \\text{T} \\lor \\text{F}\n",
    "\\equiv \\text{T} \\\\\n",
    "\\exists x Q(x)\n",
    "& \\equiv Q(c) \\lor Q(d)\n",
    "\\equiv \\text{F} \\lor \\text{T}\n",
    "\\equiv \\text{T} \\\\\n",
    "\\exists x (P(x) \\land Q(x))\n",
    "& \\equiv (P(c) \\land Q(c)) \\lor (P(d) \\land Q(d))\n",
    "\\equiv (\\text{T} \\land \\text{F}) \\lor (\\text{F} \\land \\text{T})\n",
    "\\equiv \\text{F} \\lor \\text{F}\n",
    "\\equiv \\text{F} \\\\\n",
    "\\end{aligned}\n",
    "$"
   ]
  },
  {
   "cell_type": "markdown",
   "metadata": {},
   "source": [
    "---"
   ]
  },
  {
   "cell_type": "markdown",
   "metadata": {},
   "source": [
    "## Formal Languages\n",
    "\n",
    "```{contents}\n",
    ":local:\n",
    "```"
   ]
  },
  {
   "cell_type": "markdown",
   "metadata": {},
   "source": [
    "---"
   ]
  },
  {
   "cell_type": "markdown",
   "metadata": {},
   "source": [
    "### Symbols"
   ]
  },
  {
   "cell_type": "markdown",
   "metadata": {},
   "source": [
    "A symbol is a mark made that can be made on piece of paper.\n",
    "\n",
    "The symbols of a particular formal language should be related to a mathematical structure. Different interpretations of the symbols yield different conclusions regarding the truth of the formal statement.\n",
    "\n",
    "Symbols\n",
    "* Constants\n",
    "\t* Logical Symbols\n",
    "\t\t* Logical Connectives\n",
    "\t\t* Quantifiers\n",
    "\t* Non Logical Symbols\n",
    "\t\t* Predicate/Relation Symbols (represents a property or relation)\n",
    "\t\t\t* equality\n",
    "\t\t\t* greater-than(-or-equal-to)\n",
    "\t\t\t* less-than(-or-equal-to)\n",
    "\t\t* Function Symbols\n",
    "\t\t* Individual Constant Symbols\n",
    "* Variables"
   ]
  },
  {
   "cell_type": "markdown",
   "metadata": {},
   "source": [
    "### Definition - first-order formal language"
   ]
  },
  {
   "cell_type": "markdown",
   "metadata": {},
   "source": [
    "A first-order language $\\mathfrak{L}$ is an infinite collection of distinct symbols, no one of which is properly contained in another, separated into the following categories.\n",
    "1. Parentheses: $($ $)$\n",
    "2. Connectives: $\\lor$ $\\lnot$\n",
    "3. Quantifier: $\\forall$\n",
    "4. Variables, one for each positive integer $n$: $v_1$ $v_2$ $\\dots$ $v_n$ $\\dots$ (the set of variable symbols is denoted $Vars$)\n",
    "5. Equality symbol: $=$ (a particular binary relation symbol)\n",
    "6. Constant symbols: some set of zero or more symbols\n",
    "7. Function symbols: for each positive integer $n$, some set of zero or more $n$-ary function symbols\n",
    "8. Relation symbols: for each positive integer $n$, some set of zero or more $n$-ary relation symbols\n",
    "\n",
    "Note: Suppose a language contained both the constant symbol $\\hearts$ and the constant symbol $\\hearts\\hearts$, which properly contains the former constant symbol. If the constant symbol $\\hearts\\hearts$ showed up while a sequence of symbols was being read, it would be impossible to decide if it was one symbol or a sequence of two symbols. By not allowing symbols to be contained in other symbols, this type of confusion is avoided."
   ]
  },
  {
   "cell_type": "markdown",
   "metadata": {},
   "source": [
    "### Functionally complete sets of logical connectives"
   ]
  },
  {
   "cell_type": "markdown",
   "metadata": {},
   "source": [
    "<div class=\"full-width\">\n",
    "\n",
    "$\\{ \\lnot, \\lor \\}$\n",
    "\n",
    "$\n",
    "\\begin{array}{cc|cc|cccc|cccc|cc|cc}\n",
    "p & q & \\lnot p & \\lnot q & p \\lor q & \\lnot p \\lor q & p \\lor \\lnot q & \\lnot p \\lor \\lnot q\n",
    "& \\lnot(p \\lor q) & \\lnot(\\lnot p \\lor q) & \\lnot(p \\lor \\lnot q) & \\lnot(\\lnot p \\lor \\lnot q)\n",
    "& p \\lor \\lnot p & \\lnot(p \\lor \\lnot p) \n",
    "& \\lnot(p \\lor q) \\lor \\lnot(\\lnot p \\lor \\lnot q) & \\lnot(\\lnot p \\lor q) \\lor \\lnot(p \\lor \\lnot q) \\\\\n",
    "\\hline\n",
    "1 & 1 & 0 & 0 & 1 & 1 & 1 & 0 & 0 & 0 & 0 & 1 & 1 & 0 & 1 & 0 \\\\\n",
    "1 & 0 & 0 & 1 & 1 & 0 & 1 & 1 & 0 & 1 & 0 & 0 & 1 & 0 & 0 & 1 \\\\\n",
    "0 & 1 & 1 & 0 & 1 & 1 & 0 & 1 & 0 & 0 & 1 & 0 & 1 & 0 & 0 & 1 \\\\\n",
    "0 & 0 & 1 & 1 & 0 & 1 & 1 & 1 & 1 & 0 & 0 & 0 & 1 & 0 & 1 & 0 \\\\\n",
    "\\hline\n",
    "& & & & & p \\rightarrow q & p \\leftarrow q & p \\uparrow q & p \\downarrow q & p \\not\\rightarrow q & p \\not\\leftarrow q & p \\land q & p \\top q & p \\bot q & p \\leftrightarrow q & p \\oplus q \\\\\n",
    "\\end{array}\n",
    "$\n",
    "\n",
    "</div>"
   ]
  },
  {
   "cell_type": "markdown",
   "metadata": {},
   "source": [
    "### Definition - arity"
   ]
  },
  {
   "cell_type": "markdown",
   "metadata": {},
   "source": [
    "To say that a function symbol is $n$-ary or has arity $n$ means that it is intended to represent a function of $n$ variables.\n",
    "\n",
    "Similarly, an $n$-ary relation symbol is intended to represent a relation on $n$-tuples of objects."
   ]
  },
  {
   "cell_type": "markdown",
   "metadata": {},
   "source": [
    "### Formal language specification"
   ]
  },
  {
   "cell_type": "markdown",
   "metadata": {},
   "source": [
    "To specify a language, determine (and list) the constant symbols $c_i$'s, function symbols $f_i^{a(f_i)}$'s, and relation symbols $R_i^{a(R_i)}$'s (there can be uncountably many of each).\n",
    "\n",
    "$\n",
    "\\mathfrak{L} \\,\\,\\text{is}\\,\\, \\{ c_1, c_2, \\dots, f_1^{a(f_1)}, f_2^{a(f_2)}, \\dots, R_1^{a(R_1)}, R_2^{a(R_2)}, \\dots \\}\n",
    "$\n",
    "\n",
    "The superscripts on the function symbols and the relation symbols indicate the arity of the associated symbols, so $a$ is a mapping that assigns a natural number to a string that begins with an $f$ or an $R$, followed by a subscripted ordinal.\n",
    "\n",
    "For example, the function symbol $f_{17}^{233}$ says that the function associated with the 17th function symbol is a function of 233 variables."
   ]
  },
  {
   "cell_type": "markdown",
   "metadata": {},
   "source": [
    "#### Examples - formal languages"
   ]
  },
  {
   "cell_type": "markdown",
   "metadata": {},
   "source": [
    "##### $\\mathfrak{L}_G$ - a formal language for groups"
   ]
  },
  {
   "cell_type": "markdown",
   "metadata": {},
   "source": [
    "A group consists of a set and a binary operation that has certain properties including the existence of an identity element for the operation.\n",
    "\n",
    "A language with one constant symbol $0$ for the identity element, one binary function symbol $+$, and no relation symbols.\n",
    "\n",
    "$\n",
    "\\mathfrak{L}_G \\,\\,\\text{is}\\,\\, \\{ 0, + \\}\n",
    "$\n",
    "\n",
    "A language with one constant symbol $1$ for the identity element, one binary function symbol $\\cdot$, and one unary function symbol $^{-1}$ which is designed to pick out the inverse of an element.\n",
    "\n",
    "$\n",
    "\\mathfrak{L}_G \\,\\,\\text{is}\\,\\, \\{ 1, ^{-1}, \\cdot \\}\n",
    "$"
   ]
  },
  {
   "cell_type": "markdown",
   "metadata": {},
   "source": [
    "##### $\\mathfrak{L}_{ST}$ - a formal language for set theory"
   ]
  },
  {
   "cell_type": "markdown",
   "metadata": {},
   "source": [
    "$\n",
    "\\mathfrak{L}_{ST} \\,\\,\\text{is}\\,\\, \\{ \\in \\}\n",
    "$\n",
    "\n",
    "The language of set theory consists of one binary relation symbol $\\in$ which represents the elementhood relation: the interpretation of the string $x \\in y$ is that the set $x$ is an element of the set $y$.\n",
    "\n",
    "It will be easier to define the relation symbol $\\subset$ and the constant symbol $\\varnothing$ in terms of more primitive symbols (not in terms of readability, but in terms of proving things about the language)."
   ]
  },
  {
   "cell_type": "markdown",
   "metadata": {},
   "source": [
    "### Definition by recursion - terms"
   ]
  },
  {
   "cell_type": "markdown",
   "metadata": {},
   "source": [
    "The point of having a language is to be able to make statements about certain kinds of mathematical systems. The statements of the language should have the ability to refer to objects in the mathematical structures under consideration. Therefore, some of the strings of the language need to refer to those objects. These strings are called the terms of $\\mathfrak{L}$.\n",
    "\n",
    "If $\\mathfrak{L}$ is a language, a term of $\\mathfrak{L}$ is a nonempty finite string $t$ of symbols from $\\mathfrak{L}$ such that either:\n",
    "1. $t$ is a variable, or\n",
    "2. $t$ is a constant symbol, or\n",
    "3. $t :\\equiv ft_1t_2\\dots t_n$ where $f$ is an $n$-ary function symbol of $\\mathfrak{L}$ and each of the $t_i$ is a term of $\\mathfrak{L}$ (read \"$t$ is $ft_1t_2\\dots t_n$\")\n",
    "\n",
    "The symbol $:\\equiv$ is not part of the language $\\mathfrak{L}$ but a metalinguistic symbol that means that the strings of $\\mathfrak{L}$-symbols on each side of the $:\\equiv$ are identical.\n",
    "\n",
    "The first and seconda clauses of the definition are the base cases.\n",
    "\n",
    "The third clause of the definition is the recursive case: $t$ is a term if it contains substrings that are terms. Since the substrings of $t$ are shorter (contain fewer symbols) than $t$, and as none of the symbols of $\\mathfrak{L}$ are made up of other symbols of $\\mathfrak{L}$, this causes no problems."
   ]
  },
  {
   "cell_type": "markdown",
   "metadata": {},
   "source": [
    "#### Example"
   ]
  },
  {
   "cell_type": "markdown",
   "metadata": {},
   "source": [
    "Let $\\mathfrak{L}$ be a language $\\{ \\bar{0}, \\bar{1}, \\bar{2}, \\dots, +, \\cdot \\}$ with one constant symbol for each natural number and two binary function symbols.\n",
    "\n",
    "Then the following are terms of $\\mathfrak{L}$.\n",
    "<br>$\\overline{714}$\n",
    "<br>$+\\bar{3}\\bar{2}$\n",
    "<br>$\\cdot + \\bar{3}\\bar{2}\\bar{4}$\n",
    "\n",
    "$\\bar{1}\\bar{2}\\bar{3}$ is not a term of $\\mathfrak{L}$ but rather a sequence of three terms in a row.\n",
    "\n",
    "Shorthand\n",
    "* The term $+\\bar{3}\\bar{2}$ can be written in the more familiar form $\\bar{3} + \\bar{2}$.\n",
    "* The term $f\\bar{1}\\bar{2}\\bar{3}$ can be written in the more familiar form $f(\\bar{1}, \\bar{2}, \\bar{3})$."
   ]
  },
  {
   "cell_type": "markdown",
   "metadata": {},
   "source": [
    "### Unique Readability"
   ]
  },
  {
   "cell_type": "markdown",
   "metadata": {},
   "source": [
    "The property that strings have a unique parsing.\n",
    "\n",
    "Unique readability holds for both terms and formulas."
   ]
  },
  {
   "cell_type": "markdown",
   "metadata": {},
   "source": [
    "### Definition by recursion - well-formed formula"
   ]
  },
  {
   "cell_type": "markdown",
   "metadata": {},
   "source": [
    "The terms of $\\mathfrak{L}$ play the role of the nouns of the language. To make meaningful mathematical statements about some mathematical structure, we want to be able to make assertions about the objects of the structure. These assertions are the formulas of $\\mathfrak{L}$.\n",
    "\n",
    "If $\\mathfrak{L}$ is a first-order language, a formula of $\\mathfrak{L}$ is a nonempty finite string $\\phi$ of symbols from $\\mathfrak{L}$ such that either:\n",
    "\n",
    "Base Case (atomic formulas)\n",
    "1. $\\phi :\\equiv = t_1 t_2$ where $t_1$ and $t_2$ are terms of $\\mathfrak{L}$, or\n",
    "2. $\\phi :\\equiv Rt_1t_2\\dots t_n$ where $R$ is an $n$-ary relation symbol of $\\mathfrak{L}$ and $t_1, t_2, \\dots, t_n$ are all terms of $\\mathfrak{L}$, or\n",
    "\n",
    "Recursive Case\n",
    "1. $\\phi :\\equiv (\\lnot\\alpha)$ where $\\alpha$ is a formula of $\\mathfrak{L}$, or\n",
    "2. $\\phi :\\equiv (\\alpha \\lor \\beta)$ where $\\alpha$ and $\\beta$ are formulas of $\\mathfrak{L}$ (notice the use of infix notation for convenience here), or\n",
    "3. $\\phi :\\equiv (\\forall v)(\\alpha)$ where $v$ is a variable and $\\alpha$ is a formula of $\\mathfrak{L}$\n",
    "\n",
    "A term is not a formula. If the terms are the nouns of the language, the formulas are the statements. Statements can be either true or false. Nouns cannot.\n",
    "\n",
    "Proof by mathematical induction can be used to prove that something is true about every formula since the collection of formulas is defined recursively: the base case is used to verify that the theorem is true about every atomic formula (about every string that is known to be a formula from the base case of the definition); under the assumption that the theorem is true about simple formulas $\\alpha, \\beta$, the inductive step of the proof proves that the theorem holds for a more complicated formula $\\phi$ that is generated by a recursive clause of the definition."
   ]
  },
  {
   "cell_type": "markdown",
   "metadata": {},
   "source": [
    "#### Quantifier scope"
   ]
  },
  {
   "cell_type": "markdown",
   "metadata": {},
   "source": [
    "If a formula $\\psi$ contains the subformula $(\\forall v)(\\alpha)$--meaning that the string of symbols that constitute the formula $(\\forall v)(\\alpha)$ is a substring of the string of symbols that make up $\\psi$--we say that the scope of the quantifier $\\forall$ is $\\alpha$. Any symbol in $\\alpha$ will be said to lie within the scope of the quantifier $\\forall$. A formula can have several different occurrences of the symbol $\\forall$, and each occurrence of the quantifier will have its own scope. Also, one quantifier can lie within the scope of another."
   ]
  },
  {
   "cell_type": "markdown",
   "metadata": {},
   "source": [
    "#### Atomic formula"
   ]
  },
  {
   "cell_type": "markdown",
   "metadata": {},
   "source": [
    "The atomic formulas of $\\mathfrak{L}$ are those formulas that satisfy clause (1) or (2) of the definition of a well-formed formula."
   ]
  },
  {
   "cell_type": "markdown",
   "metadata": {},
   "source": [
    "### Ground expression"
   ]
  },
  {
   "cell_type": "markdown",
   "metadata": {},
   "source": [
    "A ground term is a term that does not contain variables.\n",
    "\n",
    "A ground formula is a formula that does not contain variables.\n",
    "\n",
    "A ground expression is a ground term or a ground formula."
   ]
  },
  {
   "cell_type": "markdown",
   "metadata": {},
   "source": [
    "---"
   ]
  }
 ],
 "metadata": {
  "kernelspec": {
   "display_name": "ml",
   "language": "python",
   "name": "python3"
  },
  "language_info": {
   "codemirror_mode": {
    "name": "ipython",
    "version": 3
   },
   "file_extension": ".py",
   "mimetype": "text/x-python",
   "name": "python",
   "nbconvert_exporter": "python",
   "pygments_lexer": "ipython3",
   "version": "3.11.4"
  },
  "orig_nbformat": 4
 },
 "nbformat": 4,
 "nbformat_minor": 2
}
