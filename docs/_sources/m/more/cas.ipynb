{
 "cells": [
  {
   "cell_type": "markdown",
   "metadata": {},
   "source": [
    "# Computer Algebra Systems"
   ]
  },
  {
   "cell_type": "markdown",
   "metadata": {},
   "source": [
    "---"
   ]
  },
  {
   "cell_type": "markdown",
   "metadata": {},
   "source": [
    "* [ [w](https://en.wikipedia.org/wiki/Computer_algebra_system) ] Computer Algebra System (CAS)\n",
    "* [ [w](https://en.wikipedia.org/wiki/PARI/GP) ] PARI/GP\n",
    "* [ [w](https://en.wikipedia.org/wiki/Magma_(computer_algebra_system)) ] Magma\n",
    "* [ [w](https://en.wikipedia.org/wiki/Maple_(software)) ] Maple\n",
    "* [ [w](https://en.wikipedia.org/wiki/Wolfram_Mathematica) ] Mathematica\n",
    "* [ [w](https://en.wikipedia.org/wiki/Maxima_(software)) ] Maxima"
   ]
  },
  {
   "cell_type": "markdown",
   "metadata": {},
   "source": [
    "---"
   ]
  }
 ],
 "metadata": {
  "language_info": {
   "name": "python"
  }
 },
 "nbformat": 4,
 "nbformat_minor": 2
}
