{
 "cells": [
  {
   "cell_type": "markdown",
   "metadata": {},
   "source": [
    "# Summations"
   ]
  },
  {
   "cell_type": "markdown",
   "metadata": {},
   "source": [
    "---\n",
    "---\n",
    "---"
   ]
  },
  {
   "cell_type": "markdown",
   "metadata": {},
   "source": [
    "## Contents\n",
    "```{contents}\n",
    "```"
   ]
  },
  {
   "cell_type": "markdown",
   "metadata": {},
   "source": [
    "---\n",
    "---\n",
    "---"
   ]
  },
  {
   "cell_type": "markdown",
   "metadata": {},
   "source": [
    "## Summation"
   ]
  },
  {
   "cell_type": "markdown",
   "metadata": {},
   "source": [
    "One way to think about a summation is that it is just the discrete form of an integral.\n",
    "\n",
    "<span style=\"color: #0096FF;\"><b>SUMMATION</b></span>\n",
    "\n",
    "<div style=\"color: #0096FF;\">\n",
    "\n",
    "Given a sequence $x_a, x_{a+1}, \\dotsc, x_b$ its sum $x_a + x_{a+1} + \\dotsb + x_b$ is written as\n",
    "\n",
    "$\n",
    "\\begin{aligned}\n",
    "\\sum_{i=a}^b x_i\n",
    "\\end  {aligned}\n",
    "$\n",
    "\n",
    "where the variable $i$ is called the index of summation; $a$ is the lower bound (or lower limit); and $b$ is the upper bound (or upper limit).\n",
    "\n",
    "If $b \\lt a$ then the sum is $0$.\n",
    "</div>\n",
    "\n",
    "Another way to think about a summation is as a $\\it{for}$ loop: loop through all values of $i$ from $a$ to $b$ inclusive, summing the body of the summation for each iteration $i$."
   ]
  },
  {
   "cell_type": "markdown",
   "metadata": {},
   "source": [
    "---\n",
    "---\n",
    "---"
   ]
  },
  {
   "cell_type": "markdown",
   "metadata": {},
   "source": [
    "## Double Summation"
   ]
  },
  {
   "cell_type": "markdown",
   "metadata": {},
   "source": [
    "---"
   ]
  },
  {
   "cell_type": "markdown",
   "metadata": {},
   "source": [
    "### Constant"
   ]
  },
  {
   "cell_type": "markdown",
   "metadata": {},
   "source": [
    "<div class=\"full-width\">\n",
    "\n",
    "$\n",
    "\\begin{aligned}\n",
    "\\sum_{i=m}^{n} \\sum_{j=s}^{t} C\n",
    "= C \\sum_{i=m}^{n} \\sum_{j=s}^{t} 1\n",
    "= C \\times (n - m + 1) \\times (t - s + 1)\n",
    "\\end  {aligned}\n",
    "$\n",
    "\n",
    "where $C$ is a constant (any expression that doesn't involve index variables) and $m \\le n$ and $s \\le t$.\n",
    "</div>"
   ]
  },
  {
   "cell_type": "markdown",
   "metadata": {},
   "source": [
    "---"
   ]
  },
  {
   "cell_type": "markdown",
   "metadata": {},
   "source": [
    "### Sum"
   ]
  },
  {
   "cell_type": "markdown",
   "metadata": {},
   "source": [
    "<div class=\"full-width\">\n",
    "\n",
    "$\n",
    "\\begin{aligned}\n",
    "\\sum_{i=1}^{m} \\sum_{j=1}^{n} a_i + b_j\n",
    "&= \\sum_{i=1}^{m} (a_i + b_1 + a_i + b_2 + \\dotsb + a_i + b_n) \\\\\n",
    "&= \\sum_{i=1}^{m} (na_i + b_1 + b_2 + \\dotsb + b_n) \\\\\n",
    "&= (na_1 + b_1 + b_2 + \\dotsb + b_n) + (na_2 + b_1 + b_2 + \\dotsb + b_n) + \\dotsb + (na_m + b_1 + b_2 + \\dotsb + b_n) \\\\\n",
    "&= n(a_1 + a_2 + \\dotsb + a_m) + m(b_1 + b_2 + \\dotsb + b_n) \\\\\n",
    "&= n \\sum_{i=1}^{m} a_i + m \\sum_{j=1}^{n} b_j \\\\\n",
    "\\end  {aligned}\n",
    "$\n",
    "</div>"
   ]
  },
  {
   "cell_type": "markdown",
   "metadata": {},
   "source": [
    "<div class=\"full-width\">\n",
    "\n",
    "<span style=\"color: #50C878;\"><b>Example</b></span>\n",
    "\n",
    "$\n",
    "\\begin{aligned}\n",
    "a &= \\{ \\underset{a_1}{1}, \\underset{a_2}{2}, \\underset{a_3}{3}, \\underset{a_4}{4} \\} \\\\\n",
    "b &= \\{ \\underset{b_1}{1}, \\underset{b_2}{2}, \\underset{b_3}{3} \\} \\\\\n",
    "\\end  {aligned}\n",
    "$\n",
    "\n",
    "$\n",
    "\\begin{aligned}\n",
    "\\sum_{i=1}^{4} \\sum_{j=1}^{3} a_i + b_j\n",
    "&= \\sum_{i=1}^{4} (a_i + 1 + a_i + 2 + a_i + 3) \\\\\n",
    "&= \\sum_{i=1}^{m} (3a_i + 1 + 2 + 3) \\\\\n",
    "&= (3.1 + 1 + 2 + 3) + (3.2 + 1 + 2 + 3) + (3.3 + 1 + 2 + 3) + (3.4 + 1 + 2 + 3) \\\\\n",
    "&= 3(1 + 2 + 3 + 4) + 4(1 + 2 + 3) \\\\\n",
    "&= 54 \\\\\n",
    "\\end  {aligned}\n",
    "$\n",
    "</div>"
   ]
  },
  {
   "cell_type": "markdown",
   "metadata": {},
   "source": [
    "<div class=\"full-width\">\n",
    "\n",
    "<span style=\"color: #50C878;\"><b>Example</b></span>\n",
    "\n",
    "$\n",
    "\\begin{aligned}\n",
    "\\sum_{i=0}^{n} \\sum_{j=0}^{i} (i + 1)(j + 1)\n",
    "&= \\sum_{i=0}^{n} \\left( \\sum_{j=0}^{i} (i + 1)(j + 1) \\right) \\\\\n",
    "&= \\sum_{j=0}^{0} (0 + 1)(j + 1) + \\sum_{j=0}^{1} (1 + 1)(j + 1) \\\\\n",
    "&= (0 + 1)(0 + 1) + (1 + 1)(0 + 1) + (1 + 1)(1 + 1) \\\\\n",
    "&= 1 + 2 + 4 = 7 \\\\\n",
    "\\end  {aligned}\n",
    "$\n",
    "</div>"
   ]
  },
  {
   "cell_type": "markdown",
   "metadata": {},
   "source": [
    "---"
   ]
  },
  {
   "cell_type": "markdown",
   "metadata": {},
   "source": [
    "### Product"
   ]
  },
  {
   "cell_type": "markdown",
   "metadata": {},
   "source": [
    "$\n",
    "\\begin{aligned}\n",
    "\\sum_{i=m}^{n} a_i \\sum_{j=s}^{t} b_j\n",
    "= \\sum_{i=m}^{n} \\sum_{j=s}^{t} a_i b_j\n",
    "\\end  {aligned}\n",
    "$\n",
    "\n",
    "<div style=\"color: red;\">\n",
    "\n",
    "Must the following conditions hold here?\n",
    "\n",
    "$\n",
    "\\begin{aligned}\n",
    "0 &\\le \\phantom{s}m \\le n \\\\\n",
    "0 &\\le \\phantom{m}s \\le t \\\\\n",
    "\\end  {aligned}\n",
    "$\n",
    "</div>"
   ]
  },
  {
   "cell_type": "markdown",
   "metadata": {},
   "source": [
    "---"
   ]
  },
  {
   "cell_type": "markdown",
   "metadata": {},
   "source": [
    "<span style=\"color: #0096FF;\"><b>Claim</b></span>\n",
    "\n",
    "<div style=\"color: #0096FF;\">\n",
    "\n",
    "$\n",
    "\\begin{aligned}\n",
    "f &= \\sum_{i=0}^m a_i \\\\\n",
    "g &= \\sum_{j=0}^n b_j \\\\\n",
    "fg &= \\boxed{ \\sum_{i=0}^{m} \\sum_{j=0}^{n} a_i b_j = \\sum_{j=0}^{n} \\sum_{i=0}^{m} a_i b_j }\n",
    "\\end  {aligned}\n",
    "$\n",
    "</div>"
   ]
  },
  {
   "cell_type": "markdown",
   "metadata": {},
   "source": [
    "<div class=\"full-width\">\n",
    "\n",
    "$\n",
    "\\begin{aligned}\n",
    "\\sum_{i=0}^{m} \\sum_{j=0}^{n} a_i b_j\n",
    "&= \\sum_{i=0}^{m} \\left( \\sum_{j=0}^{n} a_i b_j \\right) \\\\\n",
    "&= \\sum_{i=0}^{m} (a_i b_0 + a_i b_1 + \\dotsb + a_i b_n) \\\\\n",
    "&= (\\textcolor{red}{a_0 b_0 + a_0 b_1 + \\dotsb + a_0 b_n}) + (\\textcolor{orange}{a_1 b_0 + a_1 b_1 + \\dotsb + a_1 b_n}) + \\dotsb + (\\textcolor{yellow}{a_m b_0 + a_m b_1 + \\dotsb + a_m b_n}) \\\\\n",
    "&= (\\textcolor{red}{a_0 b_0} + \\textcolor{orange}{a_1 b_0} + \\dotsb + \\textcolor{yellow}{a_m b_0}) + (\\textcolor{red}{a_0 b_1} + \\textcolor{orange}{a_1 b_1} + \\dotsb + \\textcolor{yellow}{a_m b_1}) + \\dotsb + (\\textcolor{red}{a_0 b_n} + \\textcolor{orange}{a_1 b_n} + \\dotsb + \\textcolor{yellow}{a_m b_n}) \\\\\n",
    "&= \\sum_{j=0}^{n} (a_0 b_i + a_1 b_i + \\dotsb + a_m b_i) \\\\\n",
    "&= \\sum_{j=0}^{n} \\left( \\sum_{i=0}^{m} a_i b_j \\right) \\\\\n",
    "\\end  {aligned}\n",
    "$\n",
    "</div>"
   ]
  },
  {
   "cell_type": "markdown",
   "metadata": {},
   "source": [
    "---"
   ]
  },
  {
   "cell_type": "markdown",
   "metadata": {},
   "source": [
    "<span style=\"color: #0096FF;\"><b>Claim</b></span>\n",
    "\n",
    "<div style=\"color: #0096FF;\">\n",
    "\n",
    "$\n",
    "\\begin{aligned}\n",
    "f &= \\sum_{i=0}^m a_i \\\\\n",
    "g &= \\sum_{j=0}^n b_j \\\\\n",
    "fg &= \\boxed{ \\sum_{i=0}^m a_i \\sum_{j=0}^n b_i = \\sum_{i=0}^{m} \\sum_{j=0}^{n} a_i b_j }\n",
    "\\end  {aligned}\n",
    "$\n",
    "</div>"
   ]
  },
  {
   "cell_type": "markdown",
   "metadata": {},
   "source": [
    "<div class=\"full-width\">\n",
    "\n",
    "$\n",
    "\\begin{aligned}\n",
    "\\sum_{i=0}^{m} \\sum_{j=0}^{n} a_i b_j\n",
    "&= \\sum_{i=0}^{m} \\left( \\sum_{j=0}^{n} a_i b_j \\right) \\\\\n",
    "&= \\sum_{i=0}^{m} (a_i b_0 + a_i b_1 + \\dotsb + a_i b_n) \\\\\n",
    "&= (a_0 b_0 + a_0 b_1 + \\dotsb + a_0 b_n) + (a_1 b_0 + a_1 b_1 + \\dotsb + a_1 b_n) + \\dotsb + (a_m b_0 + a_m b_1 + \\dotsb + a_m b_n) \\\\\n",
    "&= a_0 (b_0 + b_1 + \\dotsb + b_n) + a_1 (b_0 + b_1 + \\dotsb + b_n) + \\dotsb + a_m (b_0 + b_1 + \\dotsb + b_n)\n",
    "&&= a_0 \\sum_{j=0}^{n} b_j + a_1 \\sum_{j=0}^{n} b_j + \\dotsb + a_m \\sum_{j=0}^{n} b_j \\\\\n",
    "&= (a_0 + a_1 + \\dotsb + a_m) (b_0 + b_1 + \\dotsb + b_n)\n",
    "&&= (a_0 + a_1 + \\dotsb + a_m) \\sum_{j=0}^{n} b_j \\\\\n",
    "&= \\sum_{i=0}^{m} a_i \\sum_{j=0}^{n} b_j\n",
    "\\end  {aligned}\n",
    "$\n",
    "</div>"
   ]
  },
  {
   "cell_type": "markdown",
   "metadata": {},
   "source": [
    "---"
   ]
  },
  {
   "cell_type": "markdown",
   "metadata": {},
   "source": [
    "$\n",
    "\\begin{aligned}\n",
    "\\left( \\sum_{i=1}^{n} a_i \\right)^2\n",
    "= \\sum_{i=1}^{n} a_i^2 + \\underset{i \\ne j}{\\sum_{i=1}^{n} \\sum_{j=1}^{n}} a_i a_j\n",
    "\\end  {aligned}\n",
    "$"
   ]
  },
  {
   "cell_type": "markdown",
   "metadata": {},
   "source": [
    "---"
   ]
  },
  {
   "cell_type": "markdown",
   "metadata": {},
   "source": [
    "### Discrete Convolution"
   ]
  },
  {
   "cell_type": "markdown",
   "metadata": {},
   "source": [
    "<div class=\"full-width\">\n",
    "\n",
    "$\n",
    "\\begin{aligned}\n",
    "\\sum_{i=0}^{m} a_i \\sum_{j=0}^{n} b_j\n",
    "= \\underset{0 \\le j \\le n}{\\underset{0 \\le i \\le m}{\\sum}} a_i b_j\n",
    "= \\underset{k=i+j}{\\underset{0 \\le k \\le m + n}{\\underset{0 \\le j \\le n}{\\underset{0 \\le i \\le m}{\\sum}}}} a_i b_{k-i}\n",
    "= \\sum_{i=0}^{m} \\sum_{j=0}^{n} \\left( \\sum_{k=i+j} a_i b_{k-i} \\right)\n",
    "\\end  {aligned}\n",
    "$\n",
    "\n",
    "where in the last expression $k$ only takes the single value $i + j$. Thus the third summation symbol does not get expanded; the third summation symbol to the end of the expression is a single term, and so we only have a double summation.\n",
    "\n",
    "$\n",
    "\\begin{aligned}\n",
    "0 &\\le i \\le m \\\\\n",
    "0 &\\le j \\le n \\\\\n",
    "0 &\\le k \\le m + n \\\\\n",
    "k &= i + j \\\\\n",
    "\\end  {aligned}\n",
    "\\iff\n",
    "\\begin{aligned}\n",
    "0 &\\le i \\le m \\\\\n",
    "0 &\\le k - i \\le n \\\\\n",
    "0 &\\le k \\le m + n \\\\\n",
    "j &= k - i \\\\\n",
    "\\end  {aligned}\n",
    "\\iff\n",
    "\\begin{aligned}\n",
    "& \\begin{rcases}\n",
    "0 &\\le i \\le m \\\\\n",
    "k - n &\\le i \\le k \\\\\n",
    "\\end  {rcases} && \\max\\{ 0, k-n \\} \\le i \\le \\min\\{ m, k \\} \\\\\n",
    "& 0 \\le k \\le m + n \\\\\n",
    "& j = k - i \\\\\n",
    "\\end  {aligned}\n",
    "$\n",
    "\n",
    "We start with a set of inequations (inequalities and equations) for the three index variables $i$, $j$, and $k$, and we manipulate them in such a way as to reduce the number of index variables to two. In this case, we are left with $i$ and $k$, but we could have easily chosen to keep $j$ instead of $i$.\n",
    "\n",
    "$\n",
    "\\begin{aligned}\n",
    "\\sum_{i=0}^{m} \\sum_{j=0}^{n} \\left( \\sum_{k=i+j} a_i b_{k-i} \\right)\n",
    "= \\sum_{k=0}^{m+n} \\sum_{i=\\max\\{ 0, k-n \\}}^{\\min\\{ m, k \\}} \\left( \\sum_{j=k-i} a_i b_{k-i} \\right)\n",
    "= \\left( \\sum_{k=0}^{m+n} \\sum_{i=\\max\\{ 0, k-n \\}}^{\\min\\{ m, k \\}} a_i b_{k-i} \\right) \\left( \\sum_{j=k-i} 1 \\right)\n",
    "= \\sum_{k=0}^{m+n} \\sum_{i=\\max\\{ 0, k-n \\}}^{\\min\\{ m, k \\}} a_i b_{k-i}\n",
    "\\end  {aligned}\n",
    "$\n",
    "\n",
    "One of $m$ or $n$ is less than or equal to the other, say $0 \\le m \\le n$. Then we have\n",
    "\n",
    "$\n",
    "\\begin{aligned}\n",
    "\\sum_{k=0}^{m+n} = \\sum_{k=0}^{m-1} + \\sum_{k=m}^n + \\sum_{k=n+1}^{m+n}\n",
    "\\end  {aligned}\n",
    "$\n",
    "\n",
    "and so\n",
    "\n",
    "$\n",
    "\\begin{aligned}\n",
    "\\sum_{k=0}^{m+n} \\sum_{i=\\max\\{ 0, k-n \\}}^{\\min\\{ m, k \\}} a_i b_{k-i}\n",
    "&= \\left( \\sum_{k=0}^{m-1} + \\sum_{k=m}^n + \\sum_{k=n+1}^{m+n} \\right) \\left( \\sum_{i=\\max\\{ 0, k-n \\}}^{\\min\\{ m, k \\}} a_i b_{k-i} \\right) \\\\\n",
    "&= \\left( \\sum_{k=0}^{m-1} \\sum_{i=\\max\\{ 0, k-n \\}}^{\\min\\{ m, k \\}} a_i b_{k-i} \\right) + \\left( \\sum_{k=m}^n \\sum_{i=\\max\\{ 0, k-n \\}}^{\\min\\{ m, k \\}} a_i b_{k-i} \\right) + \\left( \\sum_{k=n+1}^{m+n} \\sum_{i=\\max\\{ 0, k-n \\}}^{\\min\\{ m, k \\}} a_i b_{k-i} \\right) \\\\\n",
    "\\end  {aligned}\n",
    "$\n",
    "\n",
    "</div>"
   ]
  },
  {
   "cell_type": "markdown",
   "metadata": {},
   "source": []
  },
  {
   "cell_type": "markdown",
   "metadata": {},
   "source": [
    "---"
   ]
  },
  {
   "cell_type": "markdown",
   "metadata": {},
   "source": [
    "$\n",
    "\\begin{aligned}\n",
    "= \\sum_{k=0}^{n} \\sum_{i=0}^{\\min\\{ m, k \\}} + \\sum_{k=n+1}^{n+m}\n",
    "\\end  {aligned}\n",
    "$"
   ]
  },
  {
   "cell_type": "markdown",
   "metadata": {},
   "source": [
    "---"
   ]
  },
  {
   "cell_type": "markdown",
   "metadata": {},
   "source": [
    "<div class=\"full-wdith\">\n",
    "\n",
    "$\n",
    "\\begin{aligned}\n",
    "\\sum_{i=0}^{m} a_i \\sum_{j=0}^{n} b_j\n",
    "&= (a_0 + \\dotsb + a_m) \\sum_{j=0}^{n} b_j \\\\\n",
    "&= a_0 \\sum_{j=0}^n b_j + a_1 \\sum_{j=0}^n b_j+ \\dotsb + a_m \\sum_{j=0}^n b_j \\\\\n",
    "&= a_0 (b_0 + \\dotsb + b_n) + a_1 (b_0 + \\dotsb + b_n) + \\dotsb + a_m (b_0 + \\dotsb + b_n) \\\\\n",
    "&= \\underbrace{(a_0 b_0 + \\dotsb + a_0 b_n)}_{1} + \\underbrace{(a_1 b_0 + \\dots + a_1 b_n)}_{2} + \\dotsb + \\underbrace{(a_m b_0 + \\dotsb + a_m b_n)}_{m} \\\\\n",
    "&= \\textcolor{red}{a_0 b_0} + (\\textcolor{orange}{a_0 b_1 + a_1 b_0}) + (\\textcolor{yellow}{a_0 b_2 + a_1 b_1 + a_2 b_0}) + \\dotsb + (\\textcolor{#0070e0}{a_{m-2} b_n + a_{m-1} b_{n-1} + a_m b_{n-2}}) + (\\textcolor{#00a8e0}{a_{m-1} b_n + a_m b_{n-1}}) + \\textcolor{#00e0e0}{a_m b_n} \\\\\n",
    "&= \\sum_{i=0}^{0} a_i b_{0-i} + \\sum_{i=0}^{1} a_i b_{1-i} + \\sum_{i=0}^{2} a_i b_{2-i} + \\dotsb + \\sum_{i=0}^{n} a_i b_{n-i} \\\\\n",
    "&= \\sum_{k=0}^n \\left( \\sum_{i=0}^{k} a_i b_{k-i} \\right) \\\\\n",
    "\\end  {aligned}\n",
    "$\n",
    "</div>"
   ]
  },
  {
   "cell_type": "markdown",
   "metadata": {},
   "source": [
    "<div class=\"full-width\">\n",
    "\n",
    "$\n",
    "\\begin{array}{ccccccccc}\n",
    "a_0 b_{n+m} \\\\\n",
    "a_0 b_{n+m-1} & a_1 b_{n+m-1} \\\\\n",
    "a_0 b_{n+m-2} & a_1 b_{n+m-2} & a_2 b_{n+m-2} \\\\\n",
    "a_0 b_{n+m-3} & a_1 b_{n+m-3} & a_2 b_{n+m-3} & a_3 b_{n+m-3} \\\\\n",
    "\\vdots & \\vdots & \\vdots & \\vdots \\\\\n",
    "a_0 b_{n+3} & a_1 b_{n+3} & a_2 b_{n+3} & a_3 b_{n+3} & \\dots & a_{m-3} b_{n+3} \\\\\n",
    "a_0 b_{n+2} & a_1 b_{n+2} & a_2 b_{n+2} & a_3 b_{n+2} & \\dots & a_{m-3} b_{n+2} & a_{m-2} b_{n+2} \\\\\n",
    "a_0 b_{n+1} & a_1 b_{n+1} & a_2 b_{n+1} & a_3 b_{n+1} & \\dots & a_{m-3} b_{n+1} & a_{m-2} b_{n+1} & a_{m-1} b_{n+1} \\\\\n",
    "\\end  {array}\n",
    "$\n",
    "$\n",
    "\\begin{array}{cc}\n",
    "\\begin{array}{c|c|c|c|c|c|c|c|c|}\n",
    "                   \\hline\n",
    "1 & 2 & 3 & 4 & & m-3 & m-2 & m-1 & m \\\\ \\hline\n",
    "\\phantom{_{+m}}a_0 b_{n\\phantom{-1}} & \\phantom{_{+m}}a_1 b_{n\\phantom{-1}} & \\phantom{_{+m}}a_2 b_{n\\phantom{-1}} & \\phantom{_{+m}}a_3 b_{n\\phantom{-1}} & \\dots & \\textcolor{#0038e0}{a_{m-3} b_n} & \\textcolor{#0070e0}{a_{m-2} b_n} & \\textcolor{#00a8e0}{a_{m-1} b_n} & \\textcolor{#00e0e0}{a_m b_n} \\\\\n",
    "a_0 b_{n-1} & a_1 b_{n-1} & a_2 b_{n-1} & a_3 b_{n-1} & \\dots & a_{m-3} b_{n-1} & \\textcolor{#0038e0}{a_{m-2} b_{n-1}} & \\textcolor{#0070e0}{a_{m-1} b_{n-1}} & \\textcolor{#00a8e0}{a_m b_{n-1}} \\\\\n",
    "a_0 b_{n-2} & a_1 b_{n-2} & a_2 b_{n-2} & a_3 b_{n-2} & \\dots & a_{m-3} b_{n-2} & a_{m-2} b_{n-2} & \\textcolor{#0038e0}{a_{m-1} b_{n-2}} & \\textcolor{#0070e0}{a_m b_{n-2}} \\\\\n",
    "a_0 b_{n-3} & a_1 b_{n-3} & a_2 b_{n-3} & a_3 b_{n-3} & \\dots & a_{m-3} b_{n-3} & a_{m-2} b_{n-3} & a_{m-1} b_{n-3} & \\textcolor{#0038e0}{a_m b_{n-3}} \\\\\n",
    "\\vdots & \\vdots & \\vdots & \\vdots & \\ddots & \\vdots & \\vdots & \\vdots & \\vdots \\\\\n",
    "\\textcolor{green}{a_0 b_3} & a_1 b_3 & a_2 b_3 & a_3 b_3 & \\dots & a_{m-3} b_3 & a_{m-2} b_3 & a_{m-1} b_3 & a_m b_3 \\\\\n",
    "\\textcolor{yellow}{a_0 b_2} & \\textcolor{green}{a_1 b_2} & a_2 b_2 & a_3 b_2 & \\dots & a_{m-3} b_2 & a_{m-2} b_2 & a_{m-1} b_2 & a_m b_2 \\\\\n",
    "\\textcolor{orange}{a_0 b_1} & \\textcolor{yellow}{a_1 b_1} & \\textcolor{green}{a_2 b_1} & a_3 b_1 & \\dots & a_{m-3} b_1 & a_{m-2} b_1 & a_{m-1} b_1 & a_m b_1 \\\\\n",
    "\\textcolor{red}{a_0 b_0} & \\textcolor{orange}{a_1 b_0} & \\textcolor{yellow}{a_2 b_0} & \\textcolor{green}{a_3 b_0} & \\dots & a_{m-3} b_0 & a_{m-2} b_0 & a_{m-1} b_0 & a_m b_0 \\\\\n",
    "\\end  {array}\n",
    "\\begin{array}{ccccccccc}\n",
    "a_{m+1} b_n \\\\\n",
    "a_{m+1} b_{n-1} & a_{m+2} b_{n-1} \\\\\n",
    "a_{m+1} b_{n-2} & a_{m+2} b_{n-2} & a_{m+3} b_{n-2} \\\\\n",
    "a_{m+1} b_{n-3} & a_{m+2} b_{n-3} & a_{m+3} b_{n-3} & a_{m+4} b_{n-3} \\\\\n",
    "\\vdots & \\vdots & \\vdots & \\vdots \\\\\n",
    "a_{m+1} b_3 & a_{m+2} b_3 & a_{m+3} b_3 & a_{m+4} b_3 & \\dots & a_{m+n-3} b_3 \\\\\n",
    "a_{m+1} b_2 & a_{m+2} b_2 & a_{m+3} b_2 & a_{m+4} b_2 & \\dots & a_{m+n-3} b_2 & a_{m+n-2} b_2 \\\\\n",
    "a_{m+1} b_1 & a_{m+2} b_1 & a_{m+3} b_1 & a_{m+4} b_1 & \\dots & a_{m+n-3} b_1 & a_{m+n-2} b_1 & a_{m+n-1} b_1 \\\\\n",
    "a_{m+1} b_0 & a_{m+2} b_0 & a_{m+3} b_0 & a_{m+4} b_0 & \\dots & a_{m+n-3} b_0 & a_{m+n-2} b_0 & a_{m+n-1} b_0 & a_{m+n} b_0 \\\\\n",
    "\\end  {array} \\\\\n",
    "\\end  {array}\n",
    "$\n",
    "</div>"
   ]
  },
  {
   "cell_type": "markdown",
   "metadata": {},
   "source": [
    "<span style=\"color: #50C878;\"><b>Example</b></span>\n",
    "\n",
    "<span style=\"color: red;\">The following example is not yet fully worked out.</span>\n",
    "\n",
    "$\n",
    "\\begin{aligned}\n",
    "a &= \\{ \\underset{a_0}{0}, \\underset{a_1}{1}, \\underset{a_2}{2}, \\underset{a_3}{3}, \\underset{a_4}{4} \\} \\\\\n",
    "b &= \\{ \\underset{b_0}{0}, \\underset{b_1}{1}, \\underset{b_2}{2}, \\underset{b_3}{3} \\} \\\\\n",
    "\\end  {aligned}\n",
    "$\n",
    "\n",
    "$\n",
    "\\begin{aligned}\n",
    "\\sum_{i=0}^4 a_i &= 0 + 1 + 2 + 3 + 4 &&= 10 \\\\\n",
    "\\sum_{j=0}^3 b_j &= 0 + 1 + 2 + 3     &&=  6 \\\\\n",
    "\\end  {aligned}\n",
    "$"
   ]
  },
  {
   "cell_type": "markdown",
   "metadata": {},
   "source": [
    "$\n",
    "\\begin{aligned}\n",
    "\\sum_{i=0}^4 a_i \\sum_{j=0}^3 b_j\n",
    "&= \\sum_{i=0}^4 \\sum_{j=0}^3 a_i b_j\n",
    "= \\sum_{k=0}^7 \\sum_{i+j=k} a_i b_j \\\\\n",
    "&= \\sum_{i+j=0} a_i b_j + \\sum_{i+j=1} a_i b_j + \\sum_{i+j=2} a_i b_j + \\sum_{i+j=3} a_i b_j + \\sum_{i+j=4} a_i b_j + \\sum_{i+j=5} a_i b_j + \\sum_{i+j=6} a_i b_j + \\sum_{i+j=7} a_i b_j \\\\\n",
    "&= (a_0 b_0) + (a_0 b_1 + a_1 b_0) + (a_0 b_2 + a_1 b_1 + a_2 b_0) + (a_0 b_3 + a_1 b_2 + a_2 b_1 + a_3 b_0) + \\dotsb \\\\\n",
    "&= \\sum_{k=0}^7 \\sum_{j=0}^{k} a_{k-j} b_j \\\\\n",
    "&= \\underbrace{\\sum_{j=0}^{0} a_{0-j} b_j}_{1 \\text{ term}} + \\underbrace{\\sum_{j=0}^{1} a_{1-j} b_j}_{2 \\text{ terms}} + \\underbrace{\\sum_{j=0}^{2} a_{2-j} b_j}_{3 \\text{ terms}} + \\underbrace{\\sum_{j=0}^{3} a_{3-j} b_j}_{4 \\text{ terms}} + \\underbrace{\\sum_{j=0}^{4} a_{4-j} b_j}_{5 \\text{ terms}} + \\sum_{j=0}^{5} a_{5-j} b_j + \\sum_{j=0}^{6} a_{6-j} b_j + \\sum_{j=0}^{7} a_{7-j} b_j \\\\\n",
    "&= a_0 b_0 + (a_1 b_0 + a_0 b_1) \\\\\n",
    "\\end  {aligned}\n",
    "$"
   ]
  },
  {
   "cell_type": "markdown",
   "metadata": {},
   "source": [
    "$\n",
    "\\begin{array}{c|c|c|c|c}\n",
    "a_0 b_3 & a_1 b_3 & a_2 b_3 & a_3 b_3 & a_4 b_3 \\\\\n",
    "a_0 b_2 & a_1 b_2 & a_2 b_2 & a_3 b_2 & a_4 b_2 \\\\\n",
    "a_0 b_1 & a_1 b_1 & a_2 b_1 & a_3 b_1 & a_4 b_1 \\\\\n",
    "a_0 b_0 & a_1 b_0 & a_2 b_0 & a_3 b_0 & a_4 b_0 \\\\\n",
    "\\end  {array}\n",
    "$\n",
    "\n",
    "$\n",
    "\\begin{array}{c|c|c|c|c}\n",
    "0 \\times 3 & 1 \\times 3 & 2 \\times 3 & 3 \\times 3 & 4 \\times 3 \\\\\n",
    "0 \\times 2 & 1 \\times 2 & 2 \\times 2 & 3 \\times 2 & 4 \\times 2 \\\\\n",
    "\\textcolor{orange}{0 \\times 1} & 1 \\times 1 & 2 \\times 1 & 3 \\times 1 & 4 \\times 1 \\\\\n",
    "\\textcolor{red}{0 \\times 0} & \\textcolor{orange}{1 \\times 0} & 2 \\times 0 & 3 \\times 0 & 4 \\times 0 \\\\\n",
    "\\end  {array}\n",
    "$"
   ]
  },
  {
   "cell_type": "markdown",
   "metadata": {},
   "source": [
    "$\n",
    "\\begin{array}{c|cccccccc}\n",
    "k = 0 & 4 & 3 & 2 & 1 & 0             \\\\\n",
    "      &   &   &   &   & 0 & 1 & 2 & 3 \\\\ \\\\\n",
    "k = 1 & 4 & 3 & 2 & 1 & 0             \\\\\n",
    "      &   &   &   & 0 & 1 & 2 & 3     \\\\ \\\\\n",
    "k = 2 & 4 & 3 & 2 & 1 & 0             \\\\\n",
    "      &   &   & 0 & 1 & 2 & 3         \\\\ \\\\\n",
    "k = 3 & 4 & 3 & 2 & 1 & 0             \\\\\n",
    "      &   & 0 & 1 & 2 & 3             \\\\ \\\\\n",
    "k = 4 & 4 & 3 & 2 & 1 & 0             \\\\\n",
    "      & 0 & 1 & 2 & 3                 \\\\ \\\\\n",
    "k = 5 &   & 4 & 3 & 2 & 1 & 0         \\\\\n",
    "      & 0 & 1 & 2 & 3                 \\\\ \\\\\n",
    "k = 6 &   &   & 4 & 3 & 2 & 1 & 0     \\\\\n",
    "      & 0 & 1 & 2 & 3                 \\\\ \\\\\n",
    "k = 7 &   &   &   & 4 & 3 & 2 & 1 & 0 \\\\\n",
    "      & 0 & 1 & 2 & 3                 \\\\ \\\\\n",
    "\\end  {array}\n",
    "$"
   ]
  },
  {
   "cell_type": "markdown",
   "metadata": {},
   "source": [
    "---\n",
    "---\n",
    "---"
   ]
  },
  {
   "cell_type": "markdown",
   "metadata": {},
   "source": [
    "## Finite Sum"
   ]
  },
  {
   "cell_type": "markdown",
   "metadata": {},
   "source": [
    "Given a sequence $a_1, a_2, \\dotsc, a_n$ of numbers where $n$ is a nonnegative integer the finite sum $a_1 + a_2 + \\dotsb + a_n$ can be expressed as\n",
    "\n",
    "$\\begin{aligned} \\sum_{k = 1}^n a_k \\end{aligned}$\n",
    "\n",
    "If $n = 0$ then the summation is defined to be $0$. The value of a finite series is always well-defined and the order in which its terms are added does not matter."
   ]
  },
  {
   "cell_type": "markdown",
   "metadata": {},
   "source": [
    "## Infinite Sum"
   ]
  },
  {
   "cell_type": "markdown",
   "metadata": {},
   "source": [
    "Given an infinite sequence $a_1, a_2, \\dotsc$ of numbers the infinite sum $a_1 + a_2 + \\dotsb$ can be expressed as\n",
    "\n",
    "$\\begin{aligned} \\sum_{k = 1}^\\infty a_k = \\lim_{n \\to \\infty} \\sum_{k = 1}^n a_k \\end{aligned}$\n",
    "\n",
    "If the limit does not exist then the series diverges; otherwise, it converges. The terms of a convergent series cannot always be added in any order. However, the terms of an absolutely convergent series can be rearranged. (An absolutely convergent series $\\sum_{k = 1}^\\infty a_k$ is a series for which the series $\\sum_{k = 1}^\\infty |a_k|$ also converges.)"
   ]
  },
  {
   "cell_type": "markdown",
   "metadata": {},
   "source": [
    "## Linearity"
   ]
  },
  {
   "cell_type": "markdown",
   "metadata": {},
   "source": [
    "For any real number $c$ and any finite sequences $a_1, a_2, \\dotsc, a_n$ and $b_1, b_2, \\dotsc, b_n$\n",
    "\n",
    "$\\begin{aligned} \\sum_{k = 1}^n (c a_k + b_k) = c \\sum_{k = 1}^n a_k + \\sum_{k = 1}^n b_k \\end{aligned}$\n",
    "\n",
    "$\\begin{aligned} \\sum_{k = 1}^n \\Theta(f(k)) = \\Theta \\left( \\sum_{k = 1}^n f(k) \\right) \\end{aligned}$\n",
    "\n",
    "In this latter equation, the $\\Theta$-notation on the left-hand side applies to the variable $k$ but on the right-hand side it applies to the variable $n$.\n",
    "\n",
    "These linearity properties also holds for infinite convergent series."
   ]
  },
  {
   "cell_type": "markdown",
   "metadata": {},
   "source": [
    "## Arithmetic Series"
   ]
  },
  {
   "cell_type": "markdown",
   "metadata": {},
   "source": [
    "The summation\n",
    "\n",
    "$\\begin{aligned} \\sum_{k = 1}^n k = 1 + 2 + \\dotsb + n \\end{aligned}$\n",
    "\n",
    "is an arithmetic series and has the value\n",
    "\n",
    "$\\begin{aligned} \\sum_{k = 1}^n k = \\frac{n(n + 1)}{2} = \\Theta(n^2) \\end{aligned}$"
   ]
  },
  {
   "cell_type": "markdown",
   "metadata": {},
   "source": [
    "Gauss' Proof\n",
    "\n",
    "$\n",
    "\\begin{aligned}\n",
    " S &= 1 && + && 2 && + && \\dotsb && + && n - 1 && + && n \\\\\n",
    " S &= n && + && n - 1 && + && \\dotsb && + && 2 && + && 1 \\\\\n",
    "2S &= (n + 1) && + && (n + 1) && + && \\dotsb && + && (n + 1) && + && (n + 1) \\\\\n",
    "   &= n(n + 1) \\\\\n",
    " S &= \\frac{n(n + 1)}{2}\n",
    "\\end  {aligned}\n",
    "$\n",
    "\n",
    "$\\blacksquare$"
   ]
  },
  {
   "cell_type": "markdown",
   "metadata": {},
   "source": [
    "Proof by Mathematical Induction\n",
    "\n",
    "$n = 1 \\implies \\sum_{k = 1}^1 k = 1 = \\frac{1 \\times (1 + 1)}{2}$\n",
    "\n",
    "Assume that $\\sum_{k = 1}^n k = \\frac{n(n + 1)}{2}$ up to $n$ and show that it also holds for $n + 1$.\n",
    "\n",
    "$\n",
    "\\begin{aligned}\n",
    "\\sum_{k = 1}^{n + 1} k\n",
    "= \\left( \\sum_{k = 1}^n k \\right) + n + 1\n",
    "= \\frac{n(n + 1)}{2} + n + 1\n",
    "= \\frac{n(n + 1) + 2(n + 1)}{2}\n",
    "= \\frac{(n + 1)((n + 1) + 1)}{2}\n",
    "\\end  {aligned}\n",
    "$\n",
    "\n",
    "$\\blacksquare$"
   ]
  },
  {
   "cell_type": "markdown",
   "metadata": {},
   "source": [
    "A general arithmetic series includes an additive constant $a \\ge 0$ and a constant coefficient $b \\gt 0$ in each term, but has the same total asymptotically.\n",
    "\n",
    "$\\begin{aligned} \\sum_{k = 1}^n (a + bk) = \\Theta(n^2) \\end{aligned}$"
   ]
  },
  {
   "cell_type": "markdown",
   "metadata": {},
   "source": [
    "## Sum of Squares"
   ]
  },
  {
   "cell_type": "markdown",
   "metadata": {},
   "source": [
    "$\\begin{aligned} \\sum_{k = 0}^n k^2 = \\frac{n(n + 1)(2n + 1)}{6} \\end{aligned}$"
   ]
  },
  {
   "cell_type": "markdown",
   "metadata": {},
   "source": [
    "On the one hand, the telescoping series\n",
    "\n",
    "$\n",
    "\\begin{aligned}\n",
    "\\sum_{k = 1}^n (k + 1)^3 - k^3\n",
    "= (n + 1)^3 - 1\n",
    "= n^3 + 3n^2 + 3n\n",
    "\\end  {aligned}\n",
    "$\n",
    "\n",
    "On the other hand,\n",
    "\n",
    "$\n",
    "\\begin{aligned}\n",
    "\\sum_{k = 1}^n (k + 1)^3 - k^3\n",
    "&= \\sum_{k = 1}^n (k + 1)(k^2 + 2k + 1) - k^3\n",
    "= \\sum_{k = 1}^n 3k^2 + 3k + 1 \\\\\n",
    "&= 3 \\sum_{k = 1}^n k^2 + 3 \\sum_{k = 1}^n k + \\sum_{k = 1}^n 1 \\\\\n",
    "&= 3 \\sum_{k = 1}^n k^2 + 3 \\times \\frac{n(n + 1)}{2} + n \\\\\n",
    "&= 3S + \\frac{3}{2} n^2 + \\frac{3}{2} n + n \\\\\n",
    "&= 3S + \\frac{3}{2} n^2 + \\frac{5}{2} n \\\\\n",
    "\\end  {aligned}\n",
    "$\n",
    "\n",
    "And so\n",
    "\n",
    "$\n",
    "\\begin{aligned}\n",
    "3S + \\frac{3}{2} n^2 + \\frac{5}{2} n &= n^3 + 3n^2 + 3n \\\\\n",
    "3S &= n^3 + \\frac{3}{2} n^2 + \\frac{1}{2} n \\\\\n",
    "3S &= \\frac{2n^3 + 3n^2 + n}{2} \\\\\n",
    " S &= \\frac{n(n + 1)(2n + 1)}{6} \\\\\n",
    "\\end  {aligned}\n",
    "$"
   ]
  },
  {
   "cell_type": "markdown",
   "metadata": {},
   "source": [
    "## Sum of Cubes"
   ]
  },
  {
   "cell_type": "markdown",
   "metadata": {},
   "source": [
    "$\\begin{aligned} \\sum_{k = 0}^n k^3 = \\left( \\frac{n(n + 1)}{2} \\right)^2 = \\frac{n^2 (n + 1)^2}{4} \\end{aligned}$"
   ]
  },
  {
   "cell_type": "markdown",
   "metadata": {},
   "source": [
    "## Geometric Series"
   ]
  },
  {
   "cell_type": "markdown",
   "metadata": {},
   "source": [
    "For real $x \\ne 1$ the summation\n",
    "\n",
    "$\\begin{aligned} \\sum_{k = 0}^n x^k = 1 + x + x^2 + \\dotsb + x^n \\end{aligned}$\n",
    "\n",
    "is a geometric series and has the value\n",
    "\n",
    "$\\begin{aligned} \\sum_{k = 0}^n x^k = \\frac{x^{n + 1} - 1}{x - 1} \\end{aligned}$"
   ]
  },
  {
   "cell_type": "markdown",
   "metadata": {},
   "source": [
    "The infinite decreasing geometric series occurs when the summation is infinite and $|x| \\lt 1$\n",
    "\n",
    "$\\begin{aligned} \\sum_{k = 0}^\\infty x^k = \\frac{1}{1 - x} \\end{aligned}$\n",
    "\n",
    "If we assume that $0^0 = 1$ these formulas apply even when $x = 0$."
   ]
  },
  {
   "cell_type": "markdown",
   "metadata": {},
   "source": [
    "Integrating and differentiating formulas yield additional formulas. For example, differentiate the infinite decreasing geometric series and then multiply it by $x$.\n",
    "\n",
    "$\n",
    "\\begin{aligned}\n",
    "x \\cdot \\frac{d}{dx} \\left( \\sum_{k = 0}^\\infty x^k \\right) &= x \\cdot \\frac{d}{dx} \\left( \\frac{1}{1 - x} \\right) \\\\\n",
    "\\sum_{k = 0}^\\infty x \\cdot \\frac{d}{dx} (x^k) &= x \\cdot \\frac{d}{dx} \\left( \\frac{1}{1 - x} \\right)  \\\\\n",
    "\\sum_{k = 0}^\\infty kx^k &= \\frac{x}{(1 - x)^2} \\\\\n",
    "\\end  {aligned}\n",
    "$\n",
    "\n",
    "And so we also have\n",
    "\n",
    "$\\begin{aligned} \\sum_{k = 0}^\\infty kx^k = \\frac{x}{(1 - x)^2} \\end{aligned}$\n",
    "\n",
    "for $|x| \\lt 1$."
   ]
  },
  {
   "cell_type": "markdown",
   "metadata": {},
   "source": [
    "## Harmonic Series"
   ]
  },
  {
   "cell_type": "markdown",
   "metadata": {},
   "source": [
    "For positive integers $n$ the $n$-th harmonic number is\n",
    "\n",
    "$\\begin{aligned} H_n = 1 + \\frac{1}{2} + \\frac{1}{3} + \\dotsb + \\frac{1}{n} = \\sum_{k = 1}^n \\frac{1}{k} = \\ln n + O(1) \\end{aligned}$"
   ]
  },
  {
   "cell_type": "markdown",
   "metadata": {},
   "source": [
    "$\\ln (n + 1) \\le H_n \\le \\ln n + 1$"
   ]
  },
  {
   "cell_type": "markdown",
   "metadata": {},
   "source": [
    "## Telescoping Series"
   ]
  },
  {
   "cell_type": "markdown",
   "metadata": {},
   "source": [
    "For any sequence $a_0, a_1, \\dotsc, a_n$\n",
    "\n",
    "$\\begin{aligned} \\sum_{k = 1}^n (a_k - a_{k - 1}) = a_n - a_0 \\end{aligned}$\n",
    "\n",
    "since each of the terms $a_1, a_2, \\dotsc, a_{n - 1}$ is added in exactly once and substracted out exactly once. We say that the sum telescopes.\n",
    "\n",
    "Similarly\n",
    "\n",
    "$\\begin{aligned} \\sum_{k = 0}^{n - 1} (a_k - a_{k + 1}) = a_0 - a_n \\end{aligned}$"
   ]
  },
  {
   "cell_type": "markdown",
   "metadata": {},
   "source": [
    "EXAMPLE\n",
    "\n",
    "$\n",
    "\\begin{aligned}\n",
    "\\sum_{k = 1}^{n - 1} \\frac{1}{k(k + 1)} = \\sum_{k = 1}^{n - 1} \\left( \\frac{1}{k} - \\frac{1}{k + 1} \\right) = 1 - \\frac{1}{n}\n",
    "\\end  {aligned}\n",
    "$"
   ]
  },
  {
   "cell_type": "markdown",
   "metadata": {},
   "source": [
    "## Re-indexing summations"
   ]
  },
  {
   "cell_type": "markdown",
   "metadata": {},
   "source": [
    "A series can sometimes be simplified by changing its index, often reversing the order of summation. Generally, if the summation index appears in the body of the sum with a minus sign, it's worth thinking about re-indexing."
   ]
  },
  {
   "cell_type": "markdown",
   "metadata": {},
   "source": [
    "EXAMPLE\n",
    "\n",
    "$\n",
    "\\begin{aligned}\n",
    "\\sum_{k = 0}^n a_{n - k}\n",
    "= a_n + a_{n - 1} + \\dotsb + a_1 + a_0\n",
    "= a_0 + a_1 + \\dotsb + a_{n - 1} + a_n\n",
    "= \\sum_{j = 0}^n a_j\n",
    "&& \\text{where}\\,\\,\\, j = n - k\n",
    "\\end  {aligned}\n",
    "$"
   ]
  },
  {
   "cell_type": "markdown",
   "metadata": {},
   "source": [
    "EXAMPLE\n",
    "\n",
    "$\n",
    "\\begin{aligned}\n",
    "\\sum_{k = 1}^n \\frac{1}{n - k + 1}\n",
    "= \\frac{1}{n} + \\frac{1}{n - 1} + \\dotsb + \\frac{1}{2} + 1\n",
    "= 1 + \\frac{1}{2} + \\dotsb + \\frac{1}{n - 1} + \\frac{1}{n}\n",
    "= \\sum_{j = 1}^n \\frac{1}{j}\n",
    "&& \\text{where}\\,\\,\\, j = n - k + 1\n",
    "\\end  {aligned}\n",
    "$"
   ]
  },
  {
   "cell_type": "markdown",
   "metadata": {},
   "source": [
    "## Products"
   ]
  },
  {
   "cell_type": "markdown",
   "metadata": {},
   "source": [
    "The finite product $a_1 a_2 \\dotsm a_n$ can be expressed as\n",
    "\n",
    "$\\begin{aligned} \\prod_{k = 1}^n a_k \\end{aligned}$\n",
    "\n",
    "If $n = 0$ then the product is defined to be $1$."
   ]
  },
  {
   "cell_type": "markdown",
   "metadata": {},
   "source": [
    "## Converting between summations and products"
   ]
  },
  {
   "cell_type": "markdown",
   "metadata": {},
   "source": [
    "$\n",
    "\\begin{aligned}\n",
    "\\lg \\left( \\prod_{k = 1}^n a_k \\right) = \\sum_{k = 1}^n \\lg a_k\n",
    "\\end  {aligned}\n",
    "$"
   ]
  },
  {
   "cell_type": "markdown",
   "metadata": {},
   "source": [
    "---"
   ]
  },
  {
   "cell_type": "markdown",
   "metadata": {},
   "source": [
    "## Summations and asymptotic analysis"
   ]
  },
  {
   "cell_type": "markdown",
   "metadata": {},
   "source": [
    "Mathematical induction can be used to prove an upper or lower bound on a summation."
   ]
  },
  {
   "cell_type": "markdown",
   "metadata": {},
   "source": [
    "EXAMPLE\n",
    "\n",
    "Prove the asymptotic upper bound $\\sum_{k = 0}^n 3^k = O(3^n)$. In other words, prove $\\sum_{k = 0}^n 3^k \\le c3^n$ for some constant $c$ for all sufficiently large $n$.\n",
    "\n",
    "Proof by Mathematical Induction\n",
    "\n",
    "Basis: show that the bound holds for $n = 0$.\n",
    "\n",
    "$n = 0 \\implies \\sum_{k = 0}^0 3^k = 1 \\le c \\cdot 1$ as long as $c \\ge 1$.\n",
    "\n",
    "Assume that the bound holds for $n$ and show that it also holds for $n + 1$.\n",
    "\n",
    "$\n",
    "\\begin{aligned}\n",
    "\\sum_{k = 0}^{n + 1} 3^k\n",
    "= \\left( \\sum_{k = 0}^n 3^k \\right) + 3^{n + 1}\n",
    "\\le c3^n + 3^{n + 1}\n",
    "= \\left( \\frac{1}{3} + \\frac{1}{c} \\right) c3^{n + 1}\n",
    "\\le c3^{n + 1}\n",
    "\\end  {aligned}\n",
    "$\n",
    "\n",
    "as long as $\\frac{1}{3} + \\frac{1}{c} \\le 1 \\iff \\frac{1}{c} \\le \\frac{2}{3} \\iff c \\ge \\frac{3}{2}$\n",
    "\n",
    "$\\blacksquare$"
   ]
  },
  {
   "cell_type": "markdown",
   "metadata": {},
   "source": [
    "EXAMPLE\n",
    "\n",
    "Prove the asymptotic upper bound $\\sum_{k = 1}^n k = O(n^2)$. In other words, prove $\\sum_{k = 1}^n k \\le cn^2$ for some constant $c$ for all sufficiently large $n$.\n",
    "\n",
    "Basis: show that the bound holds for $n = 1$.\n",
    "\n",
    "$n = 1 \\implies \\sum_{k = 1}^1 k = 1 \\le c \\cdot 1^2$ as long as $c \\ge 1$.\n",
    "\n",
    "Inductive step: assume that the bound holds for $n$ and show that it also holds for $n + 1$.\n",
    "\n",
    "$\n",
    "\\begin{aligned}\n",
    "\\sum_{k = 1}^{n + 1} k\n",
    "= \\left( \\sum_{k = 1}^n k \\right) + n + 1\n",
    "\\le cn^2 + n + 1\n",
    "\\le cn^2 + n + 1 + ((c - 1)n + c(n + 1) - 1)\n",
    "= c(n + 1)^2\n",
    "\\end  {aligned}\n",
    "$"
   ]
  },
  {
   "cell_type": "markdown",
   "metadata": {},
   "source": [
    "$\n",
    "\\begin{aligned}\n",
    "cn^2 + n + 1 + ((c - 1)n + c(n + 1) - 1)\n",
    "&= cn^2 + n + 1 + (cn - n + cn + c - 1) \\\\\n",
    "&= cn^2 + n + 1 + 2cn - n + c - 1 \\\\\n",
    "&= cn^2 + 2cn  + c \\\\\n",
    "&= c(n^2 + 2n + 1) \\\\\n",
    "&= c(n + 1)^2 \\\\\n",
    "\\end  {aligned}\n",
    "$"
   ]
  },
  {
   "cell_type": "markdown",
   "metadata": {},
   "source": [
    "---\n",
    "---\n",
    "---"
   ]
  },
  {
   "cell_type": "markdown",
   "metadata": {},
   "source": [
    "## Resources"
   ]
  },
  {
   "cell_type": "markdown",
   "metadata": {},
   "source": [
    "https://www.cs.yale.edu/homes/aspnes/pinewiki/attachments/SummationNotation/summation-notation.pdf\n",
    "\n",
    "https://math.stackexchange.com/questions/1937630/convolution-and-multiplication-of-polynomials-is-the-same\n",
    "\n",
    "https://www.quora.com/Is-it-possible-to-multiply-two-summations-with-the-same-limits-and-turn-them-into-only-one-summation\n",
    "\n",
    "https://www.statpower.net/Content/310/Summation%20Algebra.pdf\n",
    "\n",
    "https://www.youtube.com/watch?v=wxhBwKwceUc&list=PLoetsRqdeRZlO7rADZsSx2kfumIDdveK2&index=1"
   ]
  },
  {
   "cell_type": "markdown",
   "metadata": {},
   "source": [
    "---\n",
    "---\n",
    "---"
   ]
  },
  {
   "cell_type": "markdown",
   "metadata": {},
   "source": [
    "## Terms"
   ]
  },
  {
   "cell_type": "markdown",
   "metadata": {},
   "source": [
    "* [ [w](https://en.wikipedia.org/wiki/Cauchy_product) ] Cauchy Product\n",
    "* [ [w](https://en.wikipedia.org/wiki/Convolution) ] Convolution\n",
    "* [ [w](https://en.wikipedia.org/wiki/Convolution_theorem) ] Convolution Theorem\n",
    "* [ [w](https://en.wikipedia.org/wiki/Empty_product) ] Empty Product\n",
    "* [ [w](https://en.wikipedia.org/wiki/Empty_sum) ] Empty Sum\n",
    "* [ [w](https://en.wikipedia.org/wiki/Formal_power_series) ] Formal Power Series\n",
    "* [ [w](https://en.wikipedia.org/wiki/Iverson_bracket) ] Iverson Bracket\n",
    "* [ [w](https://en.wikipedia.org/wiki/Karatsuba_algorithm) ] Karatsuba Algorithm\n",
    "* [ [w](https://en.wikipedia.org/wiki/Summation) ] Summation\n",
    "* [ [w](https://en.wikipedia.org/wiki/Vandermonde%27s_identity) ] Vandermonde's Identity"
   ]
  },
  {
   "cell_type": "markdown",
   "metadata": {},
   "source": [
    "---\n",
    "---\n",
    "---"
   ]
  },
  {
   "cell_type": "markdown",
   "metadata": {},
   "source": [
    "## Acknowledgments"
   ]
  },
  {
   "cell_type": "markdown",
   "metadata": {},
   "source": [
    "`2022` Cormen, Leiserson, Rivest, & Stein. _Introduction to Algorithms_. 4e. [MIT Press](https://mitpress.mit.edu/9780262046305/introduction-to-algorithms/).\n",
    "\n",
    "[ [h](https://stewartcalculus.com/) ] `2020` Stewart, James. _Calculus_. 9e. Cengage."
   ]
  },
  {
   "cell_type": "markdown",
   "metadata": {},
   "source": [
    "---\n",
    "---\n",
    "---"
   ]
  }
 ],
 "metadata": {
  "kernelspec": {
   "display_name": "ml",
   "language": "python",
   "name": "python3"
  },
  "language_info": {
   "codemirror_mode": {
    "name": "ipython",
    "version": 3
   },
   "file_extension": ".py",
   "mimetype": "text/x-python",
   "name": "python",
   "nbconvert_exporter": "python",
   "pygments_lexer": "ipython3",
   "version": "3.11.9"
  }
 },
 "nbformat": 4,
 "nbformat_minor": 2
}
