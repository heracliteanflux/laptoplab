{
 "cells": [
  {
   "attachments": {},
   "cell_type": "markdown",
   "metadata": {},
   "source": [
    "# Convexity"
   ]
  },
  {
   "attachments": {},
   "cell_type": "markdown",
   "metadata": {},
   "source": [
    "---"
   ]
  },
  {
   "attachments": {},
   "cell_type": "markdown",
   "metadata": {},
   "source": [
    "## Convex Combination"
   ]
  },
  {
   "attachments": {},
   "cell_type": "markdown",
   "metadata": {},
   "source": [
    "A convex combination is just a linear combination constrained to have nonnegative coefficients sum to unity.\n",
    "\n",
    "$\n",
    "\\begin{aligned}\n",
    "\\sum_{i=1}^na_ix_i\\,\\,\\,\\text{where}\\,a_i\\ge0\\,\\,\\,\\text{and}\\,\\sum_{i=1}^na_i=1\n",
    "\\end{aligned}\n",
    "$"
   ]
  },
  {
   "attachments": {},
   "cell_type": "markdown",
   "metadata": {},
   "source": [
    "---"
   ]
  },
  {
   "attachments": {},
   "cell_type": "markdown",
   "metadata": {},
   "source": [
    "## Terms"
   ]
  },
  {
   "attachments": {},
   "cell_type": "markdown",
   "metadata": {},
   "source": [
    "* [[W](https://en.wikipedia.org/wiki/Carath%C3%A9odory%27s_theorem_(convex_hull))] Carathéodory's Theorem\n",
    "* [[W](https://en.wikipedia.org/wiki/Concave_function)] Concave Function\n",
    "* [[W](https://en.wikipedia.org/wiki/Concave_polygon)] Concave Polygon\n",
    "* [[W](https://en.wikipedia.org/wiki/Convex_analysis)] Convex Analysis\n",
    "* [[W](https://en.wikipedia.org/wiki/Convex_combination)] Convex Combination\n",
    "* [[W](https://en.wikipedia.org/wiki/Convex_curve)] Convex Curve\n",
    "* [[W](https://en.wikipedia.org/wiki/Convex_function)] Convex Function\n",
    "* [[W](https://en.wikipedia.org/wiki/Convex_hull)] Convex Hull\n",
    "* [[W](https://en.wikipedia.org/wiki/Convex_hull_algorithms)] Convex Hull, algorithms\n",
    "* [[W](https://en.wikipedia.org/wiki/Orthogonal_convex_hull)] Convex Hull, Orthogonal\n",
    "* [[W](https://en.wikipedia.org/wiki/Convex_geometry)] Convex Geometry\n",
    "* [[W](https://en.wikipedia.org/wiki/Convex_optimization)] Convex Optimization\n",
    "* [[W](https://en.wikipedia.org/wiki/Convex_polygon)] Convex Polygon\n",
    "* [[W](https://en.wikipedia.org/wiki/Convex_polytope)] Convex Polytope\n",
    "* [[W](https://en.wikipedia.org/wiki/Convex_set)] Convex Set\n",
    "* [W] Convex Surface\n",
    "* [[W](https://en.wikipedia.org/wiki/Uniformly_convex_space)] Uniformly Convex Space"
   ]
  },
  {
   "attachments": {},
   "cell_type": "markdown",
   "metadata": {},
   "source": [
    "---"
   ]
  }
 ],
 "metadata": {
  "language_info": {
   "name": "python"
  },
  "orig_nbformat": 4
 },
 "nbformat": 4,
 "nbformat_minor": 2
}
