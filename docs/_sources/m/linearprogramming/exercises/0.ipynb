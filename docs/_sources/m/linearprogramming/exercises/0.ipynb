{
 "cells": [
  {
   "attachments": {},
   "cell_type": "markdown",
   "metadata": {},
   "source": [
    "# Example"
   ]
  },
  {
   "attachments": {},
   "cell_type": "markdown",
   "metadata": {},
   "source": [
    "---"
   ]
  },
  {
   "attachments": {},
   "cell_type": "markdown",
   "metadata": {},
   "source": [
    "```{admonition} Revised\n",
    "22 Apr 2023\n",
    "```\n",
    "```{contents}\n",
    "```"
   ]
  },
  {
   "attachments": {},
   "cell_type": "markdown",
   "metadata": {},
   "source": [
    "---"
   ]
  },
  {
   "attachments": {},
   "cell_type": "markdown",
   "metadata": {},
   "source": [
    "## Programming Environment"
   ]
  },
  {
   "cell_type": "code",
   "execution_count": 2,
   "metadata": {
    "tags": [
     "hide-input"
    ]
   },
   "outputs": [
    {
     "name": "stdout",
     "output_type": "stream",
     "text": [
      "EXECUTED            : 2023-04-22 20:11:31.078847\n",
      "\n",
      "Platform            : 13.3.1 | Darwin | 22.4.0 | arm64\n",
      "                    : UTF-8\n",
      "\n",
      "Python              : 3.10.8 | packaged by conda-forge | (main, Nov 22 2022, 08:25:29) [Clang 14.0.6 ]\n",
      "                    : sys.version_info(major=3, minor=10, micro=8, releaselevel='final', serial=0)\n",
      "                    : CPython\n",
      "\n",
      "Matplotlib          : 3.6.3\n",
      "NumPy               : 1.24.1\n",
      "SymPy               : 1.11.1\n"
     ]
    }
   ],
   "source": [
    "from fractions import Fraction\n",
    "\n",
    "import numpy as np\n",
    "import sympy as sp\n",
    "from   sympy import init_printing,latex,solve,symbols\n",
    "from   sympy.matrices import diag,eye,GramSchmidt,ones,Matrix,zeros\n",
    "from   sympy.solvers.inequalities import reduce_inequalities\n",
    "\n",
    "x1,x2,x3,x4=symbols('x1 x2 x3 x4')\n",
    "init_printing(use_latex=True)\n",
    "\n",
    "import matplotlib        as mpl\n",
    "import matplotlib.pyplot as plt\n",
    "plt.style.use('ggplot');\n",
    "plt.rcParams.update({'text.usetex' : True});\n",
    "%matplotlib inline\n",
    "\n",
    "from IPython.display import display, Math\n",
    "\n",
    "from   datetime import datetime as d\n",
    "import locale                   as l\n",
    "import platform                 as p\n",
    "import sys                      as s\n",
    "\n",
    "pad = 20\n",
    "print(f\"{'Executed'.upper():<{pad}}: {d.now()}\")\n",
    "print()\n",
    "print(f\"{'Platform'   :<{pad}}: \"\n",
    "      f\"{p.mac_ver()[0]} | \"\n",
    "      f\"{p.system()} | \"\n",
    "      f\"{p.release()} | \"\n",
    "      f\"{p.machine()}\")\n",
    "print(f\"{''           :<{pad}}: {l.getpreferredencoding()}\")\n",
    "print()\n",
    "print(f\"{'Python'     :<{pad}}: {s.version}\")\n",
    "print(f\"{''           :<{pad}}: {s.version_info}\")\n",
    "print(f\"{''           :<{pad}}: {p.python_implementation()}\")\n",
    "print()\n",
    "print(f\"{'Matplotlib' :<{pad}}: {mpl.__version__}\")\n",
    "print(f\"{'NumPy'      :<{pad}}: {np .__version__}\")\n",
    "print(f\"{'SymPy'      :<{pad}}: {sp .__version__}\")\n",
    "\n",
    "def unitVector (vec : np.ndarray) -> np.ndarray:\n",
    "  return vec/np.sqrt((vec[0]**2+vec[1]**2))"
   ]
  },
  {
   "attachments": {},
   "cell_type": "markdown",
   "metadata": {},
   "source": [
    "---"
   ]
  },
  {
   "attachments": {},
   "cell_type": "markdown",
   "metadata": {},
   "source": [
    "## LP"
   ]
  },
  {
   "attachments": {},
   "cell_type": "markdown",
   "metadata": {},
   "source": [
    "$\n",
    "\\begin{aligned}\n",
    "\\max z(\\mathbf{x})&=-2x_1-x_2+2\n",
    "\\\\\n",
    "g_1(\\mathbf{x})&=3x_1-7x_2\\ge12=b_1\n",
    "\\\\\n",
    "g_2(\\mathbf{x})&=-2x_1+5x_2\\ge-20=b_2\n",
    "\\\\\n",
    "g_3(\\mathbf{x})&=x_1+3x_2\\le-3=b_3\n",
    "\\\\\n",
    "g_4(\\mathbf{x})&=-4x_1-x_2\\le8=b_4\n",
    "\\\\\n",
    "\\mathbf{x}&\\ge\\mathbf{0}\n",
    "\\end{aligned}\n",
    "\\begin{aligned}\n",
    "\\max z(\\mathbf{x})&=-2x_1-x_2+2\n",
    "\\\\\n",
    "g_1(\\mathbf{x})&=-3x_1+7x_2\\le-12=b_1\n",
    "\\\\\n",
    "g_2(\\mathbf{x})&=2x_1-5x_2\\le20=b_2\n",
    "\\\\\n",
    "g_3(\\mathbf{x})&=x_1+3x_2\\le-3=b_3\n",
    "\\\\\n",
    "g_4(\\mathbf{x})&=-4x_1-x_2\\le8=b_4\n",
    "\\\\\n",
    "\\mathbf{x}&\\ge\\mathbf{0}\n",
    "\\end{aligned}\n",
    "$"
   ]
  },
  {
   "attachments": {},
   "cell_type": "markdown",
   "metadata": {},
   "source": [
    "---"
   ]
  },
  {
   "attachments": {},
   "cell_type": "markdown",
   "metadata": {},
   "source": [
    "## Gradients and directions"
   ]
  },
  {
   "cell_type": "markdown",
   "metadata": {},
   "source": [
    "$\n",
    "\\begin{aligned}\n",
    "\\nabla z&=\\langle-2,-1\\rangle\n",
    "\\\\\n",
    "\\nabla g_1&=\\langle-3,7\\rangle\n",
    "&&\\langle-2,-1\\rangle\\cdot\\langle7,3\\rangle\n",
    "&&\\lt0\n",
    "&&\\implies\\langle-7,-3\\rangle\n",
    "\\\\\n",
    "\\nabla g_2&=\\langle2,-5\\rangle\n",
    "&&\\langle-2,-1\\rangle\\cdot\\langle-5,-2\\rangle\n",
    "&&\\gt0\n",
    "&&\\implies\\langle-5,-2\\rangle\n",
    "\\\\\n",
    "\\nabla g_3&=\\langle1,3\\rangle\n",
    "&&\\langle-2,-1\\rangle\\cdot\\langle3,-1\\rangle\n",
    "&&\\lt0\n",
    "&&\\implies\\langle-3,1\\rangle\n",
    "\\\\\n",
    "\\nabla g_4&=\\langle-4,-1\\rangle\n",
    "&&\\langle-2,-1\\rangle\\cdot\\langle-1,4\\rangle\n",
    "&&\\lt0\n",
    "&&\\implies\\langle1,-4\\rangle\n",
    "\\end{aligned}\n",
    "$"
   ]
  },
  {
   "attachments": {},
   "cell_type": "markdown",
   "metadata": {},
   "source": [
    "---"
   ]
  },
  {
   "attachments": {},
   "cell_type": "markdown",
   "metadata": {},
   "source": [
    "## Non Negativity"
   ]
  },
  {
   "attachments": {},
   "cell_type": "markdown",
   "metadata": {},
   "source": [
    "<div class=\"full-width\">\n",
    "\n",
    "$\n",
    "\\begin{aligned}\n",
    "\\max z(\\mathbf{x})&=-2x_1-x_2+2\n",
    "\\\\\n",
    "g_1(\\mathbf{x})&=-3x_1+7x_2\\le-12=b_1\n",
    "\\\\\n",
    "g_2(\\mathbf{x})&=2x_1-5x_2\\le20=b_2\n",
    "\\\\\n",
    "g_3(\\mathbf{x})&=x_1+3x_2\\le-3=b_3\n",
    "\\\\\n",
    "g_4(\\mathbf{x})&=-4x_1-x_2\\le8=b_4\n",
    "\\\\\n",
    "\\mathbf{x}&\\ge\\mathbf{0}\n",
    "\\end{aligned}\n",
    "\\begin{aligned}\n",
    "\\max z(\\mathbf{x})&=-2u_1+2u_2-u_3+u_4+2\n",
    "\\\\\n",
    "g_1(\\mathbf{x})&=-3u_1+3u_2+7u_3-7u_4\\le-12=b_1\n",
    "\\\\\n",
    "g_2(\\mathbf{x})&=2u_1-2u_2-5u_3+5u_4\\le20=b_2\n",
    "\\\\\n",
    "g_3(\\mathbf{x})&=u_1-u_2+3u_3-3u_4\\le-3=b_3\n",
    "\\\\\n",
    "g_4(\\mathbf{x})&=-4u_1+4u_2-u_3+u_4\\le8=b_4\n",
    "\\\\\n",
    "\\mathbf{x}&\\ge\\mathbf{0}\n",
    "\\\\\n",
    "x_1&=u_1-u_2\n",
    "\\\\\n",
    "x_2&=u_3-u_4\n",
    "\\end{aligned}\n",
    "$\n",
    "\n",
    "</div>"
   ]
  },
  {
   "attachments": {},
   "cell_type": "markdown",
   "metadata": {},
   "source": [
    "---"
   ]
  },
  {
   "attachments": {},
   "cell_type": "markdown",
   "metadata": {},
   "source": [
    "## Matrix Form"
   ]
  },
  {
   "attachments": {},
   "cell_type": "markdown",
   "metadata": {},
   "source": [
    "$\n",
    "\\text{LP}=\n",
    "\\begin{aligned}\n",
    "\\max z(\\mathbf{x})&=\\mathbf{cx}+d\n",
    "\\\\\n",
    "\\mathbf{Ax}&\\le\\mathbf{b}\n",
    "\\\\\n",
    "\\mathbf{x}&\\ge\\mathbf{0}\n",
    "\\end{aligned}\n",
    "$"
   ]
  },
  {
   "attachments": {},
   "cell_type": "markdown",
   "metadata": {},
   "source": [
    "$\n",
    "\\begin{aligned}\n",
    "z=\\mathbf{cx}+d\n",
    "&\\iff\n",
    "z=\n",
    "\\begin{bmatrix}\n",
    "-2 & 2 & -1 & 1 \\\\\n",
    "\\end{bmatrix}\n",
    "\\begin{bmatrix}\n",
    "u_1 \\\\\n",
    "u_2 \\\\\n",
    "u_3 \\\\\n",
    "u_4 \\\\\n",
    "\\end{bmatrix}\n",
    "+2\n",
    "\\\\\n",
    "\\mathbf{Ax}\\le\\mathbf{b}\n",
    "&\\iff\n",
    "\\begin{bmatrix}\n",
    "-3 &  3 &  7 & -7 \\\\\n",
    " 2 & -2 & -5 &  5 \\\\\n",
    " 1 & -1 &  3 & -3 \\\\\n",
    "-4 &  4 & -1 &  1 \\\\\n",
    "\\end{bmatrix}\n",
    "\\begin{bmatrix}\n",
    "u_1 \\\\\n",
    "u_2 \\\\\n",
    "u_3 \\\\\n",
    "u_4 \\\\\n",
    "\\end{bmatrix}\n",
    "\\le\n",
    "\\begin{bmatrix}\n",
    "-12 \\\\\n",
    " 20 \\\\\n",
    " -3 \\\\\n",
    "  8 \\\\\n",
    "\\end{bmatrix}\n",
    "\\end{aligned}\n",
    "$"
   ]
  },
  {
   "attachments": {},
   "cell_type": "markdown",
   "metadata": {},
   "source": [
    "---"
   ]
  },
  {
   "attachments": {},
   "cell_type": "markdown",
   "metadata": {},
   "source": [
    "## Dual LP"
   ]
  },
  {
   "attachments": {},
   "cell_type": "markdown",
   "metadata": {},
   "source": [
    "$\n",
    "\\boxed{\n",
    "\\text{LP}=\n",
    "\\begin{aligned}\n",
    "\\max z(\\mathbf{x})&=\\mathbf{cx}+d\n",
    "\\\\\n",
    "\\mathbf{Ax}&\\le\\mathbf{b}\n",
    "\\\\\n",
    "\\mathbf{x}&\\ge\\mathbf{0}\n",
    "\\end{aligned}\n",
    "\\overset{\\text{dual to}}{\\iff}\n",
    "\\begin{aligned}\n",
    "\\min w(\\mathbf{y})&=\\mathbf{yb}+d\n",
    "\\\\\n",
    "\\mathbf{yA}&\\ge\\mathbf{c}\n",
    "\\\\\n",
    "\\mathbf{y}&\\ge\\mathbf{0}\n",
    "\\end{aligned}\n",
    "=\\text{LP}^*\n",
    "}\n",
    "$"
   ]
  },
  {
   "attachments": {},
   "cell_type": "markdown",
   "metadata": {},
   "source": [
    "$\n",
    "\\text{LP}=\n",
    "\\begin{aligned}\n",
    "\\max z(\\mathbf{x})&=-2u_1+2u_2-u_3+u_4+2\n",
    "\\\\\n",
    "g_1(\\mathbf{x})&=-3u_1+3u_2+7u_3-7u_4\\le-12=b_1\n",
    "\\\\\n",
    "g_2(\\mathbf{x})&=2u_1-2u_2-5u_3+5u_4\\le20=b_2\n",
    "\\\\\n",
    "g_3(\\mathbf{x})&=u_1-u_2+3u_3-3u_4\\le-3=b_3\n",
    "\\\\\n",
    "g_4(\\mathbf{x})&=-4u_1+4u_2-u_3+u_4\\le8=b_4\n",
    "\\\\\n",
    "\\mathbf{x}&\\ge\\mathbf{0}\n",
    "\\\\\n",
    "x_1&=u_1-u_2\n",
    "\\\\\n",
    "x_2&=u_3-u_4\n",
    "\\end{aligned}\n",
    "\\overset{\\text{dual to}}{\\iff}\n",
    "\\begin{aligned}\n",
    "\\min w(\\mathbf{y})&=-12y_1+20y_2-3y_3+8y_4+2\n",
    "\\\\\n",
    "h_1(\\mathbf{y})&=-3y_1+2y_2+y_3-4y_4\\ge-2=c_1\n",
    "\\\\\n",
    "h_2(\\mathbf{y})&=3y_1-2y_2-y_3+4y_4\\ge2=c_2\n",
    "\\\\\n",
    "h_3(\\mathbf{y})&=7y_1-5y_2+3y_3-y_4\\ge-1=c_3\n",
    "\\\\\n",
    "h_4(\\mathbf{y})&=-7y_1+5y_2-3y_3+y_4\\ge1=c_4\n",
    "\\\\\n",
    "\\mathbf{y}&\\ge\\mathbf{0}\n",
    "\\end{aligned}\n",
    "=\\text{LP}^*\n",
    "$"
   ]
  },
  {
   "cell_type": "markdown",
   "metadata": {},
   "source": [
    "$\n",
    "\\begin{aligned}\n",
    "w=\\mathbf{yb}+d\n",
    "&\\iff\n",
    "w=\n",
    "\\begin{bmatrix}\n",
    "y_1 & y_2 & y_3 & y_4 \\\\\n",
    "\\end{bmatrix}\n",
    "\\begin{bmatrix}\n",
    "-12 \\\\ 20 \\\\ -3 \\\\ 8 \\\\\n",
    "\\end{bmatrix}\n",
    "+2\n",
    "\\\\\n",
    "\\mathbf{yA}\\ge\\mathbf{c}\n",
    "&\\iff\n",
    "\\begin{bmatrix}\n",
    "y_1 & y_2 & y_3 & y_4 \\\\\n",
    "\\end{bmatrix}\n",
    "\\begin{bmatrix}\n",
    "-3 &  3 &  7 & -7 \\\\\n",
    " 2 & -2 & -5 &  5 \\\\\n",
    " 1 & -1 &  3 & -3 \\\\\n",
    "-4 &  4 & -1 &  1 \\\\\n",
    "\\end{bmatrix}\n",
    "\\ge\n",
    "\\begin{bmatrix}\n",
    "-2 & 2 & -1 & 1 \\\\\n",
    "\\end{bmatrix}\n",
    "\\end{aligned}\n",
    "$"
   ]
  },
  {
   "attachments": {},
   "cell_type": "markdown",
   "metadata": {},
   "source": [
    "---"
   ]
  },
  {
   "attachments": {},
   "cell_type": "markdown",
   "metadata": {},
   "source": [
    "## Optimal Solution"
   ]
  },
  {
   "attachments": {},
   "cell_type": "markdown",
   "metadata": {},
   "source": [
    "$\n",
    "\\boxed{\n",
    "\\begin{aligned}\n",
    "z^*\n",
    "=\\min\\mathbf{cx}+d\n",
    "=\\mathbf{(yA)x}+d\n",
    "=\\mathbf{y(Ax)}+d\n",
    "=\\max\\mathbf{yb}+d\n",
    "=w^*\n",
    "\\end{aligned}\n",
    "}\n",
    "$"
   ]
  },
  {
   "attachments": {},
   "cell_type": "markdown",
   "metadata": {},
   "source": [
    "<div class=\"full-width\">\n",
    "\n",
    "$\n",
    "\\begin{aligned}\n",
    "z^*=\n",
    "\\begin{bmatrix}\n",
    "-2 & 2 & -1 & 1 \\\\\n",
    "\\end{bmatrix}\n",
    "\\begin{bmatrix}\n",
    "u_1 \\\\\n",
    "u_2 \\\\\n",
    "u_3 \\\\\n",
    "u_4 \\\\\n",
    "\\end{bmatrix}\n",
    "+2\n",
    "=\\begin{bmatrix}\n",
    "y_1 & y_2 & y_3 & y_4 \\\\\n",
    "\\end{bmatrix}\n",
    "\\begin{bmatrix}\n",
    "-3 &  3 &  7 & -7 \\\\\n",
    " 2 & -2 & -5 &  5 \\\\\n",
    " 1 & -1 &  3 & -3 \\\\\n",
    "-4 &  4 & -1 &  1 \\\\\n",
    "\\end{bmatrix}\n",
    "\\begin{bmatrix}\n",
    "u_1 \\\\\n",
    "u_2 \\\\\n",
    "u_3 \\\\\n",
    "u_4 \\\\\n",
    "\\end{bmatrix}\n",
    "+2\n",
    "=\\begin{bmatrix}\n",
    "y_1 & y_2 & y_3 & y_4 \\\\\n",
    "\\end{bmatrix}\n",
    "\\begin{bmatrix}\n",
    "-12 \\\\\n",
    " 20 \\\\\n",
    " -3 \\\\\n",
    "  8 \\\\\n",
    "\\end{bmatrix}\n",
    "+2\n",
    "=w^*\n",
    "\\end{aligned}\n",
    "$\n",
    "\n",
    "</div>"
   ]
  },
  {
   "attachments": {},
   "cell_type": "markdown",
   "metadata": {},
   "source": [
    "<div class=\"full-width\">\n",
    "\n",
    "$\n",
    "\\begin{aligned}\n",
    "z^*\n",
    "&=\\begin{bmatrix}\n",
    "-2 & 2 & -1 & 1 \\\\\n",
    "\\end{bmatrix}\n",
    "\\begin{bmatrix}\n",
    "u_1 \\\\\n",
    "u_2 \\\\\n",
    "u_3 \\\\\n",
    "u_4 \\\\\n",
    "\\end{bmatrix}\n",
    "+2\n",
    "\\\\\n",
    "&=-2u_1+2u_2-u_3+u_4+2\n",
    "\\\\\n",
    "&=\\begin{bmatrix}\n",
    "-3y_1+2y_2+ y_3-4y_4 &\n",
    " 3y_1-2y_2- y_3+4y_4 &\n",
    " 7y_1-5y_2+3y_3- y_4 &\n",
    "-7y_1+5y_2-3y_3+ y_4\n",
    "\\end{bmatrix}\n",
    "\\begin{bmatrix}\n",
    "u_1 \\\\ u_2 \\\\ u_3 \\\\ u_4 \\\\\n",
    "\\end{bmatrix}\n",
    "+2\n",
    "\\\\\n",
    "&=\n",
    "[-3y_1u_1+2y_2u_1+ y_3u_1-4y_4u_1] +\n",
    "[ 3y_1u_2-2y_2u_2- y_3u_2+4y_4u_2] +\n",
    "[ 7y_1u_3-5y_2u_3+3y_3u_3- y_4u_3] +\n",
    "[-7y_1u_4+5y_2u_4-3y_3u_4+ y_4u_4] + 2\n",
    "\\\\\n",
    "&=\n",
    "[-3y_1u_1+3y_1u_2+7y_1u_3-7y_1u_4] +\n",
    "[ 2y_2u_1-2y_2u_2-5y_2u_3+5y_2u_4] +\n",
    "[  y_3u_1- y_3u_2+3y_3u_3-3y_3u_4] +\n",
    "[-4y_4u_1+4y_4u_2- y_4u_3+ y_4u_4] + 2\n",
    "\\\\\n",
    "&=\\begin{bmatrix}\n",
    "y_1 & y_2 & y_3 & y_4 \\\\\n",
    "\\end{bmatrix}\n",
    "\\begin{bmatrix}\n",
    "-3u_1+3u_2+7u_3-7u_4 \\\\\n",
    " 2u_1-2u_2-5u_3+5u_4 \\\\\n",
    "  u_1- u_2+3u_3-3u_4 \\\\\n",
    "-4u_1+4u_2- u_3+ u_4 \\\\\n",
    "\\end{bmatrix}\n",
    "+2\n",
    "\\\\\n",
    "&=\\begin{bmatrix}\n",
    "y_1 & y_2 & y_3 & y_4 \\\\\n",
    "\\end{bmatrix}\n",
    "\\begin{bmatrix}\n",
    "-12 \\\\\n",
    " 20 \\\\\n",
    " -3 \\\\\n",
    "  8 \\\\\n",
    "\\end{bmatrix}\n",
    "+2\n",
    "\\\\\n",
    "&=-12y_1+20y_2-3y_3+8y_4+2\n",
    "\\\\\n",
    "&=w^*\n",
    "\\end{aligned}\n",
    "$\n",
    "\n",
    "</div>"
   ]
  },
  {
   "attachments": {},
   "cell_type": "markdown",
   "metadata": {},
   "source": [
    "---"
   ]
  },
  {
   "attachments": {},
   "cell_type": "markdown",
   "metadata": {},
   "source": [
    "## Graphical"
   ]
  },
  {
   "cell_type": "code",
   "execution_count": 8,
   "metadata": {},
   "outputs": [
    {
     "name": "stdout",
     "output_type": "stream",
     "text": [
      " 17\n",
      " 12\n",
      "  5\n",
      "  2\n"
     ]
    },
    {
     "data": {
      "text/plain": [
       "'LINES'"
      ]
     },
     "metadata": {},
     "output_type": "display_data"
    },
    {
     "data": {
      "text/plain": [
       "'g1'"
      ]
     },
     "metadata": {},
     "output_type": "display_data"
    },
    {
     "data": {
      "image/png": "[encoded data removed]",
      "text/latex": [
       "$\\displaystyle \\left\\{ x_{2} : \\frac{3 x_{1}}{7} - \\frac{12}{7}\\right\\}$"
      ],
      "text/plain": [
       "⎧    3⋅x₁   12⎫\n",
       "⎨x₂: ──── - ──⎬\n",
       "⎩     7     7 ⎭"
      ]
     },
     "metadata": {},
     "output_type": "display_data"
    },
    {
     "data": {
      "text/plain": [
       "'g2'"
      ]
     },
     "metadata": {},
     "output_type": "display_data"
    },
    {
     "data": {
      "image/png": "[encoded data removed]",
      "text/latex": [
       "$\\displaystyle \\left\\{ x_{2} : \\frac{2 x_{1}}{5} - 4\\right\\}$"
      ],
      "text/plain": [
       "⎧    2⋅x₁    ⎫\n",
       "⎨x₂: ──── - 4⎬\n",
       "⎩     5      ⎭"
      ]
     },
     "metadata": {},
     "output_type": "display_data"
    },
    {
     "data": {
      "text/plain": [
       "'g3'"
      ]
     },
     "metadata": {},
     "output_type": "display_data"
    },
    {
     "data": {
      "image/png": "[encoded data removed]",
      "text/latex": [
       "$\\displaystyle \\left\\{ x_{2} : - \\frac{x_{1}}{3} - 1\\right\\}$"
      ],
      "text/plain": [
       "⎧      x₁    ⎫\n",
       "⎨x₂: - ── - 1⎬\n",
       "⎩      3     ⎭"
      ]
     },
     "metadata": {},
     "output_type": "display_data"
    },
    {
     "data": {
      "text/plain": [
       "'g4'"
      ]
     },
     "metadata": {},
     "output_type": "display_data"
    },
    {
     "data": {
      "image/png": "[encoded data removed]",
      "text/latex": [
       "$\\displaystyle \\left\\{ x_{2} : - 4 x_{1} - 8\\right\\}$"
      ],
      "text/plain": [
       "{x₂: -4⋅x₁ - 8}"
      ]
     },
     "metadata": {},
     "output_type": "display_data"
    },
    {
     "data": {
      "image/png": "[encoded data removed]",
      "text/latex": [
       "$\\displaystyle x_{2} \\leq \\frac{3 x_{1}}{7} - \\frac{12}{7} \\wedge -\\infty < x_{2}$"
      ],
      "text/plain": [
       "     3⋅x₁   12          \n",
       "x₂ ≤ ──── - ── ∧ -∞ < x₂\n",
       "      7     7           "
      ]
     },
     "metadata": {},
     "output_type": "display_data"
    },
    {
     "data": {
      "image/png": "[encoded data removed]",
      "text/latex": [
       "$\\displaystyle x_{2} \\geq \\frac{2 x_{1}}{5} - 4 \\wedge x_{2} < \\infty$"
      ],
      "text/plain": [
       "     2⋅x₁             \n",
       "x₂ ≥ ──── - 4 ∧ x₂ < ∞\n",
       "      5               "
      ]
     },
     "metadata": {},
     "output_type": "display_data"
    },
    {
     "data": {
      "image/png": "[encoded data removed]",
      "text/latex": [
       "$\\displaystyle x_{2} \\leq - \\frac{x_{1}}{3} - 1 \\wedge -\\infty < x_{2}$"
      ],
      "text/plain": [
       "       x₁              \n",
       "x₂ ≤ - ── - 1 ∧ -∞ < x₂\n",
       "       3               "
      ]
     },
     "metadata": {},
     "output_type": "display_data"
    },
    {
     "data": {
      "image/png": "[encoded data removed]",
      "text/latex": [
       "$\\displaystyle x_{2} \\geq - 4 x_{1} - 8 \\wedge x_{2} < \\infty$"
      ],
      "text/plain": [
       "x₂ ≥ -4⋅x₁ - 8 ∧ x₂ < ∞"
      ]
     },
     "metadata": {},
     "output_type": "display_data"
    },
    {
     "data": {
      "text/plain": [
       "'INTERSECTIONS'"
      ]
     },
     "metadata": {},
     "output_type": "display_data"
    },
    {
     "data": {
      "text/plain": [
       "'g1=g2'"
      ]
     },
     "metadata": {},
     "output_type": "display_data"
    },
    {
     "data": {
      "image/png": "[encoded data removed]",
      "text/latex": [
       "$\\displaystyle \\left\\{ x_{1} : -80, \\  x_{2} : -36\\right\\}$"
      ],
      "text/plain": [
       "{x₁: -80, x₂: -36}"
      ]
     },
     "metadata": {},
     "output_type": "display_data"
    },
    {
     "data": {
      "text/plain": [
       "'g1=g3'"
      ]
     },
     "metadata": {},
     "output_type": "display_data"
    },
    {
     "data": {
      "image/png": "[encoded data removed]",
      "text/latex": [
       "$\\displaystyle \\left\\{ x_{1} : \\frac{15}{16}, \\  x_{2} : - \\frac{21}{16}\\right\\}$"
      ],
      "text/plain": [
       "⎧    15      -21 ⎫\n",
       "⎨x₁: ──, x₂: ────⎬\n",
       "⎩    16       16 ⎭"
      ]
     },
     "metadata": {},
     "output_type": "display_data"
    },
    {
     "data": {
      "text/plain": [
       "'g1=g4'"
      ]
     },
     "metadata": {},
     "output_type": "display_data"
    },
    {
     "data": {
      "image/png": "[encoded data removed]",
      "text/latex": [
       "$\\displaystyle \\left\\{ x_{1} : - \\frac{44}{31}, \\  x_{2} : - \\frac{72}{31}\\right\\}$"
      ],
      "text/plain": [
       "⎧    -44       -72 ⎫\n",
       "⎨x₁: ────, x₂: ────⎬\n",
       "⎩     31        31 ⎭"
      ]
     },
     "metadata": {},
     "output_type": "display_data"
    },
    {
     "data": {
      "text/plain": [
       "'g2=g3'"
      ]
     },
     "metadata": {},
     "output_type": "display_data"
    },
    {
     "data": {
      "image/png": "[encoded data removed]",
      "text/latex": [
       "$\\displaystyle \\left\\{ x_{1} : \\frac{45}{11}, \\  x_{2} : - \\frac{26}{11}\\right\\}$"
      ],
      "text/plain": [
       "⎧    45      -26 ⎫\n",
       "⎨x₁: ──, x₂: ────⎬\n",
       "⎩    11       11 ⎭"
      ]
     },
     "metadata": {},
     "output_type": "display_data"
    },
    {
     "data": {
      "text/plain": [
       "'g2=g4'"
      ]
     },
     "metadata": {},
     "output_type": "display_data"
    },
    {
     "data": {
      "image/png": "[encoded data removed]",
      "text/latex": [
       "$\\displaystyle \\left\\{ x_{1} : - \\frac{10}{11}, \\  x_{2} : - \\frac{48}{11}\\right\\}$"
      ],
      "text/plain": [
       "⎧    -10       -48 ⎫\n",
       "⎨x₁: ────, x₂: ────⎬\n",
       "⎩     11        11 ⎭"
      ]
     },
     "metadata": {},
     "output_type": "display_data"
    },
    {
     "data": {
      "text/plain": [
       "'g3=g4'"
      ]
     },
     "metadata": {},
     "output_type": "display_data"
    },
    {
     "data": {
      "image/png": "[encoded data removed]",
      "text/latex": [
       "$\\displaystyle \\left\\{ x_{1} : - \\frac{21}{11}, \\  x_{2} : - \\frac{4}{11}\\right\\}$"
      ],
      "text/plain": [
       "⎧    -21            ⎫\n",
       "⎨x₁: ────, x₂: -4/11⎬\n",
       "⎩     11            ⎭"
      ]
     },
     "metadata": {},
     "output_type": "display_data"
    },
    {
     "data": {
      "text/plain": [
       "'g1[6,x2]'"
      ]
     },
     "metadata": {},
     "output_type": "display_data"
    },
    {
     "data": {
      "image/png": "[encoded data removed]",
      "text/latex": [
       "$\\displaystyle \\left\\{ x_{1} : 6, \\  x_{2} : \\frac{6}{7}\\right\\}$"
      ],
      "text/plain": [
       "{x₁: 6, x₂: 6/7}"
      ]
     },
     "metadata": {},
     "output_type": "display_data"
    },
    {
     "data": {
      "text/plain": [
       "'g1[0,x2]'"
      ]
     },
     "metadata": {},
     "output_type": "display_data"
    },
    {
     "data": {
      "image/png": "[encoded data removed]",
      "text/latex": [
       "$\\displaystyle \\left\\{ x_{1} : 0, \\  x_{2} : - \\frac{12}{7}\\right\\}$"
      ],
      "text/plain": [
       "{x₁: 0, x₂: -12/7}"
      ]
     },
     "metadata": {},
     "output_type": "display_data"
    },
    {
     "data": {
      "text/plain": [
       "'g2[6,x2]'"
      ]
     },
     "metadata": {},
     "output_type": "display_data"
    },
    {
     "data": {
      "image/png": "[encoded data removed]",
      "text/latex": [
       "$\\displaystyle \\left\\{ x_{1} : 6, \\  x_{2} : - \\frac{8}{5}\\right\\}$"
      ],
      "text/plain": [
       "{x₁: 6, x₂: -8/5}"
      ]
     },
     "metadata": {},
     "output_type": "display_data"
    },
    {
     "data": {
      "text/plain": [
       "'g3[6,x2]'"
      ]
     },
     "metadata": {},
     "output_type": "display_data"
    },
    {
     "data": {
      "image/png": "[encoded data removed]",
      "text/latex": [
       "$\\displaystyle \\left\\{ x_{1} : 6, \\  x_{2} : -3\\right\\}$"
      ],
      "text/plain": [
       "{x₁: 6, x₂: -3}"
      ]
     },
     "metadata": {},
     "output_type": "display_data"
    },
    {
     "data": {
      "text/plain": [
       "'g4[0, 6]'"
      ]
     },
     "metadata": {},
     "output_type": "display_data"
    },
    {
     "data": {
      "image/png": "[encoded data removed]",
      "text/latex": [
       "$\\displaystyle \\left\\{ x_{1} : - \\frac{7}{2}, \\  x_{2} : 6\\right\\}$"
      ],
      "text/plain": [
       "{x₁: -7/2, x₂: 6}"
      ]
     },
     "metadata": {},
     "output_type": "display_data"
    }
   ],
   "source": [
    "d =  2\n",
    "b1=-12\n",
    "b2= 20\n",
    "b3= -3\n",
    "b4=  8\n",
    "\n",
    "z =-2*x1-1*x2+d\n",
    "g1=-3*x1+7*x2-b1\n",
    "g2= 2*x1-5*x2-b2\n",
    "g3= 1*x1+3*x2-b3\n",
    "g4=-4*x1-1*x2-b4\n",
    "\n",
    "# GRADIENTS & DIRECTIONS\n",
    "delz =np.array([-2,-1])\n",
    "delg1=np.array([-3, 7]); dg1=np.array([-7,-3])\n",
    "delg2=np.array([ 2,-5]); dg2=np.array([-5,-2])\n",
    "delg3=np.array([ 1, 3]); dg3=np.array([-3, 1])\n",
    "delg4=np.array([-4,-1]); dg4=np.array([ 1,-4])\n",
    "\n",
    "# UNIT DIRECTION VECTORS\n",
    "udg1=dg1/np.sqrt(dg1[0]**2+dg1[1]**2)\n",
    "udg2=dg2/np.sqrt(dg2[0]**2+dg2[1]**2)\n",
    "udg3=dg3/np.sqrt(dg3[0]**2+dg3[1]**2)\n",
    "udg4=dg4/np.sqrt(dg4[0]**2+dg4[1]**2)\n",
    "\n",
    "print(f\"{delz.dot(dg1):>3}\")\n",
    "print(f\"{delz.dot(dg2):>3}\")\n",
    "print(f\"{delz.dot(dg3):>3}\")\n",
    "print(f\"{delz.dot(dg4):>3}\")\n",
    "\n",
    "# LINES & INTERSECTIONS\n",
    "display(\n",
    "'LINES',\n",
    "'g1',solve(g1,x2,dict=True)[0],\n",
    "'g2',solve(g2,x2,dict=True)[0],\n",
    "'g3',solve(g3,x2,dict=True)[0],\n",
    "'g4',solve(g4,x2,dict=True)[0],\n",
    ")\n",
    "\n",
    "display(\n",
    "reduce_inequalities(g1<=0,[x2]),\n",
    "reduce_inequalities(g2<=0,[x2]),\n",
    "reduce_inequalities(g3<=0,[x2]),\n",
    "reduce_inequalities(g4<=0,[x2]),\n",
    ")\n",
    "\n",
    "display(\n",
    "'INTERSECTIONS',\n",
    "'g1=g2',   solve([g1,g2],  [x1,x2],dict=True)[0],\n",
    "'g1=g3',   solve([g1,g3],  [x1,x2],dict=True)[0],\n",
    "'g1=g4',   solve([g1,g4],  [x1,x2],dict=True)[0],\n",
    "'g2=g3',   solve([g2,g3],  [x1,x2],dict=True)[0],\n",
    "'g2=g4',   solve([g2,g4],  [x1,x2],dict=True)[0],\n",
    "'g3=g4',   solve([g3,g4],  [x1,x2],dict=True)[0],\n",
    "'g1[6,x2]',solve([g1,x1-6],[x1,x2],dict=True)[0],\n",
    "'g1[0,x2]',solve([g1,x1  ],[x1,x2],dict=True)[0],\n",
    "'g2[6,x2]',solve([g2,x1-6],[x1,x2],dict=True)[0],\n",
    "'g3[6,x2]',solve([g3,x1-6],[x1,x2],dict=True)[0],\n",
    "'g4[0, 6]',solve([g4,x2-6],[x1,x2],dict=True)[0],\n",
    ")"
   ]
  },
  {
   "cell_type": "code",
   "execution_count": 45,
   "metadata": {},
   "outputs": [
    {
     "name": "stdout",
     "output_type": "stream",
     "text": [
      "8.18181818181818\n",
      "90/11\n"
     ]
    }
   ],
   "source": [
    "# zStar\n",
    "\n",
    "print(z.subs([\n",
    "  (x1,-(10/11)),\n",
    "  (x2,-(48/11)),\n",
    "]))\n",
    "\n",
    "print(Fraction(float(z.subs([\n",
    "  (x1,-(10/11)),\n",
    "  (x2,-(48/11)),\n",
    "]))).limit_denominator(100))"
   ]
  },
  {
   "cell_type": "code",
   "execution_count": 42,
   "metadata": {
    "tags": [
     "hide-input"
    ]
   },
   "outputs": [
    {
     "data": {
      "image/png": "[encoded data removed]",
      "text/plain": [
       "<Figure size 1280x960 with 1 Axes>"
      ]
     },
     "metadata": {},
     "output_type": "display_data"
    }
   ],
   "source": [
    "s =6\n",
    "x =np.linspace(-s,s,1001)\n",
    "\n",
    "# LINES\n",
    "y1= (3/7)*x-(12/7)\n",
    "y2= (2/5)*x-( 4/1)\n",
    "y3=-(1/3)*x-( 1/1)\n",
    "y4=-(4/1)*x-( 8/1)\n",
    "\n",
    "fig=plt.figure(dpi=200);\n",
    "ax =plt.subplot();\n",
    "ax.set_aspect(1);\n",
    "\n",
    "# LINES\n",
    "ax.plot(x,y1,label='g1=b1',linewidth=0.5,color='blue');\n",
    "ax.plot(x,y2,label='g2=b2',linewidth=0.5,color='yellow');\n",
    "ax.plot(x,y3,label='g3=b3',linewidth=0.5,color='green');\n",
    "ax.plot(x,y4,label='g4=b4',linewidth=0.5,color='red');\n",
    "\n",
    "# delz\n",
    "ax.arrow(0,0,*unitVector(delz),width=0.1,length_includes_head=True,color='black');\n",
    "\n",
    "# FEASIBLE SIDES <=\n",
    "ax.arrow(0,0,*unitVector(-delg1),color='blue',  width=0.01,head_width=0.1,length_includes_head=True);\n",
    "ax.arrow(0,0,*unitVector(-delg2),color='yellow',width=0.01,head_width=0.1,length_includes_head=True);\n",
    "ax.arrow(0,0,*unitVector(-delg3),color='green', width=0.01,head_width=0.1,length_includes_head=True);\n",
    "ax.arrow(0,0,*unitVector(-delg4),color='red',   width=0.01,head_width=0.1,length_includes_head=True);\n",
    "\n",
    "# DIRECTIONS\n",
    "ax.arrow( (6/1), (6/7),udg1[0],udg1[1],width=0.1,length_includes_head=True,color='blue');\n",
    "ax.arrow( (6/1),-(8/5),udg2[0],udg2[1],width=0.1,length_includes_head=True,color='yellow');\n",
    "ax.arrow( (6/1),-(3/1),udg3[0],udg3[1],width=0.1,length_includes_head=True,color='green');\n",
    "ax.arrow(-(7/2), (6/1),udg4[0],udg4[1],width=0.1,length_includes_head=True,color='red');\n",
    "\n",
    "fx,fy=np.meshgrid(x,x)\n",
    "plt.imshow(\n",
    "  (\n",
    "      ( fy<= (3/7)*fx-(12/7))\n",
    "    & (-fy<=-(2/5)*fx+( 4/1))\n",
    "    & ( fy<=-(1/3)*fx-( 1/1))\n",
    "    & (-fy<= (4/1)*fx+( 8/1))\n",
    "  ).astype(int),\n",
    "  extent=(fx.min(),fx.max(),fy.min(),fy.max()),\n",
    "  origin='lower',\n",
    "  cmap  ='Greys',\n",
    "  alpha =0.3,\n",
    ");\n",
    "\n",
    "ax.set_xlim(-s,s);\n",
    "ax.set_ylim(-s,s);\n",
    "ax.legend();\n",
    "\n",
    "# xStar\n",
    "ax.scatter(-(10/11),-(48/11),s=1e2,color='purple');\n",
    "\n",
    "xStar=(\n",
    "  r'\\begin{eqnarray*}'\n",
    "  r'x^*&=&\\left(-\\frac{10}{11},-\\frac{48}{11}\\right)'\n",
    "  r'\\\\'\n",
    "  r'z^*&=&\\frac{90}{11}'\n",
    "  r'\\end{eqnarray*}'\n",
    ")\n",
    "ax.text(-2,4,xStar,fontsize=10);\n",
    "\n",
    "# SIMPLEX\n",
    "dx,dy=0.2,0.2\n",
    "ax.annotate('$A$',(0+dx,0+dy));\n",
    "ax.annotate('$B$',(4+dx,0+dy));\n",
    "ax.annotate('$C$',( (15/16)+dx,-(21/16)+dy));\n",
    "ax.annotate('$D$',( (    0)+dx,-(12/ 7)+dy));\n",
    "ax.annotate('$E$',( (    0)+dx,-(    4)+dy));\n",
    "ax.annotate('$F$',(-(10/11)+dx,-(48/11)+dy));"
   ]
  },
  {
   "attachments": {},
   "cell_type": "markdown",
   "metadata": {},
   "source": [
    "---"
   ]
  },
  {
   "attachments": {},
   "cell_type": "markdown",
   "metadata": {},
   "source": [
    "## Simplex Algorithm"
   ]
  },
  {
   "cell_type": "code",
   "execution_count": 9,
   "metadata": {},
   "outputs": [],
   "source": [
    "def pivot (iStar,jStar,tab):\n",
    "  nRows =tab.shape[0]-1\n",
    "  nCols =tab.shape[1]-1\n",
    "  newTab=tab[:,:]\n",
    "\n",
    "  newTab[0,jStar]    =tab[iStar,nCols]\n",
    "  newTab[iStar,nCols]=tab[0,jStar]\n",
    "  newTab[iStar,0]    =-tab[nRows,jStar]\n",
    "  newTab[nRows,jStar]=-tab[iStar,0]\n",
    "  \n",
    "  for i in range(1,nRows):\n",
    "    for j in range(1,nCols):\n",
    "      if   i==iStar and j==jStar:\n",
    "        newTab[i,j]=1/tab[iStar,jStar]\n",
    "      elif i==iStar and j!=jStar:\n",
    "        newTab[i,j]=-tab[i,j]/tab[iStar,jStar]\n",
    "      elif i!=iStar and j==jStar:\n",
    "        newTab[i,j]= tab[i,j]/tab[iStar,jStar]\n",
    "      elif i!=iStar and j!=jStar:\n",
    "        newTab[i,j]= tab[i,j]-tab[iStar,j]*tab[i,jStar]/tab[iStar,jStar]\n",
    "  return newTab"
   ]
  },
  {
   "cell_type": "code",
   "execution_count": 51,
   "metadata": {},
   "outputs": [
    {
     "data": {
      "text/latex": [
       "$\\displaystyle A = \\left[\\begin{matrix}c & u_{1} & u_{2} & u_{3} & u_{4} & 1 & r\\\\y_{1} & 3 & -3 & -7 & 7 & -12 & s_{1}\\\\y_{2} & -2 & 2 & 5 & -5 & 20 & s_{2}\\\\y_{3} & -1 & 1 & -3 & 3 & -3 & s_{3}\\\\y_{4} & 4 & -4 & 1 & -1 & 8 & s_{4}\\\\-1 & 2 & -2 & 1 & -1 & -2 & - z\\\\c & - v_{1} & - v_{2} & - v_{3} & - v_{4} & w & r\\end{matrix}\\right]\\,\\,\\,\\,\\,x_1=x_2=0$"
      ],
      "text/plain": [
       "<IPython.core.display.Math object>"
      ]
     },
     "metadata": {},
     "output_type": "display_data"
    },
    {
     "data": {
      "text/latex": [
       "$\\displaystyle B = \\left[\\begin{matrix}c & s_{1} & u_{2} & u_{3} & u_{4} & 1 & r\\\\v_{1} & \\frac{1}{3} & 1 & \\frac{7}{3} & - \\frac{7}{3} & 4 & u_{1}\\\\y_{2} & - \\frac{2}{3} & 0 & \\frac{1}{3} & - \\frac{1}{3} & 12 & s_{2}\\\\y_{3} & - \\frac{1}{3} & 0 & - \\frac{16}{3} & \\frac{16}{3} & -7 & s_{3}\\\\y_{4} & \\frac{4}{3} & 0 & \\frac{31}{3} & - \\frac{31}{3} & 24 & s_{4}\\\\-1 & \\frac{2}{3} & 0 & \\frac{17}{3} & - \\frac{17}{3} & 6 & - z\\\\c & - y_{1} & - v_{2} & - v_{3} & - v_{4} & w & r\\end{matrix}\\right]\\,\\,\\,\\,\\,x_2=s_1=0$"
      ],
      "text/plain": [
       "<IPython.core.display.Math object>"
      ]
     },
     "metadata": {},
     "output_type": "display_data"
    },
    {
     "data": {
      "text/latex": [
       "$\\displaystyle C = \\left[\\begin{matrix}c & s_{1} & u_{2} & u_{3} & s_{3} & 1 & r\\\\v_{1} & \\frac{3}{16} & 1 & 0 & - \\frac{7}{16} & \\frac{15}{16} & u_{1}\\\\y_{2} & - \\frac{11}{16} & 0 & 0 & - \\frac{1}{16} & \\frac{185}{16} & s_{2}\\\\v_{4} & \\frac{1}{16} & 0 & 1 & \\frac{3}{16} & \\frac{21}{16} & u_{4}\\\\y_{4} & \\frac{11}{16} & 0 & 0 & - \\frac{31}{16} & \\frac{167}{16} & s_{4}\\\\-1 & \\frac{5}{16} & 0 & 0 & - \\frac{17}{16} & - \\frac{23}{16} & - z\\\\c & - y_{1} & - v_{2} & - v_{3} & - y_{3} & w & r\\end{matrix}\\right]\\,\\,\\,\\,\\,s_1=s_3=0$"
      ],
      "text/plain": [
       "<IPython.core.display.Math object>"
      ]
     },
     "metadata": {},
     "output_type": "display_data"
    },
    {
     "data": {
      "text/latex": [
       "$\\displaystyle D = \\left[\\begin{matrix}c & s_{1} & u_{2} & u_{3} & u_{1} & 1 & r\\\\y_{3} & \\frac{3}{7} & \\frac{16}{7} & 0 & - \\frac{16}{7} & \\frac{15}{7} & s_{3}\\\\y_{2} & - \\frac{5}{7} & - \\frac{1}{7} & 0 & \\frac{1}{7} & \\frac{80}{7} & s_{2}\\\\v_{4} & \\frac{1}{7} & \\frac{3}{7} & 1 & - \\frac{3}{7} & \\frac{12}{7} & u_{4}\\\\y_{4} & - \\frac{1}{7} & - \\frac{31}{7} & 0 & \\frac{31}{7} & \\frac{44}{7} & s_{4}\\\\-1 & - \\frac{1}{7} & - \\frac{17}{7} & 0 & \\frac{17}{7} & - \\frac{26}{7} & - z\\\\c & - y_{1} & - v_{2} & - v_{3} & - v_{1} & w & r\\end{matrix}\\right]\\,\\,\\,\\,\\,x_1=s_1=0$"
      ],
      "text/plain": [
       "<IPython.core.display.Math object>"
      ]
     },
     "metadata": {},
     "output_type": "display_data"
    },
    {
     "data": {
      "text/latex": [
       "$\\displaystyle E = \\left[\\begin{matrix}c & s_{2} & u_{2} & u_{3} & u_{1} & 1 & r\\\\y_{3} & - \\frac{3}{5} & \\frac{11}{5} & 0 & - \\frac{11}{5} & 9 & s_{3}\\\\y_{1} & - \\frac{7}{5} & - \\frac{1}{5} & 0 & \\frac{1}{5} & 16 & s_{1}\\\\v_{4} & - \\frac{1}{5} & \\frac{2}{5} & 1 & - \\frac{2}{5} & 4 & u_{4}\\\\y_{4} & \\frac{1}{5} & - \\frac{22}{5} & 0 & \\frac{22}{5} & 4 & s_{4}\\\\-1 & \\frac{1}{5} & - \\frac{12}{5} & 0 & \\frac{12}{5} & -6 & - z\\\\c & - y_{2} & - v_{2} & - v_{3} & - v_{1} & w & r\\end{matrix}\\right]\\,\\,\\,\\,\\,x_1=s_2=0$"
      ],
      "text/plain": [
       "<IPython.core.display.Math object>"
      ]
     },
     "metadata": {},
     "output_type": "display_data"
    },
    {
     "data": {
      "text/latex": [
       "$\\displaystyle F = \\left[\\begin{matrix}c & s_{2} & s_{4} & u_{3} & u_{1} & 1 & r\\\\y_{3} & - \\frac{1}{2} & - \\frac{1}{2} & 0 & 0 & 11 & s_{3}\\\\y_{1} & - \\frac{31}{22} & \\frac{1}{22} & 0 & 0 & \\frac{174}{11} & s_{1}\\\\v_{4} & - \\frac{2}{11} & - \\frac{1}{11} & 1 & 0 & \\frac{48}{11} & u_{4}\\\\v_{2} & \\frac{1}{22} & - \\frac{5}{22} & 0 & 1 & \\frac{10}{11} & u_{2}\\\\-1 & \\frac{1}{11} & \\frac{6}{11} & 0 & 0 & - \\frac{90}{11} & - z\\\\c & - y_{2} & - y_{4} & - v_{3} & - v_{1} & w & r\\end{matrix}\\right]\\,\\,\\,\\,\\,s_2=s_4=0$"
      ],
      "text/plain": [
       "<IPython.core.display.Math object>"
      ]
     },
     "metadata": {},
     "output_type": "display_data"
    }
   ],
   "source": [
    "A = Matrix([\n",
    "  [ 'c', 'u1', 'u2', 'u3','u4',  1, 'r'],\n",
    "  ['y1',    3,   -3,   -7,   7,-12,'s1'],\n",
    "  ['y2',   -2,    2,    5,  -5, 20,'s2'],\n",
    "  ['y3',   -1,    1,   -3,   3, -3,'s3'],\n",
    "  ['y4',    4,   -4,    1,  -1,  8,'s4'],\n",
    "  [  -1,    2,   -2,    1,  -1, -2,'-z'],\n",
    "  [ 'c','-v1', '-v2','-v3','-v4','w', 'r'],\n",
    "])\n",
    "B = pivot(1,1,A)\n",
    "C = pivot(3,4,B)\n",
    "D = pivot(1,4,C)\n",
    "E = pivot(2,1,D)\n",
    "F = pivot(4,2,E)\n",
    "\n",
    "display(\n",
    "  Math(fr'A = {latex(A)}\\,\\,\\,\\,\\,x_1=x_2=0'),\n",
    "  Math(fr'B = {latex(B)}\\,\\,\\,\\,\\,x_2=s_1=0'),\n",
    "  Math(fr'C = {latex(C)}\\,\\,\\,\\,\\,s_1=s_3=0'),\n",
    "  Math(fr'D = {latex(D)}\\,\\,\\,\\,\\,x_1=s_1=0'),\n",
    "  Math(fr'E = {latex(E)}\\,\\,\\,\\,\\,x_1=s_2=0'),\n",
    "  Math(fr'F = {latex(F)}\\,\\,\\,\\,\\,s_2=s_4=0'),\n",
    ")"
   ]
  },
  {
   "attachments": {},
   "cell_type": "markdown",
   "metadata": {},
   "source": [
    "---"
   ]
  }
 ],
 "metadata": {
  "kernelspec": {
   "display_name": "main",
   "language": "python",
   "name": "python3"
  },
  "language_info": {
   "codemirror_mode": {
    "name": "ipython",
    "version": 3
   },
   "file_extension": ".py",
   "mimetype": "text/x-python",
   "name": "python",
   "nbconvert_exporter": "python",
   "pygments_lexer": "ipython3",
   "version": "3.10.8"
  },
  "orig_nbformat": 4
 },
 "nbformat": 4,
 "nbformat_minor": 2
}
