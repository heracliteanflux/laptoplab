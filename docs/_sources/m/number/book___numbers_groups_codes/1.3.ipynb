{
 "cells": [
  {
   "cell_type": "markdown",
   "metadata": {},
   "source": [
    "# 1.3\n",
    "Exercises from Humphreys, J. F. & M. Y. Prest. (2008). _Numbers, Groups, and Codes_. 2nd Ed. Cambridge University Press."
   ]
  },
  {
   "cell_type": "markdown",
   "metadata": {},
   "source": [
    "---"
   ]
  },
  {
   "cell_type": "markdown",
   "metadata": {},
   "source": [
    "## Table of Contents\n",
    "```{contents}\n",
    "```"
   ]
  },
  {
   "cell_type": "markdown",
   "metadata": {},
   "source": [
    "---"
   ]
  },
  {
   "cell_type": "markdown",
   "metadata": {},
   "source": [
    "## Programming Environment"
   ]
  },
  {
   "cell_type": "code",
   "execution_count": 23,
   "metadata": {},
   "outputs": [],
   "source": [
    "import math\n",
    "import numpy as np"
   ]
  },
  {
   "cell_type": "markdown",
   "metadata": {},
   "source": [
    "---"
   ]
  },
  {
   "cell_type": "markdown",
   "metadata": {},
   "source": [
    "## 1"
   ]
  },
  {
   "cell_type": "markdown",
   "metadata": {},
   "source": [
    "Use the Sieve of Eratosthenes to find all prime numbers less than $250$."
   ]
  },
  {
   "cell_type": "code",
   "execution_count": 31,
   "metadata": {},
   "outputs": [
    {
     "data": {
      "text/plain": [
       "15.811388300841896"
      ]
     },
     "execution_count": 31,
     "metadata": {},
     "output_type": "execute_result"
    }
   ],
   "source": [
    "math.sqrt(250)"
   ]
  },
  {
   "cell_type": "code",
   "execution_count": 17,
   "metadata": {},
   "outputs": [
    {
     "name": "stdout",
     "output_type": "stream",
     "text": [
      "[]\n",
      "[  2   3   4   5   6   7   8   9  10  11  12  13  14  15  16  17  18  19\n",
      "  20  21  22  23  24  25  26  27  28  29  30  31  32  33  34  35  36  37\n",
      "  38  39  40  41  42  43  44  45  46  47  48  49  50  51  52  53  54  55\n",
      "  56  57  58  59  60  61  62  63  64  65  66  67  68  69  70  71  72  73\n",
      "  74  75  76  77  78  79  80  81  82  83  84  85  86  87  88  89  90  91\n",
      "  92  93  94  95  96  97  98  99 100 101 102 103 104 105 106 107 108 109\n",
      " 110 111 112 113 114 115 116 117 118 119 120 121 122 123 124 125 126 127\n",
      " 128 129 130 131 132 133 134 135 136 137 138 139 140 141 142 143 144 145\n",
      " 146 147 148 149 150 151 152 153 154 155 156 157 158 159 160 161 162 163\n",
      " 164 165 166 167 168 169 170 171 172 173 174 175 176 177 178 179 180 181\n",
      " 182 183 184 185 186 187 188 189 190 191 192 193 194 195 196 197 198 199\n",
      " 200 201 202 203 204 205 206 207 208 209 210 211 212 213 214 215 216 217\n",
      " 218 219 220 221 222 223 224 225 226 227 228 229 230 231 232 233 234 235\n",
      " 236 237 238 239 240 241 242 243 244 245 246 247 248 249 250]\n"
     ]
    }
   ],
   "source": [
    "integers = list(range(2, 250 + 1))\n",
    "primes   = []\n",
    "\n",
    "print(primes)\n",
    "print(np.array(integers))"
   ]
  },
  {
   "cell_type": "code",
   "execution_count": 18,
   "metadata": {},
   "outputs": [
    {
     "name": "stdout",
     "output_type": "stream",
     "text": [
      "[2]\n",
      "[  3   5   7   9  11  13  15  17  19  21  23  25  27  29  31  33  35  37\n",
      "  39  41  43  45  47  49  51  53  55  57  59  61  63  65  67  69  71  73\n",
      "  75  77  79  81  83  85  87  89  91  93  95  97  99 101 103 105 107 109\n",
      " 111 113 115 117 119 121 123 125 127 129 131 133 135 137 139 141 143 145\n",
      " 147 149 151 153 155 157 159 161 163 165 167 169 171 173 175 177 179 181\n",
      " 183 185 187 189 191 193 195 197 199 201 203 205 207 209 211 213 215 217\n",
      " 219 221 223 225 227 229 231 233 235 237 239 241 243 245 247 249]\n"
     ]
    }
   ],
   "source": [
    "prime    = integers.pop(0)\n",
    "primes.append(prime)\n",
    "integers = list(integer for integer in integers if integer % prime != 0)\n",
    "\n",
    "print(primes)\n",
    "print(np.array(integers))"
   ]
  },
  {
   "cell_type": "code",
   "execution_count": 19,
   "metadata": {},
   "outputs": [
    {
     "name": "stdout",
     "output_type": "stream",
     "text": [
      "[2, 3]\n",
      "[  5   7  11  13  17  19  23  25  29  31  35  37  41  43  47  49  53  55\n",
      "  59  61  65  67  71  73  77  79  83  85  89  91  95  97 101 103 107 109\n",
      " 113 115 119 121 125 127 131 133 137 139 143 145 149 151 155 157 161 163\n",
      " 167 169 173 175 179 181 185 187 191 193 197 199 203 205 209 211 215 217\n",
      " 221 223 227 229 233 235 239 241 245 247]\n"
     ]
    }
   ],
   "source": [
    "prime    = integers.pop(0)\n",
    "primes.append(prime)\n",
    "integers = list(integer for integer in integers if integer % prime != 0)\n",
    "\n",
    "print(primes)\n",
    "print(np.array(integers))"
   ]
  },
  {
   "cell_type": "code",
   "execution_count": 20,
   "metadata": {},
   "outputs": [
    {
     "name": "stdout",
     "output_type": "stream",
     "text": [
      "[2, 3, 5]\n",
      "[  7  11  13  17  19  23  29  31  37  41  43  47  49  53  59  61  67  71\n",
      "  73  77  79  83  89  91  97 101 103 107 109 113 119 121 127 131 133 137\n",
      " 139 143 149 151 157 161 163 167 169 173 179 181 187 191 193 197 199 203\n",
      " 209 211 217 221 223 227 229 233 239 241 247]\n"
     ]
    }
   ],
   "source": [
    "prime    = integers.pop(0)\n",
    "primes.append(prime)\n",
    "integers = list(integer for integer in integers if integer % prime != 0)\n",
    "\n",
    "print(primes)\n",
    "print(np.array(integers))"
   ]
  },
  {
   "cell_type": "code",
   "execution_count": 21,
   "metadata": {},
   "outputs": [
    {
     "name": "stdout",
     "output_type": "stream",
     "text": [
      "[2, 3, 5, 7]\n",
      "[ 11  13  17  19  23  29  31  37  41  43  47  53  59  61  67  71  73  79\n",
      "  83  89  97 101 103 107 109 113 121 127 131 137 139 143 149 151 157 163\n",
      " 167 169 173 179 181 187 191 193 197 199 209 211 221 223 227 229 233 239\n",
      " 241 247]\n"
     ]
    }
   ],
   "source": [
    "prime    = integers.pop(0)\n",
    "primes.append(prime)\n",
    "integers = list(integer for integer in integers if integer % prime != 0)\n",
    "\n",
    "print(primes)\n",
    "print(np.array(integers))"
   ]
  },
  {
   "cell_type": "code",
   "execution_count": 22,
   "metadata": {},
   "outputs": [
    {
     "name": "stdout",
     "output_type": "stream",
     "text": [
      "[2, 3, 5, 7, 11]\n",
      "[ 13  17  19  23  29  31  37  41  43  47  53  59  61  67  71  73  79  83\n",
      "  89  97 101 103 107 109 113 127 131 137 139 149 151 157 163 167 169 173\n",
      " 179 181 191 193 197 199 211 221 223 227 229 233 239 241 247]\n"
     ]
    }
   ],
   "source": [
    "prime    = integers.pop(0)\n",
    "primes.append(prime)\n",
    "integers = list(integer for integer in integers if integer % prime != 0)\n",
    "\n",
    "print(primes)\n",
    "print(np.array(integers))"
   ]
  },
  {
   "cell_type": "code",
   "execution_count": 25,
   "metadata": {},
   "outputs": [
    {
     "name": "stdout",
     "output_type": "stream",
     "text": [
      "[2, 3, 5, 7, 11, 13]\n",
      "[ 17  19  23  29  31  37  41  43  47  53  59  61  67  71  73  79  83  89\n",
      "  97 101 103 107 109 113 127 131 137 139 149 151 157 163 167 173 179 181\n",
      " 191 193 197 199 211 223 227 229 233 239 241]\n"
     ]
    }
   ],
   "source": [
    "prime    = integers.pop(0)\n",
    "primes.append(prime)\n",
    "integers = list(integer for integer in integers if integer % prime != 0)\n",
    "\n",
    "print(primes)\n",
    "print(np.array(integers))"
   ]
  },
  {
   "cell_type": "code",
   "execution_count": 29,
   "metadata": {},
   "outputs": [
    {
     "name": "stdout",
     "output_type": "stream",
     "text": [
      "[  2   3   5   7  11  13  17  19  23  29  31  37  41  43  47  53  59  61\n",
      "  67  71  73  79  83  89  97 101 103 107 109 113 127 131 137 139 149 151\n",
      " 157 163 167 173 179 181 191 193 197 199 211 223 227 229 233 239 241]\n"
     ]
    }
   ],
   "source": [
    "print(np.array(primes + integers))"
   ]
  },
  {
   "cell_type": "markdown",
   "metadata": {},
   "source": [
    "---"
   ]
  },
  {
   "cell_type": "markdown",
   "metadata": {},
   "source": [
    "## 2"
   ]
  },
  {
   "cell_type": "markdown",
   "metadata": {},
   "source": [
    "Show why, when using the sieve method to find all primes less than $n$, you need only strike out multiples of the primes whose square is less than or equal to $n$."
   ]
  },
  {
   "cell_type": "markdown",
   "metadata": {},
   "source": [
    "$Claim$\n",
    "\n",
    "Each composite up to $n$ has a prime factor less than or equal to $\\sqrt{n}$.\n",
    "\n",
    "$$\n",
    "\\forall n \\in \\mathbb{P} \\,\\,\n",
    "[\\,\\,\n",
    "Composite(n)\n",
    "\\implies\n",
    "\\exists p \\in \\{2, 3, 5, \\dots, \\sqrt{n}\\} \\,\\,\n",
    "(\\,\\,\n",
    "p \\mid n\n",
    "\\,\\,)\n",
    "\\,\\,]\n",
    "$$\n",
    "\n",
    "$Proof$\n",
    "\n",
    "> Let $n$ be composite.  \n",
    "> Then $n$ has a factor $1 \\lt a \\lt n$.  \n",
    "> $a \\mid n \\iff ab = n$ for some positive integer $b$.  \n",
    "> $1 \\lt a \\lt n \\iff b \\lt (ab = n) \\lt nb$  \n",
    "> $b \\lt ab \\implies b \\lt n$  \n",
    "> $n \\lt nb \\implies 1 \\lt b$  \n",
    "> $\\therefore 1 \\lt b \\lt n$  \n",
    ">  \n",
    "> Let $a \\gt \\sqrt{n}$ and $b \\gt \\sqrt{n}$.  \n",
    "> Then $ab \\gt \\sqrt{n}\\sqrt{n} = n$. $Contradiction!$  \n",
    "> So either $a \\le \\sqrt{n}$ or $b \\le \\sqrt{n}$ or both.  \n",
    "> ALTERNATIVELY  \n",
    "> So either $a \\le \\sqrt{n}$ or $a \\ge \\sqrt{n}$ or both.  \n",
    ">> Let $a \\le \\sqrt{n}$.  \n",
    ">> $a \\le \\sqrt{n} \\iff \\frac{1}{a} \\ge \\frac{1}{\\sqrt{n}} \\iff \\frac{n}{a} = b \\ge \\sqrt{n} = \\frac{n}{\\sqrt{n}}$.  \n",
    ">> $\\therefore a \\le \\sqrt{n} \\iff b \\ge \\sqrt{n}$.  \n",
    ">  \n",
    ">> Let $a \\ge \\sqrt{n}$.  \n",
    ">> $a \\ge \\sqrt{n} \\iff \\frac{1}{a} \\le \\frac{1}{\\sqrt{n}} \\iff \\frac{n}{a} = b \\le \\sqrt{n} = \\frac{n}{\\sqrt{n}}$.  \n",
    ">> $\\therefore a \\ge \\sqrt{n} \\iff b \\le \\sqrt{n}$.  \n",
    ">  \n",
    "> Therefore either $a \\le \\sqrt{n}$ or $b \\le \\sqrt{n}$ or both.  \n",
    "> $n$ has a positive divisor not exceeding $\\sqrt{n}$ since both $a$ and $b$ are divisors of $n$.  \n",
    "> This divisor is either prime or, by the fundamental theorem of arithmetic, has a prime divisor less than itself.  \n",
    "> In either case, $n$ has a prime divisor less than or equal to $\\sqrt{n}$.  \n",
    "\n",
    "$\\blacksquare$"
   ]
  },
  {
   "cell_type": "markdown",
   "metadata": {},
   "source": [
    "$\n",
    "\\begin{aligned}\n",
    "\\lfloor\\sqrt{n}\\rfloor^2 &\\le n && && \\le \\lceil\\sqrt{n}\\rceil^2 \\\\\n",
    " 1^2 &\\le   1 =  1^2      &&                              && \\le 1^2 \\\\\n",
    " 1^2 &\\le   2 =  1^2 +  1 &&                              && \\le 2^2 \\\\\n",
    " 1^2 &\\le   3 =  2^2 -  1 && =   1^2       +  1 +  1      && \\le 2^2 \\\\\n",
    " 2^2 &\\le   4 =  2^2      && =  (1^2 - 1)  +  2 +  2      && \\le 2^2 \\\\\n",
    " 2^2 &\\le   5 =  2^2 +  1 && =  (1^2 - 1)  +  2 +  2 +  1 && \\le 3^2 \\\\\n",
    " 2^2 &\\le   6 =  2^2 +  2 &&                              && \\le 3^2 \\\\\n",
    " 2^2 &\\le   7 =  2^2 +  3 &&                              && \\le 3^2 \\\\\n",
    " 2^2 &\\le   8 =  3^2 -  1 && =   2^2       +  2 +  2      && \\le 3^2 \\\\\n",
    " 3^2 &\\le   9 =  3^2      && = ( 2^2 -  1) +  3 +  3      && \\le 3^2 \\\\\n",
    " 3^2 &\\le  10 =  3^2 +  1 && = ( 2^2 -  1) +  3 +  3 +  1 && \\le 4^2 \\\\\n",
    "\\vdots \\\\\n",
    "14^2 &\\le 224 = 15^2 -  1 && =  14^2 + 14  + 14           && \\le 15^2 \\\\\n",
    "15^2 &\\le 225 = 15^2      && = (14^2 -  1) + 15 + 15      && \\le 15^2 \\\\\n",
    "15^2 &\\le 226 = 15^2 +  1 && = (14^2 -  1) + 15 + 15 +  1 && \\le 16^2 \\\\\n",
    "\\vdots \\\\\n",
    "15^2 &\\le 250 = 15^2 + 25 && = (14^2 -  1) + 15 + 15 + 25 && \\le 16^2 \\\\\n",
    "\\vdots \\\\\n",
    "15^2 &\\le 255 = 16^2 -  1 && =  15^2 + 15  + 15           && \\le 16^2 \\\\\n",
    "16^2 &\\le 256 = 16^2      && = (15^2 -  1) + 16 + 16      && \\le 16^2 \\\\\n",
    "16^2 &\\le 257 = 16^2 +  1 && = (15^2 -  1) + 16 + 16 +  1 && \\le 17^2 \\\\\n",
    "\\vdots \\\\\n",
    "16^2 &\\le 288 = 17^2 -  1 && =  16^2 + 16  + 16           && \\le 17^2 \\\\\n",
    "17^2 &\\le 289 = 17^2      && = (16^2 -  1) + 17 + 17      && \\le 17^2 \\\\\n",
    "17^2 &\\le 290 = 17^2 +  1 && = (16^2 -  1) + 17 + 17 +  1 && \\le 18^2 \\\\\n",
    "\\vdots \\\\\n",
    "\\end{aligned}\n",
    "$"
   ]
  },
  {
   "cell_type": "markdown",
   "metadata": {},
   "source": [
    "<div style=\"full-width\">\n",
    "\n",
    "$\\newcommand{\\g}[1]{\\textcolor{green}{#1}}$\n",
    "\n",
    "$$\n",
    "\\begin{array}{c|c|c|c|c|c||c|c}\n",
    "  2 &     &     &     &     &     &            & \\g{2^1} \\times    3^0  \\times    5^0  \\times    7^0  \\times    11^0  \\times    13^0  \\\\ \\hline\n",
    "    &   3 &     &     &     &     &            &    2^0  \\times \\g{3^1} \\times    5^0  \\times    7^0  \\times    11^0  \\times    13^0  \\\\ \\hline\n",
    "  4 &     &     &     &     &     &            & \\g{2^2} \\times    3^0  \\times    5^0  \\times    7^0  \\times    11^0  \\times    13^0  \\\\ \\hline\n",
    "    &     &   5 &     &     &     &            &    2^0  \\times    3^0  \\times \\g{5^1} \\times    7^0  \\times    11^0  \\times    13^0  \\\\ \\hline\n",
    "  6 &   • &     &     &     &     &            & \\g{2^1} \\times \\g{3^1} \\times    5^0  \\times    7^0  \\times    11^0  \\times    13^0  \\\\ \\hline\n",
    "    &     &     &   7 &     &     &            &    2^0  \\times    3^0  \\times    5^0  \\times \\g{7^1} \\times    11^0  \\times    13^0  \\\\ \\hline\n",
    "  8 &     &     &     &     &     &            & \\g{2^3} \\times    3^0  \\times    5^0  \\times    7^0  \\times    11^0  \\times    13^0  \\\\ \\hline\n",
    "    &   9 &     &     &     &     &            &    2^0  \\times \\g{3^2} \\times    5^0  \\times    7^0  \\times    11^0  \\times    13^0  \\\\ \\hline\n",
    " 10 &     &   • &     &     &     &            & \\g{2^1} \\times    3^0  \\times \\g{5^1} \\times    7^0  \\times    11^0  \\times    13^0  \\\\ \\hline\n",
    "    &     &     &     &  11 &     &            &    2^0  \\times    3^0  \\times    5^0  \\times    7^0  \\times \\g{11^1} \\times    13^0  \\\\ \\hline\n",
    " 12 &   • &     &     &     &     &            & \\g{2^2} \\times \\g{3^1} \\times    5^0  \\times    7^0  \\times    11^0  \\times    13^0  \\\\ \\hline\n",
    "    &     &     &     &     &  13 &            &    2^0  \\times    3^0  \\times    5^0  \\times    7^0  \\times    11^0  \\times \\g{13^1} \\\\ \\hline\n",
    " 14 &     &     &   • &     &     &            & \\g{2^1} \\times    3^0  \\times    5^0  \\times \\g{7^1} \\times    11^0  \\times    13^0  \\\\ \\hline\n",
    "    &  15 &   • &     &     &     &            &    2^0  \\times \\g{3^1} \\times \\g{5^1} \\times    7^0  \\times    11^0  \\times    13^0  \\\\ \\hline\\hline\\hline\n",
    " 16 &     &     &     &     &     &            & \\g{2^4} \\times    3^0  \\times    5^0  \\times    7^0  \\times    11^0  \\times    13^0  \\\\ \\hline\n",
    "    &     &     &     &     &     &         17 & \\\\ \\hline\n",
    " 18 &   • &     &     &     &     &            & \\g{2^1} \\times \\g{3^2} \\times    5^0  \\times    7^0  \\times    11^0  \\times    13^0  \\\\ \\hline\n",
    "    &     &     &     &     &     &         19 & \\\\ \\hline\n",
    " 20 &     &   • &     &     &     &            & \\g{2^2} \\times    3^0  \\times \\g{5^1} \\times    7^0  \\times    11^0  \\times    13^0  \\\\ \\hline\n",
    "    &  21 &     &   • &     &     &            &    2^0  \\times \\g{3^1} \\times    5^0  \\times \\g{7^1} \\times    11^0  \\times    13^0  \\\\ \\hline\n",
    " 22 &     &     &     &   • &     &            & \\g{2^1} \\times    3^0  \\times    5^0  \\times    7^0  \\times \\g{11^1} \\times    13^0  \\\\ \\hline\n",
    "    &     &     &     &     &     &         23 & \\\\ \\hline\n",
    " 24 &   • &     &     &     &     &            & \\g{2^3} \\times \\g{3^1} \\times    5^0  \\times    7^0  \\times    11^0  \\times    13^0  \\\\ \\hline\n",
    "    &     &  25 &     &     &     &            &    2^0  \\times    3^0  \\times \\g{5^2} \\times    7^0  \\times    11^0  \\times    13^0  \\\\ \\hline\n",
    " 26 &     &     &     &     &   • &            & \\g{2^1} \\times    3^0  \\times    5^0  \\times    7^0  \\times    11^0  \\times \\g{13^1} \\\\ \\hline\n",
    "    &  27 &     &     &     &     &            &    2^0  \\times \\g{3^3} \\times    5^0  \\times    7^0  \\times    11^0  \\times    13^0  \\\\ \\hline\n",
    " 28 &     &     &   • &     &     &            & \\g{2^2} \\times    3^0  \\times    5^0  \\times \\g{7^1} \\times    11^0  \\times    13^0  \\\\ \\hline\n",
    "    &     &     &     &     &     &         29 & \\\\ \\hline\n",
    " 30 &   • &   • &     &     &     &            & \\g{2^1} \\times \\g{3^1} \\times \\g{5^1} \\times    7^0  \\times    11^0  \\times    13^0  \\\\ \\hline\n",
    "    &     &     &     &     &     &         31 & \\\\ \\hline\n",
    " 32 &     &     &     &     &     &            & \\g{2^5} \\times    3^0  \\times    5^0  \\times    7^0  \\times    11^0  \\times    13^0  \\\\ \\hline\n",
    "    &  33 &     &     &   • &     &            &    2^0  \\times \\g{3^1} \\times    5^0  \\times    7^0  \\times \\g{11^1} \\times    13^0  \\\\ \\hline\n",
    " 34 &     &     &     &     &     &  17 \\times & \\g{2^1} \\times    3^0  \\times    5^0  \\times    7^0  \\times    11^0  \\times    13^0  \\\\ \\hline\n",
    "    &     &  35 &   • &     &     &            &    2^0  \\times    3^0  \\times \\g{5^1} \\times \\g{7^1} \\times    11^0  \\times    13^0  \\\\ \\hline\n",
    " 36 &   • &     &     &     &     &            & \\g{2^2} \\times \\g{3^2} \\times    5^0  \\times    7^0  \\times    11^0  \\times    13^0  \\\\ \\hline\n",
    "    &     &     &     &     &     &         37 & \\\\ \\hline \n",
    " 38 &     &     &     &     &     &  19 \\times & \\g{2^1} \\times    3^0  \\times    5^0  \\times    7^0  \\times    11^0  \\times    13^0  \\\\ \\hline\n",
    "    &  39 &     &     &     &   • &            &    2^0  \\times \\g{3^1} \\times    5^0  \\times    7^0  \\times    11^0  \\times \\g{13^1} \\\\ \\hline\n",
    " 40 &     &   • &     &     &     &            & \\g{2^3} \\times    3^0  \\times \\g{5^1} \\times    7^0  \\times    11^0  \\times    13^0  \\\\ \\hline\n",
    "    &     &     &     &     &     &         41 & \\\\ \\hline \n",
    " 42 &   • &     &   • &     &     &            & \\g{2^1} \\times \\g{3^1} \\times    5^0  \\times \\g{7^1} \\times    11^0  \\times    13^0  \\\\ \\hline\n",
    "    &     &     &     &     &     &         43 & \\\\ \\hline\n",
    " 44 &     &     &     &   • &     &            & \\g{2^2} \\times    3^0  \\times    5^0  \\times    7^0  \\times \\g{11^1} \\times    13^0  \\\\ \\hline\n",
    "    &  45 &   • &     &     &     &            &    2^0  \\times \\g{3^2} \\times \\g{5^1} \\times    7^0  \\times    11^0  \\times    13^0  \\\\ \\hline\n",
    " 46 &     &     &     &     &     &  23 \\times & \\g{2^1} \\times    3^0  \\times    5^0  \\times    7^0  \\times    11^0  \\times    13^0  \\\\ \\hline\n",
    "    &     &     &     &     &     &         47 & \\\\ \\hline\n",
    " 48 &   • &     &     &     &     &            & \\g{2^4} \\times \\g{3^1} \\times    5^0  \\times    7^0  \\times    11^0  \\times    13^0  \\\\ \\hline\n",
    "    &     &     &  49 &     &     &            &    2^0  \\times    3^0  \\times    5^0  \\times \\g{7^2} \\times    11^0  \\times    13^0  \\\\ \\hline\n",
    " 50 &     &   • &     &     &     &            & \\g{2^1} \\times    3^0  \\times \\g{5^2} \\times    7^0  \\times    11^0  \\times    13^0  \\\\ \\hline\n",
    "    &  51 &     &     &     &     &  17 \\times &    2^0  \\times \\g{3^1} \\times    5^0  \\times    7^0  \\times    11^0  \\times    13^0  \\\\ \\hline\n",
    " 52 &     &     &     &     &   • &            & \\g{2^2} \\times    3^0  \\times    5^0  \\times    7^0  \\times    11^0  \\times \\g{13^1} \\\\ \\hline\n",
    "    &     &     &     &     &     &         53 & \\\\ \\hline\n",
    " 54 &   • &     &     &     &     &  27 \\times & \\g{2^1} \\times    3^0  \\times    5^0  \\times    7^0  \\times    11^0  \\times    13^0  \\\\ \\hline\n",
    "    &     &  55 &     &   • &     &            &    2^0  \\times    3^0  \\times \\g{5^1} \\times    7^0  \\times \\g{11^1} \\times    13^0  \\\\ \\hline\n",
    " 56 &     &     &   • &     &     &            & \\g{2^3} \\times    3^0  \\times    5^0  \\times \\g{7^1} \\times    11^0  \\times    13^0  \\\\ \\hline\n",
    "    &  57 &     &     &     &     &  19 \\times &    2^0  \\times \\g{3^1} \\times    5^0  \\times    7^0  \\times    11^0  \\times    13^0  \\\\ \\hline\n",
    " 58 &     &     &     &     &     &  29 \\times & \\g{2^1} \\times    3^0  \\times    5^0  \\times    7^0  \\times    11^0  \\times    13^0  \\\\ \\hline\n",
    "    &     &     &     &     &     &         59 & \\\\ \\hline\n",
    " 60 &   • &   • &     &     &     &            & \\g{2^2} \\times \\g{3^1} \\times \\g{5^1} \\times    7^0  \\times    11^0  \\times    13^0  \\\\ \\hline\n",
    "    &     &     &     &     &     &         61 & \\\\ \\hline \n",
    " 62 &     &     &     &     &     &  31 \\times & \\g{2^1} \\times    3^0  \\times    5^0  \\times    7^0  \\times    11^0  \\times    13^0  \\\\ \\hline\n",
    "    &  63 &     &   • &     &     &            &    2^0  \\times \\g{3^2} \\times    5^0  \\times \\g{7^1} \\times    11^0  \\times    13^0  \\\\ \\hline\n",
    " 64 &     &     &     &     &     &            & \\g{2^6} \\times    3^0  \\times    5^0  \\times    7^0  \\times    11^0  \\times    13^0  \\\\ \\hline\n",
    "    &     &  65 &     &     &   • &            &    2^0  \\times    3^0  \\times \\g{5^1} \\times    7^0  \\times    11^0  \\times \\g{13^1} \\\\ \\hline\n",
    " 66 &   • &     &     &   • &     &            & \\g{2^1} \\times \\g{3^1} \\times    5^0  \\times    7^0  \\times \\g{11^1} \\times    13^0  \\\\ \\hline\n",
    "    &     &     &     &     &     &         67 & \\\\ \\hline \n",
    " 68 &     &     &     &     &     &  17 \\times & \\g{2^2} \\times    3^0  \\times    5^0  \\times    7^0  \\times    11^0  \\times    13^0  \\\\ \\hline\n",
    "    &  69 &     &     &     &     &  23 \\times &    2^0  \\times \\g{3^1} \\times    5^0  \\times    7^0  \\times    11^0  \\times    13^0  \\\\ \\hline\n",
    " 70 &     &   • &   • &     &     &            & \\g{2^1} \\times    3^0  \\times \\g{5^1} \\times \\g{7^1} \\times    11^0  \\times    13^0  \\\\ \\hline\n",
    "    &     &     &     &     &     &         71 & \\\\ \\hline \n",
    " 72 &   • &     &     &     &     &            & \\g{2^3} \\times \\g{3^2} \\times    5^0  \\times    7^0  \\times    11^0  \\times    13^0  \\\\ \\hline\n",
    "    &     &     &     &     &     &         73 & \\\\ \\hline \n",
    " 74 &     &     &     &     &     &  37 \\times & \\g{2^1} \\times    3^0  \\times    5^0  \\times    7^0  \\times    11^0  \\times    13^0  \\\\ \\hline\n",
    "    &  75 &   • &     &     &     &            &    2^0  \\times \\g{3^1} \\times \\g{5^2} \\times    7^0  \\times    11^0  \\times    13^0  \\\\ \\hline\n",
    " 76 &     &     &     &     &     &  19 \\times & \\g{2^2} \\times    3^0  \\times    5^0  \\times    7^0  \\times    11^0  \\times    13^0  \\\\ \\hline\n",
    "    &     &     &  77 &   • &     &            &    2^0  \\times    3^0  \\times    5^0  \\times \\g{7^1} \\times \\g{11^1} \\times    13^0  \\\\ \\hline\n",
    " 78 &   • &     &     &     &   • &            & \\g{2^1} \\times \\g{3^1} \\times    5^0  \\times    7^0  \\times    11^0  \\times \\g{13^1} \\\\ \\hline\n",
    "    &     &     &     &     &     &         79 & \\\\ \\hline \n",
    " 80 &     &   • &     &     &     &            & \\g{2^4} \\times    3^0  \\times \\g{5^1} \\times    7^0  \\times    11^0  \\times    13^0  \\\\ \\hline\n",
    "    &  81 &     &     &     &     &            &    2^0  \\times \\g{3^4} \\times    5^0  \\times    7^0  \\times    11^0  \\times    13^0  \\\\ \\hline\n",
    " 82 &     &     &     &     &     &  41 \\times & \\g{2^1} \\times    3^0  \\times    5^0  \\times    7^0  \\times    11^0  \\times    13^0  \\\\ \\hline\n",
    "    &     &     &     &     &     &         83 & \\\\ \\hline\n",
    " 84 &   • &     &   • &     &     &            & \\g{2^2} \\times \\g{3^1} \\times    5^0  \\times \\g{7^1} \\times    11^0  \\times    13^0  \\\\ \\hline\n",
    "    &     &  85 &     &     &     &  17 \\times &    2^0  \\times    3^0  \\times \\g{5^1} \\times    7^0  \\times    11^0  \\times    13^0  \\\\ \\hline\n",
    " 86 &     &     &     &     &     &  43 \\times & \\g{2^1} \\times    3^0  \\times    5^0  \\times    7^0  \\times    11^0  \\times    13^0  \\\\ \\hline\n",
    "    &  87 &     &     &     &     &  29 \\times &    2^0  \\times \\g{3^1} \\times    5^0  \\times    7^0  \\times    11^0  \\times    13^0  \\\\ \\hline\n",
    " 88 &     &     &     &   • &     &            & \\g{2^3} \\times    3^0  \\times    5^0  \\times    7^0  \\times \\g{11^1} \\times    13^0  \\\\ \\hline\n",
    "    &     &     &     &     &     &         89 & \\\\ \\hline \n",
    " 90 &   • &   • &     &     &     &            & \\g{2^1} \\times \\g{3^2} \\times \\g{5^1} \\times    7^0  \\times    11^0  \\times    13^0  \\\\ \\hline\n",
    "    &     &     &  91 &     &   • &            &    2^0  \\times    3^0  \\times    5^0  \\times \\g{7^1} \\times    11^0  \\times \\g{13^1} \\\\ \\hline\n",
    " 92 &     &     &     &     &     &  23 \\times & \\g{2^2} \\times    3^0  \\times    5^0  \\times    7^0  \\times    11^0  \\times    13^0  \\\\ \\hline\n",
    "    &  93 &     &     &     &     &  31 \\times &    2^0  \\times \\g{3^1} \\times    5^0  \\times    7^0  \\times    11^0  \\times    13^0  \\\\ \\hline\n",
    " 94 &     &     &     &     &     &  47 \\times & \\g{2^1} \\times    3^0  \\times    5^0  \\times    7^0  \\times    11^0  \\times    13^0  \\\\ \\hline\n",
    "    &     &  95 &     &     &     &  19 \\times &    2^0  \\times    3^0  \\times \\g{5^1} \\times    7^0  \\times    11^0  \\times    13^0  \\\\ \\hline\n",
    " 96 &   • &     &     &     &     &            & \\g{2^5} \\times \\g{3^1} \\times    5^0  \\times    7^0  \\times    11^0  \\times    13^0  \\\\ \\hline\n",
    "    &     &     &     &     &     &         97 & \\\\ \\hline\n",
    " 98 &     &     &   • &     &     &            & \\g{2^1} \\times    3^0  \\times    5^0  \\times \\g{7^2} \\times    11^0  \\times    13^0  \\\\ \\hline\n",
    "    &  99 &     &     &   • &     &            &    2^0  \\times \\g{3^2} \\times    5^0  \\times    7^0  \\times \\g{11^1} \\times    13^0  \\\\ \\hline\n",
    "100 &     &   • &     &     &     &            & \\g{2^2} \\times    3^0  \\times \\g{5^2} \\times    7^0  \\times    11^0  \\times    13^0  \\\\ \\hline\n",
    "    &     &     &     &     &     &        101 & \\\\ \\hline\n",
    "102 &   • &     &     &     &     &  17 \\times & \\g{2^1} \\times \\g{3^1} \\times    5^0  \\times    7^0  \\times    11^0  \\times    13^0  \\\\ \\hline\n",
    "    &     &     &     &     &     &        103 & \\\\ \\hline\n",
    "104 &     &     &     &     &   • &            & \\g{2^3} \\times    3^0  \\times    5^0  \\times    7^0  \\times    11^0  \\times \\g{13^1} \\\\ \\hline\n",
    "    & 105 &   • &   • &     &     &            &    2^0  \\times \\g{3^1} \\times \\g{5^1} \\times \\g{7^1} \\times    11^0  \\times    13^0  \\\\ \\hline\n",
    "106 &     &     &     &     &     &  53 \\times & \\g{2^1} \\times    3^0  \\times    5^0  \\times    7^0  \\times    11^0  \\times    13^0  \\\\ \\hline\n",
    "    &     &     &     &     &     &        107 & \\\\ \\hline\n",
    "108 &   • &     &     &     &     &            & \\g{2^2} \\times \\g{3^3} \\times    5^0  \\times    7^0  \\times    11^0  \\times    13^0  \\\\ \\hline\n",
    "    &     &     &     &     &     &        109 & \\\\ \\hline\n",
    "110 &     &   • &     &   • &     &            & \\g{2^1} \\times    3^0  \\times \\g{5^1} \\times    7^0  \\times \\g{11^1} \\times    13^0  \\\\ \\hline\n",
    "    & 111 &     &     &     &     &  37 \\times &    2^0  \\times \\g{3^1} \\times    5^0  \\times    7^0  \\times    11^0  \\times    13^0  \\\\ \\hline\n",
    "112 &     &     &   • &     &     &            & \\g{2^4} \\times    3^0  \\times    5^0  \\times \\g{7^1} \\times    11^0  \\times    13^0  \\\\ \\hline\n",
    "    &     &     &     &     &     &        113 & \\\\ \\hline\n",
    "114 &   • &     &     &     &     &  19 \\times & \\g{2^1} \\times \\g{3^1} \\times    5^0  \\times    7^0  \\times    11^0  \\times    13^0  \\\\ \\hline\n",
    "    &     & 115 &     &     &     &  23 \\times &    2^0  \\times    3^0  \\times \\g{5^1} \\times    7^0  \\times    11^0  \\times    13^0  \\\\ \\hline\n",
    "116 &     &     &     &     &     &  29 \\times & \\g{2^2} \\times    3^0  \\times    5^0  \\times    7^0  \\times    11^0  \\times    13^0  \\\\ \\hline\n",
    "    & 117 &     &     &     &   • &            &    2^0  \\times \\g{3^2} \\times    5^0  \\times    7^0  \\times    11^0  \\times \\g{13^1} \\\\ \\hline\n",
    "118 &     &     &     &     &     &  59 \\times & \\g{2^1} \\times    3^0  \\times    5^0  \\times    7^0  \\times    11^0  \\times    13^0  \\\\ \\hline\n",
    "    &     &     & 119 &     &     &  17 \\times &    2^0  \\times    3^0  \\times    5^0  \\times \\g{7^1} \\times    11^0  \\times    13^0  \\\\ \\hline\n",
    "120 &   • &   • &     &     &     &            & \\g{2^3} \\times \\g{3^1} \\times \\g{5^1} \\times    7^0  \\times    11^0  \\times    13^0  \\\\ \\hline\n",
    "    &     &     &     & 121 &     &            &    2^0  \\times    3^0  \\times    5^0  \\times    7^0  \\times \\g{11^2} \\times    13^0  \\\\ \\hline\n",
    "122 &     &     &     &     &     &  61 \\times & \\g{2^1} \\times    3^0  \\times    5^0  \\times    7^0  \\times    11^0  \\times    13^0  \\\\ \\hline\n",
    "    & 123 &     &     &     &     &  41 \\times &    2^0  \\times \\g{3^1} \\times    5^0  \\times    7^0  \\times    11^0  \\times    13^0  \\\\ \\hline\n",
    "124 &     &     &     &     &     &  31 \\times & \\g{2^2} \\times    3^0  \\times    5^0  \\times    7^0  \\times    11^0  \\times    13^0  \\\\ \\hline\n",
    "    &     & 125 &     &     &     &            &    2^0  \\times    3^0  \\times \\g{5^3} \\times    7^0  \\times    11^0  \\times    13^0  \\\\ \\hline\n",
    "126 &   • &     &   • &     &     &            & \\g{2^1} \\times \\g{3^2} \\times    5^0  \\times \\g{7^1} \\times    11^0  \\times    13^0  \\\\ \\hline\n",
    "    &     &     &     &     &     &        127 & \\\\ \\hline\n",
    "128 &     &     &     &     &     &            & \\g{2^7} \\times    3^0  \\times    5^0  \\times    7^0  \\times    11^0  \\times    13^0  \\\\ \\hline\n",
    "    & 129 &     &     &     &     &  43 \\times &    2^0  \\times \\g{3^1} \\times    5^0  \\times    7^0  \\times    11^0  \\times    13^0  \\\\ \\hline\n",
    "130 &     &   • &     &     &   • &            & \\g{2^1} \\times    3^0  \\times \\g{5^1} \\times    7^0  \\times    11^0  \\times \\g{13^1} \\\\ \\hline\n",
    "    &     &     &     &     &     &        131 & \\\\ \\hline\n",
    "132 &   • &     &     &   • &     &            & \\g{2^2} \\times \\g{3^1} \\times    5^0  \\times    7^0  \\times \\g{11^1} \\times    13^0  \\\\ \\hline\n",
    "    &     &     & 133 &     &     &  19 \\times &    2^0  \\times    3^0  \\times    5^0  \\times \\g{7^1} \\times    11^0  \\times    13^0  \\\\ \\hline\n",
    "134 &     &     &     &     &     &  67 \\times & \\g{2^2} \\times    3^0  \\times    5^0  \\times    7^0  \\times    11^0  \\times    13^0  \\\\ \\hline\n",
    "    & 135 &  •  &     &     &     &            &    2^0  \\times \\g{3^3} \\times \\g{5^1} \\times    7^0  \\times    11^0  \\times    13^0  \\\\ \\hline\n",
    "136 &     &     &     &     &     &  17 \\times & \\g{2^3} \\times    3^0  \\times    5^0  \\times    7^0  \\times    11^0  \\times    13^0  \\\\ \\hline\n",
    "    &     &     &     &     &     &        137 & \\\\ \\hline\n",
    "138 &   • &     &     &     &     &  23 \\times & \\g{2^1} \\times \\g{3^1} \\times    5^0  \\times    7^0  \\times    11^0  \\times    13^0  \\\\ \\hline\n",
    "    &     &     &     &     &     &        139 & \\\\ \\hline\n",
    "140 &     &  •  &   • &     &     &            & \\g{2^2} \\times    3^0  \\times \\g{5^1} \\times \\g{7^1} \\times    11^0  \\times    13^0  \\\\ \\hline\n",
    "    & 141 &     &     &     &     &  47 \\times &    2^0  \\times \\g{3^1} \\times    5^0  \\times    7^0  \\times    11^0  \\times    13^0  \\\\ \\hline\n",
    "142 &     &     &     &     &     &  71 \\times & \\g{2^1} \\times    3^0  \\times    5^0  \\times    7^0  \\times    11^0  \\times    13^0  \\\\ \\hline\n",
    "    &     &     &     & 143 &   • &            &    2^0  \\times    3^0  \\times    5^0  \\times    7^0  \\times \\g{11^1} \\times \\g{13^1} \\\\ \\hline\n",
    "144 &   • &     &     &     &     &            & \\g{2^4} \\times \\g{3^2} \\times    5^0  \\times    7^0  \\times    11^0  \\times    13^0  \\\\ \\hline\n",
    "    &     & 145 &     &     &     &  29 \\times &    2^0  \\times    3^0  \\times \\g{5^1} \\times    7^0  \\times    11^0  \\times    13^0  \\\\ \\hline\n",
    "146 &     &     &     &     &     &  73 \\times & \\g{2^1} \\times    3^0  \\times    5^0  \\times    7^0  \\times    11^0  \\times    13^0  \\\\ \\hline\n",
    "    & 147 &     &   • &     &     &            &    2^0  \\times \\g{3^1} \\times    5^0  \\times \\g{7^2} \\times    11^0  \\times    13^0  \\\\ \\hline\n",
    "148 &     &     &     &     &     &  37 \\times & \\g{2^2} \\times    3^0  \\times    5^0  \\times    7^0  \\times    11^0  \\times    13^0  \\\\ \\hline\n",
    "    &     &     &     &     &     &        149 & \\\\ \\hline\n",
    "150 &   • &   • &     &     &     &            & \\g{2^1} \\times \\g{3^1} \\times \\g{5^2} \\times    7^0  \\times    11^0  \\times    13^0  \\\\ \\hline\n",
    "    &     &     &     &     &     &        151 & \\\\ \\hline\n",
    "152 &     &     &     &     &     &  19 \\times & \\g{2^3} \\times    3^0  \\times    5^0  \\times    7^0  \\times    11^0  \\times    13^0  \\\\ \\hline\n",
    "    & 153 &     &     &     &     &  17 \\times &    2^0  \\times \\g{3^1} \\times    5^0  \\times    7^0  \\times    11^0  \\times    13^0  \\\\ \\hline\n",
    "154 &     &     &   • &   • &     &            & \\g{2^1} \\times    3^0  \\times    5^0  \\times \\g{7^1} \\times \\g{11^1} \\times    13^0  \\\\ \\hline\n",
    "    &     & 155 &     &     &     &  17 \\times &    2^0  \\times \\g{3^2} \\times    5^0  \\times    7^0  \\times    11^0  \\times    13^0  \\\\ \\hline\n",
    "156 &   • &     &     &     &   • &            & \\g{2^2} \\times \\g{3^1} \\times    5^0  \\times    7^0  \\times    11^0  \\times \\g{13^1} \\\\ \\hline\n",
    "    &     &     &     &     &     &        157 & \\\\ \\hline\n",
    "158 &     &     &     &     &     &  79 \\times & \\g{2^1} \\times    3^0  \\times    5^0  \\times    7^0  \\times    11^0  \\times    13^0  \\\\ \\hline\n",
    "    & 159 &     &     &     &     &  53 \\times &    2^0  \\times \\g{3^1} \\times    5^0  \\times    7^0  \\times    11^0  \\times    13^0  \\\\ \\hline\n",
    "160 &     &   • &     &     &     &            & \\g{2^5} \\times    3^0  \\times \\g{5^1} \\times    7^0  \\times    11^0  \\times    13^0  \\\\ \\hline\n",
    "    &     &     & 161 &     &     &  23 \\times &    2^0  \\times    3^0  \\times    5^0  \\times \\g{7^1} \\times    11^0  \\times    13^0  \\\\ \\hline\n",
    "162 &   • &     &     &     &     &            & \\g{2^1} \\times \\g{3^4} \\times    5^0  \\times    7^0  \\times    11^0  \\times    13^0  \\\\ \\hline\n",
    "    &     &     &     &     &     &        163 & \\\\ \\hline\n",
    "164 &     &     &     &     &     &  41 \\times & \\g{2^2} \\times    3^0  \\times    5^0  \\times    7^0  \\times    11^0  \\times    13^0  \\\\ \\hline\n",
    "    & 165 &   • &     &   • &     &            &    2^0  \\times \\g{3^1} \\times \\g{5^1} \\times    7^0  \\times \\g{11^1} \\times    13^0  \\\\ \\hline\n",
    "166 &     &     &     &     &     &  83 \\times & \\g{2^1} \\times    3^0  \\times    5^0  \\times    7^0  \\times    11^0  \\times    13^0  \\\\ \\hline\n",
    "    &     &     &     &     &     &        167 & \\\\ \\hline\n",
    "168 &   • &     &   • &     &     &            & \\g{2^3} \\times \\g{3^1} \\times    5^0  \\times \\g{7^1} \\times    11^0  \\times    13^0  \\\\ \\hline\n",
    "    &     &     &     &     & 169 &            &    2^0  \\times    3^0  \\times    5^0  \\times    7^0  \\times    11^0  \\times \\g{13^2} \\\\ \\hline\n",
    "170 &     &   • &     &     &     &  17 \\times & \\g{2^1} \\times    3^0  \\times \\g{5^1} \\times    7^0  \\times    11^0  \\times    13^0  \\\\ \\hline\n",
    "    & 171 &     &     &     &     &  19 \\times &    2^0  \\times \\g{3^2} \\times    5^0  \\times    7^0  \\times    11^0  \\times    13^0  \\\\ \\hline\n",
    "172 &     &     &     &     &     &  43 \\times & \\g{2^2} \\times    3^0  \\times    5^0  \\times    7^0  \\times    11^0  \\times    13^0  \\\\ \\hline\n",
    "    &     &     &     &     &     &        173 & \\\\ \\hline\n",
    "174 &   • &     &     &     &     &  29 \\times & \\g{2^1} \\times \\g{3^1} \\times    5^0  \\times    7^0  \\times    11^0  \\times    13^0  \\\\ \\hline\n",
    "    &     & 175 &   • &     &     &            &    2^0  \\times    3^0  \\times \\g{5^2} \\times \\g{7^1} \\times    11^0  \\times    13^0  \\\\ \\hline\n",
    "176 &     &     &     &   • &     &            & \\g{2^4} \\times    3^0  \\times    5^0  \\times    7^0  \\times \\g{11^1} \\times    13^0  \\\\ \\hline\n",
    "    & 177 &     &     &     &     &  59 \\times &    2^0  \\times \\g{3^1} \\times    5^0  \\times    7^0  \\times    11^0  \\times    13^0  \\\\ \\hline\n",
    "178 &     &     &     &     &     &  89 \\times & \\g{2^1} \\times    3^0  \\times    5^0  \\times    7^0  \\times    11^0  \\times    13^0  \\\\ \\hline\n",
    "    &     &     &     &     &     &        179 & \\\\ \\hline\n",
    "180 &   • &   • &     &     &     &            & \\g{2^2} \\times \\g{3^2} \\times \\g{5^1} \\times    7^0  \\times    11^0  \\times    13^0  \\\\ \\hline\n",
    "    &     &     &     &     &     &        181 & \\\\ \\hline\n",
    "182 &     &     &   • &     &   • &            & \\g{2^1} \\times    3^0  \\times    5^0  \\times \\g{7^1} \\times    11^0  \\times \\g{13^1} \\\\ \\hline\n",
    "    & 183 &     &     &     &     &  61 \\times &    2^0  \\times \\g{3^1} \\times    5^0  \\times    7^0  \\times    11^0  \\times    13^0  \\\\ \\hline\n",
    "184 &     &     &     &     &     &  23 \\times & \\g{2^3} \\times    3^0  \\times    5^0  \\times    7^0  \\times    11^0  \\times    13^0  \\\\ \\hline\n",
    "    &     & 185 &     &     &     &  37 \\times &    2^0  \\times    3^0  \\times \\g{5^1} \\times    7^0  \\times    11^0  \\times    13^0  \\\\ \\hline\n",
    "186 &   • &     &     &     &     &  31 \\times & \\g{2^1} \\times \\g{3^1} \\times    5^0  \\times    7^0  \\times    11^0  \\times    13^0  \\\\ \\hline\n",
    "    &     &     &     & 187 &     &  17 \\times &    2^0  \\times    3^0  \\times    5^0  \\times    7^0  \\times \\g{11^1} \\times    13^0  \\\\ \\hline\n",
    "188 &     &     &     &     &     &  47 \\times & \\g{2^2} \\times    3^0  \\times    5^0  \\times    7^0  \\times    11^0  \\times    13^0  \\\\ \\hline\n",
    "    & 189 &     &   • &     &     &            &    2^0  \\times \\g{3^3} \\times    5^0  \\times \\g{7^1} \\times    11^0  \\times    13^0  \\\\ \\hline\n",
    "190 &     &   • &     &     &     &  19 \\times & \\g{2^1} \\times    3^0  \\times \\g{5^1} \\times    7^0  \\times    11^0  \\times    13^0  \\\\ \\hline\n",
    "    &     &     &     &     &     &        191 & \\\\ \\hline\n",
    "192 &   • &     &     &     &     &            & \\g{2^6} \\times \\g{3^1} \\times    5^0  \\times    7^0  \\times    11^0  \\times    13^0  \\\\ \\hline\n",
    "    &     &     &     &     &     &        193 & \\\\ \\hline\n",
    "194 &     &     &     &     &     &  97 \\times & \\g{2^1} \\times    3^0  \\times    5^0  \\times    7^0  \\times    11^0  \\times    13^0  \\\\ \\hline\n",
    "    & 195 &   • &     &     &   • &            &    2^0  \\times \\g{3^1} \\times \\g{5^1} \\times    7^0  \\times    11^0  \\times \\g{13^1} \\\\ \\hline\n",
    "196 &     &     &   • &     &     &            & \\g{2^2} \\times    3^0  \\times    5^0  \\times \\g{7^2} \\times    11^0  \\times    13^0  \\\\ \\hline\n",
    "    &     &     &     &     &     &        197 & \\\\ \\hline\n",
    "198 &   • &     &     &   • &     &            & \\g{2^1} \\times \\g{3^2} \\times    5^0  \\times    7^0  \\times \\g{11^1} \\times    13^0  \\\\ \\hline\n",
    "    &     &     &     &     &     &        199 & \\\\ \\hline\n",
    "200 &     &   • &     &     &     &            & \\g{2^3} \\times    3^0  \\times \\g{5^2} \\times    7^0  \\times    11^0  \\times    13^0  \\\\ \\hline\n",
    "    & 201 &     &     &     &     &  67 \\times &    2^0  \\times \\g{3^1} \\times    5^0  \\times    7^0  \\times    11^0  \\times    13^0  \\\\ \\hline\n",
    "202 &     &     &     &     &     & 101 \\times & \\g{2^1} \\times    3^0  \\times    5^0  \\times    7^0  \\times    11^0  \\times    13^0  \\\\ \\hline\n",
    "    &     &     & 203 &     &     &  29 \\times &    2^0  \\times    3^0  \\times    5^0  \\times \\g{7^1} \\times    11^0  \\times    13^0  \\\\ \\hline\n",
    "204 &   • &     &     &     &     &  17 \\times & \\g{2^2} \\times \\g{3^1} \\times    5^0  \\times    7^0  \\times    11^0  \\times    13^0  \\\\ \\hline\n",
    "    &     & 205 &     &     &     &  41 \\times &    2^0  \\times    3^0  \\times \\g{5^1} \\times    7^0  \\times    11^0  \\times    13^0  \\\\ \\hline\n",
    "206 &     &     &     &     &     & 103 \\times & \\g{2^1} \\times    3^0  \\times    5^0  \\times    7^0  \\times    11^0  \\times    13^0  \\\\ \\hline\n",
    "    & 207 &     &     &     &     &  23 \\times &    2^0  \\times \\g{3^2} \\times    5^0  \\times    7^0  \\times    11^0  \\times    13^0  \\\\ \\hline\n",
    "208 &     &     &     &     &   • &            & \\g{2^4} \\times    3^0  \\times    5^0  \\times    7^0  \\times    11^0  \\times \\g{13^1} \\\\ \\hline\n",
    "    &     &     &     & 209 &     &  19 \\times &    2^0  \\times    3^0  \\times    5^0  \\times    7^0  \\times \\g{11^1} \\times    13^0  \\\\ \\hline\n",
    "210 &   • &   • &   • &     &     &            & \\g{2^1} \\times \\g{3^1} \\times \\g{5^1} \\times \\g{7^1} \\times    11^0  \\times    13^0  \\\\ \\hline\n",
    "    &     &     &     &     &     &        211 & \\\\ \\hline\n",
    "212 &     &     &     &     &     &  53 \\times & \\g{2^2} \\times    3^0  \\times    5^0  \\times    7^0  \\times    11^0  \\times    13^0  \\\\ \\hline\n",
    "    & 213 &     &     &     &     &  71 \\times &    2^0  \\times \\g{3^1} \\times    5^0  \\times    7^0  \\times    11^0  \\times    13^0  \\\\ \\hline\n",
    "214 &     &     &     &     &     & 107 \\times & \\g{2^1} \\times    3^0  \\times    5^0  \\times    7^0  \\times    11^0  \\times    13^0  \\\\ \\hline\n",
    "    &     & 215 &     &     &     &  43 \\times &    2^0  \\times    3^0  \\times \\g{5^1} \\times    7^0  \\times    11^0  \\times    13^0  \\\\ \\hline\n",
    "216 &   • &     &     &     &     &            & \\g{2^3} \\times \\g{3^3} \\times    5^0  \\times    7^0  \\times    11^0  \\times    13^0  \\\\ \\hline\n",
    "    &     &     & 217 &     &     &  31 \\times &    2^0  \\times    3^0  \\times    5^0  \\times \\g{7^1} \\times    11^0  \\times    13^0  \\\\ \\hline\n",
    "218 &     &     &     &     &     & 109 \\times & \\g{2^1} \\times    3^0  \\times    5^0  \\times    7^0  \\times    11^0  \\times    13^0  \\\\ \\hline\n",
    "    & 219 &     &     &     &     &  73 \\times &    2^0  \\times \\g{3^1} \\times    5^0  \\times    7^0  \\times    11^0  \\times    13^0  \\\\ \\hline\n",
    "220 &     &   • &     &   • &     &            & \\g{2^2} \\times    3^0  \\times \\g{5^1} \\times    7^0  \\times \\g{11^1} \\times    13^0  \\\\ \\hline\n",
    "    &     &     &     &     & 221 &  17 \\times &    2^0  \\times    3^0  \\times    5^0  \\times    7^0  \\times    11^0  \\times \\g{13^1} \\\\ \\hline\n",
    "222 &   • &     &     &     &     &  37 \\times & \\g{2^1} \\times \\g{3^1} \\times    5^0  \\times    7^0  \\times    11^0  \\times    13^0  \\\\ \\hline\n",
    "    &     &     &     &     &     &        223 & \\\\ \\hline\n",
    "224 &     &     &   • &     &     &            & \\g{2^5} \\times    3^0  \\times    5^0  \\times \\g{7^1} \\times    11^0  \\times    13^0  \\\\ \\hline\n",
    "    & 225 &   • &     &     &     &            &    2^0  \\times \\g{3^2} \\times \\g{5^2} \\times    7^0  \\times    11^0  \\times    13^0  \\\\ \\hline\n",
    "226 &     &     &     &     &     & 113 \\times & \\g{2^1} \\times    3^0  \\times    5^0  \\times    7^0  \\times    11^0  \\times    13^0  \\\\ \\hline\n",
    "    &     &     &     &     &     &        227 & \\\\ \\hline\n",
    "228 &   • &     &     &     &     &  19 \\times & \\g{2^2} \\times \\g{3^1} \\times    5^0  \\times    7^0  \\times    11^0  \\times    13^0  \\\\ \\hline\n",
    "    &     &     &     &     &     &        229 & \\\\ \\hline\n",
    "230 &     &   • &     &     &     &  23 \\times & \\g{2^1} \\times    3^0  \\times \\g{5^1} \\times    7^0  \\times    11^0  \\times    13^0  \\\\ \\hline\n",
    "    & 231 &     &   • &   • &     &            &    2^0  \\times \\g{3^1} \\times    5^0  \\times \\g{7^1} \\times \\g{11^1} \\times    13^0  \\\\ \\hline\n",
    "232 &     &     &     &     &     &  29 \\times & \\g{2^3} \\times    3^0  \\times    5^0  \\times    7^0  \\times    11^0  \\times    13^0  \\\\ \\hline\n",
    "    &     &     &     &     &     &        233 & \\\\ \\hline\n",
    "234 &   • &     &     &     &   • &            & \\g{2^1} \\times \\g{3^2} \\times    5^0  \\times    7^0  \\times    11^0  \\times \\g{13^1} \\\\ \\hline\n",
    "    &     & 235 &     &     &     &  47 \\times &    2^0  \\times    3^0  \\times \\g{5^1} \\times    7^0  \\times    11^0  \\times    13^0  \\\\ \\hline\n",
    "236 &     &     &     &     &     &  59 \\times & \\g{2^2} \\times    3^0  \\times    5^0  \\times    7^0  \\times    11^0  \\times    13^0  \\\\ \\hline\n",
    "    & 237 &     &     &     &     &  79 \\times &    2^0  \\times \\g{3^1} \\times    5^0  \\times    7^0  \\times    11^0  \\times    13^0  \\\\ \\hline\n",
    "238 &     &     &   • &     &     &  17 \\times & \\g{2^1} \\times    3^0  \\times    5^0  \\times \\g{7^1} \\times    11^0  \\times    13^0  \\\\ \\hline\n",
    "    &     &     &     &     &     &        239 & \\\\ \\hline\n",
    "240 &   • &   • &     &     &     &            & \\g{2^4} \\times \\g{3^1} \\times \\g{5^1} \\times    7^0  \\times    11^0  \\times    13^0  \\\\ \\hline\n",
    "    &     &     &     &     &     &        241 & \\\\ \\hline\n",
    "242 &     &     &     &   • &     &  17 \\times &    2^0  \\times    3^0  \\times    5^0  \\times    7^0  \\times \\g{11^2} \\times    13^0  \\\\ \\hline\n",
    "    & 243 &     &     &     &     &            & \\g{2^1} \\times    3^0  \\times    5^0  \\times    7^0  \\times \\g{11^2} \\times    13^0  \\\\ \\hline\n",
    "244 &     &     &     &     &     &  61 \\times & \\g{2^2} \\times    3^0  \\times    5^0  \\times    7^0  \\times    11^0  \\times    13^0  \\\\ \\hline\n",
    "    &     & 245 &   • &     &     &            &    2^0 \\times     3^0  \\times \\g{5^1} \\times \\g{7^2} \\times    11^0  \\times    13^0  \\\\ \\hline\n",
    "246 &   • &     &     &     &     &  41 \\times & \\g{2^1} \\times \\g{3^1} \\times    5^0  \\times    7^0  \\times    11^0  \\times    13^0  \\\\ \\hline\n",
    "    &     &     &     &     & 247 &  19 \\times &    2^0  \\times    3^0  \\times    5^0  \\times    7^0  \\times    11^0  \\times \\g{13^1} \\\\ \\hline\n",
    "248 &     &     &     &     &     &  31 \\times & \\g{2^2} \\times    3^0  \\times    5^0  \\times    7^0  \\times    11^0  \\times    13^0  \\\\ \\hline\n",
    "    & 249 &     &     &     &     &  83 \\times &    2^0  \\times \\g{3^1} \\times    5^0  \\times    7^0  \\times    11^0  \\times    13^0  \\\\ \\hline\n",
    "250 &     &   • &     &     &     &            & \\g{2^1} \\times    3^0  \\times \\g{5^3} \\times    7^0  \\times    11^0  \\times    13^0  \\\\ \\hline\\hline\\hline\n",
    "    &     &     &     &     &     &        251 & \\\\ \\hline\n",
    "252 &   • &     &   • &     &     &            & \\g{2^2} \\times \\g{3^2} \\times    5^0  \\times \\g{7^1} \\times    11^0  \\times    13^0  \\\\ \\hline\n",
    "    &     &     &     & 253 &     &  23 \\times &    2^0  \\times    3^0  \\times    5^0  \\times    7^0  \\times \\g{11^1} \\times    13^0  \\\\ \\hline\n",
    "254 &     &     &     &     &     & 127 \\times & \\g{2^1} \\times    3^0  \\times    5^0  \\times    7^0  \\times    11^0  \\times    13^0  \\\\ \\hline\n",
    "    & 255 &   • &     &     &     &  17 \\times &    2^0  \\times \\g{3^1} \\times \\g{5^1} \\times    7^0  \\times    11^0  \\times    13^0  \\\\ \\hline\n",
    "256 &     &     &     &     &     &            & \\g{2^8} \\times    3^0  \\times    5^0  \\times    7^0  \\times    11^0  \\times    13^0  \\\\ \\hline\n",
    "    &     &     &     &     &     &        257 & \\\\ \\hline\n",
    "258 &   • &     &     &     &     &  43 \\times & \\g{2^1} \\times \\g{3^1} \\times    5^0  \\times    7^0  \\times    11^0  \\times    13^0  \\\\ \\hline\n",
    "    &     &     & 259 &     &     &  37 \\times &    2^0  \\times    3^0  \\times    5^0  \\times \\g{7^1} \\times    11^0  \\times    13^0  \\\\ \\hline\n",
    "260 &     &   • &     &     &   • &            & \\g{2^2} \\times    3^0  \\times \\g{5^1} \\times    7^0  \\times    11^0  \\times \\g{13^1} \\\\ \\hline\n",
    "    & 261 &     &     &     &     &  29 \\times &    2^0  \\times \\g{3^2} \\times    5^0  \\times    7^0  \\times    11^0  \\times    13^0  \\\\ \\hline\n",
    "262 &     &     &     &     &     & 131 \\times & \\g{2^1} \\times    3^0  \\times    5^0  \\times    7^0  \\times    11^0  \\times    13^0  \\\\ \\hline\n",
    "    &     &     &     &     &     &        263 & \\\\ \\hline\n",
    "264 &   • &     &     &   • &     &            & \\g{2^3} \\times \\g{3^1} \\times    5^0  \\times    7^0  \\times \\g{11^1} \\times    13^0  \\\\ \\hline\n",
    "    &     & 265 &     &     &     &  53 \\times &    2^0  \\times    3^0  \\times \\g{5^1} \\times    7^0  \\times    11^0  \\times    13^0  \\\\ \\hline\n",
    "266 &     &     &   • &     &     &  19 \\times & \\g{2^1} \\times    3^0  \\times    5^0  \\times \\g{7^1} \\times    11^0  \\times    13^0  \\\\ \\hline\n",
    "    & 267 &     &     &     &     &  89 \\times &    2^0  \\times \\g{3^1} \\times    5^0  \\times    7^0  \\times    11^0  \\times    13^0  \\\\ \\hline\n",
    "268 &     &     &     &     &     &  67 \\times & \\g{2^2} \\times    3^0  \\times    5^0  \\times    7^0  \\times    11^0  \\times    13^0  \\\\ \\hline\n",
    "    &     &     &     &     &     &        269 & \\\\ \\hline\n",
    "270 &   • &   • &     &     &     &            & \\g{2^1} \\times \\g{3^3} \\times \\g{5^1} \\times    7^0  \\times    11^0  \\times    13^0  \\\\ \\hline\n",
    "    &     &     &     &     &     &        271 & \\\\ \\hline\n",
    "272 &     &     &     &     &     &  17 \\times & \\g{2^4} \\times    3^0  \\times    5^0  \\times    7^0  \\times    11^0  \\times    13^0  \\\\ \\hline\n",
    "    & 273 &     &   • &     &   • &            &    2^0  \\times \\g{3^1} \\times    5^0  \\times \\g{7^1} \\times    11^0  \\times \\g{13^1} \\\\ \\hline\n",
    "274 &     &     &     &     &     & 137 \\times & \\g{2^1} \\times    3^0  \\times    5^0  \\times    7^0  \\times    11^0  \\times    13^0  \\\\ \\hline\n",
    "    &     & 275 &     &   • &     &            &    2^0  \\times    3^0  \\times \\g{5^2} \\times    7^0  \\times \\g{11^1} \\times    13^0  \\\\ \\hline\n",
    "276 &   • &     &     &     &     &  23 \\times & \\g{2^2} \\times \\g{3^1} \\times    5^0  \\times    7^0  \\times    11^0  \\times    13^0  \\\\ \\hline\n",
    "    &     &     &     &     &     &        277 & \\\\ \\hline\n",
    "278 &     &     &     &     &     & 139 \\times & \\g{2^1} \\times    3^0  \\times    5^0  \\times    7^0  \\times    11^0  \\times    13^0  \\\\ \\hline\n",
    "    & 279 &     &     &     &     &  31 \\times &    2^0  \\times \\g{3^2} \\times    5^0  \\times    7^0  \\times    11^0  \\times    13^0  \\\\ \\hline\n",
    "280 &     &   • &   • &     &     &            & \\g{2^3} \\times    3^0  \\times \\g{5^1} \\times \\g{7^1} \\times    11^0  \\times    13^0  \\\\ \\hline\n",
    "    &     &     &     &     &     &        281 & \\\\ \\hline\n",
    "282 &   • &     &     &     &     &  47 \\times & \\g{2^1} \\times \\g{3^1} \\times    5^0  \\times    7^0  \\times    11^0  \\times    13^0  \\\\ \\hline\n",
    "    &     &     &     &     &     &        283 & \\\\ \\hline\n",
    "284 &     &     &     &     &     &  71 \\times & \\g{2^2} \\times    3^0  \\times    5^0  \\times    7^0  \\times    11^0  \\times    13^0  \\\\ \\hline\n",
    "    & 285 &   • &     &     &     &  19 \\times &    2^0  \\times \\g{3^1} \\times \\g{5^1} \\times    7^0  \\times    11^0  \\times    13^0  \\\\ \\hline\n",
    "286 &     &     &     &   • &   • &            & \\g{2^1} \\times    3^0  \\times    5^0  \\times    7^0  \\times \\g{11^1} \\times \\g{13^1} \\\\ \\hline\n",
    "    &     &     & 287 &     &     &  41 \\times &    2^0  \\times    3^0  \\times    5^0  \\times \\g{7^1} \\times    11^0  \\times    13^0  \\\\ \\hline\n",
    "288 &   • &     &     &     &     &            & \\g{2^5} \\times \\g{3^2} \\times    5^0  \\times    7^0  \\times    11^0  \\times    13^0  \\\\ \\hline\n",
    "    &     &     &     &     &     &  \\textcolor{red}{289 = 17 \\times 17} & \\\\ \\hline\n",
    "290 &     &   • &     &     &     &  29 \\times & \\g{2^1} \\times    3^0  \\times \\g{5^1} \\times    7^0  \\times    11^0  \\times    13^0  \\\\ \\hline\n",
    "    & 291 &     &     &     &     &  97 \\times &    2^0  \\times \\g{3^1} \\times    5^0  \\times    7^0  \\times    11^0  \\times    13^0  \\\\ \\hline\n",
    "292 &     &     &     &     &     &  73 \\times & \\g{2^2} \\times    3^0  \\times    5^0  \\times    7^0  \\times    11^0  \\times    13^0  \\\\ \\hline\n",
    "    &     &     &     &     &     &        293 & \\\\ \\hline\n",
    "294 &   • &     &   • &     &     &            & \\g{2^1} \\times \\g{3^1} \\times    5^0  \\times \\g{7^2} \\times    11^0  \\times    13^0  \\\\ \\hline\n",
    "    &     & 295 &     &     &     &  59 \\times &    2^0  \\times    3^0  \\times \\g{5^1} \\times    7^0  \\times    11^0  \\times    13^0  \\\\ \\hline\n",
    "296 &     &     &     &     &     &  37 \\times & \\g{2^3} \\times    3^0  \\times    5^0  \\times    7^0  \\times    11^0  \\times    13^0  \\\\ \\hline\n",
    "    & 297 &     &     &   • &     &            &    2^0  \\times \\g{3^3} \\times    5^0  \\times    7^0  \\times \\g{11^1} \\times    13^0  \\\\ \\hline\n",
    "298 &     &     &     &     &     & 149 \\times & \\g{2^1} \\times    3^0  \\times    5^0  \\times    7^0  \\times    11^0  \\times    13^0  \\\\ \\hline\n",
    "    &     &     &     &     & 299 &  23 \\times &    2^0  \\times    3^0  \\times    5^0  \\times    7^0  \\times    11^0  \\times \\g{13^1} \\\\ \\hline\n",
    "300 &   • &   • &     &     &     &            & \\g{2^2} \\times \\g{3^1} \\times \\g{5^2} \\times    7^0  \\times    11^0  \\times    13^0  \\\\ \\hline\n",
    "\\end{array}\n",
    "$$\n",
    "\n",
    "</div>"
   ]
  },
  {
   "cell_type": "markdown",
   "metadata": {},
   "source": [
    "---"
   ]
  },
  {
   "cell_type": "markdown",
   "metadata": {},
   "source": [
    "## 3"
   ]
  },
  {
   "cell_type": "markdown",
   "metadata": {},
   "source": [
    "(a) Find the prime factorizations for the following integers (a calculator will be useful for the larger values): 136, 150, 255, 713, 3549, 4591. (b) Use your answers to find the greatest common divisor and least common multiple for each of the pairs: 136 and 150, 255 and 3549."
   ]
  },
  {
   "cell_type": "markdown",
   "metadata": {},
   "source": [
    "$$\n",
    "\\begin{align*}\n",
    " 136 &= 2^3 \\times 3^0 \\times 5^0 \\times 7^0 \\times 11^0 \\times 13^0 \\times 17^1 \\times 19^0 \\times 23^0 \\times 29^0 \\times 31^0 \\\\\n",
    " 150 &= 2^1 \\times 3^1 \\times 5^2 \\times 7^0 \\times 11^0 \\times 13^0 \\times 17^0 \\times 19^0 \\times 23^0 \\times 29^0 \\times 31^0 \\\\\n",
    " 255 &= 2^0 \\times 3^1 \\times 5^1 \\times 7^0 \\times 11^0 \\times 13^0 \\times 17^1 \\times 19^0 \\times 23^0 \\times 29^0 \\times 31^0 \\\\\n",
    " 713 &= 2^0 \\times 3^0 \\times 5^0 \\times 7^0 \\times 11^0 \\times 13^0 \\times 17^0 \\times 19^0 \\times 23^1 \\times 29^0 \\times 31^1 \\\\\n",
    "3549 &= 2^0 \\times 3^1 \\times 5^0 \\times 7^1 \\times 11^0 \\times 13^2 \\times 17^0 \\times 19^0 \\times 23^0 \\times 29^0 \\times 31^0 \\\\\n",
    "4591 &= 2^0 \\times 3^0 \\times 5^0 \\times 7^0 \\times 11^0 \\times 13^0 \\times 17^0 \\times 19^0 \\times 23^0 \\times 29^0 \\times 31^0 \\times \\dots \\times 4591^1 \\\\\n",
    "\\end{align*}\n",
    "$$"
   ]
  },
  {
   "cell_type": "markdown",
   "metadata": {},
   "source": [
    "$$\n",
    "\\begin{align*}\n",
    "          136 &= 2^3 \\times 3^0 \\times 5^0 \\times 7^0 \\times 11^0 \\times 13^0 \\times 17^1 \\times 19^0 \\times 23^0 \\times 29^0 \\times 31^0 \\\\\n",
    "          150 &= 2^1 \\times 3^1 \\times 5^2 \\times 7^0 \\times 11^0 \\times 13^0 \\times 17^0 \\times 19^0 \\times 23^0 \\times 29^0 \\times 31^0 \\\\\n",
    "\\hline\n",
    "gcd(136, 150) &= 2^1 \\times 3^0 \\times 5^0 \\times 7^0 \\times 11^0 \\times 13^0 \\times 17^0 \\times 19^0 \\times 23^0 \\times 29^0 \\times 31^0 = 2 \\\\\n",
    "lcm(136, 150) &= 2^3 \\times 3^1 \\times 5^2 \\times 7^0 \\times 11^0 \\times 13^0 \\times 17^1 \\times 19^0 \\times 23^0 \\times 29^0 \\times 31^0 = 10,200 \\\\\n",
    "\\end{align*}\n",
    "$$"
   ]
  },
  {
   "cell_type": "code",
   "execution_count": 118,
   "metadata": {},
   "outputs": [
    {
     "name": "stdout",
     "output_type": "stream",
     "text": [
      "2\n",
      "10200\n"
     ]
    }
   ],
   "source": [
    "a = 136\n",
    "b = 150\n",
    "print(np.gcd(a, b))\n",
    "print(np.lcm(a, b))"
   ]
  },
  {
   "cell_type": "markdown",
   "metadata": {},
   "source": [
    "$$\n",
    "\\begin{align*}\n",
    "           255 &= 2^0 \\times 3^1 \\times 5^1 \\times 7^0 \\times 11^0 \\times 13^0 \\times 17^1 \\times 19^0 \\times 23^0 \\times 29^0 \\times 31^0 \\\\\n",
    "          3549 &= 2^0 \\times 3^1 \\times 5^0 \\times 7^1 \\times 11^0 \\times 13^2 \\times 17^0 \\times 19^0 \\times 23^0 \\times 29^0 \\times 31^0 \\\\\n",
    "\\hline\n",
    "gcd(255, 3549) &= 2^0 \\times 3^1 \\times 5^0 \\times 7^0 \\times 11^0 \\times 13^0 \\times 17^0 \\times 19^0 \\times 23^0 \\times 29^0 \\times 31^0 = 3 \\\\\n",
    "lcm(255, 3549) &= 2^0 \\times 3^1 \\times 5^1 \\times 7^1 \\times 11^0 \\times 13^2 \\times 17^1 \\times 19^0 \\times 23^0 \\times 29^0 \\times 31^0 = 301,665 \\\\\n",
    "\\end{align*}\n",
    "$$"
   ]
  },
  {
   "cell_type": "code",
   "execution_count": 120,
   "metadata": {},
   "outputs": [
    {
     "name": "stdout",
     "output_type": "stream",
     "text": [
      "3\n",
      "301665\n"
     ]
    }
   ],
   "source": [
    "a = 255\n",
    "b = 3549\n",
    "print(np.gcd(a, b))\n",
    "print(np.lcm(a, b))"
   ]
  },
  {
   "cell_type": "markdown",
   "metadata": {},
   "source": [
    "---"
   ]
  },
  {
   "cell_type": "markdown",
   "metadata": {},
   "source": [
    "## 4"
   ]
  },
  {
   "cell_type": "markdown",
   "metadata": {},
   "source": [
    "Let $p_1 = 2, p_2 = 3, \\dots$ be the list of primes, in increasing order. Consider products of the form $(p_1 \\times p_2 \\times \\dots \\times p_n) + 1$. Show that this number is prime for $n = 1, \\dots, 5$. Show that when $n = 6$ this number is not prime. [Use your answer to #1. A calculator will speed the work of checking divisibility.]"
   ]
  },
  {
   "cell_type": "markdown",
   "metadata": {},
   "source": [
    "$$\n",
    "\\begin{align*}\n",
    "n = 1 &&  & (p_1) + 1 \\\\\n",
    "      && =& (2)   + 1 \\\\\n",
    "      && =& 3 \\\\\n",
    "n = 2 &&  & (p_1 \\times p_2) + 1 \\\\\n",
    "      && =& (2 \\times 3)     + 1 \\\\\n",
    "      && =& 7 \\\\\n",
    "n = 3 &&  & (p_1 \\times p_2 \\times p_3) + 1 \\\\\n",
    "      && =& (2 \\times 3 \\times 5)       + 1 \\\\\n",
    "      && =& 31 \\\\\n",
    "n = 4 &&  & (p_1 \\times p_2 \\times p_3 \\times p_4) + 1 \\\\\n",
    "      && =& (2 \\times 3 \\times 5 \\times 7)         + 1 \\\\\n",
    "      && =& 211 \\\\\n",
    "n = 5 &&  & (p_1 \\times p_2 \\times p_3 \\times p_4 \\times p_5)  + 1 \\\\\n",
    "      && =& (2 \\times 3 \\times 5 \\times 7 \\times 11)           + 1 \\\\\n",
    "      && =& 2311 \\\\\n",
    "n = 6 &&  & (p_1 \\times p_2 \\times p_3 \\times p_4 \\times p_5 \\times p_6) + 1 \\\\\n",
    "      && =& (2 \\times 3 \\times 5 \\times 7 \\times 11 \\times 13)           + 1 \\\\\n",
    "      && =& 30031 \\\\\n",
    "      && =& 59 \\times 509 \\\\\n",
    "\\end{align*}\n",
    "$$"
   ]
  },
  {
   "cell_type": "markdown",
   "metadata": {},
   "source": [
    "---"
   ]
  },
  {
   "cell_type": "markdown",
   "metadata": {},
   "source": [
    "## 5"
   ]
  },
  {
   "cell_type": "markdown",
   "metadata": {},
   "source": [
    "By considering the prime decomposition of $gcd(ab, n)$, show that if $a$, $b$, and $n$ are integers with $n$ relatively prime to each of $a$ and $b$, then $n$ is relatively prime to $ab$."
   ]
  },
  {
   "cell_type": "markdown",
   "metadata": {},
   "source": [
    "$$\n",
    "\\begin{align*}\n",
    " a &= p_1^{s_1} \\times p_2^{s_2} \\times \\dots \\times p_r^{s_r} \\\\\n",
    " b &= p_1^{t_1} \\times p_2^{t_2} \\times \\dots \\times p_r^{t_r} \\\\\n",
    "ab &= p_1^{s_1 + t_1} \\times p_2^{s_2 + t_2} \\times \\dots \\times p_r^{s_r + t_r} \\\\\n",
    "\\end{align*}\n",
    "$$"
   ]
  },
  {
   "cell_type": "markdown",
   "metadata": {},
   "source": [
    "---"
   ]
  }
 ],
 "metadata": {
  "kernelspec": {
   "display_name": "ml",
   "language": "python",
   "name": "python3"
  },
  "language_info": {
   "codemirror_mode": {
    "name": "ipython",
    "version": 3
   },
   "file_extension": ".py",
   "mimetype": "text/x-python",
   "name": "python",
   "nbconvert_exporter": "python",
   "pygments_lexer": "ipython3",
   "version": "3.11.5"
  },
  "orig_nbformat": 4
 },
 "nbformat": 4,
 "nbformat_minor": 2
}
