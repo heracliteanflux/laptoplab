{
 "cells": [
  {
   "cell_type": "markdown",
   "metadata": {},
   "source": [
    "# Primality"
   ]
  },
  {
   "cell_type": "markdown",
   "metadata": {},
   "source": [
    "---"
   ]
  },
  {
   "cell_type": "markdown",
   "metadata": {},
   "source": [
    "## Table of Contents\n",
    "```{contents}\n",
    "```"
   ]
  },
  {
   "cell_type": "markdown",
   "metadata": {},
   "source": [
    "---"
   ]
  },
  {
   "cell_type": "markdown",
   "metadata": {},
   "source": [
    "## Programming Environment"
   ]
  },
  {
   "cell_type": "code",
   "execution_count": 1,
   "metadata": {},
   "outputs": [],
   "source": [
    "import math\n",
    "from   numba  import jit, njit, prange\n",
    "import numpy  as np\n",
    "from   typing import Iterator"
   ]
  },
  {
   "cell_type": "markdown",
   "metadata": {},
   "source": [
    "---"
   ]
  },
  {
   "cell_type": "markdown",
   "metadata": {},
   "source": [
    "## Sieve of Eratosthenes"
   ]
  },
  {
   "cell_type": "markdown",
   "metadata": {},
   "source": [
    "[Humphreys & Prest pp. 26]\n",
    "\n",
    "To find the primes less than some number $n$, prepare an array of the integers from $2$ to $n$. Save $2$ and then delete all multiples of $2$. Now look for the next undeleted integer (which will be $3$), save it and delete all its multiples. The smallest undeleted number will be the next prime, $5$. Continue in this way to find all the primes up to $n$. In fact, it will turn out that you can stop this process once you have reached the greatest integer which is less than or equal to the square root of $n$, in the sense that any integers left undeleted at this stage will be prime."
   ]
  },
  {
   "cell_type": "markdown",
   "metadata": {},
   "source": [
    "---"
   ]
  },
  {
   "cell_type": "markdown",
   "metadata": {},
   "source": [
    "Questions\n",
    "1. Given a composite integer, how do we find a decomposition into a product of integers larger than 1?\n",
    "2. How do we recognize a prime integer?"
   ]
  },
  {
   "cell_type": "markdown",
   "metadata": {},
   "source": [
    "---"
   ]
  },
  {
   "cell_type": "markdown",
   "metadata": {},
   "source": [
    "## Euclid's Lemma"
   ]
  },
  {
   "cell_type": "markdown",
   "metadata": {},
   "source": [
    "$Theorem$ [Bressoud 1.1 pp. 1-2]\n",
    "\n",
    "> If a prime divides the product of two integers then it must divide at least one of those integers.  \n",
    "\n",
    "$$\n",
    "\\forall p \\in \\mathbb{P} \\,\\,\n",
    "[\\,\\,\n",
    "Prime(p) \\implies\n",
    "\\forall a, b \\in \\mathbb{Z} \\,\\,\n",
    "[\\,\\,\n",
    "(p \\mid ab) \\implies\n",
    "((p \\mid a) \\lor (p \\mid b))\n",
    "\\,\\,]\n",
    "\\,\\,]\n",
    "$$\n",
    "\n",
    "Note that the following cases hold as a consequence.\n",
    "\n",
    "> If a prime $p$ divides $a^2$, then it must divide $a$.  \n",
    "\n",
    "$$\n",
    "\\forall p \\in \\mathbb{P} \\,\\,\n",
    "[\\,\\,\n",
    "Prime(p) \\implies\n",
    "\\forall a \\in \\mathbb{Z} \\,\\,\n",
    "[\\,\\,\n",
    "(p \\mid a^2) \\implies\n",
    "(p \\mid a)\n",
    "\\,\\,]\n",
    "\\,\\,]\n",
    "$$\n",
    "\n",
    "> Therefore, if $p$ divides $a^2$, then $p^2$ divides $a^2$.  \n",
    "\n",
    "$$\n",
    "\\forall p \\in \\mathbb{P} \\,\\,\n",
    "[\\,\\,\n",
    "Prime(p) \\implies\n",
    "\\forall a \\in \\mathbb{Z} \\,\\,\n",
    "[\\,\\,\n",
    "(p \\mid a^2) \\implies\n",
    "(p^2 \\mid a^2)\n",
    "\\,\\,]\n",
    "\\,\\,]\n",
    "$$"
   ]
  },
  {
   "cell_type": "markdown",
   "metadata": {},
   "source": [
    "The following theorem is a property which is characteristic of primes and is sometimes used to define them.\n",
    "\n",
    "$Theorem$ [Humphreys & Prest 1.3.1 pp. 26]\n",
    "\n",
    "> Let $p$ be a prime and let $a$ and $b$ be integers s.t. $p$ divides $ab$.  \n",
    "> $p$ divides either $a$ or $b$.  \n",
    "\n",
    "$$\n",
    "\\forall p \\in \\mathbb{P} \\,\\,\n",
    "[\\,\\,\n",
    "Prime(p) \\implies\n",
    "\\forall a, b \\in \\mathbb{Z} \\,\\,\n",
    "[\\,\\,\n",
    "(p \\mid ab) \\implies\n",
    "((p \\mid a) \\lor (p \\mid b))\n",
    "\\,\\,]\n",
    "\\,\\,]\n",
    "$$"
   ]
  },
  {
   "cell_type": "markdown",
   "metadata": {},
   "source": [
    "$Proof$ [Humphreys & Prest pp. 26]\n",
    "\n",
    "> The only positive divisors of $p$ are $1$ and $p$ since $p$ is prime.  \n",
    "> Then either $gcd(p, a) = p$ or $gcd(p, a) = 1$.  \n",
    ">> If $gcd(p, a) = p$ then $p \\mid a$.  \n",
    ">  \n",
    "> [Humphreys & Prest 1.1.6]\n",
    ">> If $gcd(p, a) = 1$ then $p$ and $a$ are relatively prime.  \n",
    ">> Then there are integers $r$ and $s$ s.t. $1 = pr + as \\iff b = pbr + abs = p(br) + ab(s)$.  \n",
    ">> Since $p$ divides $p(br)$ and $p$ divides $ab(s)$, $p$ divides their sum $b$.  \n",
    ">  \n",
    "> $\\therefore$ if a prime divides a product then it divides one or the other factor.  \n",
    "\n",
    "$\\blacksquare$"
   ]
  },
  {
   "cell_type": "markdown",
   "metadata": {},
   "source": [
    "The following lemma is an extension of the previous theorem.\n",
    "\n",
    "$Lemma$ [Humphreys & Prest pp. 27]\n",
    "\n",
    "> Let $p$ be prime and let $p$ divide the product $a_1 a_2 \\dots a_r$.  \n",
    "> Then $p$ divides at least one of $a_1, a_2, \\dots, a_r$.  "
   ]
  },
  {
   "cell_type": "markdown",
   "metadata": {},
   "source": [
    "$Proof \\,\\, by \\,\\, induction \\,\\, on \\,\\, the \\,\\, number \\,\\, r \\,\\, of \\,\\, factors \\,\\, a_i$ [Humphreys & Prest pp. 27]\n",
    "\n",
    "> Base Case  \n",
    ">> If $p \\mid a_1$ then $p \\mid a_1$.  \n",
    ">  \n",
    "> Induction Step  \n",
    ">> Induction Hypothesis: Let $p \\mid b_1 b_2 \\dots b_{r - 1}$ so that $p$ divides at least one of $b_1, b_2, \\dots, b_{r - 1}$.  \n",
    ">> Let $p$ divide the product $a_1 \\dots a_r$ which we want to write as a product $b_1 \\dots b_{r - 1}$ of $r - 1$ integers.  \n",
    ">> Define $b_i = a_i$ for $i \\le r - 2$ and let $b_{r - 1}$ be the product $a_{r - 1} a_r$.  \n",
    ">> Then $a_1 a_2 \\dots a_{r - 2} (a_{r - 1} a_r)$ is a product of $r - 1$ integers.  \n",
    ">> Either $p$ divides one of $a_1, a_2, \\dots, a_{r - 2}$ or $p$ divides $a_{r - 1} a_r$.  \n",
    ">> If the latter, then either $p$ divides $a_{r - 1}$ or $p$ divides $a_r$.  \n",
    ">  \n",
    "> Therefore $p$ divides one of $a_1, a_2, \\dots, a_r$.  \n",
    "\n",
    "$\\blacksquare$"
   ]
  },
  {
   "cell_type": "markdown",
   "metadata": {},
   "source": [
    "---"
   ]
  },
  {
   "cell_type": "markdown",
   "metadata": {},
   "source": [
    "## Prime Factorization"
   ]
  },
  {
   "cell_type": "markdown",
   "metadata": {},
   "source": [
    "$Definition$ [Bressoud]\n",
    "\n",
    "The decomposition of a positive integer into primes is called its factorization, which is expressed by\n",
    "\n",
    "$$\n",
    "n = p_1^{a_1} \\times p_2^{a_2} \\times \\dots \\times p_r^{a_r}\n",
    "$$\n",
    "\n",
    "where $p_1, p_2, \\dots, p_r$ are distinct primes."
   ]
  },
  {
   "cell_type": "markdown",
   "metadata": {},
   "source": [
    "---"
   ]
  },
  {
   "cell_type": "markdown",
   "metadata": {},
   "source": [
    "## Relative Primality\n",
    "or coprimality"
   ]
  },
  {
   "cell_type": "markdown",
   "metadata": {},
   "source": [
    "$Definition$ [Bressoud pp. 3]\n",
    "\n",
    "> If integers $m$ and $n$ have no common primes in their respective factorizations then $m$ and $n$ are said to be relatively prime."
   ]
  },
  {
   "cell_type": "markdown",
   "metadata": {},
   "source": [
    "$Example$ [Bressoud pp. 3]\n",
    "\n",
    "> $45 = 3 \\times 3 \\times 5$ and $98 = 2 \\times 7 \\times 7$ are relatively prime."
   ]
  },
  {
   "cell_type": "markdown",
   "metadata": {},
   "source": [
    "$Definition$ [Humphreys & Prest pp. 12]\n",
    "\n",
    "> Let $a$ and $b$ be positive integers.  \n",
    "> If $gcd(a, b) = 1$ then $a$ and $b$ are said to be relatively prime.\n",
    "\n",
    "<div style=\"color: red;\">Does this hold for all integers?</div>"
   ]
  },
  {
   "cell_type": "markdown",
   "metadata": {},
   "source": [
    "$Theorem$ [Humphreys & Prest 1.1.6 pp. 13]\n",
    "\n",
    "> Let $a$, $b$, and $c$ be positive integers with $a$ and $b$ relatively prime.  \n",
    "> Then  \n",
    "> 1. if $a$ divides $bc$ then $a$ divides $c$  \n",
    "\n",
    "$$\n",
    "\\color{red}\n",
    "\\forall a, b, c \\in \\mathbb{P} \\,\\,\n",
    "[ \\,\\,\n",
    "(RelativePrimes(a, b) \\land (a \\mid bc))\n",
    "\\implies\n",
    "(a \\mid c)\n",
    "\\,\\, ]\n",
    "$$\n",
    "\n",
    "> 2. if $a$ divides $c$ and $b$ divides $c$ then $ab$ divides $c$  \n",
    "\n",
    "$$\n",
    "\\color{red}\n",
    "\\forall a, b, c \\in \\mathbb{P} \\,\\,\n",
    "[ \\,\\,\n",
    "(RelativePrimes(a, b) \\land (a \\mid c) \\land (b \\mid c))\n",
    "\\implies\n",
    "(ab \\mid c)\n",
    "\\,\\, ]\n",
    "$$\n",
    "\n",
    "<div style=\"color: red;\">A generalization of Euclid's lemma?</div>"
   ]
  },
  {
   "cell_type": "markdown",
   "metadata": {},
   "source": [
    "$Proof$ [Humphreys & Prest 1.1.6 pp. 13]\n",
    "\n",
    "> Since $a$ and $b$ are relatively prime there are integers $s$ and $t$ st $1 = as + bt$ by Bézout's identity.  \n",
    "> $1 = as + bt \\iff c = cas + cbt = a(cs) + bc(t)$.  \n",
    ">> Let $a \\mid bc$.  \n",
    ">> Since $a \\mid a$ and $a \\mid bc$ it is the case that $a \\mid a(cs) + bc(t) = c$.  \n",
    ">> $\\therefore a \\mid c$.  \n",
    ">  \n",
    ">> Let $a \\mid c$  \n",
    ">> Then there is an integer $m$ such that $am = c$.  \n",
    ">> Let $b \\mid c$  \n",
    ">> Then there is an integer $n$ such that $bn = c$.  \n",
    ">> $c = cas + cbt = (bn)as + (am)bt = ab(ns) + ab(mt) = ab(ns + mt) \\implies ab \\mid c$.  \n",
    ">> $\\therefore ab \\mid c$.  \n",
    ">  \n",
    ">  Alternatively  \n",
    ">> Let $a \\mid c$.  \n",
    ">> $a \\mid c \\implies ab \\mid cb \\implies ab \\mid cbt$.  \n",
    ">> Let $b \\mid c$.  \n",
    ">> $b \\mid c \\implies ab \\mid ac \\implies ab \\mid cas$.  \n",
    ">> $\\therefore ab \\mid cas + cbt = c$.  \n",
    "\n",
    "$\\blacksquare$"
   ]
  },
  {
   "cell_type": "markdown",
   "metadata": {},
   "source": [
    "<div style=\"background-color: red;\">\n",
    "\n",
    "$Claim$\n",
    "\n",
    "> $m$ and $n$ are relatively prime iff $m^2$ and $n^2$ are relatively prime.  \n",
    "> Let  \n",
    "\n",
    "$\n",
    "\\begin{aligned}\n",
    "m &= p_1^{a_1} \\times p_2^{a_2} \\times \\dots \\times p_r^{a_r} \\\\\n",
    "n &= p_1^{b_1} \\times p_2^{b_2} \\times \\dots \\times p_r^{b_r} \\\\\n",
    "\\end{aligned}\n",
    "$\n",
    "\n",
    "> $gcd(m, n) = 1$ implies that $b_i = 0$ whenever $a_i \\gt 0$ and vice versa.  \n",
    "\n",
    "$\n",
    "\\begin{aligned}\n",
    "m^2 &= p_1^{2a_1} \\times p_2^{2a_2} \\times \\dots \\times p_r^{2a_r} \\\\\n",
    "n^2 &= p_1^{2b_1} \\times p_2^{2b_2} \\times \\dots \\times p_r^{2b_r} \\\\\n",
    "\\end{aligned}\n",
    "$\n",
    "\n",
    "</div>"
   ]
  },
  {
   "cell_type": "markdown",
   "metadata": {},
   "source": [
    "---"
   ]
  },
  {
   "cell_type": "markdown",
   "metadata": {},
   "source": [
    "## Pythagorean Triples"
   ]
  },
  {
   "cell_type": "markdown",
   "metadata": {},
   "source": [
    "[DEFINITION - (fundamental) Pythagorean triples]\n",
    "\n",
    "Three integers $(x, y, z)$ which satisfy $x^2 + y^2 = z^2$ are called a Pythagorean triple. If they are all positive and have no common factors, then they are called a fundamental triple.\n",
    "\n",
    "$\n",
    "\\color{red}\\boxed{\n",
    "\\begin{aligned}\n",
    "& \\forall x, y, z \\in \\mathbb{P} \\,\\,\n",
    "(PythagoreanTriple(x, y, z) \\iff\n",
    "(x^2 + y^2 = z^2)) \\\\\n",
    "& \\forall x, y, z \\in \\mathbb{P} \\,\\,\n",
    "(FundamentalTriple(x, y, z) \\iff\n",
    "(PythagoreanTriple(x, y, z) \\land RelativePrimes(x, y, z) \\land (x, y, z \\gt 0))) \\\\\n",
    "& RelativePrimes(x, y, z) \\iff (RelativePrimes(x, y) \\land RelativePrimes(y, z) \\land RelativePrimes(x, z)) \\\\\n",
    "& (x, y, z \\gt 0) \\iff ((x \\gt 0) \\land (y \\gt 0) \\land (z \\gt 0)) \\\\\n",
    "\\end{aligned}\n",
    "}\n",
    "$\n",
    "\n",
    "Because of the symmetry in $x$ and $y$, $(x, y, z)$ and $(y, x, z)$ are considered to be the same triple.\n",
    "\n",
    "$\n",
    "\\begin{aligned}\n",
    "& (3,  4,  5) && \\text{fundamental} \\\\\n",
    "& (5, 12, 13) && \\text{fundamental} \\\\\n",
    "& (6,  8, 10) = 2 \\times (3,  4,  5) && \\text{Pythagorean} \\\\\n",
    "\\end{aligned}\n",
    "$"
   ]
  },
  {
   "cell_type": "markdown",
   "metadata": {},
   "source": [
    "---"
   ]
  },
  {
   "cell_type": "markdown",
   "metadata": {},
   "source": [
    "[PROBLEM]\n",
    "\n",
    "If we want to find all Pythagorean triples, it is sufficient to first find all fundamental triples and then take multiples of the fundamental triples."
   ]
  },
  {
   "cell_type": "markdown",
   "metadata": {},
   "source": [
    "## Euclid's Formula"
   ]
  },
  {
   "cell_type": "markdown",
   "metadata": {},
   "source": [
    "[THEOREM 1.3 - Euclid's Formula]\n",
    "\n",
    "Given any pair of relatively prime integers $(a, b)$ such that one of them is odd and the other even and $a \\gt b \\gt 0$, then\n",
    "\n",
    "$(a^2 - b^2, 2ab, a^2 + b^2)$\n",
    "\n",
    "is a fundamental triple.\n",
    "\n",
    "$\n",
    "\\color{red}\\boxed{\n",
    "\\forall a, b \\in \\mathbb{P} \\,\\,\n",
    "((RelativePrimes(a, b) \\land EvenOdd(a, b) \\land (a \\gt b \\gt 0)) \\implies FundamentalTriple(a^2 + b^2, 2ab, a^2 - b^2))\n",
    "}\n",
    "$\n",
    "\n",
    "$\n",
    "\\boxed{\n",
    "\\begin{aligned}\n",
    "& EvenOdd(a, b) \\iff ((Even(a) \\land Odd(b)) \\oplus (Odd(a) \\land Even(b))) \\\\\n",
    "& (a \\gt b \\gt 0) \\iff ((a \\gt b) \\land (b \\gt 0)) \\\\\n",
    "\\end{aligned}\n",
    "}\n",
    "$\n",
    "\n",
    "Furthermore, every fundamental triple is of this form.\n",
    "\n",
    "$\n",
    "\\color{red}\\boxed{\n",
    "\\forall x, y, z \\in \\mathbb{P} \\,\\,\n",
    "(FundamentalTriple(x, y, z) \\implies\n",
    "\\exists a, b \\in \\mathbb{P} \\,\\,\n",
    "(RelativePrimes(a, b) \\land EvenOdd(a, b) \\land (a \\gt b \\gt 0) \\land (x = a^2 + b^2) \\land (y = 2ab) \\land (z = a^2 - b^2)))\n",
    "}\n",
    "$"
   ]
  },
  {
   "cell_type": "markdown",
   "metadata": {},
   "source": [
    "Note that the first and third terms are odd and the second term is even.\n",
    "\n",
    "$$\n",
    "\\begin{align*}\n",
    "(Even(a) \\land Odd(b) ) & \\implies (Even(a^2) \\land Odd(b^2)  \\land Even(2ab) \\land Odd(a^2 - b^2) \\land Odd(a^2 + b^2)) \\\\\n",
    "(Odd(a)  \\land Even(b)) & \\implies (Odd(a^2)  \\land Even(b^2) \\land Even(2ab) \\land Odd(a^2 - b^2) \\land Odd(a^2 + b^2)) \\\\\n",
    "\\end{align*}\n",
    "$$"
   ]
  },
  {
   "cell_type": "markdown",
   "metadata": {},
   "source": [
    "First few fundamental triples\n",
    "\n",
    "$\n",
    "\\begin{aligned}\n",
    "& a = 2, b = 1 && (3,  4,  5) && (2^2 - 1^2, 2(2)(1), 2^2 + 1^2) = (4 - 1, 2 \\times 2, 4 + 1) \\\\\n",
    "& a = 3, b = 2 && (5, 12, 13) && (3^2 - 2^2, 2(3)(2), 3^2 + 2^2) = (9 - 4, 2 \\times 6, 9 + 4) \\\\\n",
    "& a = 4, b = 1 && (15, 8, 17) && (4^2 - 1^2, 2(4)(1), 4^2 + 1^2) = (16 - 1, 2 \\times 4, 16 + 1) \\\\\n",
    "& a = 4, b = 3 && (7, 24, 25) && (4^2 - 3^2, 2(4)(3), 4^2 + 3^2) = (16 - 9, 2 \\times 12, 16 + 9) \\\\\n",
    "& a = 5, b = 2 && (21, 20, 29) && (5^2 - 2^2, 2(5)(2), 5^2 + 2^2) = (25 - 4, 2 \\times 10, 25 + 4) \\\\\n",
    "& a = 5, b = 4 && (9, 40, 41) && (5^2 - 4^2, 2(5)(4), 5^2 + 4^2) = (25 - 16, 2 \\times 20, 25 + 16) \\\\\n",
    "& a = 6, b = 1 && (35, 12, 37) && (6^2 - 1^2, 2(6)(1), 6^2 + 1^2) = (36 - 1, 2 \\times 6, 36 + 1) \\\\\n",
    "& a = 6, b = 5 && (11, 60, 61) && (6^2 - 5^2, 2(6)(5), 6^2 + 5^2) = (36 - 25, 2 \\times 30, 36 + 25) \\\\\n",
    "& a = 7, b = 2 && (45, 28, 53) && (7^2 - 2^2, 2(7)(2), 7^2 + 2^2) = (49 - 4, 2 \\times 14, 49 + 4) \\\\\n",
    "& a = 7, b = 4 && (33, 56, 65) && (7^2 - 4^2, 2(7)(4), 7^2 + 4^2) = (49 - 16, 2 \\times 28, 49 + 16) \\\\\n",
    "& a = 7, b = 6 && (13, 84, 85) && (7^2 - 6^2, 2(7)(6), 7^2 + 6^2) = (49 - 36, 2 \\times 42, 49 + 36) \\\\\n",
    "& a = 8, b = 1 && (63, 16, 65) && (8^2 - 1^2, 2(8)(1), 8^2 + 1^2) = (64 - 1, 2 \\times 8, 64 + 1) \\\\\n",
    "& a = 8, b = 3 && (55, 48, 73) && (8^2 - 3^2, 2(8)(3), 8^2 + 3^2) = (64 - 9, 2 \\times 24, 64 + 9) \\\\\n",
    "& a = 8, b = 5 && (39, 80, 89) && (8^2 - 5^2, 2(8)(5), 8^2 + 5^2) = (64 - 25, 2 \\times 40, 64 + 25) \\\\\n",
    "& a = 8, b = 7 && (15, 112, 113) && (8^2 - 7^2, 2(8)(7), 8^2 + 7^2) = (64 - 49, 2 \\times 56, 64 + 49) \\\\\n",
    "& a = 9, b = 2 && (77, 36, 85) && (9^2 - 2^2, 2(9)(2), 9^2 + 2^2) = (81 - 4, 2 \\times 18, 81 + 4) \\\\\n",
    "& a = 9, b = 4 && (65, 72, 97) && (9^2 - 4^2, 2(9)(4), 9^2 + 4^2) = (81 - 16, 2 \\times 36, 81 + 16) \\\\\n",
    "\\end{aligned}\n",
    "$"
   ]
  },
  {
   "cell_type": "markdown",
   "metadata": {},
   "source": [
    "$Proof$\n",
    "\n",
    "1\n",
    "\n",
    "That $(a^2 - b^2, 2ab, a^2 + b^2)$ is a fundamental triple for any pair of relatively prime integers $(a, b)$ such that one of them is odd and the other even and $a \\gt b \\gt 0$.\n",
    "\n",
    "Let $a \\gt b$ be two positive integers.\n",
    "\n",
    "Then $a^2 - b^2$, $2ab$, and $a^2 + b^2$ are positive integers and\n",
    "\n",
    "$\n",
    "\\begin{aligned}\n",
    "(a^2 - b^2)^2 + (2ab)^2 &= (a^2 + b^2)^2 \\\\\n",
    "a^4 - 2a^2b^2 + b^4 + 4a^2b^2 &= a^4 + 2a^2b^2 + b^4 \\\\\n",
    "\\end{aligned}\n",
    "$\n",
    "\n",
    "$Proof \\,\\, by \\,\\, contradiction$\n",
    "\n",
    "2\n",
    "\n",
    "That a triple is fundamental iff it has the form $(a^2 - b^2, 2ab, a^2 + b^2)$ for a pair of relatively prime integers $(a, b)$ such that one of them is odd and the other even and $a \\gt b \\gt 0$.\n",
    "\n",
    "Let $(x, y, z)$ be a fundamental triple. Then it follows from the definition of a fundamental triple that since $x$, $y$, and $z$ are not all even, at most one of them is even.\n",
    "\n",
    "Assume $x$ and $y$ are both odd. Then $x^2$ and $y^2$ are each one more than a multiple of $4$ and so $z^2$ must be two more than a multiple of $4$.\n",
    "\n",
    "$\n",
    "\\begin{aligned}\n",
    "x   &=  2k + 1    \\\\\n",
    "x^2 &= (2k + 1)^2 \\\\\n",
    "    &= 4(k^2 + k) + 1 \\\\\n",
    "    &= 4\\ell + 1 && \\text{for integer} \\, \\ell = k^2 + k \\\\\n",
    "\\end{aligned}\n",
    "$\n",
    "\n",
    "$\n",
    "\\begin{aligned}\n",
    "z^2\n",
    "&= x^2 + y^2 \\\\\n",
    "&= (4\\ell + 1) + (4\\mathcal{m} + 1) \\\\\n",
    "&= 4\\mathcal{n} + 2 && \\text{for integer} \\, \\mathcal{n} = \\ell + \\mathcal{m} \\\\\n",
    "&= 2(2\\mathcal{n} + 1) \\\\\n",
    "2 &\\mid z^2 \\\\\n",
    "2 \\mid z^2 &\\rightarrow 4 \\mid z^2 && \\text{Euclid's lemma} \\\\\n",
    "4 &\\mid z^2 && \\text{modus ponens} \\\\\n",
    "z^2 &\\ne 4n && \\text{contradiction} \\\\\n",
    "\\end{aligned}\n",
    "$\n",
    "\n",
    "Therefore, either $x$ or $y$ is even. By symmetry in $x$ and $y$ we can assume it is $y = 2m$ that is even.\n",
    "\n",
    "$\n",
    "\\begin{aligned}\n",
    "y^2 &= z^2 - x^2 \\\\\n",
    "&= (z - x) \\times (z + x) \\\\\n",
    "m^2 &= \\frac{z - x}{2} \\times \\frac{z + x}{2}\n",
    "\\end{aligned}\n",
    "$\n",
    "\n",
    "Since $x$ and $z$ are each odd, both $\\frac{x - z}{2}$ and $\\frac{x + z}{2}$ are integers and they are relatively prime because any common divisor would have to divide both their sum and their difference, but $x$ and $z$ have no common divisors from the definition of a fundamental triple.\n",
    "\n",
    "$\n",
    "\\begin{aligned}\n",
    "\\frac{z - x}{2} + \\frac{z + x}{2} &= z \\\\\n",
    "\\frac{z - x}{2} - \\frac{z + x}{2} &= x \\\\\n",
    "\\end{aligned}\n",
    "$\n",
    "\n",
    "$\n",
    "\\begin{aligned}\n",
    "p \\mid \\frac{z - x}{2} &\\rightarrow p \\mid m^2 \\\\\n",
    "p \\mid m^2 &\\rightarrow p^2 \\mid m^2 && \\text{Euclid's lemma} \\\\\n",
    "\\end{aligned}\n",
    "$\n",
    "\n",
    "Since $p \\nmid \\frac{z + x}{2}$ it must be the case that $p^2 \\mid \\frac{z - x}{2}$.\n",
    "\n",
    "Thus the factorization will only have even exponents which is another way of saying that $\\frac{z - x}{2}$ is a perfect square. Similarly, $\\frac{z + x}{2}$ is a perfect square.\n",
    "\n",
    "$\n",
    "\\begin{aligned}\n",
    "\\frac{z + x}{2} &= a^2 \\\\\n",
    "\\frac{z - x}{2} &= b^2 \\\\\n",
    "\\end{aligned}\n",
    "$\n",
    "\n",
    "$a$ and $b$ are relatively prime.\n",
    "\n",
    "Since $a^2 + b^2 = z$ is odd, one of $a$ or $b$ is odd and the other is even.\n",
    "\n",
    "$\n",
    "\\begin{aligned}\n",
    "x &= a^2 - b^2 \\\\\n",
    "y &= \\sqrt{z^2 - x^2} \\\\\n",
    "  &= \\sqrt{(a^4 + 2a^2b^2 + b^4) - (a^4 - 2a^2b^2 + b^4)} \\\\\n",
    "  &= 2ab \\\\\n",
    "z &= a^2 + b^2 \\\\\n",
    "\\end{aligned}\n",
    "$\n",
    "\n",
    "$\\blacksquare$"
   ]
  },
  {
   "cell_type": "markdown",
   "metadata": {},
   "source": [
    "---"
   ]
  },
  {
   "cell_type": "markdown",
   "metadata": {},
   "source": [
    "## The Fundamental Theorem of Arithmetic\n",
    "or the Unique Factorization Theorem for Integers"
   ]
  },
  {
   "cell_type": "markdown",
   "metadata": {},
   "source": [
    "$Theorem$ [Bressoud 1.4 pp. 5]\n",
    "\n",
    "> Factorization into primes is unique up to order.  "
   ]
  },
  {
   "cell_type": "markdown",
   "metadata": {},
   "source": [
    "$Example$ [Bressoud]\n",
    "\n",
    "There may be several ways of ordering the primes that go into a factorization, but we cannot change the primes that go into the factorization.\n",
    "\n",
    "$\n",
    "\\begin{aligned}\n",
    "30\n",
    "&= 2 \\times 3 \\times 5 \\\\\n",
    "&= 3 \\times 5 \\times 2 \\\\\n",
    "&= 5 \\times 2 \\times 3 \\\\\n",
    "\\end{aligned}\n",
    "$\n",
    "\n",
    "This does not hold for the extended integers (of the form $m + n \\sqrt{10}$).\n",
    "\n",
    "$\n",
    "\\begin{aligned}\n",
    "6\n",
    "&= 2 \\times 3 \\\\\n",
    "&= (4 + \\sqrt{10}) \\times (4 - \\sqrt{10}) \\\\\n",
    "\\end{aligned}\n",
    "$"
   ]
  },
  {
   "cell_type": "markdown",
   "metadata": {},
   "source": [
    "$Proof$ [Bressoud]\n",
    "\n",
    "Sketch of the proof. It will be proved that every integer with non-unique factorization has a proper divisor with non-unique factorization. If there were integers with non-unique factorization, then there would eventually be a prime with non-unique factorization. This contradicts the definition of a prime, that a prime has no divisors other than itself and unity.\n",
    "\n",
    "> Let $n$ be an integer with non-unique (but distinct) factorization $n = p_1 \\times p_2 \\times \\dots \\times p_r = q_1 \\times q_2 \\times \\dots \\times q_r$ where the primes are not necessarily distinct, but where the second factorization is not simply a reordering of the first.  \n",
    "> The prime $q_1$ divides $n$ and so it divides the product of the $p_i$ s.  \n",
    "\n",
    "$\n",
    "\\begin{aligned}\n",
    "q_1 &\\mid n \\\\\n",
    "q_1 &\\mid (p_1 \\times p_2 \\times \\dots \\times p_r) \\\\\n",
    "q_1 &\\mid p_i && p_i \\in \\{ p_1, p_2, \\dots, p_r \\} \\, \\text{by repeated application of Euclid's lemma} \\\\\n",
    "q_1 &\\mid p_1 && \\text{by reordering of the} \\, p_i \\, \\text{s} \\\\\n",
    "q_1 &= p_1 && \\text{since} \\, Prime(p_1) \\\\\n",
    "\\end{aligned}\n",
    "$\n",
    "\n",
    "$\n",
    "\\begin{aligned}\n",
    "\\frac{n}{q_1}\n",
    "&= p_2 \\times p_3 \\times \\dots \\times p_r \\\\\n",
    "&= q_2 \\times q_3 \\times \\dots \\times q_s \\\\\n",
    "\\end{aligned}\n",
    "$\n",
    "\n",
    "Since the factorizations of $n$ are distinct, the factorizations of $\\frac{n}{q_1}$ are distinct.\n",
    "\n",
    "Therefore $\\frac{n}{q_1}$ is a proper divisor of $n$ with non-unique factorization.\n",
    "\n",
    "$\\blacksquare$"
   ]
  },
  {
   "cell_type": "markdown",
   "metadata": {},
   "source": [
    "The following theorem says that, in some sense, the primes are the multiplicative building blocks from which every (positive) integer may be produced in a unique way. Therefore positive integers, other than $1$, which are not prime are referred to as composite.\n",
    "\n",
    "$Theorem$ [Humphreys & Prest pp. 28] Euclid's Elements Book VII Proposition 31.\n",
    "\n",
    "> Every positive integer $n$ greater than or equal to $2$ may be written in the form $n = p_1 p_2 \\dots p_r$ where the integers $n = p_1, p_2, \\dots, p_r$ are prime numbers (which need not be distinct) and $r \\ge 1$. This factorization is unique in the sense that if also $n = q_1 q_2 \\dots q_s$ where $q_1, q_2, \\dots, q_s$ are primes, then $r = s$ and we can renumber the $q_i$ so that $q_i = p_i$ for $i = 1, 2, \\dots, r$. In other words, up to rearrangement, there is just one way of writing a positive integer as a product of primes.  "
   ]
  },
  {
   "cell_type": "markdown",
   "metadata": {},
   "source": [
    "The idea of the following proof is as follows. If $n$ is not prime then factor it as $ab$. If $a$ is not prime then factor it and if $b$ is not prime then factor it. Continue splitting any factors which are not prime. This cannot go on forever because the integers we produce are decreasing and each factorization gives strictly smaller numbers: the process eventually stops with a product of primes.\n",
    "\n",
    "$Proof \\,\\, of \\,\\, the \\,\\, existence \\,\\, of \\,\\, the \\,\\, decomposition$ [Humphreys & Prest pp. 28-29]\n",
    "\n",
    "Show by strong induction that every positive integer greater than or equal to $2$ has a factorization as a product of primes.\n",
    "\n",
    "> Base Case  \n",
    ">> $n = 2$ is prime.  \n",
    ">  \n",
    "> For $n \\gt 2$ either $n$ is prime in which case $n$ has a factorization (with just one factor) of the required form or $n$ can be written as a product $ab$ where $1 \\lt a \\lt n$ and $1 \\lt b \\lt n$.  \n",
    ">  \n",
    "> Induction Step  \n",
    ">> Induction Hypothesis: Let $a$ and $b$ both have factorizations into primes.  \n",
    ">> We obtain a factorization of $n$ as a product of primes by juxtaposing the factorizations of $a$ and $b$.  \n",
    ">  \n",
    "> Therefore every positive integer greater than or equal to $2$ has a factorization as a product of primes.  \n",
    "\n",
    "$\\blacksquare$\n",
    "\n",
    "</div>"
   ]
  },
  {
   "cell_type": "markdown",
   "metadata": {},
   "source": [
    "$Examples$ [Humphreys & Prest pp. 29-30]\n",
    "\n",
    "$$\n",
    "\\begin{align*}\n",
    "  4 &= 2^2 \\\\\n",
    "  6 &= 2^1 \\times 3^1 \\\\\n",
    "  8 &= 2^3 \\\\\n",
    "    &= (2) \\times (2 \\times 2) = 2 \\times 4 \\\\\n",
    "  9 &= 2^0 \\times 3^2 \\\\\n",
    " 10 &= 2^1 \\times 3^0 \\times 5^1 \\\\\n",
    " 12 &= 2^2 \\times 3^1 \\\\\n",
    "    &= (2) \\times (2 \\times 3) = 2 \\times 6 \\\\\n",
    "    &= (2 \\times 2) \\times (3) = 4 \\times 3 \\\\\n",
    " 14 &= 2^1 \\times 3^0 \\times 5^0 \\times 7^1 \\\\\n",
    " 15 &= 2^0 \\times 3^1 \\times 5^1 \\\\\n",
    " 16 &= 2^4 \\\\\n",
    "    &= (2) \\times (2 \\times 2 \\times 2) = 2 \\times 8 \\\\\n",
    "    &= (2 \\times 2) \\times (2 \\times 2) = 4 \\times 4 \\\\\n",
    " 18 &= 2^1 \\times 3^2 \\\\\n",
    "    &= (2) \\times (3 \\times 3) = 2 \\times 9 \\\\\n",
    "    &= (2 \\times 3) \\times (3) = 6 \\times 3 \\\\\n",
    " 20 &= 2^2 \\times 3^0 \\times 5^1 \\\\\n",
    "    &= (2) \\times (2 \\times 5) = 2 \\times 10 \\\\\n",
    "    &= (2 \\times 2) \\times (5) = 4 \\times  5 \\\\\n",
    " 21 &= 2^0 \\times 3^1 \\times 5^0 \\times 7^1 \\\\\n",
    " 22 &= 2^1 \\times 3^0 \\times 5^0 \\times 7^0 \\times 11^1 \\\\\n",
    " 24 &= 2^3 \\times 3^1 \\\\\n",
    "    &= (2) \\times (2 \\times 2 \\times 3) = 2 \\times 12 \\\\\n",
    "    &= (2 \\times 2) \\times (2 \\times 3) = 4 \\times  6 \\\\\n",
    "    &= (2 \\times 2 \\times 2) \\times (3) = 8 \\times  3 \\\\\n",
    " 25 &= 2^0 \\times 3^0 \\times 5^2 \\\\\n",
    " 26 &= 2^1 \\times 3^0 \\times 5^0 \\times 7^0 \\times 11^0 \\times 13^1 \\\\\n",
    " 28 &= 2^2 \\times 3^0 \\times 5^0 \\times 7^1 \\\\\n",
    "    &= (2) \\times (2 \\times 7) = 2 \\times 14 \\\\\n",
    "    &= (2 \\times 2) \\times (7) = 4 \\times 7 \\\\\n",
    " 30 &= 2^1 \\times 3^1 \\times 5^1 \\\\\n",
    "    &= (2) \\times (3 \\times 5) = 2 \\times 15 \\\\\n",
    "    &= (2 \\times 3) \\times (5) = 6 \\times  5 \\\\\n",
    "\\vdots \\\\\n",
    " 72 &= 2^3 \\times 3^2 \\\\\n",
    "    &= (2) \\times (2 \\times 2 \\times 3 \\times 3) =  2 \\times 36 \\\\\n",
    "    &= (2 \\times 2) \\times (2 \\times 3 \\times 3) =  4 \\times 18 \\\\\n",
    "    &= (2 \\times 2 \\times 2) \\times (3 \\times 3) =  8 \\times  9 \\\\\n",
    "    &= (2 \\times 2 \\times 2 \\times 3) \\times (3) = 24 \\times  3 \\\\\n",
    "\\vdots \\\\\n",
    "588 &= 2^2 \\times 3^1 \\times 5^0 \\times 7^2 \\\\\n",
    "    &= (2) \\times (2 \\times 3 \\times 7 \\times 7) =  2 \\times 294 \\\\\n",
    "    &= (3) \\times (2 \\times 2 \\times 7 \\times 7) =  3 \\times 196 \\\\\n",
    "    &= (7) \\times (2 \\times 2 \\times 3 \\times 7) =  7 \\times  84 \\\\\n",
    "    &= (2 \\times 2) \\times (3 \\times 7 \\times 7) =  4 \\times 147 \\\\\n",
    "    &= (2 \\times 3) \\times (2 \\times 7 \\times 7) =  6 \\times  98 \\\\\n",
    "    &= (2 \\times 7) \\times (2 \\times 3 \\times 7) = 14 \\times  42 \\\\\n",
    "    &= (2 \\times 2 \\times 3) \\times (7 \\times 7) = 12 \\times  49 \\\\\n",
    "    &= (2 \\times 2 \\times 7) \\times (3 \\times 7) = 28 \\times  21 \\\\\n",
    "\\end{align*}\n",
    "$$"
   ]
  },
  {
   "cell_type": "markdown",
   "metadata": {},
   "source": [
    "This proof is based on the observation that if a prime divides one side of the equation then it divides the other, so we can cancel it from each side. This process eventually stops with the equation $1 = 1$. Therefore there must have been the same number of primes, and indeed the same primes, on each side of the original equation.\n",
    "\n",
    "$Proof \\,\\, of \\,\\, uniqueness$ [Humphreys & Prest pp. 28-29]\n",
    "\n",
    "Use the standard form of mathematical induction on the number $r$ of prime factors to show that any positive integer which has a factorization into a product of $r$ primes has a unique factorization up to rearrangement.\n",
    "\n",
    "> Base Case  \n",
    ">> Let $n = q_1 q_2 \\dots q_s$ be a prime.  \n",
    ">> If we had $s \\ge 2$ then $n$ would have distinct divisors $1, q_1, q_1q_2$ contradicting that it is prime.  \n",
    ">> Therefore $s = 1$.  \n",
    ">  \n",
    "> Induction Step  \n",
    ">> Induction Hypothesis: Any positive integer greater than $2$ which has a factorization into $r - 1$ primes has a unique factorization.  \n",
    ">> Let $n = p_1 p_2 \\dots p_r = q_1 q_2 \\dots q_s$ be two prime factorizations of $n$.  \n",
    ">> $p_1$ divides $n$ implies that $p_1$ divides one of $q_1, q_2, \\dots, q_s$.  \n",
    ">> We can renumber the $q_i$ so that it is $q_1$ that $p_1$ divides.  \n",
    ">> It must be the case that $p_1 = q_1$ since both $p_1$ and $q_1$ are prime.  \n",
    ">> Therefore $p_2 p_3 \\dots p_r = q_2 q_3 \\dots q_s$.  \n",
    ">> The integer $p_2 p_3 \\dots p_r$ is a product of $r - 1$ primes.  \n",
    ">> Therefore $r - 1 = s - 1 \\iff r = s$ and after renumbering $p_i = q_i$ for $i = 2, \\dots, r$.  \n",
    ">> Since we already have $p_1 = q_1$ we have $p_i = q_i$ for $i = 1, 2, \\dots, r$.  \n",
    ">  \n",
    "> Therefore any positive integer has a unique factorization up to rearrangement.  \n",
    "\n",
    "$\\blacksquare$"
   ]
  },
  {
   "cell_type": "markdown",
   "metadata": {},
   "source": [
    "---"
   ]
  },
  {
   "cell_type": "markdown",
   "metadata": {},
   "source": [
    "## Infinitely many primes"
   ]
  },
  {
   "cell_type": "markdown",
   "metadata": {},
   "source": [
    "$Corollary$ [Humphreys & Prest 1.3.4 pp. 29] Euclid's Elements Book IX Proposition 20\n",
    "\n",
    "> There are infinitely many prime integers.  \n",
    "> In other words, there is no largest prime.  \n",
    "\n",
    "$$\n",
    "\\forall p \\in \\mathbb{P} \\,\\,\n",
    "[\\,\\,\n",
    "Prime(p) \\implies\n",
    "\\exists q \\in \\mathbb{P} \\,\\,\n",
    "[\\,\\,\n",
    "Prime(q) \\land (q \\gt p)\n",
    "\\,\\,]\n",
    "\\,\\,]\n",
    "$$"
   ]
  },
  {
   "cell_type": "markdown",
   "metadata": {},
   "source": [
    "$Proof$ [Humphreys & Prest pp. 29-30]\n",
    "\n",
    "> Choose any positive integer $n$ and let $p_1, p_2, \\dots, p_n$ be the first $n$ prime numbers.  \n",
    "> We will show that there is a prime number different from each of $p_1, p_2, \\dots, p_n$. Since $n$ may be chosen as large as we like, this will show that there are not just finitely many primes.  \n",
    "> Define the number $N = (p_1 p_2 \\dots p_n) + 1$ which need not itself be prime.  \n",
    "> $N$ has remainder $1$ when divided by each of $p_1, p_2, \\dots, p_n$; in particular, none of $p_1, p_2, \\dots, p_n$ divides $N$ exactly.  \n",
    "> $N$ has a prime divisor $p$ by the fundamental theorem of arithmetic.  \n",
    "> Since $p \\mid N$ it cannot be the case that $p$ is equal to any of $p_1, p_2, \\dots, p_n$.  \n",
    "> Therefore we have shown that there exists a prime which is not in our original list.  \n",
    "\n",
    "$\\blacksquare$\n",
    "\n",
    "The idea of this proof is to show how, given any finite set of primes, we can construct a number greater than or equal to $2$ which is not divisible by any of them and which, therefore, must have a prime factor not in our original set.\n",
    "\n",
    "The integer $N$ defined in the proof need not itself be prime: we simply showed that it has a prime divisor not equal to any of $p_1, p_2, \\dots, p_n$. In principle, one may find a $p$ as in the proof by factorizing $N$. So the proof is, in principle, a recipe which, given any finite list of primes, will produce a new prime not already in the list."
   ]
  },
  {
   "cell_type": "markdown",
   "metadata": {},
   "source": [
    "---"
   ]
  },
  {
   "cell_type": "markdown",
   "metadata": {},
   "source": [
    "## GCD and LCM as prime factorizations"
   ]
  },
  {
   "cell_type": "markdown",
   "metadata": {},
   "source": [
    "$Corollary$ [Humphreys & Prest 1.3.5 pp. 30-31]\n",
    "\n",
    "> Let $a$ and $b$ be positive integers.  \n",
    "> Let $a = p_1^{n_1} p_2^{n_2} \\dots p_r^{n_r}$ and $b = p_1^{m_1} p_2^{m_2} \\dots p_r^{m_r}$ be the prime factorizations of $a$ and $b$ where $p_1, p_2, \\dots, p_r$ are distinct primes and $n_1, n_2, \\dots, n_r, m_1, m_2, \\dots, m_r$ are non-negative integers (some perhaps zero in order to allow a common list of primes to be used).  \n",
    "> Then the greatest common divisor $d$ of $a$ and $b$ is given by $d = p_1^{k_1} p_2^{k_2} \\dots p_r^{k_r}$ where for each $i$, $k_i$ is the smaller of $n_i$ and $m_i$, and the least common multiple $f$ of $a$ and $b$ is given by $f = p_1^{t_1} p_2^{t_2} \\dots p_r^{t_r}$ where for each $i$, $t_i$ is the larger of $n_i$ and $m_i$.  "
   ]
  },
  {
   "cell_type": "markdown",
   "metadata": {},
   "source": [
    "$Proof$ [Humphreys & Prest pp. 31]\n",
    "\n",
    "$\\blacksquare$"
   ]
  },
  {
   "cell_type": "markdown",
   "metadata": {},
   "source": [
    "$Examples$ [Humphreys & Prest pp. 31-32]\n",
    "\n",
    "> $2$ and $3$\n",
    "\n",
    "$$\n",
    "\\begin{align*}\n",
    "a &= 2 &&= 2^1 \\times 3^0 \\\\\n",
    "b &= 3 &&= 2^0 \\times 3^1 \\\\\n",
    "\\hline\n",
    "gcd(a, b) &= 1 &&= 2^0 \\times 3^0 \\\\\n",
    "lcm(a, b) &= 6 &&= 2^1 \\times 3^1 \\\\\n",
    "\\end{align*}\n",
    "$$\n",
    "\n",
    "> $2$ and $4$\n",
    "\n",
    "$$\n",
    "\\begin{align*}\n",
    "a &= 2 &&= 2^1 \\\\\n",
    "b &= 4 &&= 2^2 \\\\\n",
    "\\hline\n",
    "gcd(a, b) &= 2 &&= 2^1 \\\\\n",
    "lcm(a, b) &= 4 &&= 2^2 \\\\\n",
    "\\end{align*}\n",
    "$$\n",
    "\n",
    "> $56$ and $84$\n",
    "\n",
    "$$\n",
    "\\begin{align*}\n",
    "a &= 56 &&= 2^3 \\times 3^0 \\times 7^1 \\\\\n",
    "b &= 84 &&= 2^2 \\times 3^1 \\times 7^1 \\\\\n",
    "\\hline\n",
    "gcd(a, b) &=  28 &&= 2^2 \\times 3^0 \\times 7^1 \\\\\n",
    "lcm(a, b) &= 168 &&= 2^3 \\times 3^1 \\times 7^1 \\\\\n",
    "\\end{align*}\n",
    "$$\n",
    "\n",
    "> $135$ and $639$\n",
    "\n",
    "$$\n",
    "\\begin{align*}\n",
    "a &= 135 &&= 3^3 \\times 5^1 \\times 71^0 \\\\\n",
    "b &= 639 &&= 3^2 \\times 5^0 \\times 71^1 \\\\\n",
    "\\hline\n",
    "gcd(a, b) &=    9 &&= 3^2 \\times 5^0 \\times 71^0 \\\\\n",
    "lcm(a, b) &= 9585 &&= 3^3 \\times 5^1 \\times 71^1 \\\\\n",
    "\\end{align*}\n",
    "$$"
   ]
  },
  {
   "cell_type": "markdown",
   "metadata": {},
   "source": [
    "---"
   ]
  },
  {
   "cell_type": "markdown",
   "metadata": {},
   "source": [
    "## Fermat Primes"
   ]
  },
  {
   "cell_type": "markdown",
   "metadata": {},
   "source": [
    "$Claim$\n",
    "\n",
    "> If $2^n + 1$ is prime where $n \\ge 1$ then $n$ must be of the form $2^k$ for some positive integer $k$.  \n",
    "\n",
    "$$\n",
    "\\begin{align*}\n",
    "F(k) &= 2^{2^k} + 1 \\\\\n",
    "F(0) &= 2^{2^0} + 1 = 3 && \\text{prime} \\\\\n",
    "F(1) &= 2^{2^1} + 1 = 5 && \\text{prime} \\\\\n",
    "F(2) &= 2^{2^2} + 1 = 17 && \\text{prime} \\\\\n",
    "F(3) &= 2^{2^3} + 1 = 257 && \\text{prime} \\\\\n",
    "F(4) &= 2^{2^4} + 1 = 65,537 && \\text{prime} \\\\\n",
    "F(5) &= 2^{2^5} + 1 = 4,294,967,297 && \\text{composite} \\\\\n",
    "F(6) &= 2^{2^6} + 1 = 18,446,744,073,709,551,617 && \\text{composite} \\\\\n",
    "\\vdots\n",
    "\\end{align*}\n",
    "$$"
   ]
  },
  {
   "cell_type": "markdown",
   "metadata": {},
   "source": [
    "---"
   ]
  },
  {
   "cell_type": "markdown",
   "metadata": {},
   "source": [
    "## Mersenne Primes"
   ]
  },
  {
   "cell_type": "markdown",
   "metadata": {},
   "source": [
    "<div style=\"full-width\">\n",
    "\n",
    "$Claim$\n",
    "\n",
    "> If $2^n - 1$ is prime then $n$ is prime.  \n",
    "\n",
    "$$\n",
    "\\begin{align*}\n",
    "M(n) &= 2^n - 1 \\\\\n",
    "M(2) &= 2^2 - 1 = 3 && \\text{prime} \\\\\n",
    "M(3) &= 2^3 - 1 = 7 && \\text{prime} \\\\\n",
    "M(5) &= 2^5 - 1 = 31 && \\text{prime} \\\\\n",
    "M(7) &= 2^7 - 1 = 127 && \\text{prime} \\\\\n",
    "M(11) &= 2^{11} - 1 = 2,047 = 23 \\times 89 && \\text{composite} \\\\\n",
    "M(13) &= 2^{13} - 1 = 8,191 && \\text{prime} \\\\\n",
    "M(17) &= 2^{17} - 1 = 131,071 && \\text{prime} \\\\\n",
    "M(19) &= 2^{19} - 1 = 524,287 && \\text{prime} \\\\\n",
    "M(23) &= 2^{23} - 1 = 8,388,607 = 47 × 178,481 && \\text{composite} \\\\\n",
    "M(29) &= 2^{29} - 1 = 536,870,911 = 233 × 1,103 × 2,089 && \\text{composite} \\\\\n",
    "M(31) &= 2^{31} - 1 = 2,147,483,647 && \\text{prime} \\\\\n",
    "M(37) &= 2^{37} - 1 = 137,438,953,471 = ? \\times ? && \\text{composite} \\\\\n",
    "M(41) &= \\\\\n",
    "M(43) &= \\\\\n",
    "M(47) &= \\\\\n",
    "M(53) &= \\\\\n",
    "M(59) &= \\\\\n",
    "M(61) &= \\\\\n",
    "M(71) &= \\\\\n",
    "M(73) &= \\\\\n",
    "M(79) &= \\\\\n",
    "M(83) &= \\\\\n",
    "M(89) &= \\\\\n",
    "M(97) &= \\\\\n",
    "\\vdots \\\\\n",
    "M(13,466,917) &= 2^{13,466,917} - 1 = \\text{4,000,000-digit integer (2001)} \\\\\n",
    "\\vdots \\\\\n",
    "M(82,589,933) &= 2^{82,589,933} - 1 = \\text{24,862,048-digit integer (2018)} \\\\\n",
    "\\end{align*}\n",
    "$$\n",
    "\n",
    "</div>"
   ]
  },
  {
   "cell_type": "markdown",
   "metadata": {},
   "source": [
    "---"
   ]
  },
  {
   "cell_type": "markdown",
   "metadata": {},
   "source": [
    "## Goldbach's Conjecture"
   ]
  },
  {
   "cell_type": "markdown",
   "metadata": {},
   "source": [
    "$Conjecture$\n",
    "\n",
    "> Every even number greater than two can be expressed as the sum of two primes.  \n",
    "\n",
    "$$\n",
    "\\forall n \\in \\mathbb{P} \\,\\,\n",
    "[\\,\\,\n",
    "(Even(n) \\land (n \\gt 2)) \\implies\n",
    "\\exists p, q \\in \\mathbb{P} \\,\\,\n",
    "[\\,\\,\n",
    "Prime(p) \\land Prime(q) \\land (n = p + q)\n",
    "\\,\\,]\n",
    "\\,\\,]\n",
    "$$"
   ]
  },
  {
   "cell_type": "markdown",
   "metadata": {},
   "source": [
    "<div style=\"full-width\">\n",
    "\n",
    "$Examples$\n",
    "\n",
    "$4 = 2 + 2$ is the only even integer greater than $2$ which is the sum of the prime $2$ and another prime (in this case, $2$ too).\n",
    "\n",
    "$$\n",
    "\\begin{array}{c|c|c|c|c|c|c|c|c|c|c}\n",
    " 6 =& 3 \\\\ \\hline\n",
    " 8 =& 3 & 5 \\\\ \\hline\n",
    "10 =& & 5 \\\\ \\hline\n",
    "12 =& & 5 & 7 \\\\ \\hline\n",
    "14 =& & & 7 \\\\ \\hline\n",
    "16 =& 3 & & & & 13 \\\\ \\hline\n",
    "    & & 5 & & 11 \\\\ \\hline\n",
    "18 =& & 5 & & & 13 \\\\ \\hline\n",
    "    & & & 7 & 11 \\\\ \\hline\n",
    "20 =& 3 & & & & & 17 \\\\ \\hline\n",
    "    & & & 7 & & 13 \\\\ \\hline\n",
    "22 =& 3 & & & & & & 19 \\\\ \\hline\n",
    "    & & 5 & & & & 17 \\\\ \\hline\n",
    "    & & & & 11 \\\\ \\hline\n",
    "24 =& & 5 & & & & & 19 \\\\ \\hline\n",
    "    & & & 7 & & & 17 \\\\ \\hline\n",
    "    & & & & 11 & 13 \\\\ \\hline\n",
    "26 =& 3 & & & & & & & 23 \\\\ \\hline\n",
    "    & & & 7 & & & & 19 \\\\ \\hline\n",
    "    & & & & & 13 \\\\ \\hline\n",
    "28 =& & 5 & & & & & & 23 \\\\ \\hline\n",
    "    & & & & 11 & & 17 \\\\ \\hline\n",
    "30 =& & & 7 & & & & & 23 \\\\ \\hline\n",
    "    & & & & 11 & & & 19 \\\\ \\hline\n",
    "    & & & & & 13 & 17 \\\\ \\hline\n",
    "\\end{array}\n",
    "$$\n",
    "\n",
    "</div>"
   ]
  },
  {
   "cell_type": "markdown",
   "metadata": {},
   "source": [
    "---"
   ]
  },
  {
   "cell_type": "markdown",
   "metadata": {},
   "source": [
    "## Twin Primes Conjecture"
   ]
  },
  {
   "cell_type": "markdown",
   "metadata": {},
   "source": [
    "> There are infinitely many pairs $(x, y)$ s.t. $x$ and $y$ are both prime and $y = x + 2$.  \n",
    "\n",
    "$$\n",
    "\\color{red}\n",
    "\\begin{aligned}\n",
    "& \\forall x, y \\in \\mathbb{P} \\,\\,\n",
    "(TwinPrimes(x, y) \\iff (Prime(x) \\land Prime(y) \\land (y = x + 2))) \\\\\n",
    "& \\forall x, y \\in \\mathbb{P} \\,\\,\n",
    "(TwinPrimes(x, y) \\implies \\exists a, b \\in \\mathbb{P} \\,\\,\n",
    "((a \\gt x) \\land TwinPrimes(a, b)))\n",
    "\\end{aligned}\n",
    "$$"
   ]
  },
  {
   "cell_type": "markdown",
   "metadata": {},
   "source": [
    "---"
   ]
  },
  {
   "cell_type": "markdown",
   "metadata": {},
   "source": [
    "## Bounded Gap Theorem"
   ]
  },
  {
   "cell_type": "markdown",
   "metadata": {},
   "source": [
    "> There are infinitely many pairs of primes that differ by at most $70,000,000$.  \n",
    "\n",
    "$$\n",
    "\\color{red}\n",
    "\\begin{aligned}\n",
    "& \\forall x, y \\in \\mathbb{P} \\,\\,\n",
    "(BoundedGapPrimes(x, y) \\iff (Prime(x) \\land Prime(y) \\land (abs(y - x) \\le 70,000,000))) \\\\\n",
    "& \\forall x, y \\in \\mathbb{P} \\,\\,\n",
    "(BoundedGapPrimes(x, y) \\implies \\exists a, b \\in \\mathbb{P} \\,\\,\n",
    "((a \\gt x) \\land BoundedGapPrimes(a, b)))\n",
    "\\end{aligned}\n",
    "$$"
   ]
  },
  {
   "cell_type": "markdown",
   "metadata": {},
   "source": [
    "---"
   ]
  }
 ],
 "metadata": {
  "kernelspec": {
   "display_name": "ml",
   "language": "python",
   "name": "python3"
  },
  "language_info": {
   "codemirror_mode": {
    "name": "ipython",
    "version": 3
   },
   "file_extension": ".py",
   "mimetype": "text/x-python",
   "name": "python",
   "nbconvert_exporter": "python",
   "pygments_lexer": "ipython3",
   "version": "3.11.5"
  },
  "orig_nbformat": 4
 },
 "nbformat": 4,
 "nbformat_minor": 2
}
