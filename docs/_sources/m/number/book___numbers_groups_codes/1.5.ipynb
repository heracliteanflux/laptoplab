{
 "cells": [
  {
   "cell_type": "markdown",
   "metadata": {},
   "source": [
    "# 1.5\n",
    "Exercises from Humphreys, J. F. & M. Y. Prest. (2008). _Numbers, Groups, and Codes_. 2nd Ed. Cambridge University Press."
   ]
  },
  {
   "cell_type": "markdown",
   "metadata": {},
   "source": [
    "---"
   ]
  },
  {
   "cell_type": "markdown",
   "metadata": {},
   "source": [
    "## 1"
   ]
  },
  {
   "cell_type": "markdown",
   "metadata": {},
   "source": [
    "Find all the solutions (when there are any) of the following linear congruences.\n",
    "\n",
    "$\n",
    "\\begin{aligned}\n",
    " 3x &\\equiv  1& \\mod &&  12 &\\quad \\text{no solution} \\\\\n",
    " 3x &\\equiv  1& \\mod &&  11 &\\quad [4]_{11} \\\\\n",
    "64x &\\equiv 32& \\mod &&  84 &\\quad [11]_{21} \\quad\\text{or}\\quad [11]_{84}, [32]_{84}, [53]_{84}, [74]_{84} \\\\\n",
    "15x &\\equiv  5& \\mod &&  17 &\\quad [6]_{17} \\\\\n",
    "15x &\\equiv  5& \\mod &&  18 &\\quad \\text{no solution} \\\\\n",
    "15x &\\equiv  5& \\mod && 100 &\\quad [7]_{20} \\quad\\text{or}\\quad [7]_{100}, [27]_{100}, [47]_{100}, [67]_{100}, [87]_{100} \\\\\n",
    "23x &\\equiv 16& \\mod && 107 &\\quad [10]_{107} \\\\\n",
    "\\end  {aligned}\n",
    "$"
   ]
  },
  {
   "cell_type": "markdown",
   "metadata": {},
   "source": [
    "---"
   ]
  },
  {
   "cell_type": "markdown",
   "metadata": {},
   "source": [
    "$3x \\equiv 1 \\mod 12$\n",
    "\n",
    "$gcd(3, 12) = 3$ but there are no solutions since $3 \\nmid 1$."
   ]
  },
  {
   "cell_type": "markdown",
   "metadata": {},
   "source": [
    "---"
   ]
  },
  {
   "cell_type": "markdown",
   "metadata": {},
   "source": [
    "$3x \\equiv 1 \\mod 11$\n",
    "\n",
    "$gcd(3, 11) = 1$ and so there is $1$ solution since $1 \\mid 1$.\n",
    "\n",
    "$3x \\equiv 1 \\mod 11 \\iff x = \\frac{11(k = 1) + 1}{3} = 4$\n",
    "\n",
    "$[4]_{11}$"
   ]
  },
  {
   "cell_type": "code",
   "execution_count": 45,
   "metadata": {},
   "outputs": [
    {
     "name": "stdout",
     "output_type": "stream",
     "text": [
      "1\n"
     ]
    }
   ],
   "source": [
    "print(3*4 % 11)"
   ]
  },
  {
   "cell_type": "markdown",
   "metadata": {},
   "source": [
    "---"
   ]
  },
  {
   "cell_type": "markdown",
   "metadata": {},
   "source": [
    "$64x \\equiv 32 \\mod 84$\n",
    "\n",
    "$\n",
    "\\begin{aligned}\n",
    "64 &= 2^6 \\\\\n",
    "84 &= 2^2 \\times 3 \\times 7 \\\\\n",
    "gcd(64, 84) &= 2^2 \\\\\n",
    "\\end  {aligned}\n",
    "$\n",
    "\n",
    "$gcd(64, 84) = 4$ and so there are $4$ solutions modulo $84$ since $4 \\mid 32$.\n",
    "\n",
    "$\\frac{64}{4} x \\equiv \\frac{32}{4} \\mod \\frac{84}{4} \\iff 16x \\equiv 8 \\mod 21$\n",
    "\n",
    "$gcd(16, 21) = 1$ and so there is $1$ solution modulo $21$ since $1 \\mid 8$.\n",
    "\n",
    "$16x \\equiv 1 \\mod 21 \\iff x = \\frac{21(k = 3) + 1}{16} = 4$\n",
    "\n",
    "$4 \\times 16x \\equiv 4 \\times 8 = 32 \\mod 21 \\iff x \\equiv 11 \\mod 21$\n",
    "\n",
    "$[11]_{21}$ or $[11]_{84}, [32]_{84}, [53]_{84}, [74]_{84}$"
   ]
  },
  {
   "cell_type": "code",
   "execution_count": 17,
   "metadata": {},
   "outputs": [
    {
     "name": "stdout",
     "output_type": "stream",
     "text": [
      "32\n",
      "32\n",
      "32\n",
      "32\n"
     ]
    }
   ],
   "source": [
    "a, n = 64, 84\n",
    "print(a*11 % n)\n",
    "print(a*32 % n)\n",
    "print(a*53 % n)\n",
    "print(a*74 % n)"
   ]
  },
  {
   "cell_type": "markdown",
   "metadata": {},
   "source": [
    "---"
   ]
  },
  {
   "cell_type": "markdown",
   "metadata": {},
   "source": [
    "$15x \\equiv 5 \\mod 17$\n",
    "\n",
    "$gcd(15, 17) = 1$ and so there is $1$ solution since $1 \\mid 5$.\n",
    "\n",
    "$15x \\equiv 1 \\mod 17 \\iff x = \\frac{17(k = 7) + 1}{15} = 8$\n",
    "\n",
    "$8 \\times 15x \\equiv 8 \\times 5 = 40 \\mod 17 \\iff x \\equiv 6 \\mod 17$\n",
    "\n",
    "$[6]_{17}$"
   ]
  },
  {
   "cell_type": "code",
   "execution_count": 44,
   "metadata": {},
   "outputs": [
    {
     "name": "stdout",
     "output_type": "stream",
     "text": [
      "5\n"
     ]
    }
   ],
   "source": [
    "print(15*6 % 17)"
   ]
  },
  {
   "cell_type": "markdown",
   "metadata": {},
   "source": [
    "---"
   ]
  },
  {
   "cell_type": "markdown",
   "metadata": {},
   "source": [
    "$15x \\equiv 5 \\mod 18$\n",
    "\n",
    "$gcd(15, 18) = 3$ but there are no solutions since $3 \\nmid 5$."
   ]
  },
  {
   "cell_type": "markdown",
   "metadata": {},
   "source": [
    "---"
   ]
  },
  {
   "cell_type": "markdown",
   "metadata": {},
   "source": [
    "$15x \\equiv 5 \\mod 100$\n",
    "\n",
    "$gcd(15, 100) = 5$ and so there are $5$ solutions modulo $100$ since $5 \\mid 5$.\n",
    "\n",
    "$\\frac{15}{5} x \\equiv \\frac{5}{5} \\mod \\frac{100}{5} \\iff 3x \\equiv 1 \\mod 20$\n",
    "\n",
    "$gcd(3, 20) = 1$ and so there is $1$ solution modulo $20$ since $1 \\mid 1$.\n",
    "\n",
    "$3x \\equiv 1 \\mod 20 \\iff x = \\frac{20(k = 1) + 1}{3} = 7$\n",
    "\n",
    "$7 \\times 3x \\equiv 7 \\times 1 \\mod 20 \\iff x \\equiv 7 \\mod 20$\n",
    "\n",
    "$[7]_{20}$ or $[7]_{100}, [27]_{100}, [47]_{100}, [67]_{100}, [87]_{100}$"
   ]
  },
  {
   "cell_type": "code",
   "execution_count": 35,
   "metadata": {},
   "outputs": [
    {
     "name": "stdout",
     "output_type": "stream",
     "text": [
      "5\n",
      "5\n",
      "5\n",
      "5\n",
      "5\n"
     ]
    }
   ],
   "source": [
    "a, n = 15, 100\n",
    "print(a* 7 % n)\n",
    "print(a*27 % n)\n",
    "print(a*47 % n)\n",
    "print(a*67 % n)\n",
    "print(a*87 % n)"
   ]
  },
  {
   "cell_type": "markdown",
   "metadata": {},
   "source": [
    "---"
   ]
  },
  {
   "cell_type": "markdown",
   "metadata": {},
   "source": [
    "$23x \\equiv 16 \\mod 107$\n",
    "\n",
    "$gcd(23, 107) = 1$ and so there is $1$ solution since $1 \\mid 16$.\n",
    "\n",
    "$23x \\equiv 1 \\mod 107 \\iff x = \\frac{107(k = 3) + 1}{23} = 14$\n",
    "\n",
    "$14 \\times 23x \\equiv 14 \\times 16 = 224 \\mod 107 \\iff x \\equiv 10 \\mod 107$\n",
    "\n",
    "$[10]_{107}$"
   ]
  },
  {
   "cell_type": "code",
   "execution_count": 43,
   "metadata": {},
   "outputs": [
    {
     "name": "stdout",
     "output_type": "stream",
     "text": [
      "16\n"
     ]
    }
   ],
   "source": [
    "print(23*10 % 107)"
   ]
  },
  {
   "cell_type": "markdown",
   "metadata": {},
   "source": [
    "---"
   ]
  },
  {
   "cell_type": "markdown",
   "metadata": {},
   "source": [
    "## 2"
   ]
  },
  {
   "cell_type": "markdown",
   "metadata": {},
   "source": [
    "Solve the following sets of simultaneous linear congruences.\n",
    "\n",
    "$\n",
    "\\begin{aligned}\n",
    "x &\\equiv 4 \\mod 24 \\\\\n",
    "x &\\equiv 7 \\mod 11 \\\\\n",
    "\\end  {aligned}\n",
    "$\n",
    "\n",
    "$\n",
    "\\begin{aligned}\n",
    "3x &\\equiv 1 \\mod 5 \\\\\n",
    "2x &\\equiv 6 \\mod 8 \\\\\n",
    "\\end  {aligned}\n",
    "$\n",
    "\n",
    "$\n",
    "\\begin{aligned}\n",
    " x &\\equiv 3 \\mod 5 \\\\\n",
    "2x &\\equiv 1 \\mod 7 \\\\\n",
    " x &\\equiv 3 \\mod 8 \\\\\n",
    "\\end  {aligned}\n",
    "$"
   ]
  },
  {
   "cell_type": "markdown",
   "metadata": {},
   "source": [
    "---"
   ]
  },
  {
   "cell_type": "markdown",
   "metadata": {},
   "source": [
    "Is there an integer whose remainder is $4$ when divided by $24$ and $7$ when divided by $11$?\n",
    "\n",
    "$\n",
    "\\begin{aligned}\n",
    "x &\\equiv 4 \\mod 24 \\\\\n",
    "x &\\equiv 7 \\mod 11 \\\\\n",
    "\\end  {aligned}\n",
    "$\n",
    "\n",
    "The moduli are pairwise relative primes: $gcd(24, 11) = 1$.\n",
    "\n",
    "$\n",
    "\\left (\n",
    "\\begin{array}{cc|c}\n",
    "1 & 0 & 24 \\\\\n",
    "0 & 1 & 11 \\\\\n",
    "\\end  {array}\n",
    "\\right)\n",
    "\\to\n",
    "\\left (\n",
    "\\begin{array}{cc|c}\n",
    "1 & -2 &  2 \\\\\n",
    "0 &  1 & 11 \\\\\n",
    "\\end  {array}\n",
    "\\right)\n",
    "\\to\n",
    "\\left (\n",
    "\\begin{array}{cc|c}\n",
    " 1 & -2 & 2 \\\\\n",
    "-5 & 11 & 1 \\\\\n",
    "\\end  {array}\n",
    "\\right)\n",
    "$\n",
    "\n",
    "$\\underset{b}{7} \\times \\underset{m}{24} \\times \\underset{k}{(-5)} + \\underset{a}{4} \\times \\underset{n}{11} \\times \\underset{t}{11} = \\underset{c}{-356} \\equiv 172 \\mod \\underset{m}{24} \\times \\underset{n}{11} = 264$\n",
    "\n",
    "$[172]_{264}$"
   ]
  },
  {
   "cell_type": "code",
   "execution_count": 66,
   "metadata": {},
   "outputs": [
    {
     "name": "stdout",
     "output_type": "stream",
     "text": [
      "1\n",
      "172\n",
      "4\n",
      "7\n"
     ]
    }
   ],
   "source": [
    "a =   4\n",
    "b =   7\n",
    "m =  24\n",
    "n =  11\n",
    "\n",
    "k =  -5\n",
    "t =  11\n",
    "\n",
    "c = 172\n",
    "\n",
    "print(   m*k +   n*t)\n",
    "print((b*m*k + a*n*t) % (m*n))\n",
    "\n",
    "print(c % m)\n",
    "print(c % n)"
   ]
  },
  {
   "cell_type": "markdown",
   "metadata": {},
   "source": [
    "---"
   ]
  },
  {
   "cell_type": "markdown",
   "metadata": {},
   "source": [
    "Is there an integer whose remainder is $1$ when tripled and then divided by $5$ and $6$ when doubled and then divided by $8$?\n",
    "\n",
    "$\n",
    "\\begin{aligned}\n",
    "3x &\\equiv 1 \\mod 5 \\iff x = \\frac{5(k = 1) + 1}{3} = 2 \\iff x \\equiv 2 \\mod 5 \\\\\n",
    "2x &\\equiv 6 \\mod 8 \\iff x = \\frac{8(k = 1) + 6}{2} = 7 \\iff x \\equiv 7 \\mod 8\\\\\n",
    "\\end  {aligned}\n",
    "$\n",
    "\n",
    "The moduli are pairwise relative primes: $gcd(5, 8) = 1$.\n",
    "\n",
    "$\n",
    "\\left (\n",
    "\\begin{array}{cc|c}\n",
    "1 & 0 & 5 \\\\\n",
    "0 & 1 & 8 \\\\\n",
    "\\end  {array}\n",
    "\\right)\n",
    "\\to\n",
    "\\left (\n",
    "\\begin{array}{cc|c}\n",
    " 1 & 0 & 5 \\\\\n",
    "-1 & 1 & 3 \\\\\n",
    "\\end  {array}\n",
    "\\right)\n",
    "\\to\n",
    "\\left (\n",
    "\\begin{array}{cc|c}\n",
    " 2 & -1 & 2 \\\\\n",
    "-1 &  1 & 3 \\\\\n",
    "\\end  {array}\n",
    "\\right)\n",
    "\\to\n",
    "\\left (\n",
    "\\begin{array}{cc|c}\n",
    " 2 & -1 & 2 \\\\\n",
    "-3 &  2 & 1 \\\\\n",
    "\\end  {array}\n",
    "\\right)\n",
    "$\n",
    "\n",
    "$\n",
    "\\underset{b}{7} \\times \\underset{m}{5} \\times \\underset{k}{(-3)} +\n",
    "\\underset{a}{2} \\times \\underset{n}{8} \\times \\underset{t}{2} =\n",
    "\\underset{c}{-73} \\equiv 7 \\mod \\underset{m}{5} \\times \\underset{n}{8} = 40$\n",
    "\n",
    "$[7]_{40}$"
   ]
  },
  {
   "cell_type": "code",
   "execution_count": 68,
   "metadata": {},
   "outputs": [
    {
     "name": "stdout",
     "output_type": "stream",
     "text": [
      "1\n",
      "7\n",
      "1\n",
      "2\n",
      "6\n",
      "7\n"
     ]
    }
   ],
   "source": [
    "a =  2\n",
    "b =  7\n",
    "m =  5\n",
    "n =  8\n",
    "\n",
    "k = -3\n",
    "t =  2\n",
    "\n",
    "c =  7\n",
    "\n",
    "print(   m*k +   n*t)\n",
    "print((b*m*k + a*n*t) % (m*n))\n",
    "\n",
    "print(3*c % m)\n",
    "print(  c % m)\n",
    "print(2*c % n)\n",
    "print(  c % n)"
   ]
  },
  {
   "cell_type": "markdown",
   "metadata": {},
   "source": [
    "---"
   ]
  },
  {
   "cell_type": "markdown",
   "metadata": {},
   "source": [
    "Is there an integer whose remainder is $3$ when divided by $5$; $1$ when doubled and then divided by $7$; and $3$ when divided by $8$?\n",
    "\n",
    "$\n",
    "\\begin{aligned}\n",
    " x &\\equiv 3 \\mod 5 \\\\\n",
    "2x &\\equiv 1 \\mod 7 \\iff x = \\frac{7(k = 1) + 1}{2} = 4 \\iff x \\equiv 4 \\mod 7 \\\\\n",
    " x &\\equiv 3 \\mod 8 \\\\\n",
    "\\end  {aligned}\n",
    "$\n",
    "\n",
    "The system of linear congruences becomes\n",
    "\n",
    "$\n",
    "\\begin{aligned}\n",
    "x &\\equiv 3 \\mod 5 \\\\\n",
    "x &\\equiv 4 \\mod 7 \\\\\n",
    "x &\\equiv 3 \\mod 8 \\\\\n",
    "\\end  {aligned}\n",
    "$\n",
    "\n",
    "The moduli are pairwise relative primes: $gcd(5, 7) = 1 = gcd(5, 8) = gcd(7, 8)$.\n",
    "\n",
    "$\n",
    "\\left (\n",
    "\\begin{array}{cc|c}\n",
    "1 & 0 & 5 \\\\\n",
    "0 & 1 & 7 \\\\\n",
    "\\end  {array}\n",
    "\\right)\n",
    "\\to\n",
    "\\left (\n",
    "\\begin{array}{cc|c}\n",
    " 1 & 0 & 5 \\\\\n",
    "-1 & 1 & 2 \\\\\n",
    "\\end  {array}\n",
    "\\right)\n",
    "\\to\n",
    "\\left (\n",
    "\\begin{array}{cc|c}\n",
    " 3 & -2 & 1 \\\\\n",
    "-1 &  1 & 2 \\\\\n",
    "\\end  {array}\n",
    "\\right)\n",
    "$\n",
    "\n",
    "$\n",
    "\\underset{b}{4} \\times \\underset{m}{5} \\times \\underset{k}{3} +\n",
    "\\underset{a}{3} \\times \\underset{n}{7} \\times \\underset{t}{(-2)} =\n",
    "\\underset{c}{18} \\mod \\underset{m}{5} \\times \\underset{n}{7} = 35\n",
    "$\n",
    "\n",
    "The system of linear congruences becomes\n",
    "\n",
    "$\n",
    "\\begin{aligned}\n",
    "x &\\equiv& 18 &\\mod& 35 \\\\\n",
    "x &\\equiv&  3 &\\mod&  8 \\\\\n",
    "\\end  {aligned}\n",
    "$\n",
    "\n",
    "$\n",
    "\\left (\n",
    "\\begin{array}{cc|c}\n",
    "1 & 0 & 35 \\\\\n",
    "0 & 1 &  8 \\\\\n",
    "\\end  {array}\n",
    "\\right)\n",
    "\\to\n",
    "\\left (\n",
    "\\begin{array}{cc|c}\n",
    "1 & -4 & 3 \\\\\n",
    "0 &  1 & 8 \\\\\n",
    "\\end  {array}\n",
    "\\right)\n",
    "\\to\n",
    "\\left (\n",
    "\\begin{array}{cc|c}\n",
    " 1 & -4 & 3 \\\\\n",
    "-2 &  9 & 2 \\\\\n",
    "\\end  {array}\n",
    "\\right)\n",
    "\\to\n",
    "\\left (\n",
    "\\begin{array}{cc|c}\n",
    " 3 & -13 & 1 \\\\\n",
    "-2 &   9 & 2 \\\\\n",
    "\\end  {array}\n",
    "\\right)\n",
    "$\n",
    "\n",
    "$\n",
    "\\underset{b}{3} \\times \\underset{m}{35} \\times \\underset{k}{3} +\n",
    "\\underset{a}{18} \\times \\underset{n}{8} \\times \\underset{t}{(-13)} =\n",
    "\\underset{c}{-1557} \\equiv 123 \\mod 280 = \\underset{m}{35} \\times \\underset{n}{8}\n",
    "$\n",
    "\n",
    "$[123]_{280}$"
   ]
  },
  {
   "cell_type": "code",
   "execution_count": 84,
   "metadata": {},
   "outputs": [
    {
     "name": "stdout",
     "output_type": "stream",
     "text": [
      "1\n",
      "123\n",
      "18\n",
      "3\n",
      "3\n",
      "4\n",
      "1\n",
      "3\n"
     ]
    }
   ],
   "source": [
    "a =  18\n",
    "b =   3\n",
    "\n",
    "m =  35\n",
    "n =   8\n",
    "\n",
    "k =   3\n",
    "t = -13\n",
    "\n",
    "c = 123\n",
    "\n",
    "print(   m*k +   n*t)\n",
    "print((b*m*k + a*n*t) % (m*n))\n",
    "\n",
    "print(  c % m)\n",
    "print(  c % n)\n",
    "\n",
    "print(  c % 5)\n",
    "print(  c % 7)\n",
    "print(2*c % 7)\n",
    "print(  c % 8)"
   ]
  },
  {
   "cell_type": "markdown",
   "metadata": {},
   "source": [
    "---"
   ]
  },
  {
   "cell_type": "markdown",
   "metadata": {},
   "source": [
    "## 3"
   ]
  },
  {
   "cell_type": "markdown",
   "metadata": {},
   "source": [
    "Find the smallest positive integer whose remainder when divided by $11$ is $8$, which has last digit $4$ and is divisible by $27$.\n",
    "\n",
    "$\n",
    "\\begin{aligned}\n",
    "x &\\equiv 8 \\mod 11 \\\\\n",
    "x &\\equiv 4 \\mod 10 \\\\\n",
    "x &\\equiv 0 \\mod 27 \\\\\n",
    "\\end  {aligned}\n",
    "$\n",
    "\n",
    "The moduli are pairwise relative primes: $gcd(11, 10) = 1 = gcd(11, 27) = gcd(10, 27)$.\n",
    "\n",
    "$\n",
    "\\left (\n",
    "\\begin{array}{cc|c}\n",
    "1 & 0 & 11 \\\\\n",
    "0 & 1 & 10 \\\\\n",
    "\\end  {array}\n",
    "\\right)\n",
    "\\to\n",
    "\\left (\n",
    "\\begin{array}{cc|c}\n",
    "1 & -1 &  1 \\\\\n",
    "0 &  1 & 10 \\\\\n",
    "\\end  {array}\n",
    "\\right)\n",
    "$\n",
    "\n",
    "$\n",
    "\\underset{b}{4} \\times \\underset{m}{11} \\times \\underset{k}{1} +\n",
    "\\underset{a}{8} \\times \\underset{n}{10} \\times \\underset{t}{(-1)} =\n",
    "\\underset{c}{-36} \\equiv 74 \\mod \\underset{mn}{110}\n",
    "$\n",
    "\n",
    "The system of linear congruences becomes\n",
    "\n",
    "$\n",
    "\\begin{aligned}\n",
    "x &\\equiv& 74 &\\mod& 110 \\\\\n",
    "x &\\equiv&  0 &\\mod&  27 \\\\\n",
    "\\end  {aligned}\n",
    "$\n",
    "\n",
    "$\n",
    "\\left (\n",
    "\\begin{array}{cc|c}\n",
    "1 & 0 & 110 \\\\\n",
    "0 & 1 &  27 \\\\\n",
    "\\end  {array}\n",
    "\\right)\n",
    "\\to\n",
    "\\left (\n",
    "\\begin{array}{cc|c}\n",
    "1 & -4 &  2 \\\\\n",
    "0 &  1 & 27 \\\\\n",
    "\\end  {array}\n",
    "\\right)\n",
    "\\to\n",
    "\\left (\n",
    "\\begin{array}{cc|c}\n",
    "  1 & -4 & 2 \\\\\n",
    "-13 & 53 & 1 \\\\\n",
    "\\end  {array}\n",
    "\\right)\n",
    "$\n",
    "\n",
    "$\n",
    "\\underset{b}{0} \\times \\underset{m}{110} \\times \\underset{k}{(-13)} +\n",
    "\\underset{a}{74} \\times \\underset{n}{27} \\times \\underset{t}{53} =\n",
    "\\underset{c}{105,894} \\equiv 1944 \\mod \\underset{mn}{2,970}\n",
    "$\n",
    "\n",
    "$[1944]_{2970}$"
   ]
  },
  {
   "cell_type": "code",
   "execution_count": 126,
   "metadata": {},
   "outputs": [
    {
     "name": "stdout",
     "output_type": "stream",
     "text": [
      "8\n",
      "4\n",
      "0\n"
     ]
    }
   ],
   "source": [
    "c = 1944\n",
    "print(c % 11)\n",
    "print(c % 10)\n",
    "print(c % 27)"
   ]
  },
  {
   "cell_type": "markdown",
   "metadata": {},
   "source": [
    "---"
   ]
  },
  {
   "cell_type": "markdown",
   "metadata": {},
   "source": [
    "## 4"
   ]
  },
  {
   "cell_type": "markdown",
   "metadata": {},
   "source": [
    "(i) Show that the polynomial $x^4 + x^2 + 1$ has no integer roots, but that is has a root modulo $3$, and factorize it over $\\mathbb{Z}_3$."
   ]
  },
  {
   "cell_type": "markdown",
   "metadata": {},
   "source": [
    "---"
   ]
  }
 ],
 "metadata": {
  "kernelspec": {
   "display_name": "ml",
   "language": "python",
   "name": "python3"
  },
  "language_info": {
   "codemirror_mode": {
    "name": "ipython",
    "version": 3
   },
   "file_extension": ".py",
   "mimetype": "text/x-python",
   "name": "python",
   "nbconvert_exporter": "python",
   "pygments_lexer": "ipython3",
   "version": "3.11.5"
  }
 },
 "nbformat": 4,
 "nbformat_minor": 2
}
