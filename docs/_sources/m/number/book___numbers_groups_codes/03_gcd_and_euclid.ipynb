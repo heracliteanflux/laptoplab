{
 "cells": [
  {
   "cell_type": "markdown",
   "metadata": {},
   "source": [
    "# GCD & Euclid's Algorithm"
   ]
  },
  {
   "cell_type": "markdown",
   "metadata": {},
   "source": [
    "---"
   ]
  },
  {
   "cell_type": "markdown",
   "metadata": {},
   "source": [
    "## Programming Environment"
   ]
  },
  {
   "cell_type": "code",
   "execution_count": 11,
   "metadata": {},
   "outputs": [],
   "source": [
    "import numpy as np"
   ]
  },
  {
   "cell_type": "markdown",
   "metadata": {},
   "source": [
    "---"
   ]
  },
  {
   "cell_type": "markdown",
   "metadata": {},
   "source": [
    "## Euclid's Algorithm\n",
    "Euclid's Elements Book VII Props. 1 & 2"
   ]
  },
  {
   "cell_type": "markdown",
   "metadata": {},
   "source": [
    "$Theorem$ [Humphreys & Prest 1.1.5 pp. 9] Euclid's _Elements_ Book VII Proposition 2\n",
    "\n",
    "> Let $a$ and $b$ be positive integers.  $a, b \\in \\mathbb{P}$  \n",
    "> If $a$ divides $b$ then $a$ is the greatest common divisor of $a$ and $b$.  \n",
    "> Otherwise, applying the division theorem repeatedly define a sequence of positive integers by $r_1, r_2, \\dots, r_n$ by  \n",
    "\n",
    "$$\n",
    "\\begin{align*}\n",
    "b &= a  q_1 + r_1 && 0 \\le r_1 \\lt |a|   \\\\\n",
    "a &= r_1q_2 + r_2 && 0 \\le r_2 \\lt r_1 \\\\\n",
    "\\vdots \\\\\n",
    "r_{n - 2} &= r_{n - 1}q_n + r_n && 0 \\le r_n \\lt r_{n - 1} \\\\\n",
    "r_{n - 1} &= r_nq_{n + 1} \\\\\n",
    "\\end{align*}\n",
    "$$\n",
    "\n",
    "> Then $r_n$ is the greatest common divisor of $a$ and $b$.  "
   ]
  },
  {
   "cell_type": "markdown",
   "metadata": {},
   "source": [
    "$Proof$ [Humphreys & Prest pp. 9]\n",
    "\n",
    "> Apply the division theorem to the successive non-zero remainders $r_1, r_2, \\dots, r_n$.  \n",
    "> Since $a, r_1, r_2, \\dots, r_n$ is a decreasing sequence of positive integers, it must eventually stop, terminating with an integer $r_n$ which--because no non-zero remainder $r_{n + 1}$ is produced--must, therefore, divide $r_{n - 1}$.  \n",
    "> Then apply the gcd lemma back up the sequence of equations so that $gcd(b, a) = gcd(a, r_1) = \\dots = gcd(r_{n - 2}, r_{n - 1}) = gcd(r_{n - 1}, r_n) = r_n$.  \n",
    "> $\\therefore r_n = gcd(a, b)$.  \n",
    "\n",
    "$\\blacksquare$"
   ]
  },
  {
   "cell_type": "markdown",
   "metadata": {},
   "source": [
    "<div style=\"color: red\";>\n",
    "\n",
    "$Proof \\,\\, by \\,\\, construction$ [Bressoud pp. 7]\n",
    "\n",
    "Assume that $a$ and $b$ are positive.\n",
    "\n",
    "This process continues until the remainder is $0$, which must eventually happen since the remainders are always nonnegative and each remainder is strictly smaller than the previous one.\n",
    "\n",
    "$\n",
    "\\begin{aligned}\n",
    "  a &= m_1 \\times   b + r_1 && 0 \\le r_1 \\lt |b| && r_1 = 0 \\implies b \\mid a, gcd(a, b) = b, m = 0, n = 1 \\\\\n",
    "  b &= m_2 \\times r_1 + r_2 && 0 \\le r_2 \\lt r_1 && r_2 = 0 \\implies gcd(a, b) = r_1 \\\\\n",
    "r_1 &= m_3 \\times r_2 + r_3 && 0 \\le r_3 \\lt r_2 && r_3 = 0 \\implies gcd(a, b) = r_2 \\\\\n",
    "\\vdots \\\\\n",
    "r_{k - 2} &= m_k \\times r_{k - 1} + r_k && 0 \\lt r_k \\lt r_{k - 1} \\\\\n",
    "r_{k - 1} &= m_{k + 1} \\times r_k + 0 && && gcd(a, b) = r_k \\\\\n",
    "\\end{aligned}\n",
    "$\n",
    "\n",
    "The last non-zero remainder, $r_k$, is the greatest common divisor of $a$ and $b$.\n",
    "\n",
    "We work back up the list of equalities to show that $r_k$ is a common divisor of $a$ and $b$.\n",
    "\n",
    "$\n",
    "\\begin{aligned}\n",
    "r_k &\\mid r_k \\\\\n",
    "r_k &\\mid r_{k - 1} && \\text{by the last equality} \\\\\n",
    "r_k &\\mid r_{k - 2} && \\text{by the second to last equality} \\\\\n",
    "\\vdots \\\\\n",
    "r_k &\\mid r_3 \\\\\n",
    "r_k &\\mid r_2 \\\\\n",
    "r_k &\\mid r_1 && \\text{by the third equality} \\\\\n",
    "r_k &\\mid b   && \\text{by the second equality} \\\\\n",
    "r_k &\\mid a   && \\text{by the first equality} \\\\\n",
    "\\end{aligned}\n",
    "$\n",
    "\n",
    "To show that $r_k$ is the largest common divisor, let $d$ be any other common divisor.\n",
    "\n",
    "$\n",
    "\\begin{aligned}\n",
    "d &\\mid a \\\\\n",
    "d &\\mid b \\\\\n",
    "d &\\mid r_1 && \\text{by} \\,\\, a = m_1 \\times b + r_1\n",
    "\\end{aligned}\n",
    "$\n",
    "\n",
    "</div>"
   ]
  },
  {
   "cell_type": "markdown",
   "metadata": {},
   "source": [
    "$Example$ [Humphreys & Prest pp. 10]\n",
    "\n",
    "> Let $a = 30$ and $b = 171$.  \n",
    "\n",
    "$$\n",
    "\\begin{align*}\n",
    "b &= aq + r && 0 \\le r \\lt |a| \\\\\n",
    "171 &= 5 \\cdot 30 + 21 && 0 \\le 21 \\lt 30 && gcd(171, 30) = gcd(30, 21) \\\\\n",
    " 30 &= 1 \\cdot 21 + 9  && 0 \\le  9 \\lt 21 && gcd(30, 21) = gcd(21, 9) \\\\\n",
    " 21 &= 2 \\cdot  9 + 3  && 0 \\le  3 \\lt  9 && gcd(21, 9) = gcd(9, 3) \\\\\n",
    "  9 &= 3 \\cdot  3 + 0  && 0 \\le  0 \\lt  3 && gcd(9, 3) = 3 \\\\\n",
    "\\end{align*}\n",
    "$$\n",
    "\n",
    "> $3 = gcd(9, 3) = gcd(21, 9) = gcd(30, 21) = gcd(171, 30)$\n",
    "\n",
    "$$\n",
    "\\begin{align*}\n",
    "3\n",
    "&= 21 - 2 \\cdot 9 && 3 = 21 - 2 \\cdot 9 \\\\\n",
    "&= 21 - 2 \\cdot (30 - 21) && 9 = 30 - 1 \\cdot 21 \\\\\n",
    "&= 3 \\cdot 21 - 2 \\cdot 30 \\\\\n",
    "&= 3 \\cdot (171 - 5 \\cdot 30) - 2 \\cdot 30 && 21 = 171 - 5 \\cdot 30 \\\\\n",
    "&= 3 \\cdot 171 - 17 \\cdot 30 \\\\\n",
    "&= 3 \\cdot 171 + (-17) \\cdot 30 \\\\\n",
    "\\end{align*}\n",
    "$$\n",
    "\n",
    "> $3 = (-17) \\cdot 30 + 3 \\cdot 171$  "
   ]
  },
  {
   "cell_type": "code",
   "execution_count": 21,
   "metadata": {},
   "outputs": [
    {
     "name": "stdout",
     "output_type": "stream",
     "text": [
      "3\n"
     ]
    }
   ],
   "source": [
    "a, b =  30, 171\n",
    "x, y = -17,   3\n",
    "c    = a*x + b*y\n",
    "\n",
    "assert c == np.gcd(a, b)\n",
    "print (c)"
   ]
  },
  {
   "cell_type": "markdown",
   "metadata": {},
   "source": [
    "$Example$ [Humphreys & Prest pp. 14]\n",
    "\n",
    "> Let $a = -24$ and $b = -102$.  \n",
    "\n",
    "$$\n",
    "\\begin{align*}\n",
    "   b &= qa + r              && 0 \\le  r \\lt |a| && gcd(b, a) = gcd(a, r) \\\\\n",
    "-102 &=  5 \\cdot (-24) + 18 && 0 \\le 18 \\lt 24  && gcd(-102, -24) = gcd(-24, 18) \\\\\n",
    " -24 &= -2 \\cdot   18  + 12 && 0 \\le 12 \\lt 18  && gcd(-24, 18) = gcd(18, 12) \\\\\n",
    "  18 &=  1 \\cdot   12  +  6 && 0 \\le  6 \\lt 12  && gcd(18, 12) = gcd(12, 6) \\\\\n",
    "  12 &=  2 \\cdot    6  +  0 && 0 \\le  0 \\lt  6  && gcd(12, 6) = 6 \\\\\n",
    "\\end{align*}\n",
    "$$\n",
    "\n",
    "> $6 = gcd(12, 6) = gcd(18, 12) = gcd(-24, 18) = gcd(-102, -24)$  \n",
    "\n",
    "$$\n",
    "\\begin{align*}\n",
    "6\n",
    "&= 18 - 1 \\cdot 12 && 6 = 18 - 1 \\cdot 12 \\\\\n",
    "&= 18 - 1 \\cdot (-24 - (-2) \\cdot 18) && 12 = -24 - (-2) \\cdot 18 \\\\\n",
    "&= 18 - 1 \\cdot (-24 + 2 \\cdot 18) \\\\\n",
    "&= (-1) \\cdot 18 - 1 \\cdot (-24) \\\\\n",
    "&= (-1) \\cdot (-102 - 5 \\cdot (-24)) - 1 \\cdot (-24) && 18 = -102 - 5 \\cdot (-24) \\\\\n",
    "&= (-1) \\cdot (-102) + 5 \\cdot (-24) - 1 \\cdot (-24) \\\\\n",
    "&= (-1) \\cdot (-102) + 4 \\cdot (-24) \\\\\n",
    "\\end{align*}\n",
    "$$\n",
    "\n",
    "> $6 = 4 \\cdot (-24) + (-1) \\cdot (-102)$  "
   ]
  },
  {
   "cell_type": "code",
   "execution_count": 22,
   "metadata": {},
   "outputs": [
    {
     "name": "stdout",
     "output_type": "stream",
     "text": [
      "6\n"
     ]
    }
   ],
   "source": [
    "a, b = -24, -102\n",
    "x, y =   4,   -1\n",
    "c    = a*x + b*y\n",
    "\n",
    "assert c == np.gcd(a, b)\n",
    "print (c)"
   ]
  },
  {
   "cell_type": "markdown",
   "metadata": {},
   "source": [
    "---"
   ]
  },
  {
   "cell_type": "markdown",
   "metadata": {},
   "source": [
    "## Find the GCD as a linear combination via matrices"
   ]
  },
  {
   "cell_type": "markdown",
   "metadata": {},
   "source": [
    "[Humphreys & Prest pp. 10-11]\n",
    "\n",
    "Find $gcd(a, b)$ of $a$ and $b$ as a linear combination $as + bt$.\n",
    "\n",
    "> Set up a partitoned matrix which represents the equations $x = b$ and $y = a$.  \n",
    "\n",
    "$$\n",
    "\\left(\n",
    "\\begin{array}{cc|c}\n",
    "1 & 0 & b \\\\\n",
    "0 & 1 & a \\\\\n",
    "\\end{array}\n",
    "\\right)\n",
    "\\iff\n",
    "\\left(\n",
    "\\begin{array}{cc|c}\n",
    "1 & 0 & aq_1 + r_1 \\\\\n",
    "0 & 1 & a \\\\\n",
    "\\end{array}\n",
    "\\right)\n",
    "$$\n",
    "\n",
    "> If $r_1 = 0$ then  \n",
    "> $a = gcd(a, b)$  \n",
    "> $a = 0 \\cdot b + 1 \\cdot a$  \n",
    "> and we are done.  \n",
    "\n",
    "> Otherwise, subtract $q_1$ times the bottom row from the top row.  \n",
    "> $b = aq_1 + r_1$ with $0 \\le r_1 \\lt |a|$  \n",
    "> $b = aq_1 + r_1 \\iff b - aq_1 = r_1$.  \n",
    "\n",
    "$$\n",
    "\\left(\n",
    "\\begin{array}{cc|c}\n",
    "1 & -q_1 & b - aq_1 \\\\\n",
    "0 & 1 & a \\\\\n",
    "\\end{array}\n",
    "\\right)\n",
    "\\iff\n",
    "\\left(\n",
    "\\begin{array}{cc|c}\n",
    "1 & -q_1 & r_1 \\\\\n",
    "0 & 1 & a \\\\\n",
    "\\end{array}\n",
    "\\right)\n",
    "$$\n",
    "  \n",
    "> If $r_2 = 0$ then  \n",
    "> $r_1 = gcd(r_1, a) = gcd(a, b)$  \n",
    "> $r_1 = 1 \\cdot b + (-q_1) \\cdot a$  \n",
    "> and we are done.  \n",
    "\n",
    "> Otherwise, subtract $q_2$ times the top row from the bottom row.  \n",
    "> $a = r_1q_2 + r_2$ with $0 \\le r_2 \\lt r_1$  \n",
    "> $a = r_1q_2 + r_2 \\iff a - r_1q_2 = r_2$.  \n",
    "\n",
    "$$\n",
    "\\left(\n",
    "\\begin{array}{cc|c}\n",
    "1 & -q_1 & r_1 \\\\\n",
    "-q_2 & 1 + q_1q_2 & a - r_1q_2 \\\\\n",
    "\\end{array}\n",
    "\\right)\n",
    "\\iff\n",
    "\\left(\n",
    "\\begin{array}{cc|c}\n",
    "1 & -q_1 & r_1 \\\\\n",
    "-q_2 & 1 + q_1q_2 & r_2 \\\\\n",
    "\\end{array}\n",
    "\\right)\n",
    "$$\n",
    "\n",
    "> If $r_3 = 0$ then  \n",
    "> $r_2 = gcd(r_2, r_1) = gcd(r_1, a) = gcd(a, b)$  \n",
    "> $r_2 = (-q_2) \\cdot b + (1 + q_1q_2) \\cdot a$  \n",
    "> and we are done.  \n",
    "\n",
    "> Otherwise, subtract $q_3$ times the bottom row from the top row.  \n",
    "> $r_1 = r_2q_3 + r_3$ with $0 \\le r_3 \\lt r_2$  \n",
    "> $r_1 = r_2q_3 + r_3 \\iff r_1 - r_2q_3 = r_3$.  \n",
    "\n",
    "$$\n",
    "\\left(\n",
    "\\begin{array}{cc|c}\n",
    "1 + q_2q_3 & -q_1 - q_3 - q_1q_2q_3 & r_1 - r_2q_3 \\\\\n",
    "-q_2 & 1 + q_1q_2 & r_2 \\\\\n",
    "\\end{array}\n",
    "\\right)\n",
    "\\iff\n",
    "\\left(\n",
    "\\begin{array}{cc|c}\n",
    "1 + q_2q_3 & -q_1 - q_3 - q_1q_2q_3 & r_3 \\\\\n",
    "-q_2 & 1 + q_1q_2 & r_2 \\\\\n",
    "\\end{array}\n",
    "\\right)\n",
    "$$\n",
    "\n",
    "> And so on. If at some stage one of the rows is  \n",
    "\n",
    "$$\n",
    "\\begin{array}{cc|c}\n",
    "n_i & m_i & r_i & (*)\n",
    "\\end{array}\n",
    "$$\n",
    "\n",
    "> representing the equation  \n",
    "\n",
    "$$\n",
    "\\begin{align*}\n",
    "bn_i + am_i = r_i\n",
    "\\end{align*}\n",
    "$$\n",
    "\n",
    "> and if the other row reads  \n",
    "\n",
    "$$\n",
    "\\begin{array}{cc|c}\n",
    "n_{i + 1} & m_{i + 1} & r_{i + 1} & (**)\n",
    "\\end{array}\n",
    "$$\n",
    "\n",
    "> then we set  \n",
    "\n",
    "$$\n",
    "\\begin{align*}\n",
    "r_i &= r_{i + 1}q_{i + 2} + r_{i + 2} && 0 \\le r_{i + 2} \\lt r_{i + 1}\n",
    "\\end{align*}\n",
    "$$\n",
    "\n",
    "> and we subtract $q_{i + 2}$ times the second of these rows from the first and replace $(*)$ with the result.  \n",
    "\n",
    "> Note that these operations reduce the size of the non-negative numbers in the right-hand column and so eventually the process will stop. When it stops, we will have the $gcd$.  \n",
    "> If the row containing the $gcd$ reads  \n",
    "\n",
    "$$\n",
    "\\begin{array}{cc|c}\n",
    "n & m & d\n",
    "\\end{array}\n",
    "$$\n",
    "\n",
    "> then we have the expression  \n",
    "\n",
    "$$\n",
    "\\begin{align*}\n",
    "bn + am = d\n",
    "\\end{align*}\n",
    "$$\n",
    "\n",
    "> of $d$ as the integral linear combination of $a$ and $b$.  "
   ]
  },
  {
   "cell_type": "markdown",
   "metadata": {},
   "source": [
    "$Example$ [Humphreys & Prest pp. 11]\n",
    "\n",
    "$\n",
    "\\newcommand{\\bmat}{\\left(\\begin{array}{cc|c}}\n",
    "\\newcommand{\\emat}{\\end{array}\\right)}\n",
    "\\begin{aligned}\n",
    "& \\bmat\n",
    "1 & 0 & 171 \\\\\n",
    "0 & 1 &  30 \\\\\n",
    "\\emat\n",
    "&&\n",
    "\\begin{aligned}\n",
    "1 \\cdot 171 + 0 \\cdot 30 &= 171 \\\\\n",
    "0 \\cdot 171 + 1 \\cdot 30 &=  30 \\\\\n",
    "\\end{aligned}\n",
    "\\\\ \\to\n",
    "& \\bmat\n",
    "1 & -5 & 21 \\\\\n",
    "0 &  1 & 30 \\\\\n",
    "\\emat\n",
    "\\\\ \\to\n",
    "& \\bmat\n",
    " 1 & -5 & 21 \\\\\n",
    "-1 &  6 &  9 \\\\\n",
    "\\emat\n",
    "\\\\ \\to\n",
    "& \\bmat\n",
    " 3 & -17 & 3 \\\\\n",
    "-1 &   6 & 9 \\\\\n",
    "\\emat\n",
    "\\\\ \\to\n",
    "& \\bmat\n",
    "  3 & -17 & 3 \\\\\n",
    "-10 &  57 & 0 \\\\\n",
    "\\emat\n",
    "&&\n",
    "\\begin{aligned}\n",
    "3 \\cdot 171 - 17 \\cdot 30 &= 3 = gcd(171, 30) \\\\\n",
    "(-10) \\cdot 171 + 57 \\cdot 30 &= 0 \\\\\n",
    "\\end{aligned}\n",
    "\\end{aligned}\n",
    "$"
   ]
  },
  {
   "cell_type": "markdown",
   "metadata": {},
   "source": [
    "---"
   ]
  },
  {
   "cell_type": "markdown",
   "metadata": {},
   "source": [
    "## Generalization of GCD"
   ]
  },
  {
   "cell_type": "markdown",
   "metadata": {},
   "source": [
    "$Definition$ [Humphreys & Prest pp. 12]\n",
    "\n",
    "> Let $a_1, \\dots, a_n$ be positive integers.  \n",
    "> Then $gcd(a_1, \\dots, a_n)$ is the positive integer $m$ with the property that $m \\mid a_i$ for each $i$ and, whenever $c$ is an integer with $c \\mid a_i$ for each $i$, we have $c \\mid m$."
   ]
  },
  {
   "cell_type": "markdown",
   "metadata": {},
   "source": [
    "$Proof \\,\\, idea$ [Humphreys & Prest pp. 12]\n",
    "\n",
    "> $gcd(a_1, \\dots, a_n) = gcd(gcd(a_1, \\dots, a_{n - 1}), a_n)$  \n",
    "> In other words, we can compute the $gcd$ of $n$ numbers $a_1, \\dots, a_n$ by computing the $gcd$ of the first $n - 1$ of them and then computing the $gcd$ of that and the last number $a_n$.  \n",
    "> If we can compute the $gcd$ of two numbers, then we can compute the $gcd$ of $n$ numbers."
   ]
  },
  {
   "cell_type": "markdown",
   "metadata": {},
   "source": [
    "$Claim$ [Humphreys & Prest pp. 12]\n",
    "\n",
    "> For all $n$ and integers $a_1, \\dots, a_n$ it is the case that $gcd(a_1, \\dots, a_n) = gcd(gcd(a_1, \\dots, a_{n - 1}), a_n)$.   "
   ]
  },
  {
   "cell_type": "markdown",
   "metadata": {},
   "source": [
    "$Proof$\n",
    "\n",
    "<div style=\"background-color: red;\">TODO</div>\n",
    "\n",
    "$\\blacksquare$"
   ]
  },
  {
   "cell_type": "markdown",
   "metadata": {},
   "source": [
    "$Example$ [Humphreys & Prest pp. 12]\n",
    "\n",
    "$$\n",
    "\\begin{align*}\n",
    "& gcd(24, 60, 30, 8) \\\\\n",
    "= & gcd(gcd(24, 60, 30), 8) \\\\\n",
    "= & gcd(gcd(gcd(24, 60), 30), 8) \\\\\n",
    "= & gcd(gcd(12, 30), 8) \\\\\n",
    "= & gcd(6, 8) \\\\\n",
    "= & 2 \\\\\n",
    "\\end{align*}\n",
    "$$"
   ]
  },
  {
   "cell_type": "markdown",
   "metadata": {},
   "source": [
    "---"
   ]
  },
  {
   "cell_type": "markdown",
   "metadata": {},
   "source": [
    "## LCM"
   ]
  },
  {
   "cell_type": "markdown",
   "metadata": {},
   "source": [
    "$Definition$ [Humphreys & Prest pp. 14]\n",
    "\n",
    "> The least common multiple $lcm(a, b)$ of integers $a$ and $b$ is the positive integer $m$ s.t. both  \n",
    "> 1. $a$ and $b$ divide $m$ (so $m$ is a common multiple of $a$ and $b$), and s.t.  \n",
    "> 2. $m$ divides every common multiple of $a$ and $b$.  "
   ]
  },
  {
   "cell_type": "markdown",
   "metadata": {},
   "source": [
    "$Claim$ [Humphreys & Prest pp. 14]\n",
    "\n",
    "> $m = lcm(a, b)$ exists and is unique.\n",
    "\n",
    "$$\n",
    "\\color{red}\n",
    "\\forall a, b \\in \\mathbb{Z} \\,\\,\n",
    "\\exists m \\in \\mathbb{P} \\,\\,\n",
    "[ \\,\\,\n",
    "m = lcm(a, b)\n",
    "\\iff\n",
    "(((a \\mid m) \\land (b \\mid m)) \\land (m \\mid CommonMultiple(a, b)))\n",
    "\\,\\, ]\n",
    "$$"
   ]
  },
  {
   "cell_type": "markdown",
   "metadata": {},
   "source": [
    "$Proof$\n",
    "\n",
    "<div style=\"background-color: red;\">TODO</div>\n",
    "\n",
    "$\\blacksquare$"
   ]
  },
  {
   "cell_type": "markdown",
   "metadata": {},
   "source": [
    "$Definition$ [Humphreys & Prest pp. 14]\n",
    "\n",
    "> Let $a_1, \\dots, a_n$ be non-zero integers.  \n",
    "> $lcm(a_1, \\dots, a_n)$ is the unique positive integer $m$ which satisfies $a_i \\mid m$ for all $i$ and, whenever an integer $c$ satisfies $a_i \\mid c$ for all $i$, we have $m \\mid c$.  "
   ]
  },
  {
   "cell_type": "markdown",
   "metadata": {},
   "source": [
    "$Example$ [Humphreys & Prest pp. 14]\n",
    "\n",
    "> $lcm(6, 15, 4) = lcm(lcm(6, 15), 4) = lcm(30, 4) = 60$.  "
   ]
  },
  {
   "cell_type": "markdown",
   "metadata": {},
   "source": [
    "---"
   ]
  }
 ],
 "metadata": {
  "kernelspec": {
   "display_name": "ml",
   "language": "python",
   "name": "python3"
  },
  "language_info": {
   "codemirror_mode": {
    "name": "ipython",
    "version": 3
   },
   "file_extension": ".py",
   "mimetype": "text/x-python",
   "name": "python",
   "nbconvert_exporter": "python",
   "pygments_lexer": "ipython3",
   "version": "3.11.5"
  },
  "orig_nbformat": 4
 },
 "nbformat": 4,
 "nbformat_minor": 2
}
