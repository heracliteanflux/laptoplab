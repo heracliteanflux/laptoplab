{
 "cells": [
  {
   "cell_type": "markdown",
   "metadata": {},
   "source": [
    "# Introduction"
   ]
  },
  {
   "cell_type": "markdown",
   "metadata": {},
   "source": [
    "---"
   ]
  },
  {
   "cell_type": "markdown",
   "metadata": {},
   "source": [
    "## Some sets, structures, and the well-ordering principle"
   ]
  },
  {
   "cell_type": "markdown",
   "metadata": {},
   "source": [
    "### Some sets"
   ]
  },
  {
   "cell_type": "markdown",
   "metadata": {},
   "source": [
    "$\n",
    "\\begin{aligned}\n",
    "\\mathbb{Z} = \\{ \\dots, -2, -1, 0, 1, 2, \\dots \\} && \\text{the set of integers} \\\\\n",
    "\\mathbb{P} = \\{ 1, 2, \\dots \\} && \\text{the set of positive integers} \\\\\n",
    "\\mathbb{N} = \\mathbb{P} \\cup \\{ 0 \\} = \\{ 0, 1, 2, \\dots \\} && \\text{the set of natural numbers (nonnegative integers)} \\\\\n",
    "\\mathbb{Q} = \\left\\{ \\frac{p}{q} \\mid p, q \\in \\mathbb{Z}, q \\ne 0 \\right\\} && \\text{the set of rational numbers}\n",
    "\\end{aligned}\n",
    "$"
   ]
  },
  {
   "cell_type": "markdown",
   "metadata": {},
   "source": [
    "$\\{ \\mathbb{Z}, +, \\cdot, \\le \\}$ The set of integers under the arithmetical operations of addition and multiplication, and the binary order relation less-than-or-equal-to $\\le$ on the set $\\mathbb{Z}$."
   ]
  },
  {
   "cell_type": "markdown",
   "metadata": {},
   "source": [
    "### Well-Ordering Principle"
   ]
  },
  {
   "cell_type": "markdown",
   "metadata": {},
   "source": [
    "Well-Ordering Principle [Humphreys & Prest]\n",
    "\n",
    "> Any non-empty set $X \\subseteq \\mathbb{P}$ of positive integers has a smallest element (i.e., an element that is less than or equal to every member of the set $X$).  \n",
    "\n",
    "$$\n",
    "\\color{red}\\boxed{\n",
    "\\exists k \\in X \\,\\, \\forall x \\in X \\,\\, (k \\le x)\n",
    "}\n",
    "$$\n",
    "\n",
    "> In other words, we have a set $X$ of positive integers which, for some reason, we know is non-empty (i.e., it contains at least one element). Then the well-ordering principle guarantees a least element $k$ of $X$.  \n",
    "> Equivalently, there is no unending strictly-decreasing sequence of positive integers.  "
   ]
  },
  {
   "cell_type": "markdown",
   "metadata": {},
   "source": [
    "---"
   ]
  },
  {
   "cell_type": "markdown",
   "metadata": {},
   "source": [
    "## Extended Integers"
   ]
  },
  {
   "cell_type": "markdown",
   "metadata": {},
   "source": [
    "An extended integer has the form\n",
    "\n",
    "$m + n\\sqrt{10}$\n",
    "\n",
    "where $m$ and $n$ are ordinary integers.\n",
    "\n",
    "Extended Integer Addition\n",
    "\n",
    "Extended Integer Subtraction\n",
    "\n",
    "Extended Integer Multiplication\n",
    "\n",
    "Extended Integer Division\n",
    "\n",
    "$\n",
    "\\begin{aligned}\n",
    "\\frac{a + b\\sqrt{10}}{m + n\\sqrt{10}}\n",
    "&= \\frac{a + b\\sqrt{10}}{m + n\\sqrt{10}} \\times \\frac{m - n\\sqrt{10}}{m - n\\sqrt{10}} \\\\\n",
    "&= \\frac{a \\times m - 10b \\times n + (b \\times m - a \\times n) \\sqrt{10}}{m^2 - 10n^2} \\\\\n",
    "\\end{aligned}\n",
    "$\n",
    "\n",
    "$m + n\\sqrt{10}$ is a divisor of $a + b\\sqrt{10}$ iff their ratio is another extended integer.\n",
    "\n",
    "$\n",
    "\\begin{aligned}\n",
    "2 + \\sqrt{10} \\mid 12 + 3\\sqrt{10} \\leftrightarrow & \\frac{12 + 3\\sqrt{10}}{2 + \\sqrt{10}} = 1 + \\sqrt{10}\n",
    "\\end{aligned}\n",
    "$\n",
    "\n",
    "Indivisible Extended Numbers are not primes because they do not satisfy Theorem 1.1."
   ]
  },
  {
   "cell_type": "markdown",
   "metadata": {},
   "source": [
    "[EXAMPLE]\n",
    "\n",
    "Show that the extended integer $2$ is not prime according to Theorem 1.1.\n",
    "\n",
    "Let $4 + \\sqrt{10}$ and $4 - \\sqrt{10}$ be extended integers.\n",
    "\n",
    "$(4 + \\sqrt{10}) \\times (4 - \\sqrt{10}) = 6$\n",
    "\n",
    "$2 \\mid 6 = 3$\n",
    "\n",
    "Theorem 1.1 says\n",
    "\n",
    "$p \\mid ab \\rightarrow (p \\mid a \\lor p \\mid b)$\n",
    "\n",
    "However\n",
    "\n",
    "$\n",
    "(2 \\nmid 4 + \\sqrt{10}) \\land (2 \\nmid 4 - \\sqrt{10})\n",
    "$\n",
    "\n",
    "Therefore, the extended integer $2$ is not prime."
   ]
  },
  {
   "cell_type": "markdown",
   "metadata": {},
   "source": [
    "---"
   ]
  },
  {
   "cell_type": "markdown",
   "metadata": {},
   "source": [
    "## More first-order statements"
   ]
  },
  {
   "cell_type": "markdown",
   "metadata": {},
   "source": [
    "### Lagrange's Theorem"
   ]
  },
  {
   "cell_type": "markdown",
   "metadata": {},
   "source": [
    "> Every natural number is the sum of four squares.  \n",
    "\n",
    "$$\n",
    "\\color{red}\n",
    "\\forall n \\in \\mathbb{N} \\,\\,\n",
    "\\exists a, b, c, d \\in \\mathbb{N} \\,\\,\n",
    "(n = a^2 + b^2 + c^2 + d^2)\n",
    "$$"
   ]
  },
  {
   "cell_type": "markdown",
   "metadata": {},
   "source": [
    "---"
   ]
  }
 ],
 "metadata": {
  "kernelspec": {
   "display_name": "ml",
   "language": "python",
   "name": "python3"
  },
  "language_info": {
   "codemirror_mode": {
    "name": "ipython",
    "version": 3
   },
   "file_extension": ".py",
   "mimetype": "text/x-python",
   "name": "python",
   "nbconvert_exporter": "python",
   "pygments_lexer": "ipython3",
   "version": "3.11.5"
  },
  "orig_nbformat": 4
 },
 "nbformat": 4,
 "nbformat_minor": 2
}
