{
 "cells": [
  {
   "cell_type": "markdown",
   "metadata": {},
   "source": [
    "# Divisibility"
   ]
  },
  {
   "cell_type": "markdown",
   "metadata": {},
   "source": [
    "---"
   ]
  },
  {
   "cell_type": "markdown",
   "metadata": {},
   "source": [
    "## Divisor and multiple"
   ]
  },
  {
   "cell_type": "markdown",
   "metadata": {},
   "source": [
    "$Definition$\n",
    "\n",
    "> Let $a$ and $b$ be integers.  \n",
    "> It is said that $a$ divides $b$ if there is an integer $k$ s.t. $ak = b$.  \n",
    "> In this case, we also say that $a$ is a divisor of $b$ or that $b$ is a multiple of $a$.  \n",
    "\n",
    "$$\n",
    "\\forall a, b \\in \\mathbb{Z} \\,\\,\n",
    "[ \\,\\,\n",
    "a \\mid b\n",
    "\\iff\n",
    "\\exists k \\in \\mathbb{Z} \\,\\,\n",
    "(ak = b)\n",
    "\\,\\, ]\n",
    "$$\n",
    "\n",
    "> Otherwise, $a$ does not divide $b$.\n",
    "\n",
    "$$\n",
    "\\forall a, b \\in \\mathbb{Z} \\,\\,\n",
    "[ \\,\\,\n",
    "a \\nmid b\n",
    "\\iff\n",
    "\\lnot\\exists k \\in \\mathbb{Z} \\,\\,\n",
    "(ak = b)\n",
    "\\,\\, ]\n",
    "$$"
   ]
  },
  {
   "cell_type": "markdown",
   "metadata": {},
   "source": [
    "---"
   ]
  },
  {
   "cell_type": "markdown",
   "metadata": {},
   "source": [
    "## One divides every integer"
   ]
  },
  {
   "cell_type": "markdown",
   "metadata": {},
   "source": [
    "$Claim$\n",
    "\n",
    "> One divides every integer.  \n",
    "\n",
    "$$\n",
    "\\forall a \\in \\mathbb{Z} \\,\\,\n",
    "[\\,\\,\n",
    "1 \\mid a\n",
    "\\,\\,]\n",
    "$$\n",
    "\n",
    "$Proof$\n",
    "\n",
    "> Let $a$ be an integer and let $1$ divide $a$.  \n",
    "> Then there is an integer $k = a$ s.t. $1 \\cdot k = 1 \\cdot a = a$.  \n",
    "> $1 \\cdot a = a$ for any integer $a$.  \n",
    "> $\\therefore 1 \\mid a$ for any integer $a$.  \n",
    "\n",
    "$\\blacksquare$"
   ]
  },
  {
   "cell_type": "markdown",
   "metadata": {},
   "source": [
    "---"
   ]
  },
  {
   "cell_type": "markdown",
   "metadata": {},
   "source": [
    "## Every integer divides zero"
   ]
  },
  {
   "cell_type": "markdown",
   "metadata": {},
   "source": [
    "$Claim$\n",
    "\n",
    "> Every integer divides zero.  \n",
    "\n",
    "$$\n",
    "\\forall a \\in \\mathbb{Z} \\,\\,\n",
    "[\\,\\,\n",
    "a \\mid 0\n",
    "\\,\\,]\n",
    "$$\n",
    "\n",
    "$Proof$\n",
    "\n",
    "> Let $a$ be an integer and let $a$ divide $0$.  \n",
    "> Then there is an integer $k = 0$ s.t. $ak = a \\cdot 0 = 0$.  \n",
    "> $a \\cdot 0 = 0$ for any integer $a$.  \n",
    "> $\\therefore a \\mid 0$ for any integer $a$.  \n",
    "\n",
    "$\\blacksquare$\n",
    "\n",
    "<div style=\"color: red;\">\n",
    "\n",
    "Does this hold for $a = 0$?\n",
    "\n",
    "</div>"
   ]
  },
  {
   "cell_type": "markdown",
   "metadata": {},
   "source": [
    "---"
   ]
  },
  {
   "cell_type": "markdown",
   "metadata": {},
   "source": [
    "## Zero does not divide any integer"
   ]
  },
  {
   "cell_type": "markdown",
   "metadata": {},
   "source": [
    "$Claim$\n",
    "\n",
    "> Zero does not divide any integer.  \n",
    "\n",
    "$$\n",
    "\\lnot\\exists a \\in \\mathbb{Z} \\,\\,\n",
    "[\\,\\,\n",
    "0 \\mid a\n",
    "\\,\\,]\n",
    "$$\n",
    "\n",
    "$Proof \\,\\, by \\,\\, contradiction$\n",
    "\n",
    "> Let $a$ be an integer and let $0 \\mid a$.  \n",
    "> Case $a \\ne 0$\n",
    ">> Then there is an integer $k$ s.t. $0 \\cdot k = a$.  \n",
    ">> $0 \\cdot k = a \\implies a = 0$.  \n",
    ">> But we said that $a \\ne 0$. $Contradiction!$  \n",
    ">> $\\therefore 0 \\nmid a$.  \n",
    ">  \n",
    "> Case $a = 0$\n",
    ">> Then there is an integer $k$ s.t. $0 \\cdot k = 0$.  \n",
    ">> $0 \\cdot k = 0$ for any integer $k$ $\\iff \\frac{0}{0} = k$ for any integer $k$.  \n",
    ">> Let's say that $k = 1$.  \n",
    ">> $1 = \\frac{0}{0} = \\frac{0 + 0}{0} = \\frac{0}{0} + \\frac{0}{0} = 1 + 1 = 2$.  \n",
    ">> But $1 \\ne 2$. $Contradiction!$  \n",
    "\n",
    "$\\blacksquare$"
   ]
  },
  {
   "cell_type": "markdown",
   "metadata": {},
   "source": [
    "---"
   ]
  },
  {
   "cell_type": "markdown",
   "metadata": {},
   "source": [
    "## Every integer divides itself"
   ]
  },
  {
   "cell_type": "markdown",
   "metadata": {},
   "source": [
    "[ 1.i ]\n",
    "\n",
    "$Claim$\n",
    "\n",
    "> Any integer divides itself.  \n",
    "\n",
    "$$\n",
    "\\forall a \\in \\mathbb{Z} \\,\\, (a \\mid a)\n",
    "$$\n",
    "\n",
    "$Proof$\n",
    "\n",
    "> For any integer $a$ there is an integer $k = 1$ such that $ak = a$.  \n",
    "\n",
    "$$\n",
    "\\forall a \\in \\mathbb{Z} \\,\\, (a \\cdot 1 = a)\n",
    "$$\n",
    "\n",
    "$\\blacksquare$\n",
    "\n",
    "<div style=\"color: red;\">\n",
    "\n",
    "Does this hold for $a = 0$?\n",
    "\n",
    "</div>"
   ]
  },
  {
   "cell_type": "markdown",
   "metadata": {},
   "source": [
    "---"
   ]
  },
  {
   "cell_type": "markdown",
   "metadata": {},
   "source": [
    "## If two integers divide each other then they are equal up to parity"
   ]
  },
  {
   "cell_type": "markdown",
   "metadata": {},
   "source": [
    "[ 1.ii ]\n",
    "\n",
    "$Claim$\n",
    "\n",
    "> If $a \\mid b$ and $b \\mid a$, then $a = \\pm b$.  \n",
    "\n",
    "$$\n",
    "\\forall a, b \\in \\mathbb{Z} \\,\\, [ \\,\\, (a \\mid b \\land b \\mid a) \\implies a = \\pm b \\,\\, ]\n",
    "$$\n",
    "\n",
    "$Proof$\n",
    "\n",
    "> Let $a \\mid b$ and $b \\mid a$.  \n",
    "> Then there are integers $k$ and $m$ such that $ak = b$ and $bm = a$.  \n",
    "> $ak = b \\implies a = \\frac{b}{k} \\implies bm = \\frac{b}{k} \\implies mk = 1 \\implies m = k = \\pm 1 \\implies a = \\pm b$.  \n",
    "> $\\therefore a = \\pm b$  \n",
    "\n",
    "$\\blacksquare$\n",
    "\n",
    "<div style=\"color: red;\">\n",
    "\n",
    "Does \"up to parity\" make sense here?\n",
    "\n",
    "</div>"
   ]
  },
  {
   "cell_type": "markdown",
   "metadata": {},
   "source": [
    "---"
   ]
  },
  {
   "cell_type": "markdown",
   "metadata": {},
   "source": [
    "## Transitivity of division"
   ]
  },
  {
   "cell_type": "markdown",
   "metadata": {},
   "source": [
    "[ 1.iii ]\n",
    "\n",
    "$Claim$\n",
    "\n",
    "> If $a \\mid b$ and $b \\mid c$, then $a \\mid c$.  \n",
    "\n",
    "$$\n",
    "\\forall a, b, c \\in \\mathbb{Z} \\,\\, [ \\,\\, (a \\mid b \\land b \\mid c) \\implies a \\mid c \\,\\, ]\n",
    "$$\n",
    "\n",
    "$Proof$\n",
    "\n",
    "> Let $a \\mid b$ and $b \\mid c$.  \n",
    "> Then there are integers $k$ and $m$ such that $ak = b$ and $bm = c$.  \n",
    "> $ak = b \\implies (ak)m = c \\implies a(km) = c$.  \n",
    "> $\\therefore a \\mid c$  \n",
    "\n",
    "$\\blacksquare$\n",
    "\n",
    "$Further$\n",
    "\n",
    "$$\n",
    "\\forall x_i \\in \\mathbb{Z} \\,\\, , \\,\\, i \\in \\{ 1, \\dots n \\} \\,\\,\n",
    "[ \\,\\, (x_1 \\mid x_2 \\land \\dots \\land x_{n - 1} \\mid x_n) \\implies x_1 \\mid x_n \\,\\, ]\n",
    "$$"
   ]
  },
  {
   "cell_type": "markdown",
   "metadata": {},
   "source": [
    "---"
   ]
  },
  {
   "cell_type": "markdown",
   "metadata": {},
   "source": [
    "## If an integer multiple of one integer divides that integer multiple of another integer then the first integer divides the second"
   ]
  },
  {
   "cell_type": "markdown",
   "metadata": {},
   "source": [
    "[ 1.iv ]\n",
    "\n",
    "$Claim$\n",
    "\n",
    "> If $ac \\mid bc$ and $c \\ne 0$, then $a \\mid b$.  \n",
    "\n",
    "$$\n",
    "\\forall a, b, c \\in \\mathbb{Z} \\,\\, [ \\,\\, (ac \\mid bc \\land c \\ne 0) \\implies a \\mid b \\,\\, ]\n",
    "$$\n",
    "\n",
    "$Proof$\n",
    "\n",
    "> Let $ac \\mid bc$ and $c \\ne 0$.  \n",
    "> Then there is an integer $k$ such that $ack = bc$.  \n",
    "> $ack = bc \\implies ak = b$.  \n",
    "> $\\therefore a \\mid b$  \n",
    "\n",
    "$\\blacksquare$"
   ]
  },
  {
   "cell_type": "markdown",
   "metadata": {},
   "source": [
    "---"
   ]
  },
  {
   "cell_type": "markdown",
   "metadata": {},
   "source": [
    "## If one integer divides another then an integer multiple of the first divides that integer multiple of the second"
   ]
  },
  {
   "cell_type": "markdown",
   "metadata": {},
   "source": [
    "[ 1.v ]\n",
    "\n",
    "$Claim$\n",
    "\n",
    "> If $a \\mid b$, then $ac \\mid bc$.  \n",
    "\n",
    "$$\n",
    "\\forall a, b, c \\in \\mathbb{Z} \\,\\, [ \\,\\, a \\mid b \\implies ac \\mid bc \\,\\, ]\n",
    "$$\n",
    "\n",
    "$Proof$\n",
    "\n",
    "> Let $a \\mid b$.  \n",
    "> Then there is an integer $k$ such that $ak = b$.  \n",
    "> $ak = b \\implies ack = bc$.  \n",
    "> $\\therefore ac \\mid bc$  \n",
    "\n",
    "$\\blacksquare$"
   ]
  },
  {
   "cell_type": "markdown",
   "metadata": {},
   "source": [
    "---"
   ]
  },
  {
   "cell_type": "markdown",
   "metadata": {},
   "source": [
    "## If one integer divides another integer then the first integer divides all integer multiples of the second"
   ]
  },
  {
   "cell_type": "markdown",
   "metadata": {},
   "source": [
    "$Claim$\n",
    "\n",
    "> If $a \\mid b$, then $a \\mid bc$ for all $c \\in \\mathbb{Z}$.  \n",
    "\n",
    "$$\n",
    "\\forall a, b \\in \\mathbb{Z} \\,\\, [ \\,\\, a \\mid b \\implies \\forall c \\in \\mathbb{Z} \\,\\, (a \\mid bc) \\,\\, ]\n",
    "$$\n",
    "\n",
    "$Proof$\n",
    "\n",
    "> Let $a \\mid b$.  \n",
    "> Then there is an integer $k$ such that $ak = b$.  \n",
    "> $ak = b \\implies a(ck) = bc$.  \n",
    "> $\\therefore a \\mid bc$  \n",
    "\n",
    "$\\blacksquare$"
   ]
  },
  {
   "cell_type": "markdown",
   "metadata": {},
   "source": [
    "---"
   ]
  },
  {
   "cell_type": "markdown",
   "metadata": {},
   "source": [
    "## If an integer divides some set of other integers then it also divides an integral linear combination of those other integers"
   ]
  },
  {
   "cell_type": "markdown",
   "metadata": {},
   "source": [
    "[ 1.vi ]\n",
    "\n",
    "$Claim$\n",
    "\n",
    "> If $a \\mid b \\land a \\mid c$, then $a \\mid bx + cy$ for all $x, y \\in \\mathbb{Z}$.  \n",
    "\n",
    "$$\n",
    "\\forall a, b, c \\in \\mathbb{Z} \\,\\, [ \\,\\, (a \\mid b \\land a \\mid c) \\implies \\forall x, y \\in \\mathbb{Z} \\,\\, (a \\mid bx + cy) \\,\\, ]\n",
    "$$\n",
    "\n",
    "$Proof$\n",
    "\n",
    "> Let $a \\mid b$ and $a \\mid c$.  \n",
    "> Then there are integers $k$ and $m$ such that $ak = b$ and $am = c$.  \n",
    "> $b + c = ak + am = a(k + m)$  \n",
    "> $a \\mid a(k + m) \\implies a \\mid b + c$  \n",
    "> $bx + cy = akx + amy = a(kx + my)$  \n",
    "> $a \\mid a(kx + my) \\implies a \\mid bx + cy$  \n",
    "> $\\therefore a \\mid bx + cy$  \n",
    "\n",
    "$\\blacksquare$\n",
    "\n",
    "$Further$\n",
    "\n",
    "$$\n",
    "\\forall a, b_i \\in \\mathbb{Z} \\,\\, , \\,\\, i \\in \\{ 1, \\dots, n \\} \\,\\, [ \\,\\, (a \\mid b_1 \\land \\dots \\land a \\mid b_n) \\implies a \\mid \\sum_{j = 1}^n b_jx_j \\,\\, ]\n",
    "$$"
   ]
  },
  {
   "cell_type": "markdown",
   "metadata": {},
   "source": [
    "---"
   ]
  },
  {
   "cell_type": "markdown",
   "metadata": {},
   "source": [
    "## If one integer divides another then the absolute value of the first is no larger than the second"
   ]
  },
  {
   "cell_type": "markdown",
   "metadata": {},
   "source": [
    "$Claim$\n",
    "\n",
    "> If $a$ divides $b$, then $|a|$ is no larger than $|b|$.  \n",
    "\n",
    "$$\n",
    "\\forall a, b \\in \\mathbb{Z} \\,\\,\n",
    "[ \\,\\, a \\mid b \\implies |a| \\le |b| \\,\\, ]\n",
    "$$\n",
    "\n",
    "$Proof$\n",
    "\n",
    "> Let $a \\mid b$.  \n",
    "> Then there is an integer $k$ such that $ak = b$.  \n",
    "> $ak = b \\implies |ak| = |b| \\implies |a||k| = |b| \\implies 1 \\le |k| \\implies |a| \\le |a||k|$.  \n",
    "> $\\therefore |a| \\le |b|$  \n",
    "\n",
    "$\\blacksquare$"
   ]
  },
  {
   "cell_type": "markdown",
   "metadata": {},
   "source": [
    "---"
   ]
  },
  {
   "cell_type": "markdown",
   "metadata": {},
   "source": [
    "## If a nonnegative integer divides adjacent terms in the Fibonacci sequence then the integer must be unity"
   ]
  },
  {
   "cell_type": "markdown",
   "metadata": {},
   "source": [
    "<div style=\"background-color: red;\">\n",
    "\n",
    "$\n",
    "F :=\n",
    "\\begin{cases}\n",
    "F_1 &= 1 \\\\\n",
    "F_2 &= 1 \\\\\n",
    "F_{n + 1} &= F_n + F_{n - 1} && n \\in \\{ 2, 3, \\dots \\} \\\\\n",
    "\\end{cases}\n",
    "$\n",
    "\n",
    "$Claim$\n",
    "\n",
    "> Let $m$ be a nonnegative integer.  \n",
    "> If $m$ divides both $F_n$ and $F_{n + 1}$, then $m = 1$.  \n",
    "\n",
    "$$\n",
    "\\forall m \\in \\mathbb{N} \\,\\,\n",
    "[ \\,\\, (m \\mid F_n \\land m \\mid F_{n + 1}) \\implies m = 1 \\,\\, ]\n",
    "$$\n",
    "\n",
    "$Proof$\n",
    "\n",
    "> $n = 2$  \n",
    ">> Let $m \\mid F_2$ and $m \\mid F_3$.  \n",
    ">> Then $ms = 1$ and $mt = 2$  \n",
    ">> $ms = 1 \\implies m = 1$  \n",
    ">  \n",
    "> Let $m \\mid F_n$ and $m \\mid F_{n + 1}$.  \n",
    "> Then there are integers $s$ and $t$ such that $ms = F_n$ and $mt = F_{n + 1}$.  \n",
    "> $mt = F_{n + 1} = F_n + F_{n - 1} = ms + F_{n - 1} \\implies m(t - s) = F_{n - 1}$  \n",
    "> $\\therefore m \\mid F_{n - 1}$  \n",
    ">  \n",
    "> $\\therefore m = 1$  \n",
    "\n",
    "$\\blacksquare$\n",
    "\n",
    "</div>"
   ]
  },
  {
   "cell_type": "markdown",
   "metadata": {},
   "source": [
    "---"
   ]
  },
  {
   "cell_type": "markdown",
   "metadata": {},
   "source": [
    "## If an integer is odd then eight divides one less than its square"
   ]
  },
  {
   "cell_type": "markdown",
   "metadata": {},
   "source": [
    "[ 3 ]\n",
    "\n",
    "$Claim$\n",
    "\n",
    "> If $n$ is odd then $8 \\mid n^2 - 1$.  \n",
    "\n",
    "$$\n",
    "\\forall n \\in \\mathbb{Z} \\,\\,\n",
    "(Odd(n) \\implies 8 \\mid n^2 - 1)\n",
    "$$\n",
    "\n",
    "$Proof$\n",
    "\n",
    "> Let $n$ be odd.  \n",
    "> Then $n$ is an integer of the form $2k + 1$ for some integer $k$.  \n",
    "> $n = 2k + 1 \\implies n^2 = (2k + 1)^2 = 4k(k + 1) + 1 \\implies n^2 - 1 = 4k(k + 1)$.  \n",
    "> Then one of $k$ and $k + 1$ is even and the other is odd and so $k(k + 1)$ is even.  \n",
    "> Then $k(k + 1)$ is an integer of the form $2m$ for some integer $m$.  \n",
    "> $k(k + 1) = 2m \\implies n^2 - 1 = 4(2m) \\implies n^2 - 1 = 8m \\implies 8 \\mid n^2 - 1$.  \n",
    "> $\\therefore 8 \\mid n^2 - 1$\n",
    "\n",
    "$\\blacksquare$"
   ]
  },
  {
   "cell_type": "markdown",
   "metadata": {},
   "source": [
    "---"
   ]
  },
  {
   "cell_type": "markdown",
   "metadata": {},
   "source": [
    "## Find all integral solutions to $x^2 - y^2 = 105$"
   ]
  },
  {
   "cell_type": "markdown",
   "metadata": {},
   "source": [
    "[ 4 ]\n",
    "\n",
    "Let $x$ and $y$ be integers. Find all solutions to the equation $x^2 - y^2 = 105$.\n",
    "\n",
    "> $x^2 - y^2 = (x - y)(x + y) = 3 \\cdot 5 \\cdot 7 = 105$  \n",
    ">  \n",
    "> $x - y = 1 \\implies x + y = 3 \\cdot 5 \\cdot 7$  \n",
    ">> $x = y + 1 \\implies y = \\frac{3 \\cdot 5 \\cdot 7 - 1}{2} = 52 \\implies x = 53$  \n",
    ">> $(53 - 52)(53 + 52) = 1 \\cdot 105$  \n",
    ">  \n",
    "> $x - y = 3 \\implies x + y = 5 \\cdot 7$  \n",
    ">> $x = y + 3 \\implies y = \\frac{5 \\cdot 7 - 3}{2} = 16 \\implies x = 19$  \n",
    ">> $(19 - 16)(16 + 19) = 3 \\cdot 35$\n",
    ">  \n",
    "> $x - y = 5 \\implies x + y = 3 \\cdot 7$  \n",
    ">> $x = y + 5 \\implies y = \\frac{3 \\cdot 7 - 5}{2} = 8 \\implies x = 13$  \n",
    ">> $(13 - 8)(13 + 8) \\implies 5 \\cdot 21$\n",
    ">  \n",
    "> $x - y = 7 \\implies x + y = 3 \\cdot 5$  \n",
    ">> $x = y + 7 \\implies y = \\frac{3 \\cdot 5 - 7}{2} = 4 \\implies x = 11$  \n",
    ">> $(11 - 4)(11 + 4) \\implies 7 \\cdot 15$  \n",
    ">  \n",
    ">  $(1, 105)$  \n",
    ">  $(-1, 105)$  \n",
    ">  $(1, -105)$  \n",
    ">  $(-1, -105)$  \n",
    ">  $(3, 35)$  \n",
    ">  $(-3, 35)$  \n",
    ">  $(3, -35)$  \n",
    ">  $(-3, -35)$  \n",
    ">  $(5, 21)$  \n",
    ">  $(-5, 21)$  \n",
    ">  $(5, -21)$  \n",
    ">  $(-5, -21)$  \n",
    ">  $(7, 15)$  \n",
    ">  $(-7, 15)$  \n",
    ">  $(7, -15)$  \n",
    ">  $(-7, -15)$  "
   ]
  },
  {
   "cell_type": "markdown",
   "metadata": {},
   "source": [
    "---"
   ]
  },
  {
   "cell_type": "markdown",
   "metadata": {},
   "source": [
    "## If two integers are odd then so is their product"
   ]
  },
  {
   "cell_type": "markdown",
   "metadata": {},
   "source": [
    "[ 5.i ]\n",
    "\n",
    "$Claim$\n",
    "\n",
    "> If $m$ and $n$ are integers of the form $4k + 1$ then so is $mn$.  \n",
    "\n",
    "$$\n",
    "\\forall m, n \\in \\mathbb{Z} \\,\\,\n",
    "[ \\,\\,\n",
    "(\\exists s \\in \\mathbb{Z} \\,\\, (m = 4s + 1)\n",
    "\\land \\exists t \\in \\mathbb{Z} \\,\\, (n = 4t + 1)) \\implies\n",
    "\\exists \\ell \\in \\mathbb{Z} \\,\\,\n",
    "(mn = 4\\ell + 1)\n",
    "\\,\\, ]\n",
    "$$\n",
    "\n",
    "$Proof$\n",
    "\n",
    "> Let $m$ be an integer of the form $4s + 1$ for some integer $s$ and let $n$ be an integer of the form $4t + 1$ for some integer $t$.  \n",
    "> $mn = (4s + 1)(4t + 1) = 4^2st + 4s + 4t + 1 = 4(4st + s + t) + 1 = 4\\ell + 1$ where $\\ell = 4st + s + t$.  \n",
    "> $\\therefore \\exists \\ell \\in \\mathbb{Z} \\,\\, (mn = 4\\ell + 1)$\n",
    "\n",
    "$\\blacksquare$"
   ]
  },
  {
   "cell_type": "markdown",
   "metadata": {},
   "source": [
    "---"
   ]
  },
  {
   "cell_type": "markdown",
   "metadata": {},
   "source": [
    "[ 5.ii ]\n",
    "\n",
    "$Claim$\n",
    "\n",
    "> Let $m$ and $n$ be nonnegative integers.  \n",
    "> If $mn$ is of the form $4k - 1$ then so is one of $m$ and $n$.  "
   ]
  },
  {
   "cell_type": "markdown",
   "metadata": {},
   "source": [
    "$Proof$\n",
    "\n",
    "> Let $mn = 4k - 1$ for some integer $k$.  \n",
    "> $mn = 4k - 1 = 4(4st + s - t) - 1 = 4^2st + 4s - 4t - 1 = (4s - 1)(4t + 1)$ for some integers $s$ and $t$.\n",
    "\n",
    "$\\blacksquare$"
   ]
  },
  {
   "cell_type": "markdown",
   "metadata": {},
   "source": [
    "$Proof \\,\\, by \\,\\, contraposition$\n",
    "\n",
    "> Let $m$ be an even integer (of the form $2s$ for some integer $s$) and let $n$ be an even integer (of the form $2t$ for some integer $t$).  \n",
    "> Then $mn = (2s)(2t) = 4(st) = 4k$ where $k = st$.  \n",
    "> $\\therefore$ one of $m$ or $n$ must be odd.\n",
    "\n",
    "$\\blacksquare$"
   ]
  },
  {
   "cell_type": "markdown",
   "metadata": {},
   "source": [
    "---"
   ]
  },
  {
   "cell_type": "markdown",
   "metadata": {},
   "source": [
    "[ 5.iii ]\n",
    "\n",
    "$Claim$\n",
    "\n",
    "> Every number of the form $4k - 1$ has a prime factor of this form.  "
   ]
  },
  {
   "cell_type": "markdown",
   "metadata": {},
   "source": [
    "---"
   ]
  },
  {
   "cell_type": "markdown",
   "metadata": {},
   "source": [
    "[ 5.iv ]\n",
    "\n",
    "$Claim$\n",
    "\n",
    "> There are infinitely many primes of the form $4k - 1$.  "
   ]
  },
  {
   "cell_type": "markdown",
   "metadata": {},
   "source": [
    "---"
   ]
  },
  {
   "cell_type": "markdown",
   "metadata": {},
   "source": [
    "## Irrationality of $\\sqrt{2}$"
   ]
  },
  {
   "cell_type": "markdown",
   "metadata": {},
   "source": [
    "[Theorem 1.2]\n",
    "\n",
    "The square root of $2$ cannot be expressed as a ratio of two integers.\n",
    "\n",
    "$\n",
    "\\begin{aligned}\n",
    "     & \\forall a \\forall b \\left( \\frac{a}{b} \\ne \\sqrt{2} \\right) && \\text{The square root of 2 cannot be expressed by any two integers a and b.} \\\\\n",
    "\\iff & \\forall a \\lnot \\exists b \\left( \\frac{a}{b} = \\sqrt{2} \\right) && \\text{For any integer a there is no integer b such that their ratio is the square root of 2.} \\\\\n",
    "\\iff & \\lnot \\exists a \\exists b \\left( \\frac{a}{b} = \\sqrt{2} \\right) && \\text{It is not the case that there are two integers a and b whose quotient is the square root of 2.} \\\\\n",
    "\\end{aligned}\n",
    "$\n",
    "\n",
    "$Proof \\,\\, by \\,\\, contradiction$\n",
    "\n",
    "Let $\\sqrt{2} = \\frac{m}{n}$ where $m$ and $n$ are integers and the fraction is reduced (i.e., $m$ and $n$ have no common divisors larger than $1$).\n",
    "\n",
    "$\n",
    "\\begin{aligned}\n",
    "\\sqrt{2} &= \\frac{m}{n} && \\text{hypothesis} \\\\\n",
    "2 &= \\frac{m^2}{n^2} \\\\\n",
    "2n^2 &= m^2 \\\\\n",
    "2 &\\mid m^2 \\\\\n",
    "2 \\mid m^2 &\\rightarrow 2 \\mid m && \\text{Theorem 1.1} \\\\\n",
    "2 &\\mid m && \\text{modus ponens} \\\\\n",
    "2 \\mid m^2 &\\rightarrow 4 \\mid m^2 && \\text{Theorem 1.1} \\\\\n",
    "4 &\\mid m^2 && \\text{modus ponens} \\\\\n",
    "4 &\\mid 2n^2 \\\\\n",
    "2 &\\mid n^2 \\\\\n",
    "2 \\mid n^2 &\\rightarrow 2 \\mid n && \\text{Theorem 1.1} \\\\\n",
    "2 &\\mid n && \\text{modus ponens} \\\\\n",
    "2 \\mid m &\\land 2 \\mid n && \\text{contradiction, m and n have no common divisors larger than 1} \\\\\n",
    "\\blacksquare\n",
    "\\end{aligned}\n",
    "$"
   ]
  },
  {
   "cell_type": "markdown",
   "metadata": {},
   "source": [
    "---"
   ]
  }
 ],
 "metadata": {
  "language_info": {
   "name": "python"
  },
  "orig_nbformat": 4
 },
 "nbformat": 4,
 "nbformat_minor": 2
}
