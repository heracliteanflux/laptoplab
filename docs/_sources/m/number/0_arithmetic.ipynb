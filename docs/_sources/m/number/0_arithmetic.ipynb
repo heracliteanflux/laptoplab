{
 "cells": [
  {
   "cell_type": "markdown",
   "metadata": {},
   "source": [
    "# Arithmetic\n",
    "```{contents}\n",
    "```"
   ]
  },
  {
   "cell_type": "markdown",
   "metadata": {},
   "source": [
    "---\n",
    "---\n",
    "---"
   ]
  },
  {
   "cell_type": "markdown",
   "metadata": {},
   "source": [
    "We focus on bit complexity (of algorithms), the number of elementary operations on individual bits, because it reflects the amount of hardware, transistors and wires, necessary for implementing an algorithm."
   ]
  },
  {
   "cell_type": "markdown",
   "metadata": {},
   "source": [
    "$\\lg$ is shorthand for $\\log_2$"
   ]
  },
  {
   "cell_type": "markdown",
   "metadata": {},
   "source": [
    "$\\log N$ is the power to which $2$ must be raised to obtain $N$.\n",
    "\n",
    "$\\lceil \\log N \\rceil$ is the number of times $N$ must be halved to obtain unity. This will be useful when a number is halved at each iteration of an algorithm.\n",
    "\n",
    "$\\lceil \\log (N + 1) \\rceil$ is the number of bits in the binary representation of $N$.\n",
    "\n",
    "$\\lfloor \\log N \\rfloor$ is the depth of a complete binary tree with $N$ nodes.\n",
    "\n",
    "$\\log N = 1 + 1/2 + 1/3 + \\dotsb + 1/N$ to within a constant factor."
   ]
  },
  {
   "cell_type": "markdown",
   "metadata": {},
   "source": [
    "---"
   ]
  },
  {
   "cell_type": "markdown",
   "metadata": {},
   "source": [
    "### Base-$b$ representation of a non-negative integer"
   ]
  },
  {
   "cell_type": "markdown",
   "metadata": {},
   "source": [
    "<fieldset style=\"border: 0.5px solid #0096FF; border-radius: 5px; margin: 0px 0px 15px 0px; padding: 15px 20px 10px 20px;\">\n",
    "\n",
    "<div class=\"full-width\" style=\"color: #0096FF;\">\n",
    "\n",
    "<b>BASE-$b$ REPRESENTATION OF A NON-NEGATIVE INTEGER</b>\n",
    "\n",
    "The base-$b$ representation of a nonnegative integer $x$ is the shortest sequence of integer digits $(x_i)$ such that each digit satisfies\n",
    "\n",
    "$0 \\le x_i \\lt b$\n",
    "\n",
    "and\n",
    "\n",
    "$\n",
    "\\begin{aligned}\n",
    "x = \\sum_{i=0}^{d-1} x_i b^i\n",
    "\\end  {aligned}\n",
    "$\n",
    "\n",
    "where $d$ is the number of digits of $x$ in base $b$.\n",
    "</div>\n",
    "</fieldset>"
   ]
  },
  {
   "cell_type": "markdown",
   "metadata": {},
   "source": [
    "---"
   ]
  },
  {
   "cell_type": "markdown",
   "metadata": {},
   "source": [
    "### Balanced base-$b$ representation of a non-negative integer"
   ]
  },
  {
   "cell_type": "markdown",
   "metadata": {},
   "source": [
    "<fieldset style=\"border: 0.5px solid #0096FF; border-radius: 5px; margin: 0px 0px 15px 0px; padding: 15px 20px 10px 20px;\">\n",
    "\n",
    "<div class=\"full-width\" style=\"color: #0096FF;\">\n",
    "\n",
    "<b>BALANCED BASE-$b$ REPRESENTATION OF A NON-NEGATIVE INTEGER</b>\n",
    "\n",
    "The balanced base-$b$ representation of a nonnegative integer $x$ is the shortest sequence of integer digits $(x_i)$ such that each digit satisfies\n",
    "\n",
    "$\n",
    "\\begin{aligned}\n",
    "-\\left\\lfloor \\frac{b}{2} \\right\\rfloor \\le x_i \\le \\left\\lfloor \\frac{b-1}{2} \\right\\rfloor\n",
    "\\end  {aligned}\n",
    "$\n",
    "\n",
    "and\n",
    "\n",
    "$\n",
    "\\begin{aligned}\n",
    "x = \\sum_{i=0}^{d-1} x_i b^i\n",
    "\\end  {aligned}\n",
    "$\n",
    "\n",
    "where $d$ is the number of digits of $x$ in base $b$.\n",
    "</div>\n",
    "</fieldset>"
   ]
  },
  {
   "cell_type": "markdown",
   "metadata": {},
   "source": [
    "<fieldset style=\"border: 0.5px solid #50C878; border-radius: 5px; margin: 0px 0px 15px 0px; padding: 15px 20px 10px 20px;\">\n",
    "\n",
    "<div class=\"full-width\" style=\"color: #50C878;\">\n",
    "\n",
    "<b>Example: Balanced Ternary</b>\n",
    "\n",
    "If $b = 3$ then\n",
    "\n",
    "$\n",
    "\\begin{aligned}\n",
    "\\underbrace{-\\left\\lfloor \\frac{3}{2} \\right\\rfloor}_{-1} \\le x_i \\le \\underbrace{\\left\\lfloor \\frac{3-1}{2} \\right\\rfloor}_{1}\n",
    "\\end  {aligned}\n",
    "$\n",
    "\n",
    "Define $-1 = \\text{T}$.\n",
    "\n",
    "Thus the three digits of balanced ternary are\n",
    "\n",
    "$\\text{T}, 0, 1$\n",
    "\n",
    "$\n",
    "\\begin{aligned}\n",
    "-9 &=& \\text{T}00 \\\\ \n",
    "-8 &=& \\text{T}01 \\\\\n",
    "-7 &=& \\text{T}1\\text{T} \\\\\n",
    "-6 &=& \\text{T}10 \\\\\n",
    "-5 &=& \\text{T}11 \\\\\n",
    "-4 &=& \\text{TT}  \\\\\n",
    "-3 &=& \\text{T}0  \\\\\n",
    "-2 &=& \\text{T}1  \\\\\n",
    "-1 &=& \\text{T}   \\\\\n",
    " 0 &=& 0          \\\\\n",
    " 1 &=& 1          \\\\\n",
    " 2 &=& 1\\text{T}  \\\\\n",
    " 3 &=& 10         \\\\\n",
    " 4 &=& 11         \\\\\n",
    " 5 &=& 1\\text{TT} \\\\\n",
    " 6 &=& 1\\text{T}0 \\\\\n",
    " 7 &=& 1\\text{T}1 \\\\\n",
    " 8 &=& 10\\text{T} \\\\\n",
    " 9 &=& 100        \\\\\n",
    "\\end  {aligned}\n",
    "$\n",
    "\n",
    "</div>\n",
    "</fieldset>\n",
    "\n",
    "[ [y](https://www.youtube.com/watch?v=RcQ218t8ZO0) ] `12-29-2023` Cadaeic Studios. \"The Magic of Balanced Bases\"."
   ]
  },
  {
   "cell_type": "markdown",
   "metadata": {},
   "source": [
    "---"
   ]
  },
  {
   "cell_type": "markdown",
   "metadata": {},
   "source": [
    "### Number of digits required to represent a non-negative integer in base $b$"
   ]
  },
  {
   "cell_type": "markdown",
   "metadata": {},
   "source": [
    "<fieldset style=\"border: 0.5px solid #0096FF; border-radius: 5px; margin: 0px 0px 15px 0px; padding: 15px 20px 10px 20px;\">\n",
    "\n",
    "<div class=\"full-width\" style=\"color: #0096FF;\">\n",
    "\n",
    "<b>Claim</b>\n",
    "\n",
    "$\\lceil \\log_b (n + 1) \\rceil$ digits are needed to represent a non-negative integer $n$ in base $b \\ge 2$.\n",
    "\n",
    "<b>Proof</b>\n",
    "\n",
    "With $k \\ge 1$ digits in base $b$ we can express non-negative integers $n$ up to $b^k - 1$\n",
    "\n",
    "$\n",
    "\\begin{aligned}\n",
    "       b^k - 1 &&     &\\ge                n             && \\gt b^{k-1} - 1 \\\\\n",
    "       b^k     &&     &\\ge                n + 1         && \\gt b^{k-1}     \\\\\n",
    "\\log_b b^k     && = k &\\ge        \\log_b (n + 1)        && \\gt    k-1      \\\\\n",
    "               &&     &=   \\lceil \\log_b (n + 1) \\rceil &&                 \\\\\n",
    "\\end  {aligned}\n",
    "$\n",
    "\n",
    "$\\blacksquare$\n",
    "</div>\n",
    "\n",
    "It is a basic property of the ceiling function that\n",
    "\n",
    "$\n",
    "\\begin{aligned}\n",
    "                               0      & \\le \\lceil \\log_b (n + 1) \\rceil - \\log_b (n + 1)          && \\lt    1  \\\\\n",
    "   -\\lceil \\log_b (n + 1) \\rceil      & \\le \\phantom{\\lceil \\log_b (n + 1) \\rceil} -\\log_b (n + 1) && \\lt    1 - \\lceil \\log_b (n + 1) \\rceil      \\\\\n",
    "    \\lceil \\log_b (n + 1) \\rceil      & \\ge \\phantom{\\lceil \\log_b (n + 1) \\rceil-} \\log_b (n + 1) && \\gt    \\lceil \\log_b (n + 1) \\rceil - 1      \\\\\n",
    " b^{\\lceil \\log_b (n + 1) \\rceil}     & \\ge \\phantom{\\lceil \\log_b (n + 1) \\rceil- \\log_b} (n + 1) && \\gt b^{\\lceil \\log_b (n + 1) \\rceil - 1}     \\\\\n",
    " b^{\\lceil \\log_b (n + 1) \\rceil} - 1 & \\ge \\phantom{\\lceil \\log_b (n + 1) \\rceil- \\log_b(} n     & & \\gt b^{\\lceil \\log_b (n + 1) \\rceil - 1} - 1 \\\\\n",
    "\\end  {aligned}\n",
    "$\n",
    "\n",
    "</fieldset>"
   ]
  },
  {
   "cell_type": "markdown",
   "metadata": {},
   "source": [
    "<fieldset style=\"border: 0.5px solid #50C878; border-radius: 5px; margin: 0px 0px 15px 0px; padding: 15px 20px 10px 20px;\">\n",
    "\n",
    "<div class=\"full-width\" style=\"color: #50C878;\">\n",
    "\n",
    "<b>Example</b>\n",
    "\n",
    "base $2$\n",
    "* with $1$ digits in base $2$ we can express numbers up to $2^1 - 1 = 1$\n",
    "* with $2$ digits in base $2$ we can express numbers up to $2^2 - 1 = 3$\n",
    "* with $3$ digits in base $2$ we can express numbers up to $2^3 - 1 = 7$\n",
    "* with $4$ digits in base $2$ we can express numbers up to $2^4 - 1 = 15$\n",
    "\n",
    "base $10$\n",
    "* with $1$ digits in base $10$ we can express numbers up to $10^1 - 1 = 9$\n",
    "* with $2$ digits in base $10$ we can express numbers up to $10^2 - 1 = 99$\n",
    "* with $3$ digits in base $10$ we can express numbers up to $10^3 - 1 = 999$\n",
    "* with $4$ digits in base $10$ we can express numbers up to $10^4 - 1 = 9999$\n",
    "\n",
    "Base $2$\n",
    "\n",
    "$\n",
    "\\begin{aligned}\n",
    "\\lceil \\log_2 (\\textcolor{green}{ 0} + 1) \\rceil &= 1 \\text{ b} \\\\\n",
    "\\lceil \\log_2 (\\textcolor{green}{ 1} + 1) \\rceil &= 1 \\text{ b} \\\\\n",
    "\\lceil \\log_2 (\\textcolor{green}{ 2} + 1) \\rceil &= 2 \\text{ b} \\\\\n",
    "\\lceil \\log_2 (\\textcolor{green}{ 3} + 1) \\rceil &= 2 \\text{ b} \\\\\n",
    "\\lceil \\log_2 (\\textcolor{green}{ 4} + 1) \\rceil &= 3 \\text{ b} \\\\ &\\vdots \\\\\n",
    "\\lceil \\log_2 (\\textcolor{green}{ 7} + 1) \\rceil &= 3 \\text{ b} \\\\\n",
    "\\lceil \\log_2 (\\textcolor{green}{ 8} + 1) \\rceil &= 4 \\text{ b} \\\\ &\\vdots \\\\\n",
    "\\lceil \\log_2 (\\textcolor{green}{15} + 1) \\rceil &= 4 \\text{ b} \\\\\n",
    "\\lceil \\log_2 (\\textcolor{green}{16} + 1) \\rceil &= 5 \\text{ b} \\\\ &\\vdots \\\\\n",
    "\\lceil \\log_2 (\\textcolor{green}{31} + 1) \\rceil &= 5 \\text{ b} \\\\\n",
    "\\lceil \\log_2 (\\textcolor{green}{32} + 1) \\rceil &= 6 \\text{ b} \\\\ &\\vdots \\\\\n",
    "\\lceil \\log_2 (\\textcolor{green}{63} + 1) \\rceil &= 6 \\text{ b} \\\\\n",
    "\\lceil \\log_2 (\\textcolor{green}{64} + 1) \\rceil &= 7 \\text{ b} \\\\\n",
    "\\end  {aligned}\n",
    "$\n",
    "\n",
    "</div>\n",
    "</fieldset>"
   ]
  },
  {
   "cell_type": "code",
   "execution_count": null,
   "metadata": {},
   "outputs": [
    {
     "name": "stdout",
     "output_type": "stream",
     "text": [
      "                 largest value\n",
      " 16-bit numbers                                                                                 65535 = 2^ 16 - 1\n",
      " 20-bit numbers                                                                               1048575 = 2^ 20 - 1\n",
      " 32-bit numbers                                                                            4294967295 = 2^ 32 - 1\n",
      " 40-bit numbers                                                                         1099511627775 = 2^ 40 - 1\n",
      " 52-bit numbers                                                                      4503599627370495 = 2^ 52 - 1\n",
      " 53-bit numbers                                                                      9007199254740991 = 2^ 53 - 1\n",
      " 64-bit numbers                                                                  18446744073709551615 = 2^ 64 - 1\n",
      "128-bit numbers                                               340282366920938463463374607431768211455 = 2^128 - 1\n",
      "256-bit numbers        115792089237316195423570985008687907853269984665640564039457584007913129639935 = 2^128 - 1\n"
     ]
    }
   ],
   "source": [
    "print(f'                 largest value')\n",
    "print(f' 16-bit numbers {2** 16 - 1:85} = 2^ 16 - 1')\n",
    "print(f' 20-bit numbers {2** 20 - 1:85} = 2^ 20 - 1')\n",
    "print(f' 32-bit numbers {2** 32 - 1:85} = 2^ 32 - 1')\n",
    "print(f' 40-bit numbers {2** 40 - 1:85} = 2^ 40 - 1')\n",
    "print(f' 52-bit numbers {2** 52 - 1:85} = 2^ 52 - 1')\n",
    "print(f' 53-bit numbers {2** 53 - 1:85} = 2^ 53 - 1')\n",
    "print(f' 64-bit numbers {2** 64 - 1:85} = 2^ 64 - 1')\n",
    "print(f'128-bit numbers {2**128 - 1:85} = 2^128 - 1')\n",
    "print(f'256-bit numbers {2**256 - 1:85} = 2^128 - 1')"
   ]
  },
  {
   "cell_type": "markdown",
   "metadata": {},
   "source": [
    "---"
   ]
  },
  {
   "cell_type": "markdown",
   "metadata": {},
   "source": [
    "**How much does the size of a number change when its base changes?**\n",
    "\n",
    "The rule for converting logarithms from base $a$ to base $b$:\n",
    "\n",
    "$\\log_b N = \\frac{1}{\\log_a b} \\log_a N \\iff \\log_a N = \\log_b N \\times \\log_a b$\n",
    "\n",
    "The size of integer $N$ in base $a$ is the same as its size in base $b$ times a constant factor $\\log_a b$. Therefore, in big-$O$ notation the base is irrelevant and the size is written simply as $O(\\log N)$"
   ]
  },
  {
   "cell_type": "markdown",
   "metadata": {},
   "source": [
    "---\n",
    "---\n",
    "---"
   ]
  },
  {
   "cell_type": "markdown",
   "metadata": {},
   "source": [
    "## Addition"
   ]
  },
  {
   "cell_type": "markdown",
   "metadata": {},
   "source": [
    "---"
   ]
  },
  {
   "cell_type": "markdown",
   "metadata": {},
   "source": [
    "### Claim: the sum of any three single-digit numbers is at most two digits long"
   ]
  },
  {
   "cell_type": "markdown",
   "metadata": {},
   "source": [
    "<fieldset style=\"border: 0.5px solid #0096FF; border-radius: 5px; margin: 0px 0px 15px 0px; padding: 15px 20px 10px 20px;\">\n",
    "\n",
    "<div class=\"full-width\" style=\"color: #0096FF;\">\n",
    "\n",
    "<b>Claim</b>\n",
    "\n",
    "It is a basic property of numbers that **for any base $b \\ge 2$ the sum of any three single-digit numbers is at most two digits long**.\n",
    "</div>\n",
    "</fieldset>"
   ]
  },
  {
   "cell_type": "markdown",
   "metadata": {},
   "source": [
    "<fieldset style=\"border: 0.5px solid #50C878; border-radius: 5px; margin: 0px 0px 15px 0px; padding: 15px 20px 10px 20px;\">\n",
    "\n",
    "<div class=\"full-width\" style=\"color: #50C878;\">\n",
    "\n",
    "<b>Example</b>\n",
    "\n",
    "$\n",
    "\\begin{aligned}\n",
    "b &=  2 && & 1 + 1 + 1 &= 11                                             &&= 1 \\times  2^1 +  1 \\times  2^0 \\\\\n",
    "b &=  3 && & 2 + 2 + 2 &= 20                                             &&= 2 \\times  3^1 +  0 \\times  3^0 \\\\\n",
    "b &= 10 && & 9 + 9 + 9 &= 27                                             &&= 2 \\times 10^1 +  7 \\times 10^0 \\\\\n",
    "b &= 16 && & F + F + F &= 2D                                             &&= 2 \\times 16^1 + 13 \\times 16^0 \\\\\n",
    "b &= 60 && & \\lambda_{59} + \\lambda_{59} + \\lambda_{59} &= 2\\lambda_{57} &&= 2 \\times 60^1 + 57 \\times 60^0 \\\\\n",
    "\\end  {aligned}\n",
    "$\n",
    "</div>\n",
    "</fieldset>"
   ]
  },
  {
   "cell_type": "markdown",
   "metadata": {},
   "source": [
    "---"
   ]
  },
  {
   "cell_type": "markdown",
   "metadata": {},
   "source": [
    "### Addition"
   ]
  },
  {
   "cell_type": "markdown",
   "metadata": {},
   "source": [
    "The rule that the sum of any three single-digit numbers is at most two digits allows us to add two numbers in any base in the following way: align their right-hand ends and then perform a single right-to-left pass in which the sum is computed digit by digit, maintaining the overflow as a carry. Since we know the individual sum is a two-digit number, the carry is always a single digit, and so at any given step, three single-digit numbers are added.\n",
    "\n",
    "```txt\n",
    "Carry  1     1 1 1\n",
    "         1 1 0 1 0 1 (53)\n",
    "         1 0 0 0 1 1 (35)\n",
    "       -------------\n",
    "       1 0 1 1 0 0 0 (88)\n",
    "```"
   ]
  },
  {
   "cell_type": "markdown",
   "metadata": {},
   "source": [
    "**Complexity**\n",
    "\n",
    "Suppose both $x$ and $y$ are $n$ bits long. Then $x + y$ is at most $n + 1$ bits long and each bit of this sum is computed in a fixed amount of time.\n",
    "\n",
    "$T(n) = c_1n + c_0 = O(n)$\n",
    "\n",
    "Is there a faster algorithm? In order to add two $n$-bit numbers they must at least be read and their sum written, <span style=\"color: red;\">which require n operations</span>. Therefore, the addition algorithm is optimal <span style=\"color: red;\">up to multiplicative constants</span>.\n",
    "\n",
    "It is true that in a single processor instruction integers can be added whose size in bits is within the word length of today's computers--$32$ perhaps. But it is often useful and necessary to handle numbers much larger than this, perhaps several thousand bits long. Adding and multiplying such large numbers on real computers is very much like performing the operations bit by bit."
   ]
  },
  {
   "cell_type": "markdown",
   "metadata": {},
   "source": [
    "**Implementation**\n",
    "\n",
    "```c\n",
    "#include <stdio.h>\n",
    "\n",
    "int main (void) {\n",
    "  long b1;\n",
    "  long b2;\n",
    "\n",
    "  int i = 0;\n",
    "  int r = 0; // remainder\n",
    "  int sum[20];\n",
    "\n",
    "  printf(\"Enter the first  binary number: \"); scanf(\"%ld\", &b1);\n",
    "  printf(\"Enter the second binary number: \"); scanf(\"%ld\", &b2);\n",
    "\n",
    "  while (b1 != 0 || b2 != 0) {\n",
    "    sum[i++] = (b1 % 10 + b2 % 10 + r) % 2;\n",
    "    r        = (b1 % 10 + b2 % 10 + r) / 2;\n",
    "    b1 /= 10;\n",
    "    b2 /= 10;\n",
    "  }\n",
    "\n",
    "  if (r != 0)\n",
    "    sum[i++] = r;\n",
    "  --i;\n",
    "\n",
    "  printf(\"Sum: \");\n",
    "  while (i >= 0)\n",
    "    printf(\"%d\", sum[i--]);\n",
    "  printf(\"\\n\");\n",
    "\n",
    "  return 0;\n",
    "}\n",
    "```"
   ]
  },
  {
   "cell_type": "markdown",
   "metadata": {},
   "source": [
    "---\n",
    "---\n",
    "---"
   ]
  },
  {
   "cell_type": "markdown",
   "metadata": {},
   "source": [
    "## Multiplication"
   ]
  },
  {
   "cell_type": "markdown",
   "metadata": {},
   "source": [
    "---"
   ]
  },
  {
   "cell_type": "markdown",
   "metadata": {},
   "source": [
    "### Claim: the product of any two single-digit numbers is at most two digits long"
   ]
  },
  {
   "cell_type": "markdown",
   "metadata": {},
   "source": [
    "<fieldset style=\"border: 0.5px solid #0096FF; border-radius: 5px; margin: 0px 0px 15px 0px; padding: 15px 20px 10px 20px;\">\n",
    "\n",
    "<div class=\"full-width\" style=\"color: #0096FF;\">\n",
    "\n",
    "<b>Claim</b>\n",
    "\n",
    "It is a basic property of numbers that **for any base $b \\ge 2$ the product of any two single-digit numbers is at most two digits long**.\n",
    "</div>\n",
    "</fieldset>"
   ]
  },
  {
   "cell_type": "markdown",
   "metadata": {},
   "source": [
    "<fieldset style=\"border: 0.5px solid #50C878; border-radius: 5px; margin: 0px 0px 15px 0px; padding: 15px 20px 10px 20px;\">\n",
    "\n",
    "<div class=\"full-width\" style=\"color: #50C878;\">\n",
    "\n",
    "<b>Example</b>\n",
    "\n",
    "$\n",
    "\\begin{aligned}\n",
    "b &=  2 && & 1 \\times 1 &=  1                                             &&=  0 \\times  2^1 + 1 \\times  2^0 \\\\\n",
    "b &=  3 && & 2 \\times 2 &= 11                                             &&=  1 \\times  3^1 + 1 \\times  3^0 \\\\\n",
    "b &= 10 && & 9 \\times 9 &= 81                                             &&=  8 \\times 10^1 + 1 \\times 10^0 \\\\\n",
    "b &= 16 && & F \\times F &= E1                                             &&= 14 \\times 16^1 + 1 \\times 16^0 \\\\\n",
    "b &= 60 && & \\lambda_{59} \\times \\lambda_{59} &= 2\\lambda_{57} &&= 58 \\times 60^1 + 1 \\times 60^0 \\\\\n",
    "\\end  {aligned}\n",
    "$\n",
    "</div>\n",
    "</fieldset>"
   ]
  },
  {
   "cell_type": "markdown",
   "metadata": {},
   "source": [
    "---"
   ]
  },
  {
   "cell_type": "markdown",
   "metadata": {},
   "source": [
    "### Grade-School Binary Multiplication"
   ]
  },
  {
   "cell_type": "markdown",
   "metadata": {},
   "source": [
    "<div class=\"full-width\">\n",
    "\n",
    "<b>Algorithm</b>\n",
    "\n",
    "Compute the product $z = xy$ of two non-negative integers $x$ and $y$ in base-$b$ representation. Right-align $x$ and $y$ and then construct a rhombus-shaped array of digitwise products via repeated multiplications of two single-digit numbers. To complete the multiplication sum the columns with carry. We end up summing columns to construct integers\n",
    "\n",
    "$\n",
    "\\begin{aligned}\n",
    "w_n = \\sum_{i+j=n} x_i y_i\n",
    "\\end  {aligned}\n",
    "$\n",
    "\n",
    "where $i$ and $j$ run through all indices in the respective digit lists for $x$ and $y$. The sequence $(w_n)$ is not yet in general the base-$b$ representation of the product $z$. We must still perform the $w_n$ additions with carry. A column sum $w_n$ affects not only the digit $z_n$ but sometimes higher-order digits beyond this. For example, if\n",
    "\n",
    "$w_0 = b + 5$\n",
    "\n",
    "then $z_0 = 5$ but a $1$ must be added to $z_1$; that is, a carry occurs.\n",
    "\n",
    "$\n",
    "\\begin{array}{rrrrrrrrrr}\n",
    "         &&&&&&             &             &             &     x_{d-1} &     x_{d-2} &     x_{d-3} &     x_{d-4} & \\dots &     x_3 &     x_2 &     x_1 &     x_0 \\\\\n",
    "         &&&&&&             &             &             &     y_{d-1} &     y_{d-2} &     y_{d-3} &     y_{d-4} & \\dots &     y_3 &     y_2 &     y_1 &     y_0 \\\\ \\hline\n",
    "         &&&&&&             &             &             & x_{d-1} y_0 & x_{d-2} y_0 & x_{d-3} y_0 & x_{d-4} y_0 & \\dots & x_3 y_0 & x_2 y_0 & x_1 y_0 & x_0 y_0 \\\\\n",
    "         &&&&&&             &             & x_{d-1} y_1 & x_{d-2} y_1 & x_{d-3} y_1 & x_{d-4} y_1 & x_{d-5} y_1 & \\dots & x_2 y_1 & x_1 y_1 & x_0 y_1 \\\\\n",
    "         &&&&&&             & x_{d-1} y_2 & x_{d-2} y_2 & x_{d-3} y_2 & x_{d-4} y_2 & x_{d-5} y_2 & x_{d-6} y_2 & \\dots & x_1 y_2 & x_0 y_2 \\\\\n",
    "         &&&&&& x_{d-1} y_3 & x_{d-2} y_3 & x_{d-3} y_3 & x_{d-4} y_3 & x_{d-5} y_3 & x_{d-6} y_3 & x_{d-7} y_3 & \\dots & x_0 y_3 \\\\\n",
    "         &&&&&& \\vdots      & \\vdots      & \\vdots      & \\vdots \\\\\n",
    "         & x_{d-1} y_{d-1} & x_{d-2} y_{d-1} & x_{d-3} y_{d-1} & x_{d-4} y_{d-1} & \\dots & x_3 y_{d-1} & x_2 y_{d-1} & x_1 y_{d-1} & x_0 y_{d-1} \\\\ \\hline\n",
    "z_{2d-1} & z_{2d-2} & z_{2d-3} & z_{2d-4} & z_{2d-5} & \\dots & z_{d+2} & z_{d+1} & z_d & z_{d-1} & z_{d-2} & z_{d-3} & z_{d-4} & \\dots & z_3 & z_2 & z_1 & z_0 \\\\\n",
    "\\end  {array}\n",
    "$\n",
    "\n",
    "<b>Complexity</b>\n",
    "\n",
    "If each of $x$ and $y$ to be multiplied has $d$ digits in base $b$ then there are $d$ intermediate rows with lengths of up to $2d$ digits, accounting for the shifts. The total time taken to add up these rows, two numbers at a time, is\n",
    "\n",
    "$\\underbrace{O(d) + O(d) + \\dotsb + O(d)}_{d - 1 \\text{ times}} = O(d^2)$\n",
    "\n",
    "In other words, the total number of operations required to calculate $xy$ is $O(d^2)$ since that is how many entries appear in the rhombus-shaped array. Here, an operation is either a multiply or an add of two numbers each of size $b$. Such a digitwise multiply is called a size-$b$ multiply.\n",
    "</div>"
   ]
  },
  {
   "cell_type": "markdown",
   "metadata": {},
   "source": [
    "<fieldset style=\"border: 0.5px solid #50C878; border-radius: 5px; margin: 0px 0px 15px 0px; padding: 15px 20px 10px 20px;\">\n",
    "\n",
    "<div class=\"full-width\" style=\"color: #50C878;\">\n",
    "\n",
    "<b>Example</b>\n",
    "\n",
    "$13 \\times 11$\n",
    "\n",
    "```txt\n",
    "        1 1 0 1 (13, multiplicand)\n",
    "      x 1 0 1 1 (11, multiplier)\n",
    "      ---------\n",
    "        1 1 0 1 (1101 times 1)                  13 x 2^0 =  13\n",
    "      1 1 0 1   (1101 times 1, shifted once)    13 x 2^1 =  26\n",
    "    0 0 0 0     (1101 times 0, shifted twice)    0 x 2^2 =   0\n",
    "+ 1 1 0 1       (1101 times 1, shifted thrice)  13 x 2^3 = 104\n",
    "---------------\n",
    "1 0 0 0 1 1 1 1 (binary 143)\n",
    "```\n",
    "\n",
    "In binary each intermediate row is either zero or $x$ itself, left-shifted an appropriate amount of times. Left-shifting multiplies by the base and right-shifting divides by the base, rounding down if necessary.\n",
    "</div>\n",
    "</fieldset>"
   ]
  },
  {
   "cell_type": "markdown",
   "metadata": {},
   "source": [
    "### Squaring"
   ]
  },
  {
   "cell_type": "markdown",
   "metadata": {},
   "source": [
    "<div class=\"full-width\">\n",
    "\n",
    "$\n",
    "\\begin{aligned}\n",
    "w_n &= \\phantom{2} \\sum_{i=0}^{n}         x_i x_{n-i} \\quad 0 \\le n \\le d-1 \\\\\n",
    "    &= 2 \\sum_{i=0}^{\\lfloor n/2 \\rfloor} x_i x_{n-i} - \\delta_n \\\\\n",
    "\\delta_n &=\n",
    "\\begin{cases}\n",
    "0         & n \\text{ odd}  \\\\\n",
    "x_{n/2}^2 & n \\text{ even} \\\\\n",
    "\\end  {cases}\n",
    "\\end  {aligned}\n",
    "$\n",
    "\n",
    "Each column component $w_n$ involves about half the size-$b$ multiplies required for the general multiplication algorithm. Final carry operations must be performed on the $w_n$ to get the final digits $z_n$ of the product $z = x^2$. In most practical instances, this squaring is indeed roughly twice as fast as a multiple-precision multiply.\n",
    "\n",
    "$\n",
    "\\begin{array}{rrrrrrrrrr}\n",
    "         &&&&&&             &             &             &     x_{d-1} &     x_{d-2} &     x_{d-3} &     x_{d-4} & \\dots &     x_3 &     x_2 &     x_1 &     x_0 \\\\\n",
    "         &&&&&&             &             &             &     x_{d-1} &     x_{d-2} &     x_{d-3} &     x_{d-4} & \\dots &     x_3 &     x_2 &     x_1 &     x_0 \\\\ \\hline\n",
    "         &&&&&&             &             &             & x_{d-1} x_0 & x_{d-2} x_0 & x_{d-3} x_0 & x_{d-4} x_0 & \\dots & x_3 x_0 & x_2 x_0 & x_1 x_0 & x_0 x_0 \\\\\n",
    "         &&&&&&             &             & x_{d-1} x_1 & x_{d-2} x_1 & x_{d-3} x_1 & x_{d-4} x_1 & x_{d-5} x_1 & \\dots & x_2 x_1 & x_1 x_1 & x_0 x_1 \\\\\n",
    "         &&&&&&             & x_{d-1} x_2 & x_{d-2} x_2 & x_{d-3} x_2 & x_{d-4} x_2 & x_{d-5} x_2 & x_{d-6} x_2 & \\dots & x_1 x_2 & x_0 x_2 \\\\\n",
    "         &&&&&& x_{d-1} x_3 & x_{d-2} x_3 & x_{d-3} x_3 & x_{d-4} x_3 & x_{d-5} x_3 & x_{d-6} x_3 & x_{d-7} x_3 & \\dots & x_0 x_3 \\\\\n",
    "         &&&&&& \\vdots      & \\vdots      & \\vdots      & \\vdots \\\\\n",
    "         & x_{d-1} x_{d-1} & x_{d-2} x_{d-1} & x_{d-3} x_{d-1} & x_{d-4} x_{d-1} & \\dots & x_3 x_{d-1} & x_2 x_{d-1} & x_1 x_{d-1} & x_0 x_{d-1} \\\\ \\hline\n",
    "z_{2d-1} & z_{2d-2} & z_{2d-3} & z_{2d-4} & z_{2d-5} & \\dots & z_{d+2} & z_{d+1} & z_d & z_{d-1} & z_{d-2} & z_{d-3} & z_{d-4} & \\dots & z_3 & z_2 & z_1 & z_0 \\\\\n",
    "\\end  {array}\n",
    "$\n",
    "</div>"
   ]
  },
  {
   "cell_type": "markdown",
   "metadata": {},
   "source": [
    "---"
   ]
  },
  {
   "cell_type": "markdown",
   "metadata": {},
   "source": [
    "### Al Khwarizmi's multiplication by repeated halvings of the multiplier"
   ]
  },
  {
   "cell_type": "markdown",
   "metadata": {},
   "source": [
    "Multiply two decimal numbers $x$ and $y$. Write them next to each other and then repeat the following: divide the first number by $2$, rounding down the result, and double the second number; continue until the first number reaches unity and then strike out all the rows in which the first number is even and add up whatever remains in the second column.\n",
    "\n",
    "```txt\n",
    "                      parity of multiplier 11\n",
    "11    13              11 = 5 x 2 +  1\n",
    " 5    26               5 = 2 x 2 +  1\n",
    " 2    52 (strike out)  2 = 1 x 2 +  0\n",
    " 1   104               1 = 0 x 2 +  1\n",
    "--------\n",
    "     143\n",
    "```"
   ]
  },
  {
   "cell_type": "markdown",
   "metadata": {},
   "source": [
    "---"
   ]
  },
  {
   "cell_type": "markdown",
   "metadata": {},
   "source": [
    "### Multiplication à la Français"
   ]
  },
  {
   "cell_type": "markdown",
   "metadata": {},
   "source": [
    "This algorithm implements the following recursive rule.\n",
    "\n",
    "$\n",
    "x \\cdot y =\n",
    "\\begin{cases}\n",
    "    2(x \\cdot \\lfloor y/2 \\rfloor) & \\text{if \\textit{y} is even} \\\\\n",
    "x + 2(x \\cdot \\lfloor y/2 \\rfloor) & \\text{if \\textit{y} is odd} \\\\\n",
    "\\end  {cases}\n",
    "$"
   ]
  },
  {
   "cell_type": "markdown",
   "metadata": {},
   "source": [
    "```c\n",
    " INPUT    two n-bit integers x and y, where y >= 0\n",
    "OUTPUT    their product\n",
    "\n",
    "MULT (x, y)\n",
    "1    if y = 0\n",
    "2        return 0\n",
    "3\n",
    "4    z = MULT(x, floor(y/2))\n",
    "5\n",
    "6    if even(y)\n",
    "7        return 2z\n",
    "8    else\n",
    "9        return 2z + x\n",
    "```"
   ]
  },
  {
   "cell_type": "markdown",
   "metadata": {},
   "source": [
    "EXAMPLE\n",
    "\n",
    "algorithm decomposition\n",
    "\n",
    "$x \\cdot 25 = x \\cdot 16 + x \\cdot 8 + x \\cdot 1$\n",
    "\n",
    "For multiplication the terms $x \\cdot 2^i$ come from repeated doubling"
   ]
  },
  {
   "cell_type": "markdown",
   "metadata": {},
   "source": [
    "**Correctness**\n",
    "\n",
    "The recursive rule is <span style=\"color: red;\">transparently</span> correct. Checking that the algorithm is correct is a matter of verifying that it mimics the rule and that it handles the base case $y = 0$ properly."
   ]
  },
  {
   "cell_type": "markdown",
   "metadata": {},
   "source": [
    "**Complexity**\n",
    "\n",
    "The algorithm terminates after $n$ recursive calls because at each call $y$ is halved (i.e., its number of bits is decreased by one). Each recursive call requires the following operations:\n",
    "* a division by $2$ (a right shift)\n",
    "* a test for odd/even (looking up the last bit)\n",
    "* a multiplication by $2$ (a left shift)\n",
    "* possibly, one addition\n",
    "\n",
    "a total of $O(n)$ bit operations. The total running time is\n",
    "\n",
    "$T(n) = O(n^2)$\n",
    "\n",
    "Can we do better? Intuitively, it seems that multiplication requires adding about $n$ multiples of one of the inputs, and we know that each addition is linear, so it would appear that $n^2$ bit operations are inevitable. But we will see that we can de better."
   ]
  },
  {
   "cell_type": "markdown",
   "metadata": {},
   "source": [
    "---\n",
    "---\n",
    "---"
   ]
  },
  {
   "cell_type": "markdown",
   "metadata": {},
   "source": [
    "## Division"
   ]
  },
  {
   "cell_type": "markdown",
   "metadata": {},
   "source": [
    "To divide an integer $x$ by an integer $y \\ne 0$ means to find a quotient $q$ and a remainder $r$, where $x = yq + r$ and $r \\lt y$.\n",
    "\n",
    "```c\n",
    " INPUT    two n-bit integers x and y, where y >= 1\n",
    "OUTPUT    the quotient and the remainder of x divided by y\n",
    "\n",
    "DIVIDE (x, y)\n",
    " 1    if x = 0\n",
    " 2        return (q, r) = (0, 0)\n",
    " 3\n",
    " 4    (q, r) = DIVIDE(floor(x/2), y)\n",
    " 5    q = 2q\n",
    " 6    r = 2r\n",
    " 7    if odd(x)\n",
    " 8        r = r + 1\n",
    " 9    if r >= y\n",
    "10        r = r - y\n",
    "11        q = q + 1\n",
    "12    return (q, r)\n",
    "```"
   ]
  },
  {
   "cell_type": "markdown",
   "metadata": {},
   "source": [
    "**Complexity** Like multiplication, division takes quadratic time.\n",
    "\n",
    "$T(n) = O(n^2)$"
   ]
  },
  {
   "cell_type": "markdown",
   "metadata": {},
   "source": [
    "---\n",
    "---\n",
    "---"
   ]
  },
  {
   "cell_type": "markdown",
   "metadata": {},
   "source": [
    "Theorem\n",
    "\n",
    "If $p$ is prime then $2^{p - 1}$ leaves the remainder $1$ on division by $p$.\n",
    "\n",
    "Example\n",
    "\n",
    "$2^{1000}$ leaves the remainder $562$ on division by $1001$ so $1001$ is composite.\n",
    "\n",
    "$1001 = 7 \\times 11 \\times 13$\n",
    "\n",
    "$2^{k^k}$ can be computed by successive squaring\n",
    "\n",
    "$\n",
    "\\begin{aligned}\n",
    "   1000  &= 2^3 + 2^5 + 2^6 + 2^7 + 2^8 + 2^9 \\\\\n",
    "2^{1000} &= 2^{2^3} \\times 2^{2^5} \\times 2^{2^6} \\times 2^{2^7} \\times 2^{2^8} \\times 2^{2^9} \\\\\n",
    "2^{2^3}  &= 256 \\\\\n",
    "2^{2^4}  &= 256^2 = 65536 \\equiv 471 \\mod 1001 \\\\\n",
    "2^{2^5}  &= 471^2 = 221841 \\equiv 620 \\mod 1001 \\\\\n",
    "2^{2^3} \\times 2^{2^5} &\\equiv 256 \\times 620 = 158720 \\equiv 562 \\mod 1001 \\\\\n",
    "2^{2^6} &\\equiv 620^2 = 384400 \\equiv 16 \\mod 1001 \\\\\n",
    "2^{2^3} \\times 2^{2^5} \\times 2^{2^6} &\\equiv 562 \\times 16 = 8992 \\equiv 984 \\mod 1001 \\\\\n",
    "2^{2^7} &\\equiv 16^2 \\equiv 256 \\mod 1001 \\\\\n",
    "2^{2^3} \\times 2^{2^5} \\times 2^{2^6} \\times 2^{2^7} &\\equiv 984 \\times 256 = 251904 \\equiv 653 \\mod 1001 \\\\\n",
    "2^{2^8} &\\equiv 471 \\mod 1001 \\\\\n",
    "2^{2^3} \\times 2^{2^5} \\times 2^{2^6} \\times 2^{2^7} \\times 2^{2^8} &\\equiv 653 \\times 471 = 307563 \\equiv 256 \\\\\n",
    "2^{2^9} &\\equiv 620 \\\\\n",
    "2^{1000} &= 2^{2^3} \\times 2^{2^5} \\times 2^{2^6} \\times 2^{2^7} \\times 2^{2^8} \\times 2^{2^9} \\equiv 620 \\times 256 = 167168 \\equiv 562 \\\\\n",
    "\\end  {aligned}\n",
    "$\n",
    "\n",
    "Any programming language which can do double precision can compute $2^{p - 1} \\mod p$ in linear time."
   ]
  },
  {
   "cell_type": "markdown",
   "metadata": {},
   "source": [
    "---\n",
    "---\n",
    "---"
   ]
  },
  {
   "cell_type": "markdown",
   "metadata": {},
   "source": [
    "## Terms"
   ]
  },
  {
   "cell_type": "markdown",
   "metadata": {},
   "source": [
    "* [ [w](https://en.wikipedia.org/wiki/Balanced_ternary) ] Balanced Ternary\n",
    "* [ [w](https://en.wikipedia.org/wiki/Binary_multiplier) ] Binary Multiplier\n",
    "* [ [w](https://en.wikipedia.org/wiki/Multiplication_algorithm) ] Multiplication Algorithm\n",
    "* [ [w](https://en.wikipedia.org/wiki/Arbitrary-precision_arithmetic) ] Multiple-Precision Arithmetic\n",
    "* [ [w](https://en.wikipedia.org/wiki/Multiply%E2%80%93accumulate_operation) ] Multiply-Accumulate\n",
    "* [ [w](https://en.wikipedia.org/wiki/Signed-digit_representation) ] Signed-Digit Representation"
   ]
  },
  {
   "cell_type": "markdown",
   "metadata": {},
   "source": [
    "---\n",
    "---\n",
    "---"
   ]
  },
  {
   "cell_type": "markdown",
   "metadata": {},
   "source": [
    "## Acknowledgements"
   ]
  },
  {
   "cell_type": "markdown",
   "metadata": {},
   "source": [
    "`PNCP` `2005` Crandall, Richard & Carl Pomerance. _Prime Numbers: A Computational Perspective_. Springer.\n",
    "\n",
    "`SDCP` `2006` Dasgupta, Sanjoy; Christos Papadimitriou; & Umesh Vazirani. _Algorithms_. Chapter 1. McGraw-Hill.\n",
    "\n",
    "`KRDM` `2018` Rosen, Kenneth. _Discrete Mathematics and its Applications_ 8e. McGraw-Hill.\n",
    "\n",
    "`CENT` `2023` [ [h](https://personal.science.psu.edu/rcv4/) ] Vaughan, Robert. _A Course of Elementary Number Theory_. CMPSC/MATH 467 Factorization and Primality Testing. The Pennsylvania State University. [ [book](https://bpb-us-e1.wpmucdn.com/sites.psu.edu/dist/6/167041/files/2023/07/CENT.pdf) ]"
   ]
  },
  {
   "cell_type": "markdown",
   "metadata": {},
   "source": [
    "---\n",
    "---\n",
    "---"
   ]
  }
 ],
 "metadata": {
  "kernelspec": {
   "display_name": "ml",
   "language": "python",
   "name": "python3"
  },
  "language_info": {
   "codemirror_mode": {
    "name": "ipython",
    "version": 3
   },
   "file_extension": ".py",
   "mimetype": "text/x-python",
   "name": "python",
   "nbconvert_exporter": "python",
   "pygments_lexer": "ipython3",
   "version": "3.11.9"
  }
 },
 "nbformat": 4,
 "nbformat_minor": 2
}
