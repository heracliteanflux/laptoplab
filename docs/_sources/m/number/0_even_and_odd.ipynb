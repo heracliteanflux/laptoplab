{
 "cells": [
  {
   "cell_type": "markdown",
   "metadata": {},
   "source": [
    "# Even and Odd"
   ]
  },
  {
   "cell_type": "markdown",
   "metadata": {},
   "source": [
    "---"
   ]
  },
  {
   "cell_type": "markdown",
   "metadata": {},
   "source": [
    "## Contents\n",
    "```{contents}\n",
    "```"
   ]
  },
  {
   "cell_type": "markdown",
   "metadata": {},
   "source": [
    "---"
   ]
  },
  {
   "cell_type": "markdown",
   "metadata": {},
   "source": [
    "## Even integer"
   ]
  },
  {
   "cell_type": "markdown",
   "metadata": {},
   "source": [
    "$Definition$\n",
    "\n",
    "> Let $x$ be an integer.  \n",
    "> We say that $x$ is even iff there is some integer $k$ such that $x = 2k$.  \n",
    "\n",
    "$$\n",
    "\\forall x \\in \\mathbb{Z} \\,\\,\n",
    "[ \\,\\,\n",
    "Even(x) \\iff \\exists k \\in \\mathbb{Z} \\,\\,\n",
    "(x = 2k)\n",
    "\\,\\, ]\n",
    "$$"
   ]
  },
  {
   "cell_type": "markdown",
   "metadata": {},
   "source": [
    "## Odd integer"
   ]
  },
  {
   "cell_type": "markdown",
   "metadata": {},
   "source": [
    "$Definition$\n",
    "\n",
    "> Let $x$ be an integer.  \n",
    "> We say that $x$ is odd iff there is some integer $k$ such that $x = 2k + 1$.  \n",
    "\n",
    "$$\n",
    "\\begin{align*}\n",
    "\\forall x \\in \\mathbb{Z} \\,\\,\n",
    "[ \\,\\,\n",
    "Odd(x)\n",
    "&\\iff \\exists k \\in \\mathbb{Z} \\,\\,\n",
    "(x = 2k + 1)\n",
    "\\\\\n",
    "&\\iff \\lnot Even(x)\n",
    "\\\\\n",
    "&\\iff \\lnot\\exists k \\in \\mathbb{Z} \\,\\,\n",
    "(x = 2k)\n",
    "\\\\\n",
    "&\\iff \\forall k \\in \\mathbb{Z} \\,\\,\n",
    "(x \\ne 2k)\n",
    "\\,\\, ]\n",
    "\\\\\n",
    "\\end{align*}\n",
    "$$"
   ]
  },
  {
   "cell_type": "markdown",
   "metadata": {},
   "source": [
    "## even x integer = even"
   ]
  },
  {
   "cell_type": "markdown",
   "metadata": {},
   "source": [
    "$Claim$\n",
    "\n",
    "> The product of any integer and an even integer is even.  \n",
    "\n",
    "$$\n",
    "\\forall m, n \\in \\mathbb{Z} \\,\\,\n",
    "[ \\,\\,\n",
    "Even(m) \\implies Even(mn)\n",
    "\\,\\, ]\n",
    "$$"
   ]
  },
  {
   "cell_type": "markdown",
   "metadata": {},
   "source": [
    "$Proof$\n",
    "\n",
    "> Let $m$ be an even integer (of the form $2s$ for some integer $s$).  \n",
    ">> Let $n$ be an odd integer (of the form $2t + 1$ for some integer $t$).  \n",
    ">> Then $mn = (2s)(2t + 1) = 4st + 2s = 2(2st + s) = 2k$ where $k = 2st + s$.  \n",
    ">> $\\therefore mn$ is even.    \n",
    ">  \n",
    ">> Let $n$ be an even integer (of the form $2t$ for some integer $t$).  \n",
    ">> Then $mn = (2s)(2t) = 2(2st) = 2k$ where $k = 2st$.  \n",
    ">> $\\therefore mn$ is even.  \n",
    ">  \n",
    "> Therefore the product of any integer and an even integer is even.  \n",
    "\n",
    "$\\blacksquare$"
   ]
  },
  {
   "cell_type": "markdown",
   "metadata": {},
   "source": [
    "## odd x odd = odd"
   ]
  },
  {
   "cell_type": "markdown",
   "metadata": {},
   "source": [
    "$Claim$\n",
    "\n",
    "> The product of two odd integers is odd.  \n",
    "\n",
    "$$\n",
    "\\forall m, n \\in \\mathbb{Z} \\,\\,\n",
    "[ \\,\\,\n",
    "(Odd(m) \\land Odd(n)) \\implies Odd(mn)\n",
    "\\,\\, ]\n",
    "$$"
   ]
  },
  {
   "cell_type": "markdown",
   "metadata": {},
   "source": [
    "$Proof$\n",
    "\n",
    "> Let $m$ be an odd integer (of the form $2s + 1$ for some integer $s$) and let $n$ be an odd integer (of the form $2t + 1$ for some integer $t$).  \n",
    "> Then $mn = (2s + 1)(2t + 1) = 2^2st + 2s + 2t + 1 = 2(2st + s + t) + 1 = 2k + 1$ where $k = 2st + s + t$.  \n",
    "> $\\therefore mn$ is odd.  \n",
    "\n",
    "$\\blacksquare$"
   ]
  },
  {
   "cell_type": "markdown",
   "metadata": {},
   "source": [
    "## An integer is even (odd) iff its square is even (odd)"
   ]
  },
  {
   "cell_type": "markdown",
   "metadata": {},
   "source": [
    "$Claim$\n",
    "\n",
    "> An integer is even iff its square is even.  \n",
    "\n",
    "$$\n",
    "\\forall x \\in \\mathbb{Z} \\,\\,\n",
    "[ \\,\\,\n",
    "Even(x) \\iff Even(x^2)\n",
    "\\,\\, ]\n",
    "$$\n",
    "\n",
    "> And an integer is odd iff its square is odd.\n",
    "\n",
    "$$\n",
    "\\forall x \\in \\mathbb{Z} \\,\\,\n",
    "[ \\,\\,\n",
    "Odd(x) \\iff Odd(x^2)\n",
    "\\,\\, ]\n",
    "$$"
   ]
  },
  {
   "cell_type": "markdown",
   "metadata": {},
   "source": [
    "$Proof \\,\\, by \\,\\, contraposition$\n",
    "\n",
    "> $Even(x) \\implies Even(x^2)$  \n",
    ">> Let $x$ be an even integer (of the form $2k$ for some integer $k$).  \n",
    ">> $x = 2k \\implies x^2 = 2(2k^2) = 2\\ell$ where $\\ell = 2k^2$.  \n",
    ">> $\\therefore x^2$ is even.\n",
    ">  \n",
    "> $Even(x^2) \\implies Even(x)$ is equivalent to $Odd(x) \\implies Odd(x^2)$  \n",
    ">> Let $x$ be an odd integer (of the form $2k + 1$ for some integer $k$).  \n",
    ">> $x = 2k + 1 \\implies x^2 = 2(2k(k + 1)) + 1 = 2\\ell + 1$ where $\\ell = 2k(k + 1)$.  \n",
    ">> $\\therefore x^2$ is odd.  \n",
    "\n",
    "$\\blacksquare$"
   ]
  },
  {
   "cell_type": "markdown",
   "metadata": {},
   "source": [
    "## An integer is even iff one greater than it is odd"
   ]
  },
  {
   "cell_type": "markdown",
   "metadata": {},
   "source": [
    "$Claim$\n",
    "\n",
    "> Let $n$ be an integer.  \n",
    "> $n$ is even iff $n + 1$ is odd.\n",
    "\n",
    "$$\n",
    "\\forall n \\in \\mathbb{Z} \\,\\,\n",
    "[ \\,\\,\n",
    "Even(n) \\iff Odd(n + 1)\n",
    "\\,\\, ]\n",
    "$$"
   ]
  },
  {
   "cell_type": "markdown",
   "metadata": {},
   "source": [
    "$Proof \\,\\, by \\,\\, contraposition$\n",
    "\n",
    "> $Even(n) \\implies Odd(n + 1)$.  \n",
    ">> Let $n$ be an even integer (of the form $2k$ for some integer $k$).  \n",
    ">> $n = 2k \\implies n + 1 = 2k + 1$  \n",
    ">> $\\therefore n + 1$ is odd.  \n",
    ">  \n",
    "> $Odd(n + 1) \\implies Even(n)$ is equivalent to $Odd(n) \\implies Even(n + 1)$.  \n",
    ">> Let $n$ be an odd integer (of the form $2k + 1$ for some integer $k$).  \n",
    ">> $n = 2k + 1 \\implies n + 1 = 2k + 2 = 2(k + 1) = 2\\ell$ where $\\ell = k + 1$.    \n",
    ">> $\\therefore n + 1$ is even.  \n",
    ">  \n",
    "> $\\therefore Even(n) \\iff Odd(n + 1)$  \n",
    "\n",
    "$\\blacksquare$"
   ]
  },
  {
   "cell_type": "markdown",
   "metadata": {},
   "source": [
    "---"
   ]
  }
 ],
 "metadata": {
  "language_info": {
   "name": "python"
  },
  "orig_nbformat": 4
 },
 "nbformat": 4,
 "nbformat_minor": 2
}
