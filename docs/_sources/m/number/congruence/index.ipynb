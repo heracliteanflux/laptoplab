{
 "cells": [
  {
   "cell_type": "markdown",
   "metadata": {},
   "source": [
    "# Congruence and Residue"
   ]
  },
  {
   "cell_type": "markdown",
   "metadata": {},
   "source": [
    "---"
   ]
  },
  {
   "cell_type": "markdown",
   "metadata": {},
   "source": [
    "## Contents\n",
    "```{contents}\n",
    "```"
   ]
  },
  {
   "cell_type": "markdown",
   "metadata": {},
   "source": [
    "---"
   ]
  },
  {
   "cell_type": "markdown",
   "metadata": {},
   "source": [
    "## Definition: residue class"
   ]
  },
  {
   "cell_type": "markdown",
   "metadata": {},
   "source": [
    "Let $m \\in \\mathbb{N}$ and define the residue class $\\bar{r} \\text{ modulo } m$ by\n",
    "\n",
    "$\\bar{r} = \\{ x \\in \\mathbb{Z} : m \\mid (x - r) \\}$\n",
    "\n",
    "By the division algorithm every integer is in one of\n",
    "\n",
    "$\\overline{0}, \\overline{1}, \\dotsc, \\overline{m - 1}$\n",
    "\n",
    "This is called a complete system of residues modulo $m$."
   ]
  },
  {
   "cell_type": "markdown",
   "metadata": {},
   "source": [
    "## Residue class arithmetic"
   ]
  },
  {
   "cell_type": "markdown",
   "metadata": {},
   "source": [
    "Arithmetic can be performed on residue classes just as if they were numbers."
   ]
  },
  {
   "cell_type": "markdown",
   "metadata": {},
   "source": [
    "The residue class $\\bar{0}$ behaves like the number $0$, since $\\bar{0}$ is the set of multiples of $m$, and adding any one of them to an element of $\\bar{r}$ does not change the remainder.\n",
    "\n",
    "Thus for any $r$\n",
    "\n",
    "$\\bar{0} + \\bar{r} = \\bar{r} = \\bar{r} + \\bar{0}$"
   ]
  },
  {
   "cell_type": "markdown",
   "metadata": {},
   "source": [
    "Suppose we are given any two residue classes $\\bar{r}$ and $\\bar{s}$ modulo $m$:\n",
    "\n",
    "$\n",
    "\\begin{aligned}\n",
    "\\bar{r} &= \\{ x \\in \\mathbb{Z} : m \\mid (x - r) \\} \\\\\n",
    "\\bar{s} &= \\{ y \\in \\mathbb{Z} : m \\mid (y - r) \\} \\\\\n",
    "\\end  {aligned}\n",
    "$\n",
    "\n",
    "Let $t$ be the remainder of $r + s$ on division by $m$:\n",
    "\n",
    "$r + s = mz + t$\n",
    "\n",
    "Then the elements of $\\bar{r}$ and $\\bar{s}$ are of the form $r + mx$ and $s + my$ and it is known that $r + s = t + mz$ for some $z$. Thus\n",
    "\n",
    "$\n",
    "\\begin{aligned}\n",
    "r + mx + s + my = t + m(x + y + z) \\in \\bar{t}\n",
    "\\end  {aligned}\n",
    "$\n",
    "\n",
    "Thus it makes sense to write $\\bar{r} + \\bar{s} = \\bar{t}$ and then we have $\\bar{r} + \\bar{s} = \\bar{s} + \\bar{r}$.\n",
    "\n",
    "It is also the case that $\\overline{r} + \\overline{-r} = \\overline{0}$"
   ]
  },
  {
   "cell_type": "markdown",
   "metadata": {},
   "source": [
    "## Definition: congruence relation"
   ]
  },
  {
   "cell_type": "markdown",
   "metadata": {},
   "source": [
    "Let $m \\in \\mathbb{N}$. If two integers $x$ and $y$ satisfy $m \\mid x - y$ then we write\n",
    "\n",
    "$x \\equiv y \\mod m$\n",
    "\n",
    "and we say that $x$ is congruent to $y$ modulo $m$."
   ]
  },
  {
   "cell_type": "markdown",
   "metadata": {},
   "source": [
    "## Properties of the congruence relation"
   ]
  },
  {
   "cell_type": "markdown",
   "metadata": {},
   "source": [
    "### Reflexivity"
   ]
  },
  {
   "cell_type": "markdown",
   "metadata": {},
   "source": [
    "$x \\equiv x \\mod m$"
   ]
  },
  {
   "cell_type": "markdown",
   "metadata": {},
   "source": [
    "### Symmetry"
   ]
  },
  {
   "cell_type": "markdown",
   "metadata": {},
   "source": [
    "$x \\equiv y \\mod m \\iff y \\equiv x \\mod m$"
   ]
  },
  {
   "cell_type": "markdown",
   "metadata": {},
   "source": [
    "### Transitivity"
   ]
  },
  {
   "cell_type": "markdown",
   "metadata": {},
   "source": [
    "If $x \\equiv y \\mod m$ and $y \\equiv z \\mod m$ then $x \\equiv z \\mod m$."
   ]
  },
  {
   "cell_type": "markdown",
   "metadata": {},
   "source": [
    "<span style=\"color: red;\">\n",
    "\n",
    "Congruences modulo $m$ partition the integers into equivalence classes.</span>"
   ]
  },
  {
   "cell_type": "markdown",
   "metadata": {},
   "source": [
    "### Additions preserve congruence"
   ]
  },
  {
   "cell_type": "markdown",
   "metadata": {},
   "source": [
    "If $x \\equiv y \\mod m$ and $z \\equiv t \\mod m$ then $x + z \\equiv y + t \\mod m$."
   ]
  },
  {
   "cell_type": "markdown",
   "metadata": {},
   "source": [
    "### Multiplications preserve congruences"
   ]
  },
  {
   "cell_type": "markdown",
   "metadata": {},
   "source": [
    "If $x \\equiv y \\mod m$ and $z \\equiv t \\mod m$ then $xz \\equiv yt \\mod m$."
   ]
  },
  {
   "cell_type": "markdown",
   "metadata": {},
   "source": [
    "If $x \\equiv y \\mod m$ then for any $n \\in \\mathbb{N}$ it is the case that $x^n \\equiv y^n \\mod m$ (using induction on $n$)."
   ]
  },
  {
   "cell_type": "markdown",
   "metadata": {},
   "source": [
    "If $f$ is a polynomial with integer coefficients and $x \\equiv y \\mod m$ then $f(x) \\equiv f(y) \\mod m$."
   ]
  },
  {
   "cell_type": "markdown",
   "metadata": {},
   "source": [
    "---"
   ]
  },
  {
   "cell_type": "markdown",
   "metadata": {},
   "source": [
    "## Theorem"
   ]
  },
  {
   "cell_type": "markdown",
   "metadata": {},
   "source": [
    "Suppose that $m \\in \\mathbb{N}$, $k \\in \\mathbb{Z}$, $\\gcd(k, m) = 1$, and\n",
    "\n",
    "$\\overline{a_1}, \\overline{a_2}, \\dotsc, \\overline{a_m}$\n",
    "\n",
    "forms a complete system of residues modulo $m$. Then so does\n",
    "\n",
    "$\\overline{ka_1}, \\overline{ka_2}, \\dotsc, \\overline{ka_m}$"
   ]
  },
  {
   "cell_type": "markdown",
   "metadata": {},
   "source": [
    "EXAMPLE\n",
    "\n",
    "$\\bar{0}, \\bar{1}, \\bar{2}$ is a complete system of residues modulo $m$\n",
    "\n",
    "$\n",
    "\\begin{aligned}\n",
    "\\bar{0} &= \\{ x \\in \\mathbb{Z} : 3 \\mid (x - 0) \\} = \\{ 3x \\} \\\\\n",
    "\\bar{1} &= \\{ x \\in \\mathbb{Z} : 3 \\mid (x - 1) \\} = \\{ 3x + 1 \\} \\\\\n",
    "\\bar{2} &= \\{ x \\in \\mathbb{Z} : 3 \\mid (x - 2) \\} = \\{ 3x + 2 \\} \\\\\n",
    "\\end  {aligned}\n",
    "$\n",
    "\n",
    "$\\gcd(2, 3) = 1$\n",
    "\n",
    "$\n",
    "\\begin{aligned}\n",
    "\\bar{0} &= \\{ x \\in \\mathbb{Z} : 3 \\mid (x - 0) \\} = \\{ 3x \\} \\\\\n",
    "\\bar{2} &= \\{ x \\in \\mathbb{Z} : 3 \\mid (x - 2) \\} = \\{ 3x + 2 \\} \\\\\n",
    "\\bar{4} &= \\{ x \\in \\mathbb{Z} : 3 \\mid (x - 4) \\} = \\{ 3x + 4 \\} = \\{ 3(x + 1) + 1 \\} = \\{ 3x + 1 \\} \\\\\n",
    "\\end  {aligned}\n",
    "$"
   ]
  },
  {
   "cell_type": "markdown",
   "metadata": {},
   "source": [
    "### Proof"
   ]
  },
  {
   "cell_type": "markdown",
   "metadata": {},
   "source": [
    "<div style=\"color: red;\">\n",
    "\n",
    "Since there are $m$ residue classes it need only be checked that they are disjoint.\n",
    "</div>\n",
    "\n",
    "Consider any two residue classes $\\overline{ka_i}$ and $\\overline{ka_j}$ and let $ka_i + mx$ and $ka_j + my$ be typical members of each, respectively.\n",
    "\n",
    "If they were the same integer then $ka_i + mx = ka_j + my \\iff ka_i - ka_j = my - mx \\iff k(a_i - a_j) = m(y - x)$.\n",
    "\n",
    "But then $m \\mid k(a_i - a_j)$ and since $\\gcd(k, m) = 1$ it would be the case that $m \\mid a_i - a_j$; that $\\overline{a_i}$ and $\\overline{a_j}$ be the same residue class; and that $i = j$.\n",
    "\n",
    "$\\blacksquare$"
   ]
  },
  {
   "cell_type": "markdown",
   "metadata": {},
   "source": [
    "---"
   ]
  },
  {
   "cell_type": "markdown",
   "metadata": {},
   "source": [
    "## Definition: reduced residues"
   ]
  },
  {
   "cell_type": "markdown",
   "metadata": {},
   "source": [
    "A set of $\\phi(m)$ distinct residue classes $\\bar{r}$ modulo $m$ with $\\gcd(r, m) = 1$ is called a set of reduced residues modulo $m$."
   ]
  },
  {
   "cell_type": "markdown",
   "metadata": {},
   "source": [
    "One way of thinking about reduced residues is to start from a complete set of fractions with denominator $m$ in the interval $(0, 1]$\n",
    "\n",
    "$\n",
    "\\begin{aligned}\n",
    "\\frac{1}{m}, \\frac{2}{m}, \\dotsc, \\frac{m}{m}\n",
    "\\end  {aligned}\n",
    "$\n",
    "\n",
    "Now remove just the ones whose numerator has a common factor $d \\gt 1$ with $m$. What is left are the $\\phi(m)$ reduced fractions with denominator $m$.\n",
    "\n",
    "Suppose instead of removing the non reduced ones we just write them in their lowest form. Then for each divisor $k$ of $m$ we obtain all the reduced fractions with denominator $k$."
   ]
  },
  {
   "cell_type": "markdown",
   "metadata": {},
   "source": [
    "EXAMPLE\n",
    "\n",
    "$\n",
    "\\begin{aligned}\n",
    "\\frac{1}{30} && \\frac{2}{30} && \\frac{3}{30} && \\frac{4}{30} && \\frac{5}{30} && \\frac{6}{30} && \\frac{7}{30} && \\frac{ 8}{30} && \\frac{9}{30} && \\frac{10}{30} && \\frac{11}{30} && \\frac{12}{30} && \\frac{13}{30} && \\frac{14}{30} && \\frac{15}{30} && \\frac{16}{30} && \\frac{17}{30} && \\frac{18}{30} && \\frac{19}{30} && \\frac{20}{30} && \\frac{21}{30} && \\frac{22}{30} && \\frac{23}{30} && \\frac{24}{30} && \\frac{25}{30} && \\frac{26}{30} && \\frac{27}{30} && \\frac{28}{30} && \\frac{29}{30} && \\frac{30}{30} \\\\\n",
    "\\frac{1}{30} && \\frac{1}{15} && \\frac{1}{10} && \\frac{2}{15} && \\frac{1}{ 6} && \\frac{1}{ 5} && \\frac{7}{30} && \\frac{ 4}{15} && \\frac{ 3}{10} && \\frac{1}{3} && \\frac{11}{30} && \\frac{2}{5} && \\frac{13}{30} && \\frac{7}{15} && \\frac{1}{2} && \\frac{8}{15} && \\frac{17}{30} && \\frac{3}{5} && \\frac{19}{30} && \\frac{2}{3} && \\frac{7}{10} && \\frac{11}{15} && \\frac{23}{30} && \\frac{4}{5} && \\frac{5}{6} && \\frac{13}{15} && \\frac{9}{10} && \\frac{14}{15} && \\frac{29}{30} && 1 \\\\\n",
    "\\end  {aligned}\n",
    "$"
   ]
  },
  {
   "cell_type": "markdown",
   "metadata": {},
   "source": [
    "$\n",
    "\\begin{aligned}\n",
    "k &=  1 && 1                                                                                                                    && \\phi( 1) = 1 \\\\\n",
    "k &=  2 && \\frac{1}{ 2}                                                                                                         && \\phi( 2) = 1 \\\\\n",
    "k &=  3 && \\frac{1}{ 3}, \\frac{2}{ 3}                                                                                           && \\phi( 3) = 2 \\\\\n",
    "k &=  5 && \\frac{1}{ 5}, \\frac{2}{ 5}, \\frac{ 3}{ 5}, \\frac{ 4}{ 5}                                                             && \\phi( 5) = 4 \\\\\n",
    "k &=  6 && \\frac{1}{ 6}, \\frac{5}{ 6}                                                                                           && \\phi( 6) = 2 \\\\\n",
    "k &= 10 && \\frac{1}{10}, \\frac{3}{10}, \\frac{ 7}{10}, \\frac{ 9}{10}                                                             && \\phi(10) = 4 \\\\\n",
    "k &= 15 && \\frac{1}{15}, \\frac{2}{15}, \\frac{ 4}{15}, \\frac{ 7}{15}, \\frac{ 8}{15}, \\frac{11}{15}, \\frac{13}{15}, \\frac{14}{15} && \\phi(15) = 8 \\\\\n",
    "k &= 30 && \\frac{1}{30}, \\frac{7}{30}, \\frac{11}{30}, \\frac{13}{30}, \\frac{17}{30}, \\frac{19}{30}, \\frac{23}{30}, \\frac{29}{30} && \\phi(30) = 8 \\\\\n",
    "\\end  {aligned}\n",
    "$"
   ]
  },
  {
   "cell_type": "markdown",
   "metadata": {},
   "source": [
    "---"
   ]
  },
  {
   "cell_type": "markdown",
   "metadata": {},
   "source": [
    "## Theorem"
   ]
  },
  {
   "cell_type": "markdown",
   "metadata": {},
   "source": [
    "For each $m \\in \\mathbb{N}$ we have\n",
    "\n",
    "$\n",
    "\\begin{aligned}\n",
    "\\sum_{k \\mid m} \\phi(k) = m = \\phi(1) + \\phi(2) + \\dotsb + \\phi(m)\n",
    "\\end  {aligned}\n",
    "$"
   ]
  },
  {
   "cell_type": "markdown",
   "metadata": {},
   "source": [
    "EXAMPLE\n",
    "\n",
    "$\n",
    "\\begin{aligned}\n",
    "\\sum_{k \\mid 30} \\phi(k) = 30 = \\phi(1) + \\phi(2) + \\phi(3) + \\phi(5) + \\phi(6) + \\phi(10) + \\phi(15) + \\phi(30)\n",
    "\\end  {aligned}\n",
    "$"
   ]
  },
  {
   "cell_type": "markdown",
   "metadata": {},
   "source": [
    "---"
   ]
  },
  {
   "cell_type": "markdown",
   "metadata": {},
   "source": [
    "## Theorem"
   ]
  },
  {
   "cell_type": "markdown",
   "metadata": {},
   "source": [
    "Suppose that $\\gcd(k, m) = 1$ and that\n",
    "\n",
    "$a_1, a_2, \\dotsc, a_{\\phi(m)}$\n",
    "\n",
    "forms a set of reduced residue classes modulo $m$. Then\n",
    "\n",
    "$ka_1, ka_2, \\dotsc, ka_{\\phi(m)}$\n",
    "\n",
    "also forms a set of reduced residue classes modulo $m$."
   ]
  },
  {
   "cell_type": "markdown",
   "metadata": {},
   "source": [
    "### Proof"
   ]
  },
  {
   "cell_type": "markdown",
   "metadata": {},
   "source": [
    "<span style=\"color: red;\">\n",
    "\n",
    "In view of the earlier theorem the residue classes $ka_j$ are distinct, and since $\\gcd(a_j, m) = 1$ it is the case that $(ka_j, m) = 1$, so they give $\\phi(m)$ distinct reduced residue classes. So they are all of them in some order.</span>"
   ]
  },
  {
   "cell_type": "markdown",
   "metadata": {},
   "source": [
    "---"
   ]
  },
  {
   "cell_type": "markdown",
   "metadata": {},
   "source": [
    "## Theorem\n",
    "\n",
    "[Vaughan, Theorem 10]"
   ]
  },
  {
   "cell_type": "markdown",
   "metadata": {},
   "source": [
    "Suppose $m, n \\in \\mathbb{N}$ and $\\gcd(m, n) = 1$, and consider the $xn + ym$ with $1 \\le x \\le m$ and $1 \\le y \\le n$. Then they form a complete set of residues modulo $mn$. If in addition $x$ and $y$ satisfy $\\gcd(x, m) = 1$ and $\\gcd(y, n) = 1$ then they form a reduced set."
   ]
  },
  {
   "cell_type": "markdown",
   "metadata": {},
   "source": [
    "EXAMPLE\n",
    "\n",
    "$6x + 5y \\mod 30$\n",
    "\n",
    "$\n",
    "\\begin{array}{cc|cccc|}\n",
    "  & x & 1 & 2 & 3 & 4 & 5 \\\\\n",
    "y & \\\\ \\hline\n",
    "1 & & 11 & 17 & 23 & 29 &  5 \\\\ \\hline\n",
    "2 & & 16 & 22 & 28 &  4 & 10 \\\\\n",
    "3 & & 21 & 27 &  3 &  9 & 15 \\\\\n",
    "4 & & 26 &  2 &  8 & 14 & 20 \\\\ \\hline\n",
    "5 & &  1 &  7 & 13 & 19 & 25 \\\\ \\hline\n",
    "6 & &  6 & 12 & 18 & 24 & 30 \\\\\n",
    "\\end  {array}\n",
    "$\n",
    "\n",
    "The $30$ numbers $1$ through $30$ each appear exactly once. The $8$ reduced residue classes occur precisely in the intersection of rows $1$ and $5$ and columns $1$ through $4$.\n",
    "\n",
    "$\\gcd(x = 1, 2, 3, 4, m = 5) = \\gcd(y = 1, 5, n = 6)$"
   ]
  },
  {
   "cell_type": "markdown",
   "metadata": {},
   "source": [
    "### Corollary"
   ]
  },
  {
   "cell_type": "markdown",
   "metadata": {},
   "source": [
    "[Vaughan, Corollary 12]"
   ]
  },
  {
   "cell_type": "markdown",
   "metadata": {},
   "source": [
    "If $\\gcd(m, n) = 1$ then $\\phi(mn) = \\phi(m) \\phi(n)$."
   ]
  },
  {
   "cell_type": "markdown",
   "metadata": {},
   "source": [
    "$\n",
    "\\begin{aligned}\n",
    "\\gcd( 1, n) = 1 && \\phi(  n) &= \\phi( 1) \\phi( n) &&=  \\phi(n) \\\\\n",
    "\\gcd( 2, n) = 1 && \\phi( 2n) &= \\phi( 2) \\phi( n) &&=  \\phi(n) \\\\\n",
    "\\gcd( 3, n) = 1 && \\phi( 3n) &= \\phi( 3) \\phi( n) &&= 2\\phi(n) \\\\\n",
    "\\gcd( 4, n) = 1 && \\phi( 4n) &= \\phi( 4) \\phi( n) &&= 2\\phi(n) \\\\\n",
    "\\gcd( 5, n) = 1 && \\phi( 5n) &= \\phi( 5) \\phi( n) &&= 4\\phi(n) \\\\\n",
    "\\gcd( 6, n) = 1 && \\phi( 6n) &= \\phi( 6) \\phi( n) &&= 2\\phi(n) \\\\\n",
    "\\gcd( 7, n) = 1 && \\phi( 7n) &= \\phi( 7) \\phi( n) &&= 6\\phi(n) \\\\\n",
    "\\gcd( 8, n) = 1 && \\phi( 8n) &= \\phi( 8) \\phi( n) &&= 4\\phi(n) \\\\\n",
    "\\gcd( 9, n) = 1 && \\phi( 9n) &= \\phi( 9) \\phi( n) &&= 6\\phi(n) \\\\\n",
    "\\gcd(10, n) = 1 && \\phi(10n) &= \\phi(10) \\phi( n) &&= 4\\phi(n) \\\\\n",
    "\\end  {aligned}\n",
    "$"
   ]
  },
  {
   "cell_type": "markdown",
   "metadata": {},
   "source": [
    "---"
   ]
  },
  {
   "cell_type": "markdown",
   "metadata": {},
   "source": [
    "## Definition: multiplicative function\n",
    "\n",
    "[Vaughan, Definition 13]"
   ]
  },
  {
   "cell_type": "markdown",
   "metadata": {},
   "source": [
    "If an arithmetical function $f$ which is not identically $0$ satisfies\n",
    "\n",
    "$f(mn) = f(m) f(n)$\n",
    "\n",
    "whenever $\\gcd(m, n) = 1$ then $f$ is called multiplicative."
   ]
  },
  {
   "cell_type": "markdown",
   "metadata": {},
   "source": [
    "### Corollary\n",
    "\n",
    "[Vaughan, Corollary 14]"
   ]
  },
  {
   "cell_type": "markdown",
   "metadata": {},
   "source": [
    "Euler's function is multiplicative."
   ]
  },
  {
   "cell_type": "markdown",
   "metadata": {},
   "source": [
    "---"
   ]
  },
  {
   "cell_type": "markdown",
   "metadata": {},
   "source": [
    "## Theorem\n",
    "\n",
    "[Vaughan, Theorem 15]"
   ]
  },
  {
   "cell_type": "markdown",
   "metadata": {},
   "source": [
    "If $n = p^k$ then the number of reduced residue classes modulo $p^k$ is the number of $x$ with $1 \\le x \\le p^k$ and $p \\nmid x$.\n",
    "\n",
    "This is $p^k - N$ where $N$ is the number of $x$ with $1 \\le x \\le p^k$ and $p \\mid x$, and $N = p^{k - 1}$. Thus\n",
    "\n",
    "$\\phi(p^k) = p^k - p^{k - 1} = p^k (1 - 1/p)$\n",
    "\n",
    "Let $n \\in N$. Then\n",
    "\n",
    "$\n",
    "\\begin{aligned}\n",
    "\\phi(n) = n \\prod_{p \\mid n} (1 - 1/p)\n",
    "\\end  {aligned}\n",
    "$\n",
    "\n",
    "where when $n = 1$ we interpret the product as an empty product $1$.\n",
    "\n",
    "Note that $\\phi(n^2) \\ne \\phi(n)^2$."
   ]
  },
  {
   "cell_type": "markdown",
   "metadata": {},
   "source": [
    "EXAMPLE\n",
    "\n",
    "$\n",
    "\\begin{aligned}\n",
    "n = 2^2 &=     4 &&&     2 = 2   \\times 1 &= 2^2 - 2   &&= | \\{ 1, 3 \\} | \\\\\n",
    "n = 2^3 &=     8 &&&     4 = 2^2 \\times 1 &= 2^3 - 2^2 &&= | \\{ 1, 3, 5, 7 \\} | \\\\\n",
    "n = 2^4 &=    16 &&&     8 = 2^3 \\times 1 &= 2^4 - 2^3 &&= | \\{ 1, 3, 5, 7, 9, 11, 13, 15 \\} | \\\\\n",
    "n = 2^5 &=    32 &&&    16 = 2^4 \\times 1 &= 2^5 - 2^4 &&= \\dots \\\\\n",
    "n = 2^6 &=    64 &&&    32 = 2^5 \\times 1 &= 2^6 - 2^5 &&= \\dots \\\\\n",
    "\\\\\n",
    "n = 3^2 &=     9 &&&     6 = 3   \\times 2 &= 3^2 - 3   &&= | \\{ 1, 2, 4, 5, 7, 8 \\} | \\\\\n",
    "n = 3^3 &=    27 &&&    18 = 3^2 \\times 2 &= 3^3 - 3^2 &&= | \\{ 1, 2, 4, 5, 7, 8, 10, 11, 13, 14, 16, 17, 19, 20, 22, 23, 25, 26 \\} | \\\\\n",
    "n = 3^4 &=    81 &&&    54 = 3^3 \\times 2 &= 3^4 - 3^3 &&= \\dots \\\\\n",
    "n = 3^5 &=   243 &&&   162 = 3^4 \\times 2 &= 3^5 - 3^4 &&= \\dots \\\\\n",
    "n = 3^6 &=   729 &&&   486 = 3^5 \\times 2 &= 3^6 - 3^5 &&= \\dots \\\\\n",
    "\\\\\n",
    "n = 5^2 &=    25 &&&    20 = 5   \\times 4 &= 5^2 - 5   &&= | \\{ 1, 2, 3, 4, 6, 7, 8, 9, 11, 12, 13, 14, 16, 17, 18, 19, 21, 22, 23, 24 \\} | \\\\\n",
    "n = 5^3 &=   125 &&&   100 = 5^2 \\times 4 &= 5^3 - 5^2 &&= \\dots \\\\\n",
    "n = 5^4 &=   625 &&&   500 = 5^3 \\times 4 &= 5^4 - 5^3 &&= \\dots \\\\\n",
    "n = 5^5 &=  3125 &&&  2500 = 5^4 \\times 4 &= 5^5 - 5^4 &&= \\dots \\\\\n",
    "n = 5^6 &= 15625 &&& 12500 = 5^5 \\times 4 &= 5^6 - 5^5 &&= \\dots \\\\\n",
    "\\end  {aligned}\n",
    "$"
   ]
  },
  {
   "cell_type": "markdown",
   "metadata": {},
   "source": [
    "$\n",
    "\\begin{aligned}\n",
    "\\phi( 1) &=  1 \\prod_{p \\mid  1} (1 - 1/p)                                          && :=  1 \\\\\n",
    "\\phi( 2) &=  2 \\prod_{p \\mid  2} (1 - 1/p) =  2 \\times (1 - 1/ 2)                   &&  =  1 \\\\\n",
    "\\phi( 3) &=  3 \\prod_{p \\mid  3} (1 - 1/p) =  3 \\times (1 - 1/ 3)                   &&  =  2 \\\\\n",
    "\\phi( 4) &=  4 \\prod_{p \\mid  4} (1 - 1/p) =  4 \\times (1 - 1/ 2)                   &&  =  2 \\\\\n",
    "\\phi( 5) &=  5 \\prod_{p \\mid  5} (1 - 1/p) =  5 \\times (1 - 1/ 5)                   &&  =  4 \\\\\n",
    "\\phi( 6) &=  6 \\prod_{p \\mid  6} (1 - 1/p) =  6 \\times (1 - 1/ 2)(1 - 1/3)          &&  =  2 \\\\\n",
    "\\phi( 7) &=  7 \\prod_{p \\mid  7} (1 - 1/p) =  7 \\times (1 - 1/ 7)                   &&  =  6 \\\\\n",
    "\\phi( 8) &=  8 \\prod_{p \\mid  8} (1 - 1/p) =  8 \\times (1 - 1/ 2)                   &&  =  4 \\\\\n",
    "\\phi( 9) &=  9 \\prod_{p \\mid  9} (1 - 1/p) =  9 \\times (1 - 1/ 3)                   &&  =  6 \\\\\n",
    "\\phi(10) &= 10 \\prod_{p \\mid 10} (1 - 1/p) = 10 \\times (1 - 1/ 2)(1 - 1/5)          &&  =  4 \\\\\n",
    "\\phi(11) &= 11 \\prod_{p \\mid 11} (1 - 1/p) = 11 \\times (1 - 1/11)                   &&  = 10 \\\\\n",
    "\\phi(12) &= 12 \\prod_{p \\mid 12} (1 - 1/p) = 12 \\times (1 - 1/ 2)(1 - 1/3)          &&  =  4 \\\\\n",
    "\\phi(13) &= 13 \\prod_{p \\mid 13} (1 - 1/p) = 13 \\times (1 - 1/13)                   &&  = 12 \\\\\n",
    "\\phi(14) &= 14 \\prod_{p \\mid 14} (1 - 1/p) = 14 \\times (1 - 1/ 2)(1 - 1/7)          &&  =  6 \\\\\n",
    "\\phi(15) &= 15 \\prod_{p \\mid 15} (1 - 1/p) = 15 \\times (1 - 1/ 3)(1 - 1/5)          &&  =  8 \\\\\n",
    "\\phi(16) &= 16 \\prod_{p \\mid 16} (1 - 1/p) = 16 \\times (1 - 1/ 2)                   &&  =  8 \\\\\n",
    "\\phi(17) &= 17 \\prod_{p \\mid 17} (1 - 1/p) = 17 \\times (1 - 1/17)                   &&  = 16 \\\\\n",
    "\\phi(18) &= 18 \\prod_{p \\mid 18} (1 - 1/p) = 18 \\times (1 - 1/ 2)(1 - 1/3)          &&  =  6 \\\\\n",
    "\\phi(19) &= 19 \\prod_{p \\mid 19} (1 - 1/p) = 19 \\times (1 - 1/19)                   &&  = 18 \\\\\n",
    "\\phi(20) &= 20 \\prod_{p \\mid 20} (1 - 1/p) = 20 \\times (1 - 1/ 2)(1 - 1/5)          &&  =  8 \\\\\n",
    "\\phi(21) &= 21 \\prod_{p \\mid 21} (1 - 1/p) = 21 \\times (1 - 1/ 3)(1 - 1/7)          &&  = 12 \\\\\n",
    "\\phi(22) &= 22 \\prod_{p \\mid 22} (1 - 1/p) = 22 \\times (1 - 1/ 2)(1 - 1/11)         &&  = 10 \\\\\n",
    "\\phi(23) &= 23 \\prod_{p \\mid 23} (1 - 1/p) = 23 \\times (1 - 1/23)                   &&  = 22 \\\\\n",
    "\\phi(24) &= 24 \\prod_{p \\mid 24} (1 - 1/p) = 24 \\times (1 - 1/ 2)(1 - 1/3)          &&  =  8 \\\\\n",
    "\\phi(25) &= 25 \\prod_{p \\mid 25} (1 - 1/p) = 25 \\times (1 - 1/ 5)                   &&  = 20 \\\\\n",
    "\\phi(26) &= 26 \\prod_{p \\mid 26} (1 - 1/p) = 26 \\times (1 - 1/ 2)(1 - 1/13)         &&  = 12 \\\\\n",
    "\\phi(27) &= 27 \\prod_{p \\mid 27} (1 - 1/p) = 27 \\times (1 - 1/ 3)                   &&  = 18 \\\\\n",
    "\\phi(28) &= 28 \\prod_{p \\mid 28} (1 - 1/p) = 28 \\times (1 - 1/ 2)(1 - 1/7)          &&  = 12 \\\\\n",
    "\\phi(29) &= 29 \\prod_{p \\mid 29} (1 - 1/p) = 29 \\times (1 - 1/29)                   &&  = 28 \\\\\n",
    "\\phi(30) &= 30 \\prod_{p \\mid 30} (1 - 1/p) = 30 \\times (1 - 1/ 2)(1 - 1/3)(1 - 1/5) &&  =  8 \\\\\n",
    "\\end  {aligned}\n",
    "$"
   ]
  },
  {
   "cell_type": "markdown",
   "metadata": {},
   "source": [
    "---"
   ]
  },
  {
   "cell_type": "markdown",
   "metadata": {},
   "source": [
    "## Theorem (Euler)\n",
    "\n",
    "[Vaughan, Theorem 17]"
   ]
  },
  {
   "cell_type": "markdown",
   "metadata": {},
   "source": [
    "Suppose that $m \\in \\mathbb{N}$ and $a \\in \\mathbb{Z}$ with $\\gcd(a, m) = 1$. Then\n",
    "\n",
    "$a^{\\phi(m)} \\equiv 1 \\mod m$"
   ]
  },
  {
   "cell_type": "markdown",
   "metadata": {},
   "source": [
    "### Proof"
   ]
  },
  {
   "cell_type": "markdown",
   "metadata": {},
   "source": [
    "Let $a_1, a_2, \\dotsc, a_{\\phi(m)}$ be a reduced set modulo $m$. Then $aa_1, aa_2, \\dotsc, aa_{\\phi(m)}$ is another. Hence\n",
    "\n",
    "$\n",
    "\\begin{aligned}\n",
    "a_1 a_2 \\dots a_{\\phi(m)} &\\equiv aa_1 aa_2 \\dots aa_{\\phi(m)}             & \\mod m \\\\\n",
    "                          &\\equiv  a_1  a_2 \\dots  a_{\\phi(m)} a^{\\phi(m)} & \\mod m \\\\\n",
    "                        1 &\\equiv                  a^{\\phi(m)}             & \\mod m && \\text{since } \\gcd(a_1 a_2 \\dots a_{\\phi(m)}, m) = 1 \\\\\n",
    "\\end  {aligned}\n",
    "$\n",
    "\n",
    "$\\blacksquare$"
   ]
  },
  {
   "cell_type": "markdown",
   "metadata": {},
   "source": [
    "### Corollary (Fermat)\n",
    "\n",
    "[Vaughan, Corollary 18]"
   ]
  },
  {
   "cell_type": "markdown",
   "metadata": {},
   "source": [
    "Let $p$ be a prime and $a \\in \\mathbb{Z}$. Then\n",
    "\n",
    "$a^p \\equiv a \\mod p$\n",
    "\n",
    "If $p \\nmid a$ then\n",
    "\n",
    "$a^{p - 1} \\equiv 1 \\mod p$"
   ]
  },
  {
   "cell_type": "markdown",
   "metadata": {},
   "source": [
    "---"
   ]
  },
  {
   "cell_type": "markdown",
   "metadata": {},
   "source": [
    "## Pseudoprimes\n",
    "\n",
    "Pseudoprimes are composite integers masquerading as primes."
   ]
  },
  {
   "cell_type": "markdown",
   "metadata": {},
   "source": [
    "Could Fermat's theorem give us a primality test? Unfortunately, it is possible that\n",
    "\n",
    "$a^{n - 1} \\equiv 1 \\mod n$\n",
    "\n",
    "when $n$ is ___not prime___, although this is rare. For example, when $n = 341,561,645$ then\n",
    "\n",
    "$2^{n - 1} \\equiv 1 \\mod n$\n",
    "\n",
    "Such $n$ are called pseudoprimes.\n",
    "\n",
    "There are $245$ pseudoprimes less than $10^6$ (compared to $78498$ primes less than $10^6$)."
   ]
  },
  {
   "cell_type": "markdown",
   "metadata": {},
   "source": [
    "$3^{341 - 1} \\equiv 56 \\ne 1 \\mod 341$ suggests a possible primality test.\n",
    "\n",
    "Given $n$, try trial division a few times (say for $d = 2, 3, 5, 7$) and then check $a^{n - 1} \\equiv 1 \\mod n$ successively for $a = 2, 3, 5, 7$.\n",
    "\n",
    "Unfortunately, one still encounters false positives.\n",
    "\n",
    "$561 = 3 \\times 11 \\times 57$ satisfies $a^{560} \\equiv 1 \\mod 561$ for all $a$ with $\\gcd(a, 561) = 1$."
   ]
  },
  {
   "cell_type": "markdown",
   "metadata": {},
   "source": [
    "---"
   ]
  }
 ],
 "metadata": {
  "kernelspec": {
   "display_name": "ml",
   "language": "python",
   "name": "python3"
  },
  "language_info": {
   "codemirror_mode": {
    "name": "ipython",
    "version": 3
   },
   "file_extension": ".py",
   "mimetype": "text/x-python",
   "name": "python",
   "nbconvert_exporter": "python",
   "pygments_lexer": "ipython3",
   "version": "3.11.9"
  }
 },
 "nbformat": 4,
 "nbformat_minor": 2
}
