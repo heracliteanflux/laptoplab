{
 "cells": [
  {
   "cell_type": "markdown",
   "metadata": {},
   "source": [
    "# Mathematical Induction"
   ]
  },
  {
   "cell_type": "markdown",
   "metadata": {},
   "source": [
    "---"
   ]
  },
  {
   "cell_type": "markdown",
   "metadata": {},
   "source": [
    "## Programming Environment"
   ]
  },
  {
   "cell_type": "code",
   "execution_count": null,
   "metadata": {},
   "outputs": [],
   "source": [
    "from   numba import njit\n",
    "%load_ext Cython\n",
    "import numpy as np\n",
    "import cProfile\n",
    "from   functools import lru_cache\n",
    "import sys\n",
    "sys.setrecursionlimit(1_000)"
   ]
  },
  {
   "cell_type": "markdown",
   "metadata": {},
   "source": [
    "---"
   ]
  },
  {
   "cell_type": "markdown",
   "metadata": {},
   "source": [
    "## Induction Principle"
   ]
  },
  {
   "cell_type": "markdown",
   "metadata": {},
   "source": [
    "Construction of the sort by which a process is repeatedly applied to a base case is called inductive."
   ]
  },
  {
   "cell_type": "markdown",
   "metadata": {},
   "source": [
    "Constructing $\\mathbb{P}$\n",
    "\n",
    "> Let $S$ be the successor function $S(x) = x + 1$.  \n",
    "\n",
    "$$\n",
    "\\begin{align*}\n",
    "2 &= S(1) \\\\\n",
    "3 &= S(S(1)) \\\\\n",
    "4 &= S(S(S(1))) \\\\\n",
    "5 &= S(S(S(S(1)))) \\\\\n",
    "\\vdots \\\\\n",
    "\\end{align*}\n",
    "$$\n",
    "\n",
    "We construct a set of numbers with a certain property. If we let $S$ stand for the set of numbers for which our theorem holds, in our proof by induction we show the following facts about $S$:\n",
    "1. The number $1$ is in $S$. This is proved explicitly in the base case of the proof.\n",
    "2. If the number $k$ is an element of $S$, then the number $k + 1$ is an element of $S$. This is the content of the inductive step of the proof.\n",
    "\n",
    "We know that the collection of natural numbers can be defined as the smallest set such that\n",
    "1. The number $1$ is a natural number.\n",
    "2. If $k$ is a natural number, then $k + 1$ is a natural number.\n",
    "\n",
    "So $S$, the collection of numbers for which the theorem holds, is identical with the set of natural numbers, thus the theorem holds for every natural number $n$, as needed."
   ]
  },
  {
   "cell_type": "markdown",
   "metadata": {},
   "source": [
    "The use of the induction principle can take complicated forms but, at base, is the fact that the positive integers are constructed by starting somewhere and then applying a rule again and again.\n",
    "\n",
    "$Induction \\,\\, Principle$\n",
    "\n",
    "> Let $P(n)$ be an assertion involving the positive integer variable $n$.  \n",
    "> If  \n",
    "> 1. $P(1)$ holds and  \n",
    "> 2. whenever $P(k)$ holds so also does $P(k + 1)$  \n",
    ">  \n",
    "> then $P(n)$ holds for every positive integer $n$.  \n",
    "\n",
    "That is, if we can prove the base case at $n = 1$ and if we have an argument that proves the $k + 1$ case from the $k$ case then we have the result for all positive integers.\n",
    "\n",
    "In the inductive step, we prove the implication if the formula holds for $k$, then the formula holds for $k + 1$. We prove the implication by assuming the antecedent--that the theorem holds for a fixed but unknown number $k$, and from that assumption proving the consequent, that the theorem holds for the next number $k + 1$. This is not the same as assuming the theorem that we are trying to prove. The theorem is a universal statement--it claims that a certain formula holds for every natural number.\n",
    "\n",
    "The typical structure of a proof by induction is as follows.\n",
    "1. Base Case - show $P(1)$.\n",
    "2. Induction Step - assume that $P(k)$ holds (this assumption is the induction hypothesis) and deduce that $P(k + 1)$ follows.\n",
    "\n",
    "Then the conclusion (by the induction principle) is that $P(n)$ holds for all positive integers $n$."
   ]
  },
  {
   "cell_type": "markdown",
   "metadata": {},
   "source": [
    "---"
   ]
  },
  {
   "cell_type": "markdown",
   "metadata": {},
   "source": [
    "## Examples"
   ]
  },
  {
   "cell_type": "markdown",
   "metadata": {},
   "source": [
    "### $\\forall n \\in \\mathbb{P} \\,\\,[ \\,\\,3 \\mid a_n + 1\\,\\, ]$"
   ]
  },
  {
   "cell_type": "markdown",
   "metadata": {},
   "source": [
    "$Claim$ [Humphreys & Prest pp. 16]\n",
    "\n",
    "> Let $a$ be a sequence whose terms are defined inductively as follows.  \n",
    "\n",
    "$$\n",
    "a_n :=\n",
    "\\begin{cases}\n",
    "a_1 &= 2 \\\\\n",
    "a_{n + 1} &= 2a_n + 1 \\\\\n",
    "\\end{cases}\n",
    "$$\n",
    "\n",
    "$$\n",
    "\\begin{align*}\n",
    "a_1 &= 2 \\\\\n",
    "a_2 &= 2a_1 + 1 =  5 \\\\\n",
    "a_3 &= 2a_2 + 1 = 11 \\\\\n",
    "a_4 &= 2a_3 + 1 = 23 \\\\\n",
    "a_5 &= 2a_4 + 1 = 47 \\\\\n",
    "\\vdots \\\\\n",
    "\\end{align*}\n",
    "$$\n",
    "\n",
    "> One greater than any term in $a$ is divisible by $3$.  \n",
    "\n",
    "$$\n",
    "\\forall n \\in \\mathbb{P} \\,\\,\n",
    "[ \\,\\,\n",
    "3 \\mid a_n + 1\n",
    "\\,\\, ]\n",
    "$$"
   ]
  },
  {
   "cell_type": "markdown",
   "metadata": {},
   "source": [
    "$Proof \\,\\, by \\,\\, induction$\n",
    "\n",
    "> Base Case  \n",
    ">> $a_1 + 1 = 2 + 1 = 3$  \n",
    ">> $\\therefore 3 \\mid a_1 + 1$.  \n",
    ">  \n",
    "> Induction Step  \n",
    ">> Induction Hypothesis: Let it be the case that $3 \\mid a_k + 1$ for some $k \\in \\mathbb{P}$.  \n",
    ">> Then there is an integer $m$ s.t. $3m = a_k + 1 \\iff 3m - 1 = a_k$.  \n",
    ">> $a_{k + 1} + 1 = 2a_k + 2 = 2(3m - 1) + 2 = 6m - 2 + 2 = 3(2m)$.  \n",
    ">> $\\therefore 3 \\mid a_{k + 1} + 1$.  \n",
    ">  \n",
    "> $\\therefore 3 \\mid a_n + 1$ for any $n \\in \\mathbb{P}$.  \n",
    "\n",
    "$\\blacksquare$"
   ]
  },
  {
   "cell_type": "markdown",
   "metadata": {},
   "source": [
    "---"
   ]
  },
  {
   "cell_type": "markdown",
   "metadata": {},
   "source": [
    "### $\\forall n \\in \\mathbb{N} \\,\\,\\left[ \\,\\,0 + 1 + 2 + \\dots + n = \\frac{n(n + 1)}{2}\\,\\, \\right]$"
   ]
  },
  {
   "cell_type": "markdown",
   "metadata": {},
   "source": [
    "$Claim$ [Humphreys & Prest pp. 17]\n",
    "\n",
    "> Let $n$ be a natural number.  \n",
    "> The sum $0 + 1 + 2 + \\dots + n$ of the first $n$ natural numbers is $\\frac{n(n + 1)}{2}$.  \n",
    "\n",
    "$$\n",
    "\\forall n \\in \\mathbb{N} \\,\\,\n",
    "\\left[ \\,\\,\n",
    "0 + 1 + 2 + \\dots + n\n",
    "= \\frac{n(n + 1)}{2}\n",
    "= \\frac{1}{2} n^2 + \\frac{1}{2} n\n",
    "\\,\\, \\right]\n",
    "$$"
   ]
  },
  {
   "cell_type": "markdown",
   "metadata": {},
   "source": [
    "$Proof \\,\\, by \\,\\, induction$\n",
    "\n",
    "> Base Case  \n",
    ">> $n = 0 \\implies [0 = \\frac{0(0 + 1)}{2} \\iff 0 = 0]$  \n",
    ">> $n = 1 \\implies [0 + 1 = \\frac{1(1 + 1)}{2} \\iff 1 = 1]$  \n",
    ">  \n",
    "> Induction Step  \n",
    ">> Induction Hypothesis: Let $1 + 2 + \\dots + k = \\frac{k(k + 1)}{2}$ for some $k \\in \\mathbb{N}$.  \n",
    "\n",
    "$$\n",
    "\\begin{align*}\n",
    "& \\textcolor{green}{1 + 2 + \\dots + k + (k + 1)} \\\\\n",
    "= & \\frac{k(k + 1)}{2} + (k + 1) \\\\\n",
    "= & \\frac{k(k + 1) + 2(k + 1)}{2} \\\\\n",
    "= & \\textcolor{green}{\\frac{(k + 1)((k + 1) + 1)}{2}} \\\\\n",
    "= & \\frac{(k + 1)(k + 2)}{2} \\\\\n",
    "= & \\frac{k^2 + 3k + 2}{2} \\\\\n",
    "= & \\frac{1}{2} k^2 + \\frac{1}{2} 3k + \\frac{1}{2} 2 \\\\\n",
    "= & \\frac{1}{2} k^2 + \\frac{1}{2} 2k + \\frac{1}{2} 1 + \\frac{1}{2} k + \\frac{1}{2} 1 \\\\\n",
    "= & \\frac{1}{2} ( k^2 + 2k + 1 ) + \\frac{1}{2} ( k + 1 ) \\\\\n",
    "= & \\textcolor{green}{\\frac{1}{2} ( k + 1 )^2 + \\frac{1}{2} ( k + 1 )} \\\\\n",
    "\\end{align*}\n",
    "$$\n",
    "\n",
    "> Therefore the sum $0 + 1 + 2 + \\dots + n$ of the first $n$ natural numbers is $\\frac{n(n + 1)}{2}$ for any natural number $n$.  \n",
    "\n",
    "$\\blacksquare$"
   ]
  },
  {
   "cell_type": "markdown",
   "metadata": {},
   "source": [
    "---"
   ]
  },
  {
   "cell_type": "markdown",
   "metadata": {},
   "source": [
    "### $\\forall n \\in \\mathbb{P} \\,\\,[ \\,\\,13 \\mid a_n\\,\\, ]$"
   ]
  },
  {
   "cell_type": "markdown",
   "metadata": {},
   "source": [
    "$Claim$ [Humphreys & Prest pp. 17-18]\n",
    "\n",
    "> Let $a$ be a sequence whose terms are defined as follows.  \n",
    "\n",
    "$$\n",
    "a_n := 4^{2n - 1} + 3^{n + 1}\n",
    "$$\n",
    "\n",
    "> Any term in $a$ is divisible by $13$.  \n",
    "\n",
    "$$\n",
    "\\forall n \\in \\mathbb{P} \\,\\,\n",
    "[ \\,\\,\n",
    "13 \\mid a_n\n",
    "\\,\\, ]\n",
    "$$"
   ]
  },
  {
   "cell_type": "markdown",
   "metadata": {},
   "source": [
    "$Proof \\,\\, by \\,\\, induction$\n",
    "\n",
    "> Base Case  \n",
    ">> $a_1 = 4^{2(1) - 1} + 3^{(1) + 1} = 4 + 3^2 = 13$  \n",
    ">> $\\therefore 13 \\mid a_1$.  \n",
    ">  \n",
    "> Induction Step  \n",
    ">> Induction Hypothesis: Let $13 \\mid a_k = 4^{2k - 1} + 3^{k + 1}$ for some $k \\in \\mathbb{P}$.  \n",
    ">> Then there is an integer $m$ s.t. $13m = 4^{2k - 1} + 3^{k + 1}$.  \n",
    ">> $a_{k + 1} = 4^{2(k + 1) - 1} + 3^{(k + 1) + 1} = 4^{2k + 1} + 3^{k + 2}$  \n",
    ">> $= 4^2 \\cdot 4^{2k - 1} + 3 \\cdot 3^{k + 1}$  \n",
    ">> $= 16 \\cdot 4^{2k - 1} (+ 16 \\cdot 3^{k + 1} - 16 \\cdot 3^{k + 1}) + 3 \\cdot 3^{k + 1}$  \n",
    ">> $= 16 (4^{2k - 1} + 3^{k + 1}) - 16 \\cdot 3^{k + 1} + 3 \\cdot 3^{k + 1}$  \n",
    ">> $= 16 (13m) - 13 \\cdot 3^{k + 1}$  \n",
    ">> $= 13 (16m - 3^{k + 1})$  \n",
    ">> $\\therefore 13 \\mid a_{k + 1}$.  \n",
    ">  \n",
    "> $\\therefore 13 \\mid a_n$ for any $n \\in \\mathbb{P}$.  \n",
    "\n",
    "$\\blacksquare$"
   ]
  },
  {
   "cell_type": "markdown",
   "metadata": {},
   "source": [
    "---"
   ]
  },
  {
   "cell_type": "markdown",
   "metadata": {},
   "source": [
    "## Definition of the positive powers of an integer"
   ]
  },
  {
   "cell_type": "markdown",
   "metadata": {},
   "source": [
    "$Definition \\,\\, by \\,\\, induction$\n",
    "\n",
    "> Base Case  \n",
    ">> Let $a^1 := a$.  \n",
    ">  \n",
    "> Induction Step  \n",
    ">> Let $a^{k + 1} := a^k \\cdot a$.  \n",
    "\n",
    "$$\n",
    "a^n :=\n",
    "\\begin{cases}\n",
    "a^1 &= a \\\\\n",
    "a^{k + 1} &= a^k \\cdot a \\\\\n",
    "\\end{cases}\n",
    "$$\n",
    "\n",
    "$$\n",
    "\\begin{align*}\n",
    "a^1 &= a \\\\\n",
    "a^2 &= a^1 \\cdot a = a \\cdot a \\\\\n",
    "a^3 &= a^2 \\cdot a = (a^1 \\cdot a) \\cdot a = (a \\cdot a) \\cdot a \\\\\n",
    "a^4 &= a^3 \\cdot a = (a^2 \\cdot a) \\cdot a = ((a^1 \\cdot a) \\cdot a) \\cdot a = ((a \\cdot a) \\cdot a) \\cdot a \\\\\n",
    "a^5 &= a^4 \\cdot a = (a^3 \\cdot a) \\cdot a = ((a^2 \\cdot a) \\cdot a) \\cdot a = (((a^1 \\cdot a) \\cdot a) \\cdot a) \\cdot a = (((a \\cdot a) \\cdot a) \\cdot a) \\cdot a\\\\\n",
    "\\vdots \\\\\n",
    "\\end{align*}\n",
    "$$"
   ]
  },
  {
   "cell_type": "markdown",
   "metadata": {},
   "source": [
    "---"
   ]
  },
  {
   "cell_type": "markdown",
   "metadata": {},
   "source": [
    "## Definition of the factorial symbol"
   ]
  },
  {
   "cell_type": "markdown",
   "metadata": {},
   "source": [
    "$Definition \\,\\, by \\,\\, induction$\n",
    "\n",
    "> Base Case  \n",
    ">> Let $0! := 1$.  \n",
    ">  \n",
    "> Induction Step  \n",
    ">> Let $(k + 1)! := (k + 1) \\times k!$  \n",
    "\n",
    "$$\n",
    "n! :=\n",
    "\\begin{cases}\n",
    "0! &= 1 \\\\\n",
    "(k + 1)! &= (k + 1) \\times k! \\\\\n",
    "\\end{cases}\n",
    "$$\n",
    "\n",
    "$$\n",
    "\\begin{align*}\n",
    "0! &= 1 \\\\\n",
    "1! &= 1 \\times 0! = 1 \\times 1 = 1 \\\\\n",
    "2! &= 2 \\times 1! = 2 \\times (1 \\times 0!) = 2 \\times (1 \\times 1) = 2 \\\\\n",
    "3! &= 3 \\times 2! = 3 \\times (2 \\times 1!) = 3 \\times (2 \\times (1 \\times 0!)) = 3 \\times (2 \\times (1 \\times 1)) = 6 \\\\\n",
    "4! &= 4 \\times 3! = 4 \\times (3 \\times (2 \\times 1!)) = 4 \\times (3 \\times (2 \\times (1 \\times 0!))) = 4 \\times (3 \\times (2 \\times (1 \\times 1))) = 24 \\\\\n",
    "\\vdots \\\\\n",
    "\\end{align*}\n",
    "$$"
   ]
  },
  {
   "cell_type": "markdown",
   "metadata": {},
   "source": [
    "---"
   ]
  },
  {
   "cell_type": "markdown",
   "metadata": {},
   "source": [
    "## The well-ordering principle and mathematical induction"
   ]
  },
  {
   "cell_type": "markdown",
   "metadata": {},
   "source": [
    "$Theorem$ [Humphreys & Prest 1.2.2 pp. 20]\n",
    "\n",
    "> The well-ordering principle implies the principle of mathematical induction.  \n",
    "\n",
    "$$\n",
    "WellOrdering \\implies Induction\n",
    "$$\n",
    "\n",
    "$Proof \\,\\, by \\,\\, contradiction$ [Humphreys & Prest pp. 21]\n",
    "\n",
    "> Let $P(n)$ satisfy the conditions for the induction principle: so $P(1)$ holds whenever $P(k)$ holds and so also does $P(k + 1)$.  \n",
    "> Let $S$ be the set of positive integers $m$ for which $P(m)$ is false.  \n",
    "> Either $S$ is the empty set or else $S$ is non-empty.  \n",
    ">> Let $S$ be non-empty.  \n",
    ">> Then the well-ordering principle says that there is a least element $t \\in S$.  \n",
    ">> $1 \\not\\in S$ since $P(1)$ holds and so $t \\gt 1 \\iff t - 1 \\gt 0$ (i.e., $t - 1$ is positive).  \n",
    ">> $P(t - 1)$ holds since $t$ is the least element of $S$ (the set of positive integers for which $P(n)$ does not hold).  \n",
    ">> But since $t = (t - 1) + 1$ it follows by our assumption on $P$ (take $k = t - 1$) that $P(t)$ does hold.  \n",
    ">> $Contradiction!$  \n",
    ">> $\\therefore S = \\varnothing$.  \n",
    ">  \n",
    "> $\\therefore \\forall n \\in \\mathbb{P} \\,\\, [ \\,\\, P(n) \\,\\, ]$  \n",
    "\n",
    "$\\blacksquare$"
   ]
  },
  {
   "cell_type": "markdown",
   "metadata": {},
   "source": [
    "$Claim$\n",
    "\n",
    "> The principle of mathematical induction implies the well-ordering principle.  \n",
    "\n",
    "$$\n",
    "Induction \\implies WellOrdering\n",
    "$$"
   ]
  },
  {
   "cell_type": "markdown",
   "metadata": {},
   "source": [
    "$Claim$\n",
    "\n",
    "> Mathematical induction holds iff the well-ordering principle holds.  \n",
    "\n",
    "$$\n",
    "Induction \\iff WellOrdering\n",
    "$$"
   ]
  },
  {
   "cell_type": "markdown",
   "metadata": {},
   "source": [
    "## Variations on the induction principle"
   ]
  },
  {
   "cell_type": "markdown",
   "metadata": {},
   "source": [
    "$Induction \\,\\, Principle \\,\\, variation$\n",
    "\n",
    "> Let $P(n)$ be an assertion involving the variable $n$.  \n",
    "> If  \n",
    "> 1. $P(n_0)$ holds for an integer $n_0$ and  \n",
    "> 2. for each integer $k \\ge n_0$ whenever $P(k)$ holds so also does $P(k + 1)$  \n",
    ">  \n",
    "> then $P(n)$ holds for all integers $k \\ge n_0$.  \n",
    "\n",
    "In other words, the induction need not start at $n = 1$. For example, it may be appropriate to start with the base case at $n = 0$."
   ]
  },
  {
   "cell_type": "markdown",
   "metadata": {},
   "source": [
    "### Strong Induction\n",
    "a.k.a. Complete Induction or Course of Values Induction"
   ]
  },
  {
   "cell_type": "markdown",
   "metadata": {},
   "source": [
    "$Strong \\,\\, Induction$\n",
    "\n",
    "> Let $P(n)$ be an assertion involving the integer variable $n$.  \n",
    "> If  \n",
    "> 1. $P(0)$ holds and  \n",
    "> 2. for each $k \\ge 0$, from the hypothesis that $P$ holds for all non-negative $m \\le k$, $P(k + 1)$ holds  \n",
    ">  \n",
    "> then $P(n)$ holds for every natural number $n$.  \n",
    "\n",
    "The $0$ could be replaced by any integer $n_0$ and the conclusion would be modified accordingly.\n",
    "\n",
    "This variation on mathematical induction takes note of the fact that, if in an induction we have reached the stage where we have that $P(k)$ is true then, in getting there, we also showed that $P(k - 1), P(k - 2), \\dots$ (down to the base case) are true, so it is legitimate to use all this information (not just the fact that $P(k)$ is true) in trying to prove that $P(k + 1)$ holds.\n",
    "\n",
    "The image of a sequence of dominoes is sometimes used to illustrate the idea of proof by induction. Imagine a straight line of dominoes: these corresponds to the integers. They are sufficiently close together that if any one of them falls, then it will knock over the domino next to it: that corresponds to the induction step (from $P(k)$ we get $P(k + 1)$). One of the dominoes is pushed over: that corresponds to the base case. In these terms, the principle of strong induction says that to knock over the $(k + 1)$ st domino we are not restricted to using just the force of the $k$ th domino: we can also use the fact that all the previous dominoes have fallen over."
   ]
  },
  {
   "cell_type": "markdown",
   "metadata": {},
   "source": [
    "---"
   ]
  },
  {
   "cell_type": "markdown",
   "metadata": {},
   "source": [
    "## Fibonacci Sequence"
   ]
  },
  {
   "cell_type": "markdown",
   "metadata": {},
   "source": [
    "The Fibonacci sequence is the sequence $1, 1, 2, 3, 5, 8, 13, \\dots$ where each term is the sum of the two preceding terms. Show that every two successive terms of the Fibonacci sequence are relatively prime.\n",
    "\n",
    "> The Fibonacci sequence is defined as follows.  \n",
    "\n",
    "$$\n",
    "F_n :=\n",
    "\\begin{cases}\n",
    "F_1 &= 1 \\\\\n",
    "F_2 &= 1 \\\\\n",
    "F_{n + 1} &= F_n + F_{n - 1} && n \\in \\{ 2, 3, \\dots \\} \\\\\n",
    "\\end{cases}\n",
    ":=\n",
    "\\begin{cases}\n",
    "F(0) &= 0 \\\\\n",
    "F(1) &= 1 \\\\\n",
    "F(n) &= F(n - 1) + F(n - 2) && n \\in \\{ 2, 3, \\dots \\} \\\\\n",
    "\\end{cases}\n",
    "$$\n",
    "\n",
    "$Example$\n",
    "\n",
    "$$\n",
    "\\begin{align*}\n",
    "  & F(5) \\\\\n",
    "= & F(4) + F(3) \\\\\n",
    "= & F(3) + F(2) + F(2) + F(1) \\\\\n",
    "= & F(2) + F(1) + F(1) + F(0) + F(1) + F(0) + 1 \\\\\n",
    "= & F(1) + F(0) + 1 + 1 + 0 + 1 + 0 + 1 \\\\\n",
    "= & 1 + 0 + 4 \\\\\n",
    "= & 5 \\\\\n",
    "\\end{align*}\n",
    "$$\n",
    "\n",
    "$Claim$\n",
    "\n",
    "> Every two successive terms of the Fibonacci sequence are relatively prime.  \n",
    "\n",
    "$$\n",
    "\\forall n \\in \\mathbb{P} \\,\\,\n",
    "[\\,\\,\n",
    "gcd(F_n, F_{n + 1}) = 1\n",
    "\\,\\,]\n",
    "$$\n",
    "\n",
    "$Proof \\,\\, by \\,\\, induction$\n",
    "\n",
    "> Base Case  \n",
    ">> $gcd(F_1, F_2) = gcd(1, 1) = 1$  \n",
    ">  \n",
    "> Induction Step  \n",
    ">> Induction Hypothesis: Let it be the case that $gcd(F_k, F_{k + 1}) = 1$ for some positive integer $k \\ge 1$.  \n",
    ">> Let $d$ be a common divisor of $F_{k + 1}$ and $F_{k + 2} = F_{k + 1} + F_k$.  \n",
    ">> Then $d$ is also a common divisor of $F_k$.  \n",
    ">> But $gcd(F_k, F_{k + 1}) = 1$ and so it must be the case that $d = 1$.  \n",
    ">  \n",
    "> Therefore every two successive terms of the Fibonacci sequence are relatively prime.  \n",
    "\n",
    "$\\blacksquare$"
   ]
  },
  {
   "cell_type": "markdown",
   "metadata": {},
   "source": [
    "---"
   ]
  },
  {
   "cell_type": "markdown",
   "metadata": {},
   "source": [
    "## Resources"
   ]
  },
  {
   "cell_type": "markdown",
   "metadata": {},
   "source": [
    "https://courses.grainger.illinois.edu/cs173/fa2017/B-lecture/Lectures/InductionNotes.pdf\n",
    "\n",
    "https://jeffe.cs.illinois.edu/teaching/algorithms/notes/98-induction.pdf"
   ]
  },
  {
   "cell_type": "markdown",
   "metadata": {},
   "source": [
    "---"
   ]
  },
  {
   "cell_type": "code",
   "execution_count": null,
   "metadata": {},
   "outputs": [],
   "source": [
    "fibonacci = [0, 1, 1, 2, 3, 5, 8, 13, 21, 34, 55, 89, 144, 233, 377, 610]"
   ]
  },
  {
   "cell_type": "markdown",
   "metadata": {},
   "source": [
    "---"
   ]
  },
  {
   "cell_type": "markdown",
   "metadata": {},
   "source": [
    "__Pure Python Recursion__"
   ]
  },
  {
   "cell_type": "code",
   "execution_count": null,
   "metadata": {},
   "outputs": [],
   "source": [
    "# 1. pure python recursion\n",
    "def F01 (n : int) -> int:\n",
    "# if in {0, 1} : return n\n",
    "  if n < 2     : return n    #      base case\n",
    "  return F01(n-1) + F01(n-2) # recursive case"
   ]
  },
  {
   "cell_type": "code",
   "execution_count": null,
   "metadata": {},
   "outputs": [
    {
     "name": "stdout",
     "output_type": "stream",
     "text": [
      "1.1 s ± 2.36 ms per loop (mean ± std. dev. of 7 runs, 1 loop each)\n"
     ]
    }
   ],
   "source": [
    "%timeit F01(35) # ~ 1 s"
   ]
  },
  {
   "cell_type": "code",
   "execution_count": null,
   "metadata": {},
   "outputs": [
    {
     "name": "stdout",
     "output_type": "stream",
     "text": [
      "         29860706 function calls (4 primitive calls) in 4.769 seconds\n",
      "\n",
      "   Ordered by: standard name\n",
      "\n",
      "   ncalls  tottime  percall  cumtime  percall filename:lineno(function)\n",
      "29860703/1    4.769    0.000    4.769    4.769 2524435626.py:2(F01)\n",
      "        1    0.000    0.000    4.769    4.769 <string>:1(<module>)\n",
      "        1    0.000    0.000    4.769    4.769 {built-in method builtins.exec}\n",
      "        1    0.000    0.000    0.000    0.000 {method 'disable' of '_lsprof.Profiler' objects}\n",
      "\n",
      "\n"
     ]
    }
   ],
   "source": [
    "cProfile.run(statement = 'F01(35)')"
   ]
  },
  {
   "cell_type": "markdown",
   "metadata": {},
   "source": [
    "---"
   ]
  },
  {
   "cell_type": "markdown",
   "metadata": {},
   "source": [
    "__Numba-jitted Recursion__"
   ]
  },
  {
   "cell_type": "code",
   "execution_count": null,
   "metadata": {},
   "outputs": [],
   "source": [
    "# 2. numba-jitted python recursion\n",
    "@njit\n",
    "def F02 (n : int) -> int:\n",
    "  if n < 2 : return n        #      base case\n",
    "  return F02(n-1) + F02(n-2) # recursive case"
   ]
  },
  {
   "cell_type": "code",
   "execution_count": null,
   "metadata": {},
   "outputs": [
    {
     "name": "stdout",
     "output_type": "stream",
     "text": [
      "41 ms ± 411 µs per loop (mean ± std. dev. of 10 runs, 7 loops each)\n"
     ]
    }
   ],
   "source": [
    "%timeit -r10 -n7 F02(35) # ~ 10 ms"
   ]
  },
  {
   "cell_type": "code",
   "execution_count": null,
   "metadata": {},
   "outputs": [
    {
     "name": "stdout",
     "output_type": "stream",
     "text": [
      "         4 function calls in 0.047 seconds\n",
      "\n",
      "   Ordered by: standard name\n",
      "\n",
      "   ncalls  tottime  percall  cumtime  percall filename:lineno(function)\n",
      "        1    0.047    0.047    0.047    0.047 4014199938.py:2(F02)\n",
      "        1    0.000    0.000    0.047    0.047 <string>:1(<module>)\n",
      "        1    0.000    0.000    0.047    0.047 {built-in method builtins.exec}\n",
      "        1    0.000    0.000    0.000    0.000 {method 'disable' of '_lsprof.Profiler' objects}\n",
      "\n",
      "\n"
     ]
    }
   ],
   "source": [
    "cProfile.run(statement = 'F02(35)')"
   ]
  },
  {
   "cell_type": "markdown",
   "metadata": {},
   "source": [
    "---"
   ]
  },
  {
   "cell_type": "markdown",
   "metadata": {},
   "source": [
    "__Memoized Recursion - functools__"
   ]
  },
  {
   "cell_type": "code",
   "execution_count": null,
   "metadata": {},
   "outputs": [],
   "source": [
    "# 3. memoized python recursion - functools\n",
    "@lru_cache(maxsize = None)\n",
    "def F03 (n : int) -> int:\n",
    "  if n < 2 : return n        #      base case\n",
    "  return F03(n-1) + F03(n-2) # recursive case"
   ]
  },
  {
   "cell_type": "code",
   "execution_count": null,
   "metadata": {},
   "outputs": [
    {
     "name": "stdout",
     "output_type": "stream",
     "text": [
      "80.4 ns ± 67.9 ns per loop (mean ± std. dev. of 10 runs, 10 loops each)\n"
     ]
    }
   ],
   "source": [
    "%timeit -r10 -n10 fn = F03(35) # ~ 100 ns"
   ]
  },
  {
   "cell_type": "code",
   "execution_count": null,
   "metadata": {},
   "outputs": [
    {
     "name": "stdout",
     "output_type": "stream",
     "text": [
      "         3 function calls in 0.000 seconds\n",
      "\n",
      "   Ordered by: standard name\n",
      "\n",
      "   ncalls  tottime  percall  cumtime  percall filename:lineno(function)\n",
      "        1    0.000    0.000    0.000    0.000 <string>:1(<module>)\n",
      "        1    0.000    0.000    0.000    0.000 {built-in method builtins.exec}\n",
      "        1    0.000    0.000    0.000    0.000 {method 'disable' of '_lsprof.Profiler' objects}\n",
      "\n",
      "\n"
     ]
    }
   ],
   "source": [
    "cProfile.run(statement = 'F03(35)')"
   ]
  },
  {
   "cell_type": "markdown",
   "metadata": {},
   "source": [
    "---"
   ]
  },
  {
   "cell_type": "markdown",
   "metadata": {},
   "source": [
    "__Memoized Recursion - dict__"
   ]
  },
  {
   "cell_type": "code",
   "execution_count": null,
   "metadata": {},
   "outputs": [],
   "source": [
    "# 4. memoized python recursion - dict\n",
    "cache = {0: 0, 1: 1}\n",
    "def F04 (n : int) -> int:\n",
    "  if n in cache : return cache[n] #      base case\n",
    "  cache[n] = F04(n-1) + F04(n-2)  # recursive case\n",
    "  return cache[n]"
   ]
  },
  {
   "cell_type": "code",
   "execution_count": null,
   "metadata": {},
   "outputs": [
    {
     "name": "stdout",
     "output_type": "stream",
     "text": [
      "136 ns ± 64.4 ns per loop (mean ± std. dev. of 10 runs, 10 loops each)\n"
     ]
    }
   ],
   "source": [
    "%timeit -r10 -n10 F04(35) # ~ 100 ns"
   ]
  },
  {
   "cell_type": "code",
   "execution_count": null,
   "metadata": {},
   "outputs": [
    {
     "name": "stdout",
     "output_type": "stream",
     "text": [
      "         4 function calls in 0.000 seconds\n",
      "\n",
      "   Ordered by: standard name\n",
      "\n",
      "   ncalls  tottime  percall  cumtime  percall filename:lineno(function)\n",
      "        1    0.000    0.000    0.000    0.000 2057090240.py:3(F04)\n",
      "        1    0.000    0.000    0.000    0.000 <string>:1(<module>)\n",
      "        1    0.000    0.000    0.000    0.000 {built-in method builtins.exec}\n",
      "        1    0.000    0.000    0.000    0.000 {method 'disable' of '_lsprof.Profiler' objects}\n",
      "\n",
      "\n"
     ]
    }
   ],
   "source": [
    "cProfile.run(statement = 'F04(35)')"
   ]
  },
  {
   "cell_type": "markdown",
   "metadata": {},
   "source": [
    "---"
   ]
  },
  {
   "cell_type": "code",
   "execution_count": null,
   "metadata": {},
   "outputs": [
    {
     "name": "stdout",
     "output_type": "stream",
     "text": [
      "CPU times: user 1.11 s, sys: 4.26 ms, total: 1.11 s\n",
      "Wall time: 1.11 s\n",
      "CPU times: user 40.8 ms, sys: 230 µs, total: 41 ms\n",
      "Wall time: 41.1 ms\n",
      "CPU times: user 1 µs, sys: 1 µs, total: 2 µs\n",
      "Wall time: 2.62 µs\n",
      "CPU times: user 2 µs, sys: 0 ns, total: 2 µs\n",
      "Wall time: 2.86 µs\n"
     ]
    },
    {
     "data": {
      "text/plain": [
       "9227465"
      ]
     },
     "metadata": {},
     "output_type": "display_data"
    }
   ],
   "source": [
    "%time F01(35) #                                pure python recursion\n",
    "%time F02(35) # numba jit doesn't improve upon pure python recursion\n",
    "%time F03(35) # memoized python recursion - functools performs best\n",
    "%time F04(35) # memoized python recursion - dict      performs almost as well"
   ]
  },
  {
   "cell_type": "markdown",
   "metadata": {},
   "source": [
    "The memoized pure python function computes very large terms efficiently."
   ]
  },
  {
   "cell_type": "code",
   "execution_count": null,
   "metadata": {},
   "outputs": [
    {
     "data": {
      "text/plain": [
       "1000"
      ]
     },
     "metadata": {},
     "output_type": "display_data"
    }
   ],
   "source": [
    "sys.getrecursionlimit()"
   ]
  },
  {
   "cell_type": "code",
   "execution_count": null,
   "metadata": {},
   "outputs": [
    {
     "name": "stdout",
     "output_type": "stream",
     "text": [
      "176023680645013966468226945392411250770384383304492191886725992896575345044216019675\n",
      "176023680645013966468226945392411250770384383304492191886725992896575345044216019675\n"
     ]
    }
   ],
   "source": [
    "print(F03(int(4e2)))\n",
    "print(F04(int(4e2)))"
   ]
  },
  {
   "cell_type": "code",
   "execution_count": null,
   "metadata": {},
   "outputs": [],
   "source": [
    "# sys.setrecursionlimit(2_000)\n",
    "# sys.getrecursionlimit()"
   ]
  },
  {
   "cell_type": "code",
   "execution_count": null,
   "metadata": {},
   "outputs": [],
   "source": [
    "# sys.setrecursionlimit(1_000)\n",
    "# sys.getrecursionlimit()"
   ]
  },
  {
   "cell_type": "markdown",
   "metadata": {},
   "source": [
    "---"
   ]
  },
  {
   "cell_type": "markdown",
   "metadata": {},
   "source": [
    "__Cython recursion__"
   ]
  },
  {
   "cell_type": "code",
   "execution_count": null,
   "metadata": {},
   "outputs": [],
   "source": [
    "%%cython\n",
    "def F05 (int n):\n",
    "  if n < 2 : return n\n",
    "  else     : return F05(n-1) + F05(n-2)"
   ]
  },
  {
   "cell_type": "code",
   "execution_count": null,
   "metadata": {},
   "outputs": [
    {
     "name": "stdout",
     "output_type": "stream",
     "text": [
      "460 ms ± 1.36 ms per loop (mean ± std. dev. of 7 runs, 2 loops each)\n"
     ]
    }
   ],
   "source": [
    "%timeit -r7 -n2 F05(35) # ~ 500 ms"
   ]
  },
  {
   "cell_type": "code",
   "execution_count": null,
   "metadata": {},
   "outputs": [
    {
     "name": "stdout",
     "output_type": "stream",
     "text": [
      "         3 function calls in 0.476 seconds\n",
      "\n",
      "   Ordered by: standard name\n",
      "\n",
      "   ncalls  tottime  percall  cumtime  percall filename:lineno(function)\n",
      "        1    0.476    0.476    0.476    0.476 <string>:1(<module>)\n",
      "        1    0.000    0.000    0.476    0.476 {built-in method builtins.exec}\n",
      "        1    0.000    0.000    0.000    0.000 {method 'disable' of '_lsprof.Profiler' objects}\n",
      "\n",
      "\n"
     ]
    }
   ],
   "source": [
    "cProfile.run(statement = 'F05(35)')"
   ]
  },
  {
   "cell_type": "markdown",
   "metadata": {},
   "source": [
    "---"
   ]
  },
  {
   "cell_type": "markdown",
   "metadata": {},
   "source": [
    "__Object-oriented Memoization__"
   ]
  },
  {
   "cell_type": "code",
   "execution_count": null,
   "metadata": {},
   "outputs": [],
   "source": [
    "# 6. memoized object-oriented recursion\n",
    "class f06:\n",
    "\n",
    "  def __init__ (self):\n",
    "    self.cache = [0, 1]\n",
    "\n",
    "  def __call__ (self, n):\n",
    "    # validate the value of n\n",
    "    if not (isinstance(n, int) and n >= 0):\n",
    "      raise ValueError(f'Positive integer number expected, got \"{n}\"')\n",
    "    # check for computed Fibonacci numbers\n",
    "    if n < len(self.cache):\n",
    "      return self.cache[n]\n",
    "    else:\n",
    "      # compute and cache the requested Fibonacci number\n",
    "      fib_number = self(n - 1) + self(n - 2)\n",
    "      self.cache.append(fib_number)\n",
    "    return self.cache[n]\n",
    "  \n",
    "F06 = f06()"
   ]
  },
  {
   "cell_type": "code",
   "execution_count": null,
   "metadata": {},
   "outputs": [
    {
     "name": "stdout",
     "output_type": "stream",
     "text": [
      "255 ns ± 86.8 ns per loop (mean ± std. dev. of 10 runs, 10 loops each)\n"
     ]
    }
   ],
   "source": [
    "%timeit -r10 -n10 F06(35) # ~ 250 ns"
   ]
  },
  {
   "cell_type": "code",
   "execution_count": null,
   "metadata": {},
   "outputs": [
    {
     "name": "stdout",
     "output_type": "stream",
     "text": [
      "         6 function calls in 0.000 seconds\n",
      "\n",
      "   Ordered by: standard name\n",
      "\n",
      "   ncalls  tottime  percall  cumtime  percall filename:lineno(function)\n",
      "        1    0.000    0.000    0.000    0.000 1233081411.py:7(__call__)\n",
      "        1    0.000    0.000    0.000    0.000 <string>:1(<module>)\n",
      "        1    0.000    0.000    0.000    0.000 {built-in method builtins.exec}\n",
      "        1    0.000    0.000    0.000    0.000 {built-in method builtins.isinstance}\n",
      "        1    0.000    0.000    0.000    0.000 {built-in method builtins.len}\n",
      "        1    0.000    0.000    0.000    0.000 {method 'disable' of '_lsprof.Profiler' objects}\n",
      "\n",
      "\n"
     ]
    }
   ],
   "source": [
    "cProfile.run(statement = 'F06(35)')"
   ]
  },
  {
   "cell_type": "markdown",
   "metadata": {},
   "source": [
    "---"
   ]
  },
  {
   "cell_type": "markdown",
   "metadata": {},
   "source": [
    "__Pure Python Iterative__"
   ]
  },
  {
   "cell_type": "code",
   "execution_count": null,
   "metadata": {},
   "outputs": [],
   "source": [
    "# 7. pure python iterative\n",
    "\n",
    "# def F07 (n : int) -> int:\n",
    "#   # validate the value of n\n",
    "#   if not (isinstance(n, int) and n >= 0) : raise ValueError(f'Positive integer number expected, got \"{n}\"')\n",
    "#   # base cases\n",
    "#   if n in {0, 1}                         : return n\n",
    "#   # compute the next Fibonacci number, remember the previous one\n",
    "#   previous, fib_number = 0, 1\n",
    "#   for _ in range(2, n + 1)               : previous, fib_number = fib_number, previous + fib_number\n",
    "#   return fib_number\n",
    "\n",
    "def F07 (n : int) -> int:\n",
    "  x, y = 0, 1\n",
    "  for i in range(1, n + 1):\n",
    "    x, y = y, x + y\n",
    "  return x"
   ]
  },
  {
   "cell_type": "code",
   "execution_count": null,
   "metadata": {},
   "outputs": [
    {
     "name": "stdout",
     "output_type": "stream",
     "text": [
      "963 ns ± 85.6 ns per loop (mean ± std. dev. of 10 runs, 10 loops each)\n"
     ]
    }
   ],
   "source": [
    "%timeit -r10 -n10 F07(35) # ~ 1 micro s"
   ]
  },
  {
   "cell_type": "code",
   "execution_count": null,
   "metadata": {},
   "outputs": [
    {
     "name": "stdout",
     "output_type": "stream",
     "text": [
      "         4 function calls in 0.000 seconds\n",
      "\n",
      "   Ordered by: standard name\n",
      "\n",
      "   ncalls  tottime  percall  cumtime  percall filename:lineno(function)\n",
      "        1    0.000    0.000    0.000    0.000 693775523.py:13(F07)\n",
      "        1    0.000    0.000    0.000    0.000 <string>:1(<module>)\n",
      "        1    0.000    0.000    0.000    0.000 {built-in method builtins.exec}\n",
      "        1    0.000    0.000    0.000    0.000 {method 'disable' of '_lsprof.Profiler' objects}\n",
      "\n",
      "\n"
     ]
    }
   ],
   "source": [
    "cProfile.run(statement = 'F07(35)')"
   ]
  },
  {
   "cell_type": "markdown",
   "metadata": {},
   "source": [
    "---"
   ]
  },
  {
   "cell_type": "markdown",
   "metadata": {},
   "source": [
    "__Numba-jitted Iterative__"
   ]
  },
  {
   "cell_type": "code",
   "execution_count": null,
   "metadata": {},
   "outputs": [],
   "source": [
    "# 8. numba-jitted iterative\n",
    "@njit\n",
    "def F08 (n : int) -> int:\n",
    "  x, y = 0, 1\n",
    "  for i in range(1, n + 1):\n",
    "    x, y = y, x + y\n",
    "  return x"
   ]
  },
  {
   "cell_type": "code",
   "execution_count": null,
   "metadata": {},
   "outputs": [
    {
     "name": "stdout",
     "output_type": "stream",
     "text": [
      "201 ns ± 158 ns per loop (mean ± std. dev. of 10 runs, 10 loops each)\n"
     ]
    }
   ],
   "source": [
    "%timeit -n10 -r10 F08(35) # ~ 200 ns"
   ]
  },
  {
   "cell_type": "code",
   "execution_count": null,
   "metadata": {},
   "outputs": [
    {
     "name": "stdout",
     "output_type": "stream",
     "text": [
      "         4 function calls in 0.000 seconds\n",
      "\n",
      "   Ordered by: standard name\n",
      "\n",
      "   ncalls  tottime  percall  cumtime  percall filename:lineno(function)\n",
      "        1    0.000    0.000    0.000    0.000 1632023275.py:2(F08)\n",
      "        1    0.000    0.000    0.000    0.000 <string>:1(<module>)\n",
      "        1    0.000    0.000    0.000    0.000 {built-in method builtins.exec}\n",
      "        1    0.000    0.000    0.000    0.000 {method 'disable' of '_lsprof.Profiler' objects}\n",
      "\n",
      "\n"
     ]
    }
   ],
   "source": [
    "cProfile.run(statement = 'F08(35)')"
   ]
  },
  {
   "cell_type": "markdown",
   "metadata": {},
   "source": [
    "---"
   ]
  },
  {
   "cell_type": "markdown",
   "metadata": {},
   "source": [
    "__Cython Iterative 1__"
   ]
  },
  {
   "cell_type": "code",
   "execution_count": null,
   "metadata": {},
   "outputs": [],
   "source": [
    "%%cython\n",
    "def F09 (int n):\n",
    "  cdef long i\n",
    "  cdef long x = 0, y = 1\n",
    "  for i in range(1, n + 1):\n",
    "    x, y = y, x + y\n",
    "  return x"
   ]
  },
  {
   "cell_type": "code",
   "execution_count": null,
   "metadata": {},
   "outputs": [
    {
     "name": "stdout",
     "output_type": "stream",
     "text": [
      "348 ns ± 305 ns per loop (mean ± std. dev. of 7 runs, 2 loops each)\n"
     ]
    }
   ],
   "source": [
    "%timeit -r7 -n2 F09(35) # ~ 300 ns"
   ]
  },
  {
   "cell_type": "code",
   "execution_count": null,
   "metadata": {},
   "outputs": [
    {
     "name": "stdout",
     "output_type": "stream",
     "text": [
      "         3 function calls in 0.000 seconds\n",
      "\n",
      "   Ordered by: standard name\n",
      "\n",
      "   ncalls  tottime  percall  cumtime  percall filename:lineno(function)\n",
      "        1    0.000    0.000    0.000    0.000 <string>:1(<module>)\n",
      "        1    0.000    0.000    0.000    0.000 {built-in method builtins.exec}\n",
      "        1    0.000    0.000    0.000    0.000 {method 'disable' of '_lsprof.Profiler' objects}\n",
      "\n",
      "\n"
     ]
    }
   ],
   "source": [
    "cProfile.run(statement = 'F09(35)')"
   ]
  },
  {
   "cell_type": "markdown",
   "metadata": {},
   "source": [
    "---"
   ]
  },
  {
   "cell_type": "markdown",
   "metadata": {},
   "source": [
    "__Cython Iterative 2__"
   ]
  },
  {
   "cell_type": "code",
   "execution_count": null,
   "metadata": {},
   "outputs": [],
   "source": [
    "%%cython\n",
    "cdef extern from *:\n",
    "  ctypedef int int128 '__int128_t'\n",
    "def F10 (int n):\n",
    "  cdef int128 i\n",
    "  cdef int128 x = 0, y = 1\n",
    "  for i in range(1, n + 1):\n",
    "    x, y = y, x + y\n",
    "  return x"
   ]
  },
  {
   "cell_type": "code",
   "execution_count": null,
   "metadata": {},
   "outputs": [
    {
     "name": "stdout",
     "output_type": "stream",
     "text": [
      "300 ns ± 192 ns per loop (mean ± std. dev. of 7 runs, 2 loops each)\n"
     ]
    }
   ],
   "source": [
    "%timeit -r7 -n2 F10(35) # ~ 300 ns"
   ]
  },
  {
   "cell_type": "markdown",
   "metadata": {},
   "source": [
    "<div style=\"color: red;\">Why does Cython Iterative 2 take longer than Cython Iterative 1?</div>"
   ]
  },
  {
   "cell_type": "markdown",
   "metadata": {},
   "source": [
    "---"
   ]
  },
  {
   "cell_type": "code",
   "execution_count": null,
   "metadata": {},
   "outputs": [
    {
     "name": "stdout",
     "output_type": "stream",
     "text": [
      "354224848179261915075\n",
      "354224848179261915075\n",
      "354224848179261915075\n",
      "354224848179261915075\n",
      "3736710778780434371\n",
      "3736710778780434371\n",
      "354224848179261915075\n"
     ]
    }
   ],
   "source": [
    "#print(F01(40)) #                                pure python recursion\n",
    "#print(F02(40)) # numba jit doesn't improve upon pure python recursion\n",
    "print(F03(100)) # memoized python recursion - functools performs best\n",
    "print(F04(100)) # memoized python recursion - dict      performs almost as well\n",
    "#print(F05(100)) # Cython recursion\n",
    "print(F06(100)) # memoized object-oriented\n",
    "print(F07(100)) #  pure python iterative\n",
    "print(F08(100)) # numba-jitted iterative\n",
    "print(F09(100)) # Cython iterative 1\n",
    "print(F10(100)) # Cython iterative 2"
   ]
  },
  {
   "cell_type": "markdown",
   "metadata": {},
   "source": [
    "---"
   ]
  },
  {
   "cell_type": "markdown",
   "metadata": {},
   "source": [
    "$Binet \\,\\, Formula$\n",
    "\n",
    "$$\n",
    "F_n = \\frac{\\phi^n - \\psi^n}{\\phi - \\psi}\n",
    "= \\frac{\\phi^n - \\psi^n}{\\sqrt{5}}\n",
    "$$\n",
    "\n",
    "> where  \n",
    "\n",
    "$$\n",
    "\\phi = \\frac{1 + \\sqrt{5}}{2}\n",
    "$$\n",
    "\n",
    "> is the golden ratio and  \n",
    "\n",
    "$$\n",
    "\\psi = \\frac{1 - \\sqrt{5}}{2}\n",
    "$$\n",
    "\n",
    "> is its conjugate.  "
   ]
  },
  {
   "cell_type": "markdown",
   "metadata": {},
   "source": [
    "---"
   ]
  },
  {
   "cell_type": "markdown",
   "metadata": {},
   "source": [
    "### Fibonacci - to review"
   ]
  },
  {
   "cell_type": "markdown",
   "metadata": {},
   "source": [
    "To calculate $F(n)$ the maximum depth of the call tree is $n$. Each function call produces two additional function calls.\n",
    "\n",
    "> $O(2^n)$ exponential for    naive recursive  \n",
    "> $O(n)$   linear      for memoized recursive and iterative  "
   ]
  },
  {
   "cell_type": "code",
   "execution_count": null,
   "metadata": {},
   "outputs": [
    {
     "data": {
      "text/plain": [
       "23416728348467685"
      ]
     },
     "metadata": {},
     "output_type": "display_data"
    }
   ],
   "source": [
    "def F12 (n : int) -> int:\n",
    "  v1, v2, v3 = 1, 1, 0\n",
    "  for rec in bin(n)[3:]:\n",
    "    calc = v2*v2\n",
    "    v1, v2, v3 = v1*v1+calc, (v1+v3)*v2, calc+v3*v3\n",
    "    if rec=='1': v1, v2, v3 = v1+v2, v1, v2\n",
    "  return v2\n",
    "\n",
    "F12(80)"
   ]
  },
  {
   "cell_type": "code",
   "execution_count": null,
   "metadata": {},
   "outputs": [
    {
     "name": "stdout",
     "output_type": "stream",
     "text": [
      "516 ns ± 11.1 ns per loop (mean ± std. dev. of 7 runs, 1,000,000 loops each)\n"
     ]
    }
   ],
   "source": [
    "%timeit F12(35)"
   ]
  },
  {
   "cell_type": "markdown",
   "metadata": {},
   "source": [
    "---"
   ]
  }
 ],
 "metadata": {
  "language_info": {
   "name": "python"
  },
  "orig_nbformat": 4
 },
 "nbformat": 4,
 "nbformat_minor": 2
}
