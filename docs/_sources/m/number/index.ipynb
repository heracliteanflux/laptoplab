{
 "cells": [
  {
   "cell_type": "markdown",
   "metadata": {},
   "source": [
    "# Number Theory\n",
    "The Theory of Integers"
   ]
  },
  {
   "cell_type": "markdown",
   "metadata": {},
   "source": [
    "---"
   ]
  },
  {
   "cell_type": "markdown",
   "metadata": {},
   "source": [
    "## Sections\n",
    "```{tableofcontents}\n",
    "```"
   ]
  },
  {
   "cell_type": "markdown",
   "metadata": {},
   "source": [
    "---"
   ]
  },
  {
   "cell_type": "markdown",
   "metadata": {},
   "source": [
    "## Resources"
   ]
  },
  {
   "cell_type": "markdown",
   "metadata": {},
   "source": [
    "My Lesson\n",
    "* [ [y](https://www.youtube.com/watch?v=AbjhsGnKEtE) ] `07-29-2021`. \"Number Theory and Cryptography Complete Course | Discrete Mathematics for Computer Science\".\n",
    "\n",
    "Richard E. Borcherds\n",
    "* [ [y](https://www.youtube.com/watch?v=EzE6it9kAsI) ] `01-13-2022`. \"Introduction to number theory lecture 1.\".\n",
    "* [ [y](https://www.youtube.com/watch?v=mduJOLdKrak) ] `01-15-2022`. \"Introduction to number theory lecture 2: Survey.\".\n",
    "* [ [y](https://www.youtube.com/watch?v=pVKhDtOjji8) ] `01-17-2022`. \"Introduction to number theory lecture 3: Divisibility and Euclid's algorithms.\".\n",
    "* [ [y](https://www.youtube.com/watch?v=R-O8j7FHEXI) ] `01-18-2022`. \"Introduction to number theory lecture 4. More on Euclid's algorithm\".\n",
    "* [ [y](https://www.youtube.com/watch?v=VRrP4US7idg) ] `01-20-2022`. \"Introduction to number theory lecture 5. Primes.\".\n",
    "\n",
    "more\n",
    "* [ [y](https://www.youtube.com/watch?v=5hfkzo_ojGE) ] `11-13-2023`. Douglas Shamlin Jr. \"Ultimate Large Numbers List 2024 - The Biggest Numbers Ever!!!\".\n",
    "* [ [y](https://www.youtube.com/watch?v=1gFBQS_3UgA) ] `11-21-2023`. Shefs of Problem Solving. \"A number theory adventure - JBMO 2002 - P3\"."
   ]
  },
  {
   "cell_type": "markdown",
   "metadata": {},
   "source": [
    "[ [y](https://www.youtube.com/watch?v=Zy0Hv-rQFck) ] `02-28-2019` Shannon “MATHCHICK” Myers. \"Direct Proof and Counterexample V: Floor and Ceiling\"."
   ]
  },
  {
   "cell_type": "markdown",
   "metadata": {},
   "source": [
    "[ [h](https://t5k.org/) ] The PrimePages: prime number research & records\n",
    "\n",
    "https://xn--2-umb.com/09/12/integer-factorization-in-64-bit/\n",
    "\n",
    "https://www.geeksforgeeks.org/c-program-to-add-2-binary-strings/"
   ]
  },
  {
   "cell_type": "markdown",
   "metadata": {},
   "source": [
    "---"
   ]
  },
  {
   "cell_type": "markdown",
   "metadata": {},
   "source": [
    "## Texts"
   ]
  },
  {
   "cell_type": "markdown",
   "metadata": {},
   "source": [
    "Bressoud. _Factorization and Primality Testing_. Springer.\n",
    "\n",
    "Crandall & Pomerance. _Prime Numbers: A Computational Perspective_. Springer.\n",
    "\n",
    "Davenport. _The Higher Arithmetic_. CUP.\n",
    "\n",
    "LeVeque. _Fundamentals of Number Theory_. Dover.\n",
    "\n",
    "[ [h](https://bpb-us-e1.wpmucdn.com/sites.psu.edu/dist/6/167041/files/2023/07/CENT.pdf) ] Vaughan, Robert. _A Course of Elementary Number Theory_.\n",
    "\n",
    "Wagstaff. _The Joy of Factoring_. American Mathematical Society."
   ]
  },
  {
   "cell_type": "markdown",
   "metadata": {},
   "source": [
    "---"
   ]
  },
  {
   "cell_type": "markdown",
   "metadata": {},
   "source": [
    "## Figures"
   ]
  },
  {
   "cell_type": "markdown",
   "metadata": {},
   "source": [
    "* [ [w](https://en.wikipedia.org/wiki/%C3%89tienne_B%C3%A9zout) ] `1730-1783` Bézout, Étienne\n",
    "* [ [w](https://en.wikipedia.org/wiki/David_Bressoud) ] `1950-----` Bressoud, David\n",
    "* [ [w](https://en.wikipedia.org/wiki/Robert_Daniel_Carmichael) ] `1879-1967` Carmichael, Robert\n",
    "* [ [w](https://en.wikipedia.org/wiki/Henri_Cohen_(number_theorist)) ] `1947-----` Cohen, Henri\n",
    "* [ [w](https://en.wikipedia.org/wiki/Richard_Crandall) ] `1947-2012` Crandall, Richard\n",
    "* [ [w](https://en.wikipedia.org/wiki/Jacques_Hadamard) ] `1865-1963` Hadamard, Jacques\n",
    "* [ [w](https://en.wikipedia.org/wiki/G._H._Hardy) ] `1877-1947` Hardy, G. H.\n",
    "* [ w ] `---------` Lehman, R. Sherman\n",
    "  * `1974` \"Factoring Large Integers\"\n",
    "  * https://programmingpraxis.com/2017/08/22/lehmans-factoring-algorithm/\n",
    "* [ [w](https://en.wikipedia.org/wiki/%C3%89douard_Lucas) ] `1842-1891` Lucas, Édouard\n",
    "* [ [w](https://en.wikipedia.org/wiki/Carl_Pomerance) ] `1944-----` Pomerance, Carl\n",
    "* [ [w](https://en.wikipedia.org/wiki/Charles_Jean_de_la_Vall%C3%A9e_Poussin) ] `1866-1962` Poussin, Charles Jean de la Vallée\n",
    "* [ [w](https://en.wikipedia.org/wiki/Richard_Schroeppel) ] `1948-----` Schroeppel, Richard\n",
    "* [ [w](https://en.wikipedia.org/wiki/Bob_Vaughan) ] `1945-----` Vaughan, Robert\n",
    "* [ [w](https://en.wikipedia.org/wiki/Samuel_S._Wagstaff_Jr.) ] `1945-----` Wagstaff Jr., Samuel S."
   ]
  },
  {
   "cell_type": "markdown",
   "metadata": {},
   "source": [
    "---"
   ]
  },
  {
   "cell_type": "markdown",
   "metadata": {},
   "source": [
    "## Terms"
   ]
  },
  {
   "cell_type": "markdown",
   "metadata": {},
   "source": [
    "* [ [w](https://en.wikipedia.org/wiki/Aliquot_sum) ] Aliquot Sum\n",
    "* [ [w](https://en.wikipedia.org/wiki/Arbitrary-precision_arithmetic) ] Arbitrary-Precision Arithmetic\n",
    "* [ [w](https://en.wikipedia.org/wiki/Arithmetic_function) ] Arithmetic Function\n",
    "* [ [w](https://en.wikipedia.org/wiki/B%C3%A9zout%27s_identity) ] Bézout's Identity\n",
    "* [ [w](https://en.wikipedia.org/wiki/Binary_GCD_algorithm) ] Binary GCD Algorithm\n",
    "* [ [w](https://en.wikipedia.org/wiki/Carmichael_number) ] Carmichael Number\n",
    "* [ [w](https://en.wikipedia.org/wiki/Chinese_remainder_theorem) ] Chinese Remainder Theorem\n",
    "* [ [w](https://en.wikipedia.org/wiki/Computational_number_theory) ] Computational Number Theory\n",
    "* [ [w](https://en.wikipedia.org/wiki/Congruence_of_squares) ] Congruence of Squares\n",
    "* [ [w](https://en.wikipedia.org/wiki/Congruence_relation) ] Congruence Relation\n",
    "* [ [w](https://en.wikipedia.org/wiki/Coprime_integers) ] Coprime\n",
    "* [ [w](https://en.wikipedia.org/wiki/Diophantine_equation) ] Diophantine Equation\n",
    "* [ [w](https://en.wikipedia.org/wiki/Dixon%27s_factorization_method) ] Dixon's Factorization Method\n",
    "* [ [w](https://en.wikipedia.org/wiki/Euclid%27s_lemma) ] Euclid's Lemma\n",
    "* [ [w](https://en.wikipedia.org/wiki/Euclid%27s_theorem) ] Euclid's Theorem\n",
    "* [ [w](https://en.wikipedia.org/wiki/Euclidean_algorithm) ] Euclidean Algorithm\n",
    "* [ [w](https://en.wikipedia.org/wiki/Euler%27s_criterion) ] Euler's Criterion\n",
    "* [ [w](https://en.wikipedia.org/wiki/Euler%27s_totient_function) ] Euler's Totient Function\n",
    "* [ [w](https://en.wikipedia.org/wiki/Extended_Euclidean_algorithm) ] Extended Euclidean Algorithm\n",
    "* [ [w](https://en.wikipedia.org/wiki/Factor_base) ] Factor Base\n",
    "* [ [w](https://en.wikipedia.org/wiki/Fast_inverse_square_root) ] Fast Inverse Square Root\n",
    "* [ [w](https://en.wikipedia.org/wiki/Fast_Library_for_Number_Theory) ] Fast Library for Number Theory (FLINT)\n",
    "* [ [w](https://en.wikipedia.org/wiki/Fermat_number) ] Fermat Number\n",
    "* [ [w](https://en.wikipedia.org/wiki/Fermat%27s_little_theorem) ] Fermat's Little Theorem\n",
    "* [ [w](https://en.wikipedia.org/wiki/Fermat%27s_factorization_method) ] Fermat's Factorization Method\n",
    "* [ [w](https://en.wikipedia.org/wiki/Fundamental_theorem_of_arithmetic) ] Fundamental Theorem of Arithmetic\n",
    "* [ [w](https://en.wikipedia.org/wiki/General_number_field_sieve) ] General Number Field Sieve\n",
    "* [ [w](https://en.wikipedia.org/wiki/Greatest_common_divisor) ] Greatest Common Divisior (GCD)\n",
    "* [ [w](https://en.wikipedia.org/wiki/GNU_Multiple_Precision_Arithmetic_Library) ] GNU Multiple Precision Arithmetic Library (GMP)\n",
    "* [ [w](https://en.wikipedia.org/wiki/Integer_factorization) ] Integer Factorization\n",
    "* [ [w](https://en.wikipedia.org/wiki/Integer_square_root) ] Integer Square Root\n",
    "* [ [w](https://en.wikipedia.org/wiki/Jacobi_symbol) ] Jacobi Symbol\n",
    "* [ [w](https://en.wikipedia.org/wiki/L-notation) ] L-Notation\n",
    "* [ [w](https://en.wikipedia.org/wiki/Quadratic_reciprocity) ] Law of Quadratic Reciprocity\n",
    "* [ [w](https://en.wikipedia.org/wiki/Proofs_of_quadratic_reciprocity) ] Law of Quadratic Reciprocity, proofs\n",
    "* [ [w](https://en.wikipedia.org/wiki/Legendre_symbol) ] Legendre Symbol\n",
    "* [ [w](https://en.wikipedia.org/wiki/Lehmer%27s_GCD_algorithm) ] Lehmer's GCD Algorithm\n",
    "* [ [w](https://en.wikipedia.org/wiki/Linnik%27s_theorem) ] Linnik's Theorem\n",
    "* [ [w](https://en.wikipedia.org/wiki/Lucas%27s_theorem) ] Lucas' Theorem\n",
    "* [ [w](https://en.wikipedia.org/wiki/Modular_arithmetic) ] Modular Arithmetic\n",
    "* [ [w](https://en.wikipedia.org/wiki/Multiplication_algorithm) ] Multiplication Algorithm\n",
    "* [ [w](https://en.wikipedia.org/wiki/Number_Theory_Library) ] Number Theory Library\n",
    "* [ [w](https://en.wikipedia.org/wiki/PARI/GP) ] PARI/GP\n",
    "* [ [w](https://en.wikipedia.org/wiki/Pollard%27s_rho_algorithm) ] Pollard's Rho Algorithm\n",
    "* [ [w](https://en.wikipedia.org/wiki/Primality_test) ] Primality Test\n",
    "* [ [w](https://en.wikipedia.org/wiki/Prime_gap) ] Prime Gap\n",
    "* [ [w](https://en.wikipedia.org/wiki/Prime_number_theorem) ] Prime Number Theorem\n",
    "* [ [w](https://en.wikipedia.org/wiki/Prime_power) ] Prime Power\n",
    "* [ [w](https://en.wikipedia.org/wiki/List_of_prime_numbers) ] Prime, lists\n",
    "* [ [w](https://en.wikipedia.org/wiki/Prime-counting_function) ] Prime-Counting Function\n",
    "* [ [w](https://en.wikipedia.org/wiki/Quadratic_residue) ] Quadratic Residue\n",
    "* [ [w](https://en.wikipedia.org/wiki/Quadratic_sieve) ] Quadratic Sieve\n",
    "* [ [w](https://en.wikipedia.org/wiki/Rational_sieve) ] Rational Sieve\n",
    "* [ [w](https://en.wikipedia.org/wiki/Reduced_residue_system) ] Reduced Residue System\n",
    "* [ [w](https://en.wikipedia.org/wiki/Residue_number_system) ] Residue Number System\n",
    "* [ [w](https://en.wikipedia.org/wiki/RSA_(cryptosystem)) ] RSA (Rivest–Shamir–Adleman)\n",
    "* [ [w](https://en.wikipedia.org/wiki/Sieve_theory) ] Sieve Theory\n",
    "* [ [w](https://en.wikipedia.org/wiki/Special_number_field_sieve) ] Special Number Field Sieve\n",
    "* [ [w](https://en.wikipedia.org/wiki/Square_number) ] Square Number\n",
    "* [ [w](https://en.wikipedia.org/wiki/Methods_of_computing_square_roots) ] Square Root, methods of computing\n",
    "* [ [w](https://en.wikipedia.org/wiki/Totative) ] Totativie\n",
    "* [ [w](https://en.wikipedia.org/wiki/Trial_division) ] Trial Division\n",
    "* [ [w](https://en.wikipedia.org/wiki/Wheel_factorization) ] Wheel Factorization"
   ]
  },
  {
   "cell_type": "markdown",
   "metadata": {},
   "source": [
    "---"
   ]
  }
 ],
 "metadata": {
  "language_info": {
   "name": "python"
  },
  "orig_nbformat": 4
 },
 "nbformat": 4,
 "nbformat_minor": 2
}
