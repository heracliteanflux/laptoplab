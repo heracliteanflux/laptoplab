{
 "cells": [
  {
   "cell_type": "markdown",
   "metadata": {},
   "source": [
    "# Exercises"
   ]
  },
  {
   "cell_type": "markdown",
   "metadata": {},
   "source": [
    "---\n",
    "---\n",
    "---"
   ]
  },
  {
   "cell_type": "markdown",
   "metadata": {},
   "source": [
    "## Contents\n",
    "```{contents}\n",
    "```"
   ]
  },
  {
   "cell_type": "markdown",
   "metadata": {},
   "source": [
    "---\n",
    "---\n",
    "---"
   ]
  },
  {
   "cell_type": "markdown",
   "metadata": {},
   "source": [
    "## 1"
   ]
  },
  {
   "cell_type": "markdown",
   "metadata": {},
   "source": [
    "---"
   ]
  },
  {
   "cell_type": "markdown",
   "metadata": {},
   "source": [
    "1\n",
    "\n",
    "Let $n$ and $m$ be integers with $0 \\le m \\le n$. The binomial coefficient $\\binom{n}{m}$ is defined inductively by\n",
    "\n",
    "$\n",
    "\\begin{aligned}\n",
    "\\binom{\\phantom{-}n}{\\phantom{-}n} &:= 1 \\\\\n",
    "\\binom{\\phantom{-}n}{-1}           &:= 0 \\\\\n",
    "\\binom{n+1}{m}                     &= \\binom{n}{m-1} + \\binom{n}{m} \\iff \\binom{n}{m} = \\binom{n+1}{m} - \\binom{n}{m-1} \\\\\n",
    "\\end  {aligned}\n",
    "$"
   ]
  },
  {
   "cell_type": "markdown",
   "metadata": {},
   "source": [
    "---"
   ]
  },
  {
   "cell_type": "markdown",
   "metadata": {},
   "source": [
    "$\n",
    "\\begin{array}{c|ccccc}\n",
    "n   & \\dots & \\underset{1}{\\binom{n}{n}} & \\underset{0}{\\binom{n  }{n+1}} & \\underset{ }{\\binom{n  }{n+2}} & \\dots & \\binom{n  }{n+k-2} & \\binom{n  }{n+k-1} & \\binom{n  }{n+k} \\\\\n",
    "n+1 & & \\dots & \\underset{1}{\\binom{n+1}{n+1}} & \\underset{0}{\\binom{n+1}{n+2}} & \\dots & \\binom{n+1}{n+k-2} & \\binom{n+1}{n+k-1} & \\binom{n+1}{n+k} \\\\\n",
    "n+2 & & & \\dots & \\underset{1}{\\binom{n+2}{n+2}} & \\dots & \\binom{n+2}{n+k-2} & \\binom{n+2}{n+k-1} & \\binom{n+2}{n+k} \\\\\n",
    "\\vdots & & & & \\vdots & & \\vdots & \\vdots & \\vdots \\\\ \\hline\n",
    "k=  & \\dots & n & n + 1 & n + 2 & \\dots & n + k - 2 & n + k - 1 & n + k \\\\\n",
    "\\end  {array}\n",
    "$\n",
    "\n",
    "<b>CLAIM</b>\n",
    "\n",
    "$\n",
    "\\begin{aligned}\n",
    "\\forall k \\ge 1 \\quad\n",
    "\\forall n \\ge 0 \\quad\n",
    "\\binom{n}{n+k} = 0 \\\\\n",
    "\\end  {aligned}\n",
    "$\n",
    "\n",
    "This is equivalent to saying\n",
    "\n",
    "$\\forall k \\ge 1 \\quad P(k)$\n",
    "\n",
    "where\n",
    "\n",
    "$\n",
    "\\begin{aligned}\n",
    "P(k) : \\quad\n",
    "\\forall n \\ge 0 \\quad\n",
    "\\binom{n}{n+k} = 0 \\\\\n",
    "\\end  {aligned}\n",
    "$\n",
    "\n",
    "$\n",
    "\\begin{aligned}\n",
    "\\boxed{ P(k=1) \\land \\forall j \\ge 2 \\quad \\left( \\bigwedge_{i=1}^{j-1} P(i) \\right) \\implies P(j) } \\\\\n",
    "\\end  {aligned}\n",
    "$\n",
    "\n",
    "<b>Base Case</b>\n",
    "\n",
    "$\n",
    "\\begin{aligned}\n",
    "\\boxed{ P(k = 1) } : \\quad \\forall n \\ge 0 \\quad\n",
    "\\binom{n}{n+1} &= \\underset{1}{\\binom{n+1}{n+1}} - \\underset{1}{\\binom{n}{n}} = 0 \\\\\n",
    "\\end  {aligned}\n",
    "$\n",
    "\n",
    "<b>Induction Step</b>\n",
    "\n",
    "$\n",
    "\\begin{aligned}\n",
    "\\boxed{ \\forall j \\ge 2 \\quad \\left( \\bigwedge_{i=1}^{j-1} P(i) \\right) \\implies P(j) } \\\\\n",
    "\\end  {aligned}\n",
    "$\n",
    "\n",
    "<b>Induction Hypothesis</b>\n",
    "\n",
    "$\n",
    "\\begin{aligned}\n",
    "\\boxed{ \\forall j \\ge 2 \\quad \\bigwedge_{i=1}^{j-1} P(i) } \\\\\n",
    "\\end  {aligned}\n",
    "$\n",
    "\n",
    "<div style=\"color: red;\">\n",
    "\n",
    "Suppose that\n",
    "\n",
    "$\n",
    "\\begin{aligned}\n",
    "\\exists j \\ge 2 \\quad\n",
    "\\forall i \\quad 1 \\le i \\lt j \\quad\n",
    "\\binom{n}{n+1} = 0 \\\\\n",
    "\\end  {aligned}\n",
    "$\n",
    "</div>\n",
    "\n",
    "It must be shown that\n",
    "\n",
    "$\n",
    "\\begin{aligned}\n",
    "P(j) : \\quad\n",
    "\\forall n \\ge 0 \\quad\n",
    "\\binom{n}{n+j}\n",
    "&= 0 \\\\\n",
    "&= \\underset{0 \\text{ by IH}}{\\binom{n+1}{n+1+j-1}} - \\underset{0 \\text{ by IH}}{\\binom{n}{n+j-1}} \n",
    "\\end  {aligned}\n",
    "$\n",
    "\n",
    "$\\blacksquare$"
   ]
  },
  {
   "cell_type": "markdown",
   "metadata": {},
   "source": [
    "---"
   ]
  },
  {
   "cell_type": "markdown",
   "metadata": {},
   "source": [
    "<b>CLAIM</b>\n",
    "\n",
    "$\n",
    "\\begin{aligned}\n",
    "\\forall n \\ge 0 \\quad\n",
    "\\binom{n}{0} &= 1 \\\\\n",
    "\\end  {aligned}\n",
    "$\n",
    "\n",
    "$\n",
    "\\begin{aligned}\n",
    "\\boxed{\n",
    "P(k=0) \\land \\forall k \\ge 1 \\quad\n",
    "\\left( \\bigwedge_{i=0}^{k-1} P(i) \\right) \\implies P(k)\n",
    "}\n",
    "\\end  {aligned}\n",
    "$\n",
    "\n",
    "<b>Base Case</b>\n",
    "\n",
    "$\n",
    "\\begin{aligned}\n",
    "\\boxed{ P(k=0) } : \\quad\n",
    "\\underset{1 \\text{ by def}}{\\binom{0}{0}} = 1 \\\\\n",
    "\\end  {aligned}\n",
    "$\n",
    "\n",
    "<b>Induction Step</b>\n",
    "\n",
    "$\n",
    "\\begin{aligned}\n",
    "\\boxed{\n",
    "\\forall k \\ge 1 \\quad\n",
    "\\left( \\bigwedge_{i=0}^{k-1} P(i) \\right) \\implies P(k)\n",
    "}\n",
    "\\end  {aligned}\n",
    "$\n",
    "\n",
    "<b>Induction Hypothesis</b>\n",
    "\n",
    "$\n",
    "\\begin{aligned}\n",
    "\\boxed{\n",
    "\\forall k \\ge 1 \\quad\n",
    "\\bigwedge_{i=0}^{k-1} P(i)\n",
    "}\n",
    "\\end  {aligned}\n",
    "$\n",
    "\n",
    "<div style=\"color: red;\">\n",
    "\n",
    "Suppose that\n",
    "\n",
    "$\n",
    "\\begin{aligned}\n",
    "\\exists k \\ge 1 \\quad\n",
    "\\forall i \\quad\n",
    "0 \\le i \\lt k \\quad\n",
    "\\binom{i}{0} = 1 \\\\\n",
    "\\end  {aligned}\n",
    "$\n",
    "</div>\n",
    "\n",
    "It must be shown that\n",
    "\n",
    "$\n",
    "\\begin{aligned}\n",
    "P(k) : \\quad\n",
    "\\binom{k}{0}\n",
    "&= 1 \\\\\n",
    "&= \\underset{0 \\text{ by def}}{\\binom{k-1}{-1}} + \\underset{1 \\text{ by IH}}{\\binom{k-1}{0}} \\\\\n",
    "\\end  {aligned}\n",
    "$\n",
    "\n",
    "$\\blacksquare$"
   ]
  },
  {
   "cell_type": "markdown",
   "metadata": {},
   "source": [
    "---"
   ]
  },
  {
   "cell_type": "markdown",
   "metadata": {},
   "source": [
    "i\n",
    "\n",
    "Prove that $\\binom{n}{m} \\in \\mathbb{Z}$.\n",
    "\n",
    "https://math.stackexchange.com/questions/2158/division-of-factorials-binomal-coefficients-are-integers\n",
    "\n",
    "https://math.stackexchange.com/questions/11601/proof-that-a-combination-is-an-integer"
   ]
  },
  {
   "cell_type": "markdown",
   "metadata": {},
   "source": [
    "<b>CLAIM</b>\n",
    "\n",
    "$\n",
    "\\begin{aligned}\n",
    "\\forall n \\ge 0 \\quad\n",
    "\\forall m \\quad\n",
    "0 \\le m \\le n \\quad\n",
    "\\binom{n}{m} \\in \\mathbb{Z} \\\\\n",
    "\\end  {aligned}\n",
    "$\n",
    "\n",
    "is equivalent to\n",
    "\n",
    "$\n",
    "\\begin{aligned}\n",
    "\\forall n \\ge 0 \\quad\n",
    "P(n) \\\\\n",
    "\\end  {aligned}\n",
    "$\n",
    "\n",
    "where\n",
    "\n",
    "$\n",
    "\\begin{aligned}\n",
    "P(n) : \\quad\n",
    "\\forall m \\quad\n",
    "0 \\le m \\le n \\quad\n",
    "\\binom{n}{m} \\in \\mathbb{Z} \\\\\n",
    "\\end  {aligned}\n",
    "$\n",
    "\n",
    "$\n",
    "\\begin{aligned}\n",
    "\\boxed{ P(0) \\land \\forall k \\ge 1 \\quad \\left( \\bigwedge_{i=0}^{k-1} P(i) \\right) \\implies P(k) } \\\\\n",
    "\\end  {aligned}\n",
    "$\n",
    "\n",
    "<b>Base Case</b>\n",
    "\n",
    "$\n",
    "\\begin{aligned}\n",
    "& \\boxed{\n",
    "P(k=0) : \\quad\n",
    "\\forall m \\quad\n",
    "0 \\le m \\le k \\quad\n",
    "\\binom{0}{m} \\in \\mathbb{Z}\n",
    "} \\\\\n",
    "& \\underset{1 \\text{ by def}}{\\binom{0}{0}} = 1 \\\\\n",
    "\\end  {aligned}\n",
    "$\n",
    "\n",
    "<b>Induction Step</b>\n",
    "\n",
    "$\n",
    "\\begin{aligned}\n",
    "\\boxed{ \\forall k \\ge 1 \\quad \\left( \\bigwedge_{i=0}^{k-1} P(i) \\right) \\implies P(k) } \\\\\n",
    "\\end  {aligned}\n",
    "$\n",
    "\n",
    "<b>Induction Hypothesis</b>\n",
    "\n",
    "$\n",
    "\\begin{aligned}\n",
    "\\boxed{ \\forall k \\ge 1 \\quad \\bigwedge_{i=0}^{k-1} P(i) } \\\\\n",
    "\\end  {aligned}\n",
    "$\n",
    "\n",
    "$\n",
    "\\begin{aligned}\n",
    "& P(k-1) : \\quad\n",
    "\\forall m \\quad\n",
    "0 \\le m \\le k-1 \\quad\n",
    "\\binom{k-1}{m} \\in \\mathbb{Z} \\\\\n",
    "& \\binom{k-1}{0}, \\binom{k-1}{1}, \\dotsc, \\binom{k-1}{k-1} \\in \\mathbb{Z} \\\\\n",
    "\\end  {aligned}\n",
    "$\n",
    "\n",
    "It must be shown that\n",
    "\n",
    "$\n",
    "\\begin{aligned}\n",
    "& \\boxed{\n",
    "P(k) : \\quad\n",
    "\\forall m \\quad\n",
    "0 \\le m \\le k \\quad\n",
    "\\binom{k}{m} \\in \\mathbb{Z}\n",
    "} \\\\\n",
    "& \\binom{k}{0} = \\underset{0 \\text{ by def}}{\\binom{k-1}{ -1}} + \\underset{\\text{int by IH}}{\\binom{k-1}{0}} \\in \\mathbb{Z} \\\\\n",
    "& \\binom{k}{1} = \\underset{\\text{int by IH}}{\\binom{k-1}{  0}} + \\underset{\\text{int by IH}}{\\binom{k-1}{1}} \\in \\mathbb{Z} \\\\ & \\quad \\vdots \\\\\n",
    "& \\binom{k}{k} = \\underset{\\text{int by IH}}{\\binom{k-1}{k-1}} + \\underset{0               }{\\binom{k-1}{k}} \\in \\mathbb{Z} \\\\\n",
    "\\end  {aligned}\n",
    "$\n",
    "\n",
    "$\\blacksquare$"
   ]
  },
  {
   "cell_type": "markdown",
   "metadata": {},
   "source": [
    "ii\n",
    "\n",
    "Prove that if $p$ is prime and $1 \\le m \\le p - 1$ then $p \\mid \\binom{p}{m}$."
   ]
  },
  {
   "cell_type": "markdown",
   "metadata": {},
   "source": [
    "$\n",
    "\\begin{aligned}\n",
    "\\binom{p}{m}\n",
    "= \\frac{p!}{m! (p-m)!}\n",
    "= \\frac{p \\times (p-1) \\times \\dotsb \\times (p-m+1)}{m!}\n",
    "\\end  {aligned}\n",
    "$"
   ]
  },
  {
   "cell_type": "markdown",
   "metadata": {},
   "source": [
    "If $p \\nmid \\binom{p}{m}$ then either $p$ is not prime or it is not the case that $1 \\le m \\le p-1$"
   ]
  },
  {
   "cell_type": "markdown",
   "metadata": {},
   "source": [
    "Suppose that $1 \\le m \\le p-1$ for some prime $p$. In other words, $m$ and $p$ are coprime."
   ]
  },
  {
   "cell_type": "markdown",
   "metadata": {},
   "source": [
    "---"
   ]
  },
  {
   "cell_type": "markdown",
   "metadata": {},
   "source": [
    "2\n",
    "\n",
    "Prove that no polynomial $f(x)$ of degree at least $1$ with integral coefficients can be prime for every positive integer $x$."
   ]
  },
  {
   "cell_type": "markdown",
   "metadata": {},
   "source": [
    "---"
   ]
  },
  {
   "cell_type": "markdown",
   "metadata": {},
   "source": [
    "3\n",
    "\n",
    "If $2^n + 1$ is an odd prime for some integer $n$, prove that $n$ is a power of $2$."
   ]
  },
  {
   "cell_type": "markdown",
   "metadata": {},
   "source": [
    "---"
   ]
  },
  {
   "cell_type": "markdown",
   "metadata": {},
   "source": [
    "4\n",
    "\n",
    "Prove that every positive integer is uniquely expressible in the form\n",
    "\n",
    "$2^{j_0} + 2^{j_1} + 2^{j_2} + \\dotsb + 2^{j_m}$\n",
    "\n",
    "where $m \\ge 0$ and $0 \\le j_0 \\lt j_1 \\lt j_2 \\lt \\dotsb \\lt j_m$"
   ]
  },
  {
   "cell_type": "markdown",
   "metadata": {},
   "source": [
    "https://math.stackexchange.com/questions/813195/positive-integers-expressable-as-sums-of-powers-of-2"
   ]
  },
  {
   "cell_type": "markdown",
   "metadata": {},
   "source": [
    "---"
   ]
  },
  {
   "cell_type": "markdown",
   "metadata": {},
   "source": [
    "5\n",
    "\n",
    "Prove that there are no positive integers $a, b, n$ with $n \\gt 1$ such that $(a^n - b^n) \\mid (a^n + b^n)$."
   ]
  },
  {
   "cell_type": "markdown",
   "metadata": {},
   "source": [
    "---"
   ]
  },
  {
   "cell_type": "markdown",
   "metadata": {},
   "source": [
    "6\n",
    "\n",
    "Write a program to evaluate the expression $a^m \\mod m$ when $a = 2$ or $a = 3$ and\n",
    "\n",
    "$m = 2447952037112100847479213118326022843437705003126287$ or\n",
    "\n",
    "$m = 59545797598759584957498579859585984759457948579595794859456799501$"
   ]
  },
  {
   "cell_type": "markdown",
   "metadata": {},
   "source": [
    "---\n",
    "---\n",
    "---"
   ]
  },
  {
   "cell_type": "markdown",
   "metadata": {},
   "source": [
    "## 2"
   ]
  },
  {
   "cell_type": "markdown",
   "metadata": {},
   "source": [
    "---"
   ]
  },
  {
   "cell_type": "markdown",
   "metadata": {},
   "source": [
    "1\n",
    "\n",
    "Let $a, b, c \\in \\mathbb{Z}$."
   ]
  },
  {
   "cell_type": "markdown",
   "metadata": {},
   "source": [
    "i\n",
    "\n",
    "$a \\mid a$"
   ]
  },
  {
   "cell_type": "markdown",
   "metadata": {},
   "source": [
    "See main."
   ]
  },
  {
   "cell_type": "markdown",
   "metadata": {},
   "source": [
    "ii\n",
    "\n",
    "If $a \\mid b$ and $b \\mid a$ then $a = \\pm b$."
   ]
  },
  {
   "cell_type": "markdown",
   "metadata": {},
   "source": [
    "See main."
   ]
  },
  {
   "cell_type": "markdown",
   "metadata": {},
   "source": [
    "iii\n",
    "\n",
    "If $a \\mid b$ and $b \\mid c$ then $a \\mid c$."
   ]
  },
  {
   "cell_type": "markdown",
   "metadata": {},
   "source": [
    "See main."
   ]
  },
  {
   "cell_type": "markdown",
   "metadata": {},
   "source": [
    "iv\n",
    "\n",
    "If $ac \\mid bc$ with $c \\ne 0$ then $a \\mid b$."
   ]
  },
  {
   "cell_type": "markdown",
   "metadata": {},
   "source": [
    "See main."
   ]
  },
  {
   "cell_type": "markdown",
   "metadata": {},
   "source": [
    "v\n",
    "\n",
    "If $a \\mid b$ then $ac \\mid bc$."
   ]
  },
  {
   "cell_type": "markdown",
   "metadata": {},
   "source": [
    "See main."
   ]
  },
  {
   "cell_type": "markdown",
   "metadata": {},
   "source": [
    "vi\n",
    "\n",
    "If $a \\mid b$ and $a \\mid c$ then $a \\mid (bx + cy)$ for all $x, y \\in \\mathbb{Z}$."
   ]
  },
  {
   "cell_type": "markdown",
   "metadata": {},
   "source": [
    "See main."
   ]
  },
  {
   "cell_type": "markdown",
   "metadata": {},
   "source": [
    "---"
   ]
  },
  {
   "cell_type": "markdown",
   "metadata": {},
   "source": [
    "2\n",
    "\n",
    "Prove that if $n$ is odd then $8 \\mid (n^2 - 1)$."
   ]
  },
  {
   "cell_type": "markdown",
   "metadata": {},
   "source": [
    "See main."
   ]
  },
  {
   "cell_type": "markdown",
   "metadata": {},
   "source": [
    "---"
   ]
  },
  {
   "cell_type": "markdown",
   "metadata": {},
   "source": [
    "3i\n",
    "\n",
    "Show that if $m$ and $n$ are integers of the form $4k + 1$ then so is $mn$."
   ]
  },
  {
   "cell_type": "markdown",
   "metadata": {},
   "source": [
    "See main."
   ]
  },
  {
   "cell_type": "markdown",
   "metadata": {},
   "source": [
    "---"
   ]
  },
  {
   "cell_type": "markdown",
   "metadata": {},
   "source": [
    "3ii\n",
    "\n",
    "Show that if $m$ and $n$ are members of $\\mathbb{N}$ and $mn$ is of the form $4k - 1$ then so is one of $m$ and $n$."
   ]
  },
  {
   "cell_type": "markdown",
   "metadata": {},
   "source": [
    "See main."
   ]
  },
  {
   "cell_type": "markdown",
   "metadata": {},
   "source": [
    "---"
   ]
  },
  {
   "cell_type": "markdown",
   "metadata": {},
   "source": [
    "3iii\n",
    "\n",
    "Show that every member of $\\mathbb{N}$ of the form $4k - 1$ has a prime factor of this form."
   ]
  },
  {
   "cell_type": "markdown",
   "metadata": {},
   "source": [
    "See main."
   ]
  },
  {
   "cell_type": "markdown",
   "metadata": {},
   "source": [
    "---"
   ]
  },
  {
   "cell_type": "markdown",
   "metadata": {},
   "source": [
    "3iv\n",
    "\n",
    "Show that there are infinitely many primes of the form $4k - 1$."
   ]
  },
  {
   "cell_type": "markdown",
   "metadata": {},
   "source": [
    "See main."
   ]
  },
  {
   "cell_type": "markdown",
   "metadata": {},
   "source": [
    "---"
   ]
  },
  {
   "cell_type": "markdown",
   "metadata": {},
   "source": [
    "4\n",
    "\n",
    "Find all solutions $x, y \\in \\mathbb{Z}$ to the equation $x^2 - y^2 = 105$."
   ]
  },
  {
   "cell_type": "markdown",
   "metadata": {},
   "source": [
    "$\n",
    "\\begin{aligned}\n",
    "ds &= (x - y)(x + y) = x^2 - y^2 = 105 \\\\\n",
    " d &= x - y \\implies x = d + y = d + s - x \\implies x = (s + d)/2 \\\\\n",
    " s &= x + y \\implies y = s - x = s - d - y \\implies y = (s - d)/2 \\\\\n",
    "\\end  {aligned}\n",
    "$\n",
    "\n",
    "$105 = ds$ is odd and so both $d$ and $s$ are odd.\n",
    "\n",
    "<div style=\"color: red;\">\n",
    "\n",
    "This gives a bijection between the solution set and the integer divisors of $105$. Moreover, interchanging $s$ and $d$ keeps $x$ fixed and replaces $y$ by $-y$, and replacing $s$ and $d$ by $-s$ and $-d$ changes the sign of both $x$ and $y$.\n",
    "\n",
    "Thus it suffices to check the cases with $s \\gt d \\gt 0$ (i.e., $(s, d)$) one of the four ordered pairs\n",
    "\n",
    "$(105, 1), (35, 3), (21, 5), (15, 7)$\n",
    "</span>"
   ]
  },
  {
   "cell_type": "markdown",
   "metadata": {},
   "source": [
    "Let $x$ and $y$ be integers. Find all integral solutions to the equation $x^2 - y^2 = 105$.\n",
    "\n",
    "> $x^2 - y^2 = (x - y)(x + y) = 3 \\cdot 5 \\cdot 7 = 105$  \n",
    ">  \n",
    "> $x - y = 1 \\implies x + y = 3 \\cdot 5 \\cdot 7$  \n",
    ">> $x = y + 1 \\implies y = \\frac{3 \\cdot 5 \\cdot 7 - 1}{2} = 52 \\implies x = 53$  \n",
    ">> $(53 - 52)(53 + 52) = 1 \\cdot 105$  \n",
    ">  \n",
    "> $x - y = 3 \\implies x + y = 5 \\cdot 7$  \n",
    ">> $x = y + 3 \\implies y = \\frac{5 \\cdot 7 - 3}{2} = 16 \\implies x = 19$  \n",
    ">> $(19 - 16)(16 + 19) = 3 \\cdot 35$\n",
    ">  \n",
    "> $x - y = 5 \\implies x + y = 3 \\cdot 7$  \n",
    ">> $x = y + 5 \\implies y = \\frac{3 \\cdot 7 - 5}{2} = 8 \\implies x = 13$  \n",
    ">> $(13 - 8)(13 + 8) \\implies 5 \\cdot 21$\n",
    ">  \n",
    "> $x - y = 7 \\implies x + y = 3 \\cdot 5$  \n",
    ">> $x = y + 7 \\implies y = \\frac{3 \\cdot 5 - 7}{2} = 4 \\implies x = 11$  \n",
    ">> $(11 - 4)(11 + 4) \\implies 7 \\cdot 15$  \n",
    ">  \n",
    ">  $(1, 105)$  \n",
    ">  $(-1, 105)$  \n",
    ">  $(1, -105)$  \n",
    ">  $(-1, -105)$  \n",
    ">  $(3, 35)$  \n",
    ">  $(-3, 35)$  \n",
    ">  $(3, -35)$  \n",
    ">  $(-3, -35)$  \n",
    ">  $(5, 21)$  \n",
    ">  $(-5, 21)$  \n",
    ">  $(5, -21)$  \n",
    ">  $(-5, -21)$  \n",
    ">  $(7, 15)$  \n",
    ">  $(-7, 15)$  \n",
    ">  $(7, -15)$  \n",
    ">  $(-7, -15)$  "
   ]
  },
  {
   "cell_type": "markdown",
   "metadata": {},
   "source": [
    "---"
   ]
  },
  {
   "cell_type": "markdown",
   "metadata": {},
   "source": [
    "5\n",
    "\n",
    "Show that if $ad - bc = \\pm 1$ then $\\gcd(a + b, c + d) = 1$."
   ]
  },
  {
   "cell_type": "markdown",
   "metadata": {},
   "source": [
    "$(a + b)d - (c + d)b = ad + bd - bc - bd = ad - bc$\n",
    "\n",
    "Thus $(a + b)d - (c + d)b = \\pm 1$\n",
    "\n",
    "$\n",
    "\\gcd(a + b, c + d) \\mid (a + b) \\\\\n",
    "\\gcd(a + b, c + d) \\mid (c + d) \\\\\n",
    "\\gcd(a + b, c + d) \\mid (a + b)d - (c + d)b \\\\\n",
    "$\n",
    "\n",
    "Thus $\\gcd(a + b, c + d) \\mid \\pm 1 \\implies \\gcd(a + b, c + d) = | \\pm 1 |$\n",
    "\n",
    "$\\blacksquare$"
   ]
  },
  {
   "cell_type": "markdown",
   "metadata": {},
   "source": [
    "---\n",
    "---\n",
    "---"
   ]
  },
  {
   "cell_type": "markdown",
   "metadata": {},
   "source": [
    "## 3"
   ]
  },
  {
   "cell_type": "markdown",
   "metadata": {},
   "source": [
    "---"
   ]
  },
  {
   "cell_type": "markdown",
   "metadata": {},
   "source": [
    "1\n",
    "\n",
    "Write a program to find $x$ and $y$ such that $mx + ny = \\gcd(m, n)$ where"
   ]
  },
  {
   "cell_type": "markdown",
   "metadata": {},
   "source": [
    "i\n",
    "\n",
    "$m = 8148657527, n = 8148653735$"
   ]
  },
  {
   "cell_type": "markdown",
   "metadata": {},
   "source": [
    "ii\n",
    "\n",
    "$m = 8418785375, n = 7849911069$"
   ]
  },
  {
   "cell_type": "markdown",
   "metadata": {},
   "source": [
    "iii\n",
    "\n",
    "$m = 4029583209458450398503, n = 3449459408504500003009$"
   ]
  },
  {
   "cell_type": "markdown",
   "metadata": {},
   "source": [
    "iv\n",
    "\n",
    "$m = 304250263527210, n = 230958203482321$"
   ]
  },
  {
   "cell_type": "markdown",
   "metadata": {},
   "source": [
    "---"
   ]
  },
  {
   "cell_type": "markdown",
   "metadata": {},
   "source": [
    "2\n",
    "\n",
    "Show that if $\\gcd(a, b) = 1$ then $\\gcd(a - b, a + b) = 1$ or $2$. Exactly when is the value $2$?"
   ]
  },
  {
   "cell_type": "markdown",
   "metadata": {},
   "source": [
    "---"
   ]
  },
  {
   "cell_type": "markdown",
   "metadata": {},
   "source": [
    "3\n",
    "\n",
    "The Fibonacci sequence (1202) is defined iteratively by $F_1 = F_2 = 1$, $F_{n + 1} = F_n + F_{n - 1} (n = 2, 3, \\dotsc)$. Show that if $m, n \\in \\mathbb{N}$ satisfy $m \\mid F_n$ and $m \\mid F_{n + 1}$ then $m = 1$."
   ]
  },
  {
   "cell_type": "markdown",
   "metadata": {},
   "source": [
    "---"
   ]
  },
  {
   "cell_type": "markdown",
   "metadata": {},
   "source": [
    "4\n",
    "\n",
    "The squarefree numbers are the natural numbers which have no repeated prime factors, e.g $6$, $105$. Note that $1$ is the only natural number which is both squarefree and a perfect square. Prove that every $n \\in \\mathbb{N}$ with $n \\gt 1$ can be written uniquely as the product of a perfect square and a squarefree number."
   ]
  },
  {
   "cell_type": "markdown",
   "metadata": {},
   "source": [
    "---"
   ]
  },
  {
   "cell_type": "markdown",
   "metadata": {},
   "source": [
    "5\n",
    "\n",
    "Let $a \\in \\mathbb{N}$ and $b \\in \\mathbb{Z}$. Prove that the equations $\\gcd(x, y) = a$ and $xy = b$ can be solved simultaneously in integers $x$ and $y$ iff $a^2 \\mid b$."
   ]
  },
  {
   "cell_type": "markdown",
   "metadata": {},
   "source": [
    "---\n",
    "---\n",
    "---"
   ]
  },
  {
   "cell_type": "markdown",
   "metadata": {},
   "source": [
    "## M1 Review"
   ]
  },
  {
   "cell_type": "markdown",
   "metadata": {},
   "source": [
    "---"
   ]
  },
  {
   "cell_type": "markdown",
   "metadata": {},
   "source": [
    "__1__\n",
    "\n",
    "Show that $n \\mid (n - 1)!$ for all composite $n \\gt 4$.\n",
    "\n",
    "$\\text{Proof}$\n",
    "\n",
    "Composite $n = lm$ with $1 \\lt l \\le m \\lt n$.\n",
    "\n",
    "When $l \\ne m$ both $l$ and $m$ occur in $(n - 1)!$ and so $lm = n \\mid (n - 1)!$\n",
    "\n",
    "Since $n \\gt 4$, when $l = m$ it must be the case that $l = m \\ge 3$ since $l = m = 2 \\implies n = 4$. On the other hand, $n = l^2 \\gt 2l \\gt l \\ge 3$ and so both $l$ and $2l$ occur in $(n - 1)!$. Thus $n = l^2 \\mid (n - 1)!$\n",
    "\n",
    "$\\blacksquare$"
   ]
  },
  {
   "cell_type": "markdown",
   "metadata": {},
   "source": [
    "---"
   ]
  },
  {
   "cell_type": "markdown",
   "metadata": {},
   "source": [
    "__2__\n",
    "\n",
    "Prove that if $m, n \\in \\mathbb{N}$ then there are integers $a, b$ s.t. $\\gcd(a, b) = m$ and $\\text{lcm}[a, b] = n$ iff $m \\mid n$.\n",
    "\n",
    "$\\text{Proof}$\n",
    "\n",
    "First Direction\n",
    "\n",
    "Suppose $m \\mid n$. Let $m = a$ and $n = b$.\n",
    "\n",
    "Then $m \\mid a$ and $m \\mid b$ and so $m \\mid \\gcd(a, b)$.\n",
    "\n",
    "But $\\gcd(a, b)$ is just $\\gcd(m, n)$ and we know that $\\gcd(m, n) \\mid m$.\n",
    "\n",
    "Since $m \\mid \\gcd(a, b)$ and $\\gcd(a, b) \\mid m$ it is the case that $m = \\gcd(a, b)$.\n",
    "\n",
    "$\\text{lcm}[a, b] = \\frac{ab}{\\gcd(a, b)} = \\frac{mn}{m} = n$\n",
    "\n",
    "Second Direction\n",
    "\n",
    "Suppose $\\gcd(a, b) = m$ and $\\text{lcm}[a, b] = n$.\n",
    "\n",
    "$n = \\frac{ab}{\\gcd(a, b)} = \\frac{ab}{m} = (a/m)(b/m)m \\iff m \\mid n$\n",
    "\n",
    "$\\blacksquare$"
   ]
  },
  {
   "cell_type": "markdown",
   "metadata": {},
   "source": [
    "---"
   ]
  },
  {
   "cell_type": "markdown",
   "metadata": {},
   "source": [
    "__3__\n",
    "\n",
    "Factorize $4087$.\n",
    "\n",
    "$\\lfloor \\sqrt{4087} \\rfloor = 63$\n",
    "\n",
    "$4087 = 4096 - 9 = 2^{12} - 3^2 = (2^6)^2 \\textcolor{red}{+ 3 \\cdot 2^6 - 3 \\cdot 2^6} - 3^2 = (2^6 - 3)(2^6 + 3) = (64 - 3) \\times (64 + 3) = 61 \\times 67$"
   ]
  },
  {
   "cell_type": "code",
   "execution_count": null,
   "metadata": {},
   "outputs": [
    {
     "data": {
      "text/plain": [
       "63.92964883369844"
      ]
     },
     "metadata": {},
     "output_type": "display_data"
    }
   ],
   "source": [
    "import math\n",
    "math.sqrt(4087)"
   ]
  },
  {
   "cell_type": "markdown",
   "metadata": {},
   "source": [
    "---"
   ]
  },
  {
   "cell_type": "markdown",
   "metadata": {},
   "source": [
    "__4__\n",
    "\n",
    "Find $x$ and $y$ s.t. $922x + 2163y = \\gcd(922, 2163)$.\n",
    "\n",
    "$\n",
    "\\begin{aligned}\n",
    " j && q_j &&  r_j &&  x_j &&  y_j \\\\\n",
    "-1 &&     && 2163 &&    0 &&    1 \\\\\n",
    " 0 &&   2 &&  922 &&    1 &&    0 \\\\\n",
    " 1 &&   2 &&  319 &&   -2 &&    1 \\\\\n",
    " 2 &&   1 &&  284 &&    5 &&   -2 \\\\\n",
    " 3 &&   8 &&   35 &&   -7 &&    3 \\\\\n",
    " 4 &&   8 &&    4 &&   61 &&  -26 \\\\\n",
    " 5 &&   1 &&    3 && -495 &&  211 \\\\\n",
    " 6 &&     &&    1 &&  556 && -237 \\\\\n",
    "\\end  {aligned}\n",
    "$\n",
    "\n",
    "$\\gcd(922, 2163) = 1 = 556 \\times 922 + (-237) \\times 2163$"
   ]
  },
  {
   "cell_type": "markdown",
   "metadata": {},
   "source": [
    "---\n",
    "---\n",
    "---"
   ]
  },
  {
   "cell_type": "markdown",
   "metadata": {},
   "source": [
    "## 6"
   ]
  },
  {
   "cell_type": "markdown",
   "metadata": {},
   "source": [
    "---"
   ]
  },
  {
   "cell_type": "markdown",
   "metadata": {},
   "source": [
    "1\n",
    "\n",
    "Find all solutions (if there are any) to each of the following congruences."
   ]
  },
  {
   "cell_type": "markdown",
   "metadata": {},
   "source": [
    "i\n",
    "\n",
    "$\n",
    "x^2 \\equiv -1 \\mod 7\n",
    "$"
   ]
  },
  {
   "cell_type": "markdown",
   "metadata": {},
   "source": [
    "$\n",
    "x^2 \\equiv -1 \\equiv 6 \\mod 7\n",
    "$"
   ]
  },
  {
   "cell_type": "code",
   "execution_count": 2,
   "metadata": {},
   "outputs": [
    {
     "data": {
      "text/plain": [
       "[1, 4, 2, 2, 4, 1]"
      ]
     },
     "execution_count": 2,
     "metadata": {},
     "output_type": "execute_result"
    }
   ],
   "source": [
    "p = 7\n",
    "[i**2%7 for i in range(1, p)]"
   ]
  },
  {
   "cell_type": "markdown",
   "metadata": {},
   "source": [
    "---\n",
    "---\n",
    "---"
   ]
  },
  {
   "cell_type": "markdown",
   "metadata": {},
   "source": [
    "## M2 Review"
   ]
  },
  {
   "cell_type": "markdown",
   "metadata": {},
   "source": [
    "---"
   ]
  },
  {
   "cell_type": "markdown",
   "metadata": {},
   "source": [
    "1\n",
    "\n",
    "Suppose that $p$, $q$, and $r$ are distinct primes. Prove that\n",
    "\n",
    "$p^{(q - 1)(r - 1)} + q^{(r - 1)(p - 1)} + r^{(p - 1)(q - 1)} \\equiv 2 \\mod pqr$"
   ]
  },
  {
   "cell_type": "markdown",
   "metadata": {},
   "source": [
    "---"
   ]
  },
  {
   "cell_type": "markdown",
   "metadata": {},
   "source": [
    "2\n",
    "\n",
    "Solve the simultaneous congruences.\n",
    "\n",
    "$\n",
    "\\begin{aligned}\n",
    "x \\equiv 4 \\mod 19 \\\\\n",
    "x \\equiv 5 \\mod 31 \\\\\n",
    "\\end  {aligned}\n",
    "$"
   ]
  },
  {
   "cell_type": "markdown",
   "metadata": {},
   "source": [
    "---"
   ]
  },
  {
   "cell_type": "markdown",
   "metadata": {},
   "source": [
    "3\n",
    "\n",
    "Show that $2$ is a primitive root modulo $11$ and draw up a table of discrete logarithms to this base modulo $11$. Hence, or otherwise, find all solutions to the following congruences.\n",
    "\n",
    "$\n",
    "\\begin{aligned}\n",
    "x^{ 6} \\equiv 7 \\mod 11 \\\\\n",
    "x^{18} \\equiv 9 \\mod 11 \\\\\n",
    "x^{ 7} \\equiv 8 \\mod 11 \\\\\n",
    "\\end  {aligned}\n",
    "$"
   ]
  },
  {
   "cell_type": "markdown",
   "metadata": {},
   "source": [
    "---"
   ]
  },
  {
   "cell_type": "markdown",
   "metadata": {},
   "source": [
    "4\n",
    "\n",
    "Evaluate the following Legendre symbols.\n",
    "\n",
    "$\n",
    "\\begin{aligned}\n",
    "\\left( \\frac{-1}{103} \\right)_L \\\\\n",
    "\\left( \\frac{ 2}{103} \\right)_L \\\\\n",
    "\\left( \\frac{ 7}{103} \\right)_L \\\\\n",
    "\\end  {aligned}\n",
    "$"
   ]
  },
  {
   "cell_type": "markdown",
   "metadata": {},
   "source": [
    "---\n",
    "---\n",
    "---"
   ]
  }
 ],
 "metadata": {
  "kernelspec": {
   "display_name": "ml",
   "language": "python",
   "name": "python3"
  },
  "language_info": {
   "codemirror_mode": {
    "name": "ipython",
    "version": 3
   },
   "file_extension": ".py",
   "mimetype": "text/x-python",
   "name": "python",
   "nbconvert_exporter": "python",
   "pygments_lexer": "ipython3",
   "version": "3.11.9"
  }
 },
 "nbformat": 4,
 "nbformat_minor": 2
}
