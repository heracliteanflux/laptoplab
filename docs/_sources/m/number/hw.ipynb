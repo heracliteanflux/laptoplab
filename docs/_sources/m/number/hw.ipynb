{
 "cells": [
  {
   "cell_type": "markdown",
   "metadata": {},
   "source": [
    "# Exercises"
   ]
  },
  {
   "cell_type": "markdown",
   "metadata": {},
   "source": [
    "---\n",
    "---\n",
    "---"
   ]
  },
  {
   "cell_type": "markdown",
   "metadata": {},
   "source": [
    "## Contents\n",
    "```{contents}\n",
    "```"
   ]
  },
  {
   "cell_type": "markdown",
   "metadata": {},
   "source": [
    "---\n",
    "---\n",
    "---"
   ]
  },
  {
   "cell_type": "markdown",
   "metadata": {},
   "source": [
    "## 1"
   ]
  },
  {
   "cell_type": "markdown",
   "metadata": {},
   "source": [
    "---"
   ]
  },
  {
   "cell_type": "markdown",
   "metadata": {},
   "source": [
    "1\n",
    "\n",
    "Let $n \\in \\mathbb{Z}$ and $m \\in \\mathbb{Z}$ with $0 \\le m \\le n$. The binomial coefficient $\\binom{n}{m}$ is defined inductively by\n",
    "\n",
    "$\n",
    "\\begin{aligned}\n",
    "\\binom{\\phantom{-}0}{\\phantom{-}0} &:= 1 \\\\\n",
    "\\binom{\\phantom{-}n}{-1}           &:= 0 \\\\\n",
    "\\binom{n+1}{m}                     &= \\binom{n}{m-1} + \\binom{n}{m} \\\\\n",
    "\\end  {aligned}\n",
    "$\n",
    "\n",
    "<div style=\"color: red;\">\n",
    "\n",
    "What about $\\binom{n}{n} := 1$?</div>\n",
    "\n",
    "Based on this definition $\\binom{n}{0}$ ends up being $1$."
   ]
  },
  {
   "cell_type": "markdown",
   "metadata": {},
   "source": [
    "i\n",
    "\n",
    "Prove that $\\binom{n}{m} \\in \\mathbb{Z}$."
   ]
  },
  {
   "cell_type": "markdown",
   "metadata": {},
   "source": [
    "ii\n",
    "\n",
    "Prove that if $p$ is prime and $1 \\le m \\le p - 1$ then $p \\mid \\binom{p}{m}$."
   ]
  },
  {
   "cell_type": "markdown",
   "metadata": {},
   "source": [
    "---"
   ]
  },
  {
   "cell_type": "markdown",
   "metadata": {},
   "source": [
    "2\n",
    "\n",
    "Prove that no polynomial $f(x)$ of degree at least $1$ with integral coefficients can be prime for every positive integer $x$."
   ]
  },
  {
   "cell_type": "markdown",
   "metadata": {},
   "source": [
    "---"
   ]
  },
  {
   "cell_type": "markdown",
   "metadata": {},
   "source": [
    "3\n",
    "\n",
    "If $2^n + 1$ is an odd prime for some integer $n$, prove that $n$ is a power of $2$."
   ]
  },
  {
   "cell_type": "markdown",
   "metadata": {},
   "source": [
    "---"
   ]
  },
  {
   "cell_type": "markdown",
   "metadata": {},
   "source": [
    "4\n",
    "\n",
    "Prove that every positive integer is uniquely expressible in the form\n",
    "\n",
    "$2^{j_0} + 2^{j_1} + 2^{j_2} + \\dotsb + 2^{j_m}$\n",
    "\n",
    "where $m \\ge 0$ and $0 \\le j_0 \\lt j_1 \\lt j_2 \\lt \\dotsb \\lt j_m$"
   ]
  },
  {
   "cell_type": "markdown",
   "metadata": {},
   "source": [
    "---"
   ]
  },
  {
   "cell_type": "markdown",
   "metadata": {},
   "source": [
    "5\n",
    "\n",
    "Prove that there are no positive integers $a, b, n$ with $n \\gt 1$ such that $(a^n - b^n) \\mid (a^n + b^n)$."
   ]
  },
  {
   "cell_type": "markdown",
   "metadata": {},
   "source": [
    "---"
   ]
  },
  {
   "cell_type": "markdown",
   "metadata": {},
   "source": [
    "6\n",
    "\n",
    "Write a program to evaluate the expression $a^m \\mod m$ when $a = 2$ or $a = 3$ and\n",
    "\n",
    "$m = 2447952037112100847479213118326022843437705003126287$ or\n",
    "\n",
    "$m = 59545797598759584957498579859585984759457948579595794859456799501$"
   ]
  },
  {
   "cell_type": "markdown",
   "metadata": {},
   "source": [
    "---\n",
    "---\n",
    "---"
   ]
  },
  {
   "cell_type": "markdown",
   "metadata": {},
   "source": [
    "## 2"
   ]
  },
  {
   "cell_type": "markdown",
   "metadata": {},
   "source": [
    "---"
   ]
  },
  {
   "cell_type": "markdown",
   "metadata": {},
   "source": [
    "1\n",
    "\n",
    "Let $a, b, c \\in \\mathbb{Z}$."
   ]
  },
  {
   "cell_type": "markdown",
   "metadata": {},
   "source": [
    "i\n",
    "\n",
    "$a \\mid a$"
   ]
  },
  {
   "cell_type": "markdown",
   "metadata": {},
   "source": [
    "Let $a$ be a <span style=\"color: red;\">nonzero</span> integer.\n",
    "\n",
    "Suppose $\\phantom{-}a \\mid a$. Then there is an integer $k$ such that $\\phantom{-}ak = a$, namely $\\phantom{-}1$.\n",
    "\n",
    "Suppose $-a \\mid a$. Then there is an integer $k$ such that $-ak = a$, namely $-1$.\n",
    "\n",
    "$\\blacksquare$"
   ]
  },
  {
   "cell_type": "markdown",
   "metadata": {},
   "source": [
    "ii\n",
    "\n",
    "If $a \\mid b$ and $b \\mid a$ then $a = \\pm b$."
   ]
  },
  {
   "cell_type": "markdown",
   "metadata": {},
   "source": [
    "Suppose $a \\mid b$ and $b \\mid a$. Then there exist integers $m$ and $n$ such that $b = am$ and\n",
    "\n",
    "$a = bn = (am)n = a(mn) \\implies 1 = mn \\implies m = n = \\pm 1$\n",
    "\n",
    "Suppose $m = n = \\phantom{-}1$. Then $a = \\phantom{-}b$.\n",
    "\n",
    "Suppose $m = n = -1$. Then $a = -b$.\n",
    "\n",
    "$\\blacksquare$"
   ]
  },
  {
   "cell_type": "markdown",
   "metadata": {},
   "source": [
    "iii\n",
    "\n",
    "If $a \\mid b$ and $b \\mid c$ then $a \\mid c$."
   ]
  },
  {
   "cell_type": "markdown",
   "metadata": {},
   "source": [
    "Suppose $a \\mid b$ and $b \\mid c$. Then there are integers $d$ and $e$ such that $b = ad$ and\n",
    "\n",
    "$c = be = (ad)e = a(de)$\n",
    "\n",
    "$\\blacksquare$"
   ]
  },
  {
   "cell_type": "markdown",
   "metadata": {},
   "source": [
    "iv\n",
    "\n",
    "If $ac \\mid bc$ with $c \\ne 0$ then $a \\mid b$."
   ]
  },
  {
   "cell_type": "markdown",
   "metadata": {},
   "source": [
    "Suppose $ac \\mid bc$. Then there is an integer $k$ such that $ack = bc \\implies ak = b \\implies a \\mid b$.\n",
    "\n",
    "$\\blacksquare$"
   ]
  },
  {
   "cell_type": "markdown",
   "metadata": {},
   "source": [
    "v\n",
    "\n",
    "If $a \\mid b$ then $ac \\mid bc$."
   ]
  },
  {
   "cell_type": "markdown",
   "metadata": {},
   "source": [
    "Suppose $a \\mid b$. Then there is an integer $k$ such that $ak = b \\implies ack = bc \\implies ac \\mid bc$.\n",
    "\n",
    "$\\blacksquare$"
   ]
  },
  {
   "cell_type": "markdown",
   "metadata": {},
   "source": [
    "vi\n",
    "\n",
    "If $a \\mid b$ and $a \\mid c$ then $a \\mid (bx + cy)$ for all $x, y \\in \\mathbb{Z}$."
   ]
  },
  {
   "cell_type": "markdown",
   "metadata": {},
   "source": [
    "Suppose $a \\mid b$ and $a \\mid c$. Then there are integers $m$ and $n$ such that $am = b$ and $an = c$.\n",
    "\n",
    "$\n",
    "\\begin{aligned}\n",
    "b  + c  &= am  + an  = a(m + n)   &&\\implies a \\mid (b + c) \\\\\n",
    "bx + cy &= amx + any = a(mx + ny) &&\\implies a \\mid (bx + cy) \\\\\n",
    "\\end  {aligned}\n",
    "$\n",
    "\n",
    "$\\blacksquare$"
   ]
  },
  {
   "cell_type": "markdown",
   "metadata": {},
   "source": [
    "---"
   ]
  },
  {
   "cell_type": "markdown",
   "metadata": {},
   "source": [
    "2\n",
    "\n",
    "Prove that if $n$ is odd then $8 \\mid (n^2 - 1)$."
   ]
  },
  {
   "cell_type": "markdown",
   "metadata": {},
   "source": [
    "Suppose $n$ is odd so that $n = 2k + 1$ for some integer $k$.\n",
    "\n",
    "$\n",
    "\\begin{aligned}\n",
    "  n &= 2k + 1 \\\\\n",
    "n^2 &= (2k + 1)^2 = 4k^2 + 4k + 1 \\\\\n",
    "n^2 - 1 &= 4k^2 + 4k = 4k(k + 1) = (n - 1)(n + 1)\n",
    "\\end  {aligned}\n",
    "$\n",
    "\n",
    "$k$ is either even or odd. This is to say that one of $k$ and $k + 1$ is even and the other is odd and so their product is even so that $k(k + 1) = 2m$ for some integer $m$.\n",
    "\n",
    "$n^2 - 1 = 4k(k + 1) = 4(2m) = 8m$\n",
    "\n",
    "The other way to see this is that since $n$ is odd both $n - 1$ and $n + 1$ are even so that $n - 1 = 2s$ and $n + 1 = 2s + 2$ for some integer $s$ and so\n",
    "\n",
    "$(n - 1)(n + 1) = 2s(2s + 2) = 4s^2 + 4s = 4s(s + 1)$\n",
    "\n",
    "$\\blacksquare$"
   ]
  },
  {
   "cell_type": "markdown",
   "metadata": {},
   "source": [
    "<b>Proof by induction on $n$</b>\n",
    "\n",
    "<b>Base Case $n = 1$</b>\n",
    "\n",
    "$8 \\mid 0$\n",
    "\n",
    "<b>Inductive Case</b>\n",
    "\n",
    "Suppose it is the case that $8 \\mid (n^2 - 1)$. It must be shown that it holds for the next odd number $n + 2$.\n",
    "\n",
    "$(n + 2)^2 - 1 = n^2 + 4n + 4 - 1 = n^2 - 1 + 4(n + 1)$\n",
    "\n",
    "We know that $8 \\mid (n^2 - 1)$ so we only need to check that $8 \\mid 4(n + 1)$.\n",
    "\n",
    "Since $n$ is odd $n + 1$ is even so that $n + 1 = 2k$ for some integer $k$.\n",
    "\n",
    "Thus $8 \\mid 4(n + 1) = 4(2k) = 8k$.\n",
    "\n",
    "$\\blacksquare$"
   ]
  },
  {
   "cell_type": "markdown",
   "metadata": {},
   "source": [
    "Alternative\n",
    "\n",
    "$n = 2k - 1$\n",
    "\n",
    "$n^2 - 1 = (2k - 1)^2 - 1 = 4k^2 - 4k = 4k(k - 1)$\n",
    "\n",
    "If $k$ is even then $8 \\mid 4k$\n",
    "\n",
    "If $k$ is odd then $k - 1$ is even and $8 \\mid 4(k - 1)$"
   ]
  },
  {
   "cell_type": "markdown",
   "metadata": {},
   "source": [
    "---"
   ]
  },
  {
   "cell_type": "markdown",
   "metadata": {},
   "source": [
    "3i\n",
    "\n",
    "Show that if $m$ and $n$ are integers of the form $4k + 1$ then so is $mn$."
   ]
  },
  {
   "cell_type": "markdown",
   "metadata": {},
   "source": [
    "Suppose $m = 4s + 1$ and $n = 4t + 1$ for some integers $s$ and $t$.\n",
    "\n",
    "$mn = (4s + 1)(4t + 1) = 16st + 4s + 4t + 1 = 4(4st + s + t) + 1$\n",
    "\n",
    "$\\blacksquare$"
   ]
  },
  {
   "cell_type": "markdown",
   "metadata": {},
   "source": [
    "---"
   ]
  },
  {
   "cell_type": "markdown",
   "metadata": {},
   "source": [
    "3ii\n",
    "\n",
    "Show that if $m$ and $n$ are members of $\\mathbb{N}$ and $mn$ is of the form $4k - 1$ then so is one of $m$ and $n$."
   ]
  },
  {
   "cell_type": "markdown",
   "metadata": {},
   "source": [
    "See main."
   ]
  },
  {
   "cell_type": "markdown",
   "metadata": {},
   "source": [
    "---"
   ]
  },
  {
   "cell_type": "markdown",
   "metadata": {},
   "source": [
    "3iii\n",
    "\n",
    "Show that every member of $\\mathbb{N}$ of the form $4k - 1$ has a prime factor of this form."
   ]
  },
  {
   "cell_type": "markdown",
   "metadata": {},
   "source": [
    "$4k - 1$ is a product of primes\n",
    "\n",
    "$\\blacksquare$"
   ]
  },
  {
   "cell_type": "markdown",
   "metadata": {},
   "source": [
    "---"
   ]
  },
  {
   "cell_type": "markdown",
   "metadata": {},
   "source": [
    "3iv\n",
    "\n",
    "Show that there are infinitely many primes of the form $4k - 1$."
   ]
  },
  {
   "cell_type": "markdown",
   "metadata": {},
   "source": [
    "---"
   ]
  },
  {
   "cell_type": "markdown",
   "metadata": {},
   "source": [
    "4\n",
    "\n",
    "Find all solutions $x, y \\in \\mathbb{Z}$ to the equation $x^2 - y^2 = 105$."
   ]
  },
  {
   "cell_type": "markdown",
   "metadata": {},
   "source": [
    "Let $x$ and $y$ be integers. Find all integral solutions to the equation $x^2 - y^2 = 105$.\n",
    "\n",
    "> $x^2 - y^2 = (x - y)(x + y) = 3 \\cdot 5 \\cdot 7 = 105$  \n",
    ">  \n",
    "> $x - y = 1 \\implies x + y = 3 \\cdot 5 \\cdot 7$  \n",
    ">> $x = y + 1 \\implies y = \\frac{3 \\cdot 5 \\cdot 7 - 1}{2} = 52 \\implies x = 53$  \n",
    ">> $(53 - 52)(53 + 52) = 1 \\cdot 105$  \n",
    ">  \n",
    "> $x - y = 3 \\implies x + y = 5 \\cdot 7$  \n",
    ">> $x = y + 3 \\implies y = \\frac{5 \\cdot 7 - 3}{2} = 16 \\implies x = 19$  \n",
    ">> $(19 - 16)(16 + 19) = 3 \\cdot 35$\n",
    ">  \n",
    "> $x - y = 5 \\implies x + y = 3 \\cdot 7$  \n",
    ">> $x = y + 5 \\implies y = \\frac{3 \\cdot 7 - 5}{2} = 8 \\implies x = 13$  \n",
    ">> $(13 - 8)(13 + 8) \\implies 5 \\cdot 21$\n",
    ">  \n",
    "> $x - y = 7 \\implies x + y = 3 \\cdot 5$  \n",
    ">> $x = y + 7 \\implies y = \\frac{3 \\cdot 5 - 7}{2} = 4 \\implies x = 11$  \n",
    ">> $(11 - 4)(11 + 4) \\implies 7 \\cdot 15$  \n",
    ">  \n",
    ">  $(1, 105)$  \n",
    ">  $(-1, 105)$  \n",
    ">  $(1, -105)$  \n",
    ">  $(-1, -105)$  \n",
    ">  $(3, 35)$  \n",
    ">  $(-3, 35)$  \n",
    ">  $(3, -35)$  \n",
    ">  $(-3, -35)$  \n",
    ">  $(5, 21)$  \n",
    ">  $(-5, 21)$  \n",
    ">  $(5, -21)$  \n",
    ">  $(-5, -21)$  \n",
    ">  $(7, 15)$  \n",
    ">  $(-7, 15)$  \n",
    ">  $(7, -15)$  \n",
    ">  $(-7, -15)$  "
   ]
  },
  {
   "cell_type": "markdown",
   "metadata": {},
   "source": [
    "---"
   ]
  },
  {
   "cell_type": "markdown",
   "metadata": {},
   "source": [
    "5\n",
    "\n",
    "Show that if $ad - bc = \\pm 1$ then $\\gcd(a + b, c + d) = 1$."
   ]
  },
  {
   "cell_type": "markdown",
   "metadata": {},
   "source": [
    "---\n",
    "---\n",
    "---"
   ]
  },
  {
   "cell_type": "markdown",
   "metadata": {},
   "source": [
    "## 3"
   ]
  },
  {
   "cell_type": "markdown",
   "metadata": {},
   "source": [
    "---"
   ]
  },
  {
   "cell_type": "markdown",
   "metadata": {},
   "source": [
    "1\n",
    "\n",
    "Write a program to find $x$ and $y$ such that $mx + ny = \\gcd(m, n)$ where"
   ]
  },
  {
   "cell_type": "markdown",
   "metadata": {},
   "source": [
    "i\n",
    "\n",
    "$m = 8148657527, n = 8148653735$"
   ]
  },
  {
   "cell_type": "markdown",
   "metadata": {},
   "source": [
    "ii\n",
    "\n",
    "$m = 8418785375, n = 7849911069$"
   ]
  },
  {
   "cell_type": "markdown",
   "metadata": {},
   "source": [
    "iii\n",
    "\n",
    "$m = 4029583209458450398503, n = 3449459408504500003009$"
   ]
  },
  {
   "cell_type": "markdown",
   "metadata": {},
   "source": [
    "iv\n",
    "\n",
    "$m = 304250263527210, n = 230958203482321$"
   ]
  },
  {
   "cell_type": "markdown",
   "metadata": {},
   "source": [
    "---"
   ]
  },
  {
   "cell_type": "markdown",
   "metadata": {},
   "source": [
    "2\n",
    "\n",
    "Show that if $\\gcd(a, b) = 1$ then $\\gcd(a - b, a + b) = 1$ or $2$. Exactly when is the value $2$?"
   ]
  },
  {
   "cell_type": "markdown",
   "metadata": {},
   "source": [
    "---"
   ]
  },
  {
   "cell_type": "markdown",
   "metadata": {},
   "source": [
    "3\n",
    "\n",
    "The Fibonacci sequence (1202) is defined iteratively by $F_1 = F_2 = 1$, $F_{n + 1} = F_n + F_{n - 1} (n = 2, 3, \\dotsc)$. Show that if $m, n \\in \\mathbb{N}$ satisfy $m \\mid F_n$ and $m \\mid F_{n + 1}$ then $m = 1$."
   ]
  },
  {
   "cell_type": "markdown",
   "metadata": {},
   "source": [
    "---"
   ]
  },
  {
   "cell_type": "markdown",
   "metadata": {},
   "source": [
    "4\n",
    "\n",
    "The squarefree numbers are the natural numbers which have no repeated prime factors, e.g $6$, $105$. Note that $1$ is the only natural number which is both squarefree and a perfect square. Prove that every $n \\in \\mathbb{N}$ with $n \\gt 1$ can be written uniquely as the product of a perfect square and a squarefree number."
   ]
  },
  {
   "cell_type": "markdown",
   "metadata": {},
   "source": [
    "---"
   ]
  },
  {
   "cell_type": "markdown",
   "metadata": {},
   "source": [
    "5\n",
    "\n",
    "Let $a \\in \\mathbb{N}$ and $b \\in \\mathbb{Z}$. Prove that the equations $\\gcd(x, y) = a$ and $xy = b$ can be solved simultaneously in integers $x$ and $y$ iff $a^2 \\mid b$."
   ]
  },
  {
   "cell_type": "markdown",
   "metadata": {},
   "source": [
    "---\n",
    "---\n",
    "---"
   ]
  },
  {
   "cell_type": "markdown",
   "metadata": {},
   "source": [
    "## M1 Review"
   ]
  },
  {
   "cell_type": "markdown",
   "metadata": {},
   "source": [
    "---"
   ]
  },
  {
   "cell_type": "markdown",
   "metadata": {},
   "source": [
    "__1__\n",
    "\n",
    "Show that $n \\mid (n - 1)!$ for all composite $n \\gt 4$.\n",
    "\n",
    "$\\text{Proof}$\n",
    "\n",
    "Composite $n = lm$ with $1 \\lt l \\le m \\lt n$.\n",
    "\n",
    "When $l \\ne m$ both $l$ and $m$ occur in $(n - 1)!$ and so $lm = n \\mid (n - 1)!$\n",
    "\n",
    "Since $n \\gt 4$, when $l = m$ it must be the case that $l = m \\ge 3$ since $l = m = 2 \\implies n = 4$. On the other hand, $n = l^2 \\gt 2l \\gt l \\ge 3$ and so both $l$ and $2l$ occur in $(n - 1)!$. Thus $n = l^2 \\mid (n - 1)!$\n",
    "\n",
    "$\\blacksquare$"
   ]
  },
  {
   "cell_type": "markdown",
   "metadata": {},
   "source": [
    "---"
   ]
  },
  {
   "cell_type": "markdown",
   "metadata": {},
   "source": [
    "__2__\n",
    "\n",
    "Prove that if $m, n \\in \\mathbb{N}$ then there are integers $a, b$ s.t. $\\gcd(a, b) = m$ and $\\text{lcm}[a, b] = n$ iff $m \\mid n$.\n",
    "\n",
    "$\\text{Proof}$\n",
    "\n",
    "First Direction\n",
    "\n",
    "Suppose $m \\mid n$. Let $m = a$ and $n = b$.\n",
    "\n",
    "Then $m \\mid a$ and $m \\mid b$ and so $m \\mid \\gcd(a, b)$.\n",
    "\n",
    "But $\\gcd(a, b)$ is just $\\gcd(m, n)$ and we know that $\\gcd(m, n) \\mid m$.\n",
    "\n",
    "Since $m \\mid \\gcd(a, b)$ and $\\gcd(a, b) \\mid m$ it is the case that $m = \\gcd(a, b)$.\n",
    "\n",
    "$\\text{lcm}[a, b] = \\frac{ab}{\\gcd(a, b)} = \\frac{mn}{m} = n$\n",
    "\n",
    "Second Direction\n",
    "\n",
    "Suppose $\\gcd(a, b) = m$ and $\\text{lcm}[a, b] = n$.\n",
    "\n",
    "$n = \\frac{ab}{\\gcd(a, b)} = \\frac{ab}{m} = (a/m)(b/m)m \\iff m \\mid n$\n",
    "\n",
    "$\\blacksquare$"
   ]
  },
  {
   "cell_type": "markdown",
   "metadata": {},
   "source": [
    "---"
   ]
  },
  {
   "cell_type": "markdown",
   "metadata": {},
   "source": [
    "__3__\n",
    "\n",
    "Factorize $4087$.\n",
    "\n",
    "$\\lfloor \\sqrt{4087} \\rfloor = 63$\n",
    "\n",
    "$4087 = 4096 - 9 = 2^{12} - 3^2 = (2^6)^2 \\textcolor{red}{+ 3 \\cdot 2^6 - 3 \\cdot 2^6} - 3^2 = (2^6 - 3)(2^6 + 3) = (64 - 3) \\times (64 + 3) = 61 \\times 67$"
   ]
  },
  {
   "cell_type": "code",
   "execution_count": null,
   "metadata": {},
   "outputs": [
    {
     "data": {
      "text/plain": [
       "63.92964883369844"
      ]
     },
     "metadata": {},
     "output_type": "display_data"
    }
   ],
   "source": [
    "import math\n",
    "math.sqrt(4087)"
   ]
  },
  {
   "cell_type": "markdown",
   "metadata": {},
   "source": [
    "---"
   ]
  },
  {
   "cell_type": "markdown",
   "metadata": {},
   "source": [
    "__4__\n",
    "\n",
    "Find $x$ and $y$ s.t. $922x + 2163y = \\gcd(922, 2163)$.\n",
    "\n",
    "$\n",
    "\\begin{aligned}\n",
    " j && q_j &&  r_j &&  x_j &&  y_j \\\\\n",
    "-1 &&     && 2163 &&    0 &&    1 \\\\\n",
    " 0 &&   2 &&  922 &&    1 &&    0 \\\\\n",
    " 1 &&   2 &&  319 &&   -2 &&    1 \\\\\n",
    " 2 &&   1 &&  284 &&    5 &&   -2 \\\\\n",
    " 3 &&   8 &&   35 &&   -7 &&    3 \\\\\n",
    " 4 &&   8 &&    4 &&   61 &&  -26 \\\\\n",
    " 5 &&   1 &&    3 && -495 &&  211 \\\\\n",
    " 6 &&     &&    1 &&  556 && -237 \\\\\n",
    "\\end  {aligned}\n",
    "$\n",
    "\n",
    "$\\gcd(922, 2163) = 1 = 556 \\times 922 + (-237) \\times 2163$"
   ]
  },
  {
   "cell_type": "markdown",
   "metadata": {},
   "source": [
    "---\n",
    "---\n",
    "---"
   ]
  },
  {
   "cell_type": "markdown",
   "metadata": {},
   "source": [
    "## M2 Review"
   ]
  },
  {
   "cell_type": "markdown",
   "metadata": {},
   "source": [
    "---"
   ]
  },
  {
   "cell_type": "markdown",
   "metadata": {},
   "source": [
    "1\n",
    "\n",
    "Suppose that $p$, $q$, and $r$ are distinct primes. Prove that\n",
    "\n",
    "$p^{(q - 1)(r - 1)} + q^{(r - 1)(p - 1)} + r^{(p - 1)(q - 1)} \\equiv 2 \\mod pqr$"
   ]
  },
  {
   "cell_type": "markdown",
   "metadata": {},
   "source": [
    "---"
   ]
  },
  {
   "cell_type": "markdown",
   "metadata": {},
   "source": [
    "2\n",
    "\n",
    "Solve the simultaneous congruences.\n",
    "\n",
    "$\n",
    "\\begin{aligned}\n",
    "x \\equiv 4 \\mod 19 \\\\\n",
    "x \\equiv 5 \\mod 31 \\\\\n",
    "\\end  {aligned}\n",
    "$"
   ]
  },
  {
   "cell_type": "markdown",
   "metadata": {},
   "source": [
    "---"
   ]
  },
  {
   "cell_type": "markdown",
   "metadata": {},
   "source": [
    "3\n",
    "\n",
    "Show that $2$ is a primitive root modulo $11$ and draw up a table of discrete logarithms to this base modulo $11$. Hence, or otherwise, find all solutions to the following congruences.\n",
    "\n",
    "$\n",
    "\\begin{aligned}\n",
    "x^{ 6} \\equiv 7 \\mod 11 \\\\\n",
    "x^{18} \\equiv 9 \\mod 11 \\\\\n",
    "x^{ 7} \\equiv 8 \\mod 11 \\\\\n",
    "\\end  {aligned}\n",
    "$"
   ]
  },
  {
   "cell_type": "markdown",
   "metadata": {},
   "source": [
    "---"
   ]
  },
  {
   "cell_type": "markdown",
   "metadata": {},
   "source": [
    "4\n",
    "\n",
    "Evaluate the following Legendre symbols.\n",
    "\n",
    "$\n",
    "\\begin{aligned}\n",
    "\\left( \\frac{-1}{103} \\right)_L \\\\\n",
    "\\left( \\frac{ 2}{103} \\right)_L \\\\\n",
    "\\left( \\frac{ 7}{103} \\right)_L \\\\\n",
    "\\end  {aligned}\n",
    "$"
   ]
  },
  {
   "cell_type": "markdown",
   "metadata": {},
   "source": [
    "---\n",
    "---\n",
    "---"
   ]
  }
 ],
 "metadata": {
  "language_info": {
   "name": "python"
  }
 },
 "nbformat": 4,
 "nbformat_minor": 2
}
