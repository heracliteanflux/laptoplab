{
 "cells": [
  {
   "cell_type": "markdown",
   "metadata": {},
   "source": [
    "# Assignments"
   ]
  },
  {
   "cell_type": "markdown",
   "metadata": {},
   "source": [
    "---"
   ]
  },
  {
   "cell_type": "markdown",
   "metadata": {},
   "source": [
    "## Contents\n",
    "```{contents}\n",
    "```"
   ]
  },
  {
   "cell_type": "markdown",
   "metadata": {},
   "source": [
    "---"
   ]
  },
  {
   "cell_type": "markdown",
   "metadata": {},
   "source": [
    "## 1"
   ]
  },
  {
   "cell_type": "markdown",
   "metadata": {},
   "source": [
    "---"
   ]
  },
  {
   "cell_type": "markdown",
   "metadata": {},
   "source": [
    "1\n",
    "\n",
    "Let $n \\in \\mathbb{Z}$ and $m \\in \\mathbb{Z}$ with $0 \\le m \\le n$. The binomial coefficient $\\binom{n}{m}$ is defined inductively by\n",
    "\n",
    "$\n",
    "\\begin{aligned}\n",
    "\\binom{\\phantom{-}0}{\\phantom{-}0} &:= 1 \\\\\n",
    "\\binom{\\phantom{-}n}{-1}           &:= 0 \\\\\n",
    "\\binom{n+1}{m}                     &= \\binom{n}{m-1} + \\binom{n}{m} \\\\\n",
    "\\end  {aligned}\n",
    "$\n",
    "\n",
    "<div style=\"color: red;\">\n",
    "\n",
    "What about $\\binom{n}{n} := 1$?</div>\n",
    "\n",
    "Based on this definition $\\binom{n}{0}$ ends up being $1$."
   ]
  },
  {
   "cell_type": "markdown",
   "metadata": {},
   "source": [
    "i\n",
    "\n",
    "Prove that $\\binom{n}{m} \\in \\mathbb{Z}$."
   ]
  },
  {
   "cell_type": "markdown",
   "metadata": {},
   "source": [
    "ii\n",
    "\n",
    "Prove that if $p$ is prime and $1 \\le m \\le p - 1$ then $p \\mid \\binom{p}{m}$."
   ]
  },
  {
   "cell_type": "markdown",
   "metadata": {},
   "source": [
    "---"
   ]
  },
  {
   "cell_type": "markdown",
   "metadata": {},
   "source": [
    "2\n",
    "\n",
    "Prove that no polynomial $f(x)$ of degree at least $1$ with integral coefficients can be prime for every positive integer $x$."
   ]
  },
  {
   "cell_type": "markdown",
   "metadata": {},
   "source": [
    "---"
   ]
  },
  {
   "cell_type": "markdown",
   "metadata": {},
   "source": [
    "3\n",
    "\n",
    "If $2^n + 1$ is an odd prime for some integer $n$, prove that $n$ is a power of $2$."
   ]
  },
  {
   "cell_type": "markdown",
   "metadata": {},
   "source": [
    "---"
   ]
  },
  {
   "cell_type": "markdown",
   "metadata": {},
   "source": [
    "4\n",
    "\n",
    "Prove that every positive integer is uniquely expressible in the form\n",
    "\n",
    "$2^{j_0} + 2^{j_1} + 2^{j_2} + \\dotsb + 2^{j_m}$\n",
    "\n",
    "where $m \\ge 0$ and $0 \\le j_0 \\lt j_1 \\lt j_2 \\lt \\dotsb \\lt j_m$"
   ]
  },
  {
   "cell_type": "markdown",
   "metadata": {},
   "source": [
    "---"
   ]
  },
  {
   "cell_type": "markdown",
   "metadata": {},
   "source": [
    "5\n",
    "\n",
    "Prove that there are no positive integers $a, b, n$ with $n \\gt 1$ such that $(a^n - b^n) \\mid (a^n + b^n)$."
   ]
  },
  {
   "cell_type": "markdown",
   "metadata": {},
   "source": [
    "---"
   ]
  },
  {
   "cell_type": "markdown",
   "metadata": {},
   "source": [
    "6\n",
    "\n",
    "Write a program to evaluate the expression $a^m \\mod m$ when $a = 2$ or $a = 3$ and\n",
    "\n",
    "$m = 2447952037112100847479213118326022843437705003126287$ or\n",
    "\n",
    "$m = 59545797598759584957498579859585984759457948579595794859456799501$"
   ]
  },
  {
   "cell_type": "markdown",
   "metadata": {},
   "source": [
    "---"
   ]
  },
  {
   "cell_type": "markdown",
   "metadata": {},
   "source": [
    "## 2"
   ]
  },
  {
   "cell_type": "markdown",
   "metadata": {},
   "source": [
    "---"
   ]
  },
  {
   "cell_type": "markdown",
   "metadata": {},
   "source": [
    "1\n",
    "\n",
    "Let $a, b, c \\in \\mathbb{Z}$."
   ]
  },
  {
   "cell_type": "markdown",
   "metadata": {},
   "source": [
    "i\n",
    "\n",
    "$a \\mid a$"
   ]
  },
  {
   "cell_type": "markdown",
   "metadata": {},
   "source": [
    "ii\n",
    "\n",
    "If $a \\mid b$ and $b \\mid a$ then $a = \\pm b$."
   ]
  },
  {
   "cell_type": "markdown",
   "metadata": {},
   "source": [
    "iii\n",
    "\n",
    "If $a \\mid b$ and $b \\mid c$ then $a \\mid c$."
   ]
  },
  {
   "cell_type": "markdown",
   "metadata": {},
   "source": [
    "iv\n",
    "\n",
    "If $ac \\mid bc$ with $c \\ne 0$ then $a \\mid b$."
   ]
  },
  {
   "cell_type": "markdown",
   "metadata": {},
   "source": [
    "v\n",
    "\n",
    "If $a \\mid b$ then $ac \\mid bc$."
   ]
  },
  {
   "cell_type": "markdown",
   "metadata": {},
   "source": [
    "vi\n",
    "\n",
    "If $a \\mid b$ and $a \\mid c$ then $a \\mid (bx + cy)$ for all $x, y \\in \\mathbb{Z}$."
   ]
  },
  {
   "cell_type": "markdown",
   "metadata": {},
   "source": [
    "---"
   ]
  },
  {
   "cell_type": "markdown",
   "metadata": {},
   "source": [
    "2\n",
    "\n",
    "Prove that if $n$ is odd then $8 \\mid (n^2 - 1)$."
   ]
  },
  {
   "cell_type": "markdown",
   "metadata": {},
   "source": [
    "Suppose $n$ is odd so that $n = 2k + 1$ for some integer $k$.\n",
    "\n",
    "$\n",
    "\\begin{aligned}\n",
    "  n &= 2k + 1 \\\\\n",
    "n^2 &= (2k + 1)^2 = 4k^2 + 4k + 1 \\\\\n",
    "n^2 - 1 &= 4k^2 + 4k = 4k(k + 1) = (n - 1)(n + 1)\n",
    "\\end  {aligned}\n",
    "$\n",
    "\n",
    "$k$ is either even or odd. This is to say that one of $k$ and $k + 1$ is even and the other is odd and so their product is even so that $k(k + 1) = 2m$ for some integer $m$.\n",
    "\n",
    "$n^2 - 1 = 4k(k + 1) = 4(2m) = 8m$\n",
    "\n",
    "The other way to see this is that since $n$ is odd both $n - 1$ and $n + 1$ are even so that $n - 1 = 2s$ and $n + 1 = 2s + 2$ for some integer $s$ and so\n",
    "\n",
    "$(n - 1)(n + 1) = 2s(2s + 2) = 4s^2 + 4s = 4s(s + 1)$\n",
    "\n",
    "$\\blacksquare$"
   ]
  },
  {
   "cell_type": "markdown",
   "metadata": {},
   "source": [
    "<b>Proof by induction on $n$</b>\n",
    "\n",
    "<b>Base Case $n = 1$</b>\n",
    "\n",
    "$8 \\mid 0$\n",
    "\n",
    "<b>Inductive Case</b>\n",
    "\n",
    "Suppose it is the case that $8 \\mid (n^2 - 1)$. It must be shown that it holds for the next odd number $n + 2$.\n",
    "\n",
    "$(n + 2)^2 - 1 = n^2 + 4n + 4 - 1 = n^2 - 1 + 4(n + 1)$\n",
    "\n",
    "We know that $8 \\mid (n^2 - 1)$ so we only need to check that $8 \\mid 4(n + 1)$.\n",
    "\n",
    "Since $n$ is odd $n + 1$ is even so that $n + 1 = 2k$ for some integer $k$.\n",
    "\n",
    "Thus $8 \\mid 4(n + 1) = 4(2k) = 8k$.\n",
    "\n",
    "$\\blacksquare$"
   ]
  },
  {
   "cell_type": "markdown",
   "metadata": {},
   "source": [
    "---"
   ]
  },
  {
   "cell_type": "markdown",
   "metadata": {},
   "source": [
    "3i\n",
    "\n",
    "Show that if $m$ and $n$ are integers of the form $4k + 1$ then so is $mn$."
   ]
  },
  {
   "cell_type": "markdown",
   "metadata": {},
   "source": [
    "$mn = (4k + 1)(4k' + 1) = 16kk' + 4k + 4k' + 1 = 4(4kk' + k + k') + 1$\n",
    "\n",
    "$\\blacksquare$"
   ]
  },
  {
   "cell_type": "markdown",
   "metadata": {},
   "source": [
    "---"
   ]
  },
  {
   "cell_type": "markdown",
   "metadata": {},
   "source": [
    "3ii\n",
    "\n",
    "Show that if $m$ and $n$ are members of $\\mathbb{N}$ and $mn$ is of the form $4k - 1$ then so is one of $m$ and $n$."
   ]
  },
  {
   "cell_type": "markdown",
   "metadata": {},
   "source": [
    "$mn = 4k - 1$"
   ]
  },
  {
   "cell_type": "markdown",
   "metadata": {},
   "source": [
    "---"
   ]
  },
  {
   "cell_type": "markdown",
   "metadata": {},
   "source": [
    "3iii\n",
    "\n",
    "Show that every member of $\\mathbb{N}$ of the form $4k - 1$ has a prime factor of this form."
   ]
  },
  {
   "cell_type": "markdown",
   "metadata": {},
   "source": [
    "---"
   ]
  },
  {
   "cell_type": "markdown",
   "metadata": {},
   "source": [
    "3iv\n",
    "\n",
    "Show that there are infinitely many primes of the form $4k - 1$."
   ]
  },
  {
   "cell_type": "markdown",
   "metadata": {},
   "source": [
    "---"
   ]
  },
  {
   "cell_type": "markdown",
   "metadata": {},
   "source": [
    "4\n",
    "\n",
    "Find all solutions $x, y \\in \\mathbb{Z}$ to the equation $x^2 - y^2 = 105$."
   ]
  },
  {
   "cell_type": "markdown",
   "metadata": {},
   "source": [
    "---"
   ]
  },
  {
   "cell_type": "markdown",
   "metadata": {},
   "source": [
    "5\n",
    "\n",
    "Show that if $ad - bc = \\pm 1$ then $\\gcd(a + b, c + d) = 1$."
   ]
  },
  {
   "cell_type": "markdown",
   "metadata": {},
   "source": [
    "---"
   ]
  }
 ],
 "metadata": {
  "language_info": {
   "name": "python"
  }
 },
 "nbformat": 4,
 "nbformat_minor": 2
}
