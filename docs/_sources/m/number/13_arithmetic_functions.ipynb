{
 "cells": [
  {
   "cell_type": "markdown",
   "metadata": {},
   "source": [
    "# Arithmetic Functions\n",
    "```{contents}\n",
    "```"
   ]
  },
  {
   "cell_type": "markdown",
   "metadata": {},
   "source": [
    "---"
   ]
  },
  {
   "cell_type": "markdown",
   "metadata": {},
   "source": [
    "### Arithmetic Function"
   ]
  },
  {
   "cell_type": "markdown",
   "metadata": {},
   "source": [
    "<span style=\"color: #0096FF;\"><b>ARITHMETIC FUNCTION</b></span>\n",
    "<fieldset style=\"border: 2px solid #0096FF; border-radius: 5px; display: inline-block; margin: 10px; padding: 15px 20px 0 20px;\">\n",
    "<div style=\"color: #0096FF;\">\n",
    "\n",
    "A function $f$ defined on $\\mathbb{N}$ is called arithmetic.\n",
    "\n",
    "$f : \\mathbb{N} \\to \\mathbb{C}$\n",
    "</div>\n",
    "</fieldset>"
   ]
  },
  {
   "cell_type": "markdown",
   "metadata": {},
   "source": [
    "---"
   ]
  },
  {
   "cell_type": "markdown",
   "metadata": {},
   "source": [
    "### Additive Function"
   ]
  },
  {
   "cell_type": "markdown",
   "metadata": {},
   "source": [
    "<span style=\"color: #0096FF;\"><b>ADDITIVE FUNCTION</b></span>\n",
    "<fieldset style=\"border: 2px solid #0096FF; border-radius: 5px; display: inline-block; margin: 10px; padding: 15px 20px 0 20px;\">\n",
    "<div style=\"color: #0096FF;\">\n",
    "\n",
    "An arithmetic function $f$ is called additive if\n",
    "\n",
    "$f(mn) = f(m) + f(n)$\n",
    "\n",
    "for all $m$ and $n$ with $\\gcd(m, n) = 1$.\n",
    "</div>\n",
    "</fieldset>\n",
    "\n",
    "Being __completely additive__ means that the coprime condition can be dispensed with.\n",
    "\n",
    "The prime omega function $\\omega(n)$ is additive and the prime omega function $\\Omega(n)$ is completely additive."
   ]
  },
  {
   "cell_type": "markdown",
   "metadata": {},
   "source": [
    "---"
   ]
  },
  {
   "cell_type": "markdown",
   "metadata": {},
   "source": [
    "### Multiplicative Function"
   ]
  },
  {
   "cell_type": "markdown",
   "metadata": {},
   "source": [
    "<span style=\"color: #0096FF;\"><b>MULTIPLICATIVE FUNCTION</b></span> [Vaughan Definition 3.13]\n",
    "<fieldset style=\"border: 2px solid #0096FF; border-radius: 5px; display: inline-block; margin: 10px; padding: 15px 20px 0 20px;\">\n",
    "<div style=\"color: #0096FF;\">\n",
    "\n",
    "If an arithmetical function $f$ satisfies\n",
    "\n",
    "$f(mn) = f(m) f(n)$\n",
    "\n",
    "whenever $\\gcd(m, n) = 1$ then $f$ is called multiplicative.\n",
    "</div>\n",
    "</fieldset>\n",
    "\n",
    "Being __completely multiplicative__ means that the coprime condition can be dispensed with.\n",
    "\n",
    "The divisor function $d(n)$ is multiplicative and $\\sqrt{n}$ is completely multiplicative.\n",
    "\n",
    "Besides the zero function a multiplicative function $f$ satisfies $f(1) = 1$ and $f(n)$ is then determined by the values it takes at the prime powers\n",
    "\n",
    "$f(n) = f(p_1^{a_1} p_2^{a_2} \\dots p_k^{a_k}) = f(p_1^{a_1}) f(p_2^{a_2}) \\dots f(p_k^{a_k})$ with $p_i \\in \\mathbb{P}$ and $a_i \\in \\mathbb{N}$"
   ]
  },
  {
   "cell_type": "markdown",
   "metadata": {},
   "source": [
    "---"
   ]
  },
  {
   "cell_type": "markdown",
   "metadata": {},
   "source": [
    "## Prime Omega Functions"
   ]
  },
  {
   "cell_type": "markdown",
   "metadata": {},
   "source": [
    "The prime omega functions $\\omega(n)$ and $\\Omega(n)$ are additive and completely additive arithmetic functions, respectively, which count the number of prime factors of a natural number.\n",
    "\n",
    "<span style=\"color: #0096FF;\"><b>PRIME OMEGA FUNCTIONS</b></span>\n",
    "<fieldset style=\"border: 2px solid #0096FF; border-radius: 5px; display: inline-block; margin: 10px; padding: 15px 20px 0 20px;\">\n",
    "<div style=\"color: #0096FF;\">\n",
    "\n",
    "Suppose we have a prime factorization of $n$ of the form\n",
    "\n",
    "$n = p_1^{\\alpha_1} p_2^{\\alpha_2} \\dots p_k^{\\alpha_k}$\n",
    "\n",
    "for distinct primes $p_i$ with $1 \\le i \\le k$.\n",
    "\n",
    "Then $\\omega(n)$ counts the number of distinct prime factors.\n",
    "\n",
    "$\n",
    "\\begin{aligned}\n",
    "\\omega(n) = k = \\sum_{p \\mid n} 1 \\\\\n",
    "\\end  {aligned}\n",
    "$\n",
    "\n",
    "And $\\Omega(n)$ counts the total number of prime factors, honoring their multiplicity.\n",
    "\n",
    "$\n",
    "\\begin{aligned}\n",
    "\\Omega(n)\n",
    "= \\sum_{i=1}^k \\alpha_i\n",
    "= \\sum_{p^\\alpha \\mid n} 1\n",
    "= \\sum_{p^\\alpha \\| n} \\alpha \\\\\n",
    "\\end  {aligned}\n",
    "$\n",
    "</div>\n",
    "</fieldset>\n",
    "\n",
    "$\\omega(n) \\le \\Omega(n)$\n",
    "\n",
    "If $\\omega(n) = 1$ then $n$ is a prime power and if $\\Omega(n) = 1$ then $n$ is a prime."
   ]
  },
  {
   "cell_type": "markdown",
   "metadata": {},
   "source": [
    "<span style=\"color: #50C878;\"><b>EXAMPLE</b></span>\n",
    "\n",
    "$\n",
    "\\begin{aligned}\n",
    "n  &                              && \\omega(n) && \\Omega(n) \\\\ \\hline\n",
    " 2 &=  2^1                        && 1         && 1 \\\\\n",
    " 3 &=  3^1                        && 1         && 1 \\\\\n",
    " 4 &=  2^2                        && 1         && 2 \\\\\n",
    " 5 &=  5^1                        && 1         && 1 \\\\\n",
    " 6 &=  2^1 \\times  3^1            && 2         && 2 \\\\\n",
    " 7 &=  7^1                        && 1         && 1 \\\\\n",
    " 8 &=  2^3                        && 1         && 3 \\\\\n",
    " 9 &=  3^2                        && 1         && 2 \\\\\n",
    "10 &=  2^1 \\times  5^1            && 2         && 2 \\\\\n",
    "11 &= 11^1                        && 1         && 1 \\\\\n",
    "12 &=  2^2 \\times  3^1            && 2         && 3 \\\\\n",
    "13 &= 13^1                        && 1         && 1 \\\\\n",
    "14 &=  7^2                        && 1         && 2 \\\\\n",
    "15 &=  3^1 \\times  5^1            && 2         && 2 \\\\\n",
    "16 &=  2^4                        && 1         && 4 \\\\\n",
    "17 &= 17^1                        && 1         && 1 \\\\\n",
    "18 &=  2^1 \\times  3^2            && 2         && 3 \\\\\n",
    "19 &= 19^1                        && 1         && 1 \\\\\n",
    "20 &=  2^2 \\times  5^1            && 2         && 3 \\\\\n",
    "21 &=  3^1 \\times  7^1            && 2         && 2 \\\\\n",
    "22 &=  2^1 \\times 11^1            && 2         && 2 \\\\\n",
    "23 &= 23^1                        && 1         && 1 \\\\\n",
    "24 &=  2^3 \\times  3^1            && 2         && 4 \\\\\n",
    "25 &=  5^2                        && 1         && 2 \\\\\n",
    "26 &=  2^1 \\times 13^1            && 2         && 2 \\\\\n",
    "27 &=  3^3                        && 1         && 3 \\\\\n",
    "28 &=  2^2 \\times  7^1            && 2         && 3 \\\\\n",
    "29 &= 29^1                        && 1         && 1 \\\\\n",
    "30 &=  2^1 \\times  3^1 \\times 5^1 && 3         && 3 \\\\\n",
    "\\end  {aligned}\n",
    "$"
   ]
  },
  {
   "cell_type": "markdown",
   "metadata": {},
   "source": [
    "---"
   ]
  },
  {
   "cell_type": "markdown",
   "metadata": {},
   "source": [
    "## Sum Function"
   ]
  },
  {
   "cell_type": "markdown",
   "metadata": {},
   "source": [
    "<span style=\"color: #0096FF;\"><b>SUM FUNCTION</b></span>\n",
    "<fieldset style=\"border: 2px solid #0096FF; border-radius: 5px; display: inline-block; margin: 10px; padding: 15px 20px 0 20px;\">\n",
    "<div style=\"color: #0096FF;\">\n",
    "\n",
    "Let\n",
    "\n",
    "$\n",
    "\\begin{aligned}\n",
    "\\sum_{d \\mid n}\n",
    "\\end  {aligned}\n",
    "$\n",
    "\n",
    "denote summation over the divisors of $n$ so that for a given arithmetic function $f(n)$ we have a new function called the sum function $F(n)$ defined by\n",
    "\n",
    "$\n",
    "\\begin{aligned}\n",
    "F(n) =\n",
    "\\sum_{d \\mid n} f(d)\n",
    "\\end  {aligned}\n",
    "$\n",
    "</div>\n",
    "</fieldset>"
   ]
  },
  {
   "cell_type": "markdown",
   "metadata": {},
   "source": [
    "---"
   ]
  }
 ],
 "metadata": {
  "language_info": {
   "name": "python"
  }
 },
 "nbformat": 4,
 "nbformat_minor": 2
}
