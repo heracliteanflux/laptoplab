{
 "cells": [
  {
   "cell_type": "markdown",
   "metadata": {},
   "source": [
    "# Division"
   ]
  },
  {
   "cell_type": "markdown",
   "metadata": {},
   "source": [
    "---\n",
    "---\n",
    "---"
   ]
  },
  {
   "cell_type": "markdown",
   "metadata": {},
   "source": [
    "## Contents\n",
    "```{contents}\n",
    "```"
   ]
  },
  {
   "cell_type": "markdown",
   "metadata": {},
   "source": [
    "---\n",
    "---\n",
    "---"
   ]
  },
  {
   "cell_type": "markdown",
   "metadata": {},
   "source": [
    "## Summary of important results"
   ]
  },
  {
   "cell_type": "markdown",
   "metadata": {},
   "source": [
    "$\n",
    "\\begin{aligned}\n",
    "& \\gcd(a, b) \\mid a \\\\\n",
    "& \\gcd(a, b) \\mid b \\\\\n",
    "& c \\mid a \\land c \\mid b \\implies c \\mid \\gcd(a, b) \\\\\n",
    "& \\gcd \\left( \\frac{a}{\\gcd(a, b)}, \\frac{b}{\\gcd(a, b)} \\right) = 1 \\\\\n",
    "& \\gcd(a + by, b) = \\gcd(a, b) \\\\\n",
    "\\end  {aligned}\n",
    "$\n",
    "\n",
    "$\\gcd(a, b) = p_1^{\\min(r_1, s_1)} \\dots p_k^{\\min(r_k, s_k)}$\n",
    "\n",
    "$\n",
    "\\text{lcm}[a, b] = \\frac{ab}{\\gcd(a, b)} = p_1^{\\max(r_1, s_1)} \\dots p_k^{\\max(r_k, s_k)}\n",
    "$"
   ]
  },
  {
   "cell_type": "markdown",
   "metadata": {},
   "source": [
    "---\n",
    "---\n",
    "---"
   ]
  },
  {
   "cell_type": "markdown",
   "metadata": {},
   "source": [
    "## Division"
   ]
  },
  {
   "cell_type": "markdown",
   "metadata": {},
   "source": [
    "<span style=\"color: #0096FF;\"><b>DIVISION</b></span>\n",
    "\n",
    "<div style=\"color: #0096FF;\">\n",
    "\n",
    "Let $a$ and $b$ be integers with $a \\ne 0$. We say that $a$ _divides_ $b$ when there is an integer $c$ such that $ac = b$ (or equivalently if $b/a$ is an integer) and we write $a \\mid b$.\n",
    "</div>\n",
    "\n",
    "We say that $a$ is a _divisor_ of $b$ and that $b$ is a _multiple_ of $a$.\n",
    "\n",
    "$a \\mid b$ can be expressed as $\\exists c (ac = b)$ where the universe of discourse is the set of integers.\n",
    "\n",
    "$\\pm 1, \\pm n$ are called the _trivial_ divisors of $n$. Otherwise a divisor $d$ with $1 \\lt |d| \\lt n$ is non-trivial or _proper_.\n",
    "\n",
    "Although divisors may be negative, we usually only speak of positive divisors."
   ]
  },
  {
   "cell_type": "markdown",
   "metadata": {},
   "source": [
    "<span style=\"color: #50C878;\"><b>Example</b></span>\n",
    "\n",
    "List the divisors $d$ of $1$.\n",
    "\n",
    "$\n",
    "\\begin{aligned}\n",
    " d \\mid 1 &&  d & \\times \\phantom{-}k \\\\ \\hline\n",
    "-1 \\mid 1 && -1 & \\times -1 \\\\\n",
    " 1 \\mid 1 &&  1 & \\times \\phantom{-}1 \\\\\n",
    "\\end  {aligned}\n",
    "$"
   ]
  },
  {
   "cell_type": "markdown",
   "metadata": {},
   "source": [
    "<span style=\"color: #50C878;\"><b>Example</b></span>\n",
    "\n",
    "List the divisors $d$ of $6$.\n",
    "\n",
    "$\n",
    "\\begin{aligned}\n",
    " d \\mid 6 &&  d & \\times \\phantom{-}k \\\\ \\hline\n",
    "-6 \\mid 6 && -6 & \\times -1 \\\\\n",
    "-3 \\mid 6 && -3 & \\times -2 \\\\\n",
    "-2 \\mid 6 && -2 & \\times -3 \\\\\n",
    "-1 \\mid 6 && -1 & \\times -6 \\\\\n",
    " 1 \\mid 6 &&  1 & \\times \\phantom{-}6 \\\\\n",
    " 2 \\mid 6 &&  2 & \\times \\phantom{-}3 \\\\\n",
    " 3 \\mid 6 &&  3 & \\times \\phantom{-}2 \\\\\n",
    " 6 \\mid 6 &&  6 & \\times \\phantom{-}1 \\\\\n",
    "\\end  {aligned}\n",
    "$"
   ]
  },
  {
   "cell_type": "markdown",
   "metadata": {},
   "source": [
    "---"
   ]
  },
  {
   "cell_type": "markdown",
   "metadata": {},
   "source": [
    "<span style=\"color: #0096FF;\"><b>Claim</b></span>\n",
    "\n",
    "$\\pm1$ divide every integer.\n",
    "\n",
    "<span style=\"color: #0096FF;\"><b>Proof</b></span>\n",
    "\n",
    "Let $a$ be any integer.\n",
    "\n",
    "Suppose $\\phantom{-}1 \\mid a$. Then there is an integer $k$ such that $\\phantom{-}1 \\times k = a$, namely $\\phantom{-}a$ itself.\n",
    "\n",
    "Suppose $-1 \\mid a$. Then there is an integer $k$ such that $-1 \\times k = a$, namely $-a$.\n",
    "\n",
    "$\\blacksquare$"
   ]
  },
  {
   "cell_type": "markdown",
   "metadata": {},
   "source": [
    "---"
   ]
  },
  {
   "cell_type": "markdown",
   "metadata": {},
   "source": [
    "<span style=\"color: #0096FF;\"><b>Claim</b></span>\n",
    "\n",
    "Every <span style=\"color: red;\">nonzero</span> integer $a$ and its negation $-a$ divides itself.\n",
    "\n",
    "<span style=\"color: #0096FF;\"><b>Proof</b></span>\n",
    "\n",
    "Let $a$ be a <span style=\"color: red;\">nonzero</span> integer.\n",
    "\n",
    "Suppose $\\phantom{-}a \\mid a$. Then there is an integer $k$ such that $\\phantom{-}ak = a$, namely $\\phantom{-}1$.\n",
    "\n",
    "Suppose $-a \\mid a$. Then there is an integer $k$ such that $-ak = a$, namely $-1$.\n",
    "\n",
    "$\\blacksquare$"
   ]
  },
  {
   "cell_type": "markdown",
   "metadata": {},
   "source": [
    "---"
   ]
  },
  {
   "cell_type": "markdown",
   "metadata": {},
   "source": [
    "<span style=\"color: #0096FF;\"><b>Claim</b></span>\n",
    "\n",
    "Every <span style=\"color: red;\">nonzero</span> integer divides zero.\n",
    "\n",
    "<span style=\"color: #0096FF;\"><b>Proof</b></span>\n",
    "\n",
    "Suppose $a$ is a <span style=\"color: red;\">nonzero</span> integer and $a \\mid 0$. Then there is an integer $k$ such that $ak = 0$, namely $0$ itself.\n",
    "\n",
    "$\\blacksquare$"
   ]
  },
  {
   "cell_type": "markdown",
   "metadata": {},
   "source": [
    "<span style=\"color: #0096FF;\"><b>Claim</b></span>\n",
    "\n",
    "<div style=\"color: red;\">\n",
    "\n",
    "$0a = 0$ for any $a$.\n",
    "</div>"
   ]
  },
  {
   "cell_type": "markdown",
   "metadata": {},
   "source": [
    "---"
   ]
  },
  {
   "cell_type": "markdown",
   "metadata": {},
   "source": [
    "<span style=\"color: #0096FF;\"><b>Claim</b></span>\n",
    "\n",
    "<div style=\"color: #0096FF;\">\n",
    "\n",
    "Zero does not divide any integer.\n",
    "</div>\n",
    "\n",
    "Zero division is undefined.\n",
    "\n",
    "<span style=\"color: red;\">Does it make sense to give a proof like the following?</span>\n",
    "\n",
    "<span style=\"color: #0096FF;\"><b>Proof</b></span>\n",
    "\n",
    "<div style=\"color: red;\">\n",
    "\n",
    "Suppose $0 \\mid a$ with $a \\ne 0$. Then there exists an integer $k$ such that $0k = a$. This equation requires $a$ be $0$.\n",
    "\n",
    "Suppose $0 \\mid a$ with $a = 0$. Then there exists an integer $k$ such that $0k = 0$. This equation is true for any integer $k$.\n",
    "\n",
    "Suppose $k = 1$. Then $k = 1 = \\frac{0}{0} = \\frac{0 + 0}{0} = \\frac{0}{0} + \\frac{0}{0} = 1 + 1 = 2$\n",
    "</div>\n",
    "\n",
    "$\\blacksquare$"
   ]
  },
  {
   "cell_type": "markdown",
   "metadata": {},
   "source": [
    "---"
   ]
  },
  {
   "cell_type": "markdown",
   "metadata": {},
   "source": [
    "<span style=\"color: #0096FF;\"><b>Claim</b></span>\n",
    "\n",
    "Let $a$ and $b$ be <span style=\"color: red;\">nonzero</span> integers. If $a \\mid b$ and $b \\mid a$ then $a = \\pm b$.\n",
    "\n",
    "\"If two integers divide each other then they are equal up to parity.\"\n",
    "\n",
    "<span style=\"color: #0096FF;\"><b>Proof</b></span>\n",
    "\n",
    "Suppose $a \\mid b$ and $b \\mid a$. Then there exist integers $m$ and $n$ such that $am = b$ and\n",
    "\n",
    "$a = bn = (am)n = a(mn) \\implies 1 = mn \\implies m = n = \\pm 1$\n",
    "\n",
    "Suppose $m = n = \\phantom{-}1$. Then $a = \\phantom{-}b$.\n",
    "\n",
    "Suppose $m = n = -1$. Then $a = -b$.\n",
    "\n",
    "$\\blacksquare$"
   ]
  },
  {
   "cell_type": "markdown",
   "metadata": {},
   "source": [
    "<span style=\"color: #0096FF;\"><b>Claim</b></span>\n",
    "\n",
    "If $ab = 1$ then $a = b = \\pm 1$."
   ]
  },
  {
   "cell_type": "markdown",
   "metadata": {},
   "source": [
    "---"
   ]
  },
  {
   "cell_type": "markdown",
   "metadata": {},
   "source": [
    "<span style=\"color: #0096FF;\"><b>Claim</b></span>\n",
    "\n",
    "Let $a$, $b$, and $c$ be integers with $c \\ne 0$.\n",
    "\n",
    "$ac \\mid bc$ iff $a \\mid b$.\n",
    "\n",
    "<span style=\"color: #0096FF;\"><b>Proof</b></span>\n",
    "\n",
    "Suppose $ac \\mid bc$. Then there is an integer $k$ such that $ack = bc \\implies ak = b \\implies a \\mid b$.\n",
    "\n",
    "Suppose $a \\mid b$. Then there is an integer $k$ such that $ak = b \\implies ack = bc \\implies ac \\mid bc$.\n",
    "\n",
    "$\\blacksquare$"
   ]
  },
  {
   "cell_type": "markdown",
   "metadata": {},
   "source": [
    "<span style=\"color: #0096FF;\"><b>Claim</b></span>\n",
    "\n",
    "Let $a$, $b$, and $c$ be integers.\n",
    "\n",
    "If $a \\mid b$ then $a \\mid bc$.\n",
    "\n",
    "<span style=\"color: #0096FF;\"><b>Proof</b></span>\n",
    "\n",
    "Suppose $a \\mid b$. Then there is an integer $k$ such that $ak = b \\implies a(ck) = bc \\implies a \\mid bc$.\n",
    "\n",
    "$\\blacksquare$"
   ]
  },
  {
   "cell_type": "markdown",
   "metadata": {},
   "source": [
    "<span style=\"color: #0096FF;\"><b>Claim</b></span>\n",
    "\n",
    "If $ac = ad$ with $a \\ne 0$ then $c = d$."
   ]
  },
  {
   "cell_type": "markdown",
   "metadata": {},
   "source": [
    "---"
   ]
  },
  {
   "cell_type": "markdown",
   "metadata": {},
   "source": [
    "<span style=\"color: #0096FF;\"><b>Claim</b></span>\n",
    "\n",
    "Let $a$, $b$, and $c$ be integers. If $a \\mid b$ and $b \\mid c$ then $a \\mid c$.\n",
    "\n",
    "<span style=\"color: #0096FF;\"><b>Proof</b></span>\n",
    "\n",
    "Suppose $a \\mid b$ and $b \\mid c$. Then there are integers $d$ and $e$ such that $b = ad$ and\n",
    "\n",
    "$c = be = (ad)e = a(de)$\n",
    "\n",
    "$\\blacksquare$\n",
    "\n",
    "Let $a_1, a_2, \\dotsc, a_n$ be integers. If $a_1 \\mid a_2, a_2 \\mid a_3, \\dotsc, a_{n - 1} \\mid a_n$ then $a_1 \\mid a_n$."
   ]
  },
  {
   "cell_type": "markdown",
   "metadata": {},
   "source": [
    "---"
   ]
  },
  {
   "cell_type": "markdown",
   "metadata": {},
   "source": [
    "<span style=\"color: #0096FF;\"><b>Claim</b></span>\n",
    "\n",
    "Let $a$, $b$, $c$, $x$, $y$ be integers with $a \\ne 0$.\n",
    "\n",
    "If $a \\mid b$ and $a \\mid c$ then $a \\mid (bx + cy)$.\n",
    "\n",
    "<span style=\"color: #0096FF;\"><b>Proof</b></span>\n",
    "\n",
    "Suppose $a \\mid b$ and $a \\mid c$. Then there are integers $m$ and $n$ such that $am = b$ and $an = c$.\n",
    "\n",
    "$\n",
    "\\begin{aligned}\n",
    "b  + c  &= am  + an  = a(m + n)   &&\\implies a \\mid (b + c) \\\\\n",
    "bx + cy &= amx + any = a(mx + ny) &&\\implies a \\mid (bx + cy) \\\\\n",
    "\\end  {aligned}\n",
    "$\n",
    "\n",
    "$\\blacksquare$\n",
    "\n",
    "$\\forall a, b_i \\in \\mathbb{Z} \\,\\, , \\,\\, i \\in \\{ 1, \\dots, n \\} \\,\\, [ \\,\\, (a \\mid b_1 \\land \\dots \\land a \\mid b_n) \\implies a \\mid \\sum_{j = 1}^n b_jx_j \\,\\, ]$"
   ]
  },
  {
   "cell_type": "markdown",
   "metadata": {},
   "source": [
    "---"
   ]
  },
  {
   "cell_type": "markdown",
   "metadata": {},
   "source": [
    "<span style=\"color: #0096FF;\"><b>Claim</b></span>\n",
    "\n",
    "Let $a$ and $b$ be nonzero integers.\n",
    "\n",
    "If $a \\mid b$ then $|a| \\le |b|$.\n",
    "\n",
    "<span style=\"color: #0096FF;\"><b>Proof</b></span>\n",
    "\n",
    "Suppose $a \\mid b$. Then there is an integer $k$ such that $ak = b$.\n",
    "\n",
    "$ak = b \\implies |ak| = |b| = |a||k| = |b|$\n",
    "\n",
    "Since $b$ is nonzero this excludes the possibility that $|k| = 0$. Thus\n",
    "\n",
    "$1 \\le |k| \\implies |a| \\le |a||k| = |b|$\n",
    "\n",
    "$\\blacksquare$"
   ]
  },
  {
   "cell_type": "markdown",
   "metadata": {},
   "source": [
    "---"
   ]
  },
  {
   "cell_type": "markdown",
   "metadata": {},
   "source": [
    "<span style=\"color: #0096FF;\"><b>Claim</b></span>\n",
    "\n",
    "The Fibonacci sequence is defined as follows.\n",
    "\n",
    "$\n",
    "F :=\n",
    "\\begin{cases}\n",
    "F_1 &= 1 \\\\\n",
    "F_2 &= 1 \\\\\n",
    "F_{n + 1} &= F_n + F_{n - 1} && n \\in \\{ 2, 3, \\dots \\} \\\\\n",
    "\\end{cases}\n",
    "$\n",
    "\n",
    "If $m$ divides both $F_n$ and $F_{n + 1}$ then $m = 1$.\n",
    "\n",
    "<span style=\"color: #0096FF;\"><b>Proof by induction</b></span>\n",
    "\n",
    "Suppose $m \\mid F_2$ and $m \\mid F_3$. Then there are integers $s$ and $t$ such that $ms = F_2 = 1$ and $mt = F_3 = 2$\n",
    "\n",
    "$ms = 1 \\implies m = 1$\n",
    "\n",
    "Suppose $m \\mid F_n$ and $m \\mid F_{n + 1}$. Then there are integers $s$ and $t$ such that $ms = F_n$ and\n",
    "\n",
    "$mt = F_{n + 1} = F_n + F_{n - 1} = ms + F_{n - 1} \\implies F_{n - 1} = mt - ms = m(t - s)$\n",
    "\n",
    "$m \\mid F_{n - 1} \\implies m = 1$\n",
    "\n",
    "$\\blacksquare$"
   ]
  },
  {
   "cell_type": "markdown",
   "metadata": {},
   "source": [
    "---"
   ]
  },
  {
   "cell_type": "markdown",
   "metadata": {},
   "source": [
    "<span style=\"color: #0096FF;\"><b>Claim</b></span>\n",
    "\n",
    "If $n$ is odd then $8 \\mid (n^2 - 1)$.\n",
    "\n",
    "<span style=\"color: #0096FF;\"><b>Proof</b></span>\n",
    "\n",
    "$n$ has the form $2k + 1$ for some integer $k$.\n",
    "\n",
    "$n = 2k + 1 \\implies n^2 = 4k^2 + 4k + 1 \\implies n^2 - 1 = 4k(k + 1)$\n",
    "\n",
    "One of $k$ and $k + 1$ is even and one is odd and so their product $k(k + 1)$ is even and has the form $2m$ for some integer $m$.\n",
    "\n",
    "$k(k + 1) = 2m$ so $n^2 - 1 = 4(2m) = n^2 - 1 = 8m \\implies 8 \\mid (n^2 - 1)$\n",
    "\n",
    "$\\blacksquare$"
   ]
  },
  {
   "cell_type": "markdown",
   "metadata": {},
   "source": [
    "---"
   ]
  },
  {
   "cell_type": "markdown",
   "metadata": {},
   "source": [
    "<span style=\"color: #0096FF;\"><b>Claim</b></span>\n",
    "\n",
    "If $m$ and $n$ are integers of the form $4k + 1$ then so is $mn$.\n",
    "\n",
    "<span style=\"color: #0096FF;\"><b>Proof</b></span>\n",
    "\n",
    "Suppose $m = 4s + 1$ and $n = 4t + 1$ for some integers $s$ and $t$.\n",
    "\n",
    "$mn = (4s + 1)(4t + 1) = 16st + 4s + 4t + 1 = 4(4st + s + t) + 1$\n",
    "\n",
    "$\\blacksquare$"
   ]
  },
  {
   "cell_type": "markdown",
   "metadata": {},
   "source": [
    "---"
   ]
  },
  {
   "cell_type": "markdown",
   "metadata": {},
   "source": [
    "<span style=\"color: #0096FF;\"><b>Claim</b></span>\n",
    "\n",
    "If $mn$ is of the form $4k - 1$ then so is one of $m$ or $n$.\n",
    "\n",
    "<span style=\"color: #0096FF;\"><b>Proof</b></span>\n",
    "\n",
    "Suppose $mn = 4k - 1$ for some integer $k$.\n",
    "\n",
    "$mn = 4(4st + s - t) - 1 = 16st + 4s - 4t - 1 = (4s - 1)(4t + 1)$\n",
    "\n",
    "$\\blacksquare$\n",
    "\n",
    "<span style=\"color: #0096FF;\"><b>Proof by contraposition</b></span>\n",
    "\n",
    "Suppose both $m$ and $n$ are even.\n",
    "\n",
    "$mn = 2s \\times 2t = 4k$ with $k = st$\n",
    "\n",
    "$\\blacksquare$"
   ]
  },
  {
   "cell_type": "markdown",
   "metadata": {},
   "source": [
    "---"
   ]
  },
  {
   "cell_type": "markdown",
   "metadata": {},
   "source": [
    "<span style=\"color: #0096FF;\"><b>Claim</b></span>\n",
    "\n",
    "$\\sqrt{2}$ is irrational.\n",
    "\n",
    "<span style=\"color: #0096FF;\"><b>Proof by contradiction</b></span>\n",
    "\n",
    "Let $\\sqrt{2} = \\frac{m}{n}$ where $m$ and $n$ are integers and the fraction is reduced (i.e., $m$ and $n$ have no common divisors larger than $1$).\n",
    "\n",
    "$\n",
    "\\begin{aligned}\n",
    "\\sqrt{2} &= \\frac{m}{n} && \\text{hypothesis} \\\\\n",
    "2 &= \\frac{m^2}{n^2} \\\\\n",
    "2n^2 &= m^2 \\\\\n",
    "2 &\\mid m^2 \\\\\n",
    "2 \\mid m^2 &\\rightarrow 2 \\mid m \\\\\n",
    "2 &\\mid m && \\text{modus ponens} \\\\\n",
    "2 \\mid m^2 &\\rightarrow 4 \\mid m^2 \\\\\n",
    "4 &\\mid m^2 && \\text{modus ponens} \\\\\n",
    "4 &\\mid 2n^2 \\\\\n",
    "2 &\\mid n^2 \\\\\n",
    "2 \\mid n^2 &\\rightarrow 2 \\mid n \\\\\n",
    "2 &\\mid n && \\text{modus ponens} \\\\\n",
    "2 \\mid m &\\land 2 \\mid n && \\text{contradiction, m and n have no common divisors larger than 1} \\\\\n",
    "\\end{aligned}\n",
    "$\n",
    "\n",
    "$\\blacksquare$"
   ]
  },
  {
   "cell_type": "markdown",
   "metadata": {},
   "source": [
    "---"
   ]
  },
  {
   "cell_type": "markdown",
   "metadata": {},
   "source": [
    "Let $x$ and $y$ be integers. Find all integral solutions to the equation $x^2 - y^2 = 105$.\n",
    "\n",
    "> $x^2 - y^2 = (x - y)(x + y) = 3 \\cdot 5 \\cdot 7 = 105$  \n",
    ">  \n",
    "> $x - y = 1 \\implies x + y = 3 \\cdot 5 \\cdot 7$  \n",
    ">> $x = y + 1 \\implies y = \\frac{3 \\cdot 5 \\cdot 7 - 1}{2} = 52 \\implies x = 53$  \n",
    ">> $(53 - 52)(53 + 52) = 1 \\cdot 105$  \n",
    ">  \n",
    "> $x - y = 3 \\implies x + y = 5 \\cdot 7$  \n",
    ">> $x = y + 3 \\implies y = \\frac{5 \\cdot 7 - 3}{2} = 16 \\implies x = 19$  \n",
    ">> $(19 - 16)(16 + 19) = 3 \\cdot 35$\n",
    ">  \n",
    "> $x - y = 5 \\implies x + y = 3 \\cdot 7$  \n",
    ">> $x = y + 5 \\implies y = \\frac{3 \\cdot 7 - 5}{2} = 8 \\implies x = 13$  \n",
    ">> $(13 - 8)(13 + 8) \\implies 5 \\cdot 21$\n",
    ">  \n",
    "> $x - y = 7 \\implies x + y = 3 \\cdot 5$  \n",
    ">> $x = y + 7 \\implies y = \\frac{3 \\cdot 5 - 7}{2} = 4 \\implies x = 11$  \n",
    ">> $(11 - 4)(11 + 4) \\implies 7 \\cdot 15$  \n",
    ">  \n",
    ">  $(1, 105)$  \n",
    ">  $(-1, 105)$  \n",
    ">  $(1, -105)$  \n",
    ">  $(-1, -105)$  \n",
    ">  $(3, 35)$  \n",
    ">  $(-3, 35)$  \n",
    ">  $(3, -35)$  \n",
    ">  $(-3, -35)$  \n",
    ">  $(5, 21)$  \n",
    ">  $(-5, 21)$  \n",
    ">  $(5, -21)$  \n",
    ">  $(-5, -21)$  \n",
    ">  $(7, 15)$  \n",
    ">  $(-7, 15)$  \n",
    ">  $(7, -15)$  \n",
    ">  $(-7, -15)$  "
   ]
  },
  {
   "cell_type": "markdown",
   "metadata": {},
   "source": [
    "---"
   ]
  },
  {
   "cell_type": "markdown",
   "metadata": {},
   "source": [
    "## Prime"
   ]
  },
  {
   "cell_type": "markdown",
   "metadata": {},
   "source": [
    "<span style=\"color: #0096FF;\"><b>PRIME</b></span>\n",
    "\n",
    "<div style=\"color: #0096FF;\">\n",
    "\n",
    "Let $p$ be a positive integer with $p \\gt 1$. $p$ is called prime if it has exactly two (positive) divisors, $1$ and $p$.\n",
    "</div>\n",
    "\n",
    "(Another way to say this is as follows. A member of $\\mathbb{N}$ greater than $1$ which is only divisible by $1$ and itself is called a prime number $p$.)\n",
    "\n",
    "$1$ is not a prime because it only has one (positive) divisor, and a prime number has exactly two (positive) divisors.\n",
    "\n",
    "The units $\\pm 1$ and the primes have no proper divisors."
   ]
  },
  {
   "cell_type": "markdown",
   "metadata": {},
   "source": [
    "<span style=\"color: #50C878;\"><b>$101$ is a prime number.</b></span>\n",
    "\n",
    "It must be shown that there are no divisors $1 \\lt d \\lt 101$.\n",
    "\n",
    "If $d$ is a divisor then there is an integer $e$ such that $de = 101$.\n",
    "\n",
    "Further, one of $d, e \\le \\sqrt{101}$\n",
    "* If both $d \\gt \\sqrt{101}$ and $e \\gt \\sqrt{101}$ then $de \\gt 101$\n",
    "* If we can't find any factors $\\le \\sqrt{101}$ then $101$ is prime\n",
    "\n",
    "So, we only need to check $1 \\lt d \\lt \\sqrt{101}$ (up to $10$)\n",
    "* So, we only need to check primes $2, 3, 5, 7$\n",
    "* $2$ and $5$ are not divisors"
   ]
  },
  {
   "cell_type": "markdown",
   "metadata": {},
   "source": [
    "<span style=\"color: #0096FF;\"><b>COMPOSITE</b></span>\n",
    "\n",
    "<div style=\"color: #0096FF;\">\n",
    "\n",
    "A positive integer greater than one that is not prime is called composite.\n",
    "\n",
    "In particular let $n$ be a positive integer with $n \\gt 1$. $n$ is called composite if it can be written $n = m_1 m_2$ with $1 \\lt m_1 \\lt n$ and so $1 \\lt m_2 \\lt n$ also.\n",
    "</div>\n",
    "\n",
    "The primes and composites form a partition of the set of positive integers greater than one."
   ]
  },
  {
   "cell_type": "markdown",
   "metadata": {},
   "source": [
    "---"
   ]
  },
  {
   "cell_type": "markdown",
   "metadata": {},
   "source": [
    "<span style=\"color: #0096FF;\"><b>THEOREM</b></span> [Vaughan Theorem 1.4]\n",
    "\n",
    "<div style=\"color: #0096FF;\">\n",
    "\n",
    "Every member $n$ of $\\mathbb{N}^{+}$ (the positive integers) is a product of primes.\n",
    "</div>"
   ]
  },
  {
   "cell_type": "markdown",
   "metadata": {},
   "source": [
    "<span style=\"color: #0096FF;\"><b>Proof by induction on $n$</b></span>\n",
    "\n",
    "<b>Base Case $n = 1$</b>\n",
    "\n",
    "$n = 1$ is an empty product of primes.\n",
    "\n",
    "<b>Inductive Case</b>\n",
    "\n",
    "Suppose any $n \\le a$ is a product of primes.\n",
    "\n",
    "If $n + 1$ is a prime then we are done.\n",
    "\n",
    "If $n + 1$ is not prime then it has a proper divisors $d$ and $\\frac{n + 1}{d}$ with $1 \\lt d, \\frac{n + 1}{d} \\lt n + 1$.\n",
    "\n",
    "But then on the inductive hypothesis both $d$ and $\\frac{n + 1}{d}$ are primes and so $n + 1$ is a product of primes.\n",
    "\n",
    "$\\blacksquare$"
   ]
  },
  {
   "cell_type": "markdown",
   "metadata": {},
   "source": [
    "---"
   ]
  },
  {
   "cell_type": "markdown",
   "metadata": {},
   "source": [
    "## Euclid's Theorem"
   ]
  },
  {
   "cell_type": "markdown",
   "metadata": {},
   "source": [
    "<span style=\"color: #0096FF;\"><b>EUCLID'S THEOREM</b></span> [Vaughan Theorem 1.5]\n",
    "\n",
    "<div style=\"color: #0096FF;\">\n",
    "\n",
    "There are infinitely many primes.\n",
    "</div>"
   ]
  },
  {
   "cell_type": "markdown",
   "metadata": {},
   "source": [
    "To show that there are infinitely many primes, it must be shown that every finite list of primes is missing a prime and so the list of all primes cannot be finite.\n",
    "\n",
    "<span style=\"color: #0096FF;\"><b>Proof by contradiction</b></span>\n",
    "\n",
    "Suppose there are only a finite number of primes $p_1, \\dotsc, p_n$ and consider the number one more than their product $m = p_1 p_2 \\dots p_n + 1$.\n",
    "\n",
    "Clearly $m \\gt 1$ since we already know the first few primes. Thus $m$ is a product of primes by the fundamental theorem of arithmetic, and in particular there is a prime $p$ which divides $m$. $p$ must be one of $p_1, \\dotsc, p_n$, and so $p$ also divides $p_1 p_2 \\dots p_n$. Thus\n",
    "\n",
    "$p \\mid m - p_1 p_2 \\dots p_n = 1$. But no prime divides $1$, so our assumption must have been false.\n",
    "\n",
    "$\\blacksquare$"
   ]
  },
  {
   "cell_type": "markdown",
   "metadata": {},
   "source": [
    "Since $m$ is greater than $1$ it has a prime factor $p$ which can't be any of $p_1, p_2, \\dotsc, p_n$ since $m$ has remainder $1$ when divided by each $p_i$.\n",
    "\n",
    "Euclid's proof tells us that we can always find a prime outside of a finite list of primes $p_1, p_2, \\dotsc, p_n$ by using a prime factor of $p_1p_2 \\dots p_n + 1$, not by using $p_1p_2 \\dots p_n + 1$ itself."
   ]
  },
  {
   "cell_type": "markdown",
   "metadata": {},
   "source": [
    "__Euler's Proof__\n",
    "\n",
    "<div style=\"color: red;\">\n",
    "\n",
    "$S(x) = \\sum_{n \\le x} \\frac{1}{n}$\n",
    "\n",
    "$S(x) \\ge \\sum_{n \\le x} \\int_n^{n + 1} \\frac{dt}{t} \\ge \\int_1^x \\frac{dt}{t} = \\log x$\n",
    "\n",
    "$P(x) = \\prod_{p \\le x} (1 - 1/p)^{-1}$ where the product is over the primes not exceeding $x$\n",
    "\n",
    "$\n",
    "\\begin{aligned}\n",
    "P(x) &= \\prod_{p \\le x} (1 - 1/p)^{-1} \\\\\n",
    "     &= \\prod_{p \\le x} \\left(1 + \\frac{1}{p} + \\frac{1}{p^2} + \\dotsb \\right) \\ge \\sum_{n \\le x} \\frac{1}{n} = S(x) \\ge \\log x\n",
    "\\end  {aligned}\n",
    "$\n",
    "\n",
    "Since $\\log x \\to \\infty$ as $x \\to \\infty$ there must be infinitely many primes.\n",
    "\n",
    "We can be more precise. Take the $\\log$ of both sides of $P(x) \\ge \\log x$\n",
    "\n",
    "$\n",
    "\\begin{aligned}\n",
    "\\log P(x) &\\ge \\log \\log x \\\\\n",
    "\\log \\left( \\prod_{p \\le x} (1 - 1/p)^{-1} \\right) &\\ge \\log \\log x \\\\\n",
    "-\\sum_{p \\le x} \\log (1 - 1/p) &\\ge \\log \\log x \\\\\n",
    "\\sum_{p \\le x} \\sum_{k = 1}^\\infty \\frac{1}{kp^k}\n",
    "\\end  {aligned}\n",
    "$\n",
    "\n",
    "</div>"
   ]
  },
  {
   "cell_type": "markdown",
   "metadata": {},
   "source": [
    "---"
   ]
  },
  {
   "cell_type": "markdown",
   "metadata": {},
   "source": [
    "<span style=\"color: #0096FF;\"><b>Claim</b></span>\n",
    "\n",
    "Every number of the form $4k - 1$ has a prime factor of this form.\n",
    "\n",
    "<span style=\"color: #0096FF;\"><b>Proof by contradiction</b></span>\n",
    "\n",
    "\n",
    "\n",
    "$\\blacksquare$"
   ]
  },
  {
   "cell_type": "markdown",
   "metadata": {},
   "source": [
    "<span style=\"color: #0096FF;\"><b>Claim</b></span>\n",
    "\n",
    "There are infinitely many primes of the form $4k - 1$.\n",
    "\n",
    "<span style=\"color: #0096FF;\"><b>Proof by contradiction</b></span>\n",
    "\n",
    "\n",
    "\n",
    "$\\blacksquare$"
   ]
  },
  {
   "cell_type": "markdown",
   "metadata": {},
   "source": [
    "---"
   ]
  },
  {
   "cell_type": "markdown",
   "metadata": {},
   "source": [
    "## Division Algorithm"
   ]
  },
  {
   "cell_type": "markdown",
   "metadata": {},
   "source": [
    "Division of an integer by a positive integer produces a quotient and a remainder. (Operating on remainders will form the basis of modular arithmetic.)"
   ]
  },
  {
   "cell_type": "markdown",
   "metadata": {},
   "source": [
    "<span style=\"color: #0096FF;\"><b>THEOREM: DIVISION ALGORITHM</b></span>\n",
    "\n",
    "<div style=\"color: #0096FF;\">\n",
    "\n",
    "Let $a$ be an integer and $d$ a positive integer. Then there are <u>unique</u> integers $q$ and $r$ with $0 \\le r \\lt d$ s.t.\n",
    "\n",
    "$a = dq + r$\n",
    "\n",
    "where $d$ is called the __divisor__; $a$ is called the __dividend__; $q$ is called the __quotient__; and $r$ is called the __remainder__.\n",
    "\n",
    "</div>\n",
    "\n",
    "<span style=\"color: #0096FF;\"><b>Proof</b></span>\n",
    "\n",
    "Let $D = \\{ a - dx \\mid x \\in \\mathbb{Z} \\} = \\{ a, a \\pm d, a \\pm 2d, a \\pm 3d, \\dotsc \\}$.\n",
    "\n",
    "No matter what $a$ is, $D$ has at least one non-negative element and so has a least non-negative element $r$.\n",
    "\n",
    "If $a \\ge 0$ then $a \\in D$.\n",
    "\n",
    "If $a \\lt 0$ then $a - d(a - 1) \\gt 0$\n",
    "\n",
    "$\n",
    "\\begin{aligned}\n",
    "-1 - d(-1 - 1) = -1 + 2d \\\\\n",
    "-2 - d(-2 - 1) = -2 + 3d \\\\\n",
    "-3 - d(-3 - 1) = -3 + 4d \\\\\n",
    "\\end  {aligned}\n",
    "$\n",
    "\n",
    "Let $q = x$. Then $a = dq + r$ where $0 \\le r$.\n",
    "\n",
    "Suppose $r \\ge d$. Then $a = dq + r = dq + (d + r - d) = d(q + 1) + (r - d)$ with $0 \\le r - d \\lt r$. Contradiction! $r$ is the least non-negative element of $D$, not $r - d$. Therefore, it must be the case that $r \\lt d$.\n",
    "\n",
    "_Uniqueness_\n",
    "\n",
    "Suppose there is a second solution $a = dq' + r'$ with $0 \\le r' \\lt d$.\n",
    "\n",
    "Then $0 = a - a = (dq' + r') - (dq + r) = d(q' - q) + (r' - r) \\iff d|q' - q| = |r' - r|$.\n",
    "\n",
    "$d \\le d|q' - q|$ and $|r' - r| \\lt d$\n",
    "\n",
    "Contradiction!\n",
    "\n",
    "$\\blacksquare$"
   ]
  },
  {
   "cell_type": "markdown",
   "metadata": {},
   "source": [
    "---"
   ]
  },
  {
   "cell_type": "markdown",
   "metadata": {},
   "source": [
    "The integer $a$ is divisible by the integer $d$ iff the remainder is $0$ when $a$ is divided by $b$:\n",
    "\n",
    "$d \\mid a \\iff a = dq + 0$\n",
    "\n",
    "We can use the following notation to express the quotient and the remainder:\n",
    "\n",
    "$\n",
    "\\begin{aligned}\n",
    "q &= a \\textbf{ div } d \\\\\n",
    "r &= a \\textbf{ mod } d \\\\\n",
    "\\end  {aligned}\n",
    "$\n",
    "\n",
    "When $a$ is an integer and $d$ is a positive integer:\n",
    "\n",
    "$\n",
    "\\begin{aligned}\n",
    "q &= a \\textbf{ div } d &&= \\lfloor a/d \\rfloor \\\\\n",
    "r &= a \\textbf{ mod } d &&= a - d \\lfloor a/d \\rfloor \\\\\n",
    "\\end  {aligned}\n",
    "$\n",
    "\n",
    "If $d$ is fixed then $\\textbf{div}$ and $\\textbf{mod}$ are functions on the set of integers:\n",
    "\n",
    "$\n",
    "\\begin{aligned}\n",
    "\\textbf{div}_d &: \\mathbb{Z} \\to \\mathbb{Z} & \\textbf{div}_d(a) \\mapsto q \\\\\n",
    "\\textbf{mod}_d &: \\mathbb{Z} \\to \\mathbb{N} & \\textbf{mod}_d(a) \\mapsto r \\\\\n",
    "\\end  {aligned}\n",
    "$\n",
    "\n",
    "In programming languages, the modulo operator for $a \\lt 0$ may return $a - d \\lceil a/d \\rceil$ instead of $a \\textbf{ mod } d = a - d \\lfloor a/d \\rfloor$. Also unlike $a \\textbf{ mod } d$ the modulo operator may be defined when $d \\lt 0$, and even when $d = 0$.\n",
    "\n",
    "$\n",
    "\\begin{aligned}\n",
    " 17 & \\textbf{ mod } 3 = &  17 - 3 & \\times \\lfloor \\underset{ 5.\\bar{6}}{\\phantom{-}17/3} \\rfloor = 2 && &  17 &= 3 \\times    5 + 2 \\\\\n",
    "-17 & \\textbf{ mod } 3 = & -17 - 3 & \\times \\lfloor \\underset{-5.\\bar{6}}{          -17/3} \\rfloor = 1 && & -17 &= 3 \\times (-6) + 1 \\\\\n",
    "\\end  {aligned}\n",
    "$"
   ]
  },
  {
   "cell_type": "code",
   "execution_count": 3,
   "metadata": {},
   "outputs": [
    {
     "name": "stdout",
     "output_type": "stream",
     "text": [
      " 2\n",
      " 1\n",
      "-2\n",
      "-1\n"
     ]
    }
   ],
   "source": [
    "print(f'{ 17 %  3:>2}')\n",
    "print(f'{-17 %  3:>2}')\n",
    "print(f'{-17 % -3:>2}')\n",
    "print(f'{ 17 % -3:>2}')"
   ]
  },
  {
   "cell_type": "markdown",
   "metadata": {},
   "source": [
    "---"
   ]
  },
  {
   "cell_type": "code",
   "execution_count": 44,
   "metadata": {},
   "outputs": [
    {
     "name": "stdout",
     "output_type": "stream",
     "text": [
      "-20 = 3 x -7 + 1\n"
     ]
    }
   ],
   "source": [
    "# division via repeated subtraction\n",
    "# positive integers 1 <= d <= n\n",
    "def udiv (n, d):\n",
    "  q, r = 0, n\n",
    "  while r >= d:\n",
    "    r -= d\n",
    "    q += 1\n",
    "  return q, r\n",
    "\n",
    "def div (n, d):\n",
    "  assert(d != 0)\n",
    "  if d < 0:\n",
    "    q, r = udiv(n, -d)\n",
    "    return -q, r\n",
    "  if n < 0:\n",
    "    q, r = div(-n, d)\n",
    "    if r == 0:\n",
    "      return -q, 0\n",
    "    else:\n",
    "      return -q-1, d-r\n",
    "  return udiv(n, d)\n",
    "\n",
    "n = -20\n",
    "d = 3\n",
    "q, r = div(n, d)\n",
    "print(f'{n} = {d} x {q} + {r}')"
   ]
  },
  {
   "cell_type": "markdown",
   "metadata": {},
   "source": [
    "---"
   ]
  },
  {
   "cell_type": "markdown",
   "metadata": {},
   "source": [
    "## GCD"
   ]
  },
  {
   "cell_type": "markdown",
   "metadata": {},
   "source": [
    "---"
   ]
  },
  {
   "cell_type": "markdown",
   "metadata": {},
   "source": [
    "<span style=\"color: #0096FF;\"><b>THEOREM</b></span>\n",
    "\n",
    "<div style=\"color: #0096FF;\">\n",
    "\n",
    "Given two integers $a, b$ not both $0$, define $D(a, b) = \\{ ax + by \\mid x, y \\in \\mathbb{Z} \\}$ Then $D(a, b)$ has positive elements. Let $\\gcd(a, b)$ denote the least positive element. Then $\\gcd(a, b)$ has the following properties.\n",
    "\n",
    "(i) $\\gcd(a, b) \\mid a$\n",
    "\n",
    "(ii) $\\gcd(a, b) \\mid b$\n",
    "\n",
    "(iii) if the integer $c$ satisfies $c \\mid a$ and $c \\mid b$ then $c \\mid \\gcd(a, b)$\n",
    "\n",
    "</div>\n",
    "\n",
    "Note that $\\gcd(a, b)$ divides every member of $D(a, b)$."
   ]
  },
  {
   "cell_type": "markdown",
   "metadata": {},
   "source": [
    "<span style=\"color: #0096FF;\"><b>Proof</b></span>\n",
    "\n",
    "__Existence__\n",
    "\n",
    "The following demonstrates that no matter which values we choose for $a$ and $b$ there are always values of $x$ and $y$ which make their linear combination positive. The case $a = b = 0$ is excluded by the theorem.\n",
    "\n",
    "$\n",
    "\\begin{aligned}\n",
    "a & \\gt 0 && \\implies a \\times \\phantom{(-}1\\phantom{)}  && + b \\times \\phantom{(-}0\\phantom{)}  = \\phantom{-}a && \\gt 0 \\\\\n",
    "b & \\gt 0 && \\implies a \\times \\phantom{(-}0\\phantom{)}  && + b \\times \\phantom{(-}1\\phantom{)}  = \\phantom{-}b && \\gt 0 \\\\\n",
    "a & \\lt 0 && \\implies a \\times                      (-1) && + b \\times \\phantom{(-}0\\phantom{)}  =           -a && \\gt 0 \\\\\n",
    "b & \\lt 0 && \\implies a \\times \\phantom{(-}0\\phantom{)}  && + b \\times                      (-1) =           -b && \\gt 0 \\\\\n",
    "\\end  {aligned}\n",
    "$\n",
    "\n",
    "Thus, the set $D(a, b)$ has at least one positive element, and so there is a least positive element.\n",
    "\n",
    "__(i)__ and __(ii)__\n",
    "\n",
    "Suppose $\\gcd(a, b) \\nmid a$. From the division algorithm we have $a = \\gcd(a, b)q + r$ with $0 \\le r \\lt \\gcd(a, b)$ and $\\gcd(a, b) \\nmid a$ implies $0 \\lt r$.\n",
    "\n",
    "<div style=\"color: red;\">\n",
    "\n",
    "Why do we need to show the following two statements?\n",
    "\n",
    "$r = a - \\gcd(a, b)q = a - (ax + by)q = a(1 - xq) + b(-yq)$ for some integers $x, y$.\n",
    "\n",
    "$0 \\lt \\underbrace{a(1 - xq) + b(-yq)}_{r} \\lt \\underbrace{ax + by}_{\\gcd(a, b)}$\n",
    "</div>\n",
    "\n",
    "Contradiction! $r$ can't be less than $\\gcd(a, b)$ since $\\gcd(a, b)$ is the least element. Thus, $\\gcd(a, b) \\mid a$ and by symmetry $\\gcd(a, b) \\mid b$.\n",
    "\n",
    "__(iii)__\n",
    "\n",
    "Suppose there is an integer $c$ such that $c \\mid a$ and $c \\mid b$. Then $a = cu$ and $b = cv$ for some integers $u, v$.\n",
    "\n",
    "$\\gcd(a, b) = ax + by = (cu)x + (cv)y = c(ux + vy) \\iff c \\mid \\gcd(a, b)$\n",
    "\n",
    "$\\blacksquare$"
   ]
  },
  {
   "cell_type": "markdown",
   "metadata": {},
   "source": [
    "---"
   ]
  },
  {
   "cell_type": "markdown",
   "metadata": {},
   "source": [
    "<span style=\"color: #0096FF;\"><b>Property of GCD</b></span>\n",
    "\n",
    "<div style=\"color: #0096FF;\">\n",
    "\n",
    "$\\gcd \\left( \\frac{a}{\\gcd(a, b)}, \\frac{b}{\\gcd(a, b)} \\right) = 1$\n",
    "</div>\n",
    "\n",
    "If this quantity is denoted $d$ then the following hold\n",
    "\n",
    "$d \\mid \\frac{a}{\\gcd(a, b)} \\iff d \\cdot \\gcd(a, b) \\mid a$\n",
    "\n",
    "$d \\mid \\frac{b}{\\gcd(a, b)} \\iff d \\cdot \\gcd(a, b) \\mid b$\n",
    "\n",
    "Whatever integer divides both of two integers divides their $\\gcd$ and so $d \\cdot \\gcd(a, b) \\mid \\gcd(a, b) \\iff d \\mid 1 \\iff d = 1$\n",
    "\n",
    "$\\blacksquare$"
   ]
  },
  {
   "cell_type": "markdown",
   "metadata": {},
   "source": [
    "---"
   ]
  },
  {
   "cell_type": "markdown",
   "metadata": {},
   "source": [
    "<span style=\"color: #0096FF;\"><b>Property of GCD</b></span>\n",
    "\n",
    "<div style=\"color: #0096FF;\">\n",
    "\n",
    "Suppose $a$ and $b$ are not both $0$. Then for any integer $y$ we have $\\gcd(a + by, b) = \\gcd(a, b)$.\n",
    "</div>"
   ]
  },
  {
   "cell_type": "markdown",
   "metadata": {},
   "source": [
    "<span style=\"color: #0096FF;\"><b>Proof</b></span>\n",
    "\n",
    "Since $\\gcd(a, b) \\mid a$ and $\\gcd(a, b) \\mid b$ we know that $\\gcd(a, b) \\mid ax + by$ for any integers $x, y$. Thus $\\gcd(a, b) \\mid a + by$.\n",
    "\n",
    "Since $\\gcd(a, b) \\mid a + by$ and $\\gcd(a, b) \\mid b$ we know that $\\gcd(a, b) \\mid \\gcd(a + by, b)$.\n",
    "\n",
    "Since $\\gcd(a + by, b) \\mid a + by$ and $\\gcd(a + by, b) \\mid b$ we know that $\\gcd(a + by, b) \\mid (a + by)s + bt$ for any integers $s, t$. Thus $\\gcd(a + by, b) \\mid a + by - by = a$.\n",
    "\n",
    "Since $\\gcd(a + by, b) \\mid a$ and $\\gcd(a + by, b) \\mid b$ we know that $\\gcd(a + by, b) \\mid \\gcd(a, b)$.\n",
    "\n",
    "Since $\\gcd(a, b) \\mid \\gcd(a + by, b)$ and $\\gcd(a + by, b) \\mid \\gcd(a, b)$ it is the case that $\\gcd(a, b) = \\gcd(a + by, b)$.\n",
    "\n",
    "$\\blacksquare$"
   ]
  },
  {
   "cell_type": "markdown",
   "metadata": {},
   "source": [
    "<span style=\"color: #50C878;\"><b>Example</b></span>\n",
    "\n",
    "$\\gcd(21, 49) = \\gcd(21 + 49(3), 49)$"
   ]
  },
  {
   "cell_type": "markdown",
   "metadata": {},
   "source": [
    "---"
   ]
  },
  {
   "cell_type": "markdown",
   "metadata": {},
   "source": [
    "<span style=\"color: #0096FF;\"><b>Property of GCD</b></span>\n",
    "\n",
    "<div style=\"color: #0096FF;\">\n",
    "\n",
    "Suppose that $\\gcd(a, b) = 1$ and that $ax = by$. Then there is a $z$ such that $x = bz$ and $y = az$.\n",
    "</div>"
   ]
  },
  {
   "cell_type": "markdown",
   "metadata": {},
   "source": [
    "<span style=\"color: #0096FF;\"><b>Proof</b></span>\n",
    "\n",
    "There are integers $u, v$ such that\n",
    "\n",
    "$\\gcd(a, b) = 1 = ua + vb \\iff x = uax + vbx \\iff x = u(by) + vbx = b\\underbrace{(uy + vx)}_{z} \\iff b \\mid x$\n",
    "\n",
    "$\\gcd(a, b) = 1 = ua + vb \\iff y = uay + vby \\iff y = uay + v(ax) = a\\underbrace{(uy + vx)}_{z} \\iff a \\mid y$\n",
    "\n",
    "$\\blacksquare$"
   ]
  },
  {
   "cell_type": "markdown",
   "metadata": {},
   "source": [
    "<span style=\"color: #50C878;\"><b>Example</b></span>\n",
    "\n",
    "$\n",
    "\\begin{aligned}\n",
    "\\gcd(a, b) &= 1 &&& a \\times  x &= b \\times y &&&  x &= b \\times z &&& y &= a \\times z \\\\\n",
    "\\gcd(2, 3) &= 1 &&& 2 \\times  3 &= 3 \\times 2 &&&  3 &= 3 \\times 1 &&& 2 &= 2 \\times 1 \\\\\n",
    "\\gcd(3, 5) &= 1 &&& 3 \\times 10 &= 5 \\times 6 &&& 10 &= 5 \\times 2 &&& 6 &= 3 \\times 2 \\\\\n",
    "\\end  {aligned}\n",
    "$"
   ]
  },
  {
   "cell_type": "markdown",
   "metadata": {},
   "source": [
    "---"
   ]
  },
  {
   "cell_type": "markdown",
   "metadata": {},
   "source": [
    "<span style=\"color: #0096FF;\"><b>COROLLARY</b></span> [Vaughan Corollary 1.14]\n",
    "\n",
    "<div style=\"color: #0096FF;\">\n",
    "\n",
    "Suppose that $a$ and $b$ are integers not both $0$. Then there are integers $x, y$ such that $\\gcd(a, b) = ax + by$.\n",
    "</div>\n",
    "\n",
    "Later we will look at a way of finding suitable x and y in examples. As it stands the theorem gives no constructive way of finding them. It is a pure existence proof."
   ]
  },
  {
   "cell_type": "markdown",
   "metadata": {},
   "source": [
    "---"
   ]
  },
  {
   "cell_type": "markdown",
   "metadata": {},
   "source": [
    "## Euclid's Lemma"
   ]
  },
  {
   "cell_type": "markdown",
   "metadata": {},
   "source": [
    "<span style=\"color: #0096FF;\"><b>EUCLID'S LEMMA</b></span> [Vaughan Theorem 1.15]\n",
    "\n",
    "<div style=\"color: #0096FF;\">\n",
    "\n",
    "Suppose that $p$ is prime and that there are integers $a$ and $b$ such that $p \\mid ab$. Then either $p \\mid a$ or $p \\mid b$.\n",
    "</div>"
   ]
  },
  {
   "cell_type": "markdown",
   "metadata": {},
   "source": [
    "<span style=\"color: #0096FF;\"><b>Proof</b></span>\n",
    "\n",
    "If $a = 0$ or $b = 0$ then the result that $p \\mid 0$ is trivial. Thus we may suppose that $ab \\ne 0$.\n",
    "\n",
    "Suppose $p \\nmid a$.\n",
    "\n",
    "We know that there are integers $x$ and $y$ such that $\\gcd(a, p) = ax + py$ and that $\\gcd(a, p) \\mid a$ and $\\gcd(a, p) \\mid p$.\n",
    "\n",
    "Since $p$ is prime it is the case that either $\\gcd(a, p) = 1$ or $\\gcd(a, p) = p$.\n",
    "\n",
    "If it were the case that $\\gcd(a, p) = p$ then $p \\mid a$. But we supposed that $p \\nmid a$.\n",
    "\n",
    "So $\\gcd(a, p) = 1 = ax + py \\iff b = abx + pby$.\n",
    "\n",
    "$p \\mid ab \\iff ab = pc$ for some integer $c$. Then $b = (pc)x + pby \\iff b = p(cx + by) \\iff p \\mid b$\n",
    "\n",
    "$\\blacksquare$"
   ]
  },
  {
   "cell_type": "markdown",
   "metadata": {},
   "source": [
    "<span style=\"color: #50C878;\"><b>Example</b></span>\n",
    "\n",
    "$\n",
    "\\begin{array}{c|c|c|c}\n",
    "p & ab \\\\ \\hline\n",
    "3 & \\phantom{1}6 = 3 \\times 2 \\\\ \\hline\n",
    "3 & 15 = 3 \\times 5 \\\\ \\hline\n",
    "\\end  {array}\n",
    "$"
   ]
  },
  {
   "cell_type": "markdown",
   "metadata": {},
   "source": [
    "---"
   ]
  },
  {
   "cell_type": "markdown",
   "metadata": {},
   "source": [
    "__Euclid's Lemma is not obvious__\n",
    "\n",
    "Consider the set of integers $\\mathcal{A}$ of the form $4k + 1$ which is closed under multiplication:\n",
    "\n",
    "$(4k_1 + 1)(4k_2 + 1) = 4^2k_1k_2 + 4k_1 + 4k_2 + 1 = 4 (\\underbrace{4k_1k_2 + k_1 + k_2}_{k_3}) + 1$\n",
    "\n",
    "Here are the first few members of this set:\n",
    "\n",
    "$\n",
    "\\begin{aligned}\n",
    "4(1) + 1 &= \\phantom{1}  5 \\\\\n",
    "4(2) + 1 &= \\phantom{1}  9 \\\\\n",
    "4(3) + 1 &=             13 \\\\\n",
    "4(4) + 1 &=             17 \\\\\n",
    "4(5) + 1 &=             21 \\\\\n",
    "\\color{red}{4(6) + 1} &\\phantom{.} \\color{red}{= 25} \\\\\n",
    "4(7) + 1 &=             29 \\\\\n",
    "4(8) + 1 &=             33 \\\\\n",
    "4(9) + 1 &=             37 \\\\\n",
    "4(10) + 1 &=            41 \\\\\n",
    "\\color{red}{4(11) + 1} &\\phantom{.} \\color{red}{= 45} \\\\\n",
    "4(12) + 1 &=            49 \\\\\n",
    "\\end  {aligned}\n",
    "$\n",
    "\n",
    "A prime in this system is defined as a number which is only divisible by $1$ and itself:\n",
    "\n",
    "$5, 9, 13, 17, 21, 29, 33, 37, 41, 49, \\dotsc$\n",
    "\n",
    "The prime factorization of $25$ in this system is $5 \\times 5$ and the prime factorization of $45$ in this system is $5 \\times 9$.\n",
    "\n",
    "In this system, prime factorization is not unique: $441 = 9 \\times 49 = 21^2$\n",
    "\n",
    "$21 \\mid 9 \\times 49$ but $21 \\nmid 9$ and $21 \\nmid 49$\n",
    "\n",
    "$\\mathcal{A}$ is not closed under addition, but $\\mathbb{Z}$ is."
   ]
  },
  {
   "cell_type": "markdown",
   "metadata": {},
   "source": [
    "---"
   ]
  },
  {
   "cell_type": "markdown",
   "metadata": {},
   "source": [
    "Euclid's Lemma can be used to establish the following.\n",
    "\n",
    "<span style=\"color: #0096FF;\"><b>THEOREM</b></span> [Vaughan Theorem 1.17]\n",
    "\n",
    "<div style=\"color: #0096FF;\">\n",
    "\n",
    "Suppose that\n",
    "\n",
    "$p, p_1, p_2, \\dotsc, p_r$\n",
    "\n",
    "are primes and that\n",
    "\n",
    "$p \\mid p_1 p_2 \\dots p_r$\n",
    "\n",
    "Then $p = p_j$ for some $j$ with $1 \\le j \\le r$.\n",
    "</div>"
   ]
  },
  {
   "cell_type": "markdown",
   "metadata": {},
   "source": [
    "<span style=\"color: #0096FF;\"><b>Proof by induction on $r$</b></span>\n",
    "\n",
    "<b>Base Case $r = 1$</b>\n",
    "\n",
    "$p \\mid p_1 \\implies p = p_1$\n",
    "\n",
    "<b>Inductive Case</b>\n",
    "\n",
    "Suppose the $r$-th case is established and that $p \\mid p_1 p_2 \\dots p_r p_{r + 1}$.\n",
    "\n",
    "Then either $p \\mid p_{r + 1}$ or $p \\mid p_1 p_2 \\dots p_r$.\n",
    "\n",
    "If $p \\mid p_{r + 1}$ then $p = p_{r + 1}$. Otherwise it has been established that if $p \\mid p_1 p_2 \\dots p_r$ then $p = p_j$ for some $j$ with $1 \\le j \\le r$.\n",
    "\n",
    "$\\blacksquare$"
   ]
  },
  {
   "cell_type": "markdown",
   "metadata": {},
   "source": [
    "---"
   ]
  },
  {
   "cell_type": "markdown",
   "metadata": {},
   "source": [
    "## Fundamental Theorem of Arithmetic"
   ]
  },
  {
   "cell_type": "markdown",
   "metadata": {},
   "source": [
    "<span style=\"color: #0096FF;\"><b>FUNDAMENTAL THEOREM OF ARITHMETIC</b></span> [Vaughan Theorem 1.18]\n",
    "\n",
    "<div style=\"color: #0096FF;\">\n",
    "\n",
    "Factorization into primes is unique up to ordering of the factors (i.e., regardless of the ordering of the multiplicands).\n",
    "\n",
    "More precisely, if $a$ is a nonzero integer and $a \\ne \\pm 1$ then $a = (\\pm 1) p_1 p_2 \\dots p_r$ for some $r \\ge 1$ and primes $p_1, p_2, \\dotsc, p_r$.\n",
    "\n",
    "The choice of $r$, the sign, and the factors $p_j$ are unique.\n",
    "</div>\n",
    "\n",
    "We can write $a = (\\pm 1) p_1 p_2 \\dots p_r$ even when $a = \\pm 1$ by interpreting the product over primes as an empty product."
   ]
  },
  {
   "cell_type": "markdown",
   "metadata": {},
   "source": [
    "<span style=\"color: #0096FF;\"><b>Proof by induction on $r$</b></span>\n",
    "\n",
    "<span style=\"color: red;\">It is clear that</span> we may suppose that $a \\gt 0$; thus that $a \\ge 2$.\n",
    "\n",
    "__Existence__\n",
    "\n",
    "We already know from [Vaughan Theorem 1.4] that $a$ is a product of primes: $a = p_1 p_2 \\dots p_r$ with $r \\ge 1$.\n",
    "\n",
    "__Uniqueness__\n",
    "\n",
    "<b>Base Case $r = 1$</b>\n",
    "\n",
    "Suppose $r = 1$ so that $a = p_1 = p_1' p_2' \\dots p_s'$ where $s \\ge 1$.\n",
    "\n",
    "Then $p_1' \\mid p_1 \\implies p_1' = p_1 \\iff p_1 = p_1 p_2' \\dots p_s' \\iff 1 = p_2' \\dots p_s' \\implies s = 1$\n",
    "\n",
    "<b>Inductive Case</b>\n",
    "\n",
    "Suppose that $r \\ge 1$ and that uniqueness has been established for all products of $r$ primes.\n",
    "\n",
    "Suppose that $a = p_1 p_2 \\dots p_{r + 1} = p_1' p_2' \\dots p_s'$ for some $r \\ge 1$\n",
    "\n",
    "Then by [Vaughan Theorem 1.17] $p_1' = p_j$ for some $j$ and then\n",
    "\n",
    "$p_2' \\dots p_s' = p_1 p_2 \\dots p_{r + 1} / p_j$\n",
    "\n",
    "and the inductive hypothesis can be applied to obtain the desired conclusion.\n",
    "\n",
    "$\\blacksquare$"
   ]
  },
  {
   "cell_type": "markdown",
   "metadata": {},
   "source": [
    "\n",
    "\n",
    "__Fundamental Theorem (alternative)__\n",
    "\n",
    "Every integer greater than $1$ has a prime factor.\n",
    "\n",
    "Inductive Hypothesis: Let $1 \\lt m \\lt n$ have a prime factor.\n",
    "* Case: $n$ is prime.\n",
    "* Case: $n$ is not prime. Then it has a factorization $n = ab$ where $1 \\lt a, b \\lt n$. By the inductive hypothesis, $a$ has a prime factor $p$. Since $p \\mid a$ and $a \\mid n$ it is the case that $p \\mid n$."
   ]
  },
  {
   "cell_type": "markdown",
   "metadata": {},
   "source": [
    "---"
   ]
  },
  {
   "cell_type": "markdown",
   "metadata": {},
   "source": [
    "<span style=\"color: #0096FF;\"><b>Property of GCD</b></span>\n",
    "\n",
    "<div style=\"color: #0096FF;\">\n",
    "\n",
    "Suppose $a$ and $b$ are positive integers. Then by the fundamental theorem of arithmetic we can write\n",
    "\n",
    "$a = p_1^{r_1} \\dots p_k^{r_k}$ and $b = p_1^{s_1} \\dots p_k^{s_k}$\n",
    "\n",
    "where $p_1, \\dotsc, p_k$ are the different primes in the factorization of $a$ and $b$ and we allow the possibility that the exponenets $r_j, s_j$ may be zero. Then it is the case that\n",
    "\n",
    "$\\gcd(a, b) = p_1^{\\min(r_1, s_1)} \\dots p_k^{\\min(r_k, s_k)}$\n",
    "</div>"
   ]
  },
  {
   "cell_type": "markdown",
   "metadata": {},
   "source": [
    "<span style=\"color: #50C878;\"><b>Example</b></span>\n",
    "\n",
    "$\n",
    "\\begin{aligned}\n",
    "               20 &= p_1^2 p_2^0 p_3^1 = 2^2 \\times 3^0 \\times 5^1 \\\\\n",
    "               75 &= p_1^0 p_2^1 p_3^2 = 2^0 \\times 3^1 \\times 5^2 \\\\\n",
    "\\gcd(20, 75) =  5 &= p_1^0 p_2^0 p_3^1 = 2^0 \\times 3^0 \\times 5^1 \\\\\n",
    "\\end  {aligned}\n",
    "$"
   ]
  },
  {
   "cell_type": "markdown",
   "metadata": {},
   "source": [
    "---"
   ]
  },
  {
   "cell_type": "markdown",
   "metadata": {},
   "source": [
    "<span style=\"color: #0096FF;\"><b>Claim</b></span>\n",
    "\n",
    "Let $d(n)$ be the number of divisors of the integer $n$ with prime factorization $p^a q^b r^c \\dots$\n",
    "\n",
    "Then $d(n) = (a + 1)(b + 1)(c + 1) \\dots$"
   ]
  },
  {
   "cell_type": "markdown",
   "metadata": {},
   "source": [
    "How many divisors does a perfect square have? An odd number since the exponents in their prime factorizations are all even.\n",
    "\n",
    "$\n",
    "\\begin{aligned}\n",
    "   4 &= 2^2      &&&  3 &&& 2^0 \\times 2^2, 2^1 \\times 2^1 \\\\\n",
    "   9 &= 3^2      &&&  3 &&& 3^0 \\times 3^2, 3^1 \\times 3^1 \\\\\n",
    "  16 &= 2^4      &&&  5 &&& 2^0 \\times 2^4, 2^1 \\times 2^3, 2^2 \\times 2^2 \\\\\n",
    "  25 &= 5^2      &&&  3 &&& 5^0 \\times 5^2, 5^1 \\times 5^1 \\\\\n",
    "  36 &= 2^2  3^2 &&&  9 &&& 2^0 3^0 \\times 2^2 3^2, 2^1 3^0 \\times 2^1 3^2, 2^0 3^1 \\times 2^2 3^1, 2^2 3^0 \\times 2^0 3^2, 2^1 3^1 \\times 2^1 3^1 \\\\\n",
    "  49 &= 7^2      &&&  3 &&& 7^0 \\times 7^2, 7^1 \\times 7^1 \\\\\n",
    "  64 &= 2^6      &&&  7 &&& 1, 2, 4, 8, 16, 32, 64 \\\\\n",
    "  81 &= 3^4      &&&  5 &&& 1, 3, 9, 27, 81 \\\\\n",
    " 100 &= 2^2  5^2 &&&  9 &&& 1, 2, 4, 5, 10, 20, 25, 50, 100 \\\\\n",
    " 121 &= 11^2     &&&  3 &&& 1, 11, 121 \\\\\n",
    " 144 &= 2^4  3^2 &&& 15 &&& 1, 2, 3, 4, 6, 8, 9, 12, 16, 18, 24, 36, 48, 72, 144 \\\\\n",
    " 169 &= 13^2     &&&  3 &&& 1, 13, 169 \\\\\n",
    " 196 &= 2^2  7^2 &&&  9 &&& \\\\\n",
    " 225 &= 3^2  5^2 &&&  9 &&& \\\\\n",
    " 256 &= 2^8      &&&  9 &&& \\\\\n",
    " 289 &= 17^2     &&&  3 &&& 1, 17, 189 \\\\\n",
    " 324 &= 2^2  3^4 &&& 15 &&& \\\\\n",
    " 361 &= 19^2     &&&  3 &&& 1, 19, 361 \\\\\n",
    " 400 &= 2^4  5^2 &&& 15 &&& \\\\\n",
    " 441 &= 3^2  7^2 &&&  9 &&& \\\\\n",
    " 484 &= 2^2 11^2 &&&  9 &&& \\\\\n",
    " 529 &= 23^2     &&&  3 &&& 1, 23, 529 \\\\\n",
    " 576 &= 2^6 3^2  &&& 21 &&& \\\\\n",
    " 625 &= 5^4      &&&  5 &&& 1, 5, 25, 125, 625 \\\\\n",
    " 676 &= 2^2 13^2 &&&  9 &&& \\\\\n",
    " 729 &= 3^6      &&&  7 &&& \\\\\n",
    " 784 &= 2^4 7^2  &&& 15 &&& \\\\\n",
    " 841 &= 29^2     &&&  3 &&& 1, 29, 841 \\\\\n",
    " 900 &= 2^2 3^2 5^2 &&& 27 &&& \\\\\n",
    " 961 &= 31^2     &&&  3 &&& 1, 31, 961 \\\\\n",
    "1024 &= 2^{10}   &&& 11 &&& \\\\\n",
    "\\end  {aligned}\n",
    "$"
   ]
  },
  {
   "cell_type": "markdown",
   "metadata": {},
   "source": [
    "---"
   ]
  },
  {
   "cell_type": "markdown",
   "metadata": {},
   "source": [
    "## LCM"
   ]
  },
  {
   "cell_type": "markdown",
   "metadata": {},
   "source": [
    "<span style=\"color: #0096FF;\"><b>LEAST COMMON MULTIPLE</b></span>\n",
    "\n",
    "<div style=\"color: #0096FF;\">\n",
    "\n",
    "$\n",
    "\\begin{aligned}\n",
    "\\text{lcm}[a, b] = \\frac{ab}{\\gcd(a, b)} = p_1^{\\max(r_1, s_1)} \\dots p_k^{\\max(r_k, s_k)}\n",
    "\\end  {aligned}\n",
    "$\n",
    "\n",
    "</div>"
   ]
  },
  {
   "cell_type": "markdown",
   "metadata": {},
   "source": [
    "---"
   ]
  },
  {
   "cell_type": "markdown",
   "metadata": {},
   "source": [
    "<span style=\"color: #0096FF;\"><b>Property of LCM</b></span>\n",
    "\n",
    "<div style=\"color: #0096FF;\">\n",
    "\n",
    "$\\text{lcm}[a, b]$ has the property that it is the smallest positive integer $c$ so that $a \\mid c$ and $b \\mid c$.\n",
    "\n",
    "</div>"
   ]
  },
  {
   "cell_type": "markdown",
   "metadata": {},
   "source": [
    "---\n",
    "---\n",
    "---"
   ]
  },
  {
   "cell_type": "markdown",
   "metadata": {},
   "source": [
    "## Trial Division"
   ]
  },
  {
   "cell_type": "markdown",
   "metadata": {},
   "source": [
    "The simplest way to try to factorize a number $n$ is by ___trial division___.\n",
    "\n",
    "<span style=\"color: #0096FF;\"><b>TRIAL DIVISION</b></span>\n",
    "\n",
    "<div style=\"color: #0096FF;\">\n",
    "\n",
    "If $n$ has a proper divisor $m_1$ so that $n = m_1 m_2$ with $1 \\lt m_1 \\lt n$ whence $1 \\lt m_2 \\lt n$ then it can be supposed that\n",
    "\n",
    "$m_1 \\le m_2 \\iff m_1 m_1 \\le m_1 m_2 = n \\iff m_1 \\le \\sqrt{n}$\n",
    "\n",
    "Thus each $m_1 \\le \\sqrt{n}$ can be tried in turn. If no such factor is found then $n$ is prime. <span style=\"color: red;\">\n",
    "Since the smallest proper divisor of $n$ has to be the smallest prime factor of $n$</span> we need only check the primes $p$ with $2 \\le p \\le \\sqrt{n}$.\n",
    "\n",
    "</div>\n",
    "\n",
    "Even so, for large $n$ this is hugely expensive in time. <span style=\"color: red;\">How to verify this?</span>"
   ]
  },
  {
   "cell_type": "markdown",
   "metadata": {},
   "source": [
    "---"
   ]
  },
  {
   "cell_type": "markdown",
   "metadata": {},
   "source": [
    "## Prime-Counting Function"
   ]
  },
  {
   "cell_type": "markdown",
   "metadata": {},
   "source": [
    "The number $\\pi(x)$ of primes $p \\le x$ is approximately\n",
    "\n",
    "$\n",
    "\\begin{aligned}\n",
    "\\pi(x) \\sim \\int_2^x \\frac{d \\alpha}{\\ln \\alpha} \\sim \\frac{x}{\\ln x}\n",
    "\\end  {aligned}\n",
    "$\n",
    "\n",
    "Thus if $n$ is about $k$ bits in size and turns out to be prime or the product of two primes of about the same size, then the number of operations will be\n",
    "\n",
    "$\n",
    "\\begin{aligned}\n",
    "\\approx \\frac{(2^{k/2})}{\\ln (2^{k/2})}\n",
    "      = \\frac{2^{k/2}}{k/2 \\ln 2}\n",
    "\\end  {aligned}\n",
    "$\n",
    "\n",
    "which is still exponential in the bit size.\n",
    "\n",
    "Trial division is feasible for $n$ out to about $40$ bits on a modern computer; much beyond that it becomes hopeless. One area where trial division, or sophisticated variants thereor, are useful is in the production of tables of primes, or counts of primes such as the value of $\\pi(x)$."
   ]
  },
  {
   "cell_type": "markdown",
   "metadata": {},
   "source": [
    "<span style=\"color: #50C878;\"><b>Some values of the prime-counting function</b></span>\n",
    "\n",
    "$\n",
    "\\begin{aligned}\n",
    "\\pi( 2)     &=&    1 \\\\\n",
    "\\pi( 3)     &=&    2 \\\\\n",
    "\\pi( 5)     &=&    3 \\\\\n",
    "\\pi( 7)     &=&    4 \\\\\n",
    "\\pi(10)     &=&    4 \\\\\n",
    "\\pi(11)     &=&    5 \\\\\n",
    "\\pi(13)     &=&    6 \\\\\n",
    "\\pi(17)     &=&    7 \\\\\n",
    "\\pi(19)     &=&    8 \\\\\n",
    "\\pi(23)     &=&    9 \\\\\n",
    "\\pi(29)     &=&   10 \\\\\n",
    "\\pi(31)     &=&   11 \\\\\n",
    "\\pi(37)     &=&   12 \\\\\n",
    "\\pi(41)     &=&   13 \\\\\n",
    "\\pi(43)     &=&   14 \\\\\n",
    "\\pi(47)     &=&   15 \\\\\n",
    "\\pi(53)     &=&   16 \\\\\n",
    "\\pi(59)     &=&   17 \\\\\n",
    "\\pi(61)     &=&   18 \\\\\n",
    "\\pi(67)     &=&   19 \\\\\n",
    "\\pi(71)     &=&   20 \\\\\n",
    "\\pi(10^2)   &=&      \\\\\n",
    "\\pi(2^{16}) &=& 6542 \\\\\n",
    "\\end  {aligned}\n",
    "$"
   ]
  },
  {
   "cell_type": "code",
   "execution_count": null,
   "metadata": {},
   "outputs": [
    {
     "name": "stdout",
     "output_type": "stream",
     "text": [
      "x = 2^ 2     x/ln(x) =       2.89       π(2^ 2) =    2\n",
      "x = 2^ 3     x/ln(x) =       3.85       π(2^ 3) =    4\n",
      "x = 10       x/ln(x) =       4.34         π(10) =    4\n",
      "x = 2^ 4     x/ln(x) =       5.77       π(2^ 4) =    7\n",
      "x = 2^ 5     x/ln(x) =       9.23       π(2^ 5) =     \n",
      "x = 2^ 6     x/ln(x) =      15.39       π(2^ 6) =     \n",
      "x = 2^ 7     x/ln(x) =      26.38       π(2^ 7) =     \n",
      "x = 2^ 8     x/ln(x) =      46.17       π(2^ 8) =     \n",
      "x = 2^ 9     x/ln(x) =      82.07       π(2^ 9) =     \n",
      "x = 2^10     x/ln(x) =     147.73       π(2^10) =     \n",
      "x = 2^11     x/ln(x) =     268.60       π(2^11) =     \n",
      "x = 2^12     x/ln(x) =     492.44       π(2^12) =     \n",
      "x = 2^13     x/ln(x) =     909.12       π(2^13) =     \n",
      "x = 2^14     x/ln(x) =    1688.37       π(2^14) =     \n",
      "x = 2^15     x/ln(x) =    3151.62       π(2^15) =     \n",
      "x = 2^16     x/ln(x) =    5909.28       π(2^16) = 6542\n"
     ]
    }
   ],
   "source": [
    "import math\n",
    "\n",
    "print(f'x = 2^ 2     x/ln(x) = {2** 2/(math.log(2) *  2):>10.2f} {\"π(2^ 2) =    2\":>20}')\n",
    "print(f'x = 2^ 3     x/ln(x) = {2** 3/(math.log(2) *  3):>10.2f} {\"π(2^ 3) =    4\":>20}')\n",
    "print(f'x = 10       x/ln(x) = {10/(math.log(10)):>10.2f} {\"π(10) =    4\":>20}')\n",
    "print(f'x = 2^ 4     x/ln(x) = {2** 4/(math.log(2) *  4):>10.2f} {\"π(2^ 4) =    7\":>20}')\n",
    "print(f'x = 2^ 5     x/ln(x) = {2** 5/(math.log(2) *  5):>10.2f} {\"π(2^ 5) =     \":>20}')\n",
    "print(f'x = 2^ 6     x/ln(x) = {2** 6/(math.log(2) *  6):>10.2f} {\"π(2^ 6) =     \":>20}')\n",
    "print(f'x = 2^ 7     x/ln(x) = {2** 7/(math.log(2) *  7):>10.2f} {\"π(2^ 7) =     \":>20}')\n",
    "print(f'x = 2^ 8     x/ln(x) = {2** 8/(math.log(2) *  8):>10.2f} {\"π(2^ 8) =     \":>20}')\n",
    "print(f'x = 2^ 9     x/ln(x) = {2** 9/(math.log(2) *  9):>10.2f} {\"π(2^ 9) =     \":>20}')\n",
    "print(f'x = 2^10     x/ln(x) = {2**10/(math.log(2) * 10):>10.2f} {\"π(2^10) =     \":>20}')\n",
    "print(f'x = 2^11     x/ln(x) = {2**11/(math.log(2) * 11):>10.2f} {\"π(2^11) =     \":>20}')\n",
    "print(f'x = 2^12     x/ln(x) = {2**12/(math.log(2) * 12):>10.2f} {\"π(2^12) =     \":>20}')\n",
    "print(f'x = 2^13     x/ln(x) = {2**13/(math.log(2) * 13):>10.2f} {\"π(2^13) =     \":>20}')\n",
    "print(f'x = 2^14     x/ln(x) = {2**14/(math.log(2) * 14):>10.2f} {\"π(2^14) =     \":>20}')\n",
    "print(f'x = 2^15     x/ln(x) = {2**15/(math.log(2) * 15):>10.2f} {\"π(2^15) =     \":>20}')\n",
    "print(f'x = 2^16     x/ln(x) = {2**16/(math.log(2) * 16):>10.2f} {\"π(2^16) = 6542\":>20}')"
   ]
  },
  {
   "cell_type": "markdown",
   "metadata": {},
   "source": [
    "---\n",
    "---\n",
    "---"
   ]
  },
  {
   "cell_type": "markdown",
   "metadata": {},
   "source": [
    "## Sieve of Eratosthenes"
   ]
  },
  {
   "cell_type": "markdown",
   "metadata": {},
   "source": [
    "Trial division, or its sophisticated variants, is useful in the production of tables of primes or counts of primes (such as the value of the prime-counting function). The sieve of Eratosthenes is the simplest form of this."
   ]
  },
  {
   "cell_type": "markdown",
   "metadata": {},
   "source": [
    "Construct a $\\lfloor \\sqrt{N} \\rfloor \\times \\lfloor \\sqrt{N} \\rfloor$ array. Here $N = 100$.\n",
    "\n",
    "$\n",
    "\\begin{matrix*}[r]\n",
    " 0 &  1 &  2 &  3 &  4 &  5 &  6 &  7 &  8 &  9 \\\\\n",
    "10 & 11 & 12 & 13 & 14 & 15 & 16 & 17 & 18 & 19 \\\\\n",
    "20 & 21 & 22 & 23 & 24 & 25 & 26 & 27 & 28 & 29 \\\\\n",
    "30 & 31 & 32 & 33 & 34 & 35 & 36 & 37 & 38 & 39 \\\\\n",
    "40 & 41 & 42 & 43 & 44 & 45 & 46 & 47 & 48 & 49 \\\\\n",
    "50 & 51 & 52 & 53 & 54 & 55 & 56 & 57 & 58 & 59 \\\\\n",
    "60 & 61 & 62 & 63 & 64 & 65 & 66 & 67 & 68 & 69 \\\\\n",
    "70 & 71 & 72 & 73 & 74 & 75 & 76 & 77 & 78 & 79 \\\\\n",
    "80 & 81 & 82 & 83 & 84 & 85 & 86 & 87 & 88 & 89 \\\\\n",
    "90 & 91 & 92 & 93 & 94 & 95 & 96 & 97 & 98 & 99 \\\\\n",
    "\\end  {matrix*}\n",
    "$\n",
    "\n",
    "Forget about $0$ and $1$ and then for each successive element remaining remove the proper multiples.\n",
    "\n",
    "For $2$ we remove $4, 6, \\dotsc, 98$.\n",
    "\n",
    "$\n",
    "\\begin{matrix*}[r]\n",
    "\\phantom{00} &    &            2 &  3 & \\phantom{00} &  5 & \\phantom{00} &  7 & \\phantom{00} &  9 \\\\\n",
    "             & 11 & \\phantom{00} & 13 &              & 15 &              & 17 &              & 19 \\\\\n",
    "             & 21 &              & 23 &              & 25 &              & 27 &              & 29 \\\\\n",
    "             & 31 &              & 33 &              & 35 &              & 37 &              & 39 \\\\\n",
    "             & 41 &              & 43 &              & 45 &              & 47 &              & 49 \\\\\n",
    "             & 51 &              & 53 &              & 55 &              & 57 &              & 59 \\\\\n",
    "             & 61 &              & 63 &              & 65 &              & 67 &              & 69 \\\\\n",
    "             & 71 &              & 73 &              & 75 &              & 77 &              & 79 \\\\\n",
    "             & 81 &              & 83 &              & 85 &              & 87 &              & 89 \\\\\n",
    "             & 91 &              & 93 &              & 95 &              & 97 &              & 99 \\\\\n",
    "\\end  {matrix*}\n",
    "$\n",
    "\n",
    "For the next remaining element $3$ remove $6, 9, \\dotsc, 99$.\n",
    "\n",
    "$\n",
    "\\begin{matrix*}[r]\n",
    "\\phantom{00} &    &            2 &  3 & \\phantom{00} &  5 & \\phantom{00} &  7 & \\phantom{00} &    \\\\\n",
    "             & 11 & \\phantom{00} & 13 &              &    &              & 17 &              & 19 \\\\\n",
    "             &    &              & 23 &              & 25 &              &    &              & 29 \\\\\n",
    "             & 31 &              &    &              & 35 &              & 37 &              &    \\\\\n",
    "             & 41 &              & 43 &              &    &              & 47 &              & 49 \\\\\n",
    "             &    &              & 53 &              & 55 &              &    &              & 59 \\\\\n",
    "             & 61 &              &    &              & 65 &              & 67 &              &    \\\\\n",
    "             & 71 &              & 73 &              &    &              & 77 &              & 79 \\\\\n",
    "             &    &              & 83 &              & 85 &              &    &              & 89 \\\\\n",
    "             & 91 &              &    &              & 95 &              & 97 &              &    \\\\\n",
    "\\end  {matrix*}\n",
    "$\n",
    "\n",
    "For the next remaining element $5$ remove $10, 15, \\dotsc, 95$.\n",
    "\n",
    "$\n",
    "\\begin{matrix*}[r]\n",
    "\\phantom{00} &    &            2 &  3 & \\phantom{00} &  5           & \\phantom{00} &  7 & \\phantom{00} &    \\\\\n",
    "             & 11 & \\phantom{00} & 13 &              & \\phantom{00} &              & 17 &              & 19 \\\\\n",
    "             &    &              & 23 &              &              &              &    &              & 29 \\\\\n",
    "             & 31 &              &    &              &              &              & 37 &              &    \\\\\n",
    "             & 41 &              & 43 &              &              &              & 47 &              & 49 \\\\\n",
    "             &    &              & 53 &              &              &              &    &              & 59 \\\\\n",
    "             & 61 &              &    &              &              &              & 67 &              &    \\\\\n",
    "             & 71 &              & 73 &              &              &              & 77 &              & 79 \\\\\n",
    "             &    &              & 83 &              &              &              &    &              & 89 \\\\\n",
    "             & 91 &              &    &              &              &              & 97 &              &    \\\\\n",
    "\\end  {matrix*}\n",
    "$\n",
    "\n",
    "For the next remaining element $7$ remove $14, 21, \\dotsc, 98$.\n",
    "\n",
    "$\n",
    "\\begin{matrix*}[r]\n",
    "\\phantom{00} &    &            2 &  3 & \\phantom{00} &  5           & \\phantom{00} &  7 & \\phantom{00} &    \\\\\n",
    "             & 11 & \\phantom{00} & 13 &              & \\phantom{00} &              & 17 &              & 19 \\\\\n",
    "             &    &              & 23 &              &              &              &    &              & 29 \\\\\n",
    "             & 31 &              &    &              &              &              & 37 &              &    \\\\\n",
    "             & 41 &              & 43 &              &              &              & 47 &              &    \\\\\n",
    "             &    &              & 53 &              &              &              &    &              & 59 \\\\\n",
    "             & 61 &              &    &              &              &              & 67 &              &    \\\\\n",
    "             & 71 &              & 73 &              &              &              &    &              & 79 \\\\\n",
    "             &    &              & 83 &              &              &              &    &              & 89 \\\\\n",
    "             &    &              &    &              &              &              & 97 &              &    \\\\\n",
    "\\end  {matrix*}\n",
    "$\n",
    "\n",
    "After that the next remaining element is $11$ and for that and its successors all the proper multiples have already been removed. Thus we now have a table of all the primes $p \\le 100$.\n",
    "\n",
    "<d style=\"color: red;\">This is relatively efficient.</d>\n",
    "\n",
    "By counting the entries that remain one finds that $\\pi(100) = 25$.\n",
    "\n",
    "The sieve of Eratosthenes produces approximately\n",
    "\n",
    "$\n",
    "\\begin{aligned}\n",
    "\\frac{n}{\\log n}\n",
    "\\end  {aligned}\n",
    "$\n",
    "\n",
    "numbers in about\n",
    "\n",
    "$\n",
    "\\begin{aligned}\n",
    "\\sum_{p \\le \\sqrt{n}} \\frac{n}{p} \\sim n \\log \\log n\n",
    "\\end  {aligned}\n",
    "$\n",
    "\n",
    "operations.\n",
    "\n",
    "<d style=\"color: red;\">Another big constraint is storage.</d>"
   ]
  },
  {
   "cell_type": "markdown",
   "metadata": {},
   "source": [
    "---\n",
    "---\n",
    "---"
   ]
  },
  {
   "cell_type": "markdown",
   "metadata": {},
   "source": [
    "## Differences of Squares"
   ]
  },
  {
   "cell_type": "markdown",
   "metadata": {},
   "source": [
    "Here is an idea that goes back to Fermat.\n",
    "\n",
    "Given $n$ suppose we can find $x$ and $y$ so that\n",
    "\n",
    "$n = x^2 - y^2$ with $0 \\le y \\lt x$.\n",
    "\n",
    "There may be a way of factoring $n$ since the polynomial factorizes as $(x - y)(x + y)$.\n",
    "\n",
    "We are only likely to try this if $n$ is odd, say $n = 2k + 1$, and then we might run into\n",
    "\n",
    "$n = 2k + 1 = \\underbrace{(k + 1)^2}_{x^2} - \\underbrace{\\phantom{( + 1)}k^2}_{\\, y^2 \\,} = 1 \\times (2k + 1)$\n",
    "\n",
    "which does not help much.\n",
    "\n",
    "If $n$ is prime then perforce $x - y = 1$ and $x + y = 2k + 1$ and this is the only solution.\n",
    "\n",
    "If we can find a solution with $x - y \\gt 1$ then that would show that $n$ is composite and would give a factorization.\n",
    "\n",
    "If $n = m_1 m_2$ with $n$ odd and $m_1 \\le m_2$ then $m_1$ and $m_2$ are both odd and there is a solution with\n",
    "\n",
    "$\n",
    "\\begin{aligned}\n",
    "x - y &= m_1 \\\\\n",
    "x + y &= m_2 \\\\\n",
    "\\end  {aligned}\n",
    "$\n",
    "\n",
    "$\n",
    "\\begin{aligned}\n",
    "x &= \\frac{m_1 + m_2}{2} \\\\\n",
    "y &= \\frac{m_1 - m_2}{2} \\\\\n",
    "\\end  {aligned}\n",
    "$"
   ]
  },
  {
   "cell_type": "markdown",
   "metadata": {},
   "source": [
    "<span style=\"color: #50C878;\"><b>Example</b></span>\n",
    "\n",
    "$\n",
    "\\begin{aligned}\n",
    "   n &              &&=  x^2 -  y^2 &&&  x &&  y && m_1 && m_2 \\\\\n",
    "  91 &=  100 -    9 &&= 10^2 -  3^2 &&& 10 &&  3 &&   7 &&  13 & = 7 \\times 13 \\\\\n",
    "1001 &= 2025 - 1024 &&= 45^2 - 32^2 &&& 45 && 32 &&  13 &&  77 & = 7 \\times 11 \\times 13 \\\\\n",
    "\\end  {aligned}\n",
    "$"
   ]
  },
  {
   "cell_type": "markdown",
   "metadata": {},
   "source": [
    "---\n",
    "---\n",
    "---"
   ]
  }
 ],
 "metadata": {
  "kernelspec": {
   "display_name": "ml",
   "language": "python",
   "name": "python3"
  },
  "language_info": {
   "codemirror_mode": {
    "name": "ipython",
    "version": 3
   },
   "file_extension": ".py",
   "mimetype": "text/x-python",
   "name": "python",
   "nbconvert_exporter": "python",
   "pygments_lexer": "ipython3",
   "version": "3.11.9"
  }
 },
 "nbformat": 4,
 "nbformat_minor": 2
}
