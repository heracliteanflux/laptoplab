{
 "cells": [
  {
   "cell_type": "markdown",
   "metadata": {},
   "source": [
    "# Division"
   ]
  },
  {
   "cell_type": "markdown",
   "metadata": {},
   "source": [
    "---"
   ]
  },
  {
   "cell_type": "markdown",
   "metadata": {},
   "source": [
    "## Contents\n",
    "```{contents}\n",
    "```"
   ]
  },
  {
   "cell_type": "markdown",
   "metadata": {},
   "source": [
    "---"
   ]
  },
  {
   "cell_type": "markdown",
   "metadata": {},
   "source": [
    "## Division"
   ]
  },
  {
   "cell_type": "markdown",
   "metadata": {},
   "source": [
    "<span style=\"color: #0096FF;\"><b>DIVISION</b></span>\n",
    "\n",
    "<div style=\"color: #0096FF;\">\n",
    "\n",
    "Let $a$ and $b$ be integers with $a \\ne 0$. We say that $a$ _divides_ $b$ when there is an integer $c$ such that $ac = b$ (or equivalently if $b/a$ is an integer) and we write $a \\mid b$.\n",
    "</div>\n",
    "\n",
    "We say that $a$ is a _divisor_ of $b$ and that $b$ is a _multiple_ of $a$.\n",
    "\n",
    "$a \\mid b$ can be expressed as $\\exists c (ac = b)$ where the universe of discourse is the set of integers.\n",
    "\n",
    "$\\pm 1, \\pm n$ are called the _trivial_ divisors of $n$. Otherwise a divisor $d$ with $1 \\lt |d| \\lt n$ is non-trivial or _proper_.\n",
    "\n",
    "Although divisors may be negative, we usually only speak of positive divisors."
   ]
  },
  {
   "cell_type": "markdown",
   "metadata": {},
   "source": [
    "<span style=\"color: #50C878;\"><b>Example</b></span>\n",
    "\n",
    "List the divisors $d$ of $1$.\n",
    "\n",
    "$\n",
    "\\begin{aligned}\n",
    " d \\mid 1 &&  d & \\times \\phantom{-}k \\\\ \\hline\n",
    "-1 \\mid 1 && -1 & \\times -1 \\\\\n",
    " 1 \\mid 1 &&  1 & \\times \\phantom{-}1 \\\\\n",
    "\\end  {aligned}\n",
    "$"
   ]
  },
  {
   "cell_type": "markdown",
   "metadata": {},
   "source": [
    "<span style=\"color: #50C878;\"><b>Example</b></span>\n",
    "\n",
    "List the divisors $d$ of $6$.\n",
    "\n",
    "$\n",
    "\\begin{aligned}\n",
    " d \\mid 6 &&  d & \\times \\phantom{-}k \\\\ \\hline\n",
    "-6 \\mid 6 && -6 & \\times -1 \\\\\n",
    "-3 \\mid 6 && -3 & \\times -2 \\\\\n",
    "-2 \\mid 6 && -2 & \\times -3 \\\\\n",
    "-1 \\mid 6 && -1 & \\times -6 \\\\\n",
    " 1 \\mid 6 &&  1 & \\times \\phantom{-}6 \\\\\n",
    " 2 \\mid 6 &&  2 & \\times \\phantom{-}3 \\\\\n",
    " 3 \\mid 6 &&  3 & \\times \\phantom{-}2 \\\\\n",
    " 6 \\mid 6 &&  6 & \\times \\phantom{-}1 \\\\\n",
    "\\end  {aligned}\n",
    "$"
   ]
  },
  {
   "cell_type": "markdown",
   "metadata": {},
   "source": [
    "---"
   ]
  },
  {
   "cell_type": "markdown",
   "metadata": {},
   "source": [
    "<span style=\"color: #0096FF;\"><b>Claim</b></span>\n",
    "\n",
    "$\\pm1$ divide every integer.\n",
    "\n",
    "<span style=\"color: #0096FF;\"><b>Proof</b></span>\n",
    "\n",
    "Let $a$ be any integer.\n",
    "\n",
    "Suppose $\\phantom{-}1 \\mid a$. Then there is an integer $k$ such that $\\phantom{-}1 \\times k = a$, namely $\\phantom{-}a$ itself.\n",
    "\n",
    "Suppose $-1 \\mid a$. Then there is an integer $k$ such that $-1 \\times k = a$, namely $-a$.\n",
    "\n",
    "$\\blacksquare$"
   ]
  },
  {
   "cell_type": "markdown",
   "metadata": {},
   "source": [
    "---"
   ]
  },
  {
   "cell_type": "markdown",
   "metadata": {},
   "source": [
    "<span style=\"color: #0096FF;\"><b>Claim</b></span>\n",
    "\n",
    "Every <span style=\"color: red;\">nonzero</span> integer $a$ and its negation $-a$ divides itself.\n",
    "\n",
    "<span style=\"color: #0096FF;\"><b>Proof</b></span>\n",
    "\n",
    "Let $a$ be a <span style=\"color: red;\">nonzero</span> integer.\n",
    "\n",
    "Suppose $\\phantom{-}a \\mid a$. Then there is an integer $k$ such that $\\phantom{-}ak = a$, namely $\\phantom{-}1$.\n",
    "\n",
    "Suppose $-a \\mid a$. Then there is an integer $k$ such that $-ak = a$, namely $-1$.\n",
    "\n",
    "$\\blacksquare$"
   ]
  },
  {
   "cell_type": "markdown",
   "metadata": {},
   "source": [
    "---"
   ]
  },
  {
   "cell_type": "markdown",
   "metadata": {},
   "source": [
    "<span style=\"color: #0096FF;\"><b>Claim</b></span>\n",
    "\n",
    "Every <span style=\"color: red;\">nonzero</span> integer divides zero.\n",
    "\n",
    "<span style=\"color: #0096FF;\"><b>Proof</b></span>\n",
    "\n",
    "Suppose $a$ is a <span style=\"color: red;\">nonzero</span> integer and $a \\mid 0$. Then there is an integer $k$ such that $ak = 0$, namely $0$ itself.\n",
    "\n",
    "$\\blacksquare$"
   ]
  },
  {
   "cell_type": "markdown",
   "metadata": {},
   "source": [
    "<span style=\"color: #0096FF;\"><b>Claim</b></span>\n",
    "\n",
    "<div style=\"color: red;\">\n",
    "\n",
    "$0a = 0$ for any $a$.\n",
    "</div>"
   ]
  },
  {
   "cell_type": "markdown",
   "metadata": {},
   "source": [
    "---"
   ]
  },
  {
   "cell_type": "markdown",
   "metadata": {},
   "source": [
    "<span style=\"color: #0096FF;\"><b>Claim</b></span>\n",
    "\n",
    "<div style=\"color: #0096FF;\">\n",
    "\n",
    "Zero does not divide any integer.\n",
    "</div>\n",
    "\n",
    "Zero division is undefined.\n",
    "\n",
    "<span style=\"color: red;\">Does it make sense to give a proof like the following?</span>\n",
    "\n",
    "<span style=\"color: #0096FF;\"><b>Proof</b></span>\n",
    "\n",
    "<div style=\"color: red;\">\n",
    "\n",
    "Suppose $0 \\mid a$ with $a \\ne 0$. Then there exists an integer $k$ such that $0k = a$. This equation requires $a$ be $0$.\n",
    "\n",
    "Suppose $0 \\mid a$ with $a = 0$. Then there exists an integer $k$ such that $0k = 0$. This equation is true for any integer $k$.\n",
    "\n",
    "Suppose $k = 1$. Then $k = 1 = \\frac{0}{0} = \\frac{0 + 0}{0} = \\frac{0}{0} + \\frac{0}{0} = 1 + 1 = 2$\n",
    "</div>\n",
    "\n",
    "$\\blacksquare$"
   ]
  },
  {
   "cell_type": "markdown",
   "metadata": {},
   "source": [
    "---"
   ]
  },
  {
   "cell_type": "markdown",
   "metadata": {},
   "source": [
    "<span style=\"color: #0096FF;\"><b>Claim</b></span>\n",
    "\n",
    "Let $a$ and $b$ be <span style=\"color: red;\">nonzero</span> integers. If $a \\mid b$ and $b \\mid a$ then $a = \\pm b$.\n",
    "\n",
    "\"If two integers divide each other then they are equal up to parity.\"\n",
    "\n",
    "<span style=\"color: #0096FF;\"><b>Proof</b></span>\n",
    "\n",
    "Suppose $a \\mid b$ and $b \\mid a$. Then there exist integers $m$ and $n$ such that $am = b$ and\n",
    "\n",
    "$a = bn = (am)n = a(mn) \\implies 1 = mn \\implies m = n = \\pm 1$\n",
    "\n",
    "Suppose $m = n = \\phantom{-}1$. Then $a = \\phantom{-}b$.\n",
    "\n",
    "Suppose $m = n = -1$. Then $a = -b$.\n",
    "\n",
    "$\\blacksquare$"
   ]
  },
  {
   "cell_type": "markdown",
   "metadata": {},
   "source": [
    "<span style=\"color: #0096FF;\"><b>Claim</b></span>\n",
    "\n",
    "If $ab = 1$ then $a = b = \\pm 1$."
   ]
  },
  {
   "cell_type": "markdown",
   "metadata": {},
   "source": [
    "---"
   ]
  },
  {
   "cell_type": "markdown",
   "metadata": {},
   "source": [
    "<span style=\"color: #0096FF;\"><b>Claim</b></span>\n",
    "\n",
    "Let $a$, $b$, and $c$ be integers with $c \\ne 0$.\n",
    "\n",
    "$ac \\mid bc$ iff $a \\mid b$.\n",
    "\n",
    "<span style=\"color: #0096FF;\"><b>Proof</b></span>\n",
    "\n",
    "Suppose $ac \\mid bc$. Then there is an integer $k$ such that $ack = bc \\implies ak = b \\implies a \\mid b$.\n",
    "\n",
    "Suppose $a \\mid b$. Then there is an integer $k$ such that $ak = b \\implies ack = bc \\implies ac \\mid bc$.\n",
    "\n",
    "$\\blacksquare$"
   ]
  },
  {
   "cell_type": "markdown",
   "metadata": {},
   "source": [
    "<span style=\"color: #0096FF;\"><b>Claim</b></span>\n",
    "\n",
    "Let $a$, $b$, and $c$ be integers.\n",
    "\n",
    "If $a \\mid b$ then $a \\mid bc$.\n",
    "\n",
    "<span style=\"color: #0096FF;\"><b>Proof</b></span>\n",
    "\n",
    "Suppose $a \\mid b$. Then there is an integer $k$ such that $ak = b \\implies a(ck) = bc \\implies a \\mid bc$.\n",
    "\n",
    "$\\blacksquare$"
   ]
  },
  {
   "cell_type": "markdown",
   "metadata": {},
   "source": [
    "<span style=\"color: #0096FF;\"><b>Claim</b></span>\n",
    "\n",
    "If $ac = ad$ with $a \\ne 0$ then $c = d$."
   ]
  },
  {
   "cell_type": "markdown",
   "metadata": {},
   "source": [
    "---"
   ]
  },
  {
   "cell_type": "markdown",
   "metadata": {},
   "source": [
    "<span style=\"color: #0096FF;\"><b>Claim</b></span>\n",
    "\n",
    "Let $a$, $b$, and $c$ be integers. If $a \\mid b$ and $b \\mid c$ then $a \\mid c$.\n",
    "\n",
    "<span style=\"color: #0096FF;\"><b>Proof</b></span>\n",
    "\n",
    "Suppose $a \\mid b$ and $b \\mid c$. Then there are integers $d$ and $e$ such that $b = ad$ and\n",
    "\n",
    "$c = be = (ad)e = a(de)$\n",
    "\n",
    "$\\blacksquare$\n",
    "\n",
    "Let $a_1, a_2, \\dotsc, a_n$ be integers. If $a_1 \\mid a_2, a_2 \\mid a_3, \\dotsc, a_{n - 1} \\mid a_n$ then $a_1 \\mid a_n$."
   ]
  },
  {
   "cell_type": "markdown",
   "metadata": {},
   "source": [
    "---"
   ]
  },
  {
   "cell_type": "markdown",
   "metadata": {},
   "source": [
    "<span style=\"color: #0096FF;\"><b>Claim</b></span>\n",
    "\n",
    "Let $a$, $b$, $c$, $x$, $y$ be integers with $a \\ne 0$.\n",
    "\n",
    "If $a \\mid b$ and $a \\mid c$ then $a \\mid (bx + cy)$.\n",
    "\n",
    "<span style=\"color: #0096FF;\"><b>Proof</b></span>\n",
    "\n",
    "Suppose $a \\mid b$ and $a \\mid c$. Then there are integers $m$ and $n$ such that $am = b$ and $an = c$.\n",
    "\n",
    "$\n",
    "\\begin{aligned}\n",
    "b  + c  &= am  + an  = a(m + n)   &&\\implies a \\mid (b + c) \\\\\n",
    "bx + cy &= amx + any = a(mx + ny) &&\\implies a \\mid (bx + cy) \\\\\n",
    "\\end  {aligned}\n",
    "$\n",
    "\n",
    "$\\blacksquare$\n",
    "\n",
    "$\\forall a, b_i \\in \\mathbb{Z} \\,\\, , \\,\\, i \\in \\{ 1, \\dots, n \\} \\,\\, [ \\,\\, (a \\mid b_1 \\land \\dots \\land a \\mid b_n) \\implies a \\mid \\sum_{j = 1}^n b_jx_j \\,\\, ]$"
   ]
  },
  {
   "cell_type": "markdown",
   "metadata": {},
   "source": [
    "---"
   ]
  },
  {
   "cell_type": "markdown",
   "metadata": {},
   "source": [
    "<span style=\"color: #0096FF;\"><b>Claim</b></span>\n",
    "\n",
    "Let $a$ and $b$ be nonzero integers.\n",
    "\n",
    "If $a \\mid b$ then $|a| \\le |b|$.\n",
    "\n",
    "<span style=\"color: #0096FF;\"><b>Proof</b></span>\n",
    "\n",
    "Suppose $a \\mid b$. Then there is an integer $k$ such that $ak = b$.\n",
    "\n",
    "$ak = b \\implies |ak| = |b| = |a||k| = |b|$\n",
    "\n",
    "Since $b$ is nonzero this excludes the possibility that $|k| = 0$. Thus\n",
    "\n",
    "$1 \\le |k| \\implies |a| \\le |a||k| = |b|$\n",
    "\n",
    "$\\blacksquare$"
   ]
  },
  {
   "cell_type": "markdown",
   "metadata": {},
   "source": [
    "---"
   ]
  },
  {
   "cell_type": "markdown",
   "metadata": {},
   "source": [
    "<span style=\"color: #0096FF;\"><b>Claim</b></span>\n",
    "\n",
    "The Fibonacci sequence is defined as follows.\n",
    "\n",
    "$\n",
    "F :=\n",
    "\\begin{cases}\n",
    "F_1 &= 1 \\\\\n",
    "F_2 &= 1 \\\\\n",
    "F_{n + 1} &= F_n + F_{n - 1} && n \\in \\{ 2, 3, \\dots \\} \\\\\n",
    "\\end{cases}\n",
    "$\n",
    "\n",
    "If $m$ divides both $F_n$ and $F_{n + 1}$ then $m = 1$.\n",
    "\n",
    "<span style=\"color: #0096FF;\"><b>Proof by induction</b></span>\n",
    "\n",
    "Suppose $m \\mid F_2$ and $m \\mid F_3$. Then there are integers $s$ and $t$ such that $ms = F_2 = 1$ and $mt = F_3 = 2$\n",
    "\n",
    "$ms = 1 \\implies m = 1$\n",
    "\n",
    "Suppose $m \\mid F_n$ and $m \\mid F_{n + 1}$. Then there are integers $s$ and $t$ such that $ms = F_n$ and\n",
    "\n",
    "$mt = F_{n + 1} = F_n + F_{n - 1} = ms + F_{n - 1} \\implies F_{n - 1} = mt - ms = m(t - s)$\n",
    "\n",
    "$m \\mid F_{n - 1} \\implies m = 1$\n",
    "\n",
    "$\\blacksquare$"
   ]
  },
  {
   "cell_type": "markdown",
   "metadata": {},
   "source": [
    "---"
   ]
  },
  {
   "cell_type": "markdown",
   "metadata": {},
   "source": [
    "<span style=\"color: #0096FF;\"><b>Claim</b></span>\n",
    "\n",
    "If $n$ is odd then $8 \\mid (n^2 - 1)$.\n",
    "\n",
    "<span style=\"color: #0096FF;\"><b>Proof</b></span>\n",
    "\n",
    "$n$ has the form $2k + 1$ for some integer $k$.\n",
    "\n",
    "$n = 2k + 1 \\implies n^2 = 4k^2 + 4k + 1 \\implies n^2 - 1 = 4k(k + 1)$\n",
    "\n",
    "One of $k$ and $k + 1$ is even and one is odd and so their product $k(k + 1)$ is even and has the form $2m$ for some integer $m$.\n",
    "\n",
    "$k(k + 1) = 2m$ so $n^2 - 1 = 4(2m) = n^2 - 1 = 8m \\implies 8 \\mid (n^2 - 1)$\n",
    "\n",
    "$\\blacksquare$"
   ]
  },
  {
   "cell_type": "markdown",
   "metadata": {},
   "source": [
    "---"
   ]
  },
  {
   "cell_type": "markdown",
   "metadata": {},
   "source": [
    "<span style=\"color: #0096FF;\"><b>Claim</b></span>\n",
    "\n",
    "If $m$ and $n$ are integers of the form $4k + 1$ then so is $mn$.\n",
    "\n",
    "<span style=\"color: #0096FF;\"><b>Proof</b></span>\n",
    "\n",
    "Suppose $m = 4s + 1$ and $n = 4t + 1$ for some integers $s$ and $t$.\n",
    "\n",
    "$mn = (4s + 1)(4t + 1) = 16st + 4s + 4t + 1 = 4(4st + s + t) + 1$\n",
    "\n",
    "$\\blacksquare$"
   ]
  },
  {
   "cell_type": "markdown",
   "metadata": {},
   "source": [
    "---"
   ]
  },
  {
   "cell_type": "markdown",
   "metadata": {},
   "source": [
    "<span style=\"color: #0096FF;\"><b>Claim</b></span>\n",
    "\n",
    "If $mn$ is of the form $4k - 1$ then so is one of $m$ or $n$.\n",
    "\n",
    "<span style=\"color: #0096FF;\"><b>Proof</b></span>\n",
    "\n",
    "Suppose $mn = 4k - 1$ for some integer $k$.\n",
    "\n",
    "$mn = 4(4st + s - t) - 1 = 16st + 4s - 4t - 1 = (4s - 1)(4t + 1)$\n",
    "\n",
    "$\\blacksquare$\n",
    "\n",
    "<span style=\"color: #0096FF;\"><b>Proof by contraposition</b></span>\n",
    "\n",
    "Suppose both $m$ and $n$ are even.\n",
    "\n",
    "$mn = 2s \\times 2t = 4k$ with $k = st$\n",
    "\n",
    "$\\blacksquare$"
   ]
  },
  {
   "cell_type": "markdown",
   "metadata": {},
   "source": [
    "---"
   ]
  },
  {
   "cell_type": "markdown",
   "metadata": {},
   "source": [
    "<span style=\"color: #0096FF;\"><b>Claim</b></span>\n",
    "\n",
    "$\\sqrt{2}$ is irrational.\n",
    "\n",
    "<span style=\"color: #0096FF;\"><b>Proof by contradiction</b></span>\n",
    "\n",
    "Let $\\sqrt{2} = \\frac{m}{n}$ where $m$ and $n$ are integers and the fraction is reduced (i.e., $m$ and $n$ have no common divisors larger than $1$).\n",
    "\n",
    "$\n",
    "\\begin{aligned}\n",
    "\\sqrt{2} &= \\frac{m}{n} && \\text{hypothesis} \\\\\n",
    "2 &= \\frac{m^2}{n^2} \\\\\n",
    "2n^2 &= m^2 \\\\\n",
    "2 &\\mid m^2 \\\\\n",
    "2 \\mid m^2 &\\rightarrow 2 \\mid m \\\\\n",
    "2 &\\mid m && \\text{modus ponens} \\\\\n",
    "2 \\mid m^2 &\\rightarrow 4 \\mid m^2 \\\\\n",
    "4 &\\mid m^2 && \\text{modus ponens} \\\\\n",
    "4 &\\mid 2n^2 \\\\\n",
    "2 &\\mid n^2 \\\\\n",
    "2 \\mid n^2 &\\rightarrow 2 \\mid n \\\\\n",
    "2 &\\mid n && \\text{modus ponens} \\\\\n",
    "2 \\mid m &\\land 2 \\mid n && \\text{contradiction, m and n have no common divisors larger than 1} \\\\\n",
    "\\end{aligned}\n",
    "$\n",
    "\n",
    "$\\blacksquare$"
   ]
  },
  {
   "cell_type": "markdown",
   "metadata": {},
   "source": [
    "---"
   ]
  },
  {
   "cell_type": "markdown",
   "metadata": {},
   "source": [
    "Let $x$ and $y$ be integers. Find all integral solutions to the equation $x^2 - y^2 = 105$.\n",
    "\n",
    "> $x^2 - y^2 = (x - y)(x + y) = 3 \\cdot 5 \\cdot 7 = 105$  \n",
    ">  \n",
    "> $x - y = 1 \\implies x + y = 3 \\cdot 5 \\cdot 7$  \n",
    ">> $x = y + 1 \\implies y = \\frac{3 \\cdot 5 \\cdot 7 - 1}{2} = 52 \\implies x = 53$  \n",
    ">> $(53 - 52)(53 + 52) = 1 \\cdot 105$  \n",
    ">  \n",
    "> $x - y = 3 \\implies x + y = 5 \\cdot 7$  \n",
    ">> $x = y + 3 \\implies y = \\frac{5 \\cdot 7 - 3}{2} = 16 \\implies x = 19$  \n",
    ">> $(19 - 16)(16 + 19) = 3 \\cdot 35$\n",
    ">  \n",
    "> $x - y = 5 \\implies x + y = 3 \\cdot 7$  \n",
    ">> $x = y + 5 \\implies y = \\frac{3 \\cdot 7 - 5}{2} = 8 \\implies x = 13$  \n",
    ">> $(13 - 8)(13 + 8) \\implies 5 \\cdot 21$\n",
    ">  \n",
    "> $x - y = 7 \\implies x + y = 3 \\cdot 5$  \n",
    ">> $x = y + 7 \\implies y = \\frac{3 \\cdot 5 - 7}{2} = 4 \\implies x = 11$  \n",
    ">> $(11 - 4)(11 + 4) \\implies 7 \\cdot 15$  \n",
    ">  \n",
    ">  $(1, 105)$  \n",
    ">  $(-1, 105)$  \n",
    ">  $(1, -105)$  \n",
    ">  $(-1, -105)$  \n",
    ">  $(3, 35)$  \n",
    ">  $(-3, 35)$  \n",
    ">  $(3, -35)$  \n",
    ">  $(-3, -35)$  \n",
    ">  $(5, 21)$  \n",
    ">  $(-5, 21)$  \n",
    ">  $(5, -21)$  \n",
    ">  $(-5, -21)$  \n",
    ">  $(7, 15)$  \n",
    ">  $(-7, 15)$  \n",
    ">  $(7, -15)$  \n",
    ">  $(-7, -15)$  "
   ]
  },
  {
   "cell_type": "markdown",
   "metadata": {},
   "source": [
    "---"
   ]
  },
  {
   "cell_type": "markdown",
   "metadata": {},
   "source": [
    "## Prime"
   ]
  },
  {
   "cell_type": "markdown",
   "metadata": {},
   "source": [
    "<span style=\"color: #0096FF;\"><b>PRIME</b></span>\n",
    "\n",
    "<div style=\"color: #0096FF;\">\n",
    "\n",
    "Let $p$ be a positive integer with $p \\gt 1$. $p$ is called prime if it has exactly two (positive) divisors, $1$ and $p$.\n",
    "</div>\n",
    "\n",
    "(Another way to say this is as follows. A member of $\\mathbb{N}$ greater than $1$ which is only divisible by $1$ and itself is called a prime number $p$.)\n",
    "\n",
    "$1$ is not a prime because it only has one (positive) divisor, and a prime number has exactly two (positive) divisors.\n",
    "\n",
    "The units $\\pm 1$ and the primes have no proper divisors."
   ]
  },
  {
   "cell_type": "markdown",
   "metadata": {},
   "source": [
    "<span style=\"color: #50C878;\"><b>$101$ is a prime number.</b></span>\n",
    "\n",
    "It must be shown that there are no divisors $1 \\lt d \\lt 101$.\n",
    "\n",
    "If $d$ is a divisor then there is an integer $e$ such that $de = 101$.\n",
    "\n",
    "Further, one of $d, e \\le \\sqrt{101}$\n",
    "* If both $d \\gt \\sqrt{101}$ and $e \\gt \\sqrt{101}$ then $de \\gt 101$\n",
    "* If we can't find any factors $\\le \\sqrt{101}$ then $101$ is prime\n",
    "\n",
    "So, we only need to check $1 \\lt d \\lt \\sqrt{101}$ (up to $10$)\n",
    "* So, we only need to check primes $2, 3, 5, 7$\n",
    "* $2$ and $5$ are not divisors"
   ]
  },
  {
   "cell_type": "markdown",
   "metadata": {},
   "source": [
    "<span style=\"color: #0096FF;\"><b>COMPOSITE</b></span>\n",
    "\n",
    "<div style=\"color: #0096FF;\">\n",
    "\n",
    "Let $c$ be a positive integer with $c \\gt 1$. $a$ is called composite if it has a proper divisor $d$ with $1 \\lt d \\lt c$.\n",
    "</div>\n",
    "\n",
    "In other words, if a positive integer greater than one is not prime then it is composite. The primes and composites form a partition of the set of positive integers greater than one."
   ]
  },
  {
   "cell_type": "markdown",
   "metadata": {},
   "source": [
    "---"
   ]
  },
  {
   "cell_type": "markdown",
   "metadata": {},
   "source": [
    "## Fundamental Theorem of Arithmetic"
   ]
  },
  {
   "cell_type": "markdown",
   "metadata": {},
   "source": [
    "<span style=\"color: #0096FF;\"><b>FUNDAMENTAL THEOREM OF ARITHMETIC</b></span>\n",
    "\n",
    "Every member $n$ of $\\mathbb{N}^{+}$ is a product of primes.\n",
    "\n",
    "<span style=\"color: #0096FF;\"><b>Proof by induction</b></span>\n",
    "\n",
    "$n = 1$ is an empty product of primes.\n",
    "\n",
    "Suppose any $m \\le n$ is a product of primes.\n",
    "\n",
    "If $n + 1$ is a prime then we are done.\n",
    "\n",
    "If $n + 1$ is not prime then it has a proper divisors $d$ and $\\frac{n + 1}{d}$ with $1 \\lt d, \\frac{n + 1}{d} \\lt n + 1$.\n",
    "\n",
    "But then on the inductive hypothesis both $d$ and $\\frac{n + 1}{d}$ are primes and so $n + 1$ is a product of primes.\n",
    "\n",
    "$\\blacksquare$"
   ]
  },
  {
   "cell_type": "markdown",
   "metadata": {},
   "source": [
    "\n",
    "\n",
    "__Fundamental Theorem (alternative)__\n",
    "\n",
    "Every integer greater than $1$ has a prime factor.\n",
    "\n",
    "Inductive Hypothesis: Let $1 \\lt m \\lt n$ have a prime factor.\n",
    "* Case: $n$ is prime.\n",
    "* Case: $n$ is not prime. Then it has a factorization $n = ab$ where $1 \\lt a, b \\lt n$. By the inductive hypothesis, $a$ has a prime factor $p$. Since $p \\mid a$ and $a \\mid n$ it is the case that $p \\mid n$."
   ]
  },
  {
   "cell_type": "markdown",
   "metadata": {},
   "source": [
    "---"
   ]
  },
  {
   "cell_type": "markdown",
   "metadata": {},
   "source": [
    "<span style=\"color: #0096FF;\"><b>Claim</b></span>\n",
    "\n",
    "Let $d(n)$ be the number of divisors of the integer $n$ with prime factorization $p^a q^b r^c \\dots$\n",
    "\n",
    "Then $d(n) = (a + 1)(b + 1)(c + 1) \\dots$"
   ]
  },
  {
   "cell_type": "markdown",
   "metadata": {},
   "source": [
    "How many divisors does a perfect square have? An odd number since the exponents in their prime factorizations are all even.\n",
    "\n",
    "$\n",
    "\\begin{aligned}\n",
    "   4 &= 2^2      &&&  3 &&& 2^0 \\times 2^2, 2^1 \\times 2^1 \\\\\n",
    "   9 &= 3^2      &&&  3 &&& 3^0 \\times 3^2, 3^1 \\times 3^1 \\\\\n",
    "  16 &= 2^4      &&&  5 &&& 2^0 \\times 2^4, 2^1 \\times 2^3, 2^2 \\times 2^2 \\\\\n",
    "  25 &= 5^2      &&&  3 &&& 5^0 \\times 5^2, 5^1 \\times 5^1 \\\\\n",
    "  36 &= 2^2  3^2 &&&  9 &&& 2^0 3^0 \\times 2^2 3^2, 2^1 3^0 \\times 2^1 3^2, 2^0 3^1 \\times 2^2 3^1, 2^2 3^0 \\times 2^0 3^2, 2^1 3^1 \\times 2^1 3^1 \\\\\n",
    "  49 &= 7^2      &&&  3 &&& 7^0 \\times 7^2, 7^1 \\times 7^1 \\\\\n",
    "  64 &= 2^6      &&&  7 &&& 1, 2, 4, 8, 16, 32, 64 \\\\\n",
    "  81 &= 3^4      &&&  5 &&& 1, 3, 9, 27, 81 \\\\\n",
    " 100 &= 2^2  5^2 &&&  9 &&& 1, 2, 4, 5, 10, 20, 25, 50, 100 \\\\\n",
    " 121 &= 11^2     &&&  3 &&& 1, 11, 121 \\\\\n",
    " 144 &= 2^4  3^2 &&& 15 &&& 1, 2, 3, 4, 6, 8, 9, 12, 16, 18, 24, 36, 48, 72, 144 \\\\\n",
    " 169 &= 13^2     &&&  3 &&& 1, 13, 169 \\\\\n",
    " 196 &= 2^2  7^2 &&&  9 &&& \\\\\n",
    " 225 &= 3^2  5^2 &&&  9 &&& \\\\\n",
    " 256 &= 2^8      &&&  9 &&& \\\\\n",
    " 289 &= 17^2     &&&  3 &&& 1, 17, 189 \\\\\n",
    " 324 &= 2^2  3^4 &&& 15 &&& \\\\\n",
    " 361 &= 19^2     &&&  3 &&& 1, 19, 361 \\\\\n",
    " 400 &= 2^4  5^2 &&& 15 &&& \\\\\n",
    " 441 &= 3^2  7^2 &&&  9 &&& \\\\\n",
    " 484 &= 2^2 11^2 &&&  9 &&& \\\\\n",
    " 529 &= 23^2     &&&  3 &&& 1, 23, 529 \\\\\n",
    " 576 &= 2^6 3^2  &&& 21 &&& \\\\\n",
    " 625 &= 5^4      &&&  5 &&& 1, 5, 25, 125, 625 \\\\\n",
    " 676 &= 2^2 13^2 &&&  9 &&& \\\\\n",
    " 729 &= 3^6      &&&  7 &&& \\\\\n",
    " 784 &= 2^4 7^2  &&& 15 &&& \\\\\n",
    " 841 &= 29^2     &&&  3 &&& 1, 29, 841 \\\\\n",
    " 900 &= 2^2 3^2 5^2 &&& 27 &&& \\\\\n",
    " 961 &= 31^2     &&&  3 &&& 1, 31, 961 \\\\\n",
    "1024 &= 2^{10}   &&& 11 &&& \\\\\n",
    "\\end  {aligned}\n",
    "$"
   ]
  },
  {
   "cell_type": "markdown",
   "metadata": {},
   "source": [
    "---"
   ]
  },
  {
   "cell_type": "markdown",
   "metadata": {},
   "source": [
    "## Euclid's Theorem"
   ]
  },
  {
   "cell_type": "markdown",
   "metadata": {},
   "source": [
    "<span style=\"color: #0096FF;\"><b>EUCLID'S THEOREM</b></span>\n",
    "\n",
    "<div style=\"color: #0096FF;\">\n",
    "\n",
    "There are infinitely many primes.\n",
    "</div>\n",
    "\n",
    "To show that there are infinitely many primes, it must be shown that every finite list of primes is missing a prime and so the list of all primes cannot be finite.\n",
    "\n",
    "<span style=\"color: #0096FF;\"><b>Proof by contradiction</b></span>\n",
    "\n",
    "Suppose there are only a finite number of primes $p_1, \\dotsc, p_n$ and consider the number one more than their product $m = p_1 p_2 \\dots p_n + 1$.\n",
    "\n",
    "Clearly $m \\gt 1$ since we already know the first few primes. Thus $m$ is a product of primes by the fundamental theorem of arithmetic, and in particular there is a prime $p$ which divides $m$. $p$ must be one of $p_1, \\dotsc, p_n$, and so $p$ also divides $p_1 p_2 \\dots p_n$. Thus\n",
    "\n",
    "$p \\mid m - p_1 p_2 \\dots p_n = 1$. But no prime divides $1$, so our assumption must have been false.\n",
    "\n",
    "$\\blacksquare$"
   ]
  },
  {
   "cell_type": "markdown",
   "metadata": {},
   "source": [
    "Since $m$ is greater than $1$ it has a prime factor $p$ which can't be any of $p_1, p_2, \\dotsc, p_n$ since $m$ has remainder $1$ when divided by each $p_i$.\n",
    "\n",
    "Euclid's proof tells us that we can always find a prime outside of a finite list of primes $p_1, p_2, \\dotsc, p_n$ by using a prime factor of $p_1p_2 \\dots p_n + 1$, not by using $p_1p_2 \\dots p_n + 1$ itself."
   ]
  },
  {
   "cell_type": "markdown",
   "metadata": {},
   "source": [
    "__Euler's Proof__\n",
    "\n",
    "<div style=\"color: red;\">\n",
    "\n",
    "$S(x) = \\sum_{n \\le x} \\frac{1}{n}$\n",
    "\n",
    "$S(x) \\ge \\sum_{n \\le x} \\int_n^{n + 1} \\frac{dt}{t} \\ge \\int_1^x \\frac{dt}{t} = \\log x$\n",
    "\n",
    "$P(x) = \\prod_{p \\le x} (1 - 1/p)^{-1}$ where the product is over the primes not exceeding $x$\n",
    "\n",
    "$\n",
    "\\begin{aligned}\n",
    "P(x) &= \\prod_{p \\le x} (1 - 1/p)^{-1} \\\\\n",
    "     &= \\prod_{p \\le x} \\left(1 + \\frac{1}{p} + \\frac{1}{p^2} + \\dotsb \\right) \\ge \\sum_{n \\le x} \\frac{1}{n} = S(x) \\ge \\log x\n",
    "\\end  {aligned}\n",
    "$\n",
    "\n",
    "Since $\\log x \\to \\infty$ as $x \\to \\infty$ there must be infinitely many primes.\n",
    "\n",
    "We can be more precise. Take the $\\log$ of both sides of $P(x) \\ge \\log x$\n",
    "\n",
    "$\n",
    "\\begin{aligned}\n",
    "\\log P(x) &\\ge \\log \\log x \\\\\n",
    "\\log \\left( \\prod_{p \\le x} (1 - 1/p)^{-1} \\right) &\\ge \\log \\log x \\\\\n",
    "-\\sum_{p \\le x} \\log (1 - 1/p) &\\ge \\log \\log x \\\\\n",
    "\\sum_{p \\le x} \\sum_{k = 1}^\\infty \\frac{1}{kp^k}\n",
    "\\end  {aligned}\n",
    "$\n",
    "\n",
    "</div>"
   ]
  },
  {
   "cell_type": "markdown",
   "metadata": {},
   "source": [
    "---"
   ]
  },
  {
   "cell_type": "markdown",
   "metadata": {},
   "source": [
    "<span style=\"color: #0096FF;\"><b>Claim</b></span>\n",
    "\n",
    "Every number of the form $4k - 1$ has a prime factor of this form.\n",
    "\n",
    "<span style=\"color: #0096FF;\"><b>Proof by contradiction</b></span>\n",
    "\n",
    "\n",
    "\n",
    "$\\blacksquare$"
   ]
  },
  {
   "cell_type": "markdown",
   "metadata": {},
   "source": [
    "<span style=\"color: #0096FF;\"><b>Claim</b></span>\n",
    "\n",
    "There are infinitely many primes of the form $4k - 1$.\n",
    "\n",
    "<span style=\"color: #0096FF;\"><b>Proof by contradiction</b></span>\n",
    "\n",
    "\n",
    "\n",
    "$\\blacksquare$"
   ]
  },
  {
   "cell_type": "markdown",
   "metadata": {},
   "source": [
    "---"
   ]
  },
  {
   "cell_type": "markdown",
   "metadata": {},
   "source": [
    "## Division Algorithm"
   ]
  },
  {
   "cell_type": "markdown",
   "metadata": {},
   "source": [
    "Division of an integer by a positive integer produces a quotient and a remainder. (Operating on remainders will form the basis of modular arithmetic.)"
   ]
  },
  {
   "cell_type": "markdown",
   "metadata": {},
   "source": [
    "<span style=\"color: #0096FF;\"><b>THEOREM: DIVISION ALGORITHM</b></span>\n",
    "\n",
    "<div style=\"color: #0096FF;\">\n",
    "\n",
    "Let $a$ be an integer and $d$ a positive integer. Then there are <u>unique</u> integers $q$ and $r$ with $0 \\le r \\lt d$ s.t.\n",
    "\n",
    "$a = dq + r$\n",
    "\n",
    "where $d$ is called the __divisor__; $a$ is called the __dividend__; $q$ is called the __quotient__; and $r$ is called the __remainder__.\n",
    "\n",
    "</div>\n",
    "\n",
    "<span style=\"color: #0096FF;\"><b>Proof</b></span>\n",
    "\n",
    "Let $D = \\{ a - dx \\mid x \\in \\mathbb{Z} \\} = \\{ a, a \\pm d, a \\pm 2d, a \\pm 3d, \\dotsc \\}$.\n",
    "\n",
    "No matter what $a$ is, $D$ has at least one non-negative element and so has a least non-negative element $r$.\n",
    "\n",
    "If $a \\ge 0$ then $a \\in D$.\n",
    "\n",
    "If $a \\lt 0$ then $a - d(a - 1) \\gt 0$\n",
    "\n",
    "$\n",
    "\\begin{aligned}\n",
    "-1 - d(-1 - 1) = -1 + 2d \\\\\n",
    "-2 - d(-2 - 1) = -2 + 3d \\\\\n",
    "-3 - d(-3 - 1) = -3 + 4d \\\\\n",
    "\\end  {aligned}\n",
    "$\n",
    "\n",
    "Let $q = x$. Then $a = dq + r$ where $0 \\le r$.\n",
    "\n",
    "Suppose $r \\ge d$. Then $a = dq + r = dq + (d + r - d) = d(q + 1) + (r - d)$ with $0 \\le r - d \\lt r$. Contradiction! $r$ is the least non-negative element of $D$, not $r - d$. Therefore, it must be the case that $r \\lt d$.\n",
    "\n",
    "_Uniqueness_\n",
    "\n",
    "Suppose there is a second solution $a = dq' + r'$ with $0 \\le r' \\lt d$.\n",
    "\n",
    "Then $0 = a - a = (dq' + r') - (dq + r) = d(q' - q) + (r' - r) \\iff d|q' - q| = |r' - r|$.\n",
    "\n",
    "$d \\le d|q' - q|$ and $|r' - r| \\lt d$\n",
    "\n",
    "Contradiction!\n",
    "\n",
    "$\\blacksquare$"
   ]
  },
  {
   "cell_type": "markdown",
   "metadata": {},
   "source": [
    "---"
   ]
  },
  {
   "cell_type": "markdown",
   "metadata": {},
   "source": [
    "The integer $a$ is divisible by the integer $d$ iff the remainder is $0$ when $a$ is divided by $b$:\n",
    "\n",
    "$d \\mid a \\iff a = dq + 0$\n",
    "\n",
    "We can use the following notation to express the quotient and the remainder:\n",
    "\n",
    "$\n",
    "\\begin{aligned}\n",
    "q &= a \\textbf{ div } d \\\\\n",
    "r &= a \\textbf{ mod } d \\\\\n",
    "\\end  {aligned}\n",
    "$\n",
    "\n",
    "When $a$ is an integer and $d$ is a positive integer:\n",
    "\n",
    "$\n",
    "\\begin{aligned}\n",
    "q &= a \\textbf{ div } d &&= \\lfloor a/d \\rfloor \\\\\n",
    "r &= a \\textbf{ mod } d &&= a - d \\lfloor a/d \\rfloor \\\\\n",
    "\\end  {aligned}\n",
    "$\n",
    "\n",
    "If $d$ is fixed then $\\textbf{div}$ and $\\textbf{mod}$ are functions on the set of integers:\n",
    "\n",
    "$\n",
    "\\begin{aligned}\n",
    "\\textbf{div}_d &: \\mathbb{Z} \\to \\mathbb{Z} & \\textbf{div}_d(a) \\mapsto q \\\\\n",
    "\\textbf{mod}_d &: \\mathbb{Z} \\to \\mathbb{N} & \\textbf{mod}_d(a) \\mapsto r \\\\\n",
    "\\end  {aligned}\n",
    "$\n",
    "\n",
    "In programming languages, the modulo operator for $a \\lt 0$ may return $a - d \\lceil a/d \\rceil$ instead of $a \\textbf{ mod } d = a - d \\lfloor a/d \\rfloor$. Also unlike $a \\textbf{ mod } d$ the modulo operator may be defined when $d \\lt 0$, and even when $d = 0$.\n",
    "\n",
    "$\n",
    "\\begin{aligned}\n",
    " 17 & \\textbf{ mod } 3 = &  17 - 3 & \\times \\lfloor \\underset{ 5.\\bar{6}}{\\phantom{-}17/3} \\rfloor = 2 && &  17 &= 3 \\times    5 + 2 \\\\\n",
    "-17 & \\textbf{ mod } 3 = & -17 - 3 & \\times \\lfloor \\underset{-5.\\bar{6}}{          -17/3} \\rfloor = 1 && & -17 &= 3 \\times (-6) + 1 \\\\\n",
    "\\end  {aligned}\n",
    "$"
   ]
  },
  {
   "cell_type": "code",
   "execution_count": 3,
   "metadata": {},
   "outputs": [
    {
     "name": "stdout",
     "output_type": "stream",
     "text": [
      " 2\n",
      " 1\n",
      "-2\n",
      "-1\n"
     ]
    }
   ],
   "source": [
    "print(f'{ 17 %  3:>2}')\n",
    "print(f'{-17 %  3:>2}')\n",
    "print(f'{-17 % -3:>2}')\n",
    "print(f'{ 17 % -3:>2}')"
   ]
  },
  {
   "cell_type": "markdown",
   "metadata": {},
   "source": [
    "---"
   ]
  },
  {
   "cell_type": "code",
   "execution_count": 44,
   "metadata": {},
   "outputs": [
    {
     "name": "stdout",
     "output_type": "stream",
     "text": [
      "-20 = 3 x -7 + 1\n"
     ]
    }
   ],
   "source": [
    "# division via repeated subtraction\n",
    "# positive integers 1 <= d <= n\n",
    "def udiv (n, d):\n",
    "  q, r = 0, n\n",
    "  while r >= d:\n",
    "    r -= d\n",
    "    q += 1\n",
    "  return q, r\n",
    "\n",
    "def div (n, d):\n",
    "  assert(d != 0)\n",
    "  if d < 0:\n",
    "    q, r = udiv(n, -d)\n",
    "    return -q, r\n",
    "  if n < 0:\n",
    "    q, r = div(-n, d)\n",
    "    if r == 0:\n",
    "      return -q, 0\n",
    "    else:\n",
    "      return -q-1, d-r\n",
    "  return udiv(n, d)\n",
    "\n",
    "n = -20\n",
    "d = 3\n",
    "q, r = div(n, d)\n",
    "print(f'{n} = {d} x {q} + {r}')"
   ]
  },
  {
   "cell_type": "markdown",
   "metadata": {},
   "source": [
    "---"
   ]
  },
  {
   "cell_type": "markdown",
   "metadata": {},
   "source": [
    "## GCD"
   ]
  },
  {
   "cell_type": "markdown",
   "metadata": {},
   "source": [
    "__Summary__\n",
    "\n",
    "$\n",
    "\\begin{aligned}\n",
    "& \\gcd(a, b) \\mid a \\\\\n",
    "& \\gcd(a, b) \\mid b \\\\\n",
    "& c \\mid a \\land c \\mid b \\implies c \\mid \\gcd(a, b) \\\\\n",
    "& \\gcd \\left( \\frac{a}{\\gcd(a, b)}, \\frac{b}{\\gcd(a, b)} \\right) = 1 \\\\\n",
    "& \\gcd(a + by, b) = \\gcd(a, b) \\\\\n",
    "\\end  {aligned}\n",
    "$"
   ]
  },
  {
   "cell_type": "markdown",
   "metadata": {},
   "source": [
    "---"
   ]
  },
  {
   "cell_type": "markdown",
   "metadata": {},
   "source": [
    "<span style=\"color: #0096FF;\"><b>THEOREM</b></span>\n",
    "\n",
    "<div style=\"color: #0096FF;\">\n",
    "\n",
    "Given two integers $a, b$ not both $0$, define $D(a, b) = \\{ ax + by \\mid x, y \\in \\mathbb{Z} \\}$ Then $D(a, b)$ has positive elements. Let $\\gcd(a, b)$ denote the least positive element. Then $\\gcd(a, b)$ has the following properties.\n",
    "\n",
    "(i) $\\gcd(a, b) \\mid a$\n",
    "\n",
    "(ii) $\\gcd(a, b) \\mid b$\n",
    "\n",
    "(iii) if the integer $c$ satisfies $c \\mid a$ and $c \\mid b$ then $c \\mid \\gcd(a, b)$\n",
    "\n",
    "</div>\n",
    "\n",
    "Note that $\\gcd(a, b)$ divides every member of $D(a, b)$."
   ]
  },
  {
   "cell_type": "markdown",
   "metadata": {},
   "source": [
    "<span style=\"color: #0096FF;\"><b>Proof</b></span>\n",
    "\n",
    "__Existence__\n",
    "\n",
    "The following demonstrates that no matter which values we choose for $a$ and $b$ there are always values of $x$ and $y$ which make their linear combination positive. The case $a = b = 0$ is excluded by the theorem.\n",
    "\n",
    "$\n",
    "\\begin{aligned}\n",
    "a & \\gt 0 && \\implies a \\times \\phantom{(-}1\\phantom{)}  && + b \\times \\phantom{(-}0\\phantom{)}  = \\phantom{-}a && \\gt 0 \\\\\n",
    "b & \\gt 0 && \\implies a \\times \\phantom{(-}0\\phantom{)}  && + b \\times \\phantom{(-}1\\phantom{)}  = \\phantom{-}b && \\gt 0 \\\\\n",
    "a & \\lt 0 && \\implies a \\times                      (-1) && + b \\times \\phantom{(-}0\\phantom{)}  =           -a && \\gt 0 \\\\\n",
    "b & \\lt 0 && \\implies a \\times \\phantom{(-}0\\phantom{)}  && + b \\times                      (-1) =           -b && \\gt 0 \\\\\n",
    "\\end  {aligned}\n",
    "$\n",
    "\n",
    "Thus, the set $D(a, b)$ has at least one positive element, and so there is a least positive element.\n",
    "\n",
    "__(i)__ and __(ii)__\n",
    "\n",
    "Suppose $\\gcd(a, b) \\nmid a$. From the division algorithm we have $a = \\gcd(a, b)q + r$ with $0 \\le r \\lt \\gcd(a, b)$ and $\\gcd(a, b) \\nmid a$ implies $0 \\lt r$.\n",
    "\n",
    "<div style=\"color: red;\">\n",
    "\n",
    "Why do we need to show the following two statements?\n",
    "\n",
    "$r = a - \\gcd(a, b)q = a - (ax + by)q = a(1 - xq) + b(-yq)$ for some integers $x, y$.\n",
    "\n",
    "$0 \\lt \\underbrace{a(1 - xq) + b(-yq)}_{r} \\lt \\underbrace{ax + by}_{\\gcd(a, b)}$\n",
    "</div>\n",
    "\n",
    "Contradiction! $r$ can't be less than $\\gcd(a, b)$ since $\\gcd(a, b)$ is the least element. Thus, $\\gcd(a, b) \\mid a$ and by symmetry $\\gcd(a, b) \\mid b$.\n",
    "\n",
    "__(iii)__\n",
    "\n",
    "Suppose there is an integer $c$ such that $c \\mid a$ and $c \\mid b$. Then $a = cu$ and $b = cv$ for some integers $u, v$.\n",
    "\n",
    "$\\gcd(a, b) = ax + by = (cu)x + (cv)y = c(ux + vy) \\iff c \\mid \\gcd(a, b)$\n",
    "\n",
    "$\\blacksquare$"
   ]
  },
  {
   "cell_type": "markdown",
   "metadata": {},
   "source": [
    "---"
   ]
  },
  {
   "cell_type": "markdown",
   "metadata": {},
   "source": [
    "<span style=\"color: #0096FF;\"><b>Property of GCD</b></span>\n",
    "\n",
    "<div style=\"color: #0096FF;\">\n",
    "\n",
    "$\\gcd \\left( \\frac{a}{\\gcd(a, b)}, \\frac{b}{\\gcd(a, b)} \\right) = 1$\n",
    "</div>\n",
    "\n",
    "If this quantity is denoted $d$ then the following hold\n",
    "\n",
    "$d \\mid \\frac{a}{\\gcd(a, b)} \\iff d \\cdot \\gcd(a, b) \\mid a$\n",
    "\n",
    "$d \\mid \\frac{b}{\\gcd(a, b)} \\iff d \\cdot \\gcd(a, b) \\mid b$\n",
    "\n",
    "Whatever integer divides both of two integers divides their $\\gcd$ and so $d \\cdot \\gcd(a, b) \\mid \\gcd(a, b) \\iff d \\mid 1 \\iff d = 1$\n",
    "\n",
    "$\\blacksquare$"
   ]
  },
  {
   "cell_type": "markdown",
   "metadata": {},
   "source": [
    "---"
   ]
  },
  {
   "cell_type": "markdown",
   "metadata": {},
   "source": [
    "<span style=\"color: #0096FF;\"><b>Property of GCD</b></span>\n",
    "\n",
    "<div style=\"color: #0096FF;\">\n",
    "\n",
    "Suppose $a$ and $b$ are not both $0$. Then for any integer $y$ we have $\\gcd(a + by, b) = \\gcd(a, b)$.\n",
    "</div>"
   ]
  },
  {
   "cell_type": "markdown",
   "metadata": {},
   "source": [
    "<span style=\"color: #0096FF;\"><b>Proof</b></span>\n",
    "\n",
    "Since $\\gcd(a, b) \\mid a$ and $\\gcd(a, b) \\mid b$ we know that $\\gcd(a, b) \\mid ax + by$ for any integers $x, y$. Thus $\\gcd(a, b) \\mid a + by$.\n",
    "\n",
    "Since $\\gcd(a, b) \\mid a + by$ and $\\gcd(a, b) \\mid b$ we know that $\\gcd(a, b) \\mid \\gcd(a + by, b)$.\n",
    "\n",
    "Since $\\gcd(a + by, b) \\mid a + by$ and $\\gcd(a + by, b) \\mid b$ we know that $\\gcd(a + by, b) \\mid (a + by)s + bt$ for any integers $s, t$. Thus $\\gcd(a + by, b) \\mid a + by - by = a$.\n",
    "\n",
    "Since $\\gcd(a + by, b) \\mid a$ and $\\gcd(a + by, b) \\mid b$ we know that $\\gcd(a + by, b) \\mid \\gcd(a, b)$.\n",
    "\n",
    "Since $\\gcd(a, b) \\mid \\gcd(a + by, b)$ and $\\gcd(a + by, b) \\mid \\gcd(a, b)$ it is the case that $\\gcd(a, b) = \\gcd(a + by, b)$.\n",
    "\n",
    "$\\blacksquare$"
   ]
  },
  {
   "cell_type": "markdown",
   "metadata": {},
   "source": [
    "<span style=\"color: #50C878;\"><b>Example</b></span>\n",
    "\n",
    "$\\gcd(21, 49) = \\gcd(21 + 49(3), 49)$"
   ]
  },
  {
   "cell_type": "markdown",
   "metadata": {},
   "source": [
    "---"
   ]
  },
  {
   "cell_type": "markdown",
   "metadata": {},
   "source": [
    "<span style=\"color: #0096FF;\"><b>Property of GCD</b></span>\n",
    "\n",
    "<div style=\"color: #0096FF;\">\n",
    "\n",
    "Suppose that $\\gcd(a, b) = 1$ and that $ax = by$. Then there is a $z$ such that $x = bz$ and $y = az$.\n",
    "</div>"
   ]
  },
  {
   "cell_type": "markdown",
   "metadata": {},
   "source": [
    "<span style=\"color: #0096FF;\"><b>Proof</b></span>\n",
    "\n",
    "There are integers $u, v$ such that\n",
    "\n",
    "$\\gcd(a, b) = 1 = ua + vb \\iff x = uax + vbx \\iff x = u(by) + vbx = b\\underbrace{(uy + vx)}_{z} \\iff b \\mid x$\n",
    "\n",
    "$\\gcd(a, b) = 1 = ua + vb \\iff y = uay + vby \\iff y = uay + v(ax) = a\\underbrace{(uy + vx)}_{z} \\iff a \\mid y$\n",
    "\n",
    "$\\blacksquare$"
   ]
  },
  {
   "cell_type": "markdown",
   "metadata": {},
   "source": [
    "<span style=\"color: #50C878;\"><b>Example</b></span>\n",
    "\n",
    "$\n",
    "\\begin{aligned}\n",
    "\\gcd(a, b) &= 1 &&& a \\times  x &= b \\times y &&&  x &= b \\times z &&& y &= a \\times z \\\\\n",
    "\\gcd(2, 3) &= 1 &&& 2 \\times  3 &= 3 \\times 2 &&&  3 &= 3 \\times 1 &&& 2 &= 2 \\times 1 \\\\\n",
    "\\gcd(3, 5) &= 1 &&& 3 \\times 10 &= 5 \\times 6 &&& 10 &= 5 \\times 2 &&& 6 &= 3 \\times 2 \\\\\n",
    "\\end  {aligned}\n",
    "$"
   ]
  },
  {
   "cell_type": "markdown",
   "metadata": {},
   "source": [
    "---"
   ]
  },
  {
   "cell_type": "markdown",
   "metadata": {},
   "source": [
    "<span style=\"color: #0096FF;\"><b>COROLLARY</b></span> [Vaughan Corollary 1.14]\n",
    "\n",
    "<div style=\"color: #0096FF;\">\n",
    "\n",
    "Suppose that $a$ and $b$ are integers not both $0$. Then there are integers $x, y$ such that $\\gcd(a, b) = ax + by$.\n",
    "</div>\n",
    "\n",
    "Later we will look at a way of finding suitable x and y in examples. As it stands the theorem gives no constructive way of finding them. It is a pure existence proof."
   ]
  },
  {
   "cell_type": "markdown",
   "metadata": {},
   "source": [
    "---"
   ]
  },
  {
   "cell_type": "markdown",
   "metadata": {},
   "source": [
    "## Euclid's Lemma"
   ]
  },
  {
   "cell_type": "markdown",
   "metadata": {},
   "source": [
    "<span style=\"color: #0096FF;\"><b>EUCLID'S LEMMA</b></span> [Vaughan Theorem 1.15]\n",
    "\n",
    "<div style=\"color: #0096FF;\">\n",
    "\n",
    "Suppose that $p$ is prime and that there are integers $a$ and $b$ such that $p \\mid ab$. Then either $p \\mid a$ or $p \\mid b$.\n",
    "</div>"
   ]
  },
  {
   "cell_type": "markdown",
   "metadata": {},
   "source": [
    "<span style=\"color: #0096FF;\"><b>Proof</b></span>\n",
    "\n",
    "If $a = 0$ or $b = 0$ then the result that $p \\mid 0$ is trivial. Thus we may suppose that $ab \\ne 0$.\n",
    "\n",
    "Suppose $p \\nmid a$.\n",
    "\n",
    "We know that there are integers $x$ and $y$ such that $\\gcd(a, p) = ax + py$ and that $\\gcd(a, p) \\mid a$ and $\\gcd(a, p) \\mid p$.\n",
    "\n",
    "Since $p$ is prime it is the case that either $\\gcd(a, p) = 1$ or $\\gcd(a, p) = p$.\n",
    "\n",
    "If it were the case that $\\gcd(a, p) = p$ then $p \\mid a$. But we supposed that $p \\nmid a$.\n",
    "\n",
    "So $\\gcd(a, p) = 1 = ax + py \\iff b = abx + pby$.\n",
    "\n",
    "$p \\mid ab \\iff ab = pc$ for some integer $c$. Then $b = (pc)x + pby \\iff b = p(cx + by) \\iff p \\mid b$\n",
    "\n",
    "$\\blacksquare$"
   ]
  },
  {
   "cell_type": "markdown",
   "metadata": {},
   "source": [
    "<span style=\"color: #50C878;\"><b>Example</b></span>\n",
    "\n",
    "$\n",
    "\\begin{array}{c|c|c|c}\n",
    "p & ab \\\\ \\hline\n",
    "3 & \\phantom{1}6 = 3 \\times 2 \\\\ \\hline\n",
    "3 & 15 = 3 \\times 5 \\\\ \\hline\n",
    "\\end  {array}\n",
    "$"
   ]
  },
  {
   "cell_type": "markdown",
   "metadata": {},
   "source": [
    "__Euclid's Lemma is not obvious__\n",
    "\n",
    "Consider the set of integers $\\mathcal{A}$ of the form $4k + 1$ which is closed under multiplication:\n",
    "\n",
    "$(4k_1 + 1)(4k_2 + 1) = 4^2k_1k_2 + 4k_1 + 4k_2 + 1 = 4 (\\underbrace{4k_1k_2 + k_1 + k_2}_{k_3}) + 1$\n",
    "\n",
    "Here are the first few members of this set:\n",
    "\n",
    "$\n",
    "\\begin{aligned}\n",
    "4(1) + 1 &= \\phantom{1}  5 \\\\\n",
    "4(2) + 1 &= \\phantom{1}  9 \\\\\n",
    "4(3) + 1 &=             13 \\\\\n",
    "4(4) + 1 &=             17 \\\\\n",
    "4(5) + 1 &=             21 \\\\\n",
    "\\color{red}{4(6) + 1} &\\phantom{.} \\color{red}{= 25} \\\\\n",
    "4(7) + 1 &=             29 \\\\\n",
    "4(8) + 1 &=             33 \\\\\n",
    "4(9) + 1 &=             37 \\\\\n",
    "4(10) + 1 &=            41 \\\\\n",
    "\\color{red}{4(11) + 1} &\\phantom{.} \\color{red}{= 45} \\\\\n",
    "4(12) + 1 &=            49 \\\\\n",
    "\\end  {aligned}\n",
    "$\n",
    "\n",
    "A prime in this system is defined as a number which is only divisible by $1$ and itself:\n",
    "\n",
    "$5, 9, 13, 17, 21, 29, 33, 37, 41, 49, \\dotsc$\n",
    "\n",
    "The prime factorization of $25$ in this system is $5 \\times 5$ and the prime factorization of $45$ in this system is $5 \\times 9$.\n",
    "\n",
    "In this system, prime factorization is not unique: $441 = 9 \\times 49 = 21^2$\n",
    "\n",
    "$21 \\mid 9 \\times 49$ but $21 \\nmid 9$ and $21 \\nmid 49$\n",
    "\n",
    "$\\mathcal{A}$ is not closed under addition, but $\\mathbb{Z}$ is."
   ]
  },
  {
   "cell_type": "markdown",
   "metadata": {},
   "source": [
    "<span style=\"color: #0096FF;\"><b>THEOREM</b></span> [Vaughan Theorem 1.17]\n",
    "\n",
    "<div style=\"color: #0096FF;\">\n",
    "\n",
    "Suppose that\n",
    "\n",
    "$p, p_1, p_2, \\dotsc, p_r$\n",
    "\n",
    "are primes and that\n",
    "\n",
    "$p \\mid p_1 p_2 \\dots p_r$\n",
    "\n",
    "Then $p = p_j$ for some $j$ with $1 \\le j \\le r$.\n",
    "</div>"
   ]
  },
  {
   "cell_type": "markdown",
   "metadata": {},
   "source": [
    "__Theorem__\n",
    "\n",
    "Suppose that $p, p_1, p_2, \\dotsc, p_r$ are primes and that $p \\mid p_1 p_2 \\dots p_r$. Then $p = p_j$ for some $j$ with $1 \\le j \\le r$.\n",
    "\n",
    "$\\text{Proof by induction on } r$\n",
    "\n",
    "Base Case: $r = 1$\n",
    "\n",
    "$p \\mid p_1 \\implies p = p_1$\n",
    "\n",
    "Inductive Hypothesis: Suppose the $r$-th case is established and that $p \\mid p_1 p_2 \\dots p_r p_{r + 1}$.\n",
    "\n",
    "Then either $p \\mid p_{r + 1}$ or $p \\mid p_1 p_2 \\dots p_r$.\n",
    "\n",
    "If $p \\mid p_{r + 1}$ then $p = p_{r + 1}$. Otherwise it has been established that if $p \\mid p_1 p_2 \\dots p_r$ then $p = p_j$ for some $j$ with $1 \\le j \\le r$."
   ]
  },
  {
   "cell_type": "markdown",
   "metadata": {},
   "source": [
    "---"
   ]
  }
 ],
 "metadata": {
  "kernelspec": {
   "display_name": "ml",
   "language": "python",
   "name": "python3"
  },
  "language_info": {
   "codemirror_mode": {
    "name": "ipython",
    "version": 3
   },
   "file_extension": ".py",
   "mimetype": "text/x-python",
   "name": "python",
   "nbconvert_exporter": "python",
   "pygments_lexer": "ipython3",
   "version": "3.11.9"
  }
 },
 "nbformat": 4,
 "nbformat_minor": 2
}
