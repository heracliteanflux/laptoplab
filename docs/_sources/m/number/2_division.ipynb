{
 "cells": [
  {
   "cell_type": "markdown",
   "metadata": {},
   "source": [
    "# Division"
   ]
  },
  {
   "cell_type": "markdown",
   "metadata": {},
   "source": [
    "---"
   ]
  },
  {
   "cell_type": "markdown",
   "metadata": {},
   "source": [
    "## Contents\n",
    "```{contents}\n",
    "```"
   ]
  },
  {
   "cell_type": "markdown",
   "metadata": {},
   "source": [
    "---"
   ]
  },
  {
   "cell_type": "markdown",
   "metadata": {},
   "source": [
    "<span style=\"color: #0096FF;\"><b>DIVISION</b></span>\n",
    "\n",
    "<div style=\"color: #0096FF;\">\n",
    "\n",
    "Let $a$ and $b$ be integers. We say that $a$ _divides_ $b$ when there is an integer $c$ such that $ac = b$ and we write $a \\mid b$.\n",
    "</div>\n",
    "\n",
    "We say that $a$ is a _divisor_ of $b$ and that $b$ is a _multiple_ of $a$.\n",
    "\n",
    "$\\pm 1, \\pm n$ are called the trivial divisors of $n$. Otherwise a divisor $d$ with $1 \\lt |d| \\lt n$ is non-trivial or _proper_.\n",
    "\n",
    "Although divisors may be negative, we usually only speak of positive divisors."
   ]
  },
  {
   "cell_type": "markdown",
   "metadata": {},
   "source": [
    "<span style=\"color: #50C878;\"><b>Example</b></span>\n",
    "\n",
    "List the divisors $d$ of $1$.\n",
    "\n",
    "$\n",
    "\\begin{aligned}\n",
    " d \\mid 1 &&  d & \\times \\phantom{-}k \\\\ \\hline\n",
    "-1 \\mid 1 && -1 & \\times -1 \\\\\n",
    " 1 \\mid 1 &&  1 & \\times \\phantom{-}1 \\\\\n",
    "\\end  {aligned}\n",
    "$"
   ]
  },
  {
   "cell_type": "markdown",
   "metadata": {},
   "source": [
    "<span style=\"color: #50C878;\"><b>Example</b></span>\n",
    "\n",
    "List the divisors $d$ of $6$.\n",
    "\n",
    "$\n",
    "\\begin{aligned}\n",
    " d \\mid 6 &&  d & \\times \\phantom{-}k \\\\ \\hline\n",
    "-6 \\mid 6 && -6 & \\times -1 \\\\\n",
    "-3 \\mid 6 && -3 & \\times -2 \\\\\n",
    "-2 \\mid 6 && -2 & \\times -3 \\\\\n",
    "-1 \\mid 6 && -1 & \\times -6 \\\\\n",
    " 1 \\mid 6 &&  1 & \\times \\phantom{-}6 \\\\\n",
    " 2 \\mid 6 &&  2 & \\times \\phantom{-}3 \\\\\n",
    " 3 \\mid 6 &&  3 & \\times \\phantom{-}2 \\\\\n",
    " 6 \\mid 6 &&  6 & \\times \\phantom{-}1 \\\\\n",
    "\\end  {aligned}\n",
    "$"
   ]
  },
  {
   "cell_type": "markdown",
   "metadata": {},
   "source": [
    "---"
   ]
  },
  {
   "cell_type": "markdown",
   "metadata": {},
   "source": [
    "<span style=\"color: #0096FF;\"><b>Claim</b></span>\n",
    "\n",
    "$\\pm1$ divide every integer.\n",
    "\n",
    "<span style=\"color: #0096FF;\"><b>Proof</b></span>\n",
    "\n",
    "Let $a$ be any integer.\n",
    "\n",
    "Suppose $\\phantom{-}1 \\mid a$. Then there is an integer $k$ such that $\\phantom{-}1 \\times k = a$, namely $\\phantom{-}a$ itself.\n",
    "\n",
    "Suppose $-1 \\mid a$. Then there is an integer $k$ such that $-1 \\times k = a$, namely $-a$.\n",
    "\n",
    "$\\blacksquare$"
   ]
  },
  {
   "cell_type": "markdown",
   "metadata": {},
   "source": [
    "---"
   ]
  },
  {
   "cell_type": "markdown",
   "metadata": {},
   "source": [
    "<span style=\"color: #0096FF;\"><b>Claim</b></span>\n",
    "\n",
    "Every <span style=\"color: red;\">nonzero</span> integer $a$ and its negation $-a$ divides itself.\n",
    "\n",
    "<span style=\"color: #0096FF;\"><b>Proof</b></span>\n",
    "\n",
    "Let $a$ be a <span style=\"color: red;\">nonzero</span> integer.\n",
    "\n",
    "Suppose $\\phantom{-}a \\mid a$. Then there is an integer $k$ such that $\\phantom{-}ak = a$, namely $\\phantom{-}1$.\n",
    "\n",
    "Suppose $-a \\mid a$. Then there is an integer $k$ such that $-ak = a$, namely $-1$.\n",
    "\n",
    "$\\blacksquare$"
   ]
  },
  {
   "cell_type": "markdown",
   "metadata": {},
   "source": [
    "---"
   ]
  },
  {
   "cell_type": "markdown",
   "metadata": {},
   "source": [
    "<span style=\"color: #0096FF;\"><b>Claim</b></span>\n",
    "\n",
    "Every <span style=\"color: red;\">nonzero</span> integer divides zero.\n",
    "\n",
    "<span style=\"color: #0096FF;\"><b>Proof</b></span>\n",
    "\n",
    "Suppose $a$ is a <span style=\"color: red;\">nonzero</span> integer and $a \\mid 0$. Then there is an integer $k$ such that $ak = 0$, namely $0$ itself.\n",
    "\n",
    "$\\blacksquare$"
   ]
  },
  {
   "cell_type": "markdown",
   "metadata": {},
   "source": [
    "<span style=\"color: #0096FF;\"><b>Claim</b></span>\n",
    "\n",
    "<div style=\"color: red;\">\n",
    "\n",
    "$0a = 0$ for any $a$.\n",
    "</div>"
   ]
  },
  {
   "cell_type": "markdown",
   "metadata": {},
   "source": [
    "---"
   ]
  },
  {
   "cell_type": "markdown",
   "metadata": {},
   "source": [
    "<span style=\"color: #0096FF;\"><b>Claim</b></span>\n",
    "\n",
    "<div style=\"color: #0096FF;\">\n",
    "\n",
    "Zero does not divide any integer.\n",
    "</div>\n",
    "\n",
    "Zero division is undefined.\n",
    "\n",
    "<span style=\"color: red;\">Does it make sense to give a proof like the following?</span>\n",
    "\n",
    "<span style=\"color: #0096FF;\"><b>Proof</b></span>\n",
    "\n",
    "<div style=\"color: red;\">\n",
    "\n",
    "Suppose $0 \\mid a$ with $a \\ne 0$. Then there exists an integer $k$ such that $0k = a$. This equation requires $a$ be $0$.\n",
    "\n",
    "Suppose $0 \\mid a$ with $a = 0$. Then there exists an integer $k$ such that $0k = 0$. This equation is true for any integer $k$.\n",
    "\n",
    "Suppose $k = 1$. Then $k = 1 = \\frac{0}{0} = \\frac{0 + 0}{0} = \\frac{0}{0} + \\frac{0}{0} = 1 + 1 = 2$\n",
    "</div>\n",
    "\n",
    "$\\blacksquare$"
   ]
  },
  {
   "cell_type": "markdown",
   "metadata": {},
   "source": [
    "---"
   ]
  },
  {
   "cell_type": "markdown",
   "metadata": {},
   "source": [
    "<span style=\"color: #0096FF;\"><b>Claim</b></span>\n",
    "\n",
    "Let $a$ and $b$ be <span style=\"color: red;\">nonzero</span> integers. If $a \\mid b$ and $b \\mid a$ then $a = \\pm b$.\n",
    "\n",
    "\"If two integers divide each other then they are equal up to parity.\"\n",
    "\n",
    "<span style=\"color: #0096FF;\"><b>Proof</b></span>\n",
    "\n",
    "Suppose $a \\mid b$ and $b \\mid a$. Then there exist integers $m$ and $n$ such that $am = b$ and\n",
    "\n",
    "$a = bn = (am)n = a(mn) \\implies 1 = mn \\implies m = n = \\pm 1$\n",
    "\n",
    "Suppose $m = n = \\phantom{-}1$. Then $a = \\phantom{-}b$.\n",
    "\n",
    "Suppose $m = n = -1$. Then $a = -b$.\n",
    "\n",
    "$\\blacksquare$"
   ]
  },
  {
   "cell_type": "markdown",
   "metadata": {},
   "source": [
    "<span style=\"color: #0096FF;\"><b>Claim</b></span>\n",
    "\n",
    "If $ab = 1$ then $a = b = \\pm 1$."
   ]
  },
  {
   "cell_type": "markdown",
   "metadata": {},
   "source": [
    "---"
   ]
  },
  {
   "cell_type": "markdown",
   "metadata": {},
   "source": [
    "<span style=\"color: #0096FF;\"><b>Claim</b></span>\n",
    "\n",
    "Let $a$, $b$, and $c$ be integers with $c \\ne 0$.\n",
    "\n",
    "$ac \\mid bc$ iff $a \\mid b$.\n",
    "\n",
    "<span style=\"color: #0096FF;\"><b>Proof</b></span>\n",
    "\n",
    "Suppose $ac \\mid bc$. Then there is an integer $k$ such that $ack = bc \\implies ak = b \\implies a \\mid b$.\n",
    "\n",
    "Suppose $a \\mid b$. Then there is an integer $k$ such that $ak = b \\implies ack = bc \\implies ac \\mid bc$.\n",
    "\n",
    "$\\blacksquare$"
   ]
  },
  {
   "cell_type": "markdown",
   "metadata": {},
   "source": [
    "<span style=\"color: #0096FF;\"><b>Claim</b></span>\n",
    "\n",
    "Let $a$, $b$, and $c$ be integers.\n",
    "\n",
    "If $a \\mid b$ then $a \\mid bc$.\n",
    "\n",
    "<span style=\"color: #0096FF;\"><b>Proof</b></span>\n",
    "\n",
    "Suppose $a \\mid b$. Then there is an integer $k$ such that $ak = b \\implies a(ck) = bc \\implies a \\mid bc$.\n",
    "\n",
    "$\\blacksquare$"
   ]
  },
  {
   "cell_type": "markdown",
   "metadata": {},
   "source": [
    "<span style=\"color: #0096FF;\"><b>Claim</b></span>\n",
    "\n",
    "If $ac = ad$ with $a \\ne 0$ then $c = d$."
   ]
  },
  {
   "cell_type": "markdown",
   "metadata": {},
   "source": [
    "---"
   ]
  },
  {
   "cell_type": "markdown",
   "metadata": {},
   "source": [
    "<span style=\"color: #0096FF;\"><b>Claim</b></span>\n",
    "\n",
    "Let $a$, $b$, and $c$ be integers. If $a \\mid b$ and $b \\mid c$ then $a \\mid c$.\n",
    "\n",
    "<span style=\"color: #0096FF;\"><b>Proof</b></span>\n",
    "\n",
    "Suppose $a \\mid b$ and $b \\mid c$. Then there are integers $d$ and $e$ such that $b = ad$ and\n",
    "\n",
    "$c = be = (ad)e = a(de)$\n",
    "\n",
    "$\\blacksquare$\n",
    "\n",
    "Let $a_1, a_2, \\dotsc, a_n$ be integers. If $a_1 \\mid a_2, a_2 \\mid a_3, \\dotsc, a_{n - 1} \\mid a_n$ then $a_1 \\mid a_n$."
   ]
  },
  {
   "cell_type": "markdown",
   "metadata": {},
   "source": [
    "---"
   ]
  },
  {
   "cell_type": "markdown",
   "metadata": {},
   "source": [
    "<span style=\"color: #0096FF;\"><b>Claim</b></span>\n",
    "\n",
    "Let $a$, $b$, $c$, $x$, $y$ be integers with $a \\ne 0$.\n",
    "\n",
    "If $a \\mid b$ and $a \\mid c$ then $a \\mid (bx + cy)$.\n",
    "\n",
    "<span style=\"color: #0096FF;\"><b>Proof</b></span>\n",
    "\n",
    "Suppose $a \\mid b$ and $a \\mid c$. Then there are integers $m$ and $n$ such that $am = b$ and $an = c$.\n",
    "\n",
    "$\n",
    "\\begin{aligned}\n",
    "b  + c  &= am  + an  = a(m + n)   &&\\implies a \\mid (b + c) \\\\\n",
    "bx + cy &= amx + any = a(mx + ny) &&\\implies a \\mid (bx + cy) \\\\\n",
    "\\end  {aligned}\n",
    "$\n",
    "\n",
    "$\\blacksquare$\n",
    "\n",
    "$\\forall a, b_i \\in \\mathbb{Z} \\,\\, , \\,\\, i \\in \\{ 1, \\dots, n \\} \\,\\, [ \\,\\, (a \\mid b_1 \\land \\dots \\land a \\mid b_n) \\implies a \\mid \\sum_{j = 1}^n b_jx_j \\,\\, ]$"
   ]
  },
  {
   "cell_type": "markdown",
   "metadata": {},
   "source": [
    "---"
   ]
  },
  {
   "cell_type": "markdown",
   "metadata": {},
   "source": [
    "<span style=\"color: #0096FF;\"><b>Claim</b></span>\n",
    "\n",
    "Let $a$ and $b$ be nonzero integers.\n",
    "\n",
    "If $a \\mid b$ then $|a| \\le |b|$.\n",
    "\n",
    "<span style=\"color: #0096FF;\"><b>Proof</b></span>\n",
    "\n",
    "Suppose $a \\mid b$. Then there is an integer $k$ such that $ak = b$.\n",
    "\n",
    "$ak = b \\implies |ak| = |b| = |a||k| = |b|$\n",
    "\n",
    "Since $b$ is nonzero this excludes the possibility that $|k| = 0$. Thus\n",
    "\n",
    "$1 \\le |k| \\implies |a| \\le |a||k| = |b|$\n",
    "\n",
    "$\\blacksquare$"
   ]
  },
  {
   "cell_type": "markdown",
   "metadata": {},
   "source": [
    "---"
   ]
  },
  {
   "cell_type": "markdown",
   "metadata": {},
   "source": [
    "<span style=\"color: #0096FF;\"><b>Claim</b></span>\n",
    "\n",
    "The Fibonacci sequence is defined as follows.\n",
    "\n",
    "$\n",
    "F :=\n",
    "\\begin{cases}\n",
    "F_1 &= 1 \\\\\n",
    "F_2 &= 1 \\\\\n",
    "F_{n + 1} &= F_n + F_{n - 1} && n \\in \\{ 2, 3, \\dots \\} \\\\\n",
    "\\end{cases}\n",
    "$\n",
    "\n",
    "If $m$ divides both $F_n$ and $F_{n + 1}$ then $m = 1$.\n",
    "\n",
    "<span style=\"color: #0096FF;\"><b>Proof by induction</b></span>\n",
    "\n",
    "Suppose $m \\mid F_2$ and $m \\mid F_3$. Then there are integers $s$ and $t$ such that $ms = F_2 = 1$ and $mt = F_3 = 2$\n",
    "\n",
    "$ms = 1 \\implies m = 1$\n",
    "\n",
    "Suppose $m \\mid F_n$ and $m \\mid F_{n + 1}$. Then there are integers $s$ and $t$ such that $ms = F_n$ and\n",
    "\n",
    "$mt = F_{n + 1} = F_n + F_{n - 1} = ms + F_{n - 1} \\implies F_{n - 1} = mt - ms = m(t - s)$\n",
    "\n",
    "$m \\mid F_{n - 1} \\implies m = 1$\n",
    "\n",
    "$\\blacksquare$"
   ]
  },
  {
   "cell_type": "markdown",
   "metadata": {},
   "source": [
    "---"
   ]
  },
  {
   "cell_type": "markdown",
   "metadata": {},
   "source": [
    "<span style=\"color: #0096FF;\"><b>Claim</b></span>\n",
    "\n",
    "If $n$ is odd then $8 \\mid (n^2 - 1)$.\n",
    "\n",
    "<span style=\"color: #0096FF;\"><b>Proof</b></span>\n",
    "\n",
    "$n$ has the form $2k + 1$ for some integer $k$.\n",
    "\n",
    "$n = 2k + 1 \\implies n^2 = 4k^2 + 4k + 1 \\implies n^2 - 1 = 4k(k + 1)$\n",
    "\n",
    "One of $k$ and $k + 1$ is even and one is odd and so their product $k(k + 1)$ is even and has the form $2m$ for some integer $m$.\n",
    "\n",
    "$k(k + 1) = 2m$ so $n^2 - 1 = 4(2m) = n^2 - 1 = 8m \\implies 8 \\mid (n^2 - 1)$\n",
    "\n",
    "$\\blacksquare$"
   ]
  },
  {
   "cell_type": "markdown",
   "metadata": {},
   "source": [
    "---"
   ]
  },
  {
   "cell_type": "markdown",
   "metadata": {},
   "source": [
    "<span style=\"color: #0096FF;\"><b>Claim</b></span>\n",
    "\n",
    "If $m$ and $n$ are integers of the form $4k + 1$ then so is $mn$.\n",
    "\n",
    "<span style=\"color: #0096FF;\"><b>Proof</b></span>\n",
    "\n",
    "Suppose $m = 4s + 1$ and $n = 4t + 1$ for some integers $s$ and $t$.\n",
    "\n",
    "$mn = (4s + 1)(4t + 1) = 16st + 4s + 4t + 1 = 4(4st + s + t) + 1$\n",
    "\n",
    "$\\blacksquare$"
   ]
  },
  {
   "cell_type": "markdown",
   "metadata": {},
   "source": [
    "---"
   ]
  },
  {
   "cell_type": "markdown",
   "metadata": {},
   "source": [
    "<span style=\"color: #0096FF;\"><b>Claim</b></span>\n",
    "\n",
    "If $mn$ is of the form $4k - 1$ then so is one of $m$ or $n$.\n",
    "\n",
    "<span style=\"color: #0096FF;\"><b>Proof</b></span>\n",
    "\n",
    "Suppose $mn = 4k - 1$ for some integer $k$.\n",
    "\n",
    "$mn = 4(4st + s - t) - 1 = 16st + 4s - 4t - 1 = (4s - 1)(4t + 1)$\n",
    "\n",
    "$\\blacksquare$\n",
    "\n",
    "<span style=\"color: #0096FF;\"><b>Proof by contraposition</b></span>\n",
    "\n",
    "Suppose both $m$ and $n$ are even.\n",
    "\n",
    "$mn = 2s \\times 2t = 4k$ with $k = st$\n",
    "\n",
    "$\\blacksquare$"
   ]
  },
  {
   "cell_type": "markdown",
   "metadata": {},
   "source": [
    "---"
   ]
  },
  {
   "cell_type": "markdown",
   "metadata": {},
   "source": [
    "<span style=\"color: #0096FF;\"><b>Claim</b></span>\n",
    "\n",
    "$\\sqrt{2}$ is irrational.\n",
    "\n",
    "<span style=\"color: #0096FF;\"><b>Proof by contradiction</b></span>\n",
    "\n",
    "Let $\\sqrt{2} = \\frac{m}{n}$ where $m$ and $n$ are integers and the fraction is reduced (i.e., $m$ and $n$ have no common divisors larger than $1$).\n",
    "\n",
    "$\n",
    "\\begin{aligned}\n",
    "\\sqrt{2} &= \\frac{m}{n} && \\text{hypothesis} \\\\\n",
    "2 &= \\frac{m^2}{n^2} \\\\\n",
    "2n^2 &= m^2 \\\\\n",
    "2 &\\mid m^2 \\\\\n",
    "2 \\mid m^2 &\\rightarrow 2 \\mid m \\\\\n",
    "2 &\\mid m && \\text{modus ponens} \\\\\n",
    "2 \\mid m^2 &\\rightarrow 4 \\mid m^2 \\\\\n",
    "4 &\\mid m^2 && \\text{modus ponens} \\\\\n",
    "4 &\\mid 2n^2 \\\\\n",
    "2 &\\mid n^2 \\\\\n",
    "2 \\mid n^2 &\\rightarrow 2 \\mid n \\\\\n",
    "2 &\\mid n && \\text{modus ponens} \\\\\n",
    "2 \\mid m &\\land 2 \\mid n && \\text{contradiction, m and n have no common divisors larger than 1} \\\\\n",
    "\\end{aligned}\n",
    "$\n",
    "\n",
    "$\\blacksquare$"
   ]
  },
  {
   "cell_type": "markdown",
   "metadata": {},
   "source": [
    "---"
   ]
  },
  {
   "cell_type": "markdown",
   "metadata": {},
   "source": [
    "Let $x$ and $y$ be integers. Find all integral solutions to the equation $x^2 - y^2 = 105$.\n",
    "\n",
    "> $x^2 - y^2 = (x - y)(x + y) = 3 \\cdot 5 \\cdot 7 = 105$  \n",
    ">  \n",
    "> $x - y = 1 \\implies x + y = 3 \\cdot 5 \\cdot 7$  \n",
    ">> $x = y + 1 \\implies y = \\frac{3 \\cdot 5 \\cdot 7 - 1}{2} = 52 \\implies x = 53$  \n",
    ">> $(53 - 52)(53 + 52) = 1 \\cdot 105$  \n",
    ">  \n",
    "> $x - y = 3 \\implies x + y = 5 \\cdot 7$  \n",
    ">> $x = y + 3 \\implies y = \\frac{5 \\cdot 7 - 3}{2} = 16 \\implies x = 19$  \n",
    ">> $(19 - 16)(16 + 19) = 3 \\cdot 35$\n",
    ">  \n",
    "> $x - y = 5 \\implies x + y = 3 \\cdot 7$  \n",
    ">> $x = y + 5 \\implies y = \\frac{3 \\cdot 7 - 5}{2} = 8 \\implies x = 13$  \n",
    ">> $(13 - 8)(13 + 8) \\implies 5 \\cdot 21$\n",
    ">  \n",
    "> $x - y = 7 \\implies x + y = 3 \\cdot 5$  \n",
    ">> $x = y + 7 \\implies y = \\frac{3 \\cdot 5 - 7}{2} = 4 \\implies x = 11$  \n",
    ">> $(11 - 4)(11 + 4) \\implies 7 \\cdot 15$  \n",
    ">  \n",
    ">  $(1, 105)$  \n",
    ">  $(-1, 105)$  \n",
    ">  $(1, -105)$  \n",
    ">  $(-1, -105)$  \n",
    ">  $(3, 35)$  \n",
    ">  $(-3, 35)$  \n",
    ">  $(3, -35)$  \n",
    ">  $(-3, -35)$  \n",
    ">  $(5, 21)$  \n",
    ">  $(-5, 21)$  \n",
    ">  $(5, -21)$  \n",
    ">  $(-5, -21)$  \n",
    ">  $(7, 15)$  \n",
    ">  $(-7, 15)$  \n",
    ">  $(7, -15)$  \n",
    ">  $(-7, -15)$  "
   ]
  },
  {
   "cell_type": "markdown",
   "metadata": {},
   "source": [
    "---"
   ]
  },
  {
   "cell_type": "markdown",
   "metadata": {},
   "source": [
    "## Prime Factorization"
   ]
  },
  {
   "cell_type": "markdown",
   "metadata": {},
   "source": [
    "---"
   ]
  },
  {
   "cell_type": "markdown",
   "metadata": {},
   "source": [
    "<span style=\"color: #0096FF;\"><b>PRIME</b></span>\n",
    "\n",
    "<div style=\"color: #0096FF;\">\n",
    "\n",
    "Let $p$ be a positive integer with $p \\gt 1$. $p$ is called prime if it has exactly two (positive) divisors, $1$ and $p$.\n",
    "</div>\n",
    "\n",
    "$1$ is not a prime because it only has one (positive) divisor, and a prime number has exactly two (positive) divisors.\n",
    "\n",
    "The units $\\pm 1$ and the primes have no proper divisors."
   ]
  },
  {
   "cell_type": "markdown",
   "metadata": {},
   "source": [
    "<span style=\"color: #0096FF;\"><b>COMPOSITE</b></span>\n",
    "\n",
    "<div style=\"color: #0096FF;\">\n",
    "\n",
    "Let $c$ be a positive integer with $c \\gt 1$. $a$ is called composite if it has a proper divisor $d$ with $1 \\lt d \\lt c$.\n",
    "</div>\n",
    "\n",
    "In other words, if a positive integer greater than one is not prime then it is composite. The primes and composites form a partition of the set of positive integers greater than one."
   ]
  },
  {
   "cell_type": "markdown",
   "metadata": {},
   "source": [
    "---"
   ]
  },
  {
   "cell_type": "markdown",
   "metadata": {},
   "source": [
    "<span style=\"color: #0096FF;\"><b>FUNDAMENTAL THEOREM OF ARITHMETIC</b></span>\n",
    "\n",
    "Every member $n$ of $\\mathbb{N}^{+}$ is a product of primes.\n",
    "\n",
    "<span style=\"color: #0096FF;\"><b>Proof by induction</b></span>\n",
    "\n",
    "$n = 1$ is an empty product of primes.\n",
    "\n",
    "Suppose any $m \\le n$ is a product of primes.\n",
    "\n",
    "If $n + 1$ is a prime then we are done.\n",
    "\n",
    "If $n + 1$ is not prime then it has a proper divisors $d$ and $\\frac{n + 1}{d}$ with $1 \\lt d, \\frac{n + 1}{d} \\lt n + 1$.\n",
    "\n",
    "But then on the inductive hypothesis both $d$ and $\\frac{n + 1}{d}$ are primes and so $n + 1$ is a product of primes.\n",
    "\n",
    "$\\blacksquare$"
   ]
  },
  {
   "cell_type": "markdown",
   "metadata": {},
   "source": [
    "---"
   ]
  },
  {
   "cell_type": "markdown",
   "metadata": {},
   "source": [
    "<span style=\"color: #0096FF;\"><b>Claim</b></span>\n",
    "\n",
    "Let $d(n)$ be the number of divisors of the integer $n$ with prime factorization $p^a q^b r^c \\dots$\n",
    "\n",
    "Then $d(n) = (a + 1)(b + 1)(c + 1) \\dots$"
   ]
  },
  {
   "cell_type": "markdown",
   "metadata": {},
   "source": [
    "How many divisors does a perfect square have? An odd number since the exponents in their prime factorizations are all even.\n",
    "\n",
    "$\n",
    "\\begin{aligned}\n",
    "   4 &= 2^2      &&&  3 &&& 2^0 \\times 2^2, 2^1 \\times 2^1 \\\\\n",
    "   9 &= 3^2      &&&  3 &&& 3^0 \\times 3^2, 3^1 \\times 3^1 \\\\\n",
    "  16 &= 2^4      &&&  5 &&& 2^0 \\times 2^4, 2^1 \\times 2^3, 2^2 \\times 2^2 \\\\\n",
    "  25 &= 5^2      &&&  3 &&& 5^0 \\times 5^2, 5^1 \\times 5^1 \\\\\n",
    "  36 &= 2^2  3^2 &&&  9 &&& 2^0 3^0 \\times 2^2 3^2, 2^1 3^0 \\times 2^1 3^2, 2^0 3^1 \\times 2^2 3^1, 2^2 3^0 \\times 2^0 3^2, 2^1 3^1 \\times 2^1 3^1 \\\\\n",
    "  49 &= 7^2      &&&  3 &&& 7^0 \\times 7^2, 7^1 \\times 7^1 \\\\\n",
    "  64 &= 2^6      &&&  7 &&& 1, 2, 4, 8, 16, 32, 64 \\\\\n",
    "  81 &= 3^4      &&&  5 &&& 1, 3, 9, 27, 81 \\\\\n",
    " 100 &= 2^2  5^2 &&&  9 &&& 1, 2, 4, 5, 10, 20, 25, 50, 100 \\\\\n",
    " 121 &= 11^2     &&&  3 &&& 1, 11, 121 \\\\\n",
    " 144 &= 2^4  3^2 &&& 15 &&& 1, 2, 3, 4, 6, 8, 9, 12, 16, 18, 24, 36, 48, 72, 144 \\\\\n",
    " 169 &= 13^2     &&&  3 &&& 1, 13, 169 \\\\\n",
    " 196 &= 2^2  7^2 &&&  9 &&& \\\\\n",
    " 225 &= 3^2  5^2 &&&  9 &&& \\\\\n",
    " 256 &= 2^8      &&&  9 &&& \\\\\n",
    " 289 &= 17^2     &&&  3 &&& 1, 17, 189 \\\\\n",
    " 324 &= 2^2  3^4 &&& 15 &&& \\\\\n",
    " 361 &= 19^2     &&&  3 &&& 1, 19, 361 \\\\\n",
    " 400 &= 2^4  5^2 &&& 15 &&& \\\\\n",
    " 441 &= 3^2  7^2 &&&  9 &&& \\\\\n",
    " 484 &= 2^2 11^2 &&&  9 &&& \\\\\n",
    " 529 &= 23^2     &&&  3 &&& 1, 23, 529 \\\\\n",
    " 576 &= 2^6 3^2  &&& 21 &&& \\\\\n",
    " 625 &= 5^4      &&&  5 &&& 1, 5, 25, 125, 625 \\\\\n",
    " 676 &= 2^2 13^2 &&&  9 &&& \\\\\n",
    " 729 &= 3^6      &&&  7 &&& \\\\\n",
    " 784 &= 2^4 7^2  &&& 15 &&& \\\\\n",
    " 841 &= 29^2     &&&  3 &&& 1, 29, 841 \\\\\n",
    " 900 &= 2^2 3^2 5^2 &&& 27 &&& \\\\\n",
    " 961 &= 31^2     &&&  3 &&& 1, 31, 961 \\\\\n",
    "1024 &= 2^{10}   &&& 11 &&& \\\\\n",
    "\\end  {aligned}\n",
    "$"
   ]
  },
  {
   "cell_type": "markdown",
   "metadata": {},
   "source": [
    "---"
   ]
  },
  {
   "cell_type": "markdown",
   "metadata": {},
   "source": [
    "<span style=\"color: #0096FF;\"><b>EUCLID'S THEOREM</b></span>\n",
    "\n",
    "There are infinitely many primes.\n",
    "\n",
    "<span style=\"color: #0096FF;\"><b>Proof by contradiction</b></span>\n",
    "\n",
    "Suppose there are only a finite number of primes $p_1, \\dotsc, p_n$ and consider the number one more than their product $m = p_1 p_2 \\dots p_n + 1$.\n",
    "\n",
    "Clearly $m \\gt 1$ since we already know the first few primes. Thus $m$ is a product of primes by the fundamental theorem of arithmetic, and in particular there is a prime $p$ which divides $m$. $p$ must be one of $p_1, \\dotsc, p_n$, and so $p$ also divides $p_1 p_2 \\dots p_n$. Thus\n",
    "\n",
    "$p \\mid m - p_1 p_2 \\dots p_n = 1$. But no prime divides $1$, so our assumption must have been false.\n",
    "\n",
    "$\\blacksquare$"
   ]
  },
  {
   "cell_type": "markdown",
   "metadata": {},
   "source": [
    "---"
   ]
  },
  {
   "cell_type": "markdown",
   "metadata": {},
   "source": [
    "<span style=\"color: #0096FF;\"><b>Claim</b></span>\n",
    "\n",
    "Every number of the form $4k - 1$ has a prime factor of this form.\n",
    "\n",
    "<span style=\"color: #0096FF;\"><b>Proof by contradiction</b></span>\n",
    "\n",
    "\n",
    "\n",
    "$\\blacksquare$"
   ]
  },
  {
   "cell_type": "markdown",
   "metadata": {},
   "source": [
    "<span style=\"color: #0096FF;\"><b>Claim</b></span>\n",
    "\n",
    "There are infinitely many primes of the form $4k - 1$.\n",
    "\n",
    "<span style=\"color: #0096FF;\"><b>Proof by contradiction</b></span>\n",
    "\n",
    "\n",
    "\n",
    "$\\blacksquare$"
   ]
  },
  {
   "cell_type": "markdown",
   "metadata": {},
   "source": [
    "---"
   ]
  }
 ],
 "metadata": {
  "kernelspec": {
   "display_name": "ml",
   "language": "python",
   "name": "python3"
  },
  "language_info": {
   "codemirror_mode": {
    "name": "ipython",
    "version": 3
   },
   "file_extension": ".py",
   "mimetype": "text/x-python",
   "name": "python",
   "nbconvert_exporter": "python",
   "pygments_lexer": "ipython3",
   "version": "3.11.9"
  }
 },
 "nbformat": 4,
 "nbformat_minor": 2
}
