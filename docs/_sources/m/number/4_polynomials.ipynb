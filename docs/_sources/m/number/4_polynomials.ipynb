{
 "cells": [
  {
   "cell_type": "markdown",
   "metadata": {},
   "source": [
    "# Polynomials"
   ]
  },
  {
   "cell_type": "markdown",
   "metadata": {},
   "source": [
    "---\n",
    "---\n",
    "---"
   ]
  },
  {
   "cell_type": "markdown",
   "metadata": {},
   "source": [
    "## Contents\n",
    "```{contents}\n",
    "```"
   ]
  },
  {
   "cell_type": "markdown",
   "metadata": {},
   "source": [
    "---\n",
    "---\n",
    "---"
   ]
  },
  {
   "cell_type": "markdown",
   "metadata": {},
   "source": [
    "<span style=\"color: #0096FF;\"><b>REAL POLYNOMIAL FUNCTION</b></span>\n",
    "\n",
    "<div style=\"color: #0096FF;\">\n",
    "\n",
    "A real polynomial function $f$ is a map from the set $\\mathbb{R}$ to itself\n",
    "\n",
    "$f : \\mathbb{R} \\to \\mathbb{R}$\n",
    "\n",
    "where the value $f(x)$ of the function $f$ at every real number $x$ is given by a formula which is a real linear combination of nonnegative-integral powers of $x$ (the same formula for all values of $x$).\n",
    "</div>"
   ]
  },
  {
   "cell_type": "markdown",
   "metadata": {},
   "source": [
    "<span style=\"color: #50C878;\"><b>Example</b></span>\n",
    "\n",
    "$f(x) = x^3 + 1$"
   ]
  },
  {
   "cell_type": "markdown",
   "metadata": {},
   "source": [
    "<span style=\"color: #0096FF;\"><b>POLYNOMIAL (EXPRESSION)</b></span>\n",
    "\n",
    "<div style=\"color: #0096FF;\">\n",
    "\n",
    "An expression which is a real linear combination of nonnegative-integral powers of $x$ and which therefore defines a real polynomial function is called a polynomial (expression) with coefficients in $\\mathbb{R}$ (or with real coefficients). (Polynomials with complex or rational coefficients, say, are defined similarly.)\n",
    "\n",
    "$a_0 x^0 + a_1 x^1 + \\dotsb + a_i x^i + \\dotsb$\n",
    "\n",
    "$a_i x^i$ is called a __term__ of the polynomial and $a_i$ is the term's __coefficient__.\n",
    "\n",
    "It is required that a polynomial has finitely many nonzero terms (i.e., $a_i = 0$ for all but a finite number of values of $i$). The power of $x_i$ appears in the polynomial if $a_i \\ne 0$.\n",
    "\n",
    "Notationally, we can use $f(x)$ or just $f$ to refer both to a polynomial expression or the function it defines. Thus we can write a polynomial expression or function in the following way.\n",
    "\n",
    "$\n",
    "\\begin{aligned}\n",
    "f(x) = \\sum_{i=0}^n a_i x^i = a_0 + a_1 x + \\dotsb + a_n x^n\n",
    "\\end  {aligned}\n",
    "$\n",
    "\n",
    "If $a_n \\ne 0$ (i.e., if $x^n$ is the highest power of $x$ which appears in the polynomial) then $a_n x^n$ is called the __leading term__ and $a_n$ is called the __leading coefficient__.\n",
    "</div>"
   ]
  },
  {
   "cell_type": "markdown",
   "metadata": {},
   "source": [
    "<span style=\"color: #0096FF;\"><b>POLYNOMIAL EQUIVALENCE</b></span>\n",
    "\n",
    "<div style=\"color: #0096FF;\">\n",
    "\n",
    "Two polynomial expressions are equivalent if we can get from one to the other by rearranging terms (because real addition is commutative) and adding or deleting terms with $0$ coefficient.\n",
    "</div>\n",
    "\n",
    "We say that two equivalent polynomial expressions $a$ and $b$ are equal and write $a = b$."
   ]
  },
  {
   "cell_type": "markdown",
   "metadata": {},
   "source": [
    "<span style=\"color: #50C878;\"><b>Example</b></span>\n",
    "\n",
    "$1 \\times x^3 + 2 \\times x + (-1) = x^3 + 2x - 1 = x^3 + 0x^2 + 2x - 1 = -1 + 2x + x^3 + 0x^5$"
   ]
  },
  {
   "cell_type": "markdown",
   "metadata": {},
   "source": [
    "<span style=\"color: #0096FF;\"><b>POLYNOMIAL DEGREE</b></span>\n",
    "\n",
    "<div style=\"color: #0096FF;\">\n",
    "\n",
    "For a given polynomial $f$ with leading term $a_n x^n$ the degree of $f$ is $n$ and we write\n",
    "\n",
    "$\\deg f = n$\n",
    "</div>"
   ]
  },
  {
   "cell_type": "markdown",
   "metadata": {},
   "source": [
    "<span style=\"color: #50C878;\"><b>Example</b></span>\n",
    "\n",
    "$\\deg (x^3 + 2x - 1) = 3$"
   ]
  },
  {
   "cell_type": "markdown",
   "metadata": {},
   "source": [
    "---"
   ]
  },
  {
   "cell_type": "markdown",
   "metadata": {},
   "source": [
    "<span style=\"color: #0096FF;\"><b>CONSTANT POLYNOMIAL</b></span>\n",
    "\n",
    "<div style=\"color: #0096FF;\">\n",
    "\n",
    "A constant polynomial is a polynomial of degree $0$ with the form\n",
    "\n",
    "$\n",
    "\\begin{aligned}\n",
    "f(x) = a \\\\\n",
    "\\end  {aligned}\n",
    "$\n",
    "\n",
    "where $a \\in \\mathbb{R}$.\n",
    "</div>\n",
    "\n",
    "The function defined by a constant polynomial is a constant function (i.e., its value does not depend on $x$).\n",
    "\n",
    "The zero polynomial is also a constant polynomial."
   ]
  },
  {
   "cell_type": "markdown",
   "metadata": {},
   "source": [
    "<span style=\"color: #0096FF;\"><b>ZERO POLYNOMIAL</b></span>\n",
    "\n",
    "<div style=\"color: #0096FF;\">\n",
    "\n",
    "The zero polynomial $\\bm{\\mathit{0}}$ is the constant polynomial that has no nonzero coefficients.\n",
    "\n",
    "$\n",
    "\\begin{aligned}\n",
    "\\bm{\\mathit{0}}(x)\n",
    "&= \\sum_{i=0}^{n} 0 + 0x + \\dotsb + 0x^n \\\\\n",
    "&= 0 \\\\\n",
    "\\end  {aligned}\n",
    "$\n",
    "\n",
    "The degree of the zero polynomial is conventionally defined to be $-1$ but some authors define it to be $-\\infty$ or leave it undefined.\n",
    "\n",
    "$\\deg \\bm{\\mathit{0}} = -1$\n",
    "</div>"
   ]
  },
  {
   "cell_type": "markdown",
   "metadata": {},
   "source": [
    "---"
   ]
  },
  {
   "cell_type": "markdown",
   "metadata": {},
   "source": [
    "<span style=\"color: #0096FF;\"><b>LINEAR POLYNOMIAL</b></span>\n",
    "\n",
    "<div style=\"color: #0096FF;\">\n",
    "\n",
    "A linear polynomial is a polynomial of degree $1$ with the form\n",
    "\n",
    "$\n",
    "\\begin{aligned}\n",
    "f(x) = ax + b \\\\\n",
    "\\end  {aligned}\n",
    "$\n",
    "\n",
    "where $a, b \\in \\mathbb{R}$ and $a \\ne 0$.\n",
    "</div>"
   ]
  },
  {
   "cell_type": "markdown",
   "metadata": {},
   "source": [
    "---"
   ]
  },
  {
   "cell_type": "markdown",
   "metadata": {},
   "source": [
    "<span style=\"color: #0096FF;\"><b>QUADRATIC POLYNOMIAL</b></span>\n",
    "\n",
    "<div style=\"color: #0096FF;\">\n",
    "\n",
    "A quadratic polynomial is a polynomial of degree $2$ with the form\n",
    "\n",
    "$\n",
    "\\begin{aligned}\n",
    "f(x) = ax^2 + bx + c \\\\\n",
    "\\end  {aligned}\n",
    "$\n",
    "\n",
    "where $a, b, c \\in \\mathbb{R}$ and $a \\ne 0$.\n",
    "</div>"
   ]
  },
  {
   "cell_type": "markdown",
   "metadata": {},
   "source": [
    "---"
   ]
  },
  {
   "cell_type": "markdown",
   "metadata": {},
   "source": [
    "<span style=\"color: #0096FF;\"><b>CUBIC POLYNOMIAL</b></span>\n",
    "\n",
    "<div style=\"color: #0096FF;\">\n",
    "\n",
    "A cubic polynomial is a polynomial of degree $3$ with the form\n",
    "\n",
    "$\n",
    "\\begin{aligned}\n",
    "f(x) = ax^3 + bx^2 + cx + d \\\\\n",
    "\\end  {aligned}\n",
    "$\n",
    "\n",
    "where $a, b, c, d \\in \\mathbb{R}$ and $a \\ne 0$.\n",
    "</div>"
   ]
  },
  {
   "cell_type": "markdown",
   "metadata": {},
   "source": [
    "---"
   ]
  },
  {
   "cell_type": "markdown",
   "metadata": {},
   "source": [
    "<span style=\"color: #0096FF;\"><b>QUARTIC POLYNOMIAL</b></span>\n",
    "\n",
    "<div style=\"color: #0096FF;\">\n",
    "\n",
    "A quartic polynomial is a polynomial of degree $4$ with the form\n",
    "\n",
    "$\n",
    "\\begin{aligned}\n",
    "f(x) = ax^4 + bx^3 + cx^2 + dx + e \\\\\n",
    "\\end  {aligned}\n",
    "$\n",
    "\n",
    "where $a, b, c, d, e \\in \\mathbb{R}$ and $a \\ne 0$.\n",
    "</div>"
   ]
  },
  {
   "cell_type": "markdown",
   "metadata": {},
   "source": [
    "---"
   ]
  },
  {
   "cell_type": "markdown",
   "metadata": {},
   "source": [
    "<span style=\"color: #0096FF;\"><b>QUINTIC POLYNOMIAL</b></span>\n",
    "\n",
    "<div style=\"color: #0096FF;\">\n",
    "\n",
    "A quintic polynomial is a polynomial of degree $5$ with the form\n",
    "\n",
    "$\n",
    "\\begin{aligned}\n",
    "f(x) = ax^5 + bx^4 + cx^3 + dx^2 + ex + f \\\\\n",
    "\\end  {aligned}\n",
    "$\n",
    "\n",
    "where $a, b, c, d, e, f \\in \\mathbb{R}$ and $a \\ne 0$.\n",
    "</div>"
   ]
  },
  {
   "cell_type": "markdown",
   "metadata": {},
   "source": [
    "---\n",
    "---\n",
    "---"
   ]
  },
  {
   "cell_type": "markdown",
   "metadata": {},
   "source": [
    "## Figures"
   ]
  },
  {
   "cell_type": "markdown",
   "metadata": {},
   "source": [
    "* [ [w](https://en.wikipedia.org/wiki/Niels_Henrik_Abel) ] `1802-1829` Abel, Niels\n",
    "* [ [w](https://en.wikipedia.org/wiki/William_George_Horner) ] `1786-1837` Horner, William\n",
    "* [ [w](https://en.wikipedia.org/wiki/Joseph-Louis_Lagrange) ] `1736-1813` Lagrange, Joseph-Louis\n",
    "* [ [w](https://en.wikipedia.org/wiki/Pierre_Alphonse_Laurent) ] `1813-1854` Laurent, Pierre\n",
    "* [ [w](https://en.wikipedia.org/wiki/Joseph_Raphson) ] `1668-1715` Raphson, Joseph\n",
    "* [ [w](https://en.wikipedia.org/wiki/Paolo_Ruffini) ] `1765-1822` Ruffini, Paolo\n",
    "* [ [w](https://en.wikipedia.org/wiki/Fran%C3%A7ois_Vi%C3%A8te) ] `1540-1603` Viète, François"
   ]
  },
  {
   "cell_type": "markdown",
   "metadata": {},
   "source": [
    "---\n",
    "---\n",
    "---"
   ]
  },
  {
   "cell_type": "markdown",
   "metadata": {},
   "source": [
    "## Terms"
   ]
  },
  {
   "cell_type": "markdown",
   "metadata": {},
   "source": [
    "[ [w](https://en.wikipedia.org/wiki/List_of_polynomial_topics) ] list of polynomial topics\n",
    "* [ [w](https://en.wikipedia.org/wiki/Abel%E2%80%93Ruffini_theorem) ] Abel-Ruffini Theorem\n",
    "* [ [w](https://en.wikipedia.org/wiki/Algebraic_expression) ] Algebraic Expression\n",
    "* [ [w](https://en.wikipedia.org/wiki/Solution_in_radicals) ] Algebraic Solution\n",
    "* [ [w](https://en.wikipedia.org/wiki/B%C3%A9zout%27s_theorem) ] Bezout's Theorem\n",
    "* [ [w](https://en.wikipedia.org/wiki/Binomial_(polynomial)) ] Binomial\n",
    "* [ [w](https://en.wikipedia.org/wiki/Characteristic_polynomial) ] Characteristic Polynomial\n",
    "* [ [w](https://en.wikipedia.org/wiki/Coefficient) ] Coefficient\n",
    "* [ [w](https://en.wikipedia.org/wiki/Constant_term) ] Constant Term\n",
    "* [ [w](https://en.wikipedia.org/wiki/Exponential_polynomial) ] Exponential Polynomial\n",
    "* [ [w](https://en.wikipedia.org/wiki/Factor_theorem) ] Factor Theorem\n",
    "* [ [w](https://en.wikipedia.org/wiki/Fundamental_theorem_of_algebra) ] Fundamental Theorem of Algebra\n",
    "* [ [w](https://en.wikipedia.org/wiki/Gauss%27s_lemma_(polynomials)) ] Gauss' Lemma\n",
    "* [ [w](https://en.wikipedia.org/wiki/Hensel%27s_lemma) ] Hensel's Lemma\n",
    "* [ [w](https://en.wikipedia.org/wiki/Homogeneous_polynomial) ] Homogeneous Polynomial\n",
    "* [ [w](https://en.wikipedia.org/wiki/Horner%27s_method) ] Horner's Method\n",
    "* [ [w](https://en.wikipedia.org/wiki/Irreducible_polynomial) ] Irreducible Polynomial\n",
    "* [ [w](https://en.wikipedia.org/wiki/Laurent_polynomial) ] Laurent Polynomial\n",
    "* [ [w](https://en.wikipedia.org/wiki/Like_terms) ] Like Terms\n",
    "* [ [w](https://en.wikipedia.org/wiki/Matrix_polynomial) ] Matrix Polynomial\n",
    "* [ [w](https://en.wikipedia.org/wiki/Monic_polynomial) ] Monic Polynomial\n",
    "* [ [w](https://en.wikipedia.org/wiki/Monomial) ] Monomial\n",
    "* [ [w](https://en.wikipedia.org/wiki/Newton%27s_method) ] Newton's Method\n",
    "* [ [w](https://en.wikipedia.org/wiki/Orthogonal_polynomials) ] Orthogonal Polynomial\n",
    "* [ [w](https://en.wikipedia.org/wiki/Polynomial) ] Polynomial\n",
    "* [ [w](https://en.wikipedia.org/wiki/Degree_of_a_polynomial) ] Polynomial Degree\n",
    "* [ [w](https://en.wikipedia.org/wiki/Algebraic_equation) ] Polynomial Equation\n",
    "* [ [w](https://en.wikipedia.org/wiki/Polynomial_evaluation) ] Polynomial Evaluation\n",
    "* [ [w](https://en.wikipedia.org/wiki/Factorization_of_polynomials) ] Polynomial Factorization\n",
    "* [ [w](https://en.wikipedia.org/wiki/Polynomial_greatest_common_divisor) ] Polynomial GCD\n",
    "* [ [w](https://en.wikipedia.org/wiki/Polynomial_long_division) ] Polynomial Long Division\n",
    "* [ [w](https://en.wikipedia.org/wiki/Polynomial_remainder_theorem) ] Polynomial Remainder Theorem\n",
    "* [ [w](https://en.wikipedia.org/wiki/Polynomial_ring) ] Polynomial Ring\n",
    "* [ [w](https://en.wikipedia.org/wiki/Geometrical_properties_of_polynomial_roots) ] Polynomial Root, geometric properties\n",
    "* [ [w](https://en.wikipedia.org/wiki/System_of_polynomial_equations) ] Polynomial System\n",
    "* [ [w](https://en.wikipedia.org/wiki/Positive_polynomial) ] Positive Polynomial\n",
    "* [ [w](https://en.wikipedia.org/wiki/Primitive_part_and_content) ] Primitive Polynomial\n",
    "* [ [w](https://en.wikipedia.org/wiki/Rational_root_theorem) ] Rational Root Theorem\n",
    "* [ [w](https://en.wikipedia.org/wiki/Zero_of_a_function) ] Root\n",
    "* [ [w](https://en.wikipedia.org/wiki/Root-finding_algorithm) ] Root-Finding Algorithm\n",
    "* [ [w](https://en.wikipedia.org/wiki/Ruffini%27s_rule) ] Ruffini's Rule\n",
    "* [ [w](https://en.wikipedia.org/wiki/Synthetic_division) ] Synthetic Division\n",
    "* [ [w](https://en.wikipedia.org/wiki/Theory_of_equations) ] Theory of Equations\n",
    "* [ [w](https://en.wikipedia.org/wiki/Trigonometric_polynomial) ] Trigonometric Polynomial\n",
    "* [ [w](https://en.wikipedia.org/wiki/Trinomial) ] Trinomial\n",
    "* [ [w](https://en.wikipedia.org/wiki/Vieta%27s_formulas) ] Vieta's Formulas"
   ]
  },
  {
   "cell_type": "markdown",
   "metadata": {},
   "source": [
    "---\n",
    "---\n",
    "---"
   ]
  }
 ],
 "metadata": {
  "language_info": {
   "name": "python"
  }
 },
 "nbformat": 4,
 "nbformat_minor": 2
}
