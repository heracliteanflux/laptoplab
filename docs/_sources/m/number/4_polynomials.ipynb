{
 "cells": [
  {
   "cell_type": "markdown",
   "metadata": {},
   "source": [
    "# Polynomials"
   ]
  },
  {
   "cell_type": "markdown",
   "metadata": {},
   "source": [
    "---\n",
    "---\n",
    "---"
   ]
  },
  {
   "cell_type": "markdown",
   "metadata": {},
   "source": [
    "## Contents\n",
    "```{contents}\n",
    "```"
   ]
  },
  {
   "cell_type": "markdown",
   "metadata": {},
   "source": [
    "---\n",
    "---\n",
    "---"
   ]
  },
  {
   "cell_type": "markdown",
   "metadata": {},
   "source": [
    "## Univariate Polynomials"
   ]
  },
  {
   "cell_type": "markdown",
   "metadata": {},
   "source": [
    "---"
   ]
  },
  {
   "cell_type": "markdown",
   "metadata": {},
   "source": [
    "<span style=\"color: #0096FF;\"><b>REAL POLYNOMIAL FUNCTION IN ONE VARIABLE</b></span>\n",
    "\n",
    "<div style=\"color: #0096FF;\">\n",
    "\n",
    "A real polynomial function $f$ in one variable is a map from the set $\\mathbb{R}$ to itself\n",
    "\n",
    "$f : \\mathbb{R} \\to \\mathbb{R}$\n",
    "\n",
    "where the value $f(x)$ of the function $f$ at every real number $x$ is given by a formula which is a real linear combination of nonnegative-integral powers of $x$ (the same formula for all values of $x$).\n",
    "</div>\n",
    "\n",
    "A real polynomial in one variable is just a polynomial in one real variable. This is to say nothing of the nature of the coefficients."
   ]
  },
  {
   "cell_type": "markdown",
   "metadata": {},
   "source": [
    "<span style=\"color: #0096FF;\"><b>POLYNOMIAL (EXPRESSION)</b></span>\n",
    "\n",
    "<div style=\"color: #0096FF;\">\n",
    "\n",
    "An expression which is a real linear combination of nonnegative-integral powers of $x$ and which therefore defines a real polynomial function is called a polynomial (expression) with coefficients in $\\mathbb{R}$ (or with real coefficients). (The coefficients of a polynomial may be drawn from a rnage of mathematical structures. Polynomials with complex or rational coefficients, say, are defined similarly.)\n",
    "\n",
    "$a_0 x^0 + a_1 x^1 + \\dotsb + a_i x^i + \\dotsb$\n",
    "\n",
    "$a_i x^i$ is called a __term__ of the polynomial and $a_i$ is the term's __coefficient__.\n",
    "\n",
    "It is required that a polynomial has finitely many nonzero terms (i.e., $a_i = 0$ for all but a finite number of values of $i$). The power of $x_i$ appears in the polynomial if $a_i \\ne 0$.\n",
    "\n",
    "Notationally, we can use $f(x)$ or just $f$ to refer both to a polynomial expression or the function it defines. Thus we can write a polynomial expression or function in the following way.\n",
    "\n",
    "$\n",
    "\\begin{aligned}\n",
    "f(x) = \\sum_{i=0}^n a_i x^i = a_0 + a_1 x + \\dotsb + a_n x^n\n",
    "\\end  {aligned}\n",
    "$\n",
    "\n",
    "If $a_n \\ne 0$ (i.e., if $x^n$ is the highest power of $x$ which appears in the polynomial) then $a_n x^n$ is called the __leading term__ and $a_n$ is called the __leading coefficient__.\n",
    "</div>"
   ]
  },
  {
   "cell_type": "markdown",
   "metadata": {},
   "source": [
    "<span style=\"color: #0096FF;\"><b>POLYNOMIAL EQUIVALENCE</b></span>\n",
    "\n",
    "<div style=\"color: #0096FF;\">\n",
    "\n",
    "Two polynomial expressions are equivalent if we can get from one to the other by rearranging terms (because real addition is commutative) and adding or deleting terms with $0$ coefficient.\n",
    "</div>\n",
    "\n",
    "We say that two equivalent polynomial expressions $a$ and $b$ are equal and write $a = b$."
   ]
  },
  {
   "cell_type": "markdown",
   "metadata": {},
   "source": [
    "<span style=\"color: #50C878;\"><b>Example</b></span>\n",
    "\n",
    "$1 \\times x^3 + 2 \\times x + (-1) = x^3 + 2x - 1 = x^3 + 0x^2 + 2x - 1 = -1 + 2x + x^3 + 0x^5$"
   ]
  },
  {
   "cell_type": "markdown",
   "metadata": {},
   "source": [
    "<span style=\"color: #0096FF;\"><b>POLYNOMIAL DEGREE</b></span>\n",
    "\n",
    "<div style=\"color: #0096FF;\">\n",
    "\n",
    "For a given polynomial $f$ with leading term $a_n x^n$ the degree of $f$ is $n$ and we write\n",
    "\n",
    "$\\deg f = n$\n",
    "</div>"
   ]
  },
  {
   "cell_type": "markdown",
   "metadata": {},
   "source": [
    "<span style=\"color: #50C878;\"><b>Example</b></span>\n",
    "\n",
    "$\\deg (x^3 + 2x - 1) = 3$"
   ]
  },
  {
   "cell_type": "markdown",
   "metadata": {},
   "source": [
    "---"
   ]
  },
  {
   "cell_type": "markdown",
   "metadata": {},
   "source": [
    "<span style=\"color: #0096FF;\"><b>CONSTANT POLYNOMIAL</b></span>\n",
    "\n",
    "<div style=\"color: #0096FF;\">\n",
    "\n",
    "A constant polynomial is a polynomial of degree $0$ with the form\n",
    "\n",
    "$\n",
    "\\begin{aligned}\n",
    "f(x) = a \\\\\n",
    "\\end  {aligned}\n",
    "$\n",
    "\n",
    "where $a \\in \\mathbb{R}$.\n",
    "</div>\n",
    "\n",
    "The function defined by a constant polynomial is a constant function (i.e., its value does not depend on $x$).\n",
    "\n",
    "The zero polynomial is also a constant polynomial."
   ]
  },
  {
   "cell_type": "markdown",
   "metadata": {},
   "source": [
    "<span style=\"color: #0096FF;\"><b>ZERO POLYNOMIAL</b></span>\n",
    "\n",
    "<div style=\"color: #0096FF;\">\n",
    "\n",
    "The zero polynomial $\\bm{\\mathit{0}}$ is the constant polynomial that has no nonzero coefficients.\n",
    "\n",
    "$\n",
    "\\begin{aligned}\n",
    "\\bm{\\mathit{0}}(x)\n",
    "&= \\sum_{i=0}^{n} 0 + 0x + \\dotsb + 0x^n \\\\\n",
    "&= 0 \\\\\n",
    "\\end  {aligned}\n",
    "$\n",
    "\n",
    "The degree of the zero polynomial is conventionally defined to be $-1$ but some authors define it to be $-\\infty$ or leave it undefined.\n",
    "\n",
    "$\\deg \\bm{\\mathit{0}} = -1$\n",
    "</div>"
   ]
  },
  {
   "cell_type": "markdown",
   "metadata": {},
   "source": [
    "---"
   ]
  },
  {
   "cell_type": "markdown",
   "metadata": {},
   "source": [
    "<span style=\"color: #0096FF;\"><b>LINEAR POLYNOMIAL</b></span>\n",
    "\n",
    "<div style=\"color: #0096FF;\">\n",
    "\n",
    "A linear polynomial is a polynomial of degree $1$ with the form\n",
    "\n",
    "$\n",
    "\\begin{aligned}\n",
    "f(x) = ax + b \\\\\n",
    "\\end  {aligned}\n",
    "$\n",
    "\n",
    "where $a, b \\in \\mathbb{R}$ and $a \\ne 0$.\n",
    "</div>"
   ]
  },
  {
   "cell_type": "markdown",
   "metadata": {},
   "source": [
    "---"
   ]
  },
  {
   "cell_type": "markdown",
   "metadata": {},
   "source": [
    "<span style=\"color: #0096FF;\"><b>QUADRATIC POLYNOMIAL</b></span>\n",
    "\n",
    "<div style=\"color: #0096FF;\">\n",
    "\n",
    "A quadratic polynomial is a polynomial of degree $2$ with the form\n",
    "\n",
    "$\n",
    "\\begin{aligned}\n",
    "f(x) = ax^2 + bx + c \\\\\n",
    "\\end  {aligned}\n",
    "$\n",
    "\n",
    "where $a, b, c \\in \\mathbb{R}$ and $a \\ne 0$.\n",
    "</div>"
   ]
  },
  {
   "cell_type": "markdown",
   "metadata": {},
   "source": [
    "---"
   ]
  },
  {
   "cell_type": "markdown",
   "metadata": {},
   "source": [
    "<span style=\"color: #0096FF;\"><b>CUBIC POLYNOMIAL</b></span>\n",
    "\n",
    "<div style=\"color: #0096FF;\">\n",
    "\n",
    "A cubic polynomial is a polynomial of degree $3$ with the form\n",
    "\n",
    "$\n",
    "\\begin{aligned}\n",
    "f(x) = ax^3 + bx^2 + cx + d \\\\\n",
    "\\end  {aligned}\n",
    "$\n",
    "\n",
    "where $a, b, c, d \\in \\mathbb{R}$ and $a \\ne 0$.\n",
    "</div>"
   ]
  },
  {
   "cell_type": "markdown",
   "metadata": {},
   "source": [
    "---"
   ]
  },
  {
   "cell_type": "markdown",
   "metadata": {},
   "source": [
    "<span style=\"color: #0096FF;\"><b>QUARTIC POLYNOMIAL</b></span>\n",
    "\n",
    "<div style=\"color: #0096FF;\">\n",
    "\n",
    "A quartic polynomial is a polynomial of degree $4$ with the form\n",
    "\n",
    "$\n",
    "\\begin{aligned}\n",
    "f(x) = ax^4 + bx^3 + cx^2 + dx + e \\\\\n",
    "\\end  {aligned}\n",
    "$\n",
    "\n",
    "where $a, b, c, d, e \\in \\mathbb{R}$ and $a \\ne 0$.\n",
    "</div>"
   ]
  },
  {
   "cell_type": "markdown",
   "metadata": {},
   "source": [
    "---"
   ]
  },
  {
   "cell_type": "markdown",
   "metadata": {},
   "source": [
    "<span style=\"color: #0096FF;\"><b>QUINTIC POLYNOMIAL</b></span>\n",
    "\n",
    "<div style=\"color: #0096FF;\">\n",
    "\n",
    "A quintic polynomial is a polynomial of degree $5$ with the form\n",
    "\n",
    "$\n",
    "\\begin{aligned}\n",
    "f(x) = ax^5 + bx^4 + cx^3 + dx^2 + ex + f \\\\\n",
    "\\end  {aligned}\n",
    "$\n",
    "\n",
    "where $a, b, c, d, e, f \\in \\mathbb{R}$ and $a \\ne 0$.\n",
    "</div>"
   ]
  },
  {
   "cell_type": "markdown",
   "metadata": {},
   "source": [
    "---\n",
    "---\n",
    "---"
   ]
  },
  {
   "cell_type": "markdown",
   "metadata": {},
   "source": [
    "## Multivariate Polynomials"
   ]
  },
  {
   "cell_type": "markdown",
   "metadata": {},
   "source": [
    "---"
   ]
  },
  {
   "cell_type": "markdown",
   "metadata": {},
   "source": [
    "<span style=\"color: #0096FF;\"><b>UNIVARIATE POLYNOMIAL</b></span>\n",
    "\n",
    "<div style=\"color: #0096FF;\">\n",
    "\n",
    "A univariate polynomial is a finite sum of terms where every term is the product of a coefficient and a monomial; a monomial is a power of the same variable; and all coefficients are of the same type.\n",
    "</div>"
   ]
  },
  {
   "cell_type": "markdown",
   "metadata": {},
   "source": [
    "<span style=\"color: #0096FF;\"><b>MULTIVARIATE POLYNOMIAL</b></span>\n",
    "\n",
    "<div style=\"color: #0096FF;\">\n",
    "\n",
    "A multivariate polynomial is a finite sum of terms where every term is the product of a coefficient and a monomial; a monomial is the product of powers of variables; and all coefficients are of the same type.\n",
    "</div>"
   ]
  },
  {
   "cell_type": "markdown",
   "metadata": {},
   "source": [
    "---"
   ]
  },
  {
   "cell_type": "markdown",
   "metadata": {},
   "source": [
    "<span style=\"color: #0096FF;\"><b>POLYNOMIAL IN TWO REAL VARIABLES WITH REAL COEFFICIENTS</b></span>\n",
    "\n",
    "<div style=\"color: #0096FF;\">\n",
    "\n",
    "$\n",
    "\\begin{aligned}\n",
    "f(x_1, x_2) = \\sum_{i, j = 0}^{m,n} a_{mn} x^m y^n = a_{00} + a_{10} x + a_{01} y + a_{11} xy + \\dotsb + a_{mn} x^m y^n\n",
    "\\end  {aligned}\n",
    "$\n",
    "\n",
    "where $a_{ij} \\in \\mathbb{R}$ is a constant and $m$ and $n$ are nonnegative integers.\n",
    "</div>\n",
    "\n",
    "If the leading coefficient $a_{nm} \\ne 0$, then the degree of the polynomial is $n + m$."
   ]
  },
  {
   "cell_type": "markdown",
   "metadata": {},
   "source": [
    "---"
   ]
  },
  {
   "cell_type": "markdown",
   "metadata": {},
   "source": [
    "<span style=\"color: #0096FF;\"><b>LINEAR POLYNOMIAL IN TWO REAL VARIABLES WITH REAL COEFFICIENTS</b></span>\n",
    "\n",
    "<div style=\"color: #0096FF;\">\n",
    "\n",
    "A linear polynomial is a polynomial of degree $1$ with the form\n",
    "\n",
    "$\n",
    "\\begin{aligned}\n",
    "f(x, y) &= a_{10} x + a_{01} y + a_{00} \\\\\n",
    "        &= ax + by + c \\\\\n",
    "\\end  {aligned}\n",
    "$\n",
    "\n",
    "where $a, b \\in \\mathbb{R}$ and either $a \\ne 0$ or $b \\ne 0$.\n",
    "</div>"
   ]
  },
  {
   "cell_type": "markdown",
   "metadata": {},
   "source": [
    "---"
   ]
  },
  {
   "cell_type": "markdown",
   "metadata": {},
   "source": [
    "<span style=\"color: #0096FF;\"><b>QUADRATIC POLYNOMIAL IN TWO REAL VARIABLES WITH REAL COEFFICIENTS</b></span>\n",
    "\n",
    "<div style=\"color: #0096FF;\">\n",
    "\n",
    "A quadratic polynomial is a polynomial of degree $2$ with the form\n",
    "\n",
    "$\n",
    "\\begin{aligned}\n",
    "f(x, y) &= a_{20} x^2 + a_{11} x y + a_{02} y^2 + a_{10} x + a_{01} y + a_{00} \\\\\n",
    "        &= ax^2 + bxy + cy^2 + dx + ey + f \\\\\n",
    "\\end  {aligned}\n",
    "$\n",
    "\n",
    "where $a, b, c, d, e, f \\in \\mathbb{R}$ and either $a \\ne 0$, $b \\ne 0$, or $c \\ne 0$.\n",
    "</div>"
   ]
  },
  {
   "cell_type": "markdown",
   "metadata": {},
   "source": [
    "---"
   ]
  },
  {
   "cell_type": "markdown",
   "metadata": {},
   "source": [
    "<span style=\"color: #0096FF;\"><b>CUBIC POLYNOMIAL IN TWO REAL VARIABLES WITH REAL COEFFICIENTS</b></span>\n",
    "\n",
    "<div style=\"color: #0096FF;\">\n",
    "\n",
    "A cubic polynomial is a polynomial of degree $3$ with the form\n",
    "\n",
    "$\n",
    "\\begin{aligned}\n",
    "f(x, y) &= a_{30} x^3 + a_{21} x^2 y + a_{12} x y^2 + a_{03} y^3 + a_{20} x^2 + a_{11} x y + a_{02} y^2 + a_{10} x + a_{01} y + a_{00} \\\\\n",
    "        &= A x^3 + B x^2 y + C x y^2 + D y^3 + E x^2 + F x y + G y^2 + H x + I y + J \\\\\n",
    "\\end  {aligned}\n",
    "$\n",
    "\n",
    "where $a, b, c, d, e, f, g, h, i, j \\in \\mathbb{R}$ and either $a \\ne 0$, $b \\ne 0$, $c \\ne 0$, or $d \\ne 0$.\n",
    "</div>"
   ]
  },
  {
   "cell_type": "markdown",
   "metadata": {},
   "source": [
    "---"
   ]
  },
  {
   "cell_type": "markdown",
   "metadata": {},
   "source": [
    "<span style=\"color: #0096FF;\"><b>POLYNOMIAL IN SEVERAL REAL VARIABLES WITH REAL COEFFICIENTS</b></span>\n",
    "\n",
    "<div style=\"color: #0096FF;\">\n",
    "\n",
    "A polynomial $f$ in $k$ real variables\n",
    "\n",
    "$f : \\mathbb{R}^k \\to \\mathbb{R}$\n",
    "\n",
    "and has the form\n",
    "\n",
    "$\n",
    "\\begin{aligned}\n",
    "f(x_1, x_2, \\dotsc, x_k) = \\sum_{i_1, i_2, \\dotsc, i_k = 0}^{n_1, n_2, \\dotsc, n_k} a_{n_1 n_2 \\dots n_k} x_1^{n_1} x_2^{n_2} \\dots x_n^{n_k}\n",
    "\\end  {aligned}\n",
    "$\n",
    "\n",
    "$P(x_1, x_2, ..., x_k) = \\sum a_{n_1 n_2 ... n_k} x_1^{n_1} x_2^{n_2} ... x_k^{n_k}$\n",
    "\n",
    "where $a_{i_1 i_2 \\dots i_k} \\in \\mathbb{R}$ is a constant and $n_1, n_2, \\dotsc, n_k$ are nonnegative integers.\n",
    "</div>\n",
    "\n",
    "If the leading coefficient $a_{n_1 n_2 \\dots n_k} \\ne 0$, then the degree of the polynomial is $\\sum n = n_1 + n_2 + \\dotsb + n_k$."
   ]
  },
  {
   "cell_type": "markdown",
   "metadata": {},
   "source": [
    "---\n",
    "---\n",
    "---"
   ]
  },
  {
   "cell_type": "markdown",
   "metadata": {},
   "source": [
    "<span style=\"color: #0096FF;\"><b>POLYNOMIAL EVALUATION</b></span>\n",
    "\n",
    "<div style=\"color: #0096FF;\">\n",
    "\n",
    "$\\mathbb{R}[x]$ is the set of all (univariate) polynomials in the (real) variable $x$ with real coefficients. The $x$ which occurs in the expression of a polynomial should be thought of as a variable which may be substituted by an arbitrary (real) number $\\alpha$. This is called evaluating the polynomial at $x = \\alpha$. We write $f(\\alpha)$ for the (real) number which is obtained by replacing every occurrence of $x$ in the expression of $f(x)$ by $\\alpha$.\n",
    "</div>"
   ]
  },
  {
   "cell_type": "markdown",
   "metadata": {},
   "source": [
    "<span style=\"color: #50C878;\"><b>Example</b></span>\n",
    "\n",
    "$\n",
    "\\begin{aligned}\n",
    "f(x) &= -5x^7 - 6x^4 + 2 \\\\\n",
    "\\alpha &= -2 \\\\\n",
    "f(\\alpha) &= -5(-2)^7 - 6(-2)^4 + 2 = 546 \\\\\n",
    "\\end  {aligned}\n",
    "$"
   ]
  },
  {
   "cell_type": "markdown",
   "metadata": {},
   "source": [
    "Where does the graph of a polynomial function intersect the $x$-axis?\n",
    "\n",
    "<span style=\"color: #0096FF;\"><b>ROOT</b></span>\n",
    "\n",
    "<div style=\"color: #0096FF;\">\n",
    "\n",
    "The real number $\\alpha$ is a zero, or root, of the polynomial $f$ if $f(\\alpha) = 0$ (that is, if the graph of $y = f(x)$ crosses the $x$-axis where $x = \\alpha$).\n",
    "</div>\n",
    "\n",
    "Not every polynomial has a (real) zero. For example, if $x$ is a real number then $x^2$ is never negative and is only zero if $x$ is zero, so $x^2 + 1$ is never zero. Thus the polynomial $x^2 + 1$ has no real roots. In order to find a zero of this equation we need to use complex numbers. In fact, every non-constant real polynomial has a zero, which may be a complex number. Further, if the real polynomial $f$ has a complex zero $\\alpha$ then the complex conjugate of $\\alpha$ is also a zero.\n",
    "\n",
    "A constant polynomial cannot have a zero unless it is actually the zero polynomial, in which case every number is a zero. So when we make general statements about zeros of polynomials we sometimes have to insert a clause excluding constant polynomials."
   ]
  },
  {
   "cell_type": "markdown",
   "metadata": {},
   "source": [
    "<span style=\"color: #50C878;\"><b>Example</b></span>\n",
    "\n",
    "For example, a linear polynomial function has as its graph a straight line. The slope and any point of intersection of the line with the $x$-axis and $y$-axis are easily determined from the coefficients $a, b$ appearing in the formula $f(x) = ax + b$ defining the values of $f(x)$.\n",
    "\n",
    "For a quadratic polynomial equation the corresponding graph may cross or touch the $x$-axis in two, one, or no points depending on the values of the constants $a, b, c$ in the formula $f(x) = ax^2 + bx + c$ defining the function. The formula for determining the zeros of $f$ in terms of the coefficients $a, b, c$ is\n",
    "\n",
    "$\n",
    "\\begin{aligned}\n",
    "x =\n",
    "\\frac{-b \\pm \\sqrt{b^2 - 4ac}}{2a}\n",
    "\\end  {aligned}\n",
    "$\n",
    "\n",
    "$f$ will have a repeated zero when $b^2 = 4ac$; no real zero when $b^2 - 4ac$ is negative; and two distinct real zeros when $b^2 - 4ac$ is positive.\n",
    "\n",
    "There are similar but more complicated formulae which give the zeros of polynomials of degree $3$ and $4$. The search for a formula for the zeros of a polynomial of degree $5$ lays at the origins of group theory."
   ]
  },
  {
   "cell_type": "markdown",
   "metadata": {},
   "source": [
    "---"
   ]
  },
  {
   "cell_type": "markdown",
   "metadata": {},
   "source": [
    "Abel proved that there is no formula of the general sort (i.e., involving arithmetic operations and taking roots) which gives the zeros of a general quintic polynomial. Nevertheless, for some types of quintics, and other higher-degree polynomials, there is a formula.\n",
    "\n",
    "Galois gave the exact conditions on a polynomial for there to be a formula for its zeros. He did this by associating a group to each polynomial and then interpreted the existence of such a formula for the zeros of the polynomial in terms of the structure of this group.\n",
    "\n",
    "There are some remarkable similarities between the set $\\mathbb{Z}$ of integers with its operations of addition and multiplication and the set $\\mathbb{R}[x]$ of polynomials with its algebraic operations."
   ]
  },
  {
   "cell_type": "markdown",
   "metadata": {},
   "source": [
    "---\n",
    "---\n",
    "---"
   ]
  },
  {
   "cell_type": "markdown",
   "metadata": {},
   "source": [
    "We obtain $f + g$ by adding together corresponding powers of $x$ in $f$ and $g$.\n",
    "\n",
    "<span style=\"color: #0096FF;\"><b>POLYNOMIAL ADDITION AND SUBTRACTION</b></span>\n",
    "\n",
    "<div style=\"color: #0096FF;\">\n",
    "\n",
    "Given $f, g \\in \\mathbb{R}[x]$, say\n",
    "\n",
    "$\n",
    "\\begin{aligned}\n",
    "f(x) &= a_0 + a_1 x + \\dotsb + a_n x^n + \\dotsb \\\\\n",
    "g(x) &= a_0 + b_1 x + \\dotsb + b_n x^n + \\dotsb \\\\\n",
    "\\end  {aligned}\n",
    "$\n",
    "\n",
    "be polynomials. Then their sum is\n",
    "\n",
    "$\n",
    "\\begin{aligned}\n",
    "f(x) + g(x) = (a_0 + b_0) + (a_1 + b_1) x + \\dotsb + (a_n + b_n) x^n + \\dotsb \\\\\n",
    "\\end  {aligned}\n",
    "$\n",
    "\n",
    "Of course all but a finite number of the coefficients $(a_i + b_i)$ will be zero, since this is so for $f(x)$ and $g(x)$.\n",
    "\n",
    "If $f$ has degree $n$ so\n",
    "\n",
    "$f(x) = \\sum_{i = 0}^n a_i x^i = a_0 + a_1 x + \\dotsb + a_n x^n$\n",
    "\n",
    "with $a_n \\ne 0$ and $g$ has degree $m$ so\n",
    "\n",
    "$g(x) = \\sum_{i = 0}^m a_i x^i = b_0 + b_1 x + \\dotsb + b_m x^m$\n",
    "\n",
    "with $b_m \\ne 0$ then\n",
    "\n",
    "$(f + g)(x) = \\sum_{k = 0}^n (a_k + b_k) x^k = (a_0 + b_0) + (a_1 + b_1) x + \\dotsb + (a_k + b_k) x^k$\n",
    "\n",
    "$(f - g)(x) = (f + (-g))(x) = \\sum_{k = 0}^n (a_k - b_k) x^k = (a_0 - b_0) + (a_1 - b_1) x + \\dotsb + (a_k - b_k) x^k$\n",
    "\n",
    "where $k$ is the larger of $n$ and $m$.\n",
    "</div>\n",
    "\n",
    "If $n \\gt m$ so $k = n$ then all the coefficients $b_{m + 1} \\dotsb b_n$ of $g$ beyond $b_m$ are $0$. But it's useful to have them there so that we can write down a formula for the sum $f + g$ in a uniform way. We will see something similar when we define multiplication of polynomials.\n",
    "\n",
    "The degree of $f + g$ is less than or equal to $k$, the larger of $n$ and $m$. It's possible for the degree of $f + g$ to be strictly smaller than this (for example, if $f = x^2 + x$ and $g = -x^2 - 1$) because the leading terms might cancel. This can only happen if $\\deg f = \\deg g$."
   ]
  },
  {
   "cell_type": "markdown",
   "metadata": {},
   "source": [
    "<span style=\"color: #50C878;\"><b>Example</b></span>\n",
    "\n",
    "$\n",
    "\\begin{aligned}\n",
    "f(x) &= 2x^2 - 5x + 3 \\\\\n",
    "g(x) &= 5x - 2 \\\\\n",
    "(f + g)(x) &= 2x^2 + 1 = (2 - 0)x^2 + (-5 + 5)x + (3 - 2) \\\\\n",
    "\\end  {aligned}\n",
    "$"
   ]
  },
  {
   "cell_type": "markdown",
   "metadata": {},
   "source": [
    "---"
   ]
  },
  {
   "cell_type": "markdown",
   "metadata": {},
   "source": [
    "<span style=\"color: #0096FF;\"><b>POLYNOMIAL DIFFERENTIATION</b></span>\n",
    "\n",
    "<div style=\"color: #0096FF;\">\n",
    "\n",
    "Let\n",
    "\n",
    "$\n",
    "\\begin{aligned}\n",
    "f(x) &= \\sum_{k = 0}^n a_k x^k \\\\\n",
    "\\end  {aligned}\n",
    "$\n",
    "\n",
    "be a polynomial. Then its derivative is\n",
    "\n",
    "$\n",
    "\\begin{aligned}\n",
    "f'(x) = \\sum_{k = 0}^n k a_k x^{k - 1} \\\\\n",
    "\\end  {aligned}\n",
    "$\n",
    "</div>"
   ]
  },
  {
   "cell_type": "markdown",
   "metadata": {},
   "source": [
    "---"
   ]
  },
  {
   "cell_type": "markdown",
   "metadata": {},
   "source": [
    "$\\mathbb{R}[x]$ is the set of all (univariate) polynomials in the (real) variable $x$ with real coefficients. $\\mathbb{R}[x]$ forms an Abelian group under addition with the zero polynomial as its identity and the inverse of the polynomial\n",
    "\n",
    "$f(x) = a_0 + a_1 x + a_2 x^2 + \\dotsb + a_x x^n$\n",
    "\n",
    "is\n",
    "\n",
    "$-f(x) = -a_0 - a_1 x - a_2 x^2 - \\dotsb - a_x x^n$"
   ]
  },
  {
   "cell_type": "markdown",
   "metadata": {},
   "source": [
    "---"
   ]
  },
  {
   "cell_type": "markdown",
   "metadata": {},
   "source": [
    "To obtain the formula for $fg$ take the formulae for $f$ and $g$ and multiply them together gathering together all the coefficients of the same power of $x$.\n",
    "\n",
    "<span style=\"color: #0096FF;\"><b>POLYNOMIAL MULTIPLICATION</b></span>\n",
    "\n",
    "<div style=\"color: #0096FF;\">\n",
    "\n",
    "Given $f, g \\in \\mathbb{R}[x]$, say\n",
    "\n",
    "$\n",
    "\\begin{aligned}\n",
    "f(x) &= \\sum_{i = 0}^n a_i x^i = a_0 + a_1 x + \\dotsb + a_n x^n \\\\\n",
    "g(x) &= \\sum_{i = 0}^m a_i x^i = b_0 + b_1 x + \\dotsb + b_m x^m \\\\\n",
    "\\end  {aligned}\n",
    "$\n",
    "\n",
    "be polynomials. Then their product is\n",
    "\n",
    "$\n",
    "\\begin{aligned}\n",
    "(fg)(x) = c_0 + c_1 x + \\dotsb + c_{n + m} x^{n + m} \\\\\n",
    "\\end  {aligned}\n",
    "$\n",
    "\n",
    "where\n",
    "\n",
    "$\n",
    "\\begin{aligned}\n",
    "c_0 &= a_0 b_0 \\\\\n",
    "c_1 &= a_0 b_1 + a_1 b_0 \\\\\n",
    "c_2 &= a_0 b_2 + a_1 b_1 + a_2 b_0 \\\\\n",
    "c_3 &= a_0 b_3 + a_1 b_2 + a_2 b_1 + a_3 b_0 \\\\\n",
    "c_4 &= a_0 b_4 + a_1 b_3 + a_2 b_2 + a_3 b_1 + a_4 b_0 \\\\\n",
    "c_5 &= a_0 b_5 + a_1 b_4 + a_2 b_3 + a_3 b_2 + a_4 b_1 + a_5 b_0 \\\\ \\vdots \\\\\n",
    "c_i &= a_0 b_i + a_1 b_{i - 1} + a_2 b_{i - 2} + \\dotsb + a_i b_0 \\\\ \\vdots \\\\\n",
    "\\end  {aligned}\n",
    "$\n",
    "</div>\n",
    "\n",
    "As with polynomial addition any undefined constants are zero.\n",
    "\n",
    "Provided $f$ and $g$ are nonzero the degree of $fg$ is the sum of the degree of $f$ and the degree of $g$ because if $\\deg f = n$ so $a_n \\ne 0$ and $\\deg g = m$ so $b_m \\ne 0$ then every coefficient $c_\\ell$ with $\\ell \\gt n + m$ is $0$ and the coefficient $c_{n + m}$ of $x^{n + m}$ is $a_n b_m$, which is nonzero."
   ]
  },
  {
   "cell_type": "markdown",
   "metadata": {},
   "source": [
    "<span style=\"color: #50C878;\"><b>Example</b></span>\n",
    "\n",
    "$\n",
    "\\begin{aligned}\n",
    "f(x) &= a_0 + a_1 x + a_2 x^2 + a_3 x^3 \\\\\n",
    "g(x) &= b_0 + b_1 x + b_2 x^2 \\\\\n",
    "(fg)(x) &= a_0 b_0 + a_0 b_1 x + a_0 b_2 x^2 + a_1 b_0 x + a_1 b_1 x^2 + a_1 b_2 x^3 + a_2 b_0 x^2 + a_2 b_1 x^3 + a_2 b_2 x^4 + a_3 b_0 x^3 + a_3 b_1 x^4 + a_3 b_2 x^5 \\\\\n",
    "&= a_0 b_0 + (a_0 b_1 + a_1 b_0) x + (a_0 b_2 + a_1 b_1 + a_2 b_0) x^2 + (a_1 b_2 + a_2 b_1 + a_3 b_0) x^3 + (a_2 b_2 + a_3 b_1) x^4 + a_3 b_2 x^5\n",
    "\\end  {aligned}\n",
    "$\n",
    "\n",
    "$\n",
    "\\begin{aligned}\n",
    "c_0 &= a_0 b_0 \\\\\n",
    "c_1 &= a_0 b_1 + a_1 b_0 \\\\\n",
    "c_2 &= a_0 b_2 + a_1 b_1 + a_2 b_0 \\\\\n",
    "c_3 &= \\phantom{a_0 b_3 + } a_1 b_2 + a_2 b_1 + a_3 b_0 \\\\\n",
    "c_4 &= \\phantom{a_0 b_4 + a_1 b_3 + } a_2 b_2 + a_3 b_1 \\phantom{ + a_4 b_0} \\\\\n",
    "c_5 &= \\phantom{a_0 b_5 + a_1 b_4 + a_2 b_3 + } a_3 b_2 \\phantom{ + a_4 b_1 + a_5 b_0} \\\\\n",
    "\\end  {aligned}\n",
    "$"
   ]
  },
  {
   "cell_type": "markdown",
   "metadata": {},
   "source": [
    "<span style=\"color: #50C878;\"><b>Example</b></span>\n",
    "\n",
    "$\n",
    "\\begin{aligned}\n",
    "f(x) &= 2x^2 - 5x + 3 && = \\phantom{-}3 x^0 - 5 x^1 + 2 x^2 \\\\\n",
    "g(x) &= 5x - 2        && = -2 x^0 + 5x^1 + 0 x^2 \\\\\n",
    "(fg)(x) &&&= -3.2 + 3.5x + 3.0x^2 + 5.2x - 5.5x^2 - 5.0x^3 - 2.2x^2 + 2.5x^3 + 2.0x^4 \\\\\n",
    "        &&&= -3.2 + (3.5 + 5.2)x + (3.0 - 5.5 - 2.2)x^2 + (-5.0 + 2.5)x^3 + 2.0x^4 \\\\\n",
    "        &&&= -6 + 25x - 29x^2 + 10x^3 \\\\\n",
    "\\end  {aligned}\n",
    "$"
   ]
  },
  {
   "cell_type": "markdown",
   "metadata": {},
   "source": [
    "---\n",
    "---\n",
    "---"
   ]
  },
  {
   "cell_type": "markdown",
   "metadata": {},
   "source": [
    "## Resources"
   ]
  },
  {
   "cell_type": "markdown",
   "metadata": {},
   "source": [
    "* https://homepages.math.uic.edu/~jan/mcs320/polynomialsfactor.pdf"
   ]
  },
  {
   "cell_type": "markdown",
   "metadata": {},
   "source": [
    "---\n",
    "---\n",
    "---"
   ]
  },
  {
   "cell_type": "markdown",
   "metadata": {},
   "source": [
    "## Figures"
   ]
  },
  {
   "cell_type": "markdown",
   "metadata": {},
   "source": [
    "* [ [w](https://en.wikipedia.org/wiki/Niels_Henrik_Abel) ] `1802-1829` Abel, Niels\n",
    "* [ [w](https://en.wikipedia.org/wiki/William_George_Horner) ] `1786-1837` Horner, William\n",
    "* [ [w](https://en.wikipedia.org/wiki/Joseph-Louis_Lagrange) ] `1736-1813` Lagrange, Joseph-Louis\n",
    "* [ [w](https://en.wikipedia.org/wiki/Pierre_Alphonse_Laurent) ] `1813-1854` Laurent, Pierre\n",
    "* [ [w](https://en.wikipedia.org/wiki/Joseph_Raphson) ] `1668-1715` Raphson, Joseph\n",
    "* [ [w](https://en.wikipedia.org/wiki/Paolo_Ruffini) ] `1765-1822` Ruffini, Paolo\n",
    "* [ [w](https://en.wikipedia.org/wiki/Fran%C3%A7ois_Vi%C3%A8te) ] `1540-1603` Viète, François"
   ]
  },
  {
   "cell_type": "markdown",
   "metadata": {},
   "source": [
    "---\n",
    "---\n",
    "---"
   ]
  },
  {
   "cell_type": "markdown",
   "metadata": {},
   "source": [
    "## Terms"
   ]
  },
  {
   "cell_type": "markdown",
   "metadata": {},
   "source": [
    "[ [w](https://en.wikipedia.org/wiki/List_of_polynomial_topics) ] list of polynomial topics\n",
    "* [ [w](https://en.wikipedia.org/wiki/Abel%E2%80%93Ruffini_theorem) ] Abel-Ruffini Theorem\n",
    "* [ [w](https://en.wikipedia.org/wiki/Algebraic_expression) ] Algebraic Expression\n",
    "* [ [w](https://en.wikipedia.org/wiki/Solution_in_radicals) ] Algebraic Solution\n",
    "* [ [w](https://en.wikipedia.org/wiki/B%C3%A9zout%27s_theorem) ] Bezout's Theorem\n",
    "* [ [w](https://en.wikipedia.org/wiki/Binomial_(polynomial)) ] Binomial\n",
    "* [ [w](https://en.wikipedia.org/wiki/Characteristic_polynomial) ] Characteristic Polynomial\n",
    "* [ [w](https://en.wikipedia.org/wiki/Coefficient) ] Coefficient\n",
    "* [ [w](https://en.wikipedia.org/wiki/Constant_term) ] Constant Term\n",
    "* [ [w](https://en.wikipedia.org/wiki/Exponential_polynomial) ] Exponential Polynomial\n",
    "* [ [w](https://en.wikipedia.org/wiki/Factor_theorem) ] Factor Theorem\n",
    "* [ [w](https://en.wikipedia.org/wiki/Fundamental_theorem_of_algebra) ] Fundamental Theorem of Algebra\n",
    "* [ [w](https://en.wikipedia.org/wiki/Gauss%27s_lemma_(polynomials)) ] Gauss' Lemma\n",
    "* [ [w](https://en.wikipedia.org/wiki/Hensel%27s_lemma) ] Hensel's Lemma\n",
    "* [ [w](https://en.wikipedia.org/wiki/Homogeneous_polynomial) ] Homogeneous Polynomial\n",
    "* [ [w](https://en.wikipedia.org/wiki/Horner%27s_method) ] Horner's Method\n",
    "* [ [w](https://en.wikipedia.org/wiki/Irreducible_polynomial) ] Irreducible Polynomial\n",
    "* [ [w](https://en.wikipedia.org/wiki/Laurent_polynomial) ] Laurent Polynomial\n",
    "* [ [w](https://en.wikipedia.org/wiki/Like_terms) ] Like Terms\n",
    "* [ [w](https://en.wikipedia.org/wiki/Matrix_polynomial) ] Matrix Polynomial\n",
    "* [ [w](https://en.wikipedia.org/wiki/Monic_polynomial) ] Monic Polynomial\n",
    "* [ [w](https://en.wikipedia.org/wiki/Monomial) ] Monomial\n",
    "* [ [w](https://en.wikipedia.org/wiki/Multilinear_polynomial) ] Multilinear Polynomial\n",
    "* [ [w](https://en.wikipedia.org/wiki/Newton%27s_method) ] Newton's Method\n",
    "* [ [w](https://en.wikipedia.org/wiki/Orthogonal_polynomials) ] Orthogonal Polynomial\n",
    "* [ [w](https://en.wikipedia.org/wiki/Polynomial) ] Polynomial\n",
    "* [ [w](https://en.wikipedia.org/wiki/Degree_of_a_polynomial) ] Polynomial Degree\n",
    "* [ [w](https://en.wikipedia.org/wiki/Algebraic_equation) ] Polynomial Equation\n",
    "* [ [w](https://en.wikipedia.org/wiki/Polynomial_evaluation) ] Polynomial Evaluation\n",
    "* [ [w](https://en.wikipedia.org/wiki/Factorization_of_polynomials) ] Polynomial Factorization\n",
    "* [ [w](https://en.wikipedia.org/wiki/Polynomial_greatest_common_divisor) ] Polynomial GCD\n",
    "* [ [w](https://en.wikipedia.org/wiki/Polynomial_long_division) ] Polynomial Long Division\n",
    "* [ [w](https://en.wikipedia.org/wiki/Polynomial_remainder_theorem) ] Polynomial Remainder Theorem\n",
    "* [ [w](https://en.wikipedia.org/wiki/Polynomial_ring) ] Polynomial Ring\n",
    "* [ [w](https://en.wikipedia.org/wiki/Geometrical_properties_of_polynomial_roots) ] Polynomial Root, geometric properties\n",
    "* [ [w](https://en.wikipedia.org/wiki/System_of_polynomial_equations) ] Polynomial System\n",
    "* [ [w](https://en.wikipedia.org/wiki/Positive_polynomial) ] Positive Polynomial\n",
    "* [ [w](https://en.wikipedia.org/wiki/Primitive_part_and_content) ] Primitive Polynomial\n",
    "* [ [w](https://en.wikipedia.org/wiki/Rational_root_theorem) ] Rational Root Theorem\n",
    "* [ [w](https://en.wikipedia.org/wiki/Zero_of_a_function) ] Root\n",
    "* [ [w](https://en.wikipedia.org/wiki/Root-finding_algorithm) ] Root-Finding Algorithm\n",
    "* [ [w](https://en.wikipedia.org/wiki/Ruffini%27s_rule) ] Ruffini's Rule\n",
    "* [ [w](https://en.wikipedia.org/wiki/Synthetic_division) ] Synthetic Division\n",
    "* [ [w](https://en.wikipedia.org/wiki/Theory_of_equations) ] Theory of Equations\n",
    "* [ [w](https://en.wikipedia.org/wiki/Trigonometric_polynomial) ] Trigonometric Polynomial\n",
    "* [ [w](https://en.wikipedia.org/wiki/Trinomial) ] Trinomial\n",
    "* [ [w](https://en.wikipedia.org/wiki/Vieta%27s_formulas) ] Vieta's Formulas"
   ]
  },
  {
   "cell_type": "markdown",
   "metadata": {},
   "source": [
    "---\n",
    "---\n",
    "---"
   ]
  },
  {
   "cell_type": "markdown",
   "metadata": {},
   "source": [
    "General polynomial in one variable"
   ]
  },
  {
   "cell_type": "markdown",
   "metadata": {},
   "source": [
    "A function $P : \\mathbf{F} \\rightarrow \\mathbf{F}$ is called a polynomial with coefficients in a field $\\mathbf{F}$ if there exist $a_0, ..., a_n \\in \\mathbf{F}$ such that $P(x) = a_n x^n + ... + a_2 x^2 + a_1 x + a_0$ for all $x \\in \\mathbf{F}$.<br>"
   ]
  },
  {
   "cell_type": "markdown",
   "metadata": {},
   "source": [
    "__Claim__<br>\n",
    "Let $a_0, ..., a_n \\in \\mathbf{F}$.<br>\n",
    "If $a_n x^n + ... + a_2 x^2 + a_1 x + a_0 = 0$ for all $x \\in \\mathbf{F}$, then $a_0 = ... = a_n = 0$ (If a polynomial is the zero function, then all coefficients are 0.)<br>\n",
    "\n",
    "__Proof by Contrapositive__<br>\n",
    "\n",
    "If not all the coefficients are 0, then $a_n x^n + ... + a_2 x^2 + a_1 x + a_0 \\ne 0$.<br>\n",
    "Let<br>\n",
    "$\n",
    "\\begin{align}\n",
    "\\frac{|a_0| + |a_1| + ... + |a_{n - 1}|}{|a_n|} + 1 &= x & \\text{note that}\\, x \\ge 1 \\,\\text{and}\\, x^j \\le x^{n - 1} \\,\\text{for}\\, j = 0, 1, ..., n - 1 \\\\\n",
    "|a_0| + |a_1| + ... + |a_{n - 1}| &= |a_n|(x - 1) \\\\\n",
    "|a_0| + |a_1| + ... + |a_{n - 1}| &\\lt |a_n|x \\\\\n",
    "(|a_0| + |a_1| + ... + |a_{n - 1}|)x^{n - 1} &\\lt |a_n x^n| \\\\\n",
    "|a_0 + a_1 x + ... + a_{n - 1} x^{n - 1}| \\le (|a_0| + |a_1| + ... + |a_{n - 1}|) x^{n - 1} &\\lt |a_n x^n| \\\\\n",
    "|a_0 + a_1 x + ... + a_{n - 1} x^{n - 1}| &\\lt |a_n x^n| \\\\\n",
    "a_0 + a_1 x + ... + a_{n - 1} x^{n - 1} &\\ne -a_n x^n \\\\\n",
    "a_0 + a_1 x + ... + a_{n - 1} x^{n - 1} + a_n x^n &\\ne 0 \\\\\n",
    "\\end{align}\n",
    "$<br>\n",
    "\n",
    "$\\blacksquare$<br>\n",
    "\n",
    "[StackExchange](https://math.stackexchange.com/questions/3496753/proving-if-a-polynomial-is-the-zero-function-then-all-coefficients-are-0)<br>"
   ]
  },
  {
   "cell_type": "markdown",
   "metadata": {},
   "source": [
    "---"
   ]
  },
  {
   "cell_type": "code",
   "execution_count": null,
   "metadata": {},
   "outputs": [],
   "source": [
    "import numpy as np\n",
    "import matplotlib.pyplot as plt\n",
    "plt.style.use('seaborn-pastel')\n",
    "plt.rcParams['figure.figsize'] = (10, 6)\n",
    "\n",
    "from itertools import zip_longest"
   ]
  },
  {
   "cell_type": "code",
   "execution_count": null,
   "metadata": {},
   "outputs": [],
   "source": [
    "class Polynomial:\n",
    "    def __init__ (self, *coefficients):\n",
    "        self.coefficients = list(coefficients)\n",
    "        \n",
    "    def __repr__ (self):\n",
    "        return f\"Polynomial {str(tuple(self.coefficients))}\"\n",
    "    \n",
    "    def __str__ (self):\n",
    "        def x_expr (degree):\n",
    "            if degree == 0:\n",
    "                out = ''\n",
    "            elif degree == 1:\n",
    "                out = 'x'\n",
    "            else:\n",
    "                out = f'x^{str(degree)}'\n",
    "            return out\n",
    "        degree = len(self.coefficients) - 1\n",
    "        out = ''\n",
    "        for i in range(len(self.coefficients)):\n",
    "            coef = self.coefficients[i]\n",
    "            if abs(coef) == 1 and i < degree:\n",
    "                out += f\"{'+' if coef > 0 else '-'}{x_expr(degree - i)}\"\n",
    "            elif coef != 0:\n",
    "                out += f\"{coef:+g}{x_expr(degree - i)}\"\n",
    "        return out.lstrip('+')\n",
    "    \n",
    "    def __call__ (self, x):\n",
    "        #return [0 * x + coef for coef in self.coefficients]\n",
    "        return sum([coef * x ** index for index, coef in enumerate(self.coefficients[::-1])])\n",
    "    \n",
    "    def degree (self):\n",
    "        return len(self.coefficients)\n",
    "    \n",
    "    def __add__ (self, other):\n",
    "        P1 = self.coefficients[::-1]\n",
    "        P2 = other.coefficients[::-1]\n",
    "        return self.__class__(*[sum(t) for t in zip_longest(P1, P2, fillvalue=0)][::-1])\n",
    "    \n",
    "    def __sub__ (self, other):\n",
    "        P1 = self.coefficients[::-1]\n",
    "        P2 = other.coefficients[::-1]\n",
    "        return self.__class__(*[t1 - t2 for t1, t2 in zip_longest(P1, P2, fillvalue=0)][::-1])\n",
    "    \n",
    "    def derivative (self):\n",
    "        derived_coefs = []\n",
    "        exponent = len(self.coefficients) - 1\n",
    "        for i in range(len(self.coefficients) - 1):\n",
    "            derived_coefs.append(self.coefficients[i] * exponent)\n",
    "            exponent -= 1\n",
    "        return self.__class__(*derived_coefs)"
   ]
  },
  {
   "cell_type": "code",
   "execution_count": null,
   "metadata": {},
   "outputs": [
    {
     "data": {
      "image/png": "[encoded data removed]",
      "text/plain": [
       "<Figure size 720x432 with 1 Axes>"
      ]
     },
     "metadata": {},
     "output_type": "display_data"
    }
   ],
   "source": [
    "p1 = Polynomial(4, 0, -4, 3, 0)\n",
    "p2 = Polynomial(-0.8, 2.3, 0.5, 1, 0.2)\n",
    "p_sum = p1 + p2\n",
    "p_dif = p1 - p2\n",
    "x = np.linspace(-3, 3, 51)\n",
    "y1 = p1(x)\n",
    "y2 = p2(x)\n",
    "y_sum = p_sum(x)\n",
    "y_dif = p_dif(x)\n",
    "plt.plot(x, y1, label='y1')\n",
    "plt.plot(x, y2, label='y2')\n",
    "plt.plot(x, y_sum, label='y_sum')\n",
    "plt.plot(x, y_dif, label='y_dif')\n",
    "plt.legend();"
   ]
  },
  {
   "cell_type": "code",
   "execution_count": null,
   "metadata": {},
   "outputs": [
    {
     "data": {
      "text/plain": [
       "36"
      ]
     },
     "metadata": {},
     "output_type": "display_data"
    },
    {
     "data": {
      "text/plain": [
       "21"
      ]
     },
     "metadata": {},
     "output_type": "display_data"
    },
    {
     "data": {
      "text/plain": [
       "21"
      ]
     },
     "metadata": {},
     "output_type": "display_data"
    },
    {
     "data": {
      "text/plain": [
       "15"
      ]
     },
     "metadata": {},
     "output_type": "display_data"
    }
   ],
   "source": [
    "n = 5\n",
    "display(\n",
    "    (n + 1)**2,\n",
    "    (n + 1)**2 - sum(range(n + 1)),\n",
    "    sum(range(n + 2)),\n",
    "    sum(range(n + 1)),\n",
    ")"
   ]
  },
  {
   "cell_type": "code",
   "execution_count": null,
   "metadata": {},
   "outputs": [
    {
     "name": "stdout",
     "output_type": "stream",
     "text": [
      "-0.8x^4+2.3x^3+0.5x^2+x+0.2\n",
      "-3.2x^3+6.9x^2+x+1\n"
     ]
    },
    {
     "data": {
      "image/png": "[encoded data removed]",
      "text/plain": [
       "<Figure size 720x432 with 1 Axes>"
      ]
     },
     "metadata": {},
     "output_type": "display_data"
    }
   ],
   "source": [
    "p = Polynomial(-0.8, 2.3, 0.5, 1, 0.2)\n",
    "dp = p.derivative()\n",
    "x = np.linspace(-2, 3, 51)\n",
    "y = p(x)\n",
    "df = dp(x)\n",
    "plt.plot(x, y, label='y')\n",
    "plt.plot(x, df, label='dy')\n",
    "plt.legend();\n",
    "print(p)\n",
    "print(dp)"
   ]
  },
  {
   "cell_type": "code",
   "execution_count": null,
   "metadata": {},
   "outputs": [
    {
     "name": "stdout",
     "output_type": "stream",
     "text": [
      "$p_0 = -0.8x^4+2.3x^3+0.5x^2+x+0.2$\n"
     ]
    }
   ],
   "source": [
    "for count, poly in enumerate([p]):\n",
    "    print(f'$p_{count} = {str(poly)}$')"
   ]
  },
  {
   "cell_type": "markdown",
   "metadata": {},
   "source": [
    "---"
   ]
  }
 ],
 "metadata": {
  "kernelspec": {
   "display_name": "ml",
   "language": "python",
   "name": "python3"
  },
  "language_info": {
   "codemirror_mode": {
    "name": "ipython",
    "version": 3
   },
   "file_extension": ".py",
   "mimetype": "text/x-python",
   "name": "python",
   "nbconvert_exporter": "python",
   "pygments_lexer": "ipython3",
   "version": "3.11.9"
  }
 },
 "nbformat": 4,
 "nbformat_minor": 2
}
