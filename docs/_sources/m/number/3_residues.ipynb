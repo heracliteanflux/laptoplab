{
 "cells": [
  {
   "cell_type": "markdown",
   "metadata": {},
   "source": [
    "# Residues"
   ]
  },
  {
   "cell_type": "markdown",
   "metadata": {},
   "source": [
    "---\n",
    "---\n",
    "---"
   ]
  },
  {
   "cell_type": "markdown",
   "metadata": {},
   "source": [
    "## Contents\n",
    "```{contents}\n",
    "```"
   ]
  },
  {
   "cell_type": "markdown",
   "metadata": {},
   "source": [
    "---\n",
    "---\n",
    "---"
   ]
  },
  {
   "cell_type": "markdown",
   "metadata": {},
   "source": [
    "## Residues"
   ]
  },
  {
   "cell_type": "markdown",
   "metadata": {},
   "source": [
    "---"
   ]
  },
  {
   "cell_type": "markdown",
   "metadata": {},
   "source": [
    "<span style=\"color: #0096FF;\"><b>RESIDUE CLASS MODULO M</b></span>\n",
    "\n",
    "<div style=\"color: #0096FF;\">\n",
    "\n",
    "Let $m \\in \\mathbb{N}$ and define the residue class $\\bar{r} \\text{ modulo } m$ by\n",
    "\n",
    "$\\bar{r} = \\{ x \\in \\mathbb{Z} : m \\mid (x - r) \\}$\n",
    "</div>"
   ]
  },
  {
   "cell_type": "markdown",
   "metadata": {},
   "source": [
    "$\n",
    "\\begin{aligned}\n",
    "\\bar{0} &= \\{ x \\in \\mathbb{Z} : m \\mid x \\}       && \\text{residue class } \\bar{0} \\mod m \\\\\n",
    "\\bar{1} &= \\{ x \\in \\mathbb{Z} : m \\mid (x - 1) \\} && \\text{residue class } \\bar{1} \\mod m \\\\\n",
    "\\bar{2} &= \\{ x \\in \\mathbb{Z} : m \\mid (x - 2) \\} && \\text{residue class } \\bar{2} \\mod m \\\\\n",
    "\\vdots \\\\\n",
    "\\overline{m - 1} &= \\{ x \\in \\mathbb{Z} : m \\mid (x - m + 1) \\} && \\text{residue class } \\overline{m - 1} \\mod m \\\\\n",
    "\\end  {aligned}\n",
    "$"
   ]
  },
  {
   "cell_type": "markdown",
   "metadata": {},
   "source": [
    "---"
   ]
  },
  {
   "cell_type": "markdown",
   "metadata": {},
   "source": [
    "<span style=\"color: #0096FF;\"><b>COMPLETE SYSTEM OF RESIDUES MODULO M</b></span>\n",
    "\n",
    "<div style=\"color: #0096FF;\">\n",
    "\n",
    "By the division algorithm every integer is in one of\n",
    "\n",
    "$\\overline{0}, \\overline{1}, \\dotsc, \\overline{m - 1}$\n",
    "\n",
    "This is called a _complete system of residues modulo_ $m$.\n",
    "</div>"
   ]
  },
  {
   "cell_type": "markdown",
   "metadata": {},
   "source": [
    "---"
   ]
  },
  {
   "cell_type": "markdown",
   "metadata": {},
   "source": [
    "Arithmetic can be performed on residue classes just as if they were numbers."
   ]
  },
  {
   "cell_type": "markdown",
   "metadata": {},
   "source": [
    "The residue class $\\bar{0}$ behaves like the number $0$, since $\\bar{0}$ is the set of multiples of $m$, and adding any one of them to an element of $\\bar{r}$ does not change the remainder.\n",
    "\n",
    "Thus for any $r$\n",
    "\n",
    "$\\bar{0} + \\bar{r} = \\bar{r} = \\bar{r} + \\bar{0}$"
   ]
  },
  {
   "cell_type": "markdown",
   "metadata": {},
   "source": [
    "Suppose we are given any two residue classes $\\bar{r}$ and $\\bar{s}$ modulo $m$:\n",
    "\n",
    "$\n",
    "\\begin{aligned}\n",
    "\\bar{r} &= \\{ x \\in \\mathbb{Z} : m \\mid (x - r) \\} \\\\\n",
    "\\bar{s} &= \\{ y \\in \\mathbb{Z} : m \\mid (y - r) \\} \\\\\n",
    "\\end  {aligned}\n",
    "$\n",
    "\n",
    "Let $t$ be the remainder of $r + s$ on division by $m$:\n",
    "\n",
    "$r + s = mz + t$\n",
    "\n",
    "Then the elements of $\\bar{r}$ and $\\bar{s}$ are of the form $r + mx$ and $s + my$ and it is known that $r + s = t + mz$ for some $z$. Thus\n",
    "\n",
    "$\n",
    "\\begin{aligned}\n",
    "r + mx + s + my = t + m(x + y + z) \\in \\bar{t}\n",
    "\\end  {aligned}\n",
    "$\n",
    "\n",
    "Thus it makes sense to write $\\bar{r} + \\bar{s} = \\bar{t}$ and then we have $\\bar{r} + \\bar{s} = \\bar{s} + \\bar{r}$.\n",
    "\n",
    "It is also the case that $\\overline{r} + \\overline{-r} = \\overline{0}$"
   ]
  },
  {
   "cell_type": "markdown",
   "metadata": {},
   "source": [
    "---"
   ]
  },
  {
   "cell_type": "markdown",
   "metadata": {},
   "source": [
    "### Reduced Residues"
   ]
  },
  {
   "cell_type": "markdown",
   "metadata": {},
   "source": [
    "<span style=\"color: #0096FF;\"><b>THEOREM</b></span> [Vaughan Theorem 3.]"
   ]
  },
  {
   "cell_type": "markdown",
   "metadata": {},
   "source": [
    "<div style=\"color: #0096FF;\">\n",
    "\n",
    "Suppose that $m \\in \\mathbb{N}$, $k \\in \\mathbb{Z}$, $\\gcd(k, m) = 1$, and\n",
    "\n",
    "$\n",
    "\\begin{aligned}\n",
    "\\overline{a_1} &= \\{ x \\in \\mathbb{Z} : m \\mid (x - a_1) \\} = \\{ mx + a_1 :  x \\in \\mathbb{Z} \\} \\\\\n",
    "\\overline{a_2} &= \\{ x \\in \\mathbb{Z} : m \\mid (x - a_2) \\} = \\{ mx + a_2 :  x \\in \\mathbb{Z} \\} \\\\\n",
    "\\vdots \\\\\n",
    "\\overline{a_m} &= \\{ x \\in \\mathbb{Z} : m \\mid (x - a_m) \\} = \\{ mx + a_m :  x \\in \\mathbb{Z} \\}\n",
    "\\end  {aligned}\n",
    "$\n",
    "\n",
    "forms a complete system of residues modulo $m$. Then so does\n",
    "\n",
    "$\n",
    "\\begin{aligned}\n",
    "\\overline{ka_1} &= \\{ x \\in \\mathbb{Z} : m \\mid (x - ka_1) \\} = \\{ mx + ka_1 :  x \\in \\mathbb{Z} \\} \\\\\n",
    "\\overline{ka_2} &= \\{ x \\in \\mathbb{Z} : m \\mid (x - ka_2) \\} = \\{ mx + ka_2 :  x \\in \\mathbb{Z} \\} \\\\\n",
    "\\vdots \\\\\n",
    "\\overline{ka_m} &= \\{ x \\in \\mathbb{Z} : m \\mid (x - ka_m) \\} = \\{ mx + ka_m :  x \\in \\mathbb{Z} \\}\n",
    "\\end  {aligned}\n",
    "$\n",
    "\n",
    "</div>"
   ]
  },
  {
   "cell_type": "markdown",
   "metadata": {},
   "source": [
    "<span style=\"color: #0096FF;\"><b>Proof</b></span>\n",
    "\n",
    "<div style=\"color: red;\">\n",
    "\n",
    "Since there are $m$ residue classes it need only be checked that they are disjoint.\n",
    "</div>\n",
    "\n",
    "Consider any two residue classes $\\overline{ka_i}$ and $\\overline{ka_j}$ and let $ka_i + mx$ and $ka_j + my$ be typical members of each, respectively.\n",
    "\n",
    "If they were the same integer then $ka_i + mx = ka_j + my \\iff ka_i - ka_j = my - mx \\iff k(a_i - a_j) = m(y - x)$.\n",
    "\n",
    "But then $m \\mid k(a_i - a_j)$ and since $\\gcd(k, m) = 1$ it would be the case that $m \\mid a_i - a_j$; that $\\overline{a_i}$ and $\\overline{a_j}$ be the same residue class; and that $i = j$.\n",
    "\n",
    "$\\blacksquare$"
   ]
  },
  {
   "cell_type": "markdown",
   "metadata": {},
   "source": [
    "<span style=\"color: #50C878;\"><b>EXAMPLE</b></span>\n",
    "\n",
    "$\\bar{0}, \\bar{1}, \\bar{2}$ is a complete system of residues modulo $3$\n",
    "\n",
    "$\n",
    "\\begin{aligned}\n",
    "\\bar{0} &= \\{ x \\in \\mathbb{Z} : 3 \\mid (x - 0) \\} = \\{ 3x \\} \\\\\n",
    "\\bar{1} &= \\{ x \\in \\mathbb{Z} : 3 \\mid (x - 1) \\} = \\{ 3x + 1 \\} \\\\\n",
    "\\bar{2} &= \\{ x \\in \\mathbb{Z} : 3 \\mid (x - 2) \\} = \\{ 3x + 2 \\} \\\\\n",
    "\\end  {aligned}\n",
    "$\n",
    "\n",
    "$\\gcd(3, 2) = 1$\n",
    "\n",
    "$\\bar{0}, \\bar{2}, \\bar{4}$ is a complete system of residues modulo $3$\n",
    "\n",
    "$\n",
    "\\begin{aligned}\n",
    "\\bar{0} &= \\{ x \\in \\mathbb{Z} : 3 \\mid (x - 2.0) \\} = \\{ 3x     \\}                      \\\\\n",
    "\\bar{2} &= \\{ x \\in \\mathbb{Z} : 3 \\mid (x - 2.1) \\} = \\{ 3x + 2 \\}                      \\\\\n",
    "\\bar{4} &= \\{ x \\in \\mathbb{Z} : 3 \\mid (x - 2.2) \\} = \\{ 3x + 4 \\} = \\{ 3(x + 1) + 1 \\} \\\\\n",
    "\\end  {aligned}\n",
    "$\n",
    "\n",
    "$\\gcd(3, 5) = 1$\n",
    "\n",
    "$\\bar{0}, \\bar{5}, \\bar{10}$ is a complete system of residues modulo $3$\n",
    "\n",
    "$\n",
    "\\begin{aligned}\n",
    "\\bar{ 0} &= \\{ x \\in \\mathbb{Z} : 3 \\mid (x - 5.0) \\} = \\{ 3x      \\}                      \\\\\n",
    "\\bar{ 5} &= \\{ x \\in \\mathbb{Z} : 3 \\mid (x - 5.1) \\} = \\{ 3x +  5 \\} = \\{ 3(x + 1) + 2 \\} \\\\\n",
    "\\bar{10} &= \\{ x \\in \\mathbb{Z} : 3 \\mid (x - 5.2) \\} = \\{ 3x + 10 \\} = \\{ 3(x + 3) + 1 \\} \\\\\n",
    "\\end  {aligned}\n",
    "$"
   ]
  },
  {
   "cell_type": "markdown",
   "metadata": {},
   "source": [
    "---"
   ]
  },
  {
   "cell_type": "markdown",
   "metadata": {},
   "source": [
    "## Euler's Totient Function"
   ]
  },
  {
   "cell_type": "markdown",
   "metadata": {},
   "source": [
    "<span style=\"color: #0096FF;\"><b>TOTIENT FUNCTION</b></span>"
   ]
  },
  {
   "cell_type": "markdown",
   "metadata": {},
   "source": [
    "<div style=\"color: #0096FF;\">\n",
    "\n",
    "Euler's totient function $\\phi(n)$ is the number of $x \\in \\mathbb{N}$ with $1 \\le x \\le n$ and $\\gcd(x, n) = 1$.\n",
    "</div>\n",
    "\n",
    "If $p$ is prime then all the $x$ with $1 \\le x \\le p - 1$ satisfy $\\gcd(x, p) = 1$, but $\\gcd(p, p) = p \\ne 1$. Thus $\\boxed{\\phi(p) = p - 1}$."
   ]
  },
  {
   "cell_type": "code",
   "execution_count": 13,
   "metadata": {
    "tags": [
     "hide-input"
    ]
   },
   "outputs": [
    {
     "name": "stdout",
     "output_type": "stream",
     "text": [
      "φ( 0) =  0, totatives: []\n",
      "φ( 1) =  1, totatives: []\n",
      "φ( 2) =  1, totatives: [1]\n",
      "φ( 3) =  2, totatives: [1, 2]\n",
      "φ( 4) =  2, totatives: [1, 3]\n",
      "φ( 5) =  4, totatives: [1, 2, 3, 4]\n",
      "φ( 6) =  2, totatives: [1, 5]\n",
      "φ( 7) =  6, totatives: [1, 2, 3, 4, 5, 6]\n",
      "φ( 8) =  4, totatives: [1, 3, 5, 7]\n",
      "φ( 9) =  6, totatives: [1, 2, 4, 5, 7, 8]\n",
      "φ(10) =  4, totatives: [1, 3, 7, 9]\n",
      "φ(11) = 10, totatives: [1, 2, 3, 4, 5, 6, 7, 8, 9, 10]\n",
      "φ(12) =  4, totatives: [1, 5, 7, 11]\n",
      "φ(13) = 12, totatives: [1, 2, 3, 4, 5, 6, 7, 8, 9, 10, 11, 12]\n",
      "φ(14) =  6, totatives: [1, 3, 5, 9, 11, 13]\n",
      "φ(15) =  8, totatives: [1, 2, 4, 7, 8, 11, 13, 14]\n",
      "φ(16) =  8, totatives: [1, 3, 5, 7, 9, 11, 13, 15]\n",
      "φ(17) = 16, totatives: [1, 2, 3, 4, 5, 6, 7, 8, 9, 10, 11, 12, 13, 14, 15, 16]\n",
      "φ(18) =  6, totatives: [1, 5, 7, 11, 13, 17]\n",
      "φ(19) = 18, totatives: [1, 2, 3, 4, 5, 6, 7, 8, 9, 10, 11, 12, 13, 14, 15, 16, 17, 18]\n",
      "φ(20) =  8, totatives: [1, 3, 7, 9, 11, 13, 17, 19]\n",
      "φ(21) = 12, totatives: [1, 2, 4, 5, 8, 10, 11, 13, 16, 17, 19, 20]\n",
      "φ(22) = 10, totatives: [1, 3, 5, 7, 9, 13, 15, 17, 19, 21]\n",
      "φ(23) = 22, totatives: [1, 2, 3, 4, 5, 6, 7, 8, 9, 10, 11, 12, 13, 14, 15, 16, 17, 18, 19, 20, 21, 22]\n",
      "φ(24) =  8, totatives: [1, 5, 7, 11, 13, 17, 19, 23]\n",
      "φ(25) = 20, totatives: [1, 2, 3, 4, 6, 7, 8, 9, 11, 12, 13, 14, 16, 17, 18, 19, 21, 22, 23, 24]\n",
      "φ(26) = 12, totatives: [1, 3, 5, 7, 9, 11, 15, 17, 19, 21, 23, 25]\n",
      "φ(27) = 18, totatives: [1, 2, 4, 5, 7, 8, 10, 11, 13, 14, 16, 17, 19, 20, 22, 23, 25, 26]\n",
      "φ(28) = 12, totatives: [1, 3, 5, 9, 11, 13, 15, 17, 19, 23, 25, 27]\n",
      "φ(29) = 28, totatives: [1, 2, 3, 4, 5, 6, 7, 8, 9, 10, 11, 12, 13, 14, 15, 16, 17, 18, 19, 20, 21, 22, 23, 24, 25, 26, 27, 28]\n",
      "φ(30) =  8, totatives: [1, 7, 11, 13, 17, 19, 23, 29]\n",
      "φ(31) = 30, totatives: [1, 2, 3, 4, 5, 6, 7, 8, 9, 10, 11, 12, 13, 14, 15, 16, 17, 18, 19, 20, 21, 22, 23, 24, 25, 26, 27, 28, 29, 30]\n",
      "φ(32) = 16, totatives: [1, 3, 5, 7, 9, 11, 13, 15, 17, 19, 21, 23, 25, 27, 29, 31]\n",
      "φ(33) = 20, totatives: [1, 2, 4, 5, 7, 8, 10, 13, 14, 16, 17, 19, 20, 23, 25, 26, 28, 29, 31, 32]\n",
      "φ(34) = 16, totatives: [1, 3, 5, 7, 9, 11, 13, 15, 19, 21, 23, 25, 27, 29, 31, 33]\n",
      "φ(35) = 24, totatives: [1, 2, 3, 4, 6, 8, 9, 11, 12, 13, 16, 17, 18, 19, 22, 23, 24, 26, 27, 29, 31, 32, 33, 34]\n",
      "φ(36) = 12, totatives: [1, 5, 7, 11, 13, 17, 19, 23, 25, 29, 31, 35]\n",
      "φ(37) = 36, totatives: [1, 2, 3, 4, 5, 6, 7, 8, 9, 10, 11, 12, 13, 14, 15, 16, 17, 18, 19, 20, 21, 22, 23, 24, 25, 26, 27, 28, 29, 30, 31, 32, 33, 34, 35, 36]\n",
      "φ(38) = 18, totatives: [1, 3, 5, 7, 9, 11, 13, 15, 17, 21, 23, 25, 27, 29, 31, 33, 35, 37]\n",
      "φ(39) = 24, totatives: [1, 2, 4, 5, 7, 8, 10, 11, 14, 16, 17, 19, 20, 22, 23, 25, 28, 29, 31, 32, 34, 35, 37, 38]\n",
      "φ(40) = 16, totatives: [1, 3, 7, 9, 11, 13, 17, 19, 21, 23, 27, 29, 31, 33, 37, 39]\n",
      "φ(41) = 40, totatives: [1, 2, 3, 4, 5, 6, 7, 8, 9, 10, 11, 12, 13, 14, 15, 16, 17, 18, 19, 20, 21, 22, 23, 24, 25, 26, 27, 28, 29, 30, 31, 32, 33, 34, 35, 36, 37, 38, 39, 40]\n",
      "φ(42) = 12, totatives: [1, 5, 11, 13, 17, 19, 23, 25, 29, 31, 37, 41]\n",
      "φ(43) = 42, totatives: [1, 2, 3, 4, 5, 6, 7, 8, 9, 10, 11, 12, 13, 14, 15, 16, 17, 18, 19, 20, 21, 22, 23, 24, 25, 26, 27, 28, 29, 30, 31, 32, 33, 34, 35, 36, 37, 38, 39, 40, 41, 42]\n",
      "φ(44) = 20, totatives: [1, 3, 5, 7, 9, 13, 15, 17, 19, 21, 23, 25, 27, 29, 31, 35, 37, 39, 41, 43]\n",
      "φ(45) = 24, totatives: [1, 2, 4, 7, 8, 11, 13, 14, 16, 17, 19, 22, 23, 26, 28, 29, 31, 32, 34, 37, 38, 41, 43, 44]\n",
      "φ(46) = 22, totatives: [1, 3, 5, 7, 9, 11, 13, 15, 17, 19, 21, 25, 27, 29, 31, 33, 35, 37, 39, 41, 43, 45]\n",
      "φ(47) = 46, totatives: [1, 2, 3, 4, 5, 6, 7, 8, 9, 10, 11, 12, 13, 14, 15, 16, 17, 18, 19, 20, 21, 22, 23, 24, 25, 26, 27, 28, 29, 30, 31, 32, 33, 34, 35, 36, 37, 38, 39, 40, 41, 42, 43, 44, 45, 46]\n",
      "φ(48) = 16, totatives: [1, 5, 7, 11, 13, 17, 19, 23, 25, 29, 31, 35, 37, 41, 43, 47]\n",
      "φ(49) = 42, totatives: [1, 2, 3, 4, 5, 6, 8, 9, 10, 11, 12, 13, 15, 16, 17, 18, 19, 20, 22, 23, 24, 25, 26, 27, 29, 30, 31, 32, 33, 34, 36, 37, 38, 39, 40, 41, 43, 44, 45, 46, 47, 48]\n",
      "φ(50) = 20, totatives: [1, 3, 7, 9, 11, 13, 17, 19, 21, 23, 27, 29, 31, 33, 37, 39, 41, 43, 47, 49]\n",
      "φ(51) = 32, totatives: [1, 2, 4, 5, 7, 8, 10, 11, 13, 14, 16, 19, 20, 22, 23, 25, 26, 28, 29, 31, 32, 35, 37, 38, 40, 41, 43, 44, 46, 47, 49, 50]\n",
      "φ(52) = 24, totatives: [1, 3, 5, 7, 9, 11, 15, 17, 19, 21, 23, 25, 27, 29, 31, 33, 35, 37, 41, 43, 45, 47, 49, 51]\n",
      "φ(53) = 52, totatives: [1, 2, 3, 4, 5, 6, 7, 8, 9, 10, 11, 12, 13, 14, 15, 16, 17, 18, 19, 20, 21, 22, 23, 24, 25, 26, 27, 28, 29, 30, 31, 32, 33, 34, 35, 36, 37, 38, 39, 40, 41, 42, 43, 44, 45, 46, 47, 48, 49, 50, 51, 52]\n",
      "φ(54) = 18, totatives: [1, 5, 7, 11, 13, 17, 19, 23, 25, 29, 31, 35, 37, 41, 43, 47, 49, 53]\n",
      "φ(55) = 40, totatives: [1, 2, 3, 4, 6, 7, 8, 9, 12, 13, 14, 16, 17, 18, 19, 21, 23, 24, 26, 27, 28, 29, 31, 32, 34, 36, 37, 38, 39, 41, 42, 43, 46, 47, 48, 49, 51, 52, 53, 54]\n",
      "φ(56) = 24, totatives: [1, 3, 5, 9, 11, 13, 15, 17, 19, 23, 25, 27, 29, 31, 33, 37, 39, 41, 43, 45, 47, 51, 53, 55]\n",
      "φ(57) = 36, totatives: [1, 2, 4, 5, 7, 8, 10, 11, 13, 14, 16, 17, 20, 22, 23, 25, 26, 28, 29, 31, 32, 34, 35, 37, 40, 41, 43, 44, 46, 47, 49, 50, 52, 53, 55, 56]\n",
      "φ(58) = 28, totatives: [1, 3, 5, 7, 9, 11, 13, 15, 17, 19, 21, 23, 25, 27, 31, 33, 35, 37, 39, 41, 43, 45, 47, 49, 51, 53, 55, 57]\n",
      "φ(59) = 58, totatives: [1, 2, 3, 4, 5, 6, 7, 8, 9, 10, 11, 12, 13, 14, 15, 16, 17, 18, 19, 20, 21, 22, 23, 24, 25, 26, 27, 28, 29, 30, 31, 32, 33, 34, 35, 36, 37, 38, 39, 40, 41, 42, 43, 44, 45, 46, 47, 48, 49, 50, 51, 52, 53, 54, 55, 56, 57, 58]\n",
      "φ(60) = 16, totatives: [1, 7, 11, 13, 17, 19, 23, 29, 31, 37, 41, 43, 47, 49, 53, 59]\n",
      "φ(61) = 60, totatives: [1, 2, 3, 4, 5, 6, 7, 8, 9, 10, 11, 12, 13, 14, 15, 16, 17, 18, 19, 20, 21, 22, 23, 24, 25, 26, 27, 28, 29, 30, 31, 32, 33, 34, 35, 36, 37, 38, 39, 40, 41, 42, 43, 44, 45, 46, 47, 48, 49, 50, 51, 52, 53, 54, 55, 56, 57, 58, 59, 60]\n",
      "φ(62) = 30, totatives: [1, 3, 5, 7, 9, 11, 13, 15, 17, 19, 21, 23, 25, 27, 29, 33, 35, 37, 39, 41, 43, 45, 47, 49, 51, 53, 55, 57, 59, 61]\n",
      "φ(63) = 36, totatives: [1, 2, 4, 5, 8, 10, 11, 13, 16, 17, 19, 20, 22, 23, 25, 26, 29, 31, 32, 34, 37, 38, 40, 41, 43, 44, 46, 47, 50, 52, 53, 55, 58, 59, 61, 62]\n",
      "φ(64) = 32, totatives: [1, 3, 5, 7, 9, 11, 13, 15, 17, 19, 21, 23, 25, 27, 29, 31, 33, 35, 37, 39, 41, 43, 45, 47, 49, 51, 53, 55, 57, 59, 61, 63]\n",
      "φ(65) = 48, totatives: [1, 2, 3, 4, 6, 7, 8, 9, 11, 12, 14, 16, 17, 18, 19, 21, 22, 23, 24, 27, 28, 29, 31, 32, 33, 34, 36, 37, 38, 41, 42, 43, 44, 46, 47, 48, 49, 51, 53, 54, 56, 57, 58, 59, 61, 62, 63, 64]\n",
      "φ(66) = 20, totatives: [1, 5, 7, 13, 17, 19, 23, 25, 29, 31, 35, 37, 41, 43, 47, 49, 53, 59, 61, 65]\n",
      "φ(67) = 66, totatives: [1, 2, 3, 4, 5, 6, 7, 8, 9, 10, 11, 12, 13, 14, 15, 16, 17, 18, 19, 20, 21, 22, 23, 24, 25, 26, 27, 28, 29, 30, 31, 32, 33, 34, 35, 36, 37, 38, 39, 40, 41, 42, 43, 44, 45, 46, 47, 48, 49, 50, 51, 52, 53, 54, 55, 56, 57, 58, 59, 60, 61, 62, 63, 64, 65, 66]\n",
      "φ(68) = 32, totatives: [1, 3, 5, 7, 9, 11, 13, 15, 19, 21, 23, 25, 27, 29, 31, 33, 35, 37, 39, 41, 43, 45, 47, 49, 53, 55, 57, 59, 61, 63, 65, 67]\n",
      "φ(69) = 44, totatives: [1, 2, 4, 5, 7, 8, 10, 11, 13, 14, 16, 17, 19, 20, 22, 25, 26, 28, 29, 31, 32, 34, 35, 37, 38, 40, 41, 43, 44, 47, 49, 50, 52, 53, 55, 56, 58, 59, 61, 62, 64, 65, 67, 68]\n",
      "φ(70) = 24, totatives: [1, 3, 9, 11, 13, 17, 19, 23, 27, 29, 31, 33, 37, 39, 41, 43, 47, 51, 53, 57, 59, 61, 67, 69]\n",
      "φ(71) = 70, totatives: [1, 2, 3, 4, 5, 6, 7, 8, 9, 10, 11, 12, 13, 14, 15, 16, 17, 18, 19, 20, 21, 22, 23, 24, 25, 26, 27, 28, 29, 30, 31, 32, 33, 34, 35, 36, 37, 38, 39, 40, 41, 42, 43, 44, 45, 46, 47, 48, 49, 50, 51, 52, 53, 54, 55, 56, 57, 58, 59, 60, 61, 62, 63, 64, 65, 66, 67, 68, 69, 70]\n",
      "φ(72) = 24, totatives: [1, 5, 7, 11, 13, 17, 19, 23, 25, 29, 31, 35, 37, 41, 43, 47, 49, 53, 55, 59, 61, 65, 67, 71]\n",
      "φ(73) = 72, totatives: [1, 2, 3, 4, 5, 6, 7, 8, 9, 10, 11, 12, 13, 14, 15, 16, 17, 18, 19, 20, 21, 22, 23, 24, 25, 26, 27, 28, 29, 30, 31, 32, 33, 34, 35, 36, 37, 38, 39, 40, 41, 42, 43, 44, 45, 46, 47, 48, 49, 50, 51, 52, 53, 54, 55, 56, 57, 58, 59, 60, 61, 62, 63, 64, 65, 66, 67, 68, 69, 70, 71, 72]\n",
      "φ(74) = 36, totatives: [1, 3, 5, 7, 9, 11, 13, 15, 17, 19, 21, 23, 25, 27, 29, 31, 33, 35, 39, 41, 43, 45, 47, 49, 51, 53, 55, 57, 59, 61, 63, 65, 67, 69, 71, 73]\n",
      "φ(75) = 40, totatives: [1, 2, 4, 7, 8, 11, 13, 14, 16, 17, 19, 22, 23, 26, 28, 29, 31, 32, 34, 37, 38, 41, 43, 44, 46, 47, 49, 52, 53, 56, 58, 59, 61, 62, 64, 67, 68, 71, 73, 74]\n",
      "φ(76) = 36, totatives: [1, 3, 5, 7, 9, 11, 13, 15, 17, 21, 23, 25, 27, 29, 31, 33, 35, 37, 39, 41, 43, 45, 47, 49, 51, 53, 55, 59, 61, 63, 65, 67, 69, 71, 73, 75]\n",
      "φ(77) = 60, totatives: [1, 2, 3, 4, 5, 6, 8, 9, 10, 12, 13, 15, 16, 17, 18, 19, 20, 23, 24, 25, 26, 27, 29, 30, 31, 32, 34, 36, 37, 38, 39, 40, 41, 43, 45, 46, 47, 48, 50, 51, 52, 53, 54, 57, 58, 59, 60, 61, 62, 64, 65, 67, 68, 69, 71, 72, 73, 74, 75, 76]\n",
      "φ(78) = 24, totatives: [1, 5, 7, 11, 17, 19, 23, 25, 29, 31, 35, 37, 41, 43, 47, 49, 53, 55, 59, 61, 67, 71, 73, 77]\n",
      "φ(79) = 78, totatives: [1, 2, 3, 4, 5, 6, 7, 8, 9, 10, 11, 12, 13, 14, 15, 16, 17, 18, 19, 20, 21, 22, 23, 24, 25, 26, 27, 28, 29, 30, 31, 32, 33, 34, 35, 36, 37, 38, 39, 40, 41, 42, 43, 44, 45, 46, 47, 48, 49, 50, 51, 52, 53, 54, 55, 56, 57, 58, 59, 60, 61, 62, 63, 64, 65, 66, 67, 68, 69, 70, 71, 72, 73, 74, 75, 76, 77, 78]\n",
      "φ(80) = 32, totatives: [1, 3, 7, 9, 11, 13, 17, 19, 21, 23, 27, 29, 31, 33, 37, 39, 41, 43, 47, 49, 51, 53, 57, 59, 61, 63, 67, 69, 71, 73, 77, 79]\n",
      "φ(81) = 54, totatives: [1, 2, 4, 5, 7, 8, 10, 11, 13, 14, 16, 17, 19, 20, 22, 23, 25, 26, 28, 29, 31, 32, 34, 35, 37, 38, 40, 41, 43, 44, 46, 47, 49, 50, 52, 53, 55, 56, 58, 59, 61, 62, 64, 65, 67, 68, 70, 71, 73, 74, 76, 77, 79, 80]\n",
      "φ(82) = 40, totatives: [1, 3, 5, 7, 9, 11, 13, 15, 17, 19, 21, 23, 25, 27, 29, 31, 33, 35, 37, 39, 43, 45, 47, 49, 51, 53, 55, 57, 59, 61, 63, 65, 67, 69, 71, 73, 75, 77, 79, 81]\n",
      "φ(83) = 82, totatives: [1, 2, 3, 4, 5, 6, 7, 8, 9, 10, 11, 12, 13, 14, 15, 16, 17, 18, 19, 20, 21, 22, 23, 24, 25, 26, 27, 28, 29, 30, 31, 32, 33, 34, 35, 36, 37, 38, 39, 40, 41, 42, 43, 44, 45, 46, 47, 48, 49, 50, 51, 52, 53, 54, 55, 56, 57, 58, 59, 60, 61, 62, 63, 64, 65, 66, 67, 68, 69, 70, 71, 72, 73, 74, 75, 76, 77, 78, 79, 80, 81, 82]\n",
      "φ(84) = 24, totatives: [1, 5, 11, 13, 17, 19, 23, 25, 29, 31, 37, 41, 43, 47, 53, 55, 59, 61, 65, 67, 71, 73, 79, 83]\n",
      "φ(85) = 64, totatives: [1, 2, 3, 4, 6, 7, 8, 9, 11, 12, 13, 14, 16, 18, 19, 21, 22, 23, 24, 26, 27, 28, 29, 31, 32, 33, 36, 37, 38, 39, 41, 42, 43, 44, 46, 47, 48, 49, 52, 53, 54, 56, 57, 58, 59, 61, 62, 63, 64, 66, 67, 69, 71, 72, 73, 74, 76, 77, 78, 79, 81, 82, 83, 84]\n",
      "φ(86) = 42, totatives: [1, 3, 5, 7, 9, 11, 13, 15, 17, 19, 21, 23, 25, 27, 29, 31, 33, 35, 37, 39, 41, 45, 47, 49, 51, 53, 55, 57, 59, 61, 63, 65, 67, 69, 71, 73, 75, 77, 79, 81, 83, 85]\n",
      "φ(87) = 56, totatives: [1, 2, 4, 5, 7, 8, 10, 11, 13, 14, 16, 17, 19, 20, 22, 23, 25, 26, 28, 31, 32, 34, 35, 37, 38, 40, 41, 43, 44, 46, 47, 49, 50, 52, 53, 55, 56, 59, 61, 62, 64, 65, 67, 68, 70, 71, 73, 74, 76, 77, 79, 80, 82, 83, 85, 86]\n",
      "φ(88) = 40, totatives: [1, 3, 5, 7, 9, 13, 15, 17, 19, 21, 23, 25, 27, 29, 31, 35, 37, 39, 41, 43, 45, 47, 49, 51, 53, 57, 59, 61, 63, 65, 67, 69, 71, 73, 75, 79, 81, 83, 85, 87]\n",
      "φ(89) = 88, totatives: [1, 2, 3, 4, 5, 6, 7, 8, 9, 10, 11, 12, 13, 14, 15, 16, 17, 18, 19, 20, 21, 22, 23, 24, 25, 26, 27, 28, 29, 30, 31, 32, 33, 34, 35, 36, 37, 38, 39, 40, 41, 42, 43, 44, 45, 46, 47, 48, 49, 50, 51, 52, 53, 54, 55, 56, 57, 58, 59, 60, 61, 62, 63, 64, 65, 66, 67, 68, 69, 70, 71, 72, 73, 74, 75, 76, 77, 78, 79, 80, 81, 82, 83, 84, 85, 86, 87, 88]\n",
      "φ(90) = 24, totatives: [1, 7, 11, 13, 17, 19, 23, 29, 31, 37, 41, 43, 47, 49, 53, 59, 61, 67, 71, 73, 77, 79, 83, 89]\n",
      "φ(91) = 72, totatives: [1, 2, 3, 4, 5, 6, 8, 9, 10, 11, 12, 15, 16, 17, 18, 19, 20, 22, 23, 24, 25, 27, 29, 30, 31, 32, 33, 34, 36, 37, 38, 40, 41, 43, 44, 45, 46, 47, 48, 50, 51, 53, 54, 55, 57, 58, 59, 60, 61, 62, 64, 66, 67, 68, 69, 71, 72, 73, 74, 75, 76, 79, 80, 81, 82, 83, 85, 86, 87, 88, 89, 90]\n",
      "φ(92) = 44, totatives: [1, 3, 5, 7, 9, 11, 13, 15, 17, 19, 21, 25, 27, 29, 31, 33, 35, 37, 39, 41, 43, 45, 47, 49, 51, 53, 55, 57, 59, 61, 63, 65, 67, 71, 73, 75, 77, 79, 81, 83, 85, 87, 89, 91]\n",
      "φ(93) = 60, totatives: [1, 2, 4, 5, 7, 8, 10, 11, 13, 14, 16, 17, 19, 20, 22, 23, 25, 26, 28, 29, 32, 34, 35, 37, 38, 40, 41, 43, 44, 46, 47, 49, 50, 52, 53, 55, 56, 58, 59, 61, 64, 65, 67, 68, 70, 71, 73, 74, 76, 77, 79, 80, 82, 83, 85, 86, 88, 89, 91, 92]\n",
      "φ(94) = 46, totatives: [1, 3, 5, 7, 9, 11, 13, 15, 17, 19, 21, 23, 25, 27, 29, 31, 33, 35, 37, 39, 41, 43, 45, 49, 51, 53, 55, 57, 59, 61, 63, 65, 67, 69, 71, 73, 75, 77, 79, 81, 83, 85, 87, 89, 91, 93]\n",
      "φ(95) = 72, totatives: [1, 2, 3, 4, 6, 7, 8, 9, 11, 12, 13, 14, 16, 17, 18, 21, 22, 23, 24, 26, 27, 28, 29, 31, 32, 33, 34, 36, 37, 39, 41, 42, 43, 44, 46, 47, 48, 49, 51, 52, 53, 54, 56, 58, 59, 61, 62, 63, 64, 66, 67, 68, 69, 71, 72, 73, 74, 77, 78, 79, 81, 82, 83, 84, 86, 87, 88, 89, 91, 92, 93, 94]\n",
      "φ(96) = 32, totatives: [1, 5, 7, 11, 13, 17, 19, 23, 25, 29, 31, 35, 37, 41, 43, 47, 49, 53, 55, 59, 61, 65, 67, 71, 73, 77, 79, 83, 85, 89, 91, 95]\n",
      "φ(97) = 96, totatives: [1, 2, 3, 4, 5, 6, 7, 8, 9, 10, 11, 12, 13, 14, 15, 16, 17, 18, 19, 20, 21, 22, 23, 24, 25, 26, 27, 28, 29, 30, 31, 32, 33, 34, 35, 36, 37, 38, 39, 40, 41, 42, 43, 44, 45, 46, 47, 48, 49, 50, 51, 52, 53, 54, 55, 56, 57, 58, 59, 60, 61, 62, 63, 64, 65, 66, 67, 68, 69, 70, 71, 72, 73, 74, 75, 76, 77, 78, 79, 80, 81, 82, 83, 84, 85, 86, 87, 88, 89, 90, 91, 92, 93, 94, 95, 96]\n",
      "φ(98) = 42, totatives: [1, 3, 5, 9, 11, 13, 15, 17, 19, 23, 25, 27, 29, 31, 33, 37, 39, 41, 43, 45, 47, 51, 53, 55, 57, 59, 61, 65, 67, 69, 71, 73, 75, 79, 81, 83, 85, 87, 89, 93, 95, 97]\n",
      "φ(99) = 60, totatives: [1, 2, 4, 5, 7, 8, 10, 13, 14, 16, 17, 19, 20, 23, 25, 26, 28, 29, 31, 32, 34, 35, 37, 38, 40, 41, 43, 46, 47, 49, 50, 52, 53, 56, 58, 59, 61, 62, 64, 65, 67, 68, 70, 71, 73, 74, 76, 79, 80, 82, 83, 85, 86, 89, 91, 92, 94, 95, 97, 98]\n"
     ]
    }
   ],
   "source": [
    "from math import gcd\n",
    "\n",
    "def totient (n):\n",
    "  result = n\n",
    "  p      = 2\n",
    "  while p * p <= n:\n",
    "    if n % p == 0: # if p divides n\n",
    "      while n % p == 0: # remove factors of p from n\n",
    "        n //= p\n",
    "      result -= result // p\n",
    "    p += 1\n",
    "  if n > 1: # gcd(n, n) != 1, so phi(n) < n for any n\n",
    "    result -= result // n\n",
    "  return result\n",
    "\n",
    "def totatives (n):\n",
    "  return [x for x in range(1, n) if gcd(x, n) == 1]\n",
    "\n",
    "for k in range(100):\n",
    "  t    = totient(k)\n",
    "  tots = totatives(k)\n",
    "  print(f'\\u03c6({k:>2}) = {t:>2}, totatives: {tots}')"
   ]
  },
  {
   "cell_type": "markdown",
   "metadata": {},
   "source": [
    "<span style=\"color: #0096FF;\"><b>SET OF REDUCED RESIDUES MODULO M</b></span>"
   ]
  },
  {
   "cell_type": "markdown",
   "metadata": {},
   "source": [
    "<div style=\"color: #0096FF;\">\n",
    "\n",
    "A set of $\\phi(m)$ distinct residue classes $\\bar{r}$ modulo $m$ with $\\gcd(r, m) = 1$ is called a set of reduced residues modulo $m$.\n",
    "\n",
    "</div>"
   ]
  },
  {
   "cell_type": "markdown",
   "metadata": {},
   "source": [
    "One way of thinking about reduced residues is to start from a complete set of fractions with denominator $m$ in the interval $(0, 1]$\n",
    "\n",
    "$\n",
    "\\begin{aligned}\n",
    "\\frac{1}{m}, \\frac{2}{m}, \\dotsc, \\frac{m}{m}\n",
    "\\end  {aligned}\n",
    "$\n",
    "\n",
    "and remove just the ones whose numerator has a common factor $d \\gt 1$ with $m$. What is left are the $\\phi(m)$ reduced fractions with denominator $m$. Alternatively instead of removing the non-reduced ones we just write them in their lowest form. Then for each divisor $k$ of $m$ we obtain all the reduced fractions with denominator $k$."
   ]
  },
  {
   "cell_type": "markdown",
   "metadata": {},
   "source": [
    "<div class=\"full-width\">\n",
    "\n",
    "$\n",
    "\\begin{aligned}\n",
    "\\frac{1}{30} && \\frac{2}{30} && \\frac{3}{30} && \\frac{4}{30} && \\frac{5}{30} && \\frac{6}{30} && \\frac{7}{30} && \\frac{8}{30} && \\frac{9}{30} && \\frac{10}{30} && \\frac{11}{30} && \\frac{12}{30} && \\frac{13}{30} && \\frac{14}{30} && \\frac{15}{30} && \\frac{16}{30} && \\frac{17}{30} && \\frac{18}{30} && \\frac{19}{30} && \\frac{20}{30} && \\frac{21}{30} && \\frac{22}{30} && \\frac{23}{30} && \\frac{24}{30} && \\frac{25}{30} && \\frac{26}{30} && \\frac{27}{30} && \\frac{28}{30} && \\frac{29}{30} && \\frac{30}{30} \\\\\n",
    "\\\\\n",
    "\\frac{1}{30} && && && && && && \\frac{7}{30} && && && && \\frac{11}{30} && && \\frac{13}{30} && && && && \\frac{17}{30} && && \\frac{19}{30} && && && && \\frac{23}{30} && && && && && && \\frac{29}{30} && \\\\\n",
    "\\\\\n",
    "\\frac{1}{30} && \\frac{1}{15} && \\frac{1}{10} && \\frac{2}{15} && \\frac{1}{6} && \\frac{1}{5} && \\frac{7}{30} && \\frac{4}{15} && \\frac{3}{10} && \\frac{1}{3} && \\frac{11}{30} && \\frac{2}{5} && \\frac{13}{30} && \\frac{7}{15} && \\frac{1}{2} && \\frac{8}{15} && \\frac{17}{30} && \\frac{3}{5} && \\frac{19}{30} && \\frac{2}{3} && \\frac{7}{10} && \\frac{11}{15} && \\frac{23}{30} && \\frac{4}{5} && \\frac{5}{6} && \\frac{13}{15} && \\frac{9}{10} && \\frac{14}{15} && \\frac{29}{30} && 1 \\\\\n",
    "\\end  {aligned}\n",
    "$\n",
    "\n",
    "$\n",
    "\\begin{aligned}\n",
    "k &=  1 && 1                                                                                                                    & \\phi( 1) = 1 \\\\\n",
    "k &=  2 && \\frac{1}{ 2}                                                                                                         & \\phi( 2) = 1 \\\\\n",
    "k &=  3 && \\frac{1}{ 3}, \\frac{2}{ 3}                                                                                           & \\phi( 3) = 2 \\\\\n",
    "k &=  5 && \\frac{1}{ 5}, \\frac{2}{ 5}, \\frac{ 3}{ 5}, \\frac{ 4}{ 5}                                                             & \\phi( 5) = 4 \\\\\n",
    "k &=  6 && \\frac{1}{ 6}, \\frac{5}{ 6}                                                                                           & \\phi( 6) = 2 \\\\\n",
    "k &= 10 && \\frac{1}{10}, \\frac{3}{10}, \\frac{ 7}{10}, \\frac{ 9}{10}                                                             & \\phi(10) = 4 \\\\\n",
    "k &= 15 && \\frac{1}{15}, \\frac{2}{15}, \\frac{ 4}{15}, \\frac{ 7}{15}, \\frac{ 8}{15}, \\frac{11}{15}, \\frac{13}{15}, \\frac{14}{15} & \\phi(15) = 8 \\\\\n",
    "k &= 30 && \\frac{1}{30}, \\frac{7}{30}, \\frac{11}{30}, \\frac{13}{30}, \\frac{17}{30}, \\frac{19}{30}, \\frac{23}{30}, \\frac{29}{30} & \\phi(30) = 8 \\\\\n",
    "\\end  {aligned}\n",
    "$\n",
    "\n",
    "$\n",
    "\\begin{aligned}\n",
    "\\sum_{k \\mid 30} \\phi(k) = 30 = \\phi(1) + \\phi(2) + \\phi(3) + \\phi(5) + \\phi(6) + \\phi(10) + \\phi(15) + \\phi(30)\n",
    "\\end  {aligned}\n",
    "$\n",
    "\n",
    "</div>"
   ]
  },
  {
   "cell_type": "markdown",
   "metadata": {},
   "source": [
    "<span style=\"color: #0096FF;\"><b>THEOREM</b></span> [Vaughan Theorem 3.7]"
   ]
  },
  {
   "cell_type": "markdown",
   "metadata": {},
   "source": [
    "<div style=\"color: #0096FF;\">\n",
    "\n",
    "For each $m \\in \\mathbb{N}$ we have\n",
    "\n",
    "$\n",
    "\\begin{aligned}\n",
    "\\sum_{k \\mid m} \\phi(k) = m = \\phi(1) + \\phi(2) + \\dotsb + \\phi(m)\n",
    "\\end  {aligned}\n",
    "$\n",
    "\n",
    "</div>"
   ]
  },
  {
   "cell_type": "markdown",
   "metadata": {},
   "source": [
    "<span style=\"color: #0096FF;\"><b>Proof</b></span>\n",
    "\n",
    "See the above.\n",
    "\n",
    "$\\blacksquare$"
   ]
  },
  {
   "cell_type": "markdown",
   "metadata": {},
   "source": [
    "<span style=\"color: #0096FF;\"><b>THEOREM</b></span> [Vaughan Theorem 3.9]"
   ]
  },
  {
   "cell_type": "markdown",
   "metadata": {},
   "source": [
    "<div style=\"color: #0096FF;\">\n",
    "\n",
    "Suppose that $\\gcd(k, m) = 1$ and that\n",
    "\n",
    "$a_1, a_2, \\dotsc, a_{\\phi(m)}$\n",
    "\n",
    "forms a set of reduced residue classes modulo $m$. Then\n",
    "\n",
    "$ka_1, ka_2, \\dotsc, ka_{\\phi(m)}$\n",
    "\n",
    "also forms a set of reduced residue classes modulo $m$.\n",
    "\n",
    "</div>"
   ]
  },
  {
   "cell_type": "markdown",
   "metadata": {},
   "source": [
    "<span style=\"color: #0096FF;\"><b>Proof</b></span>"
   ]
  },
  {
   "cell_type": "markdown",
   "metadata": {},
   "source": [
    "<div style=\"color: red;\">\n",
    "\n",
    "In view of the earlier theorem the residue classes $ka_j$ are distinct, and since $\\gcd(a_j, m) = 1$ it is the case that $(ka_j, m) = 1$, so they give $\\phi(m)$ distinct reduced residue classes. So they are all of them in some order.</div>\n",
    "\n",
    "$\\blacksquare$"
   ]
  },
  {
   "cell_type": "markdown",
   "metadata": {},
   "source": [
    "<span style=\"color: #0096FF;\"><b>THEOREM</b></span> [Vaughan Theorem 3.10]"
   ]
  },
  {
   "cell_type": "markdown",
   "metadata": {},
   "source": [
    "<div style=\"color: #0096FF;\">\n",
    "\n",
    "Suppose $m, n \\in \\mathbb{N}$ and $\\gcd(m, n) = 1$, and consider the $xn + ym$ with $1 \\le x \\le m$ and $1 \\le y \\le n$. Then they form a complete set of residues modulo $mn$. If in addition $x$ and $y$ satisfy $\\gcd(x, m) = 1$ and $\\gcd(y, n) = 1$ then they form a reduced set.\n",
    "\n",
    "</div>"
   ]
  },
  {
   "cell_type": "markdown",
   "metadata": {},
   "source": [
    "<span style=\"color: #0096FF;\"><b>Proof</b></span>"
   ]
  },
  {
   "cell_type": "markdown",
   "metadata": {},
   "source": [
    "<div style=\"color: red;\">\n",
    "\n",
    "If $xn + ym \\equiv x'n + y'm \\mod mn$ then $xn \\equiv x'n \\mod m$, so $x \\equiv x' \\mod m$, $x = x'$. Likewise $y = y'$. Hence in either case the $xn + ym$ are distinct modulo $mn$.\n",
    "\n",
    "In the unrestricted case we have $mn$ objects, so they form a coomplete set.\n",
    "\n",
    "In the restricted case $\\gcd(xn + ym, m) = \\gcd(xn, m) = \\gcd(x, m) = 1$ and likewise $\\gcd(xn + ym, n) = 1$, so $\\gcd(xn + ym, mn) = 1$ and the $xn + ym$ all belong to reduced residue classes.\n",
    "\n",
    "Now let $\\gcd(z, mn) = 1$. Choose $x', y', x, y$ so that\n",
    "\n",
    "$\n",
    "\\begin{aligned}\n",
    "x'n + y'm &= 1 \\\\\n",
    "x &\\equiv x'z \\mod m \\\\\n",
    "y &\\equiv y'z \\mod n \\\\\n",
    "\\end  {aligned}\n",
    "$\n",
    "\n",
    "Then $xn + ym \\equiv x'zn + y'zm = z \\mod mn$ and hence every reduced residue is included.\n",
    "\n",
    "$\\blacksquare$\n",
    "\n",
    "</div>"
   ]
  },
  {
   "cell_type": "markdown",
   "metadata": {},
   "source": [
    "<span style=\"color: #50C878;\"><b>$6x + 5y \\mod 30$</b></span>\n",
    "\n",
    "$\n",
    "\\begin{array}{cc|cccc|}\n",
    "  & x & 1 & 2 & 3 & 4 & 5 \\\\\n",
    "y & \\\\ \\hline\n",
    "1 & & 11 & 17 & 23 & 29 &  5 \\\\ \\hline\n",
    "2 & & 16 & 22 & 28 &  4 & 10 \\\\\n",
    "3 & & 21 & 27 &  3 &  9 & 15 \\\\\n",
    "4 & & 26 &  2 &  8 & 14 & 20 \\\\ \\hline\n",
    "5 & &  1 &  7 & 13 & 19 & 25 \\\\ \\hline\n",
    "6 & &  6 & 12 & 18 & 24 & 30 \\\\\n",
    "\\end  {array}\n",
    "$\n",
    "\n",
    "The $30$ numbers $1$ through $30$ each appear exactly once. The $8$ reduced residue classes occur precisely in the intersection of rows $1$ and $5$ and columns $1$ through $4$.\n",
    "\n",
    "$\\gcd(x = 1, 2, 3, 4, m = 5) = \\gcd(y = 1, 5, n = 6)$"
   ]
  },
  {
   "cell_type": "markdown",
   "metadata": {},
   "source": [
    "<span style=\"color: #0096FF;\"><b>THEOREM</b></span> [Vaughan Corollary 3.12]"
   ]
  },
  {
   "cell_type": "markdown",
   "metadata": {},
   "source": [
    "<div style=\"color: #0096FF;\">\n",
    "\n",
    "If $\\gcd(m, n) = 1$ then $\\phi(mn) = \\phi(m) \\phi(n)$.\n",
    "\n",
    "</div>"
   ]
  },
  {
   "cell_type": "markdown",
   "metadata": {},
   "source": [
    "$\n",
    "\\begin{aligned}\n",
    "\\gcd( 1, n) = 1 && \\phi(  n) &= \\phi( 1) \\phi( n) &&=  \\phi(n) \\\\\n",
    "\\gcd( 2, n) = 1 && \\phi( 2n) &= \\phi( 2) \\phi( n) &&=  \\phi(n) \\\\\n",
    "\\gcd( 3, n) = 1 && \\phi( 3n) &= \\phi( 3) \\phi( n) &&= 2\\phi(n) \\\\\n",
    "\\gcd( 4, n) = 1 && \\phi( 4n) &= \\phi( 4) \\phi( n) &&= 2\\phi(n) \\\\\n",
    "\\gcd( 5, n) = 1 && \\phi( 5n) &= \\phi( 5) \\phi( n) &&= 4\\phi(n) \\\\\n",
    "\\gcd( 6, n) = 1 && \\phi( 6n) &= \\phi( 6) \\phi( n) &&= 2\\phi(n) \\\\\n",
    "\\gcd( 7, n) = 1 && \\phi( 7n) &= \\phi( 7) \\phi( n) &&= 6\\phi(n) \\\\\n",
    "\\gcd( 8, n) = 1 && \\phi( 8n) &= \\phi( 8) \\phi( n) &&= 4\\phi(n) \\\\\n",
    "\\gcd( 9, n) = 1 && \\phi( 9n) &= \\phi( 9) \\phi( n) &&= 6\\phi(n) \\\\\n",
    "\\gcd(10, n) = 1 && \\phi(10n) &= \\phi(10) \\phi( n) &&= 4\\phi(n) \\\\\n",
    "\\end  {aligned}\n",
    "$"
   ]
  },
  {
   "cell_type": "markdown",
   "metadata": {},
   "source": [
    "<span style=\"color: #0096FF;\"><b>COROLLARY</b></span> [Vaughan Corollary 3.14]"
   ]
  },
  {
   "cell_type": "markdown",
   "metadata": {},
   "source": [
    "<div style=\"color: #0096FF;\">\n",
    "\n",
    "Euler's function is multiplicative.\n",
    "\n",
    "</div>"
   ]
  },
  {
   "cell_type": "markdown",
   "metadata": {},
   "source": [
    "<span style=\"color: #0096FF;\"><b>THEOREM</b></span> [Vaughan Theorem 3.15]"
   ]
  },
  {
   "cell_type": "markdown",
   "metadata": {},
   "source": [
    "<div style=\"color: #0096FF;\">\n",
    "\n",
    "If $n = p^k$ then the number of reduced residue classes modulo $p^k$ is the number of $x$ with $1 \\le x \\le p^k$ and $p \\nmid x$.\n",
    "\n",
    "This is $p^k - N$ where $N$ is the number of $x$ with $1 \\le x \\le p^k$ and $p \\mid x$, and $N = p^{k - 1}$. Thus\n",
    "\n",
    "$\\phi(p^k) = p^k - p^{k - 1} = p^k (1 - 1/p)$\n",
    "\n",
    "Let $n \\in N$. Then\n",
    "\n",
    "$\n",
    "\\begin{aligned}\n",
    "\\phi(n) = n \\prod_{p \\mid n} (1 - 1/p)\n",
    "\\end  {aligned}\n",
    "$\n",
    "\n",
    "where when $n = 1$ we interpret the product as an empty product $1$.\n",
    "\n",
    "Note that $\\phi(n^2) \\ne \\phi(n)^2$.\n",
    "\n",
    "</div>"
   ]
  },
  {
   "cell_type": "markdown",
   "metadata": {},
   "source": [
    "<span style=\"color: #50C878;\"><b>EXAMPLE</b></span>\n",
    "\n",
    "$\n",
    "\\begin{aligned}\n",
    "n = 2^2 &=     4 &&&     2 = 2   \\times 1 &= 2^2 - 2   &&= | \\{ 1, 3 \\} | \\\\\n",
    "n = 2^3 &=     8 &&&     4 = 2^2 \\times 1 &= 2^3 - 2^2 &&= | \\{ 1, 3, 5, 7 \\} | \\\\\n",
    "n = 2^4 &=    16 &&&     8 = 2^3 \\times 1 &= 2^4 - 2^3 &&= | \\{ 1, 3, 5, 7, 9, 11, 13, 15 \\} | \\\\\n",
    "n = 2^5 &=    32 &&&    16 = 2^4 \\times 1 &= 2^5 - 2^4 &&= \\dots \\\\\n",
    "n = 2^6 &=    64 &&&    32 = 2^5 \\times 1 &= 2^6 - 2^5 &&= \\dots \\\\\n",
    "\\\\\n",
    "n = 3^2 &=     9 &&&     6 = 3   \\times 2 &= 3^2 - 3   &&= | \\{ 1, 2, 4, 5, 7, 8 \\} | \\\\\n",
    "n = 3^3 &=    27 &&&    18 = 3^2 \\times 2 &= 3^3 - 3^2 &&= | \\{ 1, 2, 4, 5, 7, 8, 10, 11, 13, 14, 16, 17, 19, 20, 22, 23, 25, 26 \\} | \\\\\n",
    "n = 3^4 &=    81 &&&    54 = 3^3 \\times 2 &= 3^4 - 3^3 &&= \\dots \\\\\n",
    "n = 3^5 &=   243 &&&   162 = 3^4 \\times 2 &= 3^5 - 3^4 &&= \\dots \\\\\n",
    "n = 3^6 &=   729 &&&   486 = 3^5 \\times 2 &= 3^6 - 3^5 &&= \\dots \\\\\n",
    "\\\\\n",
    "n = 5^2 &=    25 &&&    20 = 5   \\times 4 &= 5^2 - 5   &&= | \\{ 1, 2, 3, 4, 6, 7, 8, 9, 11, 12, 13, 14, 16, 17, 18, 19, 21, 22, 23, 24 \\} | \\\\\n",
    "n = 5^3 &=   125 &&&   100 = 5^2 \\times 4 &= 5^3 - 5^2 &&= \\dots \\\\\n",
    "n = 5^4 &=   625 &&&   500 = 5^3 \\times 4 &= 5^4 - 5^3 &&= \\dots \\\\\n",
    "n = 5^5 &=  3125 &&&  2500 = 5^4 \\times 4 &= 5^5 - 5^4 &&= \\dots \\\\\n",
    "n = 5^6 &= 15625 &&& 12500 = 5^5 \\times 4 &= 5^6 - 5^5 &&= \\dots \\\\\n",
    "\\end  {aligned}\n",
    "$\n",
    "\n",
    "$\n",
    "\\begin{aligned}\n",
    "\\phi( 1) &=  1 \\prod_{p \\mid  1} (1 - 1/p)                                          && := &  1 \\\\\n",
    "\\phi( 2) &=  2 \\prod_{p \\mid  2} (1 - 1/p) =  2 \\times (1 - 1/ 2)                   &&  = &  1 \\\\\n",
    "\\phi( 3) &=  3 \\prod_{p \\mid  3} (1 - 1/p) =  3 \\times (1 - 1/ 3)                   &&  = &  2 \\\\\n",
    "\\phi( 4) &=  4 \\prod_{p \\mid  4} (1 - 1/p) =  4 \\times (1 - 1/ 2)                   &&  = &  2 \\\\\n",
    "\\phi( 5) &=  5 \\prod_{p \\mid  5} (1 - 1/p) =  5 \\times (1 - 1/ 5)                   &&  = &  4 \\\\\n",
    "\\phi( 6) &=  6 \\prod_{p \\mid  6} (1 - 1/p) =  6 \\times (1 - 1/ 2)(1 - 1/3)          &&  = &  2 \\\\\n",
    "\\phi( 7) &=  7 \\prod_{p \\mid  7} (1 - 1/p) =  7 \\times (1 - 1/ 7)                   &&  = &  6 \\\\\n",
    "\\phi( 8) &=  8 \\prod_{p \\mid  8} (1 - 1/p) =  8 \\times (1 - 1/ 2)                   &&  = &  4 \\\\\n",
    "\\phi( 9) &=  9 \\prod_{p \\mid  9} (1 - 1/p) =  9 \\times (1 - 1/ 3)                   &&  = &  6 \\\\\n",
    "\\phi(10) &= 10 \\prod_{p \\mid 10} (1 - 1/p) = 10 \\times (1 - 1/ 2)(1 - 1/5)          &&  = &  4 \\\\\n",
    "\\phi(11) &= 11 \\prod_{p \\mid 11} (1 - 1/p) = 11 \\times (1 - 1/11)                   &&  = & 10 \\\\\n",
    "\\phi(12) &= 12 \\prod_{p \\mid 12} (1 - 1/p) = 12 \\times (1 - 1/ 2)(1 - 1/3)          &&  = &  4 \\\\\n",
    "\\phi(13) &= 13 \\prod_{p \\mid 13} (1 - 1/p) = 13 \\times (1 - 1/13)                   &&  = & 12 \\\\\n",
    "\\phi(14) &= 14 \\prod_{p \\mid 14} (1 - 1/p) = 14 \\times (1 - 1/ 2)(1 - 1/7)          &&  = &  6 \\\\\n",
    "\\phi(15) &= 15 \\prod_{p \\mid 15} (1 - 1/p) = 15 \\times (1 - 1/ 3)(1 - 1/5)          &&  = &  8 \\\\\n",
    "\\phi(16) &= 16 \\prod_{p \\mid 16} (1 - 1/p) = 16 \\times (1 - 1/ 2)                   &&  = &  8 \\\\\n",
    "\\phi(17) &= 17 \\prod_{p \\mid 17} (1 - 1/p) = 17 \\times (1 - 1/17)                   &&  = & 16 \\\\\n",
    "\\phi(18) &= 18 \\prod_{p \\mid 18} (1 - 1/p) = 18 \\times (1 - 1/ 2)(1 - 1/3)          &&  = &  6 \\\\\n",
    "\\phi(19) &= 19 \\prod_{p \\mid 19} (1 - 1/p) = 19 \\times (1 - 1/19)                   &&  = & 18 \\\\\n",
    "\\phi(20) &= 20 \\prod_{p \\mid 20} (1 - 1/p) = 20 \\times (1 - 1/ 2)(1 - 1/5)          &&  = &  8 \\\\\n",
    "\\phi(21) &= 21 \\prod_{p \\mid 21} (1 - 1/p) = 21 \\times (1 - 1/ 3)(1 - 1/7)          &&  = & 12 \\\\\n",
    "\\phi(22) &= 22 \\prod_{p \\mid 22} (1 - 1/p) = 22 \\times (1 - 1/ 2)(1 - 1/11)         &&  = & 10 \\\\\n",
    "\\phi(23) &= 23 \\prod_{p \\mid 23} (1 - 1/p) = 23 \\times (1 - 1/23)                   &&  = & 22 \\\\\n",
    "\\phi(24) &= 24 \\prod_{p \\mid 24} (1 - 1/p) = 24 \\times (1 - 1/ 2)(1 - 1/3)          &&  = &  8 \\\\\n",
    "\\phi(25) &= 25 \\prod_{p \\mid 25} (1 - 1/p) = 25 \\times (1 - 1/ 5)                   &&  = & 20 \\\\\n",
    "\\phi(26) &= 26 \\prod_{p \\mid 26} (1 - 1/p) = 26 \\times (1 - 1/ 2)(1 - 1/13)         &&  = & 12 \\\\\n",
    "\\phi(27) &= 27 \\prod_{p \\mid 27} (1 - 1/p) = 27 \\times (1 - 1/ 3)                   &&  = & 18 \\\\\n",
    "\\phi(28) &= 28 \\prod_{p \\mid 28} (1 - 1/p) = 28 \\times (1 - 1/ 2)(1 - 1/7)          &&  = & 12 \\\\\n",
    "\\phi(29) &= 29 \\prod_{p \\mid 29} (1 - 1/p) = 29 \\times (1 - 1/29)                   &&  = & 28 \\\\\n",
    "\\phi(30) &= 30 \\prod_{p \\mid 30} (1 - 1/p) = 30 \\times (1 - 1/ 2)(1 - 1/3)(1 - 1/5) &&  = &  8 \\\\\n",
    "\\end  {aligned}\n",
    "$"
   ]
  },
  {
   "cell_type": "markdown",
   "metadata": {},
   "source": [
    "---"
   ]
  },
  {
   "cell_type": "markdown",
   "metadata": {},
   "source": [
    "<span style=\"color: #0096FF;\"><b>EULER'S THEOREM</b></span> [Vaughan Theorem 3.17]"
   ]
  },
  {
   "cell_type": "markdown",
   "metadata": {},
   "source": [
    "<div style=\"color: #0096FF;\">\n",
    "\n",
    "Suppose that $m \\in \\mathbb{N}$ and $a \\in \\mathbb{Z}$ with $\\gcd(a, m) = 1$. Then\n",
    "\n",
    "$a^{\\phi(m)} \\equiv 1 \\mod m$\n",
    "\n",
    "</div>"
   ]
  },
  {
   "cell_type": "markdown",
   "metadata": {},
   "source": [
    "<span style=\"color: #0096FF;\"><b>Proof</b></span>"
   ]
  },
  {
   "cell_type": "markdown",
   "metadata": {},
   "source": [
    "Let $a_1, a_2, \\dotsc, a_{\\phi(m)}$ be a reduced set modulo $m$.\n",
    "\n",
    "Then $aa_1, aa_2, \\dotsc, aa_{\\phi(m)}$ is another. Hence\n",
    "\n",
    "$\n",
    "\\begin{aligned}\n",
    "a_1 a_2 \\dots a_{\\phi(m)} &\\equiv aa_1 aa_2 \\dots aa_{\\phi(m)}             & \\mod m \\\\\n",
    "                          &\\equiv  a_1  a_2 \\dots  a_{\\phi(m)} a^{\\phi(m)} & \\mod m \\\\\n",
    "                        1 &\\equiv                  a^{\\phi(m)}             & \\mod m && \\text{since } \\gcd(a_1 a_2 \\dots a_{\\phi(m)}, m) = 1 \\\\\n",
    "\\end  {aligned}\n",
    "$\n",
    "\n",
    "$\\blacksquare$"
   ]
  },
  {
   "cell_type": "markdown",
   "metadata": {},
   "source": [
    "<span style=\"color: #50C878;\"><b>Example</b></span>"
   ]
  },
  {
   "cell_type": "markdown",
   "metadata": {},
   "source": [
    "$\n",
    "\\begin{aligned}\n",
    "m &= 17        & a &= 3 & 3^{16}    &\\equiv 1 \\mod 17 \\\\\n",
    "m &= 341561645 & a &= 2 & 2^{m - 1} &\\equiv 1 \\mod m  \\\\\n",
    "\\end  {aligned}\n",
    "$"
   ]
  },
  {
   "cell_type": "markdown",
   "metadata": {},
   "source": [
    "<span style=\"color: #0096FF;\"><b>FERMAT'S LITTLE THEOREM</b></span> [Vaughan Corollary 3.18]"
   ]
  },
  {
   "cell_type": "markdown",
   "metadata": {},
   "source": [
    "<div style=\"color: #0096FF;\">\n",
    "\n",
    "Let $p$ be a prime and $a \\in \\mathbb{Z}$. Then\n",
    "\n",
    "$a^p \\equiv a \\mod p$\n",
    "\n",
    "If $p \\nmid a$ then\n",
    "\n",
    "$a^{p - 1} \\equiv 1 \\mod p$\n",
    "\n",
    "</div>\n",
    "\n",
    "\"If $p$ is prime and $p$ does not divide $a$ then $a^{p - 1} \\equiv 1 \\mod p$\"\n",
    "\n",
    "The converse of this statement will lead us to the notion of Fermat pseudoprimes."
   ]
  },
  {
   "cell_type": "markdown",
   "metadata": {},
   "source": [
    "<span style=\"color: #50C878;\"><b>Example</b></span>"
   ]
  },
  {
   "cell_type": "markdown",
   "metadata": {},
   "source": [
    "$\n",
    "\\begin{aligned}\n",
    "p &= 17, a = 3 && 3^{17} \\equiv 3 \\mod 17 \\\\\n",
    "\\end  {aligned}\n",
    "$"
   ]
  },
  {
   "cell_type": "markdown",
   "metadata": {},
   "source": [
    "---"
   ]
  },
  {
   "cell_type": "markdown",
   "metadata": {},
   "source": [
    "### Fermat pseudoprimes"
   ]
  },
  {
   "cell_type": "markdown",
   "metadata": {},
   "source": [
    "\n",
    "Pseudoprimes are composite integers masquerading as primes."
   ]
  },
  {
   "cell_type": "markdown",
   "metadata": {},
   "source": [
    "Could Fermat's theorem give us a primality test? Unfortunately, it is possible that\n",
    "\n",
    "$a^{n - 1} \\equiv 1 \\mod n$\n",
    "\n",
    "when $n$ is ___not prime___, although this is rare. For example, when $n = 341,561,645$ then\n",
    "\n",
    "$2^{n - 1} \\equiv 1 \\mod n$\n",
    "\n",
    "Such $n$ are called (Fermat) pseudoprimes."
   ]
  },
  {
   "cell_type": "markdown",
   "metadata": {},
   "source": [
    "<span style=\"color: #0096FF;\"><b>FERMAT PSEUDOPRIME</b></span>"
   ]
  },
  {
   "cell_type": "markdown",
   "metadata": {},
   "source": [
    "<div style=\"color: #0096FF;\">\n",
    "\n",
    "A pseudoprime $m$ to the base $a$ is a composite integer $m$ that masquerades as a prime by satisfying the congruence\n",
    "\n",
    "$a^{m - 1} \\equiv 1 \\mod m$\n",
    "\n",
    "</div>"
   ]
  },
  {
   "cell_type": "markdown",
   "metadata": {},
   "source": [
    "<div style=\"color: red;\">\n",
    "\n",
    "There are $245$ pseudoprimes less than $10^6$ (compared to $78498$ primes less than $10^6$).\n",
    "\n",
    "</div>"
   ]
  },
  {
   "cell_type": "markdown",
   "metadata": {},
   "source": [
    "<span style=\"color: #50C878;\"><b>Base-2 Fermat Pseudoprimes</b></span>"
   ]
  },
  {
   "cell_type": "markdown",
   "metadata": {},
   "source": [
    "$\n",
    "\\begin{aligned}\n",
    "n &= 341       &&= 11 \\times 31                       & 2^{341 - 1} &\\equiv 1 \\mod 341 \\\\\n",
    "n &= 341561645 &&= 5 \\times 67 \\times 773 \\times 1319 & 2^{n - 1}   &\\equiv 1 \\mod n \\\\\n",
    "\\end  {aligned}\n",
    "$"
   ]
  },
  {
   "cell_type": "markdown",
   "metadata": {},
   "source": [
    "$3^{341 - 1} \\equiv 56 \\ne 1 \\mod 341$ suggests a possible primality test.\n",
    "\n",
    "Given $n$, try trial division a few times (say for $d = 2, 3, 5, 7$) and then check $a^{n - 1} \\equiv 1 \\mod n$ successively for $a = 2, 3, 5, 7$.\n",
    "\n",
    "Unfortunately, one still encounters false positives.\n",
    "\n",
    "$561 = 3 \\times 11 \\times 17$ satisfies $a^{560} \\equiv 1 \\mod 561$ for all $a$ with $\\gcd(a, 561) = 1$."
   ]
  },
  {
   "cell_type": "markdown",
   "metadata": {},
   "source": [
    "---"
   ]
  },
  {
   "cell_type": "markdown",
   "metadata": {},
   "source": [
    "### Carmichael Numbers"
   ]
  },
  {
   "cell_type": "markdown",
   "metadata": {},
   "source": [
    "<span style=\"color: #0096FF;\"><b>CARMICHAEL NUMBER</b></span> [Vaughan Definition 3.19]"
   ]
  },
  {
   "cell_type": "markdown",
   "metadata": {},
   "source": [
    "<div style=\"color: #0096FF;\">\n",
    "\n",
    "A composite $n$ which satisfies $a^{n - 1} \\equiv 1 \\mod n$ for all $a$ with $\\gcd(a, n) = 1$ is called a Carmichael number.\n",
    "\n",
    "</div>\n",
    "\n",
    "\"A Carmichael number is a composite integer that is a pseudoprime to all bases $a$ coprime prime to it.\"\n",
    "\n",
    "There are infinitely many Carmichael numbers. The smallest is $561$ and there are $2163$ of them below $25 \\times 10^9$."
   ]
  },
  {
   "cell_type": "markdown",
   "metadata": {},
   "source": [
    "---"
   ]
  },
  {
   "cell_type": "markdown",
   "metadata": {},
   "source": [
    "### Mersenne Primes"
   ]
  },
  {
   "cell_type": "markdown",
   "metadata": {},
   "source": [
    "<span style=\"color: #0096FF;\"><b>MERSENNE PRIME</b></span> [Vaughan Definition 3.20]"
   ]
  },
  {
   "cell_type": "markdown",
   "metadata": {},
   "source": [
    "<div style=\"color: #0096FF;\">\n",
    "\n",
    "Define $M(n) = 2^n - 1$. If it is prime then it is a Mersenne prime.\n",
    "\n",
    "</div>\n",
    "\n",
    "If $n = ab$ then $M(ab) = (2^a - 1)(2^{a(b - 1)} + \\dotsb + 2^a + 1)$.\n",
    "\n",
    "Thus for $M(n)$ to be prime it is necessary that $n$ be prime. However, that is not sufficient."
   ]
  },
  {
   "cell_type": "markdown",
   "metadata": {},
   "source": [
    "<span style=\"color: #50C878;\"><b>Example</b></span>"
   ]
  },
  {
   "cell_type": "markdown",
   "metadata": {},
   "source": [
    "$\n",
    "\\begin{aligned}\n",
    "M( 2) &=& 2^2    - 1 &=&    3 &                                && \\text{} \\\\\n",
    "M( 3) &=& 2^3    - 1 &=&    7 &                                && \\text{} \\\\\n",
    "M( 5) &=& 2^5    - 1 &=&   31 &                                && \\text{} \\\\\n",
    "M( 7) &=& 2^7    - 1 &=&  127 &                                && \\text{} \\\\\n",
    "M(11) &=& 2^{11} - 1 &=& 2047 &= \\textcolor{red}{23 \\times 89} && \\text{not a Mersenne prime} \\\\\n",
    "\\end  {aligned}\n",
    "$"
   ]
  },
  {
   "cell_type": "markdown",
   "metadata": {},
   "source": [
    "---\n",
    "---\n",
    "---"
   ]
  },
  {
   "cell_type": "markdown",
   "metadata": {},
   "source": [
    "## Linear Congruence"
   ]
  },
  {
   "cell_type": "markdown",
   "metadata": {},
   "source": [
    "---"
   ]
  },
  {
   "cell_type": "markdown",
   "metadata": {},
   "source": [
    "Linear congruences have the form\n",
    "\n",
    "$ax \\equiv b \\mod m$\n",
    "\n",
    "To solve linear congruences, inverses modulo $m$ are employed. Work backward through the steps of the Euclidean algorithm to find inverses modulo $m$. Once an inverse of $a$ modulo $m$ has been found, solve the linear congruence by multiplying both sides by the inverse."
   ]
  },
  {
   "cell_type": "markdown",
   "metadata": {},
   "source": [
    "---"
   ]
  },
  {
   "cell_type": "markdown",
   "metadata": {},
   "source": [
    "We have already solved $ax \\equiv b \\mod m$ in principle since it is equivalent to the linear diophantine equation\n",
    "\n",
    "$ax + my = b$\n",
    "\n",
    "<fieldset style=\"border: 2px solid #0096FF; border-radius: 5px; display: inline-block; margin: 10px; padding: 15px 20px 0 20px;\">\n",
    "\n",
    "<span style=\"color: #0096FF;\"><b>THEOREM</b></span> [Vaughan Theorem 3.22]\n",
    "\n",
    "<div style=\"color: #0096FF;\">\n",
    "\n",
    "The congruence\n",
    "\n",
    "$ax \\equiv b \\mod m$\n",
    "\n",
    "is soluble iff\n",
    "\n",
    "$\\gcd(a, m) \\mid b$\n",
    "\n",
    "and then the general solution is given by the residue class\n",
    "\n",
    "$x_0$ modulo $m/\\gcd(a, m)$\n",
    "\n",
    "The residue class $x_0$ can be found by applying Euclid's algorithm to solve\n",
    "\n",
    "$ax_0 + my_0 = b$\n",
    "</div>\n",
    "</fieldset>"
   ]
  },
  {
   "cell_type": "markdown",
   "metadata": {},
   "source": [
    "<span style=\"color: #0096FF;\"><b>PROOF</b></span>\n",
    "\n",
    "The congruence $ax \\equiv b \\mod m$ is equivalent to the equation $ax + my = b$\n",
    "\n",
    "<div style=\"color: #50C878;\">\n",
    "\n",
    "$\n",
    "\\begin{aligned}\n",
    "ax \\equiv b \\mod m \\iff m \\mid (ax - b) \\iff ax - b = m(-y) \\iff ax + my = b \\\\\n",
    "\\end  {aligned}\n",
    "$\n",
    "\n",
    "$(a/d)x + (m/d)y = b/d \\iff (a/d)x - b/d = (-y)(m/d) \\iff (a/d)x \\equiv (b/d) \\mod (m/d)$\n",
    "</div>\n",
    "\n",
    "and there can be no solution if $\\gcd(a, m) \\nmid b$\n",
    "\n",
    "<div style=\"color: #50C878;\">\n",
    "\n",
    "Let $d = \\gcd(a, m)$. By definition $d \\mid a$ and $d \\mid m$ and so it must be the case that $d \\mid (b = ax + my)$.\n",
    "</div>\n",
    "\n",
    "If $d \\mid b$ then Euclid's algorithm solves\n",
    "\n",
    "$\n",
    "\\begin{aligned}\n",
    "ax + my = b =\n",
    "(a/d)x + (m/d)y = b/d =\n",
    "\\frac{a}{\\gcd(a, m)} x + \\frac{m}{\\gcd(a, m)} y = \\frac{b}{\\gcd(a, m)}\n",
    "\\end  {aligned}\n",
    "$\n",
    "\n",
    "<div style=\"color: #50C878;\">\n",
    "\n",
    "Euclid's algorithm computes $d = \\gcd(a, m)$ by repeated application of the division algorithm. The extension keeps track of integer combinations of $a$ and $m$ that yeild $d$ for some integers $s$ and $t$\n",
    "\n",
    "$\n",
    "\\begin{aligned}\n",
    "     d &= sa + tm \\\\\n",
    "(b/d)d &= (b/d)sa + (b/d)tm \\\\\n",
    "     b &= a\\underbrace{(b/d)s}_{x_0} + m\\underbrace{(b/d)t}_{y_0} \\\\\n",
    "\\end  {aligned}\n",
    "$\n",
    "\n",
    "$ax_0 - b = m(-y_0) \\iff ax_0 \\equiv b \\mod m$\n",
    "</div>\n",
    "\n",
    "Let $x_0, y_0$ be such a solution. Obviously every member of the residue class\n",
    "\n",
    "$x_0$ modulo $m/d$\n",
    "\n",
    "gives a solution. Let $x, y$ be another solution. Then\n",
    "\n",
    "<div style=\"color: #50C878;\">\n",
    "\n",
    "$\n",
    "\\begin{aligned}\n",
    "& ax + my = b, ax_0 + my_0 = b \\\\\n",
    "& ax + my - ax_0 - my_0 = 0 \\iff ax - ax_0 + my - my_0 = 0 \\iff a(x - x_0) + m(y - y_0) = 0 \\\\\n",
    "& (a/d)(x - x_0) + (m/d)(y - y_0) = 0 \\\\\n",
    "& (a/d)(x - x_0) = (m/d)(y_0 - y) \\\\\n",
    "& (m/d) \\mid (a/d)(x - x_0) \\\\\n",
    "& (a/d)(x - x_0) \\equiv 0 \\mod (m/d) \\\\\n",
    "\\end  {aligned}\n",
    "$\n",
    "</div>\n",
    "\n",
    "$(a/d)(x - x_0) \\equiv 0 \\mod m/d \\iff (m/d) \\mid (a/d)(x - x_0)$\n",
    "\n",
    "and since\n",
    "\n",
    "$\n",
    "\\begin{aligned}\n",
    "\\gcd(a/d, m/d) =\n",
    "\\gcd \\left( \\frac{a}{\\gcd(a, m)}, \\frac{m}{\\gcd(a, m)} \\right) = 1\n",
    "\\end  {aligned}\n",
    "$\n",
    "\n",
    "<div style=\"color: #50C878;\">\n",
    "\n",
    "$x = x_0 + k(m/d) \\iff (m/d) \\mid (x - x_0) \\iff x \\equiv x_0 \\mod (m/d)$\n",
    "</div>\n",
    "\n",
    "it follows that $x$ is in the residue class\n",
    "\n",
    "$x_0$ modulo $m/d$\n",
    "\n",
    "<div style=\"color: #50C878;\">\n",
    "\n",
    "$\n",
    "\\begin{aligned}\n",
    "& (a/d)(x - x_0) + (m/d)(y - y_0) = 0 \\\\\n",
    "& (a/d)((-k)(m/d)) + (m/d)(y - y_0) = 0 \\\\\n",
    "& (-k)(a/d) + y - y_0 = 0 \\\\\n",
    "& y = y_0 + k(a/d) \\\\\n",
    "& y - y_0 = k(a/d) \\\\\n",
    "& y \\equiv y_0 \\mod (a/d)\n",
    "\\end  {aligned}\n",
    "$\n",
    "</div>\n",
    "\n",
    "$\\blacksquare$"
   ]
  },
  {
   "cell_type": "markdown",
   "metadata": {},
   "source": [
    "---"
   ]
  },
  {
   "cell_type": "markdown",
   "metadata": {},
   "source": [
    "<span style=\"color: #0096FF;\"><b>WILSON'S THEOREM</b></span> [Vaughan Theorem 3.23]"
   ]
  },
  {
   "cell_type": "markdown",
   "metadata": {},
   "source": [
    "<div style=\"color: #0096FF;\">\n",
    "\n",
    "Let $p$ be prime. Then $(p - 1)! \\equiv -1 \\mod p$.\n",
    "\n",
    "</div>"
   ]
  },
  {
   "cell_type": "markdown",
   "metadata": {},
   "source": [
    "<span style=\"color: #0096FF;\"><b>Proof</b></span>"
   ]
  },
  {
   "cell_type": "markdown",
   "metadata": {},
   "source": [
    "$\n",
    "\\begin{aligned}\n",
    "p &= 2 && (2 - 1)! \\equiv -1 \\mod 2 \\\\\n",
    "p &= 3 && (3 - 1)! \\equiv -1 \\mod 3 \\\\\n",
    "\\end  {aligned}\n",
    "$\n",
    "\n",
    "Suppose $p \\ge 5$. Observe now that $x^2 \\equiv 1 \\mod p$ implies that $x \\equiv \\pm 1 \\mod p$.\n",
    "\n",
    "Thus the numbers $2, 3, \\dotsc, p - 2$ can be paired off into $\\frac{p - 3}{2}$ mutually exclusive pairs $a, b$ s.t. $ab \\equiv 1 \\mod p$.\n",
    "\n",
    "Thus $(p - 1)! \\equiv p - 1 \\equiv -1 \\mod p$\n",
    "\n",
    "$\\blacksquare$\n",
    "\n",
    "This theorem actually gives a necessary and sufficient condition for $p$ to be prime, since if $p$ were to be composite then $\\gcd((p - 1)!, p) \\gt 1$. However, it is useless because $(p - 1)!$ grows very rapidly."
   ]
  },
  {
   "cell_type": "markdown",
   "metadata": {},
   "source": [
    "---"
   ]
  },
  {
   "cell_type": "markdown",
   "metadata": {},
   "source": [
    "### Chinese Remainder Theorem"
   ]
  },
  {
   "cell_type": "markdown",
   "metadata": {},
   "source": [
    "<span style=\"color: #0096FF;\"><b>SYSTEM OF LINEAR CONGRUENCES</b></span>"
   ]
  },
  {
   "cell_type": "markdown",
   "metadata": {},
   "source": [
    "<div style=\"color: #0096FF;\">\n",
    "\n",
    "$\n",
    "\\begin{cases}\n",
    "a_1 x &\\equiv b_1 \\mod q_1 \\\\\n",
    "a_2 x &\\equiv b_2 \\mod q_2 \\\\\n",
    "\\dots \\\\\n",
    "a_r x &\\equiv b_r \\mod q_r \\\\\n",
    "\\end  {cases}\n",
    "$\n",
    "\n",
    "</div>\n",
    "\n",
    "There can only be a solution when each individual equation is soluble, so we require $\\gcd(a_j, q_j) \\mid b_j$ for every $j$.\n",
    "\n",
    "Then we know that each individual equation is soluble by some residue class modulo $q_j / \\gcd(a_j, q_j)$.\n",
    "\n",
    "Thus for some values of $c_j$ and $m_j$ this reduces to\n",
    "\n",
    "$\n",
    "\\begin{cases}\n",
    "x &\\equiv c_1 \\mod m_1 \\\\\n",
    "\\dots \\\\\n",
    "x &\\equiv c_r \\mod m_r \\\\\n",
    "\\end  {cases}\n",
    "$\n",
    "\n",
    "Suppose for some $i$ and $j \\ne i$ we have $\\gcd(m_i, m_j) = d \\gt 1$. Then $x$ has to satisfy $c_i \\equiv x \\equiv c_j \\mod d$. This imposes conditions on $c_j$ which can get complicated. Thus it is convenient to assume that $\\gcd(m_i, m_j) = 1$ when $i \\ne j$."
   ]
  },
  {
   "cell_type": "markdown",
   "metadata": {},
   "source": [
    "<span style=\"color: #0096FF;\"><b>CHINESE REMAINDER THEOREM</b></span>"
   ]
  },
  {
   "cell_type": "markdown",
   "metadata": {},
   "source": [
    "The Chinese Remainder Theorem is about solving systems of linear congruences modulo pairwise coprime moduli."
   ]
  },
  {
   "cell_type": "markdown",
   "metadata": {},
   "source": [
    "<div style=\"color: #0096FF;\">\n",
    "\n",
    "Suppose that $\\gcd(m_i, m_j) = 1$ for every $i \\ne j$.\n",
    "\n",
    "Then the system\n",
    "\n",
    "$\n",
    "\\begin{cases}\n",
    "x &\\equiv c_1 \\mod m_1 \\\\\n",
    "\\dots \\\\\n",
    "x &\\equiv c_r \\mod m_r \\\\\n",
    "\\end  {cases}\n",
    "$\n",
    "\n",
    "has as its complete solution precisely the members of a unique residue class modulo $m_1 m_2 \\dots m_r$.\n",
    "\n",
    "</div>"
   ]
  },
  {
   "cell_type": "markdown",
   "metadata": {},
   "source": [
    "<span style=\"color: #0096FF;\"><b>Proof</b></span>"
   ]
  },
  {
   "cell_type": "markdown",
   "metadata": {},
   "source": [
    "_EXISTENCE_\n",
    "\n",
    "Let $M = m_1 m_2 \\dots m_r$ and $M_j = M / m_j$, so that $\\gcd(M_j, m_j) = 1$.\n",
    "\n",
    "We know that there is an $N_j$ so that $M_j N_j \\equiv c_j \\mod m_j$. (Solve $yM_j \\equiv c_j \\mod m_j$ in $y$.)\n",
    "\n",
    "Let $x$ be any member of the residue class $N_1 M_1 + \\dotsb + N_r M_r \\mod M$.\n",
    "\n",
    "Then for every $j$, since $m_j \\mid M_i$ when $i \\ne j$ we have $x \\equiv N_j M_j \\equiv c_j \\mod m_j$.\n",
    "\n",
    "So the residue class $x \\mod M$ gives a solution.\n",
    "\n",
    "_UNIQUENESS_\n",
    "\n",
    "Suppose $y$ is also a solution of the system.\n",
    "\n",
    "Then for every $j$ we have $y \\equiv c_j \\equiv x \\mod m_j$ and so $m_j \\mid y - x$.\n",
    "\n",
    "Since the $m_j$ are pairwise coprime we have $M \\mid y - x$, so $y$ is in the residue class $x$ modulo $M$.\n",
    "\n",
    "$\\blacksquare$"
   ]
  },
  {
   "cell_type": "markdown",
   "metadata": {},
   "source": [
    "<span style=\"color: #50C878;\"><b>Example</b></span>"
   ]
  },
  {
   "cell_type": "markdown",
   "metadata": {},
   "source": [
    "$\n",
    "\\begin{aligned}\n",
    "x &\\equiv \\underset{c_1}{3} \\mod \\underset{m_1}{\\phantom{2}4} \\\\\n",
    "x &\\equiv \\underset{c_2}{5} \\mod \\underset{m_2}{21} \\\\\n",
    "x &\\equiv \\underset{c_3}{7} \\mod \\underset{m_3}{25} \\\\\n",
    "\\end  {aligned}\n",
    "$\n",
    "\n",
    "$\n",
    "\\begin{aligned}\n",
    "M   &=          m_1          \\times m_2          \\times m_3  = & 2100 \\\\\n",
    "M_1 &= \\phantom{m_1          \\times}m_2          \\times m_3  = &  525 \\\\\n",
    "M_2 &=          m_1 \\phantom{\\times m_2}         \\times m_3  = &  100 \\\\\n",
    "M_3 &=          m_1          \\times m_2 \\phantom{\\times m_3} = &   84 \\\\\n",
    "\\end  {aligned}\n",
    "$\n",
    "\n",
    "Solve\n",
    "\n",
    "$\n",
    "\\begin{aligned}\n",
    "525 N_1 &\\equiv 3 \\mod \\phantom{2}4 \\\\\n",
    "100 N_2 &\\equiv 5 \\mod 21 \\\\\n",
    " 84 N_3 &\\equiv 7 \\mod 25 \\\\\n",
    "\\end  {aligned}\n",
    "$\n",
    "\n",
    "reduces to\n",
    "\n",
    "$\n",
    "\\begin{aligned}\n",
    "     N_1 &\\equiv 3 \\mod \\phantom{2}4 \\\\\n",
    "(-5) N_2 &\\equiv 5 \\mod 21 \\\\\n",
    "   9 N_3 &\\equiv 7 \\equiv -18 \\mod 25 \\\\\n",
    "\\end  {aligned}\n",
    "$\n",
    "\n",
    "$\n",
    "\\begin{aligned}\n",
    "N_1 &= 3 \\\\\n",
    "N_2 &= 20 \\\\\n",
    "N_3 &= 23 \\equiv -2 \\mod 25 \\\\\n",
    "\\end  {aligned}\n",
    "$\n",
    "\n",
    "$\n",
    "\\begin{aligned}\n",
    "x\n",
    "&\\equiv N_1 M_1 + N_2 M_2 + N_3 M_3 \\mod M \\\\\n",
    "&= 3 \\times 525 + 20 \\times 100 + 23 \\times 84 \\mod 2100 \\\\\n",
    "&= 5507 \\mod 2100 \\\\\n",
    "&\\equiv 1307 \\mod 2100 \\\\\n",
    "\\end  {aligned}\n",
    "$"
   ]
  },
  {
   "cell_type": "markdown",
   "metadata": {},
   "source": [
    "---\n",
    "---\n",
    "---"
   ]
  },
  {
   "cell_type": "markdown",
   "metadata": {},
   "source": [
    "## Polynomial Congruence"
   ]
  },
  {
   "cell_type": "markdown",
   "metadata": {},
   "source": [
    "---"
   ]
  },
  {
   "cell_type": "markdown",
   "metadata": {},
   "source": [
    "The solution of a general polynomial congruence can be quite tricky, even for a polynomial with a single variable.\n",
    "\n",
    "<span style=\"color: #0096FF;\"><b>POLYNOMIAL CONGRUENCE</b></span>\n",
    "\n",
    "<div style=\"color: #0096FF;\">\n",
    "\n",
    "$f(x) := a_0 + a_1 x + \\dotsb + a_j x^j + \\dotsb + a_J x^J \\equiv 0 \\mod m$\n",
    "\n",
    "where the $a_j$ are integers.\n",
    "</div>\n",
    "\n",
    "The largest $k$ such that $a_k \\not\\equiv 0 \\mod m$ is the __degree__ of $f$ modulo $m$. If $a_j \\equiv 0 \\mod m$ for every $j$ then the degree of $f$ modulo $m$ is not defined.\n",
    "\n",
    "When we have a solution $x$ to a polynomial congruence we may refer to such values as a __root__ of the polynomial modulo $m$."
   ]
  },
  {
   "cell_type": "markdown",
   "metadata": {},
   "source": [
    "---"
   ]
  },
  {
   "cell_type": "markdown",
   "metadata": {},
   "source": [
    "We have already seen that\n",
    "\n",
    "$x^2 \\equiv 1 \\mod 8$\n",
    "\n",
    "is solved by any odd $x$ so that it has four solutions modulo $8$.\n",
    "\n",
    "$x \\equiv 1, 3, 5, 7 \\mod 8$"
   ]
  },
  {
   "cell_type": "markdown",
   "metadata": {},
   "source": [
    "---"
   ]
  },
  {
   "cell_type": "markdown",
   "metadata": {},
   "source": [
    "<span style=\"color: #0096FF;\"><b>LAGRANGE'S THEOREM</b></span> [Vaughan Theorem 3.26]\n",
    "\n",
    "<div style=\"color: #0096FF;\">\n",
    "\n",
    "Suppose that $p$ is prime and\n",
    "\n",
    "$f(x) = a_0 + a_1 x + \\dotsb + a_j x^j + \\dotsb + a_J x^J \\equiv 0 \\mod m$\n",
    "\n",
    "is a polynomial with integer coefficients $a_j$ and it has degree $k$ modulo $p$. Then the number of incongruent solutions of\n",
    "\n",
    "$f(x) \\equiv 0 \\mod p$\n",
    "\n",
    "is at most $k$.\n",
    "</div>"
   ]
  },
  {
   "cell_type": "markdown",
   "metadata": {},
   "source": [
    "<span style=\"color: #0096FF;\"><b>Proof by induction on $k$</b></span>\n",
    "\n",
    "<div style=\"color: red;\">\n",
    "\n",
    "Degree $0$ is trivial so we can suppose $k \\ge 1$.\n",
    "\n",
    "If a polynomial $f$ has degree $1$ modulo $p$ so that $f(x) = a_0 + a_1 x$ with $p \\nmid a_1$ then the congruence becomes $a_1 x \\equiv -a_0 \\mod p$ and since $a_1 \\not\\equiv 0 \\mod p$ (because $f$ has degree $1$) we know that this is soluble by precisely the members of a unique residue class modulo $p$.\n",
    "\n",
    "Now suppose that the conclusion holds for all polynomials of a given degree $k$ and suppose that\n",
    "\n",
    "$f = a_0 + \\dotsb + a_{k + 1} x^{k + 1}$ has degree $k + 1$.\n",
    "\n",
    "If $f(x) \\equiv 0 \\mod p$ has no solutions then we are done.\n",
    "\n",
    "Hence we may assume at least one, say $x \\equiv x_0 \\mod p$.\n",
    "\n",
    "By the division algorithm for polynomials we have\n",
    "\n",
    "$f(x) = (x - x_0) q(x) + f(x_0)$\n",
    "\n",
    "where $q(x)$ is a polynomial of degree $k$.\n",
    "\n",
    "Moreover the leading coefficient of $q(x)$ is $a_{k + 1} \\equiv 0 \\mod p$.\n",
    "\n",
    "But $f(x_0) \\equiv 0 \\mod p$ so that $f(x) \\equiv (x - x_0) q(x) \\mod p$.\n",
    "\n",
    "If $f(x_1) \\equiv 0 \\mod p$ with $x_1 \\equiv x_0 \\mod p$ then $p \\nmid x_1 - x_0$ so that $p \\mid q(x_1)$.\n",
    "\n",
    "By the inductive hypothesis there are at most $k$ possibilities for $x_1$ so at most $k + 1$ in all.\n",
    "</div>\n",
    "\n",
    "$\\blacksquare$"
   ]
  },
  {
   "cell_type": "markdown",
   "metadata": {},
   "source": [
    "Nonlinear polynomials in one variable are complicated. The general modulus can be reduced to a prime power modulus, which can be reduced to the prime modulus. In general, the prime case leads to algebraic number theory."
   ]
  },
  {
   "cell_type": "markdown",
   "metadata": {},
   "source": [
    "---\n",
    "---\n",
    "---"
   ]
  },
  {
   "cell_type": "markdown",
   "metadata": {},
   "source": [
    "## Acknowledgements"
   ]
  },
  {
   "cell_type": "markdown",
   "metadata": {},
   "source": [
    "`SDCP` `2006` Dasgupta, Sanjoy; Christos Papadimitriou; & Umesh Vazirani. _Algorithms_. McGraw-Hill.\n",
    "\n",
    "`KRDM` `2018` Rosen, Kenneth. _Discrete Mathematics and its Applications_ 8e. McGraw-Hill.\n",
    "\n",
    "`CENT` `2023` [ [h](https://personal.science.psu.edu/rcv4/) ] Vaughan, Robert. _A Course of Elementary Number Theory_. CMPSC/MATH 467 Factorization and Primality Testing. The Pennsylvania State University. [ [book](https://bpb-us-e1.wpmucdn.com/sites.psu.edu/dist/6/167041/files/2023/07/CENT.pdf) ]"
   ]
  },
  {
   "cell_type": "markdown",
   "metadata": {},
   "source": [
    "---\n",
    "---\n",
    "---"
   ]
  }
 ],
 "metadata": {
  "kernelspec": {
   "display_name": "ml",
   "language": "python",
   "name": "python3"
  },
  "language_info": {
   "codemirror_mode": {
    "name": "ipython",
    "version": 3
   },
   "file_extension": ".py",
   "mimetype": "text/x-python",
   "name": "python",
   "nbconvert_exporter": "python",
   "pygments_lexer": "ipython3",
   "version": "3.11.9"
  }
 },
 "nbformat": 4,
 "nbformat_minor": 2
}
