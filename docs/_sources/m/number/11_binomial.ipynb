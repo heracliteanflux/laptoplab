{
 "cells": [
  {
   "cell_type": "markdown",
   "metadata": {},
   "source": [
    "# Binomial\n",
    "```{contents}\n",
    "```"
   ]
  },
  {
   "cell_type": "markdown",
   "metadata": {},
   "source": [
    "---"
   ]
  },
  {
   "cell_type": "markdown",
   "metadata": {},
   "source": [
    "## Binomial Theorem"
   ]
  },
  {
   "cell_type": "markdown",
   "metadata": {},
   "source": [
    "<span style=\"color: #0096FF;\"><b>BINOMIAL THEOREM AND BINOMIAL COEFFICIENT</b></span>\n",
    "<fieldset style=\"border: 2px solid #0096FF; border-radius: 5px; display: inline-block; margin: 10px; padding: 15px 20px 0 20px;\">\n",
    "<div style=\"color: #0096FF;\">\n",
    "\n",
    "Suppose $k$ and $n$ are integers with $0 \\le k \\le n$. Then\n",
    "\n",
    "$\n",
    "\\begin{aligned}\n",
    "(x + y)^n\n",
    "&= \\binom{n}{0} x^n y^0 + \\binom{n}{1} x^{n-1} y^1 + \\dotsb + \\binom{n}{n-1} x^1 y^{n-1} + \\binom{n}{n} x^0 y^n \\\\\n",
    "&= \\sum_{k=0}^n \\binom{n}{n-k} x^{n-k} y^k\n",
    " = \\sum_{k=0}^n \\binom{n}{k} x^k y^{n-k} \\\\\n",
    "\\end  {aligned}\n",
    "$\n",
    "\n",
    "$\n",
    "\\begin{aligned}\n",
    "(x + 1)^n\n",
    "&= \\binom{n}{0} x^0 + \\binom{n}{1} x^1 + \\dotsb + \\binom{n}{n-1} x^{n-1} + \\binom{n}{n} x^n \\\\\n",
    "&= \\sum_{k=0}^n \\binom{n}{k} x^k \\\\\n",
    "\\end  {aligned}\n",
    "$\n",
    "\n",
    "$\\binom{n}{k}$ is the coefficient of the $x^k$ term in the expansion.\n",
    "\n",
    "$\\binom{n}{k}$ is called a binomial coefficient and is defined as follows.\n",
    "\n",
    "$\n",
    "\\begin{aligned}\n",
    "\\binom{n}{k}\n",
    "= \\frac{n!}{k! (n - k)!}\n",
    "= \\frac{n \\times (n - 1) \\times \\dotsb \\times (n - k + 1)}{k!}\n",
    "= \\frac{n!}{(n - k)! (n - (n - k))!}\n",
    "= \\binom{n}{n-k}\n",
    "\\end  {aligned}\n",
    "$\n",
    "\n",
    "$\n",
    "\\begin{aligned}\n",
    "\\binom{n}{0}\n",
    "= \\frac{n!}{0! (n - 0)!}\n",
    "= 1\n",
    "= \\frac{n!}{n! (n - n)!}\n",
    "= \\binom{n}{n}\n",
    "\\end  {aligned}\n",
    "$\n",
    "</div>\n",
    "</fieldset>\n",
    "\n",
    "Although it is clear from its definition that $\\binom{n}{k} \\in \\mathbb{Q}^+$ it is not yet clear that $\\binom{n}{k} \\in \\mathbb{Z}$."
   ]
  },
  {
   "cell_type": "markdown",
   "metadata": {},
   "source": [
    "<div class=\"full-width\">\n",
    "\n",
    "<span style=\"color: #0096FF;\"><b>PROOF by induction on n</b></span>\n",
    "\n",
    "<b>Base Case</b>\n",
    "\n",
    "$(x + y)^1 = \\binom{1}{0} x^1 y^0 + \\binom{1}{1} x^0 y^1$\n",
    "\n",
    "<b>Induction Hypothesis</b>\n",
    "\n",
    "Let $(x + y)^k = \\binom{k}{0} x^k + \\dots + \\binom{k}{i} x^{k - i} y^i + \\dots + \\binom{k}{k} y^k$ for some $k \\in \\mathbb{N}^+$.\n",
    "\n",
    "<b>Induction Step</b>\n",
    "\n",
    "$\n",
    "\\begin{aligned}\n",
    "(x + y)^{k + 1}\n",
    "&= (x + y)(x + y)^k \\\\\n",
    "&= (x + y) \\left( \\binom{k}{0} x^k + \\dots + \\binom{k}{i - 1} x^{k - (i - 1)} y^{i - 1} + \\binom{k}{i} x^{k - i} y^i + \\dots + \\binom{k}{k} y^k \\right) \\\\\n",
    "&= \\textcolor{#0096FF}{\\binom{k}{0} x^{k + 1}} + \\binom{k}{0} x^k y + \\dots + \\binom{k}{i - 1} x^{k + 2 - i} y^{i - 1} + \\textcolor{#0096FF}{\\binom{k}{i - 1} x^{k + 1 - i} y^i} + \\textcolor{#0096FF}{\\binom{k}{i} x^{k + 1 - i} y^i} + \\binom{k}{i} x^{k - i} y^{i + 1} + \\dots + \\binom{k}{k} x y^k + \\textcolor{#0096FF}{\\binom{k}{k} y^{k + 1}} \\\\\n",
    "\\end  {aligned}\n",
    "$\n",
    "\n",
    "Note that $\\binom{k}{0} x^{k + 1} = x^{k + 1} = \\binom{k + 1}{0} x^{k + 1}$.\n",
    "\n",
    "Note that $\\binom{k}{k} y^{k + 1} = y^{k + 1} = \\binom{k + 1}{k + 1} y^{k + 1}$.\n",
    "\n",
    "Note that $\\binom{k}{i - 1} x^{k + 1 - i} y^i + \\binom{k}{i} x^{k + 1 - i} y^i = \\left( \\binom{k}{i - 1} + \\binom{k}{i} \\right) x^{k + 1 - i} y^i$.\n",
    "\n",
    "It is left for us to show that $\\binom{k}{i - 1} + \\binom{k}{i} = \\binom{k + 1}{i}$.  \n",
    "\n",
    "$\n",
    "\\begin{aligned}\n",
    "& \\binom{k}{i - 1} + \\binom{k}{i} \\\\\n",
    "= & \\frac{k!}{(i - 1)!(k + 1 - i)!} + \\frac{k!}{i!(k - i)!} \\\\\n",
    "= & \\frac{k!}{(i - 1)!(k + 1 - i)(k - i)!} + \\frac{k!}{i(i - 1)!(k - i)!} \\\\\n",
    "= & \\frac{k!}{(i - 1)!(k - i)!} \\left( \\frac{1}{(k + 1 - i)} + \\frac{1}{i} \\right) \\\\\n",
    "= & \\frac{k!}{(i - 1)!(k - i)!} \\cdot \\frac{k + 1}{i(k + 1 - i)} \\\\\n",
    "= & \\frac{(k + 1) \\cdot k!}{i \\cdot (i - 1)! \\cdot (k + 1 - i) \\cdot (k - i)!} \\\\\n",
    "= & \\frac{(k + 1)!}{i!(k + 1 - i)!} \\\\\n",
    "= & \\binom{k + 1}{i} \\\\\n",
    "\\end  {aligned}\n",
    "$\n",
    "\n",
    "$\\blacksquare$\n",
    "\n",
    "</div>"
   ]
  },
  {
   "cell_type": "markdown",
   "metadata": {},
   "source": [
    "---\n",
    "---\n",
    "---"
   ]
  },
  {
   "cell_type": "markdown",
   "metadata": {},
   "source": [
    "## Pascal's Triangle"
   ]
  },
  {
   "cell_type": "markdown",
   "metadata": {},
   "source": [
    "<span style=\"color: #0096FF;\"><b>PASCAL'S TRIANGLE</b></span>\n",
    "\n",
    "$\n",
    "\\begin{array}{c|cccccccccccccccccccc|c}\n",
    "n &&&&&&&&&&&&&&&&&&&&& \\sum_{k=0}^n \\binom{n}{k} = 2^n \\\\ \\hline\n",
    "0 && \\textcolor{red}{\\underset{0}{\\binom{\\phantom{-}0}{-1}}} && \\underset{1}{\\binom{0}{0}} && \\textcolor{red}{\\underset{0}{\\binom{0}{1}}} && \\dots &&&&&&&&&&&&& 2^0 \\\\\n",
    "1 && \\textcolor{red}{\\underset{0}{\\binom{\\phantom{-}1}{-1}}} && \\underset{1}{\\binom{1}{0}} && \\underset{1}{\\binom{1}{1}} && \\textcolor{red}{\\underset{0}{\\binom{1}{2}}} && \\dots &&&&&&&&&&& 2^1 \\\\\n",
    "2 && \\textcolor{red}{\\underset{0}{\\binom{\\phantom{-}2}{-1}}} && \\underset{1}{\\binom{2}{0}} && \\underset{2}{\\binom{2}{1}} && \\underset{1}{\\binom{2}{2}} && \\textcolor{red}{\\underset{0}{\\binom{2}{3}}} && \\dots &&&&&&&&& 2^2 \\\\\n",
    "3 && \\textcolor{red}{\\underset{0}{\\binom{\\phantom{-}3}{-1}}} && \\underset{1}{\\binom{3}{0}} && \\underset{3}{\\binom{3}{1}} && \\underset{3}{\\binom{3}{2}} && \\underset{1}{\\binom{3}{3}} && \\textcolor{red}{\\underset{0}{\\binom{3}{4}}} && \\dots &&&&&&& 2^3 \\\\\n",
    "4 && \\textcolor{red}{\\underset{0}{\\binom{\\phantom{-}4}{-1}}} && \\underset{1}{\\binom{4}{0}} && \\underset{4}{\\binom{4}{1}} && \\underset{6}{\\binom{4}{2}} && \\underset{4}{\\binom{4}{3}} && \\underset{1}{\\binom{4}{4}} && \\textcolor{red}{\\underset{0}{\\binom{4}{5}}} && \\dots &&&&& 2^4 \\\\\n",
    "5 && \\textcolor{red}{\\underset{0}{\\binom{\\phantom{-}5}{-1}}} && \\underset{1}{\\binom{5}{0}} && \\underset{5}{\\binom{5}{1}} && \\underset{10}{\\binom{5}{2}} && \\underset{10}{\\binom{5}{3}} && \\underset{5}{\\binom{5}{4}} && \\underset{1}{\\binom{5}{5}} && \\textcolor{red}{\\underset{0}{\\binom{5}{6}}} && \\dots &&& 2^5 \\\\\n",
    "6 && \\textcolor{red}{\\underset{0}{\\binom{\\phantom{-}6}{-1}}} && \\underset{1}{\\binom{6}{0}} && \\underset{6}{\\binom{6}{1}} && \\underset{15}{\\binom{6}{2}} && \\underset{20}{\\binom{6}{3}} && \\underset{15}{\\binom{6}{4}} && \\underset{6}{\\binom{6}{5}} && \\underset{1}{\\binom{6}{6}} && \\textcolor{red}{\\underset{0}{\\binom{6}{7}}} && \\dots & 2^6 \\\\\n",
    "\\vdots && \\vdots && \\vdots && \\vdots && \\vdots && \\vdots && \\vdots && \\vdots && \\vdots && \\vdots && \\ddots & \\vdots \\\\\n",
    "\\hline\n",
    "k= && -1 && 0 && 1 && 2 && 3 && 4 && 5 && 6 && \\dots \\\\\n",
    "\\end{array}\n",
    "$"
   ]
  },
  {
   "cell_type": "markdown",
   "metadata": {},
   "source": [
    "Extending Pascal's triangle, we have\n",
    "\n",
    "$\n",
    "\\begin{array}{c|ccccc}\n",
    "n   & \\dots & \\underset{1}{\\binom{n}{n}} & \\underset{0}{\\binom{n  }{n+1}} & \\underset{ }{\\binom{n  }{n+2}} & \\dots & \\binom{n  }{n+k-2} & \\binom{n  }{n+k-1} & \\binom{n  }{n+k} \\\\\n",
    "n+1 & & \\dots & \\underset{1}{\\binom{n+1}{n+1}} & \\underset{0}{\\binom{n+1}{n+2}} & \\dots & \\binom{n+1}{n+k-2} & \\binom{n+1}{n+k-1} & \\binom{n+1}{n+k} \\\\\n",
    "n+2 & & & \\dots & \\underset{1}{\\binom{n+2}{n+2}} & \\dots & \\binom{n+2}{n+k-2} & \\binom{n+2}{n+k-1} & \\binom{n+2}{n+k} \\\\\n",
    "\\vdots & & & & \\vdots & & \\vdots & \\vdots & \\vdots \\\\ \\hline\n",
    "k=  & \\dots & n & n + 1 & n + 2 & \\dots & n + k - 2 & n + k - 1 & n + k \\\\\n",
    "\\end  {array}\n",
    "$\n",
    "\n",
    "The recurrence defined below says that a given grid coefficient is the sum of its N and NW neighbors, or the difference of its S and W neighbors."
   ]
  },
  {
   "cell_type": "markdown",
   "metadata": {},
   "source": [
    "---"
   ]
  },
  {
   "cell_type": "markdown",
   "metadata": {},
   "source": [
    "<span style=\"color: #0096FF;\"><b>CLAIM</b></span>\n",
    "\n",
    "Suppose $0 \\le k \\le n$. Then\n",
    "\n",
    "$\n",
    "\\begin{aligned}\n",
    "\\sum_{k=0}^n \\binom{n}{k}\n",
    "= \\binom{n}{0} + \\binom{n}{1} + \\dotsb + \\binom{n}{n-1} + \\binom{n}{n}\n",
    "= 2^n\n",
    "\\end  {aligned}\n",
    "$"
   ]
  },
  {
   "cell_type": "markdown",
   "metadata": {},
   "source": [
    "<span style=\"color: #0096FF;\"><b>PROOF combinatorial</b></span>\n",
    "\n",
    "Let $X$ be a set of $n$ elements so that $n \\ge 0$ and let $\\mathcal{P}(X)$ be its powerset (i.e., the set of all subsets of $X$) so that $|\\mathcal{P}(X)| = 2^n$.\n",
    "\n",
    "There are $\\binom{n}{k}$ subsets of size $k$.\n",
    "\n",
    "$\\blacksquare$"
   ]
  },
  {
   "cell_type": "markdown",
   "metadata": {},
   "source": [
    "---\n",
    "---\n",
    "---"
   ]
  },
  {
   "cell_type": "markdown",
   "metadata": {},
   "source": [
    "## Binomial Coefficient"
   ]
  },
  {
   "cell_type": "markdown",
   "metadata": {},
   "source": [
    "### Binomial Recurrence"
   ]
  },
  {
   "cell_type": "markdown",
   "metadata": {},
   "source": [
    "<span style=\"color: #0096FF;\"><b>BINOMIAL RECURRENCE</b></span>\n",
    "\n",
    "Let $n$ and $m$ be integers with $0 \\le m \\le n$. The binomial coefficient\n",
    "\n",
    "$\n",
    "\\begin{aligned}\n",
    "\\binom{n}{m} \\\\\n",
    "\\end  {aligned}\n",
    "$\n",
    "\n",
    "is defined inductively by\n",
    "\n",
    "$\n",
    "\\begin{aligned}\n",
    "\\binom{\\phantom{-}n}{\\phantom{-}n} &:= 1 \\\\\n",
    "\\binom{\\phantom{-}n}{-1}           &:= 0 \\\\\n",
    "\\binom{n+1}{m}                     &= \\binom{n}{m-1} + \\binom{n}{m} \\iff \\binom{n}{m} = \\binom{n+1}{m} - \\binom{n}{m-1} \\\\\n",
    "\\end  {aligned}\n",
    "$"
   ]
  },
  {
   "cell_type": "markdown",
   "metadata": {},
   "source": [
    "<span style=\"color: #0096FF;\"><b>PROOF combinatorial</b></span>\n",
    "\n",
    "Let $X$ be the number of unordered subsets of size $k$ of a set of size $n + 1$. Then\n",
    "\n",
    "$\n",
    "\\begin{aligned}\n",
    "\\binom{n+1}{k}\n",
    "\\end  {aligned}\n",
    "$\n",
    "\n",
    "counts their number. Let $\\texttt{a}$ be the first element of $n + 1$. A subset either contains $\\texttt{a}$ or it doesn't.\n",
    "\n",
    "If the subset contains $\\texttt{a}$ then what remains is a subset of size $k - 1$ from the remaining $n$ elements and so\n",
    "\n",
    "$\n",
    "\\begin{aligned}\n",
    "\\binom{n}{k-1}\n",
    "\\end  {aligned}\n",
    "$\n",
    "\n",
    "counts the number of subsets with $\\texttt{a}$. If the subset does not contain $\\texttt{a}$ then what remains is a subset of size $k$ from the remaining $n$ elements and so\n",
    "\n",
    "$\n",
    "\\begin{aligned}\n",
    "\\binom{n}{k}\n",
    "\\end  {aligned}\n",
    "$\n",
    "\n",
    "counts the number of subsets without $\\texttt{a}$. By the sum rule these two also count $X$.\n",
    "\n",
    "$\\blacksquare$"
   ]
  },
  {
   "cell_type": "markdown",
   "metadata": {},
   "source": [
    "---"
   ]
  },
  {
   "cell_type": "markdown",
   "metadata": {},
   "source": [
    "### $\\binom{n}{n+k} = 0$"
   ]
  },
  {
   "cell_type": "markdown",
   "metadata": {},
   "source": [
    "<b>CLAIM</b>\n",
    "\n",
    "$\n",
    "\\begin{aligned}\n",
    "\\boxed{ \\boxed{\n",
    "\\forall k \\ge 1 \\quad\n",
    "\\forall n \\ge 0 \\quad\n",
    "\\binom{n}{n+k} = 0\n",
    "} } \\\\\n",
    "\\end  {aligned}\n",
    "$\n",
    "\n",
    "It suffices to show that\n",
    "\n",
    "$\n",
    "\\boxed{\n",
    "\\begin{aligned}\n",
    "& P(1) \\quad \\land \\quad\n",
    "\\forall j \\ge 2 \\quad\n",
    "\\left( \\bigwedge_{i=1}^{j-1} P(i) \\right) \\implies P(j) \\\\\n",
    "& \\text{where} \\quad\n",
    "P(i) : \\quad\n",
    "\\forall n \\ge 0 \\quad\n",
    "\\binom{n}{n+i} = 0 \\\\\n",
    "\\end  {aligned}\n",
    "}\n",
    "$\n",
    "\n",
    "Thus the claim is equivalent to\n",
    "\n",
    "$\n",
    "\\begin{aligned}\n",
    "\\bigwedge_{i=1}^\\infty P(i)\n",
    "\\end  {aligned}\n",
    "$\n",
    "\n",
    "<b>Base Case</b>\n",
    "\n",
    "$\n",
    "\\begin{aligned}\n",
    "P(1) : \\quad\n",
    "\\forall n \\ge 0 \\quad\n",
    "\\binom{n}{n+1}\n",
    "&= \\underset{1 \\text{ by def}}{\\binom{n+1}{n+1}} - \\underset{1 \\text{ by def}}{\\binom{n}{n}} = 0 \\\\\n",
    "\\end  {aligned}\n",
    "$\n",
    "\n",
    "<b>Induction Step</b>\n",
    "\n",
    "We want to show that\n",
    "\n",
    "$\n",
    "\\begin{aligned}\n",
    "\\boxed{\n",
    "\\forall j \\ge 2 \\quad\n",
    "\\left( \\bigwedge_{i=1}^{j-1} P(i) \\right) \\implies P(j)\n",
    "} \\\\\n",
    "\\end  {aligned}\n",
    "$\n",
    "\n",
    "<b>Induction Hypothesis</b>\n",
    "\n",
    "$\n",
    "\\begin{aligned}\n",
    "\\boxed{\n",
    "\\exists j \\ge 2 \\quad\n",
    "\\bigwedge_{i=1}^{j-1} P(i)\n",
    "} \\\\\n",
    "\\end  {aligned}\n",
    "$\n",
    "\n",
    "Then\n",
    "\n",
    "$\n",
    "\\begin{aligned}\n",
    "P(j) : \\quad\n",
    "\\forall n \\ge 0 \\quad\n",
    "\\binom{n}{n+j}\n",
    "= \\underset{0 \\text{ by IH}}{\\binom{n+1}{n+1+j-1}} - \\underset{0 \\text{ by IH}}{\\binom{n}{n+j-1}}\n",
    "= 0 \\\\\n",
    "\\end  {aligned}\n",
    "$\n",
    "\n",
    "$\\blacksquare$"
   ]
  },
  {
   "cell_type": "markdown",
   "metadata": {},
   "source": [
    "---"
   ]
  },
  {
   "cell_type": "markdown",
   "metadata": {},
   "source": [
    "### $\\binom{n}{0} = 1$"
   ]
  },
  {
   "cell_type": "markdown",
   "metadata": {},
   "source": [
    "<b>CLAIM</b>\n",
    "\n",
    "$\n",
    "\\begin{aligned}\n",
    "\\boxed{ \\boxed{\n",
    "\\forall n \\ge 0 \\quad\n",
    "\\binom{n}{0} = 1\n",
    "} } \\\\\n",
    "\\end  {aligned}\n",
    "$\n",
    "\n",
    "It suffices to show that\n",
    "\n",
    "$\n",
    "\\boxed{\n",
    "\\begin{aligned}\n",
    "& P(0) \\quad \\land \\quad\n",
    "\\forall k \\ge 1 \\quad\n",
    "\\left( \\bigwedge_{i=0}^{k-1} P(i) \\right) \\implies P(k) \\\\\n",
    "& \\text{where} \\quad P(i) : \\quad\n",
    "\\binom{i}{0} = 1 \\\\\n",
    "\\end  {aligned}\n",
    "} \\\\\n",
    "$\n",
    "\n",
    "Thus the claim is equivalent to\n",
    "\n",
    "$\n",
    "\\begin{aligned}\n",
    "\\bigwedge_{i=0}^\\infty P(i)\n",
    "\\end  {aligned}\n",
    "$\n",
    "\n",
    "<b>Base Case</b>\n",
    "\n",
    "$\n",
    "\\begin{aligned}\n",
    "P(0) : \\quad\n",
    "\\underset{1 \\text{ by def}}{\\binom{0}{0}} = 1 \\\\\n",
    "\\end  {aligned}\n",
    "$\n",
    "\n",
    "<b>Induction Step</b>\n",
    "\n",
    "We want to show that\n",
    "\n",
    "$\n",
    "\\begin{aligned}\n",
    "\\boxed{\n",
    "\\forall k \\ge 1 \\quad\n",
    "\\left( \\bigwedge_{i=0}^{k-1} P(i) \\right) \\implies P(k)\n",
    "}\n",
    "\\end  {aligned}\n",
    "$\n",
    "\n",
    "<b>Induction Hypothesis</b>\n",
    "\n",
    "$\n",
    "\\begin{aligned}\n",
    "\\boxed{\n",
    "\\exists k \\ge 1 \\quad\n",
    "\\bigwedge_{i=0}^{k-1} P(i)\n",
    "}\n",
    "\\end  {aligned}\n",
    "$\n",
    "\n",
    "Then\n",
    "\n",
    "$\n",
    "\\begin{aligned}\n",
    "P(k) : \\quad\n",
    "\\binom{k}{0}\n",
    "= \\underset{0 \\text{ by def}}{\\binom{k-1}{-1}} + \\underset{1 \\text{ by IH}}{\\binom{k-1}{0}}\n",
    "= 1 \\\\\n",
    "\\end  {aligned}\n",
    "$\n",
    "\n",
    "$\\blacksquare$"
   ]
  },
  {
   "cell_type": "markdown",
   "metadata": {},
   "source": [
    "---"
   ]
  },
  {
   "cell_type": "markdown",
   "metadata": {},
   "source": [
    "### $\\binom{n}{m} \\in \\mathbb{Z}$"
   ]
  },
  {
   "cell_type": "markdown",
   "metadata": {},
   "source": [
    "i\n",
    "\n",
    "Prove that\n",
    "\n",
    "$\n",
    "\\begin{aligned}\n",
    "\\binom{n}{m} \\in \\mathbb{Z}\n",
    "\\end  {aligned}\n",
    "$\n",
    "\n",
    "https://math.stackexchange.com/questions/2158/division-of-factorials-binomal-coefficients-are-integers\n",
    "\n",
    "https://math.stackexchange.com/questions/11601/proof-that-a-combination-is-an-integer"
   ]
  },
  {
   "cell_type": "markdown",
   "metadata": {},
   "source": [
    "<b>CLAIM</b>\n",
    "\n",
    "$\n",
    "\\begin{aligned}\n",
    "\\boxed{ \\boxed{\n",
    "\\forall n \\ge 0 \\quad\n",
    "\\forall m \\quad\n",
    "0 \\le m \\le n \\quad\n",
    "\\binom{n}{m} \\in \\mathbb{Z}\n",
    "} } \\\\\n",
    "\\end  {aligned}\n",
    "$\n",
    "\n",
    "It suffices to show that\n",
    "\n",
    "$\n",
    "\\boxed{\n",
    "\\begin{aligned}\n",
    "& P(0) \\quad \\land \\quad\n",
    "\\forall k \\ge 1 \\quad\n",
    "\\left( \\bigwedge_{i=0}^{k-1} P(i) \\right) \\implies P(k) \\\\\n",
    "& \\text{where} \\quad\n",
    "P(i) : \\quad\n",
    "\\forall m \\quad\n",
    "0 \\le m \\le i \\quad\n",
    "\\binom{i}{m} \\in \\mathbb{Z} \\\\\n",
    "\\end  {aligned}\n",
    "}\n",
    "$\n",
    "\n",
    "Thus the claim is equivalent to\n",
    "\n",
    "$\n",
    "\\begin{aligned}\n",
    "\\bigwedge_{i=0}^\\infty P(i)\n",
    "\\end  {aligned}\n",
    "$\n",
    "\n",
    "<b>Base Case</b>\n",
    "\n",
    "$\n",
    "\\begin{aligned}\n",
    "& P(0) : \\quad\n",
    "\\forall m \\quad\n",
    "0 \\le m \\le 0 \\quad\n",
    "\\binom{0}{m} \\in \\mathbb{Z} \\\\\n",
    "& \\underset{1 \\text{ by def}}{\\binom{0}{0}} = 1 \\\\\n",
    "\\end  {aligned}\n",
    "$\n",
    "\n",
    "<b>Induction Step</b>\n",
    "\n",
    "We want to show that\n",
    "\n",
    "$\n",
    "\\begin{aligned}\n",
    "\\boxed{\n",
    "\\forall k \\ge 1 \\quad\n",
    "\\left( \\bigwedge_{i=0}^{k-1} P(i) \\right) \\implies P(k)\n",
    "} \\\\\n",
    "\\end  {aligned}\n",
    "$\n",
    "\n",
    "<b>Induction Hypothesis</b>\n",
    "\n",
    "$\n",
    "\\begin{aligned}\n",
    "\\boxed{\n",
    "\\exists k \\ge 1 \\quad\n",
    "\\bigwedge_{i=0}^{k-1} P(i)\n",
    "} \\\\\n",
    "\\end  {aligned}\n",
    "$\n",
    "\n",
    "$\n",
    "\\begin{aligned}\n",
    "& P(k-1) : \\quad\n",
    "\\forall m \\quad\n",
    "0 \\le m \\le k-1 \\quad\n",
    "\\binom{k-1}{m} \\in \\mathbb{Z} \\\\\n",
    "& \\binom{k-1}{0}, \\binom{k-1}{1}, \\dotsc, \\binom{k-1}{k-1} \\in \\mathbb{Z} \\\\\n",
    "\\end  {aligned}\n",
    "$\n",
    "\n",
    "Then\n",
    "\n",
    "$\n",
    "\\begin{aligned}\n",
    "& P(k) : \\quad\n",
    "\\forall m \\quad\n",
    "0 \\le m \\le k \\quad\n",
    "\\binom{k}{m} \\in \\mathbb{Z} \\\\\n",
    "& \\binom{k}{0} = \\underset{0 \\text{ by def}}{\\binom{k-1}{ -1}} + \\underset{\\text{int by IH}}{\\binom{k-1}{0}} \\in \\mathbb{Z} \\\\\n",
    "& \\binom{k}{1} = \\underset{\\text{int by IH}}{\\binom{k-1}{  0}} + \\underset{\\text{int by IH}}{\\binom{k-1}{1}} \\in \\mathbb{Z} \\\\ & \\quad \\vdots \\\\\n",
    "& \\binom{k}{k} = \\underset{\\text{int by IH}}{\\binom{k-1}{k-1}} + \\underset{0               }{\\binom{k-1}{k}} \\in \\mathbb{Z} \\\\\n",
    "\\end  {aligned}\n",
    "$\n",
    "\n",
    "$\\blacksquare$"
   ]
  },
  {
   "cell_type": "markdown",
   "metadata": {},
   "source": [
    "---\n",
    "---\n",
    "---"
   ]
  },
  {
   "cell_type": "markdown",
   "metadata": {},
   "source": [
    "## Resources"
   ]
  },
  {
   "cell_type": "markdown",
   "metadata": {},
   "source": [
    "https://kconrad.math.uconn.edu/blurbs/proofs/binomcoeffintegral.pdf\n",
    "\n",
    "https://people.tamu.edu/~gberkolaiko/teaching/preREU2011/example_paper.pdf"
   ]
  },
  {
   "cell_type": "markdown",
   "metadata": {},
   "source": [
    "---\n",
    "---\n",
    "---"
   ]
  },
  {
   "cell_type": "markdown",
   "metadata": {},
   "source": [
    "## Terms"
   ]
  },
  {
   "cell_type": "markdown",
   "metadata": {},
   "source": [
    "* [ [w](https://en.wikipedia.org/wiki/Binomial_coefficient) ] Binomial Coefficient\n",
    "* [ [w](https://en.wikipedia.org/wiki/Combination) ] Combination\n",
    "* [ [w](https://en.wikipedia.org/wiki/Recurrence_relation) ] Recurrence Relation"
   ]
  },
  {
   "cell_type": "markdown",
   "metadata": {},
   "source": [
    "---\n",
    "---\n",
    "---"
   ]
  }
 ],
 "metadata": {
  "language_info": {
   "name": "python"
  }
 },
 "nbformat": 4,
 "nbformat_minor": 2
}
