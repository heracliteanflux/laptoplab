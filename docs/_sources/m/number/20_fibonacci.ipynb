{
 "cells": [
  {
   "cell_type": "markdown",
   "metadata": {},
   "source": [
    "# Fibonacci"
   ]
  },
  {
   "cell_type": "markdown",
   "metadata": {},
   "source": [
    "---"
   ]
  },
  {
   "cell_type": "markdown",
   "metadata": {},
   "source": [
    "## Fibonacci Sequence"
   ]
  },
  {
   "cell_type": "markdown",
   "metadata": {},
   "source": [
    "$\n",
    "F :=\n",
    "\\begin{cases}\n",
    "F_1 &= 1 \\\\\n",
    "F_2 &= 1 \\\\\n",
    "F_{n + 1} &= F_n + F_{n - 1} && n \\in \\{ 2, 3, \\dots \\} \\\\\n",
    "\\end{cases}\n",
    "$"
   ]
  },
  {
   "cell_type": "markdown",
   "metadata": {},
   "source": [
    "---"
   ]
  },
  {
   "cell_type": "markdown",
   "metadata": {},
   "source": [
    "### Claim: if $m$ divides two consecutive Fibonacci numbers it is $1$"
   ]
  },
  {
   "cell_type": "markdown",
   "metadata": {},
   "source": [
    "<fieldset style=\"border: 0.5px solid #0096FF; border-radius: 5px; margin: 0px 0px 15px 0px; padding: 15px 20px 0px 20px;\">\n",
    "\n",
    "<span style=\"color: #0096FF;\"><b>Claim</b></span>\n",
    "\n",
    "<div style=\"color: #0096FF;\">\n",
    "\n",
    "If $m$ divides both $F_n$ and $F_{n+1}$ then $m = 1$.\n",
    "\n",
    "$\n",
    "\\boxed{\n",
    "\\forall m \\in \\mathbb{Z}\n",
    "\\quad\n",
    "m \\mid F_n \\land m \\mid F_{n+1} \\quad \\implies \\quad m = 1\n",
    "}\n",
    "$\n",
    "</div>\n",
    "\n",
    "<b>Proof by induction on $n$</b>\n",
    "\n",
    "It suffices to show that\n",
    "\n",
    "$\n",
    "\\begin{aligned}\n",
    "& P(1) \\quad \\land \\quad \\forall k \\ge 2 \\quad \\left( \\bigwedge_{i=1}^{k-1} P(i) \\right) \\implies P(k) \\\\\n",
    "& \\text{where} \\quad P(i) : \\quad m \\mid F_i \\land m \\mid F_{i+1} \\implies m = 1 \\\\\n",
    "\\end  {aligned}\n",
    "$\n",
    "\n",
    "<i>Base Case</i>\n",
    "\n",
    "Suppose $m \\mid F_1$ and $m \\mid F_2$ which are both $1$. Then there is an integer $k$ such that\n",
    "\n",
    "$\n",
    "m \\mid 1 \\iff mk = 1 \\implies m = \\pm 1 \\\\\n",
    "$\n",
    "\n",
    "<i>Induction Step</i>\n",
    "\n",
    "We want to show that\n",
    "\n",
    "$\n",
    "\\begin{aligned}\n",
    "\\forall k \\ge 2 \\quad \\left( \\bigwedge_{i=1}^{k-1} P(i) \\right) \\implies P(k) \\\\\n",
    "\\end  {aligned}\n",
    "$\n",
    "\n",
    "<i>Induction Hypothesis</i>\n",
    "\n",
    "$\n",
    "\\begin{aligned}\n",
    "\\exists k \\ge 2 \\quad \\left( \\bigwedge_{i=1}^{k-1} P(i) \\right) \\\\\n",
    "\\end  {aligned}\n",
    "$\n",
    "\n",
    "Thus we assume that\n",
    "\n",
    "$P(k-1) : \\quad m \\mid F_{k-1} \\land m \\mid F_k \\implies m = 1$\n",
    "\n",
    "Suppose $m \\mid F_k$ and $m \\mid F_{k+1}$. Then there are integers $s$ and $t$ such that $ms = F_k$ and\n",
    "\n",
    "$mt = F_{k+1} = F_k + F_{k-1} = ms + F_{k-1}$\n",
    "\n",
    "$F_{k-1} = mt - ms = m(t - s) \\iff m \\mid F_{k-1}$\n",
    "\n",
    "Thus $m = 1$.\n",
    "\n",
    "$\\blacksquare$\n",
    "</fieldset>"
   ]
  },
  {
   "cell_type": "markdown",
   "metadata": {},
   "source": [
    "---"
   ]
  },
  {
   "cell_type": "markdown",
   "metadata": {},
   "source": [
    "## Figures"
   ]
  },
  {
   "cell_type": "markdown",
   "metadata": {},
   "source": [
    "* [ [w](https://en.wikipedia.org/wiki/Jacques_Philippe_Marie_Binet) ] `1786-1856` Binet, Jacques\n",
    "* [ [w](https://en.wikipedia.org/wiki/%C3%89douard_Lucas) ] `1842-1891` Lucas, Édouard"
   ]
  },
  {
   "cell_type": "markdown",
   "metadata": {},
   "source": [
    "---"
   ]
  },
  {
   "cell_type": "markdown",
   "metadata": {},
   "source": [
    "## Terms"
   ]
  },
  {
   "cell_type": "markdown",
   "metadata": {},
   "source": [
    "* [ w ] Binet's Formula\n",
    "* [ [w](https://en.wikipedia.org/wiki/Fibbinary_number) ] Fibbinary Number\n",
    "* [ [w](https://en.wikipedia.org/wiki/Fibonacci_coding) ] Fibonacci Coding\n",
    "* [ [w](https://en.wikipedia.org/wiki/Fibonacci_cube) ] Fibonacci Cube\n",
    "* [ [w](https://en.wikipedia.org/wiki/Fibonacci_sequence) ] Fibonacci Sequence\n",
    "* [ [w](https://en.wikipedia.org/wiki/Golden_ratio) ] Golden Ratio\n",
    "* [ [w](https://en.wikipedia.org/wiki/Linear_recurrence_with_constant_coefficients) ] Linear Recurrence with Constant Coefficients\n",
    "* [ [w](https://en.wikipedia.org/wiki/Lucas_number) ] Lucas Number\n",
    "* [ [w](https://en.wikipedia.org/wiki/Lucas_sequence) ] Lucas Sequence"
   ]
  },
  {
   "cell_type": "markdown",
   "metadata": {},
   "source": [
    "---"
   ]
  }
 ],
 "metadata": {
  "language_info": {
   "name": "python"
  }
 },
 "nbformat": 4,
 "nbformat_minor": 2
}
