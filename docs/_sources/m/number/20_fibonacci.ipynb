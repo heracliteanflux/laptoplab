{
 "cells": [
  {
   "cell_type": "markdown",
   "metadata": {},
   "source": [
    "# Fibonacci\n",
    "```{contents}\n",
    "```"
   ]
  },
  {
   "cell_type": "markdown",
   "metadata": {},
   "source": [
    "---"
   ]
  },
  {
   "cell_type": "markdown",
   "metadata": {},
   "source": [
    "## Fibonacci Sequence"
   ]
  },
  {
   "cell_type": "markdown",
   "metadata": {},
   "source": [
    "$\n",
    "F :=\n",
    "\\begin{cases}\n",
    "F_0 &= 0 \\\\\n",
    "F_1 &= 1 \\\\\n",
    "F_{n + 1} &= F_n + F_{n - 1} && n \\in \\{ 2, 3, \\dots \\} \\\\\n",
    "\\end{cases}\n",
    "$"
   ]
  },
  {
   "cell_type": "markdown",
   "metadata": {},
   "source": [
    "---"
   ]
  },
  {
   "cell_type": "markdown",
   "metadata": {},
   "source": [
    "### Claim: if $m$ divides two consecutive Fibonacci numbers it is $1$"
   ]
  },
  {
   "cell_type": "markdown",
   "metadata": {},
   "source": [
    "<fieldset style=\"border: 0.5px solid #0096FF; border-radius: 5px; margin: 0px 0px 15px 0px; padding: 15px 20px 0px 20px;\">\n",
    "\n",
    "<span style=\"color: #0096FF;\"><b>Claim</b></span>\n",
    "\n",
    "<div style=\"color: #0096FF;\">\n",
    "\n",
    "If $m$ divides both $F_n$ and $F_{n+1}$ then $m = 1$.\n",
    "\n",
    "$\n",
    "\\boxed{\n",
    "\\forall m \\in \\mathbb{Z}\n",
    "\\quad\n",
    "m \\mid F_n \\land m \\mid F_{n+1} \\quad \\implies \\quad m = 1\n",
    "}\n",
    "$\n",
    "</div>\n",
    "\n",
    "<b>Proof by induction on $n$</b>\n",
    "\n",
    "It suffices to show that\n",
    "\n",
    "$\n",
    "\\begin{aligned}\n",
    "& P(1) \\quad \\land \\quad \\forall k \\ge 2 \\quad \\left( \\bigwedge_{i=1}^{k-1} P(i) \\right) \\implies P(k) \\\\\n",
    "& \\text{where} \\quad P(i) : \\quad m \\mid F_i \\land m \\mid F_{i+1} \\implies m = 1 \\\\\n",
    "\\end  {aligned}\n",
    "$\n",
    "\n",
    "<i>Base Case</i>\n",
    "\n",
    "Suppose $m \\mid F_1$ and $m \\mid F_2$ which are both $1$. Then there is an integer $k$ such that\n",
    "\n",
    "$\n",
    "m \\mid 1 \\iff mk = 1 \\implies m = \\pm 1 \\\\\n",
    "$\n",
    "\n",
    "<i>Induction Step</i>\n",
    "\n",
    "We want to show that\n",
    "\n",
    "$\n",
    "\\begin{aligned}\n",
    "\\forall k \\ge 2 \\quad \\left( \\bigwedge_{i=1}^{k-1} P(i) \\right) \\implies P(k) \\\\\n",
    "\\end  {aligned}\n",
    "$\n",
    "\n",
    "<i>Induction Hypothesis</i>\n",
    "\n",
    "$\n",
    "\\begin{aligned}\n",
    "\\exists k \\ge 2 \\quad \\left( \\bigwedge_{i=1}^{k-1} P(i) \\right) \\\\\n",
    "\\end  {aligned}\n",
    "$\n",
    "\n",
    "Thus we assume that\n",
    "\n",
    "$P(k-1) : \\quad m \\mid F_{k-1} \\land m \\mid F_k \\implies m = 1$\n",
    "\n",
    "Suppose $m \\mid F_k$ and $m \\mid F_{k+1}$. Then there are integers $s$ and $t$ such that $ms = F_k$ and\n",
    "\n",
    "$mt = F_{k+1} = F_k + F_{k-1} = ms + F_{k-1}$\n",
    "\n",
    "$F_{k-1} = mt - ms = m(t - s) \\iff m \\mid F_{k-1}$\n",
    "\n",
    "Thus $m = 1$.\n",
    "\n",
    "$\\blacksquare$\n",
    "</fieldset>"
   ]
  },
  {
   "cell_type": "markdown",
   "metadata": {},
   "source": [
    "---"
   ]
  },
  {
   "cell_type": "markdown",
   "metadata": {},
   "source": [
    "## Golden Ratio"
   ]
  },
  {
   "cell_type": "markdown",
   "metadata": {},
   "source": [
    "Two quantities $a$ and $b$ with $a \\gt b \\gt 0$ are in the golden ratio if their ratio is the same as the ratio of their sum $a + b$ to the larger of the two quantities $a$.\n",
    "\n",
    "$\n",
    "\\begin{aligned}\n",
    "\\frac{a + b}{a} = \\frac{a}{b} = \\varphi\n",
    "\\end  {aligned}\n",
    "$\n",
    "\n",
    "where the constant $\\varphi$ denotes the golden ratio. Suppose $b = 1$. Then\n",
    "\n",
    "$\n",
    "\\begin{aligned}\n",
    "\\frac{a + 1}{a} = a = \\varphi\n",
    "\\quad \\implies \\quad\n",
    "\\frac{\\varphi + 1}{\\varphi} = \\varphi\n",
    "\\quad \\iff \\quad\n",
    "\\varphi^2 = \\varphi + 1\n",
    "\\end  {aligned}\n",
    "$\n",
    "\n",
    "\n",
    "Thus the constant $\\varphi$ satisfies the quadratic equation\n",
    "\n",
    "$\n",
    "\\begin{aligned}\n",
    "x^2 = x + 1\n",
    "\\quad \\iff \\quad\n",
    "x^2 - x - 1 = 0\n",
    "\\quad \\iff \\quad\n",
    "x = \\frac{1 \\pm \\sqrt{5}}{2}\n",
    "= \\frac{-\\underset{(-1)}{b} \\pm \\sqrt{\\underset{(-1)}{b^2} - 4 \\underset{(\\phantom{-}1)}{a} \\underset{(-1)}{c}}}{2 \\underset{(\\phantom{-}1)}{a}}\n",
    "\\end  {aligned}\n",
    "$\n",
    "\n",
    "and is an irrational number with a value of\n",
    "\n",
    "$\n",
    "\\begin{aligned}\n",
    "&& \\varphi\n",
    "&= \\frac{1 + \\sqrt{5}}{2}\n",
    "= \\phantom{-} 1.618 \\, 033 \\, 988 \\, 749 \\, 894 \\, 848 \\, 204 \\, 586 \\, 834 \\, 365 \\, 6 \\dots \\\\\n",
    "-\\varphi^{-1}\n",
    "&= -\\frac{2}{1 + \\sqrt{5}}\n",
    "= -\\frac{2 (1 - \\sqrt{5})}{(1 + \\sqrt{5})(1 - \\sqrt{5})}\n",
    "= & \\psi &= \\frac{1 - \\sqrt{5}}{2}\n",
    "= -0.618 \\, 033 \\, 988 \\, 749 \\, 894 \\, 848 \\, 204 \\, 586 \\, 834 \\, 365 \\, 6 \\dots \\\\\n",
    "\\end  {aligned}\n",
    "$\n",
    "\n",
    "Thus the golden ratio $\\varphi$ and its negative reciprocal $\\psi = -\\varphi^{-1}$ are the roots of the quadratic equation $x^2 - x - 1 = 0$.\n",
    "\n",
    "(It is also the case that $-\\varphi$ and $\\varphi^{-1}$ are the roots of the quadratic equation $x^2 + x - 1 = 0$.)"
   ]
  },
  {
   "cell_type": "markdown",
   "metadata": {},
   "source": [
    "$\n",
    "\\begin{aligned}\n",
    "\\varphi + \\psi\n",
    "= \\varphi - \\frac{1}{\\varphi}\n",
    "&= \\frac{1 \\textcolor{#0096FF}{+ \\sqrt{5}}}{2} + \\frac{\\phantom{-} 1 \\textcolor{#0096FF}{- \\sqrt{5}}}{2}\n",
    "=& 1 \\\\\n",
    "\\varphi - \\psi\n",
    "= \\varphi + \\frac{1}{\\varphi}\n",
    "&= \\frac{\\textcolor{#0096FF}{1} + \\sqrt{5}}{2} + \\frac{\\textcolor{#0096FF}{-1} + \\sqrt{5}}{2}\n",
    "=& \\sqrt{5} \\\\\n",
    "\\end  {aligned}\n",
    "$\n",
    "\n",
    "Thus\n",
    "\n",
    "$\n",
    "\\begin{aligned}\n",
    "-\\frac{1}{\\varphi} &= 1 - \\varphi\n",
    "& \\quad \\iff \\quad\n",
    "\\frac{1}{\\varphi} &= \\varphi - 1\n",
    " \\quad \\iff \\quad\n",
    "& \\varphi &= 1 + \\frac{1}{\\varphi}\n",
    "& \\quad \\iff \\quad\n",
    "\\varphi^2 = \\varphi + 1\n",
    "\\\\\n",
    "\\phantom{-} \\psi &= 1 + \\frac{1}{\\psi}\n",
    "& \\quad \\iff \\quad\n",
    "\\frac{1}{\\psi} &= \\psi - 1\n",
    " \\quad \\iff \\quad\n",
    "& -\\frac{1}{\\psi} &= 1 - \\psi\n",
    "& \\quad \\iff \\quad\n",
    "\\psi^2 = \\psi + 1\n",
    "\\end  {aligned}\n",
    "$"
   ]
  },
  {
   "cell_type": "markdown",
   "metadata": {},
   "source": [
    "That is\n",
    "\n",
    "$\n",
    "\\begin{aligned}\n",
    "& \\varphi^{-1} &&= \\varphi - 1                       &&= 0.618 \\, 033 \\, 988 \\, 749 \\, 894 \\, 848 \\, 204 \\, 586 \\, 834 \\, 365 \\, 6 \\dots \\\\\n",
    "& \\varphi^0    &&                                    &&= 1 \\\\ \\hline\n",
    "& \\varphi      &&= \\varphi^0 + \\varphi^{-1}          &&= 1.618 \\, 033 \\, 988 \\, 749 \\, 894 \\, 848 \\, 204 \\, 586 \\, 834 \\, 365 \\, 6 \\dots \\\\\n",
    "& \\varphi^2    &&= \\varphi^{\\phantom{0}} + \\varphi^0 &&= 2.618 \\, 033 \\, 988 \\, 749 \\, 894 \\, 848 \\, 204 \\, 586 \\, 834 \\, 365 \\, 6 \\dots \\\\ & \\vdots \\\\\n",
    "& \\varphi^n    &&= \\varphi^{n-1} + \\varphi^{n-2} \\\\\n",
    "\\end  {aligned}\n",
    "$\n",
    "\n",
    "and\n",
    "\n",
    "$\n",
    "\\begin{aligned}\n",
    "& \\psi^{-1} &&= \\psi - 1                    &&= -1.618 \\, 033 \\, 988 \\, 749 \\, 894 \\, 848 \\, 204 \\, 586 \\, 834 \\, 365 \\, 6 \\dots \\\\\n",
    "& \\psi^0    &&                              &&= \\phantom{-} 1 \\\\ \\hline\n",
    "& \\psi      &&= \\psi^0 + \\psi^{-1}          &&= -0.618 \\, 033 \\, 988 \\, 749 \\, 894 \\, 848 \\, 204 \\, 586 \\, 834 \\, 365 \\, 6 \\dots \\\\\n",
    "& \\psi^2    &&= \\psi^{\\phantom{0}} + \\psi^0 && \\\\ & \\vdots \\\\\n",
    "& \\psi^n    &&= \\psi^{n-1} + \\psi^{n-2} \\\\\n",
    "\\end  {aligned}\n",
    "$"
   ]
  },
  {
   "cell_type": "markdown",
   "metadata": {},
   "source": [
    "---"
   ]
  },
  {
   "cell_type": "markdown",
   "metadata": {},
   "source": [
    "## Binet's Formula"
   ]
  },
  {
   "cell_type": "markdown",
   "metadata": {},
   "source": [
    "$\n",
    "\\begin{aligned}\n",
    "F_n = a \\varphi^n + b \\psi^n\n",
    "\\end  {aligned}\n",
    "$\n",
    "\n",
    "for some constants $a$ and $b$.\n",
    "\n",
    "$\n",
    "\\begin{aligned}\n",
    "F_0 &= a \\phantom{\\varphi} + b \\phantom{\\psi} = 0 \\quad \\iff \\quad a = -b \\\\\n",
    "F_1 &= a \\varphi + b \\psi = 1 \\quad \\iff \\quad a = \\frac{1}{\\varphi - \\psi} \\\\\n",
    "\\end  {aligned}\n",
    "$\n",
    "\n",
    "Thus\n",
    "\n",
    "$\n",
    "\\boxed{\n",
    "\\begin{aligned}\n",
    "F_n = \\frac{\\varphi^n - \\psi^n}{\\varphi - \\psi}\n",
    "= \\frac{\\varphi^n - (-\\varphi)^{-n}}{\\sqrt{5}}\n",
    "\\end  {aligned}\n",
    "}\n",
    "$"
   ]
  },
  {
   "cell_type": "markdown",
   "metadata": {},
   "source": [
    "$\n",
    "\\begin{aligned}\n",
    "F_n &= (\\varphi^n - \\psi^n)/\\sqrt{5} \\\\ \\hline\n",
    "F_0 &= (\\varphi^0 - \\psi^0)/\\sqrt{5}\n",
    "   &&= 0 \\\\\n",
    "F_1 &= \\underbrace{(\\varphi\\phantom{^1} - \\psi\\phantom{^1})}_{\\sqrt{5}}/\\sqrt{5}\n",
    "   &&= 1 \\\\\n",
    "F_2 &= (\\varphi^2 - \\psi^2)/\\sqrt{5} \\\\\n",
    "    &= (\\varphi + 1 - \\psi - 1)/\\sqrt{5} \\\\\n",
    "    &= \\underbrace{(\\varphi - \\psi)/\\sqrt{5}}_{F_1} + \\underbrace{(1 - 1)/\\sqrt{5}}_{F_0}\n",
    "   &&= 1 \\\\\n",
    "F_3 &= (\\varphi^3 - \\psi^3)/\\sqrt{5} \\\\\n",
    "    &= ((\\varphi + 1) \\varphi - (\\psi + 1) \\psi)/\\sqrt{5} \\\\\n",
    "    &= (\\varphi^2 + \\varphi - \\psi^2 - \\psi)/\\sqrt{5} \\\\\n",
    "    &= \\underbrace{(\\varphi^2 - \\psi^2)/\\sqrt{5}}_{F_2} + \\underbrace{(\\varphi - \\psi)/\\sqrt{5}}_{F_1}\n",
    "   &&= 2 \\\\\n",
    "F_4 &= (\\varphi^4 - \\psi^4)/\\sqrt{5} \\\\\n",
    "    &= ((\\varphi + 1) \\varphi^2 - (\\psi + 1) \\psi^2)/\\sqrt{5} \\\\\n",
    "    &= (\\varphi^3 + \\varphi^2 - \\psi^3 - \\psi^2)/\\sqrt{5} \\\\\n",
    "    &= \\underbrace{(\\varphi^3 - \\psi^3)/\\sqrt{5}}_{F_3} + \\underbrace{(\\varphi^2 - \\psi^2)/\\sqrt{5}}_{F_2}\n",
    "   &&= 3 \\\\\n",
    "\\end  {aligned}\n",
    "$"
   ]
  },
  {
   "cell_type": "markdown",
   "metadata": {},
   "source": [
    "$\n",
    "\\begin{aligned}\n",
    "F_n + F_{n-1} \\\\\n",
    "\\frac{\\varphi^n - \\psi^n}{\\sqrt{5}} + \\frac{\\varphi^{n-1} - \\psi^{n-1}}{\\sqrt{5}} \\\\\n",
    "\\frac{(\\varphi^n + \\varphi^{n-1}) - (\\psi^n + \\psi^{n-1})}{\\sqrt{5}} \\\\\n",
    "\\frac{(\\varphi + 1) \\varphi^{n-1} - (\\psi + 1) \\psi^{n-1}}{\\sqrt{5}} \\\\\n",
    "\\frac{\\varphi^2 \\varphi^{n-1} - \\psi^2 \\psi^{n-1}}{\\sqrt{5}} \\\\\n",
    "\\frac{\\varphi^{n+1} - \\psi^{n+1}}{\\sqrt{5}} \\\\\n",
    "F_{n+1}\n",
    "\\end  {aligned}\n",
    "$"
   ]
  },
  {
   "cell_type": "markdown",
   "metadata": {},
   "source": [
    "$\n",
    "\\begin{aligned}\n",
    "F_n &= \\frac{\\varphi^n - \\psi^n}{\\sqrt{5}} \\\\\n",
    "\\varphi^n\n",
    "&= F_n (\\varphi - \\psi) + \\psi^n && \\varphi - \\psi = \\sqrt{5} \\\\\n",
    "&= F_n \\varphi + \\psi^n - F_n \\psi \\\\\n",
    "&= F_n \\varphi + \\psi^n - \\psi \\left( \\frac{\\varphi^n - \\psi^n}{\\sqrt{5}} \\right) \\\\\n",
    "&= F_n \\varphi + \\frac{\\psi^n \\sqrt{5} - \\psi (\\varphi^n - \\psi^n)}{\\sqrt{5}} \\\\\n",
    "&= F_n \\varphi + \\frac{\\psi^n (\\varphi - \\psi) - \\varphi^n \\psi + \\psi^{n+1}}{\\sqrt{5}} \\\\\n",
    "&= F_n \\varphi + \\frac{\\varphi \\psi^n - \\psi^{n+1} - \\varphi^n \\psi + \\psi^{n+1}}{\\sqrt{5}} \\\\\n",
    "&= F_n \\varphi + \\frac{\\varphi \\psi^n - \\varphi^n \\psi}{\\sqrt{5}} \\\\\n",
    "&= F_n \\varphi + \\frac{\\varphi \\psi (\\psi^{n-1} - \\varphi^{n-1})}{\\sqrt{5}} && \\varphi \\psi = -1 \\\\\n",
    "&= F_n \\varphi + \\frac{\\varphi^{n-1} - \\psi^{n-1}}{\\sqrt{5}} \\\\\n",
    "&= F_n \\varphi + F_{n-1} \\\\\n",
    "\\end  {aligned}\n",
    "$\n",
    "\n",
    "Thus\n",
    "\n",
    "$\n",
    "\\boxed{\n",
    "\\begin{aligned}\n",
    "\\varphi^n = F_n \\varphi + F_{n-1}\n",
    "\\end  {aligned}\n",
    "}\n",
    "$"
   ]
  },
  {
   "cell_type": "markdown",
   "metadata": {},
   "source": [
    "* https://math.stackexchange.com/questions/1933071/prove-by-induction-fibonacci-f-n-frac-left-frac1-sqrt-52-rightn-le"
   ]
  },
  {
   "cell_type": "markdown",
   "metadata": {},
   "source": [
    "---"
   ]
  },
  {
   "cell_type": "markdown",
   "metadata": {},
   "source": [
    "https://www.youtube.com/watch?v=MQPo2iaP6v4"
   ]
  },
  {
   "cell_type": "markdown",
   "metadata": {},
   "source": [
    "---"
   ]
  },
  {
   "cell_type": "markdown",
   "metadata": {},
   "source": [
    "## Figures"
   ]
  },
  {
   "cell_type": "markdown",
   "metadata": {},
   "source": [
    "* [ [w](https://en.wikipedia.org/wiki/Jacques_Philippe_Marie_Binet) ] `1786-1856` Binet, Jacques\n",
    "* [ [w](https://en.wikipedia.org/wiki/%C3%89douard_Lucas) ] `1842-1891` Lucas, Édouard"
   ]
  },
  {
   "cell_type": "markdown",
   "metadata": {},
   "source": [
    "---"
   ]
  },
  {
   "cell_type": "markdown",
   "metadata": {},
   "source": [
    "## Terms"
   ]
  },
  {
   "cell_type": "markdown",
   "metadata": {},
   "source": [
    "* [ w ] Binet's Formula\n",
    "* [ [w](https://en.wikipedia.org/wiki/Fibbinary_number) ] Fibbinary Number\n",
    "* [ [w](https://en.wikipedia.org/wiki/Fibonacci_coding) ] Fibonacci Coding\n",
    "* [ [w](https://en.wikipedia.org/wiki/Fibonacci_cube) ] Fibonacci Cube\n",
    "* [ [w](https://en.wikipedia.org/wiki/Fibonacci_sequence) ] Fibonacci Sequence\n",
    "* [ [w](https://en.wikipedia.org/wiki/Golden_ratio) ] Golden Ratio\n",
    "* [ [w](https://en.wikipedia.org/wiki/Linear_recurrence_with_constant_coefficients) ] Linear Recurrence with Constant Coefficients\n",
    "* [ [w](https://en.wikipedia.org/wiki/Lucas_number) ] Lucas Number\n",
    "* [ [w](https://en.wikipedia.org/wiki/Lucas_sequence) ] Lucas Sequence"
   ]
  },
  {
   "cell_type": "markdown",
   "metadata": {},
   "source": [
    "---"
   ]
  }
 ],
 "metadata": {
  "language_info": {
   "name": "python"
  }
 },
 "nbformat": 4,
 "nbformat_minor": 2
}
