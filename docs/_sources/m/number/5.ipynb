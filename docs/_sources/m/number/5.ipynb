{
 "cells": [
  {
   "cell_type": "markdown",
   "metadata": {},
   "source": [
    "# Primitive Roots\n",
    "```{contents}\n",
    "```"
   ]
  },
  {
   "cell_type": "markdown",
   "metadata": {},
   "source": [
    "---\n",
    "---\n",
    "---"
   ]
  },
  {
   "cell_type": "markdown",
   "metadata": {},
   "source": [
    "The residue class modulo $m$ is called a ring and denoted by $\\mathbb{Z}_m$ or $\\mathbb{Z}/m\\mathbb{Z}$.\n",
    "\n",
    "We will examine its multiplicative structure; in particular, we will consider the reduced residue classes modulo $m$."
   ]
  },
  {
   "cell_type": "markdown",
   "metadata": {},
   "source": [
    "---"
   ]
  },
  {
   "cell_type": "markdown",
   "metadata": {},
   "source": [
    "## Order a modulo m"
   ]
  },
  {
   "cell_type": "markdown",
   "metadata": {},
   "source": [
    "What happens if we take powers of a fixed residue?\n",
    "\n",
    "<span style=\"color: #0096FF;\"><b>DEFINITION</b></span> [Vaughan Definition 4.1]\n",
    "\n",
    "<div style=\"color: #0096FF;\">\n",
    "\n",
    "Given $m \\in \\mathbb{N}^+$, $a \\in \\mathbb{Z}$, and $\\gcd(a, m) = 1$ we define the order $\\text{ord}_m(a)$ of $a$ modulo $m$ to be the smallest positive integer $t$ such that\n",
    "\n",
    "$a^t \\equiv 1 \\mod m$\n",
    "\n",
    "We may express this by saying that $a$ belongs to the exponent $t$ modulo $m$, or that $t$ is the order of $a$ modulo $m$.\n",
    "</div>\n",
    "\n",
    "Note that by Euler's theorem $a^{\\phi(m)} \\equiv 1 \\mod m$ so that $\\text{ord}_m(a)$ exists."
   ]
  },
  {
   "cell_type": "markdown",
   "metadata": {},
   "source": [
    "<div class=\"full-width\">\n",
    "\n",
    "<span style=\"color: #50C878;\"><b>EXAMPLE</b></span>\n",
    "\n",
    "$\n",
    "\\begin{aligned}\n",
    "a^t    & \\equiv 1 \\mod  m && \\implies &  m & \\mid (a^t    - 1) &&        &&                                   && \\text{ord}_m(a)            \\\\ \\hline\n",
    "2^2    & \\equiv 1 \\mod  3 && \\implies &  3 & \\mid (2^2    - 1) && =    3 && = 3                               && \\text{ord}_3(2)    && =  2 \\\\\n",
    "2^4    & \\equiv 1 \\mod  5 && \\implies &  5 & \\mid (2^4    - 1) && =   15 && = 3   \\times 5                    && \\text{ord}_5(2)    && =  4 \\\\\n",
    "2^6    & \\equiv 1 \\mod  7 && \\implies &  7 & \\mid (2^6    - 1) && =   63 && = 3^2 \\times 7                    && \\text{ord}_7(2)    && =  6 \\\\\n",
    "2^6    & \\equiv 1 \\mod  9 && \\implies &  9 & \\mid (2^6    - 1) && =   63 && = 3^2 \\times 7                    && \\text{ord}_9(2)    && =  6 \\\\\n",
    "2^{10} & \\equiv 1 \\mod 11 && \\implies & 11 & \\mid (2^{10} - 1) && = 1023 && = 3   \\times 11 \\times 31         && \\text{ord}_{11}(2) && = 10 \\\\\n",
    "2^{12} & \\equiv 1 \\mod 13 && \\implies & 13 & \\mid (2^{12} - 1) && = 4095 && = 3^2 \\times 5 \\times 7 \\times 13 && \\text{ord}_{13}(2) && = 12 \\\\\n",
    "2^4    & \\equiv 1 \\mod 15 && \\implies & 15 & \\mid (2^4    - 1) && =   15 && = 3   \\times 5                    && \\text{ord}_{15}(2) && =  4 \\\\ \\vdots \\\\\n",
    "3^1    & \\equiv 1 \\mod  2 && \\implies &  2 & \\mid (3^1    - 1) && =    2 && = 2                               && \\text{ord}_2(3)    && =  1 \\\\\n",
    "3^2    & \\equiv 1 \\mod  4 && \\implies &  4 & \\mid (3^2    - 1) && =    8 && = 2^3                             && \\text{ord}_4(3)    && =  2 \\\\\n",
    "3^4    & \\equiv 1 \\mod  5 && \\implies &  5 & \\mid (3^4    - 1) && =   80 && = 2^4 \\times 5                    && \\text{ord}_5(3)    && =  4 \\\\\n",
    "3^6    & \\equiv 1 \\mod  7 && \\implies &  7 & \\mid (3^6    - 1) && =  728 && = 2^3 \\times 7 \\times 13          && \\text{ord}_7(3)    && =  6 \\\\\n",
    "3^2    & \\equiv 1 \\mod  8 && \\implies &  8 & \\mid (3^2    - 1) && =    8 && = 2^3                             && \\text{ord}_8(3)    && =  2 \\\\\n",
    "3^4    & \\equiv 1 \\mod 10 && \\implies & 10 & \\mid (3^4    - 1) && =   80 && = 2^4 \\times 5                    && \\text{ord}_{10}(3) && =  4 \\\\\n",
    "3^5    & \\equiv 1 \\mod 11 && \\implies & 11 & \\mid (3^5    - 1) && =  242 && = 2   \\times 11^2                 && \\text{ord}_{11}(3) && =  5 \\\\\n",
    "3^3    & \\equiv 1 \\mod 13 && \\implies & 13 & \\mid (3^3    - 1) && =   26 && = 2   \\times 13                   && \\text{ord}_{13}(3) && =  3 \\\\\n",
    "3^6    & \\equiv 1 \\mod 14 && \\implies & 14 & \\mid (3^6    - 1) && =  728 && = 2^3 \\times 7 \\times 13          && \\text{ord}_{14}(3) && =  6 \\\\\n",
    "\\end  {aligned}\n",
    "$\n",
    "</div>"
   ]
  },
  {
   "cell_type": "markdown",
   "metadata": {},
   "source": [
    "---"
   ]
  },
  {
   "cell_type": "markdown",
   "metadata": {},
   "source": [
    "We can do better than that.\n",
    "\n",
    "<span style=\"color: #0096FF;\"><b>THEOREM</b></span> [Vaughan Theorem 4.2]\n",
    "\n",
    "<div style=\"color: #0096FF;\">\n",
    "\n",
    "Suppose that $m \\in \\mathbb{N}^+$, $\\gcd(a, m) = 1$, and $n \\in \\mathbb{N}^+$ is such that $a^n \\equiv 1 \\mod m$.\n",
    "\n",
    "Then $\\text{ord}_m(a) \\mid n$. In particular $\\text{ord}_m(a) \\mid \\phi(m)$.\n",
    "</div>"
   ]
  },
  {
   "cell_type": "markdown",
   "metadata": {},
   "source": [
    "<span style=\"color: #0096FF;\"><b>PROOF</b></span>\n",
    "\n",
    "For concision let $t = \\text{ord}_m(a)$.\n",
    "\n",
    "Since $t$ is minimal we have $t \\le n$.\n",
    "\n",
    "Thus by the division algorithm there are $q$ and $r$ with $0 \\le r \\lt t$ such that\n",
    "\n",
    "$n = qt + r$\n",
    "\n",
    "Hence $a^r \\equiv (a^t)^q a^r = a^{qt + r} = a^n \\equiv 1 \\mod m$.\n",
    "\n",
    "$\n",
    "\\begin{aligned}\n",
    "a^t         &\\equiv 1   & \\mod m \\\\\n",
    "(a^t)^q     &\\equiv 1   & \\mod m \\\\\n",
    "(a^t)^q a^r &\\equiv a^r & \\mod m \\\\\n",
    "a^n         &\\equiv a^r & \\mod m \\\\\n",
    "\\end  {aligned}\n",
    "$\n",
    "\n",
    "Thus $a^r \\equiv 1 \\mod m$\n",
    "\n",
    "But $0 \\le r \\lt t$. If $r \\gt 0$ then we would contradict the minimality of $t$.\n",
    "\n",
    "Hence $r = 0$ and so $n = qt + 0 \\implies t \\mid n$.\n",
    "\n",
    "$\\blacksquare$"
   ]
  },
  {
   "cell_type": "markdown",
   "metadata": {},
   "source": [
    "---"
   ]
  },
  {
   "cell_type": "markdown",
   "metadata": {},
   "source": [
    "Here is an application that will be made use of later.\n",
    "\n",
    "<span style=\"color: #0096FF;\"><b>THEOREM</b></span> [Vaughan Theorem 4.3]\n",
    "\n",
    "<div style=\"color: #0096FF;\">\n",
    "\n",
    "Suppose that $d \\mid (p - 1)$. Then the congruence\n",
    "\n",
    "$x^d \\equiv 1 \\mod p$\n",
    "\n",
    "has exactly $d$ solutions.\n",
    "</div>"
   ]
  },
  {
   "cell_type": "markdown",
   "metadata": {},
   "source": [
    "<div class=\"full-width\">\n",
    "\n",
    "<span style=\"color: #0096FF;\"><b>PROOF</b></span>\n",
    "\n",
    "$d \\mid (p - 1) \\implies x^d \\mid x^{p-1} \\implies (x^d - 1) \\mid (x^{p-1} - 1) \\implies x^{p-1} - 1 = (x^d - 1)q(x)$ where $q(x)$ is a polynomial of degree $p - 1 - d$.\n",
    "\n",
    "$d \\mid (p - 1) \\implies p - 1 = kd \\implies x^{p-1} - 1 = x^{kd} - 1$\n",
    "\n",
    "$\n",
    "\\begin{aligned}\n",
    "x^{kd} - 1 &= (x^d - 1)(x^{(k-1)d} + x^{(k-2)d} + x^{(k-3)d} + x^{(k-4)d} + \\dotsb + x^d + 1) \\\\\n",
    "&= (x^{(k-1)d+d} + x^{(k-2)d+d} + x^{(k-3)d+d} + x^{(k-4)d+d} + \\dotsb + x^{2d} + x^d) &- (x^{(k-1)d} + x^{(k-2)d} + \\dotsb + x^d + 1) \\\\\n",
    "&= (x^{kd} + x^{kd-d} + x^{kd-2d} + x^{kd-3d} \\dotsb + x^{2d} + x^d)                   &- (x^{(k-1)d} + x^{(k-2)d} + \\dotsb + x^d + 1) \\\\\n",
    "&= (x^{kd} + x^{(k-1)d} + x^{(k-2)d} + x^{(k-3)d} \\dotsb + x^{2d} + x^d)                   &- (x^{(k-1)d} + x^{(k-2)d} + \\dotsb + x^d + 1) \\\\\n",
    "\\end  {aligned}\n",
    "$\n",
    "\n",
    "Observe that the terms telescope (i.e., all terms but two cancel each other out). To see this with $p-1$\n",
    "\n",
    "$\n",
    "\\begin{aligned}\n",
    "x^{p-1} - 1\n",
    "&= (x^d - 1)(x^{p-1-d} + x^{p-1-2d} + x^{p-1-3d} + x^{p-1-4d} + \\dotsb + x^d + 1) \\\\\n",
    "&= (x^{p-1+(d-d)} + x^{p-1+(d-2d)} + x^{p-1+(d-3d)} + x^{p-1+(d-4d)} + \\dotsb + x^{2d} + x^d) - (x^{p-1-d} + x^{p-1-2d} + x^{p-1-3d} + x^{p-1-4d} + \\dotsb + x^d + 1) \\\\\n",
    "\\end  {aligned}\n",
    "$\n",
    "\n",
    "We know from Euler's theorem that there are exactly $p-1$ incongruent roots to the lefthand side modulo $p$.\n",
    "\n",
    "$x^{p-1} \\equiv 1 \\mod p$\n",
    "\n",
    "On the other hand, by Lagrange's theorem, the second factor has at most $p - 1 - d$ such roots, so the first factor must account for at least $d$ of them. On the other hand, again by Lagrange's theorem, the second factor has at most $d$ roots modulo $p$. Therefore\n",
    "\n",
    "$x^d \\equiv 1 \\mod p$\n",
    "\n",
    "$\\blacksquare$\n",
    "</div>"
   ]
  },
  {
   "cell_type": "markdown",
   "metadata": {},
   "source": [
    "<span style=\"color: #50C878;\"><b>EXAMPLE</b></span>\n",
    "\n",
    "$\n",
    "\\begin{aligned}\n",
    "x^d    & \\equiv 1 \\mod  p &                                    \\\\ \\hline\n",
    "x      & \\equiv 1 \\mod  2 & x &= 1                             \\\\ \\hline\n",
    "x      & \\equiv 1 \\mod  3 & x &= 1                             \\\\\n",
    "x^2    & \\equiv 1 \\mod  3 & x &= 1, 2                          \\\\ \\hline\n",
    "x      & \\equiv 1 \\mod  5 & x &= 1                             \\\\\n",
    "x^2    & \\equiv 1 \\mod  5 & x &= 1, 4                          \\\\\n",
    "x^4    & \\equiv 1 \\mod  5 & x &= 1, 2, 3, 4                    \\\\ \\hline\n",
    "x      & \\equiv 1 \\mod  7 & x &= 1                             \\\\\n",
    "x^2    & \\equiv 1 \\mod  7 & x &= 1, 6                          \\\\\n",
    "x^3    & \\equiv 1 \\mod  7 & x &= 1, 2, 4                       \\\\\n",
    "x^6    & \\equiv 1 \\mod  7 & x &= 1, 2, 3, 4, 5, 6              \\\\ \\hline\n",
    "x      & \\equiv 1 \\mod 11 & x &= 1                             \\\\\n",
    "x^2    & \\equiv 1 \\mod 11 & x &= 1, 10                         \\\\\n",
    "x^5    & \\equiv 1 \\mod 11 & x &= 1, 3, 4, 5, 9                 \\\\\n",
    "x^{10} & \\equiv 1 \\mod 11 & x &= 1, 2, 3, 4, 5, 6, 7, 8, 9, 10 \\\\ \\hline\n",
    "\\end  {aligned}\n",
    "$"
   ]
  },
  {
   "cell_type": "markdown",
   "metadata": {},
   "source": [
    "---"
   ]
  },
  {
   "cell_type": "markdown",
   "metadata": {},
   "source": [
    "We have now seen that when $\\gcd(a, m) = 1$ it is the case that $a$ has order modulo $m$ which divides $\\phi(m)$. One question that can be asked is given any $d \\mid \\phi(m)$ are there elements of order $d$? In the special case $d = \\phi(m)$ this would mean that\n",
    "\n",
    "$a, a^2, \\dotsc, a^{\\phi(m)}$\n",
    "\n",
    "are distinct modulo $m$ because otherwise we would have\n",
    "\n",
    "$a^u \\equiv a^v \\mod m$ with $1 \\le u \\lt v \\le \\phi(m)$\n",
    "\n",
    "and then\n",
    "\n",
    "$a^{v-u} \\equiv 1 \\mod m$ with $1 \\le v-u \\lt \\phi(m)$\n",
    "\n",
    "contradicting the assumption that $\\text{ord}_m(a) = \\phi(m)$ is minimal."
   ]
  },
  {
   "cell_type": "markdown",
   "metadata": {},
   "source": [
    "---\n",
    "---\n",
    "---"
   ]
  },
  {
   "cell_type": "markdown",
   "metadata": {},
   "source": [
    "## Acknowledgements"
   ]
  },
  {
   "cell_type": "markdown",
   "metadata": {},
   "source": [
    "`2023` Vaughan, Robert. _A Course of Elementary Number Theory_."
   ]
  },
  {
   "cell_type": "markdown",
   "metadata": {},
   "source": [
    "---\n",
    "---\n",
    "---"
   ]
  }
 ],
 "metadata": {
  "kernelspec": {
   "display_name": "ml",
   "language": "python",
   "name": "python3"
  },
  "language_info": {
   "codemirror_mode": {
    "name": "ipython",
    "version": 3
   },
   "file_extension": ".py",
   "mimetype": "text/x-python",
   "name": "python",
   "nbconvert_exporter": "python",
   "pygments_lexer": "ipython3",
   "version": "3.11.9"
  }
 },
 "nbformat": 4,
 "nbformat_minor": 2
}
