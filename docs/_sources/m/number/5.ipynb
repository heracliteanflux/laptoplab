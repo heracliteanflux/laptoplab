{
 "cells": [
  {
   "cell_type": "markdown",
   "metadata": {},
   "source": [
    "# Primitive Roots\n",
    "```{contents}\n",
    "```"
   ]
  },
  {
   "cell_type": "markdown",
   "metadata": {},
   "source": [
    "---\n",
    "---\n",
    "---"
   ]
  },
  {
   "cell_type": "markdown",
   "metadata": {},
   "source": [
    "The residue class modulo $m$ is called a ring and denoted by $\\mathbb{Z}_m$ or $\\mathbb{Z}/m\\mathbb{Z}$.\n",
    "\n",
    "We will examine its multiplicative structure; in particular, we will consider the reduced residue classes modulo $m$."
   ]
  },
  {
   "cell_type": "markdown",
   "metadata": {},
   "source": [
    "---"
   ]
  },
  {
   "cell_type": "markdown",
   "metadata": {},
   "source": [
    "## Order a modulo m"
   ]
  },
  {
   "cell_type": "markdown",
   "metadata": {},
   "source": [
    "What happens if we take powers of a fixed residue?\n",
    "\n",
    "<span style=\"color: #0096FF;\"><b>DEFINITION</b></span> [Vaughan Definition 4.1]\n",
    "\n",
    "<div style=\"color: #0096FF;\">\n",
    "\n",
    "Given $m \\in \\mathbb{N}^+$, $a \\in \\mathbb{Z}$, and $\\gcd(a, m) = 1$ we define the order $\\text{ord}_m(a)$ of $a$ modulo $m$ to be the smallest positive integer $t$ such that\n",
    "\n",
    "$a^t \\equiv 1 \\mod m$\n",
    "\n",
    "We may express this by saying that $a$ belongs to the exponent $t$ modulo $m$, or that $t$ is the order of $a$ modulo $m$.\n",
    "</div>\n",
    "\n",
    "Note that by Euler's theorem $a^{\\phi(m)} \\equiv 1 \\mod m$ so that $\\text{ord}_m(a)$ exists."
   ]
  },
  {
   "cell_type": "markdown",
   "metadata": {},
   "source": [
    "<div class=\"full-width\">\n",
    "\n",
    "<span style=\"color: #50C878;\"><b>EXAMPLE</b></span>\n",
    "\n",
    "$\n",
    "\\begin{aligned}\n",
    "a^t    & \\equiv 1 \\mod  m && \\implies &  m & \\mid (a^t    - 1) &&        &&                                   && \\text{ord}_m(a)            \\\\ \\hline\n",
    "2^2    & \\equiv 1 \\mod  3 && \\implies &  3 & \\mid (2^2    - 1) && =    3 && = 3                               && \\text{ord}_3(2)    && =  2 \\\\\n",
    "2^4    & \\equiv 1 \\mod  5 && \\implies &  5 & \\mid (2^4    - 1) && =   15 && = 3   \\times 5                    && \\text{ord}_5(2)    && =  4 \\\\\n",
    "2^6    & \\equiv 1 \\mod  7 && \\implies &  7 & \\mid (2^6    - 1) && =   63 && = 3^2 \\times 7                    && \\text{ord}_7(2)    && =  6 \\\\\n",
    "2^6    & \\equiv 1 \\mod  9 && \\implies &  9 & \\mid (2^6    - 1) && =   63 && = 3^2 \\times 7                    && \\text{ord}_9(2)    && =  6 \\\\\n",
    "2^{10} & \\equiv 1 \\mod 11 && \\implies & 11 & \\mid (2^{10} - 1) && = 1023 && = 3   \\times 11 \\times 31         && \\text{ord}_{11}(2) && = 10 \\\\\n",
    "2^{12} & \\equiv 1 \\mod 13 && \\implies & 13 & \\mid (2^{12} - 1) && = 4095 && = 3^2 \\times 5 \\times 7 \\times 13 && \\text{ord}_{13}(2) && = 12 \\\\\n",
    "2^4    & \\equiv 1 \\mod 15 && \\implies & 15 & \\mid (2^4    - 1) && =   15 && = 3   \\times 5                    && \\text{ord}_{15}(2) && =  4 \\\\ \\vdots \\\\\n",
    "3^1    & \\equiv 1 \\mod  2 && \\implies &  2 & \\mid (3^1    - 1) && =    2 && = 2                               && \\text{ord}_2(3)    && =  1 \\\\\n",
    "3^2    & \\equiv 1 \\mod  4 && \\implies &  4 & \\mid (3^2    - 1) && =    8 && = 2^3                             && \\text{ord}_4(3)    && =  2 \\\\\n",
    "3^4    & \\equiv 1 \\mod  5 && \\implies &  5 & \\mid (3^4    - 1) && =   80 && = 2^4 \\times 5                    && \\text{ord}_5(3)    && =  4 \\\\\n",
    "3^6    & \\equiv 1 \\mod  7 && \\implies &  7 & \\mid (3^6    - 1) && =  728 && = 2^3 \\times 7 \\times 13          && \\text{ord}_7(3)    && =  6 \\\\\n",
    "3^2    & \\equiv 1 \\mod  8 && \\implies &  8 & \\mid (3^2    - 1) && =    8 && = 2^3                             && \\text{ord}_8(3)    && =  2 \\\\\n",
    "3^4    & \\equiv 1 \\mod 10 && \\implies & 10 & \\mid (3^4    - 1) && =   80 && = 2^4 \\times 5                    && \\text{ord}_{10}(3) && =  4 \\\\\n",
    "3^5    & \\equiv 1 \\mod 11 && \\implies & 11 & \\mid (3^5    - 1) && =  242 && = 2   \\times 11^2                 && \\text{ord}_{11}(3) && =  5 \\\\\n",
    "3^3    & \\equiv 1 \\mod 13 && \\implies & 13 & \\mid (3^3    - 1) && =   26 && = 2   \\times 13                   && \\text{ord}_{13}(3) && =  3 \\\\\n",
    "3^6    & \\equiv 1 \\mod 14 && \\implies & 14 & \\mid (3^6    - 1) && =  728 && = 2^3 \\times 7 \\times 13          && \\text{ord}_{14}(3) && =  6 \\\\\n",
    "\\end  {aligned}\n",
    "$\n",
    "</div>"
   ]
  },
  {
   "cell_type": "markdown",
   "metadata": {},
   "source": [
    "---"
   ]
  },
  {
   "cell_type": "markdown",
   "metadata": {},
   "source": [
    "We can do better than that.\n",
    "\n",
    "<span style=\"color: #0096FF;\"><b>THEOREM</b></span> [Vaughan Theorem 4.2]\n",
    "\n",
    "<div style=\"color: #0096FF;\">\n",
    "\n",
    "Suppose that $m \\in \\mathbb{N}^+$, $\\gcd(a, m) = 1$, and $n \\in \\mathbb{N}^+$ is such that $a^n \\equiv 1 \\mod m$.\n",
    "\n",
    "Then $\\text{ord}_m(a) \\mid n$. In particular $\\text{ord}_m(a) \\mid \\phi(m)$.\n",
    "</div>"
   ]
  },
  {
   "cell_type": "markdown",
   "metadata": {},
   "source": [
    "<span style=\"color: #0096FF;\"><b>PROOF</b></span>\n",
    "\n",
    "For concision let $t = \\text{ord}_m(a)$.\n",
    "\n",
    "Since $t$ is minimal we have $t \\le n$.\n",
    "\n",
    "Thus by the division algorithm there are $q$ and $r$ with $0 \\le r \\lt t$ such that\n",
    "\n",
    "$n = qt + r$\n",
    "\n",
    "Hence $a^r \\equiv (a^t)^q a^r = a^{qt + r} = a^n \\equiv 1 \\mod m$.\n",
    "\n",
    "$\n",
    "\\begin{aligned}\n",
    "a^t         &\\equiv 1   & \\mod m \\\\\n",
    "(a^t)^q     &\\equiv 1   & \\mod m \\\\\n",
    "(a^t)^q a^r &\\equiv a^r & \\mod m \\\\\n",
    "a^n         &\\equiv a^r & \\mod m \\\\\n",
    "\\end  {aligned}\n",
    "$\n",
    "\n",
    "Thus $a^r \\equiv 1 \\mod m$\n",
    "\n",
    "But $0 \\le r \\lt t$. If $r \\gt 0$ then we would contradict the minimality of $t$.\n",
    "\n",
    "Hence $r = 0$ and so $n = qt + 0 \\implies t \\mid n$.\n",
    "\n",
    "$\\blacksquare$"
   ]
  },
  {
   "cell_type": "markdown",
   "metadata": {},
   "source": [
    "---"
   ]
  },
  {
   "cell_type": "markdown",
   "metadata": {},
   "source": [
    "Here is an application that will be made use of later.\n",
    "\n",
    "<span style=\"color: #0096FF;\"><b>THEOREM</b></span> [Vaughan Theorem 4.3]\n",
    "\n",
    "<div style=\"color: #0096FF;\">\n",
    "\n",
    "Suppose that $d \\mid (p - 1)$. Then the congruence\n",
    "\n",
    "$x^d \\equiv 1 \\mod p$\n",
    "\n",
    "has exactly $d$ solutions.\n",
    "</div>"
   ]
  },
  {
   "cell_type": "markdown",
   "metadata": {},
   "source": [
    "<div class=\"full-width\">\n",
    "\n",
    "<span style=\"color: #0096FF;\"><b>PROOF</b></span>\n",
    "\n",
    "$d \\mid (p - 1) \\implies x^d \\mid x^{p-1} \\implies (x^d - 1) \\mid (x^{p-1} - 1) \\implies x^{p-1} - 1 = (x^d - 1)q(x)$ where $q(x)$ is a polynomial of degree $p - 1 - d$.\n",
    "\n",
    "$d \\mid (p - 1) \\implies p - 1 = kd \\implies x^{p-1} - 1 = x^{kd} - 1$\n",
    "\n",
    "$\n",
    "\\begin{aligned}\n",
    "x^{kd} - 1 &= (x^d - 1)(x^{(k-1)d} + x^{(k-2)d} + x^{(k-3)d} + x^{(k-4)d} + \\dotsb + x^d + 1) \\\\\n",
    "&= (x^{(k-1)d+d} + x^{(k-2)d+d} + x^{(k-3)d+d} + x^{(k-4)d+d} + \\dotsb + x^{2d} + x^d) &- (x^{(k-1)d} + x^{(k-2)d} + \\dotsb + x^d + 1) \\\\\n",
    "&= (x^{kd} + x^{kd-d} + x^{kd-2d} + x^{kd-3d} \\dotsb + x^{2d} + x^d)                   &- (x^{(k-1)d} + x^{(k-2)d} + \\dotsb + x^d + 1) \\\\\n",
    "&= (x^{kd} + x^{(k-1)d} + x^{(k-2)d} + x^{(k-3)d} \\dotsb + x^{2d} + x^d)                   &- (x^{(k-1)d} + x^{(k-2)d} + \\dotsb + x^d + 1) \\\\\n",
    "\\end  {aligned}\n",
    "$\n",
    "\n",
    "Observe that the terms telescope (i.e., all terms but two cancel each other out). To see this with $p-1$\n",
    "\n",
    "$\n",
    "\\begin{aligned}\n",
    "x^{p-1} - 1\n",
    "&= (x^d - 1)(x^{p-1-d} + x^{p-1-2d} + x^{p-1-3d} + x^{p-1-4d} + \\dotsb + x^d + 1) \\\\\n",
    "&= (x^{p-1+(d-d)} + x^{p-1+(d-2d)} + x^{p-1+(d-3d)} + x^{p-1+(d-4d)} + \\dotsb + x^{2d} + x^d) - (x^{p-1-d} + x^{p-1-2d} + x^{p-1-3d} + x^{p-1-4d} + \\dotsb + x^d + 1) \\\\\n",
    "\\end  {aligned}\n",
    "$\n",
    "\n",
    "We know from Euler's theorem that there are exactly $p-1$ incongruent roots to the lefthand side modulo $p$.\n",
    "\n",
    "$x^{p-1} \\equiv 1 \\mod p$\n",
    "\n",
    "On the other hand, by Lagrange's theorem, the second factor has at most $p - 1 - d$ such roots, so the first factor must account for at least $d$ of them. On the other hand, again by Lagrange's theorem, the second factor has at most $d$ roots modulo $p$. Therefore\n",
    "\n",
    "$x^d \\equiv 1 \\mod p$\n",
    "\n",
    "$\\blacksquare$\n",
    "</div>"
   ]
  },
  {
   "cell_type": "markdown",
   "metadata": {},
   "source": [
    "<span style=\"color: #50C878;\"><b>EXAMPLE</b></span>\n",
    "\n",
    "$\n",
    "\\begin{aligned}\n",
    "x^d    & \\equiv 1 \\mod  p &                                    \\\\ \\hline\n",
    "x      & \\equiv 1 \\mod  2 & x &= 1                             \\\\ \\hline\n",
    "x      & \\equiv 1 \\mod  3 & x &= 1                             \\\\\n",
    "x^2    & \\equiv 1 \\mod  3 & x &= 1, 2                          \\\\ \\hline\n",
    "x      & \\equiv 1 \\mod  5 & x &= 1                             \\\\\n",
    "x^2    & \\equiv 1 \\mod  5 & x &= 1, 4                          \\\\\n",
    "x^4    & \\equiv 1 \\mod  5 & x &= 1, 2, 3, 4                    \\\\ \\hline\n",
    "x      & \\equiv 1 \\mod  7 & x &= 1                             \\\\\n",
    "x^2    & \\equiv 1 \\mod  7 & x &= 1, 6                          \\\\\n",
    "x^3    & \\equiv 1 \\mod  7 & x &= 1, 2, 4                       \\\\\n",
    "x^6    & \\equiv 1 \\mod  7 & x &= 1, 2, 3, 4, 5, 6              \\\\ \\hline\n",
    "x      & \\equiv 1 \\mod 11 & x &= 1                             \\\\\n",
    "x^2    & \\equiv 1 \\mod 11 & x &= 1, 10                         \\\\\n",
    "x^5    & \\equiv 1 \\mod 11 & x &= 1, 3, 4, 5, 9                 \\\\\n",
    "x^{10} & \\equiv 1 \\mod 11 & x &= 1, 2, 3, 4, 5, 6, 7, 8, 9, 10 \\\\ \\hline\n",
    "\\end  {aligned}\n",
    "$"
   ]
  },
  {
   "cell_type": "markdown",
   "metadata": {},
   "source": [
    "---"
   ]
  },
  {
   "cell_type": "markdown",
   "metadata": {},
   "source": [
    "We have now seen that when $\\gcd(a, m) = 1$ it is the case that $a$ has order modulo $m$ which divides $\\phi(m)$. One question that can be asked is given any $d \\mid \\phi(m)$ are there elements of order $d$? In the special case $d = \\phi(m)$ this would mean that\n",
    "\n",
    "$a, a^2, \\dotsc, a^{\\phi(m)}$\n",
    "\n",
    "are distinct modulo $m$ because otherwise we would have\n",
    "\n",
    "$a^u \\equiv a^v \\mod m$ with $1 \\le u \\lt v \\le \\phi(m)$\n",
    "\n",
    "and then\n",
    "\n",
    "$a^{v-u} \\equiv 1 \\mod m$ with $1 \\le v-u \\lt \\phi(m)$\n",
    "\n",
    "contradicting the assumption that $\\text{ord}_m(a) = \\phi(m)$ is minimal."
   ]
  },
  {
   "cell_type": "markdown",
   "metadata": {},
   "source": [
    "$\n",
    "\\begin{aligned}\n",
    "a^t \\equiv 1 \\mod m && \\text{ord}_m(a) = t \\\\ \\hline\n",
    "1^t \\equiv 1 \\mod 7 && \\text{ord}_7(1) = 1 \\\\\n",
    "2^t \\equiv 1 \\mod 7 && \\text{ord}_7(2) = 3 \\\\\n",
    "3^t \\equiv 1 \\mod 7 && \\text{ord}_7(3) = 6 \\\\\n",
    "4^t \\equiv 1 \\mod 7 && \\text{ord}_7(4) = 3 \\\\\n",
    "5^t \\equiv 1 \\mod 7 && \\text{ord}_7(5) = 6 \\\\\n",
    "6^t \\equiv 1 \\mod 7 && \\text{ord}_7(6) = 2 \\\\\n",
    "\\end  {aligned}\n",
    "$\n",
    "\n",
    "There is one element of order $1$, one element of order $2$, two of order $3$, and two of order $6$.\n",
    "\n",
    "Is it a fluke that for each $d \\mid 6 = \\phi(7)$ the number of elements of order $d$ is $\\phi(d)$?"
   ]
  },
  {
   "cell_type": "markdown",
   "metadata": {},
   "source": [
    "---"
   ]
  },
  {
   "cell_type": "markdown",
   "metadata": {},
   "source": [
    "## Primitive Root"
   ]
  },
  {
   "cell_type": "markdown",
   "metadata": {},
   "source": [
    "<span style=\"color: #0096FF;\"><b>PRIMITIVE ROOT</b></span> [Vaughan Definition 4.5]\n",
    "\n",
    "<div style=\"color: #0096FF;\">\n",
    "\n",
    "Suppose that $m \\in \\mathbb{N}^+$ and that $\\gcd(a, m) = 1$.\n",
    "\n",
    "If $\\text{ord}_m(a) = \\phi(m)$ then we say that $a$ is a primitive root modulo $m$.\n",
    "</div>\n",
    "\n",
    "We know that we do not always have primitive roots. For example, any number $a$ with $\\gcd(a, 8) = 1$ is odd and so $a^2 \\equiv 1 \\mod 8$ whereas $\\phi(8) = 4$."
   ]
  },
  {
   "cell_type": "markdown",
   "metadata": {},
   "source": [
    "There are primitive roots to some moduli. For example, modulo $7$ the powers of $3$ are successively $3, 2, 6, 4, 5, 1$.\n",
    "\n",
    "$\n",
    "\\begin{aligned}\n",
    "3^1 \\equiv 3 \\mod 7 \\\\\n",
    "3^2 \\equiv 2 \\mod 7 \\\\\n",
    "3^3 \\equiv 6 \\mod 7 \\\\\n",
    "3^4 \\equiv 4 \\mod 7 \\\\\n",
    "3^5 \\equiv 5 \\mod 7 \\\\\n",
    "3^6 \\equiv 1 \\mod 7 \\\\\n",
    "\\end  {aligned}\n",
    "$"
   ]
  },
  {
   "cell_type": "markdown",
   "metadata": {},
   "source": [
    "---"
   ]
  },
  {
   "cell_type": "markdown",
   "metadata": {},
   "source": [
    "## Gauss' Theorem"
   ]
  },
  {
   "cell_type": "markdown",
   "metadata": {},
   "source": [
    "Gauss determined precisely which moduli possess primitive roots. The first step is the case of prime modulus.\n",
    "\n",
    "<span style=\"color: #0096FF;\"><b>GAUSS' THEOREM</b></span> [Vaughan Theorem 4.6]\n",
    "\n",
    "<div style=\"color: #0096FF;\">\n",
    "\n",
    "Suppose that $p$ is prime and let $d \\mid (p - 1)$.\n",
    "\n",
    "Then there are $\\phi(d)$ residue classes $a$ with $\\text{ord}_p(a) = d$.\n",
    "\n",
    "In particular, there are $\\phi(p - 1) = \\phi(\\phi(p))$ primitive roots modulo $p$.\n",
    "</div>"
   ]
  },
  {
   "cell_type": "markdown",
   "metadata": {},
   "source": [
    "<span style=\"color: #50C878;\"><b>EXAMPLE</b></span>\n",
    "\n",
    "$p = 3$\n",
    "\n",
    "$d = 1, 2 \\mid (3 - 1)$\n",
    "\n",
    "$\n",
    "\\begin{aligned}\n",
    "\\phi(1) = 1 \\text{ residue classes } a \\text{ modulo 5 with } \\text{ord}_{5}(a) & = & 1 \\\\\n",
    "\\phi(2) = 1 \\text{ residue classes } a \\text{ modulo 5 with } \\text{ord}_{5}(a) & = & 2 \\\\\n",
    "\\end  {aligned}\n",
    "$\n",
    "\n",
    "$1 \\equiv 2^2 \\mod 3$\n",
    "\n",
    "Thus the $1$ primitive root modulo $3$ is $2$."
   ]
  },
  {
   "cell_type": "code",
   "execution_count": 436,
   "metadata": {
    "tags": [
     "hide-input"
    ]
   },
   "outputs": [
    {
     "name": "stdout",
     "output_type": "stream",
     "text": [
      "   a | ord(a) | a^1  a^2\n",
      "-----+--------+----------\n",
      "   1 |      1 |    1    1\n",
      "   2 |      2 |    2    1\n"
     ]
    }
   ],
   "source": [
    "from collections import Counter\n",
    "p = 3\n",
    "print(f\"{'a':>4} | {'ord(a)':>6} | {'  '.join([f'a^{i}' for i in range(1, p)])}\")\n",
    "print(f'-----+--------+' + '-'*5*(p-1))\n",
    "for a in range(1, p):\n",
    "  elems = [a**i%p for i in range(1, p)]\n",
    "  order    = len(Counter(elems).keys())\n",
    "  print(f\"{a:>4} | {order:>6} |   {'   '.join([f'{elem:>2}' for elem in elems])}\")"
   ]
  },
  {
   "cell_type": "markdown",
   "metadata": {},
   "source": [
    "<span style=\"color: #50C878;\"><b>EXAMPLE</b></span>\n",
    "\n",
    "$p = 5$\n",
    "\n",
    "$d = 1, 2, 4 \\mid (5 - 1)$\n",
    "\n",
    "$\n",
    "\\begin{aligned}\n",
    "\\phi(1) = 1 \\text{ residue classes } a \\text{ modulo 5 with } \\text{ord}_{5}(a) & = & 1 \\\\\n",
    "\\phi(2) = 1 \\text{ residue classes } a \\text{ modulo 5 with } \\text{ord}_{5}(a) & = & 2 \\\\\n",
    "\\phi(4) = 2 \\text{ residue classes } a \\text{ modulo 5 with } \\text{ord}_{5}(a) & = & 4 \\\\\n",
    "\\end  {aligned}\n",
    "$\n",
    "\n",
    "$1 \\equiv 2^4 \\equiv 3^4 \\equiv 4^2 \\mod 5$\n",
    "\n",
    "Thus the $2$ primitive roots modulo $5$ are $2, 3$."
   ]
  },
  {
   "cell_type": "code",
   "execution_count": 435,
   "metadata": {
    "tags": [
     "hide-input"
    ]
   },
   "outputs": [
    {
     "name": "stdout",
     "output_type": "stream",
     "text": [
      "   a | ord(a) | a^1  a^2  a^3  a^4\n",
      "-----+--------+--------------------\n",
      "   1 |      1 |    1    1    1    1\n",
      "   2 |      4 |    2    4    3    1\n",
      "   3 |      4 |    3    4    2    1\n",
      "   4 |      2 |    4    1    4    1\n"
     ]
    }
   ],
   "source": [
    "from collections import Counter\n",
    "p = 5\n",
    "print(f\"{'a':>4} | {'ord(a)':>6} | {'  '.join([f'a^{i}' for i in range(1, p)])}\")\n",
    "print(f'-----+--------+' + '-'*5*(p-1))\n",
    "for a in range(1, p):\n",
    "  elems = [a**i%p for i in range(1, p)]\n",
    "  order    = len(Counter(elems).keys())\n",
    "  print(f\"{a:>4} | {order:>6} |   {'   '.join([f'{elem:>2}' for elem in elems])}\")"
   ]
  },
  {
   "cell_type": "markdown",
   "metadata": {},
   "source": [
    "<span style=\"color: #50C878;\"><b>EXAMPLE</b></span>\n",
    "\n",
    "$p = 7$\n",
    "\n",
    "$d = 1, 2, 3, 6 \\mid (7 - 1)$\n",
    "\n",
    "$\n",
    "\\begin{aligned}\n",
    "\\phi(1) = 1 \\text{ residue classes } a \\text{ modulo 7 with } \\text{ord}_{7}(a) & = & 1 \\\\\n",
    "\\phi(2) = 1 \\text{ residue classes } a \\text{ modulo 7 with } \\text{ord}_{7}(a) & = & 2 \\\\\n",
    "\\phi(3) = 2 \\text{ residue classes } a \\text{ modulo 7 with } \\text{ord}_{7}(a) & = & 3 \\\\\n",
    "\\phi(6) = 2 \\text{ residue classes } a \\text{ modulo 7 with } \\text{ord}_{7}(a) & = & 6 \\\\\n",
    "\\end  {aligned}\n",
    "$\n",
    "\n",
    "$1 \\equiv 2^3 \\equiv 3^6 \\equiv 4^3 \\equiv 5^6 \\equiv 6^2 \\mod 7$\n",
    "\n",
    "Thus the $2$ primitive roots modulo $7$ are $3, 5$."
   ]
  },
  {
   "cell_type": "code",
   "execution_count": 434,
   "metadata": {
    "tags": [
     "hide-input"
    ]
   },
   "outputs": [
    {
     "name": "stdout",
     "output_type": "stream",
     "text": [
      "   a | ord(a) | a^1  a^2  a^3  a^4  a^5  a^6\n",
      "-----+--------+------------------------------\n",
      "   1 |      1 |    1    1    1    1    1    1\n",
      "   2 |      3 |    2    4    1    2    4    1\n",
      "   3 |      6 |    3    2    6    4    5    1\n",
      "   4 |      3 |    4    2    1    4    2    1\n",
      "   5 |      6 |    5    4    6    2    3    1\n",
      "   6 |      2 |    6    1    6    1    6    1\n"
     ]
    }
   ],
   "source": [
    "from collections import Counter\n",
    "p = 7\n",
    "print(f\"{'a':>4} | {'ord(a)':>6} | {'  '.join([f'a^{i}' for i in range(1, p)])}\")\n",
    "print(f'-----+--------+' + '-'*5*(p-1))\n",
    "for a in range(1, p):\n",
    "  elems = [a**i%p for i in range(1, p)]\n",
    "  order    = len(Counter(elems).keys())\n",
    "  print(f\"{a:>4} | {order:>6} |   {'   '.join([f'{elem:>2}' for elem in elems])}\")"
   ]
  },
  {
   "cell_type": "markdown",
   "metadata": {},
   "source": [
    "<span style=\"color: #50C878;\"><b>EXAMPLE</b></span>\n",
    "\n",
    "$p = 11$\n",
    "\n",
    "$d = 1, 2, 5, 10 \\mid (11 - 1)$\n",
    "\n",
    "$\n",
    "\\begin{aligned}\n",
    "\\phi( 1) = 1 \\text{ residue classes } a \\text{ modulo 11 with } \\text{ord}_{11}(a) & = &  1 \\\\\n",
    "\\phi( 2) = 1 \\text{ residue classes } a \\text{ modulo 11 with } \\text{ord}_{11}(a) & = &  2 \\\\\n",
    "\\phi( 5) = 4 \\text{ residue classes } a \\text{ modulo 11 with } \\text{ord}_{11}(a) & = &  5 \\\\\n",
    "\\phi(10) = 4 \\text{ residue classes } a \\text{ modulo 11 with } \\text{ord}_{11}(a) & = & 10 \\\\\n",
    "\\end  {aligned}\n",
    "$\n",
    "\n",
    "$1 \\equiv 2^{10} \\equiv 3^5 \\equiv 4^5 \\equiv 5^5 \\equiv 6^{10} \\equiv 7^{10} \\equiv 8^{10} \\equiv 9^5 \\equiv 10^2 \\mod 11$\n",
    "\n",
    "Thus the $4$ primitive roots modulo $11$ are $2, 6, 7, 8$."
   ]
  },
  {
   "cell_type": "code",
   "execution_count": 433,
   "metadata": {
    "tags": [
     "hide-input"
    ]
   },
   "outputs": [
    {
     "name": "stdout",
     "output_type": "stream",
     "text": [
      "   a | ord(a) | a^1  a^2  a^3  a^4  a^5  a^6  a^7  a^8  a^9  a^10\n",
      "-----+--------+--------------------------------------------------\n",
      "   1 |      1 |    1    1    1    1    1    1    1    1    1    1\n",
      "   2 |     10 |    2    4    8    5   10    9    7    3    6    1\n",
      "   3 |      5 |    3    9    5    4    1    3    9    5    4    1\n",
      "   4 |      5 |    4    5    9    3    1    4    5    9    3    1\n",
      "   5 |      5 |    5    3    4    9    1    5    3    4    9    1\n",
      "   6 |     10 |    6    3    7    9   10    5    8    4    2    1\n",
      "   7 |     10 |    7    5    2    3   10    4    6    9    8    1\n",
      "   8 |     10 |    8    9    6    4   10    3    2    5    7    1\n",
      "   9 |      5 |    9    4    3    5    1    9    4    3    5    1\n",
      "  10 |      2 |   10    1   10    1   10    1   10    1   10    1\n"
     ]
    }
   ],
   "source": [
    "from collections import Counter\n",
    "p = 11\n",
    "print(f\"{'a':>4} | {'ord(a)':>6} | {'  '.join([f'a^{i}' for i in range(1, p)])}\")\n",
    "print(f'-----+--------+' + '-'*5*(p-1))\n",
    "for a in range(1, p):\n",
    "  elems = [a**i%p for i in range(1, p)]\n",
    "  order    = len(Counter(elems).keys())\n",
    "  print(f\"{a:>4} | {order:>6} |   {'   '.join([f'{elem:>2}' for elem in elems])}\")"
   ]
  },
  {
   "cell_type": "markdown",
   "metadata": {},
   "source": [
    "<span style=\"color: #50C878;\"><b>EXAMPLE</b></span>\n",
    "\n",
    "$p = 13$\n",
    "\n",
    "$d = 1, 2, 3, 4, 6, 12 \\mid (13 - 1)$\n",
    "\n",
    "$\n",
    "\\begin{aligned}\n",
    "\\phi( 1) = 1 \\text{ residue classes } a \\text{ modulo 13 with } \\text{ord}_{13}(a) & = &  1 \\\\\n",
    "\\phi( 2) = 1 \\text{ residue classes } a \\text{ modulo 13 with } \\text{ord}_{13}(a) & = &  2 \\\\\n",
    "\\phi( 3) = 2 \\text{ residue classes } a \\text{ modulo 13 with } \\text{ord}_{13}(a) & = &  3 \\\\\n",
    "\\phi( 4) = 2 \\text{ residue classes } a \\text{ modulo 13 with } \\text{ord}_{13}(a) & = &  4 \\\\\n",
    "\\phi( 6) = 2 \\text{ residue classes } a \\text{ modulo 13 with } \\text{ord}_{13}(a) & = &  6 \\\\\n",
    "\\phi(12) = 4 \\text{ residue classes } a \\text{ modulo 13 with } \\text{ord}_{13}(a) & = & 12 \\\\\n",
    "\\end  {aligned}\n",
    "$\n",
    "\n",
    "$1 \\equiv 2^{12} \\equiv 3^3 \\equiv 4^6 \\equiv 5^4 \\equiv 6^{12} \\equiv 7^{12} \\equiv 8^4 \\equiv 9^3 \\equiv 10^6 \\equiv 11^{12} \\equiv 12^2 \\mod 13$\n",
    "\n",
    "Thus the $4$ primitive roots modulo $13$ are $2, 6, 7, 11$."
   ]
  },
  {
   "cell_type": "code",
   "execution_count": 432,
   "metadata": {
    "tags": [
     "hide-input"
    ]
   },
   "outputs": [
    {
     "name": "stdout",
     "output_type": "stream",
     "text": [
      "   a | ord(a) | a^1  a^2  a^3  a^4  a^5  a^6  a^7  a^8  a^9  a^10  a^11  a^12\n",
      "-----+--------+------------------------------------------------------------\n",
      "   1 |      1 |    1    1    1    1    1    1    1    1    1    1    1    1\n",
      "   2 |     12 |    2    4    8    3    6   12   11    9    5   10    7    1\n",
      "   3 |      3 |    3    9    1    3    9    1    3    9    1    3    9    1\n",
      "   4 |      6 |    4    3   12    9   10    1    4    3   12    9   10    1\n",
      "   5 |      4 |    5   12    8    1    5   12    8    1    5   12    8    1\n",
      "   6 |     12 |    6   10    8    9    2   12    7    3    5    4   11    1\n",
      "   7 |     12 |    7   10    5    9   11   12    6    3    8    4    2    1\n",
      "   8 |      4 |    8   12    5    1    8   12    5    1    8   12    5    1\n",
      "   9 |      3 |    9    3    1    9    3    1    9    3    1    9    3    1\n",
      "  10 |      6 |   10    9   12    3    4    1   10    9   12    3    4    1\n",
      "  11 |     12 |   11    4    5    3    7   12    2    9    8   10    6    1\n",
      "  12 |      2 |   12    1   12    1   12    1   12    1   12    1   12    1\n"
     ]
    }
   ],
   "source": [
    "from collections import Counter\n",
    "p = 13\n",
    "print(f\"{'a':>4} | {'ord(a)':>6} | {'  '.join([f'a^{i}' for i in range(1, p)])}\")\n",
    "print(f'-----+--------+' + '-'*5*(p-1))\n",
    "for a in range(1, p):\n",
    "  elems = [a**i%p for i in range(1, p)]\n",
    "  order    = len(Counter(elems).keys())\n",
    "  print(f\"{a:>4} | {order:>6} |   {'   '.join([f'{elem:>2}' for elem in elems])}\")"
   ]
  },
  {
   "cell_type": "markdown",
   "metadata": {},
   "source": [
    "<span style=\"color: #0096FF;\"><b>PROOF</b></span>\n",
    "\n",
    "We have seen that the order of every reduced residue class modulo $p$ divides $p-1$.\n",
    "\n",
    "For a given $d \\mid (p - 1)$ let $\\psi(d)$ denote the number of reduced residues of order $d$ modulo $p$.\n",
    "\n",
    "The congruence $x^d \\equiv 1 \\mod p$ has exactly $d$ solutions.\n",
    "\n",
    "Thus every solution has order dividing $d$.\n",
    "\n",
    "Also each residue with order dividing $d$ is a solution.\n",
    "\n",
    "Thus for each $d \\mid (p - 1)$ we have\n",
    "\n",
    "$\n",
    "\\begin{aligned}\n",
    "\\sum_{r \\mid d} \\psi(r) = d \\\\\n",
    "\\end  {aligned}\n",
    "$\n",
    "\n",
    "This is reminiscent of an earlier formula\n",
    "\n",
    "$\n",
    "\\begin{aligned}\n",
    "\\sum_{r \\mid d} \\phi(r) = d \\\\\n",
    "\\end  {aligned}\n",
    "$\n",
    "\n",
    "Let $1 = d_1 \\lt d_2 \\lt \\dots \\lt d_k = p - 1$ be the divisors of $p-1$ in order.\n",
    "\n",
    "We have a relationship\n",
    "\n",
    "$\n",
    "\\begin{aligned}\n",
    "\\sum_{r \\mid d_j} \\psi(r) = d_j \\text{ for each } j = 1, 2, \\dotsc\n",
    "\\end  {aligned}\n",
    "$\n",
    "\n",
    "and of course the sum is over a subset of the divisors of $p - 1$. It is claimed that this determines $\\psi(d_j)$ uniquely. We can prove this by observing that if $N$ is the number of positive divisors of $p - 1$ then we have $N$ linear equations in the $N$ unknowns $\\psi(r)$ and we can write this in matrix notation\n",
    "\n",
    "$\\psi \\mathcal{U} = \\mathbf{d}$\n",
    "\n",
    "Moreover $\\mathcal{U}$ is an upper triangular matrix with nonzero entries on the diagonal and so is invertible.\n",
    "\n",
    "Hence the $\\psi(d_j)$ are uniquely determined.\n",
    "\n",
    "But we already know a solution, namely $\\psi = \\phi$.\n",
    "\n",
    "$\\blacksquare$"
   ]
  },
  {
   "cell_type": "markdown",
   "metadata": {},
   "source": [
    "If we wish to avoid the linear algebra, starting from\n",
    "\n",
    "$\n",
    "\\begin{aligned}\n",
    "\\sum_{r \\mid d_j} \\psi(r) = d_j \\text{ for each } j = 1, 2, \\dotsc \\\\\n",
    "\\end  {aligned}\n",
    "$\n",
    "\n",
    "we can prove uniqueness by induction on $r$.\n",
    "\n",
    "For the base case we have $\\psi(1) = 1$.\n",
    "\n",
    "Then suppose $\\psi(d_1), \\dotsc, \\psi(d_j)$ are determined. Then we have\n",
    "\n",
    "$\n",
    "\\begin{aligned}\n",
    "\\sum_{r \\mid d_{j+1}} \\psi(r) = d_{j+1} \\\\\n",
    "\\end  {aligned}\n",
    "$\n",
    "\n",
    "Hence\n",
    "\n",
    "$\n",
    "\\begin{aligned}\n",
    "\\psi(d_{j+1}) = d_{j+1} -\n",
    "\\underset{r \\lt d_{j+1}}{\\sum_{r \\mid d_{j+1}}} \\psi(r) \\\\\n",
    "\\end  {aligned}\n",
    "$\n",
    "\n",
    "and every term on the righthand side is already determined.\n",
    "\n",
    "Thus we can conclude that there is only one solution to our system of equations.\n",
    "\n",
    "But we already know this solution, namely $\\psi(r) = \\phi(r)$.\n",
    "\n",
    "$\\blacksquare$"
   ]
  },
  {
   "cell_type": "markdown",
   "metadata": {},
   "source": [
    "$\n",
    "\\begin{pmatrix}\n",
    "\\psi(1) & \\psi(2) & \\psi(3) & \\psi(4) & \\psi(6) & \\psi(12) \\\\\n",
    "\\end  {pmatrix}\n",
    "\\begin{pmatrix}\n",
    "1 & 1 & 1 & 1 & 1 & 1 \\\\\n",
    "0 & 1 & 0 & 1 & 1 & 1 \\\\\n",
    "0 & 0 & 1 & 0 & 1 & 1 \\\\\n",
    "0 & 0 & 0 & 1 & 0 & 1 \\\\\n",
    "0 & 0 & 0 & 0 & 1 & 1 \\\\\n",
    "0 & 0 & 0 & 0 & 0 & 1 \\\\\n",
    "\\end  {pmatrix}\n",
    "$"
   ]
  },
  {
   "cell_type": "markdown",
   "metadata": {},
   "source": [
    "---\n",
    "---\n",
    "---"
   ]
  },
  {
   "cell_type": "markdown",
   "metadata": {},
   "source": [
    "## Acknowledgements"
   ]
  },
  {
   "cell_type": "markdown",
   "metadata": {},
   "source": [
    "`2023` Vaughan, Robert. _A Course of Elementary Number Theory_."
   ]
  },
  {
   "cell_type": "markdown",
   "metadata": {},
   "source": [
    "---\n",
    "---\n",
    "---"
   ]
  }
 ],
 "metadata": {
  "kernelspec": {
   "display_name": "ml",
   "language": "python",
   "name": "python3"
  },
  "language_info": {
   "codemirror_mode": {
    "name": "ipython",
    "version": 3
   },
   "file_extension": ".py",
   "mimetype": "text/x-python",
   "name": "python",
   "nbconvert_exporter": "python",
   "pygments_lexer": "ipython3",
   "version": "3.11.9"
  }
 },
 "nbformat": 4,
 "nbformat_minor": 2
}
