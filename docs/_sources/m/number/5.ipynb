{
 "cells": [
  {
   "cell_type": "markdown",
   "metadata": {},
   "source": [
    "# Primitive Roots\n",
    "```{contents}\n",
    "```"
   ]
  },
  {
   "cell_type": "markdown",
   "metadata": {},
   "source": [
    "---\n",
    "---\n",
    "---"
   ]
  },
  {
   "cell_type": "markdown",
   "metadata": {},
   "source": [
    "The residue class modulo $m$ is called a ring and denoted by $\\mathbb{Z}_m$ or $\\mathbb{Z}/m\\mathbb{Z}$.\n",
    "\n",
    "We will examine its multiplicative structure; in particular, we will consider the reduced residue classes modulo $m$."
   ]
  },
  {
   "cell_type": "markdown",
   "metadata": {},
   "source": [
    "---"
   ]
  },
  {
   "cell_type": "markdown",
   "metadata": {},
   "source": [
    "## Order _a_ modulo _m_"
   ]
  },
  {
   "cell_type": "markdown",
   "metadata": {},
   "source": [
    "What happens if we take powers of a fixed residue?\n",
    "\n",
    "<span style=\"color: #0096FF;\"><b>DEFINITION</b></span> [Vaughan Definition 4.1]\n",
    "\n",
    "<div style=\"color: #0096FF;\">\n",
    "\n",
    "Given $m \\in \\mathbb{N}^+$, $a \\in \\mathbb{Z}$, and $\\gcd(a, m) = 1$ we define the order $\\text{ord}_m(a)$ of $a$ modulo $m$ to be the smallest positive integer $t$ such that\n",
    "\n",
    "$a^t \\equiv 1 \\mod m$\n",
    "\n",
    "We may express this by saying that $a$ belongs to the exponent $t$ modulo $m$, or that $t$ is the order of $a$ modulo $m$.\n",
    "</div>\n",
    "\n",
    "Note that by Euler's theorem $a^{\\phi(m)} \\equiv 1 \\mod m$ so that $\\text{ord}_m(a)$ exists. Its uniqueness follows from its minimality."
   ]
  },
  {
   "cell_type": "markdown",
   "metadata": {},
   "source": [
    "<div class=\"full-width\">\n",
    "\n",
    "<span style=\"color: #50C878;\"><b>EXAMPLE</b></span>\n",
    "\n",
    "$\n",
    "\\begin{aligned}\n",
    "a^t    & \\equiv 1 \\mod  m && \\implies &  m & \\mid (a^t    - 1) &&        &&                                   && \\text{ord}_m(a)            \\\\ \\hline\n",
    "2^2    & \\equiv 1 \\mod  3 && \\implies &  3 & \\mid (2^2    - 1) && =    3 && = 3                               && \\text{ord}_3(2)    && =  2 \\\\\n",
    "2^4    & \\equiv 1 \\mod  5 && \\implies &  5 & \\mid (2^4    - 1) && =   15 && = 3   \\times 5                    && \\text{ord}_5(2)    && =  4 \\\\\n",
    "2^6    & \\equiv 1 \\mod  7 && \\implies &  7 & \\mid (2^6    - 1) && =   63 && = 3^2 \\times 7                    && \\text{ord}_7(2)    && =  6 \\\\\n",
    "2^6    & \\equiv 1 \\mod  9 && \\implies &  9 & \\mid (2^6    - 1) && =   63 && = 3^2 \\times 7                    && \\text{ord}_9(2)    && =  6 \\\\\n",
    "2^{10} & \\equiv 1 \\mod 11 && \\implies & 11 & \\mid (2^{10} - 1) && = 1023 && = 3   \\times 11 \\times 31         && \\text{ord}_{11}(2) && = 10 \\\\\n",
    "2^{12} & \\equiv 1 \\mod 13 && \\implies & 13 & \\mid (2^{12} - 1) && = 4095 && = 3^2 \\times 5 \\times 7 \\times 13 && \\text{ord}_{13}(2) && = 12 \\\\\n",
    "2^4    & \\equiv 1 \\mod 15 && \\implies & 15 & \\mid (2^4    - 1) && =   15 && = 3   \\times 5                    && \\text{ord}_{15}(2) && =  4 \\\\ \\vdots \\\\\n",
    "3^1    & \\equiv 1 \\mod  2 && \\implies &  2 & \\mid (3^1    - 1) && =    2 && = 2                               && \\text{ord}_2(3)    && =  1 \\\\\n",
    "3^2    & \\equiv 1 \\mod  4 && \\implies &  4 & \\mid (3^2    - 1) && =    8 && = 2^3                             && \\text{ord}_4(3)    && =  2 \\\\\n",
    "3^4    & \\equiv 1 \\mod  5 && \\implies &  5 & \\mid (3^4    - 1) && =   80 && = 2^4 \\times 5                    && \\text{ord}_5(3)    && =  4 \\\\\n",
    "3^6    & \\equiv 1 \\mod  7 && \\implies &  7 & \\mid (3^6    - 1) && =  728 && = 2^3 \\times 7 \\times 13          && \\text{ord}_7(3)    && =  6 \\\\\n",
    "3^2    & \\equiv 1 \\mod  8 && \\implies &  8 & \\mid (3^2    - 1) && =    8 && = 2^3                             && \\text{ord}_8(3)    && =  2 \\\\\n",
    "3^4    & \\equiv 1 \\mod 10 && \\implies & 10 & \\mid (3^4    - 1) && =   80 && = 2^4 \\times 5                    && \\text{ord}_{10}(3) && =  4 \\\\\n",
    "3^5    & \\equiv 1 \\mod 11 && \\implies & 11 & \\mid (3^5    - 1) && =  242 && = 2   \\times 11^2                 && \\text{ord}_{11}(3) && =  5 \\\\\n",
    "3^3    & \\equiv 1 \\mod 13 && \\implies & 13 & \\mid (3^3    - 1) && =   26 && = 2   \\times 13                   && \\text{ord}_{13}(3) && =  3 \\\\\n",
    "3^6    & \\equiv 1 \\mod 14 && \\implies & 14 & \\mid (3^6    - 1) && =  728 && = 2^3 \\times 7 \\times 13          && \\text{ord}_{14}(3) && =  6 \\\\\n",
    "\\end  {aligned}\n",
    "$\n",
    "</div>"
   ]
  },
  {
   "cell_type": "markdown",
   "metadata": {},
   "source": [
    "---"
   ]
  },
  {
   "cell_type": "markdown",
   "metadata": {},
   "source": [
    "We can do better than that.\n",
    "\n",
    "<span style=\"color: #0096FF;\"><b>THEOREM</b></span> [Vaughan Theorem 4.2]\n",
    "\n",
    "<div style=\"color: #0096FF;\">\n",
    "\n",
    "Suppose that $m \\in \\mathbb{N}^+$, $\\gcd(a, m) = 1$, and $n \\in \\mathbb{N}^+$ is such that $a^n \\equiv 1 \\mod m$.\n",
    "\n",
    "Then $\\text{ord}_m(a) \\mid n$. In particular $\\text{ord}_m(a) \\mid \\phi(m)$.\n",
    "</div>"
   ]
  },
  {
   "cell_type": "markdown",
   "metadata": {},
   "source": [
    "<span style=\"color: #0096FF;\"><b>PROOF</b></span>\n",
    "\n",
    "For concision let $t = \\text{ord}_m(a)$.\n",
    "\n",
    "Since $t$ is minimal we have $t \\le n$.\n",
    "\n",
    "Thus by the division algorithm there are $q$ and $r$ with $0 \\le r \\lt t$ such that\n",
    "\n",
    "$n = qt + r$\n",
    "\n",
    "Hence $a^r \\equiv (a^t)^q a^r = a^{qt + r} = a^n \\equiv 1 \\mod m$.\n",
    "\n",
    "$\n",
    "\\begin{aligned}\n",
    "a^t         &\\equiv 1   & \\mod m \\\\\n",
    "(a^t)^q     &\\equiv 1   & \\mod m \\\\\n",
    "(a^t)^q a^r &\\equiv a^r & \\mod m \\\\\n",
    "a^n         &\\equiv a^r & \\mod m \\\\\n",
    "\\end  {aligned}\n",
    "$\n",
    "\n",
    "Thus $a^r \\equiv 1 \\mod m$\n",
    "\n",
    "But $0 \\le r \\lt t$. If $r \\gt 0$ then we would contradict the minimality of $t$.\n",
    "\n",
    "Hence $r = 0$ and so $n = qt + 0 \\implies t \\mid n$.\n",
    "\n",
    "$\\blacksquare$"
   ]
  },
  {
   "cell_type": "markdown",
   "metadata": {},
   "source": [
    "---"
   ]
  },
  {
   "cell_type": "markdown",
   "metadata": {},
   "source": [
    "Here is an application that will be made use of later.\n",
    "\n",
    "<span style=\"color: #0096FF;\"><b>THEOREM</b></span> [Vaughan Theorem 4.3]\n",
    "\n",
    "<div style=\"color: #0096FF;\">\n",
    "\n",
    "Suppose that $d \\mid (p - 1)$. Then the congruence\n",
    "\n",
    "$x^d \\equiv 1 \\mod p$\n",
    "\n",
    "has exactly $d$ solutions.\n",
    "</div>"
   ]
  },
  {
   "cell_type": "markdown",
   "metadata": {},
   "source": [
    "<div class=\"full-width\">\n",
    "\n",
    "<span style=\"color: #0096FF;\"><b>PROOF</b></span>\n",
    "\n",
    "$d \\mid (p - 1) \\implies x^d \\mid x^{p-1} \\implies (x^d - 1) \\mid (x^{p-1} - 1) \\implies x^{p-1} - 1 = (x^d - 1)q(x)$ where $q(x)$ is a polynomial of degree $p - 1 - d$.\n",
    "\n",
    "$d \\mid (p - 1) \\implies p - 1 = kd \\implies x^{p-1} - 1 = x^{kd} - 1$\n",
    "\n",
    "$\n",
    "\\begin{aligned}\n",
    "x^{kd} - 1 &= (x^d - 1)(x^{(k-1)d} + x^{(k-2)d} + x^{(k-3)d} + x^{(k-4)d} + \\dotsb + x^d + 1) \\\\\n",
    "&= (x^{(k-1)d+d} + x^{(k-2)d+d} + x^{(k-3)d+d} + x^{(k-4)d+d} + \\dotsb + x^{2d} + x^d) &- (x^{(k-1)d} + x^{(k-2)d} + \\dotsb + x^d + 1) \\\\\n",
    "&= (x^{kd} + x^{kd-d} + x^{kd-2d} + x^{kd-3d} \\dotsb + x^{2d} + x^d)                   &- (x^{(k-1)d} + x^{(k-2)d} + \\dotsb + x^d + 1) \\\\\n",
    "&= (x^{kd} + x^{(k-1)d} + x^{(k-2)d} + x^{(k-3)d} \\dotsb + x^{2d} + x^d)                   &- (x^{(k-1)d} + x^{(k-2)d} + \\dotsb + x^d + 1) \\\\\n",
    "\\end  {aligned}\n",
    "$\n",
    "\n",
    "Observe that the terms telescope (i.e., all terms but two cancel each other out). To see this with $p-1$\n",
    "\n",
    "$\n",
    "\\begin{aligned}\n",
    "x^{p-1} - 1\n",
    "&= (x^d - 1)(x^{p-1-d} + x^{p-1-2d} + x^{p-1-3d} + x^{p-1-4d} + \\dotsb + x^d + 1) \\\\\n",
    "&= (x^{p-1+(d-d)} + x^{p-1+(d-2d)} + x^{p-1+(d-3d)} + x^{p-1+(d-4d)} + \\dotsb + x^{2d} + x^d) - (x^{p-1-d} + x^{p-1-2d} + x^{p-1-3d} + x^{p-1-4d} + \\dotsb + x^d + 1) \\\\\n",
    "\\end  {aligned}\n",
    "$\n",
    "\n",
    "We know from Euler's theorem that there are exactly $p-1$ incongruent roots to the lefthand side modulo $p$.\n",
    "\n",
    "$x^{p-1} \\equiv 1 \\mod p$\n",
    "\n",
    "On the other hand, by Lagrange's theorem, the second factor has at most $p - 1 - d$ such roots, so the first factor must account for at least $d$ of them. On the other hand, again by Lagrange's theorem, the second factor has at most $d$ roots modulo $p$. Therefore\n",
    "\n",
    "$x^d \\equiv 1 \\mod p$\n",
    "\n",
    "$\\blacksquare$\n",
    "</div>"
   ]
  },
  {
   "cell_type": "markdown",
   "metadata": {},
   "source": [
    "<span style=\"color: #50C878;\"><b>EXAMPLE</b></span>\n",
    "\n",
    "$\n",
    "\\begin{aligned}\n",
    "x^d    & \\equiv 1 \\mod  p &                                    \\\\ \\hline\n",
    "x      & \\equiv 1 \\mod  2 & x &= 1                             \\\\ \\hline\n",
    "x      & \\equiv 1 \\mod  3 & x &= 1                             \\\\\n",
    "x^2    & \\equiv 1 \\mod  3 & x &= 1, 2                          \\\\ \\hline\n",
    "x      & \\equiv 1 \\mod  5 & x &= 1                             \\\\\n",
    "x^2    & \\equiv 1 \\mod  5 & x &= 1, 4                          \\\\\n",
    "x^4    & \\equiv 1 \\mod  5 & x &= 1, 2, 3, 4                    \\\\ \\hline\n",
    "x      & \\equiv 1 \\mod  7 & x &= 1                             \\\\\n",
    "x^2    & \\equiv 1 \\mod  7 & x &= 1, 6                          \\\\\n",
    "x^3    & \\equiv 1 \\mod  7 & x &= 1, 2, 4                       \\\\\n",
    "x^6    & \\equiv 1 \\mod  7 & x &= 1, 2, 3, 4, 5, 6              \\\\ \\hline\n",
    "x      & \\equiv 1 \\mod 11 & x &= 1                             \\\\\n",
    "x^2    & \\equiv 1 \\mod 11 & x &= 1, 10                         \\\\\n",
    "x^5    & \\equiv 1 \\mod 11 & x &= 1, 3, 4, 5, 9                 \\\\\n",
    "x^{10} & \\equiv 1 \\mod 11 & x &= 1, 2, 3, 4, 5, 6, 7, 8, 9, 10 \\\\ \\hline\n",
    "\\end  {aligned}\n",
    "$"
   ]
  },
  {
   "cell_type": "markdown",
   "metadata": {},
   "source": [
    "---"
   ]
  },
  {
   "cell_type": "markdown",
   "metadata": {},
   "source": [
    "We have now seen that when $\\gcd(a, m) = 1$ it is the case that $a$ has order modulo $m$ which divides $\\phi(m)$. One question that can be asked is given any $d \\mid \\phi(m)$ are there elements of order $d$? In the special case $d = \\phi(m)$ this would mean that\n",
    "\n",
    "$a, a^2, \\dotsc, a^{\\phi(m)}$\n",
    "\n",
    "are distinct modulo $m$ because otherwise we would have\n",
    "\n",
    "$a^u \\equiv a^v \\mod m$ with $1 \\le u \\lt v \\le \\phi(m)$\n",
    "\n",
    "and then\n",
    "\n",
    "$a^{v-u} \\equiv 1 \\mod m$ with $1 \\le v-u \\lt \\phi(m)$\n",
    "\n",
    "contradicting the assumption that $\\text{ord}_m(a) = \\phi(m)$ is minimal."
   ]
  },
  {
   "cell_type": "markdown",
   "metadata": {},
   "source": [
    "$\n",
    "\\begin{aligned}\n",
    "a^t \\equiv 1 \\mod m && \\text{ord}_m(a) = t \\\\ \\hline\n",
    "1^t \\equiv 1 \\mod 7 && \\text{ord}_7(1) = 1 \\\\\n",
    "2^t \\equiv 1 \\mod 7 && \\text{ord}_7(2) = 3 \\\\\n",
    "3^t \\equiv 1 \\mod 7 && \\text{ord}_7(3) = 6 \\\\\n",
    "4^t \\equiv 1 \\mod 7 && \\text{ord}_7(4) = 3 \\\\\n",
    "5^t \\equiv 1 \\mod 7 && \\text{ord}_7(5) = 6 \\\\\n",
    "6^t \\equiv 1 \\mod 7 && \\text{ord}_7(6) = 2 \\\\\n",
    "\\end  {aligned}\n",
    "$\n",
    "\n",
    "There is one element of order $1$, one element of order $2$, two of order $3$, and two of order $6$.\n",
    "\n",
    "Is it a fluke that for each $d \\mid 6 = \\phi(7)$ the number of elements of order $d$ is $\\phi(d)$?"
   ]
  },
  {
   "cell_type": "markdown",
   "metadata": {},
   "source": [
    "---"
   ]
  },
  {
   "cell_type": "markdown",
   "metadata": {},
   "source": [
    "## Primitive Root"
   ]
  },
  {
   "cell_type": "markdown",
   "metadata": {},
   "source": [
    "<span style=\"color: #0096FF;\"><b>PRIMITIVE ROOT</b></span> [Vaughan Definition 4.5]\n",
    "\n",
    "<div style=\"color: #0096FF;\">\n",
    "\n",
    "Suppose that $m \\in \\mathbb{N}^+$ and that $\\gcd(a, m) = 1$.\n",
    "\n",
    "If $\\text{ord}_m(a) = \\phi(m)$ then we say that $a$ is a primitive root modulo $m$.\n",
    "</div>\n",
    "\n",
    "In other words, a primitive root of a prime $p$ is an integer $r$ s.t. every integer not divisible by $p$ is congruent to a power $r$ modulo $p$.\n",
    "\n",
    "We know that we do not always have primitive roots. For example, any number $a$ with $\\gcd(a, 8) = 1$ is odd and so $a^2 \\equiv 1 \\mod 8$ whereas $\\phi(8) = 4$."
   ]
  },
  {
   "cell_type": "markdown",
   "metadata": {},
   "source": [
    "There are primitive roots to some moduli. For example, modulo $7$ the powers of $3$ are successively $3, 2, 6, 4, 5, 1$.\n",
    "\n",
    "$\n",
    "\\begin{aligned}\n",
    "3^1 \\equiv 3 \\mod 7 \\\\\n",
    "3^2 \\equiv 2 \\mod 7 \\\\\n",
    "3^3 \\equiv 6 \\mod 7 \\\\\n",
    "3^4 \\equiv 4 \\mod 7 \\\\\n",
    "3^5 \\equiv 5 \\mod 7 \\\\\n",
    "3^6 \\equiv 1 \\mod 7 \\\\\n",
    "\\end  {aligned}\n",
    "$"
   ]
  },
  {
   "cell_type": "markdown",
   "metadata": {},
   "source": [
    "<fieldset style=\"border: 2px solid #0096FF; border-radius: 5px; display: inline-block; margin: 10px; padding: 15px 20px 0 20px;\">\n",
    "\n",
    "How to determine whether $a$ is a primitive root modulo $p$?\n",
    "\n",
    "For each $2 \\le a \\lt m$\n",
    "\n",
    "$a^d \\not\\equiv 1 \\mod p$ for all $d \\mid (p - 1)$ other than $d = p - 1$\n",
    "</fieldset>"
   ]
  },
  {
   "cell_type": "markdown",
   "metadata": {},
   "source": [
    "---"
   ]
  },
  {
   "cell_type": "markdown",
   "metadata": {},
   "source": [
    "## Primitive roots modulo a prime"
   ]
  },
  {
   "cell_type": "markdown",
   "metadata": {},
   "source": [
    "Gauss determined precisely which moduli possess primitive roots. The first step is the case of prime modulus.\n",
    "\n",
    "<span style=\"color: #0096FF;\"><b>THEOREM (GAUSS)</b></span> [Vaughan Theorem 4.6]\n",
    "\n",
    "<div style=\"color: #0096FF;\">\n",
    "\n",
    "Suppose that $p$ is prime and let $d \\mid (p - 1)$.\n",
    "\n",
    "Then there are $\\phi(d)$ residue classes $a$ with $\\text{ord}_p(a) = d$.\n",
    "\n",
    "In particular, there are $\\phi(p - 1) = \\phi(\\phi(p))$ primitive roots modulo $p$.\n",
    "</div>"
   ]
  },
  {
   "cell_type": "markdown",
   "metadata": {},
   "source": [
    "<span style=\"color: #0096FF;\"><b>PROOF</b></span>\n",
    "\n",
    "We have seen that the order of every reduced residue class modulo $p$ divides $p-1$.\n",
    "\n",
    "For a given $d \\mid (p - 1)$ let $\\psi(d)$ denote the number of reduced residues of order $d$ modulo $p$.\n",
    "\n",
    "The congruence $x^d \\equiv 1 \\mod p$ has exactly $d$ solutions.\n",
    "\n",
    "Thus every solution has order dividing $d$.\n",
    "\n",
    "Also each residue with order dividing $d$ is a solution.\n",
    "\n",
    "Thus for each $d \\mid (p - 1)$ we have\n",
    "\n",
    "$\n",
    "\\begin{aligned}\n",
    "\\sum_{r \\mid d} \\psi(r) = d \\\\\n",
    "\\end  {aligned}\n",
    "$\n",
    "\n",
    "This is reminiscent of an earlier formula\n",
    "\n",
    "$\n",
    "\\begin{aligned}\n",
    "\\sum_{r \\mid d} \\phi(r) = d \\\\\n",
    "\\end  {aligned}\n",
    "$\n",
    "\n",
    "Let $1 = d_1 \\lt d_2 \\lt \\dots \\lt d_k = p - 1$ be the divisors of $p-1$ in order.\n",
    "\n",
    "We have a relationship\n",
    "\n",
    "$\n",
    "\\begin{aligned}\n",
    "\\sum_{r \\mid d_j} \\psi(r) = d_j \\text{ for each } j = 1, 2, \\dotsc\n",
    "\\end  {aligned}\n",
    "$\n",
    "\n",
    "and of course the sum is over a subset of the divisors of $p - 1$. It is claimed that this determines $\\psi(d_j)$ uniquely. We can prove this by observing that if $N$ is the number of positive divisors of $p - 1$ then we have $N$ linear equations in the $N$ unknowns $\\psi(r)$ and we can write this in matrix notation\n",
    "\n",
    "$\\psi \\mathcal{U} = \\mathbf{d}$\n",
    "\n",
    "Moreover $\\mathcal{U}$ is an upper triangular matrix with nonzero entries on the diagonal and so is invertible.\n",
    "\n",
    "Hence the $\\psi(d_j)$ are uniquely determined.\n",
    "\n",
    "But we already know a solution, namely $\\psi = \\phi$.\n",
    "\n",
    "$\\blacksquare$"
   ]
  },
  {
   "cell_type": "markdown",
   "metadata": {},
   "source": [
    "If we wish to avoid the linear algebra, starting from\n",
    "\n",
    "$\n",
    "\\begin{aligned}\n",
    "\\sum_{r \\mid d_j} \\psi(r) = d_j \\text{ for each } j = 1, 2, \\dotsc \\\\\n",
    "\\end  {aligned}\n",
    "$\n",
    "\n",
    "we can prove uniqueness by induction on $r$.\n",
    "\n",
    "For the base case we have $\\psi(1) = 1$.\n",
    "\n",
    "Then suppose $\\psi(d_1), \\dotsc, \\psi(d_j)$ are determined. Then we have\n",
    "\n",
    "$\n",
    "\\begin{aligned}\n",
    "\\sum_{r \\mid d_{j+1}} \\psi(r) = d_{j+1} \\\\\n",
    "\\end  {aligned}\n",
    "$\n",
    "\n",
    "Hence\n",
    "\n",
    "$\n",
    "\\begin{aligned}\n",
    "\\psi(d_{j+1}) = d_{j+1} -\n",
    "\\underset{r \\lt d_{j+1}}{\\sum_{r \\mid d_{j+1}}} \\psi(r) \\\\\n",
    "\\end  {aligned}\n",
    "$\n",
    "\n",
    "and every term on the righthand side is already determined.\n",
    "\n",
    "Thus we can conclude that there is only one solution to our system of equations.\n",
    "\n",
    "But we already know this solution, namely $\\psi(r) = \\phi(r)$.\n",
    "\n",
    "$\\blacksquare$"
   ]
  },
  {
   "cell_type": "markdown",
   "metadata": {},
   "source": [
    "<span style=\"color: #50C878;\"><b>EXAMPLE</b></span>\n",
    "\n",
    "$p = 13$\n",
    "\n",
    "<div class=\"full-width\">\n",
    "\n",
    "$\n",
    "\\begin{pmatrix}\n",
    "\\underset{1}{\\psi(1)} & \\underset{1}{\\psi(2)} & \\underset{2}{\\psi(3)} & \\underset{2}{\\psi(4)} & \\underset{2}{\\psi(6)} & \\underset{4}{\\psi(12)} \\\\\n",
    "\\end  {pmatrix}\n",
    "\\begin{pmatrix}\n",
    "1 & 1 & 1 & 1 & 1 & 1 \\\\\n",
    "0 & 1 & 0 & 1 & 1 & 1 \\\\\n",
    "0 & 0 & 1 & 0 & 1 & 1 \\\\\n",
    "0 & 0 & 0 & 1 & 0 & 1 \\\\\n",
    "0 & 0 & 0 & 0 & 1 & 1 \\\\\n",
    "0 & 0 & 0 & 0 & 0 & 1 \\\\\n",
    "\\end  {pmatrix} =\n",
    "$\n",
    "\n",
    "$\n",
    "\\begin{pmatrix}\n",
    "\\underset{1}{\\psi(1)} &+&                     0 &+&                     0 &+&                     0 &+&                     0 &+&                      0 \\\\\n",
    "\\underset{1}{\\psi(1)} &+& \\underset{1}{\\psi(2)} &+&                     0 &+&                     0 &+&                     0 &+&                      0 \\\\\n",
    "\\underset{1}{\\psi(1)} &+&                     0 &+& \\underset{2}{\\psi(3)} &+&                     0 &+&                     0 &+&                      0 \\\\\n",
    "\\underset{1}{\\psi(1)} &+& \\underset{1}{\\psi(2)} &+&                     0 &+& \\underset{2}{\\psi(4)} &+&                     0 &+&                      0 \\\\\n",
    "\\underset{1}{\\psi(1)} &+& \\underset{1}{\\psi(2)} &+& \\underset{2}{\\psi(3)} &+&                     0 &+& \\underset{2}{\\psi(6)} &+&                      0 \\\\\n",
    "\\underset{1}{\\psi(1)} &+& \\underset{1}{\\psi(2)} &+& \\underset{2}{\\psi(3)} &+& \\underset{2}{\\psi(4)} &+& \\underset{2}{\\psi(6)} &+& \\underset{4}{\\psi(12)} \\\\\n",
    "\\end  {pmatrix}^\\top =\n",
    "\\begin{pmatrix}\n",
    "1 \\\\ 2 \\\\ 3 \\\\ 4 \\\\ 6 \\\\ 12 \\\\\n",
    "\\end  {pmatrix}^\\top\n",
    "$\n",
    "</div>"
   ]
  },
  {
   "cell_type": "markdown",
   "metadata": {},
   "source": [
    "---"
   ]
  },
  {
   "cell_type": "markdown",
   "metadata": {},
   "source": [
    "How about higher powers of odd primes?\n",
    "\n",
    "<span style=\"color: #0096FF;\"><b>THEOREM (GAUSS)</b></span> [Vaughan Theorem 4.8]\n",
    "\n",
    "<div style=\"color: #0096FF;\">\n",
    "\n",
    "We have primitive roots modulo $m$ when $m = 2$, $m = 4$, $m = p^k$, and $m = 2p^k$ with $p$ an odd prime, and in no other cases.\n",
    "</div>\n",
    "\n",
    "In applications one can usually reduce via the Chinese Remainder Theorem to powers of primes. Thus the lack of primitive roots for higher powers of $2$ is a nuisance. Nevertheless, Gauss did prove something."
   ]
  },
  {
   "cell_type": "markdown",
   "metadata": {},
   "source": [
    "<span style=\"color: #0096FF;\"><b>THEOREM (GAUSS)</b></span> [Vaughan Theorem 4.9]\n",
    "\n",
    "<div style=\"color: #0096FF;\">\n",
    "\n",
    "Suppose that $k \\ge 3$. Then the numbers $(-1)^u 5^v$ with $u = 0, 1$ and $0 \\le v \\lt 2^{k-2}$ form a set of reduced residues modulo $2^k$.\n",
    "</div>"
   ]
  },
  {
   "cell_type": "markdown",
   "metadata": {},
   "source": [
    "---\n",
    "---\n",
    "---"
   ]
  },
  {
   "cell_type": "markdown",
   "metadata": {},
   "source": [
    "## Examining some moduli"
   ]
  },
  {
   "cell_type": "code",
   "execution_count": 45,
   "metadata": {
    "tags": [
     "hide-input"
    ]
   },
   "outputs": [],
   "source": [
    "from collections import Counter\n",
    "\n",
    "def PR (p):\n",
    "  print(f\"{'a':>4} | {'ord(a)':>6} | {'  '.join([f'a^{i:>2}' for i in range(1, p)])}\")\n",
    "  print(f'-----+--------+-' + '-'*5*(p-1))\n",
    "  for a in range(1, p):\n",
    "    elems = [a**i%p for i in range(1, p)]\n",
    "    order    = len(Counter(elems).keys())\n",
    "    print(f\"{a:>4} | {order:>6} |   {'    '.join([f'{elem:>2}' for elem in elems])}\")"
   ]
  },
  {
   "cell_type": "markdown",
   "metadata": {},
   "source": [
    "---"
   ]
  },
  {
   "cell_type": "markdown",
   "metadata": {},
   "source": [
    "### $m = 2$"
   ]
  },
  {
   "cell_type": "markdown",
   "metadata": {},
   "source": [
    "<div style=\"color: red;\">\n",
    "\n",
    "The order of $1$ to any modulus $m \\gt 1$ is equal to $1$.\n",
    "\n",
    "$\n",
    "\\begin{aligned}\n",
    "1^t &\\equiv 1 \\mod m & \\text{ord}_m( 1) &= 1 \\\\\n",
    "\\end  {aligned}\n",
    "$\n",
    "</div>\n",
    "\n",
    "The order of any odd integer modulo $2$ is equal to $1$."
   ]
  },
  {
   "cell_type": "markdown",
   "metadata": {},
   "source": [
    "$\n",
    "\\begin{aligned}\n",
    "& \\text{Totatives}       &&& \\phi(2)       = 1 \\\\\n",
    "& \\text{Primitive Roots} &&& \\phi(\\phi(2)) = 1 \\\\\n",
    "\\end  {aligned}\n",
    "$\n",
    "\n",
    "$\n",
    "\\text{Complete System of Residues} \\\\\n",
    "\\begin{aligned}\n",
    "     a  &= \\{ mx + a \\} &&         \\\\ \\hline\n",
    "\\bar{0} &= \\{ 2x     \\} && \\text{} \\\\\n",
    "\\bar{1} &= \\{ 2x + 1 \\} && \\text{T, PR} \\\\\n",
    "\\end  {aligned}\n",
    "$\n",
    "\n",
    "$\n",
    "\\text{Reduced Residues} \\\\\n",
    "\\begin{aligned}\n",
    "a^t &\\equiv 1 \\mod m \\\\ \\hline\n",
    "(2x + 1) &\\equiv 1 \\mod 2 \\\\ \\hline\n",
    "1^t &\\equiv 1 \\mod 2 && \\text{ord}_2(1) = 1 \\\\\n",
    "3^t &\\equiv 1 \\mod 2 && \\text{ord}_2(3) = 1 \\\\\n",
    "5^t &\\equiv 1 \\mod 2 && \\text{ord}_2(5) = 1 \\\\\n",
    "7^t &\\equiv 1 \\mod 2 && \\text{ord}_2(7) = 1 \\\\ \\vdots\n",
    "\\end  {aligned}\n",
    "$"
   ]
  },
  {
   "cell_type": "code",
   "execution_count": 52,
   "metadata": {
    "tags": [
     "hide-input"
    ]
   },
   "outputs": [
    {
     "name": "stdout",
     "output_type": "stream",
     "text": [
      "   a | ord(a) | a^ 1\n",
      "-----+--------+------\n",
      "   1 |      1 |    1\n"
     ]
    }
   ],
   "source": [
    "PR(2)"
   ]
  },
  {
   "cell_type": "markdown",
   "metadata": {},
   "source": [
    "$\n",
    "\\begin{aligned}\n",
    "x   &\\equiv 1 \\mod 2 \\text{ has 1 solution } & x &= 1 \\\\\n",
    "\\end  {aligned}\n",
    "$"
   ]
  },
  {
   "cell_type": "code",
   "execution_count": 51,
   "metadata": {
    "tags": [
     "hide-input"
    ]
   },
   "outputs": [
    {
     "name": "stdout",
     "output_type": "stream",
     "text": [
      " 1 |  1\n"
     ]
    }
   ],
   "source": [
    "# take an element from the first row and raise it to the power d, the value is the result modulo m\n",
    "# thus, solutions are 1s\n",
    "m = 2\n",
    "for d in range(1,m):\n",
    "  print(f\"{d:>2} | {'  '.join([f'{x**d%m:>2}' for x in range(1,m)])}\")"
   ]
  },
  {
   "cell_type": "markdown",
   "metadata": {},
   "source": [
    "---"
   ]
  },
  {
   "cell_type": "markdown",
   "metadata": {},
   "source": [
    "### $m = 3$"
   ]
  },
  {
   "cell_type": "markdown",
   "metadata": {},
   "source": [
    "$\n",
    "\\begin{aligned}\n",
    "& \\text{Totatives}       &&& \\phi(3)       = 2 \\\\\n",
    "& \\text{Primitive Roots} &&& \\phi(\\phi(3)) = 1 \\\\\n",
    "\\end  {aligned}\n",
    "$\n",
    "\n",
    "$1 \\equiv 2^2 \\mod 3$\n",
    "\n",
    "$\n",
    "\\text{Complete System of Residues} \\\\\n",
    "\\begin{aligned}\n",
    "     a  &= \\{ mx + a \\}                 \\\\ \\hline\n",
    "\\bar{0} &= \\{ 3x     \\}                 \\\\\n",
    "\\bar{1} &= \\{ 3x + 1 \\} && \\text{T}     \\\\\n",
    "\\bar{2} &= \\{ 3x + 2 \\} && \\text{T, PR} \\\\\n",
    "\\end  {aligned}\n",
    "$\n",
    "\n",
    "$\n",
    "\\text{Reduced Residues} \\\\\n",
    "\\begin{aligned}\n",
    "a^t &\\equiv 1 \\mod m \\\\ \\hline\n",
    "(3x + 1)   &\\equiv 1 \\mod 3 && 1, 4, 7, 10, \\dotsc \\\\\n",
    "(3x + 2)^2 &\\equiv 1 \\mod 3 && 2, 5, 8, 11, \\dotsc \\\\ \\hline\n",
    " 1^t     &\\equiv 1 \\mod 3 & \\text{ord}_3( 1)    &= 1 \\\\\n",
    " 2^t     &\\equiv 1 \\mod 3 & \\text{ord}_3( 2)    &= 2 \\\\\n",
    " 4^t     &\\equiv 1 \\mod 3 & \\text{ord}_3( 4)    &= 1 \\\\\n",
    " 5^t     &\\equiv 1 \\mod 3 & \\text{ord}_3( 5)    &= 2 \\\\\n",
    " 7^t     &\\equiv 1 \\mod 3 & \\text{ord}_3( 7)    &= 1 \\\\\n",
    " 8^t     &\\equiv 1 \\mod 3 & \\text{ord}_3( 8)    &= 2 \\\\\n",
    "10^t     &\\equiv 1 \\mod 3 & \\text{ord}_3(10)    &= 1 \\\\\n",
    "11^t     &\\equiv 1 \\mod 3 & \\text{ord}_3(11)    &= 2 \\\\ \\vdots\n",
    "\\end  {aligned}\n",
    "$"
   ]
  },
  {
   "cell_type": "code",
   "execution_count": 46,
   "metadata": {},
   "outputs": [
    {
     "name": "stdout",
     "output_type": "stream",
     "text": [
      "   a | ord(a) | a^ 1  a^ 2\n",
      "-----+--------+-----------\n",
      "   1 |      1 |    1     1\n",
      "   2 |      2 |    2     1\n"
     ]
    }
   ],
   "source": [
    "PR(3)"
   ]
  },
  {
   "cell_type": "markdown",
   "metadata": {},
   "source": [
    "$\n",
    "\\begin{aligned}\n",
    "x   &\\equiv 1 \\mod 3 \\text{ has 1 solution } & x &= 1    \\\\\n",
    "x^2 &\\equiv 1 \\mod 3 \\text{ has 2 solutions} & x &= 1, 2 \\\\\n",
    "\\end  {aligned}\n",
    "$"
   ]
  },
  {
   "cell_type": "code",
   "execution_count": 50,
   "metadata": {},
   "outputs": [
    {
     "name": "stdout",
     "output_type": "stream",
     "text": [
      " 1 |  1   2\n",
      " 2 |  1   1\n"
     ]
    }
   ],
   "source": [
    "# take an element from the first row and raise it to the power d, the value is the result modulo m\n",
    "# thus, solutions are 1s\n",
    "m = 3\n",
    "for d in range(1,m):\n",
    "  print(f\"{d:>2} | {'  '.join([f'{x**d%m:>2}' for x in range(1,m)])}\")"
   ]
  },
  {
   "cell_type": "markdown",
   "metadata": {},
   "source": [
    "$\n",
    "\\begin{aligned}\n",
    "(3k + 2)^2\n",
    "&= 9k^2 + 12k + 4 = 9k^2 + 12k + 3 + 1 \\\\\n",
    "&= \\underbrace{3(3k^2 + 4k + 1) + 1}_{3k + 1} \\\\\n",
    "&\\equiv 1 \\mod 3 \\\\\n",
    "\\end  {aligned}\n",
    "$"
   ]
  },
  {
   "cell_type": "markdown",
   "metadata": {},
   "source": [
    "---"
   ]
  },
  {
   "cell_type": "markdown",
   "metadata": {},
   "source": [
    "### $m = 4$"
   ]
  },
  {
   "cell_type": "markdown",
   "metadata": {},
   "source": [
    "$\n",
    "\\begin{aligned}\n",
    "& \\text{Totatives}       &&& \\phi(4)       = 2 \\\\\n",
    "& \\text{Primitive Roots} &&&               = 1 \\\\\n",
    "\\end  {aligned}\n",
    "$\n",
    "\n",
    "$\n",
    "\\text{Complete System of Residues} \\\\\n",
    "\\begin{aligned}\n",
    "     a  &= \\{ mx + a \\}                 \\\\ \\hline\n",
    "\\bar{0} &= \\{ 4x     \\}                 \\\\\n",
    "\\bar{1} &= \\{ 4x + 1 \\} && \\text{T}     \\\\\n",
    "\\bar{2} &= \\{ 4x + 2 \\}                 \\\\\n",
    "\\bar{3} &= \\{ 4x + 3 \\} && \\text{T, PR} \\impliedby \\text{ord}_4(3) = \\phi(4) \\\\\n",
    "\\end  {aligned}\n",
    "$\n",
    "\n",
    "$\n",
    "\\text{Reduced Residues} \\\\\n",
    "\\begin{aligned}\n",
    "a^t &\\equiv 1 \\mod m \\\\ \\hline\n",
    "(4k+1)   &\\equiv 1 \\mod 4 && 1, 5,  9, 13, \\dotsc \\\\\n",
    "(4k+3)^2 &\\equiv 1 \\mod 4 && 3, 7, 11, 15, \\dotsc \\\\ \\hline\n",
    " 1^t     &\\equiv 1 \\mod 4 & \\text{ord}_4( 1)    &= 1 \\\\\n",
    " 3^t     &\\equiv 1 \\mod 4 & \\text{ord}_4( 3)    &= 2 \\\\\n",
    " 5^t     &\\equiv 1 \\mod 4 & \\text{ord}_4( 5)    &= 1 \\\\\n",
    " 7^t     &\\equiv 1 \\mod 4 & \\text{ord}_4( 7)    &= 2 \\\\\n",
    " 9^t     &\\equiv 1 \\mod 4 & \\text{ord}_4( 9)    &= 1 \\\\\n",
    "11^t     &\\equiv 1 \\mod 4 & \\text{ord}_4(11)    &= 2 \\\\\n",
    "13^t     &\\equiv 1 \\mod 4 & \\text{ord}_4(13)    &= 1 \\\\\n",
    "15^t     &\\equiv 1 \\mod 4 & \\text{ord}_4(15)    &= 2 \\\\ \\vdots\n",
    "\\end  {aligned}\n",
    "$"
   ]
  },
  {
   "cell_type": "markdown",
   "metadata": {},
   "source": [
    "$\n",
    "\\begin{aligned}\n",
    "(4k + 3)^2\n",
    "&= 16k^2 + 24k + 9 = 16k^2 + 24k + 8 + 1 \\\\\n",
    "&= \\underbrace{4(4k^2 + 6k + 2) + 1}_{4k + 1} \\\\\n",
    "&\\equiv 1 \\mod 4 \\\\\n",
    "\\end  {aligned}\n",
    "$"
   ]
  },
  {
   "cell_type": "markdown",
   "metadata": {},
   "source": [
    "---"
   ]
  },
  {
   "cell_type": "markdown",
   "metadata": {},
   "source": [
    "### $m = 5$"
   ]
  },
  {
   "cell_type": "markdown",
   "metadata": {},
   "source": [
    "$\n",
    "\\begin{aligned}\n",
    "& \\text{Totatives}       &&& \\phi(5)       = 4 \\\\\n",
    "& \\text{Primitive Roots} &&& \\phi(\\phi(5)) = 2 \\\\\n",
    "\\end  {aligned}\n",
    "$\n",
    "\n",
    "$1 \\equiv 2^4 \\equiv 3^4 \\equiv 4^2 \\mod 5$\n",
    "\n",
    "$\n",
    "\\text{Complete System of Residues} \\\\\n",
    "\\begin{aligned}\n",
    "     a  &= \\{ mx + a \\} \\\\ \\hline\n",
    "\\bar{0} &= \\{ 5x     \\} \\\\\n",
    "\\bar{1} &= \\{ 5x + 1 \\} && \\text{T} \\\\\n",
    "\\bar{2} &= \\{ 5x + 2 \\} && \\text{T, PR} \\\\\n",
    "\\bar{3} &= \\{ 5x + 3 \\} && \\text{T, PR} \\\\\n",
    "\\bar{4} &= \\{ 5x + 4 \\} && \\text{T} \\\\\n",
    "\\end  {aligned}\n",
    "$\n",
    "\n",
    "$\n",
    "\\text{Reduced Residues} \\\\\n",
    "\\begin{aligned}\n",
    "a^t &\\equiv 1 \\mod m \\\\ \\hline\n",
    "(5k + 1)   &\\equiv 1 \\mod 5 && 1, 6, 11, 16, \\dotsc \\\\\n",
    "(5k + 2)^4 &\\equiv 1 \\mod 5 && 2, 7, 12, 17, \\dotsc \\\\\n",
    "(5k + 3)^4 &\\equiv 1 \\mod 5 && 3, 8, 13, 18, \\dotsc \\\\\n",
    "(5k + 4)^2 &\\equiv 1 \\mod 5 && 4, 9, 14, 19, \\dotsc \\\\ \\hline\n",
    " 1^t     &\\equiv 1 \\mod 5 & \\text{ord}_5( 1)    &= 1 \\\\\n",
    " 2^t     &\\equiv 1 \\mod 5 & \\text{ord}_5( 2)    &= 4 \\\\\n",
    " 3^t     &\\equiv 1 \\mod 5 & \\text{ord}_5( 3)    &= 4 \\\\\n",
    " 4^t     &\\equiv 1 \\mod 5 & \\text{ord}_5( 4)    &= 2 \\\\\n",
    " 6^t     &\\equiv 1 \\mod 5 & \\text{ord}_5( 6)    &= 1 \\\\\n",
    " 7^t     &\\equiv 1 \\mod 5 & \\text{ord}_5( 7)    &= 4 \\\\\n",
    " 8^t     &\\equiv 1 \\mod 5 & \\text{ord}_5( 8)    &= 4 \\\\\n",
    " 9^t     &\\equiv 1 \\mod 5 & \\text{ord}_5( 9)    &= 2 \\\\ \\vdots\n",
    "\\end  {aligned}\n",
    "$"
   ]
  },
  {
   "cell_type": "code",
   "execution_count": 53,
   "metadata": {},
   "outputs": [
    {
     "name": "stdout",
     "output_type": "stream",
     "text": [
      "   a | ord(a) | a^ 1  a^ 2  a^ 3  a^ 4\n",
      "-----+--------+---------------------\n",
      "   1 |      1 |    1     1     1     1\n",
      "   2 |      4 |    2     4     3     1\n",
      "   3 |      4 |    3     4     2     1\n",
      "   4 |      2 |    4     1     4     1\n"
     ]
    }
   ],
   "source": [
    "PR(5)"
   ]
  },
  {
   "cell_type": "markdown",
   "metadata": {},
   "source": [
    "$\n",
    "\\begin{aligned}\n",
    "x   &\\equiv 1 \\mod 5 \\text{ has 1 solution } & x &= 1 \\\\\n",
    "x^2 &\\equiv 1 \\mod 5 \\text{ has 2 solutions} & x &= 1, 4 \\\\\n",
    "x^4 &\\equiv 1 \\mod 5 \\text{ has 4 solutions} & x &= 1, 2, 3, 4 \\\\\n",
    "\\end  {aligned}\n",
    "$"
   ]
  },
  {
   "cell_type": "code",
   "execution_count": 54,
   "metadata": {
    "tags": [
     "hide-input"
    ]
   },
   "outputs": [
    {
     "name": "stdout",
     "output_type": "stream",
     "text": [
      " 1 |  1   2   3   4\n",
      " 2 |  1   4   4   1\n",
      " 3 |  1   3   2   4\n",
      " 4 |  1   1   1   1\n"
     ]
    }
   ],
   "source": [
    "# take an element from the first row and raise it to the power d, the value is the result modulo m\n",
    "# thus, solutions are 1s\n",
    "m = 5\n",
    "for d in range(1,m):\n",
    "  print(f\"{d:>2} | {'  '.join([f'{x**d%m:>2}' for x in range(1,m)])}\")"
   ]
  },
  {
   "cell_type": "markdown",
   "metadata": {},
   "source": [
    "$\n",
    "\\begin{aligned}\n",
    "(5k + 4)^2\n",
    "&= 25k^2 + 40k + 16\n",
    " = 25k^2 + 40k + 15 + 1 \\\\\n",
    "&= \\underbrace{5(5k^2 + 8k + 3) + 1}_{5k + 1} \\\\\n",
    "(5k + 3)^4\n",
    "&= (25k^2 + 30k + 9)^2\n",
    " = (25k^2 + 30k + 5 + 4)^2 \\\\\n",
    "&= \\underbrace{(5(5k^2 + 6k + 1) + 4)^2}_{(5k + 4)^2} \\\\\n",
    "(5k + 2)^4\n",
    "&= (25k^2 + 20k + 4)^2 \\\\\n",
    "&= \\underbrace{(5(5k^2 + 4k) + 4)^2}_{(5k + 4)^2} \\\\\n",
    "&\\equiv 1 \\mod 5 \\\\\n",
    "\\end  {aligned}\n",
    "$"
   ]
  },
  {
   "cell_type": "markdown",
   "metadata": {},
   "source": [
    "---"
   ]
  },
  {
   "cell_type": "markdown",
   "metadata": {},
   "source": [
    "### $m = 6$"
   ]
  },
  {
   "cell_type": "markdown",
   "metadata": {},
   "source": [
    "$\n",
    "\\begin{aligned}\n",
    "& \\text{Modulus}         &&&           6   &= 2 \\times 3 \\\\\n",
    "& \\text{Totatives}       &&&      \\phi(6)  &= 2 & = \\phi(2 \\times 3) = \\phi(2)\\phi(3) = 1 \\times 2 \\\\\n",
    "& \\text{Primitive Roots} &&&               &= 1 & \\\\\n",
    "\\end  {aligned}\n",
    "$\n",
    "\n",
    "$\n",
    "\\text{\\underline{Complete System of Residues}} \\\\\n",
    "\\begin{aligned}\n",
    "     a  &= \\{ mx + a \\} \\\\ \\hline\n",
    "\\bar{0} &= \\{ 6x     \\} \\\\\n",
    "\\bar{1} &= \\{ 6x + 1 \\} && \\text{T} \\\\\n",
    "\\bar{2} &= \\{ 6x + 2 \\} \\\\\n",
    "\\bar{3} &= \\{ 6x + 3 \\} \\\\\n",
    "\\bar{4} &= \\{ 6x + 4 \\} \\\\\n",
    "\\bar{5} &= \\{ 6x + 5 \\} && \\text{T, PR} \\impliedby \\text{ord}_6(5) = \\phi(6) \\\\\n",
    "\\end  {aligned}\n",
    "$\n",
    "\n",
    "$\n",
    "\\text{\\underline{Reduced Residues}} \\\\\n",
    "\\begin{aligned}\n",
    "a^t &\\equiv 1 \\mod m \\\\ \\hline\n",
    "(6x + 1)   &\\equiv 1 \\mod 6 && 1,  7, 13, 19, \\dotsc \\\\\n",
    "(6x + 5)^2 &\\equiv 1 \\mod 6 && 5, 11, 17, 23, \\dotsc \\\\ \\hline\n",
    " 1^t     &\\equiv 1 \\mod 6 & \\text{ord}_6( 1)    &= 1 \\\\\n",
    " 5^t     &\\equiv 1 \\mod 6 & \\text{ord}_6( 5)    &= 2 \\\\\n",
    " 7^t     &\\equiv 1 \\mod 6 & \\text{ord}_6( 7)    &= 1 \\\\\n",
    "11^t     &\\equiv 1 \\mod 6 & \\text{ord}_6(11)    &= 2 \\\\\n",
    "13^t     &\\equiv 1 \\mod 6 & \\text{ord}_6(13)    &= 1 \\\\\n",
    "17^t     &\\equiv 1 \\mod 6 & \\text{ord}_6(17)    &= 2 \\\\\n",
    "19^t     &\\equiv 1 \\mod 6 & \\text{ord}_6(19)    &= 1 \\\\\n",
    "23^t     &\\equiv 1 \\mod 6 & \\text{ord}_6(23)    &= 2 \\\\ \\vdots\n",
    "\\end  {aligned}\n",
    "$"
   ]
  },
  {
   "cell_type": "markdown",
   "metadata": {},
   "source": [
    "$\n",
    "\\begin{aligned}\n",
    "(6k + 5)^2\n",
    "&= 36k^2 + 60k + 25\n",
    " = 36k^2 + 60k + 24 + 1 \\\\\n",
    "&= \\underbrace{6(6k^2 + 10k + 4) + 1}_{6k + 1} \\\\\n",
    "&\\equiv 1 \\mod 6\n",
    "\\end  {aligned}\n",
    "$"
   ]
  },
  {
   "cell_type": "markdown",
   "metadata": {},
   "source": [
    "---"
   ]
  },
  {
   "cell_type": "markdown",
   "metadata": {},
   "source": [
    "### $m = 7$"
   ]
  },
  {
   "cell_type": "markdown",
   "metadata": {},
   "source": [
    "$\n",
    "\\begin{aligned}\n",
    "& \\text{Modulus}         &&&           7       \\\\\n",
    "& \\text{Totatives}       &&&      \\phi(7)  = 6 \\\\\n",
    "& \\text{Primitive Roots} &&& \\phi(\\phi(7)) = 2 \\\\\n",
    "\\end  {aligned}\n",
    "$\n",
    "\n",
    "$1 \\equiv 2^3 \\equiv 3^6 \\equiv 4^3 \\equiv 5^6 \\equiv 6^2 \\mod 7$\n",
    "\n",
    "$\n",
    "\\text{Complete System of Residues} \\\\\n",
    "\\begin{aligned}\n",
    "     a  &= \\{ mx + a \\}  &                       &&& \\text{Reduced} && \\text{Order} &&&        a^t &\\equiv 1 \\mod m \\\\ \\hline\n",
    "\\bar{0} &= \\{ 7x     \\}  &                       &&&                &&              &&&                             \\\\\n",
    "\\bar{1} &= \\{ 7x + 1 \\} =& 1,  8, 15, 22, \\dotsc &&& \\text{T}       && 1            &&& (7x + 1)   &\\equiv 1 \\mod 7 \\\\\n",
    "\\bar{2} &= \\{ 7x + 2 \\} =& 2,  9, 16, 23, \\dotsc &&& \\text{T}       && 3            &&& (7x + 2)^3 &\\equiv 1 \\mod 7 \\\\\n",
    "\\bar{3} &= \\{ 7x + 3 \\} =& 3, 10, 17, 24, \\dotsc &&& \\text{T, PR}   && 6            &&& (7x + 3)^6 &\\equiv 1 \\mod 7 \\\\\n",
    "\\bar{4} &= \\{ 7x + 4 \\} =& 4, 11, 18, 25, \\dotsc &&& \\text{T}       && 3            &&& (7x + 4)^3 &\\equiv 1 \\mod 7 \\\\\n",
    "\\bar{5} &= \\{ 7x + 5 \\} =& 5, 12, 19, 26, \\dotsc &&& \\text{T, PR}   && 6            &&& (7x + 5)^6 &\\equiv 1 \\mod 7 \\\\\n",
    "\\bar{6} &= \\{ 7x + 6 \\} =& 6, 13, 20, 27, \\dotsc &&& \\text{T}       && 2            &&& (7x + 6)^2 &\\equiv 1 \\mod 7 \\\\ \\hline\n",
    "\\end  {aligned}\n",
    "$"
   ]
  },
  {
   "cell_type": "code",
   "execution_count": 56,
   "metadata": {},
   "outputs": [
    {
     "name": "stdout",
     "output_type": "stream",
     "text": [
      "   a | ord(a) | a^ 1  a^ 2  a^ 3  a^ 4  a^ 5  a^ 6\n",
      "-----+--------+-------------------------------\n",
      "   1 |      1 |    1     1     1     1     1     1\n",
      "   2 |      3 |    2     4     1     2     4     1\n",
      "   3 |      6 |    3     2     6     4     5     1\n",
      "   4 |      3 |    4     2     1     4     2     1\n",
      "   5 |      6 |    5     4     6     2     3     1\n",
      "   6 |      2 |    6     1     6     1     6     1\n"
     ]
    }
   ],
   "source": [
    "PR(7)"
   ]
  },
  {
   "cell_type": "markdown",
   "metadata": {},
   "source": [
    "$\n",
    "\\begin{aligned}\n",
    "x   &\\equiv 1 \\mod 7 \\text{ has 1 solution } & x &= 1 \\\\\n",
    "x^2 &\\equiv 1 \\mod 7 \\text{ has 2 solutions} & x &= 1, 6 \\\\\n",
    "x^3 &\\equiv 1 \\mod 7 \\text{ has 3 solutions} & x &= 1, 2, 4 \\\\\n",
    "x^6 &\\equiv 1 \\mod 7 \\text{ has 6 solutions} & x &= 1, 2, 3, 4, 5, 6 \\\\\n",
    "\\end  {aligned}\n",
    "$"
   ]
  },
  {
   "cell_type": "code",
   "execution_count": 55,
   "metadata": {
    "tags": [
     "hide-input"
    ]
   },
   "outputs": [
    {
     "name": "stdout",
     "output_type": "stream",
     "text": [
      " 1 |  1   2   3   4   5   6\n",
      " 2 |  1   4   2   2   4   1\n",
      " 3 |  1   1   6   1   6   6\n",
      " 4 |  1   2   4   4   2   1\n",
      " 5 |  1   4   5   2   3   6\n",
      " 6 |  1   1   1   1   1   1\n"
     ]
    }
   ],
   "source": [
    "# take an element from the first row and raise it to the power d, the value is the result modulo m\n",
    "# thus, solutions are 1s\n",
    "m = 7\n",
    "for d in range(1,m):\n",
    "  print(f\"{d:>2} | {'  '.join([f'{x**d%m:>2}' for x in range(1,m)])}\")"
   ]
  },
  {
   "cell_type": "markdown",
   "metadata": {},
   "source": [
    "$\n",
    "\\begin{aligned}\n",
    "(7k + 2)^3 &= (49k^2 + 28k +  4)(7k + 2) \\\\\n",
    "           &= (7\\underbrace{(7k^2 + 4k)}_k + 4)(7k + 2) \\\\\n",
    "           &= 49k^2 + 42k + 8 = 49k^2 + 42k + 7 + 1 \\\\\n",
    "           &= 7(\\underbrace{7k^2 + 6k + 1}_k) + 1 \\\\\n",
    "(7k + 3)^6 &= (49k^2 + 42k +  9)^3 = (49k^2 + 42k + 7 + 2)^3 \\\\\n",
    "           &= (7\\underbrace{(7k^2 + 6k + 1)}_k + 2)^3 \\\\\n",
    "(7k + 4)^3 &= (49k^2 + 56k + 16)(7k + 4) = (49k^2 + 56k + 14 + 2)(7k + 4) \\\\\n",
    "           &= (7(\\underbrace{7k^2 + 8k + 2}_k) + 2)(7k + 4) \\\\\n",
    "(7k + 5)^6 &= (49k^2 + 70k + 25)^3 = (49k^2 + 70k + 21 + 4)^3 \\\\\n",
    "           &= (7(\\underbrace{7k^2 + 10k + 3}_k) + 4)^3 \\\\\n",
    "(7k + 6)^2 &= 49k^2 + 84k + 36 = 49k^2 + 84k + 35 + 1 \\\\\n",
    "           &= 7\\underbrace{(7k^2 + 12k + 5)}_k + 1 \\\\\n",
    "\\end  {aligned}\n",
    "$"
   ]
  },
  {
   "cell_type": "markdown",
   "metadata": {},
   "source": [
    "---"
   ]
  },
  {
   "cell_type": "markdown",
   "metadata": {},
   "source": [
    "### $m = 8$"
   ]
  },
  {
   "cell_type": "markdown",
   "metadata": {},
   "source": [
    "$\n",
    "\\begin{aligned}\n",
    "& \\text{Modulus}         &&&      8  &= 2^3 \\\\\n",
    "& \\text{Totatives}       &&& \\phi(8) &= 4 \\\\\n",
    "& \\text{Primitive Roots} &&&         &= 0 \\\\\n",
    "\\end  {aligned}\n",
    "$\n",
    "\n",
    "$1 \\equiv 3^2 \\equiv 5^2 \\equiv 7^2 \\mod 8$\n",
    "\n",
    "$\n",
    "\\text{\\underline{Complete System of Residues}} \\\\\n",
    "\\begin{aligned}\n",
    "     a  &= \\{ mx + a \\} && \\text{Reduced} && \\text{Order } t &&&        a^t &\\equiv 1 \\mod m \\\\ \\hline\n",
    "\\bar{0} &= \\{ 8x     \\} &&                &&                 &&&                             \\\\\n",
    "\\bar{1} &= \\{ 8x + 1 \\} && \\text{T}       && 1               &&& (8x + 1)   &\\equiv 1 \\mod 8 \\\\\n",
    "\\bar{2} &= \\{ 8x + 2 \\} &&                &&                 &&&                             \\\\\n",
    "\\bar{3} &= \\{ 8x + 3 \\} && \\text{T}       && 2               &&& (8x + 3)^2 &\\equiv 1 \\mod 8 \\\\\n",
    "\\bar{4} &= \\{ 8x + 4 \\} &&                &&                 &&&                             \\\\\n",
    "\\bar{5} &= \\{ 8x + 5 \\} && \\text{T}       && 2               &&& (8x + 5)^2 &\\equiv 1 \\mod 8 \\\\\n",
    "\\bar{6} &= \\{ 8x + 6 \\} &&                &&                 &&&                             \\\\\n",
    "\\bar{7} &= \\{ 8x + 7 \\} && \\text{T}       && 2               &&& (8x + 7)^2 &\\equiv 1 \\mod 8 \\\\ \\hline\n",
    "\\end  {aligned}\n",
    "$"
   ]
  },
  {
   "cell_type": "markdown",
   "metadata": {},
   "source": [
    "---"
   ]
  },
  {
   "cell_type": "markdown",
   "metadata": {},
   "source": [
    "### $m = 11$"
   ]
  },
  {
   "cell_type": "markdown",
   "metadata": {},
   "source": [
    "$\n",
    "\\begin{aligned}\n",
    "& \\text{Modulus}         &                &   & 11 & \\\\\n",
    "& \\text{Totatives}       &      \\phi(11)  & = & 10 & \\\\\n",
    "& \\text{Primitive Roots} & \\phi(\\phi(11)) & = &  4 & = \\phi(2 \\times 5) = \\phi(2)\\phi(5) = 1 \\times 4 \\\\\n",
    "\\end  {aligned}\n",
    "$\n",
    "\n",
    "$1 \\equiv 2^{10} \\equiv 3^5 \\equiv 4^5 \\equiv 5^5 \\equiv 6^{10} \\equiv 7^{10} \\equiv 8^{10} \\equiv 9^5 \\equiv 10^2 \\mod 11$\n",
    "\n",
    "$\n",
    "\\text{Complete System of Residues} \\\\\n",
    "\\begin{aligned}\n",
    "      a  &= \\{ mx +  a \\} && \\text{Reduced} & \\text{Order} &&                                 a^t &\\equiv 1 \\mod m  \\\\ \\hline\n",
    "\\bar{ 0} &= \\{11x      \\} &&                &              &&                                                       \\\\\n",
    "\\bar{ 1} &= \\{11x +  1 \\} && \\text{T}       &            1 && (11x + \\phantom{1}1)\\phantom{^{15}} &\\equiv 1 \\mod 11 \\\\\n",
    "\\bar{ 2} &= \\{11x +  2 \\} && \\text{T, PR}   &           10 && (11x + \\phantom{1}2)^{10}           &\\equiv 1 \\mod 11 \\\\\n",
    "\\bar{ 3} &= \\{11x +  3 \\} && \\text{T}       &            5 && (11x + \\phantom{1}3)^{\\phantom{1}5} &\\equiv 1 \\mod 11 \\\\\n",
    "\\bar{ 4} &= \\{11x +  4 \\} && \\text{T}       &            5 && (11x + \\phantom{1}4)^{\\phantom{1}5} &\\equiv 1 \\mod 11 \\\\\n",
    "\\bar{ 5} &= \\{11x +  5 \\} && \\text{T}       &            5 && (11x + \\phantom{1}5)^{\\phantom{1}5} &\\equiv 1 \\mod 11 \\\\\n",
    "\\bar{ 6} &= \\{11x +  6 \\} && \\text{T, PR}   &           10 && (11x + \\phantom{1}6)^{10}           &\\equiv 1 \\mod 11 \\\\\n",
    "\\bar{ 7} &= \\{11x +  7 \\} && \\text{T, PR}   &           10 && (11x + \\phantom{1}7)^{10}           &\\equiv 1 \\mod 11 \\\\\n",
    "\\bar{ 8} &= \\{11x +  8 \\} && \\text{T, PR}   &           10 && (11x + \\phantom{1}8)^{10}           &\\equiv 1 \\mod 11 \\\\\n",
    "\\bar{ 9} &= \\{11x +  9 \\} && \\text{T}       &            5 && (11x + \\phantom{1}9)^{\\phantom{1}5} &\\equiv 1 \\mod 11 \\\\\n",
    "\\bar{10} &= \\{11x + 10 \\} && \\text{T}       &            2 && (11x + 10)^{\\phantom{1}2}           &\\equiv 1 \\mod 11 \\\\ \\hline\n",
    "\\end  {aligned}\n",
    "$"
   ]
  },
  {
   "cell_type": "markdown",
   "metadata": {},
   "source": [
    "$\n",
    "\\begin{aligned}\n",
    " 2 \\not\\equiv &&         2^2  && \\not\\equiv && \\underset{\\equiv 10}{2^5} & \\not\\equiv 1 \\mod 11 \\\\\n",
    " 3 \\not\\equiv &&         3^2  && \\not\\equiv &&               \\boxed{3^5} &     \\equiv 1 \\mod 11 \\\\\n",
    " 4 \\not\\equiv &&         4^2  && \\not\\equiv &&               \\boxed{4^5} &     \\equiv 1 \\mod 11 \\\\\n",
    " 5 \\not\\equiv &&         5^2  && \\not\\equiv &&               \\boxed{5^5} &     \\equiv 1 \\mod 11 \\\\\n",
    " 6 \\not\\equiv &&         6^2  && \\not\\equiv && \\underset{\\equiv 10}{6^5} & \\not\\equiv 1 \\mod 11 \\\\\n",
    " 7 \\not\\equiv &&         7^2  && \\not\\equiv && \\underset{\\equiv 10}{7^5} & \\not\\equiv 1 \\mod 11 \\\\\n",
    " 8 \\not\\equiv &&         8^2  && \\not\\equiv && \\underset{\\equiv 10}{8^5} & \\not\\equiv 1 \\mod 11 \\\\\n",
    " 9 \\not\\equiv &&         9^2  && \\not\\equiv &&               \\boxed{9^5} &     \\equiv 1 \\mod 11 \\\\\n",
    "10 \\not\\equiv && \\boxed{10^2} &&            &&                           &     \\equiv 1 \\mod 11 \\\\\n",
    "\\end  {aligned}\n",
    "$"
   ]
  },
  {
   "cell_type": "code",
   "execution_count": 47,
   "metadata": {},
   "outputs": [
    {
     "name": "stdout",
     "output_type": "stream",
     "text": [
      "   a | ord(a) | a^ 1  a^ 2  a^ 3  a^ 4  a^ 5  a^ 6  a^ 7  a^ 8  a^ 9  a^10\n",
      "-----+--------+---------------------------------------------------\n",
      "   1 |      1 |    1     1     1     1     1     1     1     1     1     1\n",
      "   2 |     10 |    2     4     8     5    10     9     7     3     6     1\n",
      "   3 |      5 |    3     9     5     4     1     3     9     5     4     1\n",
      "   4 |      5 |    4     5     9     3     1     4     5     9     3     1\n",
      "   5 |      5 |    5     3     4     9     1     5     3     4     9     1\n",
      "   6 |     10 |    6     3     7     9    10     5     8     4     2     1\n",
      "   7 |     10 |    7     5     2     3    10     4     6     9     8     1\n",
      "   8 |     10 |    8     9     6     4    10     3     2     5     7     1\n",
      "   9 |      5 |    9     4     3     5     1     9     4     3     5     1\n",
      "  10 |      2 |   10     1    10     1    10     1    10     1    10     1\n"
     ]
    }
   ],
   "source": [
    "PR(11)"
   ]
  },
  {
   "cell_type": "markdown",
   "metadata": {},
   "source": [
    "Solutions to congruences of the form $x^d \\equiv 1 \\mod p$\n",
    "\n",
    "$\n",
    "\\begin{aligned}\n",
    "x      & \\equiv 1 \\mod 11 && x = 1 \\\\\n",
    "x^2    & \\equiv 1 \\mod 11 && x = 1, 10 \\\\\n",
    "x^5    & \\equiv 1 \\mod 11 && x = 1, 3, 4, 5, 9 \\\\\n",
    "x^{10} & \\equiv 1 \\mod 11 && x = 1, 2, 3, 4, 5, 6, 7, 8, 9, 10 \\\\\n",
    "\\end  {aligned}\n",
    "$"
   ]
  },
  {
   "cell_type": "code",
   "execution_count": 48,
   "metadata": {},
   "outputs": [
    {
     "name": "stdout",
     "output_type": "stream",
     "text": [
      " 1 |  1   2   3   4   5   6   7   8   9  10\n",
      " 2 |  1   4   9   5   3   3   5   9   4   1\n",
      " 3 |  1   8   5   9   4   7   2   6   3  10\n",
      " 4 |  1   5   4   3   9   9   3   4   5   1\n",
      " 5 |  1  10   1   1   1  10  10  10   1  10\n",
      " 6 |  1   9   3   4   5   5   4   3   9   1\n",
      " 7 |  1   7   9   5   3   8   6   2   4  10\n",
      " 8 |  1   3   5   9   4   4   9   5   3   1\n",
      " 9 |  1   6   4   3   9   2   8   7   5  10\n",
      "10 |  1   1   1   1   1   1   1   1   1   1\n"
     ]
    }
   ],
   "source": [
    "# take an element from the first row and raise it to the power d, the value is the result modulo m\n",
    "# thus, solutions are 1s\n",
    "m = 11\n",
    "for d in range(1,m):\n",
    "  print(f\"{d:>2} | {'  '.join([f'{x**d%m:>2}' for x in range(1,m)])}\")"
   ]
  },
  {
   "cell_type": "markdown",
   "metadata": {},
   "source": [
    "---"
   ]
  },
  {
   "cell_type": "markdown",
   "metadata": {},
   "source": [
    "### $m = 13$"
   ]
  },
  {
   "cell_type": "markdown",
   "metadata": {},
   "source": [
    "$\n",
    "\\begin{aligned}\n",
    "\\phi( 1) = 1 \\text{ residue classes } a \\text{ modulo 13 with } \\text{ord}_{13}(a) & = &  1 \\\\\n",
    "\\phi( 2) = 1 \\text{ residue classes } a \\text{ modulo 13 with } \\text{ord}_{13}(a) & = &  2 \\\\\n",
    "\\phi( 3) = 2 \\text{ residue classes } a \\text{ modulo 13 with } \\text{ord}_{13}(a) & = &  3 \\\\\n",
    "\\phi( 4) = 2 \\text{ residue classes } a \\text{ modulo 13 with } \\text{ord}_{13}(a) & = &  4 \\\\\n",
    "\\phi( 6) = 2 \\text{ residue classes } a \\text{ modulo 13 with } \\text{ord}_{13}(a) & = &  6 \\\\\n",
    "\\phi(12) = 4 \\text{ residue classes } a \\text{ modulo 13 with } \\text{ord}_{13}(a) & = & 12 \\\\\n",
    "\\end  {aligned}\n",
    "$\n",
    "\n",
    "$1 \\equiv 2^{12} \\equiv 3^3 \\equiv 4^6 \\equiv 5^4 \\equiv 6^{12} \\equiv 7^{12} \\equiv 8^4 \\equiv 9^3 \\equiv 10^6 \\equiv 11^{12} \\equiv 12^2 \\mod 13$"
   ]
  },
  {
   "cell_type": "code",
   "execution_count": 57,
   "metadata": {
    "tags": [
     "hide-input"
    ]
   },
   "outputs": [
    {
     "name": "stdout",
     "output_type": "stream",
     "text": [
      "   a | ord(a) | a^ 1  a^ 2  a^ 3  a^ 4  a^ 5  a^ 6  a^ 7  a^ 8  a^ 9  a^10  a^11  a^12\n",
      "-----+--------+-------------------------------------------------------------\n",
      "   1 |      1 |    1     1     1     1     1     1     1     1     1     1     1     1\n",
      "   2 |     12 |    2     4     8     3     6    12    11     9     5    10     7     1\n",
      "   3 |      3 |    3     9     1     3     9     1     3     9     1     3     9     1\n",
      "   4 |      6 |    4     3    12     9    10     1     4     3    12     9    10     1\n",
      "   5 |      4 |    5    12     8     1     5    12     8     1     5    12     8     1\n",
      "   6 |     12 |    6    10     8     9     2    12     7     3     5     4    11     1\n",
      "   7 |     12 |    7    10     5     9    11    12     6     3     8     4     2     1\n",
      "   8 |      4 |    8    12     5     1     8    12     5     1     8    12     5     1\n",
      "   9 |      3 |    9     3     1     9     3     1     9     3     1     9     3     1\n",
      "  10 |      6 |   10     9    12     3     4     1    10     9    12     3     4     1\n",
      "  11 |     12 |   11     4     5     3     7    12     2     9     8    10     6     1\n",
      "  12 |      2 |   12     1    12     1    12     1    12     1    12     1    12     1\n"
     ]
    }
   ],
   "source": [
    "PR(13)"
   ]
  },
  {
   "cell_type": "markdown",
   "metadata": {},
   "source": [
    "---\n",
    "---\n",
    "---"
   ]
  },
  {
   "cell_type": "markdown",
   "metadata": {},
   "source": [
    "## Discrete Logarithms"
   ]
  },
  {
   "cell_type": "markdown",
   "metadata": {},
   "source": [
    "As an application of primitive roots we can say something when $p$ is odd about the solution of congruences of the form\n",
    "\n",
    "$x^k \\equiv a \\mod p$\n",
    "\n",
    "The case $a = 0$ is easy. The only solution is\n",
    "\n",
    "$x \\equiv 0 \\mod p$\n",
    "\n",
    "(Remember that $p \\mid x^k \\implies p \\mid x$)\n",
    "\n",
    "Suppose $a \\not\\equiv 0 \\mod p$.\n",
    "\n",
    "(i.e. $p \\nmid a$)\n",
    "\n",
    "Then pick a primitive root $g$ modulo $p$, and a $c$ so that $g^c \\equiv a \\mod p$.\n",
    "\n",
    "$p \\mid (g^{p-1} - 1) \\implies pk = g^{p-1} - 1$\n",
    "\n",
    "$p \\mid (g^c - a) \\implies pk' = g^c - a$\n",
    "\n",
    "<div style=\"color: red;\">\n",
    "\n",
    "Also, since any solution $x$ will have $p \\nmid x$\n",
    "\n",
    "$p \\mid (x^k - a) \\land p \\nmid a \\implies p \\nmid x$\n",
    "</div>\n",
    "\n",
    "we can define $y$ so that $g^y \\equiv x \\mod p$.\n",
    "\n",
    "$\n",
    "\\begin{aligned}\n",
    "g^{p-1} &\\equiv 1            & \\mod p \\\\\n",
    "g^c     &\\equiv x^k \\equiv a & \\mod p \\\\\n",
    "g^y     &\\equiv x            & \\mod p &&& \\text{definition} \\\\\n",
    "(g^y)^k &\\equiv x^k          & \\mod p &&& \\text{raise to the k-th power} \\\\\n",
    "\\end  {aligned}\n",
    "$\n",
    "\n",
    "Thus our congruence becomes\n",
    "\n",
    "$g^{ky} \\equiv g^c \\mod p$.\n",
    "\n",
    "<div style=\"color: red;\">\n",
    "\n",
    "Hence it follows that\n",
    "\n",
    "$ky \\equiv c \\mod p - 1$\n",
    "</div>\n",
    "\n",
    "We have turned a polynomial congruence into a linear one. This is a bit like using logarithms on real numbers.\n",
    "\n",
    "The exponents $c$ and $y$ are called the discrete logarithms modulo $p$ to the base $g$. Computing them numerically is hard and there is a protocol called Diffie-Hellman which uses them to exchange secure keys and passwords.\n",
    "\n",
    "<div style=\"color: red;\">\n",
    "\n",
    "Our new congruence is soluble iff\n",
    "\n",
    "$(p - 1) \\mid (ky - c) \\implies (p - 1)k' = ky - c$\n",
    "\n",
    "$\\gcd(k, p - 1) \\mid c$\n",
    "</div>\n",
    "\n",
    "and when this holds the $y$ which satisfy it lie in a residue class modulo $\\frac{p - 1}{\\gcd(k, p - 1)}$. In other words, $\\gcd(k, p - 1)$ residue classes modulo $p - 1$.\n",
    "\n",
    "Thus when $a \\not\\equiv 0 \\mod p$ the original congruence is either insoluble or has $\\gcd(k, p - 1)$ solutions."
   ]
  },
  {
   "cell_type": "markdown",
   "metadata": {},
   "source": [
    "<span style=\"color: #50C878;\"><b>EXAMPLE</b></span>\n",
    "\n",
    "Find a primitive root modulo $11$ and construct a table of discrete logarithms.\n",
    "\n",
    "Table of powers of $g$ modulo $11$.\n",
    "\n",
    "$\n",
    "\\begin{array}{lrrrrrrrrrr}\n",
    "           y & 1 & 2 & 3 & 4 &  5 & 6 & 7 & 8 & 9 & 10 \\\\ \\hline\n",
    "x \\equiv 2^y & 2 & 4 & 8 & 5 & 10 & 9 & 7 & 3 & 6 &  1 \\\\\n",
    "x \\equiv 6^y & 6 & 3 & 7 & 9 & 10 & 5 & 8 & 4 & 2 &  1 \\\\\n",
    "x \\equiv 7^y & 7 & 5 & 2 & 3 & 10 & 4 & 6 & 9 & 8 &  1 \\\\\n",
    "x \\equiv 8^y & 8 & 9 & 6 & 4 & 10 & 3 & 2 & 5 & 7 &  1 \\\\\n",
    "\\end  {array}\n",
    "$\n",
    "\n",
    "Inverse tables\n",
    "\n",
    "$\n",
    "\\begin{array}{lrrrrrrrrrr}\n",
    "                        x &  1 & 2 & 3 & 4 & 5 & 6 & 7 & 8 & 9 & 10 \\\\ \\hline\n",
    "y \\equiv \\text{dlog}_2(x) & 10 & 1 & 8 & 2 & 4 & 9 & 7 & 3 & 6 &  5 \\\\ \\hline \\hline \\\\\n",
    "                        x &  1 & 2 & 3 & 4 & 5 & 6 & 7 & 8 & 9 & 10 \\\\ \\hline\n",
    "y \\equiv \\text{dlog}_6(x) & 10 & 9 & 2 & 8 & 6 & 1 & 3 & 7 & 4 &  5 \\\\ \\hline \\hline \\\\\n",
    "                        x &  1 & 2 & 3 & 4 & 5 & 6 & 7 & 8 & 9 & 10 \\\\ \\hline\n",
    "y \\equiv \\text{dlog}_7(x) & 10 & 3 & 4 & 6 & 2 & 7 & 1 & 9 & 8 &  5 \\\\ \\hline \\hline \\\\\n",
    "                        x &  1 & 2 & 3 & 4 & 5 & 6 & 7 & 8 & 9 & 10 \\\\ \\hline\n",
    "y \\equiv \\text{dlog}_8(x) & 10 & 7 & 6 & 4 & 8 & 3 & 9 & 1 & 2 &  5 \\\\\n",
    "\\end  {array}\n",
    "$\n",
    "\n",
    "Note that while $x$ is a residue modulo $p$, $y$ is a resiude modulo $p - 1$.\n",
    "\n",
    "$y$ is the order, or exponent, to which $g$ has to be raised to give $x$ modulo $p$. In other words\n",
    "\n",
    "$x \\equiv g^{\\text{dlog}_g(x)} \\mod p$\n",
    "\n",
    "We can use this to solve congruences."
   ]
  },
  {
   "cell_type": "markdown",
   "metadata": {},
   "source": [
    "---"
   ]
  },
  {
   "cell_type": "markdown",
   "metadata": {},
   "source": [
    "The following theorem was just proved above.\n",
    "\n",
    "<span style=\"color: #0096FF;\"><b>THEOREM</b></span> [Vaughan Theorem 4.10]\n",
    "\n",
    "<div style=\"color: #0096FF;\">\n",
    "\n",
    "Suppose $p$ is an odd prime. When $p \\nmid a$ the congruence\n",
    "\n",
    "$x^k \\equiv a \\mod p$\n",
    "\n",
    "has $0$ or $\\gcd(k, p - 1)$ solutions, and the number of reduced residues $a$ modulo $p$ for which it is soluble is\n",
    "\n",
    "$\n",
    "\\begin{aligned}\n",
    "\\frac{p - 1}{\\gcd(k, p - 1)}\n",
    "\\end  {aligned}\n",
    "$\n",
    "</div>"
   ]
  },
  {
   "cell_type": "markdown",
   "metadata": {},
   "source": [
    "The previous theorem suggests the following.\n",
    "\n",
    "<span style=\"color: #0096FF;\"><b>DISCRETE LOGARITHM</b></span> [Vaughan Definition 4.11]\n",
    "\n",
    "<div style=\"color: #0096FF;\">\n",
    "\n",
    "Given a primitive root $g$ and a reduced residue class $a$ modulo $m$ we define the discrete logarithm\n",
    "\n",
    "$\\text{dlog}_g(a)$\n",
    "\n",
    "or index $\\text{ind}_g(a)$ to be that unique residue class $\\ell$ modulo $\\phi(m)$ such that\n",
    "\n",
    "$g^\\ell \\equiv a \\mod m$\n",
    "</div>\n",
    "\n",
    "The notation $\\text{ind}_g(a)$ is more commonly used, but $\\text{dlog}_g(a)$ seems more natural."
   ]
  },
  {
   "cell_type": "markdown",
   "metadata": {},
   "source": [
    "---\n",
    "---\n",
    "---"
   ]
  },
  {
   "cell_type": "markdown",
   "metadata": {},
   "source": [
    "## Acknowledgements"
   ]
  },
  {
   "cell_type": "markdown",
   "metadata": {},
   "source": [
    "`2023` Vaughan, Robert. _A Course of Elementary Number Theory_."
   ]
  },
  {
   "cell_type": "markdown",
   "metadata": {},
   "source": [
    "---\n",
    "---\n",
    "---"
   ]
  }
 ],
 "metadata": {
  "kernelspec": {
   "display_name": "ml",
   "language": "python",
   "name": "python3"
  },
  "language_info": {
   "codemirror_mode": {
    "name": "ipython",
    "version": 3
   },
   "file_extension": ".py",
   "mimetype": "text/x-python",
   "name": "python",
   "nbconvert_exporter": "python",
   "pygments_lexer": "ipython3",
   "version": "3.11.9"
  }
 },
 "nbformat": 4,
 "nbformat_minor": 2
}
