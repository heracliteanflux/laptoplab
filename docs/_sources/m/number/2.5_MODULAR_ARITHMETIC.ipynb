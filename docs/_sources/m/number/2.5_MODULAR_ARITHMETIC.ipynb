{
 "cells": [
  {
   "cell_type": "markdown",
   "metadata": {},
   "source": [
    "# Modular Arithmetic\n",
    "```{contents}\n",
    "```"
   ]
  },
  {
   "cell_type": "markdown",
   "metadata": {},
   "source": [
    "---\n",
    "---\n",
    "---"
   ]
  },
  {
   "cell_type": "markdown",
   "metadata": {},
   "source": [
    "Modular arithmetic operates with the remainders of integers when they are divided by a fixed positive integer called the modulus.\n",
    "For the applications such as primality testing and cryptography it is necessary to deal with numbers which are much larger than 32 bits but whose range is nonetheless limited. Modular arithmetic is a system for dealing with restricted ranges of integers.\n",
    "\n",
    "Ways to think about modular arithmetic:\n",
    "\n",
    "Modular arithmetic limits numbers to a predefined range $\\{ 0, 1, \\dotsc, m - 1 \\}$ and wraps around whenever you try to leave this range.\n",
    "\n",
    "Modular arithmetic deals with all the integers but partitions them into $m$ equivalence classes each of the form $\\{ i + kN : k \\in \\mathbb{Z} \\}$ for some $i$ between $0$ and $N - 1$"
   ]
  },
  {
   "cell_type": "markdown",
   "metadata": {},
   "source": [
    "---\n",
    "---\n",
    "---"
   ]
  },
  {
   "cell_type": "markdown",
   "metadata": {},
   "source": [
    "## Congruence"
   ]
  },
  {
   "cell_type": "markdown",
   "metadata": {},
   "source": [
    "---"
   ]
  },
  {
   "cell_type": "markdown",
   "metadata": {},
   "source": [
    "### The congruence relation"
   ]
  },
  {
   "cell_type": "markdown",
   "metadata": {},
   "source": [
    "<fieldset style=\"border: 0.5px solid #0096FF; border-radius: 5px; margin: 0px 0px 15px 0px; padding: 15px 20px 10px 20px;\">\n",
    "\n",
    "<span style=\"color: #0096FF;\"><b>CONGRUENCE RELATION</b></span>\n",
    "\n",
    "<div class=\"full-width\" style=\"color: #0096FF;\">\n",
    "\n",
    "If $a$ and $b$ are integers and $m$ is a positive integer then $a$ _is congruent to_ $b$ _modulo_ $m$ if $m$ divides $a - b$.\n",
    "\n",
    "$\n",
    "\\begin{aligned}\n",
    "a \\equiv b \\mod m & \\quad \\iff \\quad m \\mid (a - b)       && \\quad \\iff \\quad \\exists k \\in \\mathbb{Z} \\quad a = km + b \\\\\n",
    "a \\equiv 0 \\mod m & \\quad \\iff \\quad m \\mid \\phantom{(} a && \\quad \\iff \\quad \\exists k \\in \\mathbb{Z} \\quad a = km \\\\\n",
    "a \\equiv 1 \\mod m & \\quad \\iff \\quad m \\mid (a - 1)       && \\quad \\iff \\quad \\exists k \\in \\mathbb{Z} \\quad a = km + 1 \\\\\n",
    "\\end  {aligned}\n",
    "$\n",
    "\n",
    "We say that $a \\equiv b \\mod m$ is a _congruence_ and that $m$ is its _modulus_.\n",
    "\n",
    "</div>\n",
    "\n",
    "<i>\n",
    "\n",
    "Alternative statements of the claim.\n",
    "\n",
    "Let $m \\in \\mathbb{N}$. If two integers $a$ and $b$ satisfy $m \\mid a - b$ then...\n",
    "\n",
    "Let $m \\gt 0$ be a positive integer called the <b>modulus</b>. We say that two integers $a$ and $b$ are congruent modulo $m$ if $a - b$ is divisible by $m$.\n",
    "</i>\n",
    "</fieldset>"
   ]
  },
  {
   "cell_type": "markdown",
   "metadata": {},
   "source": [
    "<fieldset style=\"border: 0.5px solid #50C878; border-radius: 5px; margin: 0px 0px 15px 0px; padding: 15px 20px 10px 20px;\">\n",
    "\n",
    "<span style=\"color: #50C878;\"><b>Example</b></span>\n",
    "\n",
    "<div class=\"full-width\" style=\"color: #50C878;\">\n",
    "\n",
    "$253 \\equiv 13 \\,(\\text{mod } 60)$ because $253 - 13$ is a multiple of $60$. ($253$ minutes is $4$ hours and $13$ minutes.)\n",
    "\n",
    "$59 \\equiv -1 \\,(\\text{mod } 60)$ because $59 - (-1)$ is a multiple of $60$. (When it's $59$ minutes past the hour it's also one minute short of the next hour.)\n",
    "</div>\n",
    "</fieldset>"
   ]
  },
  {
   "cell_type": "markdown",
   "metadata": {},
   "source": [
    "---"
   ]
  },
  {
   "cell_type": "markdown",
   "metadata": {},
   "source": [
    "### $a = b \\textbf{ mod } m$ versus $a \\equiv b \\mod m$"
   ]
  },
  {
   "cell_type": "markdown",
   "metadata": {},
   "source": [
    "<fieldset style=\"border: 0.5px solid #0096FF; border-radius: 5px; margin: 0px 0px 15px 0px; padding: 15px 20px 10px 20px;\">\n",
    "\n",
    "<div class=\"full-width\" style=\"color: #0096FF;\">\n",
    "\n",
    "Let $a$ and $b$ be integers and $m$ be a positive integer. Then\n",
    "\n",
    "$a \\equiv b \\mod m$ iff $a \\textbf{ mod } m = b \\textbf{ mod } m$\n",
    "\n",
    "(\"a and b are congruent modulo m iff a and b have the same remainder when divided by m\")\n",
    "\n",
    "</div>\n",
    "\n",
    "$a \\equiv b \\mod m$ is an equivalence relation on the set of integers with many solutions for $a$ while $a = f(b, m) = b \\textbf{ mod } m$ is an equality, and moreover a function.\n",
    "\n",
    "$b \\textbf{ mod } m$ denotes the smallest positive integer $a$ such that $a \\equiv b \\mod m$.\n",
    "\n",
    "In other words, $b \\textbf{ mod } m$ is the remainder when $b$ is divided by $m$ as many times as possible. Since $0 \\lt b \\textbf{ mod } m \\lt m$ it is convention to take $a = b \\textbf{ mod } m$ as the representative of the class of numbers $a \\equiv b \\mod m$.\n",
    "\n",
    "</fieldset>"
   ]
  },
  {
   "cell_type": "markdown",
   "metadata": {},
   "source": [
    "---"
   ]
  },
  {
   "cell_type": "markdown",
   "metadata": {},
   "source": [
    "### Properties"
   ]
  },
  {
   "cell_type": "markdown",
   "metadata": {},
   "source": [
    "<fieldset style=\"border: 0.5px solid #0096FF; border-radius: 5px; margin: 0px 0px 15px 0px; padding: 15px 20px 10px 20px;\">\n",
    "\n",
    "<span style=\"color: #0096FF;\"><b>EQUIVALENCE RELATION</b></span>\n",
    "\n",
    "<div class=\"full-width\" style=\"color: #0096FF;\">\n",
    "\n",
    "The congruence relation satisfies the properties of an equivalence relation:\n",
    "\n",
    "Reflexivity\n",
    "\n",
    "$x \\equiv x \\mod m$\n",
    "\n",
    "Symmetry\n",
    "\n",
    "$x \\equiv y \\mod m \\quad \\iff \\quad y \\equiv x \\mod m$\n",
    "\n",
    "Transitivity\n",
    "\n",
    "If $x \\equiv y \\mod m$ and $y \\equiv z \\mod m$ then $x \\equiv z \\mod m$.\n",
    "\n",
    "</div>\n",
    "</fieldset>"
   ]
  },
  {
   "cell_type": "markdown",
   "metadata": {},
   "source": [
    "<fieldset style=\"border: 0.5px solid #0096FF; border-radius: 5px; margin: 0px 0px 15px 0px; padding: 15px 20px 10px 20px;\">\n",
    "\n",
    "<span style=\"color: #0096FF;\"><b>SUM RULE</b></span>\n",
    "\n",
    "<div class=\"full-width\" style=\"color: #0096FF;\">\n",
    "\n",
    "Sums preserve congruences.\n",
    "\n",
    "If $x \\equiv y \\mod m$ and $z \\equiv t \\mod m$ then $x + z \\equiv y + t \\mod m$.\n",
    "\n",
    "</div>\n",
    "\n",
    "It follows that if\n",
    "\n",
    "$a \\equiv b \\mod m$\n",
    "\n",
    "then\n",
    "\n",
    "$a + c \\equiv b + c \\mod m$\n",
    "\n",
    "</fieldset>"
   ]
  },
  {
   "cell_type": "markdown",
   "metadata": {},
   "source": [
    "$\n",
    "\\begin{aligned}\n",
    "n \\mid (a - b) \\quad & \\iff \\quad nk = a - b \\\\\n",
    "               \\quad & \\iff \\quad a \\equiv b \\mod n \\\\\n",
    "n \\mid (a - b) \\quad & \\iff \\quad n \\mid (a \\pm c - (b \\pm c)) \\\\\n",
    "               \\quad & \\iff \\quad nk = a \\pm c - (b \\pm c) \\\\\n",
    "               \\quad & \\iff \\quad a \\pm c \\equiv b \\pm c \\mod n \\\\\n",
    "n \\mid (a - b) \\quad & \\iff \\quad n (k/c) = a - b \\\\\n",
    "               \\quad & \\iff \\quad nk = ca - cb \\\\\n",
    "               \\quad & \\iff \\quad ca \\equiv cb \\mod n \\\\\n",
    "\\end  {aligned}\n",
    "$"
   ]
  },
  {
   "cell_type": "markdown",
   "metadata": {},
   "source": [
    "<fieldset style=\"border: 0.5px solid #0096FF; border-radius: 5px; margin: 0px 0px 15px 0px; padding: 15px 20px 10px 20px;\">\n",
    "\n",
    "<span style=\"color: #0096FF;\"><b>PRODUCT RULE</b></span>\n",
    "\n",
    "<div class=\"full-width\" style=\"color: #0096FF;\">\n",
    "\n",
    "Products preserve congruences.\n",
    "\n",
    "If $x \\equiv y \\mod m$ and $z \\equiv t \\mod m$ then $xz \\equiv yt \\mod m$.\n",
    "\n",
    "If $x \\equiv y \\mod m$ then for any $n \\in \\mathbb{N}$ it is the case that $x^n \\equiv y^n \\mod m$ (using induction on $n$).\n",
    "\n",
    "</div>\n",
    "</fieldset>"
   ]
  },
  {
   "cell_type": "markdown",
   "metadata": {},
   "source": [
    "<fieldset style=\"border: 0.5px solid #50C878; border-radius: 5px; margin: 0px 0px 15px 0px; padding: 15px 20px 10px 20px;\">\n",
    "\n",
    "<span style=\"color: #50C878;\"><b>Example</b></span>\n",
    "\n",
    "<div class=\"full-width\" style=\"color: #50C878;\">\n",
    "\n",
    "$\n",
    "\\begin{aligned}\n",
    "5^4 \\equiv 5.5.5.5 \\equiv 2.2.2.2 \\equiv 2^4 \\equiv 2^2 2^2 \\equiv 1.1 \\equiv 1 \\mod 3\n",
    "\\end  {aligned}\n",
    "$\n",
    "</div>\n",
    "</fieldset>"
   ]
  },
  {
   "cell_type": "markdown",
   "metadata": {},
   "source": [
    "<fieldset style=\"border: 0.5px solid #0096FF; border-radius: 5px; margin: 0px 0px 15px 0px; padding: 15px 20px 10px 20px;\">\n",
    "\n",
    "<span style=\"color: #0096FF;\"><b>\"POLYNOMIAL RULE\"</b></span>\n",
    "\n",
    "<div class=\"full-width\" style=\"color: #0096FF;\">\n",
    "\n",
    "As a consequence of the sum and product rules it follows that\n",
    "\n",
    "If $f$ is a polynomial with integer coefficients and $x \\equiv y \\mod m$ then $f(x) \\equiv f(y) \\mod m$.\n",
    "\n",
    "(since polynomials are just sums of products)\n",
    "\n",
    "</div>\n",
    "</fieldset>"
   ]
  },
  {
   "cell_type": "markdown",
   "metadata": {},
   "source": [
    "<fieldset style=\"border: 0.5px solid #50C878; border-radius: 5px; margin: 0px 0px 15px 0px; padding: 15px 20px 10px 20px;\">\n",
    "\n",
    "<div class=\"full-width\" style=\"color: #50C878;\">\n",
    "\n",
    "Thus while performing a sequence of arithmetic operations it is legal to reduce intermediate results to their remainders modulo $m$ at any stage:\n",
    "\n",
    "$2^{345} \\equiv (2^5)^{69} \\equiv 32^{69} \\equiv 1^{69} \\equiv 1 \\quad(\\text{mod } 31)$\n",
    "</div>\n",
    "</fieldset>"
   ]
  },
  {
   "cell_type": "markdown",
   "metadata": {},
   "source": [
    "---"
   ]
  },
  {
   "cell_type": "markdown",
   "metadata": {},
   "source": [
    "Congruences modulo $m$ partition the integers into $m$ equivalence or residue classes."
   ]
  },
  {
   "cell_type": "markdown",
   "metadata": {},
   "source": [
    "---\n",
    "---\n",
    "---"
   ]
  },
  {
   "cell_type": "markdown",
   "metadata": {},
   "source": [
    "## Modular Arithmetic"
   ]
  },
  {
   "cell_type": "markdown",
   "metadata": {},
   "source": [
    "---"
   ]
  },
  {
   "cell_type": "markdown",
   "metadata": {},
   "source": [
    "<fieldset style=\"border: 0.5px solid #0096FF; border-radius: 5px; margin: 0px 0px 15px 0px; padding: 15px 20px 10px 20px;\">\n",
    "\n",
    "<span style=\"color: #0096FF;\"><b></b></span>\n",
    "\n",
    "<div class=\"full-width\" style=\"color: #0096FF;\">\n",
    "\n",
    "**Associativity**\n",
    "\n",
    "$x + (y + z) \\equiv (x + y) + z \\quad(\\text{mod } N)$\n",
    "\n",
    "**Commutativity**\n",
    "\n",
    "$xy \\equiv yz \\quad(\\text{mod } N)$\n",
    "\n",
    "**Distributivity**\n",
    "\n",
    "$x(y + z) \\equiv xy + xz \\quad(\\text{mod } N)$\n",
    "\n",
    "</div>\n",
    "</fieldset>"
   ]
  },
  {
   "cell_type": "markdown",
   "metadata": {},
   "source": [
    "### Modular Addition"
   ]
  },
  {
   "cell_type": "markdown",
   "metadata": {},
   "source": [
    "To add two numbers $x$ and $y$ modulo $N$ we start with regular addition. $x$ and $y$ are each in the range $0$ to $N - 1$ so their sum is in the range $0$ to $2(N - 1)$. When the sum exceeds $N - 1$ we subtract $N$ so that it falls back into the range $0$ to $N - 1$. The overall computations consists of an addition and a possible subtraction of numbers which never exceed $2N$.\n",
    "\n",
    "$T(n) = O(n)$ where $n = \\lceil \\log N \\rceil$"
   ]
  },
  {
   "cell_type": "markdown",
   "metadata": {},
   "source": [
    "---"
   ]
  },
  {
   "cell_type": "markdown",
   "metadata": {},
   "source": [
    "### Modular Multiplication"
   ]
  },
  {
   "cell_type": "markdown",
   "metadata": {},
   "source": [
    "To multiply two numbers $x$ and $y$ modulo $N$, we start with regular multiplication and then reduce the answer modulo $N$. The product can be as large as $(N - 1)^2$ but this is still at most $2n$ bits long since $\\log (N - 1)^2 = 2 \\log (N - 1) \\le 2n$. To reduce the answer modulo $N$ we compute the remainder upon dividing it by $N$ using the quadratic-time division algorithm. Multiplication thus remains a quadratic operation."
   ]
  },
  {
   "cell_type": "markdown",
   "metadata": {},
   "source": [
    "**Complexity**\n",
    "\n",
    "$T(n) = \\underbrace{\\quad\\quad O(n^2) \\quad\\quad}_{\\text{multiplication}} + \\underbrace{\\quad\\quad O(n^2) \\quad\\quad}_{\\text{reduction modulo \\textit{N} via division}} = O(n^2)$"
   ]
  },
  {
   "cell_type": "markdown",
   "metadata": {},
   "source": [
    "---"
   ]
  },
  {
   "cell_type": "markdown",
   "metadata": {},
   "source": [
    "### Modular Division"
   ]
  },
  {
   "cell_type": "markdown",
   "metadata": {},
   "source": [
    "In ordinary arithmetic there is just one tricky case--division by zero. In modular arithmetic there are other tricky cases.\n",
    "\n",
    "When division is legal, its running time is\n",
    "\n",
    "$T(n) = O(n^3)$"
   ]
  },
  {
   "cell_type": "markdown",
   "metadata": {},
   "source": [
    "---"
   ]
  },
  {
   "cell_type": "markdown",
   "metadata": {},
   "source": [
    "### Modular Exponentiation"
   ]
  },
  {
   "cell_type": "markdown",
   "metadata": {},
   "source": [
    "Can $x^y \\mod N$ be computed quickly for values of $x$, $y$, and $N$ that are several hundred bits long? The result is some number modulo $N$ and is therefore itself a few hundred bits long. The raw value $x^y$ could be much longer. When $x$ and $y$ are just $20\\text{-b}$ numbers $x^y$ is at least $(2^{19})^{2^{19}} = 2^{(19)(524,288)}$ which is about ten million bits long. Imagine what would happen if $y$ is a $500\\text{-b}$ number. To make sure the numbers we are dealing with never grow too large, we need to perform all intermediate computations modulo $N$.\n",
    "\n",
    "Calculate $x^y \\mod N$ by repeatedly multiplying by $x \\mod N$. The resulting sequence of intermediate products $x \\mod N \\to x^2 \\mod N \\to \\dotsb \\to x^y \\mod N$ consists of numbers smaller than $N$, so the individual multiplications do not take too long. But if $y$ is $500$ bits long we need to perform $y - 1 \\approx 2^{500}$ multiplications which is exponential in the size of $y$.\n",
    "\n",
    "It will be better to start with $x$ and repeatedly square modulo $N$: $x \\mod N \\to x^2 \\mod N \\to x^4 \\mod N \\to x^8 \\mod N \\to \\dotsb \\to x^{2^{\\lfloor \\log y \\rfloor}} \\mod N$.\n",
    "\n",
    "Each squaring takes $O(\\log^2 N)$ and there are $\\log y$ multiplications\n",
    "\n",
    "To determine $x^y \\mod N$ multiply together the subset of these powers corresponding to $1$ s in the binary representation of $y$."
   ]
  },
  {
   "cell_type": "markdown",
   "metadata": {},
   "source": [
    "EXAMPLE\n",
    "\n",
    "algorithm decomposition\n",
    "\n",
    "$x^{25} = x^{11001_2} = x^{10000_2} \\cdot x^{1000_2} \\cdot x^{1_2} = x^{16} \\cdot x^8 \\cdot x^1$\n",
    "\n",
    "For multiplication the terms $x \\cdot 2^i$ come from repeated doubling. For exponentiation the terms $x^{2^i}$ come from repeated squaring"
   ]
  },
  {
   "cell_type": "markdown",
   "metadata": {},
   "source": [
    "This algorithm implements the following recursive rule.\n",
    "\n",
    "$\n",
    "x^y =\n",
    "\\begin{cases}\n",
    "        (x^{\\lfloor y/2 \\rfloor})^2 & \\text{if \\textit{y} is even} \\\\\n",
    "x \\cdot (x^{\\lfloor y/2 \\rfloor})^2 & \\text{if \\textit{y} is odd}  \\\\\n",
    "\\end  {cases}\n",
    "$"
   ]
  },
  {
   "cell_type": "markdown",
   "metadata": {},
   "source": [
    "```c\n",
    " INPUT    two n-bit integers x and N, and an integer exponent y\n",
    "OUTPUT    x^y mod N\n",
    "\n",
    "MODEXP (x, y, N)\n",
    "1    if y = 0\n",
    "2        return 1\n",
    "3\n",
    "4    z = MODEXP(x, floor(y/2), N)\n",
    "5\n",
    "6    if even(y)\n",
    "7        return  z^2 mod N\n",
    "8    else\n",
    "9        return xz^2 mod N\n",
    "```"
   ]
  },
  {
   "cell_type": "markdown",
   "metadata": {},
   "source": [
    "**Correctness**\n",
    "\n",
    "The recursive rule is <span style=\"color: red;\">transparently</span> correct. Checking that the algorithm is correct is a matter of verifying that it mimics the rule and that it handles the base case $y = 1$ properly."
   ]
  },
  {
   "cell_type": "markdown",
   "metadata": {},
   "source": [
    "**Complexity**\n",
    "\n",
    "Let $n$ be the size in bits of $x$, $y$, and $N$ (whichever is the largest of the three). As with multiplication, the algorithm will halt after at most $n$ recursive calls and during each call it multiplies $n$-bit numbers (doing computation modulo $N$ saves us here) for a total running time of\n",
    "\n",
    "$T(n) = \\underbrace{\\quad\\quad O(n) \\quad\\quad}_{\\text{recursive calls}} \\times \\underbrace{\\quad\\quad O(n^2) \\quad\\quad}_{\\text{multiplication}} = O(n^3)$"
   ]
  },
  {
   "cell_type": "markdown",
   "metadata": {},
   "source": [
    "#### Python"
   ]
  },
  {
   "cell_type": "code",
   "execution_count": null,
   "metadata": {
    "vscode": {
     "languageId": "plaintext"
    }
   },
   "outputs": [],
   "source": []
  },
  {
   "cell_type": "markdown",
   "metadata": {},
   "source": [
    "* https://www.geeksforgeeks.org/fast-exponentiation-in-python/"
   ]
  },
  {
   "cell_type": "markdown",
   "metadata": {},
   "source": [
    "---"
   ]
  },
  {
   "cell_type": "markdown",
   "metadata": {},
   "source": [
    "$\n",
    "\\begin{aligned}\n",
    "s^d =\n",
    "\\begin{cases}\n",
    "ss^{2(d-1)/2} & d \\text{ odd} \\\\\n",
    "s^{2d/2} & d \\text{ even} \\\\\n",
    "\\end  {cases}\n",
    "\\end  {aligned}\n",
    "$\n",
    "\n",
    "$\n",
    "\\begin{aligned}\n",
    "s^{10} &= (s^2)^{5} \\\\\n",
    "s^{5}  &= s(s^2)^2 \\\\\n",
    "\\end  {aligned}\n",
    "$"
   ]
  },
  {
   "cell_type": "markdown",
   "metadata": {},
   "source": [
    "---\n",
    "---\n",
    "---"
   ]
  },
  {
   "cell_type": "markdown",
   "metadata": {},
   "source": [
    "Multiplicative Inverse"
   ]
  },
  {
   "cell_type": "markdown",
   "metadata": {},
   "source": [
    "https://www.rookieslab.com/posts/how-to-find-multiplicative-inverse-of-a-number-modulo-m-in-python-cpp#modular-multiplicative-inverse-using-fast-power-algorithm"
   ]
  },
  {
   "cell_type": "markdown",
   "metadata": {},
   "source": [
    "---\n",
    "---\n",
    "---"
   ]
  },
  {
   "cell_type": "markdown",
   "metadata": {},
   "source": [
    "## Resources"
   ]
  },
  {
   "cell_type": "markdown",
   "metadata": {},
   "source": [
    "* https://pi.math.cornell.edu/~morris/135/mod.pdf\n",
    "* https://kconrad.math.uconn.edu/blurbs/ugradnumthy/modarith.pdf\n",
    "* https://math.stackexchange.com/questions/3563769/why-is-the-associative-property-valid-for-modular-arithmetic"
   ]
  },
  {
   "cell_type": "markdown",
   "metadata": {},
   "source": [
    "---\n",
    "---\n",
    "---"
   ]
  }
 ],
 "metadata": {
  "language_info": {
   "name": "python"
  }
 },
 "nbformat": 4,
 "nbformat_minor": 2
}
