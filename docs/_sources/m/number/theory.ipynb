{
 "cells": [
  {
   "cell_type": "markdown",
   "metadata": {},
   "source": [
    "# Number Theory"
   ]
  },
  {
   "cell_type": "markdown",
   "metadata": {},
   "source": [
    "---"
   ]
  },
  {
   "cell_type": "markdown",
   "metadata": {},
   "source": [
    "## Contents\n",
    "```{contents}\n",
    "```"
   ]
  },
  {
   "cell_type": "markdown",
   "metadata": {},
   "source": [
    "---\n",
    "---\n",
    "---"
   ]
  },
  {
   "cell_type": "markdown",
   "metadata": {},
   "source": [
    "## Arithmetic"
   ]
  },
  {
   "cell_type": "markdown",
   "metadata": {},
   "source": [
    "### The bit complexity of numbers"
   ]
  },
  {
   "cell_type": "markdown",
   "metadata": {},
   "source": [
    "We focus on bit complexity (of algorithms), the number of elementary operations on individual bits, because it reflects the amount of hardware, transistors and wires, necessary for implementing an algorithm."
   ]
  },
  {
   "cell_type": "markdown",
   "metadata": {},
   "source": [
    "It is a basic property of numbers that **for any base $b \\ge 2$ the sum of any three single-digit numbers is at most two digits long**.\n",
    "\n",
    "$\n",
    "\\begin{aligned}\n",
    "b &=  2 && & 1 + 1 + 1 &= 11                                             &&= 1 \\times  2^1 +  1 \\times  2^0 \\\\\n",
    "b &=  3 && & 2 + 2 + 2 &= 20                                             &&= 2 \\times  3^1 +  0 \\times  3^0 \\\\\n",
    "b &= 10 && & 9 + 9 + 9 &= 27                                             &&= 2 \\times 10^1 +  7 \\times 10^0 \\\\\n",
    "b &= 16 && & F + F + F &= 2D                                             &&= 2 \\times 16^1 + 13 \\times 16^0 \\\\\n",
    "b &= 60 && & \\lambda_{59} + \\lambda_{59} + \\lambda_{59} &= 2\\lambda_{57} &&= 2 \\times 60^1 + 57 \\times 60^0 \\\\\n",
    "\\end  {aligned}\n",
    "$"
   ]
  },
  {
   "cell_type": "markdown",
   "metadata": {},
   "source": [
    "**How many digits are needed to represent the number $N \\ge 0$ in base $b$?** $\\lceil \\log_b (N + 1) \\rceil$ digits are needed to represent $N$ in base $b$.\n",
    "\n",
    "With $k \\ge 1$ digits in base $b$ we can express numbers up to $b^k - 1$.\n",
    "\n",
    "base $2$\n",
    "* with $1$ digits in base $2$ we can express numbers up to $2^1 - 1 = 1$\n",
    "* with $2$ digits in base $2$ we can express numbers up to $2^2 - 1 = 3$\n",
    "* with $3$ digits in base $2$ we can express numbers up to $2^3 - 1 = 7$\n",
    "* with $4$ digits in base $2$ we can express numbers up to $2^4 - 1 = 15$\n",
    "\n",
    "base $10$\n",
    "* with $1$ digits in base $10$ we can express numbers up to $10^1 - 1 = 9$\n",
    "* with $2$ digits in base $10$ we can express numbers up to $10^2 - 1 = 99$\n",
    "* with $3$ digits in base $10$ we can express numbers up to $10^3 - 1 = 999$\n",
    "* with $4$ digits in base $10$ we can express numbers up to $10^4 - 1 = 9999$"
   ]
  },
  {
   "cell_type": "markdown",
   "metadata": {},
   "source": [
    "$\n",
    "\\begin{aligned}\n",
    "b^k - 1 &= N \\\\\n",
    "b^k     &= N + 1 \\\\\n",
    "\\log_b b^k &= \\lceil \\log_b (N + 1) \\rceil \\\\\n",
    "k          &= \\lceil \\log_b (N + 1) \\rceil \\\\\n",
    "\\end  {aligned}\n",
    "$"
   ]
  },
  {
   "cell_type": "markdown",
   "metadata": {},
   "source": [
    "Base $2$\n",
    "\n",
    "$\n",
    "\\begin{aligned}\n",
    "\\lceil \\log_2 (\\textcolor{green}{ 0} + 1) \\rceil &= 1 \\text{ b} \\\\\n",
    "\\lceil \\log_2 (\\textcolor{green}{ 1} + 1) \\rceil &= 1 \\text{ b} \\\\\n",
    "\\lceil \\log_2 (\\textcolor{green}{ 2} + 1) \\rceil &= 2 \\text{ b} \\\\\n",
    "\\lceil \\log_2 (\\textcolor{green}{ 3} + 1) \\rceil &= 2 \\text{ b} \\\\\n",
    "\\lceil \\log_2 (\\textcolor{green}{ 4} + 1) \\rceil &= 3 \\text{ b} \\\\ &\\vdots \\\\\n",
    "\\lceil \\log_2 (\\textcolor{green}{ 7} + 1) \\rceil &= 3 \\text{ b} \\\\\n",
    "\\lceil \\log_2 (\\textcolor{green}{ 8} + 1) \\rceil &= 4 \\text{ b} \\\\ &\\vdots \\\\\n",
    "\\lceil \\log_2 (\\textcolor{green}{15} + 1) \\rceil &= 4 \\text{ b} \\\\\n",
    "\\lceil \\log_2 (\\textcolor{green}{16} + 1) \\rceil &= 5 \\text{ b} \\\\ &\\vdots \\\\\n",
    "\\lceil \\log_2 (\\textcolor{green}{31} + 1) \\rceil &= 5 \\text{ b} \\\\\n",
    "\\lceil \\log_2 (\\textcolor{green}{32} + 1) \\rceil &= 6 \\text{ b} \\\\ &\\vdots \\\\\n",
    "\\lceil \\log_2 (\\textcolor{green}{63} + 1) \\rceil &= 6 \\text{ b} \\\\\n",
    "\\lceil \\log_2 (\\textcolor{green}{64} + 1) \\rceil &= 7 \\text{ b} \\\\\n",
    "\\end  {aligned}\n",
    "$"
   ]
  },
  {
   "cell_type": "markdown",
   "metadata": {},
   "source": [
    "**How much does the size of a number change when its base changes?**\n",
    "\n",
    "The rule for converting logarithms from base $a$ to base $b$:\n",
    "\n",
    "$\\log_b N = \\frac{1}{\\log_a b} \\log_a N \\iff \\log_a N = \\log_b N \\times \\log_a b$\n",
    "\n",
    "The size of integer $N$ in base $a$ is the same as its size in base $b$ times a constant factor $\\log_a b$. Therefore, in big-$O$ notation the base is irrelevant and the size is written simply as $O(\\log N)$"
   ]
  },
  {
   "cell_type": "markdown",
   "metadata": {},
   "source": [
    "$\\log N$ is the power to which $2$ must be raised to obtain $N$.\n",
    "\n",
    "$\\lceil \\log N \\rceil$ is the number of times $N$ must be halved to obtain unity. This will be useful when a number is halved at each iteration of an algorithm.\n",
    "\n",
    "$\\lceil \\log (N + 1) \\rceil$ is the number of bits in the binary representation of $N$.\n",
    "\n",
    "$\\lfloor \\log N \\rfloor$ is the depth of a complete binary tree with $N$ nodes.\n",
    "\n",
    "$\\log N = 1 + 1/2 + 1/3 + \\dotsb + 1/N$ to within a constant factor."
   ]
  },
  {
   "cell_type": "markdown",
   "metadata": {},
   "source": [
    "---"
   ]
  },
  {
   "cell_type": "markdown",
   "metadata": {},
   "source": [
    "### Addition"
   ]
  },
  {
   "cell_type": "markdown",
   "metadata": {},
   "source": [
    "The rule that the sum of any three single-digit numbers is at most two digits allows us to add two numbers in any base in the following way: align their right-hand ends and then perform a single right-to-left pass in which the sum is computed digit by digit, maintaining the overflow as a carry. Since we know the individual sum is a two-digit number, the carry is always a single digit, and so at any given step, three single-digit numbers are added.\n",
    "\n",
    "```txt\n",
    "Carry  1     1 1 1\n",
    "         1 1 0 1 0 1 (53)\n",
    "         1 0 0 0 1 1 (35)\n",
    "       -------------\n",
    "       1 0 1 1 0 0 0 (88)\n",
    "```"
   ]
  },
  {
   "cell_type": "markdown",
   "metadata": {},
   "source": [
    "**Complexity**\n",
    "\n",
    "Suppose both $x$ and $y$ are $n$ bits long. Then $x + y$ is at most $n + 1$ bits long and each bit of this sum is computed in a fixed amount of time.\n",
    "\n",
    "$T(n) = c_1n + c_0 = O(n)$\n",
    "\n",
    "Is there a faster algorithm? In order to add two $n$-bit numbers they must at least be read and their sum written, <span style=\"color: red;\">which require n operations</span>. Therefore, the addition algorithm is optimal <span style=\"color: red;\">up to multiplicative constants</span>.\n",
    "\n",
    "It is true that in a single processor instruction integers can be added whose size in bits is within the word length of today's computers--$32$ perhaps. But it is often useful and necessary to handle numbers much larger than this, perhaps several thousand bits long. Adding and multiplying such large numbers on real computers is very much like performing the operations bit by bit."
   ]
  },
  {
   "cell_type": "markdown",
   "metadata": {},
   "source": [
    "**Implementation**\n",
    "\n",
    "```c\n",
    "#include <stdio.h>\n",
    "\n",
    "int main (void) {\n",
    "  long b1;\n",
    "  long b2;\n",
    "\n",
    "  int i = 0;\n",
    "  int r = 0; // remainder\n",
    "  int sum[20];\n",
    "\n",
    "  printf(\"Enter the first  binary number: \"); scanf(\"%ld\", &b1);\n",
    "  printf(\"Enter the second binary number: \"); scanf(\"%ld\", &b2);\n",
    "\n",
    "  while (b1 != 0 || b2 != 0) {\n",
    "    sum[i++] = (b1 % 10 + b2 % 10 + r) % 2;\n",
    "    r        = (b1 % 10 + b2 % 10 + r) / 2;\n",
    "    b1 /= 10;\n",
    "    b2 /= 10;\n",
    "  }\n",
    "\n",
    "  if (r != 0)\n",
    "    sum[i++] = r;\n",
    "  --i;\n",
    "\n",
    "  printf(\"Sum: \");\n",
    "  while (i >= 0)\n",
    "    printf(\"%d\", sum[i--]);\n",
    "  printf(\"\\n\");\n",
    "\n",
    "  return 0;\n",
    "}\n",
    "```"
   ]
  },
  {
   "cell_type": "markdown",
   "metadata": {},
   "source": [
    "---"
   ]
  },
  {
   "cell_type": "markdown",
   "metadata": {},
   "source": [
    "### Multiplication"
   ]
  },
  {
   "cell_type": "markdown",
   "metadata": {},
   "source": [
    "### Grade-School Binary Multiplication Algorithm"
   ]
  },
  {
   "cell_type": "markdown",
   "metadata": {},
   "source": [
    "Multiply two numbers $x$ and $y$. Create an array of intermediate sums each representing the product of $x$ by a single digit of $y$. These values are appropriately left-shifted and then added up.\n",
    "\n",
    "$13 \\times 11$ or $x = 1101$ and $y = 1011$\n",
    "\n",
    "```txt\n",
    "        1 1 0 1 (13, multiplicand)\n",
    "      x 1 0 1 1 (11, multiplier)\n",
    "      ---------\n",
    "        1 1 0 1 (1101 times 1)                  13 x 2^0 =  13\n",
    "      1 1 0 1   (1101 times 1, shifted once)    13 x 2^1 =  26\n",
    "    0 0 0 0     (1101 times 0, shifted twice)    0 x 2^2 =   0\n",
    "+ 1 1 0 1       (1101 times 1, shifted thrice)  13 x 2^3 = 104\n",
    "---------------\n",
    "1 0 0 0 1 1 1 1 (binary 143)\n",
    "```\n",
    "\n",
    "In binary each intermediate row is either zero or $x$ itself, left-shifted an appropriate amount of times. Left-shifting multiplies by the base and right-shifting divides by the base, rounding down if necessary."
   ]
  },
  {
   "cell_type": "markdown",
   "metadata": {},
   "source": [
    "**Correctness**"
   ]
  },
  {
   "cell_type": "markdown",
   "metadata": {},
   "source": [
    "**Complexity**"
   ]
  },
  {
   "cell_type": "markdown",
   "metadata": {},
   "source": [
    "If $x$ and $y$ are both $n$ bits then there are $n$ intermediate rows with lengths of up to $2n$ bits, accounting for the shifts. The total time taken to add up these rows, two numbers at a time, is\n",
    "\n",
    "$\\underbrace{O(n) + O(n) + \\dotsb + O(n)}_{n - 1 \\text{ times}} = O(n^2)$"
   ]
  },
  {
   "cell_type": "markdown",
   "metadata": {},
   "source": [
    "### Al Khwarizmi's multiplication by repeated halvings of the multiplier"
   ]
  },
  {
   "cell_type": "markdown",
   "metadata": {},
   "source": [
    "Multiply two decimal numbers $x$ and $y$. Write them next to each other and then repeat the following: divide the first number by $2$, rounding down the result, and double the second number; continue until the first number reaches unity and then strike out all the rows in which the first number is even and add up whatever remains in the second column.\n",
    "\n",
    "```txt\n",
    "                      parity of multiplier 11\n",
    "11    13              11 = 5 x 2 +  1\n",
    " 5    26               5 = 2 x 2 +  1\n",
    " 2    52 (strike out)  2 = 1 x 2 +  0\n",
    " 1   104               1 = 0 x 2 +  1\n",
    "--------\n",
    "     143\n",
    "```"
   ]
  },
  {
   "cell_type": "markdown",
   "metadata": {},
   "source": [
    "### Multiplication à la Français"
   ]
  },
  {
   "cell_type": "markdown",
   "metadata": {},
   "source": [
    "This algorithm implements the following recursive rule.\n",
    "\n",
    "$\n",
    "x \\cdot y =\n",
    "\\begin{cases}\n",
    "    2(x \\cdot \\lfloor y/2 \\rfloor) & \\text{if \\textit{y} is even} \\\\\n",
    "x + 2(x \\cdot \\lfloor y/2 \\rfloor) & \\text{if \\textit{y} is odd} \\\\\n",
    "\\end  {cases}\n",
    "$"
   ]
  },
  {
   "cell_type": "markdown",
   "metadata": {},
   "source": [
    "```c\n",
    " INPUT    two n-bit integers x and y, where y >= 0\n",
    "OUTPUT    their product\n",
    "\n",
    "MULT (x, y)\n",
    "1    if y = 0\n",
    "2        return 0\n",
    "3\n",
    "4    z = MULT(x, floor(y/2))\n",
    "5\n",
    "6    if even(y)\n",
    "7        return 2z\n",
    "8    else\n",
    "9        return 2z + x\n",
    "```"
   ]
  },
  {
   "cell_type": "markdown",
   "metadata": {},
   "source": [
    "EXAMPLE\n",
    "\n",
    "algorithm decomposition\n",
    "\n",
    "$x \\cdot 25 = x \\cdot 16 + x \\cdot 8 + x \\cdot 1$\n",
    "\n",
    "For multiplication the terms $x \\cdot 2^i$ come from repeated doubling"
   ]
  },
  {
   "cell_type": "markdown",
   "metadata": {},
   "source": [
    "**Correctness**\n",
    "\n",
    "The recursive rule is <span style=\"color: red;\">transparently</span> correct. Checking that the algorithm is correct is a matter of verifying that it mimics the rule and that it handles the base case $y = 0$ properly."
   ]
  },
  {
   "cell_type": "markdown",
   "metadata": {},
   "source": [
    "**Complexity**\n",
    "\n",
    "The algorithm terminates after $n$ recursive calls because at each call $y$ is halved (i.e., its number of bits is decreased by one). Each recursive call requires the following operations:\n",
    "* a division by $2$ (a right shift)\n",
    "* a test for odd/even (looking up the last bit)\n",
    "* a multiplication by $2$ (a left shift)\n",
    "* possibly, one addition\n",
    "\n",
    "a total of $O(n)$ bit operations. The total running time is\n",
    "\n",
    "$T(n) = O(n^2)$\n",
    "\n",
    "Can we do better? Intuitively, it seems that multiplication requires adding about $n$ multiples of one of the inputs, and we know that each addition is linear, so it would appear that $n^2$ bit operations are inevitable. But we will see that we can de better."
   ]
  },
  {
   "cell_type": "markdown",
   "metadata": {},
   "source": [
    "---"
   ]
  },
  {
   "cell_type": "markdown",
   "metadata": {},
   "source": [
    "### Division"
   ]
  },
  {
   "cell_type": "markdown",
   "metadata": {},
   "source": [
    "To divide an integer $x$ by an integer $y \\ne 0$ means to find a quotient $q$ and a remainder $r$, where $x = yq + r$ and $r \\lt y$.\n",
    "\n",
    "```c\n",
    " INPUT    two n-bit integers x and y, where y >= 1\n",
    "OUTPUT    the quotient and the remainder of x divided by y\n",
    "\n",
    "DIVIDE (x, y)\n",
    " 1    if x = 0\n",
    " 2        return (q, r) = (0, 0)\n",
    " 3\n",
    " 4    (q, r) = DIVIDE(floor(x/2), y)\n",
    " 5    q = 2q\n",
    " 6    r = 2r\n",
    " 7    if odd(x)\n",
    " 8        r = r + 1\n",
    " 9    if r >= y\n",
    "10        r = r - y\n",
    "11        q = q + 1\n",
    "12    return (q, r)\n",
    "```"
   ]
  },
  {
   "cell_type": "markdown",
   "metadata": {},
   "source": [
    "**Complexity** Like multiplication, division takes quadratic time.\n",
    "\n",
    "$T(n) = O(n^2)$"
   ]
  },
  {
   "cell_type": "markdown",
   "metadata": {},
   "source": [
    "---\n",
    "---\n",
    "---"
   ]
  },
  {
   "cell_type": "markdown",
   "metadata": {},
   "source": [
    "$\n",
    "\\begin{aligned}\n",
    "2^{32} - 1 &= 4294967295           &&= 3 \\times 5 \\times 17 \\times 257 \\times 65537 \\\\\n",
    "2^{53} - 1 &= 9007199254740991     &&= 6361 \\times 69431 \\times 20394401 \\\\\n",
    "2^{64} - 1 &= 18446744073709551615 &&= 3 \\times 5 \\times 17 \\times 257 \\times 641 \\times 65537 \\times 6700417 \\\\\n",
    "\\end  {aligned}\n",
    "$"
   ]
  },
  {
   "cell_type": "markdown",
   "metadata": {},
   "source": [
    "---"
   ]
  },
  {
   "cell_type": "markdown",
   "metadata": {},
   "source": [
    "What's the largest value that $n$ bits can hold?"
   ]
  },
  {
   "cell_type": "code",
   "execution_count": null,
   "metadata": {},
   "outputs": [
    {
     "name": "stdout",
     "output_type": "stream",
     "text": [
      "                 largest value\n",
      " 16-bit numbers                                                   65535 = 2^ 16 - 1\n",
      " 20-bit numbers                                                 1048575 = 2^ 20 - 1\n",
      " 32-bit numbers                                              4294967295 = 2^ 32 - 1\n",
      " 40-bit numbers                                           1099511627775 = 2^ 40 - 1\n",
      " 52-bit numbers                                        4503599627370495 = 2^ 52 - 1\n",
      " 53-bit numbers                                        9007199254740991 = 2^ 53 - 1\n",
      " 64-bit numbers                                    18446744073709551615 = 2^ 64 - 1\n",
      "128-bit numbers                 340282366920938463463374607431768211455 = 2^128 - 1\n"
     ]
    }
   ],
   "source": [
    "print(f'                 largest value')\n",
    "print(f' 16-bit numbers {2** 16 - 1:55} = 2^ 16 - 1')\n",
    "print(f' 20-bit numbers {2** 20 - 1:55} = 2^ 20 - 1')\n",
    "print(f' 32-bit numbers {2** 32 - 1:55} = 2^ 32 - 1')\n",
    "print(f' 40-bit numbers {2** 40 - 1:55} = 2^ 40 - 1')\n",
    "print(f' 52-bit numbers {2** 52 - 1:55} = 2^ 52 - 1')\n",
    "print(f' 53-bit numbers {2** 53 - 1:55} = 2^ 53 - 1')\n",
    "print(f' 64-bit numbers {2** 64 - 1:55} = 2^ 64 - 1')\n",
    "print(f'128-bit numbers {2**128 - 1:55} = 2^128 - 1')"
   ]
  },
  {
   "cell_type": "markdown",
   "metadata": {},
   "source": [
    "---\n",
    "---\n",
    "---"
   ]
  },
  {
   "cell_type": "markdown",
   "metadata": {},
   "source": [
    "Theorem\n",
    "\n",
    "If $p$ is prime then $2^{p - 1}$ leaves the remainder $1$ on division by $p$.\n",
    "\n",
    "Example\n",
    "\n",
    "$2^{1000}$ leaves the remainder $562$ on division by $1001$ so $1001$ is composite.\n",
    "\n",
    "$1001 = 7 \\times 11 \\times 13$\n",
    "\n",
    "$2^{k^k}$ can be computed by successive squaring\n",
    "\n",
    "$\n",
    "\\begin{aligned}\n",
    "   1000  &= 2^3 + 2^5 + 2^6 + 2^7 + 2^8 + 2^9 \\\\\n",
    "2^{1000} &= 2^{2^3} \\times 2^{2^5} \\times 2^{2^6} \\times 2^{2^7} \\times 2^{2^8} \\times 2^{2^9} \\\\\n",
    "2^{2^3}  &= 256 \\\\\n",
    "2^{2^4}  &= 256^2 = 65536 \\equiv 471 \\mod 1001 \\\\\n",
    "2^{2^5}  &= 471^2 = 221841 \\equiv 620 \\mod 1001 \\\\\n",
    "2^{2^3} \\times 2^{2^5} &\\equiv 256 \\times 620 = 158720 \\equiv 562 \\mod 1001 \\\\\n",
    "2^{2^6} &\\equiv 620^2 = 384400 \\equiv 16 \\mod 1001 \\\\\n",
    "2^{2^3} \\times 2^{2^5} \\times 2^{2^6} &\\equiv 562 \\times 16 = 8992 \\equiv 984 \\mod 1001 \\\\\n",
    "2^{2^7} &\\equiv 16^2 \\equiv 256 \\mod 1001 \\\\\n",
    "2^{2^3} \\times 2^{2^5} \\times 2^{2^6} \\times 2^{2^7} &\\equiv 984 \\times 256 = 251904 \\equiv 653 \\mod 1001 \\\\\n",
    "2^{2^8} &\\equiv 471 \\mod 1001 \\\\\n",
    "2^{2^3} \\times 2^{2^5} \\times 2^{2^6} \\times 2^{2^7} \\times 2^{2^8} &\\equiv 653 \\times 471 = 307563 \\equiv 256 \\\\\n",
    "2^{2^9} &\\equiv 620 \\\\\n",
    "2^{1000} &= 2^{2^3} \\times 2^{2^5} \\times 2^{2^6} \\times 2^{2^7} \\times 2^{2^8} \\times 2^{2^9} \\equiv 620 \\times 256 = 167168 \\equiv 562 \\\\\n",
    "\\end  {aligned}\n",
    "$\n",
    "\n",
    "Any programming language which can do double precision can compute $2^{p - 1} \\mod p$ in linear time."
   ]
  },
  {
   "cell_type": "markdown",
   "metadata": {},
   "source": [
    "__Induction__\n",
    "\n",
    "Inductive definition of $\\mathbb{N}$: $1 \\in \\mathbb{N}$ is the least member of $\\mathbb{N}$. Given any $n \\in \\mathbb{N}$ the next member is $n + 1$."
   ]
  },
  {
   "cell_type": "markdown",
   "metadata": {},
   "source": [
    "---\n",
    "---\n",
    "---"
   ]
  },
  {
   "cell_type": "markdown",
   "metadata": {},
   "source": [
    "## 2"
   ]
  },
  {
   "cell_type": "markdown",
   "metadata": {},
   "source": [
    "We know that given integers $a$ and $b$ not both zero there are integers $x$ and $y$ s.t. $\\gcd(a, b) = ax + by$. How do we find $x$ and $y$?\n",
    "* Euclid's Algorithm - gives a very efficient algorithm, and is still the basis for many numerical methods in arithmetical applications"
   ]
  },
  {
   "cell_type": "markdown",
   "metadata": {},
   "source": [
    "__Euclid's Algorithm__\n",
    "\n",
    "$a, b \\gt 0$, since multiplying either by $-1$ does not change $\\gcd(a, b)$. We can replace $x$ by $-x$ and $y$ by $-y$.\n",
    "\n",
    "Suppose $b \\le a$. Let $r_0 = b, r_{-1} = a$\n",
    "\n",
    "Apply the division algorithm iteratively as follows.\n",
    "\n",
    "$\n",
    "\\begin{aligned}\n",
    "r_{-1}  &= r_0 q_1 + r_1 && 0 \\lt r_1 \\le r_0 \\\\\n",
    "r_0     &= r_1 q_2 + r_2 && 0 \\lt r_2 \\lt r_1 \\\\\n",
    "r_1     &= r_2 q_3 + r_3 && 0 \\lt r_3 \\lt r_2 \\\\\n",
    "\\vdots \\\\\n",
    "r_{s-3} &= r_{s-2} q_{s-1} + r_{s-1} && 0 \\lt r_{s-1} \\lt r_{s-2} \\\\\n",
    "r_{s-2} &= r_{s-1} q_s \\\\\n",
    "\\end  {aligned}\n",
    "$\n",
    "\n",
    "We stop the moment there is a remainder equal to $0$. This could be $r_1$ if $b \\mid a$, for example.\n",
    "\n",
    "Since $r_j \\lt r_{j-1}$ we must eventually have a zero remainder.\n",
    "\n",
    "Euclid proved that $\\gcd(a, b) = r_{s-1}$\n",
    "\n",
    "$\\text{Proof}$\n",
    "\n",
    "$\\gcd(a, b) \\mid a$ and $\\gcd(a, b) \\mid b$ and so $\\gcd(a, b) \\mid r_1 = a - bq_1$. Repeating, $\\gcd(a, b) \\mid r_j$ for $j = 2, 3, \\dotsc, s - 1$\n",
    "\n",
    "Starting from the bottom, $r_{s-1} \\mid r_{s-2}$, $r_{s-1} \\mid r_{s-3}$, and so on until we have $r_{s-1} \\mid b$ and $r_{s-1} \\mid a$, and so $r_{s-1} \\mid \\gcd(a, b)$\n",
    "\n",
    "Since $r_{s-1} \\mid \\gcd(a, b)$ and $\\gcd(a, b) \\mid r_{s-1}$ it is the case that $r_{s-1} = \\gcd(a, b)$.\n",
    "\n",
    "$\\blacksquare$"
   ]
  },
  {
   "cell_type": "markdown",
   "metadata": {},
   "source": [
    "EXAMPLE\n",
    "\n",
    "$\n",
    "\\begin{aligned}\n",
    "a &= & 10,678 \\\\\n",
    "b &= &     42 \\\\\n",
    "10,678 &= & 42 &\\times & 254 &+ & 10 \\\\\n",
    "    42 &= & 10 &\\times &   4 &+ &  2 \\\\\n",
    "    10 &= &  2 &\\times &   5 \\\\\n",
    "\\end  {aligned}\n",
    "$\n",
    "\n",
    "$\\gcd(10678, 42) = 2$\n",
    "\n",
    "$x$ and $y$ can be found via back substitution, which is inefficient since it requires that all computations be stored.\n",
    "\n",
    "$\n",
    "\\begin{aligned}\n",
    "2 &= 42 - 10 \\times 4 \\\\\n",
    "  &= 42 - (10,678 - 42 \\times 254) \\times 4 \\\\\n",
    "  &= 42 - 10,678 \\times 4 + 42 \\times 254 \\times 4 \\\\\n",
    "  &= 42 + 42 \\times 254 \\times 4 - 10,678 \\times 4 \\\\\n",
    "  &= 42 \\times (1 + 254 \\times 4) - 10,678 \\times 4 \\\\\n",
    "  &= 42 \\times 1017 - 10,678 \\times 4 \\\\\n",
    "\\end  {aligned}\n",
    "$"
   ]
  },
  {
   "cell_type": "markdown",
   "metadata": {},
   "source": [
    "__Extended Euclidean Algorithm__\n",
    "\n",
    "$\n",
    "\\begin{aligned}\n",
    "x_{-1} &:= 1 \\\\\n",
    "y_{-1} &:= 0 \\\\\n",
    "x_0    &:= 0 \\\\\n",
    "y_0    &:= 1 \\\\\n",
    "r_{-1} &= r_0 q_1 + r_1 && x_1 = x_{-1} - q_1 x_0 && y_1 = y_{-1} - q_1 y_0 \\\\\n",
    "r_0    &= r_1 q_2 + r_2 && x_2 = x_0    - q_2 x_1 && y_2 = y_0    - q_2 y_1 \\\\\n",
    "r_1    &= r_2 q_3 + r_3 && x_3 = x_1    - q_3 x_2 && y_3 = y_1    - q_3 y_2 \\\\\n",
    "\\vdots \\\\\n",
    "r_{s-3} &= r_{s-2} q_{s-1} + r_{s-1} && x_{s-1} = x_{s-3} - q_{s-1} x_{s-2} && y_{s-1} = y_{s-3} - q_{s-1} y_{s-2} \\\\\n",
    "r_{s-2} &= r_{s-1} q_s \\\\\n",
    "\\end  {aligned}\n",
    "$\n",
    "\n",
    "The claim is that $x = x_{s-1}, y = y_{s-1}$. More generally, the claim is that $r_j = ax_j + by_j$ and this can be proved by induction.\n",
    "\n",
    "$\\text{Proof by induction}$\n",
    "\n",
    "By construction it is the case that $r_{-1} = ax_{-1} + by_{-1}$ and $r_0 = ax_0 + by_0$.\n",
    "\n",
    "$\n",
    "\\begin{aligned}\n",
    "r_{-1} &= a \\times 1 + b \\times 0 = a \\\\\n",
    "r_0    &= a \\times 0 + b \\times 1 = b \\\\\n",
    "\\end  {aligned}\n",
    "$\n",
    "\n",
    "Suppose $r_k = ax_k + by_k$ is established for all $j \\le k$.\n",
    "\n",
    "$\n",
    "\\begin{aligned}\n",
    "r_{k+1}\n",
    "&= r_{k-1} - q_{k+1} r_k \\\\\n",
    "&= (ax_{k-1} + by_{k-1}) - q_{k+1} (ax_k + by_k) \\\\\n",
    "&= ax_{k-1} + by_{k-1} - q_{k+1} ax_k - q_{k+1} by_k \\\\\n",
    "&= ax_{k-1} - q_{k+1} ax_k + by_{k-1} - q_{k+1} by_k \\\\\n",
    "&= a(x_{k-1} - q_{k+1} x_k) + b(y_{k-1} - q_{k+1} y_k) \\\\\n",
    "&= ax_{k+1} + by_{k+1} \\\\\n",
    "\\end  {aligned}\n",
    "$\n",
    "\n",
    "$\\blacksquare$\n",
    "\n",
    "$\\boxed{\\gcd(a, b) = r_{s-1} = ax_{s-1} + by_{s-1}}$"
   ]
  },
  {
   "cell_type": "markdown",
   "metadata": {},
   "source": [
    "EXAMPLE\n",
    "\n",
    "$\n",
    "\\begin{aligned}\n",
    "r_{-1} &= & 10,678 \\\\\n",
    "r_0    &= &     42 \\\\\n",
    "x_{-1} &= &      1 \\\\\n",
    "x_0    &= &      0 \\\\\n",
    "y_{-1} &= &      0 \\\\\n",
    "y_0    &= &      1 \\\\\n",
    "10,678 &= & 42 &\\times & 254 &+ & 10 && \\underset{x_1}{ 1} &= & 1 &- & 254 &\\times & 0 && \\underset{y_1}{-254} &= & 0 &- & 1 &\\times &   254  \\\\\n",
    "    42 &= & 10 &\\times &   4 &+ &  2 && \\underset{x_2}{-4} &= & 0 &- &   4 &\\times & 1 && \\underset{y_2}{1017} &= & 1 &- & 4 &\\times & (-254) \\\\\n",
    "    10 &= &  2 &\\times &   5 \\\\\n",
    "\\end  {aligned}\n",
    "$\n",
    "\n",
    "$\\gcd(10678, 42) = 2 = 10678 \\times (-4) + 42 \\times 1017$"
   ]
  },
  {
   "cell_type": "markdown",
   "metadata": {},
   "source": [
    "__Linear Diophantine Equation__\n",
    "\n",
    "Euclid's algorithm can be used to find the <span style=\"color: red;\">complete solution in integers</span> to linear diophantine equations of the kind\n",
    "\n",
    "$ax + by = c$ where $a$, $b$, and $c$ are integers, and $x$ and $y$ are all integers which satisfy this\n",
    "\n",
    "$\\text{Case 1}$ Both $a$ and $b$ are zero. ----- If $a = b = 0$ then the linear diophantine equation is not soluble unless $c = 0$; and then it is soluble by any $x$ and $y$, which is not very interesting.\n",
    "\n",
    "$\\text{Case 2}$ One of $a$ and $b$ is non-zero.\n",
    "\n",
    "$\\gcd(a, b) \\mid (ax + by) \\implies \\gcd(a, b) \\mid c$\n",
    "\n",
    "Choose $x$ and $y$ s.t. $ax + by = \\gcd(a, b)$. Then there is a solution\n",
    "\n",
    "$\n",
    "\\begin{aligned}\n",
    "ax + by &= \\gcd(a, b) \\\\\n",
    "\\frac{ax + by}{\\gcd(a, b)} &= 1 \\\\\n",
    "c \\frac{ax + by}{\\gcd(a, b)} &= c \\\\\n",
    "a \\left( \\frac{xc}{\\gcd(a, b)} \\right) + b \\left( \\frac{yc}{\\gcd(a, b)} \\right)\n",
    "\\end  {aligned}\n",
    "$\n",
    "\n",
    "Let's call this solution $x_0, y_0$. Consider any other solution $x, y$.\n",
    "\n",
    "$\n",
    "\\begin{aligned}\n",
    "ax + by &= c \\\\\n",
    "ax + by - ax_0 - by_0 &= c - c = 0 \\\\\n",
    "ax - ax_0 &= by_0 - by \\\\\n",
    "a(x - x_0) &= b(y_0 - y) \\\\\n",
    "\\frac{a}{\\gcd(a, b)}(x - x_0) &= \\frac{b}{\\gcd(a, b)}(y_0 - y) \\\\\n",
    "\\end  {aligned}\n",
    "$\n",
    "\n",
    "Recall that $\\gcd \\left( \\frac{a}{\\gcd(a, b)}, \\frac{b}{\\gcd(a, b)} \\right) = 1$\n",
    "\n",
    "$y_0 - y = z \\frac{a}{\\gcd(a, b)}$ for some $z$\n",
    "\n",
    "$x - x_0 = z \\frac{b}{\\gcd(a, b)}$ for some $z$\n",
    "\n",
    "Any $x$ and $y$ of this form give a solution, so we have found a complete solution set."
   ]
  },
  {
   "cell_type": "markdown",
   "metadata": {},
   "source": [
    "THEOREM\n",
    "\n",
    "Suppose that $a$ and $b$ are not both zero, that $\\gcd(a, b) \\mid c$, and that $ax_0 + by_0 = c$. Then every solution of\n",
    "\n",
    "$ax + by = c$\n",
    "\n",
    "is given by\n",
    "\n",
    "$x = x_0 + z \\frac{b}{\\gcd(a, b)}, y = y_0 + z \\frac{a}{\\gcd(a, b)}$\n",
    "\n",
    "where $z$ is any integer.\n",
    "\n",
    "The solutions $x$ all leave the same remainder on division by $\\frac{b}{\\gcd(a, b)}$ and likewise for $y$ on division by $\\frac{a}{\\gcd(a, b)}$."
   ]
  },
  {
   "cell_type": "markdown",
   "metadata": {},
   "source": [
    "__Lehman's Method__ based on differences of squares, and a small improvement over trial division\n",
    "\n",
    "1. Apply trial division with $d = 2, 3, \\dotsc, d \\le n^{\\frac{1}{3}}$\n",
    "2. For $1 \\le t \\le n^{\\frac{1}{3}} + 1$ consider the numbers $x$ with $\\sqrt{4tn} \\le x \\le \\sqrt{4tn + n^{\\frac{2}{3}}}$ Check each $x^2 - 4tn$ to see if it is a perfect square $y^2$ (compute $4tn - \\lfloor \\sqrt{4tn} \\rfloor^2$)\n",
    "3. If there are $x$ and $y$ s.t. $x^2 - 4tn = y^2$ then compute $\\gcd(x + y, n)$.\n",
    "4. If there is no $t \\le n^{\\frac{1}{3}} + 1$ for which there are $x$ and $y$, then $n$ is prime."
   ]
  },
  {
   "cell_type": "markdown",
   "metadata": {},
   "source": [
    "EXAMPLE\n",
    "\n",
    "$n = 10001$ and so $\\lfloor (10001)^{\\frac{1}{3}} \\rfloor = 21$\n",
    "\n",
    "Trial division with $d = 2, 3, 5, 7, 11, 13, 17, 19$ finds no factors.\n",
    "\n",
    "$\n",
    "\\begin{aligned}\n",
    "  t &= 1 \\\\\n",
    "4tn &= 40004 \\\\\n",
    "\\lfloor \\sqrt{4tn} \\rfloor &= \\lfloor \\sqrt{40004} \\rfloor = 200 \\\\\n",
    "\\left\\lfloor \\sqrt{4tn + n^{\\frac{2}{3}}} \\right\\rfloor\n",
    "&= \\left\\lfloor \\sqrt{40004 + 21^2} \\right\\rfloor\n",
    "= \\left\\lfloor \\sqrt{40004 + 441} \\right\\rfloor\n",
    "= \\left\\lfloor \\sqrt{40445} \\right\\rfloor\n",
    "= 201 \\\\\n",
    "4tn - \\lfloor \\sqrt{4tn} \\rfloor^2 &= 40004 - 200^2 = 40004 - 40000 = 4 = 2^2 \\\\\n",
    "\\end  {aligned}\n",
    "$\n",
    "\n",
    "$\n",
    "\\begin{aligned}\n",
    "  x^2 &-& 4tn   &=& y^2 \\\\\n",
    "(200^2 = 40000) &-& 40004 &=&  -4 \\\\\n",
    "(201^2 = 40401) &-& 40004 &=& 397 \\\\\n",
    "\\end  {aligned}\n",
    "$\n",
    "\n",
    "$\n",
    "\\begin{aligned}\n",
    "  t &= 2 \\\\\n",
    "4tn &= 80008 \\\\\n",
    "\\lfloor \\sqrt{4tn} \\rfloor &= \\lfloor \\sqrt{80008} \\rfloor = 282 \\\\\n",
    "\\left\\lfloor \\sqrt{4tn + n^{\\frac{2}{3}}} \\right\\rfloor\n",
    "&= \\left\\lfloor \\sqrt{80008 + 21^2} \\right\\rfloor\n",
    "= \\left\\lfloor \\sqrt{80008 + 441} \\right\\rfloor\n",
    "= \\left\\lfloor \\sqrt{80449} \\right\\rfloor\n",
    "= 283 \\\\\n",
    "4tn - \\lfloor \\sqrt{4tn} \\rfloor^2 &= 80008 - 282^2 = 80008 - 79524 = 484 = 22^2 \\\\\n",
    "4tn - \\left\\lfloor \\sqrt{4tn + n^{\\frac{2}{3}}} \\right\\rfloor &= 80008 - 283^2 = 80008 - 80089 = -81 = -9^2 \\\\\n",
    "\\end  {aligned}\n",
    "$\n",
    "\n",
    "$\n",
    "\\begin{aligned}\n",
    "  x^2 &-& 4tn   &=& y^2 \\\\\n",
    "(282^2 = 79524) &-& 80008 &=& -484 \\\\\n",
    "(283^2 = 80089) &-& 80008 &=&   81 \\\\\n",
    "\\end  {aligned}\n",
    "$\n",
    "\n",
    "$\\gcd(x + y, n) = \\gcd(283 + 9, 10001) = 73$"
   ]
  },
  {
   "cell_type": "markdown",
   "metadata": {},
   "source": [
    "__Proof of Lehman's Method__\n",
    "* depends on a subject called Diophantine approximation, via continued fractions, which in turn has some connections with Euclid's algorithm\n",
    "* we can take a shortcut via Dirichlet\n",
    "\n",
    "__Dirichlet Theorem__\n",
    "\n",
    "For any real number $\\alpha$ and any integer $Q \\ge 1$ there exits integers $a$ and $q$ with $1 \\le q \\le Q$ s.t.\n",
    "\n",
    "$\\left| \\alpha - \\frac{a}{q} \\right| \\le \\frac{1}{q(Q + 1)}$\n",
    "\n",
    "As a consequence of casting out all common factors of $a$ and $q$ in $a/q$ we have\n",
    "\n",
    "$\\gcd(a, q) = 1$\n",
    "\n",
    "__Proof of Lehman's Algorithm__\n",
    "\n",
    "When there is a $d \\mid n$ with $n^{\\frac{1}{3}} \\lt d \\le n^{\\frac{1}{2}}$ then there is a $t$ with $1 \\le t \\le n^{\\frac{1}{3}} + 1$ and $x$ and $y$ s.t.\n",
    "\n",
    "$4tn \\le x^2 \\le 4tn + n^{\\frac{2}{3}}, x^2 - y^2 = 4tn$\n",
    "\n",
    "The runtime is bounded by $n^{\\frac{1}{3}}$"
   ]
  },
  {
   "cell_type": "markdown",
   "metadata": {},
   "source": [
    "---\n",
    "---\n",
    "---"
   ]
  },
  {
   "cell_type": "markdown",
   "metadata": {},
   "source": [
    "## Congruence and Residues"
   ]
  },
  {
   "cell_type": "markdown",
   "metadata": {},
   "source": [
    "---"
   ]
  },
  {
   "cell_type": "markdown",
   "metadata": {},
   "source": [
    "### Residues"
   ]
  },
  {
   "cell_type": "markdown",
   "metadata": {},
   "source": [
    "<span style=\"color: #0096FF;\"><b>RESIDUE CLASS MODULO M</b></span>"
   ]
  },
  {
   "cell_type": "markdown",
   "metadata": {},
   "source": [
    "<div style=\"color: #0096FF;\">\n",
    "\n",
    "Let $m \\in \\mathbb{N}$ and define the residue class $\\bar{r} \\text{ modulo } m$ by\n",
    "\n",
    "$\\bar{r} = \\{ x \\in \\mathbb{Z} : m \\mid (x - r) \\}$\n",
    "\n",
    "</div>"
   ]
  },
  {
   "cell_type": "markdown",
   "metadata": {},
   "source": [
    "$\n",
    "\\begin{aligned}\n",
    "\\bar{0} &= \\{ x \\in \\mathbb{Z} : m \\mid x \\}       && \\text{residue class } \\bar{0} \\mod m \\\\\n",
    "\\bar{1} &= \\{ x \\in \\mathbb{Z} : m \\mid (x - 1) \\} && \\text{residue class } \\bar{1} \\mod m \\\\\n",
    "\\bar{2} &= \\{ x \\in \\mathbb{Z} : m \\mid (x - 2) \\} && \\text{residue class } \\bar{2} \\mod m \\\\\n",
    "\\vdots \\\\\n",
    "\\overline{m - 1} &= \\{ x \\in \\mathbb{Z} : m \\mid (x - m + 1) \\} && \\text{residue class } \\overline{m - 1} \\mod m \\\\\n",
    "\\end  {aligned}\n",
    "$"
   ]
  },
  {
   "cell_type": "markdown",
   "metadata": {},
   "source": [
    "<span style=\"color: #0096FF;\"><b>COMPLETE SYSTEM OF RESIDUES MODULO M</b></span>"
   ]
  },
  {
   "cell_type": "markdown",
   "metadata": {},
   "source": [
    "<div style=\"color: #0096FF;\">\n",
    "\n",
    "By the division algorithm every integer is in one of\n",
    "\n",
    "$\\overline{0}, \\overline{1}, \\dotsc, \\overline{m - 1}$\n",
    "\n",
    "This is called a _complete system of residues modulo_ $m$.\n",
    "\n",
    "</div>"
   ]
  },
  {
   "cell_type": "markdown",
   "metadata": {},
   "source": [
    "Arithmetic can be performed on residue classes just as if they were numbers."
   ]
  },
  {
   "cell_type": "markdown",
   "metadata": {},
   "source": [
    "The residue class $\\bar{0}$ behaves like the number $0$, since $\\bar{0}$ is the set of multiples of $m$, and adding any one of them to an element of $\\bar{r}$ does not change the remainder.\n",
    "\n",
    "Thus for any $r$\n",
    "\n",
    "$\\bar{0} + \\bar{r} = \\bar{r} = \\bar{r} + \\bar{0}$"
   ]
  },
  {
   "cell_type": "markdown",
   "metadata": {},
   "source": [
    "Suppose we are given any two residue classes $\\bar{r}$ and $\\bar{s}$ modulo $m$:\n",
    "\n",
    "$\n",
    "\\begin{aligned}\n",
    "\\bar{r} &= \\{ x \\in \\mathbb{Z} : m \\mid (x - r) \\} \\\\\n",
    "\\bar{s} &= \\{ y \\in \\mathbb{Z} : m \\mid (y - r) \\} \\\\\n",
    "\\end  {aligned}\n",
    "$\n",
    "\n",
    "Let $t$ be the remainder of $r + s$ on division by $m$:\n",
    "\n",
    "$r + s = mz + t$\n",
    "\n",
    "Then the elements of $\\bar{r}$ and $\\bar{s}$ are of the form $r + mx$ and $s + my$ and it is known that $r + s = t + mz$ for some $z$. Thus\n",
    "\n",
    "$\n",
    "\\begin{aligned}\n",
    "r + mx + s + my = t + m(x + y + z) \\in \\bar{t}\n",
    "\\end  {aligned}\n",
    "$\n",
    "\n",
    "Thus it makes sense to write $\\bar{r} + \\bar{s} = \\bar{t}$ and then we have $\\bar{r} + \\bar{s} = \\bar{s} + \\bar{r}$.\n",
    "\n",
    "It is also the case that $\\overline{r} + \\overline{-r} = \\overline{0}$"
   ]
  },
  {
   "cell_type": "markdown",
   "metadata": {},
   "source": [
    "---"
   ]
  },
  {
   "cell_type": "markdown",
   "metadata": {},
   "source": [
    "### Congruence"
   ]
  },
  {
   "cell_type": "markdown",
   "metadata": {},
   "source": [
    "<span style=\"color: #0096FF;\"><b>CONGRUENCE RELATION</b></span>"
   ]
  },
  {
   "cell_type": "markdown",
   "metadata": {},
   "source": [
    "<div style=\"color: #0096FF;\">\n",
    "\n",
    "If $a$ and $b$ are integers and $m$ is a positive integer then $a$ _is congruent to_ $b$ _modulo_ $m$ if $m$ divides $a - b$. (Another way to state this is as follows: Let $m \\in \\mathbb{N}$. If two integers $a$ and $b$ satisfy $m \\mid a - b$ then...)\n",
    "\n",
    "</div>\n",
    "\n",
    "$\n",
    "\\begin{aligned}\n",
    "a \\equiv b \\mod m &\\iff m | (a - b) &&\\iff a = b + km \\\\\n",
    "a \\equiv 0 \\mod m &\\iff m | a       &&\\iff a = km \\\\\n",
    "a \\equiv 1 \\mod m &\\iff m | (a - 1) &&\\iff a = 1 + km \\\\\n",
    "\\end  {aligned}\n",
    "$\n",
    "\n",
    "We say that $a \\equiv b \\mod m$ is a _congruence_ and that $m$ is its _modulus_."
   ]
  },
  {
   "cell_type": "markdown",
   "metadata": {},
   "source": [
    "<div style=\"color: #50C878;\"><b>Example</b></div>\n",
    "\n",
    "$253 \\equiv 13 \\,(\\text{mod } 60)$ because $253 - 13$ is a multiple of $60$. ($253$ minutes is $4$ hours and $13$ minutes.)\n",
    "\n",
    "$59 \\equiv -1 \\,(\\text{mod } 60)$ because $59 - (-1)$ is a multiple of $60$. (When it's $59$ minutes past the hour it's also one minute short of the next hour.)"
   ]
  },
  {
   "cell_type": "markdown",
   "metadata": {},
   "source": [
    "<span style=\"color: #0096FF;\"><b>THEOREM</b></span> [Rosen]"
   ]
  },
  {
   "cell_type": "markdown",
   "metadata": {},
   "source": [
    "$a \\equiv b \\mod m$ represents a relation on the set of integers.\n",
    "\n",
    "$a \\textbf{ mod } m = b$ represents a function.\n",
    "\n",
    "<div style=\"color: #0096FF;\">\n",
    "\n",
    "Let $a$ and $b$ be integers and $m$ be a positive integer. Then $a \\equiv b \\mod m$ iff $a \\textbf{ mod } m = b \\textbf{ mod } m$. (\"a and b are congruent modulo m iff a and b have the same remainder when divided by m\")\n",
    "\n",
    "</div>"
   ]
  },
  {
   "cell_type": "markdown",
   "metadata": {},
   "source": [
    "#### Properties of the congruence relation"
   ]
  },
  {
   "cell_type": "markdown",
   "metadata": {},
   "source": [
    "Reflexivity\n",
    "\n",
    "$x \\equiv x \\mod m$\n",
    "\n",
    "Symmetry\n",
    "\n",
    "$x \\equiv y \\mod m \\iff y \\equiv x \\mod m$\n",
    "\n",
    "Transitivity\n",
    "\n",
    "If $x \\equiv y \\mod m$ and $y \\equiv z \\mod m$ then $x \\equiv z \\mod m$.\n",
    "\n",
    "Congruences modulo $m$ partition the integers into equivalence classes."
   ]
  },
  {
   "cell_type": "markdown",
   "metadata": {},
   "source": [
    "Additions preserve congruence\n",
    "\n",
    "If $x \\equiv y \\mod m$ and $z \\equiv t \\mod m$ then $x + z \\equiv y + t \\mod m$.\n",
    "\n",
    "Multiplications preserve congruences\n",
    "\n",
    "If $x \\equiv y \\mod m$ and $z \\equiv t \\mod m$ then $xz \\equiv yt \\mod m$.\n",
    "\n",
    "If $x \\equiv y \\mod m$ then for any $n \\in \\mathbb{N}$ it is the case that $x^n \\equiv y^n \\mod m$ (using induction on $n$).\n",
    "\n",
    "If $f$ is a polynomial with integer coefficients and $x \\equiv y \\mod m$ then $f(x) \\equiv f(y) \\mod m$."
   ]
  },
  {
   "cell_type": "markdown",
   "metadata": {},
   "source": [
    "**Associativity**\n",
    "\n",
    "$x + (y + z) \\equiv (x + y) + z \\quad(\\text{mod } N)$\n",
    "\n",
    "**Commutativity**\n",
    "\n",
    "$xy \\equiv yz \\quad(\\text{mod } N)$\n",
    "\n",
    "**Distributivity**\n",
    "\n",
    "$x(y + z) \\equiv xy + xz \\quad(\\text{mod } N)$"
   ]
  },
  {
   "cell_type": "markdown",
   "metadata": {},
   "source": [
    "The four rules imply that while performing a sequence of arithmetic operations it is legal to reduce intermediate results to their remainders modulo $N$ at any stage:\n",
    "\n",
    "$2^{345} \\equiv (2^5)^{69} \\equiv 32^{69} \\equiv 1^{69} \\equiv 1 \\quad(\\text{mod } 31)$"
   ]
  },
  {
   "cell_type": "markdown",
   "metadata": {},
   "source": [
    "---"
   ]
  },
  {
   "cell_type": "markdown",
   "metadata": {},
   "source": [
    "### Modular Arithmetic"
   ]
  },
  {
   "cell_type": "markdown",
   "metadata": {},
   "source": [
    "Modular arithmetic operates with the remainders of integers when they are divided by a fixed positive integer called the modulus.\n",
    "For the applications such as primality testing and cryptography it is necessary to deal with numbers which are much larger than 32 bits but whose range is nonetheless limited. Modular arithmetic is a system for dealing with restricted ranges of integers.\n",
    "\n",
    "Ways to think about modular arithmetic\n",
    "* modular arithmetic limits numbers to a predefined range $\\{ 0, 1, \\dotsc, N - 1 \\}$ and wraps around whenever you try to leave this range.\n",
    "* modular arithmetic deals with all the integers, but divides them into $N$ equivalence classes each of the form $\\{ i + kN : k \\in \\mathbb{Z} \\}$ for some $i$ between $0$ and $N - 1$"
   ]
  },
  {
   "cell_type": "markdown",
   "metadata": {},
   "source": [
    "#### Modular Addition"
   ]
  },
  {
   "cell_type": "markdown",
   "metadata": {},
   "source": [
    "To add two numbers $x$ and $y$ modulo $N$ we start with regular addition. $x$ and $y$ are each in the range $0$ to $N - 1$ so their sum is in the range $0$ to $2(N - 1)$. When the sum exceeds $N - 1$ we subtract $N$ so that it falls back into the range $0$ to $N - 1$. The overall computations consists of an addition and a possible subtraction of numbers which never exceed $2N$.\n",
    "\n",
    "$T(n) = O(n)$ where $n = \\lceil \\log N \\rceil$"
   ]
  },
  {
   "cell_type": "markdown",
   "metadata": {},
   "source": [
    "#### Modular Multiplication"
   ]
  },
  {
   "cell_type": "markdown",
   "metadata": {},
   "source": [
    "To multiply two numbers $x$ and $y$ modulo $N$, we start with regular multiplication and then reduce the answer modulo $N$. The product can be as large as $(N - 1)^2$ but this is still at most $2n$ bits long since $\\log (N - 1)^2 = 2 \\log (N - 1) \\le 2n$. To reduce the answer modulo $N$ we compute the remainder upon dividing it by $N$ using the quadratic-time division algorithm. Multiplication thus remains a quadratic operation."
   ]
  },
  {
   "cell_type": "markdown",
   "metadata": {},
   "source": [
    "**Complexity**\n",
    "\n",
    "$T(n) = \\underbrace{\\quad\\quad O(n^2) \\quad\\quad}_{\\text{multiplication}} + \\underbrace{\\quad\\quad O(n^2) \\quad\\quad}_{\\text{reduction modulo \\textit{N} via division}} = O(n^2)$"
   ]
  },
  {
   "cell_type": "markdown",
   "metadata": {},
   "source": [
    "#### Modular Division"
   ]
  },
  {
   "cell_type": "markdown",
   "metadata": {},
   "source": [
    "In ordinary arithmetic there is just one tricky case--division by zero. In modular arithmetic there are other tricky cases.\n",
    "\n",
    "When division is legal, its running time is\n",
    "\n",
    "$T(n) = O(n^3)$"
   ]
  },
  {
   "cell_type": "markdown",
   "metadata": {},
   "source": [
    "#### Modular Exponentiation"
   ]
  },
  {
   "cell_type": "markdown",
   "metadata": {},
   "source": [
    "Can $x^y \\mod N$ be computed quickly for values of $x$, $y$, and $N$ that are several hundred bits long? The result is some number modulo $N$ and is therefore itself a few hundred bits long. The raw value $x^y$ could be much longer. When $x$ and $y$ are just $20\\text{-b}$ numbers $x^y$ is at least $(2^{19})^{2^{19}} = 2^{(19)(524,288)}$ which is about ten million bits long. Imagine what would happen if $y$ is a $500\\text{-b}$ number. To make sure the numbers we are dealing with never grow too large, we need to perform all intermediate computations modulo $N$.\n",
    "\n",
    "Calculate $x^y \\mod N$ by repeatedly multiplying by $x \\mod N$. The resulting sequence of intermediate products $x \\mod N \\to x^2 \\mod N \\to \\dotsb \\to x^y \\mod N$ consists of numbers smaller than $N$, so the individual multiplications do not take too long. But if $y$ is $500$ bits long we need to perform $y - 1 \\approx 2^{500}$ multiplications which is exponential in the size of $y$.\n",
    "\n",
    "It will be better to start with $x$ and repeatedly square modulo $N$: $x \\mod N \\to x^2 \\mod N \\to x^4 \\mod N \\to x^8 \\mod N \\to \\dotsb \\to x^{2^{\\lfloor \\log y \\rfloor}} \\mod N$.\n",
    "\n",
    "Each squaring takes $O(\\log^2 N)$ and there are $\\log y$ multiplications\n",
    "\n",
    "To determine $x^y \\mod N$ multiply together the subset of these powers corresponding to $1$ s in the binary representation of $y$."
   ]
  },
  {
   "cell_type": "markdown",
   "metadata": {},
   "source": [
    "EXAMPLE\n",
    "\n",
    "algorithm decomposition\n",
    "\n",
    "$x^{25} = x^{11001_2} = x^{10000_2} \\cdot x^{1000_2} \\cdot x^{1_2} = x^{16} \\cdot x^8 \\cdot x^1$\n",
    "\n",
    "For multiplication the terms $x \\cdot 2^i$ come from repeated doubling. For exponentiation the terms $x^{2^i}$ come from repeated squaring"
   ]
  },
  {
   "cell_type": "markdown",
   "metadata": {},
   "source": [
    "This algorithm implements the following recursive rule.\n",
    "\n",
    "$\n",
    "x^y =\n",
    "\\begin{cases}\n",
    "        (x^{\\lfloor y/2 \\rfloor})^2 & \\text{if \\textit{y} is even} \\\\\n",
    "x \\cdot (x^{\\lfloor y/2 \\rfloor})^2 & \\text{if \\textit{y} is odd}  \\\\\n",
    "\\end  {cases}\n",
    "$"
   ]
  },
  {
   "cell_type": "markdown",
   "metadata": {},
   "source": [
    "```c\n",
    " INPUT    two n-bit integers x and N, and an integer exponent y\n",
    "OUTPUT    x^y mod N\n",
    "\n",
    "MODEXP (x, y, N)\n",
    "1    if y = 0\n",
    "2        return 1\n",
    "3\n",
    "4    z = MODEXP(x, floor(y/2), N)\n",
    "5\n",
    "6    if even(y)\n",
    "7        return  z^2 mod N\n",
    "8    else\n",
    "9        return xz^2 mod N\n",
    "```"
   ]
  },
  {
   "cell_type": "markdown",
   "metadata": {},
   "source": [
    "**Correctness**\n",
    "\n",
    "The recursive rule is <span style=\"color: red;\">transparently</span> correct. Checking that the algorithm is correct is a matter of verifying that it mimics the rule and that it handles the base case $y = 1$ properly."
   ]
  },
  {
   "cell_type": "markdown",
   "metadata": {},
   "source": [
    "**Complexity**\n",
    "\n",
    "Let $n$ be the size in bits of $x$, $y$, and $N$ (whichever is the largest of the three). As with multiplication, the algorithm will halt after at most $n$ recursive calls and during each call it multiplies $n$-bit numbers (doing computation modulo $N$ saves us here) for a total running time of\n",
    "\n",
    "$T(n) = \\underbrace{\\quad\\quad O(n) \\quad\\quad}_{\\text{recursive calls}} \\times \\underbrace{\\quad\\quad O(n^2) \\quad\\quad}_{\\text{multiplication}} = O(n^3)$"
   ]
  },
  {
   "cell_type": "markdown",
   "metadata": {},
   "source": [
    "---"
   ]
  },
  {
   "cell_type": "markdown",
   "metadata": {},
   "source": [
    "### Reduced Residues"
   ]
  },
  {
   "cell_type": "markdown",
   "metadata": {},
   "source": [
    "<span style=\"color: #0096FF;\"><b>THEOREM</b></span> [Vaughan Theorem 3.]"
   ]
  },
  {
   "cell_type": "markdown",
   "metadata": {},
   "source": [
    "<div style=\"color: #0096FF;\">\n",
    "\n",
    "Suppose that $m \\in \\mathbb{N}$, $k \\in \\mathbb{Z}$, $\\gcd(k, m) = 1$, and\n",
    "\n",
    "$\\overline{a_1}, \\overline{a_2}, \\dotsc, \\overline{a_m}$\n",
    "\n",
    "forms a complete system of residues modulo $m$. Then so does\n",
    "\n",
    "$\\overline{ka_1}, \\overline{ka_2}, \\dotsc, \\overline{ka_m}$\n",
    "\n",
    "</div>"
   ]
  },
  {
   "cell_type": "markdown",
   "metadata": {},
   "source": [
    "<span style=\"color: #0096FF;\"><b>Proof</b></span>\n",
    "\n",
    "<div style=\"color: red;\">\n",
    "\n",
    "Since there are $m$ residue classes it need only be checked that they are disjoint.\n",
    "</div>\n",
    "\n",
    "Consider any two residue classes $\\overline{ka_i}$ and $\\overline{ka_j}$ and let $ka_i + mx$ and $ka_j + my$ be typical members of each, respectively.\n",
    "\n",
    "If they were the same integer then $ka_i + mx = ka_j + my \\iff ka_i - ka_j = my - mx \\iff k(a_i - a_j) = m(y - x)$.\n",
    "\n",
    "But then $m \\mid k(a_i - a_j)$ and since $\\gcd(k, m) = 1$ it would be the case that $m \\mid a_i - a_j$; that $\\overline{a_i}$ and $\\overline{a_j}$ be the same residue class; and that $i = j$.\n",
    "\n",
    "$\\blacksquare$"
   ]
  },
  {
   "cell_type": "markdown",
   "metadata": {},
   "source": [
    "<span style=\"color: #50C878;\"><b>$\\bar{0}, \\bar{1}, \\bar{2}$ is a complete system of residues modulo $m$</b></span>\n",
    "\n",
    "$\n",
    "\\begin{aligned}\n",
    "\\bar{0} &= \\{ x \\in \\mathbb{Z} : 3 \\mid (x - 0) \\} = \\{ 3x \\} \\\\\n",
    "\\bar{1} &= \\{ x \\in \\mathbb{Z} : 3 \\mid (x - 1) \\} = \\{ 3x + 1 \\} \\\\\n",
    "\\bar{2} &= \\{ x \\in \\mathbb{Z} : 3 \\mid (x - 2) \\} = \\{ 3x + 2 \\} \\\\\n",
    "\\end  {aligned}\n",
    "$\n",
    "\n",
    "$\\gcd(2, 3) = 1$\n",
    "\n",
    "$\n",
    "\\begin{aligned}\n",
    "\\bar{0} &= \\{ x \\in \\mathbb{Z} : 3 \\mid (x - 0) \\} = \\{ 3x \\} \\\\\n",
    "\\bar{2} &= \\{ x \\in \\mathbb{Z} : 3 \\mid (x - 2) \\} = \\{ 3x + 2 \\} \\\\\n",
    "\\bar{4} &= \\{ x \\in \\mathbb{Z} : 3 \\mid (x - 4) \\} = \\{ 3x + 4 \\} = \\{ 3(x + 1) + 1 \\} = \\{ 3x + 1 \\} \\\\\n",
    "\\end  {aligned}\n",
    "$"
   ]
  },
  {
   "cell_type": "markdown",
   "metadata": {},
   "source": [
    "<span style=\"color: #0096FF;\"><b>ARITHMETIC FUNCTION</b></span>"
   ]
  },
  {
   "cell_type": "markdown",
   "metadata": {},
   "source": [
    "<div style=\"color: #0096FF;\">\n",
    "\n",
    "A function defined on $\\mathbb{N}$ is called arithmetic.\n",
    "</div>"
   ]
  },
  {
   "cell_type": "markdown",
   "metadata": {},
   "source": [
    "<span style=\"color: #0096FF;\"><b>TOTIENT FUNCTION</b></span>"
   ]
  },
  {
   "cell_type": "markdown",
   "metadata": {},
   "source": [
    "<div style=\"color: #0096FF;\">\n",
    "\n",
    "Euler's totient function $\\phi(n)$ is the number of $x \\in \\mathbb{N}$ with $1 \\le x \\le n$ and $\\gcd(x, n) = 1$.\n",
    "</div>\n",
    "\n",
    "If $p$ is prime then all the $x$ with $1 \\le x \\le p - 1$ satisfy $\\gcd(x, p) = 1$, but $\\gcd(p, p) = p \\ne 1$. Thus $\\boxed{\\phi(p) = p - 1}$."
   ]
  },
  {
   "cell_type": "markdown",
   "metadata": {},
   "source": [
    "<span style=\"color: #50C878;\"><b>$\\phi(n)$ up to $30$</b></span>"
   ]
  },
  {
   "cell_type": "markdown",
   "metadata": {},
   "source": [
    "$\n",
    "\\begin{aligned}\n",
    "\\phi( 1) &=&  1 &&& \\gcd(1, 1) = 1 \\\\\n",
    "\\phi( 2) &=&  1 &&& \\\\\n",
    "\\phi( 3) &=&  2 &&& \\\\\n",
    "\\phi( 4) &=&  2 &&& \\{ 1, 3 \\} \\\\\n",
    "\\phi( 5) &=&  4 &&& \\\\\n",
    "\\phi( 6) &=&  2 &&& \\{ 1, 5 \\} \\\\\n",
    "\\phi( 7) &=&  6 &&& \\\\\n",
    "\\phi( 8) &=&  4 &&& \\{ 1, 3, 5, 7 \\} \\\\\n",
    "\\phi( 9) &=&  6 &&& \\{ 1, 2, 4, 5, 7, 8 \\} \\\\\n",
    "\\phi(10) &=&  4 &&& \\{ 1, 3, 7, 9 \\} \\\\\n",
    "\\phi(11) &=& 10 &&& \\\\\n",
    "\\phi(12) &=&  4 &&& \\{ 1, 5, 7, 11 \\} \\\\\n",
    "\\phi(13) &=& 12 &&& \\\\\n",
    "\\phi(14) &=&  6 &&& \\{ 1, 3, 5, 9, 11, 13 \\} \\\\\n",
    "\\phi(15) &=&  8 &&& \\{ 1, 2, 4, 7, 8, 11, 13, 14 \\} \\\\\n",
    "\\phi(16) &=&  8 &&& \\{ 1, 3, 5, 7, 9, 11, 13, 15 \\} \\\\\n",
    "\\phi(17) &=& 16 &&& \\\\\n",
    "\\phi(18) &=&  6 &&& \\{ 1, 5, 7, 11, 13, 17 \\} \\\\\n",
    "\\phi(19) &=& 18 &&& \\\\\n",
    "\\phi(20) &=&  8 &&& \\{ 1, 3, 7, 9, 11, 13, 17, 19 \\} \\\\\n",
    "\\phi(21) &=& 12 &&& \\{ 1, 2, 4, 5, 8, 10, 11, 13, 16, 17, 19, 20 \\} \\\\\n",
    "\\phi(22) &=& 10 &&& \\{ 1, 3, 5, 7, 9, 13, 15, 17, 19, 21 \\} \\\\\n",
    "\\phi(23) &=& 22 &&& \\\\\n",
    "\\phi(24) &=&  8 &&& \\{ 1, 5, 7, 11, 13, 17, 19, 23 \\} \\\\\n",
    "\\phi(25) &=& 20 &&& \\{ 1, 2, 3, 4, 6, 7, 8, 9, 11, 12, 13, 14, 16, 17, 18, 19, 21, 22, 23, 24 \\} \\\\\n",
    "\\phi(26) &=&    &&& \\\\\n",
    "\\phi(27) &=&    &&& \\\\\n",
    "\\phi(28) &=&    &&& \\\\\n",
    "\\phi(29) &=& 28 &&& \\\\\n",
    "\\phi(30) &=&  8 &&& \\{ 1, 7, 11, 13, 17, 19, 23, 29 \\} \\\\\n",
    "\\end  {aligned}\n",
    "$"
   ]
  },
  {
   "cell_type": "markdown",
   "metadata": {},
   "source": [
    "<span style=\"color: #0096FF;\"><b>SET OF REDUCED RESIDUES MODULO M</b></span>"
   ]
  },
  {
   "cell_type": "markdown",
   "metadata": {},
   "source": [
    "<div style=\"color: #0096FF;\">\n",
    "\n",
    "A set of $\\phi(m)$ distinct residue classes $\\bar{r}$ modulo $m$ with $\\gcd(r, m) = 1$ is called a set of reduced residues modulo $m$.\n",
    "\n",
    "</div>"
   ]
  },
  {
   "cell_type": "markdown",
   "metadata": {},
   "source": [
    "One way of thinking about reduced residues is to start from a complete set of fractions with denominator $m$ in the interval $(0, 1]$\n",
    "\n",
    "$\n",
    "\\begin{aligned}\n",
    "\\frac{1}{m}, \\frac{2}{m}, \\dotsc, \\frac{m}{m}\n",
    "\\end  {aligned}\n",
    "$\n",
    "\n",
    "and remove just the ones whose numerator has a common factor $d \\gt 1$ with $m$. What is left are the $\\phi(m)$ reduced fractions with denominator $m$. Alternatively instead of removing the non-reduced ones we just write them in their lowest form. Then for each divisor $k$ of $m$ we obtain all the reduced fractions with denominator $k$."
   ]
  },
  {
   "cell_type": "markdown",
   "metadata": {},
   "source": [
    "<div class=\"full-width\">\n",
    "\n",
    "$\n",
    "\\begin{aligned}\n",
    "\\frac{1}{30} && \\frac{2}{30} && \\frac{3}{30} && \\frac{4}{30} && \\frac{5}{30} && \\frac{6}{30} && \\frac{7}{30} && \\frac{8}{30} && \\frac{9}{30} && \\frac{10}{30} && \\frac{11}{30} && \\frac{12}{30} && \\frac{13}{30} && \\frac{14}{30} && \\frac{15}{30} && \\frac{16}{30} && \\frac{17}{30} && \\frac{18}{30} && \\frac{19}{30} && \\frac{20}{30} && \\frac{21}{30} && \\frac{22}{30} && \\frac{23}{30} && \\frac{24}{30} && \\frac{25}{30} && \\frac{26}{30} && \\frac{27}{30} && \\frac{28}{30} && \\frac{29}{30} && \\frac{30}{30} \\\\\n",
    "\\\\\n",
    "\\frac{1}{30} && && && && && && \\frac{7}{30} && && && && \\frac{11}{30} && && \\frac{13}{30} && && && && \\frac{17}{30} && && \\frac{19}{30} && && && && \\frac{23}{30} && && && && && && \\frac{29}{30} && \\\\\n",
    "\\\\\n",
    "\\frac{1}{30} && \\frac{1}{15} && \\frac{1}{10} && \\frac{2}{15} && \\frac{1}{6} && \\frac{1}{5} && \\frac{7}{30} && \\frac{4}{15} && \\frac{3}{10} && \\frac{1}{3} && \\frac{11}{30} && \\frac{2}{5} && \\frac{13}{30} && \\frac{7}{15} && \\frac{1}{2} && \\frac{8}{15} && \\frac{17}{30} && \\frac{3}{5} && \\frac{19}{30} && \\frac{2}{3} && \\frac{7}{10} && \\frac{11}{15} && \\frac{23}{30} && \\frac{4}{5} && \\frac{5}{6} && \\frac{13}{15} && \\frac{9}{10} && \\frac{14}{15} && \\frac{29}{30} && 1 \\\\\n",
    "\\end  {aligned}\n",
    "$\n",
    "\n",
    "$\n",
    "\\begin{aligned}\n",
    "k &=  1 && 1                                                                                                                    & \\phi( 1) = 1 \\\\\n",
    "k &=  2 && \\frac{1}{ 2}                                                                                                         & \\phi( 2) = 1 \\\\\n",
    "k &=  3 && \\frac{1}{ 3}, \\frac{2}{ 3}                                                                                           & \\phi( 3) = 2 \\\\\n",
    "k &=  5 && \\frac{1}{ 5}, \\frac{2}{ 5}, \\frac{ 3}{ 5}, \\frac{ 4}{ 5}                                                             & \\phi( 5) = 4 \\\\\n",
    "k &=  6 && \\frac{1}{ 6}, \\frac{5}{ 6}                                                                                           & \\phi( 6) = 2 \\\\\n",
    "k &= 10 && \\frac{1}{10}, \\frac{3}{10}, \\frac{ 7}{10}, \\frac{ 9}{10}                                                             & \\phi(10) = 4 \\\\\n",
    "k &= 15 && \\frac{1}{15}, \\frac{2}{15}, \\frac{ 4}{15}, \\frac{ 7}{15}, \\frac{ 8}{15}, \\frac{11}{15}, \\frac{13}{15}, \\frac{14}{15} & \\phi(15) = 8 \\\\\n",
    "k &= 30 && \\frac{1}{30}, \\frac{7}{30}, \\frac{11}{30}, \\frac{13}{30}, \\frac{17}{30}, \\frac{19}{30}, \\frac{23}{30}, \\frac{29}{30} & \\phi(30) = 8 \\\\\n",
    "\\end  {aligned}\n",
    "$\n",
    "\n",
    "$\n",
    "\\begin{aligned}\n",
    "\\sum_{k \\mid 30} \\phi(k) = 30 = \\phi(1) + \\phi(2) + \\phi(3) + \\phi(5) + \\phi(6) + \\phi(10) + \\phi(15) + \\phi(30)\n",
    "\\end  {aligned}\n",
    "$\n",
    "\n",
    "</div>"
   ]
  },
  {
   "cell_type": "markdown",
   "metadata": {},
   "source": [
    "<span style=\"color: #0096FF;\"><b>THEOREM</b></span> [Vaughan Theorem 3.7]"
   ]
  },
  {
   "cell_type": "markdown",
   "metadata": {},
   "source": [
    "<div style=\"color: #0096FF;\">\n",
    "\n",
    "For each $m \\in \\mathbb{N}$ we have\n",
    "\n",
    "$\n",
    "\\begin{aligned}\n",
    "\\sum_{k \\mid m} \\phi(k) = m = \\phi(1) + \\phi(2) + \\dotsb + \\phi(m)\n",
    "\\end  {aligned}\n",
    "$\n",
    "\n",
    "</div>"
   ]
  },
  {
   "cell_type": "markdown",
   "metadata": {},
   "source": [
    "<span style=\"color: #0096FF;\"><b>Proof</b></span>\n",
    "\n",
    "See the above.\n",
    "\n",
    "$\\blacksquare$"
   ]
  },
  {
   "cell_type": "markdown",
   "metadata": {},
   "source": [
    "<span style=\"color: #0096FF;\"><b>THEOREM</b></span> [Vaughan Theorem 3.9]"
   ]
  },
  {
   "cell_type": "markdown",
   "metadata": {},
   "source": [
    "<div style=\"color: #0096FF;\">\n",
    "\n",
    "Suppose that $\\gcd(k, m) = 1$ and that\n",
    "\n",
    "$a_1, a_2, \\dotsc, a_{\\phi(m)}$\n",
    "\n",
    "forms a set of reduced residue classes modulo $m$. Then\n",
    "\n",
    "$ka_1, ka_2, \\dotsc, ka_{\\phi(m)}$\n",
    "\n",
    "also forms a set of reduced residue classes modulo $m$.\n",
    "\n",
    "</div>"
   ]
  },
  {
   "cell_type": "markdown",
   "metadata": {},
   "source": [
    "<span style=\"color: #0096FF;\"><b>Proof</b></span>"
   ]
  },
  {
   "cell_type": "markdown",
   "metadata": {},
   "source": [
    "<div style=\"color: red;\">\n",
    "\n",
    "In view of the earlier theorem the residue classes $ka_j$ are distinct, and since $\\gcd(a_j, m) = 1$ it is the case that $(ka_j, m) = 1$, so they give $\\phi(m)$ distinct reduced residue classes. So they are all of them in some order.</div>\n",
    "\n",
    "$\\blacksquare$"
   ]
  },
  {
   "cell_type": "markdown",
   "metadata": {},
   "source": [
    "<span style=\"color: #0096FF;\"><b>THEOREM</b></span> [Vaughan Theorem 3.10]"
   ]
  },
  {
   "cell_type": "markdown",
   "metadata": {},
   "source": [
    "<div style=\"color: #0096FF;\">\n",
    "\n",
    "Suppose $m, n \\in \\mathbb{N}$ and $\\gcd(m, n) = 1$, and consider the $xn + ym$ with $1 \\le x \\le m$ and $1 \\le y \\le n$. Then they form a complete set of residues modulo $mn$. If in addition $x$ and $y$ satisfy $\\gcd(x, m) = 1$ and $\\gcd(y, n) = 1$ then they form a reduced set.\n",
    "\n",
    "</div>"
   ]
  },
  {
   "cell_type": "markdown",
   "metadata": {},
   "source": [
    "<span style=\"color: #0096FF;\"><b>Proof</b></span>"
   ]
  },
  {
   "cell_type": "markdown",
   "metadata": {},
   "source": [
    "<div style=\"color: red;\">\n",
    "\n",
    "If $xn + ym \\equiv x'n + y'm \\mod mn$ then $xn \\equiv x'n \\mod m$, so $x \\equiv x' \\mod m$, $x = x'$. Likewise $y = y'$. Hence in either case the $xn + ym$ are distinct modulo $mn$.\n",
    "\n",
    "In the unrestricted case we have $mn$ objects, so they form a coomplete set.\n",
    "\n",
    "In the restricted case $\\gcd(xn + ym, m) = \\gcd(xn, m) = \\gcd(x, m) = 1$ and likewise $\\gcd(xn + ym, n) = 1$, so $\\gcd(xn + ym, mn) = 1$ and the $xn + ym$ all belong to reduced residue classes.\n",
    "\n",
    "Now let $\\gcd(z, mn) = 1$. Choose $x', y', x, y$ so that\n",
    "\n",
    "$\n",
    "\\begin{aligned}\n",
    "x'n + y'm &= 1 \\\\\n",
    "x &\\equiv x'z \\mod m \\\\\n",
    "y &\\equiv y'z \\mod n \\\\\n",
    "\\end  {aligned}\n",
    "$\n",
    "\n",
    "Then $xn + ym \\equiv x'zn + y'zm = z \\mod mn$ and hence every reduced residue is included.\n",
    "\n",
    "$\\blacksquare$\n",
    "\n",
    "</div>"
   ]
  },
  {
   "cell_type": "markdown",
   "metadata": {},
   "source": [
    "<span style=\"color: #50C878;\"><b>$6x + 5y \\mod 30$</b></span>\n",
    "\n",
    "$\n",
    "\\begin{array}{cc|cccc|}\n",
    "  & x & 1 & 2 & 3 & 4 & 5 \\\\\n",
    "y & \\\\ \\hline\n",
    "1 & & 11 & 17 & 23 & 29 &  5 \\\\ \\hline\n",
    "2 & & 16 & 22 & 28 &  4 & 10 \\\\\n",
    "3 & & 21 & 27 &  3 &  9 & 15 \\\\\n",
    "4 & & 26 &  2 &  8 & 14 & 20 \\\\ \\hline\n",
    "5 & &  1 &  7 & 13 & 19 & 25 \\\\ \\hline\n",
    "6 & &  6 & 12 & 18 & 24 & 30 \\\\\n",
    "\\end  {array}\n",
    "$\n",
    "\n",
    "The $30$ numbers $1$ through $30$ each appear exactly once. The $8$ reduced residue classes occur precisely in the intersection of rows $1$ and $5$ and columns $1$ through $4$.\n",
    "\n",
    "$\\gcd(x = 1, 2, 3, 4, m = 5) = \\gcd(y = 1, 5, n = 6)$"
   ]
  },
  {
   "cell_type": "markdown",
   "metadata": {},
   "source": [
    "<span style=\"color: #0096FF;\"><b>THEOREM</b></span> [Vaughan Corollary 3.12]"
   ]
  },
  {
   "cell_type": "markdown",
   "metadata": {},
   "source": [
    "<div style=\"color: #0096FF;\">\n",
    "\n",
    "If $\\gcd(m, n) = 1$ then $\\phi(mn) = \\phi(m) \\phi(n)$.\n",
    "\n",
    "</div>"
   ]
  },
  {
   "cell_type": "markdown",
   "metadata": {},
   "source": [
    "$\n",
    "\\begin{aligned}\n",
    "\\gcd( 1, n) = 1 && \\phi(  n) &= \\phi( 1) \\phi( n) &&=  \\phi(n) \\\\\n",
    "\\gcd( 2, n) = 1 && \\phi( 2n) &= \\phi( 2) \\phi( n) &&=  \\phi(n) \\\\\n",
    "\\gcd( 3, n) = 1 && \\phi( 3n) &= \\phi( 3) \\phi( n) &&= 2\\phi(n) \\\\\n",
    "\\gcd( 4, n) = 1 && \\phi( 4n) &= \\phi( 4) \\phi( n) &&= 2\\phi(n) \\\\\n",
    "\\gcd( 5, n) = 1 && \\phi( 5n) &= \\phi( 5) \\phi( n) &&= 4\\phi(n) \\\\\n",
    "\\gcd( 6, n) = 1 && \\phi( 6n) &= \\phi( 6) \\phi( n) &&= 2\\phi(n) \\\\\n",
    "\\gcd( 7, n) = 1 && \\phi( 7n) &= \\phi( 7) \\phi( n) &&= 6\\phi(n) \\\\\n",
    "\\gcd( 8, n) = 1 && \\phi( 8n) &= \\phi( 8) \\phi( n) &&= 4\\phi(n) \\\\\n",
    "\\gcd( 9, n) = 1 && \\phi( 9n) &= \\phi( 9) \\phi( n) &&= 6\\phi(n) \\\\\n",
    "\\gcd(10, n) = 1 && \\phi(10n) &= \\phi(10) \\phi( n) &&= 4\\phi(n) \\\\\n",
    "\\end  {aligned}\n",
    "$"
   ]
  },
  {
   "cell_type": "markdown",
   "metadata": {},
   "source": [
    "<span style=\"color: #0096FF;\"><b>MULTIPLICATIVE FUNCTION</b></span> [Vaughan Definition 3.13]"
   ]
  },
  {
   "cell_type": "markdown",
   "metadata": {},
   "source": [
    "<div style=\"color: #0096FF;\">\n",
    "\n",
    "If an arithmetical function $f$ which is not identically $0$ satisfies\n",
    "\n",
    "$f(mn) = f(m) f(n)$\n",
    "\n",
    "whenever $\\gcd(m, n) = 1$ then $f$ is called multiplicative.\n",
    "\n",
    "</div>"
   ]
  },
  {
   "cell_type": "markdown",
   "metadata": {},
   "source": [
    "<span style=\"color: #0096FF;\"><b>COROLLARY</b></span> [Vaughan Corollary 3.14]"
   ]
  },
  {
   "cell_type": "markdown",
   "metadata": {},
   "source": [
    "<div style=\"color: #0096FF;\">\n",
    "\n",
    "Euler's function is multiplicative.\n",
    "\n",
    "</div>"
   ]
  },
  {
   "cell_type": "markdown",
   "metadata": {},
   "source": [
    "<span style=\"color: #0096FF;\"><b>THEOREM</b></span> [Vaughan Theorem 3.15]"
   ]
  },
  {
   "cell_type": "markdown",
   "metadata": {},
   "source": [
    "<div style=\"color: #0096FF;\">\n",
    "\n",
    "If $n = p^k$ then the number of reduced residue classes modulo $p^k$ is the number of $x$ with $1 \\le x \\le p^k$ and $p \\nmid x$.\n",
    "\n",
    "This is $p^k - N$ where $N$ is the number of $x$ with $1 \\le x \\le p^k$ and $p \\mid x$, and $N = p^{k - 1}$. Thus\n",
    "\n",
    "$\\phi(p^k) = p^k - p^{k - 1} = p^k (1 - 1/p)$\n",
    "\n",
    "Let $n \\in N$. Then\n",
    "\n",
    "$\n",
    "\\begin{aligned}\n",
    "\\phi(n) = n \\prod_{p \\mid n} (1 - 1/p)\n",
    "\\end  {aligned}\n",
    "$\n",
    "\n",
    "where when $n = 1$ we interpret the product as an empty product $1$.\n",
    "\n",
    "Note that $\\phi(n^2) \\ne \\phi(n)^2$.\n",
    "\n",
    "</div>"
   ]
  },
  {
   "cell_type": "markdown",
   "metadata": {},
   "source": [
    "<span style=\"color: #50C878;\"><b>EXAMPLE</b></span>\n",
    "\n",
    "$\n",
    "\\begin{aligned}\n",
    "n = 2^2 &=     4 &&&     2 = 2   \\times 1 &= 2^2 - 2   &&= | \\{ 1, 3 \\} | \\\\\n",
    "n = 2^3 &=     8 &&&     4 = 2^2 \\times 1 &= 2^3 - 2^2 &&= | \\{ 1, 3, 5, 7 \\} | \\\\\n",
    "n = 2^4 &=    16 &&&     8 = 2^3 \\times 1 &= 2^4 - 2^3 &&= | \\{ 1, 3, 5, 7, 9, 11, 13, 15 \\} | \\\\\n",
    "n = 2^5 &=    32 &&&    16 = 2^4 \\times 1 &= 2^5 - 2^4 &&= \\dots \\\\\n",
    "n = 2^6 &=    64 &&&    32 = 2^5 \\times 1 &= 2^6 - 2^5 &&= \\dots \\\\\n",
    "\\\\\n",
    "n = 3^2 &=     9 &&&     6 = 3   \\times 2 &= 3^2 - 3   &&= | \\{ 1, 2, 4, 5, 7, 8 \\} | \\\\\n",
    "n = 3^3 &=    27 &&&    18 = 3^2 \\times 2 &= 3^3 - 3^2 &&= | \\{ 1, 2, 4, 5, 7, 8, 10, 11, 13, 14, 16, 17, 19, 20, 22, 23, 25, 26 \\} | \\\\\n",
    "n = 3^4 &=    81 &&&    54 = 3^3 \\times 2 &= 3^4 - 3^3 &&= \\dots \\\\\n",
    "n = 3^5 &=   243 &&&   162 = 3^4 \\times 2 &= 3^5 - 3^4 &&= \\dots \\\\\n",
    "n = 3^6 &=   729 &&&   486 = 3^5 \\times 2 &= 3^6 - 3^5 &&= \\dots \\\\\n",
    "\\\\\n",
    "n = 5^2 &=    25 &&&    20 = 5   \\times 4 &= 5^2 - 5   &&= | \\{ 1, 2, 3, 4, 6, 7, 8, 9, 11, 12, 13, 14, 16, 17, 18, 19, 21, 22, 23, 24 \\} | \\\\\n",
    "n = 5^3 &=   125 &&&   100 = 5^2 \\times 4 &= 5^3 - 5^2 &&= \\dots \\\\\n",
    "n = 5^4 &=   625 &&&   500 = 5^3 \\times 4 &= 5^4 - 5^3 &&= \\dots \\\\\n",
    "n = 5^5 &=  3125 &&&  2500 = 5^4 \\times 4 &= 5^5 - 5^4 &&= \\dots \\\\\n",
    "n = 5^6 &= 15625 &&& 12500 = 5^5 \\times 4 &= 5^6 - 5^5 &&= \\dots \\\\\n",
    "\\end  {aligned}\n",
    "$\n",
    "\n",
    "$\n",
    "\\begin{aligned}\n",
    "\\phi( 1) &=  1 \\prod_{p \\mid  1} (1 - 1/p)                                          && := &  1 \\\\\n",
    "\\phi( 2) &=  2 \\prod_{p \\mid  2} (1 - 1/p) =  2 \\times (1 - 1/ 2)                   &&  = &  1 \\\\\n",
    "\\phi( 3) &=  3 \\prod_{p \\mid  3} (1 - 1/p) =  3 \\times (1 - 1/ 3)                   &&  = &  2 \\\\\n",
    "\\phi( 4) &=  4 \\prod_{p \\mid  4} (1 - 1/p) =  4 \\times (1 - 1/ 2)                   &&  = &  2 \\\\\n",
    "\\phi( 5) &=  5 \\prod_{p \\mid  5} (1 - 1/p) =  5 \\times (1 - 1/ 5)                   &&  = &  4 \\\\\n",
    "\\phi( 6) &=  6 \\prod_{p \\mid  6} (1 - 1/p) =  6 \\times (1 - 1/ 2)(1 - 1/3)          &&  = &  2 \\\\\n",
    "\\phi( 7) &=  7 \\prod_{p \\mid  7} (1 - 1/p) =  7 \\times (1 - 1/ 7)                   &&  = &  6 \\\\\n",
    "\\phi( 8) &=  8 \\prod_{p \\mid  8} (1 - 1/p) =  8 \\times (1 - 1/ 2)                   &&  = &  4 \\\\\n",
    "\\phi( 9) &=  9 \\prod_{p \\mid  9} (1 - 1/p) =  9 \\times (1 - 1/ 3)                   &&  = &  6 \\\\\n",
    "\\phi(10) &= 10 \\prod_{p \\mid 10} (1 - 1/p) = 10 \\times (1 - 1/ 2)(1 - 1/5)          &&  = &  4 \\\\\n",
    "\\phi(11) &= 11 \\prod_{p \\mid 11} (1 - 1/p) = 11 \\times (1 - 1/11)                   &&  = & 10 \\\\\n",
    "\\phi(12) &= 12 \\prod_{p \\mid 12} (1 - 1/p) = 12 \\times (1 - 1/ 2)(1 - 1/3)          &&  = &  4 \\\\\n",
    "\\phi(13) &= 13 \\prod_{p \\mid 13} (1 - 1/p) = 13 \\times (1 - 1/13)                   &&  = & 12 \\\\\n",
    "\\phi(14) &= 14 \\prod_{p \\mid 14} (1 - 1/p) = 14 \\times (1 - 1/ 2)(1 - 1/7)          &&  = &  6 \\\\\n",
    "\\phi(15) &= 15 \\prod_{p \\mid 15} (1 - 1/p) = 15 \\times (1 - 1/ 3)(1 - 1/5)          &&  = &  8 \\\\\n",
    "\\phi(16) &= 16 \\prod_{p \\mid 16} (1 - 1/p) = 16 \\times (1 - 1/ 2)                   &&  = &  8 \\\\\n",
    "\\phi(17) &= 17 \\prod_{p \\mid 17} (1 - 1/p) = 17 \\times (1 - 1/17)                   &&  = & 16 \\\\\n",
    "\\phi(18) &= 18 \\prod_{p \\mid 18} (1 - 1/p) = 18 \\times (1 - 1/ 2)(1 - 1/3)          &&  = &  6 \\\\\n",
    "\\phi(19) &= 19 \\prod_{p \\mid 19} (1 - 1/p) = 19 \\times (1 - 1/19)                   &&  = & 18 \\\\\n",
    "\\phi(20) &= 20 \\prod_{p \\mid 20} (1 - 1/p) = 20 \\times (1 - 1/ 2)(1 - 1/5)          &&  = &  8 \\\\\n",
    "\\phi(21) &= 21 \\prod_{p \\mid 21} (1 - 1/p) = 21 \\times (1 - 1/ 3)(1 - 1/7)          &&  = & 12 \\\\\n",
    "\\phi(22) &= 22 \\prod_{p \\mid 22} (1 - 1/p) = 22 \\times (1 - 1/ 2)(1 - 1/11)         &&  = & 10 \\\\\n",
    "\\phi(23) &= 23 \\prod_{p \\mid 23} (1 - 1/p) = 23 \\times (1 - 1/23)                   &&  = & 22 \\\\\n",
    "\\phi(24) &= 24 \\prod_{p \\mid 24} (1 - 1/p) = 24 \\times (1 - 1/ 2)(1 - 1/3)          &&  = &  8 \\\\\n",
    "\\phi(25) &= 25 \\prod_{p \\mid 25} (1 - 1/p) = 25 \\times (1 - 1/ 5)                   &&  = & 20 \\\\\n",
    "\\phi(26) &= 26 \\prod_{p \\mid 26} (1 - 1/p) = 26 \\times (1 - 1/ 2)(1 - 1/13)         &&  = & 12 \\\\\n",
    "\\phi(27) &= 27 \\prod_{p \\mid 27} (1 - 1/p) = 27 \\times (1 - 1/ 3)                   &&  = & 18 \\\\\n",
    "\\phi(28) &= 28 \\prod_{p \\mid 28} (1 - 1/p) = 28 \\times (1 - 1/ 2)(1 - 1/7)          &&  = & 12 \\\\\n",
    "\\phi(29) &= 29 \\prod_{p \\mid 29} (1 - 1/p) = 29 \\times (1 - 1/29)                   &&  = & 28 \\\\\n",
    "\\phi(30) &= 30 \\prod_{p \\mid 30} (1 - 1/p) = 30 \\times (1 - 1/ 2)(1 - 1/3)(1 - 1/5) &&  = &  8 \\\\\n",
    "\\end  {aligned}\n",
    "$"
   ]
  },
  {
   "cell_type": "markdown",
   "metadata": {},
   "source": [
    "---"
   ]
  },
  {
   "cell_type": "markdown",
   "metadata": {},
   "source": [
    "<span style=\"color: #0096FF;\"><b>EULER'S THEOREM</b></span> [Vaughan Theorem 3.17]"
   ]
  },
  {
   "cell_type": "markdown",
   "metadata": {},
   "source": [
    "<div style=\"color: #0096FF;\">\n",
    "\n",
    "Suppose that $m \\in \\mathbb{N}$ and $a \\in \\mathbb{Z}$ with $\\gcd(a, m) = 1$. Then\n",
    "\n",
    "$a^{\\phi(m)} \\equiv 1 \\mod m$\n",
    "\n",
    "</div>"
   ]
  },
  {
   "cell_type": "markdown",
   "metadata": {},
   "source": [
    "<span style=\"color: #0096FF;\"><b>Proof</b></span>"
   ]
  },
  {
   "cell_type": "markdown",
   "metadata": {},
   "source": [
    "Let $a_1, a_2, \\dotsc, a_{\\phi(m)}$ be a reduced set modulo $m$.\n",
    "\n",
    "Then $aa_1, aa_2, \\dotsc, aa_{\\phi(m)}$ is another. Hence\n",
    "\n",
    "$\n",
    "\\begin{aligned}\n",
    "a_1 a_2 \\dots a_{\\phi(m)} &\\equiv aa_1 aa_2 \\dots aa_{\\phi(m)}             & \\mod m \\\\\n",
    "                          &\\equiv  a_1  a_2 \\dots  a_{\\phi(m)} a^{\\phi(m)} & \\mod m \\\\\n",
    "                        1 &\\equiv                  a^{\\phi(m)}             & \\mod m && \\text{since } \\gcd(a_1 a_2 \\dots a_{\\phi(m)}, m) = 1 \\\\\n",
    "\\end  {aligned}\n",
    "$\n",
    "\n",
    "$\\blacksquare$"
   ]
  },
  {
   "cell_type": "markdown",
   "metadata": {},
   "source": [
    "<span style=\"color: #50C878;\"><b>Example</b></span>"
   ]
  },
  {
   "cell_type": "markdown",
   "metadata": {},
   "source": [
    "$\n",
    "\\begin{aligned}\n",
    "m &= 17        & a &= 3 & 3^{16}    &\\equiv 1 \\mod 17 \\\\\n",
    "m &= 341561645 & a &= 2 & 2^{m - 1} &\\equiv 1 \\mod m  \\\\\n",
    "\\end  {aligned}\n",
    "$"
   ]
  },
  {
   "cell_type": "markdown",
   "metadata": {},
   "source": [
    "<span style=\"color: #0096FF;\"><b>FERMAT'S LITTLE THEOREM</b></span> [Vaughan Corollary 3.18]"
   ]
  },
  {
   "cell_type": "markdown",
   "metadata": {},
   "source": [
    "<div style=\"color: #0096FF;\">\n",
    "\n",
    "Let $p$ be a prime and $a \\in \\mathbb{Z}$. Then\n",
    "\n",
    "$a^p \\equiv a \\mod p$\n",
    "\n",
    "If $p \\nmid a$ then\n",
    "\n",
    "$a^{p - 1} \\equiv 1 \\mod p$\n",
    "\n",
    "</div>\n",
    "\n",
    "\"If $p$ is prime and $p$ does not divide $a$ then $a^{p - 1} \\equiv 1 \\mod p$\"\n",
    "\n",
    "The converse of this statement will lead us to the notion of Fermat pseudoprimes."
   ]
  },
  {
   "cell_type": "markdown",
   "metadata": {},
   "source": [
    "<span style=\"color: #50C878;\"><b>Example</b></span>"
   ]
  },
  {
   "cell_type": "markdown",
   "metadata": {},
   "source": [
    "$\n",
    "\\begin{aligned}\n",
    "p &= 17, a = 3 && 3^{17} \\equiv 3 \\mod 17 \\\\\n",
    "\\end  {aligned}\n",
    "$"
   ]
  },
  {
   "cell_type": "markdown",
   "metadata": {},
   "source": [
    "---"
   ]
  },
  {
   "cell_type": "markdown",
   "metadata": {},
   "source": [
    "### Fermat pseudoprimes"
   ]
  },
  {
   "cell_type": "markdown",
   "metadata": {},
   "source": [
    "\n",
    "Pseudoprimes are composite integers masquerading as primes."
   ]
  },
  {
   "cell_type": "markdown",
   "metadata": {},
   "source": [
    "Could Fermat's theorem give us a primality test? Unfortunately, it is possible that\n",
    "\n",
    "$a^{n - 1} \\equiv 1 \\mod n$\n",
    "\n",
    "when $n$ is ___not prime___, although this is rare. For example, when $n = 341,561,645$ then\n",
    "\n",
    "$2^{n - 1} \\equiv 1 \\mod n$\n",
    "\n",
    "Such $n$ are called (Fermat) pseudoprimes."
   ]
  },
  {
   "cell_type": "markdown",
   "metadata": {},
   "source": [
    "<span style=\"color: #0096FF;\"><b>FERMAT PSEUDOPRIME</b></span>"
   ]
  },
  {
   "cell_type": "markdown",
   "metadata": {},
   "source": [
    "<div style=\"color: #0096FF;\">\n",
    "\n",
    "A pseudoprime $m$ to the base $a$ is a composite integer $m$ that masquerades as a prime by satisfying the congruence\n",
    "\n",
    "$a^{m - 1} \\equiv 1 \\mod m$\n",
    "\n",
    "</div>"
   ]
  },
  {
   "cell_type": "markdown",
   "metadata": {},
   "source": [
    "<div style=\"color: red;\">\n",
    "\n",
    "There are $245$ pseudoprimes less than $10^6$ (compared to $78498$ primes less than $10^6$).\n",
    "\n",
    "</div>"
   ]
  },
  {
   "cell_type": "markdown",
   "metadata": {},
   "source": [
    "<span style=\"color: #50C878;\"><b>Base-2 Fermat Pseudoprimes</b></span>"
   ]
  },
  {
   "cell_type": "markdown",
   "metadata": {},
   "source": [
    "$\n",
    "\\begin{aligned}\n",
    "n &= 341       &&= 11 \\times 31                       & 2^{341 - 1} &\\equiv 1 \\mod 341 \\\\\n",
    "n &= 341561645 &&= 5 \\times 67 \\times 773 \\times 1319 & 2^{n - 1}   &\\equiv 1 \\mod n \\\\\n",
    "\\end  {aligned}\n",
    "$"
   ]
  },
  {
   "cell_type": "markdown",
   "metadata": {},
   "source": [
    "$3^{341 - 1} \\equiv 56 \\ne 1 \\mod 341$ suggests a possible primality test.\n",
    "\n",
    "Given $n$, try trial division a few times (say for $d = 2, 3, 5, 7$) and then check $a^{n - 1} \\equiv 1 \\mod n$ successively for $a = 2, 3, 5, 7$.\n",
    "\n",
    "Unfortunately, one still encounters false positives.\n",
    "\n",
    "$561 = 3 \\times 11 \\times 17$ satisfies $a^{560} \\equiv 1 \\mod 561$ for all $a$ with $\\gcd(a, 561) = 1$."
   ]
  },
  {
   "cell_type": "markdown",
   "metadata": {},
   "source": [
    "---"
   ]
  },
  {
   "cell_type": "markdown",
   "metadata": {},
   "source": [
    "### Carmichael Numbers"
   ]
  },
  {
   "cell_type": "markdown",
   "metadata": {},
   "source": [
    "<span style=\"color: #0096FF;\"><b>CARMICHAEL NUMBER</b></span> [Vaughan Definition 3.19]"
   ]
  },
  {
   "cell_type": "markdown",
   "metadata": {},
   "source": [
    "<div style=\"color: #0096FF;\">\n",
    "\n",
    "A composite $n$ which satisfies $a^{n - 1} \\equiv 1 \\mod n$ for all $a$ with $\\gcd(a, n) = 1$ is called a Carmichael number.\n",
    "\n",
    "</div>\n",
    "\n",
    "\"A Carmichael number is a composite integer that is a pseudoprime to all bases $a$ coprime prime to it.\"\n",
    "\n",
    "There are infinitely many Carmichael numbers. The smallest is $561$ and there are $2163$ of them below $25 \\times 10^9$."
   ]
  },
  {
   "cell_type": "markdown",
   "metadata": {},
   "source": [
    "---"
   ]
  },
  {
   "cell_type": "markdown",
   "metadata": {},
   "source": [
    "### Mersenne Primes"
   ]
  },
  {
   "cell_type": "markdown",
   "metadata": {},
   "source": [
    "<span style=\"color: #0096FF;\"><b>MERSENNE PRIME</b></span> [Vaughan Definition 3.20]"
   ]
  },
  {
   "cell_type": "markdown",
   "metadata": {},
   "source": [
    "<div style=\"color: #0096FF;\">\n",
    "\n",
    "Define $M(n) = 2^n - 1$. If it is prime then it is a Mersenne prime.\n",
    "\n",
    "</div>\n",
    "\n",
    "If $n = ab$ then $M(ab) = (2^a - 1)(2^{a(b - 1)} + \\dotsb + 2^a + 1)$.\n",
    "\n",
    "Thus for $M(n)$ to be prime it is necessary that $n$ be prime. However, that is not sufficient."
   ]
  },
  {
   "cell_type": "markdown",
   "metadata": {},
   "source": [
    "<span style=\"color: #50C878;\"><b>Example</b></span>"
   ]
  },
  {
   "cell_type": "markdown",
   "metadata": {},
   "source": [
    "$\n",
    "\\begin{aligned}\n",
    "M( 2) &=& 2^2    - 1 &=&    3 &                                && \\text{} \\\\\n",
    "M( 3) &=& 2^3    - 1 &=&    7 &                                && \\text{} \\\\\n",
    "M( 5) &=& 2^5    - 1 &=&   31 &                                && \\text{} \\\\\n",
    "M( 7) &=& 2^7    - 1 &=&  127 &                                && \\text{} \\\\\n",
    "M(11) &=& 2^{11} - 1 &=& 2047 &= \\textcolor{red}{23 \\times 89} && \\text{not a Mersenne prime} \\\\\n",
    "\\end  {aligned}\n",
    "$"
   ]
  },
  {
   "cell_type": "markdown",
   "metadata": {},
   "source": [
    "---\n",
    "---\n",
    "---"
   ]
  },
  {
   "cell_type": "markdown",
   "metadata": {},
   "source": [
    "## Linear Congruence"
   ]
  },
  {
   "cell_type": "markdown",
   "metadata": {},
   "source": [
    "---"
   ]
  },
  {
   "cell_type": "markdown",
   "metadata": {},
   "source": [
    "Linear congruences have the form\n",
    "\n",
    "$ax \\equiv b \\mod m$\n",
    "\n",
    "To solve linear congruences, inverses modulo $m$ are employed. Work backward through the steps of the Euclidean algorithm to find inverses modulo $m$. Once an inverse of $a$ modulo $m$ has been found, solve the linear congruence by multiplying both sides by the inverse."
   ]
  },
  {
   "cell_type": "markdown",
   "metadata": {},
   "source": [
    "---"
   ]
  },
  {
   "cell_type": "markdown",
   "metadata": {},
   "source": [
    "We have already solved $ax \\equiv b \\mod m$ in principle since it is equivalent to $ax + my = b$. (Bézout!)"
   ]
  },
  {
   "cell_type": "markdown",
   "metadata": {},
   "source": [
    "<span style=\"color: #0096FF;\"><b>THEOREM</b></span> [Vaughan Theorem 3.22]"
   ]
  },
  {
   "cell_type": "markdown",
   "metadata": {},
   "source": [
    "<div style=\"color: #0096FF;\">\n",
    "\n",
    "The congruence $ax \\equiv b \\mod m$ is soluble iff $\\gcd(a, m) \\mid b$, and the general solution is given by the residue class $x_0$ modulo $m/\\gcd(a, m)$. $x_0$ can be found by applying Euclid's algorithm.\n",
    "\n",
    "</div>"
   ]
  },
  {
   "cell_type": "markdown",
   "metadata": {},
   "source": [
    "<span style=\"color: #0096FF;\"><b>Proof</b></span>"
   ]
  },
  {
   "cell_type": "markdown",
   "metadata": {},
   "source": [
    "<div style=\"color: red;\">\n",
    "\n",
    "The congruence $ax \\equiv b \\mod m$ is equivalent to the equation $ax + my = b$:\n",
    "\n",
    "\\begin{align}\n",
    "ax \\equiv b \\mod m \\iff m \\mid (ax - b) \\iff ax - b = mk \\iff ax + my = b \\text{ with } y = -k\n",
    "\\end  {align}\n",
    "\n",
    "and there can be no solution if $\\gcd(a, m) \\nmid b$.\n",
    "\n",
    "If $\\gcd(a, m) \\mid b$ then Euclid's algorithm solves\n",
    "\n",
    "$\n",
    "\\begin{aligned}\n",
    "\\frac{a}{\\gcd(a, m)} x + \\frac{m}{\\gcd(a, m)} y = \\frac{b}{\\gcd(a, m)}\n",
    "\\end  {aligned}\n",
    "$\n",
    "\n",
    "Let $x_0, y_0$ be such a solution and let $x, y$ be any solution. Then $a/\\gcd(a, m)(x - x_0) \\equiv 0 \\mod m/\\gcd(a, m)$ and since\n",
    "\n",
    "$\n",
    "\\begin{aligned}\n",
    "\\gcd \\left( \\frac{a}{\\gcd(a, m)}, \\frac{m}{\\gcd(a, m)} \\right) = 1\n",
    "\\end  {aligned}\n",
    "$\n",
    "\n",
    "it follows that $x$ is in the residue class $x_0 \\mod m/\\gcd(a, m)$\n",
    "\n",
    "</div>\n",
    "\n",
    "$\\blacksquare$"
   ]
  },
  {
   "cell_type": "markdown",
   "metadata": {},
   "source": [
    "<span style=\"color: #0096FF;\"><b>WILSON'S THEOREM</b></span> [Vaughan Theorem 3.23]"
   ]
  },
  {
   "cell_type": "markdown",
   "metadata": {},
   "source": [
    "<div style=\"color: #0096FF;\">\n",
    "\n",
    "Let $p$ be prime. Then $(p - 1)! \\equiv -1 \\mod p$.\n",
    "\n",
    "</div>"
   ]
  },
  {
   "cell_type": "markdown",
   "metadata": {},
   "source": [
    "<span style=\"color: #0096FF;\"><b>Proof</b></span>"
   ]
  },
  {
   "cell_type": "markdown",
   "metadata": {},
   "source": [
    "$\n",
    "\\begin{aligned}\n",
    "p &= 2 && (2 - 1)! \\equiv -1 \\mod 2 \\\\\n",
    "p &= 3 && (3 - 1)! \\equiv -1 \\mod 3 \\\\\n",
    "\\end  {aligned}\n",
    "$\n",
    "\n",
    "Suppose $p \\ge 5$. Observe now that $x^2 \\equiv 1 \\mod p$ implies that $x \\equiv \\pm 1 \\mod p$.\n",
    "\n",
    "Thus the numbers $2, 3, \\dotsc, p - 2$ can be paired off into $\\frac{p - 3}{2}$ mutually exclusive pairs $a, b$ s.t. $ab \\equiv 1 \\mod p$.\n",
    "\n",
    "Thus $(p - 1)! \\equiv p - 1 \\equiv -1 \\mod p$\n",
    "\n",
    "$\\blacksquare$\n",
    "\n",
    "This theorem actually gives a necessary and sufficient condition for $p$ to be prime, since if $p$ were to be composite then $\\gcd((p - 1)!, p) \\gt 1$. However, it is useless because $(p - 1)!$ grows very rapidly."
   ]
  },
  {
   "cell_type": "markdown",
   "metadata": {},
   "source": [
    "---"
   ]
  },
  {
   "cell_type": "markdown",
   "metadata": {},
   "source": [
    "### Chinese Remainder Theorem"
   ]
  },
  {
   "cell_type": "markdown",
   "metadata": {},
   "source": [
    "<span style=\"color: #0096FF;\"><b>SYSTEM OF LINEAR CONGRUENCES</b></span>"
   ]
  },
  {
   "cell_type": "markdown",
   "metadata": {},
   "source": [
    "<div style=\"color: #0096FF;\">\n",
    "\n",
    "$\n",
    "\\begin{cases}\n",
    "a_1 x &\\equiv b_1 \\mod q_1 \\\\\n",
    "a_2 x &\\equiv b_2 \\mod q_2 \\\\\n",
    "\\dots \\\\\n",
    "a_r x &\\equiv b_r \\mod q_r \\\\\n",
    "\\end  {cases}\n",
    "$\n",
    "\n",
    "</div>\n",
    "\n",
    "There can only be a solution when each individual equation is soluble, so we require $\\gcd(a_j, q_j) \\mid b_j$ for every $j$.\n",
    "\n",
    "Then we know that each individual equation is soluble by some residue class modulo $q_j / \\gcd(a_j, q_j)$.\n",
    "\n",
    "Thus for some values of $c_j$ and $m_j$ this reduces to\n",
    "\n",
    "$\n",
    "\\begin{cases}\n",
    "x &\\equiv c_1 \\mod m_1 \\\\\n",
    "\\dots \\\\\n",
    "x &\\equiv c_r \\mod m_r \\\\\n",
    "\\end  {cases}\n",
    "$\n",
    "\n",
    "Suppose for some $i$ and $j \\ne i$ we have $\\gcd(m_i, m_j) = d \\gt 1$. Then $x$ has to satisfy $c_i \\equiv x \\equiv c_j \\mod d$. This imposes conditions on $c_j$ which can get complicated. Thus it is convenient to assume that $\\gcd(m_i, m_j) = 1$ when $i \\ne j$."
   ]
  },
  {
   "cell_type": "markdown",
   "metadata": {},
   "source": [
    "<span style=\"color: #0096FF;\"><b>CHINESE REMAINDER THEOREM</b></span>"
   ]
  },
  {
   "cell_type": "markdown",
   "metadata": {},
   "source": [
    "The Chinese Remainder Theorem is about solving systems of linear congruences modulo pairwise coprime moduli."
   ]
  },
  {
   "cell_type": "markdown",
   "metadata": {},
   "source": [
    "<div style=\"color: #0096FF;\">\n",
    "\n",
    "Suppose that $\\gcd(m_i, m_j) = 1$ for every $i \\ne j$.\n",
    "\n",
    "Then the system\n",
    "\n",
    "$\n",
    "\\begin{cases}\n",
    "x &\\equiv c_1 \\mod m_1 \\\\\n",
    "\\dots \\\\\n",
    "x &\\equiv c_r \\mod m_r \\\\\n",
    "\\end  {cases}\n",
    "$\n",
    "\n",
    "has as its complete solution precisely the members of a unique residue class modulo $m_1 m_2 \\dots m_r$.\n",
    "\n",
    "</div>"
   ]
  },
  {
   "cell_type": "markdown",
   "metadata": {},
   "source": [
    "<span style=\"color: #0096FF;\"><b>Proof</b></span>"
   ]
  },
  {
   "cell_type": "markdown",
   "metadata": {},
   "source": [
    "_EXISTENCE_\n",
    "\n",
    "Let $M = m_1 m_2 \\dots m_r$ and $M_j = M / m_j$, so that $\\gcd(M_j, m_j) = 1$.\n",
    "\n",
    "We know that there is an $N_j$ so that $M_j N_j \\equiv c_j \\mod m_j$. (Solve $yM_j \\equiv c_j \\mod m_j$ in $y$.)\n",
    "\n",
    "Let $x$ be any member of the residue class $N_1 M_1 + \\dotsb + N_r M_r \\mod M$.\n",
    "\n",
    "Then for every $j$, since $m_j \\mid M_i$ when $i \\ne j$ we have $x \\equiv N_j M_j \\equiv c_j \\mod m_j$.\n",
    "\n",
    "So the residue class $x \\mod M$ gives a solution.\n",
    "\n",
    "_UNIQUENESS_\n",
    "\n",
    "Suppose $y$ is also a solution of the system.\n",
    "\n",
    "Then for every $j$ we have $y \\equiv c_j \\equiv x \\mod m_j$ and so $m_j \\mid y - x$.\n",
    "\n",
    "Since the $m_j$ are pairwise coprime we have $M \\mid y - x$, so $y$ is in the residue class $x$ modulo $M$.\n",
    "\n",
    "$\\blacksquare$"
   ]
  },
  {
   "cell_type": "markdown",
   "metadata": {},
   "source": [
    "<span style=\"color: #50C878;\"><b>Example</b></span>"
   ]
  },
  {
   "cell_type": "markdown",
   "metadata": {},
   "source": [
    "$\n",
    "\\begin{aligned}\n",
    "x &\\equiv \\underset{c_1}{3} \\mod \\underset{m_1}{\\phantom{2}4} \\\\\n",
    "x &\\equiv \\underset{c_2}{5} \\mod \\underset{m_2}{21} \\\\\n",
    "x &\\equiv \\underset{c_3}{7} \\mod \\underset{m_3}{25} \\\\\n",
    "\\end  {aligned}\n",
    "$\n",
    "\n",
    "$\n",
    "\\begin{aligned}\n",
    "M   &=          m_1          \\times m_2          \\times m_3  = & 2100 \\\\\n",
    "M_1 &= \\phantom{m_1          \\times}m_2          \\times m_3  = &  525 \\\\\n",
    "M_2 &=          m_1 \\phantom{\\times m_2}         \\times m_3  = &  100 \\\\\n",
    "M_3 &=          m_1          \\times m_2 \\phantom{\\times m_3} = &   84 \\\\\n",
    "\\end  {aligned}\n",
    "$\n",
    "\n",
    "Solve\n",
    "\n",
    "$\n",
    "\\begin{aligned}\n",
    "525 N_1 &\\equiv 3 \\mod \\phantom{2}4 \\\\\n",
    "100 N_2 &\\equiv 5 \\mod 21 \\\\\n",
    " 84 N_3 &\\equiv 7 \\mod 25 \\\\\n",
    "\\end  {aligned}\n",
    "$\n",
    "\n",
    "reduces to\n",
    "\n",
    "$\n",
    "\\begin{aligned}\n",
    "     N_1 &\\equiv 3 \\mod \\phantom{2}4 \\\\\n",
    "(-5) N_2 &\\equiv 5 \\mod 21 \\\\\n",
    "   9 N_3 &\\equiv 7 \\equiv -18 \\mod 25 \\\\\n",
    "\\end  {aligned}\n",
    "$\n",
    "\n",
    "$\n",
    "\\begin{aligned}\n",
    "N_1 &= 3 \\\\\n",
    "N_2 &= 20 \\\\\n",
    "N_3 &= 23 \\equiv -2 \\mod 25 \\\\\n",
    "\\end  {aligned}\n",
    "$\n",
    "\n",
    "$\n",
    "\\begin{aligned}\n",
    "x\n",
    "&\\equiv N_1 M_1 + N_2 M_2 + N_3 M_3 \\mod M \\\\\n",
    "&= 3 \\times 525 + 20 \\times 100 + 23 \\times 84 \\mod 2100 \\\\\n",
    "&= 5507 \\mod 2100 \\\\\n",
    "&\\equiv 1307 \\mod 2100 \\\\\n",
    "\\end  {aligned}\n",
    "$"
   ]
  },
  {
   "cell_type": "markdown",
   "metadata": {},
   "source": [
    "---\n",
    "---\n",
    "---"
   ]
  },
  {
   "cell_type": "markdown",
   "metadata": {},
   "source": [
    "## Primitive Roots"
   ]
  },
  {
   "cell_type": "markdown",
   "metadata": {},
   "source": [
    "<span style=\"color: #0096FF;\"><b>PRIMITIVE ROOT</b></span>"
   ]
  },
  {
   "cell_type": "markdown",
   "metadata": {},
   "source": [
    "<div style=\"color: #0096FF;\">\n",
    "\n",
    "A primitive root of a prime $p$ is an integer $r$ s.t. every integer not divisible by $p$ is congruent to a power $r$ modulo $p$.\n",
    "\n",
    "</div>"
   ]
  },
  {
   "cell_type": "markdown",
   "metadata": {},
   "source": [
    "---\n",
    "---\n",
    "---"
   ]
  },
  {
   "cell_type": "markdown",
   "metadata": {},
   "source": [
    "## Discrete Logarithms"
   ]
  },
  {
   "cell_type": "markdown",
   "metadata": {},
   "source": [
    "A discrete logarithm is analogous to an ordinary logarithm.\n",
    "\n",
    "In general, finding discrete logarithms is a difficult problem and is the basis for the security of many cryptographic systems."
   ]
  },
  {
   "cell_type": "markdown",
   "metadata": {},
   "source": [
    "<span style=\"color: #0096FF;\"><b>DISCRETE LOGARITHM</b></span>"
   ]
  },
  {
   "cell_type": "markdown",
   "metadata": {},
   "source": [
    "<div style=\"color: #0096FF;\">\n",
    "\n",
    "If $r$ is a primitive root of $p$ and $r^e \\equiv a \\mod p$ then $e$ is the discrete logarithm of $a$ modulo $p$ to the base $r$.\n",
    "\n",
    "</div>"
   ]
  },
  {
   "cell_type": "markdown",
   "metadata": {},
   "source": [
    "---\n",
    "---\n",
    "---"
   ]
  },
  {
   "cell_type": "markdown",
   "metadata": {},
   "source": [
    "## Acknowledgements"
   ]
  },
  {
   "cell_type": "markdown",
   "metadata": {},
   "source": [
    "`2006` Dasgupta, Sanjoy; Christos Papadimitriou; & Umesh Vazirani. _Algorithms_. Chapter 1. McGraw-Hill.\n",
    "\n",
    "`2018` Rosen, Kenneth. _Discrete Mathematics and its Applications_ 8e. McGraw-Hill.\n",
    "\n",
    "`2023` Vaughan, Robert. _A Course of Elementary Number Theory_."
   ]
  },
  {
   "cell_type": "markdown",
   "metadata": {},
   "source": [
    "---"
   ]
  }
 ],
 "metadata": {
  "kernelspec": {
   "display_name": "ml",
   "language": "python",
   "name": "python3"
  },
  "language_info": {
   "codemirror_mode": {
    "name": "ipython",
    "version": 3
   },
   "file_extension": ".py",
   "mimetype": "text/x-python",
   "name": "python",
   "nbconvert_exporter": "python",
   "pygments_lexer": "ipython3",
   "version": "3.11.9"
  }
 },
 "nbformat": 4,
 "nbformat_minor": 2
}
