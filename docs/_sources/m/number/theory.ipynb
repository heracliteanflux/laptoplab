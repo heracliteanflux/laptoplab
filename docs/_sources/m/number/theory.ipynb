{
 "cells": [
  {
   "cell_type": "markdown",
   "metadata": {},
   "source": [
    "# Number Theory"
   ]
  },
  {
   "cell_type": "markdown",
   "metadata": {},
   "source": [
    "---"
   ]
  },
  {
   "cell_type": "markdown",
   "metadata": {},
   "source": [
    "## Contents\n",
    "```{contents}\n",
    "```"
   ]
  },
  {
   "cell_type": "markdown",
   "metadata": {},
   "source": [
    "---"
   ]
  },
  {
   "cell_type": "markdown",
   "metadata": {},
   "source": [
    "## Division"
   ]
  },
  {
   "cell_type": "markdown",
   "metadata": {},
   "source": [
    "---"
   ]
  },
  {
   "cell_type": "markdown",
   "metadata": {},
   "source": [
    "## Congruence"
   ]
  },
  {
   "cell_type": "markdown",
   "metadata": {},
   "source": [
    "---"
   ]
  },
  {
   "cell_type": "markdown",
   "metadata": {},
   "source": [
    "## Residues"
   ]
  },
  {
   "cell_type": "markdown",
   "metadata": {},
   "source": [
    "<span style=\"color: lightblue;\"><b>ARITHMETIC FUNCTION</b></span>"
   ]
  },
  {
   "cell_type": "markdown",
   "metadata": {},
   "source": [
    "<div style=\"color: lightblue;\">\n",
    "\n",
    "A function defined on $\\mathbb{N}$ is called arithmetic.\n",
    "</div>"
   ]
  },
  {
   "cell_type": "markdown",
   "metadata": {},
   "source": [
    "<span style=\"color: lightblue;\"><b>TOTIENT FUNCTION</b></span>"
   ]
  },
  {
   "cell_type": "markdown",
   "metadata": {},
   "source": [
    "<div style=\"color: lightblue;\">\n",
    "\n",
    "Euler's totient function $\\phi(n)$ is the number of $x \\in \\mathbb{N}$ with $1 \\le x \\le n$ and $\\gcd(x, n) = 1$.\n",
    "</div>\n",
    "\n",
    "If $p$ is prime then all the $x$ with $1 \\le x \\le p - 1$ satisfy $\\gcd(x, p) = 1$, but $\\gcd(p, p) = p \\ne 1$. Thus $\\boxed{\\phi(p) = p - 1}$."
   ]
  },
  {
   "cell_type": "markdown",
   "metadata": {},
   "source": [
    "<span style=\"color: lightgreen;\"><b>$\\phi(n)$ up to $30$</b></span>"
   ]
  },
  {
   "cell_type": "markdown",
   "metadata": {},
   "source": [
    "$\n",
    "\\begin{aligned}\n",
    "\\phi( 1) &=&  1 &&& \\gcd(1, 1) = 1 \\\\\n",
    "\\phi( 2) &=&  1 &&& \\\\\n",
    "\\phi( 3) &=&  2 &&& \\\\\n",
    "\\phi( 4) &=&  2 &&& \\{ 1, 3 \\} \\\\\n",
    "\\phi( 5) &=&  4 &&& \\\\\n",
    "\\phi( 6) &=&  2 &&& \\{ 1, 5 \\} \\\\\n",
    "\\phi( 7) &=&  6 &&& \\\\\n",
    "\\phi( 8) &=&  4 &&& \\{ 1, 3, 5, 7 \\} \\\\\n",
    "\\phi( 9) &=&  6 &&& \\{ 1, 2, 4, 5, 7, 8 \\} \\\\\n",
    "\\phi(10) &=&  4 &&& \\{ 1, 3, 7, 9 \\} \\\\\n",
    "\\phi(11) &=& 10 &&& \\\\\n",
    "\\phi(12) &=&  4 &&& \\{ 1, 5, 7, 11 \\} \\\\\n",
    "\\phi(13) &=& 12 &&& \\\\\n",
    "\\phi(14) &=&  6 &&& \\{ 1, 3, 5, 9, 11, 13 \\} \\\\\n",
    "\\phi(15) &=&  8 &&& \\{ 1, 2, 4, 7, 8, 11, 13, 14 \\} \\\\\n",
    "\\phi(16) &=&  8 &&& \\{ 1, 3, 5, 7, 9, 11, 13, 15 \\} \\\\\n",
    "\\phi(17) &=& 16 &&& \\\\\n",
    "\\phi(18) &=&  6 &&& \\{ 1, 5, 7, 11, 13, 17 \\} \\\\\n",
    "\\phi(19) &=& 18 &&& \\\\\n",
    "\\phi(20) &=&  8 &&& \\{ 1, 3, 7, 9, 11, 13, 17, 19 \\} \\\\\n",
    "\\phi(21) &=& 12 &&& \\{ 1, 2, 4, 5, 8, 10, 11, 13, 16, 17, 19, 20 \\} \\\\\n",
    "\\phi(22) &=& 10 &&& \\{ 1, 3, 5, 7, 9, 13, 15, 17, 19, 21 \\} \\\\\n",
    "\\phi(23) &=& 22 &&& \\\\\n",
    "\\phi(24) &=&  8 &&& \\{ 1, 5, 7, 11, 13, 17, 19, 23 \\} \\\\\n",
    "\\phi(25) &=& 20 &&& \\{ 1, 2, 3, 4, 6, 7, 8, 9, 11, 12, 13, 14, 16, 17, 18, 19, 21, 22, 23, 24 \\} \\\\\n",
    "\\phi(26) &=&    &&& \\\\\n",
    "\\phi(27) &=&    &&& \\\\\n",
    "\\phi(28) &=&    &&& \\\\\n",
    "\\phi(29) &=& 28 &&& \\\\\n",
    "\\phi(30) &=&  8 &&& \\{ 1, 7, 11, 13, 17, 19, 23, 29 \\} \\\\\n",
    "\\end  {aligned}\n",
    "$"
   ]
  },
  {
   "cell_type": "markdown",
   "metadata": {},
   "source": [
    "<span style=\"color: lightblue;\"><b>SET OF REDUCED RESIDUES MODULO M</b></span>"
   ]
  },
  {
   "cell_type": "markdown",
   "metadata": {},
   "source": [
    "<div style=\"color: lightblue;\">\n",
    "\n",
    "A set of $\\phi(m)$ distinct residue classes $\\bar{r}$ modulo $m$ with $\\gcd(r, m) = 1$ is called a set of reduced residues modulo $m$.\n",
    "</div>"
   ]
  },
  {
   "cell_type": "markdown",
   "metadata": {},
   "source": [
    "One way of thinking about reduced residues is to start from a complete set of fractions with denominator $m$ in the interval $(0, 1]$\n",
    "\n",
    "$\n",
    "\\begin{aligned}\n",
    "\\frac{1}{m}, \\frac{2}{m}, \\dotsc, \\frac{m}{m}\n",
    "\\end  {aligned}\n",
    "$\n",
    "\n",
    "and remove just the ones whose numerator has a common factor $d \\gt 1$ with $m$. What is left are the $\\phi(m)$ reduced fractions with denominator $m$. Alternatively instead of removing the non-reduced ones we just write them in their lowest form. Then for each divisor $k$ of $m$ we obtain all the reduced fractions with denominator $k$."
   ]
  },
  {
   "cell_type": "markdown",
   "metadata": {},
   "source": [
    "$\n",
    "\\begin{aligned}\n",
    "\\frac{1}{30} && \\frac{2}{30} && \\frac{3}{30} && \\frac{4}{30} && \\frac{5}{30} && \\frac{6}{30} && \\frac{7}{30} && \\frac{8}{30} && \\frac{9}{30} && \\frac{10}{30} && \\frac{11}{30} && \\frac{12}{30} && \\frac{13}{30} && \\frac{14}{30} && \\frac{15}{30} && \\frac{16}{30} && \\frac{17}{30} && \\frac{18}{30} && \\frac{19}{30} && \\frac{20}{30} && \\frac{21}{30} && \\frac{22}{30} && \\frac{23}{30} && \\frac{24}{30} && \\frac{25}{30} && \\frac{26}{30} && \\frac{27}{30} && \\frac{28}{30} && \\frac{29}{30} && \\frac{30}{30} \\\\\n",
    "\\\\\n",
    "\\frac{1}{30} && && && && && && \\frac{7}{30} && && && && \\frac{11}{30} && && \\frac{13}{30} && && && && \\frac{17}{30} && && \\frac{19}{30} && && && && \\frac{23}{30} && && && && && && \\frac{29}{30} && \\\\\n",
    "\\\\\n",
    "\\frac{1}{30} && \\frac{1}{15} && \\frac{1}{10} && \\frac{2}{15} && \\frac{1}{6} && \\frac{1}{5} && \\frac{7}{30} && \\frac{4}{15} && \\frac{3}{10} && \\frac{1}{3} && \\frac{11}{30} && \\frac{2}{5} && \\frac{13}{30} && \\frac{7}{15} && \\frac{1}{2} && \\frac{8}{15} && \\frac{17}{30} && \\frac{3}{5} && \\frac{19}{30} && \\frac{2}{3} && \\frac{7}{10} && \\frac{11}{15} && \\frac{23}{30} && \\frac{4}{5} && \\frac{5}{6} && \\frac{13}{15} && \\frac{9}{10} && \\frac{14}{15} && \\frac{29}{30} && 1 \\\\\n",
    "\\end  {aligned}\n",
    "$\n",
    "\n",
    "$\n",
    "\\begin{aligned}\n",
    "k &=  1 && 1                                                                                                                    & \\phi( 1) = 1 \\\\\n",
    "k &=  2 && \\frac{1}{ 2}                                                                                                         & \\phi( 2) = 1 \\\\\n",
    "k &=  3 && \\frac{1}{ 3}, \\frac{2}{ 3}                                                                                           & \\phi( 3) = 2 \\\\\n",
    "k &=  5 && \\frac{1}{ 5}, \\frac{2}{ 5}, \\frac{ 3}{ 5}, \\frac{ 4}{ 5}                                                             & \\phi( 5) = 4 \\\\\n",
    "k &=  6 && \\frac{1}{ 6}, \\frac{5}{ 6}                                                                                           & \\phi( 6) = 2 \\\\\n",
    "k &= 10 && \\frac{1}{10}, \\frac{3}{10}, \\frac{ 7}{10}, \\frac{ 9}{10}                                                             & \\phi(10) = 4 \\\\\n",
    "k &= 15 && \\frac{1}{15}, \\frac{2}{15}, \\frac{ 4}{15}, \\frac{ 7}{15}, \\frac{ 8}{15}, \\frac{11}{15}, \\frac{13}{15}, \\frac{14}{15} & \\phi(15) = 8 \\\\\n",
    "k &= 30 && \\frac{1}{30}, \\frac{7}{30}, \\frac{11}{30}, \\frac{13}{30}, \\frac{17}{30}, \\frac{19}{30}, \\frac{23}{30}, \\frac{29}{30} & \\phi(30) = 8 \\\\\n",
    "\\end  {aligned}\n",
    "$"
   ]
  },
  {
   "cell_type": "markdown",
   "metadata": {},
   "source": [
    "---"
   ]
  }
 ],
 "metadata": {
  "language_info": {
   "name": "python"
  }
 },
 "nbformat": 4,
 "nbformat_minor": 2
}
