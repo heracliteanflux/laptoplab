{
 "cells": [
  {
   "cell_type": "markdown",
   "metadata": {},
   "source": [
    "# Number Theory"
   ]
  },
  {
   "cell_type": "markdown",
   "metadata": {},
   "source": [
    "---"
   ]
  },
  {
   "cell_type": "markdown",
   "metadata": {},
   "source": [
    "## Contents\n",
    "```{contents}\n",
    "```"
   ]
  },
  {
   "cell_type": "markdown",
   "metadata": {},
   "source": [
    "---"
   ]
  },
  {
   "cell_type": "markdown",
   "metadata": {},
   "source": [
    "## Division"
   ]
  },
  {
   "cell_type": "markdown",
   "metadata": {},
   "source": [
    "---"
   ]
  },
  {
   "cell_type": "markdown",
   "metadata": {},
   "source": [
    "## Congruence"
   ]
  },
  {
   "cell_type": "markdown",
   "metadata": {},
   "source": [
    "---"
   ]
  },
  {
   "cell_type": "markdown",
   "metadata": {},
   "source": [
    "## Residues"
   ]
  },
  {
   "cell_type": "markdown",
   "metadata": {},
   "source": [
    "<span style=\"color: lightblue;\"><b>ARITHMETIC FUNCTION</b></span>"
   ]
  },
  {
   "cell_type": "markdown",
   "metadata": {},
   "source": [
    "<div style=\"color: lightblue;\">\n",
    "\n",
    "A function defined on $\\mathbb{N}$ is called arithmetic.\n",
    "</div>"
   ]
  },
  {
   "cell_type": "markdown",
   "metadata": {},
   "source": [
    "<span style=\"color: lightblue;\"><b>TOTIENT FUNCTION</b></span>"
   ]
  },
  {
   "cell_type": "markdown",
   "metadata": {},
   "source": [
    "<div style=\"color: lightblue;\">\n",
    "\n",
    "Euler's totient function $\\phi(n)$ is the number of $x \\in \\mathbb{N}$ with $1 \\le x \\le n$ and $\\gcd(x, n) = 1$.\n",
    "</div>\n",
    "\n",
    "If $p$ is prime then all the $x$ with $1 \\le x \\le p - 1$ satisfy $\\gcd(x, p) = 1$, but $\\gcd(p, p) = p \\ne 1$. Thus $\\boxed{\\phi(p) = p - 1}$."
   ]
  },
  {
   "cell_type": "markdown",
   "metadata": {},
   "source": [
    "<span style=\"color: lightgreen;\"><b>$\\phi(n)$ up to $30$</b></span>"
   ]
  },
  {
   "cell_type": "markdown",
   "metadata": {},
   "source": [
    "$\n",
    "\\begin{aligned}\n",
    "\\phi( 1) &=&  1 && \\gcd(1, 1) = 1 \\\\\n",
    "\\phi( 2) &=&  1 \\\\\n",
    "\\phi( 3) &=&  2 \\\\\n",
    "\\phi( 4) &=&  2 && \\{ 1, 3 \\} \\\\\n",
    "\\phi( 5) &=&  4 \\\\\n",
    "\\phi( 6) &=&  2 && \\{ 1, 5 \\} \\\\\n",
    "\\phi( 7) &=&  6 \\\\\n",
    "\\phi( 8) &=&  4 && \\{ 1, 3, 5, 7 \\} \\\\\n",
    "\\phi( 9) &=&  6 && \\{ 1, 2, 4, 5, 7, 8 \\} \\\\\n",
    "\\phi(10) &=&  4 && \\{ 1, 3, 7, 9 \\} \\\\\n",
    "\\phi(11) &=& 10 \\\\\n",
    "\\phi(12) &=&  4 && \\{ 1, 5, 7, 11 \\} \\\\\n",
    "\\phi(13) &=& 12 \\\\\n",
    "\\phi(14) &=&  6 && \\{ 1, 3, 5, 9, 11, 13 \\} \\\\\n",
    "\\phi(15) &=&  8 && \\{ 1, 2, 4, 7, 8, 11, 13, 14 \\} \\\\\n",
    "\\phi(16) &=&  8 && \\gcd(1, 16) = \\gcd(3, 16) = \\gcd(5, 16) = \\gcd(7, 16) = \\gcd(9, 16) = \\gcd(11, 16) = \\gcd(13, 16) = \\gcd(15, 16) \\\\\n",
    "\\phi(17) &=& 16 \\\\\n",
    "\\phi(18) &=&  6 && \\gcd(1, 18) = \\gcd(5, 18) = \\gcd(7, 18) = \\gcd(11, 18) = \\gcd(13, 18) = \\gcd(17, 18) \\\\\n",
    "\\phi(19) &=& 18 \\\\\n",
    "\\phi(20) &=&  8 && \\gcd(1, 20) = \\gcd(3, 20) = \\gcd(7, 20) = \\gcd(9, 20) = \\gcd(11, 20) = \\gcd(13, 20) = \\gcd(17, 20) = \\gcd(19, 20) \\\\\n",
    "\\phi(21) &=& 12 && \\{ 1, 2, 4, 5, 8, 10, 11, 13, 16, 17, 19, 20 \\} \\\\\n",
    "\\phi(22) &=& 10 && \\{ 1, 3, 5, 7, 9, 13, 15, 17, 19, 21 \\} \\\\\n",
    "\\phi(23) &=& 22 \\\\\n",
    "\\phi(24) &=&  8 && \\gcd(1, 24) = \\gcd(5, 24) = \\gcd(7, 24) = \\gcd(11, 24) = \\gcd(13, 24) = \\gcd(17, 24) = \\gcd(19, 24) = \\gcd(23, 24) \\\\\n",
    "\\phi(25) &=& 20 && \\{ 1, 2, 3, 4, 6, 7, 8, 9, 11, 12, 13, 14, 16, 17, 18, 19, 21, 22, 23, 24 \\} \\\\\n",
    "\\phi(26) &=& \\\\\n",
    "\\phi(27) &=& \\\\\n",
    "\\phi(28) &=& \\\\\n",
    "\\phi(29) &=& 28 \\\\\n",
    "\\phi(30) &=&  8 && \\gcd(1, 30) = \\gcd(7, 30) = \\gcd(11, 30) = \\gcd(13, 30) = \\gcd(17, 30) = \\gcd(19, 30) = \\gcd(23, 30) = \\gcd(29, 30) \\\\\n",
    "\\end  {aligned}\n",
    "$"
   ]
  },
  {
   "cell_type": "markdown",
   "metadata": {},
   "source": [
    "<span style=\"color: lightblue;\"><b>SET OF REDUCED RESIDUES MODULO M</b></span>"
   ]
  },
  {
   "cell_type": "markdown",
   "metadata": {},
   "source": [
    "A set of $\\phi(m)$ distinct residue classes $\\bar{r}$ modulo $m$ with $\\gcd(r, m) = 1$ is called a set of reduced residues modulo $m$."
   ]
  },
  {
   "cell_type": "markdown",
   "metadata": {},
   "source": [
    "---"
   ]
  }
 ],
 "metadata": {
  "language_info": {
   "name": "python"
  }
 },
 "nbformat": 4,
 "nbformat_minor": 2
}
