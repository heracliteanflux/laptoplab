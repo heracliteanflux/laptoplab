{
 "cells": [
  {
   "cell_type": "markdown",
   "metadata": {},
   "source": [
    "# Quadratic Residues\n",
    "```{contents}\n",
    "```"
   ]
  },
  {
   "cell_type": "markdown",
   "metadata": {},
   "source": [
    "---\n",
    "---\n",
    "---"
   ]
  },
  {
   "cell_type": "markdown",
   "metadata": {},
   "source": [
    "Given an $n$, the product of two small primes, ffind a $t, x, y$ so that $4tn = x^2 - y^2$.\n",
    "\n",
    "An essential part of this is quadratic congruences\n",
    "\n",
    "$x^2 \\equiv c \\mod m$\n",
    "\n",
    "If you can solve mod p"
   ]
  },
  {
   "cell_type": "markdown",
   "metadata": {},
   "source": [
    "Lagrange's theorem?"
   ]
  },
  {
   "cell_type": "markdown",
   "metadata": {},
   "source": [
    "$p - x \\ne x$\n",
    "\n",
    "$px \\equiv 0 \\mod p \\iff x \\equiv 0 \\mod p \\iff x^2 \\not\\equiv c \\mod p$"
   ]
  },
  {
   "cell_type": "markdown",
   "metadata": {},
   "source": [
    "theorem\n",
    "\n",
    "$x^2 \\equiv -1 \\mod p$ is solvable $\\iff p \\equiv 1 \\mod 4$"
   ]
  },
  {
   "cell_type": "markdown",
   "metadata": {},
   "source": [
    "theorem\n",
    "\n",
    "$N(x, c) = \\text{count}\\{ p \\le x \\mid x^2 \\equiv c \\mod p \\text{ soluble} \\} = \\pi(x)/2 + \\text{error}$"
   ]
  },
  {
   "cell_type": "markdown",
   "metadata": {},
   "source": [
    "It's very fast to determine whether $x^2 \\equiv c \\mod p$ is soluble, because underlying algrithm based on euclidean algorithm?"
   ]
  },
  {
   "cell_type": "markdown",
   "metadata": {},
   "source": [
    "\n",
    "\n",
    "__Quadratic Residue__ (QR)\n",
    "\n",
    "__Quadratic Non Residue__ (QNR)"
   ]
  },
  {
   "cell_type": "markdown",
   "metadata": {},
   "source": [
    "$0$ residue class is undefined"
   ]
  },
  {
   "cell_type": "markdown",
   "metadata": {},
   "source": [
    "__Legendre Symbol__"
   ]
  },
  {
   "cell_type": "markdown",
   "metadata": {},
   "source": [
    "$1 + (\\frac{c}{p})_L = \\text{number of solutions to } x^2 \\equiv c \\mod p$\n",
    "\n",
    "Dirichlet generalization"
   ]
  },
  {
   "cell_type": "markdown",
   "metadata": {},
   "source": [
    "---\n",
    "---\n",
    "---"
   ]
  },
  {
   "cell_type": "markdown",
   "metadata": {},
   "source": [
    "## Acknowledgements"
   ]
  },
  {
   "cell_type": "markdown",
   "metadata": {},
   "source": [
    "`CENT` `2023` [ [h](https://personal.science.psu.edu/rcv4/) ] Vaughan, Robert. _A Course of Elementary Number Theory_. CMPSC/MATH 467 Factorization and Primality Testing. The Pennsylvania State University. [ [book](https://bpb-us-e1.wpmucdn.com/sites.psu.edu/dist/6/167041/files/2023/07/CENT.pdf) ]"
   ]
  },
  {
   "cell_type": "markdown",
   "metadata": {},
   "source": [
    "---\n",
    "---\n",
    "---"
   ]
  }
 ],
 "metadata": {
  "language_info": {
   "name": "python"
  }
 },
 "nbformat": 4,
 "nbformat_minor": 2
}
