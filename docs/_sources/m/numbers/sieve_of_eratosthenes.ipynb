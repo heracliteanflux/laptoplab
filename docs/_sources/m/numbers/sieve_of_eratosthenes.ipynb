{
 "cells": [
  {
   "cell_type": "markdown",
   "metadata": {},
   "source": [
    "# Sieve of Eratosthenes"
   ]
  },
  {
   "cell_type": "markdown",
   "metadata": {},
   "source": [
    "---"
   ]
  },
  {
   "cell_type": "markdown",
   "metadata": {},
   "source": [
    "* https://stackoverflow.com/questions/2068372/fastest-way-to-list-all-primes-below-n/2068548"
   ]
  },
  {
   "cell_type": "markdown",
   "metadata": {},
   "source": [
    "---"
   ]
  },
  {
   "cell_type": "markdown",
   "metadata": {},
   "source": [
    "## Programming Environment"
   ]
  },
  {
   "cell_type": "code",
   "execution_count": 1,
   "metadata": {},
   "outputs": [],
   "source": [
    "import math\n",
    "from   numba  import jit, njit, prange\n",
    "import numpy  as np\n",
    "from   typing import Iterator"
   ]
  },
  {
   "cell_type": "markdown",
   "metadata": {},
   "source": [
    "---"
   ]
  },
  {
   "cell_type": "code",
   "execution_count": 2,
   "metadata": {},
   "outputs": [],
   "source": [
    "def generate_integers (start : int = 0) -> Iterator[int]:\n",
    "  n = start\n",
    "  while True:\n",
    "    yield n\n",
    "    n += 1"
   ]
  },
  {
   "cell_type": "code",
   "execution_count": 3,
   "metadata": {},
   "outputs": [
    {
     "name": "stdout",
     "output_type": "stream",
     "text": [
      "[0, 1, 2, 3, 4, 5, 6, 7, 8, 9, 10, 11, 12, 13, 14, 15, 16, 17, 18, 19, 20, 21, 22, 23, 24]\n"
     ]
    }
   ],
   "source": [
    "num = generate_integers()\n",
    "print(list(next(num) for _ in range(25)))"
   ]
  },
  {
   "cell_type": "code",
   "execution_count": 4,
   "metadata": {},
   "outputs": [
    {
     "data": {
      "text/plain": [
       "25"
      ]
     },
     "execution_count": 4,
     "metadata": {},
     "output_type": "execute_result"
    }
   ],
   "source": [
    "next(num)"
   ]
  },
  {
   "cell_type": "markdown",
   "metadata": {},
   "source": [
    "---"
   ]
  },
  {
   "cell_type": "markdown",
   "metadata": {},
   "source": [
    "## Naive Python"
   ]
  },
  {
   "cell_type": "code",
   "execution_count": 5,
   "metadata": {},
   "outputs": [],
   "source": [
    "def p0 (p    : int,\n",
    "        flag : bool = False) -> list[int]:\n",
    "  num = generate_integers(2)\n",
    "  arr = list(next(num) for _ in range(2, p + 1))\n",
    "\n",
    "  primes = []\n",
    "  prime  = arr.pop(0)  # remove the first number in the array of numbers\n",
    "  primes.append(prime) # add it to our list of primes\n",
    "  \n",
    "  while prime <= p ** 0.5:\n",
    "    if flag:\n",
    "      print(prime, arr)\n",
    "    arr   = list(i for i in arr if i % primes[-1] != 0) # remove all prime multiples from the array:\n",
    "    prime = arr.pop(0)\n",
    "    primes.append(prime)\n",
    "\n",
    "  primes += arr\n",
    "  return primes"
   ]
  },
  {
   "cell_type": "code",
   "execution_count": 6,
   "metadata": {},
   "outputs": [
    {
     "name": "stdout",
     "output_type": "stream",
     "text": [
      "15.4 µs ± 57.9 ns per loop (mean ± std. dev. of 7 runs, 100,000 loops each)\n",
      "204 µs ± 398 ns per loop (mean ± std. dev. of 7 runs, 1,000 loops each)\n",
      "929 ms ± 6.23 ms per loop (mean ± std. dev. of 7 runs, 1 loop each)\n"
     ]
    }
   ],
   "source": [
    "%timeit p0(int(1e2))\n",
    "%timeit p0(int(1e3))\n",
    "%timeit p0(int(1e6))"
   ]
  },
  {
   "cell_type": "markdown",
   "metadata": {},
   "source": [
    "---"
   ]
  },
  {
   "cell_type": "code",
   "execution_count": 7,
   "metadata": {},
   "outputs": [
    {
     "name": "stdout",
     "output_type": "stream",
     "text": [
      "CPU times: user 19.7 ms, sys: 54.4 ms, total: 74 ms\n",
      "Wall time: 73.7 ms\n",
      "CPU times: user 1.34 s, sys: 73.2 ms, total: 1.41 s\n",
      "Wall time: 1.41 s\n"
     ]
    }
   ],
   "source": [
    "n = int(1e8)\n",
    "%time sieve = [True] * n\n",
    "%time sieve = [True for _ in range(n)]"
   ]
  },
  {
   "cell_type": "code",
   "execution_count": 8,
   "metadata": {},
   "outputs": [],
   "source": [
    "# def sieve_of_eratosthenes (n):\n",
    "#   sieve      = [True] * n\n",
    "#   sieve[0:1] = [False, False]\n",
    "#   for prime in range(2, n + 1):\n",
    "#     if sieve[prime]:\n",
    "#       for i in range(2*prime, n+1, prime):\n",
    "#         sieve[i] = False"
   ]
  },
  {
   "cell_type": "code",
   "execution_count": 9,
   "metadata": {},
   "outputs": [],
   "source": [
    "# def p1 (n):\n",
    "#   sieve = [True] * n\n",
    "#   p     = 2\n",
    "#   while (p*p <= n):\n",
    "#     if (sieve[p] == True):\n",
    "#       for i in range(p*p, n+1, p):\n",
    "#         sieve[i] = False\n",
    "#     p += 1\n",
    "#   for p in range(2, n+1):\n",
    "#     if sieve[p]:\n",
    "#       p"
   ]
  },
  {
   "cell_type": "code",
   "execution_count": 10,
   "metadata": {},
   "outputs": [],
   "source": [
    "# %timeit p1(int(1e2))\n",
    "# %timeit p1(int(1e3))\n",
    "# %timeit p1(int(1e6))\n",
    "# %timeit p1(int(1e7))"
   ]
  },
  {
   "cell_type": "markdown",
   "metadata": {},
   "source": [
    "---"
   ]
  },
  {
   "cell_type": "markdown",
   "metadata": {},
   "source": [
    "$$\n",
    "\\begin{align*}\n",
    "n =  3 &&   9 +  6k =  9, 15, 21, 27, 33, 39, 45, 51, 57, 63, 69, 75, 81, 87, 93, 99 \\\\\n",
    "n =  5 &&  25 + 10k = 25, 35, 45, 55, 65, 75, 85, 95 \\\\\n",
    "n =  7 &&  49 + 14k = 49, 63, 77, 91 \\\\\n",
    "n = 11 && 121 + 22k = \\dots \\\\\n",
    "\\end{align*}\n",
    "$$"
   ]
  },
  {
   "cell_type": "code",
   "execution_count": 11,
   "metadata": {},
   "outputs": [
    {
     "name": "stdout",
     "output_type": "stream",
     "text": [
      "3 84 [ 0  1  2  3  4  5  6  7  8 10 11 12 13 14 16 17 18 19 20 22 23 24 25 26\n",
      " 28 29 30 31 32 34 35 36 37 38 40 41 42 43 44 46 47 48 49 50 52 53 54 55\n",
      " 56 58 59 60 61 62 64 65 66 67 68 70 71 72 73 74 76 77 78 79 80 82 83 84\n",
      " 85 86 88 89 90 91 92 94 95 96 97 98]\n",
      "5 78 [ 0  1  2  3  4  5  6  7  8 10 11 12 13 14 16 17 18 19 20 22 23 24 26 28\n",
      " 29 30 31 32 34 36 37 38 40 41 42 43 44 46 47 48 49 50 52 53 54 56 58 59\n",
      " 60 61 62 64 66 67 68 70 71 72 73 74 76 77 78 79 80 82 83 84 86 88 89 90\n",
      " 91 92 94 96 97 98]\n",
      "7 75 [ 0  1  2  3  4  5  6  7  8 10 11 12 13 14 16 17 18 19 20 22 23 24 26 28\n",
      " 29 30 31 32 34 36 37 38 40 41 42 43 44 46 47 48 50 52 53 54 56 58 59 60\n",
      " 61 62 64 66 67 68 70 71 72 73 74 76 78 79 80 82 83 84 86 88 89 90 92 94\n",
      " 96 97 98]\n",
      "9 75 [ 0  1  2  3  4  5  6  7  8 10 11 12 13 14 16 17 18 19 20 22 23 24 26 28\n",
      " 29 30 31 32 34 36 37 38 40 41 42 43 44 46 47 48 50 52 53 54 56 58 59 60\n",
      " 61 62 64 66 67 68 70 71 72 73 74 76 78 79 80 82 83 84 86 88 89 90 92 94\n",
      " 96 97 98]\n",
      "[2, 3, 5, 7, 11, 13, 17, 19, 23, 29, 31, 37, 41, 43, 47, 53, 59, 61, 67, 71, 73, 79, 83, 89, 97]\n"
     ]
    }
   ],
   "source": [
    "# FULL SIEVE\n",
    "n     = 100\n",
    "sieve = [True] * n\n",
    "for i in range(3, int(n ** 0.5) + 1, 2):\n",
    "  if sieve[i]:\n",
    "    sieve[i*i::2*i] = [False] * ((n - i * i - 1) // (2 * i) + 1)\n",
    "  print(i, len(np.flatnonzero(sieve)), np.flatnonzero(sieve))\n",
    "print([2] + [i for i in range(3, n, 2) if sieve[i]])"
   ]
  },
  {
   "cell_type": "code",
   "execution_count": 12,
   "metadata": {},
   "outputs": [
    {
     "name": "stdout",
     "output_type": "stream",
     "text": [
      "3 34 [ 0  1  2  3  5  6  8  9 11 12 14 15 17 18 20 21 23 24 26 27 29 30 32 33\n",
      " 35 36 38 39 41 42 44 45 47 48]\n",
      "5 28 [ 0  1  2  3  5  6  8  9 11 14 15 18 20 21 23 24 26 29 30 33 35 36 38 39\n",
      " 41 44 45 48]\n",
      "7 25 [ 0  1  2  3  5  6  8  9 11 14 15 18 20 21 23 26 29 30 33 35 36 39 41 44\n",
      " 48]\n",
      "9 25 [ 0  1  2  3  5  6  8  9 11 14 15 18 20 21 23 26 29 30 33 35 36 39 41 44\n",
      " 48]\n",
      "[2, 3, 5, 7, 11, 13, 17, 19, 23, 29, 31, 37, 41, 43, 47, 53, 59, 61, 67, 71, 73, 79, 83, 89, 97]\n"
     ]
    }
   ],
   "source": [
    "# HALF SIEVE\n",
    "n     = 100\n",
    "sieve = [True] * (n//2)\n",
    "for i in range(3, int(n**0.5) + 1, 2):\n",
    "  if sieve[i//2]:\n",
    "    sieve[i*i//2::i] = [False] * ((n - i*i - 1) // (2*i) + 1)\n",
    "  print(i, len(np.flatnonzero(sieve)), np.flatnonzero(sieve))\n",
    "print([2] + [2*i + 1 for i in range(1, n//2) if sieve[i]])"
   ]
  },
  {
   "cell_type": "code",
   "execution_count": 13,
   "metadata": {},
   "outputs": [],
   "source": [
    "def p2 (n):\n",
    "  \"\"\" FULL SIEVE\n",
    "  Returns a list of primes p < n.\n",
    "  https://stackoverflow.com/questions/2068372/fastest-way-to-list-all-primes-below-n/2068548\n",
    "  \"\"\"\n",
    "  sieve = [True] * n\n",
    "  for i in range(3, int(n ** 0.5) + 1, 2):\n",
    "    if sieve[i]:\n",
    "      sieve[i*i::2*i] = [False] * ((n - i * i - 1) // (2 * i) + 1)\n",
    "  return [2] + [i for i in range(3, n, 2) if sieve[i]]\n",
    "\n",
    "def p3 (n):\n",
    "  \"\"\" HALF SIEVE\n",
    "  Returns a list of primes p < n.\n",
    "  https://stackoverflow.com/questions/2068372/fastest-way-to-list-all-primes-below-n/2068548\n",
    "  \"\"\"\n",
    "  sieve = [True] * (n//2)\n",
    "  for i in range(3, int(n**0.5) + 1, 2):\n",
    "    if sieve[i//2]:\n",
    "      sieve[i*i//2::i] = [False] * ((n - i*i - 1) // (2*i) + 1)\n",
    "  return [2] + [2*i + 1 for i in range(1, n//2) if sieve[i]]"
   ]
  },
  {
   "cell_type": "code",
   "execution_count": 14,
   "metadata": {},
   "outputs": [
    {
     "name": "stdout",
     "output_type": "stream",
     "text": [
      "197 ms ± 2.72 ms per loop (mean ± std. dev. of 7 runs, 10 loops each)\n",
      "193 ms ± 2.2 ms per loop (mean ± std. dev. of 7 runs, 10 loops each)\n"
     ]
    }
   ],
   "source": [
    "%timeit p2(int(1e7))\n",
    "%timeit p3(int(1e7))"
   ]
  },
  {
   "cell_type": "markdown",
   "metadata": {},
   "source": [
    "---"
   ]
  },
  {
   "cell_type": "markdown",
   "metadata": {},
   "source": [
    "## NumPy and Numba"
   ]
  },
  {
   "cell_type": "code",
   "execution_count": 15,
   "metadata": {},
   "outputs": [
    {
     "name": "stdout",
     "output_type": "stream",
     "text": [
      "11.5 ms ± 44.3 µs per loop (mean ± std. dev. of 7 runs, 100 loops each)\n"
     ]
    }
   ],
   "source": [
    "def p4 (n : int) -> np.ndarray:\n",
    "  \"\"\"Sieve of Eratosthenes\"\"\"\n",
    "  flags = np.full(shape = n, fill_value = True) #np.ones(shape = n, dtype = bool)\n",
    "  flags[0], flags[1] = False, False # 0 and 1 are not prime\n",
    "  for i in range(2, int(n ** 0.5) + 1, 2):\n",
    "    if flags[i]:\n",
    "      flags[i*i::i] = False\n",
    "  return np.flatnonzero(a = flags)\n",
    "\n",
    "%timeit p4(int(1e7))"
   ]
  },
  {
   "cell_type": "code",
   "execution_count": 16,
   "metadata": {},
   "outputs": [
    {
     "ename": "UnsupportedRewriteError",
     "evalue": "Failed in nopython mode pipeline (step: convert to parfors)\n\u001b[1mOnly constant step size of 1 is supported for prange\n\u001b[1m\nFile \"../../../../../../../../../var/folders/89/5r24znsj4jbfr7zrccy5yn0c0000gn/T/ipykernel_68182/4269974924.py\", line 6:\u001b[0m\n\u001b[1m<source missing, REPL/exec in use?>\u001b[0m\n\u001b[0m",
     "output_type": "error",
     "traceback": [
      "\u001b[0;31m---------------------------------------------------------------------------\u001b[0m",
      "\u001b[0;31mUnsupportedRewriteError\u001b[0m                   Traceback (most recent call last)",
      "\u001b[1;32m/Users/df/Desktop/._characteristica_universalis/my_github/12___courses_public/logic-and-numbers/numbers/src/sieve_of_eratosthenes.ipynb Cell 29\u001b[0m line \u001b[0;36m1\n\u001b[1;32m      <a href='vscode-notebook-cell:/Users/df/Desktop/._characteristica_universalis/my_github/12___courses_public/logic-and-numbers/numbers/src/sieve_of_eratosthenes.ipynb#X41sZmlsZQ%3D%3D?line=7'>8</a>\u001b[0m       primes[i\u001b[39m*\u001b[39mi::i] \u001b[39m=\u001b[39m \u001b[39mFalse\u001b[39;00m\n\u001b[1;32m      <a href='vscode-notebook-cell:/Users/df/Desktop/._characteristica_universalis/my_github/12___courses_public/logic-and-numbers/numbers/src/sieve_of_eratosthenes.ipynb#X41sZmlsZQ%3D%3D?line=8'>9</a>\u001b[0m   \u001b[39mreturn\u001b[39;00m np\u001b[39m.\u001b[39mflatnonzero(a \u001b[39m=\u001b[39m primes)\n\u001b[0;32m---> <a href='vscode-notebook-cell:/Users/df/Desktop/._characteristica_universalis/my_github/12___courses_public/logic-and-numbers/numbers/src/sieve_of_eratosthenes.ipynb#X41sZmlsZQ%3D%3D?line=10'>11</a>\u001b[0m get_ipython()\u001b[39m.\u001b[39;49mrun_line_magic(\u001b[39m'\u001b[39;49m\u001b[39mtimeit\u001b[39;49m\u001b[39m'\u001b[39;49m, \u001b[39m'\u001b[39;49m\u001b[39mp5(int(1e7))\u001b[39;49m\u001b[39m'\u001b[39;49m)\n",
      "File \u001b[0;32m~/anaconda3/envs/ml/lib/python3.11/site-packages/IPython/core/interactiveshell.py:2432\u001b[0m, in \u001b[0;36mInteractiveShell.run_line_magic\u001b[0;34m(self, magic_name, line, _stack_depth)\u001b[0m\n\u001b[1;32m   2430\u001b[0m     kwargs[\u001b[39m'\u001b[39m\u001b[39mlocal_ns\u001b[39m\u001b[39m'\u001b[39m] \u001b[39m=\u001b[39m \u001b[39mself\u001b[39m\u001b[39m.\u001b[39mget_local_scope(stack_depth)\n\u001b[1;32m   2431\u001b[0m \u001b[39mwith\u001b[39;00m \u001b[39mself\u001b[39m\u001b[39m.\u001b[39mbuiltin_trap:\n\u001b[0;32m-> 2432\u001b[0m     result \u001b[39m=\u001b[39m fn(\u001b[39m*\u001b[39;49margs, \u001b[39m*\u001b[39;49m\u001b[39m*\u001b[39;49mkwargs)\n\u001b[1;32m   2434\u001b[0m \u001b[39m# The code below prevents the output from being displayed\u001b[39;00m\n\u001b[1;32m   2435\u001b[0m \u001b[39m# when using magics with decorator @output_can_be_silenced\u001b[39;00m\n\u001b[1;32m   2436\u001b[0m \u001b[39m# when the last Python token in the expression is a ';'.\u001b[39;00m\n\u001b[1;32m   2437\u001b[0m \u001b[39mif\u001b[39;00m \u001b[39mgetattr\u001b[39m(fn, magic\u001b[39m.\u001b[39mMAGIC_OUTPUT_CAN_BE_SILENCED, \u001b[39mFalse\u001b[39;00m):\n",
      "File \u001b[0;32m~/anaconda3/envs/ml/lib/python3.11/site-packages/IPython/core/magics/execution.py:1185\u001b[0m, in \u001b[0;36mExecutionMagics.timeit\u001b[0;34m(self, line, cell, local_ns)\u001b[0m\n\u001b[1;32m   1183\u001b[0m \u001b[39mfor\u001b[39;00m index \u001b[39min\u001b[39;00m \u001b[39mrange\u001b[39m(\u001b[39m0\u001b[39m, \u001b[39m10\u001b[39m):\n\u001b[1;32m   1184\u001b[0m     number \u001b[39m=\u001b[39m \u001b[39m10\u001b[39m \u001b[39m*\u001b[39m\u001b[39m*\u001b[39m index\n\u001b[0;32m-> 1185\u001b[0m     time_number \u001b[39m=\u001b[39m timer\u001b[39m.\u001b[39;49mtimeit(number)\n\u001b[1;32m   1186\u001b[0m     \u001b[39mif\u001b[39;00m time_number \u001b[39m>\u001b[39m\u001b[39m=\u001b[39m \u001b[39m0.2\u001b[39m:\n\u001b[1;32m   1187\u001b[0m         \u001b[39mbreak\u001b[39;00m\n",
      "File \u001b[0;32m~/anaconda3/envs/ml/lib/python3.11/site-packages/IPython/core/magics/execution.py:173\u001b[0m, in \u001b[0;36mTimer.timeit\u001b[0;34m(self, number)\u001b[0m\n\u001b[1;32m    171\u001b[0m gc\u001b[39m.\u001b[39mdisable()\n\u001b[1;32m    172\u001b[0m \u001b[39mtry\u001b[39;00m:\n\u001b[0;32m--> 173\u001b[0m     timing \u001b[39m=\u001b[39m \u001b[39mself\u001b[39;49m\u001b[39m.\u001b[39;49minner(it, \u001b[39mself\u001b[39;49m\u001b[39m.\u001b[39;49mtimer)\n\u001b[1;32m    174\u001b[0m \u001b[39mfinally\u001b[39;00m:\n\u001b[1;32m    175\u001b[0m     \u001b[39mif\u001b[39;00m gcold:\n",
      "File \u001b[0;32m<magic-timeit>:1\u001b[0m, in \u001b[0;36minner\u001b[0;34m(_it, _timer)\u001b[0m\n",
      "File \u001b[0;32m~/anaconda3/envs/ml/lib/python3.11/site-packages/numba/core/dispatcher.py:471\u001b[0m, in \u001b[0;36m_DispatcherBase._compile_for_args\u001b[0;34m(self, *args, **kws)\u001b[0m\n\u001b[1;32m    468\u001b[0m     error_rewrite(e, \u001b[39m'\u001b[39m\u001b[39mtyping\u001b[39m\u001b[39m'\u001b[39m)\n\u001b[1;32m    469\u001b[0m \u001b[39mexcept\u001b[39;00m errors\u001b[39m.\u001b[39mUnsupportedError \u001b[39mas\u001b[39;00m e:\n\u001b[1;32m    470\u001b[0m     \u001b[39m# Something unsupported is present in the user code, add help info\u001b[39;00m\n\u001b[0;32m--> 471\u001b[0m     error_rewrite(e, \u001b[39m'\u001b[39;49m\u001b[39munsupported_error\u001b[39;49m\u001b[39m'\u001b[39;49m)\n\u001b[1;32m    472\u001b[0m \u001b[39mexcept\u001b[39;00m (errors\u001b[39m.\u001b[39mNotDefinedError, errors\u001b[39m.\u001b[39mRedefinedError,\n\u001b[1;32m    473\u001b[0m         errors\u001b[39m.\u001b[39mVerificationError) \u001b[39mas\u001b[39;00m e:\n\u001b[1;32m    474\u001b[0m     \u001b[39m# These errors are probably from an issue with either the code\u001b[39;00m\n\u001b[1;32m    475\u001b[0m     \u001b[39m# supplied being syntactically or otherwise invalid\u001b[39;00m\n\u001b[1;32m    476\u001b[0m     error_rewrite(e, \u001b[39m'\u001b[39m\u001b[39minterpreter\u001b[39m\u001b[39m'\u001b[39m)\n",
      "File \u001b[0;32m~/anaconda3/envs/ml/lib/python3.11/site-packages/numba/core/dispatcher.py:409\u001b[0m, in \u001b[0;36m_DispatcherBase._compile_for_args.<locals>.error_rewrite\u001b[0;34m(e, issue_type)\u001b[0m\n\u001b[1;32m    407\u001b[0m     \u001b[39mraise\u001b[39;00m e\n\u001b[1;32m    408\u001b[0m \u001b[39melse\u001b[39;00m:\n\u001b[0;32m--> 409\u001b[0m     \u001b[39mraise\u001b[39;00m e\u001b[39m.\u001b[39mwith_traceback(\u001b[39mNone\u001b[39;00m)\n",
      "\u001b[0;31mUnsupportedRewriteError\u001b[0m: Failed in nopython mode pipeline (step: convert to parfors)\n\u001b[1mOnly constant step size of 1 is supported for prange\n\u001b[1m\nFile \"../../../../../../../../../var/folders/89/5r24znsj4jbfr7zrccy5yn0c0000gn/T/ipykernel_68182/4269974924.py\", line 6:\u001b[0m\n\u001b[1m<source missing, REPL/exec in use?>\u001b[0m\n\u001b[0m"
     ]
    }
   ],
   "source": [
    "@njit(parallel = True, fastmath = True)\n",
    "def p5 (n : int) -> np.ndarray:\n",
    "  \"\"\"Sieve of Eratosthenes\"\"\"\n",
    "  primes = np.full(shape = n, fill_value = True)\n",
    "  primes[0], primes[1] = False, False # 0 and 1 are not prime\n",
    "  for i in prange(2, int(n ** 0.5) + 1, 2):\n",
    "    if primes[i]:\n",
    "      primes[i*i::i] = False\n",
    "  return np.flatnonzero(a = primes)\n",
    "\n",
    "%timeit p5(int(1e7))"
   ]
  },
  {
   "cell_type": "markdown",
   "metadata": {},
   "source": [
    "---"
   ]
  },
  {
   "cell_type": "code",
   "execution_count": null,
   "metadata": {},
   "outputs": [
    {
     "name": "stdout",
     "output_type": "stream",
     "text": [
      "2.5 s ± 67.1 ms per loop (mean ± std. dev. of 7 runs, 1 loop each)\n"
     ]
    }
   ],
   "source": [
    "def p6 (n : int) -> np.ndarray:\n",
    "  \"\"\" Returns an array of primes, 3 <= p < n \"\"\"\n",
    "  sieve = np.full(shape = n//2, fill_value = True) #np.ones(n//2, dtype=bool)\n",
    "  for i in range(3, int(n**0.5) + 1, 2):\n",
    "    if sieve[i//2]:\n",
    "      sieve[i*i//2::i] = False\n",
    "  return 2*np.nonzero(a = sieve)[0][1::] + 1\n",
    "\n",
    "%timeit p6(int(1e7))"
   ]
  },
  {
   "cell_type": "code",
   "execution_count": null,
   "metadata": {},
   "outputs": [
    {
     "name": "stdout",
     "output_type": "stream",
     "text": [
      "2.57 s ± 78.2 ms per loop (mean ± std. dev. of 7 runs, 1 loop each)\n"
     ]
    }
   ],
   "source": [
    "def p7 (n : int) -> np.ndarray:\n",
    "  \"\"\" Input n>=6, Returns an array of primes, 2 <= p < n \"\"\"\n",
    "  sieve = np.full(shape = n//3 + (n%6==2), fill_value = True) #np.ones(n//3 + (n%6==2), dtype=bool)\n",
    "  for i in range(3, int(n**0.5)//3 + 1):\n",
    "    if sieve[i]:\n",
    "      k = 3*i + 1 | 1\n",
    "      sieve[k*k//3            ::2*k] = False\n",
    "      sieve[k*(k-2*(i&1)+4)//3::2*k] = False\n",
    "  return np.r_[2,3,((3*np.nonzero(sieve)[0][1:]+1)|1)]\n",
    "\n",
    "%timeit p7(int(1e7))"
   ]
  },
  {
   "cell_type": "markdown",
   "metadata": {},
   "source": [
    "---"
   ]
  },
  {
   "cell_type": "code",
   "execution_count": null,
   "metadata": {},
   "outputs": [],
   "source": [
    "%timeit p0(int(1e7))\n",
    "%timeit p1(int(1e7))\n",
    "%timeit p2(int(1e7))\n",
    "%timeit p3(int(1e7))\n",
    "%timeit p4(int(1e7))\n",
    "%timeit p5(int(1e7))\n",
    "%timeit p6(int(1e7))\n",
    "%timeit p7(int(1e7))"
   ]
  },
  {
   "cell_type": "markdown",
   "metadata": {},
   "source": [
    "---"
   ]
  }
 ],
 "metadata": {
  "kernelspec": {
   "display_name": "ml",
   "language": "python",
   "name": "python3"
  },
  "language_info": {
   "codemirror_mode": {
    "name": "ipython",
    "version": 3
   },
   "file_extension": ".py",
   "mimetype": "text/x-python",
   "name": "python",
   "nbconvert_exporter": "python",
   "pygments_lexer": "ipython3",
   "version": "3.11.5"
  },
  "orig_nbformat": 4
 },
 "nbformat": 4,
 "nbformat_minor": 2
}
