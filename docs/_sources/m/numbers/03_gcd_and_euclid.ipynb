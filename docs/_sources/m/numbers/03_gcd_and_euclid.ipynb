{
 "cells": [
  {
   "cell_type": "markdown",
   "metadata": {},
   "source": [
    "# GCD & Euclid's Algorithm"
   ]
  },
  {
   "cell_type": "markdown",
   "metadata": {},
   "source": [
    "---"
   ]
  },
  {
   "cell_type": "markdown",
   "metadata": {},
   "source": [
    "## Programming Environment"
   ]
  },
  {
   "cell_type": "code",
   "execution_count": 11,
   "metadata": {},
   "outputs": [],
   "source": [
    "import numpy as np"
   ]
  },
  {
   "cell_type": "markdown",
   "metadata": {},
   "source": [
    "---"
   ]
  },
  {
   "cell_type": "markdown",
   "metadata": {},
   "source": [
    "## Division Theorem"
   ]
  },
  {
   "cell_type": "markdown",
   "metadata": {},
   "source": [
    "The division theorem expresses a key property of integer division (that is, when an integer is divided by a non-zero integer).\n",
    "\n",
    "$Theorem$ [Humphreys & Prest 1.1.1 pp. 3-4] [Bressoud pp. 7]\n",
    "\n",
    "> Given integers $a$ and $b$ with $a \\ne 0$ there exist unique integers $q$ and $r$ such that  \n",
    "> $b = q \\times a + r$ where $0 \\le r \\lt |a|$  \n",
    "> where $q$ is the quotient of $b$ by $a$ and $r$ is the remainder.  \n",
    "\n",
    "$$\n",
    "\\color{red}\n",
    "\\forall a, b \\in \\mathbb{Z} \\,\\,\n",
    "((b \\ne 0) \\implies \\exists q, r \\in \\mathbb{Z} \\,\\,\n",
    "((abs(b) \\gt r \\ge 0) \\land (a = qb + r)))\n",
    "$$\n",
    "\n",
    "> It is proved elsewhere that if $a \\mid b$, then $r = 0$.  \n",
    "> If $a \\nmid b$, then $r$ satisfies the stronger inequalities $0 \\lt r \\lt |a|$.  \n",
    "> In other words, remainders are always non-negative.  "
   ]
  },
  {
   "cell_type": "markdown",
   "metadata": {},
   "source": [
    "$Example$ [Humphreys & Prest pp. 4]\n",
    "\n",
    "> Let $a = 3$ and $b = 7$.  \n",
    "> Then there are integers $q$ and $r$ st $7 = 3q + r$ with $0 \\le r \\lt |3|$.  \n",
    "> $7 = 2 \\cdot 3 + 1$ with $0 \\le 1 \\lt |3|$.  \n",
    "\n",
    "$Example$ [Humphreys & Prest pp. 4]\n",
    "\n",
    "> Let $a = 4$ and $b = 12$.  \n",
    "> Then there are integers $q$ and $r$ st $12 = 4q + r$ with $0 \\le r \\lt |4|$.  \n",
    "> $12 = 3 \\cdot 4 + 0$ with $0 \\le 0 \\lt |4|$.  \n",
    "\n",
    "$Example$ [Humphreys & Prest pp. 14]\n",
    "\n",
    "> Let $a = 4$ and $b = -9$.  \n",
    "> Then there are integers $q$ and $r$ st $-9 = 4q + r$ with $0 \\le r \\lt |4|$.  \n",
    "> $-9 = (-3) \\cdot 4 + 3$ with $0 \\le 3 \\lt |4|$.  \n",
    "> Note that $q = -2$ and $r = -1$ do not satisfy $0 \\le r \\lt |4|$.  \n",
    "> $-9 = (-2) \\cdot 4 + (-1)$ but not with $0 \\le -1 \\lt |4|$.  "
   ]
  },
  {
   "cell_type": "markdown",
   "metadata": {},
   "source": [
    "<div style=\"color: red;\">\n",
    "\n",
    "$Proof \\,\\, by \\,\\, contradiction$\n",
    "\n",
    "Assume $a$ and $b$ are positive.\n",
    "\n",
    "If $b \\gt a$, then just take $q = 0, r = a$.\n",
    "\n",
    "$$\n",
    "a = 0 \\times b + a\n",
    "$$\n",
    "\n",
    "Therefore, let $b \\le a$.\n",
    "\n",
    "Consider the set of non-negative differences between $b$ and integer multiples of $a$.\n",
    "\n",
    "$$\n",
    "D = \\{ a - bk : a - bk \\ge 0 \\land k \\in \\mathbb{N} \\}\n",
    "$$\n",
    "\n",
    "$D$ is non-empty since it contains $a = a - b \\cdot 0$ and $a \\ge b \\gt 0$.\n",
    "\n",
    "By the well-ordering principle, $D$ contains a least element: $r = a - bq$, say.\n",
    "\n",
    "$Contradictory \\,\\, step$\n",
    "\n",
    "If it were the case that $r$ was not strictly less than $b$, then we would have $r - b \\ge 0$\n",
    "\n",
    "$$\n",
    "r \\not\\lt b \\implies r - b \\ge 0\n",
    "$$\n",
    "\n",
    "and, therefore, $r - b = (a - bq) - b = a - b(q + 1)$.\n",
    "\n",
    "$$\n",
    "\\begin{align*}\n",
    "r     &= a - bq       \\\\\n",
    "r - b &= a - b(q + 1) \\\\\n",
    "\\implies r - b &\\lt r && Contradiction! \\\\\n",
    "\\end{align*}\n",
    "$$\n",
    "\n",
    "Then $r - b$ would be a member of $D$ strictly less than $r$, contradicting the minimality of $r$.\n",
    "\n",
    "Therefore, $r$ does satisfy $0 \\le r \\lt b$.\n",
    "\n",
    "$\\blacksquare$\n",
    "\n",
    "<red>"
   ]
  },
  {
   "cell_type": "markdown",
   "metadata": {},
   "source": [
    "---"
   ]
  },
  {
   "cell_type": "markdown",
   "metadata": {},
   "source": [
    "## GCD"
   ]
  },
  {
   "cell_type": "markdown",
   "metadata": {},
   "source": [
    "$Theorem$ [Humphreys & Prest 1.1.2 pp. 6]\n",
    "\n",
    "> Let $a$ and $b$ be positive integers. $a, b \\in \\mathbb{P}$  \n",
    "> There is a positive integer $d$ such that  \n",
    ">> (i) $d$ divides $a$ and $d$ divides $b$, and  \n",
    ">> (ii) if $c$ is a positive integer which divides both $a$ and $b$ then $c$ divides $d$ (i.e., any common divisor of $a$ and $b$ divides $d$).\n",
    "\n",
    "$$\n",
    "\\forall a, b \\in \\mathbb{P} \\,\\,\n",
    "[ \\,\\, \\exists d \\in \\mathbb{P} \\,\\, ((d \\mid a \\land d \\mid b) \\land (\\forall c \\in \\mathbb{P} ((c \\mid a \\land c \\mid b) \\implies c \\mid d))) \\,\\, ]\n",
    "$$"
   ]
  },
  {
   "cell_type": "markdown",
   "metadata": {},
   "source": [
    "$Proof \\,\\, by \\,\\, contradiction$ [Humphreys & Prest pp. 6]\n",
    "\n",
    "> Let $D$ be the set of all positive integers of the form $as + bt$ where $s$ and $t$ vary over the set of all integers.\n",
    "\n",
    "$$\n",
    "D = \\{ as + bt : s, t \\in \\mathbb{Z}, as + bt \\gt 0 \\}\n",
    "$$\n",
    "\n",
    "> $D$ is non-empty since $a = a \\cdot 1 + b \\cdot 0$ is in $D$.  \n",
    "> $D$ has a least element $d$ by the well-ordering principle.  \n",
    "> Since $d$ is in $D$, there are integers $s$ and $t$ such that $d = as + bt$.  \n",
    "> We must show that (ii) any common divisor $c$ of $a$ and $b$ is a divisor of $d$.  \n",
    ">\n",
    ">> Let $c \\mid a$ and $c \\mid b$.  \n",
    ">> Then there are integers $g$ and $h$ such that $a = cg$ and $b = ch$.  \n",
    ">> $as + bt = (cg)s + (ch)t = c(gs + ht) \\implies c \\mid c(gs + ht) \\implies c \\mid as + bt \\implies c \\mid d$  \n",
    ">> $\\therefore c \\mid d$  \n",
    ">\n",
    "> We must show that (i) $d \\mid a$ and $d \\mid b$.  \n",
    "> Showing that $d \\mid a$ is sufficient because $a$ and $b$ are interchangeable throughout the proof and so, by symmetry, $d \\mid b$.  \n",
    ">\n",
    ">> We may write $a = dq + r \\,\\, , \\,\\, 0 \\le r \\lt d$ by the division theorem.  \n",
    ">> To show that $d \\mid a$ is to show that $r = 0$.  \n",
    ">> $a = dq + r \\implies \\textcolor{green}{r} = a - dq = a - (as + bt)q = \\textcolor{green}{a(1 - sq) + b(-tq)}$  \n",
    ">> If $r$ were positive then it would meet the criteria of $D$ and so would belong to $D$.  \n",
    ">> But $d$ was chosen to be minimal in $D$ and $r$ is strictly less than $d$. $Contradiction!$  \n",
    ">> $\\therefore (r = 0) \\land (d \\mid a) \\land (d \\mid b)$\n",
    "\n",
    "$\\blacksquare$"
   ]
  },
  {
   "cell_type": "markdown",
   "metadata": {},
   "source": [
    "$Definition$ [Humphreys & Prest pp. 7] [Bressoud pp. 6]\n",
    "\n",
    "> Let $a$ and $b$ be integers.  \n",
    "> The integer $d$ satisfying conditions (i) and (ii) of theorem 1.1.2 is called the greatest common divisor of $a$ and $b$ and is denoted $gcd(a, b)$.  \n",
    "> In other words, the greatest common divisor of $a$ and $b$ is the largest positive integer which divides both $a$ and $b$.  \n",
    "\n",
    "> Note that $gcd(a, b) = gcd(b, a)$.  \n",
    "> Note that if $a \\mid b$ then $a = gcd(a, b)$."
   ]
  },
  {
   "cell_type": "markdown",
   "metadata": {},
   "source": [
    "---"
   ]
  },
  {
   "cell_type": "markdown",
   "metadata": {},
   "source": [
    "## Bézout's Identity"
   ]
  },
  {
   "cell_type": "markdown",
   "metadata": {},
   "source": [
    "$Corollary$ [Humphreys & Prest 1.1.3 pp. 7-8]\n",
    "\n",
    "> Let $a$ and $b$ be positive integers.  \n",
    "> The greatest common divisor $d$ of $a$ and $b$ is the smallest positive integral linear combination of $a$ and $b$.  \n",
    "> That is, $d = as + bt$ for some integers $s$ and $t$.  "
   ]
  },
  {
   "cell_type": "markdown",
   "metadata": {},
   "source": [
    "$Lemma$ [Bressoud 1.5 pp. 6]\n",
    "\n",
    "> Let $a$ and $b$ be integers and let $g = gcd(a, b)$.  \n",
    "> Then there are integers $m$ and $n$ such that $g = ma + nb$.  "
   ]
  },
  {
   "cell_type": "markdown",
   "metadata": {},
   "source": [
    "$Proof$ [Bressoud pp. 6]\n",
    "\n",
    "> Let $p$ be a prime and let $p \\mid ab$.  \n",
    "> If $p \\mid a$ then we are done.  \n",
    "> If $p \\nmid a$ then $gcd(p, a) = 1$ because $1$ is the only other positive integer that divides $p$.  \n",
    ">> Then there are integers $m$ and $n$ s.t. $gcd(p, a) = 1 = mp + na \\iff b = mpb + nab$.  \n",
    ">> Show that $p \\mid mpb$.  \n",
    ">>> $p \\mid p(mb) = mpb$ since $p$ divides integer multiples of itself.  \n",
    ">>  \n",
    ">> Show that $p \\mid nab$.  \n",
    ">>> $p \\mid ab$ and so it follows that $p \\mid ab(n)$ since $p$ divides integer multiples of itself.  \n",
    ">>  \n",
    ">> $\\therefore p \\mid b = mpb + nab$.  \n",
    ">  \n",
    "> Therefore, if $p \\nmid a$ then $p \\mid b$.  \n",
    "\n",
    "$\\blacksquare$"
   ]
  },
  {
   "cell_type": "markdown",
   "metadata": {},
   "source": [
    "$Example$ [Bressoud pp. 6]\n",
    "\n",
    "> Let $a = 21$ and $b = 6$ so that $g = 3 = gcd(21, 6)$.  \n",
    "> Then there are integers $1$ and $-3$ st $3 = 1 \\cdot 21 + (-3) \\cdot 6$.  \n",
    "> There are also integers $-1$ and $4$ st $3 = (-1) \\cdot 21 + 4 \\cdot 6$.  "
   ]
  },
  {
   "cell_type": "markdown",
   "metadata": {},
   "source": [
    "---"
   ]
  },
  {
   "cell_type": "markdown",
   "metadata": {},
   "source": [
    "## Computing GCD"
   ]
  },
  {
   "cell_type": "markdown",
   "metadata": {},
   "source": [
    "$Lemma$ [Humphreys & Prest 1.1.4 pp. 8] Euclid's _Elements_ Book VII Proposition 1\n",
    "\n",
    "> Let $a$ and $b$ be natural numbers and let $a$ be non-zero.  \n",
    "> Let $b = aq + r$ where $q$ and $r$ are positive integers.  \n",
    "> Then $gcd(a, b) = gcd(a, r)$.\n",
    "\n",
    "$$\n",
    "\\color{red}\n",
    "\\forall a, b \\in \\mathbb{N} \\,\\,\n",
    "[ \\,\\,\n",
    "((a \\ne 0) \\land\n",
    "(\\exists q, r \\in \\mathbb{P} \\,\\,\n",
    "(b = aq + r)))\n",
    "\\implies\n",
    "gcd(a, b) = gcd(a, r)\n",
    "\\,\\, ]\n",
    "$$"
   ]
  },
  {
   "cell_type": "markdown",
   "metadata": {},
   "source": [
    "$Proof$ [Humphreys & Prest pp. 8]\n",
    "\n",
    "> Let $d = gcd(a, b)$.  \n",
    "> $b = aq + r \\iff b - aq = r$  \n",
    ">> By definition, $d \\mid a$ and $d \\mid b$.  \n",
    ">> Then $d \\mid b - aq \\iff d \\mid r$ and so $d$ is a common divisor of $a$ and $r$.  \n",
    ">> $\\therefore d \\mid gcd(a, r)$ since a common divisor of two integers also divides their $gcd$.  \n",
    ">  \n",
    ">> By definition, $gcd(a, r) \\mid a$ and $gcd(a, r) \\mid r$.  \n",
    ">> $gcd(a, r) \\mid aq + r \\iff gcd(a, r) \\mid b$ and so $gcd(a, r)$ is a common divisor of $a$ and $b$.  \n",
    ">> $\\therefore gcd(a, r) \\mid d$ since a common divisor of two integers also divides their $gcd$.  \n",
    ">  \n",
    "> $\\therefore d = gcd(a, r) = gcd(a, b)$ since $d \\mid gcd(a, r)$ and $gcd(a, r) \\mid d$.  \n",
    "\n",
    "$\\blacksquare$"
   ]
  },
  {
   "cell_type": "markdown",
   "metadata": {},
   "source": [
    "$Example$ [Humphreys & Prest pp. 8-9]\n",
    "\n",
    "> Let $a = 30$ and $b = 171$.  \n",
    "> Then we can write $171 = 30q + r$ with $q = 5$ and $r = 21$ (or $q = 3$ and $r = 81$).  \n",
    "> Let $d = gcd(30, 171)$.  \n",
    "> $171 = 30 \\cdot 5 + 21 \\iff 171 - 30 \\cdot 5 = 21$\n",
    ">> By definition, $d \\mid 30$ and $d \\mid 171$.  \n",
    ">> Then $d \\mid 171 - 30 \\cdot 5 \\iff d \\mid 21$.  \n",
    ">> $\\therefore d \\mid gcd(30, 21)$.  \n",
    ">  \n",
    ">> By definition, $gcd(30, 21) \\mid 30$ and $gcd(30, 21) \\mid 21$.  \n",
    ">> $gcd(30, 21) \\mid 30 \\cdot 5 + 21 \\iff gcd(30, 21) \\mid 171$.  \n",
    ">> $gcd(30, 21) \\mid d$.  \n",
    ">  \n",
    "> $\\therefore d = gcd(30, 21) = gcd(30, 171)$.  "
   ]
  },
  {
   "cell_type": "markdown",
   "metadata": {},
   "source": [
    "---"
   ]
  },
  {
   "cell_type": "markdown",
   "metadata": {},
   "source": [
    "## Euclid's Algorithm\n",
    "Euclid's Elements Book VII Props. 1 & 2"
   ]
  },
  {
   "cell_type": "markdown",
   "metadata": {},
   "source": [
    "$Theorem$ [Humphreys & Prest 1.1.5 pp. 9] Euclid's _Elements_ Book VII Proposition 2\n",
    "\n",
    "> Let $a$ and $b$ be positive integers.  $a, b \\in \\mathbb{P}$  \n",
    "> If $a$ divides $b$ then $a$ is the greatest common divisor of $a$ and $b$.  \n",
    "> Otherwise, applying the division theorem repeatedly define a sequence of positive integers by $r_1, r_2, \\dots, r_n$ by  \n",
    "\n",
    "$$\n",
    "\\begin{align*}\n",
    "b &= a  q_1 + r_1 && 0 \\le r_1 \\lt |a|   \\\\\n",
    "a &= r_1q_2 + r_2 && 0 \\le r_2 \\lt r_1 \\\\\n",
    "\\vdots \\\\\n",
    "r_{n - 2} &= r_{n - 1}q_n + r_n && 0 \\le r_n \\lt r_{n - 1} \\\\\n",
    "r_{n - 1} &= r_nq_{n + 1} \\\\\n",
    "\\end{align*}\n",
    "$$\n",
    "\n",
    "> Then $r_n$ is the greatest common divisor of $a$ and $b$.  "
   ]
  },
  {
   "cell_type": "markdown",
   "metadata": {},
   "source": [
    "$Proof$ [Humphreys & Prest pp. 9]\n",
    "\n",
    "> Apply the division theorem to the successive non-zero remainders $r_1, r_2, \\dots, r_n$.  \n",
    "> Since $a, r_1, r_2, \\dots, r_n$ is a decreasing sequence of positive integers, it must eventually stop, terminating with an integer $r_n$ which--because no non-zero remainder $r_{n + 1}$ is produced--must, therefore, divide $r_{n - 1}$.  \n",
    "> Then apply the gcd lemma back up the sequence of equations so that $gcd(b, a) = gcd(a, r_1) = \\dots = gcd(r_{n - 2}, r_{n - 1}) = gcd(r_{n - 1}, r_n) = r_n$.  \n",
    "> $\\therefore r_n = gcd(a, b)$.  \n",
    "\n",
    "$\\blacksquare$"
   ]
  },
  {
   "cell_type": "markdown",
   "metadata": {},
   "source": [
    "<div style=\"color: red\";>\n",
    "\n",
    "$Proof \\,\\, by \\,\\, construction$ [Bressoud pp. 7]\n",
    "\n",
    "Assume that $a$ and $b$ are positive.\n",
    "\n",
    "This process continues until the remainder is $0$, which must eventually happen since the remainders are always nonnegative and each remainder is strictly smaller than the previous one.\n",
    "\n",
    "$\n",
    "\\begin{aligned}\n",
    "  a &= m_1 \\times   b + r_1 && 0 \\le r_1 \\lt |b| && r_1 = 0 \\implies b \\mid a, gcd(a, b) = b, m = 0, n = 1 \\\\\n",
    "  b &= m_2 \\times r_1 + r_2 && 0 \\le r_2 \\lt r_1 && r_2 = 0 \\implies gcd(a, b) = r_1 \\\\\n",
    "r_1 &= m_3 \\times r_2 + r_3 && 0 \\le r_3 \\lt r_2 && r_3 = 0 \\implies gcd(a, b) = r_2 \\\\\n",
    "\\vdots \\\\\n",
    "r_{k - 2} &= m_k \\times r_{k - 1} + r_k && 0 \\lt r_k \\lt r_{k - 1} \\\\\n",
    "r_{k - 1} &= m_{k + 1} \\times r_k + 0 && && gcd(a, b) = r_k \\\\\n",
    "\\end{aligned}\n",
    "$\n",
    "\n",
    "The last non-zero remainder, $r_k$, is the greatest common divisor of $a$ and $b$.\n",
    "\n",
    "We work back up the list of equalities to show that $r_k$ is a common divisor of $a$ and $b$.\n",
    "\n",
    "$\n",
    "\\begin{aligned}\n",
    "r_k &\\mid r_k \\\\\n",
    "r_k &\\mid r_{k - 1} && \\text{by the last equality} \\\\\n",
    "r_k &\\mid r_{k - 2} && \\text{by the second to last equality} \\\\\n",
    "\\vdots \\\\\n",
    "r_k &\\mid r_3 \\\\\n",
    "r_k &\\mid r_2 \\\\\n",
    "r_k &\\mid r_1 && \\text{by the third equality} \\\\\n",
    "r_k &\\mid b   && \\text{by the second equality} \\\\\n",
    "r_k &\\mid a   && \\text{by the first equality} \\\\\n",
    "\\end{aligned}\n",
    "$\n",
    "\n",
    "To show that $r_k$ is the largest common divisor, let $d$ be any other common divisor.\n",
    "\n",
    "$\n",
    "\\begin{aligned}\n",
    "d &\\mid a \\\\\n",
    "d &\\mid b \\\\\n",
    "d &\\mid r_1 && \\text{by} \\,\\, a = m_1 \\times b + r_1\n",
    "\\end{aligned}\n",
    "$\n",
    "\n",
    "</div>"
   ]
  },
  {
   "cell_type": "markdown",
   "metadata": {},
   "source": [
    "$Example$ [Humphreys & Prest pp. 10]\n",
    "\n",
    "> Let $a = 30$ and $b = 171$.  \n",
    "\n",
    "$$\n",
    "\\begin{align*}\n",
    "b &= aq + r && 0 \\le r \\lt |a| \\\\\n",
    "171 &= 5 \\cdot 30 + 21 && 0 \\le 21 \\lt 30 && gcd(171, 30) = gcd(30, 21) \\\\\n",
    " 30 &= 1 \\cdot 21 + 9  && 0 \\le  9 \\lt 21 && gcd(30, 21) = gcd(21, 9) \\\\\n",
    " 21 &= 2 \\cdot  9 + 3  && 0 \\le  3 \\lt  9 && gcd(21, 9) = gcd(9, 3) \\\\\n",
    "  9 &= 3 \\cdot  3 + 0  && 0 \\le  0 \\lt  3 && gcd(9, 3) = 3 \\\\\n",
    "\\end{align*}\n",
    "$$\n",
    "\n",
    "> $3 = gcd(9, 3) = gcd(21, 9) = gcd(30, 21) = gcd(171, 30)$\n",
    "\n",
    "$$\n",
    "\\begin{align*}\n",
    "3\n",
    "&= 21 - 2 \\cdot 9 && 3 = 21 - 2 \\cdot 9 \\\\\n",
    "&= 21 - 2 \\cdot (30 - 21) && 9 = 30 - 1 \\cdot 21 \\\\\n",
    "&= 3 \\cdot 21 - 2 \\cdot 30 \\\\\n",
    "&= 3 \\cdot (171 - 5 \\cdot 30) - 2 \\cdot 30 && 21 = 171 - 5 \\cdot 30 \\\\\n",
    "&= 3 \\cdot 171 - 17 \\cdot 30 \\\\\n",
    "&= 3 \\cdot 171 + (-17) \\cdot 30 \\\\\n",
    "\\end{align*}\n",
    "$$\n",
    "\n",
    "> $3 = (-17) \\cdot 30 + 3 \\cdot 171$  "
   ]
  },
  {
   "cell_type": "code",
   "execution_count": 21,
   "metadata": {},
   "outputs": [
    {
     "name": "stdout",
     "output_type": "stream",
     "text": [
      "3\n"
     ]
    }
   ],
   "source": [
    "a, b =  30, 171\n",
    "x, y = -17,   3\n",
    "c    = a*x + b*y\n",
    "\n",
    "assert c == np.gcd(a, b)\n",
    "print (c)"
   ]
  },
  {
   "cell_type": "markdown",
   "metadata": {},
   "source": [
    "$Example$ [Humphreys & Prest pp. 14]\n",
    "\n",
    "> Let $a = -24$ and $b = -102$.  \n",
    "\n",
    "$$\n",
    "\\begin{align*}\n",
    "   b &= qa + r              && 0 \\le  r \\lt |a| && gcd(b, a) = gcd(a, r) \\\\\n",
    "-102 &=  5 \\cdot (-24) + 18 && 0 \\le 18 \\lt 24  && gcd(-102, -24) = gcd(-24, 18) \\\\\n",
    " -24 &= -2 \\cdot   18  + 12 && 0 \\le 12 \\lt 18  && gcd(-24, 18) = gcd(18, 12) \\\\\n",
    "  18 &=  1 \\cdot   12  +  6 && 0 \\le  6 \\lt 12  && gcd(18, 12) = gcd(12, 6) \\\\\n",
    "  12 &=  2 \\cdot    6  +  0 && 0 \\le  0 \\lt  6  && gcd(12, 6) = 6 \\\\\n",
    "\\end{align*}\n",
    "$$\n",
    "\n",
    "> $6 = gcd(12, 6) = gcd(18, 12) = gcd(-24, 18) = gcd(-102, -24)$  \n",
    "\n",
    "$$\n",
    "\\begin{align*}\n",
    "6\n",
    "&= 18 - 1 \\cdot 12 && 6 = 18 - 1 \\cdot 12 \\\\\n",
    "&= 18 - 1 \\cdot (-24 - (-2) \\cdot 18) && 12 = -24 - (-2) \\cdot 18 \\\\\n",
    "&= 18 - 1 \\cdot (-24 + 2 \\cdot 18) \\\\\n",
    "&= (-1) \\cdot 18 - 1 \\cdot (-24) \\\\\n",
    "&= (-1) \\cdot (-102 - 5 \\cdot (-24)) - 1 \\cdot (-24) && 18 = -102 - 5 \\cdot (-24) \\\\\n",
    "&= (-1) \\cdot (-102) + 5 \\cdot (-24) - 1 \\cdot (-24) \\\\\n",
    "&= (-1) \\cdot (-102) + 4 \\cdot (-24) \\\\\n",
    "\\end{align*}\n",
    "$$\n",
    "\n",
    "> $6 = 4 \\cdot (-24) + (-1) \\cdot (-102)$  "
   ]
  },
  {
   "cell_type": "code",
   "execution_count": 22,
   "metadata": {},
   "outputs": [
    {
     "name": "stdout",
     "output_type": "stream",
     "text": [
      "6\n"
     ]
    }
   ],
   "source": [
    "a, b = -24, -102\n",
    "x, y =   4,   -1\n",
    "c    = a*x + b*y\n",
    "\n",
    "assert c == np.gcd(a, b)\n",
    "print (c)"
   ]
  },
  {
   "cell_type": "markdown",
   "metadata": {},
   "source": [
    "---"
   ]
  },
  {
   "cell_type": "markdown",
   "metadata": {},
   "source": [
    "## Find the GCD as a linear combination via matrices"
   ]
  },
  {
   "cell_type": "markdown",
   "metadata": {},
   "source": [
    "[Humphreys & Prest pp. 10-11]\n",
    "\n",
    "Find $gcd(a, b)$ of $a$ and $b$ as a linear combination $as + bt$.\n",
    "\n",
    "> Set up a partitoned matrix which represents the equations $x = b$ and $y = a$.  \n",
    "\n",
    "$$\n",
    "\\left(\n",
    "\\begin{array}{cc|c}\n",
    "1 & 0 & b \\\\\n",
    "0 & 1 & a \\\\\n",
    "\\end{array}\n",
    "\\right)\n",
    "\\iff\n",
    "\\left(\n",
    "\\begin{array}{cc|c}\n",
    "1 & 0 & aq_1 + r_1 \\\\\n",
    "0 & 1 & a \\\\\n",
    "\\end{array}\n",
    "\\right)\n",
    "$$\n",
    "\n",
    "> If $r_1 = 0$ then  \n",
    "> $a = gcd(a, b)$  \n",
    "> $a = 0 \\cdot b + 1 \\cdot a$  \n",
    "> and we are done.  \n",
    "\n",
    "> Otherwise, subtract $q_1$ times the bottom row from the top row.  \n",
    "> $b = aq_1 + r_1$ with $0 \\le r_1 \\lt |a|$  \n",
    "> $b = aq_1 + r_1 \\iff b - aq_1 = r_1$.  \n",
    "\n",
    "$$\n",
    "\\left(\n",
    "\\begin{array}{cc|c}\n",
    "1 & -q_1 & b - aq_1 \\\\\n",
    "0 & 1 & a \\\\\n",
    "\\end{array}\n",
    "\\right)\n",
    "\\iff\n",
    "\\left(\n",
    "\\begin{array}{cc|c}\n",
    "1 & -q_1 & r_1 \\\\\n",
    "0 & 1 & a \\\\\n",
    "\\end{array}\n",
    "\\right)\n",
    "$$\n",
    "  \n",
    "> If $r_2 = 0$ then  \n",
    "> $r_1 = gcd(r_1, a) = gcd(a, b)$  \n",
    "> $r_1 = 1 \\cdot b + (-q_1) \\cdot a$  \n",
    "> and we are done.  \n",
    "\n",
    "> Otherwise, subtract $q_2$ times the top row from the bottom row.  \n",
    "> $a = r_1q_2 + r_2$ with $0 \\le r_2 \\lt r_1$  \n",
    "> $a = r_1q_2 + r_2 \\iff a - r_1q_2 = r_2$.  \n",
    "\n",
    "$$\n",
    "\\left(\n",
    "\\begin{array}{cc|c}\n",
    "1 & -q_1 & r_1 \\\\\n",
    "-q_2 & 1 + q_1q_2 & a - r_1q_2 \\\\\n",
    "\\end{array}\n",
    "\\right)\n",
    "\\iff\n",
    "\\left(\n",
    "\\begin{array}{cc|c}\n",
    "1 & -q_1 & r_1 \\\\\n",
    "-q_2 & 1 + q_1q_2 & r_2 \\\\\n",
    "\\end{array}\n",
    "\\right)\n",
    "$$\n",
    "\n",
    "> If $r_3 = 0$ then  \n",
    "> $r_2 = gcd(r_2, r_1) = gcd(r_1, a) = gcd(a, b)$  \n",
    "> $r_2 = (-q_2) \\cdot b + (1 + q_1q_2) \\cdot a$  \n",
    "> and we are done.  \n",
    "\n",
    "> Otherwise, subtract $q_3$ times the bottom row from the top row.  \n",
    "> $r_1 = r_2q_3 + r_3$ with $0 \\le r_3 \\lt r_2$  \n",
    "> $r_1 = r_2q_3 + r_3 \\iff r_1 - r_2q_3 = r_3$.  \n",
    "\n",
    "$$\n",
    "\\left(\n",
    "\\begin{array}{cc|c}\n",
    "1 + q_2q_3 & -q_1 - q_3 - q_1q_2q_3 & r_1 - r_2q_3 \\\\\n",
    "-q_2 & 1 + q_1q_2 & r_2 \\\\\n",
    "\\end{array}\n",
    "\\right)\n",
    "\\iff\n",
    "\\left(\n",
    "\\begin{array}{cc|c}\n",
    "1 + q_2q_3 & -q_1 - q_3 - q_1q_2q_3 & r_3 \\\\\n",
    "-q_2 & 1 + q_1q_2 & r_2 \\\\\n",
    "\\end{array}\n",
    "\\right)\n",
    "$$\n",
    "\n",
    "> And so on. If at some stage one of the rows is  \n",
    "\n",
    "$$\n",
    "\\begin{array}{cc|c}\n",
    "n_i & m_i & r_i & (*)\n",
    "\\end{array}\n",
    "$$\n",
    "\n",
    "> representing the equation  \n",
    "\n",
    "$$\n",
    "\\begin{align*}\n",
    "bn_i + am_i = r_i\n",
    "\\end{align*}\n",
    "$$\n",
    "\n",
    "> and if the other row reads  \n",
    "\n",
    "$$\n",
    "\\begin{array}{cc|c}\n",
    "n_{i + 1} & m_{i + 1} & r_{i + 1} & (**)\n",
    "\\end{array}\n",
    "$$\n",
    "\n",
    "> then we set  \n",
    "\n",
    "$$\n",
    "\\begin{align*}\n",
    "r_i &= r_{i + 1}q_{i + 2} + r_{i + 2} && 0 \\le r_{i + 2} \\lt r_{i + 1}\n",
    "\\end{align*}\n",
    "$$\n",
    "\n",
    "> and we subtract $q_{i + 2}$ times the second of these rows from the first and replace $(*)$ with the result.  \n",
    "\n",
    "> Note that these operations reduce the size of the non-negative numbers in the right-hand column and so eventually the process will stop. When it stops, we will have the $gcd$.  \n",
    "> If the row containing the $gcd$ reads  \n",
    "\n",
    "$$\n",
    "\\begin{array}{cc|c}\n",
    "n & m & d\n",
    "\\end{array}\n",
    "$$\n",
    "\n",
    "> then we have the expression  \n",
    "\n",
    "$$\n",
    "\\begin{align*}\n",
    "bn + am = d\n",
    "\\end{align*}\n",
    "$$\n",
    "\n",
    "> of $d$ as the integral linear combination of $a$ and $b$.  "
   ]
  },
  {
   "cell_type": "markdown",
   "metadata": {},
   "source": [
    "$Example$ [Humphreys & Prest pp. 11]\n",
    "\n",
    "$\n",
    "\\newcommand{\\bmat}{\\left(\\begin{array}{cc|c}}\n",
    "\\newcommand{\\emat}{\\end{array}\\right)}\n",
    "\\begin{aligned}\n",
    "& \\bmat\n",
    "1 & 0 & 171 \\\\\n",
    "0 & 1 &  30 \\\\\n",
    "\\emat\n",
    "&&\n",
    "\\begin{aligned}\n",
    "1 \\cdot 171 + 0 \\cdot 30 &= 171 \\\\\n",
    "0 \\cdot 171 + 1 \\cdot 30 &=  30 \\\\\n",
    "\\end{aligned}\n",
    "\\\\ \\to\n",
    "& \\bmat\n",
    "1 & -5 & 21 \\\\\n",
    "0 &  1 & 30 \\\\\n",
    "\\emat\n",
    "\\\\ \\to\n",
    "& \\bmat\n",
    " 1 & -5 & 21 \\\\\n",
    "-1 &  6 &  9 \\\\\n",
    "\\emat\n",
    "\\\\ \\to\n",
    "& \\bmat\n",
    " 3 & -17 & 3 \\\\\n",
    "-1 &   6 & 9 \\\\\n",
    "\\emat\n",
    "\\\\ \\to\n",
    "& \\bmat\n",
    "  3 & -17 & 3 \\\\\n",
    "-10 &  57 & 0 \\\\\n",
    "\\emat\n",
    "&&\n",
    "\\begin{aligned}\n",
    "3 \\cdot 171 - 17 \\cdot 30 &= 3 = gcd(171, 30) \\\\\n",
    "(-10) \\cdot 171 + 57 \\cdot 30 &= 0 \\\\\n",
    "\\end{aligned}\n",
    "\\end{aligned}\n",
    "$"
   ]
  },
  {
   "cell_type": "markdown",
   "metadata": {},
   "source": [
    "---"
   ]
  },
  {
   "cell_type": "markdown",
   "metadata": {},
   "source": [
    "## Generalization of GCD"
   ]
  },
  {
   "cell_type": "markdown",
   "metadata": {},
   "source": [
    "$Definition$ [Humphreys & Prest pp. 12]\n",
    "\n",
    "> Let $a_1, \\dots, a_n$ be positive integers.  \n",
    "> Then $gcd(a_1, \\dots, a_n)$ is the positive integer $m$ with the property that $m \\mid a_i$ for each $i$ and, whenever $c$ is an integer with $c \\mid a_i$ for each $i$, we have $c \\mid m$."
   ]
  },
  {
   "cell_type": "markdown",
   "metadata": {},
   "source": [
    "$Proof \\,\\, idea$ [Humphreys & Prest pp. 12]\n",
    "\n",
    "> $gcd(a_1, \\dots, a_n) = gcd(gcd(a_1, \\dots, a_{n - 1}), a_n)$  \n",
    "> In other words, we can compute the $gcd$ of $n$ numbers $a_1, \\dots, a_n$ by computing the $gcd$ of the first $n - 1$ of them and then computing the $gcd$ of that and the last number $a_n$.  \n",
    "> If we can compute the $gcd$ of two numbers, then we can compute the $gcd$ of $n$ numbers."
   ]
  },
  {
   "cell_type": "markdown",
   "metadata": {},
   "source": [
    "$Claim$ [Humphreys & Prest pp. 12]\n",
    "\n",
    "> For all $n$ and integers $a_1, \\dots, a_n$ it is the case that $gcd(a_1, \\dots, a_n) = gcd(gcd(a_1, \\dots, a_{n - 1}), a_n)$.   "
   ]
  },
  {
   "cell_type": "markdown",
   "metadata": {},
   "source": [
    "$Proof$\n",
    "\n",
    "<div style=\"background-color: red;\">TODO</div>\n",
    "\n",
    "$\\blacksquare$"
   ]
  },
  {
   "cell_type": "markdown",
   "metadata": {},
   "source": [
    "$Example$ [Humphreys & Prest pp. 12]\n",
    "\n",
    "$$\n",
    "\\begin{align*}\n",
    "& gcd(24, 60, 30, 8) \\\\\n",
    "= & gcd(gcd(24, 60, 30), 8) \\\\\n",
    "= & gcd(gcd(gcd(24, 60), 30), 8) \\\\\n",
    "= & gcd(gcd(12, 30), 8) \\\\\n",
    "= & gcd(6, 8) \\\\\n",
    "= & 2 \\\\\n",
    "\\end{align*}\n",
    "$$"
   ]
  },
  {
   "cell_type": "markdown",
   "metadata": {},
   "source": [
    "---"
   ]
  },
  {
   "cell_type": "markdown",
   "metadata": {},
   "source": [
    "## LCM"
   ]
  },
  {
   "cell_type": "markdown",
   "metadata": {},
   "source": [
    "$Definition$ [Humphreys & Prest pp. 14]\n",
    "\n",
    "> The least common multiple $lcm(a, b)$ of integers $a$ and $b$ is the positive integer $m$ s.t. both  \n",
    "> 1. $a$ and $b$ divide $m$ (so $m$ is a common multiple of $a$ and $b$), and s.t.  \n",
    "> 2. $m$ divides every common multiple of $a$ and $b$.  "
   ]
  },
  {
   "cell_type": "markdown",
   "metadata": {},
   "source": [
    "$Claim$ [Humphreys & Prest pp. 14]\n",
    "\n",
    "> $m = lcm(a, b)$ exists and is unique.\n",
    "\n",
    "$$\n",
    "\\color{red}\n",
    "\\forall a, b \\in \\mathbb{Z} \\,\\,\n",
    "\\exists m \\in \\mathbb{P} \\,\\,\n",
    "[ \\,\\,\n",
    "m = lcm(a, b)\n",
    "\\iff\n",
    "(((a \\mid m) \\land (b \\mid m)) \\land (m \\mid CommonMultiple(a, b)))\n",
    "\\,\\, ]\n",
    "$$"
   ]
  },
  {
   "cell_type": "markdown",
   "metadata": {},
   "source": [
    "$Proof$\n",
    "\n",
    "<div style=\"background-color: red;\">TODO</div>\n",
    "\n",
    "$\\blacksquare$"
   ]
  },
  {
   "cell_type": "markdown",
   "metadata": {},
   "source": [
    "$Definition$ [Humphreys & Prest pp. 14]\n",
    "\n",
    "> Let $a_1, \\dots, a_n$ be non-zero integers.  \n",
    "> $lcm(a_1, \\dots, a_n)$ is the unique positive integer $m$ which satisfies $a_i \\mid m$ for all $i$ and, whenever an integer $c$ satisfies $a_i \\mid c$ for all $i$, we have $m \\mid c$.  "
   ]
  },
  {
   "cell_type": "markdown",
   "metadata": {},
   "source": [
    "$Example$ [Humphreys & Prest pp. 14]\n",
    "\n",
    "> $lcm(6, 15, 4) = lcm(lcm(6, 15), 4) = lcm(30, 4) = 60$.  "
   ]
  },
  {
   "cell_type": "markdown",
   "metadata": {},
   "source": [
    "---"
   ]
  },
  {
   "cell_type": "markdown",
   "metadata": {},
   "source": [
    "## Extended Euclidean Algorithm"
   ]
  },
  {
   "cell_type": "markdown",
   "metadata": {},
   "source": [
    "---"
   ]
  }
 ],
 "metadata": {
  "kernelspec": {
   "display_name": "ml",
   "language": "python",
   "name": "python3"
  },
  "language_info": {
   "codemirror_mode": {
    "name": "ipython",
    "version": 3
   },
   "file_extension": ".py",
   "mimetype": "text/x-python",
   "name": "python",
   "nbconvert_exporter": "python",
   "pygments_lexer": "ipython3",
   "version": "3.11.5"
  },
  "orig_nbformat": 4
 },
 "nbformat": 4,
 "nbformat_minor": 2
}
