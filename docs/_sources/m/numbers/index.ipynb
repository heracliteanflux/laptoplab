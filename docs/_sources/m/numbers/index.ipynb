{
 "cells": [
  {
   "cell_type": "markdown",
   "metadata": {},
   "source": [
    "# Number Theory\n",
    "The Theory of Integers"
   ]
  },
  {
   "cell_type": "markdown",
   "metadata": {},
   "source": [
    "---"
   ]
  },
  {
   "cell_type": "markdown",
   "metadata": {},
   "source": [
    "## Sections\n",
    "```{tableofcontents}\n",
    "```"
   ]
  },
  {
   "cell_type": "markdown",
   "metadata": {},
   "source": [
    "---"
   ]
  },
  {
   "cell_type": "markdown",
   "metadata": {},
   "source": [
    "## Resources"
   ]
  },
  {
   "cell_type": "markdown",
   "metadata": {},
   "source": [
    "My Lesson\n",
    "* [ [y](https://www.youtube.com/watch?v=AbjhsGnKEtE) ] `07-29-2021`. \"Number Theory and Cryptography Complete Course | Discrete Mathematics for Computer Science\".\n",
    "\n",
    "Richard E. Borcherds\n",
    "* [ [y](https://www.youtube.com/watch?v=EzE6it9kAsI) ] `01-13-2022`. \"Introduction to number theory lecture 1.\".\n",
    "* [ [y](https://www.youtube.com/watch?v=mduJOLdKrak) ] `01-15-2022`. \"Introduction to number theory lecture 2: Survey.\".\n",
    "* [ [y](https://www.youtube.com/watch?v=pVKhDtOjji8) ] `01-17-2022`. \"Introduction to number theory lecture 3: Divisibility and Euclid's algorithms.\".\n",
    "* [ [y](https://www.youtube.com/watch?v=R-O8j7FHEXI) ] `01-18-2022`. \"Introduction to number theory lecture 4. More on Euclid's algorithm\".\n",
    "* [ [y](https://www.youtube.com/watch?v=VRrP4US7idg) ] `01-20-2022`. \"Introduction to number theory lecture 5. Primes.\".\n",
    "\n",
    "more\n",
    "* [ [y](https://www.youtube.com/watch?v=5hfkzo_ojGE) ] `11-13-2023`. Douglas Shamlin Jr. \"Ultimate Large Numbers List 2024 - The Biggest Numbers Ever!!!\".\n",
    "* [ [y](https://www.youtube.com/watch?v=1gFBQS_3UgA) ] `11-21-2023`. Shefs of Problem Solving. \"A number theory adventure - JBMO 2002 - P3\"."
   ]
  },
  {
   "cell_type": "markdown",
   "metadata": {},
   "source": [
    "[ [y](https://www.youtube.com/watch?v=Zy0Hv-rQFck) ] `02-28-2019` Shannon “MATHCHICK” Myers. \"Direct Proof and Counterexample V: Floor and Ceiling\"."
   ]
  },
  {
   "cell_type": "markdown",
   "metadata": {},
   "source": [
    "---"
   ]
  },
  {
   "cell_type": "markdown",
   "metadata": {},
   "source": [
    "## Figures"
   ]
  },
  {
   "cell_type": "markdown",
   "metadata": {},
   "source": [
    "* [ w ] `---------` Lehman, R. Sherman\n",
    "  * `1974` \"Factoring Large Integers\"\n",
    "  * https://programmingpraxis.com/2017/08/22/lehmans-factoring-algorithm/"
   ]
  },
  {
   "cell_type": "markdown",
   "metadata": {},
   "source": [
    "---"
   ]
  },
  {
   "cell_type": "markdown",
   "metadata": {},
   "source": [
    "## Terms"
   ]
  },
  {
   "cell_type": "markdown",
   "metadata": {},
   "source": [
    "* [ [w](https://en.wikipedia.org/wiki/Linnik%27s_theorem) ] Linnik's Theorem"
   ]
  },
  {
   "cell_type": "markdown",
   "metadata": {},
   "source": [
    "---"
   ]
  }
 ],
 "metadata": {
  "language_info": {
   "name": "python"
  },
  "orig_nbformat": 4
 },
 "nbformat": 4,
 "nbformat_minor": 2
}
