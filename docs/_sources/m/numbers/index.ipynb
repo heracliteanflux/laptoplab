{
 "cells": [
  {
   "cell_type": "markdown",
   "metadata": {},
   "source": [
    "# Number Theory\n",
    "The Theory of Integers"
   ]
  },
  {
   "cell_type": "markdown",
   "metadata": {},
   "source": [
    "---"
   ]
  },
  {
   "cell_type": "markdown",
   "metadata": {},
   "source": [
    "## Sections\n",
    "```{tableofcontents}\n",
    "```"
   ]
  },
  {
   "cell_type": "markdown",
   "metadata": {},
   "source": [
    "---"
   ]
  },
  {
   "cell_type": "markdown",
   "metadata": {},
   "source": [
    "## Resources"
   ]
  },
  {
   "cell_type": "markdown",
   "metadata": {},
   "source": [
    "My Lesson\n",
    "* [ [y](https://www.youtube.com/watch?v=AbjhsGnKEtE) ] `07-29-2021`. \"Number Theory and Cryptography Complete Course | Discrete Mathematics for Computer Science\".\n",
    "\n",
    "Richard E. Borcherds\n",
    "* [ [y](https://www.youtube.com/watch?v=EzE6it9kAsI) ] `01-13-2022`. \"Introduction to number theory lecture 1.\".\n",
    "* [ [y](https://www.youtube.com/watch?v=mduJOLdKrak) ] `01-15-2022`. \"Introduction to number theory lecture 2: Survey.\".\n",
    "* [ [y](https://www.youtube.com/watch?v=pVKhDtOjji8) ] `01-17-2022`. \"Introduction to number theory lecture 3: Divisibility and Euclid's algorithms.\".\n",
    "* [ [y](https://www.youtube.com/watch?v=R-O8j7FHEXI) ] `01-18-2022`. \"Introduction to number theory lecture 4. More on Euclid's algorithm\".\n",
    "* [ [y](https://www.youtube.com/watch?v=VRrP4US7idg) ] `01-20-2022`. \"Introduction to number theory lecture 5. Primes.\".\n",
    "\n",
    "more\n",
    "* [ [y](https://www.youtube.com/watch?v=5hfkzo_ojGE) ] `11-13-2023`. Douglas Shamlin Jr. \"Ultimate Large Numbers List 2024 - The Biggest Numbers Ever!!!\".\n",
    "* [ [y](https://www.youtube.com/watch?v=1gFBQS_3UgA) ] `11-21-2023`. Shefs of Problem Solving. \"A number theory adventure - JBMO 2002 - P3\"."
   ]
  },
  {
   "cell_type": "markdown",
   "metadata": {},
   "source": [
    "[ [y](https://www.youtube.com/watch?v=Zy0Hv-rQFck) ] `02-28-2019` Shannon “MATHCHICK” Myers. \"Direct Proof and Counterexample V: Floor and Ceiling\"."
   ]
  },
  {
   "cell_type": "markdown",
   "metadata": {},
   "source": [
    "---"
   ]
  },
  {
   "cell_type": "markdown",
   "metadata": {},
   "source": [
    "## Texts"
   ]
  },
  {
   "cell_type": "markdown",
   "metadata": {},
   "source": [
    "Bressoud. _Factorization and Primality Testing_. Springer.\n",
    "\n",
    "Crandall & Pomerance. _Prime Numbers: A Computational Perspective_. Springer.\n",
    "\n",
    "Davenport. _The Higher Arithmetic_. CUP.\n",
    "\n",
    "LeVeque. _Fundamentals of Number Theory_. Dover.\n",
    "\n",
    "[ [h](https://bpb-us-e1.wpmucdn.com/sites.psu.edu/dist/6/167041/files/2023/07/CENT.pdf) ] Vaughan, Robert. _A Course of Elementary Number Theory_.\n",
    "\n",
    "Wagstaff. _The Joy of Factoring_. American Mathematical Society."
   ]
  },
  {
   "cell_type": "markdown",
   "metadata": {},
   "source": [
    "---"
   ]
  },
  {
   "cell_type": "markdown",
   "metadata": {},
   "source": [
    "## Figures"
   ]
  },
  {
   "cell_type": "markdown",
   "metadata": {},
   "source": [
    "* [ [w](https://en.wikipedia.org/wiki/%C3%89tienne_B%C3%A9zout) ] `1730-1783` Bézout, Étienne\n",
    "* [ [w](https://en.wikipedia.org/wiki/G._H._Hardy) ] `1877-1947` Hardy, G. H.\n",
    "* [ w ] `---------` Lehman, R. Sherman\n",
    "  * `1974` \"Factoring Large Integers\"\n",
    "  * https://programmingpraxis.com/2017/08/22/lehmans-factoring-algorithm/\n",
    "* [ [w](https://en.wikipedia.org/wiki/%C3%89douard_Lucas) ] `1842-1891` Lucas, Édouard"
   ]
  },
  {
   "cell_type": "markdown",
   "metadata": {},
   "source": [
    "---"
   ]
  },
  {
   "cell_type": "markdown",
   "metadata": {},
   "source": [
    "## Terms"
   ]
  },
  {
   "cell_type": "markdown",
   "metadata": {},
   "source": [
    "* [ [w](https://en.wikipedia.org/wiki/Arbitrary-precision_arithmetic) ] Arbitrary-Precision Arithmetic\n",
    "* [ [w](https://en.wikipedia.org/wiki/B%C3%A9zout%27s_identity) ] Bézout's Identity\n",
    "* [ [w](https://en.wikipedia.org/wiki/Binary_GCD_algorithm) ] Binary GCD Algorithm\n",
    "* [ [w](https://en.wikipedia.org/wiki/Chinese_remainder_theorem) ] Chinese Remainder Theorem\n",
    "* [ [w](https://en.wikipedia.org/wiki/Coprime_integers) ] Coprime\n",
    "* [ [w](https://en.wikipedia.org/wiki/Diophantine_equation) ] Diophantine Equation\n",
    "* [ [w](https://en.wikipedia.org/wiki/Euclid%27s_lemma) ] Euclid's Lemma\n",
    "* [ [w](https://en.wikipedia.org/wiki/Euclid%27s_theorem) ] Euclid's Theorem\n",
    "* [ [w](https://en.wikipedia.org/wiki/Euclidean_algorithm) ] Euclidean Algorithm\n",
    "* [ [w](https://en.wikipedia.org/wiki/Euler%27s_totient_function) ] Euler's Totient Function\n",
    "* [ [w](https://en.wikipedia.org/wiki/Extended_Euclidean_algorithm) ] Extended Euclidean Algorithm\n",
    "* [ [w](https://en.wikipedia.org/wiki/Greatest_common_divisor) ] Greatest Common Divisior (GCD)\n",
    "* [ [w](https://en.wikipedia.org/wiki/Lehmer%27s_GCD_algorithm) ] Lehmer's GCD Algorithm\n",
    "* [ [w](https://en.wikipedia.org/wiki/Linnik%27s_theorem) ] Linnik's Theorem\n",
    "* [ [w](https://en.wikipedia.org/wiki/Lucas%27s_theorem) ] Lucas' Theorem\n",
    "* [ [w](https://en.wikipedia.org/wiki/Primality_test) ] Primality Test\n",
    "* [ [w](https://en.wikipedia.org/wiki/Prime-counting_function) ] Prime-Counting Function\n",
    "* [ [w](https://en.wikipedia.org/wiki/RSA_(cryptosystem)) ] RSA (Rivest–Shamir–Adleman)\n",
    "* [ [w](https://en.wikipedia.org/wiki/Trial_division) ] Trial Division"
   ]
  },
  {
   "cell_type": "markdown",
   "metadata": {},
   "source": [
    "---"
   ]
  }
 ],
 "metadata": {
  "language_info": {
   "name": "python"
  },
  "orig_nbformat": 4
 },
 "nbformat": 4,
 "nbformat_minor": 2
}
