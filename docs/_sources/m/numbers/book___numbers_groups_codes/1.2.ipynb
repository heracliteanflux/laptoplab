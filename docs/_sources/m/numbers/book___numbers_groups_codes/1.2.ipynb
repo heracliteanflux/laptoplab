{
 "cells": [
  {
   "cell_type": "markdown",
   "metadata": {},
   "source": [
    "# 1.2\n",
    "Exercises from Humphreys, J. F. & M. Y. Prest. (2008). _Numbers, Groups, and Codes_. 2nd Ed. Cambridge University Press."
   ]
  },
  {
   "cell_type": "markdown",
   "metadata": {},
   "source": [
    "---"
   ]
  },
  {
   "cell_type": "markdown",
   "metadata": {},
   "source": [
    "## 1"
   ]
  },
  {
   "cell_type": "markdown",
   "metadata": {},
   "source": [
    "Define the following sequence $a_n$ of integers for $n \\ge 1$.\n",
    "\n",
    "$$\n",
    "a_n :=\n",
    "\\begin{cases}\n",
    "a_1 &= 1 \\\\\n",
    "a_{n + 1} &= 2a_n + 1 && n \\ge 2 \\\\\n",
    "\\end{cases}\n",
    "$$\n",
    "\n",
    "Compute the values of $a_i$ for $i = 1, \\dots, 5$. Prove by induction that for all $n \\ge 1$, $a_n + 1$ is a power of $2$.\n",
    "\n",
    "$$\n",
    "\\begin{align*}\n",
    "a_1 &= 1 \\\\\n",
    "a_2 &= 2a_1 + 1 = 2(1) + 1 = 3 \\\\\n",
    "a_3 &= 2a_2 + 1 = 2(3) + 1 = 7 \\\\\n",
    "a_4 &= 2a_3 + 1 = 2(7) + 1 = 15 \\\\\n",
    "a_5 &= 2a_4 + 1 = 2(15) + 1 = 31 \\\\\n",
    "\\vdots\n",
    "\\end{align*}\n",
    "$$\n",
    "\n",
    "$Claim$\n",
    "\n",
    "> Let $n$ be a positive integer.  \n",
    "> One greater than each term in $a_n$ is a power of $2$.  \n",
    "\n",
    "$$\n",
    "\\forall n \\in \\mathbb{P} \\,\\,\n",
    "[\\,\\,\n",
    "\\exists \\ell \\in \\mathbb{P} \\,\\,\n",
    "(\\,\\,\n",
    "2^\\ell = a_n + 1\n",
    "\\,\\,)\n",
    "\\,\\,]\n",
    "$$\n",
    "\n",
    "$Proof$\n",
    "\n",
    "> Base Case  \n",
    ">> $a_1 = 1 \\iff a_1 + 1 = 2$  \n",
    ">  \n",
    "> Induction Step  \n",
    ">> Induction Hypothesis: Let $a_k + 1 = 2^m$ for some positive integers $k$ and $m$.  \n",
    ">> $a_k + 1 = 2^m \\iff a_k = 2^m - 1$.  \n",
    ">> $a_{k + 1} + 1 = 2a_k + 2 = 2(2^m - 1) + 2 = 2^{m + 1} - 2 + 2 = 2^{m + 1}$.  \n",
    ">> $\\therefore a_{k + 1} + 1 = 2^{m + 1}$.  \n",
    ">  \n",
    "> Therefore $a_n + 1$ is a power of two for any positive integer $n$.  \n",
    "\n",
    "$\\blacksquare$"
   ]
  },
  {
   "cell_type": "markdown",
   "metadata": {},
   "source": [
    "---"
   ]
  },
  {
   "cell_type": "markdown",
   "metadata": {},
   "source": [
    "## 2"
   ]
  },
  {
   "cell_type": "markdown",
   "metadata": {},
   "source": [
    "$Claim$\n",
    "\n",
    "$$\n",
    "\\forall n \\in \\mathbb{P} \\,\\,\n",
    "\\left[\\,\\,\n",
    "1 + 2^2 + \\dots + n^2\n",
    "= \\frac{n(n + 1)(2n + 1)}{6}\n",
    "= \\frac{1}{3} n^3 + \\frac{1}{2} n^2 + \\frac{1}{6} n\n",
    "\\,\\,\\right]\n",
    "$$\n",
    "\n",
    "$Proof \\,\\, by \\,\\, induction$\n",
    "\n",
    "> Base Case  \n",
    ">> $1 = \\frac{(1) \\cdot ((1) + 1) \\cdot (2(1) + 1)}{6} = \\frac{1}{3} (1)^3 + \\frac{1}{2} (1)^2 + \\frac{1}{6} (1)$  \n",
    ">  \n",
    "> Induction Step  \n",
    ">> Induction Hypothesis: Let it be the case that $1 + 2^2 + \\dots + k^2 = \\frac{k(k + 1)(2k + 1)}{6} = \\frac{1}{3} k^3 + \\frac{1}{2} k^2 + \\frac{1}{6} k$ for some positive integer $k$.  \n",
    "\n",
    "$$\n",
    "\\begin{align*}\n",
    "& \\textcolor{green}{1 + 2^2 + \\dots + k^2 + (k + 1)^2} \\\\\n",
    "= & \\frac{k(k + 1)(2k + 1)}{6} + (k + 1)^2 \\\\\n",
    "= & \\frac{k(k + 1)(2k + 1) + 6(k + 1)^2}{6} \\\\\n",
    "= & \\frac{(k + 1)(k(2k + 1) + 6(k + 1))}{6} \\\\\n",
    "= & \\frac{(k + 1)(2k^2 + k + 6k + 6)}{6} \\\\\n",
    "= & \\frac{(k + 1)(2k^2 + 7k + 6)}{6} \\\\\n",
    "= & \\frac{(k + 1)(k + 2)(2k + 3)}{6} \\\\\n",
    "= & \\textcolor{green}{\\frac{(k + 1)((k + 1) + 1)(2(k + 1) + 1)}{6}} \\\\\n",
    "= & \\frac{(k^2 + 3k + 2)(2k + 3)}{6} \\\\\n",
    "= & \\frac{2k^3 + 3k^2 + 6k^2 + 9k + 4k + 6}{6} \\\\\n",
    "= & \\frac{2k^3}{6} + \\frac{3k^2}{6} + \\frac{6k^2}{6} + \\frac{9k}{6} + \\frac{4k}{6} + \\frac{6}{6} \\\\\n",
    "= & \\frac{2k^3}{6} + \\frac{6k^2}{6} + \\frac{6k}{6} + \\frac{2}{6} + \\frac{3k^2}{6} + \\frac{6k}{6} + \\frac{3}{6} + \\frac{k}{6} + \\frac{1}{6} \\\\\n",
    "= & \\frac{2}{6} \\left( k^3 + 3k^2 + 3k + 1 \\right) + \\frac{3}{6} \\left( k^2 + 2k + 1 \\right) + \\frac{1}{6} \\left( k + 1 \\right) \\\\\n",
    "= & \\textcolor{green}{\\frac{2}{6} (k + 1)^3 + \\frac{3}{6} (k + 1)^2 + \\frac{1}{6} (k + 1)} \\\\\n",
    "\\end{align*}\n",
    "$$\n",
    "\n",
    "> Therefore $1 + 4 + \\dots + n^2 = \\frac{n(n + 1)(2n + 1)}{6} = \\frac{1}{3} n^3 + \\frac{1}{2} n^2 + \\frac{1}{6} n$ for any positive integer $n$.  \n",
    "\n",
    "$\\blacksquare$"
   ]
  },
  {
   "cell_type": "markdown",
   "metadata": {},
   "source": [
    "---"
   ]
  },
  {
   "cell_type": "markdown",
   "metadata": {},
   "source": [
    "## 4"
   ]
  },
  {
   "cell_type": "markdown",
   "metadata": {},
   "source": [
    "<div class=\"full-width\">\n",
    "\n",
    "The sum of the first $n$ positive integers is given by a quadratic polynomial in $n$.\n",
    "\n",
    "$$\n",
    "\\forall n \\in \\mathbb{P} \\,\\,\n",
    "\\left[ \\,\\,\n",
    "1 + 2 + \\dots + n\n",
    "= \\frac{n(n + 1)}{2}\n",
    "= \\frac{1}{2} n^2 + \\frac{1}{2} n\n",
    "\\,\\, \\right]\n",
    "$$\n",
    "\n",
    "The sum of the squares of the first $n$ positive integers is given by a cubic polynomial in $n$.\n",
    "\n",
    "$$\n",
    "\\forall n \\in \\mathbb{P} \\,\\,\n",
    "\\left[\\,\\,\n",
    "1 + 2^2 + \\dots + n^2\n",
    "= \\frac{n(n + 1)(2n + 1)}{6}\n",
    "= \\frac{1}{3} n^3 + \\frac{1}{2} n^2 + \\frac{1}{6} n\n",
    "\\,\\,\\right]\n",
    "$$\n",
    "\n",
    "$$\n",
    "\\begin{align*}\n",
    "\\frac{n(n + 1)}{2} &= \\frac{1}{2} n^2 + \\frac{1}{2} n \\\\\n",
    "\\frac{n(n^2 - 1)}{3} + \\frac{n(n + 1)}{2} &= \\frac{1}{2} n^2 + \\frac{3}{6} n + \\left( \\frac{1}{3} n^3 - \\frac{2}{6} n \\right) \\\\\n",
    "\\end{align*}\n",
    "$$\n",
    "\n",
    "The sum of the cubes of the first $n$ positive integers is given by a quartic polynomial in $n$. Find this polynomial. [Hint: suppose that the polynomial is of the form $an^4 + bn^3 + cn^2 + dn + e$ for certain constants $a, \\dots, e$, then express the sum of the first $n + 1$ cubes in two different ways.]\n",
    "\n",
    "$$\n",
    "\\forall n \\in \\mathbb{P} \\,\\,\n",
    "\\left[\\,\\,\n",
    "1 + 2^3 + \\dots + n^3\n",
    "= \\,\\, ?\n",
    "\\,\\,\\right]\n",
    "$$\n",
    "\n",
    "$$\n",
    "\\begin{align*}\n",
    "n = 1 &&  1 &= 1^3\n",
    "&& = \\frac{1}{4} 1^4 + \\frac{1}{2} 1^3 + \\frac{1}{4} 1^2\n",
    "&& = \\left( \\frac{1}{2} 1^2 + \\frac{1}{2} 1 \\right)^2 \\\\\n",
    "&& & && = 1\n",
    "&& = \\textcolor{green}{(1)^2} \\\\\n",
    "n = 2 &&  9 &= 1^3 + 2^3\n",
    "&& = \\frac{1}{4} 2^4 + \\frac{1}{2} 2^3 + \\frac{1}{4} 2^2\n",
    "&& = \\left( \\frac{1}{2} 2^2 + \\frac{1}{2} 2 \\right)^2 \\\\\n",
    "&& & && = \\frac{1}{4} 16 + \\frac{1}{2} 8 + \\frac{1}{4} 4\n",
    "&& = 3^2 \\\\\n",
    "&& & && = 4 + 2 + 1 + 0\n",
    "&& = \\textcolor{green}{(1 + 2)^2} \\\\\n",
    "n = 3 && 36 &= 1^3 + 2^3 + 3^3\n",
    "&& = \\frac{1}{4} 3^4 + \\frac{1}{2} 3^3 + \\frac{1}{4} 3^2\n",
    "&& = \\left( \\frac{1}{2} 3^2 + \\frac{1}{2} 3 \\right)^2 \\\\\n",
    "&& & && = \\frac{1}{4} 81 + \\frac{1}{2} 27 + \\frac{1}{4} 9\n",
    "&& = 6^2 \\\\\n",
    "&& & && = 20 + 13 + 2 + 1\n",
    "&& = \\textcolor{green}{(1 + 2 + 3)^2} \\\\\n",
    "n = 4 && 100 &= 1^3 + 2^3 + 3^3 + 4^3\n",
    "&& = \\frac{1}{4} 4^4 + \\frac{1}{2} 4^3 + \\frac{1}{4} 4^2\n",
    "&& = \\left( \\frac{1}{2} 4^2 + \\frac{1}{2} 4 \\right)^2 \\\\\n",
    "&& & && = \\frac{1}{4} 256 + \\frac{1}{2} 64 + \\frac{1}{4} 16\n",
    "&& = 10^2 \\\\\n",
    "&& & && = 64 + 32 + 4 + 0\n",
    "&& = \\textcolor{green}{(1 + 2 + 3 + 4)^2} \\\\\n",
    "n = 5 && 225 &= 1^3 + 2^3 + 3^3 + 4^3 + 5^3\n",
    "&& = \\frac{1}{4} 5^4 + \\frac{1}{2} 5^3 + \\frac{1}{4} 5^2\n",
    "&& = \\left( \\frac{1}{2} 5^2 + \\frac{1}{2} 5 \\right)^2 \\\\\n",
    "&& & && = \\frac{1}{4} 625 + \\frac{1}{2} 125 + \\frac{1}{4} 25\n",
    "&& = 15^2 \\\\\n",
    "&& & && = 156 + 31 + 6 + 1\n",
    "&& = \\textcolor{green}{(1 + 2 + 3 + 4 + 5)^2} \\\\\n",
    "\\end{align*}\n",
    "$$\n",
    "\n",
    "$$\n",
    "\\forall n \\in \\mathbb{P} \\,\\,\n",
    "\\left[\\,\\,\n",
    "\\begin{align*}\n",
    "1 + 2^3 + \\dots + n^3\n",
    "&= (1 + 2 + \\dots + n)^2 \\\\\n",
    "&= \\frac{n^2(n + 1)^2}{4} \\\\\n",
    "&= \\left( \\frac{1}{2} n^2 + \\frac{1}{2} n \\right)^2 \\\\\n",
    "&= \\frac{1}{4} n^4 + \\frac{1}{2} n^3 + \\frac{1}{4} n^2 \\\\\n",
    "\\end{align*}\n",
    "\\,\\,\\right]\n",
    "$$\n",
    "\n",
    "</div>"
   ]
  },
  {
   "cell_type": "markdown",
   "metadata": {},
   "source": [
    "---"
   ]
  },
  {
   "cell_type": "markdown",
   "metadata": {},
   "source": [
    "## 5"
   ]
  },
  {
   "cell_type": "markdown",
   "metadata": {},
   "source": [
    "$Claim$\n",
    "\n",
    "$$\n",
    "\\forall n \\in \\mathbb{P} \\,\\,\n",
    "\\left[\\,\\,\n",
    "\\frac{1}{3} + \\frac{1}{15} + \\dots + \\frac{1}{(2n - 1)(2n + 1)} = \\frac{n}{2n + 1}\n",
    "\\,\\,\\right]\n",
    "$$\n",
    "\n",
    "$$\n",
    "\\begin{align*}\n",
    "n = 1 && \\frac{1}{3} &= \\frac{1}{3} = \\frac{(1)}{2(1) + 1} \\\\\n",
    "n = 2 && \\frac{1}{3} + \\frac{1}{15} &= \\frac{2}{5} = \\frac{(2)}{2(2) + 1} \\\\\n",
    "n = 3 && \\frac{1}{3} + \\frac{1}{15} + \\frac{1}{35} &= \\frac{3}{7} = \\frac{(3)}{2(3) + 1} \\\\\n",
    "n = 4 && \\frac{1}{3} + \\frac{1}{15} + \\frac{1}{35} + \\frac{1}{63} &= \\frac{4}{9} = \\frac{(4)}{2(4) + 1} \\\\\n",
    "n = 5 && \\frac{1}{3} + \\frac{1}{15} + \\frac{1}{35} + \\frac{1}{63} + \\frac{1}{99} &= \\frac{5}{11} = \\frac{(5)}{2(5) + 1} \\\\\n",
    "\\end{align*}\n",
    "$$"
   ]
  },
  {
   "cell_type": "markdown",
   "metadata": {},
   "source": [
    "$Proof \\,\\, by \\,\\, induction$\n",
    "\n",
    "> Base Case  \n",
    ">> $\\frac{1}{(2(1) - 1)(2(1) + 1)} = \\frac{1}{3} = \\frac{(1)}{(2(1) + 1)}$  \n",
    ">  \n",
    "> Induction Step  \n",
    ">> Induction Hypothesis: Let $\\frac{1}{3} + \\frac{1}{15} + \\dots + \\frac{1}{(2k - 1)(2k + 1)} = \\frac{k}{(2k + 1)}$ for some positive integer $k$.  \n",
    "\n",
    "$$\n",
    "\\begin{align*}\n",
    "& \\textcolor{green}{\\frac{1}{3} + \\frac{1}{15} + \\dots + \\frac{1}{(2k - 1)(2k + 1)} + \\frac{1}{(2(k + 1) - 1)(2(k + 1) + 1)}} \\\\\n",
    "= & \\frac{k}{(2k + 1)} + \\frac{1}{(2(k + 1) - 1)(2(k + 1) + 1)} \\\\\n",
    "= & \\frac{k}{(2k + 1)} + \\frac{1}{(2k + 1)(2k + 3)} \\\\\n",
    "= & \\frac{k(2k + 3) + 1}{(2k + 1)(2k + 3)} \\\\\n",
    "= & \\frac{2k^2 + 3k + 1}{(2k + 1)(2k + 3)} \\\\\n",
    "= & \\frac{\\cancel{(2k + 1)}(k + 1)}{\\cancel{(2k + 1)}(2k + 3)} \\\\\n",
    "= & \\frac{k + 1}{(2k + 3)} \\\\\n",
    "= & \\textcolor{green}{\\frac{(k + 1)}{(2(k + 1) + 1)}} \\\\\n",
    "\\end{align*}\n",
    "$$\n",
    "\n",
    "> Therefore $\\frac{1}{3} + \\frac{1}{15} + \\dots + \\frac{1}{(2n - 1)(2n + 1)} = \\frac{n}{2n + 1}$ for any positive integer $n$.  \n",
    "\n",
    "$\\blacksquare$"
   ]
  },
  {
   "cell_type": "markdown",
   "metadata": {},
   "source": [
    "---"
   ]
  },
  {
   "cell_type": "markdown",
   "metadata": {},
   "source": [
    "## 6"
   ]
  },
  {
   "cell_type": "markdown",
   "metadata": {},
   "source": [
    "Find a formula for the sum of the first $n$ positive integers.\n",
    "\n",
    "$$\n",
    "\\begin{align*}\n",
    "n = 1 && 1 \\\\\n",
    "      && = 2(0) + 1 \\\\\n",
    "      && = 1 \\\\\n",
    "n = 3 && 3 + 1 \\\\\n",
    "      && = 2(1) + 1 + 2(0) + 1 \\\\\n",
    "      && = 2(1) + 2(0) + 2 \\\\\n",
    "      && = 2(1 + 0) + 2 \\\\\n",
    "      && = 4 \\\\\n",
    "n = 5 && 5 + 3 + 1 \\\\\n",
    "      && = 2(2) + 1 + 2(1) + 1 + 2(0) + 1 \\\\\n",
    "      && = 2(2) + 2(1) + 2(0) + 3 \\\\\n",
    "      && = 2(2 + 1 + 0) + 3 \\\\\n",
    "      && = 9 \\\\\n",
    "n = 7 && 7 + 5 + 3 + 1 \\\\\n",
    "      && = 2(3) + 1 + 2(2) + 1 + 2(1) + 1 + 2(0) + 1 \\\\\n",
    "      && = 2(3) + 2(2) + 2(1) + 2(0) + 4 \\\\\n",
    "      && = 2(3 + 2 + 1 + 0) + 4 \\\\\n",
    "      && = 16 \\\\\n",
    "n = 9 && 9 + 7 + 5 + 3 + 1 \\\\\n",
    "      && = 2(4) + 1 + 2(3) + 1 + 2(2) + 1 + 2(1) + 1 + 2(0) + 1 \\\\\n",
    "      && = 2(4) + 2(3) + 2(2) + 2(1) + 2(0) + 5 \\\\\n",
    "      && = 2(4 + 3 + 2 + 1 + 0) + 5 \\\\\n",
    "      && = 25 \\\\\n",
    "\\end{align*}\n",
    "$$\n",
    "\n",
    "$$\n",
    "\\forall n \\in \\mathbb{P} \\,\\,\n",
    "[\\,\\,\n",
    "1 + 3 + \\dots + (2n - 1) = n^2\n",
    "\\,\\,]\n",
    "$$"
   ]
  },
  {
   "cell_type": "markdown",
   "metadata": {},
   "source": [
    "---"
   ]
  },
  {
   "cell_type": "markdown",
   "metadata": {},
   "source": [
    "## 7"
   ]
  },
  {
   "cell_type": "markdown",
   "metadata": {},
   "source": [
    "Prove that if $x$ is not equal to $1$ and $n$ is any positive integer then $1 + x + x^2 + \\dots + x^n = \\frac{1 - x^{n + 1}}{1 - x}$.\n",
    "\n",
    "$Claim$\n",
    "\n",
    "$$\n",
    "\\forall n \\in \\mathbb{P} \\,\\,\n",
    "\\forall x \\in \\mathbb{R} \\,\\,\n",
    "\\left[\\,\\,\n",
    "(x \\ne 1) \\implies\n",
    "\\left( 1 + x + x^2 + \\dots + x^n = \\frac{1 - x^{n + 1}}{1 - x} \\right)\n",
    "\\,\\,\\right]\n",
    "$$\n",
    "\n",
    "$Proof \\,\\, by \\,\\, induction$\n",
    "\n",
    "> Base Case  \n",
    ">> $1 + x = \\frac{1 - x^{(1) + 1}}{1 - x} = \\frac{1 - x^2}{1 - x} = \\frac{\\cancel{(1 - x)}(1 + x)}{\\cancel{1 - x}}$.  \n",
    ">  \n",
    "> Induction Step  \n",
    ">> Induction Hypothesis: Let it be the case that $1 + x + x^2 + \\dots + x^k = \\frac{1 - x^{k + 1}}{1 - x}$ for some positive integer $k$.  \n",
    "\n",
    "$$\n",
    "\\begin{align*}\n",
    "& \\textcolor{green}{1 + x + x^2 + \\dots + x^k + x^{k + 1}} \\\\\n",
    "= & \\frac{1 - x^{k + 1}}{1 - x} + x^{k + 1} \\\\\n",
    "= & \\frac{1 - x^{k + 1} + x^{k + 1}(1 - x)}{1 - x} \\\\\n",
    "= & \\frac{1 \\cancel{- x^{k + 1}} \\cancel{+ x^{k + 1}} - x^{k + 2}}{1 - x} \\\\\n",
    "= & \\frac{1 - x^{k + 2}}{1 - x} \\\\\n",
    "= & \\textcolor{green}{\\frac{1 - x^{(k + 1) + 1}}{1 - x}} \\\\\n",
    "\\end{align*}\n",
    "$$\n",
    "\n",
    "> Therefore $1 + x + x^2 + \\dots + x^n = \\frac{1 - x^{n + 1}}{1 - x}$ holds for any positive integer $n$.  \n",
    "\n",
    "$\\blacksquare$"
   ]
  },
  {
   "cell_type": "markdown",
   "metadata": {},
   "source": [
    "---"
   ]
  },
  {
   "cell_type": "markdown",
   "metadata": {},
   "source": [
    "## 8"
   ]
  },
  {
   "cell_type": "markdown",
   "metadata": {},
   "source": [
    "Show that for every positive integer $n$, $n^5 - n$ is divisible by $5$.  \n",
    "\n",
    "$Claim$\n",
    "\n",
    "$$\n",
    "\\forall n \\in \\mathbb{P} \\,\\,\n",
    "[\\,\\,\n",
    "5 \\mid n^5 - n\n",
    "\\,\\,]\n",
    "$$\n",
    "\n",
    "$Proof \\,\\, by \\,\\, induction$\n",
    "\n",
    "> Base Case  \n",
    ">> $5 \\mid (1)^5 - 1 = 0$  \n",
    ">  \n",
    "> Induction Step  \n",
    ">> Induction Hypothesis: Let it be the case that $5 \\mid k^5 - k$ for some positive integer $k$.  \n",
    "\n",
    "$$\n",
    "\\begin{align*}\n",
    "& (k + 1)^5 - (k + 1) \\\\\n",
    "= & (k^5 + 5k^4 + 10k^3 + 10k^2 + 5k + 1) - k - 1 \\\\\n",
    "= & k^5 + 5k^4 + 10k^3 + 10k^2 + 5k - k \\\\\n",
    "= & (k^5 - k) + (5k^4 + 10k^3 + 10k^2 + 5k) \\\\\n",
    "= & (k^5 - k) + 5(k^4 + 2k^3 + 2k^2 + k) \\\\\n",
    "\\end{align*}\n",
    "$$\n",
    "\n",
    ">> Since  \n",
    ">>> $5 \\mid k^5 - k$  \n",
    ">>> $5 \\mid 5(k^4 + 2k^3 + 2k^2 + k)$  \n",
    ">>  \n",
    ">> $5$ divides their sum.  \n",
    ">  \n",
    "> Therefore $5 \\mid n^5 - n$ for any positive integer $n$.  \n",
    "\n",
    "$\\blacksquare$"
   ]
  },
  {
   "cell_type": "markdown",
   "metadata": {},
   "source": [
    "Show that for every positive integer $n$, $3^{2n} - 1$ is divisible by $8$.\n",
    "\n",
    "$Claim$\n",
    "\n",
    "$$\n",
    "\\forall n \\in \\mathbb{P} \\,\\,\n",
    "[\\,\\,\n",
    "8 \\mid 3^{2n} - 1\n",
    "\\,\\,]\n",
    "$$\n",
    "\n",
    "$Proof \\,\\, by \\,\\, induction$\n",
    "\n",
    "> Base Case  \n",
    ">> $8 \\mid 3^{2(1)} - 1 = 8$  \n",
    ">  \n",
    "> Induction Step  \n",
    ">> Induction Hypothesis: Let it be the case that $8 \\mid 3^{2k} - 1$ for some positive integer $k$.    \n",
    "\n",
    "$$\n",
    "\\begin{align*}\n",
    "& 3^{2(k + 1)} - 1 \\\\\n",
    "= & 3^{2k + 2} - 1 \\\\\n",
    "= & 3^{2k}3^2 - 3^2 + 3^2 - 1 \\\\\n",
    "= & 3^2(3^{2k} - 1) + 3^2 - 1 \\\\\n",
    "= & 3^2(3^{2k} - 1) + 8 \\\\\n",
    "\\end{align*}\n",
    "$$\n",
    "\n",
    ">> Since  \n",
    ">>> $8 \\mid 3^2(3^{2k} - 1)$  \n",
    ">>> $8 \\mid 8$  \n",
    ">>  \n",
    ">> $8$ divides their sum.  \n",
    ">  \n",
    "> Therefore $8 \\mid 3^{2n} - 1$ for any positive integer $n$.  \n",
    "\n",
    "$\\blacksquare$"
   ]
  },
  {
   "cell_type": "markdown",
   "metadata": {},
   "source": [
    "---"
   ]
  },
  {
   "cell_type": "markdown",
   "metadata": {},
   "source": [
    "## 9"
   ]
  },
  {
   "cell_type": "markdown",
   "metadata": {},
   "source": [
    "Given that $x_0 = 2$, $x_1 = 5$, and $x_{n + 2} = 5x_{n + 1} - 3x_n$ for $n$ greater than or equal to $0$, prove that $2^nx_n = (5 + \\sqrt{13})^n + (5 - \\sqrt{13})^n$.\n",
    "\n",
    "> Let $x$ be a sequence defined as follows.  \n",
    "\n",
    "$$\n",
    "x_n :=\n",
    "\\begin{cases}\n",
    "x_0 &= 2 \\\\\n",
    "x_1 &= 5 \\\\\n",
    "x_{n + 2} &= 5x_{n + 1} - 3x_n && n \\in \\mathbb{N} \\\\\n",
    "\\end{cases}\n",
    "$$\n",
    "\n",
    "$Claim$\n",
    "\n",
    "$$\n",
    "\\forall n \\in \\mathbb{N} \\,\\,\n",
    "[\\,\\,\n",
    "2^nx_n = (5 + \\sqrt{13})^n + (5 - \\sqrt{13})^n\n",
    "\\,\\,]\n",
    "$$\n",
    "\n",
    "$Proof \\,\\, by \\,\\, induction$\n",
    "\n",
    "> Base Case  \n",
    "\n",
    "$$\n",
    "\\begin{align*}\n",
    "x_0 = 2 && 2^0 x_0 &= (5 + \\sqrt{13})^0 + (5 - \\sqrt{13})^0 \\\\\n",
    "&& 2 &= 1 + 1 \\\\\n",
    "x_1 = 5 && 2^1 x_1 &= (5 + \\sqrt{13})^1 + (5 - \\sqrt{13})^1 \\\\\n",
    "&& 10 &= 5 + 5 \\\\\n",
    "\\end{align*}\n",
    "$$\n",
    "\n",
    "> Induction Step  \n",
    ">> Induction Hypothesis: Let it be the case that $2^{k + 1}x_{k + 1} = (5 + \\sqrt{13})^{k + 1} + (5 - \\sqrt{13})^{k + 1}$ for some positive integer $k$.  \n",
    "\n",
    "$$\n",
    "\\begin{align*}\n",
    "& \\textcolor{green}{2^{k + 2}x_{k + 2}} \\\\\n",
    "= & 2 \\cdot 2^{k + 1}(5x_{k + 1} - 3x_k) \\\\\n",
    "= & 10 \\cdot 2^{k + 1} x_{k + 1} - 6 \\cdot 2^{k + 1} x_k \\\\\n",
    "= & 10 \\cdot 2^{k + 1} x_{k + 1} - 12 \\cdot 2^k x_k \\\\\n",
    "= & 10 ((5 + \\sqrt{13})^{k + 1} + (5 - \\sqrt{13})^{k + 1}) - 12 ((5 + \\sqrt{13})^k + (5 - \\sqrt{13})^k) \\\\\n",
    "= & 10 (5 + \\sqrt{13})^{k + 1} + 10 (5 - \\sqrt{13})^{k + 1} - 12 (5 + \\sqrt{13})^k - 12 (5 - \\sqrt{13})^k \\\\\n",
    "= & 10 (5 + \\sqrt{13})^k(5 + \\sqrt{13}) + 10 (5 - \\sqrt{13})^k(5 - \\sqrt{13}) - 12 (5 + \\sqrt{13})^k - 12 (5 - \\sqrt{13})^k \\\\\n",
    "= & [ 10 (5 + \\sqrt{13})^k(5 + \\sqrt{13}) - 12 (5 + \\sqrt{13})^k ] + [ 10 (5 - \\sqrt{13})^k(5 - \\sqrt{13}) - 12 (5 - \\sqrt{13})^k ] \\\\\n",
    "= & (5 + \\sqrt{13})^k [ 10 (5 + \\sqrt{13}) - 12 ] + (5 - \\sqrt{13})^k [ 10 (5 - \\sqrt{13}) - 12 ] \\\\\n",
    "= & (5 + \\sqrt{13})^k [ 38 + 10 \\sqrt{13} ] + (5 - \\sqrt{13})^k [ 38 - 10 \\sqrt{13} ] \\\\\n",
    "= & (5 + \\sqrt{13})^k [ 25 + 10 \\sqrt{13} + 13 ] + (5 - \\sqrt{13})^k [ 25 - 10 \\sqrt{13} + 13 ] \\\\\n",
    "= & (5 + \\sqrt{13})^k (5 + \\sqrt{13})^2 + (5 - \\sqrt{13})^k (5 - \\sqrt{13})^2 \\\\\n",
    "= & \\textcolor{green}{(5 + \\sqrt{13})^{k + 2} + (5 - \\sqrt{13})^{k + 2}} \\\\\n",
    "\\end{align*}\n",
    "$$\n",
    "\n",
    "> Therefore $2^nx_n = (5 + \\sqrt{13})^n + (5 - \\sqrt{13})^n$ for any positive integer $n$.  \n",
    "\n",
    "$\\blacksquare$"
   ]
  },
  {
   "cell_type": "markdown",
   "metadata": {},
   "source": [
    "via first-order recurrence relation and geometric sequence\n",
    "\n",
    "$\n",
    "x_{n + 2} - ax_{n + 1} = b(x_{n + 1} - ax_n) \\\\\n",
    "x_{n + 2} = bx_{n + 1} - abx_n + ax_{n + 1} \\\\\n",
    "x_{n + 2} = ax_{n + 1} + bx_{n + 1} - abx_n \\\\\n",
    "x_{n + 2} = (a + b)x_{n + 1} - (ab)x_n \\\\\n",
    "a + b = 5 = B \\\\\n",
    "ab = 3 = C \\\\\n",
    "x_1 + x_2 = -\\frac{b}{a} = 5 \\\\\n",
    "x_1 \\cdot x_2 = \\frac{c}{a} = 3 \\\\\n",
    "x^2 - (a + b)x + (ab) = 0 \\\\\n",
    "\\frac{-5 \\pm \\sqrt{13}}{2} \\\\\n",
    "$\n",
    "\n",
    "* https://math.stackexchange.com/questions/1068367/finding-a-closed-form-formula-for-a-sequence-that-is-defined-recursively\n",
    "* https://mathspace.co/textbooks/syllabuses/Syllabus-1023/topics/Topic-20210/subtopics/Subtopic-266106/"
   ]
  },
  {
   "cell_type": "markdown",
   "metadata": {},
   "source": [
    "---"
   ]
  },
  {
   "cell_type": "markdown",
   "metadata": {},
   "source": [
    "## 10"
   ]
  },
  {
   "cell_type": "markdown",
   "metadata": {},
   "source": [
    "Show that the principle of induction implies the well-ordering principle. [Hint: let $X$ be a set of positive integers which contains no least element; we must show that $X$ is empty. Define $L$ to be the set of all positive integers $n$ such that $n$ is not greater than or equal to any element in $X$. Show by induction that $L$ is the set of all positive integers, and hence that $X$ is indeed empty.]"
   ]
  },
  {
   "cell_type": "markdown",
   "metadata": {},
   "source": [
    "---"
   ]
  },
  {
   "cell_type": "markdown",
   "metadata": {},
   "source": [
    "## 11"
   ]
  },
  {
   "cell_type": "markdown",
   "metadata": {},
   "source": [
    "Consider the assertion: $(*)$ 'for every prime number $n$, $2^n - 1$ is a prime number' (a positive integer is prime if it cannot be written as a product of two strictly smaller positive integers). Taking $n$ to be $2, 3, 5$ in turn, the corresponding values of $2^n - 1$ are $3, 7, 31$ and these certainly are prime. Is $(*)$ true?\n",
    "\n",
    "$Claim$\n",
    "\n",
    "$$\n",
    "\\lnot \\forall n \\in \\mathbb{P} \\,\\,\n",
    "[\\,\\,\n",
    "Prime(n) \\implies Prime(2^n - 1)\n",
    "\\,\\,]\n",
    "$$\n",
    "\n",
    "$Proof \\,\\, by \\,\\, counterexample$\n",
    "\n",
    "$$\n",
    "\\begin{align*}\n",
    "n =  2 &&    3 &= 2^2 - 1 \\\\\n",
    "n =  3 &&    7 &= 2^3 - 1 \\\\\n",
    "n =  5 &&   31 &= 2^5 - 1 \\\\\n",
    "n =  7 &&  127 &= 2^7 - 1 \\\\\n",
    "n = 11 && 23 \\times 89 = 2047 &= 2^{11} - 1 \\\\\n",
    "\\end{align*}\n",
    "$$\n",
    "\n",
    "$\\blacksquare$"
   ]
  },
  {
   "cell_type": "markdown",
   "metadata": {},
   "source": [
    "---"
   ]
  },
  {
   "cell_type": "markdown",
   "metadata": {},
   "source": [
    "* [ [w](https://en.wikipedia.org/wiki/Geometric_progression) ] Geometric Progression\n",
    "* [ [w](https://en.wikipedia.org/wiki/Vieta%27s_formulas) ] Vieta's Formula"
   ]
  },
  {
   "cell_type": "markdown",
   "metadata": {},
   "source": [
    "---"
   ]
  }
 ],
 "metadata": {
  "kernelspec": {
   "display_name": "ml",
   "language": "python",
   "name": "python3"
  },
  "language_info": {
   "codemirror_mode": {
    "name": "ipython",
    "version": 3
   },
   "file_extension": ".py",
   "mimetype": "text/x-python",
   "name": "python",
   "nbconvert_exporter": "python",
   "pygments_lexer": "ipython3",
   "version": "3.11.5"
  },
  "orig_nbformat": 4
 },
 "nbformat": 4,
 "nbformat_minor": 2
}
