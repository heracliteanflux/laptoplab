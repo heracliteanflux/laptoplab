{
 "cells": [
  {
   "cell_type": "markdown",
   "metadata": {},
   "source": [
    "# 1.4\n",
    "Exercises from Humphreys, J. F. & M. Y. Prest. (2008). _Numbers, Groups, and Codes_. 2nd Ed. Cambridge University Press."
   ]
  },
  {
   "cell_type": "markdown",
   "metadata": {},
   "source": [
    "---"
   ]
  },
  {
   "cell_type": "markdown",
   "metadata": {},
   "source": [
    "## Table of Contents\n",
    "```{contents}\n",
    "```"
   ]
  },
  {
   "cell_type": "markdown",
   "metadata": {},
   "source": [
    "---"
   ]
  },
  {
   "cell_type": "markdown",
   "metadata": {},
   "source": [
    "## Programming Environment"
   ]
  },
  {
   "cell_type": "code",
   "execution_count": 175,
   "metadata": {},
   "outputs": [],
   "source": [
    "import numpy as np"
   ]
  },
  {
   "cell_type": "markdown",
   "metadata": {},
   "source": [
    "KaTeX\n",
    "$\\renewcommand{\\c}[1]{\\textcolor{#1}}$"
   ]
  },
  {
   "cell_type": "markdown",
   "metadata": {},
   "source": [
    "---"
   ]
  },
  {
   "cell_type": "markdown",
   "metadata": {},
   "source": [
    "## 1"
   ]
  },
  {
   "cell_type": "markdown",
   "metadata": {},
   "source": [
    "Determine which of the following are true (a calculator will be useful for the larger numbers)."
   ]
  },
  {
   "cell_type": "markdown",
   "metadata": {},
   "source": [
    "<div class=\"full-width\">\n",
    "\n",
    "$\n",
    "\\begin{aligned}\n",
    "    8 & \\not\\equiv      48 \\mod    14 &&\\iff    14 \\nmid      48 -     8 =      40 &&\\iff 2   \\times 7   \\nmid 2^3 \\times 5 \\\\\n",
    "   -8 &     \\equiv      48 \\mod    14 &&\\iff    14  \\mid      48 +     8 =      56 &&\\iff 2   \\times 7    \\mid 2^3 \\times 7 \\\\\n",
    "   10 & \\not\\equiv       0 \\mod   100 &&\\iff   100 \\nmid      10 -     0 =      10 &&\\iff 2^2 \\times 5^2 \\nmid 2   \\times 5 \\\\\n",
    " 7754 &     \\equiv  357482 \\mod  3643 &&\\iff  3643  \\mid  357482 -  7754 =  349728 &&\\iff 3643 \\mid 2^5 \\times 3 \\times 3643 \\\\\n",
    "16023 &     \\equiv 1325227 \\mod 25177 &&\\iff 25177  \\mid 1325227 - 16023 = 1309204 &&\\iff 17 \\times 1481 \\mid 2^2 \\times 13 \\times 17 \\times 1481 \\\\\n",
    " 4015 & \\not\\equiv   33303 \\mod  1295 &&\\iff  1295 \\nmid   33303 -  4015 =   29288 &&\\iff 5 \\times 7 \\times 37 \\nmid 2^3 \\times 7 \\times 523\\\\\n",
    "\\end{aligned}\n",
    "$\n",
    "\n",
    "</div>"
   ]
  },
  {
   "cell_type": "markdown",
   "metadata": {},
   "source": [
    "---"
   ]
  },
  {
   "cell_type": "markdown",
   "metadata": {},
   "source": [
    "## 3"
   ]
  },
  {
   "cell_type": "markdown",
   "metadata": {},
   "source": [
    "Find the following inverses, if they exist."
   ]
  },
  {
   "cell_type": "markdown",
   "metadata": {},
   "source": [
    "$\n",
    "\\begin{aligned}\n",
    " 7r &\\equiv 1 \\mod  11 &&\\iff  7r - 1 =  11s &&\\iff r = \\frac{ 11(s =  5) + 1}{ 7} =   8 \\\\\n",
    "10r &\\equiv 1 \\mod  26 &&gcd(10, 26) = 2\\\\\n",
    "11r &\\equiv 1 \\mod  31 &&\\iff 11r - 1 =  31s &&\\iff r = \\frac{ 31(s =  6) + 1}{11} =  17 \\\\\n",
    "23r &\\equiv 1 \\mod  31 &&\\iff 23r - 1 =  31s &&\\iff r = \\frac{ 31(s = 20) + 1}{23} =  27 \\\\\n",
    "91r &\\equiv 1 \\mod 237 &&\\iff 91r - 1 = 237s &&\\iff r = \\frac{237(s = 43) + 1}{91} = 112 \\\\\n",
    "\\end{aligned}\n",
    "$"
   ]
  },
  {
   "cell_type": "code",
   "execution_count": 180,
   "metadata": {},
   "outputs": [
    {
     "name": "stdout",
     "output_type": "stream",
     "text": [
      "1\n",
      "2\n",
      "1\n",
      "1\n",
      "1\n"
     ]
    }
   ],
   "source": [
    "print(np.gcd( 7,  11))\n",
    "print(np.gcd(10,  26))\n",
    "print(np.gcd(11,  31))\n",
    "print(np.gcd(23,  31))\n",
    "print(np.gcd(91, 237))"
   ]
  },
  {
   "cell_type": "markdown",
   "metadata": {},
   "source": [
    "---"
   ]
  },
  {
   "cell_type": "markdown",
   "metadata": {},
   "source": [
    "## 6 - The only elements of $\\mathbb{Z}_p^*$ that are self-inverse are $1$ and $p - 1$"
   ]
  },
  {
   "cell_type": "markdown",
   "metadata": {},
   "source": [
    "Let $p$ be a prime number. Show that the equation $x^2 = [1]_p$ has just two solutions in $\\mathbb{Z}_p$."
   ]
  },
  {
   "cell_type": "markdown",
   "metadata": {},
   "source": [
    "$[x^2]_p = [1]_p \\iff x^2 \\equiv 1 \\mod p \\iff p \\mid x^2 - 1 = (x + 1)(x - 1)$\n",
    "\n",
    "$\\text{Euclid's Lemma:} \\,\\, p \\mid (x + 1)(x - 1) \\implies (p \\mid x + 1) \\lor (p \\mid x - 1)$\n",
    "\n",
    "$\n",
    "\\begin{aligned}\n",
    "p \\mid x + 1 &\\iff x \\equiv -1 \\mod p &&\\iff [x]_p = [-1]_p = [p - 1]_p \\\\\n",
    "p \\mid x - 1 &\\iff x \\equiv  1 \\mod p &&\\iff [x]_p = [ 1]_p \\\\\n",
    "\\end{aligned}\n",
    "$"
   ]
  },
  {
   "cell_type": "markdown",
   "metadata": {},
   "source": [
    "---"
   ]
  },
  {
   "cell_type": "markdown",
   "metadata": {},
   "source": [
    "## 7 - Wilson's Theorem"
   ]
  },
  {
   "cell_type": "markdown",
   "metadata": {},
   "source": [
    "Let $p$ be a prime number. Show that $(p - 1)! \\equiv -1 \\mod p$.\n",
    "\n"
   ]
  },
  {
   "cell_type": "markdown",
   "metadata": {},
   "source": [
    "Since $p$ is prime, every positive integer less than $p$ is relatively prime to $p$. Therefore, every element of $\\mathbb{Z}_p^*$ has an inverse in $\\mathbb{Z}_p^*$.\n",
    "\n",
    "$\\mathbb{Z}_p^* = \\{1, 2, \\dots, p - 2, p - 1\\}$\n",
    "\n",
    "$(p - 1)! = 1 \\times 2 \\times \\dots \\times p - 2 \\times p - 1$\n",
    "\n",
    "$[y]_p := [x]_p^{-1}$\n",
    "\n",
    "$[x]_p [y]_p = [1]_p \\iff [xy]_p = [1]_p \\iff xy \\equiv 1 \\mod p$\n",
    "\n",
    "There are only two elements that are self-inverse; namely, $[1]_p$ and $[-1]_p = [p - 1]_p$\n",
    "\n",
    "$|\\mathbb{Z}_p^*| = p - 1$\n",
    "\n",
    "$|\\mathbb{Z}_p^* - \\{ 1, p - 1 \\}| = p - 3$\n",
    "\n",
    "The remaining elements of $\\mathbb{Z}_p^*$ can be separated into $\\frac{p - 3}{2}$ pairs of the form $([x]_p, [x]_p^{-1})$ where $[x]_p [x]_p^{-1} = [1]_p$.\n",
    "\n",
    "$[(p - 1)!]_p =  [1 \\times 2 \\times \\dots \\times p - 2 \\times p - 1]_p = [1 \\times \\underbrace{1 \\times \\dots \\times 1}_{\\frac{p - 3}{2}} \\times p - 1]_p = [p - 1]_p = [-1]_p$"
   ]
  },
  {
   "cell_type": "markdown",
   "metadata": {},
   "source": [
    "---"
   ]
  },
  {
   "cell_type": "markdown",
   "metadata": {},
   "source": [
    "## 8"
   ]
  },
  {
   "cell_type": "markdown",
   "metadata": {},
   "source": [
    "Choose a value of $n$ and count the number of elements in $\\mathbb{Z}_n^*$. Try this with various values of $n$. Can you discover any rules governing the relation between $n$ and the number of elements in $\\mathbb{Z}_n^*$?"
   ]
  },
  {
   "cell_type": "markdown",
   "metadata": {},
   "source": [
    "---"
   ]
  },
  {
   "cell_type": "markdown",
   "metadata": {},
   "source": [
    "## 9 - Casting out nines"
   ]
  },
  {
   "cell_type": "markdown",
   "metadata": {},
   "source": [
    "The observation that $10 \\equiv 1 \\mod 9$ is the basis for the procedure of 'casting out nines'. The method is as follows. Given an integer $X$ written in base $10$ (as is usual), compute the sum of the digits of $X$: call the result the digit sum of $X$. If the digit sum is greater than $9$, we form the digit sum again. Continue in this way to obtain the iterated digit sum which is at most $9$. (Thus $5,734$ has digit sum $19$ which has digit sum $10$ which has digit sum $1$, so the iterated digit sum of $5,734$ is $1$.)\n",
    "\n",
    "$\n",
    "\\begin{alignedat}{5}\n",
    "\\boxed{19} &= \\c{cyan}{5} + 7 + 3 + \\c{cyan}{4} &\\quad 10 &= 7 + 3 &\\quad 10 &= \\boxed{19} - \\c{cyan}{9} \\\\\n",
    "10 &= 1 + \\c{cyan}{9} \\\\\n",
    " 1 &= 1 + 0                             &       1 &= 1 + 0         &       1 &= \\boxed{19} - \\c{cyan}{9} \\times 2 \\\\\n",
    "\\end{alignedat}\n",
    "$"
   ]
  },
  {
   "cell_type": "code",
   "execution_count": 210,
   "metadata": {},
   "outputs": [
    {
     "data": {
      "text/plain": [
       "1"
      ]
     },
     "execution_count": 210,
     "metadata": {},
     "output_type": "execute_result"
    }
   ],
   "source": [
    "5_734 % 9"
   ]
  },
  {
   "cell_type": "markdown",
   "metadata": {},
   "source": [
    "Now suppose that we have a calculation which we want to check by hand: say, for example, someone claims that $873,985 \\times 79,041 = 69,069,967,565$. Compute the iterated digit sums of $873,985$ and $79,041$ (these are $4$ and $3$, respectively), multiply these together (to get $12$), and form the iterated digit sum of the product (which is $3$). Then the result should equal the iterated digit sum of $69,069,967,565$ (which is $5$). Since it does not, the 'equality' is incorrect. If the results had been equal then all we could say would be that no error was detected.\n",
    "\n",
    "$\n",
    "   \\begin{alignedat}{5}\n",
    "   \\boxed{40} &= \\c{cyan}{8} + \\c{cyan}{7} + \\c{cyan}{3} + \\c{cyan}{9} + 8 + 5           &\\quad         13 &= 8 + 5         &\\quad 13 &= \\boxed{40} - \\c{cyan}{9} \\times 3 \\\\\n",
    "   \\c{red}{4} &= 4 + 0                                                                   &      \\c{red}{4} &= 1 + 3         &\\quad  4 &= \\boxed{40} - \\c{cyan}{9} \\times 4 \\\\\n",
    "   \\boxed{21} &= 7 + \\c{cyan}{9} + 0 + 4 + 1                                             &              12 &= 7 + 0 + 4 + 1 &\\quad 12 &= \\boxed{21} - \\c{cyan}{9} \\\\\n",
    "   \\c{red}{3} &= 2 + 1                                                                   &      \\c{red}{3} &= 1 + 2         &\\quad  3 &= \\boxed{21} - \\c{cyan}{9} \\times 2 \\\\\n",
    "           12 &= \\c{red}{4} \\times \\c{red}{3} \\\\\n",
    "\\c{orange}{3} &= 1 + 2 \\\\\n",
    "   \\boxed{68} &= \\c{cyan}{6} + \\c{cyan}{9} + 0 + \\c{cyan}{6} + \\c{cyan}{9} + \\c{cyan}{9} + \\c{cyan}{6} + 7 + 5 + 6 + 5\n",
    "                                                                                         &              23 &= 7 + 5 + 6 + 5 &\\quad 23 &= \\boxed{68} - \\c{cyan}{9} \\times 5 \\\\\n",
    "           14 &= 6 + 8                                                                   &                 &                &\\quad 14 &= \\boxed{68} - \\c{cyan}{9} \\times 6 \\\\\n",
    "\\c{yellow}{5} &= 1 + 4                                                                   &   \\c{yellow}{5} &= 2 + 3         &\\quad  5 &= \\boxed{68} - \\c{cyan}{9} \\times 7\\\\\n",
    "\\end{alignedat}\n",
    "$\n",
    "\n",
    "$\\c{orange}{3} \\ne \\c{yellow}{5} \\therefore 873,985 \\times 79,041 \\ne 69,069,967,565$"
   ]
  },
  {
   "cell_type": "code",
   "execution_count": 234,
   "metadata": {},
   "outputs": [
    {
     "name": "stdout",
     "output_type": "stream",
     "text": [
      "4\n",
      "3\n",
      "3\n",
      "5\n",
      "69080648385\n",
      "69069967565\n"
     ]
    }
   ],
   "source": [
    "a =        873_985\n",
    "b =         79_041\n",
    "c = 69_069_967_565\n",
    "\n",
    "print(a     % 9)\n",
    "print(  b   % 9)\n",
    "print(a*b   % 9)\n",
    "print(    c % 9)\n",
    "print(a*b)\n",
    "print(c)"
   ]
  },
  {
   "cell_type": "markdown",
   "metadata": {},
   "source": [
    "(i) Using the method of casting out nines what can you say about the following computations?\n",
    "\n",
    "$\n",
    "\\begin{aligned}\n",
    "56,563 \\times 9,961            &\\overset{?}{=}   563,454,043 \\\\\n",
    " 1,234 \\times 5,678 \\times 901 &\\overset{?}{=} 6,213,993,452 \\\\\n",
    "   333 \\times   666 \\times 999 &\\overset{?}{=}   221,556,222 \\\\\n",
    "\\end{aligned}\n",
    "$\n",
    "\n",
    "$\n",
    "\\begin{aligned}\n",
    "56,563 \\times 9,961            &\\ne   563,454,043 \\\\\n",
    " 1,234 \\times 5,678 \\times 901 &\\ne 6,213,993,452 \\\\\n",
    "   333 \\times   666 \\times 999 &=     221,556,222 \\\\\n",
    "\\end{aligned}\n",
    "$"
   ]
  },
  {
   "cell_type": "markdown",
   "metadata": {},
   "source": [
    "$\n",
    "\\begin{alignedat}{3}\n",
    "           25 &= 5 + 6 + 5 + 6 + 3 \\\\\n",
    "   \\c{red}{7} &= 2 + 5 \\\\\n",
    "           25 &= \\c{cyan}{9} + \\c{cyan}{9} + 6 + 1 \\\\\n",
    "   \\c{red}{7} &= 2 + 5                                &\\quad \\c{red}{7} &= 6 + 1 \\\\\n",
    "           49 &= \\c{red}{7} \\times \\c{red}{7} \\\\\n",
    "           13 &= 4 + \\c{cyan}{9} \\\\\n",
    "\\c{orange}{4} &= 1 + 3                                &   \\c{orange}{4} &= 4 \\\\\n",
    "           34 &= \\c{cyan}{5} + \\c{cyan}{6} + \\c{cyan}{3} + \\c{cyan}{4} + \\c{cyan}{5} + \\c{cyan}{4} + 0 + 4 + 3 \\\\\n",
    "\\c{yellow}{7} &= 3 + 4                                &   \\c{yellow}{7} &= 4 + 3 \\\\\n",
    "\\end{alignedat}\n",
    "$\n",
    "\n",
    "$\\c{orange}{4} \\ne \\c{yellow}{7} \\therefore 56,563 \\times 9,961 \\ne 563,454,043$"
   ]
  },
  {
   "cell_type": "code",
   "execution_count": 232,
   "metadata": {},
   "outputs": [
    {
     "name": "stdout",
     "output_type": "stream",
     "text": [
      "7\n",
      "7\n",
      "4\n",
      "7\n",
      "563424043\n",
      "563454043\n"
     ]
    }
   ],
   "source": [
    "a =      56_563\n",
    "b =       9_961\n",
    "c = 563_454_043\n",
    "\n",
    "print(a     % 9)\n",
    "print(  b   % 9)\n",
    "print(a*b   % 9)\n",
    "print(    c % 9)\n",
    "print(a*b)\n",
    "print(c)"
   ]
  },
  {
   "cell_type": "markdown",
   "metadata": {},
   "source": [
    "$\n",
    "\\begin{alignedat}{3}\n",
    "           10 &= 1 + \\c{cyan}{2} + \\c{cyan}{3} + \\c{cyan}{4} \\\\\n",
    "   \\c{red}{1} &= 1 + 0 &\\quad \\c{red}{1} &= 1 \\\\\n",
    "           26 &= \\c{cyan}{5} + \\c{cyan}{6} + \\c{cyan}{7} + 8 \\\\\n",
    "   \\c{red}{8} &= 2 + 6 &      \\c{red}{8} &= 8 \\\\\n",
    "           10 &= \\c{cyan}{9} + 0 + 1 \\\\\n",
    "   \\c{red}{1} &= 1 + 0 &      \\c{red}{1} &= 1 \\\\\n",
    "\\c{orange}{8} &= \\c{red}{1} \\times \\c{red}{8} \\times \\c{red}{1} \\\\\n",
    "           44 &= \\c{cyan}{6} + \\c{cyan}{2} + \\c{cyan}{1} + \\c{cyan}{3} + \\c{cyan}{9} + \\c{cyan}{9} + 3 + \\c{cyan}{4} + 5 + \\c{cyan}{2} \\\\\n",
    "\\c{yellow}{8} &= 4 + 4 &   \\c{yellow}{8} &= 3 + 5 \\\\\n",
    "\\end{alignedat}\n",
    "$\n",
    "\n",
    "$\\c{orange}{8} = \\c{yellow}{8} \\therefore \\,\\, \\text{no error detected}$"
   ]
  },
  {
   "cell_type": "code",
   "execution_count": 233,
   "metadata": {},
   "outputs": [
    {
     "name": "stdout",
     "output_type": "stream",
     "text": [
      "1\n",
      "8\n",
      "1\n",
      "8\n",
      "8\n",
      "6312993452\n",
      "6213993452\n"
     ]
    }
   ],
   "source": [
    "a =         1_234\n",
    "b =         5_678\n",
    "d =           901\n",
    "c = 6_213_993_452\n",
    "\n",
    "print(a       % 9)\n",
    "print(  b     % 9)\n",
    "print(    d   % 9)\n",
    "print(a*b*d   % 9)\n",
    "print(      c % 9)\n",
    "print(a*b*d)\n",
    "print(c)"
   ]
  },
  {
   "cell_type": "markdown",
   "metadata": {},
   "source": [
    "$\n",
    "\\begin{alignedat}{3}\n",
    "   \\c{red}{9} &= \\c{cyan}{3} + \\c{cyan}{3} + \\c{cyan}{3} \\\\\n",
    "           18 &= \\c{cyan}{6} + \\c{cyan}{6} + \\c{cyan}{6} \\\\\n",
    "   \\c{red}{9} &= 1 + 8 \\\\\n",
    "           27 &= \\c{cyan}{9} + \\c{cyan}{9} + \\c{cyan}{9} \\\\\n",
    "   \\c{red}{9} &= 2 + 7 \\\\\n",
    "          729 &= \\c{red}{9} \\times \\c{red}{9} \\times \\c{red}{9} \\\\\n",
    "           18 &= \\c{cyan}{7} + \\c{cyan}{2} + \\c{cyan}{9} \\\\\n",
    "\\c{orange}{9} &= 1 + 8 \\\\\n",
    "           27 &= \\c{cyan}{2} + \\c{cyan}{2} + \\c{cyan}{1} + \\c{cyan}{5} + \\c{cyan}{5} + \\c{cyan}{6} + \\c{cyan}{2} + \\c{cyan}{2} + \\c{cyan}{2} \\\\\n",
    "\\c{yellow}{9} &= 2 + 7 \\\\\n",
    "\\end{alignedat}\n",
    "$\n",
    "\n",
    "$\\c{orange}{9} = \\c{yellow}{9} \\therefore \\,\\, \\text{no error detected}$"
   ]
  },
  {
   "cell_type": "code",
   "execution_count": 235,
   "metadata": {},
   "outputs": [
    {
     "name": "stdout",
     "output_type": "stream",
     "text": [
      "0\n",
      "0\n",
      "0\n",
      "0\n",
      "0\n",
      "221556222\n",
      "221556222\n"
     ]
    }
   ],
   "source": [
    "a =         333\n",
    "b =         666\n",
    "d =         999\n",
    "c = 221_556_222\n",
    "\n",
    "print(a       % 9)\n",
    "print(  b     % 9)\n",
    "print(    d   % 9)\n",
    "print(a*b*d   % 9)\n",
    "print(      c % 9)\n",
    "print(a*b*d)\n",
    "print(c)"
   ]
  },
  {
   "cell_type": "markdown",
   "metadata": {},
   "source": [
    "(ii) The following equation is false but you are told that only the underlined digit is in error. What is the correct value for that digit?\n",
    "\n",
    "$674,532 \\times 9,764 = 6,586,1 \\underline 40,448$\n",
    "\n",
    "$\n",
    "\\begin{alignedat}{3}\n",
    "           27 &= \\c{cyan}{6} + \\c{cyan}{7} + \\c{cyan}{4} + \\c{cyan}{5} + \\c{cyan}{3} + \\c{cyan}{2} \\\\\n",
    "   \\c{red}{9} &= 2 + 7 \\\\\n",
    "           26 &= \\c{cyan}{9} + 7 + 6 + 4 &\\quad 17    &= 7 + 6 + 4 \\\\\n",
    "   \\c{red}{8} &= 2 + 6                   & \\c{red}{8} &= 1 + 7 \\\\\n",
    "           72 &= \\c{red}{9} \\times \\c{red}{8} \\\\\n",
    "\\c{orange}{9} &= \\c{cyan}{7} + \\c{cyan}{2} \\\\\n",
    "           46 &= 6 + 5 + \\c{cyan}{8} + \\c{cyan}{6} + \\c{cyan}{1} + \\c{cyan}{4} + 0 + \\c{cyan}{4} + \\c{cyan}{4} + 8\n",
    "                                         &         19 &= 6 + 5 + 8 \\\\\n",
    "           10 &= 4 + 6                   &         10 &= 1 + 9 \\\\\n",
    "\\c{yellow}{1} &= 1 + 0                   & \\c{yellow}{1} &= 1 + 0 \\\\\n",
    "\\end{alignedat}\n",
    "$\n",
    "\n",
    "$\\c{orange}{9} \\ne \\c{yellow}{1} \\therefore 674,532 \\times 9,764 \\ne 6,586,1 \\underline 40,448$\n",
    "\n",
    "$\n",
    "\\begin{alignedat}{3}\n",
    "           45 &= \\c{cyan}{6} + \\c{cyan}{5} + \\c{cyan}{8} + \\c{cyan}{6} + \\c{cyan}{1} + \\c{cyan}{(4 - 1)} + 0 + \\c{cyan}{4} + \\c{cyan}{4} + \\c{cyan}{8} \\\\\n",
    "\\c{yellow}{9} &= 4 + 5 \\\\\n",
    "\\end{alignedat}\n",
    "$\n",
    "\n",
    "$\\c{orange}{9} = \\c{yellow}{9} \\therefore \\,\\, \\text{no error detected}$"
   ]
  },
  {
   "cell_type": "code",
   "execution_count": 236,
   "metadata": {},
   "outputs": [
    {
     "name": "stdout",
     "output_type": "stream",
     "text": [
      "0\n",
      "8\n",
      "0\n",
      "1\n",
      "6586130448\n",
      "6586140448\n"
     ]
    }
   ],
   "source": [
    "a =       674_532\n",
    "b =         9_764\n",
    "c = 6_586_140_448\n",
    "\n",
    "print(a     % 9)\n",
    "print(  b   % 9)\n",
    "print(a*b   % 9)\n",
    "print(    c % 9)\n",
    "print(a*b)\n",
    "print(c)"
   ]
  },
  {
   "cell_type": "markdown",
   "metadata": {},
   "source": [
    "(iii) Justify the method of casting out nines."
   ]
  },
  {
   "cell_type": "markdown",
   "metadata": {},
   "source": [
    "---"
   ]
  }
 ],
 "metadata": {
  "kernelspec": {
   "display_name": "ml",
   "language": "python",
   "name": "python3"
  },
  "language_info": {
   "codemirror_mode": {
    "name": "ipython",
    "version": 3
   },
   "file_extension": ".py",
   "mimetype": "text/x-python",
   "name": "python",
   "nbconvert_exporter": "python",
   "pygments_lexer": "ipython3",
   "version": "3.11.5"
  }
 },
 "nbformat": 4,
 "nbformat_minor": 2
}
