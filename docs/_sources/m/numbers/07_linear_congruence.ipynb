{
 "cells": [
  {
   "cell_type": "markdown",
   "metadata": {},
   "source": [
    "# Linear Congruences"
   ]
  },
  {
   "cell_type": "markdown",
   "metadata": {},
   "source": [
    "---"
   ]
  },
  {
   "cell_type": "markdown",
   "metadata": {},
   "source": [
    "KaTeX\n",
    "$\\renewcommand{\\c}[1]{\\textcolor{#1}}$"
   ]
  },
  {
   "cell_type": "markdown",
   "metadata": {},
   "source": [
    "---"
   ]
  },
  {
   "cell_type": "markdown",
   "metadata": {},
   "source": [
    "## Linear Congruence"
   ]
  },
  {
   "cell_type": "markdown",
   "metadata": {},
   "source": [
    "$Definition$ [Humphreys & Prest pp. 50]\n",
    "\n",
    "A linear congruence is an equation of the form\n",
    "\n",
    "$$\n",
    "ax \\equiv b \\mod n\n",
    "$$\n",
    "\n",
    "where $x$ is an integer variable; or an equation of the form\n",
    "\n",
    "$$\n",
    "[a]_n x = [b]_n\n",
    "$$\n",
    "\n",
    "where $x$ is a congruence class.\n",
    "\n",
    "This equation may have no solution; exactly one solution; or more than one solution."
   ]
  },
  {
   "cell_type": "markdown",
   "metadata": {},
   "source": [
    "---"
   ]
  },
  {
   "cell_type": "markdown",
   "metadata": {},
   "source": [
    "If $k$ is a solution for $x$ in $ax \\equiv b \\mod n$ then\n",
    "\n",
    "$n \\mid ak - b \\iff ak - b = ns \\iff ak + nt = b$ for some integer $s = -t$\n",
    "\n",
    "and $t$ can be computed from known $a, k, n, b$.\n",
    "\n",
    "Therefore, solving $ak + nt = b$ for $k, t$ is equivalent to solving $ax \\equiv b \\mod n$ for $x$."
   ]
  },
  {
   "cell_type": "markdown",
   "metadata": {},
   "source": [
    "Brahmagupta gave the criterion for solvability of and the general solution of\n",
    "\n",
    "$$\n",
    "ak + nt = b\n",
    "$$\n",
    "\n",
    "where $a, n, b$ are fixed integers and $k, t$ are integer unknowns.\n",
    "\n",
    "An equation of the form $ak + nt = b$ is indeterminate in the sense that since it is just one equation with two unknowns it has infinitely many solutions if it has any at all and those solutions form themselves into complete congruence classes."
   ]
  },
  {
   "cell_type": "markdown",
   "metadata": {},
   "source": [
    "---"
   ]
  },
  {
   "cell_type": "markdown",
   "metadata": {},
   "source": [
    "## Solutions to linear congruences"
   ]
  },
  {
   "cell_type": "markdown",
   "metadata": {},
   "source": [
    "How do we distinguish between linear congruences that have no solution, exactly one solution, or more than one solution?\n",
    "\n",
    "How do we find all solutions to a linear congruence if they exist?\n",
    "\n",
    "$Theorem$ [Humphreys & Prest 1.5.1 pp. 50]\n",
    "\n",
    "> The linear congruence $ax \\equiv b \\mod n$ has solutions iff the greatest common divisor $d$ of $a$ and $n$ divides $b$.  \n",
    ">  \n",
    "> If $d$ divides $b$ then there are $d$ solutions up to congruence modulo $n$ and these solutions are all congruent modulo $\\frac{n}{d}$.  "
   ]
  },
  {
   "cell_type": "markdown",
   "metadata": {},
   "source": [
    "$Proof$ [Humphreys & Prest pp. 50-51]\n",
    "\n",
    "> If the linear congruence $ax \\equiv b \\mod n$ has solutions then the greatest common divisor $d$ of $a$ and $n$ divides $b$.  \n",
    ">  \n",
    "> Let $c$ be a solution to $ax \\equiv b \\mod n$.  \n",
    ">  \n",
    "> $ac \\equiv b \\mod n \\iff n \\mid ac - b \\iff ac - b = nk \\iff b = ac - nk$ for some integer $k$.  \n",
    ">  \n",
    "> $gcd(a, n) = d$  \n",
    ">  \n",
    "> $d \\mid a$  \n",
    ">  \n",
    "> $d \\mid n$  \n",
    ">  \n",
    "> $\\therefore d \\mid b = ac - nk$  \n",
    "\n",
    "> If the greatest common divisor $d$ of $a$ and $n$ divides $b$ then the linear congruence $ax \\equiv b \\mod n$ has solutions.  \n",
    ">  \n",
    "> Let $d \\mid b \\iff b = de$ for some integer $e$.  \n",
    ">  \n",
    "> Write $d$ as a linear combination of $a$ and $n$: $d = ak + nt \\iff de = b = ake + nte \\iff ake - b = n(-te) \\iff a(ke) \\equiv b \\mod n$.  \n",
    "\n",
    "> Let $c$ be a solution to $ax \\equiv b \\mod n$.  \n",
    ">  \n",
    "> $ac \\equiv b \\mod n \\iff n \\mid ac - b \\iff ac - b = nk \\iff ac = b + nk$ for some integer $k$.  \n",
    ">  \n",
    "> Since $d \\mid b$ we may divide this equation by $d$ to get the equation in integers.  \n",
    ">  \n",
    "> $(\\frac{a}{d}) c = \\frac{b}{d} + (\\frac{n}{d}) k \\iff (\\frac{a}{d}) c \\equiv \\frac{b}{d} \\mod (\\frac{n}{d})$  \n",
    ">  \n",
    "> Every solution of the original congruence $ax \\equiv b \\mod n$ is also a solution of the congruence $(\\frac{a}{d}) x \\equiv \\frac{b}{d} \\mod (\\frac{n}{d})$.  \n",
    "\n",
    "> Conversely every solution to this second congruence is also a solution to the original one. So the solution is really a congruence class modulo $\\frac{n}{d}$. Such a congruence class splits into $d$ distinct congruence classes modulo $n$. Namely if $c$ is a solution then the congruence classes of  \n",
    "\n",
    "$$\n",
    "c, c + \\left( \\frac{n}{d} \\right), c + 2 \\left( \\frac{n}{d} \\right), c + 3 \\left( \\frac{n}{d} \\right), \\dots, c + (d - 1) \\left( \\frac{n}{d} \\right)\n",
    "$$\n",
    "\n",
    "> are distinct solutions modulo $n$ and are all the solutions modulo $n$.  \n",
    "\n",
    "$\\blacksquare$"
   ]
  },
  {
   "cell_type": "markdown",
   "metadata": {},
   "source": [
    "---"
   ]
  },
  {
   "cell_type": "markdown",
   "metadata": {},
   "source": [
    "## A method for solving linear congruences"
   ]
  },
  {
   "cell_type": "markdown",
   "metadata": {},
   "source": [
    "To find all solutions of the linear congruence\n",
    "\n",
    "$$\n",
    "ax \\equiv b \\mod n\n",
    "$$\n",
    "\n",
    "1. Calculate $d = gcd(a, n)$.\n",
    "\n",
    "2. Test whether $d$ divides $b$.\n",
    "\n",
    "    a. If $d$ does not divide $b$ then there is no solution.\n",
    "\n",
    "    b. If $d$ divides $b$ then there are $d$ solutions modulo $n$. To find the solutions in (b) divide the congruence throughout by $d$ to get $(\\frac{a}{d}) x \\equiv (\\frac{b}{d}) \\mod (\\frac{n}{d})$. Notice that since $gcd(\\frac{a}{d}, \\frac{n}{d}) = 1$ this congruence will have a unique solution.\n",
    "\n",
    "3. Calculate the inverse $[e]_{\\frac{n}{d}}$ of $[\\frac{a}{d}]_{\\frac{n}{d}}$ (either by inspection or by the matrix method).\n",
    "\n",
    "4. Multiply to get $[x]_{\\frac{n}{d}} = [e]_{\\frac{n}{d}} [\\frac{b}{d}]_{\\frac{n}{d}}$ and calculate a solution $c$ for $x$.\n",
    "\n",
    "5. The solutions to the original congruence will be the classes modulo $n$ of\n",
    "\n",
    "$$\n",
    "c, c + \\left( \\frac{n}{d} \\right), c + 2 \\left( \\frac{n}{d} \\right), c + 3 \\left( \\frac{n}{d} \\right), \\dots, c + (d - 1) \\left( \\frac{n}{d} \\right)\n",
    "$$"
   ]
  },
  {
   "cell_type": "markdown",
   "metadata": {},
   "source": [
    "---"
   ]
  },
  {
   "cell_type": "markdown",
   "metadata": {},
   "source": [
    "## Some examples of solving linear congruences"
   ]
  },
  {
   "cell_type": "markdown",
   "metadata": {},
   "source": [
    "Solve the linear congruence $6x \\equiv 5 \\mod 17$.\n",
    "\n",
    "1. $gcd(6, 17) = 1$\n",
    "\n",
    "2. There is $1$ solution since $1 \\mid 5$.\n",
    "\n",
    "3. $6x \\equiv 5 \\mod 17 \\iff \\frac{6}{1}x \\equiv \\frac{5}{1} \\mod \\frac{17}{1}$\n",
    "\n",
    "4. $6x \\equiv 1 \\mod 17 \\iff 17 \\mid 6x - 1 \\iff 6x - 1 = 17k \\iff x = \\frac{17(k = 1) + 1}{6} = 3$\n",
    "\n",
    "5. $6x \\equiv 5 \\mod 17 \\iff 6 \\times 3 \\times x \\equiv x \\equiv 5 \\times 3 = 15 \\mod 17$\n",
    "\n",
    "6. $[15]_{17}$"
   ]
  },
  {
   "cell_type": "markdown",
   "metadata": {},
   "source": [
    "Solve the linear congruence $6x \\equiv 5 \\mod 15$.\n",
    "\n",
    "1. $gcd(6, 15) = 3$\n",
    "\n",
    "2. There is no solution since $3 \\nmid 5$."
   ]
  },
  {
   "cell_type": "markdown",
   "metadata": {},
   "source": [
    "Solve the linear congruence $6x \\equiv 9 \\mod 15$.\n",
    "\n",
    "1. $gcd(6, 15) = 3$\n",
    "\n",
    "2. There are $3$ solutions since $3 \\mid 9$.\n",
    "\n",
    "3. $6x \\equiv 9 \\mod 15 \\iff 2x \\equiv 3 \\mod 5$\n",
    "\n",
    "4. $2x \\equiv 1 \\mod 5 \\iff 5 \\mid 2x - 1 \\iff 2x - 1 = 5k \\iff x = \\frac{5(k = 1) + 1}{2} = 3$\n",
    "\n",
    "5. $2x \\equiv 3 \\mod 5 \\iff 2 \\times 3 \\times x \\equiv x \\equiv 3 \\times 3 = 9 \\equiv 4 \\mod 5$\n",
    "\n",
    "6. $[4]_{15}, [9]_{15}, [14]_{15}$"
   ]
  },
  {
   "cell_type": "markdown",
   "metadata": {},
   "source": [
    "Solve the linear congruence $432x \\equiv 12 \\mod 546$.\n",
    "\n",
    "1. $gcd(432, 546) = 6$\n",
    "\n",
    "2. There are $6$ solutions since $6 \\mid 12$.\n",
    "\n",
    "3. $432x \\equiv 12 \\mod 546 \\iff 72x \\equiv 2 \\mod 91$\n",
    "\n",
    "4. $72x \\equiv 1 \\mod 91 \\iff 91 \\mid 72x - 1 \\iff 72x - 1 = 91k \\iff x = \\frac{91(k = 53) + 1}{72} = 67$\n",
    "\n",
    "5. $72x \\equiv 2 \\mod 91 \\iff 72 \\times 67 \\times x \\equiv x \\equiv 2 \\times 67 = 134 \\equiv 43 \\mod 91$\n",
    "\n",
    "6. $[43]_{546}, [134]_{546}, [225]_{546}, [316]_{546}, [407]_{546}, [498]_{546}$"
   ]
  },
  {
   "cell_type": "markdown",
   "metadata": {},
   "source": [
    "$\n",
    "\\begin{aligned}\n",
    "546 &=&          432 &\\times 1 + 114 \\\\\n",
    "432 &=&          114 &\\times 3 +  90 \\\\\n",
    "114 &=&           90 &\\times 1 +  24 \\\\\n",
    " 90 &=&           24 &\\times 3 +  18 \\\\\n",
    " 24 &=&           18 &\\times 1 +   6 \\\\\n",
    " 18 &=& \\c{green}{6} &\\times 3 +   0 \\\\\n",
    "\\end{aligned}\n",
    "$\n",
    "\n",
    "$\n",
    "\\begin{aligned}\n",
    "          432 &=           2^4 \\times 3^2 \\\\\n",
    "          546 &=           2^1 \\times 3^1 \\times 7 \\times 13 \\\\\n",
    "gcd(432, 546) &= \\c{green}{2^1 \\times 3^1} \\\\\n",
    "\\end{aligned}\n",
    "$\n",
    "\n",
    "$\n",
    "\\left(\n",
    "\\begin{array}{cc|c}\n",
    "1 & 0 & 546 \\\\\n",
    "0 & 1 & 432 \\\\\n",
    "\\end{array}\n",
    "\\right)\n",
    "\\underset{}{\\to}\n",
    "\\left(\n",
    "\\begin{array}{cc|c}\n",
    "1 & -1 & 114 \\\\\n",
    "0 &  1 & 432 \\\\\n",
    "\\end{array}\n",
    "\\right)\n",
    "\\underset{}{\\to}\n",
    "\\left(\n",
    "\\begin{array}{cc|c}\n",
    " 1 & -1 & 114 \\\\\n",
    "-3 &  4 &  90 \\\\\n",
    "\\end{array}\n",
    "\\right)\n",
    "\\underset{}{\\to}\n",
    "\\left(\n",
    "\\begin{array}{cc|c}\n",
    " 4 & -5 & 24 \\\\\n",
    "-3 &  4 & 90 \\\\\n",
    "\\end{array}\n",
    "\\right)\n",
    "\\underset{}{\\to}\n",
    "\\left(\n",
    "\\begin{array}{cc|c}\n",
    "  4 & -5 & 24 \\\\\n",
    "-15 & 19 & 18 \\\\\n",
    "\\end{array}\n",
    "\\right)\n",
    "\\underset{}{\\to}\n",
    "\\left(\n",
    "\\begin{array}{cc|c}\n",
    " 19 & -24 &  6 \\\\\n",
    "-15 &  19 & 18 \\\\\n",
    "\\end{array}\n",
    "\\right)\n",
    "\\underset{}{\\to}\n",
    "\\left(\n",
    "\\begin{array}{cc|c}\n",
    " 19 & -24 & 6 \\\\\n",
    "-72 &  91 & 0 \\\\\n",
    "\\end{array}\n",
    "\\right)\n",
    "$\n",
    "\n",
    "$19 \\times 546 + (-24) \\times 432 = 6$\n",
    "\n",
    "$\n",
    "\\left(\n",
    "\\begin{array}{cc|c}\n",
    "1 & 0 & 91 \\\\\n",
    "0 & 1 & 72 \\\\\n",
    "\\end{array}\n",
    "\\right)\n",
    "\\underset{}{\\to}\n",
    "\\left(\n",
    "\\begin{array}{cc|c}\n",
    "1 & -1 & 19 \\\\\n",
    "0 &  1 & 72 \\\\\n",
    "\\end{array}\n",
    "\\right)\n",
    "\\underset{}{\\to}\n",
    "\\left(\n",
    "\\begin{array}{cc|c}\n",
    " 1 & -1 & 19 \\\\\n",
    "-3 &  4 & 15 \\\\\n",
    "\\end{array}\n",
    "\\right)\n",
    "\\underset{}{\\to}\n",
    "\\left(\n",
    "\\begin{array}{cc|c}\n",
    " 4 & -5 &  4 \\\\\n",
    "-3 &  4 & 15 \\\\\n",
    "\\end{array}\n",
    "\\right)\n",
    "\\underset{}{\\to}\n",
    "\\left(\n",
    "\\begin{array}{cc|c}\n",
    "  4 & -5 & 4 \\\\\n",
    "-15 & 19 & 3 \\\\\n",
    "\\end{array}\n",
    "\\right)\n",
    "\\underset{}{\\to}\n",
    "\\left(\n",
    "\\begin{array}{cc|c}\n",
    " 19 & -24 & 1 \\\\\n",
    "-15 &  19 & 3 \\\\\n",
    "\\end{array}\n",
    "\\right)\n",
    "$\n",
    "\n",
    "$19 \\times 91 + (-24) \\times 72 = 1 \\iff (-24) \\times 72 \\equiv 1 \\mod 91$"
   ]
  },
  {
   "cell_type": "code",
   "execution_count": 90,
   "metadata": {},
   "outputs": [
    {
     "name": "stdout",
     "output_type": "stream",
     "text": [
      "6\n",
      "1\n"
     ]
    }
   ],
   "source": [
    "print(19*546 + (-24)*432)\n",
    "print(19* 91 + (-24)* 72)"
   ]
  },
  {
   "cell_type": "markdown",
   "metadata": {},
   "source": [
    "---"
   ]
  },
  {
   "cell_type": "markdown",
   "metadata": {},
   "source": [
    "## Solving systems of linear congruences"
   ]
  },
  {
   "cell_type": "markdown",
   "metadata": {},
   "source": [
    "Is there an integer whose remainder is $3$ when divided by $7$ and whose remainder is $6$ when divided by $25$? If so, how does one find it?\n",
    "\n",
    "In other words, is there an integer $x$ that satisfies the following system of linear congruences?\n",
    "\n",
    "$$\n",
    "\\begin{align*}\n",
    "x &\\equiv 3 \\mod  7 \\\\\n",
    "x &\\equiv 6 \\mod 25 \\\\\n",
    "\\end{align*}\n",
    "$$"
   ]
  },
  {
   "cell_type": "markdown",
   "metadata": {},
   "source": [
    "---"
   ]
  },
  {
   "cell_type": "markdown",
   "metadata": {},
   "source": [
    "## Chinese Remainder Theorem"
   ]
  },
  {
   "cell_type": "markdown",
   "metadata": {},
   "source": [
    "$Theorem$ [Humphreys & Prest 1.5.2 pp. 54]\n",
    "\n",
    "> Let $m \\ge 2$ and $n \\ge 2$ be relatively prime integers and let $a, b$ be integers.  \n",
    ">  \n",
    "> There is a simultaneous solution to the system of linear congruences  \n",
    "\n",
    "$$\n",
    "\\begin{align*}\n",
    "x &\\equiv a \\mod m \\\\\n",
    "x &\\equiv b \\mod n \\\\\n",
    "\\end{align*}\n",
    "$$\n",
    "\n",
    "> The solution is unique up to congruence modulo $mn$.  "
   ]
  },
  {
   "cell_type": "markdown",
   "metadata": {},
   "source": [
    "$Proof$ [Humphreys & Prest pp. 54-55]\n",
    "\n",
    "> There are integers $k, t$ s.t. $mk + nt = 1$ since $m, n$ are relatively prime.  \n",
    ">  \n",
    "> $c = bmk + ant$ is a simultaneous solution to the system of linear congruences.  \n",
    ">  \n",
    "> $c - ant = m(bk) \\iff c \\equiv ant \\mod m$  \n",
    "> $nt - 1 = m(-k) \\iff 1 \\equiv nt \\mod m$  \n",
    "> $c \\equiv a \\times nt \\equiv a \\times 1 \\equiv a \\mod m$  \n",
    ">  \n",
    "> $c - bmk = n(at) \\iff c \\equiv bmk \\mod n$  \n",
    "> $mk - 1 = n(-t) \\iff 1 \\equiv mk \\mod n$  \n",
    "> $c \\equiv b \\times mk \\equiv b \\times 1 \\equiv b \\mod m$  \n",
    "\n",
    "> Let $c, d$ be solutions to the system of linear congruences.  \n",
    ">  \n",
    "> $m \\mid c - d \\iff c - d \\equiv a - a \\equiv 0 \\mod m$ since $c \\equiv a \\mod m$ and $d \\equiv a \\mod m$  \n",
    "> $n \\mid c - d \\iff c - d \\equiv b - b \\equiv 0 \\mod n$ since $c \\equiv b \\mod n$ and $d \\equiv b \\mod n$  \n",
    "> $mn \\mid c - d$ since $m, n$ are relatively prime and so $c, d$ lie in the same congruence class modulo $mn$.  \n",
    "\n",
    "> Let $c$ be a solution to the system of linear congruences and let $d \\equiv c \\mod mn$.  \n",
    ">  \n",
    "> $d - c = kmn \\iff d = c + kmn$\n",
    "\n",
    "$\\blacksquare$"
   ]
  },
  {
   "cell_type": "markdown",
   "metadata": {},
   "source": [
    "---"
   ]
  },
  {
   "cell_type": "markdown",
   "metadata": {},
   "source": [
    "$Example$ [Humphreys & Prest pp. 55-56]\n",
    "\n",
    "$\n",
    "\\begin{aligned}\n",
    "x &\\equiv 3 \\mod & 7 \\\\\n",
    "x &\\equiv 6 \\mod &25 \\\\\n",
    "\\end{aligned}\n",
    "$\n",
    "\n",
    "First method\n",
    "\n",
    "> Express the relative primes $m$ and $n$ as a linear combination equal to unity: $7 \\times (-7) + 25 \\times 2 = 1$  \n",
    "> $6 \\times 7 \\times (-7) + 3 \\times 25 \\times 2 = -144 \\equiv 31 \\mod 175$  \n",
    "> $[31]_{175}$  \n",
    "\n",
    "Second method\n",
    "\n",
    "> Take the first congruence and solve for $x$: $x \\equiv 3 \\mod 7 \\iff x - 3 = 7k \\iff x = 7k + 3$  \n",
    "> Substitute the result into the second congruence: $7k + 3 \\equiv 6 \\mod 25 \\iff 7k \\equiv 3 \\mod 25$  \n",
    "> Find the inverse of $7 \\mod 25$: $7k \\equiv 1 \\mod 25 \\iff 7k - 1 = 25t \\iff k = \\frac{25(t = 5) + 1}{7} = 18$  \n",
    "> $18 \\times 7 \\times k \\equiv k \\equiv 18 \\times 3 = 54 \\equiv 4 \\mod 25$  \n",
    "> $k \\equiv 4 \\mod 25 \\iff k - 4 = 25r \\iff k = 4 + 25r$  \n",
    "> $x = 3 + 7(4 + 25r) = 31 + 175r \\iff x \\equiv 31 \\mod 175 \\iff [x]_{175} = [31]_{175}$  "
   ]
  },
  {
   "cell_type": "markdown",
   "metadata": {},
   "source": [
    "---"
   ]
  },
  {
   "cell_type": "markdown",
   "metadata": {},
   "source": [
    "$Example$ [Humphreys & Prest pp. 56-57]\n",
    "\n",
    "Is there an integer whose remainder is $2$ when divided by $7$; $0$ when divided by $9$; and $6$ when doubled and then divided by $8$?\n",
    "\n",
    "Solve the system of linear congruences.\n",
    "\n",
    "$\n",
    "\\begin{aligned}\n",
    " x &\\equiv 2 \\mod 7 \\\\\n",
    " x &\\equiv 0 \\mod 9 \\\\\n",
    "2x &\\equiv 6 \\mod 8 \\\\\n",
    "\\end  {aligned}\n",
    "$\n",
    "\n",
    "$2x \\equiv 6 \\mod 8 \\iff 8 \\mid 2x - 6 \\iff 2x - 6 = 8k \\iff x = 4k + 3 \\iff x - 3 = 4k \\iff x \\equiv 3 \\mod 4$\n",
    "\n",
    "The system of linear congruences becomes\n",
    "\n",
    "$\n",
    "\\begin{aligned}\n",
    "x &\\equiv 2 \\mod 7 \\\\\n",
    "x &\\equiv 0 \\mod 9 \\\\\n",
    "x &\\equiv 3 \\mod 4 \\\\\n",
    "\\end  {aligned}\n",
    "$\n",
    "\n",
    "The moduli are pairwise relative primes.\n",
    "\n",
    "$gcd(7, 9) = 1 = gcd(7, 4) = gcd(9, 4)$\n",
    "\n",
    "$\n",
    "\\left (\n",
    "\\begin{array}{cc|c}\n",
    "1 & 0 & 7 \\\\\n",
    "0 & 1 & 9 \\\\\n",
    "\\end  {array}\n",
    "\\right)\n",
    "\\to\n",
    "\\left (\n",
    "\\begin{array}{cc|c}\n",
    " 1 & 0 & 7 \\\\\n",
    "-1 & 1 & 2 \\\\\n",
    "\\end  {array}\n",
    "\\right)\n",
    "\\to\n",
    "\\left (\n",
    "\\begin{array}{cc|c}\n",
    " 4 & -3 & 1 \\\\\n",
    "-1 &  1 & 2 \\\\\n",
    "\\end  {array}\n",
    "\\right)\n",
    "$\n",
    "\n",
    "$\\underset{b}{0} \\times \\underset{m}{7} \\times \\underset{k}{4} + \\underset{a}{2} \\times \\underset{n}{9} \\times \\underset{t}{(-3)} = \\underset{c}{-54} \\equiv 9 \\mod \\underset{m}{7} \\times \\underset{n}{9} = 63$\n",
    "\n",
    "The system of linear congruences becomes\n",
    "\n",
    "$\n",
    "\\begin{aligned}\n",
    "x &\\equiv 9 \\mod 63 \\\\\n",
    "x &\\equiv 3 \\mod 4 \\\\\n",
    "\\end  {aligned}\n",
    "$\n",
    "\n",
    "$\n",
    "\\left (\n",
    "\\begin{array}{cc|c}\n",
    "1 & 0 & 63 \\\\\n",
    "0 & 1 &  4 \\\\\n",
    "\\end  {array}\n",
    "\\right)\n",
    "\\to\n",
    "\\left (\n",
    "\\begin{array}{cc|c}\n",
    "1 & -15 & 3 \\\\\n",
    "0 &   1 & 4 \\\\\n",
    "\\end  {array}\n",
    "\\right)\n",
    "\\to\n",
    "\\left (\n",
    "\\begin{array}{cc|c}\n",
    " 1 & -15 & 3 \\\\\n",
    "-1 &  16 & 1 \\\\\n",
    "\\end  {array}\n",
    "\\right)\n",
    "$\n",
    "\n",
    "$\\underset{b}{3} \\times \\underset{m}{63} \\times \\underset{k}{(-1)} + \\underset{a}{9} \\times \\underset{n}{4} \\times \\underset{t}{16} = \\underset{c}{387} \\equiv 135 \\mod \\underset{m}{63} \\times \\underset{n}{4} = 252$\n",
    "\n",
    "$[135]_{252}$"
   ]
  },
  {
   "cell_type": "code",
   "execution_count": 50,
   "metadata": {},
   "outputs": [
    {
     "name": "stdout",
     "output_type": "stream",
     "text": [
      "2\n",
      "0\n",
      "6\n",
      "2\n",
      "0\n",
      "6\n",
      "2\n",
      "0\n",
      "6\n"
     ]
    }
   ],
   "source": [
    "for c in [135, 135 + 252, 135 + 2*252]:\n",
    "  print(    c % 7)\n",
    "  print(    c % 9)\n",
    "  print(2 * c % 8)"
   ]
  },
  {
   "cell_type": "markdown",
   "metadata": {},
   "source": [
    "---"
   ]
  },
  {
   "cell_type": "markdown",
   "metadata": {},
   "source": [
    "## Nonlinear congruences"
   ]
  },
  {
   "cell_type": "markdown",
   "metadata": {},
   "source": [
    "$Example$ [Humphreys & Prest pp. 57-58]\n",
    "\n",
    "Consider the quadratic equation $$x^2 + 1 \\equiv 0 \\mod n$$\n",
    "\n",
    "The existence and number of solutions depends on $n$.\n",
    "\n",
    "$x^2 + 1 \\equiv 0 \\mod 2$\n",
    "\n",
    "Solutions: $[1]_2$\n",
    "\n",
    "$\n",
    "\\begin{aligned}\n",
    "0^2 + 1 &=&  1 &         &\\not\\equiv&& 0 \\mod 2 \\\\\n",
    "1^2 + 1 &=&  2 &         &    \\equiv&& 0 \\mod 2 \\\\\n",
    "\\end  {aligned}\n",
    "$\n",
    "\n",
    "$x^2 + 1 \\equiv 0 \\mod 3$\n",
    "\n",
    "$\n",
    "\\begin{aligned}\n",
    "0^2 + 1 &=&  1 &         &\\not\\equiv&& 0 \\mod 3 \\\\\n",
    "1^2 + 1 &=&  2 &         &\\not\\equiv&& 0 \\mod 3 \\\\\n",
    "2^2 + 1 &=&  5 &\\equiv 2 &\\not\\equiv&& 0 \\mod 3 \\\\\n",
    "\\end  {aligned}\n",
    "$\n",
    "\n",
    "$x^2 + 1 \\equiv 0 \\mod 4$\n",
    "\n",
    "$\n",
    "\\begin{aligned}\n",
    "0^2 + 1 &=&  1 &         &\\not\\equiv&& 0 \\mod 4 \\\\\n",
    "1^2 + 1 &=&  2 &         &\\not\\equiv&& 0 \\mod 4 \\\\\n",
    "2^2 + 1 &=&  5 &\\equiv 1 &\\not\\equiv&& 0 \\mod 4 \\\\\n",
    "3^2 + 1 &=& 10 &\\equiv 2 &\\not\\equiv&& 0 \\mod 4 \\\\\n",
    "\\end  {aligned}\n",
    "$\n",
    "\n",
    "$x^2 + 1 \\equiv 0 \\mod 5$\n",
    "\n",
    "Solutions: $[2]_5, [3]_5$\n",
    "\n",
    "$\n",
    "\\begin{aligned}\n",
    "0^2 + 1 &=&  1 &         &\\not\\equiv&& 0 \\mod 5 \\\\\n",
    "1^2 + 1 &=&  2 &         &\\not\\equiv&& 0 \\mod 5 \\\\\n",
    "2^2 + 1 &=&  5 &         &    \\equiv&& 0 \\mod 5 \\\\\n",
    "3^2 + 1 &=& 10 &         &    \\equiv&& 0 \\mod 5 \\\\\n",
    "4^2 + 1 &=& 17 &\\equiv 2 &\\not\\equiv&& 0 \\mod 5 \\\\\n",
    "\\end  {aligned}\n",
    "$\n",
    "\n",
    "$x^2 + 1 \\equiv 0 \\mod 65$\n",
    "\n",
    "Solutions: $[8]_{65}, [-8]_{65}, [18]_{65}, [-18]_{65}$\n",
    "\n",
    "$\n",
    "\\begin{aligned}\n",
    "  0 ^2 + 1 &=&  1 &         &\\not\\equiv&& 0 \\mod 65 \\\\\n",
    "  1 ^2 + 1 &=&  2 &         &\\not\\equiv&& 0 \\mod 65 \\\\\n",
    "  2 ^2 + 1 &=&  5 &         &\\not\\equiv&& 0 \\mod 65 \\\\\n",
    "  3 ^2 + 1 &=& 10 &         &\\not\\equiv&& 0 \\mod 65 \\\\\n",
    "  4 ^2 + 1 &=& 17 &         &\\not\\equiv&& 0 \\mod 65 \\\\\n",
    "  5 ^2 + 1 &=& 26 &         &\\not\\equiv&& 0 \\mod 65 \\\\\n",
    "  6 ^2 + 1 &=& 37 &         &\\not\\equiv&& 0 \\mod 65 \\\\\n",
    "  7 ^2 + 1 &=& 50 &         &\\not\\equiv&& 0 \\mod 65 \\\\\n",
    "  8 ^2 + 1 &=& 65 &         &    \\equiv&& 0 \\mod 65 \\\\\n",
    "(-8)^2 + 1 &=& 17 &         &    \\equiv&& 0 \\mod 65 \\\\\n",
    "\\vdots\n",
    "\\end  {aligned}\n",
    "$\n",
    "\n",
    "$x^2 + 1 \\equiv (x + 8)(x - 8) = x^2 - 64 \\mod 65$\n",
    "\n",
    "$x^2 + 1 \\equiv (x + 18)(x - 18) = x^2 - 324 \\mod 65 \\iff x^2 \\equiv -325 \\mod 65$"
   ]
  },
  {
   "cell_type": "code",
   "execution_count": 48,
   "metadata": {},
   "outputs": [
    {
     "name": "stdout",
     "output_type": "stream",
     "text": [
      "0\n",
      "0\n",
      "0\n",
      "0\n"
     ]
    }
   ],
   "source": [
    "print(( 8**2 + 1) % 65)\n",
    "print((18**2 + 1) % 65)\n",
    "print((47**2 + 1) % 65)\n",
    "print((57**2 + 1) % 65)"
   ]
  },
  {
   "cell_type": "markdown",
   "metadata": {},
   "source": [
    "$Example$ [Humphreys & Prest pp. 58]\n",
    "\n",
    "Consider the polynomial $$x^3 - x^2 + x + 1$$\n",
    "\n",
    "Does it have any integer roots?\n",
    "\n",
    "Suppose that it had an integer root $k$. Then we would have $$k^3 - k^2 + k + 1 = 0$$\n",
    "\n",
    "Let $n$ be an integer greater than $1$ and reduce this equation modulo $n$ to obtain $$[k]_n^3 - [k]_n^2 + [k]_n + [1]_n = [0]_n$$\n",
    "\n",
    "The polynomial $X^3 - X^2 + X + [1]_n$ with coefficients from $\\mathbb{Z}_n$ has a root in $\\mathbb{Z}_n$. This would be true for every $n$.\n",
    "\n",
    "In other words, if the equation reduced modulo $n$ has no roots modulo $n$ for at least one $n$, then the original equation has no integer roots."
   ]
  },
  {
   "cell_type": "markdown",
   "metadata": {},
   "source": [
    "$n = 2$\n",
    "\n",
    "Reduce the equation $x^3 - x^2 + x + 1 = 0$ modulo $2$: $X^3 - X^2 + X + [1]_2 = [0]_2$\n",
    "\n",
    "$\n",
    "\\begin{aligned}\n",
    "x^3 - x^2 + x + 1 &    &    \\equiv 0 \\mod 2 \\\\\n",
    "\\hline\n",
    "0^3 - 0^2 + 0 + 1 &= 1 &\\not\\equiv 0 \\mod 2 \\\\\n",
    "1^3 - 1^2 + 1 + 1 &= 2 &    \\equiv 0 \\mod 2 \\\\\n",
    "\\end  {aligned}\n",
    "$"
   ]
  },
  {
   "cell_type": "markdown",
   "metadata": {},
   "source": [
    "$n = 3$\n",
    "\n",
    "Reduce the equation $x^3 - x^2 + x + 1 = 0$ modulo $3$: $X^3 - X^2 + X + [1]_3 = [0]_3$\n",
    "\n",
    "$\n",
    "\\begin{aligned}\n",
    "x^3 - x^2 + x + 1 &    &         &    \\equiv 0 \\mod 3 \\\\\n",
    "\\hline\n",
    "0^3 - 0^2 + 0 + 1 &= 1 &         &\\not\\equiv 0 \\mod 3 \\\\\n",
    "1^3 - 1^2 + 1 + 1 &= 2 &         &\\not\\equiv 0 \\mod 3 \\\\\n",
    "2^3 - 2^2 + 2 + 1 &= 7 &\\equiv 1 &\\not\\equiv 0 \\mod 3 \\\\\n",
    "\\end  {aligned}\n",
    "$"
   ]
  },
  {
   "cell_type": "markdown",
   "metadata": {},
   "source": [
    "Therefore, the equation $x^3 - x^2 + x + 1 = 0$ has no integer roots."
   ]
  },
  {
   "cell_type": "markdown",
   "metadata": {},
   "source": [
    "---"
   ]
  }
 ],
 "metadata": {
  "kernelspec": {
   "display_name": "ml",
   "language": "python",
   "name": "python3"
  },
  "language_info": {
   "codemirror_mode": {
    "name": "ipython",
    "version": 3
   },
   "file_extension": ".py",
   "mimetype": "text/x-python",
   "name": "python",
   "nbconvert_exporter": "python",
   "pygments_lexer": "ipython3",
   "version": "3.11.5"
  }
 },
 "nbformat": 4,
 "nbformat_minor": 2
}
