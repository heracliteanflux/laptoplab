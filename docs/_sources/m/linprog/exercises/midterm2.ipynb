{
 "cells": [
  {
   "attachments": {},
   "cell_type": "markdown",
   "metadata": {},
   "source": [
    "# Midterm II"
   ]
  },
  {
   "attachments": {},
   "cell_type": "markdown",
   "metadata": {},
   "source": [
    "---"
   ]
  },
  {
   "attachments": {},
   "cell_type": "markdown",
   "metadata": {},
   "source": [
    "```{admonition} Revised\n",
    "22 Apr 2023\n",
    "```\n",
    "```{contents}\n",
    "```"
   ]
  },
  {
   "attachments": {},
   "cell_type": "markdown",
   "metadata": {},
   "source": [
    "---"
   ]
  },
  {
   "attachments": {},
   "cell_type": "markdown",
   "metadata": {},
   "source": [
    "## Programming Environment"
   ]
  },
  {
   "cell_type": "code",
   "execution_count": 2,
   "metadata": {
    "tags": [
     "hide-input"
    ]
   },
   "outputs": [
    {
     "name": "stdout",
     "output_type": "stream",
     "text": [
      "EXECUTED            : 2023-04-23 13:32:16.037268\n",
      "\n",
      "Platform            : 13.3.1 | Darwin | 22.4.0 | arm64\n",
      "                    : UTF-8\n",
      "\n",
      "Python              : 3.10.8 | packaged by conda-forge | (main, Nov 22 2022, 08:25:29) [Clang 14.0.6 ]\n",
      "                    : sys.version_info(major=3, minor=10, micro=8, releaselevel='final', serial=0)\n",
      "                    : CPython\n",
      "\n",
      "Matplotlib          : 3.6.3\n",
      "NumPy               : 1.24.1\n",
      "SymPy               : 1.11.1\n"
     ]
    }
   ],
   "source": [
    "from fractions import Fraction\n",
    "\n",
    "import numpy as np\n",
    "import sympy as sp\n",
    "from   sympy import init_printing,latex,solve,symbols\n",
    "from   sympy.matrices import diag,eye,GramSchmidt,ones,Matrix,zeros\n",
    "from   sympy.solvers.inequalities import reduce_inequalities\n",
    "\n",
    "x1,x2,x3,x4=symbols('x1 x2 x3 x4')\n",
    "init_printing(use_latex=True)\n",
    "\n",
    "import matplotlib        as mpl\n",
    "import matplotlib.pyplot as plt\n",
    "plt.style.use('ggplot');\n",
    "plt.rcParams.update({'text.usetex' : True});\n",
    "%matplotlib inline\n",
    "\n",
    "from IPython.display import display, Math\n",
    "\n",
    "from   datetime import datetime as d\n",
    "import locale                   as l\n",
    "import platform                 as p\n",
    "import sys                      as s\n",
    "\n",
    "pad = 20\n",
    "print(f\"{'Executed'.upper():<{pad}}: {d.now()}\")\n",
    "print()\n",
    "print(f\"{'Platform'   :<{pad}}: \"\n",
    "      f\"{p.mac_ver()[0]} | \"\n",
    "      f\"{p.system()} | \"\n",
    "      f\"{p.release()} | \"\n",
    "      f\"{p.machine()}\")\n",
    "print(f\"{''           :<{pad}}: {l.getpreferredencoding()}\")\n",
    "print()\n",
    "print(f\"{'Python'     :<{pad}}: {s.version}\")\n",
    "print(f\"{''           :<{pad}}: {s.version_info}\")\n",
    "print(f\"{''           :<{pad}}: {p.python_implementation()}\")\n",
    "print()\n",
    "print(f\"{'Matplotlib' :<{pad}}: {mpl.__version__}\")\n",
    "print(f\"{'NumPy'      :<{pad}}: {np .__version__}\")\n",
    "print(f\"{'SymPy'      :<{pad}}: {sp .__version__}\")\n",
    "\n",
    "def unitVector (vec : np.ndarray) -> np.ndarray:\n",
    "  return vec/np.sqrt((vec[0]**2+vec[1]**2))"
   ]
  },
  {
   "attachments": {},
   "cell_type": "markdown",
   "metadata": {},
   "source": [
    "---"
   ]
  },
  {
   "attachments": {},
   "cell_type": "markdown",
   "metadata": {},
   "source": [
    "## Production Scenario"
   ]
  },
  {
   "attachments": {},
   "cell_type": "markdown",
   "metadata": {},
   "source": [
    "    Product A [x1]\n",
    "        $60.00   sale price\n",
    "        1 hr     machining\n",
    "        5 lb     material\n",
    "        900 unit demand per week\n",
    "\n",
    "    Product B [x2]\n",
    "        $90.00   sale price\n",
    "        2 hr     machining\n",
    "        4 lb     material\n",
    "        700 unit demand per week\n",
    "\n",
    "    supply per week\n",
    "        1000 hr machining\n",
    "        3200 lb material\n",
    "\n",
    "    extra\n",
    "        $28.00/hr machining [p1]\n",
    "         $4.00/lb material  [p2]\n",
    "        \n",
    "    initial cost D\n",
    "        $40,800.00 = $28 .00/hr x 1000 hr + $4 .00/lb x 3200 lb"
   ]
  },
  {
   "attachments": {},
   "cell_type": "markdown",
   "metadata": {},
   "source": [
    "---"
   ]
  },
  {
   "attachments": {},
   "cell_type": "markdown",
   "metadata": {},
   "source": [
    "## LP"
   ]
  },
  {
   "attachments": {},
   "cell_type": "markdown",
   "metadata": {},
   "source": [
    "$\n",
    "\\begin{aligned}\n",
    "\\max z(\\mathbf{x})&=60x_1+90x_2-40800\n",
    "\\\\\n",
    "g_1(\\mathbf{x})&=x_1+2x_2\\le1000=b_1\n",
    "&&\\text{machining constraint}\n",
    "\\\\\n",
    "g_2(\\mathbf{x})&=5x_1+4x_2\\le3200=b_2\n",
    "&&\\text{material constraint}\n",
    "\\\\\n",
    "g_3(\\mathbf{x})&=x_1\\le900=b_3\n",
    "&&\\text{Product A demand constaint}\n",
    "\\\\\n",
    "g_4(\\mathbf{x})&=x_2\\le700=b_4\n",
    "&&\\text{Product B demand constraint}\n",
    "\\\\\n",
    "\\mathbf{x}&\\ge\\mathbf{0}\n",
    "&&\\text{no negative production}\n",
    "\\end{aligned}\n",
    "$"
   ]
  },
  {
   "attachments": {},
   "cell_type": "markdown",
   "metadata": {},
   "source": [
    "    LP          A       B\n",
    "    max z =  60x1 +  90x2  - 40800\n",
    "       g1 =   1x1 +   2x2 <=  1000 = b1   machining constraint\n",
    "       g2 =   5x1 +   4x2 <=  3200 = b2   material  constraint\n",
    "       g3 =   1x1 +   0x2 <=   900 = b3   Product A demand constraint\n",
    "       g4 =   0x1 +   1x2 <=   700 = b4   Product B demand constraint\n",
    "                        x >= 0            no negative production"
   ]
  },
  {
   "attachments": {},
   "cell_type": "markdown",
   "metadata": {},
   "source": [
    "---"
   ]
  },
  {
   "cell_type": "markdown",
   "metadata": {},
   "source": [
    "## Gradients and directions"
   ]
  },
  {
   "attachments": {},
   "cell_type": "markdown",
   "metadata": {},
   "source": [
    "$\n",
    "\\begin{aligned}\n",
    "\\nabla z&=\\langle60,90\\rangle\n",
    "\\\\\n",
    "\\nabla g_1&=\\langle1,2\\rangle\n",
    "&&\\langle60,90\\rangle\\cdot\\langle2,-1\\rangle\n",
    "&&\\gt0\n",
    "&&\\implies\\langle2,-1\\rangle\n",
    "\\\\\n",
    "\\nabla g_2&=\\langle5,4\\rangle\n",
    "&&\\langle60,90\\rangle\\cdot\\langle4,-5\\rangle\n",
    "&&\\lt0\n",
    "&&\\implies\\langle-4,5\\rangle\n",
    "\\\\\n",
    "\\nabla g_3&=\\langle1,0\\rangle\n",
    "&&\\langle60,90\\rangle\\cdot\\langle0,-1\\rangle\n",
    "&&\\lt0\n",
    "&&\\implies\\langle0,1\\rangle\n",
    "\\\\\n",
    "\\nabla g_4&=\\langle0,1\\rangle\n",
    "&&\\langle60,90\\rangle\\cdot\\langle1,0\\rangle\n",
    "&&\\gt0\n",
    "&&\\implies\\langle1,0\\rangle\n",
    "\\end{aligned}\n",
    "$"
   ]
  },
  {
   "attachments": {},
   "cell_type": "markdown",
   "metadata": {},
   "source": [
    "    delz  = <60,90>\n",
    "    delg1 = < 1, 2>\n",
    "    delg2 = < 5, 4>\n",
    "    delg3 = < 1, 0>\n",
    "    delg4 = < 0, 1>\n",
    "\n",
    "    <60,90><2,-1> >0 => < 2,-1> g1\n",
    "    <60,90><4,-5> <0 => <-4, 5> g2\n",
    "    <60,90><0,-1> <0 => < 0, 1> g3\n",
    "    <60,90><1, 0> >0 => < 1, 0> g4"
   ]
  },
  {
   "cell_type": "code",
   "execution_count": 3,
   "metadata": {},
   "outputs": [
    {
     "name": "stdout",
     "output_type": "stream",
     "text": [
      " 30\n",
      "210\n",
      " 90\n",
      " 60\n"
     ]
    },
    {
     "data": {
      "text/plain": [
       "'LINES'"
      ]
     },
     "metadata": {},
     "output_type": "display_data"
    },
    {
     "data": {
      "text/plain": [
       "'g1'"
      ]
     },
     "metadata": {},
     "output_type": "display_data"
    },
    {
     "data": {
      "image/png": "[encoded data removed]",
      "text/latex": [
       "$\\displaystyle \\left\\{ x_{2} : 500 - \\frac{x_{1}}{2}\\right\\}$"
      ],
      "text/plain": [
       "⎧          x₁⎫\n",
       "⎨x₂: 500 - ──⎬\n",
       "⎩          2 ⎭"
      ]
     },
     "metadata": {},
     "output_type": "display_data"
    },
    {
     "data": {
      "text/plain": [
       "'g2'"
      ]
     },
     "metadata": {},
     "output_type": "display_data"
    },
    {
     "data": {
      "image/png": "[encoded data removed]",
      "text/latex": [
       "$\\displaystyle \\left\\{ x_{2} : 800 - \\frac{5 x_{1}}{4}\\right\\}$"
      ],
      "text/plain": [
       "⎧          5⋅x₁⎫\n",
       "⎨x₂: 800 - ────⎬\n",
       "⎩           4  ⎭"
      ]
     },
     "metadata": {},
     "output_type": "display_data"
    },
    {
     "data": {
      "text/plain": [
       "'g4'"
      ]
     },
     "metadata": {},
     "output_type": "display_data"
    },
    {
     "data": {
      "image/png": "[encoded data removed]",
      "text/latex": [
       "$\\displaystyle \\left\\{ x_{2} : 700\\right\\}$"
      ],
      "text/plain": [
       "{x₂: 700}"
      ]
     },
     "metadata": {},
     "output_type": "display_data"
    },
    {
     "data": {
      "image/png": "[encoded data removed]",
      "text/latex": [
       "$\\displaystyle x_{2} \\leq 500 - \\frac{x_{1}}{2} \\wedge -\\infty < x_{2}$"
      ],
      "text/plain": [
       "           x₁          \n",
       "x₂ ≤ 500 - ── ∧ -∞ < x₂\n",
       "           2           "
      ]
     },
     "metadata": {},
     "output_type": "display_data"
    },
    {
     "data": {
      "image/png": "[encoded data removed]",
      "text/latex": [
       "$\\displaystyle x_{2} \\leq 800 - \\frac{5 x_{1}}{4} \\wedge -\\infty < x_{2}$"
      ],
      "text/plain": [
       "           5⋅x₁          \n",
       "x₂ ≤ 800 - ──── ∧ -∞ < x₂\n",
       "            4            "
      ]
     },
     "metadata": {},
     "output_type": "display_data"
    },
    {
     "data": {
      "image/png": "[encoded data removed]",
      "text/latex": [
       "$\\displaystyle x_{1} \\leq 900 \\wedge -\\infty < x_{1}$"
      ],
      "text/plain": [
       "x₁ ≤ 900 ∧ -∞ < x₁"
      ]
     },
     "metadata": {},
     "output_type": "display_data"
    },
    {
     "data": {
      "image/png": "[encoded data removed]",
      "text/latex": [
       "$\\displaystyle x_{2} \\leq 700 \\wedge -\\infty < x_{2}$"
      ],
      "text/plain": [
       "x₂ ≤ 700 ∧ -∞ < x₂"
      ]
     },
     "metadata": {},
     "output_type": "display_data"
    },
    {
     "data": {
      "text/plain": [
       "'INTERSECTIONS'"
      ]
     },
     "metadata": {},
     "output_type": "display_data"
    },
    {
     "data": {
      "text/plain": [
       "'g1=g2'"
      ]
     },
     "metadata": {},
     "output_type": "display_data"
    },
    {
     "data": {
      "image/png": "[encoded data removed]",
      "text/latex": [
       "$\\displaystyle \\left\\{ x_{1} : 400, \\  x_{2} : 300\\right\\}$"
      ],
      "text/plain": [
       "{x₁: 400, x₂: 300}"
      ]
     },
     "metadata": {},
     "output_type": "display_data"
    },
    {
     "data": {
      "text/plain": [
       "'g1=g3'"
      ]
     },
     "metadata": {},
     "output_type": "display_data"
    },
    {
     "data": {
      "image/png": "[encoded data removed]",
      "text/latex": [
       "$\\displaystyle \\left\\{ x_{1} : 900, \\  x_{2} : 50\\right\\}$"
      ],
      "text/plain": [
       "{x₁: 900, x₂: 50}"
      ]
     },
     "metadata": {},
     "output_type": "display_data"
    },
    {
     "data": {
      "text/plain": [
       "'g1=g4'"
      ]
     },
     "metadata": {},
     "output_type": "display_data"
    },
    {
     "data": {
      "image/png": "[encoded data removed]",
      "text/latex": [
       "$\\displaystyle \\left\\{ x_{1} : -400, \\  x_{2} : 700\\right\\}$"
      ],
      "text/plain": [
       "{x₁: -400, x₂: 700}"
      ]
     },
     "metadata": {},
     "output_type": "display_data"
    },
    {
     "data": {
      "text/plain": [
       "'g2=g3'"
      ]
     },
     "metadata": {},
     "output_type": "display_data"
    },
    {
     "data": {
      "image/png": "[encoded data removed]",
      "text/latex": [
       "$\\displaystyle \\left\\{ x_{1} : 900, \\  x_{2} : -325\\right\\}$"
      ],
      "text/plain": [
       "{x₁: 900, x₂: -325}"
      ]
     },
     "metadata": {},
     "output_type": "display_data"
    },
    {
     "data": {
      "text/plain": [
       "'g2=g4'"
      ]
     },
     "metadata": {},
     "output_type": "display_data"
    },
    {
     "data": {
      "image/png": "[encoded data removed]",
      "text/latex": [
       "$\\displaystyle \\left\\{ x_{1} : 80, \\  x_{2} : 700\\right\\}$"
      ],
      "text/plain": [
       "{x₁: 80, x₂: 700}"
      ]
     },
     "metadata": {},
     "output_type": "display_data"
    },
    {
     "data": {
      "text/plain": [
       "'g3=g4'"
      ]
     },
     "metadata": {},
     "output_type": "display_data"
    },
    {
     "data": {
      "image/png": "[encoded data removed]",
      "text/latex": [
       "$\\displaystyle \\left\\{ x_{1} : 900, \\  x_{2} : 700\\right\\}$"
      ],
      "text/plain": [
       "{x₁: 900, x₂: 700}"
      ]
     },
     "metadata": {},
     "output_type": "display_data"
    },
    {
     "data": {
      "text/plain": [
       "'g1[ 0,x2]'"
      ]
     },
     "metadata": {},
     "output_type": "display_data"
    },
    {
     "data": {
      "image/png": "[encoded data removed]",
      "text/latex": [
       "$\\displaystyle \\left\\{ x_{1} : 0, \\  x_{2} : 500\\right\\}$"
      ],
      "text/plain": [
       "{x₁: 0, x₂: 500}"
      ]
     },
     "metadata": {},
     "output_type": "display_data"
    },
    {
     "data": {
      "text/plain": [
       "'g2[x1, 0]'"
      ]
     },
     "metadata": {},
     "output_type": "display_data"
    },
    {
     "data": {
      "image/png": "[encoded data removed]",
      "text/latex": [
       "$\\displaystyle \\left\\{ x_{1} : 640, \\  x_{2} : 0\\right\\}$"
      ],
      "text/plain": [
       "{x₁: 640, x₂: 0}"
      ]
     },
     "metadata": {},
     "output_type": "display_data"
    },
    {
     "data": {
      "text/plain": [
       "'g2[ 0,x2]'"
      ]
     },
     "metadata": {},
     "output_type": "display_data"
    },
    {
     "data": {
      "image/png": "[encoded data removed]",
      "text/latex": [
       "$\\displaystyle \\left\\{ x_{1} : 0, \\  x_{2} : 800\\right\\}$"
      ],
      "text/plain": [
       "{x₁: 0, x₂: 800}"
      ]
     },
     "metadata": {},
     "output_type": "display_data"
    },
    {
     "data": {
      "text/plain": [
       "'g3[x1, 0]'"
      ]
     },
     "metadata": {},
     "output_type": "display_data"
    },
    {
     "data": {
      "image/png": "[encoded data removed]",
      "text/latex": [
       "$\\displaystyle \\left\\{ x_{1} : 900, \\  x_{2} : 0\\right\\}$"
      ],
      "text/plain": [
       "{x₁: 900, x₂: 0}"
      ]
     },
     "metadata": {},
     "output_type": "display_data"
    },
    {
     "data": {
      "text/plain": [
       "'g4[ 0,x2]'"
      ]
     },
     "metadata": {},
     "output_type": "display_data"
    },
    {
     "data": {
      "image/png": "[encoded data removed]",
      "text/latex": [
       "$\\displaystyle \\left\\{ x_{1} : 0, \\  x_{2} : 700\\right\\}$"
      ],
      "text/plain": [
       "{x₁: 0, x₂: 700}"
      ]
     },
     "metadata": {},
     "output_type": "display_data"
    }
   ],
   "source": [
    "d =40800\n",
    "b1= 1000\n",
    "b2= 3200\n",
    "b3=  900\n",
    "b4=  700\n",
    "\n",
    "z =60*x1+90*x2- d\n",
    "g1= 1*x1+ 2*x2-b1\n",
    "g2= 5*x1+ 4*x2-b2\n",
    "g3= 1*x1+ 0*x2-b3\n",
    "g4= 0*x1+ 1*x2-b4\n",
    "\n",
    "# GRADIENTS & DIRECTIONS\n",
    "delz =np.array([60,90])\n",
    "delg1=np.array([ 1, 2]); dg1=np.array([ 2,-1])\n",
    "delg2=np.array([ 5, 4]); dg2=np.array([-4, 5])\n",
    "delg3=np.array([ 1, 0]); dg3=np.array([ 0, 1])\n",
    "delg4=np.array([ 0, 1]); dg4=np.array([ 1, 0])\n",
    "\n",
    "# UNIT DIRECTION VECTORS\n",
    "udg1=dg1/np.sqrt(dg1[0]**2+dg1[1]**2)\n",
    "udg2=dg2/np.sqrt(dg2[0]**2+dg2[1]**2)\n",
    "udg3=dg3/np.sqrt(dg3[0]**2+dg3[1]**2)\n",
    "udg4=dg4/np.sqrt(dg4[0]**2+dg4[1]**2)\n",
    "\n",
    "print(f\"{delz.dot(dg1):>3}\")\n",
    "print(f\"{delz.dot(dg2):>3}\")\n",
    "print(f\"{delz.dot(dg3):>3}\")\n",
    "print(f\"{delz.dot(dg4):>3}\")\n",
    "\n",
    "# LINES & INTERSECTIONS\n",
    "display(\n",
    "'LINES',\n",
    "'g1',solve(g1,x2,dict=True)[0],\n",
    "'g2',solve(g2,x2,dict=True)[0],\n",
    "#'g3',solve(g3,x2,dict=True)[0],\n",
    "'g4',solve(g4,x2,dict=True)[0],\n",
    ")\n",
    "\n",
    "display(\n",
    "reduce_inequalities(g1<=0,[x2]),\n",
    "reduce_inequalities(g2<=0,[x2]),\n",
    "reduce_inequalities(g3<=0,[x2]),\n",
    "reduce_inequalities(g4<=0,[x2]),\n",
    ")\n",
    "\n",
    "display(\n",
    "'INTERSECTIONS',\n",
    "'g1=g2',   solve([g1,g2],  [x1,x2],dict=True)[0],\n",
    "'g1=g3',   solve([g1,g3],  [x1,x2],dict=True)[0],\n",
    "'g1=g4',   solve([g1,g4],  [x1,x2],dict=True)[0],\n",
    "'g2=g3',   solve([g2,g3],  [x1,x2],dict=True)[0],\n",
    "'g2=g4',   solve([g2,g4],  [x1,x2],dict=True)[0],\n",
    "'g3=g4',   solve([g3,g4],  [x1,x2],dict=True)[0],\n",
    "'g1[ 0,x2]',solve([g1,x1  ],[x1,x2],dict=True)[0],\n",
    "'g2[x1, 0]',solve([g2,x2  ],[x1,x2],dict=True)[0],\n",
    "'g2[ 0,x2]',solve([g2,x1  ],[x1,x2],dict=True)[0],\n",
    "'g3[x1, 0]',solve([g3,x2  ],[x1,x2],dict=True)[0],\n",
    "'g4[ 0,x2]',solve([g4,x1  ],[x1,x2],dict=True)[0],\n",
    ")"
   ]
  },
  {
   "cell_type": "markdown",
   "metadata": {},
   "source": [
    "---"
   ]
  },
  {
   "attachments": {},
   "cell_type": "markdown",
   "metadata": {},
   "source": [
    "## Dual LP"
   ]
  },
  {
   "cell_type": "markdown",
   "metadata": {},
   "source": [
    "$\n",
    "\\boxed{\n",
    "\\text{LP}=\n",
    "\\begin{aligned}\n",
    "\\max z(\\mathbf{x})&=\\mathbf{cx}+d\n",
    "\\\\\n",
    "\\mathbf{Ax}&\\le\\mathbf{b}\n",
    "\\\\\n",
    "\\mathbf{x}&\\ge\\mathbf{0}\n",
    "\\end{aligned}\n",
    "\\overset{\\text{dual to}}{\\iff}\n",
    "\\begin{aligned}\n",
    "\\min w(\\mathbf{y})&=\\mathbf{yb}+d\n",
    "\\\\\n",
    "\\mathbf{yA}&\\ge\\mathbf{c}\n",
    "\\\\\n",
    "\\mathbf{y}&\\ge\\mathbf{0}\n",
    "\\end{aligned}\n",
    "=\\text{LP}^*\n",
    "}\n",
    "$"
   ]
  },
  {
   "attachments": {},
   "cell_type": "markdown",
   "metadata": {},
   "source": [
    "<div class=\"full-width\">\n",
    "\n",
    "$\n",
    "\\text{LP}=\n",
    "\\begin{aligned}\n",
    "\\max z(\\mathbf{x})&=60x_1+90x_2-40800\n",
    "\\\\\n",
    "g_1(\\mathbf{x})&=x_1+2x_2\\le1000=b_1\n",
    "\\\\\n",
    "g_2(\\mathbf{x})&=5x_1+4x_2\\le3200=b_2\n",
    "\\\\\n",
    "g_3(\\mathbf{x})&=x_1\\le900=b_3\n",
    "\\\\\n",
    "g_4(\\mathbf{x})&=x_2\\le700=b_4\n",
    "\\\\\n",
    "\\mathbf{x}&\\ge\\mathbf{0}\n",
    "\\end{aligned}\n",
    "\\overset{\\text{dual to}}{\\iff}\n",
    "\\begin{aligned}\n",
    "\\min w(\\mathbf{y})&=1000y_1+3200y_2+900y_3+700y_4-40800          \\\\\n",
    "   h_1(\\mathbf{y})&=    y_1+   5y_2+   y_3              \\ge60=c_1\\\\\n",
    "   h_2(\\mathbf{y})&=   2y_1+   4y_2+          y_4       \\ge90=c_2\\\\\n",
    "       \\mathbf{y}&\\ge\\mathbf{0}\n",
    "\\end{aligned}\n",
    "=\\text{LP}^*\n",
    "$\n",
    "\n",
    "</div>"
   ]
  },
  {
   "attachments": {},
   "cell_type": "markdown",
   "metadata": {},
   "source": [
    "---"
   ]
  },
  {
   "cell_type": "markdown",
   "metadata": {},
   "source": [
    "## Simplex Algorithm"
   ]
  },
  {
   "cell_type": "code",
   "execution_count": 4,
   "metadata": {
    "tags": [
     "hide-input"
    ]
   },
   "outputs": [
    {
     "data": {
      "text/plain": [
       "'ROW'"
      ]
     },
     "metadata": {},
     "output_type": "display_data"
    },
    {
     "data": {
      "text/latex": [
       "$\\displaystyle rA = \\left[\\begin{matrix}c & x_{1} & x_{2} & 1 & r\\\\y_{1} & -1 & -2 & 1000 & s_{1}\\\\y_{2} & -5 & -4 & 3200 & s_{2}\\\\y_{3} & -1 & 0 & 900 & s_{3}\\\\y_{4} & 0 & -1 & 700 & s_{4}\\\\-1 & -60 & -90 & 40800 & - z\\\\c & - v_{1} & - v_{2} & w & r\\end{matrix}\\right]\\,\\,\\,\\,\\,x_1=x_2=0$"
      ],
      "text/plain": [
       "<IPython.core.display.Math object>"
      ]
     },
     "metadata": {},
     "output_type": "display_data"
    },
    {
     "data": {
      "text/latex": [
       "$\\displaystyle rB = \\left[\\begin{matrix}c & s_{2} & x_{2} & 1 & r\\\\y_{1} & \\frac{1}{5} & - \\frac{6}{5} & 360 & s_{1}\\\\v_{1} & - \\frac{1}{5} & - \\frac{4}{5} & 640 & x_{1}\\\\y_{3} & \\frac{1}{5} & \\frac{4}{5} & 260 & s_{3}\\\\y_{4} & 0 & -1 & 700 & s_{4}\\\\-1 & 12 & -42 & 2400 & - z\\\\c & - y_{2} & - v_{2} & w & r\\end{matrix}\\right]\\,\\,\\,\\,\\,x_2=s_2=0$"
      ],
      "text/plain": [
       "<IPython.core.display.Math object>"
      ]
     },
     "metadata": {},
     "output_type": "display_data"
    },
    {
     "data": {
      "text/latex": [
       "$\\displaystyle rC = \\left[\\begin{matrix}c & s_{2} & s_{1} & 1 & r\\\\v_{2} & \\frac{1}{6} & - \\frac{5}{6} & 300 & x_{2}\\\\v_{1} & - \\frac{1}{3} & \\frac{2}{3} & 400 & x_{1}\\\\y_{3} & \\frac{1}{3} & - \\frac{2}{3} & 500 & s_{3}\\\\y_{4} & - \\frac{1}{6} & \\frac{5}{6} & 400 & s_{4}\\\\-1 & 5 & 35 & -10200 & - z\\\\c & - y_{2} & - y_{1} & w & r\\end{matrix}\\right]\\,\\,\\,\\,\\,s_1=s_2=0$"
      ],
      "text/plain": [
       "<IPython.core.display.Math object>"
      ]
     },
     "metadata": {},
     "output_type": "display_data"
    },
    {
     "data": {
      "text/plain": [
       "'COLUMN'"
      ]
     },
     "metadata": {},
     "output_type": "display_data"
    },
    {
     "data": {
      "text/latex": [
       "$\\displaystyle cA = \\left[\\begin{matrix}c & y_{1} & y_{2} & y_{3} & y_{4} & 1 & r\\\\x_{1} & 1 & 5 & 1 & 0 & -60 & v_{1}\\\\x_{2} & 2 & 4 & 0 & 1 & -90 & v_{2}\\\\-1 & 1000 & 3200 & 900 & 700 & -40800 & w\\\\c & - s_{1} & - s_{2} & - s_{3} & - s_{4} & - z & r\\end{matrix}\\right]\\,\\,\\,\\,\\,x_1=x_2=0$"
      ],
      "text/plain": [
       "<IPython.core.display.Math object>"
      ]
     },
     "metadata": {},
     "output_type": "display_data"
    },
    {
     "data": {
      "text/latex": [
       "$\\displaystyle cB = \\left[\\begin{matrix}c & v_{2} & y_{2} & y_{3} & y_{4} & 1 & r\\\\x_{1} & \\frac{1}{2} & 3 & 1 & - \\frac{1}{2} & -15 & v_{1}\\\\s_{1} & \\frac{1}{2} & -2 & 0 & - \\frac{1}{2} & 45 & y_{1}\\\\-1 & 500 & 1200 & 900 & 200 & 4200 & w\\\\c & - x_{2} & - s_{2} & - s_{3} & - s_{4} & - z & r\\end{matrix}\\right]\\,\\,\\,\\,\\,x_1=s_1=0$"
      ],
      "text/plain": [
       "<IPython.core.display.Math object>"
      ]
     },
     "metadata": {},
     "output_type": "display_data"
    },
    {
     "data": {
      "text/latex": [
       "$\\displaystyle cC = \\left[\\begin{matrix}c & v_{2} & v_{1} & y_{3} & y_{4} & 1 & r\\\\s_{2} & - \\frac{1}{6} & \\frac{1}{3} & - \\frac{1}{3} & \\frac{1}{6} & 5 & y_{2}\\\\s_{1} & \\frac{5}{6} & - \\frac{2}{3} & \\frac{2}{3} & - \\frac{5}{6} & 35 & y_{1}\\\\-1 & 300 & 400 & 500 & 400 & 10200 & w\\\\c & - x_{2} & - x_{1} & - s_{3} & - s_{4} & - z & r\\end{matrix}\\right]\\,\\,\\,\\,\\,s_1=s_2=0$"
      ],
      "text/plain": [
       "<IPython.core.display.Math object>"
      ]
     },
     "metadata": {},
     "output_type": "display_data"
    }
   ],
   "source": [
    "def pivot (iStar,jStar,tab):\n",
    "  nRows =tab.shape[0]-1\n",
    "  nCols =tab.shape[1]-1\n",
    "  newTab=tab[:,:]\n",
    "\n",
    "  newTab[0,jStar]    =tab[iStar,nCols]\n",
    "  newTab[iStar,nCols]=tab[0,jStar]\n",
    "  newTab[iStar,0]    =-tab[nRows,jStar]\n",
    "  newTab[nRows,jStar]=-tab[iStar,0]\n",
    "  \n",
    "  for i in range(1,nRows):\n",
    "    for j in range(1,nCols):\n",
    "      if   i==iStar and j==jStar:\n",
    "        newTab[i,j]=1/tab[iStar,jStar]\n",
    "      elif i==iStar and j!=jStar:\n",
    "        newTab[i,j]=-tab[i,j]/tab[iStar,jStar]\n",
    "      elif i!=iStar and j==jStar:\n",
    "        newTab[i,j]= tab[i,j]/tab[iStar,jStar]\n",
    "      elif i!=iStar and j!=jStar:\n",
    "        newTab[i,j]= tab[i,j]-tab[iStar,j]*tab[i,jStar]/tab[iStar,jStar]\n",
    "  return newTab\n",
    "\n",
    "p1 =28\n",
    "p2 = 4\n",
    "\n",
    "db1=0\n",
    "db2=0\n",
    "db3=0\n",
    "db4=0\n",
    "\n",
    "rA = Matrix([\n",
    "  [ 'c', 'x1',  'x2',     1, 'r'],\n",
    "  ['y1',   -1,    -2,b1+db1,'s1'],\n",
    "  ['y2',   -5,    -4,b2+db2,'s2'],\n",
    "  ['y3',   -1,     0,b3+db3,'s3'],\n",
    "  ['y4',    0,    -1,b4+db4,'s4'],\n",
    "  [  -1,  -60,   -90,     d,'-z'],\n",
    "  [ 'c','-v1', '-v2',   'w', 'r'],\n",
    "])\n",
    "rB = pivot(2,1,rA)\n",
    "rC = pivot(1,2,rB)\n",
    "\n",
    "cA = Matrix([\n",
    "  [ 'c',  'y1',  'y2',  'y3',  'y4',   1, 'r'],\n",
    "  ['x1',     1,     5,     1,     0, -60,'v1'],\n",
    "  ['x2',     2,     4,     0,     1, -90,'v2'],\n",
    "  [  -1,b1+db1,b2+db2,b3+db3,b4+db4,  -d, 'w'],\n",
    "  [ 'c', '-s1', '-s2', '-s3', '-s4','-z', 'r'],\n",
    "])\n",
    "cB = pivot(2,1,cA)\n",
    "cC = pivot(1,2,cB)\n",
    "\n",
    "display(\n",
    "  'ROW',\n",
    "  Math(fr'rA = {latex(rA)}\\,\\,\\,\\,\\,x_1=x_2=0'),\n",
    "  Math(fr'rB = {latex(rB)}\\,\\,\\,\\,\\,x_2=s_2=0'),\n",
    "  Math(fr'rC = {latex(rC)}\\,\\,\\,\\,\\,s_1=s_2=0'),\n",
    "  'COLUMN',\n",
    "  Math(fr'cA = {latex(cA)}\\,\\,\\,\\,\\,x_1=x_2=0'),\n",
    "  Math(fr'cB = {latex(cB)}\\,\\,\\,\\,\\,x_1=s_1=0'),\n",
    "  Math(fr'cC = {latex(cC)}\\,\\,\\,\\,\\,s_1=s_2=0'),\n",
    ")"
   ]
  },
  {
   "cell_type": "code",
   "execution_count": 5,
   "metadata": {},
   "outputs": [
    {
     "name": "stdout",
     "output_type": "stream",
     "text": [
      "xStar =  (400, 300)\n",
      "zStar = $10,200.00 = wStar\n",
      "yStar =  (35, 5, 0, 0)\n"
     ]
    }
   ],
   "source": [
    "xStar = (400,300)\n",
    "zStar = z.subs([(x1,xStar[0]),(x2,xStar[1])])\n",
    "yStar = (35,5,0,0)\n",
    "\n",
    "print(f\"xStar =  {xStar}\")\n",
    "print(f\"zStar = ${int(zStar):,.2f} = wStar\")\n",
    "print(f\"yStar =  {yStar}\")"
   ]
  },
  {
   "cell_type": "markdown",
   "metadata": {},
   "source": [
    "---"
   ]
  },
  {
   "attachments": {},
   "cell_type": "markdown",
   "metadata": {},
   "source": [
    "## Graphical"
   ]
  },
  {
   "cell_type": "code",
   "execution_count": 6,
   "metadata": {
    "tags": [
     "hide-input",
     "full-width"
    ]
   },
   "outputs": [
    {
     "data": {
      "image/png": "[encoded data removed]",
      "text/plain": [
       "<Figure size 1280x960 with 1 Axes>"
      ]
     },
     "metadata": {},
     "output_type": "display_data"
    }
   ],
   "source": [
    "s =1000\n",
    "x =np.linspace(0,s,10001)\n",
    "\n",
    "# LINES\n",
    "y1=-(1/2)*x+500\n",
    "y2=-(5/4)*x+800\n",
    "#y3\n",
    "y4= (  0)*x+700\n",
    "\n",
    "fig=plt.figure(dpi=200);\n",
    "ax =plt.subplot();\n",
    "ax.set_aspect(1);\n",
    "\n",
    "# LINES\n",
    "ax.plot   (x,y1,label='g1=b1',linewidth=0.5,color='blue');\n",
    "ax.plot   (x,y2,label='g2=b2',linewidth=0.5,color='yellow');\n",
    "ax.axvline( 900,label='g3=b3',linewidth=0.5,color='green');\n",
    "ax.plot   (x,y4,label='g4=b4',linewidth=0.5,color='red');\n",
    "\n",
    "# delz\n",
    "ax.arrow(200,200,*unitVector(  delz)*75,color='black', width=0.01,head_width=10,length_includes_head=True);\n",
    "# FEASIBLE SIDES <=\n",
    "ax.arrow(200,200,*unitVector(-delg1)*75,color='blue',  width=0.01,head_width=10,length_includes_head=True);\n",
    "ax.arrow(200,200,*unitVector(-delg2)*75,color='yellow',width=0.01,head_width=10,length_includes_head=True);\n",
    "ax.arrow(200,200,*unitVector(-delg3)*75,color='green', width=0.01,head_width=10,length_includes_head=True);\n",
    "ax.arrow(200,200,*unitVector(-delg4)*75,color='red',   width=0.01,head_width=10,length_includes_head=True);\n",
    "\n",
    "# DIRECTIONS\n",
    "ax.arrow(  0,500,*udg1*75,width=5,head_width=20,length_includes_head=True,color='blue');\n",
    "ax.arrow(640,  0,*udg2*75,width=5,head_width=20,length_includes_head=True,color='yellow');\n",
    "ax.arrow(900,  0,*udg3*75,width=5,head_width=20,length_includes_head=True,color='green');\n",
    "ax.arrow(  0,700,*udg4*75,width=5,head_width=20,length_includes_head=True,color='red');\n",
    "\n",
    "fx,fy=np.meshgrid(x,x)\n",
    "plt.imshow(\n",
    "  (\n",
    "      (fy<=-(1/2)*fx+500)\n",
    "    & (fy<=-(5/4)*fx+800)\n",
    "    & (fy<= (  0)*fx+700)\n",
    "  ).astype(int),\n",
    "  extent=(fx.min(),fx.max(),fy.min(),fy.max()),\n",
    "  origin='lower',\n",
    "  cmap  ='Greys',\n",
    "  alpha =0.3,\n",
    ");\n",
    "\n",
    "ax.set_xlim(0,s);\n",
    "ax.set_ylim(0,s);\n",
    "ax.legend();\n",
    "\n",
    "# xStar\n",
    "ax.scatter(400,300,s=1e2,color='purple');\n",
    "\n",
    "sol=(\n",
    "  r'\\begin{eqnarray*}'\n",
    "  r'x^*&=&(400,300)'\n",
    "  r'\\\\'\n",
    "  r'z^*&=&10200=w^*'\n",
    "  r'\\\\'\n",
    "  r'y^*&=&(35,5,0,0)'\n",
    "  r'\\end{eqnarray*}'\n",
    ")\n",
    "ax.text(400,600,sol,fontsize=10);\n",
    "\n",
    "# SIMPLEX\n",
    "dx,dy=20,20\n",
    "ax.annotate( '$A$',(  0+dx,  0+dy));\n",
    "ax.annotate('$rB$',(640+dx,  0+dy));\n",
    "ax.annotate('$cB$',(  0+dx,500+dy));\n",
    "ax.annotate( '$C$',(400+dx,300+dy));"
   ]
  },
  {
   "attachments": {},
   "cell_type": "markdown",
   "metadata": {},
   "source": [
    "---"
   ]
  },
  {
   "attachments": {},
   "cell_type": "markdown",
   "metadata": {},
   "source": [
    "## Should the company buy more material?"
   ]
  },
  {
   "cell_type": "code",
   "execution_count": 7,
   "metadata": {},
   "outputs": [
    {
     "name": "stdout",
     "output_type": "stream",
     "text": [
      "xStar =  (400, 300)\n",
      "zStar = $10,200.00 = wStar\n",
      "yStar =  (35, 5, 0, 0)\n"
     ]
    }
   ],
   "source": [
    "print(f\"xStar =  {xStar}\")\n",
    "print(f\"zStar = ${int(zStar):,.2f} = wStar\")\n",
    "print(f\"yStar =  {yStar}\")"
   ]
  },
  {
   "cell_type": "code",
   "execution_count": 8,
   "metadata": {},
   "outputs": [
    {
     "data": {
      "image/png": "[encoded data removed]",
      "text/latex": [
       "$\\displaystyle 0.25$"
      ],
      "text/plain": [
       "0.25"
      ]
     },
     "metadata": {},
     "output_type": "display_data"
    },
    {
     "data": {
      "image/png": "[encoded data removed]",
      "text/latex": [
       "$\\displaystyle 0.25$"
      ],
      "text/plain": [
       "0.25"
      ]
     },
     "metadata": {},
     "output_type": "display_data"
    },
    {
     "data": {
      "image/png": "[encoded data removed]",
      "text/latex": [
       "$\\displaystyle 1500$"
      ],
      "text/plain": [
       "1500"
      ]
     },
     "metadata": {},
     "output_type": "display_data"
    },
    {
     "data": {
      "image/png": "[encoded data removed]",
      "text/latex": [
       "$\\displaystyle 1500$"
      ],
      "text/plain": [
       "1500"
      ]
     },
     "metadata": {},
     "output_type": "display_data"
    },
    {
     "data": {
      "image/png": "[encoded data removed]",
      "text/latex": [
       "$\\displaystyle 11700$"
      ],
      "text/plain": [
       "11700"
      ]
     },
     "metadata": {},
     "output_type": "display_data"
    },
    {
     "data": {
      "image/png": "[encoded data removed]",
      "text/latex": [
       "$\\displaystyle 6000$"
      ],
      "text/plain": [
       "6000"
      ]
     },
     "metadata": {},
     "output_type": "display_data"
    }
   ],
   "source": [
    "ROI1=(yStar[0]-p1)/p1\n",
    "ROI2=(yStar[1]-p2)/p2\n",
    "\n",
    "db2   =g2.subs([(x1,900),(x2,50)])\n",
    "dzStar=(yStar[1]-p2)*db2\n",
    "\n",
    "r2cost=p2*db2\n",
    "\n",
    "display(\n",
    "  ROI1,\n",
    "  ROI2,\n",
    "  db2,\n",
    "  dzStar,\n",
    "  zStar+dzStar,\n",
    "  r2cost,\n",
    ")"
   ]
  },
  {
   "cell_type": "code",
   "execution_count": 9,
   "metadata": {
    "tags": [
     "hide-input"
    ]
   },
   "outputs": [
    {
     "data": {
      "text/plain": [
       "'ROW'"
      ]
     },
     "metadata": {},
     "output_type": "display_data"
    },
    {
     "data": {
      "text/latex": [
       "$\\displaystyle db = (0,1500,0,0)\\,\\,\\,rA = \\left[\\begin{matrix}c & x_{1} & x_{2} & 1 & r\\\\y_{1} & -1 & -2 & 1000 & s_{1}\\\\y_{2} & -5 & -4 & 4700 & s_{2}\\\\y_{3} & -1 & 0 & 900 & s_{3}\\\\y_{4} & 0 & -1 & 700 & s_{4}\\\\-1 & -60 & -90 & 46800 & - z\\\\c & - v_{1} & - v_{2} & w & r\\end{matrix}\\right]\\,\\,\\,\\,\\,x_1=x_2=0$"
      ],
      "text/plain": [
       "<IPython.core.display.Math object>"
      ]
     },
     "metadata": {},
     "output_type": "display_data"
    },
    {
     "data": {
      "text/latex": [
       "$\\displaystyle db = (0,1500,0,0)\\,\\,\\,rB = \\left[\\begin{matrix}c & s_{2} & x_{2} & 1 & r\\\\y_{1} & \\frac{1}{5} & - \\frac{6}{5} & 60 & s_{1}\\\\v_{1} & - \\frac{1}{5} & - \\frac{4}{5} & 940 & x_{1}\\\\y_{3} & \\frac{1}{5} & \\frac{4}{5} & -40 & s_{3}\\\\y_{4} & 0 & -1 & 700 & s_{4}\\\\-1 & 12 & -42 & -9600 & - z\\\\c & - y_{2} & - v_{2} & w & r\\end{matrix}\\right]\\,\\,\\,\\,\\,x_2=s_2=0$"
      ],
      "text/plain": [
       "<IPython.core.display.Math object>"
      ]
     },
     "metadata": {},
     "output_type": "display_data"
    },
    {
     "data": {
      "text/latex": [
       "$\\displaystyle db = (0,1500,0,0)\\,\\,\\,rC = \\left[\\begin{matrix}c & s_{2} & s_{1} & 1 & r\\\\v_{2} & \\frac{1}{6} & - \\frac{5}{6} & 50 & x_{2}\\\\v_{1} & - \\frac{1}{3} & \\frac{2}{3} & 900 & x_{1}\\\\y_{3} & \\frac{1}{3} & - \\frac{2}{3} & 0 & s_{3}\\\\y_{4} & - \\frac{1}{6} & \\frac{5}{6} & 650 & s_{4}\\\\-1 & 5 & 35 & -11700 & - z\\\\c & - y_{2} & - y_{1} & w & r\\end{matrix}\\right]\\,\\,\\,\\,\\,s_1=s_2=0$"
      ],
      "text/plain": [
       "<IPython.core.display.Math object>"
      ]
     },
     "metadata": {},
     "output_type": "display_data"
    },
    {
     "data": {
      "text/latex": [
       "$\\displaystyle db = (0,1500,0,0)\\,\\,\\,rD = \\left[\\begin{matrix}c & s_{3} & s_{1} & 1 & r\\\\v_{2} & \\frac{1}{2} & - \\frac{1}{2} & 50 & x_{2}\\\\v_{1} & -1 & 0 & 900 & x_{1}\\\\y_{2} & 3 & 2 & 0 & s_{2}\\\\y_{4} & - \\frac{1}{2} & \\frac{1}{2} & 650 & s_{4}\\\\-1 & 15 & 45 & -11700 & - z\\\\c & - y_{3} & - y_{1} & w & r\\end{matrix}\\right]\\,\\,\\,\\,\\,s_1=s_3=0$"
      ],
      "text/plain": [
       "<IPython.core.display.Math object>"
      ]
     },
     "metadata": {},
     "output_type": "display_data"
    },
    {
     "data": {
      "text/plain": [
       "'COLUMN'"
      ]
     },
     "metadata": {},
     "output_type": "display_data"
    },
    {
     "data": {
      "text/latex": [
       "$\\displaystyle db = (0,1500,0,0)\\,\\,\\,cA = \\left[\\begin{matrix}c & y_{1} & y_{2} & y_{3} & y_{4} & 1 & r\\\\x_{1} & 1 & 5 & 1 & 0 & -60 & v_{1}\\\\x_{2} & 2 & 4 & 0 & 1 & -90 & v_{2}\\\\-1 & 1000 & 4700 & 900 & 700 & -46800 & w\\\\c & - s_{1} & - s_{2} & - s_{3} & - s_{4} & - z & r\\end{matrix}\\right]\\,\\,\\,\\,\\,x_1=x_2=0$"
      ],
      "text/plain": [
       "<IPython.core.display.Math object>"
      ]
     },
     "metadata": {},
     "output_type": "display_data"
    },
    {
     "data": {
      "text/latex": [
       "$\\displaystyle db = (0,1500,0,0)\\,\\,\\,cB = \\left[\\begin{matrix}c & v_{2} & y_{2} & y_{3} & y_{4} & 1 & r\\\\x_{1} & \\frac{1}{2} & 3 & 1 & - \\frac{1}{2} & -15 & v_{1}\\\\s_{1} & \\frac{1}{2} & -2 & 0 & - \\frac{1}{2} & 45 & y_{1}\\\\-1 & 500 & 2700 & 900 & 200 & -1800 & w\\\\c & - x_{2} & - s_{2} & - s_{3} & - s_{4} & - z & r\\end{matrix}\\right]\\,\\,\\,\\,\\,x_1=s_1=0$"
      ],
      "text/plain": [
       "<IPython.core.display.Math object>"
      ]
     },
     "metadata": {},
     "output_type": "display_data"
    },
    {
     "data": {
      "text/latex": [
       "$\\displaystyle db = (0,1500,0,0)\\,\\,\\,cC = \\left[\\begin{matrix}c & v_{2} & v_{1} & y_{3} & y_{4} & 1 & r\\\\s_{2} & - \\frac{1}{6} & \\frac{1}{3} & - \\frac{1}{3} & \\frac{1}{6} & 5 & y_{2}\\\\s_{1} & \\frac{5}{6} & - \\frac{2}{3} & \\frac{2}{3} & - \\frac{5}{6} & 35 & y_{1}\\\\-1 & 50 & 900 & 0 & 650 & 11700 & w\\\\c & - x_{2} & - x_{1} & - s_{3} & - s_{4} & - z & r\\end{matrix}\\right]\\,\\,\\,\\,\\,s_1=s_2=0$"
      ],
      "text/plain": [
       "<IPython.core.display.Math object>"
      ]
     },
     "metadata": {},
     "output_type": "display_data"
    },
    {
     "data": {
      "text/latex": [
       "$\\displaystyle db = (0,1500,0,0)\\,\\,\\,cD = \\left[\\begin{matrix}c & v_{2} & v_{1} & y_{2} & y_{4} & 1 & r\\\\s_{3} & - \\frac{1}{2} & 1 & -3 & \\frac{1}{2} & 15 & y_{3}\\\\s_{1} & \\frac{1}{2} & 0 & -2 & - \\frac{1}{2} & 45 & y_{1}\\\\-1 & 50 & 900 & 0 & 650 & 11700 & w\\\\c & - x_{2} & - x_{1} & - s_{2} & - s_{4} & - z & r\\end{matrix}\\right]\\,\\,\\,\\,\\,s_1=s_3=0$"
      ],
      "text/plain": [
       "<IPython.core.display.Math object>"
      ]
     },
     "metadata": {},
     "output_type": "display_data"
    }
   ],
   "source": [
    "def pivot (iStar,jStar,tab):\n",
    "  nRows =tab.shape[0]-1\n",
    "  nCols =tab.shape[1]-1\n",
    "  newTab=tab[:,:]\n",
    "\n",
    "  newTab[0,jStar]    =tab[iStar,nCols]\n",
    "  newTab[iStar,nCols]=tab[0,jStar]\n",
    "  newTab[iStar,0]    =-tab[nRows,jStar]\n",
    "  newTab[nRows,jStar]=-tab[iStar,0]\n",
    "  \n",
    "  for i in range(1,nRows):\n",
    "    for j in range(1,nCols):\n",
    "      if   i==iStar and j==jStar:\n",
    "        newTab[i,j]=1/tab[iStar,jStar]\n",
    "      elif i==iStar and j!=jStar:\n",
    "        newTab[i,j]=-tab[i,j]/tab[iStar,jStar]\n",
    "      elif i!=iStar and j==jStar:\n",
    "        newTab[i,j]= tab[i,j]/tab[iStar,jStar]\n",
    "      elif i!=iStar and j!=jStar:\n",
    "        newTab[i,j]= tab[i,j]-tab[iStar,j]*tab[i,jStar]/tab[iStar,jStar]\n",
    "  return newTab\n",
    "\n",
    "p1 =28\n",
    "p2 = 4\n",
    "\n",
    "rA = Matrix([\n",
    "  [ 'c', 'x1',  'x2',       1, 'r'],\n",
    "  ['y1',   -1,    -2,  b1+db1,'s1'],\n",
    "  ['y2',   -5,    -4,  b2+db2,'s2'],\n",
    "  ['y3',   -1,     0,  b3+db3,'s3'],\n",
    "  ['y4',    0,    -1,  b4+db4,'s4'],\n",
    "  [  -1,  -60,   -90,d+r2cost,'-z'],\n",
    "  [ 'c','-v1', '-v2',     'w', 'r'],\n",
    "])\n",
    "rB = pivot(2,1,rA)\n",
    "rC = pivot(1,2,rB)\n",
    "rD = pivot(3,1,rC)\n",
    "\n",
    "cA = Matrix([\n",
    "  [ 'c',  'y1',  'y2',  'y3',  'y4',          1, 'r'],\n",
    "  ['x1',     1,     5,     1,     0,        -60,'v1'],\n",
    "  ['x2',     2,     4,     0,     1,        -90,'v2'],\n",
    "  [  -1,b1+db1,b2+db2,b3+db3,b4+db4,-(d+r2cost), 'w'],\n",
    "  [ 'c', '-s1', '-s2', '-s3', '-s4',       '-z', 'r'],\n",
    "])\n",
    "cB = pivot(2,1,cA)\n",
    "cC = pivot(1,2,cB)\n",
    "cD = pivot(1,3,cC)\n",
    "\n",
    "display(\n",
    "  'ROW',\n",
    "  Math(fr'db = ({db1},{db2},{db3},{db4})\\,\\,\\,rA = {latex(rA)}\\,\\,\\,\\,\\,x_1=x_2=0'),\n",
    "  Math(fr'db = ({db1},{db2},{db3},{db4})\\,\\,\\,rB = {latex(rB)}\\,\\,\\,\\,\\,x_2=s_2=0'),\n",
    "  Math(fr'db = ({db1},{db2},{db3},{db4})\\,\\,\\,rC = {latex(rC)}\\,\\,\\,\\,\\,s_1=s_2=0'),\n",
    "  Math(fr'db = ({db1},{db2},{db3},{db4})\\,\\,\\,rD = {latex(rD)}\\,\\,\\,\\,\\,s_1=s_3=0'),\n",
    "  'COLUMN',\n",
    "  Math(fr'db = ({db1},{db2},{db3},{db4})\\,\\,\\,cA = {latex(cA)}\\,\\,\\,\\,\\,x_1=x_2=0'),\n",
    "  Math(fr'db = ({db1},{db2},{db3},{db4})\\,\\,\\,cB = {latex(cB)}\\,\\,\\,\\,\\,x_1=s_1=0'),\n",
    "  Math(fr'db = ({db1},{db2},{db3},{db4})\\,\\,\\,cC = {latex(cC)}\\,\\,\\,\\,\\,s_1=s_2=0'),\n",
    "  Math(fr'db = ({db1},{db2},{db3},{db4})\\,\\,\\,cD = {latex(cD)}\\,\\,\\,\\,\\,s_1=s_3=0'),\n",
    ")"
   ]
  },
  {
   "cell_type": "code",
   "execution_count": 10,
   "metadata": {},
   "outputs": [
    {
     "name": "stdout",
     "output_type": "stream",
     "text": [
      "xStar =  (900, 50)\n",
      "zStar = $17,700.00 = wStar\n",
      "yStar =  (35, 5, 0, 0)\n",
      "yStar =  (45, 0, 15, 0)\n"
     ]
    }
   ],
   "source": [
    "xStar1  = (900,50)\n",
    "zStar1  = z.subs([(x1,xStar1[0]),(x2,xStar1[1])])\n",
    "ycStar1 = (35,5, 0,0)\n",
    "ydStar1 = (45,0,15,0)\n",
    "\n",
    "print(f\"xStar =  {xStar1}\")\n",
    "print(f\"zStar = ${int(zStar1):,.2f} = wStar\")\n",
    "print(f\"yStar =  {ycStar1}\")\n",
    "print(f\"yStar =  {ydStar1}\")"
   ]
  },
  {
   "cell_type": "code",
   "execution_count": 11,
   "metadata": {
    "tags": [
     "hide-input",
     "full-width"
    ]
   },
   "outputs": [
    {
     "data": {
      "image/png": "[encoded data removed]",
      "text/plain": [
       "<Figure size 3600x4800 with 2 Axes>"
      ]
     },
     "metadata": {},
     "output_type": "display_data"
    }
   ],
   "source": [
    "s =1000\n",
    "x =np.linspace(0,s,10001)\n",
    "\n",
    "# LINES\n",
    "y1=-(1/2)*x+500\n",
    "y2=-(5/4)*x+800\n",
    "#y3\n",
    "y4= (  0)*x+700\n",
    "\n",
    "fig=plt.figure(dpi=300,figsize=(12,16));\n",
    "ax =plt.subplot(131);\n",
    "ax.set_aspect(1);\n",
    "\n",
    "# LINES\n",
    "ax.plot   (x,y1,label='g1=b1',linewidth=0.5,color='blue');\n",
    "ax.plot   (x,y2,label='g2=b2',linewidth=0.5,color='yellow');\n",
    "ax.axvline( 900,label='g3=b3',linewidth=0.5,color='green');\n",
    "ax.plot   (x,y4,label='g4=b4',linewidth=0.5,color='red');\n",
    "\n",
    "# delz\n",
    "ax.arrow(200,200,*unitVector(  delz)*75,color='black', width=0.01,head_width=10,length_includes_head=True);\n",
    "# FEASIBLE SIDES <=\n",
    "ax.arrow(200,200,*unitVector(-delg1)*75,color='blue',  width=0.01,head_width=10,length_includes_head=True);\n",
    "ax.arrow(200,200,*unitVector(-delg2)*75,color='yellow',width=0.01,head_width=10,length_includes_head=True);\n",
    "ax.arrow(200,200,*unitVector(-delg3)*75,color='green', width=0.01,head_width=10,length_includes_head=True);\n",
    "ax.arrow(200,200,*unitVector(-delg4)*75,color='red',   width=0.01,head_width=10,length_includes_head=True);\n",
    "\n",
    "# DIRECTIONS\n",
    "ax.arrow(  0,500,*udg1*75,width=5,head_width=20,length_includes_head=True,color='blue');\n",
    "ax.arrow(640,  0,*udg2*75,width=5,head_width=20,length_includes_head=True,color='yellow');\n",
    "ax.arrow(900,  0,*udg3*75,width=5,head_width=20,length_includes_head=True,color='green');\n",
    "ax.arrow(  0,700,*udg4*75,width=5,head_width=20,length_includes_head=True,color='red');\n",
    "\n",
    "fx,fy=np.meshgrid(x,x)\n",
    "plt.imshow(\n",
    "  (\n",
    "      (fy<=-(1/2)*fx+500)\n",
    "    & (fy<=-(5/4)*fx+800)\n",
    "    & (fy<= (  0)*fx+700)\n",
    "  ).astype(int),\n",
    "  extent=(fx.min(),fx.max(),fy.min(),fy.max()),\n",
    "  origin='lower',\n",
    "  cmap  ='Greys',\n",
    "  alpha =0.3,\n",
    ");\n",
    "\n",
    "ax.set_xlim(0,s);\n",
    "ax.set_ylim(0,s);\n",
    "#ax.legend();\n",
    "\n",
    "# xStar\n",
    "ax.scatter(400,300,s=1e2,color='purple');\n",
    "\n",
    "xStar=(\n",
    "  r'\\begin{eqnarray*}'\n",
    "  r'x^*&=&(400,300)'\n",
    "  r'\\\\'\n",
    "  r'z^*&=&10200=w^*'\n",
    "  r'\\\\'\n",
    "  r'y^*&=&(35,5,0,0)'\n",
    "  r'\\end{eqnarray*}'\n",
    ")\n",
    "ax.text(400,600,xStar,fontsize=5);\n",
    "\n",
    "# SIMPLEX\n",
    "dx,dy=20,20\n",
    "ax.annotate( '$A$',(  0+dx,  0+dy));\n",
    "ax.annotate('$rB$',(640+dx,  0+dy));\n",
    "ax.annotate('$cB$',(  0+dx,500+dy));\n",
    "ax.annotate( '$C$',(400+dx,300+dy));\n",
    "\n",
    "##########\n",
    "\n",
    "ax2 =plt.subplot(132);\n",
    "ax2.set_aspect(1);\n",
    "\n",
    "# LINES\n",
    "ax2.plot   (x,y1,label='g1=b1',linewidth=0.5,color='blue');\n",
    "ax2.plot   (x,y2,label='g2=b2',linewidth=0.5,color='yellow',linestyle='--');\n",
    "ax2.plot   (x,-(5/4)*(x-900)+50,label='g2=b2',linewidth=0.5,color='yellow');\n",
    "ax2.axvline( 900,label='g3=b3',linewidth=0.5,color='green');\n",
    "ax2.plot   (x,y4,label='g4=b4',linewidth=0.5,color='red');\n",
    "\n",
    "# delz\n",
    "ax2.arrow(200,200,*unitVector(  delz)*75,color='black', width=0.01,head_width=10,length_includes_head=True);\n",
    "# FEASIBLE SIDES <=\n",
    "ax2.arrow(200,200,*unitVector(-delg1)*75,color='blue',  width=0.01,head_width=10,length_includes_head=True);\n",
    "ax2.arrow(200,200,*unitVector(-delg2)*75,color='yellow',width=0.01,head_width=10,length_includes_head=True);\n",
    "ax2.arrow(200,200,*unitVector(-delg3)*75,color='green', width=0.01,head_width=10,length_includes_head=True);\n",
    "ax2.arrow(200,200,*unitVector(-delg4)*75,color='red',   width=0.01,head_width=10,length_includes_head=True);\n",
    "\n",
    "# DIRECTIONS\n",
    "ax2.arrow(  0,500,*udg1*75,width=5,head_width=20,length_includes_head=True,color='blue');\n",
    "ax2.arrow(640,  0,*udg2*75,width=5,head_width=20,length_includes_head=True,color='yellow');\n",
    "ax2.arrow(900,  0,*udg3*75,width=5,head_width=20,length_includes_head=True,color='green');\n",
    "ax2.arrow(  0,700,*udg4*75,width=5,head_width=20,length_includes_head=True,color='red');\n",
    "\n",
    "fx,fy=np.meshgrid(x,x)\n",
    "plt.imshow(\n",
    "  (\n",
    "      (fy<=-(1/2)* fx+500)\n",
    "    & (fy<=-(5/4)*(fx-900)+50)\n",
    "    & (fx<=900)\n",
    "    & (fy<= (  0)* fx+700)\n",
    "  ).astype(int),\n",
    "  extent=(fx.min(),fx.max(),fy.min(),fy.max()),\n",
    "  origin='lower',\n",
    "  cmap  ='Greys',\n",
    "  alpha =0.3,\n",
    ");\n",
    "\n",
    "ax2.set_xlim(0,s);\n",
    "ax2.set_ylim(0,s);\n",
    "#ax.legend();\n",
    "\n",
    "# xStar\n",
    "ax2.scatter(900, 50,s=1e2,color='purple');\n",
    "\n",
    "xStar=(\n",
    "  r'\\begin{eqnarray*}'\n",
    "  r'x^*&=&(900, 50)'\n",
    "  r'\\\\'\n",
    "  r'z^*&=&11700=w^*'\n",
    "  r'\\\\'\n",
    "  r'yc^*&=&(35,5,0,0)'\n",
    "    r'\\\\'\n",
    "  r'yd^*&=&(45,0,15,0)'\n",
    "  r'\\end{eqnarray*}'\n",
    ")\n",
    "ax2.text(400,600,xStar,fontsize=5);\n",
    "\n",
    "# SIMPLEX\n",
    "dx,dy=20,20\n",
    "ax2.annotate( '$A$',(  0+dx,  0+dy));\n",
    "ax2.annotate('$rB$',(640+dx,  0+dy));\n",
    "ax2.annotate('$cB$',(  0+dx,500+dy));\n",
    "ax2.annotate( '$C$',(400+dx,300+dy));"
   ]
  },
  {
   "attachments": {},
   "cell_type": "markdown",
   "metadata": {},
   "source": [
    "---"
   ]
  },
  {
   "cell_type": "code",
   "execution_count": 57,
   "metadata": {
    "tags": [
     "full-width",
     "hide-input"
    ]
   },
   "outputs": [
    {
     "data": {
      "image/png": "[encoded data removed]",
      "text/plain": [
       "<Figure size 1600x1600 with 3 Axes>"
      ]
     },
     "metadata": {},
     "output_type": "display_data"
    }
   ],
   "source": [
    "s =1000\n",
    "x =np.linspace(0,s,10001)\n",
    "\n",
    "# LINES\n",
    "y1=-(1/2)*x+500\n",
    "y2=-(5/4)*x+800\n",
    "#y3\n",
    "y4= (  0)*x+700\n",
    "\n",
    "fig=plt.figure(figsize=(16,16));\n",
    "\n",
    "##########\n",
    "\n",
    "ax =plt.subplot(221);\n",
    "ax.set_aspect(1);\n",
    "\n",
    "# LINES\n",
    "ax.plot   (x,y1,label='g1=b1',linewidth=0.5,color='blue');\n",
    "ax.plot   (x,y2,label='g2=b2',linewidth=0.5,color='yellow');\n",
    "ax.axvline( 900,label='g3=b3',linewidth=0.5,color='green');\n",
    "ax.plot   (x,y4,label='g4=b4',linewidth=0.5,color='red');\n",
    "\n",
    "# delz\n",
    "ax.arrow(200,200,*unitVector(  delz)*75,color='black', width=0.01,head_width=10,length_includes_head=True);\n",
    "# FEASIBLE SIDES <=\n",
    "ax.arrow(200,200,*unitVector(-delg1)*75,color='blue',  width=0.01,head_width=10,length_includes_head=True);\n",
    "ax.arrow(200,200,*unitVector(-delg2)*75,color='yellow',width=0.01,head_width=10,length_includes_head=True);\n",
    "ax.arrow(200,200,*unitVector(-delg3)*75,color='green', width=0.01,head_width=10,length_includes_head=True);\n",
    "ax.arrow(200,200,*unitVector(-delg4)*75,color='red',   width=0.01,head_width=10,length_includes_head=True);\n",
    "\n",
    "# DIRECTIONS\n",
    "ax.arrow(  0,500,*udg1*75,width=5,head_width=20,length_includes_head=True,color='blue');\n",
    "ax.arrow(640,  0,*udg2*75,width=5,head_width=20,length_includes_head=True,color='yellow');\n",
    "ax.arrow(900,  0,*udg3*75,width=5,head_width=20,length_includes_head=True,color='green');\n",
    "ax.arrow(  0,700,*udg4*75,width=5,head_width=20,length_includes_head=True,color='red');\n",
    "\n",
    "fx,fy=np.meshgrid(x,x)\n",
    "plt.imshow(\n",
    "  (\n",
    "      (fy<=-(1/2)*fx+500)\n",
    "    & (fy<=-(5/4)*fx+800)\n",
    "    & (fy<= (  0)*fx+700)\n",
    "  ).astype(int),\n",
    "  extent=(fx.min(),fx.max(),fy.min(),fy.max()),\n",
    "  origin='lower',\n",
    "  cmap  ='Greys',\n",
    "  alpha =0.3,\n",
    ");\n",
    "\n",
    "ax.set_xlim(0,s);\n",
    "ax.set_ylim(0,s);\n",
    "#ax.legend();\n",
    "\n",
    "# xStar\n",
    "ax.scatter(400,300,s=1e2,color='purple');\n",
    "\n",
    "xStar=(\n",
    "  r'\\begin{eqnarray*}'\n",
    "  r'x^*&=&(400,300)'\n",
    "  r'\\\\'\n",
    "  r'z^*&=&10200=w^*'\n",
    "  r'\\\\'\n",
    "  r'y^*&=&(35,5,0,0)'\n",
    "  r'\\end{eqnarray*}'\n",
    ")\n",
    "ax.text(400,600,xStar,fontsize=5);\n",
    "\n",
    "# SIMPLEX\n",
    "dx,dy=20,20\n",
    "ax.annotate( '$A$',(  0+dx,  0+dy));\n",
    "ax.annotate('$rB$',(640+dx,  0+dy));\n",
    "ax.annotate('$cB$',(  0+dx,500+dy));\n",
    "ax.annotate( '$C$',(400+dx,300+dy));\n",
    "\n",
    "##########\n",
    "\n",
    "ax2 =plt.subplot(222);\n",
    "ax2.set_aspect(1);\n",
    "\n",
    "# LINES\n",
    "ax2.plot   (x,y1,label='g1=b1',linewidth=0.5,color='blue');\n",
    "ax2.plot   (x,y2,label='g2=b2',linewidth=0.5,color='yellow',linestyle='--');\n",
    "ax2.plot   (x,-(5/4)*(x-900)+50,label='g2=b2',linewidth=0.5,color='yellow');\n",
    "ax2.axvline( 900,label='g3=b3',linewidth=0.5,color='green');\n",
    "ax2.plot   (x,y4,label='g4=b4',linewidth=0.5,color='red');\n",
    "\n",
    "# delz\n",
    "ax2.arrow(200,200,*unitVector(  delz)*75,color='black', width=0.01,head_width=10,length_includes_head=True);\n",
    "# FEASIBLE SIDES <=\n",
    "ax2.arrow(200,200,*unitVector(-delg1)*75,color='blue',  width=0.01,head_width=10,length_includes_head=True);\n",
    "ax2.arrow(200,200,*unitVector(-delg2)*75,color='yellow',width=0.01,head_width=10,length_includes_head=True);\n",
    "ax2.arrow(200,200,*unitVector(-delg3)*75,color='green', width=0.01,head_width=10,length_includes_head=True);\n",
    "ax2.arrow(200,200,*unitVector(-delg4)*75,color='red',   width=0.01,head_width=10,length_includes_head=True);\n",
    "\n",
    "# DIRECTIONS\n",
    "ax2.arrow(  0,500,*udg1*75,width=5,head_width=20,length_includes_head=True,color='blue');\n",
    "ax2.arrow(640,  0,*udg2*75,width=5,head_width=20,length_includes_head=True,color='yellow');\n",
    "ax2.arrow(900,  0,*udg3*75,width=5,head_width=20,length_includes_head=True,color='green');\n",
    "ax2.arrow(  0,700,*udg4*75,width=5,head_width=20,length_includes_head=True,color='red');\n",
    "\n",
    "fx,fy=np.meshgrid(x,x)\n",
    "plt.imshow(\n",
    "  (\n",
    "      (fy<=-(1/2)* fx+500)\n",
    "    & (fy<=-(5/4)*(fx-900)+50)\n",
    "    & (fx<=900)\n",
    "    & (fy<= (  0)* fx+700)\n",
    "  ).astype(int),\n",
    "  extent=(fx.min(),fx.max(),fy.min(),fy.max()),\n",
    "  origin='lower',\n",
    "  cmap  ='Greys',\n",
    "  alpha =0.3,\n",
    ");\n",
    "\n",
    "ax2.set_xlim(0,s);\n",
    "ax2.set_ylim(0,s);\n",
    "#ax.legend();\n",
    "\n",
    "# xStar\n",
    "ax2.scatter(900, 50,s=1e2,color='purple');\n",
    "\n",
    "xStar=(\n",
    "  r'\\begin{eqnarray*}'\n",
    "  r'x^*&=&(900, 50)'\n",
    "  r'\\\\'\n",
    "  r'z^*&=&11700=w^*'\n",
    "  r'\\\\'\n",
    "  r'yc^*&=&(35,5,0,0)'\n",
    "  r'\\\\'\n",
    "  r'yd^*&=&(45,0,15,0)'\n",
    "  r'\\end{eqnarray*}'\n",
    ")\n",
    "ax2.text(400,600,xStar,fontsize=5);\n",
    "\n",
    "# SIMPLEX\n",
    "dx,dy=20,20\n",
    "ax2.annotate( '$A$',(  0+dx,  0+dy));\n",
    "ax2.annotate('$rB$',(640+dx,  0+dy));\n",
    "ax2.annotate('$cB$',(  0+dx,500+dy));\n",
    "ax2.annotate( '$C$',(400+dx,300+dy));\n",
    "\n",
    "##########\n",
    "\n",
    "ax2 =plt.subplot(223);\n",
    "ax2.set_aspect(1);\n",
    "\n",
    "# LINES\n",
    "ax2.plot   (x,y1,label='g1=b1',linewidth=0.8,color='blue',linestyle=(0,(5,10)));\n",
    "ax2.plot   (x,-(1/2)*(x-380)+700,label='g1=b1',linewidth=0.8,color='blue');\n",
    "ax2.plot   (x,y2,label='g2=b2',linewidth=0.8,color='yellow',linestyle=(0,(5,10)));\n",
    "ax2.plot   (x,-(5/4)*(x-900)+50,label='g2=b2',linewidth=0.8,color='yellow');\n",
    "ax2.axvline( 900,label='g3=b3',linewidth=0.5,color='green');\n",
    "ax2.plot   (x,y4,label='g4=b4',linewidth=0.5,color='red');\n",
    "\n",
    "# delz\n",
    "ax2.arrow(200,200,*unitVector(  delz)*75,color='black', width=0.01,head_width=10,length_includes_head=True);\n",
    "# FEASIBLE SIDES <=\n",
    "ax2.arrow(200,200,*unitVector(-delg1)*75,color='blue',  width=0.01,head_width=10,length_includes_head=True);\n",
    "ax2.arrow(200,200,*unitVector(-delg2)*75,color='yellow',width=0.01,head_width=10,length_includes_head=True);\n",
    "ax2.arrow(200,200,*unitVector(-delg3)*75,color='green', width=0.01,head_width=10,length_includes_head=True);\n",
    "ax2.arrow(200,200,*unitVector(-delg4)*75,color='red',   width=0.01,head_width=10,length_includes_head=True);\n",
    "\n",
    "# DIRECTIONS\n",
    "ax2.arrow(  0,500,*udg1*75,width=5,head_width=20,length_includes_head=True,color='blue');\n",
    "ax2.arrow(640,  0,*udg2*75,width=5,head_width=20,length_includes_head=True,color='yellow');\n",
    "ax2.arrow(900,  0,*udg3*75,width=5,head_width=20,length_includes_head=True,color='green');\n",
    "ax2.arrow(  0,700,*udg4*75,width=5,head_width=20,length_includes_head=True,color='red');\n",
    "\n",
    "fx,fy=np.meshgrid(x,x)\n",
    "plt.imshow(\n",
    "  (\n",
    "      (fy<=-(1/2)*(fx-380)+700)\n",
    "    & (fy<=-(5/4)*(fx-900)+50)\n",
    "    & (fx<=900)\n",
    "    & (fy<= (  0)* fx+700)\n",
    "  ).astype(int),\n",
    "  extent=(fx.min(),fx.max(),fy.min(),fy.max()),\n",
    "  origin='lower',\n",
    "  cmap  ='Greys',\n",
    "  alpha =0.3,\n",
    ");\n",
    "\n",
    "ax2.set_xlim(0,s);\n",
    "ax2.set_ylim(0,s);\n",
    "#ax.legend();\n",
    "\n",
    "# xStar\n",
    "ax2.scatter(380,700,s=1e2,color='purple');\n",
    "\n",
    "xStar=(\n",
    "  r'\\begin{eqnarray*}'\n",
    "  r'x^*&=&(900, 50)'\n",
    "  r'\\\\'\n",
    "  r'z^*&=&11700=w^*'\n",
    "  r'\\\\'\n",
    "  r'yc^*&=&(35,5,0,0)'\n",
    "  r'\\\\'\n",
    "  r'yd^*&=&(45,0,15,0)'\n",
    "  r'\\end{eqnarray*}'\n",
    ")\n",
    "ax2.text(400,600,xStar,fontsize=5);\n",
    "\n",
    "# SIMPLEX\n",
    "dx,dy=20,20\n",
    "ax2.annotate( '$A$',(  0+dx,  0+dy));\n",
    "ax2.annotate('$rB$',(640+dx,  0+dy));\n",
    "ax2.annotate('$cB$',(  0+dx,500+dy));\n",
    "ax2.annotate( '$C$',(400+dx,300+dy));"
   ]
  },
  {
   "cell_type": "code",
   "execution_count": 53,
   "metadata": {},
   "outputs": [
    {
     "data": {
      "image/png": "[encoded data removed]",
      "text/latex": [
       "$\\displaystyle 1175.0 - 1.25 x_{1}$"
      ],
      "text/plain": [
       "1175.0 - 1.25⋅x₁"
      ]
     },
     "metadata": {},
     "output_type": "display_data"
    },
    {
     "data": {
      "image/png": "[encoded data removed]",
      "text/latex": [
       "$\\displaystyle \\left\\{ x_{1} : 380.0, \\  x_{2} : 700.0\\right\\}$"
      ],
      "text/plain": [
       "{x₁: 380.0, x₂: 700.0}"
      ]
     },
     "metadata": {},
     "output_type": "display_data"
    }
   ],
   "source": [
    "y2p=-(5/4)*(x1-900)+50\n",
    "g2p= (5/4)*x1+x2-1175\n",
    "\n",
    "g1max=-(1/2)*(x1-380)+700\n",
    "\n",
    "display(\n",
    "y2p,\n",
    "solve([g2p,g4])\n",
    ")"
   ]
  },
  {
   "cell_type": "code",
   "execution_count": 45,
   "metadata": {},
   "outputs": [
    {
     "data": {
      "image/png": "[encoded data removed]",
      "text/latex": [
       "$\\displaystyle 890.0 - 0.5 x_{1}$"
      ],
      "text/plain": [
       "890.0 - 0.5⋅x₁"
      ]
     },
     "execution_count": 45,
     "metadata": {},
     "output_type": "execute_result"
    }
   ],
   "source": [
    "g1max"
   ]
  }
 ],
 "metadata": {
  "kernelspec": {
   "display_name": "main",
   "language": "python",
   "name": "python3"
  },
  "language_info": {
   "codemirror_mode": {
    "name": "ipython",
    "version": 3
   },
   "file_extension": ".py",
   "mimetype": "text/x-python",
   "name": "python",
   "nbconvert_exporter": "python",
   "pygments_lexer": "ipython3",
   "version": "3.10.8"
  },
  "orig_nbformat": 4
 },
 "nbformat": 4,
 "nbformat_minor": 2
}
