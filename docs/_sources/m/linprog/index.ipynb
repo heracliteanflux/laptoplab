{
 "cells": [
  {
   "cell_type": "markdown",
   "metadata": {},
   "source": [
    "# Linear Programming"
   ]
  },
  {
   "cell_type": "markdown",
   "metadata": {},
   "source": [
    "---"
   ]
  },
  {
   "cell_type": "markdown",
   "metadata": {},
   "source": [
    "## Contents\n",
    "```{contents}\n",
    "```"
   ]
  },
  {
   "cell_type": "markdown",
   "metadata": {},
   "source": [
    "---"
   ]
  },
  {
   "cell_type": "markdown",
   "metadata": {},
   "source": [
    "## Sections\n",
    "```{tableofcontents}\n",
    "```"
   ]
  },
  {
   "cell_type": "markdown",
   "metadata": {},
   "source": [
    "---"
   ]
  },
  {
   "cell_type": "markdown",
   "metadata": {},
   "source": [
    "Linear Programming (LP) is a type of mathematical optimization problem in which the constraints and optimization function are represented by linear functions.\n",
    "\n",
    "Integer Programming (IP) is a type of mathematical optimization problem in which at least one variable is an integer.\n",
    "\n",
    "Mixed-Integer Programming (MIP) involves problems in which not all variables are constrained to be integers (and so at least one variable is a non integer).\n",
    "\n",
    "Integer Linear Programming (ILP) and Mixed-Integer Linear Programming (MILP) involve problems in which the non integer constraints (and optimization function) are linear.\n",
    "\n",
    "Zero-One Linear (or Binary Integer) Programming involves problems in which the variables are restricted to be 0 or 1."
   ]
  },
  {
   "cell_type": "markdown",
   "metadata": {},
   "source": [
    "---"
   ]
  },
  {
   "cell_type": "markdown",
   "metadata": {},
   "source": [
    "## Resources"
   ]
  },
  {
   "cell_type": "markdown",
   "metadata": {},
   "source": [
    "YouTube\n",
    "* [ [y](https://www.youtube.com/watch?v=feb9j65Iz4w) ] `05-16-2019` MIT OpenCourseWare. \"24. Linear Programming and Two-Person Games\".\n",
    "* [ [y](https://www.youtube.com/watch?v=WwMz2fJwUCg) ] `03-04-2016` MIT OpenCourseWare. \"15. Linear Programming: LP, reductions, Simplex\".\n",
    "* [ [y](https://www.youtube.com/watch?v=E72DWgKP_1Y) ] `07-04-2023` Tom S. \"The Art of Linear Programming\".\n",
    "* [ [y](https://www.youtube.com/playlist?list=PLbxFfU5GKZz2-4Y3YwRFVVDEMlmxYfY6y) ] `06-29-2020` wenshenpsu. \"Math484 Linear Programming Short Videos, summer 2020\".\n",
    "* [ [y](https://www.youtube.com/playlist?list=PLbxFfU5GKZz1Tm_9RR5M_uvdOXpJJ8LC3) ] `12-07-2022` wenshenpsu. \"Math484, Linear Programming, fall 2016\"."
   ]
  },
  {
   "cell_type": "markdown",
   "metadata": {},
   "source": [
    "\n",
    "more\n",
    "* https://drlvk.github.io/nm/chapter-linear-programming.html\n",
    "* [ORIE 6300: Mathematical Programming I [Fall 2014]](https://people.orie.cornell.edu/dpw/orie6300/)\n",
    "* Keen, Ben Alex. [Linear Programming with Python and PuLP](https://benalexkeen.com/linear-programming-with-python-and-pulp-part-1/).\n",
    "* [Linear Programming (Wolfram)](https://reference.wolfram.com/language/tutorial/ConstrainedOptimizationLinearProgramming.html)\n",
    "* https://optimization.cbe.cornell.edu/index.php?title=Simplex_algorithm"
   ]
  },
  {
   "cell_type": "markdown",
   "metadata": {},
   "source": [
    "---"
   ]
  },
  {
   "cell_type": "markdown",
   "metadata": {},
   "source": [
    "## Texts"
   ]
  },
  {
   "cell_type": "markdown",
   "metadata": {},
   "source": [
    "* Beck, Amir. (2017). _First-Order Methods in Optimization_. Society for Industrial and Applied Mathematics.\n",
    "* [ [P](https://arxiv.org/abs/1405.4980) ][ [Y](https://www.youtube.com/playlist?list=PLAPSKVSdi0oZPbS-UD_kwT4ePZQx_CiME) ] Bubeck, Sébastien. (2015). _Convex Optimization: Algorithms and Complexity_.\n",
    "* Chong, Edwin K. P. & Stanislaw H. Zak. (2001). _An Introduction to Optimization, 2nd Ed_. Wiley.\n",
    "* Dantzig, George B. & Mukund N. Thapa. (1997). _Linear Programming 1: Introduction_. Springer Series in Operations Research and Financial Engineering.\n",
    "* Dantzig, George B. & Mukund N. Thapa. (2003). _Linear Programming 2: Theory and Extensions_. Springer Series in Operations Research and Financial Engineering.\n",
    "* Morse, Philip M. & George E. Kimball. (2003). _Methods of Operations Research_. Dover Books on Computer Science.\n",
    "* Nesterov, Yurii. (2018). _Lectures on Convex Optimization_. 2nd Ed. Springer: Springer Optimization and Its Applications.\n",
    "* Nocedal, Jorge & Stephen Wright. (1999). _Numerical Optimization_. Series in Operations Research and Financial Engineering.\n",
    "* Pardalos, Panos M., Varvara Rasskazova, & Michael N. Vrahatis. (2021). _Black Box Optimization, Machine Learning, and No-Free Lunch Theorem_. Springer: Springer Optimization and Its Applications.\n",
    "* Thie, Paul R. Gerard E. Keough. (2008). _An Introduction to Linear Programming and Game Theory_. 3rd Ed. [Wiley](https://www.wiley.com/en-us/An+Introduction+to+Linear+Programming+and+Game+Theory%2C+3rd+Edition-p-9780470232866)."
   ]
  },
  {
   "cell_type": "markdown",
   "metadata": {},
   "source": [
    "---"
   ]
  },
  {
   "cell_type": "markdown",
   "metadata": {},
   "source": [
    "## Figures"
   ]
  },
  {
   "cell_type": "markdown",
   "metadata": {},
   "source": [
    "* [ [w](https://en.wikipedia.org/wiki/Richard_E._Bellman) ] `1920-1984` Bellman, Richard\n",
    "* [ w ] `---------` Bland, Robert\n",
    "* [ [w](https://en.wikipedia.org/wiki/George_Dantzig) ] `1914-2005` Dantzig, George\n",
    "* [ [w](https://en.wikipedia.org/wiki/Narendra_Karmarkar) ] `---------` Karmarkar, Narendra\n",
    "* [ [w](https://en.wikipedia.org/wiki/Leonid_Khachiyan) ] `1952-2005` Khachiyan, Leonid\n",
    "* [ [w](https://en.wikipedia.org/wiki/Andrey_Kolmogorov) ] `1903-1987` Kolmogorov, Andrey\n",
    "* [ [w](https://en.wikipedia.org/wiki/Manfred_W._Padberg) ] `1941-2014` Padberg, Manfred\n",
    "* [ [w](https://en.wikipedia.org/wiki/John_von_Neumann) ] `1903-1957` Von Neumann, John"
   ]
  },
  {
   "cell_type": "markdown",
   "metadata": {},
   "source": [
    "* [ [w](https://en.wikipedia.org/wiki/Yefim_Dinitz) ] `---------` Dinitz, Yefim\n",
    "* [ [w](https://en.wikipedia.org/wiki/Jack_Edmonds) ] `1934-----` Edmonds, Jack\n",
    "* [ [w](https://en.wikipedia.org/wiki/L._R._Ford_Jr.) ] `1927-2017` Ford Jr., L. R.\n",
    "* [ [w](https://en.wikipedia.org/wiki/D._R._Fulkerson) ] `1924-1976` Fulkerson, D. R.\n",
    "* [ [w](https://en.wikipedia.org/wiki/Ted_Harris_(mathematician)) ] `1919-2005` Harris, Ted\n",
    "* [ [w](https://en.wikipedia.org/wiki/Richard_M._Karp) ] `1935-----` Karp, Richard"
   ]
  },
  {
   "cell_type": "markdown",
   "metadata": {},
   "source": [
    "---"
   ]
  },
  {
   "cell_type": "markdown",
   "metadata": {},
   "source": [
    "## Terms"
   ]
  },
  {
   "cell_type": "markdown",
   "metadata": {},
   "source": [
    "* [ [w](https://en.wikipedia.org/wiki/Dinic%27s_algorithm) ] Dinitz's Algorithm\n",
    "* [ [w](https://en.wikipedia.org/wiki/Edmonds%E2%80%93Karp_algorithm) ] Edmonds-Karp Algorithm\n",
    "* [ [w](https://en.wikipedia.org/wiki/Flow_network) ] Flow Network\n",
    "* [ [w](https://en.wikipedia.org/wiki/Ford%E2%80%93Fulkerson_algorithm) ] Ford-Fulkerson Algorithm\n",
    "* [ [w](https://en.wikipedia.org/wiki/Max-flow_min-cut_theorem) ] Max-Flow Min-Cut Theorem\n",
    "* [ [w](https://en.wikipedia.org/wiki/Maximum_flow_problem) ] Maximum Flow Problem\n",
    "* [ [w](https://en.wikipedia.org/wiki/Minimum-cost_flow_problem) ] Minimum-Cost Flow Problem\n",
    "* [ [w](https://en.wikipedia.org/wiki/Network_simplex_algorithm) ] Network Simplex Algorithm"
   ]
  },
  {
   "cell_type": "markdown",
   "metadata": {},
   "source": [
    "* [ [w](https://en.wikipedia.org/wiki/Affine_transformation) ][ [wm](https://mathworld.wolfram.com/AffineFunction.html) ] Affine Function/Map/Transformation\n",
    "* [ [w](https://en.wikipedia.org/wiki/Approximation_algorithm) ] Approximation Algorithm\n",
    "* [ [w](https://en.wikipedia.org/wiki/Basic_feasible_solution) ] Basic Feasible Solution\n",
    "* [ [w](https://en.wikipedia.org/wiki/Bauer_maximum_principle) ] Bauer's Maximum Principle\n",
    "* [ [w](https://en.wikipedia.org/wiki/Bland%27s_rule) ] Bland's Rule\n",
    "* [ [w](https://en.wikipedia.org/wiki/Block_matrix) ] Block Matrix\n",
    "* [ [w](https://en.wikipedia.org/wiki/Bounded_set) ] Boundedness\n",
    "* [ [w](https://en.wikipedia.org/wiki/Calculus_of_variations) ] Calculus of Variations\n",
    "* [ [w](https://en.wikipedia.org/wiki/Closed_set) ] Closedness\n",
    "* [ [w](https://en.wikipedia.org/wiki/Combinatorial_optimization) ] Combinatorial Optimization\n",
    "* [ [w](https://en.wikipedia.org/wiki/Compact_space) ] Compactness\n",
    "* [ [w](https://en.wikipedia.org/wiki/Constrained_optimization) ] Constrained Optimization\n",
    "* [ [w](https://en.wikipedia.org/wiki/Constraint_(mathematics)) ] Constraint\n",
    "* [ [w](https://en.wikipedia.org/wiki/Constraint_programming) ] Constraint Programming\n",
    "* [ [w](https://en.wikipedia.org/wiki/Constraint_satisfaction) ] Constraint Satisfaction\n",
    "* [ [w](https://en.wikipedia.org/wiki/Constraint_satisfaction_problem) ] Constraint Satisfaction Problem (CSP)\n",
    "* [ [w](https://en.wikipedia.org/wiki/Convex_cone) ] Convex Cone\n",
    "* [ [w](https://en.wikipedia.org/wiki/Convex_optimization) ] Convex Optimization\n",
    "* [ [w](https://en.wikipedia.org/wiki/Convex_polytope) ] Convex Polytope\n",
    "* [ [w](https://en.wikipedia.org/wiki/Convex_set) ] Convex Set\n",
    "* [ [w](https://en.wikipedia.org/wiki/Criss-cross_algorithm) ] Criss-Cross Algorithm\n",
    "* [ [w](https://en.wikipedia.org/wiki/Cunningham%27s_rule) ] Cunningham's Rule\n",
    "* [ [w](https://en.wikipedia.org/wiki/Devex_algorithm) ] Devex Algorithm\n",
    "* [ [w](https://en.wikipedia.org/wiki/Directional_derivative) ] Directional Derivative\n",
    "* [ [w](https://en.wikipedia.org/wiki/Dual_linear_program) ] Dual Linear Program\n",
    "* [ [w](https://en.wikipedia.org/wiki/Duality_(optimization)) ] Duality\n",
    "* [ [w](https://en.wikipedia.org/wiki/Duality_gap) ] Duality Gap\n",
    "* [ [w](https://en.wikipedia.org/wiki/Dynamic_programming) ] Dynamic Programming\n",
    "* [ [w](https://en.wikipedia.org/wiki/Ellipsoid_method) ] Ellipsoid Method\n",
    "* [ [w](https://en.wikipedia.org/wiki/Farkas%27_lemma) ] Farkas' Lemma\n",
    "* [ [w](https://en.wikipedia.org/wiki/Feasible_region) ] Feasible Region/Set\n",
    "* [ [w](https://en.wikipedia.org/wiki/Fourier%E2%80%93Motzkin_elimination) ] Fourier-Motzkin Elimination\n",
    "* [ [w](https://en.wikipedia.org/wiki/Game_theory) ] Game Theory\n",
    "* [ [w](https://en.wikipedia.org/wiki/Gradient) ] Gradient\n",
    "* [ [w](https://en.wikipedia.org/wiki/Hyperplane) ] Hyperplane\n",
    "* [ [w](https://en.wikipedia.org/wiki/Hypersurface) ] Hypersurface\n",
    "* [ [w](https://en.wikipedia.org/wiki/Integer_programming) ] Integer Programming\n",
    "* [ [w](https://en.wikipedia.org/wiki/Interior-point_method) ] Interior Point Methods\n",
    "* [ [w](https://en.wikipedia.org/wiki/Iterative_method) ] Iterative Method\n",
    "* [ [w](https://en.wikipedia.org/wiki/Karmarkar%27s_algorithm) ] Karmarkar's Algorithm\n",
    "* [ [w](https://en.wikipedia.org/wiki/Lagrange_multiplier) ] Lagrange Multiplier\n",
    "* [ [w](https://en.wikipedia.org/wiki/Level_set) ][ [wm](https://mathworld.wolfram.com/LevelSet.html) ] Level Set\n",
    "* [ [w](https://en.wikipedia.org/wiki/Line_(geometry)) ] Line\n",
    "* [ [w](https://en.wikipedia.org/wiki/Linear_equation) ] Linear Equality/Equation\n",
    "* [ [w](https://en.wikipedia.org/wiki/Linear_inequality) ] Linear Inequality\n",
    "* [ [w](https://en.wikipedia.org/wiki/Linear_map) ] Linear Function/Map/Transformation\n",
    "* [ [w](https://en.wikipedia.org/wiki/Linear_programming) ] Linear Programming\n",
    "* [ [w](https://en.wikipedia.org/wiki/Mathematical_model) ] Mathematical Model\n",
    "* [ [w](https://en.wikipedia.org/wiki/Mathematical_optimization) ] Mathematical Optimization\n",
    "* [ [w](https://en.wikipedia.org/wiki/Max%E2%80%93min_inequality) ] Max-Min Inequality\n",
    "* [ [w](https://en.wikipedia.org/wiki/Minimax_theorem) ] Minimax Theorem\n",
    "* [ [w](https://en.wikipedia.org/wiki/Network_flow_problem) ] Network Flow Problem\n",
    "* [ [w](https://en.wikipedia.org/wiki/Newton%27s_method) ] Newton's Method\n",
    "* [ [w](https://en.wikipedia.org/wiki/Nonlinear_programming) ] Non Linear Programming\n",
    "* [ [w](https://en.wikipedia.org/wiki/Loss_function) ] Objective Function\n",
    "* [ [w](https://en.wikipedia.org/wiki/Operations_research) ] Operations Research\n",
    "* [ [w](https://en.wikipedia.org/wiki/Optimization_problem) ] Optimization Problem\n",
    "* [ [w](https://en.wikipedia.org/wiki/Plane_(geometry)) ] Plane\n",
    "* [ [w](https://en.wikipedia.org/wiki/Point_(geometry)) ] Point\n",
    "* [ [w](https://en.wikipedia.org/wiki/Quadratic_programming) ] Quadratic Programming\n",
    "* [ [w](https://en.wikipedia.org/wiki/Linear_programming_relaxation) ] Relaxation\n",
    "* [ [w](https://en.wikipedia.org/wiki/Revised_simplex_method) ] Revised Simplex Method\n",
    "* [ [w](https://en.wikipedia.org/wiki/Sequential_quadratic_programming) ] Sequential Quadratic Programming\n",
    "* [ [w](https://en.wikipedia.org/wiki/Simplex) ] Simplex\n",
    "* [ [w](https://en.wikipedia.org/wiki/Simplex_algorithm) ] Simplex Algorithm\n",
    "* [ [w](https://en.wikipedia.org/wiki/Slack_variable) ] Slack Variable\n",
    "* [ [w](https://en.wikipedia.org/wiki/Stochastic_programming) ] Stochastic Programming\n",
    "* [ [w](https://en.wikipedia.org/wiki/Surface_(mathematics)) ] Surface\n",
    "* [ w ] Unconstrainted Optimization\n",
    "* [ [w](https://en.wikipedia.org/wiki/Zadeh%27s_rule) ] Zadeh's Rule"
   ]
  },
  {
   "cell_type": "markdown",
   "metadata": {},
   "source": [
    "---"
   ]
  },
  {
   "cell_type": "markdown",
   "metadata": {},
   "source": [
    "## Acknowledgments"
   ]
  },
  {
   "cell_type": "markdown",
   "metadata": {},
   "source": [
    "Byrne, Christopher. _MATH 484 Linear Programs and Related Problems - Linear Programs I: A Clear, Concise, and Practical Introduction to Linear Programs and Duality Theory with Applications to Return On Investment (ROI)_. The Pennsylvania State University."
   ]
  },
  {
   "cell_type": "markdown",
   "metadata": {},
   "source": [
    "---"
   ]
  }
 ],
 "metadata": {
  "language_info": {
   "name": "python"
  }
 },
 "nbformat": 4,
 "nbformat_minor": 2
}
