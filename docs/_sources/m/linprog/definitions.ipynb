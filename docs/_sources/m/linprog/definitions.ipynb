{
 "cells": [
  {
   "attachments": {},
   "cell_type": "markdown",
   "metadata": {},
   "source": [
    "# Some Definitions & Graphing"
   ]
  },
  {
   "attachments": {},
   "cell_type": "markdown",
   "metadata": {},
   "source": [
    "---"
   ]
  },
  {
   "attachments": {},
   "cell_type": "markdown",
   "metadata": {},
   "source": [
    "## Some definitions"
   ]
  },
  {
   "attachments": {},
   "cell_type": "markdown",
   "metadata": {},
   "source": [
    "---"
   ]
  },
  {
   "cell_type": "markdown",
   "metadata": {},
   "source": [
    "The goal of an LP is to find the decision that optimizes some objective subject to certain constraints."
   ]
  },
  {
   "attachments": {},
   "cell_type": "markdown",
   "metadata": {},
   "source": [
    "---"
   ]
  },
  {
   "attachments": {},
   "cell_type": "markdown",
   "metadata": {},
   "source": [
    "[LINEAR MAP]\n",
    "\n",
    "A function $f:\\mathbb{R}^n\\rightarrow\\mathbb{R}$ is linear if $f(a\\mathbf{x}+\\mathbf{y})=af(\\mathbf{x})+f(\\mathbf{y})\\,\\,\\,\\forall{\\mathbf{x},\\mathbf{y}}\\in\\mathbb{R}^n,\\forall{a}\\in\\mathbb{R}$.\n",
    "\n",
    "Note that if $f:\\mathbb{R}^n\\rightarrow\\mathbb{R}$ is linear, then $f(\\mathbf{0})=0$.\n",
    "\n",
    "[[W](https://en.wikipedia.org/wiki/Linear_map)] Linear Function/Map/Transformation"
   ]
  },
  {
   "attachments": {},
   "cell_type": "markdown",
   "metadata": {},
   "source": [
    "---"
   ]
  },
  {
   "attachments": {},
   "cell_type": "markdown",
   "metadata": {},
   "source": [
    "[AFFINE MAP]\n",
    "\n",
    "A function $f:\\mathbb{R}^n\\rightarrow\\mathbb{R}$ is affine if $f(\\mathbf{x})=g(\\mathbf{x})+c\\,\\,\\,\\forall{\\mathbf{x}}\\in\\mathbb{R}^n$ where $g$ is linear and $c\\in\\mathbb{R}$.\n",
    "\n",
    "In other words, an affine function is just a linear function plus a constant.\n",
    "\n",
    "[[W](https://en.wikipedia.org/wiki/Affine_transformation)] Affine Function/Map/Transformation"
   ]
  },
  {
   "attachments": {},
   "cell_type": "markdown",
   "metadata": {},
   "source": [
    "---"
   ]
  },
  {
   "attachments": {},
   "cell_type": "markdown",
   "metadata": {},
   "source": [
    "[LINEAR CONSTRAINT]\n",
    "\n",
    "A linear constraint uses a linear function $f:\\mathbb{R}^n\\rightarrow\\mathbb{R}$ and a constant $b\\in\\mathbb{R}$ to limit the values of a variable $\\mathbf{x}\\in\\mathbb{R}^n$ by requiring either $f(\\mathbf{x})\\le b$, $f(\\mathbf{x})\\ge b$, or $f(\\mathbf{x})=b$.\n",
    "\n",
    "Only weak inequalities $\\le,\\ge$ are allowed which means that the solution set is closed.\n",
    "\n",
    "Note that any affine constraint can be rewritten as a linear constraint.\n",
    "\n",
    "* [[W](https://en.wikipedia.org/wiki/Constraint_(mathematics))] Constraint\n",
    "* [[W](https://en.wikipedia.org/wiki/Linear_equation)] Linear Equality/Equation\n",
    "* [[W](https://en.wikipedia.org/wiki/Linear_inequality)] Linear Inequality"
   ]
  },
  {
   "attachments": {},
   "cell_type": "markdown",
   "metadata": {},
   "source": [
    "---"
   ]
  },
  {
   "attachments": {},
   "cell_type": "markdown",
   "metadata": {},
   "source": [
    "[LINEAR PROGRAM (LP) & OBJECTIVE FUNCTION]\n",
    "\n",
    "An LP is a problem of optimizing an affine function called the objective function subject to finitely many linear constraints.\n",
    "\n",
    "Note that any affine objective function $f(\\mathbf{x})+c$ attains its optimum where $f(\\mathbf{x})$ attains its optimum. The constant $c$ only changes the optimal value of $f$, not the values of $\\mathbf{x}$ at which $f$ attains its optimum.\n",
    "\n",
    "* [[W](https://en.wikipedia.org/wiki/Linear_programming)] Linear Program\n",
    "* [[W](https://en.wikipedia.org/wiki/Loss_function)] Objective Function"
   ]
  },
  {
   "attachments": {},
   "cell_type": "markdown",
   "metadata": {},
   "source": [
    "---"
   ]
  },
  {
   "attachments": {},
   "cell_type": "markdown",
   "metadata": {},
   "source": [
    "[FEASIBLE SET]\n",
    "\n",
    "The feasible set $\\Gamma$ of an LP is the set of all $\\mathbf{x}\\in\\mathbb{R}^n$ that satisfy all the constraints of the LP.\n",
    "\n",
    "Another way to look at it is that the feasible set $\\Gamma$ of an LP is just the intersection of the feasible sets of the individual constraints of the LP.\n",
    "\n",
    "[[W](https://en.wikipedia.org/wiki/Feasible_region)] Feasible Region/Set"
   ]
  },
  {
   "attachments": {},
   "cell_type": "markdown",
   "metadata": {},
   "source": [
    "---"
   ]
  },
  {
   "attachments": {},
   "cell_type": "markdown",
   "metadata": {},
   "source": [
    "[OPTIMAL/SOLUTION SET]\n",
    "\n",
    "Let $\\Gamma$ be the feasible set of an LP.\n",
    "\n",
    "If the LP is to maximize $f$, then the optimal set of the LP is\n",
    "\n",
    "$\\argmax_{\\Gamma}(f)=\\{\\mathbf{x}\\in\\Gamma\\mid f(\\mathbf{x})\\ge f(\\mathbf{y})\\,\\,\\,\\forall{\\mathbf{y}}\\in\\Gamma\\}$\n",
    "\n",
    "the set of points at which $f$ attains its maximum over the set $\\Gamma$.\n",
    "\n",
    "If the LP is to minimize $f$, then the optimal set of the LP is\n",
    "\n",
    "$\\argmin_{\\Gamma}(f)=\\{\\mathbf{x}\\in\\Gamma\\mid f(\\mathbf{x})\\le f(\\mathbf{y})\\,\\,\\,\\forall{\\mathbf{y}}\\in\\Gamma\\}$\n",
    "\n",
    "the set of points at which $f$ attains its minimum over the set $\\Gamma$."
   ]
  },
  {
   "attachments": {},
   "cell_type": "markdown",
   "metadata": {},
   "source": [
    "---"
   ]
  },
  {
   "attachments": {},
   "cell_type": "markdown",
   "metadata": {},
   "source": [
    "[OPTIMAL VALUE]\n",
    "\n",
    "Let $\\Gamma$ be the feasible set of an LP.\n",
    "\n",
    "If the LP is the maximize $f$, then the optimal value is\n",
    "\n",
    "$\\max_{\\Gamma}(f)$\n",
    "\n",
    "If the LP is the minimize $f$, then the optimal value is\n",
    "\n",
    "$\\min_{\\Gamma}(f)$"
   ]
  },
  {
   "attachments": {},
   "cell_type": "markdown",
   "metadata": {},
   "source": [
    "---"
   ]
  },
  {
   "attachments": {},
   "cell_type": "markdown",
   "metadata": {},
   "source": [
    "[LP SOLUTION]\n",
    "\n",
    "The solution to an LP consists of both the optimal set and the optimal value.\n",
    "\n",
    "either\n",
    "\n",
    "$\\argmax_{\\Gamma}(f)$ and $\\max_{\\Gamma}(f)$\n",
    "\n",
    "or\n",
    "\n",
    "$\\argmin_{\\Gamma}(f)$ and $\\min_{\\Gamma}(f)$\n",
    "\n",
    "In other words, solving an LP means finding both the optimal set and the optimal value."
   ]
  },
  {
   "attachments": {},
   "cell_type": "markdown",
   "metadata": {},
   "source": [
    "---"
   ]
  },
  {
   "attachments": {},
   "cell_type": "markdown",
   "metadata": {},
   "source": [
    "[INFEASIBLE LP]\n",
    "\n",
    "If there are no $\\mathbf{x}\\in\\mathbb{R}^n$ which satisfy all the constraints of the LP, then the LP is called infeasible.\n",
    "\n",
    "The LP has no solution.\n",
    "\n",
    "[FEASIBLE LP]\n",
    "\n",
    "If there is at least one $\\mathbf{x}\\in\\mathbb{R}^n$ which satisfies all the constraints of the LP, then the LP is called feasible.\n",
    "\n",
    "The LP may or may not have a solution depending on its boundedness."
   ]
  },
  {
   "attachments": {},
   "cell_type": "markdown",
   "metadata": {},
   "source": [
    "---"
   ]
  },
  {
   "cell_type": "markdown",
   "metadata": {},
   "source": [
    "\n",
    "[UNBOUNDED LP]\n",
    "\n",
    "If the constraints allow the objective function to increase without bound (i.e., to positive infinity), then the LP to maximize the objective function subject to the constraints is unbounded.\n",
    "\n",
    "If the constraints allow the objective function to decrease without bound (i.e., to negative infinity), then the LP to minimize the objective function subject to the constraints is unbounded.\n",
    "\n",
    "The LP has no solution.\n",
    "\n",
    "[BOUNDED LP]\n",
    "\n",
    "The objective function is bounded on the feasible set.\n",
    "\n",
    "The LP has a solution."
   ]
  },
  {
   "attachments": {},
   "cell_type": "markdown",
   "metadata": {},
   "source": [
    "---"
   ]
  },
  {
   "attachments": {},
   "cell_type": "markdown",
   "metadata": {},
   "source": [
    "THEOREM\n",
    "\n",
    "Every LP is either infeasible, feasible but unbounded, or has a solution.\n",
    "\n",
    "PROOF\n",
    "\n",
    "The feasible set $\\Gamma$ of an LP is closed by the requirement on linear constraints.\n",
    "\n",
    "If the LP has a bounded feasible set, then it has a compact (bounded + closed) feasible set.\n",
    "\n",
    "A continuous function on a compact set attains its maximum.\n",
    "\n",
    "Add the following constraints to the LP to get a new LP.\n",
    "* constraints that are parallel to the gradient of the objective function and therefore do not constrain the optimum\n",
    "* a constaint that is normal to the gradient, which places a lower bound on the objective\n",
    "\n",
    "A compact feasible set must have a maximum.\n",
    "\n",
    "The argmax of the LP with additional constraints is a subset of the argmax of the original LP."
   ]
  },
  {
   "attachments": {},
   "cell_type": "markdown",
   "metadata": {},
   "source": [
    "---"
   ]
  },
  {
   "attachments": {},
   "cell_type": "markdown",
   "metadata": {},
   "source": [
    "[GRADIENT]\n",
    "\n",
    "Let $f:\\mathbb{R}^n\\rightarrow\\mathbb{R}$ be a function.\n",
    "\n",
    "The gradient of $f$ is\n",
    "\n",
    "$\n",
    "\\begin{aligned}\n",
    "\\nabla{f}=\\left\\langle\\frac{\\partial f}{\\partial x_1},...,\\frac{\\partial f}{\\partial x_n}\\right\\rangle\n",
    "\\end{aligned}\n",
    "$\n",
    "\n",
    "Note that if $f$ is affine (or linear), then $\\nabla{f}$ is constant.\n",
    "\n",
    "The significance of the vector $\\nabla{f}$ is that it points in the direction of the maximum rate of increase of $f$ per unit Euclidean distance change in the variable $\\mathbf{x}$ as it varies through $\\mathbb{R}^n$.\n",
    "\n",
    "[[W](https://en.wikipedia.org/wiki/Gradient)] Gradient"
   ]
  },
  {
   "attachments": {},
   "cell_type": "markdown",
   "metadata": {},
   "source": [
    "---"
   ]
  },
  {
   "attachments": {},
   "cell_type": "markdown",
   "metadata": {},
   "source": [
    "[DIRECTIONAL DERIVATIVE]\n",
    "\n",
    "Let $\\mathbf{u}\\in\\mathbb{R}^n$ be a nonzero vector and $f:\\mathbb{R}^n\\rightarrow\\mathbb{R}$ be a function.\n",
    "\n",
    "The directional derivative of $f$ in the direction of $\\mathbf{u}$ is\n",
    "\n",
    "$\n",
    "\\begin{aligned}\n",
    "\\frac{\\nabla f\\cdot\\mathbf{u}}{\\|\\mathbf{u}\\|}\n",
    "\\end{aligned}\n",
    "$\n",
    "\n",
    "Note that the sign of the directional derivative does not depend on the magnitude of $\\mathbf{u}$, so $\\nabla f\\cdot\\mathbf{u}$ can be used in place of the true directional derivative when only the sign is needed.\n",
    "\n",
    "The sign (of the directional derivative of $f$ in the direction of $\\mathbf{u}$) is enough to tell whether $f$ increases, decreases, or remains constant when the variable $\\mathbf{x}$ is changed in the direction of $\\mathbf{u}$.\n",
    "1. $\\nabla f\\cdot\\mathbf{u}\\ge0\\implies f$ increases\n",
    "2. $\\nabla f\\cdot\\mathbf{u}\\le0\\implies f$ decreases\n",
    "3. $\\nabla f\\cdot\\mathbf{u}=0\\implies f$ remains constant\n",
    "\n",
    "Note also that because the gradient of an affine (or linear) function is constant, the directional derivative in any direction is constant.\n",
    "\n",
    "[[W](https://en.wikipedia.org/wiki/Directional_derivative)] Directional Derivative"
   ]
  },
  {
   "attachments": {},
   "cell_type": "markdown",
   "metadata": {},
   "source": [
    "---"
   ]
  },
  {
   "attachments": {},
   "cell_type": "markdown",
   "metadata": {},
   "source": [
    "[LEVEL SET]\n",
    "\n",
    "Let $f:\\mathbb{R}^n\\rightarrow\\mathbb{R}$ be a function.\n",
    "\n",
    "A level set $S$ of $f$ is a subset of $\\mathbb{R}^n$ on which $f$ has constant value $f(\\mathbf{x})=b$ for some constant $b\\in\\mathbb{R}$.\n",
    "\n",
    "$f(\\mathbf{x})=b$ may be used as an abbreviation to refer to the level set\n",
    "\n",
    "$S=\\{\\mathbf{x}\\in\\mathbb{R}^n\\mid f(\\mathbf{x})=b\\}\\subseteq\\mathbb{R}^n$\n",
    "\n",
    "[[W](https://en.wikipedia.org/wiki/Level_set)] Level Set"
   ]
  },
  {
   "attachments": {},
   "cell_type": "markdown",
   "metadata": {},
   "source": [
    "---"
   ]
  },
  {
   "attachments": {},
   "cell_type": "markdown",
   "metadata": {},
   "source": [
    "Let $S\\subseteq\\mathbb{R}^n$ be a level set of $f$.\n",
    "\n",
    "$\\mathbf{u}=\\mathbf{x-y}$ where $\\mathbf{x,y}\\in S\\implies\\nabla f\\cdot\\mathbf{u}=0$\n",
    "\n",
    "That is, a function has zero directional derivative on any level set."
   ]
  },
  {
   "attachments": {},
   "cell_type": "markdown",
   "metadata": {},
   "source": [
    "---"
   ]
  },
  {
   "attachments": {},
   "cell_type": "markdown",
   "metadata": {},
   "source": [
    "\n",
    "[HYPERPLANE]\n",
    "\n",
    "The boundary of a linear inequality constraint\n",
    "\n",
    "$f(\\mathbf{x})\\le b$\n",
    "\n",
    "$f(\\mathbf{x})\\ge b$\n",
    "\n",
    "in $\\mathbb{R}^n$ is a hyperplane of dimension $n - 1$.\n",
    "\n",
    "The solution of a linear equality constraint\n",
    "\n",
    "$f(\\mathbf{x})=b$\n",
    "\n",
    "in $\\mathbb{R}^n$ is a hyperplane of dimension $n - 1$.\n",
    "\n",
    "In $\\mathbb{R}$, a hyperplane of dimension $1-1=0$ is a point.\n",
    "\n",
    "In $\\mathbb{R}^2$, a hyperplane of dimension $2-1=1$ is a line.\n",
    "\n",
    "In $\\mathbb{R}^3$, a hyperplane of dimension $3-1=2$ is a plane.\n",
    "\n",
    "In $\\mathbb{R}^4$, a hyperplane of dimension $4-1=3$ is a hyperplane.\n",
    "\n",
    "* [[W](https://en.wikipedia.org/wiki/Hyperplane)] Hyperplane\n",
    "* [[W](https://en.wikipedia.org/wiki/Line_(geometry))] Line\n",
    "* [[W](https://en.wikipedia.org/wiki/Plane_(geometry))] Plane\n",
    "* [[W](https://en.wikipedia.org/wiki/Point_(geometry))] Point"
   ]
  },
  {
   "attachments": {},
   "cell_type": "markdown",
   "metadata": {},
   "source": [
    "---"
   ]
  },
  {
   "attachments": {},
   "cell_type": "markdown",
   "metadata": {},
   "source": [
    "## Graphing in $\\mathbb{R}^2$"
   ]
  },
  {
   "cell_type": "markdown",
   "metadata": {},
   "source": [
    "---"
   ]
  },
  {
   "attachments": {},
   "cell_type": "markdown",
   "metadata": {},
   "source": [
    "The boundary of a linear constraint\n",
    "\n",
    "$f(\\mathbf{x})\\le b$\n",
    "\n",
    "$f(\\mathbf{x})\\ge b$\n",
    "\n",
    "$f(\\mathbf{x})=b$\n",
    "\n",
    "is the line $f(\\mathbf{x})=b$, a line perpendicular to $\\nabla f$.\n",
    "\n",
    "Since $f(\\mathbf{0})=0$ for linear $f$, $\\nabla f$ can be traced from the origin out to the level set $f(\\mathbf{x})=b$."
   ]
  },
  {
   "attachments": {},
   "cell_type": "markdown",
   "metadata": {},
   "source": [
    "---"
   ]
  },
  {
   "attachments": {},
   "cell_type": "markdown",
   "metadata": {},
   "source": [
    "[EXAMPLE]\n",
    "\n",
    "the boundary of the constraint\n",
    "\n",
    "$\n",
    "f=2x_1+3x_2\\le6\n",
    "$\n",
    "\n",
    "is the line\n",
    "\n",
    "$\n",
    "2x_1+3x_2=6\n",
    "$\n",
    "\n",
    "perpendicular to\n",
    "\n",
    "$\n",
    "\\nabla f=\\langle2,3\\rangle\n",
    "$\n",
    "\n",
    "which passes through the first quadrant with negative slope\n",
    "\n",
    "$\n",
    "\\begin{aligned}\n",
    "x_2=-\\frac{2}{3}x_1+2\\impliedby2x_1+3x_2=6\n",
    "\\end{aligned}\n",
    "$"
   ]
  },
  {
   "attachments": {},
   "cell_type": "markdown",
   "metadata": {},
   "source": [
    "---"
   ]
  },
  {
   "attachments": {},
   "cell_type": "markdown",
   "metadata": {},
   "source": [
    "[EXAMPLE]\n",
    "\n",
    "the boundary of the constraint\n",
    "\n",
    "$\n",
    "f=2x_1-3x_2\\le6\n",
    "$\n",
    "\n",
    "is the line\n",
    "\n",
    "$\n",
    "2x_1-3x_2=6\n",
    "$\n",
    "\n",
    "perpendicular to\n",
    "\n",
    "$\n",
    "\\nabla f=\\langle2,-3\\rangle\n",
    "$\n",
    "\n",
    "which passes through the fourth quadrant with positive slope\n",
    "\n",
    "$\n",
    "\\begin{aligned}\n",
    "x_2=\\frac{2}{3}x_1-2\\impliedby2x_1-3x_2=6\n",
    "\\end{aligned}\n",
    "$"
   ]
  },
  {
   "attachments": {},
   "cell_type": "markdown",
   "metadata": {},
   "source": [
    "---"
   ]
  },
  {
   "attachments": {},
   "cell_type": "markdown",
   "metadata": {},
   "source": [
    "[EXAMPLE]\n",
    "\n",
    "the boundary of the constraint\n",
    "\n",
    "$\n",
    "f=-2x_1-3x_2\\le6\n",
    "$\n",
    "\n",
    "is the line\n",
    "\n",
    "$\n",
    "-2x_1-3x_2=6\n",
    "$\n",
    "\n",
    "perpendicular to\n",
    "\n",
    "$\n",
    "\\nabla f=\\langle-2,-3\\rangle\n",
    "$\n",
    "\n",
    "which passes through the third quadrant with negative slope\n",
    "\n",
    "$\n",
    "\\begin{aligned}\n",
    "x_2=-\\frac{2}{3}x_1-2\\impliedby-2x_1-3x_2=6\n",
    "\\end{aligned}\n",
    "$"
   ]
  },
  {
   "attachments": {},
   "cell_type": "markdown",
   "metadata": {},
   "source": [
    "---"
   ]
  },
  {
   "attachments": {},
   "cell_type": "markdown",
   "metadata": {},
   "source": [
    "[EXAMPLE]\n",
    "\n",
    "the boundary of the constraint\n",
    "\n",
    "$\n",
    "f=-2x_1+3x_2\\le6\n",
    "$\n",
    "\n",
    "is the line\n",
    "\n",
    "$\n",
    "-2x_1+3x_2=6\n",
    "$\n",
    "\n",
    "perpendicular to\n",
    "\n",
    "$\n",
    "\\nabla f=\\langle-2,3\\rangle\n",
    "$\n",
    "\n",
    "which passes through the second quadrant with positive slope\n",
    "\n",
    "$\n",
    "\\begin{aligned}\n",
    "x_2=\\frac{2}{3}x_1-2\\impliedby-2x_1+3x_2=6\n",
    "\\end{aligned}\n",
    "$"
   ]
  },
  {
   "cell_type": "markdown",
   "metadata": {},
   "source": [
    "---"
   ]
  },
  {
   "attachments": {},
   "cell_type": "markdown",
   "metadata": {},
   "source": [
    "### Mark the feasible region"
   ]
  },
  {
   "attachments": {},
   "cell_type": "markdown",
   "metadata": {},
   "source": [
    "---"
   ]
  },
  {
   "attachments": {},
   "cell_type": "markdown",
   "metadata": {},
   "source": [
    "Which side of an inequality constraint is feasible? (In other words, which side of an inequality constraint satisfies the constraint?)\n",
    "\n",
    "$\n",
    "f(\\mathbf{x})\\ge b\\implies\\text{the side}\\,\\nabla f\\,\\text{points to}\n",
    "$\n",
    "\n",
    "$\n",
    "f(\\mathbf{x})\\le b\\implies\\text{the side}\\,-\\nabla f\\,\\text{points to}\\\\\\text{(that is, the side opposite the side}\\,\\nabla f\\,\\text{points to)}\n",
    "$\n",
    "\n",
    "The feasible set of a linear equality constraint is just the line itself.\n",
    "\n",
    "$\n",
    "f(\\mathbf{x})=b\\implies\\text{the line}\\,f(\\mathbf{x})=b\\,\\text{itself}\n",
    "$"
   ]
  },
  {
   "cell_type": "markdown",
   "metadata": {},
   "source": [
    "---"
   ]
  },
  {
   "attachments": {},
   "cell_type": "markdown",
   "metadata": {},
   "source": [
    "To graph the feasible set $\\Gamma$ of an LP, graph each boundary line and mark its feasible side.\n",
    "\n",
    "If both sides of an equality constraint are marked as feasible, then only the line itself is in their intersection.\n",
    "\n",
    "If there is a non empty intersection, mark it as the feasible set."
   ]
  },
  {
   "attachments": {},
   "cell_type": "markdown",
   "metadata": {},
   "source": [
    "---"
   ]
  },
  {
   "attachments": {},
   "cell_type": "markdown",
   "metadata": {},
   "source": [
    "### Mark the direction of optimization"
   ]
  },
  {
   "attachments": {},
   "cell_type": "markdown",
   "metadata": {},
   "source": [
    "---"
   ]
  },
  {
   "attachments": {},
   "cell_type": "markdown",
   "metadata": {},
   "source": [
    "#### Draw vectors parallel to each constraint boundary"
   ]
  },
  {
   "attachments": {},
   "cell_type": "markdown",
   "metadata": {},
   "source": [
    "Since the boundary of a constaint\n",
    "\n",
    "$\n",
    "c_1x_1+c_2x_2=b\n",
    "$\n",
    "\n",
    "is just a level set of the constraint function\n",
    "\n",
    "$\n",
    "f=c_1x_1+c_2x_2\\ge b\n",
    "$\n",
    "\n",
    "a vector $\\mathbf{v}=\\langle v_1,v_2\\rangle$ which is parallel to the boundary is perpendicular to the constraint's gradient $\\nabla f=\\langle c_1,c_2\\rangle$\n",
    "\n",
    "$\n",
    "\\nabla f\\cdot\\mathbf{v}=\\langle c_1,c_2\\rangle\\cdot\\langle v_1,v_2\\rangle=0\n",
    "\\implies\n",
    "\\mathbf{v}\n",
    "$\n",
    "is parallel to the boundary\n",
    "\n",
    "Convenient choices for $\\mathbf{v}$\n",
    "\n",
    "$\n",
    "\\mathbf{v}=\\langle c_2,-c_1\\rangle\n",
    "\\implies\n",
    "\\langle c_1,c_2\\rangle\\cdot\\langle c_2,-c_1\\rangle=c_1c_2-c_1c_2=0\n",
    "$\n",
    "\n",
    "$\n",
    "\\mathbf{v}=\\langle-c_2,c_1\\rangle\n",
    "\\implies\n",
    "\\langle c_1,c_2\\rangle\\cdot\\langle-c_2,c_1\\rangle=c_1c_2-c_1c_2=0\n",
    "$"
   ]
  },
  {
   "attachments": {},
   "cell_type": "markdown",
   "metadata": {},
   "source": [
    "---"
   ]
  },
  {
   "attachments": {},
   "cell_type": "markdown",
   "metadata": {},
   "source": [
    "Construct vectors $\\mathbf{v}_i$ parallel to each constraint boundary to determine in which direction along the boundary the objective $z(\\mathbf{x})$ increases and in which direction it decreases, or whether it stays constant in both directions.\n",
    "\n",
    "Determine the sign of the directional derivative on each constaint boundary.\n",
    "\n",
    "1. $\\nabla z\\cdot\\mathbf{v}\\gt0\\implies z$ increases in the direction of $\\mathbf{v}$\n",
    "2. $\\nabla z\\cdot\\mathbf{v}\\lt0\\implies z$ increases in the direction of $-\\mathbf{v}$ (i.e., $z$ decreases in the direction of $\\mathbf{v}$)\n",
    "3. $\\nabla z\\cdot\\mathbf{v}=0\\implies z$ remains constant in both directions\n",
    "\n",
    "When the boundaries are marked, follow the arrows to maximize the objective $z(\\mathbf{x})$ and go against the arrows to minimize it."
   ]
  },
  {
   "attachments": {},
   "cell_type": "markdown",
   "metadata": {},
   "source": [
    "\n",
    "A level set boundary must be either $\\argmax_{\\Gamma} z$ or $\\argmin_{\\Gamma} z$."
   ]
  }
 ],
 "metadata": {
  "kernelspec": {
   "display_name": "main",
   "language": "python",
   "name": "python3"
  },
  "language_info": {
   "codemirror_mode": {
    "name": "ipython",
    "version": 3
   },
   "file_extension": ".py",
   "mimetype": "text/x-python",
   "name": "python",
   "nbconvert_exporter": "python",
   "pygments_lexer": "ipython3",
   "version": "3.10.8"
  },
  "orig_nbformat": 4,
  "vscode": {
   "interpreter": {
    "hash": "7934a2e895ecf0f9e222ea9c67d2028800f311cc59efafcc0f7e737f99c61e05"
   }
  }
 },
 "nbformat": 4,
 "nbformat_minor": 2
}
