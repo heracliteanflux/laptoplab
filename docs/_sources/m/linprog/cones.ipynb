{
 "cells": [
  {
   "attachments": {},
   "cell_type": "markdown",
   "metadata": {},
   "source": [
    "# Cones & Dual Cones"
   ]
  },
  {
   "attachments": {},
   "cell_type": "markdown",
   "metadata": {},
   "source": [
    "---"
   ]
  },
  {
   "attachments": {},
   "cell_type": "markdown",
   "metadata": {},
   "source": [
    "## Definition of a Cone"
   ]
  },
  {
   "attachments": {},
   "cell_type": "markdown",
   "metadata": {},
   "source": [
    "A cone $V\\subseteq\\mathbb{R}^n$ is a set of vectors that is closed under both vector addition and nonnegative-scalar multiplication.\n",
    "\n",
    "Closure under vector addition\n",
    "\n",
    "$\n",
    "\\mathbf{u}+\\mathbf{v}\\in V\\,\\,\\,\\forall \\mathbf{u},\\mathbf{v}\\in V\n",
    "$\n",
    "\n",
    "Closure under nonnegative-scalar multiplication\n",
    "\n",
    "$\n",
    "c\\mathbf{v}\\in V\\,\\,\\,\\forall \\mathbf{v}\\in V,\\forall c\\in\\mathbb{R}\\ge0\n",
    "$"
   ]
  },
  {
   "attachments": {},
   "cell_type": "markdown",
   "metadata": {},
   "source": [
    "---"
   ]
  },
  {
   "attachments": {},
   "cell_type": "markdown",
   "metadata": {},
   "source": [
    "## Conical Combination"
   ]
  },
  {
   "attachments": {},
   "cell_type": "markdown",
   "metadata": {},
   "source": [
    "A conical combination is just a linear combination constrained to have nonnegative coefficients.\n",
    "\n",
    "$\n",
    "\\begin{aligned}\n",
    "\\sum_{i=1}^n a_ix_i\\,\\,\\,\\text{where}\\,a_i\\ge0\n",
    "\\end{aligned}\n",
    "$"
   ]
  },
  {
   "attachments": {},
   "cell_type": "markdown",
   "metadata": {},
   "source": [
    "---"
   ]
  },
  {
   "attachments": {},
   "cell_type": "markdown",
   "metadata": {},
   "source": [
    "## Cones in $\\mathbb{R}^n$"
   ]
  },
  {
   "attachments": {},
   "cell_type": "markdown",
   "metadata": {},
   "source": [
    "Space | Cones\n",
    "-|-\n",
    "$\\mathbb{R}$ | $\\{\\mathbf{0}\\}$, rays, $\\mathbb{R}$\n",
    "$\\mathbb{R}^2$ | $\\{\\mathbf{0}\\}$, rays, lines, wedges, half planes, $\\mathbb{R}^2$\n",
    "$\\mathbb{R}^3$ | $\\{\\mathbf{0}\\}$, rays, lines, 2D wedges, half planes, planes, 3D wedges, half solids, $\\mathbb{R}^3$\n",
    "$\\mathbb{R}^4$ | $\\{\\mathbf{0}\\}$, rays, lines, 2D wedges, half planes, planes, 3D wedges, half solids, solids, 4D wedges, half hyper solids, $\\mathbb{R}^4$"
   ]
  },
  {
   "attachments": {},
   "cell_type": "markdown",
   "metadata": {},
   "source": [
    "### Cones in $\\mathbb{R}$"
   ]
  },
  {
   "attachments": {},
   "cell_type": "markdown",
   "metadata": {},
   "source": [
    "The zero vector $\\{\\mathbf{0}\\}$ is a cone.\n",
    "\n",
    "All rays are cones.\n",
    "\n",
    "construction of a ray\n",
    "$\n",
    "\\mathcal{r}=\\{c\\mathbf{v}\\mid c\\in\\mathbb{R}\\ge0,\\mathbf{v}\\in\\mathbb{R}\\ne\\mathbf{0}\\}\n",
    "$\n",
    "\n",
    "$\\mathbb{R}$ is a cone."
   ]
  },
  {
   "attachments": {},
   "cell_type": "markdown",
   "metadata": {},
   "source": [
    "### Cones in $\\mathbb{R}^2$"
   ]
  },
  {
   "attachments": {},
   "cell_type": "markdown",
   "metadata": {},
   "source": [
    "#### The zero vector"
   ]
  },
  {
   "attachments": {},
   "cell_type": "markdown",
   "metadata": {},
   "source": [
    "The zero vector $\\{\\mathbf{0}\\}$ is a cone."
   ]
  },
  {
   "attachments": {},
   "cell_type": "markdown",
   "metadata": {},
   "source": [
    "#### Rays"
   ]
  },
  {
   "attachments": {},
   "cell_type": "markdown",
   "metadata": {},
   "source": [
    "construction of a ray\n",
    "$\n",
    "\\mathcal{r}=\\{c\\mathbf{v}\\mid c\\in\\mathbb{R}\\ge0,\\mathbf{v}\\in\\mathbb{R}^2\\ne\\mathbf{0}\\}\n",
    "$\n",
    "\n",
    "All rays are cones."
   ]
  },
  {
   "attachments": {},
   "cell_type": "markdown",
   "metadata": {},
   "source": [
    "#### Lines"
   ]
  },
  {
   "attachments": {},
   "cell_type": "markdown",
   "metadata": {},
   "source": [
    "A line is usually constructed as\n",
    "$\n",
    "\\ell=\\{c\\mathbf{v}\\mid c\\in\\mathbb{R},\\mathbf{v}\\in\\mathbb{R}^2\\ne\\mathbf{0}\\}\n",
    "$.\n",
    "But a cone is closed under nonnegative-scalar multiplication, not scalar multiplication. So a line is constructed as the union of two rays pointing in opposite directions.\n",
    "\n",
    "construction of a line\n",
    "$\n",
    "\\ell\n",
    "=\\{c_1\\mathbf{v_1}+c_2\\mathbf{v_2}\\mid c_1,c_2\\in\\mathbb{R}\\ge0,\\mathbf{v_1,v_2}\\in\\mathbb{R}^2\\ne\\mathbf{0},\\mathbf{v_2}=-\\mathbf{v_1}\\}\n",
    "=\\{c_1\\mathbf{v}+c_2(-\\mathbf{v})\\mid c_1,c_2\\in\\mathbb{R}\\ge0,\\mathbf{v}\\in\\mathbb{R}^2\\ne\\mathbf{0}\\}\n",
    "$\n",
    "\n",
    "All lines are cones."
   ]
  },
  {
   "attachments": {},
   "cell_type": "markdown",
   "metadata": {},
   "source": [
    "#### Wedges"
   ]
  },
  {
   "attachments": {},
   "cell_type": "markdown",
   "metadata": {},
   "source": [
    "construction of a wedge\n",
    "$\n",
    "\\mathcal{w}=\\{c_1\\mathbf{v_1}+c_2\\mathbf{v_2}\\mid c_1,c_2\\in\\mathbb{R}\\ge0,\\mathbf{v_1,v_2}\\in\\mathbb{R}^2\\ne\\mathbf{0}\\}\n",
    "$\n",
    "for independent $\\mathbf{v_1,v_2}$\n",
    "\n",
    "If $\\mathbf{v_1,v_2}$ are independent, then $V$ is a wedge.\n",
    "\n",
    "If $\\mathbf{v_1,v_2}$ are dependent, then $\\mathbf{v_2}=c\\mathbf{v_1}$ and this construction is reduced to that of either a ray or a line. If $c\\gt0$, then $V$ is a ray. If $c\\lt0$, then $V$ is the union of two rays pointing in opposite directions and so is a line.\n",
    "\n",
    "All wedges are cones."
   ]
  },
  {
   "attachments": {},
   "cell_type": "markdown",
   "metadata": {},
   "source": [
    "#### Half Planes"
   ]
  },
  {
   "attachments": {},
   "cell_type": "markdown",
   "metadata": {},
   "source": [
    "construction of a half plane\n",
    "$\n",
    "H\n",
    "=\\{c_1\\mathbf{v_1}+c_2\\mathbf{v_2}+c_3\\mathbf{v_3}\\mid c_1,c_2,c_3\\in\\mathbb{R}\\ge0,\\mathbf{v_1,v_2,v_3}\\in\\mathbb{R}^2\\ne\\mathbf{0},\\mathbf{v_2}=-\\mathbf{v_1}\\}\n",
    "=\\{c_1\\mathbf{v_1}+c_2(-\\mathbf{v_1})+c_3\\mathbf{v_3}\\mid c_1,c_2,c_3\\in\\mathbb{R}\\ge0,\\mathbf{v_1,v_3}\\in\\mathbb{R}^2\\ne\\mathbf{0}\\}\n",
    "$\n",
    "for independent $\\mathbf{v_1,v_3}$\n",
    "\n",
    "If $\\mathbf{v_1,v_3}$ are independent, then $V$ is a half plane.\n",
    "\n",
    "All half planes are cones."
   ]
  },
  {
   "attachments": {},
   "cell_type": "markdown",
   "metadata": {},
   "source": [
    "#### $\\mathbb{R}^2$"
   ]
  },
  {
   "attachments": {},
   "cell_type": "markdown",
   "metadata": {},
   "source": [
    "### Cones in $\\mathbb{R}^3$"
   ]
  },
  {
   "attachments": {},
   "cell_type": "markdown",
   "metadata": {},
   "source": [
    "the zero vector\n",
    "$\n",
    "\\{\\mathbf{0}\\}\n",
    "$\n",
    "\n",
    "rays\n",
    "$\n",
    "\\mathcal{r}=\\{c\\mathbf{v}\\mid c\\in\\mathbb{R}\\ge0,\\mathbf{v}\\in\\mathbb{R}^3\\ne\\mathbf{0}\\}\n",
    "$\n",
    "\n",
    "lines\n",
    "$\n",
    "\\ell=\\{c_1\\mathbf{v}+c_2(-\\mathbf{v})\\mid c_1,c_2\\in\\mathbb{R}\\ge0,\\mathbf{v}\\in\\mathbb{R}^3\\ne\\mathbf{0}\\}\n",
    "$\n",
    "\n",
    "2D wedges\n",
    "$\n",
    "\\mathcal{w}=\\{c_1\\mathbf{v_1}+c_2\\mathbf{v_2}\\mid c_1,c_2\\in\\mathbb{R}\\ge0,\\mathbf{v_1,v_2}\\in\\mathbb{R}^3\\ne\\mathbf{0}\\}\n",
    "$\n",
    "for independent $\\mathbf{v_1,v_2}$\n",
    "\n",
    "half planes\n",
    "$\n",
    "\\mathcal{h}=\\{c_1\\mathbf{v_1}+c_2(-\\mathbf{v_1})+c_3\\mathbf{v_3}\\mid c_1,c_2,c_3\\in\\mathbb{R}\\ge0,\\mathbf{v_1,v_3}\\in\\mathbb{R}^3\\ne\\mathbf{0}\\}\n",
    "$\n",
    "for independent $\\mathbf{v_1,v_3}$"
   ]
  },
  {
   "attachments": {},
   "cell_type": "markdown",
   "metadata": {},
   "source": [
    "#### Planes"
   ]
  },
  {
   "attachments": {},
   "cell_type": "markdown",
   "metadata": {},
   "source": [
    "A plane is usually constructed as\n",
    "$\n",
    "\\mathcal{p}=\\{c_1\\mathbf{v_1}+c_2\\mathbf{v_2}\\mid c_1,c_2\\in\\mathbb{R},\\mathbf{v_1,v_2}\\in\\mathbb{R}^2\\ne\\mathbf{0}\\}\n",
    "$\n",
    "for independent $\\mathbf{v_1,v_2}$. But a cone is closed under nonnegative-scalar multiplication, not scalar multiplication. So a plane requires that $\\mathbf{v_2}$ be moved out of the half plane constructed by $\\mathbf{v_1,v_2,v_3}$ bounded by the line given by $\\mathbf{v_2}=-\\mathbf{v_1}$.\n",
    "\n",
    "All planes are cones."
   ]
  },
  {
   "attachments": {},
   "cell_type": "markdown",
   "metadata": {},
   "source": [
    "##### Plane Construction: Union of two half planes with two independent generating vectors"
   ]
  },
  {
   "attachments": {},
   "cell_type": "markdown",
   "metadata": {},
   "source": [
    "One way to construct a plane is to take the union of two half planes with a common boundary line and which share two independent generating vectors.\n",
    "\n",
    "$\n",
    "\\mathcal{h_1}=\\{c_1\\mathbf{v_1}+c_2(-\\mathbf{v_1})+c_3\\mathbf{v_3}\\mid c_1,c_2,c_3\\in\\mathbb{R}\\ge0,\\mathbf{v_1,v_3}\\in\\mathbb{R}^3\\ne\\mathbf{0}\\}\n",
    "$\n",
    "for independent $\\mathbf{v_1,v_3}$\n",
    "\n",
    "$\n",
    "\\mathcal{h_2}=\\{c_1\\mathbf{v_1}+c_2(-\\mathbf{v_1})+c_3(-\\mathbf{v_3})\\mid c_1,c_2,c_3\\in\\mathbb{R}\\ge0,\\mathbf{v_1,v_3}\\in\\mathbb{R}^3\\ne\\mathbf{0}\\}\n",
    "$\n",
    "for independent $\\mathbf{v_1,v_3}$\n",
    "\n",
    "$\n",
    "\\mathcal{p}\n",
    "=\\mathcal{h_1}\\cup\\mathcal{h_2}\n",
    "=\\{c_1\\mathbf{v_1}+c_2(-\\mathbf{v_1})+c_3\\mathbf{v_3}+c_4(-\\mathbf{v_3})\\mid c\\in\\mathbb{R}\\ge0,\\mathbf{v}\\in\\mathbb{R}^3\\ne\\mathbf{0}\\}\n",
    "$\n",
    "for independent $\\mathbf{v_1,v_3}$"
   ]
  },
  {
   "attachments": {},
   "cell_type": "markdown",
   "metadata": {},
   "source": [
    "#### 3D wedges"
   ]
  },
  {
   "attachments": {},
   "cell_type": "markdown",
   "metadata": {},
   "source": [
    "##### Construction: Tetrahedron (Trigonal Cone)"
   ]
  },
  {
   "attachments": {},
   "cell_type": "markdown",
   "metadata": {},
   "source": [
    "$\n",
    "\\mathcal{w}=\\{c_1\\mathbf{v_1}+c_2\\mathbf{v_2}+c_3\\mathbf{v_3}\\mid c\\in\\mathbb{R}\\ge0,\\mathbf{v}\\in\\mathbb{R}^3\\ne\\mathbf{0}\\}\n",
    "$\n",
    "for independent $\\mathbf{v_1,v_2,v_3}$"
   ]
  },
  {
   "attachments": {},
   "cell_type": "markdown",
   "metadata": {},
   "source": [
    "##### Construction: $n$-gonal Cone"
   ]
  },
  {
   "attachments": {},
   "cell_type": "markdown",
   "metadata": {},
   "source": [
    "$\n",
    "\\mathcal{w}=\\{c_1\\mathbf{v_1}+c_2\\mathbf{v_2}+c_3\\mathbf{v_3}+...+c_n\\mathbf{v_n}\\mid c\\in\\mathbb{R}\\ge0,\\mathbf{v}\\in\\mathbb{R}^3\\ne\\mathbf{0}\\}\n",
    "$\n",
    "for independent $\\mathbf{v_1,v_2,v_3}$\n",
    "\n",
    "* Pyramidal Cone\n",
    "* Pentagonal Cone\n",
    "* Hexagonal Cone\n",
    "* Heptagonal Cone\n",
    "* Octogonal Cone\n",
    "* Nonogonal Cone\n",
    "* Decagonal Cone\n",
    "* ...\n",
    "* Circular Cone"
   ]
  },
  {
   "attachments": {},
   "cell_type": "markdown",
   "metadata": {},
   "source": [
    "##### Construction: Circular Cones"
   ]
  },
  {
   "attachments": {},
   "cell_type": "markdown",
   "metadata": {},
   "source": [
    "Rotate two independent vectors around their bisector to generate a circular cone in $\\mathbb{R}^3$."
   ]
  },
  {
   "attachments": {},
   "cell_type": "markdown",
   "metadata": {},
   "source": [
    "##### Construction: Cylinders (Fans?)"
   ]
  },
  {
   "attachments": {},
   "cell_type": "markdown",
   "metadata": {},
   "source": [
    "$\n",
    "\\mathcal{h_1}=\\{c_1\\mathbf{v_1}+c_2(-\\mathbf{v_1})+c_3\\mathbf{v_2}\\mid c\\in\\mathbb{R}\\ge0,\\mathbf{v}\\in\\mathbb{R}^3\\ne\\mathbf{0}\\}\n",
    "$\n",
    "for independent $\\mathbf{v_1,v_2}$\n",
    "\n",
    "$\n",
    "\\mathcal{h_2}=\\{c_1\\mathbf{v_1}+c_2(-\\mathbf{v_1})+c_3\\mathbf{v_3}\\mid c\\in\\mathbb{R}\\ge0,\\mathbf{v}\\in\\mathbb{R}^3\\ne\\mathbf{0}\\}\n",
    "$\n",
    "for independent $\\mathbf{v_1,v_3}$\n",
    "\n",
    "$\n",
    "\\mathcal{c}\n",
    "=\\mathcal{h_1}\\cup\\mathcal{h_2}\n",
    "=\\{c_1\\mathbf{v_1}+c_2(-\\mathbf{v_1})+c_3\\mathbf{v_2}+c_4\\mathbf{v_3}\\mid c\\in\\mathbb{R}\\ge0,\\mathbf{v}\\in\\mathbb{R}^3\\ne\\mathbf{0}\\}\n",
    "$\n",
    "for independent $\\mathbf{v_1,v_2,v_3}$"
   ]
  },
  {
   "attachments": {},
   "cell_type": "markdown",
   "metadata": {},
   "source": [
    "#### Half Solids"
   ]
  },
  {
   "attachments": {},
   "cell_type": "markdown",
   "metadata": {},
   "source": [
    "##### Construction: Union of a plane and a ray"
   ]
  },
  {
   "attachments": {},
   "cell_type": "markdown",
   "metadata": {},
   "source": [
    "$\n",
    "\\mathcal{r}=\\{c\\mathbf{v_5}\\mid c\\in\\mathbb{R}\\ge0,\\mathbf{v}\\in\\mathbb{R}^3\\ne\\mathbf{0}\\}\n",
    "$\n",
    "\n",
    "$\n",
    "\\mathcal{p}\n",
    "=\\{c_1\\mathbf{v_1}+c_2(-\\mathbf{v_1})+c_3\\mathbf{v_3}+c_4(-\\mathbf{v_3})\\mid c\\in\\mathbb{R}\\ge0,\\mathbf{v}\\in\\mathbb{R}^3\\ne\\mathbf{0}\\}\n",
    "$\n",
    "for independent $\\mathbf{v_1,v_3}$\n",
    "\n",
    "$\n",
    "\\mathcal{s}\n",
    "=\\mathcal{r}\\cup\\mathcal{p}\n",
    "=\\{c_1\\mathbf{v_1}+c_2(-\\mathbf{v_1})+c_3\\mathbf{v_3}+c_4(-\\mathbf{v_3})+c_5\\mathbf{v_5}\\mid c\\in\\mathbb{R}\\ge0,\\mathbf{v}\\in\\mathbb{R}^3\\ne\\mathbf{0}\\}\n",
    "$\n",
    "for independent $\\mathbf{v_1,v_3,v_5}$"
   ]
  },
  {
   "attachments": {},
   "cell_type": "markdown",
   "metadata": {},
   "source": [
    "#### $\\mathbb{R}^3$"
   ]
  },
  {
   "attachments": {},
   "cell_type": "markdown",
   "metadata": {},
   "source": [
    "---"
   ]
  },
  {
   "attachments": {},
   "cell_type": "markdown",
   "metadata": {},
   "source": [
    "## Dual Cone"
   ]
  },
  {
   "attachments": {},
   "cell_type": "markdown",
   "metadata": {},
   "source": [
    "If $V\\subseteq\\mathbb{R}^n$ is a cone, then its dual is\n",
    "\n",
    "$V^*=\\{\\mathbf{u}\\in\\mathbb{R}^n\\mid\\mathbf{u}\\cdot\\mathbf{v}\\ge0\\,\\forall\\mathbf{v}\\in V\\}$"
   ]
  },
  {
   "attachments": {},
   "cell_type": "markdown",
   "metadata": {},
   "source": [
    "---"
   ]
  },
  {
   "attachments": {},
   "cell_type": "markdown",
   "metadata": {},
   "source": [
    "If $V$ is a cone, then its dual $V^*$ is also a cone."
   ]
  },
  {
   "attachments": {},
   "cell_type": "markdown",
   "metadata": {},
   "source": [
    "Proof\n",
    "\n",
    "$\n",
    "\\begin{aligned}\n",
    "&(c_1\\mathbf{u})\\cdot\\mathbf{v}\n",
    "=c_1(\\mathbf{u}\\cdot\\mathbf{v})\\\\\n",
    "&(c_1\\ge0)\\land(\\mathbf{u}\\cdot\\mathbf{v}\\ge0)\n",
    "\\implies\n",
    "(c_1\\mathbf{u})\\cdot\\mathbf{v}\\ge0\\\\\n",
    "&(\\mathbf{u_1}\\cdot\\mathbf{v}\\ge0)\\land(\\mathbf{u_2}\\cdot\\mathbf{v}\\ge0)\n",
    "\\implies\n",
    "(\\mathbf{u_1}+\\mathbf{u_2})\\cdot\\mathbf{v}\n",
    "=\\mathbf{u_1}\\cdot\\mathbf{v}+\\mathbf{u_2}\\cdot\\mathbf{v}\\ge0\n",
    "\\end{aligned}\n",
    "$"
   ]
  },
  {
   "attachments": {},
   "cell_type": "markdown",
   "metadata": {},
   "source": [
    "---"
   ]
  },
  {
   "attachments": {},
   "cell_type": "markdown",
   "metadata": {},
   "source": [
    "## Examples of dual cones in $\\mathbb{R}^2$"
   ]
  },
  {
   "attachments": {},
   "cell_type": "markdown",
   "metadata": {},
   "source": [
    "Wedge\n",
    "\n",
    "$\n",
    "S^*=\\{c_1v_1^\\perp+c_2v_2^\\perp\\mid c_i\\ge0\\}\n",
    "$"
   ]
  },
  {
   "attachments": {},
   "cell_type": "markdown",
   "metadata": {},
   "source": [
    "---"
   ]
  },
  {
   "attachments": {},
   "cell_type": "markdown",
   "metadata": {},
   "source": [
    "## Summary of cones in $\\mathbb{R}^2$ and their duals"
   ]
  },
  {
   "attachments": {},
   "cell_type": "markdown",
   "metadata": {},
   "source": [
    "Cone | Dual\n",
    "-|-\n",
    "$\\{\\mathbf{0}\\}$ | $\\mathbb{R}^2$\n",
    "ray | half plane\n",
    "line | perpendicular line\n",
    "wedge | wedge\n",
    "half plane | ray\n",
    "$\\mathbb{R}^2$ | $\\{\\mathbf{0}\\}$"
   ]
  },
  {
   "attachments": {},
   "cell_type": "markdown",
   "metadata": {},
   "source": [
    "---"
   ]
  },
  {
   "attachments": {},
   "cell_type": "markdown",
   "metadata": {},
   "source": [
    "[PROPOSITION]\n",
    "\n",
    "If $V$ is a closed cone, then $V^{**}=V$. That is, the dual of the dual is the primal.\n",
    "\n",
    "PROOF\n",
    "\n",
    "$\n",
    "\\mathbf{v}\\in V\n",
    "\\implies\n",
    "\\mathbf{u\\cdot v}\\ge0\\,\\forall\\mathbf{u}\\in V^*\n",
    "\\implies\n",
    "V\\subseteq V^{**}\n",
    "$\n",
    "\n",
    "Suppose $\\mathbf{v}\\not\\in V$ and let $\\mathbf{w}\\in V$ be a vector with minimal angle $\\theta$ with $\\mathbf{v}$. In other words, if $\\mathbf{w}'\\in V$ and $\\theta'$ is the angle between $\\mathbf{v}$ and $\\mathbf{w}'$, then $\\theta\\le\\theta'$.\n",
    "\n",
    "Since $V$ is closed, $V^c$ is open $\\implies\\theta\\gt0$.\n",
    "\n",
    "Let $\\mathbf{u}\\in V^*\\ni\\mathbf{u\\cdot w}=0$.\n",
    "\n",
    "Then\n",
    "$\n",
    "\\mathbf{u\\cdot v}\\lt0\n",
    "\\implies\n",
    "\\mathbf{v}\\not\\in V^{**}\n",
    "\\implies\n",
    "V^{**}\\subseteq V\n",
    "$\n",
    "\n",
    "The dual cone is always closed; so, the dual of the dual is closed.\n",
    "\n",
    "The only truly open cone in $\\mathbb{R}^n$ is $\\mathbb{R}^n$ itself, which is both open and closed.\n",
    "\n",
    "There are cones which are neither open nor closed because they need not contain all their boundary points to satisfy the closure requirements that define a cone. But the dual is defined by weak inequalities that necessarily result in a closed set; so, the dual of the dual includes the primal and all the boundary points of the primal, which is called the closure of the primal."
   ]
  },
  {
   "attachments": {},
   "cell_type": "markdown",
   "metadata": {},
   "source": [
    "---"
   ]
  },
  {
   "attachments": {},
   "cell_type": "markdown",
   "metadata": {},
   "source": [
    "[EXAMPLE OF UNCLOSED CONE]"
   ]
  },
  {
   "attachments": {},
   "cell_type": "markdown",
   "metadata": {},
   "source": [
    "If $V$ is the union of the zero vector along with the interior of a namesake cone, then $V$ is a cone.\n",
    "\n",
    "The dual cone $V^*$ picks up boundary vectors, as does the dual of the dual."
   ]
  },
  {
   "attachments": {},
   "cell_type": "markdown",
   "metadata": {},
   "source": [
    "[EXAMPLE OF UNCLOSED CONE]"
   ]
  },
  {
   "attachments": {},
   "cell_type": "markdown",
   "metadata": {},
   "source": [
    "If $V$ is the union of the zero vector along with the interior of a half plane cone, then $V$ is a cone.\n",
    "\n",
    "The dual cone $V^*$ is the ray normal to the half plane. The dual fo the dual includes the full half plane."
   ]
  },
  {
   "attachments": {},
   "cell_type": "markdown",
   "metadata": {},
   "source": [
    "---"
   ]
  },
  {
   "attachments": {},
   "cell_type": "markdown",
   "metadata": {},
   "source": [
    "[FEASIBLE DIRECTION & CONE OF FEASIBLE DIRECTIONS]\n",
    "\n",
    "Consider a feasible point $x$ in the control space of an LP and let $\\mathbf{v}_x$ be a vector with origin at $x$.\n",
    "\n",
    "Regardless of its magnitude, $\\mathbf{v}_x$ can be considered to define a direction. Call the direction defined by $\\mathbf{v}_x$ a feasible direction if there exists another feasible point $y$ in the direction $\\mathbf{v}_x$ from $x$, at any positive distance from $x$ not necessarily at the terminus of $\\mathbf{v}_x$.\n",
    "\n",
    "For any feasible point $x$, define the set $V_x=\\{\\mathbf{v}_x\\mid\\mathbf{v}_x\\,\\text{represents a feasible direction from}\\,x\\}$"
   ]
  },
  {
   "attachments": {},
   "cell_type": "markdown",
   "metadata": {},
   "source": [
    "[PROPOSITION]\n",
    "\n",
    "$V_x$ is a cone.\n",
    "\n",
    "PROOF\n",
    "\n",
    "Follows from the convexity of the feasible set."
   ]
  },
  {
   "attachments": {},
   "cell_type": "markdown",
   "metadata": {},
   "source": [
    "[PROPOSITION]\n",
    "\n",
    "If $F$ is the feasible set of an LP and the objective function $z$ has a minimum at $x$, then\n",
    "\n",
    "$\n",
    "\\begin{aligned}\n",
    "\\nabla z\\in V_x^*\n",
    "\\end{aligned}\n",
    "$\n",
    "\n",
    "That is, it is a necessary condition for a minimum at a feasible point $x$ that the gradient of the objective function be in the dual cone of the cone of feasible directions at the point $x$.\n",
    "\n",
    "PROOF\n",
    "\n",
    "Starting at $x$, $z$ gets smaller on the set $F\\iff$ there is a feasible direction in which $z$ has a negative directional derivative; that is, a feasible direction $\\mathbf{v}_x\\in V_x$ such that $\\nabla z\\cdot\\mathbf{v}_x\\lt0$.\n",
    "\n",
    "Therefore\n",
    "\n",
    "$\n",
    "\\begin{aligned}\n",
    "z(x)=\\underset{F}{\\min} z\n",
    "\\iff\n",
    "\\nabla z\\cdot\\mathbf{v}_x\\ge0\\,\\forall\\mathbf{v}_x\\in V_x\n",
    "\\end{aligned}\n",
    "$\n",
    "\n",
    "which, by definition, places $\\nabla z$ in the dual cone $V_x^*$ at $x$.\n",
    "\n",
    "This is an important test for a minimum."
   ]
  },
  {
   "attachments": {},
   "cell_type": "markdown",
   "metadata": {},
   "source": [
    "[EXERCISE]\n",
    "\n",
    "1. Choose some feasible point $x$ (an interior point; a boundary point; a vertex).\n",
    "2. Determine the cone $V_x$ of feasible directions at $x$.\n",
    "3. Determine the dual cone $V_x^*$.\n",
    "4. Verify that any function $z$ whose gradient $\\nabla z\\in V_x$ has a minimum $\\min z$ at $x$.\n",
    "5. Verify that any function $z$ whose gradient $\\nabla z\\not\\in V_x$ does not have a minimum $\\min z$ at $x$."
   ]
  },
  {
   "attachments": {},
   "cell_type": "markdown",
   "metadata": {},
   "source": [
    "[EXAMPLE]\n",
    "\n",
    "Suppose $x$ is an interior point of the feasible set.\n",
    "\n",
    "Then the cone of feasible directions is $\\mathbb{R}^n$ and the dual is just the zero vector.\n",
    "\n",
    "In other words, only a constant function has a minimum at an interior point."
   ]
  },
  {
   "attachments": {},
   "cell_type": "markdown",
   "metadata": {},
   "source": [
    "[PROPOSITION]\n",
    "\n",
    "If the feasible set of an LP is defined by greater-than-or-equal-to constraints\n",
    "\n",
    "$\n",
    "\\begin{aligned}\n",
    "g_1(x)\\ge b_1,...,g_k(x)\\ge b_k\n",
    "\\end{aligned}\n",
    "$\n",
    "\n",
    "then at any regular point $x$ the boundaries of the dual cone $V_x^*$ are the gradients\n",
    "\n",
    "$\n",
    "\\begin{aligned}\n",
    "\\nabla g_1,...,\\nabla g_k\n",
    "\\end{aligned}\n",
    "$\n",
    "\n",
    "of the active constraints at $x$"
   ]
  },
  {
   "attachments": {},
   "cell_type": "markdown",
   "metadata": {},
   "source": [
    "[PROPOSITION]\n",
    "\n",
    "Let $x$ be a feasible point in the control space of an LP and let $s$ be the nonnegative vector of slack variables at $x$.\n",
    "\n",
    "Then the dual cone\n",
    "\n",
    "$\n",
    "\\begin{aligned}\n",
    "V_x^*\n",
    "=\\left\\{\\sum_{i=1}^ny_i\\nabla g_i\\mid y\\ge0\\land y\\cdot s=0\\right\\}\n",
    "\\end{aligned}\n",
    "$\n",
    "\n",
    "PROOF\n",
    "\n",
    "Because $y$ and $s$ are each nonnegative\n",
    "\n",
    "$\n",
    "y\\cdot s\n",
    "\\iff\n",
    "y_is_i=0\\,\\forall i\n",
    "$\n",
    "\n",
    "which means that\n",
    "\n",
    "$\n",
    "y_i\\gt0\n",
    "\\implies\n",
    "s_i=0\n",
    "$\n",
    "\n",
    "and\n",
    "\n",
    "$\n",
    "s_i\\gt0\n",
    "\\implies\n",
    "y_i=0\n",
    "$\n",
    "\n",
    "The condition $y\\cdot s=0$ stipulates that only the gradients $\\nabla g_i$ of the active constraints $s_i=0$ can be given positive coefficients $y_i\\gt0$.\n",
    "\n",
    "If $x$ is a regular point, then there is a unique solution for $y$.\n",
    "\n",
    "If $x$ is not a regular point, then there are redundant active constraints for which $s_i=0$ and these provide extra, unnecessary gradients yielding multiple solutions for $y$. But these extra gradients are already in the dual cone which is not changed by their inclusion in the generating set."
   ]
  },
  {
   "attachments": {},
   "cell_type": "markdown",
   "metadata": {},
   "source": [
    "[PROPOSITION] special case of KKT Karush Kuhn Tucker conditions\n",
    "\n",
    "$\n",
    "\\begin{aligned}\n",
    "z\n",
    "\\,\\text{is at a minimum at a feasible point}\\,\n",
    "x\n",
    "\\iff\n",
    "\\sum_iy_i\\nabla g_i\n",
    "\\,\\text{has a solution}\\,\n",
    "y=(y_1,...,y_k)\n",
    "\\,\\text{satisfying}\\,\n",
    "y,s\\ge0\\land y\\cdot s=0\n",
    "\\end{aligned}\n",
    "$\n",
    "\n",
    "This enables solving the primal minimization problem by finding all feasible points $x$ at which the objective gradient is in the dual cone of the cone of feasible directions at $x$."
   ]
  },
  {
   "attachments": {},
   "cell_type": "markdown",
   "metadata": {},
   "source": [
    "[COROLLARY]\n",
    "\n",
    "The test\n",
    "\n",
    "$\n",
    "\\begin{aligned}\n",
    "\\nabla z\n",
    "=\\sum_iy_i\\nabla g_i\n",
    "\\,\\text{where}\\,\n",
    "y\\ge0\\land y\\cdot s=0\n",
    "\\end{aligned}\n",
    "$\n",
    "\n",
    "applies to a maximization problem with less-than-or-equal-to constraints, just like it\n",
    "\n",
    "applies to a minimization problem with greater-than-or-equal-to constraints.\n",
    "\n",
    "PROOF\n",
    "\n",
    "$\n",
    "\\begin{aligned}\n",
    "z\n",
    "\\,\\text{has a maximum at}\\,\n",
    "x\n",
    "\\iff\n",
    "-z\n",
    "\\,\\text{has a minimum at}\\,\n",
    "x\n",
    "\\end{aligned}\n",
    "$\n",
    "\n",
    "and if the constraints are\n",
    "\n",
    "$\n",
    "g_1(x)\\le b_1,...,g_k(x)\\le b_k\n",
    "$\n",
    "\n",
    "then\n",
    "\n",
    "$\n",
    "-\\nabla g_1,...,-\\nabla g_k\\ni s_i=0\n",
    "$\n",
    "\n",
    "are the boundaries of $V_x^*$\n",
    "\n",
    "The other two cases\n",
    "* maximization problem with greater-than-or-equal-to constraints\n",
    "* minimization problem with less-than-or-equal-to constraints\n",
    "\n",
    "require a sign change of either RHS or LHS or an equivalent reformulation of the contraints."
   ]
  },
  {
   "attachments": {},
   "cell_type": "markdown",
   "metadata": {},
   "source": [
    "---"
   ]
  },
  {
   "attachments": {},
   "cell_type": "markdown",
   "metadata": {},
   "source": [
    "## Terms"
   ]
  },
  {
   "attachments": {},
   "cell_type": "markdown",
   "metadata": {},
   "source": [
    "* [[W](https://en.wikipedia.org/wiki/Cone)] Cone\n",
    "* [[W](https://en.wikipedia.org/wiki/Cone_(topology))] Cone, topology\n",
    "* [[W](https://en.wikipedia.org/wiki/Conical_combination)] Conical Combination\n",
    "* [W] Conical Hull\n",
    "* [[W](https://en.wikipedia.org/wiki/Conical_surface)] Conical Surface\n",
    "* [[W](https://en.wikipedia.org/wiki/Convex_cone)] Convex Cone\n",
    "* [[W](https://en.wikipedia.org/wiki/Half-space_(geometry))] Half Line\n",
    "* [[W](https://en.wikipedia.org/wiki/Half-space_(geometry))] Half Plane\n",
    "* [[W](https://en.wikipedia.org/wiki/Half-space_(geometry))] Half Space\n",
    "* [[W](https://en.wikipedia.org/wiki/Hypercone)] Hypercone\n",
    "* [[W](https://en.wikipedia.org/wiki/Normal_fan)] Normal Fan\n",
    "* [[W](https://en.wikipedia.org/wiki/Polyhedral_complex)] Polyhedral Complex\n",
    "* [[W](https://en.wikipedia.org/wiki/Half-space_(geometry))] Ray\n",
    "* [[W](https://en.wikipedia.org/wiki/Simplicial_complex)] Simplicial Complex"
   ]
  },
  {
   "attachments": {},
   "cell_type": "markdown",
   "metadata": {},
   "source": [
    "---"
   ]
  }
 ],
 "metadata": {
  "language_info": {
   "name": "python"
  },
  "orig_nbformat": 4
 },
 "nbformat": 4,
 "nbformat_minor": 2
}
