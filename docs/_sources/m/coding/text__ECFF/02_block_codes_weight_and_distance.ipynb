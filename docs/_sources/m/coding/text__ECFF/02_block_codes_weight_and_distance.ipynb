{
 "cells": [
  {
   "cell_type": "markdown",
   "metadata": {},
   "source": [
    "# Block Codes, Weight, and Distance\n",
    "`ECFF` `1992` Pretzel, Oliver. _Error-Correcting Codes and Finite Fields_. Oxford University Press Applied Mathematics and Computing Science Series.\n",
    "```{contents}\n",
    "```"
   ]
  },
  {
   "cell_type": "markdown",
   "metadata": {},
   "source": [
    "---\n",
    "---\n",
    "---"
   ]
  },
  {
   "cell_type": "markdown",
   "metadata": {},
   "source": [
    "How to assess the performance of a code over a given channel? The basis for this assessment is the Hamming distance which is the number of places in which two words differ.\n",
    "\n",
    "The worst-case error-processing performance of a code is determined by the minimum distance between code words. Then some elementary probability theory can be used to assess the performance of a code."
   ]
  },
  {
   "cell_type": "markdown",
   "metadata": {},
   "source": [
    "---\n",
    "---\n",
    "---"
   ]
  },
  {
   "cell_type": "markdown",
   "metadata": {},
   "source": [
    "## Block Codes"
   ]
  },
  {
   "cell_type": "markdown",
   "metadata": {},
   "source": [
    "```txt\n",
    "                                                         +--------------------------+\n",
    "                                                         |                          |\n",
    "                                                         |  Random error generator  |\n",
    "                                                         |                          |\n",
    "                                                         +--------------------------+\n",
    "                                                                      |                                                            +-----------+\n",
    "                                                                      |                                                            |           |  Message\n",
    "           +----------------+           +-----------+                 |                      +-------------------+---------------->|  Decoder  |----------->\n",
    "  Message  |                |  Message  |           |  Signal         v   Distorted signal   |                   |  code words u'  |           |  words x'\n",
    "---------->|  Preprocessor  |---------->|  Encoder  |--------------->|+|-------------------->|  Error processor  |                 +-----------+\n",
    "  string   |                |  words x  |           |  code words u       received words v   |                   |\n",
    "           +----------------+           +-----------+                                        +-------------------+----------------------------------------->\n",
    "                                                                                                                    v + error signal\n",
    "```"
   ]
  },
  {
   "cell_type": "markdown",
   "metadata": {},
   "source": [
    "### Definition: block"
   ]
  },
  {
   "cell_type": "markdown",
   "metadata": {},
   "source": [
    "<fieldset style=\"border: 0.5px solid #0096FF; border-radius: 5px; margin: 0px 0px 15px 0px; padding: 15px 20px 0px 20px;\">\n",
    "\n",
    "The encoder's preprocessor divides the input message of arbitrary length into blocks (words) of a fixed number of symbols $m$ and then the encoder translates each word into a codeword of fixed length $n$. Such a code is called a block code.\n",
    "\n",
    "<div class=\"full-width\" style=\"color: #0096FF;\">\n",
    "\n",
    "<b>Definition: $A$-word</b>\n",
    "\n",
    "If $A$ is an alphabet then an $A$-word of length $n$ is a sequence of $n$ symbols from $A$.\n",
    "\n",
    "1. The set of $A$-words of length $n$ is denoted by $A^n$.\n",
    "\n",
    "2. If $A$ has $q$ symbols then there are $q$ choices for the symbol in each place in an $A$-word of length $n$ and so the total number of such words is $q^n$.\n",
    "\n",
    "3. Thus $|A^n| = |A|^n = q^n$.\n",
    "\n",
    "</div>\n",
    "</fieldset>"
   ]
  },
  {
   "cell_type": "markdown",
   "metadata": {},
   "source": [
    "### Definition: block code"
   ]
  },
  {
   "cell_type": "markdown",
   "metadata": {},
   "source": [
    "<fieldset style=\"border: 0.5px solid #0096FF; border-radius: 5px; margin: 0px 0px 15px 0px; padding: 15px 20px 0px 20px;\">\n",
    "\n",
    "<div class=\"full-width\" style=\"color: #0096FF;\">\n",
    "\n",
    "<b>Definition: Block Code</b>\n",
    "\n",
    "An $(n, m)$-block code $C$ over the alphabet $A$ of size $q$ consists of a set of precisely $q^m$ code words in $A^n$.\n",
    "\n",
    "$n$ is called the code's <b><i>block length</i></b>.\n",
    "\n",
    "$m$ is called the code's <b><i>rank</i></b>.\n",
    "\n",
    "$m/n$ is called the code's <b><i>rate</i></b> and satisfies $m \\le n \\iff m/n \\le 1$\n",
    "\n",
    "</div>\n",
    "\n",
    "\n",
    "We require precisely $q^m$ codewords to ensure that an encoder exists. There are $q^m$ possible message words and each must correspond to a distinct code word. Any further code words are not used and may as well be discarded.\n",
    "\n",
    "For example, a binary code of rank $m$ must have $2^m$ code words.\n",
    "\n",
    "</fieldset>"
   ]
  },
  {
   "cell_type": "markdown",
   "metadata": {},
   "source": [
    "### Definition: encoder"
   ]
  },
  {
   "cell_type": "markdown",
   "metadata": {},
   "source": [
    "<fieldset style=\"border: 0.5px solid #0096FF; border-radius: 5px; margin: 0px 0px 15px 0px; padding: 15px 20px 0px 20px;\">\n",
    "\n",
    "<div class=\"full-width\" style=\"color: #0096FF;\">\n",
    "\n",
    "<b>Definition: Encoder</b>\n",
    "\n",
    "An <b><i>encoder</i></b> $E$ for $C$ is a map from $A^m$ to $C$.\n",
    "\n",
    "$\\boxed{E : A^m \\to C \\quad\\quad x \\mapsto u}$\n",
    "\n",
    "It translates any $A$-word $x$ of length $m$ into a code word $u = E(x)$. The encoder is a bijection so that each message word corresponds to one and only one codeword and each codeword represents a unique message word.\n",
    "\n",
    "</div>\n",
    "\n",
    "Often, the encoder preserves the message word $x$ as the first part of the code word $u = E(x)$. Such an encoder is called standard or systematic, in which case the code word is divided into message symbols and check symbols and the decoder simply strips the check symbols.\n",
    "\n",
    "</fieldset>"
   ]
  },
  {
   "cell_type": "markdown",
   "metadata": {},
   "source": [
    "### Definition: decoder"
   ]
  },
  {
   "cell_type": "markdown",
   "metadata": {},
   "source": [
    "<fieldset style=\"border: 0.5px solid #0096FF; border-radius: 5px; margin: 0px 0px 15px 0px; padding: 15px 20px 0px 20px;\">\n",
    "\n",
    "<div class=\"full-width\" style=\"color: #0096FF;\">\n",
    "\n",
    "<b>Definition: Decoder</b>\n",
    "\n",
    "The corresponding <b><i>decoder</i></b> $D$ is the inverse map of $E$.\n",
    "\n",
    "$\\boxed{D : C \\to A^m \\quad\\quad u \\mapsto x}$\n",
    "\n",
    "It takes every code word $u = E(x)$ back to $x$.\n",
    "\n",
    "</div>\n",
    "</fieldset>"
   ]
  },
  {
   "cell_type": "markdown",
   "metadata": {},
   "source": [
    "---"
   ]
  },
  {
   "cell_type": "markdown",
   "metadata": {},
   "source": [
    "<div style=\"font-size: 18px\">\n",
    "\n",
    "In a <b><i>binary symmetric channel</i></b> the error-processing capabilities of the coding system <u>do not depend on the encoder and decoder but only on the set of code words</u> because these are all that the channel sees; the choice of encoder and decoder is thus only a matter of practical convenience.\n",
    "\n",
    "Most of coding theory is concerned with (1) the construction of codes $C$ and (2) efficient error processors.\n",
    "\n",
    "</div>"
   ]
  },
  {
   "cell_type": "markdown",
   "metadata": {},
   "source": [
    "---"
   ]
  },
  {
   "cell_type": "markdown",
   "metadata": {},
   "source": [
    "### Definition: received word"
   ]
  },
  {
   "cell_type": "markdown",
   "metadata": {},
   "source": [
    "<fieldset style=\"border: 0.5px solid #0096FF; border-radius: 5px; margin: 0px 0px 15px 0px; padding: 15px 20px 0px 20px;\">\n",
    "\n",
    "When errors occur in transmission, the receiver reads a word $v$ although the transmitter sent a word $u$.\n",
    "\n",
    "<div class=\"full-width\" style=\"color: #0096FF;\">\n",
    "\n",
    "<b>Definition: Received Word</b>\n",
    "\n",
    "If $u = (u_1, u_2, \\dotsc, u_n)$ and $v = (v_1, v_2, \\dotsc, v_n)$ are words in $A^n$ then we refer to $u_j$ as the entry of $u$ in place $j$, and we say that $v$ differs from $u$ in place $j$ if $u_j \\ne v_j$.\n",
    "\n",
    "The word $v$ to be analyzed by the error processor is called the <b><i>received word</i></b>.\n",
    "\n",
    "</div>\n",
    "\n",
    "(In this context the words <i>position</i> and <i>location</i> are synonyms for the word <i>place</i>.)\n",
    "\n",
    "</fieldset>"
   ]
  },
  {
   "cell_type": "markdown",
   "metadata": {},
   "source": [
    "### Definition: error of weight $k$"
   ]
  },
  {
   "cell_type": "markdown",
   "metadata": {},
   "source": [
    "<fieldset style=\"border: 0.5px solid #0096FF; border-radius: 5px; margin: 0px 0px 15px 0px; padding: 15px 20px 0px 20px;\">\n",
    "\n",
    "<div class=\"full-width\" style=\"color: #0096FF;\">\n",
    "\n",
    "<b>Definition: Error of weight $k$</b>\n",
    "\n",
    "If the received word $v$ differs from the transmitted one in $k$ places we say that an <b><i>error of weight $k$</i></b> occurred (or that $k$ errors occurred).\n",
    "\n",
    "</div>\n",
    "\n",
    "</fieldset>"
   ]
  },
  {
   "cell_type": "markdown",
   "metadata": {},
   "source": [
    "<fieldset style=\"border: 0.5px solid #50C878; border-radius: 5px; margin: 0px 0px 15px 0px; padding: 15px 20px 0px 20px;\">\n",
    "\n",
    "<div class=\"full-width\" style=\"color: #50C878;\">\n",
    "\n",
    "Suppose $u$ is transmitted and $v$ is received.\n",
    "\n",
    "$\n",
    "\\begin{aligned}\n",
    "u &= (1, \\textcolor{red}{0}, 0, 1, \\textcolor{red}{1}, 0) \\\\\n",
    "v &= (1, \\textcolor{red}{1}, 0, 1, \\textcolor{red}{0}, 0) \\\\\n",
    "\\end  {aligned}\n",
    "$\n",
    "\n",
    "Then an error of weight $2$ has occurred.\n",
    "\n",
    "</div>\n",
    "\n",
    "</fieldset>"
   ]
  },
  {
   "cell_type": "markdown",
   "metadata": {},
   "source": [
    "### Definition: Hamming distance and weight"
   ]
  },
  {
   "cell_type": "markdown",
   "metadata": {},
   "source": [
    "<fieldset style=\"border: 0.5px solid #0096FF; border-radius: 5px; margin: 0px 0px 15px 0px; padding: 15px 20px 0px 20px;\">\n",
    "\n",
    "It is useful to formalize the notion of differing places between words by regarding the number of places in which two words differ as a distance between them.\n",
    "\n",
    "<div class=\"full-width\" style=\"color: #0096FF;\">\n",
    "\n",
    "<b>Definition: Hamming distance and weight</b>\n",
    "\n",
    "The <b><i>Hamming distance</i></b> $d(u, v)$ between two words $u$ and $v$ is the number of entries in which they differ.\n",
    "\n",
    "The <b><i>Hamming weight</i></b> $\\text{wt}(u)$ of $u$ is the number of non-null entries in $u$.\n",
    "\n",
    "If $\\textbf{0} = (0, \\dotsc, 0)$ then $\\text{wt}(u) = d(u, \\textbf{0})$.\n",
    "\n",
    "</div>\n",
    "\n",
    "</fieldset>"
   ]
  },
  {
   "cell_type": "markdown",
   "metadata": {},
   "source": [
    "### Definition: distance function"
   ]
  },
  {
   "cell_type": "markdown",
   "metadata": {},
   "source": [
    "<fieldset style=\"border: 0.5px solid #0096FF; border-radius: 5px; margin: 0px 0px 15px 0px; padding: 15px 20px 0px 20px;\">\n",
    "\n",
    "The Hamming distance satisfies the properties of a distance function.\n",
    "\n",
    "<div class=\"full-width\" style=\"color: #0096FF;\">\n",
    "\n",
    "<b>Definition: Distance Function</b>\n",
    "\n",
    "A function $f(x, y)$ on pairs of elements of a set $X$ is a distance function if it satisfies the following conditions.\n",
    "\n",
    "1. $f(x, y)$ is always a non-negative real number.\n",
    "2. $f(x, y) = 0$ iff $x = y$.\n",
    "3. $f(x, y) = f(y, x)$\n",
    "4. Triangle Inequality: For any three elements $x, y, z \\in X$ it is the case that $f(x, z) \\le f(x, y) + f(y, z)$\n",
    "\n",
    "</div>\n",
    "\n",
    "<b>Proof</b>\n",
    "\n",
    "Conditions 1, 2, and 3 follow from the definition of the Hamming distance. Condition 4:\n",
    "\n",
    "Let\n",
    "\n",
    "$\n",
    "\\begin{aligned}\n",
    "x &= (x_1, \\dotsc, x_n) \\\\\n",
    "y &= (y_1, \\dotsc, y_n) \\\\\n",
    "z &= (z_1, \\dotsc, z_n) \\\\\n",
    "\\end  {aligned}\n",
    "$\n",
    "\n",
    "Then $d(x, z)$ is the number of places in which $x$ and $z$ differ. If we denote the set of these places by $U$ then\n",
    "\n",
    "$d(x, z) = |U| = |\\{ i \\mid x_i \\ne z_i \\}|$\n",
    "\n",
    "Let\n",
    "\n",
    "$\n",
    "\\begin{aligned}\n",
    "S &= \\{ i \\mid x_i \\ne z_i \\land x_i =   y_i \\} \\\\\n",
    "T &= \\{ i \\mid x_i \\ne z_i \\land x_i \\ne y_i \\} \\\\\n",
    "\\end  {aligned}\n",
    "$\n",
    "\n",
    "Then $U$ is the disjoint union of $S$ and $T$. Thus\n",
    "\n",
    "$d(x, z) = |S| + |T|$\n",
    "\n",
    "It is immediate from the definition of $d(x, y)$ that $x$ differs from $y$ in all the places in $T$. Thus\n",
    "\n",
    "$|T| \\le d(x, y)$\n",
    "\n",
    "On the other hand if $i \\in S$ then $y_i = x_i \\ne z_i$. Thus\n",
    "\n",
    "$|S| \\le d(y, z)$\n",
    "\n",
    "$d(x, z) = |S| + |T| \\le d(x, y) + d(y, z)$\n",
    "\n",
    "$\\blacksquare$\n",
    "\n",
    "</fieldset>"
   ]
  },
  {
   "cell_type": "markdown",
   "metadata": {},
   "source": [
    "---\n",
    "---\n",
    "---"
   ]
  },
  {
   "cell_type": "markdown",
   "metadata": {},
   "source": [
    "## Shannon's Theorem"
   ]
  },
  {
   "cell_type": "markdown",
   "metadata": {},
   "source": [
    "the theoretical optimum for average coding performance"
   ]
  },
  {
   "cell_type": "markdown",
   "metadata": {},
   "source": [
    "---\n",
    "---\n",
    "---"
   ]
  }
 ],
 "metadata": {
  "language_info": {
   "name": "python"
  }
 },
 "nbformat": 4,
 "nbformat_minor": 2
}
