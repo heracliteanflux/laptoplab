{
 "cells": [
  {
   "cell_type": "markdown",
   "metadata": {},
   "source": [
    "# Block Codes, Weight, and Distance\n",
    "`ECFF` `1992` Pretzel, Oliver. _Error-Correcting Codes and Finite Fields_. Oxford University Press Applied Mathematics and Computing Science Series.\n",
    "```{contents}\n",
    "```"
   ]
  },
  {
   "cell_type": "markdown",
   "metadata": {},
   "source": [
    "---\n",
    "---\n",
    "---"
   ]
  },
  {
   "cell_type": "markdown",
   "metadata": {},
   "source": [
    "How to assess the performance of a code over a given channel? The basis for this assessment is the Hamming distance which is the number of places in which two words differ.\n",
    "\n",
    "The worst-case error-processing performance of a code is determined by the minimum distance between code words. Then some elementary probability theory can be used to assess the performance of a code."
   ]
  },
  {
   "cell_type": "markdown",
   "metadata": {},
   "source": [
    "---\n",
    "---\n",
    "---"
   ]
  },
  {
   "cell_type": "markdown",
   "metadata": {},
   "source": [
    "## Block Codes"
   ]
  },
  {
   "cell_type": "markdown",
   "metadata": {},
   "source": [
    "```txt\n",
    "                                                         +--------------------------+\n",
    "                                                         |                          |\n",
    "                                                         |  Random error generator  |\n",
    "                                                         |                          |\n",
    "                                                         +--------------------------+\n",
    "                                                                      |                                                            +-----------+\n",
    "                                                                      |                                                            |           |  Message\n",
    "           +----------------+           +-----------+                 |                      +-------------------+---------------->|  Decoder  |----------->\n",
    "  Message  |                |  Message  |           |  Signal         v   Distorted signal   |                   |  code words u'  |           |  words x'\n",
    "---------->|  Preprocessor  |---------->|  Encoder  |--------------->|+|-------------------->|  Error processor  |                 +-----------+\n",
    "  string   |                |  words x  |           |  code words u       received words v   |                   |\n",
    "           +----------------+           +-----------+                                        +-------------------+----------------------------------------->\n",
    "                                                                                                                    v + error signal\n",
    "```"
   ]
  },
  {
   "cell_type": "markdown",
   "metadata": {},
   "source": [
    "### Definition: block"
   ]
  },
  {
   "cell_type": "markdown",
   "metadata": {},
   "source": [
    "<fieldset style=\"border: 0.5px solid #0096FF; border-radius: 5px; margin: 0px 0px 15px 0px; padding: 15px 20px 0px 20px;\">\n",
    "\n",
    "The encoder's preprocessor divides the input message of arbitrary length into blocks (words) of a fixed number of symbols $m$ and then the encoder translates each word into a codeword of fixed length $n$. Such a code is called a block code.\n",
    "\n",
    "<div class=\"full-width\" style=\"color: #0096FF;\">\n",
    "\n",
    "<b>Definition: $A$-word</b>\n",
    "\n",
    "If $A$ is an alphabet then an $A$-word of length $n$ is a sequence of $n$ symbols from $A$.\n",
    "\n",
    "1. The set of $A$-words of length $n$ is denoted by $A^n$.\n",
    "\n",
    "2. If $A$ has $q$ symbols then there are $q$ choices for the symbol in each place in an $A$-word of length $n$ and so the total number of such words is $q^n$.\n",
    "\n",
    "3. Thus $|A^n| = |A|^n = q^n$.\n",
    "\n",
    "</div>\n",
    "</fieldset>"
   ]
  },
  {
   "cell_type": "markdown",
   "metadata": {},
   "source": [
    "### Definition: block code"
   ]
  },
  {
   "cell_type": "markdown",
   "metadata": {},
   "source": [
    "<fieldset style=\"border: 0.5px solid #0096FF; border-radius: 5px; margin: 0px 0px 15px 0px; padding: 15px 20px 0px 20px;\">\n",
    "\n",
    "<div class=\"full-width\" style=\"color: #0096FF;\">\n",
    "\n",
    "<b>Definition: Block Code</b>\n",
    "\n",
    "An $(n, m)$-block code $C$ over the alphabet $A$ of size $q$ consists of a set of precisely $q^m$ code words in $A^n$.\n",
    "\n",
    "</div>\n",
    "</fieldset>"
   ]
  },
  {
   "cell_type": "markdown",
   "metadata": {},
   "source": [
    "### Definition: encoder"
   ]
  },
  {
   "cell_type": "markdown",
   "metadata": {},
   "source": [
    "<fieldset style=\"border: 0.5px solid #0096FF; border-radius: 5px; margin: 0px 0px 15px 0px; padding: 15px 20px 0px 20px;\">\n",
    "\n",
    "<div class=\"full-width\" style=\"color: #0096FF;\">\n",
    "\n",
    "<b>Definition: Encoder</b>\n",
    "\n",
    "An <b><i>encoder</i></b> $E$ for $C$ is a map from $A^m$ to $C$.\n",
    "\n",
    "$\\boxed{E : A^m \\to C}$\n",
    "\n",
    "</div>\n",
    "</fieldset>"
   ]
  },
  {
   "cell_type": "markdown",
   "metadata": {},
   "source": [
    "---\n",
    "---\n",
    "---"
   ]
  },
  {
   "cell_type": "markdown",
   "metadata": {},
   "source": [
    "## Shannon's Theorem"
   ]
  },
  {
   "cell_type": "markdown",
   "metadata": {},
   "source": [
    "the theoretical optimum for average coding performance"
   ]
  },
  {
   "cell_type": "markdown",
   "metadata": {},
   "source": [
    "---\n",
    "---\n",
    "---"
   ]
  }
 ],
 "metadata": {
  "language_info": {
   "name": "python"
  }
 },
 "nbformat": 4,
 "nbformat_minor": 2
}
