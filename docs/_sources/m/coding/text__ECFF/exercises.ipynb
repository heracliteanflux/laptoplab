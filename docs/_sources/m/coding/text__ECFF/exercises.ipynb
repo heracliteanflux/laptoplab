{
 "cells": [
  {
   "cell_type": "markdown",
   "metadata": {},
   "source": [
    "# Exercises\n",
    "`ECFF` `1992` Pretzel, Oliver. _Error-Correcting Codes and Finite Fields_. Oxford University Press Applied Mathematics and Computing Science Series.\n",
    "```{contents}\n",
    "```"
   ]
  },
  {
   "cell_type": "markdown",
   "metadata": {},
   "source": [
    "---\n",
    "---\n",
    "---"
   ]
  },
  {
   "cell_type": "markdown",
   "metadata": {},
   "source": [
    "## 1"
   ]
  },
  {
   "cell_type": "markdown",
   "metadata": {},
   "source": [
    "1.1\n",
    "\n",
    "A spelling checker is a kind of error processor for typewritten English. Consider what strategies a spelling checker should adopt. Why is the symmetric channel model which is used for binary codes not adequate for a spelling checker?"
   ]
  },
  {
   "cell_type": "markdown",
   "metadata": {},
   "source": [
    "1.2\n",
    "\n",
    "Extend the definition of the $(8, 7)$ parity check code to define an $(n + 1, n)$ parity check code, adding a parity check bit to every block of $n$ message bits. What are the advantages and disadvantages of taking $n$ large in this definition?\n",
    "\n",
    "<fieldset style=\"border: 0.5px solid #0096FF; border-radius: 5px; margin: 0px 0px 15px 0px; padding: 15px 20px 0px 20px;\">\n",
    "\n",
    "<div class=\"full-width\" style=\"color: #0096FF;\">\n",
    "\n",
    "<b>Advantages</b>\n",
    "\n",
    "The code is economical. If the original message has length $n$ then the encoded message has length $n + 1$ for any $n$. For large $n$, there is hardly an increase in the length.\n",
    "\n",
    "<b>Disadvantages</b>\n",
    "\n",
    "The code is not reliable. The larger the $n$ the more errors the code is susceptible to, but it cannot handle more than just one error.\n",
    "\n",
    "</div>\n",
    "</fieldset>"
   ]
  },
  {
   "cell_type": "markdown",
   "metadata": {},
   "source": [
    "1.3\n",
    "\n",
    "Extend the definition of the triple repetition code to define an $n$-fold repetition code. What are the advantages and disadvantages of taking $n$ large in this definition?\n",
    "\n",
    "<fieldset style=\"border: 0.5px solid #0096FF; border-radius: 5px; margin: 0px 0px 15px 0px; padding: 15px 20px 0px 20px;\">\n",
    "\n",
    "<div class=\"full-width\" style=\"color: #0096FF;\">\n",
    "\n",
    "<b>Advantages</b>\n",
    "\n",
    "The code is reliable. The larger the $n$ the more robust the code is to undetected or uncorrected errors. For large $n$, the code is near immune to failing to detect or correct error.\n",
    "\n",
    "<b>Disadvantages</b>\n",
    "\n",
    "The code is uneconomical. The encoded message is $n$ times as long as the original. For large $n$, there is an unwieldy increase in the length.\n",
    "\n",
    "</div>\n",
    "</fieldset>"
   ]
  },
  {
   "cell_type": "markdown",
   "metadata": {},
   "source": [
    "1.4\n",
    "\n",
    "There is one pattern of incorrect equations that the triple check code does not exploit to correct an error. Try to modify the definition of the triple check code to produce a code which adds three check bits to every block of four message bits and can still correct any single error.\n",
    "\n",
    "<fieldset style=\"border: 0.5px solid #0096FF; border-radius: 5px; margin: 0px 0px 15px 0px; padding: 15px 20px 0px 20px;\">\n",
    "\n",
    "<div class=\"full-width\" style=\"color: #0096FF;\">\n",
    "\n",
    "$\n",
    "\\begin{aligned}\n",
    "a + b + d + x &= 2k \\\\\n",
    "a + c + d + y &= 2k \\\\\n",
    "b + c + d + z &= 2k \\\\\n",
    "\\end  {aligned}\n",
    "$\n",
    "\n",
    "Each bit of the encoded message is associated with a unique subset of the three conditions.\n",
    "\n",
    "$\\{ 000, \\underset{z}{001}, \\underset{y}{010}, \\underset{c}{011}, \\underset{x}{100}, \\underset{b}{101}, \\underset{a}{110}, \\underset{d}{111} \\}$\n",
    "\n",
    "$\n",
    "\\begin{array}{rrr}\n",
    "\\text{message } abcd & \\text{encoded message } abcdxyz \\\\ \\hline\n",
    "0000 & 0000000 \\\\\n",
    "0001 & 0001111 \\\\\n",
    "0010 & 0010011 \\\\\n",
    "0011 & 0011100 \\\\\n",
    "0100 & 0100101 \\\\\n",
    "0101 & 0101010 \\\\\n",
    "0110 & 0110110 \\\\\n",
    "0111 & 0111001 \\\\\n",
    "1000 & 1000110 \\\\\n",
    "1001 & 1001001 \\\\\n",
    "1010 & 1010101 \\\\\n",
    "1011 & 1011010 \\\\\n",
    "1100 & 1100011 \\\\\n",
    "1101 & 1101100 \\\\\n",
    "1110 & 1110000 \\\\\n",
    "1111 & 1111111 \\\\\n",
    "\\end  {array}\n",
    "$\n",
    "\n",
    "This modified triple check code works the same way as the original triple check code with the addition that if the fourth message bit $d$ is incorrect then all three conditions fail.\n",
    "\n",
    "</div>\n",
    "</fieldset>"
   ]
  },
  {
   "cell_type": "markdown",
   "metadata": {},
   "source": [
    "1.5\n",
    "\n",
    "Show that it is not possible to devise a code adding three check bits to every block of five message bits in such a way that the code can correct every single error.\n",
    "\n",
    "<fieldset style=\"border: 0.5px solid #0096FF; border-radius: 5px; margin: 0px 0px 15px 0px; padding: 15px 20px 0px 20px;\">\n",
    "\n",
    "<div class=\"full-width\" style=\"color: #0096FF;\">\n",
    "\n",
    "Since there are five message bits $abcde$ but only three check bits $xyz$ the fifth message bit is not assocated with any subset of the three conditions.\n",
    "\n",
    "$\\{ 000, \\underset{z}{001}, \\underset{y}{010}, \\underset{c}{011}, \\underset{x}{100}, \\underset{b}{101}, \\underset{a}{110}, \\underset{d}{111}, \\underset{e}{?} \\}$\n",
    "\n",
    "In other words, given three check bits it is the case that $2^3 - 1 = 7$ is the maximum length that the encoded message blocks can be.\n",
    "\n",
    "</div>\n",
    "</fieldset>"
   ]
  },
  {
   "cell_type": "markdown",
   "metadata": {},
   "source": [
    "1.6\n",
    "\n",
    "The standard ASCII code used to represent printable and non-printable characters in computers contains 128 7-bit symbols: for instance (in the usual descending order) '0' is 0110000, a space ' ' is 0100000, 'A' is 1000001, and 'a' is 1100001. Devise a single error-correcting code for transmitting ASCII, using as few check bits as possible. Give encoding and error-correcting rules.\n",
    "\n",
    "<fieldset style=\"border: 0.5px solid #0096FF; border-radius: 5px; margin: 0px 0px 15px 0px; padding: 15px 20px 0px 20px;\">\n",
    "\n",
    "<div class=\"full-width\" style=\"color: #0096FF;\">\n",
    "\n",
    "$4$ check bits $wxyz$ can be used to correct a single error in encoded message blocks of up to length $2^4 - 1 = 15$ $abcdefghijk$.\n",
    "\n",
    "$\\{ 0000, \\underset{z}{0001}, \\underset{y}{0010}, \\underset{f}{0011}, \\underset{x}{0100}, \\underset{e}{0101}, \\underset{d}{0110}, \\underset{j}{0111}, \\underset{w}{1000}, \\underset{c}{1001}, \\underset{b}{1010}, \\underset{i}{1011}, \\underset{a}{1100}, \\underset{h}{1101}, \\underset{g}{1110}, \\underset{k}{1111} \\}$\n",
    "\n",
    "$\n",
    "\\begin{aligned}\n",
    "a + b + c + g + h + i + k + w &= 2k \\\\\n",
    "a + d + e + g + h + j + k + x &= 2k \\\\\n",
    "b + d + f + g + i + j + k + y &= 2k \\\\\n",
    "c + e + f + h + i + j + k + z &= 2k \\\\\n",
    "\\end  {aligned}\n",
    "$\n",
    "\n",
    "Since ASCII symbols require only $7$ bits we can remove message bits $hijk$\n",
    "\n",
    "$\n",
    "\\begin{aligned}\n",
    "a + b + c + g + w &= 2k \\\\\n",
    "a + d + e + g + x &= 2k \\\\\n",
    "b + d + f + g + y &= 2k \\\\\n",
    "c + e + f + z &= 2k \\\\\n",
    "\\end  {aligned}\n",
    "$\n",
    "\n",
    "* $a$ error - 1, 2 fail\n",
    "* $b$ error - 1, 3 fail\n",
    "* $c$ error - 1, 4 fail\n",
    "* $d$ error - 2, 3 fail\n",
    "* $e$ error - 2, 4 fail\n",
    "* $f$ error - 3, 4 fail\n",
    "* $g$ error - 1, 2, 3 fail\n",
    "* $h$ error - 1, 2, 4 fail\n",
    "* $i$ error - 1, 3, 4 fail\n",
    "* $j$ error - 2, 3, 4, fail\n",
    "* $k$ error - 1, 2, 3, 4 fail\n",
    "* $w$ error - 1 fail\n",
    "* $x$ error - 2 fail\n",
    "* $y$ error - 3 fail\n",
    "* $z$ error - 4 fail\n",
    "\n",
    "</div>\n",
    "</fieldset>"
   ]
  },
  {
   "cell_type": "markdown",
   "metadata": {},
   "source": [
    "---\n",
    "---\n",
    "---"
   ]
  }
 ],
 "metadata": {
  "kernelspec": {
   "display_name": "ml2",
   "language": "python",
   "name": "python3"
  },
  "language_info": {
   "codemirror_mode": {
    "name": "ipython",
    "version": 3
   },
   "file_extension": ".py",
   "mimetype": "text/x-python",
   "name": "python",
   "nbconvert_exporter": "python",
   "pygments_lexer": "ipython3",
   "version": "3.12.8"
  }
 },
 "nbformat": 4,
 "nbformat_minor": 2
}
