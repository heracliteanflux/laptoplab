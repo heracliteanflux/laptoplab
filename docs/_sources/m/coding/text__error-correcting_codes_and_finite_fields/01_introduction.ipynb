{
 "cells": [
  {
   "cell_type": "markdown",
   "metadata": {},
   "source": [
    "# Introduction\n",
    "```{contents}\n",
    "```"
   ]
  },
  {
   "cell_type": "markdown",
   "metadata": {},
   "source": [
    "---\n",
    "---\n",
    "---"
   ]
  },
  {
   "cell_type": "markdown",
   "metadata": {},
   "source": [
    "The theory of error-correcting codes deals with the general problem of transmitting messages reliably. (Transmission in space (wires) and in time (storage).) In the classical theory no assumption is made about the nature of the message to be transmitted. Thus there is no statistic on which to base a guess of the correct message. Redundancy is built into the message at the transmitter so that the receiver can use that redundancy to correct errors. This goal can be achieved with high probability but not with certainty. A weakness of the classical theory is that errors that occur before the transmitter encodes and transmits the message cannot be corrected much less detected."
   ]
  },
  {
   "cell_type": "markdown",
   "metadata": {},
   "source": [
    "---\n",
    "---\n",
    "---"
   ]
  },
  {
   "cell_type": "markdown",
   "metadata": {},
   "source": [
    "## Strings"
   ]
  },
  {
   "cell_type": "markdown",
   "metadata": {},
   "source": [
    "---"
   ]
  },
  {
   "cell_type": "markdown",
   "metadata": {},
   "source": [
    "### Alphabet"
   ]
  },
  {
   "cell_type": "markdown",
   "metadata": {},
   "source": [
    "<fieldset style=\"border: 0.5px solid #0096FF; border-radius: 5px; margin: 0px 0px 15px 0px; padding: 15px 20px 0px 20px;\">\n",
    "\n",
    "<div class=\"full-width\" style=\"color: #0096FF;\">\n",
    "\n",
    "<b>Definition: Alphabet</b>\n",
    "\n",
    "A message is composed of <b>symbols</b> (or characters) from a fixed finite set called the <b><i>alphabet</i></b> $A$. All alphabets are assumed to have a null character which may be designated by $0$.\n",
    "</div>\n",
    "\n",
    "In the case of English, an alphabet is composed of uppercase and lowercase letters, (the digits,) punctuation marks, and whitespace characters. The null character is the space.\n",
    "</fieldset>"
   ]
  },
  {
   "cell_type": "markdown",
   "metadata": {},
   "source": [
    "### Binary Alphabet"
   ]
  },
  {
   "cell_type": "markdown",
   "metadata": {},
   "source": [
    "<fieldset style=\"border: 0.5px solid #0096FF; border-radius: 5px; margin: 0px 0px 15px 0px; padding: 15px 20px 0px 20px;\">\n",
    "\n",
    "<div class=\"full-width\" style=\"color: #0096FF;\">\n",
    "\n",
    "<b>Definition: Binary Alphabet</b>\n",
    "\n",
    "An alphabet with just one symbol is useless. So the next simplest alphabet is the <b><i>binary alphabet</i></b> $\\textbf{B}$ consisting of the two symbols $0$ and $1$:\n",
    "\n",
    "$\\textbf{B} = \\{ 0, 1 \\}$\n",
    "\n",
    "The elements of $\\textbf{B}$ are called bits.\n",
    "</div>\n",
    "</fieldset>"
   ]
  },
  {
   "cell_type": "markdown",
   "metadata": {},
   "source": [
    "---\n",
    "---\n",
    "---"
   ]
  },
  {
   "cell_type": "markdown",
   "metadata": {},
   "source": [
    "## The Channel Model"
   ]
  },
  {
   "cell_type": "markdown",
   "metadata": {},
   "source": [
    "---"
   ]
  },
  {
   "cell_type": "markdown",
   "metadata": {},
   "source": [
    "<b>The situation to be modeled</b>\n",
    "\n",
    "Information is transmitted via a channel. The channel is prone to errors. The distorted information is processed at the receiving end to restore the original message as nearly as possible. Information is passed through the channel in separate lumps (discrete channel) or in a continuously varying form (continuous channel).\n",
    "\n",
    "Examples of channels\n",
    "* Modulator (translates information into electrical signals), transmitter, receiver, demodulator: radio, television, satellite\n",
    "* Cable: computer file transfer\n",
    "* Storage medium + the means of storing and retrieving information from it (errors can occur either by a failure of the storage or reading device, or by deterioriation of the medium)\n",
    "* language"
   ]
  },
  {
   "cell_type": "markdown",
   "metadata": {},
   "source": [
    "<fieldset style=\"border: 0.5px solid #0096FF; border-radius: 5px; margin: 0px 0px 15px 0px; padding: 15px 20px 0px 20px;\">\n",
    "\n",
    "The random error channel is one of the simplest models of a channel.\n",
    "\n",
    "<div class=\"full-width\" style=\"color: #0096FF;\">\n",
    "\n",
    "<b>Definition: Random Error Channel</b>\n",
    "\n",
    "A channel is called a <b><i>random error channel</i></b> if for each pair of distinct symbols $(a, b)$ of the alphabet there is a fixed probability $p_{(a, b)}$ that when $a$ is transmitted $b$ is received.\n",
    "</div>\n",
    "\n",
    "The main point of this definition is that $p_{(a, b)}$ does not depend on anything else, such as whether the previous symbol was correctly transmitted or not. For simplicity we assume that $p_{(a, b)}$ is independent of the symbols $a$ and $b$ given that $a \\ne b$.\n",
    "</fieldset>"
   ]
  },
  {
   "cell_type": "markdown",
   "metadata": {},
   "source": [
    "<fieldset style=\"border: 0.5px solid #0096FF; border-radius: 5px; margin: 0px 0px 15px 0px; padding: 15px 20px 0px 20px;\">\n",
    "\n",
    "<div class=\"full-width\" style=\"color: #0096FF;\">\n",
    "\n",
    "<b>Definition: Burst Error Channel</b>\n",
    "\n",
    "</div>\n",
    "\n",
    "If the previous symbol was in error then that will increase the probability of the current symbol being corrupted.\n",
    "</fieldset>"
   ]
  },
  {
   "cell_type": "markdown",
   "metadata": {},
   "source": [
    "<fieldset style=\"border: 0.5px solid #0096FF; border-radius: 5px; margin: 0px 0px 15px 0px; padding: 15px 20px 0px 20px;\">\n",
    "\n",
    "<div class=\"full-width\" style=\"color: #0096FF;\">\n",
    "\n",
    "<b>Definition: Erasure</b>\n",
    "\n",
    "</div>\n",
    "</fieldset>"
   ]
  },
  {
   "cell_type": "markdown",
   "metadata": {},
   "source": [
    "<fieldset style=\"border: 0.5px solid #0096FF; border-radius: 5px; margin: 0px 0px 15px 0px; padding: 15px 20px 0px 20px;\">\n",
    "\n",
    "<div class=\"full-width\" style=\"color: #0096FF;\">\n",
    "\n",
    "<b>Definition: Symmetric Random Error Channel</b>\n",
    "\n",
    "A random error channel is called <b><i>symmetric</i></b> if the probabilities $p_{(a, b)}$ are the same for all possible choices of pairs $(a, b)$ with $a \\ne b$.\n",
    "</div>\n",
    "</fieldset>"
   ]
  },
  {
   "cell_type": "markdown",
   "metadata": {},
   "source": [
    "---"
   ]
  },
  {
   "cell_type": "markdown",
   "metadata": {},
   "source": [
    "### Coding for the binary symmetric channel"
   ]
  },
  {
   "cell_type": "markdown",
   "metadata": {},
   "source": [
    "We assume the discrete symmetric random error channel."
   ]
  },
  {
   "cell_type": "markdown",
   "metadata": {},
   "source": [
    "<fieldset style=\"border: 0.5px solid #0096FF; border-radius: 5px; margin: 0px 0px 15px 0px; padding: 15px 20px 0px 20px;\">\n",
    "\n",
    "<div class=\"full-width\" style=\"color: #0096FF;\">\n",
    "\n",
    "<b>Definition: Symbol Error Probability</b>\n",
    "\n",
    "The symbol error probability $p$ is the probability that an error occurs in a single symbol (i.e., that a single symbol is received in error).\n",
    "</div>\n",
    "\n",
    "It can be assumed that\n",
    "\n",
    "$p \\lt 1/2$\n",
    "\n",
    "as follows. If it were the case that $p \\gt 1/2$ then the received symbol would be more likely to be incorrect than correct. The solution is to flip every received symbol (e.g., if we receive a $1$ we would interpret it as a $0$ and vice versa). By flipping, the error probability becomes $1 - p$ and satisfies $1 - p \\lt 1/2$. Thus, the problem can always be reduced to a channel with $p \\lt 1/2$ via symbol-flipping.\n",
    "\n",
    "The assumption that $p \\lt 1/2$ is a standard simplification in communication theory because it represents the most useful scenario for communication systems. Channels with $p \\ge 1/2$ are considered impractical for direct communication without preprocessing (e.g., bit-flipping) as they effectively transmit noise rather than information. Error-correcting codes like Hamming codes, Reed-Solomon codes, or modern low-density parity-check (LDPC) codes are designed under the assumption that $p \\lt 1/2$. (Coin-flip analogy: If the coin has a bias such that heads occurs less than 50% of the time $(p \\lt 1/2)$, you can reasonably expect tails to occur more often than heads. If the bias were such that heads occurred more than 50% of the time $(p \\gt 1/2)$, you could redefine the \"success\" outcome as tails by reversing the interpretation, effectively flipping the probabilities.)\n",
    "\n",
    "If $p = 1/2$ then the output of the channel is independent of the input and we might as well stop transmitting.\n",
    "</fieldset>"
   ]
  },
  {
   "cell_type": "markdown",
   "metadata": {},
   "source": [
    "<fieldset style=\"border: 0.5px solid #0096FF; border-radius: 5px; margin: 0px 0px 15px 0px; padding: 15px 20px 0px 20px;\">\n",
    "\n",
    "<div class=\"full-width\" style=\"color: #0096FF;\">\n",
    "\n",
    "<b>Definition: Encoder</b>\n",
    "\n",
    "The <b><i>encoder</i></b> takes an input signal called the message and modifies it in order to make it possible to detect and perhaps also correct any errors that the channel is likely to induce. At the other end of the channel is a <b><i>decoder</i></b> which retrieves the original message. Before the decoder is applied, the <b><i>error processor</i></b> attempts to correct or detect errors in the received message. According to the circumstances, it may modify the received message to enable the decoder to translate it (error correction), or it may send an error signal in which case the decoder will ignore part of the incoming message (error detection). Often the decoder and error processor are lumped together and the error signal is called a decoding failure. But it is better to keep them separate conceptually, even though in some implementations it is natural to combine them.\n",
    "</div>\n",
    "</fieldset>"
   ]
  },
  {
   "cell_type": "markdown",
   "metadata": {},
   "source": [
    "```txt\n",
    "                          +--------------------------+\n",
    "                          |                          |\n",
    "                          |  Random error generator  |\n",
    "                          |                          |\n",
    "                          +--------------------------+\n",
    "                                       |                                                            +-----------+\n",
    "                                       |                                                            |           |  Message\n",
    "         +-----------+                 |                      +-------------------+---------------->|  Decoder  |----------->\n",
    "Message  |           |  Signal         v   Distorted signal   |                   |  code word u'   |           |  word x'\n",
    "-------->|  Encoder  |--------------->|+|-------------------->|  Error processor  |                 +-----------+\n",
    "word x   |           |  code word u        received word v    |                   |\n",
    "         +-----------+                                        +-------------------+----------------------------------------->\n",
    "                                                                                     v + error signal\n",
    "```"
   ]
  },
  {
   "cell_type": "markdown",
   "metadata": {},
   "source": [
    "---\n",
    "---\n",
    "---"
   ]
  },
  {
   "cell_type": "markdown",
   "metadata": {},
   "source": [
    "## Example codes"
   ]
  },
  {
   "cell_type": "markdown",
   "metadata": {},
   "source": [
    "---"
   ]
  },
  {
   "cell_type": "markdown",
   "metadata": {},
   "source": [
    "### $(8, 7)$ Parity Check Code"
   ]
  },
  {
   "cell_type": "markdown",
   "metadata": {},
   "source": [
    "A byte (or $8$ bits) is a common unit of information which can represent values from $0$ to $255$. An alphabet for English along with a set of control codes for internal instructions should require just $7$ bits. Thus the eighth bit can be used to check that a byte has been transmitted correctly: it is set so that the number of $1$ s in the byte is even. This way, if a byte is transmitted and one of the bits goes wrong then the number of $1$ s becomes odd and the receiver can ask for a retransmission. There is no way the receiver can tell which bit went wrong, and if two bits are incorrect the receiver will let the byte through. In practice, the order of the bits is reversed so that the check bit comes first.\n",
    "\n",
    "$\n",
    "\\begin{array}{rr|r}\n",
    "\\text{symbol} & 7\\text{-bit ASCII code} & 8\\text{-bit encoding} \\\\ \\hline\n",
    "1 & \\underset{2^0}{1}000\\underset{2^4}{1}\\underset{2^5}{1}0 & \\underbrace{1000110}1 \\\\\n",
    "\\text{A} & \\underset{2^0}{1}00000\\underset{2^6}{1} & \\underbrace{1000001}0 \\\\\n",
    "\\end  {array}\n",
    "$\n",
    "\n",
    "* the code is economical: the encoded message is $1/7$ th longer than the original.\n",
    "* the code cannot correct errors; it is only suitable where the receiver can ask for retransmission, since errors can be detected but cannot be located\n",
    "* the probability of errors during transmission should be fairly low, because the code cannot cope with two errors in a byte\n",
    "\n",
    "Encoder: divide the message into blocks of seven, and to each block add an eighth bit to make the number of $1$ s even\n",
    "\n",
    "Error Processor: (assume that the receiver adopts a correction strategy where possible) count the number of $1$ s in the received block, and emit an error signal if the number is odd\n",
    "\n",
    "Decoder: strip the eighth bit"
   ]
  },
  {
   "cell_type": "markdown",
   "metadata": {},
   "source": [
    "---"
   ]
  },
  {
   "cell_type": "markdown",
   "metadata": {},
   "source": [
    "### Triple repetition code"
   ]
  },
  {
   "cell_type": "markdown",
   "metadata": {},
   "source": [
    "Upon receiving the message $101$ the receiver has two options: it can ask for a retransmission, or it can guess that it is more likely that a single $1$ flipped to $0$ rather than the case in which two $0$ s flipped to $1$ s.\n",
    "\n",
    "$\n",
    "\\begin{array}{r|r}\n",
    "\\text{symbol} & \\text{encoding} \\\\ \\hline\n",
    "0 & 000 \\\\\n",
    "1 & 111 \\\\\n",
    "\\end  {array}\n",
    "$\n",
    "\n",
    "* the code is uneconomical: the encoded message is $3$ times as long as the original\n",
    "* the code can correct single errors in a block of three (the error probability can be moderate); or alternatively where retransmission is possible, the code can be used to detect single or double errors in a block of three (the error probability can be quite high)\n",
    "\n",
    "Encoder: repeat each bit three times\n",
    "\n",
    "Error Processor: (assume that the receiver adopts a correction strategy where possible) take the majority vote in each block of three and make all three equal to that\n",
    "\n",
    "Decoder: strip the last two bits"
   ]
  },
  {
   "cell_type": "markdown",
   "metadata": {},
   "source": [
    "---"
   ]
  },
  {
   "cell_type": "markdown",
   "metadata": {},
   "source": [
    "### Triple check code"
   ]
  },
  {
   "cell_type": "markdown",
   "metadata": {},
   "source": [
    "The message is divided into blocks of three $abc$ where each of $a$, $b$, and $c$ is $0$ or $1$. Three check bits $xyz$ are added where each of $x$, $y$, and $z$ is also $0$ or $1$. This is done in such a way that the following three conditions are satisfied.\n",
    "1. The number of $1$ s in $abx$ is even.\n",
    "2. The number of $1$ s in $acy$ is even.\n",
    "3. The number of $1$ s in $bcz$ is even.\n",
    "\n",
    "So if $abc = 110$ then $x = 0$, $y = 1$, and $z = 1$ and so the code word is $110011$.\n",
    "\n",
    "$\n",
    "\\begin{array}{rrr}\n",
    "\\text{message } abc & \\text{encoded message } abcxyz \\\\ \\hline\n",
    "000 & 000000 \\\\\n",
    "001 & 001011 \\\\\n",
    "010 & 010101 \\\\\n",
    "011 & 011110 \\\\\n",
    "100 & 100110 \\\\\n",
    "101 & 101101 \\\\\n",
    "110 & 110011 \\\\\n",
    "111 & 111000 \\\\\n",
    "\\end  {array}\n",
    "$\n",
    "\n",
    "Single-error correction\n",
    "* If $a$ is incorrect then conditions $1$ and $2$ fail.\n",
    "* If $b$ is incorrect then conditions $1$ and $3$ fail.\n",
    "* If $c$ is incorrect then conditions $2$ and $3$ fail.\n",
    "* If $x$ is incorrect then condition $1$ alone fails.\n",
    "* If $y$ is incorrect then condition $2$ alone fails.\n",
    "* If $z$ is incorrect then condition $3$ alone fails.\n",
    "\n",
    "Double-error detection - if two bits are in error then there is a condition involving one but not the other and so not all conditions will be satisfied\n",
    "\n",
    "* the code is moderately uneconomical: the encoded message is twice as long as the original\n",
    "* for correction, the code can deal with one error in a block of six; for detection, the code can deal with two errors in a block of six\n",
    "* since the code deals with one or two errors in a block of six rather than a block of three, the code is not quite as reliable as triple repetition (if used for pure error detection, the code can do rather better than this discussion suggests)\n",
    "\n",
    "Encoder: divide the message into blocks of three, and to each block calculate a further three bits satisfying the three conditions; output an amalgamated block of six\n",
    "\n",
    "Error Processor: (assume that the receiver adopts a correction strategy where possible) check the three conditions; if none fail, the word is correct; if one or two fail, correct the single bit involved in the failing conditions and not in the others; if all three fail, send an error signal\n",
    "\n",
    "Decoder: strip the last three bits off each block unless there is an error signal"
   ]
  },
  {
   "cell_type": "markdown",
   "metadata": {},
   "source": [
    "---"
   ]
  }
 ],
 "metadata": {
  "kernelspec": {
   "display_name": "ml",
   "language": "python",
   "name": "python3"
  },
  "language_info": {
   "codemirror_mode": {
    "name": "ipython",
    "version": 3
   },
   "file_extension": ".py",
   "mimetype": "text/x-python",
   "name": "python",
   "nbconvert_exporter": "python",
   "pygments_lexer": "ipython3",
   "version": "3.11.11"
  }
 },
 "nbformat": 4,
 "nbformat_minor": 2
}
