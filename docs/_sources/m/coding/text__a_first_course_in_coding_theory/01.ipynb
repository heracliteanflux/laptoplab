{
 "cells": [
  {
   "attachments": {},
   "cell_type": "markdown",
   "metadata": {},
   "source": [
    "# Introduction to error-correcting codes"
   ]
  },
  {
   "attachments": {},
   "cell_type": "markdown",
   "metadata": {},
   "source": [
    "---"
   ]
  },
  {
   "attachments": {},
   "cell_type": "markdown",
   "metadata": {},
   "source": [
    "## Table of Contents\n",
    "```{contents}\n",
    "```"
   ]
  },
  {
   "attachments": {},
   "cell_type": "markdown",
   "metadata": {},
   "source": [
    "---"
   ]
  },
  {
   "attachments": {},
   "cell_type": "markdown",
   "metadata": {},
   "source": [
    "## Programming Environment"
   ]
  },
  {
   "cell_type": "code",
   "execution_count": 3,
   "metadata": {
    "tags": [
     "hide-input"
    ]
   },
   "outputs": [
    {
     "name": "stdout",
     "output_type": "stream",
     "text": [
      "EXECUTED            : 2023-05-11 11:37:24.272637\n",
      "\n",
      "Platform            : 13.3.1 | Darwin | 22.4.0 | arm64\n",
      "                    : UTF-8\n",
      "\n",
      "Python              : 3.10.8 | packaged by conda-forge | (main, Nov 22 2022, 08:25:29) [Clang 14.0.6 ]\n",
      "                    : sys.version_info(major=3, minor=10, micro=8, releaselevel='final', serial=0)\n",
      "                    : CPython\n",
      "\n",
      "Matplotlib          : 3.6.3\n",
      "NumPy               : 1.24.1\n"
     ]
    }
   ],
   "source": [
    "import numpy  as np\n",
    "import pandas as pd\n",
    "\n",
    "import matplotlib        as mpl\n",
    "import matplotlib.pyplot as plt\n",
    "plt.style.use('ggplot');\n",
    "plt.rcParams.update({'text.usetex' : True});\n",
    "%matplotlib inline\n",
    "\n",
    "from   collections import defaultdict\n",
    "from   itertools   import combinations,product\n",
    "import itertools\n",
    "\n",
    "from typing import Set\n",
    "\n",
    "from IPython.display import display, Math\n",
    "\n",
    "from   datetime import datetime as d\n",
    "import locale                   as l\n",
    "import platform                 as p\n",
    "import sys                      as s\n",
    "\n",
    "pad = 20\n",
    "print(f\"{'Executed'.upper():<{pad}}: {d.now()}\")\n",
    "print()\n",
    "print(f\"{'Platform'   :<{pad}}: \"\n",
    "      f\"{p.mac_ver()[0]} | \"\n",
    "      f\"{p.system()} | \"\n",
    "      f\"{p.release()} | \"\n",
    "      f\"{p.machine()}\")\n",
    "print(f\"{''           :<{pad}}: {l.getpreferredencoding()}\")\n",
    "print()\n",
    "print(f\"{'Python'     :<{pad}}: {s.version}\")\n",
    "print(f\"{''           :<{pad}}: {s.version_info}\")\n",
    "print(f\"{''           :<{pad}}: {p.python_implementation()}\")\n",
    "print()\n",
    "print(f\"{'Matplotlib' :<{pad}}: {mpl.__version__}\")\n",
    "print(f\"{'NumPy'      :<{pad}}: {np .__version__}\")"
   ]
  },
  {
   "cell_type": "code",
   "execution_count": 4,
   "metadata": {
    "tags": [
     "hide-input"
    ]
   },
   "outputs": [],
   "source": [
    "def rc (q : int,\n",
    "        n : int) -> Set[str]:\n",
    "  \"\"\"Repetition Code\n",
    "  Generate a q-ary repetition block code of length n.\n",
    "  \"\"\"\n",
    "  S=set()\n",
    "  for i in range(q):\n",
    "    S.add(str(i)*n)\n",
    "  return S\n",
    "\n",
    "def fqn (q : int,\n",
    "         n : int,\n",
    "         g : int = 0) -> Set[str]:\n",
    "  \"\"\"Construct a linear space of dimension n over a finite field of order q.\n",
    "  \n",
    "  Parameters\n",
    "  ==========\n",
    "  g : If the space is very large, opt for the first g elements of a generator object.\n",
    "  \"\"\"\n",
    "  if bool(g):\n",
    "    f=itertools.product(range(q),repeat=n)\n",
    "    return set(''.join(str(i) for i in next(f)) for _ in range(g))\n",
    "  else:\n",
    "    return {''.join(str(bit) for bit in word) for word in itertools.product(range(q),repeat=n)}\n",
    "\n",
    "def qarycode_to_nbitstring (code={'3121','2101'},k=4):\n",
    "  \"\"\"Convert a q-ary code \"\"\"\n",
    "  for n in code:\n",
    "    print(' '.join(format(int(i),f'0{k}b') for i in n))\n",
    "\n",
    "def hd (a : str = '1001',\n",
    "        b : str = '0101') -> int:\n",
    "  \"\"\"HAMMING DISTANCE\n",
    "  \n",
    "  Parameters\n",
    "  ==========\n",
    "  x : str\n",
    "  y : str\n",
    "\n",
    "  Return\n",
    "  ======\n",
    "  int\n",
    "  \"\"\"\n",
    "  assert len(a) == len(b), 'x and y must have the same length'\n",
    "  return sum(x!=y for x,y in zip(a,b))\n",
    "\n",
    "def nbfmd (c  : Set[str],\n",
    "           pr : bool = False) -> np.float16:\n",
    "  \"\"\"NAIVE BRUTE FORCE MINIMUM DISTANCE d(C)\n",
    "\n",
    "  Computes the pairwise Hamming distance for all codewords and returns the minimum value.\n",
    "\n",
    "  This is a naive (i.e., non vectorized) implementation using nested for loops.\n",
    "  \n",
    "  Parameters\n",
    "  ==========\n",
    "  c  : code\n",
    "  pr : Print intermediate steps.\n",
    "\n",
    "  Returns\n",
    "  =======\n",
    "  d(C)\n",
    "  \"\"\"\n",
    "\n",
    "  # convert a set of string vectors to a 2D NumPy array of integers\n",
    "  c=np.array([list(codeword) for codeword in c],dtype=np.float16)\n",
    "\n",
    "  # intialize empty hamming distance matrix\n",
    "  hamming = np.empty([c.shape[0]]*2,dtype=np.float16)\n",
    "  for i,x in enumerate(c):\n",
    "    for j,y in enumerate(c):\n",
    "      hamming[i,j]=(x!=y).sum()\n",
    "  # the diagonal represents the Hamming distance of a codeword with itself, which is always 0.\n",
    "  np.fill_diagonal(hamming,np.inf)\n",
    "\n",
    "  if pr == True:\n",
    "    print(hamming)\n",
    "\n",
    "  return hamming.min().astype(np.int8)\n",
    "\n",
    "def one_error_detecting (q    : int,\n",
    "                         code : Set[str],\n",
    "                         p    : bool = False) -> bool:\n",
    "  \"\"\"Verify that a code is one-error detecting.\n",
    "  No one-bit error equals a codeword.\n",
    "  \"\"\"\n",
    "  flag=True\n",
    "  alphabet=set(str(i) for i in range(q))\n",
    "  for codeword in code:\n",
    "    if p:\n",
    "      print()\n",
    "      print(f\"{'orig cw : ':10}{codeword}\")\n",
    "    for i in range(len(codeword)):\n",
    "      a,b,c=codeword[:i],codeword[i],codeword[i+1:]\n",
    "      symbols=alphabet-set(codeword[i])\n",
    "      for symbol in symbols:\n",
    "        cw=codeword[:i]+symbol+codeword[i+1:] # SINGLE ERROR\n",
    "        if cw in code:\n",
    "          flag=False\n",
    "          if p:\n",
    "            print(f\"{'ERROR':10}{cw}\")\n",
    "        else:\n",
    "          if p:\n",
    "            print(f\"{'':10}{cw}\")\n",
    "  return flag\n",
    "\n",
    "# set(''.join(l for l in i) for i in itertools.product('10',repeat=3))\n",
    "# set(''.join(l for l in i) for i in itertools.combinations_with_replacement('012',r=3))\n",
    "# set(''.join(l for l in i) for i in itertools.combinations('01',r=2))"
   ]
  },
  {
   "attachments": {},
   "cell_type": "markdown",
   "metadata": {},
   "source": [
    "---"
   ]
  },
  {
   "attachments": {},
   "cell_type": "markdown",
   "metadata": {},
   "source": [
    "Redundant symbols add protection to the message, but are themselves subject to error; so there is no way to guarantee accuracy.\n",
    "\n",
    "The goal is to maximize the probability of accuracy.\n",
    "\n",
    "A good code is one in which the codewords resemble each other as little as possible."
   ]
  },
  {
   "attachments": {},
   "cell_type": "markdown",
   "metadata": {},
   "source": [
    "---"
   ]
  },
  {
   "attachments": {},
   "cell_type": "markdown",
   "metadata": {},
   "source": [
    "## Q-Ary Code"
   ]
  },
  {
   "attachments": {},
   "cell_type": "markdown",
   "metadata": {},
   "source": [
    "[Q-ARY CODE]\n",
    "\n",
    "A q-ary code is a set of sequences of symbols where each symbol $\\lambda_i$ is chosed from a set\n",
    "\n",
    "$\n",
    "F_q=\\{\\lambda_1,\\lambda_2,...,\\lambda_q\\}\n",
    "$\n",
    "\n",
    "of $q$ distinct elements called the alphabet which is often the set\n",
    "\n",
    "$\n",
    "Z_q=\\{0,1,2,...,q-1\\}\n",
    "$\n",
    "\n",
    "If $q$ is a prime power (if $q=p^h$ for some prime number $p$ and some positive integer $h$) then the alphabet $F_q$ is the finite field of order $q$."
   ]
  },
  {
   "attachments": {},
   "cell_type": "markdown",
   "metadata": {},
   "source": [
    "[EXAMPLE]\n",
    "\n",
    "The set of all words in the English language is a code over the 26-letter alphabet $F_{26}=\\{\\text{A},\\text{B},...,\\text{Z}\\}$"
   ]
  },
  {
   "attachments": {},
   "cell_type": "markdown",
   "metadata": {},
   "source": [
    "[EXAMPLE]\n",
    "\n",
    "The set of all street names is a code over the 27-ary alphabet $F_{27}=\\{\\text{A},\\text{B},...,\\text{Z},\\langle\\text{SPACE}\\rangle\\}$"
   ]
  },
  {
   "attachments": {},
   "cell_type": "markdown",
   "metadata": {},
   "source": [
    "### Binary Code"
   ]
  },
  {
   "attachments": {},
   "cell_type": "markdown",
   "metadata": {},
   "source": [
    "[BINARY CODE or 2-ARY CODE]\n",
    "\n",
    "A binary code is a set of sequences of 0s and 1s called codewords.\n",
    "\n",
    "Since $2=2^1$ is a prime power, the alphabet $F_2=\\{0,1\\}=Z_2$ is the finite field of order $2$."
   ]
  },
  {
   "attachments": {},
   "cell_type": "markdown",
   "metadata": {},
   "source": [
    "### Ternary Code"
   ]
  },
  {
   "attachments": {},
   "cell_type": "markdown",
   "metadata": {},
   "source": [
    "[TERNARY CODE or 3-ARY CODE]\n",
    "\n",
    "A ternary code is a set of sequences of 0s, 1s, and 2s.\n",
    "\n",
    "Since $3=3^1$ is a prime power, the alphabet $F_3=\\{0,1,2\\}=Z_3$ is the finite field of order $3$."
   ]
  },
  {
   "attachments": {},
   "cell_type": "markdown",
   "metadata": {},
   "source": [
    "---"
   ]
  },
  {
   "attachments": {},
   "cell_type": "markdown",
   "metadata": {},
   "source": [
    "## Block Code of length n"
   ]
  },
  {
   "attachments": {},
   "cell_type": "markdown",
   "metadata": {},
   "source": [
    "[BLOCK CODE OF LENGTH N]\n",
    "\n",
    "A block code of length $n$ is a code in which each codeword is a sequence consisting of a fixed number $n$ of symbols.\n",
    "\n",
    "A block code $C$ with $M$ codewords of length $n$ is written as an $M\\times n$ array whose rows are the codewords of $C$."
   ]
  },
  {
   "attachments": {},
   "cell_type": "markdown",
   "metadata": {},
   "source": [
    "---"
   ]
  },
  {
   "attachments": {},
   "cell_type": "markdown",
   "metadata": {},
   "source": [
    "## Repetition Code of length n"
   ]
  },
  {
   "attachments": {},
   "cell_type": "markdown",
   "metadata": {},
   "source": [
    "[REPETITION CODE OF LENGTH N]\n",
    "\n",
    "A repetition code is a code in which each codeword is the repetition of some symbol $n$ times."
   ]
  },
  {
   "attachments": {},
   "cell_type": "markdown",
   "metadata": {},
   "source": [
    "The $q$-ary repetition code of length $n$ whose codewords are\n",
    "\n",
    "$\n",
    "\\begin{matrix}\n",
    "0 & 0 & \\dots & 0\\\\\n",
    "1 & 1 & \\dots & 1\\\\\n",
    "\\vdots & \\vdots & \\ddots & \\vdots\\\\\n",
    "(q-1) & (q-1) & \\dots & (q-1)\\\\\n",
    "\\end{matrix}\n",
    "$\n",
    "\n",
    "is an $(n,q,n)$-code."
   ]
  },
  {
   "attachments": {},
   "cell_type": "markdown",
   "metadata": {},
   "source": [
    "---"
   ]
  },
  {
   "attachments": {},
   "cell_type": "markdown",
   "metadata": {},
   "source": [
    "## $(F_q)^n$"
   ]
  },
  {
   "attachments": {},
   "cell_type": "markdown",
   "metadata": {},
   "source": [
    "Let $(F_q)^n$ denote the set of all ordered $n$-tuples $\\mathbf{a}=a_1a_2...a_n$ where each $a_i\\in F_q$.\n",
    "\n",
    "The elements of $(F_q)^n$ are called vectors or words.\n",
    "\n",
    "The order of the set $(F_q)^n$ is $q^n$.\n",
    "\n",
    "A $q$-ary block code of length $n$ is a subset of $(F_q)^n$."
   ]
  },
  {
   "attachments": {},
   "cell_type": "markdown",
   "metadata": {},
   "source": [
    "[EXAMPLE]\n",
    "\n",
    "$\n",
    "(F_2)^3\n",
    "$"
   ]
  },
  {
   "cell_type": "code",
   "execution_count": 5,
   "metadata": {},
   "outputs": [
    {
     "data": {
      "text/plain": [
       "{'000', '001', '010', '011', '100', '101', '110', '111'}"
      ]
     },
     "execution_count": 5,
     "metadata": {},
     "output_type": "execute_result"
    }
   ],
   "source": [
    "fqn(2,3)"
   ]
  },
  {
   "cell_type": "code",
   "execution_count": 6,
   "metadata": {},
   "outputs": [
    {
     "data": {
      "text/plain": [
       "{'000', '111'}"
      ]
     },
     "execution_count": 6,
     "metadata": {},
     "output_type": "execute_result"
    }
   ],
   "source": [
    "rc(2,3)"
   ]
  },
  {
   "cell_type": "code",
   "execution_count": 7,
   "metadata": {},
   "outputs": [
    {
     "data": {
      "text/plain": [
       "True"
      ]
     },
     "execution_count": 7,
     "metadata": {},
     "output_type": "execute_result"
    }
   ],
   "source": [
    "rc(2,3).issubset(fqn(2,3))"
   ]
  },
  {
   "attachments": {},
   "cell_type": "markdown",
   "metadata": {},
   "source": [
    "---"
   ]
  },
  {
   "attachments": {},
   "cell_type": "markdown",
   "metadata": {},
   "source": [
    "[EXAMPLE]\n",
    "\n",
    "The set of all $10$-digit telephone numbers in the UK is a $10$-ary block code of length $10$.\n",
    "\n",
    "Little thought appears to have been given to allocating numbers so that the frequency of wrong numbers is minimized.\n",
    "\n",
    "Even so, this code of about $82$ million $10$-digit telephone numbers such that if just one digit of a number is misdialled the correct connection can still be made."
   ]
  },
  {
   "cell_type": "code",
   "execution_count": 8,
   "metadata": {},
   "outputs": [
    {
     "data": {
      "text/latex": [
       "$\\displaystyle \\begin{aligned}q&=10\\\\n&=10\\\\q^n&=10,000,000,000\\end{aligned}$"
      ],
      "text/plain": [
       "<IPython.core.display.Math object>"
      ]
     },
     "metadata": {},
     "output_type": "display_data"
    }
   ],
   "source": [
    "q=10\n",
    "n=10\n",
    "display(Math(\n",
    "  r\"\\begin{aligned}\"\n",
    "  r\"q&=10\\\\\"\n",
    "  r\"n&=10\\\\\"\n",
    "  f\"q^n&={q**n:,}\"\n",
    "  r\"\\end{aligned}\"\n",
    "))"
   ]
  },
  {
   "attachments": {},
   "cell_type": "markdown",
   "metadata": {},
   "source": [
    "---"
   ]
  },
  {
   "attachments": {},
   "cell_type": "markdown",
   "metadata": {},
   "source": [
    "## Hamming distance"
   ]
  },
  {
   "attachments": {},
   "cell_type": "markdown",
   "metadata": {},
   "source": [
    "[HAMMING DISTANCE]\n",
    "\n",
    "The Hamming distance $d(\\mathbf{x,y})$ between two vectors $\\mathbf{x}$ and $\\mathbf{y}$ of $(F_q)^n$ is the number of places in which they differ.\n",
    "\n",
    "The Hamming distance is a metric because it satisfies the following three conditions.\n",
    "\n",
    "$\n",
    "\\begin{aligned}\n",
    "d(\\mathbf{x,y})&=0\\iff\\mathbf{x=y}\n",
    "\\\\\n",
    "d(\\mathbf{x,y})&=d(\\mathbf{y,x})\\,\\,\\,\\forall\\mathbf{x,y}\\in(F_q)^n\n",
    "\\\\\n",
    "d(\\mathbf{x,y})&\\le d(\\mathbf{x,z})+d(\\mathbf{z,y})\\,\\,\\,\\forall\\mathbf{x,y,z}\\in(F_q)^n\n",
    "\\,\\,\\,\\text{triangle inequality}\n",
    "\\end{aligned}\n",
    "$\n",
    "\n",
    "Triangle Inequality\n",
    "* $d(\\mathbf{x,y})$ is the minimum number of changes of digits (or bit flips) required to change $\\mathbf{x}$ to $\\mathbf{y}$.\n",
    "* We can also change $\\mathbf{x}$ to $\\mathbf{y}$ by first making $d(\\mathbf{x,z})$ changes and then $d(\\mathbf{z,y})$ changes."
   ]
  },
  {
   "cell_type": "code",
   "execution_count": 9,
   "metadata": {},
   "outputs": [
    {
     "data": {
      "text/plain": [
       "4"
      ]
     },
     "execution_count": 9,
     "metadata": {},
     "output_type": "execute_result"
    }
   ],
   "source": [
    "hd('00111','11001')"
   ]
  },
  {
   "cell_type": "code",
   "execution_count": 10,
   "metadata": {},
   "outputs": [
    {
     "data": {
      "text/plain": [
       "3"
      ]
     },
     "execution_count": 10,
     "metadata": {},
     "output_type": "execute_result"
    }
   ],
   "source": [
    "hd('0122','1220')"
   ]
  },
  {
   "attachments": {},
   "cell_type": "markdown",
   "metadata": {},
   "source": [
    "---"
   ]
  },
  {
   "attachments": {},
   "cell_type": "markdown",
   "metadata": {},
   "source": [
    "## Nearest Neighbor Decoding"
   ]
  },
  {
   "attachments": {},
   "cell_type": "markdown",
   "metadata": {},
   "source": [
    "[NEAREST NEIGHBOR DECODING]\n",
    "\n",
    "Suppose a codeword $\\mathbf{x}$ has been transmitted and that a vector $\\mathbf{y}$ has been received, which may've been distorted by noise.\n",
    "\n",
    "It seems reasonable to decode $\\mathbf{y}$ as that codeword $\\mathbf{x'}$, hopefully $\\mathbf{x}$, such that $d(\\mathbf{x',y})$ is as small as possible.\n",
    "\n",
    "NND maximizes the decoder's likelihood of correcting errors assuming a q-ary symmetric channel.\n",
    "\n",
    "DECODE A VECTOR TO ITS CLOSEST CODEWORD."
   ]
  },
  {
   "attachments": {},
   "cell_type": "markdown",
   "metadata": {},
   "source": [
    "### Brute Force Nearest Neighbor Decoding"
   ]
  },
  {
   "attachments": {},
   "cell_type": "markdown",
   "metadata": {},
   "source": [
    "[BRUTE-FORCE DECODING]\n",
    "\n",
    "Compare the received vector with all codewords and to decode to the nearest."
   ]
  },
  {
   "attachments": {},
   "cell_type": "markdown",
   "metadata": {},
   "source": [
    "---"
   ]
  },
  {
   "attachments": {},
   "cell_type": "markdown",
   "metadata": {},
   "source": [
    "## Q-Ary Symmetric Communication Channel"
   ]
  },
  {
   "attachments": {},
   "cell_type": "markdown",
   "metadata": {},
   "source": [
    "[Q-ARY SYMMETRIC COMMUNICATION CHANNEL]\n",
    "\n",
    "Let $p$ be called the symbol error probability.\n",
    "\n",
    "(i) Each symbol transmitted has the same probability $p(\\lt\\frac{1}{2})$ of being received in error.\n",
    "\n",
    "(ii) If a symbol is received in error, then each of the $q-1$ possible errors is equally likely."
   ]
  },
  {
   "attachments": {},
   "cell_type": "markdown",
   "metadata": {},
   "source": [
    "### Binary Symmetric Communication Channel"
   ]
  },
  {
   "attachments": {},
   "cell_type": "markdown",
   "metadata": {},
   "source": [
    "#### Symbol error probability"
   ]
  },
  {
   "attachments": {},
   "cell_type": "markdown",
   "metadata": {},
   "source": [
    "$\n",
    "\\begin{aligned}\n",
    "\\text{symbol error probability}\\,\\,\\,\n",
    "p\n",
    "&=P[\\text{symbol}\\,\\,\\,i\\,\\,\\,\\text{received in error}]\n",
    "\\lt\\frac{1}{2}\n",
    "\\\\\n",
    "(1-p)\n",
    "&=P[\\text{symbol}\\,\\,\\,i\\,\\,\\,\\text{not received in error}]\n",
    "\\gt\\frac{1}{2}\n",
    "\\end{aligned}\n",
    "$"
   ]
  },
  {
   "attachments": {},
   "cell_type": "markdown",
   "metadata": {},
   "source": [
    "A binary codeword of length $n$ is transmitted.\n",
    "\n",
    "The probability that no errors occur is\n",
    "\n",
    "$\n",
    "\\underbrace{(1-p)(1-p)...(1-p)}_{n\\,\\,\\,\\text{times}}\n",
    "=(1-p)^n\n",
    "$\n",
    "\n",
    "The probability that a single error occurs is\n",
    "\n",
    "$\n",
    "\\underbrace{p}_{1\\,\\,\\,\\text{time}}\\underbrace{(1-p)(1-p)...(1-p)}_{n-1\\,\\,\\,\\text{times}}\n",
    "=p(1-p)^{n-1}\n",
    "$\n",
    "\n",
    "The probability that $i$ errors occur is\n",
    "\n",
    "$\n",
    "\\underbrace{pp...p}_{i\\,\\,\\,\\text{times}}\\underbrace{(1-p)(1-p)...(1-p)}_{n-i\\,\\,\\,\\text{times}}\n",
    "=p^i(1-p)^{n-i}\n",
    "$\n",
    "\n",
    "$\n",
    "\\begin{aligned}\n",
    "p\\lt\\frac{1}{2}\n",
    "\\implies\n",
    "(1-p)^n\n",
    "\\gt\n",
    "p(1-p)^{n-1}\n",
    "\\gt\n",
    "p^i(1-p)^{n-i}\n",
    "\\end{aligned}\n",
    "$\n",
    "\n",
    "This last fact means that for a binary symmetric channel, nearest neighbor decoding is also maximum likelihood decoding."
   ]
  },
  {
   "attachments": {},
   "cell_type": "markdown",
   "metadata": {},
   "source": [
    "#### Word error probability"
   ]
  },
  {
   "attachments": {},
   "cell_type": "markdown",
   "metadata": {},
   "source": [
    "Word error probability $P_{err}=1-P_\\text{correct}$ is the probability that a received vector is not correctly decoded as the transmitted codeword.\n",
    "\n",
    "Certain codes, such as the class of linear codes, have the property that $P_{err}(C)$ is independent of the actual codeword transmitted."
   ]
  },
  {
   "attachments": {},
   "cell_type": "markdown",
   "metadata": {},
   "source": [
    "---"
   ]
  },
  {
   "attachments": {},
   "cell_type": "markdown",
   "metadata": {},
   "source": [
    "## Minimum distance of a code"
   ]
  },
  {
   "attachments": {},
   "cell_type": "markdown",
   "metadata": {},
   "source": [
    "[MINIMUM DISTANCE OF A CODE]\n",
    "\n",
    "The minimum distance $d(C)$ of a code $C$ is the smallest of the distances between distinct codewords.\n",
    "\n",
    "$d(C)=\\min\\{d(\\mathbf{x,y})\\mid\\mathbf{x,y}\\in C,\\mathbf{x\\ne y}\\}$\n",
    "\n",
    "$d(C)$ is a measure of how good a code is at error-correcting."
   ]
  },
  {
   "attachments": {},
   "cell_type": "markdown",
   "metadata": {},
   "source": [
    "### Minimum distance and error-detection and -correction"
   ]
  },
  {
   "attachments": {},
   "cell_type": "markdown",
   "metadata": {},
   "source": [
    "[THEOREM]\n",
    "\n",
    "(i) A code $C$ can detect up to $s$ errors in any codeword if $d(C)\\ge s+1$.\n",
    "\n",
    "(ii) A code $C$ can correct up to $t$ errors in any codeword if $d(C)\\ge2t+1$.\n",
    "\n",
    "PROOF (i)\n",
    "\n",
    "Suppose $d(C)\\ge s+1$.\n",
    "\n",
    "[In fact we are working with a code $C$ whose minimum distance $d(C)$ is no smaller than $s+1$ for some nonnegative integer $s$.]\n",
    "\n",
    "Suppose a codeword $\\mathbf{x}$ is transmitted and the vector $\\mathbf{y}$ is received in which $s$ or fewer errors have occurred, so that $d(\\mathbf{x,y})\\le s$.\n",
    "\n",
    "[In fact we receive a vector $\\mathbf{y}$ in which no more than $s$ errors have actually occurred.]\n",
    "\n",
    "Then the received vector cannot be a different codeword, and so the errors are detected.\n",
    "\n",
    "[Since the distance from each codeword to every other codeword is in fact at least one larger than $s$, $\\mathbf{y}$ cannot be a codeword.]\n",
    "\n",
    "$\\blacksquare$\n",
    "\n",
    "PROOF (ii)\n",
    "\n",
    "Suppose $d(C)\\ge2t+1$.\n",
    "\n",
    "[In fact we are working with a code $C$ whose minimum distance $d(C)$ is no smaller than $2t+1$ for some nonnegative integer $t$.]\n",
    "\n",
    "Suppose a codeword $\\mathbf{x}$ is transmitted and the vector $\\mathbf{y}$ is received in which $t$ or fewer errors have occurred, so that $d(\\mathbf{x,y})\\le t$.\n",
    "\n",
    "[In fact we receive a vector $\\mathbf{y}$ in which no more than $t$ errors have actually occurred.]\n",
    "\n",
    "If $\\mathbf{x'}$ is any codeword other than $\\mathbf{x}$, then $d(\\mathbf{x',y})\\ge t+1$.\n",
    "\n",
    "[\n",
    "\n",
    "The distance between $\\mathbf{x}$ and $\\mathbf{y}$ is no greater than $t$.\n",
    "\n",
    "By $d(C)$, the distance between $\\mathbf{x}$ and any other codeword $\\mathbf{x'}$ is no smaller than $2t+1$.\n",
    "\n",
    "Thus by the triangle inequality,\n",
    "\n",
    "$\n",
    "\\begin{aligned}\n",
    "d(\\mathbf{x,x'})&\\le d(\\mathbf{x,y})+d(\\mathbf{y,x'})\n",
    "\\\\\n",
    "2t+1&\\le t+d(\\mathbf{y,x'})\n",
    "\\\\\n",
    "t+1&\\le d(\\mathbf{y,x'})\n",
    "\\end{aligned}\n",
    "$\n",
    "\n",
    "]\n",
    "\n",
    "For otherwise, $d(\\mathbf{x',y})\\le t$, which implies by the triangle inequality that $d(\\mathbf{x,x'})\\le d(\\mathbf{x,y})+d(\\mathbf{y,x'})\\le2t$, which contradicts $d(C)\\ge 2t+1$.\n",
    "\n",
    "<p style=\"color: red;\">\n",
    "Why does a logical negation work here?\n",
    "</p>\n",
    "\n",
    "[\n",
    "\n",
    "If $d(\\mathbf{x',y})\\not\\ge t+1$ then $d(\\mathbf{x',y})\\le t$\n",
    "\n",
    "(If a statement if false then its negation is true.)\n",
    "\n",
    "If $d(\\mathbf{x',y})\\le t$ then by the triangle inequality\n",
    "\n",
    "$\n",
    "\\begin{aligned}\n",
    "d(\\mathbf{x,x'})&\\le d(\\mathbf{x,y})+d(\\mathbf{y,x'})\n",
    "\\\\\n",
    "2t+1&\\le d(\\mathbf{x,y})+d(\\mathbf{y,x'})\\le2t\n",
    "\\end{aligned}\n",
    "$\n",
    "\n",
    "]\n",
    "\n",
    "Therefore, $\\mathbf{x}$ is the nearest codeword to $\\mathbf{y}$ and nearest neighbor decoding corrects the errors.\n",
    "\n",
    "$\\blacksquare$"
   ]
  },
  {
   "attachments": {},
   "cell_type": "markdown",
   "metadata": {},
   "source": [
    "[COROLLARY]\n",
    "\n",
    "If a code $C$ has minimum distance $d(C)$ then $C$ can be used either\n",
    "\n",
    "(i) to detect up to $d-1$ errors or\n",
    "\n",
    "(ii) to correct up to $\\lfloor\\frac{d-1}{2}\\rfloor$ errors in any codeword."
   ]
  },
  {
   "attachments": {},
   "cell_type": "markdown",
   "metadata": {},
   "source": [
    "PROOF (i)\n",
    "\n",
    "$\n",
    "\\begin{aligned}\n",
    "d(C)&\\ge s+1\n",
    "\\iff\n",
    "d(C)-1\\ge s\n",
    "\\end{aligned}\n",
    "$\n",
    "\n",
    "[\n",
    "  \n",
    "The number of errors $s$ must be no larger than one less than the minimum distance of the code.\n",
    "\n",
    "When there are no more than $s$ errors in a vector, that vector will not be any codeword and can thus be detected as an error.\n",
    "\n",
    "]\n",
    "\n",
    "$\\blacksquare$"
   ]
  },
  {
   "attachments": {},
   "cell_type": "markdown",
   "metadata": {},
   "source": [
    "PROOF (ii)\n",
    "\n",
    "$\n",
    "\\begin{aligned}\n",
    "d(C)\\ge2t+1\n",
    "\\iff\n",
    "\\frac{d(C)-1}{2}&\\ge t\n",
    "\\\\\n",
    "\\to\n",
    "\\left\\lfloor\\frac{d(C)-1}{2}\\right\\rfloor&\\ge t\n",
    "\\end{aligned}\n",
    "$"
   ]
  },
  {
   "attachments": {},
   "cell_type": "markdown",
   "metadata": {},
   "source": [
    "### The number of errors detected or corrected for a given minimum distance"
   ]
  },
  {
   "cell_type": "code",
   "execution_count": null,
   "metadata": {},
   "outputs": [
    {
     "name": "stdout",
     "output_type": "stream",
     "text": [
      "d(C)  s     t     \n",
      "\n",
      "1     0     0     \n",
      "2     1     0     \n",
      "3     2     1     \n",
      "4     3     1     \n",
      "5     4     2     \n",
      "6     5     2     \n",
      "7     6     3     \n",
      "8     7     3     \n",
      "9     8     4     \n",
      "10    9     4     \n",
      "11    10    5     \n",
      "12    11    5     \n",
      "13    12    6     \n",
      "14    13    6     \n",
      "15    14    7     \n",
      "16    15    7     \n",
      "17    16    8     \n",
      "18    17    8     \n",
      "19    18    9     \n",
      "20    19    9     \n",
      "21    20    10    \n",
      "22    21    10    \n",
      "23    22    11    \n",
      "24    23    11    \n",
      "25    24    12    \n",
      "26    25    12    \n",
      "27    26    13    \n",
      "28    27    13    \n",
      "29    28    14    \n",
      "30    29    14    \n",
      "31    30    15    \n",
      "32    31    15    \n",
      "33    32    16    \n",
      "34    33    16    \n",
      "35    34    17    \n",
      "36    35    17    \n",
      "37    36    18    \n",
      "38    37    18    \n",
      "39    38    19    \n",
      "40    39    19    \n",
      "41    40    20    \n",
      "42    41    20    \n",
      "43    42    21    \n",
      "44    43    21    \n",
      "45    44    22    \n",
      "46    45    22    \n",
      "47    46    23    \n",
      "48    47    23    \n",
      "49    48    24    \n",
      "50    49    24    \n"
     ]
    }
   ],
   "source": [
    "print(f\"{'d(C)':6}{'s':6}{'t':6}\")\n",
    "print()\n",
    "for d in range(1,51):\n",
    "  s = d-1\n",
    "  t = int(np.floor((d-1)/2))\n",
    "  print(f\"{d:<6}{s:<6}{t:<6}\")"
   ]
  },
  {
   "attachments": {},
   "cell_type": "markdown",
   "metadata": {},
   "source": [
    "---"
   ]
  },
  {
   "attachments": {},
   "cell_type": "markdown",
   "metadata": {},
   "source": [
    "## (n,M,d)-code"
   ]
  },
  {
   "attachments": {},
   "cell_type": "markdown",
   "metadata": {},
   "source": [
    "An $(n,M,d)$-code is a code of length $n$, containing $M$ codewords and having minimum distance $d$."
   ]
  },
  {
   "attachments": {},
   "cell_type": "markdown",
   "metadata": {},
   "source": [
    "---"
   ]
  }
 ],
 "metadata": {
  "kernelspec": {
   "display_name": "main",
   "language": "python",
   "name": "python3"
  },
  "language_info": {
   "codemirror_mode": {
    "name": "ipython",
    "version": 3
   },
   "file_extension": ".py",
   "mimetype": "text/x-python",
   "name": "python",
   "nbconvert_exporter": "python",
   "pygments_lexer": "ipython3",
   "version": "3.10.8"
  },
  "orig_nbformat": 4
 },
 "nbformat": 4,
 "nbformat_minor": 2
}
