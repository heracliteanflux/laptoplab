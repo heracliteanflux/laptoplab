{
 "cells": [
  {
   "cell_type": "markdown",
   "metadata": {},
   "source": [
    "# Parity Check Codes\n",
    "```{contents}\n",
    "```"
   ]
  },
  {
   "cell_type": "markdown",
   "metadata": {},
   "source": [
    "---\n",
    "---\n",
    "---"
   ]
  },
  {
   "cell_type": "markdown",
   "metadata": {},
   "source": [
    "## $(8, 7)$ parity check code\n",
    "`ECFF` `1992` Pretzel, Oliver. _Error-Correcting Codes and Finite Fields_. Oxford University Press Applied Mathematics and Computing Science Series."
   ]
  },
  {
   "cell_type": "markdown",
   "metadata": {},
   "source": [
    "```txt\n",
    "SUMMARY OF PROPERTIES\n",
    "\n",
    "block length           n = 8\n",
    "rank                   m = 7\n",
    "rate                 m/n = 7/8\n",
    "minimum distance    d(C) = 2    because C consists of all words of even weight\n",
    "\n",
    "s = 1    single-error detection\n",
    "t = 0    no error correction\n",
    "```"
   ]
  },
  {
   "cell_type": "markdown",
   "metadata": {},
   "source": [
    "<b>Introduction</b>\n",
    "\n",
    "A byte, or $8$ bits, is a common unit of information in computer systems which can represent values from $0$ to $255$ inclusive.\n",
    "\n",
    "If we want to transmit English messages we can use the following alphabet.\n",
    "\n",
    "$\n",
    "\\begin{aligned}\n",
    "\\text{L} &= \\text{\\{ a, b, c, d, e, f, g, h, i, j, k, l, m, n, o, p, q, r, s, t, u, v, w, x, y, z \\}} \\\\\n",
    "\\text{U} &= \\text{\\{ A, B, C, D, E, F, G, H, I, J, K, L, M, N, O, P, Q, R, S, T, U, V, W, X, Y, Z \\}} \\\\\n",
    "\\text{D} &= \\text{\\{ 0, 1, 2, 3, 4, 5, 6, 7, 8, 9 \\}} \\\\\n",
    "\\text{P} &= \\{ \\texttt{!}, \\texttt{\"}, \\texttt{\\#}, \\texttt{\\$}, \\texttt{\\%}, \\texttt{\\&}, \\texttt{'}, \\texttt{(}, \\texttt{)}, \\texttt{*}, \\texttt{+}, \\texttt{,}, \\texttt{-}, \\texttt{.}, \\texttt{/}, \\texttt{:}, \\texttt{;}, \\texttt{<}, \\texttt{=}, \\texttt{>}, \\texttt{?}, \\texttt{@}, \\texttt{[}, \\texttt{\\textbackslash}, \\texttt{]}, \\texttt{\\textasciicircum}, \\texttt{\\_}, \\texttt{`}, \\texttt{\\{}, \\texttt{|}, \\texttt{\\}}, \\texttt{\\textasciitilde} \\} \\\\\n",
    "\\text{W} &= \\{ \\langle \\texttt{space} \\rangle, \\texttt{\\textbackslash t}, \\texttt{\\textbackslash n}, \\texttt{\\textbackslash r}, \\texttt{\\textbackslash x0b}, \\texttt{\\textbackslash x0c} \\}\\\\\n",
    "A &= \\text{L} \\cup \\text{U} \\cup \\text{D} \\cup \\text{P} \\\\\n",
    "|A| &= 94 = 26 + 26 + 10 + 32 \\\\\n",
    "\\end  {aligned}\n",
    "$\n",
    "\n",
    "Observe that the number of symbols plus thirty or so more for control codes amounts to less than $127 = 2^7 - 1$ or just $7$ bits. Thus the eighth bit of a byte can be used as a parity bit to check that the byte has been received without error. The eighth bit is set so that the number of $1$ s in the byte is even. This way, if a byte is transmitted and one of the bits goes wrong then the number of $1$ s becomes odd and the receiver can ask for a retransmission. There is no way the receiver can tell which bit went wrong, and if two bits are incorrect the receiver will let the byte through. In practice, the order of the bits is reversed so that the check bit comes first.\n",
    "\n",
    "For example\n",
    "\n",
    "$\n",
    "\\begin{array}{rr|r}\n",
    "\\text{symbol} & 7\\text{-bit ASCII code} & 8\\text{-bit encoding} \\\\ \\hline\n",
    "1 & \\underset{2^0}{1}000\\underset{2^4}{1}\\underset{2^5}{1}0 & \\underbrace{1000110}1 \\\\\n",
    "\\text{A} & \\underset{2^0}{1}00000\\underset{2^6}{1} & \\underbrace{1000001}0 \\\\\n",
    "\\end  {array}\n",
    "$"
   ]
  },
  {
   "cell_type": "markdown",
   "metadata": {},
   "source": [
    "<b>Error-correcting capabilities</b>\n",
    "\n",
    "(1)\n",
    "\n",
    "The code is economical: the encoded message is $1/7$ th longer than the original. This means that if the original message has length $n$ then the encoded message has length\n",
    "\n",
    "$\n",
    "\\begin{aligned}\n",
    "n + \\frac{1}{7}n = n \\left( 1 + \\frac{1}{7} \\right) = \\frac{8}{7} n\n",
    "\\end  {aligned}\n",
    "$\n",
    "\n",
    "In our case, $n = 7$ and so the encoded message has length $8$.\n",
    "\n",
    "(2)\n",
    "\n",
    "The code cannot correct errors; it is only suitable where the receiver can ask for retransmission, since errors can be detected but cannot be located\n",
    "\n",
    "(3)\n",
    "\n",
    "The probability of errors during transmission should be fairly low, because the code cannot cope with two errors in a byte"
   ]
  },
  {
   "cell_type": "markdown",
   "metadata": {},
   "source": [
    "<b>Implementation</b>\n",
    "\n",
    "Encoder: divide the message into blocks of seven, and to each block add an eighth bit to make the number of $1$ s even\n",
    "\n",
    "Error Processor: (assume that the receiver adopts a correction strategy where possible) count the number of $1$ s in the received block, and emit an error signal if the number is odd\n",
    "\n",
    "Decoder: strip the eighth bit"
   ]
  },
  {
   "cell_type": "markdown",
   "metadata": {},
   "source": [
    "---\n",
    "---\n",
    "---"
   ]
  }
 ],
 "metadata": {
  "language_info": {
   "name": "python"
  }
 },
 "nbformat": 4,
 "nbformat_minor": 2
}
