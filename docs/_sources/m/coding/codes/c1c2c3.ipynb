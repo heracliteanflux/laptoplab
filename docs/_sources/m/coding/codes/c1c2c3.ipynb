{
 "cells": [
  {
   "attachments": {},
   "cell_type": "markdown",
   "metadata": {},
   "source": [
    "# Intro to binary codes C1, C2, C3\n",
    "Hill, Raymond. (1986). _A First Course in Coding Theory_. Oxford University Press: Oxford Applied Mathematics and Computing Science Series.\n",
    "```{contents}\n",
    "```"
   ]
  },
  {
   "attachments": {},
   "cell_type": "markdown",
   "metadata": {},
   "source": [
    "---"
   ]
  },
  {
   "attachments": {},
   "cell_type": "markdown",
   "metadata": {},
   "source": [
    "## Programming Environment"
   ]
  },
  {
   "cell_type": "code",
   "execution_count": 190,
   "metadata": {
    "tags": [
     "hide-input"
    ]
   },
   "outputs": [
    {
     "name": "stdout",
     "output_type": "stream",
     "text": [
      "EXECUTED            : 2023-05-10 17:11:21.637477\n",
      "\n",
      "Platform            : 13.3.1 | Darwin | 22.4.0 | arm64\n",
      "                    : UTF-8\n",
      "\n",
      "Python              : 3.10.8 | packaged by conda-forge | (main, Nov 22 2022, 08:25:29) [Clang 14.0.6 ]\n",
      "                    : sys.version_info(major=3, minor=10, micro=8, releaselevel='final', serial=0)\n",
      "                    : CPython\n",
      "\n",
      "Matplotlib          : 3.6.3\n",
      "NumPy               : 1.24.1\n"
     ]
    }
   ],
   "source": [
    "import numpy  as np\n",
    "import pandas as pd\n",
    "\n",
    "import matplotlib        as mpl\n",
    "import matplotlib.pyplot as plt\n",
    "plt.style.use('ggplot');\n",
    "plt.rcParams.update({'text.usetex' : True});\n",
    "%matplotlib inline\n",
    "\n",
    "from   collections import defaultdict\n",
    "from   itertools   import combinations,product\n",
    "import itertools\n",
    "\n",
    "from typing import Set\n",
    "\n",
    "from IPython.display import display, Math\n",
    "\n",
    "from   datetime import datetime as d\n",
    "import locale                   as l\n",
    "import platform                 as p\n",
    "import sys                      as s\n",
    "\n",
    "pad = 20\n",
    "print(f\"{'Executed'.upper():<{pad}}: {d.now()}\")\n",
    "print()\n",
    "print(f\"{'Platform'   :<{pad}}: \"\n",
    "      f\"{p.mac_ver()[0]} | \"\n",
    "      f\"{p.system()} | \"\n",
    "      f\"{p.release()} | \"\n",
    "      f\"{p.machine()}\")\n",
    "print(f\"{''           :<{pad}}: {l.getpreferredencoding()}\")\n",
    "print()\n",
    "print(f\"{'Python'     :<{pad}}: {s.version}\")\n",
    "print(f\"{''           :<{pad}}: {s.version_info}\")\n",
    "print(f\"{''           :<{pad}}: {p.python_implementation()}\")\n",
    "print()\n",
    "print(f\"{'Matplotlib' :<{pad}}: {mpl.__version__}\")\n",
    "print(f\"{'NumPy'      :<{pad}}: {np .__version__}\")"
   ]
  },
  {
   "cell_type": "code",
   "execution_count": 189,
   "metadata": {
    "tags": [
     "hide-input"
    ]
   },
   "outputs": [],
   "source": [
    "def rc (q : int,\n",
    "        n : int) -> Set[str]:\n",
    "  \"\"\"Repetition Code\n",
    "  Generate a q-ary repetition block code of length n.\n",
    "  \"\"\"\n",
    "  S=set()\n",
    "  for i in range(q):\n",
    "    S.add(str(i)*n)\n",
    "  return S\n",
    "\n",
    "def fqn (q : int,\n",
    "         n : int,\n",
    "         g : int = 0) -> Set[str]:\n",
    "  \"\"\"Construct a linear space of dimension n over a finite field of order q.\n",
    "  \n",
    "  Parameters\n",
    "  ==========\n",
    "  g : If the space is very large, opt for the first g elements of a generator object.\n",
    "  \"\"\"\n",
    "  if bool(g):\n",
    "    f=itertools.product(range(q),repeat=n)\n",
    "    return set(''.join(str(i) for i in next(f)) for _ in range(g))\n",
    "  else:\n",
    "    return {''.join(str(bit) for bit in word) for word in itertools.product(range(q),repeat=n)}\n",
    "\n",
    "def qarycode_to_nbitstring (code={'3121','2101'},k=4):\n",
    "  \"\"\"Convert a q-ary code \"\"\"\n",
    "  for n in code:\n",
    "    print(' '.join(format(int(i),f'0{k}b') for i in n))\n",
    "\n",
    "def hd (a : str = '1001',\n",
    "        b : str = '0101') -> int:\n",
    "  \"\"\"HAMMING DISTANCE\n",
    "  \n",
    "  Parameters\n",
    "  ==========\n",
    "  x : str\n",
    "  y : str\n",
    "\n",
    "  Return\n",
    "  ======\n",
    "  int\n",
    "  \"\"\"\n",
    "  assert len(a) == len(b), 'x and y must have the same length'\n",
    "  return sum(x!=y for x,y in zip(a,b))\n",
    "\n",
    "def nbfmd (c  : Set[str],\n",
    "           pr : bool = False) -> np.float16:\n",
    "  \"\"\"NAIVE BRUTE FORCE MINIMUM DISTANCE d(C)\n",
    "\n",
    "  Computes the pairwise Hamming distance for all codewords and returns the minimum value.\n",
    "\n",
    "  This is a naive (i.e., non vectorized) implementation using nested for loops.\n",
    "  \n",
    "  Parameters\n",
    "  ==========\n",
    "  c  : code\n",
    "  pr : Print intermediate steps.\n",
    "\n",
    "  Returns\n",
    "  =======\n",
    "  d(C)\n",
    "  \"\"\"\n",
    "\n",
    "  # convert a set of string vectors to a 2D NumPy array of integers\n",
    "  c=np.array([list(codeword) for codeword in c],dtype=np.float16)\n",
    "\n",
    "  # intialize empty hamming distance matrix\n",
    "  hamming = np.empty([c.shape[0]]*2,dtype=np.float16)\n",
    "  for i,x in enumerate(c):\n",
    "    for j,y in enumerate(c):\n",
    "      hamming[i,j]=(x!=y).sum()\n",
    "  # the diagonal represents the Hamming distance of a codeword with itself, which is always 0.\n",
    "  np.fill_diagonal(hamming,np.inf)\n",
    "\n",
    "  if pr == True:\n",
    "    print(hamming)\n",
    "\n",
    "  return hamming.min().astype(np.int8)\n",
    "\n",
    "def one_error_detecting (q    : int,\n",
    "                         code : Set[str],\n",
    "                         p    : bool = False) -> bool:\n",
    "  \"\"\"Verify that a code is one-error detecting.\n",
    "  No one-bit error equals a codeword.\n",
    "  \"\"\"\n",
    "  flag=True\n",
    "  alphabet=set(str(i) for i in range(q))\n",
    "  for codeword in code:\n",
    "    if p:\n",
    "      print()\n",
    "      print(f\"{'orig cw : ':10}{codeword}\")\n",
    "    for i in range(len(codeword)):\n",
    "      a,b,c=codeword[:i],codeword[i],codeword[i+1:]\n",
    "      symbols=alphabet-set(codeword[i])\n",
    "      for symbol in symbols:\n",
    "        cw=codeword[:i]+symbol+codeword[i+1:] # SINGLE ERROR\n",
    "        if cw in code:\n",
    "          flag=False\n",
    "          if p:\n",
    "            print(f\"{'ERROR':10}{cw}\")\n",
    "        else:\n",
    "          if p:\n",
    "            print(f\"{'':10}{cw}\")\n",
    "  return flag\n",
    "\n",
    "# set(''.join(l for l in i) for i in itertools.product('10',repeat=3))\n",
    "# set(''.join(l for l in i) for i in itertools.combinations_with_replacement('012',r=3))\n",
    "# set(''.join(l for l in i) for i in itertools.combinations('01',r=2))"
   ]
  },
  {
   "attachments": {},
   "cell_type": "markdown",
   "metadata": {},
   "source": [
    "---"
   ]
  },
  {
   "attachments": {},
   "cell_type": "markdown",
   "metadata": {},
   "source": [
    "[EXAMPLE]\n",
    "\n",
    "HQ and X have identical maps but only HQ knows the route by which X can avoid enemy territory and return to HQ safely.\n",
    "\n",
    "HQ can transmit binary data to X and wishes to send the route $\\text{NNWNNWWSSWWNNNNWWN}$.\n",
    "\n",
    "In this situation, reliability or transmission is more important than speed of transmission.\n",
    "\n",
    "The most efficient code is\n",
    "\n",
    "$\n",
    "C_1=\n",
    "\\begin{cases}\n",
    "00&=\\text{N}\\\\\n",
    "01&=\\text{W}\\\\\n",
    "10&=\\text{E}\\\\\n",
    "11&=\\text{S}\\\\\n",
    "\\end{cases}\n",
    "$\n",
    "\n",
    "However, if one or more errors have occurred there is no way for X to know."
   ]
  },
  {
   "cell_type": "code",
   "execution_count": 135,
   "metadata": {},
   "outputs": [
    {
     "data": {
      "text/plain": [
       "True"
      ]
     },
     "execution_count": 135,
     "metadata": {},
     "output_type": "execute_result"
    }
   ],
   "source": [
    "c1 ={'00','01','10','11'}\n",
    "f22=fqn(2,2)\n",
    "c1.issubset(f22)"
   ]
  },
  {
   "attachments": {},
   "cell_type": "markdown",
   "metadata": {},
   "source": [
    "Let's add a redundant bit to each codeword to protect them against noise.\n",
    "\n",
    "A less efficient but more reliable code than $C_1$ is\n",
    "\n",
    "$\n",
    "C_2=\n",
    "\\begin{cases}\n",
    "000&=\\text{N}\\\\\n",
    "011&=\\text{W}\\\\\n",
    "101&=\\text{E}\\\\\n",
    "110&=\\text{S}\\\\\n",
    "\\end{cases}\n",
    "$\n",
    "\n",
    "A single error in the received vector cannot be a codeword and so $C_2$ is single-error-detecting.\n",
    "\n",
    "X can recognize whether a single error has occurred and seek retransmission."
   ]
  },
  {
   "cell_type": "code",
   "execution_count": 136,
   "metadata": {},
   "outputs": [
    {
     "data": {
      "text/plain": [
       "True"
      ]
     },
     "execution_count": 136,
     "metadata": {},
     "output_type": "execute_result"
    }
   ],
   "source": [
    "c2 ={'000','011','101','110'}\n",
    "f23=fqn(2,3)\n",
    "c2.issubset(f23)"
   ]
  },
  {
   "cell_type": "code",
   "execution_count": 137,
   "metadata": {},
   "outputs": [
    {
     "data": {
      "text/plain": [
       "True"
      ]
     },
     "execution_count": 137,
     "metadata": {},
     "output_type": "execute_result"
    }
   ],
   "source": [
    "one_error_detecting(2,c2)"
   ]
  },
  {
   "attachments": {},
   "cell_type": "markdown",
   "metadata": {},
   "source": [
    "Suppose X can receive binary data from HQ but cannot seek retransmission.\n",
    "\n",
    "A less efficient but more reliable code than $C_2$ is\n",
    "\n",
    "$\n",
    "C_3=\n",
    "\\begin{cases}\n",
    "00000&=\\text{N}\\\\\n",
    "01101&=\\text{W}\\\\\n",
    "10110&=\\text{E}\\\\\n",
    "11011&=\\text{S}\\\\\n",
    "\\end{cases}\n",
    "$\n",
    "\n",
    "A single error in the received vector cannot be a codeword and so $C_2$ is single-error-detecting.\n",
    "\n",
    "X can recognize whether a single error has occurred and seek retransmission."
   ]
  },
  {
   "cell_type": "code",
   "execution_count": 138,
   "metadata": {},
   "outputs": [
    {
     "data": {
      "text/plain": [
       "True"
      ]
     },
     "execution_count": 138,
     "metadata": {},
     "output_type": "execute_result"
    }
   ],
   "source": [
    "c3 ={'00000','01101','10110','11011'}\n",
    "f25=fqn(2,5)\n",
    "c3.issubset(f25)"
   ]
  },
  {
   "cell_type": "code",
   "execution_count": 139,
   "metadata": {},
   "outputs": [
    {
     "name": "stdout",
     "output_type": "stream",
     "text": [
      "\n",
      "orig cw : 11011\n",
      "          01011\n",
      "          10011\n",
      "          11111\n",
      "          11001\n",
      "          11010\n",
      "\n",
      "orig cw : 01101\n",
      "          11101\n",
      "          00101\n",
      "          01001\n",
      "          01111\n",
      "          01100\n",
      "\n",
      "orig cw : 10110\n",
      "          00110\n",
      "          11110\n",
      "          10010\n",
      "          10100\n",
      "          10111\n",
      "\n",
      "orig cw : 00000\n",
      "          10000\n",
      "          01000\n",
      "          00100\n",
      "          00010\n",
      "          00001\n"
     ]
    },
    {
     "data": {
      "text/plain": [
       "True"
      ]
     },
     "execution_count": 139,
     "metadata": {},
     "output_type": "execute_result"
    }
   ],
   "source": [
    "one_error_detecting(2,c3,True)"
   ]
  },
  {
   "attachments": {},
   "cell_type": "markdown",
   "metadata": {},
   "source": [
    "---"
   ]
  },
  {
   "attachments": {},
   "cell_type": "markdown",
   "metadata": {},
   "source": [
    "## C1"
   ]
  },
  {
   "attachments": {},
   "cell_type": "markdown",
   "metadata": {},
   "source": [
    "$\n",
    "\\begin{aligned}\n",
    "&(2,4,1)\\text{-code}\n",
    "\\\\\n",
    "C_{1,[4\\times2]}&=\n",
    "\\begin{cases}\n",
    "00&=\\text{N}\\\\\n",
    "01&=\\text{W}\\\\\n",
    "10&=\\text{E}\\\\\n",
    "11&=\\text{S}\\\\\n",
    "\\end{cases}\n",
    "\\end{aligned}\n",
    "$\n",
    "\n",
    "$\n",
    "\\begin{aligned}\n",
    "q&=2\n",
    "\\\\\n",
    "Z_q&=\\{0,1\\}\n",
    "\\\\\n",
    "C_{1}\n",
    "&\\subseteq(F_2)^2\n",
    "\\\\\n",
    "n&=2\n",
    "\\\\\n",
    "M&=4\n",
    "\\\\\n",
    "d(C)&=1\n",
    "\\\\\n",
    "d(C)&\\ge1=(s=0)+1\n",
    "&&\\text{zero-error detecting}\n",
    "\\\\\n",
    "d(C)&\\ge1=2(t=0)+1\n",
    "&&\\text{zero-error correcting}\n",
    "\\end{aligned}\n",
    "$"
   ]
  },
  {
   "cell_type": "code",
   "execution_count": 140,
   "metadata": {},
   "outputs": [
    {
     "data": {
      "text/plain": [
       "{'00', '01', '10', '11'}"
      ]
     },
     "execution_count": 140,
     "metadata": {},
     "output_type": "execute_result"
    }
   ],
   "source": [
    "c1={'00','01','10','11'}\n",
    "c1"
   ]
  },
  {
   "cell_type": "code",
   "execution_count": 141,
   "metadata": {},
   "outputs": [
    {
     "data": {
      "text/plain": [
       "{'00', '01', '10', '11'}"
      ]
     },
     "execution_count": 141,
     "metadata": {},
     "output_type": "execute_result"
    }
   ],
   "source": [
    "q=2\n",
    "n=2\n",
    "f1=fqn(q,n)\n",
    "f1"
   ]
  },
  {
   "cell_type": "code",
   "execution_count": 142,
   "metadata": {},
   "outputs": [
    {
     "data": {
      "text/plain": [
       "True"
      ]
     },
     "execution_count": 142,
     "metadata": {},
     "output_type": "execute_result"
    }
   ],
   "source": [
    "c1.issubset(f1)"
   ]
  },
  {
   "cell_type": "code",
   "execution_count": 143,
   "metadata": {},
   "outputs": [
    {
     "name": "stdout",
     "output_type": "stream",
     "text": [
      "[[inf  2.  1.  1.]\n",
      " [ 2. inf  1.  1.]\n",
      " [ 1.  1. inf  2.]\n",
      " [ 1.  1.  2. inf]]\n"
     ]
    },
    {
     "data": {
      "text/plain": [
       "1"
      ]
     },
     "execution_count": 143,
     "metadata": {},
     "output_type": "execute_result"
    }
   ],
   "source": [
    "dC1=nbfmd(c1,True)\n",
    "dC1"
   ]
  },
  {
   "attachments": {},
   "cell_type": "markdown",
   "metadata": {},
   "source": [
    "---"
   ]
  },
  {
   "attachments": {},
   "cell_type": "markdown",
   "metadata": {},
   "source": [
    "## C2"
   ]
  },
  {
   "attachments": {},
   "cell_type": "markdown",
   "metadata": {},
   "source": [
    "$\n",
    "\\begin{aligned}\n",
    "&(3,4,2)\\text{-code}\n",
    "\\\\\n",
    "C_{2,[4\\times3]}&=\n",
    "\\begin{cases}\n",
    "000&=\\text{N}\\\\\n",
    "011&=\\text{W}\\\\\n",
    "101&=\\text{E}\\\\\n",
    "110&=\\text{S}\\\\\n",
    "\\end{cases}\n",
    "\\end{aligned}\n",
    "$\n",
    "\n",
    "$\n",
    "\\begin{aligned}\n",
    "q&=2\n",
    "\\\\\n",
    "Z_q&=\\{0,1\\}\n",
    "\\\\\n",
    "C_{2}\n",
    "&\\subseteq(F_2)^3\n",
    "\\\\\n",
    "n&=3\n",
    "\\\\\n",
    "M&=4\n",
    "\\\\\n",
    "d(C)&=2\n",
    "\\\\\n",
    "d(C)&\\ge2=(s=1)+1\n",
    "&&\\text{one-error detecting}\n",
    "\\\\\n",
    "d(C)&\\ge2=2(t=0.5)+1\n",
    "&&\\text{zero-error correcting}\n",
    "\\end{aligned}\n",
    "$"
   ]
  },
  {
   "cell_type": "code",
   "execution_count": 144,
   "metadata": {},
   "outputs": [
    {
     "data": {
      "text/plain": [
       "{'000', '011', '101', '110'}"
      ]
     },
     "execution_count": 144,
     "metadata": {},
     "output_type": "execute_result"
    }
   ],
   "source": [
    "c2={'000','011','101','110'}\n",
    "c2"
   ]
  },
  {
   "cell_type": "code",
   "execution_count": 145,
   "metadata": {},
   "outputs": [
    {
     "data": {
      "text/plain": [
       "{'000', '001', '010', '011', '100', '101', '110', '111'}"
      ]
     },
     "execution_count": 145,
     "metadata": {},
     "output_type": "execute_result"
    }
   ],
   "source": [
    "q=2\n",
    "n=3\n",
    "f2=fqn(q,n)\n",
    "f2"
   ]
  },
  {
   "cell_type": "code",
   "execution_count": 146,
   "metadata": {},
   "outputs": [
    {
     "data": {
      "text/plain": [
       "True"
      ]
     },
     "execution_count": 146,
     "metadata": {},
     "output_type": "execute_result"
    }
   ],
   "source": [
    "c2.issubset(f2)"
   ]
  },
  {
   "cell_type": "code",
   "execution_count": 147,
   "metadata": {},
   "outputs": [
    {
     "name": "stdout",
     "output_type": "stream",
     "text": [
      "[[inf  2.  2.  2.]\n",
      " [ 2. inf  2.  2.]\n",
      " [ 2.  2. inf  2.]\n",
      " [ 2.  2.  2. inf]]\n"
     ]
    },
    {
     "data": {
      "text/plain": [
       "2"
      ]
     },
     "execution_count": 147,
     "metadata": {},
     "output_type": "execute_result"
    }
   ],
   "source": [
    "dC2=nbfmd(c2,True)\n",
    "dC2"
   ]
  },
  {
   "attachments": {},
   "cell_type": "markdown",
   "metadata": {},
   "source": [
    "---"
   ]
  },
  {
   "attachments": {},
   "cell_type": "markdown",
   "metadata": {},
   "source": [
    "## C3"
   ]
  },
  {
   "attachments": {},
   "cell_type": "markdown",
   "metadata": {},
   "source": [
    "$\n",
    "\\begin{aligned}\n",
    "&(5,4,3)\\text{-code}\n",
    "\\\\\n",
    "C_{3,[4\\times5]}&=\n",
    "\\begin{cases}\n",
    "00000&=\\text{N}\\\\\n",
    "01101&=\\text{W}\\\\\n",
    "10110&=\\text{E}\\\\\n",
    "11011&=\\text{S}\\\\\n",
    "\\end{cases}\n",
    "\\end{aligned}\n",
    "$\n",
    "\n",
    "$\n",
    "\\begin{aligned}\n",
    "q&=2\n",
    "\\\\\n",
    "Z_q&=\\{0,1\\}\n",
    "\\\\\n",
    "C_{3}\n",
    "&\\subseteq(F_2)^5\n",
    "\\\\\n",
    "n&=5\n",
    "\\\\\n",
    "M&=4\n",
    "\\\\\n",
    "d(C)&=3\n",
    "\\\\\n",
    "d(C)&\\ge3=(s=2)+1\n",
    "&&\\text{two-error detecting}\n",
    "\\\\\n",
    "d(C)&\\ge3=2(t=1)+1\n",
    "&&\\text{one-error correcting}\n",
    "\\end{aligned}\n",
    "$"
   ]
  },
  {
   "cell_type": "code",
   "execution_count": 148,
   "metadata": {},
   "outputs": [
    {
     "data": {
      "text/plain": [
       "{'00000', '01101', '10110', '11011'}"
      ]
     },
     "execution_count": 148,
     "metadata": {},
     "output_type": "execute_result"
    }
   ],
   "source": [
    "c3={'00000','01101','10110','11011'}\n",
    "c3"
   ]
  },
  {
   "cell_type": "code",
   "execution_count": 149,
   "metadata": {},
   "outputs": [
    {
     "data": {
      "text/plain": [
       "{'00000',\n",
       " '00001',\n",
       " '00010',\n",
       " '00011',\n",
       " '00100',\n",
       " '00101',\n",
       " '00110',\n",
       " '00111',\n",
       " '01000',\n",
       " '01001',\n",
       " '01010',\n",
       " '01011',\n",
       " '01100',\n",
       " '01101',\n",
       " '01110',\n",
       " '01111',\n",
       " '10000',\n",
       " '10001',\n",
       " '10010',\n",
       " '10011',\n",
       " '10100',\n",
       " '10101',\n",
       " '10110',\n",
       " '10111',\n",
       " '11000',\n",
       " '11001',\n",
       " '11010',\n",
       " '11011',\n",
       " '11100',\n",
       " '11101',\n",
       " '11110',\n",
       " '11111'}"
      ]
     },
     "execution_count": 149,
     "metadata": {},
     "output_type": "execute_result"
    }
   ],
   "source": [
    "q=2\n",
    "n=5\n",
    "f3=fqn(q,n)\n",
    "f3"
   ]
  },
  {
   "cell_type": "code",
   "execution_count": 150,
   "metadata": {},
   "outputs": [
    {
     "data": {
      "text/plain": [
       "True"
      ]
     },
     "execution_count": 150,
     "metadata": {},
     "output_type": "execute_result"
    }
   ],
   "source": [
    "c3.issubset(f3)"
   ]
  },
  {
   "cell_type": "code",
   "execution_count": 151,
   "metadata": {},
   "outputs": [
    {
     "name": "stdout",
     "output_type": "stream",
     "text": [
      "[[inf  3.  3.  4.]\n",
      " [ 3. inf  4.  3.]\n",
      " [ 3.  4. inf  3.]\n",
      " [ 4.  3.  3. inf]]\n"
     ]
    },
    {
     "data": {
      "text/plain": [
       "3"
      ]
     },
     "execution_count": 151,
     "metadata": {},
     "output_type": "execute_result"
    }
   ],
   "source": [
    "dC3=nbfmd(c3,True)\n",
    "dC3"
   ]
  },
  {
   "attachments": {},
   "cell_type": "markdown",
   "metadata": {},
   "source": [
    "Equivalent codes\n",
    "\n",
    "$\n",
    "\\begin{aligned}\n",
    "C=\n",
    "\\begin{cases}\n",
    "00100\\\\\n",
    "00011\\\\\n",
    "11111\\\\\n",
    "11000\\\\\n",
    "\\end{cases}\n",
    "\\,\\,\\,\\,\\,\n",
    "\\underset{p_3}{\n",
    "\\left(\n",
    "\\begin{matrix}\n",
    "0&1\\\\\n",
    "\\downarrow&\\downarrow\\\\\n",
    "1&0\\\\\n",
    "\\end{matrix}\n",
    "\\right)\n",
    "}\n",
    "\\,\\,\\,\\,\\,\n",
    "C=\n",
    "\\begin{cases}\n",
    "00000\\\\\n",
    "00111\\\\\n",
    "11011\\\\\n",
    "11100\\\\\n",
    "\\end{cases}\n",
    "\\,\\,\\,\\,\\,\n",
    "\\left(\n",
    "\\begin{matrix}\n",
    "p_2&p_4\\\\\n",
    "\\downarrow&\\downarrow\\\\\n",
    "p_4&p_2\\\\\n",
    "\\end{matrix}\n",
    "\\right)\n",
    "\\,\\,\\,\\,\\,\n",
    "C_3=\n",
    "\\begin{cases}\n",
    "00000\\\\\n",
    "01101\\\\\n",
    "11011\\\\\n",
    "10110\\\\\n",
    "\\end{cases}\n",
    "\\end{aligned}\n",
    "$"
   ]
  },
  {
   "attachments": {},
   "cell_type": "markdown",
   "metadata": {},
   "source": [
    "---"
   ]
  }
 ],
 "metadata": {
  "kernelspec": {
   "display_name": "main",
   "language": "python",
   "name": "python3"
  },
  "language_info": {
   "codemirror_mode": {
    "name": "ipython",
    "version": 3
   },
   "file_extension": ".py",
   "mimetype": "text/x-python",
   "name": "python",
   "nbconvert_exporter": "python",
   "pygments_lexer": "ipython3",
   "version": "3.10.8"
  },
  "orig_nbformat": 4
 },
 "nbformat": 4,
 "nbformat_minor": 2
}
