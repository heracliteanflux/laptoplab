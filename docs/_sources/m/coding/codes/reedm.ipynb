{
 "cells": [
  {
   "attachments": {},
   "cell_type": "markdown",
   "metadata": {},
   "source": [
    "# (32,64,16) Reed-Muller Code\n",
    "```{contents}\n",
    "```"
   ]
  },
  {
   "attachments": {},
   "cell_type": "markdown",
   "metadata": {},
   "source": [
    "---"
   ]
  },
  {
   "attachments": {},
   "cell_type": "markdown",
   "metadata": {},
   "source": [
    "## Programming Environment"
   ]
  },
  {
   "cell_type": "code",
   "execution_count": 55,
   "metadata": {
    "tags": [
     "hide-input"
    ]
   },
   "outputs": [
    {
     "name": "stdout",
     "output_type": "stream",
     "text": [
      "EXECUTED            : 2023-05-10 17:11:03.137444\n",
      "\n",
      "Platform            : 13.3.1 | Darwin | 22.4.0 | arm64\n",
      "                    : UTF-8\n",
      "\n",
      "Python              : 3.10.8 | packaged by conda-forge | (main, Nov 22 2022, 08:25:29) [Clang 14.0.6 ]\n",
      "                    : sys.version_info(major=3, minor=10, micro=8, releaselevel='final', serial=0)\n",
      "                    : CPython\n",
      "\n",
      "Matplotlib          : 3.6.3\n",
      "NumPy               : 1.24.1\n"
     ]
    }
   ],
   "source": [
    "import numpy  as np\n",
    "import pandas as pd\n",
    "\n",
    "import matplotlib        as mpl\n",
    "import matplotlib.pyplot as plt\n",
    "plt.style.use('ggplot');\n",
    "plt.rcParams.update({'text.usetex' : True});\n",
    "%matplotlib inline\n",
    "\n",
    "from   collections import defaultdict\n",
    "from   itertools   import combinations,product\n",
    "import itertools\n",
    "\n",
    "from typing import Set\n",
    "\n",
    "from IPython.display import display, Math\n",
    "\n",
    "from   datetime import datetime as d\n",
    "import locale                   as l\n",
    "import platform                 as p\n",
    "import sys                      as s\n",
    "\n",
    "pad = 20\n",
    "print(f\"{'Executed'.upper():<{pad}}: {d.now()}\")\n",
    "print()\n",
    "print(f\"{'Platform'   :<{pad}}: \"\n",
    "      f\"{p.mac_ver()[0]} | \"\n",
    "      f\"{p.system()} | \"\n",
    "      f\"{p.release()} | \"\n",
    "      f\"{p.machine()}\")\n",
    "print(f\"{''           :<{pad}}: {l.getpreferredencoding()}\")\n",
    "print()\n",
    "print(f\"{'Python'     :<{pad}}: {s.version}\")\n",
    "print(f\"{''           :<{pad}}: {s.version_info}\")\n",
    "print(f\"{''           :<{pad}}: {p.python_implementation()}\")\n",
    "print()\n",
    "print(f\"{'Matplotlib' :<{pad}}: {mpl.__version__}\")\n",
    "print(f\"{'NumPy'      :<{pad}}: {np .__version__}\")"
   ]
  },
  {
   "cell_type": "code",
   "execution_count": 4,
   "metadata": {
    "tags": [
     "hide-input"
    ]
   },
   "outputs": [],
   "source": [
    "def rc (q : int,\n",
    "        n : int) -> Set[str]:\n",
    "  \"\"\"Repetition Code\n",
    "  Generate a q-ary repetition block code of length n.\n",
    "  \"\"\"\n",
    "  S=set()\n",
    "  for i in range(q):\n",
    "    S.add(str(i)*n)\n",
    "  return S\n",
    "\n",
    "def fqn (q : int,\n",
    "         n : int,\n",
    "         g : int = 0) -> Set[str]:\n",
    "  \"\"\"Construct a linear space of dimension n over a finite field of order q.\n",
    "  \n",
    "  Parameters\n",
    "  ==========\n",
    "  g : If the space is very large, opt for the first g elements of a generator object.\n",
    "  \"\"\"\n",
    "  if bool(g):\n",
    "    f=itertools.product(range(q),repeat=n)\n",
    "    return set(''.join(str(i) for i in next(f)) for _ in range(g))\n",
    "  else:\n",
    "    return {''.join(str(bit) for bit in word) for word in itertools.product(range(q),repeat=n)}\n",
    "\n",
    "def qarycode_to_nbitstring (code={'3121','2101'},k=4):\n",
    "  \"\"\"Convert a q-ary code \"\"\"\n",
    "  for n in code:\n",
    "    print(' '.join(format(int(i),f'0{k}b') for i in n))\n",
    "\n",
    "def hd (a : str = '1001',\n",
    "        b : str = '0101') -> int:\n",
    "  \"\"\"HAMMING DISTANCE\n",
    "  \n",
    "  Parameters\n",
    "  ==========\n",
    "  x : str\n",
    "  y : str\n",
    "\n",
    "  Return\n",
    "  ======\n",
    "  int\n",
    "  \"\"\"\n",
    "  assert len(a) == len(b), 'x and y must have the same length'\n",
    "  return sum(x!=y for x,y in zip(a,b))\n",
    "\n",
    "def nbfmd (c  : Set[str],\n",
    "           pr : bool = False) -> np.float16:\n",
    "  \"\"\"NAIVE BRUTE FORCE MINIMUM DISTANCE d(C)\n",
    "\n",
    "  Computes the pairwise Hamming distance for all codewords and returns the minimum value.\n",
    "\n",
    "  This is a naive (i.e., non vectorized) implementation using nested for loops.\n",
    "  \n",
    "  Parameters\n",
    "  ==========\n",
    "  c  : code\n",
    "  pr : Print intermediate steps.\n",
    "\n",
    "  Returns\n",
    "  =======\n",
    "  d(C)\n",
    "  \"\"\"\n",
    "\n",
    "  # convert a set of string vectors to a 2D NumPy array of integers\n",
    "  c=np.array([list(codeword) for codeword in c],dtype=np.float16)\n",
    "\n",
    "  # intialize empty hamming distance matrix\n",
    "  hamming = np.empty([c.shape[0]]*2,dtype=np.float16)\n",
    "  for i,x in enumerate(c):\n",
    "    for j,y in enumerate(c):\n",
    "      hamming[i,j]=(x!=y).sum()\n",
    "  # the diagonal represents the Hamming distance of a codeword with itself, which is always 0.\n",
    "  np.fill_diagonal(hamming,np.inf)\n",
    "\n",
    "  if pr == True:\n",
    "    print(hamming)\n",
    "\n",
    "  return hamming.min().astype(np.int8)\n",
    "\n",
    "def one_error_detecting (q    : int,\n",
    "                         code : Set[str],\n",
    "                         p    : bool = False) -> bool:\n",
    "  \"\"\"Verify that a code is one-error detecting.\n",
    "  No one-bit error equals a codeword.\n",
    "  \"\"\"\n",
    "  flag=True\n",
    "  alphabet=set(str(i) for i in range(q))\n",
    "  for codeword in code:\n",
    "    if p:\n",
    "      print()\n",
    "      print(f\"{'orig cw : ':10}{codeword}\")\n",
    "    for i in range(len(codeword)):\n",
    "      a,b,c=codeword[:i],codeword[i],codeword[i+1:]\n",
    "      symbols=alphabet-set(codeword[i])\n",
    "      for symbol in symbols:\n",
    "        cw=codeword[:i]+symbol+codeword[i+1:] # SINGLE ERROR\n",
    "        if cw in code:\n",
    "          flag=False\n",
    "          if p:\n",
    "            print(f\"{'ERROR':10}{cw}\")\n",
    "        else:\n",
    "          if p:\n",
    "            print(f\"{'':10}{cw}\")\n",
    "  return flag\n",
    "\n",
    "# set(''.join(l for l in i) for i in itertools.product('10',repeat=3))\n",
    "# set(''.join(l for l in i) for i in itertools.combinations_with_replacement('012',r=3))\n",
    "# set(''.join(l for l in i) for i in itertools.combinations('01',r=2))"
   ]
  },
  {
   "attachments": {},
   "cell_type": "markdown",
   "metadata": {},
   "source": [
    "---"
   ]
  },
  {
   "attachments": {},
   "cell_type": "markdown",
   "metadata": {},
   "source": [
    "## Mariner 4"
   ]
  },
  {
   "attachments": {},
   "cell_type": "markdown",
   "metadata": {},
   "source": [
    "Mariner 4 was the first spaceship to photograph another planet, taking 22 complete photographs of Mars in 1965.\n",
    "\n",
    "Each picture consisted of 40,000 = 200 x 200 pixels.\n",
    "\n",
    "Each pixel was assigned a binary 6-tuple representing one of 64 brightness levels, from white (000000) to black (111111).\n",
    "\n",
    "No code was used for error-correction, so a brightness level was encoded as itself, a 6-bit codeword, with 0 redundant bits.\n",
    "\n",
    "Therefore, the total number of bits per picture was 240K.\n",
    "\n",
    "The transmission rate was 8 and 1/3 bits per second.\n",
    "\n",
    "Therefore, it took about 8 hours to transmit a single picture."
   ]
  },
  {
   "attachments": {},
   "cell_type": "markdown",
   "metadata": {},
   "source": [
    "$\n",
    "\\begin{aligned}\n",
    "&(6,64,1)\\text{-code}\n",
    "\\\\\n",
    "C_{[64\\times6]}&=\n",
    "\\begin{cases}\n",
    "\\end{cases}\n",
    "\\end{aligned}\n",
    "$\n",
    "\n",
    "$\n",
    "\\begin{aligned}\n",
    "q&=2\n",
    "\\\\\n",
    "Z_q&=\\{0,1\\}\n",
    "\\\\\n",
    "C_{[64\\times6]}\n",
    "&\\subseteq(F_2)^{6}\n",
    "\\\\\n",
    "n&=6\n",
    "\\\\\n",
    "M&=64\n",
    "\\\\\n",
    "d(C)&=1\n",
    "\\\\\n",
    "d(C)&\\ge1=(s=0)+1\n",
    "&&\\text{zero-error detecting}\n",
    "\\\\\n",
    "d(C)&\\ge1=2(t=0)+1\n",
    "&&\\text{zero-error correcting}\n",
    "\\end{aligned}\n",
    "$"
   ]
  },
  {
   "cell_type": "code",
   "execution_count": 52,
   "metadata": {},
   "outputs": [
    {
     "name": "stdout",
     "output_type": "stream",
     "text": [
      "Pixels          =   40,000         \n",
      "x better        =   1.0            \n",
      "Bits per photo  =   240,000        picture size\n",
      "Bits per second =   8.33           transmission rate\n",
      "Hours           =   8.00           time to transmit 1 picture\n"
     ]
    }
   ],
   "source": [
    "nrows =2e2\n",
    "ncols =2e2\n",
    "pixels=nrows*ncols\n",
    "\n",
    "bits_per_pixel=6\n",
    "bits_per_photo=bits_per_pixel*pixels\n",
    "\n",
    "transmission_rate=8+(1/3)\n",
    "\n",
    "print(f\"{'Pixels          = ':20}{int(pixels):<15,}\")\n",
    "print(f\"{'x better        = ':20}{pixels/40e3:<15,}\")\n",
    "print(f\"{'Bits per photo  = ':20}{int(bits_per_photo):<15,}{'picture size'}\")\n",
    "print(f\"{'Bits per second = ':20}{transmission_rate:<15,.2f}{'transmission rate'}\")\n",
    "print(f\"{'Hours           = ':20}{bits_per_photo/transmission_rate/3600:<15,.2f}{'time to transmit 1 picture'}\")"
   ]
  },
  {
   "cell_type": "code",
   "execution_count": null,
   "metadata": {},
   "outputs": [
    {
     "name": "stdout",
     "output_type": "stream",
     "text": [
      "64\n"
     ]
    },
    {
     "data": {
      "text/plain": [
       "{'000000',\n",
       " '000001',\n",
       " '000010',\n",
       " '000011',\n",
       " '000100',\n",
       " '000101',\n",
       " '000110',\n",
       " '000111',\n",
       " '001000',\n",
       " '001001',\n",
       " '001010',\n",
       " '001011',\n",
       " '001100',\n",
       " '001101',\n",
       " '001110',\n",
       " '001111',\n",
       " '010000',\n",
       " '010001',\n",
       " '010010',\n",
       " '010011',\n",
       " '010100',\n",
       " '010101',\n",
       " '010110',\n",
       " '010111',\n",
       " '011000',\n",
       " '011001',\n",
       " '011010',\n",
       " '011011',\n",
       " '011100',\n",
       " '011101',\n",
       " '011110',\n",
       " '011111',\n",
       " '100000',\n",
       " '100001',\n",
       " '100010',\n",
       " '100011',\n",
       " '100100',\n",
       " '100101',\n",
       " '100110',\n",
       " '100111',\n",
       " '101000',\n",
       " '101001',\n",
       " '101010',\n",
       " '101011',\n",
       " '101100',\n",
       " '101101',\n",
       " '101110',\n",
       " '101111',\n",
       " '110000',\n",
       " '110001',\n",
       " '110010',\n",
       " '110011',\n",
       " '110100',\n",
       " '110101',\n",
       " '110110',\n",
       " '110111',\n",
       " '111000',\n",
       " '111001',\n",
       " '111010',\n",
       " '111011',\n",
       " '111100',\n",
       " '111101',\n",
       " '111110',\n",
       " '111111'}"
      ]
     },
     "metadata": {},
     "output_type": "display_data"
    }
   ],
   "source": [
    "q=2\n",
    "n=6\n",
    "print(f\"{q**n:,}\")\n",
    "f=fqn(q,n)\n",
    "f"
   ]
  },
  {
   "attachments": {},
   "cell_type": "markdown",
   "metadata": {},
   "source": [
    "---"
   ]
  },
  {
   "attachments": {},
   "cell_type": "markdown",
   "metadata": {},
   "source": [
    "## Mariner 6,7,9"
   ]
  },
  {
   "attachments": {},
   "cell_type": "markdown",
   "metadata": {},
   "source": [
    "Mariner 9 was the first spaceship to be put into orbit around Mars.\n",
    "\n",
    "Each picture consisted of 582,400 = 700 x 832 pixels, a 15x improvement over Mariner 4.\n",
    "\n",
    "Each pixel was assigned a binary 6-tuple representing one of 64 brightness levels, from white (000000) to black (111111).\n",
    "\n",
    "The Reed-Muller code was used for error-correction, and so a brightness level was encoded as a 32-bit codeword with 26 redundant bits.\n",
    "\n",
    "It is well suited to very noisy channels, and has a fast decoding algorithm.\n",
    "\n",
    "The transmission rate was 16,200 bits per second."
   ]
  },
  {
   "cell_type": "code",
   "execution_count": 51,
   "metadata": {},
   "outputs": [
    {
     "name": "stdout",
     "output_type": "stream",
     "text": [
      "Pixels          =   582,400        \n",
      "x better        =   14.56          \n",
      "Bits per photo  =   18,636,800     picture size\n",
      "Bits per second =   16,200.00      transmission rate\n",
      "Hours           =   0.32           time to transmit 1 picture\n"
     ]
    }
   ],
   "source": [
    "nrows =700\n",
    "ncols =832\n",
    "pixels=nrows*ncols\n",
    "\n",
    "bits_per_pixel=32\n",
    "bits_per_photo=bits_per_pixel*pixels\n",
    "\n",
    "transmission_rate=1.62e4\n",
    "\n",
    "print(f\"{'Pixels          = ':20}{int(pixels):<15,}\")\n",
    "print(f\"{'x better        = ':20}{pixels/40e3:<15,}\")\n",
    "print(f\"{'Bits per photo  = ':20}{int(bits_per_photo):<15,}{'picture size'}\")\n",
    "print(f\"{'Bits per second = ':20}{transmission_rate:<15,.2f}{'transmission rate'}\")\n",
    "print(f\"{'Hours           = ':20}{bits_per_photo/transmission_rate/3600:<15,.2f}{'time to transmit 1 picture'}\")"
   ]
  },
  {
   "attachments": {},
   "cell_type": "markdown",
   "metadata": {},
   "source": [
    "$\n",
    "\\begin{aligned}\n",
    "&(32,64,16)\\text{-code}\n",
    "\\\\\n",
    "C_{[64\\times32]}&=\n",
    "\\begin{cases}\n",
    "\\end{cases}\n",
    "\\end{aligned}\n",
    "$\n",
    "\n",
    "$\n",
    "\\begin{aligned}\n",
    "q&=2\n",
    "\\\\\n",
    "Z_q&=\\{0,1\\}\n",
    "\\\\\n",
    "C_{[64\\times32]}\n",
    "&\\subseteq(F_2)^{32}\n",
    "\\\\\n",
    "n&=32\n",
    "\\\\\n",
    "M&=64\n",
    "\\\\\n",
    "d(C)&=16\n",
    "\\\\\n",
    "d(C)&\\ge16=(s=15)+1\n",
    "&&\\text{15-error detecting}\n",
    "\\\\\n",
    "d(C)&\\ge16=2(t=7.5)+1\n",
    "&&\\text{7-error correcting}\n",
    "\\end{aligned}\n",
    "$"
   ]
  },
  {
   "cell_type": "code",
   "execution_count": 54,
   "metadata": {},
   "outputs": [
    {
     "name": "stdout",
     "output_type": "stream",
     "text": [
      "4,294,967,296\n"
     ]
    },
    {
     "data": {
      "text/plain": [
       "{'00000000000000000000000000000000',\n",
       " '00000000000000000000000000000001',\n",
       " '00000000000000000000000000000010',\n",
       " '00000000000000000000000000000011',\n",
       " '00000000000000000000000000000100',\n",
       " '00000000000000000000000000000101',\n",
       " '00000000000000000000000000000110',\n",
       " '00000000000000000000000000000111',\n",
       " '00000000000000000000000000001000',\n",
       " '00000000000000000000000000001001',\n",
       " '00000000000000000000000000001010',\n",
       " '00000000000000000000000000001011',\n",
       " '00000000000000000000000000001100',\n",
       " '00000000000000000000000000001101',\n",
       " '00000000000000000000000000001110',\n",
       " '00000000000000000000000000001111',\n",
       " '00000000000000000000000000010000',\n",
       " '00000000000000000000000000010001',\n",
       " '00000000000000000000000000010010',\n",
       " '00000000000000000000000000010011',\n",
       " '00000000000000000000000000010100',\n",
       " '00000000000000000000000000010101',\n",
       " '00000000000000000000000000010110',\n",
       " '00000000000000000000000000010111',\n",
       " '00000000000000000000000000011000',\n",
       " '00000000000000000000000000011001',\n",
       " '00000000000000000000000000011010',\n",
       " '00000000000000000000000000011011',\n",
       " '00000000000000000000000000011100',\n",
       " '00000000000000000000000000011101',\n",
       " '00000000000000000000000000011110',\n",
       " '00000000000000000000000000011111',\n",
       " '00000000000000000000000000100000',\n",
       " '00000000000000000000000000100001',\n",
       " '00000000000000000000000000100010',\n",
       " '00000000000000000000000000100011',\n",
       " '00000000000000000000000000100100',\n",
       " '00000000000000000000000000100101',\n",
       " '00000000000000000000000000100110',\n",
       " '00000000000000000000000000100111',\n",
       " '00000000000000000000000000101000',\n",
       " '00000000000000000000000000101001',\n",
       " '00000000000000000000000000101010',\n",
       " '00000000000000000000000000101011',\n",
       " '00000000000000000000000000101100',\n",
       " '00000000000000000000000000101101',\n",
       " '00000000000000000000000000101110',\n",
       " '00000000000000000000000000101111',\n",
       " '00000000000000000000000000110000',\n",
       " '00000000000000000000000000110001',\n",
       " '00000000000000000000000000110010',\n",
       " '00000000000000000000000000110011',\n",
       " '00000000000000000000000000110100',\n",
       " '00000000000000000000000000110101',\n",
       " '00000000000000000000000000110110',\n",
       " '00000000000000000000000000110111',\n",
       " '00000000000000000000000000111000',\n",
       " '00000000000000000000000000111001',\n",
       " '00000000000000000000000000111010',\n",
       " '00000000000000000000000000111011',\n",
       " '00000000000000000000000000111100',\n",
       " '00000000000000000000000000111101',\n",
       " '00000000000000000000000000111110',\n",
       " '00000000000000000000000000111111'}"
      ]
     },
     "execution_count": 54,
     "metadata": {},
     "output_type": "execute_result"
    }
   ],
   "source": [
    "q=2\n",
    "n=32\n",
    "print(f\"{q**n:,}\")\n",
    "f=fqn(q,n,g=64)\n",
    "f"
   ]
  },
  {
   "attachments": {},
   "cell_type": "markdown",
   "metadata": {},
   "source": [
    "---"
   ]
  }
 ],
 "metadata": {
  "kernelspec": {
   "display_name": "main",
   "language": "python",
   "name": "python3"
  },
  "language_info": {
   "codemirror_mode": {
    "name": "ipython",
    "version": 3
   },
   "file_extension": ".py",
   "mimetype": "text/x-python",
   "name": "python",
   "nbconvert_exporter": "python",
   "pygments_lexer": "ipython3",
   "version": "3.10.8"
  },
  "orig_nbformat": 4
 },
 "nbformat": 4,
 "nbformat_minor": 2
}
