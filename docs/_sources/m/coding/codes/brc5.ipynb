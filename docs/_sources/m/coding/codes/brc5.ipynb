{
 "cells": [
  {
   "attachments": {},
   "cell_type": "markdown",
   "metadata": {},
   "source": [
    "# BRC5\n",
    "Binary Repetition Code of length 5\n",
    "```{contents}\n",
    "```"
   ]
  },
  {
   "attachments": {},
   "cell_type": "markdown",
   "metadata": {},
   "source": [
    "---"
   ]
  },
  {
   "attachments": {},
   "cell_type": "markdown",
   "metadata": {},
   "source": [
    "## Programming Environment"
   ]
  },
  {
   "cell_type": "code",
   "execution_count": 25,
   "metadata": {
    "tags": [
     "hide-input"
    ]
   },
   "outputs": [
    {
     "name": "stdout",
     "output_type": "stream",
     "text": [
      "EXECUTED            : 2023-05-10 17:11:17.536388\n",
      "\n",
      "Platform            : 13.3.1 | Darwin | 22.4.0 | arm64\n",
      "                    : UTF-8\n",
      "\n",
      "Python              : 3.10.8 | packaged by conda-forge | (main, Nov 22 2022, 08:25:29) [Clang 14.0.6 ]\n",
      "                    : sys.version_info(major=3, minor=10, micro=8, releaselevel='final', serial=0)\n",
      "                    : CPython\n",
      "\n",
      "Matplotlib          : 3.6.3\n",
      "NumPy               : 1.24.1\n"
     ]
    }
   ],
   "source": [
    "import numpy  as np\n",
    "import pandas as pd\n",
    "\n",
    "import matplotlib        as mpl\n",
    "import matplotlib.pyplot as plt\n",
    "plt.style.use('ggplot');\n",
    "plt.rcParams.update({'text.usetex' : True});\n",
    "%matplotlib inline\n",
    "\n",
    "from   collections import defaultdict\n",
    "from   itertools   import combinations,product\n",
    "import itertools\n",
    "\n",
    "from typing import Set\n",
    "\n",
    "from IPython.display import display, Math\n",
    "\n",
    "from   datetime import datetime as d\n",
    "import locale                   as l\n",
    "import platform                 as p\n",
    "import sys                      as s\n",
    "\n",
    "pad = 20\n",
    "print(f\"{'Executed'.upper():<{pad}}: {d.now()}\")\n",
    "print()\n",
    "print(f\"{'Platform'   :<{pad}}: \"\n",
    "      f\"{p.mac_ver()[0]} | \"\n",
    "      f\"{p.system()} | \"\n",
    "      f\"{p.release()} | \"\n",
    "      f\"{p.machine()}\")\n",
    "print(f\"{''           :<{pad}}: {l.getpreferredencoding()}\")\n",
    "print()\n",
    "print(f\"{'Python'     :<{pad}}: {s.version}\")\n",
    "print(f\"{''           :<{pad}}: {s.version_info}\")\n",
    "print(f\"{''           :<{pad}}: {p.python_implementation()}\")\n",
    "print()\n",
    "print(f\"{'Matplotlib' :<{pad}}: {mpl.__version__}\")\n",
    "print(f\"{'NumPy'      :<{pad}}: {np .__version__}\")"
   ]
  },
  {
   "cell_type": "code",
   "execution_count": 24,
   "metadata": {
    "tags": [
     "hide-input"
    ]
   },
   "outputs": [],
   "source": [
    "def rc (q : int,\n",
    "        n : int) -> Set[str]:\n",
    "  \"\"\"Repetition Code\n",
    "  Generate a q-ary repetition block code of length n.\n",
    "  \"\"\"\n",
    "  S=set()\n",
    "  for i in range(q):\n",
    "    S.add(str(i)*n)\n",
    "  return S\n",
    "\n",
    "def fqn (q : int,\n",
    "         n : int,\n",
    "         g : int = 0) -> Set[str]:\n",
    "  \"\"\"Construct a linear space of dimension n over a finite field of order q.\n",
    "  \n",
    "  Parameters\n",
    "  ==========\n",
    "  g : If the space is very large, opt for the first g elements of a generator object.\n",
    "  \"\"\"\n",
    "  if bool(g):\n",
    "    f=itertools.product(range(q),repeat=n)\n",
    "    return set(''.join(str(i) for i in next(f)) for _ in range(g))\n",
    "  else:\n",
    "    return {''.join(str(bit) for bit in word) for word in itertools.product(range(q),repeat=n)}\n",
    "\n",
    "def qarycode_to_nbitstring (code={'3121','2101'},k=4):\n",
    "  \"\"\"Convert a q-ary code \"\"\"\n",
    "  for n in code:\n",
    "    print(' '.join(format(int(i),f'0{k}b') for i in n))\n",
    "\n",
    "def hd (a : str = '1001',\n",
    "        b : str = '0101') -> int:\n",
    "  \"\"\"HAMMING DISTANCE\n",
    "  \n",
    "  Parameters\n",
    "  ==========\n",
    "  x : str\n",
    "  y : str\n",
    "\n",
    "  Return\n",
    "  ======\n",
    "  int\n",
    "  \"\"\"\n",
    "  assert len(a) == len(b), 'x and y must have the same length'\n",
    "  return sum(x!=y for x,y in zip(a,b))\n",
    "\n",
    "def nbfmd (c  : Set[str],\n",
    "           pr : bool = False) -> np.float16:\n",
    "  \"\"\"NAIVE BRUTE FORCE MINIMUM DISTANCE d(C)\n",
    "\n",
    "  Computes the pairwise Hamming distance for all codewords and returns the minimum value.\n",
    "\n",
    "  This is a naive (i.e., non vectorized) implementation using nested for loops.\n",
    "  \n",
    "  Parameters\n",
    "  ==========\n",
    "  c  : code\n",
    "  pr : Print intermediate steps.\n",
    "\n",
    "  Returns\n",
    "  =======\n",
    "  d(C)\n",
    "  \"\"\"\n",
    "\n",
    "  # convert a set of string vectors to a 2D NumPy array of integers\n",
    "  c=np.array([list(codeword) for codeword in c],dtype=np.float16)\n",
    "\n",
    "  # intialize empty hamming distance matrix\n",
    "  hamming = np.empty([c.shape[0]]*2,dtype=np.float16)\n",
    "  for i,x in enumerate(c):\n",
    "    for j,y in enumerate(c):\n",
    "      hamming[i,j]=(x!=y).sum()\n",
    "  # the diagonal represents the Hamming distance of a codeword with itself, which is always 0.\n",
    "  np.fill_diagonal(hamming,np.inf)\n",
    "\n",
    "  if pr == True:\n",
    "    print(hamming)\n",
    "\n",
    "  return hamming.min().astype(np.int8)\n",
    "\n",
    "def one_error_detecting (q    : int,\n",
    "                         code : Set[str],\n",
    "                         p    : bool = False) -> bool:\n",
    "  \"\"\"Verify that a code is one-error detecting.\n",
    "  No one-bit error equals a codeword.\n",
    "  \"\"\"\n",
    "  flag=True\n",
    "  alphabet=set(str(i) for i in range(q))\n",
    "  for codeword in code:\n",
    "    if p:\n",
    "      print()\n",
    "      print(f\"{'orig cw : ':10}{codeword}\")\n",
    "    for i in range(len(codeword)):\n",
    "      a,b,c=codeword[:i],codeword[i],codeword[i+1:]\n",
    "      symbols=alphabet-set(codeword[i])\n",
    "      for symbol in symbols:\n",
    "        cw=codeword[:i]+symbol+codeword[i+1:] # SINGLE ERROR\n",
    "        if cw in code:\n",
    "          flag=False\n",
    "          if p:\n",
    "            print(f\"{'ERROR':10}{cw}\")\n",
    "        else:\n",
    "          if p:\n",
    "            print(f\"{'':10}{cw}\")\n",
    "  return flag\n",
    "\n",
    "# set(''.join(l for l in i) for i in itertools.product('10',repeat=3))\n",
    "# set(''.join(l for l in i) for i in itertools.combinations_with_replacement('012',r=3))\n",
    "# set(''.join(l for l in i) for i in itertools.combinations('01',r=2))"
   ]
  },
  {
   "attachments": {},
   "cell_type": "markdown",
   "metadata": {},
   "source": [
    "---"
   ]
  },
  {
   "attachments": {},
   "cell_type": "markdown",
   "metadata": {},
   "source": [
    "## Binary Repetition Code of length $5$"
   ]
  },
  {
   "attachments": {},
   "cell_type": "markdown",
   "metadata": {},
   "source": [
    "$\n",
    "\\begin{aligned}\n",
    "&(5,2,5)\\text{-code}\n",
    "\\\\\n",
    "C_{[2\\times5]}&=\n",
    "\\begin{cases}\n",
    "00000\\\\11111\\\\\n",
    "\\end{cases}\n",
    "\\end{aligned}\n",
    "$\n",
    "\n",
    "$\n",
    "\\begin{aligned}\n",
    "q&=2\n",
    "\\\\\n",
    "Z_q&=\\{0,1\\}\n",
    "\\\\\n",
    "C_{[2\\times5]}\n",
    "&\\subseteq(F_2)^5\n",
    "\\\\\n",
    "n&=5\n",
    "\\\\\n",
    "M&=2\n",
    "\\\\\n",
    "d(C)&=5\n",
    "\\\\\n",
    "d(C)&\\ge5=(s=4)+1\n",
    "&&\\text{four-error detecting}\n",
    "\\\\\n",
    "d(C)&\\ge5=2(t=2)+1\n",
    "&&\\text{two-error correcting}\n",
    "\\end{aligned}\n",
    "$"
   ]
  },
  {
   "cell_type": "code",
   "execution_count": 16,
   "metadata": {},
   "outputs": [
    {
     "data": {
      "text/plain": [
       "{'00000', '11111'}"
      ]
     },
     "execution_count": 16,
     "metadata": {},
     "output_type": "execute_result"
    }
   ],
   "source": [
    "q=2\n",
    "n=5\n",
    "code=rc(q,n)\n",
    "code"
   ]
  },
  {
   "cell_type": "code",
   "execution_count": 17,
   "metadata": {},
   "outputs": [
    {
     "data": {
      "text/plain": [
       "{'00000',\n",
       " '00001',\n",
       " '00010',\n",
       " '00011',\n",
       " '00100',\n",
       " '00101',\n",
       " '00110',\n",
       " '00111',\n",
       " '01000',\n",
       " '01001',\n",
       " '01010',\n",
       " '01011',\n",
       " '01100',\n",
       " '01101',\n",
       " '01110',\n",
       " '01111',\n",
       " '10000',\n",
       " '10001',\n",
       " '10010',\n",
       " '10011',\n",
       " '10100',\n",
       " '10101',\n",
       " '10110',\n",
       " '10111',\n",
       " '11000',\n",
       " '11001',\n",
       " '11010',\n",
       " '11011',\n",
       " '11100',\n",
       " '11101',\n",
       " '11110',\n",
       " '11111'}"
      ]
     },
     "execution_count": 17,
     "metadata": {},
     "output_type": "execute_result"
    }
   ],
   "source": [
    "f=fqn(2,5)\n",
    "f"
   ]
  },
  {
   "cell_type": "code",
   "execution_count": 18,
   "metadata": {},
   "outputs": [
    {
     "data": {
      "text/plain": [
       "5"
      ]
     },
     "execution_count": 18,
     "metadata": {},
     "output_type": "execute_result"
    }
   ],
   "source": [
    "hd(*code)"
   ]
  },
  {
   "cell_type": "code",
   "execution_count": 19,
   "metadata": {},
   "outputs": [
    {
     "data": {
      "text/plain": [
       "True"
      ]
     },
     "execution_count": 19,
     "metadata": {},
     "output_type": "execute_result"
    }
   ],
   "source": [
    "code.issubset(f)"
   ]
  },
  {
   "cell_type": "code",
   "execution_count": 22,
   "metadata": {},
   "outputs": [
    {
     "name": "stdout",
     "output_type": "stream",
     "text": [
      "[[inf  5.]\n",
      " [ 5. inf]]\n"
     ]
    },
    {
     "data": {
      "text/plain": [
       "5"
      ]
     },
     "execution_count": 22,
     "metadata": {},
     "output_type": "execute_result"
    }
   ],
   "source": [
    "dC=nbfmd(code,True)\n",
    "dC"
   ]
  },
  {
   "attachments": {},
   "cell_type": "markdown",
   "metadata": {},
   "source": [
    "---"
   ]
  },
  {
   "attachments": {},
   "cell_type": "markdown",
   "metadata": {},
   "source": [
    "Suppose codeword $\\mathbf{x}=00000$ is transmitted.\n",
    "\n",
    "Under nearest neighbors decoding, the vectors that will be decoded as the codeword\n",
    "\n",
    "$\\mathbf{x'}=00000$\n",
    "\n",
    "are\n",
    "\n",
    "$\n",
    "\\underbrace{\n",
    "00000\n",
    "}_{0},\n",
    "\\underbrace{\n",
    "10000,\n",
    "01000,\n",
    "00100,\n",
    "00010,\n",
    "00001\n",
    "}_{1},\n",
    "\\underbrace{\n",
    "11000,\n",
    "10100,\n",
    "10010,\n",
    "10001,\n",
    "01100,\n",
    "01010,\n",
    "01001,\n",
    "00110,\n",
    "00101,\n",
    "00011\n",
    "}_{2}\n",
    "$\n",
    "\n",
    "Under the assumption of a binary symmetric channel the probability that the received vector $\\mathbf{y}$ is decoded as the transmitted codeword $00000$ is\n",
    "\n",
    "$\n",
    "\\begin{aligned}\n",
    "&P_\\text{correct}\n",
    "\\\\\n",
    "&=P[\\text{0 errors occurred}]+P[\\text{1 error occurred}]+P[\\text{2 errors occurred}]\n",
    "\\\\\n",
    "&=(1-p)^5+5p(1-p)^4+10p^2(1-p)^3\n",
    "\\\\\n",
    "&=(1-p)(1-p)^2((1-p)^2+5p(1-p)+10p^2)\n",
    "\\\\\n",
    "&=(1-p)(1-2p+p^2)(1-2p+p^2+5p-5p^2+10p^2)\n",
    "\\\\\n",
    "&=(1-2p+p^2-p+2p^2-p^3)(1+3p+6p^2)\n",
    "\\\\\n",
    "&=(1-3p+3p^2-p^3)(1+3p+6p^2)\n",
    "\\\\\n",
    "&=1+3p+6p^2-3p-9p^2-18p^3+3p^2+9p^3+18p^4-p^3-3p^4-6p^5\n",
    "\\\\\n",
    "&=1-10p^3+15p^4-6p^5\n",
    "\\end{aligned}\n",
    "$\n",
    "\n",
    "This probability is the same when we assume that the transmitted codeword is\n",
    "\n",
    "$\\mathbf{x'}=11111$\n",
    "\n",
    "$\n",
    "\\underbrace{\n",
    "11111\n",
    "}_{0},\n",
    "\\underbrace{\n",
    "01111,\n",
    "10111,\n",
    "11011,\n",
    "11101,\n",
    "11110\n",
    "}_{1},\n",
    "\\underbrace{\n",
    "00111,\n",
    "01011,\n",
    "01101,\n",
    "01110,\n",
    "10011,\n",
    "10101,\n",
    "10110,\n",
    "11001,\n",
    "11010,\n",
    "11100\n",
    "}_{2}\n",
    "$\n",
    "\n",
    "Therefore, the code $C$ has a word error probability $P_{err}(C)$ that is independent of the codeword transmitted.\n",
    "\n",
    "$\n",
    "\\begin{aligned}\n",
    "&P_{err}(C)\n",
    "\\\\\n",
    "&=1-P_\\text{correct}\n",
    "\\\\\n",
    "&=1-(1-10p^3+15p^4-6p^5)\n",
    "\\\\\n",
    "&=10p^3-15p^4+6p^5\n",
    "\\end{aligned}\n",
    "$\n",
    "\n",
    "Let's say that, on average, the channel causes one symbol in a hundred to be received in error\n",
    "\n",
    "$p=0.01$"
   ]
  },
  {
   "cell_type": "code",
   "execution_count": 11,
   "metadata": {},
   "outputs": [
    {
     "name": "stdout",
     "output_type": "stream",
     "text": [
      "symbol error p = 0.01\n",
      "(1 - p)        = 0.99\n",
      "word   error   = 0.000009850600\n",
      "P[0 errors]    = 0.950990049900\n",
      "P[1 errors]    = 0.009605960100\n",
      "P[2 errors]    = 0.000097029900\n",
      "P[3 errors]    = 0.000000980100\n",
      "P[4 errors]    = 0.000000009900\n",
      "P[5 errors]    = 0.000000000100\n"
     ]
    }
   ],
   "source": [
    "p   =0.01\n",
    "Perr=10*p**3 - 15*p**4 + 6*p**5\n",
    "\n",
    "print(f\"{'symbol error p = ':15}{p}\")\n",
    "print(f\"{'(1 - p)        = ':15}{1-p}\")\n",
    "print(f\"{'word   error   = ':15}{Perr:.12f}\")\n",
    "for k in range(0,n+1):\n",
    "  k_error_probability=p**k * (1-p)**(n-k)\n",
    "  print(f\"{'P['}{k}{' errors]    = '}{k_error_probability:.12f}\")"
   ]
  },
  {
   "attachments": {},
   "cell_type": "markdown",
   "metadata": {},
   "source": [
    "---"
   ]
  }
 ],
 "metadata": {
  "kernelspec": {
   "display_name": "main",
   "language": "python",
   "name": "python3"
  },
  "language_info": {
   "codemirror_mode": {
    "name": "ipython",
    "version": 3
   },
   "file_extension": ".py",
   "mimetype": "text/x-python",
   "name": "python",
   "nbconvert_exporter": "python",
   "pygments_lexer": "ipython3",
   "version": "3.10.8"
  },
  "orig_nbformat": 4
 },
 "nbformat": 4,
 "nbformat_minor": 2
}
