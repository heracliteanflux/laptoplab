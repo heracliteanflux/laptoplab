{
 "cells": [
  {
   "attachments": {},
   "cell_type": "markdown",
   "metadata": {},
   "source": [
    "# Exercises\n",
    "`FCCT` `1990` Hill, Raymond. _A First Course in Coding Theory_. Clarendon Press: Oxford Applied Mathematics and Computing Science Series.\n",
    "```{contents}\n",
    "```"
   ]
  },
  {
   "attachments": {},
   "cell_type": "markdown",
   "metadata": {},
   "source": [
    "---"
   ]
  },
  {
   "attachments": {},
   "cell_type": "markdown",
   "metadata": {},
   "source": [
    "## Programming Environment"
   ]
  },
  {
   "cell_type": "code",
   "execution_count": 2,
   "metadata": {
    "tags": [
     "hide-input"
    ]
   },
   "outputs": [
    {
     "name": "stdout",
     "output_type": "stream",
     "text": [
      "EXECUTED            : 2023-05-11 11:53:34.006494\n",
      "\n",
      "Platform            : 13.3.1 | Darwin | 22.4.0 | arm64\n",
      "                    : UTF-8\n",
      "\n",
      "Python              : 3.10.8 | packaged by conda-forge | (main, Nov 22 2022, 08:25:29) [Clang 14.0.6 ]\n",
      "                    : sys.version_info(major=3, minor=10, micro=8, releaselevel='final', serial=0)\n",
      "                    : CPython\n",
      "\n",
      "Matplotlib          : 3.6.3\n",
      "NumPy               : 1.24.1\n"
     ]
    }
   ],
   "source": [
    "# %load imports.py\n",
    "import numpy  as np\n",
    "import pandas as pd\n",
    "\n",
    "import matplotlib        as mpl\n",
    "from   matplotlib.patches import Rectangle\n",
    "import matplotlib.pyplot as plt\n",
    "plt.style.use('ggplot');\n",
    "plt.rcParams.update({'text.usetex' : True});\n",
    "%matplotlib inline\n",
    "\n",
    "from   collections import defaultdict\n",
    "from   itertools   import combinations,product\n",
    "import itertools\n",
    "\n",
    "from typing import Set\n",
    "\n",
    "from IPython.display import display, Math\n",
    "\n",
    "from   datetime import datetime as d\n",
    "import locale                   as l\n",
    "import platform                 as p\n",
    "import sys                      as s\n",
    "\n",
    "pad = 20\n",
    "print(f\"{'Executed'.upper():<{pad}}: {d.now()}\")\n",
    "print()\n",
    "print(f\"{'Platform'   :<{pad}}: \"\n",
    "      f\"{p.mac_ver()[0]} | \"\n",
    "      f\"{p.system()} | \"\n",
    "      f\"{p.release()} | \"\n",
    "      f\"{p.machine()}\")\n",
    "print(f\"{''           :<{pad}}: {l.getpreferredencoding()}\")\n",
    "print()\n",
    "print(f\"{'Python'     :<{pad}}: {s.version}\")\n",
    "print(f\"{''           :<{pad}}: {s.version_info}\")\n",
    "print(f\"{''           :<{pad}}: {p.python_implementation()}\")\n",
    "print()\n",
    "print(f\"{'Matplotlib' :<{pad}}: {mpl.__version__}\")\n",
    "print(f\"{'NumPy'      :<{pad}}: {np .__version__}\")\n",
    "\n",
    "#==================================================\n",
    "\n",
    "def rc (q : int,\n",
    "        n : int) -> Set[str]:\n",
    "  \"\"\"Repetition Code\n",
    "  Generate a q-ary repetition block code of length n.\n",
    "  \"\"\"\n",
    "  S=set()\n",
    "  for i in range(q):\n",
    "    S.add(str(i)*n)\n",
    "  return S\n",
    "\n",
    "def fqn (q : int,\n",
    "         n : int,\n",
    "         g : int = 0) -> Set[str]:\n",
    "  \"\"\"Construct a linear space of dimension n over a finite field of order q.\n",
    "  \n",
    "  Parameters\n",
    "  ==========\n",
    "  g : If the space is very large, opt for the first g elements of a generator object.\n",
    "  \"\"\"\n",
    "  if bool(g):\n",
    "    f=itertools.product(range(q),repeat=n)\n",
    "    return set(''.join(str(i) for i in next(f)) for _ in range(g))\n",
    "  else:\n",
    "    return {''.join(str(bit) for bit in word) for word in itertools.product(range(q),repeat=n)}\n",
    "\n",
    "def qarycode_to_nbitstring (code={'3121','2101'},k=4):\n",
    "  \"\"\"Convert a q-ary code \"\"\"\n",
    "  for n in code:\n",
    "    print(' '.join(format(int(i),f'0{k}b') for i in n))\n",
    "\n",
    "def hd (a : str = '1001',\n",
    "        b : str = '0101') -> int:\n",
    "  \"\"\"HAMMING DISTANCE\n",
    "  \n",
    "  Parameters\n",
    "  ==========\n",
    "  x : str\n",
    "  y : str\n",
    "\n",
    "  Return\n",
    "  ======\n",
    "  int\n",
    "  \"\"\"\n",
    "  assert len(a) == len(b), 'x and y must have the same length'\n",
    "  return sum(x!=y for x,y in zip(a,b))\n",
    "\n",
    "def nbfmd (c  : Set[str],\n",
    "           pr : bool = False) -> np.float16:\n",
    "  \"\"\"NAIVE BRUTE FORCE MINIMUM DISTANCE d(C)\n",
    "\n",
    "  Computes the pairwise Hamming distance for all codewords and returns the minimum value.\n",
    "\n",
    "  This is a naive (i.e., non vectorized) implementation using nested for loops.\n",
    "  \n",
    "  Parameters\n",
    "  ==========\n",
    "  c  : code\n",
    "  pr : Print intermediate steps.\n",
    "\n",
    "  Returns\n",
    "  =======\n",
    "  d(C)\n",
    "  \"\"\"\n",
    "\n",
    "  # convert a set of string vectors to a 2D NumPy array of integers\n",
    "  c=np.array([list(codeword) for codeword in c],dtype=np.float16)\n",
    "\n",
    "  # intialize empty hamming distance matrix\n",
    "  hamming = np.empty([c.shape[0]]*2,dtype=np.float16)\n",
    "  for i,x in enumerate(c):\n",
    "    for j,y in enumerate(c):\n",
    "      hamming[i,j]=(x!=y).sum()\n",
    "  # the diagonal represents the Hamming distance of a codeword with itself, which is always 0.\n",
    "  np.fill_diagonal(hamming,np.inf)\n",
    "\n",
    "  if pr == True:\n",
    "    print(hamming)\n",
    "\n",
    "  return hamming.min().astype(np.int8)\n",
    "\n",
    "def one_error_detecting (q    : int,\n",
    "                         code : Set[str],\n",
    "                         p    : bool = False) -> bool:\n",
    "  \"\"\"Verify that a code is one-error detecting.\n",
    "  No one-bit error equals a codeword.\n",
    "  \"\"\"\n",
    "  flag=True\n",
    "  alphabet=set(str(i) for i in range(q))\n",
    "  for codeword in code:\n",
    "    if p:\n",
    "      print()\n",
    "      print(f\"{'orig cw : ':10}{codeword}\")\n",
    "    for i in range(len(codeword)):\n",
    "      a,b,c=codeword[:i],codeword[i],codeword[i+1:]\n",
    "      symbols=alphabet-set(codeword[i])\n",
    "      for symbol in symbols:\n",
    "        cw=codeword[:i]+symbol+codeword[i+1:] # SINGLE ERROR\n",
    "        if cw in code:\n",
    "          flag=False\n",
    "          if p:\n",
    "            print(f\"{'ERROR':10}{cw}\")\n",
    "        else:\n",
    "          if p:\n",
    "            print(f\"{'':10}{cw}\")\n",
    "  return flag\n",
    "\n",
    "# set(''.join(l for l in i) for i in itertools.product('10',repeat=3))\n",
    "# set(''.join(l for l in i) for i in itertools.combinations_with_replacement('012',r=3))\n",
    "# set(''.join(l for l in i) for i in itertools.combinations('01',r=2))"
   ]
  },
  {
   "attachments": {},
   "cell_type": "markdown",
   "metadata": {},
   "source": [
    "---"
   ]
  },
  {
   "attachments": {},
   "cell_type": "markdown",
   "metadata": {},
   "source": [
    "## 1"
   ]
  },
  {
   "attachments": {},
   "cell_type": "markdown",
   "metadata": {},
   "source": [
    "### [1.1]"
   ]
  },
  {
   "attachments": {},
   "cell_type": "markdown",
   "metadata": {},
   "source": [
    "If the following message were received from outer space, why might it be conjectured that it was sent by a race of human-like beings who have one arm twice as long as the other?\n",
    "\n",
    "[Hint: The number of digits in the message is the product of two prime numbers.]"
   ]
  },
  {
   "cell_type": "code",
   "execution_count": 1,
   "metadata": {},
   "outputs": [
    {
     "data": {
      "text/plain": [
       "'00110000011000111111110110010011001001100101111000100100010010001001001100110'"
      ]
     },
     "execution_count": 1,
     "metadata": {},
     "output_type": "execute_result"
    }
   ],
   "source": [
    "message='00110000011000111111110110010011001001100101111000100100010010001001001100110'\n",
    "message"
   ]
  },
  {
   "cell_type": "code",
   "execution_count": 2,
   "metadata": {},
   "outputs": [
    {
     "data": {
      "text/plain": [
       "77"
      ]
     },
     "execution_count": 2,
     "metadata": {},
     "output_type": "execute_result"
    }
   ],
   "source": [
    "len(message)"
   ]
  },
  {
   "cell_type": "code",
   "execution_count": 28,
   "metadata": {},
   "outputs": [
    {
     "data": {
      "text/plain": [
       "array([['0', '0', '1', '1', '0', '0', '0'],\n",
       "       ['0', '0', '1', '1', '0', '0', '0'],\n",
       "       ['1', '1', '1', '1', '1', '1', '1'],\n",
       "       ['1', '0', '1', '1', '0', '0', '1'],\n",
       "       ['0', '0', '1', '1', '0', '0', '1'],\n",
       "       ['0', '0', '1', '1', '0', '0', '1'],\n",
       "       ['0', '1', '1', '1', '1', '0', '0'],\n",
       "       ['0', '1', '0', '0', '1', '0', '0'],\n",
       "       ['0', '1', '0', '0', '1', '0', '0'],\n",
       "       ['0', '1', '0', '0', '1', '0', '0'],\n",
       "       ['1', '1', '0', '0', '1', '1', '0']], dtype='<U1')"
      ]
     },
     "execution_count": 28,
     "metadata": {},
     "output_type": "execute_result"
    }
   ],
   "source": [
    "c=np.array(list(message)).reshape(11,7)\n",
    "c"
   ]
  },
  {
   "cell_type": "code",
   "execution_count": 48,
   "metadata": {},
   "outputs": [
    {
     "name": "stdout",
     "output_type": "stream",
     "text": [
      "[['0011000']\n",
      " ['0011000']\n",
      " ['1111111']\n",
      " ['1011001']\n",
      " ['0011001']\n",
      " ['0011001']\n",
      " ['0111100']\n",
      " ['0100100']\n",
      " ['0100100']\n",
      " ['0100100']\n",
      " ['1100110']]\n"
     ]
    },
    {
     "data": {
      "image/png": "[encoded data removed]",
      "text/plain": [
       "<Figure size 600x600 with 1 Axes>"
      ]
     },
     "metadata": {},
     "output_type": "display_data"
    }
   ],
   "source": [
    "print(np.array([[''.join(row)] for row in np.array(list(message)).reshape(11,7)]))\n",
    "\n",
    "fig = plt.figure(figsize=(6,6));\n",
    "ax  = plt.subplot();\n",
    "\n",
    "for i,row in enumerate(c):\n",
    "  for j,col in enumerate(row):\n",
    "    #print(i,j,col)\n",
    "    if int(col):\n",
    "      ax.add_patch(Rectangle((j,i),1,1,facecolor='blue'));\n",
    "\n",
    "ax.set_aspect(1);\n",
    "ax.set_xticks(ticks=np.arange(0,c.shape[1]+1));\n",
    "ax.set_yticks(ticks=np.arange(0,c.shape[0]+1));\n",
    "ax.set_xlim(0,c.shape[1]);\n",
    "ax.set_ylim(c.shape[0],0);"
   ]
  },
  {
   "attachments": {},
   "cell_type": "markdown",
   "metadata": {},
   "source": [
    "\"Pictures have actually been transmitted from Earth into outer space in this way.\n",
    "\n",
    "Two large prime numbers were used so that a much more detailed picture could be sent.\n",
    "\n",
    "It is reasonable to expect that a civilized recipient of such a message would be able to work out how to reconstruct the picture, since factorization of a number into prime factors is a property independent of language or notation.\""
   ]
  },
  {
   "attachments": {},
   "cell_type": "markdown",
   "metadata": {},
   "source": [
    "### [1.2]"
   ]
  },
  {
   "attachments": {},
   "cell_type": "markdown",
   "metadata": {},
   "source": [
    "Suppose the binary repetition code of length $5$ is used for a binary symmetric channel which has symbol error probability $p$.\n",
    "\n",
    "Show that the word error probability of the code is\n",
    "\n",
    "$\n",
    "10p^3-15p^4+6p^5\n",
    "$\n",
    "\n",
    "See the page on the binary repetition code of length $5$."
   ]
  },
  {
   "attachments": {},
   "cell_type": "markdown",
   "metadata": {},
   "source": [
    "### [1.3]"
   ]
  },
  {
   "attachments": {},
   "cell_type": "markdown",
   "metadata": {},
   "source": [
    "Show that a code $C$ having minimum distance $d(C)=4$ can be used simultaneously to correct single errors and detect double errors.\n",
    "\n",
    "[$C$ could also be used either as a single-error-correcting code or as a triple-error-detecting code, but not both simultaneously. Why not?]"
   ]
  },
  {
   "attachments": {},
   "cell_type": "markdown",
   "metadata": {},
   "source": [
    "$\n",
    "\\begin{aligned}\n",
    "d(C)\\ge4&=(s=3)+1\n",
    "\\\\\n",
    "d(C)\\ge4&=2(t=1.5)+1\n",
    "\\end{aligned}\n",
    "$\n",
    "\n",
    "Suppose the vector $\\mathbf{y}$ is received.\n",
    "\n",
    "If $d(\\mathbf{x,y})\\le1$ for some codeword $\\mathbf{x}\\in C$, then $\\mathbf{y}$ is closer to $\\mathbf{x}$ than to any other codeword and so it will be decoded to it (and thus corrected).\n",
    "\n",
    "If $d(\\mathbf{x,y})\\ge2$ for all codewords $\\mathbf{x}\\in C$, then $\\mathbf{y}$ is equally distant from them all and so cannot be decoded to a closest codeword; and it is not a codeword; so, it can be detected.\n",
    "\n",
    "<p style=\"color: red;\">Why is this d(x,y)>=2, and not just d(x,y)=2?</p>\n",
    "\n",
    "If $d(\\mathbf{x,y})=3$ for some codeword $\\mathbf{x}\\in C$, then $\\mathbf{y}$ is not a codeword by the minimum distance $d(C)=4$ of the code.\n",
    "\n",
    "But it could be the case that $d(\\mathbf{x',y})\\le1$ for some other codeword $\\mathbf{x'\\ne x}\\in C$.\n",
    "\n",
    "In an error-correcting context, $\\mathbf{y}$ would be decoded to $\\mathbf{x'}$."
   ]
  },
  {
   "attachments": {},
   "cell_type": "markdown",
   "metadata": {},
   "source": [
    "### [1.4]"
   ]
  },
  {
   "attachments": {},
   "cell_type": "markdown",
   "metadata": {},
   "source": [
    "The code used by Mariner 9 will correct any received $32$-tuple provided not more than how many errors have occurred?\n",
    "\n",
    "See the page on the $(32,64,16)$ Reed-Muller code."
   ]
  },
  {
   "attachments": {},
   "cell_type": "markdown",
   "metadata": {},
   "source": [
    "### [1.5]\n",
    "\n",
    "(i) Show that a $3$-ary $(3,M,2)$-code must have $M\\le9$.\n",
    "\n",
    "Suppose $C$ is a $(3,M,2)$-code.\n",
    "\n",
    "The $M$ ordered pairs obtained by deleting the third coordinate of each codeword must be distinct; for if any two were identical, then the corresponding codewords would differ only in the third position contradicting $d(C)=2$.\n",
    "\n",
    "Therefore, $M\\le q^2$.\n",
    "\n",
    "(ii) Show that a $3$-ary $(3,9,2)$-code exists.\n",
    "\n",
    "(iii) Generalize the results of (i) and (ii) to $q$-ary $(3,M,2)$-codes, for any integer $q\\ge2$.\n",
    "\n",
    "$\n",
    "\\{(a,b,(a+b)\\mod q)\\mid(a,b)\\in(F_q)^2\\}\n",
    "$\n",
    "\n",
    "is a $q$-ary $(3,q^2,2)$-code."
   ]
  },
  {
   "attachments": {},
   "cell_type": "markdown",
   "metadata": {},
   "source": [
    "---"
   ]
  },
  {
   "attachments": {},
   "cell_type": "markdown",
   "metadata": {},
   "source": [
    "#### q=2,(3,4,2)-code"
   ]
  },
  {
   "attachments": {},
   "cell_type": "markdown",
   "metadata": {},
   "source": [
    "$\n",
    "\\begin{aligned}\n",
    "(3,4,2)&\\text{-code}\\subseteq(F_2)^3\n",
    "\\end{aligned}\n",
    "$"
   ]
  },
  {
   "cell_type": "code",
   "execution_count": 210,
   "metadata": {},
   "outputs": [
    {
     "name": "stdout",
     "output_type": "stream",
     "text": [
      "8\n",
      "{'001', '100', '110', '000', '101', '111', '010', '011'}\n",
      "{'00', '11', '01', '10'}\n"
     ]
    },
    {
     "data": {
      "text/html": [
       "<div>\n",
       "<style scoped>\n",
       "    .dataframe tbody tr th:only-of-type {\n",
       "        vertical-align: middle;\n",
       "    }\n",
       "\n",
       "    .dataframe tbody tr th {\n",
       "        vertical-align: top;\n",
       "    }\n",
       "\n",
       "    .dataframe thead th {\n",
       "        text-align: right;\n",
       "    }\n",
       "</style>\n",
       "<table border=\"1\" class=\"dataframe\">\n",
       "  <thead>\n",
       "    <tr style=\"text-align: right;\">\n",
       "      <th></th>\n",
       "      <th>0</th>\n",
       "      <th>1</th>\n",
       "      <th>2</th>\n",
       "      <th>3</th>\n",
       "    </tr>\n",
       "  </thead>\n",
       "  <tbody>\n",
       "    <tr>\n",
       "      <th>0</th>\n",
       "      <td>000</td>\n",
       "      <td>011</td>\n",
       "      <td>101</td>\n",
       "      <td>110</td>\n",
       "    </tr>\n",
       "    <tr>\n",
       "      <th>1</th>\n",
       "      <td>111</td>\n",
       "      <td>100</td>\n",
       "      <td>010</td>\n",
       "      <td>001</td>\n",
       "    </tr>\n",
       "  </tbody>\n",
       "</table>\n",
       "</div>"
      ],
      "text/plain": [
       "     0    1    2    3\n",
       "0  000  011  101  110\n",
       "1  111  100  010  001"
      ]
     },
     "execution_count": 210,
     "metadata": {},
     "output_type": "execute_result"
    }
   ],
   "source": [
    "q=2\n",
    "n=3\n",
    "f=fqn(q,n)\n",
    "M=fqn(q,2)\n",
    "C=[list(m+str(sum([int(i) for i in m])%q) for m in sorted(list(M)))]\n",
    "for k in range(q-1):\n",
    "  C.append(list(''.join([str((int(i)+1)%q) for i in m]) for m in C[k]))\n",
    "\n",
    "print(f\"{q**n:,}\")\n",
    "print(f)\n",
    "print(M)\n",
    "\n",
    "pd.DataFrame(data=C)"
   ]
  },
  {
   "attachments": {},
   "cell_type": "markdown",
   "metadata": {},
   "source": [
    "---"
   ]
  },
  {
   "attachments": {},
   "cell_type": "markdown",
   "metadata": {},
   "source": [
    "#### q=3,(3,9,2)-code"
   ]
  },
  {
   "attachments": {},
   "cell_type": "markdown",
   "metadata": {},
   "source": [
    "$\n",
    "\\begin{aligned}\n",
    "(3,9,2)&\\text{-code}\\subseteq(F_3)^3\n",
    "\\end{aligned}\n",
    "$"
   ]
  },
  {
   "cell_type": "code",
   "execution_count": 209,
   "metadata": {},
   "outputs": [
    {
     "name": "stdout",
     "output_type": "stream",
     "text": [
      "27\n",
      "{'110', '210', '212', '102', '010', '221', '021', '202', '002', '120', '111', '201', '100', '012', '020', '222', '121', '211', '022', '011', '001', '122', '220', '000', '112', '200', '101'}\n",
      "{'00', '22', '20', '01', '10', '02', '11', '21', '12'}\n"
     ]
    },
    {
     "data": {
      "text/html": [
       "<div>\n",
       "<style scoped>\n",
       "    .dataframe tbody tr th:only-of-type {\n",
       "        vertical-align: middle;\n",
       "    }\n",
       "\n",
       "    .dataframe tbody tr th {\n",
       "        vertical-align: top;\n",
       "    }\n",
       "\n",
       "    .dataframe thead th {\n",
       "        text-align: right;\n",
       "    }\n",
       "</style>\n",
       "<table border=\"1\" class=\"dataframe\">\n",
       "  <thead>\n",
       "    <tr style=\"text-align: right;\">\n",
       "      <th></th>\n",
       "      <th>0</th>\n",
       "      <th>1</th>\n",
       "      <th>2</th>\n",
       "      <th>3</th>\n",
       "      <th>4</th>\n",
       "      <th>5</th>\n",
       "      <th>6</th>\n",
       "      <th>7</th>\n",
       "      <th>8</th>\n",
       "    </tr>\n",
       "  </thead>\n",
       "  <tbody>\n",
       "    <tr>\n",
       "      <th>0</th>\n",
       "      <td>000</td>\n",
       "      <td>011</td>\n",
       "      <td>022</td>\n",
       "      <td>101</td>\n",
       "      <td>112</td>\n",
       "      <td>120</td>\n",
       "      <td>202</td>\n",
       "      <td>210</td>\n",
       "      <td>221</td>\n",
       "    </tr>\n",
       "    <tr>\n",
       "      <th>1</th>\n",
       "      <td>111</td>\n",
       "      <td>122</td>\n",
       "      <td>100</td>\n",
       "      <td>212</td>\n",
       "      <td>220</td>\n",
       "      <td>201</td>\n",
       "      <td>010</td>\n",
       "      <td>021</td>\n",
       "      <td>002</td>\n",
       "    </tr>\n",
       "    <tr>\n",
       "      <th>2</th>\n",
       "      <td>222</td>\n",
       "      <td>200</td>\n",
       "      <td>211</td>\n",
       "      <td>020</td>\n",
       "      <td>001</td>\n",
       "      <td>012</td>\n",
       "      <td>121</td>\n",
       "      <td>102</td>\n",
       "      <td>110</td>\n",
       "    </tr>\n",
       "  </tbody>\n",
       "</table>\n",
       "</div>"
      ],
      "text/plain": [
       "     0    1    2    3    4    5    6    7    8\n",
       "0  000  011  022  101  112  120  202  210  221\n",
       "1  111  122  100  212  220  201  010  021  002\n",
       "2  222  200  211  020  001  012  121  102  110"
      ]
     },
     "execution_count": 209,
     "metadata": {},
     "output_type": "execute_result"
    }
   ],
   "source": [
    "q=3\n",
    "n=3\n",
    "f=fqn(q,n)\n",
    "M=fqn(q,2)\n",
    "C=[list(m+str(sum([int(i) for i in m])%q) for m in sorted(list(M)))]\n",
    "for k in range(q-1):\n",
    "  C.append(list(''.join([str((int(i)+1)%q) for i in m]) for m in C[k]))\n",
    "\n",
    "print(f\"{q**n:,}\")\n",
    "print(f)\n",
    "print(M)\n",
    "\n",
    "pd.DataFrame(data=C)"
   ]
  },
  {
   "attachments": {},
   "cell_type": "markdown",
   "metadata": {},
   "source": [
    "---"
   ]
  },
  {
   "attachments": {},
   "cell_type": "markdown",
   "metadata": {},
   "source": [
    "#### q=4,(3,16,2)-code"
   ]
  },
  {
   "attachments": {},
   "cell_type": "markdown",
   "metadata": {},
   "source": [
    "$\n",
    "\\begin{aligned}\n",
    "(3,16,2)&\\text{-code}\\subseteq(F_4)^3\n",
    "\\end{aligned}\n",
    "$"
   ]
  },
  {
   "cell_type": "code",
   "execution_count": 211,
   "metadata": {},
   "outputs": [
    {
     "name": "stdout",
     "output_type": "stream",
     "text": [
      "64\n",
      "{'300', '132', '013', '032', '110', '233', '103', '303', '210', '212', '102', '010', '221', '003', '030', '021', '313', '202', '322', '002', '120', '232', '311', '023', '111', '310', '201', '113', '301', '133', '331', '223', '100', '302', '321', '012', '020', '131', '222', '332', '121', '211', '022', '011', '312', '001', '031', '033', '122', '230', '320', '213', '220', '123', '000', '330', '112', '203', '323', '200', '333', '130', '101', '231'}\n",
      "{'00', '22', '03', '20', '33', '01', '13', '10', '30', '02', '11', '31', '32', '21', '23', '12'}\n"
     ]
    },
    {
     "data": {
      "text/html": [
       "<div>\n",
       "<style scoped>\n",
       "    .dataframe tbody tr th:only-of-type {\n",
       "        vertical-align: middle;\n",
       "    }\n",
       "\n",
       "    .dataframe tbody tr th {\n",
       "        vertical-align: top;\n",
       "    }\n",
       "\n",
       "    .dataframe thead th {\n",
       "        text-align: right;\n",
       "    }\n",
       "</style>\n",
       "<table border=\"1\" class=\"dataframe\">\n",
       "  <thead>\n",
       "    <tr style=\"text-align: right;\">\n",
       "      <th></th>\n",
       "      <th>0</th>\n",
       "      <th>1</th>\n",
       "      <th>2</th>\n",
       "      <th>3</th>\n",
       "      <th>4</th>\n",
       "      <th>5</th>\n",
       "      <th>6</th>\n",
       "      <th>7</th>\n",
       "      <th>8</th>\n",
       "      <th>9</th>\n",
       "      <th>10</th>\n",
       "      <th>11</th>\n",
       "      <th>12</th>\n",
       "      <th>13</th>\n",
       "      <th>14</th>\n",
       "      <th>15</th>\n",
       "    </tr>\n",
       "  </thead>\n",
       "  <tbody>\n",
       "    <tr>\n",
       "      <th>0</th>\n",
       "      <td>000</td>\n",
       "      <td>011</td>\n",
       "      <td>022</td>\n",
       "      <td>033</td>\n",
       "      <td>101</td>\n",
       "      <td>112</td>\n",
       "      <td>123</td>\n",
       "      <td>130</td>\n",
       "      <td>202</td>\n",
       "      <td>213</td>\n",
       "      <td>220</td>\n",
       "      <td>231</td>\n",
       "      <td>303</td>\n",
       "      <td>310</td>\n",
       "      <td>321</td>\n",
       "      <td>332</td>\n",
       "    </tr>\n",
       "    <tr>\n",
       "      <th>1</th>\n",
       "      <td>111</td>\n",
       "      <td>122</td>\n",
       "      <td>133</td>\n",
       "      <td>100</td>\n",
       "      <td>212</td>\n",
       "      <td>223</td>\n",
       "      <td>230</td>\n",
       "      <td>201</td>\n",
       "      <td>313</td>\n",
       "      <td>320</td>\n",
       "      <td>331</td>\n",
       "      <td>302</td>\n",
       "      <td>010</td>\n",
       "      <td>021</td>\n",
       "      <td>032</td>\n",
       "      <td>003</td>\n",
       "    </tr>\n",
       "    <tr>\n",
       "      <th>2</th>\n",
       "      <td>222</td>\n",
       "      <td>233</td>\n",
       "      <td>200</td>\n",
       "      <td>211</td>\n",
       "      <td>323</td>\n",
       "      <td>330</td>\n",
       "      <td>301</td>\n",
       "      <td>312</td>\n",
       "      <td>020</td>\n",
       "      <td>031</td>\n",
       "      <td>002</td>\n",
       "      <td>013</td>\n",
       "      <td>121</td>\n",
       "      <td>132</td>\n",
       "      <td>103</td>\n",
       "      <td>110</td>\n",
       "    </tr>\n",
       "    <tr>\n",
       "      <th>3</th>\n",
       "      <td>333</td>\n",
       "      <td>300</td>\n",
       "      <td>311</td>\n",
       "      <td>322</td>\n",
       "      <td>030</td>\n",
       "      <td>001</td>\n",
       "      <td>012</td>\n",
       "      <td>023</td>\n",
       "      <td>131</td>\n",
       "      <td>102</td>\n",
       "      <td>113</td>\n",
       "      <td>120</td>\n",
       "      <td>232</td>\n",
       "      <td>203</td>\n",
       "      <td>210</td>\n",
       "      <td>221</td>\n",
       "    </tr>\n",
       "  </tbody>\n",
       "</table>\n",
       "</div>"
      ],
      "text/plain": [
       "    0    1    2    3    4    5    6    7    8    9    10   11   12   13   14  \\\n",
       "0  000  011  022  033  101  112  123  130  202  213  220  231  303  310  321   \n",
       "1  111  122  133  100  212  223  230  201  313  320  331  302  010  021  032   \n",
       "2  222  233  200  211  323  330  301  312  020  031  002  013  121  132  103   \n",
       "3  333  300  311  322  030  001  012  023  131  102  113  120  232  203  210   \n",
       "\n",
       "    15  \n",
       "0  332  \n",
       "1  003  \n",
       "2  110  \n",
       "3  221  "
      ]
     },
     "execution_count": 211,
     "metadata": {},
     "output_type": "execute_result"
    }
   ],
   "source": [
    "q=4\n",
    "n=3\n",
    "f=fqn(q,n)\n",
    "M=fqn(q,2)\n",
    "C=[list(m+str(sum([int(i) for i in m])%q) for m in sorted(list(M)))]\n",
    "for k in range(q-1):\n",
    "  C.append(list(''.join([str((int(i)+1)%q) for i in m]) for m in C[k]))\n",
    "\n",
    "print(f\"{q**n:,}\")\n",
    "print(f)\n",
    "print(M)\n",
    "\n",
    "pd.DataFrame(data=C)"
   ]
  },
  {
   "attachments": {},
   "cell_type": "markdown",
   "metadata": {},
   "source": [
    "---"
   ]
  },
  {
   "attachments": {},
   "cell_type": "markdown",
   "metadata": {},
   "source": [
    "#### q=5,(3,32,2)-code"
   ]
  },
  {
   "attachments": {},
   "cell_type": "markdown",
   "metadata": {},
   "source": [
    "$\n",
    "\\begin{aligned}\n",
    "(3,32,2)&\\text{-code}\\subseteq(F_5)^3\n",
    "\\end{aligned}\n",
    "$"
   ]
  },
  {
   "cell_type": "code",
   "execution_count": 212,
   "metadata": {},
   "outputs": [
    {
     "name": "stdout",
     "output_type": "stream",
     "text": [
      "125\n",
      "{'032', '124', '243', '340', '210', '433', '102', '003', '440', '322', '311', '443', '113', '414', '223', '321', '344', '004', '304', '412', '033', '034', '240', '320', '000', '333', '200', '401', '132', '434', '314', '104', '334', '430', '234', '204', '002', '111', '310', '301', '422', '331', '302', '012', '014', '131', '421', '022', '031', '230', '213', '330', '242', '420', '432', '101', '300', '233', '013', '103', '411', '214', '410', '442', '044', '010', '221', '224', '244', '141', '202', '343', '232', '120', '134', '201', '133', '100', '114', '222', '211', '024', '011', '312', '043', '112', '203', '400', '241', '130', '423', '404', '341', '110', '342', '303', '402', '212', '041', '030', '021', '313', '040', '023', '403', '042', '143', '020', '332', '121', '413', '441', '431', '142', '424', '001', '122', '220', '123', '144', '140', '323', '324', '231', '444'}\n",
      "{'13', '10', '24', '02', '11', '31', '44', '23', '00', '03', '30', '12', '41', '20', '21', '34', '14', '22', '33', '01', '40', '04', '42', '43', '32'}\n"
     ]
    },
    {
     "data": {
      "text/html": [
       "<div>\n",
       "<style scoped>\n",
       "    .dataframe tbody tr th:only-of-type {\n",
       "        vertical-align: middle;\n",
       "    }\n",
       "\n",
       "    .dataframe tbody tr th {\n",
       "        vertical-align: top;\n",
       "    }\n",
       "\n",
       "    .dataframe thead th {\n",
       "        text-align: right;\n",
       "    }\n",
       "</style>\n",
       "<table border=\"1\" class=\"dataframe\">\n",
       "  <thead>\n",
       "    <tr style=\"text-align: right;\">\n",
       "      <th></th>\n",
       "      <th>0</th>\n",
       "      <th>1</th>\n",
       "      <th>2</th>\n",
       "      <th>3</th>\n",
       "      <th>4</th>\n",
       "      <th>5</th>\n",
       "      <th>6</th>\n",
       "      <th>7</th>\n",
       "      <th>8</th>\n",
       "      <th>9</th>\n",
       "      <th>...</th>\n",
       "      <th>15</th>\n",
       "      <th>16</th>\n",
       "      <th>17</th>\n",
       "      <th>18</th>\n",
       "      <th>19</th>\n",
       "      <th>20</th>\n",
       "      <th>21</th>\n",
       "      <th>22</th>\n",
       "      <th>23</th>\n",
       "      <th>24</th>\n",
       "    </tr>\n",
       "  </thead>\n",
       "  <tbody>\n",
       "    <tr>\n",
       "      <th>0</th>\n",
       "      <td>000</td>\n",
       "      <td>011</td>\n",
       "      <td>022</td>\n",
       "      <td>033</td>\n",
       "      <td>044</td>\n",
       "      <td>101</td>\n",
       "      <td>112</td>\n",
       "      <td>123</td>\n",
       "      <td>134</td>\n",
       "      <td>140</td>\n",
       "      <td>...</td>\n",
       "      <td>303</td>\n",
       "      <td>314</td>\n",
       "      <td>320</td>\n",
       "      <td>331</td>\n",
       "      <td>342</td>\n",
       "      <td>404</td>\n",
       "      <td>410</td>\n",
       "      <td>421</td>\n",
       "      <td>432</td>\n",
       "      <td>443</td>\n",
       "    </tr>\n",
       "    <tr>\n",
       "      <th>1</th>\n",
       "      <td>111</td>\n",
       "      <td>122</td>\n",
       "      <td>133</td>\n",
       "      <td>144</td>\n",
       "      <td>100</td>\n",
       "      <td>212</td>\n",
       "      <td>223</td>\n",
       "      <td>234</td>\n",
       "      <td>240</td>\n",
       "      <td>201</td>\n",
       "      <td>...</td>\n",
       "      <td>414</td>\n",
       "      <td>420</td>\n",
       "      <td>431</td>\n",
       "      <td>442</td>\n",
       "      <td>403</td>\n",
       "      <td>010</td>\n",
       "      <td>021</td>\n",
       "      <td>032</td>\n",
       "      <td>043</td>\n",
       "      <td>004</td>\n",
       "    </tr>\n",
       "    <tr>\n",
       "      <th>2</th>\n",
       "      <td>222</td>\n",
       "      <td>233</td>\n",
       "      <td>244</td>\n",
       "      <td>200</td>\n",
       "      <td>211</td>\n",
       "      <td>323</td>\n",
       "      <td>334</td>\n",
       "      <td>340</td>\n",
       "      <td>301</td>\n",
       "      <td>312</td>\n",
       "      <td>...</td>\n",
       "      <td>020</td>\n",
       "      <td>031</td>\n",
       "      <td>042</td>\n",
       "      <td>003</td>\n",
       "      <td>014</td>\n",
       "      <td>121</td>\n",
       "      <td>132</td>\n",
       "      <td>143</td>\n",
       "      <td>104</td>\n",
       "      <td>110</td>\n",
       "    </tr>\n",
       "    <tr>\n",
       "      <th>3</th>\n",
       "      <td>333</td>\n",
       "      <td>344</td>\n",
       "      <td>300</td>\n",
       "      <td>311</td>\n",
       "      <td>322</td>\n",
       "      <td>434</td>\n",
       "      <td>440</td>\n",
       "      <td>401</td>\n",
       "      <td>412</td>\n",
       "      <td>423</td>\n",
       "      <td>...</td>\n",
       "      <td>131</td>\n",
       "      <td>142</td>\n",
       "      <td>103</td>\n",
       "      <td>114</td>\n",
       "      <td>120</td>\n",
       "      <td>232</td>\n",
       "      <td>243</td>\n",
       "      <td>204</td>\n",
       "      <td>210</td>\n",
       "      <td>221</td>\n",
       "    </tr>\n",
       "    <tr>\n",
       "      <th>4</th>\n",
       "      <td>444</td>\n",
       "      <td>400</td>\n",
       "      <td>411</td>\n",
       "      <td>422</td>\n",
       "      <td>433</td>\n",
       "      <td>040</td>\n",
       "      <td>001</td>\n",
       "      <td>012</td>\n",
       "      <td>023</td>\n",
       "      <td>034</td>\n",
       "      <td>...</td>\n",
       "      <td>242</td>\n",
       "      <td>203</td>\n",
       "      <td>214</td>\n",
       "      <td>220</td>\n",
       "      <td>231</td>\n",
       "      <td>343</td>\n",
       "      <td>304</td>\n",
       "      <td>310</td>\n",
       "      <td>321</td>\n",
       "      <td>332</td>\n",
       "    </tr>\n",
       "  </tbody>\n",
       "</table>\n",
       "<p>5 rows × 25 columns</p>\n",
       "</div>"
      ],
      "text/plain": [
       "    0    1    2    3    4    5    6    7    8    9   ...   15   16   17   18  \\\n",
       "0  000  011  022  033  044  101  112  123  134  140  ...  303  314  320  331   \n",
       "1  111  122  133  144  100  212  223  234  240  201  ...  414  420  431  442   \n",
       "2  222  233  244  200  211  323  334  340  301  312  ...  020  031  042  003   \n",
       "3  333  344  300  311  322  434  440  401  412  423  ...  131  142  103  114   \n",
       "4  444  400  411  422  433  040  001  012  023  034  ...  242  203  214  220   \n",
       "\n",
       "    19   20   21   22   23   24  \n",
       "0  342  404  410  421  432  443  \n",
       "1  403  010  021  032  043  004  \n",
       "2  014  121  132  143  104  110  \n",
       "3  120  232  243  204  210  221  \n",
       "4  231  343  304  310  321  332  \n",
       "\n",
       "[5 rows x 25 columns]"
      ]
     },
     "execution_count": 212,
     "metadata": {},
     "output_type": "execute_result"
    }
   ],
   "source": [
    "q=5\n",
    "n=3\n",
    "f=fqn(q,n)\n",
    "M=fqn(q,2)\n",
    "C=[list(m+str(sum([int(i) for i in m])%q) for m in sorted(list(M)))]\n",
    "for k in range(q-1):\n",
    "  C.append(list(''.join([str((int(i)+1)%q) for i in m]) for m in C[k]))\n",
    "\n",
    "print(f\"{q**n:,}\")\n",
    "print(f)\n",
    "print(M)\n",
    "\n",
    "pd.DataFrame(data=C)"
   ]
  },
  {
   "attachments": {},
   "cell_type": "markdown",
   "metadata": {},
   "source": [
    "---"
   ]
  }
 ],
 "metadata": {
  "kernelspec": {
   "display_name": "main",
   "language": "python",
   "name": "python3"
  },
  "language_info": {
   "codemirror_mode": {
    "name": "ipython",
    "version": 3
   },
   "file_extension": ".py",
   "mimetype": "text/x-python",
   "name": "python",
   "nbconvert_exporter": "python",
   "pygments_lexer": "ipython3",
   "version": "3.10.8"
  },
  "orig_nbformat": 4
 },
 "nbformat": 4,
 "nbformat_minor": 2
}
