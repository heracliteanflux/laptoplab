{
 "cells": [
  {
   "attachments": {},
   "cell_type": "markdown",
   "metadata": {},
   "source": [
    "# The main coding theory problem\n",
    "`FCCT` `1990` Hill, Raymond. _A First Course in Coding Theory_. Clarendon Press: Oxford Applied Mathematics and Computing Science Series.\n",
    "```{contents}\n",
    "```"
   ]
  },
  {
   "attachments": {},
   "cell_type": "markdown",
   "metadata": {},
   "source": [
    "---"
   ]
  },
  {
   "attachments": {},
   "cell_type": "markdown",
   "metadata": {},
   "source": [
    "## Programming Environment"
   ]
  },
  {
   "cell_type": "code",
   "execution_count": 361,
   "metadata": {
    "tags": [
     "hide-input"
    ]
   },
   "outputs": [
    {
     "name": "stdout",
     "output_type": "stream",
     "text": [
      "EXECUTED            : 2023-05-12 00:12:53.748796\n",
      "\n",
      "Platform            : 13.3.1 | Darwin | 22.4.0 | arm64\n",
      "                    : UTF-8\n",
      "\n",
      "Python              : 3.10.8 | packaged by conda-forge | (main, Nov 22 2022, 08:25:29) [Clang 14.0.6 ]\n",
      "                    : sys.version_info(major=3, minor=10, micro=8, releaselevel='final', serial=0)\n",
      "                    : CPython\n",
      "\n",
      "Matplotlib          : 3.6.3\n",
      "NumPy               : 1.24.1\n"
     ]
    }
   ],
   "source": [
    "# %load imports.py\n",
    "import numpy  as np\n",
    "import pandas as pd\n",
    "\n",
    "import matplotlib        as mpl\n",
    "from   matplotlib.patches import Rectangle\n",
    "import matplotlib.pyplot as plt\n",
    "plt.style.use('ggplot');\n",
    "plt.rcParams.update({'text.usetex' : True});\n",
    "%matplotlib inline\n",
    "\n",
    "from   collections import Counter,defaultdict\n",
    "from   itertools   import combinations,product\n",
    "import itertools\n",
    "\n",
    "from typing import Set\n",
    "\n",
    "from IPython.display import display, Math\n",
    "\n",
    "from   datetime import datetime as d\n",
    "import locale                   as l\n",
    "import platform                 as p\n",
    "import sys                      as s\n",
    "\n",
    "pad = 20\n",
    "print(f\"{'Executed'.upper():<{pad}}: {d.now()}\")\n",
    "print()\n",
    "print(f\"{'Platform'   :<{pad}}: \"\n",
    "      f\"{p.mac_ver()[0]} | \"\n",
    "      f\"{p.system()} | \"\n",
    "      f\"{p.release()} | \"\n",
    "      f\"{p.machine()}\")\n",
    "print(f\"{''           :<{pad}}: {l.getpreferredencoding()}\")\n",
    "print()\n",
    "print(f\"{'Python'     :<{pad}}: {s.version}\")\n",
    "print(f\"{''           :<{pad}}: {s.version_info}\")\n",
    "print(f\"{''           :<{pad}}: {p.python_implementation()}\")\n",
    "print()\n",
    "print(f\"{'Matplotlib' :<{pad}}: {mpl.__version__}\")\n",
    "print(f\"{'NumPy'      :<{pad}}: {np .__version__}\")\n",
    "\n",
    "#==================================================\n",
    "\n",
    "def dec_to_bin_repr (a : int,\n",
    "                     n : int) -> str:\n",
    "  \"\"\"Convert a decimal number [int] to a binary number of length n [str].\n",
    "  \n",
    "  Parameters\n",
    "  ==========\n",
    "  a : decimal number\n",
    "  n : number of places\n",
    "\n",
    "  Returns\n",
    "  =======\n",
    "  return the binary representation of an integer as a string to n positions\n",
    "  \"\"\"\n",
    "  return format(a,f'0{n}b')\n",
    "#print(dec_to_bin_repr(17,10))\n",
    "\n",
    "def bin_repr_inv (a : int,\n",
    "                  n : int) -> str:\n",
    "  \"\"\"Convert a decimal number [int] to the inverse of a binary number of length n [str].\n",
    "  \n",
    "  Parameters\n",
    "  ==========\n",
    "  a : decimal number\n",
    "  n : number of places\n",
    "\n",
    "  Returns\n",
    "  =======\n",
    "  return the inverse of the binary representation of an integer as a string to n positions\n",
    "  \"\"\"\n",
    "  return format(a^(2**n-1),f'0{n}b')\n",
    "#print(bin_repr_inv(17,10))\n",
    "\n",
    "def rc (q : int,\n",
    "        n : int) -> Set[str]:\n",
    "  \"\"\"Repetition Code\n",
    "  Generate a q-ary repetition block code of length n.\n",
    "  \"\"\"\n",
    "  S=set()\n",
    "  for i in range(q):\n",
    "    S.add(str(i)*n)\n",
    "  return S\n",
    "\n",
    "def fqn (q : int,\n",
    "         n : int,\n",
    "         g : int = 0) -> Set[str]:\n",
    "  \"\"\"Construct a linear space of dimension n over a finite field of order q.\n",
    "  \n",
    "  Parameters\n",
    "  ==========\n",
    "  g : If the space is very large, opt for the first g elements of a generator object.\n",
    "  \"\"\"\n",
    "  if bool(g):\n",
    "    f=itertools.product(range(q),repeat=n)\n",
    "    return set(''.join(str(i) for i in next(f)) for _ in range(g))\n",
    "  else:\n",
    "    return {''.join(str(bit) for bit in word) for word in itertools.product(range(q),repeat=n)}\n",
    "\n",
    "def qarycode_to_nbitstring (code={'3121','2101'},k=4):\n",
    "  \"\"\"Convert a q-ary code \"\"\"\n",
    "  for n in code:\n",
    "    print(' '.join(format(int(i),f'0{k}b') for i in n))\n",
    "\n",
    "def hd (a : str = '1001',\n",
    "        b : str = '0101') -> int:\n",
    "  \"\"\"HAMMING DISTANCE\n",
    "  \n",
    "  Parameters\n",
    "  ==========\n",
    "  x : str\n",
    "  y : str\n",
    "\n",
    "  Return\n",
    "  ======\n",
    "  int\n",
    "  \"\"\"\n",
    "  assert len(a) == len(b), 'x and y must have the same length'\n",
    "  return sum(x!=y for x,y in zip(a,b))\n",
    "\n",
    "def nbfmd (c  : Set[str],\n",
    "           pr : bool = False) -> np.float16:\n",
    "  \"\"\"NAIVE BRUTE FORCE MINIMUM DISTANCE d(C)\n",
    "\n",
    "  Computes the pairwise Hamming distance for all codewords and returns the minimum value.\n",
    "\n",
    "  This is a naive (i.e., non vectorized) implementation using nested for loops.\n",
    "  \n",
    "  Parameters\n",
    "  ==========\n",
    "  c  : code\n",
    "  pr : Print intermediate steps.\n",
    "\n",
    "  Returns\n",
    "  =======\n",
    "  d(C)\n",
    "  \"\"\"\n",
    "\n",
    "  # convert a set of string vectors to a 2D NumPy array of integers\n",
    "  c=np.array([list(codeword) for codeword in c],dtype=np.float16)\n",
    "\n",
    "  # intialize empty hamming distance matrix\n",
    "  hamming = np.empty([c.shape[0]]*2,dtype=np.float16)\n",
    "  for i,x in enumerate(c):\n",
    "    for j,y in enumerate(c):\n",
    "      hamming[i,j]=(x!=y).sum()\n",
    "  # the diagonal represents the Hamming distance of a codeword with itself, which is always 0.\n",
    "  np.fill_diagonal(hamming,np.inf)\n",
    "\n",
    "  if pr == True:\n",
    "    print(hamming)\n",
    "\n",
    "  return hamming.min().astype(np.int8)\n",
    "\n",
    "def one_error_detecting (q    : int,\n",
    "                         code : Set[str],\n",
    "                         p    : bool = False) -> bool:\n",
    "  \"\"\"Verify that a code is one-error detecting.\n",
    "  No one-bit error equals a codeword.\n",
    "  \"\"\"\n",
    "  flag=True\n",
    "  alphabet=set(str(i) for i in range(q))\n",
    "  for codeword in code:\n",
    "    if p:\n",
    "      print()\n",
    "      print(f\"{'orig cw : ':10}{codeword}\")\n",
    "    for i in range(len(codeword)):\n",
    "      a,b,c=codeword[:i],codeword[i],codeword[i+1:]\n",
    "      symbols=alphabet-set(codeword[i])\n",
    "      for symbol in symbols:\n",
    "        cw=codeword[:i]+symbol+codeword[i+1:] # SINGLE ERROR\n",
    "        if cw in code:\n",
    "          flag=False\n",
    "          if p:\n",
    "            print(f\"{'ERROR':10}{cw}\")\n",
    "        else:\n",
    "          if p:\n",
    "            print(f\"{'':10}{cw}\")\n",
    "  return flag\n",
    "\n",
    "# set(''.join(l for l in i) for i in itertools.product('10',repeat=3))\n",
    "# set(''.join(l for l in i) for i in itertools.combinations_with_replacement('012',r=3))\n",
    "# set(''.join(l for l in i) for i in itertools.combinations('01',r=2))\n",
    "\n",
    "def vadd (vecs : set[str],\n",
    "          q    : int) -> str:\n",
    "  \"\"\"VECTOR SUM\n",
    "  Takes a set of q-ary vectors and computes their sum mod q.\n",
    "  \"\"\"\n",
    "  return ''.join((np.array(list(list(vec) for vec in vecs),dtype=np.int8).sum(axis=0)%q).astype(str))\n",
    "\n",
    "def vmul (vecs : set[str],\n",
    "          q    : int) -> str:\n",
    "  \"\"\"VECTOR PRODUCT\n",
    "  Takes a set of q-ary vectors and computes their product mod q.\n",
    "  \"\"\"\n",
    "  return ''.join((np.array(list(list(vec) for vec in vecs),dtype=np.int8).prod(axis=0)%q).astype(str))\n",
    "\n",
    "def vw (v : str) -> int:\n",
    "  \"\"\"VECTOR WEIGHT\"\"\"\n",
    "  c=Counter(v)\n",
    "  if '0' in c.keys():\n",
    "    c.pop('0')\n",
    "  return c.total()\n",
    "\n",
    "def overall_parity_check (code : set[str],\n",
    "                          q    : int,\n",
    "                          arr  : int = 0) -> np.ndarray:\n",
    "  code=np.array(list(list(codeword) for codeword in sorted(code)),dtype=np.int8)\n",
    "  code_as_array=np.concatenate([code,(code.sum(axis=1)%q).reshape((code.shape[0],1))],axis=1)\n",
    "  if arr:\n",
    "    return code_as_array\n",
    "  else:\n",
    "    return {''.join(codeword) for codeword in code_as_array.astype(str)}\n"
   ]
  },
  {
   "attachments": {},
   "cell_type": "markdown",
   "metadata": {},
   "source": [
    "---"
   ]
  },
  {
   "attachments": {},
   "cell_type": "markdown",
   "metadata": {},
   "source": [
    "## The main coding theory problem"
   ]
  },
  {
   "attachments": {},
   "cell_type": "markdown",
   "metadata": {},
   "source": [
    "A good $(n,M,d)$-code has\n",
    "\n",
    "(i) small $n$ for fast transmission of messages\n",
    "\n",
    "(ii) large $M$ to enable transmission of a wide variety of messages\n",
    "\n",
    "(iii) large $d$ to correct many errors\n",
    "\n",
    "The main coding theory problem is to optimize one of the parameters $n,M,d$ for given values of the other two.\n",
    "\n",
    "Usually, we want to find the largest code of a given length $n$ and given minimum distance $d$.\n",
    "\n",
    "$A_q(n,d)$ is the largest value of $M$ such that there exists a $q$-ary $(n,M,d)$-code.\n",
    "\n",
    "$A_q(n,d)=\\max M\\ni\\exists\\,q\\text{-ary}\\,(n,M,d)\\text{-code}$"
   ]
  },
  {
   "attachments": {},
   "cell_type": "markdown",
   "metadata": {},
   "source": [
    "### Theorem"
   ]
  },
  {
   "attachments": {},
   "cell_type": "markdown",
   "metadata": {},
   "source": [
    "(i) $A_q(n,1)=q^n$\n",
    "\n",
    "(ii) $A_q(n,n)=q$\n",
    "\n",
    "PROOF (i)\n",
    "\n",
    "If $d(C)\\ge1$ then the codewords must be distinct.\n",
    "\n",
    "The largest $q$-ary $(n,M,d)$-code is just $(F_q)^n$, and $M=q^n=|(F_q)^n|$.\n",
    "\n",
    "$\\blacksquare$\n",
    "\n",
    "PROOF (ii)\n",
    "\n",
    "Suppose $C$ is a $q$-ary $(n,M,n)$-code.\n",
    "\n",
    "Then any two distinct codewords differ in all $n$ positions (columns).\n",
    "\n",
    "And so the symbols appearing in any fixed position (column) in the $M$ codewords must be distinct.\n",
    "\n",
    "Therefore, $M\\le q$. [There can be no more than $q$ codewords.]\n",
    "\n",
    "And $A_q(n,n)\\le q$. [The largest value of $M$ such that... is bounded above by $q$.]\n",
    "\n",
    "We already know that the $q$-ary repetition code of length $n$ is an $(n,q,n)$-code.\n",
    "\n",
    "Therefore, $A_q(n,n)=q$.\n",
    "\n",
    "$\\blacksquare$\n",
    "\n",
    "$q\\le A_q(n,d)\\le q^n$ for $1\\le d\\le n$"
   ]
  },
  {
   "attachments": {},
   "cell_type": "markdown",
   "metadata": {},
   "source": [
    "---"
   ]
  },
  {
   "attachments": {},
   "cell_type": "markdown",
   "metadata": {},
   "source": [
    "## Equivalence of Codes"
   ]
  },
  {
   "attachments": {},
   "cell_type": "markdown",
   "metadata": {},
   "source": [
    "### Permutation"
   ]
  },
  {
   "attachments": {},
   "cell_type": "markdown",
   "metadata": {},
   "source": [
    "[PERMUTATION]\n",
    "\n",
    "A permutation $f$ of a set $S=\\{x_1,x_2,...,x_n\\}$ is a one-to-one correspondence (or mapping) from $S$ to itself.\n",
    "\n",
    "$\n",
    "\\left(\n",
    "\\begin{matrix}\n",
    "x_1 & x_2 & \\dots & x_n \\\\\n",
    "\\downarrow & \\downarrow & & \\downarrow \\\\\n",
    "f(x_1) & f(x_2) & \\dots & f(x_n) \\\\\n",
    "\\end{matrix}\n",
    "\\right)\n",
    "$"
   ]
  },
  {
   "attachments": {},
   "cell_type": "markdown",
   "metadata": {},
   "source": [
    "### Equivalence"
   ]
  },
  {
   "attachments": {},
   "cell_type": "markdown",
   "metadata": {},
   "source": [
    "Two $q$-ary codes are called equivalent if one can be obtained from the other by a combination of operations of the following types:\n",
    "\n",
    "(A) permutation of the positions (columns) of the code\n",
    "\n",
    "(B) permutation of the symbols appearing in a fixed position (column)\n",
    "\n",
    "If a code is displayed as an $M\\times n$ matrix whose rows are the codewords, then an operation of type (A) corresponds to a permutation or rearrangement of the columns of the matrix, while an operation of type (B) corresponds to a relabelling of the symbols appearing in a given column.\n",
    "\n",
    "The distances between codewords are unchanged by such operations, and so equivalent codes have the same parameters $(n,M,d)$ and will correct the same number of errors.\n",
    "\n",
    "Under the assumptions of a $q$-ary symmetric communication channel, the performances of equivalent codes will be identical in terms of probabilities of error correction."
   ]
  },
  {
   "attachments": {},
   "cell_type": "markdown",
   "metadata": {},
   "source": [
    "### Lemma"
   ]
  },
  {
   "attachments": {},
   "cell_type": "markdown",
   "metadata": {},
   "source": [
    "Any $q$-ary $(n,M,d)$-code over an alphabet $\\{0,1,...,q-1\\}$ is equivalent to an $(n,M,d)$-code which contains the zero vector $\\mathbf{0}=\\underbrace{00...0}_{n}$.\n",
    "\n",
    "PROOF\n",
    "\n",
    "Choose any codeword $\\mathbf{x}=x_1x_2...x_n$ and for each $x_i\\ne0$ apply the permutation\n",
    "\n",
    "$\n",
    "\\left(\n",
    "\\begin{matrix}\n",
    "0 & x_i & j \\\\\n",
    "\\downarrow & \\downarrow & \\downarrow \\\\\n",
    "x_i & 0 & j \\\\\n",
    "\\end{matrix}\n",
    "\\right)\n",
    "\\forall j\\ne0,x_i\n",
    "$\n",
    "\n",
    "to the symbols in position $i$.\n",
    "\n",
    "$\\blacksquare$"
   ]
  },
  {
   "attachments": {},
   "cell_type": "markdown",
   "metadata": {},
   "source": [
    "---"
   ]
  },
  {
   "attachments": {},
   "cell_type": "markdown",
   "metadata": {},
   "source": [
    "## Example"
   ]
  },
  {
   "attachments": {},
   "cell_type": "markdown",
   "metadata": {},
   "source": [
    "What is $A_2(5,3)$? In other words, what is the largest value of $M$ such that there exists a binary $(5,M,3)$-code?\n",
    "\n",
    "We are already familiar with a binary $(5,4,3)$-code:\n",
    "\n",
    "$\n",
    "\\begin{aligned}\n",
    "C=\n",
    "\\begin{cases}\n",
    "00000\\\\\n",
    "01101\\\\\n",
    "10110\\\\\n",
    "11011\\\\\n",
    "\\end{cases}\n",
    "\\end{aligned}\n",
    "$\n",
    "\n",
    "So $A_2(5,3)\\ge4$.\n",
    "\n",
    "Is there a binary $(5,5,3)$-code?\n",
    "\n",
    "Brute-force method: consider all subsets of order $5$ in $(F_2)^5$ (over 200,000 of them) and find the minimum distance of each."
   ]
  },
  {
   "cell_type": "code",
   "execution_count": null,
   "metadata": {},
   "outputs": [
    {
     "name": "stdout",
     "output_type": "stream",
     "text": [
      "32\n"
     ]
    },
    {
     "data": {
      "text/plain": [
       "{'00000',\n",
       " '00001',\n",
       " '00010',\n",
       " '00011',\n",
       " '00100',\n",
       " '00101',\n",
       " '00110',\n",
       " '00111',\n",
       " '01000',\n",
       " '01001',\n",
       " '01010',\n",
       " '01011',\n",
       " '01100',\n",
       " '01101',\n",
       " '01110',\n",
       " '01111',\n",
       " '10000',\n",
       " '10001',\n",
       " '10010',\n",
       " '10011',\n",
       " '10100',\n",
       " '10101',\n",
       " '10110',\n",
       " '10111',\n",
       " '11000',\n",
       " '11001',\n",
       " '11010',\n",
       " '11011',\n",
       " '11100',\n",
       " '11101',\n",
       " '11110',\n",
       " '11111'}"
      ]
     },
     "metadata": {},
     "output_type": "display_data"
    }
   ],
   "source": [
    "q=2\n",
    "n=5\n",
    "print(f\"{q**n:,}\")\n",
    "f=fqn(q,n)\n",
    "f"
   ]
  },
  {
   "cell_type": "code",
   "execution_count": null,
   "metadata": {},
   "outputs": [
    {
     "data": {
      "text/plain": [
       "201376"
      ]
     },
     "metadata": {},
     "output_type": "display_data"
    }
   ],
   "source": [
    "len(list(itertools.combinations(f,r=5)))"
   ]
  },
  {
   "cell_type": "code",
   "execution_count": null,
   "metadata": {},
   "outputs": [
    {
     "data": {
      "text/plain": [
       "2"
      ]
     },
     "metadata": {},
     "output_type": "display_data"
    }
   ],
   "source": [
    "max(list(nbfmd(c) for c in itertools.combinations(f,r=5)))"
   ]
  },
  {
   "attachments": {},
   "cell_type": "markdown",
   "metadata": {},
   "source": [
    "Let's show that a binary $(5,M,3)$-code must have $M\\le4$ and that the $(5,4,3)$-code is unique, up to equivalence.\n",
    "\n",
    "Suppose $C$ is a $(5,M,3)$-code with $M\\ge4$.\n",
    "\n",
    "By the lemma we can assume that $\\mathbf{0}\\in C$ or an equivalent code.\n",
    "\n",
    "[\n",
    "\n",
    "$00000$\n",
    "\n",
    "]\n",
    "\n",
    "$C$ contains at most one codeword having four or five 1s. For if there were even two such codewords $\\mathbf{x}$ and $\\mathbf{y}$ then they would have at least three 1s in common positions and $d(\\mathbf{x,y})\\le2$, contradicting $d(C)=3$.\n",
    "\n",
    "[\n",
    "  \n",
    "No more than one of\n",
    "\n",
    "$11111,01111,10111,11011,11101,11110$\n",
    "\n",
    "]\n",
    "\n",
    "Since $\\mathbf{0}\\in C$, there can be no codewords containing just one or two 1s\n",
    "\n",
    "[\n",
    "  \n",
    "None of \n",
    "\n",
    "$10000,01000,00100,00010,00001,11000,10100,10010,10001,01100,01010,01001,00110,00101,00011$\n",
    "\n",
    "]\n",
    "\n",
    "and so there must be two codewords containing exactly three 1s\n",
    "\n",
    "[\n",
    "  \n",
    "At least two of\n",
    "\n",
    "$11100,11010,11001,01110,01101,00111$\n",
    "\n",
    "]\n",
    "\n",
    "So far, our code looks like this\n",
    "\n",
    "$\n",
    "C=\n",
    "\\begin{cases}\n",
    "00000\\\\\n",
    "11100\\\\\n",
    "00111\\\\\n",
    "\\end{cases}\n",
    "$\n",
    "\n",
    "By trial and error, there is no other codeword of three 1s that is three away from both the other codewords with three 1s and there is only one codeword with four or five 1s that is.\n",
    "\n",
    "$\n",
    "C=\n",
    "\\begin{cases}\n",
    "00000\\\\\n",
    "11100\\\\\n",
    "00111\\\\\n",
    "11011\\\\\n",
    "\\end{cases}\n",
    "$\n",
    "\n",
    "Therefore, $A_2(5,3)=4$ and the code which achieves this value is unique, up to equivalence."
   ]
  },
  {
   "attachments": {},
   "cell_type": "markdown",
   "metadata": {},
   "source": [
    "---"
   ]
  },
  {
   "attachments": {},
   "cell_type": "markdown",
   "metadata": {},
   "source": [
    "## Vector operations modulo 2"
   ]
  },
  {
   "attachments": {},
   "cell_type": "markdown",
   "metadata": {},
   "source": [
    "Let $\\mathbf{x,y}\\in(F_2)^n$ where $\\mathbf{x}=x_1x_2...x_n$ and $\\mathbf{y}=y_1y_2...y_n$."
   ]
  },
  {
   "cell_type": "code",
   "execution_count": 285,
   "metadata": {},
   "outputs": [],
   "source": [
    "x='11100'\n",
    "y='00111'"
   ]
  },
  {
   "attachments": {},
   "cell_type": "markdown",
   "metadata": {},
   "source": [
    "### Sum"
   ]
  },
  {
   "attachments": {},
   "cell_type": "markdown",
   "metadata": {},
   "source": [
    "$\\mathbf{x+y}\\in(F_2)^n$ where $\\mathbf{x+y}=(x_1+y_1\\mod2,x_2+y_2\\mod2,...,x_n+y_n\\mod2)$"
   ]
  },
  {
   "cell_type": "code",
   "execution_count": 288,
   "metadata": {},
   "outputs": [
    {
     "data": {
      "text/plain": [
       "'11011'"
      ]
     },
     "execution_count": 288,
     "metadata": {},
     "output_type": "execute_result"
    }
   ],
   "source": [
    "vadd({x,y},2)"
   ]
  },
  {
   "attachments": {},
   "cell_type": "markdown",
   "metadata": {},
   "source": [
    "### Product"
   ]
  },
  {
   "attachments": {},
   "cell_type": "markdown",
   "metadata": {},
   "source": [
    "$\\mathbf{x\\cap y}\\in(F_2)^n$ where $\\mathbf{x\\cap y}=(x_1y_1\\mod2,x_2y_2\\mod2,...,x_ny_n\\mod2)$"
   ]
  },
  {
   "cell_type": "code",
   "execution_count": 289,
   "metadata": {},
   "outputs": [
    {
     "data": {
      "text/plain": [
       "'00100'"
      ]
     },
     "execution_count": 289,
     "metadata": {},
     "output_type": "execute_result"
    }
   ],
   "source": [
    "vmul({x,y},2)"
   ]
  },
  {
   "attachments": {},
   "cell_type": "markdown",
   "metadata": {},
   "source": [
    "### Weight"
   ]
  },
  {
   "attachments": {},
   "cell_type": "markdown",
   "metadata": {},
   "source": [
    "The weight $w(\\mathbf{x})$ of a vector $\\mathbf{x}\\in(F_2)^n$ is the number of 1s in $\\mathbf{x}$."
   ]
  },
  {
   "cell_type": "code",
   "execution_count": 291,
   "metadata": {},
   "outputs": [
    {
     "data": {
      "text/plain": [
       "3"
      ]
     },
     "execution_count": 291,
     "metadata": {},
     "output_type": "execute_result"
    }
   ],
   "source": [
    "vw(x)"
   ]
  },
  {
   "attachments": {},
   "cell_type": "markdown",
   "metadata": {},
   "source": [
    "---"
   ]
  },
  {
   "attachments": {},
   "cell_type": "markdown",
   "metadata": {},
   "source": [
    "## Lemma 2.5"
   ]
  },
  {
   "attachments": {},
   "cell_type": "markdown",
   "metadata": {},
   "source": [
    "[LEMMA 2.5]\n",
    "\n",
    "If $\\mathbf{x,y}\\in(F_2)^n$ then $d(\\mathbf{x,y})=w(\\mathbf{x+y})$.\n",
    "\n",
    "[The distance between two binary vectors is just the weight of their modular sum.]\n",
    "\n",
    "PROOF\n",
    "\n",
    "$\\mathbf{x+y}$ has a $1$ where $\\mathbf{x}$ and $\\mathbf{y}$ differ and a $0$ where $\\mathbf{x}$ and $\\mathbf{y}$ agree.\n",
    "\n",
    "$\\blacksquare$"
   ]
  },
  {
   "attachments": {},
   "cell_type": "markdown",
   "metadata": {},
   "source": [
    "## Lemma 2.6"
   ]
  },
  {
   "attachments": {},
   "cell_type": "markdown",
   "metadata": {},
   "source": [
    "[LEMMA 2.6]\n",
    "\n",
    "If $\\mathbf{x,y}\\in(F_2)^n$ then $d(\\mathbf{x,y})=w(\\mathbf{x})+w(\\mathbf{y})-2w(\\mathbf{x\\cap y})$.\n",
    "\n",
    "PROOF\n",
    "\n",
    "$d(\\mathbf{x,y})=w(\\mathbf{x+y})=$ the number of 1s in $\\mathbf{x}-$ the number of 1s in $\\mathbf{y}-2$ the number of positions where both $\\mathbf{x}$ and $\\mathbf{y}$ have a 1\n",
    "\n",
    "[We multiply the third term by 2 to subtract 1 from and account for each of the two vectors who share the 1 in a common position.]\n",
    "\n",
    "$\\blacksquare$"
   ]
  },
  {
   "attachments": {},
   "cell_type": "markdown",
   "metadata": {},
   "source": [
    "## Theorem 2.7"
   ]
  },
  {
   "attachments": {},
   "cell_type": "markdown",
   "metadata": {},
   "source": [
    "[THEOREM 2.7]\n",
    "\n",
    "Suppose $d$ is odd.\n",
    "\n",
    "Then a binary $(n,M,d)$-code exists iff a binary $(n+1,M,d+1)$-code exists.\n",
    "\n",
    "PROOF [only if]\n",
    "\n",
    "If a binary $(n,M,d)$-code exists then a binary $(n+1,M,d+1)$-code exists.\n",
    "\n",
    "Suppose $C$ is a binary $(n,M,d)$-code where $d$ is odd.\n",
    "\n",
    "Let $\\hat{C}$ be the code of length $n+1$ obtained from $C$ by extending each codeword $\\mathbf{x}$ of $C$ according to the rule\n",
    "\n",
    "ADDING AN OVERALL PARITY CHECK TO THE CODE C\n",
    "\n",
    "$\n",
    "\\begin{aligned}\n",
    "\\mathbf{x}&=x_1x_2...x_n\n",
    "\\\\\n",
    "\\mathbf{\\hat{x}}&=\n",
    "\\begin{cases}\n",
    "x_1x_2...x_n0 & \\text{if}\\,w(\\mathbf{x})\\,\\text{is even}\\\\\n",
    "x_1x_2...x_n1 & \\text{if}\\,w(\\mathbf{x})\\,\\text{is odd}\\\\\n",
    "\\end{cases}\n",
    "\\\\\n",
    "&=x_1x_2...x_nx_{n+1}\n",
    "\\,\\,\\,\\text{where}\\,\\,\\,\n",
    "x_{n+1}=\\left(\\sum_{i=1}^nx_i\\right)\\mod2\n",
    "\\end{aligned}\n",
    "$\n",
    "\n",
    "Since $w(\\mathbf{\\hat{x}})$ is even for every codeword $\\mathbf{\\hat{x}}\\in\\hat{C}$ it follows from lemma 2.6 that $d(\\mathbf{\\hat{x},\\hat{y}})$ is even for all $\\mathbf{\\hat{x},\\hat{y}}\\in\\hat{C}$.\n",
    "\n",
    "Therefore, $d(\\hat{C})$ is even.\n",
    "\n",
    "$d\\le d(\\hat{C})\\le d+1$\n",
    "\n",
    "Since $d$ is odd, $d(\\hat{C})=d+1$.\n",
    "\n",
    "Therefore, $\\hat{C}$ is a $(n+1,M,d+1)$-code.\n",
    "\n",
    "PROOF [if]\n",
    "\n",
    "If a binary $(n+1,M,d+1)$-code exists then a binary $(n,M,d)$-code exists.\n",
    "\n",
    "Suppose $D$ is a binary $(n+1,M,d+1)$-code where $d$ is odd.\n",
    "\n",
    "Choose codewords $\\mathbf{x,y}\\in D\\ni d(\\mathbf{x,y})=d+1$.\n",
    "\n",
    "Choose a position in which $\\mathbf{x}$ and $\\mathbf{y}$ differ and delete this from all codewords.\n",
    "\n",
    "The result is a $(n,M,d)$-code.\n",
    "\n",
    "$\\blacksquare$"
   ]
  },
  {
   "attachments": {},
   "cell_type": "markdown",
   "metadata": {},
   "source": [
    "## Corollary 2.8"
   ]
  },
  {
   "attachments": {},
   "cell_type": "markdown",
   "metadata": {},
   "source": [
    "[COROLLARY 2.8]\n",
    "\n",
    "If $d$ is odd, then $A_2(n+1,d+1)=A_2(n,d)$.\n",
    "\n",
    "Equivalently, if $d$ is even, then $A_2(n,d)=A_2(n-1,d-1)$."
   ]
  },
  {
   "attachments": {},
   "cell_type": "markdown",
   "metadata": {},
   "source": [
    "---"
   ]
  },
  {
   "attachments": {},
   "cell_type": "markdown",
   "metadata": {},
   "source": [
    "## Known values of $A_2(n,d)$"
   ]
  },
  {
   "attachments": {},
   "cell_type": "markdown",
   "metadata": {},
   "source": [
    "* Sloane 1982 pp. 156\n",
    "* MacWilliams and Sloane 1977 pp. 674"
   ]
  },
  {
   "attachments": {},
   "cell_type": "markdown",
   "metadata": {},
   "source": [
    "$n$ | $d=3$ | $d=5$ | $d=7$\n",
    "-|-|-|-\n",
    "5  |         4 |       2\n",
    "6  |         8 |       2\n",
    "7  |        16 |       2 | 2\n",
    "8  |        20 |       4 | 2\n",
    "9  |        40 |       6 | 2\n",
    "10 |     72-79 |      12 | 2\n",
    "11 |   144-158 |      24 | 4\n",
    "12 |       256 |      32 | 4\n",
    "13 |       512 |      64 | 8\n",
    "14 |      1024 |     128 | 16\n",
    "15 |      2048 |     256 | 32\n",
    "16 | 2560-3276 | 256-340 | 36-37"
   ]
  },
  {
   "attachments": {},
   "cell_type": "markdown",
   "metadata": {},
   "source": [
    "$\n",
    "\\begin{aligned}\n",
    "A_2(5,3)&=4=A_2(6,4)\\\\\n",
    "A_2(5,5)&=2=A_2(6,6)\\\\\n",
    "A_2(6,3)&=8=A_2(7,4)\\\\\n",
    "A_2(6,5)&=2=A_2(7,6)\\\\\n",
    "...\n",
    "\\end{aligned}\n",
    "$"
   ]
  },
  {
   "attachments": {},
   "cell_type": "markdown",
   "metadata": {},
   "source": [
    "---"
   ]
  },
  {
   "attachments": {},
   "cell_type": "markdown",
   "metadata": {},
   "source": [
    "## Examples of constructing codes via adding an overall parity check"
   ]
  },
  {
   "attachments": {},
   "cell_type": "markdown",
   "metadata": {},
   "source": [
    "$\n",
    "\\text{binary}\\,$(5,4,3)$\\text{-code}\\,\n",
    "C=\n",
    "\\begin{cases}\n",
    "00000\\\\\n",
    "01101\\\\\n",
    "10110\\\\\n",
    "11011\\\\\n",
    "\\end{cases}\n",
    "$"
   ]
  },
  {
   "cell_type": "code",
   "execution_count": 362,
   "metadata": {},
   "outputs": [
    {
     "data": {
      "text/plain": [
       "{'00000', '01101', '10110', '11011'}"
      ]
     },
     "execution_count": 362,
     "metadata": {},
     "output_type": "execute_result"
    }
   ],
   "source": [
    "c={'00000','01101','10110','11011'}\n",
    "c"
   ]
  },
  {
   "cell_type": "code",
   "execution_count": 363,
   "metadata": {},
   "outputs": [
    {
     "data": {
      "text/plain": [
       "{'000000', '011011', '101101', '110110'}"
      ]
     },
     "execution_count": 363,
     "metadata": {},
     "output_type": "execute_result"
    }
   ],
   "source": [
    "overall_parity_check(c,2)"
   ]
  },
  {
   "cell_type": "code",
   "execution_count": 364,
   "metadata": {},
   "outputs": [
    {
     "data": {
      "text/plain": [
       "4"
      ]
     },
     "execution_count": 364,
     "metadata": {},
     "output_type": "execute_result"
    }
   ],
   "source": [
    "nbfmd(overall_parity_check(c,2))"
   ]
  },
  {
   "attachments": {},
   "cell_type": "markdown",
   "metadata": {},
   "source": [
    "---"
   ]
  },
  {
   "attachments": {},
   "cell_type": "markdown",
   "metadata": {},
   "source": [
    "## Binomial Coefficients"
   ]
  },
  {
   "attachments": {},
   "cell_type": "markdown",
   "metadata": {},
   "source": [
    "If $n$ and $m$ are integers with $0\\le m\\le n$, then the binomial coefficient \"$n$ choose $m$\" is\n",
    "\n",
    "$\n",
    "\\begin{aligned}\n",
    "{n\\choose m}\n",
    "=\\frac{n!}{m!(n-m)!}\n",
    "\\end{aligned}\n",
    "$\n",
    "\n",
    "where $m!=m\\cdot(m-1)\\cdot...\\cdot3\\cdot2\\cdot1$ for $m\\gt0$ and $0!=1$."
   ]
  },
  {
   "attachments": {},
   "cell_type": "markdown",
   "metadata": {},
   "source": [
    "## Lemma 2.10"
   ]
  },
  {
   "attachments": {},
   "cell_type": "markdown",
   "metadata": {},
   "source": [
    "[LEMMA 2.10]\n",
    "\n",
    "The number of unordered selections of $m$ distinct objects from a set of $n$ distinct objects is $n\\choose m$.\n",
    "\n",
    "PROOF\n",
    "\n",
    "An ordered selection of $m$ distinct objects from a set of $n$ distinct objects can be made in\n",
    "\n",
    "$\n",
    "\\begin{aligned}\n",
    "n(n-1)...(n-m+1)=\\frac{n!}{(n-m)!}\n",
    "\\end{aligned}\n",
    "$\n",
    "\n",
    "ways, for the first object can be chosen in any of $n$ ways, then the second in any of $n-1$ ways, and so on.\n",
    "\n",
    "Since there are $m\\cdot(m-1)\\cdot...\\cdot2\\cdot1=m!$ ways of ordering the $m$ objects chosen, the number of unordered selections is\n",
    "\n",
    "$\n",
    "\\begin{aligned}\n",
    "\\frac{n!}{m!(n-m)!}\n",
    "\\end{aligned}\n",
    "$\n",
    "\n",
    "$\\blacksquare$"
   ]
  },
  {
   "attachments": {},
   "cell_type": "markdown",
   "metadata": {},
   "source": [
    "---"
   ]
  }
 ],
 "metadata": {
  "kernelspec": {
   "display_name": "main",
   "language": "python",
   "name": "python3"
  },
  "language_info": {
   "codemirror_mode": {
    "name": "ipython",
    "version": 3
   },
   "file_extension": ".py",
   "mimetype": "text/x-python",
   "name": "python",
   "nbconvert_exporter": "python",
   "pygments_lexer": "ipython3",
   "version": "3.10.8"
  },
  "orig_nbformat": 4
 },
 "nbformat": 4,
 "nbformat_minor": 2
}
