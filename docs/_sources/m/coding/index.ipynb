{
 "cells": [
  {
   "cell_type": "markdown",
   "metadata": {},
   "source": [
    "# Error-Correcting Codes\n",
    "```{contents}\n",
    "```"
   ]
  },
  {
   "cell_type": "markdown",
   "metadata": {},
   "source": [
    "---"
   ]
  },
  {
   "cell_type": "markdown",
   "metadata": {},
   "source": [
    "## Sections\n",
    "```{tableofcontents}\n",
    "```"
   ]
  },
  {
   "cell_type": "markdown",
   "metadata": {},
   "source": [
    "---"
   ]
  },
  {
   "cell_type": "markdown",
   "metadata": {},
   "source": [
    "## Resources"
   ]
  },
  {
   "cell_type": "markdown",
   "metadata": {},
   "source": [
    "https://www.cs.cmu.edu/~venkatg/teaching/codingtheory/notes/notes1.pdf\n",
    "\n",
    "https://www.ams.org/journals/bull/1999-36-03/S0273-0979-99-00783-1/S0273-0979-99-00783-1.pdf"
   ]
  },
  {
   "cell_type": "markdown",
   "metadata": {},
   "source": [
    "### YouTube"
   ]
  },
  {
   "cell_type": "markdown",
   "metadata": {},
   "source": [
    "Ben Eater\n",
    "* [ [y](https://www.youtube.com/watch?v=h0jloehRKas) ] Ben Eater. (2020). \"What is error correction? Hamming codes in hardware\". YouTube.\n",
    "* [ [y](https://www.youtube.com/watch?v=MgkhrBSjhag) ] Ben Eater. (2018). \"Error detection: Parity checking\". YouTube.\n",
    "* [ [y](https://www.youtube.com/watch?v=eq5YpKHXJDM) ] Ben Eater. (2018). \"Reliable data transmission\". YouTube.\n",
    "\n",
    "3Blue1Brown\n",
    "* [ [y](https://www.youtube.com/watch?v=X8jsijhllIA) ] Grant Sanderson. (2020). \"Hamming codes and error correction\". YouTube.\n",
    "* [ [y](https://www.youtube.com/watch?v=b3NxrZOu_CE) ] Grant Sanderson. (2020). \"Hamming codes part 2, the elegance of it all\". YouTube.\n",
    "\n",
    "more\n",
    "* [ [y](https://www.youtube.com/watch?v=_CPxe8yql0Q) ] `11-23-2023`. Primal Space. \"Voyager's 15 Billion Mile Software Update\"."
   ]
  },
  {
   "cell_type": "markdown",
   "metadata": {},
   "source": [
    "---"
   ]
  },
  {
   "cell_type": "markdown",
   "metadata": {},
   "source": [
    "## Texts"
   ]
  },
  {
   "cell_type": "markdown",
   "metadata": {},
   "source": [
    "`FCCT` `1990` Hill, Raymond. _A First Course in Coding Theory_. Clarendon Press: Oxford Applied Mathematics and Computing Science Series.\n",
    "\n",
    "`ECFF` `1992` Pretzel, Oliver. _Error-Correcting Codes and Finite Fields_. Oxford University Press Applied Mathematics and Computing Science Series.\n",
    "\n",
    "* Ball, Simeon. (2020). _A Course in Algebraic Error-Correcting Codes_.\n",
    "* Berlekamp, Elwyn R. (2015). _Algebraic Coding Theory_.\n",
    "* Bierbrauer, Jurgen. (2016). _Introduction to Coding Theory_.\n",
    "* Biggs, Norman L. _Codes: An Introduction to Information Communication and Cryptography_. Springer Undergraduate Mathematics Series.\n",
    "* Blahut, Richard E. (2003). _Algebraic Codes for Data Transmission_. Cambridge University Press.\n",
    "* Brzezinski, Juliusz. (2018). _Galois Theory Through Exercises_. Springer.\n",
    "* Csiszár, Imre & János Körner. (2011). _Information Theory: Coding Theorems for Discrete Memoryless Systems_. Cambridge University Press.\n",
    "* Golomb, Solomon W., Robert E. Peile, & Robert A. Scholtz. (1994). _Basic Concepts in Information Theory and Coding: The Adventures of Secret Agent 00111_. Springer.\n",
    "* Hamming, Richard W. (1985). _Coding and Information Theory_.\n",
    "* Huffman, W. Cary. & Vera Pless. (2010). _Fundamentals of Error-Correcting Codes_. Cambridge University Press.\n",
    "* Humphreys, J. F. & M. Y. Prest. (2004). _Numbers, Groups, and Codes, 2nd Ed_. Cambridge University Press.\n",
    "* Jones, Gareth A. & J. Mary Jones. (2000) _Information and Coding Theory_. Springer Undergraduate Mathematics Series.\n",
    "* MacWilliams, F. J. & N. J. A. Sloane. (1977). _The Theory of Error-Correcting Codes_.\n",
    "* Moon, Todd K. (2021). _Error Correction Coding: Mathematical Methods and Algorithms_. Wiley.\n",
    "* Moser, Stefan M. & Po-Ning Chen. (2012). _A Student's Guide to Coding and Information Theory_. Cambridge University Press.\n",
    "* Neubauer, Andre. (2007). _Coding Theory: Algorithms, Architectures, and Applications_. Wiley.\n",
    "* Peterson, W. Wesley. (1972). _Error-Correcting Codes_. 2nd Ed. MIT Press.\n",
    "* Pierce, John R. (1980). _An Introduction to Information Theory: Symbols, Signals, and Noise_. Dover.\n",
    "* Reza, Fazlollah M. (1994). _An Introduction to Information Theory_. Dover.\n",
    "* Roman, Steven. (1997). _Introduction to Coding and Information Theory_. Springer Undergraduate Texts in Mathematics.\n",
    "* Roman, Steven. (1992). _Coding and Information Theory_. Springer Graduate Texts in Mathematics.\n",
    "* Roth, Ron. (2006). _Introduction to Coding Theory_. Cambridge University Press.\n",
    "* Sanvicente, Emilio. (2019). _Understanding Error Control Coding_. Springer.\n",
    "* Stepanov, Serguei A. (1999). _Codes on Algebraic Curves_. Springer.\n",
    "* Sweeney, Peter. (2002). _Error Control Coding: From Theory to Practice_. Wiley.\n",
    "* Tomlinson et al. (2017). _Error-Correction and Decoding: Bounds, Codes, Decoders, Analysis, and Applications_. Springer Signals and Communication Technology.\n",
    "* Trappe, Wade & Lawrence Washington. (2005). _Introduction to Cryptography with Coding Theory_. Pearson.\n",
    "* Van Lint, J. H. (1999). _Introduction to Coding Theory, 3rd Ed_. Springer Graduate Texts in Mathematics."
   ]
  },
  {
   "cell_type": "markdown",
   "metadata": {},
   "source": [
    "---"
   ]
  },
  {
   "cell_type": "markdown",
   "metadata": {},
   "source": [
    "## Figures"
   ]
  },
  {
   "cell_type": "markdown",
   "metadata": {},
   "source": [
    "* [ [w](https://en.wikipedia.org/wiki/Claude_Berrou) ] `1951-----` Berrou, Claude\n",
    "* [ [w](https://en.wikipedia.org/wiki/Anne_Canteaut) ] `---------` Canteaut, Anne\n",
    "* [ [w](https://en.wikipedia.org/wiki/Peter_Elias) ] `1923-2001` Elias, Peter\n",
    "* [ [w](https://en.wikipedia.org/wiki/Robert_Fano) ] `1917-2016` Fano, Robert\n",
    "* [ [w](https://en.wikipedia.org/wiki/Edgar_Gilbert) ] `1923-2013` Gilbert, Edgar\n",
    "* [ [w](https://en.wikipedia.org/wiki/Solomon_W._Golomb) ] `1932-2016` Golomb, Solomon\n",
    "* [ [w](https://en.wikipedia.org/wiki/Frank_Gray_(researcher)) ] `1887-1969` Gray, Frank\n",
    "* [ [w](https://en.wikipedia.org/wiki/Jacques_Hadamard) ] `1865-1963` Hadamard, Jacques\n",
    "* [ [w](https://en.wikipedia.org/wiki/Joachim_Hagenauer) ] `1941-----` Hagenauer, Joachim\n",
    "* [ [w](https://en.wikipedia.org/wiki/Richard_Hamming) ] `1915-1998` Hamming, Richard\n",
    "* [ [w](https://en.wikipedia.org/wiki/Ralph_Hartley) ] `1888-1970` Hartley, Ralph\n",
    "* [ [w](https://en.wikipedia.org/wiki/David_A._Huffman) ] `1925-1999` Huffman, David\n",
    "* [ [w](https://en.wikipedia.org/wiki/Abraham_Lempel) ] `1936-2023` Lempel, Abraham\n",
    "* [ [w](https://en.wikipedia.org/wiki/Vladimir_Levenshtein) ] `1935-2017` Levenshtein, Vladimir\n",
    "* [ [w](https://en.wikipedia.org/wiki/Michael_Luby) ] `---------` Luby, Michael\n",
    "* [ [w](https://en.wikipedia.org/wiki/David_E._Muller) ] `1924-2008` Muller, David\n",
    "* [ [w](https://en.wikipedia.org/wiki/Irving_S._Reed) ] `1923-2012` Reed, Irving\n",
    "* [ [w](https://en.wikipedia.org/wiki/Claude_Shannon) ] `1916-2001` Shannon, Claude\n",
    "* [ [w](https://en.wikipedia.org/wiki/Amin_Shokrollahi) ] `1964-----` Shokrollahi, Amin\n",
    "* [ [w](https://en.wikipedia.org/wiki/Gustave_Solomon) ] `1930-1996` Solomon, Gustave\n",
    "* [ [w](https://en.wikipedia.org/wiki/Rom_Varshamov) ] `1927-1999` Varshamov, Rom\n",
    "* [ [w](https://en.wikipedia.org/wiki/Andrew_Viterbi) ] `1935-----` Viterbi, Andrew\n",
    "* [ [w](https://en.wikipedia.org/wiki/John_Wozencraft) ] `1925-2009` Wozencraft, John\n",
    "* [ [w](https://en.wikipedia.org/wiki/Jacob_Ziv) ] `1931-2023` Ziv, Jacob"
   ]
  },
  {
   "cell_type": "markdown",
   "metadata": {},
   "source": [
    "---"
   ]
  },
  {
   "cell_type": "markdown",
   "metadata": {},
   "source": [
    "## Terms"
   ]
  },
  {
   "cell_type": "markdown",
   "metadata": {},
   "source": [
    "* [ [w](https://en.wikipedia.org/wiki/Arithmetic_coding) ] Arithmetic Coding\n",
    "* [ [w](https://en.wikipedia.org/wiki/Asymmetric_numeral_systems) ] Asymmetric Numeral System\n",
    "* [ [w](https://en.wikipedia.org/wiki/Automatic_repeat_request) ] Automatic Repeat Request (ARQ)\n",
    "* [ [w](https://en.wikipedia.org/wiki/Backward_channel) ] Backward Channel\n",
    "* [ [w](https://en.wikipedia.org/wiki/Ball_(mathematics)) ] Ball\n",
    "* [ [w](https://en.wikipedia.org/wiki/BCH_code) ] BCH Code\n",
    "* [ [w](https://en.wikipedia.org/wiki/BCJR_algorithm) ] BCJR Algorithm\n",
    "* [ [w](https://en.wikipedia.org/wiki/Binary-coded_decimal) ] Binary-Coded Decimal\n",
    "* [ [w](https://en.wikipedia.org/wiki/Z-channel_(information_theory)) ] Binary Asymmetric Channel\n",
    "* [ [w](https://en.wikipedia.org/wiki/Binary_code) ] Binary Code\n",
    "* [ [w](https://en.wikipedia.org/wiki/Binary_entropy_function) ] Binary Entropy Function\n",
    "* [ [w](https://en.wikipedia.org/wiki/Binary_erasure_channel) ] Binary Erasure Channel\n",
    "* [ [w](https://en.wikipedia.org/wiki/Binary_symmetric_channel) ] Binary Symmetric Channel\n",
    "* [ [w](https://en.wikipedia.org/wiki/Bit_error_rate) ] Bit Error Rate\n",
    "* [ [w](https://en.wikipedia.org/wiki/Bit_rate) ] Bit Rate\n",
    "* [ [w](https://en.wikipedia.org/wiki/Data_compression) ] Bit Rate Reduction\n",
    "* [ [w](https://en.wikipedia.org/wiki/Bit_slip) ] Bit Slip\n",
    "* [ [w](https://en.wikipedia.org/wiki/Block_code) ] Block Code\n",
    "* [ [w](https://en.wikipedia.org/wiki/Burst_error) ] Burst Error\n",
    "* [ [w](https://en.wikipedia.org/wiki/Burst_error-correcting_code) ] Burst Error-Correcting Code\n",
    "* [ [w](https://en.wikipedia.org/wiki/Burst_mode_(computing)) ] Burst Mode\n",
    "* [ [w](https://en.wikipedia.org/wiki/Burst_transmission) ] Burst Transmission\n",
    "* [ [w](https://en.wikipedia.org/wiki/Cayley_table) ] Cayley Table\n",
    "* [ [w](https://en.wikipedia.org/wiki/Channel_capacity) ] Channel Capacity\n",
    "* [ [w](https://en.wikipedia.org/wiki/Error_detection_and_correction) ] Channel Coding\n",
    "* [ [w](https://en.wikipedia.org/wiki/Chen%E2%80%93Ho_encoding) ] Chen-Ho Encoding\n",
    "* [ [w](https://en.wikipedia.org/wiki/Code) ] Code\n",
    "* [ [w](https://en.wikipedia.org/wiki/Code_rate) ] Code Rate\n",
    "* [ [w](https://en.wikipedia.org/wiki/Code_word) ] Code Word\n",
    "* [ [w](https://en.wikipedia.org/wiki/Coding_theory) ] Coding Theory\n",
    "* [ [w](https://en.wikipedia.org/wiki/Comma_code) ] Comma Code\n",
    "* [ [w](https://en.wikipedia.org/wiki/Comma-free_code) ] Comma-Free Code\n",
    "* [ [w](https://en.wikipedia.org/wiki/Communication_channel) ] Communication Channel\n",
    "* [ [w](https://en.wikipedia.org/wiki/Concatenated_error_correction_code) ] Concatenated Code\n",
    "* [ [w](https://en.wikipedia.org/wiki/Consistent_Overhead_Byte_Stuffing) ] Consistent Overhead Byte Stuffing\n",
    "* [ [w](https://en.wikipedia.org/wiki/Context-adaptive_binary_arithmetic_coding) ] Context-Adaptive Binary Arithmetic Coding\n",
    "* [ [w](https://en.wikipedia.org/wiki/Context-adaptive_variable-length_coding) ] Context-Adaptive Variable-Length Coding\n",
    "* [ [w](https://en.wikipedia.org/wiki/Convolutional_code) ] Convolutional Code\n",
    "* [ [w](https://en.wikipedia.org/wiki/Coset) ] Coset\n",
    "* [ [w](https://en.wikipedia.org/wiki/Coset_leader) ] Coset Leader\n",
    "* [ [w](https://en.wikipedia.org/wiki/Cryptography) ] Cryptography\n",
    "* [ [w](https://en.wikipedia.org/wiki/Cyclic_code) ] Cyclic Code\n",
    "* [ [w](https://en.wikipedia.org/wiki/Cyclic_redundancy_check) ] Cyclic Redundancy Check (CRC)\n",
    "* [ [w](https://en.wikipedia.org/wiki/Computation_of_cyclic_redundancy_checks) ] Cyclic Redundancy Check, Computation\n",
    "* [ [w](https://en.wikipedia.org/wiki/Data_compression) ] Data Compression\n",
    "* [ [w](https://en.wikipedia.org/wiki/Data_signaling_rate) ] Data Signaling Rate\n",
    "* [ [w](https://en.wikipedia.org/wiki/Decoding_methods) ] Decoding\n",
    "* [ [w](https://en.wikipedia.org/wiki/Deletion_channel) ] Deletion Channel\n",
    "* [ [w](https://en.wikipedia.org/wiki/ECC_memory) ] ECC Memory\n",
    "* [ [w](https://en.wikipedia.org/wiki/Elias_Bassalygo_bound) ] Elias Bassalygo Bound\n",
    "* [ [w](https://en.wikipedia.org/wiki/Elias_delta_coding) ] Elias Delta Coding\n",
    "* [ [w](https://en.wikipedia.org/wiki/Elias_gamma_coding) ] Elias Gamma Coding\n",
    "* [ [w](https://en.wikipedia.org/wiki/Elias_omega_coding) ] Elias Omega Coding\n",
    "* [ [w](https://en.wikipedia.org/wiki/Entropy_coding) ] Entropy Coding\n",
    "* [ [w](https://en.wikipedia.org/wiki/Entropy_rate) ] Entropy Rate\n",
    "* [ [w](https://en.wikipedia.org/wiki/Erasure_code) ] Erasure Code\n",
    "* [ [w](https://en.wikipedia.org/wiki/Error_detection_and_correction) ] Error Detection and Correction\n",
    "* [ [w](https://en.wikipedia.org/wiki/Error_floor) ] Error Floor\n",
    "* [ [w](https://en.wikipedia.org/wiki/Error_correction_code) ] Error-Correcting Code (ECC)\n",
    "* [ [w](https://en.wikipedia.org/wiki/Error-correcting_codes_with_feedback) ] Error-correcting codes with feedback\n",
    "* [ [w](https://en.wikipedia.org/wiki/Expander_code) ] Expander Code\n",
    "* [ [w](https://en.wikipedia.org/wiki/Fibonacci_coding) ] Fibonacci Coding\n",
    "* [ [w](https://en.wikipedia.org/wiki/Error_detection_and_correction) ] Forward Error Correction (FEC)\n",
    "* [ [w](https://en.wikipedia.org/wiki/Fountain_code) ] Fountain Code\n",
    "* [ [w](https://en.wikipedia.org/wiki/Generalized_minimum-distance_decoding) ] Generalized Minimum-Distance Decoding\n",
    "* [ [w](https://en.wikipedia.org/wiki/Gilbert%E2%80%93Varshamov_bound) ] Gilbert-Varshamov Bound\n",
    "* [ [w](https://en.wikipedia.org/wiki/Golay_code) ] Golay Code\n",
    "* [ [w](https://en.wikipedia.org/wiki/Golomb_coding) ] Golomb Coding\n",
    "* [ [w](https://en.wikipedia.org/wiki/Goppa_code) ] Goppa Code\n",
    "* [ [w](https://en.wikipedia.org/wiki/Gray_code) ] Gray Code\n",
    "* [ [w](https://en.wikipedia.org/wiki/Griesmer_bound) ] Griesmer Bound\n",
    "* [ [w](https://en.wikipedia.org/wiki/Hadamard_code) ] Hadamard Code\n",
    "* [ [w](https://en.wikipedia.org/wiki/Hamming(7,4)) ] Hamming (7, 4)\n",
    "* [ [w](https://en.wikipedia.org/wiki/Hamming_bound) ] Hamming Bound\n",
    "* [ [w](https://en.wikipedia.org/wiki/Hamming_code) ] Hamming Code\n",
    "* [ [w](https://en.wikipedia.org/wiki/Hamming_distance) ] Hamming Distance\n",
    "* [ [w](https://en.wikipedia.org/wiki/Hamming_weight) ] Hamming Weight\n",
    "* [ [w](https://en.wikipedia.org/wiki/Huffman_coding) ] Huffman Coding\n",
    "* [ [w](https://en.wikipedia.org/wiki/Hybrid_automatic_repeat_request) ] Hybrid Automatic Repeat Request (HARQ)\n",
    "* [ [w](https://en.wikipedia.org/wiki/Bit_rate#Information_rate) ] Information Rate\n",
    "* [ [w](https://en.wikipedia.org/wiki/Information_theory) ] Information Theory\n",
    "* [ [w](https://en.wikipedia.org/wiki/Iterative_Viterbi_decoding) ] Iterative Viterbi Decoding\n",
    "* [ [w](https://en.wikipedia.org/wiki/Johnson_bound) ] Johnson Bound\n",
    "* [ [w](https://en.wikipedia.org/wiki/Justesen_code) ] Justesan Code\n",
    "* [ [w](https://en.wikipedia.org/wiki/Las_Vegas_algorithm) ] Las Vegas Algorithm\n",
    "* [ [w](https://en.wikipedia.org/wiki/Levenshtein_coding) ] Levenshtein Coding\n",
    "* [ [w](https://en.wikipedia.org/wiki/Levenshtein_distance) ] Levenshtein Distance\n",
    "* [ [w](https://en.wikipedia.org/wiki/Line_code) ] Line Code\n",
    "* [ [w](https://en.wikipedia.org/wiki/Linear_code) ] Linear Code\n",
    "* [ [w](https://en.wikipedia.org/wiki/Linear-feedback_shift_register) ] Linear-Feedback Shift Register (LFSR)\n",
    "* [ [w](https://en.wikipedia.org/wiki/Link_adaptation) ] Link Adaptation\n",
    "* [ [w](https://en.wikipedia.org/wiki/List_decoding) ] List Decoding\n",
    "* [ [w](https://en.wikipedia.org/wiki/Locally_decodable_code) ] Locally Decodable Code\n",
    "* [ [w](https://en.wikipedia.org/wiki/Locally_testable_code) ] Locally Testable Code\n",
    "* [ [w](https://en.wikipedia.org/wiki/Long_code_(mathematics)) ] Long Code\n",
    "* [ [w](https://en.wikipedia.org/wiki/Low-density_parity-check_code) ] Low-Density Parity-Check (LDPC) Code\n",
    "* [ [w](https://en.wikipedia.org/wiki/Luby_transform_code) ] LT Code\n",
    "* [ [w](https://en.wikipedia.org/wiki/LZ77_and_LZ78) ] LZ77/LZ78\n",
    "* [ [w](https://en.wikipedia.org/wiki/Markov_chain) ] Markov Chain\n",
    "* [ w ] Maximum Likelihood Decoding\n",
    "* [ w ] Minimum Distance Decoding\n",
    "* [ [w](https://en.wikipedia.org/wiki/Multidimensional_parity-check_code) ] Multidimensional Parity-Check Code\n",
    "* [ w ] Nearest Neighbor Decoding\n",
    "* [ [w](https://en.wikipedia.org/wiki/Negafibonacci_coding) ] NegaFibonacci Coding\n",
    "* [ [w](https://en.wikipedia.org/wiki/Noisy-channel_coding_theorem) ] Noisy-Channel Coding Theorem\n",
    "* [ [w](https://en.wikipedia.org/wiki/Noisy_channel_model) ] Noisy Channel Model\n",
    "* [ [w](https://en.wikipedia.org/wiki/Online_codes) ] Online Code\n",
    "* [ [w](https://en.wikipedia.org/wiki/Packet_erasure_channel) ] Packet Erasure Channel\n",
    "* [ [w](https://en.wikipedia.org/wiki/Parity_bit) ] Parity Bit\n",
    "* [ [w](https://en.wikipedia.org/wiki/Parity-check_matrix) ] Parity Check Matrix\n",
    "* [ [w](https://en.wikipedia.org/wiki/Hamming_bound#Perfect_codes) ] Perfect Code\n",
    "* [ [w](https://en.wikipedia.org/wiki/Plotkin_bound) ] Plotkin Bound\n",
    "* [ [w](https://en.wikipedia.org/wiki/Polar_code_(coding_theory)) ] Polar Code\n",
    "* [ [w](https://en.wikipedia.org/wiki/Polynomial_code) ] Polynomial Code\n",
    "* [ [w](https://en.wikipedia.org/wiki/Prefix_code) ] Prefix Code\n",
    "* [ [w](https://en.wikipedia.org/wiki/Punctured_code) ] Punctured Code\n",
    "* [ [w](https://en.wikipedia.org/wiki/Range_coding) ] Range Coding\n",
    "* [ [w](https://en.wikipedia.org/wiki/Raptor_code) ] Raptor Code\n",
    "* [ [w](https://en.wikipedia.org/wiki/Reed%E2%80%93Muller_code) ] Reed-Muller Code\n",
    "* [ [w](https://en.wikipedia.org/wiki/Reed%E2%80%93Solomon_error_correction) ] Reed-Solomon Code\n",
    "* [ [w](https://en.wikipedia.org/wiki/Repeat-accumulate_code) ] Repeat-Accumulate Code\n",
    "* [ [w](https://en.wikipedia.org/wiki/Repetition_code) ] Repetition Code\n",
    "* [ [w](https://en.wikipedia.org/wiki/Return_channel) ] Return Channel\n",
    "* [ [w](https://en.wikipedia.org/wiki/Sardinas%E2%80%93Patterson_algorithm) ] Sardinas-Patterson Algorithm\n",
    "* [ [w](https://en.wikipedia.org/wiki/Segal%27s_law) ] Segal's Law\n",
    "* [ [w](https://en.wikipedia.org/wiki/Self-clocking_signal) ] Self-Clocking Signal\n",
    "* [ [w](https://en.wikipedia.org/wiki/Self-synchronizing_code) ] Self-Synchronizing Code\n",
    "* [ [w](https://en.wikipedia.org/wiki/Sequential_decoding) ] Sequential Decoding\n",
    "* [ [w](https://en.wikipedia.org/wiki/Serial_concatenated_convolutional_codes) ] Serial Concatenated Convolutional Code\n",
    "* [ [w](https://en.wikipedia.org/wiki/Shannon%E2%80%93Fano%E2%80%93Elias_coding) ] Shannon-Fano-Elias Coding\n",
    "* [ [w](https://en.wikipedia.org/wiki/Shannon%E2%80%93Hartley_theorem) ] Shannon-Hartley Theorem\n",
    "* [ [w](https://en.wikipedia.org/wiki/Noisy-channel_coding_theorem) ] Shannon's Theorem\n",
    "* [ [w](https://en.wikipedia.org/wiki/Shannon%27s_source_coding_theorem) ] Shannon's Source Coding Theorem\n",
    "* [ [w](https://en.wikipedia.org/wiki/Singleton_bound) ] Singleton Bound\n",
    "* [ [w](https://en.wikipedia.org/wiki/Standard_array) ] Slepian Array\n",
    "* [ [w](https://en.wikipedia.org/wiki/Soft-decision_decoder) ] Soft-Decision Decoder\n",
    "* [ [w](https://en.wikipedia.org/wiki/Soft-in_soft-out_decoder) ] Soft-In Soft-Out Decoder\n",
    "* [ [w](https://en.wikipedia.org/wiki/Data_compression) ] Source Coding\n",
    "* [ [w](https://en.wikipedia.org/wiki/Standard_array) ] Standard Array\n",
    "* [ [w](https://en.wikipedia.org/wiki/Symbol_rate) ] Symbol Rate\n",
    "* [ w ] Syndrome\n",
    "* [ [w](https://en.wikipedia.org/wiki/Decoding_methods#Syndrome_decoding) ] Syndrome Decoding\n",
    "* [ [w](https://en.wikipedia.org/wiki/Systematic_code) ] Systematic Code\n",
    "* [ [w](https://en.wikipedia.org/wiki/Ternary_Golay_code) ] Ternary Golay Code\n",
    "* [ [w](https://en.wikipedia.org/wiki/Tornado_code) ] Tornado Code\n",
    "* [ [w](https://en.wikipedia.org/wiki/Trellis_(graph)) ] Trellis\n",
    "* [ [w](https://en.wikipedia.org/wiki/Triple_modular_redundancy) ] Triple Modular Redundancy\n",
    "* [ [w](https://en.wikipedia.org/wiki/Turbo_code) ] Turbo Code\n",
    "* [ [w](https://en.wikipedia.org/wiki/Unary_coding) ] Unary Coding\n",
    "* [ [w](https://en.wikipedia.org/wiki/Universal_code_(data_compression)) ] Universal Code\n",
    "* [ [w](https://en.wikipedia.org/wiki/Variable-length_code) ] Variable-Length Code\n",
    "* [ [w](https://en.wikipedia.org/wiki/Varicode) ] Varicode\n",
    "* [ [w](https://en.wikipedia.org/wiki/Viterbi_algorithm) ] Viterbi Algorithm\n",
    "* [ [w](https://en.wikipedia.org/wiki/Viterbi_decoder) ] Viterbi Decoder\n",
    "* [ [w](https://en.wikipedia.org/wiki/Word_(computer_architecture)) ] Word\n",
    "* [ [w](https://en.wikipedia.org/wiki/Wozencraft_ensemble) ] Wozencraft Ensemble\n",
    "* [ [w](https://en.wikipedia.org/wiki/Z-channel_(information_theory)) ] Z Channel\n",
    "* [ [w](https://en.wikipedia.org/wiki/Zyablov_bound) ] Zyablov Bound"
   ]
  },
  {
   "cell_type": "markdown",
   "metadata": {},
   "source": [
    "---"
   ]
  }
 ],
 "metadata": {
  "language_info": {
   "name": "python"
  }
 },
 "nbformat": 4,
 "nbformat_minor": 2
}
