{
 "cells": [
  {
   "cell_type": "markdown",
   "metadata": {},
   "source": [
    "# Mathematical Coding"
   ]
  },
  {
   "cell_type": "markdown",
   "metadata": {},
   "source": [
    "---"
   ]
  },
  {
   "cell_type": "markdown",
   "metadata": {},
   "source": [
    "## Table of Contents\n",
    "```{contents}\n",
    "```"
   ]
  },
  {
   "cell_type": "markdown",
   "metadata": {},
   "source": [
    "---"
   ]
  },
  {
   "cell_type": "markdown",
   "metadata": {},
   "source": [
    "## Sections\n",
    "```{tableofcontents}\n",
    "```"
   ]
  },
  {
   "cell_type": "markdown",
   "metadata": {},
   "source": [
    "---"
   ]
  },
  {
   "cell_type": "markdown",
   "metadata": {},
   "source": [
    "## Resources"
   ]
  },
  {
   "cell_type": "markdown",
   "metadata": {},
   "source": [
    "Ben Eater\n",
    "* [ [y](https://www.youtube.com/watch?v=h0jloehRKas) ] Ben Eater. (2020). \"What is error correction? Hamming codes in hardware\". YouTube.\n",
    "* [ [y](https://www.youtube.com/watch?v=MgkhrBSjhag) ] Ben Eater. (2018). \"Error detection: Parity checking\". YouTube.\n",
    "* [ [y](https://www.youtube.com/watch?v=eq5YpKHXJDM) ] Ben Eater. (2018). \"Reliable data transmission\". YouTube.\n",
    "\n",
    "3Blue1Brown\n",
    "* [ [y](https://www.youtube.com/watch?v=X8jsijhllIA) ] Grant Sanderson. (2020). \"Hamming codes and error correction\". YouTube.\n",
    "* [ [y](https://www.youtube.com/watch?v=b3NxrZOu_CE) ] Grant Sanderson. (2020). \"Hamming codes part 2, the elegance of it all\". YouTube.\n",
    "\n",
    "more\n",
    "* [ [y](https://www.youtube.com/watch?v=_CPxe8yql0Q) ] `11-23-2023`. Primal Space. \"Voyager's 15 Billion Mile Software Update\"."
   ]
  },
  {
   "cell_type": "markdown",
   "metadata": {},
   "source": [
    "---"
   ]
  },
  {
   "cell_type": "markdown",
   "metadata": {},
   "source": [
    "## Figures"
   ]
  },
  {
   "cell_type": "markdown",
   "metadata": {},
   "source": [
    "* [ [w](https://en.wikipedia.org/wiki/Richard_Hamming) ] Hamming, Richard (1915-1998)\n",
    "* [ [w](https://en.wikipedia.org/wiki/Claude_Shannon) ] Shannon, Claude (1916-2001)"
   ]
  },
  {
   "cell_type": "markdown",
   "metadata": {},
   "source": [
    "---"
   ]
  },
  {
   "cell_type": "markdown",
   "metadata": {},
   "source": [
    "## Texts"
   ]
  },
  {
   "cell_type": "markdown",
   "metadata": {},
   "source": [
    "* Ball, Simeon. (2020). _A Course in Algebraic Error-Correcting Codes_.\n",
    "* Berlekamp, Elwyn R. (2015). _Algebraic Coding Theory_.\n",
    "* Bierbrauer, Jurgen. (2016). _Introduction to Coding Theory_.\n",
    "* Biggs, Norman L. _Codes: An Introduction to Information Communication and Cryptography_. Springer Undergraduate Mathematics Series.\n",
    "* Blahut, Richard E. (2003). _Algebraic Codes for Data Transmission_. Cambridge University Press.\n",
    "* Brzezinski, Juliusz. (2018). _Galois Theory Through Exercises_. Springer.\n",
    "* Csiszár, Imre & János Körner. (2011). _Information Theory: Coding Theorems for Discrete Memoryless Systems_. Cambridge University Press.\n",
    "* Golomb, Solomon W., Robert E. Peile, & Robert A. Scholtz. (1994). _Basic Concepts in Information Theory and Coding: The Adventures of Secret Agent 00111_. Springer.\n",
    "* Hamming, Richard W. (1985). _Coding and Information Theory_.\n",
    "* Hill, Raymond. (1990). _A First Course in Coding Theory_. Clarendon Press: Oxford Applied Mathematics and Computing Science Series.\n",
    "* Huffman, W. Cary. & Vera Pless. (2010). _Fundamentals of Error-Correcting Codes_. Cambridge University Press.\n",
    "* Humphreys, J. F. & M. Y. Prest. (2004). _Numbers, Groups, and Codes, 2nd Ed_. Cambridge University Press.\n",
    "* Jones, Gareth A. & J. Mary Jones. (2000) _Information and Coding Theory_. Springer Undergraduate Mathematics Series.\n",
    "* MacWilliams, F. J. & N. J. A. Sloane. (1977). _The Theory of Error-Correcting Codes_.\n",
    "* Moon, Todd K. (2021). _Error Correction Coding: Mathematical Methods and Algorithms_. Wiley.\n",
    "* Moser, Stefan M. & Po-Ning Chen. (2012). _A Student's Guide to Coding and Information Theory_. Cambridge University Press.\n",
    "* Neubauer, Andre. (2007). _Coding Theory: Algorithms, Architectures, and Applications_. Wiley.\n",
    "* Peterson, W. Wesley. (1972). _Error-Correcting Codes_. 2nd Ed. MIT Press.\n",
    "* Pierce, John R. (1980). _An Introduction to Information Theory: Symbols, Signals, and Noise_. Dover.\n",
    "* Pretzel, Oliver. (1992). _Error-Correcting Codes and Finite Fields_. Oxford University Press Applied Mathematics and Computing Science Series.\n",
    "* Reza, Fazlollah M. (1994). _An Introduction to Information Theory_. Dover.\n",
    "* Roman, Steven. (1997). _Introduction to Coding and Information Theory_. Springer Undergraduate Texts in Mathematics.\n",
    "* Roman, Steven. (1992). _Coding and Information Theory_. Springer Graduate Texts in Mathematics.\n",
    "* Roth, Ron. (2006). _Introduction to Coding Theory_. Cambridge University Press.\n",
    "* Sanvicente, Emilio. (2019). _Understanding Error Control Coding_. Springer.\n",
    "* Stepanov, Serguei A. (1999). _Codes on Algebraic Curves_. Springer.\n",
    "* Sweeney, Peter. (2002). _Error Control Coding: From Theory to Practice_. Wiley.\n",
    "* Tomlinson et al. (2017). _Error-Correction and Decoding: Bounds, Codes, Decoders, Analysis, and Applications_. Springer Signals and Communication Technology.\n",
    "* Trappe, Wade & Lawrence Washington. (2005). _Introduction to Cryptography with Coding Theory_. Pearson.\n",
    "* Van Lint, J. H. (1999). _Introduction to Coding Theory, 3rd Ed_. Springer Graduate Texts in Mathematics."
   ]
  },
  {
   "cell_type": "markdown",
   "metadata": {},
   "source": [
    "---"
   ]
  },
  {
   "cell_type": "markdown",
   "metadata": {},
   "source": [
    "## Terms"
   ]
  },
  {
   "cell_type": "markdown",
   "metadata": {},
   "source": [
    "* [ [w](https://en.wikipedia.org/wiki/BCH_code) ] BCH Code\n",
    "* [ [w](https://en.wikipedia.org/wiki/Binary_code) ] Binary Code\n",
    "* [ [w](https://en.wikipedia.org/wiki/Bit_error_rate) ] Bit Error Rate\n",
    "* [ [w](https://en.wikipedia.org/wiki/Bit_rate) ] Bit Rate\n",
    "* [ [w](https://en.wikipedia.org/wiki/Data_compression) ] Bit Rate Reduction\n",
    "* [ [w](https://en.wikipedia.org/wiki/Block_code) ] Block Code\n",
    "* [ [w](https://en.wikipedia.org/wiki/Channel_capacity) ] Channel Capacity\n",
    "* [ [w](https://en.wikipedia.org/wiki/Error_detection_and_correction) ] Channel Coding\n",
    "* [ [w](https://en.wikipedia.org/wiki/Code) ] Code\n",
    "* [ [w](https://en.wikipedia.org/wiki/Code_rate) ] Code Rate\n",
    "* [ [w](https://en.wikipedia.org/wiki/Code_word) ] Codeword\n",
    "* [ [w](https://en.wikipedia.org/wiki/Coding_theory) ] Coding Theory\n",
    "* [ [w](https://en.wikipedia.org/wiki/Convolutional_code) ] Convolutional Code\n",
    "* [ [w](https://en.wikipedia.org/wiki/Cryptography) ] Cryptography\n",
    "* [ [w](https://en.wikipedia.org/wiki/Cyclic_code) ] Cyclic Code\n",
    "* [ [w](https://en.wikipedia.org/wiki/Cyclic_redundancy_check) ] Cyclic Redundancy Check (CRC)\n",
    "* [ [w](https://en.wikipedia.org/wiki/Computation_of_cyclic_redundancy_checks) ] Cyclic Redundancy Check, Computation\n",
    "* [ [w](https://en.wikipedia.org/wiki/Data_compression) ] Data Compression\n",
    "* [ [w](https://en.wikipedia.org/wiki/Decoding_methods) ] Decoding\n",
    "* [ [w](https://en.wikipedia.org/wiki/Error_detection_and_correction) ] Error Detection and Correction\n",
    "* [ [w](https://en.wikipedia.org/wiki/Error_correction_code) ] Error-Correcting Code (ECC)\n",
    "* [ w ] FEC Forward Error Correction\n",
    "* [ [w](https://en.wikipedia.org/wiki/Golay_code) ] Golay Code\n",
    "* [ [w](https://en.wikipedia.org/wiki/Goppa_code) ] Goppa Code\n",
    "* [ [w](https://en.wikipedia.org/wiki/Hadamard_code) ] Hadamard Code\n",
    "* [ [w](https://en.wikipedia.org/wiki/Hamming_code) ] Hamming Code\n",
    "* [ [w](https://en.wikipedia.org/wiki/Hamming_distance) ] Hamming Distance\n",
    "* [ [w](https://en.wikipedia.org/wiki/Bit_rate#Information_rate) ] Information Rate\n",
    "* [ [w](https://en.wikipedia.org/wiki/Information_theory) ] Information Theory\n",
    "* [ [w](https://en.wikipedia.org/wiki/Line_code) ] Line Code\n",
    "* [ [w](https://en.wikipedia.org/wiki/Linear_code) ] Linear Code\n",
    "* [ [w](https://en.wikipedia.org/wiki/Low-density_parity-check_code) ] Low-Density Parity-Check (LDPC) Code\n",
    "* [ w ] Maximum Likelihood Decoding\n",
    "* [ w ] Minimum Distance Decoding\n",
    "* [ [w](https://en.wikipedia.org/wiki/Noisy-channel_coding_theorem) ] Noisy-Channel Coding Theorem\n",
    "* [ [w](https://en.wikipedia.org/wiki/Noisy_channel_model) ] Noisy Channel Model\n",
    "* [ [w](https://en.wikipedia.org/wiki/Parity_bit) ] Parity Bit\n",
    "* [ [w](https://en.wikipedia.org/wiki/Hamming_bound#Perfect_codes) ] Perfect Code\n",
    "* [ [w](https://en.wikipedia.org/wiki/Plotkin_bound) ] Plotkin Bound\n",
    "* [ [w](https://en.wikipedia.org/wiki/Polar_code_(coding_theory)) ] Polar Code\n",
    "* [ [w](https://en.wikipedia.org/wiki/Polynomial_code) ] Polynomial Code\n",
    "* [ [w](https://en.wikipedia.org/wiki/Reed%E2%80%93Muller_code) ] Reed-Muller Code\n",
    "* [ [w](https://en.wikipedia.org/wiki/Reed%E2%80%93Solomon_error_correction) ] Reed-Solomon Code\n",
    "* [ [w](https://en.wikipedia.org/wiki/Repetition_code) ] Repetition Code\n",
    "* [ [w](https://en.wikipedia.org/wiki/Noisy-channel_coding_theorem) ] Shannon's Theorem\n",
    "* [ [w](https://en.wikipedia.org/wiki/Data_compression) ] Source Coding\n",
    "* [ [w](https://en.wikipedia.org/wiki/Decoding_methods#Syndrome_decoding) ] Syndrome Decoding"
   ]
  },
  {
   "cell_type": "markdown",
   "metadata": {},
   "source": [
    "---"
   ]
  }
 ],
 "metadata": {
  "language_info": {
   "name": "python"
  }
 },
 "nbformat": 4,
 "nbformat_minor": 2
}
