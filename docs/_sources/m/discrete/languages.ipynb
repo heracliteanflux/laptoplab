{
 "cells": [
  {
   "cell_type": "markdown",
   "metadata": {},
   "source": [
    "# Formal Languages and Machines\n",
    "```{contents}\n",
    "```"
   ]
  },
  {
   "cell_type": "markdown",
   "metadata": {},
   "source": [
    "---\n",
    "---\n",
    "---"
   ]
  },
  {
   "cell_type": "markdown",
   "metadata": {},
   "source": [
    "## Strings"
   ]
  },
  {
   "cell_type": "markdown",
   "metadata": {},
   "source": [
    "---"
   ]
  },
  {
   "cell_type": "markdown",
   "metadata": {},
   "source": [
    "<div style=\"font-family: Arial, sans-serif; font-size: 16px; transform: scale(1, 1);\">\n",
    "<b>Alphabet and Symbol</b>\n",
    "</div><br>\n",
    "\n",
    "An ***alphabet*** is a non-empty, finite set and the elements of an alphabet are called the ***symbols*** of the alphabet.\n",
    "\n",
    "We use capital Greek letters to denote alphabets."
   ]
  },
  {
   "cell_type": "markdown",
   "metadata": {},
   "source": [
    "<div style=\"font-family: Arial, sans-serif; font-size: 16px; transform: scale(1, 1);\">\n",
    "<b>String</b>\n",
    "</div><br>\n",
    "\n",
    "A ***string*** (or ***word***) over an alphabet is a finite sequence of symbols from that alphabet.\n",
    "\n",
    "For example, $01001$ is a string over the alphabet $\\Sigma = \\{ 0, 1 \\}$ and $abracadabra$ is a word over the English alphabet $\\Sigma = \\{ a, \\dots, z \\}$."
   ]
  },
  {
   "cell_type": "markdown",
   "metadata": {},
   "source": [
    "<div style=\"font-family: Arial, sans-serif; font-size: 16px; transform: scale(1, 1);\">\n",
    "<b>Sets of strings</b>\n",
    "</div><br>\n",
    "\n",
    "The set of all strings of length $n$ over the alphabet $\\Sigma$ is denoted $\\Sigma^n$.\n",
    "\n",
    "The set of all strings over the alphabet $\\Sigma$ including the empty string $\\varepsilon$ is denoted $\\Sigma^* := \\bigcup_{i \\in \\mathbb{N}} \\Sigma^i$."
   ]
  },
  {
   "cell_type": "markdown",
   "metadata": {},
   "source": [
    "<div style=\"font-family: Arial, sans-serif; font-size: 16px; transform: scale(1, 1);\">\n",
    "<b>String Length</b>\n",
    "</div><br>\n",
    "\n",
    "If $w$ is a string over $\\Sigma$ then $|w|$ is called the ***length*** of $w$ and is defined as the number of symbols that it contains.\n",
    "\n",
    "The string of length zero is called the ***empty string*** and is written $\\varepsilon$.\n",
    "\n",
    "If $w$ has length $n$ we can write $w = w_1 w_2 \\dots w_n$ where each $w_i \\in \\Sigma$."
   ]
  },
  {
   "cell_type": "markdown",
   "metadata": {},
   "source": [
    "<div style=\"font-family: Arial, sans-serif; font-size: 16px; transform: scale(1, 1);\">\n",
    "<b>String Reversal</b>\n",
    "</div><br>\n",
    "\n",
    "The ***reverse*** of $w$ is the string obtained by writing $w$ in the opposite order $w_n w_{n - 1} \\dots w_1$ and is denoted $w^\\mathcal{R}$."
   ]
  },
  {
   "cell_type": "markdown",
   "metadata": {},
   "source": [
    "<div style=\"font-family: Arial, sans-serif; font-size: 16px; transform: scale(1, 1);\">\n",
    "<b>Substring</b>\n",
    "</div><br>\n",
    "\n",
    "String $z$ is a ***substring*** of $w$ if $z$ appears consecutively within $w$. For example, $cad$ is a substring of $abracadabra$."
   ]
  },
  {
   "cell_type": "markdown",
   "metadata": {},
   "source": [
    "<div style=\"font-family: Arial, sans-serif; font-size: 16px; transform: scale(1, 1);\">\n",
    "<b>String Concatenation</b>\n",
    "</div><br>\n",
    "\n",
    "Given string $x$ of length $m$ and string $y$ of length $n$ the concatenation of $x$ and $y$ is denoted $xy$ and is defined as the string obtained by appending $y$ to the end of $x$ as in $x_1 \\dots x_m y_1 \\dots y_n$.\n",
    "\n",
    "A string concatenated with itself $k$ times is denoted $x^k = \\underbrace{x \\dots x}_{k}$"
   ]
  },
  {
   "cell_type": "markdown",
   "metadata": {},
   "source": [
    "<div style=\"font-family: Arial, sans-serif; font-size: 16px; transform: scale(1, 1);\">\n",
    "<b>Lexicographic Order</b>\n",
    "</div><br>\n",
    "\n",
    "The ***lexicographic order*** of strings is just dictionary order.\n",
    "\n",
    "For example, the lexicographic order of all strings over the alphabet $\\{ 0, 1 \\}$ is $\\{ \\varepsilon, 0, 00, 000, \\dots, 001, 01, 010, \\dots, 011, 1, 10, 100, \\dots, 101, 11, 110, \\dots, 111, \\dots \\}$."
   ]
  },
  {
   "cell_type": "markdown",
   "metadata": {},
   "source": [
    "<div style=\"font-family: Arial, sans-serif; font-size: 16px; transform: scale(1, 1);\">\n",
    "<b>Shortlex Order</b>\n",
    "</div><br>\n",
    "\n",
    "The ***shortlex order*** (or ***string order***) of strings is a modified lexicographic order in which shorter strings precede longer strings.\n",
    "\n",
    "For example, the shortlex order of all strings over the alphabet $\\{ 0, 1 \\}$ is $\\{ \\varepsilon, 0, 1, 00, 01, 10, 11, 000, 001, 010, 011, 100, 101, 110, 111, \\dots \\}$."
   ]
  },
  {
   "cell_type": "markdown",
   "metadata": {},
   "source": [
    "<div style=\"font-family: Arial, sans-serif; font-size: 16px; transform: scale(1, 1);\">\n",
    "<b>Prefix and Proper Prefix</b>\n",
    "</div><br>\n",
    "\n",
    "String $x$ is a ***prefix*** of string $y$ if there is a string $z$ s.t. $xz = y$.\n",
    "\n",
    "String $x$ is a ***proper prefix*** of string $y$ if there is a string $z$ s.t. $xz = y$ and $x \\ne y$ (i.e., $z \\ne \\varepsilon$)."
   ]
  },
  {
   "cell_type": "markdown",
   "metadata": {},
   "source": [
    "---"
   ]
  },
  {
   "cell_type": "markdown",
   "metadata": {},
   "source": [
    "## Languages"
   ]
  },
  {
   "cell_type": "markdown",
   "metadata": {},
   "source": [
    "<div style=\"font-family: Arial, sans-serif; font-size: 16px; transform: scale(1, 1);\">\n",
    "<b>Language</b>\n",
    "</div><br>\n",
    "\n",
    "A ***language*** $L$ is a set of strings over an alphabet $\\Sigma$.\n",
    "\n",
    "Note that $L \\subseteq \\Sigma^*$.\n",
    "\n",
    "The language with no words is called the ***empty language*** and is denoted $\\varnothing$.\n",
    "\n",
    "A language is ***prefix free*** if no element is a proper prefix of another element."
   ]
  },
  {
   "cell_type": "markdown",
   "metadata": {},
   "source": [
    "---"
   ]
  },
  {
   "cell_type": "markdown",
   "metadata": {},
   "source": [
    "### Regular Languages"
   ]
  },
  {
   "cell_type": "markdown",
   "metadata": {},
   "source": [
    "A language is called ***regular*** if some finite automaton regonizes it."
   ]
  },
  {
   "cell_type": "markdown",
   "metadata": {},
   "source": [
    "#### Regular Operations"
   ]
  },
  {
   "cell_type": "markdown",
   "metadata": {},
   "source": [
    "Regular operations are operations defined on regular languages."
   ]
  },
  {
   "cell_type": "markdown",
   "metadata": {},
   "source": [
    "##### Union"
   ]
  },
  {
   "cell_type": "markdown",
   "metadata": {},
   "source": [
    "Let $A$ and $B$ be languages. The regular operation ***union*** is defined as\n",
    "\n",
    "$$A \\cup B = \\{ x : x \\in A \\,\\,\\text{or}\\,\\, x \\in B \\}$$"
   ]
  },
  {
   "cell_type": "markdown",
   "metadata": {},
   "source": [
    "##### Concatenation"
   ]
  },
  {
   "cell_type": "markdown",
   "metadata": {},
   "source": [
    "Let $A$ and $B$ be languages. The regular operation ***concatenation*** is defined as\n",
    "\n",
    "$$A \\circ B = \\{ xy : x \\in A \\,\\,\\text{and}\\,\\, y \\in B \\}$$"
   ]
  },
  {
   "cell_type": "markdown",
   "metadata": {},
   "source": [
    "##### Star"
   ]
  },
  {
   "cell_type": "markdown",
   "metadata": {},
   "source": [
    "Let $A$ be a language. The regular operation ***star*** is defined as\n",
    "\n",
    "$$A^* = \\{ x_1 x_2 \\dots x_k : k \\ge 0, x_i \\in A \\}$$"
   ]
  },
  {
   "cell_type": "markdown",
   "metadata": {},
   "source": [
    "---"
   ]
  },
  {
   "cell_type": "markdown",
   "metadata": {},
   "source": [
    "[Example]\n",
    "\n",
    "$\n",
    "\\begin{aligned}\n",
    "        A &= \\{ 0, 1 \\} \\\\\n",
    "        B &= \\{ 0, 1 \\} \\\\\n",
    "A \\cup  B &= \\{ 0, 1 \\} \\\\\n",
    "A \\circ B &= \\{ 00, 01, 10, 11 \\} \\\\\n",
    "A^* = B^* &= \\{ \\varepsilon, 0, 1, 00, 01, 10, 11, 000, 001, 010, 011, \\dots \\} \\\\\n",
    "\\end  {aligned}\n",
    "$"
   ]
  },
  {
   "cell_type": "markdown",
   "metadata": {},
   "source": [
    "[Example]\n",
    "\n",
    "$\n",
    "\\begin{aligned}\n",
    "        A &= \\{ \\text{bat}, \\text{cat} \\} \\\\\n",
    "        B &= \\{ \\text{nat}, \\text{rat} \\} \\\\\n",
    "A \\cup  B &= \\{ \\text{bat}, \\text{cat}, \\text{nat}, \\text{rat} \\} \\\\\n",
    "A \\circ B &= \\{ \\text{batnat}, \\text{batrat}, \\text{catnat}, \\text{catrat} \\} \\\\\n",
    "      A^* &= \\{ \\varepsilon, \\text{bat}, \\text{cat}, \\text{batbat}, \\text{batcat}, \\text{catbat}, \\text{catcat}, \\text{batbatbat}, \\text{batbatcat}, \\text{batcatbat}, \\text{batcatcat}, \\dots \\} \\\\\n",
    "\\end  {aligned}\n",
    "$"
   ]
  },
  {
   "cell_type": "markdown",
   "metadata": {},
   "source": [
    "---"
   ]
  },
  {
   "cell_type": "markdown",
   "metadata": {},
   "source": [
    "#### Properties of Regular Languages"
   ]
  },
  {
   "cell_type": "markdown",
   "metadata": {},
   "source": [
    "---"
   ]
  },
  {
   "cell_type": "markdown",
   "metadata": {},
   "source": [
    "##### Closure under Regular Union"
   ]
  },
  {
   "cell_type": "markdown",
   "metadata": {},
   "source": [
    "<span style=\"color: blue\"><b>THEOREM</b></span> [Sipser pp. 45, 1.45 pp. 59]\n",
    "\n",
    "> The class of regular languages is closed under the union operation.  \n",
    ">  \n",
    "> In other words, if $A$ and $B$ are regular languages then $A \\cup B$ is a regular language.  "
   ]
  },
  {
   "cell_type": "markdown",
   "metadata": {},
   "source": [
    "<span style=\"color: lightblue\"><b>Proof Idea</b></span>\n",
    "\n",
    "Since $A$ and $B$ are regular there are finite automata $M_1$ and $M_2$ that recognize them. To show that $A \\cup B$ is regular is to show that some finite automaton $M$ constructed from $M_1$ and $M_2$ recognizes it.\n",
    "\n",
    "$M$ is constructed from $M_1$ and $M_2$ in the sense that it simulates them.  \n",
    "\n",
    "$M$ accepts its input whenever $M_1$ or $M_2$ accepts their input.  \n",
    "\n",
    "If $M_1$ has $k_1$ states and $M_2$ has $k_2$ states then the number of states in $M$ is $k_1 \\times k_2$.  \n",
    "\n",
    "The transitions of $M$ go from pair to pair and update the current state for both $M_1$ and $M_2$.  \n",
    "\n",
    "The accept states of $M$ are those pairs wherein either $M_1$ or $M_2$ is in an accept state."
   ]
  },
  {
   "cell_type": "markdown",
   "metadata": {},
   "source": [
    "$Proof \\,\\, by \\,\\, construction$ <b>via deterministic simulation</b>\n",
    "\n",
    "> Let $M_1 = (Q_1, \\Sigma_1, \\delta_1, q_1, F_1)$ recognize $A_1$ and let $M_2 = (Q_2, \\Sigma_2, \\delta_2, q_2, F_2)$ recognize $A_2$.  \n",
    "> Construct $M = (Q, \\Sigma, \\delta, q_0, F)$ to recognize $A_1 \\cup A_2$.  \n",
    ">   \n",
    "\n",
    "$$\n",
    "\\begin{align*}\n",
    "Q\n",
    "&= \\{ (r_1, r_2) : r_1 \\in Q_1 \\,\\,\\text{and}\\,\\, r_2 \\in Q_2 \\} \\\\\n",
    "&= Q_1 \\times Q_2 \\\\\n",
    "\\end  {align*}\n",
    "$$\n",
    "\n",
    "> $\\Sigma = \\Sigma_1 \\cup \\Sigma_2$  \n",
    "> For each $(r_1, r_2) \\in Q$ and each $a \\in \\Sigma$ let $\\delta((r_1, r_2), a) = (\\delta_1 (r_1, a), \\delta_2 (r_2, a))$  \n",
    "> $q_0 = (q_1, q_2)$  \n",
    "> $F$ is the set of pairs in which either member is an accept state of $M_1$ or $M_2$.  \n",
    "\n",
    "$$\n",
    "\\begin{align*}\n",
    "F\n",
    "&= \\{ (r_1, r_2) : r_1 \\in F_1 \\,\\,\\text{or}\\,\\, r_2 \\in F_2 \\} \\\\\n",
    "&= (F_1 \\times Q_2) \\cup (Q_1 \\times F_2) \\\\\n",
    "\\end  {align*}\n",
    "$$\n",
    "\n",
    "$\\blacksquare$"
   ]
  },
  {
   "cell_type": "markdown",
   "metadata": {},
   "source": [
    "<span style=\"color: lightblue\"><b>Proof Idea</b></span>\n",
    "\n",
    "We have two regular languages $A_1, A_2$ and we want to show that $A_1 \\cup A_2$ is a regular language.\n",
    "\n",
    "The idea is to take two NFAs $N_1, N_2$ for regular languages $A_1, A_2$ and combine them into a new NFA $N$ to recognize $A_1 \\cup A_2$.\n",
    "\n",
    "This is achieved in the following way.\n",
    "\n",
    "$N$ accepts its input if either $N_1$ or $N_2$ accepts the input. $N$ has a start state that branches to the start states of the old machines with $\\varepsilon$ arrows. $N$ non-deterministically guesses which of the two machines accepts the input: if one of them accepts the input then $N$ accepts it too."
   ]
  },
  {
   "cell_type": "markdown",
   "metadata": {},
   "source": [
    "$Proof$ <b>via non-deterministic simulation</b>\n",
    "\n",
    "Let NFA $N_1 = (Q_1, \\Sigma, \\delta_1, q_1, F_1)$ recognize $A_1$ and let NFA $N_2 = (Q_2, \\Sigma, \\delta_2, q_2, F_2)$ recognize $A_2$.\n",
    "\n",
    "Construct NFA $N = (Q, \\Sigma, \\delta, q_0, F)$ to recognize $A_1 \\cup A_2$.\n",
    "\n",
    "$1\\quad$ $Q = \\{ q_0 \\} \\cup Q_1 \\cup Q_2$ $\\quad$ The states of $N$ are all the states of $N_1$ and $N_2$ with the addition of a new start state $q_0$. <br>\n",
    "$2\\quad$ The state $q_0$ is the start state of $N$. <br>\n",
    "$3\\quad$ The set of accept states of $N$ are all the accept states of $N_1$ and $N_2$. That way, $N$ accepts if either $N_1$ accepts or $N_2$ accepts. <br>\n",
    "$4\\quad$ Define $\\delta$ so that for any $q \\in Q$ and any $a \\in \\Sigma_\\varepsilon$\n",
    "\n",
    "$$\n",
    "\\delta(q, a) =\n",
    "\\begin{cases}\n",
    "\\delta_1 (q, a) & q \\in Q_1 \\\\\n",
    "\\delta_2 (q, a) & q \\in Q_2 \\\\\n",
    "\\{ q_1, q_2 \\}  & q = q_0 \\,\\,\\text{and}\\,\\, a = \\varepsilon \\\\\n",
    "\\varepsilon     & q = q_0 \\,\\,\\text{and}\\,\\, a \\ne \\varepsilon \\\\\n",
    "\\end  {cases}\n",
    "$$\n",
    "\n",
    "$\\blacksquare$"
   ]
  },
  {
   "cell_type": "markdown",
   "metadata": {},
   "source": [
    "---"
   ]
  },
  {
   "cell_type": "markdown",
   "metadata": {},
   "source": [
    "##### Closure under Regular Intersection"
   ]
  },
  {
   "cell_type": "markdown",
   "metadata": {},
   "source": [
    "$Theorem$\n",
    "\n",
    "> If $A_1$ and $A_2$ are regular languages then $A_1 \\cap A_2$ is a regular language."
   ]
  },
  {
   "cell_type": "markdown",
   "metadata": {},
   "source": [
    "$Proof \\,\\, by \\,\\, construction$\n",
    "\n",
    "> $F$ is the set of pairs in which both members are accept states of $M_1$ and $M_2$ respectively.  \n",
    "\n",
    "$$\n",
    "\\begin{align*}\n",
    "F\n",
    "&= \\{ (r_1, r_2) : r_1 \\in F_1 \\,\\,\\text{and}\\,\\, r_2 \\in F_2 \\} \\\\\n",
    "&= F_1 \\times F_2 \\\\\n",
    "\\end  {align*}\n",
    "$$\n",
    "\n",
    "$\\blacksquare$"
   ]
  },
  {
   "cell_type": "markdown",
   "metadata": {},
   "source": [
    "---"
   ]
  },
  {
   "cell_type": "markdown",
   "metadata": {},
   "source": [
    "##### Closure under Regular Concatenation"
   ]
  },
  {
   "cell_type": "markdown",
   "metadata": {},
   "source": [
    "<span style=\"color: blue\"><b>THEOREM</b></span> [Sipser 1.47 pp. 60]\n",
    "\n",
    "> The class of regular languages is closed under the concatenation operation.  \n",
    ">  \n",
    "> In other words, if $A_1$ and $A_2$ are regular languages then $A_1 \\circ A_2$ is a regular language. "
   ]
  },
  {
   "cell_type": "markdown",
   "metadata": {},
   "source": [
    "<span style=\"color: lightblue\"><b>Proof Idea</b></span>\n",
    "\n",
    "We have two regular languages $A_1, A_2$ and we want to show that $A_1 \\circ A_2$ is a regular language.\n",
    "\n",
    "The idea is to take two NFAs $N_1, N_2$ for regular languages $A_1, A_2$ and combine them into a new NFA $N$ to recognize $A_1 \\circ A_2$.\n",
    "\n",
    "This is achieved in the following way.\n",
    "\n",
    "Assign $N$'s start state to be the start state of $N_1$. The accept states of $N_1$ have additional $\\varepsilon$ arrows that non-deterministically allow branching to $N_2$ whenever $N_1$ is in an accept state, signifying that it has found an initial piece of the input that constitutes a string in $A_1$. The accept states of $N$ are the accept states of $N_2$ only. Therefore, it accepts when the input can be split into two parts, the first accepted by $N_1$ and the second accepted by $N_2$. $N$ non-deterministically guesses where to make the split."
   ]
  },
  {
   "cell_type": "markdown",
   "metadata": {},
   "source": [
    "$Proof$ <b>via non-deterministic simulation</b>\n",
    "\n",
    "Let NFA $N_1 = (Q_1, \\Sigma, \\delta_1, q_1, F_1)$ recognize $A_1$ and let NFA $N_2 = (Q_2, \\Sigma, \\delta_2, q_2, F_2)$ recognize $A_2$.\n",
    "\n",
    "Construct NFA $N = (Q, \\Sigma, \\delta, q_1, F_2)$ to recognize $A_1 \\circ A_2$.\n",
    "\n",
    "$1\\quad$ $Q = Q_1 \\cup Q_2$ $\\quad$ The states of $N$ are all the states of $N_1$ and $N_2$. <br>\n",
    "$2\\quad$ The state $q_1$ is the same as the start state of $N_1$. <br>\n",
    "$3\\quad$ The accept states $F_2$ are the same as the accept states of $N_2$. <br>\n",
    "$4\\quad$ Define $\\delta$ so that for any $q \\in Q$ and any $a \\in \\Sigma_\\varepsilon$\n",
    "\n",
    "$$\n",
    "\\delta(q, a) =\n",
    "\\begin{cases}\n",
    "\\delta_1 (q, a) & q \\in Q_1 \\,\\,\\text{and}\\,\\, q \\not\\in F_1 \\\\\n",
    "\\delta_1 (q, a) & q \\in F_1 \\,\\,\\text{and}\\,\\, a \\ne \\varepsilon \\\\\n",
    "\\delta_1 (q, a) \\cup \\{ q_2 \\}  & q \\in F_1 \\,\\,\\text{and}\\,\\, a = \\varepsilon \\\\\n",
    "\\delta_2 (q, a) & q \\in Q_2 \\\\\n",
    "\\end  {cases}\n",
    "$$\n",
    "\n",
    "$\\blacksquare$"
   ]
  },
  {
   "cell_type": "markdown",
   "metadata": {},
   "source": [
    "---"
   ]
  },
  {
   "cell_type": "markdown",
   "metadata": {},
   "source": [
    "##### Closure under Regular Star"
   ]
  },
  {
   "cell_type": "markdown",
   "metadata": {},
   "source": [
    "<span style=\"color: blue\"><b>THEOREM</b></span> [Sipser 1.49 pp. 62]\n",
    "\n",
    "> The class of regular languages is closed under the star operation.  \n",
    ">  \n",
    "> In other words, if $A_1$ is a regular language then $A_1^*$ is a regular language. "
   ]
  },
  {
   "cell_type": "markdown",
   "metadata": {},
   "source": [
    "<span style=\"color: lightblue\"><b>Proof Idea</b></span>\n",
    "\n",
    "We have a regular language $A_1$ and we want to show that $A_1^*$ is a regular language.\n",
    "\n",
    "The idea is to take an NFA $N_1$ for regular language $A_1$ and modify it into a new NFA $N$ to recognize $A_1^*$.\n",
    "\n",
    "This is achieved in the following way.\n",
    "\n",
    "$N$ accepts its input whenever it can be broken into several pieces and $N_1$ accepts each piece. We can construct $N$ like $N_1$ with additional $\\varepsilon$ arrows returning to the start state from the accept states. This way, when processing gets to the end of a piece that $N_1$ accepts, the machine $N$ has the option of jumping back to the start state to try to read another piece that $N_1$ accepts. In addition, we must modify $N$ so that it accepts $\\varepsilon$ which is always a member of $A_1^*$.\n",
    "\n",
    "A bad approach is to add the start state to the set of accept states. This has the effect of adding $\\varepsilon$ to the recognized language, but it may also add other undesirable strings.\n",
    "\n",
    "Instead, add a new start state, which is also an accept state and which has an $\\varepsilon$ arrow to the old start state. This solution has the desired effect of adding $\\varepsilon$ to the language without adding anything else."
   ]
  },
  {
   "cell_type": "markdown",
   "metadata": {},
   "source": [
    "$Proof$ <b>via non-deterministic simulation</b>\n",
    "\n",
    "Let NFA $N_1 = (Q_1, \\Sigma, \\delta_1, q_1, F_1)$ recognize $A_1$.\n",
    "\n",
    "Construct NFA $N = (Q, \\Sigma, \\delta, q_0, F)$ to recognize $A_1^*$.\n",
    "\n",
    "$1\\quad$ $Q = \\{ q_0 \\} \\cup Q_1$ $\\quad$ The states of $N$ are the states of $N_1$ and a new start state $q_0$. <br>\n",
    "$2\\quad$ The state $q_0$ is the new start state of $N$. <br>\n",
    "$3\\quad$ $F = \\{ q_0 \\} \\cup F_1$ $\\quad$ The accept states are the old accept states and the new start state. <br>\n",
    "$4\\quad$ Define $\\delta$ so that for any $q \\in Q$ and any $a \\in \\Sigma_\\varepsilon$\n",
    "\n",
    "$$\n",
    "\\delta(q, a) =\n",
    "\\begin{cases}\n",
    "\\delta_1 (q, a)                & q \\in Q_1 \\,\\,\\text{and}\\,\\, q \\not\\in F_1 \\\\\n",
    "\\delta_1 (q, a)                & q \\in F_1 \\,\\,\\text{and}\\,\\, a \\ne \\varepsilon \\\\\n",
    "\\delta_1 (q, a) \\cup \\{ q_1 \\} & q \\in F_1 \\,\\,\\text{and}\\,\\, a = \\varepsilon \\\\\n",
    "\\{ q_1 \\}                      & q = q_0 \\,\\,\\text{and}\\,\\, a   = \\varepsilon \\\\\n",
    "\\varnothing                    & q = q_0 \\,\\,\\text{and}\\,\\, a \\ne \\varepsilon \\\\\n",
    "\\end  {cases}\n",
    "$$\n",
    "\n",
    "$\\blacksquare$"
   ]
  },
  {
   "cell_type": "markdown",
   "metadata": {},
   "source": [
    "---"
   ]
  },
  {
   "cell_type": "markdown",
   "metadata": {},
   "source": [
    "#### Precedence of the regular operations"
   ]
  },
  {
   "cell_type": "markdown",
   "metadata": {},
   "source": [
    "$1\\quad$ star <br>\n",
    "$2\\quad$ concatenation <br>\n",
    "$3\\quad$ union <br>"
   ]
  },
  {
   "cell_type": "markdown",
   "metadata": {},
   "source": [
    "---"
   ]
  },
  {
   "cell_type": "markdown",
   "metadata": {},
   "source": [
    "#### Regular Expressions"
   ]
  },
  {
   "cell_type": "markdown",
   "metadata": {},
   "source": [
    "---"
   ]
  },
  {
   "cell_type": "markdown",
   "metadata": {},
   "source": [
    "We use arithmetical operators over numbers to construct arithmetic expressions which evaluate to numbers. And we use regular operators over symbols to construct regular expressions which evaluate to languages."
   ]
  },
  {
   "cell_type": "markdown",
   "metadata": {},
   "source": [
    "The following definition follows from the definition of the regular operations.\n",
    "\n",
    "<span style=\"color: blue\"><b>DEFINITION</b></span> [Sipser 1.51 pp. 64]\n",
    "\n",
    "> Let $\\Sigma$ be any alphabet.  \n",
    "> The regular expression $\\Sigma$ describes the language consisting of all strings of length $1$ over this alphabet.  \n",
    "> The regular expression $\\Sigma^*$ describes the language consisting of all strings over this alphabet.  "
   ]
  },
  {
   "cell_type": "markdown",
   "metadata": {},
   "source": [
    "<span style=\"color: blue\"><b>INDUCTIVE DEFINITION</b></span> <b>Regular Expression</b> [Sipser 1.52 pp. 64]\n",
    "\n",
    "$R$ is a regular expression if $R$ is <br>\n",
    "$1\\quad$ $a$ for some $a$ in the alphabet $\\Sigma$ $\\quad$ The regular expression $a$ represents the language $\\{ a \\}$ <br>\n",
    "$2\\quad$ $\\varepsilon$ $\\quad$ The regular expression $\\varepsilon$ represents the language $\\{ \\varepsilon \\}$ <br>\n",
    "$3\\quad$ $\\varnothing$ $\\quad$ The regular expression $\\varnothing$ represents the empty language <br>\n",
    "$4\\quad$ $(R_1 \\cup R_2)$ where $R_1$ and $R_2$ are regular expressions $\\quad$ The regular expression $(R_1 \\cup R_2)$ represents the language produced by the union of $R_1$ and $R_2$ <br>\n",
    "$5\\quad$ $(R_1 \\circ R_2)$ where $R_1$ and $R_2$ are regular expressions $\\quad$ The regular expression $(R_1 \\circ R_2)$ represents the language produced by the concatenation of $R_1$ and $R_2$ <br>\n",
    "$6\\quad$ $(R_1^*)$ where $R_1$ is a regular expression $\\quad$ The regular expression $(R_1^*)$ represents the language produced by the star of $R_1$ <br>\n",
    "\n",
    "$\n",
    "\\begin{aligned}\n",
    "R^+ :=&& RR^*                       && \\text{one or more} \\\\\n",
    "R^*  =&& R^+ \\cup \\{ \\varepsilon \\} && \\text{zero or more} \\\\\n",
    "R^k :=&& \\underbrace{R \\dots R}_{k} && k \\,\\,\\text{times} \\\\\n",
    "\\end  {aligned}\n",
    "$\n",
    "\n",
    "To distinguish between a regular expression and the language that it describes we write $L(R)$ to be the language of $R$."
   ]
  },
  {
   "cell_type": "markdown",
   "metadata": {},
   "source": [
    "---"
   ]
  },
  {
   "cell_type": "markdown",
   "metadata": {},
   "source": [
    "##### Examples"
   ]
  },
  {
   "cell_type": "markdown",
   "metadata": {},
   "source": [
    "---"
   ]
  },
  {
   "cell_type": "markdown",
   "metadata": {},
   "source": [
    "<span style=\"color: green\"><b>Example</b></span>\n",
    "\n",
    "$0 \\cup 1$\n",
    "\n",
    "s.h. for $\\{ 0 \\} \\cup \\{ 1 \\} = \\{ 0, 1 \\}$\n",
    "\n",
    "$L(0 \\cup 1) = \\{ w : w \\,\\,\\text{is either}\\,\\, 0 \\,\\,\\text{or}\\,\\, 1 \\}$"
   ]
  },
  {
   "cell_type": "markdown",
   "metadata": {},
   "source": [
    "<span style=\"color: green\"><b>Example</b></span>\n",
    "\n",
    "$0^*$\n",
    "\n",
    "s.h. for $\\{ 0 \\}^* = \\{ \\varepsilon, 0, 00, 000, \\dots \\}$\n",
    "\n",
    "$L(0^*) = \\{ w : w \\,\\,\\text{consists of zero or more}\\,\\, 0 \\,\\,\\text{s} \\}$"
   ]
  },
  {
   "cell_type": "markdown",
   "metadata": {},
   "source": [
    "<span style=\"color: green\"><b>Example</b></span>\n",
    "\n",
    "$\\Sigma 0^* = (0 \\cup 1) 0^* = 0^+ \\cup 10^*$ where $\\Sigma = \\{ 0, 1 \\}$\n",
    "\n",
    "s.h. for\n",
    "$\n",
    "(\\{ 0 \\} \\cup \\{ 1 \\}) \\circ \\{ 0 \\}^*\n",
    "= \\{ 0, 1 \\} \\circ \\{ 0 \\}^* \n",
    "= \\{ 0 \\} \\circ \\{ 0 \\}^* \\cup \\{ 1 \\} \\circ \\{ 0 \\}^*\n",
    "= 00^* \\cup 10^*\n",
    "= 0^+ \\cup 10^*\n",
    "$\n",
    "\n",
    "$L(\\Sigma 0^*) = \\{ w : w \\,\\,\\text{consists of a}\\,\\, 0 \\,\\,\\text{or a}\\,\\, 1 \\,\\,\\text{followed by zero or more}\\,\\, 0 \\,\\,\\text{s}\\}$"
   ]
  },
  {
   "cell_type": "markdown",
   "metadata": {},
   "source": [
    "<span style=\"color: green\"><b>Example</b></span> [Sipser 1.51 pp.64]\n",
    "\n",
    "$(0 \\cup 1)^* = \\Sigma^*$\n",
    "\n",
    "s.h. for $(\\{ 0 \\} \\cup \\{ 1 \\})^* = \\{ 0, 1 \\}^* = \\{ \\varepsilon, 0, 1, 00, 01, 10, 11, 000, 001, 010, 011, 100, 101, 110, 111, \\dots \\}$\n",
    "\n",
    "The language consisting of all possible strings of $0$ s and $1$ s."
   ]
  },
  {
   "cell_type": "markdown",
   "metadata": {},
   "source": [
    "<span style=\"color: green\"><b>Example</b></span>\n",
    "\n",
    "$(0 \\cup 1)^* 1 = \\Sigma^* 1$\n",
    "\n",
    "s.h. for $(\\{ 0 \\} \\cup \\{ 1 \\})^* \\circ \\{ 1 \\} = \\{ 0, 1 \\}^* \\circ \\{ 1 \\} = \\{ \\varepsilon, \\textcolor{red}{\\cancel{0}}, 1, \\textcolor{red}{\\cancel{00}}, 01, \\textcolor{red}{\\cancel{10}}, 11, \\textcolor{red}{\\cancel{000}}, 001, \\textcolor{red}{\\cancel{010}}, 011, \\textcolor{red}{\\cancel{100}}, 101, \\textcolor{red}{\\cancel{110}}, 111, \\dots \\}$\n",
    "\n",
    "The language consisting of all strings that end in a $1$."
   ]
  },
  {
   "cell_type": "markdown",
   "metadata": {},
   "source": [
    "<span style=\"color: green\"><b>Example</b></span>\n",
    "\n",
    "$(0 (0 \\cup 1)^*) \\cup ((0 \\cup 1)^* 1) = (0 \\Sigma^*) \\cup (\\Sigma^* 1)$\n",
    "\n",
    "s.h. for\n",
    "$\n",
    "(\\{ 0 \\} \\circ (\\{ 0 \\} \\cup \\{ 1 \\})^*) \\cup ((\\{ 0 \\} \\cup \\{ 1 \\})^* \\circ \\{ 1 \\})\n",
    "= (\\{ 0 \\} \\circ \\{ 0, 1 \\}^*) \\cup (\\{ 0, 1 \\}^* \\circ \\{ 1 \\})\n",
    "= \\{ \\varepsilon, 0, 1, 00, 01, \\textcolor{red}{\\cancel{10}}, 11, 000, 001, 010, 011, \\textcolor{red}{\\cancel{100}}, 101, \\textcolor{red}{\\cancel{110}}, 111, \\dots \\}\n",
    "$\n",
    "\n",
    "The language consisting of all strings that start with a $0$ or end with a $1$."
   ]
  },
  {
   "cell_type": "markdown",
   "metadata": {},
   "source": [
    "<span style=\"color: green\"><b>Example</b></span> [Sipser 1.53 pp. 65]\n",
    "\n",
    "$0^* 1 0^*$\n",
    "\n",
    "s.h. for $\\{ 0 \\}^* \\circ \\{ 1 \\} \\circ \\{ 0 \\}^*$\n",
    "\n",
    "$L(0^* 1 0^*) = \\{ w : w \\,\\,\\text{contains a single}\\,\\, 1 \\}$"
   ]
  },
  {
   "cell_type": "markdown",
   "metadata": {},
   "source": [
    "<span style=\"color: green\"><b>Example</b></span> [Sipser 1.53 pp. 65]\n",
    "\n",
    "$\\Sigma^* 1 \\Sigma^*$ where $\\Sigma = \\{ 0, 1 \\}$\n",
    "\n",
    "s.h. for $\\{ 0, 1 \\}^* \\circ \\{ 1 \\} \\circ \\{ 0, 1 \\}^*$\n",
    "\n",
    "$L(\\Sigma^* 1 \\Sigma^*) = \\{ w : w \\,\\,\\text{has at least one}\\,\\, 1 \\}$"
   ]
  },
  {
   "cell_type": "markdown",
   "metadata": {},
   "source": [
    "<span style=\"color: green\"><b>Example</b></span> [Sipser 1.53 pp. 65]\n",
    "\n",
    "$\\Sigma^* 001 \\Sigma^*$ where $\\Sigma = \\{ 0, 1 \\}$\n",
    "\n",
    "s.h. for\n",
    "$\n",
    "\\{ 0, 1 \\}^* \\circ \\{ 0 \\} \\circ \\{ 0 \\} \\circ \\{ 1 \\} \\circ \\{ 0, 1 \\}^*\n",
    "= \\{ 0, 1 \\}^* \\circ \\{ 001 \\} \\circ \\{ 0, 1 \\}^*\n",
    "$\n",
    "\n",
    "$L(\\Sigma^* 001 \\Sigma^*) = \\{ w : w \\,\\,\\text{contains the substring}\\,\\, 001 \\}$"
   ]
  },
  {
   "cell_type": "markdown",
   "metadata": {},
   "source": [
    "<span style=\"color: green\"><b>Example</b></span> [Sipser 1.53 pp. 65]\n",
    "\n",
    "$1^* (0 1^+)^*$\n",
    "\n",
    "s.h. for\n",
    "$\n",
    "\\{ 1 \\}^* \\circ (\\{ 0 \\} \\circ \\{ 1 \\} \\circ \\{ 1 \\}^*)^*\n",
    "= \\{ 1 \\}^* \\circ (\\{ 01 \\} \\circ \\{ 1 \\}^*)^*\n",
    "$\n",
    "\n",
    "$L(1^* (0 1^+)^*) = \\{ w : w \\,\\,\\text{every}\\,\\, 0 \\,\\,\\text{in}\\,\\, w \\,\\,\\text{is followed by at least one}\\,\\, 1 \\}$"
   ]
  },
  {
   "cell_type": "markdown",
   "metadata": {},
   "source": [
    "<span style=\"color: green\"><b>Example</b></span> [Sipser 1.53 pp. 65]\n",
    "\n",
    "$(\\Sigma\\Sigma)^*$ where $\\Sigma = \\{ 0, 1 \\}$\n",
    "\n",
    "s.h. for\n",
    "$\n",
    "(\\{ 0, 1 \\} \\circ \\{ 0, 1 \\})^*\n",
    "= \\{ 00, 01, 10, 11 \\}^*\n",
    "$\n",
    "\n",
    "$L((\\Sigma\\Sigma)^*) = \\{ w : w \\,\\,\\text{is a string of even length} \\}$"
   ]
  },
  {
   "cell_type": "markdown",
   "metadata": {},
   "source": [
    "<span style=\"color: green\"><b>Example</b></span> [Sipser 1.53 pp. 65]\n",
    "\n",
    "$(\\Sigma\\Sigma\\Sigma)^*$ where $\\Sigma = \\{ 0, 1 \\}$\n",
    "\n",
    "s.h. for\n",
    "$\n",
    "(\\{ 0, 1 \\} \\circ \\{ 0, 1 \\} \\circ \\{ 0, 1 \\})^*\n",
    "= \\{ 000, 001, 010, 011, 100, 101, 110, 111 \\}^*\n",
    "$\n",
    "\n",
    "$L((\\Sigma\\Sigma\\Sigma)^*) = \\{ w : \\text{the length of}\\,\\, w \\,\\,\\text{is a multiple of}\\,\\, 3 \\}$"
   ]
  },
  {
   "cell_type": "markdown",
   "metadata": {},
   "source": [
    "<span style=\"color: green\"><b>Example</b></span> [Sipser 1.53 pp. 65]\n",
    "\n",
    "$01 \\cup 10$\n",
    "\n",
    "s.h. for\n",
    "$\n",
    "(\\{ 0 \\} \\circ \\{ 1 \\}) \\cup (\\{ 1 \\} \\circ \\{ 0 \\})\n",
    "= \\{ 01 \\} \\cup \\{ 10 \\}\n",
    "= \\{ 01, 10 \\}\n",
    "$\n",
    "\n",
    "$L(01 \\cup 10) = \\{ 01, 10 \\}$"
   ]
  },
  {
   "cell_type": "markdown",
   "metadata": {},
   "source": [
    "<span style=\"color: green\"><b>Example</b></span> [Sipser 1.53 pp. 65]\n",
    "\n",
    "$0 \\Sigma^* 0 \\cup 1 \\Sigma^* 1 \\cup 0 \\cup 1$ where $\\Sigma = \\{ 0, 1 \\}$\n",
    "\n",
    "s.h. for\n",
    "$\n",
    "(\\{ 0 \\} \\circ \\{ 0, 1 \\}^* \\circ \\{ 0 \\}) \\cup (\\{ 1 \\} \\circ \\{ 0, 1 \\}^* \\circ \\{ 1 \\}) \\cup \\{ 0 \\} \\cup \\{ 1 \\}\n",
    "= (\\{ 0 \\} \\circ \\{ 0, 1 \\}^* \\circ \\{ 0 \\}) \\cup (\\{ 1 \\} \\circ \\{ 0, 1 \\}^* \\circ \\{ 1 \\}) \\cup \\{ 0, 1 \\}\n",
    "$\n",
    "\n",
    "$L(0 \\Sigma^* 0 \\cup 1 \\Sigma^* 1 \\cup 0 \\cup 1) = \\{ w : w \\,\\,\\text{starts and ends with the same symbol} \\}$"
   ]
  },
  {
   "cell_type": "markdown",
   "metadata": {},
   "source": [
    "<span style=\"color: green\"><b>Example</b></span> [Sipser 1.53 pp. 65]\n",
    "\n",
    "$(0 \\cup \\varepsilon) 1^* = 01^* \\cup 1^*$\n",
    "\n",
    "s.h. for\n",
    "$\n",
    "(\\{ 0 \\} \\cup \\{ \\varepsilon \\}) \\circ \\{ 1 \\}^*\n",
    "= (\\{ 0, \\varepsilon \\}) \\circ \\{ 1 \\}^*\n",
    "$\n",
    "\n",
    "$L((0 \\cup \\varepsilon) 1^*) = \\{ w : w \\,\\,\\text{starts and ends with the same symbol} \\}$"
   ]
  },
  {
   "cell_type": "markdown",
   "metadata": {},
   "source": [
    "<span style=\"color: green\"><b>Example</b></span> [Sipser 1.53 pp. 65]\n",
    "\n",
    "$R = (0 \\cup \\varepsilon)(1 \\cup \\varepsilon)$\n",
    "\n",
    "$\n",
    "(\\{ 0 \\} \\cup \\{ \\varepsilon \\}) \\circ (\\{ 1 \\} \\cup \\{ \\varepsilon \\})\n",
    "= \\{ 0, \\varepsilon \\} \\circ \\{ 1, \\varepsilon \\}\n",
    "= \\{ \\varepsilon, 0, 1, 01 \\}\n",
    "$\n",
    "\n",
    "$L(R) = \\{ \\varepsilon, 0, 1, 01 \\}$"
   ]
  },
  {
   "cell_type": "markdown",
   "metadata": {},
   "source": [
    "<span style=\"color: green\"><b>Example</b></span> [Sipser 1.53 pp. 65]\n",
    "\n",
    "$R = 1^* \\varnothing = \\{ 1 \\}^* \\circ \\{ \\} = \\varnothing = L(R)$\n",
    "\n",
    "The concatenation of any language and the empty language yields the empty language."
   ]
  },
  {
   "cell_type": "markdown",
   "metadata": {},
   "source": [
    "<span style=\"color: green\"><b>Example</b></span> [Sipser 1.53 pp. 65]\n",
    "\n",
    "$R = \\varnothing^* = \\{ \\}^* = \\{ \\varepsilon \\} = L(R)$\n",
    "\n",
    "The star of the empty language yields the language consisting of the empty string."
   ]
  },
  {
   "cell_type": "markdown",
   "metadata": {},
   "source": [
    "<span style=\"color: green\"><b>Example</b></span> [Sipser pp. 66]\n",
    "\n",
    "$\n",
    "\\begin{aligned}\n",
    "D\n",
    "&= \\{ 0, 1, 2, 3, 4, 5, 6, 7, 8, 9 \\} \\\\\n",
    "R\n",
    "&= (+ \\cup - \\cup \\varepsilon) (D^+ \\cup D^+ . D^* \\cup D^* . D^+) \\\\\n",
    "&= ( \\{ + \\} \\cup \\{ - \\} \\cup \\{ \\varepsilon \\} ) \\circ ( D \\circ D^* \\cup D \\circ D^* \\circ \\{ . \\} \\circ D^* \\cup D^* \\circ \\{ . \\} \\circ D \\circ D^* ) \\\\\n",
    "&= \\{ +, -, \\varepsilon \\} \\circ ( D \\circ D^* \\cup D \\circ D^* \\circ \\{ . \\} \\circ D^* \\cup D^* \\circ \\{ . \\} \\circ D \\circ D^* ) \\\\\n",
    "&= L(R) \\\\\n",
    "\\end  {aligned}\n",
    "$\n",
    "\n",
    "$\n",
    "\\begin{aligned}\n",
    "72&       \\\\\n",
    " 3&.14159 \\\\\n",
    "+7&.      \\\\\n",
    " -&.01    \\\\\n",
    "\\end  {aligned}\n",
    "$"
   ]
  },
  {
   "cell_type": "markdown",
   "metadata": {},
   "source": [
    "---"
   ]
  },
  {
   "cell_type": "markdown",
   "metadata": {},
   "source": [
    "#### Algebraic properties of the regular operations"
   ]
  },
  {
   "cell_type": "markdown",
   "metadata": {},
   "source": [
    "<span style=\"color: blue\"><b>CLAIM</b></span>\n",
    "\n",
    "Let $\\text{REG}$ be the class of regular languages.\n",
    "\n",
    "$\n",
    "\\begin{aligned}\n",
    "\\forall L_1, L_2      \\in \\text{REG} && L_1 \\cup L_2 \\in \\text{REG}  &&& \\text{regular union is closed} \\\\\n",
    "\\forall L_1, L_2, L_3 \\in \\text{REG} && (L_1 \\cup L_2) \\cup L_3 = L_1 \\cup (L_2 \\cup L_3)     &&& \\text{regular union is associative} \\\\\n",
    "\\exists \\varnothing \\in \\text{REG} \\,\\, \\forall L \\in \\text{REG} && L \\cup \\varnothing = L &&& \\text{identity} \\\\\n",
    "\\forall L_1, L_2      \\in \\text{REG} && L_1 \\cup L_2 = L_2 \\cup L_1                           &&& \\text{regular union is commutative} \\\\ \\\\\n",
    "\\forall L_1, L_2      \\in \\text{REG} && L_1 \\circ L_2 \\in \\text{REG} &&& \\text{regular concatenation is closed} \\\\\n",
    "\\forall L_1, L_2, L_3 \\in \\text{REG} && (L_1 \\circ L_2) \\circ L_3 = L_1 \\circ (L_2 \\circ L_3) &&& \\text{regular concatenation is associative} \\\\\n",
    "\\exists \\{ \\varepsilon \\} \\in \\text{REG} \\,\\, \\forall L \\in \\text{REG} && \\{ \\varepsilon \\} \\circ L = L = L \\circ \\{ \\varepsilon \\} &&& \\text{left and right identity} \\\\\n",
    "&& \\textcolor{red}{L_1 \\circ L_2 \\ne L_2 \\circ L_1}      &&& \\text{regular concatenation is not commutative} \\\\ \\\\\n",
    "\\forall L_1, L_2, L_3 \\in \\text{REG} && L_1 \\circ (L_2 \\cup L_3) = (L_1 \\circ L_2) \\cup (L_1 \\circ L_3) &&& \\text{regular concatenation is left-distributive over regular union} \\\\\n",
    "\\forall L_1, L_2, L_3 \\in \\text{REG} && (L_1 \\cup L_2) \\circ L_3 = (L_1 \\circ L_3) \\cup (L_2 \\circ L_3) &&& \\text{regular concatenation is right-distributive over regular union} \\\\ \\\\\n",
    "\\forall L_1 \\in \\text{REG} && L_1^* \\in \\text{REG}              &&& \\text{regular star is closed} \\\\\n",
    "\\end  {aligned}\n",
    "$"
   ]
  },
  {
   "cell_type": "markdown",
   "metadata": {},
   "source": [
    "---"
   ]
  },
  {
   "cell_type": "markdown",
   "metadata": {},
   "source": [
    "## Equivalence of Finite Automata and Regular Expressions"
   ]
  },
  {
   "cell_type": "markdown",
   "metadata": {},
   "source": [
    "Regular expressions and finite automata are equivalent in their descriptive power: any regular expression can be converted into a finite automaton that recognizes the language it describes and vice versa.\n",
    "\n",
    "<span style=\"color: blue\"><b>THEOREM</b></span> <b></b> [Sipser 1.54 pp. 66]\n",
    "\n",
    "> A language is regular iff some regular expression describes it."
   ]
  },
  {
   "cell_type": "markdown",
   "metadata": {},
   "source": [
    "> If a language is described by a regular expression then it is regular.\n",
    "\n",
    "$Proof$\n",
    "\n",
    "Let $R$ be a regular expression that describes a language $A$. We convert $R$ into an NFA $N$ that recognizes $A$ for each of the six cases in the formal definition of a regular expression.\n",
    "\n",
    "$1\\quad$ $R = a$ for some $a \\in \\Sigma$ $\\quad$ Then $L(R) = \\{ a \\}$ and the following NFA recognizes $L(R)$.\n",
    "\n",
    "$N = (\\{ q_0, q_1 \\}, \\{ a \\}, \\delta, q_0, \\{ q_1 \\})$\n",
    "\n",
    "$\n",
    "\\begin{array}{c|c}\n",
    "\\delta & a & \\varepsilon \\\\ \\hline\n",
    "q_0 &   \\{ q_1 \\} & \\varnothing \\\\\n",
    "q_1 & \\varnothing & \\varnothing \\\\\n",
    "\\end  {array}\n",
    "$\n",
    "\n",
    "$\\delta (q_1, a) = \\{ q_2 \\}$ and $\\delta (r, b) = \\varnothing$ for $r \\ne q_1$ or $b \\ne a$.\n",
    "\n",
    "$2\\quad$ $R = \\varepsilon$ $\\quad$ Then $L(R) = \\{ \\varepsilon \\}$ and the following NFA recognizes $L(R)$.\n",
    "\n",
    "$N = (\\{ q_0 \\}, \\varnothing, \\delta, q_0, \\{ q_0 \\})$\n",
    "\n",
    "$\n",
    "\\begin{array}{c|c}\n",
    "\\delta & \\varepsilon \\\\ \\hline\n",
    "q_0 & \\varnothing \\\\\n",
    "\\end  {array}\n",
    "$\n",
    "\n",
    "$\\delta (r, b) = \\varnothing$ for any $r$ and $b$.\n",
    "\n",
    "$3\\quad$ $R = \\varnothing$ $\\quad$ Then $L(R) = \\varnothing$ and the following NFA recognizes $L(R)$.\n",
    "\n",
    "$N = (\\{ q_0 \\}, \\varnothing, \\delta, q_0, \\varnothing)$\n",
    "\n",
    "$\n",
    "\\begin{array}{c|c}\n",
    "\\delta & \\varepsilon \\\\ \\hline\n",
    "q_0 & \\varnothing \\\\\n",
    "\\end  {array}\n",
    "$\n",
    "\n",
    "$\\delta (r, b) = \\varnothing$ for any $r$ and $b$.\n",
    "\n",
    "$4\\quad$ $R = R_1 \\cup R_2$\n",
    "\n",
    "$\n",
    "\\begin{aligned}\n",
    "     N &= (Q, \\Sigma, \\delta, q_0, F) \\\\\n",
    "     Q &= \\{ q_0 \\} \\cup Q_1 \\cup Q_2 \\\\\n",
    "\\Sigma &= \\Sigma_1 \\cup \\Sigma_2 \\\\\n",
    "     F &= F_1 \\cup F_2 \\\\\n",
    "\\delta(q, a) &=\n",
    "\\begin{cases}\n",
    "\\delta_1 (q, a) & q \\in Q_1 \\\\\n",
    "\\delta_2 (q, a) & q \\in Q_2 \\\\\n",
    "\\{ q_1, q_2 \\}  & q = q_0 \\,\\,\\text{and}\\,\\, a = \\varepsilon \\\\\n",
    "\\varepsilon     & q = q_0 \\,\\,\\text{and}\\,\\, a \\ne \\varepsilon \\\\\n",
    "\\end  {cases}\n",
    "\\end  {aligned}\n",
    "$\n",
    "\n",
    "$5\\quad$ $R = R_1 \\circ R_2$\n",
    "\n",
    "$\n",
    "\\begin{aligned}\n",
    "     N &= (Q, \\Sigma, \\delta, q_1, F_2) \\\\\n",
    "     Q &= Q_1 \\cup Q_2 \\\\\n",
    "\\Sigma &= \\Sigma_1 \\cup \\Sigma_2 \\\\\n",
    "\\delta(q, a) &=\n",
    "\\begin{cases}\n",
    "\\delta_1 (q, a) & q \\in Q_1 \\,\\,\\text{and}\\,\\, q \\not\\in F_1 \\\\\n",
    "\\delta_1 (q, a) & q \\in F_1 \\,\\,\\text{and}\\,\\, a \\ne \\varepsilon \\\\\n",
    "\\delta_1 (q, a) \\cup \\{ q_2 \\}  & q \\in F_1 \\,\\,\\text{and}\\,\\, a = \\varepsilon \\\\\n",
    "\\delta_2 (q, a) & q \\in Q_2 \\\\\n",
    "\\end  {cases}\n",
    "\\end  {aligned}\n",
    "$\n",
    "\n",
    "$6\\quad$ $R = R_1^*$\n",
    "\n",
    "$\n",
    "\\begin{aligned}\n",
    "     N &= (Q, \\Sigma, \\delta, q_0, F) \\\\\n",
    "     Q &= \\{ q_0 \\} \\cup Q_1 \\\\\n",
    "\\Sigma &= \\Sigma_1 \\cup \\Sigma_2 \\\\\n",
    "     F &= \\{ q_0 \\} \\cup F_1 \\\\\n",
    "\\delta(q, a) &=\n",
    "\\begin{cases}\n",
    "\\delta_1 (q, a)                & q \\in Q_1 \\,\\,\\text{and}\\,\\, q \\not\\in F_1 \\\\\n",
    "\\delta_1 (q, a)                & q \\in F_1 \\,\\,\\text{and}\\,\\, a \\ne \\varepsilon \\\\\n",
    "\\delta_1 (q, a) \\cup \\{ q_1 \\} & q \\in F_1 \\,\\,\\text{and}\\,\\, a = \\varepsilon \\\\\n",
    "\\{ q_1 \\}                      & q = q_0 \\,\\,\\text{and}\\,\\, a   = \\varepsilon \\\\\n",
    "\\varnothing                    & q = q_0 \\,\\,\\text{and}\\,\\, a \\ne \\varepsilon \\\\\n",
    "\\end  {cases}\n",
    "\\end  {aligned}\n",
    "$\n",
    "\n",
    "$\\blacksquare$"
   ]
  },
  {
   "cell_type": "markdown",
   "metadata": {},
   "source": [
    "> If a language is regular then it is described by a regular expression."
   ]
  },
  {
   "cell_type": "markdown",
   "metadata": {},
   "source": [
    "---"
   ]
  },
  {
   "cell_type": "markdown",
   "metadata": {},
   "source": [
    "Regex -> NFA -> DFA"
   ]
  },
  {
   "cell_type": "markdown",
   "metadata": {},
   "source": [
    "<span style=\"color: green\"><b>Example</b></span> [Sipser 1.56 pp. 68]\n",
    "\n",
    "$\n",
    "\\begin{aligned}\n",
    "R\n",
    "&= (ab \\cup a)^* \\\\\n",
    "&= (\\{ a \\} \\circ \\{ b \\} \\cup \\{ a \\})^* \\\\\n",
    "&= (\\{ ab \\} \\cup \\{ a \\})^* \\\\\n",
    "&= \\{ ab, a \\}^* \\\\\n",
    "\\end  {aligned}\n",
    "$"
   ]
  },
  {
   "cell_type": "markdown",
   "metadata": {},
   "source": [
    "$R = a \\quad N = (\\{ q_1, q_2 \\}, \\{ a \\}, \\delta, q_1, \\{ q_2 \\})$\n",
    "\n",
    "$\n",
    "\\begin{array}{c|c}\n",
    "\\delta & a & \\varepsilon \\\\ \\hline\n",
    "q_1 &   \\{ q_2 \\} & \\varnothing \\\\\n",
    "q_2 & \\varnothing & \\varnothing \\\\\n",
    "\\end  {array}\n",
    "$\n",
    "\n",
    "$R = b \\quad N = (\\{ q_3, q_4 \\}, \\{ b \\}, \\delta, q_3, \\{ q_4 \\})$\n",
    "\n",
    "$\n",
    "\\begin{array}{c|c}\n",
    "\\delta & b & \\varepsilon \\\\ \\hline\n",
    "q_3 &   \\{ q_4 \\} & \\varnothing \\\\\n",
    "q_4 & \\varnothing & \\varnothing \\\\\n",
    "\\end  {array}\n",
    "$\n",
    "\n",
    "$\n",
    "\\begin{aligned}\n",
    "     R &= ab \\\\\n",
    "     Q &= Q_1 \\cup Q_2 = \\{ q_1, q_2 \\} \\cup \\{ q_3, q_4 \\} = \\{ q_1, q_2, q_3, q_4 \\} \\\\\n",
    "\\Sigma &= \\Sigma_1 \\cup \\Sigma_2 = \\{ a \\} \\cup \\{ b \\} = \\{ a, b \\} \\\\\n",
    "     N &= (\\{ q_1, q_2, q_3, q_4 \\}, \\{ a, b \\}, \\delta, q_1, \\{ q_4 \\}) \\\\\n",
    "\\end  {aligned}\n",
    "$\n",
    "\n",
    "$\n",
    "\\begin{array}{c|c}\n",
    "\\delta & a & b & \\varepsilon \\\\ \\hline\n",
    "q_1 &   \\{ q_2 \\} & \\varnothing & \\varnothing \\\\\n",
    "q_2 & \\varnothing & \\varnothing & \\{ q_3 \\} \\\\\n",
    "q_3 & \\varnothing & \\{ q_4 \\} & \\varnothing \\\\\n",
    "q_4 & \\varnothing & \\varnothing & \\varnothing \\\\\n",
    "\\end  {array}\n",
    "$\n",
    "\n",
    "$\n",
    "\\begin{aligned}\n",
    "R &= ab \\cup a \\\\\n",
    "     Q &= \\{ s \\} \\cup Q_1 \\cup Q_2 = \\{ s \\} \\cup \\{ q_0, q_1, q_2, q_3 \\} \\cup \\{ q_0, q_1 \\} = \\{ s, q_0, q_1, q_2, q_3 \\} \\\\\n",
    "\\Sigma &= \\Sigma_1 \\cup \\Sigma_2 = \\{ a, b \\} \\cup \\{ a \\} = \\{ a, b \\} \\\\\n",
    "     F &= \\{ q_3 \\} \\cup \\{ q_1 \\} = \\{ q_1, q_3 \\} \\\\\n",
    "N &= (Q, \\Sigma, \\delta, s, F) \\\\\n",
    "\\end  {aligned}\n",
    "$\n",
    "\n",
    "$\n",
    "\\begin{array}{c|c}\n",
    "\\delta & a & b & \\varepsilon \\\\ \\hline\n",
    "  s & \\varepsilon & \\varepsilon & \\{ q_0 \\} \\\\\n",
    "q_0 &   \\{ q_1 \\} & \\varnothing & \\varnothing \\\\\n",
    "q_1 & \\varnothing & \\varnothing & \\{ q_2 \\} \\\\\n",
    "q_2 & \\varnothing & \\{ q_3 \\} & \\varnothing \\\\\n",
    "q_3 & \\varnothing & \\varnothing & \\varnothing \\\\\n",
    "\\end  {array}\n",
    "$"
   ]
  },
  {
   "cell_type": "markdown",
   "metadata": {},
   "source": [
    "---\n",
    "---\n",
    "---"
   ]
  },
  {
   "cell_type": "markdown",
   "metadata": {},
   "source": [
    "## Resources"
   ]
  },
  {
   "cell_type": "markdown",
   "metadata": {},
   "source": [
    "https://math.mit.edu/~sipser/18404/\n",
    "\n",
    "https://www.cs.odu.edu/~toida/nerzic/390teched/web_course.html\n",
    "\n",
    "https://www.cs.ucr.edu/~jiang/cs150/slides4week3_AlgebraicLaws+PL.pdf"
   ]
  },
  {
   "cell_type": "markdown",
   "metadata": {},
   "source": [
    "---\n",
    "---\n",
    "---"
   ]
  },
  {
   "cell_type": "markdown",
   "metadata": {},
   "source": [
    "## Figures"
   ]
  },
  {
   "cell_type": "markdown",
   "metadata": {},
   "source": [
    "* [ [w](https://en.wikipedia.org/wiki/Noam_Chomsky) ] Chomsky, Noam (1928-)\n",
    "* [ [w](https://en.wikipedia.org/wiki/Stephen_Cole_Kleene) ] Kleene, Stephen (1909-1994)\n",
    "* [ [w](https://en.wikipedia.org/wiki/George_H._Mealy) ] Mealy, George (1927-2010)"
   ]
  },
  {
   "cell_type": "markdown",
   "metadata": {},
   "source": [
    "---\n",
    "---\n",
    "---"
   ]
  },
  {
   "cell_type": "markdown",
   "metadata": {},
   "source": [
    "## Terms"
   ]
  },
  {
   "cell_type": "markdown",
   "metadata": {},
   "source": [
    "* [ [w](https://en.wikipedia.org/wiki/Abstract_machine) ] Abstract Machine\n",
    "* [ [w](https://en.wikipedia.org/wiki/Alphabet_(formal_languages)) ] Alphabet\n",
    "* [ [w](https://en.wikipedia.org/wiki/Automata_theory) ] Automata Theory\n",
    "* [ [w](https://en.wikipedia.org/wiki/Automaton) ] Automaton\n",
    "* [ [w](https://en.wikipedia.org/wiki/Chomsky_hierarchy) ] Chomsky Hierarchy\n",
    "* [ [w](https://en.wikipedia.org/wiki/Combinatorics_on_words) ] Combinatorics on words\n",
    "* [ [w](https://en.wikipedia.org/wiki/Finite-state_machine) ] Finite-State Machine\n",
    "* [ [w](https://en.wikipedia.org/wiki/Formal_grammar) ] Formal Grammar\n",
    "* [ [w](https://en.wikipedia.org/wiki/Formal_language) ] Formal Language\n",
    "* [ [w](https://en.wikipedia.org/wiki/Kleene_star) ] Kleene Star\n",
    "* [ [w](https://en.wikipedia.org/wiki/Mealy_machine) ] Mealy Machine\n",
    "* [ [w](https://en.wikipedia.org/wiki/Terminal_and_nonterminal_symbols) ] Non Terminal Symbol\n",
    "* [ [w](https://en.wikipedia.org/wiki/Production_(computer_science)) ] Production Rule\n",
    "* [ [w](https://en.wikipedia.org/wiki/Pushdown_automaton) ] Pushdown Automaton\n",
    "* [ [w](https://en.wikipedia.org/wiki/Regular_language) ] Regular Language\n",
    "* [ [w](https://en.wikipedia.org/wiki/Symbol_(programming)) ] Symbol\n",
    "* [ [w](https://en.wikipedia.org/wiki/Terminal_and_nonterminal_symbols) ] Terminal Symbol\n",
    "* [ [w](https://en.wikipedia.org/wiki/Turing_machine) ] Turing Machine"
   ]
  },
  {
   "cell_type": "markdown",
   "metadata": {},
   "source": [
    "---\n",
    "---\n",
    "---"
   ]
  }
 ],
 "metadata": {
  "language_info": {
   "name": "python"
  }
 },
 "nbformat": 4,
 "nbformat_minor": 2
}
