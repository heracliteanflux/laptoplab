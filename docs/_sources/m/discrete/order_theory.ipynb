{
 "cells": [
  {
   "cell_type": "markdown",
   "metadata": {},
   "source": [
    "# Order Theory"
   ]
  },
  {
   "cell_type": "markdown",
   "metadata": {},
   "source": [
    "---"
   ]
  },
  {
   "cell_type": "markdown",
   "metadata": {},
   "source": [
    "## Contents\n",
    "```{contents}\n",
    "```"
   ]
  },
  {
   "cell_type": "markdown",
   "metadata": {},
   "source": [
    "---"
   ]
  },
  {
   "cell_type": "markdown",
   "metadata": {},
   "source": [
    "<span style=\"color: #0096FF;\"><b>PARTIAL ORDER</b></span>"
   ]
  },
  {
   "cell_type": "markdown",
   "metadata": {},
   "source": [
    "A partial order on a set $S$ is an arrangement s.t. certain pairs of elements are orderable.\n",
    "\n",
    "<div style=\"color: #0096FF;\">\n",
    "\n",
    "\n",
    "\n",
    "</div>"
   ]
  },
  {
   "cell_type": "markdown",
   "metadata": {},
   "source": [
    "---"
   ]
  },
  {
   "cell_type": "markdown",
   "metadata": {},
   "source": [
    "<span style=\"color: #0096FF;\"><b>TOTAL ORDER</b></span>"
   ]
  },
  {
   "cell_type": "markdown",
   "metadata": {},
   "source": [
    "<div style=\"color: #0096FF;\">\n",
    "\n",
    "A total order (or linear order) is a partial order in which any two elements are orderable. In other words, a total order is a binary relation $\\le$ on a set $S$ which satisfies the following properties for all $a, b, c \\in S$.\n",
    "\n",
    "Reflexivity\n",
    "\n",
    "$a \\le a$\n",
    "\n",
    "Transitivity\n",
    "\n",
    "If $a \\le b$ and $b \\le c$ then $a \\le c$\n",
    "\n",
    "Antisymmetry\n",
    "\n",
    "If $a \\le b$ and $b \\le a$ then $a = b$\n",
    "\n",
    "Totality, or strong connectedness\n",
    "\n",
    "$a \\le b$ or $b \\le a$\n",
    "\n",
    "</div>"
   ]
  },
  {
   "cell_type": "markdown",
   "metadata": {},
   "source": [
    "---"
   ]
  },
  {
   "cell_type": "markdown",
   "metadata": {},
   "source": [
    "<span style=\"color: #0096FF;\"><b>STRICT TOTAL ORDER</b></span>"
   ]
  },
  {
   "cell_type": "markdown",
   "metadata": {},
   "source": [
    "<div style=\"color: #0096FF;\">\n",
    "\n",
    "A strict total order is a strict partial order in which any two distinct elements are orderable. In other words, a total order is a binary relation $\\lt$ on a set $S$ which satisfies the following properties for all $a, b, c \\in S$.\n",
    "\n",
    "Irreflexivity\n",
    "\n",
    "$a \\not\\lt a$\n",
    "\n",
    "Transitivity\n",
    "\n",
    "If $a \\lt b$ and $b \\lt c$ then $a \\lt c$\n",
    "\n",
    "Asymmetry\n",
    "\n",
    "If $a \\lt b$ then $b \\not\\lt a$\n",
    "\n",
    "Connectedness\n",
    "\n",
    "If $a \\ne b$ then $a \\lt b$ or $b \\lt a$\n",
    "\n",
    "</div>"
   ]
  },
  {
   "cell_type": "markdown",
   "metadata": {},
   "source": [
    "---"
   ]
  },
  {
   "cell_type": "markdown",
   "metadata": {},
   "source": [
    "<span style=\"color: #0096FF;\"><b>WELL-ORDER</b></span>"
   ]
  },
  {
   "cell_type": "markdown",
   "metadata": {},
   "source": [
    "<div style=\"color: #0096FF;\">\n",
    "\n",
    "A well-order on a set $S$ is a total ordering on $S$ with the property that every non-empty subset of $S$ has a least element in this ordering.\n",
    "\n",
    "</div>"
   ]
  },
  {
   "cell_type": "markdown",
   "metadata": {},
   "source": [
    "---"
   ]
  },
  {
   "cell_type": "markdown",
   "metadata": {},
   "source": [
    "<span style=\"color: #0096FF;\"><b>WELL ORDERING PRINCIPLE</b></span>"
   ]
  },
  {
   "cell_type": "markdown",
   "metadata": {},
   "source": [
    "<div style=\"color: #0096FF;\">\n",
    "\n",
    "Every non-empty subset $S$ of positive integers contains a least element: there is some integer $a \\in S$ s.t. $a \\le b$ for all $b \\in S$.\n",
    "\n",
    "</div>\n",
    "\n",
    "In other words, the set of positive integers does not contain any infinite strictly decreasing sequences.\n",
    "\n",
    "The well-ordering principle holds for both the set of positive integers $\\mathbb{N}^{+}$ and the set of nonnegative integers $\\mathbb{N}$."
   ]
  },
  {
   "cell_type": "markdown",
   "metadata": {},
   "source": [
    "---"
   ]
  },
  {
   "cell_type": "markdown",
   "metadata": {},
   "source": [
    "<span style=\"color: #0096FF;\"><b>THEOREM</b></span>"
   ]
  },
  {
   "cell_type": "markdown",
   "metadata": {},
   "source": [
    "<div style=\"color: #0096FF;\">\n",
    "\n",
    "There are no positive integers strictly between $0$ and $1$.\n",
    "\n",
    "</div>"
   ]
  },
  {
   "cell_type": "markdown",
   "metadata": {},
   "source": [
    "<span style=\"color: #0096FF;\"><b>Proof by contradiction</b></span>"
   ]
  },
  {
   "cell_type": "markdown",
   "metadata": {},
   "source": [
    "Let $S$ be the set of integers $x$ s.t. $0 \\lt x \\lt 1$.\n",
    "\n",
    "Suppose that $S$ is non-empty and that $n$ is its least element.\n",
    "\n",
    "$n \\lt 1 \\implies n^2 \\lt n$\n",
    "\n",
    "The square of a positive integer is a positive integer, so $n^2$ is an integer s.t. $0 \\lt n^2 \\lt n \\lt 1$.\n",
    "\n",
    "This is a contradiction of the minimality of $n$.\n",
    "\n",
    "Therefore $S$ is empty.\n",
    "\n",
    "$\\blacksquare$"
   ]
  },
  {
   "cell_type": "markdown",
   "metadata": {},
   "source": [
    "---"
   ]
  },
  {
   "cell_type": "markdown",
   "metadata": {},
   "source": [
    "<span style=\"color: #0096FF;\"><b>THEOREM</b></span>"
   ]
  },
  {
   "cell_type": "markdown",
   "metadata": {},
   "source": [
    "<div style=\"color: #0096FF;\">\n",
    "\n",
    "For every positive integer $n$, the number $n^2 + n + 1$ is odd.\n",
    "\n",
    "</div>"
   ]
  },
  {
   "cell_type": "markdown",
   "metadata": {},
   "source": [
    "<span style=\"color: #0096FF;\"><b>Proof by contradiction</b></span>"
   ]
  },
  {
   "cell_type": "markdown",
   "metadata": {},
   "source": [
    "Let $S$ be the subset of positive integers $n$ for which $n^2 + n + 1$ is even.\n",
    "\n",
    "Suppose that $S$ is non-empty and that $m$ is its least element.\n",
    "\n",
    "Then $m - 1 \\not\\in S$ and so $(m - 1)^2 + (m - 1) + 1$ is odd.\n",
    "\n",
    "$\n",
    "\\begin{aligned}\n",
    "(m - 1)^2 + (m - 1) + 1\n",
    "&= m^2 - 2m + 1 + m - 1 + 1 \\\\\n",
    "&= m^2 + m + 1 - 2m \\\\\n",
    "2m + (m - 1)^2 + (m - 1) + 1 &= m^2 + m + 1 \\\\\n",
    "\\end  {aligned}\n",
    "$\n",
    "\n",
    "$2m$ is even and $(m - 1)^2 + (m - 1) + 1$ is odd, so their sum $m^2 + m + 1$ is odd. Contradiction!\n",
    "\n",
    "Therefore $S$ is empty.\n",
    "\n",
    "$\\blacksquare$"
   ]
  },
  {
   "cell_type": "markdown",
   "metadata": {},
   "source": [
    "---"
   ]
  },
  {
   "cell_type": "markdown",
   "metadata": {},
   "source": [
    "<span style=\"color: #0096FF;\"><b>THEOREM</b></span>"
   ]
  },
  {
   "cell_type": "markdown",
   "metadata": {},
   "source": [
    "<div style=\"color: #0096FF;\">\n",
    "\n",
    "Every positive integer greater than one has a prime divisor.\n",
    "\n",
    "</div>"
   ]
  },
  {
   "cell_type": "markdown",
   "metadata": {},
   "source": [
    "<span style=\"color: #0096FF;\"><b>Proof by contradiction</b></span>"
   ]
  },
  {
   "cell_type": "markdown",
   "metadata": {},
   "source": [
    "Let $S$ be the set of positive integers greater than one with no prime divisor.\n",
    "\n",
    "Suppose that $S$ is non-empty and that $n$ is its least element.\n",
    "\n",
    "$n$ cannot be prime since $n \\mid n$ and if $n$ were prime then $n$ would be its own prime divisor; therefore $n$ is composite.\n",
    "\n",
    "$n$ must have a divisor $d$ with $1 \\lt d \\lt n$, but then $d$ must have a prime divisor by the minimality of $n$. Call it $p$.\n",
    "\n",
    "Then $p \\mid d$ but $d \\mid n$, so $p \\mid n$. Contradiction.\n",
    "\n",
    "Therefore $S$ is empty.\n",
    "\n",
    "$\\blacksquare$"
   ]
  },
  {
   "cell_type": "markdown",
   "metadata": {},
   "source": [
    "---"
   ]
  },
  {
   "cell_type": "markdown",
   "metadata": {},
   "source": [
    "<span style=\"color: #0096FF;\"><b>THEOREM</b></span>"
   ]
  },
  {
   "cell_type": "markdown",
   "metadata": {},
   "source": [
    "<div style=\"color: #0096FF;\">\n",
    "\n",
    "Every positive integer greater than one can be written as the product of one or more primes.\n",
    "\n",
    "</div>"
   ]
  },
  {
   "cell_type": "markdown",
   "metadata": {},
   "source": [
    "<span style=\"color: #0096FF;\"><b>Proof by contradiction</b></span>"
   ]
  },
  {
   "cell_type": "markdown",
   "metadata": {},
   "source": [
    "Let $S$ be the set of positive integers greater than one that cannot be written as the product of primes.\n",
    "\n",
    "Suppose that $S$ is non-empty and that $n$ is its least element.\n",
    "\n",
    "$n$ cannot be prime since $n = n$ and if $n$ were prime then $n$ would be its own prime factorization; therefore $n$ is composite.\n",
    "\n",
    "$n = de$ with $1 \\lt d, e \\lt n$, but then $d, e$ must have prime factorizations by the minimality of $n$.\n",
    "\n",
    "So $n$ is a product of product of primes, so a product of primes. Contradiction.\n",
    "\n",
    "Therefore $S$ is empty.\n",
    "\n",
    "$\\blacksquare$"
   ]
  },
  {
   "cell_type": "markdown",
   "metadata": {},
   "source": [
    "---"
   ]
  },
  {
   "cell_type": "markdown",
   "metadata": {},
   "source": [
    "<span style=\"color: #0096FF;\"><b>WELL-ORDERING THEOREM</b></span>"
   ]
  },
  {
   "cell_type": "markdown",
   "metadata": {},
   "source": [
    "<div style=\"color: #0096FF;\">\n",
    "\n",
    "Every set can be well-ordered.\n",
    "\n",
    "</div>"
   ]
  },
  {
   "cell_type": "markdown",
   "metadata": {},
   "source": [
    "---"
   ]
  },
  {
   "cell_type": "markdown",
   "metadata": {},
   "source": [
    "## Resources"
   ]
  },
  {
   "cell_type": "markdown",
   "metadata": {},
   "source": [
    "https://brilliant.org/wiki/the-well-ordering-principle/"
   ]
  },
  {
   "cell_type": "markdown",
   "metadata": {},
   "source": [
    "---"
   ]
  },
  {
   "cell_type": "markdown",
   "metadata": {},
   "source": [
    "## Terms"
   ]
  },
  {
   "cell_type": "markdown",
   "metadata": {},
   "source": [
    "* [ [w](https://en.wikipedia.org/wiki/Antisymmetric_relation) ] Antisymmetric Relation\n",
    "* [ [w](https://en.wikipedia.org/wiki/Asymmetric_relation) ] Asymmetric Relation\n",
    "* [ [w](https://en.wikipedia.org/wiki/Binary_relation) ] Binary Relation\n",
    "* [ [w](https://en.wikipedia.org/wiki/Connected_relation) ] Connected Relation\n",
    "* [ [w](https://en.wikipedia.org/wiki/Converse_relation) ] Converse Relation\n",
    "* [ [w](https://en.wikipedia.org/wiki/Duality_(order_theory)) ] Duality\n",
    "* [ [w](https://en.wikipedia.org/wiki/Equipollence_(geometry)) ] Equipollence\n",
    "* [ [w](https://en.wikipedia.org/wiki/Equivalence_relation) ] Equivalence Relation\n",
    "* [ [w](https://en.wikipedia.org/wiki/Finitary_relation) ] Finitary Relation\n",
    "* [ [w](https://en.wikipedia.org/wiki/Greatest_element_and_least_element) ] Greatest Element\n",
    "* [ [w](https://en.wikipedia.org/wiki/Hasse_diagram) ] Hasse Diagram\n",
    "* [ [w](https://en.wikipedia.org/wiki/Homogeneous_relation) ] Homogeneous Relation\n",
    "* [ [w](https://en.wikipedia.org/wiki/Greatest_element_and_least_element) ] Least Element\n",
    "* [ [w](https://en.wikipedia.org/wiki/Linear_extension) ] Linear Relation\n",
    "* [ [w](https://en.wikipedia.org/wiki/Order_theory) ] Order Theory\n",
    "* [ [w](https://en.wikipedia.org/wiki/Order_type) ] Order Type\n",
    "* [ [w](https://en.wikipedia.org/wiki/Partially_ordered_set) ] Partial Order\n",
    "* [ [w](https://en.wikipedia.org/wiki/Preorder) ] Pre Order\n",
    "* [ [w](https://en.wikipedia.org/wiki/Reflexive_relation) ] Reflexive Relation\n",
    "* [ [w](https://en.wikipedia.org/wiki/Relation_(mathematics)) ] Relation\n",
    "* [ [w](https://en.wikipedia.org/wiki/Serial_relation) ] Serial Relation\n",
    "* [ [w](https://en.wikipedia.org/wiki/Symmetric_relation) ] Symmetric Relation\n",
    "* [ [w](https://en.wikipedia.org/wiki/Total_order) ] Total Order\n",
    "* [ [w](https://en.wikipedia.org/wiki/Total_relation) ] Total Relation\n",
    "* [ [w](https://en.wikipedia.org/wiki/Transitive_closure) ] Transitive Closure\n",
    "* [ [w](https://en.wikipedia.org/wiki/Transitive_relation) ] Transitive Relation\n",
    "* [ [w](https://en.wikipedia.org/wiki/Well-order) ] Well-Order\n",
    "* [ [w](https://en.wikipedia.org/wiki/Well-ordering_principle) ] Well-Ordering Principle\n",
    "* [ [w](https://en.wikipedia.org/wiki/Well-ordering_theorem) ] Well-Ordering Theorem"
   ]
  },
  {
   "cell_type": "markdown",
   "metadata": {},
   "source": [
    "---"
   ]
  }
 ],
 "metadata": {
  "language_info": {
   "name": "python"
  }
 },
 "nbformat": 4,
 "nbformat_minor": 2
}
