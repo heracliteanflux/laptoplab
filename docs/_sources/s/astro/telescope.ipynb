{
 "cells": [
  {
   "cell_type": "markdown",
   "metadata": {},
   "source": [
    "# Telescopes"
   ]
  },
  {
   "cell_type": "markdown",
   "metadata": {},
   "source": [
    "---"
   ]
  },
  {
   "cell_type": "markdown",
   "metadata": {},
   "source": [
    "## Table of Contents\n",
    "```{contents}\n",
    "```"
   ]
  },
  {
   "cell_type": "markdown",
   "metadata": {},
   "source": [
    "---"
   ]
  },
  {
   "cell_type": "markdown",
   "metadata": {},
   "source": [
    "## Resources"
   ]
  },
  {
   "cell_type": "markdown",
   "metadata": {},
   "source": [
    "Brands\n",
    "* [ [h](https://www.celestron.com/collections/astronomy) ][ [w](https://en.wikipedia.org/wiki/Celestron) ] Celestron\n",
    "* [ [h](https://www.telescope.com/) ][ [w](https://en.wikipedia.org/wiki/Orion_Telescopes_%26_Binoculars) ] Orion\n",
    "* [ [h](https://www.skywatcherusa.com/) ] Sky Watcher\n",
    "* [ [h](https://www.unistellar.com/) ] Unistellar\n",
    "* [ [h](https://vaonis.com/) ] Vaonis\n",
    "\n",
    "Mags\n",
    "* [ [w](https://en.wikipedia.org/wiki/Astronomy_(magazine)) ] Astronomy\n",
    "* [ [w](https://en.wikipedia.org/wiki/Sky_%26_Telescope) ] Sky & Telescope"
   ]
  },
  {
   "cell_type": "markdown",
   "metadata": {},
   "source": [
    "* [ [reddit](https://www.reddit.com/r/telescopes) ]\n",
    "* [ [Sky&Telescope](https://skyandtelescope.org/astronomy-equipment/choosing-astronomy-equipment/telescopes/types-of-telescopes) ] \"How to choose your first telescope\".\n",
    "* [ [Telescopicwatch](https://telescopicwatch.com/telescope-cost/) ] \"Telescopes Cost: Acceptable, Good, and Really Good Telescopes\".\n",
    "* https://astrobiscuit.com/top-telescope-picks/"
   ]
  },
  {
   "cell_type": "markdown",
   "metadata": {},
   "source": [
    "### YouTube"
   ]
  },
  {
   "cell_type": "markdown",
   "metadata": {},
   "source": [
    "* [ [y](https://www.youtube.com/watch?v=CHmPnfVvbM0) ] `04-10-2023`. High Point Scientific. \"Best Telescope for Viewing the Planets | High Point Scientific\".\n",
    "* [ [y](https://www.youtube.com/watch?v=2wRDRaw6yyo) ] `08-09-2022`. Kielder Observatory. \"So You Want to Buy a Telescope?\"."
   ]
  },
  {
   "cell_type": "markdown",
   "metadata": {},
   "source": [
    "---"
   ]
  },
  {
   "cell_type": "markdown",
   "metadata": {},
   "source": [
    "## Terms"
   ]
  },
  {
   "cell_type": "markdown",
   "metadata": {},
   "source": [
    "* [ [w](https://en.wikipedia.org/wiki/Dobsonian_telescope) ] Dobsonian\n",
    "* [ [w](https://en.wikipedia.org/wiki/Maksutov_telescope) ] Maksutov\n",
    "* [ [w](https://en.wikipedia.org/wiki/Newtonian_telescope) ] Newtonian\n",
    "* [ [w](https://en.wikipedia.org/wiki/Optical_telescope) ] Optical\n",
    "* [ [w](https://en.wikipedia.org/wiki/Reflecting_telescope) ] Reflector\n",
    "* [ [w](https://en.wikipedia.org/wiki/Refracting_telescope) ] Refractor\n",
    "* [ [w](https://en.wikipedia.org/wiki/Ritchey%E2%80%93Chr%C3%A9tien_telescope) ] Ritchey-Chrétien\n",
    "* [ [w](https://en.wikipedia.org/wiki/Schmidt%E2%80%93Cassegrain_telescope) ] Schmidt-Cassegrain"
   ]
  },
  {
   "cell_type": "markdown",
   "metadata": {},
   "source": [
    "* [ [w](https://en.wikipedia.org/wiki/Catadioptric_system) ] Catadioptrics\n",
    "* [ [w](https://en.wikipedia.org/wiki/Catoptrics) ] Catoptrics\n",
    "* [ [w](https://en.wikipedia.org/wiki/Chromatic_aberration) ] Chromatic Aberration (CA)\n",
    "* [ [w](https://en.wikipedia.org/wiki/Dioptrics) ] Dioptrics\n",
    "* [ [w](https://en.wikipedia.org/wiki/Image-forming_optical_system) ] Image-Forming Optical System"
   ]
  },
  {
   "cell_type": "markdown",
   "metadata": {},
   "source": [
    "---"
   ]
  }
 ],
 "metadata": {
  "language_info": {
   "name": "python"
  }
 },
 "nbformat": 4,
 "nbformat_minor": 2
}
