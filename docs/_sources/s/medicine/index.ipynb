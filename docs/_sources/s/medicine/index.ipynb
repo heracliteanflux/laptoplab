{
 "cells": [
  {
   "cell_type": "markdown",
   "metadata": {},
   "source": [
    "# Health & Medicine"
   ]
  },
  {
   "cell_type": "markdown",
   "metadata": {},
   "source": [
    "---"
   ]
  },
  {
   "cell_type": "markdown",
   "metadata": {},
   "source": [
    "## Table of Contents\n",
    "```{contents}\n",
    "```"
   ]
  },
  {
   "cell_type": "markdown",
   "metadata": {},
   "source": [
    "---"
   ]
  },
  {
   "cell_type": "markdown",
   "metadata": {},
   "source": [
    "## Eyes"
   ]
  },
  {
   "cell_type": "markdown",
   "metadata": {},
   "source": [
    "* [ [w](https://en.wikipedia.org/wiki/Ocularist) ] Ocularist\n",
    "* [ [w](https://en.wikipedia.org/wiki/Ophthalmology) ] Ophthalmology\n",
    "* [ [w](https://en.wikipedia.org/wiki/Optician) ] Optician\n",
    "* [ [w](https://en.wikipedia.org/wiki/Optometry) ] Optometry"
   ]
  },
  {
   "cell_type": "markdown",
   "metadata": {},
   "source": [
    "---"
   ]
  },
  {
   "cell_type": "markdown",
   "metadata": {},
   "source": [
    "## Mind"
   ]
  },
  {
   "cell_type": "markdown",
   "metadata": {},
   "source": [
    "* [ [w](https://en.wikipedia.org/wiki/Mood_disorder) ] Affective Disorder\n",
    "* [ [w](https://en.wikipedia.org/wiki/Antidepressant) ] Antidepressant\n",
    "* [ [w](https://en.wikipedia.org/wiki/Anxiety_disorder) ] Anxiety Disorder\n",
    "* [ [w](https://en.wikipedia.org/wiki/Anxiogenic) ] Anxiogenic\n",
    "* [ [w](https://en.wikipedia.org/wiki/Anxiolytic) ] Anxiolytic\n",
    "* [ [w](https://en.wikipedia.org/wiki/Anxiotropic) ] Anxiotropic\n",
    "* [ [w](https://en.wikipedia.org/wiki/Cognitive_behavioral_therapy) ] Cognitive Behavioral Therapy\n",
    "* [ [w](https://en.wikipedia.org/wiki/Mood_disorder) ] Mood Disorder\n",
    "* [ [w](https://en.wikipedia.org/wiki/Obsessive%E2%80%93compulsive_disorder) ] Obsessive-Compulsive Disorder\n",
    "* [ [w](https://en.wikipedia.org/wiki/Psychoactive_drug) ] Psychoactive Drug\n",
    "* [ [w](https://en.wikipedia.org/wiki/Psychoactive_drug) ] Psychopharmaceutical\n",
    "* [ [w](https://en.wikipedia.org/wiki/Schizophrenia) ] Schizophrenia"
   ]
  },
  {
   "cell_type": "markdown",
   "metadata": {},
   "source": [
    "---"
   ]
  },
  {
   "cell_type": "markdown",
   "metadata": {},
   "source": [
    "## Pain"
   ]
  },
  {
   "cell_type": "markdown",
   "metadata": {},
   "source": [
    "* [ [w](https://en.wikipedia.org/wiki/Acupuncture) ] Acupuncture\n",
    "* [ [w](https://en.wikipedia.org/wiki/Anesthesia) ] Anesthesia\n",
    "* [ [w](https://en.wikipedia.org/wiki/Audioanalgesia) ] Audioanalgesia\n",
    "* [ [w](https://en.wikipedia.org/wiki/Chronic_pain) ] Chronic Pain\n",
    "* [ [w](https://en.wikipedia.org/wiki/Interventional_pain_management) ] Interventional Pain Management\n",
    "* [ [w](https://en.wikipedia.org/wiki/Low_back_pain) ] Low Back Pain\n",
    "* [ [w](https://en.wikipedia.org/wiki/Low_back_pain) ] Lumbago\n",
    "* [ [w](https://en.wikipedia.org/wiki/Nociception) ] Nociception\n",
    "* [ [w](https://en.wikipedia.org/wiki/Nociceptor) ] Nociceptor\n",
    "* [ [w](https://en.wikipedia.org/wiki/Pain) ][ [s](https://plato.stanford.edu/entries/pain/) ] Pain\n",
    "* [ [w](https://en.wikipedia.org/wiki/Analgesic) ] Painkiller\n",
    "* [ [w](https://en.wikipedia.org/wiki/Pain_ladder) ] Pain Ladder\n",
    "* [ [w](https://en.wikipedia.org/wiki/Pain_psychology) ] Pain Psychology\n",
    "* [ [w](https://en.wikipedia.org/wiki/Pain_tolerance) ] Pain Tolerance\n",
    "* [ [w](https://en.wikipedia.org/wiki/Pallesthesia) ] Pallesthesia\n",
    "* [ [w](https://en.wikipedia.org/wiki/Paresthesia) ] Paresthesia\n",
    "* [ [w](https://en.wikipedia.org/wiki/Pain_(philosophy)) ] Philosophy of Pain\n",
    "* [ [w](https://en.wikipedia.org/wiki/Referred_pain) ] Referred Pain\n",
    "* [ [w](https://en.wikipedia.org/wiki/Threshold_of_pain) ] Threshold of Pain\n",
    "* [ [w](https://en.wikipedia.org/wiki/Undertreatment_of_pain) ] Undertreatment of Pain"
   ]
  },
  {
   "cell_type": "markdown",
   "metadata": {},
   "source": [
    "* [ [w](https://en.wikipedia.org/wiki/Transcutaneous_electrical_nerve_stimulation) ] Transcutaneous Electrical Nerve Stimulation (TENS)"
   ]
  },
  {
   "cell_type": "markdown",
   "metadata": {},
   "source": [
    "---"
   ]
  },
  {
   "cell_type": "markdown",
   "metadata": {},
   "source": [
    "## Teeth"
   ]
  },
  {
   "cell_type": "markdown",
   "metadata": {},
   "source": [
    "Brands\n",
    "* [ [h](https://www.hello-products.com) ] Hello"
   ]
  },
  {
   "cell_type": "markdown",
   "metadata": {},
   "source": [
    "YouTube\n",
    "* [ [c](https://www.youtube.com/channel/UCr2dMYhh67-qDn_lDnKqbQw) ] Electric Teeth"
   ]
  },
  {
   "cell_type": "markdown",
   "metadata": {},
   "source": [
    "Terms\n",
    "* [ [w](https://en.wikipedia.org/wiki/Dentin_hypersensitivity) ] Dentin Hypersensitivity\n",
    "* [ [w](https://en.wikipedia.org/wiki/Potassium_nitrate) ] Potassium Nitrate\n",
    "* [ [w](https://en.wikipedia.org/wiki/Tin(II)_fluoride) ] Stannous Fluoride"
   ]
  },
  {
   "cell_type": "markdown",
   "metadata": {},
   "source": [
    "---"
   ]
  },
  {
   "cell_type": "markdown",
   "metadata": {},
   "source": [
    "## Terms"
   ]
  },
  {
   "cell_type": "markdown",
   "metadata": {},
   "source": [
    "* [ [w](https://en.wikipedia.org/wiki/Ablation) ] Ablation\n",
    "* [ [w](https://en.wikipedia.org/wiki/Paracetamol) ] Acetaminophen\n",
    "* [ [w](https://en.wikipedia.org/wiki/Amplified_musculoskeletal_pain_syndrome) ] Amplified Musculoskeletal Pain Syndrome (AMPS)\n",
    "* [ [w](https://en.wikipedia.org/wiki/Analgesic) ] Analgesic Drug\n",
    "* [ [w](https://en.wikipedia.org/wiki/Aspirin) ] Aspirin\n",
    "* [ [w](https://en.wikipedia.org/wiki/Autonomic_nervous_system) ] Autonomic Nervous System (ANS)\n",
    "* [ [w](https://en.wikipedia.org/wiki/Bioavailability) ] Bioavailability\n",
    "* [ [w](https://en.wikipedia.org/wiki/Codeine) ] Codeine\n",
    "* [ [w](https://en.wikipedia.org/wiki/Cortical_spreading_depression) ] Cortical Spreading Depression (CSD)\n",
    "* [ [w](https://en.wikipedia.org/wiki/Diabetic_neuropathy) ] Diabetic Neuropathy\n",
    "* [ [w](https://en.wikipedia.org/wiki/Equianalgesic) ] Equianalgesic\n",
    "* [ [w](https://en.wikipedia.org/wiki/Fentanyl) ] Fentanyl\n",
    "* [ [w](https://en.wikipedia.org/wiki/Fibromyalgia) ] Fibromyalgia\n",
    "* [ [w](https://en.wikipedia.org/wiki/Hydrocodone) ] Hydrocodone\n",
    "* [ [w](https://en.wikipedia.org/wiki/Hydrocodone/paracetamol) ] Hydrocodone/Paracetamol\n",
    "* [ [w](https://en.wikipedia.org/wiki/Ibuprofen) ] Ibuprofen\n",
    "* [ [w](https://en.wikipedia.org/wiki/Ketorolac) ] Ketorolac\n",
    "* [ [w](https://en.wikipedia.org/wiki/Manual_therapy) ] Manual Therapy\n",
    "* [ [w](https://en.wikipedia.org/wiki/Migraine) ] Migraine\n",
    "* [ [w](https://en.wikipedia.org/wiki/Morphine) ] Morphine\n",
    "* [ [w](https://en.wikipedia.org/wiki/Multiple_sclerosis) ] Multiple Sclerosis\n",
    "* [ [w](https://en.wikipedia.org/wiki/Myelin) ] Myelin\n",
    "* [ [w](https://en.wikipedia.org/wiki/Myelinogenesis) ] Myelinogenesis\n",
    "* [ [w](https://en.wikipedia.org/wiki/Myokymia) ] Myokymia\n",
    "* [ [w](https://en.wikipedia.org/wiki/Nonsteroidal_anti-inflammatory_drug) ] Non-Steroidal Anti-Inflammatory Drug (NSAID)\n",
    "* [ [w](https://en.wikipedia.org/wiki/Opiate) ] Opiate\n",
    "* [ [w](https://en.wikipedia.org/wiki/Opioid) ] Opioid\n",
    "* [ [w](https://en.wikipedia.org/wiki/Orthostatic_hypotension) ] Orthostatic Hypotension\n",
    "* [ [w](https://en.wikipedia.org/wiki/Oxycodone) ] Oxycodone\n",
    "* [ [w](https://en.wikipedia.org/wiki/Paracetamol) ] Paracetamol\n",
    "* [ [w](https://en.wikipedia.org/wiki/Pathology) ] Pathology\n",
    "* [ [w](https://en.wikipedia.org/wiki/Peripheral_neuropathy) ] Peripheral Neuropathy\n",
    "* [ [w](https://en.wikipedia.org/wiki/Postural_orthostatic_tachycardia_syndrome) ] Postural Orthostatic Tachycardia Syndrome (POTS)\n",
    "* [ [w](https://en.wikipedia.org/wiki/Practical_Management_of_Pain) ] _Practical Management of Pain_\n",
    "* [ [w](https://en.wikipedia.org/wiki/Synesthesia) ] Synesthesia\n",
    "* [ [w](https://en.wikipedia.org/wiki/Tramadol) ] Tramadol\n",
    "* [ [w](https://en.wikipedia.org/wiki/Tylenol_(brand)) ] Tylenol"
   ]
  },
  {
   "cell_type": "markdown",
   "metadata": {},
   "source": [
    "---"
   ]
  }
 ],
 "metadata": {
  "language_info": {
   "name": "python"
  }
 },
 "nbformat": 4,
 "nbformat_minor": 2
}
