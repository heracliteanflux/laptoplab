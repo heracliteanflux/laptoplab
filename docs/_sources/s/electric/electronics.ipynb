{
 "cells": [
  {
   "cell_type": "markdown",
   "metadata": {},
   "source": [
    "# Electronics"
   ]
  },
  {
   "cell_type": "markdown",
   "metadata": {},
   "source": [
    "---"
   ]
  },
  {
   "cell_type": "markdown",
   "metadata": {},
   "source": [
    "## Resources"
   ]
  },
  {
   "cell_type": "markdown",
   "metadata": {},
   "source": [
    "Brands\n",
    "* [ [h](https://siglentna.com/) ] Siglent\n",
    "* [ [h](https://techmaster.us/) ] Techmaster\n",
    "* [ [h](https://www.tek.com/en) ] Tektronix\n",
    "* [ [h](https://www.ultrastatinc.com/index.html) ] United Static Control Products"
   ]
  },
  {
   "cell_type": "markdown",
   "metadata": {},
   "source": [
    "### YouTube"
   ]
  },
  {
   "cell_type": "markdown",
   "metadata": {},
   "source": [
    "* [ [y](https://www.youtube.com/watch?v=19WnYPhNOH0) ] `07-29-2022`. Altium Academy. \"Types of PCB Grounding Explained | PCB Layout\".\n",
    "* [ [y](https://www.youtube.com/watch?v=oyLUmM6rZCk) ] `05-17-2021`. Automotive electronics from schematics by Joseph. \"HOW TO UNDERSTAND A PRINTED CIRCUIT BOARD AND IT'S CONNECTIONS\".\n",
    "* [ [y](https://www.youtube.com/watch?v=Z2LgmIGE2nI) ] `11-26-2019`. Branch Education. \"What are PCBs? || How do PCBs Work?\".\n",
    "* [ [y](https://www.youtube.com/watch?v=-nunWaprTM4) ] `08-29-2021`. Denki Otaku. \"For Beginner】How to start electronics and what item is needed\".\n",
    "* [ [y](https://www.youtube.com/watch?v=_KfWMJV7fQ0) ] `05-22-2021`. TheGeekPub. \"Ultimate Electronics Station Build\".\n",
    "* [ [y](https://www.youtube.com/watch?v=7-djg27lJyQ) ] `07-19-2020`. GreatScott!. \"Essential Tools that you will need for creating electronics projects!\".\n",
    "* [ [y](https://www.youtube.com/watch?v=Bgrubw6B_us) ] `04-11-2022`. IMSAI Guy. \"#1099 How I learned electronics\".\n",
    "* [ [y](https://www.youtube.com/watch?v=Bn5-Edtv2OQ) ] `06-22-2021`. kronenap. \"radio transmitter circuit and electromagnetic waves\".\n",
    "* [ [y](https://www.youtube.com/watch?v=wkAp5x3Z_gc) ] `03-31-2022`. Learn Electronics Repair. \"Pure Electronics Repair. Learn Methodical Fault Finding Techniques / Methods To Fix Almost Anything\".\n",
    "* [ [y](https://www.youtube.com/watch?v=ESnDQl7ZM5o) ] `01-19-2019`. Robert Cox. \"Introduction to Basic Concepts in PCB Design\"."
   ]
  },
  {
   "cell_type": "markdown",
   "metadata": {},
   "source": [
    "---"
   ]
  },
  {
   "cell_type": "markdown",
   "metadata": {},
   "source": [
    "## Figures"
   ]
  },
  {
   "cell_type": "markdown",
   "metadata": {},
   "source": [
    "* [ [w](https://en.wikipedia.org/wiki/Julius_Edgar_Lilienfeld) ] `1882-1963` Lilienfeld, Julius Edgar"
   ]
  },
  {
   "cell_type": "markdown",
   "metadata": {},
   "source": [
    "---"
   ]
  },
  {
   "cell_type": "markdown",
   "metadata": {},
   "source": [
    "## Terms"
   ]
  },
  {
   "cell_type": "markdown",
   "metadata": {},
   "source": [
    "* [ [w](https://en.wikipedia.org/wiki/Electrolytic_capacitor) ] Electrolytic Capacitor\n",
    "* [ [w](https://en.wikipedia.org/wiki/Electronic_engineering) ] Electronic Engineering [ [history](https://en.wikipedia.org/wiki/History_of_electronic_engineering) ]\n",
    "* [ [w](https://en.wikipedia.org/wiki/Lumped-element_model) ] Lumped-Element Model\n",
    "* [ [w](https://en.wikipedia.org/wiki/Microelectronics) ] Microelectronics\n",
    "* [ [w](https://en.wikipedia.org/wiki/Nanoelectronics) ] Nanoelectronics\n",
    "* [ w ] Oscilloscope\n",
    "* [ [w](https://en.wikipedia.org/wiki/Planar_transmission_line) ] Planar Transmission Line\n",
    "* [ [w](https://en.wikipedia.org/wiki/Power_supply) ] Power Supply\n",
    "* [ [w](https://en.wikipedia.org/wiki/Resistor) ] Resistor\n",
    "* [ [w](https://en.wikipedia.org/wiki/Transmission_line) ] Transmission Line"
   ]
  },
  {
   "cell_type": "markdown",
   "metadata": {},
   "source": [
    "---"
   ]
  }
 ],
 "metadata": {
  "kernelspec": {
   "display_name": "Python 3 (ipykernel)",
   "language": "python",
   "name": "python3"
  },
  "language_info": {
   "codemirror_mode": {
    "name": "ipython",
    "version": 3
   },
   "file_extension": ".py",
   "mimetype": "text/x-python",
   "name": "python",
   "nbconvert_exporter": "python",
   "pygments_lexer": "ipython3",
   "version": "3.11.5"
  }
 },
 "nbformat": 4,
 "nbformat_minor": 4
}
