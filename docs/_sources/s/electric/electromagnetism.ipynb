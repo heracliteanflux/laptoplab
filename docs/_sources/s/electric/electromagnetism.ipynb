{
 "cells": [
  {
   "cell_type": "markdown",
   "metadata": {},
   "source": [
    "# Electromagnetism"
   ]
  },
  {
   "cell_type": "markdown",
   "metadata": {},
   "source": [
    "---"
   ]
  },
  {
   "cell_type": "markdown",
   "metadata": {},
   "source": [
    "## Figures"
   ]
  },
  {
   "cell_type": "markdown",
   "metadata": {},
   "source": [
    "* [ [w](https://en.wikipedia.org/wiki/Andr%C3%A9-Marie_Amp%C3%A8re) ] `1775-1836` Ampère, André-Marie\n",
    "* [ [w](https://en.wikipedia.org/wiki/Robert_J._Van_de_Graaff) ] `1901-1967` Van De Graff, Robert"
   ]
  },
  {
   "cell_type": "markdown",
   "metadata": {},
   "source": [
    "---"
   ]
  },
  {
   "cell_type": "markdown",
   "metadata": {},
   "source": [
    "## Maxwell's Equations"
   ]
  },
  {
   "cell_type": "markdown",
   "metadata": {},
   "source": [
    "$\n",
    "\\begin{aligned}\n",
    "\\Phi_E &= \\oiint_S \\mathbf{E} \\cdot d\\mathbf{A}    & &= && \\text{Gauss's Flux Theorem} \\\\\n",
    "\\mu_0 I &= \\oint_C \\mathbf{B} \\cdot d\\mathbf{\\ell}   &= \\mu_0 \\iint_S \\mathbf{J} \\cdot d\\mathbf{S} &= && \\text{Ampere's Circuital Law} \\\\\n",
    "\\end  {aligned}\n",
    "$"
   ]
  },
  {
   "cell_type": "markdown",
   "metadata": {},
   "source": [
    "---"
   ]
  },
  {
   "cell_type": "markdown",
   "metadata": {},
   "source": [
    "$1 \\,\\,\\text{W} = 1 \\,\\,\\text{J s}^{-1}$"
   ]
  },
  {
   "cell_type": "markdown",
   "metadata": {},
   "source": [
    "Unit        | Dimension | Physical Property of Matter\n",
    "------------|-----------|-\n",
    "Ampere (A)  | | Electric Current\n",
    "Coulomb (C) | $\\text{T} \\times \\text{I}$ | Electric Charge\n",
    "Ohm (Ω)     | | Electric Resistance\n",
    "Voltage (V) | | Electric Potential\n",
    "Watt (W)    | | Electric Power"
   ]
  },
  {
   "cell_type": "markdown",
   "metadata": {},
   "source": [
    "Dimension | Unit\n",
    "----------|-----\n",
    "Energy    | kWh\n",
    "Power     | kW"
   ]
  },
  {
   "cell_type": "markdown",
   "metadata": {},
   "source": [
    "## Terms"
   ]
  },
  {
   "cell_type": "markdown",
   "metadata": {},
   "source": [
    "* [ [w](https://en.wikipedia.org/wiki/Joule) ] Joule (J)\n",
    "* [ [w](https://en.wikipedia.org/wiki/Energy) ] Energy (ἐνέργεια)\n",
    "* [ [w](https://en.wikipedia.org/wiki/Kilowatt-hour) ] Kilowatt-Hour (kWh)\n",
    "* [ [w](https://en.wikipedia.org/wiki/Watt) ] Watt (W)"
   ]
  },
  {
   "cell_type": "markdown",
   "metadata": {},
   "source": [
    "* [ [w](https://en.wikipedia.org/wiki/Alternating_current) ] Alternating Current (AC)\n",
    "* [ [w](https://en.wikipedia.org/wiki/Ampere) ] Ampere (A)\n",
    "* [ [w](https://en.wikipedia.org/wiki/Ampere-hour) ] Ampere-Hour (A h)\n",
    "* [ [w](https://en.wikipedia.org/wiki/Amp%C3%A8re%27s_circuital_law) ] Ampere's Circuital Law\n",
    "* [ [w](https://en.wikipedia.org/wiki/Amp%C3%A8re%27s_force_law) ] Ampere's Force Law\n",
    "* [ [w](https://en.wikipedia.org/wiki/Biot%E2%80%93Savart_law) ] Biot-Savart Law\n",
    "* [ [w](https://en.wikipedia.org/wiki/Capacitance) ] Capacitance\n",
    "* [ [w](https://en.wikipedia.org/wiki/Capacitor) ] Capacitor\n",
    "* [ [w](https://en.wikipedia.org/wiki/Characteristic_impedance) ] Characteristic Impedance\n",
    "* [ [w](https://en.wikipedia.org/wiki/Charge_(physics)) ] Charge\n",
    "* [ [w](https://en.wikipedia.org/wiki/Classical_electromagnetism) ] Classical Electromagnetism\n",
    "* [ [w](https://en.wikipedia.org/wiki/Coulomb%27s_law) ] Coulomb's Law\n",
    "* [ [w](https://en.wikipedia.org/wiki/Dielectric) ] Dielectric\n",
    "* [ [w](https://en.wikipedia.org/wiki/Direct_current) ] Direct Current (DC)\n",
    "* [ [w](https://en.wikipedia.org/wiki/Distributed-element_circuit) ] Distributed-Element Circuit\n",
    "* [ [w](https://en.wikipedia.org/wiki/Distributed-element_model) ] Distributed-Element Model\n",
    "* [ [w](https://en.wikipedia.org/wiki/Electric_charge) ] Electric Charge (q)\n",
    "* [ [w](https://en.wikipedia.org/wiki/Electrical_resistance_and_conductance) ] Electric Conductance\n",
    "* [ [w](https://en.wikipedia.org/wiki/Electric_current) ] Electric Current\n",
    "* [ [w](https://en.wikipedia.org/wiki/Electrical_energy) ] Electric Energy\n",
    "* [ [w](https://en.wikipedia.org/wiki/Electric_field) ] Electric Field ($\\mathbf{E}$)\n",
    "* [ [w](https://en.wikipedia.org/wiki/Electric_flux) ] Electric Flux\n",
    "* [ [w](https://en.wikipedia.org/wiki/Electrical_impedance) ] Electric Impedance\n",
    "* [ [w](https://en.wikipedia.org/wiki/Electric_potential) ] Electric Potential\n",
    "* [ [w](https://en.wikipedia.org/wiki/Electric_power) ] Electric Power\n",
    "* [ [w](https://en.wikipedia.org/wiki/Electrical_reactance) ] Electric Reactance\n",
    "* [ [w](https://en.wikipedia.org/wiki/Electrical_resistance_and_conductance) ] Electric Resistance\n",
    "* [ [w](https://en.wikipedia.org/wiki/Electromagnetic_induction) ] Electromagnetic Induction\n",
    "* [ [w](https://en.wikipedia.org/wiki/Electromagnetism) ] Electromagnetism\n",
    "* [ [w](https://en.wikipedia.org/wiki/Electromotive_force) ] Electromotive Force (EMF)\n",
    "* [ [w](https://en.wikipedia.org/wiki/Electrostatic_generator) ] Electrostatic Generator\n",
    "* [ [w](https://en.wikipedia.org/wiki/Electrostatics) ] Electrostatics\n",
    "* [ [w](https://en.wikipedia.org/wiki/Elementary_charge) ] Elementary Charge\n",
    "* [ [w](https://en.wikipedia.org/wiki/Faraday%27s_law_of_induction) ] Faraday's Law of Induction\n",
    "* [ [w](https://en.wikipedia.org/wiki/Gauss%27s_law) ] Gauss's Law\n",
    "* [ [w](https://en.wikipedia.org/wiki/Inductance) ] Inductance\n",
    "* [ [w](https://en.wikipedia.org/wiki/Inductor) ] Inductor\n",
    "* [ [w](https://en.wikipedia.org/wiki/Insulator_(electricity)) ] Insulator\n",
    "* [ [w](https://en.wikipedia.org/wiki/Kilowatt-hour) ] Kilowatt-Hour (kWh)\n",
    "* [ [w](https://en.wikipedia.org/wiki/Magnetism) ] Magnetism\n",
    "* [ [w](https://en.wikipedia.org/wiki/Maxwell%27s_equations) ] Maxwell's Equations\n",
    "* [ [w](https://en.wikipedia.org/wiki/Ohm) ] Ohm (Ω)\n",
    "* [ [w](https://en.wikipedia.org/wiki/Power_inverter) ] Power Inverter\n",
    "* [ [w](https://en.wikipedia.org/wiki/Rectifier) ] Rectifier\n",
    "* [ [w](https://en.wikipedia.org/wiki/Resistor) ] Resistor\n",
    "* [ [w](https://en.wikipedia.org/wiki/Siemens_(unit)) ] Siemens (S)\n",
    "* [ [w](https://en.wikipedia.org/wiki/Solenoid) ] Solenoid\n",
    "* [ [w](https://en.wikipedia.org/wiki/Static_electricity) ] Static Electricity\n",
    "* [ [w](https://en.wikipedia.org/wiki/Van_de_Graaff_generator) ] Van De Graff Generator\n",
    "* [ [w](https://en.wikipedia.org/wiki/Voltage) ] Voltage\n",
    "* [ [w](https://en.wikipedia.org/wiki/Watt) ] Watt (W)"
   ]
  },
  {
   "cell_type": "markdown",
   "metadata": {},
   "source": [
    "---"
   ]
  }
 ],
 "metadata": {
  "language_info": {
   "name": "python"
  }
 },
 "nbformat": 4,
 "nbformat_minor": 2
}
