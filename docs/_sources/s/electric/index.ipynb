{
 "cells": [
  {
   "cell_type": "markdown",
   "metadata": {},
   "source": [
    "# Electrical Engineering & Electronics"
   ]
  },
  {
   "cell_type": "markdown",
   "metadata": {},
   "source": [
    "---"
   ]
  },
  {
   "cell_type": "markdown",
   "metadata": {},
   "source": [
    "## Table of Contents\n",
    "```{contents}\n",
    "```"
   ]
  },
  {
   "cell_type": "markdown",
   "metadata": {},
   "source": [
    "---"
   ]
  },
  {
   "cell_type": "markdown",
   "metadata": {},
   "source": [
    "## Resources"
   ]
  },
  {
   "cell_type": "markdown",
   "metadata": {},
   "source": [
    "MIT Open Courseware. \"Digital Signal Processing\". <https://ocw.mit.edu/resources/res-6-008-digital-signal-processing-spring-2011/>.<br>"
   ]
  },
  {
   "cell_type": "markdown",
   "metadata": {},
   "source": [
    "[ [y](https://www.youtube.com/user/ads102) ] David Salvia\n",
    "\n",
    "My Lesson\n",
    "* [ [y](https://www.youtube.com/watch?v=45zMW6TYpnA) ] `11-01-2021`. \"Power Electronics (Converter Control) Full Course\".\n",
    "\n",
    "Nerd's Lesson\n",
    "* [ [y](https://www.youtube.com/watch?v=nb4ovfwqup8) ] `07-26-2020`. Nerd's Lesson. \"Basic Electronics Part 1\".\n",
    "\n",
    "Rich Radke\n",
    "* [ [y](https://www.youtube.com/watch?v=hVOA8VtKLgk) ] `08-25-2014`. Rich Radke. \"DSP Lecture 1: Signals\".\n",
    "\n",
    "Solid State Workshop\n",
    "* [ [y](https://www.youtube.com/watch?v=sqxzQkAdJm0) ] `03-22-2015`. \"Essential & Practical Circuit Analysis: Part 1- DC Circuits\".\n",
    "* [ [y](https://www.youtube.com/watch?v=brB1sZyJPls) ] `01-04-2014`. \"An Introduction to Linear AC-DC Power Supplies\".\n",
    "\n",
    "Zach Star\n",
    "* [ [y](https://www.youtube.com/watch?v=FCNHN7B9iDM) ] `09-09-2023`. \"Why do Electrical Engineers use imaginary numbers in circuit analysis?\".\n",
    "\n",
    "more\n",
    "* [ [y](https://www.youtube.com/watch?v=ngo3ZTrT69A) ] `08-14-2022`. Ali the Dazzling. \"4 Years of Electrical Engineering in 26 Minutes\".\n",
    "* [ [y](https://www.youtube.com/watch?v=X_crwFuPht4) ] `09-08-2023`. AlphaPhoenix. \"An intuitive approach for understanding electricity\".\n",
    "* [ [y](https://www.youtube.com/watch?v=ImnW8h9pKuk) ] `05-12-2020`. The AM Tech. \"How I Started in Electronics (& how you shouldn't)\".\n",
    "* [ [y](https://www.youtube.com/watch?v=6Maq5IyHSuc) ] `03-15-2016`. bigclivedotcom. \"A simple guide to electronic components.\".\n",
    "* [ [y](https://www.youtube.com/watch?v=WlUOr4z3Lbs) ] `08-13-2021`. Full Course. \"Electronics Fundamentals\".\n",
    "* [ [y](https://www.youtube.com/watch?v=gABKhF6cFMc) ] `01-28-2021`. Messy Circuits. \"How to setup a budget Electronics Lab, cheap but functional\".\n",
    "* [ [y](https://www.youtube.com/watch?v=dR8nqJzrnSg) ] `09-09-2022`. Noel's Retro Lab. \"Essential Tools For An Electronics Lab\"."
   ]
  },
  {
   "cell_type": "markdown",
   "metadata": {},
   "source": [
    "---"
   ]
  },
  {
   "cell_type": "markdown",
   "metadata": {},
   "source": [
    "## Texts"
   ]
  },
  {
   "cell_type": "markdown",
   "metadata": {},
   "source": [
    "* Janert, Philipp K. (2013). _Feedback Control for Computer Science: Introducing Control Theory to Enterprise Programmers_. O'Reilly.\n",
    "* Lyons, Richard. (2010). _Understanding Digital Signal Processing, 3rd Ed_. Pearson.\n",
    "* Rajewski, Justin. (2017). _Learning FPGAs: Digital Design for Beginners with Mojo and Lucid HDL_. O'Reilly."
   ]
  },
  {
   "cell_type": "markdown",
   "metadata": {},
   "source": [
    "Electronics\n",
    "* Hughes, J. M. (2016). _Arduino A Technical Reference: A Handbook for Technicians, Engineers, and Makers_. O'Reilly.\n",
    "* Iyer, Shivkumar V. (2018). _Simulating Nonlinear Circuits with Python Power Electronics: An Open-Source Simulator, Based on Python_. Springer.\n",
    "* Margolis, Michael; Brian Jepson; & Nicholas Robert Weldin. (2020). _Arduino Cookbook: Recipes to Begin, Expand, and Enhance Your Projects_. 3rd Ed. O'Reilly.\n",
    "* Monk, Simon. (2023). _Raspberry Pi Cookbook: Software and Hardware Problems and Solutions_. O'Reilly.\n",
    "* Monk, Simon. (2017). _Electronics Cookbook: Practical Electronic Recipes with Arduino & Raspberry Pi_. O'Reilly.\n",
    "* Oskay, Windell & Eric Schlaepfer. (2022). _Open Circuits: The Inner Beauty of Electronic Components_. [No Starch Press](https://nostarch.com/open-circuits).\n",
    "* Platt, Charles. (2016). _Encyclopedia of Electronic Components Volume 3: Sensors for Location, Presence, Proximity, Orientation, Oscillation, Force, Load, Human Input, Liquid and Gas Properties, Light, Heat, Sound, and Electricity_. Make Community.\n",
    "* Platt, Charles. (2014). _Encyclopedia of Electronic Components Volume 2: LEDs, LCDs, Audio, Thyristors, Digital Logic, and Amplification_. Make Community.\n",
    "* Platt, Charles. (2012). _Encyclopedia of Electronic Components Volume 1: Resistors, Capacitors, Inductors, Switches, Encoders, Relapys, Transistors_. Make Community.\n",
    "* Scherz, Paul & Simon Monk. (2016). _Practical Electronics for Inventors_. 4th Ed. McGraw Hill."
   ]
  },
  {
   "cell_type": "markdown",
   "metadata": {},
   "source": [
    "Digital Signal Processing\n",
    "* [ [h](https://greenteapress.com/wp/think-dsp/) ][ [g](https://github.com/AllenDowney/ThinkDSP) ] Downey, Allen. (2014). _Think DSP_. Green Tea Press.\n",
    "* Lyons, Richard. (2010). _Understanding Digital Signal Processing_. 3rd Ed. Pearson.\n",
    "* Serpedin, Erchin; Thomas Chen; & Dinesh Rajan. (2017). _Mathematical Foundations for Signal Processing, Communications, and Networking_. CRC Press.\n",
    "* [ [g](https://github.com/unpingco/Python-for-Signal-Processing) ] Unpingco, Jose. (2014). _Python for Signal Processing_. Springer."
   ]
  },
  {
   "cell_type": "markdown",
   "metadata": {},
   "source": [
    "---"
   ]
  },
  {
   "cell_type": "markdown",
   "metadata": {},
   "source": [
    "## Terms"
   ]
  },
  {
   "cell_type": "markdown",
   "metadata": {},
   "source": [
    "* [ [w](https://en.wikipedia.org/wiki/Digital_sensor) ] Digital Sensor\n",
    "* [ [w](https://en.wikipedia.org/wiki/Network_analysis_(electrical_circuits)) ] Network Analysis\n",
    "* [ [w](https://en.wikipedia.org/wiki/Virtual_ground) ] Virtual Ground"
   ]
  },
  {
   "cell_type": "markdown",
   "metadata": {},
   "source": [
    "* [ [w](https://en.wikipedia.org/wiki/Analog-to-digital_converter) ] ADC Analog-to-Digital Converter\n",
    "* [ [w](https://en.wikipedia.org/wiki/Anti-aliasing_filter) ] AAF Anti-Aliasing Filter\n",
    "* [ [w](https://en.wikipedia.org/wiki/Analogue_electronics) ] Analog Electronics\n",
    "* [ [w](https://en.wikipedia.org/wiki/Analog_signal) ] Analog Signal\n",
    "* [ [w](https://en.wikipedia.org/wiki/Application-specific_integrated_circuit) ] ASIC Application-Specific Integrated Circuit\n",
    "* [ [w](https://en.wikipedia.org/wiki/Balanced_line) ] Balanced Line\n",
    "* [ [w](https://en.wikipedia.org/wiki/Bandwidth_(signal_processing)) ] Bandwidth\n",
    "* [ [w](https://en.wikipedia.org/wiki/Band-pass_filter) ] BPF Bandpass Filter\n",
    "* [ [w](https://en.wikipedia.org/wiki/Causal_filter) ] Causal Filter\n",
    "* [ [w](https://en.wikipedia.org/wiki/Causal_system) ] Causal System\n",
    "* [ [w](https://en.wikipedia.org/wiki/Discrete_time_and_continuous_time) ] Continuous Time\n",
    "* [ [w](https://en.wikipedia.org/wiki/Control_theory) ] Control Theory\n",
    "* [ [w](https://en.wikipedia.org/wiki/Convolution) ] Convolution\n",
    "* [ [w](https://en.wikipedia.org/wiki/Convolution_theorem) ] Convolution Theorem\n",
    "* [ [w](https://en.wikipedia.org/wiki/Recurrence_relation) ] Difference Equation\n",
    "* [ [w](https://en.wikipedia.org/wiki/Digital_filter) ] Digital Filter\n",
    "* [ [w](https://en.wikipedia.org/wiki/Digital-to-analog_converter) ] DAC Digital-to-Analog Converter\n",
    "* [ [w](https://en.wikipedia.org/wiki/Digital_signal_processing) ] DSP Digital Signal Processing\n",
    "* [ [w](https://en.wikipedia.org/wiki/Dirac_delta_function) ] Dirac Delta Function\n",
    "* [ [w](https://en.wikipedia.org/wiki/Discrete_time_and_continuous_time) ] Discrete Time\n",
    "* [ [w](https://en.wikipedia.org/wiki/Dynamical_system) ] Dynamical System\n",
    "* [ [w](https://en.wikipedia.org/wiki/Electric_power_distribution) ] Electric Power Distribution\n",
    "* [ [w](https://en.wikipedia.org/wiki/Electrical_engineering) ] Electrical Engineering\n",
    "* [ [w](https://en.wikipedia.org/wiki/Electronic_engineering) ] Electronic Engineering\n",
    "* [ [w](https://en.wikipedia.org/wiki/Electronic_circuit) ] Electronic Circuit\n",
    "* [ [w](https://en.wikipedia.org/wiki/Electronic_filter) ] Electronic Filter\n",
    "* [ w ] FFT Fast Fourier Transform\n",
    "* [ [w](https://en.wikipedia.org/wiki/Filter_(mathematics))  ] Filter, mathematical\n",
    "* [ [w](https://en.wikipedia.org/wiki/Filter_(signal_processing)) ] Filter\n",
    "* [ [w](https://en.wikipedia.org/wiki/Filter_design) ] Filter Design\n",
    "* [ [w](https://en.wikipedia.org/wiki/Finite_impulse_response) ] FIR Finite Impulse Response Filter\n",
    "* [ [w](https://en.wikipedia.org/wiki/Field-programmable_gate_array) ] FPGA Field-Programmable Gate Array\n",
    "* [ [w](https://en.wikipedia.org/wiki/Fourier_analysis) ] Fourier Analysis\n",
    "* [ [w](https://en.wikipedia.org/wiki/Frequency_domain) ] Frequency Domain\n",
    "* [ [w](https://en.wikipedia.org/wiki/Frequency_response) ] Frequency Response\n",
    "* [ [w](https://en.wikipedia.org/wiki/Half-power_point) ] Half-Power Point\n",
    "* [ [w](https://en.wikipedia.org/wiki/High-pass_filter) ] HPF High-Pass Filter\n",
    "* [ [w](https://en.wikipedia.org/wiki/Impulse_response) ] IRF Impulse Response (Function)\n",
    "* [ [w](https://en.wikipedia.org/wiki/In-band_signaling) ] In Band Signaling\n",
    "* [ [w](https://en.wikipedia.org/wiki/Infinite_impulse_response) ] IIR Infinite Impulse Response Filter\n",
    "* [ [w](https://en.wikipedia.org/wiki/Information_theory) ] Information Theory\n",
    "* [ [w](https://en.wikipedia.org/wiki/Integrated_circuit) ] Integrated Circuit\n",
    "* [ [w](https://en.wikipedia.org/wiki/Kronecker_delta) ] Kronecker Delta Function\n",
    "* [ [w](https://en.wikipedia.org/wiki/Laplace_transform) ] Laplace Transform\n",
    "* [ [w](https://en.wikipedia.org/wiki/Linear_phase) ] Linear Phase\n",
    "* [ [w](https://en.wikipedia.org/wiki/Linear_time-invariant_system) ] LTI Linear Time-Invariant System\n",
    "* [ [w](https://en.wikipedia.org/wiki/Low-pass_filter) ] LPF Low-Pass Filter\n",
    "* [ [w](https://en.wikipedia.org/wiki/Nonrecursive_filter) ] Non Recursive Filter\n",
    "* [ [w](https://en.wikipedia.org/wiki/Operational_calculus) ] Operational Calculus\n",
    "* [ [w](https://en.wikipedia.org/wiki/Phase_response) ] Phase Response\n",
    "* [ [w](https://en.wikipedia.org/wiki/Pulse_(signal_processing)) ] Pulse\n",
    "* [ [w](https://en.wikipedia.org/wiki/Pulse_shaping) ] Pulse Shaping\n",
    "* [ [w](https://en.wikipedia.org/wiki/Recurrence_relation) ] Recurrence Relation\n",
    "* [ [w](https://en.wikipedia.org/wiki/Recursive_filter) ] Recursive Filter\n",
    "* [ [w](https://en.wikipedia.org/wiki/Signal) ] Signal\n",
    "* [ [w](https://en.wikipedia.org/wiki/Signal_processing) ] Signal Processing\n",
    "* [ [w](https://en.wikipedia.org/wiki/Signaling_(telecommunications)) ] Signaling\n",
    "* [ [w](https://en.wikipedia.org/wiki/Smart_grid) ] Smart Grid\n",
    "* [ [w](https://en.wikipedia.org/wiki/Soldering) ] Soldering\n",
    "* [ w ] Spectral Analysis\n",
    "* [ [w](https://en.wikipedia.org/wiki/State_observer) ] State Estimator/Observer\n",
    "* [ [w](https://en.wikipedia.org/wiki/System_analysis) ] System Analysis\n",
    "* [ [w](https://en.wikipedia.org/wiki/Telecommunication) ] Telecommunication\n",
    "* [ [w](https://en.wikipedia.org/wiki/Time-invariant_system) ] TIV Time-Invariant System\n",
    "* [ [w](https://en.wikipedia.org/wiki/Time-scale_calculus) ] Time-Scale Calculus\n",
    "* [ [w](https://en.wikipedia.org/wiki/Time_domain) ] Time Domain\n",
    "* [ [w](https://en.wikipedia.org/wiki/Time_signal) ] Time Signal\n",
    "* [ [w](https://en.wikipedia.org/wiki/Transfer_function) ] Transfer Function\n",
    "* [ [w](https://en.wikipedia.org/wiki/Dirac_delta_function) ] Unit Impulse\n",
    "* [ [w](https://en.wikipedia.org/wiki/Window_function) ] Window Function\n",
    "* [ [w](https://en.wikipedia.org/wiki/Z-transform) ] Z-Transform"
   ]
  },
  {
   "cell_type": "markdown",
   "metadata": {},
   "source": [
    "---"
   ]
  }
 ],
 "metadata": {
  "language_info": {
   "name": "python"
  }
 },
 "nbformat": 4,
 "nbformat_minor": 2
}
