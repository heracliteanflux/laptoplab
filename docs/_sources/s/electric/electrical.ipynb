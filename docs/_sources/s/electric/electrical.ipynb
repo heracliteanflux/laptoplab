{
 "cells": [
  {
   "cell_type": "markdown",
   "metadata": {},
   "source": [
    "# Electrical"
   ]
  },
  {
   "cell_type": "markdown",
   "metadata": {},
   "source": [
    "---"
   ]
  },
  {
   "cell_type": "markdown",
   "metadata": {},
   "source": [
    "## Table of Contents\n",
    "```{contents}\n",
    "```"
   ]
  },
  {
   "cell_type": "markdown",
   "metadata": {},
   "source": [
    "---"
   ]
  },
  {
   "cell_type": "markdown",
   "metadata": {},
   "source": [
    "Equipment\n",
    "* 1-inch drill bit\n",
    "* cable runner\n",
    "* glasses\n",
    "* gloves, [ insulating/non-conducting, cut-resistant ]\n",
    "* screw driver [ insulating/non-conducting torque ]\n",
    "* zip ties\n",
    "\n",
    "testers\n",
    "* clamp meter\n",
    "* digital multimeter (DMM)\n",
    "* receptacle or outlet tester (RT)\n",
    "  * AFCI\n",
    "  * GFCI\n",
    "  * trip\n",
    "\n",
    "brands\n",
    "* [ [h](https://www.idealind.com/us/en.html) ] Ideal\n",
    "* [ [h](https://www.kleintools.com/) ] Klein"
   ]
  },
  {
   "cell_type": "markdown",
   "metadata": {},
   "source": [
    "* Amperage (ammeter)\n",
    "* Continuity\n",
    "* Resistance (Impedance)\n",
    "* Voltage (voltmeter)\n",
    "  * Hot-to-neutral: 120 V(should match hot-to-ground reading)\n",
    "  * Hot-to-ground: 120 V (should match hot-to-neutral reading)\n",
    "  * Neutral-to-ground: 0 V (they should be bonded together at the electrical service panel)\n",
    "* Wattage"
   ]
  },
  {
   "cell_type": "markdown",
   "metadata": {},
   "source": [
    "---"
   ]
  },
  {
   "cell_type": "markdown",
   "metadata": {},
   "source": [
    "## Battery"
   ]
  },
  {
   "cell_type": "markdown",
   "metadata": {},
   "source": [
    "* [ [w](https://en.wikipedia.org/wiki/Button_cell) ] Button Cell"
   ]
  },
  {
   "cell_type": "markdown",
   "metadata": {},
   "source": [
    "---"
   ]
  },
  {
   "cell_type": "markdown",
   "metadata": {},
   "source": [
    "## Over Voltage (Surge) Protection"
   ]
  },
  {
   "cell_type": "markdown",
   "metadata": {},
   "source": [
    "Power Strip / Surge Protector\n",
    "* Clamping Voltage\n",
    "* Joule rating\n",
    "\n",
    "Surge-Protective Device (SPD)\n",
    "* Surge Arrestor\n",
    "  * Article 280 (>=1000 volts)\n",
    "* Surge Protector\n",
    "  * Article 285 (<1000 volts)\n",
    "* Type\n",
    "  * Type 1 - line-or-load (utility-side, panel)\n",
    "  * Type 2 - load (panel)\n",
    "  * Type 3 - point-of-use\n",
    "  * Type 4 - manufacturer-integrated"
   ]
  },
  {
   "cell_type": "markdown",
   "metadata": {},
   "source": [
    "Brands\n",
    "* [ [h](https://www.apc.com/us/en/) ] APC\n",
    "* [ [h](https://www.cyberpowersystems.com/) ] CyberPower\n",
    "* [ [h](https://www.se.com/us/en/) ] Schneider\n",
    "* [ [h](https://tripplite.eaton.com/) ] Tripp Lite\n",
    "* [ [h](https://www.ugreen.com/) ] Ugreen"
   ]
  },
  {
   "cell_type": "markdown",
   "metadata": {},
   "source": [
    "YouTube\n",
    "* [ [y](https://www.youtube.com/watch?v=0loXukB302Q) ] `01-21-2024`. James Gatlin. \"How to use a multimeter like a pro, the ultimate guide\".\n",
    "* [ [y](https://www.youtube.com/watch?v=T37V63EQdh8) ] `10-08-2022`. \"How To Install a Surge Protector in Main Panel - Best SPD Location & NEC Type 1, 2, 3, & 4 Explained\".\n",
    "* [ [y](https://www.youtube.com/watch?v=pUjzn-J97OY) ] `12-22-2021`. Electric Pro Academy. \"Protecting My Whole Home From Electrical Surge\".\n",
    "* [ [y](https://www.youtube.com/watch?v=aoNu1TX8IH0) ] `12-21-2020`. Electrician U. \"SURGE PROTECTORS (SPDs) - What They Are, How They Work, What You Need To Know\".\n",
    "* [ [y](https://www.youtube.com/watch?v=EShLNyEoqHM) ] `10-14-2015`. Techquickie. \"Surge Protectors As Fast As Possible\"."
   ]
  },
  {
   "cell_type": "markdown",
   "metadata": {},
   "source": [
    "---"
   ]
  },
  {
   "cell_type": "markdown",
   "metadata": {},
   "source": [
    "## Smart Panel"
   ]
  },
  {
   "cell_type": "markdown",
   "metadata": {},
   "source": [
    "Panel\n",
    "* [ [h](https://us.ecoflow.com/) ] EcoFlow\n",
    "* [ [h](https://www.leviton.com/en/products/residential/load-centers) ] Leviton Load Center\n",
    "* [ [h](https://www.luminsmart.com/platform/smart-electrical-panel/) ] Lumin\n",
    "* [ [h](https://www.span.io/panel) ] Span"
   ]
  },
  {
   "cell_type": "markdown",
   "metadata": {},
   "source": [
    "YouTube\n",
    "* [ [y](https://www.youtube.com/watch?v=nolUNw3rUok) ] `01-09-2024`. Electric Pro Academy. \"The Best Smart Sub-Panel We've Ever Installed\".\n",
    "* [ [y](https://www.youtube.com/watch?v=-eM7jUHUNSA) ] `09-28-2022`. Electric Pro Academy. \"An Electrical Panel Installation, But Sexier\".\n",
    "* EcoFlow Delta Pro Ultra\n",
    "  * [ [y](https://www.youtube.com/watch?v=E3loAZhEif8) ] `11-11-2023`. Everyday Solar. \"Hands-On with EcoFlow Delta Pro Ultra | Raising the Bar for Power Stations\".\n",
    "  * [ [y](https://www.youtube.com/watch?v=9gUmjboj62A) ] `01-09-2024`. JOHNNY'S WEEKENDS. \"EcoFlow Delta Pro Ultra Should you Buy? Pricing and more\"."
   ]
  },
  {
   "cell_type": "markdown",
   "metadata": {},
   "source": [
    "---"
   ]
  },
  {
   "cell_type": "markdown",
   "metadata": {},
   "source": [
    "## Smart Power Strip"
   ]
  },
  {
   "cell_type": "markdown",
   "metadata": {},
   "source": [
    "Brands\n",
    "* [ [h](https://www.evehome.com/en-us/eve-energy) ] Eve\n",
    "* [ [h](https://www.kasasmart.com/us) ] Kasa"
   ]
  },
  {
   "cell_type": "markdown",
   "metadata": {},
   "source": [
    "---"
   ]
  },
  {
   "cell_type": "markdown",
   "metadata": {},
   "source": [
    "## Smart Relay"
   ]
  },
  {
   "cell_type": "markdown",
   "metadata": {},
   "source": [
    "* [ [y](https://www.youtube.com/watch?v=5WXymS_6Ae0) ] `10-10-2023`. Automate Your Life. \"How To Use Smart Relays - 101 (Featuring The NEW Aqara Relay Module T2)\"."
   ]
  },
  {
   "cell_type": "markdown",
   "metadata": {},
   "source": [
    "---"
   ]
  },
  {
   "cell_type": "markdown",
   "metadata": {},
   "source": [
    "## Uninterruptible Power Supply"
   ]
  },
  {
   "cell_type": "markdown",
   "metadata": {},
   "source": [
    "* [ [article](https://www.pcgamer.com/the-best-uninterruptible-power-supplies-ups-for-pc/) ] `01-02-2024`. PC Gamer. \"The best UPS battery backup for PC gaming in 2024\"."
   ]
  },
  {
   "cell_type": "markdown",
   "metadata": {},
   "source": [
    "Brands\n",
    "* [ h ] APC\n",
    "* [ h ] CyberPower\n",
    "* [ [h](https://www.eaton.com/us/en-us.html) ] Eaton\n",
    "* [ h ] Tripp Lite\n",
    "* [ [h](https://www.vertiv.com/en-emea/) ] Vertiv"
   ]
  },
  {
   "cell_type": "markdown",
   "metadata": {},
   "source": [
    "---"
   ]
  },
  {
   "cell_type": "markdown",
   "metadata": {},
   "source": [
    "## Resources"
   ]
  },
  {
   "cell_type": "markdown",
   "metadata": {},
   "source": [
    "YouTube\n",
    "* [ [y](https://www.youtube.com/@americanelectrician) ] American Electrician\n",
    "* [ y ] Everyday Home Repairs\n",
    "  * [ [y](https://www.youtube.com/watch?v=kawFTI5-kqU) ] `06-09-2023`. \"Why The Clamp Meter Is The Only Tester You Need | Pros and DIYers\".\n",
    "* [ [y](https://www.youtube.com/@ElectricProAcademy) ] Electric Pro Academy\n",
    "* [ [y](https://www.youtube.com/channel/UCB3jUEyCLRbCw7QED0vnXYg) ] Electrician U\n",
    "  * [ [y](https://www.youtube.com/watch?v=QQlOmW0D7Zs) ] `07-04-2022`. \"All the Tools Apprentice Electricians ABSOLUTELY Need!\".\n",
    "  * [ [y](https://www.youtube.com/watch?v=FyHocY35HIM) ] `06-15-2022`. \"Every Insulated Tool Electricians Need!!!\".\n",
    "  * [ [y](https://www.youtube.com/watch?v=ZfWDESUEfmA) ] `03-15-2021`. \"4 Basic Electrical Testers & HOW TO USE THEM\".\n",
    "  * [ [y](https://www.youtube.com/watch?v=eBD-FGUlyCM) ] `09-11-2019`. \"Episode 42 - APPRENTICE TOOLS - 13 Tools Apprentice Electricians Need To Have\".\n",
    "* Other\n",
    "  * [ [y](https://www.youtube.com/watch?v=nKWf7XTg-wg) ] `12-18-2020`. Benjamin Sahlstrom. \"Why Neutrals & Grounds are Connected in a Main Panel\".\n",
    "  * [ [y](https://www.youtube.com/watch?v=-jeP1d8PC1I) ] `04-01-2023`. How To Home. \"7 FATAL Wiring Mistakes Most DIYers Don't Know They Are Making | Most Are Guilty of 3\"."
   ]
  },
  {
   "cell_type": "markdown",
   "metadata": {},
   "source": [
    "---"
   ]
  },
  {
   "cell_type": "markdown",
   "metadata": {},
   "source": [
    "## Terms"
   ]
  },
  {
   "cell_type": "markdown",
   "metadata": {},
   "source": [
    "Code\n",
    "* Article 240 - Over Current Protection\n",
    "* Article 242 - Over Voltage Protection\n",
    "\n",
    "Terms\n",
    "* [ w ] Arc Fault\n",
    "* [ w ] Circuit Breaker\n",
    "* [ [w](https://en.wikipedia.org/wiki/Circuit_total_limitation) ] Circuit Total Limitation (CTL)\n",
    "* [ [w](https://en.wikipedia.org/wiki/Control_system) ] Control System\n",
    "* [ [w](https://en.wikipedia.org/wiki/Distribution_board) ] Distribution Board (Electrical Panel, Service Panel)\n",
    "* [ [w](https://en.wikipedia.org/wiki/Electric_power_distribution) ] Electric Power Distribution\n",
    "* [ [w](https://en.wikipedia.org/wiki/Electric_utility) ] Electric Utility\n",
    "* [ w ] Fuse\n",
    "* [ w ] Ground Fault\n",
    "* [ [w](https://en.wikipedia.org/wiki/National_Electrical_Code) ] National Electric Code (NEC)\n",
    "* [ w ] Over-Current Protection\n",
    "* [ w ] Over-Voltage (Surge) Protection\n",
    "* [ w ] Short Circuit\n",
    "* [ w ] Surge Protection Device (SPD)\n",
    "* [ w ] Transient Voltage Surge Suppression (TVSS) (Surge Protection Device)\n",
    "* [ [w](https://en.wikipedia.org/wiki/UL_(safety_organization)) ] Underwriters Laboratories"
   ]
  },
  {
   "cell_type": "markdown",
   "metadata": {},
   "source": [
    "---"
   ]
  },
  {
   "cell_type": "markdown",
   "metadata": {},
   "source": [
    "## Notes"
   ]
  },
  {
   "cell_type": "markdown",
   "metadata": {},
   "source": [
    "Electrical Wire\n",
    "* Aluminum\n",
    "* Copper"
   ]
  },
  {
   "cell_type": "markdown",
   "metadata": {},
   "source": [
    "How to cutout rectangular hole in wall for electrical box?"
   ]
  },
  {
   "cell_type": "markdown",
   "metadata": {},
   "source": [
    "### Electrical Companies"
   ]
  },
  {
   "cell_type": "markdown",
   "metadata": {},
   "source": [
    "* ABB (ITE MV Medium Voltage?)\n",
    "* Schneider Electric (Square D)\n",
    "* Siemens (ITE LV Low Voltage?)"
   ]
  },
  {
   "cell_type": "markdown",
   "metadata": {},
   "source": [
    "#### Old Electrical Companies"
   ]
  },
  {
   "cell_type": "markdown",
   "metadata": {},
   "source": [
    "* ABB < Brown-Boveri + ASEA\n",
    "* Ferraz/Shawmut < Gould/Shawmut + Carbone Ferraz ?\n",
    "* FPE Federal Pacific Electrical/Stab-Loc (1950s-1980s)\n",
    "  * circuit breakers don't trip\n",
    "* ITE (Siemens)\n",
    "  * 1890s founded by Cutter Electrical & Manufacturing Co. of Philadelphia\n",
    "  * 1928 name changed to ITE Circuit Breaker Co.\n",
    "  * 1950s merged with Bull Dog Electric Company in Detroit\n",
    "  * 1968 merged with Imperial-Eastman; name changed to ITE Imperial\n",
    "  * 1973/6? purchased by Gould Co.\n",
    "  * 1982/3? purchased by Siemens AG\n",
    "  * ITE stands for Inverse Time Element\n",
    "* Zinsco/GTE-Sylvania (1970s)\n",
    "  * circuit breakers melt and bond to the main panel"
   ]
  },
  {
   "cell_type": "markdown",
   "metadata": {},
   "source": [
    "### Circuit Breaker"
   ]
  },
  {
   "cell_type": "markdown",
   "metadata": {},
   "source": [
    "Thermal Magnetic vs Hydraulic Magnetic\n",
    "\n",
    "* Thermal Magnetic Breaker\n",
    "* Hydraulic Magnetic Breaker\n",
    "\n",
    "\n",
    "\n",
    "* Thermal or Hydraulic Element protects against gradual increase in resistive load\n",
    "* Magnetic Element protects against short circuit"
   ]
  },
  {
   "cell_type": "markdown",
   "metadata": {},
   "source": [
    "Inverse Time vs Instantaneous Time\n",
    "\n",
    "* Inverse Time Breaker\n",
    "* Instantaneous Time Breaker"
   ]
  },
  {
   "cell_type": "markdown",
   "metadata": {},
   "source": [
    "Kinds of Breaker\n",
    "\n",
    "* MCB Miniature Circuit Breaker\n",
    "* MCCB Molded-Case Circuit Breaker\n",
    "* Shunt Trip Breaker"
   ]
  },
  {
   "cell_type": "markdown",
   "metadata": {},
   "source": [
    "* AFCI Arc Fault Circuit Interruptor\n",
    "  * series arcs only\n",
    "* Combination AFCI Arc Fault Circuit Interruptor\n",
    "  * series + parallel arcs\n",
    "* GFCI Ground Fault Circuit Interruptor\n",
    "  * current transformer"
   ]
  },
  {
   "cell_type": "markdown",
   "metadata": {},
   "source": [
    "Smart Breaker vs Dumb Breaker"
   ]
  },
  {
   "cell_type": "markdown",
   "metadata": {},
   "source": [
    "#### Circuit Breaker Technology"
   ]
  },
  {
   "cell_type": "markdown",
   "metadata": {},
   "source": [
    "* pre ITE, spring-loaded switch + fuse element\n",
    "* ITE Inverse Time Element\n",
    "  * Hydraulic Shock Absorber\n",
    "  * Bimetal Steps ?\n",
    "  * Inverse Time-Current Trip Curve"
   ]
  },
  {
   "cell_type": "markdown",
   "metadata": {},
   "source": [
    "---"
   ]
  }
 ],
 "metadata": {
  "language_info": {
   "name": "python"
  }
 },
 "nbformat": 4,
 "nbformat_minor": 2
}
