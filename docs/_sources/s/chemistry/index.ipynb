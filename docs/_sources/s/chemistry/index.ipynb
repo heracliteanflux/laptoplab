{
 "cells": [
  {
   "cell_type": "markdown",
   "metadata": {},
   "source": [
    "# Chemistry"
   ]
  },
  {
   "cell_type": "markdown",
   "metadata": {},
   "source": [
    "---"
   ]
  },
  {
   "cell_type": "markdown",
   "metadata": {},
   "source": [
    "## Table of Contents\n",
    "```{contents}\n",
    "```"
   ]
  },
  {
   "cell_type": "markdown",
   "metadata": {},
   "source": [
    "---"
   ]
  },
  {
   "cell_type": "markdown",
   "metadata": {},
   "source": [
    "## Resources"
   ]
  },
  {
   "cell_type": "markdown",
   "metadata": {},
   "source": [
    "* [ [c](https://www.youtube.com/@That_Chemist) ] That Chemist"
   ]
  },
  {
   "cell_type": "markdown",
   "metadata": {},
   "source": [
    "---"
   ]
  },
  {
   "cell_type": "markdown",
   "metadata": {},
   "source": [
    "## Figures"
   ]
  },
  {
   "cell_type": "markdown",
   "metadata": {},
   "source": [
    "* [ [w](https://en.wikipedia.org/wiki/Alexis_Clairaut) ] `1713-1765` Clairaut, Alexis"
   ]
  },
  {
   "cell_type": "markdown",
   "metadata": {},
   "source": [
    "---"
   ]
  },
  {
   "cell_type": "markdown",
   "metadata": {},
   "source": [
    "## Terms"
   ]
  },
  {
   "cell_type": "markdown",
   "metadata": {},
   "source": [
    "* [ [w](https://en.wikipedia.org/wiki/Absorption_(chemistry)) ] Absorption\n",
    "* [ [w](https://en.wikipedia.org/wiki/Acetone) ] Acetone\n",
    "* [ [w](https://en.wikipedia.org/wiki/Adhesion) ] Adhesion\n",
    "* [ [w](https://en.wikipedia.org/wiki/Adsorption) ] Adsorption\n",
    "* [ [w](https://en.wikipedia.org/wiki/Alchemy) ] Alchemy\n",
    "* [ [w](https://en.wikipedia.org/wiki/Aliphatic_compound) ] Aliphatic Compound\n",
    "* [ [w](https://en.wikipedia.org/wiki/Alkaloid) ] Alkaloid\n",
    "* [ [w](https://en.wikipedia.org/wiki/Alkane) ] Alkane\n",
    "* [ [w](https://en.wikipedia.org/wiki/Amphiphile) ] Amphiphile\n",
    "* [ [w](https://en.wikipedia.org/wiki/Antifeedant) ] Antifeedant\n",
    "* [ [w](https://en.wikipedia.org/wiki/Aqueous_solution) ] Aqueous Solution\n",
    "* [ [w](https://en.wikipedia.org/wiki/Binding_energy) ] Binding Energy\n",
    "* [ [w](https://en.wikipedia.org/wiki/Biochemistry) ] Biochemistry\n",
    "* [ [w](https://en.wikipedia.org/wiki/Boiling) ] Boiling (Ebullition)\n",
    "* [ [w](https://en.wikipedia.org/wiki/Boule_(crystal)) ] Boule\n",
    "* [ [w](https://en.wikipedia.org/wiki/Capillary_action) ] Capillary Action\n",
    "* [ [w](https://en.wikipedia.org/wiki/Centrifugation) ] Centrifugation\n",
    "* [ [w](https://en.wikipedia.org/wiki/Chemical_compound) ] Chemical Compound\n",
    "* [ [w](https://en.wikipedia.org/wiki/Chemical_formula) ] Chemical Formula\n",
    "* [ [w](https://en.wikipedia.org/wiki/Chirality_(chemistry)) ] Chirality\n",
    "* [ [w](https://en.wikipedia.org/wiki/Chloroform) ] Chloroform\n",
    "* [ [w](https://en.wikipedia.org/wiki/Crystalline_silicon) ] Chrystalline Silicon\n",
    "* [ [w](https://en.wikipedia.org/wiki/Cholesterol) ] Cholesterol\n",
    "* [ [w](https://en.wikipedia.org/wiki/Cohesion_(chemistry)) ] Cohesion\n",
    "* [ [w](https://en.wikipedia.org/wiki/Colloid) ] Colloid\n",
    "* [ [w](https://en.wikipedia.org/wiki/Condensation) ] Condensation\n",
    "* [ [w](https://en.wikipedia.org/wiki/Coordination_complex) ] Coordination Complex\n",
    "* [ [w](https://en.wikipedia.org/wiki/Critical_micelle_concentration) ] Critical Micelle Concentration (CMC)\n",
    "* [ [w](https://en.wikipedia.org/wiki/Decantation) ] Decantation\n",
    "* [ [w](https://en.wikipedia.org/wiki/Chemical_decomposition) ] Decomposition\n",
    "* [ [w](https://en.wikipedia.org/wiki/Desorption) ] Desorption\n",
    "* [ [w](https://en.wikipedia.org/wiki/Diastereomer) ] Diastereomer\n",
    "* [ [w](https://en.wikipedia.org/wiki/Dispersant) ] Dispersant\n",
    "* [ [w](https://en.wikipedia.org/wiki/Distillation) ] Distillation\n",
    "* [ [w](https://en.wikipedia.org/wiki/Boiling) ] Ebullition (Boiling)\n",
    "* [ [w](https://en.wikipedia.org/wiki/Emulsion) ] Emulsion\n",
    "* [ [w](https://en.wikipedia.org/wiki/Enantiomer) ] Enantiomer\n",
    "* [ [w](https://en.wikipedia.org/wiki/Endothermic_process) ] Endothermic Process\n",
    "* [ [w](https://en.wikipedia.org/wiki/Essential_oil) ] Essential Oil\n",
    "* [ [w](https://en.wikipedia.org/wiki/Ester) ] Ester\n",
    "* [ [w](https://en.wikipedia.org/wiki/Ethyl_acetate) ] Ethyl Acetate\n",
    "* [ [w](https://en.wikipedia.org/wiki/Ethanol) ] Ethanol (Ethyl Alcohol)\n",
    "* [ [w](https://en.wikipedia.org/wiki/Evaporation) ] Evaporation\n",
    "* [ [w](https://en.wikipedia.org/wiki/Exothermic_process) ] Exothermic Process\n",
    "* [ [w](https://en.wikipedia.org/wiki/Fluorocarbon) ] Fluorocarbon\n",
    "* [ [w](https://en.wikipedia.org/wiki/Furan) ] Furan\n",
    "* [ [w](https://en.wikipedia.org/wiki/Furanolactone) ] Furanolactone\n",
    "* [ [w](https://en.wikipedia.org/wiki/Heteroatom) ] Heteroatom\n",
    "* [ [w](https://en.wikipedia.org/wiki/Heterocyclic_compound) ] Heterocyclic Compound\n",
    "* [ [w](https://en.wikipedia.org/wiki/Hexane) ] Hexane\n",
    "* [ [w](https://en.wikipedia.org/wiki/Hydrocarbon) ] Hydrocarbon\n",
    "* [ [w](https://en.wikipedia.org/wiki/Hydrogen_bond) ] Hydrogen Bond\n",
    "* [ [w](https://en.wikipedia.org/wiki/Hydrophile) ] Hydrophile\n",
    "* [ [w](https://en.wikipedia.org/wiki/Hydrophobe) ] Hydrophobicity\n",
    "* [ [w](https://en.wikipedia.org/wiki/Hygroscopy) ] Hygroscopy\n",
    "* [ [w](https://en.wikipedia.org/wiki/Intermolecular_force) ] Inter Molecular Force (IMF)\n",
    "* [ [w](https://en.wikipedia.org/wiki/Interface_and_colloid_science) ] Interface and Colloid Science\n",
    "* [ [w](https://en.wikipedia.org/wiki/Isoprene) ] Isoprene\n",
    "* [ [w](https://en.wikipedia.org/wiki/Lactone) ] Lactone\n",
    "* [ [w](https://en.wikipedia.org/wiki/Limonene) ] Limonene\n",
    "* [ [w](https://en.wikipedia.org/wiki/Limonin) ] Limonin\n",
    "* [ [w](https://en.wikipedia.org/wiki/Limonoid) ] Limonoid\n",
    "* [ [w](https://en.wikipedia.org/wiki/Liquid_crystal) ] Liquid Crystal\n",
    "* [ [w](https://en.wikipedia.org/wiki/Lyotropic_liquid_crystal) ] Lyotropic Liquid Crystal\n",
    "* [ [w](https://en.wikipedia.org/wiki/Mesophase) ] Mesophase\n",
    "* [ [w](https://en.wikipedia.org/wiki/Methyl_acetate) ] Methyl Acetate\n",
    "* [ [w](https://en.wikipedia.org/wiki/Micellar_solution) ] Micellar Solution\n",
    "* [ [w](https://en.wikipedia.org/wiki/Micelle) ] Micelle\n",
    "* [ [w](https://en.wikipedia.org/wiki/Miscibility) ] Miscibility\n",
    "* [ [w](https://en.wikipedia.org/wiki/Monoterpene) ] Monoterpene\n",
    "* [ [w](https://en.wikipedia.org/wiki/Organic_chemistry) ] Organic Chemistry\n",
    "* [ [w](https://en.wikipedia.org/wiki/Orientational_glass) ] Orientational Glass\n",
    "* [ [w](https://en.wikipedia.org/wiki/Phospholipid) ] Phospholipid\n",
    "* [ [w](https://en.wikipedia.org/wiki/Phytochemical) ] Phytochemical\n",
    "* [ [w](https://en.wikipedia.org/wiki/Plastic) ] Plastic\n",
    "* [ [w](https://en.wikipedia.org/wiki/Plastic_crystal) ] Plastic Crystal\n",
    "* [ [w](https://en.wikipedia.org/wiki/Chemical_polarity) ] Polarity\n",
    "* [ [w](https://en.wikipedia.org/wiki/Polymer) ] Polymer\n",
    "* [ [w](https://en.wikipedia.org/wiki/Precipitation_(chemistry)) ] Precipitation\n",
    "* [ [w](https://en.wikipedia.org/wiki/Racemization) ] Racemization\n",
    "* [ [w](https://en.wikipedia.org/wiki/Refrigerant) ] Refrigerant\n",
    "* [ [w](https://en.wikipedia.org/wiki/Separation_process) ] Separation\n",
    "* [ [w](https://en.wikipedia.org/wiki/Solubility) ] Solubility\n",
    "* [ [w](https://en.wikipedia.org/wiki/Solution_(chemistry)) ] Solution\n",
    "* [ [w](https://en.wikipedia.org/wiki/Solvation) ] Solvation\n",
    "* [ [w](https://en.wikipedia.org/wiki/Solvatochromism) ] Solvatochromism\n",
    "* [ [w](https://en.wikipedia.org/wiki/Solvent) ] Solvent\n",
    "* [ [w](https://en.wikipedia.org/wiki/Sorption) ] Sorption\n",
    "* [ [w](https://en.wikipedia.org/wiki/Squalene) ] Squalene\n",
    "* [ [w](https://en.wikipedia.org/wiki/Steam_distillation) ] Steam Distillation\n",
    "* [ [w](https://en.wikipedia.org/wiki/Stereochemistry) ] Stereochemistry\n",
    "* [ [w](https://en.wikipedia.org/wiki/Stereoisomerism) ] Stereoisomerism\n",
    "* [ [w](https://en.wikipedia.org/wiki/Steroid) ] Steroid\n",
    "* [ [w](https://en.wikipedia.org/wiki/Sterol) ] Sterol\n",
    "* [ [w](https://en.wikipedia.org/wiki/Supercritical_fluid) ] Super Critical Fluid (SCF)\n",
    "* [ [w](https://en.wikipedia.org/wiki/Supersaturation) ] Super Saturation\n",
    "* [ [w](https://en.wikipedia.org/wiki/Supramolecular_assembly) ] Supramolecular Assembly\n",
    "* [ [w](https://en.wikipedia.org/wiki/Supramolecular_chemistry) ] Supramolecular Chemistry\n",
    "* [ [w](https://en.wikipedia.org/wiki/Surface_science) ] Surface Science\n",
    "* [ [w](https://en.wikipedia.org/wiki/Surface_tension) ] Surface Tension\n",
    "* [ [w](https://en.wikipedia.org/wiki/Surfactant) ] Surfactant\n",
    "* [ [w](https://en.wikipedia.org/wiki/Suspension_(chemistry)) ] Suspension\n",
    "* [ [w](https://en.wikipedia.org/wiki/Chemical_synthesis) ] Synthesis\n",
    "* [ [w](https://en.wikipedia.org/wiki/Terpene) ] Terpene\n",
    "* [ [w](https://en.wikipedia.org/wiki/Tetrachloroethylene) ] Tetrachloroethylene\n",
    "* [ [w](https://en.wikipedia.org/wiki/Tetranortriterpenoid) ] Tetranortriterpenoid\n",
    "* [ [w](https://en.wikipedia.org/wiki/Toluene) ] Toluene\n",
    "* [ [w](https://en.wikipedia.org/wiki/Triterpene) ] Triterpene\n",
    "* [ [w](https://en.wikipedia.org/wiki/Turpentine) ] Turpentine\n",
    "* [ [w](https://en.wikipedia.org/wiki/Vaporization) ] Vaporization\n",
    "* [ [w](https://en.wikipedia.org/wiki/Volatile_organic_compound) ] Volatile Organic Compound (VOC)\n",
    "* [ [w](https://en.wikipedia.org/wiki/Volatility_(chemistry)) ] Volatility"
   ]
  },
  {
   "cell_type": "markdown",
   "metadata": {},
   "source": [
    "---"
   ]
  }
 ],
 "metadata": {
  "language_info": {
   "name": "python"
  }
 },
 "nbformat": 4,
 "nbformat_minor": 2
}
