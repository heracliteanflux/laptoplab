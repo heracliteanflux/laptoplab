{
 "cells": [
  {
   "cell_type": "markdown",
   "metadata": {},
   "source": [
    "# Every Day Carry"
   ]
  },
  {
   "cell_type": "markdown",
   "metadata": {},
   "source": [
    "---"
   ]
  },
  {
   "cell_type": "markdown",
   "metadata": {},
   "source": [
    "## Table of Contents\n",
    "```{contents}\n",
    "```"
   ]
  },
  {
   "cell_type": "markdown",
   "metadata": {},
   "source": [
    "---"
   ]
  },
  {
   "cell_type": "markdown",
   "metadata": {},
   "source": [
    "## Adapter"
   ]
  },
  {
   "cell_type": "markdown",
   "metadata": {},
   "source": [
    "* [ [h](https://www.ceptics.com) ] Ceptics\n",
    "* [ [h](https://www.epickatech.com) ] Epicka"
   ]
  },
  {
   "cell_type": "markdown",
   "metadata": {},
   "source": [
    "---"
   ]
  },
  {
   "cell_type": "markdown",
   "metadata": {},
   "source": [
    "## Backpack"
   ]
  },
  {
   "cell_type": "markdown",
   "metadata": {},
   "source": [
    "reddit\n",
    "* [ [r](https://www.reddit.com/r/backpacks/) ] backpacks\n",
    "* [ [r](https://www.reddit.com/r/onebag/) ] OneBag\n",
    "* [ [r](https://www.reddit.com/r/ManyBaggers/) ] ManyBaggers"
   ]
  },
  {
   "cell_type": "markdown",
   "metadata": {},
   "source": [
    "* [ [h](https://chromeindustries.com) ] Chrome Industries\n",
    "* [ [h](https://www.goruck.com) ] Goruck\n",
    "* [ [h](https://www.osprey.com) ] Osprey\n",
    "* [ [h](https://www.timbuk2.com) ] Timbuk2\n",
    "* [ [h](https://www.vanquest.com) ] Vanquest"
   ]
  },
  {
   "cell_type": "markdown",
   "metadata": {},
   "source": [
    "---"
   ]
  },
  {
   "cell_type": "markdown",
   "metadata": {},
   "source": [
    "## Coffee & Tea"
   ]
  },
  {
   "cell_type": "markdown",
   "metadata": {},
   "source": [
    "* [ [h](https://thirdwavewater.com/) ] Third Wave Water\n",
    "* [ [h](https://www.vsslgear.com/) ] VSSL"
   ]
  },
  {
   "cell_type": "markdown",
   "metadata": {},
   "source": [
    "---"
   ]
  },
  {
   "cell_type": "markdown",
   "metadata": {},
   "source": [
    "## Coins"
   ]
  },
  {
   "cell_type": "markdown",
   "metadata": {},
   "source": [
    "* [ [h](https://www.edcremindercoins.com/) ] EDC Reminder Coins\n",
    "* [ [h](https://www.etsy.com/market/edc_coin) ] Etsy\n",
    "* [ [h](https://www.shirepost.com/) ] Shire Post Mint"
   ]
  },
  {
   "cell_type": "markdown",
   "metadata": {},
   "source": [
    "---"
   ]
  },
  {
   "cell_type": "markdown",
   "metadata": {},
   "source": [
    "## Desk"
   ]
  },
  {
   "cell_type": "markdown",
   "metadata": {},
   "source": [
    "* [ [y](https://www.youtube.com/watch?v=qDYNcFzYV68) ] `01-02-2024`. Tobalog_tokyo | トバログ. \"Room Tour - Japanese 3DCG Animation Artist's Work Room and Desk\"."
   ]
  },
  {
   "cell_type": "markdown",
   "metadata": {},
   "source": [
    "---"
   ]
  },
  {
   "cell_type": "markdown",
   "metadata": {},
   "source": [
    "## Keys"
   ]
  },
  {
   "cell_type": "markdown",
   "metadata": {},
   "source": [
    "* [ [h](https://www.jibbonkey.com/) ] Jibbon\n",
    "* [ [h](https://www.orbitkey.com/) ] Orbit Key\n",
    "  * [ [star wars](https://www.orbitkey.com/collections/star-wars) ]"
   ]
  },
  {
   "cell_type": "markdown",
   "metadata": {},
   "source": [
    "---"
   ]
  },
  {
   "cell_type": "markdown",
   "metadata": {},
   "source": [
    "## Ear Plug"
   ]
  },
  {
   "cell_type": "markdown",
   "metadata": {},
   "source": [
    "---"
   ]
  },
  {
   "cell_type": "markdown",
   "metadata": {},
   "source": [
    "## Fidget"
   ]
  },
  {
   "cell_type": "markdown",
   "metadata": {},
   "source": [
    "* [ h ] Edcloong [ [instagram](https://www.instagram.com/edcloong) ]\n",
    "* [ [h](https://fablades.com/) ] Fablades\n",
    "* [ [h](https://www.fidgetthings.com/) ] FidgetThings\n",
    "* [ [h](https://lautie.com/) ] Lautie\n",
    "* [ [h](https://meta-edc.com/) ] MetaEDC\n",
    "* [ [h](https://onoroller.com/) ] Ono\n",
    "* [ [h](https://projectratchet.com/products/ratchet-ring) ] Ratchet Ring\n",
    "* [ [h](https://tigirdedc.com/) ] Tigird\n",
    "* [ h ] TomEDC [ [instagram](https://www.instagram.com/edc_tom) ]\n",
    "* [ h ] TwoEDC"
   ]
  },
  {
   "cell_type": "markdown",
   "metadata": {},
   "source": [
    "---"
   ]
  },
  {
   "cell_type": "markdown",
   "metadata": {},
   "source": [
    "## Flash Light"
   ]
  },
  {
   "cell_type": "markdown",
   "metadata": {},
   "source": [
    "Brands\n",
    "* [ [h](https://www.acebeam.com/) ] Acebeam\n",
    "  * [ [y](https://www.youtube.com/watch?v=eGqio0N71PQ) ] `01-26-2023`. FlashLight Crazy. \"Acebeam W50 Full Review - WORLDS LONGEST THROWING LEP\".\n",
    "* [ [h](https://www.coolfall.com/index.html) ] Cool Fall\n",
    "* [ h ] Jeff Hanko Machine Works [ [instagram](https://www.instagram.com/hankomachineworks) ]\n",
    "* [ [h](https://lumintop.com/) ] Lumintop\n",
    "* [ h ] Mateminco\n",
    "* [ [h](https://nebo.acgbrands.com/) ] Nebo\n",
    "* [ [h](https://www.nitecore.com/) ] Nitecore\n",
    "* [ [h](https://www.noctigon.com/) ] Noctigon\n",
    "* [ [h](https://www.olightstore.com/) ] Olight\n",
    "* [ [h](https://reylight.net/) ] ReyLight\n",
    "* [ [h](https://www.rovyvon.com/) ] RovyVon\n",
    "* [ [h](https://skylumen.com/) ] Sky Lumen\n",
    "* [ [h](https://www.streamlight.com/) ] Streamlight\n",
    "* [ [h](https://thrunite.com/) ] ThruNite\n",
    "* [ [h](https://www.wubenlight.com/) ] Wuben\n",
    "* [ [h](https://wurkkos.com/) ] Wurkkos\n",
    "* [ h ] Yitsan Tain"
   ]
  },
  {
   "cell_type": "markdown",
   "metadata": {},
   "source": [
    "resources\n",
    "* [ [h](https://www.candlepowerforums.com/) ] Candle Power Forums\n",
    "* https://www.led-resource.com/ansi-fl1-standard/"
   ]
  },
  {
   "cell_type": "markdown",
   "metadata": {},
   "source": [
    "Terms\n",
    "* [ [w](https://en.wikipedia.org/wiki/Color_rendering_index) ] Color Rendering Index (CRI)\n",
    "* [ w ] Thrower\n",
    "* [ [w](https://en.wikipedia.org/wiki/Tritium) ] Tritium\n",
    "* [ [w](https://en.wikipedia.org/wiki/Tritium_radioluminescence) ] Tritium Radioluminescence"
   ]
  },
  {
   "cell_type": "markdown",
   "metadata": {},
   "source": [
    "[ [c](https://www.youtube.com/@cheule) ] Cheule's Flashlight Reviews\n",
    "* [ [y](https://www.youtube.com/watch?v=Y8Ir2nmq-aE) ] `10-14-2023`. \"Tritium Vial installation with UV Resin\".\n",
    "* [ [y](https://www.youtube.com/watch?v=7qO9r_XD4uw) ] `07-01-2023`. \"RovyVon S21 SFT70 Handheld Search Light Full Review\".\n",
    "* [ [y](https://www.youtube.com/watch?v=815phxelTN8) ] `01-05-2023`. \"RovyVon S23 Handheld Search Light Full Review\".\n",
    "* [ [y](https://www.youtube.com/watch?v=vjTA6DeD9y8) ] `09-28-2022`. \"Debunking 5 MYTHS About Yubikey\".\n",
    "* [ [y](https://www.youtube.com/watch?v=fSf9oYJ9Xis) ] `11-15-2021`. \"FLASHLIGHTS 101: Intro to Custom High End Flashlights\".\n",
    "* [ [y](https://www.youtube.com/watch?v=nLdAZeSJSpw) ] `07-28-2021`. \"Flashlights 101: Tritium Tubes (installation and removal)\"."
   ]
  },
  {
   "cell_type": "markdown",
   "metadata": {},
   "source": [
    "### RovyVon"
   ]
  },
  {
   "cell_type": "markdown",
   "metadata": {},
   "source": [
    "E200U UV-C\n",
    "* light output\n",
    "  * 135 h @ 10 lm\n",
    "  * 8 h @ 150 lm\n",
    "  * 4 h @ 700 lm\n",
    "  * 2.8 h @ 1650 lm\n",
    "* 45 s @ 1650 lm > 2 h @ 550 lm (manual 2 h 48 m)\n",
    "* [ [y](https://www.youtube.com/watch?v=eQa6EUWOqDc) ] `01-23-2021`. Prepared Guy. \"ROVYVON Angel Eyes E200U UV-C enabled Flashlight REVIEW\"."
   ]
  },
  {
   "cell_type": "markdown",
   "metadata": {},
   "source": [
    ".                             | E200U UV-C    |\n",
    "------------------------------|---------------|\n",
    "Battery                       | 1400 mAh lipo |\n",
    "Light Output [lumen]          |               |\n",
    "Peak Beam Intensity [candela] | 2800 cd (max) |\n",
    "Beam Distance [meter]         | 102 m         |\n",
    "Runtime                       |\n",
    "Water                         | IP67\n",
    "Weight                        | 3 oz."
   ]
  },
  {
   "cell_type": "markdown",
   "metadata": {},
   "source": [
    "---"
   ]
  },
  {
   "cell_type": "markdown",
   "metadata": {},
   "source": [
    "## Knives"
   ]
  },
  {
   "cell_type": "markdown",
   "metadata": {},
   "source": [
    "* [ [h](https://www.sliceproducts.com/) ] Slice"
   ]
  },
  {
   "cell_type": "markdown",
   "metadata": {},
   "source": [
    "---"
   ]
  },
  {
   "cell_type": "markdown",
   "metadata": {},
   "source": [
    "## Lanyard"
   ]
  },
  {
   "cell_type": "markdown",
   "metadata": {},
   "source": [
    "---"
   ]
  },
  {
   "cell_type": "markdown",
   "metadata": {},
   "source": [
    "## Lock Pick"
   ]
  },
  {
   "cell_type": "markdown",
   "metadata": {},
   "source": [
    "* [ [h](https://www.lockpickworld.com/) ] Lock Pick World"
   ]
  },
  {
   "cell_type": "markdown",
   "metadata": {},
   "source": [
    "---"
   ]
  },
  {
   "cell_type": "markdown",
   "metadata": {},
   "source": [
    "## Mobile"
   ]
  },
  {
   "cell_type": "markdown",
   "metadata": {},
   "source": [
    "* [ [h](https://www.moft.us) ] Moft\n",
    "* [ [h](https://www.shopmoment.com) ] Moment"
   ]
  },
  {
   "cell_type": "markdown",
   "metadata": {},
   "source": [
    "---"
   ]
  },
  {
   "cell_type": "markdown",
   "metadata": {},
   "source": [
    "## Notebook"
   ]
  },
  {
   "cell_type": "markdown",
   "metadata": {},
   "source": [
    "* [ [y](https://www.youtube.com/watch?v=hv0s3mottd4) ] `01-13-2024`. Eric Pfohl. \"Organize your life with this pocket notebook setup\"."
   ]
  },
  {
   "cell_type": "markdown",
   "metadata": {},
   "source": [
    "---"
   ]
  },
  {
   "cell_type": "markdown",
   "metadata": {},
   "source": [
    "## Pins"
   ]
  },
  {
   "cell_type": "markdown",
   "metadata": {},
   "source": [
    "* [ [h](https://bemagicalstudio.com/) ] Be Magical Studio\n",
    "* [ [h](https://www.caitlinpeters.ca/enamel.html) ] Caitlin Peters\n",
    "  * [ [y](https://www.youtube.com/watch?v=TmBtIhSHTNE) ] `01-09-2019`. snacks please. \"My (Updated) Enamel Pin Collection | Retrospecked\".\n",
    "* [ [h](https://cosmicmermaidpins.bigcartel.com/) ] Cosmic Mermaid [ [instagram](https://www.instagram.com/cosmicmermaidpins/) ]\n",
    "* [ [h](https://www.jackalopefactory.com/category/pins) ] Jackalope Factory\n",
    "* [ [h](https://jellyultra.store) ] Jelly Ultra\n",
    "* [ [h](https://shop.joannabehar.com/collections/pins) ] Joanna Behar\n",
    "* [ [h](https://nattycat.net/collections/enamel-pins) ] Natty Cat\n",
    "* [ [h](https://northernspells.com/products/Pins-c156703874) ] Northern Spells\n",
    "* [ [h](https://linktr.ee/shoponionknight) ] Onion Knight [ [instagram](https://www.instagram.com/shoponionknight/) ]\n",
    "* [ [h](https://pokemonpin.com) ] Pokemonpin\n",
    "* [ [h](https://www.popglory.com/collections/accessories) ] Pop Glory\n",
    "* [ [h](https://shinnoyume.com/collections/enamel-pins/pokemon) ] Shinnoyume\n",
    "* [ [h](https://www.sourattitudeclub.com/category/enamel-pins) ] Sour Attitude Club\n",
    "* [ [h](https://unicorncraftsart.com/enamel-pins) ] Unicorn Crafts\n",
    "* [ [h](https://theyetee.com/collections/pins) ] The Yetee"
   ]
  },
  {
   "cell_type": "markdown",
   "metadata": {},
   "source": [
    "* https://www.youtube.com/watch?v=LCe08li275Q"
   ]
  },
  {
   "cell_type": "markdown",
   "metadata": {},
   "source": [
    "---"
   ]
  },
  {
   "cell_type": "markdown",
   "metadata": {},
   "source": [
    "## Projector"
   ]
  },
  {
   "cell_type": "markdown",
   "metadata": {},
   "source": [
    "* [ [h](https://www.benq.com/en-us/index.html) ] Benq"
   ]
  },
  {
   "cell_type": "markdown",
   "metadata": {},
   "source": [
    "---"
   ]
  },
  {
   "cell_type": "markdown",
   "metadata": {},
   "source": [
    "## Puzzle Boxes"
   ]
  },
  {
   "cell_type": "markdown",
   "metadata": {},
   "source": [
    "* [ [h](https://kubiyagames.com/) ] Kubiya Games"
   ]
  },
  {
   "cell_type": "markdown",
   "metadata": {},
   "source": [
    "---"
   ]
  },
  {
   "cell_type": "markdown",
   "metadata": {},
   "source": [
    "## Watch"
   ]
  },
  {
   "cell_type": "markdown",
   "metadata": {},
   "source": [
    "* [ [h](https://www.swatch.com/en-us/) ] Swatch"
   ]
  },
  {
   "cell_type": "markdown",
   "metadata": {},
   "source": [
    "---"
   ]
  },
  {
   "cell_type": "markdown",
   "metadata": {},
   "source": [
    "## Water"
   ]
  },
  {
   "cell_type": "markdown",
   "metadata": {},
   "source": [
    "* [ [h](https://www.camelbak.com/) ] CamelBak\n",
    "* [ [h](https://hydrapak.com/) ] HydraPak\n",
    "* [ [h](https://www.hydroflask.com/) ] Hydro Flask\n",
    "* [ [h](https://www.livelarq.com/) ] Larq\n",
    "* [ [h](https://www.memobottle.us/) ] Memobottle\n",
    "* [ [h](https://nalgene.com/) ] Nalgene"
   ]
  },
  {
   "cell_type": "markdown",
   "metadata": {},
   "source": [
    "---"
   ]
  },
  {
   "cell_type": "markdown",
   "metadata": {},
   "source": [
    "* [ [h](https://www.carryology.com/) ] Carryology\n",
    "* [ [h](https://dailycarryco.com/) ] Daily Carry Co.\n",
    "* [ [h](https://everydaycarry.com/) ] Everyday Carry\n",
    "* [ [h](https://thejamesbrand.com/) ] James Brand\n",
    "* [ [h](https://www.leatherman.com/) ] Leatherman\n",
    "* [ [h](https://www.lynchnw.com/) ] LynchNW\n",
    "* [ [h](https://www.mightyhanks.com/) ] Mighty Hanks\n",
    "* [ [h](https://www.nomatic.com/) ] Nomatic\n",
    "* [ [h](https://atwoodknives.blogspot.com/) ] Peter Atwood\n",
    "* [ [h](https://sapgear.com/) ] Stately\n",
    "* [ [h](https://urbanedcsupply.com/) ] Urban EDC"
   ]
  },
  {
   "cell_type": "markdown",
   "metadata": {},
   "source": [
    "to review\n",
    "* https://gridstudio.cc/\n",
    "* https://tribit.com/collections/speakers\n",
    "* https://www.matadorequipment.com/\n",
    "* https://www.civivi.com/collections/best-sellers\n",
    "* https://www.luckycatcollective.com/\n",
    "* https://www.coppertistwu.com/\n",
    "* coppertist\n",
    "  * https://coppertist.com/collections/other/products/snail-earrings\n",
    "  * https://coppertist.com/collections/other/products/flying-fish-pin\n",
    "  * https://coppertist.com/products/frog-pill-capsule\n",
    "  * https://coppertist.com/collections/frontpage/products/the-great-wave-off-kanagawa\n",
    "  * https://coppertist.com/collections/keyrings/products/the-great-wave-off-kanagawa-1?variant=46667791761740"
   ]
  },
  {
   "cell_type": "markdown",
   "metadata": {},
   "source": [
    "---"
   ]
  },
  {
   "cell_type": "markdown",
   "metadata": {},
   "source": [
    "## Resources"
   ]
  },
  {
   "cell_type": "markdown",
   "metadata": {},
   "source": [
    "* [ [y](https://www.youtube.com/watch?v=wW1jfIBFLp8) ] `11-25-2023`. MyLifeOutdoors. \"Gear to AVOID! And What You Should Get Instead.\"."
   ]
  },
  {
   "cell_type": "markdown",
   "metadata": {},
   "source": [
    "---"
   ]
  },
  {
   "cell_type": "markdown",
   "metadata": {},
   "source": [
    "## Terms"
   ]
  },
  {
   "cell_type": "markdown",
   "metadata": {},
   "source": [
    "* [ [w](https://en.wikipedia.org/wiki/Everyday_carry) ] Every Day Carry (EDC) [ [reddit](https://www.reddit.com/r/EDC/) ]"
   ]
  },
  {
   "cell_type": "markdown",
   "metadata": {},
   "source": [
    "---"
   ]
  }
 ],
 "metadata": {
  "language_info": {
   "name": "python"
  }
 },
 "nbformat": 4,
 "nbformat_minor": 2
}
