{
 "cells": [
  {
   "cell_type": "markdown",
   "metadata": {},
   "source": [
    "# Home Lab: Compute, Electronics, Networking"
   ]
  },
  {
   "cell_type": "markdown",
   "metadata": {},
   "source": [
    "---"
   ]
  },
  {
   "cell_type": "markdown",
   "metadata": {},
   "source": [
    "## Table of Contents\n",
    "```{contents}\n",
    "```"
   ]
  },
  {
   "cell_type": "markdown",
   "metadata": {},
   "source": [
    "---"
   ]
  },
  {
   "cell_type": "markdown",
   "metadata": {},
   "source": [
    "## Brands"
   ]
  },
  {
   "cell_type": "markdown",
   "metadata": {},
   "source": [
    "Networking Equipment\n",
    "* Environment Monitor\n",
    "* Keystone Coupler (RJ45 female to RJ45 female)\n",
    "* Keystone Module (RJ45 female to punch down)\n",
    "* Patch Cable\n",
    "* Patch Panel\n",
    "* Power Distribution Unit (PDU)\n",
    "* Rack\n",
    "* Uninterruptible Power Supply (UPS)\n",
    "\n",
    "Networking Equipment Brands\n",
    "* [ [h](https://www.alta.inc/) ][ w ] Alta Labs\n",
    "* [ h ] APC\n",
    "* [ [h](https://www.belden.com) ] Belden\n",
    "  * https://www.belden.com/products/Cable/Ethernet-Cable/Category-6A-Cable\n",
    "* [ [h](https://www.cablematters.com/) ] Cable Matters\n",
    "* [ h ][ w ] Cisco\n",
    "* [ [h](https://www.commscope.com) ] CommScope\n",
    "  * https://www.commscope.com/product-type/cables/twisted-pair-cables/category-6a-cables/\n",
    "* [ [h](https://www.cyberpowersystems.com/) ] CyberPower\n",
    "* [ [h](https://deleycon.com/) ] DelayCON\n",
    "* [ [h](https://www.dell.com/en-us/dt/networking) ][ [w](https://en.wikipedia.org/wiki/Dell_Networking) ] Dell Networking\n",
    "* [ h ] Eaton\n",
    "* [ [h](https://www.echogear.com/) ][ w ] EchoGear\n",
    "* [ [h](https://www.flexoptix.net/en) ][ w ] FlexOptics\n",
    "* [ [h](https://www.fs.com/) ] FS\n",
    "* [ [h](https://icc.com) ] ICC\n",
    "  * https://icc.com/product/cat6a-ftp-shielded-patch-panel-24-ports-1-rms\n",
    "* [ [h](https://www.monoprice.com) ] Monoprice\n",
    "* [ [h](https://patchbox.com/) ] PatchBox\n",
    "* [ [h](https://www.techtoolsupply.com) ] ToolTechSupply\n",
    "* [ [h](https://www.trendnet.com/) ] TRENDnet\n",
    "* [ [h](https://tripplite.eaton.com/) ] TrippLite\n",
    "* [ [h](https://www.truecable.com/) ] trueCABLE\n",
    "* [ h ][ w ] Ubiquiti\n",
    "* [ [h](https://www.verticalcable.com) ] Vertical Cable\n",
    "  * https://www.verticalcable.com/product-category/category-cable/cat6a-cable/cat6a-plenum/"
   ]
  },
  {
   "cell_type": "markdown",
   "metadata": {},
   "source": [
    "---"
   ]
  },
  {
   "cell_type": "markdown",
   "metadata": {},
   "source": [
    "## Tools"
   ]
  },
  {
   "cell_type": "markdown",
   "metadata": {},
   "source": [
    "* Cable Stripper\n",
    "* (Ethernet/RJ45) Cable Tester\n",
    "  * https://www.kleintools.com/catalog/cable-testers/network-cable-tester-lan-explorer-data-cable-tester-remote\n",
    "* Crimp Tool\n",
    "* USB Tester"
   ]
  },
  {
   "cell_type": "markdown",
   "metadata": {},
   "source": [
    "Electronics\n",
    "* Logic Analyzer\n",
    "* Oscilloscope\n",
    "* Waveform Generator"
   ]
  },
  {
   "cell_type": "markdown",
   "metadata": {},
   "source": [
    "---"
   ]
  },
  {
   "cell_type": "markdown",
   "metadata": {},
   "source": [
    "## Cables"
   ]
  },
  {
   "cell_type": "markdown",
   "metadata": {},
   "source": [
    "* [ [y](https://www.youtube.com/watch?v=_Lg0_2dfe0w) ] `08-01-2023`. Christian Lempa. \"My Cable Management got SO MUCH Better!\"."
   ]
  },
  {
   "cell_type": "markdown",
   "metadata": {},
   "source": [
    "---"
   ]
  },
  {
   "cell_type": "markdown",
   "metadata": {},
   "source": [
    "## CAD"
   ]
  },
  {
   "cell_type": "markdown",
   "metadata": {},
   "source": [
    "* [ [h](https://www.autodesk.com) ] Autodesk\n",
    "* [ [h](https://www.autodesk.com/products/fusion-360/overview) ] Autodesk Fusion 360\n",
    "* [ [h](https://library.io) ] Autodesk Library.io\n",
    "* [ [h](https://www.tinkercad.com) ] Autodesk TinkerCAD\n",
    "* [ [h](https://www.expresspcb.com) ] ExpressPCB\n",
    "* [ [h](https://upverter.com) ] Upverter"
   ]
  },
  {
   "cell_type": "markdown",
   "metadata": {},
   "source": [
    "---"
   ]
  },
  {
   "cell_type": "markdown",
   "metadata": {},
   "source": [
    "## Camp"
   ]
  },
  {
   "cell_type": "markdown",
   "metadata": {},
   "source": [
    "* [ [h](https://seatosummit.com/) ] Seatosummit"
   ]
  },
  {
   "cell_type": "markdown",
   "metadata": {},
   "source": [
    "---"
   ]
  },
  {
   "cell_type": "markdown",
   "metadata": {},
   "source": [
    "## Charging"
   ]
  },
  {
   "cell_type": "markdown",
   "metadata": {},
   "source": [
    "Brands\n",
    "* [ [h](https://www.anker.com/) ] Anker\n",
    "  * [ [h](https://www.anker.com/products/a2341?search_category=autofill&q=717&variant=41974288547990) ] Anker 717 Charger (140W)\n",
    "* [ [h](https://www.baseus.com/) ] Baseus\n",
    "* [ [h](https://www.belkin.com/) ] Belkin\n",
    "* [ [h](https://www.dockcase.com/) ] Dockcase\n",
    "  * https://www.pcworld.com/article/2020975/dockcase-10-in-1-usb-c-dock-review.html\n",
    "* [ [h](https://isdtshop.com) ] ISDT\n",
    "* [ [h](https://www.jackery.com/) ] Jackery\n",
    "* [ [h](https://nomadgoods.com/) ] Nomad\n",
    "* [ [h](https://plugable.com/) ] Plugable\n",
    "  * [ [product](https://plugable.com/products/usbc-vameter3) ] USB-C Voltage & Amperage Meter (240 W EPR)\n",
    "  * [ [product](https://plugable.com/products/tbt4-240w-1m) ] Thunderbolt 4 240 W EPR\n",
    "* [ [h](https://satechi.net/) ] Satechi\n",
    "* [ [h](https://sharge.com/) ] Sharge\n",
    "* [ [h](https://www.ugreen.com/) ] Ugreen\n",
    "* [ [h](https://reasonone.ai/) ] ZMI"
   ]
  },
  {
   "cell_type": "markdown",
   "metadata": {},
   "source": [
    "resources\n",
    "* [ [y](https://www.youtube.com/watch?v=WFkNCLrx96U) ] `09-30-2023`. AllThingsOnePlace. \"Anker Prime 250W 27650 mAh versus UGREEN 25k 145W Power Banks\".\n",
    "* [ [y](https://www.youtube.com/watch?v=gMIZixr7UFU) ] `12-21-2023`. The Hook Up\"Ultimate Battery Bank Comparison - AMAZING Results!\".\n",
    "* [ [y](https://www.youtube.com/watch?v=hScecDuwXLg) ] `10-29-2021`. Techquickie. \"Every Fast Charging Standard Explained\".\n",
    "* [ [a](https://www.macworld.com/article/819438/best-macbook-usb-c-charger.html) ] `10-22-2023`. Macworld. \"The best USB-C charger for your MacBook Pro or Air\"."
   ]
  },
  {
   "cell_type": "markdown",
   "metadata": {},
   "source": [
    "---"
   ]
  },
  {
   "cell_type": "markdown",
   "metadata": {},
   "source": [
    "## Cyberdeck"
   ]
  },
  {
   "cell_type": "markdown",
   "metadata": {},
   "source": [
    "* [ [y](https://www.youtube.com/watch?v=qzEd50uzdF0) ] `10-13-2023`. Ben Makes Everything. \"Framework Cyberdeck - DIY Portable PC\"."
   ]
  },
  {
   "cell_type": "markdown",
   "metadata": {},
   "source": [
    "---"
   ]
  },
  {
   "cell_type": "markdown",
   "metadata": {},
   "source": [
    "## Docks"
   ]
  },
  {
   "cell_type": "markdown",
   "metadata": {},
   "source": [
    "* [ [h](https://www.dockcase.com) ] Dockcase"
   ]
  },
  {
   "cell_type": "markdown",
   "metadata": {},
   "source": [
    "---"
   ]
  },
  {
   "cell_type": "markdown",
   "metadata": {},
   "source": [
    "## eGPUs"
   ]
  },
  {
   "cell_type": "markdown",
   "metadata": {},
   "source": [
    "---"
   ]
  },
  {
   "cell_type": "markdown",
   "metadata": {},
   "source": [
    "## Electronics"
   ]
  },
  {
   "cell_type": "markdown",
   "metadata": {},
   "source": [
    "* [ [h](https://www.adafruit.com) ] Adafruit\n",
    "* [ [h](https://www.uctronics.com) ] Uctronics"
   ]
  },
  {
   "cell_type": "markdown",
   "metadata": {},
   "source": [
    "---"
   ]
  },
  {
   "cell_type": "markdown",
   "metadata": {},
   "source": [
    "## Firewalls & Security Gateways"
   ]
  },
  {
   "cell_type": "markdown",
   "metadata": {},
   "source": [
    "* [ [h](https://firewalla.com/) ] Firewalla\n",
    "* [ [h](https://www.pfsense.org/) ] pfSense\n",
    "* [ [h](https://edge.arista.com/) ] Untangle"
   ]
  },
  {
   "cell_type": "markdown",
   "metadata": {},
   "source": [
    "---"
   ]
  },
  {
   "cell_type": "markdown",
   "metadata": {},
   "source": [
    "## IoT"
   ]
  },
  {
   "cell_type": "markdown",
   "metadata": {},
   "source": [
    "* [ [h](https://blynk.io) ] Blynk\n",
    "* [ [h](https://www.circuito.io) ] Circuit.io\n",
    "* [ [h](https://circuitpython.org) ] Circuit Python\n",
    "* [ [h](http://dweet.io) ] Dweet\n",
    "* [ [h](https://freeboard.io) ] Freeboard\n",
    "* [ [h](https://fritzing.org) ] Fritzing\n",
    "* [ [h](https://hackaday.io) ] Hackaday\n",
    "* [ [h](https://www.hackster.io) ] Hackster\n",
    "* [ [h](https://www.initialstate.com) ] Initial State\n",
    "* [ [h](https://www.instructables.com/circuits/) ] Instructibles\n",
    "* [ [h](https://www.digikey.com/en/maker) ] Maker.io\n",
    "* [ [h](https://www.mammothelectronics.com) ] Mammoth\n",
    "* [ [h](https://www.parallax.com) ] Parallax\n",
    "* [ [h](https://www.particle.io) ] Particle.io\n",
    "* [ [h](https://www.pololu.com) ] Pololu\n",
    "* [ [h](https://www.seeedstudio.com) ] Seeed Studio\n",
    "* [ [h](https://solarbotics.com) ] Solarbotics\n",
    "* [ [h](https://learn.sparkfun.com) ] SparkFun\n",
    "* [ [h](https://tinycircuits.com) ] Tiny Circuits"
   ]
  },
  {
   "cell_type": "markdown",
   "metadata": {},
   "source": [
    "Magazines\n",
    "* Embedded Computing Design [ [h](https://www.embeddedcomputing.com) ]\n",
    "* MagPi [ [h](https://magpi.raspberrypi.org) ]\n",
    "* Make [ [h](https://make.co) ]\n",
    "* Network World [ [h](https://www.networkworld.com) ]\n",
    "\n",
    "Online\n",
    "* [ [a](https://www.circuito.io/blog/best-online-electronics-stores/) ] \"14 Best Online Electronics Stores for Makers\""
   ]
  },
  {
   "cell_type": "markdown",
   "metadata": {},
   "source": [
    "---"
   ]
  },
  {
   "cell_type": "markdown",
   "metadata": {},
   "source": [
    "## Keyboard"
   ]
  },
  {
   "cell_type": "markdown",
   "metadata": {},
   "source": [
    "Terms\n",
    "* [ [w](https://en.wikipedia.org/wiki/Keyboard_technology) ] Keyboard Technology"
   ]
  },
  {
   "cell_type": "markdown",
   "metadata": {},
   "source": [
    "---"
   ]
  },
  {
   "cell_type": "markdown",
   "metadata": {},
   "source": [
    "## KVM"
   ]
  },
  {
   "cell_type": "markdown",
   "metadata": {},
   "source": [
    "Terms\n",
    "* [ [w](https://en.wikipedia.org/wiki/KVM_switch) ] Keyboard, Video, Mouse (KVM) Switch"
   ]
  },
  {
   "cell_type": "markdown",
   "metadata": {},
   "source": [
    "---"
   ]
  },
  {
   "cell_type": "markdown",
   "metadata": {},
   "source": [
    "## Logic Analyzer, Waveform Generator"
   ]
  },
  {
   "cell_type": "markdown",
   "metadata": {},
   "source": [
    "---"
   ]
  },
  {
   "cell_type": "markdown",
   "metadata": {},
   "source": [
    "## Micro Controller"
   ]
  },
  {
   "cell_type": "markdown",
   "metadata": {},
   "source": [
    "* [ [h](https://www.arduino.cc) ] Arduino\n",
    "* [ [h](https://eater.net) ] Ben Eater\n",
    "* [ [h](https://www.raspberrypi.org) ] Raspberry Pi\n",
    "* [ [h](https://www.zimaboard.com/) ] ZimaBoard"
   ]
  },
  {
   "cell_type": "markdown",
   "metadata": {},
   "source": [
    "* [ [y](https://www.youtube.com/watch?v=uJvCVw1yONQ) ] `02-13-2023`. Linus Tech Tips. \"I Can Save You Money! – Raspberry Pi Alternatives\"."
   ]
  },
  {
   "cell_type": "markdown",
   "metadata": {},
   "source": [
    "---"
   ]
  },
  {
   "cell_type": "markdown",
   "metadata": {},
   "source": [
    "## NAS"
   ]
  },
  {
   "cell_type": "markdown",
   "metadata": {},
   "source": [
    "* [ [h](https://openzfs.org/wiki/Main_Page) ][ [w](https://en.wikipedia.org/wiki/OpenZFS) ] OpenZFS\n",
    "* [ [h](https://www.qnap.com/en-us/) ][ [w](https://en.wikipedia.org/wiki/QNAP_Systems) ] QNAP\n",
    "* [ [h](https://www.synology.com/en-us) ][ w ] Synology\n",
    "* [ [h](https://www.truenas.com) ][ w ] TrueNAS\n",
    "* [ [h](https://unraid.net/) ][ w ] Unraid"
   ]
  },
  {
   "cell_type": "markdown",
   "metadata": {},
   "source": [
    "* [ [y](https://www.youtube.com/watch?v=z4CkJbUlkVM) ] `06-23-2023`. Digital Spaceport. \"UNRAID Vs TRUENAS: Which Home Server NAS Is Best?\".\n",
    "* [ [y](https://www.youtube.com/watch?v=ykhaXo6m-04) ] `02-23-2024`. Hardware Haven. \"Choosing The BEST Drive Layout For Your NAS\".\n",
    "* [ [y](https://www.youtube.com/watch?v=RZK3i6hD3VE) ] `01-31-2024`. Lawrence Systems. \"The Future of TrueNAS...\".\n",
    "* [ [y](https://www.youtube.com/watch?v=_M3UDU2GTrc) ] `12-18-2023`. Wolfgang's Channel. \"NAS vs. Home Server – What's the difference?\"."
   ]
  },
  {
   "cell_type": "markdown",
   "metadata": {},
   "source": [
    "Terms\n",
    "* [ [w](https://en.wikipedia.org/wiki/Data_striping) ] Data Striping\n",
    "* [ [w](https://en.wikipedia.org/wiki/ECC_memory) ] ECC Memory\n",
    "* [ [w](https://en.wikipedia.org/wiki/Error_correction_code) ] Error Correction Code (ECC)\n",
    "* [ [w](https://en.wikipedia.org/wiki/Non-standard_RAID_levels) ] Non Standard RAID Level\n",
    "* [ w ] RAIDZ1\n",
    "* [ w ] RAIDZ2\n",
    "* [ [w](https://en.wikipedia.org/wiki/RAID) ] Redundant Array of Inexpensive Disks (RAID)\n",
    "* [ [w](https://en.wikipedia.org/wiki/Standard_RAID_levels) ] Standard RAID Level\n",
    "* [ [w](https://en.wikipedia.org/wiki/ZFS) ] Zettabyte File System (ZFS)"
   ]
  },
  {
   "cell_type": "markdown",
   "metadata": {},
   "source": [
    "---"
   ]
  },
  {
   "cell_type": "markdown",
   "metadata": {},
   "source": [
    "## NVR"
   ]
  },
  {
   "cell_type": "markdown",
   "metadata": {},
   "source": [
    "* [ [h](https://blueirissoftware.com) ] Blue Iris\n",
    "* [ [h](https://frigate.video/) ] Frigate"
   ]
  },
  {
   "cell_type": "markdown",
   "metadata": {},
   "source": [
    "---"
   ]
  },
  {
   "cell_type": "markdown",
   "metadata": {},
   "source": [
    "## Optics"
   ]
  },
  {
   "cell_type": "markdown",
   "metadata": {},
   "source": [
    "* [ [h](https://athlonoptics.com/) ] Athlon"
   ]
  },
  {
   "cell_type": "markdown",
   "metadata": {},
   "source": [
    "---"
   ]
  },
  {
   "cell_type": "markdown",
   "metadata": {},
   "source": [
    "## Oscilloscope"
   ]
  },
  {
   "cell_type": "markdown",
   "metadata": {},
   "source": [
    "Brands\n",
    "* [ [h](https://www.hantek.com/) ] Hantek"
   ]
  },
  {
   "cell_type": "markdown",
   "metadata": {},
   "source": [
    "---"
   ]
  },
  {
   "cell_type": "markdown",
   "metadata": {},
   "source": [
    "## PCB"
   ]
  },
  {
   "cell_type": "markdown",
   "metadata": {},
   "source": [
    "* [ [y](https://www.youtube.com/watch?v=hkSad4n76Lc) ] `01-10-2024`. Cosplay Light and Sound. \"Top Fifteen Mistakes People Make When Designing Prototype PCBs\"."
   ]
  },
  {
   "cell_type": "markdown",
   "metadata": {},
   "source": [
    "---"
   ]
  },
  {
   "cell_type": "markdown",
   "metadata": {},
   "source": [
    "## Personal Cloud"
   ]
  },
  {
   "cell_type": "markdown",
   "metadata": {},
   "source": [
    "* [ [h](https://nextcloud.com) ] Nextcloud\n",
    "* [ [h](https://syncthing.net/) ] Syncthing\n",
    "  * [ [y](https://www.youtube.com/watch?v=bNiiJe8NpEw) ] `10-06-2019`. Lawrence Systems. \"Why We Use Syncthing, The Open Source Private File Syncing Tool instead of NextCloud\"."
   ]
  },
  {
   "cell_type": "markdown",
   "metadata": {},
   "source": [
    "---"
   ]
  },
  {
   "cell_type": "markdown",
   "metadata": {},
   "source": [
    "## Rack"
   ]
  },
  {
   "cell_type": "markdown",
   "metadata": {},
   "source": [
    "* [ [h](https://www.server-rack-online.com/) ] Server Rack Online\n",
    "\n",
    "Brands\n",
    "* [ [h](https://www.echogear.com/) ][ w ] EchoGear\n",
    "* [ [h](https://greatcabinets.com/) ][ w ] Great Lakes\n",
    "* [ [h](https://www.hammfg.com/dci) ][ w ] Hammond\n",
    "* [ [h](https://www.kendallhoward.com) ][ w ] Kendall Howard\n",
    "* [ [h](https://www.lowellmfg.com/) ][ w ] Lowell\n",
    "* [ [h](https://navepoint.com/) ][ w ] Navepoint\n",
    "* [ [h](https://www.racksolutions.comr) ][ w ] Rack Solutions\n",
    "* [ [h](https://www.rackstuds.com) ][ w ] Rackstuds\n",
    "* [ h ][ w ] StarTech\n",
    "* [ [h](https://sysracks.com) ][ w ] Sysracks [ [y](https://www.youtube.com/@sysracksequipment1952) ]\n",
    "* [ [h](https://tripplite.eaton.com/) ][ w ] TrippLite\n",
    "* [ [h](https://www.vcelink.com/) ][ w ] VCELink"
   ]
  },
  {
   "cell_type": "markdown",
   "metadata": {},
   "source": [
    "Terms\n",
    "* [ w ] Patch Panel\n",
    "* [ w ] Patch Cable"
   ]
  },
  {
   "cell_type": "markdown",
   "metadata": {},
   "source": [
    "to review\n",
    "* https://www.crxconec.com/en/index.html"
   ]
  },
  {
   "cell_type": "markdown",
   "metadata": {},
   "source": [
    "---"
   ]
  },
  {
   "cell_type": "markdown",
   "metadata": {},
   "source": [
    "## RFID"
   ]
  },
  {
   "cell_type": "markdown",
   "metadata": {},
   "source": [
    "* [ [h](https://proxmark.com/) ] Proxmark"
   ]
  },
  {
   "cell_type": "markdown",
   "metadata": {},
   "source": [
    "---"
   ]
  },
  {
   "cell_type": "markdown",
   "metadata": {},
   "source": [
    "## Server"
   ]
  },
  {
   "cell_type": "markdown",
   "metadata": {},
   "source": [
    "* [ [h](https://45homelab.com/) ] 45HomeLab\n",
    "* [ [h](https://www.45drives.com/) ] 45Drives\n",
    "* [ [h](https://www.seagate.com/) ] Seagate\n",
    "* [ [h](https://www.supermicro.com/) ] SuperMicro\n",
    "* [ [h](https://www.westerndigital.com/) ] Western Digital"
   ]
  },
  {
   "cell_type": "markdown",
   "metadata": {},
   "source": [
    "---"
   ]
  },
  {
   "cell_type": "markdown",
   "metadata": {},
   "source": [
    "## Smart Home"
   ]
  },
  {
   "cell_type": "markdown",
   "metadata": {},
   "source": [
    "* [ [h](https://hoobs.com/) ][ w ] Hoobs\n",
    "* [ [h](https://www.home-assistant.io) ][ w ] HomeAssistant\n",
    "* [ [h](https://www.room-assistant.io) ][ w ] RoomAssistant"
   ]
  },
  {
   "cell_type": "markdown",
   "metadata": {},
   "source": [
    "---"
   ]
  },
  {
   "cell_type": "markdown",
   "metadata": {},
   "source": [
    "## Soldering"
   ]
  },
  {
   "cell_type": "markdown",
   "metadata": {},
   "source": [
    "* [ [h](https://shop.pokitmeter.com/products/pokit-pro) ] Pokit\n",
    "* [ [link](https://pine64.com/product/pinecil-smart-mini-portable-soldering-iron/) ] PINECIL – Smart Mini Portable Soldering Iron (Version 2)\n",
    "\n",
    "YouTube\n",
    "* [ [y](https://www.youtube.com/watch?v=3jAw41LRBxU) ] `12-01-2021`. HackMakeMod. \"HOW TO SOLDER! (Beginner's Guide)\".\n",
    "\n",
    "to review\n",
    "* https://store-usa.arduino.cc/products/ts100-smart-soldering-iron"
   ]
  },
  {
   "cell_type": "markdown",
   "metadata": {},
   "source": [
    "---"
   ]
  },
  {
   "cell_type": "markdown",
   "metadata": {},
   "source": [
    "## Speed Test"
   ]
  },
  {
   "cell_type": "markdown",
   "metadata": {},
   "source": [
    "* [ [h](https://openspeedtest.com) ][ [g](https://github.com/openspeedtest/Speed-Test) ] OpenSpeedTest\n",
    "  * [ [y](https://www.youtube.com/watch?v=2u0AuNF8e_E) ] `01-20-2024`. ThisJoe. \"You Should Test Your Local Network Speed (Super Easy)\"."
   ]
  },
  {
   "cell_type": "markdown",
   "metadata": {},
   "source": [
    "---"
   ]
  },
  {
   "cell_type": "markdown",
   "metadata": {},
   "source": [
    "## SSD"
   ]
  },
  {
   "cell_type": "markdown",
   "metadata": {},
   "source": [
    "* [ [h](https://www.lacie.com/) ] LaCie"
   ]
  },
  {
   "cell_type": "markdown",
   "metadata": {},
   "source": [
    "---"
   ]
  },
  {
   "cell_type": "markdown",
   "metadata": {},
   "source": [
    "## Tech Kit"
   ]
  },
  {
   "cell_type": "markdown",
   "metadata": {},
   "source": [
    "* [ [h](https://alpakagear.com/products/elements-tech-case-max-eco-rx30) ] Alpaka\n",
    "* [ [h](https://bellroy.com/products/tech-kit) ] Bellroy\n",
    "  * https://bellroy.com/products/category/tech/tech-pouches\n",
    "  * https://packhacker.com/travel-gear/bellroy/tech-kit/\n",
    "* [ [h](https://www.peakdesign.com/products/tech-pouch) ] Peak Design"
   ]
  },
  {
   "cell_type": "markdown",
   "metadata": {},
   "source": [
    "---"
   ]
  },
  {
   "cell_type": "markdown",
   "metadata": {},
   "source": [
    "## USB"
   ]
  },
  {
   "cell_type": "markdown",
   "metadata": {},
   "source": [
    "Terms\n",
    "* HDMI\n",
    "  * HDMI 2.0\n",
    "  * HDMI 2.1\n",
    "  * HDMI 2.2\n",
    "* [ [w](https://en.wikipedia.org/wiki/DisplayPort) ] DisplayPort\n",
    "  * 2.1\n",
    "    * [ [article](https://arstechnica.com/gadgets/2022/10/all-displayport-2-0-products-are-now-displayport-2-1-vesa-says/) ] `10-17-2022`. \"All DisplayPort 2.0 products are now DisplayPort 2.1, VESA says [Updated]\".\n",
    "* [ [w](https://en.wikipedia.org/wiki/Thunderbolt_(interface)) ] Thunderbolt\n",
    "  * Thunderbolt 5\n",
    "    * Default: 80 Gbps in / 80 Gbps out (4 x 40-Gbps logical lanes)\n",
    "    * Bandwidth Boost: 40 Gbps in / 120 Gbps out\n",
    "    * [ [y](https://www.youtube.com/watch?v=LK6XFIHJQMg) ] `10-13-2023`. Techquickie. \"The Best Connector EVER? - Thunderbolt 5\".\n",
    "    * [ [article](https://arstechnica.com/gadgets/2023/09/intel-confirms-thunderbolt-5-name-120gbps-tech-arrives-in-2024/) ] \"Intel confirms Thunderbolt 5 name, 120Gbps tech arrives in 2024\".\n",
    "    * [ [article](https://arstechnica.com/gadgets/2022/10/thunderbolts-next-spec-triples-bandwidth-to-120gbps-with-a-catch/) ] \"Thunderbolt’s next spec triples bandwidth to 120Gbps—with a catch\".\n",
    "  * Thunderbolt\n",
    "    * [ [article](https://arstechnica.com/gadgets/2011/02/thunderbolt-smokes-usb-firewire-with-10gbps-throughput/) ] `02-24-2011`. \"Thunderbolt smokes USB, FireWire with 10Gbps throughput\".\n",
    "* [ [w](https://en.wikipedia.org/wiki/USB) ] Universal Serial Bus (USB)\n",
    "  * [ [y](https://www.youtube.com/watch?v=TNsvz3A4FeU) ] `08-05-2022`. Techquickie. \"Are USB Speeds A Lie?\".\n",
    "  * USB-IF\n",
    "    * [ [article](https://arstechnica.com/gadgets/2022/09/usb-if-says-goodbye-to-confusing-superspeed-usb-branding/) ] `09-30-2022`. \"USB-IF says goodbye to confusing SuperSpeed USB branding\".\n",
    "  * [ [w](https://en.wikipedia.org/wiki/USB_3.0) ] USB 3.0\n",
    "    * USB 3.1\n",
    "    * USB 3.2\n",
    "      * [ [article](https://www.cnet.com/tech/mobile/usb-3-2-explained-making-sense-of-current-and-confusing-usb-standard/) ] `03-11-2019`. CNET. \"USB 3.2 explained: Making sense of current and confusing USB standards\".\n",
    "  * [ [w](https://en.wikipedia.org/wiki/USB4) ] USB 4\n",
    "    * USB4 Version 2\n",
    "      * [ [y](https://www.youtube.com/watch?v=C6aCCp-Umcw) ] `11-30-2022`. Linus Tech Tips. \"USB4 is a Glorious Mess\".\n",
    "      * [ [y](https://www.youtube.com/watch?v=6802qJqKcZo) ] `10-22-2021`. Techquickie. \"Fast Charging at 240W With USB-C - What To Know\".\n",
    "      * [ [article](https://arstechnica.com/gadgets/2022/09/breaking-down-how-usb4-goes-where-no-usb-standard-has-gone-before/) ] `09-02-2022`. \"Breaking down how USB4 goes where no USB standard has gone before\".\n",
    "      * [ [article](https://arstechnica.com/gadgets/2022/09/usb-c-naming-to-somehow-get-worse-with-usb4-version-2-0/) ] `09-01-2022`. \"USB-C naming to somehow get worse with USB4 Version 2.0\".\n",
    "  * [ [w](https://en.wikipedia.org/wiki/USB_hardware) ] USB Hardware\n",
    "    * [ w ] Type-A\n",
    "    * [ [w](https://en.wikipedia.org/wiki/USB-C) ] Type-C\n",
    "  * [ [w](https://en.wikipedia.org/wiki/USB_hardware#USB_power_delivery) ] Power Delivery (PD)"
   ]
  },
  {
   "cell_type": "markdown",
   "metadata": {},
   "source": [
    "* 240 w PD\n",
    "* Alt Mode\n",
    "* PCIe Tunneling"
   ]
  },
  {
   "cell_type": "markdown",
   "metadata": {},
   "source": [
    "Adapters & Connectors\n",
    "* [ [w](https://en.wikipedia.org/wiki/AC_adapter) ] AC Adapter\n",
    "* [ [w](https://en.wikipedia.org/wiki/AC_power_plugs_and_sockets) ] AC Plug\n",
    "* [ [w](https://en.wikipedia.org/wiki/AC_power_plugs_and_sockets) ] AC Socket\n",
    "* [ [w](https://en.wikipedia.org/wiki/Adapter) ] Adapter\n",
    "* [ [w](https://en.wikipedia.org/wiki/Electrical_connector) ] Electrical Connector\n",
    "* [ [w](https://en.wikipedia.org/wiki/Phone_connector_(audio)) ] Phone Connector\n",
    "* [ [w](https://en.wikipedia.org/wiki/RCA) ] Radio Corporation of America (RCA)\n",
    "* [ [w](https://en.wikipedia.org/wiki/RCA_connector) ] RCA Connector"
   ]
  },
  {
   "cell_type": "markdown",
   "metadata": {},
   "source": [
    "* https://semiconductor.samsung.com/us/consumer-storage/usb-flash-drive/bar-plus/"
   ]
  },
  {
   "cell_type": "markdown",
   "metadata": {},
   "source": [
    "---"
   ]
  },
  {
   "cell_type": "markdown",
   "metadata": {},
   "source": [
    "## USB Tester"
   ]
  },
  {
   "cell_type": "markdown",
   "metadata": {},
   "source": [
    "Brands\n",
    "* [ [h](https://store.avhzy.com/) ] AVHzY\n",
    "* [ h ] Chargerlab\n",
    "  * [ [link](https://www.chargerlab.com/category/power-z/) ] Power-Z\n",
    "* [ h ] MakerHawk"
   ]
  },
  {
   "cell_type": "markdown",
   "metadata": {},
   "source": [
    "to review\n",
    "* https://hackaday.com/2023/01/01/use-usb-c-chargers-to-top-up-li-ion-packs-with-this-hack/"
   ]
  },
  {
   "cell_type": "markdown",
   "metadata": {},
   "source": [
    "* [ [y](https://www.youtube.com/watch?v=2fIOK8FH3aU) ] `05-07-2023`. BeatTheBush DIY. \"Test a USB-C Cable for Faults\".\n",
    "* [ [y](https://www.youtube.com/watch?v=pfUdO-m_6s4) ] `10-08-2022`. TechCornerTV Electronics, Projects & Tutorials. \"FNIRSI FNB58 USB Tester ⭐ USB Analyser ⭐ Voltage. Amperage & Power\"."
   ]
  },
  {
   "cell_type": "markdown",
   "metadata": {},
   "source": [
    "---"
   ]
  },
  {
   "cell_type": "markdown",
   "metadata": {},
   "source": [
    "## Wireless & WiFi"
   ]
  },
  {
   "cell_type": "markdown",
   "metadata": {},
   "source": [
    "* [ [h](https://www.ekahau.com/) ][ w ] Ekahau"
   ]
  },
  {
   "cell_type": "markdown",
   "metadata": {},
   "source": [
    "---"
   ]
  },
  {
   "cell_type": "markdown",
   "metadata": {},
   "source": [
    "## Resources"
   ]
  },
  {
   "cell_type": "markdown",
   "metadata": {},
   "source": [
    "* [ [h](https://www.ansible.com) ][ [d](https://docs.ansible.com) ] Ansible\n",
    "* [ [h](https://circuitpython.org) ][ d ] CircuitPython\n",
    "* [ [h](https://grafana.com) ][ [d](https://grafana.com/docs/) ] Grafana\n",
    "* [ [h](https://kubernetes.io) ][ [d](https://kubernetes.io/docs/home/) ] Kubernetes\n",
    "* [ [h](https://networkupstools.org/) ][ d ] Network UPS Tools (NUT)\n",
    "* [ [h](https://www.freertos.org/) ][ d ] OpenRTOS\n",
    "* [ [h](https://www.portainer.io/) ][ d ] Portainer\n",
    "* [ [h](https://prometheus.io) ][ [d](https://prometheus.io/docs/introduction/overview/) ] Prometheus\n",
    "* [ [h](https://www.proxmox.com/en/) ][ d ] Proxmox\n",
    "* [ [h](https://syncthing.net/) ][ d ] Syncthing\n",
    "* [ [h](https://tasmota.github.io/docs/) ][ d ] Tasmota\n",
    "* [ [h](https://www.hashicorp.com/products/vault) ][ [d](https://www.vaultproject.io/docs) ] Vault"
   ]
  },
  {
   "cell_type": "markdown",
   "metadata": {},
   "source": [
    "* [ [h](https://www.8bitdo.com/) ] 8BitDo\n",
    "* [ [h](https://www.adafruit.com) ] Adafruit\n",
    "* [ [h](https://eater.net) ] Ben Eater\n",
    "* [ [h](https://www.canakit.com/) ] Canakit\n",
    "* [ [h](https://coral.ai/) ] Coral\n",
    "* [ [h](https://frame.work/) ] Framework\n",
    "  * [ [y](https://www.youtube.com/watch?v=fNYZkqIn8rg) ] `02-27-2022`. Elevated Systems. \"Framework Laptop 6 Months Later. I'm Less Impressed 😐\".\n",
    "  * [ [y](https://www.youtube.com/watch?v=AV2umY3R0vw) ] `07-23-2021`. iFixit. \"Framework Laptop Teardown: 10/10, But is it Perfect?\".\n",
    "  * [ [y](https://www.youtube.com/watch?v=6UUOyGd5UkU) ] `03-26-2023`. Louis Rossmann. \"Let's talk about the framework situation, what should've been done differently, and my biases\".\n",
    "  * [ [y](https://www.youtube.com/watch?v=QmyAUIo79EU) ] `07-22-2021`. PC Mag. \"This Is How All Laptops Should Be Made!! - Framework Laptop Teardown\".\n",
    "* [ [h](https://www.ifixit.com) ] iFixit\n",
    "* [ [h](https://joy-it.net/en/) ] Joy-IT\n",
    "* [ [h](https://meshtastic.org/) ] Meshtastic\n",
    "* [ [h](https://mntre.com/) ] MNT\n",
    "  * [ [y](https://www.youtube.com/watch?v=_DA0Jr4WH-4) ] `01-09-2024`. Jeff Geerling. \"This laptop was MADE to be HACKED!\".\n",
    "* [ [h](https://pine64.com/) ] Pine\n",
    "* [ h ] Raspberry Pi\n",
    "  * [ [h](https://shop.pimoroni.com/en-us) ] Pimoroni\n",
    "  * [ [h](https://pineberrypi.com/) ] PiNEBERRY Pi\n",
    "  * https://datasheets.raspberrypi.com/hat/hat-plus-specification.pdf\n",
    "* [ [h](https://system76.com/) ] System76\n",
    "* [ [h](https://teenage.engineering/) ] Teenage Engineering"
   ]
  },
  {
   "cell_type": "markdown",
   "metadata": {},
   "source": [
    "YouTube\n",
    "* [ [y](https://www.youtube.com/c/iFixitYourself) ] iFixit\n",
    "* [ [y](https://www.youtube.com/@rossmanngroup) ] Louis Rossmann\n",
    "* Tomaž Zaman\n",
    "  * [ [y](https://www.youtube.com/watch?v=ypXMnqYnzQk) ] `11-28-2023`. \"Designing my own high-end router: the block diagram.\".\n",
    "  * [ [y](https://www.youtube.com/watch?v=UFKhprphIAA) ] `11-21-2023`. \"I'm making my own high-end router. From scratch.\".\n",
    "* Other\n",
    "  * [ [y](https://www.youtube.com/watch?v=fLKZHPOcBNY) ] `08-07-2022`. Electronics Repair Basics_ERB. \"Learn how to disassemble Any Laptop easily | How to Take Apart and Clean a laptop\".\n",
    "  * [ [y](https://www.youtube.com/watch?v=BL4DCEp7blY) ] `04-17-2022`. Linus Tech Tips. \"How to build a PC, the last guide you'll ever need!\".\n",
    "  * [ [y](https://www.youtube.com/watch?v=Zo8ifRRezsU) ] `02-24-2012`. DIY Tech. \"How to Disassemble any Laptop in Under 20 minutes - HP DV6000\".\n",
    "  * [ [y](https://www.youtube.com/watch?v=MpaAu3HVDYE) ] ``. \"HomeLab Services Tour 2024 - What Am I Self Hosting?\"."
   ]
  },
  {
   "cell_type": "markdown",
   "metadata": {},
   "source": [
    "### YouTube"
   ]
  },
  {
   "cell_type": "markdown",
   "metadata": {},
   "source": [
    "Craft Computing\n",
    "* [ [y](https://www.youtube.com/watch?v=rRXC8CzMpos) ] `01-02-2024`. \"Homelab and Server Rack Tour - 2024 Edition\".\n",
    "* [ [y](https://www.youtube.com/watch?v=TYOrf9DWKhA) ] `09-30-2023`. \"The Rules of Building Homelab Servers, and How To Break Them - ZimaBlade 7700 Overview\".\n",
    "\n",
    "Crosstalk Solutions\n",
    "* [ [y](https://www.youtube.com/watch?v=xeOOTpyLT8Y) ] `07-05-2023`. \"04 - Network Switches & Ethernet - Home Networking 101\".\n",
    "* [ [y](https://www.youtube.com/watch?v=sZ4VZJ_A2G4) ] `06-23-2023`. \"03 - Routers & Firewalls - Home Networking 101\".\n",
    "\n",
    "Hardware Haven\n",
    "* [ [y](https://www.youtube.com/watch?v=EB0pIagC6fs) ] `10-07-2023`. \"My Home Lab Is NOT What You Think It Is\".\n",
    "* [ [y](https://www.youtube.com/watch?v=_sfddZHhOj4) ] `11-07-2022`. \"My Proxmox Home Server Walk-Through: Part 1 (TrueNAS, Portainer, Wireguard)\".\n",
    "\n",
    "Lawrence Systems\n",
    "* [ [y](https://www.youtube.com/watch?v=IdQGpKcBgwo) ] `11-28-2020`. \"DIY Home Rack Build\".\n",
    "\n",
    "Mactelecom Networks\n",
    "* [ [y](https://www.youtube.com/watch?v=kFpFi2y9R6E) ] `08-13-2021`. \"Network Rack Setup And Cable Management\".\n",
    "\n",
    "Techno Tim\n",
    "* [ [y](https://www.youtube.com/watch?v=plwhD5tRsGM) ] `11-12-2022`. \"Best Server Rack for Your HomeLab? Sysracks Enclosed Rack!\".\n",
    "* [ [y](https://www.youtube.com/watch?v=Cs8yOmTJNYQ) ] `01-29-2022`. \"Self-Hosting Security Guide for your HomeLab\".\n",
    "* [ [y](https://www.youtube.com/watch?v=vyBP7wpN72c) ] `09-25-2021`. \"Network UPS Tools (NUT Server) Ultimate Guide\".\n",
    "* [ [y](https://www.youtube.com/watch?v=pAM2GBCDGTo) ] `08-15-2020`. \"Self-Hosting Your Homelab Services with SSL -- Let's Encrypt, MetalLB, Traefik, Rancher, Kubernetes\".\n",
    "\n",
    "Wolfgang's Channel\n",
    "* [ [y](https://www.youtube.com/watch?v=b-x5CsBDbzg) ] `07-07-2022`. \"Building a Homelab Server Rack!\".\n",
    "\n",
    "more\n",
    "* [ [y](https://www.youtube.com/watch?v=MalRbgfQ1uE) ] `08-18-2023`. Cameron Gray. \"I can't believe how well this worked! Soundproofing & Cooling my Home Server Rack\".\n",
    "* [ [y](https://www.youtube.com/watch?v=ivPptt3Ae5o) ] `03-27-2024`. Dave's Garage. \"Your Home Network is Exposed: Top 10 Ways to Protect it NOW!\".\n",
    "* [ [y](https://www.youtube.com/watch?v=nlC3euvNwXk) ] `06-04-2023`. Digital Spaceport. \"INSANE Homelab Networking!\".\n",
    "* [ [y](https://www.youtube.com/watch?v=x6Tk2XUJwHg) ] `06-24-2023`. The DIY Guy. \"How i Installed Network Sockets in an Old House | No More Wifi\".\n",
    "* [ [y](https://www.youtube.com/watch?v=wCiUQRziYvY) ] `07-28-2023`. EVO Tech. \"Why Is Everyone Buying These? | Why Are Mini PCs So Popular? | Mini PC Buying Guide\".\n",
    "* [ [y](https://www.youtube.com/watch?v=DhkiXS-dkBw) ] `02-18-2024`. Gadgets and Tech. \"Early 2024 Homelab, Dual ISP UniFi Network overview\".\n",
    "* [ [y](https://www.youtube.com/watch?v=Y1LZhNIJxq4) ] `03-12-2022`. PE4Doers. \"How-to Design and Configure a Home or Small Office Network\".\n",
    "* [ [y](https://www.youtube.com/watch?v=JfZuZ6zE7AI) ] `04-15-2023`. Raid Owl. \"10 Watt HA Proxmox Cluster ft. ZimaBoard\".\n",
    "* [ [y](https://www.youtube.com/watch?v=ILDAqn47usA) ] `02-06-2024`. RandomTech. \"Home Network / HomeLab Tour 2024 - Ubiquiti, Proxmox, Truenas\".\n",
    "* [ [y](https://www.youtube.com/watch?v=WAxHMc8saf8) ] `12-19-2020`. Tomas Villegas. \"Home Network Cabinet Build - Powered by UniFi\"."
   ]
  },
  {
   "cell_type": "markdown",
   "metadata": {},
   "source": [
    "---"
   ]
  },
  {
   "cell_type": "markdown",
   "metadata": {},
   "source": [
    "## Terms"
   ]
  },
  {
   "cell_type": "markdown",
   "metadata": {},
   "source": [
    "* [ w ] Cyber Deck [ [reddit](https://www.reddit.com/r/cyberDeck/) ]\n",
    "  * https://cyberdeck.cafe/\n",
    "* [ [w](https://en.wikipedia.org/wiki/Daisy_chain_(electrical_engineering)) ] Daisy Chain\n",
    "* [ [w](https://en.wikipedia.org/wiki/Bus_(computing)) ] Data Bus\n",
    "* [ w ] Electronically Marked (E-Mark)\n",
    "  * https://satechi.net/blogs/identifying-usb-c-e-mark-cables\n",
    "* [ [w](https://en.wikipedia.org/wiki/Expansion_card) ] Expansion Card\n",
    "* [ [w](https://en.wikipedia.org/wiki/Flash_memory) ] Flash Memory\n",
    "* [ [w](https://en.wikipedia.org/wiki/Flat_Display_Mounting_Interface) ] Flat Display Mounting Interface (FDMI)\n",
    "* [ w ] Home Lab [ [reddit](https://www.reddit.com/r/homelab/) ]\n",
    "* [ [w](https://en.wikipedia.org/wiki/M.2) ] M.2\n",
    "* [ [w](https://en.wikipedia.org/wiki/Non-volatile_memory) ] Non Volatile Memory (NVM)\n",
    "* [ [w](https://en.wikipedia.org/wiki/NVM_Express) ] Non Volatile Memory Express (NVMe)\n",
    "* [ [w](https://en.wikipedia.org/wiki/Peripheral_Component_Interconnect) ] Peripheral Component Interconnect (PCI)\n",
    "* [ [w](https://en.wikipedia.org/wiki/PCI_Express) ] Peripheral Component Interconnect Express (PCIe)\n",
    "* [ w ] Power Delivery (PD)\n",
    "* [ w ] Programmable Power Supply (PPS)\n",
    "* [ w ] Pulse Amplitude Modulation (PAM)\n",
    "  * PAM-2\n",
    "    * each clock cycle has one eye, or opening, providing a 0 or 1 bit\n",
    "  * PAM-3\n",
    "    * PAM-3 has two eyes per clock cycle, enabling a little bit of a higher clock rate\n",
    "* [ [w](https://en.wikipedia.org/wiki/SATA_Express) ] SATA Express\n",
    "* [ [w](https://en.wikipedia.org/wiki/SD_card) ] Secure Digital (SD)\n",
    "* [ [w](https://en.wikipedia.org/wiki/SATA) ] Serial AT Attachment (SATA)\n",
    "* [ [w](https://en.wikipedia.org/wiki/Serial_Attached_SCSI) ] Serial Attached SCSI (SAS)\n",
    "* [ [w](https://en.wikipedia.org/wiki/U.2) ] U.2\n",
    "* [ [w](https://en.wikipedia.org/wiki/Universal_Flash_Storage) ] Universal Flash Storage (UFS)\n",
    "* [ [w](https://en.wikipedia.org/wiki/Video_Electronics_Standards_Association) ] Video Electronics Standards Association (VESA)"
   ]
  },
  {
   "cell_type": "markdown",
   "metadata": {},
   "source": [
    "---"
   ]
  }
 ],
 "metadata": {
  "kernelspec": {
   "display_name": "Python 3 (ipykernel)",
   "language": "python",
   "name": "python3"
  },
  "language_info": {
   "codemirror_mode": {
    "name": "ipython",
    "version": 3
   },
   "file_extension": ".py",
   "mimetype": "text/x-python",
   "name": "python",
   "nbconvert_exporter": "python",
   "pygments_lexer": "ipython3",
   "version": "3.11.5"
  }
 },
 "nbformat": 4,
 "nbformat_minor": 4
}
