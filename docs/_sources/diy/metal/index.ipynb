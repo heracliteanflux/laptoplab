{
 "cells": [
  {
   "cell_type": "markdown",
   "metadata": {},
   "source": [
    "# Metalworking"
   ]
  },
  {
   "cell_type": "markdown",
   "metadata": {},
   "source": [
    "---"
   ]
  },
  {
   "cell_type": "markdown",
   "metadata": {},
   "source": [
    "## Table of Contents\n",
    "```{contents}\n",
    "```"
   ]
  },
  {
   "cell_type": "markdown",
   "metadata": {},
   "source": [
    "---"
   ]
  },
  {
   "cell_type": "markdown",
   "metadata": {},
   "source": [
    "## Terms"
   ]
  },
  {
   "cell_type": "markdown",
   "metadata": {},
   "source": [
    "* [ [w](https://en.wikipedia.org/wiki/Alloy) ] Alloy\n",
    "* [ [w](https://en.wikipedia.org/wiki/Blacksmith) ] Blacksmith\n",
    "* [ [w](https://en.wikipedia.org/wiki/Blast_furnace) ] Blast Furnace\n",
    "* [ [w](https://en.wikipedia.org/wiki/Brazing) ] Brazing\n",
    "* [ [w](https://en.wikipedia.org/wiki/Cast_iron) ] Cast Iron\n",
    "* [ [w](https://en.wikipedia.org/wiki/Chemical_metallurgy) ] Chemical Metallurgy\n",
    "* [ [w](https://en.wikipedia.org/wiki/Corrosion) ] Corrosion\n",
    "* [ [w](https://en.wikipedia.org/wiki/Crystallography) ] Crystallography\n",
    "* [ [w](https://en.wikipedia.org/wiki/Die_casting) ] Die Casting\n",
    "* [ [w](https://en.wikipedia.org/wiki/Drawing_(manufacturing)) ] Drawing\n",
    "* [ [w](https://en.wikipedia.org/wiki/Electrochemistry) ] Electrochemistry\n",
    "* [ [w](https://en.wikipedia.org/wiki/Electrometallurgy) ] Electrometallurgy\n",
    "* [ [w](https://en.wikipedia.org/wiki/Extractive_metallurgy) ] Extractive Metallurgy\n",
    "* [ [w](https://en.wikipedia.org/wiki/Ferrous_metallurgy) ] Ferrous Metallurgy\n",
    "* [ [w](https://en.wikipedia.org/wiki/Forging) ] Forging\n",
    "* [ [w](https://en.wikipedia.org/wiki/Gallium) ] Gallium\n",
    "* [ [w](https://en.wikipedia.org/wiki/Hydrometallurgy) ] Hydrometallurgy\n",
    "* [ [w](https://en.wikipedia.org/wiki/Intermetallic) ] Intermetallic\n",
    "* [ [w](https://en.wikipedia.org/wiki/Lustre_(mineralogy)) ] Luster\n",
    "* [ [w](https://en.wikipedia.org/wiki/Machining) ] Machining\n",
    "* [ [w](https://en.wikipedia.org/wiki/Metal) ] Metal\n",
    "* [ [w](https://en.wikipedia.org/wiki/Metallic_bonding) ] Metallic Bonding\n",
    "* [ [w](https://en.wikipedia.org/wiki/Metallurgy) ] Metallurgy\n",
    "* [ [w](https://en.wikipedia.org/wiki/Metalsmith) ] Metalsmith\n",
    "* [ [w](https://en.wikipedia.org/wiki/Metalworking) ] Metalworking\n",
    "* [ [w](https://en.wikipedia.org/wiki/Non-ferrous_extractive_metallurgy) ] Non Ferrous Extractive Metallurgy\n",
    "* [ [w](https://en.wikipedia.org/wiki/Non-ferrous_metal) ] Non Ferrous Metal\n",
    "* [ [w](https://en.wikipedia.org/wiki/Ore) ] Ore\n",
    "* [ [w](https://en.wikipedia.org/wiki/Physical_metallurgy) ] Physical Metallurgy\n",
    "* [ [w](https://en.wikipedia.org/wiki/Pyrometallurgy) ] Pyrometallurgy\n",
    "* [ [w](https://en.wikipedia.org/wiki/Smelting) ] Smelting\n",
    "* [ [w](https://en.wikipedia.org/wiki/Soldering) ] Soldering\n",
    "* [ w ] Timascus\n",
    "* [ [w](https://en.wikipedia.org/wiki/Tinsmith) ] Tinsmith\n",
    "* [ [w](https://en.wikipedia.org/wiki/Welding) ] Welding\n",
    "* [ [w](https://en.wikipedia.org/wiki/Whitesmith) ] Whitesmith\n",
    "* [ [w](https://en.wikipedia.org/wiki/Wootz_steel) ] Wootz Steel"
   ]
  },
  {
   "cell_type": "markdown",
   "metadata": {},
   "source": [
    "---"
   ]
  }
 ],
 "metadata": {
  "language_info": {
   "name": "python"
  }
 },
 "nbformat": 4,
 "nbformat_minor": 2
}
