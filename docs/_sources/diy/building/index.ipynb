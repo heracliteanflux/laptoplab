{
 "cells": [
  {
   "cell_type": "markdown",
   "metadata": {},
   "source": [
    "# Building"
   ]
  },
  {
   "cell_type": "markdown",
   "metadata": {},
   "source": [
    "---"
   ]
  },
  {
   "cell_type": "markdown",
   "metadata": {},
   "source": [
    "## Table of Contents\n",
    "```{contents}\n",
    "```"
   ]
  },
  {
   "cell_type": "markdown",
   "metadata": {},
   "source": [
    "---"
   ]
  },
  {
   "cell_type": "markdown",
   "metadata": {},
   "source": [
    "## Garage"
   ]
  },
  {
   "cell_type": "markdown",
   "metadata": {},
   "source": [
    "<br> [Chaimberlain](https://www.chamberlain.com)\n",
    "<br> [LiftMaster](https://www.liftmaster.com)\n",
    "\n",
    "<br> [Garage Door - Air & Bug Sealing](https://www.youtube.com/watch?v=h7pEGEyVBLI)\n",
    "\n",
    "<br> [ThermoTraks](https://thermotraks.com)\n",
    "<br> [Wire Hide](https://www.gowirehide.com)"
   ]
  },
  {
   "cell_type": "markdown",
   "metadata": {},
   "source": [
    "* [ [c](https://www.youtube.com/@liftmaster) ] LiftMaster\n",
    "  * [ [y](https://www.youtube.com/watch?v=NhjXcS1sgkw) ] `01-24-2022`. LiftMaster Support. \"How to Install and Connect a Next-Generation LiftMaster Belt Drive Garage Door Opener\".\n",
    "\n",
    "https://github.com/hjdhjd/homebridge-myq"
   ]
  },
  {
   "cell_type": "markdown",
   "metadata": {},
   "source": [
    "* [ [y](https://www.youtube.com/watch?v=1V8H47yK9sk) ] `06-09-2021`. Matt Risinger. \"SUPER Insulated Garage!\"."
   ]
  },
  {
   "cell_type": "markdown",
   "metadata": {},
   "source": [
    "---"
   ]
  },
  {
   "cell_type": "markdown",
   "metadata": {},
   "source": [
    "## House"
   ]
  },
  {
   "cell_type": "markdown",
   "metadata": {},
   "source": [
    "* [ [y](https://www.youtube.com/watch?v=3fP0LZMEV5w) ] `02-20-2021`. The Honest Carpenter. \"All House Framing EXPLAINED...In Just 12 MINUTES! (House Construction/Framing Members)\"."
   ]
  },
  {
   "cell_type": "markdown",
   "metadata": {},
   "source": [
    "---"
   ]
  },
  {
   "cell_type": "markdown",
   "metadata": {},
   "source": [
    "## Insulation"
   ]
  },
  {
   "cell_type": "markdown",
   "metadata": {},
   "source": [
    "* [ [w](https://en.wikipedia.org/wiki/R-value_(insulation)) ] R-Value\n",
    "\n",
    "https://www.energystar.gov/saveathome/seal_insulate/identify_problems_you_want_fix/diy_checks_inspections/insulation_r_values\n",
    "\n",
    "https://www.nachi.org/insulation-r-value.htm"
   ]
  },
  {
   "cell_type": "markdown",
   "metadata": {},
   "source": [
    "---"
   ]
  },
  {
   "cell_type": "markdown",
   "metadata": {},
   "source": [
    "## Screw Driver"
   ]
  },
  {
   "cell_type": "markdown",
   "metadata": {},
   "source": [
    "* [ [y](https://www.youtube.com/watch?v=2KLCPusFSpU) ] `01-27-2024`. LRN2DIY. \"The Most MISUNDERSTOOD Feature On Your Drill\".\n",
    "* [ [y](https://www.youtube.com/watch?v=uwoc6c4PMfU) ] `02-09-2023`. Jeff Geerling. \"It BROKE! Linus Tech Tips Screwdriver (6 months later)\".\n",
    "* [ [y](https://www.youtube.com/watch?v=l40dncKq38s) ] `09-07-2022`. Jeff Geerling. \"LTT screwdriver review: YouTuber beats Snap-On?\".\n",
    "* [ [y](https://www.youtube.com/watch?v=845HUaWYSQA) ] `09-04-2022`. Project Farm. \"Is Linus Tech Tips Screwdriver Best? LTT vs Wera, Snap On, PB Swiss, Milwaukee, MegaPro, GearWrench\".\n",
    "* [ [y](https://www.youtube.com/watch?v=-EDGjBYq6Sc) ] `07-22-2021`. Bailey Line Road. \"Reviewing the WORLD'S BEST PRECISION SCREWDRIVER SET\"."
   ]
  },
  {
   "cell_type": "markdown",
   "metadata": {},
   "source": [
    "---"
   ]
  },
  {
   "cell_type": "markdown",
   "metadata": {},
   "source": [
    "## Smart Lighting"
   ]
  },
  {
   "cell_type": "markdown",
   "metadata": {},
   "source": [
    "Philips Hue\n",
    "* [ [d](https://www.philips-hue.com/en-us/explore-hue/works-with/voice-control/apple-homekit) ] Philips Hue and Apple HomeKit\n",
    "* [ [d](https://www.philips-hue.com/en-us/explore-hue/blog/connect-hue-sync-with-apple-tv) ] How to connect Hue Sync with Apple TV"
   ]
  },
  {
   "cell_type": "markdown",
   "metadata": {},
   "source": [
    "---"
   ]
  },
  {
   "cell_type": "markdown",
   "metadata": {},
   "source": [
    "## Resources"
   ]
  },
  {
   "cell_type": "markdown",
   "metadata": {},
   "source": [
    "* [ h ] 711L\n",
    "* [ [h](https://www.kleintools.com/) ] Klein\n",
    "* [ [h](https://www.knipex.com/) ] Knipex\n",
    "  * [ [link](https://www.knipex.com/products/pipe-wrenches-and-water-pump-pliers/knipex-cobra-xs/knipex-cobra-xs/8700100) ] 87 00 100 KNIPEX Cobra® XS Water Pump Pliers\n",
    "* [ h ] LTT\n",
    "  * [ [link](https://www.lttstore.com/products/screwdriver) ] Screwdriver (ratcheting, multi bit)\n",
    "* [ [h](https://www-de.wera.de/en) ][ w ] Wera\n",
    "  * [ [link](https://www-de.wera.de/dw2017/en/kraftform_turbo) ] Kraftform Turbo"
   ]
  },
  {
   "cell_type": "markdown",
   "metadata": {},
   "source": [
    "### YouTube"
   ]
  },
  {
   "cell_type": "markdown",
   "metadata": {},
   "source": [
    "* [ [y](https://www.youtube.com/channel/UCOZR-1IqsAer9wzlvFgb4mA) ] AC Service Tech LLC\n",
    "* [ [y](https://www.youtube.com/channel/UCw1V3VC3xAzL66X4VwqaKlg) ] Everyday Home Repair\n",
    "* [ [y](https://www.youtube.com/channel/UCFCTrfb1JUJjs3Im8OZDtBw) ] Matt Risinger\n",
    "* [ [y](https://www.youtube.com/channel/UCy0tKL1T7wFoYcxCe0xjN6Q) ] Technology Connections"
   ]
  },
  {
   "cell_type": "markdown",
   "metadata": {},
   "source": [
    "[ [y](https://www.youtube.com/channel/UCnorhjQR4zJkT7AVNhu395Q) ] Home RenoVision DIY\n",
    "* [ [y](https://www.youtube.com/watch?v=dCvHilRUP4Q) ] `02-25-2023`. \"Soundproofing A Room (It's Easier Than You Think)\".\n",
    "* [ [y](https://www.youtube.com/watch?v=bm9BRKiYTyU) ] `01-22-2022`. \"Building Science! Does It Even Work?\"."
   ]
  },
  {
   "cell_type": "markdown",
   "metadata": {},
   "source": [
    "more\n",
    "* [ [y](https://www.youtube.com/watch?v=6nN8sFOXGFM) ] `03-02-2024`. Adam Savage’s Tested. \"Tips and Must-Have Tools for Small Shops\".\n",
    "* [ [y](https://www.youtube.com/watch?v=r3spFKHCBkg) ] `01-31-2024`. Silver Cymbal. \"Reekon T1 Tomahawk Has Some Problems\".\n",
    "* [ [y](https://www.youtube.com/watch?v=VOkSFZuP3qs) ] `12-01-2023`. Todd Parker. \"Tools I wish I bought years ago: My toolkit v2\".\n",
    "* [ [y](https://www.youtube.com/watch?v=4Of_dd6J-xY) ] `12-16-2022`. Todd Parker. \"No more junk tools! Compact Veto toolkit with Wera, Knipex, Milwaukee to tackle most projects\".\n",
    "* [ [y](https://www.youtube.com/watch?v=hC5STZaQ3CE) ] `10-23-2023`. Tomas McGuinness. \"Building a boiler F.A.R.T. sensor using ESPHome\"."
   ]
  },
  {
   "cell_type": "markdown",
   "metadata": {},
   "source": [
    "---"
   ]
  }
 ],
 "metadata": {
  "kernelspec": {
   "display_name": "Python 3 (ipykernel)",
   "language": "python",
   "name": "python3"
  },
  "language_info": {
   "codemirror_mode": {
    "name": "ipython",
    "version": 3
   },
   "file_extension": ".py",
   "mimetype": "text/x-python",
   "name": "python",
   "nbconvert_exporter": "python",
   "pygments_lexer": "ipython3",
   "version": "3.11.5"
  }
 },
 "nbformat": 4,
 "nbformat_minor": 4
}
