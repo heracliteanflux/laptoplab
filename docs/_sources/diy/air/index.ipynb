{
 "cells": [
  {
   "cell_type": "markdown",
   "metadata": {},
   "source": [
    "# Air Quality"
   ]
  },
  {
   "cell_type": "markdown",
   "metadata": {},
   "source": [
    "---"
   ]
  },
  {
   "cell_type": "markdown",
   "metadata": {},
   "source": [
    "## Table of Contents\n",
    "```{contents}\n",
    "```"
   ]
  },
  {
   "cell_type": "markdown",
   "metadata": {},
   "source": [
    "---"
   ]
  },
  {
   "cell_type": "markdown",
   "metadata": {},
   "source": [
    "## HVAC"
   ]
  },
  {
   "cell_type": "markdown",
   "metadata": {},
   "source": [
    "---"
   ]
  },
  {
   "cell_type": "markdown",
   "metadata": {},
   "source": [
    "## Indoor Air Quality"
   ]
  },
  {
   "cell_type": "markdown",
   "metadata": {},
   "source": [
    "### Resources"
   ]
  },
  {
   "cell_type": "markdown",
   "metadata": {},
   "source": [
    "Brands\n",
    "* [ [h](https://www.airgradient.com/) ] AirGradient\n",
    "* [ [h](https://en.air-q.com/) ] airQ\n",
    "* [ [h](https://atmotube.com/) ] Atmotube\n",
    "* [ [h](https://getuhoo.com/) ] uHoo\n",
    "\n",
    "resources\n",
    "* https://breathesafeair.com/"
   ]
  },
  {
   "cell_type": "markdown",
   "metadata": {},
   "source": [
    "---"
   ]
  },
  {
   "cell_type": "markdown",
   "metadata": {},
   "source": [
    "## Terms"
   ]
  },
  {
   "cell_type": "markdown",
   "metadata": {},
   "source": [
    "* [ [w](https://en.wikipedia.org/wiki/Actuator) ] Actuator\n",
    "* [ [w](https://en.wikipedia.org/wiki/Air_conditioning) ] Air Conditioning (AC)\n",
    "* [ [w](https://en.wikipedia.org/wiki/Density_of_air) ] Air Density\n",
    "* [ [w](https://en.wikipedia.org/wiki/Air_filter) ] Air Filter\n",
    "* [ [w](https://en.wikipedia.org/wiki/Air_handler) ] Air Handler\n",
    "* [ [w](https://en.wikipedia.org/wiki/Airflow) ] Airflow\n",
    "* [ [w](https://en.wikipedia.org/wiki/Altitude) ] Altitude\n",
    "* [ [w](https://en.wikipedia.org/wiki/Atmospheric_pressure) ] Atmospheric Pressure\n",
    "* [ [w](https://en.wikipedia.org/wiki/Carbon_monoxide) ] Carbon Monoxide (CO)\n",
    "* [ [w](https://en.wikipedia.org/wiki/Cascade_refrigeration) ] Cascade Refrigeration\n",
    "* [ [w](https://en.wikipedia.org/wiki/Central_heating) ] Central Heating\n",
    "* [ [w](https://en.wikipedia.org/wiki/Centrifugal_fan) ] Centrifugal Fan\n",
    "* [ [w](https://en.wikipedia.org/wiki/Compressor) ] Compressor\n",
    "* [ [w](https://en.wikipedia.org/wiki/Condenser_(heat_transfer)) ] Condenser\n",
    "* [ [w](https://en.wikipedia.org/wiki/Constant_air_volume) ] Constant Air Volumne (CAV)\n",
    "* [ [w](https://en.wikipedia.org/wiki/Cross_ventilation) ] Cross Ventilation\n",
    "* [ [w](https://en.wikipedia.org/wiki/Damp_proofing) ] Damp Proofing\n",
    "* [ [w](https://en.wikipedia.org/wiki/Damper_(flow)) ] Damper\n",
    "* [ [w](https://en.wikipedia.org/wiki/Duct_(flow)) ] Duct\n",
    "* [ [w](https://en.wikipedia.org/wiki/Ducted_fan) ] Ducted Fan\n",
    "* [ [w](https://en.wikipedia.org/wiki/Electric_heating) ] Electric Heating\n",
    "* [ [w](https://en.wikipedia.org/wiki/Electrical_resistance_and_conductance) ] Electric Resistance\n",
    "* [ [w](https://en.wikipedia.org/wiki/Evaporative_cooler) ] Evaporative Cooler\n",
    "* [ [w](https://en.wikipedia.org/wiki/Evaporator) ] Evaporator\n",
    "* [ [w](https://en.wikipedia.org/wiki/Flue) ] Flue\n",
    "* [ [w](https://en.wikipedia.org/wiki/Fuel_oil) ] Fuel Oil\n",
    "* [ [w](https://en.wikipedia.org/wiki/Furnace_(house_heating)) ] Furnace\n",
    "* [ [w](https://en.wikipedia.org/wiki/Grille_(architecture)) ] Grill\n",
    "* [ [w](https://en.wikipedia.org/wiki/Heat_exchanger) ] Heat Exchanger\n",
    "* [ [w](https://en.wikipedia.org/wiki/Heat_pump) ] Heat Pump\n",
    "* [ [w](https://en.wikipedia.org/wiki/Heat_pump_and_refrigeration_cycle) ] Heat Pump Cycle\n",
    "* [ [w](https://en.wikipedia.org/wiki/Heat_recovery_ventilation) ] Heat Recovery Ventilation (HRV)\n",
    "* [ [w](https://en.wikipedia.org/wiki/Humidistat) ] Humidistat/Hygrostat\n",
    "* [ [w](https://en.wikipedia.org/wiki/Humidity) ] Humidity\n",
    "* [ [w](https://en.wikipedia.org/wiki/Heating,_ventilation,_and_air_conditioning) ] Heating, Ventilation, and Air Conditioning (HVAC)\n",
    "* [ [w](https://en.wikipedia.org/wiki/Hydronics) ] Hydronics\n",
    "* [ [w](https://en.wikipedia.org/wiki/Hygrometer) ] Hygrometer\n",
    "* [ [w](https://en.wikipedia.org/wiki/Psychrometrics) ] Hygrometrics\n",
    "* [ [w](https://en.wikipedia.org/wiki/Indoor_air_quality) ] Indoor Air Quality (IAQ)\n",
    "* [ [w](https://en.wikipedia.org/wiki/Green_building#Indoor_environmental_quality_enhancement) ] Indoor Environmental Quality (IEQ)\n",
    "* [ [w](https://en.wikipedia.org/wiki/Infiltration_(HVAC)) ] Infiltration\n",
    "* [ [w](https://en.wikipedia.org/wiki/Liquefied_petroleum_gas) ] Liguified Petroleum Gas (LPG)\n",
    "* [ [w](https://en.wikipedia.org/wiki/Natural_gas) ] Natural Gas\n",
    "* [ [w](https://en.wikipedia.org/wiki/Ozone) ] Ozone ($\\text{O}_3$)\n",
    "* [ [w](https://en.wikipedia.org/wiki/Particulates) ] Particulate Matter (PM)\n",
    "* [ [w](https://en.wikipedia.org/wiki/Passive_cooling) ] Passive Cooling\n",
    "* [ [w](https://en.wikipedia.org/wiki/Passive_ventilation) ] Passive Ventilation\n",
    "* [ [w](https://en.wikipedia.org/wiki/Pneumatics) ] Pneumatics\n",
    "* [ [w](https://en.wikipedia.org/wiki/Polyvinyl_chloride) ] Polyvinyl Chloride (PVC)\n",
    "* [ [w](https://en.wikipedia.org/wiki/Hygrometer#Psychrometer_(wet-and-dry-bulb_thermometer)) ] Psychrometer\n",
    "* [ [w](https://en.wikipedia.org/wiki/Psychrometrics) ] Psychrometrics\n",
    "* [ [w](https://en.wikipedia.org/wiki/Psychrometrics) ] Psychrometry\n",
    "* [ [w](https://en.wikipedia.org/wiki/Radiant_heating_and_cooling) ] Radiant Heating and Cooling\n",
    "* [ [w](https://en.wikipedia.org/wiki/Radiator) ] Radiator\n",
    "* [ [w](https://en.wikipedia.org/wiki/Refrigeration) ] Refrigeration\n",
    "* [ [w](https://en.wikipedia.org/wiki/Heat_pump_and_refrigeration_cycle) ] Refrigeration Cycle\n",
    "* [ [w](https://en.wikipedia.org/wiki/Refrigerator) ] Refrigerator\n",
    "* [ [w](https://en.wikipedia.org/wiki/Register_(air_and_heating)) ] Register\n",
    "* [ [w](https://en.wikipedia.org/wiki/Humidity#Relative_humidity) ] Relative Humidity\n",
    "* [ [w](https://en.wikipedia.org/wiki/Smart_thermostat) ] Smart Thermostat\n",
    "* [ [w](https://en.wikipedia.org/wiki/Space_heater) ] Space Heating\n",
    "* [ [w](https://en.wikipedia.org/wiki/Stack_effect) ] Stack Effect\n",
    "* [ [w](https://en.wikipedia.org/wiki/Sulfur_dioxide) ] Sulfur Dioxide ($\\text{SO}_2$)\n",
    "* [ [w](https://en.wikipedia.org/wiki/Thermal_comfort) ] Thermal Comfort\n",
    "* [ [w](https://en.wikipedia.org/wiki/Thermal_efficiency) ] Thermal Efficiency\n",
    "* [ [w](https://en.wikipedia.org/wiki/Thermostat) ] Thermostat\n",
    "* [ [w](https://en.wikipedia.org/wiki/Temperature) ] Temperature\n",
    "* [ [w](https://en.wikipedia.org/wiki/Vapor-compression_refrigeration) ] Vapor-Compression Refrigeration\n",
    "* [ [w](https://en.wikipedia.org/wiki/Vapor_barrier) ] Vapor Barrier\n",
    "* [ [w](https://en.wikipedia.org/wiki/Variable_air_volume) ] Variable Air Volume (VAV)\n",
    "* [ [w](https://en.wikipedia.org/wiki/Ventilation_(architecture)) ] Ventilation\n",
    "* [ [w](https://en.wikipedia.org/wiki/Ventilative_cooling) ] Ventilative Cooling\n",
    "* [ [w](https://en.wikipedia.org/wiki/Volatile_organic_compound) ] Volatile Organic Compound (VOC)"
   ]
  },
  {
   "cell_type": "markdown",
   "metadata": {},
   "source": [
    "---"
   ]
  }
 ],
 "metadata": {
  "language_info": {
   "name": "python"
  }
 },
 "nbformat": 4,
 "nbformat_minor": 2
}
