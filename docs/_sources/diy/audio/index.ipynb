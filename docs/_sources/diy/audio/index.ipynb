{
 "cells": [
  {
   "cell_type": "markdown",
   "metadata": {},
   "source": [
    "# Audio"
   ]
  },
  {
   "cell_type": "markdown",
   "metadata": {},
   "source": [
    "---"
   ]
  },
  {
   "cell_type": "markdown",
   "metadata": {},
   "source": [
    "## Table of Contents\n",
    "```{contents}\n",
    "```"
   ]
  },
  {
   "cell_type": "markdown",
   "metadata": {},
   "source": [
    "---"
   ]
  },
  {
   "cell_type": "markdown",
   "metadata": {},
   "source": [
    "## Resources"
   ]
  },
  {
   "cell_type": "markdown",
   "metadata": {},
   "source": [
    "DAC\n",
    "* [ [h](https://www.audioquest.com/) ] AudioQuest\n",
    "* [ [h](https://bloomaudio.com/) ] Bloom Audio\n",
    "* [ [h](https://chordelectronics.co.uk/) ] Chord\n",
    "* [ [h](https://dcsaudio.com/) ] dCS\n",
    "* [ [h](https://ifi-audio.com/) ] iFi Audio\n",
    "* [ [h](https://questyleshop.com) ] Questyle\n",
    "  * Questyle M15 Headphone Amplifier Portable USB DAC with 4.4mm and 3.5mm Outputs High Resolution Lossless for Smartphones/PC/Laptops"
   ]
  },
  {
   "cell_type": "markdown",
   "metadata": {},
   "source": [
    "Digital Audio\n",
    "* [ [h](https://bandcamp.com/) ] Bandcamp\n",
    "* [ [h](https://bleep.com/) ] Bleep\n",
    "* [ [h](https://www.apple.com/itunes/) ] iTunes\n",
    "* [ [h](https://www.pandora.com/) ] Pandora\n",
    "* [ [h](https://www.qobuz.com/) ] Qobuz\n",
    "* [ [h](https://soundcloud.com/) ] Soundcloud\n",
    "* [ [h](https://open.spotify.com/) ] Spotify\n",
    "\n",
    "https://www.soundguys.com/how-to-build-local-digital-music-library-68789/\n",
    "\n",
    "https://www.reddit.com/r/LetsTalkMusic/comments/742u40/what_is_the_best_and_cheapest_way_to_own_music/"
   ]
  },
  {
   "cell_type": "markdown",
   "metadata": {},
   "source": [
    "### YouTube"
   ]
  },
  {
   "cell_type": "markdown",
   "metadata": {},
   "source": [
    "* [ [y](https://www.youtube.com/watch?v=qgHYcfZDsM8) ] `05-04-2023`. Audio University. \"The Biggest Mistake Beginners Make When Buying An Audio Interface\"."
   ]
  },
  {
   "cell_type": "markdown",
   "metadata": {},
   "source": [
    "---"
   ]
  },
  {
   "cell_type": "markdown",
   "metadata": {},
   "source": [
    "## Terms"
   ]
  },
  {
   "cell_type": "markdown",
   "metadata": {},
   "source": [
    "* [ [w](https://en.wikipedia.org/wiki/Audiophile) ] Audiophile\n",
    "* [ [w](https://en.wikipedia.org/wiki/Digital-to-analog_converter) ] Digital to Analog (DAC) Converter\n",
    "* [ [w](https://en.wikipedia.org/wiki/DIY_audio) ] DIY Audio\n",
    "* [ [w](https://en.wikipedia.org/wiki/High-end_audio) ] High-End Audio\n",
    "* [ [w](https://en.wikipedia.org/wiki/High_fidelity) ] High Fidelity (HiFi)\n",
    "* [ [w](https://en.wikipedia.org/wiki/Home_audio) ] Home Audio\n",
    "* [ [w](https://en.wikipedia.org/wiki/Lo-fi_music) ] Lo-Fi"
   ]
  },
  {
   "cell_type": "markdown",
   "metadata": {},
   "source": [
    "---"
   ]
  },
  {
   "cell_type": "markdown",
   "metadata": {},
   "source": [
    "Audio (ANC Active Noise Cancellation; True Wireless)\n",
    "<br> Sony WF-1000XM4\n",
    "  <br> &nbsp;&nbsp;&nbsp;&nbsp; Bluetooth 5.2; AAC, SBC, LDAC Bluetooth codecs\n",
    "  <br> &nbsp;&nbsp;&nbsp;&nbsp; IPX4\n",
    "\n",
    "<br> Sony WH-1000XM3\n",
    "  <br> &nbsp;&nbsp;&nbsp;&nbsp; LDAC, aptX, & aptX HD\n",
    "  <br> &nbsp;&nbsp;&nbsp;&nbsp; DSEE Digital Sound Enhancement Engine HX upscaling\n",
    "<br> Sony WH-1000XM4\n",
    "  <br> &nbsp;&nbsp;&nbsp;&nbsp; Multipoint Pairing\n",
    "  <br> &nbsp;&nbsp;&nbsp;&nbsp; DSEE Extreme upscaling\n",
    "\n",
    "\n",
    "<br> DAC Digital-to-Analog Converter\n",
    "  <br> &nbsp;&nbsp;&nbsp;&nbsp; iFi xDSD https://ifi-audio.com/\n",
    "  <br> &nbsp;&nbsp;&nbsp;&nbsp; Chord Mojo https://chordelectronics.co.uk/\n",
    "<br> AAC audio codec\n",
    "<br> aptX/aptX HD, Bluetooth 5.2\n",
    "<br> LDAC codec (990 kbps bitrate)\n",
    "<br> Dolby Atmos 5/1, 7.1 Surround Sound\n",
    "\n",
    "<br> AIFF\n",
    "<br> CD Compact Disc (1411 kbps bitrate)\n",
    "<br> MP3 (320 kbps bitrate)\n",
    "<br> OGG\n",
    "<br> PCM\n",
    "\n",
    "<br> HRA Hi-Res Audio / Hi-Fi\n",
    "  <br> &nbsp;&nbsp;&nbsp;&nbsp; 24-bit/192 kHz (9216 kbps)\n",
    "\n",
    "  <br> &nbsp;&nbsp;&nbsp;&nbsp; ALAC Apple Lossless Audio Codec\n",
    "  <br> &nbsp;&nbsp;&nbsp;&nbsp; APE\n",
    "  <br> &nbsp;&nbsp;&nbsp;&nbsp; DSD Direct Stream Digital\n",
    "  <br> &nbsp;&nbsp;&nbsp;&nbsp; FLAC Free Lossless Audio Codec\n",
    "  <br> &nbsp;&nbsp;&nbsp;&nbsp; MQA Master Quality Authenticated\n",
    "  <br> &nbsp;&nbsp;&nbsp;&nbsp; WAV\n",
    "<br> Nyquist-Shannon Theorem\n",
    "<br> https://www.reddit.com/r/AppleMusic/comments/nus3gv/a_guide_to_lossless_dolby_atmos_and_spatial_audio/\n",
    "<br> http://abx.digitalfeed.net/itunes.html"
   ]
  }
 ],
 "metadata": {
  "language_info": {
   "name": "python"
  }
 },
 "nbformat": 4,
 "nbformat_minor": 2
}
