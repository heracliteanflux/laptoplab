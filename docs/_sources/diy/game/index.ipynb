{
 "cells": [
  {
   "cell_type": "markdown",
   "metadata": {},
   "source": [
    "# Gaming"
   ]
  },
  {
   "cell_type": "markdown",
   "metadata": {},
   "source": [
    "---"
   ]
  },
  {
   "cell_type": "markdown",
   "metadata": {},
   "source": [
    "## Table of Contents\n",
    "```{contents}\n",
    "```"
   ]
  },
  {
   "cell_type": "markdown",
   "metadata": {},
   "source": [
    "---"
   ]
  },
  {
   "cell_type": "markdown",
   "metadata": {},
   "source": [
    "* [ w ] Legend of Zelda\n",
    "  * [ [w](https://en.wikipedia.org/wiki/The_Legend_of_Zelda:_Breath_of_the_Wild) ] Breath of the Wild\n",
    "  * [ [w](https://en.wikipedia.org/wiki/The_Legend_of_Zelda:_Tears_of_the_Kingdom) ] Tears of the Kingdom\n",
    "* [ w ] Mario\n",
    "  * [ [w](https://en.wikipedia.org/wiki/Luigi%27s_Mansion) ] Luigi's Mansion\n",
    "* [ [w](https://en.wikipedia.org/wiki/Metroid) ] Metroid\n",
    "* [ [w](https://en.wikipedia.org/wiki/Pac-Man) ] Pac Man\n",
    "* [ [w](https://en.wikipedia.org/wiki/Rayman) ] Rayman\n",
    "  * [ [w](https://en.wikipedia.org/wiki/Rayman_Legends) ] Rayman Legends"
   ]
  },
  {
   "cell_type": "markdown",
   "metadata": {},
   "source": [
    "---"
   ]
  },
  {
   "cell_type": "markdown",
   "metadata": {},
   "source": [
    "## Resources"
   ]
  },
  {
   "cell_type": "markdown",
   "metadata": {},
   "source": [
    "* [ [h](https://www.gamesir.hk/) ] GameSir\n",
    "* [ [h](https://itch.io/) ] itch.io\n",
    "* [ [h](https://play.date/) ] Playdate\n",
    "* [ [h](https://www.clockworkpi.com/uconsole) ] uConsole"
   ]
  },
  {
   "cell_type": "markdown",
   "metadata": {},
   "source": [
    "### YouTube"
   ]
  },
  {
   "cell_type": "markdown",
   "metadata": {},
   "source": [
    "* [ [y](https://www.youtube.com/watch?v=YGhdZs7zlSk) ] `12-06-2022`. CowFoodYum. \"The Perfect Remake | HeartGold and SoulSilver\".\n",
    "* [ [y](https://www.youtube.com/watch?v=x2d1mEXw6yk) ] `10-14-2018`. Double Dog. \"The Story of Pokemon Gold and Silver (Complete Series)\".\n",
    "* [ [y](https://www.youtube.com/watch?v=tI2ZMpXLx9A) ] `11-28-2022`. You Just Bought A. \"You Just Bought A Nintendo Switch: User Guide\"."
   ]
  },
  {
   "cell_type": "markdown",
   "metadata": {},
   "source": [
    "---"
   ]
  }
 ],
 "metadata": {
  "language_info": {
   "name": "python"
  }
 },
 "nbformat": 4,
 "nbformat_minor": 2
}
