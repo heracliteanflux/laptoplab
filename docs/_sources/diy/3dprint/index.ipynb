{
 "cells": [
  {
   "cell_type": "markdown",
   "metadata": {},
   "source": [
    "# 3D Printing"
   ]
  },
  {
   "cell_type": "markdown",
   "metadata": {},
   "source": [
    "---"
   ]
  },
  {
   "cell_type": "markdown",
   "metadata": {},
   "source": [
    "## Table of Contents\n",
    "```{contents}\n",
    "```"
   ]
  },
  {
   "cell_type": "markdown",
   "metadata": {},
   "source": [
    "---"
   ]
  },
  {
   "cell_type": "markdown",
   "metadata": {},
   "source": [
    "## Resources"
   ]
  },
  {
   "cell_type": "markdown",
   "metadata": {},
   "source": [
    "* [ [h](https://store.anycubic.com/) ] Anycubic [ [reddit](https://www.reddit.com/r/AnycubicPhoton/) ]\n",
    "  * https://store.anycubic.com/products/photon-mono-resin-3d-printer"
   ]
  },
  {
   "cell_type": "markdown",
   "metadata": {},
   "source": [
    "* [ [h](https://www.hubs.com) ] Hubs\n",
    "* [ [h](https://www.onshape.com/en/) ] Onshape\n",
    "* [ [h](https://www.shapeways.com) ] Shapeways\n",
    "* [ [h](https://www.thingiverse.com) ] Thingiverse"
   ]
  },
  {
   "cell_type": "markdown",
   "metadata": {},
   "source": [
    "---"
   ]
  },
  {
   "cell_type": "markdown",
   "metadata": {},
   "source": [
    "## Terms"
   ]
  },
  {
   "cell_type": "markdown",
   "metadata": {},
   "source": [
    "* [ [w](https://en.wikipedia.org/wiki/3D_printing) ] 3D Printing\n",
    "* [ [w](https://en.wikipedia.org/wiki/3D_printing) ] Additive Manufacturing\n",
    "* [ [w](https://en.wikipedia.org/wiki/Ductility) ] Ductility\n",
    "* [ [w](https://en.wikipedia.org/wiki/Machining) ] Machining\n",
    "* [ [w](https://en.wikipedia.org/wiki/Machining) ] Subtractive Manufacturing"
   ]
  },
  {
   "cell_type": "markdown",
   "metadata": {},
   "source": [
    "---"
   ]
  }
 ],
 "metadata": {
  "kernelspec": {
   "display_name": "Python 3.10.8 64-bit",
   "language": "python",
   "name": "python3"
  },
  "language_info": {
   "name": "python",
   "version": "3.10.8"
  },
  "orig_nbformat": 4,
  "vscode": {
   "interpreter": {
    "hash": "b0fa6594d8f4cbf19f97940f81e996739fb7646882a419484c72d19e05852a7e"
   }
  }
 },
 "nbformat": 4,
 "nbformat_minor": 2
}
